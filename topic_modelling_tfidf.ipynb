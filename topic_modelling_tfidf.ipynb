{
  "nbformat": 4,
  "nbformat_minor": 0,
  "metadata": {
    "colab": {
      "name": "topic_modelling_tfidf_new.ipynb",
      "provenance": [],
      "collapsed_sections": [],
      "toc_visible": true
    },
    "kernelspec": {
      "name": "python3",
      "display_name": "Python 3"
    }
  },
  "cells": [
    {
      "cell_type": "code",
      "metadata": {
        "id": "rnUQEhlYlSop",
        "colab_type": "code",
        "colab": {}
      },
      "source": [
        "import json\n",
        "import requests\n",
        "import urllib"
      ],
      "execution_count": 0,
      "outputs": []
    },
    {
      "cell_type": "markdown",
      "metadata": {
        "id": "55Sx9PpMlfi9",
        "colab_type": "text"
      },
      "source": [
        "# 0. Preliminary step to get sample data"
      ]
    },
    {
      "cell_type": "markdown",
      "metadata": {
        "id": "e70aZK95ljy8",
        "colab_type": "text"
      },
      "source": [
        "This preliminary step is reproducing Lorella's workflow Python file:\n",
        "https://i-lab.public.data.uu.nl/vault-ocex/ChroniclItaly%20-%20Italian%20American%20newspapers%20corpus%20from%201898%20to%201920%5B1529330521%5D/original/\n",
        "I just added a folder \"data_1\" to keep all files in one folder"
      ]
    },
    {
      "cell_type": "code",
      "metadata": {
        "id": "hMawWlfIlbGm",
        "colab_type": "code",
        "colab": {}
      },
      "source": [
        "mkdir 'data1'"
      ],
      "execution_count": 0,
      "outputs": []
    },
    {
      "cell_type": "code",
      "metadata": {
        "id": "DXpiwjFdlopq",
        "colab_type": "code",
        "colab": {}
      },
      "source": [
        "# Base URL\n",
        "chronam = 'https://chroniclingamerica.loc.gov/'\n",
        "\n",
        "# Chronicling America search results\n",
        "results = 'https://chroniclingamerica.loc.gov/search/pages/results/?date1=1880&date2=1920&searchType=advanced&language=ita&sequence=1&lccn=2012271201&lccn=sn85066408&lccn=sn85055164&lccn=sn85054967&lccn=sn88064299&lccn=sn84037024&lccn=sn84037025&lccn=sn86092310&proxdistance=5&state=California&state=District+of+Columbia&state=Massachusetts&state=Pennsylvania&state=Piedmont&state=Vermont&state=West+Virginia&rows=100&ortext=&proxtext=&phrasetext=&andtext=&dateFilterType=yearRange&page=11&sort=date'\n",
        "\n",
        "# Count to keep track of downloaded files\n",
        "count = 0\n",
        "\n",
        "# Gets search results in JSON format\n",
        "results_json = results + '&format=json'"
      ],
      "execution_count": 0,
      "outputs": []
    },
    {
      "cell_type": "code",
      "metadata": {
        "id": "ubXLXq72lual",
        "colab_type": "code",
        "colab": {}
      },
      "source": [
        "# Returns JSON \n",
        "def get_json(url):\n",
        "    data = requests.get(url)\n",
        "    return(json.loads(data.content))\n",
        "    \n",
        "data = get_json(results_json)"
      ],
      "execution_count": 0,
      "outputs": []
    },
    {
      "cell_type": "code",
      "metadata": {
        "id": "sI7JcFBmlyeK",
        "colab_type": "code",
        "colab": {}
      },
      "source": [
        "# Cycle through JSON results\n",
        "for page in data['items']:\n",
        "    # Create URL\n",
        "    hit = str(page['id'])\n",
        "    seed = hit + 'ocr.txt'\n",
        "    download_url = chronam + seed\n",
        " \n",
        "    # Create file name\n",
        "    file_name = download_url.replace('/', '_')\n",
        "    file_name = 'data1/' + file_name[41:]\n",
        "    \n",
        "    # Download .txt of the page\n",
        "    urllib.request.urlretrieve(download_url, str(file_name))\n",
        "    count += 1"
      ],
      "execution_count": 0,
      "outputs": []
    },
    {
      "cell_type": "markdown",
      "metadata": {
        "id": "IPEkYhSpl7HS",
        "colab_type": "text"
      },
      "source": [
        "# 1. Data preparation"
      ]
    },
    {
      "cell_type": "markdown",
      "metadata": {
        "id": "G_GEjbxlmA51",
        "colab_type": "text"
      },
      "source": [
        "## 1.1. Grouping all texts files\n",
        "A dataframe is first created to keep individual files at their initial state, and the name of each file"
      ]
    },
    {
      "cell_type": "code",
      "metadata": {
        "id": "IcJ7O-aVl_MF",
        "colab_type": "code",
        "colab": {}
      },
      "source": [
        "import os\n",
        "import pandas as pd"
      ],
      "execution_count": 0,
      "outputs": []
    },
    {
      "cell_type": "code",
      "metadata": {
        "id": "9KFJqg39l2Uq",
        "colab_type": "code",
        "colab": {}
      },
      "source": [
        "#list of the file names\n",
        "files_list = os.listdir('data1')"
      ],
      "execution_count": 0,
      "outputs": []
    },
    {
      "cell_type": "code",
      "metadata": {
        "id": "ZWEA-ANfmrD2",
        "colab_type": "code",
        "colab": {}
      },
      "source": [
        "#insert file names into a df\n",
        "sources = pd.DataFrame(files_list, columns=['file_name'])"
      ],
      "execution_count": 0,
      "outputs": []
    },
    {
      "cell_type": "code",
      "metadata": {
        "id": "xArZm03jmvvU",
        "colab_type": "code",
        "colab": {}
      },
      "source": [
        "#function to read the content of the text files\n",
        "def readTxtContent(fileName):\n",
        "  with open('data1/' + fileName, 'r') as file:\n",
        "    return ' ' + file.read().replace('\\n', ' ') + ' '"
      ],
      "execution_count": 0,
      "outputs": []
    },
    {
      "cell_type": "code",
      "metadata": {
        "id": "hNmf-cy2mzb3",
        "colab_type": "code",
        "colab": {}
      },
      "source": [
        "# adding a column to the dataframe containing file content\n",
        "sources['file_content'] = sources['file_name'].apply(lambda x: readTxtContent(x))"
      ],
      "execution_count": 0,
      "outputs": []
    },
    {
      "cell_type": "code",
      "metadata": {
        "id": "8yFDXNqWm2tq",
        "colab_type": "code",
        "outputId": "0e57e4ea-5440-4601-d154-60af1c5ed627",
        "colab": {
          "base_uri": "https://localhost:8080/",
          "height": 34
        }
      },
      "source": [
        "# for verification purposes later, count the nr of characters for each content\n",
        "sources['file_len'] = sources['file_content'].apply(lambda x: len(x))\n",
        "sources['file_len'].sum()"
      ],
      "execution_count": 11,
      "outputs": [
        {
          "output_type": "execute_result",
          "data": {
            "text/plain": [
              "1779770"
            ]
          },
          "metadata": {
            "tags": []
          },
          "execution_count": 11
        }
      ]
    },
    {
      "cell_type": "code",
      "metadata": {
        "id": "I3U5oluHm6Gr",
        "colab_type": "code",
        "colab": {}
      },
      "source": [
        "# variable containing the documents separately\n",
        "corpus = sources['file_content']"
      ],
      "execution_count": 0,
      "outputs": []
    },
    {
      "cell_type": "code",
      "metadata": {
        "id": "hERAgTvhm9t0",
        "colab_type": "code",
        "colab": {}
      },
      "source": [
        "# variable containing all documents together\n",
        "all_texts = ''\n",
        "for i in range(len(sources)):\n",
        "  all_texts += sources['file_content'][i]"
      ],
      "execution_count": 0,
      "outputs": []
    },
    {
      "cell_type": "code",
      "metadata": {
        "id": "1DK0cstjnBUI",
        "colab_type": "code",
        "outputId": "c9c726c2-c003-436e-e317-05650dcf503b",
        "colab": {
          "base_uri": "https://localhost:8080/",
          "height": 34
        }
      },
      "source": [
        "# check length\n",
        "len(all_texts)"
      ],
      "execution_count": 14,
      "outputs": [
        {
          "output_type": "execute_result",
          "data": {
            "text/plain": [
              "1779770"
            ]
          },
          "metadata": {
            "tags": []
          },
          "execution_count": 14
        }
      ]
    },
    {
      "cell_type": "markdown",
      "metadata": {
        "id": "Zl8lVna9nFMj",
        "colab_type": "text"
      },
      "source": [
        "## 1.2 Removing stop words, punctuation, short words"
      ]
    },
    {
      "cell_type": "code",
      "metadata": {
        "id": "J3VrrRnsnJiz",
        "colab_type": "code",
        "colab": {}
      },
      "source": [
        "%%capture\n",
        "import nltk\n",
        "nltk.download('punkt')\n",
        "nltk.download('stopwords')\n",
        "from nltk.corpus import stopwords\n",
        "from nltk.tokenize import word_tokenize"
      ],
      "execution_count": 0,
      "outputs": []
    },
    {
      "cell_type": "code",
      "metadata": {
        "id": "GSRcuvwfnN3T",
        "colab_type": "code",
        "colab": {}
      },
      "source": [
        "# add tokenized documents in dataframe\n",
        "sources['tokens'] = sources['file_content'].apply(lambda x: nltk.word_tokenize(x))"
      ],
      "execution_count": 0,
      "outputs": []
    },
    {
      "cell_type": "code",
      "metadata": {
        "id": "qfSvhqNSnTp9",
        "colab_type": "code",
        "colab": {}
      },
      "source": [
        "# add new column in df with processed tokens\n",
        "sources['tokens_prep'] = sources['tokens'].apply(lambda x: [w.lower() for w in x if (w.isalnum() and len(w) > 3 )])"
      ],
      "execution_count": 0,
      "outputs": []
    },
    {
      "cell_type": "code",
      "metadata": {
        "id": "EulU1PY2ngdV",
        "colab_type": "code",
        "colab": {}
      },
      "source": [
        "# these lines are useful if we want to provide alternate stop words lists (NLTK)\n",
        "# show list of default NLTK Italian stopwords\n",
        "# stopwords.words('italian')\n",
        "# ital_stopwords = stopwords.words('italian')\n",
        "# to append list of words added by user: ital_stopwords.extend(user_input)\n",
        "# to remove words: ital_stopwords.remove(user_input)"
      ],
      "execution_count": 0,
      "outputs": []
    },
    {
      "cell_type": "code",
      "metadata": {
        "id": "abT_ZGCXnk_d",
        "colab_type": "code",
        "colab": {}
      },
      "source": [
        "# spacy list of Stop words (seems to be more complete than NLTK)\n",
        "import spacy\n",
        "from spacy.lang.it.stop_words import STOP_WORDS"
      ],
      "execution_count": 0,
      "outputs": []
    },
    {
      "cell_type": "code",
      "metadata": {
        "id": "L6qkNYbSnoGd",
        "colab_type": "code",
        "colab": {}
      },
      "source": [
        "spacy_it_sw = STOP_WORDS"
      ],
      "execution_count": 0,
      "outputs": []
    },
    {
      "cell_type": "code",
      "metadata": {
        "id": "SDcWr1Oynwp1",
        "colab_type": "code",
        "colab": {}
      },
      "source": [
        "# add column with tokenized documents without sw\n",
        "sources['tokens_prep_nostop'] = sources['tokens_prep'].apply(lambda x: [w for w in x if not w in spacy_it_sw])"
      ],
      "execution_count": 0,
      "outputs": []
    },
    {
      "cell_type": "markdown",
      "metadata": {
        "id": "eCcMDN2ln30c",
        "colab_type": "text"
      },
      "source": [
        "## 1.3 Stem"
      ]
    },
    {
      "cell_type": "code",
      "metadata": {
        "id": "DXFx_HkMnz48",
        "colab_type": "code",
        "colab": {}
      },
      "source": [
        "from nltk.stem.snowball import SnowballStemmer"
      ],
      "execution_count": 0,
      "outputs": []
    },
    {
      "cell_type": "code",
      "metadata": {
        "id": "sLYY9Td6oC1u",
        "colab_type": "code",
        "colab": {}
      },
      "source": [
        "#initialize with needed language\n",
        "stemmer = SnowballStemmer(\"italian\")"
      ],
      "execution_count": 0,
      "outputs": []
    },
    {
      "cell_type": "code",
      "metadata": {
        "id": "iFsGiIOjoJiM",
        "colab_type": "code",
        "colab": {}
      },
      "source": [
        "# add column with stemmed tokens\n",
        "sources['tokens_stemmed'] = sources['tokens_prep_nostop'].apply(lambda x: [stemmer.stem(w) for w in x])"
      ],
      "execution_count": 0,
      "outputs": []
    },
    {
      "cell_type": "markdown",
      "metadata": {
        "id": "sX4f6m4goPdu",
        "colab_type": "text"
      },
      "source": [
        "## 1.4 Lemmatize"
      ]
    },
    {
      "cell_type": "code",
      "metadata": {
        "id": "RaRkQ5FcoKyu",
        "colab_type": "code",
        "colab": {}
      },
      "source": [
        "# Lemmatization is available in multiple languages in Spacy and not in NLTK (only English)\n",
        "# With Spacy, lemmatization is available for 10 languages. There's also a multi-language option that\n",
        "# should be tested if additional languages are needed"
      ],
      "execution_count": 0,
      "outputs": []
    },
    {
      "cell_type": "code",
      "metadata": {
        "id": "yx6mYoPFoqhY",
        "colab_type": "code",
        "colab": {}
      },
      "source": [
        "%%capture\n",
        "!python -m spacy download it_core_news_sm"
      ],
      "execution_count": 0,
      "outputs": []
    },
    {
      "cell_type": "code",
      "metadata": {
        "id": "RF7vBWuOou6n",
        "colab_type": "code",
        "colab": {}
      },
      "source": [
        "import it_core_news_sm\n",
        "it_nlp = it_core_news_sm.load(disable=['tagger', 'parser', 'ner'])"
      ],
      "execution_count": 0,
      "outputs": []
    },
    {
      "cell_type": "code",
      "metadata": {
        "id": "rEzzfEBFow9k",
        "colab_type": "code",
        "colab": {}
      },
      "source": [
        "# lemmatization function\n",
        "def lemmatize(doc):\n",
        "  lemmatized_doc = []\n",
        "  for w in doc:\n",
        "    w_lemma = [token.lemma_ for token in it_nlp(w)]\n",
        "    lemmatized_doc.append(w_lemma[0])\n",
        "  return lemmatized_doc"
      ],
      "execution_count": 0,
      "outputs": []
    },
    {
      "cell_type": "code",
      "metadata": {
        "id": "AvXSZ5Hepwel",
        "colab_type": "code",
        "colab": {}
      },
      "source": [
        "# add column with lemmatized tokens\n",
        "sources['tokens_lemmatized'] = sources['tokens_prep_nostop'].apply(lambda x: lemmatize(x))"
      ],
      "execution_count": 0,
      "outputs": []
    },
    {
      "cell_type": "code",
      "metadata": {
        "id": "sEKcp6rOp0Dx",
        "colab_type": "code",
        "colab": {}
      },
      "source": [
        "# variable with lemmatized tokens\n",
        "lemmatized_corpus = sources['tokens_lemmatized']"
      ],
      "execution_count": 0,
      "outputs": []
    },
    {
      "cell_type": "markdown",
      "metadata": {
        "id": "LSQLmATxntdW",
        "colab_type": "text"
      },
      "source": [
        "# 2. Topics with LDA"
      ]
    },
    {
      "cell_type": "code",
      "metadata": {
        "id": "Ic0LglOCq818",
        "colab_type": "code",
        "colab": {}
      },
      "source": [
        "#Gensim installation\n",
        "import gensim\n",
        "from gensim.test.utils import common_corpus, common_dictionary\n",
        "from gensim import corpora, models\n",
        "from gensim.models.wrappers import LdaMallet"
      ],
      "execution_count": 0,
      "outputs": []
    },
    {
      "cell_type": "markdown",
      "metadata": {
        "id": "lugBy7jarFfm",
        "colab_type": "text"
      },
      "source": [
        "## 2.1 Preliminary steps to run LDA\n"
      ]
    },
    {
      "cell_type": "markdown",
      "metadata": {
        "id": "ztJHIvPUrJff",
        "colab_type": "text"
      },
      "source": [
        "### 2.1.1 Bag of words"
      ]
    },
    {
      "cell_type": "code",
      "metadata": {
        "id": "_VqeoxXWrAz_",
        "colab_type": "code",
        "colab": {}
      },
      "source": [
        "# dataset = [d.split() for d in lemmatized_corpus] (this is not useful if lemmatized version is used)\n",
        "# Create Dictionary\n",
        "# change \"lemmatized_corpus\" variable by stemmed_corpus or tokenized_corpus_without_sw depending\n",
        "# on which version you would like to work with \n",
        "id2word = corpora.Dictionary(lemmatized_corpus)\n",
        "corpus = [id2word.doc2bow(text) for text in lemmatized_corpus]"
      ],
      "execution_count": 0,
      "outputs": []
    },
    {
      "cell_type": "code",
      "metadata": {
        "id": "Ux1XsyGDraxD",
        "colab_type": "code",
        "colab": {}
      },
      "source": [
        "# create a human friendly view of term frequency list\n",
        "# I leave the line below for testing purposes\n",
        "# [[(id2word[id], freq) for id, freq in cp] for cp in corpus[:1000]]"
      ],
      "execution_count": 0,
      "outputs": []
    },
    {
      "cell_type": "code",
      "metadata": {
        "id": "H_nadreEre5U",
        "colab_type": "code",
        "colab": {}
      },
      "source": [
        "# list of words and frequency\n",
        "words = []\n",
        "frequency = []\n",
        "\n",
        "for cp in corpus:\n",
        "  word_id = list(cp[0])[0]\n",
        "  words.append(id2word[list(cp[0])[0]])\n",
        "  frequency.append(list(cp[0])[1])"
      ],
      "execution_count": 0,
      "outputs": []
    },
    {
      "cell_type": "code",
      "metadata": {
        "id": "ZjZU2iX-riiy",
        "colab_type": "code",
        "colab": {}
      },
      "source": [
        "words_frequency = pd.DataFrame(list(zip(words, frequency)), columns=['word', 'frequency'])"
      ],
      "execution_count": 0,
      "outputs": []
    },
    {
      "cell_type": "code",
      "metadata": {
        "id": "-Qw9QHHDrpHi",
        "colab_type": "code",
        "outputId": "f04daaab-f2bd-4a20-f499-47f63e68e5e8",
        "colab": {
          "base_uri": "https://localhost:8080/",
          "height": 359
        }
      },
      "source": [
        "# sort descending\n",
        "words_frequency.sort_values(by=['frequency'], ascending=False)[:10]\n",
        "# frequency is on a per document basis"
      ],
      "execution_count": 30,
      "outputs": [
        {
          "output_type": "execute_result",
          "data": {
            "text/html": [
              "<div>\n",
              "<style scoped>\n",
              "    .dataframe tbody tr th:only-of-type {\n",
              "        vertical-align: middle;\n",
              "    }\n",
              "\n",
              "    .dataframe tbody tr th {\n",
              "        vertical-align: top;\n",
              "    }\n",
              "\n",
              "    .dataframe thead th {\n",
              "        text-align: right;\n",
              "    }\n",
              "</style>\n",
              "<table border=\"1\" class=\"dataframe\">\n",
              "  <thead>\n",
              "    <tr style=\"text-align: right;\">\n",
              "      <th></th>\n",
              "      <th>word</th>\n",
              "      <th>frequency</th>\n",
              "    </tr>\n",
              "  </thead>\n",
              "  <tbody>\n",
              "    <tr>\n",
              "      <th>95</th>\n",
              "      <td>aggiungere</td>\n",
              "      <td>6</td>\n",
              "    </tr>\n",
              "    <tr>\n",
              "      <th>4</th>\n",
              "      <td>anarchico</td>\n",
              "      <td>4</td>\n",
              "    </tr>\n",
              "    <tr>\n",
              "      <th>30</th>\n",
              "      <td>amico</td>\n",
              "      <td>4</td>\n",
              "    </tr>\n",
              "    <tr>\n",
              "      <th>99</th>\n",
              "      <td>aggiungere</td>\n",
              "      <td>3</td>\n",
              "    </tr>\n",
              "    <tr>\n",
              "      <th>15</th>\n",
              "      <td>agosto</td>\n",
              "      <td>3</td>\n",
              "    </tr>\n",
              "    <tr>\n",
              "      <th>73</th>\n",
              "      <td>anarchico</td>\n",
              "      <td>3</td>\n",
              "    </tr>\n",
              "    <tr>\n",
              "      <th>10</th>\n",
              "      <td>alia</td>\n",
              "      <td>3</td>\n",
              "    </tr>\n",
              "    <tr>\n",
              "      <th>44</th>\n",
              "      <td>alia</td>\n",
              "      <td>3</td>\n",
              "    </tr>\n",
              "    <tr>\n",
              "      <th>47</th>\n",
              "      <td>alia</td>\n",
              "      <td>3</td>\n",
              "    </tr>\n",
              "    <tr>\n",
              "      <th>28</th>\n",
              "      <td>abbassare</td>\n",
              "      <td>2</td>\n",
              "    </tr>\n",
              "  </tbody>\n",
              "</table>\n",
              "</div>"
            ],
            "text/plain": [
              "          word  frequency\n",
              "95  aggiungere          6\n",
              "4    anarchico          4\n",
              "30       amico          4\n",
              "99  aggiungere          3\n",
              "15      agosto          3\n",
              "73   anarchico          3\n",
              "10        alia          3\n",
              "44        alia          3\n",
              "47        alia          3\n",
              "28   abbassare          2"
            ]
          },
          "metadata": {
            "tags": []
          },
          "execution_count": 30
        }
      ]
    },
    {
      "cell_type": "markdown",
      "metadata": {
        "id": "20Q65JfwFain",
        "colab_type": "text"
      },
      "source": [
        "### 2.1.2 Visualize Gensim LDA results"
      ]
    },
    {
      "cell_type": "code",
      "metadata": {
        "id": "9NC_hlWEFfFD",
        "colab_type": "code",
        "colab": {}
      },
      "source": [
        "# Plotting tools\n",
        "%%capture\n",
        "! pip install pyldavis\n",
        "import pyLDAvis\n",
        "import pyLDAvis.gensim"
      ],
      "execution_count": 0,
      "outputs": []
    },
    {
      "cell_type": "code",
      "metadata": {
        "id": "sKSamos-FlUf",
        "colab_type": "code",
        "colab": {}
      },
      "source": [
        "# insert the model and number of topics you want to visualise\n",
        "# here LDA Gensim with 7 topics\n",
        "%%capture\n",
        "selected_model = models.LdaModel(corpus, id2word=id2word, num_topics=7)"
      ],
      "execution_count": 0,
      "outputs": []
    },
    {
      "cell_type": "code",
      "metadata": {
        "id": "6x3ztaoqFup7",
        "colab_type": "code",
        "colab": {}
      },
      "source": [
        "pyLDAvis.enable_notebook()\n",
        "vis = pyLDAvis.gensim.prepare(selected_model, corpus, id2word)"
      ],
      "execution_count": 0,
      "outputs": []
    },
    {
      "cell_type": "code",
      "metadata": {
        "id": "embihoG3F3ng",
        "colab_type": "code",
        "colab": {
          "base_uri": "https://localhost:8080/",
          "height": 881
        },
        "outputId": "7395847e-a666-4a4c-d625-87d5b3eabd46"
      },
      "source": [
        "vis"
      ],
      "execution_count": 34,
      "outputs": [
        {
          "output_type": "execute_result",
          "data": {
            "text/html": [
              "\n",
              "<link rel=\"stylesheet\" type=\"text/css\" href=\"https://cdn.rawgit.com/bmabey/pyLDAvis/files/ldavis.v1.0.0.css\">\n",
              "\n",
              "\n",
              "<div id=\"ldavis_el1231402669455160729890009267\"></div>\n",
              "<script type=\"text/javascript\">\n",
              "\n",
              "var ldavis_el1231402669455160729890009267_data = {\"mdsDat\": {\"x\": [-0.005770239809087107, 0.001918975009687605, 0.002573733338953085, 0.0010427551972588783, 0.0004189344662395626, 0.0006363664430839668, -0.000820524646135992], \"y\": [0.0006213133989509431, 0.005652156791296358, -0.0020545426409915996, -0.0008359683438825175, -0.002100394108401355, -0.0008745429875373201, -0.00040802210943450184], \"topics\": [1, 2, 3, 4, 5, 6, 7], \"cluster\": [1, 1, 1, 1, 1, 1, 1], \"Freq\": [34.621795654296875, 18.74851417541504, 15.816062927246094, 12.61610221862793, 8.250905990600586, 5.5138630867004395, 4.4327592849731445]}, \"tinfo\": {\"Term\": [\"italiano\", \"italia\", \"dispaccio\", \"telegrafico\", \"giornale\", \"venire\", \"roma\", \"potere\", \"cardinale\", \"dire\", \"daily\", \"mentire\", \"leggere\", \"papa\", \"gran\", \"americano\", \"dare\", \"york\", \"states\", \"nuovo\", \"parigi\", \"trovare\", \"nome\", \"grande\", \"operare\", \"dovere\", \"italian\", \"quotidiano\", \"numerare\", \"mettere\", \"jose\", \"energicamente\", \"munizione\", \"ventre\", \"calabria\", \"country\", \"appe\", \"1905\", \"that\", \"kicheneff\", \"rodolfi\", \"presba\", \"jack\", \"than\", \"natalia\", \"alatone\", \"amburgo\", \"cordoglio\", \"farraginoso\", \"renze\", \"luto\", \"enza\", \"bruno\", \"ziario\", \"since\", \"lastra\", \"jaures\", \"paziente\", \"estremo\", \"organizzare\", \"preciso\", \"affrontare\", \"vaticano\", \"dovere\", \"morto\", \"membro\", \"relazione\", \"popolazione\", \"parola\", \"roma\", \"potere\", \"libert\\u00e0\", \"comune\", \"studente\", \"soldato\", \"alessandro\", \"lamentare\", \"grado\", \"italia\", \"giornata\", \"francisco\", \"zione\", \"grave\", \"assicurare\", \"ministero\", \"italiano\", \"popolare\", \"italian\", \"politico\", \"nuovo\", \"pubblico\", \"xiii\", \"mostrare\", \"dire\", \"maggio\", \"unito\", \"vedere\", \"telegrafico\", \"lottare\", \"americano\", \"quotidiano\", \"dare\", \"venire\", \"dispaccio\", \"altro\", \"daily\", \"volere\", \"york\", \"gran\", \"giornale\", \"papa\", \"costare\", \"cardinale\", \"leggere\", \"nome\", \"parigi\", \"trovare\", \"compar\", \"asilica\", \"iioleiano\", \"mauia\", \"imonte\", \"kditors\", \"inonaignot\", \"nergico\", \"dui\\u00f9\", \"lard\\u00f2\", \"italiak\", \"aperse\", \"comparso\", \"iniuon\\u00f2\", \"ravvicinarsi\", \"torcia\", \"legio\", \"cenn\\u00f2\", \"arici\", \"damine\", \"cuscino\", \"nostrum\", \"silica\", \"panale\", \"adjutoriura\", \"fhunk\", \"quotiiuano\", \"delhi\", \"nocca\", \"islazza\", \"pontificio\", \"cardinale\", \"eleggere\", \"camarlengo\", \"cardo\", \"rendere\", \"tenere\", \"pontefice\", \"piangere\", \"salmone\", \"papa\", \"mano\", \"presidente\", \"chiesa\", \"italiano\", \"domandare\", \"costare\", \"mentire\", \"banco\", \"diamond\", \"daily\", \"dare\", \"mattino\", \"vivo\", \"pietro\", \"sindacare\", \"gran\", \"conclave\", \"minuto\", \"marconi\", \"pubblicare\", \"nominare\", \"italia\", \"nome\", \"trattare\", \"venire\", \"telegrafico\", \"giugno\", \"volere\", \"roma\", \"dispaccio\", \"potere\", \"giornale\", \"york\", \"morto\", \"dovere\", \"trovare\", \"quotidiano\", \"parigi\", \"dire\", \"nuovo\", \"stradale\", \"moreno\", \"sfrattare\", \"cortes\", \"itaiia\", \"almanaccare\", \"campello\", \"sfoggio\", \"disfare\", \"tllalia\", \"tinue\", \"regalare\", \"armour\", \"appo\", \"rizi\", \"otta\", \"patrlzio\", \"fiammeg\", \"maritiraea\", \"riabbracciare\", \"sormontare\", \"simboleggiare\", \"rappor\", \"distintamente\", \"calendario\", \"steggiando\", \"incontralo\", \"fardi\", \"diuhessa\", \"cappudnl\", \"mondiale\", \"abbonato\", \"torpediniere\", \"madre\", \"giornale\", \"adorazione\", \"cosa\", \"numerare\", \"bovio\", \"inghilterra\", \"cappuccino\", \"colonia\", \"ambasciatore\", \"manciuria\", \"pubblicare\", \"italiano\", \"dispaccio\", \"nuovo\", \"festa\", \"trovare\", \"comporre\", \"largest\", \"preparare\", \"chiuso\", \"notizia\", \"patrio\", \"partire\", \"nome\", \"riuscire\", \"daily\", \"morning\", \"parere\", \"italia\", \"proposito\", \"mentire\", \"quotidiano\", \"patrizio\", \"americano\", \"presidente\", \"roma\", \"guerra\", \"potere\", \"states\", \"cardinale\", \"tenere\", \"venire\", \"volere\", \"altro\", \"telegrafico\", \"papa\", \"york\", \"gran\", \"dire\", \"leggere\", \"parigi\", \"manchuria\", \"patena\", \"tettoia\", \"queeta\", \"portunit\\u00e0\", \"rosta\", \"spegnendosi\", \"galleria\", \"tappetti\", \"fallire\", \"sussidiario\", \"partectpente\", \"etera\", \"wabash\", \"lorenz\", \"ambre\", \"molare\", \"dlfici\", \"settantreenne\", \"gros\", \"recintare\", \"rimpastare\", \"architettonico\", \"cagna\", \"sentavano\", \"aoink\", \"scutere\", \"ventimila\", \"mande\", \"mlchaud\", \"indipendente\", \"vicino\", \"antico\", \"puccini\", \"dispaccio\", \"reale\", \"grande\", \"operare\", \"nicaragua\", \"passare\", \"credere\", \"bandiera\", \"tendenza\", \"massa\", \"mentire\", \"speranza\", \"ricevere\", \"raro\", \"maest\\u00e0\", \"telegrafico\", \"piccolo\", \"daily\", \"venire\", \"stockton\", \"edoardo\", \"datare\", \"first\", \"pace\", \"classe\", \"pietro\", \"popolare\", \"correre\", \"visitare\", \"testare\", \"leone\", \"york\", \"avvenire\", \"napoli\", \"states\", \"trovare\", \"italiano\", \"cardinale\", \"roma\", \"numerare\", \"potere\", \"papa\", \"leggere\", \"gran\", \"dovere\", \"nuovo\", \"giornale\", \"italia\", \"nome\", \"dare\", \"americano\", \"dire\", \"quotidiano\", \"available\", \"text\", \"anonimo\", \"vmstnottitnl\", \"wimple\", \"diga\", \"bristow\", \"vergare\", \"manuel\", \"reclame\", \"ocooite\", \"ammazzare\", \"fossato\", \"bronzeo\", \"destinalo\", \"manote\", \"rificasse\", \"armatura\", \"fortezza\", \"stltuzioni\", \"osnova\", \"varas\", \"slbyl\", \"mander\\u00e0\\u00e0\", \"portarla\", \"tabandlera\", \"lettrlca\", \"funzionarlo\", \"rocker\", \"pastorale\", \"paobs\", \"cronaca\", \"ginnasta\", \"quin\", \"soddisfare\", \"dittatura\", \"washington\", \"pelrano\", \"esatto\", \"imprendere\", \"mare\", \"atrocit\\u00e0\", \"caprera\", \"1883\", \"gior\", \"costituire\", \"solo\", \"causare\", \"uccidere\", \"venire\", \"gente\", \"dimostrazione\", \"mayor\", \"estero\", \"vivo\", \"dispaccio\", \"mettere\", \"mentire\", \"stazione\", \"states\", \"dire\", \"francia\", \"tedesco\", \"itauan\", \"italia\", \"italiano\", \"telegrafico\", \"delia\", \"societ\\u00e0\", \"volere\", \"grande\", \"visitare\", \"recere\", \"giornale\", \"americano\", \"presidente\", \"patrio\", \"essa\", \"operare\", \"dare\", \"quotidiano\", \"potere\", \"roma\", \"york\", \"maggio\", \"nome\", \"papa\", \"nuovo\", \"parere\", \"dovere\", \"daily\", \"cardinale\", \"gran\", \"trovare\", \"coaapletaaaeate\", \"inoppugnabile\", \"bltel\", \"giuramen\", \"fuochista\", \"sviare\", \"odinone\", \"prussiana\", \"timi\", \"1d0s\", \"legazio\", \"mllaa\", \"entusiastico\", \"sffll\", \"invitale\", \"centocelle\", \"1400\", \"brati\", \"olupacolo\", \"anarchismo\", \"joucllescu\", \"tudorovlch\", \"xyil\", \"miracoloso\", \"whose\", \"naoque\", \"nvvenlre\", \"furo7io\", \"nalyiinra\", \"ndati\", \"accusare\", \"nova\", \"riversare\", \"funerale\", \"finito\", \"lieto\", \"leggere\", \"latino\", \"dire\", \"storia\", \"trattare\", \"piccolo\", \"collare\", \"sacro\", \"aiutare\", \"giornale\", \"reale\", \"venire\", \"chiamare\", \"nave\", \"sedere\", \"conclave\", \"principiare\", \"serbia\", \"ufficiale\", \"militare\", \"ilei\", \"corpo\", \"italia\", \"york\", \"sapere\", \"perch\\u00e8\", \"grande\", \"correre\", \"portare\", \"cardinale\", \"partire\", \"parigi\", \"telegrafico\", \"italian\", \"americano\", \"roma\", \"italiano\", \"nome\", \"visitare\", \"dispaccio\", \"mano\", \"potere\", \"daily\", \"papa\", \"numerare\", \"dovere\", \"quotidiano\", \"dare\", \"gran\", \"patrio\", \"trovare\", \"maggio\", \"glesi\", \"cleveland\", \"servarne\", \"bditou8\", \"pekino\", \"ticabili\", \"meredlth\", \"colore\", \"pech\\u00e8\", \"izione\", \"verdura\", \"atnei\", \"premuovere\", \"nagar\", \"toombit\", \"grover\", \"contrattori\", \"futtiferl\", \"scalzo\", \"ttuvef\", \"squilibrio\", \"noarluti\", \"metafora\", \"gemma\", \"dilanti\", \"semplicissima\", \"cana\", \"pinoti\", \"roani\", \"provvisa\", \"operazione\", \"capraia\", \"stro\", \"states\", \"ristare\", \"fiore\", \"dodici\", \"favorito\", \"poco\", \"occhio\", \"durare\", \"acclamare\", \"emigrare\", \"italiano\", \"provincia\", \"sembrare\", \"viario\", \"pacificare\", \"gran\", \"first\", \"patrizio\", \"camera\", \"telegrafico\", \"guardia\", \"sindacare\", \"italia\", \"giornale\", \"segnare\", \"mettere\", \"ilei\", \"italian\", \"dare\", \"nuovo\", \"dispaccio\", \"parigi\", \"leggere\", \"roma\", \"potere\", \"operare\", \"francisco\", \"trovare\", \"unito\", \"papa\", \"mentire\", \"dire\", \"perch\\u00e8\", \"daily\", \"andare\", \"cardinale\", \"americano\", \"dovere\", \"volere\", \"quotidiano\", \"venire\", \"york\", \"maggio\", \"altro\"], \"Freq\": [995.0, 494.0, 450.0, 384.0, 303.0, 349.0, 464.0, 382.0, 270.0, 213.0, 331.0, 215.0, 158.0, 219.0, 200.0, 190.0, 195.0, 197.0, 135.0, 222.0, 163.0, 179.0, 191.0, 139.0, 142.0, 221.0, 154.0, 199.0, 167.0, 118.0, 14.167740821838379, 2.5541481971740723, 1.9088003635406494, 1.4244838953018188, 1.8679516315460205, 1.4048912525177002, 1.909184455871582, 3.730468988418579, 4.5209574699401855, 1.3547462224960327, 2.268808126449585, 0.8899422287940979, 1.4204181432724, 1.3294384479522705, 7.50734806060791, 0.9009315967559814, 3.603924036026001, 2.294339179992676, 0.8793817162513733, 2.176060199737549, 3.233520746231079, 1.3898017406463623, 1.7557142972946167, 0.881044864654541, 0.8823395371437073, 1.326806664466858, 2.147251605987549, 5.12737512588501, 5.913069725036621, 6.0420708656311035, 14.922607421875, 4.532405376434326, 50.64873123168945, 100.00152587890625, 77.42984771728516, 26.63089942932129, 29.235546112060547, 24.21751594543457, 40.33640670776367, 199.95155334472656, 163.89617919921875, 19.367876052856445, 29.020153045654297, 18.898714065551758, 26.7886905670166, 21.566951751708984, 9.974906921386719, 15.770874977111816, 194.55233764648438, 21.77611541748047, 52.26722717285156, 50.92839050292969, 46.946651458740234, 18.633411407470703, 33.83424377441406, 353.8360595703125, 61.217796325683594, 63.14315414428711, 52.82822799682617, 86.47084045410156, 47.35584259033203, 39.63633346557617, 28.476903915405273, 82.13485717773438, 59.207794189453125, 55.263214111328125, 49.03969192504883, 133.54908752441406, 51.408355712890625, 71.7593994140625, 73.93882751464844, 72.49536895751953, 115.85332489013672, 139.96807861328125, 57.6840934753418, 105.9747314453125, 65.308349609375, 68.64397430419922, 68.1585922241211, 85.5517807006836, 68.7756576538086, 56.366241455078125, 72.37351989746094, 56.5172233581543, 59.8660888671875, 56.730770111083984, 56.02448272705078, 0.6576229929924011, 0.6369153261184692, 0.6080092191696167, 0.6030640602111816, 0.6100528836250305, 0.5973094701766968, 0.6007463335990906, 0.5992645025253296, 0.5947737693786621, 0.5772061944007874, 0.9323862195014954, 0.589966893196106, 2.700808048248291, 0.5861517190933228, 0.5826030373573303, 1.0881335735321045, 0.8342711925506592, 0.5847315192222595, 0.583791196346283, 0.5678039789199829, 1.4657585620880127, 0.5690672993659973, 0.5678869485855103, 0.5589425563812256, 0.5589379072189331, 0.5625844597816467, 0.559552788734436, 0.5663370490074158, 0.5681979656219482, 0.5575382709503174, 5.975800037384033, 79.3037109375, 10.280126571655273, 3.397960901260376, 5.666717052459717, 23.905094146728516, 32.934268951416016, 29.130056381225586, 3.4160144329071045, 2.782503604888916, 55.14183807373047, 36.12827682495117, 39.19346618652344, 30.77779197692871, 213.54742431640625, 14.34171199798584, 37.56934356689453, 50.115028381347656, 3.943213939666748, 5.399465084075928, 72.670166015625, 44.65678024291992, 20.366546630859375, 30.427093505859375, 26.473928451538086, 14.556217193603516, 44.88694763183594, 20.384387969970703, 8.951141357421875, 27.405874252319336, 27.359394073486328, 15.37310791015625, 93.69532775878906, 40.677642822265625, 21.597267150878906, 65.33968353271484, 70.39384460449219, 27.602109909057617, 36.72151184082031, 75.31880187988281, 71.90463256835938, 63.395294189453125, 52.254390716552734, 36.26668167114258, 33.14002990722656, 37.6145133972168, 33.51225662231445, 34.47007369995117, 31.61117935180664, 34.59012222290039, 33.310306549072266, 1.0246027708053589, 0.9882400631904602, 0.4964078962802887, 0.7337612509727478, 0.49643707275390625, 0.7185167074203491, 0.7187374830245972, 0.4811870753765106, 1.4751578569412231, 0.48262932896614075, 0.47959640622138977, 2.2259597778320312, 0.7164961695671082, 0.4820113778114319, 0.4770744740962982, 0.4787377119064331, 0.48027828335762024, 0.47633129358291626, 0.4760192334651947, 0.4621914029121399, 0.4715564548969269, 1.1735577583312988, 0.4574120342731476, 0.4674401879310608, 0.460040420293808, 0.4590548574924469, 0.4565020501613617, 0.4617142677307129, 0.46040916442871094, 0.45654556155204773, 4.066624641418457, 1.3103762865066528, 1.1336674690246582, 8.969487190246582, 75.37966918945312, 0.9144442677497864, 19.379474639892578, 38.69832229614258, 2.335106372833252, 7.843567848205566, 1.1143336296081543, 12.937358856201172, 9.627758979797363, 1.2607001066207886, 24.39661979675293, 165.18206787109375, 79.82217407226562, 41.92570114135742, 12.42800521850586, 34.401947021484375, 6.314342021942139, 25.784807205200195, 7.608940124511719, 6.537369728088379, 28.44277572631836, 29.222660064697266, 21.60537338256836, 34.903541564941406, 11.877376556396484, 54.85892868041992, 13.649700164794922, 24.83734130859375, 75.42945861816406, 13.613271713256836, 37.04713821411133, 34.5146598815918, 21.92734146118164, 32.71255111694336, 27.064495086669922, 66.36748504638672, 17.22480583190918, 54.4154167175293, 24.0833740234375, 41.137359619140625, 22.20013427734375, 48.55892562866211, 29.530065536499023, 25.648393630981445, 50.05327606201172, 31.713289260864258, 28.96043586730957, 29.0344295501709, 28.160720825195312, 24.75151824951172, 24.552846908569336, 0.5460726618766785, 0.6883219480514526, 0.6041572690010071, 0.5287049412727356, 0.3463800251483917, 0.3560912311077118, 0.5773888826370239, 1.7321679592132568, 0.8165699243545532, 0.5171303153038025, 0.33916282653808594, 0.33299851417541504, 0.3399767279624939, 0.34638118743896484, 1.1244102716445923, 0.32427388429641724, 1.0360599756240845, 0.3270550072193146, 0.32325121760368347, 0.31532758474349976, 1.17197847366333, 0.6468481421470642, 0.32754766941070557, 0.44971293210983276, 0.33112993836402893, 0.3373984694480896, 0.4805285930633545, 0.3166639804840088, 0.4839989244937897, 0.47725149989128113, 1.5183994770050049, 4.615192413330078, 6.205955982208252, 1.4091747999191284, 78.8536605834961, 9.794238090515137, 24.781187057495117, 25.273351669311523, 0.9467787146568298, 15.796478271484375, 18.440322875976562, 9.166951179504395, 3.3991079330444336, 4.9468841552734375, 35.73173141479492, 6.0411272048950195, 18.299562454223633, 3.69387149810791, 3.3724071979522705, 60.825618743896484, 12.696502685546875, 51.341148376464844, 53.189815521240234, 9.219040870666504, 8.734210014343262, 12.56208324432373, 19.201030731201172, 8.480484008789062, 12.005902290344238, 17.30023956298828, 22.72447967529297, 18.980941772460938, 22.508359909057617, 7.140235900878906, 14.81580638885498, 27.953929901123047, 20.197832107543945, 15.119766235351562, 19.9415340423584, 25.069746017456055, 102.36749267578125, 35.16928482055664, 52.58704376220703, 22.898963928222656, 41.10871505737305, 26.930376052856445, 21.2293758392334, 24.896034240722656, 26.55767059326172, 26.58354949951172, 31.38518524169922, 41.14349365234375, 23.142940521240234, 23.24907875061035, 22.789764404296875, 23.215316772460938, 22.217090606689453, 0.5744369029998779, 0.5742350816726685, 0.4810812473297119, 0.2434331476688385, 0.3714883029460907, 0.5951641798019409, 0.3733963668346405, 0.37692201137542725, 0.36155635118484497, 0.2396543025970459, 0.22569262981414795, 0.5971362590789795, 0.22857369482517242, 0.2338399589061737, 0.235639289021492, 0.22977805137634277, 0.2293769121170044, 0.22772300243377686, 0.34249791502952576, 0.22245143353939056, 0.22675959765911102, 0.45710596442222595, 0.22000892460346222, 0.22663818299770355, 0.22314906120300293, 0.22223171591758728, 0.2255387157201767, 0.45846521854400635, 0.22308962047100067, 0.33277931809425354, 0.33413541316986084, 1.9440876245498657, 0.5419523119926453, 1.3099902868270874, 2.647942543029785, 0.9064251184463501, 7.308350086212158, 0.6640743017196655, 1.8951983451843262, 0.5609330534934998, 4.4183125495910645, 1.0931810140609741, 0.6808118224143982, 0.7765048742294312, 4.290103912353516, 2.9324328899383545, 13.395286560058594, 9.722058296203613, 4.8490705490112305, 34.25765609741211, 3.787093162536621, 5.649668216705322, 3.4577291011810303, 9.676436424255371, 13.32369327545166, 40.85511779785156, 12.454015731811523, 20.899627685546875, 8.6880464553833, 13.750781059265137, 20.497058868408203, 11.955946922302246, 6.783673286437988, 3.5987255573272705, 40.594215393066406, 73.96774291992188, 31.79444694519043, 7.347223281860352, 8.690030097961426, 16.677154541015625, 13.325393676757812, 13.978686332702637, 9.570685386657715, 24.388341903686523, 16.75260353088379, 13.908671379089355, 13.936352729797363, 8.270245552062988, 12.980091094970703, 16.437602996826172, 16.622331619262695, 26.33698081970215, 29.386730194091797, 16.0727596282959, 12.930316925048828, 15.171863555908203, 16.094324111938477, 16.04970932006836, 11.956053733825684, 15.196678161621094, 18.30693244934082, 16.52305030822754, 14.380922317504883, 13.608153343200684, 0.17878863215446472, 0.24054519832134247, 0.24466276168823242, 0.24392206966876984, 0.24987652897834778, 0.15543754398822784, 0.1584385633468628, 0.31915533542633057, 0.6433398127555847, 0.15129664540290833, 0.1539355218410492, 0.24342721700668335, 1.397053599357605, 0.15871968865394592, 0.15334279835224152, 0.2315872758626938, 0.15953731536865234, 0.15508978068828583, 0.15827107429504395, 0.14863306283950806, 0.15103529393672943, 0.15688665211200714, 0.15514419972896576, 0.2856312394142151, 0.14938636124134064, 0.15262752771377563, 0.14849278330802917, 0.1454273909330368, 0.14546328783035278, 0.15605208277702332, 1.3061872720718384, 0.5903722047805786, 0.35652780532836914, 1.2359871864318848, 1.3110898733139038, 2.7171785831451416, 12.610763549804688, 2.721259832382202, 16.067323684692383, 3.6968436241149902, 7.080158233642578, 5.7351274490356445, 6.716060638427734, 3.586210012435913, 3.3313727378845215, 20.29987907409668, 4.0666375160217285, 22.9611873626709, 4.616168022155762, 4.88803768157959, 2.4240946769714355, 6.066156387329102, 3.4803781509399414, 4.402730941772461, 7.872796058654785, 5.005765914916992, 2.493577003479004, 4.7290520668029785, 27.87099838256836, 12.47397232055664, 7.591281414031982, 8.101689338684082, 9.179339408874512, 8.148755073547363, 7.031641483306885, 15.83751392364502, 7.432722568511963, 10.16408634185791, 20.04073143005371, 9.65413761138916, 11.387137413024902, 22.70079231262207, 40.568572998046875, 11.225598335266113, 9.002368927001953, 20.025779724121094, 8.448317527770996, 17.318601608276367, 15.571660041809082, 11.276391983032227, 9.286179542541504, 10.437810897827148, 9.865398406982422, 9.668728828430176, 9.159749031066895, 8.424209594726562, 8.519643783569336, 8.116447448730469, 0.2816719710826874, 1.1590328216552734, 0.1318267285823822, 0.13016551733016968, 0.3128661811351776, 0.12457627803087234, 0.18828748166561127, 0.24844108521938324, 0.12342695146799088, 0.12232474982738495, 0.18921351432800293, 0.1217830553650856, 0.12188741564750671, 0.2510828673839569, 0.12278459221124649, 0.5013956427574158, 0.12131527066230774, 0.12022003531455994, 0.25425153970718384, 0.12236712872982025, 0.12054253369569778, 0.11936455965042114, 0.11821414530277252, 0.3608279824256897, 0.12060263007879257, 0.11962377279996872, 0.4751838743686676, 0.11821652203798294, 0.1805172860622406, 0.11669276654720306, 0.9636667370796204, 0.2749970257282257, 2.0073118209838867, 8.411306381225586, 0.35026466846466064, 1.8254477977752686, 1.054125428199768, 3.0307555198669434, 5.534979343414307, 1.6064342260360718, 2.8823492527008057, 0.8021433353424072, 3.3133881092071533, 45.98126983642578, 2.355815887451172, 1.1182191371917725, 0.5883914828300476, 3.493701696395874, 10.410706520080566, 6.425267219543457, 6.297545909881592, 5.418101787567139, 17.76811408996582, 3.6511130332946777, 3.256706953048706, 21.63216209411621, 14.10872745513916, 2.412945032119751, 6.221541404724121, 1.9146413803100586, 7.664853572845459, 9.285104751586914, 10.333165168762207, 18.599369049072266, 7.924361705780029, 7.677384853363037, 18.683120727539062, 15.644087791442871, 6.99339485168457, 6.159505844116211, 8.275015830993652, 6.686934471130371, 9.545199394226074, 9.307621955871582, 9.16836166381836, 5.925288200378418, 12.438477516174316, 5.463578701019287, 10.471268653869629, 8.103398323059082, 8.725642204284668, 7.355217933654785, 7.5078301429748535, 9.451167106628418, 7.243025779724121, 6.620213508605957, 6.585413932800293], \"Total\": [995.0, 494.0, 450.0, 384.0, 303.0, 349.0, 464.0, 382.0, 270.0, 213.0, 331.0, 215.0, 158.0, 219.0, 200.0, 190.0, 195.0, 197.0, 135.0, 222.0, 163.0, 179.0, 191.0, 139.0, 142.0, 221.0, 154.0, 199.0, 167.0, 118.0, 25.876819610595703, 4.842648983001709, 3.6583101749420166, 2.744051456451416, 3.6116557121276855, 2.7194111347198486, 3.704681396484375, 7.259573459625244, 8.855388641357422, 2.6552624702453613, 4.5030975341796875, 1.766822338104248, 2.8277618885040283, 2.6480743885040283, 14.99660587310791, 1.7997177839279175, 7.203333854675293, 4.593783378601074, 1.762332797050476, 4.365637302398682, 6.489761829376221, 2.791410446166992, 3.535975694656372, 1.7784810066223145, 1.783983588218689, 2.686235189437866, 4.360721111297607, 10.422737121582031, 12.023927688598633, 12.298918724060059, 30.81357192993164, 9.27733039855957, 109.27333068847656, 221.74594116210938, 172.2358856201172, 57.331390380859375, 63.379512786865234, 52.44110107421875, 88.74608612060547, 464.99554443359375, 382.115234375, 42.10153579711914, 64.2507553100586, 41.26179885864258, 59.75173568725586, 47.638282775878906, 21.247163772583008, 34.437835693359375, 494.9179992675781, 48.627593994140625, 123.63263702392578, 120.38797760009766, 110.58216094970703, 41.3859977722168, 78.82843017578125, 995.4506225585938, 149.32687377929688, 154.73904418945312, 128.47128295898438, 222.19097900390625, 114.77827453613281, 94.51875305175781, 65.87822723388672, 213.83375549316406, 149.01742553710938, 138.577880859375, 121.27490234375, 384.4251403808594, 128.43121337890625, 190.55860900878906, 199.13621520996094, 195.5767822265625, 349.61175537109375, 450.0288391113281, 150.34584045410156, 331.16204833984375, 181.50953674316406, 197.61477661132812, 200.92738342285156, 303.3679504394531, 219.47708129882812, 154.12289428710938, 270.81573486328125, 158.74203491210938, 191.4865264892578, 163.7130126953125, 179.41123962402344, 1.6147116422653198, 1.6226822137832642, 1.60783851146698, 1.607602834701538, 1.6365807056427002, 1.609708547592163, 1.625580072402954, 1.6229079961776733, 1.612295389175415, 1.5673326253890991, 2.55180025100708, 1.6149680614471436, 7.40020227432251, 1.6068353652954102, 1.6162090301513672, 3.0190200805664062, 2.3156485557556152, 1.630247950553894, 1.6351408958435059, 1.5935782194137573, 4.116672515869141, 1.600128412246704, 1.6044996976852417, 1.5816088914871216, 1.5825315713882446, 1.593492865562439, 1.5865709781646729, 1.6102991104125977, 1.6188241243362427, 1.5998737812042236, 18.269306182861328, 270.81573486328125, 33.207759857177734, 10.422121047973633, 18.140148162841797, 86.77132415771484, 123.04183959960938, 108.86040496826172, 10.874634742736816, 8.785602569580078, 219.47708129882812, 138.71388244628906, 151.98165893554688, 118.53702545166016, 995.4506225585938, 52.4480094909668, 154.12289428710938, 215.4449462890625, 12.89968490600586, 18.415430068969727, 331.16204833984375, 195.5767822265625, 81.32394409179688, 127.80213165283203, 109.59586334228516, 56.08308410644531, 200.92738342285156, 82.18191528320312, 32.52153778076172, 116.2563247680664, 117.69855499267578, 60.85300064086914, 494.9179992675781, 191.4865264892578, 91.22421264648438, 349.61175537109375, 384.4251403808594, 124.21297454833984, 181.50953674316406, 464.99554443359375, 450.0288391113281, 382.115234375, 303.3679504394531, 197.61477661132812, 172.2358856201172, 221.74594116210938, 179.41123962402344, 199.13621520996094, 163.7130126953125, 213.83375549316406, 222.19097900390625, 3.0550119876861572, 2.977348804473877, 1.514306664466858, 2.2740094661712646, 1.5386912822723389, 2.235278844833374, 2.2480387687683105, 1.5106277465820312, 4.6354899406433105, 1.5204218626022339, 1.5169894695281982, 7.043078422546387, 2.2723357677459717, 1.5305635929107666, 1.5151402950286865, 1.5280383825302124, 1.5430108308792114, 1.5333385467529297, 1.5351217985153198, 1.4944604635238647, 1.5305579900741577, 3.8183882236480713, 1.4927276372909546, 1.538116216659546, 1.5145623683929443, 1.5168342590332031, 1.513277292251587, 1.5308977365493774, 1.5274890661239624, 1.5208098888397217, 13.685956954956055, 4.397420406341553, 3.8081438541412354, 32.72931671142578, 303.3679504394531, 3.1113359928131104, 80.25293731689453, 167.93283081054688, 8.492899894714355, 32.05772399902344, 3.855071783065796, 56.148582458496094, 41.051334381103516, 4.42154598236084, 117.69855499267578, 995.4506225585938, 450.0288391113281, 222.19097900390625, 56.7114372253418, 179.41123962402344, 26.777435302734375, 133.2796173095703, 33.45082473754883, 28.16957664489746, 150.20010375976562, 155.30213928222656, 110.12568664550781, 191.4865264892578, 55.865455627441406, 331.16204833984375, 65.85350036621094, 133.64950561523438, 494.9179992675781, 66.11898803710938, 215.4449462890625, 199.13621520996094, 116.78333282470703, 190.55860900878906, 151.98165893554688, 464.99554443359375, 88.50442504882812, 382.115234375, 135.32752990722656, 270.81573486328125, 123.04183959960938, 349.61175537109375, 181.50953674316406, 150.34584045410156, 384.4251403808594, 219.47708129882812, 197.61477661132812, 200.92738342285156, 213.83375549316406, 158.74203491210938, 163.7130126953125, 2.31459379196167, 2.9508109092712402, 2.5988006591796875, 2.330519199371338, 1.5295233726501465, 1.580702781677246, 2.598522901535034, 7.832721710205078, 3.713866949081421, 2.353938341140747, 1.5476090908050537, 1.5273818969726562, 1.5615520477294922, 1.612774133682251, 5.271463394165039, 1.5244622230529785, 4.875062942504883, 1.5543895959854126, 1.5373426675796509, 1.5003160238265991, 5.581872463226318, 3.083313226699829, 1.5613999366760254, 2.1507318019866943, 1.5871219635009766, 1.6175000667572021, 2.3091318607330322, 1.5264354944229126, 2.3400471210479736, 2.3081228733062744, 7.466041564941406, 23.37826156616211, 32.19715881347656, 7.0271430015563965, 450.0288391113281, 51.97794723510742, 139.08792114257812, 142.7248992919922, 4.68133544921875, 88.326416015625, 104.38233947753906, 50.17986297607422, 17.739782333374023, 26.371442794799805, 215.4449462890625, 32.55827713012695, 106.05596160888672, 19.435577392578125, 17.683786392211914, 384.4251403808594, 73.17195892333984, 331.16204833984375, 349.61175537109375, 52.41325378417969, 49.63606262207031, 74.14456939697266, 118.20171356201172, 48.54036331176758, 72.34242248535156, 109.59586334228516, 149.32687377929688, 122.32318878173828, 149.8514862060547, 41.10808563232422, 94.56094360351562, 197.61477661132812, 136.0760955810547, 97.63662719726562, 135.32752990722656, 179.41123962402344, 995.4506225585938, 270.81573486328125, 464.99554443359375, 167.93283081054688, 382.115234375, 219.47708129882812, 158.74203491210938, 200.92738342285156, 221.74594116210938, 222.19097900390625, 303.3679504394531, 494.9179992675781, 191.4865264892578, 195.5767822265625, 190.55860900878906, 213.83375549316406, 199.13621520996094, 1.2738454341888428, 1.27402663230896, 2.772298812866211, 1.4857289791107178, 2.2673661708831787, 3.652578115463257, 2.29370379447937, 2.3595364093780518, 2.272339344024658, 1.5086467266082764, 1.4299793243408203, 3.823514461517334, 1.4722881317138672, 1.5216211080551147, 1.5346280336380005, 1.4983453750610352, 1.5001721382141113, 1.4989911317825317, 2.254910469055176, 1.4673681259155273, 1.4973852634429932, 3.021038770675659, 1.464910626411438, 1.5106135606765747, 1.489902377128601, 1.4881937503814697, 1.5119130611419678, 3.0758864879608154, 1.4992650747299194, 2.236966371536255, 2.2468924522399902, 13.375914573669434, 3.6873202323913574, 9.091254234313965, 18.84264373779297, 6.274280071258545, 57.336360931396484, 4.59761905670166, 14.042716979980469, 3.8903989791870117, 35.392391204833984, 7.948770046234131, 4.794539928436279, 5.523589134216309, 34.88644027709961, 23.207820892333984, 123.4110107421875, 87.42414093017578, 40.75234603881836, 349.61175537109375, 31.166839599609375, 48.45390701293945, 28.464221954345703, 89.46864318847656, 127.80213165283203, 450.0288391113281, 118.91389465332031, 215.4449462890625, 80.39520263671875, 135.32752990722656, 213.83375549316406, 116.41316223144531, 62.106056213378906, 29.973682403564453, 494.9179992675781, 995.4506225585938, 384.4251403808594, 68.82833099365234, 83.90381622314453, 181.50953674316406, 139.08792114257812, 149.8514862060547, 95.0325698852539, 303.3679504394531, 190.55860900878906, 151.98165893554688, 155.30213928222656, 79.83975219726562, 142.7248992919922, 195.5767822265625, 199.13621520996094, 382.115234375, 464.99554443359375, 197.61477661132812, 149.01742553710938, 191.4865264892578, 219.47708129882812, 222.19097900390625, 133.64950561523438, 221.74594116210938, 331.16204833984375, 270.81573486328125, 200.92738342285156, 179.41123962402344, 1.492469072341919, 2.129371404647827, 2.174287796020508, 2.1880369186401367, 2.2468388080596924, 1.405129313468933, 1.4340367317199707, 2.9310696125030518, 5.951354026794434, 1.4122308492660522, 1.4375859498977661, 2.2798566818237305, 13.119181632995605, 1.4908028841018677, 1.445123314857483, 2.1894803047180176, 1.513335943222046, 1.4775713682174683, 1.5082603693008423, 1.4258501529693604, 1.4572728872299194, 1.51592218875885, 1.5138664245605469, 2.787705659866333, 1.4589080810546875, 1.4909868240356445, 1.457065224647522, 1.4278600215911865, 1.4310141801834106, 1.5365829467773438, 13.26978874206543, 6.032268524169922, 3.6274118423461914, 13.297218322753906, 14.164755821228027, 30.712881088256836, 158.74203491210938, 31.16212272644043, 213.83375549316406, 45.094017028808594, 91.22421264648438, 73.17195892333984, 88.52580261230469, 44.76309585571289, 41.4222526550293, 303.3679504394531, 51.97794723510742, 349.61175537109375, 60.01197052001953, 64.45401763916016, 29.608989715576172, 82.18191528320312, 44.8003044128418, 58.403175354003906, 113.60224151611328, 67.84758758544922, 30.824329376220703, 64.3330078125, 494.9179992675781, 197.61477661132812, 111.01524353027344, 120.278076171875, 139.08792114257812, 122.32318878173828, 102.84857177734375, 270.81573486328125, 110.12568664550781, 163.7130126953125, 384.4251403808594, 154.73904418945312, 190.55860900878906, 464.99554443359375, 995.4506225585938, 191.4865264892578, 149.8514862060547, 450.0288391113281, 138.71388244628906, 382.115234375, 331.16204833984375, 219.47708129882812, 167.93283081054688, 221.74594116210938, 199.13621520996094, 195.5767822265625, 200.92738342285156, 155.30213928222656, 179.41123962402344, 149.01742553710938, 2.767726421356201, 12.656940460205078, 1.4440890550613403, 1.4672110080718994, 3.623199701309204, 1.4460026025772095, 2.1944189071655273, 2.917311668395996, 1.4603036642074585, 1.4491199254989624, 2.2426958084106445, 1.4483726024627686, 1.4523042440414429, 2.9963955879211426, 1.4706023931503296, 6.006946563720703, 1.4661816358566284, 1.4558385610580444, 3.0801148414611816, 1.4824897050857544, 1.4642763137817383, 1.4531245231628418, 1.446040153503418, 4.435604572296143, 1.4835114479064941, 1.4762029647827148, 5.871771335601807, 1.4608815908432007, 2.234013080596924, 1.4493367671966553, 12.686430931091309, 3.539346218109131, 28.89215087890625, 135.32752990722656, 4.62907600402832, 27.341672897338867, 15.15965461730957, 47.88494110107422, 93.06314086914062, 24.449113845825195, 46.64331817626953, 11.441507339477539, 54.54917907714844, 995.4506225585938, 37.750667572021484, 16.644508361816406, 8.189471244812012, 59.5106315612793, 200.92738342285156, 118.20171356201172, 116.78333282470703, 98.53091430664062, 384.4251403808594, 63.68561935424805, 56.08308410644531, 494.9179992675781, 303.3679504394531, 39.951866149902344, 118.91389465332031, 30.824329376220703, 154.73904418945312, 195.5767822265625, 222.19097900390625, 450.0288391113281, 163.7130126953125, 158.74203491210938, 464.99554443359375, 382.115234375, 142.7248992919922, 123.63263702392578, 179.41123962402344, 138.577880859375, 219.47708129882812, 215.4449462890625, 213.83375549316406, 120.278076171875, 331.16204833984375, 108.1740493774414, 270.81573486328125, 190.55860900878906, 221.74594116210938, 181.50953674316406, 199.13621520996094, 349.61175537109375, 197.61477661132812, 149.01742553710938, 150.34584045410156], \"Category\": [\"Default\", \"Default\", \"Default\", \"Default\", \"Default\", \"Default\", \"Default\", \"Default\", \"Default\", \"Default\", \"Default\", \"Default\", \"Default\", \"Default\", \"Default\", \"Default\", \"Default\", \"Default\", \"Default\", \"Default\", \"Default\", \"Default\", \"Default\", \"Default\", \"Default\", \"Default\", \"Default\", \"Default\", \"Default\", \"Default\", \"Topic1\", \"Topic1\", \"Topic1\", \"Topic1\", \"Topic1\", \"Topic1\", \"Topic1\", \"Topic1\", \"Topic1\", \"Topic1\", \"Topic1\", \"Topic1\", \"Topic1\", \"Topic1\", \"Topic1\", \"Topic1\", \"Topic1\", \"Topic1\", \"Topic1\", \"Topic1\", \"Topic1\", \"Topic1\", \"Topic1\", \"Topic1\", \"Topic1\", \"Topic1\", \"Topic1\", \"Topic1\", \"Topic1\", \"Topic1\", \"Topic1\", \"Topic1\", \"Topic1\", \"Topic1\", \"Topic1\", \"Topic1\", \"Topic1\", \"Topic1\", \"Topic1\", \"Topic1\", \"Topic1\", \"Topic1\", \"Topic1\", \"Topic1\", \"Topic1\", \"Topic1\", \"Topic1\", \"Topic1\", \"Topic1\", \"Topic1\", \"Topic1\", \"Topic1\", \"Topic1\", \"Topic1\", \"Topic1\", \"Topic1\", \"Topic1\", \"Topic1\", \"Topic1\", \"Topic1\", \"Topic1\", \"Topic1\", \"Topic1\", \"Topic1\", \"Topic1\", \"Topic1\", \"Topic1\", \"Topic1\", \"Topic1\", \"Topic1\", \"Topic1\", \"Topic1\", \"Topic1\", \"Topic1\", \"Topic1\", \"Topic1\", \"Topic1\", \"Topic1\", \"Topic1\", \"Topic1\", \"Topic1\", \"Topic1\", \"Topic1\", \"Topic1\", \"Topic1\", \"Topic1\", \"Topic1\", \"Topic2\", \"Topic2\", \"Topic2\", \"Topic2\", \"Topic2\", \"Topic2\", \"Topic2\", \"Topic2\", \"Topic2\", \"Topic2\", \"Topic2\", \"Topic2\", \"Topic2\", \"Topic2\", \"Topic2\", \"Topic2\", \"Topic2\", \"Topic2\", \"Topic2\", \"Topic2\", \"Topic2\", \"Topic2\", \"Topic2\", \"Topic2\", \"Topic2\", \"Topic2\", \"Topic2\", \"Topic2\", \"Topic2\", \"Topic2\", \"Topic2\", \"Topic2\", \"Topic2\", \"Topic2\", \"Topic2\", \"Topic2\", \"Topic2\", \"Topic2\", \"Topic2\", \"Topic2\", \"Topic2\", \"Topic2\", \"Topic2\", \"Topic2\", \"Topic2\", \"Topic2\", \"Topic2\", \"Topic2\", \"Topic2\", \"Topic2\", \"Topic2\", \"Topic2\", \"Topic2\", \"Topic2\", \"Topic2\", \"Topic2\", \"Topic2\", \"Topic2\", \"Topic2\", \"Topic2\", \"Topic2\", \"Topic2\", \"Topic2\", \"Topic2\", \"Topic2\", \"Topic2\", \"Topic2\", \"Topic2\", \"Topic2\", \"Topic2\", \"Topic2\", \"Topic2\", \"Topic2\", \"Topic2\", \"Topic2\", \"Topic2\", \"Topic2\", \"Topic2\", \"Topic2\", \"Topic2\", \"Topic2\", \"Topic3\", \"Topic3\", \"Topic3\", \"Topic3\", \"Topic3\", \"Topic3\", \"Topic3\", \"Topic3\", \"Topic3\", \"Topic3\", \"Topic3\", \"Topic3\", \"Topic3\", \"Topic3\", \"Topic3\", \"Topic3\", \"Topic3\", \"Topic3\", \"Topic3\", \"Topic3\", \"Topic3\", \"Topic3\", \"Topic3\", \"Topic3\", \"Topic3\", \"Topic3\", \"Topic3\", \"Topic3\", \"Topic3\", \"Topic3\", \"Topic3\", \"Topic3\", \"Topic3\", \"Topic3\", \"Topic3\", \"Topic3\", \"Topic3\", \"Topic3\", \"Topic3\", \"Topic3\", \"Topic3\", \"Topic3\", \"Topic3\", \"Topic3\", \"Topic3\", \"Topic3\", \"Topic3\", \"Topic3\", \"Topic3\", \"Topic3\", \"Topic3\", \"Topic3\", \"Topic3\", \"Topic3\", \"Topic3\", \"Topic3\", \"Topic3\", \"Topic3\", \"Topic3\", \"Topic3\", \"Topic3\", \"Topic3\", \"Topic3\", \"Topic3\", \"Topic3\", \"Topic3\", \"Topic3\", \"Topic3\", \"Topic3\", \"Topic3\", \"Topic3\", \"Topic3\", \"Topic3\", \"Topic3\", \"Topic3\", \"Topic3\", \"Topic3\", \"Topic3\", \"Topic3\", \"Topic3\", \"Topic3\", \"Topic3\", \"Topic3\", \"Topic3\", \"Topic3\", \"Topic4\", \"Topic4\", \"Topic4\", \"Topic4\", \"Topic4\", \"Topic4\", \"Topic4\", \"Topic4\", \"Topic4\", \"Topic4\", \"Topic4\", \"Topic4\", \"Topic4\", \"Topic4\", \"Topic4\", \"Topic4\", \"Topic4\", \"Topic4\", \"Topic4\", \"Topic4\", \"Topic4\", \"Topic4\", \"Topic4\", \"Topic4\", \"Topic4\", \"Topic4\", \"Topic4\", \"Topic4\", \"Topic4\", \"Topic4\", \"Topic4\", \"Topic4\", \"Topic4\", \"Topic4\", \"Topic4\", \"Topic4\", \"Topic4\", \"Topic4\", \"Topic4\", \"Topic4\", \"Topic4\", \"Topic4\", \"Topic4\", \"Topic4\", \"Topic4\", \"Topic4\", \"Topic4\", \"Topic4\", \"Topic4\", \"Topic4\", \"Topic4\", \"Topic4\", \"Topic4\", \"Topic4\", \"Topic4\", \"Topic4\", \"Topic4\", \"Topic4\", \"Topic4\", \"Topic4\", \"Topic4\", \"Topic4\", \"Topic4\", \"Topic4\", \"Topic4\", \"Topic4\", \"Topic4\", \"Topic4\", \"Topic4\", \"Topic4\", \"Topic4\", \"Topic4\", \"Topic4\", \"Topic4\", \"Topic4\", \"Topic4\", \"Topic4\", \"Topic4\", \"Topic4\", \"Topic4\", \"Topic4\", \"Topic4\", \"Topic4\", \"Topic4\", \"Topic4\", \"Topic4\", \"Topic4\", \"Topic5\", \"Topic5\", \"Topic5\", \"Topic5\", \"Topic5\", \"Topic5\", \"Topic5\", \"Topic5\", \"Topic5\", \"Topic5\", \"Topic5\", \"Topic5\", \"Topic5\", \"Topic5\", \"Topic5\", \"Topic5\", \"Topic5\", \"Topic5\", \"Topic5\", \"Topic5\", \"Topic5\", \"Topic5\", \"Topic5\", \"Topic5\", \"Topic5\", \"Topic5\", \"Topic5\", \"Topic5\", \"Topic5\", \"Topic5\", \"Topic5\", \"Topic5\", \"Topic5\", \"Topic5\", \"Topic5\", \"Topic5\", \"Topic5\", \"Topic5\", \"Topic5\", \"Topic5\", \"Topic5\", \"Topic5\", \"Topic5\", \"Topic5\", \"Topic5\", \"Topic5\", \"Topic5\", \"Topic5\", \"Topic5\", \"Topic5\", \"Topic5\", \"Topic5\", \"Topic5\", \"Topic5\", \"Topic5\", \"Topic5\", \"Topic5\", \"Topic5\", \"Topic5\", \"Topic5\", \"Topic5\", \"Topic5\", \"Topic5\", \"Topic5\", \"Topic5\", \"Topic5\", \"Topic5\", \"Topic5\", \"Topic5\", \"Topic5\", \"Topic5\", \"Topic5\", \"Topic5\", \"Topic5\", \"Topic5\", \"Topic5\", \"Topic5\", \"Topic5\", \"Topic5\", \"Topic5\", \"Topic5\", \"Topic5\", \"Topic5\", \"Topic5\", \"Topic5\", \"Topic5\", \"Topic5\", \"Topic5\", \"Topic5\", \"Topic5\", \"Topic5\", \"Topic5\", \"Topic5\", \"Topic5\", \"Topic6\", \"Topic6\", \"Topic6\", \"Topic6\", \"Topic6\", \"Topic6\", \"Topic6\", \"Topic6\", \"Topic6\", \"Topic6\", \"Topic6\", \"Topic6\", \"Topic6\", \"Topic6\", \"Topic6\", \"Topic6\", \"Topic6\", \"Topic6\", \"Topic6\", \"Topic6\", \"Topic6\", \"Topic6\", \"Topic6\", \"Topic6\", \"Topic6\", \"Topic6\", \"Topic6\", \"Topic6\", \"Topic6\", \"Topic6\", \"Topic6\", \"Topic6\", \"Topic6\", \"Topic6\", \"Topic6\", \"Topic6\", \"Topic6\", \"Topic6\", \"Topic6\", \"Topic6\", \"Topic6\", \"Topic6\", \"Topic6\", \"Topic6\", \"Topic6\", \"Topic6\", \"Topic6\", \"Topic6\", \"Topic6\", \"Topic6\", \"Topic6\", \"Topic6\", \"Topic6\", \"Topic6\", \"Topic6\", \"Topic6\", \"Topic6\", \"Topic6\", \"Topic6\", \"Topic6\", \"Topic6\", \"Topic6\", \"Topic6\", \"Topic6\", \"Topic6\", \"Topic6\", \"Topic6\", \"Topic6\", \"Topic6\", \"Topic6\", \"Topic6\", \"Topic6\", \"Topic6\", \"Topic6\", \"Topic6\", \"Topic6\", \"Topic6\", \"Topic6\", \"Topic6\", \"Topic6\", \"Topic6\", \"Topic6\", \"Topic6\", \"Topic6\", \"Topic6\", \"Topic6\", \"Topic6\", \"Topic6\", \"Topic7\", \"Topic7\", \"Topic7\", \"Topic7\", \"Topic7\", \"Topic7\", \"Topic7\", \"Topic7\", \"Topic7\", \"Topic7\", \"Topic7\", \"Topic7\", \"Topic7\", \"Topic7\", \"Topic7\", \"Topic7\", \"Topic7\", \"Topic7\", \"Topic7\", \"Topic7\", \"Topic7\", \"Topic7\", \"Topic7\", \"Topic7\", \"Topic7\", \"Topic7\", \"Topic7\", \"Topic7\", \"Topic7\", \"Topic7\", \"Topic7\", \"Topic7\", \"Topic7\", \"Topic7\", \"Topic7\", \"Topic7\", \"Topic7\", \"Topic7\", \"Topic7\", \"Topic7\", \"Topic7\", \"Topic7\", \"Topic7\", \"Topic7\", \"Topic7\", \"Topic7\", \"Topic7\", \"Topic7\", \"Topic7\", \"Topic7\", \"Topic7\", \"Topic7\", \"Topic7\", \"Topic7\", \"Topic7\", \"Topic7\", \"Topic7\", \"Topic7\", \"Topic7\", \"Topic7\", \"Topic7\", \"Topic7\", \"Topic7\", \"Topic7\", \"Topic7\", \"Topic7\", \"Topic7\", \"Topic7\", \"Topic7\", \"Topic7\", \"Topic7\", \"Topic7\", \"Topic7\", \"Topic7\", \"Topic7\", \"Topic7\", \"Topic7\", \"Topic7\", \"Topic7\", \"Topic7\", \"Topic7\", \"Topic7\", \"Topic7\", \"Topic7\", \"Topic7\", \"Topic7\", \"Topic7\"], \"logprob\": [30.0, 29.0, 28.0, 27.0, 26.0, 25.0, 24.0, 23.0, 22.0, 21.0, 20.0, 19.0, 18.0, 17.0, 16.0, 15.0, 14.0, 13.0, 12.0, 11.0, 10.0, 9.0, 8.0, 7.0, 6.0, 5.0, 4.0, 3.0, 2.0, 1.0, -8.048500061035156, -9.761699676513672, -10.053000450134277, -10.34570026397705, -10.074600219726562, -10.35949993133545, -10.052800178527832, -9.38290023803711, -9.190699577331543, -10.395899772644043, -9.880200386047363, -10.816100120544434, -10.34850025177002, -10.41469955444336, -8.683600425720215, -10.803799629211426, -9.417400360107422, -9.869000434875488, -10.82800006866455, -9.92199993133545, -9.525899887084961, -10.37030029296875, -10.13659954071045, -10.82610034942627, -10.824600219726562, -10.41670036315918, -9.93529987335205, -9.064900398254395, -8.922300338745117, -8.900699615478516, -7.996600151062012, -9.188199996948242, -6.774600028991699, -6.094299793243408, -6.350100040435791, -7.417399883270264, -7.324100017547607, -7.512400150299072, -7.002200126647949, -5.401400089263916, -5.600200176239014, -7.735799789428711, -7.331500053405762, -7.76039981842041, -7.411499977111816, -7.628300189971924, -8.399399757385254, -7.941299915313721, -5.428800106048584, -7.61870002746582, -6.743100166320801, -6.769000053405762, -6.850500106811523, -7.774499893188477, -7.177999973297119, -4.830599784851074, -6.585000038146973, -6.554100036621094, -6.732399940490723, -6.239699840545654, -6.841800212860107, -7.019700050354004, -7.350399971008301, -6.291100025177002, -6.6184000968933105, -6.687399864196777, -6.80679988861084, -5.804999828338623, -6.759699821472168, -6.42609977722168, -6.396200180053711, -6.415900230407715, -5.9471001625061035, -5.7581000328063965, -6.644499778747559, -6.036300182342529, -6.520299911499023, -6.4704999923706055, -6.47760009765625, -6.25029993057251, -6.468599796295166, -6.667600154876709, -6.417600154876709, -6.664899826049805, -6.607399940490723, -6.661099910736084, -6.673699855804443, -10.505200386047363, -10.537199974060059, -10.583700180053711, -10.59179973602295, -10.580300331115723, -10.601400375366211, -10.59570026397705, -10.598099708557129, -10.60569953918457, -10.635700225830078, -10.156100273132324, -10.613800048828125, -9.092499732971191, -10.62030029296875, -10.626299858093262, -10.00160026550293, -10.26729965209961, -10.622699737548828, -10.624300003051758, -10.652099609375, -9.703700065612793, -10.649900436401367, -10.651900291442871, -10.667799949645996, -10.667799949645996, -10.661299705505371, -10.66670036315918, -10.65470027923584, -10.651399612426758, -10.670299530029297, -8.298399925231934, -5.712800025939941, -7.755899906158447, -8.862899780273438, -8.351499557495117, -6.9120001792907715, -6.591599941253662, -6.714300155639648, -8.857600212097168, -9.062700271606445, -6.076200008392334, -6.499000072479248, -6.417600154876709, -6.659299850463867, -4.7221999168396, -7.422900199890137, -6.45989990234375, -6.171800136566162, -8.714099884033203, -8.399800300598145, -5.80019998550415, -6.287099838256836, -7.072199821472168, -6.67080020904541, -6.809899806976318, -7.408100128173828, -6.2820000648498535, -7.071300029754639, -7.8942999839782715, -6.775300025939941, -6.7769999504089355, -7.353499889373779, -5.546000003814697, -6.38040018081665, -7.013500213623047, -5.906499862670898, -5.831999778747559, -6.768199920654297, -6.482699871063232, -5.764400005340576, -5.810800075531006, -5.936699867248535, -6.130000114440918, -6.495200157165527, -6.585400104522705, -6.458700180053711, -6.57420015335083, -6.546000003814697, -6.632599830627441, -6.542500019073486, -6.5802001953125, -9.89169979095459, -9.927800178527832, -10.616399765014648, -10.225600242614746, -10.616299629211426, -10.246600151062012, -10.246299743652344, -10.647500038146973, -9.527199745178223, -10.644499778747559, -10.650799751281738, -9.115799903869629, -10.24940013885498, -10.64579963684082, -10.656100273132324, -10.652600288391113, -10.649399757385254, -10.657600402832031, -10.658300399780273, -10.687800407409668, -10.667699813842773, -9.755999565124512, -10.698200225830078, -10.67650032043457, -10.692399978637695, -10.694600105285645, -10.700200080871582, -10.688799858093262, -10.69159984588623, -10.70009994506836, -8.513199806213379, -9.645700454711914, -9.790599822998047, -7.7221999168396, -5.593500137329102, -10.005399703979492, -6.9517998695373535, -6.260200023651123, -9.067999839782715, -7.856299877166748, -9.80780029296875, -7.355899810791016, -7.651400089263916, -9.684300422668457, -6.72160005569458, -4.809000015258789, -5.536200046539307, -6.180099964141846, -7.396100044250488, -6.377900123596191, -8.073200225830078, -6.666200160980225, -7.88670015335083, -8.03849983215332, -6.5680999755859375, -6.541100025177002, -6.843100070953369, -6.363399982452393, -7.441400051116943, -5.911200046539307, -7.302299976348877, -6.703700065612793, -5.592800140380859, -7.304999828338623, -6.303800106048584, -6.374599933624268, -6.8282999992370605, -6.428199768066406, -6.617800235748291, -5.720799922943115, -7.069699764251709, -5.919400215148926, -6.734499931335449, -6.199100017547607, -6.815899848937988, -6.033199787139893, -6.530600070953369, -6.671500205993652, -6.002900123596191, -6.4593000411987305, -6.550099849700928, -6.547500133514404, -6.578100204467773, -6.707099914550781, -6.715199947357178, -10.295000076293945, -10.06350040435791, -10.193900108337402, -10.327300071716309, -10.750200271606445, -10.72249984741211, -10.2391996383667, -9.140600204467773, -9.892600059509277, -10.34939956665039, -10.771200180053711, -10.789600372314453, -10.768799781799316, -10.750200271606445, -9.572699546813965, -10.816100120544434, -9.654500007629395, -10.807600021362305, -10.819299697875977, -10.844099998474121, -9.531299591064453, -10.12559986114502, -10.806099891662598, -10.489100456237793, -10.79520034790039, -10.776399612426758, -10.422800064086914, -10.839900016784668, -10.415599822998047, -10.429699897766113, -9.272299766540527, -8.160599708557129, -7.8643999099731445, -9.347000122070312, -5.322400093078613, -7.408199787139893, -6.479899883270264, -6.46019983291626, -9.744600296020508, -6.930200099945068, -6.775400161743164, -7.474400043487549, -8.466400146484375, -8.09119987487793, -6.113900184631348, -7.89139986038208, -6.783100128173828, -8.383299827575684, -8.474300384521484, -5.581900119781494, -7.148600101470947, -5.751500129699707, -5.716100215911865, -7.468699932098389, -7.52269983291626, -7.159299850463867, -6.735000133514404, -7.552199840545654, -7.204599857330322, -6.839200019836426, -6.566500186920166, -6.746500015258789, -6.576099872589111, -7.7241997718811035, -6.99429988861084, -6.359399795532227, -6.6844000816345215, -6.973999977111816, -6.697199821472168, -6.468299865722656, -5.061399936676025, -6.129799842834473, -5.727499961853027, -6.558899879455566, -5.973700046539307, -6.396699905395508, -6.6346001625061035, -6.475200176239014, -6.410600185394287, -6.4096999168396, -6.243599891662598, -5.972899913787842, -6.548299789428711, -6.543700218200684, -6.563600063323975, -6.545100212097168, -6.589099884033203, -9.819700241088867, -9.819999694824219, -9.996999740600586, -10.678199768066406, -10.255499839782715, -9.784199714660645, -10.250399589538574, -10.241000175476074, -10.282600402832031, -10.693900108337402, -10.753899574279785, -9.780900001525879, -10.74120044708252, -10.718400001525879, -10.710800170898438, -10.735899925231934, -10.737700462341309, -10.74489974975586, -10.336799621582031, -10.768400192260742, -10.749199867248535, -10.048100471496582, -10.779399871826172, -10.749699592590332, -10.765199661254883, -10.76930046081543, -10.754599571228027, -10.04520034790039, -10.76550006866455, -10.365599632263184, -10.361499786376953, -8.600500106811523, -9.877900123596191, -8.99530029296875, -8.291500091552734, -9.36359977722168, -7.276299953460693, -9.674699783325195, -8.62600040435791, -9.843500137329102, -7.7795000076293945, -9.176199913024902, -9.649800300598145, -9.51830005645752, -7.809000015258789, -8.189499855041504, -6.670400142669678, -6.990900039672852, -7.686500072479248, -5.731400012969971, -7.933700084686279, -7.533699989318848, -8.024700164794922, -6.99560022354126, -6.67579984664917, -5.555300235748291, -6.743299961090088, -6.225599765777588, -7.103400230407715, -6.644199848175049, -6.244999885559082, -6.78410005569458, -7.350800037384033, -7.9847002029418945, -5.561699867248535, -4.961699962615967, -5.806000232696533, -7.270999908447266, -7.103099822998047, -6.451300144195557, -6.675600051879883, -6.627799987792969, -7.0065999031066895, -6.071199893951416, -6.446800231933594, -6.632800102233887, -6.630799770355225, -7.152599811553955, -6.701900005340576, -6.465700149536133, -6.454599857330322, -5.99429988861084, -5.884799957275391, -6.4882001876831055, -6.705699920654297, -6.545899868011475, -6.486800193786621, -6.48960018157959, -6.78410005569458, -6.5441999435424805, -6.357999801635742, -6.4604997634887695, -6.599400043487549, -6.654600143432617, -10.583800315856934, -10.287099838256836, -10.270099639892578, -10.273200035095215, -10.24899959564209, -10.723799705505371, -10.70460033416748, -10.004300117492676, -9.303299903869629, -10.750800132751465, -10.733499526977539, -10.275199890136719, -8.527899742126465, -10.702899932861328, -10.737299919128418, -10.324999809265137, -10.697699546813965, -10.72599983215332, -10.705699920654297, -10.768500328063965, -10.7524995803833, -10.714500427246094, -10.725600242614746, -10.115300178527832, -10.763500213623047, -10.741999626159668, -10.769499778747559, -10.790300369262695, -10.79010009765625, -10.719799995422363, -8.595100402832031, -9.389200210571289, -9.893600463867188, -8.650400161743164, -8.591400146484375, -7.86269998550415, -6.327700138092041, -7.861199855804443, -6.0854997634887695, -7.554800033569336, -6.90500020980835, -7.115600109100342, -6.957699775695801, -7.58519983291626, -7.658899784088135, -5.851600170135498, -7.459400177001953, -5.728400230407715, -7.332699775695801, -7.2754998207092285, -7.976799964904785, -7.059500217437744, -7.615099906921387, -7.380000114440918, -6.798799991607666, -7.251699924468994, -7.948500156402588, -7.308499813079834, -5.5346999168396, -6.338600158691406, -6.83519983291626, -6.770199775695801, -6.645299911499023, -6.764400005340576, -6.911799907684326, -6.099899768829346, -6.856400012969971, -6.543399810791016, -5.864500045776367, -6.594900131225586, -6.429800033569336, -5.739799976348877, -5.159299850463867, -6.4440999031066895, -6.66480016708374, -5.865200042724609, -6.728300094604492, -6.010499954223633, -6.116799831390381, -6.439499855041504, -6.633699893951416, -6.5167999267578125, -6.573200225830078, -6.593400001525879, -6.64739990234375, -6.731100082397461, -6.719900131225586, -6.768400192260742, -9.91100025177002, -8.496399879455566, -10.670299530029297, -10.682999610900879, -9.805999755859375, -10.726799964904785, -10.313799858093262, -10.036600112915039, -10.736100196838379, -10.745100021362305, -10.308899879455566, -10.749500274658203, -10.748700141906738, -10.026000022888184, -10.741299629211426, -9.334400177001953, -10.753399848937988, -10.762399673461914, -10.013400077819824, -10.74470043182373, -10.75979995727539, -10.769599914550781, -10.77929973602295, -9.663399696350098, -10.759300231933594, -10.767399787902832, -9.388099670410156, -10.779199600219727, -10.355899810791016, -10.792200088500977, -8.680999755859375, -9.9350004196167, -7.947199821472168, -6.514400005340576, -9.693099975585938, -8.042200088500977, -8.591300010681152, -7.535200119018555, -6.9328999519348145, -8.170000076293945, -7.585400104522705, -8.864500045776367, -7.446000099182129, -4.815800189971924, -7.787099838256836, -8.532299995422363, -9.174400329589844, -7.39300012588501, -6.301199913024902, -6.78380012512207, -6.803800106048584, -6.9542999267578125, -5.766600131988525, -7.348999977111816, -7.4633002281188965, -5.569799900054932, -5.997200012207031, -7.763199806213379, -6.815999984741211, -7.994500160217285, -6.607399940490723, -6.415599822998047, -6.308599948883057, -5.720900058746338, -6.574100017547607, -6.6057000160217285, -5.716400146484375, -5.893899917602539, -6.698999881744385, -6.826000213623047, -6.530799865722656, -6.743800163269043, -6.388000011444092, -6.4131999015808105, -6.428199768066406, -6.864799976348877, -6.123199939727783, -6.945899963378906, -6.295400142669678, -6.551700115203857, -6.477700233459473, -6.648600101470947, -6.6280999183654785, -6.397900104522705, -6.664000034332275, -6.753900051116943, -6.759099960327148], \"loglift\": [30.0, 29.0, 28.0, 27.0, 26.0, 25.0, 24.0, 23.0, 22.0, 21.0, 20.0, 19.0, 18.0, 17.0, 16.0, 15.0, 14.0, 13.0, 12.0, 11.0, 10.0, 9.0, 8.0, 7.0, 6.0, 5.0, 4.0, 3.0, 2.0, 1.0, 0.45829999446868896, 0.42089998722076416, 0.41019999980926514, 0.4050999879837036, 0.40139999985694885, 0.4002000093460083, 0.3977999985218048, 0.39489999413490295, 0.38839998841285706, 0.387800008058548, 0.3752000033855438, 0.3749000132083893, 0.37220001220703125, 0.3716000020503998, 0.3686999976634979, 0.3686999976634979, 0.36820000410079956, 0.36640000343322754, 0.36550000309944153, 0.3643999993801117, 0.36399999260902405, 0.36329999566078186, 0.36059999465942383, 0.35830000042915344, 0.35670000314712524, 0.35530000925064087, 0.3522000014781952, 0.3513000011444092, 0.35100001096725464, 0.3499000072479248, 0.33559998869895935, 0.34439998865127563, 0.29170000553131104, 0.26429998874664307, 0.2612000107765198, 0.2939000129699707, 0.28690001368522644, 0.288100004196167, 0.27219998836517334, 0.2167000025510788, 0.2142000049352646, 0.2842000126838684, 0.26589998602867126, 0.2797999978065491, 0.25850000977516174, 0.26820001006126404, 0.304500013589859, 0.27970001101493835, 0.12700000405311584, 0.2572999894618988, 0.1996999979019165, 0.2003999948501587, 0.20389999449253082, 0.26269999146461487, 0.21490000188350677, 0.02630000002682209, 0.16899999976158142, 0.16439999639987946, 0.1720000058412552, 0.11699999868869781, 0.1754000037908554, 0.1915999948978424, 0.22200000286102295, 0.1039000004529953, 0.13770000636577606, 0.14139999449253082, 0.15530000627040863, 0.0034000000450760126, 0.14509999752044678, 0.08399999886751175, 0.06989999860525131, 0.06830000132322311, -0.043800000101327896, -0.10719999670982361, 0.10270000249147415, -0.0786999985575676, 0.03849999979138374, 0.0032999999821186066, -0.020400000736117363, -0.20509999990463257, -0.09969999641180038, 0.05480000004172325, -0.258899986743927, 0.02800000086426735, -0.10199999809265137, 0.0008999999845400453, -0.10320000350475311, 0.7757999897003174, 0.7389000058174133, 0.7016000151634216, 0.6935999989509583, 0.6872000098228455, 0.682699978351593, 0.678600013256073, 0.6777999997138977, 0.676800012588501, 0.6751000285148621, 0.6672000288963318, 0.6671000123023987, 0.666100025177002, 0.6656000018119812, 0.6536999940872192, 0.6535999774932861, 0.6531999707221985, 0.6486999988555908, 0.64410001039505, 0.6420999765396118, 0.6413999795913696, 0.6402000188827515, 0.6353999972343445, 0.633899986743927, 0.6333000063896179, 0.6328999996185303, 0.6319000124931335, 0.6291000247001648, 0.6270999908447266, 0.6198999881744385, 0.5565999746322632, 0.44589999318122864, 0.5015000104904175, 0.5533000230789185, 0.5105000138282776, 0.3849000036716461, 0.35600000619888306, 0.35580000281333923, 0.5160999894142151, 0.5242999792098999, 0.29269999265670776, 0.3287000060081482, 0.3188000023365021, 0.3255999982357025, 0.1347000002861023, 0.3774000108242035, 0.26249998807907104, 0.21570000052452087, 0.4887999892234802, 0.4472000002861023, 0.1573999971151352, 0.19709999859333038, 0.28949999809265137, 0.23890000581741333, 0.2533999979496002, 0.32519999146461487, 0.1753000020980835, 0.2799000144004822, 0.383899986743927, 0.2290000021457672, 0.2150000035762787, 0.29820001125335693, 0.009700000286102295, 0.12489999830722809, 0.23330000042915344, -0.0031999999191612005, -0.023600000888109207, 0.17000000178813934, 0.07609999924898148, -0.1462000012397766, -0.1598999947309494, -0.12229999899864197, -0.08479999750852585, -0.021400000900030136, 0.02590000070631504, -0.10010000318288803, -0.003700000001117587, -0.07980000227689743, 0.029500000178813934, -0.147599995136261, -0.22360000014305115, 0.7516999840736389, 0.7412999868392944, 0.7287999987602234, 0.7129999995231628, 0.7128999829292297, 0.7092000246047974, 0.7038000226020813, 0.7001000046730042, 0.6991999745368958, 0.6966000199317932, 0.6926000118255615, 0.692300021648407, 0.6899999976158142, 0.6887000203132629, 0.6886000037193298, 0.6836000084877014, 0.6769999861717224, 0.6751000285148621, 0.6732000112533569, 0.6705999970436096, 0.6668000221252441, 0.6643999814987183, 0.6614000201225281, 0.6531000137329102, 0.6525999903678894, 0.6488999724388123, 0.6456999778747559, 0.6455000042915344, 0.6449000239372253, 0.6407999992370605, 0.6305999755859375, 0.633400022983551, 0.6324999928474426, 0.5497000217437744, 0.45170000195503235, 0.619700014591217, 0.42320001125335693, 0.3763999938964844, 0.5529999732971191, 0.43630000948905945, 0.6029999852180481, 0.37630000710487366, 0.39399999380111694, 0.5892999768257141, 0.2705000042915344, 0.04800000041723251, 0.11460000276565552, 0.17649999260902405, 0.3260999917984009, 0.19259999692440033, 0.399399995803833, 0.20149999856948853, 0.36340001225471497, 0.38339999318122864, 0.1800999939441681, 0.1737000048160553, 0.21549999713897705, 0.14190000295639038, 0.29580000042915344, 0.046300001442432404, 0.2703999876976013, 0.16130000352859497, -0.03709999844431877, 0.263700008392334, 0.0835999995470047, 0.09149999916553497, 0.17159999907016754, 0.08190000057220459, 0.11860000342130661, -0.10270000249147415, 0.20739999413490295, -0.10490000247955322, 0.11800000071525574, -0.04039999842643738, 0.13169999420642853, -0.1298999935388565, 0.028200000524520874, 0.07569999992847443, -0.19449999928474426, -0.09040000289678574, -0.07620000094175339, -0.09030000120401382, -0.18310000002384186, -0.0142000000923872, -0.05310000106692314, 0.6259999871253967, 0.6146000027656555, 0.6111999750137329, 0.5867999792098999, 0.5849999785423279, 0.579800009727478, 0.5659999847412109, 0.5612999796867371, 0.5554999709129333, 0.5546000003814697, 0.5522000193595886, 0.546999990940094, 0.5455999970436096, 0.5320000052452087, 0.5250999927520752, 0.5224000215530396, 0.5214999914169312, 0.5115000009536743, 0.5108000040054321, 0.5103999972343445, 0.5094000101089478, 0.5084999799728394, 0.5084999799728394, 0.5052000284194946, 0.503000020980835, 0.5027999877929688, 0.5005000233650208, 0.49729999899864197, 0.4943999946117401, 0.49399998784065247, 0.47749999165534973, 0.44769999384880066, 0.423799991607666, 0.4634000062942505, 0.32850000262260437, 0.40119999647140503, 0.3452000021934509, 0.33899998664855957, 0.47189998626708984, 0.3488999903202057, 0.3366999924182892, 0.3702000081539154, 0.4178999960422516, 0.396699994802475, 0.273499995470047, 0.38580000400543213, 0.31310001015663147, 0.4097999930381775, 0.4131999909877777, 0.226500004529953, 0.31869998574256897, 0.2061000019311905, 0.18719999492168427, 0.33230000734329224, 0.3327000141143799, 0.29490000009536743, 0.25279998779296875, 0.3255999982357025, 0.2741999924182892, 0.2240999937057495, 0.1875, 0.2070000022649765, 0.17440000176429749, 0.3197000026702881, 0.21660000085830688, 0.1143999993801117, 0.16259999573230743, 0.20489999651908875, 0.15530000627040863, 0.10220000147819519, -0.20440000295639038, 0.02889999933540821, -0.10939999669790268, 0.07769999653100967, -0.15929999947547913, -0.027799999341368675, 0.05829999968409538, -0.017999999225139618, -0.052000001072883606, -0.05299999937415123, -0.19840000569820404, -0.4171000123023987, -0.042899999767541885, -0.05950000137090683, -0.05350000038743019, -0.1501999944448471, -0.12290000170469284, 1.6984000205993652, 1.6979000568389893, 0.7434999942779541, 0.6859999895095825, 0.6859999895095825, 0.6804999709129333, 0.6796000003814697, 0.6607000231742859, 0.6567000150680542, 0.6550999879837036, 0.6485999822616577, 0.6381000280380249, 0.632099986076355, 0.621999979019165, 0.6211000084877014, 0.6197999715805054, 0.6169000267982483, 0.6104000210762024, 0.6101999878883362, 0.608299970626831, 0.6072999835014343, 0.6064000129699707, 0.5989999771118164, 0.5978999733924866, 0.5961999893188477, 0.5932000279426575, 0.592199981212616, 0.5914000272750854, 0.5896999835968018, 0.5895000100135803, 0.5891000032424927, 0.5662000179290771, 0.5774000287055969, 0.5576000213623047, 0.5325000286102295, 0.5601000189781189, 0.4348999857902527, 0.5598999857902527, 0.4921000003814697, 0.5582000017166138, 0.4140999913215637, 0.5109000205993652, 0.542900025844574, 0.5328999757766724, 0.39910000562667847, 0.4262000024318695, 0.2741999924182892, 0.2985000014305115, 0.366100013256073, 0.17190000414848328, 0.3871000111103058, 0.3458000123500824, 0.38679999113082886, 0.27070000767707825, 0.23389999568462372, 0.09560000151395798, 0.23849999904632568, 0.16189999878406525, 0.26980000734329224, 0.20819999277591705, 0.14990000426769257, 0.21889999508857727, 0.28049999475479126, 0.3750999867916107, -0.005900000222027302, -0.1046999990940094, 0.002400000113993883, 0.25760000944137573, 0.227400004863739, 0.10760000348091125, 0.149399995803833, 0.12269999831914902, 0.19930000603199005, -0.026000000536441803, 0.06340000033378601, 0.10360000282526016, 0.08399999886751175, 0.22750000655651093, 0.09730000048875809, 0.01850000023841858, 0.011599999852478504, -0.17990000545978546, -0.26660001277923584, -0.014299999922513962, 0.05040000006556511, -0.04050000011920929, -0.11789999902248383, -0.13300000131130219, 0.08089999854564667, -0.18559999763965607, -0.40049999952316284, -0.301800012588501, -0.14219999313354492, -0.08420000225305557, 0.7759000062942505, 0.717199981212616, 0.7132999897003174, 0.7039999961853027, 0.7016000151634216, 0.6963000297546387, 0.6949999928474426, 0.6804999709129333, 0.6732000112533569, 0.6642000079154968, 0.6636999845504761, 0.6608999967575073, 0.6582000255584717, 0.6579999923706055, 0.6546000242233276, 0.6514000296592712, 0.6481000185012817, 0.6438000202178955, 0.6434999704360962, 0.636900007724762, 0.6310999989509583, 0.6295999884605408, 0.6197999715805054, 0.6195999979972839, 0.6190000176429749, 0.6187000274658203, 0.614300012588501, 0.6136000156402588, 0.6116999983787537, 0.61080002784729, 0.5795000195503235, 0.5738000273704529, 0.578000009059906, 0.5221999883651733, 0.5180000066757202, 0.47279998660087585, 0.365200012922287, 0.45980000495910645, 0.3095000088214874, 0.39660000801086426, 0.3418999910354614, 0.3517000079154968, 0.3190999925136566, 0.3736000061035156, 0.3774999976158142, 0.19359999895095825, 0.3499000072479248, 0.17489999532699585, 0.3328999876976013, 0.31869998574256897, 0.3953000009059906, 0.29170000553131104, 0.34279999136924744, 0.31279999017715454, 0.22859999537467957, 0.29120001196861267, 0.3833000063896179, 0.28760001063346863, 0.0210999995470047, 0.13519999384880066, 0.2152000069618225, 0.20020000636577606, 0.17980000376701355, 0.1890999972820282, 0.2151000052690506, 0.058800000697374344, 0.2021999955177307, 0.11869999766349792, -0.05609999969601631, 0.12359999865293503, 0.0803999975323677, -0.1216999962925911, -0.30230000615119934, 0.06129999831318855, 0.08569999784231186, -0.21439999341964722, 0.09950000047683716, -0.19599999487400055, -0.15929999947547913, -0.0706000030040741, 0.002899999963119626, -0.1581999957561493, -0.1071000024676323, -0.10920000076293945, -0.19020000100135803, -0.01640000008046627, -0.149399995803833, -0.012299999594688416, 0.8310999870300293, 0.7254999876022339, 0.7224000096321106, 0.6937999725341797, 0.6668000221252441, 0.6644999980926514, 0.6603999733924866, 0.652899980545044, 0.6453999876976013, 0.64410001039505, 0.6435999870300293, 0.6402000188827515, 0.6383000016212463, 0.6367999911308289, 0.6331999897956848, 0.6328999996185303, 0.6241000294685364, 0.6220999956130981, 0.6216999888420105, 0.6216999888420105, 0.6190000176429749, 0.6169000267982483, 0.6121000051498413, 0.6071000099182129, 0.6065000295639038, 0.6032999753952026, 0.6018999814987183, 0.6018999814987183, 0.6003999710083008, 0.5968000292778015, 0.5386000275611877, 0.5612000226974487, 0.44940000772476196, 0.33799999952316284, 0.5346999764442444, 0.40959998965263367, 0.45019999146461487, 0.3562000095844269, 0.2939999997615814, 0.3935999870300293, 0.33219999074935913, 0.45840001106262207, 0.3149999976158142, 0.041200000792741776, 0.34200000762939453, 0.415800005197525, 0.4828999936580658, 0.2809999883174896, 0.15600000321865082, 0.20399999618530273, 0.19599999487400055, 0.21549999713897705, 0.04179999977350235, 0.2572000026702881, 0.27000001072883606, -0.014100000262260437, 0.04800000041723251, 0.3093000054359436, 0.16580000519752502, 0.33739998936653137, 0.11110000312328339, 0.06859999895095825, 0.04800000041723251, -0.07000000029802322, 0.08799999952316284, 0.08709999918937683, -0.09830000251531601, -0.0794999971985817, 0.10019999742507935, 0.11680000275373459, 0.03970000147819519, 0.08489999920129776, -0.019099999219179153, -0.025699999183416367, -0.0333000011742115, 0.10559999942779541, -0.1657000035047531, 0.13050000369548798, -0.13670000433921814, -0.04149999842047691, -0.11909999698400497, -0.08980000019073486, -0.16189999878406525, -0.4945000112056732, -0.19009999930858612, 0.002199999988079071, -0.011900000274181366]}, \"token.table\": {\"Topic\": [1, 1, 2, 3, 4, 5, 1, 2, 3, 4, 1, 2, 3, 4, 1, 2, 3, 4, 5, 6, 7, 1, 2, 3, 4, 5, 6, 7, 2, 1, 2, 3, 1, 2, 3, 4, 5, 1, 2, 3, 4, 5, 6, 7, 1, 1, 2, 3, 4, 5, 6, 7, 3, 1, 2, 3, 4, 5, 6, 7, 1, 2, 3, 4, 5, 6, 7, 1, 2, 3, 4, 1, 2, 3, 4, 5, 6, 7, 1, 2, 5, 1, 2, 3, 4, 5, 6, 7, 1, 2, 1, 2, 3, 4, 5, 6, 7, 1, 2, 1, 2, 1, 3, 2, 1, 2, 3, 4, 5, 6, 7, 1, 2, 3, 4, 5, 5, 1, 2, 3, 4, 5, 6, 7, 1, 2, 3, 4, 5, 6, 7, 1, 2, 3, 4, 5, 6, 7, 1, 1, 2, 3, 4, 5, 6, 1, 1, 1, 1, 2, 3, 4, 5, 1, 2, 3, 4, 5, 6, 7, 3, 1, 2, 3, 4, 1, 3, 4, 1, 2, 3, 1, 2, 3, 5, 1, 2, 3, 4, 5, 6, 7, 1, 2, 3, 4, 5, 6, 7, 1, 2, 3, 4, 5, 6, 7, 2, 1, 1, 2, 3, 4, 5, 6, 7, 1, 2, 3, 4, 5, 6, 7, 1, 2, 3, 4, 5, 6, 7, 1, 2, 3, 4, 5, 6, 7, 1, 2, 3, 4, 6, 7, 1, 1, 2, 3, 4, 5, 6, 7, 1, 2, 3, 4, 5, 6, 7, 1, 2, 2, 1, 2, 3, 4, 5, 1, 2, 3, 4, 5, 6, 7, 1, 2, 3, 4, 5, 6, 7, 1, 2, 3, 4, 5, 6, 7, 1, 2, 1, 2, 3, 4, 5, 6, 7, 1, 2, 3, 4, 5, 6, 7, 3, 1, 2, 3, 4, 5, 6, 7, 1, 2, 3, 4, 5, 6, 7, 1, 2, 3, 4, 5, 6, 7, 1, 1, 2, 3, 4, 5, 6, 7, 1, 2, 3, 4, 5, 6, 7, 1, 2, 4, 1, 2, 3, 4, 5, 6, 7, 2, 1, 2, 3, 4, 5, 6, 7, 1, 2, 3, 4, 5, 6, 7, 2, 1, 2, 3, 4, 5, 6, 7, 1, 1, 2, 3, 4, 5, 6, 7, 1, 2, 3, 5, 1, 2, 3, 4, 5, 6, 7, 1, 2, 3, 4, 5, 6, 7, 1, 2, 3, 4, 1, 2, 3, 4, 5, 6, 7, 1, 2, 3, 4, 5, 1, 2, 3, 4, 5, 6, 7, 1, 2, 3, 4, 5, 6, 7, 1, 2, 3, 4, 5, 6, 7, 2, 1, 2, 3, 4, 5, 6, 7, 1, 2, 3, 4, 5, 6, 7, 1, 2, 3, 4, 5, 6, 7, 1, 2, 3, 4, 5, 6, 7, 1, 2, 3, 1, 2, 3, 4, 5, 6, 7, 1, 1, 2, 3, 4, 5, 6, 7, 1, 2, 3, 4, 5, 6, 7, 1, 2, 3, 4, 5, 6, 7, 1, 2, 3, 4, 5, 6, 1, 2, 4, 1, 1, 2, 3, 4, 5, 6, 7, 1, 2, 3, 4, 5, 6, 7, 2, 1, 2, 3, 4, 5, 6, 7, 1, 2, 3, 4, 5, 6, 7, 1, 2, 3, 4, 5, 6, 7, 1, 1, 2, 3, 4, 5, 6, 7, 1, 2, 3, 4, 5, 6, 7, 1, 2, 3, 4, 5, 6, 1, 2, 1, 1, 2, 3, 4, 5, 1, 2, 3, 1, 2, 3, 4, 5, 6, 7, 1, 2, 3, 5, 1, 2, 3, 4, 5, 6, 7, 1, 2, 3, 4, 5, 6, 7, 1, 2, 3, 4, 5, 6, 7, 1, 2, 3, 4, 5, 6, 7, 1, 1, 3, 1, 2, 3, 4, 5, 6, 7, 1, 2, 3, 4, 5, 6, 7, 1, 2, 3, 4, 5, 6, 7, 1, 2, 3, 4, 5, 6, 7, 1, 2, 3, 4, 7, 1, 2, 3, 4, 5, 6, 7, 1, 2, 3, 4, 5, 6, 7, 2, 1, 2, 3, 4, 5, 6, 7, 2, 1, 3, 5, 1, 2, 3, 4, 5, 1, 2, 3, 4, 5, 6, 7, 2, 2, 1, 2, 1, 2, 3, 4, 5, 6, 7, 1, 2, 1, 2, 3, 4, 5, 6, 7, 1, 2, 3, 4, 5, 6, 7, 1, 2, 3, 4, 5, 6, 7, 1, 2, 1, 3, 1, 2, 3, 4, 5, 6, 7, 2, 1, 1, 2, 3, 4, 5, 6, 7, 2, 1, 2, 3, 4, 5, 6, 7, 1, 1, 2, 3, 4, 5, 6, 7, 1, 2, 3, 4, 5, 6, 7, 2, 1, 2, 3, 4, 5, 6, 7, 1, 2, 3, 4, 5, 6, 7, 1, 2, 3, 4, 5, 6, 7, 1, 2, 3, 4, 1, 2, 3, 4, 5, 6, 7, 1, 2, 3, 4, 1, 2, 3, 4, 5, 6, 7, 1, 2, 3, 4, 5, 6, 7, 1, 2, 3, 4, 5, 6, 7, 1, 4, 1, 2, 3, 4, 1, 1, 2, 3, 4, 5, 6, 7, 1, 1, 2, 3, 4, 5, 6, 7, 1, 2, 3, 4, 5, 6, 7, 1, 2, 3, 4, 5, 6, 7, 1, 2, 3, 4, 5, 6, 7, 2, 1, 2, 3, 4, 5, 6, 7, 1, 2, 3, 4, 5, 6, 7, 1, 2, 3, 4, 5, 6, 7, 1, 1, 2, 3, 4, 5, 6, 7, 1, 2, 3, 4, 5, 6, 7, 1, 2, 3, 4, 5, 6, 7, 1, 2, 3, 4, 5, 6, 7, 1, 2, 4, 1, 1, 1, 2, 3, 4, 1, 2, 3, 4, 5, 6, 7, 1, 3, 1, 2, 3, 4, 5, 6, 7, 1, 2, 3, 4, 5, 6, 7, 1, 2, 3, 4, 5, 6, 7, 1, 1, 2, 3, 1, 1, 2, 3, 4, 5, 6, 7, 1, 2, 3, 4, 5, 6, 7, 1, 2, 3, 4, 5, 6, 7, 1, 2, 1, 2, 3, 4, 2, 1, 2, 3, 4, 5, 6, 7, 1, 2, 3, 4, 5, 6, 7, 2, 1, 2, 3, 4, 5, 6, 7, 1, 2, 3, 4, 6, 1, 2, 3, 4, 5, 6, 7, 1, 2, 3, 4, 5, 6, 7, 1, 2, 3, 4, 5, 6, 7, 1, 1, 2, 3, 4, 5, 6, 7, 1, 2, 3, 4, 5, 6, 7, 1, 2, 3, 4, 5, 6, 7, 1, 2, 3, 4, 5, 6, 7, 1, 2, 3, 4, 5, 6, 7, 2, 1, 1, 2, 3, 4, 5, 6, 7, 1, 2, 3, 4, 5, 6, 7, 1, 2, 3, 4, 5, 6, 7, 1, 2, 3, 4, 5, 6, 7, 1, 2, 3, 4, 5, 6, 7, 1, 2, 3, 4, 5, 6, 7, 1, 1, 2, 3, 4, 1, 2, 3, 4, 5, 6, 7, 1, 2, 3, 4, 5, 6, 7, 1, 2, 3, 4, 5, 6, 1, 2, 3, 1, 2, 3, 4, 5, 1, 2, 3, 4, 5, 6, 7, 1, 2, 3, 4, 5, 7, 1, 2, 3, 4, 5, 6, 7, 1, 2, 3, 4, 5, 6, 7, 1, 2, 3, 4, 5, 6, 7, 1, 2, 3, 4, 5, 6, 7, 1, 2, 3, 4, 5, 6, 7, 1, 2, 3, 4, 5, 6, 7, 1, 2, 3, 4, 5, 6, 7, 1, 2, 3, 4, 5, 6, 7, 1, 2, 3, 4, 5, 6, 7, 1, 2, 3, 4, 5, 6, 7, 1, 2, 3, 4, 5, 6, 7, 1, 2, 3, 4, 5, 6, 7, 1, 1, 2, 3, 4, 5, 6, 7, 1, 2, 3, 4, 5, 6, 7, 1, 2, 3, 4, 5, 6, 7, 1, 2, 3, 4, 5, 6, 7, 1, 1, 2, 3, 4, 5, 6, 7, 1, 2, 3, 4, 5, 6, 7, 1, 2, 3, 4, 1, 4, 1, 2, 3, 4, 5, 6, 1, 2, 3, 4, 5, 6, 7, 2, 1, 2, 3, 4, 5, 6, 7, 2, 1, 2, 3, 4, 5, 6, 7, 1, 2, 3, 4, 5, 6, 7, 1, 2, 3, 4, 1, 2, 3, 4, 1, 2, 3, 4, 5, 6, 7, 1, 2, 3, 4, 5, 6, 7, 1, 2, 1, 2, 3, 4, 5, 6, 7, 1, 2, 4, 1, 2, 3, 4, 1, 2, 3, 4, 5, 6, 7, 1, 2, 3, 1, 1, 3, 1, 2, 3, 4, 5, 6, 7, 1, 2, 3, 4, 5, 6, 7, 1, 2, 3, 4, 5, 1, 2, 3, 4, 5, 6, 7, 1, 2, 1, 1, 2, 3, 4, 5, 6, 7, 1, 2, 3, 4, 5, 6, 7, 1, 2, 3, 4, 5, 6, 7, 1, 2, 3, 4, 5, 6, 7, 2, 1, 2, 3, 1, 1, 2, 3, 4, 5, 6, 7, 1, 2, 3, 4, 5, 6, 7, 1, 2, 3, 4, 5, 6, 7, 1, 2, 3, 4, 5, 6, 7, 1, 2, 3, 4, 5, 6, 7, 1, 4, 1, 2, 3, 4, 5, 6, 7, 1, 2, 3, 4, 5, 6, 7, 1, 2, 3, 4, 5, 6, 7, 1, 2, 3, 4, 5, 6, 7, 1, 2, 3, 4, 5, 6, 7, 1, 3, 1, 2, 3, 4, 5, 6, 7, 1, 2, 3, 4, 5, 6, 7, 1, 2, 3, 4, 1, 2, 3, 4, 5, 6, 7, 1, 2, 3, 4, 5, 6, 7, 1, 2, 3, 4, 5, 6, 7, 1, 2, 3, 4, 5, 6, 7, 1, 2, 3, 4, 5, 6, 7, 1, 4, 5, 1, 1, 2, 3, 4, 5, 1, 2, 3, 4, 6, 1, 2, 1, 2, 3, 1, 2, 3, 4, 5, 6, 7, 1, 2, 3, 4, 5, 6, 7, 1, 1, 2, 3, 4, 5, 6, 7, 1, 2, 3, 4, 5, 6, 7, 1, 2, 3, 4, 5, 6, 7, 1, 3, 1, 2, 3, 4, 5, 6, 7, 1, 2, 3, 4, 5, 6, 7, 1, 2, 3, 4, 5, 6, 7, 1, 1, 1, 1, 2, 3, 4, 5, 7, 1, 2, 3, 4, 5, 6, 7, 1, 2, 3, 4, 5, 6, 7, 1, 2, 3, 4, 5, 6, 7, 1, 2, 3, 4, 5, 6, 7, 1, 1, 2, 3, 4, 5, 6, 7, 1, 1, 2, 3, 4, 5, 6, 7, 1, 1, 2, 3, 4, 5, 6, 7, 1, 1, 2, 3, 4, 5, 6, 7], \"Freq\": [0.66079181432724, 0.36208340525627136, 0.18104170262813568, 0.18104170262813568, 0.18104170262813568, 0.18104170262813568, 0.5509965419769287, 0.13774913549423218, 0.13774913549423218, 0.13774913549423218, 0.22740605473518372, 0.22740605473518372, 0.22740605473518372, 0.22740605473518372, 0.3496042788028717, 0.17480213940143585, 0.17480213940143585, 0.08740106970071793, 0.08740106970071793, 0.08740106970071793, 0.08740106970071793, 0.3014366030693054, 0.22607745230197906, 0.1507183015346527, 0.1507183015346527, 0.07535915076732635, 0.07535915076732635, 0.07535915076732635, 0.6318989396095276, 0.3214053511619568, 0.3214053511619568, 0.3214053511619568, 0.538948118686676, 0.10778962820768356, 0.10778962820768356, 0.10778962820768356, 0.10778962820768356, 0.28969934582710266, 0.1931329071521759, 0.2172745168209076, 0.12070806324481964, 0.09656645357608795, 0.07242483645677567, 0.048283226788043976, 0.5556426644325256, 0.46181344985961914, 0.14694064855575562, 0.10495760291814804, 0.12594912946224213, 0.06297456473112106, 0.06297456473112106, 0.041983041912317276, 0.4473714828491211, 0.38577720522880554, 0.1662832796573639, 0.1729346215724945, 0.11972396075725555, 0.0665133148431778, 0.05321064963936806, 0.04655931890010834, 0.2679571807384491, 0.14615847170352936, 0.24359744787216187, 0.14615847170352936, 0.09743897616863251, 0.048719488084316254, 0.048719488084316254, 0.5552984476089478, 0.13882461190223694, 0.13882461190223694, 0.13882461190223694, 0.37783652544021606, 0.14168868958950043, 0.17317506670951843, 0.12069777399301529, 0.08921139687299728, 0.05772502347826958, 0.041981834918260574, 0.261539489030838, 0.261539489030838, 0.261539489030838, 0.34204137325286865, 0.14790977537631989, 0.16639851033687592, 0.14790977537631989, 0.08319925516843796, 0.06471052765846252, 0.04622180759906769, 0.3607114851474762, 0.3607114851474762, 0.27952778339385986, 0.15529321134090424, 0.18635185062885284, 0.18635185062885284, 0.09317592531442642, 0.062117282301187515, 0.062117282301187515, 0.6182379722595215, 0.6192072629928589, 0.5398575067520142, 0.6115680932998657, 0.4400758147239685, 0.4400758147239685, 0.6162636280059814, 0.45909246802330017, 0.19330209493637085, 0.14497657120227814, 0.07248828560113907, 0.04832552373409271, 0.04832552373409271, 0.04832552373409271, 0.3774168789386749, 0.12580563127994537, 0.12580563127994537, 0.12580563127994537, 0.12580563127994537, 0.7850245833396912, 0.38213911652565, 0.18372073769569397, 0.1322789341211319, 0.14697659015655518, 0.05879063531756401, 0.04409297555685043, 0.04409297555685043, 0.2325638234615326, 0.31008508801460266, 0.15504254400730133, 0.07752127200365067, 0.07752127200365067, 0.07752127200365067, 0.07752127200365067, 0.29892468452453613, 0.13949818909168243, 0.1594264954328537, 0.17935481667518616, 0.09964156150817871, 0.059784937649965286, 0.039856623858213425, 0.4599207043647766, 0.2354908287525177, 0.11774541437625885, 0.2354908287525177, 0.11774541437625885, 0.11774541437625885, 0.11774541437625885, 0.4359760880470276, 0.5656147599220276, 0.5537626147270203, 0.3837990462779999, 0.2878492772579193, 0.09594976156949997, 0.09594976156949997, 0.09594976156949997, 0.3755166530609131, 0.1826837807893753, 0.17253468930721283, 0.08119279146194458, 0.09134189039468765, 0.05074549466371536, 0.05074549466371536, 0.4448321759700775, 0.3406127095222473, 0.17030635476112366, 0.17030635476112366, 0.17030635476112366, 0.25939854979515076, 0.25939854979515076, 0.25939854979515076, 0.2825380563735962, 0.2825380563735962, 0.2825380563735962, 0.20857058465480804, 0.20857058465480804, 0.20857058465480804, 0.20857058465480804, 0.26586341857910156, 0.2917112708091736, 0.15139445662498474, 0.12923917174339294, 0.06277330964803696, 0.059080760926008224, 0.03692547604441643, 0.27563169598579407, 0.3307580351829529, 0.11025268584489822, 0.11025268584489822, 0.05512634292244911, 0.05512634292244911, 0.05512634292244911, 0.3317161500453949, 0.1601388305425644, 0.14870034158229828, 0.14870034158229828, 0.11438488215208054, 0.05719244107604027, 0.03431546315550804, 0.6134036183357239, 0.45672938227653503, 0.31660351157188416, 0.1999601125717163, 0.14997008442878723, 0.13330674171447754, 0.08331671357154846, 0.08331671357154846, 0.033326685428619385, 0.32057493925094604, 0.26152166724205017, 0.16028746962547302, 0.10967037826776505, 0.06748946011066437, 0.04218091443181038, 0.04218091443181038, 0.24849504232406616, 0.14199715852737427, 0.24849504232406616, 0.14199715852737427, 0.1064978763461113, 0.03549928963184357, 0.03549928963184357, 0.2902860939502716, 0.1935240626335144, 0.13823147118091583, 0.16587777435779572, 0.0967620313167572, 0.06911573559045792, 0.04146944358944893, 0.31603214144706726, 0.15801607072353363, 0.23702411353588104, 0.07900803536176682, 0.07900803536176682, 0.07900803536176682, 0.6700306534767151, 0.35018038749694824, 0.19203440845012665, 0.13555370271205902, 0.11296141892671585, 0.0790729895234108, 0.0790729895234108, 0.04518456757068634, 0.26714831590652466, 0.1780988872051239, 0.23152855038642883, 0.14247910678386688, 0.08904944360256195, 0.07123955339193344, 0.03561977669596672, 0.34278133511543274, 0.34278133511543274, 0.6193056106567383, 0.2702628970146179, 0.4053943157196045, 0.13513144850730896, 0.13513144850730896, 0.13513144850730896, 0.29875901341438293, 0.14937950670719147, 0.2240692526102066, 0.1120346263051033, 0.1120346263051033, 0.03734487667679787, 0.03734487667679787, 0.45135655999183655, 0.1400761753320694, 0.15564019978046417, 0.07782009989023209, 0.06225607916712761, 0.07782009989023209, 0.031128039583563805, 0.2555306851863861, 0.24336254596710205, 0.17035378515720367, 0.1338493973016739, 0.06084063649177551, 0.07300876080989838, 0.04867250844836235, 0.4353709816932678, 0.2176854908466339, 0.37305888533592224, 0.13989707827568054, 0.15544119477272034, 0.13989707827568054, 0.07772059738636017, 0.07772059738636017, 0.031088240444660187, 0.39240312576293945, 0.10627584159374237, 0.1635012924671173, 0.1553262323141098, 0.08175064623355865, 0.06540051847696304, 0.04087532311677933, 0.43975189328193665, 0.34889689087867737, 0.14952723681926727, 0.23675145208835602, 0.09968482702970505, 0.07476361840963364, 0.03738180920481682, 0.049842413514852524, 0.3633463978767395, 0.24655649065971375, 0.1297665685415268, 0.0973249301314354, 0.07785994559526443, 0.04541829973459244, 0.03892997279763222, 0.34471139311790466, 0.08617784827947617, 0.12926676869392395, 0.17235569655895233, 0.12926676869392395, 0.04308892413973808, 0.04308892413973808, 0.3677266836166382, 0.344885915517807, 0.18202312290668488, 0.14370247721672058, 0.1724429577589035, 0.0670611560344696, 0.04790082201361656, 0.04790082201361656, 0.29904496669769287, 0.14952248334884644, 0.14952248334884644, 0.14952248334884644, 0.14952248334884644, 0.07476124167442322, 0.07476124167442322, 0.24291463196277618, 0.24291463196277618, 0.24291463196277618, 0.32008498907089233, 0.22043588757514954, 0.16608183085918427, 0.15400315821170807, 0.05435405299067497, 0.048314716666936874, 0.03623603656888008, 0.6275185942649841, 0.36814185976982117, 0.23008866608142853, 0.10226162523031235, 0.11760087311267853, 0.08180930465459824, 0.051130812615156174, 0.046017732471227646, 0.31020477414131165, 0.215794637799263, 0.16184596717357635, 0.1753331422805786, 0.06743582338094711, 0.04046149179339409, 0.04046149179339409, 0.6210026144981384, 0.3777514100074768, 0.17434680461883545, 0.17434680461883545, 0.10170230269432068, 0.10170230269432068, 0.029057802632451057, 0.04358670115470886, 0.6516237258911133, 0.21720916032791138, 0.271511435508728, 0.21720916032791138, 0.10860458016395569, 0.10860458016395569, 0.054302290081977844, 0.054302290081977844, 0.2737792134284973, 0.2737792134284973, 0.2737792134284973, 0.2737792134284973, 0.33021071553230286, 0.16510535776615143, 0.16510535776615143, 0.12382902204990387, 0.12382902204990387, 0.061914511024951935, 0.04127633944153786, 0.38347548246383667, 0.16367855668067932, 0.13094283640384674, 0.10756019502878189, 0.09353060275316238, 0.07482448220252991, 0.042088769376277924, 0.21572692692279816, 0.21572692692279816, 0.21572692692279816, 0.21572692692279816, 0.31109118461608887, 0.15998974442481995, 0.17776638269424438, 0.17554430663585663, 0.09110527485609055, 0.044441595673561096, 0.04221951588988304, 0.47814249992370605, 0.15938083827495575, 0.15938083827495575, 0.15938083827495575, 0.15938083827495575, 0.3298228085041046, 0.13192912936210632, 0.13192912936210632, 0.13192912936210632, 0.13192912936210632, 0.06596456468105316, 0.06596456468105316, 0.2669309973716736, 0.2669309973716736, 0.15253201127052307, 0.1334654986858368, 0.09533250331878662, 0.03813300281763077, 0.03813300281763077, 0.4509665369987488, 0.17136728763580322, 0.10372230410575867, 0.12176096439361572, 0.06764498353004456, 0.04509665444493294, 0.040586989372968674, 0.6202337145805359, 0.3859073519706726, 0.1715143769979477, 0.1715143769979477, 0.10719648748636246, 0.06431789696216583, 0.04287859424948692, 0.06431789696216583, 0.3223462700843811, 0.16117313504219055, 0.16117313504219055, 0.18131978809833527, 0.08058656752109528, 0.04029328376054764, 0.04029328376054764, 0.2107941061258316, 0.3011344373226166, 0.1505672186613083, 0.1505672186613083, 0.060226887464523315, 0.060226887464523315, 0.060226887464523315, 0.2566491365432739, 0.2199849784374237, 0.1833208203315735, 0.12832456827163696, 0.07332832366228104, 0.07332832366228104, 0.054996244609355927, 0.6194956302642822, 0.20649854838848114, 0.20649854838848114, 0.3048970699310303, 0.15244853496551514, 0.15244853496551514, 0.07622426748275757, 0.07622426748275757, 0.07622426748275757, 0.07622426748275757, 0.35824182629585266, 0.28484517335891724, 0.14242258667945862, 0.21363386511802673, 0.14242258667945862, 0.14242258667945862, 0.07121129333972931, 0.07121129333972931, 0.4008028507232666, 0.15030106902122498, 0.1377759724855423, 0.1252508908510208, 0.10020071268081665, 0.050100356340408325, 0.050100356340408325, 0.33531302213668823, 0.17883360385894775, 0.15647940337657928, 0.13412520289421082, 0.11177100241184235, 0.05588550120592117, 0.033531300723552704, 0.499004989862442, 0.16633500158786774, 0.08316750079393387, 0.08316750079393387, 0.08316750079393387, 0.08316750079393387, 0.4248199760913849, 0.4248199760913849, 0.4248199760913849, 0.5674297213554382, 0.35501766204833984, 0.14618374407291412, 0.20883391797542572, 0.10441695898771286, 0.08353357017040253, 0.0626501739025116, 0.0626501739025116, 0.3350294232368469, 0.1763312816619873, 0.2115975320339203, 0.10579876601696014, 0.05289938300848007, 0.05289938300848007, 0.05289938300848007, 0.6275522112846375, 0.3529887795448303, 0.21179327368736267, 0.14119552075862885, 0.14119552075862885, 0.07059776037931442, 0.07059776037931442, 0.07059776037931442, 0.1828710287809372, 0.2560194432735443, 0.21944524347782135, 0.10972262173891068, 0.10972262173891068, 0.07314841449260712, 0.07314841449260712, 0.29610398411750793, 0.19458262622356415, 0.1692022830247879, 0.1607421636581421, 0.08460114151239395, 0.042300570756196976, 0.05076068639755249, 0.4434765875339508, 0.3521938621997833, 0.18039196729660034, 0.14603160321712494, 0.12885141372680664, 0.1030811294913292, 0.0515405647456646, 0.0343603752553463, 0.42060092091560364, 0.1617695838212967, 0.13750414550304413, 0.11323870718479156, 0.06470783054828644, 0.04853087291121483, 0.04853087291121483, 0.3760184943675995, 0.15040740370750427, 0.15040740370750427, 0.07520370185375214, 0.07520370185375214, 0.07520370185375214, 0.3251095414161682, 0.3251095414161682, 0.4450697600841522, 0.2553390860557556, 0.2553390860557556, 0.1276695430278778, 0.2553390860557556, 0.1276695430278778, 0.45089682936668396, 0.22544841468334198, 0.22544841468334198, 0.2887684404850006, 0.19251230359077454, 0.19251230359077454, 0.09625615179538727, 0.12834154069423676, 0.06417077034711838, 0.03208538517355919, 0.27119967341423035, 0.27119967341423035, 0.27119967341423035, 0.27119967341423035, 0.4013020396232605, 0.14332215487957, 0.11465772986412048, 0.11465772986412048, 0.11465772986412048, 0.05732886493206024, 0.05732886493206024, 0.2834841310977936, 0.171409010887146, 0.24722453951835632, 0.10218614339828491, 0.07911185175180435, 0.06592654436826706, 0.04614857956767082, 0.4524180293083191, 0.1439511924982071, 0.12338673323392868, 0.1439511924982071, 0.06169336661696434, 0.04112891107797623, 0.06169336661696434, 0.37033167481422424, 0.225419282913208, 0.12881101667881012, 0.12076032906770706, 0.07245619595050812, 0.048304133117198944, 0.040253445506095886, 0.45703068375587463, 0.36130738258361816, 0.36130738258361816, 0.46460527181625366, 0.14518915116786957, 0.14518915116786957, 0.08711348474025726, 0.05807565897703171, 0.05807565897703171, 0.029037829488515854, 0.3384307324886322, 0.2239615023136139, 0.14433075487613678, 0.1244230642914772, 0.06967691332101822, 0.0447923019528389, 0.04976922273635864, 0.2660187780857086, 0.1941218227148056, 0.1581733375787735, 0.17974242568016052, 0.09346605837345123, 0.06470727175474167, 0.035948485136032104, 0.4250233471393585, 0.18990404903888702, 0.09947355091571808, 0.10851659625768661, 0.09043049812316895, 0.04521524906158447, 0.03617219999432564, 0.33294785022735596, 0.16647392511367798, 0.16647392511367798, 0.16647392511367798, 0.16647392511367798, 0.2826383709907532, 0.21982984244823456, 0.15702131390571594, 0.12561705708503723, 0.09421279281377792, 0.04710639640688896, 0.06280852854251862, 0.37286272644996643, 0.16948305070400238, 0.1920807957649231, 0.10168983042240143, 0.07909209281206131, 0.045195478945970535, 0.033896610140800476, 0.621953010559082, 0.2919771671295166, 0.19465143978595734, 0.12976762652397156, 0.16220952570438385, 0.06488381326198578, 0.06488381326198578, 0.06488381326198578, 0.6110300421714783, 0.2570430338382721, 0.2570430338382721, 0.2570430338382721, 0.26787957549095154, 0.13393978774547577, 0.13393978774547577, 0.26787957549095154, 0.13393978774547577, 0.34313103556632996, 0.15596865117549896, 0.24954983592033386, 0.0935811921954155, 0.062387458980083466, 0.062387458980083466, 0.062387458980083466, 0.6223412752151489, 0.6151649951934814, 0.4696221649646759, 0.6250492930412292, 0.3940046727657318, 0.18993045389652252, 0.15154024958610535, 0.08284200727939606, 0.08284200727939606, 0.05657503008842468, 0.04445180669426918, 0.39188021421432495, 0.39188021421432495, 0.40713706612586975, 0.17448730766773224, 0.1421748548746109, 0.10339988768100739, 0.06462492793798447, 0.06462492793798447, 0.05169994384050369, 0.35561785101890564, 0.21497800946235657, 0.16575407981872559, 0.1024661585688591, 0.07433819025754929, 0.04118737578392029, 0.04621022939682007, 0.3669885993003845, 0.16681300103664398, 0.10008779913187027, 0.16681300103664398, 0.13345040380954742, 0.033362600952386856, 0.033362600952386856, 0.35363656282424927, 0.35363656282424927, 0.4586397409439087, 0.22931987047195435, 0.5410247445106506, 0.1159338727593422, 0.15457850694656372, 0.07728925347328186, 0.07728925347328186, 0.03864462673664093, 0.03864462673664093, 0.6212304830551147, 0.3766106069087982, 0.4706510603427887, 0.18826042115688324, 0.09413021057844162, 0.09413021057844162, 0.04706510528922081, 0.04706510528922081, 0.04706510528922081, 0.6380266547203064, 0.3376360237598419, 0.20258161425590515, 0.19507859647274017, 0.10504231601953506, 0.06752720475196838, 0.06002418324351311, 0.03751511499285698, 0.3722682297229767, 0.3529926538467407, 0.2567219138145447, 0.12836095690727234, 0.09627071768045425, 0.06418047845363617, 0.09627071768045425, 0.032090239226818085, 0.35907313227653503, 0.1511886864900589, 0.15748821198940277, 0.1322900950908661, 0.07559434324502945, 0.08189387619495392, 0.050396230071783066, 0.43184447288513184, 0.40185725688934326, 0.15862785279750824, 0.1480526626110077, 0.15862785279750824, 0.052875954657793045, 0.03172557055950165, 0.0423007607460022, 0.45128995180130005, 0.14251261949539185, 0.16626471281051636, 0.09500841051340103, 0.047504205256700516, 0.047504205256700516, 0.023752102628350258, 0.32559627294540405, 0.1953577697277069, 0.09767888486385345, 0.16279813647270203, 0.06511925905942917, 0.09767888486385345, 0.032559629529714584, 0.189700648188591, 0.189700648188591, 0.189700648188591, 0.189700648188591, 0.39709973335266113, 0.12458030879497528, 0.17129792273044586, 0.14015284180641174, 0.07007642090320587, 0.05450388416647911, 0.03114507719874382, 0.46226656436920166, 0.1540888547897339, 0.1540888547897339, 0.1540888547897339, 0.3055364787578583, 0.15276823937892914, 0.27498283982276917, 0.09166093915700912, 0.061107296496629715, 0.061107296496629715, 0.061107296496629715, 0.3958428204059601, 0.11309795081615448, 0.11309795081615448, 0.16964691877365112, 0.05654897540807724, 0.05654897540807724, 0.05654897540807724, 0.3959268629550934, 0.1878974884748459, 0.13421249389648438, 0.09394874423742294, 0.0872381180524826, 0.05368499830365181, 0.04697437211871147, 0.4320412576198578, 0.4320412576198578, 0.22616523504257202, 0.22616523504257202, 0.22616523504257202, 0.22616523504257202, 0.4273418188095093, 0.3171996772289276, 0.2595270276069641, 0.1369725912809372, 0.10813625901937485, 0.07209083437919617, 0.05767267197370529, 0.04325450211763382, 0.4400751292705536, 0.33546561002731323, 0.23224543035030365, 0.12902523577213287, 0.12042355537414551, 0.08601682633161545, 0.043008413165807724, 0.043008413165807724, 0.31080126762390137, 0.16952796280384064, 0.16952796280384064, 0.14127330482006073, 0.11301863938570023, 0.05650931969285011, 0.028254659846425056, 0.3412782549858093, 0.18959903717041016, 0.11375942081212997, 0.18959903717041016, 0.07583960890769958, 0.07583960890769958, 0.03791980445384979, 0.29511603713035583, 0.2459300309419632, 0.13526152074337006, 0.14755801856517792, 0.08607550710439682, 0.04918600618839264, 0.03688950464129448, 0.6220442056655884, 0.35131824016571045, 0.14052729308605194, 0.14052729308605194, 0.14052729308605194, 0.10539546608924866, 0.035131823271512985, 0.035131823271512985, 0.47094619274139404, 0.15698206424713135, 0.12209716439247131, 0.1046547070145607, 0.06976980715990067, 0.03488490357995033, 0.03488490357995033, 0.2599271833896637, 0.23207785189151764, 0.17173761129379272, 0.16709604859352112, 0.09747269749641418, 0.03249089792370796, 0.04177401214838028, 0.4557015001773834, 0.35319674015045166, 0.18500781059265137, 0.10932280123233795, 0.13455113768577576, 0.10091335326433182, 0.05886612460017204, 0.05045667663216591, 0.2800394296646118, 0.22108376026153564, 0.17686700820922852, 0.1031724214553833, 0.08843350410461426, 0.07369458675384521, 0.05895566940307617, 0.43131646513938904, 0.19028668105602264, 0.1395435631275177, 0.08880045264959335, 0.06342889368534088, 0.050743114203214645, 0.025371557101607323, 0.33823737502098083, 0.2767396867275238, 0.12299541383981705, 0.12299541383981705, 0.061497706919908524, 0.030748853459954262, 0.030748853459954262, 0.3587179183959961, 0.3587179183959961, 0.3587179183959961, 0.4332524836063385, 0.4386240541934967, 0.20512555539608002, 0.20512555539608002, 0.20512555539608002, 0.20512555539608002, 0.21920278668403625, 0.14613519608974457, 0.29227039217948914, 0.14613519608974457, 0.07306759804487228, 0.07306759804487228, 0.07306759804487228, 0.33586928248405457, 0.33586928248405457, 0.33407488465309143, 0.16703744232654572, 0.21259310841560364, 0.10629655420780182, 0.09111133217811584, 0.04555566608905792, 0.04555566608905792, 0.44706130027770996, 0.19159770011901855, 0.11031382530927658, 0.0987018495798111, 0.06967189162969589, 0.04644792899489403, 0.029029954224824905, 0.42502662539482117, 0.13661569356918335, 0.15179522335529327, 0.12143617868423462, 0.06071808934211731, 0.06071808934211731, 0.030359044671058655, 0.5467004776000977, 0.33373430371284485, 0.33373430371284485, 0.33373430371284485, 0.6706967353820801, 0.3687140941619873, 0.16387292742729187, 0.16387292742729187, 0.15363086760044098, 0.06145234778523445, 0.04096823185682297, 0.030726173892617226, 0.5334540605545044, 0.1333635151386261, 0.1333635151386261, 0.06668175756931305, 0.06668175756931305, 0.06668175756931305, 0.06668175756931305, 0.3258136808872223, 0.15514937043190002, 0.17066431045532227, 0.12411949038505554, 0.1086045578122139, 0.07757468521595001, 0.031029872596263885, 0.6507946848869324, 0.6161778569221497, 0.21361425518989563, 0.21361425518989563, 0.21361425518989563, 0.21361425518989563, 0.6177323460578918, 0.3133379817008972, 0.21411427855491638, 0.18278048932552338, 0.12011288851499557, 0.0783344954252243, 0.05744529515504837, 0.0313337966799736, 0.34509390592575073, 0.24649564921855927, 0.13146434724330902, 0.09859825670719147, 0.06573217362165451, 0.049299128353595734, 0.049299128353595734, 0.6249498724937439, 0.33288925886154175, 0.1930757611989975, 0.18641798198223114, 0.12649790942668915, 0.0732356384396553, 0.05326227843761444, 0.033288925886154175, 0.3315502405166626, 0.1657751202583313, 0.1657751202583313, 0.1657751202583313, 0.1657751202583313, 0.3215571343898773, 0.142914280295372, 0.23223571479320526, 0.1369595229625702, 0.07741190493106842, 0.05359285697340965, 0.029773809015750885, 0.3870544135570526, 0.14852088689804077, 0.1890265792608261, 0.12151708453893661, 0.07201012223958969, 0.036005061119794846, 0.04500632733106613, 0.3272102177143097, 0.16360510885715485, 0.16360510885715485, 0.12270383536815643, 0.08180255442857742, 0.04090127721428871, 0.08180255442857742, 0.6630154848098755, 0.2732529640197754, 0.19618161022663116, 0.16114917397499084, 0.1751621514558792, 0.0910843163728714, 0.04904540255665779, 0.04904540255665779, 0.23647312819957733, 0.15764875710010529, 0.15764875710010529, 0.15764875710010529, 0.07882437855005264, 0.07882437855005264, 0.07882437855005264, 0.48784777522087097, 0.16261592507362366, 0.08130796253681183, 0.08130796253681183, 0.08130796253681183, 0.08130796253681183, 0.08130796253681183, 0.3090211749076843, 0.20601411163806915, 0.1442098766565323, 0.16481129825115204, 0.08240564912557602, 0.061804234981536865, 0.04120282456278801, 0.3024669587612152, 0.18484091758728027, 0.2016446441411972, 0.11762604117393494, 0.08401860296726227, 0.0504111610352993, 0.0504111610352993, 0.6322675347328186, 0.4450591206550598, 0.3143836259841919, 0.2505956292152405, 0.1458010971546173, 0.12301968038082123, 0.07290054857730865, 0.050119128078222275, 0.04556284472346306, 0.35166609287261963, 0.15712741017341614, 0.18705643713474274, 0.12719836831092834, 0.0897870883345604, 0.05237580090761185, 0.0448935441672802, 0.3481702506542206, 0.19546400010585785, 0.15270625054836273, 0.1221650019288063, 0.07940725237131119, 0.06108250096440315, 0.04886600002646446, 0.4507240951061249, 0.12394912540912628, 0.13521723449230194, 0.12394912540912628, 0.06760861724615097, 0.05634051188826561, 0.04507241025567055, 0.33597972989082336, 0.16344960033893585, 0.19977174699306488, 0.1089664027094841, 0.09080533683300018, 0.06356373429298401, 0.03632213547825813, 0.2830410301685333, 0.16982461512088776, 0.1585029810667038, 0.1811462640762329, 0.09057313203811646, 0.06792984902858734, 0.056608207523822784, 0.44703400135040283, 0.3388898968696594, 0.3388898968696594, 0.3388898968696594, 0.3388898968696594, 0.34127023816108704, 0.17385464906692505, 0.18673278391361237, 0.10946404188871384, 0.09014686197042465, 0.05151249095797539, 0.038634367287158966, 0.36820322275161743, 0.13700585067272186, 0.1883830428123474, 0.11988011747598648, 0.07706578820943832, 0.05994005873799324, 0.05137719586491585, 0.47972044348716736, 0.09594408422708511, 0.09594408422708511, 0.09594408422708511, 0.09594408422708511, 0.09594408422708511, 0.27599912881851196, 0.27599912881851196, 0.27599912881851196, 0.2175038903951645, 0.2175038903951645, 0.2175038903951645, 0.2175038903951645, 0.2175038903951645, 0.3408767580986023, 0.19122354686260223, 0.14133913815021515, 0.1163969412446022, 0.08314067125320435, 0.06651253998279572, 0.04988440126180649, 0.18391422927379608, 0.2758713364601135, 0.18391422927379608, 0.09195711463689804, 0.09195711463689804, 0.09195711463689804, 0.31432807445526123, 0.19133011996746063, 0.1503308117389679, 0.1776636838912964, 0.05466574802994728, 0.08199862390756607, 0.040999311953783035, 0.3193551301956177, 0.23723523318767548, 0.15511533617973328, 0.15511533617973328, 0.04562215879559517, 0.04562215879559517, 0.036497727036476135, 0.3116163909435272, 0.2256532460451126, 0.15043549239635468, 0.10745392739772797, 0.08596314489841461, 0.042981572449207306, 0.06447235494852066, 0.41254356503486633, 0.20237985253334045, 0.12454145401716232, 0.07783840596675873, 0.08562225103378296, 0.046703044325113297, 0.046703044325113297, 0.3674430549144745, 0.2663962244987488, 0.11941899359226227, 0.1010468378663063, 0.06430253386497498, 0.05511645972728729, 0.03674430400133133, 0.32841968536376953, 0.32841968536376953, 0.10947323590517044, 0.10947323590517044, 0.05473661795258522, 0.05473661795258522, 0.05473661795258522, 0.4084998071193695, 0.15402452647686005, 0.1339343637228012, 0.15402452647686005, 0.07366389781236649, 0.04018031060695648, 0.0334835909307003, 0.45765629410743713, 0.13348308205604553, 0.11441407352685928, 0.11441407352685928, 0.07627604901790619, 0.05720703676342964, 0.038138024508953094, 0.29169097542762756, 0.22362974286079407, 0.17501458525657654, 0.11667639017105103, 0.08750729262828827, 0.0680612251162529, 0.03889213129878044, 0.42918989062309265, 0.16487173736095428, 0.14131861925125122, 0.10729747265577316, 0.06804230064153671, 0.04448919743299484, 0.041872184723615646, 0.486798495054245, 0.12981292605400085, 0.16226616501808167, 0.09735969454050064, 0.032453231513500214, 0.032453231513500214, 0.032453231513500214, 0.3288409113883972, 0.119578517973423, 0.239157035946846, 0.1494731456041336, 0.0896838903427124, 0.0597892589867115, 0.02989462949335575, 0.5659878849983215, 0.2697694003582001, 0.2566099166870117, 0.1776530146598816, 0.1184353455901146, 0.09211637824773788, 0.05263793095946312, 0.03289870545268059, 0.33481916785240173, 0.13392765820026398, 0.1785702109336853, 0.13392765820026398, 0.08928510546684265, 0.06696382910013199, 0.044642552733421326, 0.3327334523200989, 0.1512424796819687, 0.21173948049545288, 0.12099398672580719, 0.09074549376964569, 0.060496993362903595, 0.045372746884822845, 0.3443647623062134, 0.15893758833408356, 0.15893758833408356, 0.1324479877948761, 0.10595839470624924, 0.05297919735312462, 0.05297919735312462, 0.34117236733436584, 0.26338469982147217, 0.22939959168434143, 0.2039107382297516, 0.144436776638031, 0.06797024607658386, 0.05947396904230118, 0.03398512303829193, 0.4094851613044739, 0.15682409703731537, 0.14811165630817413, 0.12197430431842804, 0.06969960033893585, 0.05227470025420189, 0.04356225207448006, 0.28461068868637085, 0.14230534434318542, 0.14230534434318542, 0.14230534434318542, 0.42908892035484314, 0.42908892035484314, 0.32998746633529663, 0.10999582707881927, 0.21999165415763855, 0.10999582707881927, 0.10999582707881927, 0.10999582707881927, 0.37160491943359375, 0.1707374006509781, 0.17575909197330475, 0.11047714203596115, 0.08536870032548904, 0.050216883420944214, 0.04017350450158119, 0.6302900910377502, 0.3087122142314911, 0.15435610711574554, 0.15435610711574554, 0.2058081328868866, 0.1029040664434433, 0.05145203322172165, 0.05145203322172165, 0.6187318563461304, 0.34630072116851807, 0.17315036058425903, 0.09619463980197906, 0.19238927960395813, 0.07695571333169937, 0.07695571333169937, 0.038477856665849686, 0.31568124890327454, 0.21045416593551636, 0.14731791615486145, 0.10522708296775818, 0.10522708296775818, 0.06313624978065491, 0.04209083318710327, 0.3583027124404907, 0.17915135622024536, 0.17915135622024536, 0.17915135622024536, 0.2839667499065399, 0.14198337495326996, 0.2839667499065399, 0.14198337495326996, 0.45756110548973083, 0.17355765402317047, 0.09466781467199326, 0.09466781467199326, 0.07888984680175781, 0.04733390733599663, 0.031555939465761185, 0.35726088285446167, 0.2765890657901764, 0.11524544656276703, 0.10372090339660645, 0.0691472664475441, 0.057622723281383514, 0.03457363322377205, 0.45812326669692993, 0.22906163334846497, 0.3111564815044403, 0.16972172260284424, 0.16972172260284424, 0.16972172260284424, 0.08486086130142212, 0.05657390505075455, 0.047144923359155655, 0.32432642579078674, 0.32432642579078674, 0.32432642579078674, 0.4320516586303711, 0.21602582931518555, 0.21602582931518555, 0.21602582931518555, 0.3222026824951172, 0.14320120215415955, 0.21480178833007812, 0.14320120215415955, 0.08950074762105942, 0.05370044708251953, 0.035800300538539886, 0.2756786644458771, 0.2756786644458771, 0.2756786644458771, 0.44762495160102844, 0.4441387355327606, 0.2220693677663803, 0.4301116466522217, 0.16129186749458313, 0.14193683862686157, 0.11397958546876907, 0.06236618757247925, 0.04946283996105194, 0.0408606082201004, 0.2680779695510864, 0.22339831292629242, 0.17871864140033722, 0.1340389847755432, 0.0670194923877716, 0.08935932070016861, 0.044679660350084305, 0.2276451736688614, 0.3414677679538727, 0.2276451736688614, 0.1138225868344307, 0.1138225868344307, 0.3513031005859375, 0.1801554411649704, 0.1711476743221283, 0.1171010360121727, 0.0720621794462204, 0.0720621794462204, 0.0360310897231102, 0.3246632218360901, 0.3246632218360901, 0.43306317925453186, 0.33773526549339294, 0.16886763274669647, 0.16886763274669647, 0.10132057964801788, 0.10132057964801788, 0.06754705309867859, 0.06754705309867859, 0.42551204562187195, 0.15018071234226227, 0.12515060603618622, 0.12515060603618622, 0.07509035617113113, 0.07509035617113113, 0.05006023868918419, 0.24031950533390045, 0.24031950533390045, 0.12015975266695023, 0.18023963272571564, 0.06007987633347511, 0.06007987633347511, 0.06007987633347511, 0.3595694899559021, 0.17122356593608856, 0.11985649913549423, 0.1541012078523636, 0.08561178296804428, 0.0684894248843193, 0.03424471244215965, 0.6232472062110901, 0.26189059019088745, 0.26189059019088745, 0.26189059019088745, 0.5605432987213135, 0.3031217157840729, 0.26746031641960144, 0.1604761928319931, 0.08915343880653381, 0.05349206551909447, 0.07132275402545929, 0.05349206551909447, 0.345633864402771, 0.16685771942138672, 0.14302091300487518, 0.13110250234603882, 0.10726568102836609, 0.07151045650243759, 0.04767363518476486, 0.26535555720329285, 0.1592133343219757, 0.1592133343219757, 0.1592133343219757, 0.1592133343219757, 0.05307110771536827, 0.05307110771536827, 0.4518697261810303, 0.1673591583967209, 0.1171514093875885, 0.08367957919836044, 0.08367957919836044, 0.06694366037845612, 0.05020774528384209, 0.33222320675849915, 0.20257511734962463, 0.170163094997406, 0.113442063331604, 0.10533905774354935, 0.040515024214982986, 0.03241201862692833, 0.38483402132987976, 0.38483402132987976, 0.2457132488489151, 0.21499909460544586, 0.18428494036197662, 0.18428494036197662, 0.061428312212228775, 0.061428312212228775, 0.030714156106114388, 0.25863176584243774, 0.20690542459487915, 0.17734751105308533, 0.1477895826101303, 0.10345271229743958, 0.04433687776327133, 0.05911583453416824, 0.32340237498283386, 0.17413973808288574, 0.16170118749141693, 0.1368240863084793, 0.11194697767496109, 0.04975421354174614, 0.04975421354174614, 0.2671080231666565, 0.19079144299030304, 0.19079144299030304, 0.17171229422092438, 0.09539572149515152, 0.05723743140697479, 0.03815828636288643, 0.31046247482299805, 0.1774071305990219, 0.15523123741149902, 0.13305534422397614, 0.11087945103645325, 0.08870356529951096, 0.04435178264975548, 0.32733094692230225, 0.32733094692230225, 0.38072624802589417, 0.10383442789316177, 0.17305737733840942, 0.10383442789316177, 0.06922294944524765, 0.06922294944524765, 0.06922294944524765, 0.4604743421077728, 0.1696484386920929, 0.12117745727300644, 0.07270647585391998, 0.09694197028875351, 0.024235492572188377, 0.048470985144376755, 0.26926112174987793, 0.26926112174987793, 0.26926112174987793, 0.26926112174987793, 0.3059282898902893, 0.19321787357330322, 0.16101489961147308, 0.11271042376756668, 0.11271042376756668, 0.06440595537424088, 0.048304468393325806, 0.34857240319252014, 0.18209007382392883, 0.13006433844566345, 0.15867848694324493, 0.08324117213487625, 0.05202573537826538, 0.046823158860206604, 0.338222861289978, 0.11274095624685287, 0.169111430644989, 0.169111430644989, 0.05637047812342644, 0.05637047812342644, 0.05637047812342644, 0.24381950497627258, 0.26820144057273865, 0.17880097031593323, 0.12190975248813629, 0.08940048515796661, 0.056891217827796936, 0.0406365841627121, 0.3648917078971863, 0.1946089118719101, 0.12163057178258896, 0.17028279602527618, 0.07297834008932114, 0.048652227967977524, 0.048652227967977524, 0.38479289412498474, 0.38479289412498474, 0.7849129438400269, 0.37763288617134094, 0.5646279454231262, 0.11292558908462524, 0.11292558908462524, 0.11292558908462524, 0.11292558908462524, 0.33605799078941345, 0.16802899539470673, 0.16802899539470673, 0.16802899539470673, 0.16802899539470673, 0.33123329281806946, 0.33123329281806946, 0.26259511709213257, 0.26259511709213257, 0.26259511709213257, 0.3288600742816925, 0.24116404354572296, 0.14250603318214417, 0.10962001979351044, 0.06577201187610626, 0.0767340138554573, 0.043848007917404175, 0.3121320605278015, 0.18950875103473663, 0.18950875103473663, 0.13934467732906342, 0.07803301513195038, 0.050164081156253815, 0.0445902943611145, 0.6596644520759583, 0.3190000355243683, 0.17176924645900726, 0.14723078906536102, 0.14723078906536102, 0.12269232422113419, 0.049076929688453674, 0.049076929688453674, 0.3697110116481781, 0.21126343309879303, 0.1320396512746811, 0.10563171654939651, 0.07922378927469254, 0.07042114436626434, 0.03521057218313217, 0.39688873291015625, 0.15153934061527252, 0.16597165167331696, 0.12267470359802246, 0.07216158509254456, 0.04329695180058479, 0.05051311105489731, 0.33101198077201843, 0.33101198077201843, 0.46671953797340393, 0.15557318925857544, 0.10066500306129456, 0.128119096159935, 0.0640595480799675, 0.054908182471990585, 0.03660545498132706, 0.40404072403907776, 0.15666885673999786, 0.15666885673999786, 0.10719447582960129, 0.07421156018972397, 0.04947437345981598, 0.04122864454984665, 0.3317966163158417, 0.18592052161693573, 0.14015546441078186, 0.15159673988819122, 0.09725073724985123, 0.06578726321458817, 0.025742841884493828, 0.3644246459007263, 0.44589194655418396, 0.42381206154823303, 0.24421600997447968, 0.24421600997447968, 0.12210800498723984, 0.12210800498723984, 0.12210800498723984, 0.12210800498723984, 0.3421982526779175, 0.17109912633895874, 0.12832434475421906, 0.21387390792369843, 0.08554956316947937, 0.042774781584739685, 0.042774781584739685, 0.34701022505760193, 0.16015857458114624, 0.15348529815673828, 0.15348529815673828, 0.09342583268880844, 0.06005946546792984, 0.0333663709461689, 0.289510041475296, 0.23473787307739258, 0.17214110493659973, 0.10171974450349808, 0.10171974450349808, 0.04694757238030434, 0.03912297636270523, 0.35810789465904236, 0.2038460373878479, 0.1652805656194687, 0.10467769205570221, 0.09365899115800858, 0.03856546804308891, 0.03856546804308891, 0.6200496554374695, 0.3488187789916992, 0.1744093894958496, 0.15696845948696136, 0.10464563965797424, 0.12208657711744308, 0.05232281982898712, 0.03488187864422798, 0.44104036688804626, 0.4231964349746704, 0.2010183036327362, 0.1163790225982666, 0.1269589364528656, 0.0423196442425251, 0.0528995543718338, 0.0317397341132164, 0.6605602502822876, 0.3491641581058502, 0.18217261135578156, 0.14675016701221466, 0.14168980717658997, 0.08096560835838318, 0.060724202543497086, 0.03542245179414749, 0.5622775554656982, 0.42363032698631287, 0.17443601787090302, 0.12459716200828552, 0.11629068106412888, 0.06645181775093079, 0.04983886331319809, 0.04153238609433174], \"Term\": [\"1400\", \"1883\", \"1883\", \"1883\", \"1883\", \"1883\", \"1905\", \"1905\", \"1905\", \"1905\", \"abbonato\", \"abbonato\", \"abbonato\", \"abbonato\", \"acclamare\", \"acclamare\", \"acclamare\", \"acclamare\", \"acclamare\", \"acclamare\", \"acclamare\", \"accusare\", \"accusare\", \"accusare\", \"accusare\", \"accusare\", \"accusare\", \"accusare\", \"adjutoriura\", \"adorazione\", \"adorazione\", \"adorazione\", \"affrontare\", \"affrontare\", \"affrontare\", \"affrontare\", \"affrontare\", \"aiutare\", \"aiutare\", \"aiutare\", \"aiutare\", \"aiutare\", \"aiutare\", \"aiutare\", \"alatone\", \"alessandro\", \"alessandro\", \"alessandro\", \"alessandro\", \"alessandro\", \"alessandro\", \"alessandro\", \"almanaccare\", \"altro\", \"altro\", \"altro\", \"altro\", \"altro\", \"altro\", \"altro\", \"ambasciatore\", \"ambasciatore\", \"ambasciatore\", \"ambasciatore\", \"ambasciatore\", \"ambasciatore\", \"ambasciatore\", \"amburgo\", \"amburgo\", \"amburgo\", \"amburgo\", \"americano\", \"americano\", \"americano\", \"americano\", \"americano\", \"americano\", \"americano\", \"ammazzare\", \"ammazzare\", \"ammazzare\", \"andare\", \"andare\", \"andare\", \"andare\", \"andare\", \"andare\", \"andare\", \"anonimo\", \"anonimo\", \"antico\", \"antico\", \"antico\", \"antico\", \"antico\", \"antico\", \"antico\", \"aoink\", \"aperse\", \"appe\", \"arici\", \"armour\", \"armour\", \"asilica\", \"assicurare\", \"assicurare\", \"assicurare\", \"assicurare\", \"assicurare\", \"assicurare\", \"assicurare\", \"atrocit\\u00e0\", \"atrocit\\u00e0\", \"atrocit\\u00e0\", \"atrocit\\u00e0\", \"atrocit\\u00e0\", \"available\", \"avvenire\", \"avvenire\", \"avvenire\", \"avvenire\", \"avvenire\", \"avvenire\", \"avvenire\", \"banco\", \"banco\", \"banco\", \"banco\", \"banco\", \"banco\", \"banco\", \"bandiera\", \"bandiera\", \"bandiera\", \"bandiera\", \"bandiera\", \"bandiera\", \"bandiera\", \"bltel\", \"bovio\", \"bovio\", \"bovio\", \"bovio\", \"bovio\", \"bovio\", \"bristow\", \"bruno\", \"calabria\", \"camarlengo\", \"camarlengo\", \"camarlengo\", \"camarlengo\", \"camarlengo\", \"camera\", \"camera\", \"camera\", \"camera\", \"camera\", \"camera\", \"camera\", \"campello\", \"cana\", \"cana\", \"cana\", \"cana\", \"cappuccino\", \"cappuccino\", \"cappuccino\", \"capraia\", \"capraia\", \"capraia\", \"caprera\", \"caprera\", \"caprera\", \"caprera\", \"cardinale\", \"cardinale\", \"cardinale\", \"cardinale\", \"cardinale\", \"cardinale\", \"cardinale\", \"cardo\", \"cardo\", \"cardo\", \"cardo\", \"cardo\", \"cardo\", \"cardo\", \"causare\", \"causare\", \"causare\", \"causare\", \"causare\", \"causare\", \"causare\", \"cenn\\u00f2\", \"centocelle\", \"chiamare\", \"chiamare\", \"chiamare\", \"chiamare\", \"chiamare\", \"chiamare\", \"chiamare\", \"chiesa\", \"chiesa\", \"chiesa\", \"chiesa\", \"chiesa\", \"chiesa\", \"chiesa\", \"chiuso\", \"chiuso\", \"chiuso\", \"chiuso\", \"chiuso\", \"chiuso\", \"chiuso\", \"classe\", \"classe\", \"classe\", \"classe\", \"classe\", \"classe\", \"classe\", \"cleveland\", \"cleveland\", \"cleveland\", \"cleveland\", \"cleveland\", \"cleveland\", \"coaapletaaaeate\", \"collare\", \"collare\", \"collare\", \"collare\", \"collare\", \"collare\", \"collare\", \"colonia\", \"colonia\", \"colonia\", \"colonia\", \"colonia\", \"colonia\", \"colonia\", \"colore\", \"colore\", \"compar\", \"comparso\", \"comparso\", \"comparso\", \"comparso\", \"comparso\", \"comporre\", \"comporre\", \"comporre\", \"comporre\", \"comporre\", \"comporre\", \"comporre\", \"comune\", \"comune\", \"comune\", \"comune\", \"comune\", \"comune\", \"comune\", \"conclave\", \"conclave\", \"conclave\", \"conclave\", \"conclave\", \"conclave\", \"conclave\", \"cordoglio\", \"cordoglio\", \"corpo\", \"corpo\", \"corpo\", \"corpo\", \"corpo\", \"corpo\", \"corpo\", \"correre\", \"correre\", \"correre\", \"correre\", \"correre\", \"correre\", \"correre\", \"cortes\", \"cosa\", \"cosa\", \"cosa\", \"cosa\", \"cosa\", \"cosa\", \"cosa\", \"costare\", \"costare\", \"costare\", \"costare\", \"costare\", \"costare\", \"costare\", \"costituire\", \"costituire\", \"costituire\", \"costituire\", \"costituire\", \"costituire\", \"costituire\", \"country\", \"credere\", \"credere\", \"credere\", \"credere\", \"credere\", \"credere\", \"credere\", \"cronaca\", \"cronaca\", \"cronaca\", \"cronaca\", \"cronaca\", \"cronaca\", \"cronaca\", \"cuscino\", \"cuscino\", \"cuscino\", \"daily\", \"daily\", \"daily\", \"daily\", \"daily\", \"daily\", \"daily\", \"damine\", \"dare\", \"dare\", \"dare\", \"dare\", \"dare\", \"dare\", \"dare\", \"datare\", \"datare\", \"datare\", \"datare\", \"datare\", \"datare\", \"datare\", \"delhi\", \"delia\", \"delia\", \"delia\", \"delia\", \"delia\", \"delia\", \"delia\", \"destinalo\", \"diamond\", \"diamond\", \"diamond\", \"diamond\", \"diamond\", \"diamond\", \"diamond\", \"diga\", \"diga\", \"diga\", \"diga\", \"dimostrazione\", \"dimostrazione\", \"dimostrazione\", \"dimostrazione\", \"dimostrazione\", \"dimostrazione\", \"dimostrazione\", \"dire\", \"dire\", \"dire\", \"dire\", \"dire\", \"dire\", \"dire\", \"disfare\", \"disfare\", \"disfare\", \"disfare\", \"dispaccio\", \"dispaccio\", \"dispaccio\", \"dispaccio\", \"dispaccio\", \"dispaccio\", \"dispaccio\", \"dittatura\", \"dittatura\", \"dittatura\", \"dittatura\", \"dittatura\", \"dodici\", \"dodici\", \"dodici\", \"dodici\", \"dodici\", \"dodici\", \"dodici\", \"domandare\", \"domandare\", \"domandare\", \"domandare\", \"domandare\", \"domandare\", \"domandare\", \"dovere\", \"dovere\", \"dovere\", \"dovere\", \"dovere\", \"dovere\", \"dovere\", \"dui\\u00f9\", \"durare\", \"durare\", \"durare\", \"durare\", \"durare\", \"durare\", \"durare\", \"edoardo\", \"edoardo\", \"edoardo\", \"edoardo\", \"edoardo\", \"edoardo\", \"edoardo\", \"eleggere\", \"eleggere\", \"eleggere\", \"eleggere\", \"eleggere\", \"eleggere\", \"eleggere\", \"emigrare\", \"emigrare\", \"emigrare\", \"emigrare\", \"emigrare\", \"emigrare\", \"emigrare\", \"energicamente\", \"energicamente\", \"energicamente\", \"entusiastico\", \"entusiastico\", \"entusiastico\", \"entusiastico\", \"entusiastico\", \"entusiastico\", \"entusiastico\", \"enza\", \"esatto\", \"esatto\", \"esatto\", \"esatto\", \"esatto\", \"esatto\", \"esatto\", \"essa\", \"essa\", \"essa\", \"essa\", \"essa\", \"essa\", \"essa\", \"estero\", \"estero\", \"estero\", \"estero\", \"estero\", \"estero\", \"estero\", \"estremo\", \"estremo\", \"estremo\", \"estremo\", \"estremo\", \"estremo\", \"fallire\", \"fallire\", \"fallire\", \"farraginoso\", \"favorito\", \"favorito\", \"favorito\", \"favorito\", \"favorito\", \"favorito\", \"favorito\", \"festa\", \"festa\", \"festa\", \"festa\", \"festa\", \"festa\", \"festa\", \"fhunk\", \"finito\", \"finito\", \"finito\", \"finito\", \"finito\", \"finito\", \"finito\", \"fiore\", \"fiore\", \"fiore\", \"fiore\", \"fiore\", \"fiore\", \"fiore\", \"first\", \"first\", \"first\", \"first\", \"first\", \"first\", \"first\", \"fortezza\", \"francia\", \"francia\", \"francia\", \"francia\", \"francia\", \"francia\", \"francia\", \"francisco\", \"francisco\", \"francisco\", \"francisco\", \"francisco\", \"francisco\", \"francisco\", \"funerale\", \"funerale\", \"funerale\", \"funerale\", \"funerale\", \"funerale\", \"funzionarlo\", \"funzionarlo\", \"fuochista\", \"galleria\", \"galleria\", \"galleria\", \"galleria\", \"galleria\", \"gemma\", \"gemma\", \"gemma\", \"gente\", \"gente\", \"gente\", \"gente\", \"gente\", \"gente\", \"gente\", \"ginnasta\", \"ginnasta\", \"ginnasta\", \"ginnasta\", \"gior\", \"gior\", \"gior\", \"gior\", \"gior\", \"gior\", \"gior\", \"giornale\", \"giornale\", \"giornale\", \"giornale\", \"giornale\", \"giornale\", \"giornale\", \"giornata\", \"giornata\", \"giornata\", \"giornata\", \"giornata\", \"giornata\", \"giornata\", \"giugno\", \"giugno\", \"giugno\", \"giugno\", \"giugno\", \"giugno\", \"giugno\", \"giuramen\", \"glesi\", \"glesi\", \"grado\", \"grado\", \"grado\", \"grado\", \"grado\", \"grado\", \"grado\", \"gran\", \"gran\", \"gran\", \"gran\", \"gran\", \"gran\", \"gran\", \"grande\", \"grande\", \"grande\", \"grande\", \"grande\", \"grande\", \"grande\", \"grave\", \"grave\", \"grave\", \"grave\", \"grave\", \"grave\", \"grave\", \"grover\", \"grover\", \"grover\", \"grover\", \"grover\", \"guardia\", \"guardia\", \"guardia\", \"guardia\", \"guardia\", \"guardia\", \"guardia\", \"guerra\", \"guerra\", \"guerra\", \"guerra\", \"guerra\", \"guerra\", \"guerra\", \"iioleiano\", \"ilei\", \"ilei\", \"ilei\", \"ilei\", \"ilei\", \"ilei\", \"ilei\", \"imonte\", \"imprendere\", \"imprendere\", \"imprendere\", \"indipendente\", \"indipendente\", \"indipendente\", \"indipendente\", \"indipendente\", \"inghilterra\", \"inghilterra\", \"inghilterra\", \"inghilterra\", \"inghilterra\", \"inghilterra\", \"inghilterra\", \"iniuon\\u00f2\", \"inonaignot\", \"inoppugnabile\", \"islazza\", \"italia\", \"italia\", \"italia\", \"italia\", \"italia\", \"italia\", \"italia\", \"italiak\", \"italiak\", \"italian\", \"italian\", \"italian\", \"italian\", \"italian\", \"italian\", \"italian\", \"italiano\", \"italiano\", \"italiano\", \"italiano\", \"italiano\", \"italiano\", \"italiano\", \"itauan\", \"itauan\", \"itauan\", \"itauan\", \"itauan\", \"itauan\", \"itauan\", \"jack\", \"jack\", \"jaures\", \"jaures\", \"jose\", \"jose\", \"jose\", \"jose\", \"jose\", \"jose\", \"jose\", \"kditors\", \"kicheneff\", \"lamentare\", \"lamentare\", \"lamentare\", \"lamentare\", \"lamentare\", \"lamentare\", \"lamentare\", \"lard\\u00f2\", \"largest\", \"largest\", \"largest\", \"largest\", \"largest\", \"largest\", \"largest\", \"lastra\", \"latino\", \"latino\", \"latino\", \"latino\", \"latino\", \"latino\", \"latino\", \"leggere\", \"leggere\", \"leggere\", \"leggere\", \"leggere\", \"leggere\", \"leggere\", \"legio\", \"leone\", \"leone\", \"leone\", \"leone\", \"leone\", \"leone\", \"leone\", \"libert\\u00e0\", \"libert\\u00e0\", \"libert\\u00e0\", \"libert\\u00e0\", \"libert\\u00e0\", \"libert\\u00e0\", \"libert\\u00e0\", \"lieto\", \"lieto\", \"lieto\", \"lieto\", \"lieto\", \"lieto\", \"lieto\", \"lorenz\", \"lorenz\", \"lorenz\", \"lorenz\", \"lottare\", \"lottare\", \"lottare\", \"lottare\", \"lottare\", \"lottare\", \"lottare\", \"luto\", \"luto\", \"luto\", \"luto\", \"madre\", \"madre\", \"madre\", \"madre\", \"madre\", \"madre\", \"madre\", \"maest\\u00e0\", \"maest\\u00e0\", \"maest\\u00e0\", \"maest\\u00e0\", \"maest\\u00e0\", \"maest\\u00e0\", \"maest\\u00e0\", \"maggio\", \"maggio\", \"maggio\", \"maggio\", \"maggio\", \"maggio\", \"maggio\", \"manchuria\", \"manchuria\", \"manciuria\", \"manciuria\", \"manciuria\", \"manciuria\", \"mande\", \"mano\", \"mano\", \"mano\", \"mano\", \"mano\", \"mano\", \"mano\", \"manuel\", \"marconi\", \"marconi\", \"marconi\", \"marconi\", \"marconi\", \"marconi\", \"marconi\", \"mare\", \"mare\", \"mare\", \"mare\", \"mare\", \"mare\", \"mare\", \"massa\", \"massa\", \"massa\", \"massa\", \"massa\", \"massa\", \"massa\", \"mattino\", \"mattino\", \"mattino\", \"mattino\", \"mattino\", \"mattino\", \"mattino\", \"mauia\", \"mayor\", \"mayor\", \"mayor\", \"mayor\", \"mayor\", \"mayor\", \"mayor\", \"membro\", \"membro\", \"membro\", \"membro\", \"membro\", \"membro\", \"membro\", \"mentire\", \"mentire\", \"mentire\", \"mentire\", \"mentire\", \"mentire\", \"mentire\", \"meredlth\", \"mettere\", \"mettere\", \"mettere\", \"mettere\", \"mettere\", \"mettere\", \"mettere\", \"militare\", \"militare\", \"militare\", \"militare\", \"militare\", \"militare\", \"militare\", \"ministero\", \"ministero\", \"ministero\", \"ministero\", \"ministero\", \"ministero\", \"ministero\", \"minuto\", \"minuto\", \"minuto\", \"minuto\", \"minuto\", \"minuto\", \"minuto\", \"miracoloso\", \"miracoloso\", \"miracoloso\", \"mlchaud\", \"mllaa\", \"molare\", \"molare\", \"molare\", \"molare\", \"mondiale\", \"mondiale\", \"mondiale\", \"mondiale\", \"mondiale\", \"mondiale\", \"mondiale\", \"moreno\", \"moreno\", \"morning\", \"morning\", \"morning\", \"morning\", \"morning\", \"morning\", \"morning\", \"morto\", \"morto\", \"morto\", \"morto\", \"morto\", \"morto\", \"morto\", \"mostrare\", \"mostrare\", \"mostrare\", \"mostrare\", \"mostrare\", \"mostrare\", \"mostrare\", \"munizione\", \"nagar\", \"nagar\", \"nagar\", \"naoque\", \"napoli\", \"napoli\", \"napoli\", \"napoli\", \"napoli\", \"napoli\", \"napoli\", \"natalia\", \"natalia\", \"natalia\", \"natalia\", \"natalia\", \"natalia\", \"natalia\", \"nave\", \"nave\", \"nave\", \"nave\", \"nave\", \"nave\", \"nave\", \"ndati\", \"nergico\", \"nicaragua\", \"nicaragua\", \"nicaragua\", \"nicaragua\", \"nocca\", \"nome\", \"nome\", \"nome\", \"nome\", \"nome\", \"nome\", \"nome\", \"nominare\", \"nominare\", \"nominare\", \"nominare\", \"nominare\", \"nominare\", \"nominare\", \"nostrum\", \"notizia\", \"notizia\", \"notizia\", \"notizia\", \"notizia\", \"notizia\", \"notizia\", \"nova\", \"nova\", \"nova\", \"nova\", \"nova\", \"numerare\", \"numerare\", \"numerare\", \"numerare\", \"numerare\", \"numerare\", \"numerare\", \"nuovo\", \"nuovo\", \"nuovo\", \"nuovo\", \"nuovo\", \"nuovo\", \"nuovo\", \"occhio\", \"occhio\", \"occhio\", \"occhio\", \"occhio\", \"occhio\", \"occhio\", \"olupacolo\", \"operare\", \"operare\", \"operare\", \"operare\", \"operare\", \"operare\", \"operare\", \"operazione\", \"operazione\", \"operazione\", \"operazione\", \"operazione\", \"operazione\", \"operazione\", \"organizzare\", \"organizzare\", \"organizzare\", \"organizzare\", \"organizzare\", \"organizzare\", \"organizzare\", \"pace\", \"pace\", \"pace\", \"pace\", \"pace\", \"pace\", \"pace\", \"pacificare\", \"pacificare\", \"pacificare\", \"pacificare\", \"pacificare\", \"pacificare\", \"pacificare\", \"panale\", \"paobs\", \"papa\", \"papa\", \"papa\", \"papa\", \"papa\", \"papa\", \"papa\", \"parere\", \"parere\", \"parere\", \"parere\", \"parere\", \"parere\", \"parere\", \"parigi\", \"parigi\", \"parigi\", \"parigi\", \"parigi\", \"parigi\", \"parigi\", \"parola\", \"parola\", \"parola\", \"parola\", \"parola\", \"parola\", \"parola\", \"partire\", \"partire\", \"partire\", \"partire\", \"partire\", \"partire\", \"partire\", \"passare\", \"passare\", \"passare\", \"passare\", \"passare\", \"passare\", \"passare\", \"pastorale\", \"patena\", \"patena\", \"patena\", \"patena\", \"patrio\", \"patrio\", \"patrio\", \"patrio\", \"patrio\", \"patrio\", \"patrio\", \"patrizio\", \"patrizio\", \"patrizio\", \"patrizio\", \"patrizio\", \"patrizio\", \"patrizio\", \"paziente\", \"paziente\", \"paziente\", \"paziente\", \"paziente\", \"paziente\", \"pekino\", \"pekino\", \"pekino\", \"pelrano\", \"pelrano\", \"pelrano\", \"pelrano\", \"pelrano\", \"perch\\u00e8\", \"perch\\u00e8\", \"perch\\u00e8\", \"perch\\u00e8\", \"perch\\u00e8\", \"perch\\u00e8\", \"perch\\u00e8\", \"piangere\", \"piangere\", \"piangere\", \"piangere\", \"piangere\", \"piangere\", \"piccolo\", \"piccolo\", \"piccolo\", \"piccolo\", \"piccolo\", \"piccolo\", \"piccolo\", \"pietro\", \"pietro\", \"pietro\", \"pietro\", \"pietro\", \"pietro\", \"pietro\", \"poco\", \"poco\", \"poco\", \"poco\", \"poco\", \"poco\", \"poco\", \"politico\", \"politico\", \"politico\", \"politico\", \"politico\", \"politico\", \"politico\", \"pontefice\", \"pontefice\", \"pontefice\", \"pontefice\", \"pontefice\", \"pontefice\", \"pontefice\", \"pontificio\", \"pontificio\", \"pontificio\", \"pontificio\", \"pontificio\", \"pontificio\", \"pontificio\", \"popolare\", \"popolare\", \"popolare\", \"popolare\", \"popolare\", \"popolare\", \"popolare\", \"popolazione\", \"popolazione\", \"popolazione\", \"popolazione\", \"popolazione\", \"popolazione\", \"popolazione\", \"portare\", \"portare\", \"portare\", \"portare\", \"portare\", \"portare\", \"portare\", \"potere\", \"potere\", \"potere\", \"potere\", \"potere\", \"potere\", \"potere\", \"preciso\", \"preciso\", \"preciso\", \"preciso\", \"preciso\", \"preciso\", \"preciso\", \"preparare\", \"preparare\", \"preparare\", \"preparare\", \"preparare\", \"preparare\", \"preparare\", \"presba\", \"presidente\", \"presidente\", \"presidente\", \"presidente\", \"presidente\", \"presidente\", \"presidente\", \"principiare\", \"principiare\", \"principiare\", \"principiare\", \"principiare\", \"principiare\", \"principiare\", \"proposito\", \"proposito\", \"proposito\", \"proposito\", \"proposito\", \"proposito\", \"proposito\", \"provincia\", \"provincia\", \"provincia\", \"provincia\", \"provincia\", \"provincia\", \"provincia\", \"prussiana\", \"pubblicare\", \"pubblicare\", \"pubblicare\", \"pubblicare\", \"pubblicare\", \"pubblicare\", \"pubblicare\", \"pubblico\", \"pubblico\", \"pubblico\", \"pubblico\", \"pubblico\", \"pubblico\", \"pubblico\", \"puccini\", \"puccini\", \"puccini\", \"puccini\", \"queeta\", \"queeta\", \"quin\", \"quin\", \"quin\", \"quin\", \"quin\", \"quin\", \"quotidiano\", \"quotidiano\", \"quotidiano\", \"quotidiano\", \"quotidiano\", \"quotidiano\", \"quotidiano\", \"quotiiuano\", \"raro\", \"raro\", \"raro\", \"raro\", \"raro\", \"raro\", \"raro\", \"ravvicinarsi\", \"reale\", \"reale\", \"reale\", \"reale\", \"reale\", \"reale\", \"reale\", \"recere\", \"recere\", \"recere\", \"recere\", \"recere\", \"recere\", \"recere\", \"recintare\", \"recintare\", \"recintare\", \"recintare\", \"regalare\", \"regalare\", \"regalare\", \"regalare\", \"relazione\", \"relazione\", \"relazione\", \"relazione\", \"relazione\", \"relazione\", \"relazione\", \"rendere\", \"rendere\", \"rendere\", \"rendere\", \"rendere\", \"rendere\", \"rendere\", \"renze\", \"renze\", \"ricevere\", \"ricevere\", \"ricevere\", \"ricevere\", \"ricevere\", \"ricevere\", \"ricevere\", \"rimpastare\", \"rimpastare\", \"rimpastare\", \"ristare\", \"ristare\", \"ristare\", \"ristare\", \"riuscire\", \"riuscire\", \"riuscire\", \"riuscire\", \"riuscire\", \"riuscire\", \"riuscire\", \"riversare\", \"riversare\", \"riversare\", \"roani\", \"rodolfi\", \"rodolfi\", \"roma\", \"roma\", \"roma\", \"roma\", \"roma\", \"roma\", \"roma\", \"sacro\", \"sacro\", \"sacro\", \"sacro\", \"sacro\", \"sacro\", \"sacro\", \"salmone\", \"salmone\", \"salmone\", \"salmone\", \"salmone\", \"sapere\", \"sapere\", \"sapere\", \"sapere\", \"sapere\", \"sapere\", \"sapere\", \"scalzo\", \"scalzo\", \"scutere\", \"sedere\", \"sedere\", \"sedere\", \"sedere\", \"sedere\", \"sedere\", \"sedere\", \"segnare\", \"segnare\", \"segnare\", \"segnare\", \"segnare\", \"segnare\", \"segnare\", \"sembrare\", \"sembrare\", \"sembrare\", \"sembrare\", \"sembrare\", \"sembrare\", \"sembrare\", \"serbia\", \"serbia\", \"serbia\", \"serbia\", \"serbia\", \"serbia\", \"serbia\", \"silica\", \"simboleggiare\", \"simboleggiare\", \"simboleggiare\", \"since\", \"sindacare\", \"sindacare\", \"sindacare\", \"sindacare\", \"sindacare\", \"sindacare\", \"sindacare\", \"societ\\u00e0\", \"societ\\u00e0\", \"societ\\u00e0\", \"societ\\u00e0\", \"societ\\u00e0\", \"societ\\u00e0\", \"societ\\u00e0\", \"soddisfare\", \"soddisfare\", \"soddisfare\", \"soddisfare\", \"soddisfare\", \"soddisfare\", \"soddisfare\", \"soldato\", \"soldato\", \"soldato\", \"soldato\", \"soldato\", \"soldato\", \"soldato\", \"solo\", \"solo\", \"solo\", \"solo\", \"solo\", \"solo\", \"solo\", \"spegnendosi\", \"spegnendosi\", \"speranza\", \"speranza\", \"speranza\", \"speranza\", \"speranza\", \"speranza\", \"speranza\", \"states\", \"states\", \"states\", \"states\", \"states\", \"states\", \"states\", \"stazione\", \"stazione\", \"stazione\", \"stazione\", \"stazione\", \"stazione\", \"stazione\", \"stockton\", \"stockton\", \"stockton\", \"stockton\", \"stockton\", \"stockton\", \"stockton\", \"storia\", \"storia\", \"storia\", \"storia\", \"storia\", \"storia\", \"storia\", \"stradale\", \"stradale\", \"stro\", \"stro\", \"stro\", \"stro\", \"stro\", \"stro\", \"stro\", \"studente\", \"studente\", \"studente\", \"studente\", \"studente\", \"studente\", \"studente\", \"tappetti\", \"tappetti\", \"tappetti\", \"tappetti\", \"tedesco\", \"tedesco\", \"tedesco\", \"tedesco\", \"tedesco\", \"tedesco\", \"tedesco\", \"telegrafico\", \"telegrafico\", \"telegrafico\", \"telegrafico\", \"telegrafico\", \"telegrafico\", \"telegrafico\", \"tendenza\", \"tendenza\", \"tendenza\", \"tendenza\", \"tendenza\", \"tendenza\", \"tendenza\", \"tenere\", \"tenere\", \"tenere\", \"tenere\", \"tenere\", \"tenere\", \"tenere\", \"testare\", \"testare\", \"testare\", \"testare\", \"testare\", \"testare\", \"testare\", \"tettoia\", \"tettoia\", \"text\", \"than\", \"that\", \"that\", \"that\", \"that\", \"that\", \"timi\", \"timi\", \"timi\", \"timi\", \"timi\", \"torcia\", \"torcia\", \"torpediniere\", \"torpediniere\", \"torpediniere\", \"trattare\", \"trattare\", \"trattare\", \"trattare\", \"trattare\", \"trattare\", \"trattare\", \"trovare\", \"trovare\", \"trovare\", \"trovare\", \"trovare\", \"trovare\", \"trovare\", \"tudorovlch\", \"uccidere\", \"uccidere\", \"uccidere\", \"uccidere\", \"uccidere\", \"uccidere\", \"uccidere\", \"ufficiale\", \"ufficiale\", \"ufficiale\", \"ufficiale\", \"ufficiale\", \"ufficiale\", \"ufficiale\", \"unito\", \"unito\", \"unito\", \"unito\", \"unito\", \"unito\", \"unito\", \"varas\", \"varas\", \"vaticano\", \"vaticano\", \"vaticano\", \"vaticano\", \"vaticano\", \"vaticano\", \"vaticano\", \"vedere\", \"vedere\", \"vedere\", \"vedere\", \"vedere\", \"vedere\", \"vedere\", \"venire\", \"venire\", \"venire\", \"venire\", \"venire\", \"venire\", \"venire\", \"ventre\", \"verdura\", \"vergare\", \"viario\", \"viario\", \"viario\", \"viario\", \"viario\", \"viario\", \"vicino\", \"vicino\", \"vicino\", \"vicino\", \"vicino\", \"vicino\", \"vicino\", \"visitare\", \"visitare\", \"visitare\", \"visitare\", \"visitare\", \"visitare\", \"visitare\", \"vivo\", \"vivo\", \"vivo\", \"vivo\", \"vivo\", \"vivo\", \"vivo\", \"volere\", \"volere\", \"volere\", \"volere\", \"volere\", \"volere\", \"volere\", \"wabash\", \"washington\", \"washington\", \"washington\", \"washington\", \"washington\", \"washington\", \"washington\", \"wimple\", \"xiii\", \"xiii\", \"xiii\", \"xiii\", \"xiii\", \"xiii\", \"xiii\", \"xyil\", \"york\", \"york\", \"york\", \"york\", \"york\", \"york\", \"york\", \"ziario\", \"zione\", \"zione\", \"zione\", \"zione\", \"zione\", \"zione\", \"zione\"]}, \"R\": 30, \"lambda.step\": 0.01, \"plot.opts\": {\"xlab\": \"PC1\", \"ylab\": \"PC2\"}, \"topic.order\": [1, 7, 3, 4, 5, 2, 6]};\n",
              "\n",
              "function LDAvis_load_lib(url, callback){\n",
              "  var s = document.createElement('script');\n",
              "  s.src = url;\n",
              "  s.async = true;\n",
              "  s.onreadystatechange = s.onload = callback;\n",
              "  s.onerror = function(){console.warn(\"failed to load library \" + url);};\n",
              "  document.getElementsByTagName(\"head\")[0].appendChild(s);\n",
              "}\n",
              "\n",
              "if(typeof(LDAvis) !== \"undefined\"){\n",
              "   // already loaded: just create the visualization\n",
              "   !function(LDAvis){\n",
              "       new LDAvis(\"#\" + \"ldavis_el1231402669455160729890009267\", ldavis_el1231402669455160729890009267_data);\n",
              "   }(LDAvis);\n",
              "}else if(typeof define === \"function\" && define.amd){\n",
              "   // require.js is available: use it to load d3/LDAvis\n",
              "   require.config({paths: {d3: \"https://cdnjs.cloudflare.com/ajax/libs/d3/3.5.5/d3.min\"}});\n",
              "   require([\"d3\"], function(d3){\n",
              "      window.d3 = d3;\n",
              "      LDAvis_load_lib(\"https://cdn.rawgit.com/bmabey/pyLDAvis/files/ldavis.v1.0.0.js\", function(){\n",
              "        new LDAvis(\"#\" + \"ldavis_el1231402669455160729890009267\", ldavis_el1231402669455160729890009267_data);\n",
              "      });\n",
              "    });\n",
              "}else{\n",
              "    // require.js not available: dynamically load d3 & LDAvis\n",
              "    LDAvis_load_lib(\"https://cdnjs.cloudflare.com/ajax/libs/d3/3.5.5/d3.min.js\", function(){\n",
              "         LDAvis_load_lib(\"https://cdn.rawgit.com/bmabey/pyLDAvis/files/ldavis.v1.0.0.js\", function(){\n",
              "                 new LDAvis(\"#\" + \"ldavis_el1231402669455160729890009267\", ldavis_el1231402669455160729890009267_data);\n",
              "            })\n",
              "         });\n",
              "}\n",
              "</script>"
            ],
            "text/plain": [
              "PreparedData(topic_coordinates=              x         y  topics  cluster       Freq\n",
              "topic                                                \n",
              "0     -0.005770  0.000621       1        1  34.621796\n",
              "6      0.001919  0.005652       2        1  18.748514\n",
              "2      0.002574 -0.002055       3        1  15.816063\n",
              "3      0.001043 -0.000836       4        1  12.616102\n",
              "4      0.000419 -0.002100       5        1   8.250906\n",
              "1      0.000636 -0.000875       6        1   5.513863\n",
              "5     -0.000821 -0.000408       7        1   4.432759, topic_info=             Term        Freq       Total Category  logprob  loglift\n",
              "270      italiano  995.000000  995.000000  Default  30.0000  30.0000\n",
              "269        italia  494.000000  494.000000  Default  29.0000  29.0000\n",
              "855     dispaccio  450.000000  450.000000  Default  28.0000  28.0000\n",
              "1409  telegrafico  384.000000  384.000000  Default  27.0000  27.0000\n",
              "219      giornale  303.000000  303.000000  Default  26.0000  26.0000\n",
              "...           ...         ...         ...      ...      ...      ...\n",
              "1253   quotidiano    7.507830  199.136215   Topic7  -6.6281  -0.1619\n",
              "599        venire    9.451167  349.611755   Topic7  -6.3979  -0.4945\n",
              "1501         york    7.243026  197.614777   Topic7  -6.6640  -0.1901\n",
              "1058       maggio    6.620214  149.017426   Topic7  -6.7539   0.0022\n",
              "647         altro    6.585414  150.345840   Topic7  -6.7591  -0.0119\n",
              "\n",
              "[639 rows x 6 columns], token_table=       Topic      Freq   Term\n",
              "term                         \n",
              "27679      1  0.660792   1400\n",
              "15761      1  0.362083   1883\n",
              "15761      2  0.181042   1883\n",
              "15761      3  0.181042   1883\n",
              "15761      4  0.181042   1883\n",
              "...      ...       ...    ...\n",
              "625        3  0.124597  zione\n",
              "625        4  0.116291  zione\n",
              "625        5  0.066452  zione\n",
              "625        6  0.049839  zione\n",
              "625        7  0.041532  zione\n",
              "\n",
              "[1709 rows x 3 columns], R=30, lambda_step=0.01, plot_opts={'xlab': 'PC1', 'ylab': 'PC2'}, topic_order=[1, 7, 3, 4, 5, 2, 6])"
            ]
          },
          "metadata": {
            "tags": []
          },
          "execution_count": 34
        }
      ]
    },
    {
      "cell_type": "markdown",
      "metadata": {
        "id": "N9rbvOUKr4Aj",
        "colab_type": "text"
      },
      "source": [
        "### 2.1.3. TFIDF"
      ]
    },
    {
      "cell_type": "code",
      "metadata": {
        "id": "il6kBlorryxm",
        "colab_type": "code",
        "colab": {}
      },
      "source": [
        "# optional\n",
        "# TFIDF for better performance\n",
        "# https://en.wikipedia.org/wiki/Tf–idf / \n",
        "# https://rare-technologies.com/pivoted-document-length-normalisation/\n",
        "\n",
        "tfidf = models.TfidfModel(corpus)\n",
        "corpus_tfidf = tfidf[corpus]"
      ],
      "execution_count": 0,
      "outputs": []
    },
    {
      "cell_type": "markdown",
      "metadata": {
        "id": "BqTJQGlMr_lo",
        "colab_type": "text"
      },
      "source": [
        "## 2.2 LDA with TFIDF"
      ]
    },
    {
      "cell_type": "code",
      "metadata": {
        "id": "6izhvRydr7ha",
        "colab_type": "code",
        "colab": {}
      },
      "source": [
        "# set the number of topics here\n",
        "numtopics = 7"
      ],
      "execution_count": 0,
      "outputs": []
    },
    {
      "cell_type": "code",
      "metadata": {
        "id": "wqFutULSsEIM",
        "colab_type": "code",
        "colab": {}
      },
      "source": [
        "%%capture\n",
        "ldagensim_tfidf = models.LdaModel(corpus_tfidf, id2word=id2word, num_topics=numtopics)\n"
      ],
      "execution_count": 0,
      "outputs": []
    },
    {
      "cell_type": "code",
      "metadata": {
        "id": "hYNqGhIrsaHL",
        "colab_type": "code",
        "outputId": "9d30e5d4-80a9-4498-c2d1-c6d8f601466c",
        "colab": {
          "base_uri": "https://localhost:8080/",
          "height": 275
        }
      },
      "source": [
        "ldagensim_tfidf.print_topics()"
      ],
      "execution_count": 39,
      "outputs": [
        {
          "output_type": "execute_result",
          "data": {
            "text/plain": [
              "[(0,\n",
              "  '0.000*\"available\" + 0.000*\"text\" + 0.000*\"cardinale\" + 0.000*\"xiii\" + 0.000*\"papa\" + 0.000*\"leone\" + 0.000*\"oreglia\" + 0.000*\"papato\" + 0.000*\"produzione\" + 0.000*\"riduzione\"'),\n",
              " (1,\n",
              "  '0.000*\"diamond\" + 0.000*\"black\" + 0.000*\"cardinale\" + 0.000*\"pescatore\" + 0.000*\"salmone\" + 0.000*\"negro\" + 0.000*\"giugno\" + 0.000*\"dragare\" + 0.000*\"regina\" + 0.000*\"crisi\"'),\n",
              " (2,\n",
              "  '0.000*\"cardinale\" + 0.000*\"salma\" + 0.000*\"mascagni\" + 0.000*\"pontefice\" + 0.000*\"miniera\" + 0.000*\"xiii\" + 0.000*\"ebreo\" + 0.000*\"uovo\" + 0.000*\"conclave\" + 0.000*\"leone\"'),\n",
              " (3,\n",
              "  '0.000*\"cardinale\" + 0.000*\"bovio\" + 0.000*\"marconi\" + 0.000*\"aprile\" + 0.000*\"papa\" + 0.000*\"guglielmo\" + 0.000*\"maggio\" + 0.000*\"pontefice\" + 0.000*\"mascagni\" + 0.000*\"sociale\"'),\n",
              " (4,\n",
              "  '0.000*\"cardinale\" + 0.000*\"marconi\" + 0.000*\"garibaldi\" + 0.000*\"schedare\" + 0.000*\"studente\" + 0.000*\"papa\" + 0.000*\"immigrazione\" + 0.000*\"serbia\" + 0.000*\"immigrare\" + 0.000*\"edoardo\"'),\n",
              " (5,\n",
              "  '0.000*\"cardinale\" + 0.000*\"mayor\" + 0.000*\"mafia\" + 0.000*\"california\" + 0.000*\"biondo\" + 0.000*\"conclave\" + 0.000*\"papa\" + 0.000*\"marconi\" + 0.000*\"planches\" + 0.000*\"emigrare\"'),\n",
              " (6,\n",
              "  '0.000*\"cardinale\" + 0.000*\"marconi\" + 0.000*\"sognatore\" + 0.000*\"tolstoi\" + 0.000*\"conclave\" + 0.000*\"lavoratore\" + 0.000*\"ebreo\" + 0.000*\"ferro\" + 0.000*\"maggio\" + 0.000*\"chaumiè\"')]"
            ]
          },
          "metadata": {
            "tags": []
          },
          "execution_count": 39
        }
      ]
    },
    {
      "cell_type": "markdown",
      "metadata": {
        "id": "A25VpgbNuG7F",
        "colab_type": "text"
      },
      "source": [
        "## 2.3 Topic Coherence\n",
        "Topic Coherence measures score of a single topic by measuring the degree of semantic similarity between high scoring words in the topic. https://towardsdatascience.com/evaluate-topic-model-in-python-latent-dirichlet-allocation-lda-7d57484bb5d0"
      ]
    },
    {
      "cell_type": "code",
      "metadata": {
        "id": "uSj2JKQqt4Oq",
        "colab_type": "code",
        "colab": {}
      },
      "source": [
        "from gensim.models.coherencemodel import CoherenceModel"
      ],
      "execution_count": 0,
      "outputs": []
    },
    {
      "cell_type": "code",
      "metadata": {
        "id": "JPkd-XL8uQfr",
        "colab_type": "code",
        "outputId": "e6786339-13a4-4c30-82dc-394d6984c2ca",
        "colab": {
          "base_uri": "https://localhost:8080/",
          "height": 51
        }
      },
      "source": [
        "coherence_model_ldagensim_tfidf = CoherenceModel(model=ldagensim_tfidf, texts=lemmatized_corpus, dictionary=id2word, coherence='c_v')\n",
        "coherence_ldagensim_tfidf = coherence_model_ldagensim_tfidf.get_coherence()\n",
        "print('\\nCoherence Score LDA Gensim TFIDF: ', coherence_ldagensim_tfidf)"
      ],
      "execution_count": 41,
      "outputs": [
        {
          "output_type": "stream",
          "text": [
            "\n",
            "Coherence Score LDA Gensim TFIDF:  0.46494190233885185\n"
          ],
          "name": "stdout"
        }
      ]
    },
    {
      "cell_type": "markdown",
      "metadata": {
        "id": "8vrXeygpulq6",
        "colab_type": "text"
      },
      "source": [
        "## 2.4 Coherence and number of topics"
      ]
    },
    {
      "cell_type": "code",
      "metadata": {
        "id": "Xh6C796jugo2",
        "colab_type": "code",
        "colab": {}
      },
      "source": [
        "#can take a long time to run\n",
        "%%capture\n",
        "topics_nr = []\n",
        "coherence_values_tfidf = []\n",
        "for num_topics in range(2, 20):\n",
        "  model = models.LdaModel(corpus_tfidf, id2word=id2word, num_topics=num_topics)\n",
        "  coherencemodel = CoherenceModel(model=model, texts=lemmatized_corpus, dictionary=id2word, coherence='c_v')\n",
        "  coherence_value = coherencemodel.get_coherence()\n",
        "  coherence_values_tfidf.append(coherence_value)\n",
        "  topics_nr.append(str(num_topics))"
      ],
      "execution_count": 0,
      "outputs": []
    },
    {
      "cell_type": "code",
      "metadata": {
        "id": "k1NPyJx_G-53",
        "colab_type": "code",
        "colab": {
          "base_uri": "https://localhost:8080/",
          "height": 323
        },
        "outputId": "7830ec65-ba24-4bbc-cae7-32e2e2ad2900"
      },
      "source": [
        "  for i in range(len(topics_nr)):\n",
        "    coherence = round(coherence_values_tfidf[i],4)\n",
        "    print(\"Num Topics =\", topics_nr[i], \" has Coherence Value of\", coherence)"
      ],
      "execution_count": 46,
      "outputs": [
        {
          "output_type": "stream",
          "text": [
            "Num Topics = 2  has Coherence Value of 0.3066\n",
            "Num Topics = 3  has Coherence Value of 0.3657\n",
            "Num Topics = 4  has Coherence Value of 0.3514\n",
            "Num Topics = 5  has Coherence Value of 0.3862\n",
            "Num Topics = 6  has Coherence Value of 0.4575\n",
            "Num Topics = 7  has Coherence Value of 0.4533\n",
            "Num Topics = 8  has Coherence Value of 0.5136\n",
            "Num Topics = 9  has Coherence Value of 0.4689\n",
            "Num Topics = 10  has Coherence Value of 0.5295\n",
            "Num Topics = 11  has Coherence Value of 0.5147\n",
            "Num Topics = 12  has Coherence Value of 0.5173\n",
            "Num Topics = 13  has Coherence Value of 0.5212\n",
            "Num Topics = 14  has Coherence Value of 0.5525\n",
            "Num Topics = 15  has Coherence Value of 0.5306\n",
            "Num Topics = 16  has Coherence Value of 0.5449\n",
            "Num Topics = 17  has Coherence Value of 0.5534\n",
            "Num Topics = 18  has Coherence Value of 0.5322\n",
            "Num Topics = 19  has Coherence Value of 0.5123\n"
          ],
          "name": "stdout"
        }
      ]
    },
    {
      "cell_type": "code",
      "metadata": {
        "id": "PKgrWAQ9Gvmx",
        "colab_type": "code",
        "colab": {}
      },
      "source": [
        "# Visualize coherence scores\n",
        "import matplotlib.pyplot as plt"
      ],
      "execution_count": 0,
      "outputs": []
    },
    {
      "cell_type": "code",
      "metadata": {
        "id": "lYbpmxcQwJzD",
        "colab_type": "code",
        "outputId": "ad1eec94-fc30-4b53-93f3-2052095e68cf",
        "colab": {
          "base_uri": "https://localhost:8080/",
          "height": 282
        }
      },
      "source": [
        "plt.plot(topics_nr, coherence_values_tfidf)"
      ],
      "execution_count": 48,
      "outputs": [
        {
          "output_type": "execute_result",
          "data": {
            "text/plain": [
              "[<matplotlib.lines.Line2D at 0x7f926db3a780>]"
            ]
          },
          "metadata": {
            "tags": []
          },
          "execution_count": 48
        },
        {
          "output_type": "display_data",
          "data": {
            "image/png": "[encoded data removed]",
            "text/plain": [
              "<Figure size 432x288 with 1 Axes>"
            ]
          },
          "metadata": {
            "tags": [],
            "needs_background": "light"
          }
        }
      ]
    },
    {
      "cell_type": "markdown",
      "metadata": {
        "id": "jyKKjrHYxj2H",
        "colab_type": "text"
      },
      "source": [
        "# Topic distribution"
      ]
    },
    {
      "cell_type": "markdown",
      "metadata": {
        "id": "cbgXWlTHxwxw",
        "colab_type": "text"
      },
      "source": [
        "## 1. Distribution per topic and per document\n",
        "\n"
      ]
    },
    {
      "cell_type": "code",
      "metadata": {
        "id": "MNIPexCOxp1D",
        "colab_type": "code",
        "colab": {}
      },
      "source": [
        "%%capture\n",
        "ldamodel = models.LdaModel(corpus_tfidf, num_topics=7, id2word = id2word, minimum_probability=0)"
      ],
      "execution_count": 0,
      "outputs": []
    },
    {
      "cell_type": "code",
      "metadata": {
        "id": "-qUYq_fUxaMg",
        "colab_type": "code",
        "colab": {}
      },
      "source": [
        "distribution = pd.DataFrame(index=[i for i in range(len(corpus_tfidf))],columns=[f'topic{i}' for i in range(numtopics)])"
      ],
      "execution_count": 0,
      "outputs": []
    },
    {
      "cell_type": "code",
      "metadata": {
        "id": "ccvWwaHoxhIT",
        "colab_type": "code",
        "colab": {}
      },
      "source": [
        "for i in range(len(corpus_tfidf)):\n",
        "  row = [list(j)[1] for j in ldamodel[corpus_tfidf[i]]] \n",
        "  distribution.loc[i] = row"
      ],
      "execution_count": 0,
      "outputs": []
    },
    {
      "cell_type": "code",
      "metadata": {
        "id": "OPWXPV0t4y-e",
        "colab_type": "code",
        "colab": {}
      },
      "source": [
        "# add file name\n",
        "distribution.insert(0, 'document_path', sources['file_name'])"
      ],
      "execution_count": 0,
      "outputs": []
    },
    {
      "cell_type": "code",
      "metadata": {
        "id": "nY_8oF10zZ8Q",
        "colab_type": "code",
        "outputId": "64145e86-8473-4f16-9749-db089c475601",
        "colab": {
          "base_uri": "https://localhost:8080/",
          "height": 589
        }
      },
      "source": [
        "distribution"
      ],
      "execution_count": 53,
      "outputs": [
        {
          "output_type": "execute_result",
          "data": {
            "text/html": [
              "<div>\n",
              "<style scoped>\n",
              "    .dataframe tbody tr th:only-of-type {\n",
              "        vertical-align: middle;\n",
              "    }\n",
              "\n",
              "    .dataframe tbody tr th {\n",
              "        vertical-align: top;\n",
              "    }\n",
              "\n",
              "    .dataframe thead th {\n",
              "        text-align: right;\n",
              "    }\n",
              "</style>\n",
              "<table border=\"1\" class=\"dataframe\">\n",
              "  <thead>\n",
              "    <tr style=\"text-align: right;\">\n",
              "      <th></th>\n",
              "      <th>document_path</th>\n",
              "      <th>topic0</th>\n",
              "      <th>topic1</th>\n",
              "      <th>topic2</th>\n",
              "      <th>topic3</th>\n",
              "      <th>topic4</th>\n",
              "      <th>topic5</th>\n",
              "      <th>topic6</th>\n",
              "    </tr>\n",
              "  </thead>\n",
              "  <tbody>\n",
              "    <tr>\n",
              "      <th>0</th>\n",
              "      <td>2012271201_1903-08-01_ed-1_seq-1_ocr.txt</td>\n",
              "      <td>0.962305</td>\n",
              "      <td>0.00628172</td>\n",
              "      <td>0.00627854</td>\n",
              "      <td>0.00628502</td>\n",
              "      <td>0.0062878</td>\n",
              "      <td>0.00627843</td>\n",
              "      <td>0.00628388</td>\n",
              "    </tr>\n",
              "    <tr>\n",
              "      <th>1</th>\n",
              "      <td>sn85066408_1903-06-22_ed-1_seq-1_ocr.txt</td>\n",
              "      <td>0.00535479</td>\n",
              "      <td>0.00535112</td>\n",
              "      <td>0.00534753</td>\n",
              "      <td>0.967882</td>\n",
              "      <td>0.00536317</td>\n",
              "      <td>0.00534615</td>\n",
              "      <td>0.00535483</td>\n",
              "    </tr>\n",
              "    <tr>\n",
              "      <th>2</th>\n",
              "      <td>sn85066408_1903-06-19_ed-1_seq-1_ocr.txt</td>\n",
              "      <td>0.968018</td>\n",
              "      <td>0.0053294</td>\n",
              "      <td>0.00532615</td>\n",
              "      <td>0.00533768</td>\n",
              "      <td>0.00533189</td>\n",
              "      <td>0.00532448</td>\n",
              "      <td>0.0053326</td>\n",
              "    </tr>\n",
              "    <tr>\n",
              "      <th>3</th>\n",
              "      <td>sn85066408_1903-05-30_ed-1_seq-1_ocr.txt</td>\n",
              "      <td>0.00523797</td>\n",
              "      <td>0.00523643</td>\n",
              "      <td>0.0052405</td>\n",
              "      <td>0.00523833</td>\n",
              "      <td>0.00523947</td>\n",
              "      <td>0.0052373</td>\n",
              "      <td>0.96857</td>\n",
              "    </tr>\n",
              "    <tr>\n",
              "      <th>4</th>\n",
              "      <td>2012271201_1903-07-18_ed-1_seq-1_ocr.txt</td>\n",
              "      <td>0.00637453</td>\n",
              "      <td>0.00638436</td>\n",
              "      <td>0.00636743</td>\n",
              "      <td>0.00637573</td>\n",
              "      <td>0.961758</td>\n",
              "      <td>0.00636645</td>\n",
              "      <td>0.00637381</td>\n",
              "    </tr>\n",
              "    <tr>\n",
              "      <th>...</th>\n",
              "      <td>...</td>\n",
              "      <td>...</td>\n",
              "      <td>...</td>\n",
              "      <td>...</td>\n",
              "      <td>...</td>\n",
              "      <td>...</td>\n",
              "      <td>...</td>\n",
              "      <td>...</td>\n",
              "    </tr>\n",
              "    <tr>\n",
              "      <th>95</th>\n",
              "      <td>sn85066408_1903-07-03_ed-1_seq-1_ocr.txt</td>\n",
              "      <td>0.00480256</td>\n",
              "      <td>0.00481051</td>\n",
              "      <td>0.00479725</td>\n",
              "      <td>0.00480528</td>\n",
              "      <td>0.00480181</td>\n",
              "      <td>0.00479555</td>\n",
              "      <td>0.971187</td>\n",
              "    </tr>\n",
              "    <tr>\n",
              "      <th>96</th>\n",
              "      <td>sn85066408_1903-08-06_ed-1_seq-1_ocr.txt</td>\n",
              "      <td>0.00524682</td>\n",
              "      <td>0.509873</td>\n",
              "      <td>0.00524044</td>\n",
              "      <td>0.00524665</td>\n",
              "      <td>0.00524974</td>\n",
              "      <td>0.00523926</td>\n",
              "      <td>0.463905</td>\n",
              "    </tr>\n",
              "    <tr>\n",
              "      <th>97</th>\n",
              "      <td>sn85066408_1903-05-25_ed-1_seq-1_ocr.txt</td>\n",
              "      <td>0.0050052</td>\n",
              "      <td>0.00500397</td>\n",
              "      <td>0.00500508</td>\n",
              "      <td>0.969972</td>\n",
              "      <td>0.0050065</td>\n",
              "      <td>0.00499991</td>\n",
              "      <td>0.00500696</td>\n",
              "    </tr>\n",
              "    <tr>\n",
              "      <th>98</th>\n",
              "      <td>sn85066408_1903-07-09_ed-1_seq-1_ocr.txt</td>\n",
              "      <td>0.00496531</td>\n",
              "      <td>0.00496375</td>\n",
              "      <td>0.00496585</td>\n",
              "      <td>0.00496589</td>\n",
              "      <td>0.00496574</td>\n",
              "      <td>0.00496034</td>\n",
              "      <td>0.970213</td>\n",
              "    </tr>\n",
              "    <tr>\n",
              "      <th>99</th>\n",
              "      <td>sn85066408_1903-08-03_ed-1_seq-1_ocr.txt</td>\n",
              "      <td>0.00484086</td>\n",
              "      <td>0.00483883</td>\n",
              "      <td>0.00483666</td>\n",
              "      <td>0.970964</td>\n",
              "      <td>0.00484046</td>\n",
              "      <td>0.00483501</td>\n",
              "      <td>0.0048439</td>\n",
              "    </tr>\n",
              "  </tbody>\n",
              "</table>\n",
              "<p>100 rows × 8 columns</p>\n",
              "</div>"
            ],
            "text/plain": [
              "                               document_path  ...      topic6\n",
              "0   2012271201_1903-08-01_ed-1_seq-1_ocr.txt  ...  0.00628388\n",
              "1   sn85066408_1903-06-22_ed-1_seq-1_ocr.txt  ...  0.00535483\n",
              "2   sn85066408_1903-06-19_ed-1_seq-1_ocr.txt  ...   0.0053326\n",
              "3   sn85066408_1903-05-30_ed-1_seq-1_ocr.txt  ...     0.96857\n",
              "4   2012271201_1903-07-18_ed-1_seq-1_ocr.txt  ...  0.00637381\n",
              "..                                       ...  ...         ...\n",
              "95  sn85066408_1903-07-03_ed-1_seq-1_ocr.txt  ...    0.971187\n",
              "96  sn85066408_1903-08-06_ed-1_seq-1_ocr.txt  ...    0.463905\n",
              "97  sn85066408_1903-05-25_ed-1_seq-1_ocr.txt  ...  0.00500696\n",
              "98  sn85066408_1903-07-09_ed-1_seq-1_ocr.txt  ...    0.970213\n",
              "99  sn85066408_1903-08-03_ed-1_seq-1_ocr.txt  ...   0.0048439\n",
              "\n",
              "[100 rows x 8 columns]"
            ]
          },
          "metadata": {
            "tags": []
          },
          "execution_count": 53
        }
      ]
    },
    {
      "cell_type": "markdown",
      "metadata": {
        "id": "4-RoDqS9zn50",
        "colab_type": "text"
      },
      "source": [
        "## 2. Distribution per topic for the whole corpus"
      ]
    },
    {
      "cell_type": "code",
      "metadata": {
        "id": "HnKDmWF8zrdy",
        "colab_type": "code",
        "outputId": "87ac4a09-57a2-4410-81ff-6481b6213646",
        "colab": {
          "base_uri": "https://localhost:8080/",
          "height": 275
        }
      },
      "source": [
        "topics = []\n",
        "topic_weights = []\n",
        "for i in range(len(distribution.columns)-1):\n",
        "  topic_weight = round(sum(distribution.iloc[:,i+1]),2)\n",
        "  topic_weights.append(topic_weight)\n",
        "  print( f'topic {i}: {topic_weight}%' )\n",
        "  topic = ldagensim_tfidf.print_topics()[i][1]\n",
        "  topics.append(i)\n",
        "  print( f'terms: {topic} ')"
      ],
      "execution_count": 54,
      "outputs": [
        {
          "output_type": "stream",
          "text": [
            "topic 0: 17.71%\n",
            "terms: 0.000*\"available\" + 0.000*\"text\" + 0.000*\"cardinale\" + 0.000*\"xiii\" + 0.000*\"papa\" + 0.000*\"leone\" + 0.000*\"oreglia\" + 0.000*\"papato\" + 0.000*\"produzione\" + 0.000*\"riduzione\" \n",
            "topic 1: 11.8%\n",
            "terms: 0.000*\"diamond\" + 0.000*\"black\" + 0.000*\"cardinale\" + 0.000*\"pescatore\" + 0.000*\"salmone\" + 0.000*\"negro\" + 0.000*\"giugno\" + 0.000*\"dragare\" + 0.000*\"regina\" + 0.000*\"crisi\" \n",
            "topic 2: 5.16%\n",
            "terms: 0.000*\"cardinale\" + 0.000*\"salma\" + 0.000*\"mascagni\" + 0.000*\"pontefice\" + 0.000*\"miniera\" + 0.000*\"xiii\" + 0.000*\"ebreo\" + 0.000*\"uovo\" + 0.000*\"conclave\" + 0.000*\"leone\" \n",
            "topic 3: 17.39%\n",
            "terms: 0.000*\"cardinale\" + 0.000*\"bovio\" + 0.000*\"marconi\" + 0.000*\"aprile\" + 0.000*\"papa\" + 0.000*\"guglielmo\" + 0.000*\"maggio\" + 0.000*\"pontefice\" + 0.000*\"mascagni\" + 0.000*\"sociale\" \n",
            "topic 4: 21.0%\n",
            "terms: 0.000*\"cardinale\" + 0.000*\"marconi\" + 0.000*\"garibaldi\" + 0.000*\"schedare\" + 0.000*\"studente\" + 0.000*\"papa\" + 0.000*\"immigrazione\" + 0.000*\"serbia\" + 0.000*\"immigrare\" + 0.000*\"edoardo\" \n",
            "topic 5: 4.44%\n",
            "terms: 0.000*\"cardinale\" + 0.000*\"mayor\" + 0.000*\"mafia\" + 0.000*\"california\" + 0.000*\"biondo\" + 0.000*\"conclave\" + 0.000*\"papa\" + 0.000*\"marconi\" + 0.000*\"planches\" + 0.000*\"emigrare\" \n",
            "topic 6: 22.49%\n",
            "terms: 0.000*\"cardinale\" + 0.000*\"marconi\" + 0.000*\"sognatore\" + 0.000*\"tolstoi\" + 0.000*\"conclave\" + 0.000*\"lavoratore\" + 0.000*\"ebreo\" + 0.000*\"ferro\" + 0.000*\"maggio\" + 0.000*\"chaumiè\" \n"
          ],
          "name": "stdout"
        }
      ]
    },
    {
      "cell_type": "code",
      "metadata": {
        "id": "eCCeqOz4HzVO",
        "colab_type": "code",
        "colab": {}
      },
      "source": [
        "# dataframe with values to sort them by order of importance\n",
        "distribution_df = pd.DataFrame(topic_weights, columns=['weight'])"
      ],
      "execution_count": 0,
      "outputs": []
    },
    {
      "cell_type": "code",
      "metadata": {
        "id": "USRzzdrgIDLa",
        "colab_type": "code",
        "colab": {}
      },
      "source": [
        "distribution_df['topics'] = topics\n",
        "distribution_df['topics'] = distribution_df['topics'].apply(lambda x: f'topic {x}')\n",
        "distribution_df = distribution_df.sort_values(by=['weight'])"
      ],
      "execution_count": 0,
      "outputs": []
    },
    {
      "cell_type": "code",
      "metadata": {
        "id": "n2qyrrXsIL0c",
        "colab_type": "code",
        "colab": {
          "base_uri": "https://localhost:8080/",
          "height": 466
        },
        "outputId": "27ae8c0e-d876-4b7c-ff27-56a06f5020e4"
      },
      "source": [
        "plt.rcdefaults()\n",
        "fig, ax = plt.subplots()\n",
        "ax.barh(distribution_df['topics'], distribution_df['weight'], align='center')\n",
        "ax.set_xlabel('Weight (%)')"
      ],
      "execution_count": 57,
      "outputs": [
        {
          "output_type": "execute_result",
          "data": {
            "text/plain": [
              "Text(0.5, 0, 'Weight (%)')"
            ]
          },
          "metadata": {
            "tags": []
          },
          "execution_count": 57
        },
        {
          "output_type": "display_data",
          "data": {
            "image/png": "[encoded data removed]",
            "text/plain": [
              "<Figure size 640x480 with 1 Axes>"
            ]
          },
          "metadata": {
            "tags": []
          }
        }
      ]
    }
  ]
}
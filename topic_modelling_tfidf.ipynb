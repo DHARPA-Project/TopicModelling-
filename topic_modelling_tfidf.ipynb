{
  "nbformat": 4,
  "nbformat_minor": 0,
  "metadata": {
    "colab": {
      "name": "Copy of topic_modelling_tfidf_2.ipynb",
      "provenance": [],
      "collapsed_sections": [],
      "toc_visible": true
    },
    "kernelspec": {
      "name": "python3",
      "display_name": "Python 3"
    }
  },
  "cells": [
    {
      "cell_type": "code",
      "metadata": {
        "id": "7FwlEnNvQJNG",
        "colab_type": "code",
        "colab": {}
      },
      "source": [
        "import json\n",
        "import requests\n",
        "import urllib"
      ],
      "execution_count": 0,
      "outputs": []
    },
    {
      "cell_type": "markdown",
      "metadata": {
        "id": "6AZPes5RSYG2",
        "colab_type": "text"
      },
      "source": [
        "# 0. Preliminary step to get sample data\n",
        "\n"
      ]
    },
    {
      "cell_type": "markdown",
      "metadata": {
        "id": "WaRiBwgFTg2p",
        "colab_type": "text"
      },
      "source": [
        "This preliminary step is reproducing Lorella's workflow Python file:\n",
        "https://i-lab.public.data.uu.nl/vault-ocex/ChroniclItaly%20-%20Italian%20American%20newspapers%20corpus%20from%201898%20to%201920%5B1529330521%5D/original/\n",
        "I just added a folder \"data_1\" to keep all files in one folder"
      ]
    },
    {
      "cell_type": "code",
      "metadata": {
        "id": "VK81EVJim0Jc",
        "colab_type": "code",
        "colab": {}
      },
      "source": [
        "mkdir 'data1'"
      ],
      "execution_count": 0,
      "outputs": []
    },
    {
      "cell_type": "code",
      "metadata": {
        "id": "9O_c4pYzXsP_",
        "colab_type": "code",
        "colab": {}
      },
      "source": [
        "# Base URL\n",
        "chronam = 'https://chroniclingamerica.loc.gov/'\n",
        "\n",
        "# Chronicling America search results\n",
        "results = 'https://chroniclingamerica.loc.gov/search/pages/results/?date1=1880&date2=1920&searchType=advanced&language=ita&sequence=1&lccn=2012271201&lccn=sn85066408&lccn=sn85055164&lccn=sn85054967&lccn=sn88064299&lccn=sn84037024&lccn=sn84037025&lccn=sn86092310&proxdistance=5&state=California&state=District+of+Columbia&state=Massachusetts&state=Pennsylvania&state=Piedmont&state=Vermont&state=West+Virginia&rows=100&ortext=&proxtext=&phrasetext=&andtext=&dateFilterType=yearRange&page=11&sort=date'\n",
        "\n",
        "# Count to keep track of downloaded files\n",
        "count = 0\n",
        "\n",
        "# Gets search results in JSON format\n",
        "results_json = results + '&format=json'\n"
      ],
      "execution_count": 0,
      "outputs": []
    },
    {
      "cell_type": "code",
      "metadata": {
        "id": "DQwqRYbydrq4",
        "colab_type": "code",
        "colab": {}
      },
      "source": [
        "# Returns JSON \n",
        "def get_json(url):\n",
        "    data = requests.get(url)\n",
        "    return(json.loads(data.content))\n",
        "    \n",
        "data = get_json(results_json)"
      ],
      "execution_count": 0,
      "outputs": []
    },
    {
      "cell_type": "code",
      "metadata": {
        "id": "Xjv32dwDndnw",
        "colab_type": "code",
        "colab": {}
      },
      "source": [
        "# Cycle through JSON results\n",
        "for page in data['items']:\n",
        "    # Create URL\n",
        "    hit = str(page['id'])\n",
        "    seed = hit + 'ocr.txt'\n",
        "    download_url = chronam + seed\n",
        " \n",
        "    # Create file name\n",
        "    file_name = download_url.replace('/', '_')\n",
        "    file_name = 'data1/' + file_name[41:]\n",
        "    \n",
        "    # Download .txt of the page\n",
        "    urllib.request.urlretrieve(download_url, str(file_name))\n",
        "    count += 1"
      ],
      "execution_count": 0,
      "outputs": []
    },
    {
      "cell_type": "markdown",
      "metadata": {
        "id": "AUvuIpuzT8ke",
        "colab_type": "text"
      },
      "source": [
        "# 1. Data preparation"
      ]
    },
    {
      "cell_type": "markdown",
      "metadata": {
        "id": "MTOrDXSYUIc3",
        "colab_type": "text"
      },
      "source": [
        "## 1.1. Grouping all texts files\n",
        "A dataframe is first created to keep individual files at their initial state, and the name of each file"
      ]
    },
    {
      "cell_type": "code",
      "metadata": {
        "id": "u857KfY9WXN_",
        "colab_type": "code",
        "colab": {}
      },
      "source": [
        "import os\n",
        "import pandas as pd"
      ],
      "execution_count": 0,
      "outputs": []
    },
    {
      "cell_type": "code",
      "metadata": {
        "id": "h5FNWdVJT1v8",
        "colab_type": "code",
        "colab": {}
      },
      "source": [
        "#list of the file names\n",
        "files_list = os.listdir('data1')"
      ],
      "execution_count": 0,
      "outputs": []
    },
    {
      "cell_type": "code",
      "metadata": {
        "id": "8lLD0OpiXv5Y",
        "colab_type": "code",
        "colab": {}
      },
      "source": [
        "#insert file names into a df\n",
        "sources = pd.DataFrame(files_list, columns=['file_name'])"
      ],
      "execution_count": 0,
      "outputs": []
    },
    {
      "cell_type": "code",
      "metadata": {
        "id": "0PgOwPnqCfAe",
        "colab_type": "code",
        "colab": {}
      },
      "source": [
        "#function to read the content of the text files\n",
        "def readTxtContent(fileName):\n",
        "  with open('data1/' + fileName, 'r') as file:\n",
        "    return ' ' + file.read().replace('\\n', ' ') + ' '"
      ],
      "execution_count": 0,
      "outputs": []
    },
    {
      "cell_type": "code",
      "metadata": {
        "id": "MZEVIKHziQv2",
        "colab_type": "code",
        "colab": {}
      },
      "source": [
        "# adding a column to the dataframe containing file content\n",
        "sources['file_content'] = sources['file_name'].apply(lambda x: readTxtContent(x))"
      ],
      "execution_count": 0,
      "outputs": []
    },
    {
      "cell_type": "code",
      "metadata": {
        "id": "4ffdAsOXQSBe",
        "colab_type": "code",
        "outputId": "0ae1e9c3-1b6c-4d7f-d5a0-3c8335503f34",
        "colab": {
          "base_uri": "https://localhost:8080/",
          "height": 34
        }
      },
      "source": [
        "# for verification purposes later, count the nr of characters for each content\n",
        "sources['file_len'] = sources['file_content'].apply(lambda x: len(x))\n",
        "sources['file_len'].sum()"
      ],
      "execution_count": 0,
      "outputs": [
        {
          "output_type": "execute_result",
          "data": {
            "text/plain": [
              "1779770"
            ]
          },
          "metadata": {
            "tags": []
          },
          "execution_count": 13
        }
      ]
    },
    {
      "cell_type": "code",
      "metadata": {
        "id": "QYRvEvHbK32i",
        "colab_type": "code",
        "colab": {}
      },
      "source": [
        "# variable containing the documents separately\n",
        "corpus = sources['file_content']"
      ],
      "execution_count": 0,
      "outputs": []
    },
    {
      "cell_type": "code",
      "metadata": {
        "id": "wwTwsGsED8uU",
        "colab_type": "code",
        "colab": {}
      },
      "source": [
        "# variable containing all documents together\n",
        "all_texts = ''\n",
        "for i in range(len(sources)):\n",
        "  all_texts += sources['file_content'][i]"
      ],
      "execution_count": 0,
      "outputs": []
    },
    {
      "cell_type": "code",
      "metadata": {
        "id": "vBu87u_SSM-9",
        "colab_type": "code",
        "outputId": "1da2daec-8b0f-410b-c431-fdb34ce4bda1",
        "colab": {
          "base_uri": "https://localhost:8080/",
          "height": 34
        }
      },
      "source": [
        "# check length\n",
        "len(all_texts)"
      ],
      "execution_count": 0,
      "outputs": [
        {
          "output_type": "execute_result",
          "data": {
            "text/plain": [
              "1779770"
            ]
          },
          "metadata": {
            "tags": []
          },
          "execution_count": 16
        }
      ]
    },
    {
      "cell_type": "markdown",
      "metadata": {
        "id": "ybCetXHi9m-y",
        "colab_type": "text"
      },
      "source": [
        "\n",
        "## 1.2 Removing stop words, punctuation, short words"
      ]
    },
    {
      "cell_type": "code",
      "metadata": {
        "id": "6e-8sf7RayKz",
        "colab_type": "code",
        "outputId": "99455414-811d-4cc0-f28a-a611c3630705",
        "colab": {
          "base_uri": "https://localhost:8080/",
          "height": 85
        }
      },
      "source": [
        "import nltk\n",
        "nltk.download('punkt')\n",
        "nltk.download('stopwords')\n",
        "from nltk.corpus import stopwords\n",
        "from nltk.tokenize import word_tokenize"
      ],
      "execution_count": 0,
      "outputs": [
        {
          "output_type": "stream",
          "text": [
            "[nltk_data] Downloading package punkt to /root/nltk_data...\n",
            "[nltk_data]   Unzipping tokenizers/punkt.zip.\n",
            "[nltk_data] Downloading package stopwords to /root/nltk_data...\n",
            "[nltk_data]   Unzipping corpora/stopwords.zip.\n"
          ],
          "name": "stdout"
        }
      ]
    },
    {
      "cell_type": "code",
      "metadata": {
        "id": "a1MbU3_seOtJ",
        "colab_type": "code",
        "colab": {}
      },
      "source": [
        "# add tokenized documents in dataframe\n",
        "sources['tokens'] = sources['file_content'].apply(lambda x: nltk.word_tokenize(x))"
      ],
      "execution_count": 0,
      "outputs": []
    },
    {
      "cell_type": "code",
      "metadata": {
        "id": "vh3ikvdKfQ60",
        "colab_type": "code",
        "colab": {}
      },
      "source": [
        "# add new column in df with processed tokens\n",
        "sources['tokens_prep'] = sources['tokens'].apply(lambda x: [w.lower() for w in x if (w.isalnum() and len(w) > 3 )])"
      ],
      "execution_count": 0,
      "outputs": []
    },
    {
      "cell_type": "code",
      "metadata": {
        "id": "3IrR5gbba5ho",
        "colab_type": "code",
        "colab": {}
      },
      "source": [
        "# these lines are useful if we want to provide alternate stop words lists (NLTK)\n",
        "# show list of default NLTK Italian stopwords\n",
        "# stopwords.words('italian')\n",
        "# ital_stopwords = stopwords.words('italian')\n",
        "# to append list of words added by user: ital_stopwords.extend(user_input)\n",
        "# to remove words: ital_stopwords.remove(user_input)"
      ],
      "execution_count": 0,
      "outputs": []
    },
    {
      "cell_type": "code",
      "metadata": {
        "id": "8Qw4i2O_CTdQ",
        "colab_type": "code",
        "colab": {}
      },
      "source": [
        "# spacy list of Stop words (seems to be more complete than NLTK)\n",
        "import spacy\n",
        "from spacy.lang.it.stop_words import STOP_WORDS"
      ],
      "execution_count": 0,
      "outputs": []
    },
    {
      "cell_type": "code",
      "metadata": {
        "id": "5SBUnxlpCxEa",
        "colab_type": "code",
        "colab": {}
      },
      "source": [
        "spacy_it_sw = STOP_WORDS"
      ],
      "execution_count": 0,
      "outputs": []
    },
    {
      "cell_type": "code",
      "metadata": {
        "id": "jDvREaSSiM1v",
        "colab_type": "code",
        "colab": {}
      },
      "source": [
        "# add column with tokenized documents without sw\n",
        "sources['tokens_prep_nostop'] = sources['tokens_prep'].apply(lambda x: [w for w in x if not w in spacy_it_sw])"
      ],
      "execution_count": 0,
      "outputs": []
    },
    {
      "cell_type": "markdown",
      "metadata": {
        "id": "hKs7aXWLbVWo",
        "colab_type": "text"
      },
      "source": [
        "## 1.3 Stem"
      ]
    },
    {
      "cell_type": "code",
      "metadata": {
        "id": "uyl0C-xkbLiB",
        "colab_type": "code",
        "colab": {}
      },
      "source": [
        "from nltk.stem.snowball import SnowballStemmer"
      ],
      "execution_count": 0,
      "outputs": []
    },
    {
      "cell_type": "code",
      "metadata": {
        "id": "euUXP7UHbaN-",
        "colab_type": "code",
        "colab": {}
      },
      "source": [
        "#initialize with needed language\n",
        "stemmer = SnowballStemmer(\"italian\")"
      ],
      "execution_count": 0,
      "outputs": []
    },
    {
      "cell_type": "code",
      "metadata": {
        "id": "CljkLrRmjaot",
        "colab_type": "code",
        "colab": {}
      },
      "source": [
        "# add column with stemmed tokens\n",
        "sources['tokens_stemmed'] = sources['tokens_prep_nostop'].apply(lambda x: [stemmer.stem(w) for w in x])"
      ],
      "execution_count": 0,
      "outputs": []
    },
    {
      "cell_type": "markdown",
      "metadata": {
        "id": "YHKQAqemcgYz",
        "colab_type": "text"
      },
      "source": [
        "## 1.4 Lemmatize"
      ]
    },
    {
      "cell_type": "code",
      "metadata": {
        "id": "Ob8M804chYgh",
        "colab_type": "code",
        "colab": {}
      },
      "source": [
        "# Lemmatization is available in multiple languages in Spacy and not in NLTK (only English)\n",
        "# With Spacy, lemmatization is available for 10 languages. There's also a multi-language option that\n",
        "# should be tested if additional languages are needed"
      ],
      "execution_count": 0,
      "outputs": []
    },
    {
      "cell_type": "code",
      "metadata": {
        "id": "2QAPblFUwf3F",
        "colab_type": "code",
        "outputId": "3e2315db-6f75-4a76-f6f0-d1377ec16008",
        "colab": {
          "base_uri": "https://localhost:8080/",
          "height": 581
        }
      },
      "source": [
        "!python -m spacy download it_core_news_sm"
      ],
      "execution_count": 0,
      "outputs": [
        {
          "output_type": "stream",
          "text": [
            "Collecting it_core_news_sm==2.2.5\n",
            "\u001b[?25l  Downloading https://github.com/explosion/spacy-models/releases/download/it_core_news_sm-2.2.5/it_core_news_sm-2.2.5.tar.gz (14.5MB)\n",
            "\u001b[K     |████████████████████████████████| 14.5MB 3.7MB/s \n",
            "\u001b[?25hRequirement already satisfied: spacy>=2.2.2 in /usr/local/lib/python3.6/dist-packages (from it_core_news_sm==2.2.5) (2.2.4)\n",
            "Requirement already satisfied: wasabi<1.1.0,>=0.4.0 in /usr/local/lib/python3.6/dist-packages (from spacy>=2.2.2->it_core_news_sm==2.2.5) (0.6.0)\n",
            "Requirement already satisfied: thinc==7.4.0 in /usr/local/lib/python3.6/dist-packages (from spacy>=2.2.2->it_core_news_sm==2.2.5) (7.4.0)\n",
            "Requirement already satisfied: preshed<3.1.0,>=3.0.2 in /usr/local/lib/python3.6/dist-packages (from spacy>=2.2.2->it_core_news_sm==2.2.5) (3.0.2)\n",
            "Requirement already satisfied: tqdm<5.0.0,>=4.38.0 in /usr/local/lib/python3.6/dist-packages (from spacy>=2.2.2->it_core_news_sm==2.2.5) (4.41.1)\n",
            "Requirement already satisfied: plac<1.2.0,>=0.9.6 in /usr/local/lib/python3.6/dist-packages (from spacy>=2.2.2->it_core_news_sm==2.2.5) (1.1.3)\n",
            "Requirement already satisfied: catalogue<1.1.0,>=0.0.7 in /usr/local/lib/python3.6/dist-packages (from spacy>=2.2.2->it_core_news_sm==2.2.5) (1.0.0)\n",
            "Requirement already satisfied: murmurhash<1.1.0,>=0.28.0 in /usr/local/lib/python3.6/dist-packages (from spacy>=2.2.2->it_core_news_sm==2.2.5) (1.0.2)\n",
            "Requirement already satisfied: requests<3.0.0,>=2.13.0 in /usr/local/lib/python3.6/dist-packages (from spacy>=2.2.2->it_core_news_sm==2.2.5) (2.23.0)\n",
            "Requirement already satisfied: blis<0.5.0,>=0.4.0 in /usr/local/lib/python3.6/dist-packages (from spacy>=2.2.2->it_core_news_sm==2.2.5) (0.4.1)\n",
            "Requirement already satisfied: srsly<1.1.0,>=1.0.2 in /usr/local/lib/python3.6/dist-packages (from spacy>=2.2.2->it_core_news_sm==2.2.5) (1.0.2)\n",
            "Requirement already satisfied: numpy>=1.15.0 in /usr/local/lib/python3.6/dist-packages (from spacy>=2.2.2->it_core_news_sm==2.2.5) (1.18.4)\n",
            "Requirement already satisfied: setuptools in /usr/local/lib/python3.6/dist-packages (from spacy>=2.2.2->it_core_news_sm==2.2.5) (46.1.3)\n",
            "Requirement already satisfied: cymem<2.1.0,>=2.0.2 in /usr/local/lib/python3.6/dist-packages (from spacy>=2.2.2->it_core_news_sm==2.2.5) (2.0.3)\n",
            "Requirement already satisfied: importlib-metadata>=0.20; python_version < \"3.8\" in /usr/local/lib/python3.6/dist-packages (from catalogue<1.1.0,>=0.0.7->spacy>=2.2.2->it_core_news_sm==2.2.5) (1.6.0)\n",
            "Requirement already satisfied: certifi>=2017.4.17 in /usr/local/lib/python3.6/dist-packages (from requests<3.0.0,>=2.13.0->spacy>=2.2.2->it_core_news_sm==2.2.5) (2020.4.5.1)\n",
            "Requirement already satisfied: idna<3,>=2.5 in /usr/local/lib/python3.6/dist-packages (from requests<3.0.0,>=2.13.0->spacy>=2.2.2->it_core_news_sm==2.2.5) (2.9)\n",
            "Requirement already satisfied: urllib3!=1.25.0,!=1.25.1,<1.26,>=1.21.1 in /usr/local/lib/python3.6/dist-packages (from requests<3.0.0,>=2.13.0->spacy>=2.2.2->it_core_news_sm==2.2.5) (1.24.3)\n",
            "Requirement already satisfied: chardet<4,>=3.0.2 in /usr/local/lib/python3.6/dist-packages (from requests<3.0.0,>=2.13.0->spacy>=2.2.2->it_core_news_sm==2.2.5) (3.0.4)\n",
            "Requirement already satisfied: zipp>=0.5 in /usr/local/lib/python3.6/dist-packages (from importlib-metadata>=0.20; python_version < \"3.8\"->catalogue<1.1.0,>=0.0.7->spacy>=2.2.2->it_core_news_sm==2.2.5) (3.1.0)\n",
            "Building wheels for collected packages: it-core-news-sm\n",
            "  Building wheel for it-core-news-sm (setup.py) ... \u001b[?25l\u001b[?25hdone\n",
            "  Created wheel for it-core-news-sm: filename=it_core_news_sm-2.2.5-cp36-none-any.whl size=14471130 sha256=ccc94a846a808d177cde3f6e1c0d8e4eeb66619860a325ad6b7003de6a5ebafd\n",
            "  Stored in directory: /tmp/pip-ephem-wheel-cache-cb9ajnqp/wheels/a1/01/c2/127ab92cc5e3c7f36b5cd4bff28d1c29c313962a2ba913e720\n",
            "Successfully built it-core-news-sm\n",
            "Installing collected packages: it-core-news-sm\n",
            "Successfully installed it-core-news-sm-2.2.5\n",
            "\u001b[38;5;2m✔ Download and installation successful\u001b[0m\n",
            "You can now load the model via spacy.load('it_core_news_sm')\n"
          ],
          "name": "stdout"
        }
      ]
    },
    {
      "cell_type": "code",
      "metadata": {
        "id": "8al8riPXA98n",
        "colab_type": "code",
        "colab": {}
      },
      "source": [
        "import it_core_news_sm\n",
        "it_nlp = it_core_news_sm.load(disable=['tagger', 'parser', 'ner'])"
      ],
      "execution_count": 0,
      "outputs": []
    },
    {
      "cell_type": "code",
      "metadata": {
        "id": "YZHdI_8tmv3y",
        "colab_type": "code",
        "colab": {}
      },
      "source": [
        "# lemmatization function\n",
        "def lemmatize(doc):\n",
        "  lemmatized_doc = []\n",
        "  for w in doc:\n",
        "    w_lemma = [token.lemma_ for token in it_nlp(w)]\n",
        "    lemmatized_doc.append(w_lemma[0])\n",
        "  return lemmatized_doc"
      ],
      "execution_count": 0,
      "outputs": []
    },
    {
      "cell_type": "code",
      "metadata": {
        "id": "k-mYWKgSk9CW",
        "colab_type": "code",
        "colab": {}
      },
      "source": [
        "# add column with lemmatized tokens\n",
        "sources['tokens_lemmatized'] = sources['tokens_prep_nostop'].apply(lambda x: lemmatize(x))"
      ],
      "execution_count": 0,
      "outputs": []
    },
    {
      "cell_type": "code",
      "metadata": {
        "id": "tvl0MO_FH5yH",
        "colab_type": "code",
        "colab": {}
      },
      "source": [
        "# variable with lemmatized tokens\n",
        "lemmatized_corpus = sources['tokens_lemmatized']"
      ],
      "execution_count": 0,
      "outputs": []
    },
    {
      "cell_type": "markdown",
      "metadata": {
        "id": "o8TRLnFPK6p4",
        "colab_type": "text"
      },
      "source": [
        "# 2. Topics with LDA"
      ]
    },
    {
      "cell_type": "code",
      "metadata": {
        "id": "N0NrktL1el7E",
        "colab_type": "code",
        "outputId": "48adb9da-1130-4d59-bf8c-9026a72e7289",
        "colab": {
          "base_uri": "https://localhost:8080/",
          "height": 68
        }
      },
      "source": [
        "# installation setup that works for Mallet: https://github.com/polsci/colab-gensim-mallet/blob/master/topic-modeling-with-colab-gensim-mallet.ipynb\n",
        "def install_java():\n",
        "  !apt-get install -y openjdk-8-jdk-headless -qq > /dev/null      #install openjdk\n",
        "  os.environ[\"JAVA_HOME\"] = \"/usr/lib/jvm/java-8-openjdk-amd64\"     #set environment variable\n",
        "  !java -version       #check java version\n",
        "install_java()"
      ],
      "execution_count": 0,
      "outputs": [
        {
          "output_type": "stream",
          "text": [
            "openjdk version \"11.0.7\" 2020-04-14\n",
            "OpenJDK Runtime Environment (build 11.0.7+10-post-Ubuntu-2ubuntu218.04)\n",
            "OpenJDK 64-Bit Server VM (build 11.0.7+10-post-Ubuntu-2ubuntu218.04, mixed mode, sharing)\n"
          ],
          "name": "stdout"
        }
      ]
    },
    {
      "cell_type": "code",
      "metadata": {
        "id": "IH7oPbxGe46O",
        "colab_type": "code",
        "outputId": "ec97b1e8-3319-436e-e5aa-a27f053acedf",
        "colab": {
          "base_uri": "https://localhost:8080/",
          "height": 1000
        }
      },
      "source": [
        "!wget http://mallet.cs.umass.edu/dist/mallet-2.0.8.zip\n",
        "!unzip mallet-2.0.8.zip"
      ],
      "execution_count": 0,
      "outputs": [
        {
          "output_type": "stream",
          "text": [
            "--2020-05-13 06:56:54--  http://mallet.cs.umass.edu/dist/mallet-2.0.8.zip\n",
            "Resolving mallet.cs.umass.edu (mallet.cs.umass.edu)... 128.119.246.70\n",
            "Connecting to mallet.cs.umass.edu (mallet.cs.umass.edu)|128.119.246.70|:80... connected.\n",
            "HTTP request sent, awaiting response... 200 OK\n",
            "Length: 16184794 (15M) [application/zip]\n",
            "Saving to: ‘mallet-2.0.8.zip’\n",
            "\n",
            "mallet-2.0.8.zip    100%[===================>]  15.43M  13.1MB/s    in 1.2s    \n",
            "\n",
            "2020-05-13 06:56:55 (13.1 MB/s) - ‘mallet-2.0.8.zip’ saved [16184794/16184794]\n",
            "\n",
            "Archive:  mallet-2.0.8.zip\n",
            "   creating: mallet-2.0.8/\n",
            "   creating: mallet-2.0.8/bin/\n",
            "  inflating: mallet-2.0.8/bin/classifier2info  \n",
            "  inflating: mallet-2.0.8/bin/csv2classify  \n",
            "  inflating: mallet-2.0.8/bin/csv2vectors  \n",
            "  inflating: mallet-2.0.8/bin/mallet  \n",
            "  inflating: mallet-2.0.8/bin/mallet.bat  \n",
            "  inflating: mallet-2.0.8/bin/mallethon  \n",
            "  inflating: mallet-2.0.8/bin/prepend-license.sh  \n",
            "  inflating: mallet-2.0.8/bin/svmlight2vectors  \n",
            "  inflating: mallet-2.0.8/bin/text2classify  \n",
            "  inflating: mallet-2.0.8/bin/text2vectors  \n",
            "  inflating: mallet-2.0.8/bin/vectors2classify  \n",
            "  inflating: mallet-2.0.8/bin/vectors2info  \n",
            "  inflating: mallet-2.0.8/bin/vectors2topics  \n",
            "  inflating: mallet-2.0.8/bin/vectors2vectors  \n",
            "  inflating: mallet-2.0.8/build.xml  \n",
            "   creating: mallet-2.0.8/class/\n",
            "   creating: mallet-2.0.8/class/cc/\n",
            "   creating: mallet-2.0.8/class/cc/mallet/\n",
            "   creating: mallet-2.0.8/class/cc/mallet/classify/\n",
            "  inflating: mallet-2.0.8/class/cc/mallet/classify/AdaBoost.class  \n",
            "  inflating: mallet-2.0.8/class/cc/mallet/classify/AdaBoostM2.class  \n",
            "  inflating: mallet-2.0.8/class/cc/mallet/classify/AdaBoostM2Trainer.class  \n",
            "  inflating: mallet-2.0.8/class/cc/mallet/classify/AdaBoostTrainer.class  \n",
            "  inflating: mallet-2.0.8/class/cc/mallet/classify/BaggingClassifier.class  \n",
            "  inflating: mallet-2.0.8/class/cc/mallet/classify/BaggingTrainer.class  \n",
            "  inflating: mallet-2.0.8/class/cc/mallet/classify/BalancedWinnow.class  \n",
            "  inflating: mallet-2.0.8/class/cc/mallet/classify/BalancedWinnowTrainer.class  \n",
            "  inflating: mallet-2.0.8/class/cc/mallet/classify/Boostable.class  \n",
            "  inflating: mallet-2.0.8/class/cc/mallet/classify/C45$Node.class  \n",
            "  inflating: mallet-2.0.8/class/cc/mallet/classify/C45.class  \n",
            "  inflating: mallet-2.0.8/class/cc/mallet/classify/C45Trainer.class  \n",
            "  inflating: mallet-2.0.8/class/cc/mallet/classify/Classification.class  \n",
            "  inflating: mallet-2.0.8/class/cc/mallet/classify/Classifier.class  \n",
            "  inflating: mallet-2.0.8/class/cc/mallet/classify/ClassifierAccuracyEvaluator.class  \n",
            "  inflating: mallet-2.0.8/class/cc/mallet/classify/ClassifierEnsemble.class  \n",
            "  inflating: mallet-2.0.8/class/cc/mallet/classify/ClassifierEnsembleTrainer.class  \n",
            "  inflating: mallet-2.0.8/class/cc/mallet/classify/ClassifierEvaluator.class  \n",
            "  inflating: mallet-2.0.8/class/cc/mallet/classify/ClassifierTrainer$ByActiveLearning.class  \n",
            "  inflating: mallet-2.0.8/class/cc/mallet/classify/ClassifierTrainer$ByIncrements.class  \n",
            "  inflating: mallet-2.0.8/class/cc/mallet/classify/ClassifierTrainer$ByInstanceIncrements.class  \n",
            "  inflating: mallet-2.0.8/class/cc/mallet/classify/ClassifierTrainer$ByOptimization.class  \n",
            "  inflating: mallet-2.0.8/class/cc/mallet/classify/ClassifierTrainer$Factory.class  \n",
            "  inflating: mallet-2.0.8/class/cc/mallet/classify/ClassifierTrainer.class  \n",
            "  inflating: mallet-2.0.8/class/cc/mallet/classify/ConfidencePredictingClassifier.class  \n",
            "  inflating: mallet-2.0.8/class/cc/mallet/classify/ConfidencePredictingClassifierTrainer.class  \n",
            "   creating: mallet-2.0.8/class/cc/mallet/classify/constraints/\n",
            "   creating: mallet-2.0.8/class/cc/mallet/classify/constraints/ge/\n",
            "  inflating: mallet-2.0.8/class/cc/mallet/classify/constraints/ge/MaxEntFLGEConstraints$MaxEntFLGEConstraint.class  \n",
            "  inflating: mallet-2.0.8/class/cc/mallet/classify/constraints/ge/MaxEntFLGEConstraints.class  \n",
            "  inflating: mallet-2.0.8/class/cc/mallet/classify/constraints/ge/MaxEntGEConstraint.class  \n",
            "  inflating: mallet-2.0.8/class/cc/mallet/classify/constraints/ge/MaxEntKLFLGEConstraints$MaxEntKLFLGEConstraint.class  \n",
            "  inflating: mallet-2.0.8/class/cc/mallet/classify/constraints/ge/MaxEntKLFLGEConstraints.class  \n",
            "  inflating: mallet-2.0.8/class/cc/mallet/classify/constraints/ge/MaxEntL2FLGEConstraints$MaxEntL2FLGEConstraint.class  \n",
            "  inflating: mallet-2.0.8/class/cc/mallet/classify/constraints/ge/MaxEntL2FLGEConstraints.class  \n",
            "  inflating: mallet-2.0.8/class/cc/mallet/classify/constraints/ge/MaxEntRangeL2FLGEConstraints$MaxEntL2IndGEConstraint.class  \n",
            "  inflating: mallet-2.0.8/class/cc/mallet/classify/constraints/ge/MaxEntRangeL2FLGEConstraints.class  \n",
            "   creating: mallet-2.0.8/class/cc/mallet/classify/constraints/pr/\n",
            "  inflating: mallet-2.0.8/class/cc/mallet/classify/constraints/pr/MaxEntFLPRConstraints$MaxEntFLPRConstraint.class  \n",
            "  inflating: mallet-2.0.8/class/cc/mallet/classify/constraints/pr/MaxEntFLPRConstraints.class  \n",
            "  inflating: mallet-2.0.8/class/cc/mallet/classify/constraints/pr/MaxEntL2FLPRConstraints$MaxEntL2FLPRConstraint.class  \n",
            "  inflating: mallet-2.0.8/class/cc/mallet/classify/constraints/pr/MaxEntL2FLPRConstraints.class  \n",
            "  inflating: mallet-2.0.8/class/cc/mallet/classify/constraints/pr/MaxEntPRConstraint.class  \n",
            "  inflating: mallet-2.0.8/class/cc/mallet/classify/DecisionTree$Node.class  \n",
            "  inflating: mallet-2.0.8/class/cc/mallet/classify/DecisionTree.class  \n",
            "  inflating: mallet-2.0.8/class/cc/mallet/classify/DecisionTreeTrainer$Factory.class  \n",
            "  inflating: mallet-2.0.8/class/cc/mallet/classify/DecisionTreeTrainer.class  \n",
            "   creating: mallet-2.0.8/class/cc/mallet/classify/evaluate/\n",
            "  inflating: mallet-2.0.8/class/cc/mallet/classify/evaluate/AccuracyCoverage$1.class  \n",
            "  inflating: mallet-2.0.8/class/cc/mallet/classify/evaluate/AccuracyCoverage$ClassificationComparator.class  \n",
            "  inflating: mallet-2.0.8/class/cc/mallet/classify/evaluate/AccuracyCoverage.class  \n",
            "  inflating: mallet-2.0.8/class/cc/mallet/classify/evaluate/ConfusionMatrix.class  \n",
            "  inflating: mallet-2.0.8/class/cc/mallet/classify/evaluate/Graph$Legend.class  \n",
            "  inflating: mallet-2.0.8/class/cc/mallet/classify/evaluate/Graph.class  \n",
            "  inflating: mallet-2.0.8/class/cc/mallet/classify/evaluate/Graph2.class  \n",
            "  inflating: mallet-2.0.8/class/cc/mallet/classify/evaluate/GraphItem.class  \n",
            "   creating: mallet-2.0.8/class/cc/mallet/classify/examples/\n",
            "  inflating: mallet-2.0.8/class/cc/mallet/classify/examples/DocumentClassifier.class  \n",
            "  inflating: mallet-2.0.8/class/cc/mallet/classify/FeatureConstraintUtil$Element.class  \n",
            "  inflating: mallet-2.0.8/class/cc/mallet/classify/FeatureConstraintUtil.class  \n",
            "  inflating: mallet-2.0.8/class/cc/mallet/classify/FeatureSelectingClassifierTrainer.class  \n",
            "  inflating: mallet-2.0.8/class/cc/mallet/classify/MaxEnt.class  \n",
            "  inflating: mallet-2.0.8/class/cc/mallet/classify/MaxEntGERangeTrainer.class  \n",
            "  inflating: mallet-2.0.8/class/cc/mallet/classify/MaxEntGETrainer.class  \n",
            "  inflating: mallet-2.0.8/class/cc/mallet/classify/MaxEntL1Trainer.class  \n",
            "  inflating: mallet-2.0.8/class/cc/mallet/classify/MaxEntOptimizableByGE.class  \n",
            "  inflating: mallet-2.0.8/class/cc/mallet/classify/MaxEntOptimizableByLabelDistribution.class  \n",
            "  inflating: mallet-2.0.8/class/cc/mallet/classify/MaxEntOptimizableByLabelLikelihood.class  \n",
            "  inflating: mallet-2.0.8/class/cc/mallet/classify/MaxEntPRTrainer.class  \n",
            "  inflating: mallet-2.0.8/class/cc/mallet/classify/MaxEntTrainer.class  \n",
            "  inflating: mallet-2.0.8/class/cc/mallet/classify/MCMaxEnt.class  \n",
            "  inflating: mallet-2.0.8/class/cc/mallet/classify/MCMaxEntTrainer$MaximizableTrainer.class  \n",
            "  inflating: mallet-2.0.8/class/cc/mallet/classify/MCMaxEntTrainer.class  \n",
            "  inflating: mallet-2.0.8/class/cc/mallet/classify/MostFrequentClassAssignmentTrainer.class  \n",
            "  inflating: mallet-2.0.8/class/cc/mallet/classify/MostFrequentClassifier.class  \n",
            "  inflating: mallet-2.0.8/class/cc/mallet/classify/NaiveBayes.class  \n",
            "  inflating: mallet-2.0.8/class/cc/mallet/classify/NaiveBayesEMTrainer.class  \n",
            "  inflating: mallet-2.0.8/class/cc/mallet/classify/NaiveBayesTrainer$Factory.class  \n",
            "  inflating: mallet-2.0.8/class/cc/mallet/classify/NaiveBayesTrainer.class  \n",
            "  inflating: mallet-2.0.8/class/cc/mallet/classify/PRAuxClassifier.class  \n",
            "  inflating: mallet-2.0.8/class/cc/mallet/classify/PRAuxClassifierOptimizable.class  \n",
            "  inflating: mallet-2.0.8/class/cc/mallet/classify/RandomAssignmentTrainer.class  \n",
            "  inflating: mallet-2.0.8/class/cc/mallet/classify/RandomClassifier.class  \n",
            "  inflating: mallet-2.0.8/class/cc/mallet/classify/RankMaxEnt.class  \n",
            "  inflating: mallet-2.0.8/class/cc/mallet/classify/RankMaxEntTrainer$MaximizableTrainer.class  \n",
            "  inflating: mallet-2.0.8/class/cc/mallet/classify/RankMaxEntTrainer.class  \n",
            "   creating: mallet-2.0.8/class/cc/mallet/classify/tests/\n",
            "  inflating: mallet-2.0.8/class/cc/mallet/classify/tests/TestClassifiers.class  \n",
            "  inflating: mallet-2.0.8/class/cc/mallet/classify/tests/TestMaxEntTrainer.class  \n",
            "  inflating: mallet-2.0.8/class/cc/mallet/classify/tests/TestNaiveBayes.class  \n",
            "  inflating: mallet-2.0.8/class/cc/mallet/classify/tests/TestStaticParameters$1.class  \n",
            "  inflating: mallet-2.0.8/class/cc/mallet/classify/tests/TestStaticParameters$Factory.class  \n",
            "  inflating: mallet-2.0.8/class/cc/mallet/classify/tests/TestStaticParameters.class  \n",
            "  inflating: mallet-2.0.8/class/cc/mallet/classify/Trial.class  \n",
            "   creating: mallet-2.0.8/class/cc/mallet/classify/tui/\n",
            "  inflating: mallet-2.0.8/class/cc/mallet/classify/tui/Calo2Classify$1.class  \n",
            "  inflating: mallet-2.0.8/class/cc/mallet/classify/tui/Calo2Classify$2.class  \n",
            "  inflating: mallet-2.0.8/class/cc/mallet/classify/tui/Calo2Classify$ReportOption.class  \n",
            "  inflating: mallet-2.0.8/class/cc/mallet/classify/tui/Calo2Classify.class  \n",
            "  inflating: mallet-2.0.8/class/cc/mallet/classify/tui/Classifier2Info.class  \n",
            "  inflating: mallet-2.0.8/class/cc/mallet/classify/tui/Csv2Classify.class  \n",
            "  inflating: mallet-2.0.8/class/cc/mallet/classify/tui/Csv2Vectors.class  \n",
            "  inflating: mallet-2.0.8/class/cc/mallet/classify/tui/SvmLight2Classify.class  \n",
            "  inflating: mallet-2.0.8/class/cc/mallet/classify/tui/SvmLight2Vectors.class  \n",
            "  inflating: mallet-2.0.8/class/cc/mallet/classify/tui/Text2Classify.class  \n",
            "  inflating: mallet-2.0.8/class/cc/mallet/classify/tui/Text2Vectors.class  \n",
            "  inflating: mallet-2.0.8/class/cc/mallet/classify/tui/Vectors2Classify$1.class  \n",
            "  inflating: mallet-2.0.8/class/cc/mallet/classify/tui/Vectors2Classify$2.class  \n",
            "  inflating: mallet-2.0.8/class/cc/mallet/classify/tui/Vectors2Classify$ReportOption.class  \n",
            "  inflating: mallet-2.0.8/class/cc/mallet/classify/tui/Vectors2Classify.class  \n",
            "  inflating: mallet-2.0.8/class/cc/mallet/classify/tui/Vectors2FeatureConstraints.class  \n",
            "  inflating: mallet-2.0.8/class/cc/mallet/classify/tui/Vectors2Info$1.class  \n",
            "  inflating: mallet-2.0.8/class/cc/mallet/classify/tui/Vectors2Info.class  \n",
            "  inflating: mallet-2.0.8/class/cc/mallet/classify/tui/Vectors2Vectors.class  \n",
            "  inflating: mallet-2.0.8/class/cc/mallet/classify/Winnow.class  \n",
            "  inflating: mallet-2.0.8/class/cc/mallet/classify/WinnowTrainer.class  \n",
            "   creating: mallet-2.0.8/class/cc/mallet/cluster/\n",
            "  inflating: mallet-2.0.8/class/cc/mallet/cluster/Clusterer.class  \n",
            "  inflating: mallet-2.0.8/class/cc/mallet/cluster/Clustering.class  \n",
            "   creating: mallet-2.0.8/class/cc/mallet/cluster/clustering_scorer/\n",
            "  inflating: mallet-2.0.8/class/cc/mallet/cluster/clustering_scorer/ClusteringScorer.class  \n",
            "  inflating: mallet-2.0.8/class/cc/mallet/cluster/clustering_scorer/PairwiseScorer.class  \n",
            "  inflating: mallet-2.0.8/class/cc/mallet/cluster/Clusterings.class  \n",
            "   creating: mallet-2.0.8/class/cc/mallet/cluster/evaluate/\n",
            "  inflating: mallet-2.0.8/class/cc/mallet/cluster/evaluate/AccuracyEvaluator.class  \n",
            "  inflating: mallet-2.0.8/class/cc/mallet/cluster/evaluate/BCubedEvaluator.class  \n",
            "  inflating: mallet-2.0.8/class/cc/mallet/cluster/evaluate/ClusteringEvaluator.class  \n",
            "  inflating: mallet-2.0.8/class/cc/mallet/cluster/evaluate/ClusteringEvaluators.class  \n",
            "  inflating: mallet-2.0.8/class/cc/mallet/cluster/evaluate/MUCEvaluator.class  \n",
            "  inflating: mallet-2.0.8/class/cc/mallet/cluster/evaluate/PairF1Evaluator.class  \n",
            "   creating: mallet-2.0.8/class/cc/mallet/cluster/evaluate/tests/\n",
            "  inflating: mallet-2.0.8/class/cc/mallet/cluster/evaluate/tests/TestClusteringEvaluators.class  \n",
            "   creating: mallet-2.0.8/class/cc/mallet/cluster/examples/\n",
            "  inflating: mallet-2.0.8/class/cc/mallet/cluster/examples/FirstOrderClusterExample$OverlappingFeaturePipe.class  \n",
            "  inflating: mallet-2.0.8/class/cc/mallet/cluster/examples/FirstOrderClusterExample.class  \n",
            "  inflating: mallet-2.0.8/class/cc/mallet/cluster/GreedyAgglomerative.class  \n",
            "  inflating: mallet-2.0.8/class/cc/mallet/cluster/GreedyAgglomerativeByDensity.class  \n",
            "  inflating: mallet-2.0.8/class/cc/mallet/cluster/HillClimbingClusterer.class  \n",
            "   creating: mallet-2.0.8/class/cc/mallet/cluster/iterator/\n",
            "  inflating: mallet-2.0.8/class/cc/mallet/cluster/iterator/AllPairsIterator.class  \n",
            "  inflating: mallet-2.0.8/class/cc/mallet/cluster/iterator/ClusterSampleIterator.class  \n",
            "  inflating: mallet-2.0.8/class/cc/mallet/cluster/iterator/NeighborIterator.class  \n",
            "  inflating: mallet-2.0.8/class/cc/mallet/cluster/iterator/NodeClusterSampleIterator.class  \n",
            "  inflating: mallet-2.0.8/class/cc/mallet/cluster/iterator/PairSampleIterator.class  \n",
            "   creating: mallet-2.0.8/class/cc/mallet/cluster/iterator/tests/\n",
            "  inflating: mallet-2.0.8/class/cc/mallet/cluster/iterator/tests/TestIterators.class  \n",
            "  inflating: mallet-2.0.8/class/cc/mallet/cluster/KBestClusterer.class  \n",
            "  inflating: mallet-2.0.8/class/cc/mallet/cluster/KMeans.class  \n",
            "   creating: mallet-2.0.8/class/cc/mallet/cluster/neighbor_evaluator/\n",
            "  inflating: mallet-2.0.8/class/cc/mallet/cluster/neighbor_evaluator/AgglomerativeNeighbor.class  \n",
            "  inflating: mallet-2.0.8/class/cc/mallet/cluster/neighbor_evaluator/ClassifyingNeighborEvaluator.class  \n",
            "  inflating: mallet-2.0.8/class/cc/mallet/cluster/neighbor_evaluator/MedoidEvaluator$Average.class  \n",
            "  inflating: mallet-2.0.8/class/cc/mallet/cluster/neighbor_evaluator/MedoidEvaluator$CombiningStrategy.class  \n",
            "  inflating: mallet-2.0.8/class/cc/mallet/cluster/neighbor_evaluator/MedoidEvaluator$Maximum.class  \n",
            "  inflating: mallet-2.0.8/class/cc/mallet/cluster/neighbor_evaluator/MedoidEvaluator$Minimum.class  \n",
            "  inflating: mallet-2.0.8/class/cc/mallet/cluster/neighbor_evaluator/MedoidEvaluator.class  \n",
            "  inflating: mallet-2.0.8/class/cc/mallet/cluster/neighbor_evaluator/Neighbor.class  \n",
            "  inflating: mallet-2.0.8/class/cc/mallet/cluster/neighbor_evaluator/NeighborEvaluator.class  \n",
            "  inflating: mallet-2.0.8/class/cc/mallet/cluster/neighbor_evaluator/PairwiseEvaluator$Average.class  \n",
            "  inflating: mallet-2.0.8/class/cc/mallet/cluster/neighbor_evaluator/PairwiseEvaluator$CombiningStrategy.class  \n",
            "  inflating: mallet-2.0.8/class/cc/mallet/cluster/neighbor_evaluator/PairwiseEvaluator$Maximum.class  \n",
            "  inflating: mallet-2.0.8/class/cc/mallet/cluster/neighbor_evaluator/PairwiseEvaluator$Minimum.class  \n",
            "  inflating: mallet-2.0.8/class/cc/mallet/cluster/neighbor_evaluator/PairwiseEvaluator.class  \n",
            "  inflating: mallet-2.0.8/class/cc/mallet/cluster/neighbor_evaluator/RandomEvaluator.class  \n",
            "  inflating: mallet-2.0.8/class/cc/mallet/cluster/neighbor_evaluator/RankingNeighborEvaluator.class  \n",
            "  inflating: mallet-2.0.8/class/cc/mallet/cluster/Record.class  \n",
            "   creating: mallet-2.0.8/class/cc/mallet/cluster/tui/\n",
            "  inflating: mallet-2.0.8/class/cc/mallet/cluster/tui/Clusterings2Clusterer$ClusteringPipe.class  \n",
            "  inflating: mallet-2.0.8/class/cc/mallet/cluster/tui/Clusterings2Clusterer.class  \n",
            "  inflating: mallet-2.0.8/class/cc/mallet/cluster/tui/Clusterings2Clusterings.class  \n",
            "  inflating: mallet-2.0.8/class/cc/mallet/cluster/tui/Clusterings2Info.class  \n",
            "  inflating: mallet-2.0.8/class/cc/mallet/cluster/tui/Text2Clusterings.class  \n",
            "   creating: mallet-2.0.8/class/cc/mallet/cluster/util/\n",
            "  inflating: mallet-2.0.8/class/cc/mallet/cluster/util/ClusterUtils.class  \n",
            "  inflating: mallet-2.0.8/class/cc/mallet/cluster/util/PairwiseMatrix.class  \n",
            "   creating: mallet-2.0.8/class/cc/mallet/examples/\n",
            "  inflating: mallet-2.0.8/class/cc/mallet/examples/TestCRFPipe.class  \n",
            "  inflating: mallet-2.0.8/class/cc/mallet/examples/TopicModel.class  \n",
            "  inflating: mallet-2.0.8/class/cc/mallet/examples/TrainCRF.class  \n",
            "  inflating: mallet-2.0.8/class/cc/mallet/examples/TrainHMM.class  \n",
            "   creating: mallet-2.0.8/class/cc/mallet/extract/\n",
            "  inflating: mallet-2.0.8/class/cc/mallet/extract/AccuracyCoverageEvaluator.class  \n",
            "  inflating: mallet-2.0.8/class/cc/mallet/extract/BIOTokenizationFilter.class  \n",
            "  inflating: mallet-2.0.8/class/cc/mallet/extract/BIOTokenizationFilterWithTokenIndices.class  \n",
            "  inflating: mallet-2.0.8/class/cc/mallet/extract/ConfidenceTokenizationFilter.class  \n",
            "  inflating: mallet-2.0.8/class/cc/mallet/extract/CRFExtractor.class  \n",
            "  inflating: mallet-2.0.8/class/cc/mallet/extract/DefaultTokenizationFilter.class  \n",
            "  inflating: mallet-2.0.8/class/cc/mallet/extract/DocumentExtraction$1.class  \n",
            "  inflating: mallet-2.0.8/class/cc/mallet/extract/DocumentExtraction.class  \n",
            "  inflating: mallet-2.0.8/class/cc/mallet/extract/DocumentViewer$DualLabeledSpans.class  \n",
            "  inflating: mallet-2.0.8/class/cc/mallet/extract/DocumentViewer.class  \n",
            "  inflating: mallet-2.0.8/class/cc/mallet/extract/ExactMatchComparator.class  \n",
            "  inflating: mallet-2.0.8/class/cc/mallet/extract/Extraction.class  \n",
            "  inflating: mallet-2.0.8/class/cc/mallet/extract/ExtractionConfidenceEstimator.class  \n",
            "  inflating: mallet-2.0.8/class/cc/mallet/extract/ExtractionEvaluator.class  \n",
            "  inflating: mallet-2.0.8/class/cc/mallet/extract/Extractor.class  \n",
            "  inflating: mallet-2.0.8/class/cc/mallet/extract/Field.class  \n",
            "  inflating: mallet-2.0.8/class/cc/mallet/extract/FieldCleaner.class  \n",
            "  inflating: mallet-2.0.8/class/cc/mallet/extract/FieldComparator.class  \n",
            "  inflating: mallet-2.0.8/class/cc/mallet/extract/HierarchicalTokenizationFilter$TagStart.class  \n",
            "  inflating: mallet-2.0.8/class/cc/mallet/extract/HierarchicalTokenizationFilter.class  \n",
            "  inflating: mallet-2.0.8/class/cc/mallet/extract/LabeledSpan.class  \n",
            "  inflating: mallet-2.0.8/class/cc/mallet/extract/LabeledSpans.class  \n",
            "  inflating: mallet-2.0.8/class/cc/mallet/extract/LatticeViewer$ExtorInfo.class  \n",
            "  inflating: mallet-2.0.8/class/cc/mallet/extract/LatticeViewer.class  \n",
            "  inflating: mallet-2.0.8/class/cc/mallet/extract/PerDocumentF1Evaluator.class  \n",
            "  inflating: mallet-2.0.8/class/cc/mallet/extract/PerFieldF1Evaluator.class  \n",
            "   creating: mallet-2.0.8/class/cc/mallet/extract/pipe/\n",
            "  inflating: mallet-2.0.8/class/cc/mallet/extract/pipe/TokenSequence2Tokenization.class  \n",
            "  inflating: mallet-2.0.8/class/cc/mallet/extract/PunctuationIgnoringComparator.class  \n",
            "  inflating: mallet-2.0.8/class/cc/mallet/extract/Record.class  \n",
            "  inflating: mallet-2.0.8/class/cc/mallet/extract/RegexFieldCleaner.class  \n",
            "  inflating: mallet-2.0.8/class/cc/mallet/extract/Span.class  \n",
            "  inflating: mallet-2.0.8/class/cc/mallet/extract/StringSpan.class  \n",
            "  inflating: mallet-2.0.8/class/cc/mallet/extract/StringTokenization.class  \n",
            "   creating: mallet-2.0.8/class/cc/mallet/extract/test/\n",
            "  inflating: mallet-2.0.8/class/cc/mallet/extract/test/TestDocumentExtraction.class  \n",
            "  inflating: mallet-2.0.8/class/cc/mallet/extract/test/TestDocumentViewer.class  \n",
            "  inflating: mallet-2.0.8/class/cc/mallet/extract/test/TestLatticeViewer.class  \n",
            "  inflating: mallet-2.0.8/class/cc/mallet/extract/test/TestPerDocumentF1Evaluator.class  \n",
            "  inflating: mallet-2.0.8/class/cc/mallet/extract/Tokenization.class  \n",
            "  inflating: mallet-2.0.8/class/cc/mallet/extract/TokenizationFilter.class  \n",
            "  inflating: mallet-2.0.8/class/cc/mallet/extract/TransducerExtractionConfidenceEstimator.class  \n",
            "   creating: mallet-2.0.8/class/cc/mallet/fst/\n",
            "  inflating: mallet-2.0.8/class/cc/mallet/fst/CacheStaleIndicator.class  \n",
            "   creating: mallet-2.0.8/class/cc/mallet/fst/confidence/\n",
            "  inflating: mallet-2.0.8/class/cc/mallet/fst/confidence/ConfidenceCorrectorEvaluator.class  \n",
            "  inflating: mallet-2.0.8/class/cc/mallet/fst/confidence/ConfidenceEvaluator$1.class  \n",
            "  inflating: mallet-2.0.8/class/cc/mallet/fst/confidence/ConfidenceEvaluator$ConfidenceComparator.class  \n",
            "  inflating: mallet-2.0.8/class/cc/mallet/fst/confidence/ConfidenceEvaluator$EntityConfidence.class  \n",
            "  inflating: mallet-2.0.8/class/cc/mallet/fst/confidence/ConfidenceEvaluator.class  \n",
            "  inflating: mallet-2.0.8/class/cc/mallet/fst/confidence/ConstrainedForwardBackwardConfidenceEstimator.class  \n",
            "  inflating: mallet-2.0.8/class/cc/mallet/fst/confidence/ConstrainedViterbiTransducerCorrector.class  \n",
            "  inflating: mallet-2.0.8/class/cc/mallet/fst/confidence/GammaAverageConfidenceEstimator.class  \n",
            "  inflating: mallet-2.0.8/class/cc/mallet/fst/confidence/GammaProductConfidenceEstimator.class  \n",
            "  inflating: mallet-2.0.8/class/cc/mallet/fst/confidence/InstanceWithConfidence.class  \n",
            "  inflating: mallet-2.0.8/class/cc/mallet/fst/confidence/IsolatedSegmentTransducerCorrector.class  \n",
            "  inflating: mallet-2.0.8/class/cc/mallet/fst/confidence/MaxEntConfidenceEstimator.class  \n",
            "  inflating: mallet-2.0.8/class/cc/mallet/fst/confidence/MaxEntSequenceConfidenceEstimator.class  \n",
            "  inflating: mallet-2.0.8/class/cc/mallet/fst/confidence/MinSegmentConfidenceEstimator.class  \n",
            "  inflating: mallet-2.0.8/class/cc/mallet/fst/confidence/NBestViterbiConfidenceEstimator.class  \n",
            "  inflating: mallet-2.0.8/class/cc/mallet/fst/confidence/PipedInstanceWithConfidence.class  \n",
            "  inflating: mallet-2.0.8/class/cc/mallet/fst/confidence/QBCSequenceConfidenceEstimator.class  \n",
            "  inflating: mallet-2.0.8/class/cc/mallet/fst/confidence/RandomConfidenceEstimator.class  \n",
            "  inflating: mallet-2.0.8/class/cc/mallet/fst/confidence/RandomSequenceConfidenceEstimator.class  \n",
            "  inflating: mallet-2.0.8/class/cc/mallet/fst/confidence/SegmentProductConfidenceEstimator.class  \n",
            "  inflating: mallet-2.0.8/class/cc/mallet/fst/confidence/SequenceConfidenceInstance.class  \n",
            "  inflating: mallet-2.0.8/class/cc/mallet/fst/confidence/TransducerConfidenceEstimator.class  \n",
            "  inflating: mallet-2.0.8/class/cc/mallet/fst/confidence/TransducerCorrector.class  \n",
            "  inflating: mallet-2.0.8/class/cc/mallet/fst/confidence/TransducerSequenceConfidenceEstimator.class  \n",
            "  inflating: mallet-2.0.8/class/cc/mallet/fst/confidence/ViterbiConfidenceEstimator.class  \n",
            "  inflating: mallet-2.0.8/class/cc/mallet/fst/confidence/ViterbiRatioConfidenceEstimator.class  \n",
            "  inflating: mallet-2.0.8/class/cc/mallet/fst/CRF$1.class  \n",
            "  inflating: mallet-2.0.8/class/cc/mallet/fst/CRF$2.class  \n",
            "  inflating: mallet-2.0.8/class/cc/mallet/fst/CRF$Factors$Incrementor.class  \n",
            "  inflating: mallet-2.0.8/class/cc/mallet/fst/CRF$Factors$WeightedIncrementor.class  \n",
            "  inflating: mallet-2.0.8/class/cc/mallet/fst/CRF$Factors.class  \n",
            "  inflating: mallet-2.0.8/class/cc/mallet/fst/CRF$State.class  \n",
            "  inflating: mallet-2.0.8/class/cc/mallet/fst/CRF$TransitionIterator.class  \n",
            "  inflating: mallet-2.0.8/class/cc/mallet/fst/CRF.class  \n",
            "  inflating: mallet-2.0.8/class/cc/mallet/fst/CRFCacheStaleIndicator.class  \n",
            "  inflating: mallet-2.0.8/class/cc/mallet/fst/CRFOptimizableByBatchLabelLikelihood$Factory.class  \n",
            "  inflating: mallet-2.0.8/class/cc/mallet/fst/CRFOptimizableByBatchLabelLikelihood.class  \n",
            "  inflating: mallet-2.0.8/class/cc/mallet/fst/CRFOptimizableByGradientValues.class  \n",
            "  inflating: mallet-2.0.8/class/cc/mallet/fst/CRFOptimizableByLabelLikelihood$Factory.class  \n",
            "  inflating: mallet-2.0.8/class/cc/mallet/fst/CRFOptimizableByLabelLikelihood.class  \n",
            "  inflating: mallet-2.0.8/class/cc/mallet/fst/CRFTrainerByL1LabelLikelihood.class  \n",
            "  inflating: mallet-2.0.8/class/cc/mallet/fst/CRFTrainerByLabelLikelihood.class  \n",
            "  inflating: mallet-2.0.8/class/cc/mallet/fst/CRFTrainerByStochasticGradient.class  \n",
            "  inflating: mallet-2.0.8/class/cc/mallet/fst/CRFTrainerByThreadedLabelLikelihood.class  \n",
            "  inflating: mallet-2.0.8/class/cc/mallet/fst/CRFTrainerByValueGradients$OptimizableCRF.class  \n",
            "  inflating: mallet-2.0.8/class/cc/mallet/fst/CRFTrainerByValueGradients.class  \n",
            "  inflating: mallet-2.0.8/class/cc/mallet/fst/CRFWriter.class  \n",
            "  inflating: mallet-2.0.8/class/cc/mallet/fst/FeatureTransducer$State.class  \n",
            "  inflating: mallet-2.0.8/class/cc/mallet/fst/FeatureTransducer$Transition.class  \n",
            "  inflating: mallet-2.0.8/class/cc/mallet/fst/FeatureTransducer$TransitionIterator.class  \n",
            "  inflating: mallet-2.0.8/class/cc/mallet/fst/FeatureTransducer.class  \n",
            "  inflating: mallet-2.0.8/class/cc/mallet/fst/HMM$Incrementor.class  \n",
            "  inflating: mallet-2.0.8/class/cc/mallet/fst/HMM$State.class  \n",
            "  inflating: mallet-2.0.8/class/cc/mallet/fst/HMM$TransitionIterator.class  \n",
            "  inflating: mallet-2.0.8/class/cc/mallet/fst/HMM$WeightedIncrementor.class  \n",
            "  inflating: mallet-2.0.8/class/cc/mallet/fst/HMM.class  \n",
            "  inflating: mallet-2.0.8/class/cc/mallet/fst/HMMTrainerByLikelihood.class  \n",
            "  inflating: mallet-2.0.8/class/cc/mallet/fst/InstanceAccuracyEvaluator.class  \n",
            "  inflating: mallet-2.0.8/class/cc/mallet/fst/LabelDistributionEvaluator.class  \n",
            "  inflating: mallet-2.0.8/class/cc/mallet/fst/MaxLattice.class  \n",
            "  inflating: mallet-2.0.8/class/cc/mallet/fst/MaxLatticeDefault$1.class  \n",
            "  inflating: mallet-2.0.8/class/cc/mallet/fst/MaxLatticeDefault$Factory.class  \n",
            "  inflating: mallet-2.0.8/class/cc/mallet/fst/MaxLatticeDefault$ViterbiNode$PreviousStateIterator.class  \n",
            "  inflating: mallet-2.0.8/class/cc/mallet/fst/MaxLatticeDefault$ViterbiNode.class  \n",
            "  inflating: mallet-2.0.8/class/cc/mallet/fst/MaxLatticeDefault$WeightCache.class  \n",
            "  inflating: mallet-2.0.8/class/cc/mallet/fst/MaxLatticeDefault.class  \n",
            "  inflating: mallet-2.0.8/class/cc/mallet/fst/MaxLatticeFactory.class  \n",
            "  inflating: mallet-2.0.8/class/cc/mallet/fst/MEMM$State.class  \n",
            "  inflating: mallet-2.0.8/class/cc/mallet/fst/MEMM$TransitionIterator.class  \n",
            "  inflating: mallet-2.0.8/class/cc/mallet/fst/MEMM.class  \n",
            "  inflating: mallet-2.0.8/class/cc/mallet/fst/MEMMTrainer$1.class  \n",
            "  inflating: mallet-2.0.8/class/cc/mallet/fst/MEMMTrainer$MEMMOptimizableByLabelLikelihood.class  \n",
            "  inflating: mallet-2.0.8/class/cc/mallet/fst/MEMMTrainer.class  \n",
            "  inflating: mallet-2.0.8/class/cc/mallet/fst/MultiSegmentationEvaluator.class  \n",
            "  inflating: mallet-2.0.8/class/cc/mallet/fst/NoopTransducerTrainer.class  \n",
            "  inflating: mallet-2.0.8/class/cc/mallet/fst/PerClassAccuracyEvaluator.class  \n",
            "  inflating: mallet-2.0.8/class/cc/mallet/fst/Segment.class  \n",
            "  inflating: mallet-2.0.8/class/cc/mallet/fst/SegmentationEvaluator$1.class  \n",
            "  inflating: mallet-2.0.8/class/cc/mallet/fst/SegmentationEvaluator$2.class  \n",
            "  inflating: mallet-2.0.8/class/cc/mallet/fst/SegmentationEvaluator.class  \n",
            "   creating: mallet-2.0.8/class/cc/mallet/fst/semi_supervised/\n",
            "   creating: mallet-2.0.8/class/cc/mallet/fst/semi_supervised/constraints/\n",
            "  inflating: mallet-2.0.8/class/cc/mallet/fst/semi_supervised/constraints/GEConstraint.class  \n",
            "  inflating: mallet-2.0.8/class/cc/mallet/fst/semi_supervised/constraints/OneLabelGEConstraints$OneLabelGEConstraint.class  \n",
            "  inflating: mallet-2.0.8/class/cc/mallet/fst/semi_supervised/constraints/OneLabelGEConstraints.class  \n",
            "  inflating: mallet-2.0.8/class/cc/mallet/fst/semi_supervised/constraints/OneLabelKLGEConstraints$OneLabelGEKLConstraint.class  \n",
            "  inflating: mallet-2.0.8/class/cc/mallet/fst/semi_supervised/constraints/OneLabelKLGEConstraints.class  \n",
            "  inflating: mallet-2.0.8/class/cc/mallet/fst/semi_supervised/constraints/OneLabelL2GEConstraints$OneLabelGEL2Constraint.class  \n",
            "  inflating: mallet-2.0.8/class/cc/mallet/fst/semi_supervised/constraints/OneLabelL2GEConstraints.class  \n",
            "  inflating: mallet-2.0.8/class/cc/mallet/fst/semi_supervised/constraints/OneLabelL2RangeGEConstraints$OneLabelL2IndGEConstraint.class  \n",
            "  inflating: mallet-2.0.8/class/cc/mallet/fst/semi_supervised/constraints/OneLabelL2RangeGEConstraints.class  \n",
            "  inflating: mallet-2.0.8/class/cc/mallet/fst/semi_supervised/constraints/SelfTransitionGEConstraint.class  \n",
            "  inflating: mallet-2.0.8/class/cc/mallet/fst/semi_supervised/constraints/TwoLabelGEConstraints$TwoLabelGEConstraint.class  \n",
            "  inflating: mallet-2.0.8/class/cc/mallet/fst/semi_supervised/constraints/TwoLabelGEConstraints.class  \n",
            "  inflating: mallet-2.0.8/class/cc/mallet/fst/semi_supervised/constraints/TwoLabelKLGEConstraints$TwoLabelKLGEConstraint.class  \n",
            "  inflating: mallet-2.0.8/class/cc/mallet/fst/semi_supervised/constraints/TwoLabelKLGEConstraints.class  \n",
            "  inflating: mallet-2.0.8/class/cc/mallet/fst/semi_supervised/constraints/TwoLabelL2GEConstraints$TwoLabelL2GEConstraint.class  \n",
            "  inflating: mallet-2.0.8/class/cc/mallet/fst/semi_supervised/constraints/TwoLabelL2GEConstraints.class  \n",
            "  inflating: mallet-2.0.8/class/cc/mallet/fst/semi_supervised/CRFOptimizableByEntropyRegularization.class  \n",
            "  inflating: mallet-2.0.8/class/cc/mallet/fst/semi_supervised/CRFOptimizableByGE.class  \n",
            "  inflating: mallet-2.0.8/class/cc/mallet/fst/semi_supervised/CRFTrainerByEntropyRegularization.class  \n",
            "  inflating: mallet-2.0.8/class/cc/mallet/fst/semi_supervised/CRFTrainerByGE.class  \n",
            "  inflating: mallet-2.0.8/class/cc/mallet/fst/semi_supervised/CRFTrainerByLikelihoodAndGE.class  \n",
            "  inflating: mallet-2.0.8/class/cc/mallet/fst/semi_supervised/EntropyLattice$LatticeNode.class  \n",
            "  inflating: mallet-2.0.8/class/cc/mallet/fst/semi_supervised/EntropyLattice.class  \n",
            "  inflating: mallet-2.0.8/class/cc/mallet/fst/semi_supervised/FSTConstraintUtil.class  \n",
            "  inflating: mallet-2.0.8/class/cc/mallet/fst/semi_supervised/GELattice$LatticeNode.class  \n",
            "  inflating: mallet-2.0.8/class/cc/mallet/fst/semi_supervised/GELattice.class  \n",
            "  inflating: mallet-2.0.8/class/cc/mallet/fst/semi_supervised/GELatticeTask.class  \n",
            "   creating: mallet-2.0.8/class/cc/mallet/fst/semi_supervised/pr/\n",
            "  inflating: mallet-2.0.8/class/cc/mallet/fst/semi_supervised/pr/CachedDotTransitionIterator.class  \n",
            "   creating: mallet-2.0.8/class/cc/mallet/fst/semi_supervised/pr/constraints/\n",
            "  inflating: mallet-2.0.8/class/cc/mallet/fst/semi_supervised/pr/constraints/OneLabelL2IndPRConstraints$OneLabelL2IndPRConstraint.class  \n",
            "  inflating: mallet-2.0.8/class/cc/mallet/fst/semi_supervised/pr/constraints/OneLabelL2IndPRConstraints.class  \n",
            "  inflating: mallet-2.0.8/class/cc/mallet/fst/semi_supervised/pr/constraints/OneLabelL2PRConstraints$OneLabelPRConstraint.class  \n",
            "  inflating: mallet-2.0.8/class/cc/mallet/fst/semi_supervised/pr/constraints/OneLabelL2PRConstraints.class  \n",
            "  inflating: mallet-2.0.8/class/cc/mallet/fst/semi_supervised/pr/constraints/PRConstraint.class  \n",
            "  inflating: mallet-2.0.8/class/cc/mallet/fst/semi_supervised/pr/ConstraintsOptimizableByPR$ExpectationTask.class  \n",
            "  inflating: mallet-2.0.8/class/cc/mallet/fst/semi_supervised/pr/ConstraintsOptimizableByPR.class  \n",
            "  inflating: mallet-2.0.8/class/cc/mallet/fst/semi_supervised/pr/CRFOptimizableByKL$ExpectationTask.class  \n",
            "  inflating: mallet-2.0.8/class/cc/mallet/fst/semi_supervised/pr/CRFOptimizableByKL.class  \n",
            "  inflating: mallet-2.0.8/class/cc/mallet/fst/semi_supervised/pr/CRFTrainerByPR.class  \n",
            "  inflating: mallet-2.0.8/class/cc/mallet/fst/semi_supervised/pr/PRAuxiliaryModel.class  \n",
            "  inflating: mallet-2.0.8/class/cc/mallet/fst/semi_supervised/pr/SumLatticeDefaultCachedDot$LatticeNode.class  \n",
            "  inflating: mallet-2.0.8/class/cc/mallet/fst/semi_supervised/pr/SumLatticeDefaultCachedDot.class  \n",
            "  inflating: mallet-2.0.8/class/cc/mallet/fst/semi_supervised/pr/SumLatticeKL.class  \n",
            "  inflating: mallet-2.0.8/class/cc/mallet/fst/semi_supervised/pr/SumLatticePR$LatticeNode.class  \n",
            "  inflating: mallet-2.0.8/class/cc/mallet/fst/semi_supervised/pr/SumLatticePR.class  \n",
            "  inflating: mallet-2.0.8/class/cc/mallet/fst/semi_supervised/StateLabelMap.class  \n",
            "  inflating: mallet-2.0.8/class/cc/mallet/fst/semi_supervised/SumLatticeTask.class  \n",
            "   creating: mallet-2.0.8/class/cc/mallet/fst/semi_supervised/tui/\n",
            "  inflating: mallet-2.0.8/class/cc/mallet/fst/semi_supervised/tui/SimpleTaggerWithConstraints.class  \n",
            "  inflating: mallet-2.0.8/class/cc/mallet/fst/ShallowTransducerTrainer.class  \n",
            "  inflating: mallet-2.0.8/class/cc/mallet/fst/SimpleTagger$SimpleTaggerSentence2FeatureVectorSequence.class  \n",
            "  inflating: mallet-2.0.8/class/cc/mallet/fst/SimpleTagger.class  \n",
            "  inflating: mallet-2.0.8/class/cc/mallet/fst/SumLattice.class  \n",
            "  inflating: mallet-2.0.8/class/cc/mallet/fst/SumLatticeBeam$Factory$1.class  \n",
            "  inflating: mallet-2.0.8/class/cc/mallet/fst/SumLatticeBeam$Factory.class  \n",
            "  inflating: mallet-2.0.8/class/cc/mallet/fst/SumLatticeBeam$LatticeNode.class  \n",
            "  inflating: mallet-2.0.8/class/cc/mallet/fst/SumLatticeBeam$NBestSlist.class  \n",
            "  inflating: mallet-2.0.8/class/cc/mallet/fst/SumLatticeBeam$NBForBackNode.class  \n",
            "  inflating: mallet-2.0.8/class/cc/mallet/fst/SumLatticeBeam.class  \n",
            "  inflating: mallet-2.0.8/class/cc/mallet/fst/SumLatticeConstrained.class  \n",
            "  inflating: mallet-2.0.8/class/cc/mallet/fst/SumLatticeDefault$Factory.class  \n",
            "  inflating: mallet-2.0.8/class/cc/mallet/fst/SumLatticeDefault$LatticeNode.class  \n",
            "  inflating: mallet-2.0.8/class/cc/mallet/fst/SumLatticeDefault.class  \n",
            "  inflating: mallet-2.0.8/class/cc/mallet/fst/SumLatticeFactory.class  \n",
            "  inflating: mallet-2.0.8/class/cc/mallet/fst/SumLatticeScaling$Factory.class  \n",
            "  inflating: mallet-2.0.8/class/cc/mallet/fst/SumLatticeScaling$LatticeNode.class  \n",
            "  inflating: mallet-2.0.8/class/cc/mallet/fst/SumLatticeScaling.class  \n",
            "   creating: mallet-2.0.8/class/cc/mallet/fst/tests/\n",
            "  inflating: mallet-2.0.8/class/cc/mallet/fst/tests/TestCRF$TestCRF2String.class  \n",
            "  inflating: mallet-2.0.8/class/cc/mallet/fst/tests/TestCRF$TestCRFTokenSequenceRemoveSpaces.class  \n",
            "  inflating: mallet-2.0.8/class/cc/mallet/fst/tests/TestCRF.class  \n",
            "  inflating: mallet-2.0.8/class/cc/mallet/fst/tests/TestFeatureTransducer.class  \n",
            "  inflating: mallet-2.0.8/class/cc/mallet/fst/tests/TestMEMM$TestMEMM2String.class  \n",
            "  inflating: mallet-2.0.8/class/cc/mallet/fst/tests/TestMEMM$TestMEMMTokenSequenceRemoveSpaces.class  \n",
            "  inflating: mallet-2.0.8/class/cc/mallet/fst/tests/TestMEMM.class  \n",
            "  inflating: mallet-2.0.8/class/cc/mallet/fst/tests/TestSumNegLogProb2.class  \n",
            "  inflating: mallet-2.0.8/class/cc/mallet/fst/ThreadedOptimizable$GradientHandler.class  \n",
            "  inflating: mallet-2.0.8/class/cc/mallet/fst/ThreadedOptimizable$ValueHandler.class  \n",
            "  inflating: mallet-2.0.8/class/cc/mallet/fst/ThreadedOptimizable.class  \n",
            "  inflating: mallet-2.0.8/class/cc/mallet/fst/TokenAccuracyEvaluator.class  \n",
            "  inflating: mallet-2.0.8/class/cc/mallet/fst/Transducer$Incrementor.class  \n",
            "  inflating: mallet-2.0.8/class/cc/mallet/fst/Transducer$State.class  \n",
            "  inflating: mallet-2.0.8/class/cc/mallet/fst/Transducer$TransitionIterator.class  \n",
            "  inflating: mallet-2.0.8/class/cc/mallet/fst/Transducer.class  \n",
            "  inflating: mallet-2.0.8/class/cc/mallet/fst/TransducerEvaluator.class  \n",
            "  inflating: mallet-2.0.8/class/cc/mallet/fst/TransducerTrainer$ByIncrements.class  \n",
            "  inflating: mallet-2.0.8/class/cc/mallet/fst/TransducerTrainer$ByInstanceIncrements.class  \n",
            "  inflating: mallet-2.0.8/class/cc/mallet/fst/TransducerTrainer$ByOptimization.class  \n",
            "  inflating: mallet-2.0.8/class/cc/mallet/fst/TransducerTrainer.class  \n",
            "  inflating: mallet-2.0.8/class/cc/mallet/fst/ViterbiWriter.class  \n",
            "   creating: mallet-2.0.8/class/cc/mallet/grmm/\n",
            "   creating: mallet-2.0.8/class/cc/mallet/grmm/examples/\n",
            "  inflating: mallet-2.0.8/class/cc/mallet/grmm/examples/CrossTemplate1.class  \n",
            "  inflating: mallet-2.0.8/class/cc/mallet/grmm/examples/ModelReaderExample.class  \n",
            "  inflating: mallet-2.0.8/class/cc/mallet/grmm/examples/SimpleCrfExample.class  \n",
            "  inflating: mallet-2.0.8/class/cc/mallet/grmm/examples/SimpleFactorExample.class  \n",
            "  inflating: mallet-2.0.8/class/cc/mallet/grmm/examples/SimpleGraphExample.class  \n",
            "   creating: mallet-2.0.8/class/cc/mallet/grmm/inference/\n",
            "  inflating: mallet-2.0.8/class/cc/mallet/grmm/inference/AbstractBeliefPropagation$AbstractMessageStrategy.class  \n",
            "  inflating: mallet-2.0.8/class/cc/mallet/grmm/inference/AbstractBeliefPropagation$MaxProductMessageStrategy.class  \n",
            "  inflating: mallet-2.0.8/class/cc/mallet/grmm/inference/AbstractBeliefPropagation$MessageStrategy.class  \n",
            "  inflating: mallet-2.0.8/class/cc/mallet/grmm/inference/AbstractBeliefPropagation$SumProductMessageStrategy.class  \n",
            "  inflating: mallet-2.0.8/class/cc/mallet/grmm/inference/AbstractBeliefPropagation.class  \n",
            "  inflating: mallet-2.0.8/class/cc/mallet/grmm/inference/AbstractInferencer.class  \n",
            "  inflating: mallet-2.0.8/class/cc/mallet/grmm/inference/BruteForceInferencer.class  \n",
            "  inflating: mallet-2.0.8/class/cc/mallet/grmm/inference/ExactSampler.class  \n",
            "   creating: mallet-2.0.8/class/cc/mallet/grmm/inference/gbp/\n",
            "  inflating: mallet-2.0.8/class/cc/mallet/grmm/inference/gbp/AbstractMessageStrategy.class  \n",
            "  inflating: mallet-2.0.8/class/cc/mallet/grmm/inference/gbp/BPRegionGenerator.class  \n",
            "  inflating: mallet-2.0.8/class/cc/mallet/grmm/inference/gbp/ClusterVariationalRegionGenerator$BaseRegionComputer.class  \n",
            "  inflating: mallet-2.0.8/class/cc/mallet/grmm/inference/gbp/ClusterVariationalRegionGenerator$ByFactorRegionComputer.class  \n",
            "  inflating: mallet-2.0.8/class/cc/mallet/grmm/inference/gbp/ClusterVariationalRegionGenerator$Grid2x2RegionComputer.class  \n",
            "  inflating: mallet-2.0.8/class/cc/mallet/grmm/inference/gbp/ClusterVariationalRegionGenerator.class  \n",
            "  inflating: mallet-2.0.8/class/cc/mallet/grmm/inference/gbp/FactorizedRegion.class  \n",
            "  inflating: mallet-2.0.8/class/cc/mallet/grmm/inference/gbp/FullMessageStrategy.class  \n",
            "  inflating: mallet-2.0.8/class/cc/mallet/grmm/inference/gbp/Kikuchi4SquareRegionGenerator.class  \n",
            "  inflating: mallet-2.0.8/class/cc/mallet/grmm/inference/gbp/MessageArray.class  \n",
            "  inflating: mallet-2.0.8/class/cc/mallet/grmm/inference/gbp/MessageStrategy.class  \n",
            "  inflating: mallet-2.0.8/class/cc/mallet/grmm/inference/gbp/ParentChildGBP$1.class  \n",
            "  inflating: mallet-2.0.8/class/cc/mallet/grmm/inference/gbp/ParentChildGBP.class  \n",
            "  inflating: mallet-2.0.8/class/cc/mallet/grmm/inference/gbp/Region.class  \n",
            "  inflating: mallet-2.0.8/class/cc/mallet/grmm/inference/gbp/RegionEdge.class  \n",
            "  inflating: mallet-2.0.8/class/cc/mallet/grmm/inference/gbp/RegionGraph.class  \n",
            "  inflating: mallet-2.0.8/class/cc/mallet/grmm/inference/gbp/RegionGraphGenerator.class  \n",
            "  inflating: mallet-2.0.8/class/cc/mallet/grmm/inference/gbp/SparseMessageSender.class  \n",
            "  inflating: mallet-2.0.8/class/cc/mallet/grmm/inference/GibbsSampler.class  \n",
            "  inflating: mallet-2.0.8/class/cc/mallet/grmm/inference/Inferencer.class  \n",
            "  inflating: mallet-2.0.8/class/cc/mallet/grmm/inference/JunctionTree$Sepset.class  \n",
            "  inflating: mallet-2.0.8/class/cc/mallet/grmm/inference/JunctionTree.class  \n",
            "  inflating: mallet-2.0.8/class/cc/mallet/grmm/inference/JunctionTreeInferencer$1.class  \n",
            "  inflating: mallet-2.0.8/class/cc/mallet/grmm/inference/JunctionTreeInferencer.class  \n",
            "  inflating: mallet-2.0.8/class/cc/mallet/grmm/inference/JunctionTreePropagation$MaxProductMessageStrategy.class  \n",
            "  inflating: mallet-2.0.8/class/cc/mallet/grmm/inference/JunctionTreePropagation$MessageStrategy.class  \n",
            "  inflating: mallet-2.0.8/class/cc/mallet/grmm/inference/JunctionTreePropagation$SumProductMessageStrategy.class  \n",
            "  inflating: mallet-2.0.8/class/cc/mallet/grmm/inference/JunctionTreePropagation.class  \n",
            "  inflating: mallet-2.0.8/class/cc/mallet/grmm/inference/LoopyBP.class  \n",
            "  inflating: mallet-2.0.8/class/cc/mallet/grmm/inference/MessageArray$1.class  \n",
            "  inflating: mallet-2.0.8/class/cc/mallet/grmm/inference/MessageArray$Iterator.class  \n",
            "  inflating: mallet-2.0.8/class/cc/mallet/grmm/inference/MessageArray$ToMsgsIterator.class  \n",
            "  inflating: mallet-2.0.8/class/cc/mallet/grmm/inference/MessageArray.class  \n",
            "  inflating: mallet-2.0.8/class/cc/mallet/grmm/inference/RandomGraphs$FactorGenerator.class  \n",
            "  inflating: mallet-2.0.8/class/cc/mallet/grmm/inference/RandomGraphs$UniformFactorGenerator.class  \n",
            "  inflating: mallet-2.0.8/class/cc/mallet/grmm/inference/RandomGraphs.class  \n",
            "  inflating: mallet-2.0.8/class/cc/mallet/grmm/inference/ResidualBP.class  \n",
            "  inflating: mallet-2.0.8/class/cc/mallet/grmm/inference/Sampler.class  \n",
            "  inflating: mallet-2.0.8/class/cc/mallet/grmm/inference/SamplingInferencer.class  \n",
            "  inflating: mallet-2.0.8/class/cc/mallet/grmm/inference/TreeBP.class  \n",
            "  inflating: mallet-2.0.8/class/cc/mallet/grmm/inference/TRP$1.class  \n",
            "  inflating: mallet-2.0.8/class/cc/mallet/grmm/inference/TRP$AlmostRandomTreeFactory.class  \n",
            "  inflating: mallet-2.0.8/class/cc/mallet/grmm/inference/TRP$ConvergenceTerminator.class  \n",
            "  inflating: mallet-2.0.8/class/cc/mallet/grmm/inference/TRP$DefaultConvergenceTerminator.class  \n",
            "  inflating: mallet-2.0.8/class/cc/mallet/grmm/inference/TRP$IterationTerminator.class  \n",
            "  inflating: mallet-2.0.8/class/cc/mallet/grmm/inference/TRP$SimpleUnionFind.class  \n",
            "  inflating: mallet-2.0.8/class/cc/mallet/grmm/inference/TRP$TerminationCondition.class  \n",
            "  inflating: mallet-2.0.8/class/cc/mallet/grmm/inference/TRP$TreeFactory.class  \n",
            "  inflating: mallet-2.0.8/class/cc/mallet/grmm/inference/TRP$TreeListFactory.class  \n",
            "  inflating: mallet-2.0.8/class/cc/mallet/grmm/inference/TRP.class  \n",
            "  inflating: mallet-2.0.8/class/cc/mallet/grmm/inference/Utils.class  \n",
            "  inflating: mallet-2.0.8/class/cc/mallet/grmm/inference/VariableElimination.class  \n",
            "   creating: mallet-2.0.8/class/cc/mallet/grmm/learning/\n",
            "  inflating: mallet-2.0.8/class/cc/mallet/grmm/learning/ACRF$BigramTemplate.class  \n",
            "  inflating: mallet-2.0.8/class/cc/mallet/grmm/learning/ACRF$FixedFactorTemplate.class  \n",
            "  inflating: mallet-2.0.8/class/cc/mallet/grmm/learning/ACRF$GraphPostProcessor.class  \n",
            "  inflating: mallet-2.0.8/class/cc/mallet/grmm/learning/ACRF$MaximizableACRF.class  \n",
            "  inflating: mallet-2.0.8/class/cc/mallet/grmm/learning/ACRF$PairwiseFactorTemplate.class  \n",
            "  inflating: mallet-2.0.8/class/cc/mallet/grmm/learning/ACRF$SequenceTemplate.class  \n",
            "  inflating: mallet-2.0.8/class/cc/mallet/grmm/learning/ACRF$Template.class  \n",
            "  inflating: mallet-2.0.8/class/cc/mallet/grmm/learning/ACRF$UnigramTemplate.class  \n",
            "  inflating: mallet-2.0.8/class/cc/mallet/grmm/learning/ACRF$UnrolledGraph.class  \n",
            "  inflating: mallet-2.0.8/class/cc/mallet/grmm/learning/ACRF$UnrolledVarSet.class  \n",
            "  inflating: mallet-2.0.8/class/cc/mallet/grmm/learning/ACRF.class  \n",
            "  inflating: mallet-2.0.8/class/cc/mallet/grmm/learning/ACRFEvaluator.class  \n",
            "  inflating: mallet-2.0.8/class/cc/mallet/grmm/learning/AcrfSerialEvaluator.class  \n",
            "  inflating: mallet-2.0.8/class/cc/mallet/grmm/learning/ACRFTrainer.class  \n",
            "  inflating: mallet-2.0.8/class/cc/mallet/grmm/learning/DefaultAcrfTrainer$FileEvaluator.class  \n",
            "  inflating: mallet-2.0.8/class/cc/mallet/grmm/learning/DefaultAcrfTrainer$LogEvaluator.class  \n",
            "  inflating: mallet-2.0.8/class/cc/mallet/grmm/learning/DefaultAcrfTrainer$TestResults.class  \n",
            "  inflating: mallet-2.0.8/class/cc/mallet/grmm/learning/DefaultAcrfTrainer.class  \n",
            "   creating: mallet-2.0.8/class/cc/mallet/grmm/learning/extract/\n",
            "  inflating: mallet-2.0.8/class/cc/mallet/grmm/learning/extract/ACRFExtractor.class  \n",
            "  inflating: mallet-2.0.8/class/cc/mallet/grmm/learning/extract/ACRFExtractorTrainer$CheckpointingEvaluator.class  \n",
            "  inflating: mallet-2.0.8/class/cc/mallet/grmm/learning/extract/ACRFExtractorTrainer.class  \n",
            "  inflating: mallet-2.0.8/class/cc/mallet/grmm/learning/extract/AcrfExtractorTui.class  \n",
            "  inflating: mallet-2.0.8/class/cc/mallet/grmm/learning/GenericAcrfData2TokenSequence.class  \n",
            "  inflating: mallet-2.0.8/class/cc/mallet/grmm/learning/GenericAcrfTui.class  \n",
            "  inflating: mallet-2.0.8/class/cc/mallet/grmm/learning/MultiSegmentationEvaluatorACRF$TestResults.class  \n",
            "  inflating: mallet-2.0.8/class/cc/mallet/grmm/learning/MultiSegmentationEvaluatorACRF.class  \n",
            "  inflating: mallet-2.0.8/class/cc/mallet/grmm/learning/PiecewiseACRFTrainer$Maxable.class  \n",
            "  inflating: mallet-2.0.8/class/cc/mallet/grmm/learning/PiecewiseACRFTrainer.class  \n",
            "  inflating: mallet-2.0.8/class/cc/mallet/grmm/learning/PseudolikelihoodACRFTrainer$CliquesIterator.class  \n",
            "  inflating: mallet-2.0.8/class/cc/mallet/grmm/learning/PseudolikelihoodACRFTrainer$EdgesIterator.class  \n",
            "  inflating: mallet-2.0.8/class/cc/mallet/grmm/learning/PseudolikelihoodACRFTrainer$Maxable.class  \n",
            "  inflating: mallet-2.0.8/class/cc/mallet/grmm/learning/PseudolikelihoodACRFTrainer$VariablesIterator.class  \n",
            "  inflating: mallet-2.0.8/class/cc/mallet/grmm/learning/PseudolikelihoodACRFTrainer.class  \n",
            "  inflating: mallet-2.0.8/class/cc/mallet/grmm/learning/PwplACRFTrainer$Maxable$WrongWrong.class  \n",
            "  inflating: mallet-2.0.8/class/cc/mallet/grmm/learning/PwplACRFTrainer$Maxable.class  \n",
            "  inflating: mallet-2.0.8/class/cc/mallet/grmm/learning/PwplACRFTrainer.class  \n",
            "   creating: mallet-2.0.8/class/cc/mallet/grmm/learning/templates/\n",
            "  inflating: mallet-2.0.8/class/cc/mallet/grmm/learning/templates/SimilarTokensTemplate$CapWordsBinner.class  \n",
            "  inflating: mallet-2.0.8/class/cc/mallet/grmm/learning/templates/SimilarTokensTemplate$FeatureVectorBinner.class  \n",
            "  inflating: mallet-2.0.8/class/cc/mallet/grmm/learning/templates/SimilarTokensTemplate$TokenInfo.class  \n",
            "  inflating: mallet-2.0.8/class/cc/mallet/grmm/learning/templates/SimilarTokensTemplate$WordFeatureBinner.class  \n",
            "  inflating: mallet-2.0.8/class/cc/mallet/grmm/learning/templates/SimilarTokensTemplate.class  \n",
            "   creating: mallet-2.0.8/class/cc/mallet/grmm/test/\n",
            "  inflating: mallet-2.0.8/class/cc/mallet/grmm/test/TestAbstractBeliefPropagation.class  \n",
            "  inflating: mallet-2.0.8/class/cc/mallet/grmm/test/TestAssignment.class  \n",
            "  inflating: mallet-2.0.8/class/cc/mallet/grmm/test/TestAssignmentIterator.class  \n",
            "  inflating: mallet-2.0.8/class/cc/mallet/grmm/test/TestBetaFactor.class  \n",
            "  inflating: mallet-2.0.8/class/cc/mallet/grmm/test/TestBitVarSet.class  \n",
            "  inflating: mallet-2.0.8/class/cc/mallet/grmm/test/TestDirectedModel.class  \n",
            "  inflating: mallet-2.0.8/class/cc/mallet/grmm/test/TestFactorGraph.class  \n",
            "  inflating: mallet-2.0.8/class/cc/mallet/grmm/test/TestFactors.class  \n",
            "  inflating: mallet-2.0.8/class/cc/mallet/grmm/test/TestGenericAcrfData2TokenSequence.class  \n",
            "  inflating: mallet-2.0.8/class/cc/mallet/grmm/test/TestGibbsSampler.class  \n",
            "  inflating: mallet-2.0.8/class/cc/mallet/grmm/test/TestHashClique.class  \n",
            "  inflating: mallet-2.0.8/class/cc/mallet/grmm/test/TestInference$1.class  \n",
            "  inflating: mallet-2.0.8/class/cc/mallet/grmm/test/TestInference.class  \n",
            "  inflating: mallet-2.0.8/class/cc/mallet/grmm/test/TestListVarSet.class  \n",
            "  inflating: mallet-2.0.8/class/cc/mallet/grmm/test/TestLogTableFactor.class  \n",
            "  inflating: mallet-2.0.8/class/cc/mallet/grmm/test/TestMIntInt2ObjectMap.class  \n",
            "  inflating: mallet-2.0.8/class/cc/mallet/grmm/test/TestNormalFactor.class  \n",
            "  inflating: mallet-2.0.8/class/cc/mallet/grmm/test/TestPottsFactor.class  \n",
            "  inflating: mallet-2.0.8/class/cc/mallet/grmm/test/TestRandomGraphs.class  \n",
            "  inflating: mallet-2.0.8/class/cc/mallet/grmm/test/TestTableFactor.class  \n",
            "  inflating: mallet-2.0.8/class/cc/mallet/grmm/test/TestTRP.class  \n",
            "  inflating: mallet-2.0.8/class/cc/mallet/grmm/test/TestUndirectedModel.class  \n",
            "  inflating: mallet-2.0.8/class/cc/mallet/grmm/test/TestUniformFactor.class  \n",
            "  inflating: mallet-2.0.8/class/cc/mallet/grmm/test/TestUniNormalFactor.class  \n",
            "   creating: mallet-2.0.8/class/cc/mallet/grmm/types/\n",
            "  inflating: mallet-2.0.8/class/cc/mallet/grmm/types/AbstractAssignmentIterator.class  \n",
            "  inflating: mallet-2.0.8/class/cc/mallet/grmm/types/AbstractFactor.class  \n",
            "  inflating: mallet-2.0.8/class/cc/mallet/grmm/types/AbstractTableFactor.class  \n",
            "  inflating: mallet-2.0.8/class/cc/mallet/grmm/types/Assignment.class  \n",
            "  inflating: mallet-2.0.8/class/cc/mallet/grmm/types/AssignmentIterator.class  \n",
            "  inflating: mallet-2.0.8/class/cc/mallet/grmm/types/BetaFactor.class  \n",
            "  inflating: mallet-2.0.8/class/cc/mallet/grmm/types/BidirectionalIntObjectMap.class  \n",
            "  inflating: mallet-2.0.8/class/cc/mallet/grmm/types/BinaryUnaryFactor.class  \n",
            "  inflating: mallet-2.0.8/class/cc/mallet/grmm/types/BitVarSet$Iterator.class  \n",
            "  inflating: mallet-2.0.8/class/cc/mallet/grmm/types/BitVarSet.class  \n",
            "  inflating: mallet-2.0.8/class/cc/mallet/grmm/types/BoltzmannPairFactor.class  \n",
            "  inflating: mallet-2.0.8/class/cc/mallet/grmm/types/BoltzmannUnaryFactor.class  \n",
            "  inflating: mallet-2.0.8/class/cc/mallet/grmm/types/ConstantFactor.class  \n",
            "  inflating: mallet-2.0.8/class/cc/mallet/grmm/types/CPT.class  \n",
            "  inflating: mallet-2.0.8/class/cc/mallet/grmm/types/DenseAssignmentIterator.class  \n",
            "  inflating: mallet-2.0.8/class/cc/mallet/grmm/types/DirectedModel.class  \n",
            "  inflating: mallet-2.0.8/class/cc/mallet/grmm/types/DiscreteFactor.class  \n",
            "  inflating: mallet-2.0.8/class/cc/mallet/grmm/types/Factor.class  \n",
            "  inflating: mallet-2.0.8/class/cc/mallet/grmm/types/FactorGraph$1.class  \n",
            "  inflating: mallet-2.0.8/class/cc/mallet/grmm/types/FactorGraph$2.class  \n",
            "  inflating: mallet-2.0.8/class/cc/mallet/grmm/types/FactorGraph$3.class  \n",
            "  inflating: mallet-2.0.8/class/cc/mallet/grmm/types/FactorGraph.class  \n",
            "  inflating: mallet-2.0.8/class/cc/mallet/grmm/types/Factors$1.class  \n",
            "  inflating: mallet-2.0.8/class/cc/mallet/grmm/types/Factors.class  \n",
            "  inflating: mallet-2.0.8/class/cc/mallet/grmm/types/HashVarSet.class  \n",
            "  inflating: mallet-2.0.8/class/cc/mallet/grmm/types/ListVarSet$Iterator.class  \n",
            "  inflating: mallet-2.0.8/class/cc/mallet/grmm/types/ListVarSet.class  \n",
            "  inflating: mallet-2.0.8/class/cc/mallet/grmm/types/LogTableFactor.class  \n",
            "  inflating: mallet-2.0.8/class/cc/mallet/grmm/types/NormalFactor.class  \n",
            "  inflating: mallet-2.0.8/class/cc/mallet/grmm/types/ParameterizedFactor.class  \n",
            "  inflating: mallet-2.0.8/class/cc/mallet/grmm/types/PottsTableFactor.class  \n",
            "  inflating: mallet-2.0.8/class/cc/mallet/grmm/types/SkeletonFactor.class  \n",
            "  inflating: mallet-2.0.8/class/cc/mallet/grmm/types/SparseAssignmentIterator.class  \n",
            "  inflating: mallet-2.0.8/class/cc/mallet/grmm/types/TableFactor.class  \n",
            "  inflating: mallet-2.0.8/class/cc/mallet/grmm/types/Tree.class  \n",
            "  inflating: mallet-2.0.8/class/cc/mallet/grmm/types/UndirectedGrid.class  \n",
            "  inflating: mallet-2.0.8/class/cc/mallet/grmm/types/UndirectedModel.class  \n",
            "  inflating: mallet-2.0.8/class/cc/mallet/grmm/types/UniformFactor.class  \n",
            "  inflating: mallet-2.0.8/class/cc/mallet/grmm/types/UniNormalFactor.class  \n",
            "  inflating: mallet-2.0.8/class/cc/mallet/grmm/types/Universe.class  \n",
            "  inflating: mallet-2.0.8/class/cc/mallet/grmm/types/UnmodifiableVarSet.class  \n",
            "  inflating: mallet-2.0.8/class/cc/mallet/grmm/types/Variable.class  \n",
            "  inflating: mallet-2.0.8/class/cc/mallet/grmm/types/VarSet.class  \n",
            "   creating: mallet-2.0.8/class/cc/mallet/grmm/util/\n",
            "  inflating: mallet-2.0.8/class/cc/mallet/grmm/util/CachingOptimizable$1.class  \n",
            "  inflating: mallet-2.0.8/class/cc/mallet/grmm/util/CachingOptimizable$Base.class  \n",
            "  inflating: mallet-2.0.8/class/cc/mallet/grmm/util/CachingOptimizable$ByBatchGradient.class  \n",
            "  inflating: mallet-2.0.8/class/cc/mallet/grmm/util/CachingOptimizable$ByGradient.class  \n",
            "  inflating: mallet-2.0.8/class/cc/mallet/grmm/util/CachingOptimizable.class  \n",
            "  inflating: mallet-2.0.8/class/cc/mallet/grmm/util/CSIntInt2ObjectMultiMap$1.class  \n",
            "  inflating: mallet-2.0.8/class/cc/mallet/grmm/util/CSIntInt2ObjectMultiMap.class  \n",
            "  inflating: mallet-2.0.8/class/cc/mallet/grmm/util/Flops$Watch.class  \n",
            "  inflating: mallet-2.0.8/class/cc/mallet/grmm/util/Flops.class  \n",
            "  inflating: mallet-2.0.8/class/cc/mallet/grmm/util/GeneralUtils.class  \n",
            "  inflating: mallet-2.0.8/class/cc/mallet/grmm/util/Graphs.class  \n",
            "  inflating: mallet-2.0.8/class/cc/mallet/grmm/util/LabelsAssignment.class  \n",
            "  inflating: mallet-2.0.8/class/cc/mallet/grmm/util/LabelsSequence2Assignment.class  \n",
            "  inflating: mallet-2.0.8/class/cc/mallet/grmm/util/Matrices.class  \n",
            "  inflating: mallet-2.0.8/class/cc/mallet/grmm/util/MIntInt2ObjectMap$1.class  \n",
            "  inflating: mallet-2.0.8/class/cc/mallet/grmm/util/MIntInt2ObjectMap.class  \n",
            "  inflating: mallet-2.0.8/class/cc/mallet/grmm/util/ModelReader.class  \n",
            "  inflating: mallet-2.0.8/class/cc/mallet/grmm/util/Models.class  \n",
            "  inflating: mallet-2.0.8/class/cc/mallet/grmm/util/ModelWriter.class  \n",
            "  inflating: mallet-2.0.8/class/cc/mallet/grmm/util/PipedIterator.class  \n",
            "  inflating: mallet-2.0.8/class/cc/mallet/grmm/util/RememberTokenizationPipe.class  \n",
            "  inflating: mallet-2.0.8/class/cc/mallet/grmm/util/SliceLabelsSequence.class  \n",
            "  inflating: mallet-2.0.8/class/cc/mallet/grmm/util/THashMultiMap.class  \n",
            "   creating: mallet-2.0.8/class/cc/mallet/optimize/\n",
            "  inflating: mallet-2.0.8/class/cc/mallet/optimize/AGIS.class  \n",
            "  inflating: mallet-2.0.8/class/cc/mallet/optimize/BackTrackLineSearch.class  \n",
            "  inflating: mallet-2.0.8/class/cc/mallet/optimize/ConjugateGradient.class  \n",
            "  inflating: mallet-2.0.8/class/cc/mallet/optimize/GradientAscent.class  \n",
            "  inflating: mallet-2.0.8/class/cc/mallet/optimize/GradientBracketLineOptimizer.class  \n",
            "  inflating: mallet-2.0.8/class/cc/mallet/optimize/InvalidOptimizableException.class  \n",
            "  inflating: mallet-2.0.8/class/cc/mallet/optimize/LimitedMemoryBFGS.class  \n",
            "  inflating: mallet-2.0.8/class/cc/mallet/optimize/LineOptimizer$ByGradient.class  \n",
            "  inflating: mallet-2.0.8/class/cc/mallet/optimize/LineOptimizer.class  \n",
            "  inflating: mallet-2.0.8/class/cc/mallet/optimize/Optimizable$ByBatchGradient.class  \n",
            "  inflating: mallet-2.0.8/class/cc/mallet/optimize/Optimizable$ByCombiningBatchGradient.class  \n",
            "  inflating: mallet-2.0.8/class/cc/mallet/optimize/Optimizable$ByGISUpdate.class  \n",
            "  inflating: mallet-2.0.8/class/cc/mallet/optimize/Optimizable$ByGradient.class  \n",
            "  inflating: mallet-2.0.8/class/cc/mallet/optimize/Optimizable$ByGradientValue.class  \n",
            "  inflating: mallet-2.0.8/class/cc/mallet/optimize/Optimizable$ByHessian.class  \n",
            "  inflating: mallet-2.0.8/class/cc/mallet/optimize/Optimizable$ByValue.class  \n",
            "  inflating: mallet-2.0.8/class/cc/mallet/optimize/Optimizable$ByVotedPerceptron.class  \n",
            "  inflating: mallet-2.0.8/class/cc/mallet/optimize/Optimizable.class  \n",
            "  inflating: mallet-2.0.8/class/cc/mallet/optimize/OptimizableCollection$ByGradientValue.class  \n",
            "  inflating: mallet-2.0.8/class/cc/mallet/optimize/OptimizableCollection.class  \n",
            "  inflating: mallet-2.0.8/class/cc/mallet/optimize/OptimizationException.class  \n",
            "  inflating: mallet-2.0.8/class/cc/mallet/optimize/Optimizer$ByBatches.class  \n",
            "  inflating: mallet-2.0.8/class/cc/mallet/optimize/Optimizer.class  \n",
            "  inflating: mallet-2.0.8/class/cc/mallet/optimize/OptimizerEvaluator$ByBatchGradient.class  \n",
            "  inflating: mallet-2.0.8/class/cc/mallet/optimize/OptimizerEvaluator$ByGradient.class  \n",
            "  inflating: mallet-2.0.8/class/cc/mallet/optimize/OptimizerEvaluator.class  \n",
            "  inflating: mallet-2.0.8/class/cc/mallet/optimize/OrthantWiseLimitedMemoryBFGS.class  \n",
            "  inflating: mallet-2.0.8/class/cc/mallet/optimize/StochasticMetaAscent.class  \n",
            "   creating: mallet-2.0.8/class/cc/mallet/optimize/tests/\n",
            "  inflating: mallet-2.0.8/class/cc/mallet/optimize/tests/TestOptimizable$SimplePoly.class  \n",
            "  inflating: mallet-2.0.8/class/cc/mallet/optimize/tests/TestOptimizable$WrongSimplePoly.class  \n",
            "  inflating: mallet-2.0.8/class/cc/mallet/optimize/tests/TestOptimizable.class  \n",
            "  inflating: mallet-2.0.8/class/cc/mallet/optimize/tests/TestOptimizer$SimplePoly.class  \n",
            "  inflating: mallet-2.0.8/class/cc/mallet/optimize/tests/TestOptimizer.class  \n",
            "   creating: mallet-2.0.8/class/cc/mallet/pipe/\n",
            "  inflating: mallet-2.0.8/class/cc/mallet/pipe/AddClassifierTokenPredictions$TokenClassifiers.class  \n",
            "  inflating: mallet-2.0.8/class/cc/mallet/pipe/AddClassifierTokenPredictions.class  \n",
            "  inflating: mallet-2.0.8/class/cc/mallet/pipe/Array2FeatureVector.class  \n",
            "  inflating: mallet-2.0.8/class/cc/mallet/pipe/AugmentableFeatureVectorAddConjunctions.class  \n",
            "  inflating: mallet-2.0.8/class/cc/mallet/pipe/AugmentableFeatureVectorLogScale.class  \n",
            "  inflating: mallet-2.0.8/class/cc/mallet/pipe/BranchingPipe$1.class  \n",
            "  inflating: mallet-2.0.8/class/cc/mallet/pipe/BranchingPipe$BranchingInstanceIterator.class  \n",
            "  inflating: mallet-2.0.8/class/cc/mallet/pipe/BranchingPipe$GateKeepingInstanceIterator.class  \n",
            "  inflating: mallet-2.0.8/class/cc/mallet/pipe/BranchingPipe$PeekingInstanceIterator.class  \n",
            "  inflating: mallet-2.0.8/class/cc/mallet/pipe/BranchingPipe.class  \n",
            "  inflating: mallet-2.0.8/class/cc/mallet/pipe/CharSequence2CharNGrams.class  \n",
            "  inflating: mallet-2.0.8/class/cc/mallet/pipe/CharSequence2TokenSequence.class  \n",
            "  inflating: mallet-2.0.8/class/cc/mallet/pipe/CharSequenceArray2TokenSequence.class  \n",
            "  inflating: mallet-2.0.8/class/cc/mallet/pipe/CharSequenceLowercase.class  \n",
            "  inflating: mallet-2.0.8/class/cc/mallet/pipe/CharSequenceRemoveHTML$1.class  \n",
            "  inflating: mallet-2.0.8/class/cc/mallet/pipe/CharSequenceRemoveHTML$ParserGetter.class  \n",
            "  inflating: mallet-2.0.8/class/cc/mallet/pipe/CharSequenceRemoveHTML$TagStripper.class  \n",
            "  inflating: mallet-2.0.8/class/cc/mallet/pipe/CharSequenceRemoveHTML.class  \n",
            "  inflating: mallet-2.0.8/class/cc/mallet/pipe/CharSequenceRemoveUUEncodedBlocks.class  \n",
            "  inflating: mallet-2.0.8/class/cc/mallet/pipe/CharSequenceReplace.class  \n",
            "  inflating: mallet-2.0.8/class/cc/mallet/pipe/CharSubsequence.class  \n",
            "  inflating: mallet-2.0.8/class/cc/mallet/pipe/Classification2ConfidencePredictingFeatureVector.class  \n",
            "  inflating: mallet-2.0.8/class/cc/mallet/pipe/Csv2Array.class  \n",
            "  inflating: mallet-2.0.8/class/cc/mallet/pipe/Csv2FeatureVector.class  \n",
            "  inflating: mallet-2.0.8/class/cc/mallet/pipe/Directory2FileIterator.class  \n",
            "  inflating: mallet-2.0.8/class/cc/mallet/pipe/FeatureCountPipe.class  \n",
            "  inflating: mallet-2.0.8/class/cc/mallet/pipe/FeatureDocFreqPipe.class  \n",
            "  inflating: mallet-2.0.8/class/cc/mallet/pipe/FeatureSequence2AugmentableFeatureVector.class  \n",
            "  inflating: mallet-2.0.8/class/cc/mallet/pipe/FeatureSequence2FeatureVector.class  \n",
            "  inflating: mallet-2.0.8/class/cc/mallet/pipe/FeatureSequenceConvolution.class  \n",
            "  inflating: mallet-2.0.8/class/cc/mallet/pipe/FeatureValueString2FeatureVector.class  \n",
            "  inflating: mallet-2.0.8/class/cc/mallet/pipe/FeatureVectorConjunctions.class  \n",
            "  inflating: mallet-2.0.8/class/cc/mallet/pipe/FeatureVectorSequence2FeatureVectors$FeatureVectorIterator.class  \n",
            "  inflating: mallet-2.0.8/class/cc/mallet/pipe/FeatureVectorSequence2FeatureVectors.class  \n",
            "  inflating: mallet-2.0.8/class/cc/mallet/pipe/Filename2CharSequence.class  \n",
            "  inflating: mallet-2.0.8/class/cc/mallet/pipe/FilterEmptyFeatureVectors$FilteringPipeInstanceIterator.class  \n",
            "  inflating: mallet-2.0.8/class/cc/mallet/pipe/FilterEmptyFeatureVectors.class  \n",
            "  inflating: mallet-2.0.8/class/cc/mallet/pipe/FixedVocabTokenizer.class  \n",
            "  inflating: mallet-2.0.8/class/cc/mallet/pipe/Input2CharSequence.class  \n",
            "  inflating: mallet-2.0.8/class/cc/mallet/pipe/InstanceListTrimFeaturesByCount.class  \n",
            "   creating: mallet-2.0.8/class/cc/mallet/pipe/iterator/\n",
            "  inflating: mallet-2.0.8/class/cc/mallet/pipe/iterator/ArrayDataAndTargetIterator.class  \n",
            "  inflating: mallet-2.0.8/class/cc/mallet/pipe/iterator/ArrayIterator.class  \n",
            "  inflating: mallet-2.0.8/class/cc/mallet/pipe/iterator/ConcatenatedInstanceIterator.class  \n",
            "  inflating: mallet-2.0.8/class/cc/mallet/pipe/iterator/CsvIterator.class  \n",
            "  inflating: mallet-2.0.8/class/cc/mallet/pipe/iterator/DBInstanceIterator.class  \n",
            "  inflating: mallet-2.0.8/class/cc/mallet/pipe/iterator/EmptyInstanceIterator.class  \n",
            "  inflating: mallet-2.0.8/class/cc/mallet/pipe/iterator/FileIterator.class  \n",
            "  inflating: mallet-2.0.8/class/cc/mallet/pipe/iterator/FileListIterator.class  \n",
            "  inflating: mallet-2.0.8/class/cc/mallet/pipe/iterator/FileUriIterator.class  \n",
            "  inflating: mallet-2.0.8/class/cc/mallet/pipe/iterator/LineGroupIterator.class  \n",
            "  inflating: mallet-2.0.8/class/cc/mallet/pipe/iterator/LineIterator.class  \n",
            "  inflating: mallet-2.0.8/class/cc/mallet/pipe/iterator/ParenGroupIterator.class  \n",
            "  inflating: mallet-2.0.8/class/cc/mallet/pipe/iterator/PatternMatchIterator.class  \n",
            "  inflating: mallet-2.0.8/class/cc/mallet/pipe/iterator/PipeExtendedIterator.class  \n",
            "  inflating: mallet-2.0.8/class/cc/mallet/pipe/iterator/PipeInputIterator.class  \n",
            "  inflating: mallet-2.0.8/class/cc/mallet/pipe/iterator/RandomFeatureVectorIterator.class  \n",
            "  inflating: mallet-2.0.8/class/cc/mallet/pipe/iterator/RandomTokenSequenceIterator.class  \n",
            "  inflating: mallet-2.0.8/class/cc/mallet/pipe/iterator/SegmentIterator.class  \n",
            "  inflating: mallet-2.0.8/class/cc/mallet/pipe/iterator/SelectiveFileLineIterator.class  \n",
            "  inflating: mallet-2.0.8/class/cc/mallet/pipe/iterator/SimpleFileLineIterator.class  \n",
            "  inflating: mallet-2.0.8/class/cc/mallet/pipe/iterator/StringArrayIterator.class  \n",
            "   creating: mallet-2.0.8/class/cc/mallet/pipe/iterator/tests/\n",
            "  inflating: mallet-2.0.8/class/cc/mallet/pipe/iterator/tests/TestPatternMatchIterator.class  \n",
            "  inflating: mallet-2.0.8/class/cc/mallet/pipe/iterator/UnlabeledFileIterator.class  \n",
            "  inflating: mallet-2.0.8/class/cc/mallet/pipe/LineGroupString2TokenSequence.class  \n",
            "  inflating: mallet-2.0.8/class/cc/mallet/pipe/MakeAmpersandXMLFriendly.class  \n",
            "  inflating: mallet-2.0.8/class/cc/mallet/pipe/NGramPreprocessor$ReplacementSet.class  \n",
            "  inflating: mallet-2.0.8/class/cc/mallet/pipe/NGramPreprocessor.class  \n",
            "  inflating: mallet-2.0.8/class/cc/mallet/pipe/Noop.class  \n",
            "  inflating: mallet-2.0.8/class/cc/mallet/pipe/Pipe$SimplePipeInstanceIterator.class  \n",
            "  inflating: mallet-2.0.8/class/cc/mallet/pipe/Pipe.class  \n",
            "  inflating: mallet-2.0.8/class/cc/mallet/pipe/PipeException.class  \n",
            "  inflating: mallet-2.0.8/class/cc/mallet/pipe/PipeUtils.class  \n",
            "  inflating: mallet-2.0.8/class/cc/mallet/pipe/PrintInput.class  \n",
            "  inflating: mallet-2.0.8/class/cc/mallet/pipe/PrintInputAndTarget.class  \n",
            "  inflating: mallet-2.0.8/class/cc/mallet/pipe/PrintTokenSequenceFeatures.class  \n",
            "  inflating: mallet-2.0.8/class/cc/mallet/pipe/SaveDataInSource.class  \n",
            "  inflating: mallet-2.0.8/class/cc/mallet/pipe/SelectiveSGML2TokenSequence.class  \n",
            "  inflating: mallet-2.0.8/class/cc/mallet/pipe/SerialPipes$Predicate.class  \n",
            "  inflating: mallet-2.0.8/class/cc/mallet/pipe/SerialPipes.class  \n",
            "  inflating: mallet-2.0.8/class/cc/mallet/pipe/SGML2TokenSequence.class  \n",
            "  inflating: mallet-2.0.8/class/cc/mallet/pipe/SimpleTaggerSentence2StringTokenization.class  \n",
            "  inflating: mallet-2.0.8/class/cc/mallet/pipe/SimpleTaggerSentence2TokenSequence.class  \n",
            "  inflating: mallet-2.0.8/class/cc/mallet/pipe/SimpleTokenizer.class  \n",
            "  inflating: mallet-2.0.8/class/cc/mallet/pipe/SourceLocation2TokenSequence.class  \n",
            "  inflating: mallet-2.0.8/class/cc/mallet/pipe/StringAddNewLineDelimiter.class  \n",
            "  inflating: mallet-2.0.8/class/cc/mallet/pipe/StringList2FeatureSequence.class  \n",
            "  inflating: mallet-2.0.8/class/cc/mallet/pipe/SvmLight2FeatureVectorAndLabel.class  \n",
            "  inflating: mallet-2.0.8/class/cc/mallet/pipe/Target2Double.class  \n",
            "  inflating: mallet-2.0.8/class/cc/mallet/pipe/Target2FeatureSequence.class  \n",
            "  inflating: mallet-2.0.8/class/cc/mallet/pipe/Target2Integer.class  \n",
            "  inflating: mallet-2.0.8/class/cc/mallet/pipe/Target2Label.class  \n",
            "  inflating: mallet-2.0.8/class/cc/mallet/pipe/Target2LabelSequence.class  \n",
            "  inflating: mallet-2.0.8/class/cc/mallet/pipe/TargetRememberLastLabel.class  \n",
            "  inflating: mallet-2.0.8/class/cc/mallet/pipe/TargetStringToFeatures.class  \n",
            "   creating: mallet-2.0.8/class/cc/mallet/pipe/tests/\n",
            "  inflating: mallet-2.0.8/class/cc/mallet/pipe/tests/TestInstancePipe$Array2ArrayIterator.class  \n",
            "  inflating: mallet-2.0.8/class/cc/mallet/pipe/tests/TestInstancePipe.class  \n",
            "  inflating: mallet-2.0.8/class/cc/mallet/pipe/tests/TestIterators.class  \n",
            "  inflating: mallet-2.0.8/class/cc/mallet/pipe/tests/TestPipeUtils$1.class  \n",
            "  inflating: mallet-2.0.8/class/cc/mallet/pipe/tests/TestPipeUtils$StupidPipe.class  \n",
            "  inflating: mallet-2.0.8/class/cc/mallet/pipe/tests/TestPipeUtils.class  \n",
            "  inflating: mallet-2.0.8/class/cc/mallet/pipe/tests/TestRainbowStyle.class  \n",
            "  inflating: mallet-2.0.8/class/cc/mallet/pipe/tests/TestSGML2TokenSequence$Array2ArrayIterator.class  \n",
            "  inflating: mallet-2.0.8/class/cc/mallet/pipe/tests/TestSGML2TokenSequence.class  \n",
            "  inflating: mallet-2.0.8/class/cc/mallet/pipe/tests/TestSpacePipe.class  \n",
            "  inflating: mallet-2.0.8/class/cc/mallet/pipe/Token2FeatureVector.class  \n",
            "  inflating: mallet-2.0.8/class/cc/mallet/pipe/TokenSequence2FeatureSequence.class  \n",
            "  inflating: mallet-2.0.8/class/cc/mallet/pipe/TokenSequence2FeatureSequenceWithBigrams.class  \n",
            "  inflating: mallet-2.0.8/class/cc/mallet/pipe/TokenSequence2FeatureVectorSequence.class  \n",
            "  inflating: mallet-2.0.8/class/cc/mallet/pipe/TokenSequence2TokenInstances$TokenInstanceIterator.class  \n",
            "  inflating: mallet-2.0.8/class/cc/mallet/pipe/TokenSequence2TokenInstances.class  \n",
            "  inflating: mallet-2.0.8/class/cc/mallet/pipe/TokenSequenceLowercase.class  \n",
            "  inflating: mallet-2.0.8/class/cc/mallet/pipe/TokenSequenceMatchDataAndTarget.class  \n",
            "  inflating: mallet-2.0.8/class/cc/mallet/pipe/TokenSequenceNGrams.class  \n",
            "  inflating: mallet-2.0.8/class/cc/mallet/pipe/TokenSequenceParseFeatureString.class  \n",
            "  inflating: mallet-2.0.8/class/cc/mallet/pipe/TokenSequenceRemoveNonAlpha.class  \n",
            "  inflating: mallet-2.0.8/class/cc/mallet/pipe/TokenSequenceRemoveStopPatterns.class  \n",
            "  inflating: mallet-2.0.8/class/cc/mallet/pipe/TokenSequenceRemoveStopwords.class  \n",
            "   creating: mallet-2.0.8/class/cc/mallet/pipe/tsf/\n",
            "  inflating: mallet-2.0.8/class/cc/mallet/pipe/tsf/CountMatches.class  \n",
            "  inflating: mallet-2.0.8/class/cc/mallet/pipe/tsf/CountMatchesAlignedWithOffsets.class  \n",
            "  inflating: mallet-2.0.8/class/cc/mallet/pipe/tsf/CountMatchesMatching.class  \n",
            "  inflating: mallet-2.0.8/class/cc/mallet/pipe/tsf/FeaturesInWindow.class  \n",
            "  inflating: mallet-2.0.8/class/cc/mallet/pipe/tsf/FeaturesOfFirstMention.class  \n",
            "  inflating: mallet-2.0.8/class/cc/mallet/pipe/tsf/LexiconMembership.class  \n",
            "  inflating: mallet-2.0.8/class/cc/mallet/pipe/tsf/OffsetConjunctions.class  \n",
            "  inflating: mallet-2.0.8/class/cc/mallet/pipe/tsf/OffsetFeatureConjunction.class  \n",
            "  inflating: mallet-2.0.8/class/cc/mallet/pipe/tsf/OffsetPropertyConjunctions.class  \n",
            "  inflating: mallet-2.0.8/class/cc/mallet/pipe/tsf/RegexMatches.class  \n",
            "  inflating: mallet-2.0.8/class/cc/mallet/pipe/tsf/SequencePrintingPipe.class  \n",
            "  inflating: mallet-2.0.8/class/cc/mallet/pipe/tsf/Target2BIOFormat.class  \n",
            "   creating: mallet-2.0.8/class/cc/mallet/pipe/tsf/tests/\n",
            "  inflating: mallet-2.0.8/class/cc/mallet/pipe/tsf/tests/TestOffsetConjunctions.class  \n",
            "  inflating: mallet-2.0.8/class/cc/mallet/pipe/tsf/tests/TestOffsetFeatureConjunctions.class  \n",
            "  inflating: mallet-2.0.8/class/cc/mallet/pipe/tsf/tests/TestSequencePrintingPipe.class  \n",
            "  inflating: mallet-2.0.8/class/cc/mallet/pipe/tsf/TokenFirstPosition.class  \n",
            "  inflating: mallet-2.0.8/class/cc/mallet/pipe/tsf/TokenText.class  \n",
            "  inflating: mallet-2.0.8/class/cc/mallet/pipe/tsf/TokenTextCharNGrams.class  \n",
            "  inflating: mallet-2.0.8/class/cc/mallet/pipe/tsf/TokenTextCharPrefix.class  \n",
            "  inflating: mallet-2.0.8/class/cc/mallet/pipe/tsf/TokenTextCharSuffix.class  \n",
            "  inflating: mallet-2.0.8/class/cc/mallet/pipe/tsf/TokenTextNGrams.class  \n",
            "  inflating: mallet-2.0.8/class/cc/mallet/pipe/tsf/TrieLexiconMembership$TrieLexicon.class  \n",
            "  inflating: mallet-2.0.8/class/cc/mallet/pipe/tsf/TrieLexiconMembership.class  \n",
            "  inflating: mallet-2.0.8/class/cc/mallet/pipe/tsf/WordVectors.class  \n",
            "  inflating: mallet-2.0.8/class/cc/mallet/pipe/ValueString2FeatureVector.class  \n",
            "   creating: mallet-2.0.8/class/cc/mallet/regression/\n",
            "  inflating: mallet-2.0.8/class/cc/mallet/regression/CoordinateDescent.class  \n",
            "  inflating: mallet-2.0.8/class/cc/mallet/regression/LeastSquares.class  \n",
            "  inflating: mallet-2.0.8/class/cc/mallet/regression/LinearRegression.class  \n",
            "  inflating: mallet-2.0.8/class/cc/mallet/regression/LinearRegressionTrainer.class  \n",
            "   creating: mallet-2.0.8/class/cc/mallet/regression/tui/\n",
            "  inflating: mallet-2.0.8/class/cc/mallet/regression/tui/Regression.class  \n",
            "  inflating: mallet-2.0.8/class/cc/mallet/regression/tui/RegressionImporter.class  \n",
            "   creating: mallet-2.0.8/class/cc/mallet/share/\n",
            "   creating: mallet-2.0.8/class/cc/mallet/share/casutton/\n",
            "   creating: mallet-2.0.8/class/cc/mallet/share/casutton/ner/\n",
            "  inflating: mallet-2.0.8/class/cc/mallet/share/casutton/ner/ConllNer2003Sentence2TokenSequence.class  \n",
            "   creating: mallet-2.0.8/class/cc/mallet/share/mccallum/\n",
            "   creating: mallet-2.0.8/class/cc/mallet/share/mccallum/ner/\n",
            "  inflating: mallet-2.0.8/class/cc/mallet/share/mccallum/ner/ConllNer2003Sentence2TokenSequence.class  \n",
            "  inflating: mallet-2.0.8/class/cc/mallet/share/mccallum/ner/TokenSequenceDocHeader.class  \n",
            "  inflating: mallet-2.0.8/class/cc/mallet/share/mccallum/ner/TUI.class  \n",
            "   creating: mallet-2.0.8/class/cc/mallet/share/upenn/\n",
            "  inflating: mallet-2.0.8/class/cc/mallet/share/upenn/MaxEntShell.class  \n",
            "   creating: mallet-2.0.8/class/cc/mallet/share/upenn/ner/\n",
            "  inflating: mallet-2.0.8/class/cc/mallet/share/upenn/ner/FeatureWindow.class  \n",
            "  inflating: mallet-2.0.8/class/cc/mallet/share/upenn/ner/LengthBins.class  \n",
            "  inflating: mallet-2.0.8/class/cc/mallet/share/upenn/ner/ListMember.class  \n",
            "  inflating: mallet-2.0.8/class/cc/mallet/share/upenn/ner/LongRegexMatches.class  \n",
            "  inflating: mallet-2.0.8/class/cc/mallet/share/upenn/ner/NEPipes.class  \n",
            "   creating: mallet-2.0.8/class/cc/mallet/share/weili/\n",
            "   creating: mallet-2.0.8/class/cc/mallet/share/weili/ner/\n",
            "   creating: mallet-2.0.8/class/cc/mallet/share/weili/ner/enron/\n",
            "  inflating: mallet-2.0.8/class/cc/mallet/share/weili/ner/enron/EnronMessage2TokenSequence.class  \n",
            "  inflating: mallet-2.0.8/class/cc/mallet/share/weili/ner/enron/TUI.class  \n",
            "  inflating: mallet-2.0.8/class/cc/mallet/share/weili/ner/WordTransformation.class  \n",
            "   creating: mallet-2.0.8/class/cc/mallet/topics/\n",
            "  inflating: mallet-2.0.8/class/cc/mallet/topics/AbstractTopicReports.class  \n",
            "  inflating: mallet-2.0.8/class/cc/mallet/topics/DMROptimizable.class  \n",
            "  inflating: mallet-2.0.8/class/cc/mallet/topics/DMRTopicModel.class  \n",
            "  inflating: mallet-2.0.8/class/cc/mallet/topics/HierarchicalLDA$NCRPNode.class  \n",
            "  inflating: mallet-2.0.8/class/cc/mallet/topics/HierarchicalLDA.class  \n",
            "  inflating: mallet-2.0.8/class/cc/mallet/topics/HierarchicalPAM.class  \n",
            "  inflating: mallet-2.0.8/class/cc/mallet/topics/JSONTopicReports.class  \n",
            "  inflating: mallet-2.0.8/class/cc/mallet/topics/LabeledLDA.class  \n",
            "  inflating: mallet-2.0.8/class/cc/mallet/topics/LDA$1WordProb.class  \n",
            "  inflating: mallet-2.0.8/class/cc/mallet/topics/LDA.class  \n",
            "  inflating: mallet-2.0.8/class/cc/mallet/topics/LDAHyper$Topication.class  \n",
            "  inflating: mallet-2.0.8/class/cc/mallet/topics/LDAHyper.class  \n",
            "  inflating: mallet-2.0.8/class/cc/mallet/topics/LDAStream.class  \n",
            "  inflating: mallet-2.0.8/class/cc/mallet/topics/MarginalProbEstimator.class  \n",
            "  inflating: mallet-2.0.8/class/cc/mallet/topics/MultinomialHMM.class  \n",
            "  inflating: mallet-2.0.8/class/cc/mallet/topics/NPTopicModel.class  \n",
            "  inflating: mallet-2.0.8/class/cc/mallet/topics/PAM4L$IDSorter.class  \n",
            "  inflating: mallet-2.0.8/class/cc/mallet/topics/PAM4L.class  \n",
            "  inflating: mallet-2.0.8/class/cc/mallet/topics/ParallelTopicModel.class  \n",
            "  inflating: mallet-2.0.8/class/cc/mallet/topics/PolylingualTopicModel$TopicAssignment.class  \n",
            "  inflating: mallet-2.0.8/class/cc/mallet/topics/PolylingualTopicModel.class  \n",
            "  inflating: mallet-2.0.8/class/cc/mallet/topics/RTopicModel.class  \n",
            "  inflating: mallet-2.0.8/class/cc/mallet/topics/SimpleLDA.class  \n",
            "  inflating: mallet-2.0.8/class/cc/mallet/topics/TopicalNGrams$1WordProb.class  \n",
            "  inflating: mallet-2.0.8/class/cc/mallet/topics/TopicalNGrams.class  \n",
            "  inflating: mallet-2.0.8/class/cc/mallet/topics/TopicAssignment.class  \n",
            "  inflating: mallet-2.0.8/class/cc/mallet/topics/TopicInferencer.class  \n",
            "  inflating: mallet-2.0.8/class/cc/mallet/topics/TopicModelDiagnostics$TopicScores.class  \n",
            "  inflating: mallet-2.0.8/class/cc/mallet/topics/TopicModelDiagnostics.class  \n",
            "  inflating: mallet-2.0.8/class/cc/mallet/topics/TopicReports.class  \n",
            "   creating: mallet-2.0.8/class/cc/mallet/topics/tui/\n",
            "  inflating: mallet-2.0.8/class/cc/mallet/topics/tui/DMRLoader.class  \n",
            "  inflating: mallet-2.0.8/class/cc/mallet/topics/tui/EvaluateTopics.class  \n",
            "  inflating: mallet-2.0.8/class/cc/mallet/topics/tui/HierarchicalLDATUI.class  \n",
            "  inflating: mallet-2.0.8/class/cc/mallet/topics/tui/InferTopics.class  \n",
            "  inflating: mallet-2.0.8/class/cc/mallet/topics/tui/TopicTrainer.class  \n",
            "  inflating: mallet-2.0.8/class/cc/mallet/topics/tui/Vectors2Topics.class  \n",
            "  inflating: mallet-2.0.8/class/cc/mallet/topics/WeightedTopicModel.class  \n",
            "  inflating: mallet-2.0.8/class/cc/mallet/topics/WordEmbeddingRunnable.class  \n",
            "  inflating: mallet-2.0.8/class/cc/mallet/topics/WordEmbeddings.class  \n",
            "  inflating: mallet-2.0.8/class/cc/mallet/topics/WorkerRunnable.class  \n",
            "   creating: mallet-2.0.8/class/cc/mallet/types/\n",
            "  inflating: mallet-2.0.8/class/cc/mallet/types/Alphabet.class  \n",
            "  inflating: mallet-2.0.8/class/cc/mallet/types/AlphabetCarrying.class  \n",
            "  inflating: mallet-2.0.8/class/cc/mallet/types/AlphabetFactory.class  \n",
            "  inflating: mallet-2.0.8/class/cc/mallet/types/ArrayListSequence.class  \n",
            "  inflating: mallet-2.0.8/class/cc/mallet/types/ArraySequence.class  \n",
            "  inflating: mallet-2.0.8/class/cc/mallet/types/AugmentableFeatureVector.class  \n",
            "  inflating: mallet-2.0.8/class/cc/mallet/types/BiNormalSeparation$Factory.class  \n",
            "  inflating: mallet-2.0.8/class/cc/mallet/types/BiNormalSeparation.class  \n",
            "  inflating: mallet-2.0.8/class/cc/mallet/types/CachedMetric.class  \n",
            "  inflating: mallet-2.0.8/class/cc/mallet/types/ChainedInstanceIterator.class  \n",
            "  inflating: mallet-2.0.8/class/cc/mallet/types/ConstantMatrix.class  \n",
            "  inflating: mallet-2.0.8/class/cc/mallet/types/CrossValidationIterator.class  \n",
            "  inflating: mallet-2.0.8/class/cc/mallet/types/DenseMatrix.class  \n",
            "  inflating: mallet-2.0.8/class/cc/mallet/types/DenseVector.class  \n",
            "  inflating: mallet-2.0.8/class/cc/mallet/types/Dirichlet$Estimator.class  \n",
            "  inflating: mallet-2.0.8/class/cc/mallet/types/Dirichlet$MethodOfMomentsEstimator.class  \n",
            "  inflating: mallet-2.0.8/class/cc/mallet/types/Dirichlet.class  \n",
            "  inflating: mallet-2.0.8/class/cc/mallet/types/EuclideanDistance.class  \n",
            "  inflating: mallet-2.0.8/class/cc/mallet/types/ExpGain$Factory.class  \n",
            "  inflating: mallet-2.0.8/class/cc/mallet/types/ExpGain.class  \n",
            "  inflating: mallet-2.0.8/class/cc/mallet/types/FeatureConjunction$List.class  \n",
            "  inflating: mallet-2.0.8/class/cc/mallet/types/FeatureConjunction.class  \n",
            "  inflating: mallet-2.0.8/class/cc/mallet/types/FeatureCounter.class  \n",
            "  inflating: mallet-2.0.8/class/cc/mallet/types/FeatureCounts$Factory.class  \n",
            "  inflating: mallet-2.0.8/class/cc/mallet/types/FeatureCounts.class  \n",
            "  inflating: mallet-2.0.8/class/cc/mallet/types/FeatureInducer.class  \n",
            "  inflating: mallet-2.0.8/class/cc/mallet/types/FeatureSelection.class  \n",
            "  inflating: mallet-2.0.8/class/cc/mallet/types/FeatureSelector.class  \n",
            "  inflating: mallet-2.0.8/class/cc/mallet/types/FeatureSequence.class  \n",
            "  inflating: mallet-2.0.8/class/cc/mallet/types/FeatureSequenceWithBigrams.class  \n",
            "  inflating: mallet-2.0.8/class/cc/mallet/types/FeatureVector.class  \n",
            "  inflating: mallet-2.0.8/class/cc/mallet/types/FeatureVectorSequence$Iterator.class  \n",
            "  inflating: mallet-2.0.8/class/cc/mallet/types/FeatureVectorSequence.class  \n",
            "  inflating: mallet-2.0.8/class/cc/mallet/types/GainRatio$1.class  \n",
            "  inflating: mallet-2.0.8/class/cc/mallet/types/GainRatio.class  \n",
            "  inflating: mallet-2.0.8/class/cc/mallet/types/GradientGain$Factory.class  \n",
            "  inflating: mallet-2.0.8/class/cc/mallet/types/GradientGain.class  \n",
            "  inflating: mallet-2.0.8/class/cc/mallet/types/HashedSparseVector.class  \n",
            "  inflating: mallet-2.0.8/class/cc/mallet/types/IDSorter.class  \n",
            "  inflating: mallet-2.0.8/class/cc/mallet/types/IndexedSparseVector.class  \n",
            "  inflating: mallet-2.0.8/class/cc/mallet/types/InfiniteDistance.class  \n",
            "  inflating: mallet-2.0.8/class/cc/mallet/types/InfoGain$Factory.class  \n",
            "  inflating: mallet-2.0.8/class/cc/mallet/types/InfoGain.class  \n",
            "  inflating: mallet-2.0.8/class/cc/mallet/types/Instance.class  \n",
            "  inflating: mallet-2.0.8/class/cc/mallet/types/InstanceList$1.class  \n",
            "  inflating: mallet-2.0.8/class/cc/mallet/types/InstanceList$CrossValidationIterator.class  \n",
            "  inflating: mallet-2.0.8/class/cc/mallet/types/InstanceList$NotYetSetPipe.class  \n",
            "  inflating: mallet-2.0.8/class/cc/mallet/types/InstanceList.class  \n",
            "  inflating: mallet-2.0.8/class/cc/mallet/types/InstanceListTUI.class  \n",
            "  inflating: mallet-2.0.8/class/cc/mallet/types/InvertedIndex.class  \n",
            "  inflating: mallet-2.0.8/class/cc/mallet/types/KLGain.class  \n",
            "  inflating: mallet-2.0.8/class/cc/mallet/types/Label.class  \n",
            "  inflating: mallet-2.0.8/class/cc/mallet/types/LabelAlphabet.class  \n",
            "  inflating: mallet-2.0.8/class/cc/mallet/types/Labeler.class  \n",
            "  inflating: mallet-2.0.8/class/cc/mallet/types/Labeling.class  \n",
            "  inflating: mallet-2.0.8/class/cc/mallet/types/Labelings.class  \n",
            "  inflating: mallet-2.0.8/class/cc/mallet/types/Labels.class  \n",
            "  inflating: mallet-2.0.8/class/cc/mallet/types/LabelSequence$Iterator.class  \n",
            "  inflating: mallet-2.0.8/class/cc/mallet/types/LabelSequence.class  \n",
            "  inflating: mallet-2.0.8/class/cc/mallet/types/LabelsSequence.class  \n",
            "  inflating: mallet-2.0.8/class/cc/mallet/types/LabelVector.class  \n",
            "  inflating: mallet-2.0.8/class/cc/mallet/types/LogNumber.class  \n",
            "  inflating: mallet-2.0.8/class/cc/mallet/types/ManhattenDistance.class  \n",
            "  inflating: mallet-2.0.8/class/cc/mallet/types/Matrix.class  \n",
            "  inflating: mallet-2.0.8/class/cc/mallet/types/Matrix2.class  \n",
            "  inflating: mallet-2.0.8/class/cc/mallet/types/Matrixn.class  \n",
            "  inflating: mallet-2.0.8/class/cc/mallet/types/MatrixOps.class  \n",
            "  inflating: mallet-2.0.8/class/cc/mallet/types/Metric.class  \n",
            "  inflating: mallet-2.0.8/class/cc/mallet/types/Minkowski.class  \n",
            "  inflating: mallet-2.0.8/class/cc/mallet/types/MultiInstanceList$MultiIterator.class  \n",
            "  inflating: mallet-2.0.8/class/cc/mallet/types/MultiInstanceList.class  \n",
            "  inflating: mallet-2.0.8/class/cc/mallet/types/Multinomial$Estimator.class  \n",
            "  inflating: mallet-2.0.8/class/cc/mallet/types/Multinomial$LaplaceEstimator.class  \n",
            "  inflating: mallet-2.0.8/class/cc/mallet/types/Multinomial$Logged.class  \n",
            "  inflating: mallet-2.0.8/class/cc/mallet/types/Multinomial$MAPEstimator.class  \n",
            "  inflating: mallet-2.0.8/class/cc/mallet/types/Multinomial$MEstimator.class  \n",
            "  inflating: mallet-2.0.8/class/cc/mallet/types/Multinomial$MLEstimator.class  \n",
            "  inflating: mallet-2.0.8/class/cc/mallet/types/Multinomial.class  \n",
            "  inflating: mallet-2.0.8/class/cc/mallet/types/NormalizedDotProductMetric.class  \n",
            "  inflating: mallet-2.0.8/class/cc/mallet/types/NullLabel.class  \n",
            "  inflating: mallet-2.0.8/class/cc/mallet/types/PagedInstanceList.class  \n",
            "  inflating: mallet-2.0.8/class/cc/mallet/types/PartiallyRankedFeatureVector$Factory.class  \n",
            "  inflating: mallet-2.0.8/class/cc/mallet/types/PartiallyRankedFeatureVector$PerLabelFactory.class  \n",
            "  inflating: mallet-2.0.8/class/cc/mallet/types/PartiallyRankedFeatureVector.class  \n",
            "  inflating: mallet-2.0.8/class/cc/mallet/types/PerLabelFeatureCounts$Factory.class  \n",
            "  inflating: mallet-2.0.8/class/cc/mallet/types/PerLabelFeatureCounts.class  \n",
            "  inflating: mallet-2.0.8/class/cc/mallet/types/PerLabelInfoGain$Factory.class  \n",
            "  inflating: mallet-2.0.8/class/cc/mallet/types/PerLabelInfoGain.class  \n",
            "  inflating: mallet-2.0.8/class/cc/mallet/types/PropertyHolder.class  \n",
            "  inflating: mallet-2.0.8/class/cc/mallet/types/RankedFeatureVector$EntryWithOriginalIndex.class  \n",
            "  inflating: mallet-2.0.8/class/cc/mallet/types/RankedFeatureVector$Factory.class  \n",
            "  inflating: mallet-2.0.8/class/cc/mallet/types/RankedFeatureVector$PerLabelFactory.class  \n",
            "  inflating: mallet-2.0.8/class/cc/mallet/types/RankedFeatureVector.class  \n",
            "  inflating: mallet-2.0.8/class/cc/mallet/types/ROCData.class  \n",
            "  inflating: mallet-2.0.8/class/cc/mallet/types/Sequence.class  \n",
            "  inflating: mallet-2.0.8/class/cc/mallet/types/SequencePair.class  \n",
            "  inflating: mallet-2.0.8/class/cc/mallet/types/SequencePairAlignment.class  \n",
            "  inflating: mallet-2.0.8/class/cc/mallet/types/SingleInstanceIterator.class  \n",
            "  inflating: mallet-2.0.8/class/cc/mallet/types/SparseMatrixn.class  \n",
            "  inflating: mallet-2.0.8/class/cc/mallet/types/SparseVector.class  \n",
            "  inflating: mallet-2.0.8/class/cc/mallet/types/StringEditFeatureVectorSequence.class  \n",
            "  inflating: mallet-2.0.8/class/cc/mallet/types/StringEditVector.class  \n",
            "  inflating: mallet-2.0.8/class/cc/mallet/types/StringKernel.class  \n",
            "   creating: mallet-2.0.8/class/cc/mallet/types/tests/\n",
            "  inflating: mallet-2.0.8/class/cc/mallet/types/tests/TestAlphabet.class  \n",
            "  inflating: mallet-2.0.8/class/cc/mallet/types/tests/TestAugmentableFeatureVector.class  \n",
            "  inflating: mallet-2.0.8/class/cc/mallet/types/tests/TestBiNormalSeparation$BinaryTestData.class  \n",
            "  inflating: mallet-2.0.8/class/cc/mallet/types/tests/TestBiNormalSeparation.class  \n",
            "  inflating: mallet-2.0.8/class/cc/mallet/types/tests/TestFeatureSequence.class  \n",
            "  inflating: mallet-2.0.8/class/cc/mallet/types/tests/TestFeatureVector.class  \n",
            "  inflating: mallet-2.0.8/class/cc/mallet/types/tests/TestHashedSparseVector.class  \n",
            "  inflating: mallet-2.0.8/class/cc/mallet/types/tests/TestIndexedSparseVector.class  \n",
            "  inflating: mallet-2.0.8/class/cc/mallet/types/tests/TestInstanceListWeights.class  \n",
            "  inflating: mallet-2.0.8/class/cc/mallet/types/tests/TestLabelAlphabet$Labelee.class  \n",
            "  inflating: mallet-2.0.8/class/cc/mallet/types/tests/TestLabelAlphabet.class  \n",
            "  inflating: mallet-2.0.8/class/cc/mallet/types/tests/TestLabelsSequence.class  \n",
            "  inflating: mallet-2.0.8/class/cc/mallet/types/tests/TestLabelVector.class  \n",
            "  inflating: mallet-2.0.8/class/cc/mallet/types/tests/TestMatrix.class  \n",
            "  inflating: mallet-2.0.8/class/cc/mallet/types/tests/TestMatrixn.class  \n",
            "  inflating: mallet-2.0.8/class/cc/mallet/types/tests/TestMultinomial.class  \n",
            "  inflating: mallet-2.0.8/class/cc/mallet/types/tests/TestPagedInstanceList.class  \n",
            "  inflating: mallet-2.0.8/class/cc/mallet/types/tests/TestRankedFeatureVector.class  \n",
            "  inflating: mallet-2.0.8/class/cc/mallet/types/tests/TestSerializable$1.class  \n",
            "  inflating: mallet-2.0.8/class/cc/mallet/types/tests/TestSerializable$WriteMe.class  \n",
            "  inflating: mallet-2.0.8/class/cc/mallet/types/tests/TestSerializable.class  \n",
            "  inflating: mallet-2.0.8/class/cc/mallet/types/tests/TestSparseMatrixn.class  \n",
            "  inflating: mallet-2.0.8/class/cc/mallet/types/tests/TestSparseVector.class  \n",
            "  inflating: mallet-2.0.8/class/cc/mallet/types/tests/TestToken.class  \n",
            "  inflating: mallet-2.0.8/class/cc/mallet/types/Token.class  \n",
            "  inflating: mallet-2.0.8/class/cc/mallet/types/TokenSequence.class  \n",
            "  inflating: mallet-2.0.8/class/cc/mallet/types/Vector.class  \n",
            "   creating: mallet-2.0.8/class/cc/mallet/util/\n",
            "  inflating: mallet-2.0.8/class/cc/mallet/util/Addable.class  \n",
            "  inflating: mallet-2.0.8/class/cc/mallet/util/ArrayListUtils.class  \n",
            "  inflating: mallet-2.0.8/class/cc/mallet/util/ArrayUtils.class  \n",
            "  inflating: mallet-2.0.8/class/cc/mallet/util/BshInterpreter.class  \n",
            "  inflating: mallet-2.0.8/class/cc/mallet/util/BulkLoader.class  \n",
            "  inflating: mallet-2.0.8/class/cc/mallet/util/CharSequenceLexer.class  \n",
            "  inflating: mallet-2.0.8/class/cc/mallet/util/CollectionUtils$1Accumulator.class  \n",
            "  inflating: mallet-2.0.8/class/cc/mallet/util/CollectionUtils$Fn.class  \n",
            "  inflating: mallet-2.0.8/class/cc/mallet/util/CollectionUtils.class  \n",
            "  inflating: mallet-2.0.8/class/cc/mallet/util/ColorUtils.class  \n",
            "  inflating: mallet-2.0.8/class/cc/mallet/util/CommandOption$1.class  \n",
            "  inflating: mallet-2.0.8/class/cc/mallet/util/CommandOption$Boolean.class  \n",
            "  inflating: mallet-2.0.8/class/cc/mallet/util/CommandOption$Double.class  \n",
            "  inflating: mallet-2.0.8/class/cc/mallet/util/CommandOption$DoubleArray.class  \n",
            "  inflating: mallet-2.0.8/class/cc/mallet/util/CommandOption$File.class  \n",
            "  inflating: mallet-2.0.8/class/cc/mallet/util/CommandOption$Integer.class  \n",
            "  inflating: mallet-2.0.8/class/cc/mallet/util/CommandOption$IntegerArray.class  \n",
            "  inflating: mallet-2.0.8/class/cc/mallet/util/CommandOption$List$1.class  \n",
            "  inflating: mallet-2.0.8/class/cc/mallet/util/CommandOption$List$2.class  \n",
            "  inflating: mallet-2.0.8/class/cc/mallet/util/CommandOption$List.class  \n",
            "  inflating: mallet-2.0.8/class/cc/mallet/util/CommandOption$ListProviding.class  \n",
            "  inflating: mallet-2.0.8/class/cc/mallet/util/CommandOption$Object.class  \n",
            "  inflating: mallet-2.0.8/class/cc/mallet/util/CommandOption$ObjectFromBean.class  \n",
            "  inflating: mallet-2.0.8/class/cc/mallet/util/CommandOption$Set.class  \n",
            "  inflating: mallet-2.0.8/class/cc/mallet/util/CommandOption$SpacedStrings.class  \n",
            "  inflating: mallet-2.0.8/class/cc/mallet/util/CommandOption$String.class  \n",
            "  inflating: mallet-2.0.8/class/cc/mallet/util/CommandOption.class  \n",
            "  inflating: mallet-2.0.8/class/cc/mallet/util/DBBulkLoader.class  \n",
            "  inflating: mallet-2.0.8/class/cc/mallet/util/DBInstanceStore.class  \n",
            "  inflating: mallet-2.0.8/class/cc/mallet/util/DirectoryFilter.class  \n",
            "  inflating: mallet-2.0.8/class/cc/mallet/util/DocumentLengths.class  \n",
            "  inflating: mallet-2.0.8/class/cc/mallet/util/DoubleList.class  \n",
            "  inflating: mallet-2.0.8/class/cc/mallet/util/FeatureCooccurrenceCounter.class  \n",
            "  inflating: mallet-2.0.8/class/cc/mallet/util/FeatureCountTool.class  \n",
            "  inflating: mallet-2.0.8/class/cc/mallet/util/FileUtils.class  \n",
            "  inflating: mallet-2.0.8/class/cc/mallet/util/InstanceListPrinter.class  \n",
            "  inflating: mallet-2.0.8/class/cc/mallet/util/IoUtils.class  \n",
            "  inflating: mallet-2.0.8/class/cc/mallet/util/Lexer.class  \n",
            "  inflating: mallet-2.0.8/class/cc/mallet/util/MalletLogger.class  \n",
            "  inflating: mallet-2.0.8/class/cc/mallet/util/MalletProgressMessageLogger.class  \n",
            "  inflating: mallet-2.0.8/class/cc/mallet/util/Maths.class  \n",
            "  inflating: mallet-2.0.8/class/cc/mallet/util/MVNormal.class  \n",
            "  inflating: mallet-2.0.8/class/cc/mallet/util/PlainLogFormatter.class  \n",
            "  inflating: mallet-2.0.8/class/cc/mallet/util/PrintUtilities.class  \n",
            "  inflating: mallet-2.0.8/class/cc/mallet/util/ProgressMessageLogFormatter.class  \n",
            "  inflating: mallet-2.0.8/class/cc/mallet/util/ProgressMessageLogRecord.class  \n",
            "  inflating: mallet-2.0.8/class/cc/mallet/util/PropertyList$Iterator.class  \n",
            "  inflating: mallet-2.0.8/class/cc/mallet/util/PropertyList$NumericIterator.class  \n",
            "  inflating: mallet-2.0.8/class/cc/mallet/util/PropertyList$NumericProperty.class  \n",
            "  inflating: mallet-2.0.8/class/cc/mallet/util/PropertyList$ObjectIterator.class  \n",
            "  inflating: mallet-2.0.8/class/cc/mallet/util/PropertyList$ObjectProperty.class  \n",
            "  inflating: mallet-2.0.8/class/cc/mallet/util/PropertyList.class  \n",
            "  inflating: mallet-2.0.8/class/cc/mallet/util/Randoms$1.class  \n",
            "  inflating: mallet-2.0.8/class/cc/mallet/util/Randoms.class  \n",
            "  inflating: mallet-2.0.8/class/cc/mallet/util/RegexFileFilter.class  \n",
            "  inflating: mallet-2.0.8/class/cc/mallet/util/Replacement.class  \n",
            "  inflating: mallet-2.0.8/class/cc/mallet/util/Replacer.class  \n",
            "   creating: mallet-2.0.8/class/cc/mallet/util/resources/\n",
            "  inflating: mallet-2.0.8/class/cc/mallet/util/resources/logging.properties  \n",
            "   creating: mallet-2.0.8/class/cc/mallet/util/resources/wn/\n",
            "  inflating: mallet-2.0.8/class/cc/mallet/util/resources/wn/Examples.class  \n",
            "   creating: mallet-2.0.8/class/cc/mallet/util/search/\n",
            "  inflating: mallet-2.0.8/class/cc/mallet/util/search/AStar.class  \n",
            "  inflating: mallet-2.0.8/class/cc/mallet/util/search/AStarNode$NextNodeIterator.class  \n",
            "  inflating: mallet-2.0.8/class/cc/mallet/util/search/AStarNode.class  \n",
            "  inflating: mallet-2.0.8/class/cc/mallet/util/search/AStarState.class  \n",
            "  inflating: mallet-2.0.8/class/cc/mallet/util/search/MinHeap.class  \n",
            "  inflating: mallet-2.0.8/class/cc/mallet/util/search/PriorityQueue.class  \n",
            "  inflating: mallet-2.0.8/class/cc/mallet/util/search/QueueElement.class  \n",
            "  inflating: mallet-2.0.8/class/cc/mallet/util/search/SearchNode$NextNodeIterator.class  \n",
            "  inflating: mallet-2.0.8/class/cc/mallet/util/search/SearchNode.class  \n",
            "  inflating: mallet-2.0.8/class/cc/mallet/util/search/SearchState$NextStateIterator.class  \n",
            "  inflating: mallet-2.0.8/class/cc/mallet/util/search/SearchState.class  \n",
            "  inflating: mallet-2.0.8/class/cc/mallet/util/Sequences.class  \n",
            "  inflating: mallet-2.0.8/class/cc/mallet/util/StatFunctions.class  \n",
            "  inflating: mallet-2.0.8/class/cc/mallet/util/Strings.class  \n",
            "   creating: mallet-2.0.8/class/cc/mallet/util/tests/\n",
            "  inflating: mallet-2.0.8/class/cc/mallet/util/tests/TestAStar$1.class  \n",
            "  inflating: mallet-2.0.8/class/cc/mallet/util/tests/TestAStar$State$NextStates.class  \n",
            "  inflating: mallet-2.0.8/class/cc/mallet/util/tests/TestAStar$State.class  \n",
            "  inflating: mallet-2.0.8/class/cc/mallet/util/tests/TestAStar.class  \n",
            "  inflating: mallet-2.0.8/class/cc/mallet/util/tests/TestMaths.class  \n",
            "  inflating: mallet-2.0.8/class/cc/mallet/util/tests/TestPriorityQueue$1.class  \n",
            "  inflating: mallet-2.0.8/class/cc/mallet/util/tests/TestPriorityQueue$Item.class  \n",
            "  inflating: mallet-2.0.8/class/cc/mallet/util/tests/TestPriorityQueue.class  \n",
            "  inflating: mallet-2.0.8/class/cc/mallet/util/tests/TestPropertyList.class  \n",
            "  inflating: mallet-2.0.8/class/cc/mallet/util/tests/TestRandom.class  \n",
            "  inflating: mallet-2.0.8/class/cc/mallet/util/tests/TestStrings.class  \n",
            "  inflating: mallet-2.0.8/class/cc/mallet/util/Timing.class  \n",
            "  inflating: mallet-2.0.8/class/cc/mallet/util/Univariate.class  \n",
            "  inflating: mallet-2.0.8/class/cc/mallet/util/UriUtils.class  \n",
            "  inflating: mallet-2.0.8/class/cc/mallet/util/VectorStats.class  \n",
            "   creating: mallet-2.0.8/dist/\n",
            "  inflating: mallet-2.0.8/dist/mallet-deps.jar  \n",
            "  inflating: mallet-2.0.8/dist/mallet.jar  \n",
            "   creating: mallet-2.0.8/lib/\n",
            "  inflating: mallet-2.0.8/lib/bsh.jar  \n",
            "  inflating: mallet-2.0.8/lib/derby.jar  \n",
            "  inflating: mallet-2.0.8/lib/grmm-deps.jar  \n",
            "  inflating: mallet-2.0.8/lib/jdom-1.0.jar  \n",
            "  inflating: mallet-2.0.8/lib/jgrapht-0.6.0.jar  \n",
            "  inflating: mallet-2.0.8/lib/junit-4.5.jar  \n",
            "  inflating: mallet-2.0.8/lib/jwnl-1.3.jar  \n",
            "  inflating: mallet-2.0.8/lib/LICENSES  \n",
            "  inflating: mallet-2.0.8/lib/Makefile  \n",
            "  inflating: mallet-2.0.8/lib/mallet-deps.jar  \n",
            "  inflating: mallet-2.0.8/lib/mtj-0.9.9.jar  \n",
            "  inflating: mallet-2.0.8/lib/openjgraph.jar  \n",
            "  inflating: mallet-2.0.8/lib/trove-2.0.2.jar  \n",
            "  inflating: mallet-2.0.8/LICENSE    \n",
            "  inflating: mallet-2.0.8/Makefile   \n",
            "  inflating: mallet-2.0.8/pom.xml    \n",
            "  inflating: mallet-2.0.8/README.md  \n",
            "   creating: mallet-2.0.8/sample-data/\n",
            "   creating: mallet-2.0.8/sample-data/numeric/\n",
            "  inflating: mallet-2.0.8/sample-data/numeric/boxes.txt  \n",
            "  inflating: mallet-2.0.8/sample-data/numeric/puffins.txt  \n",
            "  inflating: mallet-2.0.8/sample-data/README  \n",
            "   creating: mallet-2.0.8/sample-data/web/\n",
            "   creating: mallet-2.0.8/sample-data/web/de/\n",
            "  inflating: mallet-2.0.8/sample-data/web/de/apollo8.txt  \n",
            "  inflating: mallet-2.0.8/sample-data/web/de/fiv.txt  \n",
            "  inflating: mallet-2.0.8/sample-data/web/de/habichtsadler.txt  \n",
            "  inflating: mallet-2.0.8/sample-data/web/de/hoechst.txt  \n",
            "  inflating: mallet-2.0.8/sample-data/web/de/indogermanische.txt  \n",
            "  inflating: mallet-2.0.8/sample-data/web/de/konrad.txt  \n",
            "  inflating: mallet-2.0.8/sample-data/web/de/marcellinus.txt  \n",
            "  inflating: mallet-2.0.8/sample-data/web/de/rostock.txt  \n",
            "  inflating: mallet-2.0.8/sample-data/web/de/sadat.txt  \n",
            "  inflating: mallet-2.0.8/sample-data/web/de/t40.txt  \n",
            "  inflating: mallet-2.0.8/sample-data/web/de/ulrich.txt  \n",
            "  inflating: mallet-2.0.8/sample-data/web/de/wildenstein.txt  \n",
            "   creating: mallet-2.0.8/sample-data/web/en/\n",
            "  inflating: mallet-2.0.8/sample-data/web/en/elizabeth_needham.txt  \n",
            "  inflating: mallet-2.0.8/sample-data/web/en/equipartition_theorem.txt  \n",
            "  inflating: mallet-2.0.8/sample-data/web/en/gunnhild.txt  \n",
            "  inflating: mallet-2.0.8/sample-data/web/en/hawes.txt  \n",
            "  inflating: mallet-2.0.8/sample-data/web/en/hill.txt  \n",
            "  inflating: mallet-2.0.8/sample-data/web/en/shiloh.txt  \n",
            "  inflating: mallet-2.0.8/sample-data/web/en/sunderland_echo.txt  \n",
            "  inflating: mallet-2.0.8/sample-data/web/en/thespis.txt  \n",
            "  inflating: mallet-2.0.8/sample-data/web/en/thylacine.txt  \n",
            "  inflating: mallet-2.0.8/sample-data/web/en/uranus.txt  \n",
            "  inflating: mallet-2.0.8/sample-data/web/en/yard.txt  \n",
            "  inflating: mallet-2.0.8/sample-data/web/en/zinta.txt  \n",
            "   creating: mallet-2.0.8/src/\n",
            "   creating: mallet-2.0.8/src/cc/\n",
            "   creating: mallet-2.0.8/src/cc/mallet/\n",
            "   creating: mallet-2.0.8/src/cc/mallet/classify/\n",
            "  inflating: mallet-2.0.8/src/cc/mallet/classify/AdaBoost.java  \n",
            "  inflating: mallet-2.0.8/src/cc/mallet/classify/AdaBoostM2.java  \n",
            "  inflating: mallet-2.0.8/src/cc/mallet/classify/AdaBoostM2Trainer.java  \n",
            "  inflating: mallet-2.0.8/src/cc/mallet/classify/AdaBoostTrainer.java  \n",
            "  inflating: mallet-2.0.8/src/cc/mallet/classify/BaggingClassifier.java  \n",
            "  inflating: mallet-2.0.8/src/cc/mallet/classify/BaggingTrainer.java  \n",
            "  inflating: mallet-2.0.8/src/cc/mallet/classify/BalancedWinnow.java  \n",
            "  inflating: mallet-2.0.8/src/cc/mallet/classify/BalancedWinnowTrainer.java  \n",
            "  inflating: mallet-2.0.8/src/cc/mallet/classify/Boostable.java  \n",
            "  inflating: mallet-2.0.8/src/cc/mallet/classify/C45.java  \n",
            "  inflating: mallet-2.0.8/src/cc/mallet/classify/C45Trainer.java  \n",
            "  inflating: mallet-2.0.8/src/cc/mallet/classify/Classification.java  \n",
            "  inflating: mallet-2.0.8/src/cc/mallet/classify/Classifier.java  \n",
            "  inflating: mallet-2.0.8/src/cc/mallet/classify/ClassifierAccuracyEvaluator.java  \n",
            "  inflating: mallet-2.0.8/src/cc/mallet/classify/ClassifierEnsemble.java  \n",
            "  inflating: mallet-2.0.8/src/cc/mallet/classify/ClassifierEnsembleTrainer.java  \n",
            "  inflating: mallet-2.0.8/src/cc/mallet/classify/ClassifierEvaluator.java  \n",
            "  inflating: mallet-2.0.8/src/cc/mallet/classify/ClassifierTrainer.java  \n",
            "  inflating: mallet-2.0.8/src/cc/mallet/classify/ConfidencePredictingClassifier.java  \n",
            "  inflating: mallet-2.0.8/src/cc/mallet/classify/ConfidencePredictingClassifierTrainer.java  \n",
            "   creating: mallet-2.0.8/src/cc/mallet/classify/constraints/\n",
            "   creating: mallet-2.0.8/src/cc/mallet/classify/constraints/ge/\n",
            "  inflating: mallet-2.0.8/src/cc/mallet/classify/constraints/ge/MaxEntFLGEConstraints.java  \n",
            "  inflating: mallet-2.0.8/src/cc/mallet/classify/constraints/ge/MaxEntGEConstraint.java  \n",
            "  inflating: mallet-2.0.8/src/cc/mallet/classify/constraints/ge/MaxEntKLFLGEConstraints.java  \n",
            "  inflating: mallet-2.0.8/src/cc/mallet/classify/constraints/ge/MaxEntL2FLGEConstraints.java  \n",
            "  inflating: mallet-2.0.8/src/cc/mallet/classify/constraints/ge/MaxEntRangeL2FLGEConstraints.java  \n",
            "   creating: mallet-2.0.8/src/cc/mallet/classify/constraints/pr/\n",
            "  inflating: mallet-2.0.8/src/cc/mallet/classify/constraints/pr/MaxEntFLPRConstraints.java  \n",
            "  inflating: mallet-2.0.8/src/cc/mallet/classify/constraints/pr/MaxEntL2FLPRConstraints.java  \n",
            "  inflating: mallet-2.0.8/src/cc/mallet/classify/constraints/pr/MaxEntPRConstraint.java  \n",
            "  inflating: mallet-2.0.8/src/cc/mallet/classify/DecisionTree.java  \n",
            "  inflating: mallet-2.0.8/src/cc/mallet/classify/DecisionTreeTrainer.java  \n",
            "   creating: mallet-2.0.8/src/cc/mallet/classify/evaluate/\n",
            "  inflating: mallet-2.0.8/src/cc/mallet/classify/evaluate/AccuracyCoverage.java  \n",
            "  inflating: mallet-2.0.8/src/cc/mallet/classify/evaluate/ConfusionMatrix.java  \n",
            "  inflating: mallet-2.0.8/src/cc/mallet/classify/evaluate/Graph.java  \n",
            "  inflating: mallet-2.0.8/src/cc/mallet/classify/evaluate/Graph2.java  \n",
            "  inflating: mallet-2.0.8/src/cc/mallet/classify/evaluate/GraphItem.java  \n",
            "  inflating: mallet-2.0.8/src/cc/mallet/classify/evaluate/package.html  \n",
            "   creating: mallet-2.0.8/src/cc/mallet/classify/examples/\n",
            "  inflating: mallet-2.0.8/src/cc/mallet/classify/examples/DocumentClassifier.java  \n",
            "  inflating: mallet-2.0.8/src/cc/mallet/classify/examples/package.html  \n",
            "  inflating: mallet-2.0.8/src/cc/mallet/classify/FeatureConstraintUtil.java  \n",
            "  inflating: mallet-2.0.8/src/cc/mallet/classify/FeatureSelectingClassifierTrainer.java  \n",
            "  inflating: mallet-2.0.8/src/cc/mallet/classify/MaxEnt.java  \n",
            "  inflating: mallet-2.0.8/src/cc/mallet/classify/MaxEntGERangeTrainer.java  \n",
            "  inflating: mallet-2.0.8/src/cc/mallet/classify/MaxEntGETrainer.java  \n",
            "  inflating: mallet-2.0.8/src/cc/mallet/classify/MaxEntL1Trainer.java  \n",
            "  inflating: mallet-2.0.8/src/cc/mallet/classify/MaxEntOptimizableByGE.java  \n",
            "  inflating: mallet-2.0.8/src/cc/mallet/classify/MaxEntOptimizableByLabelDistribution.java  \n",
            "  inflating: mallet-2.0.8/src/cc/mallet/classify/MaxEntOptimizableByLabelLikelihood.java  \n",
            "  inflating: mallet-2.0.8/src/cc/mallet/classify/MaxEntPRTrainer.java  \n",
            "  inflating: mallet-2.0.8/src/cc/mallet/classify/MaxEntTrainer.java  \n",
            "  inflating: mallet-2.0.8/src/cc/mallet/classify/MCMaxEnt.java  \n",
            "  inflating: mallet-2.0.8/src/cc/mallet/classify/MCMaxEntTrainer.java  \n",
            "  inflating: mallet-2.0.8/src/cc/mallet/classify/MostFrequentClassAssignmentTrainer.java  \n",
            "  inflating: mallet-2.0.8/src/cc/mallet/classify/MostFrequentClassifier.java  \n",
            "  inflating: mallet-2.0.8/src/cc/mallet/classify/NaiveBayes.java  \n",
            "  inflating: mallet-2.0.8/src/cc/mallet/classify/NaiveBayesEMTrainer.java  \n",
            "  inflating: mallet-2.0.8/src/cc/mallet/classify/NaiveBayesTrainer.java  \n",
            "  inflating: mallet-2.0.8/src/cc/mallet/classify/package.html  \n",
            "  inflating: mallet-2.0.8/src/cc/mallet/classify/PRAuxClassifier.java  \n",
            "  inflating: mallet-2.0.8/src/cc/mallet/classify/PRAuxClassifierOptimizable.java  \n",
            "  inflating: mallet-2.0.8/src/cc/mallet/classify/RandomAssignmentTrainer.java  \n",
            "  inflating: mallet-2.0.8/src/cc/mallet/classify/RandomClassifier.java  \n",
            "  inflating: mallet-2.0.8/src/cc/mallet/classify/RankMaxEnt.java  \n",
            "  inflating: mallet-2.0.8/src/cc/mallet/classify/RankMaxEntTrainer.java  \n",
            "   creating: mallet-2.0.8/src/cc/mallet/classify/tests/\n",
            "   creating: mallet-2.0.8/src/cc/mallet/classify/tests/NaiveBayesData/\n",
            "   creating: mallet-2.0.8/src/cc/mallet/classify/tests/NaiveBayesData/learn/\n",
            "   creating: mallet-2.0.8/src/cc/mallet/classify/tests/NaiveBayesData/learn/a/\n",
            " extracting: mallet-2.0.8/src/cc/mallet/classify/tests/NaiveBayesData/learn/a/m1  \n",
            " extracting: mallet-2.0.8/src/cc/mallet/classify/tests/NaiveBayesData/learn/a/ma  \n",
            "   creating: mallet-2.0.8/src/cc/mallet/classify/tests/NaiveBayesData/learn/b/\n",
            " extracting: mallet-2.0.8/src/cc/mallet/classify/tests/NaiveBayesData/learn/b/m2  \n",
            "   creating: mallet-2.0.8/src/cc/mallet/classify/tests/NaiveBayesData/update/\n",
            "   creating: mallet-2.0.8/src/cc/mallet/classify/tests/NaiveBayesData/update/b/\n",
            " extracting: mallet-2.0.8/src/cc/mallet/classify/tests/NaiveBayesData/update/b/m3  \n",
            " extracting: mallet-2.0.8/src/cc/mallet/classify/tests/NaiveBayesData/update/b/m4  \n",
            " extracting: mallet-2.0.8/src/cc/mallet/classify/tests/NaiveBayesData/update/b/m5  \n",
            "  inflating: mallet-2.0.8/src/cc/mallet/classify/tests/package.html  \n",
            "  inflating: mallet-2.0.8/src/cc/mallet/classify/tests/TestClassifiers.java  \n",
            "  inflating: mallet-2.0.8/src/cc/mallet/classify/tests/TestMaxEntTrainer.java  \n",
            "  inflating: mallet-2.0.8/src/cc/mallet/classify/tests/TestNaiveBayes.java  \n",
            "  inflating: mallet-2.0.8/src/cc/mallet/classify/tests/TestStaticParameters.java  \n",
            "  inflating: mallet-2.0.8/src/cc/mallet/classify/Trial.java  \n",
            "   creating: mallet-2.0.8/src/cc/mallet/classify/tui/\n",
            "  inflating: mallet-2.0.8/src/cc/mallet/classify/tui/Calo2Classify.java  \n",
            "  inflating: mallet-2.0.8/src/cc/mallet/classify/tui/Classifier2Info.java  \n",
            "  inflating: mallet-2.0.8/src/cc/mallet/classify/tui/Csv2Classify.java  \n",
            "  inflating: mallet-2.0.8/src/cc/mallet/classify/tui/Csv2Vectors.java  \n",
            "  inflating: mallet-2.0.8/src/cc/mallet/classify/tui/package.html  \n",
            "  inflating: mallet-2.0.8/src/cc/mallet/classify/tui/SvmLight2Classify.java  \n",
            "  inflating: mallet-2.0.8/src/cc/mallet/classify/tui/SvmLight2Vectors.java  \n",
            "  inflating: mallet-2.0.8/src/cc/mallet/classify/tui/Text2Classify.java  \n",
            "  inflating: mallet-2.0.8/src/cc/mallet/classify/tui/Text2Vectors.java  \n",
            "  inflating: mallet-2.0.8/src/cc/mallet/classify/tui/TODO  \n",
            "  inflating: mallet-2.0.8/src/cc/mallet/classify/tui/Vectors2Classify.java  \n",
            "  inflating: mallet-2.0.8/src/cc/mallet/classify/tui/Vectors2FeatureConstraints.java  \n",
            "  inflating: mallet-2.0.8/src/cc/mallet/classify/tui/Vectors2Info.java  \n",
            "  inflating: mallet-2.0.8/src/cc/mallet/classify/tui/Vectors2Vectors.java  \n",
            "  inflating: mallet-2.0.8/src/cc/mallet/classify/Winnow.java  \n",
            "  inflating: mallet-2.0.8/src/cc/mallet/classify/WinnowTrainer.java  \n",
            "   creating: mallet-2.0.8/src/cc/mallet/cluster/\n",
            "  inflating: mallet-2.0.8/src/cc/mallet/cluster/Clusterer.java  \n",
            "  inflating: mallet-2.0.8/src/cc/mallet/cluster/Clustering.java  \n",
            "   creating: mallet-2.0.8/src/cc/mallet/cluster/clustering_scorer/\n",
            "  inflating: mallet-2.0.8/src/cc/mallet/cluster/clustering_scorer/ClusteringScorer.java  \n",
            "  inflating: mallet-2.0.8/src/cc/mallet/cluster/clustering_scorer/PairwiseScorer.java  \n",
            "  inflating: mallet-2.0.8/src/cc/mallet/cluster/Clusterings.java  \n",
            "   creating: mallet-2.0.8/src/cc/mallet/cluster/evaluate/\n",
            "  inflating: mallet-2.0.8/src/cc/mallet/cluster/evaluate/AccuracyEvaluator.java  \n",
            "  inflating: mallet-2.0.8/src/cc/mallet/cluster/evaluate/BCubedEvaluator.java  \n",
            "  inflating: mallet-2.0.8/src/cc/mallet/cluster/evaluate/ClusteringEvaluator.java  \n",
            "  inflating: mallet-2.0.8/src/cc/mallet/cluster/evaluate/ClusteringEvaluators.java  \n",
            "  inflating: mallet-2.0.8/src/cc/mallet/cluster/evaluate/MUCEvaluator.java  \n",
            "  inflating: mallet-2.0.8/src/cc/mallet/cluster/evaluate/PairF1Evaluator.java  \n",
            "   creating: mallet-2.0.8/src/cc/mallet/cluster/evaluate/tests/\n",
            "  inflating: mallet-2.0.8/src/cc/mallet/cluster/evaluate/tests/TestClusteringEvaluators.java  \n",
            "   creating: mallet-2.0.8/src/cc/mallet/cluster/examples/\n",
            "  inflating: mallet-2.0.8/src/cc/mallet/cluster/examples/FirstOrderClusterExample.java  \n",
            "  inflating: mallet-2.0.8/src/cc/mallet/cluster/GreedyAgglomerative.java  \n",
            "  inflating: mallet-2.0.8/src/cc/mallet/cluster/GreedyAgglomerativeByDensity.java  \n",
            "  inflating: mallet-2.0.8/src/cc/mallet/cluster/HillClimbingClusterer.java  \n",
            "   creating: mallet-2.0.8/src/cc/mallet/cluster/iterator/\n",
            "  inflating: mallet-2.0.8/src/cc/mallet/cluster/iterator/AllPairsIterator.java  \n",
            "  inflating: mallet-2.0.8/src/cc/mallet/cluster/iterator/ClusterSampleIterator.java  \n",
            "  inflating: mallet-2.0.8/src/cc/mallet/cluster/iterator/NeighborIterator.java  \n",
            "  inflating: mallet-2.0.8/src/cc/mallet/cluster/iterator/NodeClusterSampleIterator.java  \n",
            "  inflating: mallet-2.0.8/src/cc/mallet/cluster/iterator/PairSampleIterator.java  \n",
            "   creating: mallet-2.0.8/src/cc/mallet/cluster/iterator/tests/\n",
            "  inflating: mallet-2.0.8/src/cc/mallet/cluster/iterator/tests/TestIterators.java  \n",
            "  inflating: mallet-2.0.8/src/cc/mallet/cluster/KBestClusterer.java  \n",
            "  inflating: mallet-2.0.8/src/cc/mallet/cluster/KMeans.java  \n",
            "   creating: mallet-2.0.8/src/cc/mallet/cluster/neighbor_evaluator/\n",
            "  inflating: mallet-2.0.8/src/cc/mallet/cluster/neighbor_evaluator/AgglomerativeNeighbor.java  \n",
            "  inflating: mallet-2.0.8/src/cc/mallet/cluster/neighbor_evaluator/ClassifyingNeighborEvaluator.java  \n",
            "  inflating: mallet-2.0.8/src/cc/mallet/cluster/neighbor_evaluator/MedoidEvaluator.java  \n",
            "  inflating: mallet-2.0.8/src/cc/mallet/cluster/neighbor_evaluator/Neighbor.java  \n",
            "  inflating: mallet-2.0.8/src/cc/mallet/cluster/neighbor_evaluator/NeighborEvaluator.java  \n",
            "  inflating: mallet-2.0.8/src/cc/mallet/cluster/neighbor_evaluator/PairwiseEvaluator.java  \n",
            "  inflating: mallet-2.0.8/src/cc/mallet/cluster/neighbor_evaluator/RandomEvaluator.java  \n",
            "  inflating: mallet-2.0.8/src/cc/mallet/cluster/neighbor_evaluator/RankingNeighborEvaluator.java  \n",
            "  inflating: mallet-2.0.8/src/cc/mallet/cluster/package.html  \n",
            "  inflating: mallet-2.0.8/src/cc/mallet/cluster/README  \n",
            "  inflating: mallet-2.0.8/src/cc/mallet/cluster/Record.java  \n",
            "   creating: mallet-2.0.8/src/cc/mallet/cluster/tui/\n",
            "  inflating: mallet-2.0.8/src/cc/mallet/cluster/tui/Clusterings2Clusterer.java  \n",
            "  inflating: mallet-2.0.8/src/cc/mallet/cluster/tui/Clusterings2Clusterings.java  \n",
            "  inflating: mallet-2.0.8/src/cc/mallet/cluster/tui/Clusterings2Info.java  \n",
            "  inflating: mallet-2.0.8/src/cc/mallet/cluster/tui/Text2Clusterings.java  \n",
            "   creating: mallet-2.0.8/src/cc/mallet/cluster/util/\n",
            "  inflating: mallet-2.0.8/src/cc/mallet/cluster/util/ClusterUtils.java  \n",
            "  inflating: mallet-2.0.8/src/cc/mallet/cluster/util/PairwiseMatrix.java  \n",
            "   creating: mallet-2.0.8/src/cc/mallet/examples/\n",
            "  inflating: mallet-2.0.8/src/cc/mallet/examples/TestCRFPipe.java  \n",
            "  inflating: mallet-2.0.8/src/cc/mallet/examples/TopicModel.java  \n",
            "  inflating: mallet-2.0.8/src/cc/mallet/examples/TrainCRF.java  \n",
            "  inflating: mallet-2.0.8/src/cc/mallet/examples/TrainHMM.java  \n",
            "   creating: mallet-2.0.8/src/cc/mallet/extract/\n",
            "  inflating: mallet-2.0.8/src/cc/mallet/extract/AccuracyCoverageEvaluator.java  \n",
            "  inflating: mallet-2.0.8/src/cc/mallet/extract/BIOTokenizationFilter.java  \n",
            "  inflating: mallet-2.0.8/src/cc/mallet/extract/BIOTokenizationFilterWithTokenIndices.java  \n",
            "  inflating: mallet-2.0.8/src/cc/mallet/extract/ConfidenceTokenizationFilter.java  \n",
            "  inflating: mallet-2.0.8/src/cc/mallet/extract/CRFExtractor.java  \n",
            "  inflating: mallet-2.0.8/src/cc/mallet/extract/DefaultTokenizationFilter.java  \n",
            "  inflating: mallet-2.0.8/src/cc/mallet/extract/DocumentExtraction.java  \n",
            "  inflating: mallet-2.0.8/src/cc/mallet/extract/DocumentViewer.java  \n",
            "  inflating: mallet-2.0.8/src/cc/mallet/extract/ExactMatchComparator.java  \n",
            "  inflating: mallet-2.0.8/src/cc/mallet/extract/Extraction.java  \n",
            "  inflating: mallet-2.0.8/src/cc/mallet/extract/ExtractionConfidenceEstimator.java  \n",
            "  inflating: mallet-2.0.8/src/cc/mallet/extract/ExtractionEvaluator.java  \n",
            "  inflating: mallet-2.0.8/src/cc/mallet/extract/Extractor.java  \n",
            "  inflating: mallet-2.0.8/src/cc/mallet/extract/Field.java  \n",
            "  inflating: mallet-2.0.8/src/cc/mallet/extract/FieldCleaner.java  \n",
            "  inflating: mallet-2.0.8/src/cc/mallet/extract/FieldComparator.java  \n",
            "  inflating: mallet-2.0.8/src/cc/mallet/extract/HierarchicalTokenizationFilter.java  \n",
            "  inflating: mallet-2.0.8/src/cc/mallet/extract/LabeledSpan.java  \n",
            "  inflating: mallet-2.0.8/src/cc/mallet/extract/LabeledSpans.java  \n",
            "  inflating: mallet-2.0.8/src/cc/mallet/extract/LatticeViewer.java  \n",
            "  inflating: mallet-2.0.8/src/cc/mallet/extract/package.html  \n",
            "  inflating: mallet-2.0.8/src/cc/mallet/extract/PerDocumentF1Evaluator.java  \n",
            "  inflating: mallet-2.0.8/src/cc/mallet/extract/PerFieldF1Evaluator.java  \n",
            "   creating: mallet-2.0.8/src/cc/mallet/extract/pipe/\n",
            "  inflating: mallet-2.0.8/src/cc/mallet/extract/pipe/TokenSequence2Tokenization.java  \n",
            "  inflating: mallet-2.0.8/src/cc/mallet/extract/PunctuationIgnoringComparator.java  \n",
            "  inflating: mallet-2.0.8/src/cc/mallet/extract/Record.java  \n",
            "  inflating: mallet-2.0.8/src/cc/mallet/extract/RegexFieldCleaner.java  \n",
            "  inflating: mallet-2.0.8/src/cc/mallet/extract/Span.java  \n",
            "  inflating: mallet-2.0.8/src/cc/mallet/extract/StringSpan.java  \n",
            "  inflating: mallet-2.0.8/src/cc/mallet/extract/StringTokenization.java  \n",
            "   creating: mallet-2.0.8/src/cc/mallet/extract/test/\n",
            "  inflating: mallet-2.0.8/src/cc/mallet/extract/test/TestDocumentExtraction.java  \n",
            "  inflating: mallet-2.0.8/src/cc/mallet/extract/test/TestDocumentViewer.java  \n",
            "  inflating: mallet-2.0.8/src/cc/mallet/extract/test/TestLatticeViewer.java  \n",
            "  inflating: mallet-2.0.8/src/cc/mallet/extract/test/TestPerDocumentF1Evaluator.java  \n",
            "  inflating: mallet-2.0.8/src/cc/mallet/extract/Tokenization.java  \n",
            "  inflating: mallet-2.0.8/src/cc/mallet/extract/TokenizationFilter.java  \n",
            "  inflating: mallet-2.0.8/src/cc/mallet/extract/TransducerExtractionConfidenceEstimator.java  \n",
            "   creating: mallet-2.0.8/src/cc/mallet/fst/\n",
            "  inflating: mallet-2.0.8/src/cc/mallet/fst/CacheStaleIndicator.java  \n",
            "   creating: mallet-2.0.8/src/cc/mallet/fst/confidence/\n",
            "  inflating: mallet-2.0.8/src/cc/mallet/fst/confidence/ConfidenceCorrectorEvaluator.java  \n",
            "  inflating: mallet-2.0.8/src/cc/mallet/fst/confidence/ConfidenceEvaluator.java  \n",
            "  inflating: mallet-2.0.8/src/cc/mallet/fst/confidence/ConstrainedForwardBackwardConfidenceEstimator.java  \n",
            "  inflating: mallet-2.0.8/src/cc/mallet/fst/confidence/ConstrainedViterbiTransducerCorrector.java  \n",
            "  inflating: mallet-2.0.8/src/cc/mallet/fst/confidence/GammaAverageConfidenceEstimator.java  \n",
            "  inflating: mallet-2.0.8/src/cc/mallet/fst/confidence/GammaProductConfidenceEstimator.java  \n",
            "  inflating: mallet-2.0.8/src/cc/mallet/fst/confidence/InstanceWithConfidence.java  \n",
            "  inflating: mallet-2.0.8/src/cc/mallet/fst/confidence/IsolatedSegmentTransducerCorrector.java  \n",
            "  inflating: mallet-2.0.8/src/cc/mallet/fst/confidence/MaxEntConfidenceEstimator.java  \n",
            "  inflating: mallet-2.0.8/src/cc/mallet/fst/confidence/MaxEntSequenceConfidenceEstimator.java  \n",
            "  inflating: mallet-2.0.8/src/cc/mallet/fst/confidence/MinSegmentConfidenceEstimator.java  \n",
            "  inflating: mallet-2.0.8/src/cc/mallet/fst/confidence/NBestViterbiConfidenceEstimator.java  \n",
            "  inflating: mallet-2.0.8/src/cc/mallet/fst/confidence/PipedInstanceWithConfidence.java  \n",
            "  inflating: mallet-2.0.8/src/cc/mallet/fst/confidence/QBCSequenceConfidenceEstimator.java  \n",
            "  inflating: mallet-2.0.8/src/cc/mallet/fst/confidence/RandomConfidenceEstimator.java  \n",
            "  inflating: mallet-2.0.8/src/cc/mallet/fst/confidence/RandomSequenceConfidenceEstimator.java  \n",
            "  inflating: mallet-2.0.8/src/cc/mallet/fst/confidence/SegmentProductConfidenceEstimator.java  \n",
            "  inflating: mallet-2.0.8/src/cc/mallet/fst/confidence/SequenceConfidenceInstance.java  \n",
            "  inflating: mallet-2.0.8/src/cc/mallet/fst/confidence/TransducerConfidenceEstimator.java  \n",
            "  inflating: mallet-2.0.8/src/cc/mallet/fst/confidence/TransducerCorrector.java  \n",
            "  inflating: mallet-2.0.8/src/cc/mallet/fst/confidence/TransducerSequenceConfidenceEstimator.java  \n",
            "  inflating: mallet-2.0.8/src/cc/mallet/fst/confidence/ViterbiConfidenceEstimator.java  \n",
            "  inflating: mallet-2.0.8/src/cc/mallet/fst/confidence/ViterbiRatioConfidenceEstimator.java  \n",
            "  inflating: mallet-2.0.8/src/cc/mallet/fst/CRF.java  \n",
            "  inflating: mallet-2.0.8/src/cc/mallet/fst/CRFCacheStaleIndicator.java  \n",
            "  inflating: mallet-2.0.8/src/cc/mallet/fst/CRFOptimizableByBatchLabelLikelihood.java  \n",
            "  inflating: mallet-2.0.8/src/cc/mallet/fst/CRFOptimizableByGradientValues.java  \n",
            "  inflating: mallet-2.0.8/src/cc/mallet/fst/CRFOptimizableByLabelLikelihood.java  \n",
            "  inflating: mallet-2.0.8/src/cc/mallet/fst/CRFTrainerByL1LabelLikelihood.java  \n",
            "  inflating: mallet-2.0.8/src/cc/mallet/fst/CRFTrainerByLabelLikelihood.java  \n",
            "  inflating: mallet-2.0.8/src/cc/mallet/fst/CRFTrainerByStochasticGradient.java  \n",
            "  inflating: mallet-2.0.8/src/cc/mallet/fst/CRFTrainerByThreadedLabelLikelihood.java  \n",
            "  inflating: mallet-2.0.8/src/cc/mallet/fst/CRFTrainerByValueGradients.java  \n",
            "  inflating: mallet-2.0.8/src/cc/mallet/fst/CRFWriter.java  \n",
            "  inflating: mallet-2.0.8/src/cc/mallet/fst/FeatureTransducer.java  \n",
            "  inflating: mallet-2.0.8/src/cc/mallet/fst/HMM.java  \n",
            "  inflating: mallet-2.0.8/src/cc/mallet/fst/HMMTrainerByLikelihood.java  \n",
            "  inflating: mallet-2.0.8/src/cc/mallet/fst/InstanceAccuracyEvaluator.java  \n",
            "  inflating: mallet-2.0.8/src/cc/mallet/fst/LabelDistributionEvaluator.java  \n",
            "  inflating: mallet-2.0.8/src/cc/mallet/fst/MaxLattice.java  \n",
            "  inflating: mallet-2.0.8/src/cc/mallet/fst/MaxLatticeDefault.java  \n",
            "  inflating: mallet-2.0.8/src/cc/mallet/fst/MaxLatticeFactory.java  \n",
            "  inflating: mallet-2.0.8/src/cc/mallet/fst/MEMM.java  \n",
            "  inflating: mallet-2.0.8/src/cc/mallet/fst/MEMMTrainer.java  \n",
            "  inflating: mallet-2.0.8/src/cc/mallet/fst/MultiSegmentationEvaluator.java  \n",
            "  inflating: mallet-2.0.8/src/cc/mallet/fst/NoopTransducerTrainer.java  \n",
            "  inflating: mallet-2.0.8/src/cc/mallet/fst/package.html  \n",
            "  inflating: mallet-2.0.8/src/cc/mallet/fst/PerClassAccuracyEvaluator.java  \n",
            "  inflating: mallet-2.0.8/src/cc/mallet/fst/Segment.java  \n",
            "  inflating: mallet-2.0.8/src/cc/mallet/fst/SegmentationEvaluator.java  \n",
            "   creating: mallet-2.0.8/src/cc/mallet/fst/semi_supervised/\n",
            "   creating: mallet-2.0.8/src/cc/mallet/fst/semi_supervised/constraints/\n",
            "  inflating: mallet-2.0.8/src/cc/mallet/fst/semi_supervised/constraints/GEConstraint.java  \n",
            "  inflating: mallet-2.0.8/src/cc/mallet/fst/semi_supervised/constraints/OneLabelGEConstraints.java  \n",
            "  inflating: mallet-2.0.8/src/cc/mallet/fst/semi_supervised/constraints/OneLabelKLGEConstraints.java  \n",
            "  inflating: mallet-2.0.8/src/cc/mallet/fst/semi_supervised/constraints/OneLabelL2GEConstraints.java  \n",
            "  inflating: mallet-2.0.8/src/cc/mallet/fst/semi_supervised/constraints/OneLabelL2RangeGEConstraints.java  \n",
            "  inflating: mallet-2.0.8/src/cc/mallet/fst/semi_supervised/constraints/SelfTransitionGEConstraint.java  \n",
            "  inflating: mallet-2.0.8/src/cc/mallet/fst/semi_supervised/constraints/TwoLabelGEConstraints.java  \n",
            "  inflating: mallet-2.0.8/src/cc/mallet/fst/semi_supervised/constraints/TwoLabelKLGEConstraints.java  \n",
            "  inflating: mallet-2.0.8/src/cc/mallet/fst/semi_supervised/constraints/TwoLabelL2GEConstraints.java  \n",
            "  inflating: mallet-2.0.8/src/cc/mallet/fst/semi_supervised/CRFOptimizableByEntropyRegularization.java  \n",
            "  inflating: mallet-2.0.8/src/cc/mallet/fst/semi_supervised/CRFOptimizableByGE.java  \n",
            "  inflating: mallet-2.0.8/src/cc/mallet/fst/semi_supervised/CRFTrainerByEntropyRegularization.java  \n",
            "  inflating: mallet-2.0.8/src/cc/mallet/fst/semi_supervised/CRFTrainerByGE.java  \n",
            "  inflating: mallet-2.0.8/src/cc/mallet/fst/semi_supervised/CRFTrainerByLikelihoodAndGE.java  \n",
            "  inflating: mallet-2.0.8/src/cc/mallet/fst/semi_supervised/EntropyLattice.java  \n",
            "  inflating: mallet-2.0.8/src/cc/mallet/fst/semi_supervised/FSTConstraintUtil.java  \n",
            "  inflating: mallet-2.0.8/src/cc/mallet/fst/semi_supervised/GELattice.java  \n",
            "   creating: mallet-2.0.8/src/cc/mallet/fst/semi_supervised/pr/\n",
            "  inflating: mallet-2.0.8/src/cc/mallet/fst/semi_supervised/pr/CachedDotTransitionIterator.java  \n",
            "   creating: mallet-2.0.8/src/cc/mallet/fst/semi_supervised/pr/constraints/\n",
            "  inflating: mallet-2.0.8/src/cc/mallet/fst/semi_supervised/pr/constraints/OneLabelL2IndPRConstraints.java  \n",
            "  inflating: mallet-2.0.8/src/cc/mallet/fst/semi_supervised/pr/constraints/OneLabelL2PRConstraints.java  \n",
            "  inflating: mallet-2.0.8/src/cc/mallet/fst/semi_supervised/pr/constraints/PRConstraint.java  \n",
            "  inflating: mallet-2.0.8/src/cc/mallet/fst/semi_supervised/pr/ConstraintsOptimizableByPR.java  \n",
            "  inflating: mallet-2.0.8/src/cc/mallet/fst/semi_supervised/pr/CRFOptimizableByKL.java  \n",
            "  inflating: mallet-2.0.8/src/cc/mallet/fst/semi_supervised/pr/CRFTrainerByPR.java  \n",
            "  inflating: mallet-2.0.8/src/cc/mallet/fst/semi_supervised/pr/PRAuxiliaryModel.java  \n",
            "  inflating: mallet-2.0.8/src/cc/mallet/fst/semi_supervised/pr/SumLatticeDefaultCachedDot.java  \n",
            "  inflating: mallet-2.0.8/src/cc/mallet/fst/semi_supervised/pr/SumLatticeKL.java  \n",
            "  inflating: mallet-2.0.8/src/cc/mallet/fst/semi_supervised/pr/SumLatticePR.java  \n",
            "  inflating: mallet-2.0.8/src/cc/mallet/fst/semi_supervised/StateLabelMap.java  \n",
            "   creating: mallet-2.0.8/src/cc/mallet/fst/semi_supervised/tui/\n",
            "  inflating: mallet-2.0.8/src/cc/mallet/fst/semi_supervised/tui/SimpleTaggerWithConstraints.java  \n",
            "  inflating: mallet-2.0.8/src/cc/mallet/fst/ShallowTransducerTrainer.java  \n",
            "  inflating: mallet-2.0.8/src/cc/mallet/fst/SimpleTagger.java  \n",
            "  inflating: mallet-2.0.8/src/cc/mallet/fst/SumLattice.java  \n",
            "  inflating: mallet-2.0.8/src/cc/mallet/fst/SumLatticeBeam.java  \n",
            "  inflating: mallet-2.0.8/src/cc/mallet/fst/SumLatticeConstrained.java  \n",
            "  inflating: mallet-2.0.8/src/cc/mallet/fst/SumLatticeDefault.java  \n",
            "  inflating: mallet-2.0.8/src/cc/mallet/fst/SumLatticeFactory.java  \n",
            "  inflating: mallet-2.0.8/src/cc/mallet/fst/SumLatticeScaling.java  \n",
            "   creating: mallet-2.0.8/src/cc/mallet/fst/tests/\n",
            "  inflating: mallet-2.0.8/src/cc/mallet/fst/tests/package.html  \n",
            "  inflating: mallet-2.0.8/src/cc/mallet/fst/tests/TestCRF.java  \n",
            "  inflating: mallet-2.0.8/src/cc/mallet/fst/tests/TestFeatureTransducer.java  \n",
            "  inflating: mallet-2.0.8/src/cc/mallet/fst/tests/TestMEMM.java  \n",
            "  inflating: mallet-2.0.8/src/cc/mallet/fst/tests/TestSumNegLogProb2.java  \n",
            "  inflating: mallet-2.0.8/src/cc/mallet/fst/ThreadedOptimizable.java  \n",
            "  inflating: mallet-2.0.8/src/cc/mallet/fst/TokenAccuracyEvaluator.java  \n",
            "  inflating: mallet-2.0.8/src/cc/mallet/fst/Transducer.java  \n",
            "  inflating: mallet-2.0.8/src/cc/mallet/fst/TransducerEvaluator.java  \n",
            "  inflating: mallet-2.0.8/src/cc/mallet/fst/TransducerTrainer.java  \n",
            "  inflating: mallet-2.0.8/src/cc/mallet/fst/ViterbiWriter.java  \n",
            "   creating: mallet-2.0.8/src/cc/mallet/grmm/\n",
            "   creating: mallet-2.0.8/src/cc/mallet/grmm/examples/\n",
            "  inflating: mallet-2.0.8/src/cc/mallet/grmm/examples/CrossTemplate1.java  \n",
            "  inflating: mallet-2.0.8/src/cc/mallet/grmm/examples/ModelReaderExample.java  \n",
            "  inflating: mallet-2.0.8/src/cc/mallet/grmm/examples/SimpleCrfExample.java  \n",
            "  inflating: mallet-2.0.8/src/cc/mallet/grmm/examples/SimpleFactorExample.java  \n",
            "  inflating: mallet-2.0.8/src/cc/mallet/grmm/examples/SimpleGraphExample.java  \n",
            "   creating: mallet-2.0.8/src/cc/mallet/grmm/inference/\n",
            "  inflating: mallet-2.0.8/src/cc/mallet/grmm/inference/AbstractBeliefPropagation.java  \n",
            "  inflating: mallet-2.0.8/src/cc/mallet/grmm/inference/AbstractInferencer.java  \n",
            "  inflating: mallet-2.0.8/src/cc/mallet/grmm/inference/BruteForceInferencer.java  \n",
            "  inflating: mallet-2.0.8/src/cc/mallet/grmm/inference/ExactSampler.java  \n",
            "   creating: mallet-2.0.8/src/cc/mallet/grmm/inference/gbp/\n",
            "  inflating: mallet-2.0.8/src/cc/mallet/grmm/inference/gbp/AbstractMessageStrategy.java  \n",
            "  inflating: mallet-2.0.8/src/cc/mallet/grmm/inference/gbp/BPRegionGenerator.java  \n",
            "  inflating: mallet-2.0.8/src/cc/mallet/grmm/inference/gbp/ClusterVariationalRegionGenerator.java  \n",
            "  inflating: mallet-2.0.8/src/cc/mallet/grmm/inference/gbp/FactorizedRegion.java  \n",
            "  inflating: mallet-2.0.8/src/cc/mallet/grmm/inference/gbp/FullMessageStrategy.java  \n",
            "  inflating: mallet-2.0.8/src/cc/mallet/grmm/inference/gbp/Kikuchi4SquareRegionGenerator.java  \n",
            "  inflating: mallet-2.0.8/src/cc/mallet/grmm/inference/gbp/MessageArray.java  \n",
            "  inflating: mallet-2.0.8/src/cc/mallet/grmm/inference/gbp/MessageStrategy.java  \n",
            "  inflating: mallet-2.0.8/src/cc/mallet/grmm/inference/gbp/ParentChildGBP.java  \n",
            "  inflating: mallet-2.0.8/src/cc/mallet/grmm/inference/gbp/Region.java  \n",
            "  inflating: mallet-2.0.8/src/cc/mallet/grmm/inference/gbp/RegionEdge.java  \n",
            "  inflating: mallet-2.0.8/src/cc/mallet/grmm/inference/gbp/RegionGraph.java  \n",
            "  inflating: mallet-2.0.8/src/cc/mallet/grmm/inference/gbp/RegionGraphGenerator.java  \n",
            "  inflating: mallet-2.0.8/src/cc/mallet/grmm/inference/gbp/SparseMessageSender.java  \n",
            "  inflating: mallet-2.0.8/src/cc/mallet/grmm/inference/GibbsSampler.java  \n",
            "  inflating: mallet-2.0.8/src/cc/mallet/grmm/inference/Inferencer.java  \n",
            "  inflating: mallet-2.0.8/src/cc/mallet/grmm/inference/JunctionTree.java  \n",
            "  inflating: mallet-2.0.8/src/cc/mallet/grmm/inference/JunctionTreeInferencer.java  \n",
            "  inflating: mallet-2.0.8/src/cc/mallet/grmm/inference/JunctionTreePropagation.java  \n",
            "  inflating: mallet-2.0.8/src/cc/mallet/grmm/inference/LoopyBP.java  \n",
            "  inflating: mallet-2.0.8/src/cc/mallet/grmm/inference/MessageArray.java  \n",
            "  inflating: mallet-2.0.8/src/cc/mallet/grmm/inference/RandomGraphs.java  \n",
            "  inflating: mallet-2.0.8/src/cc/mallet/grmm/inference/ResidualBP.java  \n",
            "  inflating: mallet-2.0.8/src/cc/mallet/grmm/inference/Sampler.java  \n",
            "  inflating: mallet-2.0.8/src/cc/mallet/grmm/inference/SamplingInferencer.java  \n",
            "  inflating: mallet-2.0.8/src/cc/mallet/grmm/inference/TreeBP.java  \n",
            "  inflating: mallet-2.0.8/src/cc/mallet/grmm/inference/TRP.java  \n",
            "  inflating: mallet-2.0.8/src/cc/mallet/grmm/inference/Utils.java  \n",
            "  inflating: mallet-2.0.8/src/cc/mallet/grmm/inference/VariableElimination.java  \n",
            "   creating: mallet-2.0.8/src/cc/mallet/grmm/learning/\n",
            "  inflating: mallet-2.0.8/src/cc/mallet/grmm/learning/ACRF.java  \n",
            "  inflating: mallet-2.0.8/src/cc/mallet/grmm/learning/ACRFEvaluator.java  \n",
            "  inflating: mallet-2.0.8/src/cc/mallet/grmm/learning/AcrfSerialEvaluator.java  \n",
            "  inflating: mallet-2.0.8/src/cc/mallet/grmm/learning/ACRFTrainer.java  \n",
            "  inflating: mallet-2.0.8/src/cc/mallet/grmm/learning/DefaultAcrfTrainer.java  \n",
            "   creating: mallet-2.0.8/src/cc/mallet/grmm/learning/extract/\n",
            "  inflating: mallet-2.0.8/src/cc/mallet/grmm/learning/extract/ACRFExtractor.java  \n",
            "  inflating: mallet-2.0.8/src/cc/mallet/grmm/learning/extract/ACRFExtractorTrainer.java  \n",
            "  inflating: mallet-2.0.8/src/cc/mallet/grmm/learning/extract/AcrfExtractorTui.java  \n",
            "  inflating: mallet-2.0.8/src/cc/mallet/grmm/learning/GenericAcrfData2TokenSequence.java  \n",
            "  inflating: mallet-2.0.8/src/cc/mallet/grmm/learning/GenericAcrfTui.java  \n",
            "  inflating: mallet-2.0.8/src/cc/mallet/grmm/learning/MultiSegmentationEvaluatorACRF.java  \n",
            "  inflating: mallet-2.0.8/src/cc/mallet/grmm/learning/PiecewiseACRFTrainer.java  \n",
            "  inflating: mallet-2.0.8/src/cc/mallet/grmm/learning/PseudolikelihoodACRFTrainer.java  \n",
            "  inflating: mallet-2.0.8/src/cc/mallet/grmm/learning/PwplACRFTrainer.java  \n",
            "   creating: mallet-2.0.8/src/cc/mallet/grmm/learning/templates/\n",
            "  inflating: mallet-2.0.8/src/cc/mallet/grmm/learning/templates/SimilarTokensTemplate.java  \n",
            "   creating: mallet-2.0.8/src/cc/mallet/grmm/test/\n",
            "  inflating: mallet-2.0.8/src/cc/mallet/grmm/test/TestAbstractBeliefPropagation.java  \n",
            "  inflating: mallet-2.0.8/src/cc/mallet/grmm/test/TestAssignment.java  \n",
            "  inflating: mallet-2.0.8/src/cc/mallet/grmm/test/TestAssignmentIterator.java  \n",
            "  inflating: mallet-2.0.8/src/cc/mallet/grmm/test/TestBetaFactor.java  \n",
            "  inflating: mallet-2.0.8/src/cc/mallet/grmm/test/TestBitVarSet.java  \n",
            "  inflating: mallet-2.0.8/src/cc/mallet/grmm/test/TestDirectedModel.java  \n",
            "  inflating: mallet-2.0.8/src/cc/mallet/grmm/test/TestFactorGraph.java  \n",
            "  inflating: mallet-2.0.8/src/cc/mallet/grmm/test/TestFactors.java  \n",
            "  inflating: mallet-2.0.8/src/cc/mallet/grmm/test/TestGenericAcrfData2TokenSequence.java  \n",
            "  inflating: mallet-2.0.8/src/cc/mallet/grmm/test/TestGibbsSampler.java  \n",
            "  inflating: mallet-2.0.8/src/cc/mallet/grmm/test/TestHashClique.java  \n",
            "  inflating: mallet-2.0.8/src/cc/mallet/grmm/test/TestInference.java  \n",
            "  inflating: mallet-2.0.8/src/cc/mallet/grmm/test/TestListVarSet.java  \n",
            "  inflating: mallet-2.0.8/src/cc/mallet/grmm/test/TestLogTableFactor.java  \n",
            "  inflating: mallet-2.0.8/src/cc/mallet/grmm/test/TestMIntInt2ObjectMap.java  \n",
            "  inflating: mallet-2.0.8/src/cc/mallet/grmm/test/TestNormalFactor.java  \n",
            "  inflating: mallet-2.0.8/src/cc/mallet/grmm/test/TestPottsFactor.java  \n",
            "  inflating: mallet-2.0.8/src/cc/mallet/grmm/test/TestRandomGraphs.java  \n",
            "  inflating: mallet-2.0.8/src/cc/mallet/grmm/test/TestTableFactor.java  \n",
            "  inflating: mallet-2.0.8/src/cc/mallet/grmm/test/TestTRP.java  \n",
            "  inflating: mallet-2.0.8/src/cc/mallet/grmm/test/TestUndirectedModel.java  \n",
            "  inflating: mallet-2.0.8/src/cc/mallet/grmm/test/TestUniformFactor.java  \n",
            "  inflating: mallet-2.0.8/src/cc/mallet/grmm/test/TestUniNormalFactor.java  \n",
            "   creating: mallet-2.0.8/src/cc/mallet/grmm/types/\n",
            "  inflating: mallet-2.0.8/src/cc/mallet/grmm/types/AbstractAssignmentIterator.java  \n",
            "  inflating: mallet-2.0.8/src/cc/mallet/grmm/types/AbstractFactor.java  \n",
            "  inflating: mallet-2.0.8/src/cc/mallet/grmm/types/AbstractTableFactor.java  \n",
            "  inflating: mallet-2.0.8/src/cc/mallet/grmm/types/Assignment.java  \n",
            "  inflating: mallet-2.0.8/src/cc/mallet/grmm/types/AssignmentIterator.java  \n",
            "  inflating: mallet-2.0.8/src/cc/mallet/grmm/types/BetaFactor.java  \n",
            "  inflating: mallet-2.0.8/src/cc/mallet/grmm/types/BidirectionalIntObjectMap.java  \n",
            "  inflating: mallet-2.0.8/src/cc/mallet/grmm/types/BinaryUnaryFactor.java  \n",
            "  inflating: mallet-2.0.8/src/cc/mallet/grmm/types/BitVarSet.java  \n",
            "  inflating: mallet-2.0.8/src/cc/mallet/grmm/types/BoltzmannPairFactor.java  \n",
            "  inflating: mallet-2.0.8/src/cc/mallet/grmm/types/BoltzmannUnaryFactor.java  \n",
            "  inflating: mallet-2.0.8/src/cc/mallet/grmm/types/ConstantFactor.java  \n",
            "  inflating: mallet-2.0.8/src/cc/mallet/grmm/types/CPT.java  \n",
            "  inflating: mallet-2.0.8/src/cc/mallet/grmm/types/DenseAssignmentIterator.java  \n",
            "  inflating: mallet-2.0.8/src/cc/mallet/grmm/types/DirectedModel.java  \n",
            "  inflating: mallet-2.0.8/src/cc/mallet/grmm/types/DiscreteFactor.java  \n",
            "  inflating: mallet-2.0.8/src/cc/mallet/grmm/types/Factor.java  \n",
            "  inflating: mallet-2.0.8/src/cc/mallet/grmm/types/FactorGraph.java  \n",
            "  inflating: mallet-2.0.8/src/cc/mallet/grmm/types/Factors.java  \n",
            "  inflating: mallet-2.0.8/src/cc/mallet/grmm/types/HashVarSet.java  \n",
            "  inflating: mallet-2.0.8/src/cc/mallet/grmm/types/ListVarSet.java  \n",
            "  inflating: mallet-2.0.8/src/cc/mallet/grmm/types/LogTableFactor.java  \n",
            "  inflating: mallet-2.0.8/src/cc/mallet/grmm/types/NormalFactor.java  \n",
            "  inflating: mallet-2.0.8/src/cc/mallet/grmm/types/ParameterizedFactor.java  \n",
            "  inflating: mallet-2.0.8/src/cc/mallet/grmm/types/PottsTableFactor.java  \n",
            "  inflating: mallet-2.0.8/src/cc/mallet/grmm/types/SkeletonFactor.java  \n",
            "  inflating: mallet-2.0.8/src/cc/mallet/grmm/types/SparseAssignmentIterator.java  \n",
            "  inflating: mallet-2.0.8/src/cc/mallet/grmm/types/TableFactor.java  \n",
            "  inflating: mallet-2.0.8/src/cc/mallet/grmm/types/Tree.java  \n",
            "  inflating: mallet-2.0.8/src/cc/mallet/grmm/types/UndirectedGrid.java  \n",
            "  inflating: mallet-2.0.8/src/cc/mallet/grmm/types/UndirectedModel.java  \n",
            "  inflating: mallet-2.0.8/src/cc/mallet/grmm/types/UniformFactor.java  \n",
            "  inflating: mallet-2.0.8/src/cc/mallet/grmm/types/UniNormalFactor.java  \n",
            "  inflating: mallet-2.0.8/src/cc/mallet/grmm/types/Universe.java  \n",
            "  inflating: mallet-2.0.8/src/cc/mallet/grmm/types/UnmodifiableVarSet.java  \n",
            "  inflating: mallet-2.0.8/src/cc/mallet/grmm/types/Variable.java  \n",
            "  inflating: mallet-2.0.8/src/cc/mallet/grmm/types/VarSet.java  \n",
            "   creating: mallet-2.0.8/src/cc/mallet/grmm/util/\n",
            "  inflating: mallet-2.0.8/src/cc/mallet/grmm/util/CachingOptimizable.java  \n",
            "  inflating: mallet-2.0.8/src/cc/mallet/grmm/util/CSIntInt2ObjectMultiMap.java  \n",
            "  inflating: mallet-2.0.8/src/cc/mallet/grmm/util/Flops.java  \n",
            "  inflating: mallet-2.0.8/src/cc/mallet/grmm/util/GeneralUtils.java  \n",
            "  inflating: mallet-2.0.8/src/cc/mallet/grmm/util/Graphs.java  \n",
            "  inflating: mallet-2.0.8/src/cc/mallet/grmm/util/LabelsAssignment.java  \n",
            "  inflating: mallet-2.0.8/src/cc/mallet/grmm/util/LabelsSequence2Assignment.java  \n",
            "  inflating: mallet-2.0.8/src/cc/mallet/grmm/util/Matrices.java  \n",
            "  inflating: mallet-2.0.8/src/cc/mallet/grmm/util/MIntInt2ObjectMap.java  \n",
            "  inflating: mallet-2.0.8/src/cc/mallet/grmm/util/ModelReader.java  \n",
            "  inflating: mallet-2.0.8/src/cc/mallet/grmm/util/Models.java  \n",
            "  inflating: mallet-2.0.8/src/cc/mallet/grmm/util/ModelWriter.java  \n",
            "  inflating: mallet-2.0.8/src/cc/mallet/grmm/util/PipedIterator.java  \n",
            "  inflating: mallet-2.0.8/src/cc/mallet/grmm/util/RememberTokenizationPipe.java  \n",
            "  inflating: mallet-2.0.8/src/cc/mallet/grmm/util/SliceLabelsSequence.java  \n",
            "  inflating: mallet-2.0.8/src/cc/mallet/grmm/util/THashMultiMap.java  \n",
            "   creating: mallet-2.0.8/src/cc/mallet/optimize/\n",
            "  inflating: mallet-2.0.8/src/cc/mallet/optimize/AGIS.java  \n",
            "  inflating: mallet-2.0.8/src/cc/mallet/optimize/BackTrackLineSearch.java  \n",
            "  inflating: mallet-2.0.8/src/cc/mallet/optimize/ConjugateGradient.java  \n",
            "  inflating: mallet-2.0.8/src/cc/mallet/optimize/GradientAscent.java  \n",
            "  inflating: mallet-2.0.8/src/cc/mallet/optimize/GradientBracketLineOptimizer.java  \n",
            "  inflating: mallet-2.0.8/src/cc/mallet/optimize/InvalidOptimizableException.java  \n",
            "  inflating: mallet-2.0.8/src/cc/mallet/optimize/LimitedMemoryBFGS.java  \n",
            "  inflating: mallet-2.0.8/src/cc/mallet/optimize/LineOptimizer.java  \n",
            "  inflating: mallet-2.0.8/src/cc/mallet/optimize/Optimizable.java  \n",
            "  inflating: mallet-2.0.8/src/cc/mallet/optimize/OptimizableCollection.java  \n",
            "  inflating: mallet-2.0.8/src/cc/mallet/optimize/OptimizationException.java  \n",
            "  inflating: mallet-2.0.8/src/cc/mallet/optimize/Optimizer.java  \n",
            "  inflating: mallet-2.0.8/src/cc/mallet/optimize/OptimizerEvaluator.java  \n",
            "  inflating: mallet-2.0.8/src/cc/mallet/optimize/OrthantWiseLimitedMemoryBFGS.java  \n",
            "  inflating: mallet-2.0.8/src/cc/mallet/optimize/package.html  \n",
            "  inflating: mallet-2.0.8/src/cc/mallet/optimize/StochasticMetaAscent.java  \n",
            "   creating: mallet-2.0.8/src/cc/mallet/optimize/tests/\n",
            "  inflating: mallet-2.0.8/src/cc/mallet/optimize/tests/package.html  \n",
            "  inflating: mallet-2.0.8/src/cc/mallet/optimize/tests/TestOptimizable.java  \n",
            "  inflating: mallet-2.0.8/src/cc/mallet/optimize/tests/TestOptimizer.java  \n",
            "   creating: mallet-2.0.8/src/cc/mallet/pipe/\n",
            "  inflating: mallet-2.0.8/src/cc/mallet/pipe/AddClassifierTokenPredictions.java  \n",
            "  inflating: mallet-2.0.8/src/cc/mallet/pipe/Array2FeatureVector.java  \n",
            "  inflating: mallet-2.0.8/src/cc/mallet/pipe/AugmentableFeatureVectorAddConjunctions.java  \n",
            "  inflating: mallet-2.0.8/src/cc/mallet/pipe/AugmentableFeatureVectorLogScale.java  \n",
            "  inflating: mallet-2.0.8/src/cc/mallet/pipe/BranchingPipe.java  \n",
            "  inflating: mallet-2.0.8/src/cc/mallet/pipe/CharSequence2CharNGrams.java  \n",
            "  inflating: mallet-2.0.8/src/cc/mallet/pipe/CharSequence2TokenSequence.java  \n",
            "  inflating: mallet-2.0.8/src/cc/mallet/pipe/CharSequenceArray2TokenSequence.java  \n",
            "  inflating: mallet-2.0.8/src/cc/mallet/pipe/CharSequenceLowercase.java  \n",
            "  inflating: mallet-2.0.8/src/cc/mallet/pipe/CharSequenceRemoveHTML.java  \n",
            "  inflating: mallet-2.0.8/src/cc/mallet/pipe/CharSequenceRemoveUUEncodedBlocks.java  \n",
            "  inflating: mallet-2.0.8/src/cc/mallet/pipe/CharSequenceReplace.java  \n",
            "  inflating: mallet-2.0.8/src/cc/mallet/pipe/CharSubsequence.java  \n",
            "  inflating: mallet-2.0.8/src/cc/mallet/pipe/Classification2ConfidencePredictingFeatureVector.java  \n",
            "  inflating: mallet-2.0.8/src/cc/mallet/pipe/Csv2Array.java  \n",
            "  inflating: mallet-2.0.8/src/cc/mallet/pipe/Csv2FeatureVector.java  \n",
            "  inflating: mallet-2.0.8/src/cc/mallet/pipe/Directory2FileIterator.java  \n",
            "  inflating: mallet-2.0.8/src/cc/mallet/pipe/FeatureCountPipe.java  \n",
            "  inflating: mallet-2.0.8/src/cc/mallet/pipe/FeatureDocFreqPipe.java  \n",
            "  inflating: mallet-2.0.8/src/cc/mallet/pipe/FeatureSequence2AugmentableFeatureVector.java  \n",
            "  inflating: mallet-2.0.8/src/cc/mallet/pipe/FeatureSequence2FeatureVector.java  \n",
            "  inflating: mallet-2.0.8/src/cc/mallet/pipe/FeatureSequenceConvolution.java  \n",
            "  inflating: mallet-2.0.8/src/cc/mallet/pipe/FeatureValueString2FeatureVector.java  \n",
            "  inflating: mallet-2.0.8/src/cc/mallet/pipe/FeatureVectorConjunctions.java  \n",
            "  inflating: mallet-2.0.8/src/cc/mallet/pipe/FeatureVectorSequence2FeatureVectors.java  \n",
            "  inflating: mallet-2.0.8/src/cc/mallet/pipe/Filename2CharSequence.java  \n",
            "  inflating: mallet-2.0.8/src/cc/mallet/pipe/FilterEmptyFeatureVectors.java  \n",
            "  inflating: mallet-2.0.8/src/cc/mallet/pipe/FixedVocabTokenizer.java  \n",
            "  inflating: mallet-2.0.8/src/cc/mallet/pipe/HACKING  \n",
            "  inflating: mallet-2.0.8/src/cc/mallet/pipe/Input2CharSequence.java  \n",
            "  inflating: mallet-2.0.8/src/cc/mallet/pipe/InstanceListTrimFeaturesByCount.java  \n",
            "   creating: mallet-2.0.8/src/cc/mallet/pipe/iterator/\n",
            "  inflating: mallet-2.0.8/src/cc/mallet/pipe/iterator/ArrayDataAndTargetIterator.java  \n",
            "  inflating: mallet-2.0.8/src/cc/mallet/pipe/iterator/ArrayIterator.java  \n",
            "  inflating: mallet-2.0.8/src/cc/mallet/pipe/iterator/ConcatenatedInstanceIterator.java  \n",
            "  inflating: mallet-2.0.8/src/cc/mallet/pipe/iterator/CsvIterator.java  \n",
            "  inflating: mallet-2.0.8/src/cc/mallet/pipe/iterator/DBInstanceIterator.java  \n",
            "  inflating: mallet-2.0.8/src/cc/mallet/pipe/iterator/EmptyInstanceIterator.java  \n",
            "  inflating: mallet-2.0.8/src/cc/mallet/pipe/iterator/FileIterator.java  \n",
            "  inflating: mallet-2.0.8/src/cc/mallet/pipe/iterator/FileListIterator.java  \n",
            "  inflating: mallet-2.0.8/src/cc/mallet/pipe/iterator/FileUriIterator.java  \n",
            "  inflating: mallet-2.0.8/src/cc/mallet/pipe/iterator/LineGroupIterator.java  \n",
            "  inflating: mallet-2.0.8/src/cc/mallet/pipe/iterator/LineIterator.java  \n",
            "  inflating: mallet-2.0.8/src/cc/mallet/pipe/iterator/package.html  \n",
            "  inflating: mallet-2.0.8/src/cc/mallet/pipe/iterator/ParenGroupIterator.java  \n",
            "  inflating: mallet-2.0.8/src/cc/mallet/pipe/iterator/PatternMatchIterator.java  \n",
            "  inflating: mallet-2.0.8/src/cc/mallet/pipe/iterator/PipeExtendedIterator.java  \n",
            "  inflating: mallet-2.0.8/src/cc/mallet/pipe/iterator/PipeInputIterator.java  \n",
            "  inflating: mallet-2.0.8/src/cc/mallet/pipe/iterator/RandomFeatureVectorIterator.java  \n",
            "  inflating: mallet-2.0.8/src/cc/mallet/pipe/iterator/RandomTokenSequenceIterator.java  \n",
            "  inflating: mallet-2.0.8/src/cc/mallet/pipe/iterator/SegmentIterator.java  \n",
            "  inflating: mallet-2.0.8/src/cc/mallet/pipe/iterator/SelectiveFileLineIterator.java  \n",
            "  inflating: mallet-2.0.8/src/cc/mallet/pipe/iterator/SimpleFileLineIterator.java  \n",
            "  inflating: mallet-2.0.8/src/cc/mallet/pipe/iterator/StringArrayIterator.java  \n",
            "   creating: mallet-2.0.8/src/cc/mallet/pipe/iterator/tests/\n",
            "  inflating: mallet-2.0.8/src/cc/mallet/pipe/iterator/tests/TestPatternMatchIterator.java  \n",
            "  inflating: mallet-2.0.8/src/cc/mallet/pipe/iterator/UnlabeledFileIterator.java  \n",
            "  inflating: mallet-2.0.8/src/cc/mallet/pipe/LineGroupString2TokenSequence.java  \n",
            "  inflating: mallet-2.0.8/src/cc/mallet/pipe/MakeAmpersandXMLFriendly.java  \n",
            "  inflating: mallet-2.0.8/src/cc/mallet/pipe/NGramPreprocessor.java  \n",
            "  inflating: mallet-2.0.8/src/cc/mallet/pipe/Noop.java  \n",
            "  inflating: mallet-2.0.8/src/cc/mallet/pipe/package.html  \n",
            "  inflating: mallet-2.0.8/src/cc/mallet/pipe/Pipe.java  \n",
            "  inflating: mallet-2.0.8/src/cc/mallet/pipe/PipeException.java  \n",
            "  inflating: mallet-2.0.8/src/cc/mallet/pipe/PipeUtils.java  \n",
            "  inflating: mallet-2.0.8/src/cc/mallet/pipe/PrintInput.java  \n",
            "  inflating: mallet-2.0.8/src/cc/mallet/pipe/PrintInputAndTarget.java  \n",
            "  inflating: mallet-2.0.8/src/cc/mallet/pipe/PrintTokenSequenceFeatures.java  \n",
            "  inflating: mallet-2.0.8/src/cc/mallet/pipe/SaveDataInSource.java  \n",
            "  inflating: mallet-2.0.8/src/cc/mallet/pipe/SelectiveSGML2TokenSequence.java  \n",
            "  inflating: mallet-2.0.8/src/cc/mallet/pipe/SerialPipes.java  \n",
            "  inflating: mallet-2.0.8/src/cc/mallet/pipe/SGML2TokenSequence.java  \n",
            "  inflating: mallet-2.0.8/src/cc/mallet/pipe/SimpleTaggerSentence2StringTokenization.java  \n",
            "  inflating: mallet-2.0.8/src/cc/mallet/pipe/SimpleTaggerSentence2TokenSequence.java  \n",
            "  inflating: mallet-2.0.8/src/cc/mallet/pipe/SimpleTokenizer.java  \n",
            "  inflating: mallet-2.0.8/src/cc/mallet/pipe/SourceLocation2TokenSequence.java  \n",
            "  inflating: mallet-2.0.8/src/cc/mallet/pipe/StringAddNewLineDelimiter.java  \n",
            "  inflating: mallet-2.0.8/src/cc/mallet/pipe/StringList2FeatureSequence.java  \n",
            "  inflating: mallet-2.0.8/src/cc/mallet/pipe/SvmLight2FeatureVectorAndLabel.java  \n",
            "  inflating: mallet-2.0.8/src/cc/mallet/pipe/Target2Double.java  \n",
            "  inflating: mallet-2.0.8/src/cc/mallet/pipe/Target2FeatureSequence.java  \n",
            "  inflating: mallet-2.0.8/src/cc/mallet/pipe/Target2Integer.java  \n",
            "  inflating: mallet-2.0.8/src/cc/mallet/pipe/Target2Label.java  \n",
            "  inflating: mallet-2.0.8/src/cc/mallet/pipe/Target2LabelSequence.java  \n",
            "  inflating: mallet-2.0.8/src/cc/mallet/pipe/TargetRememberLastLabel.java  \n",
            "  inflating: mallet-2.0.8/src/cc/mallet/pipe/TargetStringToFeatures.java  \n",
            "   creating: mallet-2.0.8/src/cc/mallet/pipe/tests/\n",
            "  inflating: mallet-2.0.8/src/cc/mallet/pipe/tests/package.html  \n",
            "  inflating: mallet-2.0.8/src/cc/mallet/pipe/tests/TestInstancePipe.java  \n",
            "  inflating: mallet-2.0.8/src/cc/mallet/pipe/tests/TestIterators.java  \n",
            "  inflating: mallet-2.0.8/src/cc/mallet/pipe/tests/TestPipeUtils.java  \n",
            "  inflating: mallet-2.0.8/src/cc/mallet/pipe/tests/TestRainbowStyle.java  \n",
            "  inflating: mallet-2.0.8/src/cc/mallet/pipe/tests/TestSGML2TokenSequence.java  \n",
            "  inflating: mallet-2.0.8/src/cc/mallet/pipe/tests/TestSpacePipe.java  \n",
            "  inflating: mallet-2.0.8/src/cc/mallet/pipe/Token2FeatureVector.java  \n",
            "  inflating: mallet-2.0.8/src/cc/mallet/pipe/TokenSequence2FeatureSequence.java  \n",
            "  inflating: mallet-2.0.8/src/cc/mallet/pipe/TokenSequence2FeatureSequenceWithBigrams.java  \n",
            "  inflating: mallet-2.0.8/src/cc/mallet/pipe/TokenSequence2FeatureVectorSequence.java  \n",
            "  inflating: mallet-2.0.8/src/cc/mallet/pipe/TokenSequence2TokenInstances.java  \n",
            "  inflating: mallet-2.0.8/src/cc/mallet/pipe/TokenSequenceLowercase.java  \n",
            "  inflating: mallet-2.0.8/src/cc/mallet/pipe/TokenSequenceMatchDataAndTarget.java  \n",
            "  inflating: mallet-2.0.8/src/cc/mallet/pipe/TokenSequenceNGrams.java  \n",
            "  inflating: mallet-2.0.8/src/cc/mallet/pipe/TokenSequenceParseFeatureString.java  \n",
            "  inflating: mallet-2.0.8/src/cc/mallet/pipe/TokenSequenceRemoveNonAlpha.java  \n",
            "  inflating: mallet-2.0.8/src/cc/mallet/pipe/TokenSequenceRemoveStopPatterns.java  \n",
            "  inflating: mallet-2.0.8/src/cc/mallet/pipe/TokenSequenceRemoveStopwords.java  \n",
            "   creating: mallet-2.0.8/src/cc/mallet/pipe/tsf/\n",
            "  inflating: mallet-2.0.8/src/cc/mallet/pipe/tsf/CountMatches.java  \n",
            "  inflating: mallet-2.0.8/src/cc/mallet/pipe/tsf/CountMatchesAlignedWithOffsets.java  \n",
            "  inflating: mallet-2.0.8/src/cc/mallet/pipe/tsf/CountMatchesMatching.java  \n",
            "  inflating: mallet-2.0.8/src/cc/mallet/pipe/tsf/FeaturesInWindow.java  \n",
            "  inflating: mallet-2.0.8/src/cc/mallet/pipe/tsf/FeaturesOfFirstMention.java  \n",
            "  inflating: mallet-2.0.8/src/cc/mallet/pipe/tsf/LexiconMembership.java  \n",
            "  inflating: mallet-2.0.8/src/cc/mallet/pipe/tsf/OffsetConjunctions.java  \n",
            "  inflating: mallet-2.0.8/src/cc/mallet/pipe/tsf/OffsetFeatureConjunction.java  \n",
            "  inflating: mallet-2.0.8/src/cc/mallet/pipe/tsf/OffsetPropertyConjunctions.java  \n",
            "  inflating: mallet-2.0.8/src/cc/mallet/pipe/tsf/package.html  \n",
            "  inflating: mallet-2.0.8/src/cc/mallet/pipe/tsf/RegexMatches.java  \n",
            "  inflating: mallet-2.0.8/src/cc/mallet/pipe/tsf/SequencePrintingPipe.java  \n",
            "  inflating: mallet-2.0.8/src/cc/mallet/pipe/tsf/Target2BIOFormat.java  \n",
            "   creating: mallet-2.0.8/src/cc/mallet/pipe/tsf/tests/\n",
            "  inflating: mallet-2.0.8/src/cc/mallet/pipe/tsf/tests/package.html  \n",
            "  inflating: mallet-2.0.8/src/cc/mallet/pipe/tsf/tests/TestOffsetConjunctions.java  \n",
            "  inflating: mallet-2.0.8/src/cc/mallet/pipe/tsf/tests/TestOffsetFeatureConjunctions.java  \n",
            "  inflating: mallet-2.0.8/src/cc/mallet/pipe/tsf/tests/TestSequencePrintingPipe.java  \n",
            "  inflating: mallet-2.0.8/src/cc/mallet/pipe/tsf/TokenFirstPosition.java  \n",
            "  inflating: mallet-2.0.8/src/cc/mallet/pipe/tsf/TokenText.java  \n",
            "  inflating: mallet-2.0.8/src/cc/mallet/pipe/tsf/TokenTextCharNGrams.java  \n",
            "  inflating: mallet-2.0.8/src/cc/mallet/pipe/tsf/TokenTextCharPrefix.java  \n",
            "  inflating: mallet-2.0.8/src/cc/mallet/pipe/tsf/TokenTextCharSuffix.java  \n",
            "  inflating: mallet-2.0.8/src/cc/mallet/pipe/tsf/TokenTextNGrams.java  \n",
            "  inflating: mallet-2.0.8/src/cc/mallet/pipe/tsf/TrieLexiconMembership.java  \n",
            "  inflating: mallet-2.0.8/src/cc/mallet/pipe/tsf/WordVectors.java  \n",
            "  inflating: mallet-2.0.8/src/cc/mallet/pipe/ValueString2FeatureVector.java  \n",
            "   creating: mallet-2.0.8/src/cc/mallet/regression/\n",
            "  inflating: mallet-2.0.8/src/cc/mallet/regression/CoordinateDescent.java  \n",
            "  inflating: mallet-2.0.8/src/cc/mallet/regression/LeastSquares.java  \n",
            "  inflating: mallet-2.0.8/src/cc/mallet/regression/LinearRegression.java  \n",
            "  inflating: mallet-2.0.8/src/cc/mallet/regression/LinearRegressionTrainer.java  \n",
            "   creating: mallet-2.0.8/src/cc/mallet/regression/tui/\n",
            "  inflating: mallet-2.0.8/src/cc/mallet/regression/tui/Regression.java  \n",
            "  inflating: mallet-2.0.8/src/cc/mallet/regression/tui/RegressionImporter.java  \n",
            "   creating: mallet-2.0.8/src/cc/mallet/share/\n",
            "   creating: mallet-2.0.8/src/cc/mallet/share/casutton/\n",
            "   creating: mallet-2.0.8/src/cc/mallet/share/casutton/ner/\n",
            "  inflating: mallet-2.0.8/src/cc/mallet/share/casutton/ner/ConllNer2003Sentence2TokenSequence.java  \n",
            "   creating: mallet-2.0.8/src/cc/mallet/share/mccallum/\n",
            "   creating: mallet-2.0.8/src/cc/mallet/share/mccallum/ner/\n",
            "  inflating: mallet-2.0.8/src/cc/mallet/share/mccallum/ner/ConllNer2003Sentence2TokenSequence.java  \n",
            "  inflating: mallet-2.0.8/src/cc/mallet/share/mccallum/ner/package.html  \n",
            "  inflating: mallet-2.0.8/src/cc/mallet/share/mccallum/ner/TokenSequenceDocHeader.java  \n",
            "  inflating: mallet-2.0.8/src/cc/mallet/share/mccallum/ner/TUI.java  \n",
            "   creating: mallet-2.0.8/src/cc/mallet/share/upenn/\n",
            "  inflating: mallet-2.0.8/src/cc/mallet/share/upenn/MaxEntShell.java  \n",
            "   creating: mallet-2.0.8/src/cc/mallet/share/upenn/ner/\n",
            "  inflating: mallet-2.0.8/src/cc/mallet/share/upenn/ner/FeatureWindow.java  \n",
            "  inflating: mallet-2.0.8/src/cc/mallet/share/upenn/ner/LengthBins.java  \n",
            "  inflating: mallet-2.0.8/src/cc/mallet/share/upenn/ner/ListMember.java  \n",
            "  inflating: mallet-2.0.8/src/cc/mallet/share/upenn/ner/LongRegexMatches.java  \n",
            "  inflating: mallet-2.0.8/src/cc/mallet/share/upenn/ner/NEPipes.java  \n",
            "  inflating: mallet-2.0.8/src/cc/mallet/share/upenn/package.html  \n",
            "   creating: mallet-2.0.8/src/cc/mallet/share/weili/\n",
            "   creating: mallet-2.0.8/src/cc/mallet/share/weili/ner/\n",
            "   creating: mallet-2.0.8/src/cc/mallet/share/weili/ner/enron/\n",
            "  inflating: mallet-2.0.8/src/cc/mallet/share/weili/ner/enron/EnronMessage2TokenSequence.java  \n",
            "  inflating: mallet-2.0.8/src/cc/mallet/share/weili/ner/enron/TUI.java  \n",
            "  inflating: mallet-2.0.8/src/cc/mallet/share/weili/ner/WordTransformation.java  \n",
            "   creating: mallet-2.0.8/src/cc/mallet/topics/\n",
            "  inflating: mallet-2.0.8/src/cc/mallet/topics/AbstractTopicReports.java  \n",
            "  inflating: mallet-2.0.8/src/cc/mallet/topics/DMROptimizable.java  \n",
            "  inflating: mallet-2.0.8/src/cc/mallet/topics/DMRTopicModel.java  \n",
            "  inflating: mallet-2.0.8/src/cc/mallet/topics/HierarchicalLDA.java  \n",
            "  inflating: mallet-2.0.8/src/cc/mallet/topics/HierarchicalPAM.java  \n",
            "  inflating: mallet-2.0.8/src/cc/mallet/topics/JSONTopicReports.java  \n",
            "  inflating: mallet-2.0.8/src/cc/mallet/topics/LabeledLDA.java  \n",
            "  inflating: mallet-2.0.8/src/cc/mallet/topics/LDA.java  \n",
            "  inflating: mallet-2.0.8/src/cc/mallet/topics/LDAHyper.java  \n",
            "  inflating: mallet-2.0.8/src/cc/mallet/topics/LDAStream.java  \n",
            "  inflating: mallet-2.0.8/src/cc/mallet/topics/MarginalProbEstimator.java  \n",
            "  inflating: mallet-2.0.8/src/cc/mallet/topics/MultinomialHMM.java  \n",
            "  inflating: mallet-2.0.8/src/cc/mallet/topics/NPTopicModel.java  \n",
            "  inflating: mallet-2.0.8/src/cc/mallet/topics/PAM4L.java  \n",
            "  inflating: mallet-2.0.8/src/cc/mallet/topics/ParallelTopicModel.java  \n",
            "  inflating: mallet-2.0.8/src/cc/mallet/topics/PolylingualTopicModel.java  \n",
            "  inflating: mallet-2.0.8/src/cc/mallet/topics/RTopicModel.java  \n",
            "  inflating: mallet-2.0.8/src/cc/mallet/topics/SimpleLDA.java  \n",
            "  inflating: mallet-2.0.8/src/cc/mallet/topics/TopicalNGrams.java  \n",
            "  inflating: mallet-2.0.8/src/cc/mallet/topics/TopicAssignment.java  \n",
            "  inflating: mallet-2.0.8/src/cc/mallet/topics/TopicInferencer.java  \n",
            "  inflating: mallet-2.0.8/src/cc/mallet/topics/TopicModelDiagnostics.java  \n",
            "  inflating: mallet-2.0.8/src/cc/mallet/topics/TopicReports.java  \n",
            "   creating: mallet-2.0.8/src/cc/mallet/topics/tui/\n",
            "  inflating: mallet-2.0.8/src/cc/mallet/topics/tui/DMRLoader.java  \n",
            "  inflating: mallet-2.0.8/src/cc/mallet/topics/tui/EvaluateTopics.java  \n",
            "  inflating: mallet-2.0.8/src/cc/mallet/topics/tui/HierarchicalLDATUI.java  \n",
            "  inflating: mallet-2.0.8/src/cc/mallet/topics/tui/InferTopics.java  \n",
            "  inflating: mallet-2.0.8/src/cc/mallet/topics/tui/TopicTrainer.java  \n",
            "  inflating: mallet-2.0.8/src/cc/mallet/topics/tui/Vectors2Topics.java  \n",
            "  inflating: mallet-2.0.8/src/cc/mallet/topics/WeightedTopicModel.java  \n",
            "  inflating: mallet-2.0.8/src/cc/mallet/topics/WordEmbeddingRunnable.java  \n",
            "  inflating: mallet-2.0.8/src/cc/mallet/topics/WordEmbeddings.java  \n",
            "  inflating: mallet-2.0.8/src/cc/mallet/topics/WorkerRunnable.java  \n",
            "   creating: mallet-2.0.8/src/cc/mallet/types/\n",
            "  inflating: mallet-2.0.8/src/cc/mallet/types/Alphabet.java  \n",
            "  inflating: mallet-2.0.8/src/cc/mallet/types/AlphabetCarrying.java  \n",
            "  inflating: mallet-2.0.8/src/cc/mallet/types/AlphabetFactory.java  \n",
            "  inflating: mallet-2.0.8/src/cc/mallet/types/ArrayListSequence.java  \n",
            "  inflating: mallet-2.0.8/src/cc/mallet/types/ArraySequence.java  \n",
            "  inflating: mallet-2.0.8/src/cc/mallet/types/AugmentableFeatureVector.java  \n",
            "  inflating: mallet-2.0.8/src/cc/mallet/types/BiNormalSeparation.java  \n",
            "  inflating: mallet-2.0.8/src/cc/mallet/types/CachedMetric.java  \n",
            "  inflating: mallet-2.0.8/src/cc/mallet/types/ChainedInstanceIterator.java  \n",
            "  inflating: mallet-2.0.8/src/cc/mallet/types/ConstantMatrix.java  \n",
            "  inflating: mallet-2.0.8/src/cc/mallet/types/CrossValidationIterator.java  \n",
            "  inflating: mallet-2.0.8/src/cc/mallet/types/DenseMatrix.java  \n",
            "  inflating: mallet-2.0.8/src/cc/mallet/types/DenseVector.java  \n",
            "  inflating: mallet-2.0.8/src/cc/mallet/types/Dirichlet.java  \n",
            "  inflating: mallet-2.0.8/src/cc/mallet/types/EuclideanDistance.java  \n",
            "  inflating: mallet-2.0.8/src/cc/mallet/types/ExpGain.java  \n",
            "  inflating: mallet-2.0.8/src/cc/mallet/types/FeatureConjunction.java  \n",
            "  inflating: mallet-2.0.8/src/cc/mallet/types/FeatureCounter.java  \n",
            "  inflating: mallet-2.0.8/src/cc/mallet/types/FeatureCounts.java  \n",
            "  inflating: mallet-2.0.8/src/cc/mallet/types/FeatureInducer.java  \n",
            "  inflating: mallet-2.0.8/src/cc/mallet/types/FeatureSelection.java  \n",
            "  inflating: mallet-2.0.8/src/cc/mallet/types/FeatureSelector.java  \n",
            "  inflating: mallet-2.0.8/src/cc/mallet/types/FeatureSequence.java  \n",
            "  inflating: mallet-2.0.8/src/cc/mallet/types/FeatureSequenceWithBigrams.java  \n",
            "  inflating: mallet-2.0.8/src/cc/mallet/types/FeatureVector.java  \n",
            "  inflating: mallet-2.0.8/src/cc/mallet/types/FeatureVectorSequence.java  \n",
            "  inflating: mallet-2.0.8/src/cc/mallet/types/GainRatio.java  \n",
            "  inflating: mallet-2.0.8/src/cc/mallet/types/GradientGain.java  \n",
            "  inflating: mallet-2.0.8/src/cc/mallet/types/HashedSparseVector.java  \n",
            "  inflating: mallet-2.0.8/src/cc/mallet/types/IDSorter.java  \n",
            "  inflating: mallet-2.0.8/src/cc/mallet/types/IndexedSparseVector.java  \n",
            "  inflating: mallet-2.0.8/src/cc/mallet/types/InfiniteDistance.java  \n",
            "  inflating: mallet-2.0.8/src/cc/mallet/types/InfoGain.java  \n",
            "  inflating: mallet-2.0.8/src/cc/mallet/types/Instance.java  \n",
            "  inflating: mallet-2.0.8/src/cc/mallet/types/InstanceList.java  \n",
            "  inflating: mallet-2.0.8/src/cc/mallet/types/InstanceListTUI.java  \n",
            "  inflating: mallet-2.0.8/src/cc/mallet/types/InvertedIndex.java  \n",
            "  inflating: mallet-2.0.8/src/cc/mallet/types/KLGain.java  \n",
            "  inflating: mallet-2.0.8/src/cc/mallet/types/Label.java  \n",
            "  inflating: mallet-2.0.8/src/cc/mallet/types/LabelAlphabet.java  \n",
            "  inflating: mallet-2.0.8/src/cc/mallet/types/Labeler.java  \n",
            "  inflating: mallet-2.0.8/src/cc/mallet/types/Labeling.java  \n",
            "  inflating: mallet-2.0.8/src/cc/mallet/types/Labelings.java  \n",
            "  inflating: mallet-2.0.8/src/cc/mallet/types/Labels.java  \n",
            "  inflating: mallet-2.0.8/src/cc/mallet/types/LabelSequence.java  \n",
            "  inflating: mallet-2.0.8/src/cc/mallet/types/LabelsSequence.java  \n",
            "  inflating: mallet-2.0.8/src/cc/mallet/types/LabelVector.java  \n",
            "  inflating: mallet-2.0.8/src/cc/mallet/types/LogNumber.java  \n",
            "  inflating: mallet-2.0.8/src/cc/mallet/types/ManhattenDistance.java  \n",
            "  inflating: mallet-2.0.8/src/cc/mallet/types/Matrix.java  \n",
            "  inflating: mallet-2.0.8/src/cc/mallet/types/Matrix2.java  \n",
            "  inflating: mallet-2.0.8/src/cc/mallet/types/Matrixn.java  \n",
            "  inflating: mallet-2.0.8/src/cc/mallet/types/MatrixOps.java  \n",
            "  inflating: mallet-2.0.8/src/cc/mallet/types/Metric.java  \n",
            "  inflating: mallet-2.0.8/src/cc/mallet/types/Minkowski.java  \n",
            "  inflating: mallet-2.0.8/src/cc/mallet/types/MultiInstanceList.java  \n",
            "  inflating: mallet-2.0.8/src/cc/mallet/types/Multinomial.java  \n",
            "  inflating: mallet-2.0.8/src/cc/mallet/types/NormalizedDotProductMetric.java  \n",
            "  inflating: mallet-2.0.8/src/cc/mallet/types/NullLabel.java  \n",
            "  inflating: mallet-2.0.8/src/cc/mallet/types/package.html  \n",
            "  inflating: mallet-2.0.8/src/cc/mallet/types/PagedInstanceList.java  \n",
            "  inflating: mallet-2.0.8/src/cc/mallet/types/PartiallyRankedFeatureVector.java  \n",
            "  inflating: mallet-2.0.8/src/cc/mallet/types/PerLabelFeatureCounts.java  \n",
            "  inflating: mallet-2.0.8/src/cc/mallet/types/PerLabelInfoGain.java  \n",
            "  inflating: mallet-2.0.8/src/cc/mallet/types/PropertyHolder.java  \n",
            "  inflating: mallet-2.0.8/src/cc/mallet/types/RankedFeatureVector.java  \n",
            "  inflating: mallet-2.0.8/src/cc/mallet/types/ROCData.java  \n",
            "  inflating: mallet-2.0.8/src/cc/mallet/types/Sequence.java  \n",
            "  inflating: mallet-2.0.8/src/cc/mallet/types/SequencePair.java  \n",
            "  inflating: mallet-2.0.8/src/cc/mallet/types/SequencePairAlignment.java  \n",
            "  inflating: mallet-2.0.8/src/cc/mallet/types/SingleInstanceIterator.java  \n",
            "  inflating: mallet-2.0.8/src/cc/mallet/types/SparseMatrixn.java  \n",
            "  inflating: mallet-2.0.8/src/cc/mallet/types/SparseVector.java  \n",
            "  inflating: mallet-2.0.8/src/cc/mallet/types/StringEditFeatureVectorSequence.java  \n",
            "  inflating: mallet-2.0.8/src/cc/mallet/types/StringEditVector.java  \n",
            "  inflating: mallet-2.0.8/src/cc/mallet/types/StringKernel.java  \n",
            "   creating: mallet-2.0.8/src/cc/mallet/types/tests/\n",
            "  inflating: mallet-2.0.8/src/cc/mallet/types/tests/package.html  \n",
            "  inflating: mallet-2.0.8/src/cc/mallet/types/tests/TestAlphabet.java  \n",
            "  inflating: mallet-2.0.8/src/cc/mallet/types/tests/TestAugmentableFeatureVector.java  \n",
            "  inflating: mallet-2.0.8/src/cc/mallet/types/tests/TestBiNormalSeparation.java  \n",
            "  inflating: mallet-2.0.8/src/cc/mallet/types/tests/TestFeatureSequence.java  \n",
            "  inflating: mallet-2.0.8/src/cc/mallet/types/tests/TestFeatureVector.java  \n",
            "  inflating: mallet-2.0.8/src/cc/mallet/types/tests/TestHashedSparseVector.java  \n",
            "  inflating: mallet-2.0.8/src/cc/mallet/types/tests/TestIndexedSparseVector.java  \n",
            "  inflating: mallet-2.0.8/src/cc/mallet/types/tests/TestInstanceListWeights.java  \n",
            "  inflating: mallet-2.0.8/src/cc/mallet/types/tests/TestLabelAlphabet.java  \n",
            "  inflating: mallet-2.0.8/src/cc/mallet/types/tests/TestLabelsSequence.java  \n",
            "  inflating: mallet-2.0.8/src/cc/mallet/types/tests/TestLabelVector.java  \n",
            "  inflating: mallet-2.0.8/src/cc/mallet/types/tests/TestMatrix.java  \n",
            "  inflating: mallet-2.0.8/src/cc/mallet/types/tests/TestMatrixn.java  \n",
            "  inflating: mallet-2.0.8/src/cc/mallet/types/tests/TestMultinomial.java  \n",
            "  inflating: mallet-2.0.8/src/cc/mallet/types/tests/TestPagedInstanceList.java  \n",
            "  inflating: mallet-2.0.8/src/cc/mallet/types/tests/TestRankedFeatureVector.java  \n",
            "  inflating: mallet-2.0.8/src/cc/mallet/types/tests/TestSerializable.java  \n",
            "  inflating: mallet-2.0.8/src/cc/mallet/types/tests/TestSparseMatrixn.java  \n",
            "  inflating: mallet-2.0.8/src/cc/mallet/types/tests/TestSparseVector.java  \n",
            "  inflating: mallet-2.0.8/src/cc/mallet/types/tests/TestToken.java  \n",
            "  inflating: mallet-2.0.8/src/cc/mallet/types/Token.java  \n",
            "  inflating: mallet-2.0.8/src/cc/mallet/types/TokenSequence.java  \n",
            "  inflating: mallet-2.0.8/src/cc/mallet/types/Vector.java  \n",
            "   creating: mallet-2.0.8/src/cc/mallet/util/\n",
            "  inflating: mallet-2.0.8/src/cc/mallet/util/Addable.java  \n",
            "  inflating: mallet-2.0.8/src/cc/mallet/util/ArrayListUtils.java  \n",
            "  inflating: mallet-2.0.8/src/cc/mallet/util/ArrayUtils.java  \n",
            "  inflating: mallet-2.0.8/src/cc/mallet/util/BshInterpreter.java  \n",
            "  inflating: mallet-2.0.8/src/cc/mallet/util/BulkLoader.java  \n",
            "  inflating: mallet-2.0.8/src/cc/mallet/util/CharSequenceLexer.java  \n",
            "  inflating: mallet-2.0.8/src/cc/mallet/util/CollectionUtils.java  \n",
            "  inflating: mallet-2.0.8/src/cc/mallet/util/ColorUtils.java  \n",
            "  inflating: mallet-2.0.8/src/cc/mallet/util/CommandOption.java  \n",
            "  inflating: mallet-2.0.8/src/cc/mallet/util/DBBulkLoader.java  \n",
            "  inflating: mallet-2.0.8/src/cc/mallet/util/DBInstanceStore.java  \n",
            "  inflating: mallet-2.0.8/src/cc/mallet/util/DirectoryFilter.java  \n",
            "  inflating: mallet-2.0.8/src/cc/mallet/util/DocumentLengths.java  \n",
            "  inflating: mallet-2.0.8/src/cc/mallet/util/DoubleList.java  \n",
            "  inflating: mallet-2.0.8/src/cc/mallet/util/FeatureCooccurrenceCounter.java  \n",
            "  inflating: mallet-2.0.8/src/cc/mallet/util/FeatureCountTool.java  \n",
            "  inflating: mallet-2.0.8/src/cc/mallet/util/FileUtils.java  \n",
            "  inflating: mallet-2.0.8/src/cc/mallet/util/InstanceListPrinter.java  \n",
            "  inflating: mallet-2.0.8/src/cc/mallet/util/IoUtils.java  \n",
            "  inflating: mallet-2.0.8/src/cc/mallet/util/Lexer.java  \n",
            "  inflating: mallet-2.0.8/src/cc/mallet/util/MalletLogger.java  \n",
            "  inflating: mallet-2.0.8/src/cc/mallet/util/MalletProgressMessageLogger.java  \n",
            "  inflating: mallet-2.0.8/src/cc/mallet/util/Maths.java  \n",
            "  inflating: mallet-2.0.8/src/cc/mallet/util/MVNormal.java  \n",
            "  inflating: mallet-2.0.8/src/cc/mallet/util/package.html  \n",
            "  inflating: mallet-2.0.8/src/cc/mallet/util/PlainLogFormatter.java  \n",
            "  inflating: mallet-2.0.8/src/cc/mallet/util/PrintUtilities.java  \n",
            "  inflating: mallet-2.0.8/src/cc/mallet/util/ProgressMessageLogFormatter.java  \n",
            "  inflating: mallet-2.0.8/src/cc/mallet/util/ProgressMessageLogRecord.java  \n",
            "  inflating: mallet-2.0.8/src/cc/mallet/util/PropertyList.java  \n",
            "  inflating: mallet-2.0.8/src/cc/mallet/util/Randoms.java  \n",
            "  inflating: mallet-2.0.8/src/cc/mallet/util/RegexFileFilter.java  \n",
            "  inflating: mallet-2.0.8/src/cc/mallet/util/Replacement.java  \n",
            "  inflating: mallet-2.0.8/src/cc/mallet/util/Replacer.java  \n",
            "   creating: mallet-2.0.8/src/cc/mallet/util/resources/\n",
            "  inflating: mallet-2.0.8/src/cc/mallet/util/resources/logging.properties  \n",
            "   creating: mallet-2.0.8/src/cc/mallet/util/resources/wn/\n",
            "  inflating: mallet-2.0.8/src/cc/mallet/util/resources/wn/database_properties.xml  \n",
            "  inflating: mallet-2.0.8/src/cc/mallet/util/resources/wn/Examples.java  \n",
            "  inflating: mallet-2.0.8/src/cc/mallet/util/resources/wn/file_properties.xml  \n",
            "  inflating: mallet-2.0.8/src/cc/mallet/util/resources/wn/jwnl-properties.xml  \n",
            "  inflating: mallet-2.0.8/src/cc/mallet/util/resources/wn/jwnl_properties.dtd  \n",
            "  inflating: mallet-2.0.8/src/cc/mallet/util/resources/wn/jwnl_properties.xsd  \n",
            "  inflating: mallet-2.0.8/src/cc/mallet/util/resources/wn/map_properties.xml  \n",
            "  inflating: mallet-2.0.8/src/cc/mallet/util/resources/wn/README  \n",
            "   creating: mallet-2.0.8/src/cc/mallet/util/search/\n",
            "  inflating: mallet-2.0.8/src/cc/mallet/util/search/AStar.java  \n",
            "  inflating: mallet-2.0.8/src/cc/mallet/util/search/AStarNode.java  \n",
            "  inflating: mallet-2.0.8/src/cc/mallet/util/search/AStarState.java  \n",
            "  inflating: mallet-2.0.8/src/cc/mallet/util/search/MinHeap.java  \n",
            "  inflating: mallet-2.0.8/src/cc/mallet/util/search/PriorityQueue.java  \n",
            "  inflating: mallet-2.0.8/src/cc/mallet/util/search/QueueElement.java  \n",
            "  inflating: mallet-2.0.8/src/cc/mallet/util/search/SearchNode.java  \n",
            "  inflating: mallet-2.0.8/src/cc/mallet/util/search/SearchState.java  \n",
            "  inflating: mallet-2.0.8/src/cc/mallet/util/Sequences.java  \n",
            "  inflating: mallet-2.0.8/src/cc/mallet/util/StatFunctions.java  \n",
            "  inflating: mallet-2.0.8/src/cc/mallet/util/Strings.java  \n",
            "   creating: mallet-2.0.8/src/cc/mallet/util/tests/\n",
            "  inflating: mallet-2.0.8/src/cc/mallet/util/tests/package.html  \n",
            "  inflating: mallet-2.0.8/src/cc/mallet/util/tests/TestAStar.java  \n",
            "  inflating: mallet-2.0.8/src/cc/mallet/util/tests/TestMaths.java  \n",
            "  inflating: mallet-2.0.8/src/cc/mallet/util/tests/TestPriorityQueue.java  \n",
            "  inflating: mallet-2.0.8/src/cc/mallet/util/tests/TestPropertyList.java  \n",
            "  inflating: mallet-2.0.8/src/cc/mallet/util/tests/TestRandom.java  \n",
            "  inflating: mallet-2.0.8/src/cc/mallet/util/tests/TestStrings.java  \n",
            "  inflating: mallet-2.0.8/src/cc/mallet/util/Timing.java  \n",
            "  inflating: mallet-2.0.8/src/cc/mallet/util/Univariate.java  \n",
            "  inflating: mallet-2.0.8/src/cc/mallet/util/UriUtils.java  \n",
            "  inflating: mallet-2.0.8/src/cc/mallet/util/VectorStats.java  \n",
            "   creating: mallet-2.0.8/stoplists/\n",
            "  inflating: mallet-2.0.8/stoplists/de.txt  \n",
            "  inflating: mallet-2.0.8/stoplists/en.txt  \n",
            "  inflating: mallet-2.0.8/stoplists/fi.txt  \n",
            "  inflating: mallet-2.0.8/stoplists/fr.txt  \n",
            "  inflating: mallet-2.0.8/stoplists/jp.txt  \n",
            "  inflating: mallet-2.0.8/stoplists/README  \n",
            "   creating: mallet-2.0.8/test/\n"
          ],
          "name": "stdout"
        }
      ]
    },
    {
      "cell_type": "code",
      "metadata": {
        "id": "XD1MaCjRfKOs",
        "colab_type": "code",
        "colab": {}
      },
      "source": [
        "os.environ['MALLET_HOME'] = '/content/mallet-2.0.8'\n",
        "mallet_path = '/content/mallet-2.0.8/bin/mallet'"
      ],
      "execution_count": 0,
      "outputs": []
    },
    {
      "cell_type": "code",
      "metadata": {
        "id": "Fr1F0QNdOxy3",
        "colab_type": "code",
        "colab": {}
      },
      "source": [
        "#Gensim installation\n",
        "import gensim\n",
        "from gensim.test.utils import common_corpus, common_dictionary\n",
        "from gensim import corpora, models\n",
        "from gensim.models.wrappers import LdaMallet"
      ],
      "execution_count": 0,
      "outputs": []
    },
    {
      "cell_type": "markdown",
      "metadata": {
        "id": "530LX-OLRDcP",
        "colab_type": "text"
      },
      "source": [
        "## 2.1 Preliminary steps to run LDA"
      ]
    },
    {
      "cell_type": "markdown",
      "metadata": {
        "id": "GZlLjmvsQAMy",
        "colab_type": "text"
      },
      "source": [
        "### 2.1.1 Bag of words"
      ]
    },
    {
      "cell_type": "code",
      "metadata": {
        "id": "UzxS5Q3aQ7mh",
        "colab_type": "code",
        "colab": {}
      },
      "source": [
        "# dataset = [d.split() for d in lemmatized_corpus] (this is not useful if lemmatized version is used)\n",
        "# Create Dictionary\n",
        "# change \"lemmatized_corpus\" variable by stemmed_corpus or tokenized_corpus_without_sw depending\n",
        "# on which version you would like to work with \n",
        "id2word = corpora.Dictionary(lemmatized_corpus)\n",
        "corpus = [id2word.doc2bow(text) for text in lemmatized_corpus]"
      ],
      "execution_count": 0,
      "outputs": []
    },
    {
      "cell_type": "code",
      "metadata": {
        "id": "-PHLCiEIT1Fn",
        "colab_type": "code",
        "colab": {}
      },
      "source": [
        "# create a human friendly view of term frequency list\n",
        "# I leave the line below for testing purposes\n",
        "# [[(id2word[id], freq) for id, freq in cp] for cp in corpus[:1000]]"
      ],
      "execution_count": 0,
      "outputs": []
    },
    {
      "cell_type": "code",
      "metadata": {
        "id": "wvegwXHIWZN6",
        "colab_type": "code",
        "colab": {}
      },
      "source": [
        "# list of words and frequency\n",
        "words = []\n",
        "frequency = []\n",
        "\n",
        "for cp in corpus:\n",
        "  word_id = list(cp[0])[0]\n",
        "  words.append(id2word[list(cp[0])[0]])\n",
        "  frequency.append(list(cp[0])[1])"
      ],
      "execution_count": 0,
      "outputs": []
    },
    {
      "cell_type": "code",
      "metadata": {
        "id": "lw70h9lUcPu5",
        "colab_type": "code",
        "colab": {}
      },
      "source": [
        "#testing\n",
        "#for cp in corpus[:10]:\n",
        "#  word_id = list(cp[0])[0]\n",
        "#  print (id2word[list(cp[0])[0]])\n",
        "#  print (list(cp[0])[1])"
      ],
      "execution_count": 0,
      "outputs": []
    },
    {
      "cell_type": "code",
      "metadata": {
        "id": "be9fXHn7Uqb6",
        "colab_type": "code",
        "colab": {}
      },
      "source": [
        "words_frequency = pd.DataFrame(list(zip(words, frequency)), columns=['word', 'frequency'])"
      ],
      "execution_count": 0,
      "outputs": []
    },
    {
      "cell_type": "code",
      "metadata": {
        "id": "m67ylcqwaQbd",
        "colab_type": "code",
        "outputId": "d5d48ca7-e6fa-434e-cc24-4e3a9bb3178e",
        "colab": {
          "base_uri": "https://localhost:8080/",
          "height": 359
        }
      },
      "source": [
        "# sort descending\n",
        "words_frequency.sort_values(by=['frequency'], ascending=False)[:10]\n",
        "# I think it gives the frequency on a per document basis (further testing needed)"
      ],
      "execution_count": 0,
      "outputs": [
        {
          "output_type": "execute_result",
          "data": {
            "text/html": [
              "<div>\n",
              "<style scoped>\n",
              "    .dataframe tbody tr th:only-of-type {\n",
              "        vertical-align: middle;\n",
              "    }\n",
              "\n",
              "    .dataframe tbody tr th {\n",
              "        vertical-align: top;\n",
              "    }\n",
              "\n",
              "    .dataframe thead th {\n",
              "        text-align: right;\n",
              "    }\n",
              "</style>\n",
              "<table border=\"1\" class=\"dataframe\">\n",
              "  <thead>\n",
              "    <tr style=\"text-align: right;\">\n",
              "      <th></th>\n",
              "      <th>word</th>\n",
              "      <th>frequency</th>\n",
              "    </tr>\n",
              "  </thead>\n",
              "  <tbody>\n",
              "    <tr>\n",
              "      <th>83</th>\n",
              "      <td>1903</td>\n",
              "      <td>5</td>\n",
              "    </tr>\n",
              "    <tr>\n",
              "      <th>45</th>\n",
              "      <td>altro</td>\n",
              "      <td>3</td>\n",
              "    </tr>\n",
              "    <tr>\n",
              "      <th>78</th>\n",
              "      <td>1903</td>\n",
              "      <td>3</td>\n",
              "    </tr>\n",
              "    <tr>\n",
              "      <th>60</th>\n",
              "      <td>alcun</td>\n",
              "      <td>3</td>\n",
              "    </tr>\n",
              "    <tr>\n",
              "      <th>19</th>\n",
              "      <td>accompagnare</td>\n",
              "      <td>3</td>\n",
              "    </tr>\n",
              "    <tr>\n",
              "      <th>15</th>\n",
              "      <td>1903</td>\n",
              "      <td>2</td>\n",
              "    </tr>\n",
              "    <tr>\n",
              "      <th>77</th>\n",
              "      <td>accompagnare</td>\n",
              "      <td>2</td>\n",
              "    </tr>\n",
              "    <tr>\n",
              "      <th>80</th>\n",
              "      <td>accompagnare</td>\n",
              "      <td>2</td>\n",
              "    </tr>\n",
              "    <tr>\n",
              "      <th>67</th>\n",
              "      <td>1903</td>\n",
              "      <td>2</td>\n",
              "    </tr>\n",
              "    <tr>\n",
              "      <th>86</th>\n",
              "      <td>accompagnare</td>\n",
              "      <td>2</td>\n",
              "    </tr>\n",
              "  </tbody>\n",
              "</table>\n",
              "</div>"
            ],
            "text/plain": [
              "            word  frequency\n",
              "83          1903          5\n",
              "45         altro          3\n",
              "78          1903          3\n",
              "60         alcun          3\n",
              "19  accompagnare          3\n",
              "15          1903          2\n",
              "77  accompagnare          2\n",
              "80  accompagnare          2\n",
              "67          1903          2\n",
              "86  accompagnare          2"
            ]
          },
          "metadata": {
            "tags": []
          },
          "execution_count": 75
        }
      ]
    },
    {
      "cell_type": "markdown",
      "metadata": {
        "id": "XQfodG72QFuB",
        "colab_type": "text"
      },
      "source": [
        "### 2.1.2 TFIDF"
      ]
    },
    {
      "cell_type": "code",
      "metadata": {
        "id": "BVEwQ1CyG_7l",
        "colab_type": "code",
        "colab": {}
      },
      "source": [
        "# optional\n",
        "# TFIDF for better performance\n",
        "# https://en.wikipedia.org/wiki/Tf–idf / \n",
        "# https://rare-technologies.com/pivoted-document-length-normalisation/\n",
        "\n",
        "tfidf = models.TfidfModel(corpus)\n",
        "corpus_tfidf = tfidf[corpus]"
      ],
      "execution_count": 0,
      "outputs": []
    },
    {
      "cell_type": "markdown",
      "metadata": {
        "id": "qadtU7aTQMqg",
        "colab_type": "text"
      },
      "source": [
        "## 2.2 LDA"
      ]
    },
    {
      "cell_type": "code",
      "metadata": {
        "id": "eLzvb_yC9nyo",
        "colab_type": "code",
        "colab": {}
      },
      "source": [
        "# set the number of topics here\n",
        "numtopics = 5"
      ],
      "execution_count": 0,
      "outputs": []
    },
    {
      "cell_type": "markdown",
      "metadata": {
        "id": "9u-BK_TCCRV1",
        "colab_type": "text"
      },
      "source": [
        "### 2.2.1 LDA with Gensim and without TFIDF"
      ]
    },
    {
      "cell_type": "code",
      "metadata": {
        "id": "7ODvMbxSCQh_",
        "colab_type": "code",
        "colab": {}
      },
      "source": [
        "ldagensim = models.LdaModel(corpus, id2word=id2word, num_topics=numtopics)"
      ],
      "execution_count": 0,
      "outputs": []
    },
    {
      "cell_type": "code",
      "metadata": {
        "id": "FLfpXjulCcS4",
        "colab_type": "code",
        "outputId": "a076dec5-b5fe-4f7f-ae29-35af31183972",
        "colab": {
          "base_uri": "https://localhost:8080/",
          "height": 207
        }
      },
      "source": [
        "ldagensim.print_topics()"
      ],
      "execution_count": 0,
      "outputs": [
        {
          "output_type": "execute_result",
          "data": {
            "text/plain": [
              "[(0,\n",
              "  '0.008*\"italiano\" + 0.003*\"dispaccio\" + 0.003*\"italia\" + 0.003*\"potere\" + 0.003*\"telegrafico\" + 0.003*\"venire\" + 0.003*\"daily\" + 0.002*\"roma\" + 0.002*\"giornale\" + 0.002*\"cardinale\"'),\n",
              " (1,\n",
              "  '0.006*\"italiano\" + 0.004*\"italia\" + 0.004*\"roma\" + 0.004*\"dispaccio\" + 0.003*\"potere\" + 0.003*\"telegrafico\" + 0.003*\"daily\" + 0.002*\"venire\" + 0.002*\"giornale\" + 0.002*\"nuovo\"'),\n",
              " (2,\n",
              "  '0.011*\"italiano\" + 0.005*\"italia\" + 0.004*\"roma\" + 0.004*\"dispaccio\" + 0.003*\"telegrafico\" + 0.003*\"venire\" + 0.003*\"giornale\" + 0.003*\"daily\" + 0.002*\"potere\" + 0.002*\"cardinale\"'),\n",
              " (3,\n",
              "  '0.004*\"italiano\" + 0.003*\"roma\" + 0.003*\"italia\" + 0.003*\"telegrafico\" + 0.003*\"dispaccio\" + 0.002*\"cardinale\" + 0.002*\"daily\" + 0.002*\"venire\" + 0.002*\"potere\" + 0.002*\"giornale\"'),\n",
              " (4,\n",
              "  '0.007*\"italiano\" + 0.004*\"dispaccio\" + 0.003*\"italia\" + 0.003*\"potere\" + 0.003*\"telegrafico\" + 0.003*\"roma\" + 0.003*\"venire\" + 0.003*\"giornale\" + 0.003*\"cardinale\" + 0.002*\"americano\"')]"
            ]
          },
          "metadata": {
            "tags": []
          },
          "execution_count": 89
        }
      ]
    },
    {
      "cell_type": "markdown",
      "metadata": {
        "id": "MVTTfNMqQRUV",
        "colab_type": "text"
      },
      "source": [
        "### 2.2.2 LDA with Gensim and TFIDF\n",
        "\n"
      ]
    },
    {
      "cell_type": "code",
      "metadata": {
        "id": "Q0cX9FbxEPno",
        "colab_type": "code",
        "colab": {}
      },
      "source": [
        "ldagensim_tfidf = models.LdaModel(corpus_tfidf, id2word=id2word, num_topics=numtopics)"
      ],
      "execution_count": 0,
      "outputs": []
    },
    {
      "cell_type": "code",
      "metadata": {
        "id": "WZyZcVw9E6bu",
        "colab_type": "code",
        "outputId": "c0686fdb-173a-4b53-9c5c-e6554e7504ba",
        "colab": {
          "base_uri": "https://localhost:8080/",
          "height": 207
        }
      },
      "source": [
        "ldagensim_tfidf.print_topics()"
      ],
      "execution_count": 0,
      "outputs": [
        {
          "output_type": "execute_result",
          "data": {
            "text/plain": [
              "[(0,\n",
              "  '0.000*\"cardinale\" + 0.000*\"ebreo\" + 0.000*\"black\" + 0.000*\"marconi\" + 0.000*\"mayor\" + 0.000*\"diamond\" + 0.000*\"maggio\" + 0.000*\"serbia\" + 0.000*\"lavoratore\" + 0.000*\"conclave\"'),\n",
              " (1,\n",
              "  '0.000*\"cardinale\" + 0.000*\"text\" + 0.000*\"available\" + 0.000*\"papa\" + 0.000*\"xiii\" + 0.000*\"leone\" + 0.000*\"conclave\" + 0.000*\"pontefice\" + 0.000*\"oreglia\" + 0.000*\"riduzione\"'),\n",
              " (2,\n",
              "  '0.000*\"marconi\" + 0.000*\"cardinale\" + 0.000*\"maggio\" + 0.000*\"conclave\" + 0.000*\"terno\" + 0.000*\"socialisto\" + 0.000*\"ferro\" + 0.000*\"pietro\" + 0.000*\"tolstoi\" + 0.000*\"papa\"'),\n",
              " (3,\n",
              "  '0.000*\"cardinale\" + 0.000*\"leone\" + 0.000*\"xiii\" + 0.000*\"marconi\" + 0.000*\"serbia\" + 0.000*\"papa\" + 0.000*\"conclave\" + 0.000*\"pontefice\" + 0.000*\"francia\" + 0.000*\"alessandro\"'),\n",
              " (4,\n",
              "  '0.000*\"cardinale\" + 0.000*\"marconi\" + 0.000*\"black\" + 0.000*\"diamond\" + 0.000*\"tolstoi\" + 0.000*\"california\" + 0.000*\"serbia\" + 0.000*\"immigrare\" + 0.000*\"guglielmo\" + 0.000*\"roosevelt\"')]"
            ]
          },
          "metadata": {
            "tags": []
          },
          "execution_count": 91
        }
      ]
    },
    {
      "cell_type": "markdown",
      "metadata": {
        "id": "jMh299U-Qowi",
        "colab_type": "text"
      },
      "source": [
        "### 2.2.3 LDA with Mallet, without TFIDF"
      ]
    },
    {
      "cell_type": "code",
      "metadata": {
        "id": "TNMEMY3LaQQ-",
        "colab_type": "code",
        "outputId": "cab42d6f-323a-4b4a-c532-bebcafa9a092",
        "colab": {
          "base_uri": "https://localhost:8080/",
          "height": 71
        }
      },
      "source": [
        "ldamallet = gensim.models.wrappers.LdaMallet(mallet_path, corpus=corpus, num_topics=numtopics, id2word=id2word)"
      ],
      "execution_count": 0,
      "outputs": [
        {
          "output_type": "stream",
          "text": [
            "/usr/local/lib/python3.6/dist-packages/smart_open/smart_open_lib.py:253: UserWarning: This function is deprecated, use smart_open.open instead. See the migration notes for details: https://github.com/RaRe-Technologies/smart_open/blob/master/README.rst#migrating-to-the-new-open-function\n",
            "  'See the migration notes for details: %s' % _MIGRATION_NOTES_URL\n"
          ],
          "name": "stderr"
        }
      ]
    },
    {
      "cell_type": "code",
      "metadata": {
        "id": "I7VpXA0cahdM",
        "colab_type": "code",
        "outputId": "83ac8f64-bda4-46cd-a14c-e28ea6172f20",
        "colab": {
          "base_uri": "https://localhost:8080/",
          "height": 207
        }
      },
      "source": [
        "ldamallet.print_topics()"
      ],
      "execution_count": 0,
      "outputs": [
        {
          "output_type": "execute_result",
          "data": {
            "text/plain": [
              "[(0,\n",
              "  '0.015*\"cardinale\" + 0.012*\"papa\" + 0.010*\"roma\" + 0.009*\"italiano\" + 0.006*\"chiesa\" + 0.006*\"pontefice\" + 0.006*\"vaticano\" + 0.005*\"nome\" + 0.005*\"leone\" + 0.005*\"venire\"'),\n",
              " (1,\n",
              "  '0.008*\"leggere\" + 0.008*\"potere\" + 0.006*\"dovere\" + 0.005*\"società\" + 0.005*\"popolare\" + 0.005*\"passare\" + 0.004*\"credere\" + 0.004*\"perchè\" + 0.004*\"nuovo\" + 0.004*\"diritto\"'),\n",
              " (2,\n",
              "  '0.011*\"dispaccio\" + 0.007*\"telegrafico\" + 0.006*\"parigi\" + 0.006*\"giugno\" + 0.005*\"pubblico\" + 0.005*\"venire\" + 0.005*\"ufficiale\" + 0.004*\"rimanere\" + 0.004*\"notizia\" + 0.004*\"dire\"'),\n",
              " (3,\n",
              "  '0.021*\"italiano\" + 0.012*\"italia\" + 0.007*\"potere\" + 0.007*\"york\" + 0.005*\"dare\" + 0.005*\"unito\" + 0.005*\"grande\" + 0.005*\"pubblicare\" + 0.005*\"americano\" + 0.005*\"operare\"'),\n",
              " (4,\n",
              "  '0.012*\"italiano\" + 0.009*\"dispaccio\" + 0.009*\"giornale\" + 0.008*\"roma\" + 0.007*\"telegrafico\" + 0.007*\"daily\" + 0.006*\"maggio\" + 0.005*\"gran\" + 0.005*\"italia\" + 0.005*\"presidente\"')]"
            ]
          },
          "metadata": {
            "tags": []
          },
          "execution_count": 81
        }
      ]
    },
    {
      "cell_type": "markdown",
      "metadata": {
        "id": "uUkbiYBhRCUr",
        "colab_type": "text"
      },
      "source": [
        "### 2.2.4 LDA with Mallet with TFIDF"
      ]
    },
    {
      "cell_type": "code",
      "metadata": {
        "id": "azYf-I5C_bfF",
        "colab_type": "code",
        "colab": {}
      },
      "source": [
        "# !Apparently this approach doesn't work with the Mallet wrapper\n",
        "# https://groups.google.com/forum/#!topic/gensim/XDcdzM9vtmQ"
      ],
      "execution_count": 0,
      "outputs": []
    },
    {
      "cell_type": "code",
      "metadata": {
        "id": "AM8DYkIcHbFJ",
        "colab_type": "code",
        "outputId": "d0d85c90-9224-4ec0-f276-56cbf346a1fe",
        "colab": {
          "base_uri": "https://localhost:8080/",
          "height": 71
        }
      },
      "source": [
        "ldamallet_tfidf = gensim.models.wrappers.LdaMallet(mallet_path, corpus=corpus_tfidf, num_topics=numtopics, id2word=id2word)"
      ],
      "execution_count": 0,
      "outputs": [
        {
          "output_type": "stream",
          "text": [
            "/usr/local/lib/python3.6/dist-packages/smart_open/smart_open_lib.py:253: UserWarning: This function is deprecated, use smart_open.open instead. See the migration notes for details: https://github.com/RaRe-Technologies/smart_open/blob/master/README.rst#migrating-to-the-new-open-function\n",
            "  'See the migration notes for details: %s' % _MIGRATION_NOTES_URL\n"
          ],
          "name": "stderr"
        }
      ]
    },
    {
      "cell_type": "code",
      "metadata": {
        "id": "E8ClswTsHkEW",
        "colab_type": "code",
        "outputId": "e76d2e18-e312-43ef-8701-2b0e22fe599d",
        "colab": {
          "base_uri": "https://localhost:8080/",
          "height": 241
        }
      },
      "source": [
        "ldamallet_tfidf.print_topics()"
      ],
      "execution_count": 0,
      "outputs": [
        {
          "output_type": "stream",
          "text": [
            "/usr/local/lib/python3.6/dist-packages/gensim/models/wrappers/ldamallet.py:442: RuntimeWarning: invalid value encountered in true_divide\n",
            "  topic = topic / topic.sum()  # normalize to probability dist\n"
          ],
          "name": "stderr"
        },
        {
          "output_type": "execute_result",
          "data": {
            "text/plain": [
              "[(0,\n",
              "  'nan*\"parecehl\" + nan*\"partiiolarl\" + nan*\"orric\" + nan*\"pagr8\" + nan*\"paikret\" + nan*\"pareatl\" + nan*\"ornala\" + nan*\"peraio\" + nan*\"pauisimn\" + nan*\"onnipo\"'),\n",
              " (1,\n",
              "  'nan*\"parecehl\" + nan*\"partiiolarl\" + nan*\"orric\" + nan*\"pagr8\" + nan*\"paikret\" + nan*\"pareatl\" + nan*\"ornala\" + nan*\"peraio\" + nan*\"pauisimn\" + nan*\"onnipo\"'),\n",
              " (2,\n",
              "  'nan*\"parecehl\" + nan*\"partiiolarl\" + nan*\"orric\" + nan*\"pagr8\" + nan*\"paikret\" + nan*\"pareatl\" + nan*\"ornala\" + nan*\"peraio\" + nan*\"pauisimn\" + nan*\"onnipo\"'),\n",
              " (3,\n",
              "  'nan*\"parecehl\" + nan*\"partiiolarl\" + nan*\"orric\" + nan*\"pagr8\" + nan*\"paikret\" + nan*\"pareatl\" + nan*\"ornala\" + nan*\"peraio\" + nan*\"pauisimn\" + nan*\"onnipo\"'),\n",
              " (4,\n",
              "  'nan*\"parecehl\" + nan*\"partiiolarl\" + nan*\"orric\" + nan*\"pagr8\" + nan*\"paikret\" + nan*\"pareatl\" + nan*\"ornala\" + nan*\"peraio\" + nan*\"pauisimn\" + nan*\"onnipo\"')]"
            ]
          },
          "metadata": {
            "tags": []
          },
          "execution_count": 83
        }
      ]
    },
    {
      "cell_type": "markdown",
      "metadata": {
        "id": "SSL1PF6zRcft",
        "colab_type": "text"
      },
      "source": [
        "## 2.3 Topic Coherence\n",
        "Topic Coherence measures score of a single topic by measuring the degree of semantic similarity between high scoring words in the topic. https://towardsdatascience.com/evaluate-topic-model-in-python-latent-dirichlet-allocation-lda-7d57484bb5d0"
      ]
    },
    {
      "cell_type": "code",
      "metadata": {
        "id": "GX69kVo-ssrV",
        "colab_type": "code",
        "colab": {}
      },
      "source": [
        "from gensim.models.coherencemodel import CoherenceModel"
      ],
      "execution_count": 0,
      "outputs": []
    },
    {
      "cell_type": "markdown",
      "metadata": {
        "id": "JrAOlaIXSUvb",
        "colab_type": "text"
      },
      "source": [
        "### 2.3.1 Coherence score LDA Gensim without TFIDF"
      ]
    },
    {
      "cell_type": "code",
      "metadata": {
        "id": "XVMfqVqZSbeJ",
        "colab_type": "code",
        "outputId": "6dd6b7f9-345f-4f02-afbd-fa2d0a16845a",
        "colab": {
          "base_uri": "https://localhost:8080/",
          "height": 51
        }
      },
      "source": [
        "coherence_model_ldagensim = CoherenceModel(model=ldagensim, texts=lemmatized_corpus, dictionary=id2word, coherence='c_v')\n",
        "coherence_ldagensim = coherence_model_ldagensim.get_coherence()\n",
        "print('\\nCoherence Score LDA Gensim: ', coherence_ldagensim)"
      ],
      "execution_count": 0,
      "outputs": [
        {
          "output_type": "stream",
          "text": [
            "\n",
            "Coherence Score LDA Gensim:  0.45713168419834027\n"
          ],
          "name": "stdout"
        }
      ]
    },
    {
      "cell_type": "markdown",
      "metadata": {
        "id": "k3wzqWkkC0nW",
        "colab_type": "text"
      },
      "source": [
        "### 2.3.2 Coherence score LDA Gensim with TFIDF"
      ]
    },
    {
      "cell_type": "code",
      "metadata": {
        "id": "CD1B12bPC8mW",
        "colab_type": "code",
        "outputId": "aecbf903-7a0a-49de-f8a4-2d24c7d1638d",
        "colab": {
          "base_uri": "https://localhost:8080/",
          "height": 51
        }
      },
      "source": [
        "coherence_model_ldagensim_tfidf = CoherenceModel(model=ldagensim_tfidf, texts=lemmatized_corpus, dictionary=id2word, coherence='c_v')\n",
        "coherence_ldagensim_tfidf = coherence_model_ldagensim_tfidf.get_coherence()\n",
        "print('\\nCoherence Score LDA Gensim TFIDF: ', coherence_ldagensim_tfidf)"
      ],
      "execution_count": 0,
      "outputs": [
        {
          "output_type": "stream",
          "text": [
            "\n",
            "Coherence Score LDA Gensim TFIDF:  0.39283971724985467\n"
          ],
          "name": "stdout"
        }
      ]
    },
    {
      "cell_type": "markdown",
      "metadata": {
        "id": "9S5nI7YiSACT",
        "colab_type": "text"
      },
      "source": [
        "### 2.3.1 Coherence score LDA Mallet\n"
      ]
    },
    {
      "cell_type": "code",
      "metadata": {
        "id": "KmPJGdnHsafA",
        "colab_type": "code",
        "outputId": "6d010bad-5664-40fb-9dd5-0b38d7fb3447",
        "colab": {
          "base_uri": "https://localhost:8080/",
          "height": 51
        }
      },
      "source": [
        "coherence_model_ldamallet = CoherenceModel(model=ldamallet, texts=lemmatized_corpus, dictionary=id2word, coherence='c_v')\n",
        "coherence_ldamallet = coherence_model_ldamallet.get_coherence()\n",
        "print('\\nCoherence Score LDA MAllet: ', coherence_ldamallet)"
      ],
      "execution_count": 0,
      "outputs": [
        {
          "output_type": "stream",
          "text": [
            "\n",
            "Coherence Score LDA MAllet:  0.3868305042650206\n"
          ],
          "name": "stdout"
        }
      ]
    },
    {
      "cell_type": "markdown",
      "metadata": {
        "id": "dQzL_DdsSL2_",
        "colab_type": "text"
      },
      "source": [
        "### 2.3.1 Coherence score LDA Mallet with TFIDF"
      ]
    },
    {
      "cell_type": "code",
      "metadata": {
        "id": "1CRbD8veND70",
        "colab_type": "code",
        "outputId": "9d58446a-ddb9-403a-aed8-b4d4a1b981b0",
        "colab": {
          "base_uri": "https://localhost:8080/",
          "height": 105
        }
      },
      "source": [
        "# coherence score LDA with TFIDF (5 topics)\n",
        "coherence_model_ldamallet_tfidf = CoherenceModel(model=ldamallet_tfidf, texts=lemmatized_corpus, dictionary=id2word, coherence='c_v')\n",
        "coherence_ldamallet_tfidf = coherence_model_ldamallet_tfidf.get_coherence()\n",
        "print('\\nCoherence Score LDA Mallet TFIDF: ', coherence_ldamallet_tfidf)"
      ],
      "execution_count": 0,
      "outputs": [
        {
          "output_type": "stream",
          "text": [
            "\n",
            "Coherence Score LDA Mallet TFIDF:  0.6899070873639183\n"
          ],
          "name": "stdout"
        },
        {
          "output_type": "stream",
          "text": [
            "/usr/local/lib/python3.6/dist-packages/gensim/models/wrappers/ldamallet.py:373: RuntimeWarning: invalid value encountered in true_divide\n",
            "  return topics / topics.sum(axis=1)[:, None]\n"
          ],
          "name": "stderr"
        }
      ]
    },
    {
      "cell_type": "markdown",
      "metadata": {
        "id": "pjImnk4wAh4u",
        "colab_type": "text"
      },
      "source": [
        "## 2.4 Coherence and number of topics"
      ]
    },
    {
      "cell_type": "markdown",
      "metadata": {
        "colab_type": "text",
        "id": "-C8GGNUoGAuf"
      },
      "source": [
        "### 2.4.1 Without TFIDF"
      ]
    },
    {
      "cell_type": "code",
      "metadata": {
        "colab_type": "code",
        "id": "lWD51u4PGAuh",
        "colab": {}
      },
      "source": [
        "# Function to calculate optimal number of topics for LDA Gensim\n",
        "# https://www.machinelearningplus.com/nlp/topic-modeling-gensim-python/\n",
        "\n",
        "def compute_coherence_values(dictionary, corpus, texts, limit, start=2, step=3):\n",
        "    coherence_values = []\n",
        "    model_list = []\n",
        "    for num_topics in range(start, limit, step):\n",
        "        model = models.LdaModel(corpus, id2word=id2word, num_topics=num_topics)\n",
        "        model_list.append(model)\n",
        "        coherencemodel = CoherenceModel(model=model, texts=lemmatized_corpus, dictionary=dictionary, coherence='c_v')\n",
        "        coherence_values.append(coherencemodel.get_coherence())\n",
        "\n",
        "    return model_list, coherence_values"
      ],
      "execution_count": 0,
      "outputs": []
    },
    {
      "cell_type": "code",
      "metadata": {
        "colab_type": "code",
        "id": "I7S3LdEHGAuk",
        "colab": {}
      },
      "source": [
        "# the cell below runs the function set just above and can take a long time to run (20-30 min)\n",
        "model_list, coherence_values = compute_coherence_values(dictionary=id2word, corpus=corpus, texts=lemmatized_corpus, start=2, limit=40, step=1)\n"
      ],
      "execution_count": 0,
      "outputs": []
    },
    {
      "cell_type": "code",
      "metadata": {
        "colab_type": "code",
        "outputId": "d55b6a97-e03b-4136-a2cf-25c6ac5f2f5f",
        "id": "OwiaZzWFGAup",
        "colab": {
          "base_uri": "https://localhost:8080/",
          "height": 323
        }
      },
      "source": [
        "# Store the value of the coherence scores for plotting later\n",
        "topics_nr = []\n",
        "topics_scores = []\n",
        "limit=20; start=2; step=1;\n",
        "x = range(start, limit, step)\n",
        "\n",
        "for m, cv in zip(x, coherence_values):\n",
        "    topics_nr.append(str(m))\n",
        "    topics_scores.append(round(cv, 4))\n",
        "    print(\"Num Topics =\", m, \" has Coherence Value of\", round(cv, 4))"
      ],
      "execution_count": 0,
      "outputs": [
        {
          "output_type": "stream",
          "text": [
            "Num Topics = 2  has Coherence Value of 0.284\n",
            "Num Topics = 3  has Coherence Value of 0.2749\n",
            "Num Topics = 4  has Coherence Value of 0.2939\n",
            "Num Topics = 5  has Coherence Value of 0.2935\n",
            "Num Topics = 6  has Coherence Value of 0.2908\n",
            "Num Topics = 7  has Coherence Value of 0.2874\n",
            "Num Topics = 8  has Coherence Value of 0.2861\n",
            "Num Topics = 9  has Coherence Value of 0.2925\n",
            "Num Topics = 10  has Coherence Value of 0.2902\n",
            "Num Topics = 11  has Coherence Value of 0.2892\n",
            "Num Topics = 12  has Coherence Value of 0.2901\n",
            "Num Topics = 13  has Coherence Value of 0.2833\n",
            "Num Topics = 14  has Coherence Value of 0.2908\n",
            "Num Topics = 15  has Coherence Value of 0.2943\n",
            "Num Topics = 16  has Coherence Value of 0.2911\n",
            "Num Topics = 17  has Coherence Value of 0.2974\n",
            "Num Topics = 18  has Coherence Value of 0.2864\n",
            "Num Topics = 19  has Coherence Value of 0.2973\n"
          ],
          "name": "stdout"
        }
      ]
    },
    {
      "cell_type": "code",
      "metadata": {
        "colab_type": "code",
        "id": "H2NSeh81GAur",
        "colab": {}
      },
      "source": [
        "# Visualize coherence scores\n",
        "import matplotlib.pyplot as plt"
      ],
      "execution_count": 0,
      "outputs": []
    },
    {
      "cell_type": "code",
      "metadata": {
        "colab_type": "code",
        "outputId": "97fed2f9-1a53-4b32-b75d-0e52958ecdfb",
        "id": "YdA1u15bGAut",
        "colab": {
          "base_uri": "https://localhost:8080/",
          "height": 282
        }
      },
      "source": [
        "plt.plot(topics_nr, topics_scores)"
      ],
      "execution_count": 0,
      "outputs": [
        {
          "output_type": "execute_result",
          "data": {
            "text/plain": [
              "[<matplotlib.lines.Line2D at 0x7effc039f518>]"
            ]
          },
          "metadata": {
            "tags": []
          },
          "execution_count": 103
        },
        {
          "output_type": "display_data",
          "data": {
            "image/png": "[encoded data removed]",
            "text/plain": [
              "<Figure size 432x288 with 1 Axes>"
            ]
          },
          "metadata": {
            "tags": [],
            "needs_background": "light"
          }
        }
      ]
    },
    {
      "cell_type": "code",
      "metadata": {
        "colab_type": "code",
        "id": "28j3eHrRGAuv",
        "colab": {}
      },
      "source": [
        "# To analyse the results, the user can print the list of topics for different topic nr"
      ],
      "execution_count": 0,
      "outputs": []
    },
    {
      "cell_type": "code",
      "metadata": {
        "colab_type": "code",
        "outputId": "d1ab9af4-1bc2-48aa-c782-d39448265040",
        "id": "Cg6OgRt7GAuy",
        "colab": {
          "base_uri": "https://localhost:8080/",
          "height": 615
        }
      },
      "source": [
        "# print topics for nr of topics = 17\n",
        "numtopics = 17\n",
        "models.LdaModel(corpus, id2word=id2word, num_topics=numtopics).print_topics()"
      ],
      "execution_count": 0,
      "outputs": [
        {
          "output_type": "execute_result",
          "data": {
            "text/plain": [
              "[(0,\n",
              "  '0.009*\"italiano\" + 0.004*\"roma\" + 0.004*\"italia\" + 0.004*\"dispaccio\" + 0.003*\"venire\" + 0.003*\"potere\" + 0.003*\"daily\" + 0.003*\"telegrafico\" + 0.002*\"cardinale\" + 0.002*\"giornale\"'),\n",
              " (1,\n",
              "  '0.006*\"italiano\" + 0.003*\"italia\" + 0.003*\"giornale\" + 0.002*\"venire\" + 0.002*\"potere\" + 0.002*\"cardinale\" + 0.002*\"telegrafico\" + 0.002*\"daily\" + 0.002*\"dire\" + 0.002*\"roma\"'),\n",
              " (2,\n",
              "  '0.007*\"italiano\" + 0.004*\"roma\" + 0.004*\"italia\" + 0.004*\"dispaccio\" + 0.003*\"telegrafico\" + 0.003*\"venire\" + 0.003*\"potere\" + 0.003*\"daily\" + 0.003*\"giornale\" + 0.002*\"mentire\"'),\n",
              " (3,\n",
              "  '0.007*\"italiano\" + 0.005*\"italia\" + 0.004*\"dispaccio\" + 0.003*\"roma\" + 0.003*\"telegrafico\" + 0.003*\"potere\" + 0.002*\"venire\" + 0.002*\"giornale\" + 0.002*\"daily\" + 0.002*\"cardinale\"'),\n",
              " (4,\n",
              "  '0.008*\"italiano\" + 0.004*\"italia\" + 0.004*\"potere\" + 0.003*\"dispaccio\" + 0.003*\"roma\" + 0.003*\"telegrafico\" + 0.002*\"daily\" + 0.002*\"venire\" + 0.002*\"giornale\" + 0.002*\"nome\"'),\n",
              " (5,\n",
              "  '0.008*\"italiano\" + 0.005*\"italia\" + 0.004*\"roma\" + 0.004*\"venire\" + 0.004*\"dispaccio\" + 0.003*\"telegrafico\" + 0.003*\"potere\" + 0.003*\"cardinale\" + 0.003*\"giornale\" + 0.002*\"daily\"'),\n",
              " (6,\n",
              "  '0.007*\"italiano\" + 0.004*\"italia\" + 0.004*\"roma\" + 0.003*\"daily\" + 0.003*\"cardinale\" + 0.003*\"nuovo\" + 0.002*\"giornale\" + 0.002*\"telegrafico\" + 0.002*\"potere\" + 0.002*\"dispaccio\"'),\n",
              " (7,\n",
              "  '0.007*\"italiano\" + 0.005*\"dispaccio\" + 0.004*\"italia\" + 0.004*\"telegrafico\" + 0.003*\"roma\" + 0.003*\"venire\" + 0.003*\"giornale\" + 0.002*\"dire\" + 0.002*\"cardinale\" + 0.002*\"york\"'),\n",
              " (8,\n",
              "  '0.008*\"italiano\" + 0.004*\"dispaccio\" + 0.003*\"italia\" + 0.003*\"daily\" + 0.003*\"roma\" + 0.002*\"telegrafico\" + 0.002*\"potere\" + 0.002*\"venire\" + 0.002*\"giornale\" + 0.002*\"gran\"'),\n",
              " (9,\n",
              "  '0.005*\"italiano\" + 0.003*\"dispaccio\" + 0.003*\"venire\" + 0.003*\"italia\" + 0.003*\"roma\" + 0.003*\"cardinale\" + 0.003*\"telegrafico\" + 0.003*\"potere\" + 0.002*\"daily\" + 0.002*\"giornale\"'),\n",
              " (10,\n",
              "  '0.006*\"italiano\" + 0.005*\"dispaccio\" + 0.003*\"italia\" + 0.003*\"giornale\" + 0.003*\"telegrafico\" + 0.003*\"venire\" + 0.003*\"potere\" + 0.003*\"roma\" + 0.002*\"daily\" + 0.002*\"gran\"'),\n",
              " (11,\n",
              "  '0.006*\"italiano\" + 0.004*\"telegrafico\" + 0.004*\"italia\" + 0.003*\"roma\" + 0.003*\"dispaccio\" + 0.003*\"potere\" + 0.002*\"venire\" + 0.002*\"dire\" + 0.002*\"daily\" + 0.002*\"gran\"'),\n",
              " (12,\n",
              "  '0.008*\"italiano\" + 0.004*\"italia\" + 0.003*\"roma\" + 0.003*\"telegrafico\" + 0.003*\"cardinale\" + 0.003*\"daily\" + 0.003*\"potere\" + 0.003*\"giornale\" + 0.003*\"dispaccio\" + 0.002*\"venire\"'),\n",
              " (13,\n",
              "  '0.008*\"italiano\" + 0.004*\"dispaccio\" + 0.003*\"giornale\" + 0.003*\"roma\" + 0.003*\"italia\" + 0.003*\"telegrafico\" + 0.003*\"potere\" + 0.002*\"venire\" + 0.002*\"daily\" + 0.002*\"cardinale\"'),\n",
              " (14,\n",
              "  '0.008*\"italiano\" + 0.004*\"italia\" + 0.004*\"dispaccio\" + 0.003*\"telegrafico\" + 0.003*\"venire\" + 0.003*\"roma\" + 0.003*\"giornale\" + 0.002*\"daily\" + 0.002*\"potere\" + 0.002*\"dire\"'),\n",
              " (15,\n",
              "  '0.009*\"italiano\" + 0.004*\"roma\" + 0.004*\"dispaccio\" + 0.004*\"potere\" + 0.003*\"italia\" + 0.003*\"venire\" + 0.003*\"telegrafico\" + 0.003*\"daily\" + 0.002*\"mentire\" + 0.002*\"giornale\"'),\n",
              " (16,\n",
              "  '0.008*\"italiano\" + 0.004*\"dispaccio\" + 0.003*\"italia\" + 0.003*\"cardinale\" + 0.003*\"telegrafico\" + 0.003*\"roma\" + 0.003*\"venire\" + 0.002*\"giornale\" + 0.002*\"daily\" + 0.002*\"dovere\"')]"
            ]
          },
          "metadata": {
            "tags": []
          },
          "execution_count": 105
        }
      ]
    },
    {
      "cell_type": "markdown",
      "metadata": {
        "id": "FazsvYeYDxo0",
        "colab_type": "text"
      },
      "source": [
        "### 2.4.2 With TFIDF"
      ]
    },
    {
      "cell_type": "code",
      "metadata": {
        "id": "BnliBI5FTBDd",
        "colab_type": "code",
        "colab": {}
      },
      "source": [
        "# Function to calculate optimal number of topics for LDA Gensim\n",
        "# https://www.machinelearningplus.com/nlp/topic-modeling-gensim-python/\n",
        "\n",
        "def compute_coherence_values(dictionary, corpus, texts, limit, start=2, step=3):\n",
        "    coherence_values = []\n",
        "    model_list = []\n",
        "    for num_topics in range(start, limit, step):\n",
        "        model = models.LdaModel(corpus_tfidf, id2word=id2word, num_topics=num_topics)\n",
        "        model_list.append(model)\n",
        "        coherencemodel = CoherenceModel(model=model, texts=lemmatized_corpus, dictionary=dictionary, coherence='c_v')\n",
        "        coherence_values.append(coherencemodel.get_coherence())\n",
        "\n",
        "    return model_list, coherence_values"
      ],
      "execution_count": 0,
      "outputs": []
    },
    {
      "cell_type": "code",
      "metadata": {
        "id": "jXYUNs6hZs4W",
        "colab_type": "code",
        "outputId": "a806b1e5-118a-47e4-f1e5-c08e74db38e3",
        "colab": {
          "base_uri": "https://localhost:8080/",
          "height": 71
        }
      },
      "source": [
        "# the cell below runs the function set just above and can take a long time to run (20-30 min)\n",
        "model_list, coherence_values = compute_coherence_values(dictionary=id2word, corpus=corpus_tfidf, texts=lemmatized_corpus, start=2, limit=40, step=1)\n"
      ],
      "execution_count": 0,
      "outputs": [
        {
          "output_type": "stream",
          "text": [
            "/usr/local/lib/python3.6/dist-packages/gensim/models/ldamodel.py:807: RuntimeWarning: overflow encountered in exp2\n",
            "  perwordbound, np.exp2(-perwordbound), len(chunk), corpus_words\n"
          ],
          "name": "stderr"
        }
      ]
    },
    {
      "cell_type": "code",
      "metadata": {
        "id": "kCTd2CQOZ99R",
        "colab_type": "code",
        "outputId": "4856e06b-45f8-4bd0-8ba3-d07c85c4ad38",
        "colab": {
          "base_uri": "https://localhost:8080/",
          "height": 323
        }
      },
      "source": [
        "# Store the value of the coherence scores for plotting later\n",
        "topics_nr = []\n",
        "topics_scores = []\n",
        "limit=20; start=2; step=1;\n",
        "x = range(start, limit, step)\n",
        "\n",
        "for m, cv in zip(x, coherence_values):\n",
        "    topics_nr.append(str(m))\n",
        "    topics_scores.append(round(cv, 4))\n",
        "    print(\"Num Topics =\", m, \" has Coherence Value of\", round(cv, 4))"
      ],
      "execution_count": 0,
      "outputs": [
        {
          "output_type": "stream",
          "text": [
            "Num Topics = 2  has Coherence Value of 0.3032\n",
            "Num Topics = 3  has Coherence Value of 0.3301\n",
            "Num Topics = 4  has Coherence Value of 0.3346\n",
            "Num Topics = 5  has Coherence Value of 0.4466\n",
            "Num Topics = 6  has Coherence Value of 0.468\n",
            "Num Topics = 7  has Coherence Value of 0.519\n",
            "Num Topics = 8  has Coherence Value of 0.4595\n",
            "Num Topics = 9  has Coherence Value of 0.512\n",
            "Num Topics = 10  has Coherence Value of 0.5274\n",
            "Num Topics = 11  has Coherence Value of 0.5062\n",
            "Num Topics = 12  has Coherence Value of 0.4984\n",
            "Num Topics = 13  has Coherence Value of 0.5193\n",
            "Num Topics = 14  has Coherence Value of 0.5304\n",
            "Num Topics = 15  has Coherence Value of 0.5478\n",
            "Num Topics = 16  has Coherence Value of 0.5468\n",
            "Num Topics = 17  has Coherence Value of 0.5163\n",
            "Num Topics = 18  has Coherence Value of 0.516\n",
            "Num Topics = 19  has Coherence Value of 0.5309\n"
          ],
          "name": "stdout"
        }
      ]
    },
    {
      "cell_type": "code",
      "metadata": {
        "id": "XUNk4xxmMjL2",
        "colab_type": "code",
        "colab": {}
      },
      "source": [
        "# Visualize coherence scores\n",
        "import matplotlib.pyplot as plt"
      ],
      "execution_count": 0,
      "outputs": []
    },
    {
      "cell_type": "code",
      "metadata": {
        "id": "oIso5UpAMk02",
        "colab_type": "code",
        "outputId": "47c485a4-6beb-4e04-a7b7-d06f732c6621",
        "colab": {
          "base_uri": "https://localhost:8080/",
          "height": 282
        }
      },
      "source": [
        "plt.plot(topics_nr, topics_scores)"
      ],
      "execution_count": 0,
      "outputs": [
        {
          "output_type": "execute_result",
          "data": {
            "text/plain": [
              "[<matplotlib.lines.Line2D at 0x7effc03bfe80>]"
            ]
          },
          "metadata": {
            "tags": []
          },
          "execution_count": 97
        },
        {
          "output_type": "display_data",
          "data": {
            "image/png": "[encoded data removed]",
            "text/plain": [
              "<Figure size 432x288 with 1 Axes>"
            ]
          },
          "metadata": {
            "tags": [],
            "needs_background": "light"
          }
        }
      ]
    },
    {
      "cell_type": "code",
      "metadata": {
        "id": "zaRiYNAlQKY6",
        "colab_type": "code",
        "colab": {}
      },
      "source": [
        "# To analyse the results, the user can print the list of topics for different topic nr"
      ],
      "execution_count": 0,
      "outputs": []
    },
    {
      "cell_type": "code",
      "metadata": {
        "id": "JiK6edH3RA4G",
        "colab_type": "code",
        "outputId": "3877cdd4-2d30-471c-9ff2-a979b1398c23",
        "colab": {
          "base_uri": "https://localhost:8080/",
          "height": 275
        }
      },
      "source": [
        "# print topics for nr of topics = 7\n",
        "numtopics = 7\n",
        "models.LdaModel(corpus_tfidf, id2word=id2word, num_topics=numtopics).print_topics()"
      ],
      "execution_count": 0,
      "outputs": [
        {
          "output_type": "execute_result",
          "data": {
            "text/plain": [
              "[(0,\n",
              "  '0.000*\"cardinale\" + 0.000*\"studente\" + 0.000*\"papato\" + 0.000*\"imperatore\" + 0.000*\"marconi\" + 0.000*\"xiii\" + 0.000*\"milano\" + 0.000*\"terno\" + 0.000*\"sezione\" + 0.000*\"garibaldi\"'),\n",
              " (1,\n",
              "  '0.000*\"available\" + 0.000*\"text\" + 0.000*\"cardinale\" + 0.000*\"diamond\" + 0.000*\"black\" + 0.000*\"pescatore\" + 0.000*\"conclave\" + 0.000*\"salmone\" + 0.000*\"marconi\" + 0.000*\"cleveland\"'),\n",
              " (2,\n",
              "  '0.000*\"marconi\" + 0.000*\"cardinale\" + 0.000*\"immigrare\" + 0.000*\"riduzione\" + 0.000*\"congresso\" + 0.000*\"papa\" + 0.000*\"emigrare\" + 0.000*\"pecel\" + 0.000*\"regalare\" + 0.000*\"esplosione\"'),\n",
              " (3,\n",
              "  '0.000*\"ebreo\" + 0.000*\"mascagni\" + 0.000*\"edoardo\" + 0.000*\"salma\" + 0.000*\"cardinale\" + 0.000*\"marconi\" + 0.000*\"uovo\" + 0.000*\"eruzione\" + 0.000*\"miniera\" + 0.000*\"conclave\"'),\n",
              " (4,\n",
              "  '0.000*\"cardinale\" + 0.000*\"tolstoi\" + 0.000*\"leone\" + 0.000*\"xiii\" + 0.000*\"xlll\" + 0.000*\"sognatore\" + 0.000*\"papa\" + 0.000*\"pontefice\" + 0.000*\"emigrare\" + 0.000*\"popolo\"'),\n",
              " (5,\n",
              "  '0.000*\"cardinale\" + 0.000*\"oreglia\" + 0.000*\"marconi\" + 0.000*\"papa\" + 0.000*\"guglielmo\" + 0.000*\"roosevelt\" + 0.000*\"pontefice\" + 0.000*\"victor\" + 0.000*\"diamond\" + 0.000*\"sindacare\"'),\n",
              " (6,\n",
              "  '0.000*\"cardinale\" + 0.000*\"produzione\" + 0.000*\"terno\" + 0.000*\"voto\" + 0.000*\"belgrado\" + 0.000*\"serbia\" + 0.000*\"militarismo\" + 0.000*\"sardegna\" + 0.000*\"mercantile\" + 0.000*\"notte\"')]"
            ]
          },
          "metadata": {
            "tags": []
          },
          "execution_count": 106
        }
      ]
    }
  ]
}
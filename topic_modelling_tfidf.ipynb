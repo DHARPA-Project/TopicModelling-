{
  "nbformat": 4,
  "nbformat_minor": 0,
  "metadata": {
    "colab": {
      "name": "topic_modelling_tfidf_new.ipynb",
      "provenance": [],
      "collapsed_sections": [],
      "toc_visible": true
    },
    "kernelspec": {
      "name": "python3",
      "display_name": "Python 3"
    }
  },
  "cells": [
    {
      "cell_type": "code",
      "metadata": {
        "id": "rnUQEhlYlSop",
        "colab_type": "code",
        "colab": {}
      },
      "source": [
        "import json\n",
        "import requests\n",
        "import urllib"
      ],
      "execution_count": 0,
      "outputs": []
    },
    {
      "cell_type": "markdown",
      "metadata": {
        "id": "55Sx9PpMlfi9",
        "colab_type": "text"
      },
      "source": [
        "# 0. Preliminary step to get sample data"
      ]
    },
    {
      "cell_type": "markdown",
      "metadata": {
        "id": "e70aZK95ljy8",
        "colab_type": "text"
      },
      "source": [
        "This preliminary step is reproducing Lorella's workflow Python file:\n",
        "https://i-lab.public.data.uu.nl/vault-ocex/ChroniclItaly%20-%20Italian%20American%20newspapers%20corpus%20from%201898%20to%201920%5B1529330521%5D/original/\n",
        "I just added a folder \"data_1\" to keep all files in one folder"
      ]
    },
    {
      "cell_type": "code",
      "metadata": {
        "id": "hMawWlfIlbGm",
        "colab_type": "code",
        "colab": {}
      },
      "source": [
        "mkdir 'data1'"
      ],
      "execution_count": 0,
      "outputs": []
    },
    {
      "cell_type": "code",
      "metadata": {
        "id": "DXpiwjFdlopq",
        "colab_type": "code",
        "colab": {}
      },
      "source": [
        "# Base URL\n",
        "chronam = 'https://chroniclingamerica.loc.gov/'\n",
        "\n",
        "# Chronicling America search results\n",
        "results = 'https://chroniclingamerica.loc.gov/search/pages/results/?date1=1880&date2=1920&searchType=advanced&language=ita&sequence=1&lccn=2012271201&lccn=sn85066408&lccn=sn85055164&lccn=sn85054967&lccn=sn88064299&lccn=sn84037024&lccn=sn84037025&lccn=sn86092310&proxdistance=5&state=California&state=District+of+Columbia&state=Massachusetts&state=Pennsylvania&state=Piedmont&state=Vermont&state=West+Virginia&rows=100&ortext=&proxtext=&phrasetext=&andtext=&dateFilterType=yearRange&page=11&sort=date'\n",
        "\n",
        "# Count to keep track of downloaded files\n",
        "count = 0\n",
        "\n",
        "# Gets search results in JSON format\n",
        "results_json = results + '&format=json'"
      ],
      "execution_count": 0,
      "outputs": []
    },
    {
      "cell_type": "code",
      "metadata": {
        "id": "ubXLXq72lual",
        "colab_type": "code",
        "colab": {}
      },
      "source": [
        "# Returns JSON \n",
        "def get_json(url):\n",
        "    data = requests.get(url)\n",
        "    return(json.loads(data.content))\n",
        "    \n",
        "data = get_json(results_json)"
      ],
      "execution_count": 0,
      "outputs": []
    },
    {
      "cell_type": "code",
      "metadata": {
        "id": "sI7JcFBmlyeK",
        "colab_type": "code",
        "colab": {}
      },
      "source": [
        "# Cycle through JSON results\n",
        "for page in data['items']:\n",
        "    # Create URL\n",
        "    hit = str(page['id'])\n",
        "    seed = hit + 'ocr.txt'\n",
        "    download_url = chronam + seed\n",
        " \n",
        "    # Create file name\n",
        "    file_name = download_url.replace('/', '_')\n",
        "    file_name = 'data1/' + file_name[41:]\n",
        "    \n",
        "    # Download .txt of the page\n",
        "    urllib.request.urlretrieve(download_url, str(file_name))\n",
        "    count += 1"
      ],
      "execution_count": 0,
      "outputs": []
    },
    {
      "cell_type": "markdown",
      "metadata": {
        "id": "IPEkYhSpl7HS",
        "colab_type": "text"
      },
      "source": [
        "# 1. Data preparation"
      ]
    },
    {
      "cell_type": "markdown",
      "metadata": {
        "id": "G_GEjbxlmA51",
        "colab_type": "text"
      },
      "source": [
        "## 1.1. Grouping all texts files\n",
        "A dataframe is first created to keep individual files at their initial state, and the name of each file"
      ]
    },
    {
      "cell_type": "code",
      "metadata": {
        "id": "IcJ7O-aVl_MF",
        "colab_type": "code",
        "colab": {}
      },
      "source": [
        "import os\n",
        "import pandas as pd"
      ],
      "execution_count": 0,
      "outputs": []
    },
    {
      "cell_type": "code",
      "metadata": {
        "id": "9KFJqg39l2Uq",
        "colab_type": "code",
        "colab": {}
      },
      "source": [
        "#list of the file names\n",
        "files_list = os.listdir('data1')"
      ],
      "execution_count": 0,
      "outputs": []
    },
    {
      "cell_type": "code",
      "metadata": {
        "id": "ZWEA-ANfmrD2",
        "colab_type": "code",
        "colab": {}
      },
      "source": [
        "#insert file names into a df\n",
        "sources = pd.DataFrame(files_list, columns=['file_name'])"
      ],
      "execution_count": 0,
      "outputs": []
    },
    {
      "cell_type": "code",
      "metadata": {
        "id": "xArZm03jmvvU",
        "colab_type": "code",
        "colab": {}
      },
      "source": [
        "#function to read the content of the text files\n",
        "def readTxtContent(fileName):\n",
        "  with open('data1/' + fileName, 'r') as file:\n",
        "    return ' ' + file.read().replace('\\n', ' ') + ' '"
      ],
      "execution_count": 0,
      "outputs": []
    },
    {
      "cell_type": "code",
      "metadata": {
        "id": "hNmf-cy2mzb3",
        "colab_type": "code",
        "colab": {}
      },
      "source": [
        "# adding a column to the dataframe containing file content\n",
        "sources['file_content'] = sources['file_name'].apply(lambda x: readTxtContent(x))"
      ],
      "execution_count": 0,
      "outputs": []
    },
    {
      "cell_type": "code",
      "metadata": {
        "id": "8yFDXNqWm2tq",
        "colab_type": "code",
        "colab": {
          "base_uri": "https://localhost:8080/",
          "height": 34
        },
        "outputId": "1ca7edfe-5b90-4b7a-9efd-72ddcac02088"
      },
      "source": [
        "# for verification purposes later, count the nr of characters for each content\n",
        "sources['file_len'] = sources['file_content'].apply(lambda x: len(x))\n",
        "sources['file_len'].sum()"
      ],
      "execution_count": 11,
      "outputs": [
        {
          "output_type": "execute_result",
          "data": {
            "text/plain": [
              "1779770"
            ]
          },
          "metadata": {
            "tags": []
          },
          "execution_count": 11
        }
      ]
    },
    {
      "cell_type": "code",
      "metadata": {
        "id": "I3U5oluHm6Gr",
        "colab_type": "code",
        "colab": {}
      },
      "source": [
        "# variable containing the documents separately\n",
        "corpus = sources['file_content']"
      ],
      "execution_count": 0,
      "outputs": []
    },
    {
      "cell_type": "code",
      "metadata": {
        "id": "hERAgTvhm9t0",
        "colab_type": "code",
        "colab": {}
      },
      "source": [
        "# variable containing all documents together\n",
        "all_texts = ''\n",
        "for i in range(len(sources)):\n",
        "  all_texts += sources['file_content'][i]"
      ],
      "execution_count": 0,
      "outputs": []
    },
    {
      "cell_type": "code",
      "metadata": {
        "id": "1DK0cstjnBUI",
        "colab_type": "code",
        "colab": {
          "base_uri": "https://localhost:8080/",
          "height": 34
        },
        "outputId": "fcec5082-13ce-477b-8c31-aa2cfa945119"
      },
      "source": [
        "# check length\n",
        "len(all_texts)"
      ],
      "execution_count": 14,
      "outputs": [
        {
          "output_type": "execute_result",
          "data": {
            "text/plain": [
              "1779770"
            ]
          },
          "metadata": {
            "tags": []
          },
          "execution_count": 14
        }
      ]
    },
    {
      "cell_type": "markdown",
      "metadata": {
        "id": "Zl8lVna9nFMj",
        "colab_type": "text"
      },
      "source": [
        "## 1.2 Removing stop words, punctuation, short words"
      ]
    },
    {
      "cell_type": "code",
      "metadata": {
        "id": "J3VrrRnsnJiz",
        "colab_type": "code",
        "colab": {}
      },
      "source": [
        "%%capture\n",
        "import nltk\n",
        "nltk.download('punkt')\n",
        "nltk.download('stopwords')\n",
        "from nltk.corpus import stopwords\n",
        "from nltk.tokenize import word_tokenize"
      ],
      "execution_count": 0,
      "outputs": []
    },
    {
      "cell_type": "code",
      "metadata": {
        "id": "GSRcuvwfnN3T",
        "colab_type": "code",
        "colab": {}
      },
      "source": [
        "# add tokenized documents in dataframe\n",
        "sources['tokens'] = sources['file_content'].apply(lambda x: nltk.word_tokenize(x))"
      ],
      "execution_count": 0,
      "outputs": []
    },
    {
      "cell_type": "code",
      "metadata": {
        "id": "qfSvhqNSnTp9",
        "colab_type": "code",
        "colab": {}
      },
      "source": [
        "# add new column in df with processed tokens\n",
        "sources['tokens_prep'] = sources['tokens'].apply(lambda x: [w.lower() for w in x if (w.isalnum() and len(w) > 3 )])"
      ],
      "execution_count": 0,
      "outputs": []
    },
    {
      "cell_type": "code",
      "metadata": {
        "id": "EulU1PY2ngdV",
        "colab_type": "code",
        "colab": {}
      },
      "source": [
        "# these lines are useful if we want to provide alternate stop words lists (NLTK)\n",
        "# show list of default NLTK Italian stopwords\n",
        "# stopwords.words('italian')\n",
        "# ital_stopwords = stopwords.words('italian')\n",
        "# to append list of words added by user: ital_stopwords.extend(user_input)\n",
        "# to remove words: ital_stopwords.remove(user_input)"
      ],
      "execution_count": 0,
      "outputs": []
    },
    {
      "cell_type": "code",
      "metadata": {
        "id": "abT_ZGCXnk_d",
        "colab_type": "code",
        "colab": {}
      },
      "source": [
        "# spacy list of Stop words (seems to be more complete than NLTK)\n",
        "import spacy\n",
        "from spacy.lang.it.stop_words import STOP_WORDS"
      ],
      "execution_count": 0,
      "outputs": []
    },
    {
      "cell_type": "code",
      "metadata": {
        "id": "L6qkNYbSnoGd",
        "colab_type": "code",
        "colab": {}
      },
      "source": [
        "spacy_it_sw = STOP_WORDS"
      ],
      "execution_count": 0,
      "outputs": []
    },
    {
      "cell_type": "code",
      "metadata": {
        "id": "SDcWr1Oynwp1",
        "colab_type": "code",
        "colab": {}
      },
      "source": [
        "# add column with tokenized documents without sw\n",
        "sources['tokens_prep_nostop'] = sources['tokens_prep'].apply(lambda x: [w for w in x if not w in spacy_it_sw])"
      ],
      "execution_count": 0,
      "outputs": []
    },
    {
      "cell_type": "markdown",
      "metadata": {
        "id": "eCcMDN2ln30c",
        "colab_type": "text"
      },
      "source": [
        "## 1.3 Stem"
      ]
    },
    {
      "cell_type": "code",
      "metadata": {
        "id": "DXFx_HkMnz48",
        "colab_type": "code",
        "colab": {}
      },
      "source": [
        "from nltk.stem.snowball import SnowballStemmer"
      ],
      "execution_count": 0,
      "outputs": []
    },
    {
      "cell_type": "code",
      "metadata": {
        "id": "sLYY9Td6oC1u",
        "colab_type": "code",
        "colab": {}
      },
      "source": [
        "#initialize with needed language\n",
        "stemmer = SnowballStemmer(\"italian\")"
      ],
      "execution_count": 0,
      "outputs": []
    },
    {
      "cell_type": "code",
      "metadata": {
        "id": "iFsGiIOjoJiM",
        "colab_type": "code",
        "colab": {}
      },
      "source": [
        "# add column with stemmed tokens\n",
        "sources['tokens_stemmed'] = sources['tokens_prep_nostop'].apply(lambda x: [stemmer.stem(w) for w in x])"
      ],
      "execution_count": 0,
      "outputs": []
    },
    {
      "cell_type": "markdown",
      "metadata": {
        "id": "sX4f6m4goPdu",
        "colab_type": "text"
      },
      "source": [
        "## 1.4 Lemmatize"
      ]
    },
    {
      "cell_type": "code",
      "metadata": {
        "id": "RaRkQ5FcoKyu",
        "colab_type": "code",
        "colab": {}
      },
      "source": [
        "# Lemmatization is available in multiple languages in Spacy and not in NLTK (only English)\n",
        "# With Spacy, lemmatization is available for 10 languages. There's also a multi-language option that\n",
        "# should be tested if additional languages are needed"
      ],
      "execution_count": 0,
      "outputs": []
    },
    {
      "cell_type": "code",
      "metadata": {
        "id": "yx6mYoPFoqhY",
        "colab_type": "code",
        "colab": {}
      },
      "source": [
        "%%capture\n",
        "!python -m spacy download it_core_news_sm"
      ],
      "execution_count": 0,
      "outputs": []
    },
    {
      "cell_type": "code",
      "metadata": {
        "id": "RF7vBWuOou6n",
        "colab_type": "code",
        "colab": {}
      },
      "source": [
        "import it_core_news_sm\n",
        "it_nlp = it_core_news_sm.load(disable=['tagger', 'parser', 'ner'])"
      ],
      "execution_count": 0,
      "outputs": []
    },
    {
      "cell_type": "code",
      "metadata": {
        "id": "rEzzfEBFow9k",
        "colab_type": "code",
        "colab": {}
      },
      "source": [
        "# lemmatization function\n",
        "def lemmatize(doc):\n",
        "  lemmatized_doc = []\n",
        "  for w in doc:\n",
        "    w_lemma = [token.lemma_ for token in it_nlp(w)]\n",
        "    lemmatized_doc.append(w_lemma[0])\n",
        "  return lemmatized_doc"
      ],
      "execution_count": 0,
      "outputs": []
    },
    {
      "cell_type": "code",
      "metadata": {
        "id": "AvXSZ5Hepwel",
        "colab_type": "code",
        "colab": {}
      },
      "source": [
        "# add column with lemmatized tokens\n",
        "sources['tokens_lemmatized'] = sources['tokens_prep_nostop'].apply(lambda x: lemmatize(x))"
      ],
      "execution_count": 0,
      "outputs": []
    },
    {
      "cell_type": "code",
      "metadata": {
        "id": "sEKcp6rOp0Dx",
        "colab_type": "code",
        "colab": {}
      },
      "source": [
        "# variable with lemmatized tokens\n",
        "lemmatized_corpus = sources['tokens_lemmatized']"
      ],
      "execution_count": 0,
      "outputs": []
    },
    {
      "cell_type": "markdown",
      "metadata": {
        "id": "LSQLmATxntdW",
        "colab_type": "text"
      },
      "source": [
        "# 2. Topics with LDA"
      ]
    },
    {
      "cell_type": "code",
      "metadata": {
        "id": "Ic0LglOCq818",
        "colab_type": "code",
        "colab": {}
      },
      "source": [
        "#Gensim installation\n",
        "import gensim\n",
        "from gensim.test.utils import common_corpus, common_dictionary\n",
        "from gensim import corpora, models\n",
        "from gensim.models.wrappers import LdaMallet"
      ],
      "execution_count": 0,
      "outputs": []
    },
    {
      "cell_type": "markdown",
      "metadata": {
        "id": "lugBy7jarFfm",
        "colab_type": "text"
      },
      "source": [
        "## 2.1 Preliminary steps to run LDA\n"
      ]
    },
    {
      "cell_type": "markdown",
      "metadata": {
        "id": "ztJHIvPUrJff",
        "colab_type": "text"
      },
      "source": [
        "### 2.1.1 Bag of words"
      ]
    },
    {
      "cell_type": "code",
      "metadata": {
        "id": "_VqeoxXWrAz_",
        "colab_type": "code",
        "colab": {}
      },
      "source": [
        "# dataset = [d.split() for d in lemmatized_corpus] (this is not useful if lemmatized version is used)\n",
        "# Create Dictionary\n",
        "# change \"lemmatized_corpus\" variable by stemmed_corpus or tokenized_corpus_without_sw depending\n",
        "# on which version you would like to work with \n",
        "id2word = corpora.Dictionary(lemmatized_corpus)\n",
        "corpus = [id2word.doc2bow(text) for text in lemmatized_corpus]"
      ],
      "execution_count": 0,
      "outputs": []
    },
    {
      "cell_type": "code",
      "metadata": {
        "id": "Ux1XsyGDraxD",
        "colab_type": "code",
        "colab": {}
      },
      "source": [
        "# create a human friendly view of term frequency list\n",
        "# I leave the line below for testing purposes\n",
        "# [[(id2word[id], freq) for id, freq in cp] for cp in corpus[:1000]]"
      ],
      "execution_count": 0,
      "outputs": []
    },
    {
      "cell_type": "code",
      "metadata": {
        "id": "H_nadreEre5U",
        "colab_type": "code",
        "colab": {}
      },
      "source": [
        "# list of words and frequency\n",
        "words = []\n",
        "frequency = []\n",
        "\n",
        "for cp in corpus:\n",
        "  word_id = list(cp[0])[0]\n",
        "  words.append(id2word[list(cp[0])[0]])\n",
        "  frequency.append(list(cp[0])[1])"
      ],
      "execution_count": 0,
      "outputs": []
    },
    {
      "cell_type": "code",
      "metadata": {
        "id": "ZjZU2iX-riiy",
        "colab_type": "code",
        "colab": {}
      },
      "source": [
        "words_frequency = pd.DataFrame(list(zip(words, frequency)), columns=['word', 'frequency'])"
      ],
      "execution_count": 0,
      "outputs": []
    },
    {
      "cell_type": "code",
      "metadata": {
        "id": "-Qw9QHHDrpHi",
        "colab_type": "code",
        "colab": {
          "base_uri": "https://localhost:8080/",
          "height": 359
        },
        "outputId": "ccef4368-cca8-4cb3-bf52-d95930bc6f26"
      },
      "source": [
        "# sort descending\n",
        "words_frequency.sort_values(by=['frequency'], ascending=False)[:10]\n",
        "# frequency is on a per document basis"
      ],
      "execution_count": 39,
      "outputs": [
        {
          "output_type": "execute_result",
          "data": {
            "text/html": [
              "<div>\n",
              "<style scoped>\n",
              "    .dataframe tbody tr th:only-of-type {\n",
              "        vertical-align: middle;\n",
              "    }\n",
              "\n",
              "    .dataframe tbody tr th {\n",
              "        vertical-align: top;\n",
              "    }\n",
              "\n",
              "    .dataframe thead th {\n",
              "        text-align: right;\n",
              "    }\n",
              "</style>\n",
              "<table border=\"1\" class=\"dataframe\">\n",
              "  <thead>\n",
              "    <tr style=\"text-align: right;\">\n",
              "      <th></th>\n",
              "      <th>word</th>\n",
              "      <th>frequency</th>\n",
              "    </tr>\n",
              "  </thead>\n",
              "  <tbody>\n",
              "    <tr>\n",
              "      <th>38</th>\n",
              "      <td>acqua</td>\n",
              "      <td>7</td>\n",
              "    </tr>\n",
              "    <tr>\n",
              "      <th>77</th>\n",
              "      <td>1898</td>\n",
              "      <td>5</td>\n",
              "    </tr>\n",
              "    <tr>\n",
              "      <th>7</th>\n",
              "      <td>accordare</td>\n",
              "      <td>3</td>\n",
              "    </tr>\n",
              "    <tr>\n",
              "      <th>22</th>\n",
              "      <td>accordare</td>\n",
              "      <td>3</td>\n",
              "    </tr>\n",
              "    <tr>\n",
              "      <th>79</th>\n",
              "      <td>abbandonare</td>\n",
              "      <td>2</td>\n",
              "    </tr>\n",
              "    <tr>\n",
              "      <th>65</th>\n",
              "      <td>accennare</td>\n",
              "      <td>2</td>\n",
              "    </tr>\n",
              "    <tr>\n",
              "      <th>31</th>\n",
              "      <td>agire</td>\n",
              "      <td>2</td>\n",
              "    </tr>\n",
              "    <tr>\n",
              "      <th>36</th>\n",
              "      <td>accalcare</td>\n",
              "      <td>2</td>\n",
              "    </tr>\n",
              "    <tr>\n",
              "      <th>78</th>\n",
              "      <td>agire</td>\n",
              "      <td>2</td>\n",
              "    </tr>\n",
              "    <tr>\n",
              "      <th>80</th>\n",
              "      <td>abbandonare</td>\n",
              "      <td>2</td>\n",
              "    </tr>\n",
              "  </tbody>\n",
              "</table>\n",
              "</div>"
            ],
            "text/plain": [
              "           word  frequency\n",
              "38        acqua          7\n",
              "77         1898          5\n",
              "7     accordare          3\n",
              "22    accordare          3\n",
              "79  abbandonare          2\n",
              "65    accennare          2\n",
              "31        agire          2\n",
              "36    accalcare          2\n",
              "78        agire          2\n",
              "80  abbandonare          2"
            ]
          },
          "metadata": {
            "tags": []
          },
          "execution_count": 39
        }
      ]
    },
    {
      "cell_type": "markdown",
      "metadata": {
        "id": "N9rbvOUKr4Aj",
        "colab_type": "text"
      },
      "source": [
        "### 2.1.2 TFIDF"
      ]
    },
    {
      "cell_type": "code",
      "metadata": {
        "id": "il6kBlorryxm",
        "colab_type": "code",
        "colab": {}
      },
      "source": [
        "# optional\n",
        "# TFIDF for better performance\n",
        "# https://en.wikipedia.org/wiki/Tf–idf / \n",
        "# https://rare-technologies.com/pivoted-document-length-normalisation/\n",
        "\n",
        "tfidf = models.TfidfModel(corpus)\n",
        "corpus_tfidf = tfidf[corpus]"
      ],
      "execution_count": 0,
      "outputs": []
    },
    {
      "cell_type": "markdown",
      "metadata": {
        "id": "BqTJQGlMr_lo",
        "colab_type": "text"
      },
      "source": [
        "## 2.2 LDA"
      ]
    },
    {
      "cell_type": "code",
      "metadata": {
        "id": "6izhvRydr7ha",
        "colab_type": "code",
        "colab": {}
      },
      "source": [
        "# set the number of topics here\n",
        "numtopics = 7"
      ],
      "execution_count": 0,
      "outputs": []
    },
    {
      "cell_type": "markdown",
      "metadata": {
        "id": "9nouVIWYsQEn",
        "colab_type": "text"
      },
      "source": [
        "This notebook explores the results with Gensim and TFIDF"
      ]
    },
    {
      "cell_type": "code",
      "metadata": {
        "id": "wqFutULSsEIM",
        "colab_type": "code",
        "colab": {}
      },
      "source": [
        "ldagensim_tfidf = models.LdaModel(corpus_tfidf, id2word=id2word, num_topics=numtopics)\n"
      ],
      "execution_count": 0,
      "outputs": []
    },
    {
      "cell_type": "code",
      "metadata": {
        "id": "hYNqGhIrsaHL",
        "colab_type": "code",
        "colab": {
          "base_uri": "https://localhost:8080/",
          "height": 275
        },
        "outputId": "336fb590-b54e-4719-e00c-12fcba11d4e7"
      },
      "source": [
        "ldagensim_tfidf.print_topics()"
      ],
      "execution_count": 85,
      "outputs": [
        {
          "output_type": "execute_result",
          "data": {
            "text/plain": [
              "[(0,\n",
              "  '0.000*\"cardinale\" + 0.000*\"serbia\" + 0.000*\"conclave\" + 0.000*\"diamond\" + 0.000*\"xiii\" + 0.000*\"black\" + 0.000*\"leone\" + 0.000*\"papa\" + 0.000*\"salmone\" + 0.000*\"pescatore\"'),\n",
              " (1,\n",
              "  '0.000*\"cardinale\" + 0.000*\"marconi\" + 0.000*\"mayor\" + 0.000*\"lira\" + 0.000*\"scioperare\" + 0.000*\"cleveland\" + 0.000*\"venezia\" + 0.000*\"ebreo\" + 0.000*\"produzione\" + 0.000*\"squadrare\"'),\n",
              " (2,\n",
              "  '0.000*\"cardinale\" + 0.000*\"marconi\" + 0.000*\"immigrare\" + 0.000*\"jose\" + 0.000*\"latino\" + 0.000*\"belgrado\" + 0.000*\"mafia\" + 0.000*\"emigrare\" + 0.000*\"tolstoi\" + 0.000*\"cleveland\"'),\n",
              " (3,\n",
              "  '0.000*\"cardinale\" + 0.000*\"tolstoi\" + 0.000*\"xiii\" + 0.000*\"padrona\" + 0.000*\"miniera\" + 0.000*\"pontefice\" + 0.000*\"dittatura\" + 0.000*\"papa\" + 0.000*\"salma\" + 0.000*\"roosevelt\"'),\n",
              " (4,\n",
              "  '0.000*\"text\" + 0.000*\"available\" + 0.000*\"lavoratore\" + 0.000*\"maggio\" + 0.000*\"ebreo\" + 0.000*\"marconi\" + 0.000*\"cardinale\" + 0.000*\"roso\" + 0.000*\"festa\" + 0.000*\"borghesia\"'),\n",
              " (5,\n",
              "  '0.000*\"cardinale\" + 0.000*\"conclave\" + 0.000*\"terno\" + 0.000*\"papa\" + 0.000*\"gotti\" + 0.000*\"pontefice\" + 0.000*\"marconi\" + 0.000*\"california\" + 0.000*\"siberia\" + 0.000*\"pietro\"'),\n",
              " (6,\n",
              "  '0.000*\"cardinale\" + 0.000*\"oreglia\" + 0.000*\"california\" + 0.000*\"papa\" + 0.000*\"edoardo\" + 0.000*\"negro\" + 0.000*\"regalare\" + 0.000*\"marconi\" + 0.000*\"duse\" + 0.000*\"camarlengo\"')]"
            ]
          },
          "metadata": {
            "tags": []
          },
          "execution_count": 85
        }
      ]
    },
    {
      "cell_type": "markdown",
      "metadata": {
        "id": "A25VpgbNuG7F",
        "colab_type": "text"
      },
      "source": [
        "## 2.3 Topic Coherence\n",
        "Topic Coherence measures score of a single topic by measuring the degree of semantic similarity between high scoring words in the topic. https://towardsdatascience.com/evaluate-topic-model-in-python-latent-dirichlet-allocation-lda-7d57484bb5d0"
      ]
    },
    {
      "cell_type": "code",
      "metadata": {
        "id": "uSj2JKQqt4Oq",
        "colab_type": "code",
        "colab": {}
      },
      "source": [
        "from gensim.models.coherencemodel import CoherenceModel"
      ],
      "execution_count": 0,
      "outputs": []
    },
    {
      "cell_type": "code",
      "metadata": {
        "id": "JPkd-XL8uQfr",
        "colab_type": "code",
        "colab": {
          "base_uri": "https://localhost:8080/",
          "height": 51
        },
        "outputId": "735fafa2-8891-49d2-84c5-4a65fc14589b"
      },
      "source": [
        "coherence_model_ldagensim_tfidf = CoherenceModel(model=ldagensim_tfidf, texts=lemmatized_corpus, dictionary=id2word, coherence='c_v')\n",
        "coherence_ldagensim_tfidf = coherence_model_ldagensim_tfidf.get_coherence()\n",
        "print('\\nCoherence Score LDA Gensim TFIDF: ', coherence_ldagensim_tfidf)"
      ],
      "execution_count": 46,
      "outputs": [
        {
          "output_type": "stream",
          "text": [
            "\n",
            "Coherence Score LDA Gensim TFIDF:  0.4676993515257735\n"
          ],
          "name": "stdout"
        }
      ]
    },
    {
      "cell_type": "markdown",
      "metadata": {
        "id": "8vrXeygpulq6",
        "colab_type": "text"
      },
      "source": [
        "## 2.4 Coherence and number of topics"
      ]
    },
    {
      "cell_type": "code",
      "metadata": {
        "id": "Xh6C796jugo2",
        "colab_type": "code",
        "colab": {}
      },
      "source": [
        "# Function to calculate optimal number of topics for LDA Gensim\n",
        "# https://www.machinelearningplus.com/nlp/topic-modeling-gensim-python/\n",
        "\n",
        "def compute_coherence_values(dictionary, corpus, texts, limit, start=2, step=3):\n",
        "    coherence_values = []\n",
        "    model_list = []\n",
        "    for num_topics in range(start, limit, step):\n",
        "        model = models.LdaModel(corpus_tfidf, id2word=id2word, num_topics=num_topics)\n",
        "        model_list.append(model)\n",
        "        coherencemodel = CoherenceModel(model=model, texts=lemmatized_corpus, dictionary=dictionary, coherence='c_v')\n",
        "        coherence_values.append(coherencemodel.get_coherence())\n",
        "\n",
        "    return model_list, coherence_values"
      ],
      "execution_count": 0,
      "outputs": []
    },
    {
      "cell_type": "code",
      "metadata": {
        "id": "o0_0lRPBuuin",
        "colab_type": "code",
        "colab": {}
      },
      "source": [
        "# the cell below runs the function set just above and can take a long time to run \n",
        "%%capture\n",
        "model_list, coherence_values = compute_coherence_values(dictionary=id2word, corpus=corpus_tfidf, texts=lemmatized_corpus, start=2, limit=40, step=1)"
      ],
      "execution_count": 0,
      "outputs": []
    },
    {
      "cell_type": "code",
      "metadata": {
        "id": "bwQbGvDyu6dY",
        "colab_type": "code",
        "colab": {
          "base_uri": "https://localhost:8080/",
          "height": 323
        },
        "outputId": "f46b2a5c-1f3f-402c-d907-e32027bfc0b3"
      },
      "source": [
        "# Store the value of the coherence scores for plotting later\n",
        "topics_nr = []\n",
        "topics_scores = []\n",
        "limit=20; start=2; step=1;\n",
        "x = range(start, limit, step)\n",
        "\n",
        "for m, cv in zip(x, coherence_values):\n",
        "    topics_nr.append(str(m))\n",
        "    topics_scores.append(round(cv, 4))\n",
        "    print(\"Num Topics =\", m, \" has Coherence Value of\", round(cv, 4))"
      ],
      "execution_count": 51,
      "outputs": [
        {
          "output_type": "stream",
          "text": [
            "Num Topics = 2  has Coherence Value of 0.2895\n",
            "Num Topics = 3  has Coherence Value of 0.323\n",
            "Num Topics = 4  has Coherence Value of 0.3727\n",
            "Num Topics = 5  has Coherence Value of 0.4415\n",
            "Num Topics = 6  has Coherence Value of 0.4855\n",
            "Num Topics = 7  has Coherence Value of 0.4915\n",
            "Num Topics = 8  has Coherence Value of 0.4787\n",
            "Num Topics = 9  has Coherence Value of 0.4728\n",
            "Num Topics = 10  has Coherence Value of 0.4985\n",
            "Num Topics = 11  has Coherence Value of 0.5345\n",
            "Num Topics = 12  has Coherence Value of 0.5187\n",
            "Num Topics = 13  has Coherence Value of 0.5302\n",
            "Num Topics = 14  has Coherence Value of 0.5264\n",
            "Num Topics = 15  has Coherence Value of 0.5215\n",
            "Num Topics = 16  has Coherence Value of 0.5004\n",
            "Num Topics = 17  has Coherence Value of 0.5296\n",
            "Num Topics = 18  has Coherence Value of 0.5301\n",
            "Num Topics = 19  has Coherence Value of 0.5403\n"
          ],
          "name": "stdout"
        }
      ]
    },
    {
      "cell_type": "code",
      "metadata": {
        "id": "ZQJixShcwItU",
        "colab_type": "code",
        "colab": {}
      },
      "source": [
        "# Visualize coherence scores\n",
        "import matplotlib.pyplot as plt"
      ],
      "execution_count": 0,
      "outputs": []
    },
    {
      "cell_type": "code",
      "metadata": {
        "id": "lYbpmxcQwJzD",
        "colab_type": "code",
        "colab": {
          "base_uri": "https://localhost:8080/",
          "height": 284
        },
        "outputId": "706c6f96-728b-4f1b-b865-6f5499f2f687"
      },
      "source": [
        "plt.plot(topics_nr, topics_scores)"
      ],
      "execution_count": 53,
      "outputs": [
        {
          "output_type": "execute_result",
          "data": {
            "text/plain": [
              "[<matplotlib.lines.Line2D at 0x7fd2af67d828>]"
            ]
          },
          "metadata": {
            "tags": []
          },
          "execution_count": 53
        },
        {
          "output_type": "display_data",
          "data": {
            "image/png": "[encoded data removed]",
            "text/plain": [
              "<Figure size 432x288 with 1 Axes>"
            ]
          },
          "metadata": {
            "tags": [],
            "needs_background": "light"
          }
        }
      ]
    },
    {
      "cell_type": "markdown",
      "metadata": {
        "id": "moVzO1Uvwb8h",
        "colab_type": "text"
      },
      "source": [
        "## 2.5 Visualize the topics"
      ]
    },
    {
      "cell_type": "code",
      "metadata": {
        "id": "HdapLfhFwOH4",
        "colab_type": "code",
        "colab": {}
      },
      "source": [
        "# Plotting tools\n",
        "%%capture\n",
        "! pip install pyldavis\n",
        "import pyLDAvis\n",
        "import pyLDAvis.gensim"
      ],
      "execution_count": 0,
      "outputs": []
    },
    {
      "cell_type": "code",
      "metadata": {
        "id": "gvg_mQJLwmpD",
        "colab_type": "code",
        "colab": {}
      },
      "source": [
        "# insert the model and number of topics you want to visualise\n",
        "# here LDA Gensim with 7 topics\n",
        "%%capture\n",
        "selected_model = models.LdaModel(corpus_tfidf, id2word=id2word, num_topics=7)"
      ],
      "execution_count": 0,
      "outputs": []
    },
    {
      "cell_type": "code",
      "metadata": {
        "id": "TDr0sIMfwuVt",
        "colab_type": "code",
        "colab": {}
      },
      "source": [
        "pyLDAvis.enable_notebook()\n",
        "vis = pyLDAvis.gensim.prepare(selected_model, corpus_tfidf, id2word)"
      ],
      "execution_count": 0,
      "outputs": []
    },
    {
      "cell_type": "code",
      "metadata": {
        "id": "un90fGQ7xAps",
        "colab_type": "code",
        "colab": {
          "base_uri": "https://localhost:8080/",
          "height": 881
        },
        "outputId": "06f37bea-ef41-4192-bfde-ca15d8eb8df8"
      },
      "source": [
        "# Not all functionalities will work as the data has already been pre-processed with TFIDF\n",
        "vis"
      ],
      "execution_count": 58,
      "outputs": [
        {
          "output_type": "execute_result",
          "data": {
            "text/html": [
              "\n",
              "<link rel=\"stylesheet\" type=\"text/css\" href=\"https://cdn.rawgit.com/bmabey/pyLDAvis/files/ldavis.v1.0.0.css\">\n",
              "\n",
              "\n",
              "<div id=\"ldavis_el123140542862363528532036763\"></div>\n",
              "<script type=\"text/javascript\">\n",
              "\n",
              "var ldavis_el123140542862363528532036763_data = {\"mdsDat\": {\"x\": [0.0017420037812225803, -4.765772750577633e-05, 0.00018108413094136366, -0.0007516175524263017, -0.0005010016505239617, -0.00010849578986389197, -0.0005143151918440122], \"y\": [-0.0003100245434134617, -0.0007097654874371235, 0.000988063878632034, -0.0009174834310547416, 0.000594090944730494, 0.0002907752342351268, 6.434340430767454e-05], \"topics\": [1, 2, 3, 4, 5, 6, 7], \"cluster\": [1, 1, 1, 1, 1, 1, 1], \"Freq\": [36.91043472290039, 16.912799835205078, 13.849370002746582, 12.537450790405273, 9.622878074645996, 5.1485137939453125, 5.01854944229126]}, \"tinfo\": {\"Term\": [\"cardinale\", \"available\", \"text\", \"leone\", \"conclave\", \"xiii\", \"immigrare\", \"pontefice\", \"xlll\", \"emigrare\", \"marconi\", \"papa\", \"cella\", \"camerlengo\", \"defunto\", \"teodoro\", \"sociale\", \"decano\", \"papato\", \"immigrazione\", \"prete\", \"oreglia\", \"roosevelt\", \"gotti\", \"vannutelli\", \"commissariare\", \"anello\", \"pecel\", \"riduzione\", \"treno\", \"diamond\", \"black\", \"salmone\", \"pescatore\", \"duchessa\", \"cleveland\", \"sarto\", \"cassare\", \"planches\", \"mayor\", \"basilico\", \"california\", \"siberia\", \"terno\", \"grover\", \"nave\", \"querelare\", \"zanardelu\", \"affarista\", \"richardson\", \"longevit\\u00e0\", \"limone\", \"jose\", \"commerciare\", \"giordano\", \"cardinale\", \"prezzo\", \"congressista\", \"sicilia\", \"mercato\", \"ferro\", \"papa\", \"pontefice\", \"lira\", \"salma\", \"ebreo\", \"bandiera\", \"ambasciatore\", \"pietro\", \"voto\", \"conclave\", \"belgrado\", \"italiano\", \"serbia\", \"marconi\", \"xiii\", \"chaumi\\u00e8\", \"mlles\", \"campanile\", \"fugazy\", \"torturare\", \"oppressore\", \"fragola\", \"benicia\", \"camarlengo\", \"msgr\", \"prete\", \"coole\", \"ragazzo\", \"bovio\", \"rlchter\", \"tolstoi\", \"bilit\\u00e0\", \"guida\", \"bollire\", \"pusillanime\", \"pesca\", \"rocklin\", \"ciliegia\", \"rinnegare\", \"seggio\", \"svilup\", \"bardou\", \"strage\", \"raccogliere\", \"neanche\", \"rivoluzione\", \"duse\", \"bolognese\", \"naso\", \"serbia\", \"regina\", \"dramma\", \"cardinale\", \"serbare\", \"gotti\", \"oreglia\", \"alessandro\", \"giugno\", \"papa\", \"dragare\", \"trieste\", \"venezia\", \"rampollare\", \"conclave\", \"italiano\", \"marconi\", \"belgrado\", \"bandiera\", \"russia\", \"dittatura\", \"mercantile\", \"padrona\", \"operaio\", \"passaporto\", \"regalare\", \"lorenz\", \"fulminato\", \"magro\", \"maest\\u00e0\", \"raggiare\", \"mafia\", \"mascagni\", \"scandalo\", \"combattimento\", \"provvisto\", \"corriera\", \"proletarii\", \"dimmi\", \"crepare\", \"gomito\", \"oligarchia\", \"stritolare\", \"scab\", \"strenna\", \"automobile\", \"disperato\", \"moreno\", \"costringere\", \"comunismo\", \"marconi\", \"edoardo\", \"lavoratore\", \"sognatore\", \"aprile\", \"miniera\", \"terno\", \"sociale\", \"elettrico\", \"popolo\", \"roosevelt\", \"produzione\", \"cardinale\", \"stazione\", \"socialisto\", \"milano\", \"ebreo\", \"pontefice\", \"xiii\", \"conclave\", \"papa\", \"immigrare\", \"touring\", \"marx\", \"williams\", \"esposizione\", \"socialismo\", \"immigrazione\", \"duomo\", \"prinettl\", \"mormone\", \"raffo\", \"eglino\", \"consociato\", \"1895\", \"latino\", \"prandebourg\", \"smeraldo\", \"vinto\", \"club\", \"progettare\", \"ribellione\", \"sociale\", \"edificio\", \"affrescare\", \"capire\", \"brigare\", \"disperso\", \"minoranza\", \"roso\", \"passerella\", \"maggio\", \"negro\", \"festa\", \"lavoratore\", \"marconi\", \"socialisto\", \"belgrado\", \"riduzione\", \"vienna\", \"diamond\", \"serbia\", \"europeo\", \"black\", \"ebreo\", \"czar\", \"giugno\", \"visitare\", \"regina\", \"cardinale\", \"pietro\", \"available\", \"text\", \"diagnosi\", \"pecel\", \"autopsia\", \"uoma\", \"perugia\", \"pleura\", \"world\", \"salma\", \"xlll\", \"fibrina\", \"damascare\", \"escrescenza\", \"lobo\", \"cavit\\u00e0\", \"compitare\", \"affermazione\", \"ferraris\", \"volpino\", \"giovanna\", \"sanderson\", \"defunto\", \"docile\", \"puntura\", \"normale\", \"brago\", \"abnegazione\", \"ventre\", \"terrible\", \"privilegiare\", \"luzzatti\", \"destro\", \"leone\", \"garibaldi\", \"squadrare\", \"xiii\", \"monumento\", \"marconi\", \"progresso\", \"sanguinoso\", \"libert\\u00e0\", \"fonte\", \"rosso\", \"vaticano\", \"scioperare\", \"visitare\", \"ebreo\", \"pontefice\", \"cardinale\", \"papa\", \"conclave\", \"xlll\", \"camerlengo\", \"cella\", \"cordoglio\", \"leone\", \"vannutelli\", \"torcia\", \"kiorno\", \"nardo\", \"decano\", \"conclave\", \"sacramento\", \"tolleranza\", \"cardinale\", \"anello\", \"xiii\", \"candidato\", \"nuncio\", \"spengere\", \"young\", \"diramare\", \"caudatari\", \"legio\", \"mezzetta\", \"conclavista\", \"vestilo\", \"pontificio\", \"pecci\", \"ferraris\", \"paramento\", \"schedare\", \"pontefice\", \"oreglia\", \"santit\\u00e0\", \"papa\", \"collegio\", \"gotti\", \"rampollare\", \"defunto\", \"nominare\", \"sacro\", \"vaticano\", \"produzione\", \"prete\", \"morire\", \"congresso\", \"lapponi\", \"pietro\", \"marconi\", \"teodoro\", \"spirituale\", \"strasburgo\", \"wallace\", \"buenos\", \"freno\", \"puccini\", \"staio\", \"nagar\", \"damiani\", \"lauto\", \"monetare\", \"rossoni\", \"pugliese\", \"investitore\", \"manovale\", \"adriana\", \"antleewltch\", \"pastore\", \"charlotte\", \"bacigalupi\", \"cereale\", \"papato\", \"macchinista\", \"fanny\", \"talare\", \"commissariare\", \"charles\", \"turali\", \"circo\", \"immigrare\", \"emigrare\", \"treno\", \"animale\", \"riduzione\", \"uovo\", \"roosevelt\", \"funzionare\", \"derivare\", \"centro\", \"lavoro\", \"immigrazione\", \"unito\", \"opinione\", \"stazione\", \"ferrovia\", \"giugno\", \"ferroviario\", \"soldato\", \"agosto\", \"incendiare\", \"california\", \"scioperare\", \"cardinale\", \"stagione\", \"marconi\"], \"Freq\": [0.0, 0.0, 0.0, 0.0, 0.0, 0.0, 0.0, 0.0, 0.0, 0.0, 0.0, 0.0, 0.0, 0.0, 0.0, 0.0, 0.0, 0.0, 0.0, 0.0, 0.0, 0.0, 0.0, 0.0, 0.0, 0.0, 0.0, 0.0, 0.0, 0.0, 0.12210269272327423, 0.1165248230099678, 0.08652075380086899, 0.0874846801161766, 0.07740138471126556, 0.08852771669626236, 0.08864645659923553, 0.07364173233509064, 0.07832381874322891, 0.09266050904989243, 0.07585188746452332, 0.10277394205331802, 0.06422483175992966, 0.08613736927509308, 0.06057539954781532, 0.08169396221637726, 0.05933840572834015, 0.05531015992164612, 0.05277314782142639, 0.05188201740384102, 0.05175197124481201, 0.056699108332395554, 0.07107185572385788, 0.07063033431768417, 0.053615450859069824, 0.18783000111579895, 0.06404601782560349, 0.053707897663116455, 0.06688982248306274, 0.058964189141988754, 0.07878820598125458, 0.09723041951656342, 0.08311464637517929, 0.07338143140077591, 0.07340265065431595, 0.08680202066898346, 0.07151651382446289, 0.0695137232542038, 0.07736761122941971, 0.07481435686349869, 0.08209725469350815, 0.07439493387937546, 0.07460951060056686, 0.07645702362060547, 0.08271300047636032, 0.07615318894386292, 0.04344518110156059, 0.033212810754776, 0.029442699626088142, 0.02744413912296295, 0.026178939267992973, 0.02460166998207569, 0.024129455909132957, 0.024311017245054245, 0.030042951926589012, 0.026636626571416855, 0.032304730266332626, 0.022801408544182777, 0.02563990093767643, 0.0270401481539011, 0.02265189401805401, 0.03582443296909332, 0.022365780547261238, 0.023998161777853966, 0.025565268471837044, 0.02165338769555092, 0.021733663976192474, 0.0216426569968462, 0.02155337855219841, 0.021780364215373993, 0.0229770727455616, 0.02145540900528431, 0.022047871723771095, 0.026468122377991676, 0.03274106606841087, 0.022431960329413414, 0.030745137482881546, 0.02798723615705967, 0.02577126957476139, 0.030321188271045685, 0.03926876187324524, 0.03598986193537712, 0.027043163776397705, 0.06568650156259537, 0.028916997835040092, 0.029122959822416306, 0.030169392004609108, 0.030285829678177834, 0.030713003128767014, 0.03495149314403534, 0.02888268418610096, 0.028174135833978653, 0.02929213084280491, 0.02809821255505085, 0.030103038996458054, 0.02897682599723339, 0.03012809157371521, 0.028070636093616486, 0.027675312012434006, 0.027368756011128426, 0.031302567571401596, 0.02795223705470562, 0.027916163206100464, 0.02680366113781929, 0.02366498112678528, 0.025495368987321854, 0.022692186757922173, 0.02055954746901989, 0.021087905392050743, 0.026068957522511482, 0.022293634712696075, 0.027360187843441963, 0.027729356661438942, 0.021756691858172417, 0.022136515006422997, 0.018958689644932747, 0.023252062499523163, 0.018491731956601143, 0.018491478636860847, 0.018491443246603012, 0.018491383641958237, 0.018491258844733238, 0.018491117283701897, 0.018490901216864586, 0.0203789584338665, 0.020608214661478996, 0.020528661087155342, 0.019163036718964577, 0.02238495834171772, 0.018168719485402107, 0.04551387205719948, 0.03113376721739769, 0.029559532180428505, 0.025552313774824142, 0.0268466267734766, 0.02687688358128071, 0.02957887388765812, 0.025825537741184235, 0.023349011316895485, 0.02471199817955494, 0.02567318268120289, 0.025207780301570892, 0.040061164647340775, 0.02462291158735752, 0.024724923074245453, 0.024542568251490593, 0.02605089172720909, 0.024296248331665993, 0.024031987413764, 0.023918937891721725, 0.023575540632009506, 0.03337661921977997, 0.02224118821322918, 0.020832864567637444, 0.021301576867699623, 0.027193419635295868, 0.023127766326069832, 0.025275368243455887, 0.01967943087220192, 0.017838822677731514, 0.017334401607513428, 0.017301419749855995, 0.017125464975833893, 0.017125019803643227, 0.020837709307670593, 0.02755661867558956, 0.01698979362845421, 0.017024483531713486, 0.02071094512939453, 0.019912809133529663, 0.026061829179525375, 0.021120835095643997, 0.026967979967594147, 0.019569020718336105, 0.016226038336753845, 0.017704902216792107, 0.019375402480363846, 0.016669534146785736, 0.01639023795723915, 0.021860625594854355, 0.016751885414123535, 0.03175816684961319, 0.023411957547068596, 0.0244391281157732, 0.0245512742549181, 0.03232645243406296, 0.02445259690284729, 0.024740133434534073, 0.02034447155892849, 0.020647238940000534, 0.02479003742337227, 0.024278925731778145, 0.020836692303419113, 0.023565446957945824, 0.0226261168718338, 0.02106768637895584, 0.021517224609851837, 0.02142472378909588, 0.021290237084031105, 0.02311532385647297, 0.02131222002208233, 0.04483843967318535, 0.044810663908720016, 0.01713738963007927, 0.016251686960458755, 0.014741174876689911, 0.014740879647433758, 0.015095564536750317, 0.015318981371819973, 0.015796341001987457, 0.024105828255414963, 0.013963802717626095, 0.01234517339617014, 0.012345178052783012, 0.01234509889036417, 0.01234505232423544, 0.01234492752701044, 0.01429678499698639, 0.013760416768491268, 0.01253613829612732, 0.01217783521860838, 0.012644258327782154, 0.012103318236768246, 0.0193360336124897, 0.011921627447009087, 0.012392109259963036, 0.014076382853090763, 0.011849806644022465, 0.012426631525158882, 0.011628903448581696, 0.011604484170675278, 0.013669907115399837, 0.012832418084144592, 0.014666748233139515, 0.019484763965010643, 0.01699739322066307, 0.016204535961151123, 0.019880644977092743, 0.015055499039590359, 0.0215911865234375, 0.014564386568963528, 0.013749126344919205, 0.014621902257204056, 0.013504747301340103, 0.013978925533592701, 0.015528092160820961, 0.015495540574193, 0.015380428172647953, 0.015542928129434586, 0.015276622027158737, 0.016361625865101814, 0.014717398211359978, 0.014008225873112679, 0.010221959091722965, 0.009966565296053886, 0.010569781996309757, 0.00831312034279108, 0.0157687496393919, 0.009325155057013035, 0.007599258329719305, 0.0075991484336555, 0.00841106753796339, 0.01032855175435543, 0.017601247876882553, 0.007292249705642462, 0.0071028838865458965, 0.033310871571302414, 0.008221014402806759, 0.015802541747689247, 0.007766178343445063, 0.0069059766829013824, 0.00770467147231102, 0.007036956492811441, 0.00675479881465435, 0.006422955077141523, 0.006422910839319229, 0.006422835867851973, 0.006422834470868111, 0.006422806531190872, 0.008394493721425533, 0.006999437231570482, 0.006768099032342434, 0.0066465637646615505, 0.00850934162735939, 0.013021213933825493, 0.010474479757249355, 0.007600520737469196, 0.013148478232324123, 0.009295597672462463, 0.009213973768055439, 0.009506462141871452, 0.008860263973474503, 0.00870097428560257, 0.008750894106924534, 0.009447399526834488, 0.008896186016499996, 0.008378993719816208, 0.00829694140702486, 0.008318087086081505, 0.007987983524799347, 0.008062191307544708, 0.00807042233645916, 0.009336471557617188, 0.007617517840117216, 0.006640776991844177, 0.00660784961655736, 0.00725039467215538, 0.006588602904230356, 0.007409368176013231, 0.006515819579362869, 0.006288043223321438, 0.006947806570678949, 0.00655602291226387, 0.006755432114005089, 0.006815535482019186, 0.006434464827179909, 0.005871542729437351, 0.005867308005690575, 0.006792319007217884, 0.006042794790118933, 0.005843611434102058, 0.005811529234051704, 0.005797325633466244, 0.006501244846731424, 0.007955332286655903, 0.005791028030216694, 0.005788922309875488, 0.005756848491728306, 0.008326034061610699, 0.006408162415027618, 0.005776030011475086, 0.0067512826062738895, 0.008535776287317276, 0.010036349296569824, 0.008853691630065441, 0.007039886899292469, 0.008119523525238037, 0.00741096306592226, 0.008996359072625637, 0.006783457938581705, 0.0064039030112326145, 0.006612240802496672, 0.007385420147329569, 0.007045095320791006, 0.007595251780003309, 0.007188301533460617, 0.007580368313938379, 0.007086177822202444, 0.007605196442455053, 0.006996667943894863, 0.0070113237015903, 0.007069351151585579, 0.006986780557781458, 0.007386234123259783, 0.007182392291724682, 0.007621742319315672, 0.0069343349896371365, 0.0072121466509997845], \"Total\": [0.0, 0.0, 0.0, 0.0, 0.0, 0.0, 0.0, 0.0, 0.0, 0.0, 0.0, 0.0, 0.0, 0.0, 0.0, 0.0, 0.0, 0.0, 0.0, 0.0, 0.0, 0.0, 0.0, 0.0, 0.0, 0.0, 0.0, 0.0, 0.0, 0.0, 0.18667379021644592, 0.1845993548631668, 0.13746777176856995, 0.1415410339832306, 0.1265140324831009, 0.14716489613056183, 0.15645334124565125, 0.13268953561782837, 0.1411542296409607, 0.16776439547538757, 0.13884924352169037, 0.19043442606925964, 0.11968930065631866, 0.16261841356754303, 0.11445359140634537, 0.1560729742050171, 0.11391346156597137, 0.10732245445251465, 0.10249102115631104, 0.10115566104650497, 0.10106156766414642, 0.11083411425352097, 0.14012710750102997, 0.13947440683841705, 0.10673744231462479, 0.37398722767829895, 0.12789985537528992, 0.10739225894212723, 0.1346615105867386, 0.11880917102098465, 0.16204993426799774, 0.20982888340950012, 0.17613665759563446, 0.15321151912212372, 0.1534505933523178, 0.1885327696800232, 0.15030869841575623, 0.14549849927425385, 0.1708763986825943, 0.1632368415594101, 0.19046837091445923, 0.16384336352348328, 0.17078806459903717, 0.180988609790802, 0.22755518555641174, 0.18157130479812622, 0.11724838614463806, 0.10752600431442261, 0.10579144954681396, 0.09865151345729828, 0.09603352844715118, 0.09179573506116867, 0.09020979702472687, 0.09100911021232605, 0.11344798654317856, 0.1007118970155716, 0.1239471584558487, 0.0875517800450325, 0.09926950186491013, 0.10485488176345825, 0.08815672248601913, 0.14039519429206848, 0.08789075165987015, 0.09482480585575104, 0.10102705657482147, 0.08582110702991486, 0.08614693582057953, 0.08609460294246674, 0.08605992048978806, 0.08702760934829712, 0.0925300121307373, 0.08655983209609985, 0.089095339179039, 0.1071707159280777, 0.13265517354011536, 0.09145604819059372, 0.12553496658802032, 0.11630377173423767, 0.10667464137077332, 0.1300952285528183, 0.180988609790802, 0.16253753006458282, 0.1145629733800888, 0.37398722767829895, 0.1288243532180786, 0.13131354749202728, 0.14477922022342682, 0.15194307267665863, 0.15917113423347473, 0.20982888340950012, 0.1422233283519745, 0.1346699744462967, 0.15696342289447784, 0.14517861604690552, 0.19046837091445923, 0.17078806459903717, 0.22755518555641174, 0.16384336352348328, 0.15030869841575623, 0.14555016160011292, 0.09885861724615097, 0.10515022277832031, 0.1099170446395874, 0.10582982003688812, 0.09473799169063568, 0.10334219038486481, 0.09218724817037582, 0.08758770674467087, 0.09053952991962433, 0.1135016605257988, 0.09719961136579514, 0.12027990072965622, 0.1225694790482521, 0.09698373824357986, 0.09917718172073364, 0.0855378657579422, 0.10548166930675507, 0.08420486748218536, 0.08420490473508835, 0.08420484513044357, 0.08420486748218536, 0.08420485258102417, 0.08420490473508835, 0.08420491218566895, 0.09373057633638382, 0.09513439983129501, 0.09555331617593765, 0.08944272249937057, 0.10534664988517761, 0.0856468454003334, 0.22755518555641174, 0.1554814726114273, 0.14718733727931976, 0.12419310957193375, 0.1372954547405243, 0.14136359095573425, 0.16261841356754303, 0.13785012066364288, 0.11872919648885727, 0.13209721446037292, 0.14777494966983795, 0.1438109576702118, 0.37398722767829895, 0.14527612924575806, 0.1492558866739273, 0.1472378671169281, 0.1885327696800232, 0.17613665759563446, 0.18157130479812622, 0.19046837091445923, 0.20982888340950012, 0.120122030377388, 0.08959964662790298, 0.08753524720668793, 0.09049995243549347, 0.11731930077075958, 0.1009545549750328, 0.11355867236852646, 0.08924080431461334, 0.08544705808162689, 0.08434325456619263, 0.08433432132005692, 0.08382686972618103, 0.0838269367814064, 0.10261452943086624, 0.1366172879934311, 0.0842871218919754, 0.08465360850095749, 0.103252112865448, 0.0996217355132103, 0.13167913258075714, 0.1067604199051857, 0.13785012066364288, 0.10067635774612427, 0.08380945771932602, 0.09209582209587097, 0.10119275003671646, 0.08706604689359665, 0.08591094613075256, 0.11467228084802628, 0.08823259174823761, 0.16749195754528046, 0.12584321200847626, 0.13229967653751373, 0.14718733727931976, 0.22755518555641174, 0.1492558866739273, 0.16384336352348328, 0.11849482357501984, 0.12375053763389587, 0.18667379021644592, 0.180988609790802, 0.1287388652563095, 0.1845993548631668, 0.1885327696800232, 0.14210893213748932, 0.15917113423347473, 0.16063492000102997, 0.16253753006458282, 0.37398722767829895, 0.1708763986825943, 0.11384657770395279, 0.11384604871273041, 0.08599904179573059, 0.08751696348190308, 0.08360181003808975, 0.08360164612531662, 0.08916822075843811, 0.09102325141429901, 0.09830397367477417, 0.1534505933523178, 0.08897791057825089, 0.08120446652173996, 0.08120463788509369, 0.08120439201593399, 0.08120439946651459, 0.08120447397232056, 0.09419390559196472, 0.09111200273036957, 0.08485095947980881, 0.08338859677314758, 0.08688746392726898, 0.08318986743688583, 0.13347052037715912, 0.08247768878936768, 0.08620674908161163, 0.09860467910766602, 0.08308560401201248, 0.08720536530017853, 0.08175498247146606, 0.08176188915967941, 0.09631694108247757, 0.09209604561328888, 0.10864469408988953, 0.1617545634508133, 0.13955946266651154, 0.13035911321640015, 0.18157130479812622, 0.11707064509391785, 0.22755518555641174, 0.12206688523292542, 0.10663433372974396, 0.12538106739521027, 0.10325130820274353, 0.11611563712358475, 0.1598672717809677, 0.15982884168624878, 0.16063492000102997, 0.1885327696800232, 0.17613665759563446, 0.37398722767829895, 0.20982888340950012, 0.19046837091445923, 0.08897791057825089, 0.094181127846241, 0.10202858597040176, 0.08189000189304352, 0.1617545634508133, 0.09704624116420746, 0.07994033396244049, 0.0799407809972763, 0.09007138013839722, 0.11120551824569702, 0.19046837091445923, 0.08100508898496628, 0.07944465428590775, 0.37398722767829895, 0.09444843977689743, 0.18157130479812622, 0.08945666253566742, 0.08070264756679535, 0.09193111956119537, 0.08497253805398941, 0.08196239918470383, 0.07876361161470413, 0.07876367121934891, 0.07876390963792801, 0.0787639170885086, 0.07876378297805786, 0.10314567387104034, 0.08643446117639542, 0.08485095947980881, 0.08341433852910995, 0.10872011631727219, 0.17613665759563446, 0.14477922022342682, 0.09858910739421844, 0.20982888340950012, 0.13149049878120422, 0.13131354749202728, 0.14517861604690552, 0.13347052037715912, 0.1317148357629776, 0.1334829330444336, 0.1598672717809677, 0.1438109576702118, 0.1239471584558487, 0.1210007593035698, 0.15114068984985352, 0.11620045453310013, 0.1708763986825943, 0.22755518555641174, 0.10582505166530609, 0.0869230255484581, 0.08107810467481613, 0.08112499862909317, 0.08944614231586456, 0.08313046395778656, 0.09451831132173538, 0.08333064615726471, 0.08102331310510635, 0.09003711491823196, 0.08618862926959991, 0.08971883356571198, 0.09087757021188736, 0.08691195398569107, 0.07936833053827286, 0.07937426120042801, 0.0918922945857048, 0.08181829005479813, 0.07940787076950073, 0.07945343852043152, 0.07947371155023575, 0.08914142847061157, 0.10910147428512573, 0.07948265969753265, 0.07948574423789978, 0.07953141629695892, 0.11505556106567383, 0.08902529627084732, 0.08089689910411835, 0.09480982273817062, 0.120122030377388, 0.14217688143253326, 0.12568089365959167, 0.09999828040599823, 0.11849482357501984, 0.10804583132266998, 0.14777494966983795, 0.09889880567789078, 0.09185454994440079, 0.09864117205142975, 0.12584064900875092, 0.11355867236852646, 0.14148348569869995, 0.12207488715648651, 0.14527612924575806, 0.11789093166589737, 0.15917113423347473, 0.12004394084215164, 0.12189307063817978, 0.13004034757614136, 0.12115099281072617, 0.19043442606925964, 0.15982884168624878, 0.37398722767829895, 0.12010982632637024, 0.22755518555641174], \"Category\": [\"Default\", \"Default\", \"Default\", \"Default\", \"Default\", \"Default\", \"Default\", \"Default\", \"Default\", \"Default\", \"Default\", \"Default\", \"Default\", \"Default\", \"Default\", \"Default\", \"Default\", \"Default\", \"Default\", \"Default\", \"Default\", \"Default\", \"Default\", \"Default\", \"Default\", \"Default\", \"Default\", \"Default\", \"Default\", \"Default\", \"Topic1\", \"Topic1\", \"Topic1\", \"Topic1\", \"Topic1\", \"Topic1\", \"Topic1\", \"Topic1\", \"Topic1\", \"Topic1\", \"Topic1\", \"Topic1\", \"Topic1\", \"Topic1\", \"Topic1\", \"Topic1\", \"Topic1\", \"Topic1\", \"Topic1\", \"Topic1\", \"Topic1\", \"Topic1\", \"Topic1\", \"Topic1\", \"Topic1\", \"Topic1\", \"Topic1\", \"Topic1\", \"Topic1\", \"Topic1\", \"Topic1\", \"Topic1\", \"Topic1\", \"Topic1\", \"Topic1\", \"Topic1\", \"Topic1\", \"Topic1\", \"Topic1\", \"Topic1\", \"Topic1\", \"Topic1\", \"Topic1\", \"Topic1\", \"Topic1\", \"Topic1\", \"Topic2\", \"Topic2\", \"Topic2\", \"Topic2\", \"Topic2\", \"Topic2\", \"Topic2\", \"Topic2\", \"Topic2\", \"Topic2\", \"Topic2\", \"Topic2\", \"Topic2\", \"Topic2\", \"Topic2\", \"Topic2\", \"Topic2\", \"Topic2\", \"Topic2\", \"Topic2\", \"Topic2\", \"Topic2\", \"Topic2\", \"Topic2\", \"Topic2\", \"Topic2\", \"Topic2\", \"Topic2\", \"Topic2\", \"Topic2\", \"Topic2\", \"Topic2\", \"Topic2\", \"Topic2\", \"Topic2\", \"Topic2\", \"Topic2\", \"Topic2\", \"Topic2\", \"Topic2\", \"Topic2\", \"Topic2\", \"Topic2\", \"Topic2\", \"Topic2\", \"Topic2\", \"Topic2\", \"Topic2\", \"Topic2\", \"Topic2\", \"Topic2\", \"Topic2\", \"Topic2\", \"Topic2\", \"Topic3\", \"Topic3\", \"Topic3\", \"Topic3\", \"Topic3\", \"Topic3\", \"Topic3\", \"Topic3\", \"Topic3\", \"Topic3\", \"Topic3\", \"Topic3\", \"Topic3\", \"Topic3\", \"Topic3\", \"Topic3\", \"Topic3\", \"Topic3\", \"Topic3\", \"Topic3\", \"Topic3\", \"Topic3\", \"Topic3\", \"Topic3\", \"Topic3\", \"Topic3\", \"Topic3\", \"Topic3\", \"Topic3\", \"Topic3\", \"Topic3\", \"Topic3\", \"Topic3\", \"Topic3\", \"Topic3\", \"Topic3\", \"Topic3\", \"Topic3\", \"Topic3\", \"Topic3\", \"Topic3\", \"Topic3\", \"Topic3\", \"Topic3\", \"Topic3\", \"Topic3\", \"Topic3\", \"Topic3\", \"Topic3\", \"Topic3\", \"Topic3\", \"Topic4\", \"Topic4\", \"Topic4\", \"Topic4\", \"Topic4\", \"Topic4\", \"Topic4\", \"Topic4\", \"Topic4\", \"Topic4\", \"Topic4\", \"Topic4\", \"Topic4\", \"Topic4\", \"Topic4\", \"Topic4\", \"Topic4\", \"Topic4\", \"Topic4\", \"Topic4\", \"Topic4\", \"Topic4\", \"Topic4\", \"Topic4\", \"Topic4\", \"Topic4\", \"Topic4\", \"Topic4\", \"Topic4\", \"Topic4\", \"Topic4\", \"Topic4\", \"Topic4\", \"Topic4\", \"Topic4\", \"Topic4\", \"Topic4\", \"Topic4\", \"Topic4\", \"Topic4\", \"Topic4\", \"Topic4\", \"Topic4\", \"Topic4\", \"Topic4\", \"Topic4\", \"Topic4\", \"Topic4\", \"Topic4\", \"Topic4\", \"Topic5\", \"Topic5\", \"Topic5\", \"Topic5\", \"Topic5\", \"Topic5\", \"Topic5\", \"Topic5\", \"Topic5\", \"Topic5\", \"Topic5\", \"Topic5\", \"Topic5\", \"Topic5\", \"Topic5\", \"Topic5\", \"Topic5\", \"Topic5\", \"Topic5\", \"Topic5\", \"Topic5\", \"Topic5\", \"Topic5\", \"Topic5\", \"Topic5\", \"Topic5\", \"Topic5\", \"Topic5\", \"Topic5\", \"Topic5\", \"Topic5\", \"Topic5\", \"Topic5\", \"Topic5\", \"Topic5\", \"Topic5\", \"Topic5\", \"Topic5\", \"Topic5\", \"Topic5\", \"Topic5\", \"Topic5\", \"Topic5\", \"Topic5\", \"Topic5\", \"Topic5\", \"Topic5\", \"Topic5\", \"Topic5\", \"Topic5\", \"Topic5\", \"Topic5\", \"Topic6\", \"Topic6\", \"Topic6\", \"Topic6\", \"Topic6\", \"Topic6\", \"Topic6\", \"Topic6\", \"Topic6\", \"Topic6\", \"Topic6\", \"Topic6\", \"Topic6\", \"Topic6\", \"Topic6\", \"Topic6\", \"Topic6\", \"Topic6\", \"Topic6\", \"Topic6\", \"Topic6\", \"Topic6\", \"Topic6\", \"Topic6\", \"Topic6\", \"Topic6\", \"Topic6\", \"Topic6\", \"Topic6\", \"Topic6\", \"Topic6\", \"Topic6\", \"Topic6\", \"Topic6\", \"Topic6\", \"Topic6\", \"Topic6\", \"Topic6\", \"Topic6\", \"Topic6\", \"Topic6\", \"Topic6\", \"Topic6\", \"Topic6\", \"Topic6\", \"Topic6\", \"Topic6\", \"Topic6\", \"Topic6\", \"Topic7\", \"Topic7\", \"Topic7\", \"Topic7\", \"Topic7\", \"Topic7\", \"Topic7\", \"Topic7\", \"Topic7\", \"Topic7\", \"Topic7\", \"Topic7\", \"Topic7\", \"Topic7\", \"Topic7\", \"Topic7\", \"Topic7\", \"Topic7\", \"Topic7\", \"Topic7\", \"Topic7\", \"Topic7\", \"Topic7\", \"Topic7\", \"Topic7\", \"Topic7\", \"Topic7\", \"Topic7\", \"Topic7\", \"Topic7\", \"Topic7\", \"Topic7\", \"Topic7\", \"Topic7\", \"Topic7\", \"Topic7\", \"Topic7\", \"Topic7\", \"Topic7\", \"Topic7\", \"Topic7\", \"Topic7\", \"Topic7\", \"Topic7\", \"Topic7\", \"Topic7\", \"Topic7\", \"Topic7\", \"Topic7\", \"Topic7\", \"Topic7\", \"Topic7\", \"Topic7\", \"Topic7\", \"Topic7\", \"Topic7\"], \"logprob\": [30.0, 29.0, 28.0, 27.0, 26.0, 25.0, 24.0, 23.0, 22.0, 21.0, 20.0, 19.0, 18.0, 17.0, 16.0, 15.0, 14.0, 13.0, 12.0, 11.0, 10.0, 9.0, 8.0, 7.0, 6.0, 5.0, 4.0, 3.0, 2.0, 1.0, -8.944899559020996, -8.991600036621094, -9.289400100708008, -9.278300285339355, -9.400699615478516, -9.266400337219238, -9.26509952545166, -9.450499534606934, -9.388899803161621, -9.220800399780273, -9.420999526977539, -9.117199897766113, -9.587400436401367, -9.293800354003906, -9.645899772644043, -9.346799850463867, -9.666500091552734, -9.736800193786621, -9.783699989318848, -9.800800323486328, -9.803299903869629, -9.711999893188477, -9.486100196838379, -9.492300033569336, -9.767900466918945, -8.514200210571289, -9.590100288391113, -9.766200065612793, -9.546699523925781, -9.672800064086914, -9.383000373840332, -9.172699928283691, -9.329500198364258, -9.454099655151367, -9.453800201416016, -9.286100387573242, -9.4798002243042, -9.508199691772461, -9.401200294494629, -9.434700012207031, -9.34179973602295, -9.440400123596191, -9.4375, -9.413000106811523, -9.334400177001953, -9.416999816894531, -9.197799682617188, -9.466400146484375, -9.586899757385254, -9.65719985961914, -9.704400062561035, -9.766500473022461, -9.785900115966797, -9.778400421142578, -9.566699981689453, -9.687000274658203, -9.494099617004395, -9.842499732971191, -9.725199699401855, -9.67199993133545, -9.849100112915039, -9.390700340270996, -9.861800193786621, -9.791299819946289, -9.728099822998047, -9.894200325012207, -9.89050006866455, -9.894700050354004, -9.898799896240234, -9.888299942016602, -9.834799766540527, -9.903300285339355, -9.876099586486816, -9.693400382995605, -9.48069953918457, -9.858799934387207, -9.543600082397461, -9.63759994506836, -9.720100402832031, -9.557499885559082, -9.29889965057373, -9.386099815368652, -9.671899795532227, -8.78439998626709, -9.604900360107422, -9.597800254821777, -9.5625, -9.558600425720215, -9.544599533081055, -9.415399551391602, -9.606100082397461, -9.630900382995605, -9.592000007629395, -9.633600234985352, -9.56470012664795, -9.602800369262695, -9.563899993896484, -9.634599685668945, -9.648799896240234, -9.659899711608887, -9.325799942016602, -9.439000129699707, -9.440299987792969, -9.480999946594238, -9.605500221252441, -9.531000137329102, -9.647500038146973, -9.746199607849121, -9.720800399780273, -9.508700370788574, -9.665200233459473, -9.460399627685547, -9.446999549865723, -9.689599990844727, -9.672300338745117, -9.827199935913086, -9.623100280761719, -9.85219955444336, -9.85219955444336, -9.85219955444336, -9.85219955444336, -9.85219955444336, -9.85219955444336, -9.85219955444336, -9.755000114440918, -9.743800163269043, -9.747699737548828, -9.816499710083008, -9.661100387573242, -9.869799613952637, -8.951499938964844, -9.331199645996094, -9.383099555969238, -9.528800010681152, -9.479399681091309, -9.47819995880127, -9.382399559020996, -9.518099784851074, -9.618900299072266, -9.562199592590332, -9.52400016784668, -9.5423002243042, -9.079099655151367, -9.565799713134766, -9.561699867248535, -9.569100379943848, -9.509400367736816, -9.57919979095459, -9.590100288391113, -9.594799995422363, -9.609299659729004, -9.162099838256836, -9.567999839782715, -9.633399963378906, -9.611200332641602, -9.366999626159668, -9.528900146484375, -9.440099716186523, -9.690400123596191, -9.788599967956543, -9.817299842834473, -9.819199562072754, -9.829400062561035, -9.829400062561035, -9.633199691772461, -9.353699684143066, -9.837400436401367, -9.83530044555664, -9.639300346374512, -9.678600311279297, -9.409500122070312, -9.61970043182373, -9.375300407409668, -9.696000099182129, -9.883399963378906, -9.796099662780762, -9.706000328063965, -9.856399536132812, -9.873299598693848, -9.58530044555664, -9.851499557495117, -9.211799621582031, -9.51669979095459, -9.473799705505371, -9.469200134277344, -9.194100379943848, -9.473199844360352, -9.46150016784668, -9.65719985961914, -9.642399787902832, -9.459500312805176, -9.480400085449219, -9.633299827575684, -9.510199546813965, -9.55090045928955, -9.622200012207031, -9.601099967956543, -9.605400085449219, -9.611700057983398, -9.529500007629395, -9.610699653625488, -8.602299690246582, -8.602899551391602, -9.56410026550293, -9.617199897766113, -9.714699745178223, -9.714799880981445, -9.690999984741211, -9.676300048828125, -9.645600318908691, -9.222900390625, -9.768899917602539, -9.89210033416748, -9.89210033416748, -9.89210033416748, -9.89210033416748, -9.89210033416748, -9.745400428771973, -9.783599853515625, -9.876799583435059, -9.905799865722656, -9.868200302124023, -9.91189956665039, -9.443400382995605, -9.927000045776367, -9.888299942016602, -9.760899543762207, -9.933099746704102, -9.885600090026855, -9.951899528503418, -9.954000473022461, -9.790200233459473, -9.853400230407715, -9.719799995422363, -9.435799598693848, -9.57229995727539, -9.620100021362305, -9.415599822998047, -9.693699836730957, -9.333100318908691, -9.726799964904785, -9.78439998626709, -9.722900390625, -9.802399635314941, -9.767800331115723, -9.662699699401855, -9.664799690246582, -9.672300338745117, -9.661800384521484, -9.679100036621094, -9.61050033569336, -9.716400146484375, -9.765800476074219, -9.455400466918945, -9.48069953918457, -9.42199993133545, -9.662099838256836, -9.021900177001953, -9.547200202941895, -9.751899719238281, -9.751899719238281, -9.650400161743164, -9.444999694824219, -8.911999702453613, -9.793100357055664, -9.819499969482422, -8.274100303649902, -9.673299789428711, -9.019800186157227, -9.730199813842773, -9.847599983215332, -9.738100051879883, -9.828800201416016, -9.86970043182373, -9.920100212097168, -9.920100212097168, -9.920100212097168, -9.920100212097168, -9.920100212097168, -9.652400016784668, -9.834099769592285, -9.86769962310791, -9.885899543762207, -9.638799667358398, -9.213399887084961, -9.430999755859375, -9.751700401306152, -9.203700065612793, -9.550399780273438, -9.559200286865234, -9.527999877929688, -9.598400115966797, -9.616499900817871, -9.610799789428711, -9.534199714660645, -9.594300270080566, -9.654199600219727, -9.66409969329834, -9.661499977111816, -9.70199966430664, -9.69279956817627, -9.691800117492676, -9.520500183105469, -9.723899841308594, -9.861200332641602, -9.866100311279297, -9.773300170898438, -9.869000434875488, -9.75160026550293, -9.880200386047363, -9.91569995880127, -9.815999984741211, -9.87399959564209, -9.843999862670898, -9.835200309753418, -9.8927001953125, -9.984299659729004, -9.984999656677246, -9.838600158691406, -9.955499649047852, -9.98900032043457, -9.994500160217285, -9.996999740600586, -9.882399559020996, -9.6806001663208, -9.998100280761719, -9.99839973449707, -10.003999710083008, -9.635000228881836, -9.89680004119873, -10.000699996948242, -9.84469985961914, -9.610099792480469, -9.448200225830078, -9.573599815368652, -9.802800178527832, -9.660099983215332, -9.751399993896484, -9.557600021362305, -9.839900016784668, -9.897500038146973, -9.865500450134277, -9.754899978637695, -9.80210018157959, -9.726900100708008, -9.781900405883789, -9.728799819946289, -9.796199798583984, -9.725600242614746, -9.809000015258789, -9.806900024414062, -9.798600196838379, -9.810400009155273, -9.754799842834473, -9.78279972076416, -9.723400115966797, -9.817899703979492, -9.778599739074707], \"loglift\": [30.0, 29.0, 28.0, 27.0, 26.0, 25.0, 24.0, 23.0, 22.0, 21.0, 20.0, 19.0, 18.0, 17.0, 16.0, 15.0, 14.0, 13.0, 12.0, 11.0, 10.0, 9.0, 8.0, 7.0, 6.0, 5.0, 4.0, 3.0, 2.0, 1.0, 0.5722000002861023, 0.5365999937057495, 0.5336999893188477, 0.515500009059906, 0.505299985408783, 0.48840001225471497, 0.428600013256073, 0.40790000557899475, 0.4077000021934509, 0.40310001373291016, 0.3921000063419342, 0.3799000084400177, 0.3741999864578247, 0.3612000048160553, 0.36039999127388, 0.34929999709129333, 0.34450000524520874, 0.33379998803138733, 0.3328999876976013, 0.32899999618530273, 0.32739999890327454, 0.3264000117778778, 0.31779998540878296, 0.31630000472068787, 0.30809998512268066, 0.30799999833106995, 0.3050000071525574, 0.3037000000476837, 0.296999990940094, 0.296099990606308, 0.27549999952316284, 0.22750000655651093, 0.24560000002384186, 0.2605000138282776, 0.25929999351501465, 0.22100000083446503, 0.2538999915122986, 0.257999986410141, 0.20430000126361847, 0.21649999916553497, 0.1551000028848648, 0.20720000565052032, 0.16850000619888306, 0.13500000536441803, -0.015300000086426735, 0.12780000269412994, 0.7843000292778015, 0.6022999882698059, 0.49810001254081726, 0.4977000057697296, 0.477400004863739, 0.4602999985218048, 0.45840001106262207, 0.4571000039577484, 0.44839999079704285, 0.4471000134944916, 0.4325000047683716, 0.4316999912261963, 0.42340001463890076, 0.42179998755455017, 0.41819998621940613, 0.41130000352859497, 0.40849998593330383, 0.40299999713897705, 0.40290001034736633, 0.4000000059604645, 0.39989998936653137, 0.39629998803138733, 0.39259999990463257, 0.3919000029563904, 0.3840999901294708, 0.3822000026702881, 0.3806000053882599, 0.37860000133514404, 0.3779999911785126, 0.3716999888420105, 0.3702000081539154, 0.35260000824928284, 0.35659998655319214, 0.3206999897956848, 0.249099999666214, 0.2694000005722046, 0.33340001106262207, 0.03779999911785126, 0.2831000089645386, 0.2709999978542328, 0.2087000012397766, 0.16429999470710754, 0.13179999589920044, -0.015200000256299973, 0.18289999663829803, 0.2126999944448471, 0.09839999675750732, 0.1348000019788742, -0.06780000030994415, 0.0031999999191612005, -0.24480000138282776, 0.012900000438094139, 0.08489999920129776, 0.10599999874830246, 0.8269000053405762, 0.6520000100135803, 0.6064000129699707, 0.603600025177002, 0.5898000001907349, 0.5774000287055969, 0.5751000046730042, 0.5275999903678894, 0.5198000073432922, 0.5059000253677368, 0.5044999718666077, 0.49619999527931213, 0.49070000648498535, 0.4823000133037567, 0.4772999882698059, 0.4702000021934509, 0.46480000019073486, 0.460999995470047, 0.460999995470047, 0.460999995470047, 0.460999995470047, 0.460999995470047, 0.460999995470047, 0.460999995470047, 0.45100000500679016, 0.447299987077713, 0.4390999972820282, 0.43630000948905945, 0.42809998989105225, 0.42640000581741333, 0.3675999939441681, 0.3686999976634979, 0.3716000020503998, 0.39579999446868896, 0.3449000120162964, 0.31690001487731934, 0.272599995136261, 0.3021000027656555, 0.350600004196167, 0.30070000886917114, 0.22669999301433563, 0.23559999465942383, -0.25690001249313354, 0.20200000703334808, 0.17910000681877136, 0.18529999256134033, -0.002300000051036477, -0.004000000189989805, -0.04529999941587448, -0.09790000319480896, -0.20919999480247498, 0.795799970626831, 0.6830000281333923, 0.6409000158309937, 0.6298999786376953, 0.6144999861717224, 0.6028000116348267, 0.5740000009536743, 0.5647000074386597, 0.5098999738693237, 0.4941999912261963, 0.49239999055862427, 0.48829999566078186, 0.48820000886917114, 0.4821999967098236, 0.4754999876022339, 0.4747999906539917, 0.4724999964237213, 0.4699000120162964, 0.46639999747276306, 0.45660001039505005, 0.4560999870300293, 0.4449000060558319, 0.43849998712539673, 0.4345000088214874, 0.42750000953674316, 0.42340001463890076, 0.42340001463890076, 0.4198000133037567, 0.41909998655319214, 0.41499999165534973, 0.41370001435279846, 0.39469999074935913, 0.38760000467300415, 0.2854999899864197, 0.12489999830722809, 0.26750001311302185, 0.1860000044107437, 0.31439998745918274, 0.2858000099658966, 0.057500001043081284, 0.06759999692440033, 0.25540000200271606, 0.017999999225139618, -0.043699998408555984, 0.16760000586509705, 0.07530000060796738, 0.061900001019239426, 0.043800000101327896, -0.7073000073432922, -0.005200000014156103, 1.4091999530792236, 1.4085999727249146, 0.7279999852180481, 0.6574000120162964, 0.6055999994277954, 0.6055999994277954, 0.5648999810218811, 0.5590000152587891, 0.5127000212669373, 0.4900999963283539, 0.48910000920295715, 0.45730000734329224, 0.45730000734329224, 0.45730000734329224, 0.45730000734329224, 0.45730000734329224, 0.45570001006126404, 0.4507000148296356, 0.4287000000476837, 0.4171000123023987, 0.41359999775886536, 0.41339999437332153, 0.4090999960899353, 0.40689998865127563, 0.40130001306533813, 0.3944000005722046, 0.3935000002384186, 0.39259999990463257, 0.39079999923706055, 0.3885999917984009, 0.3885999917984009, 0.3702000081539154, 0.3384999930858612, 0.22460000216960907, 0.23559999465942383, 0.25600001215934753, 0.1290999948978424, 0.28999999165534973, -0.014100000262260437, 0.2150000035762787, 0.29260000586509705, 0.19220000505447388, 0.3068999946117401, 0.2240000069141388, 0.00930000003427267, 0.007499999832361937, -0.004999999888241291, -0.15459999442100525, -0.1039000004529953, -0.7882999777793884, -0.31619998812675476, -0.2687999904155731, 0.8026000261306763, 0.7204999923706055, 0.6991999745368958, 0.6789000034332275, 0.6384000182151794, 0.6240000128746033, 0.6132000088691711, 0.6132000088691711, 0.5953999757766724, 0.5899999737739563, 0.5849000215530396, 0.5587999820709229, 0.5519000291824341, 0.5480999946594238, 0.5250999927520752, 0.5249999761581421, 0.5224999785423279, 0.5080999732017517, 0.487199991941452, 0.47530001401901245, 0.47049999237060547, 0.45989999175071716, 0.45989999175071716, 0.45989999175071716, 0.45989999175071716, 0.45989999175071716, 0.4578999876976013, 0.4528999924659729, 0.43779999017715454, 0.4366999864578247, 0.4187999963760376, 0.3617999851703644, 0.3402000069618225, 0.40369999408721924, 0.1965000033378601, 0.31709998846054077, 0.30959999561309814, 0.24050000309944153, 0.2542000114917755, 0.2493000030517578, 0.24160000681877136, 0.1378999948501587, 0.18359999358654022, 0.27230000495910645, 0.2865999937057495, 0.06669999659061432, 0.2890999913215637, -0.08730000257492065, -0.3727000057697296, 0.5641999840736389, 0.5575000047683716, 0.48980000615119934, 0.48429998755455017, 0.47940000891685486, 0.4569999873638153, 0.44600000977516174, 0.44339999556541443, 0.4359000027179718, 0.4302000105381012, 0.41589999198913574, 0.4056999981403351, 0.4016999900341034, 0.3887999951839447, 0.3880000114440918, 0.3873000144958496, 0.3871999979019165, 0.3864000141620636, 0.38280001282691956, 0.3767000138759613, 0.37400001287460327, 0.37380000948905945, 0.3736000061035156, 0.37279999256134033, 0.3723999857902527, 0.36629998683929443, 0.3659999966621399, 0.36070001125335693, 0.35260000824928284, 0.3499000072479248, 0.34779998660087585, 0.34119999408721924, 0.3391000032424927, 0.3384999930858612, 0.31139999628067017, 0.3124000132083893, 0.1932000070810318, 0.3124000132083893, 0.3287000060081482, 0.28949999809265137, 0.15649999678134918, 0.21199999749660492, 0.0674000009894371, 0.1597999930381775, 0.039000000804662704, 0.18039999902248383, -0.04910000041127205, 0.14959999918937683, 0.1363999992609024, 0.07999999821186066, 0.13899999856948853, -0.25769999623298645, -0.1103999987244606, -0.901199996471405, 0.14010000228881836, -0.4596000015735626]}, \"token.table\": {\"Topic\": [], \"Freq\": [], \"Term\": []}, \"R\": 30, \"lambda.step\": 0.01, \"plot.opts\": {\"xlab\": \"PC1\", \"ylab\": \"PC2\"}, \"topic.order\": [2, 4, 7, 6, 5, 3, 1]};\n",
              "\n",
              "function LDAvis_load_lib(url, callback){\n",
              "  var s = document.createElement('script');\n",
              "  s.src = url;\n",
              "  s.async = true;\n",
              "  s.onreadystatechange = s.onload = callback;\n",
              "  s.onerror = function(){console.warn(\"failed to load library \" + url);};\n",
              "  document.getElementsByTagName(\"head\")[0].appendChild(s);\n",
              "}\n",
              "\n",
              "if(typeof(LDAvis) !== \"undefined\"){\n",
              "   // already loaded: just create the visualization\n",
              "   !function(LDAvis){\n",
              "       new LDAvis(\"#\" + \"ldavis_el123140542862363528532036763\", ldavis_el123140542862363528532036763_data);\n",
              "   }(LDAvis);\n",
              "}else if(typeof define === \"function\" && define.amd){\n",
              "   // require.js is available: use it to load d3/LDAvis\n",
              "   require.config({paths: {d3: \"https://cdnjs.cloudflare.com/ajax/libs/d3/3.5.5/d3.min\"}});\n",
              "   require([\"d3\"], function(d3){\n",
              "      window.d3 = d3;\n",
              "      LDAvis_load_lib(\"https://cdn.rawgit.com/bmabey/pyLDAvis/files/ldavis.v1.0.0.js\", function(){\n",
              "        new LDAvis(\"#\" + \"ldavis_el123140542862363528532036763\", ldavis_el123140542862363528532036763_data);\n",
              "      });\n",
              "    });\n",
              "}else{\n",
              "    // require.js not available: dynamically load d3 & LDAvis\n",
              "    LDAvis_load_lib(\"https://cdnjs.cloudflare.com/ajax/libs/d3/3.5.5/d3.min.js\", function(){\n",
              "         LDAvis_load_lib(\"https://cdn.rawgit.com/bmabey/pyLDAvis/files/ldavis.v1.0.0.js\", function(){\n",
              "                 new LDAvis(\"#\" + \"ldavis_el123140542862363528532036763\", ldavis_el123140542862363528532036763_data);\n",
              "            })\n",
              "         });\n",
              "}\n",
              "</script>"
            ],
            "text/plain": [
              "PreparedData(topic_coordinates=              x         y  topics  cluster       Freq\n",
              "topic                                                \n",
              "1      0.001742 -0.000310       1        1  36.910435\n",
              "3     -0.000048 -0.000710       2        1  16.912800\n",
              "6      0.000181  0.000988       3        1  13.849370\n",
              "5     -0.000752 -0.000917       4        1  12.537451\n",
              "4     -0.000501  0.000594       5        1   9.622878\n",
              "2     -0.000108  0.000291       6        1   5.148514\n",
              "0     -0.000514  0.000064       7        1   5.018549, topic_info=             Term      Freq     Total Category  logprob  loglift\n",
              "2854    cardinale  0.000000  0.000000  Default  30.0000  30.0000\n",
              "23562   available  0.000000  0.000000  Default  29.0000  29.0000\n",
              "23563        text  0.000000  0.000000  Default  28.0000  28.0000\n",
              "509         leone  0.000000  0.000000  Default  27.0000  27.0000\n",
              "4109     conclave  0.000000  0.000000  Default  26.0000  26.0000\n",
              "...           ...       ...       ...      ...      ...      ...\n",
              "4430   california  0.007386  0.190434   Topic7  -9.7548  -0.2577\n",
              "5823   scioperare  0.007182  0.159829   Topic7  -9.7828  -0.1104\n",
              "2854    cardinale  0.007622  0.373987   Topic7  -9.7234  -0.9012\n",
              "4876     stagione  0.006934  0.120110   Topic7  -9.8179   0.1401\n",
              "1580      marconi  0.007212  0.227555   Topic7  -9.7786  -0.4596\n",
              "\n",
              "[388 rows x 6 columns], token_table=Empty DataFrame\n",
              "Columns: [Topic, Freq, Term]\n",
              "Index: [], R=30, lambda_step=0.01, plot_opts={'xlab': 'PC1', 'ylab': 'PC2'}, topic_order=[2, 4, 7, 6, 5, 3, 1])"
            ]
          },
          "metadata": {
            "tags": []
          },
          "execution_count": 58
        }
      ]
    },
    {
      "cell_type": "markdown",
      "metadata": {
        "id": "jyKKjrHYxj2H",
        "colab_type": "text"
      },
      "source": [
        "# Topic distribution"
      ]
    },
    {
      "cell_type": "markdown",
      "metadata": {
        "id": "cbgXWlTHxwxw",
        "colab_type": "text"
      },
      "source": [
        "## 1. Distribution per topic and per document"
      ]
    },
    {
      "cell_type": "code",
      "metadata": {
        "id": "MNIPexCOxp1D",
        "colab_type": "code",
        "colab": {}
      },
      "source": [
        "%%capture\n",
        "ldamodel = models.LdaModel(corpus_tfidf, num_topics=7, id2word = id2word, minimum_probability=0)"
      ],
      "execution_count": 0,
      "outputs": []
    },
    {
      "cell_type": "code",
      "metadata": {
        "id": "-qUYq_fUxaMg",
        "colab_type": "code",
        "colab": {}
      },
      "source": [
        "distribution = pd.DataFrame(index=[i for i in range(len(corpus_tfidf))],columns=[f'topic{i}' for i in range(numtopics)])"
      ],
      "execution_count": 0,
      "outputs": []
    },
    {
      "cell_type": "code",
      "metadata": {
        "id": "ccvWwaHoxhIT",
        "colab_type": "code",
        "colab": {}
      },
      "source": [
        "for i in range(len(corpus_tfidf)):\n",
        "  row = [list(j)[1] for j in ldamodel[corpus_tfidf[i]]] \n",
        "  distribution.loc[i] = row"
      ],
      "execution_count": 0,
      "outputs": []
    },
    {
      "cell_type": "code",
      "metadata": {
        "id": "OPWXPV0t4y-e",
        "colab_type": "code",
        "colab": {}
      },
      "source": [
        "# add file name\n",
        "distribution.insert(0, 'document_path', sources['file_name'])"
      ],
      "execution_count": 0,
      "outputs": []
    },
    {
      "cell_type": "code",
      "metadata": {
        "id": "nY_8oF10zZ8Q",
        "colab_type": "code",
        "colab": {
          "base_uri": "https://localhost:8080/",
          "height": 419
        },
        "outputId": "83b3a154-320f-4c2c-a4c5-0dfddb0daca2"
      },
      "source": [
        "distribution"
      ],
      "execution_count": 107,
      "outputs": [
        {
          "output_type": "execute_result",
          "data": {
            "text/html": [
              "<div>\n",
              "<style scoped>\n",
              "    .dataframe tbody tr th:only-of-type {\n",
              "        vertical-align: middle;\n",
              "    }\n",
              "\n",
              "    .dataframe tbody tr th {\n",
              "        vertical-align: top;\n",
              "    }\n",
              "\n",
              "    .dataframe thead th {\n",
              "        text-align: right;\n",
              "    }\n",
              "</style>\n",
              "<table border=\"1\" class=\"dataframe\">\n",
              "  <thead>\n",
              "    <tr style=\"text-align: right;\">\n",
              "      <th></th>\n",
              "      <th>document_path</th>\n",
              "      <th>topic0</th>\n",
              "      <th>topic1</th>\n",
              "      <th>topic2</th>\n",
              "      <th>topic3</th>\n",
              "      <th>topic4</th>\n",
              "      <th>topic5</th>\n",
              "      <th>topic6</th>\n",
              "    </tr>\n",
              "  </thead>\n",
              "  <tbody>\n",
              "    <tr>\n",
              "      <th>0</th>\n",
              "      <td>sn85066408_1903-06-06_ed-1_seq-1_ocr.txt</td>\n",
              "      <td>0.00499716</td>\n",
              "      <td>0.00498463</td>\n",
              "      <td>0.00498443</td>\n",
              "      <td>0.00498277</td>\n",
              "      <td>0.00499705</td>\n",
              "      <td>0.970076</td>\n",
              "      <td>0.00497752</td>\n",
              "    </tr>\n",
              "    <tr>\n",
              "      <th>1</th>\n",
              "      <td>sn85066408_1903-05-09_ed-1_seq-1_ocr.txt</td>\n",
              "      <td>0.967913</td>\n",
              "      <td>0.00534547</td>\n",
              "      <td>0.00534436</td>\n",
              "      <td>0.00534388</td>\n",
              "      <td>0.00535838</td>\n",
              "      <td>0.00535526</td>\n",
              "      <td>0.00533959</td>\n",
              "    </tr>\n",
              "    <tr>\n",
              "      <th>2</th>\n",
              "      <td>sn85066408_1903-04-28_ed-1_seq-1_ocr.txt</td>\n",
              "      <td>0.517596</td>\n",
              "      <td>0.4586</td>\n",
              "      <td>0.00475932</td>\n",
              "      <td>0.00476218</td>\n",
              "      <td>0.00477014</td>\n",
              "      <td>0.00475753</td>\n",
              "      <td>0.00475433</td>\n",
              "    </tr>\n",
              "    <tr>\n",
              "      <th>3</th>\n",
              "      <td>sn85066408_1903-06-26_ed-1_seq-1_ocr.txt</td>\n",
              "      <td>0.0048507</td>\n",
              "      <td>0.00483825</td>\n",
              "      <td>0.00483992</td>\n",
              "      <td>0.00483687</td>\n",
              "      <td>0.970965</td>\n",
              "      <td>0.00483661</td>\n",
              "      <td>0.00483307</td>\n",
              "    </tr>\n",
              "    <tr>\n",
              "      <th>4</th>\n",
              "      <td>sn85066408_1903-06-17_ed-1_seq-1_ocr.txt</td>\n",
              "      <td>0.478805</td>\n",
              "      <td>0.00490384</td>\n",
              "      <td>0.00490251</td>\n",
              "      <td>0.496678</td>\n",
              "      <td>0.0049136</td>\n",
              "      <td>0.00490024</td>\n",
              "      <td>0.00489694</td>\n",
              "    </tr>\n",
              "    <tr>\n",
              "      <th>...</th>\n",
              "      <td>...</td>\n",
              "      <td>...</td>\n",
              "      <td>...</td>\n",
              "      <td>...</td>\n",
              "      <td>...</td>\n",
              "      <td>...</td>\n",
              "      <td>...</td>\n",
              "      <td>...</td>\n",
              "    </tr>\n",
              "    <tr>\n",
              "      <th>95</th>\n",
              "      <td>sn85066408_1903-07-28_ed-1_seq-1_ocr.txt</td>\n",
              "      <td>0.965865</td>\n",
              "      <td>0.00569355</td>\n",
              "      <td>0.00568965</td>\n",
              "      <td>0.00568748</td>\n",
              "      <td>0.00569623</td>\n",
              "      <td>0.00568657</td>\n",
              "      <td>0.00568183</td>\n",
              "    </tr>\n",
              "    <tr>\n",
              "      <th>96</th>\n",
              "      <td>sn85066408_1903-05-23_ed-1_seq-1_ocr.txt</td>\n",
              "      <td>0.00490888</td>\n",
              "      <td>0.00490674</td>\n",
              "      <td>0.0049104</td>\n",
              "      <td>0.00490524</td>\n",
              "      <td>0.970557</td>\n",
              "      <td>0.00490869</td>\n",
              "      <td>0.00490317</td>\n",
              "    </tr>\n",
              "    <tr>\n",
              "      <th>97</th>\n",
              "      <td>sn85066408_1903-05-26_ed-1_seq-1_ocr.txt</td>\n",
              "      <td>0.0056746</td>\n",
              "      <td>0.00566501</td>\n",
              "      <td>0.00566447</td>\n",
              "      <td>0.00566404</td>\n",
              "      <td>0.966008</td>\n",
              "      <td>0.0056629</td>\n",
              "      <td>0.0056609</td>\n",
              "    </tr>\n",
              "    <tr>\n",
              "      <th>98</th>\n",
              "      <td>sn85066408_1903-06-16_ed-1_seq-1_ocr.txt</td>\n",
              "      <td>0.00971437</td>\n",
              "      <td>0.00521802</td>\n",
              "      <td>0.00521804</td>\n",
              "      <td>0.00521567</td>\n",
              "      <td>0.177931</td>\n",
              "      <td>0.00521683</td>\n",
              "      <td>0.791487</td>\n",
              "    </tr>\n",
              "    <tr>\n",
              "      <th>99</th>\n",
              "      <td>sn85066408_1903-08-07_ed-1_seq-1_ocr.txt</td>\n",
              "      <td>0.00512061</td>\n",
              "      <td>0.687262</td>\n",
              "      <td>0.00512435</td>\n",
              "      <td>0.00511258</td>\n",
              "      <td>0.28716</td>\n",
              "      <td>0.00511211</td>\n",
              "      <td>0.00510799</td>\n",
              "    </tr>\n",
              "  </tbody>\n",
              "</table>\n",
              "<p>100 rows × 8 columns</p>\n",
              "</div>"
            ],
            "text/plain": [
              "                               document_path  ...      topic6\n",
              "0   sn85066408_1903-06-06_ed-1_seq-1_ocr.txt  ...  0.00497752\n",
              "1   sn85066408_1903-05-09_ed-1_seq-1_ocr.txt  ...  0.00533959\n",
              "2   sn85066408_1903-04-28_ed-1_seq-1_ocr.txt  ...  0.00475433\n",
              "3   sn85066408_1903-06-26_ed-1_seq-1_ocr.txt  ...  0.00483307\n",
              "4   sn85066408_1903-06-17_ed-1_seq-1_ocr.txt  ...  0.00489694\n",
              "..                                       ...  ...         ...\n",
              "95  sn85066408_1903-07-28_ed-1_seq-1_ocr.txt  ...  0.00568183\n",
              "96  sn85066408_1903-05-23_ed-1_seq-1_ocr.txt  ...  0.00490317\n",
              "97  sn85066408_1903-05-26_ed-1_seq-1_ocr.txt  ...   0.0056609\n",
              "98  sn85066408_1903-06-16_ed-1_seq-1_ocr.txt  ...    0.791487\n",
              "99  sn85066408_1903-08-07_ed-1_seq-1_ocr.txt  ...  0.00510799\n",
              "\n",
              "[100 rows x 8 columns]"
            ]
          },
          "metadata": {
            "tags": []
          },
          "execution_count": 107
        }
      ]
    },
    {
      "cell_type": "markdown",
      "metadata": {
        "id": "4-RoDqS9zn50",
        "colab_type": "text"
      },
      "source": [
        "## 2. Distribution per topic for the whole corpus"
      ]
    },
    {
      "cell_type": "code",
      "metadata": {
        "id": "HnKDmWF8zrdy",
        "colab_type": "code",
        "colab": {
          "base_uri": "https://localhost:8080/",
          "height": 394
        },
        "outputId": "2ab0a0b1-208a-4ee4-ba1b-cb67cb478eee"
      },
      "source": [
        "for i in range(len(distribution.columns)):\n",
        "  topic_weight = round(sum(distribution.iloc[:,i]),2)\n",
        "  print( f'topic {i}: {topic_weight}%' )\n",
        "  topic = ldagensim_tfidf.print_topics()[i][1]\n",
        "  print( f'terms: {topic} ') \n",
        "  print( )"
      ],
      "execution_count": 98,
      "outputs": [
        {
          "output_type": "stream",
          "text": [
            "topic 0: 18.37%\n",
            "terms: 0.000*\"cardinale\" + 0.000*\"serbia\" + 0.000*\"conclave\" + 0.000*\"diamond\" + 0.000*\"xiii\" + 0.000*\"black\" + 0.000*\"leone\" + 0.000*\"papa\" + 0.000*\"salmone\" + 0.000*\"pescatore\" \n",
            "\n",
            "topic 1: 14.34%\n",
            "terms: 0.000*\"cardinale\" + 0.000*\"marconi\" + 0.000*\"mayor\" + 0.000*\"lira\" + 0.000*\"scioperare\" + 0.000*\"cleveland\" + 0.000*\"venezia\" + 0.000*\"ebreo\" + 0.000*\"produzione\" + 0.000*\"squadrare\" \n",
            "\n",
            "topic 2: 11.11%\n",
            "terms: 0.000*\"cardinale\" + 0.000*\"marconi\" + 0.000*\"immigrare\" + 0.000*\"jose\" + 0.000*\"latino\" + 0.000*\"belgrado\" + 0.000*\"mafia\" + 0.000*\"emigrare\" + 0.000*\"tolstoi\" + 0.000*\"cleveland\" \n",
            "\n",
            "topic 3: 8.56%\n",
            "terms: 0.000*\"cardinale\" + 0.000*\"tolstoi\" + 0.000*\"xiii\" + 0.000*\"padrona\" + 0.000*\"miniera\" + 0.000*\"pontefice\" + 0.000*\"dittatura\" + 0.000*\"papa\" + 0.000*\"salma\" + 0.000*\"roosevelt\" \n",
            "\n",
            "topic 4: 36.51%\n",
            "terms: 0.000*\"text\" + 0.000*\"available\" + 0.000*\"lavoratore\" + 0.000*\"maggio\" + 0.000*\"ebreo\" + 0.000*\"marconi\" + 0.000*\"cardinale\" + 0.000*\"roso\" + 0.000*\"festa\" + 0.000*\"borghesia\" \n",
            "\n",
            "topic 5: 7.34%\n",
            "terms: 0.000*\"cardinale\" + 0.000*\"conclave\" + 0.000*\"terno\" + 0.000*\"papa\" + 0.000*\"gotti\" + 0.000*\"pontefice\" + 0.000*\"marconi\" + 0.000*\"california\" + 0.000*\"siberia\" + 0.000*\"pietro\" \n",
            "\n",
            "topic 6: 3.77%\n",
            "terms: 0.000*\"cardinale\" + 0.000*\"oreglia\" + 0.000*\"california\" + 0.000*\"papa\" + 0.000*\"edoardo\" + 0.000*\"negro\" + 0.000*\"regalare\" + 0.000*\"marconi\" + 0.000*\"duse\" + 0.000*\"camarlengo\" \n",
            "\n"
          ],
          "name": "stdout"
        }
      ]
    }
  ]
}
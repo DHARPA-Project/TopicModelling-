{
  "nbformat": 4,
  "nbformat_minor": 0,
  "metadata": {
    "colab": {
      "name": "Copy of topic_modelling_tfidf_2.ipynb",
      "provenance": [],
      "collapsed_sections": [],
      "toc_visible": true
    },
    "kernelspec": {
      "name": "python3",
      "display_name": "Python 3"
    }
  },
  "cells": [
    {
      "cell_type": "code",
      "metadata": {
        "id": "7FwlEnNvQJNG",
        "colab_type": "code",
        "colab": {}
      },
      "source": [
        "import json\n",
        "import requests\n",
        "import urllib"
      ],
      "execution_count": 0,
      "outputs": []
    },
    {
      "cell_type": "markdown",
      "metadata": {
        "id": "6AZPes5RSYG2",
        "colab_type": "text"
      },
      "source": [
        "# 0. Preliminary step to get sample data\n",
        "\n"
      ]
    },
    {
      "cell_type": "markdown",
      "metadata": {
        "id": "WaRiBwgFTg2p",
        "colab_type": "text"
      },
      "source": [
        "This preliminary step is reproducing Lorella's workflow Python file:\n",
        "https://i-lab.public.data.uu.nl/vault-ocex/ChroniclItaly%20-%20Italian%20American%20newspapers%20corpus%20from%201898%20to%201920%5B1529330521%5D/original/\n",
        "I just added a folder \"data_1\" to keep all files in one folder"
      ]
    },
    {
      "cell_type": "code",
      "metadata": {
        "id": "VK81EVJim0Jc",
        "colab_type": "code",
        "colab": {}
      },
      "source": [
        "mkdir 'data1'"
      ],
      "execution_count": 0,
      "outputs": []
    },
    {
      "cell_type": "code",
      "metadata": {
        "id": "9O_c4pYzXsP_",
        "colab_type": "code",
        "colab": {}
      },
      "source": [
        "# Base URL\n",
        "chronam = 'https://chroniclingamerica.loc.gov/'\n",
        "\n",
        "# Chronicling America search results\n",
        "results = 'https://chroniclingamerica.loc.gov/search/pages/results/?date1=1880&date2=1920&searchType=advanced&language=ita&sequence=1&lccn=2012271201&lccn=sn85066408&lccn=sn85055164&lccn=sn85054967&lccn=sn88064299&lccn=sn84037024&lccn=sn84037025&lccn=sn86092310&proxdistance=5&state=California&state=District+of+Columbia&state=Massachusetts&state=Pennsylvania&state=Piedmont&state=Vermont&state=West+Virginia&rows=100&ortext=&proxtext=&phrasetext=&andtext=&dateFilterType=yearRange&page=11&sort=date'\n",
        "\n",
        "# Count to keep track of downloaded files\n",
        "count = 0\n",
        "\n",
        "# Gets search results in JSON format\n",
        "results_json = results + '&format=json'\n"
      ],
      "execution_count": 0,
      "outputs": []
    },
    {
      "cell_type": "code",
      "metadata": {
        "id": "DQwqRYbydrq4",
        "colab_type": "code",
        "colab": {}
      },
      "source": [
        "# Returns JSON \n",
        "def get_json(url):\n",
        "    data = requests.get(url)\n",
        "    return(json.loads(data.content))\n",
        "    \n",
        "data = get_json(results_json)"
      ],
      "execution_count": 0,
      "outputs": []
    },
    {
      "cell_type": "code",
      "metadata": {
        "id": "Xjv32dwDndnw",
        "colab_type": "code",
        "colab": {}
      },
      "source": [
        "# Cycle through JSON results\n",
        "for page in data['items']:\n",
        "    # Create URL\n",
        "    hit = str(page['id'])\n",
        "    seed = hit + 'ocr.txt'\n",
        "    download_url = chronam + seed\n",
        " \n",
        "    # Create file name\n",
        "    file_name = download_url.replace('/', '_')\n",
        "    file_name = 'data1/' + file_name[41:]\n",
        "    \n",
        "    # Download .txt of the page\n",
        "    urllib.request.urlretrieve(download_url, str(file_name))\n",
        "    count += 1"
      ],
      "execution_count": 0,
      "outputs": []
    },
    {
      "cell_type": "markdown",
      "metadata": {
        "id": "AUvuIpuzT8ke",
        "colab_type": "text"
      },
      "source": [
        "# 1. Data preparation"
      ]
    },
    {
      "cell_type": "markdown",
      "metadata": {
        "id": "MTOrDXSYUIc3",
        "colab_type": "text"
      },
      "source": [
        "## 1.1. Grouping all texts files\n",
        "A dataframe is first created to keep individual files at their initial state, and the name of each file"
      ]
    },
    {
      "cell_type": "code",
      "metadata": {
        "id": "u857KfY9WXN_",
        "colab_type": "code",
        "colab": {}
      },
      "source": [
        "import os\n",
        "import pandas as pd"
      ],
      "execution_count": 0,
      "outputs": []
    },
    {
      "cell_type": "code",
      "metadata": {
        "id": "h5FNWdVJT1v8",
        "colab_type": "code",
        "colab": {}
      },
      "source": [
        "#list of the file names\n",
        "files_list = os.listdir('data1')"
      ],
      "execution_count": 0,
      "outputs": []
    },
    {
      "cell_type": "code",
      "metadata": {
        "id": "8lLD0OpiXv5Y",
        "colab_type": "code",
        "colab": {}
      },
      "source": [
        "#insert file names into a df\n",
        "sources = pd.DataFrame(files_list, columns=['file_name'])"
      ],
      "execution_count": 0,
      "outputs": []
    },
    {
      "cell_type": "code",
      "metadata": {
        "id": "0PgOwPnqCfAe",
        "colab_type": "code",
        "colab": {}
      },
      "source": [
        "#function to read the content of the text files\n",
        "def readTxtContent(fileName):\n",
        "  with open('data1/' + fileName, 'r') as file:\n",
        "    return ' ' + file.read().replace('\\n', ' ') + ' '"
      ],
      "execution_count": 0,
      "outputs": []
    },
    {
      "cell_type": "code",
      "metadata": {
        "id": "MZEVIKHziQv2",
        "colab_type": "code",
        "colab": {}
      },
      "source": [
        "# adding a column to the dataframe containing file content\n",
        "sources['file_content'] = sources['file_name'].apply(lambda x: readTxtContent(x))"
      ],
      "execution_count": 0,
      "outputs": []
    },
    {
      "cell_type": "code",
      "metadata": {
        "id": "4ffdAsOXQSBe",
        "colab_type": "code",
        "outputId": "0ae1e9c3-1b6c-4d7f-d5a0-3c8335503f34",
        "colab": {
          "base_uri": "https://localhost:8080/",
          "height": 34
        }
      },
      "source": [
        "# for verification purposes later, count the nr of characters for each content\n",
        "sources['file_len'] = sources['file_content'].apply(lambda x: len(x))\n",
        "sources['file_len'].sum()"
      ],
      "execution_count": 0,
      "outputs": [
        {
          "output_type": "execute_result",
          "data": {
            "text/plain": [
              "1779770"
            ]
          },
          "metadata": {
            "tags": []
          },
          "execution_count": 13
        }
      ]
    },
    {
      "cell_type": "code",
      "metadata": {
        "id": "QYRvEvHbK32i",
        "colab_type": "code",
        "colab": {}
      },
      "source": [
        "# variable containing the documents separately\n",
        "corpus = sources['file_content']"
      ],
      "execution_count": 0,
      "outputs": []
    },
    {
      "cell_type": "code",
      "metadata": {
        "id": "wwTwsGsED8uU",
        "colab_type": "code",
        "colab": {}
      },
      "source": [
        "# variable containing all documents together\n",
        "all_texts = ''\n",
        "for i in range(len(sources)):\n",
        "  all_texts += sources['file_content'][i]"
      ],
      "execution_count": 0,
      "outputs": []
    },
    {
      "cell_type": "code",
      "metadata": {
        "id": "vBu87u_SSM-9",
        "colab_type": "code",
        "outputId": "1da2daec-8b0f-410b-c431-fdb34ce4bda1",
        "colab": {
          "base_uri": "https://localhost:8080/",
          "height": 34
        }
      },
      "source": [
        "# check length\n",
        "len(all_texts)"
      ],
      "execution_count": 0,
      "outputs": [
        {
          "output_type": "execute_result",
          "data": {
            "text/plain": [
              "1779770"
            ]
          },
          "metadata": {
            "tags": []
          },
          "execution_count": 16
        }
      ]
    },
    {
      "cell_type": "markdown",
      "metadata": {
        "id": "ybCetXHi9m-y",
        "colab_type": "text"
      },
      "source": [
        "\n",
        "## 1.2 Removing stop words, punctuation, short words"
      ]
    },
    {
      "cell_type": "code",
      "metadata": {
        "id": "6e-8sf7RayKz",
        "colab_type": "code",
        "outputId": "99455414-811d-4cc0-f28a-a611c3630705",
        "colab": {
          "base_uri": "https://localhost:8080/",
          "height": 85
        }
      },
      "source": [
        "import nltk\n",
        "nltk.download('punkt')\n",
        "nltk.download('stopwords')\n",
        "from nltk.corpus import stopwords\n",
        "from nltk.tokenize import word_tokenize"
      ],
      "execution_count": 0,
      "outputs": [
        {
          "output_type": "stream",
          "text": [
            "[nltk_data] Downloading package punkt to /root/nltk_data...\n",
            "[nltk_data]   Unzipping tokenizers/punkt.zip.\n",
            "[nltk_data] Downloading package stopwords to /root/nltk_data...\n",
            "[nltk_data]   Unzipping corpora/stopwords.zip.\n"
          ],
          "name": "stdout"
        }
      ]
    },
    {
      "cell_type": "code",
      "metadata": {
        "id": "a1MbU3_seOtJ",
        "colab_type": "code",
        "colab": {}
      },
      "source": [
        "# add tokenized documents in dataframe\n",
        "sources['tokens'] = sources['file_content'].apply(lambda x: nltk.word_tokenize(x))"
      ],
      "execution_count": 0,
      "outputs": []
    },
    {
      "cell_type": "code",
      "metadata": {
        "id": "vh3ikvdKfQ60",
        "colab_type": "code",
        "colab": {}
      },
      "source": [
        "# add new column in df with processed tokens\n",
        "sources['tokens_prep'] = sources['tokens'].apply(lambda x: [w.lower() for w in x if (w.isalnum() and len(w) > 3 )])"
      ],
      "execution_count": 0,
      "outputs": []
    },
    {
      "cell_type": "code",
      "metadata": {
        "id": "3IrR5gbba5ho",
        "colab_type": "code",
        "colab": {}
      },
      "source": [
        "# these lines are useful if we want to provide alternate stop words lists (NLTK)\n",
        "# show list of default NLTK Italian stopwords\n",
        "# stopwords.words('italian')\n",
        "# ital_stopwords = stopwords.words('italian')\n",
        "# to append list of words added by user: ital_stopwords.extend(user_input)\n",
        "# to remove words: ital_stopwords.remove(user_input)"
      ],
      "execution_count": 0,
      "outputs": []
    },
    {
      "cell_type": "code",
      "metadata": {
        "id": "8Qw4i2O_CTdQ",
        "colab_type": "code",
        "colab": {}
      },
      "source": [
        "# spacy list of Stop words (seems to be more complete than NLTK)\n",
        "import spacy\n",
        "from spacy.lang.it.stop_words import STOP_WORDS"
      ],
      "execution_count": 0,
      "outputs": []
    },
    {
      "cell_type": "code",
      "metadata": {
        "id": "5SBUnxlpCxEa",
        "colab_type": "code",
        "colab": {}
      },
      "source": [
        "spacy_it_sw = STOP_WORDS"
      ],
      "execution_count": 0,
      "outputs": []
    },
    {
      "cell_type": "code",
      "metadata": {
        "id": "jDvREaSSiM1v",
        "colab_type": "code",
        "colab": {}
      },
      "source": [
        "# add column with tokenized documents without sw\n",
        "sources['tokens_prep_nostop'] = sources['tokens_prep'].apply(lambda x: [w for w in x if not w in spacy_it_sw])"
      ],
      "execution_count": 0,
      "outputs": []
    },
    {
      "cell_type": "markdown",
      "metadata": {
        "id": "hKs7aXWLbVWo",
        "colab_type": "text"
      },
      "source": [
        "## 1.3 Stem"
      ]
    },
    {
      "cell_type": "code",
      "metadata": {
        "id": "uyl0C-xkbLiB",
        "colab_type": "code",
        "colab": {}
      },
      "source": [
        "from nltk.stem.snowball import SnowballStemmer"
      ],
      "execution_count": 0,
      "outputs": []
    },
    {
      "cell_type": "code",
      "metadata": {
        "id": "euUXP7UHbaN-",
        "colab_type": "code",
        "colab": {}
      },
      "source": [
        "#initialize with needed language\n",
        "stemmer = SnowballStemmer(\"italian\")"
      ],
      "execution_count": 0,
      "outputs": []
    },
    {
      "cell_type": "code",
      "metadata": {
        "id": "CljkLrRmjaot",
        "colab_type": "code",
        "colab": {}
      },
      "source": [
        "# add column with stemmed tokens\n",
        "sources['tokens_stemmed'] = sources['tokens_prep_nostop'].apply(lambda x: [stemmer.stem(w) for w in x])"
      ],
      "execution_count": 0,
      "outputs": []
    },
    {
      "cell_type": "markdown",
      "metadata": {
        "id": "YHKQAqemcgYz",
        "colab_type": "text"
      },
      "source": [
        "## 1.4 Lemmatize"
      ]
    },
    {
      "cell_type": "code",
      "metadata": {
        "id": "Ob8M804chYgh",
        "colab_type": "code",
        "colab": {}
      },
      "source": [
        "# Lemmatization is available in multiple languages in Spacy and not in NLTK (only English)\n",
        "# With Spacy, lemmatization is available for 10 languages. There's also a multi-language option that\n",
        "# should be tested if additional languages are needed"
      ],
      "execution_count": 0,
      "outputs": []
    },
    {
      "cell_type": "code",
      "metadata": {
        "id": "2QAPblFUwf3F",
        "colab_type": "code",
        "outputId": "3e2315db-6f75-4a76-f6f0-d1377ec16008",
        "colab": {
          "base_uri": "https://localhost:8080/",
          "height": 581
        }
      },
      "source": [
        "!python -m spacy download it_core_news_sm"
      ],
      "execution_count": 0,
      "outputs": [
        {
          "output_type": "stream",
          "text": [
            "Collecting it_core_news_sm==2.2.5\n",
            "\u001b[?25l  Downloading https://github.com/explosion/spacy-models/releases/download/it_core_news_sm-2.2.5/it_core_news_sm-2.2.5.tar.gz (14.5MB)\n",
            "\u001b[K     |████████████████████████████████| 14.5MB 3.7MB/s \n",
            "\u001b[?25hRequirement already satisfied: spacy>=2.2.2 in /usr/local/lib/python3.6/dist-packages (from it_core_news_sm==2.2.5) (2.2.4)\n",
            "Requirement already satisfied: wasabi<1.1.0,>=0.4.0 in /usr/local/lib/python3.6/dist-packages (from spacy>=2.2.2->it_core_news_sm==2.2.5) (0.6.0)\n",
            "Requirement already satisfied: thinc==7.4.0 in /usr/local/lib/python3.6/dist-packages (from spacy>=2.2.2->it_core_news_sm==2.2.5) (7.4.0)\n",
            "Requirement already satisfied: preshed<3.1.0,>=3.0.2 in /usr/local/lib/python3.6/dist-packages (from spacy>=2.2.2->it_core_news_sm==2.2.5) (3.0.2)\n",
            "Requirement already satisfied: tqdm<5.0.0,>=4.38.0 in /usr/local/lib/python3.6/dist-packages (from spacy>=2.2.2->it_core_news_sm==2.2.5) (4.41.1)\n",
            "Requirement already satisfied: plac<1.2.0,>=0.9.6 in /usr/local/lib/python3.6/dist-packages (from spacy>=2.2.2->it_core_news_sm==2.2.5) (1.1.3)\n",
            "Requirement already satisfied: catalogue<1.1.0,>=0.0.7 in /usr/local/lib/python3.6/dist-packages (from spacy>=2.2.2->it_core_news_sm==2.2.5) (1.0.0)\n",
            "Requirement already satisfied: murmurhash<1.1.0,>=0.28.0 in /usr/local/lib/python3.6/dist-packages (from spacy>=2.2.2->it_core_news_sm==2.2.5) (1.0.2)\n",
            "Requirement already satisfied: requests<3.0.0,>=2.13.0 in /usr/local/lib/python3.6/dist-packages (from spacy>=2.2.2->it_core_news_sm==2.2.5) (2.23.0)\n",
            "Requirement already satisfied: blis<0.5.0,>=0.4.0 in /usr/local/lib/python3.6/dist-packages (from spacy>=2.2.2->it_core_news_sm==2.2.5) (0.4.1)\n",
            "Requirement already satisfied: srsly<1.1.0,>=1.0.2 in /usr/local/lib/python3.6/dist-packages (from spacy>=2.2.2->it_core_news_sm==2.2.5) (1.0.2)\n",
            "Requirement already satisfied: numpy>=1.15.0 in /usr/local/lib/python3.6/dist-packages (from spacy>=2.2.2->it_core_news_sm==2.2.5) (1.18.4)\n",
            "Requirement already satisfied: setuptools in /usr/local/lib/python3.6/dist-packages (from spacy>=2.2.2->it_core_news_sm==2.2.5) (46.1.3)\n",
            "Requirement already satisfied: cymem<2.1.0,>=2.0.2 in /usr/local/lib/python3.6/dist-packages (from spacy>=2.2.2->it_core_news_sm==2.2.5) (2.0.3)\n",
            "Requirement already satisfied: importlib-metadata>=0.20; python_version < \"3.8\" in /usr/local/lib/python3.6/dist-packages (from catalogue<1.1.0,>=0.0.7->spacy>=2.2.2->it_core_news_sm==2.2.5) (1.6.0)\n",
            "Requirement already satisfied: certifi>=2017.4.17 in /usr/local/lib/python3.6/dist-packages (from requests<3.0.0,>=2.13.0->spacy>=2.2.2->it_core_news_sm==2.2.5) (2020.4.5.1)\n",
            "Requirement already satisfied: idna<3,>=2.5 in /usr/local/lib/python3.6/dist-packages (from requests<3.0.0,>=2.13.0->spacy>=2.2.2->it_core_news_sm==2.2.5) (2.9)\n",
            "Requirement already satisfied: urllib3!=1.25.0,!=1.25.1,<1.26,>=1.21.1 in /usr/local/lib/python3.6/dist-packages (from requests<3.0.0,>=2.13.0->spacy>=2.2.2->it_core_news_sm==2.2.5) (1.24.3)\n",
            "Requirement already satisfied: chardet<4,>=3.0.2 in /usr/local/lib/python3.6/dist-packages (from requests<3.0.0,>=2.13.0->spacy>=2.2.2->it_core_news_sm==2.2.5) (3.0.4)\n",
            "Requirement already satisfied: zipp>=0.5 in /usr/local/lib/python3.6/dist-packages (from importlib-metadata>=0.20; python_version < \"3.8\"->catalogue<1.1.0,>=0.0.7->spacy>=2.2.2->it_core_news_sm==2.2.5) (3.1.0)\n",
            "Building wheels for collected packages: it-core-news-sm\n",
            "  Building wheel for it-core-news-sm (setup.py) ... \u001b[?25l\u001b[?25hdone\n",
            "  Created wheel for it-core-news-sm: filename=it_core_news_sm-2.2.5-cp36-none-any.whl size=14471130 sha256=ccc94a846a808d177cde3f6e1c0d8e4eeb66619860a325ad6b7003de6a5ebafd\n",
            "  Stored in directory: /tmp/pip-ephem-wheel-cache-cb9ajnqp/wheels/a1/01/c2/127ab92cc5e3c7f36b5cd4bff28d1c29c313962a2ba913e720\n",
            "Successfully built it-core-news-sm\n",
            "Installing collected packages: it-core-news-sm\n",
            "Successfully installed it-core-news-sm-2.2.5\n",
            "\u001b[38;5;2m✔ Download and installation successful\u001b[0m\n",
            "You can now load the model via spacy.load('it_core_news_sm')\n"
          ],
          "name": "stdout"
        }
      ]
    },
    {
      "cell_type": "code",
      "metadata": {
        "id": "8al8riPXA98n",
        "colab_type": "code",
        "colab": {}
      },
      "source": [
        "import it_core_news_sm\n",
        "it_nlp = it_core_news_sm.load(disable=['tagger', 'parser', 'ner'])"
      ],
      "execution_count": 0,
      "outputs": []
    },
    {
      "cell_type": "code",
      "metadata": {
        "id": "YZHdI_8tmv3y",
        "colab_type": "code",
        "colab": {}
      },
      "source": [
        "# lemmatization function\n",
        "def lemmatize(doc):\n",
        "  lemmatized_doc = []\n",
        "  for w in doc:\n",
        "    w_lemma = [token.lemma_ for token in it_nlp(w)]\n",
        "    lemmatized_doc.append(w_lemma[0])\n",
        "  return lemmatized_doc"
      ],
      "execution_count": 0,
      "outputs": []
    },
    {
      "cell_type": "code",
      "metadata": {
        "id": "k-mYWKgSk9CW",
        "colab_type": "code",
        "colab": {}
      },
      "source": [
        "# add column with lemmatized tokens\n",
        "sources['tokens_lemmatized'] = sources['tokens_prep_nostop'].apply(lambda x: lemmatize(x))"
      ],
      "execution_count": 0,
      "outputs": []
    },
    {
      "cell_type": "code",
      "metadata": {
        "id": "tvl0MO_FH5yH",
        "colab_type": "code",
        "colab": {}
      },
      "source": [
        "# variable with lemmatized tokens\n",
        "lemmatized_corpus = sources['tokens_lemmatized']"
      ],
      "execution_count": 0,
      "outputs": []
    },
    {
      "cell_type": "markdown",
      "metadata": {
        "id": "o8TRLnFPK6p4",
        "colab_type": "text"
      },
      "source": [
        "# 2. Topics with LDA"
      ]
    },
    {
      "cell_type": "code",
      "metadata": {
        "id": "N0NrktL1el7E",
        "colab_type": "code",
        "outputId": "48adb9da-1130-4d59-bf8c-9026a72e7289",
        "colab": {
          "base_uri": "https://localhost:8080/",
          "height": 68
        }
      },
      "source": [
        "# installation setup that works for Mallet: https://github.com/polsci/colab-gensim-mallet/blob/master/topic-modeling-with-colab-gensim-mallet.ipynb\n",
        "def install_java():\n",
        "  !apt-get install -y openjdk-8-jdk-headless -qq > /dev/null      #install openjdk\n",
        "  os.environ[\"JAVA_HOME\"] = \"/usr/lib/jvm/java-8-openjdk-amd64\"     #set environment variable\n",
        "  !java -version       #check java version\n",
        "install_java()"
      ],
      "execution_count": 0,
      "outputs": [
        {
          "output_type": "stream",
          "text": [
            "openjdk version \"11.0.7\" 2020-04-14\n",
            "OpenJDK Runtime Environment (build 11.0.7+10-post-Ubuntu-2ubuntu218.04)\n",
            "OpenJDK 64-Bit Server VM (build 11.0.7+10-post-Ubuntu-2ubuntu218.04, mixed mode, sharing)\n"
          ],
          "name": "stdout"
        }
      ]
    },
    {
      "cell_type": "code",
      "metadata": {
        "id": "IH7oPbxGe46O",
        "colab_type": "code",
        "outputId": "ec97b1e8-3319-436e-e5aa-a27f053acedf",
        "colab": {
          "base_uri": "https://localhost:8080/",
          "height": 1000
        }
      },
      "source": [
        "!wget http://mallet.cs.umass.edu/dist/mallet-2.0.8.zip\n",
        "!unzip mallet-2.0.8.zip"
      ],
      "execution_count": 0,
      "outputs": [
        {
          "output_type": "stream",
          "text": [
            "--2020-05-13 06:56:54--  http://mallet.cs.umass.edu/dist/mallet-2.0.8.zip\n",
            "Resolving mallet.cs.umass.edu (mallet.cs.umass.edu)... 128.119.246.70\n",
            "Connecting to mallet.cs.umass.edu (mallet.cs.umass.edu)|128.119.246.70|:80... connected.\n",
            "HTTP request sent, awaiting response... 200 OK\n",
            "Length: 16184794 (15M) [application/zip]\n",
            "Saving to: ‘mallet-2.0.8.zip’\n",
            "\n",
            "mallet-2.0.8.zip    100%[===================>]  15.43M  13.1MB/s    in 1.2s    \n",
            "\n",
            "2020-05-13 06:56:55 (13.1 MB/s) - ‘mallet-2.0.8.zip’ saved [16184794/16184794]\n",
            "\n",
            "Archive:  mallet-2.0.8.zip\n",
            "   creating: mallet-2.0.8/\n",
            "   creating: mallet-2.0.8/bin/\n",
            "  inflating: mallet-2.0.8/bin/classifier2info  \n",
            "  inflating: mallet-2.0.8/bin/csv2classify  \n",
            "  inflating: mallet-2.0.8/bin/csv2vectors  \n",
            "  inflating: mallet-2.0.8/bin/mallet  \n",
            "  inflating: mallet-2.0.8/bin/mallet.bat  \n",
            "  inflating: mallet-2.0.8/bin/mallethon  \n",
            "  inflating: mallet-2.0.8/bin/prepend-license.sh  \n",
            "  inflating: mallet-2.0.8/bin/svmlight2vectors  \n",
            "  inflating: mallet-2.0.8/bin/text2classify  \n",
            "  inflating: mallet-2.0.8/bin/text2vectors  \n",
            "  inflating: mallet-2.0.8/bin/vectors2classify  \n",
            "  inflating: mallet-2.0.8/bin/vectors2info  \n",
            "  inflating: mallet-2.0.8/bin/vectors2topics  \n",
            "  inflating: mallet-2.0.8/bin/vectors2vectors  \n",
            "  inflating: mallet-2.0.8/build.xml  \n",
            "   creating: mallet-2.0.8/class/\n",
            "   creating: mallet-2.0.8/class/cc/\n",
            "   creating: mallet-2.0.8/class/cc/mallet/\n",
            "   creating: mallet-2.0.8/class/cc/mallet/classify/\n",
            "  inflating: mallet-2.0.8/class/cc/mallet/classify/AdaBoost.class  \n",
            "  inflating: mallet-2.0.8/class/cc/mallet/classify/AdaBoostM2.class  \n",
            "  inflating: mallet-2.0.8/class/cc/mallet/classify/AdaBoostM2Trainer.class  \n",
            "  inflating: mallet-2.0.8/class/cc/mallet/classify/AdaBoostTrainer.class  \n",
            "  inflating: mallet-2.0.8/class/cc/mallet/classify/BaggingClassifier.class  \n",
            "  inflating: mallet-2.0.8/class/cc/mallet/classify/BaggingTrainer.class  \n",
            "  inflating: mallet-2.0.8/class/cc/mallet/classify/BalancedWinnow.class  \n",
            "  inflating: mallet-2.0.8/class/cc/mallet/classify/BalancedWinnowTrainer.class  \n",
            "  inflating: mallet-2.0.8/class/cc/mallet/classify/Boostable.class  \n",
            "  inflating: mallet-2.0.8/class/cc/mallet/classify/C45$Node.class  \n",
            "  inflating: mallet-2.0.8/class/cc/mallet/classify/C45.class  \n",
            "  inflating: mallet-2.0.8/class/cc/mallet/classify/C45Trainer.class  \n",
            "  inflating: mallet-2.0.8/class/cc/mallet/classify/Classification.class  \n",
            "  inflating: mallet-2.0.8/class/cc/mallet/classify/Classifier.class  \n",
            "  inflating: mallet-2.0.8/class/cc/mallet/classify/ClassifierAccuracyEvaluator.class  \n",
            "  inflating: mallet-2.0.8/class/cc/mallet/classify/ClassifierEnsemble.class  \n",
            "  inflating: mallet-2.0.8/class/cc/mallet/classify/ClassifierEnsembleTrainer.class  \n",
            "  inflating: mallet-2.0.8/class/cc/mallet/classify/ClassifierEvaluator.class  \n",
            "  inflating: mallet-2.0.8/class/cc/mallet/classify/ClassifierTrainer$ByActiveLearning.class  \n",
            "  inflating: mallet-2.0.8/class/cc/mallet/classify/ClassifierTrainer$ByIncrements.class  \n",
            "  inflating: mallet-2.0.8/class/cc/mallet/classify/ClassifierTrainer$ByInstanceIncrements.class  \n",
            "  inflating: mallet-2.0.8/class/cc/mallet/classify/ClassifierTrainer$ByOptimization.class  \n",
            "  inflating: mallet-2.0.8/class/cc/mallet/classify/ClassifierTrainer$Factory.class  \n",
            "  inflating: mallet-2.0.8/class/cc/mallet/classify/ClassifierTrainer.class  \n",
            "  inflating: mallet-2.0.8/class/cc/mallet/classify/ConfidencePredictingClassifier.class  \n",
            "  inflating: mallet-2.0.8/class/cc/mallet/classify/ConfidencePredictingClassifierTrainer.class  \n",
            "   creating: mallet-2.0.8/class/cc/mallet/classify/constraints/\n",
            "   creating: mallet-2.0.8/class/cc/mallet/classify/constraints/ge/\n",
            "  inflating: mallet-2.0.8/class/cc/mallet/classify/constraints/ge/MaxEntFLGEConstraints$MaxEntFLGEConstraint.class  \n",
            "  inflating: mallet-2.0.8/class/cc/mallet/classify/constraints/ge/MaxEntFLGEConstraints.class  \n",
            "  inflating: mallet-2.0.8/class/cc/mallet/classify/constraints/ge/MaxEntGEConstraint.class  \n",
            "  inflating: mallet-2.0.8/class/cc/mallet/classify/constraints/ge/MaxEntKLFLGEConstraints$MaxEntKLFLGEConstraint.class  \n",
            "  inflating: mallet-2.0.8/class/cc/mallet/classify/constraints/ge/MaxEntKLFLGEConstraints.class  \n",
            "  inflating: mallet-2.0.8/class/cc/mallet/classify/constraints/ge/MaxEntL2FLGEConstraints$MaxEntL2FLGEConstraint.class  \n",
            "  inflating: mallet-2.0.8/class/cc/mallet/classify/constraints/ge/MaxEntL2FLGEConstraints.class  \n",
            "  inflating: mallet-2.0.8/class/cc/mallet/classify/constraints/ge/MaxEntRangeL2FLGEConstraints$MaxEntL2IndGEConstraint.class  \n",
            "  inflating: mallet-2.0.8/class/cc/mallet/classify/constraints/ge/MaxEntRangeL2FLGEConstraints.class  \n",
            "   creating: mallet-2.0.8/class/cc/mallet/classify/constraints/pr/\n",
            "  inflating: mallet-2.0.8/class/cc/mallet/classify/constraints/pr/MaxEntFLPRConstraints$MaxEntFLPRConstraint.class  \n",
            "  inflating: mallet-2.0.8/class/cc/mallet/classify/constraints/pr/MaxEntFLPRConstraints.class  \n",
            "  inflating: mallet-2.0.8/class/cc/mallet/classify/constraints/pr/MaxEntL2FLPRConstraints$MaxEntL2FLPRConstraint.class  \n",
            "  inflating: mallet-2.0.8/class/cc/mallet/classify/constraints/pr/MaxEntL2FLPRConstraints.class  \n",
            "  inflating: mallet-2.0.8/class/cc/mallet/classify/constraints/pr/MaxEntPRConstraint.class  \n",
            "  inflating: mallet-2.0.8/class/cc/mallet/classify/DecisionTree$Node.class  \n",
            "  inflating: mallet-2.0.8/class/cc/mallet/classify/DecisionTree.class  \n",
            "  inflating: mallet-2.0.8/class/cc/mallet/classify/DecisionTreeTrainer$Factory.class  \n",
            "  inflating: mallet-2.0.8/class/cc/mallet/classify/DecisionTreeTrainer.class  \n",
            "   creating: mallet-2.0.8/class/cc/mallet/classify/evaluate/\n",
            "  inflating: mallet-2.0.8/class/cc/mallet/classify/evaluate/AccuracyCoverage$1.class  \n",
            "  inflating: mallet-2.0.8/class/cc/mallet/classify/evaluate/AccuracyCoverage$ClassificationComparator.class  \n",
            "  inflating: mallet-2.0.8/class/cc/mallet/classify/evaluate/AccuracyCoverage.class  \n",
            "  inflating: mallet-2.0.8/class/cc/mallet/classify/evaluate/ConfusionMatrix.class  \n",
            "  inflating: mallet-2.0.8/class/cc/mallet/classify/evaluate/Graph$Legend.class  \n",
            "  inflating: mallet-2.0.8/class/cc/mallet/classify/evaluate/Graph.class  \n",
            "  inflating: mallet-2.0.8/class/cc/mallet/classify/evaluate/Graph2.class  \n",
            "  inflating: mallet-2.0.8/class/cc/mallet/classify/evaluate/GraphItem.class  \n",
            "   creating: mallet-2.0.8/class/cc/mallet/classify/examples/\n",
            "  inflating: mallet-2.0.8/class/cc/mallet/classify/examples/DocumentClassifier.class  \n",
            "  inflating: mallet-2.0.8/class/cc/mallet/classify/FeatureConstraintUtil$Element.class  \n",
            "  inflating: mallet-2.0.8/class/cc/mallet/classify/FeatureConstraintUtil.class  \n",
            "  inflating: mallet-2.0.8/class/cc/mallet/classify/FeatureSelectingClassifierTrainer.class  \n",
            "  inflating: mallet-2.0.8/class/cc/mallet/classify/MaxEnt.class  \n",
            "  inflating: mallet-2.0.8/class/cc/mallet/classify/MaxEntGERangeTrainer.class  \n",
            "  inflating: mallet-2.0.8/class/cc/mallet/classify/MaxEntGETrainer.class  \n",
            "  inflating: mallet-2.0.8/class/cc/mallet/classify/MaxEntL1Trainer.class  \n",
            "  inflating: mallet-2.0.8/class/cc/mallet/classify/MaxEntOptimizableByGE.class  \n",
            "  inflating: mallet-2.0.8/class/cc/mallet/classify/MaxEntOptimizableByLabelDistribution.class  \n",
            "  inflating: mallet-2.0.8/class/cc/mallet/classify/MaxEntOptimizableByLabelLikelihood.class  \n",
            "  inflating: mallet-2.0.8/class/cc/mallet/classify/MaxEntPRTrainer.class  \n",
            "  inflating: mallet-2.0.8/class/cc/mallet/classify/MaxEntTrainer.class  \n",
            "  inflating: mallet-2.0.8/class/cc/mallet/classify/MCMaxEnt.class  \n",
            "  inflating: mallet-2.0.8/class/cc/mallet/classify/MCMaxEntTrainer$MaximizableTrainer.class  \n",
            "  inflating: mallet-2.0.8/class/cc/mallet/classify/MCMaxEntTrainer.class  \n",
            "  inflating: mallet-2.0.8/class/cc/mallet/classify/MostFrequentClassAssignmentTrainer.class  \n",
            "  inflating: mallet-2.0.8/class/cc/mallet/classify/MostFrequentClassifier.class  \n",
            "  inflating: mallet-2.0.8/class/cc/mallet/classify/NaiveBayes.class  \n",
            "  inflating: mallet-2.0.8/class/cc/mallet/classify/NaiveBayesEMTrainer.class  \n",
            "  inflating: mallet-2.0.8/class/cc/mallet/classify/NaiveBayesTrainer$Factory.class  \n",
            "  inflating: mallet-2.0.8/class/cc/mallet/classify/NaiveBayesTrainer.class  \n",
            "  inflating: mallet-2.0.8/class/cc/mallet/classify/PRAuxClassifier.class  \n",
            "  inflating: mallet-2.0.8/class/cc/mallet/classify/PRAuxClassifierOptimizable.class  \n",
            "  inflating: mallet-2.0.8/class/cc/mallet/classify/RandomAssignmentTrainer.class  \n",
            "  inflating: mallet-2.0.8/class/cc/mallet/classify/RandomClassifier.class  \n",
            "  inflating: mallet-2.0.8/class/cc/mallet/classify/RankMaxEnt.class  \n",
            "  inflating: mallet-2.0.8/class/cc/mallet/classify/RankMaxEntTrainer$MaximizableTrainer.class  \n",
            "  inflating: mallet-2.0.8/class/cc/mallet/classify/RankMaxEntTrainer.class  \n",
            "   creating: mallet-2.0.8/class/cc/mallet/classify/tests/\n",
            "  inflating: mallet-2.0.8/class/cc/mallet/classify/tests/TestClassifiers.class  \n",
            "  inflating: mallet-2.0.8/class/cc/mallet/classify/tests/TestMaxEntTrainer.class  \n",
            "  inflating: mallet-2.0.8/class/cc/mallet/classify/tests/TestNaiveBayes.class  \n",
            "  inflating: mallet-2.0.8/class/cc/mallet/classify/tests/TestStaticParameters$1.class  \n",
            "  inflating: mallet-2.0.8/class/cc/mallet/classify/tests/TestStaticParameters$Factory.class  \n",
            "  inflating: mallet-2.0.8/class/cc/mallet/classify/tests/TestStaticParameters.class  \n",
            "  inflating: mallet-2.0.8/class/cc/mallet/classify/Trial.class  \n",
            "   creating: mallet-2.0.8/class/cc/mallet/classify/tui/\n",
            "  inflating: mallet-2.0.8/class/cc/mallet/classify/tui/Calo2Classify$1.class  \n",
            "  inflating: mallet-2.0.8/class/cc/mallet/classify/tui/Calo2Classify$2.class  \n",
            "  inflating: mallet-2.0.8/class/cc/mallet/classify/tui/Calo2Classify$ReportOption.class  \n",
            "  inflating: mallet-2.0.8/class/cc/mallet/classify/tui/Calo2Classify.class  \n",
            "  inflating: mallet-2.0.8/class/cc/mallet/classify/tui/Classifier2Info.class  \n",
            "  inflating: mallet-2.0.8/class/cc/mallet/classify/tui/Csv2Classify.class  \n",
            "  inflating: mallet-2.0.8/class/cc/mallet/classify/tui/Csv2Vectors.class  \n",
            "  inflating: mallet-2.0.8/class/cc/mallet/classify/tui/SvmLight2Classify.class  \n",
            "  inflating: mallet-2.0.8/class/cc/mallet/classify/tui/SvmLight2Vectors.class  \n",
            "  inflating: mallet-2.0.8/class/cc/mallet/classify/tui/Text2Classify.class  \n",
            "  inflating: mallet-2.0.8/class/cc/mallet/classify/tui/Text2Vectors.class  \n",
            "  inflating: mallet-2.0.8/class/cc/mallet/classify/tui/Vectors2Classify$1.class  \n",
            "  inflating: mallet-2.0.8/class/cc/mallet/classify/tui/Vectors2Classify$2.class  \n",
            "  inflating: mallet-2.0.8/class/cc/mallet/classify/tui/Vectors2Classify$ReportOption.class  \n",
            "  inflating: mallet-2.0.8/class/cc/mallet/classify/tui/Vectors2Classify.class  \n",
            "  inflating: mallet-2.0.8/class/cc/mallet/classify/tui/Vectors2FeatureConstraints.class  \n",
            "  inflating: mallet-2.0.8/class/cc/mallet/classify/tui/Vectors2Info$1.class  \n",
            "  inflating: mallet-2.0.8/class/cc/mallet/classify/tui/Vectors2Info.class  \n",
            "  inflating: mallet-2.0.8/class/cc/mallet/classify/tui/Vectors2Vectors.class  \n",
            "  inflating: mallet-2.0.8/class/cc/mallet/classify/Winnow.class  \n",
            "  inflating: mallet-2.0.8/class/cc/mallet/classify/WinnowTrainer.class  \n",
            "   creating: mallet-2.0.8/class/cc/mallet/cluster/\n",
            "  inflating: mallet-2.0.8/class/cc/mallet/cluster/Clusterer.class  \n",
            "  inflating: mallet-2.0.8/class/cc/mallet/cluster/Clustering.class  \n",
            "   creating: mallet-2.0.8/class/cc/mallet/cluster/clustering_scorer/\n",
            "  inflating: mallet-2.0.8/class/cc/mallet/cluster/clustering_scorer/ClusteringScorer.class  \n",
            "  inflating: mallet-2.0.8/class/cc/mallet/cluster/clustering_scorer/PairwiseScorer.class  \n",
            "  inflating: mallet-2.0.8/class/cc/mallet/cluster/Clusterings.class  \n",
            "   creating: mallet-2.0.8/class/cc/mallet/cluster/evaluate/\n",
            "  inflating: mallet-2.0.8/class/cc/mallet/cluster/evaluate/AccuracyEvaluator.class  \n",
            "  inflating: mallet-2.0.8/class/cc/mallet/cluster/evaluate/BCubedEvaluator.class  \n",
            "  inflating: mallet-2.0.8/class/cc/mallet/cluster/evaluate/ClusteringEvaluator.class  \n",
            "  inflating: mallet-2.0.8/class/cc/mallet/cluster/evaluate/ClusteringEvaluators.class  \n",
            "  inflating: mallet-2.0.8/class/cc/mallet/cluster/evaluate/MUCEvaluator.class  \n",
            "  inflating: mallet-2.0.8/class/cc/mallet/cluster/evaluate/PairF1Evaluator.class  \n",
            "   creating: mallet-2.0.8/class/cc/mallet/cluster/evaluate/tests/\n",
            "  inflating: mallet-2.0.8/class/cc/mallet/cluster/evaluate/tests/TestClusteringEvaluators.class  \n",
            "   creating: mallet-2.0.8/class/cc/mallet/cluster/examples/\n",
            "  inflating: mallet-2.0.8/class/cc/mallet/cluster/examples/FirstOrderClusterExample$OverlappingFeaturePipe.class  \n",
            "  inflating: mallet-2.0.8/class/cc/mallet/cluster/examples/FirstOrderClusterExample.class  \n",
            "  inflating: mallet-2.0.8/class/cc/mallet/cluster/GreedyAgglomerative.class  \n",
            "  inflating: mallet-2.0.8/class/cc/mallet/cluster/GreedyAgglomerativeByDensity.class  \n",
            "  inflating: mallet-2.0.8/class/cc/mallet/cluster/HillClimbingClusterer.class  \n",
            "   creating: mallet-2.0.8/class/cc/mallet/cluster/iterator/\n",
            "  inflating: mallet-2.0.8/class/cc/mallet/cluster/iterator/AllPairsIterator.class  \n",
            "  inflating: mallet-2.0.8/class/cc/mallet/cluster/iterator/ClusterSampleIterator.class  \n",
            "  inflating: mallet-2.0.8/class/cc/mallet/cluster/iterator/NeighborIterator.class  \n",
            "  inflating: mallet-2.0.8/class/cc/mallet/cluster/iterator/NodeClusterSampleIterator.class  \n",
            "  inflating: mallet-2.0.8/class/cc/mallet/cluster/iterator/PairSampleIterator.class  \n",
            "   creating: mallet-2.0.8/class/cc/mallet/cluster/iterator/tests/\n",
            "  inflating: mallet-2.0.8/class/cc/mallet/cluster/iterator/tests/TestIterators.class  \n",
            "  inflating: mallet-2.0.8/class/cc/mallet/cluster/KBestClusterer.class  \n",
            "  inflating: mallet-2.0.8/class/cc/mallet/cluster/KMeans.class  \n",
            "   creating: mallet-2.0.8/class/cc/mallet/cluster/neighbor_evaluator/\n",
            "  inflating: mallet-2.0.8/class/cc/mallet/cluster/neighbor_evaluator/AgglomerativeNeighbor.class  \n",
            "  inflating: mallet-2.0.8/class/cc/mallet/cluster/neighbor_evaluator/ClassifyingNeighborEvaluator.class  \n",
            "  inflating: mallet-2.0.8/class/cc/mallet/cluster/neighbor_evaluator/MedoidEvaluator$Average.class  \n",
            "  inflating: mallet-2.0.8/class/cc/mallet/cluster/neighbor_evaluator/MedoidEvaluator$CombiningStrategy.class  \n",
            "  inflating: mallet-2.0.8/class/cc/mallet/cluster/neighbor_evaluator/MedoidEvaluator$Maximum.class  \n",
            "  inflating: mallet-2.0.8/class/cc/mallet/cluster/neighbor_evaluator/MedoidEvaluator$Minimum.class  \n",
            "  inflating: mallet-2.0.8/class/cc/mallet/cluster/neighbor_evaluator/MedoidEvaluator.class  \n",
            "  inflating: mallet-2.0.8/class/cc/mallet/cluster/neighbor_evaluator/Neighbor.class  \n",
            "  inflating: mallet-2.0.8/class/cc/mallet/cluster/neighbor_evaluator/NeighborEvaluator.class  \n",
            "  inflating: mallet-2.0.8/class/cc/mallet/cluster/neighbor_evaluator/PairwiseEvaluator$Average.class  \n",
            "  inflating: mallet-2.0.8/class/cc/mallet/cluster/neighbor_evaluator/PairwiseEvaluator$CombiningStrategy.class  \n",
            "  inflating: mallet-2.0.8/class/cc/mallet/cluster/neighbor_evaluator/PairwiseEvaluator$Maximum.class  \n",
            "  inflating: mallet-2.0.8/class/cc/mallet/cluster/neighbor_evaluator/PairwiseEvaluator$Minimum.class  \n",
            "  inflating: mallet-2.0.8/class/cc/mallet/cluster/neighbor_evaluator/PairwiseEvaluator.class  \n",
            "  inflating: mallet-2.0.8/class/cc/mallet/cluster/neighbor_evaluator/RandomEvaluator.class  \n",
            "  inflating: mallet-2.0.8/class/cc/mallet/cluster/neighbor_evaluator/RankingNeighborEvaluator.class  \n",
            "  inflating: mallet-2.0.8/class/cc/mallet/cluster/Record.class  \n",
            "   creating: mallet-2.0.8/class/cc/mallet/cluster/tui/\n",
            "  inflating: mallet-2.0.8/class/cc/mallet/cluster/tui/Clusterings2Clusterer$ClusteringPipe.class  \n",
            "  inflating: mallet-2.0.8/class/cc/mallet/cluster/tui/Clusterings2Clusterer.class  \n",
            "  inflating: mallet-2.0.8/class/cc/mallet/cluster/tui/Clusterings2Clusterings.class  \n",
            "  inflating: mallet-2.0.8/class/cc/mallet/cluster/tui/Clusterings2Info.class  \n",
            "  inflating: mallet-2.0.8/class/cc/mallet/cluster/tui/Text2Clusterings.class  \n",
            "   creating: mallet-2.0.8/class/cc/mallet/cluster/util/\n",
            "  inflating: mallet-2.0.8/class/cc/mallet/cluster/util/ClusterUtils.class  \n",
            "  inflating: mallet-2.0.8/class/cc/mallet/cluster/util/PairwiseMatrix.class  \n",
            "   creating: mallet-2.0.8/class/cc/mallet/examples/\n",
            "  inflating: mallet-2.0.8/class/cc/mallet/examples/TestCRFPipe.class  \n",
            "  inflating: mallet-2.0.8/class/cc/mallet/examples/TopicModel.class  \n",
            "  inflating: mallet-2.0.8/class/cc/mallet/examples/TrainCRF.class  \n",
            "  inflating: mallet-2.0.8/class/cc/mallet/examples/TrainHMM.class  \n",
            "   creating: mallet-2.0.8/class/cc/mallet/extract/\n",
            "  inflating: mallet-2.0.8/class/cc/mallet/extract/AccuracyCoverageEvaluator.class  \n",
            "  inflating: mallet-2.0.8/class/cc/mallet/extract/BIOTokenizationFilter.class  \n",
            "  inflating: mallet-2.0.8/class/cc/mallet/extract/BIOTokenizationFilterWithTokenIndices.class  \n",
            "  inflating: mallet-2.0.8/class/cc/mallet/extract/ConfidenceTokenizationFilter.class  \n",
            "  inflating: mallet-2.0.8/class/cc/mallet/extract/CRFExtractor.class  \n",
            "  inflating: mallet-2.0.8/class/cc/mallet/extract/DefaultTokenizationFilter.class  \n",
            "  inflating: mallet-2.0.8/class/cc/mallet/extract/DocumentExtraction$1.class  \n",
            "  inflating: mallet-2.0.8/class/cc/mallet/extract/DocumentExtraction.class  \n",
            "  inflating: mallet-2.0.8/class/cc/mallet/extract/DocumentViewer$DualLabeledSpans.class  \n",
            "  inflating: mallet-2.0.8/class/cc/mallet/extract/DocumentViewer.class  \n",
            "  inflating: mallet-2.0.8/class/cc/mallet/extract/ExactMatchComparator.class  \n",
            "  inflating: mallet-2.0.8/class/cc/mallet/extract/Extraction.class  \n",
            "  inflating: mallet-2.0.8/class/cc/mallet/extract/ExtractionConfidenceEstimator.class  \n",
            "  inflating: mallet-2.0.8/class/cc/mallet/extract/ExtractionEvaluator.class  \n",
            "  inflating: mallet-2.0.8/class/cc/mallet/extract/Extractor.class  \n",
            "  inflating: mallet-2.0.8/class/cc/mallet/extract/Field.class  \n",
            "  inflating: mallet-2.0.8/class/cc/mallet/extract/FieldCleaner.class  \n",
            "  inflating: mallet-2.0.8/class/cc/mallet/extract/FieldComparator.class  \n",
            "  inflating: mallet-2.0.8/class/cc/mallet/extract/HierarchicalTokenizationFilter$TagStart.class  \n",
            "  inflating: mallet-2.0.8/class/cc/mallet/extract/HierarchicalTokenizationFilter.class  \n",
            "  inflating: mallet-2.0.8/class/cc/mallet/extract/LabeledSpan.class  \n",
            "  inflating: mallet-2.0.8/class/cc/mallet/extract/LabeledSpans.class  \n",
            "  inflating: mallet-2.0.8/class/cc/mallet/extract/LatticeViewer$ExtorInfo.class  \n",
            "  inflating: mallet-2.0.8/class/cc/mallet/extract/LatticeViewer.class  \n",
            "  inflating: mallet-2.0.8/class/cc/mallet/extract/PerDocumentF1Evaluator.class  \n",
            "  inflating: mallet-2.0.8/class/cc/mallet/extract/PerFieldF1Evaluator.class  \n",
            "   creating: mallet-2.0.8/class/cc/mallet/extract/pipe/\n",
            "  inflating: mallet-2.0.8/class/cc/mallet/extract/pipe/TokenSequence2Tokenization.class  \n",
            "  inflating: mallet-2.0.8/class/cc/mallet/extract/PunctuationIgnoringComparator.class  \n",
            "  inflating: mallet-2.0.8/class/cc/mallet/extract/Record.class  \n",
            "  inflating: mallet-2.0.8/class/cc/mallet/extract/RegexFieldCleaner.class  \n",
            "  inflating: mallet-2.0.8/class/cc/mallet/extract/Span.class  \n",
            "  inflating: mallet-2.0.8/class/cc/mallet/extract/StringSpan.class  \n",
            "  inflating: mallet-2.0.8/class/cc/mallet/extract/StringTokenization.class  \n",
            "   creating: mallet-2.0.8/class/cc/mallet/extract/test/\n",
            "  inflating: mallet-2.0.8/class/cc/mallet/extract/test/TestDocumentExtraction.class  \n",
            "  inflating: mallet-2.0.8/class/cc/mallet/extract/test/TestDocumentViewer.class  \n",
            "  inflating: mallet-2.0.8/class/cc/mallet/extract/test/TestLatticeViewer.class  \n",
            "  inflating: mallet-2.0.8/class/cc/mallet/extract/test/TestPerDocumentF1Evaluator.class  \n",
            "  inflating: mallet-2.0.8/class/cc/mallet/extract/Tokenization.class  \n",
            "  inflating: mallet-2.0.8/class/cc/mallet/extract/TokenizationFilter.class  \n",
            "  inflating: mallet-2.0.8/class/cc/mallet/extract/TransducerExtractionConfidenceEstimator.class  \n",
            "   creating: mallet-2.0.8/class/cc/mallet/fst/\n",
            "  inflating: mallet-2.0.8/class/cc/mallet/fst/CacheStaleIndicator.class  \n",
            "   creating: mallet-2.0.8/class/cc/mallet/fst/confidence/\n",
            "  inflating: mallet-2.0.8/class/cc/mallet/fst/confidence/ConfidenceCorrectorEvaluator.class  \n",
            "  inflating: mallet-2.0.8/class/cc/mallet/fst/confidence/ConfidenceEvaluator$1.class  \n",
            "  inflating: mallet-2.0.8/class/cc/mallet/fst/confidence/ConfidenceEvaluator$ConfidenceComparator.class  \n",
            "  inflating: mallet-2.0.8/class/cc/mallet/fst/confidence/ConfidenceEvaluator$EntityConfidence.class  \n",
            "  inflating: mallet-2.0.8/class/cc/mallet/fst/confidence/ConfidenceEvaluator.class  \n",
            "  inflating: mallet-2.0.8/class/cc/mallet/fst/confidence/ConstrainedForwardBackwardConfidenceEstimator.class  \n",
            "  inflating: mallet-2.0.8/class/cc/mallet/fst/confidence/ConstrainedViterbiTransducerCorrector.class  \n",
            "  inflating: mallet-2.0.8/class/cc/mallet/fst/confidence/GammaAverageConfidenceEstimator.class  \n",
            "  inflating: mallet-2.0.8/class/cc/mallet/fst/confidence/GammaProductConfidenceEstimator.class  \n",
            "  inflating: mallet-2.0.8/class/cc/mallet/fst/confidence/InstanceWithConfidence.class  \n",
            "  inflating: mallet-2.0.8/class/cc/mallet/fst/confidence/IsolatedSegmentTransducerCorrector.class  \n",
            "  inflating: mallet-2.0.8/class/cc/mallet/fst/confidence/MaxEntConfidenceEstimator.class  \n",
            "  inflating: mallet-2.0.8/class/cc/mallet/fst/confidence/MaxEntSequenceConfidenceEstimator.class  \n",
            "  inflating: mallet-2.0.8/class/cc/mallet/fst/confidence/MinSegmentConfidenceEstimator.class  \n",
            "  inflating: mallet-2.0.8/class/cc/mallet/fst/confidence/NBestViterbiConfidenceEstimator.class  \n",
            "  inflating: mallet-2.0.8/class/cc/mallet/fst/confidence/PipedInstanceWithConfidence.class  \n",
            "  inflating: mallet-2.0.8/class/cc/mallet/fst/confidence/QBCSequenceConfidenceEstimator.class  \n",
            "  inflating: mallet-2.0.8/class/cc/mallet/fst/confidence/RandomConfidenceEstimator.class  \n",
            "  inflating: mallet-2.0.8/class/cc/mallet/fst/confidence/RandomSequenceConfidenceEstimator.class  \n",
            "  inflating: mallet-2.0.8/class/cc/mallet/fst/confidence/SegmentProductConfidenceEstimator.class  \n",
            "  inflating: mallet-2.0.8/class/cc/mallet/fst/confidence/SequenceConfidenceInstance.class  \n",
            "  inflating: mallet-2.0.8/class/cc/mallet/fst/confidence/TransducerConfidenceEstimator.class  \n",
            "  inflating: mallet-2.0.8/class/cc/mallet/fst/confidence/TransducerCorrector.class  \n",
            "  inflating: mallet-2.0.8/class/cc/mallet/fst/confidence/TransducerSequenceConfidenceEstimator.class  \n",
            "  inflating: mallet-2.0.8/class/cc/mallet/fst/confidence/ViterbiConfidenceEstimator.class  \n",
            "  inflating: mallet-2.0.8/class/cc/mallet/fst/confidence/ViterbiRatioConfidenceEstimator.class  \n",
            "  inflating: mallet-2.0.8/class/cc/mallet/fst/CRF$1.class  \n",
            "  inflating: mallet-2.0.8/class/cc/mallet/fst/CRF$2.class  \n",
            "  inflating: mallet-2.0.8/class/cc/mallet/fst/CRF$Factors$Incrementor.class  \n",
            "  inflating: mallet-2.0.8/class/cc/mallet/fst/CRF$Factors$WeightedIncrementor.class  \n",
            "  inflating: mallet-2.0.8/class/cc/mallet/fst/CRF$Factors.class  \n",
            "  inflating: mallet-2.0.8/class/cc/mallet/fst/CRF$State.class  \n",
            "  inflating: mallet-2.0.8/class/cc/mallet/fst/CRF$TransitionIterator.class  \n",
            "  inflating: mallet-2.0.8/class/cc/mallet/fst/CRF.class  \n",
            "  inflating: mallet-2.0.8/class/cc/mallet/fst/CRFCacheStaleIndicator.class  \n",
            "  inflating: mallet-2.0.8/class/cc/mallet/fst/CRFOptimizableByBatchLabelLikelihood$Factory.class  \n",
            "  inflating: mallet-2.0.8/class/cc/mallet/fst/CRFOptimizableByBatchLabelLikelihood.class  \n",
            "  inflating: mallet-2.0.8/class/cc/mallet/fst/CRFOptimizableByGradientValues.class  \n",
            "  inflating: mallet-2.0.8/class/cc/mallet/fst/CRFOptimizableByLabelLikelihood$Factory.class  \n",
            "  inflating: mallet-2.0.8/class/cc/mallet/fst/CRFOptimizableByLabelLikelihood.class  \n",
            "  inflating: mallet-2.0.8/class/cc/mallet/fst/CRFTrainerByL1LabelLikelihood.class  \n",
            "  inflating: mallet-2.0.8/class/cc/mallet/fst/CRFTrainerByLabelLikelihood.class  \n",
            "  inflating: mallet-2.0.8/class/cc/mallet/fst/CRFTrainerByStochasticGradient.class  \n",
            "  inflating: mallet-2.0.8/class/cc/mallet/fst/CRFTrainerByThreadedLabelLikelihood.class  \n",
            "  inflating: mallet-2.0.8/class/cc/mallet/fst/CRFTrainerByValueGradients$OptimizableCRF.class  \n",
            "  inflating: mallet-2.0.8/class/cc/mallet/fst/CRFTrainerByValueGradients.class  \n",
            "  inflating: mallet-2.0.8/class/cc/mallet/fst/CRFWriter.class  \n",
            "  inflating: mallet-2.0.8/class/cc/mallet/fst/FeatureTransducer$State.class  \n",
            "  inflating: mallet-2.0.8/class/cc/mallet/fst/FeatureTransducer$Transition.class  \n",
            "  inflating: mallet-2.0.8/class/cc/mallet/fst/FeatureTransducer$TransitionIterator.class  \n",
            "  inflating: mallet-2.0.8/class/cc/mallet/fst/FeatureTransducer.class  \n",
            "  inflating: mallet-2.0.8/class/cc/mallet/fst/HMM$Incrementor.class  \n",
            "  inflating: mallet-2.0.8/class/cc/mallet/fst/HMM$State.class  \n",
            "  inflating: mallet-2.0.8/class/cc/mallet/fst/HMM$TransitionIterator.class  \n",
            "  inflating: mallet-2.0.8/class/cc/mallet/fst/HMM$WeightedIncrementor.class  \n",
            "  inflating: mallet-2.0.8/class/cc/mallet/fst/HMM.class  \n",
            "  inflating: mallet-2.0.8/class/cc/mallet/fst/HMMTrainerByLikelihood.class  \n",
            "  inflating: mallet-2.0.8/class/cc/mallet/fst/InstanceAccuracyEvaluator.class  \n",
            "  inflating: mallet-2.0.8/class/cc/mallet/fst/LabelDistributionEvaluator.class  \n",
            "  inflating: mallet-2.0.8/class/cc/mallet/fst/MaxLattice.class  \n",
            "  inflating: mallet-2.0.8/class/cc/mallet/fst/MaxLatticeDefault$1.class  \n",
            "  inflating: mallet-2.0.8/class/cc/mallet/fst/MaxLatticeDefault$Factory.class  \n",
            "  inflating: mallet-2.0.8/class/cc/mallet/fst/MaxLatticeDefault$ViterbiNode$PreviousStateIterator.class  \n",
            "  inflating: mallet-2.0.8/class/cc/mallet/fst/MaxLatticeDefault$ViterbiNode.class  \n",
            "  inflating: mallet-2.0.8/class/cc/mallet/fst/MaxLatticeDefault$WeightCache.class  \n",
            "  inflating: mallet-2.0.8/class/cc/mallet/fst/MaxLatticeDefault.class  \n",
            "  inflating: mallet-2.0.8/class/cc/mallet/fst/MaxLatticeFactory.class  \n",
            "  inflating: mallet-2.0.8/class/cc/mallet/fst/MEMM$State.class  \n",
            "  inflating: mallet-2.0.8/class/cc/mallet/fst/MEMM$TransitionIterator.class  \n",
            "  inflating: mallet-2.0.8/class/cc/mallet/fst/MEMM.class  \n",
            "  inflating: mallet-2.0.8/class/cc/mallet/fst/MEMMTrainer$1.class  \n",
            "  inflating: mallet-2.0.8/class/cc/mallet/fst/MEMMTrainer$MEMMOptimizableByLabelLikelihood.class  \n",
            "  inflating: mallet-2.0.8/class/cc/mallet/fst/MEMMTrainer.class  \n",
            "  inflating: mallet-2.0.8/class/cc/mallet/fst/MultiSegmentationEvaluator.class  \n",
            "  inflating: mallet-2.0.8/class/cc/mallet/fst/NoopTransducerTrainer.class  \n",
            "  inflating: mallet-2.0.8/class/cc/mallet/fst/PerClassAccuracyEvaluator.class  \n",
            "  inflating: mallet-2.0.8/class/cc/mallet/fst/Segment.class  \n",
            "  inflating: mallet-2.0.8/class/cc/mallet/fst/SegmentationEvaluator$1.class  \n",
            "  inflating: mallet-2.0.8/class/cc/mallet/fst/SegmentationEvaluator$2.class  \n",
            "  inflating: mallet-2.0.8/class/cc/mallet/fst/SegmentationEvaluator.class  \n",
            "   creating: mallet-2.0.8/class/cc/mallet/fst/semi_supervised/\n",
            "   creating: mallet-2.0.8/class/cc/mallet/fst/semi_supervised/constraints/\n",
            "  inflating: mallet-2.0.8/class/cc/mallet/fst/semi_supervised/constraints/GEConstraint.class  \n",
            "  inflating: mallet-2.0.8/class/cc/mallet/fst/semi_supervised/constraints/OneLabelGEConstraints$OneLabelGEConstraint.class  \n",
            "  inflating: mallet-2.0.8/class/cc/mallet/fst/semi_supervised/constraints/OneLabelGEConstraints.class  \n",
            "  inflating: mallet-2.0.8/class/cc/mallet/fst/semi_supervised/constraints/OneLabelKLGEConstraints$OneLabelGEKLConstraint.class  \n",
            "  inflating: mallet-2.0.8/class/cc/mallet/fst/semi_supervised/constraints/OneLabelKLGEConstraints.class  \n",
            "  inflating: mallet-2.0.8/class/cc/mallet/fst/semi_supervised/constraints/OneLabelL2GEConstraints$OneLabelGEL2Constraint.class  \n",
            "  inflating: mallet-2.0.8/class/cc/mallet/fst/semi_supervised/constraints/OneLabelL2GEConstraints.class  \n",
            "  inflating: mallet-2.0.8/class/cc/mallet/fst/semi_supervised/constraints/OneLabelL2RangeGEConstraints$OneLabelL2IndGEConstraint.class  \n",
            "  inflating: mallet-2.0.8/class/cc/mallet/fst/semi_supervised/constraints/OneLabelL2RangeGEConstraints.class  \n",
            "  inflating: mallet-2.0.8/class/cc/mallet/fst/semi_supervised/constraints/SelfTransitionGEConstraint.class  \n",
            "  inflating: mallet-2.0.8/class/cc/mallet/fst/semi_supervised/constraints/TwoLabelGEConstraints$TwoLabelGEConstraint.class  \n",
            "  inflating: mallet-2.0.8/class/cc/mallet/fst/semi_supervised/constraints/TwoLabelGEConstraints.class  \n",
            "  inflating: mallet-2.0.8/class/cc/mallet/fst/semi_supervised/constraints/TwoLabelKLGEConstraints$TwoLabelKLGEConstraint.class  \n",
            "  inflating: mallet-2.0.8/class/cc/mallet/fst/semi_supervised/constraints/TwoLabelKLGEConstraints.class  \n",
            "  inflating: mallet-2.0.8/class/cc/mallet/fst/semi_supervised/constraints/TwoLabelL2GEConstraints$TwoLabelL2GEConstraint.class  \n",
            "  inflating: mallet-2.0.8/class/cc/mallet/fst/semi_supervised/constraints/TwoLabelL2GEConstraints.class  \n",
            "  inflating: mallet-2.0.8/class/cc/mallet/fst/semi_supervised/CRFOptimizableByEntropyRegularization.class  \n",
            "  inflating: mallet-2.0.8/class/cc/mallet/fst/semi_supervised/CRFOptimizableByGE.class  \n",
            "  inflating: mallet-2.0.8/class/cc/mallet/fst/semi_supervised/CRFTrainerByEntropyRegularization.class  \n",
            "  inflating: mallet-2.0.8/class/cc/mallet/fst/semi_supervised/CRFTrainerByGE.class  \n",
            "  inflating: mallet-2.0.8/class/cc/mallet/fst/semi_supervised/CRFTrainerByLikelihoodAndGE.class  \n",
            "  inflating: mallet-2.0.8/class/cc/mallet/fst/semi_supervised/EntropyLattice$LatticeNode.class  \n",
            "  inflating: mallet-2.0.8/class/cc/mallet/fst/semi_supervised/EntropyLattice.class  \n",
            "  inflating: mallet-2.0.8/class/cc/mallet/fst/semi_supervised/FSTConstraintUtil.class  \n",
            "  inflating: mallet-2.0.8/class/cc/mallet/fst/semi_supervised/GELattice$LatticeNode.class  \n",
            "  inflating: mallet-2.0.8/class/cc/mallet/fst/semi_supervised/GELattice.class  \n",
            "  inflating: mallet-2.0.8/class/cc/mallet/fst/semi_supervised/GELatticeTask.class  \n",
            "   creating: mallet-2.0.8/class/cc/mallet/fst/semi_supervised/pr/\n",
            "  inflating: mallet-2.0.8/class/cc/mallet/fst/semi_supervised/pr/CachedDotTransitionIterator.class  \n",
            "   creating: mallet-2.0.8/class/cc/mallet/fst/semi_supervised/pr/constraints/\n",
            "  inflating: mallet-2.0.8/class/cc/mallet/fst/semi_supervised/pr/constraints/OneLabelL2IndPRConstraints$OneLabelL2IndPRConstraint.class  \n",
            "  inflating: mallet-2.0.8/class/cc/mallet/fst/semi_supervised/pr/constraints/OneLabelL2IndPRConstraints.class  \n",
            "  inflating: mallet-2.0.8/class/cc/mallet/fst/semi_supervised/pr/constraints/OneLabelL2PRConstraints$OneLabelPRConstraint.class  \n",
            "  inflating: mallet-2.0.8/class/cc/mallet/fst/semi_supervised/pr/constraints/OneLabelL2PRConstraints.class  \n",
            "  inflating: mallet-2.0.8/class/cc/mallet/fst/semi_supervised/pr/constraints/PRConstraint.class  \n",
            "  inflating: mallet-2.0.8/class/cc/mallet/fst/semi_supervised/pr/ConstraintsOptimizableByPR$ExpectationTask.class  \n",
            "  inflating: mallet-2.0.8/class/cc/mallet/fst/semi_supervised/pr/ConstraintsOptimizableByPR.class  \n",
            "  inflating: mallet-2.0.8/class/cc/mallet/fst/semi_supervised/pr/CRFOptimizableByKL$ExpectationTask.class  \n",
            "  inflating: mallet-2.0.8/class/cc/mallet/fst/semi_supervised/pr/CRFOptimizableByKL.class  \n",
            "  inflating: mallet-2.0.8/class/cc/mallet/fst/semi_supervised/pr/CRFTrainerByPR.class  \n",
            "  inflating: mallet-2.0.8/class/cc/mallet/fst/semi_supervised/pr/PRAuxiliaryModel.class  \n",
            "  inflating: mallet-2.0.8/class/cc/mallet/fst/semi_supervised/pr/SumLatticeDefaultCachedDot$LatticeNode.class  \n",
            "  inflating: mallet-2.0.8/class/cc/mallet/fst/semi_supervised/pr/SumLatticeDefaultCachedDot.class  \n",
            "  inflating: mallet-2.0.8/class/cc/mallet/fst/semi_supervised/pr/SumLatticeKL.class  \n",
            "  inflating: mallet-2.0.8/class/cc/mallet/fst/semi_supervised/pr/SumLatticePR$LatticeNode.class  \n",
            "  inflating: mallet-2.0.8/class/cc/mallet/fst/semi_supervised/pr/SumLatticePR.class  \n",
            "  inflating: mallet-2.0.8/class/cc/mallet/fst/semi_supervised/StateLabelMap.class  \n",
            "  inflating: mallet-2.0.8/class/cc/mallet/fst/semi_supervised/SumLatticeTask.class  \n",
            "   creating: mallet-2.0.8/class/cc/mallet/fst/semi_supervised/tui/\n",
            "  inflating: mallet-2.0.8/class/cc/mallet/fst/semi_supervised/tui/SimpleTaggerWithConstraints.class  \n",
            "  inflating: mallet-2.0.8/class/cc/mallet/fst/ShallowTransducerTrainer.class  \n",
            "  inflating: mallet-2.0.8/class/cc/mallet/fst/SimpleTagger$SimpleTaggerSentence2FeatureVectorSequence.class  \n",
            "  inflating: mallet-2.0.8/class/cc/mallet/fst/SimpleTagger.class  \n",
            "  inflating: mallet-2.0.8/class/cc/mallet/fst/SumLattice.class  \n",
            "  inflating: mallet-2.0.8/class/cc/mallet/fst/SumLatticeBeam$Factory$1.class  \n",
            "  inflating: mallet-2.0.8/class/cc/mallet/fst/SumLatticeBeam$Factory.class  \n",
            "  inflating: mallet-2.0.8/class/cc/mallet/fst/SumLatticeBeam$LatticeNode.class  \n",
            "  inflating: mallet-2.0.8/class/cc/mallet/fst/SumLatticeBeam$NBestSlist.class  \n",
            "  inflating: mallet-2.0.8/class/cc/mallet/fst/SumLatticeBeam$NBForBackNode.class  \n",
            "  inflating: mallet-2.0.8/class/cc/mallet/fst/SumLatticeBeam.class  \n",
            "  inflating: mallet-2.0.8/class/cc/mallet/fst/SumLatticeConstrained.class  \n",
            "  inflating: mallet-2.0.8/class/cc/mallet/fst/SumLatticeDefault$Factory.class  \n",
            "  inflating: mallet-2.0.8/class/cc/mallet/fst/SumLatticeDefault$LatticeNode.class  \n",
            "  inflating: mallet-2.0.8/class/cc/mallet/fst/SumLatticeDefault.class  \n",
            "  inflating: mallet-2.0.8/class/cc/mallet/fst/SumLatticeFactory.class  \n",
            "  inflating: mallet-2.0.8/class/cc/mallet/fst/SumLatticeScaling$Factory.class  \n",
            "  inflating: mallet-2.0.8/class/cc/mallet/fst/SumLatticeScaling$LatticeNode.class  \n",
            "  inflating: mallet-2.0.8/class/cc/mallet/fst/SumLatticeScaling.class  \n",
            "   creating: mallet-2.0.8/class/cc/mallet/fst/tests/\n",
            "  inflating: mallet-2.0.8/class/cc/mallet/fst/tests/TestCRF$TestCRF2String.class  \n",
            "  inflating: mallet-2.0.8/class/cc/mallet/fst/tests/TestCRF$TestCRFTokenSequenceRemoveSpaces.class  \n",
            "  inflating: mallet-2.0.8/class/cc/mallet/fst/tests/TestCRF.class  \n",
            "  inflating: mallet-2.0.8/class/cc/mallet/fst/tests/TestFeatureTransducer.class  \n",
            "  inflating: mallet-2.0.8/class/cc/mallet/fst/tests/TestMEMM$TestMEMM2String.class  \n",
            "  inflating: mallet-2.0.8/class/cc/mallet/fst/tests/TestMEMM$TestMEMMTokenSequenceRemoveSpaces.class  \n",
            "  inflating: mallet-2.0.8/class/cc/mallet/fst/tests/TestMEMM.class  \n",
            "  inflating: mallet-2.0.8/class/cc/mallet/fst/tests/TestSumNegLogProb2.class  \n",
            "  inflating: mallet-2.0.8/class/cc/mallet/fst/ThreadedOptimizable$GradientHandler.class  \n",
            "  inflating: mallet-2.0.8/class/cc/mallet/fst/ThreadedOptimizable$ValueHandler.class  \n",
            "  inflating: mallet-2.0.8/class/cc/mallet/fst/ThreadedOptimizable.class  \n",
            "  inflating: mallet-2.0.8/class/cc/mallet/fst/TokenAccuracyEvaluator.class  \n",
            "  inflating: mallet-2.0.8/class/cc/mallet/fst/Transducer$Incrementor.class  \n",
            "  inflating: mallet-2.0.8/class/cc/mallet/fst/Transducer$State.class  \n",
            "  inflating: mallet-2.0.8/class/cc/mallet/fst/Transducer$TransitionIterator.class  \n",
            "  inflating: mallet-2.0.8/class/cc/mallet/fst/Transducer.class  \n",
            "  inflating: mallet-2.0.8/class/cc/mallet/fst/TransducerEvaluator.class  \n",
            "  inflating: mallet-2.0.8/class/cc/mallet/fst/TransducerTrainer$ByIncrements.class  \n",
            "  inflating: mallet-2.0.8/class/cc/mallet/fst/TransducerTrainer$ByInstanceIncrements.class  \n",
            "  inflating: mallet-2.0.8/class/cc/mallet/fst/TransducerTrainer$ByOptimization.class  \n",
            "  inflating: mallet-2.0.8/class/cc/mallet/fst/TransducerTrainer.class  \n",
            "  inflating: mallet-2.0.8/class/cc/mallet/fst/ViterbiWriter.class  \n",
            "   creating: mallet-2.0.8/class/cc/mallet/grmm/\n",
            "   creating: mallet-2.0.8/class/cc/mallet/grmm/examples/\n",
            "  inflating: mallet-2.0.8/class/cc/mallet/grmm/examples/CrossTemplate1.class  \n",
            "  inflating: mallet-2.0.8/class/cc/mallet/grmm/examples/ModelReaderExample.class  \n",
            "  inflating: mallet-2.0.8/class/cc/mallet/grmm/examples/SimpleCrfExample.class  \n",
            "  inflating: mallet-2.0.8/class/cc/mallet/grmm/examples/SimpleFactorExample.class  \n",
            "  inflating: mallet-2.0.8/class/cc/mallet/grmm/examples/SimpleGraphExample.class  \n",
            "   creating: mallet-2.0.8/class/cc/mallet/grmm/inference/\n",
            "  inflating: mallet-2.0.8/class/cc/mallet/grmm/inference/AbstractBeliefPropagation$AbstractMessageStrategy.class  \n",
            "  inflating: mallet-2.0.8/class/cc/mallet/grmm/inference/AbstractBeliefPropagation$MaxProductMessageStrategy.class  \n",
            "  inflating: mallet-2.0.8/class/cc/mallet/grmm/inference/AbstractBeliefPropagation$MessageStrategy.class  \n",
            "  inflating: mallet-2.0.8/class/cc/mallet/grmm/inference/AbstractBeliefPropagation$SumProductMessageStrategy.class  \n",
            "  inflating: mallet-2.0.8/class/cc/mallet/grmm/inference/AbstractBeliefPropagation.class  \n",
            "  inflating: mallet-2.0.8/class/cc/mallet/grmm/inference/AbstractInferencer.class  \n",
            "  inflating: mallet-2.0.8/class/cc/mallet/grmm/inference/BruteForceInferencer.class  \n",
            "  inflating: mallet-2.0.8/class/cc/mallet/grmm/inference/ExactSampler.class  \n",
            "   creating: mallet-2.0.8/class/cc/mallet/grmm/inference/gbp/\n",
            "  inflating: mallet-2.0.8/class/cc/mallet/grmm/inference/gbp/AbstractMessageStrategy.class  \n",
            "  inflating: mallet-2.0.8/class/cc/mallet/grmm/inference/gbp/BPRegionGenerator.class  \n",
            "  inflating: mallet-2.0.8/class/cc/mallet/grmm/inference/gbp/ClusterVariationalRegionGenerator$BaseRegionComputer.class  \n",
            "  inflating: mallet-2.0.8/class/cc/mallet/grmm/inference/gbp/ClusterVariationalRegionGenerator$ByFactorRegionComputer.class  \n",
            "  inflating: mallet-2.0.8/class/cc/mallet/grmm/inference/gbp/ClusterVariationalRegionGenerator$Grid2x2RegionComputer.class  \n",
            "  inflating: mallet-2.0.8/class/cc/mallet/grmm/inference/gbp/ClusterVariationalRegionGenerator.class  \n",
            "  inflating: mallet-2.0.8/class/cc/mallet/grmm/inference/gbp/FactorizedRegion.class  \n",
            "  inflating: mallet-2.0.8/class/cc/mallet/grmm/inference/gbp/FullMessageStrategy.class  \n",
            "  inflating: mallet-2.0.8/class/cc/mallet/grmm/inference/gbp/Kikuchi4SquareRegionGenerator.class  \n",
            "  inflating: mallet-2.0.8/class/cc/mallet/grmm/inference/gbp/MessageArray.class  \n",
            "  inflating: mallet-2.0.8/class/cc/mallet/grmm/inference/gbp/MessageStrategy.class  \n",
            "  inflating: mallet-2.0.8/class/cc/mallet/grmm/inference/gbp/ParentChildGBP$1.class  \n",
            "  inflating: mallet-2.0.8/class/cc/mallet/grmm/inference/gbp/ParentChildGBP.class  \n",
            "  inflating: mallet-2.0.8/class/cc/mallet/grmm/inference/gbp/Region.class  \n",
            "  inflating: mallet-2.0.8/class/cc/mallet/grmm/inference/gbp/RegionEdge.class  \n",
            "  inflating: mallet-2.0.8/class/cc/mallet/grmm/inference/gbp/RegionGraph.class  \n",
            "  inflating: mallet-2.0.8/class/cc/mallet/grmm/inference/gbp/RegionGraphGenerator.class  \n",
            "  inflating: mallet-2.0.8/class/cc/mallet/grmm/inference/gbp/SparseMessageSender.class  \n",
            "  inflating: mallet-2.0.8/class/cc/mallet/grmm/inference/GibbsSampler.class  \n",
            "  inflating: mallet-2.0.8/class/cc/mallet/grmm/inference/Inferencer.class  \n",
            "  inflating: mallet-2.0.8/class/cc/mallet/grmm/inference/JunctionTree$Sepset.class  \n",
            "  inflating: mallet-2.0.8/class/cc/mallet/grmm/inference/JunctionTree.class  \n",
            "  inflating: mallet-2.0.8/class/cc/mallet/grmm/inference/JunctionTreeInferencer$1.class  \n",
            "  inflating: mallet-2.0.8/class/cc/mallet/grmm/inference/JunctionTreeInferencer.class  \n",
            "  inflating: mallet-2.0.8/class/cc/mallet/grmm/inference/JunctionTreePropagation$MaxProductMessageStrategy.class  \n",
            "  inflating: mallet-2.0.8/class/cc/mallet/grmm/inference/JunctionTreePropagation$MessageStrategy.class  \n",
            "  inflating: mallet-2.0.8/class/cc/mallet/grmm/inference/JunctionTreePropagation$SumProductMessageStrategy.class  \n",
            "  inflating: mallet-2.0.8/class/cc/mallet/grmm/inference/JunctionTreePropagation.class  \n",
            "  inflating: mallet-2.0.8/class/cc/mallet/grmm/inference/LoopyBP.class  \n",
            "  inflating: mallet-2.0.8/class/cc/mallet/grmm/inference/MessageArray$1.class  \n",
            "  inflating: mallet-2.0.8/class/cc/mallet/grmm/inference/MessageArray$Iterator.class  \n",
            "  inflating: mallet-2.0.8/class/cc/mallet/grmm/inference/MessageArray$ToMsgsIterator.class  \n",
            "  inflating: mallet-2.0.8/class/cc/mallet/grmm/inference/MessageArray.class  \n",
            "  inflating: mallet-2.0.8/class/cc/mallet/grmm/inference/RandomGraphs$FactorGenerator.class  \n",
            "  inflating: mallet-2.0.8/class/cc/mallet/grmm/inference/RandomGraphs$UniformFactorGenerator.class  \n",
            "  inflating: mallet-2.0.8/class/cc/mallet/grmm/inference/RandomGraphs.class  \n",
            "  inflating: mallet-2.0.8/class/cc/mallet/grmm/inference/ResidualBP.class  \n",
            "  inflating: mallet-2.0.8/class/cc/mallet/grmm/inference/Sampler.class  \n",
            "  inflating: mallet-2.0.8/class/cc/mallet/grmm/inference/SamplingInferencer.class  \n",
            "  inflating: mallet-2.0.8/class/cc/mallet/grmm/inference/TreeBP.class  \n",
            "  inflating: mallet-2.0.8/class/cc/mallet/grmm/inference/TRP$1.class  \n",
            "  inflating: mallet-2.0.8/class/cc/mallet/grmm/inference/TRP$AlmostRandomTreeFactory.class  \n",
            "  inflating: mallet-2.0.8/class/cc/mallet/grmm/inference/TRP$ConvergenceTerminator.class  \n",
            "  inflating: mallet-2.0.8/class/cc/mallet/grmm/inference/TRP$DefaultConvergenceTerminator.class  \n",
            "  inflating: mallet-2.0.8/class/cc/mallet/grmm/inference/TRP$IterationTerminator.class  \n",
            "  inflating: mallet-2.0.8/class/cc/mallet/grmm/inference/TRP$SimpleUnionFind.class  \n",
            "  inflating: mallet-2.0.8/class/cc/mallet/grmm/inference/TRP$TerminationCondition.class  \n",
            "  inflating: mallet-2.0.8/class/cc/mallet/grmm/inference/TRP$TreeFactory.class  \n",
            "  inflating: mallet-2.0.8/class/cc/mallet/grmm/inference/TRP$TreeListFactory.class  \n",
            "  inflating: mallet-2.0.8/class/cc/mallet/grmm/inference/TRP.class  \n",
            "  inflating: mallet-2.0.8/class/cc/mallet/grmm/inference/Utils.class  \n",
            "  inflating: mallet-2.0.8/class/cc/mallet/grmm/inference/VariableElimination.class  \n",
            "   creating: mallet-2.0.8/class/cc/mallet/grmm/learning/\n",
            "  inflating: mallet-2.0.8/class/cc/mallet/grmm/learning/ACRF$BigramTemplate.class  \n",
            "  inflating: mallet-2.0.8/class/cc/mallet/grmm/learning/ACRF$FixedFactorTemplate.class  \n",
            "  inflating: mallet-2.0.8/class/cc/mallet/grmm/learning/ACRF$GraphPostProcessor.class  \n",
            "  inflating: mallet-2.0.8/class/cc/mallet/grmm/learning/ACRF$MaximizableACRF.class  \n",
            "  inflating: mallet-2.0.8/class/cc/mallet/grmm/learning/ACRF$PairwiseFactorTemplate.class  \n",
            "  inflating: mallet-2.0.8/class/cc/mallet/grmm/learning/ACRF$SequenceTemplate.class  \n",
            "  inflating: mallet-2.0.8/class/cc/mallet/grmm/learning/ACRF$Template.class  \n",
            "  inflating: mallet-2.0.8/class/cc/mallet/grmm/learning/ACRF$UnigramTemplate.class  \n",
            "  inflating: mallet-2.0.8/class/cc/mallet/grmm/learning/ACRF$UnrolledGraph.class  \n",
            "  inflating: mallet-2.0.8/class/cc/mallet/grmm/learning/ACRF$UnrolledVarSet.class  \n",
            "  inflating: mallet-2.0.8/class/cc/mallet/grmm/learning/ACRF.class  \n",
            "  inflating: mallet-2.0.8/class/cc/mallet/grmm/learning/ACRFEvaluator.class  \n",
            "  inflating: mallet-2.0.8/class/cc/mallet/grmm/learning/AcrfSerialEvaluator.class  \n",
            "  inflating: mallet-2.0.8/class/cc/mallet/grmm/learning/ACRFTrainer.class  \n",
            "  inflating: mallet-2.0.8/class/cc/mallet/grmm/learning/DefaultAcrfTrainer$FileEvaluator.class  \n",
            "  inflating: mallet-2.0.8/class/cc/mallet/grmm/learning/DefaultAcrfTrainer$LogEvaluator.class  \n",
            "  inflating: mallet-2.0.8/class/cc/mallet/grmm/learning/DefaultAcrfTrainer$TestResults.class  \n",
            "  inflating: mallet-2.0.8/class/cc/mallet/grmm/learning/DefaultAcrfTrainer.class  \n",
            "   creating: mallet-2.0.8/class/cc/mallet/grmm/learning/extract/\n",
            "  inflating: mallet-2.0.8/class/cc/mallet/grmm/learning/extract/ACRFExtractor.class  \n",
            "  inflating: mallet-2.0.8/class/cc/mallet/grmm/learning/extract/ACRFExtractorTrainer$CheckpointingEvaluator.class  \n",
            "  inflating: mallet-2.0.8/class/cc/mallet/grmm/learning/extract/ACRFExtractorTrainer.class  \n",
            "  inflating: mallet-2.0.8/class/cc/mallet/grmm/learning/extract/AcrfExtractorTui.class  \n",
            "  inflating: mallet-2.0.8/class/cc/mallet/grmm/learning/GenericAcrfData2TokenSequence.class  \n",
            "  inflating: mallet-2.0.8/class/cc/mallet/grmm/learning/GenericAcrfTui.class  \n",
            "  inflating: mallet-2.0.8/class/cc/mallet/grmm/learning/MultiSegmentationEvaluatorACRF$TestResults.class  \n",
            "  inflating: mallet-2.0.8/class/cc/mallet/grmm/learning/MultiSegmentationEvaluatorACRF.class  \n",
            "  inflating: mallet-2.0.8/class/cc/mallet/grmm/learning/PiecewiseACRFTrainer$Maxable.class  \n",
            "  inflating: mallet-2.0.8/class/cc/mallet/grmm/learning/PiecewiseACRFTrainer.class  \n",
            "  inflating: mallet-2.0.8/class/cc/mallet/grmm/learning/PseudolikelihoodACRFTrainer$CliquesIterator.class  \n",
            "  inflating: mallet-2.0.8/class/cc/mallet/grmm/learning/PseudolikelihoodACRFTrainer$EdgesIterator.class  \n",
            "  inflating: mallet-2.0.8/class/cc/mallet/grmm/learning/PseudolikelihoodACRFTrainer$Maxable.class  \n",
            "  inflating: mallet-2.0.8/class/cc/mallet/grmm/learning/PseudolikelihoodACRFTrainer$VariablesIterator.class  \n",
            "  inflating: mallet-2.0.8/class/cc/mallet/grmm/learning/PseudolikelihoodACRFTrainer.class  \n",
            "  inflating: mallet-2.0.8/class/cc/mallet/grmm/learning/PwplACRFTrainer$Maxable$WrongWrong.class  \n",
            "  inflating: mallet-2.0.8/class/cc/mallet/grmm/learning/PwplACRFTrainer$Maxable.class  \n",
            "  inflating: mallet-2.0.8/class/cc/mallet/grmm/learning/PwplACRFTrainer.class  \n",
            "   creating: mallet-2.0.8/class/cc/mallet/grmm/learning/templates/\n",
            "  inflating: mallet-2.0.8/class/cc/mallet/grmm/learning/templates/SimilarTokensTemplate$CapWordsBinner.class  \n",
            "  inflating: mallet-2.0.8/class/cc/mallet/grmm/learning/templates/SimilarTokensTemplate$FeatureVectorBinner.class  \n",
            "  inflating: mallet-2.0.8/class/cc/mallet/grmm/learning/templates/SimilarTokensTemplate$TokenInfo.class  \n",
            "  inflating: mallet-2.0.8/class/cc/mallet/grmm/learning/templates/SimilarTokensTemplate$WordFeatureBinner.class  \n",
            "  inflating: mallet-2.0.8/class/cc/mallet/grmm/learning/templates/SimilarTokensTemplate.class  \n",
            "   creating: mallet-2.0.8/class/cc/mallet/grmm/test/\n",
            "  inflating: mallet-2.0.8/class/cc/mallet/grmm/test/TestAbstractBeliefPropagation.class  \n",
            "  inflating: mallet-2.0.8/class/cc/mallet/grmm/test/TestAssignment.class  \n",
            "  inflating: mallet-2.0.8/class/cc/mallet/grmm/test/TestAssignmentIterator.class  \n",
            "  inflating: mallet-2.0.8/class/cc/mallet/grmm/test/TestBetaFactor.class  \n",
            "  inflating: mallet-2.0.8/class/cc/mallet/grmm/test/TestBitVarSet.class  \n",
            "  inflating: mallet-2.0.8/class/cc/mallet/grmm/test/TestDirectedModel.class  \n",
            "  inflating: mallet-2.0.8/class/cc/mallet/grmm/test/TestFactorGraph.class  \n",
            "  inflating: mallet-2.0.8/class/cc/mallet/grmm/test/TestFactors.class  \n",
            "  inflating: mallet-2.0.8/class/cc/mallet/grmm/test/TestGenericAcrfData2TokenSequence.class  \n",
            "  inflating: mallet-2.0.8/class/cc/mallet/grmm/test/TestGibbsSampler.class  \n",
            "  inflating: mallet-2.0.8/class/cc/mallet/grmm/test/TestHashClique.class  \n",
            "  inflating: mallet-2.0.8/class/cc/mallet/grmm/test/TestInference$1.class  \n",
            "  inflating: mallet-2.0.8/class/cc/mallet/grmm/test/TestInference.class  \n",
            "  inflating: mallet-2.0.8/class/cc/mallet/grmm/test/TestListVarSet.class  \n",
            "  inflating: mallet-2.0.8/class/cc/mallet/grmm/test/TestLogTableFactor.class  \n",
            "  inflating: mallet-2.0.8/class/cc/mallet/grmm/test/TestMIntInt2ObjectMap.class  \n",
            "  inflating: mallet-2.0.8/class/cc/mallet/grmm/test/TestNormalFactor.class  \n",
            "  inflating: mallet-2.0.8/class/cc/mallet/grmm/test/TestPottsFactor.class  \n",
            "  inflating: mallet-2.0.8/class/cc/mallet/grmm/test/TestRandomGraphs.class  \n",
            "  inflating: mallet-2.0.8/class/cc/mallet/grmm/test/TestTableFactor.class  \n",
            "  inflating: mallet-2.0.8/class/cc/mallet/grmm/test/TestTRP.class  \n",
            "  inflating: mallet-2.0.8/class/cc/mallet/grmm/test/TestUndirectedModel.class  \n",
            "  inflating: mallet-2.0.8/class/cc/mallet/grmm/test/TestUniformFactor.class  \n",
            "  inflating: mallet-2.0.8/class/cc/mallet/grmm/test/TestUniNormalFactor.class  \n",
            "   creating: mallet-2.0.8/class/cc/mallet/grmm/types/\n",
            "  inflating: mallet-2.0.8/class/cc/mallet/grmm/types/AbstractAssignmentIterator.class  \n",
            "  inflating: mallet-2.0.8/class/cc/mallet/grmm/types/AbstractFactor.class  \n",
            "  inflating: mallet-2.0.8/class/cc/mallet/grmm/types/AbstractTableFactor.class  \n",
            "  inflating: mallet-2.0.8/class/cc/mallet/grmm/types/Assignment.class  \n",
            "  inflating: mallet-2.0.8/class/cc/mallet/grmm/types/AssignmentIterator.class  \n",
            "  inflating: mallet-2.0.8/class/cc/mallet/grmm/types/BetaFactor.class  \n",
            "  inflating: mallet-2.0.8/class/cc/mallet/grmm/types/BidirectionalIntObjectMap.class  \n",
            "  inflating: mallet-2.0.8/class/cc/mallet/grmm/types/BinaryUnaryFactor.class  \n",
            "  inflating: mallet-2.0.8/class/cc/mallet/grmm/types/BitVarSet$Iterator.class  \n",
            "  inflating: mallet-2.0.8/class/cc/mallet/grmm/types/BitVarSet.class  \n",
            "  inflating: mallet-2.0.8/class/cc/mallet/grmm/types/BoltzmannPairFactor.class  \n",
            "  inflating: mallet-2.0.8/class/cc/mallet/grmm/types/BoltzmannUnaryFactor.class  \n",
            "  inflating: mallet-2.0.8/class/cc/mallet/grmm/types/ConstantFactor.class  \n",
            "  inflating: mallet-2.0.8/class/cc/mallet/grmm/types/CPT.class  \n",
            "  inflating: mallet-2.0.8/class/cc/mallet/grmm/types/DenseAssignmentIterator.class  \n",
            "  inflating: mallet-2.0.8/class/cc/mallet/grmm/types/DirectedModel.class  \n",
            "  inflating: mallet-2.0.8/class/cc/mallet/grmm/types/DiscreteFactor.class  \n",
            "  inflating: mallet-2.0.8/class/cc/mallet/grmm/types/Factor.class  \n",
            "  inflating: mallet-2.0.8/class/cc/mallet/grmm/types/FactorGraph$1.class  \n",
            "  inflating: mallet-2.0.8/class/cc/mallet/grmm/types/FactorGraph$2.class  \n",
            "  inflating: mallet-2.0.8/class/cc/mallet/grmm/types/FactorGraph$3.class  \n",
            "  inflating: mallet-2.0.8/class/cc/mallet/grmm/types/FactorGraph.class  \n",
            "  inflating: mallet-2.0.8/class/cc/mallet/grmm/types/Factors$1.class  \n",
            "  inflating: mallet-2.0.8/class/cc/mallet/grmm/types/Factors.class  \n",
            "  inflating: mallet-2.0.8/class/cc/mallet/grmm/types/HashVarSet.class  \n",
            "  inflating: mallet-2.0.8/class/cc/mallet/grmm/types/ListVarSet$Iterator.class  \n",
            "  inflating: mallet-2.0.8/class/cc/mallet/grmm/types/ListVarSet.class  \n",
            "  inflating: mallet-2.0.8/class/cc/mallet/grmm/types/LogTableFactor.class  \n",
            "  inflating: mallet-2.0.8/class/cc/mallet/grmm/types/NormalFactor.class  \n",
            "  inflating: mallet-2.0.8/class/cc/mallet/grmm/types/ParameterizedFactor.class  \n",
            "  inflating: mallet-2.0.8/class/cc/mallet/grmm/types/PottsTableFactor.class  \n",
            "  inflating: mallet-2.0.8/class/cc/mallet/grmm/types/SkeletonFactor.class  \n",
            "  inflating: mallet-2.0.8/class/cc/mallet/grmm/types/SparseAssignmentIterator.class  \n",
            "  inflating: mallet-2.0.8/class/cc/mallet/grmm/types/TableFactor.class  \n",
            "  inflating: mallet-2.0.8/class/cc/mallet/grmm/types/Tree.class  \n",
            "  inflating: mallet-2.0.8/class/cc/mallet/grmm/types/UndirectedGrid.class  \n",
            "  inflating: mallet-2.0.8/class/cc/mallet/grmm/types/UndirectedModel.class  \n",
            "  inflating: mallet-2.0.8/class/cc/mallet/grmm/types/UniformFactor.class  \n",
            "  inflating: mallet-2.0.8/class/cc/mallet/grmm/types/UniNormalFactor.class  \n",
            "  inflating: mallet-2.0.8/class/cc/mallet/grmm/types/Universe.class  \n",
            "  inflating: mallet-2.0.8/class/cc/mallet/grmm/types/UnmodifiableVarSet.class  \n",
            "  inflating: mallet-2.0.8/class/cc/mallet/grmm/types/Variable.class  \n",
            "  inflating: mallet-2.0.8/class/cc/mallet/grmm/types/VarSet.class  \n",
            "   creating: mallet-2.0.8/class/cc/mallet/grmm/util/\n",
            "  inflating: mallet-2.0.8/class/cc/mallet/grmm/util/CachingOptimizable$1.class  \n",
            "  inflating: mallet-2.0.8/class/cc/mallet/grmm/util/CachingOptimizable$Base.class  \n",
            "  inflating: mallet-2.0.8/class/cc/mallet/grmm/util/CachingOptimizable$ByBatchGradient.class  \n",
            "  inflating: mallet-2.0.8/class/cc/mallet/grmm/util/CachingOptimizable$ByGradient.class  \n",
            "  inflating: mallet-2.0.8/class/cc/mallet/grmm/util/CachingOptimizable.class  \n",
            "  inflating: mallet-2.0.8/class/cc/mallet/grmm/util/CSIntInt2ObjectMultiMap$1.class  \n",
            "  inflating: mallet-2.0.8/class/cc/mallet/grmm/util/CSIntInt2ObjectMultiMap.class  \n",
            "  inflating: mallet-2.0.8/class/cc/mallet/grmm/util/Flops$Watch.class  \n",
            "  inflating: mallet-2.0.8/class/cc/mallet/grmm/util/Flops.class  \n",
            "  inflating: mallet-2.0.8/class/cc/mallet/grmm/util/GeneralUtils.class  \n",
            "  inflating: mallet-2.0.8/class/cc/mallet/grmm/util/Graphs.class  \n",
            "  inflating: mallet-2.0.8/class/cc/mallet/grmm/util/LabelsAssignment.class  \n",
            "  inflating: mallet-2.0.8/class/cc/mallet/grmm/util/LabelsSequence2Assignment.class  \n",
            "  inflating: mallet-2.0.8/class/cc/mallet/grmm/util/Matrices.class  \n",
            "  inflating: mallet-2.0.8/class/cc/mallet/grmm/util/MIntInt2ObjectMap$1.class  \n",
            "  inflating: mallet-2.0.8/class/cc/mallet/grmm/util/MIntInt2ObjectMap.class  \n",
            "  inflating: mallet-2.0.8/class/cc/mallet/grmm/util/ModelReader.class  \n",
            "  inflating: mallet-2.0.8/class/cc/mallet/grmm/util/Models.class  \n",
            "  inflating: mallet-2.0.8/class/cc/mallet/grmm/util/ModelWriter.class  \n",
            "  inflating: mallet-2.0.8/class/cc/mallet/grmm/util/PipedIterator.class  \n",
            "  inflating: mallet-2.0.8/class/cc/mallet/grmm/util/RememberTokenizationPipe.class  \n",
            "  inflating: mallet-2.0.8/class/cc/mallet/grmm/util/SliceLabelsSequence.class  \n",
            "  inflating: mallet-2.0.8/class/cc/mallet/grmm/util/THashMultiMap.class  \n",
            "   creating: mallet-2.0.8/class/cc/mallet/optimize/\n",
            "  inflating: mallet-2.0.8/class/cc/mallet/optimize/AGIS.class  \n",
            "  inflating: mallet-2.0.8/class/cc/mallet/optimize/BackTrackLineSearch.class  \n",
            "  inflating: mallet-2.0.8/class/cc/mallet/optimize/ConjugateGradient.class  \n",
            "  inflating: mallet-2.0.8/class/cc/mallet/optimize/GradientAscent.class  \n",
            "  inflating: mallet-2.0.8/class/cc/mallet/optimize/GradientBracketLineOptimizer.class  \n",
            "  inflating: mallet-2.0.8/class/cc/mallet/optimize/InvalidOptimizableException.class  \n",
            "  inflating: mallet-2.0.8/class/cc/mallet/optimize/LimitedMemoryBFGS.class  \n",
            "  inflating: mallet-2.0.8/class/cc/mallet/optimize/LineOptimizer$ByGradient.class  \n",
            "  inflating: mallet-2.0.8/class/cc/mallet/optimize/LineOptimizer.class  \n",
            "  inflating: mallet-2.0.8/class/cc/mallet/optimize/Optimizable$ByBatchGradient.class  \n",
            "  inflating: mallet-2.0.8/class/cc/mallet/optimize/Optimizable$ByCombiningBatchGradient.class  \n",
            "  inflating: mallet-2.0.8/class/cc/mallet/optimize/Optimizable$ByGISUpdate.class  \n",
            "  inflating: mallet-2.0.8/class/cc/mallet/optimize/Optimizable$ByGradient.class  \n",
            "  inflating: mallet-2.0.8/class/cc/mallet/optimize/Optimizable$ByGradientValue.class  \n",
            "  inflating: mallet-2.0.8/class/cc/mallet/optimize/Optimizable$ByHessian.class  \n",
            "  inflating: mallet-2.0.8/class/cc/mallet/optimize/Optimizable$ByValue.class  \n",
            "  inflating: mallet-2.0.8/class/cc/mallet/optimize/Optimizable$ByVotedPerceptron.class  \n",
            "  inflating: mallet-2.0.8/class/cc/mallet/optimize/Optimizable.class  \n",
            "  inflating: mallet-2.0.8/class/cc/mallet/optimize/OptimizableCollection$ByGradientValue.class  \n",
            "  inflating: mallet-2.0.8/class/cc/mallet/optimize/OptimizableCollection.class  \n",
            "  inflating: mallet-2.0.8/class/cc/mallet/optimize/OptimizationException.class  \n",
            "  inflating: mallet-2.0.8/class/cc/mallet/optimize/Optimizer$ByBatches.class  \n",
            "  inflating: mallet-2.0.8/class/cc/mallet/optimize/Optimizer.class  \n",
            "  inflating: mallet-2.0.8/class/cc/mallet/optimize/OptimizerEvaluator$ByBatchGradient.class  \n",
            "  inflating: mallet-2.0.8/class/cc/mallet/optimize/OptimizerEvaluator$ByGradient.class  \n",
            "  inflating: mallet-2.0.8/class/cc/mallet/optimize/OptimizerEvaluator.class  \n",
            "  inflating: mallet-2.0.8/class/cc/mallet/optimize/OrthantWiseLimitedMemoryBFGS.class  \n",
            "  inflating: mallet-2.0.8/class/cc/mallet/optimize/StochasticMetaAscent.class  \n",
            "   creating: mallet-2.0.8/class/cc/mallet/optimize/tests/\n",
            "  inflating: mallet-2.0.8/class/cc/mallet/optimize/tests/TestOptimizable$SimplePoly.class  \n",
            "  inflating: mallet-2.0.8/class/cc/mallet/optimize/tests/TestOptimizable$WrongSimplePoly.class  \n",
            "  inflating: mallet-2.0.8/class/cc/mallet/optimize/tests/TestOptimizable.class  \n",
            "  inflating: mallet-2.0.8/class/cc/mallet/optimize/tests/TestOptimizer$SimplePoly.class  \n",
            "  inflating: mallet-2.0.8/class/cc/mallet/optimize/tests/TestOptimizer.class  \n",
            "   creating: mallet-2.0.8/class/cc/mallet/pipe/\n",
            "  inflating: mallet-2.0.8/class/cc/mallet/pipe/AddClassifierTokenPredictions$TokenClassifiers.class  \n",
            "  inflating: mallet-2.0.8/class/cc/mallet/pipe/AddClassifierTokenPredictions.class  \n",
            "  inflating: mallet-2.0.8/class/cc/mallet/pipe/Array2FeatureVector.class  \n",
            "  inflating: mallet-2.0.8/class/cc/mallet/pipe/AugmentableFeatureVectorAddConjunctions.class  \n",
            "  inflating: mallet-2.0.8/class/cc/mallet/pipe/AugmentableFeatureVectorLogScale.class  \n",
            "  inflating: mallet-2.0.8/class/cc/mallet/pipe/BranchingPipe$1.class  \n",
            "  inflating: mallet-2.0.8/class/cc/mallet/pipe/BranchingPipe$BranchingInstanceIterator.class  \n",
            "  inflating: mallet-2.0.8/class/cc/mallet/pipe/BranchingPipe$GateKeepingInstanceIterator.class  \n",
            "  inflating: mallet-2.0.8/class/cc/mallet/pipe/BranchingPipe$PeekingInstanceIterator.class  \n",
            "  inflating: mallet-2.0.8/class/cc/mallet/pipe/BranchingPipe.class  \n",
            "  inflating: mallet-2.0.8/class/cc/mallet/pipe/CharSequence2CharNGrams.class  \n",
            "  inflating: mallet-2.0.8/class/cc/mallet/pipe/CharSequence2TokenSequence.class  \n",
            "  inflating: mallet-2.0.8/class/cc/mallet/pipe/CharSequenceArray2TokenSequence.class  \n",
            "  inflating: mallet-2.0.8/class/cc/mallet/pipe/CharSequenceLowercase.class  \n",
            "  inflating: mallet-2.0.8/class/cc/mallet/pipe/CharSequenceRemoveHTML$1.class  \n",
            "  inflating: mallet-2.0.8/class/cc/mallet/pipe/CharSequenceRemoveHTML$ParserGetter.class  \n",
            "  inflating: mallet-2.0.8/class/cc/mallet/pipe/CharSequenceRemoveHTML$TagStripper.class  \n",
            "  inflating: mallet-2.0.8/class/cc/mallet/pipe/CharSequenceRemoveHTML.class  \n",
            "  inflating: mallet-2.0.8/class/cc/mallet/pipe/CharSequenceRemoveUUEncodedBlocks.class  \n",
            "  inflating: mallet-2.0.8/class/cc/mallet/pipe/CharSequenceReplace.class  \n",
            "  inflating: mallet-2.0.8/class/cc/mallet/pipe/CharSubsequence.class  \n",
            "  inflating: mallet-2.0.8/class/cc/mallet/pipe/Classification2ConfidencePredictingFeatureVector.class  \n",
            "  inflating: mallet-2.0.8/class/cc/mallet/pipe/Csv2Array.class  \n",
            "  inflating: mallet-2.0.8/class/cc/mallet/pipe/Csv2FeatureVector.class  \n",
            "  inflating: mallet-2.0.8/class/cc/mallet/pipe/Directory2FileIterator.class  \n",
            "  inflating: mallet-2.0.8/class/cc/mallet/pipe/FeatureCountPipe.class  \n",
            "  inflating: mallet-2.0.8/class/cc/mallet/pipe/FeatureDocFreqPipe.class  \n",
            "  inflating: mallet-2.0.8/class/cc/mallet/pipe/FeatureSequence2AugmentableFeatureVector.class  \n",
            "  inflating: mallet-2.0.8/class/cc/mallet/pipe/FeatureSequence2FeatureVector.class  \n",
            "  inflating: mallet-2.0.8/class/cc/mallet/pipe/FeatureSequenceConvolution.class  \n",
            "  inflating: mallet-2.0.8/class/cc/mallet/pipe/FeatureValueString2FeatureVector.class  \n",
            "  inflating: mallet-2.0.8/class/cc/mallet/pipe/FeatureVectorConjunctions.class  \n",
            "  inflating: mallet-2.0.8/class/cc/mallet/pipe/FeatureVectorSequence2FeatureVectors$FeatureVectorIterator.class  \n",
            "  inflating: mallet-2.0.8/class/cc/mallet/pipe/FeatureVectorSequence2FeatureVectors.class  \n",
            "  inflating: mallet-2.0.8/class/cc/mallet/pipe/Filename2CharSequence.class  \n",
            "  inflating: mallet-2.0.8/class/cc/mallet/pipe/FilterEmptyFeatureVectors$FilteringPipeInstanceIterator.class  \n",
            "  inflating: mallet-2.0.8/class/cc/mallet/pipe/FilterEmptyFeatureVectors.class  \n",
            "  inflating: mallet-2.0.8/class/cc/mallet/pipe/FixedVocabTokenizer.class  \n",
            "  inflating: mallet-2.0.8/class/cc/mallet/pipe/Input2CharSequence.class  \n",
            "  inflating: mallet-2.0.8/class/cc/mallet/pipe/InstanceListTrimFeaturesByCount.class  \n",
            "   creating: mallet-2.0.8/class/cc/mallet/pipe/iterator/\n",
            "  inflating: mallet-2.0.8/class/cc/mallet/pipe/iterator/ArrayDataAndTargetIterator.class  \n",
            "  inflating: mallet-2.0.8/class/cc/mallet/pipe/iterator/ArrayIterator.class  \n",
            "  inflating: mallet-2.0.8/class/cc/mallet/pipe/iterator/ConcatenatedInstanceIterator.class  \n",
            "  inflating: mallet-2.0.8/class/cc/mallet/pipe/iterator/CsvIterator.class  \n",
            "  inflating: mallet-2.0.8/class/cc/mallet/pipe/iterator/DBInstanceIterator.class  \n",
            "  inflating: mallet-2.0.8/class/cc/mallet/pipe/iterator/EmptyInstanceIterator.class  \n",
            "  inflating: mallet-2.0.8/class/cc/mallet/pipe/iterator/FileIterator.class  \n",
            "  inflating: mallet-2.0.8/class/cc/mallet/pipe/iterator/FileListIterator.class  \n",
            "  inflating: mallet-2.0.8/class/cc/mallet/pipe/iterator/FileUriIterator.class  \n",
            "  inflating: mallet-2.0.8/class/cc/mallet/pipe/iterator/LineGroupIterator.class  \n",
            "  inflating: mallet-2.0.8/class/cc/mallet/pipe/iterator/LineIterator.class  \n",
            "  inflating: mallet-2.0.8/class/cc/mallet/pipe/iterator/ParenGroupIterator.class  \n",
            "  inflating: mallet-2.0.8/class/cc/mallet/pipe/iterator/PatternMatchIterator.class  \n",
            "  inflating: mallet-2.0.8/class/cc/mallet/pipe/iterator/PipeExtendedIterator.class  \n",
            "  inflating: mallet-2.0.8/class/cc/mallet/pipe/iterator/PipeInputIterator.class  \n",
            "  inflating: mallet-2.0.8/class/cc/mallet/pipe/iterator/RandomFeatureVectorIterator.class  \n",
            "  inflating: mallet-2.0.8/class/cc/mallet/pipe/iterator/RandomTokenSequenceIterator.class  \n",
            "  inflating: mallet-2.0.8/class/cc/mallet/pipe/iterator/SegmentIterator.class  \n",
            "  inflating: mallet-2.0.8/class/cc/mallet/pipe/iterator/SelectiveFileLineIterator.class  \n",
            "  inflating: mallet-2.0.8/class/cc/mallet/pipe/iterator/SimpleFileLineIterator.class  \n",
            "  inflating: mallet-2.0.8/class/cc/mallet/pipe/iterator/StringArrayIterator.class  \n",
            "   creating: mallet-2.0.8/class/cc/mallet/pipe/iterator/tests/\n",
            "  inflating: mallet-2.0.8/class/cc/mallet/pipe/iterator/tests/TestPatternMatchIterator.class  \n",
            "  inflating: mallet-2.0.8/class/cc/mallet/pipe/iterator/UnlabeledFileIterator.class  \n",
            "  inflating: mallet-2.0.8/class/cc/mallet/pipe/LineGroupString2TokenSequence.class  \n",
            "  inflating: mallet-2.0.8/class/cc/mallet/pipe/MakeAmpersandXMLFriendly.class  \n",
            "  inflating: mallet-2.0.8/class/cc/mallet/pipe/NGramPreprocessor$ReplacementSet.class  \n",
            "  inflating: mallet-2.0.8/class/cc/mallet/pipe/NGramPreprocessor.class  \n",
            "  inflating: mallet-2.0.8/class/cc/mallet/pipe/Noop.class  \n",
            "  inflating: mallet-2.0.8/class/cc/mallet/pipe/Pipe$SimplePipeInstanceIterator.class  \n",
            "  inflating: mallet-2.0.8/class/cc/mallet/pipe/Pipe.class  \n",
            "  inflating: mallet-2.0.8/class/cc/mallet/pipe/PipeException.class  \n",
            "  inflating: mallet-2.0.8/class/cc/mallet/pipe/PipeUtils.class  \n",
            "  inflating: mallet-2.0.8/class/cc/mallet/pipe/PrintInput.class  \n",
            "  inflating: mallet-2.0.8/class/cc/mallet/pipe/PrintInputAndTarget.class  \n",
            "  inflating: mallet-2.0.8/class/cc/mallet/pipe/PrintTokenSequenceFeatures.class  \n",
            "  inflating: mallet-2.0.8/class/cc/mallet/pipe/SaveDataInSource.class  \n",
            "  inflating: mallet-2.0.8/class/cc/mallet/pipe/SelectiveSGML2TokenSequence.class  \n",
            "  inflating: mallet-2.0.8/class/cc/mallet/pipe/SerialPipes$Predicate.class  \n",
            "  inflating: mallet-2.0.8/class/cc/mallet/pipe/SerialPipes.class  \n",
            "  inflating: mallet-2.0.8/class/cc/mallet/pipe/SGML2TokenSequence.class  \n",
            "  inflating: mallet-2.0.8/class/cc/mallet/pipe/SimpleTaggerSentence2StringTokenization.class  \n",
            "  inflating: mallet-2.0.8/class/cc/mallet/pipe/SimpleTaggerSentence2TokenSequence.class  \n",
            "  inflating: mallet-2.0.8/class/cc/mallet/pipe/SimpleTokenizer.class  \n",
            "  inflating: mallet-2.0.8/class/cc/mallet/pipe/SourceLocation2TokenSequence.class  \n",
            "  inflating: mallet-2.0.8/class/cc/mallet/pipe/StringAddNewLineDelimiter.class  \n",
            "  inflating: mallet-2.0.8/class/cc/mallet/pipe/StringList2FeatureSequence.class  \n",
            "  inflating: mallet-2.0.8/class/cc/mallet/pipe/SvmLight2FeatureVectorAndLabel.class  \n",
            "  inflating: mallet-2.0.8/class/cc/mallet/pipe/Target2Double.class  \n",
            "  inflating: mallet-2.0.8/class/cc/mallet/pipe/Target2FeatureSequence.class  \n",
            "  inflating: mallet-2.0.8/class/cc/mallet/pipe/Target2Integer.class  \n",
            "  inflating: mallet-2.0.8/class/cc/mallet/pipe/Target2Label.class  \n",
            "  inflating: mallet-2.0.8/class/cc/mallet/pipe/Target2LabelSequence.class  \n",
            "  inflating: mallet-2.0.8/class/cc/mallet/pipe/TargetRememberLastLabel.class  \n",
            "  inflating: mallet-2.0.8/class/cc/mallet/pipe/TargetStringToFeatures.class  \n",
            "   creating: mallet-2.0.8/class/cc/mallet/pipe/tests/\n",
            "  inflating: mallet-2.0.8/class/cc/mallet/pipe/tests/TestInstancePipe$Array2ArrayIterator.class  \n",
            "  inflating: mallet-2.0.8/class/cc/mallet/pipe/tests/TestInstancePipe.class  \n",
            "  inflating: mallet-2.0.8/class/cc/mallet/pipe/tests/TestIterators.class  \n",
            "  inflating: mallet-2.0.8/class/cc/mallet/pipe/tests/TestPipeUtils$1.class  \n",
            "  inflating: mallet-2.0.8/class/cc/mallet/pipe/tests/TestPipeUtils$StupidPipe.class  \n",
            "  inflating: mallet-2.0.8/class/cc/mallet/pipe/tests/TestPipeUtils.class  \n",
            "  inflating: mallet-2.0.8/class/cc/mallet/pipe/tests/TestRainbowStyle.class  \n",
            "  inflating: mallet-2.0.8/class/cc/mallet/pipe/tests/TestSGML2TokenSequence$Array2ArrayIterator.class  \n",
            "  inflating: mallet-2.0.8/class/cc/mallet/pipe/tests/TestSGML2TokenSequence.class  \n",
            "  inflating: mallet-2.0.8/class/cc/mallet/pipe/tests/TestSpacePipe.class  \n",
            "  inflating: mallet-2.0.8/class/cc/mallet/pipe/Token2FeatureVector.class  \n",
            "  inflating: mallet-2.0.8/class/cc/mallet/pipe/TokenSequence2FeatureSequence.class  \n",
            "  inflating: mallet-2.0.8/class/cc/mallet/pipe/TokenSequence2FeatureSequenceWithBigrams.class  \n",
            "  inflating: mallet-2.0.8/class/cc/mallet/pipe/TokenSequence2FeatureVectorSequence.class  \n",
            "  inflating: mallet-2.0.8/class/cc/mallet/pipe/TokenSequence2TokenInstances$TokenInstanceIterator.class  \n",
            "  inflating: mallet-2.0.8/class/cc/mallet/pipe/TokenSequence2TokenInstances.class  \n",
            "  inflating: mallet-2.0.8/class/cc/mallet/pipe/TokenSequenceLowercase.class  \n",
            "  inflating: mallet-2.0.8/class/cc/mallet/pipe/TokenSequenceMatchDataAndTarget.class  \n",
            "  inflating: mallet-2.0.8/class/cc/mallet/pipe/TokenSequenceNGrams.class  \n",
            "  inflating: mallet-2.0.8/class/cc/mallet/pipe/TokenSequenceParseFeatureString.class  \n",
            "  inflating: mallet-2.0.8/class/cc/mallet/pipe/TokenSequenceRemoveNonAlpha.class  \n",
            "  inflating: mallet-2.0.8/class/cc/mallet/pipe/TokenSequenceRemoveStopPatterns.class  \n",
            "  inflating: mallet-2.0.8/class/cc/mallet/pipe/TokenSequenceRemoveStopwords.class  \n",
            "   creating: mallet-2.0.8/class/cc/mallet/pipe/tsf/\n",
            "  inflating: mallet-2.0.8/class/cc/mallet/pipe/tsf/CountMatches.class  \n",
            "  inflating: mallet-2.0.8/class/cc/mallet/pipe/tsf/CountMatchesAlignedWithOffsets.class  \n",
            "  inflating: mallet-2.0.8/class/cc/mallet/pipe/tsf/CountMatchesMatching.class  \n",
            "  inflating: mallet-2.0.8/class/cc/mallet/pipe/tsf/FeaturesInWindow.class  \n",
            "  inflating: mallet-2.0.8/class/cc/mallet/pipe/tsf/FeaturesOfFirstMention.class  \n",
            "  inflating: mallet-2.0.8/class/cc/mallet/pipe/tsf/LexiconMembership.class  \n",
            "  inflating: mallet-2.0.8/class/cc/mallet/pipe/tsf/OffsetConjunctions.class  \n",
            "  inflating: mallet-2.0.8/class/cc/mallet/pipe/tsf/OffsetFeatureConjunction.class  \n",
            "  inflating: mallet-2.0.8/class/cc/mallet/pipe/tsf/OffsetPropertyConjunctions.class  \n",
            "  inflating: mallet-2.0.8/class/cc/mallet/pipe/tsf/RegexMatches.class  \n",
            "  inflating: mallet-2.0.8/class/cc/mallet/pipe/tsf/SequencePrintingPipe.class  \n",
            "  inflating: mallet-2.0.8/class/cc/mallet/pipe/tsf/Target2BIOFormat.class  \n",
            "   creating: mallet-2.0.8/class/cc/mallet/pipe/tsf/tests/\n",
            "  inflating: mallet-2.0.8/class/cc/mallet/pipe/tsf/tests/TestOffsetConjunctions.class  \n",
            "  inflating: mallet-2.0.8/class/cc/mallet/pipe/tsf/tests/TestOffsetFeatureConjunctions.class  \n",
            "  inflating: mallet-2.0.8/class/cc/mallet/pipe/tsf/tests/TestSequencePrintingPipe.class  \n",
            "  inflating: mallet-2.0.8/class/cc/mallet/pipe/tsf/TokenFirstPosition.class  \n",
            "  inflating: mallet-2.0.8/class/cc/mallet/pipe/tsf/TokenText.class  \n",
            "  inflating: mallet-2.0.8/class/cc/mallet/pipe/tsf/TokenTextCharNGrams.class  \n",
            "  inflating: mallet-2.0.8/class/cc/mallet/pipe/tsf/TokenTextCharPrefix.class  \n",
            "  inflating: mallet-2.0.8/class/cc/mallet/pipe/tsf/TokenTextCharSuffix.class  \n",
            "  inflating: mallet-2.0.8/class/cc/mallet/pipe/tsf/TokenTextNGrams.class  \n",
            "  inflating: mallet-2.0.8/class/cc/mallet/pipe/tsf/TrieLexiconMembership$TrieLexicon.class  \n",
            "  inflating: mallet-2.0.8/class/cc/mallet/pipe/tsf/TrieLexiconMembership.class  \n",
            "  inflating: mallet-2.0.8/class/cc/mallet/pipe/tsf/WordVectors.class  \n",
            "  inflating: mallet-2.0.8/class/cc/mallet/pipe/ValueString2FeatureVector.class  \n",
            "   creating: mallet-2.0.8/class/cc/mallet/regression/\n",
            "  inflating: mallet-2.0.8/class/cc/mallet/regression/CoordinateDescent.class  \n",
            "  inflating: mallet-2.0.8/class/cc/mallet/regression/LeastSquares.class  \n",
            "  inflating: mallet-2.0.8/class/cc/mallet/regression/LinearRegression.class  \n",
            "  inflating: mallet-2.0.8/class/cc/mallet/regression/LinearRegressionTrainer.class  \n",
            "   creating: mallet-2.0.8/class/cc/mallet/regression/tui/\n",
            "  inflating: mallet-2.0.8/class/cc/mallet/regression/tui/Regression.class  \n",
            "  inflating: mallet-2.0.8/class/cc/mallet/regression/tui/RegressionImporter.class  \n",
            "   creating: mallet-2.0.8/class/cc/mallet/share/\n",
            "   creating: mallet-2.0.8/class/cc/mallet/share/casutton/\n",
            "   creating: mallet-2.0.8/class/cc/mallet/share/casutton/ner/\n",
            "  inflating: mallet-2.0.8/class/cc/mallet/share/casutton/ner/ConllNer2003Sentence2TokenSequence.class  \n",
            "   creating: mallet-2.0.8/class/cc/mallet/share/mccallum/\n",
            "   creating: mallet-2.0.8/class/cc/mallet/share/mccallum/ner/\n",
            "  inflating: mallet-2.0.8/class/cc/mallet/share/mccallum/ner/ConllNer2003Sentence2TokenSequence.class  \n",
            "  inflating: mallet-2.0.8/class/cc/mallet/share/mccallum/ner/TokenSequenceDocHeader.class  \n",
            "  inflating: mallet-2.0.8/class/cc/mallet/share/mccallum/ner/TUI.class  \n",
            "   creating: mallet-2.0.8/class/cc/mallet/share/upenn/\n",
            "  inflating: mallet-2.0.8/class/cc/mallet/share/upenn/MaxEntShell.class  \n",
            "   creating: mallet-2.0.8/class/cc/mallet/share/upenn/ner/\n",
            "  inflating: mallet-2.0.8/class/cc/mallet/share/upenn/ner/FeatureWindow.class  \n",
            "  inflating: mallet-2.0.8/class/cc/mallet/share/upenn/ner/LengthBins.class  \n",
            "  inflating: mallet-2.0.8/class/cc/mallet/share/upenn/ner/ListMember.class  \n",
            "  inflating: mallet-2.0.8/class/cc/mallet/share/upenn/ner/LongRegexMatches.class  \n",
            "  inflating: mallet-2.0.8/class/cc/mallet/share/upenn/ner/NEPipes.class  \n",
            "   creating: mallet-2.0.8/class/cc/mallet/share/weili/\n",
            "   creating: mallet-2.0.8/class/cc/mallet/share/weili/ner/\n",
            "   creating: mallet-2.0.8/class/cc/mallet/share/weili/ner/enron/\n",
            "  inflating: mallet-2.0.8/class/cc/mallet/share/weili/ner/enron/EnronMessage2TokenSequence.class  \n",
            "  inflating: mallet-2.0.8/class/cc/mallet/share/weili/ner/enron/TUI.class  \n",
            "  inflating: mallet-2.0.8/class/cc/mallet/share/weili/ner/WordTransformation.class  \n",
            "   creating: mallet-2.0.8/class/cc/mallet/topics/\n",
            "  inflating: mallet-2.0.8/class/cc/mallet/topics/AbstractTopicReports.class  \n",
            "  inflating: mallet-2.0.8/class/cc/mallet/topics/DMROptimizable.class  \n",
            "  inflating: mallet-2.0.8/class/cc/mallet/topics/DMRTopicModel.class  \n",
            "  inflating: mallet-2.0.8/class/cc/mallet/topics/HierarchicalLDA$NCRPNode.class  \n",
            "  inflating: mallet-2.0.8/class/cc/mallet/topics/HierarchicalLDA.class  \n",
            "  inflating: mallet-2.0.8/class/cc/mallet/topics/HierarchicalPAM.class  \n",
            "  inflating: mallet-2.0.8/class/cc/mallet/topics/JSONTopicReports.class  \n",
            "  inflating: mallet-2.0.8/class/cc/mallet/topics/LabeledLDA.class  \n",
            "  inflating: mallet-2.0.8/class/cc/mallet/topics/LDA$1WordProb.class  \n",
            "  inflating: mallet-2.0.8/class/cc/mallet/topics/LDA.class  \n",
            "  inflating: mallet-2.0.8/class/cc/mallet/topics/LDAHyper$Topication.class  \n",
            "  inflating: mallet-2.0.8/class/cc/mallet/topics/LDAHyper.class  \n",
            "  inflating: mallet-2.0.8/class/cc/mallet/topics/LDAStream.class  \n",
            "  inflating: mallet-2.0.8/class/cc/mallet/topics/MarginalProbEstimator.class  \n",
            "  inflating: mallet-2.0.8/class/cc/mallet/topics/MultinomialHMM.class  \n",
            "  inflating: mallet-2.0.8/class/cc/mallet/topics/NPTopicModel.class  \n",
            "  inflating: mallet-2.0.8/class/cc/mallet/topics/PAM4L$IDSorter.class  \n",
            "  inflating: mallet-2.0.8/class/cc/mallet/topics/PAM4L.class  \n",
            "  inflating: mallet-2.0.8/class/cc/mallet/topics/ParallelTopicModel.class  \n",
            "  inflating: mallet-2.0.8/class/cc/mallet/topics/PolylingualTopicModel$TopicAssignment.class  \n",
            "  inflating: mallet-2.0.8/class/cc/mallet/topics/PolylingualTopicModel.class  \n",
            "  inflating: mallet-2.0.8/class/cc/mallet/topics/RTopicModel.class  \n",
            "  inflating: mallet-2.0.8/class/cc/mallet/topics/SimpleLDA.class  \n",
            "  inflating: mallet-2.0.8/class/cc/mallet/topics/TopicalNGrams$1WordProb.class  \n",
            "  inflating: mallet-2.0.8/class/cc/mallet/topics/TopicalNGrams.class  \n",
            "  inflating: mallet-2.0.8/class/cc/mallet/topics/TopicAssignment.class  \n",
            "  inflating: mallet-2.0.8/class/cc/mallet/topics/TopicInferencer.class  \n",
            "  inflating: mallet-2.0.8/class/cc/mallet/topics/TopicModelDiagnostics$TopicScores.class  \n",
            "  inflating: mallet-2.0.8/class/cc/mallet/topics/TopicModelDiagnostics.class  \n",
            "  inflating: mallet-2.0.8/class/cc/mallet/topics/TopicReports.class  \n",
            "   creating: mallet-2.0.8/class/cc/mallet/topics/tui/\n",
            "  inflating: mallet-2.0.8/class/cc/mallet/topics/tui/DMRLoader.class  \n",
            "  inflating: mallet-2.0.8/class/cc/mallet/topics/tui/EvaluateTopics.class  \n",
            "  inflating: mallet-2.0.8/class/cc/mallet/topics/tui/HierarchicalLDATUI.class  \n",
            "  inflating: mallet-2.0.8/class/cc/mallet/topics/tui/InferTopics.class  \n",
            "  inflating: mallet-2.0.8/class/cc/mallet/topics/tui/TopicTrainer.class  \n",
            "  inflating: mallet-2.0.8/class/cc/mallet/topics/tui/Vectors2Topics.class  \n",
            "  inflating: mallet-2.0.8/class/cc/mallet/topics/WeightedTopicModel.class  \n",
            "  inflating: mallet-2.0.8/class/cc/mallet/topics/WordEmbeddingRunnable.class  \n",
            "  inflating: mallet-2.0.8/class/cc/mallet/topics/WordEmbeddings.class  \n",
            "  inflating: mallet-2.0.8/class/cc/mallet/topics/WorkerRunnable.class  \n",
            "   creating: mallet-2.0.8/class/cc/mallet/types/\n",
            "  inflating: mallet-2.0.8/class/cc/mallet/types/Alphabet.class  \n",
            "  inflating: mallet-2.0.8/class/cc/mallet/types/AlphabetCarrying.class  \n",
            "  inflating: mallet-2.0.8/class/cc/mallet/types/AlphabetFactory.class  \n",
            "  inflating: mallet-2.0.8/class/cc/mallet/types/ArrayListSequence.class  \n",
            "  inflating: mallet-2.0.8/class/cc/mallet/types/ArraySequence.class  \n",
            "  inflating: mallet-2.0.8/class/cc/mallet/types/AugmentableFeatureVector.class  \n",
            "  inflating: mallet-2.0.8/class/cc/mallet/types/BiNormalSeparation$Factory.class  \n",
            "  inflating: mallet-2.0.8/class/cc/mallet/types/BiNormalSeparation.class  \n",
            "  inflating: mallet-2.0.8/class/cc/mallet/types/CachedMetric.class  \n",
            "  inflating: mallet-2.0.8/class/cc/mallet/types/ChainedInstanceIterator.class  \n",
            "  inflating: mallet-2.0.8/class/cc/mallet/types/ConstantMatrix.class  \n",
            "  inflating: mallet-2.0.8/class/cc/mallet/types/CrossValidationIterator.class  \n",
            "  inflating: mallet-2.0.8/class/cc/mallet/types/DenseMatrix.class  \n",
            "  inflating: mallet-2.0.8/class/cc/mallet/types/DenseVector.class  \n",
            "  inflating: mallet-2.0.8/class/cc/mallet/types/Dirichlet$Estimator.class  \n",
            "  inflating: mallet-2.0.8/class/cc/mallet/types/Dirichlet$MethodOfMomentsEstimator.class  \n",
            "  inflating: mallet-2.0.8/class/cc/mallet/types/Dirichlet.class  \n",
            "  inflating: mallet-2.0.8/class/cc/mallet/types/EuclideanDistance.class  \n",
            "  inflating: mallet-2.0.8/class/cc/mallet/types/ExpGain$Factory.class  \n",
            "  inflating: mallet-2.0.8/class/cc/mallet/types/ExpGain.class  \n",
            "  inflating: mallet-2.0.8/class/cc/mallet/types/FeatureConjunction$List.class  \n",
            "  inflating: mallet-2.0.8/class/cc/mallet/types/FeatureConjunction.class  \n",
            "  inflating: mallet-2.0.8/class/cc/mallet/types/FeatureCounter.class  \n",
            "  inflating: mallet-2.0.8/class/cc/mallet/types/FeatureCounts$Factory.class  \n",
            "  inflating: mallet-2.0.8/class/cc/mallet/types/FeatureCounts.class  \n",
            "  inflating: mallet-2.0.8/class/cc/mallet/types/FeatureInducer.class  \n",
            "  inflating: mallet-2.0.8/class/cc/mallet/types/FeatureSelection.class  \n",
            "  inflating: mallet-2.0.8/class/cc/mallet/types/FeatureSelector.class  \n",
            "  inflating: mallet-2.0.8/class/cc/mallet/types/FeatureSequence.class  \n",
            "  inflating: mallet-2.0.8/class/cc/mallet/types/FeatureSequenceWithBigrams.class  \n",
            "  inflating: mallet-2.0.8/class/cc/mallet/types/FeatureVector.class  \n",
            "  inflating: mallet-2.0.8/class/cc/mallet/types/FeatureVectorSequence$Iterator.class  \n",
            "  inflating: mallet-2.0.8/class/cc/mallet/types/FeatureVectorSequence.class  \n",
            "  inflating: mallet-2.0.8/class/cc/mallet/types/GainRatio$1.class  \n",
            "  inflating: mallet-2.0.8/class/cc/mallet/types/GainRatio.class  \n",
            "  inflating: mallet-2.0.8/class/cc/mallet/types/GradientGain$Factory.class  \n",
            "  inflating: mallet-2.0.8/class/cc/mallet/types/GradientGain.class  \n",
            "  inflating: mallet-2.0.8/class/cc/mallet/types/HashedSparseVector.class  \n",
            "  inflating: mallet-2.0.8/class/cc/mallet/types/IDSorter.class  \n",
            "  inflating: mallet-2.0.8/class/cc/mallet/types/IndexedSparseVector.class  \n",
            "  inflating: mallet-2.0.8/class/cc/mallet/types/InfiniteDistance.class  \n",
            "  inflating: mallet-2.0.8/class/cc/mallet/types/InfoGain$Factory.class  \n",
            "  inflating: mallet-2.0.8/class/cc/mallet/types/InfoGain.class  \n",
            "  inflating: mallet-2.0.8/class/cc/mallet/types/Instance.class  \n",
            "  inflating: mallet-2.0.8/class/cc/mallet/types/InstanceList$1.class  \n",
            "  inflating: mallet-2.0.8/class/cc/mallet/types/InstanceList$CrossValidationIterator.class  \n",
            "  inflating: mallet-2.0.8/class/cc/mallet/types/InstanceList$NotYetSetPipe.class  \n",
            "  inflating: mallet-2.0.8/class/cc/mallet/types/InstanceList.class  \n",
            "  inflating: mallet-2.0.8/class/cc/mallet/types/InstanceListTUI.class  \n",
            "  inflating: mallet-2.0.8/class/cc/mallet/types/InvertedIndex.class  \n",
            "  inflating: mallet-2.0.8/class/cc/mallet/types/KLGain.class  \n",
            "  inflating: mallet-2.0.8/class/cc/mallet/types/Label.class  \n",
            "  inflating: mallet-2.0.8/class/cc/mallet/types/LabelAlphabet.class  \n",
            "  inflating: mallet-2.0.8/class/cc/mallet/types/Labeler.class  \n",
            "  inflating: mallet-2.0.8/class/cc/mallet/types/Labeling.class  \n",
            "  inflating: mallet-2.0.8/class/cc/mallet/types/Labelings.class  \n",
            "  inflating: mallet-2.0.8/class/cc/mallet/types/Labels.class  \n",
            "  inflating: mallet-2.0.8/class/cc/mallet/types/LabelSequence$Iterator.class  \n",
            "  inflating: mallet-2.0.8/class/cc/mallet/types/LabelSequence.class  \n",
            "  inflating: mallet-2.0.8/class/cc/mallet/types/LabelsSequence.class  \n",
            "  inflating: mallet-2.0.8/class/cc/mallet/types/LabelVector.class  \n",
            "  inflating: mallet-2.0.8/class/cc/mallet/types/LogNumber.class  \n",
            "  inflating: mallet-2.0.8/class/cc/mallet/types/ManhattenDistance.class  \n",
            "  inflating: mallet-2.0.8/class/cc/mallet/types/Matrix.class  \n",
            "  inflating: mallet-2.0.8/class/cc/mallet/types/Matrix2.class  \n",
            "  inflating: mallet-2.0.8/class/cc/mallet/types/Matrixn.class  \n",
            "  inflating: mallet-2.0.8/class/cc/mallet/types/MatrixOps.class  \n",
            "  inflating: mallet-2.0.8/class/cc/mallet/types/Metric.class  \n",
            "  inflating: mallet-2.0.8/class/cc/mallet/types/Minkowski.class  \n",
            "  inflating: mallet-2.0.8/class/cc/mallet/types/MultiInstanceList$MultiIterator.class  \n",
            "  inflating: mallet-2.0.8/class/cc/mallet/types/MultiInstanceList.class  \n",
            "  inflating: mallet-2.0.8/class/cc/mallet/types/Multinomial$Estimator.class  \n",
            "  inflating: mallet-2.0.8/class/cc/mallet/types/Multinomial$LaplaceEstimator.class  \n",
            "  inflating: mallet-2.0.8/class/cc/mallet/types/Multinomial$Logged.class  \n",
            "  inflating: mallet-2.0.8/class/cc/mallet/types/Multinomial$MAPEstimator.class  \n",
            "  inflating: mallet-2.0.8/class/cc/mallet/types/Multinomial$MEstimator.class  \n",
            "  inflating: mallet-2.0.8/class/cc/mallet/types/Multinomial$MLEstimator.class  \n",
            "  inflating: mallet-2.0.8/class/cc/mallet/types/Multinomial.class  \n",
            "  inflating: mallet-2.0.8/class/cc/mallet/types/NormalizedDotProductMetric.class  \n",
            "  inflating: mallet-2.0.8/class/cc/mallet/types/NullLabel.class  \n",
            "  inflating: mallet-2.0.8/class/cc/mallet/types/PagedInstanceList.class  \n",
            "  inflating: mallet-2.0.8/class/cc/mallet/types/PartiallyRankedFeatureVector$Factory.class  \n",
            "  inflating: mallet-2.0.8/class/cc/mallet/types/PartiallyRankedFeatureVector$PerLabelFactory.class  \n",
            "  inflating: mallet-2.0.8/class/cc/mallet/types/PartiallyRankedFeatureVector.class  \n",
            "  inflating: mallet-2.0.8/class/cc/mallet/types/PerLabelFeatureCounts$Factory.class  \n",
            "  inflating: mallet-2.0.8/class/cc/mallet/types/PerLabelFeatureCounts.class  \n",
            "  inflating: mallet-2.0.8/class/cc/mallet/types/PerLabelInfoGain$Factory.class  \n",
            "  inflating: mallet-2.0.8/class/cc/mallet/types/PerLabelInfoGain.class  \n",
            "  inflating: mallet-2.0.8/class/cc/mallet/types/PropertyHolder.class  \n",
            "  inflating: mallet-2.0.8/class/cc/mallet/types/RankedFeatureVector$EntryWithOriginalIndex.class  \n",
            "  inflating: mallet-2.0.8/class/cc/mallet/types/RankedFeatureVector$Factory.class  \n",
            "  inflating: mallet-2.0.8/class/cc/mallet/types/RankedFeatureVector$PerLabelFactory.class  \n",
            "  inflating: mallet-2.0.8/class/cc/mallet/types/RankedFeatureVector.class  \n",
            "  inflating: mallet-2.0.8/class/cc/mallet/types/ROCData.class  \n",
            "  inflating: mallet-2.0.8/class/cc/mallet/types/Sequence.class  \n",
            "  inflating: mallet-2.0.8/class/cc/mallet/types/SequencePair.class  \n",
            "  inflating: mallet-2.0.8/class/cc/mallet/types/SequencePairAlignment.class  \n",
            "  inflating: mallet-2.0.8/class/cc/mallet/types/SingleInstanceIterator.class  \n",
            "  inflating: mallet-2.0.8/class/cc/mallet/types/SparseMatrixn.class  \n",
            "  inflating: mallet-2.0.8/class/cc/mallet/types/SparseVector.class  \n",
            "  inflating: mallet-2.0.8/class/cc/mallet/types/StringEditFeatureVectorSequence.class  \n",
            "  inflating: mallet-2.0.8/class/cc/mallet/types/StringEditVector.class  \n",
            "  inflating: mallet-2.0.8/class/cc/mallet/types/StringKernel.class  \n",
            "   creating: mallet-2.0.8/class/cc/mallet/types/tests/\n",
            "  inflating: mallet-2.0.8/class/cc/mallet/types/tests/TestAlphabet.class  \n",
            "  inflating: mallet-2.0.8/class/cc/mallet/types/tests/TestAugmentableFeatureVector.class  \n",
            "  inflating: mallet-2.0.8/class/cc/mallet/types/tests/TestBiNormalSeparation$BinaryTestData.class  \n",
            "  inflating: mallet-2.0.8/class/cc/mallet/types/tests/TestBiNormalSeparation.class  \n",
            "  inflating: mallet-2.0.8/class/cc/mallet/types/tests/TestFeatureSequence.class  \n",
            "  inflating: mallet-2.0.8/class/cc/mallet/types/tests/TestFeatureVector.class  \n",
            "  inflating: mallet-2.0.8/class/cc/mallet/types/tests/TestHashedSparseVector.class  \n",
            "  inflating: mallet-2.0.8/class/cc/mallet/types/tests/TestIndexedSparseVector.class  \n",
            "  inflating: mallet-2.0.8/class/cc/mallet/types/tests/TestInstanceListWeights.class  \n",
            "  inflating: mallet-2.0.8/class/cc/mallet/types/tests/TestLabelAlphabet$Labelee.class  \n",
            "  inflating: mallet-2.0.8/class/cc/mallet/types/tests/TestLabelAlphabet.class  \n",
            "  inflating: mallet-2.0.8/class/cc/mallet/types/tests/TestLabelsSequence.class  \n",
            "  inflating: mallet-2.0.8/class/cc/mallet/types/tests/TestLabelVector.class  \n",
            "  inflating: mallet-2.0.8/class/cc/mallet/types/tests/TestMatrix.class  \n",
            "  inflating: mallet-2.0.8/class/cc/mallet/types/tests/TestMatrixn.class  \n",
            "  inflating: mallet-2.0.8/class/cc/mallet/types/tests/TestMultinomial.class  \n",
            "  inflating: mallet-2.0.8/class/cc/mallet/types/tests/TestPagedInstanceList.class  \n",
            "  inflating: mallet-2.0.8/class/cc/mallet/types/tests/TestRankedFeatureVector.class  \n",
            "  inflating: mallet-2.0.8/class/cc/mallet/types/tests/TestSerializable$1.class  \n",
            "  inflating: mallet-2.0.8/class/cc/mallet/types/tests/TestSerializable$WriteMe.class  \n",
            "  inflating: mallet-2.0.8/class/cc/mallet/types/tests/TestSerializable.class  \n",
            "  inflating: mallet-2.0.8/class/cc/mallet/types/tests/TestSparseMatrixn.class  \n",
            "  inflating: mallet-2.0.8/class/cc/mallet/types/tests/TestSparseVector.class  \n",
            "  inflating: mallet-2.0.8/class/cc/mallet/types/tests/TestToken.class  \n",
            "  inflating: mallet-2.0.8/class/cc/mallet/types/Token.class  \n",
            "  inflating: mallet-2.0.8/class/cc/mallet/types/TokenSequence.class  \n",
            "  inflating: mallet-2.0.8/class/cc/mallet/types/Vector.class  \n",
            "   creating: mallet-2.0.8/class/cc/mallet/util/\n",
            "  inflating: mallet-2.0.8/class/cc/mallet/util/Addable.class  \n",
            "  inflating: mallet-2.0.8/class/cc/mallet/util/ArrayListUtils.class  \n",
            "  inflating: mallet-2.0.8/class/cc/mallet/util/ArrayUtils.class  \n",
            "  inflating: mallet-2.0.8/class/cc/mallet/util/BshInterpreter.class  \n",
            "  inflating: mallet-2.0.8/class/cc/mallet/util/BulkLoader.class  \n",
            "  inflating: mallet-2.0.8/class/cc/mallet/util/CharSequenceLexer.class  \n",
            "  inflating: mallet-2.0.8/class/cc/mallet/util/CollectionUtils$1Accumulator.class  \n",
            "  inflating: mallet-2.0.8/class/cc/mallet/util/CollectionUtils$Fn.class  \n",
            "  inflating: mallet-2.0.8/class/cc/mallet/util/CollectionUtils.class  \n",
            "  inflating: mallet-2.0.8/class/cc/mallet/util/ColorUtils.class  \n",
            "  inflating: mallet-2.0.8/class/cc/mallet/util/CommandOption$1.class  \n",
            "  inflating: mallet-2.0.8/class/cc/mallet/util/CommandOption$Boolean.class  \n",
            "  inflating: mallet-2.0.8/class/cc/mallet/util/CommandOption$Double.class  \n",
            "  inflating: mallet-2.0.8/class/cc/mallet/util/CommandOption$DoubleArray.class  \n",
            "  inflating: mallet-2.0.8/class/cc/mallet/util/CommandOption$File.class  \n",
            "  inflating: mallet-2.0.8/class/cc/mallet/util/CommandOption$Integer.class  \n",
            "  inflating: mallet-2.0.8/class/cc/mallet/util/CommandOption$IntegerArray.class  \n",
            "  inflating: mallet-2.0.8/class/cc/mallet/util/CommandOption$List$1.class  \n",
            "  inflating: mallet-2.0.8/class/cc/mallet/util/CommandOption$List$2.class  \n",
            "  inflating: mallet-2.0.8/class/cc/mallet/util/CommandOption$List.class  \n",
            "  inflating: mallet-2.0.8/class/cc/mallet/util/CommandOption$ListProviding.class  \n",
            "  inflating: mallet-2.0.8/class/cc/mallet/util/CommandOption$Object.class  \n",
            "  inflating: mallet-2.0.8/class/cc/mallet/util/CommandOption$ObjectFromBean.class  \n",
            "  inflating: mallet-2.0.8/class/cc/mallet/util/CommandOption$Set.class  \n",
            "  inflating: mallet-2.0.8/class/cc/mallet/util/CommandOption$SpacedStrings.class  \n",
            "  inflating: mallet-2.0.8/class/cc/mallet/util/CommandOption$String.class  \n",
            "  inflating: mallet-2.0.8/class/cc/mallet/util/CommandOption.class  \n",
            "  inflating: mallet-2.0.8/class/cc/mallet/util/DBBulkLoader.class  \n",
            "  inflating: mallet-2.0.8/class/cc/mallet/util/DBInstanceStore.class  \n",
            "  inflating: mallet-2.0.8/class/cc/mallet/util/DirectoryFilter.class  \n",
            "  inflating: mallet-2.0.8/class/cc/mallet/util/DocumentLengths.class  \n",
            "  inflating: mallet-2.0.8/class/cc/mallet/util/DoubleList.class  \n",
            "  inflating: mallet-2.0.8/class/cc/mallet/util/FeatureCooccurrenceCounter.class  \n",
            "  inflating: mallet-2.0.8/class/cc/mallet/util/FeatureCountTool.class  \n",
            "  inflating: mallet-2.0.8/class/cc/mallet/util/FileUtils.class  \n",
            "  inflating: mallet-2.0.8/class/cc/mallet/util/InstanceListPrinter.class  \n",
            "  inflating: mallet-2.0.8/class/cc/mallet/util/IoUtils.class  \n",
            "  inflating: mallet-2.0.8/class/cc/mallet/util/Lexer.class  \n",
            "  inflating: mallet-2.0.8/class/cc/mallet/util/MalletLogger.class  \n",
            "  inflating: mallet-2.0.8/class/cc/mallet/util/MalletProgressMessageLogger.class  \n",
            "  inflating: mallet-2.0.8/class/cc/mallet/util/Maths.class  \n",
            "  inflating: mallet-2.0.8/class/cc/mallet/util/MVNormal.class  \n",
            "  inflating: mallet-2.0.8/class/cc/mallet/util/PlainLogFormatter.class  \n",
            "  inflating: mallet-2.0.8/class/cc/mallet/util/PrintUtilities.class  \n",
            "  inflating: mallet-2.0.8/class/cc/mallet/util/ProgressMessageLogFormatter.class  \n",
            "  inflating: mallet-2.0.8/class/cc/mallet/util/ProgressMessageLogRecord.class  \n",
            "  inflating: mallet-2.0.8/class/cc/mallet/util/PropertyList$Iterator.class  \n",
            "  inflating: mallet-2.0.8/class/cc/mallet/util/PropertyList$NumericIterator.class  \n",
            "  inflating: mallet-2.0.8/class/cc/mallet/util/PropertyList$NumericProperty.class  \n",
            "  inflating: mallet-2.0.8/class/cc/mallet/util/PropertyList$ObjectIterator.class  \n",
            "  inflating: mallet-2.0.8/class/cc/mallet/util/PropertyList$ObjectProperty.class  \n",
            "  inflating: mallet-2.0.8/class/cc/mallet/util/PropertyList.class  \n",
            "  inflating: mallet-2.0.8/class/cc/mallet/util/Randoms$1.class  \n",
            "  inflating: mallet-2.0.8/class/cc/mallet/util/Randoms.class  \n",
            "  inflating: mallet-2.0.8/class/cc/mallet/util/RegexFileFilter.class  \n",
            "  inflating: mallet-2.0.8/class/cc/mallet/util/Replacement.class  \n",
            "  inflating: mallet-2.0.8/class/cc/mallet/util/Replacer.class  \n",
            "   creating: mallet-2.0.8/class/cc/mallet/util/resources/\n",
            "  inflating: mallet-2.0.8/class/cc/mallet/util/resources/logging.properties  \n",
            "   creating: mallet-2.0.8/class/cc/mallet/util/resources/wn/\n",
            "  inflating: mallet-2.0.8/class/cc/mallet/util/resources/wn/Examples.class  \n",
            "   creating: mallet-2.0.8/class/cc/mallet/util/search/\n",
            "  inflating: mallet-2.0.8/class/cc/mallet/util/search/AStar.class  \n",
            "  inflating: mallet-2.0.8/class/cc/mallet/util/search/AStarNode$NextNodeIterator.class  \n",
            "  inflating: mallet-2.0.8/class/cc/mallet/util/search/AStarNode.class  \n",
            "  inflating: mallet-2.0.8/class/cc/mallet/util/search/AStarState.class  \n",
            "  inflating: mallet-2.0.8/class/cc/mallet/util/search/MinHeap.class  \n",
            "  inflating: mallet-2.0.8/class/cc/mallet/util/search/PriorityQueue.class  \n",
            "  inflating: mallet-2.0.8/class/cc/mallet/util/search/QueueElement.class  \n",
            "  inflating: mallet-2.0.8/class/cc/mallet/util/search/SearchNode$NextNodeIterator.class  \n",
            "  inflating: mallet-2.0.8/class/cc/mallet/util/search/SearchNode.class  \n",
            "  inflating: mallet-2.0.8/class/cc/mallet/util/search/SearchState$NextStateIterator.class  \n",
            "  inflating: mallet-2.0.8/class/cc/mallet/util/search/SearchState.class  \n",
            "  inflating: mallet-2.0.8/class/cc/mallet/util/Sequences.class  \n",
            "  inflating: mallet-2.0.8/class/cc/mallet/util/StatFunctions.class  \n",
            "  inflating: mallet-2.0.8/class/cc/mallet/util/Strings.class  \n",
            "   creating: mallet-2.0.8/class/cc/mallet/util/tests/\n",
            "  inflating: mallet-2.0.8/class/cc/mallet/util/tests/TestAStar$1.class  \n",
            "  inflating: mallet-2.0.8/class/cc/mallet/util/tests/TestAStar$State$NextStates.class  \n",
            "  inflating: mallet-2.0.8/class/cc/mallet/util/tests/TestAStar$State.class  \n",
            "  inflating: mallet-2.0.8/class/cc/mallet/util/tests/TestAStar.class  \n",
            "  inflating: mallet-2.0.8/class/cc/mallet/util/tests/TestMaths.class  \n",
            "  inflating: mallet-2.0.8/class/cc/mallet/util/tests/TestPriorityQueue$1.class  \n",
            "  inflating: mallet-2.0.8/class/cc/mallet/util/tests/TestPriorityQueue$Item.class  \n",
            "  inflating: mallet-2.0.8/class/cc/mallet/util/tests/TestPriorityQueue.class  \n",
            "  inflating: mallet-2.0.8/class/cc/mallet/util/tests/TestPropertyList.class  \n",
            "  inflating: mallet-2.0.8/class/cc/mallet/util/tests/TestRandom.class  \n",
            "  inflating: mallet-2.0.8/class/cc/mallet/util/tests/TestStrings.class  \n",
            "  inflating: mallet-2.0.8/class/cc/mallet/util/Timing.class  \n",
            "  inflating: mallet-2.0.8/class/cc/mallet/util/Univariate.class  \n",
            "  inflating: mallet-2.0.8/class/cc/mallet/util/UriUtils.class  \n",
            "  inflating: mallet-2.0.8/class/cc/mallet/util/VectorStats.class  \n",
            "   creating: mallet-2.0.8/dist/\n",
            "  inflating: mallet-2.0.8/dist/mallet-deps.jar  \n",
            "  inflating: mallet-2.0.8/dist/mallet.jar  \n",
            "   creating: mallet-2.0.8/lib/\n",
            "  inflating: mallet-2.0.8/lib/bsh.jar  \n",
            "  inflating: mallet-2.0.8/lib/derby.jar  \n",
            "  inflating: mallet-2.0.8/lib/grmm-deps.jar  \n",
            "  inflating: mallet-2.0.8/lib/jdom-1.0.jar  \n",
            "  inflating: mallet-2.0.8/lib/jgrapht-0.6.0.jar  \n",
            "  inflating: mallet-2.0.8/lib/junit-4.5.jar  \n",
            "  inflating: mallet-2.0.8/lib/jwnl-1.3.jar  \n",
            "  inflating: mallet-2.0.8/lib/LICENSES  \n",
            "  inflating: mallet-2.0.8/lib/Makefile  \n",
            "  inflating: mallet-2.0.8/lib/mallet-deps.jar  \n",
            "  inflating: mallet-2.0.8/lib/mtj-0.9.9.jar  \n",
            "  inflating: mallet-2.0.8/lib/openjgraph.jar  \n",
            "  inflating: mallet-2.0.8/lib/trove-2.0.2.jar  \n",
            "  inflating: mallet-2.0.8/LICENSE    \n",
            "  inflating: mallet-2.0.8/Makefile   \n",
            "  inflating: mallet-2.0.8/pom.xml    \n",
            "  inflating: mallet-2.0.8/README.md  \n",
            "   creating: mallet-2.0.8/sample-data/\n",
            "   creating: mallet-2.0.8/sample-data/numeric/\n",
            "  inflating: mallet-2.0.8/sample-data/numeric/boxes.txt  \n",
            "  inflating: mallet-2.0.8/sample-data/numeric/puffins.txt  \n",
            "  inflating: mallet-2.0.8/sample-data/README  \n",
            "   creating: mallet-2.0.8/sample-data/web/\n",
            "   creating: mallet-2.0.8/sample-data/web/de/\n",
            "  inflating: mallet-2.0.8/sample-data/web/de/apollo8.txt  \n",
            "  inflating: mallet-2.0.8/sample-data/web/de/fiv.txt  \n",
            "  inflating: mallet-2.0.8/sample-data/web/de/habichtsadler.txt  \n",
            "  inflating: mallet-2.0.8/sample-data/web/de/hoechst.txt  \n",
            "  inflating: mallet-2.0.8/sample-data/web/de/indogermanische.txt  \n",
            "  inflating: mallet-2.0.8/sample-data/web/de/konrad.txt  \n",
            "  inflating: mallet-2.0.8/sample-data/web/de/marcellinus.txt  \n",
            "  inflating: mallet-2.0.8/sample-data/web/de/rostock.txt  \n",
            "  inflating: mallet-2.0.8/sample-data/web/de/sadat.txt  \n",
            "  inflating: mallet-2.0.8/sample-data/web/de/t40.txt  \n",
            "  inflating: mallet-2.0.8/sample-data/web/de/ulrich.txt  \n",
            "  inflating: mallet-2.0.8/sample-data/web/de/wildenstein.txt  \n",
            "   creating: mallet-2.0.8/sample-data/web/en/\n",
            "  inflating: mallet-2.0.8/sample-data/web/en/elizabeth_needham.txt  \n",
            "  inflating: mallet-2.0.8/sample-data/web/en/equipartition_theorem.txt  \n",
            "  inflating: mallet-2.0.8/sample-data/web/en/gunnhild.txt  \n",
            "  inflating: mallet-2.0.8/sample-data/web/en/hawes.txt  \n",
            "  inflating: mallet-2.0.8/sample-data/web/en/hill.txt  \n",
            "  inflating: mallet-2.0.8/sample-data/web/en/shiloh.txt  \n",
            "  inflating: mallet-2.0.8/sample-data/web/en/sunderland_echo.txt  \n",
            "  inflating: mallet-2.0.8/sample-data/web/en/thespis.txt  \n",
            "  inflating: mallet-2.0.8/sample-data/web/en/thylacine.txt  \n",
            "  inflating: mallet-2.0.8/sample-data/web/en/uranus.txt  \n",
            "  inflating: mallet-2.0.8/sample-data/web/en/yard.txt  \n",
            "  inflating: mallet-2.0.8/sample-data/web/en/zinta.txt  \n",
            "   creating: mallet-2.0.8/src/\n",
            "   creating: mallet-2.0.8/src/cc/\n",
            "   creating: mallet-2.0.8/src/cc/mallet/\n",
            "   creating: mallet-2.0.8/src/cc/mallet/classify/\n",
            "  inflating: mallet-2.0.8/src/cc/mallet/classify/AdaBoost.java  \n",
            "  inflating: mallet-2.0.8/src/cc/mallet/classify/AdaBoostM2.java  \n",
            "  inflating: mallet-2.0.8/src/cc/mallet/classify/AdaBoostM2Trainer.java  \n",
            "  inflating: mallet-2.0.8/src/cc/mallet/classify/AdaBoostTrainer.java  \n",
            "  inflating: mallet-2.0.8/src/cc/mallet/classify/BaggingClassifier.java  \n",
            "  inflating: mallet-2.0.8/src/cc/mallet/classify/BaggingTrainer.java  \n",
            "  inflating: mallet-2.0.8/src/cc/mallet/classify/BalancedWinnow.java  \n",
            "  inflating: mallet-2.0.8/src/cc/mallet/classify/BalancedWinnowTrainer.java  \n",
            "  inflating: mallet-2.0.8/src/cc/mallet/classify/Boostable.java  \n",
            "  inflating: mallet-2.0.8/src/cc/mallet/classify/C45.java  \n",
            "  inflating: mallet-2.0.8/src/cc/mallet/classify/C45Trainer.java  \n",
            "  inflating: mallet-2.0.8/src/cc/mallet/classify/Classification.java  \n",
            "  inflating: mallet-2.0.8/src/cc/mallet/classify/Classifier.java  \n",
            "  inflating: mallet-2.0.8/src/cc/mallet/classify/ClassifierAccuracyEvaluator.java  \n",
            "  inflating: mallet-2.0.8/src/cc/mallet/classify/ClassifierEnsemble.java  \n",
            "  inflating: mallet-2.0.8/src/cc/mallet/classify/ClassifierEnsembleTrainer.java  \n",
            "  inflating: mallet-2.0.8/src/cc/mallet/classify/ClassifierEvaluator.java  \n",
            "  inflating: mallet-2.0.8/src/cc/mallet/classify/ClassifierTrainer.java  \n",
            "  inflating: mallet-2.0.8/src/cc/mallet/classify/ConfidencePredictingClassifier.java  \n",
            "  inflating: mallet-2.0.8/src/cc/mallet/classify/ConfidencePredictingClassifierTrainer.java  \n",
            "   creating: mallet-2.0.8/src/cc/mallet/classify/constraints/\n",
            "   creating: mallet-2.0.8/src/cc/mallet/classify/constraints/ge/\n",
            "  inflating: mallet-2.0.8/src/cc/mallet/classify/constraints/ge/MaxEntFLGEConstraints.java  \n",
            "  inflating: mallet-2.0.8/src/cc/mallet/classify/constraints/ge/MaxEntGEConstraint.java  \n",
            "  inflating: mallet-2.0.8/src/cc/mallet/classify/constraints/ge/MaxEntKLFLGEConstraints.java  \n",
            "  inflating: mallet-2.0.8/src/cc/mallet/classify/constraints/ge/MaxEntL2FLGEConstraints.java  \n",
            "  inflating: mallet-2.0.8/src/cc/mallet/classify/constraints/ge/MaxEntRangeL2FLGEConstraints.java  \n",
            "   creating: mallet-2.0.8/src/cc/mallet/classify/constraints/pr/\n",
            "  inflating: mallet-2.0.8/src/cc/mallet/classify/constraints/pr/MaxEntFLPRConstraints.java  \n",
            "  inflating: mallet-2.0.8/src/cc/mallet/classify/constraints/pr/MaxEntL2FLPRConstraints.java  \n",
            "  inflating: mallet-2.0.8/src/cc/mallet/classify/constraints/pr/MaxEntPRConstraint.java  \n",
            "  inflating: mallet-2.0.8/src/cc/mallet/classify/DecisionTree.java  \n",
            "  inflating: mallet-2.0.8/src/cc/mallet/classify/DecisionTreeTrainer.java  \n",
            "   creating: mallet-2.0.8/src/cc/mallet/classify/evaluate/\n",
            "  inflating: mallet-2.0.8/src/cc/mallet/classify/evaluate/AccuracyCoverage.java  \n",
            "  inflating: mallet-2.0.8/src/cc/mallet/classify/evaluate/ConfusionMatrix.java  \n",
            "  inflating: mallet-2.0.8/src/cc/mallet/classify/evaluate/Graph.java  \n",
            "  inflating: mallet-2.0.8/src/cc/mallet/classify/evaluate/Graph2.java  \n",
            "  inflating: mallet-2.0.8/src/cc/mallet/classify/evaluate/GraphItem.java  \n",
            "  inflating: mallet-2.0.8/src/cc/mallet/classify/evaluate/package.html  \n",
            "   creating: mallet-2.0.8/src/cc/mallet/classify/examples/\n",
            "  inflating: mallet-2.0.8/src/cc/mallet/classify/examples/DocumentClassifier.java  \n",
            "  inflating: mallet-2.0.8/src/cc/mallet/classify/examples/package.html  \n",
            "  inflating: mallet-2.0.8/src/cc/mallet/classify/FeatureConstraintUtil.java  \n",
            "  inflating: mallet-2.0.8/src/cc/mallet/classify/FeatureSelectingClassifierTrainer.java  \n",
            "  inflating: mallet-2.0.8/src/cc/mallet/classify/MaxEnt.java  \n",
            "  inflating: mallet-2.0.8/src/cc/mallet/classify/MaxEntGERangeTrainer.java  \n",
            "  inflating: mallet-2.0.8/src/cc/mallet/classify/MaxEntGETrainer.java  \n",
            "  inflating: mallet-2.0.8/src/cc/mallet/classify/MaxEntL1Trainer.java  \n",
            "  inflating: mallet-2.0.8/src/cc/mallet/classify/MaxEntOptimizableByGE.java  \n",
            "  inflating: mallet-2.0.8/src/cc/mallet/classify/MaxEntOptimizableByLabelDistribution.java  \n",
            "  inflating: mallet-2.0.8/src/cc/mallet/classify/MaxEntOptimizableByLabelLikelihood.java  \n",
            "  inflating: mallet-2.0.8/src/cc/mallet/classify/MaxEntPRTrainer.java  \n",
            "  inflating: mallet-2.0.8/src/cc/mallet/classify/MaxEntTrainer.java  \n",
            "  inflating: mallet-2.0.8/src/cc/mallet/classify/MCMaxEnt.java  \n",
            "  inflating: mallet-2.0.8/src/cc/mallet/classify/MCMaxEntTrainer.java  \n",
            "  inflating: mallet-2.0.8/src/cc/mallet/classify/MostFrequentClassAssignmentTrainer.java  \n",
            "  inflating: mallet-2.0.8/src/cc/mallet/classify/MostFrequentClassifier.java  \n",
            "  inflating: mallet-2.0.8/src/cc/mallet/classify/NaiveBayes.java  \n",
            "  inflating: mallet-2.0.8/src/cc/mallet/classify/NaiveBayesEMTrainer.java  \n",
            "  inflating: mallet-2.0.8/src/cc/mallet/classify/NaiveBayesTrainer.java  \n",
            "  inflating: mallet-2.0.8/src/cc/mallet/classify/package.html  \n",
            "  inflating: mallet-2.0.8/src/cc/mallet/classify/PRAuxClassifier.java  \n",
            "  inflating: mallet-2.0.8/src/cc/mallet/classify/PRAuxClassifierOptimizable.java  \n",
            "  inflating: mallet-2.0.8/src/cc/mallet/classify/RandomAssignmentTrainer.java  \n",
            "  inflating: mallet-2.0.8/src/cc/mallet/classify/RandomClassifier.java  \n",
            "  inflating: mallet-2.0.8/src/cc/mallet/classify/RankMaxEnt.java  \n",
            "  inflating: mallet-2.0.8/src/cc/mallet/classify/RankMaxEntTrainer.java  \n",
            "   creating: mallet-2.0.8/src/cc/mallet/classify/tests/\n",
            "   creating: mallet-2.0.8/src/cc/mallet/classify/tests/NaiveBayesData/\n",
            "   creating: mallet-2.0.8/src/cc/mallet/classify/tests/NaiveBayesData/learn/\n",
            "   creating: mallet-2.0.8/src/cc/mallet/classify/tests/NaiveBayesData/learn/a/\n",
            " extracting: mallet-2.0.8/src/cc/mallet/classify/tests/NaiveBayesData/learn/a/m1  \n",
            " extracting: mallet-2.0.8/src/cc/mallet/classify/tests/NaiveBayesData/learn/a/ma  \n",
            "   creating: mallet-2.0.8/src/cc/mallet/classify/tests/NaiveBayesData/learn/b/\n",
            " extracting: mallet-2.0.8/src/cc/mallet/classify/tests/NaiveBayesData/learn/b/m2  \n",
            "   creating: mallet-2.0.8/src/cc/mallet/classify/tests/NaiveBayesData/update/\n",
            "   creating: mallet-2.0.8/src/cc/mallet/classify/tests/NaiveBayesData/update/b/\n",
            " extracting: mallet-2.0.8/src/cc/mallet/classify/tests/NaiveBayesData/update/b/m3  \n",
            " extracting: mallet-2.0.8/src/cc/mallet/classify/tests/NaiveBayesData/update/b/m4  \n",
            " extracting: mallet-2.0.8/src/cc/mallet/classify/tests/NaiveBayesData/update/b/m5  \n",
            "  inflating: mallet-2.0.8/src/cc/mallet/classify/tests/package.html  \n",
            "  inflating: mallet-2.0.8/src/cc/mallet/classify/tests/TestClassifiers.java  \n",
            "  inflating: mallet-2.0.8/src/cc/mallet/classify/tests/TestMaxEntTrainer.java  \n",
            "  inflating: mallet-2.0.8/src/cc/mallet/classify/tests/TestNaiveBayes.java  \n",
            "  inflating: mallet-2.0.8/src/cc/mallet/classify/tests/TestStaticParameters.java  \n",
            "  inflating: mallet-2.0.8/src/cc/mallet/classify/Trial.java  \n",
            "   creating: mallet-2.0.8/src/cc/mallet/classify/tui/\n",
            "  inflating: mallet-2.0.8/src/cc/mallet/classify/tui/Calo2Classify.java  \n",
            "  inflating: mallet-2.0.8/src/cc/mallet/classify/tui/Classifier2Info.java  \n",
            "  inflating: mallet-2.0.8/src/cc/mallet/classify/tui/Csv2Classify.java  \n",
            "  inflating: mallet-2.0.8/src/cc/mallet/classify/tui/Csv2Vectors.java  \n",
            "  inflating: mallet-2.0.8/src/cc/mallet/classify/tui/package.html  \n",
            "  inflating: mallet-2.0.8/src/cc/mallet/classify/tui/SvmLight2Classify.java  \n",
            "  inflating: mallet-2.0.8/src/cc/mallet/classify/tui/SvmLight2Vectors.java  \n",
            "  inflating: mallet-2.0.8/src/cc/mallet/classify/tui/Text2Classify.java  \n",
            "  inflating: mallet-2.0.8/src/cc/mallet/classify/tui/Text2Vectors.java  \n",
            "  inflating: mallet-2.0.8/src/cc/mallet/classify/tui/TODO  \n",
            "  inflating: mallet-2.0.8/src/cc/mallet/classify/tui/Vectors2Classify.java  \n",
            "  inflating: mallet-2.0.8/src/cc/mallet/classify/tui/Vectors2FeatureConstraints.java  \n",
            "  inflating: mallet-2.0.8/src/cc/mallet/classify/tui/Vectors2Info.java  \n",
            "  inflating: mallet-2.0.8/src/cc/mallet/classify/tui/Vectors2Vectors.java  \n",
            "  inflating: mallet-2.0.8/src/cc/mallet/classify/Winnow.java  \n",
            "  inflating: mallet-2.0.8/src/cc/mallet/classify/WinnowTrainer.java  \n",
            "   creating: mallet-2.0.8/src/cc/mallet/cluster/\n",
            "  inflating: mallet-2.0.8/src/cc/mallet/cluster/Clusterer.java  \n",
            "  inflating: mallet-2.0.8/src/cc/mallet/cluster/Clustering.java  \n",
            "   creating: mallet-2.0.8/src/cc/mallet/cluster/clustering_scorer/\n",
            "  inflating: mallet-2.0.8/src/cc/mallet/cluster/clustering_scorer/ClusteringScorer.java  \n",
            "  inflating: mallet-2.0.8/src/cc/mallet/cluster/clustering_scorer/PairwiseScorer.java  \n",
            "  inflating: mallet-2.0.8/src/cc/mallet/cluster/Clusterings.java  \n",
            "   creating: mallet-2.0.8/src/cc/mallet/cluster/evaluate/\n",
            "  inflating: mallet-2.0.8/src/cc/mallet/cluster/evaluate/AccuracyEvaluator.java  \n",
            "  inflating: mallet-2.0.8/src/cc/mallet/cluster/evaluate/BCubedEvaluator.java  \n",
            "  inflating: mallet-2.0.8/src/cc/mallet/cluster/evaluate/ClusteringEvaluator.java  \n",
            "  inflating: mallet-2.0.8/src/cc/mallet/cluster/evaluate/ClusteringEvaluators.java  \n",
            "  inflating: mallet-2.0.8/src/cc/mallet/cluster/evaluate/MUCEvaluator.java  \n",
            "  inflating: mallet-2.0.8/src/cc/mallet/cluster/evaluate/PairF1Evaluator.java  \n",
            "   creating: mallet-2.0.8/src/cc/mallet/cluster/evaluate/tests/\n",
            "  inflating: mallet-2.0.8/src/cc/mallet/cluster/evaluate/tests/TestClusteringEvaluators.java  \n",
            "   creating: mallet-2.0.8/src/cc/mallet/cluster/examples/\n",
            "  inflating: mallet-2.0.8/src/cc/mallet/cluster/examples/FirstOrderClusterExample.java  \n",
            "  inflating: mallet-2.0.8/src/cc/mallet/cluster/GreedyAgglomerative.java  \n",
            "  inflating: mallet-2.0.8/src/cc/mallet/cluster/GreedyAgglomerativeByDensity.java  \n",
            "  inflating: mallet-2.0.8/src/cc/mallet/cluster/HillClimbingClusterer.java  \n",
            "   creating: mallet-2.0.8/src/cc/mallet/cluster/iterator/\n",
            "  inflating: mallet-2.0.8/src/cc/mallet/cluster/iterator/AllPairsIterator.java  \n",
            "  inflating: mallet-2.0.8/src/cc/mallet/cluster/iterator/ClusterSampleIterator.java  \n",
            "  inflating: mallet-2.0.8/src/cc/mallet/cluster/iterator/NeighborIterator.java  \n",
            "  inflating: mallet-2.0.8/src/cc/mallet/cluster/iterator/NodeClusterSampleIterator.java  \n",
            "  inflating: mallet-2.0.8/src/cc/mallet/cluster/iterator/PairSampleIterator.java  \n",
            "   creating: mallet-2.0.8/src/cc/mallet/cluster/iterator/tests/\n",
            "  inflating: mallet-2.0.8/src/cc/mallet/cluster/iterator/tests/TestIterators.java  \n",
            "  inflating: mallet-2.0.8/src/cc/mallet/cluster/KBestClusterer.java  \n",
            "  inflating: mallet-2.0.8/src/cc/mallet/cluster/KMeans.java  \n",
            "   creating: mallet-2.0.8/src/cc/mallet/cluster/neighbor_evaluator/\n",
            "  inflating: mallet-2.0.8/src/cc/mallet/cluster/neighbor_evaluator/AgglomerativeNeighbor.java  \n",
            "  inflating: mallet-2.0.8/src/cc/mallet/cluster/neighbor_evaluator/ClassifyingNeighborEvaluator.java  \n",
            "  inflating: mallet-2.0.8/src/cc/mallet/cluster/neighbor_evaluator/MedoidEvaluator.java  \n",
            "  inflating: mallet-2.0.8/src/cc/mallet/cluster/neighbor_evaluator/Neighbor.java  \n",
            "  inflating: mallet-2.0.8/src/cc/mallet/cluster/neighbor_evaluator/NeighborEvaluator.java  \n",
            "  inflating: mallet-2.0.8/src/cc/mallet/cluster/neighbor_evaluator/PairwiseEvaluator.java  \n",
            "  inflating: mallet-2.0.8/src/cc/mallet/cluster/neighbor_evaluator/RandomEvaluator.java  \n",
            "  inflating: mallet-2.0.8/src/cc/mallet/cluster/neighbor_evaluator/RankingNeighborEvaluator.java  \n",
            "  inflating: mallet-2.0.8/src/cc/mallet/cluster/package.html  \n",
            "  inflating: mallet-2.0.8/src/cc/mallet/cluster/README  \n",
            "  inflating: mallet-2.0.8/src/cc/mallet/cluster/Record.java  \n",
            "   creating: mallet-2.0.8/src/cc/mallet/cluster/tui/\n",
            "  inflating: mallet-2.0.8/src/cc/mallet/cluster/tui/Clusterings2Clusterer.java  \n",
            "  inflating: mallet-2.0.8/src/cc/mallet/cluster/tui/Clusterings2Clusterings.java  \n",
            "  inflating: mallet-2.0.8/src/cc/mallet/cluster/tui/Clusterings2Info.java  \n",
            "  inflating: mallet-2.0.8/src/cc/mallet/cluster/tui/Text2Clusterings.java  \n",
            "   creating: mallet-2.0.8/src/cc/mallet/cluster/util/\n",
            "  inflating: mallet-2.0.8/src/cc/mallet/cluster/util/ClusterUtils.java  \n",
            "  inflating: mallet-2.0.8/src/cc/mallet/cluster/util/PairwiseMatrix.java  \n",
            "   creating: mallet-2.0.8/src/cc/mallet/examples/\n",
            "  inflating: mallet-2.0.8/src/cc/mallet/examples/TestCRFPipe.java  \n",
            "  inflating: mallet-2.0.8/src/cc/mallet/examples/TopicModel.java  \n",
            "  inflating: mallet-2.0.8/src/cc/mallet/examples/TrainCRF.java  \n",
            "  inflating: mallet-2.0.8/src/cc/mallet/examples/TrainHMM.java  \n",
            "   creating: mallet-2.0.8/src/cc/mallet/extract/\n",
            "  inflating: mallet-2.0.8/src/cc/mallet/extract/AccuracyCoverageEvaluator.java  \n",
            "  inflating: mallet-2.0.8/src/cc/mallet/extract/BIOTokenizationFilter.java  \n",
            "  inflating: mallet-2.0.8/src/cc/mallet/extract/BIOTokenizationFilterWithTokenIndices.java  \n",
            "  inflating: mallet-2.0.8/src/cc/mallet/extract/ConfidenceTokenizationFilter.java  \n",
            "  inflating: mallet-2.0.8/src/cc/mallet/extract/CRFExtractor.java  \n",
            "  inflating: mallet-2.0.8/src/cc/mallet/extract/DefaultTokenizationFilter.java  \n",
            "  inflating: mallet-2.0.8/src/cc/mallet/extract/DocumentExtraction.java  \n",
            "  inflating: mallet-2.0.8/src/cc/mallet/extract/DocumentViewer.java  \n",
            "  inflating: mallet-2.0.8/src/cc/mallet/extract/ExactMatchComparator.java  \n",
            "  inflating: mallet-2.0.8/src/cc/mallet/extract/Extraction.java  \n",
            "  inflating: mallet-2.0.8/src/cc/mallet/extract/ExtractionConfidenceEstimator.java  \n",
            "  inflating: mallet-2.0.8/src/cc/mallet/extract/ExtractionEvaluator.java  \n",
            "  inflating: mallet-2.0.8/src/cc/mallet/extract/Extractor.java  \n",
            "  inflating: mallet-2.0.8/src/cc/mallet/extract/Field.java  \n",
            "  inflating: mallet-2.0.8/src/cc/mallet/extract/FieldCleaner.java  \n",
            "  inflating: mallet-2.0.8/src/cc/mallet/extract/FieldComparator.java  \n",
            "  inflating: mallet-2.0.8/src/cc/mallet/extract/HierarchicalTokenizationFilter.java  \n",
            "  inflating: mallet-2.0.8/src/cc/mallet/extract/LabeledSpan.java  \n",
            "  inflating: mallet-2.0.8/src/cc/mallet/extract/LabeledSpans.java  \n",
            "  inflating: mallet-2.0.8/src/cc/mallet/extract/LatticeViewer.java  \n",
            "  inflating: mallet-2.0.8/src/cc/mallet/extract/package.html  \n",
            "  inflating: mallet-2.0.8/src/cc/mallet/extract/PerDocumentF1Evaluator.java  \n",
            "  inflating: mallet-2.0.8/src/cc/mallet/extract/PerFieldF1Evaluator.java  \n",
            "   creating: mallet-2.0.8/src/cc/mallet/extract/pipe/\n",
            "  inflating: mallet-2.0.8/src/cc/mallet/extract/pipe/TokenSequence2Tokenization.java  \n",
            "  inflating: mallet-2.0.8/src/cc/mallet/extract/PunctuationIgnoringComparator.java  \n",
            "  inflating: mallet-2.0.8/src/cc/mallet/extract/Record.java  \n",
            "  inflating: mallet-2.0.8/src/cc/mallet/extract/RegexFieldCleaner.java  \n",
            "  inflating: mallet-2.0.8/src/cc/mallet/extract/Span.java  \n",
            "  inflating: mallet-2.0.8/src/cc/mallet/extract/StringSpan.java  \n",
            "  inflating: mallet-2.0.8/src/cc/mallet/extract/StringTokenization.java  \n",
            "   creating: mallet-2.0.8/src/cc/mallet/extract/test/\n",
            "  inflating: mallet-2.0.8/src/cc/mallet/extract/test/TestDocumentExtraction.java  \n",
            "  inflating: mallet-2.0.8/src/cc/mallet/extract/test/TestDocumentViewer.java  \n",
            "  inflating: mallet-2.0.8/src/cc/mallet/extract/test/TestLatticeViewer.java  \n",
            "  inflating: mallet-2.0.8/src/cc/mallet/extract/test/TestPerDocumentF1Evaluator.java  \n",
            "  inflating: mallet-2.0.8/src/cc/mallet/extract/Tokenization.java  \n",
            "  inflating: mallet-2.0.8/src/cc/mallet/extract/TokenizationFilter.java  \n",
            "  inflating: mallet-2.0.8/src/cc/mallet/extract/TransducerExtractionConfidenceEstimator.java  \n",
            "   creating: mallet-2.0.8/src/cc/mallet/fst/\n",
            "  inflating: mallet-2.0.8/src/cc/mallet/fst/CacheStaleIndicator.java  \n",
            "   creating: mallet-2.0.8/src/cc/mallet/fst/confidence/\n",
            "  inflating: mallet-2.0.8/src/cc/mallet/fst/confidence/ConfidenceCorrectorEvaluator.java  \n",
            "  inflating: mallet-2.0.8/src/cc/mallet/fst/confidence/ConfidenceEvaluator.java  \n",
            "  inflating: mallet-2.0.8/src/cc/mallet/fst/confidence/ConstrainedForwardBackwardConfidenceEstimator.java  \n",
            "  inflating: mallet-2.0.8/src/cc/mallet/fst/confidence/ConstrainedViterbiTransducerCorrector.java  \n",
            "  inflating: mallet-2.0.8/src/cc/mallet/fst/confidence/GammaAverageConfidenceEstimator.java  \n",
            "  inflating: mallet-2.0.8/src/cc/mallet/fst/confidence/GammaProductConfidenceEstimator.java  \n",
            "  inflating: mallet-2.0.8/src/cc/mallet/fst/confidence/InstanceWithConfidence.java  \n",
            "  inflating: mallet-2.0.8/src/cc/mallet/fst/confidence/IsolatedSegmentTransducerCorrector.java  \n",
            "  inflating: mallet-2.0.8/src/cc/mallet/fst/confidence/MaxEntConfidenceEstimator.java  \n",
            "  inflating: mallet-2.0.8/src/cc/mallet/fst/confidence/MaxEntSequenceConfidenceEstimator.java  \n",
            "  inflating: mallet-2.0.8/src/cc/mallet/fst/confidence/MinSegmentConfidenceEstimator.java  \n",
            "  inflating: mallet-2.0.8/src/cc/mallet/fst/confidence/NBestViterbiConfidenceEstimator.java  \n",
            "  inflating: mallet-2.0.8/src/cc/mallet/fst/confidence/PipedInstanceWithConfidence.java  \n",
            "  inflating: mallet-2.0.8/src/cc/mallet/fst/confidence/QBCSequenceConfidenceEstimator.java  \n",
            "  inflating: mallet-2.0.8/src/cc/mallet/fst/confidence/RandomConfidenceEstimator.java  \n",
            "  inflating: mallet-2.0.8/src/cc/mallet/fst/confidence/RandomSequenceConfidenceEstimator.java  \n",
            "  inflating: mallet-2.0.8/src/cc/mallet/fst/confidence/SegmentProductConfidenceEstimator.java  \n",
            "  inflating: mallet-2.0.8/src/cc/mallet/fst/confidence/SequenceConfidenceInstance.java  \n",
            "  inflating: mallet-2.0.8/src/cc/mallet/fst/confidence/TransducerConfidenceEstimator.java  \n",
            "  inflating: mallet-2.0.8/src/cc/mallet/fst/confidence/TransducerCorrector.java  \n",
            "  inflating: mallet-2.0.8/src/cc/mallet/fst/confidence/TransducerSequenceConfidenceEstimator.java  \n",
            "  inflating: mallet-2.0.8/src/cc/mallet/fst/confidence/ViterbiConfidenceEstimator.java  \n",
            "  inflating: mallet-2.0.8/src/cc/mallet/fst/confidence/ViterbiRatioConfidenceEstimator.java  \n",
            "  inflating: mallet-2.0.8/src/cc/mallet/fst/CRF.java  \n",
            "  inflating: mallet-2.0.8/src/cc/mallet/fst/CRFCacheStaleIndicator.java  \n",
            "  inflating: mallet-2.0.8/src/cc/mallet/fst/CRFOptimizableByBatchLabelLikelihood.java  \n",
            "  inflating: mallet-2.0.8/src/cc/mallet/fst/CRFOptimizableByGradientValues.java  \n",
            "  inflating: mallet-2.0.8/src/cc/mallet/fst/CRFOptimizableByLabelLikelihood.java  \n",
            "  inflating: mallet-2.0.8/src/cc/mallet/fst/CRFTrainerByL1LabelLikelihood.java  \n",
            "  inflating: mallet-2.0.8/src/cc/mallet/fst/CRFTrainerByLabelLikelihood.java  \n",
            "  inflating: mallet-2.0.8/src/cc/mallet/fst/CRFTrainerByStochasticGradient.java  \n",
            "  inflating: mallet-2.0.8/src/cc/mallet/fst/CRFTrainerByThreadedLabelLikelihood.java  \n",
            "  inflating: mallet-2.0.8/src/cc/mallet/fst/CRFTrainerByValueGradients.java  \n",
            "  inflating: mallet-2.0.8/src/cc/mallet/fst/CRFWriter.java  \n",
            "  inflating: mallet-2.0.8/src/cc/mallet/fst/FeatureTransducer.java  \n",
            "  inflating: mallet-2.0.8/src/cc/mallet/fst/HMM.java  \n",
            "  inflating: mallet-2.0.8/src/cc/mallet/fst/HMMTrainerByLikelihood.java  \n",
            "  inflating: mallet-2.0.8/src/cc/mallet/fst/InstanceAccuracyEvaluator.java  \n",
            "  inflating: mallet-2.0.8/src/cc/mallet/fst/LabelDistributionEvaluator.java  \n",
            "  inflating: mallet-2.0.8/src/cc/mallet/fst/MaxLattice.java  \n",
            "  inflating: mallet-2.0.8/src/cc/mallet/fst/MaxLatticeDefault.java  \n",
            "  inflating: mallet-2.0.8/src/cc/mallet/fst/MaxLatticeFactory.java  \n",
            "  inflating: mallet-2.0.8/src/cc/mallet/fst/MEMM.java  \n",
            "  inflating: mallet-2.0.8/src/cc/mallet/fst/MEMMTrainer.java  \n",
            "  inflating: mallet-2.0.8/src/cc/mallet/fst/MultiSegmentationEvaluator.java  \n",
            "  inflating: mallet-2.0.8/src/cc/mallet/fst/NoopTransducerTrainer.java  \n",
            "  inflating: mallet-2.0.8/src/cc/mallet/fst/package.html  \n",
            "  inflating: mallet-2.0.8/src/cc/mallet/fst/PerClassAccuracyEvaluator.java  \n",
            "  inflating: mallet-2.0.8/src/cc/mallet/fst/Segment.java  \n",
            "  inflating: mallet-2.0.8/src/cc/mallet/fst/SegmentationEvaluator.java  \n",
            "   creating: mallet-2.0.8/src/cc/mallet/fst/semi_supervised/\n",
            "   creating: mallet-2.0.8/src/cc/mallet/fst/semi_supervised/constraints/\n",
            "  inflating: mallet-2.0.8/src/cc/mallet/fst/semi_supervised/constraints/GEConstraint.java  \n",
            "  inflating: mallet-2.0.8/src/cc/mallet/fst/semi_supervised/constraints/OneLabelGEConstraints.java  \n",
            "  inflating: mallet-2.0.8/src/cc/mallet/fst/semi_supervised/constraints/OneLabelKLGEConstraints.java  \n",
            "  inflating: mallet-2.0.8/src/cc/mallet/fst/semi_supervised/constraints/OneLabelL2GEConstraints.java  \n",
            "  inflating: mallet-2.0.8/src/cc/mallet/fst/semi_supervised/constraints/OneLabelL2RangeGEConstraints.java  \n",
            "  inflating: mallet-2.0.8/src/cc/mallet/fst/semi_supervised/constraints/SelfTransitionGEConstraint.java  \n",
            "  inflating: mallet-2.0.8/src/cc/mallet/fst/semi_supervised/constraints/TwoLabelGEConstraints.java  \n",
            "  inflating: mallet-2.0.8/src/cc/mallet/fst/semi_supervised/constraints/TwoLabelKLGEConstraints.java  \n",
            "  inflating: mallet-2.0.8/src/cc/mallet/fst/semi_supervised/constraints/TwoLabelL2GEConstraints.java  \n",
            "  inflating: mallet-2.0.8/src/cc/mallet/fst/semi_supervised/CRFOptimizableByEntropyRegularization.java  \n",
            "  inflating: mallet-2.0.8/src/cc/mallet/fst/semi_supervised/CRFOptimizableByGE.java  \n",
            "  inflating: mallet-2.0.8/src/cc/mallet/fst/semi_supervised/CRFTrainerByEntropyRegularization.java  \n",
            "  inflating: mallet-2.0.8/src/cc/mallet/fst/semi_supervised/CRFTrainerByGE.java  \n",
            "  inflating: mallet-2.0.8/src/cc/mallet/fst/semi_supervised/CRFTrainerByLikelihoodAndGE.java  \n",
            "  inflating: mallet-2.0.8/src/cc/mallet/fst/semi_supervised/EntropyLattice.java  \n",
            "  inflating: mallet-2.0.8/src/cc/mallet/fst/semi_supervised/FSTConstraintUtil.java  \n",
            "  inflating: mallet-2.0.8/src/cc/mallet/fst/semi_supervised/GELattice.java  \n",
            "   creating: mallet-2.0.8/src/cc/mallet/fst/semi_supervised/pr/\n",
            "  inflating: mallet-2.0.8/src/cc/mallet/fst/semi_supervised/pr/CachedDotTransitionIterator.java  \n",
            "   creating: mallet-2.0.8/src/cc/mallet/fst/semi_supervised/pr/constraints/\n",
            "  inflating: mallet-2.0.8/src/cc/mallet/fst/semi_supervised/pr/constraints/OneLabelL2IndPRConstraints.java  \n",
            "  inflating: mallet-2.0.8/src/cc/mallet/fst/semi_supervised/pr/constraints/OneLabelL2PRConstraints.java  \n",
            "  inflating: mallet-2.0.8/src/cc/mallet/fst/semi_supervised/pr/constraints/PRConstraint.java  \n",
            "  inflating: mallet-2.0.8/src/cc/mallet/fst/semi_supervised/pr/ConstraintsOptimizableByPR.java  \n",
            "  inflating: mallet-2.0.8/src/cc/mallet/fst/semi_supervised/pr/CRFOptimizableByKL.java  \n",
            "  inflating: mallet-2.0.8/src/cc/mallet/fst/semi_supervised/pr/CRFTrainerByPR.java  \n",
            "  inflating: mallet-2.0.8/src/cc/mallet/fst/semi_supervised/pr/PRAuxiliaryModel.java  \n",
            "  inflating: mallet-2.0.8/src/cc/mallet/fst/semi_supervised/pr/SumLatticeDefaultCachedDot.java  \n",
            "  inflating: mallet-2.0.8/src/cc/mallet/fst/semi_supervised/pr/SumLatticeKL.java  \n",
            "  inflating: mallet-2.0.8/src/cc/mallet/fst/semi_supervised/pr/SumLatticePR.java  \n",
            "  inflating: mallet-2.0.8/src/cc/mallet/fst/semi_supervised/StateLabelMap.java  \n",
            "   creating: mallet-2.0.8/src/cc/mallet/fst/semi_supervised/tui/\n",
            "  inflating: mallet-2.0.8/src/cc/mallet/fst/semi_supervised/tui/SimpleTaggerWithConstraints.java  \n",
            "  inflating: mallet-2.0.8/src/cc/mallet/fst/ShallowTransducerTrainer.java  \n",
            "  inflating: mallet-2.0.8/src/cc/mallet/fst/SimpleTagger.java  \n",
            "  inflating: mallet-2.0.8/src/cc/mallet/fst/SumLattice.java  \n",
            "  inflating: mallet-2.0.8/src/cc/mallet/fst/SumLatticeBeam.java  \n",
            "  inflating: mallet-2.0.8/src/cc/mallet/fst/SumLatticeConstrained.java  \n",
            "  inflating: mallet-2.0.8/src/cc/mallet/fst/SumLatticeDefault.java  \n",
            "  inflating: mallet-2.0.8/src/cc/mallet/fst/SumLatticeFactory.java  \n",
            "  inflating: mallet-2.0.8/src/cc/mallet/fst/SumLatticeScaling.java  \n",
            "   creating: mallet-2.0.8/src/cc/mallet/fst/tests/\n",
            "  inflating: mallet-2.0.8/src/cc/mallet/fst/tests/package.html  \n",
            "  inflating: mallet-2.0.8/src/cc/mallet/fst/tests/TestCRF.java  \n",
            "  inflating: mallet-2.0.8/src/cc/mallet/fst/tests/TestFeatureTransducer.java  \n",
            "  inflating: mallet-2.0.8/src/cc/mallet/fst/tests/TestMEMM.java  \n",
            "  inflating: mallet-2.0.8/src/cc/mallet/fst/tests/TestSumNegLogProb2.java  \n",
            "  inflating: mallet-2.0.8/src/cc/mallet/fst/ThreadedOptimizable.java  \n",
            "  inflating: mallet-2.0.8/src/cc/mallet/fst/TokenAccuracyEvaluator.java  \n",
            "  inflating: mallet-2.0.8/src/cc/mallet/fst/Transducer.java  \n",
            "  inflating: mallet-2.0.8/src/cc/mallet/fst/TransducerEvaluator.java  \n",
            "  inflating: mallet-2.0.8/src/cc/mallet/fst/TransducerTrainer.java  \n",
            "  inflating: mallet-2.0.8/src/cc/mallet/fst/ViterbiWriter.java  \n",
            "   creating: mallet-2.0.8/src/cc/mallet/grmm/\n",
            "   creating: mallet-2.0.8/src/cc/mallet/grmm/examples/\n",
            "  inflating: mallet-2.0.8/src/cc/mallet/grmm/examples/CrossTemplate1.java  \n",
            "  inflating: mallet-2.0.8/src/cc/mallet/grmm/examples/ModelReaderExample.java  \n",
            "  inflating: mallet-2.0.8/src/cc/mallet/grmm/examples/SimpleCrfExample.java  \n",
            "  inflating: mallet-2.0.8/src/cc/mallet/grmm/examples/SimpleFactorExample.java  \n",
            "  inflating: mallet-2.0.8/src/cc/mallet/grmm/examples/SimpleGraphExample.java  \n",
            "   creating: mallet-2.0.8/src/cc/mallet/grmm/inference/\n",
            "  inflating: mallet-2.0.8/src/cc/mallet/grmm/inference/AbstractBeliefPropagation.java  \n",
            "  inflating: mallet-2.0.8/src/cc/mallet/grmm/inference/AbstractInferencer.java  \n",
            "  inflating: mallet-2.0.8/src/cc/mallet/grmm/inference/BruteForceInferencer.java  \n",
            "  inflating: mallet-2.0.8/src/cc/mallet/grmm/inference/ExactSampler.java  \n",
            "   creating: mallet-2.0.8/src/cc/mallet/grmm/inference/gbp/\n",
            "  inflating: mallet-2.0.8/src/cc/mallet/grmm/inference/gbp/AbstractMessageStrategy.java  \n",
            "  inflating: mallet-2.0.8/src/cc/mallet/grmm/inference/gbp/BPRegionGenerator.java  \n",
            "  inflating: mallet-2.0.8/src/cc/mallet/grmm/inference/gbp/ClusterVariationalRegionGenerator.java  \n",
            "  inflating: mallet-2.0.8/src/cc/mallet/grmm/inference/gbp/FactorizedRegion.java  \n",
            "  inflating: mallet-2.0.8/src/cc/mallet/grmm/inference/gbp/FullMessageStrategy.java  \n",
            "  inflating: mallet-2.0.8/src/cc/mallet/grmm/inference/gbp/Kikuchi4SquareRegionGenerator.java  \n",
            "  inflating: mallet-2.0.8/src/cc/mallet/grmm/inference/gbp/MessageArray.java  \n",
            "  inflating: mallet-2.0.8/src/cc/mallet/grmm/inference/gbp/MessageStrategy.java  \n",
            "  inflating: mallet-2.0.8/src/cc/mallet/grmm/inference/gbp/ParentChildGBP.java  \n",
            "  inflating: mallet-2.0.8/src/cc/mallet/grmm/inference/gbp/Region.java  \n",
            "  inflating: mallet-2.0.8/src/cc/mallet/grmm/inference/gbp/RegionEdge.java  \n",
            "  inflating: mallet-2.0.8/src/cc/mallet/grmm/inference/gbp/RegionGraph.java  \n",
            "  inflating: mallet-2.0.8/src/cc/mallet/grmm/inference/gbp/RegionGraphGenerator.java  \n",
            "  inflating: mallet-2.0.8/src/cc/mallet/grmm/inference/gbp/SparseMessageSender.java  \n",
            "  inflating: mallet-2.0.8/src/cc/mallet/grmm/inference/GibbsSampler.java  \n",
            "  inflating: mallet-2.0.8/src/cc/mallet/grmm/inference/Inferencer.java  \n",
            "  inflating: mallet-2.0.8/src/cc/mallet/grmm/inference/JunctionTree.java  \n",
            "  inflating: mallet-2.0.8/src/cc/mallet/grmm/inference/JunctionTreeInferencer.java  \n",
            "  inflating: mallet-2.0.8/src/cc/mallet/grmm/inference/JunctionTreePropagation.java  \n",
            "  inflating: mallet-2.0.8/src/cc/mallet/grmm/inference/LoopyBP.java  \n",
            "  inflating: mallet-2.0.8/src/cc/mallet/grmm/inference/MessageArray.java  \n",
            "  inflating: mallet-2.0.8/src/cc/mallet/grmm/inference/RandomGraphs.java  \n",
            "  inflating: mallet-2.0.8/src/cc/mallet/grmm/inference/ResidualBP.java  \n",
            "  inflating: mallet-2.0.8/src/cc/mallet/grmm/inference/Sampler.java  \n",
            "  inflating: mallet-2.0.8/src/cc/mallet/grmm/inference/SamplingInferencer.java  \n",
            "  inflating: mallet-2.0.8/src/cc/mallet/grmm/inference/TreeBP.java  \n",
            "  inflating: mallet-2.0.8/src/cc/mallet/grmm/inference/TRP.java  \n",
            "  inflating: mallet-2.0.8/src/cc/mallet/grmm/inference/Utils.java  \n",
            "  inflating: mallet-2.0.8/src/cc/mallet/grmm/inference/VariableElimination.java  \n",
            "   creating: mallet-2.0.8/src/cc/mallet/grmm/learning/\n",
            "  inflating: mallet-2.0.8/src/cc/mallet/grmm/learning/ACRF.java  \n",
            "  inflating: mallet-2.0.8/src/cc/mallet/grmm/learning/ACRFEvaluator.java  \n",
            "  inflating: mallet-2.0.8/src/cc/mallet/grmm/learning/AcrfSerialEvaluator.java  \n",
            "  inflating: mallet-2.0.8/src/cc/mallet/grmm/learning/ACRFTrainer.java  \n",
            "  inflating: mallet-2.0.8/src/cc/mallet/grmm/learning/DefaultAcrfTrainer.java  \n",
            "   creating: mallet-2.0.8/src/cc/mallet/grmm/learning/extract/\n",
            "  inflating: mallet-2.0.8/src/cc/mallet/grmm/learning/extract/ACRFExtractor.java  \n",
            "  inflating: mallet-2.0.8/src/cc/mallet/grmm/learning/extract/ACRFExtractorTrainer.java  \n",
            "  inflating: mallet-2.0.8/src/cc/mallet/grmm/learning/extract/AcrfExtractorTui.java  \n",
            "  inflating: mallet-2.0.8/src/cc/mallet/grmm/learning/GenericAcrfData2TokenSequence.java  \n",
            "  inflating: mallet-2.0.8/src/cc/mallet/grmm/learning/GenericAcrfTui.java  \n",
            "  inflating: mallet-2.0.8/src/cc/mallet/grmm/learning/MultiSegmentationEvaluatorACRF.java  \n",
            "  inflating: mallet-2.0.8/src/cc/mallet/grmm/learning/PiecewiseACRFTrainer.java  \n",
            "  inflating: mallet-2.0.8/src/cc/mallet/grmm/learning/PseudolikelihoodACRFTrainer.java  \n",
            "  inflating: mallet-2.0.8/src/cc/mallet/grmm/learning/PwplACRFTrainer.java  \n",
            "   creating: mallet-2.0.8/src/cc/mallet/grmm/learning/templates/\n",
            "  inflating: mallet-2.0.8/src/cc/mallet/grmm/learning/templates/SimilarTokensTemplate.java  \n",
            "   creating: mallet-2.0.8/src/cc/mallet/grmm/test/\n",
            "  inflating: mallet-2.0.8/src/cc/mallet/grmm/test/TestAbstractBeliefPropagation.java  \n",
            "  inflating: mallet-2.0.8/src/cc/mallet/grmm/test/TestAssignment.java  \n",
            "  inflating: mallet-2.0.8/src/cc/mallet/grmm/test/TestAssignmentIterator.java  \n",
            "  inflating: mallet-2.0.8/src/cc/mallet/grmm/test/TestBetaFactor.java  \n",
            "  inflating: mallet-2.0.8/src/cc/mallet/grmm/test/TestBitVarSet.java  \n",
            "  inflating: mallet-2.0.8/src/cc/mallet/grmm/test/TestDirectedModel.java  \n",
            "  inflating: mallet-2.0.8/src/cc/mallet/grmm/test/TestFactorGraph.java  \n",
            "  inflating: mallet-2.0.8/src/cc/mallet/grmm/test/TestFactors.java  \n",
            "  inflating: mallet-2.0.8/src/cc/mallet/grmm/test/TestGenericAcrfData2TokenSequence.java  \n",
            "  inflating: mallet-2.0.8/src/cc/mallet/grmm/test/TestGibbsSampler.java  \n",
            "  inflating: mallet-2.0.8/src/cc/mallet/grmm/test/TestHashClique.java  \n",
            "  inflating: mallet-2.0.8/src/cc/mallet/grmm/test/TestInference.java  \n",
            "  inflating: mallet-2.0.8/src/cc/mallet/grmm/test/TestListVarSet.java  \n",
            "  inflating: mallet-2.0.8/src/cc/mallet/grmm/test/TestLogTableFactor.java  \n",
            "  inflating: mallet-2.0.8/src/cc/mallet/grmm/test/TestMIntInt2ObjectMap.java  \n",
            "  inflating: mallet-2.0.8/src/cc/mallet/grmm/test/TestNormalFactor.java  \n",
            "  inflating: mallet-2.0.8/src/cc/mallet/grmm/test/TestPottsFactor.java  \n",
            "  inflating: mallet-2.0.8/src/cc/mallet/grmm/test/TestRandomGraphs.java  \n",
            "  inflating: mallet-2.0.8/src/cc/mallet/grmm/test/TestTableFactor.java  \n",
            "  inflating: mallet-2.0.8/src/cc/mallet/grmm/test/TestTRP.java  \n",
            "  inflating: mallet-2.0.8/src/cc/mallet/grmm/test/TestUndirectedModel.java  \n",
            "  inflating: mallet-2.0.8/src/cc/mallet/grmm/test/TestUniformFactor.java  \n",
            "  inflating: mallet-2.0.8/src/cc/mallet/grmm/test/TestUniNormalFactor.java  \n",
            "   creating: mallet-2.0.8/src/cc/mallet/grmm/types/\n",
            "  inflating: mallet-2.0.8/src/cc/mallet/grmm/types/AbstractAssignmentIterator.java  \n",
            "  inflating: mallet-2.0.8/src/cc/mallet/grmm/types/AbstractFactor.java  \n",
            "  inflating: mallet-2.0.8/src/cc/mallet/grmm/types/AbstractTableFactor.java  \n",
            "  inflating: mallet-2.0.8/src/cc/mallet/grmm/types/Assignment.java  \n",
            "  inflating: mallet-2.0.8/src/cc/mallet/grmm/types/AssignmentIterator.java  \n",
            "  inflating: mallet-2.0.8/src/cc/mallet/grmm/types/BetaFactor.java  \n",
            "  inflating: mallet-2.0.8/src/cc/mallet/grmm/types/BidirectionalIntObjectMap.java  \n",
            "  inflating: mallet-2.0.8/src/cc/mallet/grmm/types/BinaryUnaryFactor.java  \n",
            "  inflating: mallet-2.0.8/src/cc/mallet/grmm/types/BitVarSet.java  \n",
            "  inflating: mallet-2.0.8/src/cc/mallet/grmm/types/BoltzmannPairFactor.java  \n",
            "  inflating: mallet-2.0.8/src/cc/mallet/grmm/types/BoltzmannUnaryFactor.java  \n",
            "  inflating: mallet-2.0.8/src/cc/mallet/grmm/types/ConstantFactor.java  \n",
            "  inflating: mallet-2.0.8/src/cc/mallet/grmm/types/CPT.java  \n",
            "  inflating: mallet-2.0.8/src/cc/mallet/grmm/types/DenseAssignmentIterator.java  \n",
            "  inflating: mallet-2.0.8/src/cc/mallet/grmm/types/DirectedModel.java  \n",
            "  inflating: mallet-2.0.8/src/cc/mallet/grmm/types/DiscreteFactor.java  \n",
            "  inflating: mallet-2.0.8/src/cc/mallet/grmm/types/Factor.java  \n",
            "  inflating: mallet-2.0.8/src/cc/mallet/grmm/types/FactorGraph.java  \n",
            "  inflating: mallet-2.0.8/src/cc/mallet/grmm/types/Factors.java  \n",
            "  inflating: mallet-2.0.8/src/cc/mallet/grmm/types/HashVarSet.java  \n",
            "  inflating: mallet-2.0.8/src/cc/mallet/grmm/types/ListVarSet.java  \n",
            "  inflating: mallet-2.0.8/src/cc/mallet/grmm/types/LogTableFactor.java  \n",
            "  inflating: mallet-2.0.8/src/cc/mallet/grmm/types/NormalFactor.java  \n",
            "  inflating: mallet-2.0.8/src/cc/mallet/grmm/types/ParameterizedFactor.java  \n",
            "  inflating: mallet-2.0.8/src/cc/mallet/grmm/types/PottsTableFactor.java  \n",
            "  inflating: mallet-2.0.8/src/cc/mallet/grmm/types/SkeletonFactor.java  \n",
            "  inflating: mallet-2.0.8/src/cc/mallet/grmm/types/SparseAssignmentIterator.java  \n",
            "  inflating: mallet-2.0.8/src/cc/mallet/grmm/types/TableFactor.java  \n",
            "  inflating: mallet-2.0.8/src/cc/mallet/grmm/types/Tree.java  \n",
            "  inflating: mallet-2.0.8/src/cc/mallet/grmm/types/UndirectedGrid.java  \n",
            "  inflating: mallet-2.0.8/src/cc/mallet/grmm/types/UndirectedModel.java  \n",
            "  inflating: mallet-2.0.8/src/cc/mallet/grmm/types/UniformFactor.java  \n",
            "  inflating: mallet-2.0.8/src/cc/mallet/grmm/types/UniNormalFactor.java  \n",
            "  inflating: mallet-2.0.8/src/cc/mallet/grmm/types/Universe.java  \n",
            "  inflating: mallet-2.0.8/src/cc/mallet/grmm/types/UnmodifiableVarSet.java  \n",
            "  inflating: mallet-2.0.8/src/cc/mallet/grmm/types/Variable.java  \n",
            "  inflating: mallet-2.0.8/src/cc/mallet/grmm/types/VarSet.java  \n",
            "   creating: mallet-2.0.8/src/cc/mallet/grmm/util/\n",
            "  inflating: mallet-2.0.8/src/cc/mallet/grmm/util/CachingOptimizable.java  \n",
            "  inflating: mallet-2.0.8/src/cc/mallet/grmm/util/CSIntInt2ObjectMultiMap.java  \n",
            "  inflating: mallet-2.0.8/src/cc/mallet/grmm/util/Flops.java  \n",
            "  inflating: mallet-2.0.8/src/cc/mallet/grmm/util/GeneralUtils.java  \n",
            "  inflating: mallet-2.0.8/src/cc/mallet/grmm/util/Graphs.java  \n",
            "  inflating: mallet-2.0.8/src/cc/mallet/grmm/util/LabelsAssignment.java  \n",
            "  inflating: mallet-2.0.8/src/cc/mallet/grmm/util/LabelsSequence2Assignment.java  \n",
            "  inflating: mallet-2.0.8/src/cc/mallet/grmm/util/Matrices.java  \n",
            "  inflating: mallet-2.0.8/src/cc/mallet/grmm/util/MIntInt2ObjectMap.java  \n",
            "  inflating: mallet-2.0.8/src/cc/mallet/grmm/util/ModelReader.java  \n",
            "  inflating: mallet-2.0.8/src/cc/mallet/grmm/util/Models.java  \n",
            "  inflating: mallet-2.0.8/src/cc/mallet/grmm/util/ModelWriter.java  \n",
            "  inflating: mallet-2.0.8/src/cc/mallet/grmm/util/PipedIterator.java  \n",
            "  inflating: mallet-2.0.8/src/cc/mallet/grmm/util/RememberTokenizationPipe.java  \n",
            "  inflating: mallet-2.0.8/src/cc/mallet/grmm/util/SliceLabelsSequence.java  \n",
            "  inflating: mallet-2.0.8/src/cc/mallet/grmm/util/THashMultiMap.java  \n",
            "   creating: mallet-2.0.8/src/cc/mallet/optimize/\n",
            "  inflating: mallet-2.0.8/src/cc/mallet/optimize/AGIS.java  \n",
            "  inflating: mallet-2.0.8/src/cc/mallet/optimize/BackTrackLineSearch.java  \n",
            "  inflating: mallet-2.0.8/src/cc/mallet/optimize/ConjugateGradient.java  \n",
            "  inflating: mallet-2.0.8/src/cc/mallet/optimize/GradientAscent.java  \n",
            "  inflating: mallet-2.0.8/src/cc/mallet/optimize/GradientBracketLineOptimizer.java  \n",
            "  inflating: mallet-2.0.8/src/cc/mallet/optimize/InvalidOptimizableException.java  \n",
            "  inflating: mallet-2.0.8/src/cc/mallet/optimize/LimitedMemoryBFGS.java  \n",
            "  inflating: mallet-2.0.8/src/cc/mallet/optimize/LineOptimizer.java  \n",
            "  inflating: mallet-2.0.8/src/cc/mallet/optimize/Optimizable.java  \n",
            "  inflating: mallet-2.0.8/src/cc/mallet/optimize/OptimizableCollection.java  \n",
            "  inflating: mallet-2.0.8/src/cc/mallet/optimize/OptimizationException.java  \n",
            "  inflating: mallet-2.0.8/src/cc/mallet/optimize/Optimizer.java  \n",
            "  inflating: mallet-2.0.8/src/cc/mallet/optimize/OptimizerEvaluator.java  \n",
            "  inflating: mallet-2.0.8/src/cc/mallet/optimize/OrthantWiseLimitedMemoryBFGS.java  \n",
            "  inflating: mallet-2.0.8/src/cc/mallet/optimize/package.html  \n",
            "  inflating: mallet-2.0.8/src/cc/mallet/optimize/StochasticMetaAscent.java  \n",
            "   creating: mallet-2.0.8/src/cc/mallet/optimize/tests/\n",
            "  inflating: mallet-2.0.8/src/cc/mallet/optimize/tests/package.html  \n",
            "  inflating: mallet-2.0.8/src/cc/mallet/optimize/tests/TestOptimizable.java  \n",
            "  inflating: mallet-2.0.8/src/cc/mallet/optimize/tests/TestOptimizer.java  \n",
            "   creating: mallet-2.0.8/src/cc/mallet/pipe/\n",
            "  inflating: mallet-2.0.8/src/cc/mallet/pipe/AddClassifierTokenPredictions.java  \n",
            "  inflating: mallet-2.0.8/src/cc/mallet/pipe/Array2FeatureVector.java  \n",
            "  inflating: mallet-2.0.8/src/cc/mallet/pipe/AugmentableFeatureVectorAddConjunctions.java  \n",
            "  inflating: mallet-2.0.8/src/cc/mallet/pipe/AugmentableFeatureVectorLogScale.java  \n",
            "  inflating: mallet-2.0.8/src/cc/mallet/pipe/BranchingPipe.java  \n",
            "  inflating: mallet-2.0.8/src/cc/mallet/pipe/CharSequence2CharNGrams.java  \n",
            "  inflating: mallet-2.0.8/src/cc/mallet/pipe/CharSequence2TokenSequence.java  \n",
            "  inflating: mallet-2.0.8/src/cc/mallet/pipe/CharSequenceArray2TokenSequence.java  \n",
            "  inflating: mallet-2.0.8/src/cc/mallet/pipe/CharSequenceLowercase.java  \n",
            "  inflating: mallet-2.0.8/src/cc/mallet/pipe/CharSequenceRemoveHTML.java  \n",
            "  inflating: mallet-2.0.8/src/cc/mallet/pipe/CharSequenceRemoveUUEncodedBlocks.java  \n",
            "  inflating: mallet-2.0.8/src/cc/mallet/pipe/CharSequenceReplace.java  \n",
            "  inflating: mallet-2.0.8/src/cc/mallet/pipe/CharSubsequence.java  \n",
            "  inflating: mallet-2.0.8/src/cc/mallet/pipe/Classification2ConfidencePredictingFeatureVector.java  \n",
            "  inflating: mallet-2.0.8/src/cc/mallet/pipe/Csv2Array.java  \n",
            "  inflating: mallet-2.0.8/src/cc/mallet/pipe/Csv2FeatureVector.java  \n",
            "  inflating: mallet-2.0.8/src/cc/mallet/pipe/Directory2FileIterator.java  \n",
            "  inflating: mallet-2.0.8/src/cc/mallet/pipe/FeatureCountPipe.java  \n",
            "  inflating: mallet-2.0.8/src/cc/mallet/pipe/FeatureDocFreqPipe.java  \n",
            "  inflating: mallet-2.0.8/src/cc/mallet/pipe/FeatureSequence2AugmentableFeatureVector.java  \n",
            "  inflating: mallet-2.0.8/src/cc/mallet/pipe/FeatureSequence2FeatureVector.java  \n",
            "  inflating: mallet-2.0.8/src/cc/mallet/pipe/FeatureSequenceConvolution.java  \n",
            "  inflating: mallet-2.0.8/src/cc/mallet/pipe/FeatureValueString2FeatureVector.java  \n",
            "  inflating: mallet-2.0.8/src/cc/mallet/pipe/FeatureVectorConjunctions.java  \n",
            "  inflating: mallet-2.0.8/src/cc/mallet/pipe/FeatureVectorSequence2FeatureVectors.java  \n",
            "  inflating: mallet-2.0.8/src/cc/mallet/pipe/Filename2CharSequence.java  \n",
            "  inflating: mallet-2.0.8/src/cc/mallet/pipe/FilterEmptyFeatureVectors.java  \n",
            "  inflating: mallet-2.0.8/src/cc/mallet/pipe/FixedVocabTokenizer.java  \n",
            "  inflating: mallet-2.0.8/src/cc/mallet/pipe/HACKING  \n",
            "  inflating: mallet-2.0.8/src/cc/mallet/pipe/Input2CharSequence.java  \n",
            "  inflating: mallet-2.0.8/src/cc/mallet/pipe/InstanceListTrimFeaturesByCount.java  \n",
            "   creating: mallet-2.0.8/src/cc/mallet/pipe/iterator/\n",
            "  inflating: mallet-2.0.8/src/cc/mallet/pipe/iterator/ArrayDataAndTargetIterator.java  \n",
            "  inflating: mallet-2.0.8/src/cc/mallet/pipe/iterator/ArrayIterator.java  \n",
            "  inflating: mallet-2.0.8/src/cc/mallet/pipe/iterator/ConcatenatedInstanceIterator.java  \n",
            "  inflating: mallet-2.0.8/src/cc/mallet/pipe/iterator/CsvIterator.java  \n",
            "  inflating: mallet-2.0.8/src/cc/mallet/pipe/iterator/DBInstanceIterator.java  \n",
            "  inflating: mallet-2.0.8/src/cc/mallet/pipe/iterator/EmptyInstanceIterator.java  \n",
            "  inflating: mallet-2.0.8/src/cc/mallet/pipe/iterator/FileIterator.java  \n",
            "  inflating: mallet-2.0.8/src/cc/mallet/pipe/iterator/FileListIterator.java  \n",
            "  inflating: mallet-2.0.8/src/cc/mallet/pipe/iterator/FileUriIterator.java  \n",
            "  inflating: mallet-2.0.8/src/cc/mallet/pipe/iterator/LineGroupIterator.java  \n",
            "  inflating: mallet-2.0.8/src/cc/mallet/pipe/iterator/LineIterator.java  \n",
            "  inflating: mallet-2.0.8/src/cc/mallet/pipe/iterator/package.html  \n",
            "  inflating: mallet-2.0.8/src/cc/mallet/pipe/iterator/ParenGroupIterator.java  \n",
            "  inflating: mallet-2.0.8/src/cc/mallet/pipe/iterator/PatternMatchIterator.java  \n",
            "  inflating: mallet-2.0.8/src/cc/mallet/pipe/iterator/PipeExtendedIterator.java  \n",
            "  inflating: mallet-2.0.8/src/cc/mallet/pipe/iterator/PipeInputIterator.java  \n",
            "  inflating: mallet-2.0.8/src/cc/mallet/pipe/iterator/RandomFeatureVectorIterator.java  \n",
            "  inflating: mallet-2.0.8/src/cc/mallet/pipe/iterator/RandomTokenSequenceIterator.java  \n",
            "  inflating: mallet-2.0.8/src/cc/mallet/pipe/iterator/SegmentIterator.java  \n",
            "  inflating: mallet-2.0.8/src/cc/mallet/pipe/iterator/SelectiveFileLineIterator.java  \n",
            "  inflating: mallet-2.0.8/src/cc/mallet/pipe/iterator/SimpleFileLineIterator.java  \n",
            "  inflating: mallet-2.0.8/src/cc/mallet/pipe/iterator/StringArrayIterator.java  \n",
            "   creating: mallet-2.0.8/src/cc/mallet/pipe/iterator/tests/\n",
            "  inflating: mallet-2.0.8/src/cc/mallet/pipe/iterator/tests/TestPatternMatchIterator.java  \n",
            "  inflating: mallet-2.0.8/src/cc/mallet/pipe/iterator/UnlabeledFileIterator.java  \n",
            "  inflating: mallet-2.0.8/src/cc/mallet/pipe/LineGroupString2TokenSequence.java  \n",
            "  inflating: mallet-2.0.8/src/cc/mallet/pipe/MakeAmpersandXMLFriendly.java  \n",
            "  inflating: mallet-2.0.8/src/cc/mallet/pipe/NGramPreprocessor.java  \n",
            "  inflating: mallet-2.0.8/src/cc/mallet/pipe/Noop.java  \n",
            "  inflating: mallet-2.0.8/src/cc/mallet/pipe/package.html  \n",
            "  inflating: mallet-2.0.8/src/cc/mallet/pipe/Pipe.java  \n",
            "  inflating: mallet-2.0.8/src/cc/mallet/pipe/PipeException.java  \n",
            "  inflating: mallet-2.0.8/src/cc/mallet/pipe/PipeUtils.java  \n",
            "  inflating: mallet-2.0.8/src/cc/mallet/pipe/PrintInput.java  \n",
            "  inflating: mallet-2.0.8/src/cc/mallet/pipe/PrintInputAndTarget.java  \n",
            "  inflating: mallet-2.0.8/src/cc/mallet/pipe/PrintTokenSequenceFeatures.java  \n",
            "  inflating: mallet-2.0.8/src/cc/mallet/pipe/SaveDataInSource.java  \n",
            "  inflating: mallet-2.0.8/src/cc/mallet/pipe/SelectiveSGML2TokenSequence.java  \n",
            "  inflating: mallet-2.0.8/src/cc/mallet/pipe/SerialPipes.java  \n",
            "  inflating: mallet-2.0.8/src/cc/mallet/pipe/SGML2TokenSequence.java  \n",
            "  inflating: mallet-2.0.8/src/cc/mallet/pipe/SimpleTaggerSentence2StringTokenization.java  \n",
            "  inflating: mallet-2.0.8/src/cc/mallet/pipe/SimpleTaggerSentence2TokenSequence.java  \n",
            "  inflating: mallet-2.0.8/src/cc/mallet/pipe/SimpleTokenizer.java  \n",
            "  inflating: mallet-2.0.8/src/cc/mallet/pipe/SourceLocation2TokenSequence.java  \n",
            "  inflating: mallet-2.0.8/src/cc/mallet/pipe/StringAddNewLineDelimiter.java  \n",
            "  inflating: mallet-2.0.8/src/cc/mallet/pipe/StringList2FeatureSequence.java  \n",
            "  inflating: mallet-2.0.8/src/cc/mallet/pipe/SvmLight2FeatureVectorAndLabel.java  \n",
            "  inflating: mallet-2.0.8/src/cc/mallet/pipe/Target2Double.java  \n",
            "  inflating: mallet-2.0.8/src/cc/mallet/pipe/Target2FeatureSequence.java  \n",
            "  inflating: mallet-2.0.8/src/cc/mallet/pipe/Target2Integer.java  \n",
            "  inflating: mallet-2.0.8/src/cc/mallet/pipe/Target2Label.java  \n",
            "  inflating: mallet-2.0.8/src/cc/mallet/pipe/Target2LabelSequence.java  \n",
            "  inflating: mallet-2.0.8/src/cc/mallet/pipe/TargetRememberLastLabel.java  \n",
            "  inflating: mallet-2.0.8/src/cc/mallet/pipe/TargetStringToFeatures.java  \n",
            "   creating: mallet-2.0.8/src/cc/mallet/pipe/tests/\n",
            "  inflating: mallet-2.0.8/src/cc/mallet/pipe/tests/package.html  \n",
            "  inflating: mallet-2.0.8/src/cc/mallet/pipe/tests/TestInstancePipe.java  \n",
            "  inflating: mallet-2.0.8/src/cc/mallet/pipe/tests/TestIterators.java  \n",
            "  inflating: mallet-2.0.8/src/cc/mallet/pipe/tests/TestPipeUtils.java  \n",
            "  inflating: mallet-2.0.8/src/cc/mallet/pipe/tests/TestRainbowStyle.java  \n",
            "  inflating: mallet-2.0.8/src/cc/mallet/pipe/tests/TestSGML2TokenSequence.java  \n",
            "  inflating: mallet-2.0.8/src/cc/mallet/pipe/tests/TestSpacePipe.java  \n",
            "  inflating: mallet-2.0.8/src/cc/mallet/pipe/Token2FeatureVector.java  \n",
            "  inflating: mallet-2.0.8/src/cc/mallet/pipe/TokenSequence2FeatureSequence.java  \n",
            "  inflating: mallet-2.0.8/src/cc/mallet/pipe/TokenSequence2FeatureSequenceWithBigrams.java  \n",
            "  inflating: mallet-2.0.8/src/cc/mallet/pipe/TokenSequence2FeatureVectorSequence.java  \n",
            "  inflating: mallet-2.0.8/src/cc/mallet/pipe/TokenSequence2TokenInstances.java  \n",
            "  inflating: mallet-2.0.8/src/cc/mallet/pipe/TokenSequenceLowercase.java  \n",
            "  inflating: mallet-2.0.8/src/cc/mallet/pipe/TokenSequenceMatchDataAndTarget.java  \n",
            "  inflating: mallet-2.0.8/src/cc/mallet/pipe/TokenSequenceNGrams.java  \n",
            "  inflating: mallet-2.0.8/src/cc/mallet/pipe/TokenSequenceParseFeatureString.java  \n",
            "  inflating: mallet-2.0.8/src/cc/mallet/pipe/TokenSequenceRemoveNonAlpha.java  \n",
            "  inflating: mallet-2.0.8/src/cc/mallet/pipe/TokenSequenceRemoveStopPatterns.java  \n",
            "  inflating: mallet-2.0.8/src/cc/mallet/pipe/TokenSequenceRemoveStopwords.java  \n",
            "   creating: mallet-2.0.8/src/cc/mallet/pipe/tsf/\n",
            "  inflating: mallet-2.0.8/src/cc/mallet/pipe/tsf/CountMatches.java  \n",
            "  inflating: mallet-2.0.8/src/cc/mallet/pipe/tsf/CountMatchesAlignedWithOffsets.java  \n",
            "  inflating: mallet-2.0.8/src/cc/mallet/pipe/tsf/CountMatchesMatching.java  \n",
            "  inflating: mallet-2.0.8/src/cc/mallet/pipe/tsf/FeaturesInWindow.java  \n",
            "  inflating: mallet-2.0.8/src/cc/mallet/pipe/tsf/FeaturesOfFirstMention.java  \n",
            "  inflating: mallet-2.0.8/src/cc/mallet/pipe/tsf/LexiconMembership.java  \n",
            "  inflating: mallet-2.0.8/src/cc/mallet/pipe/tsf/OffsetConjunctions.java  \n",
            "  inflating: mallet-2.0.8/src/cc/mallet/pipe/tsf/OffsetFeatureConjunction.java  \n",
            "  inflating: mallet-2.0.8/src/cc/mallet/pipe/tsf/OffsetPropertyConjunctions.java  \n",
            "  inflating: mallet-2.0.8/src/cc/mallet/pipe/tsf/package.html  \n",
            "  inflating: mallet-2.0.8/src/cc/mallet/pipe/tsf/RegexMatches.java  \n",
            "  inflating: mallet-2.0.8/src/cc/mallet/pipe/tsf/SequencePrintingPipe.java  \n",
            "  inflating: mallet-2.0.8/src/cc/mallet/pipe/tsf/Target2BIOFormat.java  \n",
            "   creating: mallet-2.0.8/src/cc/mallet/pipe/tsf/tests/\n",
            "  inflating: mallet-2.0.8/src/cc/mallet/pipe/tsf/tests/package.html  \n",
            "  inflating: mallet-2.0.8/src/cc/mallet/pipe/tsf/tests/TestOffsetConjunctions.java  \n",
            "  inflating: mallet-2.0.8/src/cc/mallet/pipe/tsf/tests/TestOffsetFeatureConjunctions.java  \n",
            "  inflating: mallet-2.0.8/src/cc/mallet/pipe/tsf/tests/TestSequencePrintingPipe.java  \n",
            "  inflating: mallet-2.0.8/src/cc/mallet/pipe/tsf/TokenFirstPosition.java  \n",
            "  inflating: mallet-2.0.8/src/cc/mallet/pipe/tsf/TokenText.java  \n",
            "  inflating: mallet-2.0.8/src/cc/mallet/pipe/tsf/TokenTextCharNGrams.java  \n",
            "  inflating: mallet-2.0.8/src/cc/mallet/pipe/tsf/TokenTextCharPrefix.java  \n",
            "  inflating: mallet-2.0.8/src/cc/mallet/pipe/tsf/TokenTextCharSuffix.java  \n",
            "  inflating: mallet-2.0.8/src/cc/mallet/pipe/tsf/TokenTextNGrams.java  \n",
            "  inflating: mallet-2.0.8/src/cc/mallet/pipe/tsf/TrieLexiconMembership.java  \n",
            "  inflating: mallet-2.0.8/src/cc/mallet/pipe/tsf/WordVectors.java  \n",
            "  inflating: mallet-2.0.8/src/cc/mallet/pipe/ValueString2FeatureVector.java  \n",
            "   creating: mallet-2.0.8/src/cc/mallet/regression/\n",
            "  inflating: mallet-2.0.8/src/cc/mallet/regression/CoordinateDescent.java  \n",
            "  inflating: mallet-2.0.8/src/cc/mallet/regression/LeastSquares.java  \n",
            "  inflating: mallet-2.0.8/src/cc/mallet/regression/LinearRegression.java  \n",
            "  inflating: mallet-2.0.8/src/cc/mallet/regression/LinearRegressionTrainer.java  \n",
            "   creating: mallet-2.0.8/src/cc/mallet/regression/tui/\n",
            "  inflating: mallet-2.0.8/src/cc/mallet/regression/tui/Regression.java  \n",
            "  inflating: mallet-2.0.8/src/cc/mallet/regression/tui/RegressionImporter.java  \n",
            "   creating: mallet-2.0.8/src/cc/mallet/share/\n",
            "   creating: mallet-2.0.8/src/cc/mallet/share/casutton/\n",
            "   creating: mallet-2.0.8/src/cc/mallet/share/casutton/ner/\n",
            "  inflating: mallet-2.0.8/src/cc/mallet/share/casutton/ner/ConllNer2003Sentence2TokenSequence.java  \n",
            "   creating: mallet-2.0.8/src/cc/mallet/share/mccallum/\n",
            "   creating: mallet-2.0.8/src/cc/mallet/share/mccallum/ner/\n",
            "  inflating: mallet-2.0.8/src/cc/mallet/share/mccallum/ner/ConllNer2003Sentence2TokenSequence.java  \n",
            "  inflating: mallet-2.0.8/src/cc/mallet/share/mccallum/ner/package.html  \n",
            "  inflating: mallet-2.0.8/src/cc/mallet/share/mccallum/ner/TokenSequenceDocHeader.java  \n",
            "  inflating: mallet-2.0.8/src/cc/mallet/share/mccallum/ner/TUI.java  \n",
            "   creating: mallet-2.0.8/src/cc/mallet/share/upenn/\n",
            "  inflating: mallet-2.0.8/src/cc/mallet/share/upenn/MaxEntShell.java  \n",
            "   creating: mallet-2.0.8/src/cc/mallet/share/upenn/ner/\n",
            "  inflating: mallet-2.0.8/src/cc/mallet/share/upenn/ner/FeatureWindow.java  \n",
            "  inflating: mallet-2.0.8/src/cc/mallet/share/upenn/ner/LengthBins.java  \n",
            "  inflating: mallet-2.0.8/src/cc/mallet/share/upenn/ner/ListMember.java  \n",
            "  inflating: mallet-2.0.8/src/cc/mallet/share/upenn/ner/LongRegexMatches.java  \n",
            "  inflating: mallet-2.0.8/src/cc/mallet/share/upenn/ner/NEPipes.java  \n",
            "  inflating: mallet-2.0.8/src/cc/mallet/share/upenn/package.html  \n",
            "   creating: mallet-2.0.8/src/cc/mallet/share/weili/\n",
            "   creating: mallet-2.0.8/src/cc/mallet/share/weili/ner/\n",
            "   creating: mallet-2.0.8/src/cc/mallet/share/weili/ner/enron/\n",
            "  inflating: mallet-2.0.8/src/cc/mallet/share/weili/ner/enron/EnronMessage2TokenSequence.java  \n",
            "  inflating: mallet-2.0.8/src/cc/mallet/share/weili/ner/enron/TUI.java  \n",
            "  inflating: mallet-2.0.8/src/cc/mallet/share/weili/ner/WordTransformation.java  \n",
            "   creating: mallet-2.0.8/src/cc/mallet/topics/\n",
            "  inflating: mallet-2.0.8/src/cc/mallet/topics/AbstractTopicReports.java  \n",
            "  inflating: mallet-2.0.8/src/cc/mallet/topics/DMROptimizable.java  \n",
            "  inflating: mallet-2.0.8/src/cc/mallet/topics/DMRTopicModel.java  \n",
            "  inflating: mallet-2.0.8/src/cc/mallet/topics/HierarchicalLDA.java  \n",
            "  inflating: mallet-2.0.8/src/cc/mallet/topics/HierarchicalPAM.java  \n",
            "  inflating: mallet-2.0.8/src/cc/mallet/topics/JSONTopicReports.java  \n",
            "  inflating: mallet-2.0.8/src/cc/mallet/topics/LabeledLDA.java  \n",
            "  inflating: mallet-2.0.8/src/cc/mallet/topics/LDA.java  \n",
            "  inflating: mallet-2.0.8/src/cc/mallet/topics/LDAHyper.java  \n",
            "  inflating: mallet-2.0.8/src/cc/mallet/topics/LDAStream.java  \n",
            "  inflating: mallet-2.0.8/src/cc/mallet/topics/MarginalProbEstimator.java  \n",
            "  inflating: mallet-2.0.8/src/cc/mallet/topics/MultinomialHMM.java  \n",
            "  inflating: mallet-2.0.8/src/cc/mallet/topics/NPTopicModel.java  \n",
            "  inflating: mallet-2.0.8/src/cc/mallet/topics/PAM4L.java  \n",
            "  inflating: mallet-2.0.8/src/cc/mallet/topics/ParallelTopicModel.java  \n",
            "  inflating: mallet-2.0.8/src/cc/mallet/topics/PolylingualTopicModel.java  \n",
            "  inflating: mallet-2.0.8/src/cc/mallet/topics/RTopicModel.java  \n",
            "  inflating: mallet-2.0.8/src/cc/mallet/topics/SimpleLDA.java  \n",
            "  inflating: mallet-2.0.8/src/cc/mallet/topics/TopicalNGrams.java  \n",
            "  inflating: mallet-2.0.8/src/cc/mallet/topics/TopicAssignment.java  \n",
            "  inflating: mallet-2.0.8/src/cc/mallet/topics/TopicInferencer.java  \n",
            "  inflating: mallet-2.0.8/src/cc/mallet/topics/TopicModelDiagnostics.java  \n",
            "  inflating: mallet-2.0.8/src/cc/mallet/topics/TopicReports.java  \n",
            "   creating: mallet-2.0.8/src/cc/mallet/topics/tui/\n",
            "  inflating: mallet-2.0.8/src/cc/mallet/topics/tui/DMRLoader.java  \n",
            "  inflating: mallet-2.0.8/src/cc/mallet/topics/tui/EvaluateTopics.java  \n",
            "  inflating: mallet-2.0.8/src/cc/mallet/topics/tui/HierarchicalLDATUI.java  \n",
            "  inflating: mallet-2.0.8/src/cc/mallet/topics/tui/InferTopics.java  \n",
            "  inflating: mallet-2.0.8/src/cc/mallet/topics/tui/TopicTrainer.java  \n",
            "  inflating: mallet-2.0.8/src/cc/mallet/topics/tui/Vectors2Topics.java  \n",
            "  inflating: mallet-2.0.8/src/cc/mallet/topics/WeightedTopicModel.java  \n",
            "  inflating: mallet-2.0.8/src/cc/mallet/topics/WordEmbeddingRunnable.java  \n",
            "  inflating: mallet-2.0.8/src/cc/mallet/topics/WordEmbeddings.java  \n",
            "  inflating: mallet-2.0.8/src/cc/mallet/topics/WorkerRunnable.java  \n",
            "   creating: mallet-2.0.8/src/cc/mallet/types/\n",
            "  inflating: mallet-2.0.8/src/cc/mallet/types/Alphabet.java  \n",
            "  inflating: mallet-2.0.8/src/cc/mallet/types/AlphabetCarrying.java  \n",
            "  inflating: mallet-2.0.8/src/cc/mallet/types/AlphabetFactory.java  \n",
            "  inflating: mallet-2.0.8/src/cc/mallet/types/ArrayListSequence.java  \n",
            "  inflating: mallet-2.0.8/src/cc/mallet/types/ArraySequence.java  \n",
            "  inflating: mallet-2.0.8/src/cc/mallet/types/AugmentableFeatureVector.java  \n",
            "  inflating: mallet-2.0.8/src/cc/mallet/types/BiNormalSeparation.java  \n",
            "  inflating: mallet-2.0.8/src/cc/mallet/types/CachedMetric.java  \n",
            "  inflating: mallet-2.0.8/src/cc/mallet/types/ChainedInstanceIterator.java  \n",
            "  inflating: mallet-2.0.8/src/cc/mallet/types/ConstantMatrix.java  \n",
            "  inflating: mallet-2.0.8/src/cc/mallet/types/CrossValidationIterator.java  \n",
            "  inflating: mallet-2.0.8/src/cc/mallet/types/DenseMatrix.java  \n",
            "  inflating: mallet-2.0.8/src/cc/mallet/types/DenseVector.java  \n",
            "  inflating: mallet-2.0.8/src/cc/mallet/types/Dirichlet.java  \n",
            "  inflating: mallet-2.0.8/src/cc/mallet/types/EuclideanDistance.java  \n",
            "  inflating: mallet-2.0.8/src/cc/mallet/types/ExpGain.java  \n",
            "  inflating: mallet-2.0.8/src/cc/mallet/types/FeatureConjunction.java  \n",
            "  inflating: mallet-2.0.8/src/cc/mallet/types/FeatureCounter.java  \n",
            "  inflating: mallet-2.0.8/src/cc/mallet/types/FeatureCounts.java  \n",
            "  inflating: mallet-2.0.8/src/cc/mallet/types/FeatureInducer.java  \n",
            "  inflating: mallet-2.0.8/src/cc/mallet/types/FeatureSelection.java  \n",
            "  inflating: mallet-2.0.8/src/cc/mallet/types/FeatureSelector.java  \n",
            "  inflating: mallet-2.0.8/src/cc/mallet/types/FeatureSequence.java  \n",
            "  inflating: mallet-2.0.8/src/cc/mallet/types/FeatureSequenceWithBigrams.java  \n",
            "  inflating: mallet-2.0.8/src/cc/mallet/types/FeatureVector.java  \n",
            "  inflating: mallet-2.0.8/src/cc/mallet/types/FeatureVectorSequence.java  \n",
            "  inflating: mallet-2.0.8/src/cc/mallet/types/GainRatio.java  \n",
            "  inflating: mallet-2.0.8/src/cc/mallet/types/GradientGain.java  \n",
            "  inflating: mallet-2.0.8/src/cc/mallet/types/HashedSparseVector.java  \n",
            "  inflating: mallet-2.0.8/src/cc/mallet/types/IDSorter.java  \n",
            "  inflating: mallet-2.0.8/src/cc/mallet/types/IndexedSparseVector.java  \n",
            "  inflating: mallet-2.0.8/src/cc/mallet/types/InfiniteDistance.java  \n",
            "  inflating: mallet-2.0.8/src/cc/mallet/types/InfoGain.java  \n",
            "  inflating: mallet-2.0.8/src/cc/mallet/types/Instance.java  \n",
            "  inflating: mallet-2.0.8/src/cc/mallet/types/InstanceList.java  \n",
            "  inflating: mallet-2.0.8/src/cc/mallet/types/InstanceListTUI.java  \n",
            "  inflating: mallet-2.0.8/src/cc/mallet/types/InvertedIndex.java  \n",
            "  inflating: mallet-2.0.8/src/cc/mallet/types/KLGain.java  \n",
            "  inflating: mallet-2.0.8/src/cc/mallet/types/Label.java  \n",
            "  inflating: mallet-2.0.8/src/cc/mallet/types/LabelAlphabet.java  \n",
            "  inflating: mallet-2.0.8/src/cc/mallet/types/Labeler.java  \n",
            "  inflating: mallet-2.0.8/src/cc/mallet/types/Labeling.java  \n",
            "  inflating: mallet-2.0.8/src/cc/mallet/types/Labelings.java  \n",
            "  inflating: mallet-2.0.8/src/cc/mallet/types/Labels.java  \n",
            "  inflating: mallet-2.0.8/src/cc/mallet/types/LabelSequence.java  \n",
            "  inflating: mallet-2.0.8/src/cc/mallet/types/LabelsSequence.java  \n",
            "  inflating: mallet-2.0.8/src/cc/mallet/types/LabelVector.java  \n",
            "  inflating: mallet-2.0.8/src/cc/mallet/types/LogNumber.java  \n",
            "  inflating: mallet-2.0.8/src/cc/mallet/types/ManhattenDistance.java  \n",
            "  inflating: mallet-2.0.8/src/cc/mallet/types/Matrix.java  \n",
            "  inflating: mallet-2.0.8/src/cc/mallet/types/Matrix2.java  \n",
            "  inflating: mallet-2.0.8/src/cc/mallet/types/Matrixn.java  \n",
            "  inflating: mallet-2.0.8/src/cc/mallet/types/MatrixOps.java  \n",
            "  inflating: mallet-2.0.8/src/cc/mallet/types/Metric.java  \n",
            "  inflating: mallet-2.0.8/src/cc/mallet/types/Minkowski.java  \n",
            "  inflating: mallet-2.0.8/src/cc/mallet/types/MultiInstanceList.java  \n",
            "  inflating: mallet-2.0.8/src/cc/mallet/types/Multinomial.java  \n",
            "  inflating: mallet-2.0.8/src/cc/mallet/types/NormalizedDotProductMetric.java  \n",
            "  inflating: mallet-2.0.8/src/cc/mallet/types/NullLabel.java  \n",
            "  inflating: mallet-2.0.8/src/cc/mallet/types/package.html  \n",
            "  inflating: mallet-2.0.8/src/cc/mallet/types/PagedInstanceList.java  \n",
            "  inflating: mallet-2.0.8/src/cc/mallet/types/PartiallyRankedFeatureVector.java  \n",
            "  inflating: mallet-2.0.8/src/cc/mallet/types/PerLabelFeatureCounts.java  \n",
            "  inflating: mallet-2.0.8/src/cc/mallet/types/PerLabelInfoGain.java  \n",
            "  inflating: mallet-2.0.8/src/cc/mallet/types/PropertyHolder.java  \n",
            "  inflating: mallet-2.0.8/src/cc/mallet/types/RankedFeatureVector.java  \n",
            "  inflating: mallet-2.0.8/src/cc/mallet/types/ROCData.java  \n",
            "  inflating: mallet-2.0.8/src/cc/mallet/types/Sequence.java  \n",
            "  inflating: mallet-2.0.8/src/cc/mallet/types/SequencePair.java  \n",
            "  inflating: mallet-2.0.8/src/cc/mallet/types/SequencePairAlignment.java  \n",
            "  inflating: mallet-2.0.8/src/cc/mallet/types/SingleInstanceIterator.java  \n",
            "  inflating: mallet-2.0.8/src/cc/mallet/types/SparseMatrixn.java  \n",
            "  inflating: mallet-2.0.8/src/cc/mallet/types/SparseVector.java  \n",
            "  inflating: mallet-2.0.8/src/cc/mallet/types/StringEditFeatureVectorSequence.java  \n",
            "  inflating: mallet-2.0.8/src/cc/mallet/types/StringEditVector.java  \n",
            "  inflating: mallet-2.0.8/src/cc/mallet/types/StringKernel.java  \n",
            "   creating: mallet-2.0.8/src/cc/mallet/types/tests/\n",
            "  inflating: mallet-2.0.8/src/cc/mallet/types/tests/package.html  \n",
            "  inflating: mallet-2.0.8/src/cc/mallet/types/tests/TestAlphabet.java  \n",
            "  inflating: mallet-2.0.8/src/cc/mallet/types/tests/TestAugmentableFeatureVector.java  \n",
            "  inflating: mallet-2.0.8/src/cc/mallet/types/tests/TestBiNormalSeparation.java  \n",
            "  inflating: mallet-2.0.8/src/cc/mallet/types/tests/TestFeatureSequence.java  \n",
            "  inflating: mallet-2.0.8/src/cc/mallet/types/tests/TestFeatureVector.java  \n",
            "  inflating: mallet-2.0.8/src/cc/mallet/types/tests/TestHashedSparseVector.java  \n",
            "  inflating: mallet-2.0.8/src/cc/mallet/types/tests/TestIndexedSparseVector.java  \n",
            "  inflating: mallet-2.0.8/src/cc/mallet/types/tests/TestInstanceListWeights.java  \n",
            "  inflating: mallet-2.0.8/src/cc/mallet/types/tests/TestLabelAlphabet.java  \n",
            "  inflating: mallet-2.0.8/src/cc/mallet/types/tests/TestLabelsSequence.java  \n",
            "  inflating: mallet-2.0.8/src/cc/mallet/types/tests/TestLabelVector.java  \n",
            "  inflating: mallet-2.0.8/src/cc/mallet/types/tests/TestMatrix.java  \n",
            "  inflating: mallet-2.0.8/src/cc/mallet/types/tests/TestMatrixn.java  \n",
            "  inflating: mallet-2.0.8/src/cc/mallet/types/tests/TestMultinomial.java  \n",
            "  inflating: mallet-2.0.8/src/cc/mallet/types/tests/TestPagedInstanceList.java  \n",
            "  inflating: mallet-2.0.8/src/cc/mallet/types/tests/TestRankedFeatureVector.java  \n",
            "  inflating: mallet-2.0.8/src/cc/mallet/types/tests/TestSerializable.java  \n",
            "  inflating: mallet-2.0.8/src/cc/mallet/types/tests/TestSparseMatrixn.java  \n",
            "  inflating: mallet-2.0.8/src/cc/mallet/types/tests/TestSparseVector.java  \n",
            "  inflating: mallet-2.0.8/src/cc/mallet/types/tests/TestToken.java  \n",
            "  inflating: mallet-2.0.8/src/cc/mallet/types/Token.java  \n",
            "  inflating: mallet-2.0.8/src/cc/mallet/types/TokenSequence.java  \n",
            "  inflating: mallet-2.0.8/src/cc/mallet/types/Vector.java  \n",
            "   creating: mallet-2.0.8/src/cc/mallet/util/\n",
            "  inflating: mallet-2.0.8/src/cc/mallet/util/Addable.java  \n",
            "  inflating: mallet-2.0.8/src/cc/mallet/util/ArrayListUtils.java  \n",
            "  inflating: mallet-2.0.8/src/cc/mallet/util/ArrayUtils.java  \n",
            "  inflating: mallet-2.0.8/src/cc/mallet/util/BshInterpreter.java  \n",
            "  inflating: mallet-2.0.8/src/cc/mallet/util/BulkLoader.java  \n",
            "  inflating: mallet-2.0.8/src/cc/mallet/util/CharSequenceLexer.java  \n",
            "  inflating: mallet-2.0.8/src/cc/mallet/util/CollectionUtils.java  \n",
            "  inflating: mallet-2.0.8/src/cc/mallet/util/ColorUtils.java  \n",
            "  inflating: mallet-2.0.8/src/cc/mallet/util/CommandOption.java  \n",
            "  inflating: mallet-2.0.8/src/cc/mallet/util/DBBulkLoader.java  \n",
            "  inflating: mallet-2.0.8/src/cc/mallet/util/DBInstanceStore.java  \n",
            "  inflating: mallet-2.0.8/src/cc/mallet/util/DirectoryFilter.java  \n",
            "  inflating: mallet-2.0.8/src/cc/mallet/util/DocumentLengths.java  \n",
            "  inflating: mallet-2.0.8/src/cc/mallet/util/DoubleList.java  \n",
            "  inflating: mallet-2.0.8/src/cc/mallet/util/FeatureCooccurrenceCounter.java  \n",
            "  inflating: mallet-2.0.8/src/cc/mallet/util/FeatureCountTool.java  \n",
            "  inflating: mallet-2.0.8/src/cc/mallet/util/FileUtils.java  \n",
            "  inflating: mallet-2.0.8/src/cc/mallet/util/InstanceListPrinter.java  \n",
            "  inflating: mallet-2.0.8/src/cc/mallet/util/IoUtils.java  \n",
            "  inflating: mallet-2.0.8/src/cc/mallet/util/Lexer.java  \n",
            "  inflating: mallet-2.0.8/src/cc/mallet/util/MalletLogger.java  \n",
            "  inflating: mallet-2.0.8/src/cc/mallet/util/MalletProgressMessageLogger.java  \n",
            "  inflating: mallet-2.0.8/src/cc/mallet/util/Maths.java  \n",
            "  inflating: mallet-2.0.8/src/cc/mallet/util/MVNormal.java  \n",
            "  inflating: mallet-2.0.8/src/cc/mallet/util/package.html  \n",
            "  inflating: mallet-2.0.8/src/cc/mallet/util/PlainLogFormatter.java  \n",
            "  inflating: mallet-2.0.8/src/cc/mallet/util/PrintUtilities.java  \n",
            "  inflating: mallet-2.0.8/src/cc/mallet/util/ProgressMessageLogFormatter.java  \n",
            "  inflating: mallet-2.0.8/src/cc/mallet/util/ProgressMessageLogRecord.java  \n",
            "  inflating: mallet-2.0.8/src/cc/mallet/util/PropertyList.java  \n",
            "  inflating: mallet-2.0.8/src/cc/mallet/util/Randoms.java  \n",
            "  inflating: mallet-2.0.8/src/cc/mallet/util/RegexFileFilter.java  \n",
            "  inflating: mallet-2.0.8/src/cc/mallet/util/Replacement.java  \n",
            "  inflating: mallet-2.0.8/src/cc/mallet/util/Replacer.java  \n",
            "   creating: mallet-2.0.8/src/cc/mallet/util/resources/\n",
            "  inflating: mallet-2.0.8/src/cc/mallet/util/resources/logging.properties  \n",
            "   creating: mallet-2.0.8/src/cc/mallet/util/resources/wn/\n",
            "  inflating: mallet-2.0.8/src/cc/mallet/util/resources/wn/database_properties.xml  \n",
            "  inflating: mallet-2.0.8/src/cc/mallet/util/resources/wn/Examples.java  \n",
            "  inflating: mallet-2.0.8/src/cc/mallet/util/resources/wn/file_properties.xml  \n",
            "  inflating: mallet-2.0.8/src/cc/mallet/util/resources/wn/jwnl-properties.xml  \n",
            "  inflating: mallet-2.0.8/src/cc/mallet/util/resources/wn/jwnl_properties.dtd  \n",
            "  inflating: mallet-2.0.8/src/cc/mallet/util/resources/wn/jwnl_properties.xsd  \n",
            "  inflating: mallet-2.0.8/src/cc/mallet/util/resources/wn/map_properties.xml  \n",
            "  inflating: mallet-2.0.8/src/cc/mallet/util/resources/wn/README  \n",
            "   creating: mallet-2.0.8/src/cc/mallet/util/search/\n",
            "  inflating: mallet-2.0.8/src/cc/mallet/util/search/AStar.java  \n",
            "  inflating: mallet-2.0.8/src/cc/mallet/util/search/AStarNode.java  \n",
            "  inflating: mallet-2.0.8/src/cc/mallet/util/search/AStarState.java  \n",
            "  inflating: mallet-2.0.8/src/cc/mallet/util/search/MinHeap.java  \n",
            "  inflating: mallet-2.0.8/src/cc/mallet/util/search/PriorityQueue.java  \n",
            "  inflating: mallet-2.0.8/src/cc/mallet/util/search/QueueElement.java  \n",
            "  inflating: mallet-2.0.8/src/cc/mallet/util/search/SearchNode.java  \n",
            "  inflating: mallet-2.0.8/src/cc/mallet/util/search/SearchState.java  \n",
            "  inflating: mallet-2.0.8/src/cc/mallet/util/Sequences.java  \n",
            "  inflating: mallet-2.0.8/src/cc/mallet/util/StatFunctions.java  \n",
            "  inflating: mallet-2.0.8/src/cc/mallet/util/Strings.java  \n",
            "   creating: mallet-2.0.8/src/cc/mallet/util/tests/\n",
            "  inflating: mallet-2.0.8/src/cc/mallet/util/tests/package.html  \n",
            "  inflating: mallet-2.0.8/src/cc/mallet/util/tests/TestAStar.java  \n",
            "  inflating: mallet-2.0.8/src/cc/mallet/util/tests/TestMaths.java  \n",
            "  inflating: mallet-2.0.8/src/cc/mallet/util/tests/TestPriorityQueue.java  \n",
            "  inflating: mallet-2.0.8/src/cc/mallet/util/tests/TestPropertyList.java  \n",
            "  inflating: mallet-2.0.8/src/cc/mallet/util/tests/TestRandom.java  \n",
            "  inflating: mallet-2.0.8/src/cc/mallet/util/tests/TestStrings.java  \n",
            "  inflating: mallet-2.0.8/src/cc/mallet/util/Timing.java  \n",
            "  inflating: mallet-2.0.8/src/cc/mallet/util/Univariate.java  \n",
            "  inflating: mallet-2.0.8/src/cc/mallet/util/UriUtils.java  \n",
            "  inflating: mallet-2.0.8/src/cc/mallet/util/VectorStats.java  \n",
            "   creating: mallet-2.0.8/stoplists/\n",
            "  inflating: mallet-2.0.8/stoplists/de.txt  \n",
            "  inflating: mallet-2.0.8/stoplists/en.txt  \n",
            "  inflating: mallet-2.0.8/stoplists/fi.txt  \n",
            "  inflating: mallet-2.0.8/stoplists/fr.txt  \n",
            "  inflating: mallet-2.0.8/stoplists/jp.txt  \n",
            "  inflating: mallet-2.0.8/stoplists/README  \n",
            "   creating: mallet-2.0.8/test/\n"
          ],
          "name": "stdout"
        }
      ]
    },
    {
      "cell_type": "code",
      "metadata": {
        "id": "XD1MaCjRfKOs",
        "colab_type": "code",
        "colab": {}
      },
      "source": [
        "os.environ['MALLET_HOME'] = '/content/mallet-2.0.8'\n",
        "mallet_path = '/content/mallet-2.0.8/bin/mallet'"
      ],
      "execution_count": 0,
      "outputs": []
    },
    {
      "cell_type": "code",
      "metadata": {
        "id": "Fr1F0QNdOxy3",
        "colab_type": "code",
        "colab": {}
      },
      "source": [
        "#Gensim installation\n",
        "import gensim\n",
        "from gensim.test.utils import common_corpus, common_dictionary\n",
        "from gensim import corpora, models\n",
        "from gensim.models.wrappers import LdaMallet"
      ],
      "execution_count": 0,
      "outputs": []
    },
    {
      "cell_type": "markdown",
      "metadata": {
        "id": "530LX-OLRDcP",
        "colab_type": "text"
      },
      "source": [
        "## 2.1 Preliminary steps to run LDA"
      ]
    },
    {
      "cell_type": "markdown",
      "metadata": {
        "id": "GZlLjmvsQAMy",
        "colab_type": "text"
      },
      "source": [
        "### 2.1.1 Bag of words"
      ]
    },
    {
      "cell_type": "code",
      "metadata": {
        "id": "UzxS5Q3aQ7mh",
        "colab_type": "code",
        "colab": {}
      },
      "source": [
        "# dataset = [d.split() for d in lemmatized_corpus] (this is not useful if lemmatized version is used)\n",
        "# Create Dictionary\n",
        "# change \"lemmatized_corpus\" variable by stemmed_corpus or tokenized_corpus_without_sw depending\n",
        "# on which version you would like to work with \n",
        "id2word = corpora.Dictionary(lemmatized_corpus)\n",
        "corpus = [id2word.doc2bow(text) for text in lemmatized_corpus]"
      ],
      "execution_count": 0,
      "outputs": []
    },
    {
      "cell_type": "code",
      "metadata": {
        "id": "-PHLCiEIT1Fn",
        "colab_type": "code",
        "colab": {}
      },
      "source": [
        "# create a human friendly view of term frequency list\n",
        "# I leave the line below for testing purposes\n",
        "# [[(id2word[id], freq) for id, freq in cp] for cp in corpus[:1000]]"
      ],
      "execution_count": 0,
      "outputs": []
    },
    {
      "cell_type": "code",
      "metadata": {
        "id": "wvegwXHIWZN6",
        "colab_type": "code",
        "colab": {}
      },
      "source": [
        "# list of words and frequency\n",
        "words = []\n",
        "frequency = []\n",
        "\n",
        "for cp in corpus:\n",
        "  word_id = list(cp[0])[0]\n",
        "  words.append(id2word[list(cp[0])[0]])\n",
        "  frequency.append(list(cp[0])[1])"
      ],
      "execution_count": 0,
      "outputs": []
    },
    {
      "cell_type": "code",
      "metadata": {
        "id": "lw70h9lUcPu5",
        "colab_type": "code",
        "colab": {}
      },
      "source": [
        "#testing\n",
        "#for cp in corpus[:10]:\n",
        "#  word_id = list(cp[0])[0]\n",
        "#  print (id2word[list(cp[0])[0]])\n",
        "#  print (list(cp[0])[1])"
      ],
      "execution_count": 0,
      "outputs": []
    },
    {
      "cell_type": "code",
      "metadata": {
        "id": "be9fXHn7Uqb6",
        "colab_type": "code",
        "colab": {}
      },
      "source": [
        "words_frequency = pd.DataFrame(list(zip(words, frequency)), columns=['word', 'frequency'])"
      ],
      "execution_count": 0,
      "outputs": []
    },
    {
      "cell_type": "code",
      "metadata": {
        "id": "m67ylcqwaQbd",
        "colab_type": "code",
        "outputId": "d5d48ca7-e6fa-434e-cc24-4e3a9bb3178e",
        "colab": {
          "base_uri": "https://localhost:8080/",
          "height": 359
        }
      },
      "source": [
        "# sort descending\n",
        "words_frequency.sort_values(by=['frequency'], ascending=False)[:10]\n",
        "# I think it gives the frequency on a per document basis (further testing needed)"
      ],
      "execution_count": 0,
      "outputs": [
        {
          "output_type": "execute_result",
          "data": {
            "text/html": [
              "<div>\n",
              "<style scoped>\n",
              "    .dataframe tbody tr th:only-of-type {\n",
              "        vertical-align: middle;\n",
              "    }\n",
              "\n",
              "    .dataframe tbody tr th {\n",
              "        vertical-align: top;\n",
              "    }\n",
              "\n",
              "    .dataframe thead th {\n",
              "        text-align: right;\n",
              "    }\n",
              "</style>\n",
              "<table border=\"1\" class=\"dataframe\">\n",
              "  <thead>\n",
              "    <tr style=\"text-align: right;\">\n",
              "      <th></th>\n",
              "      <th>word</th>\n",
              "      <th>frequency</th>\n",
              "    </tr>\n",
              "  </thead>\n",
              "  <tbody>\n",
              "    <tr>\n",
              "      <th>83</th>\n",
              "      <td>1903</td>\n",
              "      <td>5</td>\n",
              "    </tr>\n",
              "    <tr>\n",
              "      <th>45</th>\n",
              "      <td>altro</td>\n",
              "      <td>3</td>\n",
              "    </tr>\n",
              "    <tr>\n",
              "      <th>78</th>\n",
              "      <td>1903</td>\n",
              "      <td>3</td>\n",
              "    </tr>\n",
              "    <tr>\n",
              "      <th>60</th>\n",
              "      <td>alcun</td>\n",
              "      <td>3</td>\n",
              "    </tr>\n",
              "    <tr>\n",
              "      <th>19</th>\n",
              "      <td>accompagnare</td>\n",
              "      <td>3</td>\n",
              "    </tr>\n",
              "    <tr>\n",
              "      <th>15</th>\n",
              "      <td>1903</td>\n",
              "      <td>2</td>\n",
              "    </tr>\n",
              "    <tr>\n",
              "      <th>77</th>\n",
              "      <td>accompagnare</td>\n",
              "      <td>2</td>\n",
              "    </tr>\n",
              "    <tr>\n",
              "      <th>80</th>\n",
              "      <td>accompagnare</td>\n",
              "      <td>2</td>\n",
              "    </tr>\n",
              "    <tr>\n",
              "      <th>67</th>\n",
              "      <td>1903</td>\n",
              "      <td>2</td>\n",
              "    </tr>\n",
              "    <tr>\n",
              "      <th>86</th>\n",
              "      <td>accompagnare</td>\n",
              "      <td>2</td>\n",
              "    </tr>\n",
              "  </tbody>\n",
              "</table>\n",
              "</div>"
            ],
            "text/plain": [
              "            word  frequency\n",
              "83          1903          5\n",
              "45         altro          3\n",
              "78          1903          3\n",
              "60         alcun          3\n",
              "19  accompagnare          3\n",
              "15          1903          2\n",
              "77  accompagnare          2\n",
              "80  accompagnare          2\n",
              "67          1903          2\n",
              "86  accompagnare          2"
            ]
          },
          "metadata": {
            "tags": []
          },
          "execution_count": 75
        }
      ]
    },
    {
      "cell_type": "markdown",
      "metadata": {
        "id": "XQfodG72QFuB",
        "colab_type": "text"
      },
      "source": [
        "### 2.1.2 TFIDF"
      ]
    },
    {
      "cell_type": "code",
      "metadata": {
        "id": "BVEwQ1CyG_7l",
        "colab_type": "code",
        "colab": {}
      },
      "source": [
        "# optional\n",
        "# TFIDF for better performance\n",
        "# https://en.wikipedia.org/wiki/Tf–idf / \n",
        "# https://rare-technologies.com/pivoted-document-length-normalisation/\n",
        "\n",
        "tfidf = models.TfidfModel(corpus)\n",
        "corpus_tfidf = tfidf[corpus]"
      ],
      "execution_count": 0,
      "outputs": []
    },
    {
      "cell_type": "markdown",
      "metadata": {
        "id": "qadtU7aTQMqg",
        "colab_type": "text"
      },
      "source": [
        "## 2.2 LDA"
      ]
    },
    {
      "cell_type": "code",
      "metadata": {
        "id": "eLzvb_yC9nyo",
        "colab_type": "code",
        "colab": {}
      },
      "source": [
        "# set the number of topics here\n",
        "numtopics = 5"
      ],
      "execution_count": 0,
      "outputs": []
    },
    {
      "cell_type": "markdown",
      "metadata": {
        "id": "9u-BK_TCCRV1",
        "colab_type": "text"
      },
      "source": [
        "### 2.2.1 LDA with Gensim and without TFIDF"
      ]
    },
    {
      "cell_type": "code",
      "metadata": {
        "id": "7ODvMbxSCQh_",
        "colab_type": "code",
        "colab": {}
      },
      "source": [
        "ldagensim = models.LdaModel(corpus, id2word=id2word, num_topics=numtopics)"
      ],
      "execution_count": 0,
      "outputs": []
    },
    {
      "cell_type": "code",
      "metadata": {
        "id": "FLfpXjulCcS4",
        "colab_type": "code",
        "outputId": "a076dec5-b5fe-4f7f-ae29-35af31183972",
        "colab": {
          "base_uri": "https://localhost:8080/",
          "height": 207
        }
      },
      "source": [
        "ldagensim.print_topics()"
      ],
      "execution_count": 0,
      "outputs": [
        {
          "output_type": "execute_result",
          "data": {
            "text/plain": [
              "[(0,\n",
              "  '0.008*\"italiano\" + 0.003*\"dispaccio\" + 0.003*\"italia\" + 0.003*\"potere\" + 0.003*\"telegrafico\" + 0.003*\"venire\" + 0.003*\"daily\" + 0.002*\"roma\" + 0.002*\"giornale\" + 0.002*\"cardinale\"'),\n",
              " (1,\n",
              "  '0.006*\"italiano\" + 0.004*\"italia\" + 0.004*\"roma\" + 0.004*\"dispaccio\" + 0.003*\"potere\" + 0.003*\"telegrafico\" + 0.003*\"daily\" + 0.002*\"venire\" + 0.002*\"giornale\" + 0.002*\"nuovo\"'),\n",
              " (2,\n",
              "  '0.011*\"italiano\" + 0.005*\"italia\" + 0.004*\"roma\" + 0.004*\"dispaccio\" + 0.003*\"telegrafico\" + 0.003*\"venire\" + 0.003*\"giornale\" + 0.003*\"daily\" + 0.002*\"potere\" + 0.002*\"cardinale\"'),\n",
              " (3,\n",
              "  '0.004*\"italiano\" + 0.003*\"roma\" + 0.003*\"italia\" + 0.003*\"telegrafico\" + 0.003*\"dispaccio\" + 0.002*\"cardinale\" + 0.002*\"daily\" + 0.002*\"venire\" + 0.002*\"potere\" + 0.002*\"giornale\"'),\n",
              " (4,\n",
              "  '0.007*\"italiano\" + 0.004*\"dispaccio\" + 0.003*\"italia\" + 0.003*\"potere\" + 0.003*\"telegrafico\" + 0.003*\"roma\" + 0.003*\"venire\" + 0.003*\"giornale\" + 0.003*\"cardinale\" + 0.002*\"americano\"')]"
            ]
          },
          "metadata": {
            "tags": []
          },
          "execution_count": 89
        }
      ]
    },
    {
      "cell_type": "markdown",
      "metadata": {
        "id": "MVTTfNMqQRUV",
        "colab_type": "text"
      },
      "source": [
        "### 2.2.2 LDA with Gensim and TFIDF\n",
        "\n"
      ]
    },
    {
      "cell_type": "code",
      "metadata": {
        "id": "Q0cX9FbxEPno",
        "colab_type": "code",
        "colab": {}
      },
      "source": [
        "ldagensim_tfidf = models.LdaModel(corpus_tfidf, id2word=id2word, num_topics=numtopics)"
      ],
      "execution_count": 0,
      "outputs": []
    },
    {
      "cell_type": "code",
      "metadata": {
        "id": "WZyZcVw9E6bu",
        "colab_type": "code",
        "outputId": "c0686fdb-173a-4b53-9c5c-e6554e7504ba",
        "colab": {
          "base_uri": "https://localhost:8080/",
          "height": 207
        }
      },
      "source": [
        "ldagensim_tfidf.print_topics()"
      ],
      "execution_count": 0,
      "outputs": [
        {
          "output_type": "execute_result",
          "data": {
            "text/plain": [
              "[(0,\n",
              "  '0.000*\"cardinale\" + 0.000*\"ebreo\" + 0.000*\"black\" + 0.000*\"marconi\" + 0.000*\"mayor\" + 0.000*\"diamond\" + 0.000*\"maggio\" + 0.000*\"serbia\" + 0.000*\"lavoratore\" + 0.000*\"conclave\"'),\n",
              " (1,\n",
              "  '0.000*\"cardinale\" + 0.000*\"text\" + 0.000*\"available\" + 0.000*\"papa\" + 0.000*\"xiii\" + 0.000*\"leone\" + 0.000*\"conclave\" + 0.000*\"pontefice\" + 0.000*\"oreglia\" + 0.000*\"riduzione\"'),\n",
              " (2,\n",
              "  '0.000*\"marconi\" + 0.000*\"cardinale\" + 0.000*\"maggio\" + 0.000*\"conclave\" + 0.000*\"terno\" + 0.000*\"socialisto\" + 0.000*\"ferro\" + 0.000*\"pietro\" + 0.000*\"tolstoi\" + 0.000*\"papa\"'),\n",
              " (3,\n",
              "  '0.000*\"cardinale\" + 0.000*\"leone\" + 0.000*\"xiii\" + 0.000*\"marconi\" + 0.000*\"serbia\" + 0.000*\"papa\" + 0.000*\"conclave\" + 0.000*\"pontefice\" + 0.000*\"francia\" + 0.000*\"alessandro\"'),\n",
              " (4,\n",
              "  '0.000*\"cardinale\" + 0.000*\"marconi\" + 0.000*\"black\" + 0.000*\"diamond\" + 0.000*\"tolstoi\" + 0.000*\"california\" + 0.000*\"serbia\" + 0.000*\"immigrare\" + 0.000*\"guglielmo\" + 0.000*\"roosevelt\"')]"
            ]
          },
          "metadata": {
            "tags": []
          },
          "execution_count": 91
        }
      ]
    },
    {
      "cell_type": "markdown",
      "metadata": {
        "id": "jMh299U-Qowi",
        "colab_type": "text"
      },
      "source": [
        "### 2.2.3 LDA with Mallet, without TFIDF"
      ]
    },
    {
      "cell_type": "code",
      "metadata": {
        "id": "TNMEMY3LaQQ-",
        "colab_type": "code",
        "outputId": "cab42d6f-323a-4b4a-c532-bebcafa9a092",
        "colab": {
          "base_uri": "https://localhost:8080/",
          "height": 71
        }
      },
      "source": [
        "ldamallet = gensim.models.wrappers.LdaMallet(mallet_path, corpus=corpus, num_topics=numtopics, id2word=id2word)"
      ],
      "execution_count": 0,
      "outputs": [
        {
          "output_type": "stream",
          "text": [
            "/usr/local/lib/python3.6/dist-packages/smart_open/smart_open_lib.py:253: UserWarning: This function is deprecated, use smart_open.open instead. See the migration notes for details: https://github.com/RaRe-Technologies/smart_open/blob/master/README.rst#migrating-to-the-new-open-function\n",
            "  'See the migration notes for details: %s' % _MIGRATION_NOTES_URL\n"
          ],
          "name": "stderr"
        }
      ]
    },
    {
      "cell_type": "code",
      "metadata": {
        "id": "I7VpXA0cahdM",
        "colab_type": "code",
        "outputId": "83ac8f64-bda4-46cd-a14c-e28ea6172f20",
        "colab": {
          "base_uri": "https://localhost:8080/",
          "height": 207
        }
      },
      "source": [
        "ldamallet.print_topics()"
      ],
      "execution_count": 0,
      "outputs": [
        {
          "output_type": "execute_result",
          "data": {
            "text/plain": [
              "[(0,\n",
              "  '0.015*\"cardinale\" + 0.012*\"papa\" + 0.010*\"roma\" + 0.009*\"italiano\" + 0.006*\"chiesa\" + 0.006*\"pontefice\" + 0.006*\"vaticano\" + 0.005*\"nome\" + 0.005*\"leone\" + 0.005*\"venire\"'),\n",
              " (1,\n",
              "  '0.008*\"leggere\" + 0.008*\"potere\" + 0.006*\"dovere\" + 0.005*\"società\" + 0.005*\"popolare\" + 0.005*\"passare\" + 0.004*\"credere\" + 0.004*\"perchè\" + 0.004*\"nuovo\" + 0.004*\"diritto\"'),\n",
              " (2,\n",
              "  '0.011*\"dispaccio\" + 0.007*\"telegrafico\" + 0.006*\"parigi\" + 0.006*\"giugno\" + 0.005*\"pubblico\" + 0.005*\"venire\" + 0.005*\"ufficiale\" + 0.004*\"rimanere\" + 0.004*\"notizia\" + 0.004*\"dire\"'),\n",
              " (3,\n",
              "  '0.021*\"italiano\" + 0.012*\"italia\" + 0.007*\"potere\" + 0.007*\"york\" + 0.005*\"dare\" + 0.005*\"unito\" + 0.005*\"grande\" + 0.005*\"pubblicare\" + 0.005*\"americano\" + 0.005*\"operare\"'),\n",
              " (4,\n",
              "  '0.012*\"italiano\" + 0.009*\"dispaccio\" + 0.009*\"giornale\" + 0.008*\"roma\" + 0.007*\"telegrafico\" + 0.007*\"daily\" + 0.006*\"maggio\" + 0.005*\"gran\" + 0.005*\"italia\" + 0.005*\"presidente\"')]"
            ]
          },
          "metadata": {
            "tags": []
          },
          "execution_count": 81
        }
      ]
    },
    {
      "cell_type": "markdown",
      "metadata": {
        "id": "uUkbiYBhRCUr",
        "colab_type": "text"
      },
      "source": [
        "### 2.2.4 LDA with Mallet with TFIDF"
      ]
    },
    {
      "cell_type": "code",
      "metadata": {
        "id": "azYf-I5C_bfF",
        "colab_type": "code",
        "colab": {}
      },
      "source": [
        "# !Apparently this approach doesn't work with the Mallet wrapper\n",
        "# https://groups.google.com/forum/#!topic/gensim/XDcdzM9vtmQ"
      ],
      "execution_count": 0,
      "outputs": []
    },
    {
      "cell_type": "code",
      "metadata": {
        "id": "AM8DYkIcHbFJ",
        "colab_type": "code",
        "outputId": "d0d85c90-9224-4ec0-f276-56cbf346a1fe",
        "colab": {
          "base_uri": "https://localhost:8080/",
          "height": 71
        }
      },
      "source": [
        "ldamallet_tfidf = gensim.models.wrappers.LdaMallet(mallet_path, corpus=corpus_tfidf, num_topics=numtopics, id2word=id2word)"
      ],
      "execution_count": 0,
      "outputs": [
        {
          "output_type": "stream",
          "text": [
            "/usr/local/lib/python3.6/dist-packages/smart_open/smart_open_lib.py:253: UserWarning: This function is deprecated, use smart_open.open instead. See the migration notes for details: https://github.com/RaRe-Technologies/smart_open/blob/master/README.rst#migrating-to-the-new-open-function\n",
            "  'See the migration notes for details: %s' % _MIGRATION_NOTES_URL\n"
          ],
          "name": "stderr"
        }
      ]
    },
    {
      "cell_type": "code",
      "metadata": {
        "id": "E8ClswTsHkEW",
        "colab_type": "code",
        "outputId": "e76d2e18-e312-43ef-8701-2b0e22fe599d",
        "colab": {
          "base_uri": "https://localhost:8080/",
          "height": 241
        }
      },
      "source": [
        "ldamallet_tfidf.print_topics()"
      ],
      "execution_count": 0,
      "outputs": [
        {
          "output_type": "stream",
          "text": [
            "/usr/local/lib/python3.6/dist-packages/gensim/models/wrappers/ldamallet.py:442: RuntimeWarning: invalid value encountered in true_divide\n",
            "  topic = topic / topic.sum()  # normalize to probability dist\n"
          ],
          "name": "stderr"
        },
        {
          "output_type": "execute_result",
          "data": {
            "text/plain": [
              "[(0,\n",
              "  'nan*\"parecehl\" + nan*\"partiiolarl\" + nan*\"orric\" + nan*\"pagr8\" + nan*\"paikret\" + nan*\"pareatl\" + nan*\"ornala\" + nan*\"peraio\" + nan*\"pauisimn\" + nan*\"onnipo\"'),\n",
              " (1,\n",
              "  'nan*\"parecehl\" + nan*\"partiiolarl\" + nan*\"orric\" + nan*\"pagr8\" + nan*\"paikret\" + nan*\"pareatl\" + nan*\"ornala\" + nan*\"peraio\" + nan*\"pauisimn\" + nan*\"onnipo\"'),\n",
              " (2,\n",
              "  'nan*\"parecehl\" + nan*\"partiiolarl\" + nan*\"orric\" + nan*\"pagr8\" + nan*\"paikret\" + nan*\"pareatl\" + nan*\"ornala\" + nan*\"peraio\" + nan*\"pauisimn\" + nan*\"onnipo\"'),\n",
              " (3,\n",
              "  'nan*\"parecehl\" + nan*\"partiiolarl\" + nan*\"orric\" + nan*\"pagr8\" + nan*\"paikret\" + nan*\"pareatl\" + nan*\"ornala\" + nan*\"peraio\" + nan*\"pauisimn\" + nan*\"onnipo\"'),\n",
              " (4,\n",
              "  'nan*\"parecehl\" + nan*\"partiiolarl\" + nan*\"orric\" + nan*\"pagr8\" + nan*\"paikret\" + nan*\"pareatl\" + nan*\"ornala\" + nan*\"peraio\" + nan*\"pauisimn\" + nan*\"onnipo\"')]"
            ]
          },
          "metadata": {
            "tags": []
          },
          "execution_count": 83
        }
      ]
    },
    {
      "cell_type": "markdown",
      "metadata": {
        "id": "SSL1PF6zRcft",
        "colab_type": "text"
      },
      "source": [
        "## 2.3 Topic Coherence\n",
        "Topic Coherence measures score of a single topic by measuring the degree of semantic similarity between high scoring words in the topic. https://towardsdatascience.com/evaluate-topic-model-in-python-latent-dirichlet-allocation-lda-7d57484bb5d0"
      ]
    },
    {
      "cell_type": "code",
      "metadata": {
        "id": "GX69kVo-ssrV",
        "colab_type": "code",
        "colab": {}
      },
      "source": [
        "from gensim.models.coherencemodel import CoherenceModel"
      ],
      "execution_count": 0,
      "outputs": []
    },
    {
      "cell_type": "markdown",
      "metadata": {
        "id": "JrAOlaIXSUvb",
        "colab_type": "text"
      },
      "source": [
        "### 2.3.1 Coherence score LDA Gensim without TFIDF"
      ]
    },
    {
      "cell_type": "code",
      "metadata": {
        "id": "XVMfqVqZSbeJ",
        "colab_type": "code",
        "outputId": "6dd6b7f9-345f-4f02-afbd-fa2d0a16845a",
        "colab": {
          "base_uri": "https://localhost:8080/",
          "height": 51
        }
      },
      "source": [
        "coherence_model_ldagensim = CoherenceModel(model=ldagensim, texts=lemmatized_corpus, dictionary=id2word, coherence='c_v')\n",
        "coherence_ldagensim = coherence_model_ldagensim.get_coherence()\n",
        "print('\\nCoherence Score LDA Gensim: ', coherence_ldagensim)"
      ],
      "execution_count": 0,
      "outputs": [
        {
          "output_type": "stream",
          "text": [
            "\n",
            "Coherence Score LDA Gensim:  0.45713168419834027\n"
          ],
          "name": "stdout"
        }
      ]
    },
    {
      "cell_type": "markdown",
      "metadata": {
        "id": "k3wzqWkkC0nW",
        "colab_type": "text"
      },
      "source": [
        "### 2.3.2 Coherence score LDA Gensim with TFIDF"
      ]
    },
    {
      "cell_type": "code",
      "metadata": {
        "id": "CD1B12bPC8mW",
        "colab_type": "code",
        "outputId": "aecbf903-7a0a-49de-f8a4-2d24c7d1638d",
        "colab": {
          "base_uri": "https://localhost:8080/",
          "height": 51
        }
      },
      "source": [
        "coherence_model_ldagensim_tfidf = CoherenceModel(model=ldagensim_tfidf, texts=lemmatized_corpus, dictionary=id2word, coherence='c_v')\n",
        "coherence_ldagensim_tfidf = coherence_model_ldagensim_tfidf.get_coherence()\n",
        "print('\\nCoherence Score LDA Gensim TFIDF: ', coherence_ldagensim_tfidf)"
      ],
      "execution_count": 0,
      "outputs": [
        {
          "output_type": "stream",
          "text": [
            "\n",
            "Coherence Score LDA Gensim TFIDF:  0.39283971724985467\n"
          ],
          "name": "stdout"
        }
      ]
    },
    {
      "cell_type": "markdown",
      "metadata": {
        "id": "9S5nI7YiSACT",
        "colab_type": "text"
      },
      "source": [
        "### 2.3.1 Coherence score LDA Mallet\n"
      ]
    },
    {
      "cell_type": "code",
      "metadata": {
        "id": "KmPJGdnHsafA",
        "colab_type": "code",
        "outputId": "6d010bad-5664-40fb-9dd5-0b38d7fb3447",
        "colab": {
          "base_uri": "https://localhost:8080/",
          "height": 51
        }
      },
      "source": [
        "coherence_model_ldamallet = CoherenceModel(model=ldamallet, texts=lemmatized_corpus, dictionary=id2word, coherence='c_v')\n",
        "coherence_ldamallet = coherence_model_ldamallet.get_coherence()\n",
        "print('\\nCoherence Score LDA MAllet: ', coherence_ldamallet)"
      ],
      "execution_count": 0,
      "outputs": [
        {
          "output_type": "stream",
          "text": [
            "\n",
            "Coherence Score LDA MAllet:  0.3868305042650206\n"
          ],
          "name": "stdout"
        }
      ]
    },
    {
      "cell_type": "markdown",
      "metadata": {
        "id": "dQzL_DdsSL2_",
        "colab_type": "text"
      },
      "source": [
        "### 2.3.1 Coherence score LDA Mallet with TFIDF"
      ]
    },
    {
      "cell_type": "code",
      "metadata": {
        "id": "1CRbD8veND70",
        "colab_type": "code",
        "outputId": "9d58446a-ddb9-403a-aed8-b4d4a1b981b0",
        "colab": {
          "base_uri": "https://localhost:8080/",
          "height": 105
        }
      },
      "source": [
        "# coherence score LDA with TFIDF (5 topics)\n",
        "coherence_model_ldamallet_tfidf = CoherenceModel(model=ldamallet_tfidf, texts=lemmatized_corpus, dictionary=id2word, coherence='c_v')\n",
        "coherence_ldamallet_tfidf = coherence_model_ldamallet_tfidf.get_coherence()\n",
        "print('\\nCoherence Score LDA Mallet TFIDF: ', coherence_ldamallet_tfidf)"
      ],
      "execution_count": 0,
      "outputs": [
        {
          "output_type": "stream",
          "text": [
            "\n",
            "Coherence Score LDA Mallet TFIDF:  0.6899070873639183\n"
          ],
          "name": "stdout"
        },
        {
          "output_type": "stream",
          "text": [
            "/usr/local/lib/python3.6/dist-packages/gensim/models/wrappers/ldamallet.py:373: RuntimeWarning: invalid value encountered in true_divide\n",
            "  return topics / topics.sum(axis=1)[:, None]\n"
          ],
          "name": "stderr"
        }
      ]
    },
    {
      "cell_type": "markdown",
      "metadata": {
        "id": "pjImnk4wAh4u",
        "colab_type": "text"
      },
      "source": [
        "## 2.4 Coherence and number of topics"
      ]
    },
    {
      "cell_type": "markdown",
      "metadata": {
        "colab_type": "text",
        "id": "-C8GGNUoGAuf"
      },
      "source": [
        "### 2.4.1 Without TFIDF"
      ]
    },
    {
      "cell_type": "code",
      "metadata": {
        "colab_type": "code",
        "id": "lWD51u4PGAuh",
        "colab": {}
      },
      "source": [
        "# Function to calculate optimal number of topics for LDA Gensim\n",
        "# https://www.machinelearningplus.com/nlp/topic-modeling-gensim-python/\n",
        "\n",
        "def compute_coherence_values(dictionary, corpus, texts, limit, start=2, step=3):\n",
        "    coherence_values = []\n",
        "    model_list = []\n",
        "    for num_topics in range(start, limit, step):\n",
        "        model = models.LdaModel(corpus, id2word=id2word, num_topics=num_topics)\n",
        "        model_list.append(model)\n",
        "        coherencemodel = CoherenceModel(model=model, texts=lemmatized_corpus, dictionary=dictionary, coherence='c_v')\n",
        "        coherence_values.append(coherencemodel.get_coherence())\n",
        "\n",
        "    return model_list, coherence_values"
      ],
      "execution_count": 0,
      "outputs": []
    },
    {
      "cell_type": "code",
      "metadata": {
        "colab_type": "code",
        "id": "I7S3LdEHGAuk",
        "colab": {}
      },
      "source": [
        "# the cell below runs the function set just above and can take a long time to run (20-30 min)\n",
        "model_list, coherence_values = compute_coherence_values(dictionary=id2word, corpus=corpus, texts=lemmatized_corpus, start=2, limit=40, step=1)\n"
      ],
      "execution_count": 0,
      "outputs": []
    },
    {
      "cell_type": "code",
      "metadata": {
        "colab_type": "code",
        "outputId": "d55b6a97-e03b-4136-a2cf-25c6ac5f2f5f",
        "id": "OwiaZzWFGAup",
        "colab": {
          "base_uri": "https://localhost:8080/",
          "height": 323
        }
      },
      "source": [
        "# Store the value of the coherence scores for plotting later\n",
        "topics_nr = []\n",
        "topics_scores = []\n",
        "limit=20; start=2; step=1;\n",
        "x = range(start, limit, step)\n",
        "\n",
        "for m, cv in zip(x, coherence_values):\n",
        "    topics_nr.append(str(m))\n",
        "    topics_scores.append(round(cv, 4))\n",
        "    print(\"Num Topics =\", m, \" has Coherence Value of\", round(cv, 4))"
      ],
      "execution_count": 0,
      "outputs": [
        {
          "output_type": "stream",
          "text": [
            "Num Topics = 2  has Coherence Value of 0.284\n",
            "Num Topics = 3  has Coherence Value of 0.2749\n",
            "Num Topics = 4  has Coherence Value of 0.2939\n",
            "Num Topics = 5  has Coherence Value of 0.2935\n",
            "Num Topics = 6  has Coherence Value of 0.2908\n",
            "Num Topics = 7  has Coherence Value of 0.2874\n",
            "Num Topics = 8  has Coherence Value of 0.2861\n",
            "Num Topics = 9  has Coherence Value of 0.2925\n",
            "Num Topics = 10  has Coherence Value of 0.2902\n",
            "Num Topics = 11  has Coherence Value of 0.2892\n",
            "Num Topics = 12  has Coherence Value of 0.2901\n",
            "Num Topics = 13  has Coherence Value of 0.2833\n",
            "Num Topics = 14  has Coherence Value of 0.2908\n",
            "Num Topics = 15  has Coherence Value of 0.2943\n",
            "Num Topics = 16  has Coherence Value of 0.2911\n",
            "Num Topics = 17  has Coherence Value of 0.2974\n",
            "Num Topics = 18  has Coherence Value of 0.2864\n",
            "Num Topics = 19  has Coherence Value of 0.2973\n"
          ],
          "name": "stdout"
        }
      ]
    },
    {
      "cell_type": "code",
      "metadata": {
        "colab_type": "code",
        "id": "H2NSeh81GAur",
        "colab": {}
      },
      "source": [
        "# Visualize coherence scores\n",
        "import matplotlib.pyplot as plt"
      ],
      "execution_count": 0,
      "outputs": []
    },
    {
      "cell_type": "code",
      "metadata": {
        "colab_type": "code",
        "outputId": "97fed2f9-1a53-4b32-b75d-0e52958ecdfb",
        "id": "YdA1u15bGAut",
        "colab": {
          "base_uri": "https://localhost:8080/",
          "height": 282
        }
      },
      "source": [
        "plt.plot(topics_nr, topics_scores)"
      ],
      "execution_count": 0,
      "outputs": [
        {
          "output_type": "execute_result",
          "data": {
            "text/plain": [
              "[<matplotlib.lines.Line2D at 0x7effc039f518>]"
            ]
          },
          "metadata": {
            "tags": []
          },
          "execution_count": 103
        },
        {
          "output_type": "display_data",
          "data": {
            "image/png": "[encoded data removed]",
            "text/plain": [
              "<Figure size 432x288 with 1 Axes>"
            ]
          },
          "metadata": {
            "tags": [],
            "needs_background": "light"
          }
        }
      ]
    },
    {
      "cell_type": "code",
      "metadata": {
        "colab_type": "code",
        "id": "28j3eHrRGAuv",
        "colab": {}
      },
      "source": [
        "# To analyse the results, the user can print the list of topics for different topic nr"
      ],
      "execution_count": 0,
      "outputs": []
    },
    {
      "cell_type": "code",
      "metadata": {
        "colab_type": "code",
        "outputId": "d1ab9af4-1bc2-48aa-c782-d39448265040",
        "id": "Cg6OgRt7GAuy",
        "colab": {
          "base_uri": "https://localhost:8080/",
          "height": 615
        }
      },
      "source": [
        "# print topics for nr of topics = 17\n",
        "numtopics = 17\n",
        "models.LdaModel(corpus, id2word=id2word, num_topics=numtopics).print_topics()"
      ],
      "execution_count": 0,
      "outputs": [
        {
          "output_type": "execute_result",
          "data": {
            "text/plain": [
              "[(0,\n",
              "  '0.009*\"italiano\" + 0.004*\"roma\" + 0.004*\"italia\" + 0.004*\"dispaccio\" + 0.003*\"venire\" + 0.003*\"potere\" + 0.003*\"daily\" + 0.003*\"telegrafico\" + 0.002*\"cardinale\" + 0.002*\"giornale\"'),\n",
              " (1,\n",
              "  '0.006*\"italiano\" + 0.003*\"italia\" + 0.003*\"giornale\" + 0.002*\"venire\" + 0.002*\"potere\" + 0.002*\"cardinale\" + 0.002*\"telegrafico\" + 0.002*\"daily\" + 0.002*\"dire\" + 0.002*\"roma\"'),\n",
              " (2,\n",
              "  '0.007*\"italiano\" + 0.004*\"roma\" + 0.004*\"italia\" + 0.004*\"dispaccio\" + 0.003*\"telegrafico\" + 0.003*\"venire\" + 0.003*\"potere\" + 0.003*\"daily\" + 0.003*\"giornale\" + 0.002*\"mentire\"'),\n",
              " (3,\n",
              "  '0.007*\"italiano\" + 0.005*\"italia\" + 0.004*\"dispaccio\" + 0.003*\"roma\" + 0.003*\"telegrafico\" + 0.003*\"potere\" + 0.002*\"venire\" + 0.002*\"giornale\" + 0.002*\"daily\" + 0.002*\"cardinale\"'),\n",
              " (4,\n",
              "  '0.008*\"italiano\" + 0.004*\"italia\" + 0.004*\"potere\" + 0.003*\"dispaccio\" + 0.003*\"roma\" + 0.003*\"telegrafico\" + 0.002*\"daily\" + 0.002*\"venire\" + 0.002*\"giornale\" + 0.002*\"nome\"'),\n",
              " (5,\n",
              "  '0.008*\"italiano\" + 0.005*\"italia\" + 0.004*\"roma\" + 0.004*\"venire\" + 0.004*\"dispaccio\" + 0.003*\"telegrafico\" + 0.003*\"potere\" + 0.003*\"cardinale\" + 0.003*\"giornale\" + 0.002*\"daily\"'),\n",
              " (6,\n",
              "  '0.007*\"italiano\" + 0.004*\"italia\" + 0.004*\"roma\" + 0.003*\"daily\" + 0.003*\"cardinale\" + 0.003*\"nuovo\" + 0.002*\"giornale\" + 0.002*\"telegrafico\" + 0.002*\"potere\" + 0.002*\"dispaccio\"'),\n",
              " (7,\n",
              "  '0.007*\"italiano\" + 0.005*\"dispaccio\" + 0.004*\"italia\" + 0.004*\"telegrafico\" + 0.003*\"roma\" + 0.003*\"venire\" + 0.003*\"giornale\" + 0.002*\"dire\" + 0.002*\"cardinale\" + 0.002*\"york\"'),\n",
              " (8,\n",
              "  '0.008*\"italiano\" + 0.004*\"dispaccio\" + 0.003*\"italia\" + 0.003*\"daily\" + 0.003*\"roma\" + 0.002*\"telegrafico\" + 0.002*\"potere\" + 0.002*\"venire\" + 0.002*\"giornale\" + 0.002*\"gran\"'),\n",
              " (9,\n",
              "  '0.005*\"italiano\" + 0.003*\"dispaccio\" + 0.003*\"venire\" + 0.003*\"italia\" + 0.003*\"roma\" + 0.003*\"cardinale\" + 0.003*\"telegrafico\" + 0.003*\"potere\" + 0.002*\"daily\" + 0.002*\"giornale\"'),\n",
              " (10,\n",
              "  '0.006*\"italiano\" + 0.005*\"dispaccio\" + 0.003*\"italia\" + 0.003*\"giornale\" + 0.003*\"telegrafico\" + 0.003*\"venire\" + 0.003*\"potere\" + 0.003*\"roma\" + 0.002*\"daily\" + 0.002*\"gran\"'),\n",
              " (11,\n",
              "  '0.006*\"italiano\" + 0.004*\"telegrafico\" + 0.004*\"italia\" + 0.003*\"roma\" + 0.003*\"dispaccio\" + 0.003*\"potere\" + 0.002*\"venire\" + 0.002*\"dire\" + 0.002*\"daily\" + 0.002*\"gran\"'),\n",
              " (12,\n",
              "  '0.008*\"italiano\" + 0.004*\"italia\" + 0.003*\"roma\" + 0.003*\"telegrafico\" + 0.003*\"cardinale\" + 0.003*\"daily\" + 0.003*\"potere\" + 0.003*\"giornale\" + 0.003*\"dispaccio\" + 0.002*\"venire\"'),\n",
              " (13,\n",
              "  '0.008*\"italiano\" + 0.004*\"dispaccio\" + 0.003*\"giornale\" + 0.003*\"roma\" + 0.003*\"italia\" + 0.003*\"telegrafico\" + 0.003*\"potere\" + 0.002*\"venire\" + 0.002*\"daily\" + 0.002*\"cardinale\"'),\n",
              " (14,\n",
              "  '0.008*\"italiano\" + 0.004*\"italia\" + 0.004*\"dispaccio\" + 0.003*\"telegrafico\" + 0.003*\"venire\" + 0.003*\"roma\" + 0.003*\"giornale\" + 0.002*\"daily\" + 0.002*\"potere\" + 0.002*\"dire\"'),\n",
              " (15,\n",
              "  '0.009*\"italiano\" + 0.004*\"roma\" + 0.004*\"dispaccio\" + 0.004*\"potere\" + 0.003*\"italia\" + 0.003*\"venire\" + 0.003*\"telegrafico\" + 0.003*\"daily\" + 0.002*\"mentire\" + 0.002*\"giornale\"'),\n",
              " (16,\n",
              "  '0.008*\"italiano\" + 0.004*\"dispaccio\" + 0.003*\"italia\" + 0.003*\"cardinale\" + 0.003*\"telegrafico\" + 0.003*\"roma\" + 0.003*\"venire\" + 0.002*\"giornale\" + 0.002*\"daily\" + 0.002*\"dovere\"')]"
            ]
          },
          "metadata": {
            "tags": []
          },
          "execution_count": 105
        }
      ]
    },
    {
      "cell_type": "markdown",
      "metadata": {
        "id": "FazsvYeYDxo0",
        "colab_type": "text"
      },
      "source": [
        "### 2.4.2 With TFIDF"
      ]
    },
    {
      "cell_type": "code",
      "metadata": {
        "id": "BnliBI5FTBDd",
        "colab_type": "code",
        "colab": {}
      },
      "source": [
        "# Function to calculate optimal number of topics for LDA Gensim\n",
        "# https://www.machinelearningplus.com/nlp/topic-modeling-gensim-python/\n",
        "\n",
        "def compute_coherence_values(dictionary, corpus, texts, limit, start=2, step=3):\n",
        "    coherence_values = []\n",
        "    model_list = []\n",
        "    for num_topics in range(start, limit, step):\n",
        "        model = models.LdaModel(corpus_tfidf, id2word=id2word, num_topics=num_topics)\n",
        "        model_list.append(model)\n",
        "        coherencemodel = CoherenceModel(model=model, texts=lemmatized_corpus, dictionary=dictionary, coherence='c_v')\n",
        "        coherence_values.append(coherencemodel.get_coherence())\n",
        "\n",
        "    return model_list, coherence_values"
      ],
      "execution_count": 0,
      "outputs": []
    },
    {
      "cell_type": "code",
      "metadata": {
        "id": "jXYUNs6hZs4W",
        "colab_type": "code",
        "outputId": "a806b1e5-118a-47e4-f1e5-c08e74db38e3",
        "colab": {
          "base_uri": "https://localhost:8080/",
          "height": 71
        }
      },
      "source": [
        "# the cell below runs the function set just above and can take a long time to run (20-30 min)\n",
        "model_list, coherence_values = compute_coherence_values(dictionary=id2word, corpus=corpus_tfidf, texts=lemmatized_corpus, start=2, limit=40, step=1)\n"
      ],
      "execution_count": 0,
      "outputs": [
        {
          "output_type": "stream",
          "text": [
            "/usr/local/lib/python3.6/dist-packages/gensim/models/ldamodel.py:807: RuntimeWarning: overflow encountered in exp2\n",
            "  perwordbound, np.exp2(-perwordbound), len(chunk), corpus_words\n"
          ],
          "name": "stderr"
        }
      ]
    },
    {
      "cell_type": "code",
      "metadata": {
        "id": "kCTd2CQOZ99R",
        "colab_type": "code",
        "outputId": "4856e06b-45f8-4bd0-8ba3-d07c85c4ad38",
        "colab": {
          "base_uri": "https://localhost:8080/",
          "height": 323
        }
      },
      "source": [
        "# Store the value of the coherence scores for plotting later\n",
        "topics_nr = []\n",
        "topics_scores = []\n",
        "limit=20; start=2; step=1;\n",
        "x = range(start, limit, step)\n",
        "\n",
        "for m, cv in zip(x, coherence_values):\n",
        "    topics_nr.append(str(m))\n",
        "    topics_scores.append(round(cv, 4))\n",
        "    print(\"Num Topics =\", m, \" has Coherence Value of\", round(cv, 4))"
      ],
      "execution_count": 0,
      "outputs": [
        {
          "output_type": "stream",
          "text": [
            "Num Topics = 2  has Coherence Value of 0.3032\n",
            "Num Topics = 3  has Coherence Value of 0.3301\n",
            "Num Topics = 4  has Coherence Value of 0.3346\n",
            "Num Topics = 5  has Coherence Value of 0.4466\n",
            "Num Topics = 6  has Coherence Value of 0.468\n",
            "Num Topics = 7  has Coherence Value of 0.519\n",
            "Num Topics = 8  has Coherence Value of 0.4595\n",
            "Num Topics = 9  has Coherence Value of 0.512\n",
            "Num Topics = 10  has Coherence Value of 0.5274\n",
            "Num Topics = 11  has Coherence Value of 0.5062\n",
            "Num Topics = 12  has Coherence Value of 0.4984\n",
            "Num Topics = 13  has Coherence Value of 0.5193\n",
            "Num Topics = 14  has Coherence Value of 0.5304\n",
            "Num Topics = 15  has Coherence Value of 0.5478\n",
            "Num Topics = 16  has Coherence Value of 0.5468\n",
            "Num Topics = 17  has Coherence Value of 0.5163\n",
            "Num Topics = 18  has Coherence Value of 0.516\n",
            "Num Topics = 19  has Coherence Value of 0.5309\n"
          ],
          "name": "stdout"
        }
      ]
    },
    {
      "cell_type": "code",
      "metadata": {
        "id": "XUNk4xxmMjL2",
        "colab_type": "code",
        "colab": {}
      },
      "source": [
        "# Visualize coherence scores\n",
        "import matplotlib.pyplot as plt"
      ],
      "execution_count": 0,
      "outputs": []
    },
    {
      "cell_type": "code",
      "metadata": {
        "id": "oIso5UpAMk02",
        "colab_type": "code",
        "outputId": "47c485a4-6beb-4e04-a7b7-d06f732c6621",
        "colab": {
          "base_uri": "https://localhost:8080/",
          "height": 282
        }
      },
      "source": [
        "plt.plot(topics_nr, topics_scores)"
      ],
      "execution_count": 0,
      "outputs": [
        {
          "output_type": "execute_result",
          "data": {
            "text/plain": [
              "[<matplotlib.lines.Line2D at 0x7effc03bfe80>]"
            ]
          },
          "metadata": {
            "tags": []
          },
          "execution_count": 97
        },
        {
          "output_type": "display_data",
          "data": {
            "image/png": "[encoded data removed]",
            "text/plain": [
              "<Figure size 432x288 with 1 Axes>"
            ]
          },
          "metadata": {
            "tags": [],
            "needs_background": "light"
          }
        }
      ]
    },
    {
      "cell_type": "code",
      "metadata": {
        "id": "zaRiYNAlQKY6",
        "colab_type": "code",
        "colab": {}
      },
      "source": [
        "# To analyse the results, the user can print the list of topics for different topic nr"
      ],
      "execution_count": 0,
      "outputs": []
    },
    {
      "cell_type": "code",
      "metadata": {
        "id": "JiK6edH3RA4G",
        "colab_type": "code",
        "outputId": "3877cdd4-2d30-471c-9ff2-a979b1398c23",
        "colab": {
          "base_uri": "https://localhost:8080/",
          "height": 275
        }
      },
      "source": [
        "# print topics for nr of topics = 7\n",
        "numtopics = 7\n",
        "models.LdaModel(corpus_tfidf, id2word=id2word, num_topics=numtopics).print_topics()"
      ],
      "execution_count": 0,
      "outputs": [
        {
          "output_type": "execute_result",
          "data": {
            "text/plain": [
              "[(0,\n",
              "  '0.000*\"cardinale\" + 0.000*\"studente\" + 0.000*\"papato\" + 0.000*\"imperatore\" + 0.000*\"marconi\" + 0.000*\"xiii\" + 0.000*\"milano\" + 0.000*\"terno\" + 0.000*\"sezione\" + 0.000*\"garibaldi\"'),\n",
              " (1,\n",
              "  '0.000*\"available\" + 0.000*\"text\" + 0.000*\"cardinale\" + 0.000*\"diamond\" + 0.000*\"black\" + 0.000*\"pescatore\" + 0.000*\"conclave\" + 0.000*\"salmone\" + 0.000*\"marconi\" + 0.000*\"cleveland\"'),\n",
              " (2,\n",
              "  '0.000*\"marconi\" + 0.000*\"cardinale\" + 0.000*\"immigrare\" + 0.000*\"riduzione\" + 0.000*\"congresso\" + 0.000*\"papa\" + 0.000*\"emigrare\" + 0.000*\"pecel\" + 0.000*\"regalare\" + 0.000*\"esplosione\"'),\n",
              " (3,\n",
              "  '0.000*\"ebreo\" + 0.000*\"mascagni\" + 0.000*\"edoardo\" + 0.000*\"salma\" + 0.000*\"cardinale\" + 0.000*\"marconi\" + 0.000*\"uovo\" + 0.000*\"eruzione\" + 0.000*\"miniera\" + 0.000*\"conclave\"'),\n",
              " (4,\n",
              "  '0.000*\"cardinale\" + 0.000*\"tolstoi\" + 0.000*\"leone\" + 0.000*\"xiii\" + 0.000*\"xlll\" + 0.000*\"sognatore\" + 0.000*\"papa\" + 0.000*\"pontefice\" + 0.000*\"emigrare\" + 0.000*\"popolo\"'),\n",
              " (5,\n",
              "  '0.000*\"cardinale\" + 0.000*\"oreglia\" + 0.000*\"marconi\" + 0.000*\"papa\" + 0.000*\"guglielmo\" + 0.000*\"roosevelt\" + 0.000*\"pontefice\" + 0.000*\"victor\" + 0.000*\"diamond\" + 0.000*\"sindacare\"'),\n",
              " (6,\n",
              "  '0.000*\"cardinale\" + 0.000*\"produzione\" + 0.000*\"terno\" + 0.000*\"voto\" + 0.000*\"belgrado\" + 0.000*\"serbia\" + 0.000*\"militarismo\" + 0.000*\"sardegna\" + 0.000*\"mercantile\" + 0.000*\"notte\"')]"
            ]
          },
          "metadata": {
            "tags": []
          },
          "execution_count": 106
        }
      ]
    },
    {
      "cell_type": "markdown",
      "metadata": {
        "id": "AkR9e8X_Nb5D",
        "colab_type": "text"
      },
      "source": [
        "## 2.5 Visualize the topic keywords"
      ]
    },
    {
      "cell_type": "code",
      "metadata": {
        "id": "fmkVm4GnNkxM",
        "colab_type": "code",
        "colab": {
          "base_uri": "https://localhost:8080/",
          "height": 632
        },
        "outputId": "893e2a30-da65-4644-c8f4-1208d24acca4"
      },
      "source": [
        "# Plotting tools\n",
        "! pip install pyldavis\n",
        "import pyLDAvis\n",
        "import pyLDAvis.gensim"
      ],
      "execution_count": 109,
      "outputs": [
        {
          "output_type": "stream",
          "text": [
            "Collecting pyldavis\n",
            "\u001b[?25l  Downloading https://files.pythonhosted.org/packages/a5/3a/af82e070a8a96e13217c8f362f9a73e82d61ac8fff3a2561946a97f96266/pyLDAvis-2.1.2.tar.gz (1.6MB)\n",
            "\u001b[K     |████████████████████████████████| 1.6MB 2.8MB/s \n",
            "\u001b[?25hRequirement already satisfied: wheel>=0.23.0 in /usr/local/lib/python3.6/dist-packages (from pyldavis) (0.34.2)\n",
            "Requirement already satisfied: numpy>=1.9.2 in /usr/local/lib/python3.6/dist-packages (from pyldavis) (1.18.4)\n",
            "Requirement already satisfied: scipy>=0.18.0 in /usr/local/lib/python3.6/dist-packages (from pyldavis) (1.4.1)\n",
            "Requirement already satisfied: pandas>=0.17.0 in /usr/local/lib/python3.6/dist-packages (from pyldavis) (1.0.3)\n",
            "Requirement already satisfied: joblib>=0.8.4 in /usr/local/lib/python3.6/dist-packages (from pyldavis) (0.14.1)\n",
            "Requirement already satisfied: jinja2>=2.7.2 in /usr/local/lib/python3.6/dist-packages (from pyldavis) (2.11.2)\n",
            "Requirement already satisfied: numexpr in /usr/local/lib/python3.6/dist-packages (from pyldavis) (2.7.1)\n",
            "Requirement already satisfied: pytest in /usr/local/lib/python3.6/dist-packages (from pyldavis) (3.6.4)\n",
            "Requirement already satisfied: future in /usr/local/lib/python3.6/dist-packages (from pyldavis) (0.16.0)\n",
            "Collecting funcy\n",
            "\u001b[?25l  Downloading https://files.pythonhosted.org/packages/ce/4b/6ffa76544e46614123de31574ad95758c421aae391a1764921b8a81e1eae/funcy-1.14.tar.gz (548kB)\n",
            "\u001b[K     |████████████████████████████████| 552kB 18.9MB/s \n",
            "\u001b[?25hRequirement already satisfied: python-dateutil>=2.6.1 in /usr/local/lib/python3.6/dist-packages (from pandas>=0.17.0->pyldavis) (2.8.1)\n",
            "Requirement already satisfied: pytz>=2017.2 in /usr/local/lib/python3.6/dist-packages (from pandas>=0.17.0->pyldavis) (2018.9)\n",
            "Requirement already satisfied: MarkupSafe>=0.23 in /usr/local/lib/python3.6/dist-packages (from jinja2>=2.7.2->pyldavis) (1.1.1)\n",
            "Requirement already satisfied: atomicwrites>=1.0 in /usr/local/lib/python3.6/dist-packages (from pytest->pyldavis) (1.4.0)\n",
            "Requirement already satisfied: py>=1.5.0 in /usr/local/lib/python3.6/dist-packages (from pytest->pyldavis) (1.8.1)\n",
            "Requirement already satisfied: six>=1.10.0 in /usr/local/lib/python3.6/dist-packages (from pytest->pyldavis) (1.12.0)\n",
            "Requirement already satisfied: more-itertools>=4.0.0 in /usr/local/lib/python3.6/dist-packages (from pytest->pyldavis) (8.2.0)\n",
            "Requirement already satisfied: setuptools in /usr/local/lib/python3.6/dist-packages (from pytest->pyldavis) (46.1.3)\n",
            "Requirement already satisfied: attrs>=17.4.0 in /usr/local/lib/python3.6/dist-packages (from pytest->pyldavis) (19.3.0)\n",
            "Requirement already satisfied: pluggy<0.8,>=0.5 in /usr/local/lib/python3.6/dist-packages (from pytest->pyldavis) (0.7.1)\n",
            "Building wheels for collected packages: pyldavis, funcy\n",
            "  Building wheel for pyldavis (setup.py) ... \u001b[?25l\u001b[?25hdone\n",
            "  Created wheel for pyldavis: filename=pyLDAvis-2.1.2-py2.py3-none-any.whl size=97711 sha256=de3023c506748edaec9ecc6be189ee92ac7841e3928065fb7a0cdc45cb4b6c5b\n",
            "  Stored in directory: /root/.cache/pip/wheels/98/71/24/513a99e58bb6b8465bae4d2d5e9dba8f0bef8179e3051ac414\n",
            "  Building wheel for funcy (setup.py) ... \u001b[?25l\u001b[?25hdone\n",
            "  Created wheel for funcy: filename=funcy-1.14-py2.py3-none-any.whl size=32042 sha256=965c271074e281d6718314f847ede10d2d98a6f7cdb3de1f04777d84423a0809\n",
            "  Stored in directory: /root/.cache/pip/wheels/20/5a/d8/1d875df03deae6f178dfdf70238cca33f948ef8a6f5209f2eb\n",
            "Successfully built pyldavis funcy\n",
            "Installing collected packages: funcy, pyldavis\n",
            "Successfully installed funcy-1.14 pyldavis-2.1.2\n"
          ],
          "name": "stdout"
        }
      ]
    },
    {
      "cell_type": "code",
      "metadata": {
        "id": "GjN-aqQ1OLej",
        "colab_type": "code",
        "colab": {
          "base_uri": "https://localhost:8080/",
          "height": 1000
        },
        "outputId": "dfb3f0dc-3250-4e2b-cee0-c92559985782"
      },
      "source": [
        "# insert the model and number of topics you want to visualise\n",
        "# here LDA Gensim with 15 topics\n",
        "selected_model = models.LdaModel(corpus_tfidf, id2word=id2word, num_topics=15)"
      ],
      "execution_count": 111,
      "outputs": [
        {
          "output_type": "stream",
          "text": [
            "/usr/local/lib/python3.6/dist-packages/gensim/models/ldamodel.py:1077: DeprecationWarning: Calling np.sum(generator) is deprecated, and in the future will give a different result. Use np.sum(np.fromiter(generator)) or the python sum builtin instead.\n",
            "  score += np.sum(cnt * logsumexp(Elogthetad + Elogbeta[:, int(id)]) for id, cnt in doc)\n",
            "/usr/local/lib/python3.6/dist-packages/gensim/models/ldamodel.py:1077: DeprecationWarning: Calling np.sum(generator) is deprecated, and in the future will give a different result. Use np.sum(np.fromiter(generator)) or the python sum builtin instead.\n",
            "  score += np.sum(cnt * logsumexp(Elogthetad + Elogbeta[:, int(id)]) for id, cnt in doc)\n",
            "/usr/local/lib/python3.6/dist-packages/gensim/models/ldamodel.py:1077: DeprecationWarning: Calling np.sum(generator) is deprecated, and in the future will give a different result. Use np.sum(np.fromiter(generator)) or the python sum builtin instead.\n",
            "  score += np.sum(cnt * logsumexp(Elogthetad + Elogbeta[:, int(id)]) for id, cnt in doc)\n",
            "/usr/local/lib/python3.6/dist-packages/gensim/models/ldamodel.py:1077: DeprecationWarning: Calling np.sum(generator) is deprecated, and in the future will give a different result. Use np.sum(np.fromiter(generator)) or the python sum builtin instead.\n",
            "  score += np.sum(cnt * logsumexp(Elogthetad + Elogbeta[:, int(id)]) for id, cnt in doc)\n",
            "/usr/local/lib/python3.6/dist-packages/gensim/models/ldamodel.py:1077: DeprecationWarning: Calling np.sum(generator) is deprecated, and in the future will give a different result. Use np.sum(np.fromiter(generator)) or the python sum builtin instead.\n",
            "  score += np.sum(cnt * logsumexp(Elogthetad + Elogbeta[:, int(id)]) for id, cnt in doc)\n",
            "/usr/local/lib/python3.6/dist-packages/gensim/models/ldamodel.py:1077: DeprecationWarning: Calling np.sum(generator) is deprecated, and in the future will give a different result. Use np.sum(np.fromiter(generator)) or the python sum builtin instead.\n",
            "  score += np.sum(cnt * logsumexp(Elogthetad + Elogbeta[:, int(id)]) for id, cnt in doc)\n",
            "/usr/local/lib/python3.6/dist-packages/gensim/models/ldamodel.py:1077: DeprecationWarning: Calling np.sum(generator) is deprecated, and in the future will give a different result. Use np.sum(np.fromiter(generator)) or the python sum builtin instead.\n",
            "  score += np.sum(cnt * logsumexp(Elogthetad + Elogbeta[:, int(id)]) for id, cnt in doc)\n",
            "/usr/local/lib/python3.6/dist-packages/gensim/models/ldamodel.py:1077: DeprecationWarning: Calling np.sum(generator) is deprecated, and in the future will give a different result. Use np.sum(np.fromiter(generator)) or the python sum builtin instead.\n",
            "  score += np.sum(cnt * logsumexp(Elogthetad + Elogbeta[:, int(id)]) for id, cnt in doc)\n",
            "/usr/local/lib/python3.6/dist-packages/gensim/models/ldamodel.py:1077: DeprecationWarning: Calling np.sum(generator) is deprecated, and in the future will give a different result. Use np.sum(np.fromiter(generator)) or the python sum builtin instead.\n",
            "  score += np.sum(cnt * logsumexp(Elogthetad + Elogbeta[:, int(id)]) for id, cnt in doc)\n",
            "/usr/local/lib/python3.6/dist-packages/gensim/models/ldamodel.py:1077: DeprecationWarning: Calling np.sum(generator) is deprecated, and in the future will give a different result. Use np.sum(np.fromiter(generator)) or the python sum builtin instead.\n",
            "  score += np.sum(cnt * logsumexp(Elogthetad + Elogbeta[:, int(id)]) for id, cnt in doc)\n",
            "/usr/local/lib/python3.6/dist-packages/gensim/models/ldamodel.py:1077: DeprecationWarning: Calling np.sum(generator) is deprecated, and in the future will give a different result. Use np.sum(np.fromiter(generator)) or the python sum builtin instead.\n",
            "  score += np.sum(cnt * logsumexp(Elogthetad + Elogbeta[:, int(id)]) for id, cnt in doc)\n",
            "/usr/local/lib/python3.6/dist-packages/gensim/models/ldamodel.py:1077: DeprecationWarning: Calling np.sum(generator) is deprecated, and in the future will give a different result. Use np.sum(np.fromiter(generator)) or the python sum builtin instead.\n",
            "  score += np.sum(cnt * logsumexp(Elogthetad + Elogbeta[:, int(id)]) for id, cnt in doc)\n",
            "/usr/local/lib/python3.6/dist-packages/gensim/models/ldamodel.py:1077: DeprecationWarning: Calling np.sum(generator) is deprecated, and in the future will give a different result. Use np.sum(np.fromiter(generator)) or the python sum builtin instead.\n",
            "  score += np.sum(cnt * logsumexp(Elogthetad + Elogbeta[:, int(id)]) for id, cnt in doc)\n",
            "/usr/local/lib/python3.6/dist-packages/gensim/models/ldamodel.py:1077: DeprecationWarning: Calling np.sum(generator) is deprecated, and in the future will give a different result. Use np.sum(np.fromiter(generator)) or the python sum builtin instead.\n",
            "  score += np.sum(cnt * logsumexp(Elogthetad + Elogbeta[:, int(id)]) for id, cnt in doc)\n",
            "/usr/local/lib/python3.6/dist-packages/gensim/models/ldamodel.py:1077: DeprecationWarning: Calling np.sum(generator) is deprecated, and in the future will give a different result. Use np.sum(np.fromiter(generator)) or the python sum builtin instead.\n",
            "  score += np.sum(cnt * logsumexp(Elogthetad + Elogbeta[:, int(id)]) for id, cnt in doc)\n",
            "/usr/local/lib/python3.6/dist-packages/gensim/models/ldamodel.py:1077: DeprecationWarning: Calling np.sum(generator) is deprecated, and in the future will give a different result. Use np.sum(np.fromiter(generator)) or the python sum builtin instead.\n",
            "  score += np.sum(cnt * logsumexp(Elogthetad + Elogbeta[:, int(id)]) for id, cnt in doc)\n",
            "/usr/local/lib/python3.6/dist-packages/gensim/models/ldamodel.py:1077: DeprecationWarning: Calling np.sum(generator) is deprecated, and in the future will give a different result. Use np.sum(np.fromiter(generator)) or the python sum builtin instead.\n",
            "  score += np.sum(cnt * logsumexp(Elogthetad + Elogbeta[:, int(id)]) for id, cnt in doc)\n",
            "/usr/local/lib/python3.6/dist-packages/gensim/models/ldamodel.py:1077: DeprecationWarning: Calling np.sum(generator) is deprecated, and in the future will give a different result. Use np.sum(np.fromiter(generator)) or the python sum builtin instead.\n",
            "  score += np.sum(cnt * logsumexp(Elogthetad + Elogbeta[:, int(id)]) for id, cnt in doc)\n",
            "/usr/local/lib/python3.6/dist-packages/gensim/models/ldamodel.py:1077: DeprecationWarning: Calling np.sum(generator) is deprecated, and in the future will give a different result. Use np.sum(np.fromiter(generator)) or the python sum builtin instead.\n",
            "  score += np.sum(cnt * logsumexp(Elogthetad + Elogbeta[:, int(id)]) for id, cnt in doc)\n",
            "/usr/local/lib/python3.6/dist-packages/gensim/models/ldamodel.py:1077: DeprecationWarning: Calling np.sum(generator) is deprecated, and in the future will give a different result. Use np.sum(np.fromiter(generator)) or the python sum builtin instead.\n",
            "  score += np.sum(cnt * logsumexp(Elogthetad + Elogbeta[:, int(id)]) for id, cnt in doc)\n",
            "/usr/local/lib/python3.6/dist-packages/gensim/models/ldamodel.py:1077: DeprecationWarning: Calling np.sum(generator) is deprecated, and in the future will give a different result. Use np.sum(np.fromiter(generator)) or the python sum builtin instead.\n",
            "  score += np.sum(cnt * logsumexp(Elogthetad + Elogbeta[:, int(id)]) for id, cnt in doc)\n",
            "/usr/local/lib/python3.6/dist-packages/gensim/models/ldamodel.py:1077: DeprecationWarning: Calling np.sum(generator) is deprecated, and in the future will give a different result. Use np.sum(np.fromiter(generator)) or the python sum builtin instead.\n",
            "  score += np.sum(cnt * logsumexp(Elogthetad + Elogbeta[:, int(id)]) for id, cnt in doc)\n",
            "/usr/local/lib/python3.6/dist-packages/gensim/models/ldamodel.py:1077: DeprecationWarning: Calling np.sum(generator) is deprecated, and in the future will give a different result. Use np.sum(np.fromiter(generator)) or the python sum builtin instead.\n",
            "  score += np.sum(cnt * logsumexp(Elogthetad + Elogbeta[:, int(id)]) for id, cnt in doc)\n",
            "/usr/local/lib/python3.6/dist-packages/gensim/models/ldamodel.py:1077: DeprecationWarning: Calling np.sum(generator) is deprecated, and in the future will give a different result. Use np.sum(np.fromiter(generator)) or the python sum builtin instead.\n",
            "  score += np.sum(cnt * logsumexp(Elogthetad + Elogbeta[:, int(id)]) for id, cnt in doc)\n",
            "/usr/local/lib/python3.6/dist-packages/gensim/models/ldamodel.py:1077: DeprecationWarning: Calling np.sum(generator) is deprecated, and in the future will give a different result. Use np.sum(np.fromiter(generator)) or the python sum builtin instead.\n",
            "  score += np.sum(cnt * logsumexp(Elogthetad + Elogbeta[:, int(id)]) for id, cnt in doc)\n",
            "/usr/local/lib/python3.6/dist-packages/gensim/models/ldamodel.py:1077: DeprecationWarning: Calling np.sum(generator) is deprecated, and in the future will give a different result. Use np.sum(np.fromiter(generator)) or the python sum builtin instead.\n",
            "  score += np.sum(cnt * logsumexp(Elogthetad + Elogbeta[:, int(id)]) for id, cnt in doc)\n",
            "/usr/local/lib/python3.6/dist-packages/gensim/models/ldamodel.py:1077: DeprecationWarning: Calling np.sum(generator) is deprecated, and in the future will give a different result. Use np.sum(np.fromiter(generator)) or the python sum builtin instead.\n",
            "  score += np.sum(cnt * logsumexp(Elogthetad + Elogbeta[:, int(id)]) for id, cnt in doc)\n",
            "/usr/local/lib/python3.6/dist-packages/gensim/models/ldamodel.py:1077: DeprecationWarning: Calling np.sum(generator) is deprecated, and in the future will give a different result. Use np.sum(np.fromiter(generator)) or the python sum builtin instead.\n",
            "  score += np.sum(cnt * logsumexp(Elogthetad + Elogbeta[:, int(id)]) for id, cnt in doc)\n",
            "/usr/local/lib/python3.6/dist-packages/gensim/models/ldamodel.py:1077: DeprecationWarning: Calling np.sum(generator) is deprecated, and in the future will give a different result. Use np.sum(np.fromiter(generator)) or the python sum builtin instead.\n",
            "  score += np.sum(cnt * logsumexp(Elogthetad + Elogbeta[:, int(id)]) for id, cnt in doc)\n",
            "/usr/local/lib/python3.6/dist-packages/gensim/models/ldamodel.py:1077: DeprecationWarning: Calling np.sum(generator) is deprecated, and in the future will give a different result. Use np.sum(np.fromiter(generator)) or the python sum builtin instead.\n",
            "  score += np.sum(cnt * logsumexp(Elogthetad + Elogbeta[:, int(id)]) for id, cnt in doc)\n",
            "/usr/local/lib/python3.6/dist-packages/gensim/models/ldamodel.py:1077: DeprecationWarning: Calling np.sum(generator) is deprecated, and in the future will give a different result. Use np.sum(np.fromiter(generator)) or the python sum builtin instead.\n",
            "  score += np.sum(cnt * logsumexp(Elogthetad + Elogbeta[:, int(id)]) for id, cnt in doc)\n",
            "/usr/local/lib/python3.6/dist-packages/gensim/models/ldamodel.py:1077: DeprecationWarning: Calling np.sum(generator) is deprecated, and in the future will give a different result. Use np.sum(np.fromiter(generator)) or the python sum builtin instead.\n",
            "  score += np.sum(cnt * logsumexp(Elogthetad + Elogbeta[:, int(id)]) for id, cnt in doc)\n",
            "/usr/local/lib/python3.6/dist-packages/gensim/models/ldamodel.py:1077: DeprecationWarning: Calling np.sum(generator) is deprecated, and in the future will give a different result. Use np.sum(np.fromiter(generator)) or the python sum builtin instead.\n",
            "  score += np.sum(cnt * logsumexp(Elogthetad + Elogbeta[:, int(id)]) for id, cnt in doc)\n",
            "/usr/local/lib/python3.6/dist-packages/gensim/models/ldamodel.py:1077: DeprecationWarning: Calling np.sum(generator) is deprecated, and in the future will give a different result. Use np.sum(np.fromiter(generator)) or the python sum builtin instead.\n",
            "  score += np.sum(cnt * logsumexp(Elogthetad + Elogbeta[:, int(id)]) for id, cnt in doc)\n",
            "/usr/local/lib/python3.6/dist-packages/gensim/models/ldamodel.py:1077: DeprecationWarning: Calling np.sum(generator) is deprecated, and in the future will give a different result. Use np.sum(np.fromiter(generator)) or the python sum builtin instead.\n",
            "  score += np.sum(cnt * logsumexp(Elogthetad + Elogbeta[:, int(id)]) for id, cnt in doc)\n",
            "/usr/local/lib/python3.6/dist-packages/gensim/models/ldamodel.py:1077: DeprecationWarning: Calling np.sum(generator) is deprecated, and in the future will give a different result. Use np.sum(np.fromiter(generator)) or the python sum builtin instead.\n",
            "  score += np.sum(cnt * logsumexp(Elogthetad + Elogbeta[:, int(id)]) for id, cnt in doc)\n",
            "/usr/local/lib/python3.6/dist-packages/gensim/models/ldamodel.py:1077: DeprecationWarning: Calling np.sum(generator) is deprecated, and in the future will give a different result. Use np.sum(np.fromiter(generator)) or the python sum builtin instead.\n",
            "  score += np.sum(cnt * logsumexp(Elogthetad + Elogbeta[:, int(id)]) for id, cnt in doc)\n",
            "/usr/local/lib/python3.6/dist-packages/gensim/models/ldamodel.py:1077: DeprecationWarning: Calling np.sum(generator) is deprecated, and in the future will give a different result. Use np.sum(np.fromiter(generator)) or the python sum builtin instead.\n",
            "  score += np.sum(cnt * logsumexp(Elogthetad + Elogbeta[:, int(id)]) for id, cnt in doc)\n",
            "/usr/local/lib/python3.6/dist-packages/gensim/models/ldamodel.py:1077: DeprecationWarning: Calling np.sum(generator) is deprecated, and in the future will give a different result. Use np.sum(np.fromiter(generator)) or the python sum builtin instead.\n",
            "  score += np.sum(cnt * logsumexp(Elogthetad + Elogbeta[:, int(id)]) for id, cnt in doc)\n",
            "/usr/local/lib/python3.6/dist-packages/gensim/models/ldamodel.py:1077: DeprecationWarning: Calling np.sum(generator) is deprecated, and in the future will give a different result. Use np.sum(np.fromiter(generator)) or the python sum builtin instead.\n",
            "  score += np.sum(cnt * logsumexp(Elogthetad + Elogbeta[:, int(id)]) for id, cnt in doc)\n",
            "/usr/local/lib/python3.6/dist-packages/gensim/models/ldamodel.py:1077: DeprecationWarning: Calling np.sum(generator) is deprecated, and in the future will give a different result. Use np.sum(np.fromiter(generator)) or the python sum builtin instead.\n",
            "  score += np.sum(cnt * logsumexp(Elogthetad + Elogbeta[:, int(id)]) for id, cnt in doc)\n",
            "/usr/local/lib/python3.6/dist-packages/gensim/models/ldamodel.py:1077: DeprecationWarning: Calling np.sum(generator) is deprecated, and in the future will give a different result. Use np.sum(np.fromiter(generator)) or the python sum builtin instead.\n",
            "  score += np.sum(cnt * logsumexp(Elogthetad + Elogbeta[:, int(id)]) for id, cnt in doc)\n",
            "/usr/local/lib/python3.6/dist-packages/gensim/models/ldamodel.py:1077: DeprecationWarning: Calling np.sum(generator) is deprecated, and in the future will give a different result. Use np.sum(np.fromiter(generator)) or the python sum builtin instead.\n",
            "  score += np.sum(cnt * logsumexp(Elogthetad + Elogbeta[:, int(id)]) for id, cnt in doc)\n",
            "/usr/local/lib/python3.6/dist-packages/gensim/models/ldamodel.py:1077: DeprecationWarning: Calling np.sum(generator) is deprecated, and in the future will give a different result. Use np.sum(np.fromiter(generator)) or the python sum builtin instead.\n",
            "  score += np.sum(cnt * logsumexp(Elogthetad + Elogbeta[:, int(id)]) for id, cnt in doc)\n",
            "/usr/local/lib/python3.6/dist-packages/gensim/models/ldamodel.py:1077: DeprecationWarning: Calling np.sum(generator) is deprecated, and in the future will give a different result. Use np.sum(np.fromiter(generator)) or the python sum builtin instead.\n",
            "  score += np.sum(cnt * logsumexp(Elogthetad + Elogbeta[:, int(id)]) for id, cnt in doc)\n",
            "/usr/local/lib/python3.6/dist-packages/gensim/models/ldamodel.py:1077: DeprecationWarning: Calling np.sum(generator) is deprecated, and in the future will give a different result. Use np.sum(np.fromiter(generator)) or the python sum builtin instead.\n",
            "  score += np.sum(cnt * logsumexp(Elogthetad + Elogbeta[:, int(id)]) for id, cnt in doc)\n",
            "/usr/local/lib/python3.6/dist-packages/gensim/models/ldamodel.py:1077: DeprecationWarning: Calling np.sum(generator) is deprecated, and in the future will give a different result. Use np.sum(np.fromiter(generator)) or the python sum builtin instead.\n",
            "  score += np.sum(cnt * logsumexp(Elogthetad + Elogbeta[:, int(id)]) for id, cnt in doc)\n",
            "/usr/local/lib/python3.6/dist-packages/gensim/models/ldamodel.py:1077: DeprecationWarning: Calling np.sum(generator) is deprecated, and in the future will give a different result. Use np.sum(np.fromiter(generator)) or the python sum builtin instead.\n",
            "  score += np.sum(cnt * logsumexp(Elogthetad + Elogbeta[:, int(id)]) for id, cnt in doc)\n",
            "/usr/local/lib/python3.6/dist-packages/gensim/models/ldamodel.py:1077: DeprecationWarning: Calling np.sum(generator) is deprecated, and in the future will give a different result. Use np.sum(np.fromiter(generator)) or the python sum builtin instead.\n",
            "  score += np.sum(cnt * logsumexp(Elogthetad + Elogbeta[:, int(id)]) for id, cnt in doc)\n",
            "/usr/local/lib/python3.6/dist-packages/gensim/models/ldamodel.py:1077: DeprecationWarning: Calling np.sum(generator) is deprecated, and in the future will give a different result. Use np.sum(np.fromiter(generator)) or the python sum builtin instead.\n",
            "  score += np.sum(cnt * logsumexp(Elogthetad + Elogbeta[:, int(id)]) for id, cnt in doc)\n",
            "/usr/local/lib/python3.6/dist-packages/gensim/models/ldamodel.py:1077: DeprecationWarning: Calling np.sum(generator) is deprecated, and in the future will give a different result. Use np.sum(np.fromiter(generator)) or the python sum builtin instead.\n",
            "  score += np.sum(cnt * logsumexp(Elogthetad + Elogbeta[:, int(id)]) for id, cnt in doc)\n",
            "/usr/local/lib/python3.6/dist-packages/gensim/models/ldamodel.py:1077: DeprecationWarning: Calling np.sum(generator) is deprecated, and in the future will give a different result. Use np.sum(np.fromiter(generator)) or the python sum builtin instead.\n",
            "  score += np.sum(cnt * logsumexp(Elogthetad + Elogbeta[:, int(id)]) for id, cnt in doc)\n",
            "/usr/local/lib/python3.6/dist-packages/gensim/models/ldamodel.py:1077: DeprecationWarning: Calling np.sum(generator) is deprecated, and in the future will give a different result. Use np.sum(np.fromiter(generator)) or the python sum builtin instead.\n",
            "  score += np.sum(cnt * logsumexp(Elogthetad + Elogbeta[:, int(id)]) for id, cnt in doc)\n",
            "/usr/local/lib/python3.6/dist-packages/gensim/models/ldamodel.py:1077: DeprecationWarning: Calling np.sum(generator) is deprecated, and in the future will give a different result. Use np.sum(np.fromiter(generator)) or the python sum builtin instead.\n",
            "  score += np.sum(cnt * logsumexp(Elogthetad + Elogbeta[:, int(id)]) for id, cnt in doc)\n",
            "/usr/local/lib/python3.6/dist-packages/gensim/models/ldamodel.py:1077: DeprecationWarning: Calling np.sum(generator) is deprecated, and in the future will give a different result. Use np.sum(np.fromiter(generator)) or the python sum builtin instead.\n",
            "  score += np.sum(cnt * logsumexp(Elogthetad + Elogbeta[:, int(id)]) for id, cnt in doc)\n",
            "/usr/local/lib/python3.6/dist-packages/gensim/models/ldamodel.py:1077: DeprecationWarning: Calling np.sum(generator) is deprecated, and in the future will give a different result. Use np.sum(np.fromiter(generator)) or the python sum builtin instead.\n",
            "  score += np.sum(cnt * logsumexp(Elogthetad + Elogbeta[:, int(id)]) for id, cnt in doc)\n",
            "/usr/local/lib/python3.6/dist-packages/gensim/models/ldamodel.py:1077: DeprecationWarning: Calling np.sum(generator) is deprecated, and in the future will give a different result. Use np.sum(np.fromiter(generator)) or the python sum builtin instead.\n",
            "  score += np.sum(cnt * logsumexp(Elogthetad + Elogbeta[:, int(id)]) for id, cnt in doc)\n",
            "/usr/local/lib/python3.6/dist-packages/gensim/models/ldamodel.py:1077: DeprecationWarning: Calling np.sum(generator) is deprecated, and in the future will give a different result. Use np.sum(np.fromiter(generator)) or the python sum builtin instead.\n",
            "  score += np.sum(cnt * logsumexp(Elogthetad + Elogbeta[:, int(id)]) for id, cnt in doc)\n",
            "/usr/local/lib/python3.6/dist-packages/gensim/models/ldamodel.py:1077: DeprecationWarning: Calling np.sum(generator) is deprecated, and in the future will give a different result. Use np.sum(np.fromiter(generator)) or the python sum builtin instead.\n",
            "  score += np.sum(cnt * logsumexp(Elogthetad + Elogbeta[:, int(id)]) for id, cnt in doc)\n",
            "/usr/local/lib/python3.6/dist-packages/gensim/models/ldamodel.py:1077: DeprecationWarning: Calling np.sum(generator) is deprecated, and in the future will give a different result. Use np.sum(np.fromiter(generator)) or the python sum builtin instead.\n",
            "  score += np.sum(cnt * logsumexp(Elogthetad + Elogbeta[:, int(id)]) for id, cnt in doc)\n",
            "/usr/local/lib/python3.6/dist-packages/gensim/models/ldamodel.py:1077: DeprecationWarning: Calling np.sum(generator) is deprecated, and in the future will give a different result. Use np.sum(np.fromiter(generator)) or the python sum builtin instead.\n",
            "  score += np.sum(cnt * logsumexp(Elogthetad + Elogbeta[:, int(id)]) for id, cnt in doc)\n",
            "/usr/local/lib/python3.6/dist-packages/gensim/models/ldamodel.py:1077: DeprecationWarning: Calling np.sum(generator) is deprecated, and in the future will give a different result. Use np.sum(np.fromiter(generator)) or the python sum builtin instead.\n",
            "  score += np.sum(cnt * logsumexp(Elogthetad + Elogbeta[:, int(id)]) for id, cnt in doc)\n",
            "/usr/local/lib/python3.6/dist-packages/gensim/models/ldamodel.py:1077: DeprecationWarning: Calling np.sum(generator) is deprecated, and in the future will give a different result. Use np.sum(np.fromiter(generator)) or the python sum builtin instead.\n",
            "  score += np.sum(cnt * logsumexp(Elogthetad + Elogbeta[:, int(id)]) for id, cnt in doc)\n",
            "/usr/local/lib/python3.6/dist-packages/gensim/models/ldamodel.py:1077: DeprecationWarning: Calling np.sum(generator) is deprecated, and in the future will give a different result. Use np.sum(np.fromiter(generator)) or the python sum builtin instead.\n",
            "  score += np.sum(cnt * logsumexp(Elogthetad + Elogbeta[:, int(id)]) for id, cnt in doc)\n",
            "/usr/local/lib/python3.6/dist-packages/gensim/models/ldamodel.py:1077: DeprecationWarning: Calling np.sum(generator) is deprecated, and in the future will give a different result. Use np.sum(np.fromiter(generator)) or the python sum builtin instead.\n",
            "  score += np.sum(cnt * logsumexp(Elogthetad + Elogbeta[:, int(id)]) for id, cnt in doc)\n",
            "/usr/local/lib/python3.6/dist-packages/gensim/models/ldamodel.py:1077: DeprecationWarning: Calling np.sum(generator) is deprecated, and in the future will give a different result. Use np.sum(np.fromiter(generator)) or the python sum builtin instead.\n",
            "  score += np.sum(cnt * logsumexp(Elogthetad + Elogbeta[:, int(id)]) for id, cnt in doc)\n",
            "/usr/local/lib/python3.6/dist-packages/gensim/models/ldamodel.py:1077: DeprecationWarning: Calling np.sum(generator) is deprecated, and in the future will give a different result. Use np.sum(np.fromiter(generator)) or the python sum builtin instead.\n",
            "  score += np.sum(cnt * logsumexp(Elogthetad + Elogbeta[:, int(id)]) for id, cnt in doc)\n",
            "/usr/local/lib/python3.6/dist-packages/gensim/models/ldamodel.py:1077: DeprecationWarning: Calling np.sum(generator) is deprecated, and in the future will give a different result. Use np.sum(np.fromiter(generator)) or the python sum builtin instead.\n",
            "  score += np.sum(cnt * logsumexp(Elogthetad + Elogbeta[:, int(id)]) for id, cnt in doc)\n",
            "/usr/local/lib/python3.6/dist-packages/gensim/models/ldamodel.py:1077: DeprecationWarning: Calling np.sum(generator) is deprecated, and in the future will give a different result. Use np.sum(np.fromiter(generator)) or the python sum builtin instead.\n",
            "  score += np.sum(cnt * logsumexp(Elogthetad + Elogbeta[:, int(id)]) for id, cnt in doc)\n",
            "/usr/local/lib/python3.6/dist-packages/gensim/models/ldamodel.py:1077: DeprecationWarning: Calling np.sum(generator) is deprecated, and in the future will give a different result. Use np.sum(np.fromiter(generator)) or the python sum builtin instead.\n",
            "  score += np.sum(cnt * logsumexp(Elogthetad + Elogbeta[:, int(id)]) for id, cnt in doc)\n",
            "/usr/local/lib/python3.6/dist-packages/gensim/models/ldamodel.py:1077: DeprecationWarning: Calling np.sum(generator) is deprecated, and in the future will give a different result. Use np.sum(np.fromiter(generator)) or the python sum builtin instead.\n",
            "  score += np.sum(cnt * logsumexp(Elogthetad + Elogbeta[:, int(id)]) for id, cnt in doc)\n",
            "/usr/local/lib/python3.6/dist-packages/gensim/models/ldamodel.py:1077: DeprecationWarning: Calling np.sum(generator) is deprecated, and in the future will give a different result. Use np.sum(np.fromiter(generator)) or the python sum builtin instead.\n",
            "  score += np.sum(cnt * logsumexp(Elogthetad + Elogbeta[:, int(id)]) for id, cnt in doc)\n",
            "/usr/local/lib/python3.6/dist-packages/gensim/models/ldamodel.py:1077: DeprecationWarning: Calling np.sum(generator) is deprecated, and in the future will give a different result. Use np.sum(np.fromiter(generator)) or the python sum builtin instead.\n",
            "  score += np.sum(cnt * logsumexp(Elogthetad + Elogbeta[:, int(id)]) for id, cnt in doc)\n",
            "/usr/local/lib/python3.6/dist-packages/gensim/models/ldamodel.py:1077: DeprecationWarning: Calling np.sum(generator) is deprecated, and in the future will give a different result. Use np.sum(np.fromiter(generator)) or the python sum builtin instead.\n",
            "  score += np.sum(cnt * logsumexp(Elogthetad + Elogbeta[:, int(id)]) for id, cnt in doc)\n",
            "/usr/local/lib/python3.6/dist-packages/gensim/models/ldamodel.py:1077: DeprecationWarning: Calling np.sum(generator) is deprecated, and in the future will give a different result. Use np.sum(np.fromiter(generator)) or the python sum builtin instead.\n",
            "  score += np.sum(cnt * logsumexp(Elogthetad + Elogbeta[:, int(id)]) for id, cnt in doc)\n",
            "/usr/local/lib/python3.6/dist-packages/gensim/models/ldamodel.py:1077: DeprecationWarning: Calling np.sum(generator) is deprecated, and in the future will give a different result. Use np.sum(np.fromiter(generator)) or the python sum builtin instead.\n",
            "  score += np.sum(cnt * logsumexp(Elogthetad + Elogbeta[:, int(id)]) for id, cnt in doc)\n",
            "/usr/local/lib/python3.6/dist-packages/gensim/models/ldamodel.py:1077: DeprecationWarning: Calling np.sum(generator) is deprecated, and in the future will give a different result. Use np.sum(np.fromiter(generator)) or the python sum builtin instead.\n",
            "  score += np.sum(cnt * logsumexp(Elogthetad + Elogbeta[:, int(id)]) for id, cnt in doc)\n",
            "/usr/local/lib/python3.6/dist-packages/gensim/models/ldamodel.py:1077: DeprecationWarning: Calling np.sum(generator) is deprecated, and in the future will give a different result. Use np.sum(np.fromiter(generator)) or the python sum builtin instead.\n",
            "  score += np.sum(cnt * logsumexp(Elogthetad + Elogbeta[:, int(id)]) for id, cnt in doc)\n",
            "/usr/local/lib/python3.6/dist-packages/gensim/models/ldamodel.py:1077: DeprecationWarning: Calling np.sum(generator) is deprecated, and in the future will give a different result. Use np.sum(np.fromiter(generator)) or the python sum builtin instead.\n",
            "  score += np.sum(cnt * logsumexp(Elogthetad + Elogbeta[:, int(id)]) for id, cnt in doc)\n",
            "/usr/local/lib/python3.6/dist-packages/gensim/models/ldamodel.py:1077: DeprecationWarning: Calling np.sum(generator) is deprecated, and in the future will give a different result. Use np.sum(np.fromiter(generator)) or the python sum builtin instead.\n",
            "  score += np.sum(cnt * logsumexp(Elogthetad + Elogbeta[:, int(id)]) for id, cnt in doc)\n",
            "/usr/local/lib/python3.6/dist-packages/gensim/models/ldamodel.py:1077: DeprecationWarning: Calling np.sum(generator) is deprecated, and in the future will give a different result. Use np.sum(np.fromiter(generator)) or the python sum builtin instead.\n",
            "  score += np.sum(cnt * logsumexp(Elogthetad + Elogbeta[:, int(id)]) for id, cnt in doc)\n",
            "/usr/local/lib/python3.6/dist-packages/gensim/models/ldamodel.py:1077: DeprecationWarning: Calling np.sum(generator) is deprecated, and in the future will give a different result. Use np.sum(np.fromiter(generator)) or the python sum builtin instead.\n",
            "  score += np.sum(cnt * logsumexp(Elogthetad + Elogbeta[:, int(id)]) for id, cnt in doc)\n",
            "/usr/local/lib/python3.6/dist-packages/gensim/models/ldamodel.py:1077: DeprecationWarning: Calling np.sum(generator) is deprecated, and in the future will give a different result. Use np.sum(np.fromiter(generator)) or the python sum builtin instead.\n",
            "  score += np.sum(cnt * logsumexp(Elogthetad + Elogbeta[:, int(id)]) for id, cnt in doc)\n",
            "/usr/local/lib/python3.6/dist-packages/gensim/models/ldamodel.py:1077: DeprecationWarning: Calling np.sum(generator) is deprecated, and in the future will give a different result. Use np.sum(np.fromiter(generator)) or the python sum builtin instead.\n",
            "  score += np.sum(cnt * logsumexp(Elogthetad + Elogbeta[:, int(id)]) for id, cnt in doc)\n",
            "/usr/local/lib/python3.6/dist-packages/gensim/models/ldamodel.py:1077: DeprecationWarning: Calling np.sum(generator) is deprecated, and in the future will give a different result. Use np.sum(np.fromiter(generator)) or the python sum builtin instead.\n",
            "  score += np.sum(cnt * logsumexp(Elogthetad + Elogbeta[:, int(id)]) for id, cnt in doc)\n",
            "/usr/local/lib/python3.6/dist-packages/gensim/models/ldamodel.py:1077: DeprecationWarning: Calling np.sum(generator) is deprecated, and in the future will give a different result. Use np.sum(np.fromiter(generator)) or the python sum builtin instead.\n",
            "  score += np.sum(cnt * logsumexp(Elogthetad + Elogbeta[:, int(id)]) for id, cnt in doc)\n",
            "/usr/local/lib/python3.6/dist-packages/gensim/models/ldamodel.py:1077: DeprecationWarning: Calling np.sum(generator) is deprecated, and in the future will give a different result. Use np.sum(np.fromiter(generator)) or the python sum builtin instead.\n",
            "  score += np.sum(cnt * logsumexp(Elogthetad + Elogbeta[:, int(id)]) for id, cnt in doc)\n",
            "/usr/local/lib/python3.6/dist-packages/gensim/models/ldamodel.py:1077: DeprecationWarning: Calling np.sum(generator) is deprecated, and in the future will give a different result. Use np.sum(np.fromiter(generator)) or the python sum builtin instead.\n",
            "  score += np.sum(cnt * logsumexp(Elogthetad + Elogbeta[:, int(id)]) for id, cnt in doc)\n",
            "/usr/local/lib/python3.6/dist-packages/gensim/models/ldamodel.py:1077: DeprecationWarning: Calling np.sum(generator) is deprecated, and in the future will give a different result. Use np.sum(np.fromiter(generator)) or the python sum builtin instead.\n",
            "  score += np.sum(cnt * logsumexp(Elogthetad + Elogbeta[:, int(id)]) for id, cnt in doc)\n",
            "/usr/local/lib/python3.6/dist-packages/gensim/models/ldamodel.py:1077: DeprecationWarning: Calling np.sum(generator) is deprecated, and in the future will give a different result. Use np.sum(np.fromiter(generator)) or the python sum builtin instead.\n",
            "  score += np.sum(cnt * logsumexp(Elogthetad + Elogbeta[:, int(id)]) for id, cnt in doc)\n",
            "/usr/local/lib/python3.6/dist-packages/gensim/models/ldamodel.py:1077: DeprecationWarning: Calling np.sum(generator) is deprecated, and in the future will give a different result. Use np.sum(np.fromiter(generator)) or the python sum builtin instead.\n",
            "  score += np.sum(cnt * logsumexp(Elogthetad + Elogbeta[:, int(id)]) for id, cnt in doc)\n",
            "/usr/local/lib/python3.6/dist-packages/gensim/models/ldamodel.py:1077: DeprecationWarning: Calling np.sum(generator) is deprecated, and in the future will give a different result. Use np.sum(np.fromiter(generator)) or the python sum builtin instead.\n",
            "  score += np.sum(cnt * logsumexp(Elogthetad + Elogbeta[:, int(id)]) for id, cnt in doc)\n",
            "/usr/local/lib/python3.6/dist-packages/gensim/models/ldamodel.py:1077: DeprecationWarning: Calling np.sum(generator) is deprecated, and in the future will give a different result. Use np.sum(np.fromiter(generator)) or the python sum builtin instead.\n",
            "  score += np.sum(cnt * logsumexp(Elogthetad + Elogbeta[:, int(id)]) for id, cnt in doc)\n",
            "/usr/local/lib/python3.6/dist-packages/gensim/models/ldamodel.py:1077: DeprecationWarning: Calling np.sum(generator) is deprecated, and in the future will give a different result. Use np.sum(np.fromiter(generator)) or the python sum builtin instead.\n",
            "  score += np.sum(cnt * logsumexp(Elogthetad + Elogbeta[:, int(id)]) for id, cnt in doc)\n",
            "/usr/local/lib/python3.6/dist-packages/gensim/models/ldamodel.py:1077: DeprecationWarning: Calling np.sum(generator) is deprecated, and in the future will give a different result. Use np.sum(np.fromiter(generator)) or the python sum builtin instead.\n",
            "  score += np.sum(cnt * logsumexp(Elogthetad + Elogbeta[:, int(id)]) for id, cnt in doc)\n",
            "/usr/local/lib/python3.6/dist-packages/gensim/models/ldamodel.py:1077: DeprecationWarning: Calling np.sum(generator) is deprecated, and in the future will give a different result. Use np.sum(np.fromiter(generator)) or the python sum builtin instead.\n",
            "  score += np.sum(cnt * logsumexp(Elogthetad + Elogbeta[:, int(id)]) for id, cnt in doc)\n",
            "/usr/local/lib/python3.6/dist-packages/gensim/models/ldamodel.py:1077: DeprecationWarning: Calling np.sum(generator) is deprecated, and in the future will give a different result. Use np.sum(np.fromiter(generator)) or the python sum builtin instead.\n",
            "  score += np.sum(cnt * logsumexp(Elogthetad + Elogbeta[:, int(id)]) for id, cnt in doc)\n",
            "/usr/local/lib/python3.6/dist-packages/gensim/models/ldamodel.py:1077: DeprecationWarning: Calling np.sum(generator) is deprecated, and in the future will give a different result. Use np.sum(np.fromiter(generator)) or the python sum builtin instead.\n",
            "  score += np.sum(cnt * logsumexp(Elogthetad + Elogbeta[:, int(id)]) for id, cnt in doc)\n",
            "/usr/local/lib/python3.6/dist-packages/gensim/models/ldamodel.py:1077: DeprecationWarning: Calling np.sum(generator) is deprecated, and in the future will give a different result. Use np.sum(np.fromiter(generator)) or the python sum builtin instead.\n",
            "  score += np.sum(cnt * logsumexp(Elogthetad + Elogbeta[:, int(id)]) for id, cnt in doc)\n",
            "/usr/local/lib/python3.6/dist-packages/gensim/models/ldamodel.py:1077: DeprecationWarning: Calling np.sum(generator) is deprecated, and in the future will give a different result. Use np.sum(np.fromiter(generator)) or the python sum builtin instead.\n",
            "  score += np.sum(cnt * logsumexp(Elogthetad + Elogbeta[:, int(id)]) for id, cnt in doc)\n"
          ],
          "name": "stderr"
        }
      ]
    },
    {
      "cell_type": "code",
      "metadata": {
        "id": "qSO5UgCTNpce",
        "colab_type": "code",
        "colab": {}
      },
      "source": [
        "pyLDAvis.enable_notebook()\n",
        "vis = pyLDAvis.gensim.prepare(selected_model, corpus_tfidf, id2word)"
      ],
      "execution_count": 0,
      "outputs": []
    },
    {
      "cell_type": "code",
      "metadata": {
        "id": "QQgs3d9dO9FQ",
        "colab_type": "code",
        "colab": {
          "base_uri": "https://localhost:8080/",
          "height": 881
        },
        "outputId": "3b042613-1472-4e82-e9ce-ae75bc8e1a6d"
      },
      "source": [
        "vis"
      ],
      "execution_count": 114,
      "outputs": [
        {
          "output_type": "execute_result",
          "data": {
            "text/html": [
              "\n",
              "<link rel=\"stylesheet\" type=\"text/css\" href=\"https://cdn.rawgit.com/bmabey/pyLDAvis/files/ldavis.v1.0.0.css\">\n",
              "\n",
              "\n",
              "<div id=\"ldavis_el1221396368620743364123524394\"></div>\n",
              "<script type=\"text/javascript\">\n",
              "\n",
              "var ldavis_el1221396368620743364123524394_data = {\"mdsDat\": {\"x\": [0.004663315831601397, 0.00033826906572495427, -0.0005964302563046582, -0.0010755724337551886, 0.0001788844194903229, -0.002840607429104106, 0.0003473355500161555, -3.938704649147564e-05, -0.0007153411741312239, -0.00015255086262130446, 0.00037237058049218884, -6.240696712967205e-05, -3.4316727300186074e-05, -0.00034390142855254726, -3.966112193466409e-05], \"y\": [-3.5972053396666395e-05, 0.0010638756744389757, 0.003963632064006458, -0.0028683646149808752, -0.0009668764055556817, 0.0002863286703885325, -0.00014343064577294082, -0.0008032462010239364, -0.0002621949399319151, 0.0004239759650815853, -0.00020294906371996137, -0.0004180675821194861, 0.0001575942023283993, -5.114143961435915e-05, -0.00014316363012811237], \"topics\": [1, 2, 3, 4, 5, 6, 7, 8, 9, 10, 11, 12, 13, 14, 15], \"cluster\": [1, 1, 1, 1, 1, 1, 1, 1, 1, 1, 1, 1, 1, 1, 1], \"Freq\": [11.109796524047852, 9.32380485534668, 9.307493209838867, 9.196728706359863, 9.026525497436523, 8.603191375732422, 7.435133934020996, 6.556530475616455, 5.589078426361084, 5.409553527832031, 4.844892978668213, 4.691895008087158, 4.564720630645752, 3.4964728355407715, 0.844186007976532]}, \"tinfo\": {\"Term\": [\"available\", \"text\", \"cardinale\", \"garibaldi\", \"diamond\", \"black\", \"marconi\", \"xlll\", \"cleveland\", \"uovo\", \"tolstoi\", \"conclave\", \"leone\", \"oreglia\", \"riduzione\", \"xiii\", \"albanese\", \"salmone\", \"pescatore\", \"studente\", \"mayor\", \"duse\", \"buenos\", \"mafia\", \"mlles\", \"city\", \"sognatore\", \"sezione\", \"sarto\", \"scioperare\", \"militarismo\", \"nardo\", \"prete\", \"individuare\", \"bresci\", \"minaccia\", \"verazzano\", \"williams\", \"rinnegare\", \"reazione\", \"barra\", \"immigrazione\", \"oppressore\", \"spengere\", \"trasformazione\", \"dramma\", \"immigrare\", \"ammazzare\", \"sovversivo\", \"riscuotere\", \"pusillanime\", \"fulminato\", \"bardou\", \"coole\", \"bomba\", \"tetro\", \"todo\", \"proporsi\", \"armonia\", \"preparare\", \"filare\", \"attitudine\", \"idea\", \"sociale\", \"rivoluzione\", \"anarchico\", \"propagandare\", \"morale\", \"serbia\", \"chicago\", \"papato\", \"marconi\", \"rivoluzionario\", \"soldato\", \"compagno\", \"passaporto\", \"avellino\", \"tolstoi\", \"affarista\", \"young\", \"querelare\", \"limone\", \"tromben\", \"bovio\", \"automobile\", \"schmltz\", \"mario\", \"salma\", \"matematico\", \"moody\", \"diagnosi\", \"uoma\", \"lepre\", \"bulgaria\", \"nicaragua\", \"ginnasta\", \"scalare\", \"daneff\", \"ismbet\", \"simpatizzare\", \"esordio\", \"ribelle\", \"frullare\", \"slng\", \"chauffeur\", \"insorto\", \"attraversare\", \"congresso\", \"black\", \"emigrare\", \"crisi\", \"paese\", \"presidente\", \"scioperare\", \"aprile\", \"sicilia\", \"diamond\", \"california\", \"roosevelt\", \"cardinale\", \"borghesia\", \"mafia\", \"marx\", \"planches\", \"vendetta\", \"pelloux\", \"jackson\", \"navigabile\", \"giurato\", \"mayor\", \"puccini\", \"culto\", \"vuoto\", \"consociato\", \"eglino\", \"coalizione\", \"socialismo\", \"fucilare\", \"mancluria\", \"errare\", \"1871\", \"terrible\", \"ventre\", \"passy\", \"thiers\", \"vallejo\", \"versailles\", \"calv\\u00e8\", \"maremm\", \"parassitario\", \"latino\", \"libert\\u00e0\", \"anarchico\", \"chilometro\", \"barra\", \"roosevelt\", \"diritto\", \"sociale\", \"colono\", \"caserma\", \"california\", \"ambasciatore\", \"figlio\", \"leggere\", \"francia\", \"cardinale\", \"contea\", \"touring\", \"buenos\", \"topo\", \"dittatura\", \"scioperare\", \"romanzare\", \"giuramento\", \"ayres\", \"cereale\", \"klscineff\", \"comprare\", \"garibaldi\", \"zanardelli\", \"raffo\", \"prandebourg\", \"moriondo\", \"mormone\", \"nagar\", \"diera\", \"corona\", \"temps\", \"romanziere\", \"ducicelo\", \"pol\\u00ectica\", \"possidente\", \"sardegna\", \"padrona\", \"club\", \"duellare\", \"scalzo\", \"serbia\", \"times\", \"dragare\", \"alessandro\", \"socialisto\", \"negro\", \"albanese\", \"ferro\", \"potenza\", \"belgrado\", \"cardinale\", \"regina\", \"ministro\", \"ebreo\", \"compagno\", \"pecel\", \"perugia\", \"immigrare\", \"luzzatti\", \"temporaneo\", \"osaka\", \"giappone\", \"totale\", \"giapponese\", \"puntura\", \"gondola\", \"ultimatum\", \"spencer\", \"emigrare\", \"emigrazione\", \"gigtno\", \"decoration\", \"demente\", \"1902\", \"immig\", \"foscolo\", \"derivare\", \"connecticut\", \"czai\", \"czarina\", \"olugno\", \"isacco\", \"processione\", \"indiano\", \"suddividere\", \"professione\", \"bolognese\", \"bovio\", \"mazzoni\", \"conclave\", \"tomba\", \"immi\", \"1901\", \"squadrare\", \"russo\", \"venezia\", \"terno\", \"pietro\", \"cardinale\", \"papa\", \"marconi\", \"dollaro\", \"giugno\", \"aprile\", \"commissariare\", \"duchessa\", \"diamond\", \"black\", \"xlll\", \"regalare\", \"leone\", \"mercantile\", \"xiii\", \"fiorenzo\", \"strenna\", \"basilico\", \"eruzione\", \"moreno\", \"lettino\", \"scultorio\", \"cassare\", \"corriera\", \"calegarls\", \"agonia\", \"illuminare\", \"sinodo\", \"edoardo\", \"rettitudine\", \"lorenz\", \"hugo\", \"diamomi\", \"bettolo\", \"savoia\", \"scultore\", \"caff\\u00e8\", \"salma\", \"mayor\", \"cardinale\", \"papa\", \"defunto\", \"monumento\", \"victor\", \"biondo\", \"california\", \"pietro\", \"pontefice\", \"chaumi\\u00e8\", \"msgr\", \"capraia\", \"barone\", \"naso\", \"campanile\", \"laurent\", \"dazio\", \"damiani\", \"sepolto\", \"strisele\", \"pallone\", \"sgravio\", \"marcare\", \"marciana\", \"ruffe\", \"prinetti\", \"amburgo\", \"ixmbet\", \"pietra\", \"pugliese\", \"balla\", \"maloney\", \"risorgere\", \"crlspl\", \"brigare\", \"naumovics\", \"stazzare\", \"doganale\", \"cospiratorio\", \"notte\", \"patriarca\", \"musico\", \"agricoltura\", \"venezia\", \"lira\", \"congresso\", \"voto\", \"ebreo\", \"regina\", \"loubet\", \"gabinetto\", \"available\", \"text\", \"cleveland\", \"riduzione\", \"sognatore\", \"grover\", \"benicia\", \"ristoro\", \"adelaide\", \"edison\", \"garibaldino\", \"grillare\", \"melazgherd\", \"harris\", \"karageorgevitcb\", \"pergamena\", \"democratico\", \"1895\", \"navale\", \"andrea\", \"sintomatico\", \"tempio\", \"ferrari\", \"marescalchi\", \"onisbo\", \"algebrico\", \"1ttalia\", \"angeles\", \"violentissimo\", \"roso\", \"basilico\", \"lavoratore\", \"sgravio\", \"world\", \"festa\", \"marconi\", \"cardinale\", \"maggio\", \"austriaco\", \"francesco\", \"duse\", \"camarlengo\", \"schedare\", \"tolstoi\", \"stemma\", \"sarto\", \"comparso\", \"adriana\", \"macchiare\", \"eleggere\", \"pellegrino\", \"sfumato\", \"lagarde\", \"oreglia\", \"cardinale\", \"spinetta\", \"commozione\", \"scrutatore\", \"tappetti\", \"dogana\", \"menelik\", \"patriarca\", \"ilusclti\", \"iioleiano\", \"adjutoriura\", \"spondevano\", \"aparati\", \"spandersi\", \"silica\", \"ilustr\", \"hmki\", \"succc\", \"fcollegio\", \"fhunk\", \"basilico\", \"minuto\", \"oiorm\", \"nostrum\", \"nergico\", \"animazione\", \"dui\\u00f9\", \"impartire\", \"conclave\", \"lombardia\", \"zanardelll\", \"studente\", \"papa\", \"silenziare\", \"marconi\", \"pontefice\", \"follare\", \"pietro\", \"ferraris\", \"anello\", \"oreglia\", \"camerlengo\", \"molari\", \"vannutelli\", \"elettrico\", \"marconi\", \"galileo\", \"tolleranza\", \"richardson\", \"longevit\\u00e0\", \"solidit\\u00e0\", \"convinto\", \"informato\", \"cent\", \"autodifendere\", \"orlgoreff\", \"violetto\", \"diramare\", \"coopcrazione\", \"paramento\", \"antllle\", \"klshineff\", \"ruppert\", \"cordoglio\", \"abbandonato\", \"raggio\", \"cipio\", \"commovente\", \"cardinale\", \"privilegio\", \"lavoratore\", \"maggio\", \"pontefice\", \"onore\", \"svampa\", \"sarto\", \"festa\", \"mayor\", \"1895\", \"papa\", \"stazione\", \"vaticano\", \"defunto\", \"agosto\", \"roso\", \"leone\", \"xiii\", \"rampollare\", \"sociale\", \"galleria\", \"esposizione\", \"prinettl\", \"1905\", \"decorativo\", \"aslamazoff\", \"passerella\", \"eleonora\", \"trasporto\", \"torcia\", \"edificio\", \"uovo\", \"terrestre\", \"musolino\", \"gara\", \"impulso\", \"eventualmente\", \"baronessa\", \"queeta\", \"oadlo\", \"usufruire\", \"tenaglia\", \"kiorno\", \"pianto\", \"colautti\", \"trattativa\", \"cella\", \"arenare\", \"attorno\", \"rimpastare\", \"conclave\", \"cardinale\", \"kansas\", \"pontificio\", \"progettare\", \"milano\", \"fronte\", \"pontefice\", \"arto\", \"xiii\", \"visitare\", \"papa\", \"estrattivo\", \"fontea\", \"barela\", \"frenetico\", \"mlles\", \"roteare\", \"studente\", \"fugazy\", \"duomo\", \"laggi\\u00f9\", \"trento\", \"soverchio\", \"industria\", \"spencer\", \"onlea\", \"rlmptmdere\", \"cercatore\", \"cretese\", \"sorteggiare\", \"cialmente\", \"dentista\", \"questionario\", \"prostrare\", \"accettazione\", \"popolano\", \"trieste\", \"coloniale\", \"bestia\", \"falde\", \"karageorgevltch\", \"conclave\", \"officina\", \"marconi\", \"california\", \"milano\", \"nubifragio\", \"cardinale\", \"papato\", \"minerario\", \"eleggere\", \"ebreo\", \"conclavisti\", \"gondola\", \"ricchezza\", \"gotti\", \"venezia\", \"rampollare\", \"xiii\", \"papa\", \"miniera\", \"vaticano\", \"seggio\", \"mlles\", \"heppner\", \"rendita\", \"bmanuele\", \"defl\", \"paganini\", \"jone\", \"congra\", \"ecuador\", \"fugazy\", \"vittoria\", \"telegraph\", \"gallone\", \"produzione\", \"guida\", \"rettolo\", \"dragone\", \"ferrara\", \"mllan\", \"ebraico\", \"amilcare\", \"occidentale\", \"rlchter\", \"temporaneo\", \"vegetazione\", \"congiungere\", \"crimea\", \"dupuy\", \"libbra\", \"socialisto\", \"vittorio\", \"ferro\", \"turare\", \"campagna\", \"visitare\", \"negro\", \"serbia\", \"california\", \"regina\", \"marconi\", \"pietro\", \"voto\", \"salmone\", \"pescatore\", \"veliero\", \"diamond\", \"stazzare\", \"amburgo\", \"verdetto\", \"rodolfi\", \"black\", \"would\", \"that\", \"natalia\", \"prussiana\", \"gemma\", \"vacca\", \"flag\", \"jose\", \"which\", \"brunire\", \"italians\", \"through\", \"they\", \"were\", \"gallare\", \"other\", \"cameriera\", \"assoluzione\", \"renze\", \"tubercoloso\", \"jaures\", \"imperatore\", \"negro\", \"guglielmo\", \"nave\", \"flottare\", \"firenze\", \"mascagni\", \"latino\", \"colonia\", \"garibaldi\", \"uovo\", \"xlll\", \"bosdarl\", \"brago\", \"caprera\", \"albanese\", \"impazzire\", \"aires\", \"atlanta\", \"buenos\", \"piangere\", \"maturo\", \"city\", \"musolino\", \"carcerare\", \"mestare\", \"marinalo\", \"agonia\", \"varsalona\", \"sezione\", \"oslv\", \"itauah\", \"appli\", \"informarsi\", \"istanza\", \"meriillouale\", \"oblati\", \"valentlnr\", \"vevano\", \"maurizio\", \"botta\", \"odessa\", \"radicale\", \"grandioso\", \"leone\", \"giuseppe\", \"eroe\", \"ebreo\", \"scioperare\", \"xiii\", \"morire\"], \"Freq\": [0.0, 0.0, 0.0, 0.0, 0.0, 0.0, 0.0, 0.0, 0.0, 0.0, 0.0, 0.0, 0.0, 0.0, 0.0, 0.0, 0.0, 0.0, 0.0, 0.0, 0.0, 0.0, 0.0, 0.0, 0.0, 0.0, 0.0, 0.0, 0.0, 0.0, 0.03986756131052971, 0.033634383231401443, 0.04389979690313339, 0.032177623361349106, 0.027318963780999184, 0.02687102183699608, 0.02936960570514202, 0.028816891834139824, 0.02535599283874035, 0.02829747088253498, 0.03564918413758278, 0.034875426441431046, 0.025788679718971252, 0.026116052642464638, 0.027613842859864235, 0.03026513010263443, 0.03784165158867836, 0.02419465221464634, 0.028557810932397842, 0.023588769137859344, 0.022040575742721558, 0.02277803234755993, 0.02255389094352722, 0.022302202880382538, 0.026108218356966972, 0.021003542467951775, 0.021003542467951775, 0.02097322605550289, 0.022340424358844757, 0.02900909073650837, 0.02371968701481819, 0.026392370462417603, 0.02708001434803009, 0.03455395996570587, 0.029351258650422096, 0.03083641827106476, 0.027039790526032448, 0.026305468752980232, 0.03258117660880089, 0.027424192056059837, 0.026630213484168053, 0.03133362904191017, 0.02670195698738098, 0.026899095624685287, 0.02651621587574482, 0.029353754594922066, 0.02534797415137291, 0.03283483907580376, 0.023403795436024666, 0.02273688092827797, 0.024193312972784042, 0.02261841855943203, 0.021278010681271553, 0.024407127872109413, 0.021723303943872452, 0.019160231575369835, 0.01972304843366146, 0.031741004437208176, 0.019182858988642693, 0.019019339233636856, 0.019654911011457443, 0.018559008836746216, 0.017563331872224808, 0.02401457540690899, 0.018865274265408516, 0.018436027690768242, 0.021006302908062935, 0.017240842804312706, 0.017231810837984085, 0.01708229072391987, 0.017065979540348053, 0.022955575957894325, 0.017491014674305916, 0.016204888001084328, 0.01620223931968212, 0.021443871781229973, 0.019589107483625412, 0.025074580684304237, 0.02440602332353592, 0.02564190700650215, 0.02264583483338356, 0.022066738456487656, 0.022971218451857567, 0.024548513814806938, 0.022514255717396736, 0.02055046334862709, 0.02103712595999241, 0.020479651167988777, 0.020124629139900208, 0.021021679043769836, 0.03013702854514122, 0.03794514387845993, 0.023965394124388695, 0.02957916632294655, 0.026304539293050766, 0.022905845195055008, 0.024012163281440735, 0.023617567494511604, 0.02149958722293377, 0.030184539034962654, 0.021907277405261993, 0.021835027262568474, 0.018986565992236137, 0.018360160291194916, 0.01829754002392292, 0.018169423565268517, 0.022436801344156265, 0.019050797447562218, 0.017718976363539696, 0.018861737102270126, 0.017090165987610817, 0.017090165987610817, 0.017090164124965668, 0.017090164124965668, 0.017090164124965668, 0.01686388999223709, 0.01951078698039055, 0.01683710515499115, 0.0168096125125885, 0.017533861100673676, 0.024723147973418236, 0.023543566465377808, 0.024839574471116066, 0.01935291476547718, 0.02252439223229885, 0.023586133494973183, 0.021886499598622322, 0.02429702691733837, 0.01904807612299919, 0.01968885213136673, 0.023584820330142975, 0.020952003076672554, 0.019541557878255844, 0.01994534209370613, 0.020326102152466774, 0.021270981058478355, 0.019200528040528297, 0.025769051164388657, 0.025310393422842026, 0.023905647918581963, 0.02518695406615734, 0.038324788212776184, 0.022299006581306458, 0.02460295893251896, 0.020996950566768646, 0.021303579211235046, 0.019675659015774727, 0.02181055210530758, 0.024570534005761147, 0.024869276210665703, 0.018160777166485786, 0.01809091866016388, 0.018067169934511185, 0.017950961366295815, 0.017902575433254242, 0.0180857852101326, 0.018534090369939804, 0.020116468891501427, 0.017940420657396317, 0.017168886959552765, 0.017168885096907616, 0.018218521028757095, 0.01926678791642189, 0.02238989621400833, 0.019868267700076103, 0.018881984055042267, 0.016832204535603523, 0.031716760247945786, 0.02181515097618103, 0.021893316879868507, 0.02302212081849575, 0.023451481014490128, 0.020856540650129318, 0.019581947475671768, 0.02248651161789894, 0.02091563679277897, 0.021756913512945175, 0.027183648198843002, 0.02136884443461895, 0.02020193822681904, 0.020830657333135605, 0.01962619461119175, 0.03002951666712761, 0.02336403727531433, 0.03276859223842621, 0.021448027342557907, 0.02008480578660965, 0.018960312008857727, 0.02320997416973114, 0.024408774450421333, 0.019063686951994896, 0.01868402399122715, 0.01752050779759884, 0.015989577397704124, 0.016387036070227623, 0.028188977390527725, 0.023551952093839645, 0.0151134068146348, 0.015106888487935066, 0.015097761526703835, 0.020687775686383247, 0.014827950857579708, 0.014998122118413448, 0.017320359125733376, 0.014767993241548538, 0.014944786205887794, 0.015503577888011932, 0.014719507656991482, 0.01483885571360588, 0.016238603740930557, 0.015048298984766006, 0.014539400115609169, 0.017350956797599792, 0.019243942573666573, 0.018409598618745804, 0.01797916367650032, 0.027039028704166412, 0.016673140227794647, 0.01635626330971718, 0.018004022538661957, 0.019901832565665245, 0.01951436512172222, 0.02077002450823784, 0.019838424399495125, 0.021424351260066032, 0.031175443902611732, 0.023484162986278534, 0.023625044152140617, 0.01862911693751812, 0.018682491034269333, 0.01828678697347641, 0.017931755632162094, 0.032272208482027054, 0.041351910680532455, 0.04005942866206169, 0.028088930994272232, 0.02577069401741028, 0.04366082698106766, 0.027231354266405106, 0.04600293189287186, 0.019835732877254486, 0.02049977332353592, 0.024526547640562057, 0.019780628383159637, 0.01911732740700245, 0.019441617652773857, 0.019892618060112, 0.02300572395324707, 0.02037915214896202, 0.01788473315536976, 0.019040284678339958, 0.02063833549618721, 0.017538273707032204, 0.028990639373660088, 0.016733482480049133, 0.01857042871415615, 0.021002640947699547, 0.01698475517332554, 0.018630938604474068, 0.018991734832525253, 0.018588092178106308, 0.020627643913030624, 0.02684391476213932, 0.02435111068189144, 0.049637939780950546, 0.03165614977478981, 0.023432083427906036, 0.020627541467547417, 0.020174769684672356, 0.02024967223405838, 0.022165467962622643, 0.020515939220786095, 0.019886603578925133, 0.026730960234999657, 0.020919831469655037, 0.017768383026123047, 0.01899048313498497, 0.023584652692079544, 0.021055320277810097, 0.017295578494668007, 0.01679692417383194, 0.016929827630519867, 0.0170048326253891, 0.015663277357816696, 0.01845555193722248, 0.018453100696206093, 0.01992679573595524, 0.014325836673378944, 0.014253277331590652, 0.015573768876492977, 0.014672711491584778, 0.014156218618154526, 0.018438253551721573, 0.013818052597343922, 0.013723893091082573, 0.012737791053950787, 0.013794608414173126, 0.012792203575372696, 0.015382091514766216, 0.012794516049325466, 0.013677487149834633, 0.01496870256960392, 0.014302682131528854, 0.018011216074228287, 0.015202516689896584, 0.015902811661362648, 0.015608550049364567, 0.01825946941971779, 0.017291180789470673, 0.017332056537270546, 0.016475392505526543, 0.016367217525839806, 0.015838872641324997, 0.015399977564811707, 0.015053743496537209, 0.058984000235795975, 0.058983951807022095, 0.033977266401052475, 0.030902570113539696, 0.026140686124563217, 0.02177533507347107, 0.01772456057369709, 0.014824043028056622, 0.01481939572840929, 0.014820411801338196, 0.014470952562987804, 0.013681755401194096, 0.013680660165846348, 0.01337138656526804, 0.014096775092184544, 0.01381441205739975, 0.015636257827281952, 0.01431063748896122, 0.015076607465744019, 0.012123700231313705, 0.012017068453133106, 0.013007001020014286, 0.012816373258829117, 0.011474553495645523, 0.011470312252640724, 0.011473315767943859, 0.011154069565236568, 0.012542377226054668, 0.011144842021167278, 0.015525254420936108, 0.014738728292286396, 0.018330873921513557, 0.013812007382512093, 0.013290999457240105, 0.015487204305827618, 0.020182276144623756, 0.024789102375507355, 0.016649184748530388, 0.015014509670436382, 0.013567234389483929, 0.019562486559152603, 0.018879491835832596, 0.018574927002191544, 0.022956497967243195, 0.016387268900871277, 0.019137578085064888, 0.014478767290711403, 0.01309938170015812, 0.014341529458761215, 0.017715759575366974, 0.011915314942598343, 0.012016166001558304, 0.012628386728465557, 0.018286854028701782, 0.04521514102816582, 0.01125927921384573, 0.012471113353967667, 0.011767733842134476, 0.011167838238179684, 0.0108192078769207, 0.010777086019515991, 0.012701996602118015, 0.009885205887258053, 0.009885205887258053, 0.009885205887258053, 0.009885205887258053, 0.009885205887258053, 0.009885205887258053, 0.009885205887258053, 0.009885205887258053, 0.009885205887258053, 0.009885205887258053, 0.009885205887258053, 0.009885205887258053, 0.013673500157892704, 0.014332080259919167, 0.009885205887258053, 0.009885205887258053, 0.009885205887258053, 0.009885205887258053, 0.009885205887258053, 0.0118040069937706, 0.018847718834877014, 0.010922381654381752, 0.011258384212851524, 0.013766943477094173, 0.016101423650979996, 0.011376793496310711, 0.013805774971842766, 0.01269479375332594, 0.011812773533165455, 0.011884871870279312, 0.016625991091132164, 0.015393268316984177, 0.019923802465200424, 0.014751136302947998, 0.011537758633494377, 0.013061325997114182, 0.01571042463183403, 0.02727186493575573, 0.010569543577730656, 0.010256027802824974, 0.010501525364816189, 0.01044266764074564, 0.010265639051795006, 0.010081146843731403, 0.010263442061841488, 0.009212804958224297, 0.009204738773405552, 0.009181182831525803, 0.009595479816198349, 0.009533079341053963, 0.009061580523848534, 0.009420069865882397, 0.009547555819153786, 0.008867362514138222, 0.008864110335707664, 0.009441107511520386, 0.009566151537001133, 0.0097535140812397, 0.00916909147053957, 0.009403200820088387, 0.03267470747232437, 0.009855084121227264, 0.014865046367049217, 0.015650061890482903, 0.01538460049778223, 0.011758174747228622, 0.010756395757198334, 0.011425232514739037, 0.011380990035831928, 0.011565355584025383, 0.009972169995307922, 0.01310401875525713, 0.011263955384492874, 0.011311891488730907, 0.01086037140339613, 0.010604851879179478, 0.010408922098577023, 0.011218617670238018, 0.011342876590788364, 0.010656210593879223, 0.01076603401452303, 0.012579710222780704, 0.015456647612154484, 0.010948129929602146, 0.01160153653472662, 0.01076029147952795, 0.010088320821523666, 0.009874965064227581, 0.009874965064227581, 0.010463007725775242, 0.009358257986605167, 0.01101955771446228, 0.010455742478370667, 0.009763824753463268, 0.008956479839980602, 0.01163377333432436, 0.009355934336781502, 0.00857148040086031, 0.00857148040086031, 0.00857148040086031, 0.00857148040086031, 0.008571479469537735, 0.008571479469537735, 0.008731858804821968, 0.009247206151485443, 0.008603096008300781, 0.008658511564135551, 0.010565721429884434, 0.008801802061498165, 0.009407450444996357, 0.007856038399040699, 0.015632817521691322, 0.02247561886906624, 0.009905456565320492, 0.009550747461616993, 0.010162821970880032, 0.0100920544937253, 0.00923928152769804, 0.010054077953100204, 0.00899624265730381, 0.009443501010537148, 0.009242227301001549, 0.009323823265731335, 0.009772739373147488, 0.009671833366155624, 0.009631997905671597, 0.009329065680503845, 0.01002221368253231, 0.008720343932509422, 0.013971278443932533, 0.009236190468072891, 0.00947094988077879, 0.009069778025150299, 0.009867615066468716, 0.008161792531609535, 0.010531927458941936, 0.008804199285805225, 0.007738631684333086, 0.007738631684333086, 0.007738631684333086, 0.007738631684333086, 0.007738631684333086, 0.007738631684333086, 0.007676153443753719, 0.007776414509862661, 0.007652475498616695, 0.007658302318304777, 0.007919269613921642, 0.010849272832274437, 0.008789721876382828, 0.0076634082943201065, 0.007753563579171896, 0.008599752560257912, 0.0162429828196764, 0.00895242765545845, 0.01677514798939228, 0.013436160050332546, 0.011228499002754688, 0.008750646375119686, 0.019817069172859192, 0.009985181502997875, 0.008874760009348392, 0.009870288893580437, 0.011370587162673473, 0.008421918377280235, 0.008206292055547237, 0.008593862876296043, 0.009394018910825253, 0.009581733494997025, 0.009189212694764137, 0.009751257486641407, 0.00979948416352272, 0.008949559181928635, 0.008969798684120178, 0.012054834514856339, 0.012368744239211082, 0.011656046845018864, 0.011693237349390984, 0.008577442727982998, 0.008577442727982998, 0.008577442727982998, 0.008577442727982998, 0.008577441796660423, 0.008577441796660423, 0.008854363113641739, 0.011447183787822723, 0.008556101471185684, 0.008300342597067356, 0.012933557853102684, 0.008230865933001041, 0.01079479604959488, 0.007828624919056892, 0.007949484512209892, 0.007828624919056892, 0.00818234495818615, 0.008675645105540752, 0.008180757984519005, 0.007828624919056892, 0.00843063835054636, 0.007394244894385338, 0.007092667277902365, 0.007390595506876707, 0.007019865792244673, 0.007208424620330334, 0.011459486559033394, 0.009206460788846016, 0.009948824532330036, 0.008707046508789062, 0.00848632026463747, 0.00869612954556942, 0.008219816721975803, 0.008580890484154224, 0.00852350052446127, 0.00832888949662447, 0.008342633955180645, 0.008282700553536415, 0.008231760002672672, 0.011823916807770729, 0.011454641819000244, 0.009375170804560184, 0.01309674046933651, 0.008784808218479156, 0.008595018647611141, 0.007443094626069069, 0.007160731591284275, 0.011424426920711994, 0.006843291223049164, 0.0072151655331254005, 0.008688992820680141, 0.006668097339570522, 0.006481498945504427, 0.006491743493825197, 0.006138811819255352, 0.008968457579612732, 0.006000278051942587, 0.007102104369550943, 0.005976993590593338, 0.0061181457713246346, 0.005840294994413853, 0.005708978045731783, 0.005993027240037918, 0.0060270861722528934, 0.005989367142319679, 0.005594189278781414, 0.005592867732048035, 0.006520961876958609, 0.005593104287981987, 0.008405530825257301, 0.0075988005846738815, 0.008171731606125832, 0.007863442413508892, 0.006554143037647009, 0.0064507159404456615, 0.0066474019549787045, 0.0062001426704227924, 0.006196475122123957, 0.002904175315052271, 0.0020296378061175346, 0.001913383835926652, 0.00155227305367589, 0.001519391080364585, 0.0015419250121340156, 0.0018261041259393096, 0.0012813741341233253, 0.001262672245502472, 0.001259030308574438, 0.0014881417155265808, 0.001463580527342856, 0.0011852968018501997, 0.0015073907561600208, 0.0011865475680679083, 0.0011143217561766505, 0.0011446616845205426, 0.001064385985955596, 0.001275779795832932, 0.001096982043236494, 0.001382808550260961, 0.0010593258775770664, 0.0010525481775403023, 0.0010281834984198213, 0.0010260847629979253, 0.0010460581397637725, 0.0010234060464426875, 0.0010203496785834432, 0.0010171354515478015, 0.001016030553728342, 0.0010884559014812112, 0.001118095824494958, 0.001165539026260376, 0.0011995339300483465, 0.0011456974316388369, 0.0014965797308832407, 0.0012653055600821972, 0.0011594620300456882, 0.0013013096759095788, 0.0012783019337803125, 0.0013194249477237463, 0.0011627021012827754], \"Total\": [0.0, 0.0, 0.0, 0.0, 0.0, 0.0, 0.0, 0.0, 0.0, 0.0, 0.0, 0.0, 0.0, 0.0, 0.0, 0.0, 0.0, 0.0, 0.0, 0.0, 0.0, 0.0, 0.0, 0.0, 0.0, 0.0, 0.0, 0.0, 0.0, 0.0, 0.1091277003288269, 0.10219737142324448, 0.14185215532779694, 0.10683269053697586, 0.09588194638490677, 0.09553556889295578, 0.10586611926555634, 0.10518871992826462, 0.09402421861886978, 0.10565942525863647, 0.13473591208457947, 0.13333319127559662, 0.09919238090515137, 0.1007683053612709, 0.10683578997850418, 0.11846011877059937, 0.14913420379161835, 0.0967629998922348, 0.11597296595573425, 0.09598797559738159, 0.09060356020927429, 0.09371355921030045, 0.09412071108818054, 0.09344514459371567, 0.11041656881570816, 0.08956652879714966, 0.08956652879714966, 0.08981350809335709, 0.09634342044591904, 0.1253797560930252, 0.10271287709474564, 0.11618521809577942, 0.12010987848043442, 0.16066007316112518, 0.1357574462890625, 0.14549706876277924, 0.12407134473323822, 0.11942637711763382, 0.1716475486755371, 0.12919671833515167, 0.12356927990913391, 0.2162546068429947, 0.12607266008853912, 0.13481907546520233, 0.13485896587371826, 0.10515659302473068, 0.09608092904090881, 0.12595947086811066, 0.09322944283485413, 0.09461864084005356, 0.10289786756038666, 0.10068769752979279, 0.09534291923046112, 0.11242128163576126, 0.10176662355661392, 0.0897737443447113, 0.09321866929531097, 0.15161414444446564, 0.09234476089477539, 0.09301202744245529, 0.09618832170963287, 0.09140274673700333, 0.08796662092208862, 0.12036121636629105, 0.09525365382432938, 0.09316974133253098, 0.10651151835918427, 0.08780752867460251, 0.08780306577682495, 0.0877293050289154, 0.08772125840187073, 0.11853179335594177, 0.09308058768510818, 0.08662297576665878, 0.08662190288305283, 0.11663937568664551, 0.10643551498651505, 0.14463171362876892, 0.13990439474582672, 0.1609979122877121, 0.13556015491485596, 0.13056634366512299, 0.14148586988449097, 0.1607787311077118, 0.14426833391189575, 0.12062012404203415, 0.13597799837589264, 0.16795441508293152, 0.151479572057724, 0.3360786736011505, 0.10374516993761063, 0.1306256353855133, 0.09404900670051575, 0.11992208659648895, 0.10714634507894516, 0.09427919238805771, 0.10159362107515335, 0.10512528568506241, 0.09760574996471405, 0.1383974850177765, 0.10212549567222595, 0.10286845266819, 0.0912977084517479, 0.08836258947849274, 0.08833765983581543, 0.08941692858934402, 0.11060646176338196, 0.09561054408550262, 0.08940031379461288, 0.09554688632488251, 0.08701193332672119, 0.08701193332672119, 0.08701193332672119, 0.08701193332672119, 0.08701193332672119, 0.08704432100057602, 0.1008526086807251, 0.08703470975160599, 0.08705036342144012, 0.09099680185317993, 0.1332549899816513, 0.13309378921985626, 0.14549706876277924, 0.1051800325512886, 0.13473591208457947, 0.151479572057724, 0.13324734568595886, 0.16066007316112518, 0.1051703467965126, 0.11250490695238113, 0.16795441508293152, 0.1327258050441742, 0.11713188141584396, 0.1285131573677063, 0.1442383974790573, 0.3360786736011505, 0.11591343581676483, 0.0966409295797348, 0.09733223170042038, 0.09385563433170319, 0.10555387288331985, 0.1607787311077118, 0.09573111683130264, 0.10622204840183258, 0.09187638759613037, 0.09628228098154068, 0.08962564915418625, 0.10284887999296188, 0.1165454238653183, 0.1194109320640564, 0.08871712535619736, 0.0886816680431366, 0.08866047114133835, 0.08861475437879562, 0.0885988175868988, 0.08975323289632797, 0.09222237020730972, 0.10046619176864624, 0.09064172208309174, 0.08711887896060944, 0.08711887896060944, 0.0936431884765625, 0.10033531486988068, 0.1166839450597763, 0.10420902818441391, 0.09983767569065094, 0.09009696543216705, 0.1716475486755371, 0.12246831506490707, 0.12851719558238983, 0.14355698227882385, 0.14859409630298615, 0.12218531221151352, 0.10771002620458603, 0.14668090641498566, 0.13484814763069153, 0.15337897837162018, 0.3360786736011505, 0.15137062966823578, 0.1302378624677658, 0.1671108603477478, 0.13485896587371826, 0.10239757597446442, 0.10277997702360153, 0.14913420379161835, 0.10009022057056427, 0.09572696685791016, 0.09058264642953873, 0.113772913813591, 0.12079157680273056, 0.09652216732501984, 0.09478500485420227, 0.09203393012285233, 0.08708495646715164, 0.09149836748838425, 0.1609979122877121, 0.13469834625720978, 0.0864536464214325, 0.08645367622375488, 0.08644979447126389, 0.118864506483078, 0.08540331572294235, 0.0864541083574295, 0.0999085009098053, 0.08539973199367523, 0.08645431697368622, 0.08985410630702972, 0.08539682626724243, 0.08645473420619965, 0.09476304799318314, 0.08785925060510635, 0.08538604527711868, 0.10225861519575119, 0.11565733700990677, 0.11242128163576126, 0.10952851921319962, 0.18480615317821503, 0.09992671757936478, 0.09783697873353958, 0.11233530938625336, 0.130027636885643, 0.12991119921207428, 0.1449417620897293, 0.13739188015460968, 0.15908536314964294, 0.3360786736011505, 0.19853578507900238, 0.2162546068429947, 0.12624119222164154, 0.15697935223579407, 0.14426833391189575, 0.12980514764785767, 0.10266619920730591, 0.13597799837589264, 0.13990439474582672, 0.09970425069332123, 0.10140380263328552, 0.17579759657382965, 0.11104269325733185, 0.19132065773010254, 0.09102683514356613, 0.09437679499387741, 0.11471535265445709, 0.09270010888576508, 0.08998643606901169, 0.09236720204353333, 0.09587658941745758, 0.11234743148088455, 0.10193688422441483, 0.08954481035470963, 0.09598852694034576, 0.10408871620893478, 0.09004171192646027, 0.15161754190921783, 0.08759421855211258, 0.09726645797491074, 0.11083240061998367, 0.08996343612670898, 0.09942396730184555, 0.10143711417913437, 0.09995619207620621, 0.11194519698619843, 0.15161414444446564, 0.1383974850177765, 0.3360786736011505, 0.19853578507900238, 0.13403905928134918, 0.11363734304904938, 0.11086028069257736, 0.1131628006696701, 0.16795441508293152, 0.15908536314964294, 0.1697363704442978, 0.11122289299964905, 0.09641027450561523, 0.08915761113166809, 0.09597157686948776, 0.11925693601369858, 0.10771921277046204, 0.08874215185642242, 0.08959784358739853, 0.09212930500507355, 0.09684573113918304, 0.0903153121471405, 0.10683611780405045, 0.10684459656476974, 0.11559072136878967, 0.0857270359992981, 0.08566327393054962, 0.0961497500538826, 0.09170600026845932, 0.08915010094642639, 0.11779477447271347, 0.08878570050001144, 0.08980247378349304, 0.08406224846839905, 0.09164032340049744, 0.08607397973537445, 0.10447248071432114, 0.08703158795833588, 0.09352144598960876, 0.1026035025715828, 0.09854958951473236, 0.1263883411884308, 0.10526379197835922, 0.1135006919503212, 0.11356369405984879, 0.1449417620897293, 0.13937480747699738, 0.14463171362876892, 0.14306609332561493, 0.1671108603477478, 0.15137062966823578, 0.13117100298404694, 0.12195254862308502, 0.13083785772323608, 0.13083785772323608, 0.11083536595106125, 0.12461615353822708, 0.11144876480102539, 0.09487921744585037, 0.09308192878961563, 0.08844127506017685, 0.08844849467277527, 0.08866068720817566, 0.08962247520685196, 0.08554165065288544, 0.08554146438837051, 0.08522512763738632, 0.08993130922317505, 0.09062089025974274, 0.10275888442993164, 0.09867027401924133, 0.10878141224384308, 0.08750574290752411, 0.08773179352283478, 0.0955190435051918, 0.0948176309466362, 0.08503726124763489, 0.08501975238323212, 0.0853116363286972, 0.08310718089342117, 0.09348668903112411, 0.08310487866401672, 0.1161661297082901, 0.11471535265445709, 0.14815641939640045, 0.10684459656476974, 0.10196392983198166, 0.1273649036884308, 0.2162546068429947, 0.3360786736011505, 0.15972399711608887, 0.13100659847259521, 0.11159723252058029, 0.09843457490205765, 0.1012171283364296, 0.10188932716846466, 0.12595947086811066, 0.09900177270174026, 0.12323221564292908, 0.09632031619548798, 0.08841822296380997, 0.09943097084760666, 0.12399671226739883, 0.08485575765371323, 0.08594229817390442, 0.0913444459438324, 0.1339939832687378, 0.3360786736011505, 0.08465074747800827, 0.0952361524105072, 0.09030625224113464, 0.08719468116760254, 0.08728311955928802, 0.08761303126811981, 0.10526379197835922, 0.08245166391134262, 0.08245166391134262, 0.08245166391134262, 0.08245166391134262, 0.08245166391134262, 0.08245166391134262, 0.08245166391134262, 0.08245166391134262, 0.08245166391134262, 0.08245166391134262, 0.08245166391134262, 0.08245166391134262, 0.11471535265445709, 0.12041563540697098, 0.08245166391134262, 0.08245166391134262, 0.08245166391134262, 0.08245166391134262, 0.08245166391134262, 0.10026397556066513, 0.18480615317821503, 0.0936320424079895, 0.09852010011672974, 0.13230392336845398, 0.19853578507900238, 0.10680174082517624, 0.2162546068429947, 0.1697363704442978, 0.13571609556674957, 0.15908536314964294, 0.08975698798894882, 0.10106266289949417, 0.1339939832687378, 0.10127269476652145, 0.08491218835115433, 0.09686362743377686, 0.11746743321418762, 0.2162546068429947, 0.08529147505760193, 0.08360999077558517, 0.08600284904241562, 0.08602353930473328, 0.08753859996795654, 0.08862575888633728, 0.09102431684732437, 0.08204810321331024, 0.08205253630876541, 0.08206548541784286, 0.08627203106880188, 0.08610134571790695, 0.08225466310977936, 0.0856483057141304, 0.08808648586273193, 0.08226144313812256, 0.08226155489683151, 0.08780276775360107, 0.08908264338970184, 0.09100012481212616, 0.08564590662717819, 0.08812782168388367, 0.3360786736011505, 0.09273087233304977, 0.14815641939640045, 0.15972399711608887, 0.1697363704442978, 0.12215027958154678, 0.10738474875688553, 0.12323221564292908, 0.1273649036884308, 0.1383974850177765, 0.09867027401924133, 0.19853578507900238, 0.14702972769737244, 0.15078720450401306, 0.13403905928134918, 0.1241154670715332, 0.1161661297082901, 0.17579759657382965, 0.19132065773010254, 0.13301602005958557, 0.16066007316112518, 0.09398658573627472, 0.11628159135580063, 0.08406563103199005, 0.0910869613289833, 0.08496370166540146, 0.08670467883348465, 0.08665593713521957, 0.08734721690416336, 0.09349248558282852, 0.08454141765832901, 0.10012145340442657, 0.09608428180217743, 0.09025618433952332, 0.08475565910339355, 0.1103343740105629, 0.08882509917020798, 0.08168897777795792, 0.08168897777795792, 0.08168897777795792, 0.08168897777795792, 0.08168897777795792, 0.08168897777795792, 0.084749735891819, 0.09018372744321823, 0.0841008871793747, 0.08637768030166626, 0.10543397068977356, 0.08994502574205399, 0.09757324308156967, 0.08338919281959534, 0.18480615317821503, 0.3360786736011505, 0.11158827692270279, 0.1071973666548729, 0.129910409450531, 0.13545624911785126, 0.10980968922376633, 0.1697363704442978, 0.10855716466903687, 0.19132065773010254, 0.1556415557861328, 0.19853578507900238, 0.08303800225257874, 0.08466494083404541, 0.08470062911510468, 0.08476225286722183, 0.09205380827188492, 0.08257823437452316, 0.13230392336845398, 0.08775340020656586, 0.09008760005235672, 0.0886547639966011, 0.09972921758890152, 0.08373936265707016, 0.10887647420167923, 0.09149836748838425, 0.08100389689207077, 0.08100389689207077, 0.08100389689207077, 0.08100389689207077, 0.08100389689207077, 0.08100389689207077, 0.0819861963391304, 0.0830870196223259, 0.08196640759706497, 0.0820288211107254, 0.08503282815217972, 0.11725769191980362, 0.09505970776081085, 0.08301985263824463, 0.08405986428260803, 0.09380658715963364, 0.18480615317821503, 0.10010445863008499, 0.2162546068429947, 0.16795441508293152, 0.13545624911785126, 0.09824121743440628, 0.3360786736011505, 0.12356927990913391, 0.10246778279542923, 0.12399671226739883, 0.1671108603477478, 0.0952841192483902, 0.09203393012285233, 0.10448148846626282, 0.13516294956207275, 0.1449417620897293, 0.13301602005958557, 0.19132065773010254, 0.19853578507900238, 0.13563381135463715, 0.15078720450401306, 0.08840312063694, 0.09205380827188492, 0.08906761556863785, 0.09534081816673279, 0.08191070705652237, 0.08191070705652237, 0.08191070705652237, 0.08191070705652237, 0.08191070705652237, 0.08191070705652237, 0.08775340020656586, 0.11372506618499756, 0.08666890114545822, 0.08510347455739975, 0.1342027336359024, 0.08558179438114166, 0.11229205131530762, 0.08377432823181152, 0.0853668674826622, 0.08548712730407715, 0.0901833325624466, 0.09651383012533188, 0.09133630990982056, 0.08771176636219025, 0.09572696685791016, 0.08518572151660919, 0.08243255317211151, 0.08746401220560074, 0.0842353031039238, 0.08668495714664459, 0.14859409630298615, 0.12789663672447205, 0.14668090641498566, 0.1179652288556099, 0.11851027607917786, 0.1556415557861328, 0.12218531221151352, 0.1716475486755371, 0.16795441508293152, 0.15137062966823578, 0.2162546068429947, 0.15908536314964294, 0.14306609332561493, 0.09931361675262451, 0.10508252680301666, 0.09089168906211853, 0.13597799837589264, 0.09352144598960876, 0.09170600026845932, 0.08297619968652725, 0.08341290801763535, 0.13990439474582672, 0.08390378206968307, 0.08889347314834595, 0.10750001668930054, 0.08365466445684433, 0.0847093015909195, 0.0849752128124237, 0.08168474584817886, 0.12227490544319153, 0.08189904689788818, 0.0970010980963707, 0.08193515241146088, 0.08566009253263474, 0.08214642852544785, 0.08164563775062561, 0.08621600270271301, 0.08819516003131866, 0.0890624076128006, 0.08320830762386322, 0.083206407725811, 0.09823241829872131, 0.08433753252029419, 0.12766210734844208, 0.12218531221151352, 0.14179274439811707, 0.13546358048915863, 0.10493889451026917, 0.10743869841098785, 0.11698094755411148, 0.1332549899816513, 0.1394817978143692, 0.1165454238653183, 0.09608428180217743, 0.09970425069332123, 0.08236172050237656, 0.0826607495546341, 0.08739060163497925, 0.10771002620458603, 0.0804089680314064, 0.08057904988527298, 0.0806121677160263, 0.09733223170042038, 0.10193748772144318, 0.0826055034995079, 0.1069713830947876, 0.08475565910339355, 0.08098028600215912, 0.08436722308397293, 0.07975310832262039, 0.09598852694034576, 0.0825982615351677, 0.10415386408567429, 0.07981694489717484, 0.0800439789891243, 0.07829518616199493, 0.07831427454948425, 0.07991498708724976, 0.0783386304974556, 0.07836642861366272, 0.07839566469192505, 0.0784057080745697, 0.08413415402173996, 0.08729921281337738, 0.09380573779344559, 0.09878803044557571, 0.09543392062187195, 0.17579759657382965, 0.12653648853302002, 0.10338940471410751, 0.1671108603477478, 0.1607787311077118, 0.19132065773010254, 0.12415505945682526], \"Category\": [\"Default\", \"Default\", \"Default\", \"Default\", \"Default\", \"Default\", \"Default\", \"Default\", \"Default\", \"Default\", \"Default\", \"Default\", \"Default\", \"Default\", \"Default\", \"Default\", \"Default\", \"Default\", \"Default\", \"Default\", \"Default\", \"Default\", \"Default\", \"Default\", \"Default\", \"Default\", \"Default\", \"Default\", \"Default\", \"Default\", \"Topic1\", \"Topic1\", \"Topic1\", \"Topic1\", \"Topic1\", \"Topic1\", \"Topic1\", \"Topic1\", \"Topic1\", \"Topic1\", \"Topic1\", \"Topic1\", \"Topic1\", \"Topic1\", \"Topic1\", \"Topic1\", \"Topic1\", \"Topic1\", \"Topic1\", \"Topic1\", \"Topic1\", \"Topic1\", \"Topic1\", \"Topic1\", \"Topic1\", \"Topic1\", \"Topic1\", \"Topic1\", \"Topic1\", \"Topic1\", \"Topic1\", \"Topic1\", \"Topic1\", \"Topic1\", \"Topic1\", \"Topic1\", \"Topic1\", \"Topic1\", \"Topic1\", \"Topic1\", \"Topic1\", \"Topic1\", \"Topic1\", \"Topic1\", \"Topic1\", \"Topic2\", \"Topic2\", \"Topic2\", \"Topic2\", \"Topic2\", \"Topic2\", \"Topic2\", \"Topic2\", \"Topic2\", \"Topic2\", \"Topic2\", \"Topic2\", \"Topic2\", \"Topic2\", \"Topic2\", \"Topic2\", \"Topic2\", \"Topic2\", \"Topic2\", \"Topic2\", \"Topic2\", \"Topic2\", \"Topic2\", \"Topic2\", \"Topic2\", \"Topic2\", \"Topic2\", \"Topic2\", \"Topic2\", \"Topic2\", \"Topic2\", \"Topic2\", \"Topic2\", \"Topic2\", \"Topic2\", \"Topic2\", \"Topic2\", \"Topic2\", \"Topic2\", \"Topic2\", \"Topic2\", \"Topic2\", \"Topic2\", \"Topic2\", \"Topic2\", \"Topic3\", \"Topic3\", \"Topic3\", \"Topic3\", \"Topic3\", \"Topic3\", \"Topic3\", \"Topic3\", \"Topic3\", \"Topic3\", \"Topic3\", \"Topic3\", \"Topic3\", \"Topic3\", \"Topic3\", \"Topic3\", \"Topic3\", \"Topic3\", \"Topic3\", \"Topic3\", \"Topic3\", \"Topic3\", \"Topic3\", \"Topic3\", \"Topic3\", \"Topic3\", \"Topic3\", \"Topic3\", \"Topic3\", \"Topic3\", \"Topic3\", \"Topic3\", \"Topic3\", \"Topic3\", \"Topic3\", \"Topic3\", \"Topic3\", \"Topic3\", \"Topic3\", \"Topic3\", \"Topic3\", \"Topic3\", \"Topic3\", \"Topic3\", \"Topic3\", \"Topic3\", \"Topic3\", \"Topic4\", \"Topic4\", \"Topic4\", \"Topic4\", \"Topic4\", \"Topic4\", \"Topic4\", \"Topic4\", \"Topic4\", \"Topic4\", \"Topic4\", \"Topic4\", \"Topic4\", \"Topic4\", \"Topic4\", \"Topic4\", \"Topic4\", \"Topic4\", \"Topic4\", \"Topic4\", \"Topic4\", \"Topic4\", \"Topic4\", \"Topic4\", \"Topic4\", \"Topic4\", \"Topic4\", \"Topic4\", \"Topic4\", \"Topic4\", \"Topic4\", \"Topic4\", \"Topic4\", \"Topic4\", \"Topic4\", \"Topic4\", \"Topic4\", \"Topic4\", \"Topic4\", \"Topic4\", \"Topic4\", \"Topic4\", \"Topic4\", \"Topic4\", \"Topic4\", \"Topic5\", \"Topic5\", \"Topic5\", \"Topic5\", \"Topic5\", \"Topic5\", \"Topic5\", \"Topic5\", \"Topic5\", \"Topic5\", \"Topic5\", \"Topic5\", \"Topic5\", \"Topic5\", \"Topic5\", \"Topic5\", \"Topic5\", \"Topic5\", \"Topic5\", \"Topic5\", \"Topic5\", \"Topic5\", \"Topic5\", \"Topic5\", \"Topic5\", \"Topic5\", \"Topic5\", \"Topic5\", \"Topic5\", \"Topic5\", \"Topic5\", \"Topic5\", \"Topic5\", \"Topic5\", \"Topic5\", \"Topic5\", \"Topic5\", \"Topic5\", \"Topic5\", \"Topic5\", \"Topic5\", \"Topic5\", \"Topic5\", \"Topic5\", \"Topic5\", \"Topic5\", \"Topic5\", \"Topic5\", \"Topic5\", \"Topic5\", \"Topic6\", \"Topic6\", \"Topic6\", \"Topic6\", \"Topic6\", \"Topic6\", \"Topic6\", \"Topic6\", \"Topic6\", \"Topic6\", \"Topic6\", \"Topic6\", \"Topic6\", \"Topic6\", \"Topic6\", \"Topic6\", \"Topic6\", \"Topic6\", \"Topic6\", \"Topic6\", \"Topic6\", \"Topic6\", \"Topic6\", \"Topic6\", \"Topic6\", \"Topic6\", \"Topic6\", \"Topic6\", \"Topic6\", \"Topic6\", \"Topic6\", \"Topic6\", \"Topic6\", \"Topic6\", \"Topic6\", \"Topic6\", \"Topic6\", \"Topic6\", \"Topic6\", \"Topic6\", \"Topic6\", \"Topic7\", \"Topic7\", \"Topic7\", \"Topic7\", \"Topic7\", \"Topic7\", \"Topic7\", \"Topic7\", \"Topic7\", \"Topic7\", \"Topic7\", \"Topic7\", \"Topic7\", \"Topic7\", \"Topic7\", \"Topic7\", \"Topic7\", \"Topic7\", \"Topic7\", \"Topic7\", \"Topic7\", \"Topic7\", \"Topic7\", \"Topic7\", \"Topic7\", \"Topic7\", \"Topic7\", \"Topic7\", \"Topic7\", \"Topic7\", \"Topic7\", \"Topic7\", \"Topic7\", \"Topic7\", \"Topic7\", \"Topic7\", \"Topic7\", \"Topic7\", \"Topic7\", \"Topic7\", \"Topic7\", \"Topic7\", \"Topic8\", \"Topic8\", \"Topic8\", \"Topic8\", \"Topic8\", \"Topic8\", \"Topic8\", \"Topic8\", \"Topic8\", \"Topic8\", \"Topic8\", \"Topic8\", \"Topic8\", \"Topic8\", \"Topic8\", \"Topic8\", \"Topic8\", \"Topic8\", \"Topic8\", \"Topic8\", \"Topic8\", \"Topic8\", \"Topic8\", \"Topic8\", \"Topic8\", \"Topic8\", \"Topic8\", \"Topic8\", \"Topic8\", \"Topic8\", \"Topic8\", \"Topic8\", \"Topic8\", \"Topic8\", \"Topic8\", \"Topic8\", \"Topic8\", \"Topic8\", \"Topic8\", \"Topic8\", \"Topic9\", \"Topic9\", \"Topic9\", \"Topic9\", \"Topic9\", \"Topic9\", \"Topic9\", \"Topic9\", \"Topic9\", \"Topic9\", \"Topic9\", \"Topic9\", \"Topic9\", \"Topic9\", \"Topic9\", \"Topic9\", \"Topic9\", \"Topic9\", \"Topic9\", \"Topic9\", \"Topic9\", \"Topic9\", \"Topic9\", \"Topic9\", \"Topic9\", \"Topic9\", \"Topic9\", \"Topic9\", \"Topic9\", \"Topic9\", \"Topic9\", \"Topic9\", \"Topic9\", \"Topic9\", \"Topic9\", \"Topic9\", \"Topic9\", \"Topic9\", \"Topic9\", \"Topic9\", \"Topic9\", \"Topic9\", \"Topic9\", \"Topic9\", \"Topic9\", \"Topic9\", \"Topic9\", \"Topic9\", \"Topic9\", \"Topic9\", \"Topic9\", \"Topic9\", \"Topic10\", \"Topic10\", \"Topic10\", \"Topic10\", \"Topic10\", \"Topic10\", \"Topic10\", \"Topic10\", \"Topic10\", \"Topic10\", \"Topic10\", \"Topic10\", \"Topic10\", \"Topic10\", \"Topic10\", \"Topic10\", \"Topic10\", \"Topic10\", \"Topic10\", \"Topic10\", \"Topic10\", \"Topic10\", \"Topic10\", \"Topic10\", \"Topic10\", \"Topic10\", \"Topic10\", \"Topic10\", \"Topic10\", \"Topic10\", \"Topic10\", \"Topic10\", \"Topic10\", \"Topic10\", \"Topic10\", \"Topic10\", \"Topic10\", \"Topic10\", \"Topic10\", \"Topic10\", \"Topic10\", \"Topic10\", \"Topic10\", \"Topic10\", \"Topic10\", \"Topic10\", \"Topic10\", \"Topic10\", \"Topic10\", \"Topic10\", \"Topic10\", \"Topic11\", \"Topic11\", \"Topic11\", \"Topic11\", \"Topic11\", \"Topic11\", \"Topic11\", \"Topic11\", \"Topic11\", \"Topic11\", \"Topic11\", \"Topic11\", \"Topic11\", \"Topic11\", \"Topic11\", \"Topic11\", \"Topic11\", \"Topic11\", \"Topic11\", \"Topic11\", \"Topic11\", \"Topic11\", \"Topic11\", \"Topic11\", \"Topic11\", \"Topic11\", \"Topic11\", \"Topic11\", \"Topic11\", \"Topic11\", \"Topic11\", \"Topic11\", \"Topic11\", \"Topic11\", \"Topic11\", \"Topic11\", \"Topic11\", \"Topic11\", \"Topic11\", \"Topic11\", \"Topic11\", \"Topic11\", \"Topic12\", \"Topic12\", \"Topic12\", \"Topic12\", \"Topic12\", \"Topic12\", \"Topic12\", \"Topic12\", \"Topic12\", \"Topic12\", \"Topic12\", \"Topic12\", \"Topic12\", \"Topic12\", \"Topic12\", \"Topic12\", \"Topic12\", \"Topic12\", \"Topic12\", \"Topic12\", \"Topic12\", \"Topic12\", \"Topic12\", \"Topic12\", \"Topic12\", \"Topic12\", \"Topic12\", \"Topic12\", \"Topic12\", \"Topic12\", \"Topic12\", \"Topic12\", \"Topic12\", \"Topic12\", \"Topic12\", \"Topic12\", \"Topic12\", \"Topic12\", \"Topic12\", \"Topic12\", \"Topic12\", \"Topic12\", \"Topic12\", \"Topic12\", \"Topic12\", \"Topic12\", \"Topic12\", \"Topic12\", \"Topic12\", \"Topic12\", \"Topic12\", \"Topic13\", \"Topic13\", \"Topic13\", \"Topic13\", \"Topic13\", \"Topic13\", \"Topic13\", \"Topic13\", \"Topic13\", \"Topic13\", \"Topic13\", \"Topic13\", \"Topic13\", \"Topic13\", \"Topic13\", \"Topic13\", \"Topic13\", \"Topic13\", \"Topic13\", \"Topic13\", \"Topic13\", \"Topic13\", \"Topic13\", \"Topic13\", \"Topic13\", \"Topic13\", \"Topic13\", \"Topic13\", \"Topic13\", \"Topic13\", \"Topic13\", \"Topic13\", \"Topic13\", \"Topic13\", \"Topic13\", \"Topic13\", \"Topic13\", \"Topic13\", \"Topic13\", \"Topic13\", \"Topic13\", \"Topic13\", \"Topic13\", \"Topic14\", \"Topic14\", \"Topic14\", \"Topic14\", \"Topic14\", \"Topic14\", \"Topic14\", \"Topic14\", \"Topic14\", \"Topic14\", \"Topic14\", \"Topic14\", \"Topic14\", \"Topic14\", \"Topic14\", \"Topic14\", \"Topic14\", \"Topic14\", \"Topic14\", \"Topic14\", \"Topic14\", \"Topic14\", \"Topic14\", \"Topic14\", \"Topic14\", \"Topic14\", \"Topic14\", \"Topic14\", \"Topic14\", \"Topic14\", \"Topic14\", \"Topic14\", \"Topic14\", \"Topic14\", \"Topic14\", \"Topic14\", \"Topic14\", \"Topic14\", \"Topic14\", \"Topic15\", \"Topic15\", \"Topic15\", \"Topic15\", \"Topic15\", \"Topic15\", \"Topic15\", \"Topic15\", \"Topic15\", \"Topic15\", \"Topic15\", \"Topic15\", \"Topic15\", \"Topic15\", \"Topic15\", \"Topic15\", \"Topic15\", \"Topic15\", \"Topic15\", \"Topic15\", \"Topic15\", \"Topic15\", \"Topic15\", \"Topic15\", \"Topic15\", \"Topic15\", \"Topic15\", \"Topic15\", \"Topic15\", \"Topic15\", \"Topic15\", \"Topic15\", \"Topic15\", \"Topic15\", \"Topic15\", \"Topic15\", \"Topic15\", \"Topic15\", \"Topic15\", \"Topic15\", \"Topic15\", \"Topic15\"], \"logprob\": [30.0, 29.0, 28.0, 27.0, 26.0, 25.0, 24.0, 23.0, 22.0, 21.0, 20.0, 19.0, 18.0, 17.0, 16.0, 15.0, 14.0, 13.0, 12.0, 11.0, 10.0, 9.0, 8.0, 7.0, 6.0, 5.0, 4.0, 3.0, 2.0, 1.0, -8.863499641418457, -9.033499717712402, -8.767200469970703, -9.077799797058105, -9.241499900817871, -9.258000373840332, -9.169099807739258, -9.18809986114502, -9.316100120544434, -9.206299781799316, -8.9753999710083, -8.997300148010254, -9.299099922180176, -9.286499977111816, -9.230799674987793, -9.139100074768066, -8.91569995880127, -9.362899780273438, -9.197099685668945, -9.388299942016602, -9.456199645996094, -9.423299789428711, -9.433199882507324, -9.4443998336792, -9.286800384521484, -9.504400253295898, -9.504400253295898, -9.505800247192383, -9.442700386047363, -9.181500434875488, -9.382800102233887, -9.276000022888184, -9.250300407409668, -9.006600379943848, -9.169699668884277, -9.120400428771973, -9.251799583435059, -9.27929973602295, -9.065299987792969, -9.237700462341309, -9.267000198364258, -9.104399681091309, -9.264300346374512, -9.256999969482422, -9.271300315856934, -8.994400024414062, -9.14109992980957, -8.88230037689209, -9.22089958190918, -9.249799728393555, -9.187700271606445, -9.25510025024414, -9.316100120544434, -9.178899765014648, -9.29539966583252, -9.420999526977539, -9.392000198364258, -8.916199684143066, -9.4197998046875, -9.428400039672852, -9.395500183105469, -9.452899932861328, -9.508000373840332, -9.195199966430664, -9.43649959564209, -9.459500312805176, -9.329000473022461, -9.52649974822998, -9.527099609375, -9.535799980163574, -9.536700248718262, -9.240300178527832, -9.512100219726562, -9.588500022888184, -9.588700294494629, -9.30840015411377, -9.398799896240234, -9.152000427246094, -9.178999900817871, -9.129599571228027, -9.253800392150879, -9.279800415039062, -9.23960018157959, -9.173199653625488, -9.259699821472168, -9.350899696350098, -9.327500343322754, -9.354399681091309, -9.371899604797363, -9.328300476074219, -8.966300010681152, -8.735899925231934, -9.195500373840332, -8.984999656677246, -9.102299690246582, -9.240699768066406, -9.193499565124512, -9.210100173950195, -9.303999900817871, -8.964699745178223, -9.285300254821777, -9.288599967956543, -9.428299903869629, -9.461899757385254, -9.465299606323242, -9.472299575805664, -9.26140022277832, -9.425000190734863, -9.497400283813477, -9.434900283813477, -9.533599853515625, -9.533599853515625, -9.533599853515625, -9.533599853515625, -9.533599853515625, -9.546899795532227, -9.401100158691406, -9.548500061035156, -9.550100326538086, -9.50790023803711, -9.164299964904785, -9.213199615478516, -9.159600257873535, -9.409199714660645, -9.257499694824219, -9.211400032043457, -9.286199569702148, -9.181699752807617, -9.425100326538086, -9.392000198364258, -9.21150016784668, -9.32979965209961, -9.399499893188477, -9.37909984588623, -9.360199928283691, -9.31470012664795, -9.417099952697754, -9.110899925231934, -9.128899574279785, -9.185999870300293, -9.13379955291748, -8.71399974822998, -9.255599975585938, -9.15719985961914, -9.315699577331543, -9.301199913024902, -9.38070011138916, -9.277700424194336, -9.158599853515625, -9.146499633789062, -9.460800170898438, -9.464699745178223, -9.465999603271484, -9.47249984741211, -9.475199699401855, -9.46500015258789, -9.440500259399414, -9.358599662780762, -9.472999572753906, -9.517000198364258, -9.517000198364258, -9.4576997756958, -9.401700019836426, -9.251500129699707, -9.371000289916992, -9.421899795532227, -9.536800384521484, -8.903300285339355, -9.27750015258789, -9.273900032043457, -9.223600387573242, -9.2052001953125, -9.322400093078613, -9.385499954223633, -9.247200012207031, -9.319600105285645, -9.280200004577637, -9.057499885559082, -9.298199653625488, -9.354299545288086, -9.323699951171875, -9.383199691772461, -8.939200401306152, -9.190199851989746, -8.851900100708008, -9.275799751281738, -9.341500282287598, -9.399100303649902, -9.196800231933594, -9.146499633789062, -9.393600463867188, -9.413700103759766, -9.477999687194824, -9.569499969482422, -9.544899940490723, -9.0024995803833, -9.18220043182373, -9.625800132751465, -9.626299858093262, -9.626899719238281, -9.31190013885498, -9.64490032196045, -9.633500099182129, -9.489500045776367, -9.64900016784668, -9.637100219726562, -9.600299835205078, -9.652199745178223, -9.644200325012207, -9.553999900817871, -9.630200386047363, -9.664600372314453, -9.487799644470215, -9.384200096130371, -9.428500175476074, -9.452199935913086, -9.044099807739258, -9.527600288391113, -9.546799659729004, -9.450799942016602, -9.350600242614746, -9.37030029296875, -9.307900428771973, -9.353799819946289, -9.276900291442871, -8.901800155639648, -9.185099601745605, -9.179100036621094, -9.41670036315918, -9.413800239562988, -9.435199737548828, -9.45479965209961, -8.819199562072754, -8.57129955291748, -8.602999687194824, -8.958000183105469, -9.044099807739258, -8.516900062561035, -8.98900032043457, -8.464699745178223, -9.305899620056152, -9.27299976348877, -9.093600273132324, -9.308699607849121, -9.34280014038086, -9.326000213623047, -9.303000450134277, -9.157600402832031, -9.278900146484375, -9.40939998626709, -9.346799850463867, -9.266200065612793, -9.428999900817871, -8.926400184631348, -9.47599983215332, -9.371800422668457, -9.248700141906738, -9.461099624633789, -9.368599891662598, -9.34939956665039, -9.37090015411377, -9.266799926757812, -9.003299713134766, -9.100799560546875, -8.38860034942627, -8.838500022888184, -9.139300346374512, -9.266799926757812, -9.288999557495117, -9.285200119018555, -9.19480037689209, -9.272199630737305, -9.303299903869629, -8.861599922180176, -9.106800079345703, -9.270000457763672, -9.203499794006348, -8.986900329589844, -9.100299835205078, -9.29699993133545, -9.326299667358398, -9.318400382995605, -9.314000129699707, -9.396100044250488, -9.232099533081055, -9.232199668884277, -9.155400276184082, -9.485400199890137, -9.490500450134277, -9.401900291442871, -9.46150016784668, -9.497300148010254, -9.232999801635742, -9.521499633789062, -9.528300285339355, -9.602899551391602, -9.523200035095215, -9.598600387573242, -9.414299964904785, -9.59850025177002, -9.531700134277344, -9.441499710083008, -9.487000465393066, -9.256500244140625, -9.425999641418457, -9.380999565124512, -9.3996000289917, -9.242799758911133, -9.297300338745117, -9.294899940490723, -9.345600128173828, -9.35219955444336, -9.385000228881836, -9.413100242614746, -9.435799598693848, -7.944399833679199, -7.944399833679199, -8.496000289916992, -8.590900421142578, -8.758199691772461, -8.940899848937988, -9.14680004119873, -9.325499534606934, -9.325799942016602, -9.325699806213379, -9.349599838256836, -9.405599594116211, -9.405699729919434, -9.428600311279297, -9.375800132751465, -9.395999908447266, -9.272100448608398, -9.360699653625488, -9.308600425720215, -9.52649974822998, -9.535400390625, -9.456199645996094, -9.470999717712402, -9.581600189208984, -9.581999778747559, -9.581700325012207, -9.60990047454834, -9.492600440979004, -9.610699653625488, -9.279199600219727, -9.331199645996094, -9.113100051879883, -9.396200180053711, -9.434599876403809, -9.281700134277344, -9.016900062561035, -8.811300277709961, -9.209400177001953, -9.312700271606445, -9.41409969329834, -8.888500213623047, -8.923999786376953, -8.940299987792969, -8.728500366210938, -9.065600395202637, -8.910400390625, -9.189399719238281, -9.28950023651123, -9.19890022277832, -8.987600326538086, -9.384200096130371, -9.375800132751465, -9.32610034942627, -8.955900192260742, -8.050600051879883, -9.440899848937988, -9.338600158691406, -9.396699905395508, -9.449000358581543, -9.48069953918457, -9.484600067138672, -9.320300102233887, -9.571000099182129, -9.571000099182129, -9.571000099182129, -9.571000099182129, -9.571000099182129, -9.571000099182129, -9.571000099182129, -9.571000099182129, -9.571000099182129, -9.571000099182129, -9.571000099182129, -9.571000099182129, -9.246600151062012, -9.199600219726562, -9.571000099182129, -9.571000099182129, -9.571000099182129, -9.571000099182129, -9.571000099182129, -9.393600463867188, -8.925700187683105, -9.47130012512207, -9.440999984741211, -9.239800453186035, -9.083200454711914, -9.430500030517578, -9.237000465393066, -9.320899963378906, -9.392900466918945, -9.386799812316895, -9.018400192260742, -9.095499992370605, -8.837499618530273, -9.138099670410156, -9.38379955291748, -9.25979995727539, -9.07509994506836, -8.523599624633789, -9.471400260925293, -9.50160026550293, -9.477899551391602, -9.483499526977539, -9.50059986114502, -9.518799781799316, -9.500800132751465, -9.608799934387207, -9.609700202941895, -9.612299919128418, -9.568099975585938, -9.574600219726562, -9.625399589538574, -9.586600303649902, -9.573100090026855, -9.647000312805176, -9.64739990234375, -9.58430004119873, -9.571200370788574, -9.551799774169922, -9.61359977722168, -9.588399887084961, -8.34280014038086, -9.541399955749512, -9.130399703979492, -9.078900337219238, -9.095999717712402, -9.364899635314941, -9.453900337219238, -9.393600463867188, -9.397500038146973, -9.381400108337402, -9.529600143432617, -9.256500244140625, -9.40779972076416, -9.403599739074707, -9.444299697875977, -9.468099594116211, -9.486800193786621, -9.411800384521484, -9.400799751281738, -9.463299751281738, -9.45300006866455, -9.187100410461426, -8.981100082397461, -9.326000213623047, -9.267999649047852, -9.343299865722656, -9.40779972076416, -9.429200172424316, -9.429200172424316, -9.371299743652344, -9.48289966583252, -9.319499969482422, -9.371999740600586, -9.440500259399414, -9.526800155639648, -9.265299797058105, -9.483200073242188, -9.570699691772461, -9.570699691772461, -9.570699691772461, -9.570699691772461, -9.570699691772461, -9.570699691772461, -9.552200317382812, -9.49489974975586, -9.567099571228027, -9.560600280761719, -9.361599922180176, -9.54419994354248, -9.477700233459473, -9.657899856567383, -8.969799995422363, -8.60669994354248, -9.42609977722168, -9.462599754333496, -9.400400161743164, -9.407400131225586, -9.495699882507324, -9.411199569702148, -9.52239990234375, -9.473799705505371, -9.495400428771973, -9.486599922180176, -9.407500267028809, -9.417900085449219, -9.42199993133545, -9.454000473022461, -9.38230037689209, -9.521400451660156, -9.050100326538086, -9.46399974822998, -9.438899993896484, -9.482099533081055, -9.39780044555664, -9.587599754333496, -9.3326997756958, -9.511899948120117, -9.640899658203125, -9.640899658203125, -9.640899658203125, -9.640899658203125, -9.640899658203125, -9.640899658203125, -9.64900016784668, -9.63599967956543, -9.652099609375, -9.651300430297852, -9.617799758911133, -9.303000450134277, -9.513500213623047, -9.65060043334961, -9.638899803161621, -9.535400390625, -8.899399757385254, -9.495200157165527, -8.867199897766113, -9.089099884033203, -9.268600463867188, -9.517999649047852, -8.700499534606934, -9.38599967956543, -9.503899574279785, -9.397600173950195, -9.256099700927734, -9.55620002746582, -9.582200050354004, -9.53600025177002, -9.446999549865723, -9.427200317382812, -9.469099998474121, -9.409700393676758, -9.404800415039062, -9.495499610900879, -9.493200302124023, -9.170100212097168, -9.144399642944336, -9.203800201416016, -9.200599670410156, -9.510499954223633, -9.510499954223633, -9.510499954223633, -9.510499954223633, -9.510499954223633, -9.510499954223633, -9.478699684143066, -9.22189998626709, -9.512999534606934, -9.543299674987793, -9.099800109863281, -9.5516996383667, -9.280500411987305, -9.601799964904785, -9.58650016784668, -9.601799964904785, -9.557600021362305, -9.499099731445312, -9.55780029296875, -9.601799964904785, -9.527700424194336, -9.658900260925293, -9.700499534606934, -9.65939998626709, -9.71090030670166, -9.684399604797363, -9.220800399780273, -9.43970012664795, -9.362199783325195, -9.495499610900879, -9.521200180053711, -9.496700286865234, -9.553099632263184, -9.510100364685059, -9.516799926757812, -9.539899826049805, -9.538200378417969, -9.54539966583252, -9.551600456237793, -8.922900199890137, -8.95460033416748, -9.154899597167969, -8.820599555969238, -9.220000267028809, -9.241800308227539, -9.385700225830078, -9.424400329589844, -8.957300186157227, -9.46969985961914, -9.416799545288086, -9.230899810791016, -9.495699882507324, -9.524100303649902, -9.522500038146973, -9.578399658203125, -9.199299812316895, -9.601200103759766, -9.432600021362305, -9.60509967803955, -9.581700325012207, -9.628199577331543, -9.651000022888184, -9.602399826049805, -9.596699714660645, -9.602999687194824, -9.671299934387207, -9.671500205993652, -9.517999649047852, -9.671500205993652, -9.264100074768066, -9.364999771118164, -9.2923002243042, -9.33080005645752, -9.512900352478027, -9.528800010681152, -9.498800277709961, -9.568400382995605, -9.569000244140625, -8.905699729919434, -9.263999938964844, -9.322999954223633, -9.532099723815918, -9.553600311279297, -9.538800239562988, -9.36970043182373, -9.723899841308594, -9.73859977722168, -9.741499900817871, -9.574299812316895, -9.590999603271484, -9.801899909973145, -9.56149959564209, -9.800800323486328, -9.86359977722168, -9.836799621582031, -9.909500122070312, -9.728300094604492, -9.879300117492676, -9.64780044555664, -9.914199829101562, -9.920700073242188, -9.944100379943848, -9.946100234985352, -9.926799774169922, -9.948699951171875, -9.951700210571289, -9.954899787902832, -9.956000328063965, -9.887100219726562, -9.860199928283691, -9.818699836730957, -9.789899826049805, -9.83590030670166, -9.568699836730957, -9.736599922180176, -9.82390022277832, -9.708499908447266, -9.726300239562988, -9.694700241088867, -9.821100234985352], \"loglift\": [30.0, 29.0, 28.0, 27.0, 26.0, 25.0, 24.0, 23.0, 22.0, 21.0, 20.0, 19.0, 18.0, 17.0, 16.0, 15.0, 14.0, 13.0, 12.0, 11.0, 10.0, 9.0, 8.0, 7.0, 6.0, 5.0, 4.0, 3.0, 2.0, 1.0, 1.1904000043869019, 1.0859999656677246, 1.0245000123977661, 0.9973999857902527, 0.9417999982833862, 0.9289000034332275, 0.9150999784469604, 0.9024999737739563, 0.8867999911308289, 0.8798999786376953, 0.8677999973297119, 0.8562999963760376, 0.8501999974250793, 0.847100019454956, 0.8443999886512756, 0.8327999711036682, 0.8259000182151794, 0.8112000226974487, 0.7958999872207642, 0.7939000129699707, 0.7836999893188477, 0.7828999757766724, 0.7687000036239624, 0.7646999955177307, 0.755299985408783, 0.7470999956130981, 0.7470999956130981, 0.742900013923645, 0.73580002784729, 0.7336000204086304, 0.7317000031471252, 0.7152000069618225, 0.7077000141143799, 0.6606000065803528, 0.6657999753952026, 0.6459000110626221, 0.673799991607666, 0.6844000220298767, 0.5356000065803528, 0.6474000215530396, 0.6625999808311462, 0.2655999958515167, 0.6452000141143799, 0.5855000019073486, 0.570900022983551, 1.09660005569458, 1.0400999784469604, 1.0281000137329102, 0.9904000163078308, 0.9466999769210815, 0.9248999953269958, 0.8792999982833862, 0.8727999925613403, 0.8452000021934509, 0.8282999992370605, 0.8281000256538391, 0.8194000124931335, 0.808899998664856, 0.8011000156402588, 0.7853000164031982, 0.784600019454956, 0.7782999873161316, 0.7615000009536743, 0.7608000040054321, 0.7534000277519226, 0.7524999976158142, 0.7491999864578247, 0.744700014591217, 0.7443000078201294, 0.7364000082015991, 0.7354999780654907, 0.7310000061988831, 0.7008000016212463, 0.6963000297546387, 0.6962000131607056, 0.6790000200271606, 0.6800000071525574, 0.6202999949455261, 0.6265000104904175, 0.5353999733924866, 0.5831999778747559, 0.5947999954223633, 0.5546000003814697, 0.49320000410079956, 0.5151000022888184, 0.6028000116348267, 0.5063999891281128, 0.26829999685287476, 0.35409998893737793, -0.3991999924182892, 1.138200044631958, 1.138200044631958, 1.007099986076355, 0.9746000170707703, 0.9699000120162964, 0.9595000147819519, 0.9319000244140625, 0.8812000155448914, 0.8614000082015991, 0.8515999913215637, 0.8349999785423279, 0.824400007724762, 0.8040000200271606, 0.8030999898910522, 0.800000011920929, 0.7807999849319458, 0.7791000008583069, 0.7612000107765198, 0.7559000253677368, 0.7519000172615051, 0.7468000054359436, 0.7468000054359436, 0.7468000054359436, 0.7468000054359436, 0.7468000054359436, 0.7330999970436096, 0.7317000031471252, 0.7315999865531921, 0.7297999858856201, 0.7276999950408936, 0.6898000240325928, 0.6420999765396118, 0.6065999865531921, 0.6815000176429749, 0.5856000185012817, 0.5145999789237976, 0.5680000185966492, 0.48539999127388, 0.6657000184059143, 0.6313999891281128, 0.41130000352859497, 0.5282999873161316, 0.5835999846458435, 0.5113000273704529, 0.4147999882698059, -0.385699987411499, 0.5763999819755554, 1.0644999742507935, 1.0393999814987183, 1.0187000036239624, 0.9534000158309937, 0.9524000287055969, 0.9293000102043152, 0.9236999750137329, 0.9103000164031982, 0.8779000043869019, 0.8701000213623047, 0.8355000019073486, 0.8295999765396118, 0.8173999786376953, 0.8001000285148621, 0.7967000007629395, 0.7955999970436096, 0.7896999716758728, 0.7871000170707703, 0.7843999862670898, 0.7817000150680542, 0.777999997138977, 0.7664999961853027, 0.7620999813079834, 0.7620999813079834, 0.7493000030517578, 0.7361999750137329, 0.7354999780654907, 0.7289999723434448, 0.7210000157356262, 0.7087000012397766, 0.697700023651123, 0.6610999703407288, 0.6164000034332275, 0.5559999942779541, 0.5400000214576721, 0.6184999942779541, 0.6815000176429749, 0.5109999775886536, 0.5227000117301941, 0.4332999885082245, -0.12839999794960022, 0.4284999966621399, 0.5227000117301941, 0.30410000681877136, 0.45899999141693115, 1.1783000230789185, 0.9236000180244446, 0.8895999789237976, 0.8646000027656555, 0.843500018119812, 0.8410999774932861, 0.8154000043869019, 0.805899977684021, 0.7829999923706055, 0.7810999751091003, 0.7462000250816345, 0.710099995136261, 0.6851999759674072, 0.6625000238418579, 0.6611999869346619, 0.6610000133514404, 0.6604999899864197, 0.6600000262260437, 0.6565999984741211, 0.6541000008583069, 0.6532999873161316, 0.6525999903678894, 0.6500999927520752, 0.6496999859809875, 0.6478999853134155, 0.6468999981880188, 0.6425999999046326, 0.640999972820282, 0.640500009059906, 0.6347000002861023, 0.6310999989509583, 0.6115999817848206, 0.5956000089645386, 0.5979999899864197, 0.4830000102519989, 0.6144000291824341, 0.6162999868392944, 0.5741000175476074, 0.5281000137329102, 0.5092999935150146, 0.46219998598098755, 0.4697999954223633, 0.4000999927520752, 0.027300000190734863, 0.2703999876976013, 0.19089999794960022, 0.49149999022483826, 0.27649998664855957, 0.3395000100135803, 0.4255000054836273, 1.295799970626831, 1.2626999616622925, 1.2023999691009521, 1.1862000226974487, 1.0831999778747559, 1.0601999759674072, 1.0475000143051147, 1.0277999639511108, 0.9294000267982483, 0.9261999726295471, 0.9103000164031982, 0.9083999991416931, 0.9039999842643738, 0.8946999907493591, 0.880299985408783, 0.8672000169754028, 0.8432000279426575, 0.842199981212616, 0.8353999853134155, 0.8349000215530396, 0.8170999884605408, 0.7986000180244446, 0.7976999878883362, 0.7972000241279602, 0.7896999716758728, 0.7858999967575073, 0.7785000205039978, 0.7775999903678894, 0.770799994468689, 0.7616999745368958, 0.7217000126838684, 0.715499997138977, 0.5404000282287598, 0.6169999837875366, 0.7089999914169312, 0.7466999888420105, 0.7491999864578247, 0.7322999835014343, 0.4278999865055084, 0.4047999978065491, 0.30880001187324524, 1.173200011253357, 1.0709999799728394, 0.9860000014305115, 0.9787999987602234, 0.9782999753952026, 0.9666000008583069, 0.963699996471405, 0.9247999787330627, 0.9047999978065491, 0.8593000173568726, 0.847000002861023, 0.8429999947547913, 0.8428000211715698, 0.8410000205039978, 0.8098999857902527, 0.8054999709129333, 0.7785999774932861, 0.7663999795913696, 0.7588000297546387, 0.7444000244140625, 0.7386999726295471, 0.7204999923706055, 0.7120000123977661, 0.7053999900817871, 0.6926000118255615, 0.6832000017166138, 0.6816999912261963, 0.6765000224113464, 0.6740000247955322, 0.6687999963760376, 0.650600016117096, 0.6639000177383423, 0.6335999965667725, 0.6144000291824341, 0.5273000001907349, 0.5120000243186951, 0.4772999882698059, 0.4375, 0.27559998631477356, 0.3416999876499176, 0.45680001378059387, 0.5069000124931335, 1.9279999732971191, 1.9279999732971191, 1.5424000024795532, 1.330299973487854, 1.2746000289916992, 1.2529000043869019, 1.0662000179290771, 0.9386000037193298, 0.9381999969482422, 0.9358999729156494, 0.901199996471405, 0.8917999863624573, 0.891700029373169, 0.8725000023841858, 0.8715999722480774, 0.8436999917030334, 0.8418999910354614, 0.7939000129699707, 0.7484999895095825, 0.748199999332428, 0.7368000149726868, 0.73089998960495, 0.7235000133514404, 0.7218000292778015, 0.7215999960899353, 0.7184000015258789, 0.7164000272750854, 0.7160000205039978, 0.7156000137329102, 0.7121999859809875, 0.6726999878883362, 0.6349999904632568, 0.6789000034332275, 0.6872000098228455, 0.6176999807357788, 0.3531000018119812, 0.11779999732971191, 0.4636000096797943, 0.5584999918937683, 0.6175000071525574, 1.2685999870300293, 1.205199956893921, 1.1822999715805054, 1.1820000410079956, 1.0857000350952148, 1.0219000577926636, 0.9894000291824341, 0.9747999906539917, 0.9480999708175659, 0.9386000037193298, 0.9211999773979187, 0.9168999791145325, 0.9057000279426575, 0.8927000164985657, 0.8784000277519226, 0.8669999837875366, 0.8514000177383423, 0.8464999794960022, 0.8292999863624573, 0.796500027179718, 0.7888000011444092, 0.769599974155426, 0.7631999850273132, 0.7631999850273132, 0.7631999850273132, 0.7631999850273132, 0.7631999850273132, 0.7631999850273132, 0.7631999850273132, 0.7631999850273132, 0.7631999850273132, 0.7631999850273132, 0.7631999850273132, 0.7631999850273132, 0.7573999762535095, 0.7559000253677368, 0.7631999850273132, 0.7631999850273132, 0.7631999850273132, 0.7631999850273132, 0.7631999850273132, 0.7450000047683716, 0.6014000177383423, 0.73580002784729, 0.7152000069618225, 0.6215000152587891, 0.37229999899864197, 0.6449999809265137, 0.13300000131130219, 0.2912999987602234, 0.4429999887943268, 0.29019999504089355, 1.2309000492095947, 1.0351999998092651, 1.0111000537872314, 0.9904999732971191, 0.9210000038146973, 0.9133999943733215, 0.9052000045776367, 0.8464000225067139, 0.8288999795913696, 0.8187000155448914, 0.8141000270843506, 0.8083000183105469, 0.7736999988555908, 0.7432000041007996, 0.734499990940094, 0.7303000092506409, 0.7293999791145325, 0.7265999913215637, 0.72079998254776, 0.7161999940872192, 0.7111999988555908, 0.7095999717712402, 0.6949999928474426, 0.6894999742507935, 0.6891000270843506, 0.6869999766349792, 0.685699999332428, 0.6837999820709229, 0.6826000213623047, 0.6793000102043152, 0.5863000154495239, 0.6753000020980835, 0.6176999807357788, 0.593999981880188, 0.5160999894142151, 0.5763000249862671, 0.616100013256073, 0.5388000011444092, 0.5019000172615051, 0.4348999857902527, 0.625, 0.19900000095367432, 0.3479999899864197, 0.3269999921321869, 0.40400001406669617, 0.4571000039577484, 0.5045999884605408, 0.16519999504089355, 0.09160000085830688, 0.3926999866962433, 0.21410000324249268, 1.0161999464035034, 1.0092999935150146, 0.9887999892234802, 0.9666000008583069, 0.9609000086784363, 0.8761000037193298, 0.8553000092506409, 0.8474000096321106, 0.8371999859809875, 0.8263000249862671, 0.8205000162124634, 0.8091999888420105, 0.8033000230789185, 0.7797999978065491, 0.7775999903678894, 0.7766000032424927, 0.7728000283241272, 0.7728000283241272, 0.7728000283241272, 0.7728000283241272, 0.7728000283241272, 0.7728000283241272, 0.7544999718666077, 0.7497000098228455, 0.7473999857902527, 0.7271000146865845, 0.7268000245094299, 0.703000009059906, 0.6880999803543091, 0.6650000214576721, 0.5572999715805054, 0.322299987077713, 0.6054999828338623, 0.6092000007629395, 0.47909998893737793, 0.4302999973297119, 0.5519999861717224, 0.20100000500679016, 0.5368000268936157, 0.01860000006854534, 0.20350000262260437, -0.031199999153614044, 0.9196000099182129, 0.8898000121116638, 0.8852999806404114, 0.8525999784469604, 0.8417999744415283, 0.8112000226974487, 0.8112000226974487, 0.8079000115394592, 0.8068000078201294, 0.7795000076293945, 0.7461000084877014, 0.7311000227928162, 0.7235000133514404, 0.7182000279426575, 0.7110999822616577, 0.7110999822616577, 0.7110999822616577, 0.7110999822616577, 0.7110999822616577, 0.7110999822616577, 0.6909000277519226, 0.690500020980835, 0.6880999803543091, 0.6880999803543091, 0.6855999827384949, 0.679099977016449, 0.6783999800682068, 0.6766999959945679, 0.6759999990463257, 0.6697999835014343, 0.6276999711990356, 0.6449999809265137, 0.5027999877929688, 0.5335999727249146, 0.569100022315979, 0.640999972820282, 0.22849999368190765, 0.5436000227928162, 0.6129999756813049, 0.5285999774932861, 0.3716999888420105, 0.6333000063896179, 0.6420999765396118, 0.5613999962806702, 0.3928999900817871, 0.34290000796318054, 0.38690000772476196, 0.0828000009059906, 0.050700001418590546, 0.3409999907016754, 0.23729999363422394, 1.0944000482559204, 1.0795999765396118, 1.0532000064849854, 0.9883999824523926, 0.830299973487854, 0.830299973487854, 0.830299973487854, 0.830299973487854, 0.830299973487854, 0.830299973487854, 0.7932000160217285, 0.7907999753952026, 0.771399974822998, 0.7591999769210815, 0.7473000288009644, 0.745199978351593, 0.7447999715805054, 0.7164999842643738, 0.7129999995231628, 0.6962000131607056, 0.6869000196456909, 0.6776000261306763, 0.6740000247955322, 0.6704999804496765, 0.6571999788284302, 0.6427000164985657, 0.633899986743927, 0.6158000230789185, 0.6018999814987183, 0.5997999906539917, 0.524399995803833, 0.4555000066757202, 0.3959999978542328, 0.4805999994277954, 0.450300008058548, 0.2020999938249588, 0.387800008058548, 0.0908999964594841, 0.10589999705553055, 0.1868000030517578, -0.16830000281333923, 0.1315000057220459, 0.23149999976158142, 1.2252999544143677, 1.1370999813079834, 1.0817999839782715, 1.0132999420166016, 0.9882000088691711, 0.9860000014305115, 0.9420999884605408, 0.8981999754905701, 0.8482000231742859, 0.847000002861023, 0.842199981212616, 0.8379999995231628, 0.8241000175476074, 0.7831000089645386, 0.7815999984741211, 0.7652000188827515, 0.7408999800682068, 0.7397000193595886, 0.7390999794006348, 0.7354000210762024, 0.7142999768257141, 0.7096999883651733, 0.6930999755859375, 0.6872000098228455, 0.6700999736785889, 0.6541000008583069, 0.6538000106811523, 0.6535999774932861, 0.6410999894142151, 0.6401000022888184, 0.6328999996185303, 0.5759000182151794, 0.49970000982284546, 0.5069000124931335, 0.5800999999046326, 0.5407000184059143, 0.48559999465942383, 0.2856999933719635, 0.2395000010728836, 1.0823999643325806, 0.9172000288963318, 0.8212000131607056, 0.8032000064849854, 0.7781000137329102, 0.7372000217437744, 0.6973000168800354, 0.6353999972343445, 0.6184999942779541, 0.6151999831199646, 0.593999981880188, 0.5310999751091003, 0.5304999947547913, 0.5123999714851379, 0.5058000087738037, 0.4885999858379364, 0.47450000047683716, 0.4580000042915344, 0.453900009393692, 0.4530999958515167, 0.4528000056743622, 0.45239999890327454, 0.4431999921798706, 0.44190001487731934, 0.43959999084472656, 0.43860000371932983, 0.436599999666214, 0.4332999885082245, 0.42980000376701355, 0.428600013256073, 0.4268999993801117, 0.41679999232292175, 0.3865000009536743, 0.3634999990463257, 0.3521000146865845, 0.00839999970048666, 0.16930000483989716, 0.2840000092983246, -0.08070000261068344, -0.05990000069141388, -0.2021999955177307, 0.10379999876022339]}, \"token.table\": {\"Topic\": [], \"Freq\": [], \"Term\": []}, \"R\": 30, \"lambda.step\": 0.01, \"plot.opts\": {\"xlab\": \"PC1\", \"ylab\": \"PC2\"}, \"topic.order\": [2, 9, 15, 11, 1, 4, 5, 8, 14, 6, 10, 12, 13, 7, 3]};\n",
              "\n",
              "function LDAvis_load_lib(url, callback){\n",
              "  var s = document.createElement('script');\n",
              "  s.src = url;\n",
              "  s.async = true;\n",
              "  s.onreadystatechange = s.onload = callback;\n",
              "  s.onerror = function(){console.warn(\"failed to load library \" + url);};\n",
              "  document.getElementsByTagName(\"head\")[0].appendChild(s);\n",
              "}\n",
              "\n",
              "if(typeof(LDAvis) !== \"undefined\"){\n",
              "   // already loaded: just create the visualization\n",
              "   !function(LDAvis){\n",
              "       new LDAvis(\"#\" + \"ldavis_el1221396368620743364123524394\", ldavis_el1221396368620743364123524394_data);\n",
              "   }(LDAvis);\n",
              "}else if(typeof define === \"function\" && define.amd){\n",
              "   // require.js is available: use it to load d3/LDAvis\n",
              "   require.config({paths: {d3: \"https://cdnjs.cloudflare.com/ajax/libs/d3/3.5.5/d3.min\"}});\n",
              "   require([\"d3\"], function(d3){\n",
              "      window.d3 = d3;\n",
              "      LDAvis_load_lib(\"https://cdn.rawgit.com/bmabey/pyLDAvis/files/ldavis.v1.0.0.js\", function(){\n",
              "        new LDAvis(\"#\" + \"ldavis_el1221396368620743364123524394\", ldavis_el1221396368620743364123524394_data);\n",
              "      });\n",
              "    });\n",
              "}else{\n",
              "    // require.js not available: dynamically load d3 & LDAvis\n",
              "    LDAvis_load_lib(\"https://cdnjs.cloudflare.com/ajax/libs/d3/3.5.5/d3.min.js\", function(){\n",
              "         LDAvis_load_lib(\"https://cdn.rawgit.com/bmabey/pyLDAvis/files/ldavis.v1.0.0.js\", function(){\n",
              "                 new LDAvis(\"#\" + \"ldavis_el1221396368620743364123524394\", ldavis_el1221396368620743364123524394_data);\n",
              "            })\n",
              "         });\n",
              "}\n",
              "</script>"
            ],
            "text/plain": [
              "PreparedData(topic_coordinates=              x         y  topics  cluster       Freq\n",
              "topic                                                \n",
              "1      0.004663 -0.000036       1        1  11.109797\n",
              "8      0.000338  0.001064       2        1   9.323805\n",
              "14    -0.000596  0.003964       3        1   9.307493\n",
              "10    -0.001076 -0.002868       4        1   9.196729\n",
              "0      0.000179 -0.000967       5        1   9.026525\n",
              "3     -0.002841  0.000286       6        1   8.603191\n",
              "4      0.000347 -0.000143       7        1   7.435134\n",
              "7     -0.000039 -0.000803       8        1   6.556530\n",
              "13    -0.000715 -0.000262       9        1   5.589078\n",
              "5     -0.000153  0.000424      10        1   5.409554\n",
              "9      0.000372 -0.000203      11        1   4.844893\n",
              "11    -0.000062 -0.000418      12        1   4.691895\n",
              "12    -0.000034  0.000158      13        1   4.564721\n",
              "6     -0.000344 -0.000051      14        1   3.496473\n",
              "2     -0.000040 -0.000143      15        1   0.844186, topic_info=             Term      Freq     Total Category  logprob  loglift\n",
              "19913   available  0.000000  0.000000  Default  30.0000  30.0000\n",
              "19914        text  0.000000  0.000000  Default  29.0000  29.0000\n",
              "2098    cardinale  0.000000  0.000000  Default  28.0000  28.0000\n",
              "4794    garibaldi  0.000000  0.000000  Default  27.0000  27.0000\n",
              "25260     diamond  0.000000  0.000000  Default  26.0000  26.0000\n",
              "...           ...       ...       ...      ...      ...      ...\n",
              "5246         eroe  0.001159  0.103389  Topic15  -9.8239   0.2840\n",
              "3600        ebreo  0.001301  0.167111  Topic15  -9.7085  -0.0807\n",
              "488    scioperare  0.001278  0.160779  Topic15  -9.7263  -0.0599\n",
              "2758         xiii  0.001319  0.191321  Topic15  -9.6947  -0.2022\n",
              "345        morire  0.001163  0.124155  Topic15  -9.8211   0.1038\n",
              "\n",
              "[705 rows x 6 columns], token_table=Empty DataFrame\n",
              "Columns: [Topic, Freq, Term]\n",
              "Index: [], R=30, lambda_step=0.01, plot_opts={'xlab': 'PC1', 'ylab': 'PC2'}, topic_order=[2, 9, 15, 11, 1, 4, 5, 8, 14, 6, 10, 12, 13, 7, 3])"
            ]
          },
          "metadata": {
            "tags": []
          },
          "execution_count": 114
        }
      ]
    }
  ]
}
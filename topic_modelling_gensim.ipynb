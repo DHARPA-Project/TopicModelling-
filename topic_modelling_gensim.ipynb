{
 "cells": [
  {
   "cell_type": "code",
   "execution_count": 30,
   "metadata": {},
   "outputs": [],
   "source": [
    "# dataset can be obtained via https://zenodo.org/record/4596345#.Yk2flG5Bz0o\n",
    "# folder containing one or more sub-folders \n",
    "# sub-folders are publications\n",
    "# within each sub-folder, collection of text files that each constitute a document\n",
    "# for now, supported naming pattern for text files is as such: '/sn86069873/1900-01-05/'\n",
    "# LCCN title information and publication date (yyyy-mm-dd)\n",
    "# users will need to provide publication names that match title information"
   ]
  },
  {
   "cell_type": "code",
   "execution_count": 31,
   "metadata": {},
   "outputs": [],
   "source": [
    "# indicate name of the folder containing data for ex 'data_tm_workflow'\n",
    "folder_path = 'CI_newspaper_subcorpora/'"
   ]
  },
  {
   "cell_type": "code",
   "execution_count": 32,
   "metadata": {},
   "outputs": [],
   "source": [
    "# create a folder for ex 'output_tm_workflow' to store the output files\n",
    "output_folder = 'output_tm_workflow'"
   ]
  },
  {
   "cell_type": "markdown",
   "metadata": {
    "id": "AUvuIpuzT8ke"
   },
   "source": [
    "# 1. Data preparation"
   ]
  },
  {
   "cell_type": "code",
   "execution_count": 33,
   "metadata": {},
   "outputs": [],
   "source": [
    "import os\n",
    "import pandas as pd\n",
    "import re\n",
    "import datetime\n",
    "from datetime import date # timedelta, "
   ]
  },
  {
   "cell_type": "markdown",
   "metadata": {
    "id": "MTOrDXSYUIc3"
   },
   "source": [
    "## 1.1. Creating data frame\n",
    "A dataframe is first created to keep the documents at their initial state, and the name of each file"
   ]
  },
  {
   "cell_type": "code",
   "execution_count": 34,
   "metadata": {},
   "outputs": [],
   "source": [
    "publications_list = os.listdir(folder_path) "
   ]
  },
  {
   "cell_type": "code",
   "execution_count": 35,
   "metadata": {},
   "outputs": [],
   "source": [
    "#insert file names into a df\n",
    "publications = pd.DataFrame(publications_list, columns=['pub_name'])"
   ]
  },
  {
   "cell_type": "code",
   "execution_count": 36,
   "metadata": {},
   "outputs": [
    {
     "data": {
      "text/html": [
       "<div>\n",
       "<style scoped>\n",
       "    .dataframe tbody tr th:only-of-type {\n",
       "        vertical-align: middle;\n",
       "    }\n",
       "\n",
       "    .dataframe tbody tr th {\n",
       "        vertical-align: top;\n",
       "    }\n",
       "\n",
       "    .dataframe thead th {\n",
       "        text-align: right;\n",
       "    }\n",
       "</style>\n",
       "<table border=\"1\" class=\"dataframe\">\n",
       "  <thead>\n",
       "    <tr style=\"text-align: right;\">\n",
       "      <th></th>\n",
       "      <th>pub_name</th>\n",
       "    </tr>\n",
       "  </thead>\n",
       "  <tbody>\n",
       "    <tr>\n",
       "      <th>0</th>\n",
       "      <td>L'Italia</td>\n",
       "    </tr>\n",
       "    <tr>\n",
       "      <th>1</th>\n",
       "      <td>La_Tribuna_del_Connecticut</td>\n",
       "    </tr>\n",
       "    <tr>\n",
       "      <th>2</th>\n",
       "      <td>Il_Patriota</td>\n",
       "    </tr>\n",
       "    <tr>\n",
       "      <th>3</th>\n",
       "      <td>La_Rassegna</td>\n",
       "    </tr>\n",
       "    <tr>\n",
       "      <th>4</th>\n",
       "      <td>Cronaca_Sovversiva</td>\n",
       "    </tr>\n",
       "  </tbody>\n",
       "</table>\n",
       "</div>"
      ],
      "text/plain": [
       "                     pub_name\n",
       "0                    L'Italia\n",
       "1  La_Tribuna_del_Connecticut\n",
       "2                 Il_Patriota\n",
       "3                 La_Rassegna\n",
       "4          Cronaca_Sovversiva"
      ]
     },
     "execution_count": 36,
     "metadata": {},
     "output_type": "execute_result"
    }
   ],
   "source": [
    "publications.head()"
   ]
  },
  {
   "cell_type": "code",
   "execution_count": 37,
   "metadata": {},
   "outputs": [],
   "source": [
    "files_list = []\n",
    "\n",
    "for pub in publications_list:\n",
    "    files = os.listdir(f\"{folder_path}/{pub}/\")\n",
    "    files_list.append(files)"
   ]
  },
  {
   "cell_type": "code",
   "execution_count": 38,
   "metadata": {},
   "outputs": [],
   "source": [
    "files_list_flat = [item for sublist in files_list for item in sublist]"
   ]
  },
  {
   "cell_type": "code",
   "execution_count": 39,
   "metadata": {
    "id": "8lLD0OpiXv5Y"
   },
   "outputs": [],
   "source": [
    "#insert file names into a df\n",
    "sources = pd.DataFrame(files_list_flat, columns=['file_name'])"
   ]
  },
  {
   "cell_type": "code",
   "execution_count": 40,
   "metadata": {},
   "outputs": [
    {
     "data": {
      "text/html": [
       "<div>\n",
       "<style scoped>\n",
       "    .dataframe tbody tr th:only-of-type {\n",
       "        vertical-align: middle;\n",
       "    }\n",
       "\n",
       "    .dataframe tbody tr th {\n",
       "        vertical-align: top;\n",
       "    }\n",
       "\n",
       "    .dataframe thead th {\n",
       "        text-align: right;\n",
       "    }\n",
       "</style>\n",
       "<table border=\"1\" class=\"dataframe\">\n",
       "  <thead>\n",
       "    <tr style=\"text-align: right;\">\n",
       "      <th></th>\n",
       "      <th>file_name</th>\n",
       "    </tr>\n",
       "  </thead>\n",
       "  <tbody>\n",
       "    <tr>\n",
       "      <th>0</th>\n",
       "      <td>sn85066408_1913-03-10_ed-1_seq-1_ocr.txt</td>\n",
       "    </tr>\n",
       "    <tr>\n",
       "      <th>1</th>\n",
       "      <td>sn85066408_1910-06-16_ed-1_seq-1_ocr.txt</td>\n",
       "    </tr>\n",
       "    <tr>\n",
       "      <th>2</th>\n",
       "      <td>sn85066408_1915-05-09_ed-1_seq-1_ocr.txt</td>\n",
       "    </tr>\n",
       "    <tr>\n",
       "      <th>3</th>\n",
       "      <td>sn85066408_1898-03-22_ed-1_seq-1_ocr.txt</td>\n",
       "    </tr>\n",
       "    <tr>\n",
       "      <th>4</th>\n",
       "      <td>sn85066408_1911-09-01_ed-1_seq-1_ocr.txt</td>\n",
       "    </tr>\n",
       "  </tbody>\n",
       "</table>\n",
       "</div>"
      ],
      "text/plain": [
       "                                  file_name\n",
       "0  sn85066408_1913-03-10_ed-1_seq-1_ocr.txt\n",
       "1  sn85066408_1910-06-16_ed-1_seq-1_ocr.txt\n",
       "2  sn85066408_1915-05-09_ed-1_seq-1_ocr.txt\n",
       "3  sn85066408_1898-03-22_ed-1_seq-1_ocr.txt\n",
       "4  sn85066408_1911-09-01_ed-1_seq-1_ocr.txt"
      ]
     },
     "execution_count": 40,
     "metadata": {},
     "output_type": "execute_result"
    }
   ],
   "source": [
    "sources.head()"
   ]
  },
  {
   "cell_type": "markdown",
   "metadata": {
    "id": "lThO8DOoxIDj"
   },
   "source": [
    "## 1.2. Adding columns for dates, publications and filtering dataset"
   ]
  },
  {
   "cell_type": "markdown",
   "metadata": {
    "id": "8Ko2sWRfxUYu"
   },
   "source": [
    "### 1.2.1. dates, publications\n"
   ]
  },
  {
   "cell_type": "code",
   "execution_count": 41,
   "metadata": {
    "id": "9sbxDR8OxZxD"
   },
   "outputs": [],
   "source": [
    "# get publication ref from file name\n",
    "def get_ref(file):\n",
    "  ref_match = re.findall(r'(\\w+\\d+)_\\d{4}-\\d{2}-\\d{2}_',file)\n",
    "  return ref_match[0]\n",
    "\n",
    "# get date from file name\n",
    "def get_date(file):\n",
    "  date_match = re.findall(r'_(\\d{4}-\\d{2}-\\d{2})_',file)\n",
    "  return date_match[0]\n",
    "\n",
    "\n",
    "#this part probably not needed\n",
    "# get year from file name\n",
    "def get_year(file):\n",
    "  year_match = re.findall(r'_(\\d{4})-\\d{2}-\\d{2}_',file)\n",
    "  return year_match[0]\n",
    "\n",
    "# get month from file name\n",
    "def get_month(file):\n",
    "  month_match = re.findall(r'_\\d{4}-(\\d{2})-\\d{2}_',file)\n",
    "  return month_match[0]\n",
    "\n",
    "# get day from file name\n",
    "def get_day(file):\n",
    "  month_match = re.findall(r'_\\d{4}-\\d{2}-(\\d{2})_',file)\n",
    "  return month_match[0]\n"
   ]
  },
  {
   "cell_type": "code",
   "execution_count": 42,
   "metadata": {
    "id": "qA1WCnSFxeRc"
   },
   "outputs": [],
   "source": [
    "sources['date'] = sources['file_name'].apply(lambda x: get_date(x))\n",
    "#sources['year'] = sources['file_name'].apply(lambda x: get_year(x))\n",
    "#sources['month'] = sources['file_name'].apply(lambda x: get_month(x))\n",
    "#sources['day'] = sources['file_name'].apply(lambda x: get_day(x))\n",
    "sources['publication'] = sources['file_name'].apply(lambda x: get_ref(x))"
   ]
  },
  {
   "cell_type": "code",
   "execution_count": 43,
   "metadata": {
    "id": "ezYPJg2axiLd"
   },
   "outputs": [],
   "source": [
    "# users need to input refs and pub names in same order\n",
    "pub_refs = [\"sn85066408\",\"2012271201\",\"sn84020351\",\"sn85054967\",\"sn84037024\",\"sn84037025\",\"sn85055164\",\"sn86092310\",\"sn92051386\",\"sn93053873\"]\n",
    "pub_names = [\"L\\'Italia\",\"Cronaca Sovversiva\",\"La Sentinella\",\"Il Patriota\",\"La Ragione\",\"La Rassegna\",\"La Libera Parola\",\"La Sentinella del West\",\"La Tribuna del Connecticut\",\"L\\'Indipendente\"]   "
   ]
  },
  {
   "cell_type": "code",
   "execution_count": 44,
   "metadata": {
    "id": "5v0-LjG4xl0W"
   },
   "outputs": [],
   "source": [
    "sources['publication_name'] = sources['publication'].replace(pub_refs, pub_names)\n"
   ]
  },
  {
   "cell_type": "code",
   "execution_count": 45,
   "metadata": {},
   "outputs": [
    {
     "data": {
      "text/html": [
       "<div>\n",
       "<style scoped>\n",
       "    .dataframe tbody tr th:only-of-type {\n",
       "        vertical-align: middle;\n",
       "    }\n",
       "\n",
       "    .dataframe tbody tr th {\n",
       "        vertical-align: top;\n",
       "    }\n",
       "\n",
       "    .dataframe thead th {\n",
       "        text-align: right;\n",
       "    }\n",
       "</style>\n",
       "<table border=\"1\" class=\"dataframe\">\n",
       "  <thead>\n",
       "    <tr style=\"text-align: right;\">\n",
       "      <th></th>\n",
       "      <th>file_name</th>\n",
       "      <th>date</th>\n",
       "      <th>publication</th>\n",
       "      <th>publication_name</th>\n",
       "    </tr>\n",
       "  </thead>\n",
       "  <tbody>\n",
       "    <tr>\n",
       "      <th>0</th>\n",
       "      <td>sn85066408_1913-03-10_ed-1_seq-1_ocr.txt</td>\n",
       "      <td>1913-03-10</td>\n",
       "      <td>sn85066408</td>\n",
       "      <td>L'Italia</td>\n",
       "    </tr>\n",
       "    <tr>\n",
       "      <th>1</th>\n",
       "      <td>sn85066408_1910-06-16_ed-1_seq-1_ocr.txt</td>\n",
       "      <td>1910-06-16</td>\n",
       "      <td>sn85066408</td>\n",
       "      <td>L'Italia</td>\n",
       "    </tr>\n",
       "    <tr>\n",
       "      <th>2</th>\n",
       "      <td>sn85066408_1915-05-09_ed-1_seq-1_ocr.txt</td>\n",
       "      <td>1915-05-09</td>\n",
       "      <td>sn85066408</td>\n",
       "      <td>L'Italia</td>\n",
       "    </tr>\n",
       "    <tr>\n",
       "      <th>3</th>\n",
       "      <td>sn85066408_1898-03-22_ed-1_seq-1_ocr.txt</td>\n",
       "      <td>1898-03-22</td>\n",
       "      <td>sn85066408</td>\n",
       "      <td>L'Italia</td>\n",
       "    </tr>\n",
       "    <tr>\n",
       "      <th>4</th>\n",
       "      <td>sn85066408_1911-09-01_ed-1_seq-1_ocr.txt</td>\n",
       "      <td>1911-09-01</td>\n",
       "      <td>sn85066408</td>\n",
       "      <td>L'Italia</td>\n",
       "    </tr>\n",
       "  </tbody>\n",
       "</table>\n",
       "</div>"
      ],
      "text/plain": [
       "                                  file_name        date publication  \\\n",
       "0  sn85066408_1913-03-10_ed-1_seq-1_ocr.txt  1913-03-10  sn85066408   \n",
       "1  sn85066408_1910-06-16_ed-1_seq-1_ocr.txt  1910-06-16  sn85066408   \n",
       "2  sn85066408_1915-05-09_ed-1_seq-1_ocr.txt  1915-05-09  sn85066408   \n",
       "3  sn85066408_1898-03-22_ed-1_seq-1_ocr.txt  1898-03-22  sn85066408   \n",
       "4  sn85066408_1911-09-01_ed-1_seq-1_ocr.txt  1911-09-01  sn85066408   \n",
       "\n",
       "  publication_name  \n",
       "0         L'Italia  \n",
       "1         L'Italia  \n",
       "2         L'Italia  \n",
       "3         L'Italia  \n",
       "4         L'Italia  "
      ]
     },
     "execution_count": 45,
     "metadata": {},
     "output_type": "execute_result"
    }
   ],
   "source": [
    "sources.head()"
   ]
  },
  {
   "cell_type": "code",
   "execution_count": 46,
   "metadata": {},
   "outputs": [
    {
     "data": {
      "text/html": [
       "<div>\n",
       "<style scoped>\n",
       "    .dataframe tbody tr th:only-of-type {\n",
       "        vertical-align: middle;\n",
       "    }\n",
       "\n",
       "    .dataframe tbody tr th {\n",
       "        vertical-align: top;\n",
       "    }\n",
       "\n",
       "    .dataframe thead th {\n",
       "        text-align: right;\n",
       "    }\n",
       "</style>\n",
       "<table border=\"1\" class=\"dataframe\">\n",
       "  <thead>\n",
       "    <tr style=\"text-align: right;\">\n",
       "      <th></th>\n",
       "      <th>file_name</th>\n",
       "      <th>date</th>\n",
       "      <th>publication</th>\n",
       "      <th>publication_name</th>\n",
       "    </tr>\n",
       "  </thead>\n",
       "  <tbody>\n",
       "    <tr>\n",
       "      <th>8648</th>\n",
       "      <td>sn84037024_1917-07-24_ed-5_seq-1_ocr.txt</td>\n",
       "      <td>1917-07-24</td>\n",
       "      <td>sn84037024</td>\n",
       "      <td>La Ragione</td>\n",
       "    </tr>\n",
       "    <tr>\n",
       "      <th>8649</th>\n",
       "      <td>sn84037024_1917-05-05_ed-3_seq-1_ocr.txt</td>\n",
       "      <td>1917-05-05</td>\n",
       "      <td>sn84037024</td>\n",
       "      <td>La Ragione</td>\n",
       "    </tr>\n",
       "    <tr>\n",
       "      <th>8650</th>\n",
       "      <td>sn84037024_1917-06-30_ed-2_seq-1_ocr.txt</td>\n",
       "      <td>1917-06-30</td>\n",
       "      <td>sn84037024</td>\n",
       "      <td>La Ragione</td>\n",
       "    </tr>\n",
       "    <tr>\n",
       "      <th>8651</th>\n",
       "      <td>sn84037024_1917-07-24_ed-1_seq-1_ocr.txt</td>\n",
       "      <td>1917-07-24</td>\n",
       "      <td>sn84037024</td>\n",
       "      <td>La Ragione</td>\n",
       "    </tr>\n",
       "    <tr>\n",
       "      <th>8652</th>\n",
       "      <td>sn84037024_1917-05-16_ed-4_seq-1_ocr.txt</td>\n",
       "      <td>1917-05-16</td>\n",
       "      <td>sn84037024</td>\n",
       "      <td>La Ragione</td>\n",
       "    </tr>\n",
       "  </tbody>\n",
       "</table>\n",
       "</div>"
      ],
      "text/plain": [
       "                                     file_name        date publication  \\\n",
       "8648  sn84037024_1917-07-24_ed-5_seq-1_ocr.txt  1917-07-24  sn84037024   \n",
       "8649  sn84037024_1917-05-05_ed-3_seq-1_ocr.txt  1917-05-05  sn84037024   \n",
       "8650  sn84037024_1917-06-30_ed-2_seq-1_ocr.txt  1917-06-30  sn84037024   \n",
       "8651  sn84037024_1917-07-24_ed-1_seq-1_ocr.txt  1917-07-24  sn84037024   \n",
       "8652  sn84037024_1917-05-16_ed-4_seq-1_ocr.txt  1917-05-16  sn84037024   \n",
       "\n",
       "     publication_name  \n",
       "8648       La Ragione  \n",
       "8649       La Ragione  \n",
       "8650       La Ragione  \n",
       "8651       La Ragione  \n",
       "8652       La Ragione  "
      ]
     },
     "execution_count": 46,
     "metadata": {},
     "output_type": "execute_result"
    }
   ],
   "source": [
    "sources.tail()"
   ]
  },
  {
   "cell_type": "markdown",
   "metadata": {
    "id": "YLDYbjnqxrCN"
   },
   "source": [
    "### 1.2.2. Filtering"
   ]
  },
  {
   "cell_type": "code",
   "execution_count": 10,
   "metadata": {
    "id": "Hu78NIAex2z6"
   },
   "outputs": [],
   "source": [
    "# Start from 06.06.1903 and finish 01.05.1919\n",
    "date_ref_1 = date(1903,6,6)\n",
    "date_ref_2 = date(1919,5,1)"
   ]
  },
  {
   "cell_type": "code",
   "execution_count": 11,
   "metadata": {
    "id": "06AdSGRNx7Ll"
   },
   "outputs": [],
   "source": [
    "def filter_by_date(date_item,date_ref_1,date_ref_2):\n",
    "    year = re.findall(r'(\\d{4})-\\d{2}-\\d{2}',date_item)[0]\n",
    "    month = re.findall(r'\\d{4}-(\\d{2})-\\d{2}',date_item)[0]\n",
    "    day = re.findall(r'\\d{4}-\\d{2}-(\\d{2})',date_item)[0]\n",
    "    file_date = date(int(year),int(month),int(day))\n",
    "    if (date_ref_1 <= file_date <= date_ref_2):\n",
    "        return 'included'\n",
    "    else:\n",
    "        return 'not included'"
   ]
  },
  {
   "cell_type": "code",
   "execution_count": 12,
   "metadata": {
    "id": "2UmLfsQjx-sw"
   },
   "outputs": [],
   "source": [
    "sources['status'] = sources['date'].apply(lambda x: filter_by_date(x,date_ref_1,date_ref_2))"
   ]
  },
  {
   "cell_type": "code",
   "execution_count": 13,
   "metadata": {
    "id": "PdadRVCWyCDo"
   },
   "outputs": [],
   "source": [
    "# variable containing the filtered documents\n",
    "corpus_df = sources[sources['status'] == 'included'].copy().reset_index()"
   ]
  },
  {
   "cell_type": "markdown",
   "metadata": {
    "id": "m794M-EPz_Lt"
   },
   "source": [
    "### 1.2.3 Adding text content"
   ]
  },
  {
   "cell_type": "code",
   "execution_count": 14,
   "metadata": {
    "id": "0PgOwPnqCfAe"
   },
   "outputs": [],
   "source": [
    "# read the content of the text files\n",
    "def readTxtContent(fileName):\n",
    "  with open(folder_path + fileName, 'r') as file:\n",
    "    return ' ' + file.read().replace('\\n', ' ') + ' '"
   ]
  },
  {
   "cell_type": "code",
   "execution_count": 15,
   "metadata": {
    "id": "MZEVIKHziQv2"
   },
   "outputs": [],
   "source": [
    "# add a column to the dataframe containing file content\n",
    "corpus_df['file_content'] = corpus_df['file_name'].apply(lambda x: readTxtContent(x))"
   ]
  },
  {
   "cell_type": "code",
   "execution_count": 16,
   "metadata": {
    "id": "ANmN9EwC36XJ"
   },
   "outputs": [],
   "source": [
    "corpus_df.to_csv(output_folder + '/documents_list.csv')"
   ]
  },
  {
   "cell_type": "markdown",
   "metadata": {
    "id": "ybCetXHi9m-y"
   },
   "source": [
    "## 1.3 Removing stop words, punctuation, short words"
   ]
  },
  {
   "cell_type": "code",
   "execution_count": 17,
   "metadata": {
    "colab": {
     "base_uri": "https://localhost:8080/"
    },
    "id": "sjphk8Sk59Fu",
    "outputId": "bbd630d1-e9fe-4aa5-9e38-83a72f0e187c"
   },
   "outputs": [],
   "source": [
    "import nltk"
   ]
  },
  {
   "cell_type": "code",
   "execution_count": 18,
   "metadata": {
    "colab": {
     "base_uri": "https://localhost:8080/"
    },
    "id": "6e-8sf7RayKz",
    "outputId": "98c07117-9fae-49e5-9dbe-5f6ea0d6dd84"
   },
   "outputs": [
    {
     "name": "stderr",
     "output_type": "stream",
     "text": [
      "[nltk_data] Downloading package punkt to /home/jovyan/nltk_data...\n",
      "[nltk_data]   Unzipping tokenizers/punkt.zip.\n",
      "[nltk_data] Downloading package stopwords to /home/jovyan/nltk_data...\n",
      "[nltk_data]   Unzipping corpora/stopwords.zip.\n"
     ]
    }
   ],
   "source": [
    "import nltk\n",
    "nltk.download('punkt')\n",
    "nltk.download('stopwords')\n",
    "from nltk.corpus import stopwords\n",
    "from nltk.tokenize import word_tokenize"
   ]
  },
  {
   "cell_type": "code",
   "execution_count": 19,
   "metadata": {
    "id": "a1MbU3_seOtJ"
   },
   "outputs": [],
   "source": [
    "# add tokenized documents in dataframe\n",
    "corpus_df['tokens'] = corpus_df['file_content'].apply(lambda x: nltk.word_tokenize(x))"
   ]
  },
  {
   "cell_type": "code",
   "execution_count": 20,
   "metadata": {
    "id": "vh3ikvdKfQ60"
   },
   "outputs": [],
   "source": [
    "# possible user options:\n",
    "# .isalnum() to removes tokens that include numbers\n",
    "# .isalpha() to remove all tokens that contain more than letters (punctuation and numbers)\n",
    "# .isdecimal() to remove tokens that contain only decimals\n",
    "# .isdigit() to remove tokens that contain only digits\n",
    "\n",
    "# add new column in df with processed tokens (here: keeping only alpha tokens longer than 3 characters + lowercasing)\n",
    "corpus_df['doc_prep'] = corpus_df['tokens'].apply(lambda x: [w.lower() for w in x if (w.isalpha() and len(w) > 2 )])"
   ]
  },
  {
   "cell_type": "code",
   "execution_count": 21,
   "metadata": {
    "id": "We2Ph83Y59F3"
   },
   "outputs": [],
   "source": [
    "# link to custom stop words: https://drive.google.com/file/d/1VVfW6AKPbb7_fICOG73lEgkXmmZ6BkpC/view?usp=sharing\n",
    "# Upload stop words list into Colab files before proceeding with the next cells"
   ]
  },
  {
   "cell_type": "code",
   "execution_count": 22,
   "metadata": {
    "id": "J-l00vPyShTM"
   },
   "outputs": [],
   "source": [
    "from nltk.corpus import stopwords\n",
    "ital_stopwords = stopwords.words('italian')\n",
    "en_stopwords = stopwords.words('english')"
   ]
  },
  {
   "cell_type": "code",
   "execution_count": 23,
   "metadata": {
    "id": "74eVFiitFFnO"
   },
   "outputs": [],
   "source": [
    "stop_words = pd.read_csv('stop_words.csv')"
   ]
  },
  {
   "cell_type": "code",
   "execution_count": 24,
   "metadata": {
    "id": "uw-or9DzIVI2"
   },
   "outputs": [],
   "source": [
    "stopwords = stop_words['stopword'].values.tolist()"
   ]
  },
  {
   "cell_type": "code",
   "execution_count": 25,
   "metadata": {
    "id": "zLpy-SOmhOmr"
   },
   "outputs": [],
   "source": [
    "# add english stop words list to custom stopwords \n",
    "stopwords.extend(en_stopwords)"
   ]
  },
  {
   "cell_type": "code",
   "execution_count": 26,
   "metadata": {
    "id": "3IrR5gbba5ho"
   },
   "outputs": [],
   "source": [
    "# to append list of words added by user: ital_stopwords.extend(user_input)\n",
    "# to remove words: ital_stopwords.remove(user_input)"
   ]
  },
  {
   "cell_type": "code",
   "execution_count": 27,
   "metadata": {
    "id": "5SBUnxlpCxEa"
   },
   "outputs": [],
   "source": [
    "# add column with tokenized documents without sw\n",
    "corpus_df['doc_prep_nostop'] = corpus_df['doc_prep'].apply(lambda x: [w for w in x if not w in stopwords])"
   ]
  },
  {
   "cell_type": "code",
   "execution_count": 28,
   "metadata": {
    "colab": {
     "base_uri": "https://localhost:8080/"
    },
    "id": "6S_6yx1UmIbZ",
    "outputId": "ed6359e9-37e0-4a57-8039-126d5e6b2804"
   },
   "outputs": [
    {
     "data": {
      "text/plain": [
       "0      [numero, ebdomadario, anàrchico, propaganda, r...\n",
       "1      [ebdomadario, anarchico, propaganda, rivoluzio...\n",
       "2      [numero, vver, ebdomadario, anarchico, propaga...\n",
       "3      [ebdomadàrio, anarchico, propaganda, rivoluzio...\n",
       "4      [numero, ebdomadario, anarchico, propaganda, r...\n",
       "                             ...                        \n",
       "766    [nefcaper, fcas, jsc, octoberth, tbcrcfore, en...\n",
       "767    [xvi, nxn, jvi, affogano, stringono, laccio, g...\n",
       "768    [xvi, lynn, july, ith, num, corrispondenze, le...\n",
       "769    [xvn, und, heute, geht, eine, neue, epoche, de...\n",
       "770    [xvn, cose, francia, parigi, rao, villain, gil...\n",
       "Name: doc_prep_nostop, Length: 771, dtype: object"
      ]
     },
     "execution_count": 28,
     "metadata": {},
     "output_type": "execute_result"
    }
   ],
   "source": [
    "corpus_df['doc_prep_nostop']"
   ]
  },
  {
   "cell_type": "code",
   "execution_count": 29,
   "metadata": {
    "id": "XZHRCw-TLGPK"
   },
   "outputs": [],
   "source": [
    "# set the variable to use for topic modelling (if no further options are used)\n",
    "corpus_model = corpus_df['doc_prep_nostop']"
   ]
  },
  {
   "cell_type": "code",
   "execution_count": 30,
   "metadata": {
    "id": "AAfTMWcX59GM"
   },
   "outputs": [],
   "source": [
    "# save the data after pre-processing in the output folder for verification of pre-processing steps\n",
    "# corpus_df.to_csv(output_folder + '/corpus_df.csv')\n",
    "corpus_df.to_csv(output_folder + '/corpus_df.csv')"
   ]
  },
  {
   "cell_type": "markdown",
   "metadata": {
    "id": "YHKQAqemcgYz"
   },
   "source": [
    "## 1.4 Lemmatize"
   ]
  },
  {
   "cell_type": "code",
   "execution_count": 31,
   "metadata": {
    "id": "Ob8M804chYgh"
   },
   "outputs": [],
   "source": [
    "# Lemmatization is available in multiple languages in Spacy and not in NLTK (only English)\n",
    "# With Spacy, lemmatization is available for 10 languages. There's also a multi-language option that\n",
    "# should be tested if additional languages are needed"
   ]
  },
  {
   "cell_type": "code",
   "execution_count": 38,
   "metadata": {
    "colab": {
     "base_uri": "https://localhost:8080/"
    },
    "id": "2QAPblFUwf3F",
    "outputId": "44e6b3f3-33a1-4414-d781-0103241d3936"
   },
   "outputs": [
    {
     "name": "stdout",
     "output_type": "stream",
     "text": [
      "/bin/bash: spacy: command not found\r\n"
     ]
    }
   ],
   "source": [
    "!python3 -m spacy download it_core_news_sm"
   ]
  },
  {
   "cell_type": "code",
   "execution_count": 39,
   "metadata": {
    "id": "8al8riPXA98n"
   },
   "outputs": [],
   "source": [
    "import it_core_news_sm\n",
    "it_nlp = it_core_news_sm.load(disable=['tagger', 'parser', 'ner'])"
   ]
  },
  {
   "cell_type": "code",
   "execution_count": 40,
   "metadata": {
    "id": "YZHdI_8tmv3y"
   },
   "outputs": [],
   "source": [
    "# lemmatization function\n",
    "def lemmatize(doc):\n",
    "  lemmatized_doc = []\n",
    "  for w in doc:\n",
    "    w_lemma = [token.lemma_ for token in it_nlp(w)]\n",
    "    lemmatized_doc.append(w_lemma[0])\n",
    "  return lemmatized_doc"
   ]
  },
  {
   "cell_type": "code",
   "execution_count": 41,
   "metadata": {
    "id": "k-mYWKgSk9CW"
   },
   "outputs": [],
   "source": [
    "# add column with lemmatized tokens - directly from the tokens as preprocessing has already been done\n",
    "corpus_df['doc_lemmatized'] = corpus_df['doc_prep_nostop'].apply(lambda x: lemmatize(x))"
   ]
  },
  {
   "cell_type": "code",
   "execution_count": 42,
   "metadata": {
    "id": "tvl0MO_FH5yH"
   },
   "outputs": [],
   "source": [
    "# variable with lemmatized tokens\n",
    "lemmatized_corpus = corpus_df['doc_lemmatized']\n",
    "# the lemmatized version is not used in this example"
   ]
  },
  {
   "cell_type": "markdown",
   "metadata": {
    "id": "o8TRLnFPK6p4"
   },
   "source": [
    "# 2. Topics with LDA"
   ]
  },
  {
   "cell_type": "code",
   "execution_count": 43,
   "metadata": {
    "colab": {
     "base_uri": "https://localhost:8080/",
     "height": 326
    },
    "id": "CdwV8h_b59GX",
    "outputId": "3ecde93f-6552-459e-ab46-068568d07c48"
   },
   "outputs": [
    {
     "name": "stdout",
     "output_type": "stream",
     "text": [
      "Collecting gensim\n",
      "  Downloading gensim-3.8.3-cp38-cp38-manylinux1_x86_64.whl (24.2 MB)\n",
      "\u001b[K     |████████████████████████████████| 24.2 MB 7.9 MB/s eta 0:00:01     |████████████████████████▊       | 18.7 MB 7.9 MB/s eta 0:00:01\n",
      "\u001b[?25hRequirement already satisfied: numpy>=1.11.3 in ./.local/lib/python3.8/site-packages (from gensim) (1.19.4)\n",
      "Collecting scipy>=0.18.1\n",
      "  Downloading scipy-1.5.4-cp38-cp38-manylinux1_x86_64.whl (25.8 MB)\n",
      "\u001b[K     |████████████████████████████████| 25.8 MB 391 kB/s  eta 0:00:01\n",
      "\u001b[?25hCollecting smart-open>=1.8.1\n",
      "  Downloading smart_open-4.0.1.tar.gz (117 kB)\n",
      "\u001b[K     |████████████████████████████████| 117 kB 46.6 MB/s eta 0:00:01\n",
      "\u001b[?25hRequirement already satisfied: six>=1.5.0 in /opt/conda/lib/python3.8/site-packages (from gensim) (1.15.0)\n",
      "Building wheels for collected packages: smart-open\n",
      "  Building wheel for smart-open (setup.py) ... \u001b[?25ldone\n",
      "\u001b[?25h  Created wheel for smart-open: filename=smart_open-4.0.1-py3-none-any.whl size=108247 sha256=2ba362e708a3cb1cf07c93f3cea9f55db86e94ae7efdf19a58b493666d354fed\n",
      "  Stored in directory: /home/jovyan/.cache/pip/wheels/8c/f9/f4/4ddd9ddee3488f48be20e9bf3108961f03ae23da29b7ed26d1\n",
      "Successfully built smart-open\n",
      "Installing collected packages: scipy, smart-open, gensim\n",
      "Successfully installed gensim-3.8.3 scipy-1.5.4 smart-open-4.0.1\n"
     ]
    }
   ],
   "source": [
    "#Gensim installation\n",
    "! pip install --user gensim"
   ]
  },
  {
   "cell_type": "code",
   "execution_count": 45,
   "metadata": {
    "id": "Fr1F0QNdOxy3"
   },
   "outputs": [],
   "source": [
    "import gensim\n",
    "from gensim.test.utils import common_corpus, common_dictionary\n",
    "from gensim import corpora, models"
   ]
  },
  {
   "cell_type": "markdown",
   "metadata": {
    "id": "530LX-OLRDcP"
   },
   "source": [
    "## 2.1 Preliminary steps to run LDA\n",
    "\n"
   ]
  },
  {
   "cell_type": "markdown",
   "metadata": {
    "id": "EuVJZqPE2gMA"
   },
   "source": [
    "### 2.1.1 Creating the dictionary, optional filtering of extreme values"
   ]
  },
  {
   "cell_type": "code",
   "execution_count": 46,
   "metadata": {
    "id": "LQCa_QvL2vQ-"
   },
   "outputs": [],
   "source": [
    "# if you use lemmatized version replace \"corpus_model\" by lemmatized_corpus\n",
    "id2word = corpora.Dictionary(corpus_model)"
   ]
  },
  {
   "cell_type": "code",
   "execution_count": 47,
   "metadata": {
    "id": "4kyAS5ON2x4S"
   },
   "outputs": [],
   "source": [
    "id2word.filter_extremes(no_below=5)"
   ]
  },
  {
   "cell_type": "markdown",
   "metadata": {
    "id": "GZlLjmvsQAMy"
   },
   "source": [
    "### 2.1.2 Bag of words"
   ]
  },
  {
   "cell_type": "code",
   "execution_count": 48,
   "metadata": {
    "id": "UzxS5Q3aQ7mh"
   },
   "outputs": [],
   "source": [
    "corpus = [id2word.doc2bow(text) for text in corpus_model]"
   ]
  },
  {
   "cell_type": "markdown",
   "metadata": {
    "id": "qadtU7aTQMqg"
   },
   "source": [
    "## 2.2 LDA"
   ]
  },
  {
   "cell_type": "markdown",
   "metadata": {
    "id": "WaVq64fiABrm"
   },
   "source": [
    "### 2.2.1. Option 1: Train a model without coherence calculation\n",
    "\n"
   ]
  },
  {
   "cell_type": "code",
   "execution_count": 49,
   "metadata": {
    "id": "cAG4fnuMAkER"
   },
   "outputs": [],
   "source": [
    "# set the nr of topics\n",
    "num_topics = 7"
   ]
  },
  {
   "cell_type": "code",
   "execution_count": 50,
   "metadata": {
    "id": "BtmuygzBANHN"
   },
   "outputs": [],
   "source": [
    "# faster preset (hypothetically less accurate)\n",
    "model = gensim.models.ldamulticore.LdaMulticore(corpus, id2word=id2word, num_topics=num_topics, eval_every = None)\n",
    "# slower preset (hypothetically more accurate)\n",
    "# model = gensim.models.ldamulticore.LdaMulticore(corpus, id2word=id2word, num_topics=num_topics, chunksize=1000, iterations = 200, passes = 10, eval_every = None)\n",
    "# slowest preset (hypothetically even more accurate)\n",
    "# model = gensim.models.ldamulticore.LdaMulticore(corpus, id2word=id2word, num_topics=num_topics, chunksize=2000, iterations = 400, passes = 20, eval_every = None)\n"
   ]
  },
  {
   "cell_type": "code",
   "execution_count": 51,
   "metadata": {
    "id": "Y-WWyUfYAeTl"
   },
   "outputs": [],
   "source": [
    "topic_print_model = model.print_topics(num_words=30)"
   ]
  },
  {
   "cell_type": "code",
   "execution_count": 52,
   "metadata": {
    "id": "lYgSLt1HBQty"
   },
   "outputs": [],
   "source": [
    "df_topic_print_model = pd.DataFrame(topic_print_model, columns=['topic_id','words'])"
   ]
  },
  {
   "cell_type": "code",
   "execution_count": 53,
   "metadata": {
    "id": "sKGYGB13BhkK"
   },
   "outputs": [],
   "source": [
    "df_topic_print_model.to_csv(output_folder +'/topics_without_coherence.csv')"
   ]
  },
  {
   "cell_type": "markdown",
   "metadata": {
    "id": "lwXFHidTA4DV"
   },
   "source": [
    "### 2.2.2. Option 2: Train models and compute coherence"
   ]
  },
  {
   "cell_type": "markdown",
   "metadata": {
    "id": "SSL1PF6zRcft"
   },
   "source": [
    "Topic Coherence measures score of a single topic by measuring the degree of semantic similarity between high scoring words in the topic. https://towardsdatascience.com/evaluate-topic-model-in-python-latent-dirichlet-allocation-lda-7d57484bb5d0"
   ]
  },
  {
   "cell_type": "code",
   "execution_count": 54,
   "metadata": {
    "id": "GX69kVo-ssrV"
   },
   "outputs": [],
   "source": [
    "from gensim.models.coherencemodel import CoherenceModel"
   ]
  },
  {
   "cell_type": "code",
   "execution_count": null,
   "metadata": {
    "id": "HzkEa_45NeGj"
   },
   "outputs": [],
   "source": [
    "# is it possible to output the models and save them somewhere?"
   ]
  },
  {
   "cell_type": "code",
   "execution_count": 56,
   "metadata": {
    "id": "lWD51u4PGAuh"
   },
   "outputs": [],
   "source": [
    "%%capture\n",
    "topics_nr = []\n",
    "coherence_values_gensim = []\n",
    "models = []\n",
    "models_idx = [x for x in range(3,20)]\n",
    "for num_topics in range(3, 20):\n",
    "  # fastest processing time preset (hypothetically less accurate)\n",
    "  model = gensim.models.ldamulticore.LdaMulticore(corpus, id2word=id2word, num_topics=num_topics, eval_every = None)\n",
    "  # slower processing time preset (hypothetically more accurate) approx 20min for 700 short docs\n",
    "  # model = gensim.models.ldamulticore.LdaMulticore(corpus, id2word=id2word, num_topics=num_topics, chunksize=1000, iterations = 200, passes = 10, eval_every = None)\n",
    "  # slowest processing time preset approx 35min for 700 short docs (hypothetically even more accurate)\n",
    "  # model = gensim.models.ldamulticore.LdaMulticore(corpus, id2word=id2word, num_topics=num_topics, chunksize=2000, iterations = 400, passes = 20, eval_every = None)\n",
    "  models.append(model)\n",
    "  coherencemodel = CoherenceModel(model=model, texts=corpus_model, dictionary=id2word, coherence='c_v')\n",
    "  coherence_value = coherencemodel.get_coherence()\n",
    "  coherence_values_gensim.append(coherence_value)\n",
    "  topics_nr.append(str(num_topics))"
   ]
  },
  {
   "cell_type": "code",
   "execution_count": 57,
   "metadata": {
    "id": "pu3ddX4Z59Gz"
   },
   "outputs": [],
   "source": [
    "df_coherence = pd.DataFrame(topics_nr, columns=['Number of topics'])"
   ]
  },
  {
   "cell_type": "code",
   "execution_count": 58,
   "metadata": {
    "id": "VNVx4M1l59G0"
   },
   "outputs": [],
   "source": [
    "df_coherence['Coherence'] = coherence_values_gensim"
   ]
  },
  {
   "cell_type": "code",
   "execution_count": 60,
   "metadata": {
    "id": "HxMiNwXl59G1"
   },
   "outputs": [],
   "source": [
    "# save into outputs drive folder\n",
    "df_coherence.to_csv(output_folder + '/coherence_values.csv')"
   ]
  },
  {
   "cell_type": "code",
   "execution_count": 61,
   "metadata": {
    "id": "Cg6OgRt7GAuy"
   },
   "outputs": [],
   "source": [
    "# Create list with topics and topic words for each number of topics\n",
    "num_topics_list = []\n",
    "topics_list = []\n",
    "for i in range(len(models_idx)):\n",
    "  numtopics = models_idx[i]\n",
    "  num_topics_list.append(numtopics)\n",
    "  model = models[i]\n",
    "  topic_print = model.print_topics(num_words=30)\n",
    "  topics_list.append(topic_print)\n",
    "  df_topic_print = pd.DataFrame(topic_print, columns=['topic_id','words'])"
   ]
  },
  {
   "cell_type": "code",
   "execution_count": 62,
   "metadata": {
    "id": "laePkITfgQ1b"
   },
   "outputs": [],
   "source": [
    "df_coherence_table = pd.DataFrame(columns=['Number of topics', 'Topic', 'Topic words'])"
   ]
  },
  {
   "cell_type": "code",
   "execution_count": 63,
   "metadata": {
    "id": "E8qYg5uzglyG"
   },
   "outputs": [],
   "source": [
    "idx = 0\n",
    "for i in range(len(topics_list)):\n",
    "  for j in range(len(topics_list[i])):\n",
    "      df_coherence_table.loc[idx] = ''\n",
    "      df_coherence_table['Number of topics'].loc[idx] = num_topics_list[i]\n",
    "      df_coherence_table['Topic'].loc[idx] = j + 1\n",
    "      df_coherence_table['Topic words'].loc[idx] = ', '.join(re.findall(r'\"(\\w+)\"',topics_list[i][j][1]))\n",
    "      idx += 1"
   ]
  },
  {
   "cell_type": "code",
   "execution_count": 65,
   "metadata": {
    "id": "F9zg_gZ6jhJS"
   },
   "outputs": [],
   "source": [
    "# save file to output folder\n",
    "df_coherence_table.to_csv(output_folder +'/coherence_table.csv')"
   ]
  },
  {
   "cell_type": "markdown",
   "metadata": {
    "id": "rCfizcBhjEhV"
   },
   "source": [
    "### 2.2.3. Choose the number of topics for further processing "
   ]
  },
  {
   "cell_type": "code",
   "execution_count": 66,
   "metadata": {
    "id": "hLLdXTHa59G-"
   },
   "outputs": [],
   "source": [
    "# select the model to display the rest of the steps by typing the desired number of topics below\n",
    "numtopics = 6"
   ]
  },
  {
   "cell_type": "code",
   "execution_count": 67,
   "metadata": {
    "id": "pfn02KWy59G_"
   },
   "outputs": [],
   "source": [
    "idx = models_idx.index(numtopics)\n",
    "model = models[idx]"
   ]
  },
  {
   "cell_type": "markdown",
   "metadata": {
    "id": "lUMwnEEKCERs"
   },
   "source": [
    "# Topic visualisation"
   ]
  },
  {
   "cell_type": "markdown",
   "metadata": {
    "id": "4dJYgzJAsxkH"
   },
   "source": [
    "## Data Preparation"
   ]
  },
  {
   "cell_type": "code",
   "execution_count": 76,
   "metadata": {},
   "outputs": [],
   "source": [
    "# the file import below is code reproduced from pyLDAvis module to compute calculations for terms relevance\n",
    "# result of computations is then displayed in visualisation (not displayed in this notebook as will be\n",
    "# handled by interface)"
   ]
  },
  {
   "cell_type": "code",
   "execution_count": 68,
   "metadata": {
    "colab": {
     "base_uri": "https://localhost:8080/",
     "height": 411
    },
    "id": "om_oYQRZsvhQ",
    "outputId": "07e5ccb4-359c-40ac-cba7-dba29f9d4952",
    "scrolled": true
   },
   "outputs": [
    {
     "name": "stdout",
     "output_type": "stream",
     "text": [
      "--2020-12-03 09:37:43--  https://raw.githubusercontent.com/DHARPA-Project/TopicModelling-/master/vis-files/tm_1/jscode-test-2.js\n",
      "Resolving raw.githubusercontent.com (raw.githubusercontent.com)... 151.101.112.133\n",
      "Connecting to raw.githubusercontent.com (raw.githubusercontent.com)|151.101.112.133|:443... connected.\n",
      "HTTP request sent, awaiting response... 200 OK\n",
      "Length: 219774 (215K) [text/plain]\n",
      "Saving to: ‘jscode-test-2.js’\n",
      "\n",
      "jscode-test-2.js    100%[===================>] 214.62K  --.-KB/s    in 0.1s    \n",
      "\n",
      "2020-12-03 09:37:43 (1.66 MB/s) - ‘jscode-test-2.js’ saved [219774/219774]\n",
      "\n",
      "--2020-12-03 09:37:44--  https://raw.githubusercontent.com/DHARPA-Project/TopicModelling-/master/vis-files/tm_1/tm1_data_prepare_gensim.py\n",
      "Resolving raw.githubusercontent.com (raw.githubusercontent.com)... 151.101.112.133\n",
      "Connecting to raw.githubusercontent.com (raw.githubusercontent.com)|151.101.112.133|:443... connected.\n",
      "HTTP request sent, awaiting response... 200 OK\n",
      "Length: 22824 (22K) [text/plain]\n",
      "Saving to: ‘tm1_data_prepare_gensim.py’\n",
      "\n",
      "tm1_data_prepare_ge 100%[===================>]  22.29K  --.-KB/s    in 0.01s   \n",
      "\n",
      "2020-12-03 09:37:45 (2.04 MB/s) - ‘tm1_data_prepare_gensim.py’ saved [22824/22824]\n",
      "\n"
     ]
    }
   ],
   "source": [
    "!wget https://raw.githubusercontent.com/DHARPA-Project/TopicModelling-/master/vis-files/tm_1/tm1_data_prepare_gensim.py"
   ]
  },
  {
   "cell_type": "code",
   "execution_count": 74,
   "metadata": {
    "id": "XWb61JKFCRnc"
   },
   "outputs": [],
   "source": [
    "%run -i tm1_data_prepare_gensim"
   ]
  },
  {
   "cell_type": "code",
   "execution_count": 77,
   "metadata": {
    "id": "TkJlFOcwtQX2"
   },
   "outputs": [],
   "source": [
    "data_vis = prepare(model, corpus, id2word, doc_topic_dist=None)"
   ]
  },
  {
   "cell_type": "code",
   "execution_count": 78,
   "metadata": {
    "id": "gM5irgNg5I17"
   },
   "outputs": [],
   "source": [
    "topic_info = data_vis[1][data_vis[1]['Category'] == 'Default'].copy()"
   ]
  },
  {
   "cell_type": "code",
   "execution_count": 79,
   "metadata": {
    "id": "e2iWyH5b4-s8"
   },
   "outputs": [],
   "source": [
    "topic_info['relevance'] = ''"
   ]
  },
  {
   "cell_type": "code",
   "execution_count": 80,
   "metadata": {
    "id": "w_KKlpbT6qMP"
   },
   "outputs": [],
   "source": [
    "for i in range(numtopics):\n",
    "  topic_num = i+1\n",
    "  data = data_vis.sorted_terms(topic=topic_num, _lambda=.6).copy()\n",
    "  topic_info = topic_info.append(data)"
   ]
  },
  {
   "cell_type": "code",
   "execution_count": 81,
   "metadata": {
    "id": "juIJ3X93_F0p"
   },
   "outputs": [],
   "source": [
    "# uncomment to show the full output of a topic, replace 'Topic8' by the topic to display\n",
    "# topic_info[topic_info['Category'] == 'Topic8']"
   ]
  },
  {
   "cell_type": "code",
   "execution_count": 82,
   "metadata": {
    "id": "cow3b4AwuA-R"
   },
   "outputs": [],
   "source": [
    "topic_info.to_csv(output_folder + '/topic_info.csv')"
   ]
  },
  {
   "cell_type": "code",
   "execution_count": 83,
   "metadata": {
    "id": "PS6ufUn9uMYo"
   },
   "outputs": [],
   "source": [
    "topic_proportion = data_vis[0].copy()"
   ]
  },
  {
   "cell_type": "code",
   "execution_count": 84,
   "metadata": {
    "id": "wxcIhzOcve5C"
   },
   "outputs": [],
   "source": [
    "topic_proportion['proportion'] = topic_proportion['Freq'] / 100"
   ]
  },
  {
   "cell_type": "code",
   "execution_count": 85,
   "metadata": {
    "id": "emmA8Edwv7-o"
   },
   "outputs": [],
   "source": [
    "topic_proportion.index.name = 'topic_id'"
   ]
  },
  {
   "cell_type": "code",
   "execution_count": 86,
   "metadata": {
    "id": "Y6VjiBcrwS_-"
   },
   "outputs": [],
   "source": [
    "topic_proportion.to_csv(output_folder + '/topic_proportion.csv')"
   ]
  },
  {
   "cell_type": "markdown",
   "metadata": {
    "id": "KbNwRS8T-voq"
   },
   "source": [
    "## Visualisation"
   ]
  },
  {
   "cell_type": "markdown",
   "metadata": {
    "id": "Tn70q1uGWx40"
   },
   "source": [
    "# Topic distribution"
   ]
  },
  {
   "cell_type": "markdown",
   "metadata": {
    "id": "tJQWcQhLXN0A"
   },
   "source": [
    "## 3.1. Distribution per topic and per document"
   ]
  },
  {
   "cell_type": "code",
   "execution_count": 87,
   "metadata": {
    "id": "uCv_Yd4LXNCs"
   },
   "outputs": [],
   "source": [
    "ldamodel = model"
   ]
  },
  {
   "cell_type": "code",
   "execution_count": 88,
   "metadata": {
    "id": "FfTOWir8ijZz"
   },
   "outputs": [],
   "source": [
    "doc_topic_weights = ldamodel.inference(corpus)[0]\n",
    "doc_topic_dists = doc_topic_weights / doc_topic_weights.sum(axis=1)[:, None]"
   ]
  },
  {
   "cell_type": "code",
   "execution_count": 89,
   "metadata": {
    "id": "QceWuyVJi0yE"
   },
   "outputs": [],
   "source": [
    "distribution = pd.DataFrame(doc_topic_dists,columns=[f'Topic {i+1}' for i in range(numtopics)])"
   ]
  },
  {
   "cell_type": "code",
   "execution_count": 90,
   "metadata": {
    "id": "VdJPQTn5nMvx"
   },
   "outputs": [],
   "source": [
    "distribution.index.name = 'document'"
   ]
  },
  {
   "cell_type": "code",
   "execution_count": 91,
   "metadata": {
    "colab": {
     "base_uri": "https://localhost:8080/",
     "height": 637
    },
    "id": "nuNjFvpSXf33",
    "outputId": "fa823dbf-dd56-4a58-b7e6-f95e78208633"
   },
   "outputs": [
    {
     "data": {
      "text/html": [
       "<div>\n",
       "<style scoped>\n",
       "    .dataframe tbody tr th:only-of-type {\n",
       "        vertical-align: middle;\n",
       "    }\n",
       "\n",
       "    .dataframe tbody tr th {\n",
       "        vertical-align: top;\n",
       "    }\n",
       "\n",
       "    .dataframe thead th {\n",
       "        text-align: right;\n",
       "    }\n",
       "</style>\n",
       "<table border=\"1\" class=\"dataframe\">\n",
       "  <thead>\n",
       "    <tr style=\"text-align: right;\">\n",
       "      <th></th>\n",
       "      <th>document_path</th>\n",
       "      <th>publication_name</th>\n",
       "      <th>Topic 1</th>\n",
       "      <th>Topic 2</th>\n",
       "      <th>Topic 3</th>\n",
       "      <th>Topic 4</th>\n",
       "      <th>Topic 5</th>\n",
       "      <th>Topic 6</th>\n",
       "    </tr>\n",
       "    <tr>\n",
       "      <th>document</th>\n",
       "      <th></th>\n",
       "      <th></th>\n",
       "      <th></th>\n",
       "      <th></th>\n",
       "      <th></th>\n",
       "      <th></th>\n",
       "      <th></th>\n",
       "      <th></th>\n",
       "    </tr>\n",
       "  </thead>\n",
       "  <tbody>\n",
       "    <tr>\n",
       "      <th>0</th>\n",
       "      <td>2012271201_1903-06-06_ed-1_seq-1_ocr.txt</td>\n",
       "      <td>Cronaca Sovversiva</td>\n",
       "      <td>0.176089</td>\n",
       "      <td>0.041301</td>\n",
       "      <td>0.398105</td>\n",
       "      <td>0.257326</td>\n",
       "      <td>0.027687</td>\n",
       "      <td>0.099492</td>\n",
       "    </tr>\n",
       "    <tr>\n",
       "      <th>1</th>\n",
       "      <td>2012271201_1903-06-13_ed-1_seq-1_ocr.txt</td>\n",
       "      <td>Cronaca Sovversiva</td>\n",
       "      <td>0.000375</td>\n",
       "      <td>0.274867</td>\n",
       "      <td>0.579776</td>\n",
       "      <td>0.010779</td>\n",
       "      <td>0.000375</td>\n",
       "      <td>0.133829</td>\n",
       "    </tr>\n",
       "    <tr>\n",
       "      <th>2</th>\n",
       "      <td>2012271201_1903-06-20_ed-1_seq-1_ocr.txt</td>\n",
       "      <td>Cronaca Sovversiva</td>\n",
       "      <td>0.150134</td>\n",
       "      <td>0.060628</td>\n",
       "      <td>0.292415</td>\n",
       "      <td>0.091584</td>\n",
       "      <td>0.304601</td>\n",
       "      <td>0.100637</td>\n",
       "    </tr>\n",
       "    <tr>\n",
       "      <th>3</th>\n",
       "      <td>2012271201_1903-06-27_ed-1_seq-1_ocr.txt</td>\n",
       "      <td>Cronaca Sovversiva</td>\n",
       "      <td>0.055123</td>\n",
       "      <td>0.000292</td>\n",
       "      <td>0.056557</td>\n",
       "      <td>0.715716</td>\n",
       "      <td>0.000292</td>\n",
       "      <td>0.172020</td>\n",
       "    </tr>\n",
       "    <tr>\n",
       "      <th>4</th>\n",
       "      <td>2012271201_1903-07-04_ed-1_seq-1_ocr.txt</td>\n",
       "      <td>Cronaca Sovversiva</td>\n",
       "      <td>0.020901</td>\n",
       "      <td>0.082106</td>\n",
       "      <td>0.009186</td>\n",
       "      <td>0.420806</td>\n",
       "      <td>0.001505</td>\n",
       "      <td>0.465496</td>\n",
       "    </tr>\n",
       "    <tr>\n",
       "      <th>...</th>\n",
       "      <td>...</td>\n",
       "      <td>...</td>\n",
       "      <td>...</td>\n",
       "      <td>...</td>\n",
       "      <td>...</td>\n",
       "      <td>...</td>\n",
       "      <td>...</td>\n",
       "      <td>...</td>\n",
       "    </tr>\n",
       "    <tr>\n",
       "      <th>766</th>\n",
       "      <td>2012271201_1918-04-20_ed-1_seq-1_ocr.txt</td>\n",
       "      <td>Cronaca Sovversiva</td>\n",
       "      <td>0.113515</td>\n",
       "      <td>0.013215</td>\n",
       "      <td>0.658471</td>\n",
       "      <td>0.174967</td>\n",
       "      <td>0.000585</td>\n",
       "      <td>0.039247</td>\n",
       "    </tr>\n",
       "    <tr>\n",
       "      <th>767</th>\n",
       "      <td>2012271201_1918-06-06_ed-1_seq-1_ocr.txt</td>\n",
       "      <td>Cronaca Sovversiva</td>\n",
       "      <td>0.586583</td>\n",
       "      <td>0.008119</td>\n",
       "      <td>0.078928</td>\n",
       "      <td>0.050203</td>\n",
       "      <td>0.172351</td>\n",
       "      <td>0.103817</td>\n",
       "    </tr>\n",
       "    <tr>\n",
       "      <th>768</th>\n",
       "      <td>2012271201_1918-07-18_ed-1_seq-1_ocr.txt</td>\n",
       "      <td>Cronaca Sovversiva</td>\n",
       "      <td>0.564316</td>\n",
       "      <td>0.047220</td>\n",
       "      <td>0.286974</td>\n",
       "      <td>0.063797</td>\n",
       "      <td>0.004725</td>\n",
       "      <td>0.032969</td>\n",
       "    </tr>\n",
       "    <tr>\n",
       "      <th>769</th>\n",
       "      <td>2012271201_1919-03-20_ed-1_seq-1_ocr.txt</td>\n",
       "      <td>Cronaca Sovversiva</td>\n",
       "      <td>0.531253</td>\n",
       "      <td>0.068512</td>\n",
       "      <td>0.060455</td>\n",
       "      <td>0.064128</td>\n",
       "      <td>0.072977</td>\n",
       "      <td>0.202675</td>\n",
       "    </tr>\n",
       "    <tr>\n",
       "      <th>770</th>\n",
       "      <td>2012271201_1919-05-01_ed-1_seq-1_ocr.txt</td>\n",
       "      <td>Cronaca Sovversiva</td>\n",
       "      <td>0.087847</td>\n",
       "      <td>0.002895</td>\n",
       "      <td>0.611954</td>\n",
       "      <td>0.211090</td>\n",
       "      <td>0.004969</td>\n",
       "      <td>0.081244</td>\n",
       "    </tr>\n",
       "  </tbody>\n",
       "</table>\n",
       "<p>771 rows × 8 columns</p>\n",
       "</div>"
      ],
      "text/plain": [
       "                                     document_path    publication_name  \\\n",
       "document                                                                 \n",
       "0         2012271201_1903-06-06_ed-1_seq-1_ocr.txt  Cronaca Sovversiva   \n",
       "1         2012271201_1903-06-13_ed-1_seq-1_ocr.txt  Cronaca Sovversiva   \n",
       "2         2012271201_1903-06-20_ed-1_seq-1_ocr.txt  Cronaca Sovversiva   \n",
       "3         2012271201_1903-06-27_ed-1_seq-1_ocr.txt  Cronaca Sovversiva   \n",
       "4         2012271201_1903-07-04_ed-1_seq-1_ocr.txt  Cronaca Sovversiva   \n",
       "...                                            ...                 ...   \n",
       "766       2012271201_1918-04-20_ed-1_seq-1_ocr.txt  Cronaca Sovversiva   \n",
       "767       2012271201_1918-06-06_ed-1_seq-1_ocr.txt  Cronaca Sovversiva   \n",
       "768       2012271201_1918-07-18_ed-1_seq-1_ocr.txt  Cronaca Sovversiva   \n",
       "769       2012271201_1919-03-20_ed-1_seq-1_ocr.txt  Cronaca Sovversiva   \n",
       "770       2012271201_1919-05-01_ed-1_seq-1_ocr.txt  Cronaca Sovversiva   \n",
       "\n",
       "           Topic 1   Topic 2   Topic 3   Topic 4   Topic 5   Topic 6  \n",
       "document                                                              \n",
       "0         0.176089  0.041301  0.398105  0.257326  0.027687  0.099492  \n",
       "1         0.000375  0.274867  0.579776  0.010779  0.000375  0.133829  \n",
       "2         0.150134  0.060628  0.292415  0.091584  0.304601  0.100637  \n",
       "3         0.055123  0.000292  0.056557  0.715716  0.000292  0.172020  \n",
       "4         0.020901  0.082106  0.009186  0.420806  0.001505  0.465496  \n",
       "...            ...       ...       ...       ...       ...       ...  \n",
       "766       0.113515  0.013215  0.658471  0.174967  0.000585  0.039247  \n",
       "767       0.586583  0.008119  0.078928  0.050203  0.172351  0.103817  \n",
       "768       0.564316  0.047220  0.286974  0.063797  0.004725  0.032969  \n",
       "769       0.531253  0.068512  0.060455  0.064128  0.072977  0.202675  \n",
       "770       0.087847  0.002895  0.611954  0.211090  0.004969  0.081244  \n",
       "\n",
       "[771 rows x 8 columns]"
      ]
     },
     "execution_count": 91,
     "metadata": {},
     "output_type": "execute_result"
    }
   ],
   "source": [
    "# add file names and publication name\n",
    "distribution_wfiles = distribution.copy()\n",
    "distribution_wfiles.insert(0, 'document_path', corpus_df['file_name'])\n",
    "distribution_wfiles.insert(1, 'publication_name', corpus_df['publication_name'])\n",
    "distribution_wfiles"
   ]
  },
  {
   "cell_type": "markdown",
   "metadata": {
    "id": "Q1EdarG6YJFp"
   },
   "source": [
    "## 3.2. Distribution per topic for the whole corpus"
   ]
  },
  {
   "cell_type": "code",
   "execution_count": 92,
   "metadata": {
    "id": "6iBxEA9V_hXp"
   },
   "outputs": [],
   "source": [
    "corpus_df['doc_length'] = corpus_df['doc_prep_nostop'].apply(lambda x: len(x))"
   ]
  },
  {
   "cell_type": "code",
   "execution_count": 93,
   "metadata": {
    "id": "UizB-FXbkyU5"
   },
   "outputs": [],
   "source": [
    "topic_frequency = distribution.mul(corpus_df['doc_length'], axis=0).sum()"
   ]
  },
  {
   "cell_type": "code",
   "execution_count": 94,
   "metadata": {
    "id": "ZNUXaqG7lxgv"
   },
   "outputs": [],
   "source": [
    "topic_proportion = (topic_frequency / topic_frequency.sum()*100).sort_values(ascending=False)"
   ]
  },
  {
   "cell_type": "code",
   "execution_count": 95,
   "metadata": {
    "id": "KBwF9mpuvtWF"
   },
   "outputs": [],
   "source": [
    "# dataframe with values to sort them by order of importance\n",
    "distribution_df = pd.DataFrame(topic_proportion, columns=['weight'])"
   ]
  },
  {
   "cell_type": "code",
   "execution_count": 96,
   "metadata": {
    "id": "jqRdWxvrx6d5"
   },
   "outputs": [],
   "source": [
    "distribution_df.index.name = \"topics\""
   ]
  },
  {
   "cell_type": "code",
   "execution_count": 97,
   "metadata": {
    "id": "UrWeSEyCl1hX"
   },
   "outputs": [],
   "source": [
    "distribution_df.to_csv(output_folder + '/topic_distribution.csv')"
   ]
  },
  {
   "cell_type": "markdown",
   "metadata": {
    "id": "7dPI18o-W2d3"
   },
   "source": [
    "### 3.3. Distribution per publication\n"
   ]
  },
  {
   "cell_type": "code",
   "execution_count": 98,
   "metadata": {
    "id": "mDhAa0hZXb0Q"
   },
   "outputs": [],
   "source": [
    "groupby2 = distribution_wfiles.copy()"
   ]
  },
  {
   "cell_type": "code",
   "execution_count": 99,
   "metadata": {
    "id": "JftHY_uAXcjz"
   },
   "outputs": [],
   "source": [
    "distribution_title = groupby2.groupby(['publication_name']).mean().reset_index()\n",
    "#distribution_title['publication'] = distribution_title['publication'].apply(lambda x: get_pub_name(x))"
   ]
  },
  {
   "cell_type": "code",
   "execution_count": 101,
   "metadata": {
    "id": "Nu_7fOxBpvN7"
   },
   "outputs": [],
   "source": [
    "distribution_title.to_csv(output_folder + '/distribution_per_publication.csv')"
   ]
  },
  {
   "cell_type": "markdown",
   "metadata": {
    "id": "-VxrV7VlMnC-"
   },
   "source": [
    "# Topics weight over time"
   ]
  },
  {
   "cell_type": "markdown",
   "metadata": {
    "id": "dRMKU0HeNHW-"
   },
   "source": [
    "## 4.1 Aggregate document weights"
   ]
  },
  {
   "cell_type": "code",
   "execution_count": null,
   "metadata": {
    "id": "Q6Jux73gNQT2"
   },
   "outputs": [],
   "source": [
    "# grouping data per month"
   ]
  },
  {
   "cell_type": "code",
   "execution_count": 102,
   "metadata": {
    "id": "0xlVn3ftNw_W"
   },
   "outputs": [],
   "source": [
    "distribution_wfiles['date'] = distribution_wfiles['document_path'].apply(lambda x: get_date(x))\n",
    "distribution_wfiles['year'] = distribution_wfiles['document_path'].apply(lambda x: get_year(x))\n",
    "distribution_wfiles['month'] = distribution_wfiles['document_path'].apply(lambda x: get_month(x))"
   ]
  },
  {
   "cell_type": "code",
   "execution_count": 103,
   "metadata": {
    "id": "PUK2_xP_Mc7N"
   },
   "outputs": [],
   "source": [
    "groupby = distribution_wfiles.copy()"
   ]
  },
  {
   "cell_type": "code",
   "execution_count": 104,
   "metadata": {
    "id": "LWdcFIJBMjgq"
   },
   "outputs": [],
   "source": [
    "# drop columns that won't be needed at this stage\n",
    "groupby = groupby.drop(['document_path', 'date'], axis=1)"
   ]
  },
  {
   "cell_type": "code",
   "execution_count": 105,
   "metadata": {
    "id": "3qebDNKXoV7L"
   },
   "outputs": [],
   "source": [
    "# group by year \n",
    "distribution_year = groupby.groupby(['year']).mean().reset_index()"
   ]
  },
  {
   "cell_type": "code",
   "execution_count": 106,
   "metadata": {
    "colab": {
     "base_uri": "https://localhost:8080/",
     "height": 576
    },
    "id": "u43koiEAQUew",
    "outputId": "4eed247d-461c-4c11-f5fa-8fefc4f5508c"
   },
   "outputs": [
    {
     "data": {
      "text/html": [
       "<div>\n",
       "<style scoped>\n",
       "    .dataframe tbody tr th:only-of-type {\n",
       "        vertical-align: middle;\n",
       "    }\n",
       "\n",
       "    .dataframe tbody tr th {\n",
       "        vertical-align: top;\n",
       "    }\n",
       "\n",
       "    .dataframe thead th {\n",
       "        text-align: right;\n",
       "    }\n",
       "</style>\n",
       "<table border=\"1\" class=\"dataframe\">\n",
       "  <thead>\n",
       "    <tr style=\"text-align: right;\">\n",
       "      <th></th>\n",
       "      <th>year</th>\n",
       "      <th>Topic 1</th>\n",
       "      <th>Topic 2</th>\n",
       "      <th>Topic 3</th>\n",
       "      <th>Topic 4</th>\n",
       "      <th>Topic 5</th>\n",
       "      <th>Topic 6</th>\n",
       "    </tr>\n",
       "  </thead>\n",
       "  <tbody>\n",
       "    <tr>\n",
       "      <th>0</th>\n",
       "      <td>1903</td>\n",
       "      <td>0.153074</td>\n",
       "      <td>0.095651</td>\n",
       "      <td>0.269898</td>\n",
       "      <td>0.163101</td>\n",
       "      <td>0.072754</td>\n",
       "      <td>0.245523</td>\n",
       "    </tr>\n",
       "    <tr>\n",
       "      <th>1</th>\n",
       "      <td>1904</td>\n",
       "      <td>0.170084</td>\n",
       "      <td>0.110531</td>\n",
       "      <td>0.299678</td>\n",
       "      <td>0.162599</td>\n",
       "      <td>0.086505</td>\n",
       "      <td>0.170604</td>\n",
       "    </tr>\n",
       "    <tr>\n",
       "      <th>2</th>\n",
       "      <td>1905</td>\n",
       "      <td>0.177552</td>\n",
       "      <td>0.096007</td>\n",
       "      <td>0.348418</td>\n",
       "      <td>0.118845</td>\n",
       "      <td>0.063774</td>\n",
       "      <td>0.195403</td>\n",
       "    </tr>\n",
       "    <tr>\n",
       "      <th>3</th>\n",
       "      <td>1906</td>\n",
       "      <td>0.114664</td>\n",
       "      <td>0.138756</td>\n",
       "      <td>0.302318</td>\n",
       "      <td>0.091972</td>\n",
       "      <td>0.067197</td>\n",
       "      <td>0.285093</td>\n",
       "    </tr>\n",
       "    <tr>\n",
       "      <th>4</th>\n",
       "      <td>1907</td>\n",
       "      <td>0.238096</td>\n",
       "      <td>0.091207</td>\n",
       "      <td>0.258298</td>\n",
       "      <td>0.098967</td>\n",
       "      <td>0.056151</td>\n",
       "      <td>0.257281</td>\n",
       "    </tr>\n",
       "    <tr>\n",
       "      <th>5</th>\n",
       "      <td>1908</td>\n",
       "      <td>0.226032</td>\n",
       "      <td>0.110558</td>\n",
       "      <td>0.277202</td>\n",
       "      <td>0.103002</td>\n",
       "      <td>0.059060</td>\n",
       "      <td>0.224146</td>\n",
       "    </tr>\n",
       "    <tr>\n",
       "      <th>6</th>\n",
       "      <td>1909</td>\n",
       "      <td>0.139784</td>\n",
       "      <td>0.083245</td>\n",
       "      <td>0.219822</td>\n",
       "      <td>0.225718</td>\n",
       "      <td>0.147174</td>\n",
       "      <td>0.184257</td>\n",
       "    </tr>\n",
       "    <tr>\n",
       "      <th>7</th>\n",
       "      <td>1910</td>\n",
       "      <td>0.125533</td>\n",
       "      <td>0.140624</td>\n",
       "      <td>0.278238</td>\n",
       "      <td>0.149218</td>\n",
       "      <td>0.118446</td>\n",
       "      <td>0.187942</td>\n",
       "    </tr>\n",
       "    <tr>\n",
       "      <th>8</th>\n",
       "      <td>1911</td>\n",
       "      <td>0.096200</td>\n",
       "      <td>0.149219</td>\n",
       "      <td>0.256739</td>\n",
       "      <td>0.185565</td>\n",
       "      <td>0.050960</td>\n",
       "      <td>0.261317</td>\n",
       "    </tr>\n",
       "    <tr>\n",
       "      <th>9</th>\n",
       "      <td>1912</td>\n",
       "      <td>0.205848</td>\n",
       "      <td>0.074879</td>\n",
       "      <td>0.332184</td>\n",
       "      <td>0.152758</td>\n",
       "      <td>0.062711</td>\n",
       "      <td>0.171621</td>\n",
       "    </tr>\n",
       "    <tr>\n",
       "      <th>10</th>\n",
       "      <td>1913</td>\n",
       "      <td>0.255892</td>\n",
       "      <td>0.103888</td>\n",
       "      <td>0.315818</td>\n",
       "      <td>0.085646</td>\n",
       "      <td>0.086146</td>\n",
       "      <td>0.152611</td>\n",
       "    </tr>\n",
       "    <tr>\n",
       "      <th>11</th>\n",
       "      <td>1914</td>\n",
       "      <td>0.162006</td>\n",
       "      <td>0.138951</td>\n",
       "      <td>0.298240</td>\n",
       "      <td>0.164287</td>\n",
       "      <td>0.064519</td>\n",
       "      <td>0.171997</td>\n",
       "    </tr>\n",
       "    <tr>\n",
       "      <th>12</th>\n",
       "      <td>1915</td>\n",
       "      <td>0.290283</td>\n",
       "      <td>0.119457</td>\n",
       "      <td>0.270453</td>\n",
       "      <td>0.142663</td>\n",
       "      <td>0.019151</td>\n",
       "      <td>0.157993</td>\n",
       "    </tr>\n",
       "    <tr>\n",
       "      <th>13</th>\n",
       "      <td>1916</td>\n",
       "      <td>0.276992</td>\n",
       "      <td>0.088827</td>\n",
       "      <td>0.237349</td>\n",
       "      <td>0.195460</td>\n",
       "      <td>0.034235</td>\n",
       "      <td>0.167138</td>\n",
       "    </tr>\n",
       "    <tr>\n",
       "      <th>14</th>\n",
       "      <td>1917</td>\n",
       "      <td>0.454326</td>\n",
       "      <td>0.058207</td>\n",
       "      <td>0.171911</td>\n",
       "      <td>0.134660</td>\n",
       "      <td>0.027167</td>\n",
       "      <td>0.153729</td>\n",
       "    </tr>\n",
       "    <tr>\n",
       "      <th>15</th>\n",
       "      <td>1918</td>\n",
       "      <td>0.456018</td>\n",
       "      <td>0.046082</td>\n",
       "      <td>0.217039</td>\n",
       "      <td>0.075793</td>\n",
       "      <td>0.027766</td>\n",
       "      <td>0.177302</td>\n",
       "    </tr>\n",
       "    <tr>\n",
       "      <th>16</th>\n",
       "      <td>1919</td>\n",
       "      <td>0.309550</td>\n",
       "      <td>0.035704</td>\n",
       "      <td>0.336205</td>\n",
       "      <td>0.137609</td>\n",
       "      <td>0.038973</td>\n",
       "      <td>0.141960</td>\n",
       "    </tr>\n",
       "  </tbody>\n",
       "</table>\n",
       "</div>"
      ],
      "text/plain": [
       "    year   Topic 1   Topic 2   Topic 3   Topic 4   Topic 5   Topic 6\n",
       "0   1903  0.153074  0.095651  0.269898  0.163101  0.072754  0.245523\n",
       "1   1904  0.170084  0.110531  0.299678  0.162599  0.086505  0.170604\n",
       "2   1905  0.177552  0.096007  0.348418  0.118845  0.063774  0.195403\n",
       "3   1906  0.114664  0.138756  0.302318  0.091972  0.067197  0.285093\n",
       "4   1907  0.238096  0.091207  0.258298  0.098967  0.056151  0.257281\n",
       "5   1908  0.226032  0.110558  0.277202  0.103002  0.059060  0.224146\n",
       "6   1909  0.139784  0.083245  0.219822  0.225718  0.147174  0.184257\n",
       "7   1910  0.125533  0.140624  0.278238  0.149218  0.118446  0.187942\n",
       "8   1911  0.096200  0.149219  0.256739  0.185565  0.050960  0.261317\n",
       "9   1912  0.205848  0.074879  0.332184  0.152758  0.062711  0.171621\n",
       "10  1913  0.255892  0.103888  0.315818  0.085646  0.086146  0.152611\n",
       "11  1914  0.162006  0.138951  0.298240  0.164287  0.064519  0.171997\n",
       "12  1915  0.290283  0.119457  0.270453  0.142663  0.019151  0.157993\n",
       "13  1916  0.276992  0.088827  0.237349  0.195460  0.034235  0.167138\n",
       "14  1917  0.454326  0.058207  0.171911  0.134660  0.027167  0.153729\n",
       "15  1918  0.456018  0.046082  0.217039  0.075793  0.027766  0.177302\n",
       "16  1919  0.309550  0.035704  0.336205  0.137609  0.038973  0.141960"
      ]
     },
     "execution_count": 106,
     "metadata": {},
     "output_type": "execute_result"
    }
   ],
   "source": [
    "distribution_year"
   ]
  },
  {
   "cell_type": "code",
   "execution_count": 107,
   "metadata": {
    "id": "5ijj8OjUmZAA"
   },
   "outputs": [],
   "source": [
    "distribution_year.to_csv(output_folder + '/distribution_per_year.csv')"
   ]
  },
  {
   "cell_type": "markdown",
   "metadata": {
    "id": "0XhpufpX1JOS"
   },
   "source": [
    "\n",
    "## 4.2 Yearly average of normalized weight per topic"
   ]
  },
  {
   "cell_type": "markdown",
   "metadata": {
    "id": "c68uP1Lu2DAZ"
   },
   "source": [
    "### 4.2.1. Line chart view "
   ]
  },
  {
   "cell_type": "markdown",
   "metadata": {
    "id": "uZCFg2W-2Stt"
   },
   "source": [
    "### 4.2.2. Bar chart view"
   ]
  },
  {
   "cell_type": "markdown",
   "metadata": {
    "id": "VojQr8Ia6sdC"
   },
   "source": [
    "### 4.2.3. Topic weights per title over time\n",
    "\n"
   ]
  },
  {
   "cell_type": "code",
   "execution_count": 108,
   "metadata": {
    "id": "onZ-TBwIFeW2"
   },
   "outputs": [],
   "source": [
    "groupby3 = distribution_wfiles.copy()"
   ]
  },
  {
   "cell_type": "code",
   "execution_count": 109,
   "metadata": {
    "id": "UO2v6FMlGJDO"
   },
   "outputs": [],
   "source": [
    "distribution_title_time = groupby3.groupby(['year','publication_name']).mean().reset_index()"
   ]
  },
  {
   "cell_type": "code",
   "execution_count": 110,
   "metadata": {
    "colab": {
     "base_uri": "https://localhost:8080/",
     "height": 576
    },
    "id": "XugC8oQlJ4ez",
    "outputId": "f15abd43-8008-43c0-880d-fd30ff005dd3"
   },
   "outputs": [
    {
     "data": {
      "text/html": [
       "<div>\n",
       "<style scoped>\n",
       "    .dataframe tbody tr th:only-of-type {\n",
       "        vertical-align: middle;\n",
       "    }\n",
       "\n",
       "    .dataframe tbody tr th {\n",
       "        vertical-align: top;\n",
       "    }\n",
       "\n",
       "    .dataframe thead th {\n",
       "        text-align: right;\n",
       "    }\n",
       "</style>\n",
       "<table border=\"1\" class=\"dataframe\">\n",
       "  <thead>\n",
       "    <tr style=\"text-align: right;\">\n",
       "      <th></th>\n",
       "      <th>year</th>\n",
       "      <th>publication_name</th>\n",
       "      <th>Topic 1</th>\n",
       "      <th>Topic 2</th>\n",
       "      <th>Topic 3</th>\n",
       "      <th>Topic 4</th>\n",
       "      <th>Topic 5</th>\n",
       "      <th>Topic 6</th>\n",
       "    </tr>\n",
       "  </thead>\n",
       "  <tbody>\n",
       "    <tr>\n",
       "      <th>0</th>\n",
       "      <td>1903</td>\n",
       "      <td>Cronaca Sovversiva</td>\n",
       "      <td>0.153074</td>\n",
       "      <td>0.095651</td>\n",
       "      <td>0.269898</td>\n",
       "      <td>0.163101</td>\n",
       "      <td>0.072754</td>\n",
       "      <td>0.245523</td>\n",
       "    </tr>\n",
       "    <tr>\n",
       "      <th>1</th>\n",
       "      <td>1904</td>\n",
       "      <td>Cronaca Sovversiva</td>\n",
       "      <td>0.170084</td>\n",
       "      <td>0.110531</td>\n",
       "      <td>0.299678</td>\n",
       "      <td>0.162599</td>\n",
       "      <td>0.086505</td>\n",
       "      <td>0.170604</td>\n",
       "    </tr>\n",
       "    <tr>\n",
       "      <th>2</th>\n",
       "      <td>1905</td>\n",
       "      <td>Cronaca Sovversiva</td>\n",
       "      <td>0.177552</td>\n",
       "      <td>0.096007</td>\n",
       "      <td>0.348418</td>\n",
       "      <td>0.118845</td>\n",
       "      <td>0.063774</td>\n",
       "      <td>0.195403</td>\n",
       "    </tr>\n",
       "    <tr>\n",
       "      <th>3</th>\n",
       "      <td>1906</td>\n",
       "      <td>Cronaca Sovversiva</td>\n",
       "      <td>0.114664</td>\n",
       "      <td>0.138756</td>\n",
       "      <td>0.302318</td>\n",
       "      <td>0.091972</td>\n",
       "      <td>0.067197</td>\n",
       "      <td>0.285093</td>\n",
       "    </tr>\n",
       "    <tr>\n",
       "      <th>4</th>\n",
       "      <td>1907</td>\n",
       "      <td>Cronaca Sovversiva</td>\n",
       "      <td>0.238096</td>\n",
       "      <td>0.091207</td>\n",
       "      <td>0.258298</td>\n",
       "      <td>0.098967</td>\n",
       "      <td>0.056151</td>\n",
       "      <td>0.257281</td>\n",
       "    </tr>\n",
       "    <tr>\n",
       "      <th>5</th>\n",
       "      <td>1908</td>\n",
       "      <td>Cronaca Sovversiva</td>\n",
       "      <td>0.226032</td>\n",
       "      <td>0.110558</td>\n",
       "      <td>0.277202</td>\n",
       "      <td>0.103002</td>\n",
       "      <td>0.059060</td>\n",
       "      <td>0.224146</td>\n",
       "    </tr>\n",
       "    <tr>\n",
       "      <th>6</th>\n",
       "      <td>1909</td>\n",
       "      <td>Cronaca Sovversiva</td>\n",
       "      <td>0.139784</td>\n",
       "      <td>0.083245</td>\n",
       "      <td>0.219822</td>\n",
       "      <td>0.225718</td>\n",
       "      <td>0.147174</td>\n",
       "      <td>0.184257</td>\n",
       "    </tr>\n",
       "    <tr>\n",
       "      <th>7</th>\n",
       "      <td>1910</td>\n",
       "      <td>Cronaca Sovversiva</td>\n",
       "      <td>0.125533</td>\n",
       "      <td>0.140624</td>\n",
       "      <td>0.278238</td>\n",
       "      <td>0.149218</td>\n",
       "      <td>0.118446</td>\n",
       "      <td>0.187942</td>\n",
       "    </tr>\n",
       "    <tr>\n",
       "      <th>8</th>\n",
       "      <td>1911</td>\n",
       "      <td>Cronaca Sovversiva</td>\n",
       "      <td>0.096200</td>\n",
       "      <td>0.149219</td>\n",
       "      <td>0.256739</td>\n",
       "      <td>0.185565</td>\n",
       "      <td>0.050960</td>\n",
       "      <td>0.261317</td>\n",
       "    </tr>\n",
       "    <tr>\n",
       "      <th>9</th>\n",
       "      <td>1912</td>\n",
       "      <td>Cronaca Sovversiva</td>\n",
       "      <td>0.205848</td>\n",
       "      <td>0.074879</td>\n",
       "      <td>0.332184</td>\n",
       "      <td>0.152758</td>\n",
       "      <td>0.062711</td>\n",
       "      <td>0.171621</td>\n",
       "    </tr>\n",
       "    <tr>\n",
       "      <th>10</th>\n",
       "      <td>1913</td>\n",
       "      <td>Cronaca Sovversiva</td>\n",
       "      <td>0.255892</td>\n",
       "      <td>0.103888</td>\n",
       "      <td>0.315818</td>\n",
       "      <td>0.085646</td>\n",
       "      <td>0.086146</td>\n",
       "      <td>0.152611</td>\n",
       "    </tr>\n",
       "    <tr>\n",
       "      <th>11</th>\n",
       "      <td>1914</td>\n",
       "      <td>Cronaca Sovversiva</td>\n",
       "      <td>0.162006</td>\n",
       "      <td>0.138951</td>\n",
       "      <td>0.298240</td>\n",
       "      <td>0.164287</td>\n",
       "      <td>0.064519</td>\n",
       "      <td>0.171997</td>\n",
       "    </tr>\n",
       "    <tr>\n",
       "      <th>12</th>\n",
       "      <td>1915</td>\n",
       "      <td>Cronaca Sovversiva</td>\n",
       "      <td>0.290283</td>\n",
       "      <td>0.119457</td>\n",
       "      <td>0.270453</td>\n",
       "      <td>0.142663</td>\n",
       "      <td>0.019151</td>\n",
       "      <td>0.157993</td>\n",
       "    </tr>\n",
       "    <tr>\n",
       "      <th>13</th>\n",
       "      <td>1916</td>\n",
       "      <td>Cronaca Sovversiva</td>\n",
       "      <td>0.276992</td>\n",
       "      <td>0.088827</td>\n",
       "      <td>0.237349</td>\n",
       "      <td>0.195460</td>\n",
       "      <td>0.034235</td>\n",
       "      <td>0.167138</td>\n",
       "    </tr>\n",
       "    <tr>\n",
       "      <th>14</th>\n",
       "      <td>1917</td>\n",
       "      <td>Cronaca Sovversiva</td>\n",
       "      <td>0.454326</td>\n",
       "      <td>0.058207</td>\n",
       "      <td>0.171911</td>\n",
       "      <td>0.134660</td>\n",
       "      <td>0.027167</td>\n",
       "      <td>0.153729</td>\n",
       "    </tr>\n",
       "    <tr>\n",
       "      <th>15</th>\n",
       "      <td>1918</td>\n",
       "      <td>Cronaca Sovversiva</td>\n",
       "      <td>0.456018</td>\n",
       "      <td>0.046082</td>\n",
       "      <td>0.217039</td>\n",
       "      <td>0.075793</td>\n",
       "      <td>0.027766</td>\n",
       "      <td>0.177302</td>\n",
       "    </tr>\n",
       "    <tr>\n",
       "      <th>16</th>\n",
       "      <td>1919</td>\n",
       "      <td>Cronaca Sovversiva</td>\n",
       "      <td>0.309550</td>\n",
       "      <td>0.035704</td>\n",
       "      <td>0.336205</td>\n",
       "      <td>0.137609</td>\n",
       "      <td>0.038973</td>\n",
       "      <td>0.141960</td>\n",
       "    </tr>\n",
       "  </tbody>\n",
       "</table>\n",
       "</div>"
      ],
      "text/plain": [
       "    year    publication_name   Topic 1   Topic 2   Topic 3   Topic 4  \\\n",
       "0   1903  Cronaca Sovversiva  0.153074  0.095651  0.269898  0.163101   \n",
       "1   1904  Cronaca Sovversiva  0.170084  0.110531  0.299678  0.162599   \n",
       "2   1905  Cronaca Sovversiva  0.177552  0.096007  0.348418  0.118845   \n",
       "3   1906  Cronaca Sovversiva  0.114664  0.138756  0.302318  0.091972   \n",
       "4   1907  Cronaca Sovversiva  0.238096  0.091207  0.258298  0.098967   \n",
       "5   1908  Cronaca Sovversiva  0.226032  0.110558  0.277202  0.103002   \n",
       "6   1909  Cronaca Sovversiva  0.139784  0.083245  0.219822  0.225718   \n",
       "7   1910  Cronaca Sovversiva  0.125533  0.140624  0.278238  0.149218   \n",
       "8   1911  Cronaca Sovversiva  0.096200  0.149219  0.256739  0.185565   \n",
       "9   1912  Cronaca Sovversiva  0.205848  0.074879  0.332184  0.152758   \n",
       "10  1913  Cronaca Sovversiva  0.255892  0.103888  0.315818  0.085646   \n",
       "11  1914  Cronaca Sovversiva  0.162006  0.138951  0.298240  0.164287   \n",
       "12  1915  Cronaca Sovversiva  0.290283  0.119457  0.270453  0.142663   \n",
       "13  1916  Cronaca Sovversiva  0.276992  0.088827  0.237349  0.195460   \n",
       "14  1917  Cronaca Sovversiva  0.454326  0.058207  0.171911  0.134660   \n",
       "15  1918  Cronaca Sovversiva  0.456018  0.046082  0.217039  0.075793   \n",
       "16  1919  Cronaca Sovversiva  0.309550  0.035704  0.336205  0.137609   \n",
       "\n",
       "     Topic 5   Topic 6  \n",
       "0   0.072754  0.245523  \n",
       "1   0.086505  0.170604  \n",
       "2   0.063774  0.195403  \n",
       "3   0.067197  0.285093  \n",
       "4   0.056151  0.257281  \n",
       "5   0.059060  0.224146  \n",
       "6   0.147174  0.184257  \n",
       "7   0.118446  0.187942  \n",
       "8   0.050960  0.261317  \n",
       "9   0.062711  0.171621  \n",
       "10  0.086146  0.152611  \n",
       "11  0.064519  0.171997  \n",
       "12  0.019151  0.157993  \n",
       "13  0.034235  0.167138  \n",
       "14  0.027167  0.153729  \n",
       "15  0.027766  0.177302  \n",
       "16  0.038973  0.141960  "
      ]
     },
     "execution_count": 110,
     "metadata": {},
     "output_type": "execute_result"
    }
   ],
   "source": [
    "distribution_title_time"
   ]
  },
  {
   "cell_type": "code",
   "execution_count": 111,
   "metadata": {
    "id": "mdh_uL9tmtF2"
   },
   "outputs": [],
   "source": [
    "distribution_title_time.to_csv(output_folder + 'distribution_per_publication_over_time.csv')"
   ]
  },
  {
   "cell_type": "markdown",
   "metadata": {
    "id": "uy7ibTKE30B9"
   },
   "source": [
    "### 4.2.4. Rolling average"
   ]
  },
  {
   "cell_type": "markdown",
   "metadata": {
    "id": "TTuqvbcx59IC"
   },
   "source": [
    "#### 4.2.4.1. Rolling average by topic"
   ]
  },
  {
   "cell_type": "code",
   "execution_count": 112,
   "metadata": {
    "id": "ZPqBURQ-69SB"
   },
   "outputs": [],
   "source": [
    "rolling_mean = distribution_year.rolling(2).mean()"
   ]
  },
  {
   "cell_type": "code",
   "execution_count": 113,
   "metadata": {
    "id": "5Zu213Q35eRY"
   },
   "outputs": [],
   "source": [
    "rolling_mean = rolling_mean[1:].copy()"
   ]
  },
  {
   "cell_type": "code",
   "execution_count": 114,
   "metadata": {
    "id": "YSqD7Gw67pnZ"
   },
   "outputs": [],
   "source": [
    "def formatRolling(year):\n",
    "  year1 = round(year - .5)\n",
    "  year2 = round(year + .5)\n",
    "  return \"{}/{}\".format(year1,year2)"
   ]
  },
  {
   "cell_type": "code",
   "execution_count": 115,
   "metadata": {
    "id": "x3l5zyUD5t6f"
   },
   "outputs": [],
   "source": [
    "rolling_mean['year'] = rolling_mean['year'].apply(lambda x: formatRolling(x))"
   ]
  },
  {
   "cell_type": "code",
   "execution_count": 116,
   "metadata": {
    "colab": {
     "base_uri": "https://localhost:8080/",
     "height": 545
    },
    "id": "pPuYPLsU5TfJ",
    "outputId": "5505fd1b-b3db-4b8f-ebe9-1fe8a66866c7"
   },
   "outputs": [
    {
     "data": {
      "text/html": [
       "<div>\n",
       "<style scoped>\n",
       "    .dataframe tbody tr th:only-of-type {\n",
       "        vertical-align: middle;\n",
       "    }\n",
       "\n",
       "    .dataframe tbody tr th {\n",
       "        vertical-align: top;\n",
       "    }\n",
       "\n",
       "    .dataframe thead th {\n",
       "        text-align: right;\n",
       "    }\n",
       "</style>\n",
       "<table border=\"1\" class=\"dataframe\">\n",
       "  <thead>\n",
       "    <tr style=\"text-align: right;\">\n",
       "      <th></th>\n",
       "      <th>year</th>\n",
       "      <th>Topic 1</th>\n",
       "      <th>Topic 2</th>\n",
       "      <th>Topic 3</th>\n",
       "      <th>Topic 4</th>\n",
       "      <th>Topic 5</th>\n",
       "      <th>Topic 6</th>\n",
       "    </tr>\n",
       "  </thead>\n",
       "  <tbody>\n",
       "    <tr>\n",
       "      <th>1</th>\n",
       "      <td>1903/1904</td>\n",
       "      <td>0.161579</td>\n",
       "      <td>0.103091</td>\n",
       "      <td>0.284788</td>\n",
       "      <td>0.162850</td>\n",
       "      <td>0.079629</td>\n",
       "      <td>0.208063</td>\n",
       "    </tr>\n",
       "    <tr>\n",
       "      <th>2</th>\n",
       "      <td>1904/1905</td>\n",
       "      <td>0.173818</td>\n",
       "      <td>0.103269</td>\n",
       "      <td>0.324048</td>\n",
       "      <td>0.140722</td>\n",
       "      <td>0.075140</td>\n",
       "      <td>0.183003</td>\n",
       "    </tr>\n",
       "    <tr>\n",
       "      <th>3</th>\n",
       "      <td>1905/1906</td>\n",
       "      <td>0.146108</td>\n",
       "      <td>0.117382</td>\n",
       "      <td>0.325368</td>\n",
       "      <td>0.105408</td>\n",
       "      <td>0.065486</td>\n",
       "      <td>0.240248</td>\n",
       "    </tr>\n",
       "    <tr>\n",
       "      <th>4</th>\n",
       "      <td>1906/1907</td>\n",
       "      <td>0.176380</td>\n",
       "      <td>0.114982</td>\n",
       "      <td>0.280308</td>\n",
       "      <td>0.095469</td>\n",
       "      <td>0.061674</td>\n",
       "      <td>0.271187</td>\n",
       "    </tr>\n",
       "    <tr>\n",
       "      <th>5</th>\n",
       "      <td>1907/1908</td>\n",
       "      <td>0.232064</td>\n",
       "      <td>0.100883</td>\n",
       "      <td>0.267750</td>\n",
       "      <td>0.100984</td>\n",
       "      <td>0.057606</td>\n",
       "      <td>0.240713</td>\n",
       "    </tr>\n",
       "    <tr>\n",
       "      <th>6</th>\n",
       "      <td>1908/1909</td>\n",
       "      <td>0.182908</td>\n",
       "      <td>0.096902</td>\n",
       "      <td>0.248512</td>\n",
       "      <td>0.164360</td>\n",
       "      <td>0.103117</td>\n",
       "      <td>0.204202</td>\n",
       "    </tr>\n",
       "    <tr>\n",
       "      <th>7</th>\n",
       "      <td>1909/1910</td>\n",
       "      <td>0.132658</td>\n",
       "      <td>0.111935</td>\n",
       "      <td>0.249030</td>\n",
       "      <td>0.187468</td>\n",
       "      <td>0.132810</td>\n",
       "      <td>0.186099</td>\n",
       "    </tr>\n",
       "    <tr>\n",
       "      <th>8</th>\n",
       "      <td>1910/1911</td>\n",
       "      <td>0.110867</td>\n",
       "      <td>0.144921</td>\n",
       "      <td>0.267489</td>\n",
       "      <td>0.167391</td>\n",
       "      <td>0.084703</td>\n",
       "      <td>0.224629</td>\n",
       "    </tr>\n",
       "    <tr>\n",
       "      <th>9</th>\n",
       "      <td>1911/1912</td>\n",
       "      <td>0.151024</td>\n",
       "      <td>0.112049</td>\n",
       "      <td>0.294461</td>\n",
       "      <td>0.169161</td>\n",
       "      <td>0.056835</td>\n",
       "      <td>0.216469</td>\n",
       "    </tr>\n",
       "    <tr>\n",
       "      <th>10</th>\n",
       "      <td>1912/1913</td>\n",
       "      <td>0.230870</td>\n",
       "      <td>0.089384</td>\n",
       "      <td>0.324001</td>\n",
       "      <td>0.119202</td>\n",
       "      <td>0.074429</td>\n",
       "      <td>0.162116</td>\n",
       "    </tr>\n",
       "    <tr>\n",
       "      <th>11</th>\n",
       "      <td>1913/1914</td>\n",
       "      <td>0.208949</td>\n",
       "      <td>0.121420</td>\n",
       "      <td>0.307029</td>\n",
       "      <td>0.124966</td>\n",
       "      <td>0.075333</td>\n",
       "      <td>0.162304</td>\n",
       "    </tr>\n",
       "    <tr>\n",
       "      <th>12</th>\n",
       "      <td>1914/1915</td>\n",
       "      <td>0.226144</td>\n",
       "      <td>0.129204</td>\n",
       "      <td>0.284346</td>\n",
       "      <td>0.153475</td>\n",
       "      <td>0.041835</td>\n",
       "      <td>0.164995</td>\n",
       "    </tr>\n",
       "    <tr>\n",
       "      <th>13</th>\n",
       "      <td>1915/1916</td>\n",
       "      <td>0.283637</td>\n",
       "      <td>0.104142</td>\n",
       "      <td>0.253901</td>\n",
       "      <td>0.169062</td>\n",
       "      <td>0.026693</td>\n",
       "      <td>0.162566</td>\n",
       "    </tr>\n",
       "    <tr>\n",
       "      <th>14</th>\n",
       "      <td>1916/1917</td>\n",
       "      <td>0.365659</td>\n",
       "      <td>0.073517</td>\n",
       "      <td>0.204630</td>\n",
       "      <td>0.165060</td>\n",
       "      <td>0.030701</td>\n",
       "      <td>0.160434</td>\n",
       "    </tr>\n",
       "    <tr>\n",
       "      <th>15</th>\n",
       "      <td>1917/1918</td>\n",
       "      <td>0.455172</td>\n",
       "      <td>0.052144</td>\n",
       "      <td>0.194475</td>\n",
       "      <td>0.105227</td>\n",
       "      <td>0.027467</td>\n",
       "      <td>0.165516</td>\n",
       "    </tr>\n",
       "    <tr>\n",
       "      <th>16</th>\n",
       "      <td>1918/1919</td>\n",
       "      <td>0.382784</td>\n",
       "      <td>0.040893</td>\n",
       "      <td>0.276622</td>\n",
       "      <td>0.106701</td>\n",
       "      <td>0.033370</td>\n",
       "      <td>0.159631</td>\n",
       "    </tr>\n",
       "  </tbody>\n",
       "</table>\n",
       "</div>"
      ],
      "text/plain": [
       "         year   Topic 1   Topic 2   Topic 3   Topic 4   Topic 5   Topic 6\n",
       "1   1903/1904  0.161579  0.103091  0.284788  0.162850  0.079629  0.208063\n",
       "2   1904/1905  0.173818  0.103269  0.324048  0.140722  0.075140  0.183003\n",
       "3   1905/1906  0.146108  0.117382  0.325368  0.105408  0.065486  0.240248\n",
       "4   1906/1907  0.176380  0.114982  0.280308  0.095469  0.061674  0.271187\n",
       "5   1907/1908  0.232064  0.100883  0.267750  0.100984  0.057606  0.240713\n",
       "6   1908/1909  0.182908  0.096902  0.248512  0.164360  0.103117  0.204202\n",
       "7   1909/1910  0.132658  0.111935  0.249030  0.187468  0.132810  0.186099\n",
       "8   1910/1911  0.110867  0.144921  0.267489  0.167391  0.084703  0.224629\n",
       "9   1911/1912  0.151024  0.112049  0.294461  0.169161  0.056835  0.216469\n",
       "10  1912/1913  0.230870  0.089384  0.324001  0.119202  0.074429  0.162116\n",
       "11  1913/1914  0.208949  0.121420  0.307029  0.124966  0.075333  0.162304\n",
       "12  1914/1915  0.226144  0.129204  0.284346  0.153475  0.041835  0.164995\n",
       "13  1915/1916  0.283637  0.104142  0.253901  0.169062  0.026693  0.162566\n",
       "14  1916/1917  0.365659  0.073517  0.204630  0.165060  0.030701  0.160434\n",
       "15  1917/1918  0.455172  0.052144  0.194475  0.105227  0.027467  0.165516\n",
       "16  1918/1919  0.382784  0.040893  0.276622  0.106701  0.033370  0.159631"
      ]
     },
     "execution_count": 116,
     "metadata": {},
     "output_type": "execute_result"
    }
   ],
   "source": [
    "rolling_mean"
   ]
  },
  {
   "cell_type": "code",
   "execution_count": 117,
   "metadata": {
    "id": "ELD2aSGR8oCg"
   },
   "outputs": [],
   "source": [
    "rolling_mean.to_csv(output_folder + '/rolling_mean.csv')"
   ]
  },
  {
   "cell_type": "markdown",
   "metadata": {
    "id": "f6DTrtmic5iM"
   },
   "source": [
    "#### 4.2.4.1. Rolling average by publication"
   ]
  },
  {
   "cell_type": "code",
   "execution_count": null,
   "metadata": {
    "id": "58YWJ7kXg5lS"
   },
   "outputs": [],
   "source": [
    "# Filtering the distribution over time by publication\n",
    "# in the cell below replace 'Cronaca Sovversiva' by the publication to display\n",
    "# and for the output file, each time the filter is applied on a publication, change the output file name"
   ]
  },
  {
   "cell_type": "code",
   "execution_count": 118,
   "metadata": {
    "id": "tzjR8dHz59IF"
   },
   "outputs": [],
   "source": [
    "distribution_publication_time = distribution_title_time[distribution_title_time['publication_name'] == 'Cronaca Sovversiva']"
   ]
  },
  {
   "cell_type": "code",
   "execution_count": 119,
   "metadata": {
    "id": "31H3N1rQfkb4"
   },
   "outputs": [],
   "source": [
    "rolling_mean_publication = distribution_publication_time.rolling(2).mean()"
   ]
  },
  {
   "cell_type": "code",
   "execution_count": 120,
   "metadata": {
    "id": "fNHE0m_YgvTF"
   },
   "outputs": [],
   "source": [
    "rolling_mean_publication.to_csv(output_folder + 'rolling_mean_cronaca_sovversiva.csv')"
   ]
  },
  {
   "cell_type": "code",
   "execution_count": null,
   "metadata": {
    "vscode": {
     "languageId": "markdown"
    }
   },
   "outputs": [],
   "source": []
  }
 ],
 "metadata": {
  "colab": {
   "collapsed_sections": [],
   "name": "topic_modelling_gensim_colab.ipynb",
   "provenance": [],
   "toc_visible": true
  },
  "kernelspec": {
   "display_name": "Python 3",
   "language": "python",
   "name": "python3"
  },
  "language_info": {
   "codemirror_mode": {
    "name": "ipython",
    "version": 3
   },
   "file_extension": ".py",
   "mimetype": "text/x-python",
   "name": "python",
   "nbconvert_exporter": "python",
   "pygments_lexer": "ipython3",
   "version": "3.8.5"
  }
 },
 "nbformat": 4,
 "nbformat_minor": 1
}

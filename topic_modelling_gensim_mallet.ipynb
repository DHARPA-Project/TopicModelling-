{
  "nbformat": 4,
  "nbformat_minor": 0,
  "metadata": {
    "colab": {
      "name": "topic_modelling_gensim_mallet.ipynb",
      "provenance": [],
      "collapsed_sections": [],
      "toc_visible": true
    },
    "kernelspec": {
      "name": "python3",
      "display_name": "Python 3"
    }
  },
  "cells": [
    {
      "cell_type": "code",
      "metadata": {
        "id": "7FwlEnNvQJNG",
        "colab_type": "code",
        "colab": {}
      },
      "source": [
        "import json\n",
        "import requests\n",
        "import urllib"
      ],
      "execution_count": 0,
      "outputs": []
    },
    {
      "cell_type": "markdown",
      "metadata": {
        "id": "6AZPes5RSYG2",
        "colab_type": "text"
      },
      "source": [
        "# 0. Preliminary step to get sample data\n",
        "\n"
      ]
    },
    {
      "cell_type": "markdown",
      "metadata": {
        "id": "WaRiBwgFTg2p",
        "colab_type": "text"
      },
      "source": [
        "This preliminary step is reproducing Lorella's workflow Python file:\n",
        "https://i-lab.public.data.uu.nl/vault-ocex/ChroniclItaly%20-%20Italian%20American%20newspapers%20corpus%20from%201898%20to%201920%5B1529330521%5D/original/\n",
        "I just added a folder \"data_1\" to keep all files in one folder"
      ]
    },
    {
      "cell_type": "code",
      "metadata": {
        "id": "VK81EVJim0Jc",
        "colab_type": "code",
        "colab": {}
      },
      "source": [
        "mkdir 'data1'"
      ],
      "execution_count": 0,
      "outputs": []
    },
    {
      "cell_type": "code",
      "metadata": {
        "id": "9O_c4pYzXsP_",
        "colab_type": "code",
        "colab": {}
      },
      "source": [
        "# Base URL\n",
        "chronam = 'https://chroniclingamerica.loc.gov/'\n",
        "\n",
        "# Chronicling America search results\n",
        "results = 'https://chroniclingamerica.loc.gov/search/pages/results/?date1=1880&date2=1920&searchType=advanced&language=ita&sequence=1&lccn=2012271201&lccn=sn85066408&lccn=sn85055164&lccn=sn85054967&lccn=sn88064299&lccn=sn84037024&lccn=sn84037025&lccn=sn86092310&proxdistance=5&state=California&state=District+of+Columbia&state=Massachusetts&state=Pennsylvania&state=Piedmont&state=Vermont&state=West+Virginia&rows=100&ortext=&proxtext=&phrasetext=&andtext=&dateFilterType=yearRange&page=11&sort=date'\n",
        "\n",
        "# Count to keep track of downloaded files\n",
        "count = 0\n",
        "\n",
        "# Gets search results in JSON format\n",
        "results_json = results + '&format=json'\n"
      ],
      "execution_count": 0,
      "outputs": []
    },
    {
      "cell_type": "code",
      "metadata": {
        "id": "DQwqRYbydrq4",
        "colab_type": "code",
        "colab": {}
      },
      "source": [
        "# Returns JSON \n",
        "def get_json(url):\n",
        "    data = requests.get(url)\n",
        "    return(json.loads(data.content))\n",
        "    \n",
        "data = get_json(results_json)"
      ],
      "execution_count": 0,
      "outputs": []
    },
    {
      "cell_type": "code",
      "metadata": {
        "id": "Xjv32dwDndnw",
        "colab_type": "code",
        "colab": {}
      },
      "source": [
        "# Cycle through JSON results\n",
        "for page in data['items']:\n",
        "    # Create URL\n",
        "    hit = str(page['id'])\n",
        "    seed = hit + 'ocr.txt'\n",
        "    download_url = chronam + seed\n",
        " \n",
        "    # Create file name\n",
        "    file_name = download_url.replace('/', '_')\n",
        "    file_name = 'data1/' + file_name[41:]\n",
        "    \n",
        "    # Download .txt of the page\n",
        "    urllib.request.urlretrieve(download_url, str(file_name))\n",
        "    count += 1"
      ],
      "execution_count": 0,
      "outputs": []
    },
    {
      "cell_type": "markdown",
      "metadata": {
        "id": "AUvuIpuzT8ke",
        "colab_type": "text"
      },
      "source": [
        "# 1. Data preparation"
      ]
    },
    {
      "cell_type": "markdown",
      "metadata": {
        "id": "MTOrDXSYUIc3",
        "colab_type": "text"
      },
      "source": [
        "## 1.1. Grouping all texts files\n",
        "A dataframe is first created to keep individual files at their initial state, and the name of each file"
      ]
    },
    {
      "cell_type": "code",
      "metadata": {
        "id": "u857KfY9WXN_",
        "colab_type": "code",
        "colab": {}
      },
      "source": [
        "import os\n",
        "import pandas as pd"
      ],
      "execution_count": 0,
      "outputs": []
    },
    {
      "cell_type": "code",
      "metadata": {
        "id": "h5FNWdVJT1v8",
        "colab_type": "code",
        "colab": {}
      },
      "source": [
        "#list of the file names\n",
        "files_list = os.listdir('data1')"
      ],
      "execution_count": 0,
      "outputs": []
    },
    {
      "cell_type": "code",
      "metadata": {
        "id": "8lLD0OpiXv5Y",
        "colab_type": "code",
        "colab": {}
      },
      "source": [
        "#insert file names into a df\n",
        "sources = pd.DataFrame(files_list, columns=['file_name'])"
      ],
      "execution_count": 0,
      "outputs": []
    },
    {
      "cell_type": "code",
      "metadata": {
        "id": "0PgOwPnqCfAe",
        "colab_type": "code",
        "colab": {}
      },
      "source": [
        "#function to read the content of the text files\n",
        "def readTxtContent(fileName):\n",
        "  with open('data1/' + fileName, 'r') as file:\n",
        "    return ' ' + file.read().replace('\\n', ' ') + ' '"
      ],
      "execution_count": 0,
      "outputs": []
    },
    {
      "cell_type": "code",
      "metadata": {
        "id": "MZEVIKHziQv2",
        "colab_type": "code",
        "colab": {}
      },
      "source": [
        "# adding a column to the dataframe containing file content\n",
        "sources['file_content'] = sources['file_name'].apply(lambda x: readTxtContent(x))"
      ],
      "execution_count": 0,
      "outputs": []
    },
    {
      "cell_type": "code",
      "metadata": {
        "id": "4ffdAsOXQSBe",
        "colab_type": "code",
        "outputId": "c3fa21d2-28c1-4964-f0cc-8cef2efc99a9",
        "colab": {
          "base_uri": "https://localhost:8080/",
          "height": 34
        }
      },
      "source": [
        "# for verification purposes later, count the nr of characters for each content\n",
        "sources['file_len'] = sources['file_content'].apply(lambda x: len(x))\n",
        "sources['file_len'].sum()"
      ],
      "execution_count": 11,
      "outputs": [
        {
          "output_type": "execute_result",
          "data": {
            "text/plain": [
              "1779770"
            ]
          },
          "metadata": {
            "tags": []
          },
          "execution_count": 11
        }
      ]
    },
    {
      "cell_type": "code",
      "metadata": {
        "id": "QYRvEvHbK32i",
        "colab_type": "code",
        "colab": {}
      },
      "source": [
        "# variable containing the documents separately\n",
        "corpus = sources['file_content']"
      ],
      "execution_count": 0,
      "outputs": []
    },
    {
      "cell_type": "code",
      "metadata": {
        "id": "wwTwsGsED8uU",
        "colab_type": "code",
        "colab": {}
      },
      "source": [
        "# variable containing all documents together\n",
        "all_texts = ''\n",
        "for i in range(len(sources)):\n",
        "  all_texts += sources['file_content'][i]"
      ],
      "execution_count": 0,
      "outputs": []
    },
    {
      "cell_type": "code",
      "metadata": {
        "id": "vBu87u_SSM-9",
        "colab_type": "code",
        "outputId": "330733db-2c64-410d-c922-3b0cbb3d21c8",
        "colab": {
          "base_uri": "https://localhost:8080/",
          "height": 34
        }
      },
      "source": [
        "# check length\n",
        "len(all_texts)"
      ],
      "execution_count": 14,
      "outputs": [
        {
          "output_type": "execute_result",
          "data": {
            "text/plain": [
              "1779770"
            ]
          },
          "metadata": {
            "tags": []
          },
          "execution_count": 14
        }
      ]
    },
    {
      "cell_type": "markdown",
      "metadata": {
        "id": "ybCetXHi9m-y",
        "colab_type": "text"
      },
      "source": [
        "## 1.2 Removing stop words, punctuation, short words"
      ]
    },
    {
      "cell_type": "code",
      "metadata": {
        "id": "6e-8sf7RayKz",
        "colab_type": "code",
        "colab": {}
      },
      "source": [
        "%%capture\n",
        "import nltk\n",
        "nltk.download('punkt')\n",
        "nltk.download('stopwords')\n",
        "from nltk.corpus import stopwords\n",
        "from nltk.tokenize import word_tokenize"
      ],
      "execution_count": 0,
      "outputs": []
    },
    {
      "cell_type": "code",
      "metadata": {
        "id": "a1MbU3_seOtJ",
        "colab_type": "code",
        "colab": {}
      },
      "source": [
        "# add tokenized documents in dataframe\n",
        "sources['tokens'] = sources['file_content'].apply(lambda x: nltk.word_tokenize(x))"
      ],
      "execution_count": 0,
      "outputs": []
    },
    {
      "cell_type": "code",
      "metadata": {
        "id": "vh3ikvdKfQ60",
        "colab_type": "code",
        "colab": {}
      },
      "source": [
        "# add new column in df with processed tokens\n",
        "sources['tokens_prep'] = sources['tokens'].apply(lambda x: [w.lower() for w in x if (w.isalnum() and len(w) > 3 )])"
      ],
      "execution_count": 0,
      "outputs": []
    },
    {
      "cell_type": "code",
      "metadata": {
        "id": "3IrR5gbba5ho",
        "colab_type": "code",
        "colab": {}
      },
      "source": [
        "# these lines are useful if we want to provide alternate stop words lists (NLTK)\n",
        "# show list of default NLTK Italian stopwords\n",
        "# stopwords.words('italian')\n",
        "# ital_stopwords = stopwords.words('italian')\n",
        "# to append list of words added by user: ital_stopwords.extend(user_input)\n",
        "# to remove words: ital_stopwords.remove(user_input)"
      ],
      "execution_count": 0,
      "outputs": []
    },
    {
      "cell_type": "code",
      "metadata": {
        "id": "8Qw4i2O_CTdQ",
        "colab_type": "code",
        "colab": {}
      },
      "source": [
        "# spacy list of Stop words (seems to be more complete than NLTK)\n",
        "import spacy\n",
        "from spacy.lang.it.stop_words import STOP_WORDS"
      ],
      "execution_count": 0,
      "outputs": []
    },
    {
      "cell_type": "code",
      "metadata": {
        "id": "5SBUnxlpCxEa",
        "colab_type": "code",
        "colab": {}
      },
      "source": [
        "spacy_it_sw = STOP_WORDS"
      ],
      "execution_count": 0,
      "outputs": []
    },
    {
      "cell_type": "code",
      "metadata": {
        "id": "jDvREaSSiM1v",
        "colab_type": "code",
        "colab": {}
      },
      "source": [
        "# add column with tokenized documents without sw\n",
        "sources['tokens_prep_nostop'] = sources['tokens_prep'].apply(lambda x: [w for w in x if not w in spacy_it_sw])"
      ],
      "execution_count": 0,
      "outputs": []
    },
    {
      "cell_type": "markdown",
      "metadata": {
        "id": "hKs7aXWLbVWo",
        "colab_type": "text"
      },
      "source": [
        "## 1.3 Stem"
      ]
    },
    {
      "cell_type": "code",
      "metadata": {
        "id": "uyl0C-xkbLiB",
        "colab_type": "code",
        "colab": {}
      },
      "source": [
        "from nltk.stem.snowball import SnowballStemmer"
      ],
      "execution_count": 0,
      "outputs": []
    },
    {
      "cell_type": "code",
      "metadata": {
        "id": "euUXP7UHbaN-",
        "colab_type": "code",
        "colab": {}
      },
      "source": [
        "#initialize with needed language\n",
        "stemmer = SnowballStemmer(\"italian\")"
      ],
      "execution_count": 0,
      "outputs": []
    },
    {
      "cell_type": "code",
      "metadata": {
        "id": "CljkLrRmjaot",
        "colab_type": "code",
        "colab": {}
      },
      "source": [
        "# add column with stemmed tokens\n",
        "sources['tokens_stemmed'] = sources['tokens_prep_nostop'].apply(lambda x: [stemmer.stem(w) for w in x])"
      ],
      "execution_count": 0,
      "outputs": []
    },
    {
      "cell_type": "markdown",
      "metadata": {
        "id": "YHKQAqemcgYz",
        "colab_type": "text"
      },
      "source": [
        "## 1.4 Lemmatize"
      ]
    },
    {
      "cell_type": "code",
      "metadata": {
        "id": "Ob8M804chYgh",
        "colab_type": "code",
        "colab": {}
      },
      "source": [
        "# Lemmatization is available in multiple languages in Spacy and not in NLTK (only English)\n",
        "# With Spacy, lemmatization is available for 10 languages. There's also a multi-language option that\n",
        "# should be tested if additional languages are needed"
      ],
      "execution_count": 0,
      "outputs": []
    },
    {
      "cell_type": "code",
      "metadata": {
        "id": "2QAPblFUwf3F",
        "colab_type": "code",
        "colab": {}
      },
      "source": [
        "%%capture\n",
        "!python -m spacy download it_core_news_sm"
      ],
      "execution_count": 0,
      "outputs": []
    },
    {
      "cell_type": "code",
      "metadata": {
        "id": "8al8riPXA98n",
        "colab_type": "code",
        "colab": {}
      },
      "source": [
        "import it_core_news_sm\n",
        "it_nlp = it_core_news_sm.load(disable=['tagger', 'parser', 'ner'])"
      ],
      "execution_count": 0,
      "outputs": []
    },
    {
      "cell_type": "code",
      "metadata": {
        "id": "YZHdI_8tmv3y",
        "colab_type": "code",
        "colab": {}
      },
      "source": [
        "# lemmatization function\n",
        "def lemmatize(doc):\n",
        "  lemmatized_doc = []\n",
        "  for w in doc:\n",
        "    w_lemma = [token.lemma_ for token in it_nlp(w)]\n",
        "    lemmatized_doc.append(w_lemma[0])\n",
        "  return lemmatized_doc"
      ],
      "execution_count": 0,
      "outputs": []
    },
    {
      "cell_type": "code",
      "metadata": {
        "id": "k-mYWKgSk9CW",
        "colab_type": "code",
        "colab": {}
      },
      "source": [
        "# add column with lemmatized tokens\n",
        "sources['tokens_lemmatized'] = sources['tokens_prep_nostop'].apply(lambda x: lemmatize(x))"
      ],
      "execution_count": 0,
      "outputs": []
    },
    {
      "cell_type": "code",
      "metadata": {
        "id": "tvl0MO_FH5yH",
        "colab_type": "code",
        "colab": {}
      },
      "source": [
        "# variable with lemmatized tokens\n",
        "lemmatized_corpus = sources['tokens_lemmatized']"
      ],
      "execution_count": 0,
      "outputs": []
    },
    {
      "cell_type": "markdown",
      "metadata": {
        "id": "o8TRLnFPK6p4",
        "colab_type": "text"
      },
      "source": [
        "# 2. Topics with LDA"
      ]
    },
    {
      "cell_type": "code",
      "metadata": {
        "id": "N0NrktL1el7E",
        "colab_type": "code",
        "colab": {}
      },
      "source": [
        "%%capture\n",
        "# installation setup that works for Mallet: https://github.com/polsci/colab-gensim-mallet/blob/master/topic-modeling-with-colab-gensim-mallet.ipynb\n",
        "def install_java():\n",
        "  !apt-get install -y openjdk-8-jdk-headless -qq > /dev/null      #install openjdk\n",
        "  os.environ[\"JAVA_HOME\"] = \"/usr/lib/jvm/java-8-openjdk-amd64\"     #set environment variable\n",
        "  !java -version       #check java version\n",
        "install_java()"
      ],
      "execution_count": 0,
      "outputs": []
    },
    {
      "cell_type": "code",
      "metadata": {
        "id": "IH7oPbxGe46O",
        "colab_type": "code",
        "colab": {}
      },
      "source": [
        "%%capture\n",
        "!wget http://mallet.cs.umass.edu/dist/mallet-2.0.8.zip\n",
        "!unzip mallet-2.0.8.zip"
      ],
      "execution_count": 0,
      "outputs": []
    },
    {
      "cell_type": "code",
      "metadata": {
        "id": "XD1MaCjRfKOs",
        "colab_type": "code",
        "colab": {}
      },
      "source": [
        "os.environ['MALLET_HOME'] = '/content/mallet-2.0.8'\n",
        "mallet_path = '/content/mallet-2.0.8/bin/mallet'"
      ],
      "execution_count": 0,
      "outputs": []
    },
    {
      "cell_type": "code",
      "metadata": {
        "id": "Fr1F0QNdOxy3",
        "colab_type": "code",
        "colab": {}
      },
      "source": [
        "#Gensim installation\n",
        "import gensim\n",
        "from gensim.test.utils import common_corpus, common_dictionary\n",
        "from gensim import corpora, models\n",
        "from gensim.models.wrappers import LdaMallet"
      ],
      "execution_count": 0,
      "outputs": []
    },
    {
      "cell_type": "markdown",
      "metadata": {
        "id": "530LX-OLRDcP",
        "colab_type": "text"
      },
      "source": [
        "## 2.1 Preliminary steps to run LDA\n",
        "\n"
      ]
    },
    {
      "cell_type": "markdown",
      "metadata": {
        "id": "GZlLjmvsQAMy",
        "colab_type": "text"
      },
      "source": [
        "### 2.1.1 Bag of words"
      ]
    },
    {
      "cell_type": "code",
      "metadata": {
        "id": "UzxS5Q3aQ7mh",
        "colab_type": "code",
        "colab": {}
      },
      "source": [
        "# dataset = [d.split() for d in lemmatized_corpus] (this is not useful if lemmatized version is used)\n",
        "# Create Dictionary\n",
        "# change \"lemmatized_corpus\" variable by stemmed_corpus or tokenized_corpus_without_sw depending\n",
        "# on which version you would like to work with \n",
        "id2word = corpora.Dictionary(lemmatized_corpus)\n",
        "corpus = [id2word.doc2bow(text) for text in lemmatized_corpus]"
      ],
      "execution_count": 0,
      "outputs": []
    },
    {
      "cell_type": "code",
      "metadata": {
        "id": "wvegwXHIWZN6",
        "colab_type": "code",
        "colab": {}
      },
      "source": [
        "# list of words and occurence per document\n",
        "words = []\n",
        "frequency = []\n",
        "\n",
        "for cp in corpus:\n",
        "  word_id = list(cp[0])[0]\n",
        "  words.append(id2word[list(cp[0])[0]])\n",
        "  frequency.append(list(cp[0])[1])"
      ],
      "execution_count": 0,
      "outputs": []
    },
    {
      "cell_type": "code",
      "metadata": {
        "id": "be9fXHn7Uqb6",
        "colab_type": "code",
        "colab": {}
      },
      "source": [
        "words_frequency = pd.DataFrame(list(zip(words, frequency)), columns=['word', 'frequency'])"
      ],
      "execution_count": 0,
      "outputs": []
    },
    {
      "cell_type": "code",
      "metadata": {
        "id": "m67ylcqwaQbd",
        "colab_type": "code",
        "outputId": "c21a2b80-a9ff-4060-c318-66fbc719a02e",
        "colab": {
          "base_uri": "https://localhost:8080/",
          "height": 359
        }
      },
      "source": [
        "# sort descending\n",
        "words_frequency.sort_values(by=['frequency'], ascending=False)[:10]"
      ],
      "execution_count": 34,
      "outputs": [
        {
          "output_type": "execute_result",
          "data": {
            "text/html": [
              "<div>\n",
              "<style scoped>\n",
              "    .dataframe tbody tr th:only-of-type {\n",
              "        vertical-align: middle;\n",
              "    }\n",
              "\n",
              "    .dataframe tbody tr th {\n",
              "        vertical-align: top;\n",
              "    }\n",
              "\n",
              "    .dataframe thead th {\n",
              "        text-align: right;\n",
              "    }\n",
              "</style>\n",
              "<table border=\"1\" class=\"dataframe\">\n",
              "  <thead>\n",
              "    <tr style=\"text-align: right;\">\n",
              "      <th></th>\n",
              "      <th>word</th>\n",
              "      <th>frequency</th>\n",
              "    </tr>\n",
              "  </thead>\n",
              "  <tbody>\n",
              "    <tr>\n",
              "      <th>95</th>\n",
              "      <td>aggiungere</td>\n",
              "      <td>6</td>\n",
              "    </tr>\n",
              "    <tr>\n",
              "      <th>4</th>\n",
              "      <td>anarchico</td>\n",
              "      <td>4</td>\n",
              "    </tr>\n",
              "    <tr>\n",
              "      <th>30</th>\n",
              "      <td>amico</td>\n",
              "      <td>4</td>\n",
              "    </tr>\n",
              "    <tr>\n",
              "      <th>99</th>\n",
              "      <td>aggiungere</td>\n",
              "      <td>3</td>\n",
              "    </tr>\n",
              "    <tr>\n",
              "      <th>15</th>\n",
              "      <td>agosto</td>\n",
              "      <td>3</td>\n",
              "    </tr>\n",
              "    <tr>\n",
              "      <th>73</th>\n",
              "      <td>anarchico</td>\n",
              "      <td>3</td>\n",
              "    </tr>\n",
              "    <tr>\n",
              "      <th>10</th>\n",
              "      <td>alia</td>\n",
              "      <td>3</td>\n",
              "    </tr>\n",
              "    <tr>\n",
              "      <th>44</th>\n",
              "      <td>alia</td>\n",
              "      <td>3</td>\n",
              "    </tr>\n",
              "    <tr>\n",
              "      <th>47</th>\n",
              "      <td>alia</td>\n",
              "      <td>3</td>\n",
              "    </tr>\n",
              "    <tr>\n",
              "      <th>28</th>\n",
              "      <td>abbassare</td>\n",
              "      <td>2</td>\n",
              "    </tr>\n",
              "  </tbody>\n",
              "</table>\n",
              "</div>"
            ],
            "text/plain": [
              "          word  frequency\n",
              "95  aggiungere          6\n",
              "4    anarchico          4\n",
              "30       amico          4\n",
              "99  aggiungere          3\n",
              "15      agosto          3\n",
              "73   anarchico          3\n",
              "10        alia          3\n",
              "44        alia          3\n",
              "47        alia          3\n",
              "28   abbassare          2"
            ]
          },
          "metadata": {
            "tags": []
          },
          "execution_count": 34
        }
      ]
    },
    {
      "cell_type": "markdown",
      "metadata": {
        "id": "qadtU7aTQMqg",
        "colab_type": "text"
      },
      "source": [
        "## 2.2 LDA"
      ]
    },
    {
      "cell_type": "code",
      "metadata": {
        "id": "eLzvb_yC9nyo",
        "colab_type": "code",
        "colab": {}
      },
      "source": [
        "# set the number of topics here\n",
        "numtopics = 6"
      ],
      "execution_count": 0,
      "outputs": []
    },
    {
      "cell_type": "markdown",
      "metadata": {
        "id": "9u-BK_TCCRV1",
        "colab_type": "text"
      },
      "source": [
        "### 2.2.1 LDA with Gensim"
      ]
    },
    {
      "cell_type": "code",
      "metadata": {
        "id": "7ODvMbxSCQh_",
        "colab_type": "code",
        "colab": {}
      },
      "source": [
        "ldagensim = models.LdaModel(corpus, id2word=id2word, num_topics=numtopics)"
      ],
      "execution_count": 0,
      "outputs": []
    },
    {
      "cell_type": "code",
      "metadata": {
        "id": "FLfpXjulCcS4",
        "colab_type": "code",
        "outputId": "7eca1a05-f5d8-4401-cfa7-6cd58f6b56fc",
        "colab": {
          "base_uri": "https://localhost:8080/",
          "height": 241
        }
      },
      "source": [
        "ldagensim.print_topics()"
      ],
      "execution_count": 37,
      "outputs": [
        {
          "output_type": "execute_result",
          "data": {
            "text/plain": [
              "[(0,\n",
              "  '0.009*\"italiano\" + 0.005*\"dispaccio\" + 0.004*\"italia\" + 0.004*\"potere\" + 0.003*\"roma\" + 0.003*\"telegrafico\" + 0.003*\"venire\" + 0.002*\"giornale\" + 0.002*\"daily\" + 0.002*\"dire\"'),\n",
              " (1,\n",
              "  '0.007*\"italiano\" + 0.004*\"dispaccio\" + 0.003*\"telegrafico\" + 0.003*\"roma\" + 0.003*\"italia\" + 0.003*\"potere\" + 0.003*\"daily\" + 0.002*\"giornale\" + 0.002*\"mentire\" + 0.002*\"nome\"'),\n",
              " (2,\n",
              "  '0.008*\"italiano\" + 0.004*\"dispaccio\" + 0.004*\"telegrafico\" + 0.003*\"italia\" + 0.003*\"roma\" + 0.003*\"daily\" + 0.003*\"venire\" + 0.002*\"giornale\" + 0.002*\"cardinale\" + 0.002*\"potere\"'),\n",
              " (3,\n",
              "  '0.006*\"italiano\" + 0.004*\"roma\" + 0.004*\"dispaccio\" + 0.003*\"italia\" + 0.003*\"venire\" + 0.003*\"telegrafico\" + 0.003*\"cardinale\" + 0.003*\"daily\" + 0.003*\"potere\" + 0.002*\"giornale\"'),\n",
              " (4,\n",
              "  '0.008*\"italiano\" + 0.005*\"italia\" + 0.003*\"roma\" + 0.003*\"dispaccio\" + 0.003*\"venire\" + 0.003*\"telegrafico\" + 0.003*\"giornale\" + 0.003*\"potere\" + 0.003*\"daily\" + 0.002*\"cardinale\"'),\n",
              " (5,\n",
              "  '0.008*\"italiano\" + 0.004*\"roma\" + 0.004*\"italia\" + 0.003*\"potere\" + 0.003*\"giornale\" + 0.003*\"venire\" + 0.002*\"cardinale\" + 0.002*\"telegrafico\" + 0.002*\"papa\" + 0.002*\"dispaccio\"')]"
            ]
          },
          "metadata": {
            "tags": []
          },
          "execution_count": 37
        }
      ]
    },
    {
      "cell_type": "markdown",
      "metadata": {
        "id": "yVmCrU7WVznK",
        "colab_type": "text"
      },
      "source": [
        "### 2.2.2 Visualize topics"
      ]
    },
    {
      "cell_type": "code",
      "metadata": {
        "id": "zhUc_LurVxSw",
        "colab_type": "code",
        "colab": {}
      },
      "source": [
        "# pyLDAvis installation\n",
        "%%capture\n",
        "! pip install pyldavis\n",
        "import pyLDAvis\n",
        "import pyLDAvis.gensim"
      ],
      "execution_count": 0,
      "outputs": []
    },
    {
      "cell_type": "code",
      "metadata": {
        "id": "WWHil2-YV_OD",
        "colab_type": "code",
        "colab": {}
      },
      "source": [
        "# insert the model and number of topics you want to visualise\n",
        "# here LDA Gensim with 6 topics\n",
        "%%capture\n",
        "numtopics = 6\n",
        "selected_model = models.LdaModel(corpus, id2word=id2word, num_topics=numtopics)\n",
        "pyLDAvis.enable_notebook()\n",
        "vis = pyLDAvis.gensim.prepare(selected_model, corpus, id2word)"
      ],
      "execution_count": 0,
      "outputs": []
    },
    {
      "cell_type": "code",
      "metadata": {
        "id": "Rm7zmoHqcDto",
        "colab_type": "code",
        "outputId": "65e97a5e-8c95-468e-e7a2-be3adb599f2e",
        "colab": {
          "base_uri": "https://localhost:8080/",
          "height": 881
        }
      },
      "source": [
        "vis"
      ],
      "execution_count": 40,
      "outputs": [
        {
          "output_type": "execute_result",
          "data": {
            "text/html": [
              "\n",
              "<link rel=\"stylesheet\" type=\"text/css\" href=\"https://cdn.rawgit.com/bmabey/pyLDAvis/files/ldavis.v1.0.0.css\">\n",
              "\n",
              "\n",
              "<div id=\"ldavis_el1221399448258159527297097026\"></div>\n",
              "<script type=\"text/javascript\">\n",
              "\n",
              "var ldavis_el1221399448258159527297097026_data = {\"mdsDat\": {\"x\": [-0.004697728248137031, -0.0019314889993208332, -0.0008797403759290753, 4.349352010906314e-05, 0.004222749666887317, 0.003242714436390566], \"y\": [0.0008778669963987786, 0.0007770489869146981, 0.0019457888124261092, -0.005218771467697939, 0.002363880044363454, -0.0007458133724051017], \"topics\": [1, 2, 3, 4, 5, 6], \"cluster\": [1, 1, 1, 1, 1, 1], \"Freq\": [40.318824768066406, 30.218828201293945, 11.978460311889648, 6.552163600921631, 6.319991588592529, 4.611742973327637]}, \"tinfo\": {\"Term\": [\"italiano\", \"dispaccio\", \"telegrafico\", \"roma\", \"italia\", \"daily\", \"potere\", \"giornale\", \"venire\", \"nuovo\", \"parigi\", \"gran\", \"dovere\", \"dire\", \"mentire\", \"york\", \"dare\", \"cardinale\", \"nome\", \"americano\", \"quotidiano\", \"numerare\", \"volere\", \"patrio\", \"trovare\", \"visitare\", \"states\", \"italian\", \"francese\", \"presidente\", \"immigrazio\", \"placidamente\", \"krupp\", \"strasburgo\", \"fucile\", \"provenienza\", \"volgendosi\", \"colter\", \"pastore\", \"mercantile\", \"zionali\", \"viverci\", \"separato\", \"rhode\", \"freno\", \"favoloso\", \"salariare\", \"superstizioso\", \"troppo\", \"piaz\", \"manovale\", \"immig\", \"tonili\", \"etri\", \"altissime\", \"miro\", \"wallace\", \"dimoile\", \"staio\", \"osaka\", \"totale\", \"rapidamente\", \"lavoratore\", \"apostolo\", \"xlll\", \"socialisto\", \"lavoro\", \"mattina\", \"rivoluzione\", \"costare\", \"chiaro\", \"operare\", \"metro\", \"defunto\", \"italia\", \"vivo\", \"colla\", \"esprimere\", \"mese\", \"uomini\", \"italiano\", \"papa\", \"porto\", \"venire\", \"sacro\", \"interesse\", \"telegramma\", \"pietro\", \"alto\", \"tenere\", \"grande\", \"dirigere\", \"mano\", \"york\", \"telegrafico\", \"ricevere\", \"parlare\", \"poco\", \"cardinale\", \"leone\", \"pontefice\", \"daily\", \"trovare\", \"dispaccio\", \"mentire\", \"roma\", \"gran\", \"solo\", \"maggio\", \"nome\", \"potere\", \"giornale\", \"dovere\", \"italian\", \"leggere\", \"volere\", \"dire\", \"nuovo\", \"quotidiano\", \"dare\", \"matematico\", \"raffermare\", \"contadino\", \"waterbury\", \"gioire\", \"epicureo\", \"benicia\", \"estrarre\", \"adelina\", \"1817\", \"side\", \"acquistala\", \"sima\", \"tolstoi\", \"saggezza\", \"suscitare\", \"armoiir\", \"barile\", \"lexington\", \"contrario\", \"cristia\", \"delitto\", \"mantenersi\", \"mosca\", \"cartellone\", \"vendetta\", \"saziet\\u00e0\", \"lokal\", \"dogmatico\", \"paolina\", \"condurre\", \"baciare\", \"ferrari\", \"mutare\", \"telegrafare\", \"proteggere\", \"continuo\", \"togliere\", \"conoscere\", \"potere\", \"avvenire\", \"condizione\", \"grave\", \"piroscafo\", \"ferrovia\", \"paese\", \"difficile\", \"americano\", \"noto\", \"dato\", \"presidente\", \"visitare\", \"dire\", \"notizia\", \"lottare\", \"ufficiale\", \"sapere\", \"roma\", \"dispaccio\", \"perch\\u00e8\", \"giornale\", \"cardinale\", \"russia\", \"chiesa\", \"italia\", \"italiano\", \"quotidiano\", \"numerare\", \"dare\", \"daily\", \"venire\", \"papa\", \"mentire\", \"gran\", \"telegrafico\", \"leggere\", \"altro\", \"volere\", \"nuovo\", \"popolare\", \"trovare\", \"dovere\", \"nome\", \"morto\", \"york\", \"available\", \"text\", \"uoma\", \"mlles\", \"inaudito\", \"autopsia\", \"mummia\", \"festosamente\", \"sidney\", \"crenosa\", \"guida\", \"aitoaiolleo\", \"zanardelii\", \"diagnosi\", \"tero\", \"damascare\", \"promissio\", \"petracco\", \"quldo\", \"incisio\", \"chiamandolo\", \"fugazy\", \"multos\", \"diapason\", \"hennessey\", \"vespertino\", \"tolo\", \"benemerenza\", \"moreno\", \"nondutt\", \"prinetti\", \"chiamare\", \"destro\", \"confliggere\", \"certamente\", \"impedire\", \"trionfare\", \"politico\", \"fleming\", \"patriottismo\", \"patrizio\", \"circulation\", \"cadavere\", \"nazione\", \"indigeno\", \"giornale\", \"roma\", \"azione\", \"rimanere\", \"specialmente\", \"cuore\", \"meritare\", \"dovere\", \"italiano\", \"dispaccio\", \"zione\", \"vaticano\", \"nero\", \"telegrafico\", \"ricevere\", \"americano\", \"cosa\", \"trovare\", \"maggio\", \"quotidiano\", \"venire\", \"parigi\", \"potere\", \"nome\", \"daily\", \"mattino\", \"volere\", \"dare\", \"pubblicare\", \"cardinale\", \"mentire\", \"vedere\", \"morto\", \"italia\", \"dire\", \"york\", \"leggere\", \"nuovo\", \"tenere\", \"patrio\", \"numerare\", \"papa\", \"foscolo\", \"praga\", \"poderoso\", \"strisele\", \"czai\", \"isacco\", \"renziale\", \"spazzlnl\", \"terrltory\", \"sb\\u00e0ttuti\", \"imprestatigli\", \"sepolcro\", \"port\", \"arabasciatoie\", \"amlct\", \"inerititi\", \"umidit\\u00e0\", \"nclabolato\", \"dlnpacclo\", \"nozze\", \"mischiare\", \"rimanr\", \"ciliegia\", \"trafiggere\", \"cinghia\", \"kerso\", \"distruzione\", \"stamani\", \"dtnvemo\", \"napoletano\", \"severino\", \"topcka\", \"gondola\", \"bambino\", \"herbert\", \"kansas\", \"colono\", \"corridoio\", \"giornata\", \"dare\", \"relazione\", \"continuare\", \"notte\", \"offrire\", \"frate\", \"alessandro\", \"czar\", \"states\", \"market\", \"importare\", \"vittorio\", \"marino\", \"italiano\", \"politico\", \"evans\", \"polizia\", \"cercare\", \"causare\", \"danno\", \"cittadino\", \"giornale\", \"gran\", \"numerare\", \"nuovo\", \"telegrafico\", \"molto\", \"daily\", \"vienna\", \"dispaccio\", \"regina\", \"potere\", \"operare\", \"cardinale\", \"nome\", \"mentire\", \"italia\", \"york\", \"roma\", \"visitare\", \"volere\", \"grande\", \"mettere\", \"papa\", \"venire\", \"notizia\", \"dire\", \"americano\", \"leggere\", \"dovere\", \"quotidiano\", \"patrio\", \"nardo\", \"campello\", \"sitamente\", \"mirabile\", \"armour\", \"rananp\", \"uadi\", \"peir\", \"darme\", \"accedere\", \"traglia\", \"dottale\", \"cuuidlu\", \"maritiraea\", \"alloggier\\u00e0\", \"vv\\u00eciu\", \"suppliziare\", \"lington\", \"stigmatizzare\", \"redeai\", \"bnniere\", \"ressante\", \"turimi\", \"polignac\", \"trascorrere\", \"trovargli\", \"vans\", \"sbaraz\", \"specializzare\", \"luxucltccll\", \"parigi\", \"strenna\", \"moreno\", \"zelanda\", \"interpellanza\", \"nuovo\", \"storia\", \"precursore\", \"saggiare\", \"francia\", \"1905\", \"namente\", \"repub\", \"plebe\", \"dovere\", \"polizia\", \"signore\", \"follare\", \"telegrafico\", \"popolo\", \"carcere\", \"sovrano\", \"potenza\", \"vittima\", \"york\", \"francese\", \"nome\", \"vero\", \"andare\", \"lato\", \"presidente\", \"turare\", \"ritornare\", \"sapere\", \"gran\", \"dispaccio\", \"telegramma\", \"quotidiano\", \"western\", \"roma\", \"italiano\", \"daily\", \"nazione\", \"dire\", \"potere\", \"prendere\", \"italia\", \"rimanere\", \"altro\", \"giornale\", \"cardinale\", \"volere\", \"venire\", \"mentire\", \"americano\", \"dare\", \"morto\", \"papa\", \"trovare\", \"aukhica\", \"carlos\", \"rivincita\", \"inconcludente\", \"carroz\", \"ravviluddarsi\", \"orcgons\", \"riformista\", \"proporsi\", \"tunismo\", \"rimodernare\", \"integrale\", \"ricostrui\", \"titano\", \"sofferenza\", \"klscineff\", \"mlnt\", \"lugent\", \"prose\", \"insolazione\", \"ritrovato\", \"serico\", \"pirosi\", \"inventarlo\", \"attentato\", \"seminarista\", \"voluzionarii\", \"tivlste\", \"durant\", \"involtare\", \"cipriani\", \"disposto\", \"gravare\", \"avanzato\", \"diga\", \"razza\", \"italo\", \"macedonia\", \"parigi\", \"aprile\", \"only\", \"contea\", \"mediare\", \"daily\", \"napoli\", \"zione\", \"militare\", \"concorrere\", \"ucciso\", \"dispaccio\", \"societ\\u00e0\", \"colare\", \"america\", \"telegrafico\", \"rimanere\", \"nuovo\", \"occupare\", \"mento\", \"roma\", \"luglio\", \"porto\", \"italian\", \"dire\", \"numerare\", \"guerra\", \"prendere\", \"ministero\", \"italia\", \"venire\", \"patrio\", \"americano\", \"pressare\", \"ebreo\", \"italiano\", \"gran\", \"potere\", \"visitare\", \"giornale\", \"mentire\", \"unito\", \"francese\", \"quotidiano\", \"notizia\", \"operare\", \"dovere\", \"york\", \"trovare\", \"morto\", \"leggere\", \"papa\", \"cardinale\", \"dare\"], \"Freq\": [1015.0, 454.0, 375.0, 435.0, 532.0, 316.0, 367.0, 313.0, 381.0, 194.0, 145.0, 199.0, 200.0, 219.0, 225.0, 199.0, 188.0, 297.0, 189.0, 188.0, 192.0, 165.0, 177.0, 156.0, 190.0, 152.0, 147.0, 155.0, 137.0, 154.0, 2.178393602371216, 2.0425760746002197, 2.74188494682312, 2.089150905609131, 4.3215556144714355, 1.60136079788208, 2.0343832969665527, 1.0377962589263916, 1.5463889837265015, 7.162179470062256, 3.0959486961364746, 1.0154305696487427, 4.99648380279541, 1.5855696201324463, 2.5728352069854736, 2.1134939193725586, 3.6914374828338623, 1.5056192874908447, 8.8955078125, 2.0417633056640625, 1.5450254678726196, 1.568345069885254, 0.9991474747657776, 0.9829263687133789, 1.0014342069625854, 10.941925048828125, 2.032951593399048, 0.9894984364509583, 3.081533670425415, 2.4977145195007324, 15.90672492980957, 7.544338703155518, 31.630054473876953, 3.963559150695801, 4.064949035644531, 37.825584411621094, 29.812753677368164, 14.615986824035645, 21.499000549316406, 79.81258392333984, 10.71231746673584, 81.1151123046875, 8.847311973571777, 20.274869918823242, 254.1636962890625, 72.87361907958984, 19.3118839263916, 24.042722702026367, 25.499101638793945, 41.323646545410156, 463.0278625488281, 120.20037078857422, 53.89915084838867, 178.50732421875, 26.77118682861328, 27.87079429626465, 36.55267333984375, 59.064231872558594, 38.72298049926758, 64.47754669189453, 71.89286804199219, 49.08415985107422, 67.98809814453125, 90.45257568359375, 158.95303344726562, 54.650726318359375, 59.666072845458984, 50.54718780517578, 125.47933197021484, 43.65461349487305, 52.193214416503906, 128.36245727539062, 81.95442199707031, 170.28125, 93.62708282470703, 159.62164306640625, 82.97740173339844, 56.183143615722656, 66.3429183959961, 78.04986572265625, 125.7924575805664, 109.44042205810547, 79.34526062011719, 66.1471939086914, 70.65372467041016, 70.48580932617188, 78.65666198730469, 70.87469482421875, 70.11749267578125, 68.23947143554688, 2.7407679557800293, 0.8521090149879456, 10.96286392211914, 1.191961407661438, 1.1205694675445557, 1.254040002822876, 1.9308313131332397, 3.1272623538970947, 1.558824896812439, 1.522363543510437, 0.7531241178512573, 1.0813502073287964, 2.0138349533081055, 10.43127155303955, 1.4871331453323364, 6.341834545135498, 0.7326786518096924, 2.848930597305298, 1.0925774574279785, 2.4779558181762695, 0.7789572477340698, 15.11980152130127, 1.128136157989502, 1.5810142755508423, 1.757451057434082, 4.489628791809082, 0.7093320488929749, 1.7814995050430298, 0.737611711025238, 1.5548101663589478, 26.393930435180664, 5.827568531036377, 3.698408842086792, 4.570193290710449, 20.20595359802246, 9.192862510681152, 23.746917724609375, 7.117393970489502, 19.691774368286133, 141.35012817382812, 59.3364372253418, 39.10786437988281, 40.213096618652344, 36.020816802978516, 15.297125816345215, 22.092350006103516, 8.974745750427246, 70.38819122314453, 36.46452331542969, 30.946565628051758, 57.63193130493164, 56.852142333984375, 79.63159942626953, 55.95512771606445, 47.86442947387695, 43.36128616333008, 40.15108108520508, 143.08782958984375, 147.71253967285156, 47.65274429321289, 104.53133392333984, 98.4273910522461, 37.836936950683594, 42.722015380859375, 158.89886474609375, 274.2601318359375, 64.84166717529297, 56.33068084716797, 61.618309020996094, 93.20813751220703, 106.47150421142578, 75.33757781982422, 69.39825439453125, 62.48830795288086, 97.30471801757812, 55.71306228637695, 50.48248291015625, 55.613739013671875, 57.94589614868164, 48.93346405029297, 56.07632827758789, 56.09778594970703, 52.41781997680664, 49.36859130859375, 50.458984375, 0.666184663772583, 0.6654403209686279, 0.8273846507072449, 1.4851348400115967, 1.0102733373641968, 0.7257077097892761, 0.3400668203830719, 0.4712812900543213, 0.48786070942878723, 0.32877638936042786, 0.8312384486198425, 0.3226305842399597, 0.28587833046913147, 0.8105468153953552, 0.9700176119804382, 0.48074960708618164, 0.3171650171279907, 0.32072120904922485, 0.2973947525024414, 0.30844730138778687, 0.3161531388759613, 0.9942484498023987, 0.30929625034332275, 0.30184224247932434, 0.3113759160041809, 0.3065742254257202, 0.7973639369010925, 0.4725189208984375, 0.5263327360153198, 0.3090822100639343, 1.296732783317566, 12.008843421936035, 3.0507519245147705, 3.722263813018799, 2.2263100147247314, 4.081496238708496, 4.412978649139404, 19.425294876098633, 1.161007046699524, 0.6468234658241272, 19.809410095214844, 10.934713363647461, 5.610326290130615, 12.603618621826172, 2.5490527153015137, 48.09706115722656, 65.19774627685547, 8.397730827331543, 16.965091705322266, 9.886295318603516, 7.138311386108398, 3.782195806503296, 29.168264389038086, 125.15396881103516, 59.72872543334961, 16.0791015625, 15.906126976013184, 4.50425910949707, 48.546974182128906, 17.127561569213867, 26.047800064086914, 11.906497955322266, 25.696762084960938, 21.328704833984375, 25.734596252441406, 45.228816986083984, 20.26494026184082, 43.03364944458008, 24.927255630493164, 37.789710998535156, 12.177956581115723, 23.154735565185547, 23.736867904663086, 16.655969619750977, 32.270511627197266, 26.233366012573242, 16.644229888916016, 20.04306411743164, 45.0709114074707, 25.000505447387695, 23.312257766723633, 20.711132049560547, 21.69584083557129, 17.778053283691406, 18.899803161621094, 18.988744735717773, 20.85384178161621, 0.3263663649559021, 0.21504198014736176, 0.20535238087177277, 0.5713624358177185, 0.29786771535873413, 0.290695458650589, 0.19747748970985413, 0.20623622834682465, 0.1980448067188263, 0.18639452755451202, 0.17980563640594482, 0.1885424256324768, 0.28802022337913513, 0.18531350791454315, 0.18844014406204224, 0.1964370310306549, 0.19863340258598328, 0.19982439279556274, 0.1974707543849945, 0.3758103549480438, 0.7182687520980835, 0.1855812966823578, 0.39105603098869324, 0.2834676504135132, 0.3189060389995575, 0.20088745653629303, 0.4068186581134796, 0.1963634043931961, 0.18126782774925232, 0.19862261414527893, 0.3016517162322998, 0.30441054701805115, 0.5633602142333984, 1.3616853952407837, 0.46248263120651245, 1.6155251264572144, 1.1756237745285034, 0.3778018057346344, 4.6031813621521, 17.143125534057617, 5.6283159255981445, 4.759130954742432, 4.8530683517456055, 4.970024108886719, 2.4080023765563965, 4.323912143707275, 4.543506622314453, 12.839460372924805, 5.098899841308594, 5.627983570098877, 5.8861083984375, 4.4716033935546875, 69.23809814453125, 9.55524730682373, 3.7612297534942627, 5.517403602600098, 3.655787944793701, 7.6099138259887695, 3.6977992057800293, 4.354742050170898, 22.34562110900879, 15.160204887390137, 12.863035202026367, 14.696075439453125, 25.054187774658203, 6.372087001800537, 20.22045135498047, 5.522479057312012, 26.288541793823242, 7.14174222946167, 21.946313858032227, 11.23186206817627, 17.810522079467773, 12.584277153015137, 14.261747360229492, 25.811567306518555, 12.789681434631348, 21.761024475097656, 10.300923347473145, 11.383543968200684, 10.118925094604492, 9.006523132324219, 13.396625518798828, 16.8543758392334, 9.702393531799316, 11.780749320983887, 10.780717849731445, 10.239359855651855, 10.894570350646973, 10.477185249328613, 9.559926986694336, 0.5216751098632812, 0.29222801327705383, 0.18567873537540436, 0.6804087162017822, 0.2796901762485504, 0.19089128077030182, 0.18458834290504456, 0.18890099227428436, 0.18227143585681915, 0.18132203817367554, 0.18141251802444458, 0.18027719855308533, 0.188308447599411, 0.18198324739933014, 0.17895027995109558, 0.17902223765850067, 0.28509533405303955, 0.18062542378902435, 0.1831628680229187, 0.18131649494171143, 0.18234601616859436, 0.18733465671539307, 0.1778910756111145, 0.1850978285074234, 0.17954318225383759, 0.18075287342071533, 0.17822667956352234, 0.17644575238227844, 0.18049590289592743, 0.1811712235212326, 17.543941497802734, 0.5153467655181885, 0.32260027527809143, 0.25286614894866943, 0.6364036202430725, 18.978561401367188, 4.794371128082275, 0.35137277841567993, 0.3432982265949249, 10.457001686096191, 0.6994930505752563, 0.43509742617607117, 0.7933422327041626, 0.5604860782623291, 17.28569793701172, 5.70663595199585, 5.933732986450195, 7.383298873901367, 28.050546646118164, 3.278160572052002, 1.2241817712783813, 5.1366496086120605, 5.807340621948242, 4.7083330154418945, 15.339648246765137, 11.011816024780273, 14.413875579833984, 9.084053993225098, 9.186323165893555, 1.365479826927185, 11.674813270568848, 3.240797519683838, 3.850984811782837, 8.479469299316406, 13.998409271240234, 27.849571228027344, 5.921379566192627, 13.240743637084961, 5.7300801277160645, 25.63356590270996, 49.92156982421875, 19.338823318481445, 5.853365421295166, 14.015837669372559, 20.46461296081543, 7.116636753082275, 26.507143020629883, 7.779472351074219, 10.173515319824219, 16.611934661865234, 15.707087516784668, 10.963607788085938, 17.800081253051758, 12.471004486083984, 11.162965774536133, 10.967706680297852, 9.701617240905762, 11.74738597869873, 10.240110397338867, 0.1346672922372818, 0.1307622641324997, 0.20170801877975464, 0.1960800588130951, 0.195062056183815, 0.13160409033298492, 0.12574979662895203, 0.20133811235427856, 0.20168471336364746, 0.13169975578784943, 0.2025901973247528, 0.1310749351978302, 0.1273159384727478, 0.13231784105300903, 0.1272914558649063, 0.258056104183197, 0.12392401695251465, 0.12482888251543045, 0.2517671585083008, 0.25882023572921753, 0.12823238968849182, 0.17829887568950653, 0.12211526930332184, 0.12221870571374893, 0.4333908259868622, 0.12802119553089142, 0.12844417989253998, 0.12410091608762741, 0.1200413778424263, 0.12421492487192154, 0.2408061921596527, 0.7991218566894531, 0.5011160969734192, 0.5361765027046204, 0.31484144926071167, 1.7251379489898682, 1.575175404548645, 1.2859586477279663, 9.400800704956055, 2.8262431621551514, 1.3547836542129517, 1.0940186977386475, 0.7840616106987, 17.542417526245117, 5.635581016540527, 6.2396955490112305, 4.353690147399902, 1.5159858465194702, 2.755650520324707, 22.372678756713867, 5.397385597229004, 2.2851908206939697, 6.217477798461914, 17.93328285217285, 5.922006607055664, 10.082140922546387, 2.1062698364257812, 2.832014322280884, 20.153501510620117, 5.379304885864258, 5.944526195526123, 8.11274528503418, 10.770675659179688, 8.458657264709473, 4.765531539916992, 5.161080360412598, 4.038965702056885, 22.045452117919922, 16.50627326965332, 7.774054050445557, 8.990959167480469, 4.721269130706787, 4.3043293952941895, 33.77333450317383, 9.231584548950195, 14.628203392028809, 7.387168884277344, 12.633169174194336, 9.490998268127441, 6.625261306762695, 6.586745738983154, 8.257323265075684, 6.741512775421143, 6.873532295227051, 7.56602144241333, 7.332280158996582, 7.171888828277588, 6.713906288146973, 6.801168441772461, 7.250472545623779, 7.458726406097412, 6.703486919403076], \"Total\": [1015.0, 454.0, 375.0, 435.0, 532.0, 316.0, 367.0, 313.0, 381.0, 194.0, 145.0, 199.0, 200.0, 219.0, 225.0, 199.0, 188.0, 297.0, 189.0, 188.0, 192.0, 165.0, 177.0, 156.0, 190.0, 152.0, 147.0, 155.0, 137.0, 154.0, 3.7239654064178467, 3.5183310508728027, 4.723918914794922, 3.607839345932007, 7.469854831695557, 2.7752323150634766, 3.5316994190216064, 1.806713342666626, 2.702486753463745, 12.571483612060547, 5.4389824867248535, 1.7853896617889404, 8.79780387878418, 2.796778440475464, 4.5539069175720215, 3.7422709465026855, 6.538541793823242, 2.6674091815948486, 15.760453224182129, 3.624702215194702, 2.7438926696777344, 2.7949836254119873, 1.783083438873291, 1.7543566226959229, 1.789562463760376, 19.59446907043457, 3.6462903022766113, 1.7791372537612915, 5.5418500900268555, 4.493546962738037, 28.89572525024414, 13.606306076049805, 57.919307708740234, 7.144590854644775, 7.345455646514893, 70.58839416503906, 55.492225646972656, 26.836463928222656, 40.120540618896484, 156.86036682128906, 19.825456619262695, 159.89614868164062, 16.31301498413086, 38.56772232055664, 532.4976196289062, 145.44833374023438, 36.702720642089844, 46.120121002197266, 49.14807891845703, 81.35956573486328, 1015.3749389648438, 248.78627014160156, 107.53333282470703, 381.3683776855469, 51.76944351196289, 54.12925338745117, 72.05451202392578, 119.48963165283203, 77.1487808227539, 133.19015502929688, 150.61334228515625, 99.97225952148438, 145.31170654296875, 199.6854248046875, 375.8427429199219, 115.52671813964844, 127.86685180664062, 106.5826187133789, 297.1535949707031, 90.63880157470703, 111.91439056396484, 316.4620056152344, 190.66976928710938, 454.2333068847656, 225.48245239257812, 435.455322265625, 199.8699951171875, 123.5920639038086, 153.02053833007812, 189.0716552734375, 367.2153625488281, 313.6595458984375, 200.3576202392578, 155.598388671875, 173.1117706298828, 177.8833465576172, 219.8560333251953, 194.27320861816406, 192.66900634765625, 188.4089813232422, 5.440615177154541, 1.7250444889068604, 23.45361328125, 2.558485746383667, 2.41028094291687, 2.7025625705718994, 4.166294097900391, 6.791985511779785, 3.3975024223327637, 3.323514461517334, 1.6511154174804688, 2.376722812652588, 4.426943302154541, 22.939348220825195, 3.2832229137420654, 14.094030380249023, 1.6316992044448853, 6.367737770080566, 2.44502592086792, 5.54814338684082, 1.7445565462112427, 33.90856170654297, 2.5325868129730225, 3.5496373176574707, 3.9526021480560303, 10.09795093536377, 1.5955686569213867, 4.01273250579834, 1.663094401359558, 3.5093605518341064, 60.91239929199219, 13.297979354858398, 8.43919563293457, 10.536538124084473, 48.39485549926758, 21.59326171875, 57.47146987915039, 16.703746795654297, 47.743499755859375, 367.2153625488281, 149.00892639160156, 98.98882293701172, 102.07771301269531, 92.1701889038086, 37.51102828979492, 55.24156951904297, 21.456398010253906, 188.54861450195312, 93.9106216430664, 79.01324462890625, 154.2107696533203, 152.49240112304688, 219.8560333251953, 153.50257873535156, 130.00428771972656, 118.07577514648438, 109.12400817871094, 435.455322265625, 454.2333068847656, 131.6204833984375, 313.6595458984375, 297.1535949707031, 103.10638427734375, 118.36772918701172, 532.4976196289062, 1015.3749389648438, 192.66900634765625, 165.94375610351562, 188.4089813232422, 316.4620056152344, 381.3683776855469, 248.78627014160156, 225.48245239257812, 199.8699951171875, 375.8427429199219, 173.1117706298828, 150.89480590820312, 177.8833465576172, 194.27320861816406, 147.05096435546875, 190.66976928710938, 200.3576202392578, 189.0716552734375, 157.61431884765625, 199.6854248046875, 1.310423493385315, 1.3102917671203613, 2.815767526626587, 5.951869964599609, 4.147040843963623, 2.99660325050354, 1.4510436058044434, 2.051178455352783, 2.1280744075775146, 1.4631619453430176, 3.736798048019409, 1.4570780992507935, 1.323588252067566, 3.7540814876556396, 4.492953300476074, 2.2301719188690186, 1.4760568141937256, 1.499324917793274, 1.39136803150177, 1.4440199136734009, 1.4825845956802368, 4.675826072692871, 1.4553782939910889, 1.4218329191207886, 1.4673607349395752, 1.4451147317886353, 3.7650954723358154, 2.2315802574157715, 2.487619400024414, 1.4624148607254028, 6.143538475036621, 59.21382141113281, 15.286758422851562, 18.932952880859375, 11.174293518066406, 21.152769088745117, 23.085010528564453, 111.84951782226562, 5.782174110412598, 3.1250505447387695, 115.5259780883789, 61.94637680053711, 30.70301628112793, 72.65657043457031, 13.295367240905762, 313.6595458984375, 435.455322265625, 48.34019470214844, 105.22110748291016, 58.231689453125, 41.54133224487305, 20.51178550720215, 200.3576202392578, 1015.3749389648438, 454.2333068847656, 104.57551574707031, 103.45173645019531, 25.21384620666504, 375.8427429199219, 115.52671813964844, 188.54861450195312, 76.96586608886719, 190.66976928710938, 153.02053833007812, 192.66900634765625, 381.3683776855469, 145.5811767578125, 367.2153625488281, 189.0716552734375, 316.4620056152344, 79.20252990722656, 177.8833465576172, 188.4089813232422, 119.562255859375, 297.1535949707031, 225.48245239257812, 120.15568542480469, 157.61431884765625, 532.4976196289062, 219.8560333251953, 199.6854248046875, 173.1117706298828, 194.27320861816406, 133.19015502929688, 156.87716674804688, 165.94375610351562, 248.78627014160156, 2.0224454402923584, 1.4104307889938354, 1.3590527772903442, 3.7946953773498535, 1.987430453300476, 2.002852201461792, 1.415581464767456, 1.485048770904541, 1.4309474229812622, 1.347625494003296, 1.3107202053070068, 1.3788326978683472, 2.1094324588775635, 1.3580377101898193, 1.3812108039855957, 1.441278100013733, 1.4619882106781006, 1.472852110862732, 1.4560824632644653, 2.7825827598571777, 5.337310314178467, 1.3828458786010742, 2.921063184738159, 2.1179490089416504, 2.387559175491333, 1.5055902004241943, 3.0510785579681396, 1.4726998805999756, 1.3606743812561035, 1.4919015169143677, 2.267948627471924, 2.2955236434936523, 4.287289619445801, 10.739274024963379, 3.552053213119507, 13.605100631713867, 9.716379165649414, 2.9008114337921143, 44.25946807861328, 188.4089813232422, 55.837398529052734, 46.7786750793457, 48.58120346069336, 49.87520217895508, 22.572439193725586, 43.635440826416016, 46.150753021240234, 147.33233642578125, 52.84563064575195, 59.69794464111328, 62.919673919677734, 46.36274337768555, 1015.3749389648438, 111.84951782226562, 38.834163665771484, 60.479576110839844, 37.688533782958984, 87.5453872680664, 38.284088134765625, 46.505062103271484, 313.6595458984375, 199.8699951171875, 165.94375610351562, 194.27320861816406, 375.8427429199219, 73.32941436767578, 316.4620056152344, 63.210208892822266, 454.2333068847656, 87.80851745605469, 367.2153625488281, 159.89614868164062, 297.1535949707031, 189.0716552734375, 225.48245239257812, 532.4976196289062, 199.6854248046875, 435.455322265625, 152.49240112304688, 177.8833465576172, 150.61334228515625, 130.01318359375, 248.78627014160156, 381.3683776855469, 153.50257873535156, 219.8560333251953, 188.54861450195312, 173.1117706298828, 200.3576202392578, 192.66900634765625, 156.87716674804688, 3.2690629959106445, 1.8981157541275024, 1.2786409854888916, 4.701218128204346, 1.954594612121582, 1.3564828634262085, 1.3189057111740112, 1.3542640209197998, 1.320899248123169, 1.3287482261657715, 1.3340576887130737, 1.3286428451538086, 1.3886165618896484, 1.3422236442565918, 1.3258750438690186, 1.3338595628738403, 2.12534761428833, 1.3468900918960571, 1.3675363063812256, 1.354248046875, 1.3675345182418823, 1.409694790840149, 1.339168906211853, 1.3937219381332397, 1.3525042533874512, 1.3651121854782104, 1.3475241661071777, 1.3393305540084839, 1.3706125020980835, 1.3762011528015137, 145.5811767578125, 4.008266925811768, 2.487619400024414, 1.93818199634552, 5.128481864929199, 194.27320861816406, 45.327613830566406, 2.7642061710357666, 2.697889804840088, 108.94617462158203, 5.840116024017334, 3.4916820526123047, 6.7313947677612305, 4.625957012176514, 200.3576202392578, 60.479576110839844, 64.20021057128906, 83.00116729736328, 375.8427429199219, 33.72597122192383, 11.161553382873535, 56.27248001098633, 65.10950469970703, 51.97428894042969, 199.6854248046875, 137.2105712890625, 189.0716552734375, 111.85838317871094, 113.3530502319336, 12.854931831359863, 154.2107696533203, 34.882240295410156, 42.81975555419922, 109.12400817871094, 199.8699951171875, 454.2333068847656, 72.05451202392578, 192.66900634765625, 70.73018646240234, 435.455322265625, 1015.3749389648438, 316.4620056152344, 72.65657043457031, 219.8560333251953, 367.2153625488281, 93.53511810302734, 532.4976196289062, 105.22110748291016, 150.89480590820312, 313.6595458984375, 297.1535949707031, 177.8833465576172, 381.3683776855469, 225.48245239257812, 188.54861450195312, 188.4089813232422, 157.61431884765625, 248.78627014160156, 190.66976928710938, 1.3858602046966553, 1.3687330484390259, 2.1444497108459473, 2.085705280303955, 2.087522268295288, 1.410611867904663, 1.3682955503463745, 2.2018697261810303, 2.213362455368042, 1.4456572532653809, 2.2433502674102783, 1.4529304504394531, 1.414245367050171, 1.4772474765777588, 1.4255163669586182, 2.9132795333862305, 1.4005793333053589, 1.4112578630447388, 2.849414825439453, 2.9436144828796387, 1.459413766860962, 2.030341148376465, 1.3920446634292603, 1.3950340747833252, 4.955522060394287, 1.4662482738494873, 1.471199870109558, 1.4218413829803467, 1.3764508962631226, 1.4248342514038086, 2.8068366050720215, 9.795504570007324, 6.038517951965332, 6.496284484863281, 3.751525640487671, 22.970443725585938, 21.091934204101562, 17.066417694091797, 145.5811767578125, 40.93413162231445, 18.55600357055664, 14.970212936401367, 10.39022159576416, 316.4620056152344, 92.15845489501953, 104.57551574707031, 70.2146224975586, 21.851764678955078, 42.899513244628906, 454.2333068847656, 92.27938079833984, 34.817195892333984, 110.05528259277344, 375.8427429199219, 105.22110748291016, 194.27320861816406, 32.13029098510742, 45.55964279174805, 435.455322265625, 95.47139739990234, 107.53333282470703, 155.598388671875, 219.8560333251953, 165.94375610351562, 84.68341827392578, 93.53511810302734, 69.89603424072266, 532.4976196289062, 381.3683776855469, 156.87716674804688, 188.54861450195312, 85.44393920898438, 76.51321411132812, 1015.3749389648438, 199.8699951171875, 367.2153625488281, 152.49240112304688, 313.6595458984375, 225.48245239257812, 138.1225128173828, 137.2105712890625, 192.66900634765625, 153.50257873535156, 159.89614868164062, 200.3576202392578, 199.6854248046875, 190.66976928710938, 157.61431884765625, 173.1117706298828, 248.78627014160156, 297.1535949707031, 188.4089813232422], \"Category\": [\"Default\", \"Default\", \"Default\", \"Default\", \"Default\", \"Default\", \"Default\", \"Default\", \"Default\", \"Default\", \"Default\", \"Default\", \"Default\", \"Default\", \"Default\", \"Default\", \"Default\", \"Default\", \"Default\", \"Default\", \"Default\", \"Default\", \"Default\", \"Default\", \"Default\", \"Default\", \"Default\", \"Default\", \"Default\", \"Default\", \"Topic1\", \"Topic1\", \"Topic1\", \"Topic1\", \"Topic1\", \"Topic1\", \"Topic1\", \"Topic1\", \"Topic1\", \"Topic1\", \"Topic1\", \"Topic1\", \"Topic1\", \"Topic1\", \"Topic1\", \"Topic1\", \"Topic1\", \"Topic1\", \"Topic1\", \"Topic1\", \"Topic1\", \"Topic1\", \"Topic1\", \"Topic1\", \"Topic1\", \"Topic1\", \"Topic1\", \"Topic1\", \"Topic1\", \"Topic1\", \"Topic1\", \"Topic1\", \"Topic1\", \"Topic1\", \"Topic1\", \"Topic1\", \"Topic1\", \"Topic1\", \"Topic1\", \"Topic1\", \"Topic1\", \"Topic1\", \"Topic1\", \"Topic1\", \"Topic1\", \"Topic1\", \"Topic1\", \"Topic1\", \"Topic1\", \"Topic1\", \"Topic1\", \"Topic1\", \"Topic1\", \"Topic1\", \"Topic1\", \"Topic1\", \"Topic1\", \"Topic1\", \"Topic1\", \"Topic1\", \"Topic1\", \"Topic1\", \"Topic1\", \"Topic1\", \"Topic1\", \"Topic1\", \"Topic1\", \"Topic1\", \"Topic1\", \"Topic1\", \"Topic1\", \"Topic1\", \"Topic1\", \"Topic1\", \"Topic1\", \"Topic1\", \"Topic1\", \"Topic1\", \"Topic1\", \"Topic1\", \"Topic1\", \"Topic1\", \"Topic1\", \"Topic1\", \"Topic1\", \"Topic1\", \"Topic1\", \"Topic1\", \"Topic1\", \"Topic1\", \"Topic2\", \"Topic2\", \"Topic2\", \"Topic2\", \"Topic2\", \"Topic2\", \"Topic2\", \"Topic2\", \"Topic2\", \"Topic2\", \"Topic2\", \"Topic2\", \"Topic2\", \"Topic2\", \"Topic2\", \"Topic2\", \"Topic2\", \"Topic2\", \"Topic2\", \"Topic2\", \"Topic2\", \"Topic2\", \"Topic2\", \"Topic2\", \"Topic2\", \"Topic2\", \"Topic2\", \"Topic2\", \"Topic2\", \"Topic2\", \"Topic2\", \"Topic2\", \"Topic2\", \"Topic2\", \"Topic2\", \"Topic2\", \"Topic2\", \"Topic2\", \"Topic2\", \"Topic2\", \"Topic2\", \"Topic2\", \"Topic2\", \"Topic2\", \"Topic2\", \"Topic2\", \"Topic2\", \"Topic2\", \"Topic2\", \"Topic2\", \"Topic2\", \"Topic2\", \"Topic2\", \"Topic2\", \"Topic2\", \"Topic2\", \"Topic2\", \"Topic2\", \"Topic2\", \"Topic2\", \"Topic2\", \"Topic2\", \"Topic2\", \"Topic2\", \"Topic2\", \"Topic2\", \"Topic2\", \"Topic2\", \"Topic2\", \"Topic2\", \"Topic2\", \"Topic2\", \"Topic2\", \"Topic2\", \"Topic2\", \"Topic2\", \"Topic2\", \"Topic2\", \"Topic2\", \"Topic2\", \"Topic2\", \"Topic2\", \"Topic2\", \"Topic2\", \"Topic2\", \"Topic3\", \"Topic3\", \"Topic3\", \"Topic3\", \"Topic3\", \"Topic3\", \"Topic3\", \"Topic3\", \"Topic3\", \"Topic3\", \"Topic3\", \"Topic3\", \"Topic3\", \"Topic3\", \"Topic3\", \"Topic3\", \"Topic3\", \"Topic3\", \"Topic3\", \"Topic3\", \"Topic3\", \"Topic3\", \"Topic3\", \"Topic3\", \"Topic3\", \"Topic3\", \"Topic3\", \"Topic3\", \"Topic3\", \"Topic3\", \"Topic3\", \"Topic3\", \"Topic3\", \"Topic3\", \"Topic3\", \"Topic3\", \"Topic3\", \"Topic3\", \"Topic3\", \"Topic3\", \"Topic3\", \"Topic3\", \"Topic3\", \"Topic3\", \"Topic3\", \"Topic3\", \"Topic3\", \"Topic3\", \"Topic3\", \"Topic3\", \"Topic3\", \"Topic3\", \"Topic3\", \"Topic3\", \"Topic3\", \"Topic3\", \"Topic3\", \"Topic3\", \"Topic3\", \"Topic3\", \"Topic3\", \"Topic3\", \"Topic3\", \"Topic3\", \"Topic3\", \"Topic3\", \"Topic3\", \"Topic3\", \"Topic3\", \"Topic3\", \"Topic3\", \"Topic3\", \"Topic3\", \"Topic3\", \"Topic3\", \"Topic3\", \"Topic3\", \"Topic3\", \"Topic3\", \"Topic3\", \"Topic3\", \"Topic3\", \"Topic3\", \"Topic3\", \"Topic3\", \"Topic3\", \"Topic3\", \"Topic4\", \"Topic4\", \"Topic4\", \"Topic4\", \"Topic4\", \"Topic4\", \"Topic4\", \"Topic4\", \"Topic4\", \"Topic4\", \"Topic4\", \"Topic4\", \"Topic4\", \"Topic4\", \"Topic4\", \"Topic4\", \"Topic4\", \"Topic4\", \"Topic4\", \"Topic4\", \"Topic4\", \"Topic4\", \"Topic4\", \"Topic4\", \"Topic4\", \"Topic4\", \"Topic4\", \"Topic4\", \"Topic4\", \"Topic4\", \"Topic4\", \"Topic4\", \"Topic4\", \"Topic4\", \"Topic4\", \"Topic4\", \"Topic4\", \"Topic4\", \"Topic4\", \"Topic4\", \"Topic4\", \"Topic4\", \"Topic4\", \"Topic4\", \"Topic4\", \"Topic4\", \"Topic4\", \"Topic4\", \"Topic4\", \"Topic4\", \"Topic4\", \"Topic4\", \"Topic4\", \"Topic4\", \"Topic4\", \"Topic4\", \"Topic4\", \"Topic4\", \"Topic4\", \"Topic4\", \"Topic4\", \"Topic4\", \"Topic4\", \"Topic4\", \"Topic4\", \"Topic4\", \"Topic4\", \"Topic4\", \"Topic4\", \"Topic4\", \"Topic4\", \"Topic4\", \"Topic4\", \"Topic4\", \"Topic4\", \"Topic4\", \"Topic4\", \"Topic4\", \"Topic4\", \"Topic4\", \"Topic4\", \"Topic4\", \"Topic4\", \"Topic4\", \"Topic4\", \"Topic4\", \"Topic4\", \"Topic4\", \"Topic4\", \"Topic4\", \"Topic4\", \"Topic5\", \"Topic5\", \"Topic5\", \"Topic5\", \"Topic5\", \"Topic5\", \"Topic5\", \"Topic5\", \"Topic5\", \"Topic5\", \"Topic5\", \"Topic5\", \"Topic5\", \"Topic5\", \"Topic5\", \"Topic5\", \"Topic5\", \"Topic5\", \"Topic5\", \"Topic5\", \"Topic5\", \"Topic5\", \"Topic5\", \"Topic5\", \"Topic5\", \"Topic5\", \"Topic5\", \"Topic5\", \"Topic5\", \"Topic5\", \"Topic5\", \"Topic5\", \"Topic5\", \"Topic5\", \"Topic5\", \"Topic5\", \"Topic5\", \"Topic5\", \"Topic5\", \"Topic5\", \"Topic5\", \"Topic5\", \"Topic5\", \"Topic5\", \"Topic5\", \"Topic5\", \"Topic5\", \"Topic5\", \"Topic5\", \"Topic5\", \"Topic5\", \"Topic5\", \"Topic5\", \"Topic5\", \"Topic5\", \"Topic5\", \"Topic5\", \"Topic5\", \"Topic5\", \"Topic5\", \"Topic5\", \"Topic5\", \"Topic5\", \"Topic5\", \"Topic5\", \"Topic5\", \"Topic5\", \"Topic5\", \"Topic5\", \"Topic5\", \"Topic5\", \"Topic5\", \"Topic5\", \"Topic5\", \"Topic5\", \"Topic5\", \"Topic5\", \"Topic5\", \"Topic5\", \"Topic5\", \"Topic5\", \"Topic5\", \"Topic5\", \"Topic5\", \"Topic5\", \"Topic5\", \"Topic5\", \"Topic5\", \"Topic5\", \"Topic6\", \"Topic6\", \"Topic6\", \"Topic6\", \"Topic6\", \"Topic6\", \"Topic6\", \"Topic6\", \"Topic6\", \"Topic6\", \"Topic6\", \"Topic6\", \"Topic6\", \"Topic6\", \"Topic6\", \"Topic6\", \"Topic6\", \"Topic6\", \"Topic6\", \"Topic6\", \"Topic6\", \"Topic6\", \"Topic6\", \"Topic6\", \"Topic6\", \"Topic6\", \"Topic6\", \"Topic6\", \"Topic6\", \"Topic6\", \"Topic6\", \"Topic6\", \"Topic6\", \"Topic6\", \"Topic6\", \"Topic6\", \"Topic6\", \"Topic6\", \"Topic6\", \"Topic6\", \"Topic6\", \"Topic6\", \"Topic6\", \"Topic6\", \"Topic6\", \"Topic6\", \"Topic6\", \"Topic6\", \"Topic6\", \"Topic6\", \"Topic6\", \"Topic6\", \"Topic6\", \"Topic6\", \"Topic6\", \"Topic6\", \"Topic6\", \"Topic6\", \"Topic6\", \"Topic6\", \"Topic6\", \"Topic6\", \"Topic6\", \"Topic6\", \"Topic6\", \"Topic6\", \"Topic6\", \"Topic6\", \"Topic6\", \"Topic6\", \"Topic6\", \"Topic6\", \"Topic6\", \"Topic6\", \"Topic6\", \"Topic6\", \"Topic6\", \"Topic6\", \"Topic6\", \"Topic6\", \"Topic6\", \"Topic6\", \"Topic6\", \"Topic6\", \"Topic6\", \"Topic6\", \"Topic6\", \"Topic6\", \"Topic6\", \"Topic6\", \"Topic6\", \"Topic6\"], \"logprob\": [30.0, 29.0, 28.0, 27.0, 26.0, 25.0, 24.0, 23.0, 22.0, 21.0, 20.0, 19.0, 18.0, 17.0, 16.0, 15.0, 14.0, 13.0, 12.0, 11.0, 10.0, 9.0, 8.0, 7.0, 6.0, 5.0, 4.0, 3.0, 2.0, 1.0, -10.073200225830078, -10.13759994506836, -9.843199729919434, -10.114999771118164, -9.388199806213379, -10.380900382995605, -10.141599655151367, -10.81470012664795, -10.415900230407715, -8.883000373840332, -9.721699714660645, -10.83650016784668, -9.2431001663208, -10.390899658203125, -9.906800270080566, -10.103500366210938, -9.54580020904541, -10.44260025024414, -8.666299819946289, -10.137999534606934, -10.416799545288086, -10.401800155639648, -10.852700233459473, -10.869000434875488, -10.8503999710083, -8.459199905395508, -10.14229965209961, -10.86240005493164, -9.726400375366211, -9.936400413513184, -8.085100173950195, -8.831000328063965, -7.39769983291626, -9.474699974060059, -9.449399948120117, -7.218800067901611, -7.456900119781494, -8.169699668884277, -7.78380012512207, -6.472099781036377, -8.480400085449219, -6.455900192260742, -8.671699523925781, -7.842400074005127, -5.313799858093262, -6.5630998611450195, -7.89109992980957, -7.671999931335449, -7.6132001876831055, -7.13040018081665, -4.714000225067139, -6.062600135803223, -6.864699840545654, -5.667200088500977, -7.564499855041504, -7.524199962615967, -7.252999782562256, -6.773200035095215, -7.195400238037109, -6.685500144958496, -6.576600074768066, -6.9583001136779785, -6.632500171661377, -6.3470001220703125, -5.783199787139893, -6.850800037384033, -6.763000011444092, -6.928899765014648, -6.019700050354004, -7.075500011444092, -6.8968000411987305, -5.9969000816345215, -6.4456000328063965, -5.714300155639648, -6.3125, -5.7789998054504395, -6.433199882507324, -6.823200225830078, -6.6570000648498535, -6.494500160217285, -6.017199993133545, -6.156400203704834, -6.478000164031982, -6.659900188446045, -6.593999862670898, -6.596399784088135, -6.486700057983398, -6.59089994430542, -6.601600170135498, -6.628799915313721, -9.55519962310791, -10.72350025177002, -8.168899536132812, -10.387800216674805, -10.449600219726562, -10.3371000289917, -9.905500411987305, -9.423299789428711, -10.119500160217285, -10.143199920654297, -10.847000122070312, -10.485199928283691, -9.86340045928955, -8.218600273132324, -10.166600227355957, -8.716300010681152, -10.874500274658203, -9.516500473022461, -10.474900245666504, -9.656000137329102, -10.813199996948242, -7.847400188446045, -10.442899703979492, -10.105400085449219, -9.999600410461426, -9.061699867248535, -10.906900405883789, -9.986000061035156, -10.867799758911133, -10.122099876403809, -7.290299892425537, -8.800800323486328, -9.255499839782715, -9.043899536132812, -7.557499885559082, -8.345000267028809, -7.395999908447266, -8.600899696350098, -7.583199977874756, -5.612199783325195, -6.480199813842773, -6.89709997177124, -6.86929988861084, -6.979400157928467, -7.8358001708984375, -7.468200206756592, -8.369000434875488, -6.3094000816345215, -6.967100143432617, -7.131199836730957, -6.509399890899658, -6.5229997634887695, -6.185999870300293, -6.538899898529053, -6.695099830627441, -6.793900012969971, -6.870800018310547, -5.599999904632568, -5.56820011138916, -6.69950008392334, -5.914000034332275, -5.974100112915039, -6.930200099945068, -6.808700084686279, -5.495200157165527, -4.949399948120117, -6.391499996185303, -6.532199859619141, -6.442500114440918, -6.028600215911865, -5.895599842071533, -6.241499900817871, -6.323599815368652, -6.428500175476074, -5.985599994659424, -6.5432000160217285, -6.6417999267578125, -6.545000076293945, -6.503900051116943, -6.672999858856201, -6.5366997718811035, -6.536399841308594, -6.6041998863220215, -6.664100170135498, -6.642300128936768, -10.044300079345703, -10.04539966583252, -9.82759952545166, -9.242600440979004, -9.627900123596191, -9.958700180053711, -10.716699600219727, -10.390399932861328, -10.355799674987793, -10.750499725341797, -9.82289981842041, -10.76930046081543, -10.890299797058105, -9.848099708557129, -9.668499946594238, -10.370499610900879, -10.786399841308594, -10.775300025939941, -10.850799560546875, -10.814299583435059, -10.789600372314453, -9.643899917602539, -10.81149959564209, -10.83590030670166, -10.804800033569336, -10.82040023803711, -9.864500045776367, -10.387800216674805, -10.279899597167969, -10.812199592590332, -9.378199577331543, -7.152400016784668, -8.522700309753418, -8.323800086975098, -8.837699890136719, -8.231599807739258, -8.153499603271484, -6.671500205993652, -9.488800048828125, -10.073800086975098, -6.651899814605713, -7.246200084686279, -7.91349983215332, -7.104100227355957, -8.702400207519531, -5.764900207519531, -5.460700035095215, -7.5100998878479, -6.8069000244140625, -7.34689998626709, -7.672599792480469, -8.30780029296875, -6.264999866485596, -4.808499813079834, -5.548299789428711, -6.860599994659424, -6.871399879455566, -8.133099555969238, -5.7555999755859375, -6.797399997711182, -6.378200054168701, -7.160999774932861, -6.39169979095459, -6.578000068664551, -6.3902997970581055, -5.826399803161621, -6.629199981689453, -5.876100063323975, -6.422100067138672, -6.006100177764893, -7.138500213623047, -6.4959001541137695, -6.471099853515625, -6.825300216674805, -6.163899898529053, -6.371099948883057, -6.826000213623047, -6.640200138092041, -5.829899787902832, -6.4191999435424805, -6.489099979400635, -6.607399940490723, -6.560999870300293, -6.7600998878479, -6.69890022277832, -6.694200038909912, -6.600599765777588, -10.154500007629395, -10.571700096130371, -10.617799758911133, -9.594499588012695, -10.24590015411377, -10.270299911499023, -10.656900405883789, -10.613499641418457, -10.654000282287598, -10.714699745178223, -10.750699996948242, -10.703200340270996, -10.279500007629395, -10.720499992370605, -10.703800201416016, -10.662199974060059, -10.651100158691406, -10.645099639892578, -10.656900405883789, -10.013400077819824, -9.365699768066406, -10.718999862670898, -9.973699569702148, -10.29539966583252, -10.177599906921387, -10.639800071716309, -9.934200286865234, -10.662599563598633, -10.742600440979004, -10.651100158691406, -10.23330020904541, -10.224200248718262, -9.608599662780762, -8.726099967956543, -9.805899620056152, -8.555100440979004, -8.873000144958496, -10.008199691772461, -7.507999897003174, -6.19320011138916, -7.307000160217285, -7.474699974060059, -7.4552001953125, -7.431399822235107, -8.156000137329102, -7.5706000328063965, -7.521100044250488, -6.4822998046875, -7.405799865722656, -7.307000160217285, -7.262199878692627, -7.5370001792907715, -4.7972002029418945, -6.777699947357178, -7.710000038146973, -7.326900005340576, -7.738500118255615, -7.005300045013428, -7.7270002365112305, -7.563499927520752, -5.928100109100342, -6.316100120544434, -6.480400085449219, -6.3471999168396, -5.813700199127197, -7.182799816131592, -6.02810001373291, -7.326000213623047, -5.765600204467773, -7.06879997253418, -5.946199893951416, -6.616000175476074, -6.15500020980835, -6.502299785614014, -6.377200126647949, -5.783999919891357, -6.486100196838379, -5.954699993133545, -6.702499866485596, -6.60260009765625, -6.720399856567383, -6.8368000984191895, -6.439799785614014, -6.21019983291626, -6.762400150299072, -6.568299770355225, -6.6570000648498535, -6.708499908447266, -6.646500110626221, -6.6855998039245605, -6.777200222015381, -9.649399757385254, -10.228899955749512, -10.68239974975586, -9.38379955291748, -10.27280044555664, -10.654800415039062, -10.688300132751465, -10.665200233459473, -10.701000213623047, -10.706199645996094, -10.705699920654297, -10.711999893188477, -10.668399810791016, -10.702500343322754, -10.719300270080566, -10.718899726867676, -10.253600120544434, -10.710000038146973, -10.696100234985352, -10.706199645996094, -10.700499534606934, -10.673600196838379, -10.725299835205078, -10.685600280761719, -10.715999603271484, -10.70930004119873, -10.723400115966797, -10.733400344848633, -10.710700035095215, -10.706999778747559, -6.133999824523926, -9.661600112915039, -10.130000114440918, -10.373600006103516, -9.450599670410156, -6.0553998947143555, -7.431300163269043, -10.044599533081055, -10.067899703979492, -6.651400089263916, -9.356100082397461, -9.830900192260742, -9.230199813842773, -9.577699661254883, -6.148799896240234, -7.2571001052856445, -7.2179999351501465, -6.999499797821045, -5.664700031280518, -7.811399936676025, -8.79640007019043, -7.362299919128418, -7.23960018157959, -7.449399948120117, -6.2683000564575195, -6.599699974060059, -6.33050012588501, -6.792200088500977, -6.781000137329102, -8.687199592590332, -6.541299819946289, -7.82289981842041, -7.650400161743164, -6.861100196838379, -6.359799861907959, -5.671899795532227, -7.220099925994873, -6.41540002822876, -7.252999782562256, -5.754799842834473, -5.088200092315674, -6.036600112915039, -7.2316999435424805, -6.358500003814697, -5.980000019073486, -7.036300182342529, -5.72130012512207, -6.947199821472168, -6.678899765014648, -6.188600063323975, -6.24459981918335, -6.604100227355957, -6.119500160217285, -6.475299835205078, -6.586100101470947, -6.603700160980225, -6.726399898529053, -6.535099983215332, -6.672399997711182, -10.68850040435791, -10.718000411987305, -10.284500122070312, -10.312800407409668, -10.317999839782715, -10.71150016784668, -10.756999969482422, -10.286399841308594, -10.284600257873535, -10.710800170898438, -10.280200004577637, -10.71560001373291, -10.74470043182373, -10.706100463867188, -10.74489974975586, -10.038200378417969, -10.771699905395508, -10.764399528503418, -10.062800407409668, -10.035200119018555, -10.737500190734863, -10.407899856567383, -10.786399841308594, -10.785499572753906, -9.519700050354004, -10.739100456237793, -10.735799789428711, -10.7701997756958, -10.803500175476074, -10.76930046081543, -10.107399940490723, -8.90779972076416, -9.374500274658203, -9.306900024414062, -9.839300155639648, -8.138299942016602, -8.22920036315918, -8.432100296020508, -6.442800045013428, -7.644599914550781, -8.379899978637695, -8.593700408935547, -8.926899909973145, -5.818999767303467, -6.954500198364258, -6.852700233459473, -7.212600231170654, -8.267499923706055, -7.669899940490723, -5.575699806213379, -6.997700214385986, -7.857100009918213, -6.856200218200684, -5.796899795532227, -6.904900074005127, -6.372799873352051, -7.938700199127197, -7.642600059509277, -5.680200099945068, -7.000999927520752, -6.901100158691406, -6.590199947357178, -6.30679988861084, -6.548399925231934, -7.122200012207031, -7.042399883270264, -7.287600040435791, -5.5904998779296875, -5.879799842834473, -6.632800102233887, -6.487400054931641, -7.131499767303467, -7.223999977111816, -5.163899898529053, -6.460999965667725, -6.0005998611450195, -6.683800220489502, -6.147299766540527, -6.433199882507324, -6.792699813842773, -6.798500061035156, -6.572500228881836, -6.775300025939941, -6.755899906158447, -6.659900188446045, -6.691299915313721, -6.713399887084961, -6.779399871826172, -6.766499996185303, -6.702499866485596, -6.674200057983398, -6.781000137329102], \"loglift\": [30.0, 29.0, 28.0, 27.0, 26.0, 25.0, 24.0, 23.0, 22.0, 21.0, 20.0, 19.0, 18.0, 17.0, 16.0, 15.0, 14.0, 13.0, 12.0, 11.0, 10.0, 9.0, 8.0, 7.0, 6.0, 5.0, 4.0, 3.0, 2.0, 1.0, 0.37220001220703125, 0.3646000027656555, 0.3643999993801117, 0.3619999885559082, 0.3610999882221222, 0.35850000381469727, 0.35679998993873596, 0.3538999855518341, 0.35010001063346863, 0.3456999957561493, 0.3449000120162964, 0.3440000116825104, 0.3425999879837036, 0.3407999873161316, 0.33739998936653137, 0.3370000123977661, 0.3366999924182892, 0.33640000224113464, 0.33640000224113464, 0.3343999981880188, 0.33399999141693115, 0.3305000066757202, 0.32919999957084656, 0.32899999618530273, 0.3278000056743622, 0.3257000148296356, 0.32409998774528503, 0.32170000672340393, 0.3215000033378601, 0.32109999656677246, 0.31139999628067017, 0.31859999895095825, 0.3034000098705292, 0.3190999925136566, 0.3167000114917755, 0.28450000286102295, 0.28700000047683716, 0.30070000886917114, 0.28450000286102295, 0.23270000517368317, 0.29280000925064087, 0.2296999990940094, 0.29649999737739563, 0.2653000056743622, 0.1687999963760376, 0.21729999780654907, 0.2662000060081482, 0.25690001249313354, 0.25220000743865967, 0.23090000450611115, 0.12309999763965607, 0.1808999925851822, 0.21770000457763672, 0.14920000731945038, 0.24889999628067017, 0.24459999799728394, 0.2296999990940094, 0.2037000060081482, 0.21899999678134918, 0.18289999663829803, 0.1687999963760376, 0.19699999690055847, 0.14880000054836273, 0.11640000343322754, 0.04780000075697899, 0.1597999930381775, 0.1460999995470047, 0.1623000055551529, 0.04619999974966049, 0.1777999997138977, 0.14560000598430634, 0.006000000052154064, 0.06400000303983688, -0.07280000299215317, 0.029400000348687172, -0.09520000219345093, 0.02930000051856041, 0.11999999731779099, 0.07259999960660934, 0.023600000888109207, -0.16300000250339508, -0.1446000039577484, -0.017899999395012856, 0.05299999937415123, 0.012199999764561653, -0.017400000244379044, -0.11949999630451202, -0.10000000149011612, -0.10239999741315842, -0.10719999670982361, 0.5110999941825867, 0.49140000343322754, 0.43619999289512634, 0.43290001153945923, 0.4307999908924103, 0.42890000343322754, 0.4275999963283539, 0.421099990606308, 0.41760000586509705, 0.41589999198913574, 0.4117000102996826, 0.4092000126838684, 0.4090000092983246, 0.40869998931884766, 0.40470001101493835, 0.39809998869895935, 0.3959999978542328, 0.39239999651908875, 0.3912000060081482, 0.39070001244544983, 0.3903999924659729, 0.3889999985694885, 0.3880000114440918, 0.3878999948501587, 0.3862000107765198, 0.38609999418258667, 0.38600000739097595, 0.3847000002861023, 0.38370001316070557, 0.38260000944137573, 0.36039999127388, 0.3716999888420105, 0.3716999888420105, 0.3614000082015991, 0.32330000400543213, 0.34279999136924744, 0.31290000677108765, 0.34360000491142273, 0.3111000061035156, 0.24199999868869781, 0.2759000062942505, 0.2680000066757202, 0.2651999890804291, 0.2572000026702881, 0.299699991941452, 0.2802000045776367, 0.32510000467300415, 0.21140000224113464, 0.2506999969482422, 0.25940001010894775, 0.21250000596046448, 0.20999999344348907, 0.181099995970726, 0.1875, 0.19750000536441803, 0.1949000060558319, 0.19689999520778656, 0.08380000293254852, 0.07339999824762344, 0.18070000410079956, 0.09790000319480896, 0.09179999679327011, 0.19419999420642853, 0.17759999632835388, -0.012600000016391277, -0.11219999939203262, 0.10769999772310257, 0.11630000174045563, 0.07900000363588333, -0.025699999183416367, -0.07919999957084656, 0.002099999925121665, 0.018300000578165054, 0.03400000184774399, -0.15459999442100525, 0.06300000101327896, 0.10170000046491623, 0.03400000184774399, -0.013100000098347664, 0.09640000015497208, -0.02710000053048134, -0.0763000026345253, -0.08619999885559082, 0.03590000048279762, -0.17890000343322754, 1.4455000162124634, 1.4444999694824219, 0.8973000049591064, 0.7339000105857849, 0.7099000215530396, 0.7039999961853027, 0.6711999773979187, 0.6513000130653381, 0.6491000056266785, 0.6291000247001648, 0.6190000176429749, 0.6144000291824341, 0.5895000100135803, 0.5892000198364258, 0.5891000032424927, 0.5875999927520752, 0.5843999981880188, 0.5799000263214111, 0.5791000127792358, 0.5784000158309937, 0.57669997215271, 0.5738999843597412, 0.5733000040054321, 0.5723000168800354, 0.5717999935150146, 0.5716000199317932, 0.5698000192642212, 0.5697000026702881, 0.5688999891281128, 0.567799985408783, 0.5665000081062317, 0.5264999866485596, 0.5105000138282776, 0.49549999833106995, 0.5088000297546387, 0.47679999470710754, 0.4674000144004822, 0.3714999854564667, 0.5166000127792358, 0.5468999743461609, 0.3587000072002411, 0.38769999146461487, 0.4223000109195709, 0.3702999949455261, 0.47040000557899475, 0.24699999392032623, 0.22310000658035278, 0.3718000054359436, 0.2971999943256378, 0.34880000352859497, 0.36079999804496765, 0.43140000104904175, 0.19499999284744263, 0.028599999845027924, 0.093299999833107, 0.24969999492168427, 0.24969999492168427, 0.39969998598098755, 0.07540000230073929, 0.21320000290870667, 0.14259999990463257, 0.2558000087738037, 0.11789999902248383, 0.15150000154972076, 0.10890000313520432, -0.009999999776482582, 0.1501999944448471, -0.021900000050663948, 0.09589999914169312, -0.003100000089034438, 0.24969999492168427, 0.08309999853372574, 0.05050000175833702, 0.1509999930858612, -0.09799999743700027, -0.029100000858306885, 0.1453000009059906, 0.05979999899864197, -0.3472999930381775, -0.052000001072883606, -0.025699999183416367, -0.0012000000569969416, -0.07010000199079514, 0.10819999873638153, 0.00570000009611249, -0.04569999873638153, -0.3569999933242798, 0.9013000130653381, 0.8446000218391418, 0.8356000185012817, 0.8320000171661377, 0.8274000287055969, 0.7953000068664551, 0.7556999921798706, 0.7512000203132629, 0.7477999925613403, 0.7470999956130981, 0.7389000058174133, 0.7357000112533569, 0.7342000007629395, 0.7336000204086304, 0.7333999872207642, 0.7324000000953674, 0.7293000221252441, 0.7279000282287598, 0.7275000214576721, 0.7232999801635742, 0.7196999788284302, 0.7170000076293945, 0.7145000100135803, 0.7142999768257141, 0.7121999859809875, 0.7111999988555908, 0.7105000019073486, 0.7105000019073486, 0.7095999717712402, 0.7089999914169312, 0.7080000042915344, 0.7049999833106995, 0.695900022983551, 0.6601999998092651, 0.6866999864578247, 0.5946000218391418, 0.6133999824523926, 0.6869999766349792, 0.46209999918937683, 0.32839998602867126, 0.43070000410079956, 0.4399999976158142, 0.42170000076293945, 0.41929998993873596, 0.48739999532699585, 0.41370001435279846, 0.40720000863075256, 0.28519999980926514, 0.3869999945163727, 0.3637999892234802, 0.3560999929904938, 0.38659998774528503, 0.039900001138448715, 0.2653000056743622, 0.39079999923706055, 0.3310000002384186, 0.392300009727478, 0.2827000021934509, 0.3880999982357025, 0.3571000099182129, 0.08370000123977661, 0.14640000462532043, 0.1680999994277954, 0.1437000036239624, 0.01720000058412552, 0.2822999954223633, -0.025100000202655792, 0.28769999742507935, -0.12409999966621399, 0.21619999408721924, -0.09200000017881393, 0.06960000097751617, -0.08910000324249268, 0.015699999406933784, -0.03530000150203705, -0.30140000581741333, -0.022700000554323196, -0.27090001106262207, 0.030500000342726707, -0.023600000888109207, 0.025100000202655792, 0.05570000037550926, -0.19619999825954437, -0.3937999904155731, -0.035999998450279236, -0.20110000669956207, -0.13619999587535858, -0.1023000031709671, -0.18649999797344208, -0.18639999628067017, -0.07249999791383743, 0.9261999726295471, 0.8903999924659729, 0.8319000005722046, 0.8285999894142151, 0.8172000050544739, 0.8004999756813049, 0.7950000166893005, 0.791700005531311, 0.7809000015258789, 0.7696999907493591, 0.7662000060081482, 0.7639999985694885, 0.7634999752044678, 0.7633000016212463, 0.7587000131607056, 0.7530999779701233, 0.7526000142097473, 0.7523000240325928, 0.7511000037193298, 0.7506999969482422, 0.7465999722480774, 0.7432000041007996, 0.7427999973297119, 0.7426000237464905, 0.7422000169754028, 0.7396000027656555, 0.7384999990463257, 0.734499990940094, 0.7340999841690063, 0.7337999939918518, 0.6453999876976013, 0.7102000117301941, 0.7188000082969666, 0.7247999906539917, 0.6747000217437744, 0.43549999594688416, 0.5149999856948853, 0.6988000273704529, 0.6998000144958496, 0.4178999960422516, 0.6392999887466431, 0.6789000034332275, 0.623199999332428, 0.6507999897003174, 0.31119999289512634, 0.4007999897003174, 0.3801000118255615, 0.3418000042438507, 0.1662999987602234, 0.43050000071525574, 0.5512999892234802, 0.3675999939441681, 0.34450000524520874, 0.36000001430511475, 0.19519999623298645, 0.23890000581741333, 0.1875, 0.2506999969482422, 0.24869999289512634, 0.5192000269889832, 0.18060000240802765, 0.38530001044273376, 0.35280001163482666, 0.20659999549388885, 0.10270000249147415, -0.030300000682473183, 0.26260000467300415, 0.08380000293254852, 0.2483000010251999, -0.07100000232458115, -0.25110000371932983, -0.03359999880194664, 0.24269999563694, 0.008700000122189522, -0.1257999986410141, 0.18559999763965607, -0.2387000024318695, 0.15690000355243683, 0.06469999998807907, -0.17669999599456787, -0.17870000004768372, -0.025100000202655792, -0.30309998989105225, -0.13339999318122864, -0.06530000269412994, -0.08219999819993973, -0.026399999856948853, -0.2915000021457672, -0.16279999911785126, 0.7452999949455261, 0.7282999753952026, 0.7127000093460083, 0.7121999859809875, 0.7060999870300293, 0.7045999765396118, 0.6894999742507935, 0.684499979019165, 0.6809999942779541, 0.6808000206947327, 0.671999990940094, 0.6710000038146973, 0.6689000129699707, 0.6638000011444092, 0.6607999801635742, 0.6527000069618225, 0.6516000032424927, 0.6513000130653381, 0.6502000093460083, 0.6452999711036682, 0.644599974155426, 0.64410001039505, 0.6430000066757202, 0.641700029373169, 0.6399000287055969, 0.6383000016212463, 0.6381999850273132, 0.6380000114440918, 0.6370999813079834, 0.6367999911308289, 0.6207000017166138, 0.5703999996185303, 0.5874999761581421, 0.5820000171661377, 0.5986999869346619, 0.4876999855041504, 0.4819999933242798, 0.4909999966621399, 0.33660000562667847, 0.4034999907016754, 0.4593999981880188, 0.4603999853134155, 0.49239999055862427, 0.18400000035762787, 0.28220000863075256, 0.25760000944137573, 0.29600000381469727, 0.4083000123500824, 0.3314000070095062, 0.0658000037074089, 0.23770000040531158, 0.3528999984264374, 0.2029000073671341, 0.0340999998152256, 0.19920000433921814, 0.11810000240802765, 0.3517000079154968, 0.2985000014305115, 0.003599999938160181, 0.20029999315738678, 0.18119999766349792, 0.12269999831914902, 0.06040000170469284, 0.10010000318288803, 0.19910000264644623, 0.1793999969959259, 0.22550000250339508, -0.10790000110864639, -0.06350000202655792, 0.07190000265836716, 0.033399999141693115, 0.18080000579357147, 0.19869999587535858, -0.32679998874664307, 0.001500000013038516, -0.14640000462532043, 0.04919999837875366, -0.13539999723434448, -0.09130000323057175, 0.03929999843239784, 0.04010000079870224, -0.07329999655485153, -0.048900000751018524, -0.07029999792575836, -0.19990000128746033, -0.22789999842643738, -0.2037999927997589, -0.07940000295639038, -0.16030000150203705, -0.45899999141693115, -0.608299970626831, -0.25940001010894775]}, \"token.table\": {\"Topic\": [1, 2, 1, 2, 3, 5, 1, 2, 1, 2, 1, 1, 2, 3, 4, 5, 6, 1, 1, 2, 3, 4, 5, 6, 1, 2, 3, 4, 5, 6, 1, 2, 3, 4, 5, 6, 1, 2, 3, 4, 5, 6, 1, 2, 3, 4, 5, 6, 1, 2, 3, 1, 2, 3, 4, 5, 6, 2, 1, 1, 2, 3, 1, 2, 3, 3, 1, 2, 3, 5, 6, 1, 2, 3, 4, 5, 6, 1, 2, 3, 4, 5, 6, 1, 2, 3, 4, 5, 1, 2, 3, 4, 5, 6, 1, 2, 3, 1, 2, 1, 2, 1, 2, 3, 4, 5, 6, 1, 1, 2, 3, 4, 5, 1, 2, 3, 4, 5, 6, 1, 2, 1, 2, 1, 2, 3, 4, 5, 6, 1, 2, 3, 4, 5, 6, 1, 2, 3, 4, 1, 2, 3, 4, 5, 6, 1, 2, 3, 4, 5, 6, 1, 2, 3, 4, 5, 6, 1, 2, 1, 2, 1, 2, 1, 2, 3, 4, 5, 6, 1, 2, 3, 4, 5, 6, 1, 2, 3, 4, 5, 6, 1, 2, 3, 4, 5, 6, 1, 2, 3, 4, 5, 1, 1, 2, 3, 4, 5, 6, 1, 2, 3, 4, 5, 6, 1, 2, 3, 4, 5, 6, 1, 2, 3, 4, 5, 6, 1, 2, 3, 4, 5, 6, 1, 2, 3, 4, 5, 6, 1, 2, 3, 4, 5, 6, 1, 2, 3, 4, 5, 6, 1, 2, 3, 4, 5, 6, 1, 2, 3, 1, 2, 1, 2, 3, 4, 5, 6, 1, 2, 3, 4, 5, 6, 1, 2, 1, 2, 3, 4, 5, 6, 1, 1, 2, 3, 4, 5, 6, 1, 2, 3, 4, 5, 6, 1, 2, 1, 2, 3, 4, 5, 6, 1, 2, 3, 4, 5, 6, 1, 2, 3, 4, 5, 6, 1, 2, 3, 4, 5, 6, 1, 2, 3, 4, 5, 6, 1, 2, 3, 4, 5, 6, 1, 2, 3, 1, 2, 3, 4, 5, 6, 1, 2, 1, 1, 2, 3, 4, 5, 6, 1, 2, 3, 4, 5, 6, 1, 2, 3, 4, 5, 6, 1, 2, 3, 4, 6, 1, 2, 1, 2, 1, 2, 3, 4, 5, 6, 1, 2, 3, 4, 5, 6, 1, 2, 1, 2, 3, 4, 5, 6, 1, 2, 3, 1, 1, 2, 3, 4, 5, 6, 1, 2, 1, 2, 3, 4, 1, 2, 3, 4, 5, 6, 1, 2, 1, 2, 3, 1, 2, 3, 4, 5, 6, 1, 2, 1, 2, 3, 4, 5, 6, 1, 2, 3, 4, 5, 6, 1, 2, 3, 4, 5, 6, 1, 2, 1, 2, 3, 1, 2, 3, 1, 2, 1, 2, 3, 4, 5, 6, 1, 2, 3, 4, 5, 6, 1, 2, 3, 4, 1, 2, 3, 4, 5, 6, 1, 2, 3, 4, 5, 6, 1, 2, 3, 6, 1, 2, 3, 4, 5, 6, 1, 2, 3, 4, 5, 6, 1, 2, 3, 1, 2, 1, 2, 1, 2, 1, 2, 3, 4, 5, 6, 1, 2, 3, 4, 5, 6, 1, 2, 3, 1, 1, 2, 1, 2, 3, 4, 5, 6, 1, 1, 2, 1, 1, 2, 3, 4, 5, 6, 1, 2, 3, 5, 1, 1, 2, 1, 2, 3, 4, 5, 6, 1, 2, 3, 4, 5, 6, 1, 2, 3, 4, 5, 6, 1, 2, 3, 4, 5, 6, 1, 2, 3, 4, 5, 6, 1, 1, 2, 1, 2, 1, 2, 3, 4, 5, 6, 1, 2, 3, 4, 5, 6, 1, 2, 3, 4, 5, 6, 1, 2, 3, 4, 5, 6, 1, 2, 3, 4, 5, 6, 1, 2, 1, 2, 1, 2, 3, 4, 5, 6, 1, 1, 2, 3, 4, 5, 6, 1, 2, 3, 4, 5, 6, 1, 2, 3, 4, 5, 6, 1, 2, 3, 4, 5, 6, 1, 2, 1, 2, 1, 2, 3, 4, 5, 6, 1, 2, 3, 4, 5, 6, 1, 2, 3, 1, 2, 3, 4, 5, 6, 1, 2, 3, 4, 5, 6, 1, 2, 3, 4, 5, 6, 1, 2, 3, 4, 5, 6, 1, 2, 3, 4, 5, 6, 1, 2, 3, 4, 1, 2, 3, 4, 5, 6, 1, 2, 3, 4, 5, 6, 1, 2, 3, 4, 5, 6, 1, 2, 3, 4, 5, 6, 1, 2, 3, 4, 5, 6, 1, 2, 3, 4, 5, 6, 1, 2, 3, 5, 1, 2, 3, 4, 5, 6, 1, 2, 4, 1, 2, 3, 1, 1, 2, 3, 4, 5, 6, 1, 2, 3, 1, 2, 3, 4, 5, 6, 1, 2, 1, 1, 2, 3, 5, 1, 2, 3, 1, 1, 2, 3, 4, 5, 6, 1, 2, 5, 1, 2, 3, 4, 5, 6, 1, 1, 2, 3, 4, 5, 6, 1, 2, 3, 4, 5, 6, 1, 1, 2, 3, 4, 5, 6, 1, 2, 3, 4, 5, 6, 1, 2, 3, 4, 5, 6, 1, 2, 1, 2, 3, 4, 5, 6, 1, 2, 3, 4, 5, 6, 1, 2, 3, 4, 5, 6, 1, 2, 3, 4, 5, 6, 1, 2, 3, 4, 5, 6, 1, 2, 3, 4, 5, 6, 1, 2, 1, 2, 3, 4, 5, 6, 1, 2, 1, 2, 3, 4, 5, 6, 1, 2, 3, 4, 5, 6, 1, 2, 3, 4, 5, 6, 1, 2, 1, 2, 3, 4, 5, 6, 1, 2, 3, 1, 2, 3, 4, 5, 6, 1, 2, 3, 4, 5, 6, 1, 1, 2, 1, 2, 3, 4, 5, 6, 1, 2, 3, 4, 5, 6, 1, 1, 2, 1, 2, 3, 5, 1, 2, 3, 4, 5, 6, 1, 2, 3, 4, 5, 6, 1, 2, 3, 4, 5, 6, 1, 2, 3, 4, 5, 6, 1, 2, 3, 4, 5, 6, 1, 2, 3, 4, 5, 6, 1, 2, 1, 2, 3, 4, 5, 6, 1, 2, 3, 4, 5, 6, 1, 2, 3, 4, 5, 6, 1, 2, 1, 2, 3, 4, 5, 6, 1, 2, 3, 4, 5, 6, 1, 2, 3, 4, 5, 6, 1, 2, 3, 1, 1, 2, 1, 2, 1, 2, 3, 4, 5, 6, 1, 2, 1, 2, 3, 4, 5, 6, 1, 2, 3, 4, 5, 6, 2, 1, 2, 3, 4, 5, 6, 1, 1, 2, 3, 4, 5, 6, 1, 2, 3, 4, 5, 6, 1, 2, 3, 4, 5, 6, 1, 1, 2, 3, 5, 1, 2, 1, 2, 3, 4, 5, 6, 1, 1, 2, 1, 2, 3, 4, 5, 6, 1, 2, 1, 2, 3, 4, 5, 6, 1, 1, 2, 1, 2, 3, 4, 5, 6, 1, 2, 3, 4, 5, 6, 1, 2, 3, 4, 5, 6, 1, 2, 3, 4, 5, 6, 1, 2, 1, 2, 1, 2, 3, 1, 2, 3, 4, 5, 6, 2, 1, 1, 2, 3, 5, 1, 2, 1, 2, 2, 1, 2, 1, 2, 3, 4, 5, 6, 1, 2, 1, 2, 3, 4, 5, 6, 1, 2, 3, 4, 5, 6, 1, 1, 2, 3, 4, 5, 6, 1, 2, 3, 4, 5, 6, 1, 1, 2, 3, 4, 5, 6, 1, 2, 1, 1, 2, 3, 4, 5, 6, 1, 2, 3, 4, 5, 6, 1, 2, 1, 2, 3, 5, 1, 2, 4, 1, 1, 2, 1, 2, 3, 4, 5, 6, 1, 2, 3, 4, 5, 6, 1, 2, 3, 4, 5, 6, 1, 2, 3, 4, 5, 6, 1, 2, 3, 4, 5, 6, 1, 2, 3, 1, 3, 1, 1, 1, 2, 3, 4, 5, 6, 1, 2, 3, 1, 2, 3, 4, 5, 1, 1, 2, 1, 2, 3, 4, 5, 6, 1, 2, 1, 2, 3, 4, 5, 6, 1, 2, 3, 4, 5, 6, 1, 2, 3, 4, 5, 6, 1, 1, 2, 3, 4, 5, 6, 1, 2, 3, 4, 5, 6, 1, 2, 3, 4, 5, 6, 1, 1, 2, 3, 4, 5, 6, 1, 2, 3, 1, 2, 3, 4, 5, 6, 1, 2, 3, 4, 5, 6, 1, 2, 3, 4, 5, 6, 1, 2, 3, 4, 5, 6, 1, 2, 3, 4, 5, 6, 1, 2, 3, 4, 5, 6, 1, 1, 2, 3, 4, 5, 6, 1, 2, 3, 4, 5, 6, 1, 2, 3, 4, 5, 6, 1, 2, 3, 4, 5, 6, 1, 1, 2, 3, 4, 5, 6, 1, 2, 3, 4, 5, 6, 1, 2, 1, 1, 2, 1, 2, 1, 2, 3, 4, 5, 6, 1, 2, 3, 4, 1, 2, 3, 4, 5, 6, 1, 2, 1, 2, 3, 1, 2, 3, 4, 5, 6], \"Freq\": [0.3008863031864166, 0.6017726063728333, 0.34245896339416504, 0.34245896339416504, 0.17122948169708252, 0.17122948169708252, 0.42074742913246155, 0.42074742913246155, 0.2943338453769684, 0.5886676907539368, 0.6863049864768982, 0.36667442321777344, 0.3437572717666626, 0.09166860580444336, 0.09166860580444336, 0.06875145435333252, 0.04583430290222168, 0.5587958097457886, 0.505516767501831, 0.18146754801273346, 0.12961967289447784, 0.07777180522680283, 0.06480983644723892, 0.03888590261340141, 0.3910008668899536, 0.3313566744327545, 0.11928839981555939, 0.053017064929008484, 0.0662713348865509, 0.03976279869675636, 0.4088854193687439, 0.2907629609107971, 0.11812245100736618, 0.06360439956188202, 0.06360439956188202, 0.05451805517077446, 0.32352399826049805, 0.3712570369243622, 0.13789546489715576, 0.058340393006801605, 0.058340393006801605, 0.04773304611444473, 0.38816776871681213, 0.3440577983856201, 0.07939795404672623, 0.06175396218895912, 0.07939795404672623, 0.044109974056482315, 0.5598641037940979, 0.13996602594852448, 0.13996602594852448, 0.4153013527393341, 0.29315388202667236, 0.09771796315908432, 0.07328847050666809, 0.07328847050666809, 0.07328847050666809, 0.6128580570220947, 0.5116150379180908, 0.4035901725292206, 0.2017950862646103, 0.2017950862646103, 0.333711177110672, 0.333711177110672, 0.333711177110672, 0.7631120681762695, 0.3078683018684387, 0.3078683018684387, 0.15393415093421936, 0.15393415093421936, 0.15393415093421936, 0.3892384171485901, 0.39594942331314087, 0.09395410120487213, 0.040266044437885284, 0.046977050602436066, 0.026844030246138573, 0.45510780811309814, 0.20686718821525574, 0.16549374163150787, 0.0620601549744606, 0.0620601549744606, 0.04137343540787697, 0.30079758167266846, 0.4511963725090027, 0.07519939541816711, 0.07519939541816711, 0.07519939541816711, 0.2793484926223755, 0.2793484926223755, 0.0931161642074585, 0.0931161642074585, 0.0931161642074585, 0.0931161642074585, 0.3140832781791687, 0.47112491726875305, 0.15704163908958435, 0.44811293482780457, 0.44811293482780457, 0.2400214672088623, 0.4800429344177246, 0.3582710027694702, 0.2931308150291443, 0.1954205334186554, 0.06514018028974533, 0.06514018028974533, 0.032570090144872665, 0.5268382430076599, 0.3583730459213257, 0.26877978444099426, 0.17918652296066284, 0.08959326148033142, 0.08959326148033142, 0.4206578731536865, 0.329795777797699, 0.10768841952085495, 0.0605747327208519, 0.053844209760427475, 0.023556841537356377, 0.479036808013916, 0.479036808013916, 0.25299787521362305, 0.5059957504272461, 0.34267938137054443, 0.3541020452976227, 0.09138116985559464, 0.09138116985559464, 0.06853587925434113, 0.04569058492779732, 0.31839922070503235, 0.31839922070503235, 0.13266634941101074, 0.10613307356834412, 0.07959980517625809, 0.05306653678417206, 0.3579644560813904, 0.268473356962204, 0.1789822280406952, 0.0894911140203476, 0.4053107798099518, 0.236431285738945, 0.2026553899049759, 0.05066384747624397, 0.05066384747624397, 0.05066384747624397, 0.5548421740531921, 0.20176079869270325, 0.10088039934635162, 0.05044019967317581, 0.05044019967317581, 0.05044019967317581, 0.3632746934890747, 0.3632746934890747, 0.13517197966575623, 0.04224124178290367, 0.06758598983287811, 0.033792994916439056, 0.3423410952091217, 0.3423410952091217, 0.4188377857208252, 0.4188377857208252, 0.35627296566963196, 0.35627296566963196, 0.3874318599700928, 0.2582879066467285, 0.17757293581962585, 0.06457197666168213, 0.06457197666168213, 0.032285988330841064, 0.36555159091949463, 0.32254552841186523, 0.10751517862081528, 0.08601213991641998, 0.04300606995820999, 0.06450910866260529, 0.373378723859787, 0.3446572721004486, 0.08616431802511215, 0.05744288116693497, 0.05744288116693497, 0.05744288116693497, 0.5176727771759033, 0.24521343410015106, 0.10898374766111374, 0.05449187383055687, 0.05449187383055687, 0.027245936915278435, 0.3087569773197174, 0.41167598962783813, 0.10291899740695953, 0.10291899740695953, 0.10291899740695953, 0.5534912347793579, 0.32034027576446533, 0.32034027576446533, 0.13728868961334229, 0.04576289281249046, 0.09152578562498093, 0.09152578562498093, 0.36367741227149963, 0.3939838707447052, 0.08081720769405365, 0.06061290204524994, 0.05051075294613838, 0.05051075294613838, 0.3283403813838959, 0.42684248089790344, 0.09850211441516876, 0.06566807627677917, 0.04925105720758438, 0.03283403813838959, 0.3697257339954376, 0.26408982276916504, 0.21127185225486755, 0.05281796306371689, 0.05281796306371689, 0.05281796306371689, 0.3141788840293884, 0.41890519857406616, 0.10472629964351654, 0.08378104120492935, 0.06283577531576157, 0.041890520602464676, 0.2984614670276642, 0.4690108895301819, 0.08527470380067825, 0.08527470380067825, 0.04263735190033913, 0.04263735190033913, 0.40079590678215027, 0.26719728112220764, 0.13359864056110382, 0.06679932028055191, 0.06679932028055191, 0.06679932028055191, 0.38479071855545044, 0.2779044210910797, 0.12826357781887054, 0.10688631236553192, 0.04275452345609665, 0.04275452345609665, 0.3305988311767578, 0.41759851574897766, 0.10439962893724442, 0.06959974765777588, 0.05219981446862221, 0.03479987382888794, 0.1802404820919037, 0.3604809641838074, 0.1802404820919037, 0.3447311222553253, 0.3447311222553253, 0.4287615120410919, 0.23386991024017334, 0.15591327846050262, 0.07795663923025131, 0.06496386229991913, 0.038978319615125656, 0.5100077390670776, 0.22950348258018494, 0.10200154781341553, 0.057375870645046234, 0.057375870645046234, 0.03825058043003082, 0.5732115507125854, 0.5732115507125854, 0.38515856862068176, 0.26479652523994446, 0.16850687563419342, 0.07221723347902298, 0.04814482107758522, 0.04814482107758522, 0.5031622648239136, 0.3683580160140991, 0.32502177357673645, 0.08667247742414474, 0.10834059119224548, 0.06500435620546341, 0.06500435620546341, 0.4044719338417053, 0.2938741445541382, 0.12007760256528854, 0.06319873780012131, 0.06003880128264427, 0.056878864765167236, 0.4483959376811981, 0.4483959376811981, 0.36568716168403625, 0.2873256504535675, 0.10448204725980759, 0.10448204725980759, 0.07836153358221054, 0.05224102362990379, 0.36091697216033936, 0.32907137274742126, 0.12738245725631714, 0.09022924304008484, 0.058383628726005554, 0.0371532179415226, 0.34171485900878906, 0.392339289188385, 0.11390495300292969, 0.05062442272901535, 0.06328053027391434, 0.03796831890940666, 0.5185683369636536, 0.1814989149570465, 0.15557050704956055, 0.051856834441423416, 0.051856834441423416, 0.051856834441423416, 0.2949107587337494, 0.4423661530017853, 0.11796430498361588, 0.05898215249180794, 0.05898215249180794, 0.02949107624590397, 0.32708045840263367, 0.26166436076164246, 0.19624827802181244, 0.06541609019041061, 0.06541609019041061, 0.06541609019041061, 0.2663767337799072, 0.2663767337799072, 0.2663767337799072, 0.32624301314353943, 0.41945531964302063, 0.09321229159832001, 0.046606145799160004, 0.046606145799160004, 0.046606145799160004, 0.2665582299232483, 0.2665582299232483, 0.5620701909065247, 0.3593260645866394, 0.36387449502944946, 0.11371077597141266, 0.0545811727643013, 0.06367803364992142, 0.05003274232149124, 0.49013596773147583, 0.25006937980651855, 0.10002774745225906, 0.06001665070652962, 0.05001387372612953, 0.040011100471019745, 0.37425699830055237, 0.32582375407218933, 0.1320907026529312, 0.05723930895328522, 0.06164233013987541, 0.04843325912952423, 0.30626294016838074, 0.30626294016838074, 0.20417529344558716, 0.10208764672279358, 0.10208764672279358, 0.327752947807312, 0.327752947807312, 0.6867743134498596, 0.6012887954711914, 0.39429494738578796, 0.27950021624565125, 0.14474119246006012, 0.05490183085203171, 0.08484828472137451, 0.039928603917360306, 0.3659498691558838, 0.3398105800151825, 0.11762674152851105, 0.0522785522043705, 0.0784178301692009, 0.0522785522043705, 0.37001919746398926, 0.37001919746398926, 0.5203802585601807, 0.19514259696006775, 0.10841254889965057, 0.08673004060983658, 0.06504753232002258, 0.04336502030491829, 0.29446470737457275, 0.44169706106185913, 0.14723235368728638, 0.5700095295906067, 0.3862578272819519, 0.3090062737464905, 0.10300208628177643, 0.10300208628177643, 0.051501043140888214, 0.051501043140888214, 0.5344348549842834, 0.2672174274921417, 0.23698940873146057, 0.47397881746292114, 0.11849470436573029, 0.11849470436573029, 0.34656473994255066, 0.39988240599632263, 0.10663530975580215, 0.05331765487790108, 0.05331765487790108, 0.05331765487790108, 0.4875246286392212, 0.4875246286392212, 0.34589067101478577, 0.17294533550739288, 0.17294533550739288, 0.3614406883716583, 0.2891525626182556, 0.1445762813091278, 0.0722881406545639, 0.08433616161346436, 0.03614407032728195, 0.4944509267807007, 0.4944509267807007, 0.40813180804252625, 0.291522741317749, 0.11660908907651901, 0.05101647600531578, 0.08016874641180038, 0.05101647600531578, 0.35797494649887085, 0.3120807111263275, 0.12850382924079895, 0.05507306754589081, 0.09178844839334488, 0.04589422419667244, 0.35441452264785767, 0.26581087708473206, 0.13290543854236603, 0.08860363066196442, 0.04430181533098221, 0.04430181533098221, 0.6587749719619751, 0.2195916622877121, 0.5354856252670288, 0.1338714063167572, 0.1338714063167572, 0.2138659507036209, 0.4277319014072418, 0.2138659507036209, 0.414889395236969, 0.414889395236969, 0.34751054644584656, 0.33475786447525024, 0.15303216874599457, 0.07013974338769913, 0.054198890924453735, 0.04144621267914772, 0.31631648540496826, 0.36150458455085754, 0.11297018080949783, 0.11297018080949783, 0.06778210401535034, 0.04518807306885719, 0.23324759304523468, 0.23324759304523468, 0.23324759304523468, 0.23324759304523468, 0.4152699410915375, 0.31020164489746094, 0.08005203306674957, 0.0750487819314003, 0.07004553079605103, 0.04502927139401436, 0.4780452847480774, 0.232383131980896, 0.11951132118701935, 0.06639517843723297, 0.059755660593509674, 0.03983710706233978, 0.3312070965766907, 0.3312070965766907, 0.16560354828834534, 0.16560354828834534, 0.31348663568496704, 0.39185830950737, 0.10776103287935257, 0.06857520341873169, 0.06857520341873169, 0.03918582946062088, 0.3896866738796234, 0.3306432366371155, 0.11808687448501587, 0.059043437242507935, 0.04723474755883217, 0.059043437242507935, 0.26760879158973694, 0.26760879158973694, 0.26760879158973694, 0.2815273106098175, 0.2815273106098175, 0.7155677080154419, 0.35778385400772095, 0.5370619297027588, 0.2685309648513794, 0.37820106744766235, 0.28365081548690796, 0.18910053372383118, 0.047275133430957794, 0.047275133430957794, 0.047275133430957794, 0.41877487301826477, 0.23451393842697144, 0.13400796055793762, 0.10050597041845322, 0.06700398027896881, 0.05025298520922661, 0.24113579094409943, 0.24113579094409943, 0.24113579094409943, 0.6925112009048462, 0.4794541299343109, 0.4794541299343109, 0.30085667967796326, 0.30085667967796326, 0.22564250230789185, 0.07521416991949081, 0.07521416991949081, 0.07521416991949081, 0.6938286423683167, 0.33971840143203735, 0.33971840143203735, 0.6882641911506653, 0.5172803401947021, 0.2586401700973511, 0.07389719784259796, 0.07389719784259796, 0.03694859892129898, 0.03694859892129898, 0.38997894525527954, 0.19498947262763977, 0.19498947262763977, 0.19498947262763977, 0.7018360495567322, 0.4992879629135132, 0.4992879629135132, 0.476997435092926, 0.2985928952693939, 0.08450742065906525, 0.04882650822401047, 0.05070445314049721, 0.0413147397339344, 0.4241689145565033, 0.30205968022346497, 0.11568243056535721, 0.057841215282678604, 0.05141441524028778, 0.05141441524028778, 0.45598918199539185, 0.26985105872154236, 0.12310723215341568, 0.06795519590377808, 0.04924289509654045, 0.03348516672849655, 0.37929192185401917, 0.23705744743347168, 0.18964596092700958, 0.047411490231752396, 0.09482298046350479, 0.09482298046350479, 0.36750921607017517, 0.29400739073753357, 0.14700369536876678, 0.14700369536876678, 0.07350184768438339, 0.07350184768438339, 0.6641913652420044, 0.34325575828552246, 0.34325575828552246, 0.6350659132003784, 0.21168865263462067, 0.3889557719230652, 0.31116461753845215, 0.15558230876922607, 0.07779115438461304, 0.07779115438461304, 0.07779115438461304, 0.5524927973747253, 0.2071847915649414, 0.1035923957824707, 0.05179619789123535, 0.05179619789123535, 0.034530799835920334, 0.5406162738800049, 0.21624650061130524, 0.10812325030565262, 0.05406162515282631, 0.05406162515282631, 0.03604108467698097, 0.41013965010643005, 0.3234904110431671, 0.12130890786647797, 0.0577661469578743, 0.05198953300714493, 0.04043630138039589, 0.4854433238506317, 0.24272166192531586, 0.08826242387294769, 0.07722961902618408, 0.06619681417942047, 0.044131211936473846, 0.4089936316013336, 0.4089936316013336, 0.24920673668384552, 0.49841347336769104, 0.37691065669059753, 0.3692185878753662, 0.09999670088291168, 0.046152323484420776, 0.061536431312561035, 0.046152323484420776, 0.7085877060890198, 0.45039668679237366, 0.28280720114707947, 0.10474341362714767, 0.04189736396074295, 0.06284604966640472, 0.05237170681357384, 0.3515676259994507, 0.29297301173210144, 0.1171892061829567, 0.05859460309147835, 0.05859460309147835, 0.05859460309147835, 0.4313146471977234, 0.28754308819770813, 0.13723647594451904, 0.05881563574075699, 0.05228056386113167, 0.032675351947546005, 0.46795955300331116, 0.2546250522136688, 0.12387164682149887, 0.061935823410749435, 0.055054064840078354, 0.04129054769873619, 0.7288914918899536, 0.3644457459449768, 0.3948532044887543, 0.3948532044887543, 0.3451046943664551, 0.3019666075706482, 0.10784521698951721, 0.08627617359161377, 0.08627617359161377, 0.06470713019371033, 0.41630688309669495, 0.30276864767074585, 0.09461519867181778, 0.09461519867181778, 0.03784608095884323, 0.05676912143826485, 0.1838027387857437, 0.5514082312583923, 0.1838027387857437, 0.5589410066604614, 0.1863136738538742, 0.11178819835186005, 0.07452546805143356, 0.03726273402571678, 0.03726273402571678, 0.3535240590572357, 0.3156464695930481, 0.1515103131532669, 0.06312929838895798, 0.06312929838895798, 0.03787757828831673, 0.3849773406982422, 0.28873300552368164, 0.09624433517456055, 0.09624433517456055, 0.09624433517456055, 0.09624433517456055, 0.4168838858604431, 0.30601051449775696, 0.11530830711126328, 0.062089089304208755, 0.05321921780705452, 0.039914414286613464, 0.3731372654438019, 0.3072895109653473, 0.10974624752998352, 0.06584774702787399, 0.06584774702787399, 0.06584774702787399, 0.5568157434463501, 0.23863531649112701, 0.07954510301351547, 0.07954510301351547, 0.3412672281265259, 0.3412672281265259, 0.19500984251499176, 0.04875246062874794, 0.04875246062874794, 0.04875246062874794, 0.5086668729782104, 0.24416010081768036, 0.10173337906599045, 0.04069335013628006, 0.04069335013628006, 0.04069335013628006, 0.5517067313194275, 0.18390223383903503, 0.12260149419307709, 0.061300747096538544, 0.061300747096538544, 0.061300747096538544, 0.4153424799442291, 0.3307356834411621, 0.09229832887649536, 0.06922374665737152, 0.05384069308638573, 0.03845763951539993, 0.42726144194602966, 0.2705989181995392, 0.1424204707145691, 0.042726144194602966, 0.07121023535728455, 0.056968189775943756, 0.48643675446510315, 0.214604452252388, 0.1144557073712349, 0.05722785368561745, 0.08584178239107132, 0.05722785368561745, 0.21271082758903503, 0.21271082758903503, 0.21271082758903503, 0.21271082758903503, 0.5613828897476196, 0.25517404079437256, 0.05103480815887451, 0.05103480815887451, 0.05103480815887451, 0.05103480815887451, 0.37472057342529297, 0.18736028671264648, 0.18736028671264648, 0.3360288441181183, 0.3360288441181183, 0.16801442205905914, 0.7139902710914612, 0.39547568559646606, 0.30001604557037354, 0.12273383140563965, 0.08182255178689957, 0.04091127589344978, 0.04091127589344978, 0.40199074149131775, 0.40199074149131775, 0.40199074149131775, 0.39970988035202026, 0.3108854591846466, 0.12689203023910522, 0.05710140988230705, 0.06344601511955261, 0.04441220685839653, 0.281718909740448, 0.563437819480896, 0.6891591548919678, 0.3796313405036926, 0.4745391607284546, 0.09490783512592316, 0.09490783512592316, 0.2863949239253998, 0.2863949239253998, 0.2863949239253998, 0.6702855229377747, 0.3906315565109253, 0.3146754205226898, 0.10850876569747925, 0.054254382848739624, 0.054254382848739624, 0.06510525941848755, 0.3058980405330658, 0.3058980405330658, 0.3058980405330658, 0.31655773520469666, 0.31655773520469666, 0.17892393469810486, 0.0688169002532959, 0.08258028328418732, 0.05505352094769478, 0.6789547801017761, 0.356946736574173, 0.2776252329349518, 0.19830374419689178, 0.0793214961886406, 0.0793214961886406, 0.0396607480943203, 0.4125420153141022, 0.2750279903411865, 0.13222500681877136, 0.06875699758529663, 0.07404600083827972, 0.03702300041913986, 0.6838005185127258, 0.37784382700920105, 0.36481472849845886, 0.1042327731847763, 0.06514548510313034, 0.05211638659238815, 0.04560184106230736, 0.36204636096954346, 0.3833432197570801, 0.12778107821941376, 0.03194526955485344, 0.06389053910970688, 0.03194526955485344, 0.391097754240036, 0.2881773114204407, 0.10292046517133713, 0.10292046517133713, 0.06175227835774422, 0.06175227835774422, 0.3593783378601074, 0.3593783378601074, 0.3675944209098816, 0.33746373653411865, 0.1144966259598732, 0.07833979278802872, 0.04820910468697548, 0.04820910468697548, 0.3654646873474121, 0.2985486388206482, 0.11324258148670197, 0.07721085101366043, 0.09780041128396988, 0.05147390067577362, 0.37347933650016785, 0.3423560559749603, 0.09336983412504196, 0.09336983412504196, 0.06224655732512474, 0.06224655732512474, 0.42105093598365784, 0.2606505751609802, 0.12030026316642761, 0.10025022178888321, 0.08020017296075821, 0.040100086480379105, 0.37723639607429504, 0.21556365489959717, 0.16167274117469788, 0.10778182744979858, 0.05389091372489929, 0.05389091372489929, 0.506578803062439, 0.23765425384044647, 0.1000649482011795, 0.06879465281963348, 0.04377841576933861, 0.04377841576933861, 0.4450826942920685, 0.22254134714603424, 0.34394389390945435, 0.3982508182525635, 0.10861385613679886, 0.0724092423915863, 0.05430692806839943, 0.03620462119579315, 0.28495219349861145, 0.5699043869972229, 0.4823417365550995, 0.3014635741710663, 0.08440980315208435, 0.052253685891628265, 0.04823417216539383, 0.0281366016715765, 0.3365819752216339, 0.2884988486766815, 0.13738039135932922, 0.04808313772082329, 0.12364235520362854, 0.06182117760181427, 0.4692381024360657, 0.27372223138809204, 0.10948888957500458, 0.046923812478780746, 0.05474444478750229, 0.039103176444768906, 0.7400591373443604, 0.3700295686721802, 0.4015880823135376, 0.31234627962112427, 0.1211138665676117, 0.06374414265155792, 0.05099531263113022, 0.05099531263113022, 0.31999483704566956, 0.31999483704566956, 0.31999483704566956, 0.3375864028930664, 0.3289303481578827, 0.17312122881412506, 0.05193636938929558, 0.0692484974861145, 0.043280307203531265, 0.3950752913951874, 0.3646848797798157, 0.09876882284879684, 0.053183212876319885, 0.04558560997247696, 0.04558560997247696, 0.6669668555259705, 0.5517694354057312, 0.2758847177028656, 0.4937666952610016, 0.2761745750904083, 0.10879605263471603, 0.04184463620185852, 0.050213560461997986, 0.025106780230998993, 0.32548484206199646, 0.39058181643486023, 0.11934444308280945, 0.06509696692228317, 0.054247476160526276, 0.04339798167347908, 0.7183677554130554, 0.5684513449668884, 0.2842256724834442, 0.2161714881658554, 0.2161714881658554, 0.2161714881658554, 0.2161714881658554, 0.4785020351409912, 0.3002365827560425, 0.09382393211126328, 0.03752957284450531, 0.04691196605563164, 0.04691196605563164, 0.3129204511642456, 0.3129204511642456, 0.16987109184265137, 0.0894058421254158, 0.06258408725261688, 0.0447029210627079, 0.3306901454925537, 0.29762113094329834, 0.13227605819702148, 0.09920704364776611, 0.09920704364776611, 0.04960352182388306, 0.46464088559150696, 0.276997447013855, 0.11616022139787674, 0.0446770079433918, 0.05361240729689598, 0.03574160486459732, 0.40802180767059326, 0.3332177996635437, 0.10200545191764832, 0.054402906447649, 0.06120327115058899, 0.040802180767059326, 0.38545963168144226, 0.3261581361293793, 0.08895222097635269, 0.059301480650901794, 0.08895222097635269, 0.029650740325450897, 0.47406116127967834, 0.47406116127967834, 0.5021698474884033, 0.2696838080883026, 0.09299442172050476, 0.037197768688201904, 0.037197768688201904, 0.055796653032302856, 0.36860978603363037, 0.3378922939300537, 0.10751118510961533, 0.046076223254203796, 0.09215244650840759, 0.046076223254203796, 0.3431228995323181, 0.38397085666656494, 0.11709749698638916, 0.05991034582257271, 0.0544639527797699, 0.04084796458482742, 0.3617675304412842, 0.3617675304412842, 0.39557334780693054, 0.31004399061203003, 0.10691171884536743, 0.07483819872140884, 0.07483819872140884, 0.053455859422683716, 0.3501701056957245, 0.3761086165904999, 0.11023873090744019, 0.058361683040857315, 0.07781557738780975, 0.03890778869390488, 0.39792174100875854, 0.30429309606552124, 0.1287393867969513, 0.07022148370742798, 0.04681432247161865, 0.058517903089523315, 0.3255452811717987, 0.3255452811717987, 0.16277264058589935, 0.6774806976318359, 0.45180127024650574, 0.45180127024650574, 0.3509492576122284, 0.3509492576122284, 0.3241752088069916, 0.4167966842651367, 0.09262148290872574, 0.04631074145436287, 0.04631074145436287, 0.04631074145436287, 0.720660388469696, 0.360330194234848, 0.359645277261734, 0.3429175913333893, 0.14218534529209137, 0.05854690447449684, 0.05018306151032448, 0.05018306151032448, 0.3633174002170563, 0.33736613392829895, 0.13494646549224854, 0.05190248414874077, 0.06747323274612427, 0.041521988809108734, 0.5796951651573181, 0.5879626870155334, 0.22048600018024445, 0.07349533587694168, 0.07349533587694168, 0.07349533587694168, 0.07349533587694168, 0.7089122533798218, 0.4788762629032135, 0.2612052261829376, 0.08706840872764587, 0.08706840872764587, 0.04353420436382294, 0.08706840872764587, 0.3530409336090088, 0.341652512550354, 0.11388416588306427, 0.07971891760826111, 0.04555366560816765, 0.056942082941532135, 0.4119102954864502, 0.2328188717365265, 0.14327314496040344, 0.10745486617088318, 0.05372743308544159, 0.03581828624010086, 0.7064234614372253, 0.2971152365207672, 0.2971152365207672, 0.1485576182603836, 0.1485576182603836, 0.7151085138320923, 0.35755425691604614, 0.47608035802841187, 0.2423681765794754, 0.1471521109342575, 0.03462402522563934, 0.06924805045127869, 0.03462402522563934, 0.7070908546447754, 0.4541594684123993, 0.4541594684123993, 0.42767083644866943, 0.22809112071990967, 0.16156454384326935, 0.047518983483314514, 0.07603037357330322, 0.05702278017997742, 0.44576185941696167, 0.44576185941696167, 0.37365931272506714, 0.30359819531440735, 0.14012223482131958, 0.04670741409063339, 0.09341482818126678, 0.04670741409063339, 0.6852066516876221, 0.46632009744644165, 0.46632009744644165, 0.5234226584434509, 0.24924889206886292, 0.07477466762065887, 0.02492488920688629, 0.04984977841377258, 0.04984977841377258, 0.36743149161338806, 0.3283919095993042, 0.14926904439926147, 0.05052183195948601, 0.05970761924982071, 0.04592893645167351, 0.39764752984046936, 0.3685513734817505, 0.07758976519107819, 0.04849360138177872, 0.05819232389330864, 0.04849360138177872, 0.5215432047843933, 0.2317969650030136, 0.0965820699930191, 0.0579492412507534, 0.0579492412507534, 0.0386328287422657, 0.3045787811279297, 0.3045787811279297, 0.37066006660461426, 0.37066006660461426, 0.611757218837738, 0.1529393047094345, 0.1529393047094345, 0.3390637934207916, 0.36655545234680176, 0.11913052201271057, 0.054983317852020264, 0.07331109046936035, 0.04581943154335022, 0.6267358064651489, 0.6820127367973328, 0.5683236718177795, 0.22732946276664734, 0.11366473138332367, 0.11366473138332367, 0.4925280809402466, 0.4925280809402466, 0.44092708826065063, 0.44092708826065063, 0.6056511998176575, 0.46990838646888733, 0.46990838646888733, 0.4205593764781952, 0.2803729176521301, 0.12461018562316895, 0.046728819608688354, 0.09345763921737671, 0.046728819608688354, 0.22588950395584106, 0.45177900791168213, 0.5383321046829224, 0.21249952912330627, 0.09916644543409348, 0.0566665381193161, 0.042499903589487076, 0.0566665381193161, 0.4551396071910858, 0.3142630457878113, 0.07585659623146057, 0.05418328568339348, 0.05418328568339348, 0.05418328568339348, 0.7015001773834229, 0.45310351252555847, 0.25891628861427307, 0.12945814430713654, 0.06472907215356827, 0.05663793906569481, 0.04045567288994789, 0.3731842041015625, 0.3376428484916687, 0.1066240519285202, 0.0533120259642601, 0.0888533815741539, 0.0355413518846035, 0.673378586769104, 0.3606283962726593, 0.3262828290462494, 0.17172780632972717, 0.05151833966374397, 0.034345559775829315, 0.034345559775829315, 0.5413354635238647, 0.18044514954090118, 0.6790249943733215, 0.41402995586395264, 0.3122193217277527, 0.0950232669711113, 0.08823589235544205, 0.04751163348555565, 0.0407242588698864, 0.3529857099056244, 0.30886250734329224, 0.13236963748931885, 0.06618481874465942, 0.11030803620815277, 0.04412321373820305, 0.5543484091758728, 0.2771742045879364, 0.24948439002037048, 0.24948439002037048, 0.24948439002037048, 0.24948439002037048, 0.5270515084266663, 0.26352575421333313, 0.26352575421333313, 0.7497912049293518, 0.470511257648468, 0.470511257648468, 0.21285606920719147, 0.42571213841438293, 0.1419040560722351, 0.07095202803611755, 0.07095202803611755, 0.07095202803611755, 0.3099502921104431, 0.4132670760154724, 0.12398011982440948, 0.06199005991220474, 0.06199005991220474, 0.04132670536637306, 0.42304927110671997, 0.2580866515636444, 0.13037367165088654, 0.0665171816945076, 0.07449924200773239, 0.04789236932992935, 0.5135000944137573, 0.20817571878433228, 0.09714867174625397, 0.05551352724432945, 0.08327028900384903, 0.027756763622164726, 0.4805159866809845, 0.22524186968803406, 0.1351451277732849, 0.06006449833512306, 0.05255643650889397, 0.037540312856435776, 0.4451414942741394, 0.2225707471370697, 0.2225707471370697, 0.6988376975059509, 0.7631887793540955, 0.6769346594810486, 0.7033133506774902, 0.2993340492248535, 0.4190676510334015, 0.11973361670970917, 0.059866808354854584, 0.059866808354854584, 0.059866808354854584, 0.26559752225875854, 0.26559752225875854, 0.26559752225875854, 0.348745733499527, 0.4359321892261505, 0.13077965378761292, 0.04359321668744087, 0.04359321668744087, 0.5608262419700623, 0.4356304407119751, 0.4356304407119751, 0.5537151098251343, 0.24225036799907684, 0.06921438872814178, 0.06921438872814178, 0.03460719436407089, 0.03460719436407089, 0.4721548855304718, 0.4721548855304718, 0.25990891456604004, 0.3465452194213867, 0.17327260971069336, 0.04331815242767334, 0.08663630485534668, 0.04331815242767334, 0.5710495710372925, 0.19034986197948456, 0.06344994902610779, 0.06344994902610779, 0.06344994902610779, 0.06344994902610779, 0.4300629198551178, 0.29370149970054626, 0.13636142015457153, 0.052446700632572174, 0.052446700632572174, 0.03671268746256828, 0.6917268633842468, 0.37268248200416565, 0.31534671783447266, 0.11467153578996658, 0.05733576789498329, 0.08600365370512009, 0.05733576789498329, 0.34965431690216064, 0.27972346544265747, 0.11655143648386002, 0.06993086636066437, 0.0932411476969719, 0.06993086636066437, 0.37264207005500793, 0.36417293548583984, 0.11009878665208817, 0.059283964335918427, 0.059283964335918427, 0.03387654945254326, 0.6840000152587891, 0.44163691997528076, 0.2895979881286621, 0.1085992380976677, 0.06515954434871674, 0.05067964643239975, 0.05067964643239975, 0.3551429510116577, 0.3551429510116577, 0.3551429510116577, 0.5039358139038086, 0.25811347365379333, 0.08603782206773758, 0.04916447028517723, 0.06145558878779411, 0.024582235142588615, 0.425319105386734, 0.27065759897232056, 0.15466149151325226, 0.048331715166568756, 0.048331715166568756, 0.048331715166568756, 0.4161267876625061, 0.2912887632846832, 0.1414831131696701, 0.058257751166820526, 0.058257751166820526, 0.03329014405608177, 0.29708996415138245, 0.39611998200416565, 0.09902999550104141, 0.09902999550104141, 0.09902999550104141, 0.09902999550104141, 0.4693624675273895, 0.27794647216796875, 0.11799614876508713, 0.04457632452249527, 0.04719845950603485, 0.04457632452249527, 0.44699376821517944, 0.2503165006637573, 0.11621838063001633, 0.06257912516593933, 0.0804588794708252, 0.03575950115919113, 0.6919865608215332, 0.41132596135139465, 0.3322248160839081, 0.07910114526748657, 0.09492137283086777, 0.047460686415433884, 0.047460686415433884, 0.3606736958026886, 0.37378913164138794, 0.09836556017398834, 0.06557703763246536, 0.05246163159608841, 0.045903924852609634, 0.32708480954170227, 0.32708480954170227, 0.13468196988105774, 0.07696112990379333, 0.09620141237974167, 0.057720847427845, 0.34965217113494873, 0.2860790491104126, 0.1430395245552063, 0.0953596830368042, 0.06357312202453613, 0.0476798415184021, 0.5601018071174622, 0.5018964409828186, 0.27501174807548523, 0.09625411033630371, 0.048127055168151855, 0.041251759976148605, 0.041251759976148605, 0.39351633191108704, 0.3148130476474762, 0.12929822504520416, 0.06183828040957451, 0.06183828040957451, 0.03372997045516968, 0.5662996172904968, 0.2831498086452484, 0.6797173023223877, 0.5485026836395264, 0.2742513418197632, 0.39085620641708374, 0.39085620641708374, 0.4524235129356384, 0.2262117564678192, 0.1413823515176773, 0.0565529391169548, 0.0848294124007225, 0.04241470620036125, 0.5445543527603149, 0.27227717638015747, 0.13613858819007874, 0.13613858819007874, 0.45070889592170715, 0.2503938376903534, 0.11518116295337677, 0.06510239839553833, 0.07511815428733826, 0.03505513817071915, 0.5159474015235901, 0.5159474015235901, 0.5515737533569336, 0.18385791778564453, 0.18385791778564453, 0.4111861288547516, 0.2294992208480835, 0.15299949049949646, 0.07649974524974823, 0.06693727523088455, 0.057374805212020874], \"Term\": [\"1817\", \"1817\", \"1905\", \"1905\", \"1905\", \"1905\", \"acquistala\", \"acquistala\", \"adelina\", \"adelina\", \"aitoaiolleo\", \"alessandro\", \"alessandro\", \"alessandro\", \"alessandro\", \"alessandro\", \"alessandro\", \"altissime\", \"alto\", \"alto\", \"alto\", \"alto\", \"alto\", \"alto\", \"altro\", \"altro\", \"altro\", \"altro\", \"altro\", \"altro\", \"america\", \"america\", \"america\", \"america\", \"america\", \"america\", \"americano\", \"americano\", \"americano\", \"americano\", \"americano\", \"americano\", \"andare\", \"andare\", \"andare\", \"andare\", \"andare\", \"andare\", \"apostolo\", \"apostolo\", \"apostolo\", \"aprile\", \"aprile\", \"aprile\", \"aprile\", \"aprile\", \"aprile\", \"armoiir\", \"armour\", \"attentato\", \"attentato\", \"attentato\", \"autopsia\", \"autopsia\", \"autopsia\", \"available\", \"avanzato\", \"avanzato\", \"avanzato\", \"avanzato\", \"avanzato\", \"avvenire\", \"avvenire\", \"avvenire\", \"avvenire\", \"avvenire\", \"avvenire\", \"azione\", \"azione\", \"azione\", \"azione\", \"azione\", \"azione\", \"baciare\", \"baciare\", \"baciare\", \"baciare\", \"baciare\", \"bambino\", \"bambino\", \"bambino\", \"bambino\", \"bambino\", \"bambino\", \"barile\", \"barile\", \"barile\", \"benemerenza\", \"benemerenza\", \"benicia\", \"benicia\", \"cadavere\", \"cadavere\", \"cadavere\", \"cadavere\", \"cadavere\", \"cadavere\", \"campello\", \"carcere\", \"carcere\", \"carcere\", \"carcere\", \"carcere\", \"cardinale\", \"cardinale\", \"cardinale\", \"cardinale\", \"cardinale\", \"cardinale\", \"carroz\", \"carroz\", \"cartellone\", \"cartellone\", \"causare\", \"causare\", \"causare\", \"causare\", \"causare\", \"causare\", \"cercare\", \"cercare\", \"cercare\", \"cercare\", \"cercare\", \"cercare\", \"certamente\", \"certamente\", \"certamente\", \"certamente\", \"chiamare\", \"chiamare\", \"chiamare\", \"chiamare\", \"chiamare\", \"chiamare\", \"chiaro\", \"chiaro\", \"chiaro\", \"chiaro\", \"chiaro\", \"chiaro\", \"chiesa\", \"chiesa\", \"chiesa\", \"chiesa\", \"chiesa\", \"chiesa\", \"ciliegia\", \"ciliegia\", \"cinghia\", \"cinghia\", \"cipriani\", \"cipriani\", \"circulation\", \"circulation\", \"circulation\", \"circulation\", \"circulation\", \"circulation\", \"cittadino\", \"cittadino\", \"cittadino\", \"cittadino\", \"cittadino\", \"cittadino\", \"colare\", \"colare\", \"colare\", \"colare\", \"colare\", \"colare\", \"colla\", \"colla\", \"colla\", \"colla\", \"colla\", \"colla\", \"colono\", \"colono\", \"colono\", \"colono\", \"colono\", \"colter\", \"concorrere\", \"concorrere\", \"concorrere\", \"concorrere\", \"concorrere\", \"concorrere\", \"condizione\", \"condizione\", \"condizione\", \"condizione\", \"condizione\", \"condizione\", \"condurre\", \"condurre\", \"condurre\", \"condurre\", \"condurre\", \"condurre\", \"confliggere\", \"confliggere\", \"confliggere\", \"confliggere\", \"confliggere\", \"confliggere\", \"conoscere\", \"conoscere\", \"conoscere\", \"conoscere\", \"conoscere\", \"conoscere\", \"contadino\", \"contadino\", \"contadino\", \"contadino\", \"contadino\", \"contadino\", \"contea\", \"contea\", \"contea\", \"contea\", \"contea\", \"contea\", \"continuare\", \"continuare\", \"continuare\", \"continuare\", \"continuare\", \"continuare\", \"continuo\", \"continuo\", \"continuo\", \"continuo\", \"continuo\", \"continuo\", \"contrario\", \"contrario\", \"contrario\", \"corridoio\", \"corridoio\", \"cosa\", \"cosa\", \"cosa\", \"cosa\", \"cosa\", \"cosa\", \"costare\", \"costare\", \"costare\", \"costare\", \"costare\", \"costare\", \"cristia\", \"cristia\", \"cuore\", \"cuore\", \"cuore\", \"cuore\", \"cuore\", \"cuore\", \"czai\", \"czar\", \"czar\", \"czar\", \"czar\", \"czar\", \"czar\", \"daily\", \"daily\", \"daily\", \"daily\", \"daily\", \"daily\", \"damascare\", \"damascare\", \"danno\", \"danno\", \"danno\", \"danno\", \"danno\", \"danno\", \"dare\", \"dare\", \"dare\", \"dare\", \"dare\", \"dare\", \"dato\", \"dato\", \"dato\", \"dato\", \"dato\", \"dato\", \"defunto\", \"defunto\", \"defunto\", \"defunto\", \"defunto\", \"defunto\", \"delitto\", \"delitto\", \"delitto\", \"delitto\", \"delitto\", \"delitto\", \"destro\", \"destro\", \"destro\", \"destro\", \"destro\", \"destro\", \"diagnosi\", \"diagnosi\", \"diagnosi\", \"difficile\", \"difficile\", \"difficile\", \"difficile\", \"difficile\", \"difficile\", \"diga\", \"diga\", \"dimoile\", \"dire\", \"dire\", \"dire\", \"dire\", \"dire\", \"dire\", \"dirigere\", \"dirigere\", \"dirigere\", \"dirigere\", \"dirigere\", \"dirigere\", \"dispaccio\", \"dispaccio\", \"dispaccio\", \"dispaccio\", \"dispaccio\", \"dispaccio\", \"disposto\", \"disposto\", \"disposto\", \"disposto\", \"disposto\", \"distruzione\", \"distruzione\", \"dlnpacclo\", \"dogmatico\", \"dovere\", \"dovere\", \"dovere\", \"dovere\", \"dovere\", \"dovere\", \"ebreo\", \"ebreo\", \"ebreo\", \"ebreo\", \"ebreo\", \"ebreo\", \"epicureo\", \"epicureo\", \"esprimere\", \"esprimere\", \"esprimere\", \"esprimere\", \"esprimere\", \"esprimere\", \"estrarre\", \"estrarre\", \"estrarre\", \"etri\", \"evans\", \"evans\", \"evans\", \"evans\", \"evans\", \"evans\", \"favoloso\", \"favoloso\", \"ferrari\", \"ferrari\", \"ferrari\", \"ferrari\", \"ferrovia\", \"ferrovia\", \"ferrovia\", \"ferrovia\", \"ferrovia\", \"ferrovia\", \"festosamente\", \"festosamente\", \"fleming\", \"fleming\", \"fleming\", \"follare\", \"follare\", \"follare\", \"follare\", \"follare\", \"follare\", \"foscolo\", \"foscolo\", \"francese\", \"francese\", \"francese\", \"francese\", \"francese\", \"francese\", \"francia\", \"francia\", \"francia\", \"francia\", \"francia\", \"francia\", \"frate\", \"frate\", \"frate\", \"frate\", \"frate\", \"frate\", \"freno\", \"freno\", \"fucile\", \"fucile\", \"fucile\", \"fugazy\", \"fugazy\", \"fugazy\", \"gioire\", \"gioire\", \"giornale\", \"giornale\", \"giornale\", \"giornale\", \"giornale\", \"giornale\", \"giornata\", \"giornata\", \"giornata\", \"giornata\", \"giornata\", \"giornata\", \"gondola\", \"gondola\", \"gondola\", \"gondola\", \"gran\", \"gran\", \"gran\", \"gran\", \"gran\", \"gran\", \"grande\", \"grande\", \"grande\", \"grande\", \"grande\", \"grande\", \"gravare\", \"gravare\", \"gravare\", \"gravare\", \"grave\", \"grave\", \"grave\", \"grave\", \"grave\", \"grave\", \"guerra\", \"guerra\", \"guerra\", \"guerra\", \"guerra\", \"guerra\", \"guida\", \"guida\", \"guida\", \"herbert\", \"herbert\", \"immig\", \"immig\", \"immigrazio\", \"immigrazio\", \"impedire\", \"impedire\", \"impedire\", \"impedire\", \"impedire\", \"impedire\", \"importare\", \"importare\", \"importare\", \"importare\", \"importare\", \"importare\", \"inaudito\", \"inaudito\", \"inaudito\", \"incisio\", \"inconcludente\", \"inconcludente\", \"indigeno\", \"indigeno\", \"indigeno\", \"indigeno\", \"indigeno\", \"indigeno\", \"inerititi\", \"insolazione\", \"insolazione\", \"integrale\", \"interesse\", \"interesse\", \"interesse\", \"interesse\", \"interesse\", \"interesse\", \"interpellanza\", \"interpellanza\", \"interpellanza\", \"interpellanza\", \"involtare\", \"isacco\", \"isacco\", \"italia\", \"italia\", \"italia\", \"italia\", \"italia\", \"italia\", \"italian\", \"italian\", \"italian\", \"italian\", \"italian\", \"italian\", \"italiano\", \"italiano\", \"italiano\", \"italiano\", \"italiano\", \"italiano\", \"italo\", \"italo\", \"italo\", \"italo\", \"italo\", \"italo\", \"kansas\", \"kansas\", \"kansas\", \"kansas\", \"kansas\", \"kansas\", \"kerso\", \"klscineff\", \"klscineff\", \"krupp\", \"krupp\", \"lato\", \"lato\", \"lato\", \"lato\", \"lato\", \"lato\", \"lavoratore\", \"lavoratore\", \"lavoratore\", \"lavoratore\", \"lavoratore\", \"lavoratore\", \"lavoro\", \"lavoro\", \"lavoro\", \"lavoro\", \"lavoro\", \"lavoro\", \"leggere\", \"leggere\", \"leggere\", \"leggere\", \"leggere\", \"leggere\", \"leone\", \"leone\", \"leone\", \"leone\", \"leone\", \"leone\", \"lexington\", \"lexington\", \"lokal\", \"lokal\", \"lottare\", \"lottare\", \"lottare\", \"lottare\", \"lottare\", \"lottare\", \"lugent\", \"luglio\", \"luglio\", \"luglio\", \"luglio\", \"luglio\", \"luglio\", \"macedonia\", \"macedonia\", \"macedonia\", \"macedonia\", \"macedonia\", \"macedonia\", \"maggio\", \"maggio\", \"maggio\", \"maggio\", \"maggio\", \"maggio\", \"mano\", \"mano\", \"mano\", \"mano\", \"mano\", \"mano\", \"manovale\", \"manovale\", \"mantenersi\", \"mantenersi\", \"marino\", \"marino\", \"marino\", \"marino\", \"marino\", \"marino\", \"market\", \"market\", \"market\", \"market\", \"market\", \"market\", \"matematico\", \"matematico\", \"matematico\", \"mattina\", \"mattina\", \"mattina\", \"mattina\", \"mattina\", \"mattina\", \"mattino\", \"mattino\", \"mattino\", \"mattino\", \"mattino\", \"mattino\", \"mediare\", \"mediare\", \"mediare\", \"mediare\", \"mediare\", \"mediare\", \"mentire\", \"mentire\", \"mentire\", \"mentire\", \"mentire\", \"mentire\", \"mento\", \"mento\", \"mento\", \"mento\", \"mento\", \"mento\", \"mercantile\", \"mercantile\", \"mercantile\", \"mercantile\", \"meritare\", \"meritare\", \"meritare\", \"meritare\", \"meritare\", \"meritare\", \"mese\", \"mese\", \"mese\", \"mese\", \"mese\", \"mese\", \"metro\", \"metro\", \"metro\", \"metro\", \"metro\", \"metro\", \"mettere\", \"mettere\", \"mettere\", \"mettere\", \"mettere\", \"mettere\", \"militare\", \"militare\", \"militare\", \"militare\", \"militare\", \"militare\", \"ministero\", \"ministero\", \"ministero\", \"ministero\", \"ministero\", \"ministero\", \"mirabile\", \"mirabile\", \"mirabile\", \"mirabile\", \"miro\", \"miro\", \"miro\", \"miro\", \"miro\", \"miro\", \"mischiare\", \"mischiare\", \"mischiare\", \"mlles\", \"mlles\", \"mlles\", \"mlnt\", \"molto\", \"molto\", \"molto\", \"molto\", \"molto\", \"molto\", \"moreno\", \"moreno\", \"moreno\", \"morto\", \"morto\", \"morto\", \"morto\", \"morto\", \"morto\", \"mosca\", \"mosca\", \"mummia\", \"mutare\", \"mutare\", \"mutare\", \"mutare\", \"namente\", \"namente\", \"namente\", \"napoletano\", \"napoli\", \"napoli\", \"napoli\", \"napoli\", \"napoli\", \"napoli\", \"nardo\", \"nardo\", \"nardo\", \"nazione\", \"nazione\", \"nazione\", \"nazione\", \"nazione\", \"nazione\", \"nclabolato\", \"nero\", \"nero\", \"nero\", \"nero\", \"nero\", \"nero\", \"nome\", \"nome\", \"nome\", \"nome\", \"nome\", \"nome\", \"nondutt\", \"notizia\", \"notizia\", \"notizia\", \"notizia\", \"notizia\", \"notizia\", \"noto\", \"noto\", \"noto\", \"noto\", \"noto\", \"noto\", \"notte\", \"notte\", \"notte\", \"notte\", \"notte\", \"notte\", \"nozze\", \"nozze\", \"numerare\", \"numerare\", \"numerare\", \"numerare\", \"numerare\", \"numerare\", \"nuovo\", \"nuovo\", \"nuovo\", \"nuovo\", \"nuovo\", \"nuovo\", \"occupare\", \"occupare\", \"occupare\", \"occupare\", \"occupare\", \"occupare\", \"offrire\", \"offrire\", \"offrire\", \"offrire\", \"offrire\", \"offrire\", \"only\", \"only\", \"only\", \"only\", \"only\", \"only\", \"operare\", \"operare\", \"operare\", \"operare\", \"operare\", \"operare\", \"osaka\", \"osaka\", \"paese\", \"paese\", \"paese\", \"paese\", \"paese\", \"paese\", \"paolina\", \"paolina\", \"papa\", \"papa\", \"papa\", \"papa\", \"papa\", \"papa\", \"parigi\", \"parigi\", \"parigi\", \"parigi\", \"parigi\", \"parigi\", \"parlare\", \"parlare\", \"parlare\", \"parlare\", \"parlare\", \"parlare\", \"pastore\", \"pastore\", \"patrio\", \"patrio\", \"patrio\", \"patrio\", \"patrio\", \"patrio\", \"patriottismo\", \"patriottismo\", \"patriottismo\", \"patrizio\", \"patrizio\", \"patrizio\", \"patrizio\", \"patrizio\", \"patrizio\", \"perch\\u00e8\", \"perch\\u00e8\", \"perch\\u00e8\", \"perch\\u00e8\", \"perch\\u00e8\", \"perch\\u00e8\", \"petracco\", \"piaz\", \"piaz\", \"pietro\", \"pietro\", \"pietro\", \"pietro\", \"pietro\", \"pietro\", \"piroscafo\", \"piroscafo\", \"piroscafo\", \"piroscafo\", \"piroscafo\", \"piroscafo\", \"pirosi\", \"placidamente\", \"placidamente\", \"plebe\", \"plebe\", \"plebe\", \"plebe\", \"poco\", \"poco\", \"poco\", \"poco\", \"poco\", \"poco\", \"politico\", \"politico\", \"politico\", \"politico\", \"politico\", \"politico\", \"polizia\", \"polizia\", \"polizia\", \"polizia\", \"polizia\", \"polizia\", \"pontefice\", \"pontefice\", \"pontefice\", \"pontefice\", \"pontefice\", \"pontefice\", \"popolare\", \"popolare\", \"popolare\", \"popolare\", \"popolare\", \"popolare\", \"popolo\", \"popolo\", \"popolo\", \"popolo\", \"popolo\", \"popolo\", \"port\", \"port\", \"porto\", \"porto\", \"porto\", \"porto\", \"porto\", \"porto\", \"potenza\", \"potenza\", \"potenza\", \"potenza\", \"potenza\", \"potenza\", \"potere\", \"potere\", \"potere\", \"potere\", \"potere\", \"potere\", \"precursore\", \"precursore\", \"prendere\", \"prendere\", \"prendere\", \"prendere\", \"prendere\", \"prendere\", \"presidente\", \"presidente\", \"presidente\", \"presidente\", \"presidente\", \"presidente\", \"pressare\", \"pressare\", \"pressare\", \"pressare\", \"pressare\", \"pressare\", \"prinetti\", \"prinetti\", \"prinetti\", \"promissio\", \"proporsi\", \"proporsi\", \"prose\", \"prose\", \"proteggere\", \"proteggere\", \"proteggere\", \"proteggere\", \"proteggere\", \"proteggere\", \"provenienza\", \"provenienza\", \"pubblicare\", \"pubblicare\", \"pubblicare\", \"pubblicare\", \"pubblicare\", \"pubblicare\", \"quotidiano\", \"quotidiano\", \"quotidiano\", \"quotidiano\", \"quotidiano\", \"quotidiano\", \"raffermare\", \"rapidamente\", \"rapidamente\", \"rapidamente\", \"rapidamente\", \"rapidamente\", \"rapidamente\", \"ravviluddarsi\", \"razza\", \"razza\", \"razza\", \"razza\", \"razza\", \"razza\", \"regina\", \"regina\", \"regina\", \"regina\", \"regina\", \"regina\", \"relazione\", \"relazione\", \"relazione\", \"relazione\", \"relazione\", \"relazione\", \"renziale\", \"repub\", \"repub\", \"repub\", \"repub\", \"rhode\", \"rhode\", \"ricevere\", \"ricevere\", \"ricevere\", \"ricevere\", \"ricevere\", \"ricevere\", \"ricostrui\", \"riformista\", \"riformista\", \"rimanere\", \"rimanere\", \"rimanere\", \"rimanere\", \"rimanere\", \"rimanere\", \"rimodernare\", \"rimodernare\", \"ritornare\", \"ritornare\", \"ritornare\", \"ritornare\", \"ritornare\", \"ritornare\", \"ritrovato\", \"rivincita\", \"rivincita\", \"rivoluzione\", \"rivoluzione\", \"rivoluzione\", \"rivoluzione\", \"rivoluzione\", \"rivoluzione\", \"roma\", \"roma\", \"roma\", \"roma\", \"roma\", \"roma\", \"russia\", \"russia\", \"russia\", \"russia\", \"russia\", \"russia\", \"sacro\", \"sacro\", \"sacro\", \"sacro\", \"sacro\", \"sacro\", \"saggezza\", \"saggezza\", \"saggiare\", \"saggiare\", \"salariare\", \"salariare\", \"salariare\", \"sapere\", \"sapere\", \"sapere\", \"sapere\", \"sapere\", \"sapere\", \"saziet\\u00e0\", \"seminarista\", \"separato\", \"separato\", \"separato\", \"separato\", \"serico\", \"serico\", \"severino\", \"severino\", \"side\", \"sidney\", \"sidney\", \"signore\", \"signore\", \"signore\", \"signore\", \"signore\", \"signore\", \"sima\", \"sima\", \"socialisto\", \"socialisto\", \"socialisto\", \"socialisto\", \"socialisto\", \"socialisto\", \"societ\\u00e0\", \"societ\\u00e0\", \"societ\\u00e0\", \"societ\\u00e0\", \"societ\\u00e0\", \"societ\\u00e0\", \"sofferenza\", \"solo\", \"solo\", \"solo\", \"solo\", \"solo\", \"solo\", \"sovrano\", \"sovrano\", \"sovrano\", \"sovrano\", \"sovrano\", \"sovrano\", \"spazzlnl\", \"specialmente\", \"specialmente\", \"specialmente\", \"specialmente\", \"specialmente\", \"specialmente\", \"staio\", \"staio\", \"stamani\", \"states\", \"states\", \"states\", \"states\", \"states\", \"states\", \"storia\", \"storia\", \"storia\", \"storia\", \"storia\", \"storia\", \"strasburgo\", \"strasburgo\", \"strenna\", \"strenna\", \"strenna\", \"strenna\", \"strisele\", \"strisele\", \"strisele\", \"superstizioso\", \"suppliziare\", \"suppliziare\", \"suscitare\", \"suscitare\", \"suscitare\", \"suscitare\", \"suscitare\", \"suscitare\", \"telegrafare\", \"telegrafare\", \"telegrafare\", \"telegrafare\", \"telegrafare\", \"telegrafare\", \"telegrafico\", \"telegrafico\", \"telegrafico\", \"telegrafico\", \"telegrafico\", \"telegrafico\", \"telegramma\", \"telegramma\", \"telegramma\", \"telegramma\", \"telegramma\", \"telegramma\", \"tenere\", \"tenere\", \"tenere\", \"tenere\", \"tenere\", \"tenere\", \"tero\", \"tero\", \"tero\", \"terrltory\", \"text\", \"titano\", \"tivlste\", \"togliere\", \"togliere\", \"togliere\", \"togliere\", \"togliere\", \"togliere\", \"tolo\", \"tolo\", \"tolo\", \"tolstoi\", \"tolstoi\", \"tolstoi\", \"tolstoi\", \"tolstoi\", \"tonili\", \"topcka\", \"topcka\", \"totale\", \"totale\", \"totale\", \"totale\", \"totale\", \"totale\", \"trafiggere\", \"trafiggere\", \"trionfare\", \"trionfare\", \"trionfare\", \"trionfare\", \"trionfare\", \"trionfare\", \"troppo\", \"troppo\", \"troppo\", \"troppo\", \"troppo\", \"troppo\", \"trovare\", \"trovare\", \"trovare\", \"trovare\", \"trovare\", \"trovare\", \"tunismo\", \"turare\", \"turare\", \"turare\", \"turare\", \"turare\", \"turare\", \"ucciso\", \"ucciso\", \"ucciso\", \"ucciso\", \"ucciso\", \"ucciso\", \"ufficiale\", \"ufficiale\", \"ufficiale\", \"ufficiale\", \"ufficiale\", \"ufficiale\", \"umidit\\u00e0\", \"unito\", \"unito\", \"unito\", \"unito\", \"unito\", \"unito\", \"uoma\", \"uoma\", \"uoma\", \"uomini\", \"uomini\", \"uomini\", \"uomini\", \"uomini\", \"uomini\", \"vaticano\", \"vaticano\", \"vaticano\", \"vaticano\", \"vaticano\", \"vaticano\", \"vedere\", \"vedere\", \"vedere\", \"vedere\", \"vedere\", \"vedere\", \"vendetta\", \"vendetta\", \"vendetta\", \"vendetta\", \"vendetta\", \"vendetta\", \"venire\", \"venire\", \"venire\", \"venire\", \"venire\", \"venire\", \"vero\", \"vero\", \"vero\", \"vero\", \"vero\", \"vero\", \"vespertino\", \"vienna\", \"vienna\", \"vienna\", \"vienna\", \"vienna\", \"vienna\", \"visitare\", \"visitare\", \"visitare\", \"visitare\", \"visitare\", \"visitare\", \"vittima\", \"vittima\", \"vittima\", \"vittima\", \"vittima\", \"vittima\", \"vittorio\", \"vittorio\", \"vittorio\", \"vittorio\", \"vittorio\", \"vittorio\", \"viverci\", \"vivo\", \"vivo\", \"vivo\", \"vivo\", \"vivo\", \"vivo\", \"volere\", \"volere\", \"volere\", \"volere\", \"volere\", \"volere\", \"volgendosi\", \"volgendosi\", \"voluzionarii\", \"wallace\", \"wallace\", \"waterbury\", \"waterbury\", \"western\", \"western\", \"western\", \"western\", \"western\", \"western\", \"xlll\", \"xlll\", \"xlll\", \"xlll\", \"york\", \"york\", \"york\", \"york\", \"york\", \"york\", \"zelanda\", \"zelanda\", \"zionali\", \"zionali\", \"zionali\", \"zione\", \"zione\", \"zione\", \"zione\", \"zione\", \"zione\"]}, \"R\": 30, \"lambda.step\": 0.01, \"plot.opts\": {\"xlab\": \"PC1\", \"ylab\": \"PC2\"}, \"topic.order\": [1, 5, 3, 6, 4, 2]};\n",
              "\n",
              "function LDAvis_load_lib(url, callback){\n",
              "  var s = document.createElement('script');\n",
              "  s.src = url;\n",
              "  s.async = true;\n",
              "  s.onreadystatechange = s.onload = callback;\n",
              "  s.onerror = function(){console.warn(\"failed to load library \" + url);};\n",
              "  document.getElementsByTagName(\"head\")[0].appendChild(s);\n",
              "}\n",
              "\n",
              "if(typeof(LDAvis) !== \"undefined\"){\n",
              "   // already loaded: just create the visualization\n",
              "   !function(LDAvis){\n",
              "       new LDAvis(\"#\" + \"ldavis_el1221399448258159527297097026\", ldavis_el1221399448258159527297097026_data);\n",
              "   }(LDAvis);\n",
              "}else if(typeof define === \"function\" && define.amd){\n",
              "   // require.js is available: use it to load d3/LDAvis\n",
              "   require.config({paths: {d3: \"https://cdnjs.cloudflare.com/ajax/libs/d3/3.5.5/d3.min\"}});\n",
              "   require([\"d3\"], function(d3){\n",
              "      window.d3 = d3;\n",
              "      LDAvis_load_lib(\"https://cdn.rawgit.com/bmabey/pyLDAvis/files/ldavis.v1.0.0.js\", function(){\n",
              "        new LDAvis(\"#\" + \"ldavis_el1221399448258159527297097026\", ldavis_el1221399448258159527297097026_data);\n",
              "      });\n",
              "    });\n",
              "}else{\n",
              "    // require.js not available: dynamically load d3 & LDAvis\n",
              "    LDAvis_load_lib(\"https://cdnjs.cloudflare.com/ajax/libs/d3/3.5.5/d3.min.js\", function(){\n",
              "         LDAvis_load_lib(\"https://cdn.rawgit.com/bmabey/pyLDAvis/files/ldavis.v1.0.0.js\", function(){\n",
              "                 new LDAvis(\"#\" + \"ldavis_el1221399448258159527297097026\", ldavis_el1221399448258159527297097026_data);\n",
              "            })\n",
              "         });\n",
              "}\n",
              "</script>"
            ],
            "text/plain": [
              "PreparedData(topic_coordinates=              x         y  topics  cluster       Freq\n",
              "topic                                                \n",
              "0     -0.004698  0.000878       1        1  40.318825\n",
              "4     -0.001931  0.000777       2        1  30.218828\n",
              "2     -0.000880  0.001946       3        1  11.978460\n",
              "5      0.000043 -0.005219       4        1   6.552164\n",
              "3      0.004223  0.002364       5        1   6.319992\n",
              "1      0.003243 -0.000746       6        1   4.611743, topic_info=             Term         Freq        Total Category  logprob  loglift\n",
              "270      italiano  1015.000000  1015.000000  Default  30.0000  30.0000\n",
              "855     dispaccio   454.000000   454.000000  Default  29.0000  29.0000\n",
              "1409  telegrafico   375.000000   375.000000  Default  28.0000  28.0000\n",
              "1301         roma   435.000000   435.000000  Default  27.0000  27.0000\n",
              "269        italia   532.000000   532.000000  Default  26.0000  26.0000\n",
              "...           ...          ...          ...      ...      ...      ...\n",
              "1096        morto     6.713906   157.614319   Topic6  -6.7794  -0.0794\n",
              "280       leggere     6.801168   173.111771   Topic6  -6.7665  -0.1603\n",
              "1988         papa     7.250473   248.786270   Topic6  -6.7025  -0.4590\n",
              "3831    cardinale     7.458726   297.153595   Topic6  -6.6742  -0.6083\n",
              "137          dare     6.703487   188.408981   Topic6  -6.7810  -0.2594\n",
              "\n",
              "[564 rows x 6 columns], token_table=       Topic      Freq   Term\n",
              "term                         \n",
              "13604      1  0.300886   1817\n",
              "13604      2  0.601773   1817\n",
              "628        1  0.342459   1905\n",
              "628        2  0.342459   1905\n",
              "628        3  0.171229   1905\n",
              "...      ...       ...    ...\n",
              "625        2  0.229499  zione\n",
              "625        3  0.152999  zione\n",
              "625        4  0.076500  zione\n",
              "625        5  0.066937  zione\n",
              "625        6  0.057375  zione\n",
              "\n",
              "[1426 rows x 3 columns], R=30, lambda_step=0.01, plot_opts={'xlab': 'PC1', 'ylab': 'PC2'}, topic_order=[1, 5, 3, 6, 4, 2])"
            ]
          },
          "metadata": {
            "tags": []
          },
          "execution_count": 40
        }
      ]
    },
    {
      "cell_type": "markdown",
      "metadata": {
        "id": "jMh299U-Qowi",
        "colab_type": "text"
      },
      "source": [
        "### 2.2.3 LDA with Mallet"
      ]
    },
    {
      "cell_type": "code",
      "metadata": {
        "id": "TNMEMY3LaQQ-",
        "colab_type": "code",
        "colab": {}
      },
      "source": [
        "%%capture\n",
        "ldamallet = gensim.models.wrappers.LdaMallet(mallet_path, corpus=corpus, num_topics=numtopics, id2word=id2word)"
      ],
      "execution_count": 0,
      "outputs": []
    },
    {
      "cell_type": "code",
      "metadata": {
        "id": "I7VpXA0cahdM",
        "colab_type": "code",
        "outputId": "3f06c041-b4bc-44bc-b392-f48561518164",
        "colab": {
          "base_uri": "https://localhost:8080/",
          "height": 241
        }
      },
      "source": [
        "ldamallet.print_topics()"
      ],
      "execution_count": 104,
      "outputs": [
        {
          "output_type": "execute_result",
          "data": {
            "text/plain": [
              "[(0,\n",
              "  '0.009*\"leggere\" + 0.008*\"potere\" + 0.005*\"dovere\" + 0.005*\"popolare\" + 0.005*\"società\" + 0.005*\"diritto\" + 0.005*\"comune\" + 0.004*\"volere\" + 0.004*\"sociale\" + 0.004*\"credere\"'),\n",
              " (1,\n",
              "  '0.018*\"dispaccio\" + 0.017*\"italiano\" + 0.014*\"telegrafico\" + 0.008*\"parigi\" + 0.008*\"italia\" + 0.008*\"daily\" + 0.005*\"ufficiale\" + 0.005*\"states\" + 0.005*\"dovere\" + 0.005*\"francese\"'),\n",
              " (2,\n",
              "  '0.013*\"roma\" + 0.011*\"giornale\" + 0.008*\"presidente\" + 0.008*\"maggio\" + 0.008*\"italiano\" + 0.005*\"patrio\" + 0.005*\"visitare\" + 0.005*\"patrizio\" + 0.005*\"fatto\" + 0.005*\"quotidiano\"'),\n",
              " (3,\n",
              "  '0.008*\"venire\" + 0.007*\"giugno\" + 0.006*\"rimanere\" + 0.006*\"trovare\" + 0.006*\"camera\" + 0.006*\"regina\" + 0.006*\"causare\" + 0.005*\"grave\" + 0.005*\"mentire\" + 0.004*\"ministero\"'),\n",
              " (4,\n",
              "  '0.015*\"italiano\" + 0.013*\"italia\" + 0.008*\"potere\" + 0.007*\"unito\" + 0.006*\"york\" + 0.006*\"operare\" + 0.006*\"grande\" + 0.006*\"marconi\" + 0.006*\"numerare\" + 0.005*\"dare\"'),\n",
              " (5,\n",
              "  '0.018*\"cardinale\" + 0.014*\"papa\" + 0.011*\"italiano\" + 0.007*\"chiesa\" + 0.007*\"roma\" + 0.007*\"pontefice\" + 0.007*\"vaticano\" + 0.006*\"venire\" + 0.006*\"pietro\" + 0.006*\"leone\"')]"
            ]
          },
          "metadata": {
            "tags": []
          },
          "execution_count": 104
        }
      ]
    },
    {
      "cell_type": "code",
      "metadata": {
        "id": "kynzdwnA1tKY",
        "colab_type": "code",
        "colab": {}
      },
      "source": [
        "ldamallet_to_gensim = gensim.models.wrappers.ldamallet.malletmodel2ldamodel(ldamallet)"
      ],
      "execution_count": 0,
      "outputs": []
    },
    {
      "cell_type": "markdown",
      "metadata": {
        "id": "SSL1PF6zRcft",
        "colab_type": "text"
      },
      "source": [
        "## 2.3 Topic Coherence\n",
        "Topic Coherence measures score of a single topic by measuring the degree of semantic similarity between high scoring words in the topic. https://towardsdatascience.com/evaluate-topic-model-in-python-latent-dirichlet-allocation-lda-7d57484bb5d0"
      ]
    },
    {
      "cell_type": "code",
      "metadata": {
        "id": "GX69kVo-ssrV",
        "colab_type": "code",
        "colab": {}
      },
      "source": [
        "from gensim.models.coherencemodel import CoherenceModel"
      ],
      "execution_count": 0,
      "outputs": []
    },
    {
      "cell_type": "markdown",
      "metadata": {
        "id": "JrAOlaIXSUvb",
        "colab_type": "text"
      },
      "source": [
        "### 2.3.1 Coherence score LDA Gensim"
      ]
    },
    {
      "cell_type": "code",
      "metadata": {
        "id": "XVMfqVqZSbeJ",
        "colab_type": "code",
        "outputId": "9e0bbd1e-fb31-4b65-d983-45a97f57121b",
        "colab": {
          "base_uri": "https://localhost:8080/",
          "height": 51
        }
      },
      "source": [
        "coherence_model_ldagensim = CoherenceModel(model=ldagensim, texts=lemmatized_corpus, dictionary=id2word, coherence='c_v')\n",
        "coherence_ldagensim = coherence_model_ldagensim.get_coherence()\n",
        "print('\\nCoherence Score LDA Gensim: ', coherence_ldagensim)"
      ],
      "execution_count": 44,
      "outputs": [
        {
          "output_type": "stream",
          "text": [
            "\n",
            "Coherence Score LDA Gensim:  0.2956729627974289\n"
          ],
          "name": "stdout"
        }
      ]
    },
    {
      "cell_type": "markdown",
      "metadata": {
        "id": "9S5nI7YiSACT",
        "colab_type": "text"
      },
      "source": [
        "### 2.3.1 Coherence score LDA Mallet\n"
      ]
    },
    {
      "cell_type": "code",
      "metadata": {
        "id": "KmPJGdnHsafA",
        "colab_type": "code",
        "outputId": "68b7d2fd-e7b4-40d3-a366-528d63dfdb26",
        "colab": {
          "base_uri": "https://localhost:8080/",
          "height": 51
        }
      },
      "source": [
        "coherence_model_ldamallet = CoherenceModel(model=ldamallet, texts=lemmatized_corpus, dictionary=id2word, coherence='c_v')\n",
        "coherence_ldamallet = coherence_model_ldamallet.get_coherence()\n",
        "print('\\nCoherence Score LDA MAllet: ', coherence_ldamallet)"
      ],
      "execution_count": 45,
      "outputs": [
        {
          "output_type": "stream",
          "text": [
            "\n",
            "Coherence Score LDA MAllet:  0.37112841217829806\n"
          ],
          "name": "stdout"
        }
      ]
    },
    {
      "cell_type": "markdown",
      "metadata": {
        "id": "pjImnk4wAh4u",
        "colab_type": "text"
      },
      "source": [
        "## 2.4 Coherence and number of topics"
      ]
    },
    {
      "cell_type": "markdown",
      "metadata": {
        "colab_type": "text",
        "id": "-C8GGNUoGAuf"
      },
      "source": [
        "### 2.4.1 LDA Gensim"
      ]
    },
    {
      "cell_type": "code",
      "metadata": {
        "colab_type": "code",
        "id": "lWD51u4PGAuh",
        "outputId": "794f244d-30fc-4522-a53f-b5da47aff287",
        "colab": {
          "base_uri": "https://localhost:8080/",
          "height": 323
        }
      },
      "source": [
        "#can take a long time to run\n",
        "topics_nr = []\n",
        "coherence_values_gensim = []\n",
        "for num_topics in range(2, 20):\n",
        "  model = models.LdaModel(corpus, id2word=id2word, num_topics=num_topics)\n",
        "  coherencemodel = CoherenceModel(model=model, texts=lemmatized_corpus, dictionary=id2word, coherence='c_v')\n",
        "  coherence_value = coherencemodel.get_coherence()\n",
        "  coherence_values_gensim.append(coherence_value)\n",
        "  topics_nr.append(str(num_topics))\n",
        "  print(\"Num Topics =\", num_topics, \" has Coherence Value of\", round(coherence_value,4))"
      ],
      "execution_count": 0,
      "outputs": [
        {
          "output_type": "stream",
          "text": [
            "Num Topics = 2  has Coherence Value of 0.281\n",
            "Num Topics = 3  has Coherence Value of 0.2965\n",
            "Num Topics = 4  has Coherence Value of 0.2863\n",
            "Num Topics = 5  has Coherence Value of 0.2953\n",
            "Num Topics = 6  has Coherence Value of 0.2978\n",
            "Num Topics = 7  has Coherence Value of 0.2851\n",
            "Num Topics = 8  has Coherence Value of 0.2928\n",
            "Num Topics = 9  has Coherence Value of 0.2903\n",
            "Num Topics = 10  has Coherence Value of 0.291\n",
            "Num Topics = 11  has Coherence Value of 0.2934\n",
            "Num Topics = 12  has Coherence Value of 0.2953\n",
            "Num Topics = 13  has Coherence Value of 0.2879\n",
            "Num Topics = 14  has Coherence Value of 0.2893\n",
            "Num Topics = 15  has Coherence Value of 0.2931\n",
            "Num Topics = 16  has Coherence Value of 0.2859\n",
            "Num Topics = 17  has Coherence Value of 0.2893\n",
            "Num Topics = 18  has Coherence Value of 0.287\n",
            "Num Topics = 19  has Coherence Value of 0.2891\n"
          ],
          "name": "stdout"
        }
      ]
    },
    {
      "cell_type": "code",
      "metadata": {
        "colab_type": "code",
        "id": "H2NSeh81GAur",
        "colab": {}
      },
      "source": [
        "# Visualize coherence scores\n",
        "import matplotlib.pyplot as plt"
      ],
      "execution_count": 0,
      "outputs": []
    },
    {
      "cell_type": "code",
      "metadata": {
        "colab_type": "code",
        "outputId": "1134abff-837a-4968-9d32-2ad8732f7468",
        "id": "YdA1u15bGAut",
        "colab": {
          "base_uri": "https://localhost:8080/",
          "height": 282
        }
      },
      "source": [
        "plt.plot(topics_nr, coherence_values_gensim)"
      ],
      "execution_count": 0,
      "outputs": [
        {
          "output_type": "execute_result",
          "data": {
            "text/plain": [
              "[<matplotlib.lines.Line2D at 0x7f44f2815898>]"
            ]
          },
          "metadata": {
            "tags": []
          },
          "execution_count": 73
        },
        {
          "output_type": "display_data",
          "data": {
            "image/png": "[encoded data removed]",
            "text/plain": [
              "<Figure size 432x288 with 1 Axes>"
            ]
          },
          "metadata": {
            "tags": [],
            "needs_background": "light"
          }
        }
      ]
    },
    {
      "cell_type": "code",
      "metadata": {
        "colab_type": "code",
        "id": "28j3eHrRGAuv",
        "colab": {}
      },
      "source": [
        "# To analyse the results, the user can print the list of topics for different topic nr"
      ],
      "execution_count": 0,
      "outputs": []
    },
    {
      "cell_type": "code",
      "metadata": {
        "colab_type": "code",
        "outputId": "dda34c63-05d3-44c2-94bd-a8a02d69da19",
        "id": "Cg6OgRt7GAuy",
        "colab": {
          "base_uri": "https://localhost:8080/",
          "height": 241
        }
      },
      "source": [
        "# print topics for nr of topics = 6\n",
        "numtopics = 6\n",
        "models.LdaModel(corpus, id2word=id2word, num_topics=numtopics).print_topics()"
      ],
      "execution_count": 0,
      "outputs": [
        {
          "output_type": "execute_result",
          "data": {
            "text/plain": [
              "[(0,\n",
              "  '0.006*\"italiano\" + 0.003*\"daily\" + 0.003*\"roma\" + 0.003*\"giornale\" + 0.003*\"italia\" + 0.003*\"dispaccio\" + 0.003*\"telegrafico\" + 0.002*\"potere\" + 0.002*\"venire\" + 0.002*\"cardinale\"'),\n",
              " (1,\n",
              "  '0.006*\"italiano\" + 0.004*\"roma\" + 0.003*\"italia\" + 0.003*\"potere\" + 0.003*\"daily\" + 0.003*\"telegrafico\" + 0.002*\"dispaccio\" + 0.002*\"giornale\" + 0.002*\"dire\" + 0.002*\"venire\"'),\n",
              " (2,\n",
              "  '0.005*\"italiano\" + 0.004*\"italia\" + 0.004*\"dispaccio\" + 0.003*\"telegrafico\" + 0.003*\"potere\" + 0.003*\"venire\" + 0.003*\"roma\" + 0.002*\"daily\" + 0.002*\"mentire\" + 0.002*\"giornale\"'),\n",
              " (3,\n",
              "  '0.010*\"italiano\" + 0.004*\"italia\" + 0.004*\"roma\" + 0.004*\"dispaccio\" + 0.004*\"telegrafico\" + 0.003*\"cardinale\" + 0.003*\"venire\" + 0.003*\"daily\" + 0.003*\"giornale\" + 0.003*\"potere\"'),\n",
              " (4,\n",
              "  '0.008*\"italiano\" + 0.005*\"dispaccio\" + 0.004*\"italia\" + 0.004*\"roma\" + 0.003*\"telegrafico\" + 0.003*\"venire\" + 0.003*\"giornale\" + 0.002*\"potere\" + 0.002*\"daily\" + 0.002*\"papa\"'),\n",
              " (5,\n",
              "  '0.008*\"italiano\" + 0.004*\"italia\" + 0.004*\"potere\" + 0.003*\"dispaccio\" + 0.003*\"venire\" + 0.003*\"roma\" + 0.003*\"giornale\" + 0.002*\"telegrafico\" + 0.002*\"quotidiano\" + 0.002*\"daily\"')]"
            ]
          },
          "metadata": {
            "tags": []
          },
          "execution_count": 82
        }
      ]
    },
    {
      "cell_type": "markdown",
      "metadata": {
        "id": "FazsvYeYDxo0",
        "colab_type": "text"
      },
      "source": [
        "### 2.4.2 LDA Mallet"
      ]
    },
    {
      "cell_type": "code",
      "metadata": {
        "id": "BnliBI5FTBDd",
        "colab_type": "code",
        "outputId": "36f80fe4-6374-4e59-9fbd-c866188cb678",
        "colab": {
          "base_uri": "https://localhost:8080/",
          "height": 377
        }
      },
      "source": [
        "#can take a long time to run\n",
        "topics_nr = []\n",
        "coherence_values_mallet = []\n",
        "for num_topics in range(2, 20):\n",
        "  model = gensim.models.wrappers.LdaMallet(mallet_path, corpus=corpus, num_topics=num_topics, id2word=id2word)\n",
        "  coherencemodel = CoherenceModel(model=model, texts=lemmatized_corpus, dictionary=id2word, coherence='c_v')\n",
        "  coherence_value = coherencemodel.get_coherence()\n",
        "  coherence_values_mallet.append(coherence_value)\n",
        "  topics_nr.append(str(num_topics))\n",
        "  print(\"Num Topics =\", num_topics, \" has Coherence Value of\", round(coherence_value,4))"
      ],
      "execution_count": 0,
      "outputs": [
        {
          "output_type": "stream",
          "text": [
            "/usr/local/lib/python3.6/dist-packages/smart_open/smart_open_lib.py:253: UserWarning: This function is deprecated, use smart_open.open instead. See the migration notes for details: https://github.com/RaRe-Technologies/smart_open/blob/master/README.rst#migrating-to-the-new-open-function\n",
            "  'See the migration notes for details: %s' % _MIGRATION_NOTES_URL\n"
          ],
          "name": "stderr"
        },
        {
          "output_type": "stream",
          "text": [
            "Num Topics = 2  has Coherence Value of 0.3151\n",
            "Num Topics = 3  has Coherence Value of 0.3448\n",
            "Num Topics = 4  has Coherence Value of 0.3766\n",
            "Num Topics = 5  has Coherence Value of 0.3834\n",
            "Num Topics = 6  has Coherence Value of 0.385\n",
            "Num Topics = 7  has Coherence Value of 0.3609\n",
            "Num Topics = 8  has Coherence Value of 0.3768\n",
            "Num Topics = 9  has Coherence Value of 0.3961\n",
            "Num Topics = 10  has Coherence Value of 0.4011\n",
            "Num Topics = 11  has Coherence Value of 0.3986\n",
            "Num Topics = 12  has Coherence Value of 0.3765\n",
            "Num Topics = 13  has Coherence Value of 0.3752\n",
            "Num Topics = 14  has Coherence Value of 0.3879\n",
            "Num Topics = 15  has Coherence Value of 0.3665\n",
            "Num Topics = 16  has Coherence Value of 0.3467\n",
            "Num Topics = 17  has Coherence Value of 0.3683\n",
            "Num Topics = 18  has Coherence Value of 0.36\n",
            "Num Topics = 19  has Coherence Value of 0.3692\n"
          ],
          "name": "stdout"
        }
      ]
    },
    {
      "cell_type": "code",
      "metadata": {
        "id": "oIso5UpAMk02",
        "colab_type": "code",
        "outputId": "fab51fcc-9251-49b4-d67a-58c7ff2a06ee",
        "colab": {
          "base_uri": "https://localhost:8080/",
          "height": 282
        }
      },
      "source": [
        "plt.plot(topics_nr, coherence_values_mallet)"
      ],
      "execution_count": 0,
      "outputs": [
        {
          "output_type": "execute_result",
          "data": {
            "text/plain": [
              "[<matplotlib.lines.Line2D at 0x7f44ef4509b0>]"
            ]
          },
          "metadata": {
            "tags": []
          },
          "execution_count": 87
        },
        {
          "output_type": "display_data",
          "data": {
            "image/png": "[encoded data removed]",
            "text/plain": [
              "<Figure size 432x288 with 1 Axes>"
            ]
          },
          "metadata": {
            "tags": [],
            "needs_background": "light"
          }
        }
      ]
    },
    {
      "cell_type": "code",
      "metadata": {
        "id": "zaRiYNAlQKY6",
        "colab_type": "code",
        "colab": {}
      },
      "source": [
        "# To analyse the results, the user can print the list of topics for different topic nr"
      ],
      "execution_count": 0,
      "outputs": []
    },
    {
      "cell_type": "code",
      "metadata": {
        "id": "JiK6edH3RA4G",
        "colab_type": "code",
        "outputId": "5e5872de-104d-40a0-fde9-8027d7aeb891",
        "colab": {
          "base_uri": "https://localhost:8080/",
          "height": 411
        }
      },
      "source": [
        "# print topics for nr of topics = 10\n",
        "numtopics = 10\n",
        "gensim.models.wrappers.LdaMallet(mallet_path, corpus=corpus, num_topics=numtopics, id2word=id2word).print_topics()"
      ],
      "execution_count": 0,
      "outputs": [
        {
          "output_type": "stream",
          "text": [
            "/usr/local/lib/python3.6/dist-packages/smart_open/smart_open_lib.py:253: UserWarning: This function is deprecated, use smart_open.open instead. See the migration notes for details: https://github.com/RaRe-Technologies/smart_open/blob/master/README.rst#migrating-to-the-new-open-function\n",
            "  'See the migration notes for details: %s' % _MIGRATION_NOTES_URL\n"
          ],
          "name": "stderr"
        },
        {
          "output_type": "execute_result",
          "data": {
            "text/plain": [
              "[(0,\n",
              "  '0.009*\"notizia\" + 0.008*\"daily\" + 0.007*\"piccolo\" + 0.007*\"follare\" + 0.007*\"lira\" + 0.007*\"solo\" + 0.007*\"sera\" + 0.006*\"altro\" + 0.006*\"gran\" + 0.006*\"prossimo\"'),\n",
              " (1,\n",
              "  '0.019*\"dispaccio\" + 0.017*\"telegrafico\" + 0.010*\"mentire\" + 0.009*\"roma\" + 0.009*\"potere\" + 0.006*\"morto\" + 0.005*\"zione\" + 0.005*\"correre\" + 0.005*\"giugno\" + 0.005*\"vero\"'),\n",
              " (2,\n",
              "  '0.007*\"americano\" + 0.007*\"york\" + 0.007*\"dirigere\" + 0.006*\"italia\" + 0.006*\"ebreo\" + 0.006*\"commerciare\" + 0.006*\"genova\" + 0.006*\"piroscafo\" + 0.006*\"vapore\" + 0.005*\"russia\"'),\n",
              " (3,\n",
              "  '0.028*\"italiano\" + 0.014*\"venire\" + 0.012*\"potere\" + 0.011*\"trovare\" + 0.010*\"daily\" + 0.010*\"dire\" + 0.010*\"quotidiano\" + 0.009*\"italia\" + 0.008*\"italian\" + 0.008*\"parere\"'),\n",
              " (4,\n",
              "  '0.015*\"italiano\" + 0.009*\"regina\" + 0.007*\"venire\" + 0.007*\"camera\" + 0.006*\"politico\" + 0.006*\"serbia\" + 0.006*\"italia\" + 0.006*\"vivo\" + 0.005*\"belgrado\" + 0.005*\"ufficiale\"'),\n",
              " (5,\n",
              "  '0.012*\"leggere\" + 0.007*\"lottare\" + 0.007*\"potere\" + 0.007*\"sociale\" + 0.006*\"lavoratore\" + 0.006*\"popolare\" + 0.006*\"società\" + 0.005*\"classe\" + 0.005*\"dovere\" + 0.005*\"diritto\"'),\n",
              " (6,\n",
              "  '0.019*\"giornale\" + 0.018*\"italiano\" + 0.011*\"maggio\" + 0.008*\"italia\" + 0.008*\"inglese\" + 0.007*\"patrio\" + 0.007*\"vedere\" + 0.006*\"operare\" + 0.006*\"scrivere\" + 0.006*\"scoprire\"'),\n",
              " (7,\n",
              "  '0.015*\"italiano\" + 0.009*\"unito\" + 0.008*\"operare\" + 0.007*\"condizione\" + 0.007*\"grande\" + 0.007*\"italia\" + 0.006*\"numerare\" + 0.006*\"giornale\" + 0.006*\"gran\" + 0.005*\"avvenire\"'),\n",
              " (8,\n",
              "  '0.031*\"cardinale\" + 0.025*\"papa\" + 0.015*\"roma\" + 0.012*\"pontefice\" + 0.010*\"chiesa\" + 0.010*\"nome\" + 0.010*\"leone\" + 0.010*\"xiii\" + 0.010*\"conclave\" + 0.010*\"vaticano\"'),\n",
              " (9,\n",
              "  '0.014*\"roma\" + 0.012*\"dispaccio\" + 0.010*\"telegrafico\" + 0.009*\"francia\" + 0.008*\"italiano\" + 0.008*\"visitare\" + 0.008*\"italia\" + 0.008*\"marconi\" + 0.007*\"parigi\" + 0.006*\"nazione\"')]"
            ]
          },
          "metadata": {
            "tags": []
          },
          "execution_count": 88
        }
      ]
    },
    {
      "cell_type": "markdown",
      "metadata": {
        "id": "Tn70q1uGWx40",
        "colab_type": "text"
      },
      "source": [
        "# Topic distribution"
      ]
    },
    {
      "cell_type": "markdown",
      "metadata": {
        "id": "G-nJuD7-XCyf",
        "colab_type": "text"
      },
      "source": [
        "## 3.1. Gensim"
      ]
    },
    {
      "cell_type": "markdown",
      "metadata": {
        "id": "tJQWcQhLXN0A",
        "colab_type": "text"
      },
      "source": [
        "### 3.1.1. Distribution per topic and per document"
      ]
    },
    {
      "cell_type": "code",
      "metadata": {
        "id": "uCv_Yd4LXNCs",
        "colab_type": "code",
        "colab": {}
      },
      "source": [
        "%%capture\n",
        "numtopics = 6\n",
        "ldamodel = models.LdaModel(corpus, num_topics=numtopics, id2word = id2word, minimum_probability=0)"
      ],
      "execution_count": 0,
      "outputs": []
    },
    {
      "cell_type": "code",
      "metadata": {
        "id": "4Ev971D4W42k",
        "colab_type": "code",
        "colab": {}
      },
      "source": [
        "distribution = pd.DataFrame(index=[i for i in range(len(corpus))],columns=[f'topic{i}' for i in range(numtopics)])"
      ],
      "execution_count": 0,
      "outputs": []
    },
    {
      "cell_type": "code",
      "metadata": {
        "id": "wnwP-6RTXcFb",
        "colab_type": "code",
        "colab": {}
      },
      "source": [
        "for i in range(len(corpus)):\n",
        "  row = [list(j)[1] for j in ldamodel[corpus[i]]] \n",
        "  distribution.loc[i] = row"
      ],
      "execution_count": 0,
      "outputs": []
    },
    {
      "cell_type": "code",
      "metadata": {
        "id": "nuNjFvpSXf33",
        "colab_type": "code",
        "colab": {}
      },
      "source": [
        "# add file name\n",
        "distribution.insert(0, 'document_path', sources['file_name'])"
      ],
      "execution_count": 0,
      "outputs": []
    },
    {
      "cell_type": "code",
      "metadata": {
        "id": "UN5EDiq4Xjeq",
        "colab_type": "code",
        "outputId": "03d23299-3c20-4ce0-e520-66f19e7b01b8",
        "colab": {
          "base_uri": "https://localhost:8080/",
          "height": 419
        }
      },
      "source": [
        "distribution"
      ],
      "execution_count": 50,
      "outputs": [
        {
          "output_type": "execute_result",
          "data": {
            "text/html": [
              "<div>\n",
              "<style scoped>\n",
              "    .dataframe tbody tr th:only-of-type {\n",
              "        vertical-align: middle;\n",
              "    }\n",
              "\n",
              "    .dataframe tbody tr th {\n",
              "        vertical-align: top;\n",
              "    }\n",
              "\n",
              "    .dataframe thead th {\n",
              "        text-align: right;\n",
              "    }\n",
              "</style>\n",
              "<table border=\"1\" class=\"dataframe\">\n",
              "  <thead>\n",
              "    <tr style=\"text-align: right;\">\n",
              "      <th></th>\n",
              "      <th>document_path</th>\n",
              "      <th>topic0</th>\n",
              "      <th>topic1</th>\n",
              "      <th>topic2</th>\n",
              "      <th>topic3</th>\n",
              "      <th>topic4</th>\n",
              "      <th>topic5</th>\n",
              "    </tr>\n",
              "  </thead>\n",
              "  <tbody>\n",
              "    <tr>\n",
              "      <th>0</th>\n",
              "      <td>2012271201_1903-08-01_ed-1_seq-1_ocr.txt</td>\n",
              "      <td>0.000223515</td>\n",
              "      <td>0.394424</td>\n",
              "      <td>0.603971</td>\n",
              "      <td>0.000934326</td>\n",
              "      <td>0.000223446</td>\n",
              "      <td>0.000223448</td>\n",
              "    </tr>\n",
              "    <tr>\n",
              "      <th>1</th>\n",
              "      <td>sn85066408_1903-06-22_ed-1_seq-1_ocr.txt</td>\n",
              "      <td>0.137688</td>\n",
              "      <td>0.15079</td>\n",
              "      <td>0.442622</td>\n",
              "      <td>0.268655</td>\n",
              "      <td>0.000122894</td>\n",
              "      <td>0.000122844</td>\n",
              "    </tr>\n",
              "    <tr>\n",
              "      <th>2</th>\n",
              "      <td>sn85066408_1903-06-19_ed-1_seq-1_ocr.txt</td>\n",
              "      <td>0.0252591</td>\n",
              "      <td>0.962672</td>\n",
              "      <td>0.000121861</td>\n",
              "      <td>0.00916961</td>\n",
              "      <td>0.000121882</td>\n",
              "      <td>0.00265559</td>\n",
              "    </tr>\n",
              "    <tr>\n",
              "      <th>3</th>\n",
              "      <td>sn85066408_1903-05-30_ed-1_seq-1_ocr.txt</td>\n",
              "      <td>0.005801</td>\n",
              "      <td>0.000138544</td>\n",
              "      <td>0.000138499</td>\n",
              "      <td>0.993645</td>\n",
              "      <td>0.000138616</td>\n",
              "      <td>0.000138445</td>\n",
              "    </tr>\n",
              "    <tr>\n",
              "      <th>4</th>\n",
              "      <td>2012271201_1903-07-18_ed-1_seq-1_ocr.txt</td>\n",
              "      <td>0.000221806</td>\n",
              "      <td>0.255294</td>\n",
              "      <td>0.107488</td>\n",
              "      <td>0.636553</td>\n",
              "      <td>0.000221791</td>\n",
              "      <td>0.00022177</td>\n",
              "    </tr>\n",
              "    <tr>\n",
              "      <th>...</th>\n",
              "      <td>...</td>\n",
              "      <td>...</td>\n",
              "      <td>...</td>\n",
              "      <td>...</td>\n",
              "      <td>...</td>\n",
              "      <td>...</td>\n",
              "      <td>...</td>\n",
              "    </tr>\n",
              "    <tr>\n",
              "      <th>95</th>\n",
              "      <td>sn85066408_1903-07-03_ed-1_seq-1_ocr.txt</td>\n",
              "      <td>0.000106379</td>\n",
              "      <td>0.000106388</td>\n",
              "      <td>0.000106508</td>\n",
              "      <td>0.999468</td>\n",
              "      <td>0.00010635</td>\n",
              "      <td>0.000106341</td>\n",
              "    </tr>\n",
              "    <tr>\n",
              "      <th>96</th>\n",
              "      <td>sn85066408_1903-08-06_ed-1_seq-1_ocr.txt</td>\n",
              "      <td>0.907267</td>\n",
              "      <td>0.00013225</td>\n",
              "      <td>0.000132354</td>\n",
              "      <td>0.000132397</td>\n",
              "      <td>0.00013233</td>\n",
              "      <td>0.0922035</td>\n",
              "    </tr>\n",
              "    <tr>\n",
              "      <th>97</th>\n",
              "      <td>sn85066408_1903-05-25_ed-1_seq-1_ocr.txt</td>\n",
              "      <td>0.0466253</td>\n",
              "      <td>0.730955</td>\n",
              "      <td>0.000109255</td>\n",
              "      <td>0.222092</td>\n",
              "      <td>0.000109304</td>\n",
              "      <td>0.000109251</td>\n",
              "    </tr>\n",
              "    <tr>\n",
              "      <th>98</th>\n",
              "      <td>sn85066408_1903-07-09_ed-1_seq-1_ocr.txt</td>\n",
              "      <td>0.453023</td>\n",
              "      <td>0.000111651</td>\n",
              "      <td>0.000111716</td>\n",
              "      <td>0.0428541</td>\n",
              "      <td>0.000111685</td>\n",
              "      <td>0.503788</td>\n",
              "    </tr>\n",
              "    <tr>\n",
              "      <th>99</th>\n",
              "      <td>sn85066408_1903-08-03_ed-1_seq-1_ocr.txt</td>\n",
              "      <td>0.000105627</td>\n",
              "      <td>0.000105591</td>\n",
              "      <td>0.0222444</td>\n",
              "      <td>0.0202538</td>\n",
              "      <td>0.000105478</td>\n",
              "      <td>0.957185</td>\n",
              "    </tr>\n",
              "  </tbody>\n",
              "</table>\n",
              "<p>100 rows × 7 columns</p>\n",
              "</div>"
            ],
            "text/plain": [
              "                               document_path  ...       topic5\n",
              "0   2012271201_1903-08-01_ed-1_seq-1_ocr.txt  ...  0.000223448\n",
              "1   sn85066408_1903-06-22_ed-1_seq-1_ocr.txt  ...  0.000122844\n",
              "2   sn85066408_1903-06-19_ed-1_seq-1_ocr.txt  ...   0.00265559\n",
              "3   sn85066408_1903-05-30_ed-1_seq-1_ocr.txt  ...  0.000138445\n",
              "4   2012271201_1903-07-18_ed-1_seq-1_ocr.txt  ...   0.00022177\n",
              "..                                       ...  ...          ...\n",
              "95  sn85066408_1903-07-03_ed-1_seq-1_ocr.txt  ...  0.000106341\n",
              "96  sn85066408_1903-08-06_ed-1_seq-1_ocr.txt  ...    0.0922035\n",
              "97  sn85066408_1903-05-25_ed-1_seq-1_ocr.txt  ...  0.000109251\n",
              "98  sn85066408_1903-07-09_ed-1_seq-1_ocr.txt  ...     0.503788\n",
              "99  sn85066408_1903-08-03_ed-1_seq-1_ocr.txt  ...     0.957185\n",
              "\n",
              "[100 rows x 7 columns]"
            ]
          },
          "metadata": {
            "tags": []
          },
          "execution_count": 50
        }
      ]
    },
    {
      "cell_type": "markdown",
      "metadata": {
        "id": "Q1EdarG6YJFp",
        "colab_type": "text"
      },
      "source": [
        "### 3.1.2. Distribution per topic for the whole corpus"
      ]
    },
    {
      "cell_type": "code",
      "metadata": {
        "id": "I8pgB8b8X3we",
        "colab_type": "code",
        "outputId": "5a1549e7-60cb-4a2b-bdc6-f6e094c2f53e",
        "colab": {
          "base_uri": "https://localhost:8080/",
          "height": 241
        }
      },
      "source": [
        "topics = []\n",
        "topic_weights = []\n",
        "for i in range(len(distribution.columns)-1):\n",
        "  topic_weight = round(sum(distribution.iloc[:,i+1]),2)\n",
        "  topic_weights.append(topic_weight)\n",
        "  print( f'topic {i}: {topic_weight}%' )\n",
        "  topic = ldamodel.print_topics()[i][1]\n",
        "  topics.append(i)\n",
        "  print( f'terms: {topic} ')"
      ],
      "execution_count": 65,
      "outputs": [
        {
          "output_type": "stream",
          "text": [
            "topic 0: 12.33%\n",
            "terms: 0.007*\"italiano\" + 0.005*\"dispaccio\" + 0.004*\"roma\" + 0.003*\"italia\" + 0.003*\"telegrafico\" + 0.003*\"potere\" + 0.003*\"daily\" + 0.003*\"giornale\" + 0.002*\"venire\" + 0.002*\"cardinale\" \n",
            "topic 1: 12.49%\n",
            "terms: 0.007*\"italiano\" + 0.004*\"italia\" + 0.003*\"dispaccio\" + 0.003*\"telegrafico\" + 0.003*\"roma\" + 0.003*\"daily\" + 0.002*\"giornale\" + 0.002*\"venire\" + 0.002*\"potere\" + 0.002*\"nuovo\" \n",
            "topic 2: 11.2%\n",
            "terms: 0.007*\"italiano\" + 0.004*\"potere\" + 0.004*\"dispaccio\" + 0.003*\"italia\" + 0.003*\"telegrafico\" + 0.003*\"venire\" + 0.003*\"daily\" + 0.003*\"giornale\" + 0.002*\"roma\" + 0.002*\"cardinale\" \n",
            "topic 3: 41.29%\n",
            "terms: 0.008*\"italiano\" + 0.005*\"roma\" + 0.004*\"italia\" + 0.003*\"venire\" + 0.003*\"dispaccio\" + 0.003*\"telegrafico\" + 0.003*\"cardinale\" + 0.003*\"giornale\" + 0.002*\"potere\" + 0.002*\"daily\" \n",
            "topic 4: 6.54%\n",
            "terms: 0.006*\"italiano\" + 0.004*\"italia\" + 0.004*\"roma\" + 0.003*\"dispaccio\" + 0.003*\"potere\" + 0.003*\"venire\" + 0.003*\"telegrafico\" + 0.003*\"giornale\" + 0.002*\"daily\" + 0.002*\"dovere\" \n",
            "topic 5: 16.15%\n",
            "terms: 0.009*\"italiano\" + 0.004*\"dispaccio\" + 0.004*\"telegrafico\" + 0.003*\"italia\" + 0.003*\"potere\" + 0.003*\"venire\" + 0.003*\"roma\" + 0.003*\"cardinale\" + 0.003*\"daily\" + 0.002*\"dire\" \n"
          ],
          "name": "stdout"
        }
      ]
    },
    {
      "cell_type": "code",
      "metadata": {
        "id": "KBwF9mpuvtWF",
        "colab_type": "code",
        "colab": {}
      },
      "source": [
        "# dataframe with values to sort them by order of importance\n",
        "distribution_df = pd.DataFrame(topic_weights, columns=['weight'])"
      ],
      "execution_count": 0,
      "outputs": []
    },
    {
      "cell_type": "code",
      "metadata": {
        "id": "jqRdWxvrx6d5",
        "colab_type": "code",
        "colab": {}
      },
      "source": [
        "distribution_df['topics'] = topics"
      ],
      "execution_count": 0,
      "outputs": []
    },
    {
      "cell_type": "code",
      "metadata": {
        "id": "ibNoUroJzipD",
        "colab_type": "code",
        "colab": {}
      },
      "source": [
        "distribution_df['topics'] = distribution_df['topics'].apply(lambda x: f'topic {x}')"
      ],
      "execution_count": 0,
      "outputs": []
    },
    {
      "cell_type": "code",
      "metadata": {
        "id": "59Km8QYEwWQz",
        "colab_type": "code",
        "colab": {}
      },
      "source": [
        "distribution_df = distribution_df.sort_values(by=['weight'])"
      ],
      "execution_count": 0,
      "outputs": []
    },
    {
      "cell_type": "code",
      "metadata": {
        "id": "JGE5O2-_u4_I",
        "colab_type": "code",
        "colab": {
          "base_uri": "https://localhost:8080/",
          "height": 466
        },
        "outputId": "af09eeaf-e66f-4fea-f081-e7248ec09976"
      },
      "source": [
        "plt.rcdefaults()\n",
        "fig, ax = plt.subplots()\n",
        "ax.barh(distribution_df['topics'], distribution_df['weight'], align='center')\n",
        "ax.set_xlabel('Weight (%)')"
      ],
      "execution_count": 97,
      "outputs": [
        {
          "output_type": "execute_result",
          "data": {
            "text/plain": [
              "Text(0.5, 0, 'Weight (%)')"
            ]
          },
          "metadata": {
            "tags": []
          },
          "execution_count": 97
        },
        {
          "output_type": "display_data",
          "data": {
            "image/png": "[encoded data removed]",
            "text/plain": [
              "<Figure size 640x480 with 1 Axes>"
            ]
          },
          "metadata": {
            "tags": []
          }
        }
      ]
    },
    {
      "cell_type": "markdown",
      "metadata": {
        "id": "-R4PqRHS5gzM",
        "colab_type": "text"
      },
      "source": [
        "##3.2 Mallet"
      ]
    },
    {
      "cell_type": "markdown",
      "metadata": {
        "id": "edtyLQcA6XAi",
        "colab_type": "text"
      },
      "source": [
        "### 3.2.1 Distribution per topic and per document"
      ]
    },
    {
      "cell_type": "code",
      "metadata": {
        "id": "AVzWPlU-5z2x",
        "colab_type": "code",
        "colab": {}
      },
      "source": [
        "distribution_mallet = pd.DataFrame(index=[i for i in range(len(corpus))],columns=[f'topic{i}' for i in range(numtopics)])"
      ],
      "execution_count": 0,
      "outputs": []
    },
    {
      "cell_type": "code",
      "metadata": {
        "id": "B64Z2FAs55Wd",
        "colab_type": "code",
        "colab": {}
      },
      "source": [
        "for i in range(len(corpus)):\n",
        "  row = [list(j)[1] for j in ldamallet_to_gensim[corpus[i]]] \n",
        "  distribution_mallet.loc[i] = row"
      ],
      "execution_count": 0,
      "outputs": []
    },
    {
      "cell_type": "code",
      "metadata": {
        "id": "nP0QKt0x6BLy",
        "colab_type": "code",
        "colab": {}
      },
      "source": [
        "distribution_mallet.insert(0, 'document_path', sources['file_name'])"
      ],
      "execution_count": 0,
      "outputs": []
    },
    {
      "cell_type": "code",
      "metadata": {
        "id": "Pu2Tk_x77KHH",
        "colab_type": "code",
        "colab": {
          "base_uri": "https://localhost:8080/",
          "height": 241
        },
        "outputId": "d2cb50ed-6181-45a3-e529-8178b2220877"
      },
      "source": [
        "ldamallet_to_gensim.print_topics()"
      ],
      "execution_count": 124,
      "outputs": [
        {
          "output_type": "execute_result",
          "data": {
            "text/plain": [
              "[(0,\n",
              "  '0.000*\"iwiwti\" + 0.000*\"teratamente\" + 0.000*\"avve\" + 0.000*\"innovatore\" + 0.000*\"coppati\" + 0.000*\"gior\" + 0.000*\"pensiero\" + 0.000*\"lentini\" + 0.000*\"aoljevando\" + 0.000*\"inintelligenti\"'),\n",
              " (1,\n",
              "  '0.000*\"detur\" + 0.000*\"cevere\" + 0.000*\"hhnlllo\" + 0.000*\"processo\" + 0.000*\"strazione\" + 0.000*\"trovali\" + 0.000*\"nurmo\" + 0.000*\"ringra\" + 0.000*\"viticoltura\" + 0.000*\"italiamo\"'),\n",
              " (2,\n",
              "  '0.000*\"sarono\" + 0.000*\"gevitch\" + 0.000*\"orologio\" + 0.000*\"pellicolare\" + 0.000*\"familiare\" + 0.000*\"trattamente\" + 0.000*\"nario\" + 0.000*\"lllntreltof\" + 0.000*\"esaltamento\" + 0.000*\"intimo\"'),\n",
              " (3,\n",
              "  '0.000*\"vqjenterosl\" + 0.000*\"amaramente\" + 0.000*\"intereatlng\" + 0.000*\"inane\" + 0.000*\"jenninga\" + 0.000*\"ripar\" + 0.000*\"omsa\" + 0.000*\"cica\" + 0.000*\"soldataglia\" + 0.000*\"villico\"'),\n",
              " (4,\n",
              "  '0.000*\"butl\" + 0.000*\"intravisto\" + 0.000*\"tunisi\" + 0.000*\"hoelon\" + 0.000*\"febbraio\" + 0.000*\"ciueato\" + 0.000*\"vistare\" + 0.000*\"libellista\" + 0.000*\"persecuzio\" + 0.000*\"puntare\"'),\n",
              " (5,\n",
              "  '0.000*\"sussidiare\" + 0.000*\"confor\" + 0.000*\"ifanmigrazieie\" + 0.000*\"retribuzione\" + 0.000*\"ripartizione\" + 0.000*\"gottardo\" + 0.000*\"hieja\" + 0.000*\"tanarsi\" + 0.000*\"disseccare\" + 0.000*\"veland\"')]"
            ]
          },
          "metadata": {
            "tags": []
          },
          "execution_count": 124
        }
      ]
    },
    {
      "cell_type": "code",
      "metadata": {
        "id": "L-dUibIM6Nu0",
        "colab_type": "code",
        "colab": {
          "base_uri": "https://localhost:8080/",
          "height": 419
        },
        "outputId": "6fb18c30-a967-424e-bc68-f7c5e1ee6110"
      },
      "source": [
        "distribution_mallet"
      ],
      "execution_count": 122,
      "outputs": [
        {
          "output_type": "execute_result",
          "data": {
            "text/html": [
              "<div>\n",
              "<style scoped>\n",
              "    .dataframe tbody tr th:only-of-type {\n",
              "        vertical-align: middle;\n",
              "    }\n",
              "\n",
              "    .dataframe tbody tr th {\n",
              "        vertical-align: top;\n",
              "    }\n",
              "\n",
              "    .dataframe thead th {\n",
              "        text-align: right;\n",
              "    }\n",
              "</style>\n",
              "<table border=\"1\" class=\"dataframe\">\n",
              "  <thead>\n",
              "    <tr style=\"text-align: right;\">\n",
              "      <th></th>\n",
              "      <th>document_path</th>\n",
              "      <th>topic0</th>\n",
              "      <th>topic1</th>\n",
              "      <th>topic2</th>\n",
              "      <th>topic3</th>\n",
              "      <th>topic4</th>\n",
              "      <th>topic5</th>\n",
              "    </tr>\n",
              "  </thead>\n",
              "  <tbody>\n",
              "    <tr>\n",
              "      <th>0</th>\n",
              "      <td>2012271201_1903-08-01_ed-1_seq-1_ocr.txt</td>\n",
              "      <td>0.629896</td>\n",
              "      <td>0.0538779</td>\n",
              "      <td>0.0847292</td>\n",
              "      <td>0.0758448</td>\n",
              "      <td>0.0450106</td>\n",
              "      <td>0.110642</td>\n",
              "    </tr>\n",
              "    <tr>\n",
              "      <th>1</th>\n",
              "      <td>sn85066408_1903-06-22_ed-1_seq-1_ocr.txt</td>\n",
              "      <td>0.0668228</td>\n",
              "      <td>0.432995</td>\n",
              "      <td>0.10571</td>\n",
              "      <td>0.172866</td>\n",
              "      <td>0.180919</td>\n",
              "      <td>0.0406874</td>\n",
              "    </tr>\n",
              "    <tr>\n",
              "      <th>2</th>\n",
              "      <td>sn85066408_1903-06-19_ed-1_seq-1_ocr.txt</td>\n",
              "      <td>0.0856187</td>\n",
              "      <td>0.174186</td>\n",
              "      <td>0.0644502</td>\n",
              "      <td>0.1533</td>\n",
              "      <td>0.470623</td>\n",
              "      <td>0.0518224</td>\n",
              "    </tr>\n",
              "    <tr>\n",
              "      <th>3</th>\n",
              "      <td>sn85066408_1903-05-30_ed-1_seq-1_ocr.txt</td>\n",
              "      <td>0.0592887</td>\n",
              "      <td>0.267759</td>\n",
              "      <td>0.291093</td>\n",
              "      <td>0.098152</td>\n",
              "      <td>0.205883</td>\n",
              "      <td>0.077825</td>\n",
              "    </tr>\n",
              "    <tr>\n",
              "      <th>4</th>\n",
              "      <td>2012271201_1903-07-18_ed-1_seq-1_ocr.txt</td>\n",
              "      <td>0.648988</td>\n",
              "      <td>0.0785165</td>\n",
              "      <td>0.0596277</td>\n",
              "      <td>0.103883</td>\n",
              "      <td>0.0615078</td>\n",
              "      <td>0.047477</td>\n",
              "    </tr>\n",
              "    <tr>\n",
              "      <th>...</th>\n",
              "      <td>...</td>\n",
              "      <td>...</td>\n",
              "      <td>...</td>\n",
              "      <td>...</td>\n",
              "      <td>...</td>\n",
              "      <td>...</td>\n",
              "      <td>...</td>\n",
              "    </tr>\n",
              "    <tr>\n",
              "      <th>95</th>\n",
              "      <td>sn85066408_1903-07-03_ed-1_seq-1_ocr.txt</td>\n",
              "      <td>0.0657611</td>\n",
              "      <td>0.15875</td>\n",
              "      <td>0.13999</td>\n",
              "      <td>0.289093</td>\n",
              "      <td>0.296807</td>\n",
              "      <td>0.0495992</td>\n",
              "    </tr>\n",
              "    <tr>\n",
              "      <th>96</th>\n",
              "      <td>sn85066408_1903-08-06_ed-1_seq-1_ocr.txt</td>\n",
              "      <td>0.0515031</td>\n",
              "      <td>0.124818</td>\n",
              "      <td>0.139425</td>\n",
              "      <td>0.0925526</td>\n",
              "      <td>0.31812</td>\n",
              "      <td>0.273581</td>\n",
              "    </tr>\n",
              "    <tr>\n",
              "      <th>97</th>\n",
              "      <td>sn85066408_1903-05-25_ed-1_seq-1_ocr.txt</td>\n",
              "      <td>0.048888</td>\n",
              "      <td>0.240251</td>\n",
              "      <td>0.305703</td>\n",
              "      <td>0.111681</td>\n",
              "      <td>0.232258</td>\n",
              "      <td>0.0612189</td>\n",
              "    </tr>\n",
              "    <tr>\n",
              "      <th>98</th>\n",
              "      <td>sn85066408_1903-07-09_ed-1_seq-1_ocr.txt</td>\n",
              "      <td>0.0870415</td>\n",
              "      <td>0.213408</td>\n",
              "      <td>0.150612</td>\n",
              "      <td>0.201697</td>\n",
              "      <td>0.223258</td>\n",
              "      <td>0.123984</td>\n",
              "    </tr>\n",
              "    <tr>\n",
              "      <th>99</th>\n",
              "      <td>sn85066408_1903-08-03_ed-1_seq-1_ocr.txt</td>\n",
              "      <td>0.0748384</td>\n",
              "      <td>0.0623367</td>\n",
              "      <td>0.0668592</td>\n",
              "      <td>0.102727</td>\n",
              "      <td>0.283724</td>\n",
              "      <td>0.409514</td>\n",
              "    </tr>\n",
              "  </tbody>\n",
              "</table>\n",
              "<p>100 rows × 7 columns</p>\n",
              "</div>"
            ],
            "text/plain": [
              "                               document_path     topic0  ...     topic4     topic5\n",
              "0   2012271201_1903-08-01_ed-1_seq-1_ocr.txt   0.629896  ...  0.0450106   0.110642\n",
              "1   sn85066408_1903-06-22_ed-1_seq-1_ocr.txt  0.0668228  ...   0.180919  0.0406874\n",
              "2   sn85066408_1903-06-19_ed-1_seq-1_ocr.txt  0.0856187  ...   0.470623  0.0518224\n",
              "3   sn85066408_1903-05-30_ed-1_seq-1_ocr.txt  0.0592887  ...   0.205883   0.077825\n",
              "4   2012271201_1903-07-18_ed-1_seq-1_ocr.txt   0.648988  ...  0.0615078   0.047477\n",
              "..                                       ...        ...  ...        ...        ...\n",
              "95  sn85066408_1903-07-03_ed-1_seq-1_ocr.txt  0.0657611  ...   0.296807  0.0495992\n",
              "96  sn85066408_1903-08-06_ed-1_seq-1_ocr.txt  0.0515031  ...    0.31812   0.273581\n",
              "97  sn85066408_1903-05-25_ed-1_seq-1_ocr.txt   0.048888  ...   0.232258  0.0612189\n",
              "98  sn85066408_1903-07-09_ed-1_seq-1_ocr.txt  0.0870415  ...   0.223258   0.123984\n",
              "99  sn85066408_1903-08-03_ed-1_seq-1_ocr.txt  0.0748384  ...   0.283724   0.409514\n",
              "\n",
              "[100 rows x 7 columns]"
            ]
          },
          "metadata": {
            "tags": []
          },
          "execution_count": 122
        }
      ]
    },
    {
      "cell_type": "markdown",
      "metadata": {
        "id": "O_2y12da6ern",
        "colab_type": "text"
      },
      "source": [
        "### 3.2.2. Distribution per topic for the whole corpus"
      ]
    },
    {
      "cell_type": "code",
      "metadata": {
        "id": "BwSx7UwG6keD",
        "colab_type": "code",
        "colab": {
          "base_uri": "https://localhost:8080/",
          "height": 241
        },
        "outputId": "eec90b96-6940-4806-9928-9c9836487890"
      },
      "source": [
        "topics = []\n",
        "topic_weights = []\n",
        "for i in range(len(distribution_mallet.columns)-1):\n",
        "  topic_weight = round(sum(distribution_mallet.iloc[:,i+1]),2)\n",
        "  topic_weights.append(topic_weight)\n",
        "  print( f'topic {i}: {topic_weight}%' )\n",
        "  topic = ldamallet_to_gensim.print_topics()[i][1]\n",
        "  topics.append(i)\n",
        "  print( f'terms: {topic} ')"
      ],
      "execution_count": 123,
      "outputs": [
        {
          "output_type": "stream",
          "text": [
            "topic 0: 14.26%\n",
            "terms: 0.000*\"iwiwti\" + 0.000*\"teratamente\" + 0.000*\"avve\" + 0.000*\"innovatore\" + 0.000*\"coppati\" + 0.000*\"gior\" + 0.000*\"pensiero\" + 0.000*\"lentini\" + 0.000*\"aoljevando\" + 0.000*\"inintelligenti\" \n",
            "topic 1: 20.01%\n",
            "terms: 0.000*\"detur\" + 0.000*\"cevere\" + 0.000*\"hhnlllo\" + 0.000*\"processo\" + 0.000*\"strazione\" + 0.000*\"trovali\" + 0.000*\"nurmo\" + 0.000*\"ringra\" + 0.000*\"viticoltura\" + 0.000*\"italiamo\" \n",
            "topic 2: 17.99%\n",
            "terms: 0.000*\"sarono\" + 0.000*\"gevitch\" + 0.000*\"orologio\" + 0.000*\"pellicolare\" + 0.000*\"familiare\" + 0.000*\"trattamente\" + 0.000*\"nario\" + 0.000*\"lllntreltof\" + 0.000*\"esaltamento\" + 0.000*\"intimo\" \n",
            "topic 3: 14.89%\n",
            "terms: 0.000*\"vqjenterosl\" + 0.000*\"amaramente\" + 0.000*\"intereatlng\" + 0.000*\"inane\" + 0.000*\"jenninga\" + 0.000*\"ripar\" + 0.000*\"omsa\" + 0.000*\"cica\" + 0.000*\"soldataglia\" + 0.000*\"villico\" \n",
            "topic 4: 18.09%\n",
            "terms: 0.000*\"butl\" + 0.000*\"intravisto\" + 0.000*\"tunisi\" + 0.000*\"hoelon\" + 0.000*\"febbraio\" + 0.000*\"ciueato\" + 0.000*\"vistare\" + 0.000*\"libellista\" + 0.000*\"persecuzio\" + 0.000*\"puntare\" \n",
            "topic 5: 14.76%\n",
            "terms: 0.000*\"sussidiare\" + 0.000*\"confor\" + 0.000*\"ifanmigrazieie\" + 0.000*\"retribuzione\" + 0.000*\"ripartizione\" + 0.000*\"gottardo\" + 0.000*\"hieja\" + 0.000*\"tanarsi\" + 0.000*\"disseccare\" + 0.000*\"veland\" \n"
          ],
          "name": "stdout"
        }
      ]
    },
    {
      "cell_type": "code",
      "metadata": {
        "id": "SXpxq43d64Q1",
        "colab_type": "code",
        "colab": {}
      },
      "source": [
        "distribution_df_mallet = pd.DataFrame(topic_weights, columns=['weight'])"
      ],
      "execution_count": 0,
      "outputs": []
    },
    {
      "cell_type": "code",
      "metadata": {
        "id": "R2BbSXPL7neM",
        "colab_type": "code",
        "colab": {}
      },
      "source": [
        "distribution_df_mallet['topics'] = topics"
      ],
      "execution_count": 0,
      "outputs": []
    },
    {
      "cell_type": "code",
      "metadata": {
        "id": "p1TGnYsC7tmJ",
        "colab_type": "code",
        "colab": {}
      },
      "source": [
        "distribution_df_mallet['topics'] = distribution_df_mallet['topics'].apply(lambda x: f'topic {x}')"
      ],
      "execution_count": 0,
      "outputs": []
    },
    {
      "cell_type": "code",
      "metadata": {
        "id": "t5iY_zGC71m2",
        "colab_type": "code",
        "colab": {}
      },
      "source": [
        "distribution_df_mallet = distribution_df_mallet.sort_values(by=['weight'])"
      ],
      "execution_count": 0,
      "outputs": []
    },
    {
      "cell_type": "code",
      "metadata": {
        "id": "fQKghPGT78Uz",
        "colab_type": "code",
        "colab": {
          "base_uri": "https://localhost:8080/",
          "height": 466
        },
        "outputId": "26848dd2-e100-4f9d-8dd7-1c81719155cb"
      },
      "source": [
        "plt.rcdefaults()\n",
        "fig, ax = plt.subplots()\n",
        "ax.barh(distribution_df_mallet['topics'], distribution_df_mallet['weight'], align='center')\n",
        "ax.set_xlabel('Weight (%)')"
      ],
      "execution_count": 136,
      "outputs": [
        {
          "output_type": "execute_result",
          "data": {
            "text/plain": [
              "Text(0.5, 0, 'Weight (%)')"
            ]
          },
          "metadata": {
            "tags": []
          },
          "execution_count": 136
        },
        {
          "output_type": "display_data",
          "data": {
            "image/png": "[encoded data removed]",
            "text/plain": [
              "<Figure size 640x480 with 1 Axes>"
            ]
          },
          "metadata": {
            "tags": []
          }
        }
      ]
    }
  ]
}
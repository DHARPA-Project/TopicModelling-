{
  "nbformat": 4,
  "nbformat_minor": 0,
  "metadata": {
    "colab": {
      "name": "topic_modelling_gensim_mallet.ipynb",
      "provenance": [],
      "collapsed_sections": [],
      "toc_visible": true
    },
    "kernelspec": {
      "name": "python3",
      "display_name": "Python 3"
    }
  },
  "cells": [
    {
      "cell_type": "code",
      "metadata": {
        "id": "7FwlEnNvQJNG",
        "colab_type": "code",
        "colab": {}
      },
      "source": [
        "import json\n",
        "import requests\n",
        "import urllib"
      ],
      "execution_count": 0,
      "outputs": []
    },
    {
      "cell_type": "markdown",
      "metadata": {
        "id": "6AZPes5RSYG2",
        "colab_type": "text"
      },
      "source": [
        "# 0. Preliminary step to get sample data\n",
        "\n"
      ]
    },
    {
      "cell_type": "markdown",
      "metadata": {
        "id": "WaRiBwgFTg2p",
        "colab_type": "text"
      },
      "source": [
        "This preliminary step is reproducing Lorella's workflow Python file:\n",
        "https://i-lab.public.data.uu.nl/vault-ocex/ChroniclItaly%20-%20Italian%20American%20newspapers%20corpus%20from%201898%20to%201920%5B1529330521%5D/original/\n",
        "I just added a folder \"data_1\" to keep all files in one folder"
      ]
    },
    {
      "cell_type": "code",
      "metadata": {
        "id": "VK81EVJim0Jc",
        "colab_type": "code",
        "colab": {}
      },
      "source": [
        "mkdir 'data1'"
      ],
      "execution_count": 0,
      "outputs": []
    },
    {
      "cell_type": "code",
      "metadata": {
        "id": "9O_c4pYzXsP_",
        "colab_type": "code",
        "colab": {}
      },
      "source": [
        "# Base URL\n",
        "chronam = 'https://chroniclingamerica.loc.gov/'\n",
        "\n",
        "# Chronicling America search results\n",
        "results = 'https://chroniclingamerica.loc.gov/search/pages/results/?date1=1880&date2=1920&searchType=advanced&language=ita&sequence=1&lccn=2012271201&lccn=sn85066408&lccn=sn85055164&lccn=sn85054967&lccn=sn88064299&lccn=sn84037024&lccn=sn84037025&lccn=sn86092310&proxdistance=5&state=California&state=District+of+Columbia&state=Massachusetts&state=Pennsylvania&state=Piedmont&state=Vermont&state=West+Virginia&rows=100&ortext=&proxtext=&phrasetext=&andtext=&dateFilterType=yearRange&page=11&sort=date'\n",
        "\n",
        "# Count to keep track of downloaded files\n",
        "count = 0\n",
        "\n",
        "# Gets search results in JSON format\n",
        "results_json = results + '&format=json'\n"
      ],
      "execution_count": 0,
      "outputs": []
    },
    {
      "cell_type": "code",
      "metadata": {
        "id": "DQwqRYbydrq4",
        "colab_type": "code",
        "colab": {}
      },
      "source": [
        "# Returns JSON \n",
        "def get_json(url):\n",
        "    data = requests.get(url)\n",
        "    return(json.loads(data.content))\n",
        "    \n",
        "data = get_json(results_json)"
      ],
      "execution_count": 0,
      "outputs": []
    },
    {
      "cell_type": "code",
      "metadata": {
        "id": "Xjv32dwDndnw",
        "colab_type": "code",
        "colab": {}
      },
      "source": [
        "files_list = []\n",
        "# Cycle through JSON results\n",
        "for page in data['items']:\n",
        "    # Create URL\n",
        "    hit = str(page['id'])\n",
        "    seed = hit + 'ocr.txt'\n",
        "    download_url = chronam + seed\n",
        " \n",
        "    # Create file name\n",
        "    file_name = download_url.replace('/', '_')\n",
        "    files_list.append(file_name[41:])\n",
        "    file_name = 'data1/' + file_name[41:]\n",
        "\n",
        "    # Download .txt of the page\n",
        "    urllib.request.urlretrieve(download_url, str(file_name))\n",
        "    count += 1"
      ],
      "execution_count": 0,
      "outputs": []
    },
    {
      "cell_type": "markdown",
      "metadata": {
        "id": "AUvuIpuzT8ke",
        "colab_type": "text"
      },
      "source": [
        "# 1. Data preparation"
      ]
    },
    {
      "cell_type": "markdown",
      "metadata": {
        "id": "MTOrDXSYUIc3",
        "colab_type": "text"
      },
      "source": [
        "## 1.1. Creating data frame\n",
        "A dataframe is first created to keep the documents at their initial state, and the name of each file"
      ]
    },
    {
      "cell_type": "code",
      "metadata": {
        "id": "u857KfY9WXN_",
        "colab_type": "code",
        "colab": {}
      },
      "source": [
        "import os\n",
        "import pandas as pd"
      ],
      "execution_count": 0,
      "outputs": []
    },
    {
      "cell_type": "code",
      "metadata": {
        "id": "8lLD0OpiXv5Y",
        "colab_type": "code",
        "colab": {}
      },
      "source": [
        "#insert file names into a df\n",
        "sources = pd.DataFrame(files_list, columns=['file_name'])"
      ],
      "execution_count": 0,
      "outputs": []
    },
    {
      "cell_type": "code",
      "metadata": {
        "id": "0PgOwPnqCfAe",
        "colab_type": "code",
        "colab": {}
      },
      "source": [
        "#function to read the content of the text files\n",
        "def readTxtContent(fileName):\n",
        "  with open('data1/' + fileName, 'r') as file:\n",
        "    return ' ' + file.read().replace('\\n', ' ') + ' '"
      ],
      "execution_count": 0,
      "outputs": []
    },
    {
      "cell_type": "code",
      "metadata": {
        "id": "MZEVIKHziQv2",
        "colab_type": "code",
        "colab": {}
      },
      "source": [
        "# adding a column to the dataframe containing file content\n",
        "sources['file_content'] = sources['file_name'].apply(lambda x: readTxtContent(x))"
      ],
      "execution_count": 0,
      "outputs": []
    },
    {
      "cell_type": "code",
      "metadata": {
        "id": "5AbjD_hb9SQw",
        "colab_type": "code",
        "colab": {}
      },
      "source": [
        "# variable containing the documents separately\n",
        "corpus = sources['file_content']"
      ],
      "execution_count": 0,
      "outputs": []
    },
    {
      "cell_type": "code",
      "metadata": {
        "id": "4ffdAsOXQSBe",
        "colab_type": "code",
        "colab": {}
      },
      "source": [
        "# the 2 cells below shouldn't be useful anymore\n",
        "# for verification purposes later, count the nr of characters for each content\n",
        "#sources['file_len'] = sources['file_content'].apply(lambda x: len(x))\n",
        "#sources['file_len'].sum()"
      ],
      "execution_count": 0,
      "outputs": []
    },
    {
      "cell_type": "code",
      "metadata": {
        "id": "QYRvEvHbK32i",
        "colab_type": "code",
        "colab": {}
      },
      "source": [
        "\n",
        "# variable containing all documents together\n",
        "#all_texts = ''\n",
        "#for i in range(len(sources)):\n",
        "#all_texts += sources['file_content'][i]\n",
        "# check length\n",
        "#len(all_texts)"
      ],
      "execution_count": 0,
      "outputs": []
    },
    {
      "cell_type": "markdown",
      "metadata": {
        "id": "ybCetXHi9m-y",
        "colab_type": "text"
      },
      "source": [
        "## 1.2 Removing stop words, punctuation, short words"
      ]
    },
    {
      "cell_type": "code",
      "metadata": {
        "id": "6e-8sf7RayKz",
        "colab_type": "code",
        "colab": {}
      },
      "source": [
        "%%capture\n",
        "import nltk\n",
        "nltk.download('punkt')\n",
        "nltk.download('stopwords')\n",
        "from nltk.corpus import stopwords\n",
        "from nltk.tokenize import word_tokenize"
      ],
      "execution_count": 0,
      "outputs": []
    },
    {
      "cell_type": "code",
      "metadata": {
        "id": "a1MbU3_seOtJ",
        "colab_type": "code",
        "colab": {}
      },
      "source": [
        "# add tokenized documents in dataframe\n",
        "sources['tokens'] = sources['file_content'].apply(lambda x: nltk.word_tokenize(x))"
      ],
      "execution_count": 0,
      "outputs": []
    },
    {
      "cell_type": "code",
      "metadata": {
        "id": "vh3ikvdKfQ60",
        "colab_type": "code",
        "colab": {}
      },
      "source": [
        "# add new column in df with processed tokens\n",
        "sources['tokens_prep'] = sources['tokens'].apply(lambda x: [w.lower() for w in x if (w.isalnum() and len(w) > 3 )])"
      ],
      "execution_count": 0,
      "outputs": []
    },
    {
      "cell_type": "code",
      "metadata": {
        "id": "3IrR5gbba5ho",
        "colab_type": "code",
        "colab": {}
      },
      "source": [
        "# these lines are useful if we want to provide alternate stop words lists (NLTK)\n",
        "# show list of default NLTK Italian stopwords\n",
        "# stopwords.words('italian')\n",
        "# ital_stopwords = stopwords.words('italian')\n",
        "# to append list of words added by user: ital_stopwords.extend(user_input)\n",
        "# to remove words: ital_stopwords.remove(user_input)"
      ],
      "execution_count": 0,
      "outputs": []
    },
    {
      "cell_type": "code",
      "metadata": {
        "id": "8Qw4i2O_CTdQ",
        "colab_type": "code",
        "colab": {}
      },
      "source": [
        "# spacy list of Stop words (seems to be more complete than NLTK)\n",
        "import spacy\n",
        "from spacy.lang.it.stop_words import STOP_WORDS"
      ],
      "execution_count": 0,
      "outputs": []
    },
    {
      "cell_type": "code",
      "metadata": {
        "id": "5SBUnxlpCxEa",
        "colab_type": "code",
        "colab": {}
      },
      "source": [
        "spacy_it_sw = STOP_WORDS"
      ],
      "execution_count": 0,
      "outputs": []
    },
    {
      "cell_type": "code",
      "metadata": {
        "id": "jDvREaSSiM1v",
        "colab_type": "code",
        "colab": {}
      },
      "source": [
        "# add column with tokenized documents without sw\n",
        "sources['tokens_prep_nostop'] = sources['tokens_prep'].apply(lambda x: [w for w in x if not w in spacy_it_sw])"
      ],
      "execution_count": 0,
      "outputs": []
    },
    {
      "cell_type": "markdown",
      "metadata": {
        "id": "hKs7aXWLbVWo",
        "colab_type": "text"
      },
      "source": [
        "## 1.3 Stem"
      ]
    },
    {
      "cell_type": "code",
      "metadata": {
        "id": "uyl0C-xkbLiB",
        "colab_type": "code",
        "colab": {}
      },
      "source": [
        "from nltk.stem.snowball import SnowballStemmer"
      ],
      "execution_count": 0,
      "outputs": []
    },
    {
      "cell_type": "code",
      "metadata": {
        "id": "euUXP7UHbaN-",
        "colab_type": "code",
        "colab": {}
      },
      "source": [
        "#initialize with needed language\n",
        "stemmer = SnowballStemmer(\"italian\")"
      ],
      "execution_count": 0,
      "outputs": []
    },
    {
      "cell_type": "code",
      "metadata": {
        "id": "CljkLrRmjaot",
        "colab_type": "code",
        "colab": {}
      },
      "source": [
        "# add column with stemmed tokens\n",
        "sources['tokens_stemmed'] = sources['tokens_prep_nostop'].apply(lambda x: [stemmer.stem(w) for w in x])"
      ],
      "execution_count": 0,
      "outputs": []
    },
    {
      "cell_type": "markdown",
      "metadata": {
        "id": "YHKQAqemcgYz",
        "colab_type": "text"
      },
      "source": [
        "## 1.4 Lemmatize"
      ]
    },
    {
      "cell_type": "code",
      "metadata": {
        "id": "Ob8M804chYgh",
        "colab_type": "code",
        "colab": {}
      },
      "source": [
        "# Lemmatization is available in multiple languages in Spacy and not in NLTK (only English)\n",
        "# With Spacy, lemmatization is available for 10 languages. There's also a multi-language option that\n",
        "# should be tested if additional languages are needed"
      ],
      "execution_count": 0,
      "outputs": []
    },
    {
      "cell_type": "code",
      "metadata": {
        "id": "2QAPblFUwf3F",
        "colab_type": "code",
        "colab": {}
      },
      "source": [
        "%%capture\n",
        "!python -m spacy download it_core_news_sm"
      ],
      "execution_count": 0,
      "outputs": []
    },
    {
      "cell_type": "code",
      "metadata": {
        "id": "8al8riPXA98n",
        "colab_type": "code",
        "colab": {}
      },
      "source": [
        "import it_core_news_sm\n",
        "it_nlp = it_core_news_sm.load(disable=['tagger', 'parser', 'ner'])"
      ],
      "execution_count": 0,
      "outputs": []
    },
    {
      "cell_type": "code",
      "metadata": {
        "id": "YZHdI_8tmv3y",
        "colab_type": "code",
        "colab": {}
      },
      "source": [
        "# lemmatization function\n",
        "def lemmatize(doc):\n",
        "  lemmatized_doc = []\n",
        "  for w in doc:\n",
        "    w_lemma = [token.lemma_ for token in it_nlp(w)]\n",
        "    lemmatized_doc.append(w_lemma[0])\n",
        "  return lemmatized_doc"
      ],
      "execution_count": 0,
      "outputs": []
    },
    {
      "cell_type": "code",
      "metadata": {
        "id": "k-mYWKgSk9CW",
        "colab_type": "code",
        "colab": {}
      },
      "source": [
        "# add column with lemmatized tokens\n",
        "sources['tokens_lemmatized'] = sources['tokens_prep_nostop'].apply(lambda x: lemmatize(x))"
      ],
      "execution_count": 0,
      "outputs": []
    },
    {
      "cell_type": "code",
      "metadata": {
        "id": "tvl0MO_FH5yH",
        "colab_type": "code",
        "colab": {}
      },
      "source": [
        "# variable with lemmatized tokens\n",
        "lemmatized_corpus = sources['tokens_lemmatized']"
      ],
      "execution_count": 0,
      "outputs": []
    },
    {
      "cell_type": "markdown",
      "metadata": {
        "id": "o8TRLnFPK6p4",
        "colab_type": "text"
      },
      "source": [
        "# 2. Topics with LDA"
      ]
    },
    {
      "cell_type": "code",
      "metadata": {
        "id": "N0NrktL1el7E",
        "colab_type": "code",
        "colab": {}
      },
      "source": [
        "%%capture\n",
        "# installation setup that works for Mallet: https://github.com/polsci/colab-gensim-mallet/blob/master/topic-modeling-with-colab-gensim-mallet.ipynb\n",
        "def install_java():\n",
        "  !apt-get install -y openjdk-8-jdk-headless -qq > /dev/null      #install openjdk\n",
        "  os.environ[\"JAVA_HOME\"] = \"/usr/lib/jvm/java-8-openjdk-amd64\"     #set environment variable\n",
        "  !java -version       #check java version\n",
        "install_java()"
      ],
      "execution_count": 0,
      "outputs": []
    },
    {
      "cell_type": "code",
      "metadata": {
        "id": "IH7oPbxGe46O",
        "colab_type": "code",
        "colab": {}
      },
      "source": [
        "%%capture\n",
        "!wget http://mallet.cs.umass.edu/dist/mallet-2.0.8.zip\n",
        "!unzip mallet-2.0.8.zip"
      ],
      "execution_count": 0,
      "outputs": []
    },
    {
      "cell_type": "code",
      "metadata": {
        "id": "XD1MaCjRfKOs",
        "colab_type": "code",
        "colab": {}
      },
      "source": [
        "os.environ['MALLET_HOME'] = '/content/mallet-2.0.8'\n",
        "mallet_path = '/content/mallet-2.0.8/bin/mallet'"
      ],
      "execution_count": 0,
      "outputs": []
    },
    {
      "cell_type": "code",
      "metadata": {
        "id": "Fr1F0QNdOxy3",
        "colab_type": "code",
        "colab": {}
      },
      "source": [
        "#Gensim installation\n",
        "import gensim\n",
        "from gensim.test.utils import common_corpus, common_dictionary\n",
        "from gensim import corpora, models\n",
        "from gensim.models.wrappers import LdaMallet"
      ],
      "execution_count": 0,
      "outputs": []
    },
    {
      "cell_type": "markdown",
      "metadata": {
        "id": "530LX-OLRDcP",
        "colab_type": "text"
      },
      "source": [
        "## 2.1 Preliminary steps to run LDA\n",
        "\n"
      ]
    },
    {
      "cell_type": "markdown",
      "metadata": {
        "id": "GZlLjmvsQAMy",
        "colab_type": "text"
      },
      "source": [
        "### 2.1.1 Bag of words"
      ]
    },
    {
      "cell_type": "code",
      "metadata": {
        "id": "UzxS5Q3aQ7mh",
        "colab_type": "code",
        "colab": {}
      },
      "source": [
        "# dataset = [d.split() for d in lemmatized_corpus] (this is not useful if lemmatized version is used)\n",
        "# Create Dictionary\n",
        "# change \"lemmatized_corpus\" variable by stemmed_corpus or tokenized_corpus_without_sw depending\n",
        "# on which version you would like to work with \n",
        "id2word = corpora.Dictionary(lemmatized_corpus)\n",
        "corpus = [id2word.doc2bow(text) for text in lemmatized_corpus]"
      ],
      "execution_count": 0,
      "outputs": []
    },
    {
      "cell_type": "code",
      "metadata": {
        "id": "wvegwXHIWZN6",
        "colab_type": "code",
        "colab": {}
      },
      "source": [
        "# list of words and occurence per document\n",
        "words = []\n",
        "frequency = []\n",
        "\n",
        "for cp in corpus:\n",
        "  word_id = list(cp[0])[0]\n",
        "  words.append(id2word[list(cp[0])[0]])\n",
        "  frequency.append(list(cp[0])[1])"
      ],
      "execution_count": 0,
      "outputs": []
    },
    {
      "cell_type": "code",
      "metadata": {
        "id": "be9fXHn7Uqb6",
        "colab_type": "code",
        "colab": {}
      },
      "source": [
        "words_frequency = pd.DataFrame(list(zip(words, frequency)), columns=['word', 'frequency'])"
      ],
      "execution_count": 0,
      "outputs": []
    },
    {
      "cell_type": "code",
      "metadata": {
        "id": "m67ylcqwaQbd",
        "colab_type": "code",
        "outputId": "4cc458ae-6f65-4fff-a39c-1cfcd95a55bb",
        "colab": {
          "base_uri": "https://localhost:8080/",
          "height": 359
        }
      },
      "source": [
        "# sort descending\n",
        "words_frequency.sort_values(by=['frequency'], ascending=False)[:10]"
      ],
      "execution_count": 29,
      "outputs": [
        {
          "output_type": "execute_result",
          "data": {
            "text/html": [
              "<div>\n",
              "<style scoped>\n",
              "    .dataframe tbody tr th:only-of-type {\n",
              "        vertical-align: middle;\n",
              "    }\n",
              "\n",
              "    .dataframe tbody tr th {\n",
              "        vertical-align: top;\n",
              "    }\n",
              "\n",
              "    .dataframe thead th {\n",
              "        text-align: right;\n",
              "    }\n",
              "</style>\n",
              "<table border=\"1\" class=\"dataframe\">\n",
              "  <thead>\n",
              "    <tr style=\"text-align: right;\">\n",
              "      <th></th>\n",
              "      <th>word</th>\n",
              "      <th>frequency</th>\n",
              "    </tr>\n",
              "  </thead>\n",
              "  <tbody>\n",
              "    <tr>\n",
              "      <th>68</th>\n",
              "      <td>1902</td>\n",
              "      <td>5</td>\n",
              "    </tr>\n",
              "    <tr>\n",
              "      <th>48</th>\n",
              "      <td>1902</td>\n",
              "      <td>4</td>\n",
              "    </tr>\n",
              "    <tr>\n",
              "      <th>78</th>\n",
              "      <td>1902</td>\n",
              "      <td>3</td>\n",
              "    </tr>\n",
              "    <tr>\n",
              "      <th>5</th>\n",
              "      <td>1902</td>\n",
              "      <td>3</td>\n",
              "    </tr>\n",
              "    <tr>\n",
              "      <th>26</th>\n",
              "      <td>1903</td>\n",
              "      <td>2</td>\n",
              "    </tr>\n",
              "    <tr>\n",
              "      <th>75</th>\n",
              "      <td>abitare</td>\n",
              "      <td>2</td>\n",
              "    </tr>\n",
              "    <tr>\n",
              "      <th>20</th>\n",
              "      <td>1903</td>\n",
              "      <td>2</td>\n",
              "    </tr>\n",
              "    <tr>\n",
              "      <th>66</th>\n",
              "      <td>abitare</td>\n",
              "      <td>2</td>\n",
              "    </tr>\n",
              "    <tr>\n",
              "      <th>63</th>\n",
              "      <td>1903</td>\n",
              "      <td>2</td>\n",
              "    </tr>\n",
              "    <tr>\n",
              "      <th>2</th>\n",
              "      <td>accogliere</td>\n",
              "      <td>2</td>\n",
              "    </tr>\n",
              "  </tbody>\n",
              "</table>\n",
              "</div>"
            ],
            "text/plain": [
              "          word  frequency\n",
              "68        1902          5\n",
              "48        1902          4\n",
              "78        1902          3\n",
              "5         1902          3\n",
              "26        1903          2\n",
              "75     abitare          2\n",
              "20        1903          2\n",
              "66     abitare          2\n",
              "63        1903          2\n",
              "2   accogliere          2"
            ]
          },
          "metadata": {
            "tags": []
          },
          "execution_count": 29
        }
      ]
    },
    {
      "cell_type": "markdown",
      "metadata": {
        "id": "qadtU7aTQMqg",
        "colab_type": "text"
      },
      "source": [
        "## 2.2 LDA"
      ]
    },
    {
      "cell_type": "code",
      "metadata": {
        "id": "eLzvb_yC9nyo",
        "colab_type": "code",
        "colab": {}
      },
      "source": [
        "# set the number of topics here\n",
        "numtopics = 6"
      ],
      "execution_count": 0,
      "outputs": []
    },
    {
      "cell_type": "markdown",
      "metadata": {
        "id": "9u-BK_TCCRV1",
        "colab_type": "text"
      },
      "source": [
        "### 2.2.1 LDA with Gensim"
      ]
    },
    {
      "cell_type": "code",
      "metadata": {
        "id": "7ODvMbxSCQh_",
        "colab_type": "code",
        "colab": {}
      },
      "source": [
        "ldagensim = models.LdaModel(corpus, id2word=id2word, num_topics=numtopics)"
      ],
      "execution_count": 0,
      "outputs": []
    },
    {
      "cell_type": "code",
      "metadata": {
        "id": "FLfpXjulCcS4",
        "colab_type": "code",
        "outputId": "c45dbf95-0b1b-480d-c7fa-9a9e77a1f8a3",
        "colab": {
          "base_uri": "https://localhost:8080/",
          "height": 241
        }
      },
      "source": [
        "ldagensim.print_topics()"
      ],
      "execution_count": 32,
      "outputs": [
        {
          "output_type": "execute_result",
          "data": {
            "text/plain": [
              "[(0,\n",
              "  '0.007*\"italiano\" + 0.004*\"italia\" + 0.004*\"venire\" + 0.003*\"telegrafico\" + 0.003*\"roma\" + 0.003*\"dispaccio\" + 0.002*\"potere\" + 0.002*\"daily\" + 0.002*\"papa\" + 0.002*\"york\"'),\n",
              " (1,\n",
              "  '0.009*\"italiano\" + 0.004*\"dispaccio\" + 0.004*\"roma\" + 0.003*\"italia\" + 0.003*\"potere\" + 0.002*\"daily\" + 0.002*\"telegrafico\" + 0.002*\"venire\" + 0.002*\"dire\" + 0.002*\"giornale\"'),\n",
              " (2,\n",
              "  '0.008*\"italiano\" + 0.004*\"roma\" + 0.003*\"dispaccio\" + 0.003*\"italia\" + 0.003*\"venire\" + 0.003*\"potere\" + 0.003*\"telegrafico\" + 0.003*\"daily\" + 0.003*\"giornale\" + 0.002*\"cardinale\"'),\n",
              " (3,\n",
              "  '0.006*\"italiano\" + 0.004*\"dispaccio\" + 0.004*\"italia\" + 0.004*\"roma\" + 0.003*\"telegrafico\" + 0.003*\"cardinale\" + 0.003*\"potere\" + 0.003*\"daily\" + 0.002*\"venire\" + 0.002*\"giornale\"'),\n",
              " (4,\n",
              "  '0.007*\"italiano\" + 0.004*\"telegrafico\" + 0.003*\"italia\" + 0.003*\"potere\" + 0.003*\"dispaccio\" + 0.003*\"giornale\" + 0.003*\"roma\" + 0.003*\"venire\" + 0.003*\"daily\" + 0.002*\"nuovo\"'),\n",
              " (5,\n",
              "  '0.009*\"italiano\" + 0.004*\"italia\" + 0.004*\"dispaccio\" + 0.003*\"telegrafico\" + 0.003*\"daily\" + 0.003*\"giornale\" + 0.003*\"roma\" + 0.002*\"papa\" + 0.002*\"venire\" + 0.002*\"potere\"')]"
            ]
          },
          "metadata": {
            "tags": []
          },
          "execution_count": 32
        }
      ]
    },
    {
      "cell_type": "markdown",
      "metadata": {
        "id": "yVmCrU7WVznK",
        "colab_type": "text"
      },
      "source": [
        "### 2.2.2 Visualize topics"
      ]
    },
    {
      "cell_type": "code",
      "metadata": {
        "id": "zhUc_LurVxSw",
        "colab_type": "code",
        "colab": {}
      },
      "source": [
        "# pyLDAvis installation\n",
        "%%capture\n",
        "! pip install pyldavis\n",
        "import pyLDAvis\n",
        "import pyLDAvis.gensim"
      ],
      "execution_count": 0,
      "outputs": []
    },
    {
      "cell_type": "code",
      "metadata": {
        "id": "WWHil2-YV_OD",
        "colab_type": "code",
        "colab": {}
      },
      "source": [
        "# insert the model and number of topics you want to visualise\n",
        "# here LDA Gensim with 6 topics\n",
        "%%capture\n",
        "numtopics = 6\n",
        "selected_model = models.LdaModel(corpus, id2word=id2word, num_topics=numtopics)\n",
        "pyLDAvis.enable_notebook()\n",
        "vis = pyLDAvis.gensim.prepare(selected_model, corpus, id2word)"
      ],
      "execution_count": 0,
      "outputs": []
    },
    {
      "cell_type": "code",
      "metadata": {
        "id": "Rm7zmoHqcDto",
        "colab_type": "code",
        "outputId": "ecfc32a3-b76b-4020-b5d7-4bca154540da",
        "colab": {
          "base_uri": "https://localhost:8080/",
          "height": 881
        }
      },
      "source": [
        "vis"
      ],
      "execution_count": 35,
      "outputs": [
        {
          "output_type": "execute_result",
          "data": {
            "text/html": [
              "\n",
              "<link rel=\"stylesheet\" type=\"text/css\" href=\"https://cdn.rawgit.com/bmabey/pyLDAvis/files/ldavis.v1.0.0.css\">\n",
              "\n",
              "\n",
              "<div id=\"ldavis_el1201402433287033685323469158\"></div>\n",
              "<script type=\"text/javascript\">\n",
              "\n",
              "var ldavis_el1201402433287033685323469158_data = {\"mdsDat\": {\"x\": [0.005246327194150493, 0.0020536422300152686, -0.0023657965961819496, 0.0012068873863914952, -0.002261958558348768, -0.0038791016560265337], \"y\": [-0.0006756388742923894, -0.0020790964366098454, 0.002604248015065785, 0.0037751216042395536, -0.002869880636632891, -0.0007547536717702148], \"topics\": [1, 2, 3, 4, 5, 6], \"cluster\": [1, 1, 1, 1, 1, 1], \"Freq\": [56.21721649169922, 14.848115921020508, 12.065644264221191, 11.63374137878418, 3.9015159606933594, 1.3337669372558594]}, \"tinfo\": {\"Term\": [\"italiano\", \"roma\", \"telegrafico\", \"italia\", \"dispaccio\", \"potere\", \"venire\", \"cardinale\", \"giornale\", \"daily\", \"papa\", \"nuovo\", \"dire\", \"mentire\", \"gran\", \"york\", \"dovere\", \"quotidiano\", \"dare\", \"trovare\", \"notizia\", \"nome\", \"grande\", \"volere\", \"parigi\", \"visitare\", \"numerare\", \"leggere\", \"francese\", \"presidente\", \"world\", \"siderurgico\", \"latori\", \"milano\", \"lettera\", \"zangwiil\", \"pastorale\", \"terso\", \"marchine\", \"taluni\", \"impiego\", \"mercantile\", \"faro\", \"acciaiare\", \"circolazione\", \"r\\u00e8clame\", \"pittoresco\", \"olwtaua4\", \"cattoli\", \"sacramento\", \"recintare\", \"appianare\", \"ammiratore\", \"aizzare\", \"gigante\", \"pubblicista\", \"morin\", \"caufleld\", \"recinto\", \"conclave\", \"religioso\", \"formare\", \"civile\", \"congregazione\", \"buon\", \"chiuso\", \"morto\", \"datare\", \"crisi\", \"parigi\", \"trattare\", \"sicilia\", \"corto\", \"sovrano\", \"accettare\", \"vendere\", \"scienziato\", \"pubblicare\", \"mentire\", \"trovare\", \"fare\", \"esistere\", \"rivoluzionario\", \"dispaccio\", \"russia\", \"pressare\", \"giustiziare\", \"sacro\", \"potere\", \"italia\", \"telegrafico\", \"nuovo\", \"italiano\", \"america\", \"camera\", \"americano\", \"daily\", \"dire\", \"mano\", \"quotidiano\", \"cardinale\", \"giornale\", \"roma\", \"venire\", \"maggio\", \"dovere\", \"gran\", \"papa\", \"numerare\", \"visitare\", \"nome\", \"states\", \"grande\", \"leggere\", \"york\", \"volere\", \"available\", \"text\", \"bosdarl\", \"aires\", \"radiotele\", \"imporla\", \"elevala\", \"spegnendosi\", \"votivo\", \"pianse\", \"prln\", \"bagno\", \"hnnsio\", \"borbone\", \"ticanti\", \"macai\", \"brago\", \"ptog\", \"manwf5\", \"marnato\", \"pineta\", \"uimkt\", \"atlanta\", \"pontone\", \"legraf\\u00f2\", \"italiak\", \"rodolfi\", \"joaquin\", \"qainesvllle\", \"mettani\", \"rivisto\", \"parere\", \"garibaldi\", \"emanuele\", \"viaggiare\", \"missouri\", \"polmone\", \"rocklin\", \"aggiungere\", \"togliere\", \"albanese\", \"maest\\u00e0\", \"roma\", \"importare\", \"puccini\", \"diritto\", \"prin\", \"ispirare\", \"libert\\u00e0\", \"direttore\", \"first\", \"sicuro\", \"italiano\", \"dare\", \"regnare\", \"annunciare\", \"1903\", \"operare\", \"annunziare\", \"austria\", \"york\", \"altro\", \"giornale\", \"papa\", \"rimanere\", \"numerare\", \"popolare\", \"molto\", \"credere\", \"daily\", \"venire\", \"california\", \"nazione\", \"telegrafico\", \"visitare\", \"nome\", \"gran\", \"italia\", \"dispaccio\", \"italian\", \"maggio\", \"dovere\", \"leggere\", \"potere\", \"volere\", \"quotidiano\", \"nuovo\", \"cardinale\", \"dire\", \"americano\", \"trovare\", \"marx\", \"interpretazione\", \"irrimediabile\", \"progenie\", \"stinzione\", \"plicazione\", \"seainre\", \"ninitirn\", \"guale\", \"voieut\", \"sofferenza\", \"egoista\", \"niamo\", \"todo\", \"dann\\u00f3se\", \"modernissimo\", \"collettivista\", \"livo\", \"lard\\u00f2\", \"gravido\", \"empirico\", \"bisticciare\", \"gitazioni\", \"morgari\", \"ipro\", \"uuajista\", \"bismarck\", \"car\\u00e0tteri\", \"rivoluzitnaria\", \"engels\", \"malcontento\", \"impartire\", \"emancipazione\", \"libert\\u00e0\", \"capire\", \"condata\", \"politico\", \"proposito\", \"promettere\", \"arso\", \"nome\", \"piccolo\", \"cardinale\", \"riserva\", \"seriare\", \"sentire\", \"cadavere\", \"francese\", \"madre\", \"dare\", \"gran\", \"propagandare\", \"italiano\", \"giungere\", \"credere\", \"zione\", \"parlamentare\", \"venire\", \"recere\", \"riuscire\", \"tedesco\", \"istituto\", \"difeso\", \"annunziare\", \"giugno\", \"leggere\", \"scrivere\", \"pietro\", \"papa\", \"volere\", \"dispaccio\", \"lottare\", \"sapere\", \"navigazione\", \"daily\", \"grande\", \"passare\", \"telegrafico\", \"giornale\", \"potere\", \"roma\", \"chiesa\", \"presidente\", \"italia\", \"york\", \"mentire\", \"trovare\", \"states\", \"quotidiano\", \"numerare\", \"nuovo\", \"visitare\", \"dire\", \"americano\", \"palombaro\", \"interporre\", \"infelice\", \"staccarli\", \"bmanuele\", \"ancor\", \"medicina\", \"marsiglia\", \"dogana\", \"mesoootamia\", \"libare\", \"riposare\", \"uovo\", \"fiorenzo\", \"ijck\", \"accompagnalo\", \"amdienie\", \"mertilla\", \"uuiiiiui\", \"negletto\", \"dragone\", \"spazioso\", \"disonesto\", \"vergognare\", \"aslamazoff\", \"ordinanza\", \"frica\", \"infini\", \"etn\\u00e9\", \"riani\", \"menomamente\", \"crimea\", \"attivamente\", \"sultano\", \"delta\", \"stamane\", \"lasciare\", \"dimostrare\", \"padrona\", \"chiamare\", \"temere\", \"presidente\", \"italia\", \"incidere\", \"patrizio\", \"rispose\", \"sapere\", \"siberia\", \"altro\", \"collare\", \"relazione\", \"offrire\", \"londra\", \"aumentare\", \"bello\", \"dare\", \"macchina\", \"americano\", \"czar\", \"presentare\", \"dire\", \"vedere\", \"condizione\", \"colonia\", \"francese\", \"potere\", \"italiano\", \"venire\", \"volere\", \"dispaccio\", \"giornale\", \"italian\", \"york\", \"dovere\", \"daily\", \"mentire\", \"telegrafico\", \"roma\", \"parigi\", \"cardinale\", \"notizia\", \"largest\", \"nuovo\", \"unito\", \"quotidiano\", \"states\", \"costare\", \"papa\", \"parassita\", \"rivoluziodari\", \"rinnegare\", \"luzione\", \"espansione\", \"diffon\", \"fumarci\", \"attac\", \"attechisce\", \"colmo\", \"oppressore\", \"inelut\", \"prendooo\", \"contrad\", \"bicadellevie\", \"sbirro\", \"alcoolici\", \"mettiamolo\", \"vqle\", \"idano\", \"since\", \"quldo\", \"palpito\", \"clie\", \"struggh\", \"mentazione\", \"sifilitico\", \"annunciazioni\", \"reazione\", \"pietosamente\", \"clero\", \"autopsia\", \"barra\", \"militarismo\", \"teorema\", \"defunto\", \"sovversivo\", \"vecchio\", \"qualit\\u00e0\", \"compagno\", \"famiglia\", \"viaggiare\", \"necessit\\u00e0\", \"inviare\", \"evento\", \"prendere\", \"condizione\", \"alia\", \"leone\", \"collare\", \"fede\", \"dovere\", \"colpo\", \"patrio\", \"dato\", \"difeso\", \"gotti\", \"roma\", \"america\", \"fatto\", \"notizia\", \"marconi\", \"mano\", \"italiano\", \"potere\", \"vivere\", \"zione\", \"operare\", \"gran\", \"venire\", \"dare\", \"first\", \"vedere\", \"telegrafico\", \"parere\", \"pubblico\", \"quotidiano\", \"mentire\", \"dispaccio\", \"dire\", \"nuovo\", \"italia\", \"cardinale\", \"daily\", \"numerare\", \"york\", \"giornale\", \"papa\", \"parigi\", \"leggere\", \"costare\", \"trovare\", \"nome\", \"mashln\", \"pitanati\", \"boterai\", \"mllaa\", \"oeesano\", \"giovanissimo\", \"notine\", \"destlnazionu\", \"hnbattlno\", \"sfingi\", \"ostentatamente\", \"torpediner\\u00e0\", \"spedalit\\u00e0\", \"eall\", \"obre\", \"sbiadito\", \"ategllr\", \"teaaeada\", \"carvi\", \"seaia\", \"damaro\", \"supposta\", \"agitandolo\", \"odatele\", \"molltiengo\", \"femminile\", \"uare\", \"boiroaa\", \"cernita\", \"studienti\", \"fuochista\", \"intento\", \"oreglia\", \"seccare\", \"viaggiare\", \"aprile\", \"francese\", \"belgrado\", \"matematico\", \"notizia\", \"papa\", \"proposito\", \"telegrafico\", \"ritornare\", \"emanuele\", \"york\", \"grande\", \"garibaldi\", \"altro\", \"pubblico\", \"marconi\", \"serio\", \"itauan\", \"parlare\", \"vano\", \"nuovo\", \"sindacare\", \"tedesco\", \"cardinale\", \"western\", \"navigazione\", \"italiano\", \"ordine\", \"presidente\", \"provare\", \"roma\", \"dire\", \"visitare\", \"passare\", \"gran\", \"tenere\", \"giornale\", \"italian\", \"dispaccio\", \"quotidiano\", \"italia\", \"potere\", \"daily\", \"mentire\", \"dare\", \"trovare\", \"venire\", \"volere\", \"dovere\", \"leggere\"], \"Freq\": [1018.0, 446.0, 407.0, 532.0, 510.0, 384.0, 361.0, 283.0, 343.0, 350.0, 219.0, 225.0, 228.0, 242.0, 204.0, 190.0, 210.0, 204.0, 174.0, 205.0, 136.0, 202.0, 151.0, 174.0, 189.0, 158.0, 177.0, 169.0, 124.0, 142.0, 13.179404258728027, 3.660250186920166, 2.2067060470581055, 45.51707458496094, 54.91488265991211, 2.0791826248168945, 2.1147654056549072, 10.439352035522461, 2.1212668418884277, 4.115548610687256, 2.088012218475342, 8.523085594177246, 14.331587791442871, 4.279976844787598, 4.808712959289551, 2.0294206142425537, 4.793467998504639, 1.3133938312530518, 2.0398952960968018, 3.332921266555786, 4.719508171081543, 3.324474573135376, 3.2820487022399902, 2.70501446723938, 3.3080739974975586, 4.053228855133057, 2.628131151199341, 1.9599823951721191, 1.3067740201950073, 76.35325622558594, 26.477397918701172, 44.89516830444336, 33.7761344909668, 15.727975845336914, 30.203062057495117, 24.228418350219727, 123.74130249023438, 58.99188995361328, 33.562721252441406, 124.82933807373047, 70.83795166015625, 20.37142562866211, 40.56291961669922, 44.277618408203125, 22.21961212158203, 15.353121757507324, 22.267518997192383, 89.85771942138672, 156.63636779785156, 133.08697509765625, 68.9041748046875, 27.15850830078125, 20.875242233276367, 313.6516418457031, 74.30931091308594, 65.01187896728516, 71.15042114257812, 37.4364013671875, 237.09519958496094, 320.4324645996094, 247.473388671875, 141.21067810058594, 586.0173950195312, 77.02247619628906, 71.06024169921875, 132.45437622070312, 206.37619018554688, 138.08786010742188, 91.8182601928711, 124.15323638916016, 167.4592742919922, 198.7190399169922, 252.20375061035156, 199.940185546875, 97.10752868652344, 123.39871978759766, 118.72113800048828, 123.27333068847656, 103.9690170288086, 94.83789825439453, 113.51163482666016, 92.70283508300781, 90.4542007446289, 95.12846374511719, 100.51416778564453, 93.8226547241211, 0.7891756296157837, 0.7889254689216614, 0.8868809938430786, 0.5950158834457397, 0.39139193296432495, 0.383436918258667, 0.3902169466018677, 0.6031204462051392, 0.3803677558898926, 0.3794642686843872, 0.7647303342819214, 0.38327935338020325, 0.35872334241867065, 0.37732312083244324, 0.3768070638179779, 0.3782994747161865, 0.8041409850120544, 0.38035666942596436, 0.37206944823265076, 0.36649206280708313, 0.5669648051261902, 0.373109370470047, 0.5519164204597473, 0.352752149105072, 0.369839072227478, 0.5658141374588013, 0.8589892387390137, 0.3735623061656952, 0.3672069311141968, 0.3594181537628174, 7.74359130859375, 31.22515106201172, 6.231706142425537, 7.071628570556641, 20.24501609802246, 2.0849759578704834, 1.5305589437484741, 0.752196729183197, 10.413860321044922, 3.7327969074249268, 3.8208930492401123, 3.9975879192352295, 89.55973815917969, 13.782371520996094, 1.7016581296920776, 12.62707233428955, 2.382336139678955, 2.2219250202178955, 6.846162796020508, 8.142430305480957, 23.23168182373047, 10.506168365478516, 164.68887329101562, 32.72492980957031, 11.389009475708008, 8.636272430419922, 10.041388511657715, 27.627490997314453, 8.864405632019043, 8.667001724243164, 34.22944641113281, 25.66762351989746, 57.03419494628906, 38.12885284423828, 21.155054092407227, 31.035776138305664, 26.790285110473633, 15.040080070495605, 18.35442352294922, 53.94169235229492, 55.065425872802734, 14.914039611816406, 16.294628143310547, 59.09970474243164, 26.77068328857422, 32.376346588134766, 32.35956954956055, 67.9263916015625, 64.68297576904297, 25.172880172729492, 26.30220603942871, 32.36857604980469, 26.317188262939453, 45.3260498046875, 26.25235939025879, 28.428997039794922, 29.687828063964844, 31.493019104003906, 28.36504554748535, 26.928443908691406, 26.313901901245117, 0.8807705044746399, 0.3859805762767792, 0.37695422768592834, 0.36243075132369995, 0.3752845823764801, 0.36510851979255676, 0.36480554938316345, 0.35964012145996094, 0.36619412899017334, 0.3625907599925995, 0.36747029423713684, 0.3490067720413208, 0.3549104630947113, 0.5258931517601013, 0.35622018575668335, 0.3579702377319336, 0.5011799335479736, 0.3557792603969574, 0.38548243045806885, 0.3411208391189575, 0.3429744243621826, 0.33974623680114746, 0.3583329916000366, 0.3561694920063019, 0.3661409318447113, 0.34821704030036926, 0.3484005928039551, 0.3404865264892578, 0.33804401755332947, 0.3524878919124603, 0.5488494634628296, 2.0701098442077637, 0.8229770064353943, 6.611517906188965, 1.5183627605438232, 0.5533616542816162, 20.654003143310547, 11.354012489318848, 5.644274711608887, 0.7306563854217529, 34.499263763427734, 13.131441116333008, 43.21942138671875, 1.5139117240905762, 1.5489723682403564, 10.873709678649902, 5.570382595062256, 19.84018898010254, 5.774538993835449, 26.366931915283203, 30.133880615234375, 4.299537658691406, 121.13134002685547, 9.868146896362305, 15.400568008422852, 17.268733978271484, 5.807936191558838, 46.767791748046875, 15.575879096984863, 9.62647819519043, 10.57394790649414, 3.0459070205688477, 9.296491622924805, 7.264132976531982, 18.60795021057129, 23.837400436401367, 13.585399627685547, 16.03421401977539, 28.834941864013672, 23.59929847717285, 55.90866470336914, 17.62434959411621, 15.702410697937012, 13.395345687866211, 38.15596008300781, 19.52396583557129, 13.268013954162598, 39.75328826904297, 34.97502517700195, 37.15567398071289, 40.17196273803711, 16.78737449645996, 18.39067268371582, 43.77849578857422, 22.042755126953125, 23.404756546020508, 21.3959903717041, 18.649417877197266, 20.810317993164062, 19.40669059753418, 21.285350799560547, 18.417272567749023, 19.620702743530273, 18.92898941040039, 1.0556740760803223, 0.7378630638122559, 0.7429186105728149, 0.31055212020874023, 0.4550405442714691, 2.3421061038970947, 0.8903965950012207, 3.5707881450653076, 0.7367115616798401, 0.29616600275039673, 0.9225252866744995, 4.285488128662109, 2.243948221206665, 0.7399360537528992, 0.2948535978794098, 0.29920172691345215, 0.28319302201271057, 0.4622296094894409, 0.2966553866863251, 0.28077831864356995, 0.5790132880210876, 0.29096901416778564, 0.2819473147392273, 0.9823558926582336, 0.7552888989448547, 0.6925004720687866, 0.29228249192237854, 0.29005107283592224, 0.2818912863731384, 0.6068211793899536, 1.0399186611175537, 0.7099609375, 0.8530138731002808, 2.922895669937134, 1.813119888305664, 4.0882978439331055, 11.459695816040039, 11.219615936279297, 2.2306129932403564, 10.20123291015625, 8.668725967407227, 23.901975631713867, 82.4027328491211, 3.9570789337158203, 19.703243255615234, 4.196258544921875, 17.854778289794922, 1.7589409351348877, 22.320653915405273, 13.706620216369629, 9.675494194030762, 9.179420471191406, 13.972976684570312, 8.662109375, 7.171635150909424, 26.09162712097168, 16.567731857299805, 31.6090030670166, 7.664938449859619, 11.865222930908203, 31.229907989501953, 16.818262100219727, 13.267936706542969, 9.879182815551758, 17.87049674987793, 46.701255798339844, 103.14049530029297, 43.068458557128906, 23.528942108154297, 56.93039321899414, 40.430850982666016, 20.286304473876953, 24.517763137817383, 26.331628799438477, 38.621036529541016, 28.227909088134766, 40.96009063720703, 41.5224723815918, 22.66114616394043, 29.154205322265625, 17.732357025146484, 18.221263885498047, 22.738088607788086, 17.829694747924805, 20.62904167175293, 18.510135650634766, 18.065818786621094, 19.181917190551758, 0.18702799081802368, 0.11849839240312576, 0.2506937086582184, 0.3752704858779907, 0.12076448649168015, 0.11847305297851562, 0.11274661123752594, 0.11507530510425568, 0.1134750097990036, 0.11774121969938278, 0.2877585291862488, 0.11423599720001221, 0.11572377383708954, 0.11144356429576874, 0.11180475354194641, 0.16641020774841309, 0.11254307627677917, 0.11180905997753143, 0.10858778655529022, 0.11354564130306244, 0.11545035243034363, 0.11253272742033005, 0.11175353825092316, 0.11156488955020905, 0.10987433791160583, 0.10587946325540543, 0.10718286782503128, 0.11005878448486328, 0.5601964592933655, 0.10577918589115143, 0.4953749477863312, 0.22242675721645355, 1.1037219762802124, 0.32138651609420776, 0.21580824255943298, 2.1537468433380127, 0.6757317185401917, 3.045126438140869, 1.196510672569275, 1.4618123769760132, 3.415550470352173, 4.705270767211914, 1.1524033546447754, 2.101647138595581, 0.5724518299102783, 4.7453413009643555, 4.578505039215088, 2.1197078227996826, 4.740011692047119, 4.377706050872803, 2.2643465995788574, 9.752399444580078, 2.151564836502075, 7.426385402679443, 3.6952662467956543, 3.0492465496063232, 1.6100175380706787, 17.860502243041992, 5.850185394287109, 4.34360408782959, 6.4193925857543945, 5.241576194763184, 6.779233455657959, 33.419952392578125, 14.971855163574219, 3.9540929794311523, 5.367403030395508, 6.724846363067627, 8.680808067321777, 13.800423622131348, 7.585696697235107, 5.461677551269531, 5.244704723358154, 14.125568389892578, 5.538387298583984, 4.845431327819824, 7.7115325927734375, 8.637430191040039, 14.236342430114746, 8.226869583129883, 7.937593936920166, 12.955552101135254, 8.876481056213379, 9.711174964904785, 6.6438798904418945, 6.67982816696167, 8.225839614868164, 6.699641704559326, 6.32904052734375, 6.024751663208008, 5.660649299621582, 5.958819389343262, 5.787843227386475, 0.041643571108579636, 0.043262630701065063, 0.041923873126506805, 0.06464677304029465, 0.04033078998327255, 0.05982973054051399, 0.0410061776638031, 0.04214220866560936, 0.04031633585691452, 0.05978314206004143, 0.04142269119620323, 0.04296303540468216, 0.039206262677907944, 0.04007599502801895, 0.06089339032769203, 0.04070907086133957, 0.04005086049437523, 0.040230441838502884, 0.040506113320589066, 0.03907378390431404, 0.04116565361618996, 0.038863785564899445, 0.03963230177760124, 0.03978877514600754, 0.03913518413901329, 0.03899218887090683, 0.039695288985967636, 0.04014953598380089, 0.04025016725063324, 0.038851428776979446, 0.06070321425795555, 0.1191772073507309, 0.6306549310684204, 0.05637127161026001, 1.5814673900604248, 0.8755097389221191, 2.251146078109741, 1.0002965927124023, 0.10165475308895111, 2.405729293823242, 3.4565396308898926, 1.1036626100540161, 5.680602073669434, 0.8102628588676453, 0.5503625869750977, 2.8872647285461426, 2.371957302093506, 0.48465272784233093, 2.104682445526123, 1.665972352027893, 1.6800329685211182, 0.581496000289917, 0.5885473489761353, 1.9086930751800537, 0.7205232381820679, 3.0814712047576904, 0.9538323879241943, 1.0784116983413696, 3.6634886264801025, 1.1227890253067017, 1.3945364952087402, 10.14882755279541, 1.1839107275009155, 2.0335676670074463, 1.311668038368225, 4.951225280761719, 2.866223096847534, 2.147676706314087, 1.3658127784729004, 2.5697133541107178, 1.8114054203033447, 3.6790506839752197, 1.9950709342956543, 4.747043609619141, 2.4543333053588867, 4.816320896148682, 3.681539535522461, 3.406940460205078, 2.6686272621154785, 2.1370298862457275, 2.3474509716033936, 3.1758124828338623, 2.056461811065674, 2.141460657119751, 1.9051058292388916], \"Total\": [1018.0, 446.0, 407.0, 532.0, 510.0, 384.0, 361.0, 283.0, 343.0, 350.0, 219.0, 225.0, 228.0, 242.0, 204.0, 190.0, 210.0, 204.0, 174.0, 205.0, 136.0, 202.0, 151.0, 174.0, 189.0, 158.0, 177.0, 169.0, 124.0, 142.0, 17.56904411315918, 5.0257062911987305, 3.045713186264038, 63.38254165649414, 76.7683334350586, 2.9290077686309814, 2.992345094680786, 14.777477264404297, 3.0107810497283936, 5.841938495635986, 2.964911460876465, 12.102842330932617, 20.354969024658203, 6.08001708984375, 6.836863994598389, 2.8859050273895264, 6.8221354484558105, 1.8771040439605713, 2.9199817180633545, 4.772743225097656, 6.765554904937744, 4.766182899475098, 4.70633602142334, 3.887587547302246, 4.754517078399658, 5.846235275268555, 3.7928662300109863, 2.8342580795288086, 1.889840006828308, 110.4427261352539, 38.472808837890625, 65.77961730957031, 49.46641159057617, 22.86378288269043, 44.276798248291016, 35.546573638916016, 185.94166564941406, 87.62738800048828, 49.4981575012207, 189.30453491210938, 106.19689178466797, 29.869901657104492, 60.39155197143555, 66.09893035888672, 32.71836853027344, 22.454357147216797, 32.87074661254883, 136.47848510742188, 242.0963897705078, 205.35946655273438, 105.16375732421875, 40.30677032470703, 30.779787063598633, 510.15704345703125, 114.04112243652344, 99.51686096191406, 109.32425689697266, 56.2180290222168, 384.9316101074219, 532.31201171875, 407.0926513671875, 225.9409942626953, 1018.546875, 120.2578353881836, 110.5597152709961, 216.6704864501953, 350.2129821777344, 228.3966064453125, 146.73841857910156, 204.1874542236328, 283.86590576171875, 343.0639953613281, 446.2696533203125, 361.8180847167969, 158.57174682617188, 210.72959899902344, 204.11770629882812, 219.5752410888672, 177.07070922851562, 158.5585479736328, 202.8382568359375, 155.74420166015625, 151.72486877441406, 169.7076416015625, 190.87123107910156, 174.79913330078125, 1.3750923871994019, 1.3752477169036865, 2.8683922290802, 2.038367986679077, 1.3641407489776611, 1.3833023309707642, 1.436540961265564, 2.2272391319274902, 1.4079678058624268, 1.4106776714324951, 2.846482038497925, 1.4278916120529175, 1.3424636125564575, 1.4140243530273438, 1.4131251573562622, 1.4267054796218872, 3.0452914237976074, 1.4426747560501099, 1.4158066511154175, 1.3955801725387573, 2.161207675933838, 1.4252691268920898, 2.1097984313964844, 1.351594090461731, 1.4190096855163574, 2.1740548610687256, 3.304136276245117, 1.4377291202545166, 1.4138373136520386, 1.3838752508163452, 29.951385498046875, 122.62356567382812, 24.125375747680664, 27.719261169433594, 82.25806427001953, 8.148221015930176, 5.9566969871521, 2.9054958820343018, 43.07111358642578, 15.0723295211792, 15.489188194274902, 16.849945068359375, 446.2696533203125, 62.252174377441406, 6.889059543609619, 58.209991455078125, 9.904474258422852, 9.232008934020996, 31.15221405029297, 37.63029861450195, 116.49890899658203, 50.4660758972168, 1018.546875, 174.30972290039062, 55.29215621948242, 40.867340087890625, 48.25617218017578, 147.9625701904297, 42.307151794433594, 41.40290451049805, 190.87123107910156, 138.4254608154297, 343.0639953613281, 219.5752410888672, 112.89191436767578, 177.07070922851562, 149.7960662841797, 77.31660461425781, 97.92472839355469, 350.2129821777344, 361.8180847167969, 76.98465728759766, 85.65499114990234, 407.0926513671875, 158.5585479736328, 202.8382568359375, 204.11770629882812, 532.31201171875, 510.15704345703125, 149.4362030029297, 158.57174682617188, 210.72959899902344, 169.7076416015625, 384.9316101074219, 174.79913330078125, 204.1874542236328, 225.9409942626953, 283.86590576171875, 228.3966064453125, 216.6704864501953, 205.35946655273438, 2.7451112270355225, 1.3625200986862183, 1.3593872785568237, 1.3154921531677246, 1.3675076961517334, 1.3441697359085083, 1.3554116487503052, 1.347387433052063, 1.375091552734375, 1.3662197589874268, 1.4024323225021362, 1.3377962112426758, 1.3636394739151, 2.021559953689575, 1.3769636154174805, 1.3855630159378052, 1.9419015645980835, 1.392500400543213, 1.5089526176452637, 1.3398737907409668, 1.3524572849273682, 1.3413509130477905, 1.416548252105713, 1.4081951379776, 1.451543927192688, 1.382495403289795, 1.386297583580017, 1.3574694395065308, 1.3517696857452393, 1.412237524986267, 2.199925422668457, 8.750734329223633, 3.4007394313812256, 31.15221405029297, 6.683921813964844, 2.264686107635498, 114.15779113769531, 59.601341247558594, 27.93964195251465, 3.0719234943389893, 202.8382568359375, 74.93951416015625, 283.86590576171875, 6.860275745391846, 7.040554523468018, 62.310157775878906, 29.48630142211914, 124.2621078491211, 31.207632064819336, 174.30972290039062, 204.11770629882812, 22.508731842041016, 1018.546875, 58.10167694091797, 97.92472839355469, 111.85366821289062, 32.06577682495117, 361.8180847167969, 101.1477279663086, 57.87313461303711, 64.70952606201172, 15.329872131347656, 56.11608123779297, 42.307151794433594, 126.71058654785156, 169.7076416015625, 87.74957275390625, 107.66027069091797, 219.5752410888672, 174.79913330078125, 510.15704345703125, 124.36312866210938, 108.84561920166016, 89.31884765625, 350.2129821777344, 151.72486877441406, 89.47237396240234, 407.0926513671875, 343.0639953613281, 384.9316101074219, 446.2696533203125, 124.4847412109375, 142.85568237304688, 532.31201171875, 190.87123107910156, 242.0963897705078, 205.35946655273438, 155.74420166015625, 204.1874542236328, 177.07070922851562, 225.9409942626953, 158.5585479736328, 228.3966064453125, 216.6704864501953, 4.581532001495361, 3.3543756008148193, 3.4016523361206055, 1.43025541305542, 2.0976059436798096, 11.00969123840332, 4.209463119506836, 16.890151977539062, 3.5043747425079346, 1.4105437994003296, 4.418035507202148, 20.575122833251953, 10.778987884521484, 3.5911002159118652, 1.4338618516921997, 1.4610806703567505, 1.3857219219207764, 2.2650411128997803, 1.4642810821533203, 1.3871811628341675, 2.867281198501587, 1.444074273109436, 1.4007744789123535, 4.900010108947754, 3.7688004970550537, 3.457597255706787, 1.4637186527252197, 1.4561643600463867, 1.4161497354507446, 3.0509350299835205, 5.236923694610596, 3.5735082626342773, 4.302581310272217, 15.075873374938965, 9.33913803100586, 21.619462966918945, 63.277095794677734, 62.67101287841797, 11.72154712677002, 57.33454132080078, 48.77857971191406, 142.85568237304688, 532.31201171875, 21.742305755615234, 120.01985168457031, 23.258190155029297, 108.84561920166016, 9.24886417388916, 138.4254608154297, 83.13922882080078, 57.21628952026367, 54.108863830566406, 86.32263946533203, 51.535160064697266, 42.11512756347656, 174.30972290039062, 105.970947265625, 216.6704864501953, 45.469871520996094, 74.62188720703125, 228.3966064453125, 113.12637329101562, 86.6009750366211, 61.955631256103516, 124.2621078491211, 384.9316101074219, 1018.546875, 361.8180847167969, 174.79913330078125, 510.15704345703125, 343.0639953613281, 149.4362030029297, 190.87123107910156, 210.72959899902344, 350.2129821777344, 242.0963897705078, 407.0926513671875, 446.2696533203125, 189.30453491210938, 283.86590576171875, 136.12564086914062, 143.65533447265625, 225.9409942626953, 141.35870361328125, 204.1874542236328, 155.74420166015625, 150.0857391357422, 219.5752410888672, 1.9770435094833374, 1.2768689393997192, 2.754361629486084, 4.131699562072754, 1.3430017232894897, 1.3217123746871948, 1.2741713523864746, 1.3088743686676025, 1.3013689517974854, 1.358723759651184, 3.321063280105591, 1.3207790851593018, 1.3497276306152344, 1.3194643259048462, 1.324817180633545, 1.9731544256210327, 1.3363908529281616, 1.3277353048324585, 1.2928513288497925, 1.353557825088501, 1.3801995515823364, 1.3519974946975708, 1.351355791091919, 1.354993462562561, 1.3353993892669678, 1.2875241041183472, 1.3136926889419556, 1.3577982187271118, 6.940675735473633, 1.3117510080337524, 6.2652974128723145, 2.7916293144226074, 14.701475143432617, 4.092031002044678, 2.7133421897888184, 30.57271385192871, 9.036757469177246, 47.97474670410156, 17.408458709716797, 22.13538932800293, 57.08883285522461, 82.25806427001953, 17.29126739501953, 34.9433708190918, 8.145766258239746, 88.52304077148438, 86.6009750366211, 36.2077751159668, 90.64474487304688, 83.13922882080078, 39.20395278930664, 210.72959899902344, 37.33560562133789, 157.1424102783203, 69.94625854492188, 56.11608123779297, 26.806800842285156, 446.2696533203125, 120.2578353881836, 85.03411102294922, 136.12564086914062, 107.30303955078125, 146.73841857910156, 1018.546875, 384.9316101074219, 76.91707611083984, 111.85366821289062, 147.9625701904297, 204.11770629882812, 361.8180847167969, 174.30972290039062, 116.49890899658203, 113.12637329101562, 407.0926513671875, 122.62356567382812, 105.23342895507812, 204.1874542236328, 242.0963897705078, 510.15704345703125, 228.3966064453125, 225.9409942626953, 532.31201171875, 283.86590576171875, 350.2129821777344, 177.07070922851562, 190.87123107910156, 343.0639953613281, 219.5752410888672, 189.30453491210938, 169.7076416015625, 150.0857391357422, 205.35946655273438, 202.8382568359375, 1.2864564657211304, 1.3476625680923462, 1.3210822343826294, 2.0427627563476562, 1.2816059589385986, 1.9070160388946533, 1.3181371688842773, 1.3551443815231323, 1.3048720359802246, 1.9388984441757202, 1.346666932106018, 1.3976751565933228, 1.2768402099609375, 1.3086657524108887, 1.9897066354751587, 1.3337931632995605, 1.3232165575027466, 1.332312822341919, 1.3431954383850098, 1.3001086711883545, 1.3829264640808105, 1.3228799104690552, 1.3509056568145752, 1.360082745552063, 1.338032841682434, 1.3332808017730713, 1.359864354133606, 1.3770103454589844, 1.383418321609497, 1.3367315530776978, 2.100733757019043, 4.2596025466918945, 28.987342834472656, 2.001624822616577, 82.25806427001953, 42.727508544921875, 124.2621078491211, 50.013526916503906, 3.884880781173706, 136.12564086914062, 219.5752410888672, 59.601341247558594, 407.0926513671875, 43.21812057495117, 27.719261169433594, 190.87123107910156, 151.72486877441406, 24.125375747680664, 138.4254608154297, 105.23342895507812, 107.30303955078125, 30.51662826538086, 31.109352111816406, 126.54399108886719, 39.71735763549805, 225.9409942626953, 55.631134033203125, 64.70952606201172, 283.86590576171875, 68.47411346435547, 89.31884765625, 1018.546875, 73.16886901855469, 142.85568237304688, 84.08665466308594, 446.2696533203125, 228.3966064453125, 158.5585479736328, 89.47237396240234, 204.11770629882812, 130.1007843017578, 343.0639953613281, 149.4362030029297, 510.15704345703125, 204.1874542236328, 532.31201171875, 384.9316101074219, 350.2129821777344, 242.0963897705078, 174.30972290039062, 205.35946655273438, 361.8180847167969, 174.79913330078125, 210.72959899902344, 169.7076416015625], \"Category\": [\"Default\", \"Default\", \"Default\", \"Default\", \"Default\", \"Default\", \"Default\", \"Default\", \"Default\", \"Default\", \"Default\", \"Default\", \"Default\", \"Default\", \"Default\", \"Default\", \"Default\", \"Default\", \"Default\", \"Default\", \"Default\", \"Default\", \"Default\", \"Default\", \"Default\", \"Default\", \"Default\", \"Default\", \"Default\", \"Default\", \"Topic1\", \"Topic1\", \"Topic1\", \"Topic1\", \"Topic1\", \"Topic1\", \"Topic1\", \"Topic1\", \"Topic1\", \"Topic1\", \"Topic1\", \"Topic1\", \"Topic1\", \"Topic1\", \"Topic1\", \"Topic1\", \"Topic1\", \"Topic1\", \"Topic1\", \"Topic1\", \"Topic1\", \"Topic1\", \"Topic1\", \"Topic1\", \"Topic1\", \"Topic1\", \"Topic1\", \"Topic1\", \"Topic1\", \"Topic1\", \"Topic1\", \"Topic1\", \"Topic1\", \"Topic1\", \"Topic1\", \"Topic1\", \"Topic1\", \"Topic1\", \"Topic1\", \"Topic1\", \"Topic1\", \"Topic1\", \"Topic1\", \"Topic1\", \"Topic1\", \"Topic1\", \"Topic1\", \"Topic1\", \"Topic1\", \"Topic1\", \"Topic1\", \"Topic1\", \"Topic1\", \"Topic1\", \"Topic1\", \"Topic1\", \"Topic1\", \"Topic1\", \"Topic1\", \"Topic1\", \"Topic1\", \"Topic1\", \"Topic1\", \"Topic1\", \"Topic1\", \"Topic1\", \"Topic1\", \"Topic1\", \"Topic1\", \"Topic1\", \"Topic1\", \"Topic1\", \"Topic1\", \"Topic1\", \"Topic1\", \"Topic1\", \"Topic1\", \"Topic1\", \"Topic1\", \"Topic1\", \"Topic1\", \"Topic1\", \"Topic1\", \"Topic1\", \"Topic1\", \"Topic1\", \"Topic2\", \"Topic2\", \"Topic2\", \"Topic2\", \"Topic2\", \"Topic2\", \"Topic2\", \"Topic2\", \"Topic2\", \"Topic2\", \"Topic2\", \"Topic2\", \"Topic2\", \"Topic2\", \"Topic2\", \"Topic2\", \"Topic2\", \"Topic2\", \"Topic2\", \"Topic2\", \"Topic2\", \"Topic2\", \"Topic2\", \"Topic2\", \"Topic2\", \"Topic2\", \"Topic2\", \"Topic2\", \"Topic2\", \"Topic2\", \"Topic2\", \"Topic2\", \"Topic2\", \"Topic2\", \"Topic2\", \"Topic2\", \"Topic2\", \"Topic2\", \"Topic2\", \"Topic2\", \"Topic2\", \"Topic2\", \"Topic2\", \"Topic2\", \"Topic2\", \"Topic2\", \"Topic2\", \"Topic2\", \"Topic2\", \"Topic2\", \"Topic2\", \"Topic2\", \"Topic2\", \"Topic2\", \"Topic2\", \"Topic2\", \"Topic2\", \"Topic2\", \"Topic2\", \"Topic2\", \"Topic2\", \"Topic2\", \"Topic2\", \"Topic2\", \"Topic2\", \"Topic2\", \"Topic2\", \"Topic2\", \"Topic2\", \"Topic2\", \"Topic2\", \"Topic2\", \"Topic2\", \"Topic2\", \"Topic2\", \"Topic2\", \"Topic2\", \"Topic2\", \"Topic2\", \"Topic2\", \"Topic2\", \"Topic2\", \"Topic2\", \"Topic2\", \"Topic2\", \"Topic2\", \"Topic2\", \"Topic2\", \"Topic2\", \"Topic2\", \"Topic2\", \"Topic3\", \"Topic3\", \"Topic3\", \"Topic3\", \"Topic3\", \"Topic3\", \"Topic3\", \"Topic3\", \"Topic3\", \"Topic3\", \"Topic3\", \"Topic3\", \"Topic3\", \"Topic3\", \"Topic3\", \"Topic3\", \"Topic3\", \"Topic3\", \"Topic3\", \"Topic3\", \"Topic3\", \"Topic3\", \"Topic3\", \"Topic3\", \"Topic3\", \"Topic3\", \"Topic3\", \"Topic3\", \"Topic3\", \"Topic3\", \"Topic3\", \"Topic3\", \"Topic3\", \"Topic3\", \"Topic3\", \"Topic3\", \"Topic3\", \"Topic3\", \"Topic3\", \"Topic3\", \"Topic3\", \"Topic3\", \"Topic3\", \"Topic3\", \"Topic3\", \"Topic3\", \"Topic3\", \"Topic3\", \"Topic3\", \"Topic3\", \"Topic3\", \"Topic3\", \"Topic3\", \"Topic3\", \"Topic3\", \"Topic3\", \"Topic3\", \"Topic3\", \"Topic3\", \"Topic3\", \"Topic3\", \"Topic3\", \"Topic3\", \"Topic3\", \"Topic3\", \"Topic3\", \"Topic3\", \"Topic3\", \"Topic3\", \"Topic3\", \"Topic3\", \"Topic3\", \"Topic3\", \"Topic3\", \"Topic3\", \"Topic3\", \"Topic3\", \"Topic3\", \"Topic3\", \"Topic3\", \"Topic3\", \"Topic3\", \"Topic3\", \"Topic3\", \"Topic3\", \"Topic3\", \"Topic3\", \"Topic3\", \"Topic3\", \"Topic3\", \"Topic3\", \"Topic3\", \"Topic3\", \"Topic3\", \"Topic4\", \"Topic4\", \"Topic4\", \"Topic4\", \"Topic4\", \"Topic4\", \"Topic4\", \"Topic4\", \"Topic4\", \"Topic4\", \"Topic4\", \"Topic4\", \"Topic4\", \"Topic4\", \"Topic4\", \"Topic4\", \"Topic4\", \"Topic4\", \"Topic4\", \"Topic4\", \"Topic4\", \"Topic4\", \"Topic4\", \"Topic4\", \"Topic4\", \"Topic4\", \"Topic4\", \"Topic4\", \"Topic4\", \"Topic4\", \"Topic4\", \"Topic4\", \"Topic4\", \"Topic4\", \"Topic4\", \"Topic4\", \"Topic4\", \"Topic4\", \"Topic4\", \"Topic4\", \"Topic4\", \"Topic4\", \"Topic4\", \"Topic4\", \"Topic4\", \"Topic4\", \"Topic4\", \"Topic4\", \"Topic4\", \"Topic4\", \"Topic4\", \"Topic4\", \"Topic4\", \"Topic4\", \"Topic4\", \"Topic4\", \"Topic4\", \"Topic4\", \"Topic4\", \"Topic4\", \"Topic4\", \"Topic4\", \"Topic4\", \"Topic4\", \"Topic4\", \"Topic4\", \"Topic4\", \"Topic4\", \"Topic4\", \"Topic4\", \"Topic4\", \"Topic4\", \"Topic4\", \"Topic4\", \"Topic4\", \"Topic4\", \"Topic4\", \"Topic4\", \"Topic4\", \"Topic4\", \"Topic4\", \"Topic4\", \"Topic4\", \"Topic4\", \"Topic4\", \"Topic4\", \"Topic4\", \"Topic4\", \"Topic5\", \"Topic5\", \"Topic5\", \"Topic5\", \"Topic5\", \"Topic5\", \"Topic5\", \"Topic5\", \"Topic5\", \"Topic5\", \"Topic5\", \"Topic5\", \"Topic5\", \"Topic5\", \"Topic5\", \"Topic5\", \"Topic5\", \"Topic5\", \"Topic5\", \"Topic5\", \"Topic5\", \"Topic5\", \"Topic5\", \"Topic5\", \"Topic5\", \"Topic5\", \"Topic5\", \"Topic5\", \"Topic5\", \"Topic5\", \"Topic5\", \"Topic5\", \"Topic5\", \"Topic5\", \"Topic5\", \"Topic5\", \"Topic5\", \"Topic5\", \"Topic5\", \"Topic5\", \"Topic5\", \"Topic5\", \"Topic5\", \"Topic5\", \"Topic5\", \"Topic5\", \"Topic5\", \"Topic5\", \"Topic5\", \"Topic5\", \"Topic5\", \"Topic5\", \"Topic5\", \"Topic5\", \"Topic5\", \"Topic5\", \"Topic5\", \"Topic5\", \"Topic5\", \"Topic5\", \"Topic5\", \"Topic5\", \"Topic5\", \"Topic5\", \"Topic5\", \"Topic5\", \"Topic5\", \"Topic5\", \"Topic5\", \"Topic5\", \"Topic5\", \"Topic5\", \"Topic5\", \"Topic5\", \"Topic5\", \"Topic5\", \"Topic5\", \"Topic5\", \"Topic5\", \"Topic5\", \"Topic5\", \"Topic5\", \"Topic5\", \"Topic5\", \"Topic5\", \"Topic5\", \"Topic5\", \"Topic5\", \"Topic5\", \"Topic5\", \"Topic5\", \"Topic5\", \"Topic5\", \"Topic6\", \"Topic6\", \"Topic6\", \"Topic6\", \"Topic6\", \"Topic6\", \"Topic6\", \"Topic6\", \"Topic6\", \"Topic6\", \"Topic6\", \"Topic6\", \"Topic6\", \"Topic6\", \"Topic6\", \"Topic6\", \"Topic6\", \"Topic6\", \"Topic6\", \"Topic6\", \"Topic6\", \"Topic6\", \"Topic6\", \"Topic6\", \"Topic6\", \"Topic6\", \"Topic6\", \"Topic6\", \"Topic6\", \"Topic6\", \"Topic6\", \"Topic6\", \"Topic6\", \"Topic6\", \"Topic6\", \"Topic6\", \"Topic6\", \"Topic6\", \"Topic6\", \"Topic6\", \"Topic6\", \"Topic6\", \"Topic6\", \"Topic6\", \"Topic6\", \"Topic6\", \"Topic6\", \"Topic6\", \"Topic6\", \"Topic6\", \"Topic6\", \"Topic6\", \"Topic6\", \"Topic6\", \"Topic6\", \"Topic6\", \"Topic6\", \"Topic6\", \"Topic6\", \"Topic6\", \"Topic6\", \"Topic6\", \"Topic6\", \"Topic6\", \"Topic6\", \"Topic6\", \"Topic6\", \"Topic6\", \"Topic6\", \"Topic6\", \"Topic6\", \"Topic6\", \"Topic6\", \"Topic6\", \"Topic6\", \"Topic6\", \"Topic6\", \"Topic6\", \"Topic6\", \"Topic6\", \"Topic6\", \"Topic6\", \"Topic6\", \"Topic6\", \"Topic6\"], \"logprob\": [30.0, 29.0, 28.0, 27.0, 26.0, 25.0, 24.0, 23.0, 22.0, 21.0, 20.0, 19.0, 18.0, 17.0, 16.0, 15.0, 14.0, 13.0, 12.0, 11.0, 10.0, 9.0, 8.0, 7.0, 6.0, 5.0, 4.0, 3.0, 2.0, 1.0, -8.605600357055664, -9.886699676513672, -10.3927001953125, -7.366099834442139, -7.178400039672852, -10.452199935913086, -10.43529987335205, -8.838600158691406, -10.43220043182373, -9.769399642944336, -10.447999954223633, -9.041399955749512, -8.521699905395508, -9.730299949645996, -9.613800048828125, -10.476499557495117, -9.616999626159668, -10.911600112915039, -10.47130012512207, -9.980400085449219, -9.632499694824219, -9.98289966583252, -9.995699882507324, -10.18910026550293, -9.987799644470215, -9.784700393676758, -10.217900276184082, -10.511300086975098, -10.916600227355957, -6.848800182342529, -7.907899856567383, -7.379899978637695, -7.6645002365112305, -8.428799629211426, -7.776299953460693, -7.996699810028076, -6.366000175476074, -7.106800079345703, -7.67080020904541, -6.3572998046875, -6.923799991607666, -8.170100212097168, -7.481400012969971, -7.393700122833252, -8.083200454711914, -8.452899932861328, -8.081100463867188, -6.685999870300293, -6.130300045013428, -6.2932000160217285, -6.951499938964844, -7.882500171661377, -8.145600318908691, -5.4359002113342285, -6.875999927520752, -7.0096001625061035, -6.919400215148926, -7.561600208282471, -5.715700149536133, -5.4145002365112305, -5.672900199890137, -6.234000205993652, -4.8109002113342285, -6.840099811553955, -6.9207000732421875, -6.297999858856201, -5.854499816894531, -6.25629997253418, -6.664400100708008, -6.36269998550415, -6.063499927520752, -5.892300128936768, -5.6539998054504395, -5.886199951171875, -6.608399868011475, -6.368800163269043, -6.407400131225586, -6.369800090789795, -6.54010009765625, -6.631999969482422, -6.452300071716309, -6.654799938201904, -6.6793999671936035, -6.629000186920166, -6.57390022277832, -6.6427998542785645, -10.089599609375, -10.089900016784668, -9.972900390625, -10.371999740600586, -10.790900230407715, -10.811400413513184, -10.793899536132812, -10.358499526977539, -10.819499969482422, -10.821800231933594, -10.121100425720215, -10.811800003051758, -10.878100395202637, -10.827500343322754, -10.828900337219238, -10.824899673461914, -10.070799827575684, -10.819499969482422, -10.841500282287598, -10.856599807739258, -10.420299530029297, -10.838700294494629, -10.447199821472168, -10.894800186157227, -10.84749984741211, -10.422300338745117, -10.004899978637695, -10.837499618530273, -10.854700088500977, -10.876099586486816, -7.806000232696533, -6.411600112915039, -8.023200035095215, -7.8968000411987305, -6.844900131225586, -9.1181001663208, -9.427200317382812, -10.13759994506836, -7.509699821472168, -8.535699844360352, -8.512399673461914, -8.46720027923584, -5.357900142669678, -7.229499816894531, -9.32129955291748, -7.316999912261963, -8.984800338745117, -9.054499626159668, -7.929200172424316, -7.755799770355225, -6.707300186157227, -7.500899791717529, -4.748799800872803, -6.364699840545654, -7.420199871063232, -7.696899890899658, -7.54610013961792, -6.533999919891357, -7.67080020904541, -7.693299770355225, -6.319799900054932, -6.607600212097168, -5.809199810028076, -6.211900234222412, -6.801000118255615, -6.417699813842773, -6.564799785614014, -7.142099857330322, -6.942999839782715, -5.864999771118164, -5.844299793243408, -7.150599956512451, -7.061999797821045, -5.773600101470947, -6.565499782562256, -6.375400066375732, -6.375899791717529, -5.634399890899658, -5.6834001541137695, -6.627099990844727, -6.583199977874756, -6.375699996948242, -6.582600116729736, -6.039000034332275, -6.585100173950195, -6.50540018081665, -6.462100028991699, -6.40310001373291, -6.507699966430664, -6.559700012207031, -6.582799911499023, -9.772299766540527, -10.597299575805664, -10.621000289916992, -10.660300254821777, -10.625399589538574, -10.652899742126465, -10.65369987487793, -10.668000221252441, -10.649900436401367, -10.659799575805664, -10.646499633789062, -10.697999954223633, -10.68120002746582, -10.288000106811523, -10.677599906921387, -10.672599792480469, -10.336099624633789, -10.678799629211426, -10.598600387573242, -10.72089958190918, -10.715399742126465, -10.724900245666504, -10.671600341796875, -10.67770004272461, -10.650099754333496, -10.700300216674805, -10.699700355529785, -10.722700119018555, -10.729900360107422, -10.68809986114502, -10.24530029296875, -8.917699813842773, -9.840200424194336, -7.756499767303467, -9.227700233459473, -10.237099647521973, -6.617400169372559, -7.215799808502197, -7.914700031280518, -9.959199905395508, -6.104400157928467, -7.070300102233887, -5.8790998458862305, -9.230600357055664, -9.207799911499023, -7.258999824523926, -7.9278998374938965, -6.657599925994873, -7.891900062561035, -6.373199939727783, -6.239699840545654, -8.186800003051758, -4.848499774932861, -7.355999946594238, -6.910900115966797, -6.79640007019043, -7.886099815368652, -5.80019998550415, -6.899600028991699, -7.380799770355225, -7.2870001792907715, -8.531499862670898, -7.4156999588012695, -7.662399768829346, -6.721799850463867, -6.474100112915039, -7.036300182342529, -6.87060022354126, -6.28380012512207, -6.484099864959717, -5.621600151062012, -6.776100158691406, -6.891499996185303, -7.0503997802734375, -6.003699779510498, -6.673699855804443, -7.059999942779541, -5.962699890136719, -6.090700149536133, -6.030200004577637, -5.952199935913086, -6.824699878692627, -6.733500003814697, -5.866199970245361, -6.5524001121521, -6.492400169372559, -6.582099914550781, -6.7195000648498535, -6.609899997711182, -6.679699897766113, -6.587299823760986, -6.732100009918213, -6.668799877166748, -6.704599857330322, -9.554699897766113, -9.9128999710083, -9.906100273132324, -10.778300285339355, -10.396300315856934, -8.757800102233887, -9.725000381469727, -8.336099624633789, -9.91450023651123, -10.825699806213379, -9.689499855041504, -8.15369987487793, -8.800700187683105, -9.910099983215332, -10.8302001953125, -10.815500259399414, -10.870499610900879, -10.380599975585938, -10.82409954071045, -10.87909984588623, -10.15530014038086, -10.843400001525879, -10.874899864196777, -9.626700401306152, -9.88949966430664, -9.976300239562988, -10.838899612426758, -10.846599578857422, -10.875100135803223, -10.108400344848633, -9.56980037689209, -9.951399803161621, -9.767900466918945, -8.536299705505371, -9.013799667358398, -8.200799942016602, -7.170100212097168, -7.191199779510498, -8.806599617004395, -7.286399841308594, -7.44920015335083, -6.434899806976318, -5.197299957275391, -8.233400344848633, -6.6280999183654785, -8.174699783325195, -6.726600170135498, -9.04419994354248, -6.503399848937988, -6.991000175476074, -7.339300155639648, -7.391900062561035, -6.971799850463867, -7.449900150299072, -7.638800144195557, -6.347300052642822, -6.801400184631348, -6.155399799346924, -7.572199821472168, -7.135300159454346, -6.167500019073486, -6.786399841308594, -7.023499965667725, -7.31850004196167, -6.7256999015808105, -5.765100002288818, -4.972799777984619, -5.846099853515625, -6.450699806213379, -5.5671000480651855, -5.909299850463867, -6.598899841308594, -6.4095001220703125, -6.338099956512451, -5.955100059509277, -6.268599987030029, -5.896299839019775, -5.882699966430664, -6.4882001876831055, -6.236299991607666, -6.733500003814697, -6.706299781799316, -6.484899997711182, -6.728000164031982, -6.582200050354004, -6.6905999183654785, -6.714900016784668, -6.654900074005127, -10.19279956817627, -10.649200439453125, -9.899900436401367, -9.496500015258789, -10.63029956817627, -10.649399757385254, -10.699000358581543, -10.678500175476074, -10.692500114440918, -10.655599594116211, -9.76200008392334, -10.685799598693848, -10.672900199890137, -10.710599899291992, -10.707300186157227, -10.309599876403809, -10.700799942016602, -10.707300186157227, -10.736499786376953, -10.691900253295898, -10.675299644470215, -10.700900077819824, -10.707799911499023, -10.709500312805176, -10.724800109863281, -10.761799812316895, -10.749600410461426, -10.723099708557129, -9.095800399780273, -10.762700080871582, -9.218799591064453, -10.019499778747559, -8.417699813842773, -9.65149974822998, -10.049699783325195, -7.749100208282471, -8.908300399780273, -7.4028000831604, -8.336899757385254, -8.136699676513672, -7.288000106811523, -6.967700004577637, -8.374500274658203, -7.773600101470947, -9.074199676513672, -6.959199905395508, -6.994999885559082, -7.765100002288818, -6.960299968719482, -7.03980016708374, -7.699100017547607, -6.238800048828125, -7.750199794769287, -6.511300086975098, -7.2093000411987305, -7.401500225067139, -8.04010009765625, -5.633800029754639, -6.749899864196777, -7.047599792480469, -6.6570000648498535, -6.8597002029418945, -6.602499961853027, -5.007199764251709, -5.810200214385986, -7.141600131988525, -6.835999965667725, -6.610499858856201, -6.355199813842773, -5.891600131988525, -6.490099906921387, -6.818600177764893, -6.859099864959717, -5.8684000968933105, -6.804599761962891, -6.938300132751465, -6.473599910736084, -6.360199928283691, -5.860499858856201, -6.408899784088135, -6.444699764251709, -5.954800128936768, -6.332900047302246, -6.243100166320801, -6.622700214385986, -6.617300033569336, -6.40910005569458, -6.614299774169922, -6.671199798583984, -6.7204999923706055, -6.782800197601318, -6.731500148773193, -6.7606000900268555, -10.621600151062012, -10.583499908447266, -10.614899635314941, -10.18179988861084, -10.653599739074707, -10.259200096130371, -10.63700008392334, -10.609700202941895, -10.654000282287598, -10.260000228881836, -10.626899719238281, -10.590399742126465, -10.681900024414062, -10.65999984741211, -10.241600036621094, -10.64430046081543, -10.660599708557129, -10.656100273132324, -10.649299621582031, -10.68529987335205, -10.633099555969238, -10.690699577331543, -10.671099662780762, -10.667200088500977, -10.683699607849121, -10.687399864196777, -10.669500350952148, -10.658100128173828, -10.655599594116211, -10.690999984741211, -10.24470043182373, -9.570099830627441, -7.9039998054504395, -10.31879997253418, -6.984600067138672, -7.575900077819824, -6.6315999031066895, -7.442699909210205, -9.72920036315918, -6.565100193023682, -6.202700138092041, -7.344399929046631, -5.705900192260742, -7.65339994430542, -8.040200233459473, -6.382699966430664, -6.5792999267578125, -8.1673002243042, -6.698800086975098, -6.932600021362305, -6.924200057983398, -7.985099792480469, -7.973100185394287, -6.796599864959717, -7.7708001136779785, -6.317599773406982, -7.490300178527832, -7.367499828338623, -6.144599914550781, -7.327199935913086, -7.110400199890137, -5.1255998611450195, -7.274199962615967, -6.7332000732421875, -7.1717000007629395, -5.843400001525879, -6.389999866485596, -6.678599834442139, -7.131199836730957, -6.499199867248535, -6.848899841308594, -6.1402997970581055, -6.752299785614014, -5.885499954223633, -6.545100212097168, -5.870999813079834, -6.139699935913086, -6.217199802398682, -6.461400032043457, -6.683599948883057, -6.589700222015381, -6.287399768829346, -6.7220001220703125, -6.68149995803833, -6.798500061035156], \"loglift\": [30.0, 29.0, 28.0, 27.0, 26.0, 25.0, 24.0, 23.0, 22.0, 21.0, 20.0, 19.0, 18.0, 17.0, 16.0, 15.0, 14.0, 13.0, 12.0, 11.0, 10.0, 9.0, 8.0, 7.0, 6.0, 5.0, 4.0, 3.0, 2.0, 1.0, 0.28850001096725464, 0.258899986743927, 0.25369998812675476, 0.24480000138282776, 0.24089999496936798, 0.23330000042915344, 0.2287999987602234, 0.22840000689029694, 0.22579999268054962, 0.2257000058889389, 0.22529999911785126, 0.22529999911785126, 0.22509999573230743, 0.2249000072479248, 0.2240000069141388, 0.22390000522136688, 0.22300000488758087, 0.21879999339580536, 0.21729999780654907, 0.21690000593662262, 0.21580000221729279, 0.21570000052452087, 0.21549999713897705, 0.21330000460147858, 0.21320000290870667, 0.20970000326633453, 0.20909999310970306, 0.2071000039577484, 0.2070000022649765, 0.20679999887943268, 0.20229999721050262, 0.1940000057220459, 0.19439999759197235, 0.20180000364780426, 0.19339999556541443, 0.19259999692440033, 0.16869999468326569, 0.18029999732971191, 0.1873999983072281, 0.15950000286102295, 0.17100000381469727, 0.1932000070810318, 0.17800000309944153, 0.1753000020980835, 0.1889999955892563, 0.19580000638961792, 0.18649999797344208, 0.15800000727176666, 0.1404999941587448, 0.14219999313354492, 0.15309999883174896, 0.181099995970726, 0.18770000338554382, 0.08950000256299973, 0.147599995136261, 0.1501999944448471, 0.14640000462532043, 0.16940000653266907, 0.09130000323057175, 0.06840000301599503, 0.07819999754428864, 0.10589999705553055, 0.02319999970495701, 0.13040000200271606, 0.1339000016450882, 0.08380000293254852, 0.0471000000834465, 0.07280000299215317, 0.1071000024676323, 0.07840000092983246, 0.04820000007748604, 0.029899999499320984, 0.0052999998442828655, -0.01720000058412552, 0.08560000360012054, 0.040800001472234726, 0.03400000184774399, -0.0013000000035390258, 0.04349999874830246, 0.06199999898672104, -0.004600000102072954, 0.057100001722574234, 0.05869999900460243, -0.002899999963119626, -0.06539999693632126, -0.046300001442432404, 1.3519999980926514, 1.3516000509262085, 0.7335000038146973, 0.6759999990463257, 0.6586999893188477, 0.6241999864578247, 0.6039999723434448, 0.6008999943733215, 0.5985000133514404, 0.5942000150680542, 0.5929999947547913, 0.5921000242233276, 0.5875999927520752, 0.5861999988555908, 0.5855000019073486, 0.5799000263214111, 0.5756999850273132, 0.5741999745368958, 0.570900022983551, 0.5702000260353088, 0.5691999793052673, 0.5670999884605408, 0.5662999749183655, 0.5640000104904175, 0.5626999735832214, 0.5612000226974487, 0.5601000189781189, 0.5595999956130981, 0.5591999888420105, 0.5590999722480774, 0.5546000003814697, 0.5393999814987183, 0.5536999702453613, 0.5412999987602234, 0.505299985408783, 0.5443000197410583, 0.5483999848365784, 0.555899977684021, 0.4875999987125397, 0.5116000175476074, 0.5076000094413757, 0.46860000491142273, 0.3012999892234802, 0.3995000123977661, 0.5090000033378601, 0.3790999948978424, 0.48240000009536743, 0.4830000102519989, 0.3921000063419342, 0.3765999972820282, 0.29490000009536743, 0.33799999952316284, 0.0851999968290329, 0.2345999926328659, 0.3273000121116638, 0.3528999984264374, 0.3375000059604645, 0.22910000383853912, 0.34439998865127563, 0.3434999883174896, 0.18880000710487366, 0.22220000624656677, 0.11299999803304672, 0.1565999984741211, 0.23270000517368317, 0.16590000689029694, 0.18610000610351562, 0.2700999975204468, 0.2329999953508377, 0.03669999912381172, 0.024700000882148743, 0.26600000262260437, 0.24779999256134033, -0.02250000089406967, 0.12849999964237213, 0.0723000019788742, 0.06549999862909317, -0.15150000154972076, -0.15790000557899475, 0.12620000541210175, 0.11069999635219574, 0.033900000154972076, 0.04340000078082085, -0.23190000653266907, 0.01140000019222498, -0.06430000066757202, -0.12219999730587006, -0.2913999855518341, -0.1785999983549118, -0.17790000140666962, -0.14740000665187836, 0.9779999852180481, 0.8535000085830688, 0.832099974155426, 0.8256999850273132, 0.8216999769210815, 0.8115000128746033, 0.802299976348877, 0.7940000295639038, 0.791700005531311, 0.7882999777793884, 0.7754999995231628, 0.7710999846458435, 0.7688000202178955, 0.7682999968528748, 0.7627000212669373, 0.7613999843597412, 0.7603999972343445, 0.7502999901771545, 0.7501000165939331, 0.7466999888420105, 0.7427999973297119, 0.741599977016449, 0.7402999997138977, 0.7401999831199646, 0.7373999953269958, 0.7360000014305115, 0.7337999939918518, 0.7318000197410583, 0.7287999987602234, 0.7268999814987183, 0.7264999747276306, 0.67330002784729, 0.6959999799728394, 0.5647000074386597, 0.6327000260353088, 0.7056000232696533, 0.4050999879837036, 0.45669999718666077, 0.5153999924659729, 0.6786999702453613, 0.3433000147342682, 0.37310001254081726, 0.23260000348091125, 0.6037999987602234, 0.6007000207901001, 0.36899998784065247, 0.44830000400543213, 0.2800999879837036, 0.4275999963283539, 0.22609999775886536, 0.20180000364780426, 0.4593999981880188, -0.014399999752640724, 0.3418999910354614, 0.26499998569488525, 0.24650000035762787, 0.40619999170303345, 0.06889999657869339, 0.24390000104904175, 0.32109999656677246, 0.30329999327659607, 0.49880000948905945, 0.31700000166893005, 0.35280001163482666, 0.1965000033378601, 0.15199999511241913, 0.2493000030517578, 0.21060000360012054, 0.08470000326633453, 0.11240000277757645, -0.09619999676942825, 0.16089999675750732, 0.17870000004768372, 0.2175000011920929, -0.10209999978542328, 0.06440000236034393, 0.2062000036239624, -0.21150000393390656, -0.16850000619888306, -0.22310000658035278, -0.2928999960422516, 0.11129999905824661, 0.06480000168085098, -0.3833000063896179, -0.043800000101327896, -0.2215999960899353, -0.1467999964952469, -0.007600000128149986, -0.1687999963760376, -0.09610000252723694, -0.24740000069141388, -0.03799999877810478, -0.33970001339912415, -0.3228999972343445, 0.6833999752998352, 0.6370000243186951, 0.629800021648407, 0.6240000128746033, 0.6230999827384949, 0.6035000085830688, 0.5978000164031982, 0.5972999930381775, 0.59170001745224, 0.590399980545044, 0.5849000215530396, 0.5824000239372253, 0.5819000005722046, 0.5716000199317932, 0.569599986076355, 0.5654000043869019, 0.5633999705314636, 0.5619999766349792, 0.5547000169754028, 0.5537999868392944, 0.5515000224113464, 0.5493000149726868, 0.5482000112533569, 0.5442000031471252, 0.5437999963760376, 0.5432000160217285, 0.5401999950408936, 0.5378000140190125, 0.5371000170707703, 0.536300003528595, 0.5346999764442444, 0.5351999998092651, 0.5331000089645386, 0.510699987411499, 0.5120999813079834, 0.48579999804496765, 0.4426000118255615, 0.4309999942779541, 0.4921000003814697, 0.42489999532699585, 0.4237000048160553, 0.36340001225471497, 0.2856000065803528, 0.44749999046325684, 0.34439998865127563, 0.43880000710487366, 0.34360000491142273, 0.49149999022483826, 0.3264000117778778, 0.34860000014305115, 0.37400001287460327, 0.37720000743865967, 0.3303000032901764, 0.36800000071525574, 0.38100001215934753, 0.25200000405311584, 0.2955999970436096, 0.22630000114440918, 0.3709000051021576, 0.3124000132083893, 0.1615999937057495, 0.2451999932527542, 0.275299996137619, 0.31529998779296875, 0.21199999749660492, 0.041999999433755875, -0.1387999951839447, 0.02290000021457672, 0.14589999616146088, -0.041600000113248825, 0.012900000438094139, 0.1543000042438507, 0.09910000115633011, 0.07150000333786011, -0.05350000038743019, 0.002199999988079071, -0.1451999992132187, -0.22339999675750732, 0.028599999845027924, -0.12460000067949295, 0.11309999972581863, 0.08640000224113464, -0.14499999582767487, 0.08079999685287476, -0.14110000431537628, 0.021400000900030136, 0.0340999998152256, -0.2865000069141388, 0.885699987411499, 0.8665000200271606, 0.847100019454956, 0.8450000286102295, 0.8349999785423279, 0.8317999839782715, 0.8188999891281128, 0.8125, 0.8041999936103821, 0.7979999780654907, 0.7979000210762024, 0.7961000204086304, 0.7874000072479248, 0.7723000049591064, 0.7714999914169312, 0.7709000110626221, 0.7694000005722046, 0.7694000005722046, 0.7667999863624573, 0.765500009059906, 0.7627000212669373, 0.7577000260353088, 0.7512000203132629, 0.7469000220298767, 0.7462000250816345, 0.7455999851226807, 0.7376999855041504, 0.7311999797821045, 0.7268999814987183, 0.7260000109672546, 0.7063000202178955, 0.7139999866485596, 0.6545000076293945, 0.6996999979019165, 0.7123000025749207, 0.5909000039100647, 0.6504999995231628, 0.48669999837875366, 0.5662999749183655, 0.5263000130653381, 0.42750000953674316, 0.38260000944137573, 0.5354999899864197, 0.4327999949455261, 0.5885000228881836, 0.31769999861717224, 0.30390000343322754, 0.4058000147342682, 0.2928999960422516, 0.29980000853538513, 0.392300009727478, 0.17069999873638153, 0.39010000228881836, 0.19169999659061432, 0.30309998989105225, 0.3312999904155731, 0.43140000104904175, 0.025499999523162842, 0.22059999406337738, 0.2694999873638153, 0.18960000574588776, 0.2248000055551529, 0.16899999976158142, -0.17319999635219574, -0.003100000089034438, 0.2757999897003174, 0.2070000022649765, 0.1527000069618225, 0.08619999885559082, -0.022600000724196434, 0.10920000076293945, 0.18369999527931213, 0.17249999940395355, -0.11720000207424164, 0.14640000462532043, 0.1657000035047531, -0.032499998807907104, -0.08940000087022781, -0.335099995136261, -0.07989999651908875, -0.10490000247955322, -0.47189998626708984, -0.22130000591278076, -0.34150001406669617, -0.039000000804662704, -0.10869999974966049, -0.4867999851703644, -0.24580000340938568, -0.15440000593662262, -0.09440000355243683, -0.033900000154972076, -0.296099990606308, -0.31279999017715454, 0.8866999745368958, 0.8783000111579895, 0.8668000102043152, 0.8640000224113464, 0.8583999872207642, 0.855400025844574, 0.8468999862670898, 0.8464999794960022, 0.8400999903678894, 0.8379999995231628, 0.8356000185012817, 0.8349000215530396, 0.833899974822998, 0.8312000036239624, 0.8305000066757202, 0.8277999758720398, 0.8195000290870667, 0.8170999884605408, 0.8158000111579895, 0.8123999834060669, 0.8027999997138977, 0.7896999716758728, 0.7882999777793884, 0.7853999733924866, 0.7851999998092651, 0.785099983215332, 0.78329998254776, 0.7821000218391418, 0.7799999713897705, 0.7789000272750854, 0.7731000185012817, 0.7408000230789185, 0.489300012588501, 0.7473999857902527, 0.36570000648498535, 0.4293999969959259, 0.3061999976634979, 0.4052000045776367, 0.6739000082015991, 0.28139999508857727, 0.1657000035047531, 0.3280999958515167, 0.04520000144839287, 0.34049999713897705, 0.3978999853134155, 0.125900000333786, 0.15880000591278076, 0.40959998965263367, 0.13099999725818634, 0.17139999568462372, 0.16030000150203705, 0.35670000314712524, 0.3495999872684479, 0.12300000339746475, 0.3075999915599823, 0.022299999371170998, 0.25119999051094055, 0.22269999980926514, -0.03290000185370445, 0.20649999380111694, 0.1574999988079071, -0.29159998893737793, 0.1932000070810318, 0.06509999930858612, 0.1565999984741211, -0.18410000205039978, -0.0608999989926815, 0.015399999916553497, 0.13500000536441803, -0.05770000070333481, 0.0430000014603138, -0.21809999644756317, 0.0010000000474974513, -0.36000001430511475, -0.10400000214576721, -0.3880999982357025, -0.3325999975204468, -0.3156000077724457, -0.19059999287128448, -0.08429999649524689, -0.1543000042438507, -0.41839998960494995, -0.12549999356269836, -0.2718999981880188, -0.17239999771118164]}, \"token.table\": {\"Topic\": [1, 2, 3, 4, 5, 6, 1, 2, 3, 4, 5, 1, 2, 1, 1, 2, 3, 4, 5, 6, 1, 1, 2, 1, 1, 2, 3, 4, 5, 1, 1, 2, 3, 4, 5, 6, 1, 2, 3, 4, 5, 6, 1, 1, 2, 3, 4, 5, 6, 1, 2, 3, 4, 5, 6, 1, 1, 2, 3, 4, 5, 1, 2, 3, 4, 5, 6, 1, 1, 2, 3, 4, 5, 6, 1, 1, 2, 3, 4, 5, 6, 1, 3, 1, 4, 1, 1, 2, 1, 1, 1, 2, 3, 4, 1, 2, 3, 4, 5, 6, 1, 2, 3, 4, 5, 6, 1, 2, 2, 1, 1, 2, 3, 4, 5, 1, 2, 3, 4, 5, 6, 1, 2, 3, 4, 5, 1, 1, 1, 1, 1, 1, 1, 2, 1, 1, 2, 1, 2, 3, 4, 5, 6, 1, 2, 3, 4, 5, 1, 2, 3, 4, 5, 6, 1, 2, 3, 4, 5, 6, 1, 2, 3, 4, 1, 2, 3, 4, 5, 6, 1, 1, 1, 1, 1, 1, 2, 3, 4, 5, 6, 1, 2, 3, 4, 5, 6, 1, 2, 3, 4, 5, 1, 2, 3, 1, 2, 3, 4, 5, 6, 1, 2, 3, 4, 1, 1, 2, 3, 4, 5, 6, 1, 3, 1, 1, 2, 3, 4, 5, 6, 1, 2, 3, 4, 5, 6, 1, 2, 3, 4, 5, 1, 2, 3, 4, 5, 6, 1, 3, 1, 2, 3, 4, 5, 6, 1, 2, 3, 4, 5, 1, 1, 2, 3, 4, 5, 6, 1, 2, 3, 4, 5, 6, 1, 2, 3, 4, 5, 6, 1, 2, 3, 4, 1, 2, 3, 4, 5, 1, 2, 3, 4, 5, 6, 1, 2, 3, 4, 5, 6, 1, 1, 1, 2, 3, 4, 5, 6, 1, 2, 3, 4, 5, 6, 1, 2, 3, 4, 5, 6, 1, 2, 3, 4, 5, 1, 2, 3, 4, 1, 1, 2, 3, 4, 5, 6, 1, 1, 2, 3, 4, 5, 6, 1, 2, 3, 4, 5, 6, 1, 2, 3, 4, 5, 1, 2, 3, 4, 5, 6, 1, 1, 2, 3, 4, 5, 6, 1, 2, 3, 4, 1, 2, 3, 4, 5, 6, 1, 4, 1, 1, 1, 1, 3, 1, 2, 3, 4, 5, 6, 1, 1, 1, 2, 3, 4, 5, 1, 1, 1, 2, 3, 4, 5, 1, 2, 3, 4, 5, 6, 1, 2, 3, 4, 5, 6, 1, 2, 3, 4, 1, 2, 3, 4, 5, 6, 1, 2, 3, 4, 5, 6, 1, 1, 2, 4, 1, 2, 3, 4, 5, 6, 1, 2, 3, 4, 5, 6, 1, 2, 3, 4, 5, 6, 1, 1, 1, 1, 2, 3, 4, 5, 1, 2, 1, 2, 3, 4, 5, 6, 1, 1, 1, 2, 3, 4, 5, 6, 1, 2, 3, 4, 5, 6, 1, 2, 3, 4, 5, 6, 1, 2, 3, 4, 5, 1, 2, 3, 4, 5, 6, 1, 2, 3, 4, 5, 6, 1, 1, 1, 1, 1, 1, 1, 2, 3, 4, 1, 1, 1, 2, 3, 4, 5, 6, 1, 2, 3, 4, 5, 1, 1, 2, 3, 4, 1, 1, 2, 3, 1, 2, 4, 1, 1, 2, 3, 4, 5, 6, 1, 1, 1, 2, 3, 4, 1, 2, 3, 4, 1, 2, 3, 4, 5, 6, 1, 2, 1, 2, 3, 4, 5, 6, 1, 2, 3, 4, 5, 6, 1, 2, 3, 4, 5, 6, 1, 1, 1, 2, 3, 4, 5, 6, 1, 2, 3, 4, 5, 6, 1, 1, 2, 3, 4, 5, 6, 1, 1, 2, 3, 4, 5, 6, 1, 2, 3, 4, 5, 6, 1, 2, 4, 1, 2, 3, 4, 5, 6, 1, 1, 2, 3, 4, 5, 6, 1, 2, 3, 4, 5, 6, 1, 2, 4, 1, 1, 2, 3, 4, 5, 6, 1, 2, 3, 4, 5, 1, 2, 3, 4, 5, 1, 2, 3, 4, 5, 6, 1, 3, 1, 2, 3, 4, 5, 6, 1, 1, 1, 2, 3, 4, 5, 6, 1, 1, 2, 3, 4, 5, 1, 3, 1, 1, 2, 3, 4, 1, 2, 4, 1, 2, 3, 4, 1, 1, 2, 3, 4, 5, 6, 1, 2, 3, 4, 1, 1, 1, 1, 1, 2, 3, 4, 5, 6, 1, 2, 3, 1, 2, 4, 1, 1, 1, 1, 2, 3, 4, 5, 6, 1, 1, 1, 2, 3, 4, 5, 6, 1, 2, 3, 4, 5, 6, 1, 2, 3, 4, 5, 6, 1, 2, 3, 4, 5, 1, 1, 1, 1, 2, 3, 4, 5, 6, 1, 1, 2, 3, 4, 5, 6, 1, 2, 3, 4, 5, 6, 1, 2, 3, 4, 5, 6, 1, 1, 1, 1, 2, 3, 4, 5, 6, 1, 1, 2, 3, 4, 5, 6, 1, 3, 1, 2, 3, 4, 1, 2, 3, 4, 5, 6, 1, 2, 3, 4, 5, 6, 1, 1, 2, 3, 4, 5, 1, 2, 4, 1, 1, 2, 3, 4, 5, 6, 1, 1, 2, 3, 4, 5, 6, 1, 2, 3, 4, 5, 6, 1, 2, 3, 4, 5, 1, 2, 3, 4, 5, 6, 1, 2, 3, 4, 5, 6, 1, 1, 2, 3, 4, 5, 6, 1, 2, 3, 4, 5, 6, 1, 1, 2, 3, 4, 5, 6, 1, 1, 2, 3, 4, 5, 6, 1, 2, 1, 1, 2, 3, 1, 1, 2, 3, 4, 5, 6, 1, 2, 3, 1, 2, 3, 4, 5, 6, 1, 2, 3, 4, 5, 6, 1, 2, 3, 4, 5, 6, 1, 1, 2, 3, 4, 5, 6, 1, 2, 3, 4, 5, 6, 1, 2, 3, 4, 5, 6, 1, 2, 3, 4, 1, 2, 1, 1, 2, 3, 4, 5, 1, 2, 3, 4, 5, 1, 2, 3, 4, 5, 6, 1, 2, 3, 4, 5, 6, 1, 1, 2, 3, 4, 5, 6, 1, 2, 3, 1, 2, 3, 4, 5, 6, 1, 2, 3, 4, 1, 1, 2, 3, 4, 5, 1, 1, 2, 3, 4, 5, 6, 1, 1, 2, 3, 4, 5, 1, 2, 3, 4, 5, 6, 1, 2, 3, 1, 1, 2, 3, 4, 5, 6, 1, 2, 3, 4, 5, 6, 1, 2, 3, 4, 5, 1, 4, 1, 2, 3, 4, 5, 6, 1, 1, 2, 3, 4, 5, 1, 2, 3, 4, 1, 2, 3, 4, 5, 1, 2, 3, 4, 5, 6, 1, 2, 3, 4, 5, 1, 2, 3, 4, 5, 1, 1, 2, 3, 4, 5, 1, 1, 2, 1, 2, 1, 2, 3, 4, 5, 6, 1, 2, 3, 4, 5, 6, 1, 1, 1, 2, 3, 4, 5, 6, 1, 2, 3, 4, 5, 6, 1, 1, 1, 2, 3, 4, 5, 1, 2, 3, 4, 5, 6, 1, 1, 1, 1, 2, 3, 4, 5, 6, 1, 2, 3, 4, 1, 2, 3, 4, 5, 6, 1, 1, 2, 3, 4, 1, 2, 3, 4, 5, 1, 2, 3, 4, 5, 6, 1, 1, 1, 1, 2, 3, 4, 5, 6, 1, 1, 2, 3, 4, 5, 6, 1, 2, 3, 4, 5, 1, 1, 1, 2, 1, 1, 2, 3, 4, 5, 1, 2, 3, 4, 5, 6, 1, 1, 1, 1, 2, 3, 4, 1, 1, 2, 3, 1, 1, 2, 3, 4, 5, 6, 1, 2, 3, 4, 5, 6, 1, 2, 3, 4, 5, 6, 1, 2, 3, 4, 5, 6, 1, 1, 2, 3, 4, 5, 2, 1, 1, 3, 1, 2, 3, 4, 5, 1, 1, 2, 3, 4, 5, 6, 1, 2, 3, 4, 5, 6, 1, 1, 1, 2, 3, 4, 5, 6, 1, 2, 3, 4, 1, 1, 1, 2, 3, 4, 5, 6, 1, 2, 3, 4, 5, 6, 1, 2, 3, 4, 5, 6, 1, 2, 3, 4, 5, 1, 2, 3, 4, 5, 6, 1, 2, 3, 4, 1, 2, 3, 4, 5, 6, 1, 2, 3, 4, 5, 6, 1, 2, 3, 4, 5, 6, 1, 1, 2, 3, 4, 5, 6, 1, 1, 1, 2, 3, 4, 5, 6, 1, 2, 3, 4, 1, 2, 3, 4, 5, 6, 1, 1, 2, 3, 4, 5, 6], \"Freq\": [0.4973457157611847, 0.20722737908363342, 0.10361368954181671, 0.12433642894029617, 0.041445475071668625, 0.020722737535834312, 0.6724051833152771, 0.09169161319732666, 0.09169161319732666, 0.12225548177957535, 0.030563870444893837, 0.6578928828239441, 0.16447322070598602, 0.684424877166748, 0.4179134964942932, 0.23217417299747467, 0.1393045037984848, 0.16252191364765167, 0.023217417299747467, 0.023217417299747467, 0.7402441501617432, 0.49058854579925537, 0.49058854579925537, 0.7716867923736572, 0.45192813873291016, 0.25824466347694397, 0.12912233173847198, 0.12912233173847198, 0.06456116586923599, 0.748284101486206, 0.5247491598129272, 0.11047350615262985, 0.16571027040481567, 0.11047350615262985, 0.055236753076314926, 0.027618376538157463, 0.5056872963905334, 0.1878267228603363, 0.10113746672868729, 0.15893030166625977, 0.036120522767305374, 0.01444820873439312, 0.7216455340385437, 0.6402909159660339, 0.1330474615097046, 0.0665237307548523, 0.09978559613227844, 0.04989279806613922, 0.008315466344356537, 0.609220027923584, 0.1246131882071495, 0.08769076317548752, 0.14768970012664795, 0.023076515644788742, 0.009230606257915497, 0.6374385356903076, 0.4541453421115875, 0.09082906693220139, 0.18165813386440277, 0.18165813386440277, 0.09082906693220139, 0.5138577818870544, 0.2202247530221939, 0.12234708666801453, 0.09787766635417938, 0.04893883317708969, 0.024469416588544846, 0.7364864349365234, 0.42545998096466064, 0.21272999048233032, 0.1654566526412964, 0.1418199986219406, 0.04727333039045334, 0.02363666519522667, 0.6294345259666443, 0.6085072755813599, 0.16382887959480286, 0.09361650794744492, 0.07021237909793854, 0.04680825397372246, 0.02340412698686123, 0.32552894949913025, 0.32552894949913025, 0.5306728482246399, 0.26533642411231995, 0.7557342052459717, 0.4739789366722107, 0.4739789366722107, 0.764015257358551, 0.7684215903282166, 0.4648372232913971, 0.23241861164569855, 0.23241861164569855, 0.23241861164569855, 0.5045099258422852, 0.1358295977115631, 0.1358295977115631, 0.1746380478143692, 0.03880845755338669, 0.019404228776693344, 0.5072107911109924, 0.21737605333328247, 0.09661158174276352, 0.12076447159051895, 0.04830579087138176, 0.02415289543569088, 0.35821375250816345, 0.35821375250816345, 0.7272238731384277, 0.700333297252655, 0.4761427044868469, 0.13604077696800232, 0.13604077696800232, 0.13604077696800232, 0.06802038848400116, 0.5398539304733276, 0.15995672345161438, 0.13996213674545288, 0.11996754258871078, 0.039989180862903595, 0.019994590431451797, 0.522377610206604, 0.1662110537290573, 0.09497775137424469, 0.1662110537290573, 0.047488875687122345, 0.7548211216926575, 0.721345841884613, 0.7455170750617981, 0.4767339527606964, 0.7262109518051147, 0.7072014212608337, 0.34862735867500305, 0.34862735867500305, 0.7569551467895508, 0.32837578654289246, 0.32837578654289246, 0.6775557398796082, 0.11292596161365509, 0.06775557994842529, 0.09034077078104019, 0.045170385390520096, 0.022585192695260048, 0.47479674220085144, 0.1356562077999115, 0.20348432660102844, 0.1356562077999115, 0.033914051949977875, 0.519584059715271, 0.19484402239322662, 0.12989601492881775, 0.11690641194581985, 0.02597920224070549, 0.012989601120352745, 0.6421868801116943, 0.10853862762451172, 0.09044885635375977, 0.12662839889526367, 0.02713465690612793, 0.009044885635375977, 0.4488382935523987, 0.14961275458335876, 0.29922550916671753, 0.14961275458335876, 0.5883059501647949, 0.10920649021863937, 0.15147997438907623, 0.10216091573238373, 0.031705111265182495, 0.014091160148382187, 0.744493305683136, 0.7366648316383362, 0.6849358081817627, 0.7056520581245422, 0.7228471636772156, 0.4709203243255615, 0.1569734364748001, 0.1395319402217865, 0.17441493272781372, 0.034882985055446625, 0.017441492527723312, 0.6185497045516968, 0.12049669772386551, 0.13656292855739594, 0.08836424350738525, 0.04016556590795517, 0.00803311262279749, 0.6751705408096313, 0.08439631760120392, 0.11252842843532562, 0.08439631760120392, 0.028132107108831406, 0.7313294410705566, 0.1462658941745758, 0.1462658941745758, 0.6873350739479065, 0.12129442393779755, 0.06064721196889877, 0.08086295425891876, 0.04043147712945938, 0.02021573856472969, 0.4788280129432678, 0.1596093475818634, 0.1596093475818634, 0.1596093475818634, 0.7380109429359436, 0.5172047019004822, 0.14433619379997253, 0.09622412919998169, 0.16839222609996796, 0.048112064599990845, 0.012028016149997711, 0.5149591565132141, 0.5149591565132141, 0.7359848022460938, 0.5810610055923462, 0.12912465631961823, 0.09684349596500397, 0.16140583157539368, 0.032281164079904556, 0.016140582039952278, 0.5624657869338989, 0.16070450842380524, 0.10713633894920349, 0.10713633894920349, 0.053568169474601746, 0.026784084737300873, 0.4517652690410614, 0.18070609867572784, 0.13552957773208618, 0.13552957773208618, 0.04517652466893196, 0.6881394982337952, 0.09959913790225983, 0.10865360498428345, 0.08149020373821259, 0.01810893416404724, 0.00905446708202362, 0.441562294960022, 0.441562294960022, 0.47343578934669495, 0.16166099905967712, 0.1501137763261795, 0.1501137763261795, 0.05773606896400452, 0.011547214351594448, 0.699796736240387, 0.08747459203004837, 0.08747459203004837, 0.08747459203004837, 0.043737296015024185, 0.7578833103179932, 0.6789029240608215, 0.08279303461313248, 0.09935164451599121, 0.09935164451599121, 0.03311721608042717, 0.016558608040213585, 0.5663429498672485, 0.14658288657665253, 0.11326859146356583, 0.11993144452571869, 0.03997714817523956, 0.013325716368854046, 0.490172415971756, 0.1838146597146988, 0.153178870677948, 0.10211925208568573, 0.051059626042842865, 0.010211925022304058, 0.559674084186554, 0.279837042093277, 0.279837042093277, 0.279837042093277, 0.6868942379951477, 0.10101386159658432, 0.08081109076738358, 0.10101386159658432, 0.04040554538369179, 0.5058294534683228, 0.1539480984210968, 0.13195550441741943, 0.17594067752361298, 0.043985169380903244, 0.021992584690451622, 0.5882135033607483, 0.15419188141822815, 0.10850539803504944, 0.11136080324649811, 0.028554052114486694, 0.008566215634346008, 0.7231042385101318, 0.7262356281280518, 0.4532162547111511, 0.18931818008422852, 0.149159774184227, 0.149159774184227, 0.04589531570672989, 0.011473828926682472, 0.6733054518699646, 0.10270761698484421, 0.09129565954208374, 0.09129565954208374, 0.022823914885520935, 0.011411957442760468, 0.5146808624267578, 0.14296689629554749, 0.1572635918855667, 0.12867021560668945, 0.057186760008335114, 0.014296690002083778, 0.45792466402053833, 0.1962534338235855, 0.130835622549057, 0.130835622549057, 0.0654178112745285, 0.428305059671402, 0.1070762649178505, 0.1070762649178505, 0.214152529835701, 0.7379287481307983, 0.5346060991287231, 0.12474142760038376, 0.16038183867931366, 0.1069212257862091, 0.05346061289310455, 0.0178202036768198, 0.7565942406654358, 0.4946465492248535, 0.14360706508159637, 0.11169438064098358, 0.17551973462104797, 0.04786901921033859, 0.015956340357661247, 0.6042121052742004, 0.12259376794099808, 0.08756697177886963, 0.13572880625724792, 0.03502678871154785, 0.013135046698153019, 0.5580609440803528, 0.2125946432352066, 0.07972299307584763, 0.1062973216176033, 0.026574330404400826, 0.4810170829296112, 0.2233293503522873, 0.13743345439434052, 0.10307508707046509, 0.03435836359858513, 0.017179181799292564, 0.713890790939331, 0.6154967546463013, 0.12741175293922424, 0.10977011919021606, 0.11173029989004135, 0.027442529797554016, 0.009800903499126434, 0.5707152485847473, 0.28535762429237366, 0.28535762429237366, 0.28535762429237366, 0.5836864113807678, 0.15185336768627167, 0.08067210018634796, 0.1233808621764183, 0.04745417833328247, 0.00949083548039198, 0.3487624526023865, 0.3487624526023865, 0.7641370892524719, 0.7474980354309082, 0.69611656665802, 0.29405370354652405, 0.29405370354652405, 0.5050639510154724, 0.2525319755077362, 0.10822799056768417, 0.10822799056768417, 0.03607599809765816, 0.03607599809765816, 0.7393949031829834, 0.7080962061882019, 0.6698626279830933, 0.09923890978097916, 0.09923890978097916, 0.09923890978097916, 0.02480972744524479, 0.7446006536483765, 0.7061400413513184, 0.6138157844543457, 0.12276315689086914, 0.12276315689086914, 0.12276315689086914, 0.12276315689086914, 0.507980227470398, 0.15764904022216797, 0.14013248682022095, 0.10509936511516571, 0.052549682557582855, 0.01751656085252762, 0.6561195850372314, 0.11410775035619736, 0.09508979320526123, 0.11410775035619736, 0.019017959013581276, 0.009508979506790638, 0.6877927184104919, 0.09825610369443893, 0.04912805184721947, 0.09825610369443893, 0.5527193546295166, 0.17639979720115662, 0.1411198377609253, 0.08231990784406662, 0.047039944678545, 0.01175998616963625, 0.612183153629303, 0.10203053057193756, 0.10203053057193756, 0.10203053057193756, 0.05101526528596878, 0.02550763264298439, 0.7500295639038086, 0.5569323897361755, 0.27846619486808777, 0.27846619486808777, 0.5150262713432312, 0.19742673635482788, 0.1287565678358078, 0.09442148357629776, 0.0429188571870327, 0.01716754212975502, 0.684102475643158, 0.12161821871995926, 0.07601138949394226, 0.07601138949394226, 0.030404554679989815, 0.015202277339994907, 0.4828503429889679, 0.15290260314941406, 0.16095010936260223, 0.1448550969362259, 0.04023752734065056, 0.016095010563731194, 0.6831914186477661, 0.7848237752914429, 0.47602415084838867, 0.49740156531333923, 0.24870078265666962, 0.0829002633690834, 0.12435039132833481, 0.0414501316845417, 0.6309788823127747, 0.21032629907131195, 0.5800666809082031, 0.16614976525306702, 0.10202178359031677, 0.11659631878137589, 0.023319264873862267, 0.011659632436931133, 0.5243794322013855, 0.705941379070282, 0.5682240128517151, 0.14994800090789795, 0.14994800090789795, 0.08681200444698334, 0.031568001955747604, 0.007892000488936901, 0.4647026062011719, 0.17211207747459412, 0.17211207747459412, 0.15490086376667023, 0.03442241623997688, 0.01721120811998844, 0.6494441628456116, 0.13720650970935822, 0.09147100895643234, 0.073176808655262, 0.04573550447821617, 0.00914710108190775, 0.522255539894104, 0.1865198314189911, 0.14921586215496063, 0.07460793107748032, 0.07460793107748032, 0.5829969644546509, 0.15677228569984436, 0.14697402715682983, 0.058789607137441635, 0.04409220442175865, 0.014697401784360409, 0.5931789875030518, 0.1318175494670868, 0.1318175494670868, 0.0988631621003151, 0.0329543873667717, 0.013181754387915134, 0.746338963508606, 0.7272242903709412, 0.7663586735725403, 0.7448991537094116, 0.7387937307357788, 0.6974172592163086, 0.45710450410842896, 0.11427612602710724, 0.22855225205421448, 0.11427612602710724, 0.6745563745498657, 0.7229077816009521, 0.5301019549369812, 0.22489173710346222, 0.09638217836618423, 0.09638217836618423, 0.04819108918309212, 0.016063695773482323, 0.5059260725975037, 0.13797985017299652, 0.13797985017299652, 0.18397313356399536, 0.04599328339099884, 0.757128894329071, 0.29397478699684143, 0.29397478699684143, 0.29397478699684143, 0.29397478699684143, 0.6867356896400452, 0.46952736377716064, 0.23476368188858032, 0.23476368188858032, 0.29811808466911316, 0.29811808466911316, 0.29811808466911316, 0.7339341044425964, 0.45788371562957764, 0.20032411813735962, 0.11447092890739441, 0.14308865368366241, 0.057235464453697205, 0.028617732226848602, 0.6889216303825378, 0.7356255650520325, 0.5415939092636108, 0.21663756668567657, 0.10831878334283829, 0.10831878334283829, 0.5218569040298462, 0.13046422600746155, 0.19569635391235352, 0.13046422600746155, 0.601151168346405, 0.1277446299791336, 0.08265829086303711, 0.1540449857711792, 0.02442176640033722, 0.009392987005412579, 0.45996999740600586, 0.45996999740600586, 0.542037308216095, 0.16729547083377838, 0.10706910490989685, 0.13383637368679047, 0.03345909342169762, 0.013383638113737106, 0.5753294229507446, 0.16199548542499542, 0.1187966912984848, 0.10112445801496506, 0.032399099320173264, 0.009817908518016338, 0.6428934931755066, 0.09643402695655823, 0.09643402695655823, 0.09643402695655823, 0.03214467316865921, 0.03214467316865921, 0.6955413222312927, 0.6627113223075867, 0.5916939973831177, 0.12529990077018738, 0.11833880096673965, 0.12529990077018738, 0.027844423428177834, 0.006961105857044458, 0.5057122111320496, 0.1264280527830124, 0.1264280527830124, 0.1738385707139969, 0.0474105179309845, 0.01580350659787655, 0.6566606760025024, 0.5597862005233765, 0.15320464968681335, 0.1414196789264679, 0.09427978843450546, 0.035354919731616974, 0.011784973554313183, 0.7047168016433716, 0.5957322716712952, 0.13238495588302612, 0.1103207916021347, 0.099288709461689, 0.05516039580106735, 0.011032079346477985, 0.7164412140846252, 0.0781572237610817, 0.09118343144655228, 0.0781572237610817, 0.026052407920360565, 0.013026203960180283, 0.45268988609313965, 0.22634494304656982, 0.22634494304656982, 0.38520535826683044, 0.2247031331062317, 0.2247031331062317, 0.12840178608894348, 0.03210044652223587, 0.03210044652223587, 0.7181326746940613, 0.5792223215103149, 0.11584446579217911, 0.0926755741238594, 0.1621822565793991, 0.03475334122776985, 0.011584446765482426, 0.5548268556594849, 0.12865549325942993, 0.14473743736743927, 0.12865549325942993, 0.03216387331485748, 0.01608193665742874, 0.4840623140335083, 0.24203115701675415, 0.24203115701675415, 0.700915515422821, 0.585066020488739, 0.12267513573169708, 0.09436548501253128, 0.16042132675647736, 0.028309645131230354, 0.009436548687517643, 0.5126950740814209, 0.12817376852035522, 0.19226066768169403, 0.12817376852035522, 0.032043442130088806, 0.534126341342926, 0.23738950490951538, 0.11869475245475769, 0.11869475245475769, 0.059347376227378845, 0.6117104887962341, 0.16396363079547882, 0.07567552477121353, 0.10090069472789764, 0.037837762385606766, 0.012612586840987206, 0.45456087589263916, 0.45456087589263916, 0.6269659996032715, 0.14311181008815765, 0.08177817612886429, 0.0954078733921051, 0.04770393669605255, 0.013629695400595665, 0.7063111066818237, 0.6642794609069824, 0.5405252575874329, 0.13979101181030273, 0.11183280497789383, 0.13979101181030273, 0.04659700393676758, 0.01863880082964897, 0.7165478467941284, 0.4736487865447998, 0.17761829495429993, 0.11841219663619995, 0.2368243932723999, 0.059206098318099976, 0.3642839789390564, 0.3642839789390564, 0.7773290872573853, 0.5148162841796875, 0.25740814208984375, 0.25740814208984375, 0.25740814208984375, 0.4751199781894684, 0.2375599890947342, 0.2375599890947342, 0.38190358877182007, 0.19095179438591003, 0.19095179438591003, 0.19095179438591003, 0.7766844630241394, 0.6485020518302917, 0.09500348567962646, 0.09500348567962646, 0.11565641313791275, 0.03717527538537979, 0.012391758151352406, 0.7436269521713257, 0.08262521773576736, 0.08262521773576736, 0.08262521773576736, 0.44149309396743774, 0.7089464068412781, 0.7226085066795349, 0.753162145614624, 0.7257518768310547, 0.09466329216957092, 0.06310886144638062, 0.06310886144638062, 0.03155443072319031, 0.015777215361595154, 0.48875483870506287, 0.24437741935253143, 0.24437741935253143, 0.49090468883514404, 0.24545234441757202, 0.12272617220878601, 0.48953309655189514, 0.7217282652854919, 0.7473658323287964, 0.5690886378288269, 0.1940074861049652, 0.11640448868274689, 0.07760299742221832, 0.03880149871110916, 0.012933832593262196, 0.7101288437843323, 0.79095858335495, 0.6668758392333984, 0.12907274067401886, 0.09142652153968811, 0.08067046105861664, 0.021512122824788094, 0.010756061412394047, 0.5597922801971436, 0.11195845156908035, 0.14554598927497864, 0.12315429747104645, 0.04478337988257408, 0.01119584497064352, 0.5837371349334717, 0.1867958903312683, 0.10507268458604813, 0.08172319829463959, 0.03502422943711281, 0.01167474314570427, 0.5204939246177673, 0.11566532403230667, 0.11566532403230667, 0.11566532403230667, 0.057832662016153336, 0.7208863496780396, 0.7333316802978516, 0.7421770095825195, 0.5620241761207581, 0.15776117146015167, 0.16762124001979828, 0.07395054399967194, 0.029580218717455864, 0.00986007321625948, 0.7586463689804077, 0.5362693071365356, 0.14692309498786926, 0.12488462775945663, 0.13223078846931458, 0.04407692700624466, 0.014692309312522411, 0.587336003780365, 0.17507129907608032, 0.10730176419019699, 0.07906445860862732, 0.03953222930431366, 0.011294922791421413, 0.6240567564964294, 0.13277803361415863, 0.09294462203979492, 0.10179649293422699, 0.035407476127147675, 0.013277802616357803, 0.5025866627693176, 0.735249400138855, 0.780271053314209, 0.5914003252983093, 0.09240630269050598, 0.09240630269050598, 0.16633133590221405, 0.03696252033114433, 0.018481260165572166, 0.5327355265617371, 0.5339187979698181, 0.18923704326152802, 0.1013769879937172, 0.12165238708257675, 0.047309260815382004, 0.013516931794583797, 0.6022167801856995, 0.30110839009284973, 0.2892181873321533, 0.2892181873321533, 0.2892181873321533, 0.2892181873321533, 0.5193465352058411, 0.16400417685508728, 0.13667014241218567, 0.12300313264131546, 0.04100104421377182, 0.013667014427483082, 0.5864628553390503, 0.137991264462471, 0.137991264462471, 0.10349344462156296, 0.03449781611561775, 0.03449781611561775, 0.7425740957260132, 0.4265648424625397, 0.1706259399652481, 0.1706259399652481, 0.1706259399652481, 0.08531296998262405, 0.43653520941734314, 0.21826760470867157, 0.21826760470867157, 0.7399975657463074, 0.560172438621521, 0.17306140065193176, 0.13207317888736725, 0.08653070032596588, 0.0318797342479229, 0.01366274245083332, 0.5058057904243469, 0.4566822052001953, 0.2528062164783478, 0.13048063218593597, 0.10601551085710526, 0.04893023520708084, 0.008155039511620998, 0.6603116989135742, 0.10564987361431122, 0.06867241859436035, 0.12149735540151596, 0.031694963574409485, 0.010564987547695637, 0.5301602482795715, 0.15592947602272034, 0.1871153861284256, 0.0935576930642128, 0.031185897067189217, 0.6163864135742188, 0.12643824517726898, 0.1185358539223671, 0.08692629635334015, 0.031609561294317245, 0.015804780647158623, 0.5253018140792847, 0.14529624581336975, 0.14529624581336975, 0.11176634579896927, 0.04470653831958771, 0.011176634579896927, 0.6683720946311951, 0.5727288722991943, 0.14636404812335968, 0.10818212479352951, 0.10818212479352951, 0.044545579701662064, 0.01272730901837349, 0.5415771007537842, 0.1416432410478592, 0.10831541568040848, 0.16663910448551178, 0.033327821642160416, 0.008331955410540104, 0.7088791728019714, 0.520419716835022, 0.14678505063056946, 0.17347323894500732, 0.120096854865551, 0.026688190177083015, 0.013344095088541508, 0.7623397707939148, 0.5665971040725708, 0.13003867864608765, 0.14861564338207245, 0.11146172881126404, 0.03715391084551811, 0.009288477711379528, 0.46270427107810974, 0.46270427107810974, 0.7420254945755005, 0.7329083681106567, 0.14658166468143463, 0.14658166468143463, 0.7439536452293396, 0.4817892909049988, 0.1664362996816635, 0.18395590782165527, 0.12263727188110352, 0.03503922000527382, 0.01751961000263691, 0.5036348104476929, 0.3357565402984619, 0.16787827014923096, 0.5874653458595276, 0.1802450567483902, 0.10013613849878311, 0.09346039593219757, 0.040054455399513245, 0.006675742566585541, 0.6156938076019287, 0.1169038861989975, 0.09612096846103668, 0.1220996081829071, 0.038967959582805634, 0.010391456075012684, 0.5083422064781189, 0.1694474071264267, 0.13555793464183807, 0.12426143139600754, 0.0564824715256691, 0.01129649393260479, 0.7408902049064636, 0.5226348638534546, 0.17421162128448486, 0.10720714926719666, 0.16081072390079498, 0.026801787316799164, 0.013400893658399582, 0.49700507521629333, 0.15400157868862152, 0.1260012835264206, 0.1680017113685608, 0.035000357776880264, 0.01400014292448759, 0.6531556248664856, 0.12058258056640625, 0.09043693542480469, 0.09043693542480469, 0.030145645141601562, 0.010048548690974712, 0.40385788679122925, 0.20192894339561462, 0.10096447169780731, 0.10096447169780731, 0.3513108491897583, 0.3513108491897583, 0.7601717710494995, 0.4652886986732483, 0.17895719408988953, 0.21474863588809967, 0.14316575229167938, 0.035791438072919846, 0.4886992275714874, 0.13328160345554352, 0.17770881950855255, 0.13328160345554352, 0.04442720487713814, 0.4530099332332611, 0.16778145730495453, 0.18455959856510162, 0.13422515988349915, 0.033556289970874786, 0.016778144985437393, 0.5470547080039978, 0.14270992577075958, 0.13081742823123932, 0.14270992577075958, 0.02378498762845993, 0.011892493814229965, 0.693156898021698, 0.6594445705413818, 0.10990743339061737, 0.08059878647327423, 0.10258027166128159, 0.03663581237196922, 0.007327162194997072, 0.6842010021209717, 0.17105025053024292, 0.17105025053024292, 0.551155686378479, 0.14254026114940643, 0.11403220891952515, 0.12353488802909851, 0.04751341789960861, 0.019005367532372475, 0.43547308444976807, 0.2903153896331787, 0.14515769481658936, 0.14515769481658936, 0.7072949409484863, 0.4595467150211334, 0.17233002185821533, 0.17233002185821533, 0.17233002185821533, 0.05744333937764168, 0.739646315574646, 0.6072850823402405, 0.13712888956069946, 0.1028466746211052, 0.1028466746211052, 0.03917968273162842, 0.009794920682907104, 0.733062207698822, 0.43223458528518677, 0.14407819509506226, 0.14407819509506226, 0.14407819509506226, 0.14407819509506226, 0.5734187364578247, 0.13841141760349274, 0.1581844687461853, 0.07909223437309265, 0.039546117186546326, 0.009886529296636581, 0.7390376925468445, 0.1478075385093689, 0.1478075385093689, 0.5291453003883362, 0.5064009428024292, 0.19894322752952576, 0.10851448774337769, 0.1266002357006073, 0.03617149591445923, 0.018085747957229614, 0.5243262052536011, 0.15729786455631256, 0.08738770335912704, 0.1747754067182541, 0.03495508059859276, 0.01747754029929638, 0.6758019924163818, 0.10396953672170639, 0.10396953672170639, 0.07797715067863464, 0.025992384180426598, 0.6555367112159729, 0.32776835560798645, 0.5580559372901917, 0.18601863086223602, 0.07972227036952972, 0.12401242554187775, 0.0354321226477623, 0.008858030661940575, 0.36306053400039673, 0.5346261858940125, 0.0972047671675682, 0.0972047671675682, 0.1944095343351364, 0.0486023835837841, 0.4373002052307129, 0.1457667350769043, 0.2915334701538086, 0.1457667350769043, 0.5159472823143005, 0.12898682057857513, 0.12898682057857513, 0.17198242247104645, 0.04299560561776161, 0.5784610509872437, 0.16196909546852112, 0.0925537720322609, 0.11569221317768097, 0.04627688601613045, 0.023138443008065224, 0.5529335737228394, 0.10367504507303238, 0.1727917492389679, 0.13823339343070984, 0.03455834835767746, 0.4674241244792938, 0.2670994997024536, 0.1001623123884201, 0.1001623123884201, 0.0667748749256134, 0.7831657528877258, 0.6822659373283386, 0.12995541095733643, 0.09746655821800232, 0.06497770547866821, 0.032488852739334106, 0.7397710084915161, 0.3441753387451172, 0.3441753387451172, 0.30265095829963684, 0.30265095829963684, 0.5646809935569763, 0.2016717940568924, 0.08963190764188766, 0.09411349892616272, 0.04033435881137848, 0.011203988455235958, 0.6488887667655945, 0.14906904101371765, 0.07015013694763184, 0.09645643085241318, 0.02630629949271679, 0.00876876711845398, 0.6930235028266907, 0.6285693049430847, 0.6581518650054932, 0.12451521307229996, 0.08893944323062897, 0.08893944323062897, 0.03557577729225159, 0.017787888646125793, 0.496115505695343, 0.15618450939655304, 0.14699718356132507, 0.165371835231781, 0.02756197191774845, 0.009187323972582817, 0.7497414350509644, 0.5068026781082153, 0.6692880988121033, 0.09126655757427216, 0.09126655757427216, 0.09126655757427216, 0.030422186478972435, 0.6039915680885315, 0.10256460309028625, 0.1595449298620224, 0.09116853773593903, 0.04558426886796951, 0.011396067216992378, 0.7691664695739746, 0.7377832531929016, 0.499594122171402, 0.5296086668968201, 0.1444387286901474, 0.1765362173318863, 0.11234123259782791, 0.03209749609231949, 0.016048748046159744, 0.42610278725624084, 0.14203426241874695, 0.2840685248374939, 0.14203426241874695, 0.5570733547210693, 0.13107608258724213, 0.13107608258724213, 0.0983070582151413, 0.03276902064681053, 0.03276902064681053, 0.5157567858695984, 0.5406069159507751, 0.10812138766050339, 0.10812138766050339, 0.21624277532100677, 0.6695703268051147, 0.10043554753065109, 0.10043554753065109, 0.0669570341706276, 0.0334785170853138, 0.5350128412246704, 0.21796821057796478, 0.09907645732164383, 0.09907645732164383, 0.03963058441877365, 0.019815292209386826, 0.7959080338478088, 0.7612130641937256, 0.7245329022407532, 0.5392663478851318, 0.17975546419620514, 0.08987773209810257, 0.125828817486763, 0.03595109283924103, 0.017975546419620514, 0.7130469083786011, 0.6656688451766968, 0.12103070318698883, 0.07564418762922287, 0.09077302366495132, 0.030257675796747208, 0.015128837898373604, 0.442636638879776, 0.110659159719944, 0.221318319439888, 0.110659159719944, 0.110659159719944, 0.6924851536750793, 0.7831833362579346, 0.44898635149002075, 0.44898635149002075, 0.6991758346557617, 0.5088008046150208, 0.13876385986804962, 0.09250923246145248, 0.18501846492290497, 0.04625461623072624, 0.5971329808235168, 0.12841568887233734, 0.12199491262435913, 0.12199491262435913, 0.025683138519525528, 0.012841569259762764, 0.7312573194503784, 0.7488396167755127, 0.7480933666229248, 0.46431803703308105, 0.13266229629516602, 0.13266229629516602, 0.19899344444274902, 0.7559264898300171, 0.6847042441368103, 0.17117606103420258, 0.17117606103420258, 0.7505744695663452, 0.5408786535263062, 0.12362939864397049, 0.1699904203414917, 0.10817572474479675, 0.030907349660992622, 0.015453674830496311, 0.6067414879798889, 0.1449301540851593, 0.09825772792100906, 0.10071417689323425, 0.03439020738005638, 0.014738659374415874, 0.5330208539962769, 0.12300480902194977, 0.10250400751829147, 0.18450722098350525, 0.04100160300731659, 0.020500801503658295, 0.5764761567115784, 0.11529523134231567, 0.12298157811164856, 0.13066792488098145, 0.03074539452791214, 0.01537269726395607, 0.3685491681098938, 0.6767054796218872, 0.1353410929441452, 0.0676705464720726, 0.0676705464720726, 0.0676705464720726, 0.7271417379379272, 0.7076513767242432, 0.49466750025749207, 0.49466750025749207, 0.4644272029399872, 0.2653869688510895, 0.13269348442554474, 0.13269348442554474, 0.06634674221277237, 0.7154738306999207, 0.6685694456100464, 0.11299765855073929, 0.09416471421718597, 0.07533176988363266, 0.03766588494181633, 0.009416471235454082, 0.6476448178291321, 0.1266072690486908, 0.10225971043109894, 0.07791215926408768, 0.029217060655355453, 0.00973901990801096, 0.735367476940155, 0.7016218900680542, 0.587158739566803, 0.1344098299741745, 0.11318723112344742, 0.12733563780784607, 0.03537100926041603, 0.007074201945215464, 0.4638654291629791, 0.09277308732271194, 0.1855461746454239, 0.1855461746454239, 0.7233297228813171, 0.6829289793968201, 0.604269802570343, 0.12588953971862793, 0.1007116362452507, 0.12588953971862793, 0.025177909061312675, 0.025177909061312675, 0.5419517755508423, 0.1459100991487503, 0.12506580352783203, 0.12506580352783203, 0.06253290176391602, 0.020844299346208572, 0.5303803086280823, 0.14143474400043488, 0.12375540286302567, 0.15027442574501038, 0.04419836029410362, 0.00883967150002718, 0.6680217981338501, 0.13360436260700226, 0.08906957507133484, 0.08906957507133484, 0.04453478753566742, 0.5527639389038086, 0.15201009809970856, 0.1298995316028595, 0.11884425580501556, 0.03869347646832466, 0.008291459642350674, 0.4081624150276184, 0.2040812075138092, 0.2040812075138092, 0.2040812075138092, 0.4376470744609833, 0.24313725531101227, 0.10941176861524582, 0.12156862765550613, 0.06078431382775307, 0.024313725531101227, 0.5991477966308594, 0.17028410732746124, 0.1135227382183075, 0.06937500834465027, 0.031534094363451004, 0.012613637372851372, 0.5200405716896057, 0.1560121774673462, 0.13001014292240143, 0.1430111527442932, 0.05200405791401863, 0.013001014478504658, 0.7319466471672058, 0.5377600789070129, 0.14874215424060822, 0.13730044662952423, 0.13730044662952423, 0.03432511165738106, 0.011441703885793686, 0.7102435231208801, 0.7734841704368591, 0.5549542307853699, 0.17524871230125427, 0.10222841054201126, 0.11683247238397598, 0.04381217807531357, 0.014604059047996998, 0.7399377822875977, 0.11383658647537231, 0.11383658647537231, 0.05691829323768616, 0.5291525721549988, 0.17813056707382202, 0.11526095122098923, 0.13097836077213287, 0.03667394071817398, 0.01571740210056305, 0.6828250885009766, 0.5721761584281921, 0.08940251916646957, 0.1519842892885208, 0.1162232756614685, 0.04470125958323479, 0.008940252475440502], \"Term\": [\"1903\", \"1903\", \"1903\", \"1903\", \"1903\", \"1903\", \"accettare\", \"accettare\", \"accettare\", \"accettare\", \"accettare\", \"acciaiare\", \"acciaiare\", \"accompagnalo\", \"aggiungere\", \"aggiungere\", \"aggiungere\", \"aggiungere\", \"aggiungere\", \"aggiungere\", \"agitandolo\", \"aires\", \"aires\", \"aizzare\", \"albanese\", \"albanese\", \"albanese\", \"albanese\", \"albanese\", \"alcoolici\", \"alia\", \"alia\", \"alia\", \"alia\", \"alia\", \"alia\", \"altro\", \"altro\", \"altro\", \"altro\", \"altro\", \"altro\", \"amdienie\", \"america\", \"america\", \"america\", \"america\", \"america\", \"america\", \"americano\", \"americano\", \"americano\", \"americano\", \"americano\", \"americano\", \"ammiratore\", \"ancor\", \"ancor\", \"ancor\", \"ancor\", \"ancor\", \"annunciare\", \"annunciare\", \"annunciare\", \"annunciare\", \"annunciare\", \"annunciare\", \"annunciazioni\", \"annunziare\", \"annunziare\", \"annunziare\", \"annunziare\", \"annunziare\", \"annunziare\", \"appianare\", \"aprile\", \"aprile\", \"aprile\", \"aprile\", \"aprile\", \"aprile\", \"arso\", \"arso\", \"aslamazoff\", \"aslamazoff\", \"ategllr\", \"atlanta\", \"atlanta\", \"attac\", \"attechisce\", \"attivamente\", \"attivamente\", \"attivamente\", \"attivamente\", \"aumentare\", \"aumentare\", \"aumentare\", \"aumentare\", \"aumentare\", \"aumentare\", \"austria\", \"austria\", \"austria\", \"austria\", \"austria\", \"austria\", \"autopsia\", \"autopsia\", \"available\", \"bagno\", \"barra\", \"barra\", \"barra\", \"barra\", \"barra\", \"belgrado\", \"belgrado\", \"belgrado\", \"belgrado\", \"belgrado\", \"belgrado\", \"bello\", \"bello\", \"bello\", \"bello\", \"bello\", \"bicadellevie\", \"bismarck\", \"bisticciare\", \"bmanuele\", \"boiroaa\", \"borbone\", \"bosdarl\", \"bosdarl\", \"boterai\", \"brago\", \"brago\", \"buon\", \"buon\", \"buon\", \"buon\", \"buon\", \"buon\", \"cadavere\", \"cadavere\", \"cadavere\", \"cadavere\", \"cadavere\", \"california\", \"california\", \"california\", \"california\", \"california\", \"california\", \"camera\", \"camera\", \"camera\", \"camera\", \"camera\", \"camera\", \"capire\", \"capire\", \"capire\", \"capire\", \"cardinale\", \"cardinale\", \"cardinale\", \"cardinale\", \"cardinale\", \"cardinale\", \"carvi\", \"car\\u00e0tteri\", \"cattoli\", \"caufleld\", \"cernita\", \"chiamare\", \"chiamare\", \"chiamare\", \"chiamare\", \"chiamare\", \"chiamare\", \"chiesa\", \"chiesa\", \"chiesa\", \"chiesa\", \"chiesa\", \"chiesa\", \"chiuso\", \"chiuso\", \"chiuso\", \"chiuso\", \"chiuso\", \"circolazione\", \"circolazione\", \"circolazione\", \"civile\", \"civile\", \"civile\", \"civile\", \"civile\", \"civile\", \"clero\", \"clero\", \"clero\", \"clero\", \"clie\", \"collare\", \"collare\", \"collare\", \"collare\", \"collare\", \"collare\", \"collettivista\", \"collettivista\", \"colmo\", \"colonia\", \"colonia\", \"colonia\", \"colonia\", \"colonia\", \"colonia\", \"colpo\", \"colpo\", \"colpo\", \"colpo\", \"colpo\", \"colpo\", \"compagno\", \"compagno\", \"compagno\", \"compagno\", \"compagno\", \"conclave\", \"conclave\", \"conclave\", \"conclave\", \"conclave\", \"conclave\", \"condata\", \"condata\", \"condizione\", \"condizione\", \"condizione\", \"condizione\", \"condizione\", \"condizione\", \"congregazione\", \"congregazione\", \"congregazione\", \"congregazione\", \"congregazione\", \"contrad\", \"corto\", \"corto\", \"corto\", \"corto\", \"corto\", \"corto\", \"costare\", \"costare\", \"costare\", \"costare\", \"costare\", \"costare\", \"credere\", \"credere\", \"credere\", \"credere\", \"credere\", \"credere\", \"crimea\", \"crimea\", \"crimea\", \"crimea\", \"crisi\", \"crisi\", \"crisi\", \"crisi\", \"crisi\", \"czar\", \"czar\", \"czar\", \"czar\", \"czar\", \"czar\", \"daily\", \"daily\", \"daily\", \"daily\", \"daily\", \"daily\", \"damaro\", \"dann\\u00f3se\", \"dare\", \"dare\", \"dare\", \"dare\", \"dare\", \"dare\", \"datare\", \"datare\", \"datare\", \"datare\", \"datare\", \"datare\", \"dato\", \"dato\", \"dato\", \"dato\", \"dato\", \"dato\", \"defunto\", \"defunto\", \"defunto\", \"defunto\", \"defunto\", \"delta\", \"delta\", \"delta\", \"delta\", \"destlnazionu\", \"difeso\", \"difeso\", \"difeso\", \"difeso\", \"difeso\", \"difeso\", \"diffon\", \"dimostrare\", \"dimostrare\", \"dimostrare\", \"dimostrare\", \"dimostrare\", \"dimostrare\", \"dire\", \"dire\", \"dire\", \"dire\", \"dire\", \"dire\", \"direttore\", \"direttore\", \"direttore\", \"direttore\", \"direttore\", \"diritto\", \"diritto\", \"diritto\", \"diritto\", \"diritto\", \"diritto\", \"disonesto\", \"dispaccio\", \"dispaccio\", \"dispaccio\", \"dispaccio\", \"dispaccio\", \"dispaccio\", \"dogana\", \"dogana\", \"dogana\", \"dogana\", \"dovere\", \"dovere\", \"dovere\", \"dovere\", \"dovere\", \"dovere\", \"dragone\", \"dragone\", \"eall\", \"egoista\", \"elevala\", \"emancipazione\", \"emancipazione\", \"emanuele\", \"emanuele\", \"emanuele\", \"emanuele\", \"emanuele\", \"emanuele\", \"empirico\", \"engels\", \"esistere\", \"esistere\", \"esistere\", \"esistere\", \"esistere\", \"espansione\", \"etn\\u00e9\", \"evento\", \"evento\", \"evento\", \"evento\", \"evento\", \"famiglia\", \"famiglia\", \"famiglia\", \"famiglia\", \"famiglia\", \"famiglia\", \"fare\", \"fare\", \"fare\", \"fare\", \"fare\", \"fare\", \"faro\", \"faro\", \"faro\", \"faro\", \"fatto\", \"fatto\", \"fatto\", \"fatto\", \"fatto\", \"fatto\", \"fede\", \"fede\", \"fede\", \"fede\", \"fede\", \"fede\", \"femminile\", \"fiorenzo\", \"fiorenzo\", \"fiorenzo\", \"first\", \"first\", \"first\", \"first\", \"first\", \"first\", \"formare\", \"formare\", \"formare\", \"formare\", \"formare\", \"formare\", \"francese\", \"francese\", \"francese\", \"francese\", \"francese\", \"francese\", \"frica\", \"fumarci\", \"fuochista\", \"garibaldi\", \"garibaldi\", \"garibaldi\", \"garibaldi\", \"garibaldi\", \"gigante\", \"gigante\", \"giornale\", \"giornale\", \"giornale\", \"giornale\", \"giornale\", \"giornale\", \"giovanissimo\", \"gitazioni\", \"giugno\", \"giugno\", \"giugno\", \"giugno\", \"giugno\", \"giugno\", \"giungere\", \"giungere\", \"giungere\", \"giungere\", \"giungere\", \"giungere\", \"giustiziare\", \"giustiziare\", \"giustiziare\", \"giustiziare\", \"giustiziare\", \"giustiziare\", \"gotti\", \"gotti\", \"gotti\", \"gotti\", \"gotti\", \"gran\", \"gran\", \"gran\", \"gran\", \"gran\", \"gran\", \"grande\", \"grande\", \"grande\", \"grande\", \"grande\", \"grande\", \"gravido\", \"guale\", \"hnbattlno\", \"hnnsio\", \"idano\", \"ijck\", \"impartire\", \"impartire\", \"impartire\", \"impartire\", \"impiego\", \"imporla\", \"importare\", \"importare\", \"importare\", \"importare\", \"importare\", \"importare\", \"incidere\", \"incidere\", \"incidere\", \"incidere\", \"incidere\", \"inelut\", \"infelice\", \"infelice\", \"infelice\", \"infelice\", \"infini\", \"intento\", \"intento\", \"intento\", \"interporre\", \"interporre\", \"interporre\", \"interpretazione\", \"inviare\", \"inviare\", \"inviare\", \"inviare\", \"inviare\", \"inviare\", \"ipro\", \"irrimediabile\", \"ispirare\", \"ispirare\", \"ispirare\", \"ispirare\", \"istituto\", \"istituto\", \"istituto\", \"istituto\", \"italia\", \"italia\", \"italia\", \"italia\", \"italia\", \"italia\", \"italiak\", \"italiak\", \"italian\", \"italian\", \"italian\", \"italian\", \"italian\", \"italian\", \"italiano\", \"italiano\", \"italiano\", \"italiano\", \"italiano\", \"italiano\", \"itauan\", \"itauan\", \"itauan\", \"itauan\", \"itauan\", \"itauan\", \"joaquin\", \"lard\\u00f2\", \"largest\", \"largest\", \"largest\", \"largest\", \"largest\", \"largest\", \"lasciare\", \"lasciare\", \"lasciare\", \"lasciare\", \"lasciare\", \"lasciare\", \"latori\", \"leggere\", \"leggere\", \"leggere\", \"leggere\", \"leggere\", \"leggere\", \"legraf\\u00f2\", \"leone\", \"leone\", \"leone\", \"leone\", \"leone\", \"leone\", \"lettera\", \"lettera\", \"lettera\", \"lettera\", \"lettera\", \"lettera\", \"libare\", \"libare\", \"libare\", \"libert\\u00e0\", \"libert\\u00e0\", \"libert\\u00e0\", \"libert\\u00e0\", \"libert\\u00e0\", \"libert\\u00e0\", \"livo\", \"londra\", \"londra\", \"londra\", \"londra\", \"londra\", \"londra\", \"lottare\", \"lottare\", \"lottare\", \"lottare\", \"lottare\", \"lottare\", \"luzione\", \"luzione\", \"luzione\", \"macai\", \"macchina\", \"macchina\", \"macchina\", \"macchina\", \"macchina\", \"macchina\", \"madre\", \"madre\", \"madre\", \"madre\", \"madre\", \"maest\\u00e0\", \"maest\\u00e0\", \"maest\\u00e0\", \"maest\\u00e0\", \"maest\\u00e0\", \"maggio\", \"maggio\", \"maggio\", \"maggio\", \"maggio\", \"maggio\", \"malcontento\", \"malcontento\", \"mano\", \"mano\", \"mano\", \"mano\", \"mano\", \"mano\", \"manwf5\", \"marchine\", \"marconi\", \"marconi\", \"marconi\", \"marconi\", \"marconi\", \"marconi\", \"marnato\", \"marsiglia\", \"marsiglia\", \"marsiglia\", \"marsiglia\", \"marsiglia\", \"marx\", \"marx\", \"mashln\", \"matematico\", \"matematico\", \"matematico\", \"matematico\", \"medicina\", \"medicina\", \"medicina\", \"menomamente\", \"menomamente\", \"menomamente\", \"menomamente\", \"mentazione\", \"mentire\", \"mentire\", \"mentire\", \"mentire\", \"mentire\", \"mentire\", \"mercantile\", \"mercantile\", \"mercantile\", \"mercantile\", \"mertilla\", \"mesoootamia\", \"mettani\", \"mettiamolo\", \"milano\", \"milano\", \"milano\", \"milano\", \"milano\", \"milano\", \"militarismo\", \"militarismo\", \"militarismo\", \"missouri\", \"missouri\", \"missouri\", \"mllaa\", \"modernissimo\", \"molltiengo\", \"molto\", \"molto\", \"molto\", \"molto\", \"molto\", \"molto\", \"morgari\", \"morin\", \"morto\", \"morto\", \"morto\", \"morto\", \"morto\", \"morto\", \"navigazione\", \"navigazione\", \"navigazione\", \"navigazione\", \"navigazione\", \"navigazione\", \"nazione\", \"nazione\", \"nazione\", \"nazione\", \"nazione\", \"nazione\", \"necessit\\u00e0\", \"necessit\\u00e0\", \"necessit\\u00e0\", \"necessit\\u00e0\", \"necessit\\u00e0\", \"negletto\", \"niamo\", \"ninitirn\", \"nome\", \"nome\", \"nome\", \"nome\", \"nome\", \"nome\", \"notine\", \"notizia\", \"notizia\", \"notizia\", \"notizia\", \"notizia\", \"notizia\", \"numerare\", \"numerare\", \"numerare\", \"numerare\", \"numerare\", \"numerare\", \"nuovo\", \"nuovo\", \"nuovo\", \"nuovo\", \"nuovo\", \"nuovo\", \"obre\", \"odatele\", \"oeesano\", \"offrire\", \"offrire\", \"offrire\", \"offrire\", \"offrire\", \"offrire\", \"olwtaua4\", \"operare\", \"operare\", \"operare\", \"operare\", \"operare\", \"operare\", \"oppressore\", \"oppressore\", \"ordinanza\", \"ordinanza\", \"ordinanza\", \"ordinanza\", \"ordine\", \"ordine\", \"ordine\", \"ordine\", \"ordine\", \"ordine\", \"oreglia\", \"oreglia\", \"oreglia\", \"oreglia\", \"oreglia\", \"oreglia\", \"ostentatamente\", \"padrona\", \"padrona\", \"padrona\", \"padrona\", \"padrona\", \"palombaro\", \"palombaro\", \"palombaro\", \"palpito\", \"papa\", \"papa\", \"papa\", \"papa\", \"papa\", \"papa\", \"parassita\", \"parere\", \"parere\", \"parere\", \"parere\", \"parere\", \"parere\", \"parigi\", \"parigi\", \"parigi\", \"parigi\", \"parigi\", \"parigi\", \"parlamentare\", \"parlamentare\", \"parlamentare\", \"parlamentare\", \"parlamentare\", \"parlare\", \"parlare\", \"parlare\", \"parlare\", \"parlare\", \"parlare\", \"passare\", \"passare\", \"passare\", \"passare\", \"passare\", \"passare\", \"pastorale\", \"patrio\", \"patrio\", \"patrio\", \"patrio\", \"patrio\", \"patrio\", \"patrizio\", \"patrizio\", \"patrizio\", \"patrizio\", \"patrizio\", \"patrizio\", \"pianse\", \"piccolo\", \"piccolo\", \"piccolo\", \"piccolo\", \"piccolo\", \"piccolo\", \"pietosamente\", \"pietro\", \"pietro\", \"pietro\", \"pietro\", \"pietro\", \"pietro\", \"pineta\", \"pineta\", \"pitanati\", \"pittoresco\", \"pittoresco\", \"pittoresco\", \"plicazione\", \"politico\", \"politico\", \"politico\", \"politico\", \"politico\", \"politico\", \"polmone\", \"polmone\", \"polmone\", \"popolare\", \"popolare\", \"popolare\", \"popolare\", \"popolare\", \"popolare\", \"potere\", \"potere\", \"potere\", \"potere\", \"potere\", \"potere\", \"prendere\", \"prendere\", \"prendere\", \"prendere\", \"prendere\", \"prendere\", \"prendooo\", \"presentare\", \"presentare\", \"presentare\", \"presentare\", \"presentare\", \"presentare\", \"presidente\", \"presidente\", \"presidente\", \"presidente\", \"presidente\", \"presidente\", \"pressare\", \"pressare\", \"pressare\", \"pressare\", \"pressare\", \"pressare\", \"prin\", \"prin\", \"prin\", \"prin\", \"prln\", \"prln\", \"progenie\", \"promettere\", \"promettere\", \"promettere\", \"promettere\", \"promettere\", \"propagandare\", \"propagandare\", \"propagandare\", \"propagandare\", \"propagandare\", \"proposito\", \"proposito\", \"proposito\", \"proposito\", \"proposito\", \"proposito\", \"provare\", \"provare\", \"provare\", \"provare\", \"provare\", \"provare\", \"ptog\", \"pubblicare\", \"pubblicare\", \"pubblicare\", \"pubblicare\", \"pubblicare\", \"pubblicare\", \"pubblicista\", \"pubblicista\", \"pubblicista\", \"pubblico\", \"pubblico\", \"pubblico\", \"pubblico\", \"pubblico\", \"pubblico\", \"puccini\", \"puccini\", \"puccini\", \"puccini\", \"qainesvllle\", \"qualit\\u00e0\", \"qualit\\u00e0\", \"qualit\\u00e0\", \"qualit\\u00e0\", \"qualit\\u00e0\", \"quldo\", \"quotidiano\", \"quotidiano\", \"quotidiano\", \"quotidiano\", \"quotidiano\", \"quotidiano\", \"radiotele\", \"reazione\", \"reazione\", \"reazione\", \"reazione\", \"reazione\", \"recere\", \"recere\", \"recere\", \"recere\", \"recere\", \"recere\", \"recintare\", \"recintare\", \"recintare\", \"recinto\", \"regnare\", \"regnare\", \"regnare\", \"regnare\", \"regnare\", \"regnare\", \"relazione\", \"relazione\", \"relazione\", \"relazione\", \"relazione\", \"relazione\", \"religioso\", \"religioso\", \"religioso\", \"religioso\", \"religioso\", \"riani\", \"riani\", \"rimanere\", \"rimanere\", \"rimanere\", \"rimanere\", \"rimanere\", \"rimanere\", \"rinnegare\", \"riposare\", \"riposare\", \"riposare\", \"riposare\", \"riposare\", \"riserva\", \"riserva\", \"riserva\", \"riserva\", \"rispose\", \"rispose\", \"rispose\", \"rispose\", \"rispose\", \"ritornare\", \"ritornare\", \"ritornare\", \"ritornare\", \"ritornare\", \"ritornare\", \"riuscire\", \"riuscire\", \"riuscire\", \"riuscire\", \"riuscire\", \"rivisto\", \"rivisto\", \"rivisto\", \"rivisto\", \"rivisto\", \"rivoluziodari\", \"rivoluzionario\", \"rivoluzionario\", \"rivoluzionario\", \"rivoluzionario\", \"rivoluzionario\", \"rivoluzitnaria\", \"rocklin\", \"rocklin\", \"rodolfi\", \"rodolfi\", \"roma\", \"roma\", \"roma\", \"roma\", \"roma\", \"roma\", \"russia\", \"russia\", \"russia\", \"russia\", \"russia\", \"russia\", \"r\\u00e8clame\", \"sacramento\", \"sacro\", \"sacro\", \"sacro\", \"sacro\", \"sacro\", \"sacro\", \"sapere\", \"sapere\", \"sapere\", \"sapere\", \"sapere\", \"sapere\", \"sbiadito\", \"sbirro\", \"scienziato\", \"scienziato\", \"scienziato\", \"scienziato\", \"scienziato\", \"scrivere\", \"scrivere\", \"scrivere\", \"scrivere\", \"scrivere\", \"scrivere\", \"seaia\", \"seainre\", \"seccare\", \"sentire\", \"sentire\", \"sentire\", \"sentire\", \"sentire\", \"sentire\", \"seriare\", \"seriare\", \"seriare\", \"seriare\", \"serio\", \"serio\", \"serio\", \"serio\", \"serio\", \"serio\", \"sfingi\", \"siberia\", \"siberia\", \"siberia\", \"siberia\", \"sicilia\", \"sicilia\", \"sicilia\", \"sicilia\", \"sicilia\", \"sicuro\", \"sicuro\", \"sicuro\", \"sicuro\", \"sicuro\", \"sicuro\", \"siderurgico\", \"sifilitico\", \"since\", \"sindacare\", \"sindacare\", \"sindacare\", \"sindacare\", \"sindacare\", \"sindacare\", \"sofferenza\", \"sovrano\", \"sovrano\", \"sovrano\", \"sovrano\", \"sovrano\", \"sovrano\", \"sovversivo\", \"sovversivo\", \"sovversivo\", \"sovversivo\", \"sovversivo\", \"spazioso\", \"spedalit\\u00e0\", \"spegnendosi\", \"spegnendosi\", \"staccarli\", \"stamane\", \"stamane\", \"stamane\", \"stamane\", \"stamane\", \"states\", \"states\", \"states\", \"states\", \"states\", \"states\", \"stinzione\", \"struggh\", \"studienti\", \"sultano\", \"sultano\", \"sultano\", \"sultano\", \"supposta\", \"taluni\", \"taluni\", \"taluni\", \"teaaeada\", \"tedesco\", \"tedesco\", \"tedesco\", \"tedesco\", \"tedesco\", \"tedesco\", \"telegrafico\", \"telegrafico\", \"telegrafico\", \"telegrafico\", \"telegrafico\", \"telegrafico\", \"temere\", \"temere\", \"temere\", \"temere\", \"temere\", \"temere\", \"tenere\", \"tenere\", \"tenere\", \"tenere\", \"tenere\", \"tenere\", \"teorema\", \"terso\", \"terso\", \"terso\", \"terso\", \"terso\", \"text\", \"ticanti\", \"todo\", \"todo\", \"togliere\", \"togliere\", \"togliere\", \"togliere\", \"togliere\", \"torpediner\\u00e0\", \"trattare\", \"trattare\", \"trattare\", \"trattare\", \"trattare\", \"trattare\", \"trovare\", \"trovare\", \"trovare\", \"trovare\", \"trovare\", \"trovare\", \"uare\", \"uimkt\", \"unito\", \"unito\", \"unito\", \"unito\", \"unito\", \"unito\", \"uovo\", \"uovo\", \"uovo\", \"uovo\", \"uuajista\", \"uuiiiiui\", \"vano\", \"vano\", \"vano\", \"vano\", \"vano\", \"vano\", \"vecchio\", \"vecchio\", \"vecchio\", \"vecchio\", \"vecchio\", \"vecchio\", \"vedere\", \"vedere\", \"vedere\", \"vedere\", \"vedere\", \"vedere\", \"vendere\", \"vendere\", \"vendere\", \"vendere\", \"vendere\", \"venire\", \"venire\", \"venire\", \"venire\", \"venire\", \"venire\", \"vergognare\", \"vergognare\", \"vergognare\", \"vergognare\", \"viaggiare\", \"viaggiare\", \"viaggiare\", \"viaggiare\", \"viaggiare\", \"viaggiare\", \"visitare\", \"visitare\", \"visitare\", \"visitare\", \"visitare\", \"visitare\", \"vivere\", \"vivere\", \"vivere\", \"vivere\", \"vivere\", \"vivere\", \"voieut\", \"volere\", \"volere\", \"volere\", \"volere\", \"volere\", \"volere\", \"votivo\", \"vqle\", \"western\", \"western\", \"western\", \"western\", \"western\", \"western\", \"world\", \"world\", \"world\", \"world\", \"york\", \"york\", \"york\", \"york\", \"york\", \"york\", \"zangwiil\", \"zione\", \"zione\", \"zione\", \"zione\", \"zione\", \"zione\"]}, \"R\": 30, \"lambda.step\": 0.01, \"plot.opts\": {\"xlab\": \"PC1\", \"ylab\": \"PC2\"}, \"topic.order\": [1, 2, 3, 5, 6, 4]};\n",
              "\n",
              "function LDAvis_load_lib(url, callback){\n",
              "  var s = document.createElement('script');\n",
              "  s.src = url;\n",
              "  s.async = true;\n",
              "  s.onreadystatechange = s.onload = callback;\n",
              "  s.onerror = function(){console.warn(\"failed to load library \" + url);};\n",
              "  document.getElementsByTagName(\"head\")[0].appendChild(s);\n",
              "}\n",
              "\n",
              "if(typeof(LDAvis) !== \"undefined\"){\n",
              "   // already loaded: just create the visualization\n",
              "   !function(LDAvis){\n",
              "       new LDAvis(\"#\" + \"ldavis_el1201402433287033685323469158\", ldavis_el1201402433287033685323469158_data);\n",
              "   }(LDAvis);\n",
              "}else if(typeof define === \"function\" && define.amd){\n",
              "   // require.js is available: use it to load d3/LDAvis\n",
              "   require.config({paths: {d3: \"https://cdnjs.cloudflare.com/ajax/libs/d3/3.5.5/d3.min\"}});\n",
              "   require([\"d3\"], function(d3){\n",
              "      window.d3 = d3;\n",
              "      LDAvis_load_lib(\"https://cdn.rawgit.com/bmabey/pyLDAvis/files/ldavis.v1.0.0.js\", function(){\n",
              "        new LDAvis(\"#\" + \"ldavis_el1201402433287033685323469158\", ldavis_el1201402433287033685323469158_data);\n",
              "      });\n",
              "    });\n",
              "}else{\n",
              "    // require.js not available: dynamically load d3 & LDAvis\n",
              "    LDAvis_load_lib(\"https://cdnjs.cloudflare.com/ajax/libs/d3/3.5.5/d3.min.js\", function(){\n",
              "         LDAvis_load_lib(\"https://cdn.rawgit.com/bmabey/pyLDAvis/files/ldavis.v1.0.0.js\", function(){\n",
              "                 new LDAvis(\"#\" + \"ldavis_el1201402433287033685323469158\", ldavis_el1201402433287033685323469158_data);\n",
              "            })\n",
              "         });\n",
              "}\n",
              "</script>"
            ],
            "text/plain": [
              "PreparedData(topic_coordinates=              x         y  topics  cluster       Freq\n",
              "topic                                                \n",
              "0      0.005246 -0.000676       1        1  56.217216\n",
              "1      0.002054 -0.002079       2        1  14.848116\n",
              "2     -0.002366  0.002604       3        1  12.065644\n",
              "4      0.001207  0.003775       4        1  11.633741\n",
              "5     -0.002262 -0.002870       5        1   3.901516\n",
              "3     -0.003879 -0.000755       6        1   1.333767, topic_info=             Term         Freq        Total Category  logprob  loglift\n",
              "458      italiano  1018.000000  1018.000000  Default  30.0000  30.0000\n",
              "802          roma   446.000000   446.000000  Default  29.0000  29.0000\n",
              "918   telegrafico   407.000000   407.000000  Default  28.0000  28.0000\n",
              "456        italia   532.000000   532.000000  Default  27.0000  27.0000\n",
              "278     dispaccio   510.000000   510.000000  Default  26.0000  26.0000\n",
              "...           ...          ...          ...      ...      ...      ...\n",
              "951       trovare     2.347451   205.359467   Topic6  -6.5897  -0.1543\n",
              "995        venire     3.175812   361.818085   Topic6  -6.2874  -0.4184\n",
              "2502       volere     2.056462   174.799133   Topic6  -6.7220  -0.1255\n",
              "295        dovere     2.141461   210.729599   Topic6  -6.6815  -0.2719\n",
              "1463      leggere     1.905106   169.707642   Topic6  -6.7985  -0.1724\n",
              "\n",
              "[567 rows x 6 columns], token_table=      Topic      Freq   Term\n",
              "term                        \n",
              "6         1  0.497346   1903\n",
              "6         2  0.207227   1903\n",
              "6         3  0.103614   1903\n",
              "6         4  0.124336   1903\n",
              "6         5  0.041445   1903\n",
              "...     ...       ...    ...\n",
              "1027      2  0.089403  zione\n",
              "1027      3  0.151984  zione\n",
              "1027      4  0.116223  zione\n",
              "1027      5  0.044701  zione\n",
              "1027      6  0.008940  zione\n",
              "\n",
              "[1360 rows x 3 columns], R=30, lambda_step=0.01, plot_opts={'xlab': 'PC1', 'ylab': 'PC2'}, topic_order=[1, 2, 3, 5, 6, 4])"
            ]
          },
          "metadata": {
            "tags": []
          },
          "execution_count": 35
        }
      ]
    },
    {
      "cell_type": "markdown",
      "metadata": {
        "id": "jMh299U-Qowi",
        "colab_type": "text"
      },
      "source": [
        "### 2.2.3 LDA with Mallet"
      ]
    },
    {
      "cell_type": "code",
      "metadata": {
        "id": "TNMEMY3LaQQ-",
        "colab_type": "code",
        "colab": {}
      },
      "source": [
        "%%capture\n",
        "ldamallet = gensim.models.wrappers.LdaMallet(mallet_path, corpus=corpus, num_topics=numtopics, id2word=id2word)"
      ],
      "execution_count": 0,
      "outputs": []
    },
    {
      "cell_type": "code",
      "metadata": {
        "id": "I7VpXA0cahdM",
        "colab_type": "code",
        "outputId": "269af4c4-7978-42a5-99e7-f4db2fbe4fcc",
        "colab": {
          "base_uri": "https://localhost:8080/",
          "height": 241
        }
      },
      "source": [
        "ldamallet.print_topics()"
      ],
      "execution_count": 37,
      "outputs": [
        {
          "output_type": "execute_result",
          "data": {
            "text/plain": [
              "[(0,\n",
              "  '0.021*\"italiano\" + 0.021*\"roma\" + 0.009*\"venire\" + 0.009*\"york\" + 0.007*\"dire\" + 0.007*\"presidente\" + 0.007*\"visitare\" + 0.006*\"parere\" + 0.006*\"patrio\" + 0.006*\"italia\"'),\n",
              " (1,\n",
              "  '0.020*\"cardinale\" + 0.016*\"papa\" + 0.008*\"chiesa\" + 0.008*\"pontefice\" + 0.007*\"morto\" + 0.007*\"vaticano\" + 0.006*\"leone\" + 0.006*\"xiii\" + 0.006*\"conclave\" + 0.006*\"venire\"'),\n",
              " (2,\n",
              "  '0.009*\"leggere\" + 0.006*\"potere\" + 0.004*\"buono\" + 0.004*\"società\" + 0.004*\"lottare\" + 0.004*\"volere\" + 0.004*\"dovere\" + 0.004*\"sociale\" + 0.004*\"diritto\" + 0.004*\"comune\"'),\n",
              " (3,\n",
              "  '0.008*\"italia\" + 0.007*\"partire\" + 0.006*\"potere\" + 0.006*\"parigi\" + 0.006*\"popolare\" + 0.005*\"guerra\" + 0.005*\"giornale\" + 0.005*\"fatto\" + 0.005*\"pubblico\" + 0.004*\"zione\"'),\n",
              " (4,\n",
              "  '0.024*\"italiano\" + 0.009*\"daily\" + 0.009*\"dispaccio\" + 0.009*\"americano\" + 0.009*\"italia\" + 0.008*\"telegrafico\" + 0.007*\"giornale\" + 0.007*\"operare\" + 0.006*\"unito\" + 0.005*\"gran\"'),\n",
              " (5,\n",
              "  '0.014*\"dispaccio\" + 0.007*\"telegrafico\" + 0.007*\"notizia\" + 0.006*\"mentire\" + 0.006*\"giugno\" + 0.006*\"ufficiale\" + 0.005*\"genova\" + 0.005*\"rimanere\" + 0.005*\"regina\" + 0.004*\"causare\"')]"
            ]
          },
          "metadata": {
            "tags": []
          },
          "execution_count": 37
        }
      ]
    },
    {
      "cell_type": "code",
      "metadata": {
        "id": "kynzdwnA1tKY",
        "colab_type": "code",
        "colab": {}
      },
      "source": [
        "#create variable to retranslate model to Gensim, to be able to compute distribution at a later stage\n",
        "ldamallet_to_gensim = gensim.models.wrappers.ldamallet.malletmodel2ldamodel(ldamallet)"
      ],
      "execution_count": 0,
      "outputs": []
    },
    {
      "cell_type": "markdown",
      "metadata": {
        "id": "SSL1PF6zRcft",
        "colab_type": "text"
      },
      "source": [
        "## 2.3 Topic Coherence\n",
        "Topic Coherence measures score of a single topic by measuring the degree of semantic similarity between high scoring words in the topic. https://towardsdatascience.com/evaluate-topic-model-in-python-latent-dirichlet-allocation-lda-7d57484bb5d0"
      ]
    },
    {
      "cell_type": "code",
      "metadata": {
        "id": "GX69kVo-ssrV",
        "colab_type": "code",
        "colab": {}
      },
      "source": [
        "from gensim.models.coherencemodel import CoherenceModel"
      ],
      "execution_count": 0,
      "outputs": []
    },
    {
      "cell_type": "markdown",
      "metadata": {
        "id": "JrAOlaIXSUvb",
        "colab_type": "text"
      },
      "source": [
        "### 2.3.1 Coherence score LDA Gensim"
      ]
    },
    {
      "cell_type": "code",
      "metadata": {
        "id": "XVMfqVqZSbeJ",
        "colab_type": "code",
        "outputId": "a8ae1c56-d504-47a2-cf94-dbe85d6dfb69",
        "colab": {
          "base_uri": "https://localhost:8080/",
          "height": 51
        }
      },
      "source": [
        "coherence_model_ldagensim = CoherenceModel(model=ldagensim, texts=lemmatized_corpus, dictionary=id2word, coherence='c_v')\n",
        "coherence_ldagensim = coherence_model_ldagensim.get_coherence()\n",
        "print('\\nCoherence Score LDA Gensim: ', coherence_ldagensim)"
      ],
      "execution_count": 40,
      "outputs": [
        {
          "output_type": "stream",
          "text": [
            "\n",
            "Coherence Score LDA Gensim:  0.30392213382444927\n"
          ],
          "name": "stdout"
        }
      ]
    },
    {
      "cell_type": "markdown",
      "metadata": {
        "id": "9S5nI7YiSACT",
        "colab_type": "text"
      },
      "source": [
        "### 2.3.1 Coherence score LDA Mallet\n"
      ]
    },
    {
      "cell_type": "code",
      "metadata": {
        "id": "KmPJGdnHsafA",
        "colab_type": "code",
        "outputId": "f118a916-da97-4a28-ccf0-0ce462a49be4",
        "colab": {
          "base_uri": "https://localhost:8080/",
          "height": 51
        }
      },
      "source": [
        "coherence_model_ldamallet = CoherenceModel(model=ldamallet, texts=lemmatized_corpus, dictionary=id2word, coherence='c_v')\n",
        "coherence_ldamallet = coherence_model_ldamallet.get_coherence()\n",
        "print('\\nCoherence Score LDA MAllet: ', coherence_ldamallet)"
      ],
      "execution_count": 41,
      "outputs": [
        {
          "output_type": "stream",
          "text": [
            "\n",
            "Coherence Score LDA MAllet:  0.37185461721664453\n"
          ],
          "name": "stdout"
        }
      ]
    },
    {
      "cell_type": "markdown",
      "metadata": {
        "id": "pjImnk4wAh4u",
        "colab_type": "text"
      },
      "source": [
        "## 2.4 Coherence and number of topics"
      ]
    },
    {
      "cell_type": "markdown",
      "metadata": {
        "colab_type": "text",
        "id": "-C8GGNUoGAuf"
      },
      "source": [
        "### 2.4.1 LDA Gensim"
      ]
    },
    {
      "cell_type": "code",
      "metadata": {
        "colab_type": "code",
        "id": "lWD51u4PGAuh",
        "colab": {}
      },
      "source": [
        "#can take a long time to run\n",
        "%%capture\n",
        "topics_nr = []\n",
        "coherence_values_gensim = []\n",
        "for num_topics in range(2, 20):\n",
        "  model = models.LdaModel(corpus, id2word=id2word, num_topics=num_topics)\n",
        "  coherencemodel = CoherenceModel(model=model, texts=lemmatized_corpus, dictionary=id2word, coherence='c_v')\n",
        "  coherence_value = coherencemodel.get_coherence()\n",
        "  coherence_values_gensim.append(coherence_value)\n",
        "  topics_nr.append(str(num_topics))"
      ],
      "execution_count": 0,
      "outputs": []
    },
    {
      "cell_type": "code",
      "metadata": {
        "id": "7qwexUrMB689",
        "colab_type": "code",
        "outputId": "121d6bf7-50ed-4e20-ec42-e270018c9ecd",
        "colab": {
          "base_uri": "https://localhost:8080/",
          "height": 323
        }
      },
      "source": [
        "for i in range(len(topics_nr)):\n",
        "  print(\"Num Topics =\", topics_nr[i], \" has Coherence Value of\", round(coherence_values_gensim[i],4))"
      ],
      "execution_count": 43,
      "outputs": [
        {
          "output_type": "stream",
          "text": [
            "Num Topics = 2  has Coherence Value of 0.2918\n",
            "Num Topics = 3  has Coherence Value of 0.2965\n",
            "Num Topics = 4  has Coherence Value of 0.2846\n",
            "Num Topics = 5  has Coherence Value of 0.2831\n",
            "Num Topics = 6  has Coherence Value of 0.2919\n",
            "Num Topics = 7  has Coherence Value of 0.2959\n",
            "Num Topics = 8  has Coherence Value of 0.2975\n",
            "Num Topics = 9  has Coherence Value of 0.2918\n",
            "Num Topics = 10  has Coherence Value of 0.2879\n",
            "Num Topics = 11  has Coherence Value of 0.2929\n",
            "Num Topics = 12  has Coherence Value of 0.2934\n",
            "Num Topics = 13  has Coherence Value of 0.2894\n",
            "Num Topics = 14  has Coherence Value of 0.2953\n",
            "Num Topics = 15  has Coherence Value of 0.2875\n",
            "Num Topics = 16  has Coherence Value of 0.2896\n",
            "Num Topics = 17  has Coherence Value of 0.2884\n",
            "Num Topics = 18  has Coherence Value of 0.2892\n",
            "Num Topics = 19  has Coherence Value of 0.2925\n"
          ],
          "name": "stdout"
        }
      ]
    },
    {
      "cell_type": "code",
      "metadata": {
        "colab_type": "code",
        "id": "H2NSeh81GAur",
        "colab": {}
      },
      "source": [
        "# Visualize coherence scores\n",
        "import matplotlib.pyplot as plt"
      ],
      "execution_count": 0,
      "outputs": []
    },
    {
      "cell_type": "code",
      "metadata": {
        "colab_type": "code",
        "outputId": "256162e1-f424-473d-bb6f-bf31064d5968",
        "id": "YdA1u15bGAut",
        "colab": {
          "base_uri": "https://localhost:8080/",
          "height": 284
        }
      },
      "source": [
        "plt.plot(topics_nr, coherence_values_gensim)"
      ],
      "execution_count": 45,
      "outputs": [
        {
          "output_type": "execute_result",
          "data": {
            "text/plain": [
              "[<matplotlib.lines.Line2D at 0x7f8cee6c2400>]"
            ]
          },
          "metadata": {
            "tags": []
          },
          "execution_count": 45
        },
        {
          "output_type": "display_data",
          "data": {
            "image/png": "[encoded data removed]",
            "text/plain": [
              "<Figure size 432x288 with 1 Axes>"
            ]
          },
          "metadata": {
            "tags": [],
            "needs_background": "light"
          }
        }
      ]
    },
    {
      "cell_type": "code",
      "metadata": {
        "colab_type": "code",
        "id": "28j3eHrRGAuv",
        "colab": {}
      },
      "source": [
        "# To analyse the results, the user can print the list of topics for different topic nr"
      ],
      "execution_count": 0,
      "outputs": []
    },
    {
      "cell_type": "code",
      "metadata": {
        "colab_type": "code",
        "id": "Cg6OgRt7GAuy",
        "colab": {}
      },
      "source": [
        "# print topics for nr of topics = 7\n",
        "%%capture\n",
        "numtopics = 7\n",
        "model = models.LdaModel(corpus, id2word=id2word, num_topics=numtopics)"
      ],
      "execution_count": 0,
      "outputs": []
    },
    {
      "cell_type": "code",
      "metadata": {
        "id": "xqZGRK4NCrkJ",
        "colab_type": "code",
        "outputId": "c93947bf-e764-4957-e799-f4fbcaba8d50",
        "colab": {
          "base_uri": "https://localhost:8080/",
          "height": 275
        }
      },
      "source": [
        "model.print_topics()"
      ],
      "execution_count": 50,
      "outputs": [
        {
          "output_type": "execute_result",
          "data": {
            "text/plain": [
              "[(0,\n",
              "  '0.008*\"italiano\" + 0.003*\"telegrafico\" + 0.003*\"dispaccio\" + 0.003*\"italia\" + 0.003*\"venire\" + 0.003*\"roma\" + 0.003*\"daily\" + 0.003*\"giornale\" + 0.002*\"nuovo\" + 0.002*\"potere\"'),\n",
              " (1,\n",
              "  '0.007*\"italiano\" + 0.005*\"italia\" + 0.004*\"dispaccio\" + 0.003*\"roma\" + 0.003*\"giornale\" + 0.003*\"daily\" + 0.002*\"venire\" + 0.002*\"telegrafico\" + 0.002*\"potere\" + 0.002*\"gran\"'),\n",
              " (2,\n",
              "  '0.006*\"italiano\" + 0.004*\"italia\" + 0.004*\"telegrafico\" + 0.003*\"dispaccio\" + 0.003*\"roma\" + 0.003*\"venire\" + 0.003*\"potere\" + 0.002*\"giornale\" + 0.002*\"york\" + 0.002*\"cardinale\"'),\n",
              " (3,\n",
              "  '0.008*\"italiano\" + 0.004*\"roma\" + 0.004*\"italia\" + 0.004*\"dispaccio\" + 0.003*\"potere\" + 0.003*\"venire\" + 0.003*\"telegrafico\" + 0.002*\"daily\" + 0.002*\"cardinale\" + 0.002*\"giornale\"'),\n",
              " (4,\n",
              "  '0.008*\"italiano\" + 0.005*\"roma\" + 0.004*\"italia\" + 0.004*\"potere\" + 0.003*\"dispaccio\" + 0.003*\"telegrafico\" + 0.003*\"giornale\" + 0.002*\"daily\" + 0.002*\"mentire\" + 0.002*\"venire\"'),\n",
              " (5,\n",
              "  '0.008*\"italiano\" + 0.004*\"italia\" + 0.003*\"daily\" + 0.003*\"roma\" + 0.003*\"venire\" + 0.003*\"dispaccio\" + 0.003*\"telegrafico\" + 0.002*\"potere\" + 0.002*\"dire\" + 0.002*\"cardinale\"'),\n",
              " (6,\n",
              "  '0.007*\"italiano\" + 0.004*\"dispaccio\" + 0.003*\"telegrafico\" + 0.003*\"potere\" + 0.003*\"venire\" + 0.003*\"roma\" + 0.003*\"cardinale\" + 0.003*\"italia\" + 0.003*\"giornale\" + 0.002*\"daily\"')]"
            ]
          },
          "metadata": {
            "tags": []
          },
          "execution_count": 50
        }
      ]
    },
    {
      "cell_type": "markdown",
      "metadata": {
        "id": "FazsvYeYDxo0",
        "colab_type": "text"
      },
      "source": [
        "### 2.4.2 LDA Mallet"
      ]
    },
    {
      "cell_type": "code",
      "metadata": {
        "id": "BnliBI5FTBDd",
        "colab_type": "code",
        "colab": {}
      },
      "source": [
        "#can take a long time to run\n",
        "%%capture\n",
        "topics_nr = []\n",
        "coherence_values_mallet = []\n",
        "for num_topics in range(2, 20):\n",
        "  model = gensim.models.wrappers.LdaMallet(mallet_path, corpus=corpus, num_topics=num_topics, id2word=id2word)\n",
        "  coherencemodel = CoherenceModel(model=model, texts=lemmatized_corpus, dictionary=id2word, coherence='c_v')\n",
        "  coherence_value = coherencemodel.get_coherence()\n",
        "  coherence_values_mallet.append(coherence_value)\n",
        "  topics_nr.append(str(num_topics))"
      ],
      "execution_count": 0,
      "outputs": []
    },
    {
      "cell_type": "code",
      "metadata": {
        "id": "dSEG4NBSC5BZ",
        "colab_type": "code",
        "outputId": "04c9aaec-442c-48b5-b4e0-9c8f311af995",
        "colab": {
          "base_uri": "https://localhost:8080/",
          "height": 323
        }
      },
      "source": [
        "for i in range(len(topics_nr)):\n",
        "  print(\"Num Topics =\", topics_nr[i], \" has Coherence Value of\", round(coherence_values_mallet[i],4))"
      ],
      "execution_count": 51,
      "outputs": [
        {
          "output_type": "stream",
          "text": [
            "Num Topics = 2  has Coherence Value of 0.3064\n",
            "Num Topics = 3  has Coherence Value of 0.3695\n",
            "Num Topics = 4  has Coherence Value of 0.3703\n",
            "Num Topics = 5  has Coherence Value of 0.3871\n",
            "Num Topics = 6  has Coherence Value of 0.3947\n",
            "Num Topics = 7  has Coherence Value of 0.3802\n",
            "Num Topics = 8  has Coherence Value of 0.3892\n",
            "Num Topics = 9  has Coherence Value of 0.3845\n",
            "Num Topics = 10  has Coherence Value of 0.4145\n",
            "Num Topics = 11  has Coherence Value of 0.3954\n",
            "Num Topics = 12  has Coherence Value of 0.3799\n",
            "Num Topics = 13  has Coherence Value of 0.3507\n",
            "Num Topics = 14  has Coherence Value of 0.3777\n",
            "Num Topics = 15  has Coherence Value of 0.373\n",
            "Num Topics = 16  has Coherence Value of 0.3585\n",
            "Num Topics = 17  has Coherence Value of 0.3684\n",
            "Num Topics = 18  has Coherence Value of 0.3705\n",
            "Num Topics = 19  has Coherence Value of 0.368\n"
          ],
          "name": "stdout"
        }
      ]
    },
    {
      "cell_type": "code",
      "metadata": {
        "id": "oIso5UpAMk02",
        "colab_type": "code",
        "outputId": "08e76a7b-370d-45d4-f258-99f61f65452e",
        "colab": {
          "base_uri": "https://localhost:8080/",
          "height": 282
        }
      },
      "source": [
        "plt.plot(topics_nr, coherence_values_mallet)"
      ],
      "execution_count": 52,
      "outputs": [
        {
          "output_type": "execute_result",
          "data": {
            "text/plain": [
              "[<matplotlib.lines.Line2D at 0x7f8cee5a9cc0>]"
            ]
          },
          "metadata": {
            "tags": []
          },
          "execution_count": 52
        },
        {
          "output_type": "display_data",
          "data": {
            "image/png": "[encoded data removed]",
            "text/plain": [
              "<Figure size 432x288 with 1 Axes>"
            ]
          },
          "metadata": {
            "tags": [],
            "needs_background": "light"
          }
        }
      ]
    },
    {
      "cell_type": "code",
      "metadata": {
        "id": "zaRiYNAlQKY6",
        "colab_type": "code",
        "colab": {}
      },
      "source": [
        "# To analyse the results, the user can print the list of topics for different topic nr"
      ],
      "execution_count": 0,
      "outputs": []
    },
    {
      "cell_type": "code",
      "metadata": {
        "id": "JiK6edH3RA4G",
        "colab_type": "code",
        "colab": {}
      },
      "source": [
        "# print topics for nr of topics = 10\n",
        "%%capture\n",
        "numtopics = 10\n",
        "model = gensim.models.wrappers.LdaMallet(mallet_path, corpus=corpus, num_topics=numtopics, id2word=id2word)"
      ],
      "execution_count": 0,
      "outputs": []
    },
    {
      "cell_type": "code",
      "metadata": {
        "id": "p445G7PYDSin",
        "colab_type": "code",
        "outputId": "a8e2de46-02b5-405a-d588-8d941fe14ec0",
        "colab": {
          "base_uri": "https://localhost:8080/",
          "height": 377
        }
      },
      "source": [
        "model.print_topics()"
      ],
      "execution_count": 0,
      "outputs": [
        {
          "output_type": "execute_result",
          "data": {
            "text/plain": [
              "[(0,\n",
              "  '0.030*\"cardinale\" + 0.024*\"papa\" + 0.011*\"pontefice\" + 0.011*\"roma\" + 0.010*\"leone\" + 0.010*\"chiesa\" + 0.010*\"xiii\" + 0.010*\"conclave\" + 0.009*\"italiano\" + 0.008*\"vaticano\"'),\n",
              " (1,\n",
              "  '0.014*\"italiano\" + 0.007*\"vivo\" + 0.007*\"bandiera\" + 0.006*\"venezia\" + 0.005*\"azione\" + 0.005*\"sentire\" + 0.005*\"scrivere\" + 0.005*\"studente\" + 0.005*\"storia\" + 0.004*\"patrio\"'),\n",
              " (2,\n",
              "  '0.013*\"potere\" + 0.012*\"leggere\" + 0.007*\"nuovo\" + 0.007*\"comune\" + 0.006*\"sociale\" + 0.006*\"passare\" + 0.006*\"popolare\" + 0.005*\"lottare\" + 0.005*\"classe\" + 0.005*\"perchè\"'),\n",
              " (3,\n",
              "  '0.016*\"italiano\" + 0.014*\"telegrafico\" + 0.011*\"giornale\" + 0.009*\"grave\" + 0.008*\"francese\" + 0.008*\"dispaccio\" + 0.008*\"parigi\" + 0.008*\"presidente\" + 0.007*\"parlare\" + 0.007*\"daily\"'),\n",
              " (4,\n",
              "  '0.010*\"gran\" + 0.009*\"morto\" + 0.009*\"dovere\" + 0.008*\"recere\" + 0.008*\"ebreo\" + 0.008*\"dispaccio\" + 0.007*\"maggio\" + 0.007*\"polizia\" + 0.006*\"fatto\" + 0.006*\"popolare\"'),\n",
              " (5,\n",
              "  '0.019*\"venire\" + 0.012*\"trovare\" + 0.011*\"dare\" + 0.011*\"dire\" + 0.011*\"italia\" + 0.008*\"italian\" + 0.008*\"volere\" + 0.008*\"mentire\" + 0.006*\"largest\" + 0.006*\"costare\"'),\n",
              " (6,\n",
              "  '0.012*\"giugno\" + 0.009*\"regina\" + 0.008*\"dispaccio\" + 0.008*\"potere\" + 0.007*\"ministero\" + 0.007*\"rimanere\" + 0.006*\"serbia\" + 0.006*\"venire\" + 0.006*\"belgrado\" + 0.006*\"relazione\"'),\n",
              " (7,\n",
              "  '0.011*\"italiano\" + 0.010*\"telegrafico\" + 0.009*\"york\" + 0.009*\"italia\" + 0.008*\"dirigere\" + 0.007*\"piroscafo\" + 0.007*\"nuovo\" + 0.007*\"navigazione\" + 0.007*\"genova\" + 0.006*\"produrre\"'),\n",
              " (8,\n",
              "  '0.030*\"italiano\" + 0.016*\"giornale\" + 0.013*\"americano\" + 0.011*\"operare\" + 0.010*\"potere\" + 0.010*\"italia\" + 0.009*\"daily\" + 0.009*\"unito\" + 0.007*\"dispaccio\" + 0.006*\"telegrafico\"'),\n",
              " (9,\n",
              "  '0.020*\"roma\" + 0.013*\"visitare\" + 0.011*\"italiano\" + 0.010*\"marconi\" + 0.010*\"italia\" + 0.007*\"parigi\" + 0.007*\"dispaccio\" + 0.006*\"patrio\" + 0.006*\"daily\" + 0.006*\"nave\"')]"
            ]
          },
          "metadata": {
            "tags": []
          },
          "execution_count": 67
        }
      ]
    },
    {
      "cell_type": "markdown",
      "metadata": {
        "id": "Tn70q1uGWx40",
        "colab_type": "text"
      },
      "source": [
        "# Topic distribution"
      ]
    },
    {
      "cell_type": "markdown",
      "metadata": {
        "id": "G-nJuD7-XCyf",
        "colab_type": "text"
      },
      "source": [
        "## 3.1. Gensim"
      ]
    },
    {
      "cell_type": "markdown",
      "metadata": {
        "id": "tJQWcQhLXN0A",
        "colab_type": "text"
      },
      "source": [
        "### 3.1.1. Distribution per topic and per document"
      ]
    },
    {
      "cell_type": "code",
      "metadata": {
        "id": "uCv_Yd4LXNCs",
        "colab_type": "code",
        "colab": {}
      },
      "source": [
        "%%capture\n",
        "numtopics = 6\n",
        "ldamodel = models.LdaModel(corpus, num_topics=numtopics, id2word = id2word, minimum_probability=0)"
      ],
      "execution_count": 0,
      "outputs": []
    },
    {
      "cell_type": "code",
      "metadata": {
        "id": "4Ev971D4W42k",
        "colab_type": "code",
        "colab": {}
      },
      "source": [
        "distribution_gensim = pd.DataFrame(index=[i for i in range(len(corpus))],columns=[f'topic{i}' for i in range(numtopics)])"
      ],
      "execution_count": 0,
      "outputs": []
    },
    {
      "cell_type": "code",
      "metadata": {
        "id": "wnwP-6RTXcFb",
        "colab_type": "code",
        "colab": {}
      },
      "source": [
        "for i in range(len(corpus)):\n",
        "  row = [list(j)[1] for j in ldamodel[corpus[i]]] \n",
        "  distribution_gensim.loc[i] = row"
      ],
      "execution_count": 0,
      "outputs": []
    },
    {
      "cell_type": "code",
      "metadata": {
        "id": "nuNjFvpSXf33",
        "colab_type": "code",
        "colab": {}
      },
      "source": [
        "# add file name\n",
        "distribution_gensim.insert(0, 'document_path', sources['file_name'])"
      ],
      "execution_count": 0,
      "outputs": []
    },
    {
      "cell_type": "code",
      "metadata": {
        "id": "UN5EDiq4Xjeq",
        "colab_type": "code",
        "outputId": "7701c3a2-a43d-4449-da1c-a4a11044ad9e",
        "colab": {
          "base_uri": "https://localhost:8080/",
          "height": 589
        }
      },
      "source": [
        "distribution_gensim"
      ],
      "execution_count": 58,
      "outputs": [
        {
          "output_type": "execute_result",
          "data": {
            "text/html": [
              "<div>\n",
              "<style scoped>\n",
              "    .dataframe tbody tr th:only-of-type {\n",
              "        vertical-align: middle;\n",
              "    }\n",
              "\n",
              "    .dataframe tbody tr th {\n",
              "        vertical-align: top;\n",
              "    }\n",
              "\n",
              "    .dataframe thead th {\n",
              "        text-align: right;\n",
              "    }\n",
              "</style>\n",
              "<table border=\"1\" class=\"dataframe\">\n",
              "  <thead>\n",
              "    <tr style=\"text-align: right;\">\n",
              "      <th></th>\n",
              "      <th>document_path</th>\n",
              "      <th>topic0</th>\n",
              "      <th>topic1</th>\n",
              "      <th>topic2</th>\n",
              "      <th>topic3</th>\n",
              "      <th>topic4</th>\n",
              "      <th>topic5</th>\n",
              "    </tr>\n",
              "  </thead>\n",
              "  <tbody>\n",
              "    <tr>\n",
              "      <th>0</th>\n",
              "      <td>sn85066408_1903-04-27_ed-1_seq-1_ocr.txt</td>\n",
              "      <td>0.0440312</td>\n",
              "      <td>0.000117973</td>\n",
              "      <td>0.00244497</td>\n",
              "      <td>0.00719573</td>\n",
              "      <td>0.00011801</td>\n",
              "      <td>0.946092</td>\n",
              "    </tr>\n",
              "    <tr>\n",
              "      <th>1</th>\n",
              "      <td>sn85066408_1903-04-28_ed-1_seq-1_ocr.txt</td>\n",
              "      <td>0.000757816</td>\n",
              "      <td>0.000104793</td>\n",
              "      <td>0.000104732</td>\n",
              "      <td>0.000104723</td>\n",
              "      <td>0.00010478</td>\n",
              "      <td>0.998823</td>\n",
              "    </tr>\n",
              "    <tr>\n",
              "      <th>2</th>\n",
              "      <td>sn85066408_1903-04-29_ed-1_seq-1_ocr.txt</td>\n",
              "      <td>0.908956</td>\n",
              "      <td>0.00235</td>\n",
              "      <td>0.000142526</td>\n",
              "      <td>0.000142545</td>\n",
              "      <td>0.000142579</td>\n",
              "      <td>0.0882663</td>\n",
              "    </tr>\n",
              "    <tr>\n",
              "      <th>3</th>\n",
              "      <td>sn85066408_1903-04-30_ed-1_seq-1_ocr.txt</td>\n",
              "      <td>0.86034</td>\n",
              "      <td>0.00014945</td>\n",
              "      <td>0.0159834</td>\n",
              "      <td>0.0746845</td>\n",
              "      <td>0.00396215</td>\n",
              "      <td>0.0448801</td>\n",
              "    </tr>\n",
              "    <tr>\n",
              "      <th>4</th>\n",
              "      <td>sn85066408_1903-05-01_ed-1_seq-1_ocr.txt</td>\n",
              "      <td>0.948024</td>\n",
              "      <td>0.0490583</td>\n",
              "      <td>0.000235133</td>\n",
              "      <td>0.000234918</td>\n",
              "      <td>0.000868481</td>\n",
              "      <td>0.00157883</td>\n",
              "    </tr>\n",
              "    <tr>\n",
              "      <th>...</th>\n",
              "      <td>...</td>\n",
              "      <td>...</td>\n",
              "      <td>...</td>\n",
              "      <td>...</td>\n",
              "      <td>...</td>\n",
              "      <td>...</td>\n",
              "      <td>...</td>\n",
              "    </tr>\n",
              "    <tr>\n",
              "      <th>95</th>\n",
              "      <td>sn85066408_1903-08-05_ed-1_seq-1_ocr.txt</td>\n",
              "      <td>0.000446869</td>\n",
              "      <td>0.000447622</td>\n",
              "      <td>0.000446574</td>\n",
              "      <td>0.997765</td>\n",
              "      <td>0.000446815</td>\n",
              "      <td>0.000446602</td>\n",
              "    </tr>\n",
              "    <tr>\n",
              "      <th>96</th>\n",
              "      <td>sn85066408_1903-08-06_ed-1_seq-1_ocr.txt</td>\n",
              "      <td>0.000132585</td>\n",
              "      <td>0.000132359</td>\n",
              "      <td>0.000132184</td>\n",
              "      <td>0.999338</td>\n",
              "      <td>0.000132326</td>\n",
              "      <td>0.000132433</td>\n",
              "    </tr>\n",
              "    <tr>\n",
              "      <th>97</th>\n",
              "      <td>sn85066408_1903-08-07_ed-1_seq-1_ocr.txt</td>\n",
              "      <td>0.000120108</td>\n",
              "      <td>0.0338702</td>\n",
              "      <td>0.000120033</td>\n",
              "      <td>0.888144</td>\n",
              "      <td>0.000120084</td>\n",
              "      <td>0.0776253</td>\n",
              "    </tr>\n",
              "    <tr>\n",
              "      <th>98</th>\n",
              "      <td>2012271201_1903-08-08_ed-1_seq-1_ocr.txt</td>\n",
              "      <td>0.000239272</td>\n",
              "      <td>0.000239443</td>\n",
              "      <td>0.298698</td>\n",
              "      <td>0.000239311</td>\n",
              "      <td>0.000239344</td>\n",
              "      <td>0.700345</td>\n",
              "    </tr>\n",
              "    <tr>\n",
              "      <th>99</th>\n",
              "      <td>sn85066408_1903-08-08_ed-1_seq-1_ocr.txt</td>\n",
              "      <td>0.285798</td>\n",
              "      <td>0.000128376</td>\n",
              "      <td>0.713599</td>\n",
              "      <td>0.000218092</td>\n",
              "      <td>0.000128336</td>\n",
              "      <td>0.000128435</td>\n",
              "    </tr>\n",
              "  </tbody>\n",
              "</table>\n",
              "<p>100 rows × 7 columns</p>\n",
              "</div>"
            ],
            "text/plain": [
              "                               document_path  ...       topic5\n",
              "0   sn85066408_1903-04-27_ed-1_seq-1_ocr.txt  ...     0.946092\n",
              "1   sn85066408_1903-04-28_ed-1_seq-1_ocr.txt  ...     0.998823\n",
              "2   sn85066408_1903-04-29_ed-1_seq-1_ocr.txt  ...    0.0882663\n",
              "3   sn85066408_1903-04-30_ed-1_seq-1_ocr.txt  ...    0.0448801\n",
              "4   sn85066408_1903-05-01_ed-1_seq-1_ocr.txt  ...   0.00157883\n",
              "..                                       ...  ...          ...\n",
              "95  sn85066408_1903-08-05_ed-1_seq-1_ocr.txt  ...  0.000446602\n",
              "96  sn85066408_1903-08-06_ed-1_seq-1_ocr.txt  ...  0.000132433\n",
              "97  sn85066408_1903-08-07_ed-1_seq-1_ocr.txt  ...    0.0776253\n",
              "98  2012271201_1903-08-08_ed-1_seq-1_ocr.txt  ...     0.700345\n",
              "99  sn85066408_1903-08-08_ed-1_seq-1_ocr.txt  ...  0.000128435\n",
              "\n",
              "[100 rows x 7 columns]"
            ]
          },
          "metadata": {
            "tags": []
          },
          "execution_count": 58
        }
      ]
    },
    {
      "cell_type": "markdown",
      "metadata": {
        "id": "Q1EdarG6YJFp",
        "colab_type": "text"
      },
      "source": [
        "### 3.1.2. Distribution per topic for the whole corpus"
      ]
    },
    {
      "cell_type": "code",
      "metadata": {
        "id": "I8pgB8b8X3we",
        "colab_type": "code",
        "outputId": "1796a579-c55b-4a15-f842-2a623fa2a5a9",
        "colab": {
          "base_uri": "https://localhost:8080/",
          "height": 241
        }
      },
      "source": [
        "topics = []\n",
        "topic_weights = []\n",
        "for i in range(len(distribution_gensim.columns)-1):\n",
        "  topic_weight = round(sum(distribution_gensim.iloc[:,i+1]),2)\n",
        "  topic_weights.append(topic_weight)\n",
        "  print( f'topic {i}: {topic_weight}%' )\n",
        "  topic = ldamodel.print_topics()[i][1]\n",
        "  topics.append(i)\n",
        "  print( f'terms: {topic} ')"
      ],
      "execution_count": 59,
      "outputs": [
        {
          "output_type": "stream",
          "text": [
            "topic 0: 19.82%\n",
            "terms: 0.007*\"italiano\" + 0.004*\"italia\" + 0.004*\"dispaccio\" + 0.004*\"giornale\" + 0.004*\"daily\" + 0.003*\"roma\" + 0.003*\"venire\" + 0.003*\"potere\" + 0.003*\"telegrafico\" + 0.002*\"nuovo\" \n",
            "topic 1: 5.65%\n",
            "terms: 0.007*\"italiano\" + 0.004*\"italia\" + 0.003*\"roma\" + 0.003*\"telegrafico\" + 0.003*\"dispaccio\" + 0.003*\"potere\" + 0.002*\"venire\" + 0.002*\"giornale\" + 0.002*\"daily\" + 0.002*\"mentire\" \n",
            "topic 2: 8.63%\n",
            "terms: 0.007*\"italiano\" + 0.004*\"telegrafico\" + 0.004*\"dispaccio\" + 0.003*\"daily\" + 0.003*\"italia\" + 0.002*\"giornale\" + 0.002*\"venire\" + 0.002*\"gran\" + 0.002*\"dire\" + 0.002*\"roma\" \n",
            "topic 3: 26.65%\n",
            "terms: 0.007*\"italiano\" + 0.004*\"roma\" + 0.004*\"dispaccio\" + 0.004*\"italia\" + 0.003*\"telegrafico\" + 0.003*\"potere\" + 0.003*\"cardinale\" + 0.003*\"venire\" + 0.002*\"papa\" + 0.002*\"daily\" \n",
            "topic 4: 14.41%\n",
            "terms: 0.007*\"italiano\" + 0.004*\"italia\" + 0.003*\"dispaccio\" + 0.003*\"venire\" + 0.003*\"potere\" + 0.003*\"cardinale\" + 0.003*\"roma\" + 0.002*\"telegrafico\" + 0.002*\"giornale\" + 0.002*\"daily\" \n",
            "topic 5: 24.84%\n",
            "terms: 0.010*\"italiano\" + 0.005*\"roma\" + 0.004*\"italia\" + 0.003*\"potere\" + 0.003*\"dispaccio\" + 0.003*\"telegrafico\" + 0.003*\"venire\" + 0.002*\"giornale\" + 0.002*\"cardinale\" + 0.002*\"daily\" \n"
          ],
          "name": "stdout"
        }
      ]
    },
    {
      "cell_type": "code",
      "metadata": {
        "id": "KBwF9mpuvtWF",
        "colab_type": "code",
        "colab": {}
      },
      "source": [
        "# dataframe with values to sort them by order of importance\n",
        "distribution_df_gensim = pd.DataFrame(topic_weights, columns=['weight'])"
      ],
      "execution_count": 0,
      "outputs": []
    },
    {
      "cell_type": "code",
      "metadata": {
        "id": "jqRdWxvrx6d5",
        "colab_type": "code",
        "colab": {}
      },
      "source": [
        "distribution_df_gensim['topics'] = topics"
      ],
      "execution_count": 0,
      "outputs": []
    },
    {
      "cell_type": "code",
      "metadata": {
        "id": "ibNoUroJzipD",
        "colab_type": "code",
        "colab": {}
      },
      "source": [
        "distribution_df_gensim['topics'] = distribution_df_gensim['topics'].apply(lambda x: f'topic {x}')"
      ],
      "execution_count": 0,
      "outputs": []
    },
    {
      "cell_type": "code",
      "metadata": {
        "id": "59Km8QYEwWQz",
        "colab_type": "code",
        "colab": {}
      },
      "source": [
        "distribution_df_gensim = distribution_df_gensim.sort_values(by=['weight'])"
      ],
      "execution_count": 0,
      "outputs": []
    },
    {
      "cell_type": "code",
      "metadata": {
        "id": "JGE5O2-_u4_I",
        "colab_type": "code",
        "outputId": "1ecafe25-9ed9-45be-b073-56bc47aa1a9a",
        "colab": {
          "base_uri": "https://localhost:8080/",
          "height": 466
        }
      },
      "source": [
        "plt.rcdefaults()\n",
        "fig, ax = plt.subplots()\n",
        "ax.barh(distribution_df_gensim['topics'], distribution_df_gensim['weight'], align='center')\n",
        "ax.set_xlabel('Weight (%)')"
      ],
      "execution_count": 64,
      "outputs": [
        {
          "output_type": "execute_result",
          "data": {
            "text/plain": [
              "Text(0.5, 0, 'Weight (%)')"
            ]
          },
          "metadata": {
            "tags": []
          },
          "execution_count": 64
        },
        {
          "output_type": "display_data",
          "data": {
            "image/png": "[encoded data removed]",
            "text/plain": [
              "<Figure size 640x480 with 1 Axes>"
            ]
          },
          "metadata": {
            "tags": []
          }
        }
      ]
    },
    {
      "cell_type": "markdown",
      "metadata": {
        "id": "-R4PqRHS5gzM",
        "colab_type": "text"
      },
      "source": [
        "##3.2 Mallet"
      ]
    },
    {
      "cell_type": "markdown",
      "metadata": {
        "id": "edtyLQcA6XAi",
        "colab_type": "text"
      },
      "source": [
        "### 3.2.1 Distribution per topic and per document"
      ]
    },
    {
      "cell_type": "code",
      "metadata": {
        "id": "AVzWPlU-5z2x",
        "colab_type": "code",
        "colab": {}
      },
      "source": [
        "distribution_mallet = pd.DataFrame(index=[i for i in range(len(corpus))],columns=[f'topic{i}' for i in range(numtopics)])"
      ],
      "execution_count": 0,
      "outputs": []
    },
    {
      "cell_type": "code",
      "metadata": {
        "id": "B64Z2FAs55Wd",
        "colab_type": "code",
        "colab": {}
      },
      "source": [
        "for i in range(len(corpus)):\n",
        "  row = [list(j)[1] for j in ldamallet_to_gensim[corpus[i]]] \n",
        "  distribution_mallet.loc[i] = row"
      ],
      "execution_count": 0,
      "outputs": []
    },
    {
      "cell_type": "code",
      "metadata": {
        "id": "nP0QKt0x6BLy",
        "colab_type": "code",
        "colab": {}
      },
      "source": [
        "distribution_mallet.insert(0, 'document_path', sources['file_name'])"
      ],
      "execution_count": 0,
      "outputs": []
    },
    {
      "cell_type": "code",
      "metadata": {
        "id": "Pu2Tk_x77KHH",
        "colab_type": "code",
        "colab": {}
      },
      "source": [
        "# functionalities that are available with mallet wrapper retranslated to gensim need to be investigated further\n",
        "# ldamallet_to_gensim.print_topics()"
      ],
      "execution_count": 0,
      "outputs": []
    },
    {
      "cell_type": "code",
      "metadata": {
        "id": "L-dUibIM6Nu0",
        "colab_type": "code",
        "outputId": "253af9f0-06a3-448a-c177-7daab624e5ab",
        "colab": {
          "base_uri": "https://localhost:8080/",
          "height": 419
        }
      },
      "source": [
        "distribution_mallet"
      ],
      "execution_count": 68,
      "outputs": [
        {
          "output_type": "execute_result",
          "data": {
            "text/html": [
              "<div>\n",
              "<style scoped>\n",
              "    .dataframe tbody tr th:only-of-type {\n",
              "        vertical-align: middle;\n",
              "    }\n",
              "\n",
              "    .dataframe tbody tr th {\n",
              "        vertical-align: top;\n",
              "    }\n",
              "\n",
              "    .dataframe thead th {\n",
              "        text-align: right;\n",
              "    }\n",
              "</style>\n",
              "<table border=\"1\" class=\"dataframe\">\n",
              "  <thead>\n",
              "    <tr style=\"text-align: right;\">\n",
              "      <th></th>\n",
              "      <th>document_path</th>\n",
              "      <th>topic0</th>\n",
              "      <th>topic1</th>\n",
              "      <th>topic2</th>\n",
              "      <th>topic3</th>\n",
              "      <th>topic4</th>\n",
              "      <th>topic5</th>\n",
              "    </tr>\n",
              "  </thead>\n",
              "  <tbody>\n",
              "    <tr>\n",
              "      <th>0</th>\n",
              "      <td>sn85066408_1903-04-27_ed-1_seq-1_ocr.txt</td>\n",
              "      <td>0.231498</td>\n",
              "      <td>0.0727352</td>\n",
              "      <td>0.0829734</td>\n",
              "      <td>0.135047</td>\n",
              "      <td>0.251138</td>\n",
              "      <td>0.226609</td>\n",
              "    </tr>\n",
              "    <tr>\n",
              "      <th>1</th>\n",
              "      <td>sn85066408_1903-04-28_ed-1_seq-1_ocr.txt</td>\n",
              "      <td>0.170117</td>\n",
              "      <td>0.0477283</td>\n",
              "      <td>0.0999062</td>\n",
              "      <td>0.175304</td>\n",
              "      <td>0.334495</td>\n",
              "      <td>0.172449</td>\n",
              "    </tr>\n",
              "    <tr>\n",
              "      <th>2</th>\n",
              "      <td>sn85066408_1903-04-29_ed-1_seq-1_ocr.txt</td>\n",
              "      <td>0.262384</td>\n",
              "      <td>0.0581078</td>\n",
              "      <td>0.0567422</td>\n",
              "      <td>0.233382</td>\n",
              "      <td>0.266629</td>\n",
              "      <td>0.122754</td>\n",
              "    </tr>\n",
              "    <tr>\n",
              "      <th>3</th>\n",
              "      <td>sn85066408_1903-04-30_ed-1_seq-1_ocr.txt</td>\n",
              "      <td>0.348604</td>\n",
              "      <td>0.0669136</td>\n",
              "      <td>0.0541565</td>\n",
              "      <td>0.08167</td>\n",
              "      <td>0.295551</td>\n",
              "      <td>0.153105</td>\n",
              "    </tr>\n",
              "    <tr>\n",
              "      <th>4</th>\n",
              "      <td>sn85066408_1903-05-01_ed-1_seq-1_ocr.txt</td>\n",
              "      <td>0.171465</td>\n",
              "      <td>0.0518164</td>\n",
              "      <td>0.217659</td>\n",
              "      <td>0.231854</td>\n",
              "      <td>0.295513</td>\n",
              "      <td>0.0316928</td>\n",
              "    </tr>\n",
              "    <tr>\n",
              "      <th>...</th>\n",
              "      <td>...</td>\n",
              "      <td>...</td>\n",
              "      <td>...</td>\n",
              "      <td>...</td>\n",
              "      <td>...</td>\n",
              "      <td>...</td>\n",
              "      <td>...</td>\n",
              "    </tr>\n",
              "    <tr>\n",
              "      <th>95</th>\n",
              "      <td>sn85066408_1903-08-05_ed-1_seq-1_ocr.txt</td>\n",
              "      <td>0.280612</td>\n",
              "      <td>0.471422</td>\n",
              "      <td>0.0662954</td>\n",
              "      <td>0.0526218</td>\n",
              "      <td>0.0611473</td>\n",
              "      <td>0.0679019</td>\n",
              "    </tr>\n",
              "    <tr>\n",
              "      <th>96</th>\n",
              "      <td>sn85066408_1903-08-06_ed-1_seq-1_ocr.txt</td>\n",
              "      <td>0.185934</td>\n",
              "      <td>0.235344</td>\n",
              "      <td>0.0468113</td>\n",
              "      <td>0.137529</td>\n",
              "      <td>0.173382</td>\n",
              "      <td>0.221</td>\n",
              "    </tr>\n",
              "    <tr>\n",
              "      <th>97</th>\n",
              "      <td>sn85066408_1903-08-07_ed-1_seq-1_ocr.txt</td>\n",
              "      <td>0.322557</td>\n",
              "      <td>0.271309</td>\n",
              "      <td>0.0796197</td>\n",
              "      <td>0.169776</td>\n",
              "      <td>0.0806498</td>\n",
              "      <td>0.0760887</td>\n",
              "    </tr>\n",
              "    <tr>\n",
              "      <th>98</th>\n",
              "      <td>2012271201_1903-08-08_ed-1_seq-1_ocr.txt</td>\n",
              "      <td>0.0401617</td>\n",
              "      <td>0.0441725</td>\n",
              "      <td>0.715951</td>\n",
              "      <td>0.102523</td>\n",
              "      <td>0.0514279</td>\n",
              "      <td>0.0457643</td>\n",
              "    </tr>\n",
              "    <tr>\n",
              "      <th>99</th>\n",
              "      <td>sn85066408_1903-08-08_ed-1_seq-1_ocr.txt</td>\n",
              "      <td>0.2005</td>\n",
              "      <td>0.174608</td>\n",
              "      <td>0.0832407</td>\n",
              "      <td>0.0660883</td>\n",
              "      <td>0.353739</td>\n",
              "      <td>0.121824</td>\n",
              "    </tr>\n",
              "  </tbody>\n",
              "</table>\n",
              "<p>100 rows × 7 columns</p>\n",
              "</div>"
            ],
            "text/plain": [
              "                               document_path     topic0  ...     topic4     topic5\n",
              "0   sn85066408_1903-04-27_ed-1_seq-1_ocr.txt   0.231498  ...   0.251138   0.226609\n",
              "1   sn85066408_1903-04-28_ed-1_seq-1_ocr.txt   0.170117  ...   0.334495   0.172449\n",
              "2   sn85066408_1903-04-29_ed-1_seq-1_ocr.txt   0.262384  ...   0.266629   0.122754\n",
              "3   sn85066408_1903-04-30_ed-1_seq-1_ocr.txt   0.348604  ...   0.295551   0.153105\n",
              "4   sn85066408_1903-05-01_ed-1_seq-1_ocr.txt   0.171465  ...   0.295513  0.0316928\n",
              "..                                       ...        ...  ...        ...        ...\n",
              "95  sn85066408_1903-08-05_ed-1_seq-1_ocr.txt   0.280612  ...  0.0611473  0.0679019\n",
              "96  sn85066408_1903-08-06_ed-1_seq-1_ocr.txt   0.185934  ...   0.173382      0.221\n",
              "97  sn85066408_1903-08-07_ed-1_seq-1_ocr.txt   0.322557  ...  0.0806498  0.0760887\n",
              "98  2012271201_1903-08-08_ed-1_seq-1_ocr.txt  0.0401617  ...  0.0514279  0.0457643\n",
              "99  sn85066408_1903-08-08_ed-1_seq-1_ocr.txt     0.2005  ...   0.353739   0.121824\n",
              "\n",
              "[100 rows x 7 columns]"
            ]
          },
          "metadata": {
            "tags": []
          },
          "execution_count": 68
        }
      ]
    },
    {
      "cell_type": "markdown",
      "metadata": {
        "id": "O_2y12da6ern",
        "colab_type": "text"
      },
      "source": [
        "### 3.2.2. Distribution per topic for the whole corpus"
      ]
    },
    {
      "cell_type": "code",
      "metadata": {
        "id": "BwSx7UwG6keD",
        "colab_type": "code",
        "outputId": "854c8b07-be9c-4706-b609-28571e26b15e",
        "colab": {
          "base_uri": "https://localhost:8080/",
          "height": 241
        }
      },
      "source": [
        "topics = []\n",
        "topic_weights = []\n",
        "for i in range(len(distribution_mallet.columns)-1):\n",
        "  topic_weight = round(sum(distribution_mallet.iloc[:,i+1]),2)\n",
        "  topic_weights.append(topic_weight)\n",
        "  print( f'topic {i}: {topic_weight}%' )\n",
        "  topic = ldamallet_to_gensim.print_topics()[i][1]\n",
        "  topics.append(i)\n",
        "  print( f'terms: {topic} ')"
      ],
      "execution_count": 69,
      "outputs": [
        {
          "output_type": "stream",
          "text": [
            "topic 0: 20.56%\n",
            "terms: 0.000*\"lefonica\" + 0.000*\"consigliera\" + 0.000*\"identità\" + 0.000*\"prln\" + 0.000*\"bhrlino\" + 0.000*\"derrata\" + 0.000*\"cecancelllere\" + 0.000*\"obrenovlch\" + 0.000*\"nito\" + 0.000*\"varcare\" \n",
            "topic 1: 13.04%\n",
            "terms: 0.000*\"termediatl\" + 0.000*\"glietti\" + 0.000*\"grandinare\" + 0.000*\"maremm\" + 0.000*\"difficilmente\" + 0.000*\"continuato\" + 0.000*\"porgervi\" + 0.000*\"ovvio\" + 0.000*\"barbabietola\" + 0.000*\"coraggio\" \n",
            "topic 2: 14.4%\n",
            "terms: 0.000*\"petè\" + 0.000*\"itrlllat\" + 0.000*\"reatty\" + 0.000*\"schierala\" + 0.000*\"arrestarsi\" + 0.000*\"francobollo\" + 0.000*\"irrito\" + 0.000*\"lungi\" + 0.000*\"triplice\" + 0.000*\"indeterminato\" \n",
            "topic 3: 14.3%\n",
            "terms: 0.000*\"analisi\" + 0.000*\"cornicino\" + 0.000*\"mindanao\" + 0.000*\"alutantiile\" + 0.000*\"parlftc\" + 0.000*\"quay\" + 0.000*\"gantemente\" + 0.000*\"promul\" + 0.000*\"furo7io\" + 0.000*\"nauseare\" \n",
            "topic 4: 20.49%\n",
            "terms: 0.000*\"chetti\" + 0.000*\"herald\" + 0.000*\"vistili\" + 0.000*\"albani\" + 0.000*\"tiro\" + 0.000*\"budapm8\" + 0.000*\"rini\" + 0.000*\"vendramtnl\" + 0.000*\"pomeriggio\" + 0.000*\"spaventevole\" \n",
            "topic 5: 17.21%\n",
            "terms: 0.000*\"osser\" + 0.000*\"affollato\" + 0.000*\"esecrizloae\" + 0.000*\"proprietà\" + 0.000*\"maragllano\" + 0.000*\"smentita\" + 0.000*\"cute\" + 0.000*\"mutuatario\" + 0.000*\"1970\" + 0.000*\"htuoimo\" \n"
          ],
          "name": "stdout"
        }
      ]
    },
    {
      "cell_type": "code",
      "metadata": {
        "id": "SXpxq43d64Q1",
        "colab_type": "code",
        "colab": {}
      },
      "source": [
        "distribution_df_mallet = pd.DataFrame(topic_weights, columns=['weight'])"
      ],
      "execution_count": 0,
      "outputs": []
    },
    {
      "cell_type": "code",
      "metadata": {
        "id": "R2BbSXPL7neM",
        "colab_type": "code",
        "colab": {}
      },
      "source": [
        "distribution_df_mallet['topics'] = topics"
      ],
      "execution_count": 0,
      "outputs": []
    },
    {
      "cell_type": "code",
      "metadata": {
        "id": "p1TGnYsC7tmJ",
        "colab_type": "code",
        "colab": {}
      },
      "source": [
        "distribution_df_mallet['topics'] = distribution_df_mallet['topics'].apply(lambda x: f'topic {x}')"
      ],
      "execution_count": 0,
      "outputs": []
    },
    {
      "cell_type": "code",
      "metadata": {
        "id": "t5iY_zGC71m2",
        "colab_type": "code",
        "colab": {}
      },
      "source": [
        "distribution_df_mallet = distribution_df_mallet.sort_values(by=['weight'])"
      ],
      "execution_count": 0,
      "outputs": []
    },
    {
      "cell_type": "code",
      "metadata": {
        "id": "fQKghPGT78Uz",
        "colab_type": "code",
        "outputId": "3fe1a37e-b0cc-454a-f122-44d56b01576b",
        "colab": {
          "base_uri": "https://localhost:8080/",
          "height": 466
        }
      },
      "source": [
        "plt.rcdefaults()\n",
        "fig, ax = plt.subplots()\n",
        "ax.barh(distribution_df_mallet['topics'], distribution_df_mallet['weight'], align='center')\n",
        "ax.set_xlabel('Weight (%)')"
      ],
      "execution_count": 74,
      "outputs": [
        {
          "output_type": "execute_result",
          "data": {
            "text/plain": [
              "Text(0.5, 0, 'Weight (%)')"
            ]
          },
          "metadata": {
            "tags": []
          },
          "execution_count": 74
        },
        {
          "output_type": "display_data",
          "data": {
            "image/png": "[encoded data removed]",
            "text/plain": [
              "<Figure size 640x480 with 1 Axes>"
            ]
          },
          "metadata": {
            "tags": []
          }
        }
      ]
    },
    {
      "cell_type": "markdown",
      "metadata": {
        "id": "-VxrV7VlMnC-",
        "colab_type": "text"
      },
      "source": [
        "# Topics weight over time"
      ]
    },
    {
      "cell_type": "markdown",
      "metadata": {
        "id": "dRMKU0HeNHW-",
        "colab_type": "text"
      },
      "source": [
        "## 4.1 Aggregate document weights"
      ]
    },
    {
      "cell_type": "code",
      "metadata": {
        "id": "Q6Jux73gNQT2",
        "colab_type": "code",
        "colab": {}
      },
      "source": [
        "# The goal is to be able to group the data per month"
      ],
      "execution_count": 0,
      "outputs": []
    },
    {
      "cell_type": "code",
      "metadata": {
        "id": "Y4ZElg6PQMgg",
        "colab_type": "code",
        "colab": {}
      },
      "source": [
        "import re"
      ],
      "execution_count": 0,
      "outputs": []
    },
    {
      "cell_type": "code",
      "metadata": {
        "id": "yU_H1RZPOhrf",
        "colab_type": "code",
        "colab": {}
      },
      "source": [
        "# function to retrieve date from file name\n",
        "def get_date(file):\n",
        "  date_match = re.findall(r'_(\\d{4}-\\d{2}-\\d{2})_',file)\n",
        "  return date_match[0]\n",
        "\n",
        "# function to retrieve year from file name\n",
        "def get_year(file):\n",
        "  year_match = re.findall(r'_(\\d{4})-\\d{2}-\\d{2}_',file)\n",
        "  return year_match[0]\n",
        "\n",
        "# function to retrieve month from file name\n",
        "def get_month(file):\n",
        "  month_match = re.findall(r'_\\d{4}-(\\d{2})-\\d{2}_',file)\n",
        "  return month_match[0]"
      ],
      "execution_count": 0,
      "outputs": []
    },
    {
      "cell_type": "code",
      "metadata": {
        "id": "0xlVn3ftNw_W",
        "colab_type": "code",
        "colab": {}
      },
      "source": [
        "distribution_gensim['date'] = distribution_gensim['document_path'].apply(lambda x: get_date(x))\n",
        "distribution_gensim['year'] = distribution_gensim['document_path'].apply(lambda x: get_year(x))\n",
        "distribution_gensim['month'] = distribution_gensim['document_path'].apply(lambda x: get_month(x))"
      ],
      "execution_count": 0,
      "outputs": []
    },
    {
      "cell_type": "code",
      "metadata": {
        "id": "PUK2_xP_Mc7N",
        "colab_type": "code",
        "colab": {}
      },
      "source": [
        "gensim_groupby = distribution_gensim.copy()"
      ],
      "execution_count": 0,
      "outputs": []
    },
    {
      "cell_type": "code",
      "metadata": {
        "id": "LWdcFIJBMjgq",
        "colab_type": "code",
        "colab": {}
      },
      "source": [
        "# drop columns that won't be needed at this stage\n",
        "gensim_groupby = gensim_groupby.drop(['document_path', 'date'], axis=1)"
      ],
      "execution_count": 0,
      "outputs": []
    },
    {
      "cell_type": "code",
      "metadata": {
        "id": "3qebDNKXoV7L",
        "colab_type": "code",
        "colab": {}
      },
      "source": [
        "# group by year and month \n",
        "distribution_month = gensim_groupby.groupby(['year','month']).sum().reset_index()"
      ],
      "execution_count": 0,
      "outputs": []
    },
    {
      "cell_type": "code",
      "metadata": {
        "id": "u43koiEAQUew",
        "colab_type": "code",
        "outputId": "b0f16cd9-cc70-4ed3-a8fc-dcc0fdfba3b0",
        "colab": {
          "base_uri": "https://localhost:8080/",
          "height": 204
        }
      },
      "source": [
        "distribution_month"
      ],
      "execution_count": 82,
      "outputs": [
        {
          "output_type": "execute_result",
          "data": {
            "text/html": [
              "<div>\n",
              "<style scoped>\n",
              "    .dataframe tbody tr th:only-of-type {\n",
              "        vertical-align: middle;\n",
              "    }\n",
              "\n",
              "    .dataframe tbody tr th {\n",
              "        vertical-align: top;\n",
              "    }\n",
              "\n",
              "    .dataframe thead th {\n",
              "        text-align: right;\n",
              "    }\n",
              "</style>\n",
              "<table border=\"1\" class=\"dataframe\">\n",
              "  <thead>\n",
              "    <tr style=\"text-align: right;\">\n",
              "      <th></th>\n",
              "      <th>year</th>\n",
              "      <th>month</th>\n",
              "      <th>topic0</th>\n",
              "      <th>topic1</th>\n",
              "      <th>topic2</th>\n",
              "      <th>topic3</th>\n",
              "      <th>topic4</th>\n",
              "      <th>topic5</th>\n",
              "    </tr>\n",
              "  </thead>\n",
              "  <tbody>\n",
              "    <tr>\n",
              "      <th>0</th>\n",
              "      <td>1903</td>\n",
              "      <td>04</td>\n",
              "      <td>1.814085</td>\n",
              "      <td>0.002722</td>\n",
              "      <td>0.018676</td>\n",
              "      <td>0.082127</td>\n",
              "      <td>0.004328</td>\n",
              "      <td>2.078062</td>\n",
              "    </tr>\n",
              "    <tr>\n",
              "      <th>1</th>\n",
              "      <td>1903</td>\n",
              "      <td>05</td>\n",
              "      <td>8.405633</td>\n",
              "      <td>1.210830</td>\n",
              "      <td>2.048485</td>\n",
              "      <td>4.514570</td>\n",
              "      <td>1.008324</td>\n",
              "      <td>8.812160</td>\n",
              "    </tr>\n",
              "    <tr>\n",
              "      <th>2</th>\n",
              "      <td>1903</td>\n",
              "      <td>06</td>\n",
              "      <td>4.294504</td>\n",
              "      <td>1.799166</td>\n",
              "      <td>3.986612</td>\n",
              "      <td>8.112861</td>\n",
              "      <td>3.056680</td>\n",
              "      <td>8.750177</td>\n",
              "    </tr>\n",
              "    <tr>\n",
              "      <th>3</th>\n",
              "      <td>1903</td>\n",
              "      <td>07</td>\n",
              "      <td>5.021850</td>\n",
              "      <td>2.584730</td>\n",
              "      <td>1.566990</td>\n",
              "      <td>10.334144</td>\n",
              "      <td>8.640385</td>\n",
              "      <td>2.851901</td>\n",
              "    </tr>\n",
              "    <tr>\n",
              "      <th>4</th>\n",
              "      <td>1903</td>\n",
              "      <td>08</td>\n",
              "      <td>0.287317</td>\n",
              "      <td>0.047695</td>\n",
              "      <td>1.013576</td>\n",
              "      <td>3.603401</td>\n",
              "      <td>1.697857</td>\n",
              "      <td>2.350154</td>\n",
              "    </tr>\n",
              "  </tbody>\n",
              "</table>\n",
              "</div>"
            ],
            "text/plain": [
              "   year month    topic0    topic1    topic2     topic3    topic4    topic5\n",
              "0  1903    04  1.814085  0.002722  0.018676   0.082127  0.004328  2.078062\n",
              "1  1903    05  8.405633  1.210830  2.048485   4.514570  1.008324  8.812160\n",
              "2  1903    06  4.294504  1.799166  3.986612   8.112861  3.056680  8.750177\n",
              "3  1903    07  5.021850  2.584730  1.566990  10.334144  8.640385  2.851901\n",
              "4  1903    08  0.287317  0.047695  1.013576   3.603401  1.697857  2.350154"
            ]
          },
          "metadata": {
            "tags": []
          },
          "execution_count": 82
        }
      ]
    },
    {
      "cell_type": "code",
      "metadata": {
        "id": "mOHunkpFQ8z0",
        "colab_type": "code",
        "colab": {}
      },
      "source": [
        "dates = []\n",
        "for i in range(len(distribution_month)):\n",
        "  year = distribution_month['year'][i]\n",
        "  month = distribution_month['month'][i]\n",
        "  dates.append(f'{month}/{year}')"
      ],
      "execution_count": 0,
      "outputs": []
    },
    {
      "cell_type": "code",
      "metadata": {
        "id": "5a6-8y7gSs2X",
        "colab_type": "code",
        "outputId": "dc7290f8-9fa8-4d5d-8f2c-79f350567f1f",
        "colab": {
          "base_uri": "https://localhost:8080/",
          "height": 447
        }
      },
      "source": [
        "# quick first overview\n",
        "plt.plot(dates, distribution_month['topic0'], label=\"Topic 0\")\n",
        "plt.plot(dates, distribution_month['topic1'], label=\"Topic 1\")\n",
        "plt.plot(dates, distribution_month['topic2'], label=\"Topic 2\")\n",
        "plt.plot(dates, distribution_month['topic3'], label=\"Topic 3\")\n",
        "plt.plot(dates, distribution_month['topic4'], label=\"Topic 4\")\n",
        "plt.plot(dates, distribution_month['topic5'], label=\"Topic 5\")\n",
        "plt.legend()"
      ],
      "execution_count": 84,
      "outputs": [
        {
          "output_type": "execute_result",
          "data": {
            "text/plain": [
              "<matplotlib.legend.Legend at 0x7f8cebb3f0b8>"
            ]
          },
          "metadata": {
            "tags": []
          },
          "execution_count": 84
        },
        {
          "output_type": "display_data",
          "data": {
            "image/png": "[encoded data removed]",
            "text/plain": [
              "<Figure size 640x480 with 1 Axes>"
            ]
          },
          "metadata": {
            "tags": []
          }
        }
      ]
    },
    {
      "cell_type": "markdown",
      "metadata": {
        "id": "aLQSDPuCM-cd",
        "colab_type": "text"
      },
      "source": [
        "## 4.2. Gensim\n",
        "\n"
      ]
    },
    {
      "cell_type": "code",
      "metadata": {
        "id": "AIEsK52cM2_6",
        "colab_type": "code",
        "colab": {}
      },
      "source": [
        ""
      ],
      "execution_count": 0,
      "outputs": []
    },
    {
      "cell_type": "code",
      "metadata": {
        "id": "DCfgi2ZMM82u",
        "colab_type": "code",
        "colab": {}
      },
      "source": [
        ""
      ],
      "execution_count": 0,
      "outputs": []
    }
  ]
}
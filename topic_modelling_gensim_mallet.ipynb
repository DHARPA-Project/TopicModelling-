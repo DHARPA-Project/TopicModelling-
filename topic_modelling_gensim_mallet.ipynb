{
  "nbformat": 4,
  "nbformat_minor": 0,
  "metadata": {
    "colab": {
      "name": "topic_modelling_gensim_mallet.ipynb",
      "provenance": [],
      "collapsed_sections": [],
      "toc_visible": true
    },
    "kernelspec": {
      "name": "python3",
      "display_name": "Python 3"
    }
  },
  "cells": [
    {
      "cell_type": "code",
      "metadata": {
        "id": "7FwlEnNvQJNG",
        "colab_type": "code",
        "colab": {}
      },
      "source": [
        "import json\n",
        "import requests\n",
        "import urllib"
      ],
      "execution_count": 0,
      "outputs": []
    },
    {
      "cell_type": "markdown",
      "metadata": {
        "id": "6AZPes5RSYG2",
        "colab_type": "text"
      },
      "source": [
        "# 0. Preliminary step to get sample data\n",
        "\n"
      ]
    },
    {
      "cell_type": "markdown",
      "metadata": {
        "id": "WaRiBwgFTg2p",
        "colab_type": "text"
      },
      "source": [
        "This preliminary step is reproducing Lorella's workflow Python file:\n",
        "https://i-lab.public.data.uu.nl/vault-ocex/ChroniclItaly%20-%20Italian%20American%20newspapers%20corpus%20from%201898%20to%201920%5B1529330521%5D/original/\n",
        "I just added a folder \"data_1\" to keep all files in one folder"
      ]
    },
    {
      "cell_type": "code",
      "metadata": {
        "id": "VK81EVJim0Jc",
        "colab_type": "code",
        "colab": {}
      },
      "source": [
        "mkdir 'data1'"
      ],
      "execution_count": 0,
      "outputs": []
    },
    {
      "cell_type": "code",
      "metadata": {
        "id": "9O_c4pYzXsP_",
        "colab_type": "code",
        "colab": {}
      },
      "source": [
        "# Base URL\n",
        "chronam = 'https://chroniclingamerica.loc.gov/'\n",
        "\n",
        "# Chronicling America search results\n",
        "results = 'https://chroniclingamerica.loc.gov/search/pages/results/?date1=1880&date2=1920&searchType=advanced&language=ita&sequence=1&lccn=2012271201&lccn=sn85066408&lccn=sn85055164&lccn=sn85054967&lccn=sn88064299&lccn=sn84037024&lccn=sn84037025&lccn=sn86092310&proxdistance=5&state=California&state=District+of+Columbia&state=Massachusetts&state=Pennsylvania&state=Piedmont&state=Vermont&state=West+Virginia&rows=100&ortext=&proxtext=&phrasetext=&andtext=&dateFilterType=yearRange&page=11&sort=date'\n",
        "\n",
        "# Count to keep track of downloaded files\n",
        "count = 0\n",
        "\n",
        "# Gets search results in JSON format\n",
        "results_json = results + '&format=json'\n"
      ],
      "execution_count": 0,
      "outputs": []
    },
    {
      "cell_type": "code",
      "metadata": {
        "id": "DQwqRYbydrq4",
        "colab_type": "code",
        "colab": {}
      },
      "source": [
        "# Returns JSON \n",
        "def get_json(url):\n",
        "    data = requests.get(url)\n",
        "    return(json.loads(data.content))\n",
        "    \n",
        "data = get_json(results_json)"
      ],
      "execution_count": 0,
      "outputs": []
    },
    {
      "cell_type": "code",
      "metadata": {
        "id": "Xjv32dwDndnw",
        "colab_type": "code",
        "colab": {}
      },
      "source": [
        "files_list = []\n",
        "# Cycle through JSON results\n",
        "for page in data['items']:\n",
        "    # Create URL\n",
        "    hit = str(page['id'])\n",
        "    seed = hit + 'ocr.txt'\n",
        "    download_url = chronam + seed\n",
        " \n",
        "    # Create file name\n",
        "    file_name = download_url.replace('/', '_')\n",
        "    files_list.append(file_name[41:])\n",
        "    file_name = 'data1/' + file_name[41:]\n",
        "\n",
        "    # Download .txt of the page\n",
        "    urllib.request.urlretrieve(download_url, str(file_name))\n",
        "    count += 1"
      ],
      "execution_count": 0,
      "outputs": []
    },
    {
      "cell_type": "markdown",
      "metadata": {
        "id": "AUvuIpuzT8ke",
        "colab_type": "text"
      },
      "source": [
        "# 1. Data preparation"
      ]
    },
    {
      "cell_type": "markdown",
      "metadata": {
        "id": "MTOrDXSYUIc3",
        "colab_type": "text"
      },
      "source": [
        "## 1.1. Creating data frame\n",
        "A dataframe is first created to keep the documents at their initial state, and the name of each file"
      ]
    },
    {
      "cell_type": "code",
      "metadata": {
        "id": "u857KfY9WXN_",
        "colab_type": "code",
        "colab": {}
      },
      "source": [
        "import os\n",
        "import pandas as pd"
      ],
      "execution_count": 0,
      "outputs": []
    },
    {
      "cell_type": "code",
      "metadata": {
        "id": "8lLD0OpiXv5Y",
        "colab_type": "code",
        "colab": {}
      },
      "source": [
        "#insert file names into a df\n",
        "sources = pd.DataFrame(files_list, columns=['file_name'])"
      ],
      "execution_count": 0,
      "outputs": []
    },
    {
      "cell_type": "code",
      "metadata": {
        "id": "0PgOwPnqCfAe",
        "colab_type": "code",
        "colab": {}
      },
      "source": [
        "#function to read the content of the text files\n",
        "def readTxtContent(fileName):\n",
        "  with open('data1/' + fileName, 'r') as file:\n",
        "    return ' ' + file.read().replace('\\n', ' ') + ' '"
      ],
      "execution_count": 0,
      "outputs": []
    },
    {
      "cell_type": "code",
      "metadata": {
        "id": "MZEVIKHziQv2",
        "colab_type": "code",
        "colab": {}
      },
      "source": [
        "# adding a column to the dataframe containing file content\n",
        "sources['file_content'] = sources['file_name'].apply(lambda x: readTxtContent(x))"
      ],
      "execution_count": 0,
      "outputs": []
    },
    {
      "cell_type": "code",
      "metadata": {
        "id": "5AbjD_hb9SQw",
        "colab_type": "code",
        "colab": {}
      },
      "source": [
        "# variable containing the documents separately\n",
        "corpus = sources['file_content']"
      ],
      "execution_count": 0,
      "outputs": []
    },
    {
      "cell_type": "code",
      "metadata": {
        "id": "4ffdAsOXQSBe",
        "colab_type": "code",
        "colab": {}
      },
      "source": [
        "# the 2 cells below shouldn't be useful anymore\n",
        "# for verification purposes later, count the nr of characters for each content\n",
        "#sources['file_len'] = sources['file_content'].apply(lambda x: len(x))\n",
        "#sources['file_len'].sum()"
      ],
      "execution_count": 0,
      "outputs": []
    },
    {
      "cell_type": "code",
      "metadata": {
        "id": "QYRvEvHbK32i",
        "colab_type": "code",
        "colab": {}
      },
      "source": [
        "\n",
        "# variable containing all documents together\n",
        "#all_texts = ''\n",
        "#for i in range(len(sources)):\n",
        "#all_texts += sources['file_content'][i]\n",
        "# check length\n",
        "#len(all_texts)"
      ],
      "execution_count": 0,
      "outputs": []
    },
    {
      "cell_type": "markdown",
      "metadata": {
        "id": "ybCetXHi9m-y",
        "colab_type": "text"
      },
      "source": [
        "## 1.2 Removing stop words, punctuation, short words"
      ]
    },
    {
      "cell_type": "code",
      "metadata": {
        "id": "6e-8sf7RayKz",
        "colab_type": "code",
        "colab": {}
      },
      "source": [
        "%%capture\n",
        "import nltk\n",
        "nltk.download('punkt')\n",
        "nltk.download('stopwords')\n",
        "from nltk.corpus import stopwords\n",
        "from nltk.tokenize import word_tokenize"
      ],
      "execution_count": 0,
      "outputs": []
    },
    {
      "cell_type": "code",
      "metadata": {
        "id": "a1MbU3_seOtJ",
        "colab_type": "code",
        "colab": {}
      },
      "source": [
        "# add tokenized documents in dataframe\n",
        "sources['tokens'] = sources['file_content'].apply(lambda x: nltk.word_tokenize(x))"
      ],
      "execution_count": 0,
      "outputs": []
    },
    {
      "cell_type": "code",
      "metadata": {
        "id": "vh3ikvdKfQ60",
        "colab_type": "code",
        "colab": {}
      },
      "source": [
        "# possible user options:\n",
        "# .isalnum() to removes tokens that include numbers\n",
        "# .isalpha() to removes all tokens that contain more than letters (punctuation and numbers)\n",
        "# .isdecimal() to remove tokens that contain only decimals\n",
        "# .isdigit() to remove tokens that contain only digits\n",
        "\n",
        "# add new column in df with processed tokens (here: keeping only alpha tokens longer than 3 characters + lowercasing)\n",
        "sources['doc_prep'] = sources['tokens'].apply(lambda x: [w.lower() for w in x if (w.isalpha() and len(w) > 3 )])"
      ],
      "execution_count": 0,
      "outputs": []
    },
    {
      "cell_type": "code",
      "metadata": {
        "id": "J-l00vPyShTM",
        "colab_type": "code",
        "colab": {}
      },
      "source": [
        "from nltk.corpus import stopwords\n",
        "ital_stopwords = stopwords.words('italian')"
      ],
      "execution_count": 0,
      "outputs": []
    },
    {
      "cell_type": "code",
      "metadata": {
        "id": "3IrR5gbba5ho",
        "colab_type": "code",
        "colab": {}
      },
      "source": [
        "# to append list of words added by user: ital_stopwords.extend(user_input)\n",
        "# to remove words: ital_stopwords.remove(user_input)"
      ],
      "execution_count": 0,
      "outputs": []
    },
    {
      "cell_type": "code",
      "metadata": {
        "id": "8Qw4i2O_CTdQ",
        "colab_type": "code",
        "colab": {}
      },
      "source": [
        "# spacy list of Stop words (seems to be more complete than NLTK)\n",
        "# import spacy\n",
        "# from spacy.lang.it.stop_words import STOP_WORDS\n",
        "# spacy_it_sw = STOP_WORDS"
      ],
      "execution_count": 0,
      "outputs": []
    },
    {
      "cell_type": "code",
      "metadata": {
        "id": "5SBUnxlpCxEa",
        "colab_type": "code",
        "colab": {}
      },
      "source": [
        "# add column with tokenized documents without sw\n",
        "sources['doc_prep_nostop'] = sources['doc_prep'].apply(lambda x: [w for w in x if not w in ital_stopwords])"
      ],
      "execution_count": 0,
      "outputs": []
    },
    {
      "cell_type": "markdown",
      "metadata": {
        "id": "hKs7aXWLbVWo",
        "colab_type": "text"
      },
      "source": [
        "## 1.3 Stem"
      ]
    },
    {
      "cell_type": "code",
      "metadata": {
        "id": "uyl0C-xkbLiB",
        "colab_type": "code",
        "colab": {}
      },
      "source": [
        "from nltk.stem.snowball import SnowballStemmer"
      ],
      "execution_count": 0,
      "outputs": []
    },
    {
      "cell_type": "code",
      "metadata": {
        "id": "euUXP7UHbaN-",
        "colab_type": "code",
        "colab": {}
      },
      "source": [
        "#initialize with needed language\n",
        "stemmer = SnowballStemmer(\"italian\")"
      ],
      "execution_count": 0,
      "outputs": []
    },
    {
      "cell_type": "code",
      "metadata": {
        "id": "CljkLrRmjaot",
        "colab_type": "code",
        "colab": {}
      },
      "source": [
        "# add column with stemmed tokens\n",
        "sources['doc_stemmed'] = sources['doc_prep_nostop'].apply(lambda x: [stemmer.stem(w) for w in x])"
      ],
      "execution_count": 0,
      "outputs": []
    },
    {
      "cell_type": "markdown",
      "metadata": {
        "id": "YHKQAqemcgYz",
        "colab_type": "text"
      },
      "source": [
        "## 1.4 Lemmatize"
      ]
    },
    {
      "cell_type": "code",
      "metadata": {
        "id": "Ob8M804chYgh",
        "colab_type": "code",
        "colab": {}
      },
      "source": [
        "# Lemmatization is available in multiple languages in Spacy and not in NLTK (only English)\n",
        "# With Spacy, lemmatization is available for 10 languages. There's also a multi-language option that\n",
        "# should be tested if additional languages are needed"
      ],
      "execution_count": 0,
      "outputs": []
    },
    {
      "cell_type": "code",
      "metadata": {
        "id": "2QAPblFUwf3F",
        "colab_type": "code",
        "colab": {}
      },
      "source": [
        "%%capture\n",
        "!python -m spacy download it_core_news_sm"
      ],
      "execution_count": 0,
      "outputs": []
    },
    {
      "cell_type": "code",
      "metadata": {
        "id": "8al8riPXA98n",
        "colab_type": "code",
        "colab": {}
      },
      "source": [
        "import it_core_news_sm\n",
        "it_nlp = it_core_news_sm.load(disable=['tagger', 'parser', 'ner'])"
      ],
      "execution_count": 0,
      "outputs": []
    },
    {
      "cell_type": "code",
      "metadata": {
        "id": "YZHdI_8tmv3y",
        "colab_type": "code",
        "colab": {}
      },
      "source": [
        "# lemmatization function\n",
        "def lemmatize(doc):\n",
        "  lemmatized_doc = []\n",
        "  for w in doc:\n",
        "    w_lemma = [token.lemma_ for token in it_nlp(w)]\n",
        "    lemmatized_doc.append(w_lemma[0])\n",
        "  return lemmatized_doc"
      ],
      "execution_count": 0,
      "outputs": []
    },
    {
      "cell_type": "code",
      "metadata": {
        "id": "k-mYWKgSk9CW",
        "colab_type": "code",
        "colab": {}
      },
      "source": [
        "# add column with lemmatized tokens\n",
        "sources['doc_lemmatized'] = sources['doc_prep_nostop'].apply(lambda x: lemmatize(x))"
      ],
      "execution_count": 0,
      "outputs": []
    },
    {
      "cell_type": "code",
      "metadata": {
        "id": "tvl0MO_FH5yH",
        "colab_type": "code",
        "colab": {}
      },
      "source": [
        "# variable with lemmatized tokens\n",
        "lemmatized_corpus = sources['doc_lemmatized']"
      ],
      "execution_count": 0,
      "outputs": []
    },
    {
      "cell_type": "markdown",
      "metadata": {
        "id": "o8TRLnFPK6p4",
        "colab_type": "text"
      },
      "source": [
        "# 2. Topics with LDA"
      ]
    },
    {
      "cell_type": "code",
      "metadata": {
        "id": "N0NrktL1el7E",
        "colab_type": "code",
        "colab": {}
      },
      "source": [
        "%%capture\n",
        "# installation setup that works for Mallet: https://github.com/polsci/colab-gensim-mallet/blob/master/topic-modeling-with-colab-gensim-mallet.ipynb\n",
        "def install_java():\n",
        "  !apt-get install -y openjdk-8-jdk-headless -qq > /dev/null      #install openjdk\n",
        "  os.environ[\"JAVA_HOME\"] = \"/usr/lib/jvm/java-8-openjdk-amd64\"     #set environment variable\n",
        "  !java -version       #check java version\n",
        "install_java()"
      ],
      "execution_count": 0,
      "outputs": []
    },
    {
      "cell_type": "code",
      "metadata": {
        "id": "IH7oPbxGe46O",
        "colab_type": "code",
        "colab": {}
      },
      "source": [
        "%%capture\n",
        "!wget http://mallet.cs.umass.edu/dist/mallet-2.0.8.zip\n",
        "!unzip mallet-2.0.8.zip"
      ],
      "execution_count": 0,
      "outputs": []
    },
    {
      "cell_type": "code",
      "metadata": {
        "id": "XD1MaCjRfKOs",
        "colab_type": "code",
        "colab": {}
      },
      "source": [
        "os.environ['MALLET_HOME'] = '/content/mallet-2.0.8'\n",
        "mallet_path = '/content/mallet-2.0.8/bin/mallet'"
      ],
      "execution_count": 0,
      "outputs": []
    },
    {
      "cell_type": "code",
      "metadata": {
        "id": "Fr1F0QNdOxy3",
        "colab_type": "code",
        "colab": {}
      },
      "source": [
        "#Gensim installation\n",
        "import gensim\n",
        "from gensim.test.utils import common_corpus, common_dictionary\n",
        "from gensim import corpora, models\n",
        "from gensim.models.wrappers import LdaMallet"
      ],
      "execution_count": 0,
      "outputs": []
    },
    {
      "cell_type": "markdown",
      "metadata": {
        "id": "530LX-OLRDcP",
        "colab_type": "text"
      },
      "source": [
        "## 2.1 Preliminary steps to run LDA\n",
        "\n"
      ]
    },
    {
      "cell_type": "markdown",
      "metadata": {
        "id": "GZlLjmvsQAMy",
        "colab_type": "text"
      },
      "source": [
        "### 2.1.1 Bag of words"
      ]
    },
    {
      "cell_type": "code",
      "metadata": {
        "id": "UzxS5Q3aQ7mh",
        "colab_type": "code",
        "colab": {}
      },
      "source": [
        "# dataset = [d.split() for d in lemmatized_corpus] (this is not useful if lemmatized version is used)\n",
        "# Create Dictionary\n",
        "# change \"lemmatized_corpus\" variable by stemmed_corpus or tokenized_corpus_without_sw depending\n",
        "# on which version you would like to work with \n",
        "id2word = corpora.Dictionary(lemmatized_corpus)\n",
        "corpus = [id2word.doc2bow(text) for text in lemmatized_corpus]"
      ],
      "execution_count": 0,
      "outputs": []
    },
    {
      "cell_type": "code",
      "metadata": {
        "id": "wvegwXHIWZN6",
        "colab_type": "code",
        "colab": {}
      },
      "source": [
        "# list of words and occurence per document\n",
        "words = []\n",
        "frequency = []\n",
        "\n",
        "for cp in corpus:\n",
        "  word_id = list(cp[0])[0]\n",
        "  words.append(id2word[list(cp[0])[0]])\n",
        "  frequency.append(list(cp[0])[1])"
      ],
      "execution_count": 0,
      "outputs": []
    },
    {
      "cell_type": "code",
      "metadata": {
        "id": "be9fXHn7Uqb6",
        "colab_type": "code",
        "colab": {}
      },
      "source": [
        "words_frequency = pd.DataFrame(list(zip(words, frequency)), columns=['word', 'frequency'])"
      ],
      "execution_count": 0,
      "outputs": []
    },
    {
      "cell_type": "code",
      "metadata": {
        "id": "m67ylcqwaQbd",
        "colab_type": "code",
        "colab": {}
      },
      "source": [
        "# sort descending\n",
        "# words_frequency.sort_values(by=['frequency'], ascending=False)[:10]"
      ],
      "execution_count": 0,
      "outputs": []
    },
    {
      "cell_type": "markdown",
      "metadata": {
        "id": "qadtU7aTQMqg",
        "colab_type": "text"
      },
      "source": [
        "## 2.2 LDA"
      ]
    },
    {
      "cell_type": "code",
      "metadata": {
        "id": "eLzvb_yC9nyo",
        "colab_type": "code",
        "colab": {}
      },
      "source": [
        "# set the number of topics here\n",
        "numtopics = 8"
      ],
      "execution_count": 0,
      "outputs": []
    },
    {
      "cell_type": "markdown",
      "metadata": {
        "id": "9u-BK_TCCRV1",
        "colab_type": "text"
      },
      "source": [
        "### 2.2.1 LDA with Gensim"
      ]
    },
    {
      "cell_type": "code",
      "metadata": {
        "id": "7ODvMbxSCQh_",
        "colab_type": "code",
        "colab": {}
      },
      "source": [
        "ldagensim = models.LdaModel(corpus, id2word=id2word, num_topics=numtopics)"
      ],
      "execution_count": 0,
      "outputs": []
    },
    {
      "cell_type": "code",
      "metadata": {
        "id": "FLfpXjulCcS4",
        "colab_type": "code",
        "outputId": "3f4a88aa-4201-4a50-e3b3-a13949a0d80a",
        "colab": {
          "base_uri": "https://localhost:8080/",
          "height": 309
        }
      },
      "source": [
        "ldagensim.print_topics()"
      ],
      "execution_count": 0,
      "outputs": [
        {
          "output_type": "execute_result",
          "data": {
            "text/plain": [
              "[(0,\n",
              "  '0.006*\"italiano\" + 0.004*\"stare\" + 0.004*\"italia\" + 0.003*\"anno\" + 0.003*\"cardinale\" + 0.003*\"tutto\" + 0.003*\"altro\" + 0.003*\"dispaccio\" + 0.003*\"roma\" + 0.003*\"dire\"'),\n",
              " (1,\n",
              "  '0.006*\"italiano\" + 0.003*\"roma\" + 0.003*\"stare\" + 0.003*\"dispaccio\" + 0.003*\"anno\" + 0.003*\"dire\" + 0.003*\"nuovo\" + 0.003*\"grande\" + 0.003*\"telegrafico\" + 0.003*\"italia\"'),\n",
              " (2,\n",
              "  '0.005*\"italiano\" + 0.004*\"stare\" + 0.004*\"fare\" + 0.004*\"altro\" + 0.003*\"primo\" + 0.003*\"italia\" + 0.003*\"nuovo\" + 0.003*\"roma\" + 0.003*\"potere\" + 0.003*\"tutto\"'),\n",
              " (3,\n",
              "  '0.009*\"italiano\" + 0.004*\"stare\" + 0.004*\"fare\" + 0.004*\"altro\" + 0.004*\"italia\" + 0.003*\"daily\" + 0.003*\"anno\" + 0.003*\"dispaccio\" + 0.003*\"roma\" + 0.003*\"potere\"'),\n",
              " (4,\n",
              "  '0.006*\"italiano\" + 0.005*\"stare\" + 0.004*\"altro\" + 0.003*\"dispaccio\" + 0.003*\"potere\" + 0.003*\"roma\" + 0.003*\"italia\" + 0.003*\"venire\" + 0.003*\"fare\" + 0.003*\"nuovo\"'),\n",
              " (5,\n",
              "  '0.008*\"italiano\" + 0.004*\"potere\" + 0.004*\"telegrafico\" + 0.003*\"italia\" + 0.003*\"dispaccio\" + 0.003*\"stare\" + 0.003*\"anno\" + 0.003*\"altro\" + 0.003*\"dire\" + 0.003*\"fare\"'),\n",
              " (6,\n",
              "  '0.008*\"italiano\" + 0.004*\"dispaccio\" + 0.004*\"italia\" + 0.003*\"fare\" + 0.003*\"anno\" + 0.003*\"roma\" + 0.003*\"stare\" + 0.003*\"potere\" + 0.003*\"nuovo\" + 0.003*\"dire\"'),\n",
              " (7,\n",
              "  '0.006*\"italiano\" + 0.004*\"fare\" + 0.003*\"italia\" + 0.003*\"dispaccio\" + 0.003*\"dire\" + 0.003*\"roma\" + 0.003*\"stare\" + 0.003*\"giorno\" + 0.003*\"potere\" + 0.003*\"tutto\"')]"
            ]
          },
          "metadata": {
            "tags": []
          },
          "execution_count": 32
        }
      ]
    },
    {
      "cell_type": "markdown",
      "metadata": {
        "id": "yVmCrU7WVznK",
        "colab_type": "text"
      },
      "source": [
        "### 2.2.2 Visualize topics"
      ]
    },
    {
      "cell_type": "code",
      "metadata": {
        "id": "zhUc_LurVxSw",
        "colab_type": "code",
        "colab": {}
      },
      "source": [
        "# pyLDAvis installation\n",
        "%%capture\n",
        "! pip install pyldavis\n",
        "import pyLDAvis\n",
        "import pyLDAvis.gensim"
      ],
      "execution_count": 0,
      "outputs": []
    },
    {
      "cell_type": "code",
      "metadata": {
        "id": "WWHil2-YV_OD",
        "colab_type": "code",
        "colab": {}
      },
      "source": [
        "# insert the model and number of topics you want to visualise\n",
        "# here LDA Gensim with 6 topics\n",
        "%%capture\n",
        "numtopics = 8\n",
        "selected_model = models.LdaModel(corpus, id2word=id2word, num_topics=numtopics)\n",
        "pyLDAvis.enable_notebook()\n",
        "vis = pyLDAvis.gensim.prepare(selected_model, corpus, id2word)"
      ],
      "execution_count": 0,
      "outputs": []
    },
    {
      "cell_type": "code",
      "metadata": {
        "id": "Rm7zmoHqcDto",
        "colab_type": "code",
        "outputId": "a7b8da35-3db5-473d-d329-e3a3070b2741",
        "colab": {
          "base_uri": "https://localhost:8080/",
          "height": 881
        }
      },
      "source": [
        "vis"
      ],
      "execution_count": 0,
      "outputs": [
        {
          "output_type": "execute_result",
          "data": {
            "text/html": [
              "\n",
              "<link rel=\"stylesheet\" type=\"text/css\" href=\"https://cdn.rawgit.com/bmabey/pyLDAvis/files/ldavis.v1.0.0.css\">\n",
              "\n",
              "\n",
              "<div id=\"ldavis_el1231402218762798407668716532\"></div>\n",
              "<script type=\"text/javascript\">\n",
              "\n",
              "var ldavis_el1231402218762798407668716532_data = {\"mdsDat\": {\"x\": [-0.0009200604541288207, -0.0020306662423592342, -0.0009312608693272177, -0.0025159752632130257, -0.001657634181731626, -0.00015025867664452054, 0.0013267993704961126, 0.006879056316908317], \"y\": [-0.005287945340472033, 4.124252326207564e-05, 0.0015060828594245508, 0.0029169743031878977, -0.0006918017240314292, 0.001954599116209291, -0.0011036957613876682, 0.000664544023807318], \"topics\": [1, 2, 3, 4, 5, 6, 7, 8], \"cluster\": [1, 1, 1, 1, 1, 1, 1, 1], \"Freq\": [25.000137329101562, 21.24383544921875, 17.79489517211914, 10.805663108825684, 9.264286994934082, 8.457165718078613, 4.886716842651367, 2.5472991466522217]}, \"tinfo\": {\"Term\": [\"italiano\", \"stare\", \"telegrafico\", \"altro\", \"anno\", \"fare\", \"grande\", \"tutto\", \"italia\", \"potere\", \"dispaccio\", \"roma\", \"nuovo\", \"cardinale\", \"molto\", \"primo\", \"daily\", \"giornale\", \"giorno\", \"partire\", \"venire\", \"ogni\", \"dire\", \"dovere\", \"dopo\", \"gran\", \"ministrare\", \"generale\", \"quale\", \"quello\", \"text\", \"available\", \"klscineff\", \"topo\", \"sinagoga\", \"docile\", \"saratoff\", \"sognatore\", \"parpagnoli\", \"qulx\", \"stificadone\", \"mowruoiiaar\", \"parziale\", \"avevrte\", \"ilol\", \"dhus\", \"difen\", \"stella\", \"scalzare\", \"tiimeja\", \"qiotiimano\", \"entente\", \"spostala\", \"assembramento\", \"tlantica\", \"scandalo\", \"fjnniit\\u00e0\", \"anelito\", \"riformista\", \"equani\", \"r\\u00e8clame\", \"rivoluzio\", \"morgan\", \"tornlelll\", \"cio\\u00e8\", \"fruttare\", \"grande\", \"interessare\", \"ribellione\", \"morale\", \"siasi\", \"dire\", \"azione\", \"rapportare\", \"ricorrere\", \"vero\", \"dispaccio\", \"recere\", \"tenero\", \"rivoluzionario\", \"dare\", \"primo\", \"pace\", \"fare\", \"anno\", \"costare\", \"restare\", \"russo\", \"secondare\", \"stato\", \"roma\", \"stare\", \"parigi\", \"morto\", \"dopo\", \"italiano\", \"giorno\", \"avere\", \"rimanere\", \"tutto\", \"nuovo\", \"poco\", \"vivo\", \"qualche\", \"cosa\", \"venire\", \"potere\", \"molto\", \"giornale\", \"dovere\", \"daily\", \"italia\", \"partire\", \"altro\", \"telegrafico\", \"governare\", \"oggi\", \"mentire\", \"egli\", \"hilml\", \"black\", \"porto\", \"salvatore\", \"gibbons\", \"domattina\", \"albergo\", \"vanmitelli\", \"giamenti\", \"provvisto\", \"noia\", \"perito\", \"kicheneff\", \"inaugurazione\", \"fulminato\", \"cordato\", \"ritrattazione\", \"allettare\", \"cortes\", \"significare\", \"cheyenne\", \"latino\", \"mantenere\", \"manifesto\", \"listare\", \"concetto\", \"mortalmente\", \"culminare\", \"moreno\", \"dlourdlnl\", \"esistere\", \"tato\", \"maest\\u00e0\", \"provinole\", \"sembrare\", \"studente\", \"mandare\", \"vita\", \"milano\", \"rapido\", \"papa\", \"modo\", \"capitale\", \"lettera\", \"mettere\", \"giornale\", \"italiano\", \"daily\", \"italia\", \"washington\", \"seguire\", \"essere\", \"quindi\", \"credere\", \"mentire\", \"stare\", \"quando\", \"leggere\", \"roma\", \"primo\", \"tutto\", \"senza\", \"venire\", \"oggi\", \"quotidiano\", \"volto\", \"fare\", \"largest\", \"americano\", \"anno\", \"paese\", \"altro\", \"potere\", \"dispaccio\", \"dire\", \"governare\", \"nuovo\", \"dovere\", \"cardinale\", \"telegrafico\", \"partire\", \"giorno\", \"molto\", \"grande\", \"dopo\", \"uoma\", \"trento\", \"williams\", \"grafo\", \"riverso\", \"creilo\", \"amnon\", \"istituzio\", \"telusa\", \"itogli\", \"pupazzo\", \"carino\", \"elisili\", \"rapiiortl\", \"iuliaoe\", \"diramare\", \"intrufolare\", \"conclavisti\", \"cereale\", \"deeks\", \"ebbene\", \"damascare\", \"gesuita\", \"ansioso\", \"imbandierala\", \"cubo\", \"prelato\", \"bkrna\", \"occuparsi\", \"propizio\", \"collegio\", \"illuminare\", \"follare\", \"intervistare\", \"viaggiare\", \"presentare\", \"mese\", \"preparare\", \"alto\", \"seguito\", \"stanza\", \"appuntire\", \"nuovo\", \"altro\", \"duellare\", \"andare\", \"molto\", \"estero\", \"cinque\", \"papa\", \"gran\", \"tedesco\", \"ministero\", \"salvare\", \"lavorare\", \"paese\", \"governare\", \"egli\", \"xiii\", \"morto\", \"fatto\", \"citt\\u00e0\", \"tale\", \"roma\", \"oggi\", \"fare\", \"dovere\", \"ogni\", \"italia\", \"potere\", \"essere\", \"italiano\", \"giorno\", \"dispaccio\", \"stare\", \"venire\", \"cardinale\", \"telegrafico\", \"anno\", \"tutto\", \"grande\", \"dire\", \"partire\", \"giornale\", \"primo\", \"stato\", \"pagnali\", \"torcia\", \"pescatore\", \"mezzetta\", \"panno\", \"kiorno\", \"scannatoio\", \"peecl\", \"vestilo\", \"bendarmi\", \"diamond\", \"ludi\", \"iikiko\", \"flell\", \"rlnnmiva\", \"aolloi\", \"canfora\", \"lungarsi\", \"intelli\", \"soffermarsi\", \"conclavista\", \"avvedutezza\", \"aitimi\", \"lesola\", \"maresclal\", \"onines\", \"inim\", \"tidiane\", \"digitale\", \"caudatari\", \"conclave\", \"cardinale\", \"duchessa\", \"longevit\\u00e0\", \"veggono\", \"xlll\", \"cardo\", \"cappella\", \"mila\", \"voto\", \"telegrafico\", \"croce\", \"partire\", \"potere\", \"occupare\", \"basilico\", \"altro\", \"luglio\", \"amico\", \"dottore\", \"donna\", \"italiano\", \"societ\\u00e0\", \"caso\", \"venire\", \"italia\", \"italian\", \"cuore\", \"lira\", \"states\", \"sempre\", \"importare\", \"dispaccio\", \"solere\", \"tempo\", \"leone\", \"quando\", \"fare\", \"fino\", \"dire\", \"parlare\", \"mentire\", \"molto\", \"giorno\", \"daily\", \"avere\", \"stare\", \"york\", \"anno\", \"grande\", \"nuovo\", \"roma\", \"dopo\", \"stato\", \"governare\", \"primo\", \"dovere\", \"egli\", \"oggi\", \"tutto\", \"giornale\", \"bohotie\", \"usanza\", \"terraglie\", \"funestissima\", \"nezuela\", \"zuela\", \"guidandoli\", \"carpinete\", \"tralciamento\", \"dmoio\", \"militarismo\", \"wlegand\", \"del\\u00f9simi\", \"entrata\", \"manico\", \"puerile\", \"enei\", \"giannina\", \"saturnalia\", \"ikiuido\", \"pecel\", \"processalo\", \"gici\", \"cihhho\", \"spazioso\", \"patricia\", \"ixvnghl\", \"gregio\", \"tyia\", \"disposizio\", \"temporaneo\", \"longhi\", \"volere\", \"perugia\", \"vite\", \"stampare\", \"serrare\", \"arbitro\", \"correre\", \"forte\", \"delegare\", \"bulgaria\", \"delia\", \"favorevole\", \"trovare\", \"vistare\", \"primo\", \"quale\", \"dirigere\", \"anno\", \"puntare\", \"cantare\", \"pubblicare\", \"telegrafico\", \"ieri\", \"mentire\", \"zione\", \"possibile\", \"milione\", \"londra\", \"stato\", \"operare\", \"patrio\", \"cardinale\", \"italiano\", \"giorno\", \"agire\", \"tutto\", \"senza\", \"partire\", \"notizia\", \"dire\", \"stare\", \"altro\", \"italia\", \"essere\", \"nuovo\", \"potere\", \"oggi\", \"daily\", \"fare\", \"dispaccio\", \"roma\", \"dovere\", \"venire\", \"papa\", \"molto\", \"giornale\", \"iregorlo\", \"xlll\", \"khidizio\", \"npbile\", \"bacchiare\", \"cbiema\", \"battito\", \"platonico\", \"auttafia\", \"vanmttelli\", \"contarne\", \"itoteli\", \"cometa\", \"sollevarsi\", \"stefa\", \"lnnponi\", \"kditomh\", \"scilo\", \"lasciandovi\", \"cupava\", \"placidamente\", \"t\\u00f2cc\", \"spassiona\", \"faoipioo\", \"pepare\", \"sp\\u00e0rsi\", \"circon\", \"apale\", \"soma\", \"dngnl\", \"stentare\", \"pupa\", \"mercantile\", \"vita\", \"giornale\", \"mano\", \"leone\", \"daily\", \"pubblico\", \"generale\", \"vittorio\", \"scioperare\", \"febbraio\", \"ordine\", \"ultimo\", \"monte\", \"circostanza\", \"gran\", \"napoli\", \"operare\", \"parola\", \"avere\", \"fino\", \"onore\", \"persona\", \"tempo\", \"lontano\", \"ministrare\", \"italiano\", \"partire\", \"sotto\", \"potere\", \"maggio\", \"tangere\", \"grande\", \"italia\", \"dire\", \"durare\", \"dopo\", \"quando\", \"venire\", \"oggi\", \"tutto\", \"altro\", \"giorno\", \"molto\", \"dovere\", \"fare\", \"telegrafico\", \"anno\", \"roma\", \"dispaccio\", \"primo\", \"stare\", \"nuovo\", \"cardinale\", \"essere\", \"attendibi\", \"ducicelo\", \"innovazione\", \"obbrobrioso\", \"pol\\u00ectica\", \"iiiestua\", \"saggero\", \"rhode\", \"stantemente\", \"insensatamente\", \"teitgs\", \"tangerl\", \"dinarie\", \"contusio\", \"tallani\", \"prir\\u00e0\", \"docuxio\", \"attestato\", \"ridpaiitaii\", \"muratore\", \"frattan\", \"trirstb\", \"jpitpacclo\", \"procurarvi\", \"margine\", \"codar\", \"oorv\", \"pardo\", \"corriapondente\", \"canade\", \"naso\", \"lato\", \"estrarre\", \"fugazy\", \"schedare\", \"parete\", \"bilan\", \"galimberti\", \"minatorio\", \"stare\", \"proprio\", \"dettaglio\", \"anarchico\", \"dispaccio\", \"riunione\", \"stesso\", \"milano\", \"direzione\", \"telegrafico\", \"damiani\", \"grande\", \"politico\", \"richiamare\", \"notizia\", \"tolstoi\", \"principe\", \"cittadino\", \"diritto\", \"treno\", \"lavoratore\", \"italiano\", \"quale\", \"poco\", \"ministrare\", \"presentire\", \"tutto\", \"ancorare\", \"italia\", \"york\", \"puro\", \"zione\", \"londra\", \"vicino\", \"generale\", \"numerare\", \"citt\\u00e0\", \"francia\", \"ogni\", \"dopo\", \"tempo\", \"nuovo\", \"partire\", \"venire\", \"potere\", \"essere\", \"roma\", \"quotidiano\", \"giornale\", \"daily\", \"primo\", \"anno\", \"cardinale\", \"dire\", \"altro\", \"fare\", \"giorno\", \"dovere\", \"egli\", \"molto\", \"sufi\", \"rinunziare\", \"postumo\", \"iiifvif\\u00e0h\\u00eclfvvroluzione\", \"redezt\", \"sommesso\", \"ripullulano\", \"sopravvivenza\", \"sospen\", \"illumi\", \"inaver\", \"ocrni\", \"sviare\", \"emancipatrici\", \"visouo\", \"tuandosi\", \"ginocchio\", \"trionli\", \"beatitudine\", \"ekidure\", \"miserando\", \"accecare\", \"priccioso\", \"fiducie\", \"sionevofo\", \"ipercritici\", \"portamento\", \"sfollare\", \"ovvio\", \"conveiiirne\", \"compitare\", \"parassitario\", \"cos\\u00ec\", \"barra\", \"proletario\", \"ogni\", \"zione\", \"aspirazione\", \"forte\", \"ebdomadario\", \"leggere\", \"nemico\", \"telegrafico\", \"sotto\", \"tutto\", \"fede\", \"quello\", \"molto\", \"altro\", \"lottare\", \"cardinale\", \"fare\", \"quindi\", \"classe\", \"lavoratore\", \"estero\", \"maggio\", \"mila\", \"anno\", \"giustiziare\", \"roma\", \"nuovo\", \"sempre\", \"grande\", \"operare\", \"lavorare\", \"italiano\", \"giorno\", \"gran\", \"stare\", \"potere\", \"dovere\", \"primo\", \"trovare\", \"oggi\", \"ministrare\", \"giornale\", \"daily\", \"venire\", \"italia\", \"dopo\", \"governare\", \"partire\", \"dispaccio\", \"dire\"], \"Freq\": [1002.0, 565.0, 372.0, 446.0, 447.0, 496.0, 363.0, 351.0, 497.0, 430.0, 483.0, 464.0, 405.0, 260.0, 315.0, 389.0, 329.0, 333.0, 335.0, 312.0, 368.0, 189.0, 426.0, 285.0, 251.0, 200.0, 177.0, 175.0, 205.0, 187.0, 1.6187374591827393, 1.6181364059448242, 1.7077116966247559, 2.105159044265747, 1.2024799585342407, 1.0651692152023315, 1.1457693576812744, 3.8501667976379395, 1.1323519945144653, 0.7164697051048279, 0.6824586391448975, 0.7228007316589355, 1.4845585823059082, 0.7318072319030762, 0.7162811756134033, 0.7294251918792725, 1.085684061050415, 0.7300330400466919, 0.685771644115448, 0.6849300861358643, 0.7308447957038879, 0.7249516248703003, 0.7139397859573364, 1.09893798828125, 0.731462836265564, 4.571166038513184, 0.6659551858901978, 0.6698254346847534, 1.0802278518676758, 0.7345086932182312, 1.1071312427520752, 3.156259536743164, 2.3855082988739014, 1.393926978111267, 26.54482650756836, 11.677353858947754, 124.79937744140625, 14.256362915039062, 3.6732969284057617, 9.137322425842285, 2.486043930053711, 137.89317321777344, 18.446338653564453, 14.328216552734375, 10.80085277557373, 39.42485427856445, 145.6088104248047, 43.33640670776367, 6.548918724060059, 9.875105857849121, 65.20667266845703, 116.0339584350586, 16.942272186279297, 144.4682159423828, 129.17440795898438, 49.477657318115234, 24.924205780029297, 19.028257369995117, 32.54891586303711, 72.09915924072266, 132.3459014892578, 158.0555419921875, 54.58540725708008, 51.78428649902344, 72.8674087524414, 247.4144744873047, 92.78425598144531, 57.48053741455078, 36.882896423339844, 95.10540771484375, 106.45441436767578, 54.863834381103516, 42.626243591308594, 39.74596405029297, 46.78054428100586, 92.36299896240234, 103.25465393066406, 80.42013549804688, 83.41679382324219, 72.89933776855469, 77.93647003173828, 103.13163757324219, 74.93302917480469, 93.89743041992188, 82.83293914794922, 63.089027404785156, 64.30377960205078, 59.19568634033203, 57.31009292602539, 1.0090895891189575, 7.728239059448242, 36.22904586791992, 2.447922945022583, 3.823712110519409, 0.8982189893722534, 2.234527826309204, 1.0653681755065918, 0.873380720615387, 1.1546640396118164, 2.0007498264312744, 0.8521931767463684, 0.8606048226356506, 2.247274160385132, 1.1080172061920166, 0.8232582807540894, 0.8009210228919983, 0.5579982995986938, 0.8157215714454651, 5.815411567687988, 0.5477949380874634, 10.325898170471191, 10.943009376525879, 3.5385444164276123, 4.314858436584473, 3.452880620956421, 0.5429269075393677, 0.7964688539505005, 1.0579289197921753, 0.5299900770187378, 11.272406578063965, 12.688082695007324, 5.699962615966797, 5.087944507598877, 14.488419532775879, 12.196196556091309, 25.97075843811035, 34.5465202331543, 15.95665168762207, 17.082063674926758, 62.98918914794922, 39.05995178222656, 18.262582778930664, 18.801515579223633, 36.22636032104492, 86.074462890625, 240.05831909179688, 84.85484313964844, 120.28742218017578, 18.021705627441406, 28.83652114868164, 59.795040130615234, 28.685672760009766, 29.930952072143555, 57.49185562133789, 126.97129821777344, 53.83969497680664, 42.14399719238281, 101.11865997314453, 85.76750183105469, 78.07218933105469, 49.41462326049805, 80.42182159423828, 61.783721923828125, 48.94575500488281, 35.56327438354492, 100.35897827148438, 35.477603912353516, 47.7984504699707, 91.55597686767578, 43.318626403808594, 88.76309204101562, 84.86930847167969, 91.36067962646484, 80.40312957763672, 55.1014404296875, 74.82270812988281, 58.87370681762695, 54.840187072753906, 66.43162536621094, 58.97380447387695, 60.06397247314453, 56.092716217041016, 57.171653747558594, 49.76226043701172, 1.0309405326843262, 3.9815585613250732, 2.00956392288208, 0.4902219772338867, 0.9878476858139038, 0.49022963643074036, 0.47210177779197693, 0.7052432298660278, 0.46081793308258057, 0.46744903922080994, 0.46763017773628235, 0.8969019055366516, 0.45800620317459106, 0.4703909158706665, 0.46355053782463074, 0.9556068778038025, 0.4603467285633087, 2.484905958175659, 1.776732087135315, 0.6855888366699219, 1.8785990476608276, 0.679831326007843, 0.6365343332290649, 1.388068675994873, 0.46302205324172974, 0.905138373374939, 4.326897144317627, 0.6831868886947632, 0.6554455161094666, 0.8965868949890137, 12.982610702514648, 2.614072799682617, 23.738082885742188, 6.021877765655518, 26.51793098449707, 19.620311737060547, 31.125869750976562, 8.742362022399902, 19.20966148376465, 3.3916661739349365, 5.106783866882324, 6.5717620849609375, 92.43109130859375, 101.12774658203125, 2.4440221786499023, 28.445068359375, 70.98776245117188, 21.754878997802734, 9.19316577911377, 51.483707427978516, 45.138084411621094, 15.76222038269043, 17.575916290283203, 7.871675968170166, 41.99653244018555, 39.60192108154297, 54.5975456237793, 48.84272766113281, 20.14826774597168, 36.83742904663086, 21.60134506225586, 42.25318908691406, 36.88434600830078, 88.62303161621094, 54.57683563232422, 93.36692810058594, 56.81545639038086, 39.089481353759766, 90.32657623291016, 77.33647155761719, 46.4579963684082, 154.6715087890625, 61.9859619140625, 81.40018463134766, 91.47933959960938, 64.51708221435547, 49.162166595458984, 63.77706527709961, 71.41392517089844, 59.201717376708984, 59.44707489013672, 61.77230453491211, 51.3216667175293, 52.76632308959961, 56.27803039550781, 42.338279724121094, 0.36184489727020264, 0.7213068604469299, 2.6176979541778564, 0.5257967114448547, 0.5195479989051819, 0.706333339214325, 1.0752826929092407, 0.3379867672920227, 0.5110903978347778, 0.33805638551712036, 3.8339579105377197, 0.5017013549804688, 0.33243438601493835, 0.32668787240982056, 0.32203635573387146, 0.32398998737335205, 0.32732829451560974, 0.3263556957244873, 0.4802021086215973, 0.31734898686408997, 0.48685646057128906, 0.3248140513896942, 0.31837794184684753, 0.3176569938659668, 0.3174022436141968, 0.32272395491600037, 0.3192296326160431, 0.32522663474082947, 0.3149845004081726, 0.4860730767250061, 17.168977737426758, 46.73272705078125, 1.0737855434417725, 0.618798017501831, 0.6237907409667969, 1.1852201223373413, 3.3719515800476074, 4.746999263763428, 15.476900100708008, 10.96501350402832, 55.36571502685547, 2.3276209831237793, 45.0560188293457, 60.37065124511719, 5.651627063751221, 2.2035372257232666, 58.03921890258789, 14.039152145385742, 11.836043357849121, 5.956002712249756, 9.5556640625, 119.8324203491211, 12.673510551452637, 7.588688850402832, 47.313846588134766, 61.037757873535156, 22.15593719482422, 6.836262226104736, 10.401200294494629, 20.05098533630371, 21.956016540527344, 9.411945343017578, 55.83408737182617, 22.723989486694336, 23.434677124023438, 12.55549430847168, 26.955442428588867, 53.742637634277344, 21.110172271728516, 45.8294792175293, 16.198822021484375, 27.726173400878906, 35.481815338134766, 37.09524917602539, 36.41246032714844, 23.646177291870117, 53.494441986083984, 23.761180877685547, 42.91452407836914, 35.880130767822266, 38.527305603027344, 41.5863037109375, 27.489839553833008, 26.67253303527832, 27.682126998901367, 34.08084487915039, 27.483768463134766, 24.729827880859375, 24.83371925354004, 25.42685317993164, 24.433238983154297, 0.7914313673973083, 0.4556201100349426, 0.296320378780365, 0.296051561832428, 0.292799711227417, 0.44130682945251465, 0.2863377034664154, 0.5744324326515198, 0.2813666760921478, 0.28330764174461365, 0.8253589272499084, 0.2821401059627533, 0.27840328216552734, 0.6939033269882202, 0.5575084090232849, 0.2755442261695862, 0.27298590540885925, 0.2758258879184723, 0.2765474319458008, 0.2652797996997833, 0.7964547276496887, 0.261503666639328, 0.2708735167980194, 0.2703600525856018, 0.27273377776145935, 0.27571195363998413, 0.2732483744621277, 0.2736692428588867, 0.2711932063102722, 0.3858918845653534, 1.095857858657837, 0.40754687786102295, 25.011770248413086, 1.0052061080932617, 0.800315260887146, 10.362201690673828, 0.6856480240821838, 0.663789689540863, 16.73236083984375, 10.86829662322998, 2.2593767642974854, 2.858428478240967, 8.731847763061523, 4.12623929977417, 25.575729370117188, 7.524840831756592, 46.0636100769043, 25.530160903930664, 12.194960594177246, 51.41175079345703, 7.032144069671631, 4.09299373626709, 15.479537963867188, 42.039039611816406, 17.034269332885742, 26.76015853881836, 13.531980514526367, 5.044280529022217, 13.55706787109375, 10.478808403015137, 26.519001007080078, 17.167545318603516, 18.348831176757812, 28.083234786987305, 90.13127899169922, 34.66664123535156, 11.30456829071045, 35.18413162231445, 22.124990463256836, 31.617149353027344, 16.5971622467041, 40.55459213256836, 51.1483154296875, 41.97158432006836, 45.658329010009766, 24.461387634277344, 37.25489807128906, 37.628787994384766, 26.580923080444336, 30.676027297973633, 40.695735931396484, 39.45638656616211, 37.9822883605957, 26.577590942382812, 29.631092071533203, 21.99907112121582, 25.156309127807617, 25.561429977416992, 0.49884656071662903, 1.2962713241577148, 0.29775840044021606, 0.29680347442626953, 0.4529474377632141, 0.2892877757549286, 0.5742937922477722, 0.2849530577659607, 0.2849358022212982, 0.28738701343536377, 0.2759858965873718, 0.2759418487548828, 0.41769662499427795, 0.2731640338897705, 0.2756919264793396, 0.2752053737640381, 0.2707430422306061, 0.27138787508010864, 0.27084729075431824, 0.27090269327163696, 0.5477047562599182, 0.2633760869503021, 0.264436274766922, 0.26535093784332275, 0.2692081928253174, 0.2601453959941864, 0.265502005815506, 0.2611011266708374, 0.2653954029083252, 0.2628491520881653, 1.0571643114089966, 0.49844083189964294, 1.6761317253112793, 16.08970069885254, 40.19524383544922, 17.748403549194336, 11.319206237792969, 37.92261505126953, 13.713111877441406, 20.763389587402344, 8.92257308959961, 7.640629291534424, 1.6796172857284546, 10.084858894348145, 10.11556625366211, 5.071713924407959, 2.56038236618042, 21.717939376831055, 10.590794563293457, 16.240665435791016, 9.935403823852539, 20.613872528076172, 17.54440689086914, 7.482367038726807, 12.605070114135742, 18.96324920654297, 3.9934182167053223, 18.469011306762695, 82.27974700927734, 30.042438507080078, 14.479562759399414, 39.053619384765625, 15.456785202026367, 10.581073760986328, 33.081905364990234, 43.017303466796875, 37.70879364013672, 18.025972366333008, 23.422462463378906, 20.80379867553711, 30.791067123413086, 24.352468490600586, 29.364099502563477, 34.62007522583008, 27.83542251586914, 26.231897354125977, 24.13945198059082, 34.92176818847656, 28.559162139892578, 31.740407943725586, 32.31311798095703, 32.56635665893555, 27.578702926635742, 32.88921356201172, 27.436893463134766, 22.092453002929688, 20.859893798828125, 0.15062139928340912, 0.22829784452915192, 0.22859103977680206, 0.1492927521467209, 0.22051016986370087, 0.1397111713886261, 0.13960117101669312, 0.2144017219543457, 0.1393040269613266, 0.13577325642108917, 0.14108683168888092, 0.13425178825855255, 0.13766908645629883, 0.1396670788526535, 0.13819751143455505, 0.13464760780334473, 0.13384690880775452, 0.2112177312374115, 0.13013650476932526, 0.20118717849254608, 0.13286221027374268, 0.1336030662059784, 0.13233822584152222, 0.12641815841197968, 0.1989556849002838, 0.13311554491519928, 0.13449765741825104, 0.13009695708751678, 0.1328757405281067, 0.13651606440544128, 1.6397722959518433, 2.562286615371704, 0.5390384197235107, 0.39812976121902466, 0.8184637427330017, 0.26503491401672363, 0.26865196228027344, 0.8219078183174133, 1.9333219528198242, 39.674251556396484, 6.296779632568359, 1.132880687713623, 2.483372449874878, 30.4075870513916, 2.287172555923462, 10.234925270080566, 3.7644832134246826, 1.1408368349075317, 22.66425132751465, 0.38969120383262634, 21.807165145874023, 7.840297698974609, 0.9941985011100769, 9.255749702453613, 1.4005011320114136, 4.717487812042236, 3.396984338760376, 4.234446048736572, 3.3942642211914062, 3.4058234691619873, 49.64373016357422, 11.950539588928223, 10.966014862060547, 10.406371116638184, 5.794537544250488, 18.96026039123535, 8.920491218566895, 25.590091705322266, 11.387763977050781, 7.302857398986816, 6.674291133880615, 5.278584003448486, 5.833796977996826, 9.935853004455566, 9.546194076538086, 11.085612297058105, 7.137226104736328, 10.424020767211914, 12.78182315826416, 9.824674606323242, 18.189739227294922, 14.857985496520996, 16.78310775756836, 18.744543075561523, 11.726128578186035, 19.13349151611328, 10.419241905212402, 14.378423690795898, 14.26470947265625, 15.849359512329102, 17.17428207397461, 12.152925491333008, 15.890519142150879, 15.371936798095703, 15.288045883178711, 12.797945976257324, 11.824423789978027, 10.963263511657715, 11.373237609863281, 0.10992760211229324, 0.15230296552181244, 0.1005602478981018, 0.09854359924793243, 0.14666122198104858, 0.0976627767086029, 0.10413424670696259, 0.10141574591398239, 0.09680198132991791, 0.09675296396017075, 0.09932833909988403, 0.09744906425476074, 0.09812213480472565, 0.0967954620718956, 0.09627038985490799, 0.09638110548257828, 0.09456918388605118, 0.0909201130270958, 0.09512851387262344, 0.09551282227039337, 0.09478476643562317, 0.08741430938243866, 0.09383948147296906, 0.09412360936403275, 0.09382472932338715, 0.09547552466392517, 0.08798310160636902, 0.09371718019247055, 0.08789064735174179, 0.09320420026779175, 0.3548590838909149, 0.1748841553926468, 0.7604071497917175, 0.8166623711585999, 0.3757908046245575, 6.940306186676025, 4.220808506011963, 0.3277307450771332, 2.9939441680908203, 0.3639076054096222, 5.705892562866211, 0.8623917102813721, 11.298675537109375, 4.56505823135376, 10.416532516479492, 1.574020504951477, 5.983737945556641, 9.320297241210938, 12.502415657043457, 4.257694244384766, 7.839315891265869, 13.506104469299316, 3.5722105503082275, 2.7018966674804688, 1.9217193126678467, 3.120516777038574, 4.60875940322876, 3.171952486038208, 11.792275428771973, 3.277756690979004, 11.790595054626465, 10.499996185302734, 4.853729724884033, 9.321558952331543, 4.429983139038086, 5.337751388549805, 18.793643951416016, 8.113192558288574, 5.451183795928955, 11.917427062988281, 9.538683891296387, 7.0642781257629395, 8.293316841125488, 5.351221084594727, 6.189584255218506, 4.831536293029785, 6.846630096435547, 6.795145034790039, 7.066288948059082, 8.09314250946045, 5.776805400848389, 5.768343925476074, 6.127979755401611, 7.051901340484619, 6.4356489181518555], \"Total\": [1002.0, 565.0, 372.0, 446.0, 447.0, 496.0, 363.0, 351.0, 497.0, 430.0, 483.0, 464.0, 405.0, 260.0, 315.0, 389.0, 329.0, 333.0, 335.0, 312.0, 368.0, 189.0, 426.0, 285.0, 251.0, 200.0, 177.0, 175.0, 205.0, 187.0, 2.22212290763855, 2.2218382358551025, 3.689039707183838, 4.580240249633789, 2.722874164581299, 2.4764857292175293, 2.7081403732299805, 9.11051082611084, 2.681796073913574, 1.7040373086929321, 1.6398327350616455, 1.7407804727554321, 3.586808919906616, 1.7732197046279907, 1.7402253150939941, 1.7727022171020508, 2.6431097984313965, 1.7782363891601562, 1.6734727621078491, 1.6722049713134766, 1.7879416942596436, 1.7755368947982788, 1.7500205039978027, 2.6978869438171387, 1.7983007431030273, 11.256195068359375, 1.641209363937378, 1.6515721082687378, 2.6660385131835938, 1.8139656782150269, 2.739422082901001, 7.900824069976807, 5.996764659881592, 3.4671878814697266, 70.35533142089844, 30.600257873535156, 363.1910095214844, 38.80333709716797, 9.454008102416992, 24.494709014892578, 6.320683002471924, 426.4876403808594, 51.792236328125, 39.70120620727539, 29.970436096191406, 118.1866683959961, 483.68597412109375, 133.26979064941406, 17.919403076171875, 27.75777244567871, 207.39027404785156, 389.9452819824219, 49.334930419921875, 496.3484191894531, 447.1775207519531, 158.2928924560547, 75.26873016357422, 56.15105056762695, 100.72746276855469, 239.90097045898438, 464.89337158203125, 565.6298217773438, 177.5738983154297, 170.27362060546875, 251.24293518066406, 1002.8250732421875, 335.3426208496094, 195.6349639892578, 118.7383804321289, 351.7312316894531, 405.6170349121094, 187.66384887695312, 141.33956909179688, 130.83860778808594, 159.14183044433594, 368.8873291015625, 430.7967529296875, 315.06414794921875, 333.67254638671875, 285.6780090332031, 329.7630920410156, 497.1422424316406, 312.9300842285156, 446.29351806640625, 372.9684753417969, 255.66873168945312, 271.1260070800781, 231.64849853515625, 227.70828247070312, 2.535090684890747, 21.857763290405273, 104.65863800048828, 7.160818576812744, 11.195438385009766, 2.633641242980957, 6.555285930633545, 3.131450891494751, 2.585070848464966, 3.418306827545166, 5.985865592956543, 2.567899465560913, 2.608342170715332, 6.849660396575928, 3.3789827823638916, 2.5116376876831055, 2.445549249649048, 1.7051758766174316, 2.4996118545532227, 17.828399658203125, 1.6794062852859497, 31.67195701599121, 33.612796783447266, 10.869616508483887, 13.29150390625, 10.645520210266113, 1.6797308921813965, 2.4706523418426514, 3.2863941192626953, 1.6469393968582153, 35.056114196777344, 40.03693389892578, 18.000751495361328, 16.056947708129883, 47.107295989990234, 39.889705657958984, 87.08136749267578, 119.4065170288086, 53.4725456237793, 58.01777648925781, 229.95489501953125, 139.4547119140625, 63.00373840332031, 65.03408813476562, 131.11773681640625, 333.67254638671875, 1002.8250732421875, 329.7630920410156, 497.1422424316406, 63.40424728393555, 105.77069854736328, 235.51345825195312, 105.64344787597656, 110.99665832519531, 231.64849853515625, 565.6298217773438, 217.3805694580078, 166.87513732910156, 464.89337158203125, 389.9452819824219, 351.7312316894531, 204.9387664794922, 368.8873291015625, 271.1260070800781, 205.01060485839844, 139.56381225585938, 496.3484191894531, 140.00799560546875, 201.6738739013672, 447.1775207519531, 179.56797790527344, 446.29351806640625, 430.7967529296875, 483.68597412109375, 426.4876403808594, 255.66873168945312, 405.6170349121094, 285.6780090332031, 260.9729919433594, 372.9684753417969, 312.9300842285156, 335.3426208496094, 315.06414794921875, 363.1910095214844, 251.24293518066406, 3.1876161098480225, 13.342371940612793, 6.739634037017822, 1.6663050651550293, 3.3820152282714844, 1.6986615657806396, 1.6726776361465454, 2.4993650913238525, 1.6333205699920654, 1.6638799905776978, 1.669421911239624, 3.206704616546631, 1.6447697877883911, 1.6971160173416138, 1.6751964092254639, 3.453918933868408, 1.66510808467865, 9.015612602233887, 6.481672763824463, 2.5056684017181396, 6.866916179656982, 2.4936928749084473, 2.3385674953460693, 5.109109401702881, 1.7083625793457031, 3.3493528366088867, 16.017131805419922, 2.533963441848755, 2.4313361644744873, 3.3267083168029785, 49.151084899902344, 9.827099800109863, 91.69839477539062, 22.86817169189453, 105.40676879882812, 77.67659759521484, 126.57341003417969, 34.23662185668945, 77.14900207519531, 12.912199020385742, 19.75440788269043, 25.666404724121094, 405.6170349121094, 446.29351806640625, 9.268318176269531, 119.7040023803711, 315.06414794921875, 91.23907470703125, 37.225318908691406, 229.95489501953125, 200.02227783203125, 65.99694061279297, 74.36775970458984, 31.73996353149414, 188.8031005859375, 179.56797790527344, 255.66873168945312, 227.70828247070312, 87.83984375, 170.27362060546875, 95.4493637084961, 201.50396728515625, 174.16357421875, 464.89337158203125, 271.1260070800781, 496.3484191894531, 285.6780090332031, 189.74464416503906, 497.1422424316406, 430.7967529296875, 235.51345825195312, 1002.8250732421875, 335.3426208496094, 483.68597412109375, 565.6298217773438, 368.8873291015625, 260.9729919433594, 372.9684753417969, 447.1775207519531, 351.7312316894531, 363.1910095214844, 426.4876403808594, 312.9300842285156, 333.67254638671875, 389.9452819824219, 239.90097045898438, 1.5869170427322388, 3.17055606842041, 11.572051048278809, 2.370265007019043, 2.355614185333252, 3.248734474182129, 4.96641731262207, 1.5682730674743652, 2.3728904724121094, 1.5756804943084717, 18.1024112701416, 2.3807899951934814, 1.5962035655975342, 1.5693353414535522, 1.5493594408035278, 1.5783826112747192, 1.5957962274551392, 1.5944240093231201, 2.3469152450561523, 1.5563642978668213, 2.392324209213257, 1.5994577407836914, 1.5715727806091309, 1.5689547061920166, 1.5700641870498657, 1.598836898803711, 1.583096981048584, 1.6131205558776855, 1.566019892692566, 2.4197118282318115, 88.06129455566406, 260.9729919433594, 5.501905918121338, 3.1192705631256104, 3.1594486236572266, 6.166553974151611, 18.421295166015625, 26.890783309936523, 93.3925552368164, 65.31514739990234, 372.9684753417969, 12.876745223999023, 312.9300842285156, 430.7967529296875, 34.19890594482422, 12.40303897857666, 446.29351806640625, 94.20218658447266, 78.11659240722656, 36.73508071899414, 61.937530517578125, 1002.8250732421875, 85.15933990478516, 48.24688720703125, 368.8873291015625, 497.1422424316406, 160.96470642089844, 43.108951568603516, 69.17635345458984, 146.1017303466797, 162.18003845214844, 62.051025390625, 483.68597412109375, 174.1096649169922, 181.0103302001953, 87.52740478515625, 217.3805694580078, 496.3484191894531, 164.3263397216797, 426.4876403808594, 120.02613830566406, 231.64849853515625, 315.06414794921875, 335.3426208496094, 329.7630920410156, 195.6349639892578, 565.6298217773438, 199.66563415527344, 447.1775207519531, 363.1910095214844, 405.6170349121094, 464.89337158203125, 251.24293518066406, 239.90097045898438, 255.66873168945312, 389.9452819824219, 285.6780090332031, 227.70828247070312, 271.1260070800781, 351.7312316894531, 333.67254638671875, 4.081158638000488, 2.399972915649414, 1.5816876888275146, 1.5952092409133911, 1.5889333486557007, 2.4228715896606445, 1.5989792346954346, 3.210566282272339, 1.5777181386947632, 1.6050993204116821, 4.6989545822143555, 1.6110899448394775, 1.5915170907974243, 3.978066921234131, 3.201284646987915, 1.5836519002914429, 1.579435110092163, 1.5988731384277344, 1.6076221466064453, 1.54887056350708, 4.654897212982178, 1.5363266468048096, 1.5939868688583374, 1.5912851095199585, 1.6053088903427124, 1.6254796981811523, 1.6139923334121704, 1.6191895008087158, 1.6067254543304443, 2.288684129714966, 6.615042686462402, 2.4385921955108643, 175.10552978515625, 6.200960159301758, 4.902429580688477, 72.45511627197266, 4.2008161544799805, 4.072421073913574, 122.35904693603516, 78.333251953125, 14.821435928344727, 19.14132308959961, 63.83060073852539, 28.723058700561523, 205.20924377441406, 55.22269058227539, 389.9452819824219, 205.9755859375, 93.11614227294922, 447.1775207519531, 51.807769775390625, 28.80290985107422, 123.056396484375, 372.9684753417969, 138.4669647216797, 231.64849853515625, 108.925048828125, 36.45462417602539, 109.37142944335938, 83.524658203125, 239.90097045898438, 146.52781677246094, 159.56687927246094, 260.9729919433594, 1002.8250732421875, 335.3426208496094, 92.93448638916016, 351.7312316894531, 204.9387664794922, 312.9300842285156, 146.8770294189453, 426.4876403808594, 565.6298217773438, 446.29351806640625, 497.1422424316406, 235.51345825195312, 405.6170349121094, 430.7967529296875, 271.1260070800781, 329.7630920410156, 496.3484191894531, 483.68597412109375, 464.89337158203125, 285.6780090332031, 368.8873291015625, 229.95489501953125, 315.06414794921875, 333.67254638671875, 2.3189589977264404, 6.166553974151611, 1.5405775308609009, 1.5437031984329224, 2.3744046688079834, 1.5363603830337524, 3.110978841781616, 1.550079345703125, 1.555375099182129, 1.5688668489456177, 1.5244572162628174, 1.527732253074646, 2.3177006244659424, 1.523152470588684, 1.5388964414596558, 1.5554991960525513, 1.5411540269851685, 1.5464216470718384, 1.5444810390472412, 1.551998257637024, 3.1452479362487793, 1.5181936025619507, 1.5347328186035156, 1.550981879234314, 1.576358437538147, 1.5267882347106934, 1.5605242252349854, 1.5383437871932983, 1.5647183656692505, 1.5523734092712402, 6.451300144195557, 3.005563974380493, 10.640761375427246, 119.4065170288086, 333.67254638671875, 138.54470825195312, 87.52740478515625, 329.7630920410156, 109.7941665649414, 175.26019287109375, 69.73102569580078, 59.52810287475586, 11.340080261230469, 82.02733612060547, 82.57183074951172, 38.81299591064453, 18.24561882019043, 200.02227783203125, 90.30791473388672, 146.52781677246094, 84.71482849121094, 195.6349639892578, 164.3263397216797, 61.98265075683594, 113.10491943359375, 181.0103302001953, 30.383913040161133, 177.00567626953125, 1002.8250732421875, 312.9300842285156, 134.39561462402344, 430.7967529296875, 145.45591735839844, 93.3536376953125, 363.1910095214844, 497.1422424316406, 426.4876403808594, 177.9964141845703, 251.24293518066406, 217.3805694580078, 368.8873291015625, 271.1260070800781, 351.7312316894531, 446.29351806640625, 335.3426208496094, 315.06414794921875, 285.6780090332031, 496.3484191894531, 372.9684753417969, 447.1775207519531, 464.89337158203125, 483.68597412109375, 389.9452819824219, 565.6298217773438, 405.6170349121094, 260.9729919433594, 235.51345825195312, 1.4891512393951416, 2.283698797225952, 2.308577299118042, 1.5331182479858398, 2.3798160552978516, 1.5240497589111328, 1.5434660911560059, 2.37504506111145, 1.5559338331222534, 1.5271068811416626, 1.5899202823638916, 1.5199732780456543, 1.5587738752365112, 1.5841765403747559, 1.5727579593658447, 1.5448118448257446, 1.538297414779663, 2.4279537200927734, 1.5053774118423462, 2.3378279209136963, 1.547362208366394, 1.558904767036438, 1.5458561182022095, 1.476990818977356, 2.3245632648468018, 1.556965947151184, 1.5733768939971924, 1.522099494934082, 1.557451844215393, 1.601646900177002, 19.246482849121094, 30.21385383605957, 6.36761999130249, 4.722803115844727, 9.860555648803711, 3.1246228218078613, 3.1808550357818604, 9.958305358886719, 24.220321655273438, 565.6298217773438, 87.1519775390625, 14.455370903015137, 33.545570373535156, 483.68597412109375, 30.89060401916504, 155.7549591064453, 53.4725456237793, 14.862902641296387, 372.9684753417969, 4.73910665512085, 363.1910095214844, 122.52279663085938, 12.986540794372559, 146.8770294189453, 18.883272171020508, 71.13854217529297, 49.863037109375, 64.41980743408203, 50.40735626220703, 50.812618255615234, 1002.8250732421875, 205.9755859375, 187.66384887695312, 177.00567626953125, 91.8619384765625, 351.7312316894531, 149.79124450683594, 497.1422424316406, 199.66563415527344, 120.38835906982422, 108.925048828125, 83.524658203125, 94.08736419677734, 175.26019287109375, 168.54449462890625, 201.50396728515625, 119.73382568359375, 189.74464416503906, 251.24293518066406, 181.0103302001953, 405.6170349121094, 312.9300842285156, 368.8873291015625, 430.7967529296875, 235.51345825195312, 464.89337158203125, 205.01060485839844, 333.67254638671875, 329.7630920410156, 389.9452819824219, 447.1775207519531, 260.9729919433594, 426.4876403808594, 446.29351806640625, 496.3484191894531, 335.3426208496094, 285.6780090332031, 227.70828247070312, 315.06414794921875, 1.4707945585250854, 2.263242244720459, 1.4979617595672607, 1.5131731033325195, 2.256518840789795, 1.5048805475234985, 1.6051316261291504, 1.566241979598999, 1.5043834447860718, 1.50582754611969, 1.5571262836456299, 1.5306934118270874, 1.5423603057861328, 1.5547199249267578, 1.5551002025604248, 1.5676531791687012, 1.5476360321044922, 1.4879522323608398, 1.5595422983169556, 1.5700410604476929, 1.5600968599319458, 1.4487589597702026, 1.5583864450454712, 1.5631442070007324, 1.558580994606018, 1.5867347717285156, 1.4713422060012817, 1.5673627853393555, 1.4715310335159302, 1.5634369850158691, 6.419369220733643, 3.0813181400299072, 15.253437042236328, 16.840492248535156, 7.294816970825195, 189.74464416503906, 108.925048828125, 6.320590019226074, 78.333251953125, 7.191885948181152, 166.87513732910156, 19.219881057739258, 372.9684753417969, 134.39561462402344, 351.7312316894531, 39.28293991088867, 187.6175079345703, 315.06414794921875, 446.29351806640625, 126.70791625976562, 260.9729919433594, 496.3484191894531, 105.64344787597656, 76.0600814819336, 50.812618255615234, 91.23907470703125, 145.45591735839844, 93.3925552368164, 447.1775207519531, 98.57251739501953, 464.89337158203125, 405.6170349121094, 162.18003845214844, 363.1910095214844, 146.52781677246094, 188.8031005859375, 1002.8250732421875, 335.3426208496094, 200.02227783203125, 565.6298217773438, 430.7967529296875, 285.6780090332031, 389.9452819824219, 205.20924377441406, 271.1260070800781, 177.00567626953125, 333.67254638671875, 329.7630920410156, 368.8873291015625, 497.1422424316406, 251.24293518066406, 255.66873168945312, 312.9300842285156, 483.68597412109375, 426.4876403808594], \"Category\": [\"Default\", \"Default\", \"Default\", \"Default\", \"Default\", \"Default\", \"Default\", \"Default\", \"Default\", \"Default\", \"Default\", \"Default\", \"Default\", \"Default\", \"Default\", \"Default\", \"Default\", \"Default\", \"Default\", \"Default\", \"Default\", \"Default\", \"Default\", \"Default\", \"Default\", \"Default\", \"Default\", \"Default\", \"Default\", \"Default\", \"Topic1\", \"Topic1\", \"Topic1\", \"Topic1\", \"Topic1\", \"Topic1\", \"Topic1\", \"Topic1\", \"Topic1\", \"Topic1\", \"Topic1\", \"Topic1\", \"Topic1\", \"Topic1\", \"Topic1\", \"Topic1\", \"Topic1\", \"Topic1\", \"Topic1\", \"Topic1\", \"Topic1\", \"Topic1\", \"Topic1\", \"Topic1\", \"Topic1\", \"Topic1\", \"Topic1\", \"Topic1\", \"Topic1\", \"Topic1\", \"Topic1\", \"Topic1\", \"Topic1\", \"Topic1\", \"Topic1\", \"Topic1\", \"Topic1\", \"Topic1\", \"Topic1\", \"Topic1\", \"Topic1\", \"Topic1\", \"Topic1\", \"Topic1\", \"Topic1\", \"Topic1\", \"Topic1\", \"Topic1\", \"Topic1\", \"Topic1\", \"Topic1\", \"Topic1\", \"Topic1\", \"Topic1\", \"Topic1\", \"Topic1\", \"Topic1\", \"Topic1\", \"Topic1\", \"Topic1\", \"Topic1\", \"Topic1\", \"Topic1\", \"Topic1\", \"Topic1\", \"Topic1\", \"Topic1\", \"Topic1\", \"Topic1\", \"Topic1\", \"Topic1\", \"Topic1\", \"Topic1\", \"Topic1\", \"Topic1\", \"Topic1\", \"Topic1\", \"Topic1\", \"Topic1\", \"Topic1\", \"Topic1\", \"Topic1\", \"Topic1\", \"Topic1\", \"Topic1\", \"Topic1\", \"Topic1\", \"Topic1\", \"Topic1\", \"Topic2\", \"Topic2\", \"Topic2\", \"Topic2\", \"Topic2\", \"Topic2\", \"Topic2\", \"Topic2\", \"Topic2\", \"Topic2\", \"Topic2\", \"Topic2\", \"Topic2\", \"Topic2\", \"Topic2\", \"Topic2\", \"Topic2\", \"Topic2\", \"Topic2\", \"Topic2\", \"Topic2\", \"Topic2\", \"Topic2\", \"Topic2\", \"Topic2\", \"Topic2\", \"Topic2\", \"Topic2\", \"Topic2\", \"Topic2\", \"Topic2\", \"Topic2\", \"Topic2\", \"Topic2\", \"Topic2\", \"Topic2\", \"Topic2\", \"Topic2\", \"Topic2\", \"Topic2\", \"Topic2\", \"Topic2\", \"Topic2\", \"Topic2\", \"Topic2\", \"Topic2\", \"Topic2\", \"Topic2\", \"Topic2\", \"Topic2\", \"Topic2\", \"Topic2\", \"Topic2\", \"Topic2\", \"Topic2\", \"Topic2\", \"Topic2\", \"Topic2\", \"Topic2\", \"Topic2\", \"Topic2\", \"Topic2\", \"Topic2\", \"Topic2\", \"Topic2\", \"Topic2\", \"Topic2\", \"Topic2\", \"Topic2\", \"Topic2\", \"Topic2\", \"Topic2\", \"Topic2\", \"Topic2\", \"Topic2\", \"Topic2\", \"Topic2\", \"Topic2\", \"Topic2\", \"Topic2\", \"Topic2\", \"Topic2\", \"Topic2\", \"Topic2\", \"Topic2\", \"Topic3\", \"Topic3\", \"Topic3\", \"Topic3\", \"Topic3\", \"Topic3\", \"Topic3\", \"Topic3\", \"Topic3\", \"Topic3\", \"Topic3\", \"Topic3\", \"Topic3\", \"Topic3\", \"Topic3\", \"Topic3\", \"Topic3\", \"Topic3\", \"Topic3\", \"Topic3\", \"Topic3\", \"Topic3\", \"Topic3\", \"Topic3\", \"Topic3\", \"Topic3\", \"Topic3\", \"Topic3\", \"Topic3\", \"Topic3\", \"Topic3\", \"Topic3\", \"Topic3\", \"Topic3\", \"Topic3\", \"Topic3\", \"Topic3\", \"Topic3\", \"Topic3\", \"Topic3\", \"Topic3\", \"Topic3\", \"Topic3\", \"Topic3\", \"Topic3\", \"Topic3\", \"Topic3\", \"Topic3\", \"Topic3\", \"Topic3\", \"Topic3\", \"Topic3\", \"Topic3\", \"Topic3\", \"Topic3\", \"Topic3\", \"Topic3\", \"Topic3\", \"Topic3\", \"Topic3\", \"Topic3\", \"Topic3\", \"Topic3\", \"Topic3\", \"Topic3\", \"Topic3\", \"Topic3\", \"Topic3\", \"Topic3\", \"Topic3\", \"Topic3\", \"Topic3\", \"Topic3\", \"Topic3\", \"Topic3\", \"Topic3\", \"Topic3\", \"Topic3\", \"Topic3\", \"Topic3\", \"Topic3\", \"Topic3\", \"Topic3\", \"Topic3\", \"Topic3\", \"Topic3\", \"Topic4\", \"Topic4\", \"Topic4\", \"Topic4\", \"Topic4\", \"Topic4\", \"Topic4\", \"Topic4\", \"Topic4\", \"Topic4\", \"Topic4\", \"Topic4\", \"Topic4\", \"Topic4\", \"Topic4\", \"Topic4\", \"Topic4\", \"Topic4\", \"Topic4\", \"Topic4\", \"Topic4\", \"Topic4\", \"Topic4\", \"Topic4\", \"Topic4\", \"Topic4\", \"Topic4\", \"Topic4\", \"Topic4\", \"Topic4\", \"Topic4\", \"Topic4\", \"Topic4\", \"Topic4\", \"Topic4\", \"Topic4\", \"Topic4\", \"Topic4\", \"Topic4\", \"Topic4\", \"Topic4\", \"Topic4\", \"Topic4\", \"Topic4\", \"Topic4\", \"Topic4\", \"Topic4\", \"Topic4\", \"Topic4\", \"Topic4\", \"Topic4\", \"Topic4\", \"Topic4\", \"Topic4\", \"Topic4\", \"Topic4\", \"Topic4\", \"Topic4\", \"Topic4\", \"Topic4\", \"Topic4\", \"Topic4\", \"Topic4\", \"Topic4\", \"Topic4\", \"Topic4\", \"Topic4\", \"Topic4\", \"Topic4\", \"Topic4\", \"Topic4\", \"Topic4\", \"Topic4\", \"Topic4\", \"Topic4\", \"Topic4\", \"Topic4\", \"Topic4\", \"Topic4\", \"Topic4\", \"Topic4\", \"Topic4\", \"Topic4\", \"Topic4\", \"Topic4\", \"Topic4\", \"Topic4\", \"Topic4\", \"Topic4\", \"Topic4\", \"Topic4\", \"Topic5\", \"Topic5\", \"Topic5\", \"Topic5\", \"Topic5\", \"Topic5\", \"Topic5\", \"Topic5\", \"Topic5\", \"Topic5\", \"Topic5\", \"Topic5\", \"Topic5\", \"Topic5\", \"Topic5\", \"Topic5\", \"Topic5\", \"Topic5\", \"Topic5\", \"Topic5\", \"Topic5\", \"Topic5\", \"Topic5\", \"Topic5\", \"Topic5\", \"Topic5\", \"Topic5\", \"Topic5\", \"Topic5\", \"Topic5\", \"Topic5\", \"Topic5\", \"Topic5\", \"Topic5\", \"Topic5\", \"Topic5\", \"Topic5\", \"Topic5\", \"Topic5\", \"Topic5\", \"Topic5\", \"Topic5\", \"Topic5\", \"Topic5\", \"Topic5\", \"Topic5\", \"Topic5\", \"Topic5\", \"Topic5\", \"Topic5\", \"Topic5\", \"Topic5\", \"Topic5\", \"Topic5\", \"Topic5\", \"Topic5\", \"Topic5\", \"Topic5\", \"Topic5\", \"Topic5\", \"Topic5\", \"Topic5\", \"Topic5\", \"Topic5\", \"Topic5\", \"Topic5\", \"Topic5\", \"Topic5\", \"Topic5\", \"Topic5\", \"Topic5\", \"Topic5\", \"Topic5\", \"Topic5\", \"Topic5\", \"Topic5\", \"Topic5\", \"Topic5\", \"Topic5\", \"Topic5\", \"Topic5\", \"Topic5\", \"Topic5\", \"Topic5\", \"Topic5\", \"Topic5\", \"Topic5\", \"Topic5\", \"Topic6\", \"Topic6\", \"Topic6\", \"Topic6\", \"Topic6\", \"Topic6\", \"Topic6\", \"Topic6\", \"Topic6\", \"Topic6\", \"Topic6\", \"Topic6\", \"Topic6\", \"Topic6\", \"Topic6\", \"Topic6\", \"Topic6\", \"Topic6\", \"Topic6\", \"Topic6\", \"Topic6\", \"Topic6\", \"Topic6\", \"Topic6\", \"Topic6\", \"Topic6\", \"Topic6\", \"Topic6\", \"Topic6\", \"Topic6\", \"Topic6\", \"Topic6\", \"Topic6\", \"Topic6\", \"Topic6\", \"Topic6\", \"Topic6\", \"Topic6\", \"Topic6\", \"Topic6\", \"Topic6\", \"Topic6\", \"Topic6\", \"Topic6\", \"Topic6\", \"Topic6\", \"Topic6\", \"Topic6\", \"Topic6\", \"Topic6\", \"Topic6\", \"Topic6\", \"Topic6\", \"Topic6\", \"Topic6\", \"Topic6\", \"Topic6\", \"Topic6\", \"Topic6\", \"Topic6\", \"Topic6\", \"Topic6\", \"Topic6\", \"Topic6\", \"Topic6\", \"Topic6\", \"Topic6\", \"Topic6\", \"Topic6\", \"Topic6\", \"Topic6\", \"Topic6\", \"Topic6\", \"Topic6\", \"Topic6\", \"Topic6\", \"Topic6\", \"Topic6\", \"Topic6\", \"Topic6\", \"Topic6\", \"Topic6\", \"Topic6\", \"Topic6\", \"Topic6\", \"Topic6\", \"Topic6\", \"Topic7\", \"Topic7\", \"Topic7\", \"Topic7\", \"Topic7\", \"Topic7\", \"Topic7\", \"Topic7\", \"Topic7\", \"Topic7\", \"Topic7\", \"Topic7\", \"Topic7\", \"Topic7\", \"Topic7\", \"Topic7\", \"Topic7\", \"Topic7\", \"Topic7\", \"Topic7\", \"Topic7\", \"Topic7\", \"Topic7\", \"Topic7\", \"Topic7\", \"Topic7\", \"Topic7\", \"Topic7\", \"Topic7\", \"Topic7\", \"Topic7\", \"Topic7\", \"Topic7\", \"Topic7\", \"Topic7\", \"Topic7\", \"Topic7\", \"Topic7\", \"Topic7\", \"Topic7\", \"Topic7\", \"Topic7\", \"Topic7\", \"Topic7\", \"Topic7\", \"Topic7\", \"Topic7\", \"Topic7\", \"Topic7\", \"Topic7\", \"Topic7\", \"Topic7\", \"Topic7\", \"Topic7\", \"Topic7\", \"Topic7\", \"Topic7\", \"Topic7\", \"Topic7\", \"Topic7\", \"Topic7\", \"Topic7\", \"Topic7\", \"Topic7\", \"Topic7\", \"Topic7\", \"Topic7\", \"Topic7\", \"Topic7\", \"Topic7\", \"Topic7\", \"Topic7\", \"Topic7\", \"Topic7\", \"Topic7\", \"Topic7\", \"Topic7\", \"Topic7\", \"Topic7\", \"Topic7\", \"Topic7\", \"Topic7\", \"Topic7\", \"Topic7\", \"Topic7\", \"Topic7\", \"Topic7\", \"Topic7\", \"Topic7\", \"Topic7\", \"Topic7\", \"Topic7\", \"Topic7\", \"Topic7\", \"Topic7\", \"Topic7\", \"Topic7\", \"Topic7\", \"Topic7\", \"Topic8\", \"Topic8\", \"Topic8\", \"Topic8\", \"Topic8\", \"Topic8\", \"Topic8\", \"Topic8\", \"Topic8\", \"Topic8\", \"Topic8\", \"Topic8\", \"Topic8\", \"Topic8\", \"Topic8\", \"Topic8\", \"Topic8\", \"Topic8\", \"Topic8\", \"Topic8\", \"Topic8\", \"Topic8\", \"Topic8\", \"Topic8\", \"Topic8\", \"Topic8\", \"Topic8\", \"Topic8\", \"Topic8\", \"Topic8\", \"Topic8\", \"Topic8\", \"Topic8\", \"Topic8\", \"Topic8\", \"Topic8\", \"Topic8\", \"Topic8\", \"Topic8\", \"Topic8\", \"Topic8\", \"Topic8\", \"Topic8\", \"Topic8\", \"Topic8\", \"Topic8\", \"Topic8\", \"Topic8\", \"Topic8\", \"Topic8\", \"Topic8\", \"Topic8\", \"Topic8\", \"Topic8\", \"Topic8\", \"Topic8\", \"Topic8\", \"Topic8\", \"Topic8\", \"Topic8\", \"Topic8\", \"Topic8\", \"Topic8\", \"Topic8\", \"Topic8\", \"Topic8\", \"Topic8\", \"Topic8\", \"Topic8\", \"Topic8\", \"Topic8\", \"Topic8\", \"Topic8\", \"Topic8\", \"Topic8\", \"Topic8\", \"Topic8\", \"Topic8\", \"Topic8\", \"Topic8\", \"Topic8\", \"Topic8\", \"Topic8\", \"Topic8\", \"Topic8\"], \"logprob\": [30.0, 29.0, 28.0, 27.0, 26.0, 25.0, 24.0, 23.0, 22.0, 21.0, 20.0, 19.0, 18.0, 17.0, 16.0, 15.0, 14.0, 13.0, 12.0, 11.0, 10.0, 9.0, 8.0, 7.0, 6.0, 5.0, 4.0, 3.0, 2.0, 1.0, -10.020099639892578, -10.020400047302246, -9.96660041809082, -9.75730037689209, -10.317299842834473, -10.438599586486816, -10.365599632263184, -9.153599739074707, -10.377400398254395, -10.835100173950195, -10.88379955291748, -10.826299667358398, -10.106599807739258, -10.814000129699707, -10.835399627685547, -10.81719970703125, -10.419500350952148, -10.816399574279785, -10.878899574279785, -10.880200386047363, -10.815299987792969, -10.823399543762207, -10.838700294494629, -10.407400131225586, -10.814399719238281, -8.982000350952148, -10.908300399780273, -10.90250015258789, -10.424500465393066, -10.81029987335205, -10.399900436401367, -9.352299690246582, -9.63230037689209, -10.169599533081055, -7.222899913787842, -8.044099807739258, -5.675000190734863, -7.8445000648498535, -9.200599670410156, -8.289400100708008, -9.590999603271484, -5.575200080871582, -7.586900234222412, -7.8394999504089355, -8.122099876403809, -6.827300071716309, -5.5208001136779785, -6.732699871063232, -8.622400283813477, -8.211700439453125, -6.32420015335083, -5.747799873352051, -7.671899795532227, -5.52869987487793, -5.640600204467773, -6.600200176239014, -7.285900115966797, -7.555799961090088, -7.019000053405762, -6.223700046539307, -5.616300106048584, -5.438799858093262, -6.501999855041504, -6.554599761962891, -6.213099956512451, -4.990699768066406, -5.971399784088135, -6.450300216674805, -6.894000053405762, -5.946700096130371, -5.834000110626221, -6.4969000816345215, -6.749199867248535, -6.819200038909912, -6.656300067901611, -5.97599983215332, -5.864500045776367, -6.114500045776367, -6.077899932861328, -6.212600231170654, -6.1458001136779785, -5.865699768066406, -6.185100078582764, -5.959499835968018, -6.08489990234375, -6.3572001457214355, -6.338099956512451, -6.420899868011475, -6.453199863433838, -10.329899787902832, -8.293999671936035, -6.749000072479248, -9.443699836730957, -8.997699737548828, -10.446200370788574, -9.534899711608887, -10.27560043334961, -10.474300384521484, -10.195099830627441, -9.645400047302246, -10.498800277709961, -10.48900032043457, -9.529199600219727, -10.236300468444824, -10.53339958190918, -10.56089973449707, -10.922300338745117, -10.54259967803955, -8.578399658203125, -10.940799713134766, -8.004199981689453, -7.946199893951416, -9.075200080871582, -8.876799583435059, -9.099699974060059, -10.949700355529785, -10.566499710083008, -10.282600402832031, -10.973799705505371, -7.916500091552734, -7.7982001304626465, -8.598400115966797, -8.711999893188477, -7.665599822998047, -7.837800025939941, -7.081900119781494, -6.796599864959717, -7.568999767303467, -7.500899791717529, -6.195899963378906, -6.673799991607666, -7.434000015258789, -7.40500020980835, -6.749100208282471, -5.883699893951416, -4.857999801635742, -5.8979997634887695, -5.548999786376953, -7.447299957275391, -6.97730016708374, -6.248000144958496, -6.982500076293945, -6.940000057220459, -6.287300109863281, -5.494900226593018, -6.35290002822876, -6.597799777984619, -5.722599983215332, -5.88730001449585, -5.981299877166748, -6.438700199127197, -5.951600074768066, -6.2153000831604, -6.448200225830078, -6.767600059509277, -5.730100154876709, -6.769999980926514, -6.47189998626709, -5.822000026702881, -6.570300102233887, -5.85290002822876, -5.897799968719482, -5.824100017547607, -5.9517998695373535, -6.329699993133545, -6.023799896240234, -6.263500213623047, -6.334499835968018, -6.1427001953125, -6.2617998123168945, -6.243500232696533, -6.3119001388549805, -6.292799949645996, -6.431600093841553, -10.13129997253418, -8.780099868774414, -9.463800430297852, -10.874600410461426, -10.173999786376953, -10.874600410461426, -10.912300109863281, -10.51099967956543, -10.93649959564209, -10.922200202941895, -10.921799659729004, -10.270600318908691, -10.94260025024414, -10.915900230407715, -10.9306001663208, -10.207200050354004, -10.9375, -9.251500129699707, -9.586999893188477, -10.539199829101562, -9.531200408935547, -10.547699928283691, -10.613499641418457, -9.833800315856934, -10.931699752807617, -10.26140022277832, -8.696900367736816, -10.542699813842773, -10.584199905395508, -10.270899772644043, -7.598100185394287, -9.200799942016602, -6.994699954986572, -8.366299629211426, -6.883900165557861, -7.185200214385986, -6.723700046539307, -7.993599891662598, -7.206299781799316, -8.940400123596191, -8.531200408935547, -8.279000282287598, -5.635300159454346, -5.545400142669678, -9.268099784851074, -6.813799858093262, -5.899199962615967, -7.081900119781494, -7.943299770355225, -6.2204999923706055, -6.3520002365112305, -7.404099941253662, -7.295199871063232, -8.09850025177002, -6.424200057983398, -6.482900142669678, -6.161799907684326, -6.273099899291992, -7.158599853515625, -6.555200099945068, -7.089000225067139, -6.418099880218506, -6.553999900817871, -5.6774001121521, -6.162099838256836, -5.625199794769287, -6.1219000816345215, -6.4959001541137695, -5.658299922943115, -5.813600063323975, -6.323200225830078, -5.1203999519348145, -6.034800052642822, -5.762400150299072, -5.645599842071533, -5.994800090789795, -6.266600131988525, -6.006400108337402, -5.8933000564575195, -6.0808000564575195, -6.076700210571289, -6.038300037384033, -6.223599910736084, -6.195899963378906, -6.131400108337402, -6.416100025177002, -10.679400444030762, -9.98960018157959, -8.700599670410156, -10.305700302124023, -10.317700386047363, -10.010600090026855, -9.590299606323242, -10.747699737548828, -10.334099769592285, -10.747400283813477, -8.319000244140625, -10.352700233459473, -10.764200210571289, -10.781700134277344, -10.795999526977539, -10.789899826049805, -10.77970027923584, -10.782699584960938, -10.396499633789062, -10.810700416564941, -10.382699966430664, -10.787400245666504, -10.80739974975586, -10.809700012207031, -10.810500144958496, -10.793899536132812, -10.804800033569336, -10.786100387573242, -10.818099975585938, -10.384300231933594, -6.819799900054932, -5.81850004196167, -9.591699600219727, -10.142900466918945, -10.13479995727539, -9.493000030517578, -8.447400093078613, -8.105400085449219, -6.923600196838379, -7.268199920654297, -5.648900032043457, -8.818099975585938, -5.855000019073486, -5.562399864196777, -7.931000232696533, -8.87279987335205, -5.601799964904785, -7.021100044250488, -7.191800117492676, -7.878499984741211, -7.405799865722656, -4.876800060272217, -7.1234002113342285, -7.636199951171875, -5.806099891662598, -5.551400184631348, -6.564799785614014, -7.740699768066406, -7.321000099182129, -6.664599895477295, -6.57390022277832, -7.420899868011475, -5.640500068664551, -6.5395002365112305, -6.508699893951416, -7.132699966430664, -6.36870002746582, -5.678699970245361, -6.6132001876831055, -5.8379998207092285, -6.877999782562256, -6.3404998779296875, -6.093900203704834, -6.0493998527526855, -6.067999839782715, -6.49970006942749, -5.683300018310547, -6.494900226593018, -5.90369987487793, -6.082699775695801, -6.011499881744385, -5.935100078582764, -6.349100112915039, -6.379300117492676, -6.342100143432617, -6.134200096130371, -6.349299907684326, -6.454899787902832, -6.450699806213379, -6.42710018157959, -6.4670000076293945, -9.742899894714355, -10.295100212097168, -10.725299835205078, -10.726200103759766, -10.737299919128418, -10.32699966430664, -10.759599685668945, -10.063400268554688, -10.777099609375, -10.7701997756958, -9.700900077819824, -10.774399757385254, -10.787699699401855, -9.87440013885498, -10.093299865722656, -10.79800033569336, -10.807299613952637, -10.79699993133545, -10.794400215148926, -10.836000442504883, -9.736599922180176, -10.850299835205078, -10.815099716186523, -10.817000389099121, -10.808300018310547, -10.79740047454834, -10.806400299072266, -10.804800033569336, -10.813899993896484, -10.461199760437012, -9.417499542236328, -10.406599998474121, -6.289700031280518, -9.503800392150879, -9.731800079345703, -7.17080020904541, -9.88640022277832, -9.918800354003906, -6.691699981689453, -7.123199939727783, -8.693900108337402, -8.458700180053711, -7.3420000076293945, -8.09160041809082, -6.267399787902832, -7.490799903869629, -5.678999900817871, -6.269100189208984, -7.007999897003174, -5.5690999031066895, -7.558499813079834, -8.099699974060059, -6.769499778747559, -5.770400047302246, -6.673799991607666, -6.222099781036377, -6.903900146484375, -7.890699863433838, -6.902100086212158, -7.159599781036377, -6.231100082397461, -6.665999889373779, -6.599400043487549, -6.173799991607666, -5.007699966430664, -5.963200092315674, -7.083799839019775, -5.948400020599365, -6.412300109863281, -6.055300235748291, -6.69980001449585, -5.806399822235107, -5.5742998123168945, -5.771999835968018, -5.68779993057251, -6.3119001388549805, -5.891200065612793, -5.881199836730957, -6.228799819946289, -6.0854997634887695, -5.8028998374938965, -5.833799839019775, -5.8719000816345215, -6.228899955749512, -6.120200157165527, -6.418000221252441, -6.283899784088135, -6.267899990081787, -10.113300323486328, -9.15839958190918, -10.629300117492676, -10.632499694824219, -10.209799766540527, -10.65820026397705, -9.97249984741211, -10.673299789428711, -10.673299789428711, -10.664799690246582, -10.705300331115723, -10.705400466918945, -10.290900230407715, -10.715499877929688, -10.706299781799316, -10.708100318908691, -10.72439956665039, -10.722100257873535, -10.724100112915039, -10.723799705505371, -10.01990032196045, -10.751999855041504, -10.748000144958496, -10.744600296020508, -10.73009967803955, -10.764399528503418, -10.744000434875488, -10.760700225830078, -10.744400024414062, -10.753999710083008, -9.362299919128418, -10.114100456237793, -8.901399612426758, -6.639699935913086, -5.724100112915039, -6.541600227355957, -6.991399765014648, -5.782299995422363, -6.799499988555908, -6.384699821472168, -7.229300022125244, -7.384399890899658, -8.899299621582031, -7.106800079345703, -7.103799819946289, -7.7941999435424805, -8.477700233459473, -6.339700222015381, -7.0578999519348145, -6.630300045013428, -7.121699810028076, -6.391900062561035, -6.553100109100342, -7.405300140380859, -6.883800029754639, -6.475299835205078, -8.03320026397705, -6.501800060272217, -5.007699966430664, -6.015200138092041, -6.745100021362305, -5.752900123596191, -6.679800033569336, -7.058800220489502, -5.918900012969971, -5.656199932098389, -5.788000106811523, -6.526000022888184, -6.264200210571289, -6.382699966430664, -5.990600109100342, -6.225200176239014, -6.038099765777588, -5.8734002113342285, -6.0914998054504395, -6.150899887084961, -6.234000205993652, -5.864699840545654, -6.065899848937988, -5.960299968719482, -5.942399978637695, -5.934599876403809, -6.100800037384033, -5.924699783325195, -6.105999946594238, -6.3225998878479, -6.380000114440918, -10.762299537658691, -10.346500396728516, -10.345199584960938, -10.771200180053711, -10.381199836730957, -10.837499618530273, -10.838299751281738, -10.409299850463867, -10.840499877929688, -10.866100311279297, -10.827699661254883, -10.877400398254395, -10.852299690246582, -10.837900161743164, -10.848400115966797, -10.874500274658203, -10.880399703979492, -10.424200057983398, -10.908499717712402, -10.472900390625, -10.887800216674805, -10.882200241088867, -10.891799926757812, -10.9375, -10.484000205993652, -10.885899543762207, -10.87559986114502, -10.90880012512207, -10.887700080871582, -10.860699653625488, -8.374799728393555, -7.928500175476074, -9.487299919128418, -9.790300369262695, -9.069700241088867, -10.19729995727539, -10.183699607849121, -9.065500259399414, -8.210100173950195, -5.188700199127197, -7.029300212860107, -8.744600296020508, -7.959700107574463, -5.454699993133545, -8.041999816894531, -6.543600082397461, -7.543700218200684, -8.737600326538086, -5.748600006103516, -9.811800003051758, -5.787099838256836, -6.810100078582764, -8.875200271606445, -6.644100189208984, -8.532500267028809, -7.3180999755859375, -7.646500110626221, -7.42609977722168, -7.647299766540527, -7.643899917602539, -4.9644999504089355, -6.388599872589111, -6.474599838256836, -6.526899814605713, -7.112400054931641, -5.927000045776367, -6.681000232696533, -5.627200126647949, -6.436800003051758, -6.881100177764893, -6.971099853515625, -7.205699920654297, -7.1057000160217285, -6.573200225830078, -6.6132001876831055, -6.463699817657471, -6.9039998054504395, -6.525199890136719, -6.321300029754639, -6.584499835968018, -5.968500137329102, -6.17080020904541, -6.048999786376953, -5.938499927520752, -6.40749979019165, -5.917900085449219, -6.525700092315674, -6.20359992980957, -6.211599826812744, -6.106200218200684, -6.025899887084961, -6.371799945831299, -6.103600025177002, -6.1367998123168945, -6.142300128936768, -6.320099830627441, -6.399199962615967, -6.474800109863281, -6.4380998611450195, -10.425800323486328, -10.099800109863281, -10.514900207519531, -10.535099983215332, -10.137499809265137, -10.544099807739258, -10.479900360107422, -10.506400108337402, -10.553000450134277, -10.553500175476074, -10.527199745178223, -10.546299934387207, -10.539400100708008, -10.553000450134277, -10.558500289916992, -10.557299613952637, -10.576299667358398, -10.615599632263184, -10.57040023803711, -10.566399574279785, -10.574000358581543, -10.654999732971191, -10.583999633789062, -10.581000328063965, -10.584199905395508, -10.566800117492676, -10.648500442504883, -10.58530044555664, -10.649499893188477, -10.590800285339355, -9.253899574279785, -9.96150016784668, -8.491800308227539, -8.42039966583252, -9.196599960327148, -6.2804999351501465, -6.7778000831604, -9.333399772644043, -7.121300220489502, -9.228699684143066, -6.476399898529053, -8.365900039672852, -5.7932000160217285, -6.699399948120117, -5.874499797821045, -7.764200210571289, -6.428800106048584, -5.9857001304626465, -5.69189977645874, -6.769100189208984, -6.158699989318848, -5.614699840545654, -6.944699764251709, -7.223899841308594, -7.564599990844727, -7.079899787902832, -6.689899921417236, -7.063499927520752, -5.750400066375732, -7.030700206756592, -5.7505998611450195, -5.866499900817871, -6.6381001472473145, -5.985499858856201, -6.729499816894531, -6.543099880218506, -5.28439998626709, -6.1244001388549805, -6.521999835968018, -5.7399001121521, -5.962500095367432, -6.262800216674805, -6.102399826049805, -6.540500164031982, -6.394999980926514, -6.6427001953125, -6.294099807739258, -6.301700115203857, -6.262499809265137, -6.1269001960754395, -6.464000225067139, -6.4654998779296875, -6.40500020980835, -6.264599800109863, -6.355999946594238], \"loglift\": [30.0, 29.0, 28.0, 27.0, 26.0, 25.0, 24.0, 23.0, 22.0, 21.0, 20.0, 19.0, 18.0, 17.0, 16.0, 15.0, 14.0, 13.0, 12.0, 11.0, 10.0, 9.0, 8.0, 7.0, 6.0, 5.0, 4.0, 3.0, 2.0, 1.0, 1.0694999694824219, 1.069200038909912, 0.616100013256073, 0.6089000105857849, 0.5690000057220459, 0.5425999760627747, 0.5260999798774719, 0.5249999761581421, 0.5241000056266785, 0.5199000239372253, 0.5095999836921692, 0.5073000192642212, 0.5041000247001648, 0.5012999773025513, 0.4986000061035156, 0.4982999861240387, 0.4964999854564667, 0.4959999918937683, 0.4941999912261963, 0.4936999976634979, 0.4916999936103821, 0.49050000309944153, 0.48969998955726624, 0.48820000886917114, 0.48669999837875366, 0.48510000109672546, 0.48429998755455017, 0.4837999939918518, 0.4828999936580658, 0.4821999967098236, 0.48030000925064087, 0.46869999170303345, 0.4645000100135803, 0.47510001063346863, 0.4115999937057495, 0.42289999127388, 0.3181000053882599, 0.38499999046325684, 0.4408999979496002, 0.4002000093460083, 0.45320001244544983, 0.2572000026702881, 0.3538999855518341, 0.3671000003814697, 0.36570000648498535, 0.28839999437332153, 0.1858000010251999, 0.2628999948501587, 0.3797000050544739, 0.35280001163482666, 0.22920000553131104, 0.17419999837875366, 0.3174999952316284, 0.15209999680519104, 0.1445000022649765, 0.22339999675750732, 0.28110000491142273, 0.3041999936103821, 0.2565999925136566, 0.18410000205039978, 0.1298999935388565, 0.11129999905824661, 0.20669999718666077, 0.19599999487400055, 0.148499995470047, -0.013199999928474426, 0.10140000283718109, 0.1615000069141388, 0.21709999442100525, 0.07840000092983246, 0.04859999939799309, 0.15649999678134918, 0.1876000016927719, 0.19480000436306, 0.16200000047683716, 0.001500000013038516, -0.042100001126527786, 0.020800000056624413, -0.0, 0.020500000566244125, -0.05620000138878822, -0.186599999666214, -0.04309999942779541, -0.17249999940395355, -0.11840000003576279, -0.013000000268220901, -0.05270000174641609, 0.021900000050663948, 0.0066999997943639755, 0.6279000043869019, 0.5094000101089478, 0.48829999566078186, 0.4756999909877777, 0.4747999906539917, 0.4733999967575073, 0.47290000319480896, 0.4708999991416931, 0.46399998664855957, 0.46380001306533813, 0.45320001244544983, 0.44609999656677246, 0.44029998779296875, 0.43459999561309814, 0.4341000020503998, 0.43369999527931213, 0.4327999949455261, 0.4320000112056732, 0.4293000102043152, 0.42879998683929443, 0.42879998683929443, 0.42829999327659607, 0.4268999993801117, 0.426800012588501, 0.42399999499320984, 0.42320001125335693, 0.4196999967098236, 0.4171000123023987, 0.4156000018119812, 0.41530001163482666, 0.41449999809265137, 0.4000000059604645, 0.39910000562667847, 0.39980000257492065, 0.3700000047683716, 0.36410000920295715, 0.3391999900341034, 0.30889999866485596, 0.33980000019073486, 0.3264000117778778, 0.2542000114917755, 0.27649998664855957, 0.3107999861240387, 0.30809998512268066, 0.262800008058548, 0.19419999420642853, 0.11940000206232071, 0.19169999659061432, 0.13009999692440033, 0.29109999537467957, 0.24950000643730164, 0.17829999327659607, 0.24539999663829803, 0.23849999904632568, 0.15549999475479126, 0.05510000139474869, 0.1535000056028366, 0.1729000061750412, 0.023600000888109207, 0.034699998795986176, 0.04390000179409981, 0.1265999972820282, 0.02590000070631504, 0.07020000368356705, 0.11680000275373459, 0.1818999946117401, -0.049400001764297485, 0.17630000412464142, 0.10939999669790268, -0.03689999878406525, 0.12710000574588776, -0.06589999794960022, -0.07540000230073929, -0.11749999970197678, -0.11940000206232071, 0.014399999752640724, -0.1412000060081482, -0.030400000512599945, -0.010900000110268593, -0.1762000024318695, -0.11980000138282776, -0.17059999704360962, -0.17669999599456787, -0.29980000853538513, -0.07010000199079514, 0.5975000262260437, 0.5170000195503235, 0.5162000060081482, 0.5027999877929688, 0.49559998512268066, 0.48350000381469727, 0.46129998564720154, 0.460999995470047, 0.4609000086784363, 0.45660001039505005, 0.4537000060081482, 0.4521999955177307, 0.44780001044273376, 0.4431000053882599, 0.4415000081062317, 0.44130000472068787, 0.4406000077724457, 0.4375, 0.43209999799728394, 0.4302000105381012, 0.4300999939441681, 0.42660000920295715, 0.42500001192092896, 0.42309999465942383, 0.4207000136375427, 0.41780000925064087, 0.41749998927116394, 0.4154999852180481, 0.4153999984264374, 0.41510000824928284, 0.39500001072883606, 0.4020000100135803, 0.3747999966144562, 0.3919000029563904, 0.34630000591278076, 0.35030001401901245, 0.32350000739097595, 0.3610999882221222, 0.3359000086784363, 0.38940000534057617, 0.3734999895095825, 0.36390000581741333, 0.24729999899864197, 0.24169999361038208, 0.39329999685287476, 0.2892000079154968, 0.23600000143051147, 0.29260000586509705, 0.3276999890804291, 0.2295999974012375, 0.23759999871253967, 0.29429998993873596, 0.28380000591278076, 0.3319999873638153, 0.22310000658035278, 0.21459999680519104, 0.18240000307559967, 0.1868000030517578, 0.2538999915122986, 0.19539999961853027, 0.24040000140666962, 0.16410000622272491, 0.17409999668598175, 0.06880000233650208, 0.12330000102519989, 0.05550000071525574, 0.1111999973654747, 0.14640000462532043, 0.020800000056624413, 0.008799999952316284, 0.10300000011920929, -0.14300000667572021, 0.03799999877810478, -0.055799998342990875, -0.09560000151395798, -0.01730000041425228, 0.05700000002980232, -0.039799999445676804, -0.10819999873638153, -0.05570000037550926, -0.0835999995470047, -0.20589999854564667, -0.08160000294446945, -0.11800000071525574, -0.2093999981880188, -0.008299999870359898, 0.7468000054359436, 0.7444999814033508, 0.7387999892234802, 0.7192999720573425, 0.7135000228881836, 0.6991999745368958, 0.6949999928474426, 0.6904000043869019, 0.6898000240325928, 0.6858999729156494, 0.6729999780654907, 0.667900025844574, 0.6561999917030334, 0.6557000279426575, 0.65420001745224, 0.641700029373169, 0.6409000158309937, 0.6388000249862671, 0.6384000182151794, 0.6349999904632568, 0.6330000162124634, 0.6309000253677368, 0.6284999847412109, 0.6279000043869019, 0.6263999938964844, 0.6248999834060669, 0.6238999962806702, 0.6237000226974487, 0.6212999820709229, 0.6201000213623047, 0.5902000069618225, 0.5051000118255615, 0.5911999940872192, 0.6075000166893005, 0.6028000116348267, 0.5759000182151794, 0.5271000266075134, 0.49079999327659607, 0.4275999963283539, 0.4406000077724457, 0.3176000118255615, 0.5145000219345093, 0.28700000047683716, 0.25999999046325684, 0.42480000853538513, 0.49720001220703125, 0.18520000576972961, 0.3215000033378601, 0.33799999952316284, 0.4058000147342682, 0.3560999929904938, 0.1005999967455864, 0.32010000944137573, 0.37540000677108765, 0.17139999568462372, 0.12770000100135803, 0.24199999868869781, 0.38359999656677246, 0.3303999900817871, 0.23909999430179596, 0.22540000081062317, 0.3391000032424927, 0.06599999964237213, 0.18880000710487366, 0.18080000579357147, 0.2833000123500824, 0.13760000467300415, 0.0020000000949949026, 0.17299999296665192, -0.00559999980032444, 0.2222999930381775, 0.1023000031709671, 0.04129999876022339, 0.023399999365210533, 0.02160000056028366, 0.11209999769926071, -0.13330000638961792, 0.09650000184774399, -0.11860000342130661, -0.08959999680519104, -0.12890000641345978, -0.18889999389648438, 0.012500000186264515, 0.02850000001490116, 0.0020000000949949026, -0.21220000088214874, -0.11620000004768372, 0.004999999888241291, -0.16529999673366547, -0.4020000100135803, -0.38909998536109924, 0.7386999726295471, 0.7174999713897705, 0.704200029373169, 0.6948000192642212, 0.6876999735832214, 0.6759999990463257, 0.6590999960899353, 0.6582000255584717, 0.6549000144004822, 0.644599974155426, 0.6396999955177307, 0.6366999745368958, 0.6355999708175659, 0.6327999830245972, 0.6312000155448914, 0.630299985408783, 0.6236000061035156, 0.6216999888420105, 0.6189000010490417, 0.6144999861717224, 0.6134999990463257, 0.608299970626831, 0.6067000031471252, 0.6065000295639038, 0.6064000129699707, 0.6047999858856201, 0.6029000282287598, 0.6011999845504761, 0.5999000072479248, 0.598800003528595, 0.5812000036239624, 0.5899999737739563, 0.43299999833106995, 0.559499979019165, 0.5665000081062317, 0.4341999888420105, 0.5662999749183655, 0.5649999976158142, 0.38940000534057617, 0.40389999747276306, 0.49799999594688416, 0.477400004863739, 0.3896999955177307, 0.43869999051094055, 0.29660001397132874, 0.38580000400543213, 0.24300000071525574, 0.29109999537467957, 0.34619998931884766, 0.2159000039100647, 0.38199999928474426, 0.4277999997138977, 0.3059000074863434, 0.19609999656677246, 0.28360000252723694, 0.2206999957561493, 0.29339998960494995, 0.40119999647140503, 0.29120001196861267, 0.30320000648498535, 0.17659999430179596, 0.23479999601840973, 0.21610000729560852, 0.14980000257492065, -0.030300000682473183, 0.1096000000834465, 0.27230000495910645, 0.07670000195503235, 0.15299999713897705, 0.08669999986886978, 0.19859999418258667, 0.026100000366568565, -0.02419999986886978, 0.014999999664723873, -0.008700000122189522, 0.11429999768733978, -0.00860000029206276, -0.05889999866485596, 0.05660000070929527, 0.004100000020116568, -0.12219999730587006, -0.12720000743865967, -0.1256999969482422, 0.00419999985024333, -0.14270000159740448, 0.032099999487400055, -0.14869999885559082, -0.19009999930858612, 0.9336000084877014, 0.9104999899864197, 0.8264999985694885, 0.8213000297546387, 0.8133999705314636, 0.8004000186920166, 0.7806000113487244, 0.7764000296592712, 0.7728999853134155, 0.7728999853134155, 0.7610999941825867, 0.7588000297546387, 0.756600022315979, 0.7516999840736389, 0.7505999803543091, 0.738099992275238, 0.7310000061988831, 0.7300000190734863, 0.7293000221252441, 0.7246000170707703, 0.7221999764442444, 0.718500018119812, 0.7116000056266785, 0.7045999765396118, 0.7027999758720398, 0.7005000114440918, 0.6990000009536743, 0.6966000199317932, 0.695900022983551, 0.6941999793052673, 0.6614999771118164, 0.6733999848365784, 0.621999979019165, 0.4657999873161316, 0.35370001196861267, 0.41530001163482666, 0.424699991941452, 0.30730000138282776, 0.38989999890327454, 0.33709999918937683, 0.4140999913215637, 0.4171999990940094, 0.5604000091552734, 0.374099999666214, 0.37059998512268066, 0.4350999891757965, 0.5063999891281128, 0.2498999983072281, 0.32690000534057617, 0.2705000042915344, 0.3269999921321869, 0.2198999971151352, 0.2329999953508377, 0.35589998960494995, 0.2759000062942505, 0.21410000324249268, 0.4408999979496002, 0.210099995136261, -0.030300000682473183, 0.12680000066757202, 0.24210000038146973, 0.06949999928474426, 0.22830000519752502, 0.29280000925064087, 0.07419999688863754, 0.02290000021457672, 0.04450000077486038, 0.18019999563694, 0.09740000218153, 0.12359999865293503, -0.013100000098347664, 0.06019999831914902, -0.012900000438094139, -0.08640000224113464, -0.018699999898672104, -0.015599999576807022, -0.0008999999845400453, -0.18400000035762787, -0.09939999878406525, -0.17520000040531158, -0.19619999825954437, -0.2280000001192093, -0.17880000174045563, -0.37459999322891235, -0.22339999675750732, 0.0010000000474974513, 0.04619999974966049, 0.7275000214576721, 0.7156999707221985, 0.7062000036239624, 0.6894999742507935, 0.6398000121116638, 0.6291000247001648, 0.6157000064849854, 0.6136999726295471, 0.6054999828338623, 0.5985000133514404, 0.5965999960899353, 0.5918999910354614, 0.5917999744415283, 0.5900999903678894, 0.5867000222206116, 0.5787000060081482, 0.5769000053405762, 0.57669997215271, 0.5703999996185303, 0.5659000277519226, 0.5637000203132629, 0.5618000030517578, 0.560699999332428, 0.5605000257492065, 0.5604000091552734, 0.5594000220298767, 0.5591999888420105, 0.5590999722480774, 0.5572999715805054, 0.5562999844551086, 0.555899977684021, 0.5511999726295471, 0.5494999885559082, 0.5453000068664551, 0.5297999978065491, 0.5514000058174133, 0.5472000241279602, 0.5241000056266785, 0.49070000648498535, 0.3614000082015991, 0.39100000262260437, 0.4722999930381775, 0.4153999984264374, 0.25189998745918274, 0.4154999852180481, 0.2962000072002411, 0.3650999963283539, 0.4514999985694885, 0.21789999306201935, 0.5203999876976013, 0.20600000023841858, 0.2696000039577484, 0.4489000141620636, 0.25429999828338623, 0.4171999990940094, 0.3052999973297119, 0.33230000734329224, 0.29649999737739563, 0.3206000030040741, 0.3160000145435333, 0.012900000438094139, 0.17170000076293945, 0.17880000174045563, 0.18490000069141388, 0.25529998540878296, 0.09809999912977219, 0.19779999554157257, 0.052000001072883606, 0.15449999272823334, 0.21619999408721924, 0.22630000114440918, 0.2572000026702881, 0.23810000717639923, 0.148499995470047, 0.147599995136261, 0.1185000017285347, 0.19869999587535858, 0.11710000038146973, 0.040300000458955765, 0.10499999672174454, -0.08590000122785568, -0.02879999950528145, -0.07150000333786011, -0.1160999983549118, 0.018699999898672104, -0.17170000076293945, 0.03920000046491623, -0.1257999986410141, -0.12189999967813492, -0.1842000037431717, -0.24089999496936798, -0.04820000007748604, -0.2712000012397766, -0.3497999906539917, -0.46160000562667847, -0.24719999730587006, -0.16599999368190765, -0.01489999983459711, -0.3028999865055084, 1.0764000415802002, 0.9714999794960022, 0.968999981880188, 0.9387000203132629, 0.9366999864578247, 0.9351999759674072, 0.9348999857902527, 0.9329000115394592, 0.9266999959945679, 0.9251999855041504, 0.9179999828338623, 0.9160000085830688, 0.9153000116348267, 0.8937000036239624, 0.8880000114440918, 0.8810999989509583, 0.875, 0.875, 0.873199999332428, 0.8705000281333923, 0.8691999912261963, 0.8622999787330627, 0.8603000044822693, 0.8603000044822693, 0.8600000143051147, 0.8596000075340271, 0.8533999919891357, 0.8532999753952026, 0.8521999716758728, 0.8503000140190125, 0.7748000025749207, 0.8011000156402588, 0.6714000105857849, 0.6438000202178955, 0.704200029373169, 0.3617999851703644, 0.4194999933242798, 0.7107999920845032, 0.4058000147342682, 0.6862999796867371, 0.29440000653266907, 0.566100001335144, 0.17329999804496765, 0.28780001401901245, 0.15070000290870667, 0.453000009059906, 0.2248000055551529, 0.14959999918937683, 0.09510000050067902, 0.2770000100135803, 0.164900004863739, 0.06599999964237213, 0.2833000123500824, 0.3325999975204468, 0.3952000141143799, 0.2946999967098236, 0.21819999814033508, 0.28769999742507935, 0.03460000082850456, 0.26649999618530273, -0.004399999976158142, 0.016100000590085983, 0.16120000183582306, 0.007499999832361937, 0.1712999939918518, 0.10419999808073044, -0.3068999946117401, -0.051500000059604645, 0.06750000268220901, -0.18979999423027039, -0.14010000228881836, -0.02969999983906746, -0.18039999902248383, 0.023399999365210533, -0.1096000000834465, 0.06909999996423721, -0.21629999577999115, -0.21199999749660492, -0.2849999964237213, -0.44769999384880066, -0.10239999741315842, -0.12139999866485596, -0.2630000114440918, -0.5580000281333923, -0.5235999822616577]}, \"token.table\": {\"Topic\": [1, 2, 3, 4, 5, 6, 7, 8, 1, 2, 3, 4, 5, 6, 2, 1, 2, 3, 4, 5, 6, 7, 8, 1, 2, 3, 4, 5, 6, 7, 8, 1, 2, 3, 4, 5, 6, 7, 8, 1, 2, 3, 4, 5, 6, 7, 8, 1, 2, 3, 4, 5, 6, 7, 8, 1, 2, 3, 4, 5, 6, 7, 8, 1, 2, 3, 4, 5, 6, 7, 8, 1, 1, 2, 3, 4, 5, 6, 7, 8, 1, 2, 3, 4, 6, 1, 2, 3, 4, 5, 6, 7, 8, 1, 2, 3, 4, 5, 1, 2, 3, 4, 5, 6, 1, 2, 1, 2, 1, 1, 2, 3, 4, 5, 6, 7, 8, 1, 1, 2, 3, 4, 5, 6, 7, 8, 1, 1, 2, 3, 4, 5, 6, 7, 8, 1, 2, 3, 4, 5, 6, 1, 6, 1, 1, 2, 3, 2, 3, 1, 2, 3, 4, 5, 6, 7, 1, 2, 3, 5, 1, 2, 3, 4, 5, 6, 7, 1, 2, 3, 4, 5, 6, 7, 8, 1, 2, 3, 4, 5, 6, 7, 8, 1, 2, 3, 4, 5, 6, 7, 8, 1, 2, 3, 4, 5, 6, 7, 8, 1, 2, 3, 4, 5, 6, 7, 1, 3, 1, 2, 5, 1, 2, 3, 4, 5, 6, 7, 8, 3, 1, 2, 3, 4, 5, 6, 2, 1, 2, 3, 4, 5, 6, 7, 8, 1, 2, 3, 4, 5, 6, 7, 8, 1, 2, 3, 4, 5, 6, 7, 1, 2, 3, 4, 5, 6, 7, 8, 1, 2, 3, 4, 5, 6, 7, 8, 1, 2, 3, 4, 5, 6, 7, 8, 1, 2, 3, 4, 5, 6, 7, 8, 1, 2, 3, 4, 5, 1, 2, 3, 4, 5, 6, 1, 2, 3, 4, 5, 6, 7, 8, 3, 1, 2, 3, 4, 5, 6, 1, 2, 1, 2, 3, 4, 5, 6, 7, 8, 2, 1, 2, 3, 4, 5, 6, 7, 8, 1, 2, 3, 4, 5, 6, 7, 8, 1, 2, 3, 4, 5, 6, 7, 8, 1, 2, 3, 4, 5, 6, 7, 8, 1, 2, 3, 4, 5, 6, 7, 1, 2, 3, 2, 1, 2, 3, 4, 5, 6, 7, 8, 1, 2, 3, 4, 5, 6, 7, 8, 3, 1, 3, 1, 2, 3, 4, 5, 6, 7, 8, 2, 3, 1, 2, 3, 4, 5, 6, 7, 1, 2, 3, 4, 5, 6, 7, 8, 1, 2, 3, 4, 5, 6, 7, 1, 1, 2, 3, 4, 5, 6, 7, 1, 1, 2, 3, 1, 2, 3, 4, 5, 6, 7, 8, 1, 2, 3, 4, 5, 6, 7, 1, 2, 3, 4, 5, 6, 7, 8, 1, 2, 3, 4, 5, 6, 7, 8, 1, 2, 3, 4, 5, 6, 7, 8, 2, 1, 1, 2, 1, 2, 3, 4, 5, 6, 7, 8, 1, 2, 3, 4, 5, 6, 7, 8, 1, 2, 3, 4, 5, 6, 7, 8, 1, 2, 3, 4, 5, 6, 7, 8, 1, 2, 3, 4, 5, 1, 1, 2, 3, 4, 5, 6, 1, 2, 3, 4, 5, 6, 7, 8, 1, 2, 3, 4, 5, 6, 1, 2, 3, 4, 1, 2, 3, 4, 5, 6, 7, 8, 1, 1, 1, 1, 2, 3, 4, 5, 1, 1, 2, 3, 4, 5, 6, 7, 8, 1, 2, 3, 4, 5, 6, 7, 8, 1, 2, 3, 4, 5, 6, 7, 8, 1, 2, 3, 4, 5, 7, 1, 2, 3, 4, 5, 6, 7, 8, 1, 2, 3, 4, 5, 6, 7, 8, 1, 2, 3, 4, 5, 6, 7, 8, 1, 2, 3, 4, 5, 6, 7, 1, 2, 3, 4, 5, 6, 7, 8, 1, 1, 2, 3, 4, 5, 6, 7, 8, 1, 1, 2, 3, 4, 5, 6, 7, 8, 1, 2, 3, 4, 5, 6, 7, 8, 1, 2, 3, 4, 5, 6, 7, 8, 1, 2, 3, 4, 5, 6, 7, 8, 1, 2, 3, 1, 2, 3, 1, 2, 3, 4, 5, 6, 7, 1, 2, 3, 4, 5, 6, 7, 8, 3, 1, 2, 1, 2, 3, 4, 5, 6, 1, 1, 2, 3, 4, 5, 6, 7, 8, 1, 2, 3, 4, 5, 6, 7, 8, 1, 2, 3, 4, 5, 6, 7, 8, 1, 2, 3, 4, 5, 6, 7, 8, 1, 2, 3, 4, 5, 6, 7, 8, 1, 2, 3, 4, 5, 6, 7, 8, 2, 1, 2, 3, 4, 5, 6, 7, 8, 1, 1, 2, 3, 4, 5, 6, 1, 1, 2, 3, 4, 5, 6, 7, 8, 1, 2, 3, 4, 5, 1, 1, 1, 1, 2, 3, 4, 5, 6, 7, 8, 1, 2, 3, 4, 5, 6, 7, 8, 1, 1, 3, 1, 2, 3, 4, 5, 6, 7, 8, 1, 2, 3, 4, 5, 6, 7, 8, 1, 2, 3, 4, 5, 6, 7, 8, 1, 2, 1, 2, 3, 4, 1, 2, 1, 2, 3, 4, 5, 6, 7, 8, 1, 2, 3, 4, 5, 6, 7, 8, 1, 2, 3, 4, 5, 6, 7, 8, 1, 2, 3, 4, 5, 6, 7, 8, 1, 2, 3, 4, 5, 6, 7, 8, 1, 2, 3, 4, 5, 6, 7, 8, 1, 2, 3, 4, 5, 6, 7, 8, 1, 2, 3, 4, 5, 6, 7, 8, 1, 2, 3, 4, 5, 6, 7, 8, 1, 2, 3, 4, 5, 6, 7, 1, 2, 3, 4, 5, 6, 7, 8, 1, 2, 4, 2, 1, 2, 3, 4, 5, 6, 7, 8, 1, 2, 3, 4, 5, 6, 7, 8, 4, 1, 2, 3, 4, 5, 6, 7, 8, 1, 2, 3, 4, 5, 6, 7, 1, 2, 3, 4, 5, 6, 7, 8, 1, 2, 3, 4, 5, 6, 7, 8, 1, 3, 5, 1, 2, 3, 4, 5, 6, 1, 2, 3, 4, 5, 6, 7, 8, 1, 2, 3, 4, 5, 6, 7, 8, 1, 1, 2, 3, 4, 5, 6, 7, 8, 1, 2, 3, 4, 5, 6, 7, 1, 2, 3, 4, 5, 6, 7, 8, 1, 2, 3, 4, 5, 6, 7, 8, 4, 1, 2, 3, 4, 5, 6, 7, 8, 1, 2, 3, 4, 5, 6, 7, 8, 1, 2, 3, 4, 5, 6, 7, 8, 1, 2, 3, 5, 1, 2, 3, 4, 5, 6, 7, 8, 1, 2, 3, 4, 5, 6, 7, 8, 1, 2, 3, 4, 5, 6, 7, 8, 1, 1, 2, 3, 4, 5, 6, 7, 8, 1, 2, 3, 4, 5, 6, 7, 8, 1, 2, 3, 4, 5, 6, 7, 8, 1, 2, 3, 4, 5, 6, 7, 8, 1, 2, 1, 2, 3, 4, 2, 1, 2, 3, 4, 5, 6, 7, 8, 1, 3, 1, 2, 3, 4, 5, 6, 7, 8, 1, 2, 3, 4, 5, 6, 7, 8, 1, 2, 3, 4, 5, 6, 7, 8, 1, 2, 3, 4, 5, 1, 2, 3, 4, 5, 6, 7, 8, 1, 2, 3, 4, 5, 6, 7, 8, 1, 2, 3, 4, 5, 6, 7, 8, 1, 2, 3, 4, 5, 6, 7, 8, 3, 1, 1, 2, 3, 4, 5, 6, 7, 8, 1, 2, 3, 4, 5, 6, 7, 8, 1, 2, 3, 4, 5, 6, 7, 8, 1, 2, 3, 4, 5, 6, 7, 8, 1, 2, 3, 4, 5, 6, 7, 8, 1, 2, 3, 4, 5, 6, 7, 8, 1, 2, 3, 4, 5, 6, 7, 8, 4, 1, 2, 3, 4, 5, 6, 7, 8, 1, 2, 1, 2, 3, 1, 2, 3, 4, 5, 6, 7, 8, 1, 2, 3, 4, 5, 6, 7, 8, 1, 2, 3, 4, 5, 6, 7, 8, 1, 1, 2, 3, 4, 5, 6, 7, 8, 1, 3, 1, 2, 3, 4, 5, 6, 7, 8, 1, 2, 3, 5, 1, 2, 1, 2, 3, 4, 5, 6, 7, 8, 1, 2, 3, 5, 6, 1, 2, 3, 4, 5, 6, 1, 2, 3, 6, 1, 2, 3, 4, 5, 6, 7, 8, 1, 2, 3, 4, 5, 6, 7, 8, 1, 1, 2, 3, 4, 5, 6, 7, 8, 1, 2, 3, 4, 5, 6, 7, 8, 1, 2, 3, 4, 5, 6, 7, 8, 1, 2, 3, 4, 5, 6, 7, 1, 2, 3, 4, 5, 6, 7, 8, 1, 2, 3, 4, 5, 6, 7, 8, 1, 2, 3, 4, 5, 6, 7, 8, 1, 1, 2, 3, 4, 5, 6, 7, 8, 1, 2, 3, 4, 5, 6, 7, 8, 1, 2, 3, 4, 5, 6, 1, 2, 3, 1, 2, 3, 4, 5, 6, 7, 8, 1, 2, 3, 4, 5, 6, 7, 1, 2, 1, 2, 3, 4, 5, 6, 7, 8, 1, 2, 3, 4, 5, 6, 7, 8, 1, 2, 3, 4, 5, 6, 7, 8, 3, 1, 2, 3, 4, 5, 6, 7, 8, 1, 1, 2, 3, 4, 5, 6, 7, 8, 1, 2, 3, 4, 5, 6, 7, 8, 1, 2, 3, 4, 5, 6, 7, 8, 1, 2, 3, 4, 5, 6, 7, 8, 1, 2, 3, 4, 5, 6, 7, 8, 1, 1, 2, 3, 4, 5, 6, 7, 8, 1, 2, 3, 4, 5, 6, 7, 8, 1, 2, 3, 4, 5, 6, 7, 8, 1, 2, 3, 4, 5, 6, 7, 8, 1, 1, 2, 3, 4, 5, 6, 7, 8, 1, 3, 1, 2, 3, 4, 5, 6, 1, 2, 3, 4, 5, 6, 7, 1, 2, 3, 4, 5, 6, 7, 1, 1, 2, 3, 4, 5, 6, 7, 8, 1, 1, 2, 1, 2, 3, 4, 5, 6, 7, 8, 1, 2, 3, 1, 2, 3, 4, 5, 6, 1, 2, 3, 4, 5, 6, 7, 8, 1, 2, 3, 4, 5, 6, 7, 8, 1, 2, 3, 4, 5, 6, 7, 8, 1, 1, 2, 3, 4, 5, 6, 7, 8, 1, 2, 3, 4, 1, 1, 1, 2, 3, 4, 5, 6, 7, 1, 2, 3, 4, 1, 2, 3, 4, 5, 6, 7, 1, 2, 3, 4, 5, 6, 7, 8, 1, 2, 3, 4, 5, 6, 7, 8, 1, 2, 3, 4, 5, 6, 7, 8, 1, 2, 3, 4, 5, 6, 1, 2, 3, 4, 5, 6, 7, 8, 1, 2, 3, 4, 5, 6, 7, 8, 1, 2, 3, 4, 5, 6, 7, 8, 1, 2, 3, 5, 1, 1, 2, 3, 4, 1, 2, 3, 4, 5, 6, 7, 1, 1, 1, 2, 3, 4, 5, 6, 7, 8, 1, 2, 3, 4, 5, 1, 2, 3, 4, 5, 6, 7, 8, 1, 1, 2, 3, 4, 5, 6, 7, 8, 1, 1, 2, 3, 4, 5, 6, 7, 8, 1, 2, 3, 4, 5, 6, 7, 1, 2, 3, 4, 5, 6, 7, 8, 1, 2, 3, 4, 5, 6, 7, 8, 1, 2, 3, 4, 5, 6, 7, 8, 1, 1, 2, 3, 4, 5, 6, 1, 2, 3, 4, 5, 6, 7, 8, 1, 1, 2, 3, 4, 5, 6, 7, 8, 1, 1, 2, 3, 4, 5, 6, 7, 8, 1, 2, 3, 4, 5, 6, 7, 8, 1, 2, 3, 4, 5, 6, 7, 8, 1, 2, 3, 4, 5, 6, 7, 8, 1, 2, 3, 4, 5, 6, 7, 8, 1, 2, 3, 4, 5, 6, 7, 8, 1, 2, 3, 4, 5, 1, 2, 3, 4, 5, 6, 7, 1, 1, 1, 1, 2, 3, 4, 5, 6, 7, 1, 2, 3, 2, 3, 4, 1, 2, 1, 2, 3, 4, 5, 6, 7, 8, 1, 2, 3, 4, 5, 6, 7, 1, 2, 3, 4, 5, 6, 7, 8, 1, 1, 2, 3, 4, 5, 6, 7, 8, 1, 2, 3, 4, 5, 6, 7, 8, 2, 3, 1, 2, 1, 2, 4, 1, 2, 3, 4, 5, 6, 7, 8, 1, 2, 3, 4, 5, 6, 7, 8, 4, 1, 2, 3, 4, 5, 6, 7, 8, 1, 2, 3, 4, 5, 6, 7, 8, 1, 1, 2, 3, 4, 5, 6, 7, 8, 1, 2, 3, 4, 5, 6, 7, 8, 1, 2, 3, 5, 1, 2, 3, 4, 5, 6, 7, 8, 1, 2, 3, 4, 5, 6, 7, 8, 1, 2, 3, 4, 5, 6, 7, 8, 1, 2, 3, 4, 5, 6, 7, 8, 1, 2, 3, 4, 5, 6, 7, 8, 1, 2, 3, 4, 5, 6, 7, 8, 1, 2, 3, 4, 1, 2, 3, 4, 5, 6, 7, 8, 1, 2, 3, 4, 6, 1, 2, 3, 4, 5, 6, 7, 8, 1, 2, 3, 4, 5, 6, 7, 8], \"Freq\": [0.22596563398838043, 0.2152053713798523, 0.1829245537519455, 0.10760268568992615, 0.11836294829845428, 0.07532187551259995, 0.053801342844963074, 0.02152053639292717, 0.1525486409664154, 0.3050972819328308, 0.1525486409664154, 0.1525486409664154, 0.1525486409664154, 0.1525486409664154, 0.5864497423171997, 0.22035281360149384, 0.16850510239601135, 0.24627667665481567, 0.10369544476270676, 0.09073351323604584, 0.09073351323604584, 0.05184772238135338, 0.02592386119067669, 0.21062371134757996, 0.19942033290863037, 0.22630846500396729, 0.1299593150615692, 0.0941084697842598, 0.07842372357845306, 0.03361016884446144, 0.02912881225347519, 0.27271753549575806, 0.2380080223083496, 0.16363051533699036, 0.11404550820589066, 0.0694190040230751, 0.0694190040230751, 0.0495850034058094, 0.0247925017029047, 0.21762341260910034, 0.19202066957950592, 0.19202066957950592, 0.1536165326833725, 0.10241102427244186, 0.07680826634168625, 0.038404133170843124, 0.025602756068110466, 0.2384815663099289, 0.20867136120796204, 0.1490509808063507, 0.08943058550357819, 0.08943058550357819, 0.08943058550357819, 0.059620391577482224, 0.029810195788741112, 0.2803902328014374, 0.1936027705669403, 0.206954687833786, 0.09346340596675873, 0.07343553751707077, 0.07343553751707077, 0.06008362025022507, 0.020027872174978256, 0.25061818957328796, 0.20049454271793365, 0.23391030728816986, 0.09189333766698837, 0.09189333766698837, 0.07518545538187027, 0.03341575711965561, 0.025061817839741707, 0.6054837107658386, 0.28847604990005493, 0.20573484897613525, 0.15877363085746765, 0.09615868330001831, 0.11404866725206375, 0.07155995070934296, 0.038016222417354584, 0.02683497965335846, 0.1957288235425949, 0.1957288235425949, 0.1957288235425949, 0.1957288235425949, 0.1957288235425949, 0.23376861214637756, 0.19480718672275543, 0.2727300524711609, 0.11688430607318878, 0.07792287319898605, 0.07792287319898605, 0.03896143659949303, 0.03896143659949303, 0.24555417895317078, 0.24555417895317078, 0.24555417895317078, 0.24555417895317078, 0.24555417895317078, 0.316426157951355, 0.1582130789756775, 0.1582130789756775, 0.1582130789756775, 0.1582130789756775, 0.1582130789756775, 0.3706604540348053, 0.3706604540348053, 0.41186946630477905, 0.41186946630477905, 0.9001555442810059, 0.29135894775390625, 0.2044624239206314, 0.13290058076381683, 0.12267746031284332, 0.08689653128385544, 0.10734277218580246, 0.03066936507821083, 0.025557802990078926, 0.5639458894729614, 0.3475424349308014, 0.13515539467334747, 0.13515539467334747, 0.09653956443071365, 0.11584747582674026, 0.09653956443071365, 0.01930791325867176, 0.03861582651734352, 0.42115819454193115, 0.29690343141555786, 0.17814205586910248, 0.17814205586910248, 0.11876137554645538, 0.05938068777322769, 0.05938068777322769, 0.05938068777322769, 0.05938068777322769, 0.16125079989433289, 0.16125079989433289, 0.24187619984149933, 0.16125079989433289, 0.08062539994716644, 0.08062539994716644, 0.32144224643707275, 0.32144224643707275, 0.6412137746810913, 0.3143808841705322, 0.3143808841705322, 0.3143808841705322, 0.39463868737220764, 0.39463868737220764, 0.1830013394355774, 0.3660026788711548, 0.0915006697177887, 0.13725100457668304, 0.0915006697177887, 0.0915006697177887, 0.04575033485889435, 0.24502845108509064, 0.24502845108509064, 0.24502845108509064, 0.24502845108509064, 0.20897197723388672, 0.20897197723388672, 0.20897197723388672, 0.10448598861694336, 0.15672898292541504, 0.05224299430847168, 0.05224299430847168, 0.2083122879266739, 0.2083122879266739, 0.17359356582164764, 0.10415614396333694, 0.1388748586177826, 0.0694374293088913, 0.0694374293088913, 0.03471871465444565, 0.2539531886577606, 0.285697340965271, 0.1428486704826355, 0.09523244202136993, 0.06348829716444016, 0.07936037331819534, 0.04761622101068497, 0.01587207429111004, 0.1859373152256012, 0.22312477231025696, 0.1859373152256012, 0.1859373152256012, 0.11156238615512848, 0.07437492161989212, 0.03718746080994606, 0.03718746080994606, 0.1532725691795349, 0.2107497751712799, 0.1877588927745819, 0.18009527027606964, 0.10729079693555832, 0.08429991453886032, 0.045981768518686295, 0.030654512345790863, 0.21714000403881073, 0.21714000403881073, 0.16285499930381775, 0.16285499930381775, 0.10857000201940536, 0.10857000201940536, 0.05428500100970268, 0.31184661388397217, 0.31184661388397217, 0.31147152185440063, 0.31147152185440063, 0.31147152185440063, 0.20726725459098816, 0.16581380367279053, 0.20726725459098816, 0.16581380367279053, 0.10363362729549408, 0.08290690183639526, 0.04145345091819763, 0.020726725459098816, 0.41327235102653503, 0.1542811542749405, 0.1542811542749405, 0.308562308549881, 0.1542811542749405, 0.1542811542749405, 0.1542811542749405, 0.5954485535621643, 0.21490749716758728, 0.16118061542510986, 0.241770938038826, 0.08059030771255493, 0.10745374858379364, 0.08059030771255493, 0.05372687429189682, 0.02686343714594841, 0.383766233921051, 0.18477633595466614, 0.15634919703006744, 0.0852813869714737, 0.0568542554974556, 0.0568542554974556, 0.04264069348573685, 0.0284271277487278, 0.2740384042263031, 0.21923071146011353, 0.10961535573005676, 0.10961535573005676, 0.10961535573005676, 0.16442303359508514, 0.05480767786502838, 0.30082404613494873, 0.2206042855978012, 0.14038455486297607, 0.08021974563598633, 0.10027467459440231, 0.08021974563598633, 0.06016480550169945, 0.020054936408996582, 0.22332066297531128, 0.2084326148033142, 0.2084326148033142, 0.1042163074016571, 0.08436558395624161, 0.08932826668024063, 0.054589495062828064, 0.019850725308060646, 0.22350752353668213, 0.22350752353668213, 0.17091751098632812, 0.11832750588655472, 0.10518001019954681, 0.09203250706195831, 0.039442501962184906, 0.039442501962184906, 0.1831088811159134, 0.20345431566238403, 0.26449060440063477, 0.10172715783119202, 0.08138172328472137, 0.08138172328472137, 0.04069086164236069, 0.020345430821180344, 0.3115570843219757, 0.15577854216098785, 0.15577854216098785, 0.15577854216098785, 0.15577854216098785, 0.18787245452404022, 0.28180867433547974, 0.18787245452404022, 0.09393622726202011, 0.09393622726202011, 0.09393622726202011, 0.215758815407753, 0.18169163167476654, 0.19304735958576202, 0.19304735958576202, 0.0681343600153923, 0.0681343600153923, 0.045422907918691635, 0.022711453959345818, 0.41800355911254883, 0.2218373864889145, 0.2218373864889145, 0.2218373864889145, 0.11091869324445724, 0.11091869324445724, 0.11091869324445724, 0.6396164298057556, 0.3981465995311737, 0.24518007040023804, 0.1552807092666626, 0.21248939633369446, 0.08172669261693954, 0.1389353722333908, 0.09807202965021133, 0.04903601482510567, 0.024518007412552834, 0.40006211400032043, 0.2953340411186218, 0.20107848942279816, 0.18851108849048615, 0.11310665309429169, 0.07540443539619446, 0.05026962235569954, 0.05026962235569954, 0.02513481117784977, 0.30955275893211365, 0.2084742933511734, 0.17056988179683685, 0.09476104378700256, 0.0694914311170578, 0.08212623745203018, 0.031587015837430954, 0.025269612669944763, 0.19667698442935944, 0.19667698442935944, 0.26223596930503845, 0.13111798465251923, 0.06555899232625961, 0.06555899232625961, 0.06555899232625961, 0.06555899232625961, 0.20721344649791718, 0.2702783942222595, 0.1982041597366333, 0.10811135917901993, 0.06306496262550354, 0.09009280055761337, 0.045046400278806686, 0.018018560484051704, 0.23297813534736633, 0.23297813534736633, 0.1553187519311905, 0.1553187519311905, 0.07765937596559525, 0.07765937596559525, 0.07765937596559525, 0.298565149307251, 0.298565149307251, 0.298565149307251, 0.40475139021873474, 0.20877334475517273, 0.2319703847169876, 0.1391822248697281, 0.16237926483154297, 0.09278815239667892, 0.09278815239667892, 0.04639407619833946, 0.02319703809916973, 0.23653344810009003, 0.25776079297065735, 0.12433168292045593, 0.10916928201913834, 0.09400688111782074, 0.11523424088954926, 0.04245471954345703, 0.021227359771728516, 0.40101170539855957, 0.21101023256778717, 0.21101023256778717, 0.31341874599456787, 0.20251673460006714, 0.15912029147148132, 0.10125836730003357, 0.07714922726154327, 0.08197105675935745, 0.03375278785824776, 0.024109134450554848, 0.3990951180458069, 0.3990951180458069, 0.2024095356464386, 0.2024095356464386, 0.2024095356464386, 0.06746984273195267, 0.13493968546390533, 0.06746984273195267, 0.06746984273195267, 0.2193305343389511, 0.18799760937690735, 0.18799760937690735, 0.10966526716947556, 0.14099819958209991, 0.0783323347568512, 0.06266586482524872, 0.03133293241262436, 0.2767137587070465, 0.20753531157970428, 0.13835687935352325, 0.13835687935352325, 0.06917843967676163, 0.06917843967676163, 0.06917843967676163, 0.564110517501831, 0.1657237857580185, 0.22096504271030426, 0.1657237857580185, 0.22096504271030426, 0.11048252135515213, 0.055241260677576065, 0.055241260677576065, 0.3783422112464905, 0.28952619433403015, 0.28952619433403015, 0.28952619433403015, 0.3235732614994049, 0.1875787079334259, 0.14537349343299866, 0.10785775631666183, 0.09613408893346786, 0.08909988403320312, 0.03751574084162712, 0.014068403281271458, 0.26912644505500793, 0.20184482634067535, 0.20184482634067535, 0.06728161126375198, 0.06728161126375198, 0.13456322252750397, 0.06728161126375198, 0.27922117710113525, 0.19330698251724243, 0.12887132167816162, 0.09665349125862122, 0.12887132167816162, 0.08591420948505402, 0.04295710474252701, 0.032217830419540405, 0.29494035243988037, 0.1862781047821045, 0.20180128514766693, 0.09313905239105225, 0.0776158794760704, 0.0776158794760704, 0.062092702835798264, 0.015523175708949566, 0.30184873938560486, 0.18813858926296234, 0.167464017868042, 0.11577759683132172, 0.080630823969841, 0.06822608411312103, 0.06202371418476105, 0.014472199603915215, 0.6071868538856506, 0.40379801392555237, 0.37970244884490967, 0.37970244884490967, 0.2421794980764389, 0.1614529937505722, 0.17759829759597778, 0.1614529937505722, 0.09687180072069168, 0.09687180072069168, 0.04843590036034584, 0.01614530012011528, 0.2905554473400116, 0.19901056587696075, 0.151248037815094, 0.1074657067656517, 0.08358444273471832, 0.09154485911130905, 0.05174274742603302, 0.02388126775622368, 0.24499742686748505, 0.21777547895908356, 0.13610967993736267, 0.16333161294460297, 0.08166580647230148, 0.08166580647230148, 0.027221934869885445, 0.027221934869885445, 0.255532443523407, 0.20652621984481812, 0.19952532649040222, 0.09451200067996979, 0.09451200067996979, 0.08401066809892654, 0.04200533404946327, 0.024503111839294434, 0.1817552000284195, 0.1817552000284195, 0.1817552000284195, 0.1817552000284195, 0.1817552000284195, 0.437886118888855, 0.21578888595104218, 0.21578888595104218, 0.21578888595104218, 0.10789444297552109, 0.10789444297552109, 0.10789444297552109, 0.2415778934955597, 0.23034171760082245, 0.14045226573944092, 0.11236181110143661, 0.106743723154068, 0.10112563520669937, 0.039326634258031845, 0.022472362965345383, 0.291251540184021, 0.1456257700920105, 0.291251540184021, 0.1456257700920105, 0.1456257700920105, 0.1456257700920105, 0.278091162443161, 0.1390455812215805, 0.278091162443161, 0.1390455812215805, 0.25032028555870056, 0.2064044326543808, 0.21518760919570923, 0.10978959500789642, 0.08783167600631714, 0.06148217245936394, 0.048307422548532486, 0.021957919001579285, 0.636925995349884, 0.6432026624679565, 0.5632099509239197, 0.2513783872127533, 0.2513783872127533, 0.2513783872127533, 0.2513783872127533, 0.2513783872127533, 0.5512783527374268, 0.1711541712284088, 0.31378263235092163, 0.142628476023674, 0.0855770856142044, 0.11410278081893921, 0.0855770856142044, 0.057051390409469604, 0.028525695204734802, 0.2207941710948944, 0.2547625005245209, 0.19531792402267456, 0.06793666630983353, 0.10190500319004059, 0.08916687965393066, 0.050952501595020294, 0.01698416657745838, 0.24112476408481598, 0.1753634661436081, 0.24112476408481598, 0.07672151178121567, 0.09864194691181183, 0.07672151178121567, 0.054801080375909805, 0.03288064897060394, 0.15704454481601715, 0.15704454481601715, 0.15704454481601715, 0.15704454481601715, 0.15704454481601715, 0.15704454481601715, 0.2901187837123871, 0.20147137343883514, 0.18736837804317474, 0.10879454761743546, 0.08260326832532883, 0.0705149844288826, 0.03022070601582527, 0.02820599265396595, 0.2828724980354309, 0.1990584284067154, 0.23048870265483856, 0.07333731651306152, 0.08381407707929611, 0.07333731651306152, 0.041907038539648056, 0.020953519269824028, 0.313337117433548, 0.10444570332765579, 0.1740761697292328, 0.10444570332765579, 0.139260932803154, 0.10444570332765579, 0.0348152332007885, 0.0348152332007885, 0.2645483911037445, 0.17636559903621674, 0.17636559903621674, 0.08818279951810837, 0.08818279951810837, 0.17636559903621674, 0.08818279951810837, 0.20365074276924133, 0.25456342101097107, 0.17819440364837646, 0.10182537138462067, 0.10182537138462067, 0.0763690322637558, 0.05091268569231033, 0.05091268569231033, 0.6397362351417542, 0.23733261227607727, 0.2312471568584442, 0.15822173655033112, 0.12779448926448822, 0.07911086827516556, 0.10953813046216965, 0.04259816184639931, 0.018256355077028275, 0.609306812286377, 0.2072010040283203, 0.19629569351673126, 0.26172760128974915, 0.08724252879619598, 0.09814784675836563, 0.06543190032243729, 0.06543190032243729, 0.021810632199048996, 0.2808513641357422, 0.15319165587425232, 0.1404256820678711, 0.11489373445510864, 0.1404256820678711, 0.07659582793712616, 0.06382985413074493, 0.03829791396856308, 0.2255001813173294, 0.2255001813173294, 0.20879647135734558, 0.10857416689395905, 0.08351858705282211, 0.05846301093697548, 0.05846301093697548, 0.016703717410564423, 0.3921535611152649, 0.13071785867214203, 0.16339731216430664, 0.09803839027881622, 0.09803839027881622, 0.06535892933607101, 0.03267946466803551, 0.03267946466803551, 0.21173866093158722, 0.21173866093158722, 0.21173866093158722, 0.29594704508781433, 0.29594704508781433, 0.29594704508781433, 0.2008373886346817, 0.10041869431734085, 0.2008373886346817, 0.10041869431734085, 0.10041869431734085, 0.10041869431734085, 0.10041869431734085, 0.1768798679113388, 0.20540888607501984, 0.20540888607501984, 0.10841023921966553, 0.10841023921966553, 0.11982184648513794, 0.05705802142620087, 0.022823208943009377, 0.42761221528053284, 0.38683658838272095, 0.38683658838272095, 0.17864419519901276, 0.3572883903980255, 0.17864419519901276, 0.08932209759950638, 0.08932209759950638, 0.08932209759950638, 0.6461467742919922, 0.2487468719482422, 0.2577377259731293, 0.15883836150169373, 0.07192680239677429, 0.07792070508003235, 0.11987800896167755, 0.0419573038816452, 0.0209786519408226, 0.2773283123970032, 0.17892149090766907, 0.18488553166389465, 0.11033491790294647, 0.10437086969614029, 0.08349668979644775, 0.038766320794820786, 0.02385619841516018, 0.2941996455192566, 0.18260668218135834, 0.16231705248355865, 0.09130334109067917, 0.09130334109067917, 0.08115852624177933, 0.060868892818689346, 0.030434446409344673, 0.24641260504722595, 0.21512211859226227, 0.21512211859226227, 0.10951671749353409, 0.07822622358798981, 0.07822622358798981, 0.03520180284976959, 0.02346786856651306, 0.21997550129890442, 0.18997883796691895, 0.22497494518756866, 0.09498941898345947, 0.08499053120613098, 0.10998775064945221, 0.04999443143606186, 0.02499721571803093, 0.34417152404785156, 0.1569422036409378, 0.1624489575624466, 0.09912139922380447, 0.060574185103178024, 0.09086128324270248, 0.060574185103178024, 0.02478034980595112, 0.3944632112979889, 0.25998979806900024, 0.20943623781204224, 0.14443878829479218, 0.10832908749580383, 0.12277296930551529, 0.08666326850652695, 0.043331634253263474, 0.021665817126631737, 0.660862922668457, 0.2035188376903534, 0.2035188376903534, 0.3052782714366913, 0.1017594188451767, 0.1017594188451767, 0.1017594188451767, 0.5746382474899292, 0.16115769743919373, 0.1772734671831131, 0.22562076151371002, 0.14504192769527435, 0.09669461846351624, 0.09669461846351624, 0.06446307897567749, 0.032231539487838745, 0.14599263668060303, 0.29198527336120605, 0.14599263668060303, 0.14599263668060303, 0.14599263668060303, 0.6422086954116821, 0.4331672191619873, 0.4260912239551544, 0.36079370975494385, 0.18039685487747192, 0.128854900598526, 0.07731293886899948, 0.07731293886899948, 0.07731293886899948, 0.05154195800423622, 0.02577097900211811, 0.21864449977874756, 0.21864449977874756, 0.2623733878135681, 0.0874577984213829, 0.0874577984213829, 0.04372889921069145, 0.04372889921069145, 0.04372889921069145, 0.6302250623703003, 0.40010160207748413, 0.40010160207748413, 0.20718416571617126, 0.24137960374355316, 0.18103471398353577, 0.12270130217075348, 0.09252884984016418, 0.08649435639381409, 0.05229891464114189, 0.016091974452137947, 0.260926753282547, 0.19880133867263794, 0.19258880615234375, 0.13667592406272888, 0.07455050200223923, 0.08076304942369461, 0.037275251001119614, 0.018637625500559807, 0.24630416929721832, 0.23932389914989471, 0.15456335246562958, 0.11966194957494736, 0.08974646031856537, 0.08176899701356888, 0.049859143793582916, 0.01894647441804409, 0.3833852708339691, 0.3833852708339691, 0.3078121542930603, 0.3078121542930603, 0.3078121542930603, 0.3078121542930603, 0.5421465039253235, 0.27107325196266174, 0.25712817907333374, 0.2499857246875763, 0.14284898340702057, 0.11427918821573257, 0.10713674128055573, 0.07142449170351028, 0.03571224585175514, 0.014284898526966572, 0.15786835551261902, 0.31573671102523804, 0.15786835551261902, 0.09472101926803589, 0.06314734369516373, 0.12629468739032745, 0.06314734369516373, 0.03157367184758186, 0.23168179392814636, 0.1985843926668167, 0.1985843926668167, 0.09929219633340836, 0.0661948025226593, 0.09929219633340836, 0.09929219633340836, 0.03309740126132965, 0.23834353685379028, 0.16948874294757843, 0.22245396673679352, 0.11122698336839676, 0.09533742070198059, 0.0900408923625946, 0.047668710350990295, 0.026482615619897842, 0.2558419704437256, 0.23616181313991547, 0.15744121372699738, 0.07872060686349869, 0.07872060686349869, 0.09840075671672821, 0.05904045328497887, 0.039360303431749344, 0.21573016047477722, 0.25168517231941223, 0.18576763570308685, 0.10786508023738861, 0.06591755151748657, 0.08988756686449051, 0.04794003441929817, 0.035955026745796204, 0.21707487106323242, 0.18279989063739777, 0.18279989063739777, 0.1485249102115631, 0.0799749493598938, 0.12567491829395294, 0.034274980425834656, 0.034274980425834656, 0.24602481722831726, 0.2921544909477234, 0.16914206743240356, 0.09225931018590927, 0.061506204307079315, 0.0768827572464943, 0.046129655092954636, 0.015376551076769829, 0.2168371081352234, 0.173469677567482, 0.173469677567482, 0.14455807209014893, 0.10119064897298813, 0.10119064897298813, 0.05782322585582733, 0.028911612927913666, 0.22570809721946716, 0.30094411969184875, 0.07523602992296219, 0.07523602992296219, 0.07523602992296219, 0.07523602992296219, 0.07523602992296219, 0.15564265847206116, 0.23945024609565735, 0.2155052274465561, 0.10775261372327805, 0.11972512304782867, 0.07183507084846497, 0.05986256152391434, 0.023945024237036705, 0.32058778405189514, 0.32058778405189514, 0.32058778405189514, 0.4100726544857025, 0.16456076502799988, 0.19747291505336761, 0.23038506507873535, 0.09873645752668381, 0.13164861500263214, 0.13164861500263214, 0.032912153750658035, 0.032912153750658035, 0.28411799669265747, 0.2051963359117508, 0.18941199779510498, 0.08681383728981018, 0.06313733011484146, 0.07892166823148727, 0.05524516850709915, 0.03156866505742073, 0.4200286567211151, 0.19107836484909058, 0.2547711431980133, 0.1486165076494217, 0.1486165076494217, 0.10615465044975281, 0.08492372184991837, 0.04246186092495918, 0.02123093046247959, 0.22221294045448303, 0.33331942558288574, 0.16665971279144287, 0.05555323511362076, 0.05555323511362076, 0.11110647022724152, 0.05555323511362076, 0.26812246441841125, 0.20624805986881256, 0.17874830961227417, 0.08249922096729279, 0.08249922096729279, 0.10312402993440628, 0.05499948188662529, 0.034374676644802094, 0.20670323073863983, 0.2985713481903076, 0.16076917946338654, 0.1378021538257599, 0.05741756409406662, 0.05741756409406662, 0.045934051275253296, 0.011483512818813324, 0.3123745918273926, 0.3123745918273926, 0.3123745918273926, 0.27599871158599854, 0.36799827218055725, 0.18399913609027863, 0.09199956804513931, 0.09199956804513931, 0.09199956804513931, 0.23819026350975037, 0.21653659641742706, 0.15879350900650024, 0.09383253008127213, 0.09383253008127213, 0.12992195785045624, 0.050525207072496414, 0.028871547430753708, 0.17850343883037567, 0.32725632190704346, 0.17850343883037567, 0.08925171941518784, 0.08925171941518784, 0.08925171941518784, 0.059501148760318756, 0.029750574380159378, 0.4301883280277252, 0.25469622015953064, 0.24606245756149292, 0.1338234394788742, 0.12087278813123703, 0.11655590683221817, 0.06907016783952713, 0.04316885396838188, 0.017267541959881783, 0.2819347083568573, 0.09397824108600616, 0.18795648217201233, 0.09397824108600616, 0.09397824108600616, 0.18795648217201233, 0.09397824108600616, 0.23701660335063934, 0.19751383364200592, 0.2449171543121338, 0.07900553196668625, 0.09480664134025574, 0.07900553196668625, 0.04740332067012787, 0.03160221502184868, 0.24405546486377716, 0.27456238865852356, 0.16778813302516937, 0.09914752840995789, 0.06101386621594429, 0.08389406651258469, 0.04576040059328079, 0.022880200296640396, 0.42189374566078186, 0.2141498327255249, 0.19273485243320465, 0.1713198721408844, 0.16061237454414368, 0.07495243847370148, 0.09636742621660233, 0.06424494832754135, 0.032122474163770676, 0.20571304857730865, 0.2992189824581146, 0.1496094912290573, 0.09350592643022537, 0.07480474561452866, 0.07480474561452866, 0.07480474561452866, 0.018701186403632164, 0.2468651980161667, 0.21943573653697968, 0.14629049599170685, 0.10971786826848984, 0.12800417840480804, 0.09143155813217163, 0.05485893413424492, 0.018286311998963356, 0.21281328797340393, 0.21281328797340393, 0.21281328797340393, 0.21281328797340393, 0.20643821358680725, 0.24772585928440094, 0.16515056788921356, 0.12386292964220047, 0.08257528394460678, 0.08257528394460678, 0.08257528394460678, 0.04128764197230339, 0.22859367728233337, 0.18825362622737885, 0.24204036593437195, 0.1075734943151474, 0.09412681311368942, 0.06723343580961227, 0.0537867471575737, 0.02689337357878685, 0.22033192217350006, 0.19208423793315887, 0.18643470108509064, 0.10734119266271591, 0.09604211896657944, 0.10169165581464767, 0.056495364755392075, 0.028247682377696037, 0.6409858465194702, 0.2222943902015686, 0.2796606719493866, 0.17209887504577637, 0.10756180435419083, 0.07170786708593369, 0.08604943752288818, 0.04302471876144409, 0.014341573230922222, 0.25391653180122375, 0.17774158716201782, 0.22535093128681183, 0.11108849197626114, 0.07934892177581787, 0.08252287656068802, 0.034913524985313416, 0.02856561169028282, 0.20611652731895447, 0.20611652731895447, 0.20611652731895447, 0.10305826365947723, 0.07729370146989822, 0.12882283329963684, 0.05152913182973862, 0.02576456591486931, 0.3674262762069702, 0.16330057382583618, 0.16330057382583618, 0.08165028691291809, 0.08165028691291809, 0.08165028691291809, 0.040825143456459045, 0.040825143456459045, 0.30428487062454224, 0.30428487062454224, 0.33351317048072815, 0.16675658524036407, 0.16675658524036407, 0.16675658524036407, 0.595333456993103, 0.3053908050060272, 0.17031410336494446, 0.21729731559753418, 0.10571220517158508, 0.06460190564393997, 0.08809350430965424, 0.035237401723861694, 0.017618700861930847, 0.5744549632072449, 0.4277474880218506, 0.18824484944343567, 0.24361097812652588, 0.16609840095043182, 0.0996590405702591, 0.0996590405702591, 0.12180548906326294, 0.05536613240838051, 0.033219680190086365, 0.20783017575740814, 0.20783017575740814, 0.25978773832321167, 0.10391508787870407, 0.051957543939352036, 0.10391508787870407, 0.10391508787870407, 0.051957543939352036, 0.2601473033428192, 0.15608838200569153, 0.20811782777309418, 0.10405891388654709, 0.10405891388654709, 0.052029456943273544, 0.052029456943273544, 0.052029456943273544, 0.16706021130084991, 0.33412042260169983, 0.16706021130084991, 0.16706021130084991, 0.16706021130084991, 0.19063566625118256, 0.20425249636173248, 0.19063566625118256, 0.1293599158525467, 0.11574307829141617, 0.08850941807031631, 0.061275750398635864, 0.01361683290451765, 0.2254597544670105, 0.23139290511608124, 0.17206138372421265, 0.11866302788257599, 0.07713096588850021, 0.09493042528629303, 0.059331513941287994, 0.023732606321573257, 0.261330246925354, 0.18490347266197205, 0.22681492567062378, 0.09614980965852737, 0.09121904522180557, 0.06656525284051895, 0.044376835227012634, 0.02465379610657692, 0.23392561078071594, 0.26316630840301514, 0.11696280539035797, 0.17544421553611755, 0.08772210776805878, 0.08772210776805878, 0.029240701347589493, 0.029240701347589493, 0.4112964868545532, 0.6532986760139465, 0.23605260252952576, 0.2286759614944458, 0.20285770297050476, 0.09220805019140244, 0.09958469122648239, 0.08851972967386246, 0.0331948958337307, 0.022129932418465614, 0.25824180245399475, 0.17918819189071655, 0.20553940534591675, 0.1054048165678978, 0.09486433863639832, 0.06324288994073868, 0.0527024082839489, 0.03689168766140938, 0.2420032024383545, 0.20973610877990723, 0.17746901512145996, 0.08066773414611816, 0.0968012809753418, 0.11293482780456543, 0.032267093658447266, 0.016133546829223633, 0.2047392874956131, 0.2047392874956131, 0.1842653602361679, 0.10919428616762161, 0.11601892858743668, 0.10919428616762161, 0.04094785824418068, 0.027298571541905403, 0.2925854027271271, 0.20724798738956451, 0.14629270136356354, 0.08533740788698196, 0.08533740788698196, 0.12191057950258255, 0.036573175340890884, 0.02438211627304554, 0.3445834517478943, 0.16215690970420837, 0.10134807229042053, 0.08107845485210419, 0.10134807229042053, 0.12161768227815628, 0.040539227426052094, 0.040539227426052094, 0.24503254890441895, 0.23946362733840942, 0.22275686264038086, 0.07239598035812378, 0.0779649019241333, 0.0779649019241333, 0.04455137252807617, 0.016706764698028564, 0.4245177209377289, 0.17829583585262299, 0.2739667594432831, 0.2217826247215271, 0.09567093849182129, 0.09567093849182129, 0.07392754405736923, 0.043486788868904114, 0.017394715920090675, 0.32453644275665283, 0.32453644275665283, 0.3200386166572571, 0.3200386166572571, 0.3200386166572571, 0.30973020195961, 0.21962687373161316, 0.14641791582107544, 0.10136625170707703, 0.07320895791053772, 0.09010333567857742, 0.03942020609974861, 0.022525833919644356, 0.24161404371261597, 0.1832934021949768, 0.1832934021949768, 0.13330429792404175, 0.09997822344303131, 0.07498366385698318, 0.058320630341768265, 0.024994555860757828, 0.2714990973472595, 0.20067325234413147, 0.16526032984256744, 0.10623878240585327, 0.07082585245370865, 0.11804308742284775, 0.059021543711423874, 0.02360861748456955, 0.3728844225406647, 0.23967014253139496, 0.188540518283844, 0.16297569870948792, 0.14380209147930145, 0.10225926339626312, 0.0958680585026741, 0.04793402925133705, 0.01917361281812191, 0.2787993550300598, 0.2787993550300598, 0.2820134162902832, 0.1629410833120346, 0.18174198269844055, 0.11280536651611328, 0.11280536651611328, 0.07520357519388199, 0.04386875405907631, 0.018800893798470497, 0.2148275077342987, 0.2148275077342987, 0.2148275077342987, 0.2148275077342987, 0.38942334055900574, 0.38942334055900574, 0.20335102081298828, 0.23871640861034393, 0.20335102081298828, 0.09725483506917953, 0.07957213371992111, 0.11493752896785736, 0.04420674219727516, 0.017682697623968124, 0.16126534342765808, 0.16126534342765808, 0.16126534342765808, 0.16126534342765808, 0.16126534342765808, 0.17283020913600922, 0.2592453062534332, 0.08641510456800461, 0.2592453062534332, 0.08641510456800461, 0.08641510456800461, 0.31793996691703796, 0.31793996691703796, 0.31793996691703796, 0.31793996691703796, 0.2930772304534912, 0.18650369346141815, 0.15453162789344788, 0.11723089218139648, 0.0799301490187645, 0.09058750420808792, 0.05861544609069824, 0.021314706653356552, 0.28566113114356995, 0.1877201646566391, 0.16323493421077728, 0.07345572113990784, 0.09794095903635025, 0.09794095903635025, 0.06529397517442703, 0.024485239759087563, 0.42020055651664734, 0.1910974681377411, 0.3439754247665405, 0.14332309365272522, 0.09554873406887054, 0.08599385619163513, 0.09554873406887054, 0.03821949288249016, 0.01910974644124508, 0.1920195370912552, 0.21945089101791382, 0.16458816826343536, 0.10972544550895691, 0.13715681433677673, 0.08229408413171768, 0.054862722754478455, 0.027431361377239227, 0.2390918731689453, 0.19730882346630096, 0.1787385791540146, 0.13927681744098663, 0.0882086530327797, 0.09052993357181549, 0.04410432651638985, 0.023212803527712822, 0.187299445271492, 0.187299445271492, 0.2497325986623764, 0.1248662993311882, 0.1248662993311882, 0.0624331496655941, 0.0624331496655941, 0.23366791009902954, 0.17525093257427216, 0.26287639141082764, 0.08762546628713608, 0.08762546628713608, 0.08762546628713608, 0.058416977524757385, 0.029208488762378693, 0.21885614097118378, 0.1673605740070343, 0.2574778199195862, 0.11586501449346542, 0.07724334299564362, 0.11586501449346542, 0.05149556323885918, 0.02574778161942959, 0.21771802008152008, 0.2394898235797882, 0.2068321257829666, 0.09797311574220657, 0.06531541049480438, 0.07620131224393845, 0.06531541049480438, 0.021771803498268127, 0.6416893601417542, 0.2974776327610016, 0.2205437570810318, 0.1436098963022232, 0.08719172328710556, 0.11796526610851288, 0.0718049481511116, 0.04103139787912369, 0.020515698939561844, 0.2811415493488312, 0.18274201452732086, 0.15462785959243774, 0.1405707746744156, 0.08434246480464935, 0.08434246480464935, 0.0702853873372078, 0.014057077467441559, 0.41125088930130005, 0.13708363473415375, 0.13708363473415375, 0.13708363473415375, 0.13708363473415375, 0.13708363473415375, 0.3005974292755127, 0.3005974292755127, 0.3005974292755127, 0.18358734250068665, 0.2639068067073822, 0.18358734250068665, 0.12621629238128662, 0.06884525716304779, 0.08031946420669556, 0.06884525716304779, 0.02294841781258583, 0.12455667555332184, 0.311391681432724, 0.18683500587940216, 0.12455667555332184, 0.06227833777666092, 0.12455667555332184, 0.06227833777666092, 0.2925424873828888, 0.2925424873828888, 0.23566430807113647, 0.2519170045852661, 0.17877981066703796, 0.06501084566116333, 0.12189532816410065, 0.08126354962587357, 0.0487581305205822, 0.016252711415290833, 0.27323856949806213, 0.17305108904838562, 0.15483517944812775, 0.09107951819896698, 0.10018747299909592, 0.12751132249832153, 0.05464771389961243, 0.018215904012322426, 0.2316254824399948, 0.2316254824399948, 0.1351148635149002, 0.1158127412199974, 0.1351148635149002, 0.0772084966301918, 0.0386042483150959, 0.01930212415754795, 0.3327162563800812, 0.2242741733789444, 0.24919353425502777, 0.16612902283668518, 0.09967741370201111, 0.10798386484384537, 0.07475806027650833, 0.05814515799283981, 0.024919353425502777, 0.5593023300170898, 0.30572015047073364, 0.21400411427021027, 0.17578908801078796, 0.09171605110168457, 0.07643003761768341, 0.08407304435968399, 0.038215018808841705, 0.022929012775421143, 0.2378922700881958, 0.2281823754310608, 0.1602131575345993, 0.10195383429527283, 0.12622855603694916, 0.06796921789646149, 0.058259330689907074, 0.02427472174167633, 0.2208109050989151, 0.24841226637363434, 0.16560818254947662, 0.12420613318681717, 0.08740431815385818, 0.09660477191209793, 0.041402045637369156, 0.01840090937912464, 0.2611696422100067, 0.2291896939277649, 0.18654975295066833, 0.07994989305734634, 0.09593987464904785, 0.0692899078130722, 0.047969937324523926, 0.03197995945811272, 0.20824764668941498, 0.2745082676410675, 0.15145283937454224, 0.0946580246090889, 0.08519221842288971, 0.10412382334470749, 0.05679481476545334, 0.03786320984363556, 0.5868415832519531, 0.2682788074016571, 0.23901203274726868, 0.18047846853733063, 0.0829225406050682, 0.0829225406050682, 0.07316694408655167, 0.04877796396613121, 0.019511185586452484, 0.17236097157001495, 0.29301363229751587, 0.18959705531597137, 0.08618048578500748, 0.08618048578500748, 0.12065267562866211, 0.03447219356894493, 0.017236096784472466, 0.35263413190841675, 0.15112890303134918, 0.17631706595420837, 0.10075260698795319, 0.07556445151567459, 0.05037630349397659, 0.05037630349397659, 0.025188151746988297, 0.32265377044677734, 0.21760369837284088, 0.1425679475069046, 0.12005721777677536, 0.06002860888838768, 0.07503575831651688, 0.03751787915825844, 0.03001430444419384, 0.4431605041027069, 0.33214324712753296, 0.21257168054580688, 0.14614301919937134, 0.10628584027290344, 0.07971438020467758, 0.07971438020467758, 0.03985719010233879, 0.02657146006822586, 0.42104464769363403, 0.42104464769363403, 0.4231009781360626, 0.10577524453401566, 0.10577524453401566, 0.10577524453401566, 0.10577524453401566, 0.10577524453401566, 0.15400560200214386, 0.2310083955526352, 0.2310083955526352, 0.15400560200214386, 0.07700280100107193, 0.07700280100107193, 0.07700280100107193, 0.3670283555984497, 0.16683107614517212, 0.16683107614517212, 0.10009864717721939, 0.06673242896795273, 0.06673242896795273, 0.06673242896795273, 0.3750883638858795, 0.3116094470024109, 0.21054691076278687, 0.17685940861701965, 0.09264064580202103, 0.07579688727855682, 0.06737501174211502, 0.050531260669231415, 0.016843752935528755, 0.44184398651123047, 0.6230018734931946, 0.40890610218048096, 0.2266061156988144, 0.2266061156988144, 0.19423381984233856, 0.09711690992116928, 0.09711690992116928, 0.06474460661411285, 0.06474460661411285, 0.03237230330705643, 0.2956816852092743, 0.2956816852092743, 0.2956816852092743, 0.3797072172164917, 0.12656907737255096, 0.12656907737255096, 0.12656907737255096, 0.12656907737255096, 0.12656907737255096, 0.36025944352149963, 0.1441037803888321, 0.18012972176074982, 0.10807783901691437, 0.07205189019441605, 0.07205189019441605, 0.03602594509720802, 0.03602594509720802, 0.283936083316803, 0.21725411713123322, 0.19144174456596375, 0.09034329652786255, 0.08173917233943939, 0.06883298605680466, 0.040869586169719696, 0.02581237070262432, 0.33837300539016724, 0.14247284829616547, 0.1602819561958313, 0.1068546324968338, 0.12466374039649963, 0.07123642414808273, 0.03561821207404137, 0.017809106037020683, 0.36504051089286804, 0.25204816460609436, 0.18903613090515137, 0.25204816460609436, 0.09451806545257568, 0.09451806545257568, 0.06301204115152359, 0.06301204115152359, 0.031506020575761795, 0.27929767966270447, 0.27929767966270447, 0.13964883983135223, 0.13964883983135223, 0.3692570924758911, 0.5975597500801086, 0.4441998302936554, 0.08883997052907944, 0.08883997052907944, 0.08883997052907944, 0.08883997052907944, 0.08883997052907944, 0.08883997052907944, 0.20135238766670227, 0.20135238766670227, 0.20135238766670227, 0.20135238766670227, 0.2028283327817917, 0.2028283327817917, 0.2028283327817917, 0.10141416639089584, 0.10141416639089584, 0.10141416639089584, 0.10141416639089584, 0.20158545672893524, 0.23518303036689758, 0.20158545672893524, 0.08399394154548645, 0.08399394154548645, 0.13439030945301056, 0.06719515472650528, 0.01679878868162632, 0.32761672139167786, 0.22833891212940216, 0.1389889121055603, 0.0992777943611145, 0.0992777943611145, 0.04963889718055725, 0.0397111177444458, 0.0297833364456892, 0.25526919960975647, 0.27417802810668945, 0.16072504222393036, 0.09454414248466492, 0.08508972823619843, 0.07563531398773193, 0.03781765699386597, 0.018908828496932983, 0.15489228069782257, 0.23233842849731445, 0.23233842849731445, 0.07744614034891129, 0.07744614034891129, 0.07744614034891129, 0.16982507705688477, 0.29719388484954834, 0.12736880779266357, 0.12736880779266357, 0.12736880779266357, 0.08491253852844238, 0.04245626926422119, 0.021228134632110596, 0.20964355766773224, 0.20347757637500763, 0.19114559888839722, 0.13565170764923096, 0.0863238200545311, 0.0924898013472557, 0.04932789504528046, 0.030829934403300285, 0.23421630263328552, 0.2390958070755005, 0.19030074775218964, 0.07807210087776184, 0.10734913498163223, 0.0829516053199768, 0.043915554881095886, 0.01951802521944046, 0.2380489856004715, 0.2380489856004715, 0.2380489856004715, 0.2380489856004715, 0.6380143761634827, 0.3164215087890625, 0.15821075439453125, 0.15821075439453125, 0.15821075439453125, 0.16827085614204407, 0.33654171228408813, 0.16827085614204407, 0.11218056827783585, 0.11218056827783585, 0.05609028413891792, 0.05609028413891792, 0.3672589957714081, 0.641609251499176, 0.1643977016210556, 0.2348538637161255, 0.17614039778709412, 0.1526550054550171, 0.09394154697656631, 0.09394154697656631, 0.05871346592903137, 0.02348538674414158, 0.43905332684516907, 0.10976333171129227, 0.21952666342258453, 0.10976333171129227, 0.10976333171129227, 0.2642013132572174, 0.21250973641872406, 0.16656169295310974, 0.1321006566286087, 0.06892208009958267, 0.09189610183238983, 0.045948050916194916, 0.017230520024895668, 0.6384709477424622, 0.2827473282814026, 0.2008994072675705, 0.1711365431547165, 0.089288629591465, 0.0744071900844574, 0.1041700690984726, 0.0372035950422287, 0.0372035950422287, 0.5714218616485596, 0.24842965602874756, 0.19322307407855988, 0.16561977565288544, 0.11041318625211716, 0.138016477227211, 0.0690082386136055, 0.05520659312605858, 0.013801648281514645, 0.20248645544052124, 0.10124322772026062, 0.25310805439949036, 0.15186484158039093, 0.10124322772026062, 0.10124322772026062, 0.05062161386013031, 0.2793346345424652, 0.2245284765958786, 0.1608826071023941, 0.09370085597038269, 0.09016497433185577, 0.058342043310403824, 0.07071763277053833, 0.02121528796851635, 0.23271456360816956, 0.18480274081230164, 0.19164729118347168, 0.13689091801643372, 0.08213455229997635, 0.09582364559173584, 0.04791182279586792, 0.027378182858228683, 0.30012384057044983, 0.1667354702949524, 0.17507223784923553, 0.11254643648862839, 0.11254643648862839, 0.0833677351474762, 0.03751548007130623, 0.012505159713327885, 0.5623549222946167, 0.1550075113773346, 0.1550075113773346, 0.1550075113773346, 0.1550075113773346, 0.1550075113773346, 0.1550075113773346, 0.23755262792110443, 0.1990305781364441, 0.1861899048089981, 0.10272546112537384, 0.10914580523967743, 0.07062375545501709, 0.0642034113407135, 0.02568136528134346, 0.6098182797431946, 0.22562211751937866, 0.3008294999599457, 0.17548386752605438, 0.07520737498998642, 0.07520737498998642, 0.07520737498998642, 0.05013824999332428, 0.02506912499666214, 0.6483569145202637, 0.2813447117805481, 0.18947704136371613, 0.21244396269321442, 0.0861259326338768, 0.10335111618041992, 0.06890074163675308, 0.04593383148312569, 0.01722518540918827, 0.2463749796152115, 0.17139127850532532, 0.16067932546138763, 0.1178315058350563, 0.1178315058350563, 0.1178315058350563, 0.05355977639555931, 0.021423909813165665, 0.22479243576526642, 0.32470017671585083, 0.17483855783939362, 0.07493080943822861, 0.07493080943822861, 0.07493080943822861, 0.049953874200582504, 0.024976937100291252, 0.21213103830814362, 0.1818266063928604, 0.242435485124588, 0.0909133031964302, 0.0909133031964302, 0.0909133031964302, 0.060608871281147, 0.0303044356405735, 0.22253891825675964, 0.17695865035057068, 0.17159627377986908, 0.1474655419588089, 0.11261005699634552, 0.07775455713272095, 0.06166740879416466, 0.02949310839176178, 0.22650641202926636, 0.21545732021331787, 0.17126093804836273, 0.1270645707845688, 0.07734365016222, 0.10496638715267181, 0.05524546653032303, 0.01657363958656788, 0.15117061138153076, 0.15117061138153076, 0.15117061138153076, 0.15117061138153076, 0.15117061138153076, 0.3906380236148834, 0.22322171926498413, 0.1674162894487381, 0.11161085963249207, 0.05580542981624603, 0.05580542981624603, 0.05580542981624603, 0.9000402092933655, 0.5980128049850464, 0.5560805201530457, 0.2647846043109894, 0.15887077152729034, 0.10591384768486023, 0.10591384768486023, 0.10591384768486023, 0.10591384768486023, 0.052956923842430115, 0.4366583228111267, 0.21832916140556335, 0.21832916140556335, 0.315402090549469, 0.315402090549469, 0.315402090549469, 0.288418173789978, 0.288418173789978, 0.27773723006248474, 0.17854537069797516, 0.13886861503124237, 0.09919187426567078, 0.11903024464845657, 0.07935349643230438, 0.05951512232422829, 0.019838374108076096, 0.22484757006168365, 0.14989838004112244, 0.2997967600822449, 0.07494919002056122, 0.07494919002056122, 0.07494919002056122, 0.07494919002056122, 0.23390759527683258, 0.22416144609451294, 0.19979606568813324, 0.08284227550029755, 0.12669993937015533, 0.06822304427623749, 0.043857675045728683, 0.024365374818444252, 0.6378961801528931, 0.27009260654449463, 0.22176022827625275, 0.16774171590805054, 0.07107699662446976, 0.09950779378414154, 0.08244931697845459, 0.054018519818782806, 0.028430799022316933, 0.19377067685127258, 0.19377067685127258, 0.19377067685127258, 0.10899601131677628, 0.12110667675733566, 0.12110667675733566, 0.06055333837866783, 0.024221334606409073, 0.31371405720710754, 0.31371405720710754, 0.3193407952785492, 0.3193407952785492, 0.3165109157562256, 0.3165109157562256, 0.3165109157562256, 0.24939864873886108, 0.21686838567256927, 0.1762055605649948, 0.1274101734161377, 0.08132564276456833, 0.08403649926185608, 0.046084530651569366, 0.018975984305143356, 0.32998645305633545, 0.1692238301038742, 0.18614619970321655, 0.06768953055143356, 0.10153429210186005, 0.07615072280168533, 0.05076714605093002, 0.01692238263785839, 0.4214269518852234, 0.24666348099708557, 0.17076702415943146, 0.2561505436897278, 0.11384467780590057, 0.07589645683765411, 0.09487056732177734, 0.03794822841882706, 0.01897411420941353, 0.24445365369319916, 0.18068313598632812, 0.20193997025489807, 0.09565577656030655, 0.09565577656030655, 0.09565577656030655, 0.06377051770687103, 0.021256839856505394, 0.6430453658103943, 0.2535189688205719, 0.21730197966098785, 0.10865098983049393, 0.12675948441028595, 0.14486798644065857, 0.0905424952507019, 0.054325494915246964, 0.01810849830508232, 0.1423707902431488, 0.29311633110046387, 0.1842445433139801, 0.10887178033590317, 0.08374752104282379, 0.13399603962898254, 0.033499009907245636, 0.025124257430434227, 0.2039804905653, 0.2039804905653, 0.2039804905653, 0.2039804905653, 0.27247557044029236, 0.21511228382587433, 0.14340819418430328, 0.10038573294878006, 0.07170409709215164, 0.12906736135482788, 0.043022457510232925, 0.028681637719273567, 0.3042318522930145, 0.2547057569026947, 0.15565350651741028, 0.06367643922567368, 0.08490191400051117, 0.07782675325870514, 0.042450957000255585, 0.021225478500127792, 0.23985536396503448, 0.2227228283882141, 0.13706021010875702, 0.09708431363105774, 0.14277105033397675, 0.08566262573003769, 0.05139757692813873, 0.022843368351459503, 0.24361616373062134, 0.25794652104377747, 0.15763399004936218, 0.12180808186531067, 0.07881699502468109, 0.07881699502468109, 0.035825904458761215, 0.02149554342031479, 0.27558690309524536, 0.18372461199760437, 0.15310384333133698, 0.16841422021389008, 0.09186230599880219, 0.07655192166566849, 0.04593115299940109, 0.015310384333133698, 0.3154362738132477, 0.2838926613330841, 0.11040269583463669, 0.06308725476264954, 0.0946308821439743, 0.06308725476264954, 0.04731544107198715, 0.015771813690662384, 0.148376002907753, 0.148376002907753, 0.296752005815506, 0.148376002907753, 0.216302752494812, 0.18214969336986542, 0.22768710553646088, 0.09107484668493271, 0.11384355276823044, 0.11384355276823044, 0.03415306657552719, 0.03415306657552719, 0.16216512024402618, 0.16216512024402618, 0.16216512024402618, 0.16216512024402618, 0.16216512024402618, 0.2303851693868637, 0.2203684151172638, 0.16527631878852844, 0.12020095437765121, 0.09515909105539322, 0.09015071392059326, 0.05509210377931595, 0.020033491775393486, 0.2478768676519394, 0.21115437150001526, 0.1377093642950058, 0.09180624783039093, 0.12852874398231506, 0.0826256200671196, 0.06426437199115753, 0.03672249987721443], \"Term\": [\"agire\", \"agire\", \"agire\", \"agire\", \"agire\", \"agire\", \"agire\", \"agire\", \"albergo\", \"albergo\", \"albergo\", \"albergo\", \"albergo\", \"albergo\", \"allettare\", \"alto\", \"alto\", \"alto\", \"alto\", \"alto\", \"alto\", \"alto\", \"alto\", \"altro\", \"altro\", \"altro\", \"altro\", \"altro\", \"altro\", \"altro\", \"altro\", \"americano\", \"americano\", \"americano\", \"americano\", \"americano\", \"americano\", \"americano\", \"americano\", \"amico\", \"amico\", \"amico\", \"amico\", \"amico\", \"amico\", \"amico\", \"amico\", \"anarchico\", \"anarchico\", \"anarchico\", \"anarchico\", \"anarchico\", \"anarchico\", \"anarchico\", \"anarchico\", \"ancorare\", \"ancorare\", \"ancorare\", \"ancorare\", \"ancorare\", \"ancorare\", \"ancorare\", \"ancorare\", \"andare\", \"andare\", \"andare\", \"andare\", \"andare\", \"andare\", \"andare\", \"andare\", \"anelito\", \"anno\", \"anno\", \"anno\", \"anno\", \"anno\", \"anno\", \"anno\", \"anno\", \"ansioso\", \"ansioso\", \"ansioso\", \"ansioso\", \"ansioso\", \"appuntire\", \"appuntire\", \"appuntire\", \"appuntire\", \"appuntire\", \"appuntire\", \"appuntire\", \"appuntire\", \"arbitro\", \"arbitro\", \"arbitro\", \"arbitro\", \"arbitro\", \"aspirazione\", \"aspirazione\", \"aspirazione\", \"aspirazione\", \"aspirazione\", \"aspirazione\", \"assembramento\", \"assembramento\", \"attestato\", \"attestato\", \"available\", \"avere\", \"avere\", \"avere\", \"avere\", \"avere\", \"avere\", \"avere\", \"avere\", \"avevrte\", \"azione\", \"azione\", \"azione\", \"azione\", \"azione\", \"azione\", \"azione\", \"azione\", \"bacchiare\", \"barra\", \"barra\", \"barra\", \"barra\", \"barra\", \"barra\", \"barra\", \"barra\", \"basilico\", \"basilico\", \"basilico\", \"basilico\", \"basilico\", \"basilico\", \"battito\", \"battito\", \"beatitudine\", \"bilan\", \"bilan\", \"bilan\", \"bkrna\", \"bkrna\", \"black\", \"black\", \"black\", \"black\", \"black\", \"black\", \"black\", \"bohotie\", \"bohotie\", \"bohotie\", \"bohotie\", \"bulgaria\", \"bulgaria\", \"bulgaria\", \"bulgaria\", \"bulgaria\", \"bulgaria\", \"bulgaria\", \"cantare\", \"cantare\", \"cantare\", \"cantare\", \"cantare\", \"cantare\", \"cantare\", \"cantare\", \"capitale\", \"capitale\", \"capitale\", \"capitale\", \"capitale\", \"capitale\", \"capitale\", \"capitale\", \"cappella\", \"cappella\", \"cappella\", \"cappella\", \"cappella\", \"cappella\", \"cappella\", \"cappella\", \"cardinale\", \"cardinale\", \"cardinale\", \"cardinale\", \"cardinale\", \"cardinale\", \"cardinale\", \"cardinale\", \"cardo\", \"cardo\", \"cardo\", \"cardo\", \"cardo\", \"cardo\", \"cardo\", \"carino\", \"carino\", \"carpinete\", \"carpinete\", \"carpinete\", \"caso\", \"caso\", \"caso\", \"caso\", \"caso\", \"caso\", \"caso\", \"caso\", \"caudatari\", \"cereale\", \"cereale\", \"cereale\", \"cereale\", \"cereale\", \"cereale\", \"cheyenne\", \"cinque\", \"cinque\", \"cinque\", \"cinque\", \"cinque\", \"cinque\", \"cinque\", \"cinque\", \"cio\\u00e8\", \"cio\\u00e8\", \"cio\\u00e8\", \"cio\\u00e8\", \"cio\\u00e8\", \"cio\\u00e8\", \"cio\\u00e8\", \"cio\\u00e8\", \"circostanza\", \"circostanza\", \"circostanza\", \"circostanza\", \"circostanza\", \"circostanza\", \"circostanza\", \"cittadino\", \"cittadino\", \"cittadino\", \"cittadino\", \"cittadino\", \"cittadino\", \"cittadino\", \"cittadino\", \"citt\\u00e0\", \"citt\\u00e0\", \"citt\\u00e0\", \"citt\\u00e0\", \"citt\\u00e0\", \"citt\\u00e0\", \"citt\\u00e0\", \"citt\\u00e0\", \"classe\", \"classe\", \"classe\", \"classe\", \"classe\", \"classe\", \"classe\", \"classe\", \"collegio\", \"collegio\", \"collegio\", \"collegio\", \"collegio\", \"collegio\", \"collegio\", \"collegio\", \"compitare\", \"compitare\", \"compitare\", \"compitare\", \"compitare\", \"concetto\", \"concetto\", \"concetto\", \"concetto\", \"concetto\", \"concetto\", \"conclave\", \"conclave\", \"conclave\", \"conclave\", \"conclave\", \"conclave\", \"conclave\", \"conclave\", \"conclavista\", \"conclavisti\", \"conclavisti\", \"conclavisti\", \"conclavisti\", \"conclavisti\", \"conclavisti\", \"conveiiirne\", \"cordato\", \"correre\", \"correre\", \"correre\", \"correre\", \"correre\", \"correre\", \"correre\", \"correre\", \"cortes\", \"cosa\", \"cosa\", \"cosa\", \"cosa\", \"cosa\", \"cosa\", \"cosa\", \"cosa\", \"costare\", \"costare\", \"costare\", \"costare\", \"costare\", \"costare\", \"costare\", \"costare\", \"cos\\u00ec\", \"cos\\u00ec\", \"cos\\u00ec\", \"cos\\u00ec\", \"cos\\u00ec\", \"cos\\u00ec\", \"cos\\u00ec\", \"cos\\u00ec\", \"credere\", \"credere\", \"credere\", \"credere\", \"credere\", \"credere\", \"credere\", \"credere\", \"croce\", \"croce\", \"croce\", \"croce\", \"croce\", \"croce\", \"croce\", \"cubo\", \"cubo\", \"cubo\", \"culminare\", \"cuore\", \"cuore\", \"cuore\", \"cuore\", \"cuore\", \"cuore\", \"cuore\", \"cuore\", \"daily\", \"daily\", \"daily\", \"daily\", \"daily\", \"daily\", \"daily\", \"daily\", \"damascare\", \"damiani\", \"damiani\", \"dare\", \"dare\", \"dare\", \"dare\", \"dare\", \"dare\", \"dare\", \"dare\", \"deeks\", \"deeks\", \"delegare\", \"delegare\", \"delegare\", \"delegare\", \"delegare\", \"delegare\", \"delegare\", \"delia\", \"delia\", \"delia\", \"delia\", \"delia\", \"delia\", \"delia\", \"delia\", \"dettaglio\", \"dettaglio\", \"dettaglio\", \"dettaglio\", \"dettaglio\", \"dettaglio\", \"dettaglio\", \"dhus\", \"diamond\", \"diamond\", \"diamond\", \"diamond\", \"diamond\", \"diamond\", \"diamond\", \"difen\", \"diramare\", \"diramare\", \"diramare\", \"dire\", \"dire\", \"dire\", \"dire\", \"dire\", \"dire\", \"dire\", \"dire\", \"direzione\", \"direzione\", \"direzione\", \"direzione\", \"direzione\", \"direzione\", \"direzione\", \"dirigere\", \"dirigere\", \"dirigere\", \"dirigere\", \"dirigere\", \"dirigere\", \"dirigere\", \"dirigere\", \"diritto\", \"diritto\", \"diritto\", \"diritto\", \"diritto\", \"diritto\", \"diritto\", \"diritto\", \"dispaccio\", \"dispaccio\", \"dispaccio\", \"dispaccio\", \"dispaccio\", \"dispaccio\", \"dispaccio\", \"dispaccio\", \"dlourdlnl\", \"docile\", \"domattina\", \"domattina\", \"donna\", \"donna\", \"donna\", \"donna\", \"donna\", \"donna\", \"donna\", \"donna\", \"dopo\", \"dopo\", \"dopo\", \"dopo\", \"dopo\", \"dopo\", \"dopo\", \"dopo\", \"dottore\", \"dottore\", \"dottore\", \"dottore\", \"dottore\", \"dottore\", \"dottore\", \"dottore\", \"dovere\", \"dovere\", \"dovere\", \"dovere\", \"dovere\", \"dovere\", \"dovere\", \"dovere\", \"duchessa\", \"duchessa\", \"duchessa\", \"duchessa\", \"duchessa\", \"ducicelo\", \"duellare\", \"duellare\", \"duellare\", \"duellare\", \"duellare\", \"duellare\", \"durare\", \"durare\", \"durare\", \"durare\", \"durare\", \"durare\", \"durare\", \"durare\", \"ebbene\", \"ebbene\", \"ebbene\", \"ebbene\", \"ebbene\", \"ebbene\", \"ebdomadario\", \"ebdomadario\", \"ebdomadario\", \"ebdomadario\", \"egli\", \"egli\", \"egli\", \"egli\", \"egli\", \"egli\", \"egli\", \"egli\", \"ekidure\", \"emancipatrici\", \"entente\", \"entrata\", \"entrata\", \"entrata\", \"entrata\", \"entrata\", \"equani\", \"esistere\", \"esistere\", \"esistere\", \"esistere\", \"esistere\", \"esistere\", \"esistere\", \"esistere\", \"essere\", \"essere\", \"essere\", \"essere\", \"essere\", \"essere\", \"essere\", \"essere\", \"estero\", \"estero\", \"estero\", \"estero\", \"estero\", \"estero\", \"estero\", \"estero\", \"estrarre\", \"estrarre\", \"estrarre\", \"estrarre\", \"estrarre\", \"estrarre\", \"fare\", \"fare\", \"fare\", \"fare\", \"fare\", \"fare\", \"fare\", \"fare\", \"fatto\", \"fatto\", \"fatto\", \"fatto\", \"fatto\", \"fatto\", \"fatto\", \"fatto\", \"favorevole\", \"favorevole\", \"favorevole\", \"favorevole\", \"favorevole\", \"favorevole\", \"favorevole\", \"favorevole\", \"febbraio\", \"febbraio\", \"febbraio\", \"febbraio\", \"febbraio\", \"febbraio\", \"febbraio\", \"fede\", \"fede\", \"fede\", \"fede\", \"fede\", \"fede\", \"fede\", \"fede\", \"fiducie\", \"fino\", \"fino\", \"fino\", \"fino\", \"fino\", \"fino\", \"fino\", \"fino\", \"fjnniit\\u00e0\", \"follare\", \"follare\", \"follare\", \"follare\", \"follare\", \"follare\", \"follare\", \"follare\", \"forte\", \"forte\", \"forte\", \"forte\", \"forte\", \"forte\", \"forte\", \"forte\", \"francia\", \"francia\", \"francia\", \"francia\", \"francia\", \"francia\", \"francia\", \"francia\", \"fruttare\", \"fruttare\", \"fruttare\", \"fruttare\", \"fruttare\", \"fruttare\", \"fruttare\", \"fruttare\", \"fugazy\", \"fugazy\", \"fugazy\", \"fulminato\", \"fulminato\", \"fulminato\", \"galimberti\", \"galimberti\", \"galimberti\", \"galimberti\", \"galimberti\", \"galimberti\", \"galimberti\", \"generale\", \"generale\", \"generale\", \"generale\", \"generale\", \"generale\", \"generale\", \"generale\", \"gesuita\", \"giamenti\", \"giamenti\", \"gibbons\", \"gibbons\", \"gibbons\", \"gibbons\", \"gibbons\", \"gibbons\", \"ginocchio\", \"giornale\", \"giornale\", \"giornale\", \"giornale\", \"giornale\", \"giornale\", \"giornale\", \"giornale\", \"giorno\", \"giorno\", \"giorno\", \"giorno\", \"giorno\", \"giorno\", \"giorno\", \"giorno\", \"giustiziare\", \"giustiziare\", \"giustiziare\", \"giustiziare\", \"giustiziare\", \"giustiziare\", \"giustiziare\", \"giustiziare\", \"governare\", \"governare\", \"governare\", \"governare\", \"governare\", \"governare\", \"governare\", \"governare\", \"gran\", \"gran\", \"gran\", \"gran\", \"gran\", \"gran\", \"gran\", \"gran\", \"grande\", \"grande\", \"grande\", \"grande\", \"grande\", \"grande\", \"grande\", \"grande\", \"hilml\", \"ieri\", \"ieri\", \"ieri\", \"ieri\", \"ieri\", \"ieri\", \"ieri\", \"ieri\", \"iiifvif\\u00e0h\\u00eclfvvroluzione\", \"illuminare\", \"illuminare\", \"illuminare\", \"illuminare\", \"illuminare\", \"illuminare\", \"ilol\", \"importare\", \"importare\", \"importare\", \"importare\", \"importare\", \"importare\", \"importare\", \"importare\", \"inaugurazione\", \"inaugurazione\", \"inaugurazione\", \"inaugurazione\", \"inaugurazione\", \"inaver\", \"innovazione\", \"intelli\", \"interessare\", \"interessare\", \"interessare\", \"interessare\", \"interessare\", \"interessare\", \"interessare\", \"interessare\", \"intervistare\", \"intervistare\", \"intervistare\", \"intervistare\", \"intervistare\", \"intervistare\", \"intervistare\", \"intervistare\", \"ipercritici\", \"istituzio\", \"istituzio\", \"italia\", \"italia\", \"italia\", \"italia\", \"italia\", \"italia\", \"italia\", \"italia\", \"italian\", \"italian\", \"italian\", \"italian\", \"italian\", \"italian\", \"italian\", \"italian\", \"italiano\", \"italiano\", \"italiano\", \"italiano\", \"italiano\", \"italiano\", \"italiano\", \"italiano\", \"kicheneff\", \"kicheneff\", \"kiorno\", \"kiorno\", \"kiorno\", \"kiorno\", \"klscineff\", \"klscineff\", \"largest\", \"largest\", \"largest\", \"largest\", \"largest\", \"largest\", \"largest\", \"largest\", \"latino\", \"latino\", \"latino\", \"latino\", \"latino\", \"latino\", \"latino\", \"latino\", \"lato\", \"lato\", \"lato\", \"lato\", \"lato\", \"lato\", \"lato\", \"lato\", \"lavorare\", \"lavorare\", \"lavorare\", \"lavorare\", \"lavorare\", \"lavorare\", \"lavorare\", \"lavorare\", \"lavoratore\", \"lavoratore\", \"lavoratore\", \"lavoratore\", \"lavoratore\", \"lavoratore\", \"lavoratore\", \"lavoratore\", \"leggere\", \"leggere\", \"leggere\", \"leggere\", \"leggere\", \"leggere\", \"leggere\", \"leggere\", \"leone\", \"leone\", \"leone\", \"leone\", \"leone\", \"leone\", \"leone\", \"leone\", \"lettera\", \"lettera\", \"lettera\", \"lettera\", \"lettera\", \"lettera\", \"lettera\", \"lettera\", \"lira\", \"lira\", \"lira\", \"lira\", \"lira\", \"lira\", \"lira\", \"lira\", \"listare\", \"listare\", \"listare\", \"listare\", \"listare\", \"listare\", \"listare\", \"londra\", \"londra\", \"londra\", \"londra\", \"londra\", \"londra\", \"londra\", \"londra\", \"longevit\\u00e0\", \"longevit\\u00e0\", \"longevit\\u00e0\", \"longhi\", \"lontano\", \"lontano\", \"lontano\", \"lontano\", \"lontano\", \"lontano\", \"lontano\", \"lontano\", \"lottare\", \"lottare\", \"lottare\", \"lottare\", \"lottare\", \"lottare\", \"lottare\", \"lottare\", \"ludi\", \"luglio\", \"luglio\", \"luglio\", \"luglio\", \"luglio\", \"luglio\", \"luglio\", \"luglio\", \"maest\\u00e0\", \"maest\\u00e0\", \"maest\\u00e0\", \"maest\\u00e0\", \"maest\\u00e0\", \"maest\\u00e0\", \"maest\\u00e0\", \"maggio\", \"maggio\", \"maggio\", \"maggio\", \"maggio\", \"maggio\", \"maggio\", \"maggio\", \"mandare\", \"mandare\", \"mandare\", \"mandare\", \"mandare\", \"mandare\", \"mandare\", \"mandare\", \"manico\", \"manico\", \"manico\", \"manifesto\", \"manifesto\", \"manifesto\", \"manifesto\", \"manifesto\", \"manifesto\", \"mano\", \"mano\", \"mano\", \"mano\", \"mano\", \"mano\", \"mano\", \"mano\", \"mantenere\", \"mantenere\", \"mantenere\", \"mantenere\", \"mantenere\", \"mantenere\", \"mantenere\", \"mantenere\", \"margine\", \"mentire\", \"mentire\", \"mentire\", \"mentire\", \"mentire\", \"mentire\", \"mentire\", \"mentire\", \"mercantile\", \"mercantile\", \"mercantile\", \"mercantile\", \"mercantile\", \"mercantile\", \"mercantile\", \"mese\", \"mese\", \"mese\", \"mese\", \"mese\", \"mese\", \"mese\", \"mese\", \"mettere\", \"mettere\", \"mettere\", \"mettere\", \"mettere\", \"mettere\", \"mettere\", \"mettere\", \"mezzetta\", \"mila\", \"mila\", \"mila\", \"mila\", \"mila\", \"mila\", \"mila\", \"mila\", \"milano\", \"milano\", \"milano\", \"milano\", \"milano\", \"milano\", \"milano\", \"milano\", \"milione\", \"milione\", \"milione\", \"milione\", \"milione\", \"milione\", \"milione\", \"milione\", \"militarismo\", \"militarismo\", \"militarismo\", \"militarismo\", \"minatorio\", \"minatorio\", \"minatorio\", \"minatorio\", \"minatorio\", \"minatorio\", \"minatorio\", \"minatorio\", \"ministero\", \"ministero\", \"ministero\", \"ministero\", \"ministero\", \"ministero\", \"ministero\", \"ministero\", \"ministrare\", \"ministrare\", \"ministrare\", \"ministrare\", \"ministrare\", \"ministrare\", \"ministrare\", \"ministrare\", \"miserando\", \"modo\", \"modo\", \"modo\", \"modo\", \"modo\", \"modo\", \"modo\", \"modo\", \"molto\", \"molto\", \"molto\", \"molto\", \"molto\", \"molto\", \"molto\", \"molto\", \"monte\", \"monte\", \"monte\", \"monte\", \"monte\", \"monte\", \"monte\", \"monte\", \"morale\", \"morale\", \"morale\", \"morale\", \"morale\", \"morale\", \"morale\", \"morale\", \"moreno\", \"moreno\", \"morgan\", \"morgan\", \"morgan\", \"morgan\", \"mortalmente\", \"morto\", \"morto\", \"morto\", \"morto\", \"morto\", \"morto\", \"morto\", \"morto\", \"mowruoiiaar\", \"muratore\", \"napoli\", \"napoli\", \"napoli\", \"napoli\", \"napoli\", \"napoli\", \"napoli\", \"napoli\", \"naso\", \"naso\", \"naso\", \"naso\", \"naso\", \"naso\", \"naso\", \"naso\", \"nemico\", \"nemico\", \"nemico\", \"nemico\", \"nemico\", \"nemico\", \"nemico\", \"nemico\", \"noia\", \"noia\", \"noia\", \"noia\", \"noia\", \"notizia\", \"notizia\", \"notizia\", \"notizia\", \"notizia\", \"notizia\", \"notizia\", \"notizia\", \"numerare\", \"numerare\", \"numerare\", \"numerare\", \"numerare\", \"numerare\", \"numerare\", \"numerare\", \"nuovo\", \"nuovo\", \"nuovo\", \"nuovo\", \"nuovo\", \"nuovo\", \"nuovo\", \"nuovo\", \"occupare\", \"occupare\", \"occupare\", \"occupare\", \"occupare\", \"occupare\", \"occupare\", \"occupare\", \"occuparsi\", \"ocrni\", \"oggi\", \"oggi\", \"oggi\", \"oggi\", \"oggi\", \"oggi\", \"oggi\", \"oggi\", \"ogni\", \"ogni\", \"ogni\", \"ogni\", \"ogni\", \"ogni\", \"ogni\", \"ogni\", \"onore\", \"onore\", \"onore\", \"onore\", \"onore\", \"onore\", \"onore\", \"onore\", \"operare\", \"operare\", \"operare\", \"operare\", \"operare\", \"operare\", \"operare\", \"operare\", \"ordine\", \"ordine\", \"ordine\", \"ordine\", \"ordine\", \"ordine\", \"ordine\", \"ordine\", \"pace\", \"pace\", \"pace\", \"pace\", \"pace\", \"pace\", \"pace\", \"pace\", \"paese\", \"paese\", \"paese\", \"paese\", \"paese\", \"paese\", \"paese\", \"paese\", \"panno\", \"papa\", \"papa\", \"papa\", \"papa\", \"papa\", \"papa\", \"papa\", \"papa\", \"parassitario\", \"parassitario\", \"parete\", \"parete\", \"parete\", \"parigi\", \"parigi\", \"parigi\", \"parigi\", \"parigi\", \"parigi\", \"parigi\", \"parigi\", \"parlare\", \"parlare\", \"parlare\", \"parlare\", \"parlare\", \"parlare\", \"parlare\", \"parlare\", \"parola\", \"parola\", \"parola\", \"parola\", \"parola\", \"parola\", \"parola\", \"parola\", \"parpagnoli\", \"partire\", \"partire\", \"partire\", \"partire\", \"partire\", \"partire\", \"partire\", \"partire\", \"parziale\", \"parziale\", \"patrio\", \"patrio\", \"patrio\", \"patrio\", \"patrio\", \"patrio\", \"patrio\", \"patrio\", \"pecel\", \"pecel\", \"pecel\", \"pecel\", \"perito\", \"perito\", \"persona\", \"persona\", \"persona\", \"persona\", \"persona\", \"persona\", \"persona\", \"persona\", \"perugia\", \"perugia\", \"perugia\", \"perugia\", \"perugia\", \"pescatore\", \"pescatore\", \"pescatore\", \"pescatore\", \"pescatore\", \"pescatore\", \"placidamente\", \"placidamente\", \"placidamente\", \"placidamente\", \"poco\", \"poco\", \"poco\", \"poco\", \"poco\", \"poco\", \"poco\", \"poco\", \"politico\", \"politico\", \"politico\", \"politico\", \"politico\", \"politico\", \"politico\", \"politico\", \"pol\\u00ectica\", \"porto\", \"porto\", \"porto\", \"porto\", \"porto\", \"porto\", \"porto\", \"porto\", \"possibile\", \"possibile\", \"possibile\", \"possibile\", \"possibile\", \"possibile\", \"possibile\", \"possibile\", \"potere\", \"potere\", \"potere\", \"potere\", \"potere\", \"potere\", \"potere\", \"potere\", \"prelato\", \"prelato\", \"prelato\", \"prelato\", \"prelato\", \"prelato\", \"prelato\", \"preparare\", \"preparare\", \"preparare\", \"preparare\", \"preparare\", \"preparare\", \"preparare\", \"preparare\", \"presentare\", \"presentare\", \"presentare\", \"presentare\", \"presentare\", \"presentare\", \"presentare\", \"presentare\", \"presentire\", \"presentire\", \"presentire\", \"presentire\", \"presentire\", \"presentire\", \"presentire\", \"presentire\", \"priccioso\", \"primo\", \"primo\", \"primo\", \"primo\", \"primo\", \"primo\", \"primo\", \"primo\", \"principe\", \"principe\", \"principe\", \"principe\", \"principe\", \"principe\", \"principe\", \"principe\", \"proletario\", \"proletario\", \"proletario\", \"proletario\", \"proletario\", \"proletario\", \"propizio\", \"propizio\", \"propizio\", \"proprio\", \"proprio\", \"proprio\", \"proprio\", \"proprio\", \"proprio\", \"proprio\", \"proprio\", \"provinole\", \"provinole\", \"provinole\", \"provinole\", \"provinole\", \"provinole\", \"provinole\", \"provvisto\", \"provvisto\", \"pubblicare\", \"pubblicare\", \"pubblicare\", \"pubblicare\", \"pubblicare\", \"pubblicare\", \"pubblicare\", \"pubblicare\", \"pubblico\", \"pubblico\", \"pubblico\", \"pubblico\", \"pubblico\", \"pubblico\", \"pubblico\", \"pubblico\", \"puntare\", \"puntare\", \"puntare\", \"puntare\", \"puntare\", \"puntare\", \"puntare\", \"puntare\", \"pupa\", \"puro\", \"puro\", \"puro\", \"puro\", \"puro\", \"puro\", \"puro\", \"puro\", \"qiotiimano\", \"qualche\", \"qualche\", \"qualche\", \"qualche\", \"qualche\", \"qualche\", \"qualche\", \"qualche\", \"quale\", \"quale\", \"quale\", \"quale\", \"quale\", \"quale\", \"quale\", \"quale\", \"quando\", \"quando\", \"quando\", \"quando\", \"quando\", \"quando\", \"quando\", \"quando\", \"quello\", \"quello\", \"quello\", \"quello\", \"quello\", \"quello\", \"quello\", \"quello\", \"quindi\", \"quindi\", \"quindi\", \"quindi\", \"quindi\", \"quindi\", \"quindi\", \"quindi\", \"qulx\", \"quotidiano\", \"quotidiano\", \"quotidiano\", \"quotidiano\", \"quotidiano\", \"quotidiano\", \"quotidiano\", \"quotidiano\", \"rapido\", \"rapido\", \"rapido\", \"rapido\", \"rapido\", \"rapido\", \"rapido\", \"rapido\", \"rapportare\", \"rapportare\", \"rapportare\", \"rapportare\", \"rapportare\", \"rapportare\", \"rapportare\", \"rapportare\", \"recere\", \"recere\", \"recere\", \"recere\", \"recere\", \"recere\", \"recere\", \"recere\", \"redezt\", \"restare\", \"restare\", \"restare\", \"restare\", \"restare\", \"restare\", \"restare\", \"restare\", \"rhode\", \"rhode\", \"ribellione\", \"ribellione\", \"ribellione\", \"ribellione\", \"ribellione\", \"ribellione\", \"richiamare\", \"richiamare\", \"richiamare\", \"richiamare\", \"richiamare\", \"richiamare\", \"richiamare\", \"ricorrere\", \"ricorrere\", \"ricorrere\", \"ricorrere\", \"ricorrere\", \"ricorrere\", \"ricorrere\", \"riformista\", \"rimanere\", \"rimanere\", \"rimanere\", \"rimanere\", \"rimanere\", \"rimanere\", \"rimanere\", \"rimanere\", \"rinunziare\", \"ripullulano\", \"ritrattazione\", \"riunione\", \"riunione\", \"riunione\", \"riunione\", \"riunione\", \"riunione\", \"riunione\", \"riunione\", \"riverso\", \"riverso\", \"riverso\", \"rivoluzio\", \"rivoluzio\", \"rivoluzio\", \"rivoluzio\", \"rivoluzio\", \"rivoluzio\", \"rivoluzionario\", \"rivoluzionario\", \"rivoluzionario\", \"rivoluzionario\", \"rivoluzionario\", \"rivoluzionario\", \"rivoluzionario\", \"rivoluzionario\", \"roma\", \"roma\", \"roma\", \"roma\", \"roma\", \"roma\", \"roma\", \"roma\", \"russo\", \"russo\", \"russo\", \"russo\", \"russo\", \"russo\", \"russo\", \"russo\", \"r\\u00e8clame\", \"salvare\", \"salvare\", \"salvare\", \"salvare\", \"salvare\", \"salvare\", \"salvare\", \"salvare\", \"salvatore\", \"salvatore\", \"salvatore\", \"salvatore\", \"saratoff\", \"scalzare\", \"scandalo\", \"scandalo\", \"scandalo\", \"scandalo\", \"scandalo\", \"scandalo\", \"scandalo\", \"scannatoio\", \"scannatoio\", \"scannatoio\", \"scannatoio\", \"schedare\", \"schedare\", \"schedare\", \"schedare\", \"schedare\", \"schedare\", \"schedare\", \"scioperare\", \"scioperare\", \"scioperare\", \"scioperare\", \"scioperare\", \"scioperare\", \"scioperare\", \"scioperare\", \"secondare\", \"secondare\", \"secondare\", \"secondare\", \"secondare\", \"secondare\", \"secondare\", \"secondare\", \"seguire\", \"seguire\", \"seguire\", \"seguire\", \"seguire\", \"seguire\", \"seguire\", \"seguire\", \"seguito\", \"seguito\", \"seguito\", \"seguito\", \"seguito\", \"seguito\", \"sembrare\", \"sembrare\", \"sembrare\", \"sembrare\", \"sembrare\", \"sembrare\", \"sembrare\", \"sembrare\", \"sempre\", \"sempre\", \"sempre\", \"sempre\", \"sempre\", \"sempre\", \"sempre\", \"sempre\", \"senza\", \"senza\", \"senza\", \"senza\", \"senza\", \"senza\", \"senza\", \"senza\", \"serrare\", \"serrare\", \"serrare\", \"serrare\", \"sfollare\", \"siasi\", \"siasi\", \"siasi\", \"siasi\", \"significare\", \"significare\", \"significare\", \"significare\", \"significare\", \"significare\", \"significare\", \"sinagoga\", \"sionevofo\", \"societ\\u00e0\", \"societ\\u00e0\", \"societ\\u00e0\", \"societ\\u00e0\", \"societ\\u00e0\", \"societ\\u00e0\", \"societ\\u00e0\", \"societ\\u00e0\", \"sognatore\", \"sognatore\", \"sognatore\", \"sognatore\", \"sognatore\", \"solere\", \"solere\", \"solere\", \"solere\", \"solere\", \"solere\", \"solere\", \"solere\", \"sopravvivenza\", \"sotto\", \"sotto\", \"sotto\", \"sotto\", \"sotto\", \"sotto\", \"sotto\", \"sotto\", \"spostala\", \"stampare\", \"stampare\", \"stampare\", \"stampare\", \"stampare\", \"stampare\", \"stampare\", \"stampare\", \"stanza\", \"stanza\", \"stanza\", \"stanza\", \"stanza\", \"stanza\", \"stanza\", \"stare\", \"stare\", \"stare\", \"stare\", \"stare\", \"stare\", \"stare\", \"stare\", \"states\", \"states\", \"states\", \"states\", \"states\", \"states\", \"states\", \"states\", \"stato\", \"stato\", \"stato\", \"stato\", \"stato\", \"stato\", \"stato\", \"stato\", \"stella\", \"stentare\", \"stentare\", \"stentare\", \"stentare\", \"stentare\", \"stentare\", \"stesso\", \"stesso\", \"stesso\", \"stesso\", \"stesso\", \"stesso\", \"stesso\", \"stesso\", \"stificadone\", \"studente\", \"studente\", \"studente\", \"studente\", \"studente\", \"studente\", \"studente\", \"studente\", \"sviare\", \"tale\", \"tale\", \"tale\", \"tale\", \"tale\", \"tale\", \"tale\", \"tale\", \"tangere\", \"tangere\", \"tangere\", \"tangere\", \"tangere\", \"tangere\", \"tangere\", \"tangere\", \"tato\", \"tato\", \"tato\", \"tato\", \"tato\", \"tato\", \"tato\", \"tato\", \"tedesco\", \"tedesco\", \"tedesco\", \"tedesco\", \"tedesco\", \"tedesco\", \"tedesco\", \"tedesco\", \"telegrafico\", \"telegrafico\", \"telegrafico\", \"telegrafico\", \"telegrafico\", \"telegrafico\", \"telegrafico\", \"telegrafico\", \"tempo\", \"tempo\", \"tempo\", \"tempo\", \"tempo\", \"tempo\", \"tempo\", \"tempo\", \"temporaneo\", \"temporaneo\", \"temporaneo\", \"temporaneo\", \"temporaneo\", \"tenero\", \"tenero\", \"tenero\", \"tenero\", \"tenero\", \"tenero\", \"tenero\", \"text\", \"tiimeja\", \"tlantica\", \"tolstoi\", \"tolstoi\", \"tolstoi\", \"tolstoi\", \"tolstoi\", \"tolstoi\", \"tolstoi\", \"topo\", \"topo\", \"topo\", \"torcia\", \"torcia\", \"torcia\", \"tornlelll\", \"tornlelll\", \"treno\", \"treno\", \"treno\", \"treno\", \"treno\", \"treno\", \"treno\", \"treno\", \"trento\", \"trento\", \"trento\", \"trento\", \"trento\", \"trento\", \"trento\", \"trovare\", \"trovare\", \"trovare\", \"trovare\", \"trovare\", \"trovare\", \"trovare\", \"trovare\", \"tuandosi\", \"tutto\", \"tutto\", \"tutto\", \"tutto\", \"tutto\", \"tutto\", \"tutto\", \"tutto\", \"ultimo\", \"ultimo\", \"ultimo\", \"ultimo\", \"ultimo\", \"ultimo\", \"ultimo\", \"ultimo\", \"uoma\", \"uoma\", \"vanmitelli\", \"vanmitelli\", \"veggono\", \"veggono\", \"veggono\", \"venire\", \"venire\", \"venire\", \"venire\", \"venire\", \"venire\", \"venire\", \"venire\", \"vero\", \"vero\", \"vero\", \"vero\", \"vero\", \"vero\", \"vero\", \"vero\", \"vestilo\", \"viaggiare\", \"viaggiare\", \"viaggiare\", \"viaggiare\", \"viaggiare\", \"viaggiare\", \"viaggiare\", \"viaggiare\", \"vicino\", \"vicino\", \"vicino\", \"vicino\", \"vicino\", \"vicino\", \"vicino\", \"vicino\", \"visouo\", \"vistare\", \"vistare\", \"vistare\", \"vistare\", \"vistare\", \"vistare\", \"vistare\", \"vistare\", \"vita\", \"vita\", \"vita\", \"vita\", \"vita\", \"vita\", \"vita\", \"vita\", \"vite\", \"vite\", \"vite\", \"vite\", \"vittorio\", \"vittorio\", \"vittorio\", \"vittorio\", \"vittorio\", \"vittorio\", \"vittorio\", \"vittorio\", \"vivo\", \"vivo\", \"vivo\", \"vivo\", \"vivo\", \"vivo\", \"vivo\", \"vivo\", \"volere\", \"volere\", \"volere\", \"volere\", \"volere\", \"volere\", \"volere\", \"volere\", \"volto\", \"volto\", \"volto\", \"volto\", \"volto\", \"volto\", \"volto\", \"volto\", \"voto\", \"voto\", \"voto\", \"voto\", \"voto\", \"voto\", \"voto\", \"voto\", \"washington\", \"washington\", \"washington\", \"washington\", \"washington\", \"washington\", \"washington\", \"washington\", \"williams\", \"williams\", \"williams\", \"williams\", \"xiii\", \"xiii\", \"xiii\", \"xiii\", \"xiii\", \"xiii\", \"xiii\", \"xiii\", \"xlll\", \"xlll\", \"xlll\", \"xlll\", \"xlll\", \"york\", \"york\", \"york\", \"york\", \"york\", \"york\", \"york\", \"york\", \"zione\", \"zione\", \"zione\", \"zione\", \"zione\", \"zione\", \"zione\", \"zione\"]}, \"R\": 30, \"lambda.step\": 0.01, \"plot.opts\": {\"xlab\": \"PC1\", \"ylab\": \"PC2\"}, \"topic.order\": [8, 1, 4, 5, 3, 6, 7, 2]};\n",
              "\n",
              "function LDAvis_load_lib(url, callback){\n",
              "  var s = document.createElement('script');\n",
              "  s.src = url;\n",
              "  s.async = true;\n",
              "  s.onreadystatechange = s.onload = callback;\n",
              "  s.onerror = function(){console.warn(\"failed to load library \" + url);};\n",
              "  document.getElementsByTagName(\"head\")[0].appendChild(s);\n",
              "}\n",
              "\n",
              "if(typeof(LDAvis) !== \"undefined\"){\n",
              "   // already loaded: just create the visualization\n",
              "   !function(LDAvis){\n",
              "       new LDAvis(\"#\" + \"ldavis_el1231402218762798407668716532\", ldavis_el1231402218762798407668716532_data);\n",
              "   }(LDAvis);\n",
              "}else if(typeof define === \"function\" && define.amd){\n",
              "   // require.js is available: use it to load d3/LDAvis\n",
              "   require.config({paths: {d3: \"https://cdnjs.cloudflare.com/ajax/libs/d3/3.5.5/d3.min\"}});\n",
              "   require([\"d3\"], function(d3){\n",
              "      window.d3 = d3;\n",
              "      LDAvis_load_lib(\"https://cdn.rawgit.com/bmabey/pyLDAvis/files/ldavis.v1.0.0.js\", function(){\n",
              "        new LDAvis(\"#\" + \"ldavis_el1231402218762798407668716532\", ldavis_el1231402218762798407668716532_data);\n",
              "      });\n",
              "    });\n",
              "}else{\n",
              "    // require.js not available: dynamically load d3 & LDAvis\n",
              "    LDAvis_load_lib(\"https://cdnjs.cloudflare.com/ajax/libs/d3/3.5.5/d3.min.js\", function(){\n",
              "         LDAvis_load_lib(\"https://cdn.rawgit.com/bmabey/pyLDAvis/files/ldavis.v1.0.0.js\", function(){\n",
              "                 new LDAvis(\"#\" + \"ldavis_el1231402218762798407668716532\", ldavis_el1231402218762798407668716532_data);\n",
              "            })\n",
              "         });\n",
              "}\n",
              "</script>"
            ],
            "text/plain": [
              "PreparedData(topic_coordinates=              x         y  topics  cluster       Freq\n",
              "topic                                                \n",
              "7     -0.000920 -0.005288       1        1  25.000137\n",
              "0     -0.002031  0.000041       2        1  21.243835\n",
              "3     -0.000931  0.001506       3        1  17.794895\n",
              "4     -0.002516  0.002917       4        1  10.805663\n",
              "2     -0.001658 -0.000692       5        1   9.264287\n",
              "5     -0.000150  0.001955       6        1   8.457166\n",
              "6      0.001327 -0.001104       7        1   4.886717\n",
              "1      0.006879  0.000665       8        1   2.547299, topic_info=            Term         Freq        Total Category  logprob  loglift\n",
              "473     italiano  1002.000000  1002.000000  Default  30.0000  30.0000\n",
              "944        stare   565.000000   565.000000  Default  29.0000  29.0000\n",
              "973  telegrafico   372.000000   372.000000  Default  28.0000  28.0000\n",
              "36         altro   446.000000   446.000000  Default  27.0000  27.0000\n",
              "51          anno   447.000000   447.000000  Default  26.0000  26.0000\n",
              "..           ...          ...          ...      ...      ...      ...\n",
              "296         dopo     5.776805   251.242935   Topic8  -6.4640  -0.1024\n",
              "412    governare     5.768344   255.668732   Topic8  -6.4655  -0.1214\n",
              "670      partire     6.127980   312.930084   Topic8  -6.4050  -0.2630\n",
              "280    dispaccio     7.051901   483.685974   Topic8  -6.2646  -0.5580\n",
              "271         dire     6.435649   426.487640   Topic8  -6.3560  -0.5236\n",
              "\n",
              "[740 rows x 6 columns], token_table=      Topic      Freq   Term\n",
              "term                        \n",
              "22        1  0.225966  agire\n",
              "22        2  0.215205  agire\n",
              "22        3  0.182925  agire\n",
              "22        4  0.107603  agire\n",
              "22        5  0.118363  agire\n",
              "...     ...       ...    ...\n",
              "1087      4  0.091806  zione\n",
              "1087      5  0.128529  zione\n",
              "1087      6  0.082626  zione\n",
              "1087      7  0.064264  zione\n",
              "1087      8  0.036722  zione\n",
              "\n",
              "[2091 rows x 3 columns], R=30, lambda_step=0.01, plot_opts={'xlab': 'PC1', 'ylab': 'PC2'}, topic_order=[8, 1, 4, 5, 3, 6, 7, 2])"
            ]
          },
          "metadata": {
            "tags": []
          },
          "execution_count": 35
        }
      ]
    },
    {
      "cell_type": "markdown",
      "metadata": {
        "id": "jMh299U-Qowi",
        "colab_type": "text"
      },
      "source": [
        "### 2.2.3 LDA with Mallet"
      ]
    },
    {
      "cell_type": "code",
      "metadata": {
        "id": "TNMEMY3LaQQ-",
        "colab_type": "code",
        "colab": {}
      },
      "source": [
        "%%capture\n",
        "ldamallet = gensim.models.wrappers.LdaMallet(mallet_path, corpus=corpus, num_topics=numtopics, id2word=id2word)"
      ],
      "execution_count": 0,
      "outputs": []
    },
    {
      "cell_type": "code",
      "metadata": {
        "id": "I7VpXA0cahdM",
        "colab_type": "code",
        "outputId": "3269a535-132e-43ec-e76f-fb44fce3f1a5",
        "colab": {
          "base_uri": "https://localhost:8080/",
          "height": 309
        }
      },
      "source": [
        "ldamallet.print_topics()"
      ],
      "execution_count": 0,
      "outputs": [
        {
          "output_type": "execute_result",
          "data": {
            "text/plain": [
              "[(0,\n",
              "  '0.018*\"italiano\" + 0.013*\"roma\" + 0.011*\"italia\" + 0.010*\"dispaccio\" + 0.010*\"giornale\" + 0.009*\"telegrafico\" + 0.009*\"visitare\" + 0.008*\"maggio\" + 0.008*\"presidente\" + 0.007*\"daily\"'),\n",
              " (1,\n",
              "  '0.019*\"italiano\" + 0.010*\"dire\" + 0.009*\"fare\" + 0.008*\"potere\" + 0.008*\"anno\" + 0.007*\"altro\" + 0.007*\"molto\" + 0.007*\"roma\" + 0.007*\"italia\" + 0.007*\"tale\"'),\n",
              " (2,\n",
              "  '0.009*\"città\" + 0.008*\"ieri\" + 0.007*\"mentire\" + 0.007*\"dopo\" + 0.006*\"venire\" + 0.006*\"ebreo\" + 0.006*\"molto\" + 0.006*\"fatto\" + 0.005*\"scrivere\" + 0.005*\"tangere\"'),\n",
              " (3,\n",
              "  '0.024*\"cardinale\" + 0.019*\"papa\" + 0.010*\"chiesa\" + 0.010*\"roma\" + 0.009*\"dopo\" + 0.009*\"pontefice\" + 0.009*\"vaticano\" + 0.008*\"leone\" + 0.008*\"xiii\" + 0.008*\"nome\"'),\n",
              " (4,\n",
              "  '0.013*\"dispaccio\" + 0.011*\"stare\" + 0.010*\"nuovo\" + 0.010*\"governare\" + 0.009*\"telegrafico\" + 0.008*\"italiano\" + 0.008*\"dire\" + 0.008*\"parigi\" + 0.007*\"partire\" + 0.006*\"venire\"'),\n",
              " (5,\n",
              "  '0.015*\"grande\" + 0.014*\"primo\" + 0.013*\"giorno\" + 0.011*\"fare\" + 0.009*\"anno\" + 0.009*\"egli\" + 0.008*\"dare\" + 0.008*\"tutto\" + 0.007*\"volto\" + 0.007*\"poco\"'),\n",
              " (6,\n",
              "  '0.011*\"potere\" + 0.011*\"stare\" + 0.009*\"leggere\" + 0.008*\"sotto\" + 0.007*\"lavorare\" + 0.007*\"essi\" + 0.007*\"cosa\" + 0.006*\"tutto\" + 0.006*\"governare\" + 0.006*\"passare\"'),\n",
              " (7,\n",
              "  '0.012*\"stare\" + 0.010*\"altro\" + 0.009*\"italiano\" + 0.008*\"italia\" + 0.008*\"stato\" + 0.007*\"anno\" + 0.007*\"fare\" + 0.007*\"milione\" + 0.006*\"partire\" + 0.006*\"york\"')]"
            ]
          },
          "metadata": {
            "tags": []
          },
          "execution_count": 37
        }
      ]
    },
    {
      "cell_type": "markdown",
      "metadata": {
        "id": "SSL1PF6zRcft",
        "colab_type": "text"
      },
      "source": [
        "## 2.3 Topic Coherence\n",
        "Topic Coherence measures score of a single topic by measuring the degree of semantic similarity between high scoring words in the topic. https://towardsdatascience.com/evaluate-topic-model-in-python-latent-dirichlet-allocation-lda-7d57484bb5d0"
      ]
    },
    {
      "cell_type": "code",
      "metadata": {
        "id": "GX69kVo-ssrV",
        "colab_type": "code",
        "colab": {}
      },
      "source": [
        "from gensim.models.coherencemodel import CoherenceModel"
      ],
      "execution_count": 0,
      "outputs": []
    },
    {
      "cell_type": "markdown",
      "metadata": {
        "id": "JrAOlaIXSUvb",
        "colab_type": "text"
      },
      "source": [
        "### 2.3.1 Coherence score LDA Gensim"
      ]
    },
    {
      "cell_type": "code",
      "metadata": {
        "id": "XVMfqVqZSbeJ",
        "colab_type": "code",
        "outputId": "9a5351dd-ec7a-4d88-8155-6cc4f41e8f90",
        "colab": {
          "base_uri": "https://localhost:8080/",
          "height": 51
        }
      },
      "source": [
        "coherence_model_ldagensim = CoherenceModel(model=ldagensim, texts=lemmatized_corpus, dictionary=id2word, coherence='c_v')\n",
        "coherence_ldagensim = coherence_model_ldagensim.get_coherence()\n",
        "print('\\nCoherence Score LDA Gensim: ', coherence_ldagensim)"
      ],
      "execution_count": 0,
      "outputs": [
        {
          "output_type": "stream",
          "text": [
            "\n",
            "Coherence Score LDA Gensim:  0.2525277632176363\n"
          ],
          "name": "stdout"
        }
      ]
    },
    {
      "cell_type": "markdown",
      "metadata": {
        "id": "9S5nI7YiSACT",
        "colab_type": "text"
      },
      "source": [
        "### 2.3.1 Coherence score LDA Mallet\n"
      ]
    },
    {
      "cell_type": "code",
      "metadata": {
        "id": "KmPJGdnHsafA",
        "colab_type": "code",
        "outputId": "85d7b69a-ed0d-4390-dcc3-8d6919ae1427",
        "colab": {
          "base_uri": "https://localhost:8080/",
          "height": 51
        }
      },
      "source": [
        "coherence_model_ldamallet = CoherenceModel(model=ldamallet, texts=lemmatized_corpus, dictionary=id2word, coherence='c_v')\n",
        "coherence_ldamallet = coherence_model_ldamallet.get_coherence()\n",
        "print('\\nCoherence Score LDA MAllet: ', coherence_ldamallet)"
      ],
      "execution_count": 0,
      "outputs": [
        {
          "output_type": "stream",
          "text": [
            "\n",
            "Coherence Score LDA MAllet:  0.3493078147319634\n"
          ],
          "name": "stdout"
        }
      ]
    },
    {
      "cell_type": "markdown",
      "metadata": {
        "id": "pjImnk4wAh4u",
        "colab_type": "text"
      },
      "source": [
        "## 2.4 Coherence and number of topics"
      ]
    },
    {
      "cell_type": "markdown",
      "metadata": {
        "colab_type": "text",
        "id": "-C8GGNUoGAuf"
      },
      "source": [
        "### 2.4.1 LDA Gensim"
      ]
    },
    {
      "cell_type": "code",
      "metadata": {
        "colab_type": "code",
        "id": "lWD51u4PGAuh",
        "colab": {}
      },
      "source": [
        "#can take a long time to run\n",
        "%%capture\n",
        "topics_nr = []\n",
        "coherence_values_gensim = []\n",
        "for num_topics in range(2, 20):\n",
        "  model = models.LdaModel(corpus, id2word=id2word, num_topics=num_topics)\n",
        "  coherencemodel = CoherenceModel(model=model, texts=lemmatized_corpus, dictionary=id2word, coherence='c_v')\n",
        "  coherence_value = coherencemodel.get_coherence()\n",
        "  coherence_values_gensim.append(coherence_value)\n",
        "  topics_nr.append(str(num_topics))"
      ],
      "execution_count": 0,
      "outputs": []
    },
    {
      "cell_type": "code",
      "metadata": {
        "id": "7qwexUrMB689",
        "colab_type": "code",
        "outputId": "f7c285cf-cbb7-4ce5-c107-7a886d0a20de",
        "colab": {
          "base_uri": "https://localhost:8080/",
          "height": 323
        }
      },
      "source": [
        "for i in range(len(topics_nr)):\n",
        "  print(\"Num Topics =\", topics_nr[i], \" has Coherence Value of\", round(coherence_values_gensim[i],4))"
      ],
      "execution_count": 0,
      "outputs": [
        {
          "output_type": "stream",
          "text": [
            "Num Topics = 2  has Coherence Value of 0.2501\n",
            "Num Topics = 3  has Coherence Value of 0.2498\n",
            "Num Topics = 4  has Coherence Value of 0.2491\n",
            "Num Topics = 5  has Coherence Value of 0.2572\n",
            "Num Topics = 6  has Coherence Value of 0.2514\n",
            "Num Topics = 7  has Coherence Value of 0.2536\n",
            "Num Topics = 8  has Coherence Value of 0.2532\n",
            "Num Topics = 9  has Coherence Value of 0.2514\n",
            "Num Topics = 10  has Coherence Value of 0.2563\n",
            "Num Topics = 11  has Coherence Value of 0.2545\n",
            "Num Topics = 12  has Coherence Value of 0.2493\n",
            "Num Topics = 13  has Coherence Value of 0.2506\n",
            "Num Topics = 14  has Coherence Value of 0.2534\n",
            "Num Topics = 15  has Coherence Value of 0.2626\n",
            "Num Topics = 16  has Coherence Value of 0.2482\n",
            "Num Topics = 17  has Coherence Value of 0.2508\n",
            "Num Topics = 18  has Coherence Value of 0.2589\n",
            "Num Topics = 19  has Coherence Value of 0.2539\n"
          ],
          "name": "stdout"
        }
      ]
    },
    {
      "cell_type": "code",
      "metadata": {
        "colab_type": "code",
        "id": "H2NSeh81GAur",
        "colab": {}
      },
      "source": [
        "# Visualize coherence scores\n",
        "import matplotlib.pyplot as plt"
      ],
      "execution_count": 0,
      "outputs": []
    },
    {
      "cell_type": "code",
      "metadata": {
        "colab_type": "code",
        "outputId": "8b584e6a-6a85-4aa3-d1ef-c92a0b958c28",
        "id": "YdA1u15bGAut",
        "colab": {
          "base_uri": "https://localhost:8080/",
          "height": 282
        }
      },
      "source": [
        "plt.plot(topics_nr, coherence_values_gensim)"
      ],
      "execution_count": 0,
      "outputs": [
        {
          "output_type": "execute_result",
          "data": {
            "text/plain": [
              "[<matplotlib.lines.Line2D at 0x7f87f0ed7fd0>]"
            ]
          },
          "metadata": {
            "tags": []
          },
          "execution_count": 44
        },
        {
          "output_type": "display_data",
          "data": {
            "image/png": "[encoded data removed]",
            "text/plain": [
              "<Figure size 432x288 with 1 Axes>"
            ]
          },
          "metadata": {
            "tags": [],
            "needs_background": "light"
          }
        }
      ]
    },
    {
      "cell_type": "code",
      "metadata": {
        "colab_type": "code",
        "id": "28j3eHrRGAuv",
        "colab": {}
      },
      "source": [
        "# To analyse the results, the user can print the list of topics for different topic nr"
      ],
      "execution_count": 0,
      "outputs": []
    },
    {
      "cell_type": "code",
      "metadata": {
        "colab_type": "code",
        "id": "Cg6OgRt7GAuy",
        "colab": {}
      },
      "source": [
        "# print topics for nr of topics = 8\n",
        "%%capture\n",
        "numtopics = 8\n",
        "model = models.LdaModel(corpus, id2word=id2word, num_topics=numtopics)"
      ],
      "execution_count": 0,
      "outputs": []
    },
    {
      "cell_type": "code",
      "metadata": {
        "id": "xqZGRK4NCrkJ",
        "colab_type": "code",
        "outputId": "980912e5-6ad5-4108-c877-0d995437d4bd",
        "colab": {
          "base_uri": "https://localhost:8080/",
          "height": 309
        }
      },
      "source": [
        "model.print_topics()"
      ],
      "execution_count": 0,
      "outputs": [
        {
          "output_type": "execute_result",
          "data": {
            "text/plain": [
              "[(0,\n",
              "  '0.007*\"italiano\" + 0.004*\"stare\" + 0.004*\"italia\" + 0.003*\"dispaccio\" + 0.003*\"fare\" + 0.003*\"altro\" + 0.003*\"grande\" + 0.003*\"roma\" + 0.003*\"potere\" + 0.003*\"telegrafico\"'),\n",
              " (1,\n",
              "  '0.007*\"italiano\" + 0.004*\"stare\" + 0.004*\"fare\" + 0.004*\"altro\" + 0.003*\"potere\" + 0.003*\"grande\" + 0.003*\"dire\" + 0.003*\"italia\" + 0.003*\"roma\" + 0.003*\"dispaccio\"'),\n",
              " (2,\n",
              "  '0.008*\"italiano\" + 0.005*\"italia\" + 0.004*\"altro\" + 0.004*\"fare\" + 0.004*\"giornale\" + 0.004*\"stare\" + 0.003*\"tutto\" + 0.003*\"nuovo\" + 0.003*\"primo\" + 0.003*\"giorno\"'),\n",
              " (3,\n",
              "  '0.008*\"italiano\" + 0.004*\"stare\" + 0.004*\"anno\" + 0.003*\"fare\" + 0.003*\"roma\" + 0.003*\"potere\" + 0.003*\"dispaccio\" + 0.003*\"primo\" + 0.003*\"italia\" + 0.003*\"telegrafico\"'),\n",
              " (4,\n",
              "  '0.005*\"italiano\" + 0.004*\"roma\" + 0.004*\"stare\" + 0.003*\"potere\" + 0.003*\"dire\" + 0.003*\"dispaccio\" + 0.003*\"anno\" + 0.003*\"italia\" + 0.003*\"telegrafico\" + 0.003*\"primo\"'),\n",
              " (5,\n",
              "  '0.006*\"italiano\" + 0.003*\"anno\" + 0.003*\"dire\" + 0.003*\"stare\" + 0.003*\"dispaccio\" + 0.003*\"telegrafico\" + 0.003*\"roma\" + 0.003*\"dovere\" + 0.003*\"italia\" + 0.003*\"fare\"'),\n",
              " (6,\n",
              "  '0.007*\"italiano\" + 0.004*\"stare\" + 0.004*\"anno\" + 0.004*\"dispaccio\" + 0.003*\"italia\" + 0.003*\"roma\" + 0.003*\"nuovo\" + 0.003*\"fare\" + 0.003*\"altro\" + 0.003*\"primo\"'),\n",
              " (7,\n",
              "  '0.007*\"italiano\" + 0.004*\"dispaccio\" + 0.003*\"potere\" + 0.003*\"stare\" + 0.003*\"nuovo\" + 0.003*\"altro\" + 0.003*\"fare\" + 0.003*\"roma\" + 0.003*\"italia\" + 0.003*\"dire\"')]"
            ]
          },
          "metadata": {
            "tags": []
          },
          "execution_count": 46
        }
      ]
    },
    {
      "cell_type": "markdown",
      "metadata": {
        "id": "FazsvYeYDxo0",
        "colab_type": "text"
      },
      "source": [
        "### 2.4.2 LDA Mallet"
      ]
    },
    {
      "cell_type": "code",
      "metadata": {
        "id": "BnliBI5FTBDd",
        "colab_type": "code",
        "colab": {}
      },
      "source": [
        "#can take a long time to run\n",
        "%%capture\n",
        "topics_nr = []\n",
        "coherence_values_mallet = []\n",
        "for num_topics in range(2, 20):\n",
        "  model = gensim.models.wrappers.LdaMallet(mallet_path, corpus=corpus, num_topics=num_topics, id2word=id2word)\n",
        "  coherencemodel = CoherenceModel(model=model, texts=lemmatized_corpus, dictionary=id2word, coherence='c_v')\n",
        "  coherence_value = coherencemodel.get_coherence()\n",
        "  coherence_values_mallet.append(coherence_value)\n",
        "  topics_nr.append(str(num_topics))"
      ],
      "execution_count": 0,
      "outputs": []
    },
    {
      "cell_type": "code",
      "metadata": {
        "id": "dSEG4NBSC5BZ",
        "colab_type": "code",
        "outputId": "a3fd38a6-ffb5-4002-ec67-fb81b610ce87",
        "colab": {
          "base_uri": "https://localhost:8080/",
          "height": 323
        }
      },
      "source": [
        "for i in range(len(topics_nr)):\n",
        "  print(\"Num Topics =\", topics_nr[i], \" has Coherence Value of\", round(coherence_values_mallet[i],4))"
      ],
      "execution_count": 0,
      "outputs": [
        {
          "output_type": "stream",
          "text": [
            "Num Topics = 2  has Coherence Value of 0.3036\n",
            "Num Topics = 3  has Coherence Value of 0.2915\n",
            "Num Topics = 4  has Coherence Value of 0.319\n",
            "Num Topics = 5  has Coherence Value of 0.313\n",
            "Num Topics = 6  has Coherence Value of 0.3432\n",
            "Num Topics = 7  has Coherence Value of 0.3556\n",
            "Num Topics = 8  has Coherence Value of 0.3516\n",
            "Num Topics = 9  has Coherence Value of 0.3558\n",
            "Num Topics = 10  has Coherence Value of 0.3524\n",
            "Num Topics = 11  has Coherence Value of 0.3319\n",
            "Num Topics = 12  has Coherence Value of 0.35\n",
            "Num Topics = 13  has Coherence Value of 0.3639\n",
            "Num Topics = 14  has Coherence Value of 0.3497\n",
            "Num Topics = 15  has Coherence Value of 0.3665\n",
            "Num Topics = 16  has Coherence Value of 0.3448\n",
            "Num Topics = 17  has Coherence Value of 0.354\n",
            "Num Topics = 18  has Coherence Value of 0.3628\n",
            "Num Topics = 19  has Coherence Value of 0.3424\n"
          ],
          "name": "stdout"
        }
      ]
    },
    {
      "cell_type": "code",
      "metadata": {
        "id": "oIso5UpAMk02",
        "colab_type": "code",
        "outputId": "40cde558-da0b-4bb1-a036-918907e0dd76",
        "colab": {
          "base_uri": "https://localhost:8080/",
          "height": 286
        }
      },
      "source": [
        "plt.plot(topics_nr, coherence_values_mallet)"
      ],
      "execution_count": 0,
      "outputs": [
        {
          "output_type": "execute_result",
          "data": {
            "text/plain": [
              "[<matplotlib.lines.Line2D at 0x7f87f0ebfc50>]"
            ]
          },
          "metadata": {
            "tags": []
          },
          "execution_count": 49
        },
        {
          "output_type": "display_data",
          "data": {
            "image/png": "[encoded data removed]",
            "text/plain": [
              "<Figure size 432x288 with 1 Axes>"
            ]
          },
          "metadata": {
            "tags": [],
            "needs_background": "light"
          }
        }
      ]
    },
    {
      "cell_type": "code",
      "metadata": {
        "id": "zaRiYNAlQKY6",
        "colab_type": "code",
        "colab": {}
      },
      "source": [
        "# To analyse the results, the user can print the list of topics for different topic nr"
      ],
      "execution_count": 0,
      "outputs": []
    },
    {
      "cell_type": "code",
      "metadata": {
        "id": "JiK6edH3RA4G",
        "colab_type": "code",
        "colab": {}
      },
      "source": [
        "# print topics for nr of topics = 8\n",
        "%%capture\n",
        "numtopics = 8\n",
        "model = gensim.models.wrappers.LdaMallet(mallet_path, corpus=corpus, num_topics=numtopics, id2word=id2word)"
      ],
      "execution_count": 0,
      "outputs": []
    },
    {
      "cell_type": "code",
      "metadata": {
        "id": "p445G7PYDSin",
        "colab_type": "code",
        "outputId": "4694e62b-7f97-4492-cdc4-e6fa9031cb2b",
        "colab": {
          "base_uri": "https://localhost:8080/",
          "height": 309
        }
      },
      "source": [
        "model.print_topics()"
      ],
      "execution_count": 0,
      "outputs": [
        {
          "output_type": "execute_result",
          "data": {
            "text/plain": [
              "[(0,\n",
              "  '0.014*\"giorno\" + 0.009*\"italiano\" + 0.009*\"maggio\" + 0.008*\"nome\" + 0.008*\"gran\" + 0.007*\"giornale\" + 0.007*\"popolare\" + 0.007*\"perchè\" + 0.006*\"morto\" + 0.006*\"italian\"'),\n",
              " (1,\n",
              "  '0.017*\"italiano\" + 0.012*\"stare\" + 0.011*\"fare\" + 0.010*\"potere\" + 0.010*\"paese\" + 0.009*\"altro\" + 0.007*\"dovere\" + 0.007*\"operare\" + 0.007*\"anno\" + 0.007*\"essere\"'),\n",
              " (2,\n",
              "  '0.019*\"italiano\" + 0.011*\"americano\" + 0.010*\"stato\" + 0.009*\"dispaccio\" + 0.008*\"unito\" + 0.008*\"generale\" + 0.007*\"daily\" + 0.007*\"giugno\" + 0.007*\"york\" + 0.006*\"avere\"'),\n",
              " (3,\n",
              "  '0.011*\"dispaccio\" + 0.009*\"anno\" + 0.009*\"telegrafico\" + 0.009*\"partire\" + 0.008*\"nuovo\" + 0.008*\"milione\" + 0.007*\"gran\" + 0.007*\"mila\" + 0.007*\"italia\" + 0.007*\"primo\"'),\n",
              " (4,\n",
              "  '0.012*\"stare\" + 0.012*\"potere\" + 0.011*\"leggere\" + 0.010*\"tutto\" + 0.009*\"lavorare\" + 0.008*\"sotto\" + 0.007*\"quando\" + 0.007*\"nuovo\" + 0.006*\"cosa\" + 0.005*\"senza\"'),\n",
              " (5,\n",
              "  '0.022*\"cardinale\" + 0.018*\"papa\" + 0.011*\"roma\" + 0.009*\"chiesa\" + 0.009*\"nuovo\" + 0.008*\"pontefice\" + 0.008*\"vaticano\" + 0.007*\"leone\" + 0.007*\"xiii\" + 0.007*\"italiano\"'),\n",
              " (6,\n",
              "  '0.015*\"fare\" + 0.012*\"grande\" + 0.012*\"egli\" + 0.009*\"dire\" + 0.008*\"italia\" + 0.008*\"tutto\" + 0.007*\"giornale\" + 0.007*\"quotidiano\" + 0.006*\"parlare\" + 0.006*\"volere\"'),\n",
              " (7,\n",
              "  '0.018*\"roma\" + 0.012*\"ministrare\" + 0.010*\"italiano\" + 0.009*\"dispaccio\" + 0.009*\"dopo\" + 0.008*\"governare\" + 0.008*\"telegrafico\" + 0.008*\"venire\" + 0.007*\"parigi\" + 0.007*\"stare\"')]"
            ]
          },
          "metadata": {
            "tags": []
          },
          "execution_count": 51
        }
      ]
    },
    {
      "cell_type": "markdown",
      "metadata": {
        "id": "Tn70q1uGWx40",
        "colab_type": "text"
      },
      "source": [
        "# Topic distribution"
      ]
    },
    {
      "cell_type": "markdown",
      "metadata": {
        "id": "G-nJuD7-XCyf",
        "colab_type": "text"
      },
      "source": [
        "## 3.1. Gensim"
      ]
    },
    {
      "cell_type": "markdown",
      "metadata": {
        "id": "tJQWcQhLXN0A",
        "colab_type": "text"
      },
      "source": [
        "### 3.1.1. Distribution per topic and per document"
      ]
    },
    {
      "cell_type": "code",
      "metadata": {
        "id": "uCv_Yd4LXNCs",
        "colab_type": "code",
        "colab": {}
      },
      "source": [
        "%%capture\n",
        "numtopics = 8\n",
        "ldamodel = models.LdaModel(corpus, num_topics=numtopics, id2word = id2word, minimum_probability=0)"
      ],
      "execution_count": 0,
      "outputs": []
    },
    {
      "cell_type": "code",
      "metadata": {
        "id": "FfTOWir8ijZz",
        "colab_type": "code",
        "colab": {}
      },
      "source": [
        "doc_topic_weights = ldamodel.inference(corpus)[0]\n",
        "doc_topic_dists = doc_topic_weights / doc_topic_weights.sum(axis=1)[:, None]"
      ],
      "execution_count": 0,
      "outputs": []
    },
    {
      "cell_type": "code",
      "metadata": {
        "id": "QceWuyVJi0yE",
        "colab_type": "code",
        "colab": {}
      },
      "source": [
        "distribution_gensim = pd.DataFrame(doc_topic_dists,columns=[f'topic{i}' for i in range(numtopics)])"
      ],
      "execution_count": 0,
      "outputs": []
    },
    {
      "cell_type": "code",
      "metadata": {
        "id": "VdJPQTn5nMvx",
        "colab_type": "code",
        "colab": {}
      },
      "source": [
        "distribution_gensim.index.name = 'document'"
      ],
      "execution_count": 0,
      "outputs": []
    },
    {
      "cell_type": "code",
      "metadata": {
        "id": "nuNjFvpSXf33",
        "colab_type": "code",
        "outputId": "6f780d25-1c71-43da-935f-473ee74c6d4c",
        "colab": {
          "base_uri": "https://localhost:8080/",
          "height": 620
        }
      },
      "source": [
        "# add file names\n",
        "distribution_gensim_wfiles = distribution_gensim.copy()\n",
        "distribution_gensim_wfiles.insert(0, 'document_path', sources['file_name'])\n",
        "distribution_gensim_wfiles"
      ],
      "execution_count": 0,
      "outputs": [
        {
          "output_type": "execute_result",
          "data": {
            "text/html": [
              "<div>\n",
              "<style scoped>\n",
              "    .dataframe tbody tr th:only-of-type {\n",
              "        vertical-align: middle;\n",
              "    }\n",
              "\n",
              "    .dataframe tbody tr th {\n",
              "        vertical-align: top;\n",
              "    }\n",
              "\n",
              "    .dataframe thead th {\n",
              "        text-align: right;\n",
              "    }\n",
              "</style>\n",
              "<table border=\"1\" class=\"dataframe\">\n",
              "  <thead>\n",
              "    <tr style=\"text-align: right;\">\n",
              "      <th></th>\n",
              "      <th>document_path</th>\n",
              "      <th>topic0</th>\n",
              "      <th>topic1</th>\n",
              "      <th>topic2</th>\n",
              "      <th>topic3</th>\n",
              "      <th>topic4</th>\n",
              "      <th>topic5</th>\n",
              "      <th>topic6</th>\n",
              "      <th>topic7</th>\n",
              "    </tr>\n",
              "    <tr>\n",
              "      <th>document</th>\n",
              "      <th></th>\n",
              "      <th></th>\n",
              "      <th></th>\n",
              "      <th></th>\n",
              "      <th></th>\n",
              "      <th></th>\n",
              "      <th></th>\n",
              "      <th></th>\n",
              "      <th></th>\n",
              "    </tr>\n",
              "  </thead>\n",
              "  <tbody>\n",
              "    <tr>\n",
              "      <th>0</th>\n",
              "      <td>sn85066408_1903-04-27_ed-1_seq-1_ocr.txt</td>\n",
              "      <td>0.000078</td>\n",
              "      <td>0.000078</td>\n",
              "      <td>0.000078</td>\n",
              "      <td>0.000078</td>\n",
              "      <td>0.686621</td>\n",
              "      <td>0.000078</td>\n",
              "      <td>0.312908</td>\n",
              "      <td>0.000078</td>\n",
              "    </tr>\n",
              "    <tr>\n",
              "      <th>1</th>\n",
              "      <td>sn85066408_1903-04-28_ed-1_seq-1_ocr.txt</td>\n",
              "      <td>0.246286</td>\n",
              "      <td>0.000070</td>\n",
              "      <td>0.000070</td>\n",
              "      <td>0.000070</td>\n",
              "      <td>0.000070</td>\n",
              "      <td>0.054853</td>\n",
              "      <td>0.698513</td>\n",
              "      <td>0.000070</td>\n",
              "    </tr>\n",
              "    <tr>\n",
              "      <th>2</th>\n",
              "      <td>sn85066408_1903-04-29_ed-1_seq-1_ocr.txt</td>\n",
              "      <td>0.000093</td>\n",
              "      <td>0.000093</td>\n",
              "      <td>0.000093</td>\n",
              "      <td>0.000093</td>\n",
              "      <td>0.000093</td>\n",
              "      <td>0.000093</td>\n",
              "      <td>0.999351</td>\n",
              "      <td>0.000093</td>\n",
              "    </tr>\n",
              "    <tr>\n",
              "      <th>3</th>\n",
              "      <td>sn85066408_1903-04-30_ed-1_seq-1_ocr.txt</td>\n",
              "      <td>0.000100</td>\n",
              "      <td>0.000100</td>\n",
              "      <td>0.000100</td>\n",
              "      <td>0.000100</td>\n",
              "      <td>0.572631</td>\n",
              "      <td>0.000100</td>\n",
              "      <td>0.426770</td>\n",
              "      <td>0.000100</td>\n",
              "    </tr>\n",
              "    <tr>\n",
              "      <th>4</th>\n",
              "      <td>sn85066408_1903-05-01_ed-1_seq-1_ocr.txt</td>\n",
              "      <td>0.000150</td>\n",
              "      <td>0.998949</td>\n",
              "      <td>0.000150</td>\n",
              "      <td>0.000150</td>\n",
              "      <td>0.000150</td>\n",
              "      <td>0.000150</td>\n",
              "      <td>0.000150</td>\n",
              "      <td>0.000150</td>\n",
              "    </tr>\n",
              "    <tr>\n",
              "      <th>...</th>\n",
              "      <td>...</td>\n",
              "      <td>...</td>\n",
              "      <td>...</td>\n",
              "      <td>...</td>\n",
              "      <td>...</td>\n",
              "      <td>...</td>\n",
              "      <td>...</td>\n",
              "      <td>...</td>\n",
              "      <td>...</td>\n",
              "    </tr>\n",
              "    <tr>\n",
              "      <th>95</th>\n",
              "      <td>sn85066408_1903-08-05_ed-1_seq-1_ocr.txt</td>\n",
              "      <td>0.000289</td>\n",
              "      <td>0.000289</td>\n",
              "      <td>0.000289</td>\n",
              "      <td>0.000289</td>\n",
              "      <td>0.000289</td>\n",
              "      <td>0.000289</td>\n",
              "      <td>0.000289</td>\n",
              "      <td>0.997977</td>\n",
              "    </tr>\n",
              "    <tr>\n",
              "      <th>96</th>\n",
              "      <td>sn85066408_1903-08-06_ed-1_seq-1_ocr.txt</td>\n",
              "      <td>0.000086</td>\n",
              "      <td>0.128302</td>\n",
              "      <td>0.000086</td>\n",
              "      <td>0.024126</td>\n",
              "      <td>0.810042</td>\n",
              "      <td>0.000086</td>\n",
              "      <td>0.037187</td>\n",
              "      <td>0.000086</td>\n",
              "    </tr>\n",
              "    <tr>\n",
              "      <th>97</th>\n",
              "      <td>sn85066408_1903-08-07_ed-1_seq-1_ocr.txt</td>\n",
              "      <td>0.000076</td>\n",
              "      <td>0.002932</td>\n",
              "      <td>0.000076</td>\n",
              "      <td>0.000076</td>\n",
              "      <td>0.000076</td>\n",
              "      <td>0.000076</td>\n",
              "      <td>0.996610</td>\n",
              "      <td>0.000076</td>\n",
              "    </tr>\n",
              "    <tr>\n",
              "      <th>98</th>\n",
              "      <td>2012271201_1903-08-08_ed-1_seq-1_ocr.txt</td>\n",
              "      <td>0.000142</td>\n",
              "      <td>0.000525</td>\n",
              "      <td>0.000142</td>\n",
              "      <td>0.000142</td>\n",
              "      <td>0.165696</td>\n",
              "      <td>0.833066</td>\n",
              "      <td>0.000142</td>\n",
              "      <td>0.000142</td>\n",
              "    </tr>\n",
              "    <tr>\n",
              "      <th>99</th>\n",
              "      <td>sn85066408_1903-08-08_ed-1_seq-1_ocr.txt</td>\n",
              "      <td>0.000085</td>\n",
              "      <td>0.000083</td>\n",
              "      <td>0.000083</td>\n",
              "      <td>0.000083</td>\n",
              "      <td>0.978996</td>\n",
              "      <td>0.000083</td>\n",
              "      <td>0.020503</td>\n",
              "      <td>0.000083</td>\n",
              "    </tr>\n",
              "  </tbody>\n",
              "</table>\n",
              "<p>100 rows × 9 columns</p>\n",
              "</div>"
            ],
            "text/plain": [
              "                                     document_path  ...    topic7\n",
              "document                                            ...          \n",
              "0         sn85066408_1903-04-27_ed-1_seq-1_ocr.txt  ...  0.000078\n",
              "1         sn85066408_1903-04-28_ed-1_seq-1_ocr.txt  ...  0.000070\n",
              "2         sn85066408_1903-04-29_ed-1_seq-1_ocr.txt  ...  0.000093\n",
              "3         sn85066408_1903-04-30_ed-1_seq-1_ocr.txt  ...  0.000100\n",
              "4         sn85066408_1903-05-01_ed-1_seq-1_ocr.txt  ...  0.000150\n",
              "...                                            ...  ...       ...\n",
              "95        sn85066408_1903-08-05_ed-1_seq-1_ocr.txt  ...  0.997977\n",
              "96        sn85066408_1903-08-06_ed-1_seq-1_ocr.txt  ...  0.000086\n",
              "97        sn85066408_1903-08-07_ed-1_seq-1_ocr.txt  ...  0.000076\n",
              "98        2012271201_1903-08-08_ed-1_seq-1_ocr.txt  ...  0.000142\n",
              "99        sn85066408_1903-08-08_ed-1_seq-1_ocr.txt  ...  0.000083\n",
              "\n",
              "[100 rows x 9 columns]"
            ]
          },
          "metadata": {
            "tags": []
          },
          "execution_count": 56
        }
      ]
    },
    {
      "cell_type": "markdown",
      "metadata": {
        "id": "Q1EdarG6YJFp",
        "colab_type": "text"
      },
      "source": [
        "### 3.1.2. Distribution per topic for the whole corpus"
      ]
    },
    {
      "cell_type": "code",
      "metadata": {
        "id": "6iBxEA9V_hXp",
        "colab_type": "code",
        "colab": {}
      },
      "source": [
        "sources['doc_length'] = sources['doc_lemmatized'].apply(lambda x: len(x))"
      ],
      "execution_count": 0,
      "outputs": []
    },
    {
      "cell_type": "code",
      "metadata": {
        "id": "UizB-FXbkyU5",
        "colab_type": "code",
        "colab": {}
      },
      "source": [
        "topic_frequency = distribution_gensim.mul(sources['doc_length'], axis=0).sum()"
      ],
      "execution_count": 0,
      "outputs": []
    },
    {
      "cell_type": "code",
      "metadata": {
        "id": "ZNUXaqG7lxgv",
        "colab_type": "code",
        "colab": {}
      },
      "source": [
        "topic_proportion = (topic_frequency / topic_frequency.sum()*100).sort_values(ascending=False)"
      ],
      "execution_count": 0,
      "outputs": []
    },
    {
      "cell_type": "code",
      "metadata": {
        "id": "zvWpCLlrmDt-",
        "colab_type": "code",
        "outputId": "ab2e4085-1a94-43e8-c7e0-926775724030",
        "colab": {
          "base_uri": "https://localhost:8080/",
          "height": 170
        }
      },
      "source": [
        "topic_proportion"
      ],
      "execution_count": 0,
      "outputs": [
        {
          "output_type": "execute_result",
          "data": {
            "text/plain": [
              "topic6    65.626495\n",
              "topic4    11.417770\n",
              "topic0     7.381421\n",
              "topic1     5.679488\n",
              "topic3     2.998557\n",
              "topic7     2.680700\n",
              "topic5     2.383458\n",
              "topic2     1.832112\n",
              "dtype: float64"
            ]
          },
          "metadata": {
            "tags": []
          },
          "execution_count": 60
        }
      ]
    },
    {
      "cell_type": "code",
      "metadata": {
        "id": "KBwF9mpuvtWF",
        "colab_type": "code",
        "colab": {}
      },
      "source": [
        "# dataframe with values to sort them by order of importance\n",
        "distribution_df_gensim = pd.DataFrame(topic_proportion, columns=['weight'])"
      ],
      "execution_count": 0,
      "outputs": []
    },
    {
      "cell_type": "code",
      "metadata": {
        "id": "jqRdWxvrx6d5",
        "colab_type": "code",
        "colab": {}
      },
      "source": [
        "distribution_df_gensim.index.name = \"topics\""
      ],
      "execution_count": 0,
      "outputs": []
    },
    {
      "cell_type": "code",
      "metadata": {
        "id": "1VbLHDuRsOfq",
        "colab_type": "code",
        "colab": {}
      },
      "source": [
        "topics = distribution_df_gensim.index.array"
      ],
      "execution_count": 0,
      "outputs": []
    },
    {
      "cell_type": "code",
      "metadata": {
        "id": "JGE5O2-_u4_I",
        "colab_type": "code",
        "outputId": "fe8534c0-4769-44da-a5ae-7f7655303ad2",
        "colab": {
          "base_uri": "https://localhost:8080/",
          "height": 466
        }
      },
      "source": [
        "plt.rcdefaults()\n",
        "fig, ax = plt.subplots()\n",
        "ax.barh(topics, distribution_df_gensim['weight'], align='center')\n",
        "ax.set_xlabel('Weight (%)')"
      ],
      "execution_count": 0,
      "outputs": [
        {
          "output_type": "execute_result",
          "data": {
            "text/plain": [
              "Text(0.5, 0, 'Weight (%)')"
            ]
          },
          "metadata": {
            "tags": []
          },
          "execution_count": 64
        },
        {
          "output_type": "display_data",
          "data": {
            "image/png": "[encoded data removed]",
            "text/plain": [
              "<Figure size 640x480 with 1 Axes>"
            ]
          },
          "metadata": {
            "tags": []
          }
        }
      ]
    },
    {
      "cell_type": "markdown",
      "metadata": {
        "id": "-R4PqRHS5gzM",
        "colab_type": "text"
      },
      "source": [
        "##3.2 Mallet"
      ]
    },
    {
      "cell_type": "markdown",
      "metadata": {
        "id": "edtyLQcA6XAi",
        "colab_type": "text"
      },
      "source": [
        "### 3.2.1 Distribution per topic and per document"
      ]
    },
    {
      "cell_type": "code",
      "metadata": {
        "id": "bDZ6nah2Zqj3",
        "colab_type": "code",
        "colab": {}
      },
      "source": [
        "%%capture\n",
        "#create variable to retranslate model to Gensim, to be able to compute distribution at a later stage\n",
        "numtopics = 8\n",
        "ldamodel = models.LdaModel(corpus, num_topics=numtopics, id2word = id2word, minimum_probability=0)\n",
        "ldamallet = model = gensim.models.wrappers.LdaMallet(mallet_path, corpus=corpus, num_topics=numtopics, id2word=id2word)\n",
        "ldamallet_to_gensim = gensim.models.wrappers.ldamallet.malletmodel2ldamodel(ldamallet)"
      ],
      "execution_count": 0,
      "outputs": []
    },
    {
      "cell_type": "code",
      "metadata": {
        "id": "Eq2qaN2rtdcZ",
        "colab_type": "code",
        "colab": {}
      },
      "source": [
        "doc_topic_weights_mallet = ldamallet_to_gensim.inference(corpus)[0]"
      ],
      "execution_count": 0,
      "outputs": []
    },
    {
      "cell_type": "code",
      "metadata": {
        "id": "fkTcBEItt15E",
        "colab_type": "code",
        "colab": {}
      },
      "source": [
        "doc_topic_dists_mallet = doc_topic_weights_mallet / doc_topic_weights_mallet.sum(axis=1)[:, None]"
      ],
      "execution_count": 0,
      "outputs": []
    },
    {
      "cell_type": "code",
      "metadata": {
        "id": "Qr-jOOZDuDf9",
        "colab_type": "code",
        "colab": {}
      },
      "source": [
        "distribution_mallet = pd.DataFrame(doc_topic_dists_mallet,columns=[f'topic{i}' for i in range(numtopics)])"
      ],
      "execution_count": 0,
      "outputs": []
    },
    {
      "cell_type": "code",
      "metadata": {
        "id": "vGTpKi7EuJSX",
        "colab_type": "code",
        "colab": {}
      },
      "source": [
        "distribution_mallet.index.name = 'document'"
      ],
      "execution_count": 0,
      "outputs": []
    },
    {
      "cell_type": "code",
      "metadata": {
        "id": "wpWshqQ-uhO1",
        "colab_type": "code",
        "outputId": "016cfe33-8176-486b-f767-bd69c010dfea",
        "colab": {
          "base_uri": "https://localhost:8080/",
          "height": 620
        }
      },
      "source": [
        "# add file names\n",
        "distribution_mallet_wfiles = distribution_mallet.copy()\n",
        "distribution_mallet_wfiles.insert(0, 'document_path', sources['file_name'])\n",
        "distribution_mallet_wfiles"
      ],
      "execution_count": 0,
      "outputs": [
        {
          "output_type": "execute_result",
          "data": {
            "text/html": [
              "<div>\n",
              "<style scoped>\n",
              "    .dataframe tbody tr th:only-of-type {\n",
              "        vertical-align: middle;\n",
              "    }\n",
              "\n",
              "    .dataframe tbody tr th {\n",
              "        vertical-align: top;\n",
              "    }\n",
              "\n",
              "    .dataframe thead th {\n",
              "        text-align: right;\n",
              "    }\n",
              "</style>\n",
              "<table border=\"1\" class=\"dataframe\">\n",
              "  <thead>\n",
              "    <tr style=\"text-align: right;\">\n",
              "      <th></th>\n",
              "      <th>document_path</th>\n",
              "      <th>topic0</th>\n",
              "      <th>topic1</th>\n",
              "      <th>topic2</th>\n",
              "      <th>topic3</th>\n",
              "      <th>topic4</th>\n",
              "      <th>topic5</th>\n",
              "      <th>topic6</th>\n",
              "      <th>topic7</th>\n",
              "    </tr>\n",
              "    <tr>\n",
              "      <th>document</th>\n",
              "      <th></th>\n",
              "      <th></th>\n",
              "      <th></th>\n",
              "      <th></th>\n",
              "      <th></th>\n",
              "      <th></th>\n",
              "      <th></th>\n",
              "      <th></th>\n",
              "      <th></th>\n",
              "    </tr>\n",
              "  </thead>\n",
              "  <tbody>\n",
              "    <tr>\n",
              "      <th>0</th>\n",
              "      <td>sn85066408_1903-04-27_ed-1_seq-1_ocr.txt</td>\n",
              "      <td>0.093817</td>\n",
              "      <td>0.059732</td>\n",
              "      <td>0.151320</td>\n",
              "      <td>0.124458</td>\n",
              "      <td>0.049916</td>\n",
              "      <td>0.298955</td>\n",
              "      <td>0.058024</td>\n",
              "      <td>0.163778</td>\n",
              "    </tr>\n",
              "    <tr>\n",
              "      <th>1</th>\n",
              "      <td>sn85066408_1903-04-28_ed-1_seq-1_ocr.txt</td>\n",
              "      <td>0.106168</td>\n",
              "      <td>0.092802</td>\n",
              "      <td>0.060745</td>\n",
              "      <td>0.080671</td>\n",
              "      <td>0.042847</td>\n",
              "      <td>0.229950</td>\n",
              "      <td>0.067799</td>\n",
              "      <td>0.319018</td>\n",
              "    </tr>\n",
              "    <tr>\n",
              "      <th>2</th>\n",
              "      <td>sn85066408_1903-04-29_ed-1_seq-1_ocr.txt</td>\n",
              "      <td>0.210531</td>\n",
              "      <td>0.144300</td>\n",
              "      <td>0.174361</td>\n",
              "      <td>0.048388</td>\n",
              "      <td>0.031279</td>\n",
              "      <td>0.207593</td>\n",
              "      <td>0.028640</td>\n",
              "      <td>0.154908</td>\n",
              "    </tr>\n",
              "    <tr>\n",
              "      <th>3</th>\n",
              "      <td>sn85066408_1903-04-30_ed-1_seq-1_ocr.txt</td>\n",
              "      <td>0.096642</td>\n",
              "      <td>0.101234</td>\n",
              "      <td>0.125268</td>\n",
              "      <td>0.063077</td>\n",
              "      <td>0.064394</td>\n",
              "      <td>0.391957</td>\n",
              "      <td>0.034039</td>\n",
              "      <td>0.123390</td>\n",
              "    </tr>\n",
              "    <tr>\n",
              "      <th>4</th>\n",
              "      <td>sn85066408_1903-05-01_ed-1_seq-1_ocr.txt</td>\n",
              "      <td>0.294959</td>\n",
              "      <td>0.015236</td>\n",
              "      <td>0.209476</td>\n",
              "      <td>0.046550</td>\n",
              "      <td>0.028719</td>\n",
              "      <td>0.114869</td>\n",
              "      <td>0.182340</td>\n",
              "      <td>0.107851</td>\n",
              "    </tr>\n",
              "    <tr>\n",
              "      <th>...</th>\n",
              "      <td>...</td>\n",
              "      <td>...</td>\n",
              "      <td>...</td>\n",
              "      <td>...</td>\n",
              "      <td>...</td>\n",
              "      <td>...</td>\n",
              "      <td>...</td>\n",
              "      <td>...</td>\n",
              "      <td>...</td>\n",
              "    </tr>\n",
              "    <tr>\n",
              "      <th>95</th>\n",
              "      <td>sn85066408_1903-08-05_ed-1_seq-1_ocr.txt</td>\n",
              "      <td>0.255443</td>\n",
              "      <td>0.051926</td>\n",
              "      <td>0.056623</td>\n",
              "      <td>0.069092</td>\n",
              "      <td>0.409630</td>\n",
              "      <td>0.097537</td>\n",
              "      <td>0.027841</td>\n",
              "      <td>0.031907</td>\n",
              "    </tr>\n",
              "    <tr>\n",
              "      <th>96</th>\n",
              "      <td>sn85066408_1903-08-06_ed-1_seq-1_ocr.txt</td>\n",
              "      <td>0.145809</td>\n",
              "      <td>0.051360</td>\n",
              "      <td>0.066069</td>\n",
              "      <td>0.068417</td>\n",
              "      <td>0.215523</td>\n",
              "      <td>0.103669</td>\n",
              "      <td>0.039587</td>\n",
              "      <td>0.309566</td>\n",
              "    </tr>\n",
              "    <tr>\n",
              "      <th>97</th>\n",
              "      <td>sn85066408_1903-08-07_ed-1_seq-1_ocr.txt</td>\n",
              "      <td>0.223043</td>\n",
              "      <td>0.088606</td>\n",
              "      <td>0.125114</td>\n",
              "      <td>0.064388</td>\n",
              "      <td>0.222572</td>\n",
              "      <td>0.053591</td>\n",
              "      <td>0.063675</td>\n",
              "      <td>0.159011</td>\n",
              "    </tr>\n",
              "    <tr>\n",
              "      <th>98</th>\n",
              "      <td>2012271201_1903-08-08_ed-1_seq-1_ocr.txt</td>\n",
              "      <td>0.161974</td>\n",
              "      <td>0.025361</td>\n",
              "      <td>0.029337</td>\n",
              "      <td>0.081284</td>\n",
              "      <td>0.019693</td>\n",
              "      <td>0.017936</td>\n",
              "      <td>0.619932</td>\n",
              "      <td>0.044483</td>\n",
              "    </tr>\n",
              "    <tr>\n",
              "      <th>99</th>\n",
              "      <td>sn85066408_1903-08-08_ed-1_seq-1_ocr.txt</td>\n",
              "      <td>0.115081</td>\n",
              "      <td>0.019061</td>\n",
              "      <td>0.073227</td>\n",
              "      <td>0.094539</td>\n",
              "      <td>0.133072</td>\n",
              "      <td>0.187192</td>\n",
              "      <td>0.059678</td>\n",
              "      <td>0.318150</td>\n",
              "    </tr>\n",
              "  </tbody>\n",
              "</table>\n",
              "<p>100 rows × 9 columns</p>\n",
              "</div>"
            ],
            "text/plain": [
              "                                     document_path  ...    topic7\n",
              "document                                            ...          \n",
              "0         sn85066408_1903-04-27_ed-1_seq-1_ocr.txt  ...  0.163778\n",
              "1         sn85066408_1903-04-28_ed-1_seq-1_ocr.txt  ...  0.319018\n",
              "2         sn85066408_1903-04-29_ed-1_seq-1_ocr.txt  ...  0.154908\n",
              "3         sn85066408_1903-04-30_ed-1_seq-1_ocr.txt  ...  0.123390\n",
              "4         sn85066408_1903-05-01_ed-1_seq-1_ocr.txt  ...  0.107851\n",
              "...                                            ...  ...       ...\n",
              "95        sn85066408_1903-08-05_ed-1_seq-1_ocr.txt  ...  0.031907\n",
              "96        sn85066408_1903-08-06_ed-1_seq-1_ocr.txt  ...  0.309566\n",
              "97        sn85066408_1903-08-07_ed-1_seq-1_ocr.txt  ...  0.159011\n",
              "98        2012271201_1903-08-08_ed-1_seq-1_ocr.txt  ...  0.044483\n",
              "99        sn85066408_1903-08-08_ed-1_seq-1_ocr.txt  ...  0.318150\n",
              "\n",
              "[100 rows x 9 columns]"
            ]
          },
          "metadata": {
            "tags": []
          },
          "execution_count": 70
        }
      ]
    },
    {
      "cell_type": "markdown",
      "metadata": {
        "id": "O_2y12da6ern",
        "colab_type": "text"
      },
      "source": [
        "### 3.2.2. Distribution per topic for the whole corpus"
      ]
    },
    {
      "cell_type": "code",
      "metadata": {
        "id": "q2cVO-ybvOc5",
        "colab_type": "code",
        "colab": {}
      },
      "source": [
        "topic_frequency_mallet = distribution_mallet.mul(sources['doc_length'], axis=0).sum()"
      ],
      "execution_count": 0,
      "outputs": []
    },
    {
      "cell_type": "code",
      "metadata": {
        "id": "ZThReYvGvaCK",
        "colab_type": "code",
        "colab": {}
      },
      "source": [
        "topic_proportion_mallet = (topic_frequency_mallet / topic_frequency_mallet.sum()*100).sort_values(ascending=False)"
      ],
      "execution_count": 0,
      "outputs": []
    },
    {
      "cell_type": "code",
      "metadata": {
        "id": "m866RSUxvpqY",
        "colab_type": "code",
        "colab": {}
      },
      "source": [
        "distribution_df_mallet = pd.DataFrame(topic_proportion_mallet, columns=['weight'])"
      ],
      "execution_count": 0,
      "outputs": []
    },
    {
      "cell_type": "code",
      "metadata": {
        "id": "LA9QvUMuwK5l",
        "colab_type": "code",
        "colab": {}
      },
      "source": [
        "distribution_df_mallet.index.name = \"topics\""
      ],
      "execution_count": 0,
      "outputs": []
    },
    {
      "cell_type": "code",
      "metadata": {
        "id": "M4A8YFU8wRHK",
        "colab_type": "code",
        "colab": {}
      },
      "source": [
        "topics_mallet = distribution_df_mallet.index.array"
      ],
      "execution_count": 0,
      "outputs": []
    },
    {
      "cell_type": "code",
      "metadata": {
        "id": "fQKghPGT78Uz",
        "colab_type": "code",
        "outputId": "dd002847-f0bb-4c49-9d03-47a128eae93d",
        "colab": {
          "base_uri": "https://localhost:8080/",
          "height": 466
        }
      },
      "source": [
        "plt.rcdefaults()\n",
        "fig, ax = plt.subplots()\n",
        "ax.barh(topics_mallet, distribution_df_mallet['weight'], align='center')\n",
        "ax.set_xlabel('Weight (%)')"
      ],
      "execution_count": 0,
      "outputs": [
        {
          "output_type": "execute_result",
          "data": {
            "text/plain": [
              "Text(0.5, 0, 'Weight (%)')"
            ]
          },
          "metadata": {
            "tags": []
          },
          "execution_count": 76
        },
        {
          "output_type": "display_data",
          "data": {
            "image/png": "[encoded data removed]",
            "text/plain": [
              "<Figure size 640x480 with 1 Axes>"
            ]
          },
          "metadata": {
            "tags": []
          }
        }
      ]
    },
    {
      "cell_type": "markdown",
      "metadata": {
        "id": "-VxrV7VlMnC-",
        "colab_type": "text"
      },
      "source": [
        "# Topics weight over time: Gensim"
      ]
    },
    {
      "cell_type": "markdown",
      "metadata": {
        "id": "dRMKU0HeNHW-",
        "colab_type": "text"
      },
      "source": [
        "## 4.1 Aggregate document weights"
      ]
    },
    {
      "cell_type": "code",
      "metadata": {
        "id": "Q6Jux73gNQT2",
        "colab_type": "code",
        "colab": {}
      },
      "source": [
        "# grouping data per month"
      ],
      "execution_count": 0,
      "outputs": []
    },
    {
      "cell_type": "code",
      "metadata": {
        "id": "Y4ZElg6PQMgg",
        "colab_type": "code",
        "colab": {}
      },
      "source": [
        "import re"
      ],
      "execution_count": 0,
      "outputs": []
    },
    {
      "cell_type": "code",
      "metadata": {
        "id": "yU_H1RZPOhrf",
        "colab_type": "code",
        "colab": {}
      },
      "source": [
        "# function to retrieve date from file name\n",
        "def get_date(file):\n",
        "  date_match = re.findall(r'_(\\d{4}-\\d{2}-\\d{2})_',file)\n",
        "  return date_match[0]\n",
        "\n",
        "# function to retrieve year from file name\n",
        "def get_year(file):\n",
        "  year_match = re.findall(r'_(\\d{4})-\\d{2}-\\d{2}_',file)\n",
        "  return year_match[0]\n",
        "\n",
        "# function to retrieve month from file name\n",
        "def get_month(file):\n",
        "  month_match = re.findall(r'_\\d{4}-(\\d{2})-\\d{2}_',file)\n",
        "  return month_match[0]"
      ],
      "execution_count": 0,
      "outputs": []
    },
    {
      "cell_type": "code",
      "metadata": {
        "id": "0xlVn3ftNw_W",
        "colab_type": "code",
        "colab": {}
      },
      "source": [
        "distribution_gensim_wfiles['date'] = distribution_gensim_wfiles['document_path'].apply(lambda x: get_date(x))\n",
        "distribution_gensim_wfiles['year'] = distribution_gensim_wfiles['document_path'].apply(lambda x: get_year(x))\n",
        "distribution_gensim_wfiles['month'] = distribution_gensim_wfiles['document_path'].apply(lambda x: get_month(x))"
      ],
      "execution_count": 0,
      "outputs": []
    },
    {
      "cell_type": "code",
      "metadata": {
        "id": "PUK2_xP_Mc7N",
        "colab_type": "code",
        "colab": {}
      },
      "source": [
        "gensim_groupby = distribution_gensim_wfiles.copy()"
      ],
      "execution_count": 0,
      "outputs": []
    },
    {
      "cell_type": "code",
      "metadata": {
        "id": "LWdcFIJBMjgq",
        "colab_type": "code",
        "colab": {}
      },
      "source": [
        "# drop columns that won't be needed at this stage\n",
        "gensim_groupby = gensim_groupby.drop(['document_path', 'date'], axis=1)"
      ],
      "execution_count": 0,
      "outputs": []
    },
    {
      "cell_type": "code",
      "metadata": {
        "id": "3qebDNKXoV7L",
        "colab_type": "code",
        "colab": {}
      },
      "source": [
        "# group by year and month \n",
        "distribution_month = gensim_groupby.groupby(['year','month']).mean().reset_index()"
      ],
      "execution_count": 0,
      "outputs": []
    },
    {
      "cell_type": "code",
      "metadata": {
        "id": "u43koiEAQUew",
        "colab_type": "code",
        "outputId": "d1767f88-f622-457f-af0c-216daaced761",
        "colab": {
          "base_uri": "https://localhost:8080/",
          "height": 204
        }
      },
      "source": [
        "distribution_month"
      ],
      "execution_count": 0,
      "outputs": [
        {
          "output_type": "execute_result",
          "data": {
            "text/html": [
              "<div>\n",
              "<style scoped>\n",
              "    .dataframe tbody tr th:only-of-type {\n",
              "        vertical-align: middle;\n",
              "    }\n",
              "\n",
              "    .dataframe tbody tr th {\n",
              "        vertical-align: top;\n",
              "    }\n",
              "\n",
              "    .dataframe thead th {\n",
              "        text-align: right;\n",
              "    }\n",
              "</style>\n",
              "<table border=\"1\" class=\"dataframe\">\n",
              "  <thead>\n",
              "    <tr style=\"text-align: right;\">\n",
              "      <th></th>\n",
              "      <th>year</th>\n",
              "      <th>month</th>\n",
              "      <th>topic0</th>\n",
              "      <th>topic1</th>\n",
              "      <th>topic2</th>\n",
              "      <th>topic3</th>\n",
              "      <th>topic4</th>\n",
              "      <th>topic5</th>\n",
              "      <th>topic6</th>\n",
              "      <th>topic7</th>\n",
              "    </tr>\n",
              "  </thead>\n",
              "  <tbody>\n",
              "    <tr>\n",
              "      <th>0</th>\n",
              "      <td>1903</td>\n",
              "      <td>04</td>\n",
              "      <td>0.061639</td>\n",
              "      <td>0.000085</td>\n",
              "      <td>0.000085</td>\n",
              "      <td>0.000085</td>\n",
              "      <td>0.314854</td>\n",
              "      <td>0.013781</td>\n",
              "      <td>0.609386</td>\n",
              "      <td>0.000085</td>\n",
              "    </tr>\n",
              "    <tr>\n",
              "      <th>1</th>\n",
              "      <td>1903</td>\n",
              "      <td>05</td>\n",
              "      <td>0.021533</td>\n",
              "      <td>0.101374</td>\n",
              "      <td>0.046933</td>\n",
              "      <td>0.029504</td>\n",
              "      <td>0.114697</td>\n",
              "      <td>0.021301</td>\n",
              "      <td>0.663595</td>\n",
              "      <td>0.001063</td>\n",
              "    </tr>\n",
              "    <tr>\n",
              "      <th>2</th>\n",
              "      <td>1903</td>\n",
              "      <td>06</td>\n",
              "      <td>0.106011</td>\n",
              "      <td>0.039765</td>\n",
              "      <td>0.003366</td>\n",
              "      <td>0.054424</td>\n",
              "      <td>0.087749</td>\n",
              "      <td>0.002123</td>\n",
              "      <td>0.672805</td>\n",
              "      <td>0.033757</td>\n",
              "    </tr>\n",
              "    <tr>\n",
              "      <th>3</th>\n",
              "      <td>1903</td>\n",
              "      <td>07</td>\n",
              "      <td>0.105780</td>\n",
              "      <td>0.062493</td>\n",
              "      <td>0.024258</td>\n",
              "      <td>0.008924</td>\n",
              "      <td>0.106899</td>\n",
              "      <td>0.071502</td>\n",
              "      <td>0.546053</td>\n",
              "      <td>0.074090</td>\n",
              "    </tr>\n",
              "    <tr>\n",
              "      <th>4</th>\n",
              "      <td>1903</td>\n",
              "      <td>08</td>\n",
              "      <td>0.000117</td>\n",
              "      <td>0.014723</td>\n",
              "      <td>0.001163</td>\n",
              "      <td>0.113767</td>\n",
              "      <td>0.217294</td>\n",
              "      <td>0.092664</td>\n",
              "      <td>0.449299</td>\n",
              "      <td>0.110971</td>\n",
              "    </tr>\n",
              "  </tbody>\n",
              "</table>\n",
              "</div>"
            ],
            "text/plain": [
              "   year month    topic0    topic1  ...    topic4    topic5    topic6    topic7\n",
              "0  1903    04  0.061639  0.000085  ...  0.314854  0.013781  0.609386  0.000085\n",
              "1  1903    05  0.021533  0.101374  ...  0.114697  0.021301  0.663595  0.001063\n",
              "2  1903    06  0.106011  0.039765  ...  0.087749  0.002123  0.672805  0.033757\n",
              "3  1903    07  0.105780  0.062493  ...  0.106899  0.071502  0.546053  0.074090\n",
              "4  1903    08  0.000117  0.014723  ...  0.217294  0.092664  0.449299  0.110971\n",
              "\n",
              "[5 rows x 10 columns]"
            ]
          },
          "metadata": {
            "tags": []
          },
          "execution_count": 94
        }
      ]
    },
    {
      "cell_type": "markdown",
      "metadata": {
        "id": "0XhpufpX1JOS",
        "colab_type": "text"
      },
      "source": [
        "## 4.2 Monthly average of normalized weight per topic"
      ]
    },
    {
      "cell_type": "markdown",
      "metadata": {
        "id": "c68uP1Lu2DAZ",
        "colab_type": "text"
      },
      "source": [
        "### 4.2.1. Line chart view "
      ]
    },
    {
      "cell_type": "code",
      "metadata": {
        "id": "uYQc93gndILE",
        "colab_type": "code",
        "outputId": "48d3cfe6-5f4a-4182-97a0-7e481f687310",
        "colab": {
          "base_uri": "https://localhost:8080/",
          "height": 71
        }
      },
      "source": [
        "import seaborn as sns"
      ],
      "execution_count": 0,
      "outputs": [
        {
          "output_type": "stream",
          "text": [
            "/usr/local/lib/python3.6/dist-packages/statsmodels/tools/_testing.py:19: FutureWarning: pandas.util.testing is deprecated. Use the functions in the public API at pandas.testing instead.\n",
            "  import pandas.util.testing as tm\n"
          ],
          "name": "stderr"
        }
      ]
    },
    {
      "cell_type": "code",
      "metadata": {
        "id": "KmKnWN7-tKX2",
        "colab_type": "code",
        "colab": {}
      },
      "source": [
        "#restructuring df so that it can work with seaborn\n",
        "df_vis = pd.DataFrame(columns=['time', 'topic_id', 'distribution'])\n",
        "x=0\n",
        "columns_nr = len(distribution_month.columns)-2\n",
        "for i in range(len(distribution_month)):\n",
        "  for j in range(columns_nr):\n",
        "    df_vis.loc[x] = ''\n",
        "    df_vis['time'].loc[x] = distribution_month['month'].loc[i] + '/' + distribution_month['year'].loc[i]\n",
        "    df_vis['topic_id'].loc[x] = distribution_month.columns[j+2]\n",
        "    df_vis['distribution'].loc[x] = distribution_month.iloc[i,(j+2)]\n",
        "    x+= 1"
      ],
      "execution_count": 0,
      "outputs": []
    },
    {
      "cell_type": "code",
      "metadata": {
        "id": "DWbbbyp1pk-Y",
        "colab_type": "code",
        "outputId": "27474700-6ea7-4a28-a4d5-708aec159a4d",
        "colab": {
          "base_uri": "https://localhost:8080/",
          "height": 505
        }
      },
      "source": [
        "sns.factorplot(data= df_vis, \n",
        "               x= 'time',\n",
        "               y= 'distribution',\n",
        "               hue = 'topic_id',\n",
        "               aspect=2,\n",
        "               saturation=.5)"
      ],
      "execution_count": 0,
      "outputs": [
        {
          "output_type": "stream",
          "text": [
            "/usr/local/lib/python3.6/dist-packages/seaborn/categorical.py:3666: UserWarning: The `factorplot` function has been renamed to `catplot`. The original name will be removed in a future release. Please update your code. Note that the default `kind` in `factorplot` (`'point'`) has changed `'strip'` in `catplot`.\n",
            "  warnings.warn(msg)\n"
          ],
          "name": "stderr"
        },
        {
          "output_type": "execute_result",
          "data": {
            "text/plain": [
              "<seaborn.axisgrid.FacetGrid at 0x7f87eb544978>"
            ]
          },
          "metadata": {
            "tags": []
          },
          "execution_count": 154
        },
        {
          "output_type": "display_data",
          "data": {
            "image/png": "[encoded data removed]",
            "text/plain": [
              "<Figure size 1093.25x500 with 1 Axes>"
            ]
          },
          "metadata": {
            "tags": []
          }
        }
      ]
    },
    {
      "cell_type": "markdown",
      "metadata": {
        "id": "uZCFg2W-2Stt",
        "colab_type": "text"
      },
      "source": [
        "### 4.2.3. Bar chart view"
      ]
    },
    {
      "cell_type": "code",
      "metadata": {
        "id": "OtHVS7351pyW",
        "colab_type": "code",
        "outputId": "57b4ed54-2a76-4fa9-fcd6-276debbc6800",
        "colab": {
          "base_uri": "https://localhost:8080/",
          "height": 505
        }
      },
      "source": [
        "sns.factorplot(data= df_vis, \n",
        "               x= 'time',\n",
        "               y= 'distribution',\n",
        "               kind= 'bar',\n",
        "               hue = 'topic_id',\n",
        "               aspect=2,\n",
        "               saturation=.5)"
      ],
      "execution_count": 0,
      "outputs": [
        {
          "output_type": "stream",
          "text": [
            "/usr/local/lib/python3.6/dist-packages/seaborn/categorical.py:3666: UserWarning: The `factorplot` function has been renamed to `catplot`. The original name will be removed in a future release. Please update your code. Note that the default `kind` in `factorplot` (`'point'`) has changed `'strip'` in `catplot`.\n",
            "  warnings.warn(msg)\n"
          ],
          "name": "stderr"
        },
        {
          "output_type": "execute_result",
          "data": {
            "text/plain": [
              "<seaborn.axisgrid.FacetGrid at 0x7f87eb7132e8>"
            ]
          },
          "metadata": {
            "tags": []
          },
          "execution_count": 153
        },
        {
          "output_type": "display_data",
          "data": {
            "image/png": "[encoded data removed]",
            "text/plain": [
              "<Figure size 1093.25x500 with 1 Axes>"
            ]
          },
          "metadata": {
            "tags": []
          }
        }
      ]
    },
    {
      "cell_type": "markdown",
      "metadata": {
        "id": "_cpDIkt7-Bla",
        "colab_type": "text"
      },
      "source": [
        "### 4.2.4 Normalized proportions of topic weights per title"
      ]
    },
    {
      "cell_type": "code",
      "metadata": {
        "id": "dlkBH-kF-Ab7",
        "colab_type": "code",
        "colab": {}
      },
      "source": [
        "# function to retrieve publication ref from file name\n",
        "def get_ref(file):\n",
        "  ref_match = re.findall(r'(\\w+\\d+)_\\d{4}-\\d{2}-\\d{2}_',file)\n",
        "  return ref_match[0]"
      ],
      "execution_count": 0,
      "outputs": []
    },
    {
      "cell_type": "code",
      "metadata": {
        "id": "mdAtxSVRAgF5",
        "colab_type": "code",
        "colab": {}
      },
      "source": [
        "distribution_gensim_wfiles['publication'] = distribution_gensim_wfiles['document_path'].apply(lambda x: get_ref(x))"
      ],
      "execution_count": 0,
      "outputs": []
    },
    {
      "cell_type": "code",
      "metadata": {
        "id": "fmSr5flMAqI5",
        "colab_type": "code",
        "outputId": "c5a3ccc8-10ae-4261-e130-21f144a40757",
        "colab": {
          "base_uri": "https://localhost:8080/",
          "height": 810
        }
      },
      "source": [
        "distribution_gensim_wfiles"
      ],
      "execution_count": 0,
      "outputs": [
        {
          "output_type": "execute_result",
          "data": {
            "text/html": [
              "<div>\n",
              "<style scoped>\n",
              "    .dataframe tbody tr th:only-of-type {\n",
              "        vertical-align: middle;\n",
              "    }\n",
              "\n",
              "    .dataframe tbody tr th {\n",
              "        vertical-align: top;\n",
              "    }\n",
              "\n",
              "    .dataframe thead th {\n",
              "        text-align: right;\n",
              "    }\n",
              "</style>\n",
              "<table border=\"1\" class=\"dataframe\">\n",
              "  <thead>\n",
              "    <tr style=\"text-align: right;\">\n",
              "      <th></th>\n",
              "      <th>document_path</th>\n",
              "      <th>topic0</th>\n",
              "      <th>topic1</th>\n",
              "      <th>topic2</th>\n",
              "      <th>topic3</th>\n",
              "      <th>topic4</th>\n",
              "      <th>topic5</th>\n",
              "      <th>topic6</th>\n",
              "      <th>topic7</th>\n",
              "      <th>date</th>\n",
              "      <th>year</th>\n",
              "      <th>month</th>\n",
              "      <th>publication</th>\n",
              "    </tr>\n",
              "    <tr>\n",
              "      <th>document</th>\n",
              "      <th></th>\n",
              "      <th></th>\n",
              "      <th></th>\n",
              "      <th></th>\n",
              "      <th></th>\n",
              "      <th></th>\n",
              "      <th></th>\n",
              "      <th></th>\n",
              "      <th></th>\n",
              "      <th></th>\n",
              "      <th></th>\n",
              "      <th></th>\n",
              "      <th></th>\n",
              "    </tr>\n",
              "  </thead>\n",
              "  <tbody>\n",
              "    <tr>\n",
              "      <th>0</th>\n",
              "      <td>sn85066408_1903-04-27_ed-1_seq-1_ocr.txt</td>\n",
              "      <td>0.000078</td>\n",
              "      <td>0.000078</td>\n",
              "      <td>0.000078</td>\n",
              "      <td>0.000078</td>\n",
              "      <td>0.686621</td>\n",
              "      <td>0.000078</td>\n",
              "      <td>0.312908</td>\n",
              "      <td>0.000078</td>\n",
              "      <td>1903-04-27</td>\n",
              "      <td>1903</td>\n",
              "      <td>04</td>\n",
              "      <td>sn85066408</td>\n",
              "    </tr>\n",
              "    <tr>\n",
              "      <th>1</th>\n",
              "      <td>sn85066408_1903-04-28_ed-1_seq-1_ocr.txt</td>\n",
              "      <td>0.246286</td>\n",
              "      <td>0.000070</td>\n",
              "      <td>0.000070</td>\n",
              "      <td>0.000070</td>\n",
              "      <td>0.000070</td>\n",
              "      <td>0.054853</td>\n",
              "      <td>0.698513</td>\n",
              "      <td>0.000070</td>\n",
              "      <td>1903-04-28</td>\n",
              "      <td>1903</td>\n",
              "      <td>04</td>\n",
              "      <td>sn85066408</td>\n",
              "    </tr>\n",
              "    <tr>\n",
              "      <th>2</th>\n",
              "      <td>sn85066408_1903-04-29_ed-1_seq-1_ocr.txt</td>\n",
              "      <td>0.000093</td>\n",
              "      <td>0.000093</td>\n",
              "      <td>0.000093</td>\n",
              "      <td>0.000093</td>\n",
              "      <td>0.000093</td>\n",
              "      <td>0.000093</td>\n",
              "      <td>0.999351</td>\n",
              "      <td>0.000093</td>\n",
              "      <td>1903-04-29</td>\n",
              "      <td>1903</td>\n",
              "      <td>04</td>\n",
              "      <td>sn85066408</td>\n",
              "    </tr>\n",
              "    <tr>\n",
              "      <th>3</th>\n",
              "      <td>sn85066408_1903-04-30_ed-1_seq-1_ocr.txt</td>\n",
              "      <td>0.000100</td>\n",
              "      <td>0.000100</td>\n",
              "      <td>0.000100</td>\n",
              "      <td>0.000100</td>\n",
              "      <td>0.572631</td>\n",
              "      <td>0.000100</td>\n",
              "      <td>0.426770</td>\n",
              "      <td>0.000100</td>\n",
              "      <td>1903-04-30</td>\n",
              "      <td>1903</td>\n",
              "      <td>04</td>\n",
              "      <td>sn85066408</td>\n",
              "    </tr>\n",
              "    <tr>\n",
              "      <th>4</th>\n",
              "      <td>sn85066408_1903-05-01_ed-1_seq-1_ocr.txt</td>\n",
              "      <td>0.000150</td>\n",
              "      <td>0.998949</td>\n",
              "      <td>0.000150</td>\n",
              "      <td>0.000150</td>\n",
              "      <td>0.000150</td>\n",
              "      <td>0.000150</td>\n",
              "      <td>0.000150</td>\n",
              "      <td>0.000150</td>\n",
              "      <td>1903-05-01</td>\n",
              "      <td>1903</td>\n",
              "      <td>05</td>\n",
              "      <td>sn85066408</td>\n",
              "    </tr>\n",
              "    <tr>\n",
              "      <th>...</th>\n",
              "      <td>...</td>\n",
              "      <td>...</td>\n",
              "      <td>...</td>\n",
              "      <td>...</td>\n",
              "      <td>...</td>\n",
              "      <td>...</td>\n",
              "      <td>...</td>\n",
              "      <td>...</td>\n",
              "      <td>...</td>\n",
              "      <td>...</td>\n",
              "      <td>...</td>\n",
              "      <td>...</td>\n",
              "      <td>...</td>\n",
              "    </tr>\n",
              "    <tr>\n",
              "      <th>95</th>\n",
              "      <td>sn85066408_1903-08-05_ed-1_seq-1_ocr.txt</td>\n",
              "      <td>0.000289</td>\n",
              "      <td>0.000289</td>\n",
              "      <td>0.000289</td>\n",
              "      <td>0.000289</td>\n",
              "      <td>0.000289</td>\n",
              "      <td>0.000289</td>\n",
              "      <td>0.000289</td>\n",
              "      <td>0.997977</td>\n",
              "      <td>1903-08-05</td>\n",
              "      <td>1903</td>\n",
              "      <td>08</td>\n",
              "      <td>sn85066408</td>\n",
              "    </tr>\n",
              "    <tr>\n",
              "      <th>96</th>\n",
              "      <td>sn85066408_1903-08-06_ed-1_seq-1_ocr.txt</td>\n",
              "      <td>0.000086</td>\n",
              "      <td>0.128302</td>\n",
              "      <td>0.000086</td>\n",
              "      <td>0.024126</td>\n",
              "      <td>0.810042</td>\n",
              "      <td>0.000086</td>\n",
              "      <td>0.037187</td>\n",
              "      <td>0.000086</td>\n",
              "      <td>1903-08-06</td>\n",
              "      <td>1903</td>\n",
              "      <td>08</td>\n",
              "      <td>sn85066408</td>\n",
              "    </tr>\n",
              "    <tr>\n",
              "      <th>97</th>\n",
              "      <td>sn85066408_1903-08-07_ed-1_seq-1_ocr.txt</td>\n",
              "      <td>0.000076</td>\n",
              "      <td>0.002932</td>\n",
              "      <td>0.000076</td>\n",
              "      <td>0.000076</td>\n",
              "      <td>0.000076</td>\n",
              "      <td>0.000076</td>\n",
              "      <td>0.996610</td>\n",
              "      <td>0.000076</td>\n",
              "      <td>1903-08-07</td>\n",
              "      <td>1903</td>\n",
              "      <td>08</td>\n",
              "      <td>sn85066408</td>\n",
              "    </tr>\n",
              "    <tr>\n",
              "      <th>98</th>\n",
              "      <td>2012271201_1903-08-08_ed-1_seq-1_ocr.txt</td>\n",
              "      <td>0.000142</td>\n",
              "      <td>0.000525</td>\n",
              "      <td>0.000142</td>\n",
              "      <td>0.000142</td>\n",
              "      <td>0.165696</td>\n",
              "      <td>0.833066</td>\n",
              "      <td>0.000142</td>\n",
              "      <td>0.000142</td>\n",
              "      <td>1903-08-08</td>\n",
              "      <td>1903</td>\n",
              "      <td>08</td>\n",
              "      <td>2012271201</td>\n",
              "    </tr>\n",
              "    <tr>\n",
              "      <th>99</th>\n",
              "      <td>sn85066408_1903-08-08_ed-1_seq-1_ocr.txt</td>\n",
              "      <td>0.000085</td>\n",
              "      <td>0.000083</td>\n",
              "      <td>0.000083</td>\n",
              "      <td>0.000083</td>\n",
              "      <td>0.978996</td>\n",
              "      <td>0.000083</td>\n",
              "      <td>0.020503</td>\n",
              "      <td>0.000083</td>\n",
              "      <td>1903-08-08</td>\n",
              "      <td>1903</td>\n",
              "      <td>08</td>\n",
              "      <td>sn85066408</td>\n",
              "    </tr>\n",
              "  </tbody>\n",
              "</table>\n",
              "<p>100 rows × 13 columns</p>\n",
              "</div>"
            ],
            "text/plain": [
              "                                     document_path    topic0  ...  month  publication\n",
              "document                                                      ...                    \n",
              "0         sn85066408_1903-04-27_ed-1_seq-1_ocr.txt  0.000078  ...     04   sn85066408\n",
              "1         sn85066408_1903-04-28_ed-1_seq-1_ocr.txt  0.246286  ...     04   sn85066408\n",
              "2         sn85066408_1903-04-29_ed-1_seq-1_ocr.txt  0.000093  ...     04   sn85066408\n",
              "3         sn85066408_1903-04-30_ed-1_seq-1_ocr.txt  0.000100  ...     04   sn85066408\n",
              "4         sn85066408_1903-05-01_ed-1_seq-1_ocr.txt  0.000150  ...     05   sn85066408\n",
              "...                                            ...       ...  ...    ...          ...\n",
              "95        sn85066408_1903-08-05_ed-1_seq-1_ocr.txt  0.000289  ...     08   sn85066408\n",
              "96        sn85066408_1903-08-06_ed-1_seq-1_ocr.txt  0.000086  ...     08   sn85066408\n",
              "97        sn85066408_1903-08-07_ed-1_seq-1_ocr.txt  0.000076  ...     08   sn85066408\n",
              "98        2012271201_1903-08-08_ed-1_seq-1_ocr.txt  0.000142  ...     08   2012271201\n",
              "99        sn85066408_1903-08-08_ed-1_seq-1_ocr.txt  0.000085  ...     08   sn85066408\n",
              "\n",
              "[100 rows x 13 columns]"
            ]
          },
          "metadata": {
            "tags": []
          },
          "execution_count": 157
        }
      ]
    },
    {
      "cell_type": "code",
      "metadata": {
        "id": "2Kv89PHOBRs3",
        "colab_type": "code",
        "colab": {}
      },
      "source": [
        "gensim_groupby2 = distribution_gensim_wfiles.copy()"
      ],
      "execution_count": 0,
      "outputs": []
    },
    {
      "cell_type": "code",
      "metadata": {
        "id": "MphZj8uuBTeH",
        "colab_type": "code",
        "colab": {}
      },
      "source": [
        "distribution_title = gensim_groupby2.groupby(['publication']).mean().reset_index()"
      ],
      "execution_count": 0,
      "outputs": []
    },
    {
      "cell_type": "code",
      "metadata": {
        "id": "jHYlWa5jBnEL",
        "colab_type": "code",
        "outputId": "34d681ad-68c4-4f99-f8f6-f27454897df4",
        "colab": {
          "base_uri": "https://localhost:8080/",
          "height": 111
        }
      },
      "source": [
        "distribution_title"
      ],
      "execution_count": 0,
      "outputs": [
        {
          "output_type": "execute_result",
          "data": {
            "text/html": [
              "<div>\n",
              "<style scoped>\n",
              "    .dataframe tbody tr th:only-of-type {\n",
              "        vertical-align: middle;\n",
              "    }\n",
              "\n",
              "    .dataframe tbody tr th {\n",
              "        vertical-align: top;\n",
              "    }\n",
              "\n",
              "    .dataframe thead th {\n",
              "        text-align: right;\n",
              "    }\n",
              "</style>\n",
              "<table border=\"1\" class=\"dataframe\">\n",
              "  <thead>\n",
              "    <tr style=\"text-align: right;\">\n",
              "      <th></th>\n",
              "      <th>publication</th>\n",
              "      <th>topic0</th>\n",
              "      <th>topic1</th>\n",
              "      <th>topic2</th>\n",
              "      <th>topic3</th>\n",
              "      <th>topic4</th>\n",
              "      <th>topic5</th>\n",
              "      <th>topic6</th>\n",
              "      <th>topic7</th>\n",
              "    </tr>\n",
              "  </thead>\n",
              "  <tbody>\n",
              "    <tr>\n",
              "      <th>0</th>\n",
              "      <td>2012271201</td>\n",
              "      <td>0.135811</td>\n",
              "      <td>0.076555</td>\n",
              "      <td>0.004301</td>\n",
              "      <td>0.192851</td>\n",
              "      <td>0.104229</td>\n",
              "      <td>0.274647</td>\n",
              "      <td>0.061616</td>\n",
              "      <td>0.149990</td>\n",
              "    </tr>\n",
              "    <tr>\n",
              "      <th>1</th>\n",
              "      <td>sn85066408</td>\n",
              "      <td>0.065654</td>\n",
              "      <td>0.057036</td>\n",
              "      <td>0.022678</td>\n",
              "      <td>0.019691</td>\n",
              "      <td>0.123347</td>\n",
              "      <td>0.010852</td>\n",
              "      <td>0.669226</td>\n",
              "      <td>0.031514</td>\n",
              "    </tr>\n",
              "  </tbody>\n",
              "</table>\n",
              "</div>"
            ],
            "text/plain": [
              "  publication    topic0    topic1  ...    topic5    topic6    topic7\n",
              "0  2012271201  0.135811  0.076555  ...  0.274647  0.061616  0.149990\n",
              "1  sn85066408  0.065654  0.057036  ...  0.010852  0.669226  0.031514\n",
              "\n",
              "[2 rows x 9 columns]"
            ]
          },
          "metadata": {
            "tags": []
          },
          "execution_count": 165
        }
      ]
    },
    {
      "cell_type": "code",
      "metadata": {
        "id": "UbgRvWUxCC-I",
        "colab_type": "code",
        "colab": {}
      },
      "source": [
        "#restructuring df so that it can work with seaborn\n",
        "df_vis2 = pd.DataFrame(columns=['publication', 'topic_id', 'distribution'])\n",
        "x=0\n",
        "columns_nr = len(distribution_title.columns)-1\n",
        "for i in range(len(distribution_title)):\n",
        "  for j in range(columns_nr):\n",
        "    df_vis2.loc[x] = ''\n",
        "    df_vis2['publication'].loc[x] = distribution_title['publication'].loc[i]\n",
        "    df_vis2['topic_id'].loc[x] = distribution_title.columns[j+1]\n",
        "    df_vis2['distribution'].loc[x] = distribution_title.iloc[i,(j+1)]\n",
        "    x+= 1"
      ],
      "execution_count": 0,
      "outputs": []
    },
    {
      "cell_type": "code",
      "metadata": {
        "id": "8B0ZgXSFCwY0",
        "colab_type": "code",
        "outputId": "dbb05348-4c95-469a-a622-2945bcbdcc36",
        "colab": {
          "base_uri": "https://localhost:8080/",
          "height": 545
        }
      },
      "source": [
        "df_vis2"
      ],
      "execution_count": 0,
      "outputs": [
        {
          "output_type": "execute_result",
          "data": {
            "text/html": [
              "<div>\n",
              "<style scoped>\n",
              "    .dataframe tbody tr th:only-of-type {\n",
              "        vertical-align: middle;\n",
              "    }\n",
              "\n",
              "    .dataframe tbody tr th {\n",
              "        vertical-align: top;\n",
              "    }\n",
              "\n",
              "    .dataframe thead th {\n",
              "        text-align: right;\n",
              "    }\n",
              "</style>\n",
              "<table border=\"1\" class=\"dataframe\">\n",
              "  <thead>\n",
              "    <tr style=\"text-align: right;\">\n",
              "      <th></th>\n",
              "      <th>publication</th>\n",
              "      <th>topic_id</th>\n",
              "      <th>distribution</th>\n",
              "    </tr>\n",
              "  </thead>\n",
              "  <tbody>\n",
              "    <tr>\n",
              "      <th>0</th>\n",
              "      <td>2012271201</td>\n",
              "      <td>topic0</td>\n",
              "      <td>0.135811</td>\n",
              "    </tr>\n",
              "    <tr>\n",
              "      <th>1</th>\n",
              "      <td>2012271201</td>\n",
              "      <td>topic1</td>\n",
              "      <td>0.0765551</td>\n",
              "    </tr>\n",
              "    <tr>\n",
              "      <th>2</th>\n",
              "      <td>2012271201</td>\n",
              "      <td>topic2</td>\n",
              "      <td>0.00430099</td>\n",
              "    </tr>\n",
              "    <tr>\n",
              "      <th>3</th>\n",
              "      <td>2012271201</td>\n",
              "      <td>topic3</td>\n",
              "      <td>0.192851</td>\n",
              "    </tr>\n",
              "    <tr>\n",
              "      <th>4</th>\n",
              "      <td>2012271201</td>\n",
              "      <td>topic4</td>\n",
              "      <td>0.104229</td>\n",
              "    </tr>\n",
              "    <tr>\n",
              "      <th>5</th>\n",
              "      <td>2012271201</td>\n",
              "      <td>topic5</td>\n",
              "      <td>0.274647</td>\n",
              "    </tr>\n",
              "    <tr>\n",
              "      <th>6</th>\n",
              "      <td>2012271201</td>\n",
              "      <td>topic6</td>\n",
              "      <td>0.0616159</td>\n",
              "    </tr>\n",
              "    <tr>\n",
              "      <th>7</th>\n",
              "      <td>2012271201</td>\n",
              "      <td>topic7</td>\n",
              "      <td>0.14999</td>\n",
              "    </tr>\n",
              "    <tr>\n",
              "      <th>8</th>\n",
              "      <td>sn85066408</td>\n",
              "      <td>topic0</td>\n",
              "      <td>0.0656542</td>\n",
              "    </tr>\n",
              "    <tr>\n",
              "      <th>9</th>\n",
              "      <td>sn85066408</td>\n",
              "      <td>topic1</td>\n",
              "      <td>0.0570359</td>\n",
              "    </tr>\n",
              "    <tr>\n",
              "      <th>10</th>\n",
              "      <td>sn85066408</td>\n",
              "      <td>topic2</td>\n",
              "      <td>0.0226783</td>\n",
              "    </tr>\n",
              "    <tr>\n",
              "      <th>11</th>\n",
              "      <td>sn85066408</td>\n",
              "      <td>topic3</td>\n",
              "      <td>0.0196914</td>\n",
              "    </tr>\n",
              "    <tr>\n",
              "      <th>12</th>\n",
              "      <td>sn85066408</td>\n",
              "      <td>topic4</td>\n",
              "      <td>0.123347</td>\n",
              "    </tr>\n",
              "    <tr>\n",
              "      <th>13</th>\n",
              "      <td>sn85066408</td>\n",
              "      <td>topic5</td>\n",
              "      <td>0.0108523</td>\n",
              "    </tr>\n",
              "    <tr>\n",
              "      <th>14</th>\n",
              "      <td>sn85066408</td>\n",
              "      <td>topic6</td>\n",
              "      <td>0.669226</td>\n",
              "    </tr>\n",
              "    <tr>\n",
              "      <th>15</th>\n",
              "      <td>sn85066408</td>\n",
              "      <td>topic7</td>\n",
              "      <td>0.0315144</td>\n",
              "    </tr>\n",
              "  </tbody>\n",
              "</table>\n",
              "</div>"
            ],
            "text/plain": [
              "   publication topic_id distribution\n",
              "0   2012271201   topic0     0.135811\n",
              "1   2012271201   topic1    0.0765551\n",
              "2   2012271201   topic2   0.00430099\n",
              "3   2012271201   topic3     0.192851\n",
              "4   2012271201   topic4     0.104229\n",
              "5   2012271201   topic5     0.274647\n",
              "6   2012271201   topic6    0.0616159\n",
              "7   2012271201   topic7      0.14999\n",
              "8   sn85066408   topic0    0.0656542\n",
              "9   sn85066408   topic1    0.0570359\n",
              "10  sn85066408   topic2    0.0226783\n",
              "11  sn85066408   topic3    0.0196914\n",
              "12  sn85066408   topic4     0.123347\n",
              "13  sn85066408   topic5    0.0108523\n",
              "14  sn85066408   topic6     0.669226\n",
              "15  sn85066408   topic7    0.0315144"
            ]
          },
          "metadata": {
            "tags": []
          },
          "execution_count": 169
        }
      ]
    },
    {
      "cell_type": "code",
      "metadata": {
        "id": "YduBShvMCzT1",
        "colab_type": "code",
        "outputId": "94fbd1a5-9421-4db2-8ab1-ff309bcb94e8",
        "colab": {
          "base_uri": "https://localhost:8080/",
          "height": 501
        }
      },
      "source": [
        "df_vis2.pivot('publication','topic_id', 'distribution')\\\n",
        ".plot(kind='bar', stacked=True, colormap='Paired', \n",
        "      figsize=(2,4), title='Normalized proportions of topic weights per title.')\\\n",
        ".legend(bbox_to_anchor=(1.75, 1))"
      ],
      "execution_count": 0,
      "outputs": [
        {
          "output_type": "execute_result",
          "data": {
            "text/plain": [
              "<matplotlib.legend.Legend at 0x7f87eaf769b0>"
            ]
          },
          "metadata": {
            "tags": []
          },
          "execution_count": 176
        },
        {
          "output_type": "display_data",
          "data": {
            "image/png": "[encoded data removed]",
            "text/plain": [
              "<Figure size 200x400 with 1 Axes>"
            ]
          },
          "metadata": {
            "tags": []
          }
        }
      ]
    },
    {
      "cell_type": "markdown",
      "metadata": {
        "id": "ckz8H7Sq5I8F",
        "colab_type": "text"
      },
      "source": [
        "# Topics weight over time: Mallet"
      ]
    },
    {
      "cell_type": "code",
      "metadata": {
        "id": "zs1pTmAX4dc3",
        "colab_type": "code",
        "colab": {}
      },
      "source": [
        ""
      ],
      "execution_count": 0,
      "outputs": []
    }
  ]
}
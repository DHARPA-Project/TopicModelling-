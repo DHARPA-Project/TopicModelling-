{
  "nbformat": 4,
  "nbformat_minor": 0,
  "metadata": {
    "colab": {
      "name": "topic_modelling_gensim_mallet.ipynb",
      "provenance": [],
      "collapsed_sections": [],
      "toc_visible": true
    },
    "kernelspec": {
      "name": "python3",
      "display_name": "Python 3"
    }
  },
  "cells": [
    {
      "cell_type": "code",
      "metadata": {
        "id": "7FwlEnNvQJNG",
        "colab_type": "code",
        "colab": {}
      },
      "source": [
        "import json\n",
        "import requests\n",
        "import urllib"
      ],
      "execution_count": 0,
      "outputs": []
    },
    {
      "cell_type": "markdown",
      "metadata": {
        "id": "6AZPes5RSYG2",
        "colab_type": "text"
      },
      "source": [
        "# 0. Preliminary step to get sample data\n",
        "\n"
      ]
    },
    {
      "cell_type": "markdown",
      "metadata": {
        "id": "WaRiBwgFTg2p",
        "colab_type": "text"
      },
      "source": [
        "This preliminary step is reproducing Lorella's workflow Python file:\n",
        "https://i-lab.public.data.uu.nl/vault-ocex/ChroniclItaly%20-%20Italian%20American%20newspapers%20corpus%20from%201898%20to%201920%5B1529330521%5D/original/\n",
        "I just added a folder \"data_1\" to keep all files in one folder"
      ]
    },
    {
      "cell_type": "code",
      "metadata": {
        "id": "VK81EVJim0Jc",
        "colab_type": "code",
        "colab": {}
      },
      "source": [
        "mkdir 'data1'"
      ],
      "execution_count": 0,
      "outputs": []
    },
    {
      "cell_type": "code",
      "metadata": {
        "id": "9O_c4pYzXsP_",
        "colab_type": "code",
        "colab": {}
      },
      "source": [
        "# Base URL\n",
        "chronam = 'https://chroniclingamerica.loc.gov/'\n",
        "\n",
        "# Chronicling America search results\n",
        "results = 'https://chroniclingamerica.loc.gov/search/pages/results/?date1=1880&date2=1920&searchType=advanced&language=ita&sequence=1&lccn=2012271201&lccn=sn85066408&lccn=sn85055164&lccn=sn85054967&lccn=sn88064299&lccn=sn84037024&lccn=sn84037025&lccn=sn86092310&proxdistance=5&state=California&state=District+of+Columbia&state=Massachusetts&state=Pennsylvania&state=Piedmont&state=Vermont&state=West+Virginia&rows=100&ortext=&proxtext=&phrasetext=&andtext=&dateFilterType=yearRange&page=11&sort=date'\n",
        "\n",
        "# Count to keep track of downloaded files\n",
        "count = 0\n",
        "\n",
        "# Gets search results in JSON format\n",
        "results_json = results + '&format=json'\n"
      ],
      "execution_count": 0,
      "outputs": []
    },
    {
      "cell_type": "code",
      "metadata": {
        "id": "DQwqRYbydrq4",
        "colab_type": "code",
        "colab": {}
      },
      "source": [
        "# Returns JSON \n",
        "def get_json(url):\n",
        "    data = requests.get(url)\n",
        "    return(json.loads(data.content))\n",
        "    \n",
        "data = get_json(results_json)"
      ],
      "execution_count": 0,
      "outputs": []
    },
    {
      "cell_type": "code",
      "metadata": {
        "id": "Xjv32dwDndnw",
        "colab_type": "code",
        "colab": {}
      },
      "source": [
        "files_list = []\n",
        "# Cycle through JSON results\n",
        "for page in data['items']:\n",
        "    # Create URL\n",
        "    hit = str(page['id'])\n",
        "    seed = hit + 'ocr.txt'\n",
        "    download_url = chronam + seed\n",
        " \n",
        "    # Create file name\n",
        "    file_name = download_url.replace('/', '_')\n",
        "    files_list.append(file_name[41:])\n",
        "    file_name = 'data1/' + file_name[41:]\n",
        "\n",
        "    # Download .txt of the page\n",
        "    urllib.request.urlretrieve(download_url, str(file_name))\n",
        "    count += 1"
      ],
      "execution_count": 0,
      "outputs": []
    },
    {
      "cell_type": "markdown",
      "metadata": {
        "id": "AUvuIpuzT8ke",
        "colab_type": "text"
      },
      "source": [
        "# 1. Data preparation"
      ]
    },
    {
      "cell_type": "markdown",
      "metadata": {
        "id": "MTOrDXSYUIc3",
        "colab_type": "text"
      },
      "source": [
        "## 1.1. Creating data frame\n",
        "A dataframe is first created to keep the documents at their initial state, and the name of each file"
      ]
    },
    {
      "cell_type": "code",
      "metadata": {
        "id": "u857KfY9WXN_",
        "colab_type": "code",
        "colab": {}
      },
      "source": [
        "import os\n",
        "import pandas as pd"
      ],
      "execution_count": 0,
      "outputs": []
    },
    {
      "cell_type": "code",
      "metadata": {
        "id": "8lLD0OpiXv5Y",
        "colab_type": "code",
        "colab": {}
      },
      "source": [
        "#insert file names into a df\n",
        "sources = pd.DataFrame(files_list, columns=['file_name'])"
      ],
      "execution_count": 0,
      "outputs": []
    },
    {
      "cell_type": "code",
      "metadata": {
        "id": "0PgOwPnqCfAe",
        "colab_type": "code",
        "colab": {}
      },
      "source": [
        "#function to read the content of the text files\n",
        "def readTxtContent(fileName):\n",
        "  with open('data1/' + fileName, 'r') as file:\n",
        "    return ' ' + file.read().replace('\\n', ' ') + ' '"
      ],
      "execution_count": 0,
      "outputs": []
    },
    {
      "cell_type": "code",
      "metadata": {
        "id": "MZEVIKHziQv2",
        "colab_type": "code",
        "colab": {}
      },
      "source": [
        "# adding a column to the dataframe containing file content\n",
        "sources['file_content'] = sources['file_name'].apply(lambda x: readTxtContent(x))"
      ],
      "execution_count": 0,
      "outputs": []
    },
    {
      "cell_type": "code",
      "metadata": {
        "id": "5AbjD_hb9SQw",
        "colab_type": "code",
        "colab": {}
      },
      "source": [
        "# variable containing the documents separately\n",
        "corpus = sources['file_content']"
      ],
      "execution_count": 0,
      "outputs": []
    },
    {
      "cell_type": "code",
      "metadata": {
        "id": "4ffdAsOXQSBe",
        "colab_type": "code",
        "colab": {}
      },
      "source": [
        "# the 2 cells below shouldn't be useful anymore\n",
        "# for verification purposes later, count the nr of characters for each content\n",
        "#sources['file_len'] = sources['file_content'].apply(lambda x: len(x))\n",
        "#sources['file_len'].sum()"
      ],
      "execution_count": 0,
      "outputs": []
    },
    {
      "cell_type": "code",
      "metadata": {
        "id": "QYRvEvHbK32i",
        "colab_type": "code",
        "colab": {}
      },
      "source": [
        "\n",
        "# variable containing all documents together\n",
        "#all_texts = ''\n",
        "#for i in range(len(sources)):\n",
        "#all_texts += sources['file_content'][i]\n",
        "# check length\n",
        "#len(all_texts)"
      ],
      "execution_count": 0,
      "outputs": []
    },
    {
      "cell_type": "markdown",
      "metadata": {
        "id": "ybCetXHi9m-y",
        "colab_type": "text"
      },
      "source": [
        "## 1.2 Removing stop words, punctuation, short words"
      ]
    },
    {
      "cell_type": "code",
      "metadata": {
        "id": "6e-8sf7RayKz",
        "colab_type": "code",
        "colab": {}
      },
      "source": [
        "%%capture\n",
        "import nltk\n",
        "nltk.download('punkt')\n",
        "nltk.download('stopwords')\n",
        "from nltk.corpus import stopwords\n",
        "from nltk.tokenize import word_tokenize"
      ],
      "execution_count": 0,
      "outputs": []
    },
    {
      "cell_type": "code",
      "metadata": {
        "id": "a1MbU3_seOtJ",
        "colab_type": "code",
        "colab": {}
      },
      "source": [
        "# add tokenized documents in dataframe\n",
        "sources['tokens'] = sources['file_content'].apply(lambda x: nltk.word_tokenize(x))"
      ],
      "execution_count": 0,
      "outputs": []
    },
    {
      "cell_type": "code",
      "metadata": {
        "id": "vh3ikvdKfQ60",
        "colab_type": "code",
        "colab": {}
      },
      "source": [
        "# possible user options:\n",
        "# .isalnum() to removes tokens that include numbers\n",
        "# .isalpha() to removes all tokens that contain more than letters (punctuation and numbers)\n",
        "# .isdecimal() to remove tokens that contain only decimals\n",
        "# .isdigit() to remove tokens that contain only digits\n",
        "\n",
        "# add new column in df with processed tokens (here: keeping only alpha tokens longer than 3 characters + lowercasing)\n",
        "sources['doc_prep'] = sources['tokens'].apply(lambda x: [w.lower() for w in x if (w.isalpha() and len(w) > 3 )])"
      ],
      "execution_count": 0,
      "outputs": []
    },
    {
      "cell_type": "code",
      "metadata": {
        "id": "J-l00vPyShTM",
        "colab_type": "code",
        "colab": {}
      },
      "source": [
        "from nltk.corpus import stopwords\n",
        "ital_stopwords = stopwords.words('italian')"
      ],
      "execution_count": 0,
      "outputs": []
    },
    {
      "cell_type": "code",
      "metadata": {
        "id": "3IrR5gbba5ho",
        "colab_type": "code",
        "colab": {}
      },
      "source": [
        "# to append list of words added by user: ital_stopwords.extend(user_input)\n",
        "# to remove words: ital_stopwords.remove(user_input)"
      ],
      "execution_count": 0,
      "outputs": []
    },
    {
      "cell_type": "code",
      "metadata": {
        "id": "8Qw4i2O_CTdQ",
        "colab_type": "code",
        "colab": {}
      },
      "source": [
        "# spacy list of Stop words (seems to be more complete than NLTK)\n",
        "# import spacy\n",
        "# from spacy.lang.it.stop_words import STOP_WORDS\n",
        "# spacy_it_sw = STOP_WORDS"
      ],
      "execution_count": 0,
      "outputs": []
    },
    {
      "cell_type": "code",
      "metadata": {
        "id": "5SBUnxlpCxEa",
        "colab_type": "code",
        "colab": {}
      },
      "source": [
        "# add column with tokenized documents without sw\n",
        "sources['doc_prep_nostop'] = sources['doc_prep'].apply(lambda x: [w for w in x if not w in ital_stopwords])"
      ],
      "execution_count": 0,
      "outputs": []
    },
    {
      "cell_type": "markdown",
      "metadata": {
        "id": "hKs7aXWLbVWo",
        "colab_type": "text"
      },
      "source": [
        "## 1.3 Stem"
      ]
    },
    {
      "cell_type": "code",
      "metadata": {
        "id": "uyl0C-xkbLiB",
        "colab_type": "code",
        "colab": {}
      },
      "source": [
        "from nltk.stem.snowball import SnowballStemmer"
      ],
      "execution_count": 0,
      "outputs": []
    },
    {
      "cell_type": "code",
      "metadata": {
        "id": "euUXP7UHbaN-",
        "colab_type": "code",
        "colab": {}
      },
      "source": [
        "#initialize with needed language\n",
        "stemmer = SnowballStemmer(\"italian\")"
      ],
      "execution_count": 0,
      "outputs": []
    },
    {
      "cell_type": "code",
      "metadata": {
        "id": "CljkLrRmjaot",
        "colab_type": "code",
        "colab": {}
      },
      "source": [
        "# add column with stemmed tokens\n",
        "sources['doc_stemmed'] = sources['doc_prep_nostop'].apply(lambda x: [stemmer.stem(w) for w in x])"
      ],
      "execution_count": 0,
      "outputs": []
    },
    {
      "cell_type": "markdown",
      "metadata": {
        "id": "YHKQAqemcgYz",
        "colab_type": "text"
      },
      "source": [
        "## 1.4 Lemmatize"
      ]
    },
    {
      "cell_type": "code",
      "metadata": {
        "id": "Ob8M804chYgh",
        "colab_type": "code",
        "colab": {}
      },
      "source": [
        "# Lemmatization is available in multiple languages in Spacy and not in NLTK (only English)\n",
        "# With Spacy, lemmatization is available for 10 languages. There's also a multi-language option that\n",
        "# should be tested if additional languages are needed"
      ],
      "execution_count": 0,
      "outputs": []
    },
    {
      "cell_type": "code",
      "metadata": {
        "id": "2QAPblFUwf3F",
        "colab_type": "code",
        "colab": {}
      },
      "source": [
        "%%capture\n",
        "!python -m spacy download it_core_news_sm"
      ],
      "execution_count": 0,
      "outputs": []
    },
    {
      "cell_type": "code",
      "metadata": {
        "id": "8al8riPXA98n",
        "colab_type": "code",
        "colab": {}
      },
      "source": [
        "import it_core_news_sm\n",
        "it_nlp = it_core_news_sm.load(disable=['tagger', 'parser', 'ner'])"
      ],
      "execution_count": 0,
      "outputs": []
    },
    {
      "cell_type": "code",
      "metadata": {
        "id": "YZHdI_8tmv3y",
        "colab_type": "code",
        "colab": {}
      },
      "source": [
        "# lemmatization function\n",
        "def lemmatize(doc):\n",
        "  lemmatized_doc = []\n",
        "  for w in doc:\n",
        "    w_lemma = [token.lemma_ for token in it_nlp(w)]\n",
        "    lemmatized_doc.append(w_lemma[0])\n",
        "  return lemmatized_doc"
      ],
      "execution_count": 0,
      "outputs": []
    },
    {
      "cell_type": "code",
      "metadata": {
        "id": "k-mYWKgSk9CW",
        "colab_type": "code",
        "colab": {}
      },
      "source": [
        "# add column with lemmatized tokens\n",
        "sources['doc_lemmatized'] = sources['doc_prep_nostop'].apply(lambda x: lemmatize(x))"
      ],
      "execution_count": 0,
      "outputs": []
    },
    {
      "cell_type": "code",
      "metadata": {
        "id": "tvl0MO_FH5yH",
        "colab_type": "code",
        "colab": {}
      },
      "source": [
        "# variable with lemmatized tokens\n",
        "lemmatized_corpus = sources['doc_lemmatized']"
      ],
      "execution_count": 0,
      "outputs": []
    },
    {
      "cell_type": "markdown",
      "metadata": {
        "id": "o8TRLnFPK6p4",
        "colab_type": "text"
      },
      "source": [
        "# 2. Topics with LDA"
      ]
    },
    {
      "cell_type": "code",
      "metadata": {
        "id": "N0NrktL1el7E",
        "colab_type": "code",
        "colab": {}
      },
      "source": [
        "%%capture\n",
        "# installation setup that works for Mallet: https://github.com/polsci/colab-gensim-mallet/blob/master/topic-modeling-with-colab-gensim-mallet.ipynb\n",
        "def install_java():\n",
        "  !apt-get install -y openjdk-8-jdk-headless -qq > /dev/null      #install openjdk\n",
        "  os.environ[\"JAVA_HOME\"] = \"/usr/lib/jvm/java-8-openjdk-amd64\"     #set environment variable\n",
        "  !java -version       #check java version\n",
        "install_java()"
      ],
      "execution_count": 0,
      "outputs": []
    },
    {
      "cell_type": "code",
      "metadata": {
        "id": "IH7oPbxGe46O",
        "colab_type": "code",
        "colab": {}
      },
      "source": [
        "%%capture\n",
        "!wget http://mallet.cs.umass.edu/dist/mallet-2.0.8.zip\n",
        "!unzip mallet-2.0.8.zip"
      ],
      "execution_count": 0,
      "outputs": []
    },
    {
      "cell_type": "code",
      "metadata": {
        "id": "XD1MaCjRfKOs",
        "colab_type": "code",
        "colab": {}
      },
      "source": [
        "os.environ['MALLET_HOME'] = '/content/mallet-2.0.8'\n",
        "mallet_path = '/content/mallet-2.0.8/bin/mallet'"
      ],
      "execution_count": 0,
      "outputs": []
    },
    {
      "cell_type": "code",
      "metadata": {
        "id": "Fr1F0QNdOxy3",
        "colab_type": "code",
        "colab": {}
      },
      "source": [
        "#Gensim installation\n",
        "import gensim\n",
        "from gensim.test.utils import common_corpus, common_dictionary\n",
        "from gensim import corpora, models\n",
        "from gensim.models.wrappers import LdaMallet"
      ],
      "execution_count": 0,
      "outputs": []
    },
    {
      "cell_type": "markdown",
      "metadata": {
        "id": "530LX-OLRDcP",
        "colab_type": "text"
      },
      "source": [
        "## 2.1 Preliminary steps to run LDA\n",
        "\n"
      ]
    },
    {
      "cell_type": "markdown",
      "metadata": {
        "id": "GZlLjmvsQAMy",
        "colab_type": "text"
      },
      "source": [
        "### 2.1.1 Bag of words"
      ]
    },
    {
      "cell_type": "code",
      "metadata": {
        "id": "UzxS5Q3aQ7mh",
        "colab_type": "code",
        "colab": {}
      },
      "source": [
        "# dataset = [d.split() for d in lemmatized_corpus] (this is not useful if lemmatized version is used)\n",
        "# Create Dictionary\n",
        "# change \"lemmatized_corpus\" variable by stemmed_corpus or tokenized_corpus_without_sw depending\n",
        "# on which version you would like to work with \n",
        "id2word = corpora.Dictionary(lemmatized_corpus)\n",
        "corpus = [id2word.doc2bow(text) for text in lemmatized_corpus]"
      ],
      "execution_count": 0,
      "outputs": []
    },
    {
      "cell_type": "code",
      "metadata": {
        "id": "wvegwXHIWZN6",
        "colab_type": "code",
        "colab": {}
      },
      "source": [
        "# list of words and occurence per document\n",
        "words = []\n",
        "frequency = []\n",
        "\n",
        "for cp in corpus:\n",
        "  word_id = list(cp[0])[0]\n",
        "  words.append(id2word[list(cp[0])[0]])\n",
        "  frequency.append(list(cp[0])[1])"
      ],
      "execution_count": 0,
      "outputs": []
    },
    {
      "cell_type": "code",
      "metadata": {
        "id": "be9fXHn7Uqb6",
        "colab_type": "code",
        "colab": {}
      },
      "source": [
        "words_frequency = pd.DataFrame(list(zip(words, frequency)), columns=['word', 'frequency'])"
      ],
      "execution_count": 0,
      "outputs": []
    },
    {
      "cell_type": "code",
      "metadata": {
        "id": "m67ylcqwaQbd",
        "colab_type": "code",
        "colab": {}
      },
      "source": [
        "# sort descending\n",
        "# words_frequency.sort_values(by=['frequency'], ascending=False)[:10]"
      ],
      "execution_count": 0,
      "outputs": []
    },
    {
      "cell_type": "markdown",
      "metadata": {
        "id": "qadtU7aTQMqg",
        "colab_type": "text"
      },
      "source": [
        "## 2.2 LDA"
      ]
    },
    {
      "cell_type": "code",
      "metadata": {
        "id": "eLzvb_yC9nyo",
        "colab_type": "code",
        "colab": {}
      },
      "source": [
        "# set the number of topics here\n",
        "numtopics = 6"
      ],
      "execution_count": 0,
      "outputs": []
    },
    {
      "cell_type": "markdown",
      "metadata": {
        "id": "9u-BK_TCCRV1",
        "colab_type": "text"
      },
      "source": [
        "### 2.2.1 LDA with Gensim"
      ]
    },
    {
      "cell_type": "code",
      "metadata": {
        "id": "7ODvMbxSCQh_",
        "colab_type": "code",
        "colab": {}
      },
      "source": [
        "ldagensim = models.LdaModel(corpus, id2word=id2word, num_topics=numtopics)"
      ],
      "execution_count": 0,
      "outputs": []
    },
    {
      "cell_type": "code",
      "metadata": {
        "id": "FLfpXjulCcS4",
        "colab_type": "code",
        "outputId": "91c6534c-9bd3-45ff-e709-ee14f4c8ed1a",
        "colab": {
          "base_uri": "https://localhost:8080/",
          "height": 241
        }
      },
      "source": [
        "ldagensim.print_topics()"
      ],
      "execution_count": 32,
      "outputs": [
        {
          "output_type": "execute_result",
          "data": {
            "text/plain": [
              "[(0,\n",
              "  '0.005*\"italiano\" + 0.004*\"stare\" + 0.004*\"dispaccio\" + 0.004*\"roma\" + 0.004*\"telegrafico\" + 0.004*\"fare\" + 0.003*\"nuovo\" + 0.003*\"dire\" + 0.003*\"anno\" + 0.003*\"italia\"'),\n",
              " (1,\n",
              "  '0.007*\"italiano\" + 0.005*\"italia\" + 0.004*\"altro\" + 0.004*\"stare\" + 0.004*\"anno\" + 0.003*\"dire\" + 0.003*\"fare\" + 0.003*\"dispaccio\" + 0.003*\"roma\" + 0.003*\"primo\"'),\n",
              " (2,\n",
              "  '0.005*\"italiano\" + 0.003*\"stare\" + 0.003*\"giornale\" + 0.003*\"fare\" + 0.003*\"dire\" + 0.003*\"tutto\" + 0.003*\"nuovo\" + 0.003*\"italia\" + 0.003*\"roma\" + 0.002*\"grande\"'),\n",
              " (3,\n",
              "  '0.007*\"italiano\" + 0.004*\"anno\" + 0.004*\"stare\" + 0.004*\"fare\" + 0.003*\"italia\" + 0.003*\"potere\" + 0.003*\"nuovo\" + 0.003*\"dispaccio\" + 0.003*\"partire\" + 0.003*\"altro\"'),\n",
              " (4,\n",
              "  '0.008*\"italiano\" + 0.004*\"stare\" + 0.004*\"roma\" + 0.004*\"fare\" + 0.004*\"dispaccio\" + 0.003*\"venire\" + 0.003*\"potere\" + 0.003*\"primo\" + 0.003*\"italia\" + 0.003*\"altro\"'),\n",
              " (5,\n",
              "  '0.008*\"italiano\" + 0.004*\"potere\" + 0.004*\"italia\" + 0.004*\"stare\" + 0.003*\"altro\" + 0.003*\"grande\" + 0.003*\"telegrafico\" + 0.003*\"dispaccio\" + 0.003*\"fare\" + 0.003*\"anno\"')]"
            ]
          },
          "metadata": {
            "tags": []
          },
          "execution_count": 32
        }
      ]
    },
    {
      "cell_type": "markdown",
      "metadata": {
        "id": "yVmCrU7WVznK",
        "colab_type": "text"
      },
      "source": [
        "### 2.2.2 Visualize topics"
      ]
    },
    {
      "cell_type": "code",
      "metadata": {
        "id": "zhUc_LurVxSw",
        "colab_type": "code",
        "colab": {}
      },
      "source": [
        "# pyLDAvis installation\n",
        "%%capture\n",
        "! pip install pyldavis\n",
        "import pyLDAvis\n",
        "import pyLDAvis.gensim"
      ],
      "execution_count": 0,
      "outputs": []
    },
    {
      "cell_type": "code",
      "metadata": {
        "id": "WWHil2-YV_OD",
        "colab_type": "code",
        "colab": {}
      },
      "source": [
        "# insert the model and number of topics you want to visualise\n",
        "# here LDA Gensim with 6 topics\n",
        "%%capture\n",
        "numtopics = 6\n",
        "selected_model = models.LdaModel(corpus, id2word=id2word, num_topics=numtopics)\n",
        "pyLDAvis.enable_notebook()\n",
        "vis = pyLDAvis.gensim.prepare(selected_model, corpus, id2word)"
      ],
      "execution_count": 0,
      "outputs": []
    },
    {
      "cell_type": "code",
      "metadata": {
        "id": "Rm7zmoHqcDto",
        "colab_type": "code",
        "outputId": "dd0fb63d-05be-46d5-b610-8e753707b908",
        "colab": {
          "base_uri": "https://localhost:8080/",
          "height": 881
        }
      },
      "source": [
        "vis"
      ],
      "execution_count": 35,
      "outputs": [
        {
          "output_type": "execute_result",
          "data": {
            "text/html": [
              "\n",
              "<link rel=\"stylesheet\" type=\"text/css\" href=\"https://cdn.rawgit.com/bmabey/pyLDAvis/files/ldavis.v1.0.0.css\">\n",
              "\n",
              "\n",
              "<div id=\"ldavis_el121140020320421232436387845\"></div>\n",
              "<script type=\"text/javascript\">\n",
              "\n",
              "var ldavis_el121140020320421232436387845_data = {\"mdsDat\": {\"x\": [-0.0038443379813737754, -0.0044021187125279915, 0.0015257831482337776, 0.0010985385584294414, 0.0015122653953726843, 0.004109869591865864], \"y\": [0.003105912141097779, -0.0032672124815022827, -0.0011326773463280282, 0.002567521971921733, -0.0006541866015370181, -0.0006193576836521787], \"topics\": [1, 2, 3, 4, 5, 6], \"cluster\": [1, 1, 1, 1, 1, 1], \"Freq\": [42.10540008544922, 29.580677032470703, 11.598258018493652, 9.264569282531738, 5.968757629394531, 1.4823411703109741]}, \"tinfo\": {\"Term\": [\"italiano\", \"fare\", \"dispaccio\", \"altro\", \"italia\", \"stare\", \"anno\", \"roma\", \"telegrafico\", \"tutto\", \"nuovo\", \"primo\", \"grande\", \"dire\", \"potere\", \"daily\", \"giornale\", \"giorno\", \"partire\", \"dopo\", \"cardinale\", \"molto\", \"oggi\", \"egli\", \"venire\", \"essere\", \"stato\", \"dovere\", \"americano\", \"mentire\", \"deale\", \"antleewltch\", \"fulminato\", \"trovandosi\", \"aureola\", \"apparenza\", \"perrone\", \"onesto\", \"gallone\", \"mantenersi\", \"inverno\", \"lingua\", \"cation\", \"acqua\", \"albo\", \"venticinque\", \"costituito\", \"riaversi\", \"bracciante\", \"statti\", \"principal\", \"hong\", \"zlone\", \"merejkowsky\", \"ettolitri\", \"poggio\", \"wolvodlch\", \"acorse\", \"siderate\", \"deliquio\", \"tolstoi\", \"dire\", \"arrestare\", \"nazione\", \"difeso\", \"recere\", \"anarchico\", \"attitudine\", \"recarsi\", \"allora\", \"visitare\", \"fondere\", \"tale\", \"parere\", \"parlare\", \"mattino\", \"sera\", \"potere\", \"venire\", \"giugno\", \"russia\", \"anno\", \"italiano\", \"rendere\", \"quotidiano\", \"giornale\", \"comune\", \"essere\", \"produrre\", \"york\", \"molto\", \"telegrafico\", \"mano\", \"solere\", \"avvenire\", \"nuovo\", \"tutto\", \"stato\", \"stare\", \"partire\", \"grande\", \"primo\", \"dovere\", \"paese\", \"nome\", \"altro\", \"senza\", \"trovare\", \"italia\", \"giorno\", \"roma\", \"dispaccio\", \"fare\", \"governare\", \"daily\", \"cardinale\", \"amnon\", \"presentarsi\", \"tolleranza\", \"xiano\", \"impressivit\\u00e0\", \"assistette\", \"italiamh\", \"italiak\", \"nviiuni\", \"setto\", \"nunevo\", \"iiiifj\", \"imbandierala\", \"plnlone\", \"giurare\", \"violetto\", \"diramare\", \"pfff\", \"falcare\", \"durala\", \"inginocchiare\", \"concistorio\", \"candidato\", \"basilico\", \"millilitro\", \"prublmiikrs\", \"camerlengo\", \"cardinalizio\", \"vannutelli\", \"vtomi\", \"cardinale\", \"schedare\", \"dispaccio\", \"doganale\", \"danno\", \"roma\", \"diamond\", \"qualunque\", \"mettere\", \"tangere\", \"formare\", \"daily\", \"stare\", \"cerimonia\", \"oggi\", \"follare\", \"torino\", \"portare\", \"partenza\", \"italia\", \"giorno\", \"durare\", \"poco\", \"edoardo\", \"patrio\", \"politico\", \"porto\", \"pietro\", \"grande\", \"guglielmo\", \"italiano\", \"venire\", \"chiesa\", \"francisco\", \"fare\", \"telegrafico\", \"ministrare\", \"egli\", \"anno\", \"molto\", \"quale\", \"unito\", \"volere\", \"potere\", \"nuovo\", \"mentire\", \"partire\", \"dire\", \"altro\", \"dovere\", \"primo\", \"tutto\", \"stato\", \"giornale\", \"dopo\", \"governare\", \"imelo\", \"fkatellanhjl\", \"fnibr\", \"iniuon\\u00f2\", \"subito\", \"pusillanime\", \"nostrum\", \"adjutoriura\", \"lelto\", \"turali\", \"inonaignot\", \"asilica\", \"animazione\", \"oiorm\", \"grauui\", \"picl\", \"soffocare\", \"dagnarne\", \"itiin\", \"lard\\u00f2\", \"aseaaalnamno\", \"succc\", \"ressa\", \"vederlo\", \"capitalismo\", \"uggia\", \"affollare\", \"cenn\\u00f2\", \"hmki\", \"nonstante\", \"sfruttamento\", \"rombare\", \"minuto\", \"umanit\\u00e0\", \"sognatore\", \"tempo\", \"mondare\", \"dopo\", \"comparso\", \"scoprire\", \"voto\", \"diro\", \"generale\", \"eleggere\", \"pubblico\", \"ieri\", \"vano\", \"maggio\", \"papa\", \"altro\", \"giornale\", \"milano\", \"fare\", \"quando\", \"domandare\", \"lavorare\", \"governare\", \"campagna\", \"stesso\", \"emigrare\", \"raccogliere\", \"volere\", \"italia\", \"molto\", \"rimanere\", \"italiano\", \"avere\", \"potere\", \"mentire\", \"primo\", \"daily\", \"dovere\", \"roma\", \"nuovo\", \"dispaccio\", \"quale\", \"essere\", \"telegrafico\", \"stare\", \"anno\", \"tutto\", \"giorno\", \"quotidiano\", \"dire\", \"partire\", \"oggi\", \"venire\", \"text\", \"available\", \"ostro\", \"bristow\", \"sargent\", \"tutt\", \"ommnalk\", \"dino\", \"colombo\", \"piedestallo\", \"fkanoisuo\", \"procesati\", \"wimple\", \"piendo\", \"tldue\", \"ostacolo\", \"propinandogli\", \"ammos\", \"coole\", \"roversl\", \"deploralo\", \"duchessa\", \"gabinet\", \"molestatore\", \"odell\", \"passionale\", \"sessanten\", \"gnoso\", \"paoluccl\", \"divinamente\", \"popolo\", \"patrizio\", \"massa\", \"scienza\", \"asserire\", \"fiero\", \"oltre\", \"solo\", \"mentre\", \"altro\", \"fare\", \"azione\", \"seguitare\", \"partire\", \"presidente\", \"capitale\", \"dispaccio\", \"vistare\", \"stanza\", \"tutto\", \"dare\", \"italian\", \"dopo\", \"fino\", \"parigi\", \"volere\", \"lungo\", \"germania\", \"pubblico\", \"italiano\", \"ogni\", \"oggi\", \"daily\", \"quando\", \"egli\", \"costare\", \"nuovo\", \"italia\", \"morto\", \"venire\", \"grande\", \"primo\", \"roma\", \"potere\", \"dire\", \"giornale\", \"giorno\", \"anno\", \"stare\", \"papa\", \"telegrafico\", \"dovere\", \"quale\", \"citt\\u00e0\", \"ahim\\u00e8\", \"borioso\", \"staglie\", \"todd\", \"incessante\", \"convulsione\", \"oenoya\", \"francesca\", \"troburgo\", \"funerale\", \"cronista\", \"avvitenti\", \"avvelenamento\", \"borghesia\", \"labaro\", \"corridoio\", \"luin\\u00f9o\", \"ietroburgo\", \"ruzzolare\", \"aumine\", \"tromben\", \"irrisione\", \"quay\", \"imporne\", \"viaiting\", \"varsalona\", \"protettore\", \"siracusa\", \"avigazione\", \"pratese\", \"passeggie\", \"toria\", \"cosi\", \"primo\", \"rappresentare\", \"confermare\", \"confortare\", \"lira\", \"fare\", \"propriet\\u00e0\", \"patrizio\", \"tenere\", \"salvare\", \"ladro\", \"notizia\", \"americano\", \"breve\", \"vecchio\", \"lavorare\", \"stare\", \"testare\", \"altro\", \"napoli\", \"montgomery\", \"internazionale\", \"papa\", \"dopo\", \"rendere\", \"principe\", \"egli\", \"persona\", \"italia\", \"pubblicare\", \"nuovo\", \"stampare\", \"italiano\", \"grande\", \"governare\", \"giorno\", \"telegrafico\", \"ministrare\", \"anno\", \"daily\", \"volto\", \"dovere\", \"quello\", \"tutto\", \"roma\", \"potere\", \"partire\", \"york\", \"dispaccio\", \"gran\", \"dire\", \"cardinale\", \"venire\", \"giornale\", \"molto\", \"spencer\", \"store\", \"cassel\", \"tirapiedi\", \"rialto\", \"abitudine\", \"sfazione\", \"itcrc\", \"pezza\", \"cariatide\", \"griadlm\", \"luzzatti\", \"wvdnu\", \"bronzo\", \"festante\", \"orrendamente\", \"giusuzia\", \"ris\\u00f2j\", \"comotes\", \"appeso\", \"ais\\u00ecou\", \"pkipsiltili\", \"corrodere\", \"fascinare\", \"nlfni\", \"iutressr\", \"confon\", \"patteggiare\", \"\\u00ecntime\", \"saglieri\", \"morandi\", \"rublo\", \"gondola\", \"padrona\", \"evitare\", \"bologna\", \"soldato\", \"popolare\", \"monumento\", \"patrizio\", \"tutto\", \"vecchio\", \"numerare\", \"ragione\", \"egli\", \"sincero\", \"lavorare\", \"emigrare\", \"americano\", \"ottenere\", \"ministero\", \"lungo\", \"cadere\", \"dato\", \"solo\", \"puntare\", \"dispaccio\", \"fare\", \"telegrafico\", \"cosa\", \"fino\", \"essere\", \"stato\", \"gran\", \"paese\", \"senza\", \"mentire\", \"notizia\", \"nuovo\", \"altro\", \"anno\", \"grande\", \"roma\", \"oggi\", \"dopo\", \"italiano\", \"citt\\u00e0\", \"dire\", \"italia\", \"giornale\", \"primo\", \"daily\", \"cardinale\", \"giorno\", \"stare\", \"potere\", \"molto\", \"partire\", \"venire\"], \"Freq\": [1047.0, 430.0, 469.0, 421.0, 494.0, 611.0, 470.0, 464.0, 415.0, 346.0, 399.0, 366.0, 377.0, 459.0, 470.0, 326.0, 339.0, 343.0, 328.0, 227.0, 303.0, 343.0, 265.0, 204.0, 414.0, 241.0, 240.0, 294.0, 181.0, 225.0, 2.3202896118164062, 2.144624948501587, 2.33054518699646, 2.822685718536377, 1.115166187286377, 4.036296844482422, 1.5985697507858276, 16.855243682861328, 2.9524378776550293, 1.6495369672775269, 5.264741897583008, 21.026138305664062, 1.073832631111145, 28.540571212768555, 2.062924385070801, 3.474454164505005, 7.2843403816223145, 2.0476038455963135, 6.988430976867676, 1.044169306755066, 1.590999722480774, 1.6122034788131714, 6.315401077270508, 2.1416544914245605, 1.6435201168060303, 1.498130440711975, 1.0355191230773926, 1.6229298114776611, 1.0149091482162476, 2.1270599365234375, 12.850921630859375, 248.7623748779297, 16.070960998535156, 49.614261627197266, 36.076847076416016, 71.08472442626953, 19.910310745239258, 12.295201301574707, 12.833084106445312, 40.82957458496094, 89.3668212890625, 19.353763580322266, 93.17778015136719, 72.2699203491211, 72.36775207519531, 46.38713073730469, 41.1626091003418, 227.2191162109375, 197.8534393310547, 70.6328353881836, 58.25614547729492, 222.8767852783203, 467.5512390136719, 42.44428634643555, 105.47093963623047, 159.956298828125, 33.837379455566406, 114.62085723876953, 38.758323669433594, 103.67784118652344, 156.7718048095703, 186.64280700683594, 75.39773559570312, 89.16459655761719, 71.12601470947266, 177.0230255126953, 155.7453155517578, 111.86328125, 255.22482299804688, 146.44496154785156, 164.12109375, 158.48867797851562, 131.1995086669922, 84.55551147460938, 98.60582733154297, 170.79298400878906, 92.06678009033203, 98.8753890991211, 180.25865173339844, 135.6218719482422, 167.1894989013672, 153.02294921875, 145.20181274414062, 103.4263687133789, 109.93177032470703, 106.86504364013672, 0.8751831650733948, 2.5278100967407227, 1.3459057807922363, 0.8537819385528564, 0.8605865836143494, 1.6409052610397339, 0.8549424409866333, 1.270345687866211, 0.8103115558624268, 2.8694112300872803, 0.8251059055328369, 0.8344811201095581, 0.8131963014602661, 0.7905522584915161, 5.02512788772583, 1.6941441297531128, 1.73383629322052, 0.818260133266449, 0.8034185171127319, 0.799615204334259, 2.2743327617645264, 0.7890043258666992, 4.666119575500488, 6.025389194488525, 1.2267751693725586, 0.7934055924415588, 4.702863693237305, 3.2847461700439453, 4.284771919250488, 0.7849547863006592, 135.90679931640625, 4.43290376663208, 187.34217834472656, 5.5215020179748535, 17.801223754882812, 179.95675659179688, 8.674036026000977, 12.270411491394043, 52.14739227294922, 41.43174743652344, 24.380996704101562, 120.72080993652344, 219.20022583007812, 17.724645614624023, 98.31730651855469, 35.14136505126953, 13.125786781311035, 45.138641357421875, 13.014362335205078, 171.8440399169922, 121.82945251464844, 67.96731567382812, 73.22284698486328, 22.225841522216797, 61.43229293823242, 49.38277053833008, 39.30918884277344, 45.26376724243164, 128.14688110351562, 28.691242218017578, 309.5650329589844, 131.0175018310547, 42.99453353881836, 47.64745330810547, 133.818115234375, 129.03089904785156, 63.42633819580078, 67.94403076171875, 138.34967041015625, 105.51166534423828, 66.44868469238281, 47.34819412231445, 57.179439544677734, 124.4893569946289, 109.14156341552734, 70.43761444091797, 92.926513671875, 117.02814483642578, 106.9566879272461, 83.3515396118164, 95.8250961303711, 92.34449768066406, 71.35916137695312, 83.60765838623047, 68.190185546875, 68.8974609375, 0.37328022718429565, 0.3763222396373749, 0.3687029480934143, 0.36363306641578674, 0.5453214049339294, 0.5049658417701721, 0.36130863428115845, 0.3615298569202423, 0.35967376828193665, 0.5295131206512451, 0.3577604591846466, 0.3642488121986389, 0.3567631244659424, 0.3528648018836975, 0.320556640625, 0.348004013299942, 1.184439778327942, 0.3268771469593048, 0.3438560366630554, 0.34605541825294495, 0.32147762179374695, 0.3471783697605133, 0.836211085319519, 0.6211288571357727, 0.4699418842792511, 0.4671514928340912, 1.8799710273742676, 0.3460290729999542, 0.3432196378707886, 0.3204384446144104, 1.0969432592391968, 0.5144301056861877, 6.18662166595459, 9.774847030639648, 1.4208110570907593, 31.078210830688477, 14.430691719055176, 36.95045852661133, 1.533139944076538, 8.966737747192383, 11.366745948791504, 13.167586326599121, 29.778139114379883, 6.170532703399658, 17.432910919189453, 21.393787384033203, 6.862801551818848, 22.498394012451172, 31.759225845336914, 59.37704086303711, 48.634765625, 8.303558349609375, 59.6182861328125, 30.488801956176758, 8.109532356262207, 26.283422470092773, 35.20903015136719, 6.1601691246032715, 23.717384338378906, 9.415873527526855, 8.384607315063477, 24.41762924194336, 61.87026596069336, 44.7044792175293, 16.419933319091797, 111.79458618164062, 26.936243057250977, 55.20085906982422, 29.566972732543945, 44.1971549987793, 39.91926193237305, 36.00934600830078, 51.728553771972656, 45.606483459472656, 50.029415130615234, 26.37259292602539, 29.771875381469727, 42.99423599243164, 53.0009880065918, 43.58531951904297, 35.937950134277344, 32.03228759765625, 26.454866409301758, 33.65657424926758, 30.027883529663086, 27.955812454223633, 28.283117294311523, 0.5481667518615723, 0.5481167435646057, 0.27898886799812317, 0.4116310775279999, 0.5661917924880981, 0.40394216775894165, 0.25915059447288513, 0.7645785808563232, 0.6304355263710022, 0.3822687864303589, 0.254393607378006, 0.2555575668811798, 0.39555951952934265, 0.3791978657245636, 0.2507975101470947, 0.8599977493286133, 0.2577296197414398, 0.24285058677196503, 0.6703028678894043, 0.6584073901176453, 0.24477732181549072, 0.9045764207839966, 0.48795679211616516, 0.23821233212947845, 0.24343343079090118, 0.3727201223373413, 0.2434616982936859, 0.24102450907230377, 0.23945534229278564, 0.2454211562871933, 4.798264980316162, 15.338822364807129, 3.915741443634033, 4.390449523925781, 4.015877723693848, 1.8740159273147583, 10.475408554077148, 14.422112464904785, 18.66012191772461, 49.554996490478516, 50.26298904418945, 6.449454307556152, 12.552210807800293, 38.61681365966797, 19.334850311279297, 8.376461029052734, 51.53585433959961, 7.307807445526123, 2.863433599472046, 38.23417663574219, 23.25067138671875, 18.65924644470215, 25.898841857910156, 18.26618766784668, 19.049442291259766, 19.6694393157959, 10.861122131347656, 8.639404296875, 12.752798080444336, 92.25614166259766, 21.371084213256836, 27.309890747070312, 32.36822509765625, 21.638010025024414, 21.48279571533203, 16.0549373626709, 36.95780563354492, 43.48904800415039, 17.293312072753906, 36.53294372558594, 33.277671813964844, 32.47507858276367, 36.99786376953125, 37.23398971557617, 35.972930908203125, 29.00326919555664, 29.16412925720215, 33.46715545654297, 37.420772552490234, 20.98210906982422, 26.878292083740234, 23.443462371826172, 20.47162628173828, 20.49190330505371, 0.3464953601360321, 0.3426234722137451, 0.16644473373889923, 0.162584125995636, 0.24062244594097137, 0.16762568056583405, 0.16070081293582916, 0.2599939703941345, 0.24479639530181885, 1.3443583250045776, 0.15649446845054626, 0.1582658290863037, 0.23315002024173737, 0.6565602421760559, 0.15740816295146942, 0.3270097076892853, 0.159273162484169, 0.15241535007953644, 0.159327432513237, 0.15770576894283295, 0.4685187041759491, 0.15979324281215668, 0.23476450145244598, 0.16297867894172668, 0.15480026602745056, 0.3154032230377197, 0.5035892128944397, 0.14601010084152222, 0.2443399727344513, 0.15558172762393951, 0.2443348914384842, 0.24919946491718292, 13.402162551879883, 30.99648666381836, 7.639240264892578, 2.779358148574829, 1.1683818101882935, 6.305898666381836, 35.26240158081055, 2.566554546356201, 9.074740409851074, 11.184298515319824, 2.711068868637085, 1.0956586599349976, 11.435320854187012, 14.472407341003418, 4.634859085083008, 4.235145092010498, 13.83060073852539, 41.5654411315918, 3.332925796508789, 28.997211456298828, 7.490419864654541, 5.189286708831787, 1.95107901096344, 15.254091262817383, 16.106653213500977, 6.526345729827881, 5.478233814239502, 14.579282760620117, 8.443249702453613, 31.06690788269043, 9.042826652526855, 24.998027801513672, 5.655627250671387, 55.32340621948242, 22.931970596313477, 15.94925308227539, 20.70659065246582, 23.922346115112305, 12.447829246520996, 25.936124801635742, 19.17700958251953, 9.314455032348633, 17.31722068786621, 11.98415470123291, 18.45119857788086, 22.084108352661133, 21.844635009765625, 17.249317169189453, 13.125452041625977, 20.106048583984375, 12.600920677185059, 18.532907485961914, 14.96116828918457, 16.612863540649414, 14.122797012329102, 13.379453659057617, 0.16737177968025208, 0.04807828739285469, 0.101094089448452, 0.045316871255636215, 0.07167364656925201, 0.0685691386461258, 0.06856729835271835, 0.044740140438079834, 0.06260363757610321, 0.044253889471292496, 0.044735439121723175, 0.1793183535337448, 0.041006095707416534, 0.04284035414457321, 0.04243306815624237, 0.08707761019468307, 0.0416625440120697, 0.04372207447886467, 0.04430824890732765, 0.044478584080934525, 0.045182112604379654, 0.04518213868141174, 0.06533581763505936, 0.08880871534347534, 0.04386706277728081, 0.04252225160598755, 0.043852634727954865, 0.04093140363693237, 0.041884902864694595, 0.04154135659337044, 0.06516576558351517, 0.06502105295658112, 0.1242455318570137, 0.33050569891929626, 0.3886479139328003, 0.4282941222190857, 1.2449172735214233, 2.8678956031799316, 0.4336440861225128, 2.1951329708099365, 6.254601955413818, 1.051546573638916, 3.195949077606201, 1.0399268865585327, 3.670029401779175, 0.2809448838233948, 3.189532518386841, 1.1872546672821045, 3.239555597305298, 0.9974352717399597, 1.4235937595367432, 1.7017792463302612, 1.0818758010864258, 1.431031346321106, 2.0446579456329346, 0.9892898201942444, 7.016412258148193, 6.479701042175293, 6.288578033447266, 2.743894100189209, 2.684574604034424, 3.9044666290283203, 3.8616249561309814, 3.343458652496338, 2.995455265045166, 3.255610942840576, 3.5540366172790527, 2.397179126739502, 5.538120746612549, 5.782689094543457, 6.296257019042969, 5.2446184158325195, 6.168000221252441, 3.9416332244873047, 3.4574711322784424, 11.174690246582031, 3.1368818283081055, 5.633007526397705, 5.934542179107666, 4.457423686981201, 4.569894313812256, 4.213064193725586, 4.0159687995910645, 4.240240097045898, 5.445201873779297, 4.746391773223877, 4.127903938293457, 3.6688613891601562, 3.7376415729522705], \"Total\": [1047.0, 430.0, 469.0, 421.0, 494.0, 611.0, 470.0, 464.0, 415.0, 346.0, 399.0, 366.0, 377.0, 459.0, 470.0, 326.0, 339.0, 343.0, 328.0, 227.0, 303.0, 343.0, 265.0, 204.0, 414.0, 241.0, 240.0, 294.0, 181.0, 225.0, 3.854323387145996, 3.5942225456237793, 3.927037000656128, 4.766679763793945, 1.8884505033493042, 6.8513970375061035, 2.727731227874756, 28.786741256713867, 5.061111927032471, 2.8458638191223145, 9.083549499511719, 36.292022705078125, 1.856406569480896, 49.44352340698242, 3.582960367202759, 6.0381059646606445, 12.68263053894043, 3.565061569213867, 12.191554069519043, 1.826063632965088, 2.7836408615112305, 2.8208794593811035, 11.052538871765137, 3.7599034309387207, 2.8857052326202393, 2.6391441822052, 1.8298399448394775, 2.8700883388519287, 1.7977945804595947, 3.7739760875701904, 22.826744079589844, 459.5859375, 28.889379501342773, 90.3734130859375, 65.80667114257812, 131.7718505859375, 36.179237365722656, 22.14478874206543, 23.358509063720703, 76.91058349609375, 172.936279296875, 35.7551383972168, 181.5166015625, 139.82464599609375, 140.30299377441406, 88.63789367675781, 78.61399841308594, 470.7343444824219, 414.0375061035156, 140.22174072265625, 114.56385803222656, 470.5113220214844, 1047.6651611328125, 82.29102325439453, 216.76600646972656, 339.7822265625, 65.13599395751953, 241.2710418701172, 75.52384185791016, 217.9269561767578, 343.9603576660156, 415.75714111328125, 155.51470947265625, 187.31655883789062, 146.2378387451172, 399.2649841308594, 346.9677734375, 240.81954956054688, 611.857421875, 328.9343566894531, 377.68597412109375, 366.5523681640625, 294.45050048828125, 178.2954864501953, 214.15179443359375, 421.46160888671875, 199.85838317871094, 219.6938934326172, 494.46343994140625, 343.5945739746094, 464.124755859375, 469.0528564453125, 430.643310546875, 246.64816284179688, 326.33013916015625, 303.9504699707031, 1.7376490831375122, 5.066206455230713, 2.7325658798217773, 1.7371164560317993, 1.7608758211135864, 3.4258110523223877, 1.8018198013305664, 2.678372383117676, 1.7170450687408447, 6.0856547355651855, 1.7534364461898804, 1.776642918586731, 1.732263445854187, 1.7038049697875977, 10.849186897277832, 3.6646902561187744, 3.769883871078491, 1.7799204587936401, 1.7479902505874634, 1.745137095451355, 4.967039108276367, 1.7236332893371582, 10.219320297241211, 13.312003135681152, 2.7119295597076416, 1.7547484636306763, 10.409116744995117, 7.273163318634033, 9.5079345703125, 1.7445898056030273, 303.9504699707031, 9.900837898254395, 469.0528564453125, 12.724781036376953, 42.58047103881836, 464.124755859375, 20.342742919921875, 29.413265228271484, 133.3799591064453, 105.10834503173828, 60.456581115722656, 326.33013916015625, 611.857421875, 43.4115104675293, 265.3971252441406, 89.74286651611328, 31.688491821289062, 118.03257751464844, 31.437822341918945, 494.46343994140625, 343.5945739746094, 185.3355712890625, 201.59422302246094, 55.970035552978516, 167.48948669433594, 132.2344207763672, 103.7548828125, 121.6294174194336, 377.68597412109375, 74.53386688232422, 1047.6651611328125, 414.0375061035156, 119.94210815429688, 134.7491912841797, 430.643310546875, 415.75714111328125, 187.71607971191406, 204.6757049560547, 470.5113220214844, 343.9603576660156, 202.06101989746094, 135.1981201171875, 171.51148986816406, 470.7343444824219, 399.2649841308594, 225.64651489257812, 328.9343566894531, 459.5859375, 421.46160888671875, 294.45050048828125, 366.5523681640625, 346.9677734375, 240.81954956054688, 339.7822265625, 227.07615661621094, 246.64816284179688, 1.570032000541687, 1.5885392427444458, 1.5592689514160156, 1.5703401565551758, 2.3649537563323975, 2.194912910461426, 1.5721772909164429, 1.5769951343536377, 1.5786868333816528, 2.3429718017578125, 1.5899336338043213, 1.6219645738601685, 1.5925660133361816, 1.5771888494491577, 1.4358937740325928, 1.5629405975341797, 5.320990085601807, 1.4894399642944336, 1.5703710317611694, 1.585303783416748, 1.4787236452102661, 1.5981850624084473, 3.8500068187713623, 2.86958909034729, 2.1810028553009033, 2.168635129928589, 8.740485191345215, 1.6111425161361694, 1.5987898111343384, 1.4927237033843994, 5.256799697875977, 2.4225170612335205, 31.979293823242188, 52.69996643066406, 7.04396390914917, 182.5879669189453, 83.36748504638672, 227.07615661621094, 7.691161155700684, 50.515411376953125, 65.41397857666016, 77.07511138916016, 190.9927978515625, 34.579349517822266, 107.11801147460938, 134.9080047607422, 39.367286682128906, 144.6409454345703, 211.86331176757812, 421.46160888671875, 339.7822265625, 48.849998474121094, 430.643310546875, 204.7528533935547, 47.99839401245117, 177.48941040039062, 246.64816284179688, 35.676849365234375, 162.41184997558594, 57.840087890625, 50.86162185668945, 171.51148986816406, 494.46343994140625, 343.9603576660156, 110.3528823852539, 1047.6651611328125, 198.72512817382812, 470.7343444824219, 225.64651489257812, 366.5523681640625, 326.33013916015625, 294.45050048828125, 464.124755859375, 399.2649841308594, 469.0528564453125, 202.06101989746094, 241.2710418701172, 415.75714111328125, 611.857421875, 470.5113220214844, 346.9677734375, 343.5945739746094, 216.76600646972656, 459.5859375, 328.9343566894531, 265.3971252441406, 414.0375061035156, 1.2143489122390747, 1.2146587371826172, 1.4415448904037476, 2.191295623779297, 3.041872024536133, 2.2777090072631836, 1.461932897567749, 4.3572998046875, 3.597587823867798, 2.2278285026550293, 1.4829490184783936, 1.4950693845748901, 2.317997932434082, 2.2326390743255615, 1.481768012046814, 5.086897373199463, 1.5325855016708374, 1.4465543031692505, 4.036196231842041, 3.9658913612365723, 1.4775768518447876, 5.477196216583252, 2.9708664417266846, 1.4546489715576172, 1.4909285306930542, 2.283824920654297, 1.492801547050476, 1.479063868522644, 1.4695937633514404, 1.5069472789764404, 30.290966033935547, 106.30029296875, 26.95943832397461, 30.69440269470215, 28.007022857666016, 12.563034057617188, 78.59884643554688, 111.41653442382812, 147.06338500976562, 421.46160888671875, 430.643310546875, 47.60603713989258, 97.48556518554688, 328.9343566894531, 155.6360321044922, 63.97315216064453, 469.0528564453125, 55.31695556640625, 20.0168514251709, 346.9677734375, 200.75001525878906, 157.5610809326172, 227.07615661621094, 155.27243041992188, 164.9258575439453, 171.51148986816406, 88.78692626953125, 68.55001068115234, 107.11801147460938, 1047.6651611328125, 198.63560485839844, 265.3971252441406, 326.33013916015625, 204.7528533935547, 204.6757049560547, 143.72854614257812, 399.2649841308594, 494.46343994140625, 157.5738067626953, 414.0375061035156, 377.68597412109375, 366.5523681640625, 464.124755859375, 470.7343444824219, 459.5859375, 339.7822265625, 343.5945739746094, 470.5113220214844, 611.857421875, 211.86331176757812, 415.75714111328125, 294.45050048828125, 202.06101989746094, 203.4715576171875, 2.8168368339538574, 2.8184821605682373, 1.380062222480774, 1.4205255508422852, 2.1111066341400146, 1.4826195240020752, 1.4242358207702637, 2.322327136993408, 2.191840410232544, 12.07707691192627, 1.4073734283447266, 1.4364748001098633, 2.1275980472564697, 5.991998195648193, 1.4369661808013916, 3.003387689590454, 1.4640594720840454, 1.4032318592071533, 1.4708361625671387, 1.455934762954712, 4.333152770996094, 1.4791010618209839, 2.173163414001465, 1.5100879669189453, 1.4348639249801636, 2.9238691329956055, 4.675358772277832, 1.3560919761657715, 2.278032064437866, 1.455923080444336, 2.294495105743408, 2.351975202560425, 146.2161102294922, 366.5523681640625, 84.70368194580078, 29.428659439086914, 11.819948196411133, 70.23828887939453, 430.643310546875, 27.560678482055664, 106.30029296875, 133.1178436279297, 29.719799041748047, 11.281338691711426, 140.5055389404297, 181.62789916992188, 53.51715087890625, 48.96467590332031, 177.48941040039062, 611.857421875, 38.42851638793945, 421.46160888671875, 95.15679931640625, 63.555877685546875, 21.458375930786133, 211.86331176757812, 227.07615661621094, 82.29102325439453, 68.10570526123047, 204.6757049560547, 111.79654693603516, 494.46343994140625, 122.38018798828125, 399.2649841308594, 71.47415924072266, 1047.6651611328125, 377.68597412109375, 246.64816284179688, 343.5945739746094, 415.75714111328125, 187.71607971191406, 470.5113220214844, 326.33013916015625, 131.23313903808594, 294.45050048828125, 184.6264190673828, 346.9677734375, 464.124755859375, 470.7343444824219, 328.9343566894531, 217.9269561767578, 469.0528564453125, 203.0961456298828, 459.5859375, 303.9504699707031, 414.0375061035156, 339.7822265625, 343.9603576660156, 4.317627429962158, 1.3869874477386475, 2.945378541946411, 1.3618288040161133, 2.159125328063965, 2.077105760574341, 2.1332035064697266, 1.412123441696167, 2.0023162364959717, 1.4237195253372192, 1.441697597503662, 5.795743942260742, 1.336805820465088, 1.3970979452133179, 1.3859455585479736, 2.8639700412750244, 1.3708611726760864, 1.4387058019638062, 1.4595201015472412, 1.4654532670974731, 1.4978911876678467, 1.503387212753296, 2.1752278804779053, 2.9630355834960938, 1.466338038444519, 1.4255995750427246, 1.4711546897888184, 1.376871109008789, 1.4096355438232422, 1.4024566411972046, 2.2176008224487305, 2.2310822010040283, 4.424710273742676, 12.590398788452148, 15.14197826385498, 16.97216033935547, 54.414825439453125, 135.46641540527344, 17.532516479492188, 106.30029296875, 346.9677734375, 48.96467590332031, 171.6652069091797, 48.744407653808594, 204.6757049560547, 11.416509628295898, 177.48941040039062, 57.840087890625, 181.62789916992188, 47.84464645385742, 71.95377349853516, 88.78692626953125, 52.86096954345703, 72.9692153930664, 111.41653442382812, 48.075584411621094, 469.0528564453125, 430.643310546875, 415.75714111328125, 157.52957153320312, 155.27243041992188, 241.2710418701172, 240.81954956054688, 203.0961456298828, 178.2954864501953, 199.85838317871094, 225.64651489257812, 140.5055389404297, 399.2649841308594, 421.46160888671875, 470.5113220214844, 377.68597412109375, 464.124755859375, 265.3971252441406, 227.07615661621094, 1047.6651611328125, 203.4715576171875, 459.5859375, 494.46343994140625, 339.7822265625, 366.5523681640625, 326.33013916015625, 303.9504699707031, 343.5945739746094, 611.857421875, 470.7343444824219, 343.9603576660156, 328.9343566894531, 414.0375061035156], \"Category\": [\"Default\", \"Default\", \"Default\", \"Default\", \"Default\", \"Default\", \"Default\", \"Default\", \"Default\", \"Default\", \"Default\", \"Default\", \"Default\", \"Default\", \"Default\", \"Default\", \"Default\", \"Default\", \"Default\", \"Default\", \"Default\", \"Default\", \"Default\", \"Default\", \"Default\", \"Default\", \"Default\", \"Default\", \"Default\", \"Default\", \"Topic1\", \"Topic1\", \"Topic1\", \"Topic1\", \"Topic1\", \"Topic1\", \"Topic1\", \"Topic1\", \"Topic1\", \"Topic1\", \"Topic1\", \"Topic1\", \"Topic1\", \"Topic1\", \"Topic1\", \"Topic1\", \"Topic1\", \"Topic1\", \"Topic1\", \"Topic1\", \"Topic1\", \"Topic1\", \"Topic1\", \"Topic1\", \"Topic1\", \"Topic1\", \"Topic1\", \"Topic1\", \"Topic1\", \"Topic1\", \"Topic1\", \"Topic1\", \"Topic1\", \"Topic1\", \"Topic1\", \"Topic1\", \"Topic1\", \"Topic1\", \"Topic1\", \"Topic1\", \"Topic1\", \"Topic1\", \"Topic1\", \"Topic1\", \"Topic1\", \"Topic1\", \"Topic1\", \"Topic1\", \"Topic1\", \"Topic1\", \"Topic1\", \"Topic1\", \"Topic1\", \"Topic1\", \"Topic1\", \"Topic1\", \"Topic1\", \"Topic1\", \"Topic1\", \"Topic1\", \"Topic1\", \"Topic1\", \"Topic1\", \"Topic1\", \"Topic1\", \"Topic1\", \"Topic1\", \"Topic1\", \"Topic1\", \"Topic1\", \"Topic1\", \"Topic1\", \"Topic1\", \"Topic1\", \"Topic1\", \"Topic1\", \"Topic1\", \"Topic1\", \"Topic1\", \"Topic1\", \"Topic1\", \"Topic1\", \"Topic1\", \"Topic1\", \"Topic1\", \"Topic1\", \"Topic2\", \"Topic2\", \"Topic2\", \"Topic2\", \"Topic2\", \"Topic2\", \"Topic2\", \"Topic2\", \"Topic2\", \"Topic2\", \"Topic2\", \"Topic2\", \"Topic2\", \"Topic2\", \"Topic2\", \"Topic2\", \"Topic2\", \"Topic2\", \"Topic2\", \"Topic2\", \"Topic2\", \"Topic2\", \"Topic2\", \"Topic2\", \"Topic2\", \"Topic2\", \"Topic2\", \"Topic2\", \"Topic2\", \"Topic2\", \"Topic2\", \"Topic2\", \"Topic2\", \"Topic2\", \"Topic2\", \"Topic2\", \"Topic2\", \"Topic2\", \"Topic2\", \"Topic2\", \"Topic2\", \"Topic2\", \"Topic2\", \"Topic2\", \"Topic2\", \"Topic2\", \"Topic2\", \"Topic2\", \"Topic2\", \"Topic2\", \"Topic2\", \"Topic2\", \"Topic2\", \"Topic2\", \"Topic2\", \"Topic2\", \"Topic2\", \"Topic2\", \"Topic2\", \"Topic2\", \"Topic2\", \"Topic2\", \"Topic2\", \"Topic2\", \"Topic2\", \"Topic2\", \"Topic2\", \"Topic2\", \"Topic2\", \"Topic2\", \"Topic2\", \"Topic2\", \"Topic2\", \"Topic2\", \"Topic2\", \"Topic2\", \"Topic2\", \"Topic2\", \"Topic2\", \"Topic2\", \"Topic2\", \"Topic2\", \"Topic2\", \"Topic2\", \"Topic2\", \"Topic2\", \"Topic3\", \"Topic3\", \"Topic3\", \"Topic3\", \"Topic3\", \"Topic3\", \"Topic3\", \"Topic3\", \"Topic3\", \"Topic3\", \"Topic3\", \"Topic3\", \"Topic3\", \"Topic3\", \"Topic3\", \"Topic3\", \"Topic3\", \"Topic3\", \"Topic3\", \"Topic3\", \"Topic3\", \"Topic3\", \"Topic3\", \"Topic3\", \"Topic3\", \"Topic3\", \"Topic3\", \"Topic3\", \"Topic3\", \"Topic3\", \"Topic3\", \"Topic3\", \"Topic3\", \"Topic3\", \"Topic3\", \"Topic3\", \"Topic3\", \"Topic3\", \"Topic3\", \"Topic3\", \"Topic3\", \"Topic3\", \"Topic3\", \"Topic3\", \"Topic3\", \"Topic3\", \"Topic3\", \"Topic3\", \"Topic3\", \"Topic3\", \"Topic3\", \"Topic3\", \"Topic3\", \"Topic3\", \"Topic3\", \"Topic3\", \"Topic3\", \"Topic3\", \"Topic3\", \"Topic3\", \"Topic3\", \"Topic3\", \"Topic3\", \"Topic3\", \"Topic3\", \"Topic3\", \"Topic3\", \"Topic3\", \"Topic3\", \"Topic3\", \"Topic3\", \"Topic3\", \"Topic3\", \"Topic3\", \"Topic3\", \"Topic3\", \"Topic3\", \"Topic3\", \"Topic3\", \"Topic3\", \"Topic3\", \"Topic3\", \"Topic3\", \"Topic3\", \"Topic3\", \"Topic3\", \"Topic3\", \"Topic4\", \"Topic4\", \"Topic4\", \"Topic4\", \"Topic4\", \"Topic4\", \"Topic4\", \"Topic4\", \"Topic4\", \"Topic4\", \"Topic4\", \"Topic4\", \"Topic4\", \"Topic4\", \"Topic4\", \"Topic4\", \"Topic4\", \"Topic4\", \"Topic4\", \"Topic4\", \"Topic4\", \"Topic4\", \"Topic4\", \"Topic4\", \"Topic4\", \"Topic4\", \"Topic4\", \"Topic4\", \"Topic4\", \"Topic4\", \"Topic4\", \"Topic4\", \"Topic4\", \"Topic4\", \"Topic4\", \"Topic4\", \"Topic4\", \"Topic4\", \"Topic4\", \"Topic4\", \"Topic4\", \"Topic4\", \"Topic4\", \"Topic4\", \"Topic4\", \"Topic4\", \"Topic4\", \"Topic4\", \"Topic4\", \"Topic4\", \"Topic4\", \"Topic4\", \"Topic4\", \"Topic4\", \"Topic4\", \"Topic4\", \"Topic4\", \"Topic4\", \"Topic4\", \"Topic4\", \"Topic4\", \"Topic4\", \"Topic4\", \"Topic4\", \"Topic4\", \"Topic4\", \"Topic4\", \"Topic4\", \"Topic4\", \"Topic4\", \"Topic4\", \"Topic4\", \"Topic4\", \"Topic4\", \"Topic4\", \"Topic4\", \"Topic4\", \"Topic4\", \"Topic4\", \"Topic4\", \"Topic4\", \"Topic4\", \"Topic4\", \"Topic4\", \"Topic5\", \"Topic5\", \"Topic5\", \"Topic5\", \"Topic5\", \"Topic5\", \"Topic5\", \"Topic5\", \"Topic5\", \"Topic5\", \"Topic5\", \"Topic5\", \"Topic5\", \"Topic5\", \"Topic5\", \"Topic5\", \"Topic5\", \"Topic5\", \"Topic5\", \"Topic5\", \"Topic5\", \"Topic5\", \"Topic5\", \"Topic5\", \"Topic5\", \"Topic5\", \"Topic5\", \"Topic5\", \"Topic5\", \"Topic5\", \"Topic5\", \"Topic5\", \"Topic5\", \"Topic5\", \"Topic5\", \"Topic5\", \"Topic5\", \"Topic5\", \"Topic5\", \"Topic5\", \"Topic5\", \"Topic5\", \"Topic5\", \"Topic5\", \"Topic5\", \"Topic5\", \"Topic5\", \"Topic5\", \"Topic5\", \"Topic5\", \"Topic5\", \"Topic5\", \"Topic5\", \"Topic5\", \"Topic5\", \"Topic5\", \"Topic5\", \"Topic5\", \"Topic5\", \"Topic5\", \"Topic5\", \"Topic5\", \"Topic5\", \"Topic5\", \"Topic5\", \"Topic5\", \"Topic5\", \"Topic5\", \"Topic5\", \"Topic5\", \"Topic5\", \"Topic5\", \"Topic5\", \"Topic5\", \"Topic5\", \"Topic5\", \"Topic5\", \"Topic5\", \"Topic5\", \"Topic5\", \"Topic5\", \"Topic5\", \"Topic5\", \"Topic5\", \"Topic5\", \"Topic5\", \"Topic5\", \"Topic5\", \"Topic6\", \"Topic6\", \"Topic6\", \"Topic6\", \"Topic6\", \"Topic6\", \"Topic6\", \"Topic6\", \"Topic6\", \"Topic6\", \"Topic6\", \"Topic6\", \"Topic6\", \"Topic6\", \"Topic6\", \"Topic6\", \"Topic6\", \"Topic6\", \"Topic6\", \"Topic6\", \"Topic6\", \"Topic6\", \"Topic6\", \"Topic6\", \"Topic6\", \"Topic6\", \"Topic6\", \"Topic6\", \"Topic6\", \"Topic6\", \"Topic6\", \"Topic6\", \"Topic6\", \"Topic6\", \"Topic6\", \"Topic6\", \"Topic6\", \"Topic6\", \"Topic6\", \"Topic6\", \"Topic6\", \"Topic6\", \"Topic6\", \"Topic6\", \"Topic6\", \"Topic6\", \"Topic6\", \"Topic6\", \"Topic6\", \"Topic6\", \"Topic6\", \"Topic6\", \"Topic6\", \"Topic6\", \"Topic6\", \"Topic6\", \"Topic6\", \"Topic6\", \"Topic6\", \"Topic6\", \"Topic6\", \"Topic6\", \"Topic6\", \"Topic6\", \"Topic6\", \"Topic6\", \"Topic6\", \"Topic6\", \"Topic6\", \"Topic6\", \"Topic6\", \"Topic6\", \"Topic6\", \"Topic6\", \"Topic6\", \"Topic6\", \"Topic6\", \"Topic6\", \"Topic6\", \"Topic6\", \"Topic6\", \"Topic6\", \"Topic6\", \"Topic6\", \"Topic6\", \"Topic6\", \"Topic6\", \"Topic6\", \"Topic6\"], \"logprob\": [30.0, 29.0, 28.0, 27.0, 26.0, 25.0, 24.0, 23.0, 22.0, 21.0, 20.0, 19.0, 18.0, 17.0, 16.0, 15.0, 14.0, 13.0, 12.0, 11.0, 10.0, 9.0, 8.0, 7.0, 6.0, 5.0, 4.0, 3.0, 2.0, 1.0, -10.181300163269043, -10.260000228881836, -10.176899909973145, -9.985300064086914, -10.913999557495117, -9.627699851989746, -10.553899765014648, -8.198399543762207, -9.940400123596191, -10.522500038146973, -9.362000465393066, -7.977200031280518, -10.951800346374512, -7.6717000007629395, -10.29889965057373, -9.777600288391113, -9.037300109863281, -10.306300163269043, -9.078800201416016, -10.9798002243042, -10.558600425720215, -10.54539966583252, -9.180000305175781, -10.26140022277832, -10.526200294494629, -10.618800163269043, -10.988100051879883, -10.538800239562988, -11.008199691772461, -10.26830005645752, -8.469599723815918, -5.506499767303467, -8.246000289916992, -7.11870002746582, -7.437399864196777, -6.759099960327148, -8.031800270080566, -8.513799667358398, -8.470999717712402, -7.313600063323975, -6.530300140380859, -8.060099601745605, -6.488500118255615, -6.742599964141846, -6.741300106048584, -7.185999870300293, -7.305500030517578, -5.597099781036377, -5.735499858856201, -6.765500068664551, -6.958199977874756, -5.616399765014648, -4.875500202178955, -7.274799823760986, -6.36460018157959, -5.9481000900268555, -7.501399993896484, -6.281400203704834, -7.365699768066406, -6.381700038909912, -5.968200206756592, -5.793799877166748, -6.700200080871582, -6.53249979019165, -6.758600234985352, -5.846700191497803, -5.974800109863281, -6.305699825286865, -5.480899810791016, -6.036399841308594, -5.922399997711182, -5.957300186157227, -6.146299839019775, -6.585599899291992, -6.4319000244140625, -5.882599830627441, -6.500500202178955, -6.429200172424316, -5.82859992980957, -6.113100051879883, -5.903900146484375, -5.992400169372559, -6.044899940490723, -6.384200096130371, -6.323200225830078, -6.351399898529053, -10.803299903869629, -9.742600440979004, -10.372900009155273, -10.82800006866455, -10.820099830627441, -10.174699783325195, -10.826700210571289, -10.430700302124023, -10.88029956817627, -9.615900039672852, -10.862199783325195, -10.850899696350098, -10.876700401306152, -10.904999732971191, -9.055500030517578, -10.142800331115723, -10.119600296020508, -10.870499610900879, -10.888799667358398, -10.893600463867188, -9.848299980163574, -10.906900405883789, -9.129599571228027, -8.87399959564209, -10.46560001373291, -10.901399612426758, -9.121800422668457, -9.48069953918457, -9.214900016784668, -10.912099838256836, -5.757999897003174, -9.180899620056152, -5.436999797821045, -8.961299896240234, -7.7906999588012695, -5.477200031280518, -8.509599685668945, -8.162799835205078, -6.71589994430542, -6.945899963378906, -7.476200103759766, -5.876500129699707, -5.28000020980835, -7.795000076293945, -6.0817999839782715, -7.110599994659424, -8.095399856567383, -6.860199928283691, -8.103899955749512, -5.523399829864502, -5.867300033569336, -6.450900077819824, -6.376500129699707, -7.568699836730957, -6.552000045776367, -6.770400047302246, -6.998499870300293, -6.857500076293945, -5.816800117492676, -7.313399791717529, -4.934800148010254, -5.794600009918213, -6.908899784088135, -6.806099891662598, -5.773499965667725, -5.809899806976318, -6.520100116729736, -6.451300144195557, -5.740200042724609, -6.011099815368652, -6.473499774932861, -6.812399864196777, -6.623799800872803, -5.845699787139893, -5.97730016708374, -6.415200233459473, -6.1381001472473145, -5.90749979019165, -5.997499942779541, -6.2469000816345215, -6.107399940490723, -6.144400119781494, -6.402200222015381, -6.243800163269043, -6.447700023651123, -6.437300205230713, -10.719099998474121, -10.711000442504883, -10.731499671936035, -10.74530029296875, -10.340100288391113, -10.416999816894531, -10.751700401306152, -10.751099586486816, -10.756199836730957, -10.369500160217285, -10.76159954071045, -10.743599891662598, -10.764399528503418, -10.775400161743164, -10.871399879455566, -10.789199829101562, -9.564399719238281, -10.851900100708008, -10.801199913024902, -10.7947998046875, -10.868499755859375, -10.791600227355957, -9.912599563598633, -10.20989990234375, -10.488800048828125, -10.494799613952637, -9.102399826049805, -10.794899940490723, -10.803099632263184, -10.871800422668457, -9.641200065612793, -10.39840030670166, -7.911300182342529, -7.45389986038208, -9.382499694824219, -6.2972002029418945, -7.064300060272217, -6.124100208282471, -9.306400299072266, -7.540200233459473, -7.302999973297119, -7.155900001525879, -6.339900016784668, -7.913899898529053, -6.87529993057251, -6.670599937438965, -7.807600021362305, -6.620200157165527, -6.2754998207092285, -5.649799823760986, -5.849400043487549, -7.617000102996826, -5.645699977874756, -6.316299915313721, -7.640699863433838, -6.464799880981445, -6.172399997711182, -7.915599822998047, -6.567500114440918, -7.491300106048584, -7.6072998046875, -6.538400173187256, -5.608699798583984, -5.933599948883057, -6.935200214385986, -5.017000198364258, -6.440199851989746, -5.722700119018555, -6.3470001220703125, -5.945000171661377, -6.046800136566162, -6.149899959564209, -5.787700176239014, -5.913599967956543, -5.821100234985352, -6.461400032043457, -6.340099811553955, -5.972599983215332, -5.763400077819824, -5.959000110626221, -6.151899814605713, -6.266900062561035, -6.4583001136779785, -6.21750020980835, -6.331600189208984, -6.40310001373291, -6.39139986038208, -10.110199928283691, -10.110300064086914, -10.785599708557129, -10.396699905395508, -10.077899932861328, -10.415499687194824, -10.859399795532227, -9.77750015258789, -9.970399856567383, -10.47070026397705, -10.877900123596191, -10.873299598693848, -10.43649959564209, -10.478699684143066, -10.89210033416748, -9.659899711608887, -10.864899635314941, -10.924300193786621, -9.909099578857422, -9.927000045776367, -10.916399955749512, -9.609299659729004, -10.22659969329834, -10.943599700927734, -10.921899795532227, -10.496000289916992, -10.921799659729004, -10.931900024414062, -10.938400268554688, -10.913800239562988, -7.940800189971924, -6.778600215911865, -8.144000053405762, -8.029600143432617, -8.118800163269043, -8.880999565124512, -7.159999847412109, -6.8403000831604, -6.582600116729736, -5.605999946594238, -5.591800212860107, -7.644999980926514, -6.979100227355957, -5.855299949645996, -6.547100067138672, -7.383600234985352, -5.566800117492676, -7.520100116729736, -8.456999778747559, -5.865300178527832, -6.36269998550415, -6.582699775695801, -6.254799842834473, -6.604000091552734, -6.561999797821045, -6.53000020980835, -7.123799800872803, -7.352700233459473, -6.9633002281188965, -4.984499931335449, -6.447000026702881, -6.2017998695373535, -6.031899929046631, -6.434599876403809, -6.441800117492676, -6.732999801635742, -5.8993000984191895, -5.736499786376953, -6.658699989318848, -5.910799980163574, -6.0040998458862305, -6.028600215911865, -5.898200035095215, -5.8917999267578125, -5.926300048828125, -6.141600131988525, -6.136099815368652, -5.998499870300293, -5.8867998123168945, -6.465400218963623, -6.217700004577637, -6.354400157928467, -6.489999771118164, -6.488999843597412, -10.129300117492676, -10.14050006866455, -10.862500190734863, -10.885899543762207, -10.493900299072266, -10.855400085449219, -10.897600173950195, -10.416500091552734, -10.476699829101562, -8.773500442504883, -10.924099922180176, -10.9128999710083, -10.525400161743164, -9.490099906921387, -10.918299674987793, -10.187100410461426, -10.906499862670898, -10.950499534606934, -10.906200408935547, -10.916399955749512, -9.82759952545166, -10.903200149536133, -10.518500328063965, -10.883500099182129, -10.9350004196167, -10.223299980163574, -9.755399703979492, -10.993499755859375, -10.478599548339844, -10.930000305175781, -10.478599548339844, -10.458900451660156, -6.473999977111816, -5.635499954223633, -7.036099910736084, -8.047200202941895, -8.913800239562988, -7.22790002822876, -5.5065999031066895, -8.126799583435059, -6.863900184631348, -6.654900074005127, -8.071999549865723, -8.977999687194824, -6.632699966430664, -6.39709997177124, -7.535799980163574, -7.625999927520752, -6.442500114440918, -5.342100143432617, -7.865499973297119, -5.702199935913086, -7.055799961090088, -7.422800064086914, -8.401000022888184, -6.3445000648498535, -6.29010009765625, -7.19350004196167, -7.368599891662598, -6.389800071716309, -6.935999870300293, -5.633200168609619, -6.867400169372559, -5.850599765777588, -7.336699962615967, -5.05620002746582, -5.936800003051758, -6.300000190734863, -6.038899898529053, -5.894599914550781, -6.547800064086914, -5.813700199127197, -6.115699768066406, -6.837800025939941, -6.217700004577637, -6.5858001708984375, -6.154200077056885, -5.9745001792907715, -5.985400199890137, -6.22160005569458, -6.494800090789795, -6.068399906158447, -6.535600185394287, -6.149799823760986, -6.363900184631348, -6.259200096130371, -6.421599864959717, -6.4756999015808105, -9.46399974822998, -10.711400032043457, -9.968199729919434, -10.770500183105469, -10.312100410461426, -10.356399536132812, -10.356399536132812, -10.783300399780273, -10.447400093078613, -10.794300079345703, -10.78339958190918, -9.395099639892578, -10.870499610900879, -10.826700210571289, -10.836299896240234, -10.117400169372559, -10.854599952697754, -10.806400299072266, -10.793000221252441, -10.789199829101562, -10.773500442504883, -10.773500442504883, -10.40470027923584, -10.097700119018555, -10.803099632263184, -10.834199905395508, -10.803400039672852, -10.872300148010254, -10.849300384521484, -10.857500076293945, -10.407299995422363, -10.409500122070312, -9.76200008392334, -8.783599853515625, -8.621500015258789, -8.524399757385254, -7.457399845123291, -6.622900009155273, -8.51200008392334, -6.890200138092041, -5.843100070953369, -7.626200199127197, -6.514599800109863, -7.63730001449585, -6.376299858093262, -8.946100234985352, -6.516600131988525, -7.504799842834473, -6.500999927520752, -7.678999900817871, -7.323299884796143, -7.144800186157227, -7.597799777984619, -7.3180999755859375, -6.96120023727417, -7.68720006942749, -5.7281999588012695, -5.807799816131592, -5.837699890136719, -6.667099952697754, -6.688899993896484, -6.314300060272217, -6.325399875640869, -6.4695000648498535, -6.579400062561035, -6.496099948883057, -6.408400058746338, -6.802199840545654, -5.964799880981445, -5.921599864959717, -5.83650016784668, -6.0192999839782715, -5.857100009918213, -6.304900169372559, -6.4359002113342285, -5.262800216674805, -6.533199787139893, -5.947800159454346, -5.895699977874756, -6.1819000244140625, -6.1570000648498535, -6.23829984664917, -6.286200046539307, -6.231800079345703, -5.9816999435424805, -6.119100093841553, -6.258699893951416, -6.3765997886657715, -6.357999801635742], \"loglift\": [30.0, 29.0, 28.0, 27.0, 26.0, 25.0, 24.0, 23.0, 22.0, 21.0, 20.0, 19.0, 18.0, 17.0, 16.0, 15.0, 14.0, 13.0, 12.0, 11.0, 10.0, 9.0, 8.0, 7.0, 6.0, 5.0, 4.0, 3.0, 2.0, 1.0, 0.35749998688697815, 0.34860000014305115, 0.3431999981403351, 0.3409999907016754, 0.33820000290870667, 0.3359000086784363, 0.33059999346733093, 0.3296999931335449, 0.32600000500679016, 0.319599986076355, 0.319599986076355, 0.3192000091075897, 0.3176000118255615, 0.3154999911785126, 0.31290000677108765, 0.3122999966144562, 0.31049999594688416, 0.31049999594688416, 0.3084999918937683, 0.3061000108718872, 0.30559998750686646, 0.30550000071525574, 0.3052999973297119, 0.30219998955726624, 0.3021000027656555, 0.298799991607666, 0.2957000136375427, 0.29490000009536743, 0.29319998621940613, 0.29159998893737793, 0.2904999852180481, 0.25119999051094055, 0.2784999907016754, 0.2653000056743622, 0.2639000117778778, 0.24779999256134033, 0.2676999866962433, 0.2766000032424927, 0.2660999894142151, 0.23180000483989716, 0.20479999482631683, 0.25119999051094055, 0.19820000231266022, 0.20499999821186066, 0.2029999941587448, 0.2175000011920929, 0.21799999475479126, 0.13660000264644623, 0.1265999972820282, 0.179299995303154, 0.18870000541210175, 0.11779999732971191, 0.05820000171661377, 0.2029000073671341, 0.1446000039577484, 0.11159999668598175, 0.210099995136261, 0.12070000171661377, 0.19789999723434448, 0.12210000306367874, 0.07930000126361847, 0.0640999972820282, 0.14100000262260437, 0.12269999831914902, 0.14419999718666077, 0.051600001752376556, 0.06400000303983688, 0.0982000008225441, -0.009399999864399433, 0.055799998342990875, 0.03150000050663948, 0.026499999687075615, 0.05660000070929527, 0.11900000274181366, 0.08940000087022781, -0.03830000013113022, 0.08990000188350677, 0.066600002348423, -0.14409999549388885, -0.06459999829530716, -0.15600000321865082, -0.2551000118255615, -0.22220000624656677, -0.004100000020116568, -0.22310000658035278, -0.18029999732971191, 0.5321999788284302, 0.5228000283241272, 0.5098999738693237, 0.5077000260353088, 0.5020999908447266, 0.4819999933242798, 0.4724999964237213, 0.47209998965263367, 0.46709999442100525, 0.46619999408721924, 0.4641999900341034, 0.46239998936653137, 0.4618000090122223, 0.45019999146461487, 0.44839999079704285, 0.4465000033378601, 0.44130000472068787, 0.4408999979496002, 0.4406999945640564, 0.4375999867916107, 0.43689998984336853, 0.436599999666214, 0.4341000020503998, 0.4253999888896942, 0.42480000853538513, 0.4242999851703644, 0.4235000014305115, 0.42309999465942383, 0.42100000381469727, 0.41940000653266907, 0.4131999909877777, 0.41449999809265137, 0.3003000020980835, 0.3831000030040741, 0.3458999991416931, 0.27059999108314514, 0.36570000648498535, 0.34380000829696655, 0.27889999747276306, 0.2870999872684479, 0.3098999857902527, 0.22360000014305115, 0.1914999932050705, 0.322299987077713, 0.22499999403953552, 0.28049999475479126, 0.3366999924182892, 0.25679999589920044, 0.3361000120639801, 0.16120000183582306, 0.18119999766349792, 0.21490000188350677, 0.2053000032901764, 0.2944999933242798, 0.2151000052690506, 0.23309999704360962, 0.2475000023841858, 0.2295999974012375, 0.1371999979019165, 0.26339998841285706, -0.0010999999940395355, 0.0674000009894371, 0.19210000336170197, 0.1784999966621399, 0.049300000071525574, 0.04800000041723251, 0.13300000131130219, 0.1152999997138977, -0.006000000052154064, 0.03629999980330467, 0.10589999705553055, 0.1687999963760376, 0.11959999799728394, -0.1120000034570694, -0.07890000194311142, 0.05380000174045563, -0.04600000008940697, -0.14990000426769257, -0.15330000221729279, -0.04399999976158142, -0.12359999865293503, -0.10570000112056732, 0.0017000000225380063, -0.18410000205039978, 0.01510000042617321, -0.05730000138282776, 0.7178000211715698, 0.7142000198364258, 0.7123000025749207, 0.6913999915122986, 0.6872000098228455, 0.6848999857902527, 0.6837999820709229, 0.6814000010490417, 0.6751999855041504, 0.6671000123023987, 0.6626999974250793, 0.6607999801635742, 0.65829998254776, 0.6570000052452087, 0.6547999978065491, 0.6521999835968018, 0.6518999934196472, 0.6377000212669373, 0.6355000138282776, 0.6323999762535095, 0.6283000111579895, 0.6274999976158142, 0.6273999810218811, 0.6238999962806702, 0.6194000244140625, 0.6190999746322632, 0.6176000237464905, 0.616100013256073, 0.6157000064849854, 0.6155999898910522, 0.5873000025749207, 0.6047999858856201, 0.5116000175476074, 0.46950000524520874, 0.5533999800682068, 0.38359999656677246, 0.4004000127315521, 0.3386000096797943, 0.5415999889373779, 0.42559999227523804, 0.4043000042438507, 0.3873000144958496, 0.29589998722076416, 0.4307999908924103, 0.33869999647140503, 0.31279999017715454, 0.4074999988079071, 0.29350000619888306, 0.2565999925136566, 0.19449999928474426, 0.2102999985218048, 0.3822000026702881, 0.1770000010728836, 0.2498999983072281, 0.37619999051094055, 0.2442999929189682, 0.2076999992132187, 0.3978999853134155, 0.2303999960422516, 0.33899998664855957, 0.3515999913215637, 0.20499999821186066, 0.07590000331401825, 0.11389999836683273, 0.249099999666214, -0.08330000191926956, 0.1559000015258789, 0.010999999940395355, 0.12200000137090683, 0.03880000114440918, 0.053300000727176666, 0.05299999937415123, -0.039799999445676804, -0.015300000086426735, -0.08380000293254852, 0.11810000240802765, 0.06199999898672104, -0.11469999700784683, -0.29190000891685486, -0.2248000055551529, -0.11309999972581863, -0.2184000015258789, 0.05090000107884407, -0.45980000495910645, -0.2393999993801117, -0.09629999846220016, -0.5293999910354614, 1.5836000442504883, 1.5831999778747559, 0.7366999983787537, 0.7069000005722046, 0.697700023651123, 0.6492999792098999, 0.6488999724388123, 0.638700008392334, 0.6373999714851379, 0.6162999868392944, 0.616100013256073, 0.612500011920929, 0.61080002784729, 0.6061000227928162, 0.6025999784469604, 0.6014999747276306, 0.5961999893188477, 0.5945000052452087, 0.5835999846458435, 0.583299994468689, 0.5812000036239624, 0.5781000256538391, 0.5726000070571899, 0.569599986076355, 0.5666999816894531, 0.5662000179290771, 0.565500020980835, 0.5647000074386597, 0.5645999908447266, 0.5641000270843506, 0.5364000201225281, 0.4431000053882599, 0.4496000111103058, 0.4343000054359436, 0.4368000030517578, 0.4763000011444092, 0.3635999858379364, 0.3345000147819519, 0.31450000405311584, 0.23829999566078186, 0.23100000619888306, 0.3799999952316284, 0.32919999957084656, 0.23680000007152557, 0.29339998960494995, 0.3458999991416931, 0.1704999953508377, 0.3547999858856201, 0.4343999922275543, 0.17350000143051147, 0.2231999933719635, 0.24549999833106995, 0.2079000025987625, 0.23880000412464142, 0.22050000727176666, 0.2134000062942505, 0.27790001034736633, 0.3077000081539154, 0.2508000135421753, -0.05079999938607216, 0.14949999749660492, 0.10499999672174454, 0.0681999996304512, 0.1316000074148178, 0.12479999661445618, 0.18709999322891235, -0.0008999999845400453, -0.052000001072883606, 0.16940000653266907, -0.04879999905824661, -0.050200000405311584, -0.04470000043511391, -0.15029999613761902, -0.15809999406337738, -0.16859999299049377, -0.08190000057220459, -0.08760000020265579, -0.26429998874664307, -0.41530001163482666, 0.06669999659061432, -0.3598000109195709, -0.15150000154972076, 0.08940000087022781, 0.08349999785423279, 0.7231000065803528, 0.7113000154495239, 0.7034000158309937, 0.6510000228881836, 0.6468999981880188, 0.6388000249862671, 0.6367999911308289, 0.6290000081062317, 0.6266000270843506, 0.623199999332428, 0.6222000122070312, 0.6129999756813049, 0.6075999736785889, 0.6075000166893005, 0.607200026512146, 0.6011000275611877, 0.6003000140190125, 0.5986999869346619, 0.5960000157356262, 0.5960000157356262, 0.5942000150680542, 0.5932999849319458, 0.5932999849319458, 0.5922999978065491, 0.5918999910354614, 0.5917999744415283, 0.5903000235557556, 0.589900016784668, 0.5860999822616577, 0.5824000239372253, 0.5788999795913696, 0.5738999843597412, 0.42899999022483826, 0.3483999967575073, 0.41280001401901245, 0.45890000462532043, 0.5044999718666077, 0.4081999957561493, 0.31619998812675476, 0.4447999894618988, 0.3578999936580658, 0.3418999910354614, 0.42419999837875366, 0.4867999851703644, 0.3100999891757965, 0.2888999879360199, 0.37220001220703125, 0.3709000051021576, 0.26660001277923584, 0.12939999997615814, 0.37369999289512634, 0.1421000063419342, 0.2766999900341034, 0.3133000135421753, 0.42089998722076416, 0.1875, 0.17260000109672546, 0.2842000126838684, 0.29840001463890076, 0.17679999768733978, 0.2353000044822693, 0.05130000039935112, 0.2134999930858612, 0.04780000075697899, 0.28189998865127563, -0.12250000238418579, 0.017100000753998756, 0.08009999990463257, 0.009600000455975533, -0.03669999912381172, 0.10520000010728836, -0.07959999889135361, -0.015599999576807022, 0.17319999635219574, -0.014800000004470348, 0.08389999717473984, -0.11550000309944153, -0.22669999301433563, -0.2517000138759613, -0.12950000166893005, 0.008999999612569809, -0.3310999870300293, 0.03869999945163727, -0.3921000063419342, -0.19280000030994415, -0.3971000015735626, -0.3619000017642975, -0.42820000648498535, 0.9613000154495239, 0.8495000004768372, 0.8396000266075134, 0.8086000084877014, 0.8062000274658203, 0.8007000088691711, 0.7739999890327454, 0.7595999836921692, 0.7462999820709229, 0.7404999732971191, 0.7386999726295471, 0.73580002784729, 0.7271999716758728, 0.7268999814987183, 0.7253000140190125, 0.7184000015258789, 0.7179999947547913, 0.7178999781608582, 0.7168999910354614, 0.7166000008583069, 0.7103999853134155, 0.7067999839782715, 0.7062000036239624, 0.7041000127792358, 0.7021999955177307, 0.6991999745368958, 0.6985999941825867, 0.695900022983551, 0.6953999996185303, 0.692300021648407, 0.6843000054359436, 0.6759999990463257, 0.6388000249862671, 0.5715000033378601, 0.5490000247955322, 0.5320000052452087, 0.4339999854564667, 0.3564000129699707, 0.5120000243186951, 0.33149999380111694, 0.1956000030040741, 0.37070000171661377, 0.22789999842643738, 0.36410000920295715, 0.19030000269412994, 0.5069000124931335, 0.19249999523162842, 0.3255000114440918, 0.1850000023841858, 0.3409999907016754, 0.28870001435279846, 0.25699999928474426, 0.32260000705718994, 0.2799000144004822, 0.2134999930858612, 0.328000009059906, 0.009100000374019146, 0.01489999983459711, 0.02019999921321869, 0.16130000352859497, 0.15389999747276306, 0.0877000018954277, 0.07859999686479568, 0.10490000247955322, 0.12520000338554382, 0.09430000185966492, 0.06069999933242798, 0.14059999585151672, -0.06639999896287918, -0.07729999721050262, -0.1023000031709671, -0.06530000269412994, -0.10920000076293945, 0.0019000000320374966, 0.026799999177455902, -0.32910001277923584, 0.03929999843239784, -0.19009999930858612, -0.2110999971628189, -0.12219999730587006, -0.17309999465942383, -0.13819999992847443, -0.11500000208616257, -0.18330000340938568, -0.510200023651123, -0.3853999972343445, -0.21119999885559082, -0.28439998626708984, -0.4959999918937683]}, \"token.table\": {\"Topic\": [1, 2, 1, 2, 1, 2, 3, 4, 5, 6, 2, 1, 2, 3, 4, 1, 2, 1, 1, 2, 1, 2, 3, 4, 5, 6, 1, 2, 3, 4, 5, 6, 1, 2, 3, 4, 5, 6, 1, 2, 1, 2, 3, 4, 5, 6, 2, 1, 2, 3, 4, 5, 6, 1, 2, 1, 2, 3, 1, 1, 2, 3, 4, 5, 1, 2, 1, 2, 3, 4, 5, 1, 2, 1, 2, 3, 4, 5, 1, 1, 4, 1, 2, 3, 4, 5, 6, 1, 2, 1, 2, 1, 2, 3, 4, 5, 6, 1, 1, 2, 3, 4, 5, 6, 1, 2, 3, 4, 5, 1, 2, 3, 4, 5, 1, 2, 3, 4, 5, 1, 2, 1, 2, 3, 4, 5, 1, 2, 3, 4, 5, 6, 1, 2, 1, 2, 3, 4, 5, 6, 1, 2, 3, 4, 5, 1, 2, 3, 4, 5, 1, 2, 3, 4, 5, 1, 2, 3, 4, 5, 6, 1, 2, 1, 2, 3, 4, 5, 6, 1, 2, 3, 4, 1, 1, 2, 1, 2, 1, 2, 3, 4, 5, 6, 1, 2, 3, 4, 5, 6, 1, 2, 3, 4, 5, 6, 1, 2, 3, 4, 1, 1, 2, 3, 1, 2, 3, 4, 5, 6, 1, 2, 1, 2, 3, 4, 5, 1, 1, 2, 3, 4, 5, 1, 1, 2, 4, 1, 2, 1, 2, 1, 2, 3, 4, 5, 6, 1, 2, 3, 4, 5, 6, 1, 2, 3, 4, 5, 6, 1, 2, 3, 4, 5, 1, 1, 1, 2, 3, 4, 5, 6, 1, 2, 3, 4, 5, 6, 1, 2, 3, 4, 5, 6, 1, 2, 3, 4, 5, 6, 1, 2, 1, 2, 1, 1, 2, 3, 4, 5, 1, 2, 3, 4, 5, 6, 1, 2, 3, 4, 1, 2, 1, 2, 3, 4, 5, 6, 1, 2, 3, 4, 5, 6, 1, 2, 3, 4, 5, 6, 1, 1, 2, 3, 4, 5, 1, 2, 3, 4, 5, 6, 1, 2, 3, 4, 5, 6, 1, 2, 3, 4, 5, 6, 1, 2, 3, 4, 1, 2, 1, 2, 3, 4, 5, 6, 1, 2, 3, 4, 5, 6, 1, 2, 3, 4, 5, 6, 1, 2, 3, 4, 5, 1, 2, 3, 4, 5, 6, 1, 2, 3, 4, 5, 6, 1, 2, 1, 2, 3, 4, 5, 1, 2, 1, 2, 3, 4, 5, 6, 1, 2, 1, 2, 3, 4, 5, 1, 2, 3, 4, 5, 6, 1, 2, 2, 1, 2, 3, 4, 5, 6, 1, 2, 3, 4, 5, 1, 2, 3, 4, 5, 6, 1, 2, 1, 2, 3, 4, 5, 6, 1, 2, 1, 2, 3, 4, 5, 1, 2, 1, 2, 1, 2, 3, 4, 5, 6, 1, 2, 3, 4, 5, 6, 1, 2, 3, 4, 5, 6, 1, 2, 3, 4, 5, 6, 1, 2, 3, 4, 5, 6, 1, 2, 3, 4, 1, 1, 1, 2, 4, 1, 2, 3, 4, 5, 6, 1, 2, 3, 4, 5, 6, 1, 2, 3, 4, 5, 6, 1, 1, 1, 2, 3, 4, 5, 6, 2, 1, 2, 1, 2, 3, 4, 5, 6, 1, 1, 2, 1, 2, 2, 1, 1, 2, 1, 2, 1, 2, 3, 2, 2, 1, 2, 3, 4, 5, 1, 2, 3, 4, 1, 1, 2, 3, 4, 5, 6, 1, 2, 1, 2, 1, 2, 3, 4, 5, 6, 1, 2, 3, 4, 5, 6, 1, 2, 1, 1, 2, 3, 4, 5, 2, 1, 2, 3, 4, 5, 6, 2, 1, 2, 3, 4, 5, 1, 2, 3, 4, 5, 6, 1, 1, 2, 3, 4, 5, 6, 1, 2, 3, 1, 2, 3, 4, 5, 6, 1, 2, 3, 4, 5, 6, 1, 2, 1, 2, 3, 4, 5, 1, 2, 3, 4, 5, 6, 1, 2, 3, 4, 5, 6, 1, 2, 3, 4, 5, 6, 1, 2, 1, 2, 3, 4, 5, 6, 1, 2, 3, 4, 5, 6, 1, 2, 1, 2, 3, 4, 5, 6, 1, 2, 3, 4, 5, 6, 1, 2, 3, 4, 5, 1, 1, 2, 3, 4, 5, 6, 1, 2, 3, 4, 5, 6, 1, 2, 3, 4, 5, 6, 1, 2, 3, 4, 5, 1, 2, 1, 2, 3, 4, 5, 6, 1, 2, 3, 4, 5, 6, 1, 2, 3, 4, 5, 6, 1, 1, 2, 3, 4, 5, 6, 1, 2, 1, 2, 3, 4, 5, 6, 1, 2, 3, 4, 5, 6, 1, 2, 1, 2, 3, 4, 5, 6, 2, 1, 1, 1, 2, 3, 4, 5, 6, 1, 2, 3, 4, 5, 6, 2, 1, 2, 3, 4, 5, 6, 1, 1, 2, 3, 4, 5, 1, 2, 1, 2, 3, 4, 1, 1, 2, 3, 4, 5, 6, 1, 2, 3, 4, 5, 1, 2, 3, 4, 5, 6, 1, 1, 2, 3, 4, 5, 6, 1, 2, 3, 4, 5, 6, 1, 2, 3, 4, 5, 6, 1, 2, 3, 4, 5, 6, 1, 2, 3, 4, 5, 1, 2, 3, 4, 5, 6, 1, 2, 1, 2, 1, 2, 3, 4, 5, 6, 1, 2, 3, 4, 5, 6, 1, 1, 1, 2, 3, 4, 5, 6, 1, 2, 1, 2, 2, 1, 2, 1, 2, 1, 2, 3, 4, 5, 6, 1, 2, 1, 2, 3, 4, 5, 6, 1, 1, 2, 3, 4, 5, 6, 1, 2, 3, 4, 5, 6, 1, 2, 3, 4, 5, 6, 1, 2, 3, 4, 5, 6, 1, 2, 3, 4, 5, 6, 1, 2, 3, 4, 5, 6, 1, 1, 2, 3, 1, 2, 3, 4, 5, 6, 1, 2, 3, 4, 5, 6, 1, 2, 1, 2, 3, 4, 5, 6, 1, 1, 2, 3, 4, 5, 6, 1, 1, 2, 3, 4, 5, 1, 2, 3, 5, 1, 2, 1, 2, 3, 4, 5, 6, 1, 2, 3, 4, 5, 6, 1, 2, 3, 4, 5, 6, 1, 2, 3, 1, 2, 3, 4, 5, 6, 1, 2, 3, 4, 5, 1, 2, 3, 4, 5, 6, 1, 1, 2, 3, 4, 5, 6, 1, 2, 3, 4, 5, 6, 1, 2, 3, 4, 5, 6, 1, 2, 3, 4, 5, 6, 1, 2, 3, 4, 5, 6, 1, 2, 3, 4, 5, 1, 2, 3, 4, 5, 6, 1, 2, 3, 4, 5, 6, 1, 2, 3, 1, 2, 1, 2, 1, 2, 3, 4, 5, 6, 1, 1, 2, 3, 4, 5, 6, 1, 2, 3, 1, 2, 4, 1, 2, 1, 2, 3, 4, 5, 6, 1, 1, 2, 3, 4, 5, 1, 2, 4, 1, 2, 3, 4, 1, 2, 3, 4, 5, 6, 1, 2, 3, 4, 5, 6, 1, 2, 3, 4, 5, 6, 1, 2, 3, 4, 5, 6, 1, 2, 3, 4, 5, 6, 1, 1, 2, 3, 1, 2, 1, 2, 3, 1, 1, 2, 3, 4, 5, 1, 2, 3, 1, 2, 3, 4, 5, 1, 2, 3, 4, 5, 6, 1, 2, 3, 4, 5, 6, 1, 2, 3, 4, 5, 6, 1, 2, 1, 2, 3, 4, 5, 6, 1, 2, 3, 4, 5, 1, 2, 3, 4, 5, 6, 1, 2, 3, 4, 5, 6, 1, 1, 2, 3, 4, 5, 6, 1, 2, 3, 2, 1, 2, 3, 4, 5, 6, 1, 2, 3, 4, 5, 6, 1, 2, 3, 4, 5, 6, 1, 2, 3, 4, 5, 6, 1, 2, 3, 4, 5, 6, 1, 2, 3, 4, 5, 6, 4, 1, 1, 1, 2, 1, 2, 3, 4, 5, 1, 2, 1, 2, 3, 4, 5, 1, 2, 1, 2, 3, 1, 2, 1, 2, 3, 4, 5, 6, 1, 2, 3, 1, 2, 1, 2, 3, 4, 5, 6, 1, 2, 1, 2, 3, 4, 5, 6, 1, 2, 3, 4, 5, 6, 1, 2, 3, 4, 1, 2, 3, 4, 5, 6, 1, 2, 1, 2, 3, 4, 5, 6, 1, 2, 3, 1, 2, 3, 4, 5, 6, 1, 2, 1, 1, 2, 1, 2, 3, 4, 5, 6, 1, 2, 3, 4, 5, 6, 1, 2, 3, 4, 5, 6, 1, 2, 3, 4, 5, 6, 1, 2, 3, 4, 5, 6, 1, 2, 1, 2, 1, 2, 1, 2, 3, 4, 5, 6, 1, 2, 3, 4, 1], \"Freq\": [0.48143914341926575, 0.48143914341926575, 0.6968426704406738, 0.3484213352203369, 0.5865277647972107, 0.20225095748901367, 0.10112547874450684, 0.08090038597583771, 0.040450192987918854, 0.020225096493959427, 0.6341173648834229, 0.34323036670684814, 0.22882024943828583, 0.22882024943828583, 0.11441012471914291, 0.3550081253051758, 0.3550081253051758, 0.6676052212715149, 0.5581976175308228, 0.2790988087654114, 0.5330865979194641, 0.19503167271614075, 0.11701900511980057, 0.09101478010416031, 0.03900633379817009, 0.013002111576497555, 0.4057309031486511, 0.2538784146308899, 0.13998901844024658, 0.11863476783037186, 0.0688081681728363, 0.01423617172986269, 0.4569782614707947, 0.21472471952438354, 0.12663252651691437, 0.10460948199033737, 0.07708066701889038, 0.016517287120223045, 0.6912979483604431, 0.5754901766777039, 0.5528032779693604, 0.22112129628658295, 0.05528032407164574, 0.08292048424482346, 0.05528032407164574, 0.02764016203582287, 0.627917468547821, 0.4739524722099304, 0.2932979464530945, 0.09351528435945511, 0.07013646513223648, 0.05525903031229973, 0.01275208406150341, 0.5564485788345337, 0.27822428941726685, 0.5838225483894348, 0.1459556370973587, 0.1459556370973587, 0.6823827028274536, 0.5538367629051208, 0.20768877863883972, 0.0692295953631401, 0.0692295953631401, 0.0692295953631401, 0.6762588620185852, 0.6165362596511841, 0.42846396565437317, 0.24993731081485748, 0.10711599141359329, 0.1428213268518448, 0.0714106634259224, 0.29190167784690857, 0.5838033556938171, 0.5418882369995117, 0.27094411849975586, 0.04515735059976578, 0.04515735059976578, 0.04515735059976578, 0.6868439316749573, 0.529534637928009, 0.8232765197753906, 0.44282272458076477, 0.291860431432724, 0.13586606085300446, 0.07548114657402039, 0.04025660827755928, 0.015096228569746017, 0.43897539377212524, 0.43897539377212524, 0.4700135886669159, 0.4700135886669159, 0.4855104684829712, 0.2872033715248108, 0.10941080749034882, 0.07521992921829224, 0.027352701872587204, 0.013676350936293602, 0.6961486339569092, 0.3781033158302307, 0.27307459712028503, 0.14704017341136932, 0.1260344386100769, 0.06301721930503845, 0.021005738526582718, 0.3004806935787201, 0.45072105526924133, 0.15024034678936005, 0.07512017339468002, 0.07512017339468002, 0.41244012117385864, 0.29460009932518005, 0.11784003674983978, 0.11784003674983978, 0.05892001837491989, 0.5006676912307739, 0.1668892353773117, 0.1668892353773117, 0.1668892353773117, 0.1668892353773117, 0.35480090975761414, 0.35480090975761414, 0.5741679668426514, 0.24607199430465698, 0.0820240005850792, 0.0820240005850792, 0.0820240005850792, 0.4110831618309021, 0.31765517592430115, 0.09342799335718155, 0.074742391705513, 0.09342799335718155, 0.01868559792637825, 0.45635101199150085, 0.45635101199150085, 0.39726853370666504, 0.24592813849449158, 0.13242284953594208, 0.1135052964091301, 0.07567019760608673, 0.018917549401521683, 0.28820890188217163, 0.480348140001297, 0.09606963396072388, 0.09606963396072388, 0.09606963396072388, 0.39241132140159607, 0.2802938222885132, 0.16817627847194672, 0.08408813923597336, 0.05605876073241234, 0.2935616075992584, 0.48926931619644165, 0.09785386919975281, 0.09785386919975281, 0.09785386919975281, 0.40642049908638, 0.32826271653175354, 0.07815779000520706, 0.12505245208740234, 0.04689467325806618, 0.015631556510925293, 0.45850467681884766, 0.45850467681884766, 0.35203105211257935, 0.44744130969047546, 0.08225024491548538, 0.05593016371130943, 0.04935014620423317, 0.013160038739442825, 0.2749835252761841, 0.41247525811195374, 0.13749176263809204, 0.13749176263809204, 0.7023855447769165, 0.33951494097709656, 0.33951494097709656, 0.5386751294136047, 0.6206775307655334, 0.32249510288238525, 0.4146365821361542, 0.11517682671546936, 0.0691060945391655, 0.0691060945391655, 0.023035366088151932, 0.40019306540489197, 0.35850629210472107, 0.0833735540509224, 0.0750361979007721, 0.0666988417506218, 0.01667471043765545, 0.4177488088607788, 0.30471089482307434, 0.11303791403770447, 0.09829383343458176, 0.04914691671729088, 0.014744075015187263, 0.2779640257358551, 0.2779640257358551, 0.2779640257358551, 0.2779640257358551, 0.6851567029953003, 0.39005813002586365, 0.39005813002586365, 0.2600387632846832, 0.5219848155975342, 0.19958242774009705, 0.1535249501466751, 0.061409980058670044, 0.04605748504400253, 0.015352495014667511, 0.5801697969436646, 0.5801697969436646, 0.3737852871417999, 0.305824339389801, 0.10194144397974014, 0.10194144397974014, 0.10194144397974014, 0.6797381639480591, 0.3384109437465668, 0.3384109437465668, 0.0846027359366417, 0.0846027359366417, 0.0846027359366417, 0.6744818687438965, 0.4955160319805145, 0.24775801599025726, 0.24775801599025726, 0.33295735716819763, 0.33295735716819763, 0.45972195267677307, 0.45972195267677307, 0.4380129873752594, 0.3047046959400177, 0.12061227858066559, 0.06348014622926712, 0.05713212862610817, 0.019044043496251106, 0.43086907267570496, 0.2667284607887268, 0.12310545146465302, 0.08207029849290848, 0.08890949189662933, 0.013678383082151413, 0.4035384953022003, 0.2852599620819092, 0.11827851831912994, 0.11132096499204636, 0.06957560032606125, 0.013915120624005795, 0.5519359707832336, 0.23654398322105408, 0.07884799689054489, 0.07884799689054489, 0.07884799689054489, 0.7105434536933899, 0.6713932752609253, 0.3370819389820099, 0.37079015374183655, 0.12257525324821472, 0.09806020557880402, 0.05822324752807617, 0.012257525697350502, 0.30530428886413574, 0.4227290153503418, 0.14090967178344727, 0.09393978118896484, 0.04696989059448242, 0.02348494529724121, 0.4383561313152313, 0.264009952545166, 0.12453299015760422, 0.11457034945487976, 0.04981319606304169, 0.009962639771401882, 0.3700190484523773, 0.3014970123767853, 0.13704408705234528, 0.1233396828174591, 0.05481763929128647, 0.013704409822821617, 0.5188978314399719, 0.25944891571998596, 0.5299450755119324, 0.2649725377559662, 0.6767837405204773, 0.344103068113327, 0.4424182176589966, 0.09831515699625015, 0.09831515699625015, 0.049157578498125076, 0.5470569729804993, 0.19754835963249207, 0.10637219250202179, 0.09117616713047028, 0.04558808356523514, 0.015196028165519238, 0.2294999361038208, 0.2294999361038208, 0.2294999361038208, 0.2294999361038208, 0.26526015996932983, 0.5305203199386597, 0.5417920351028442, 0.25457698106765747, 0.07397963851690292, 0.07833138108253479, 0.04134156182408333, 0.013055229559540749, 0.454102486371994, 0.220564067363739, 0.16866664588451385, 0.09082049876451492, 0.051897428929805756, 0.012974357232451439, 0.326189249753952, 0.39867573976516724, 0.10659779608249664, 0.11086170375347137, 0.0426391176879406, 0.01492369081825018, 0.6635932326316833, 0.3143472671508789, 0.47152087092399597, 0.07858681678771973, 0.07858681678771973, 0.07858681678771973, 0.3333444893360138, 0.29167643189430237, 0.1666722446680069, 0.12500418722629547, 0.06250209361314774, 0.020834030583500862, 0.3346894681453705, 0.2994590103626251, 0.16294093430042267, 0.114499032497406, 0.07046094536781311, 0.013211426325142384, 0.44489651918411255, 0.2818810045719147, 0.12226163595914841, 0.07811160385608673, 0.0577346608042717, 0.010188469663262367, 0.3651503324508667, 0.3651503324508667, 0.18257516622543335, 0.18257516622543335, 0.573020875453949, 0.573020875453949, 0.3830888867378235, 0.36690205335617065, 0.10251674801111221, 0.08093427121639252, 0.05395618453621864, 0.016186855733394623, 0.39306747913360596, 0.39306747913360596, 0.08933351188898087, 0.07146681100130081, 0.035733405500650406, 0.017866702750325203, 0.35177600383758545, 0.33223289251327515, 0.12214444577693939, 0.10260133445262909, 0.07328666746616364, 0.019543111324310303, 0.3181089460849762, 0.3470279276371002, 0.1735139638185501, 0.08675698190927505, 0.057837989181280136, 0.46680426597595215, 0.20746856927871704, 0.15560142695903778, 0.10373428463935852, 0.05186714231967926, 0.017289046198129654, 0.476642370223999, 0.27355125546455383, 0.12434148788452148, 0.06217074394226074, 0.049736592918634415, 0.01657886430621147, 0.6930714845657349, 0.34653574228286743, 0.33020785450935364, 0.33020785450935364, 0.13208313286304474, 0.06604156643152237, 0.06604156643152237, 0.5720855593681335, 0.5720855593681335, 0.3367055654525757, 0.31116238236427307, 0.13932643830776215, 0.11610537022352219, 0.08127375692129135, 0.01393264438956976, 0.3374917209148407, 0.3374917209148407, 0.3979930281639099, 0.23879581689834595, 0.07959860563278198, 0.15919721126556396, 0.07959860563278198, 0.4701414108276367, 0.22541026771068573, 0.10948498547077179, 0.11592528223991394, 0.06440293043851852, 0.019320879131555557, 0.6743320226669312, 0.6295091509819031, 0.6413261890411377, 0.32314544916152954, 0.39000314474105835, 0.1225724145770073, 0.08914357423782349, 0.05571473389863968, 0.011142946779727936, 0.5313921570777893, 0.2517120838165283, 0.08390402793884277, 0.08390402793884277, 0.02796800807118416, 0.34735673666000366, 0.39697912335395813, 0.09924478083848953, 0.08270398527383804, 0.06616318225860596, 0.01654079556465149, 0.4306025505065918, 0.4306025505065918, 0.415586918592453, 0.3562173545360565, 0.10389672964811325, 0.06679075211286545, 0.051948364824056625, 0.007421195041388273, 0.5092898011207581, 0.25464490056037903, 0.33120596408843994, 0.33120596408843994, 0.08280149102210999, 0.16560298204421997, 0.08280149102210999, 0.3366021513938904, 0.3366021513938904, 0.592755138874054, 0.19758504629135132, 0.4188639521598816, 0.2879689633846283, 0.1570739895105362, 0.07330119609832764, 0.0523579940199852, 0.01047159917652607, 0.37928512692451477, 0.32093358039855957, 0.11670311540365219, 0.131291002035141, 0.043763671070337296, 0.014587889425456524, 0.4708898365497589, 0.24721716344356537, 0.14421001076698303, 0.08534878492355347, 0.041202861815690994, 0.011772246100008488, 0.39581534266471863, 0.355069637298584, 0.09313301742076874, 0.08440180122852325, 0.06111854314804077, 0.011641627177596092, 0.5063408613204956, 0.28526246547698975, 0.09271030128002167, 0.07131561636924744, 0.04278936982154846, 0.014263123273849487, 0.27651840448379517, 0.46086403727531433, 0.09217280894517899, 0.09217280894517899, 0.7294684648513794, 0.6761033535003662, 0.452006995677948, 0.226003497838974, 0.226003497838974, 0.4175989031791687, 0.2797507047653198, 0.14190253615379333, 0.08108716458082199, 0.06486973166465759, 0.012163074687123299, 0.43329232931137085, 0.28557902574539185, 0.12801818549633026, 0.07878042012453079, 0.06400909274816513, 0.01477132923901081, 0.4342231750488281, 0.3389059007167816, 0.0635448545217514, 0.08737417310476303, 0.06089715287089348, 0.013238511048257351, 0.6964303255081177, 0.6936267614364624, 0.3890848755836487, 0.3890848755836487, 0.09391703456640244, 0.08050031960010529, 0.04025015980005264, 0.013416719622910023, 0.6254730820655823, 0.7089987397193909, 0.35449936985969543, 0.37803539633750916, 0.28908589482307434, 0.15566162765026093, 0.10377442091703415, 0.05929967015981674, 0.014824917539954185, 0.7126405835151672, 0.562859296798706, 0.562859296798706, 0.5772793889045715, 0.5772793889045715, 0.6369296908378601, 0.6622130870819092, 0.567899227142334, 0.567899227142334, 0.47368520498275757, 0.47368520498275757, 0.20132718980312347, 0.40265437960624695, 0.20132718980312347, 0.6368046998977661, 0.6289570927619934, 0.32621294260025024, 0.32621294260025024, 0.09320370107889175, 0.13980554044246674, 0.09320370107889175, 0.5504456162452698, 0.2201782464981079, 0.11008912324905396, 0.11008912324905396, 0.6760863065719604, 0.36403095722198486, 0.34785181283950806, 0.12538844347000122, 0.08696295320987701, 0.06269422173500061, 0.012134365737438202, 0.37336108088493347, 0.37336108088493347, 0.5549944639205933, 0.5549944639205933, 0.44427216053009033, 0.2665632963180542, 0.11424140632152557, 0.12058815360069275, 0.04442721605300903, 0.012693489901721478, 0.4467076063156128, 0.295896053314209, 0.10690438747406006, 0.0878143161535263, 0.05249768868088722, 0.01049953792244196, 0.7081533670425415, 0.6367921829223633, 0.6959105730056763, 0.35456785559654236, 0.26592588424682617, 0.08864196389913559, 0.08864196389913559, 0.08864196389913559, 0.6307939291000366, 0.4450969696044922, 0.2140972763299942, 0.14648760855197906, 0.09578036516904831, 0.07887794822454453, 0.016902416944503784, 0.6334378719329834, 0.578639566898346, 0.19287985563278198, 0.08266279101371765, 0.08266279101371765, 0.05510852858424187, 0.45559197664260864, 0.2420332282781601, 0.12813523411750793, 0.07118624448776245, 0.08542349189519882, 0.01423724927008152, 0.6830323338508606, 0.40546509623527527, 0.25904715061187744, 0.13515503704547882, 0.12389211356639862, 0.05631459876894951, 0.022525839507579803, 0.34508079290390015, 0.34508079290390015, 0.17254039645195007, 0.44938865303993225, 0.22123749554157257, 0.15210077166557312, 0.09679140150547028, 0.06222304329276085, 0.013827343471348286, 0.4822694957256317, 0.29579195380210876, 0.09002363681793213, 0.07716311514377594, 0.03858155757188797, 0.01286051981151104, 0.7027743458747864, 0.3513871729373932, 0.40802037715911865, 0.2596493363380432, 0.11127828061580658, 0.14837104082107544, 0.07418552041053772, 0.5189654231071472, 0.22563713788986206, 0.09025485068559647, 0.09025485068559647, 0.056409284472465515, 0.011281856335699558, 0.40771734714508057, 0.31021973490715027, 0.1329513043165207, 0.07977078855037689, 0.053180523216724396, 0.017726842314004898, 0.47598522901535034, 0.21079346537590027, 0.108796626329422, 0.12919598817825317, 0.06799788773059845, 0.01359957829117775, 0.531928539276123, 0.2659642696380615, 0.37486889958381653, 0.38986366987228394, 0.10496329516172409, 0.06747640669345856, 0.04498426988720894, 0.014994756318628788, 0.4094165861606598, 0.22517912089824677, 0.16376663744449615, 0.10235414654016495, 0.08188331872224808, 0.02047082968056202, 0.36874115467071533, 0.36874115467071533, 0.4447299838066101, 0.2779562473297119, 0.11118249595165253, 0.09728468209505081, 0.05559124797582626, 0.013897811993956566, 0.38888517022132874, 0.3356132209300995, 0.1065438836812973, 0.0852351039648056, 0.0639263316988945, 0.0106543879956007, 0.31270232796669006, 0.37524279952049255, 0.18762139976024628, 0.06254047155380249, 0.06254047155380249, 0.6874510645866394, 0.456447958946228, 0.30817505717277527, 0.13082903623580933, 0.05523892492055893, 0.0377950519323349, 0.011629247106611729, 0.38384270668029785, 0.25189676880836487, 0.1679311841726303, 0.11995083838701248, 0.05997541919350624, 0.011995084583759308, 0.4720255732536316, 0.18881022930145264, 0.14160767197608948, 0.09440511465072632, 0.0786709263920784, 0.01573418639600277, 0.3992581367492676, 0.285184383392334, 0.1140737533569336, 0.1140737533569336, 0.0570368766784668, 0.45093777775764465, 0.45093777775764465, 0.4061588644981384, 0.28558045625686646, 0.13327087461948395, 0.1078859493136406, 0.0507698580622673, 0.012692464515566826, 0.46239471435546875, 0.24170632660388947, 0.1050897017121315, 0.1050897017121315, 0.07356279343366623, 0.010508970357477665, 0.553260087966919, 0.21023882925510406, 0.09958680719137192, 0.055326007306575775, 0.06639120727777481, 0.01106520090252161, 0.68197101354599, 0.46228891611099243, 0.31286218762397766, 0.09339170157909393, 0.07938294112682343, 0.04202626645565033, 0.01400875486433506, 0.6699163317680359, 0.6360605955123901, 0.3843264877796173, 0.2918034493923187, 0.12810882925987244, 0.09252304583787918, 0.0782887265086174, 0.014234314672648907, 0.42524632811546326, 0.30291518568992615, 0.11068055033683777, 0.1048552617430687, 0.03495175391435623, 0.017475876957178116, 0.5703086853027344, 0.5703086853027344, 0.4433146119117737, 0.27300164103507996, 0.11521170288324356, 0.09267028421163559, 0.0626150593161583, 0.015027613379061222, 0.5823959112167358, 0.6707229614257812, 0.702130913734436, 0.36172208189964294, 0.36925795674324036, 0.10550227016210556, 0.10173433274030685, 0.04521526023745537, 0.015071753412485123, 0.4178505539894104, 0.3070949912071228, 0.09565254300832748, 0.10572122782468796, 0.06041213124990463, 0.010068688541650772, 0.6340394616127014, 0.3816849887371063, 0.2799023389816284, 0.11450549960136414, 0.12722833454608917, 0.06361416727304459, 0.012722833082079887, 0.6840259432792664, 0.590549647808075, 0.17369107902050018, 0.10421464592218399, 0.06947643309831619, 0.034738216549158096, 0.349165678024292, 0.349165678024292, 0.3931669592857361, 0.3931669592857361, 0.19658347964286804, 0.19658347964286804, 0.6937001943588257, 0.39711862802505493, 0.3553166687488556, 0.08360391855239868, 0.10450489819049835, 0.06270293891429901, 0.02090097963809967, 0.39712801575660706, 0.23827680945396423, 0.15885120630264282, 0.07942560315132141, 0.07942560315132141, 0.4767366945743561, 0.27482467889785767, 0.11217334121465683, 0.08413000404834747, 0.03365200012922287, 0.016826000064611435, 0.6804601550102234, 0.35872185230255127, 0.30680158734321594, 0.15104077756404877, 0.09912051260471344, 0.07080036401748657, 0.01416007336229086, 0.5149306654930115, 0.21455444395542145, 0.10012540966272354, 0.09297359734773636, 0.05721452087163925, 0.014303630217909813, 0.40624314546585083, 0.2849765419960022, 0.12126661092042923, 0.11520328372716904, 0.060633305460214615, 0.018189990893006325, 0.5131750702857971, 0.27084240317344666, 0.08552917838096619, 0.07127431780099869, 0.04276458919048309, 0.007127431686967611, 0.34989699721336365, 0.413514643907547, 0.06361763924360275, 0.06361763924360275, 0.06361763924360275, 0.4438575506210327, 0.28273117542266846, 0.09120360761880875, 0.11856468766927719, 0.05168204382061958, 0.012160480953752995, 0.43582573533058167, 0.43582573533058167, 0.43786194920539856, 0.43786194920539856, 0.3761430084705353, 0.36420196294784546, 0.11941047757863998, 0.08358733355998993, 0.035823144018650055, 0.011941048316657543, 0.4515509605407715, 0.19755354523658752, 0.10348042845726013, 0.1411096751689911, 0.08466580510139465, 0.01881462335586548, 0.726284384727478, 0.7332100868225098, 0.4204065501689911, 0.3130687177181244, 0.07155855745077133, 0.0983930230140686, 0.07155855745077133, 0.017889639362692833, 0.4994215965270996, 0.4994215965270996, 0.5618228316307068, 0.5618228316307068, 0.6398195624351501, 0.4488675892353058, 0.4488675892353058, 0.4479004144668579, 0.4479004144668579, 0.4028630554676056, 0.369976282119751, 0.10688203573226929, 0.06577356159687042, 0.03288678079843521, 0.008221695199608803, 0.6651646494865417, 0.5869216322898865, 0.3968367576599121, 0.3621135652065277, 0.12401148676872253, 0.06448597460985184, 0.04464413598179817, 0.009920919314026833, 0.37891072034835815, 0.3932410180568695, 0.3705540597438812, 0.0756232738494873, 0.09831025451421738, 0.04537396505475044, 0.015124655328691006, 0.4502961039543152, 0.23622091114521027, 0.14025616645812988, 0.09596474468708038, 0.059055227786302567, 0.02214571088552475, 0.3301314413547516, 0.29711827635765076, 0.1650657206773758, 0.1650657206773758, 0.06602628529071808, 0.03301314264535904, 0.39819514751434326, 0.38125067949295044, 0.0847223699092865, 0.07625013589859009, 0.04236118495464325, 0.01694447360932827, 0.38552403450012207, 0.375885933637619, 0.10601910948753357, 0.05782860517501831, 0.04819050431251526, 0.019276201725006104, 0.4822252690792084, 0.2634182274341583, 0.1168387234210968, 0.07860059291124344, 0.0467354878783226, 0.010621702298521996, 0.6868494749069214, 0.19738635420799255, 0.5921590328216553, 0.19738635420799255, 0.46261781454086304, 0.24415940046310425, 0.10280396044254303, 0.12207970023155212, 0.05782722681760788, 0.012850495055317879, 0.43104344606399536, 0.26189982891082764, 0.12003742158412933, 0.08729994297027588, 0.08457181602716446, 0.013640616089105606, 0.7184835076332092, 0.3592417538166046, 0.39644256234169006, 0.2936611473560333, 0.11746446043252945, 0.10278140753507614, 0.07341528683900833, 0.014683057554066181, 0.6688652634620667, 0.51639324426651, 0.2648170292377472, 0.07944510877132416, 0.07944510877132416, 0.05296340584754944, 0.01324085146188736, 0.6524921655654907, 0.3991193473339081, 0.21770146489143372, 0.1451343148946762, 0.1451343148946762, 0.10885073244571686, 0.42777466773986816, 0.21388733386993408, 0.21388733386993408, 0.21388733386993408, 0.5698822736740112, 0.5698822736740112, 0.49027544260025024, 0.22879520058631897, 0.12256886065006256, 0.0735413134098053, 0.0735413134098053, 0.016342515125870705, 0.39209091663360596, 0.2520584464073181, 0.15870347619056702, 0.12136147916316986, 0.05601298809051514, 0.009335498325526714, 0.39521101117134094, 0.2704075276851654, 0.12480347603559494, 0.10400289297103882, 0.0832023173570633, 0.020800579339265823, 0.45559895038604736, 0.45559895038604736, 0.45559895038604736, 0.3612770140171051, 0.3266339898109436, 0.1286740005016327, 0.09898000210523605, 0.06433700025081635, 0.014847000129520893, 0.37398090958595276, 0.40797919034957886, 0.06799653172492981, 0.06799653172492981, 0.033998265862464905, 0.3711791932582855, 0.3028040826320648, 0.14651811122894287, 0.10744661092758179, 0.05860724300146103, 0.014651810750365257, 0.46015867590904236, 0.43872377276420593, 0.25998446345329285, 0.13540858030319214, 0.0920778289437294, 0.06499611586332321, 0.016249028965830803, 0.48439329862594604, 0.2583431005477905, 0.11994500458240509, 0.07381231337785721, 0.05074596405029297, 0.009226539172232151, 0.4325461685657501, 0.21627308428287506, 0.157289519906044, 0.09830594807863235, 0.05898356810212135, 0.0196611899882555, 0.3692731261253357, 0.3077276051044464, 0.12309104204177856, 0.12309104204177856, 0.06154552102088928, 0.02051517367362976, 0.40139931440353394, 0.29514655470848083, 0.11805862188339233, 0.08264103531837463, 0.09444689750671387, 0.011805862188339233, 0.5565423965454102, 0.1712438017129898, 0.0856219008564949, 0.12843285501003265, 0.04281095042824745, 0.5388100743293762, 0.19731073081493378, 0.09865536540746689, 0.09865536540746689, 0.05312211811542511, 0.015177748166024685, 0.5103837251663208, 0.19443190097808838, 0.12151993811130524, 0.08506395667791367, 0.08506395667791367, 0.012151993811130524, 0.25973978638648987, 0.25973978638648987, 0.25973978638648987, 0.4631505012512207, 0.4631505012512207, 0.5610001087188721, 0.28050005435943604, 0.46215376257896423, 0.21748413145542145, 0.14498941600322723, 0.09061838686466217, 0.06343287229537964, 0.018123677000403404, 0.6950691342353821, 0.3598170578479767, 0.3878267705440521, 0.11203884333372116, 0.07971994578838348, 0.04740104824304581, 0.012927558273077011, 0.4127937853336334, 0.4127937853336334, 0.4127937853336334, 0.5043002367019653, 0.25215011835098267, 0.25215011835098267, 0.44821298122406006, 0.44821298122406006, 0.5062678456306458, 0.28804895281791687, 0.08728756010532379, 0.06110129505395889, 0.043643780052661896, 0.008728756569325924, 0.6798853874206543, 0.4374188482761383, 0.2691808342933655, 0.13459041714668274, 0.06729520857334137, 0.10094280540943146, 0.32874491810798645, 0.32874491810798645, 0.32874491810798645, 0.303004652261734, 0.4040062129497528, 0.1010015532374382, 0.1010015532374382, 0.4235299825668335, 0.22805461287498474, 0.13031691312789917, 0.13031691312789917, 0.03257922828197479, 0.03257922828197479, 0.29693907499313354, 0.3365309536457062, 0.17816345393657684, 0.09897969663143158, 0.05938781797885895, 0.019795939326286316, 0.48212265968322754, 0.20515857636928558, 0.10257928818464279, 0.1333530694246292, 0.07180549949407578, 0.010257928632199764, 0.4603259563446045, 0.255180686712265, 0.11508148908615112, 0.10007085651159286, 0.055038973689079285, 0.01501062884926796, 0.5215356349945068, 0.2289668619632721, 0.1017630472779274, 0.0763222873210907, 0.06360190361738205, 0.012720380909740925, 0.6698814034461975, 0.32864171266555786, 0.4929625689983368, 0.16432085633277893, 0.468778520822525, 0.468778520822525, 0.38045960664749146, 0.19022980332374573, 0.19022980332374573, 0.5562371015548706, 0.43796223402023315, 0.26277732849121094, 0.08759244531393051, 0.08759244531393051, 0.08759244531393051, 0.37586989998817444, 0.18793494999408722, 0.18793494999408722, 0.425896555185318, 0.14196552336215973, 0.14196552336215973, 0.14196552336215973, 0.14196552336215973, 0.38592424988746643, 0.31241485476493835, 0.12864141166210175, 0.11026407033205032, 0.05513203516602516, 0.01837734505534172, 0.4751315116882324, 0.2829434871673584, 0.10143256932497025, 0.08541689813137054, 0.048047006130218506, 0.010677112266421318, 0.3410624861717224, 0.3141365051269531, 0.12565459311008453, 0.12565459311008453, 0.07180263102054596, 0.01795065775513649, 0.4632173776626587, 0.23160868883132935, 0.3777588903903961, 0.32179462909698486, 0.11192856729030609, 0.09793749451637268, 0.08394642174243927, 0.013991070911288261, 0.44962117075920105, 0.2497895359992981, 0.09991581737995148, 0.14987371861934662, 0.04995790868997574, 0.4167637526988983, 0.35792651772499084, 0.0866214856505394, 0.06047160550951958, 0.06864344328641891, 0.008171838708221912, 0.46507853269577026, 0.29482656717300415, 0.09965968132019043, 0.07474476099014282, 0.049829840660095215, 0.01660994626581669, 0.5476260185241699, 0.3940599262714386, 0.29554492235183716, 0.14777246117591858, 0.09235779196023941, 0.055414676666259766, 0.012314372695982456, 0.42284125089645386, 0.42284125089645386, 0.42284125089645386, 0.6257097721099854, 0.5123498439788818, 0.2424020767211914, 0.09916448593139648, 0.08814620971679688, 0.04407310485839844, 0.01101827621459961, 0.37104570865631104, 0.39007368683815, 0.10465391725301743, 0.06659794598817825, 0.05708395317196846, 0.009513992816209793, 0.4497818052768707, 0.3102772831916809, 0.1034257635474205, 0.06494175642728806, 0.05772600695490837, 0.014431501738727093, 0.42171454429626465, 0.2793174088001251, 0.1697811782360077, 0.06572174280881882, 0.04929130896925926, 0.016430435702204704, 0.37560704350471497, 0.3455584943294525, 0.12019425630569458, 0.06009712815284729, 0.08263354748487473, 0.007512141019105911, 0.41635748744010925, 0.2602234184741974, 0.10408937186002731, 0.10408937186002731, 0.07806702703237534, 0.02602234296500683, 0.8234865665435791, 0.6748694777488708, 0.7039648294448853, 0.3659563958644867, 0.3659563958644867, 0.5695074200630188, 0.21904131770133972, 0.08761652559041977, 0.08761652559041977, 0.043808262795209885, 0.4251745641231537, 0.4251745641231537, 0.3786863684654236, 0.41024357080459595, 0.0946715921163559, 0.06311439722776413, 0.031557198613882065, 0.4562375843524933, 0.4562375843524933, 0.46155768632888794, 0.23077884316444397, 0.23077884316444397, 0.6293689012527466, 0.20978963375091553, 0.45062699913978577, 0.30496978759765625, 0.09558754414319992, 0.09103576093912125, 0.04551788046956062, 0.009103575721383095, 0.4268083870410919, 0.4268083870410919, 0.4268083870410919, 0.43903765082359314, 0.43903765082359314, 0.4496094882488251, 0.26515430212020874, 0.10375603288412094, 0.10952025651931763, 0.05187801644206047, 0.017292672768235207, 0.46111953258514404, 0.46111953258514404, 0.30360549688339233, 0.32258084416389465, 0.1897534430027008, 0.11385206133127213, 0.05692603066563606, 0.01897534355521202, 0.3550345301628113, 0.34763798117637634, 0.13313794136047363, 0.08875863254070282, 0.051775868982076645, 0.01479310542345047, 0.31552594900131226, 0.420701265335083, 0.10517531633377075, 0.10517531633377075, 0.43183061480522156, 0.22861620783805847, 0.1778126060962677, 0.10160720348358154, 0.05080360174179077, 0.025401800870895386, 0.34201258420944214, 0.34201258420944214, 0.388034850358963, 0.2859204113483429, 0.14296020567417145, 0.08169154077768326, 0.08169154077768326, 0.020422885194420815, 0.3484819531440735, 0.3484819531440735, 0.3484819531440735, 0.47821754217147827, 0.31639644503593445, 0.0676267221570015, 0.08936388790607452, 0.04105908051133156, 0.009660960175096989, 0.4968445301055908, 0.33122968673706055, 0.6969301700592041, 0.2728743553161621, 0.5457487106323242, 0.5146404504776001, 0.2544289827346802, 0.08673714846372604, 0.08673714846372604, 0.052042290568351746, 0.0057824766263365746, 0.36155280470848083, 0.30731987953186035, 0.12654347717761993, 0.12654347717761993, 0.054232917726039886, 0.018077639862895012, 0.34400027990341187, 0.33233925700187683, 0.139932319521904, 0.11661026626825333, 0.04664410650730133, 0.017491539940238, 0.403861403465271, 0.27432096004486084, 0.12954044342041016, 0.10668037086725235, 0.06858024001121521, 0.015240052714943886, 0.4739048182964325, 0.19873428344726562, 0.16815978288650513, 0.07643625885248184, 0.06114900857210159, 0.015287252143025398, 0.5732006430625916, 0.5732006430625916, 0.43140676617622375, 0.43140676617622375, 0.5464959144592285, 0.5756666660308838, 0.47722411155700684, 0.27073290944099426, 0.09636256098747253, 0.08718517422676086, 0.059653013944625854, 0.00917738676071167, 0.5428617000579834, 0.18095390498638153, 0.09047695249319077, 0.09047695249319077, 0.7094032168388367], \"Term\": [\"abitudine\", \"abitudine\", \"acorse\", \"acorse\", \"acqua\", \"acqua\", \"acqua\", \"acqua\", \"acqua\", \"acqua\", \"adjutoriura\", \"affollare\", \"affollare\", \"affollare\", \"affollare\", \"ahim\\u00e8\", \"ahim\\u00e8\", \"ais\\u00ecou\", \"albo\", \"albo\", \"allora\", \"allora\", \"allora\", \"allora\", \"allora\", \"allora\", \"altro\", \"altro\", \"altro\", \"altro\", \"altro\", \"altro\", \"americano\", \"americano\", \"americano\", \"americano\", \"americano\", \"americano\", \"ammos\", \"amnon\", \"anarchico\", \"anarchico\", \"anarchico\", \"anarchico\", \"anarchico\", \"anarchico\", \"animazione\", \"anno\", \"anno\", \"anno\", \"anno\", \"anno\", \"anno\", \"antleewltch\", \"antleewltch\", \"apparenza\", \"apparenza\", \"apparenza\", \"appeso\", \"arrestare\", \"arrestare\", \"arrestare\", \"arrestare\", \"arrestare\", \"aseaaalnamno\", \"asilica\", \"asserire\", \"asserire\", \"asserire\", \"asserire\", \"asserire\", \"assistette\", \"assistette\", \"attitudine\", \"attitudine\", \"attitudine\", \"attitudine\", \"attitudine\", \"aumine\", \"aureola\", \"available\", \"avere\", \"avere\", \"avere\", \"avere\", \"avere\", \"avere\", \"avigazione\", \"avigazione\", \"avvelenamento\", \"avvelenamento\", \"avvenire\", \"avvenire\", \"avvenire\", \"avvenire\", \"avvenire\", \"avvenire\", \"avvitenti\", \"azione\", \"azione\", \"azione\", \"azione\", \"azione\", \"azione\", \"basilico\", \"basilico\", \"basilico\", \"basilico\", \"basilico\", \"bologna\", \"bologna\", \"bologna\", \"bologna\", \"bologna\", \"borghesia\", \"borghesia\", \"borghesia\", \"borghesia\", \"borghesia\", \"borioso\", \"borioso\", \"bracciante\", \"bracciante\", \"bracciante\", \"bracciante\", \"bracciante\", \"breve\", \"breve\", \"breve\", \"breve\", \"breve\", \"breve\", \"bristow\", \"bristow\", \"cadere\", \"cadere\", \"cadere\", \"cadere\", \"cadere\", \"cadere\", \"camerlengo\", \"camerlengo\", \"camerlengo\", \"camerlengo\", \"camerlengo\", \"campagna\", \"campagna\", \"campagna\", \"campagna\", \"campagna\", \"candidato\", \"candidato\", \"candidato\", \"candidato\", \"candidato\", \"capitale\", \"capitale\", \"capitale\", \"capitale\", \"capitale\", \"capitale\", \"capitalismo\", \"capitalismo\", \"cardinale\", \"cardinale\", \"cardinale\", \"cardinale\", \"cardinale\", \"cardinale\", \"cardinalizio\", \"cardinalizio\", \"cardinalizio\", \"cardinalizio\", \"cariatide\", \"cassel\", \"cassel\", \"cation\", \"cenn\\u00f2\", \"cerimonia\", \"cerimonia\", \"cerimonia\", \"cerimonia\", \"cerimonia\", \"cerimonia\", \"chiesa\", \"chiesa\", \"chiesa\", \"chiesa\", \"chiesa\", \"chiesa\", \"citt\\u00e0\", \"citt\\u00e0\", \"citt\\u00e0\", \"citt\\u00e0\", \"citt\\u00e0\", \"citt\\u00e0\", \"colombo\", \"colombo\", \"colombo\", \"colombo\", \"comotes\", \"comparso\", \"comparso\", \"comparso\", \"comune\", \"comune\", \"comune\", \"comune\", \"comune\", \"comune\", \"concistorio\", \"concistorio\", \"confermare\", \"confermare\", \"confermare\", \"confermare\", \"confermare\", \"confon\", \"confortare\", \"confortare\", \"confortare\", \"confortare\", \"confortare\", \"convulsione\", \"coole\", \"coole\", \"coole\", \"corridoio\", \"corridoio\", \"corrodere\", \"corrodere\", \"cosa\", \"cosa\", \"cosa\", \"cosa\", \"cosa\", \"cosa\", \"cosi\", \"cosi\", \"cosi\", \"cosi\", \"cosi\", \"cosi\", \"costare\", \"costare\", \"costare\", \"costare\", \"costare\", \"costare\", \"costituito\", \"costituito\", \"costituito\", \"costituito\", \"costituito\", \"cronista\", \"dagnarne\", \"daily\", \"daily\", \"daily\", \"daily\", \"daily\", \"daily\", \"danno\", \"danno\", \"danno\", \"danno\", \"danno\", \"danno\", \"dare\", \"dare\", \"dare\", \"dare\", \"dare\", \"dare\", \"dato\", \"dato\", \"dato\", \"dato\", \"dato\", \"dato\", \"deale\", \"deale\", \"deliquio\", \"deliquio\", \"deploralo\", \"diamond\", \"diamond\", \"diamond\", \"diamond\", \"diamond\", \"difeso\", \"difeso\", \"difeso\", \"difeso\", \"difeso\", \"difeso\", \"dino\", \"dino\", \"dino\", \"dino\", \"diramare\", \"diramare\", \"dire\", \"dire\", \"dire\", \"dire\", \"dire\", \"dire\", \"diro\", \"diro\", \"diro\", \"diro\", \"diro\", \"diro\", \"dispaccio\", \"dispaccio\", \"dispaccio\", \"dispaccio\", \"dispaccio\", \"dispaccio\", \"divinamente\", \"doganale\", \"doganale\", \"doganale\", \"doganale\", \"doganale\", \"domandare\", \"domandare\", \"domandare\", \"domandare\", \"domandare\", \"domandare\", \"dopo\", \"dopo\", \"dopo\", \"dopo\", \"dopo\", \"dopo\", \"dovere\", \"dovere\", \"dovere\", \"dovere\", \"dovere\", \"dovere\", \"duchessa\", \"duchessa\", \"duchessa\", \"duchessa\", \"durala\", \"durala\", \"durare\", \"durare\", \"durare\", \"durare\", \"durare\", \"durare\", \"edoardo\", \"edoardo\", \"edoardo\", \"edoardo\", \"edoardo\", \"edoardo\", \"egli\", \"egli\", \"egli\", \"egli\", \"egli\", \"egli\", \"eleggere\", \"eleggere\", \"eleggere\", \"eleggere\", \"eleggere\", \"emigrare\", \"emigrare\", \"emigrare\", \"emigrare\", \"emigrare\", \"emigrare\", \"essere\", \"essere\", \"essere\", \"essere\", \"essere\", \"essere\", \"ettolitri\", \"ettolitri\", \"evitare\", \"evitare\", \"evitare\", \"evitare\", \"evitare\", \"falcare\", \"falcare\", \"fare\", \"fare\", \"fare\", \"fare\", \"fare\", \"fare\", \"fascinare\", \"fascinare\", \"fiero\", \"fiero\", \"fiero\", \"fiero\", \"fiero\", \"fino\", \"fino\", \"fino\", \"fino\", \"fino\", \"fino\", \"fkanoisuo\", \"fkatellanhjl\", \"fnibr\", \"follare\", \"follare\", \"follare\", \"follare\", \"follare\", \"follare\", \"fondere\", \"fondere\", \"fondere\", \"fondere\", \"fondere\", \"formare\", \"formare\", \"formare\", \"formare\", \"formare\", \"formare\", \"francesca\", \"francesca\", \"francisco\", \"francisco\", \"francisco\", \"francisco\", \"francisco\", \"francisco\", \"fulminato\", \"fulminato\", \"funerale\", \"funerale\", \"funerale\", \"funerale\", \"funerale\", \"gabinet\", \"gabinet\", \"gallone\", \"gallone\", \"generale\", \"generale\", \"generale\", \"generale\", \"generale\", \"generale\", \"germania\", \"germania\", \"germania\", \"germania\", \"germania\", \"germania\", \"giornale\", \"giornale\", \"giornale\", \"giornale\", \"giornale\", \"giornale\", \"giorno\", \"giorno\", \"giorno\", \"giorno\", \"giorno\", \"giorno\", \"giugno\", \"giugno\", \"giugno\", \"giugno\", \"giugno\", \"giugno\", \"giurare\", \"giurare\", \"giurare\", \"giurare\", \"giusuzia\", \"gnoso\", \"gondola\", \"gondola\", \"gondola\", \"governare\", \"governare\", \"governare\", \"governare\", \"governare\", \"governare\", \"gran\", \"gran\", \"gran\", \"gran\", \"gran\", \"gran\", \"grande\", \"grande\", \"grande\", \"grande\", \"grande\", \"grande\", \"grauui\", \"griadlm\", \"guglielmo\", \"guglielmo\", \"guglielmo\", \"guglielmo\", \"guglielmo\", \"guglielmo\", \"hmki\", \"hong\", \"hong\", \"ieri\", \"ieri\", \"ieri\", \"ieri\", \"ieri\", \"ieri\", \"ietroburgo\", \"iiiifj\", \"iiiifj\", \"imbandierala\", \"imbandierala\", \"imelo\", \"imporne\", \"impressivit\\u00e0\", \"impressivit\\u00e0\", \"incessante\", \"incessante\", \"inginocchiare\", \"inginocchiare\", \"inginocchiare\", \"iniuon\\u00f2\", \"inonaignot\", \"internazionale\", \"internazionale\", \"internazionale\", \"internazionale\", \"internazionale\", \"inverno\", \"inverno\", \"inverno\", \"inverno\", \"irrisione\", \"italia\", \"italia\", \"italia\", \"italia\", \"italia\", \"italia\", \"italiak\", \"italiak\", \"italiamh\", \"italiamh\", \"italian\", \"italian\", \"italian\", \"italian\", \"italian\", \"italian\", \"italiano\", \"italiano\", \"italiano\", \"italiano\", \"italiano\", \"italiano\", \"itcrc\", \"itiin\", \"labaro\", \"ladro\", \"ladro\", \"ladro\", \"ladro\", \"ladro\", \"lard\\u00f2\", \"lavorare\", \"lavorare\", \"lavorare\", \"lavorare\", \"lavorare\", \"lavorare\", \"lelto\", \"lingua\", \"lingua\", \"lingua\", \"lingua\", \"lingua\", \"lira\", \"lira\", \"lira\", \"lira\", \"lira\", \"lira\", \"luin\\u00f9o\", \"lungo\", \"lungo\", \"lungo\", \"lungo\", \"lungo\", \"lungo\", \"luzzatti\", \"luzzatti\", \"luzzatti\", \"maggio\", \"maggio\", \"maggio\", \"maggio\", \"maggio\", \"maggio\", \"mano\", \"mano\", \"mano\", \"mano\", \"mano\", \"mano\", \"mantenersi\", \"mantenersi\", \"massa\", \"massa\", \"massa\", \"massa\", \"massa\", \"mattino\", \"mattino\", \"mattino\", \"mattino\", \"mattino\", \"mattino\", \"mentire\", \"mentire\", \"mentire\", \"mentire\", \"mentire\", \"mentire\", \"mentre\", \"mentre\", \"mentre\", \"mentre\", \"mentre\", \"mentre\", \"merejkowsky\", \"merejkowsky\", \"mettere\", \"mettere\", \"mettere\", \"mettere\", \"mettere\", \"mettere\", \"milano\", \"milano\", \"milano\", \"milano\", \"milano\", \"milano\", \"millilitro\", \"millilitro\", \"ministero\", \"ministero\", \"ministero\", \"ministero\", \"ministero\", \"ministero\", \"ministrare\", \"ministrare\", \"ministrare\", \"ministrare\", \"ministrare\", \"ministrare\", \"minuto\", \"minuto\", \"minuto\", \"minuto\", \"minuto\", \"molestatore\", \"molto\", \"molto\", \"molto\", \"molto\", \"molto\", \"molto\", \"mondare\", \"mondare\", \"mondare\", \"mondare\", \"mondare\", \"mondare\", \"montgomery\", \"montgomery\", \"montgomery\", \"montgomery\", \"montgomery\", \"montgomery\", \"monumento\", \"monumento\", \"monumento\", \"monumento\", \"monumento\", \"morandi\", \"morandi\", \"morto\", \"morto\", \"morto\", \"morto\", \"morto\", \"morto\", \"napoli\", \"napoli\", \"napoli\", \"napoli\", \"napoli\", \"napoli\", \"nazione\", \"nazione\", \"nazione\", \"nazione\", \"nazione\", \"nazione\", \"nlfni\", \"nome\", \"nome\", \"nome\", \"nome\", \"nome\", \"nome\", \"nonstante\", \"nostrum\", \"notizia\", \"notizia\", \"notizia\", \"notizia\", \"notizia\", \"notizia\", \"numerare\", \"numerare\", \"numerare\", \"numerare\", \"numerare\", \"numerare\", \"nunevo\", \"nunevo\", \"nuovo\", \"nuovo\", \"nuovo\", \"nuovo\", \"nuovo\", \"nuovo\", \"nviiuni\", \"odell\", \"oenoya\", \"oggi\", \"oggi\", \"oggi\", \"oggi\", \"oggi\", \"oggi\", \"ogni\", \"ogni\", \"ogni\", \"ogni\", \"ogni\", \"ogni\", \"oiorm\", \"oltre\", \"oltre\", \"oltre\", \"oltre\", \"oltre\", \"oltre\", \"ommnalk\", \"onesto\", \"onesto\", \"onesto\", \"onesto\", \"onesto\", \"orrendamente\", \"orrendamente\", \"ostacolo\", \"ostacolo\", \"ostacolo\", \"ostacolo\", \"ostro\", \"ottenere\", \"ottenere\", \"ottenere\", \"ottenere\", \"ottenere\", \"ottenere\", \"padrona\", \"padrona\", \"padrona\", \"padrona\", \"padrona\", \"paese\", \"paese\", \"paese\", \"paese\", \"paese\", \"paese\", \"paoluccl\", \"papa\", \"papa\", \"papa\", \"papa\", \"papa\", \"papa\", \"parere\", \"parere\", \"parere\", \"parere\", \"parere\", \"parere\", \"parigi\", \"parigi\", \"parigi\", \"parigi\", \"parigi\", \"parigi\", \"parlare\", \"parlare\", \"parlare\", \"parlare\", \"parlare\", \"parlare\", \"partenza\", \"partenza\", \"partenza\", \"partenza\", \"partenza\", \"partire\", \"partire\", \"partire\", \"partire\", \"partire\", \"partire\", \"passeggie\", \"passeggie\", \"passionale\", \"passionale\", \"patrio\", \"patrio\", \"patrio\", \"patrio\", \"patrio\", \"patrio\", \"patrizio\", \"patrizio\", \"patrizio\", \"patrizio\", \"patrizio\", \"patrizio\", \"patteggiare\", \"perrone\", \"persona\", \"persona\", \"persona\", \"persona\", \"persona\", \"persona\", \"pezza\", \"pezza\", \"pfff\", \"pfff\", \"picl\", \"piedestallo\", \"piedestallo\", \"piendo\", \"piendo\", \"pietro\", \"pietro\", \"pietro\", \"pietro\", \"pietro\", \"pietro\", \"pkipsiltili\", \"plnlone\", \"poco\", \"poco\", \"poco\", \"poco\", \"poco\", \"poco\", \"poggio\", \"politico\", \"politico\", \"politico\", \"politico\", \"politico\", \"politico\", \"popolare\", \"popolare\", \"popolare\", \"popolare\", \"popolare\", \"popolare\", \"popolo\", \"popolo\", \"popolo\", \"popolo\", \"popolo\", \"popolo\", \"portare\", \"portare\", \"portare\", \"portare\", \"portare\", \"portare\", \"porto\", \"porto\", \"porto\", \"porto\", \"porto\", \"porto\", \"potere\", \"potere\", \"potere\", \"potere\", \"potere\", \"potere\", \"pratese\", \"presentarsi\", \"presentarsi\", \"presentarsi\", \"presidente\", \"presidente\", \"presidente\", \"presidente\", \"presidente\", \"presidente\", \"primo\", \"primo\", \"primo\", \"primo\", \"primo\", \"primo\", \"principal\", \"principal\", \"principe\", \"principe\", \"principe\", \"principe\", \"principe\", \"principe\", \"procesati\", \"produrre\", \"produrre\", \"produrre\", \"produrre\", \"produrre\", \"produrre\", \"propinandogli\", \"propriet\\u00e0\", \"propriet\\u00e0\", \"propriet\\u00e0\", \"propriet\\u00e0\", \"propriet\\u00e0\", \"protettore\", \"protettore\", \"protettore\", \"protettore\", \"prublmiikrs\", \"prublmiikrs\", \"pubblicare\", \"pubblicare\", \"pubblicare\", \"pubblicare\", \"pubblicare\", \"pubblicare\", \"pubblico\", \"pubblico\", \"pubblico\", \"pubblico\", \"pubblico\", \"pubblico\", \"puntare\", \"puntare\", \"puntare\", \"puntare\", \"puntare\", \"puntare\", \"pusillanime\", \"pusillanime\", \"pusillanime\", \"quale\", \"quale\", \"quale\", \"quale\", \"quale\", \"quale\", \"qualunque\", \"qualunque\", \"qualunque\", \"qualunque\", \"qualunque\", \"quando\", \"quando\", \"quando\", \"quando\", \"quando\", \"quando\", \"quay\", \"quello\", \"quello\", \"quello\", \"quello\", \"quello\", \"quello\", \"quotidiano\", \"quotidiano\", \"quotidiano\", \"quotidiano\", \"quotidiano\", \"quotidiano\", \"raccogliere\", \"raccogliere\", \"raccogliere\", \"raccogliere\", \"raccogliere\", \"raccogliere\", \"ragione\", \"ragione\", \"ragione\", \"ragione\", \"ragione\", \"ragione\", \"rappresentare\", \"rappresentare\", \"rappresentare\", \"rappresentare\", \"rappresentare\", \"rappresentare\", \"recarsi\", \"recarsi\", \"recarsi\", \"recarsi\", \"recarsi\", \"recere\", \"recere\", \"recere\", \"recere\", \"recere\", \"recere\", \"rendere\", \"rendere\", \"rendere\", \"rendere\", \"rendere\", \"rendere\", \"ressa\", \"ressa\", \"ressa\", \"rialto\", \"rialto\", \"riaversi\", \"riaversi\", \"rimanere\", \"rimanere\", \"rimanere\", \"rimanere\", \"rimanere\", \"rimanere\", \"ris\\u00f2j\", \"roma\", \"roma\", \"roma\", \"roma\", \"roma\", \"roma\", \"rombare\", \"rombare\", \"rombare\", \"roversl\", \"roversl\", \"roversl\", \"rublo\", \"rublo\", \"russia\", \"russia\", \"russia\", \"russia\", \"russia\", \"russia\", \"ruzzolare\", \"salvare\", \"salvare\", \"salvare\", \"salvare\", \"salvare\", \"sargent\", \"sargent\", \"sargent\", \"schedare\", \"schedare\", \"schedare\", \"schedare\", \"scienza\", \"scienza\", \"scienza\", \"scienza\", \"scienza\", \"scienza\", \"scoprire\", \"scoprire\", \"scoprire\", \"scoprire\", \"scoprire\", \"scoprire\", \"seguitare\", \"seguitare\", \"seguitare\", \"seguitare\", \"seguitare\", \"seguitare\", \"senza\", \"senza\", \"senza\", \"senza\", \"senza\", \"senza\", \"sera\", \"sera\", \"sera\", \"sera\", \"sera\", \"sera\", \"sessanten\", \"setto\", \"setto\", \"setto\", \"sfazione\", \"sfazione\", \"sfruttamento\", \"sfruttamento\", \"sfruttamento\", \"siderate\", \"sincero\", \"sincero\", \"sincero\", \"sincero\", \"sincero\", \"soffocare\", \"soffocare\", \"soffocare\", \"sognatore\", \"sognatore\", \"sognatore\", \"sognatore\", \"sognatore\", \"soldato\", \"soldato\", \"soldato\", \"soldato\", \"soldato\", \"soldato\", \"solere\", \"solere\", \"solere\", \"solere\", \"solere\", \"solere\", \"solo\", \"solo\", \"solo\", \"solo\", \"solo\", \"solo\", \"spencer\", \"spencer\", \"stampare\", \"stampare\", \"stampare\", \"stampare\", \"stampare\", \"stampare\", \"stanza\", \"stanza\", \"stanza\", \"stanza\", \"stanza\", \"stare\", \"stare\", \"stare\", \"stare\", \"stare\", \"stare\", \"stato\", \"stato\", \"stato\", \"stato\", \"stato\", \"stato\", \"statti\", \"stesso\", \"stesso\", \"stesso\", \"stesso\", \"stesso\", \"stesso\", \"subito\", \"subito\", \"subito\", \"succc\", \"tale\", \"tale\", \"tale\", \"tale\", \"tale\", \"tale\", \"tangere\", \"tangere\", \"tangere\", \"tangere\", \"tangere\", \"tangere\", \"telegrafico\", \"telegrafico\", \"telegrafico\", \"telegrafico\", \"telegrafico\", \"telegrafico\", \"tempo\", \"tempo\", \"tempo\", \"tempo\", \"tempo\", \"tempo\", \"tenere\", \"tenere\", \"tenere\", \"tenere\", \"tenere\", \"tenere\", \"testare\", \"testare\", \"testare\", \"testare\", \"testare\", \"testare\", \"text\", \"tldue\", \"todd\", \"tolleranza\", \"tolleranza\", \"tolstoi\", \"tolstoi\", \"tolstoi\", \"tolstoi\", \"tolstoi\", \"toria\", \"toria\", \"torino\", \"torino\", \"torino\", \"torino\", \"torino\", \"troburgo\", \"troburgo\", \"tromben\", \"tromben\", \"tromben\", \"trovandosi\", \"trovandosi\", \"trovare\", \"trovare\", \"trovare\", \"trovare\", \"trovare\", \"trovare\", \"turali\", \"turali\", \"turali\", \"tutt\", \"tutt\", \"tutto\", \"tutto\", \"tutto\", \"tutto\", \"tutto\", \"tutto\", \"uggia\", \"uggia\", \"umanit\\u00e0\", \"umanit\\u00e0\", \"umanit\\u00e0\", \"umanit\\u00e0\", \"umanit\\u00e0\", \"umanit\\u00e0\", \"unito\", \"unito\", \"unito\", \"unito\", \"unito\", \"unito\", \"vannutelli\", \"vannutelli\", \"vannutelli\", \"vannutelli\", \"vano\", \"vano\", \"vano\", \"vano\", \"vano\", \"vano\", \"varsalona\", \"varsalona\", \"vecchio\", \"vecchio\", \"vecchio\", \"vecchio\", \"vecchio\", \"vecchio\", \"vederlo\", \"vederlo\", \"vederlo\", \"venire\", \"venire\", \"venire\", \"venire\", \"venire\", \"venire\", \"venticinque\", \"venticinque\", \"viaiting\", \"violetto\", \"violetto\", \"visitare\", \"visitare\", \"visitare\", \"visitare\", \"visitare\", \"visitare\", \"vistare\", \"vistare\", \"vistare\", \"vistare\", \"vistare\", \"vistare\", \"volere\", \"volere\", \"volere\", \"volere\", \"volere\", \"volere\", \"volto\", \"volto\", \"volto\", \"volto\", \"volto\", \"volto\", \"voto\", \"voto\", \"voto\", \"voto\", \"voto\", \"voto\", \"vtomi\", \"vtomi\", \"wimple\", \"wimple\", \"wolvodlch\", \"xiano\", \"york\", \"york\", \"york\", \"york\", \"york\", \"york\", \"zlone\", \"zlone\", \"zlone\", \"zlone\", \"\\u00ecntime\"]}, \"R\": 30, \"lambda.step\": 0.01, \"plot.opts\": {\"xlab\": \"PC1\", \"ylab\": \"PC2\"}, \"topic.order\": [4, 2, 5, 3, 1, 6]};\n",
              "\n",
              "function LDAvis_load_lib(url, callback){\n",
              "  var s = document.createElement('script');\n",
              "  s.src = url;\n",
              "  s.async = true;\n",
              "  s.onreadystatechange = s.onload = callback;\n",
              "  s.onerror = function(){console.warn(\"failed to load library \" + url);};\n",
              "  document.getElementsByTagName(\"head\")[0].appendChild(s);\n",
              "}\n",
              "\n",
              "if(typeof(LDAvis) !== \"undefined\"){\n",
              "   // already loaded: just create the visualization\n",
              "   !function(LDAvis){\n",
              "       new LDAvis(\"#\" + \"ldavis_el121140020320421232436387845\", ldavis_el121140020320421232436387845_data);\n",
              "   }(LDAvis);\n",
              "}else if(typeof define === \"function\" && define.amd){\n",
              "   // require.js is available: use it to load d3/LDAvis\n",
              "   require.config({paths: {d3: \"https://cdnjs.cloudflare.com/ajax/libs/d3/3.5.5/d3.min\"}});\n",
              "   require([\"d3\"], function(d3){\n",
              "      window.d3 = d3;\n",
              "      LDAvis_load_lib(\"https://cdn.rawgit.com/bmabey/pyLDAvis/files/ldavis.v1.0.0.js\", function(){\n",
              "        new LDAvis(\"#\" + \"ldavis_el121140020320421232436387845\", ldavis_el121140020320421232436387845_data);\n",
              "      });\n",
              "    });\n",
              "}else{\n",
              "    // require.js not available: dynamically load d3 & LDAvis\n",
              "    LDAvis_load_lib(\"https://cdnjs.cloudflare.com/ajax/libs/d3/3.5.5/d3.min.js\", function(){\n",
              "         LDAvis_load_lib(\"https://cdn.rawgit.com/bmabey/pyLDAvis/files/ldavis.v1.0.0.js\", function(){\n",
              "                 new LDAvis(\"#\" + \"ldavis_el121140020320421232436387845\", ldavis_el121140020320421232436387845_data);\n",
              "            })\n",
              "         });\n",
              "}\n",
              "</script>"
            ],
            "text/plain": [
              "PreparedData(topic_coordinates=              x         y  topics  cluster       Freq\n",
              "topic                                                \n",
              "3     -0.003844  0.003106       1        1  42.105400\n",
              "1     -0.004402 -0.003267       2        1  29.580677\n",
              "4      0.001526 -0.001133       3        1  11.598258\n",
              "2      0.001099  0.002568       4        1   9.264569\n",
              "0      0.001512 -0.000654       5        1   5.968758\n",
              "5      0.004110 -0.000619       6        1   1.482341, topic_info=           Term         Freq        Total Category  logprob  loglift\n",
              "473    italiano  1047.000000  1047.000000  Default  30.0000  30.0000\n",
              "348        fare   430.000000   430.000000  Default  29.0000  29.0000\n",
              "280   dispaccio   469.000000   469.000000  Default  28.0000  28.0000\n",
              "36        altro   421.000000   421.000000  Default  27.0000  27.0000\n",
              "471      italia   494.000000   494.000000  Default  26.0000  26.0000\n",
              "...         ...          ...          ...      ...      ...      ...\n",
              "944       stare     5.445202   611.857422   Topic6  -5.9817  -0.5102\n",
              "719      potere     4.746392   470.734344   Topic6  -6.1191  -0.3854\n",
              "578       molto     4.127904   343.960358   Topic6  -6.2587  -0.2112\n",
              "670     partire     3.668861   328.934357   Topic6  -6.3766  -0.2844\n",
              "1056     venire     3.737642   414.037506   Topic6  -6.3580  -0.4960\n",
              "\n",
              "[550 rows x 6 columns], token_table=       Topic      Freq       Term\n",
              "term                             \n",
              "14833      1  0.481439  abitudine\n",
              "14833      2  0.481439  abitudine\n",
              "15530      1  0.696843     acorse\n",
              "15530      2  0.348421     acorse\n",
              "13         1  0.586528      acqua\n",
              "...      ...       ...        ...\n",
              "4592       1  0.542862      zlone\n",
              "4592       2  0.180954      zlone\n",
              "4592       3  0.090477      zlone\n",
              "4592       4  0.090477      zlone\n",
              "22334      1  0.709403     ìntime\n",
              "\n",
              "[1379 rows x 3 columns], R=30, lambda_step=0.01, plot_opts={'xlab': 'PC1', 'ylab': 'PC2'}, topic_order=[4, 2, 5, 3, 1, 6])"
            ]
          },
          "metadata": {
            "tags": []
          },
          "execution_count": 35
        }
      ]
    },
    {
      "cell_type": "markdown",
      "metadata": {
        "id": "jMh299U-Qowi",
        "colab_type": "text"
      },
      "source": [
        "### 2.2.3 LDA with Mallet"
      ]
    },
    {
      "cell_type": "code",
      "metadata": {
        "id": "TNMEMY3LaQQ-",
        "colab_type": "code",
        "colab": {}
      },
      "source": [
        "%%capture\n",
        "ldamallet = gensim.models.wrappers.LdaMallet(mallet_path, corpus=corpus, num_topics=numtopics, id2word=id2word)"
      ],
      "execution_count": 0,
      "outputs": []
    },
    {
      "cell_type": "code",
      "metadata": {
        "id": "I7VpXA0cahdM",
        "colab_type": "code",
        "outputId": "ae02b86e-640a-45e2-ee8b-d67897e4af89",
        "colab": {
          "base_uri": "https://localhost:8080/",
          "height": 241
        }
      },
      "source": [
        "ldamallet.print_topics()"
      ],
      "execution_count": 37,
      "outputs": [
        {
          "output_type": "execute_result",
          "data": {
            "text/plain": [
              "[(0,\n",
              "  '0.027*\"italiano\" + 0.012*\"roma\" + 0.011*\"fare\" + 0.011*\"italia\" + 0.009*\"grande\" + 0.009*\"dispaccio\" + 0.008*\"stato\" + 0.008*\"telegrafico\" + 0.008*\"giornale\" + 0.007*\"altro\"'),\n",
              " (1,\n",
              "  '0.010*\"giorno\" + 0.008*\"città\" + 0.008*\"primo\" + 0.007*\"presidente\" + 0.007*\"maggio\" + 0.006*\"vivo\" + 0.006*\"italia\" + 0.005*\"quotidiano\" + 0.005*\"generale\" + 0.005*\"tutto\"'),\n",
              " (2,\n",
              "  '0.011*\"dispaccio\" + 0.009*\"nuovo\" + 0.009*\"telegrafico\" + 0.007*\"dopo\" + 0.007*\"italiano\" + 0.006*\"notizia\" + 0.006*\"dire\" + 0.006*\"durare\" + 0.006*\"ieri\" + 0.005*\"ministrare\"'),\n",
              " (3,\n",
              "  '0.008*\"sotto\" + 0.007*\"ogni\" + 0.007*\"potere\" + 0.007*\"sempre\" + 0.006*\"lottare\" + 0.006*\"tutto\" + 0.006*\"cosa\" + 0.005*\"menare\" + 0.005*\"vita\" + 0.005*\"stare\"'),\n",
              " (4,\n",
              "  '0.016*\"cardinale\" + 0.013*\"papa\" + 0.009*\"roma\" + 0.008*\"italiano\" + 0.008*\"nuovo\" + 0.007*\"venire\" + 0.007*\"chiesa\" + 0.006*\"pontefice\" + 0.006*\"vaticano\" + 0.006*\"dopo\"'),\n",
              " (5,\n",
              "  '0.015*\"stare\" + 0.013*\"potere\" + 0.012*\"altro\" + 0.012*\"anno\" + 0.010*\"partire\" + 0.010*\"lavorare\" + 0.008*\"molto\" + 0.008*\"dovere\" + 0.008*\"oggi\" + 0.007*\"essere\"')]"
            ]
          },
          "metadata": {
            "tags": []
          },
          "execution_count": 37
        }
      ]
    },
    {
      "cell_type": "markdown",
      "metadata": {
        "id": "SSL1PF6zRcft",
        "colab_type": "text"
      },
      "source": [
        "## 2.3 Topic Coherence\n",
        "Topic Coherence measures score of a single topic by measuring the degree of semantic similarity between high scoring words in the topic. https://towardsdatascience.com/evaluate-topic-model-in-python-latent-dirichlet-allocation-lda-7d57484bb5d0"
      ]
    },
    {
      "cell_type": "code",
      "metadata": {
        "id": "GX69kVo-ssrV",
        "colab_type": "code",
        "colab": {}
      },
      "source": [
        "from gensim.models.coherencemodel import CoherenceModel"
      ],
      "execution_count": 0,
      "outputs": []
    },
    {
      "cell_type": "markdown",
      "metadata": {
        "id": "JrAOlaIXSUvb",
        "colab_type": "text"
      },
      "source": [
        "### 2.3.1 Coherence score LDA Gensim"
      ]
    },
    {
      "cell_type": "code",
      "metadata": {
        "id": "XVMfqVqZSbeJ",
        "colab_type": "code",
        "outputId": "15a7511a-af16-46c4-8d93-dc03ae86a93a",
        "colab": {
          "base_uri": "https://localhost:8080/",
          "height": 51
        }
      },
      "source": [
        "coherence_model_ldagensim = CoherenceModel(model=ldagensim, texts=lemmatized_corpus, dictionary=id2word, coherence='c_v')\n",
        "coherence_ldagensim = coherence_model_ldagensim.get_coherence()\n",
        "print('\\nCoherence Score LDA Gensim: ', coherence_ldagensim)"
      ],
      "execution_count": 39,
      "outputs": [
        {
          "output_type": "stream",
          "text": [
            "\n",
            "Coherence Score LDA Gensim:  0.2499700822790589\n"
          ],
          "name": "stdout"
        }
      ]
    },
    {
      "cell_type": "markdown",
      "metadata": {
        "id": "9S5nI7YiSACT",
        "colab_type": "text"
      },
      "source": [
        "### 2.3.1 Coherence score LDA Mallet\n"
      ]
    },
    {
      "cell_type": "code",
      "metadata": {
        "id": "KmPJGdnHsafA",
        "colab_type": "code",
        "outputId": "ca6c0c57-6c82-488c-9dda-345796802ae0",
        "colab": {
          "base_uri": "https://localhost:8080/",
          "height": 51
        }
      },
      "source": [
        "coherence_model_ldamallet = CoherenceModel(model=ldamallet, texts=lemmatized_corpus, dictionary=id2word, coherence='c_v')\n",
        "coherence_ldamallet = coherence_model_ldamallet.get_coherence()\n",
        "print('\\nCoherence Score LDA MAllet: ', coherence_ldamallet)"
      ],
      "execution_count": 40,
      "outputs": [
        {
          "output_type": "stream",
          "text": [
            "\n",
            "Coherence Score LDA MAllet:  0.33507288362015686\n"
          ],
          "name": "stdout"
        }
      ]
    },
    {
      "cell_type": "markdown",
      "metadata": {
        "id": "pjImnk4wAh4u",
        "colab_type": "text"
      },
      "source": [
        "## 2.4 Coherence and number of topics"
      ]
    },
    {
      "cell_type": "markdown",
      "metadata": {
        "colab_type": "text",
        "id": "-C8GGNUoGAuf"
      },
      "source": [
        "### 2.4.1 LDA Gensim"
      ]
    },
    {
      "cell_type": "code",
      "metadata": {
        "colab_type": "code",
        "id": "lWD51u4PGAuh",
        "colab": {}
      },
      "source": [
        "#can take a long time to run\n",
        "%%capture\n",
        "topics_nr = []\n",
        "coherence_values_gensim = []\n",
        "for num_topics in range(2, 20):\n",
        "  model = models.LdaModel(corpus, id2word=id2word, num_topics=num_topics)\n",
        "  coherencemodel = CoherenceModel(model=model, texts=lemmatized_corpus, dictionary=id2word, coherence='c_v')\n",
        "  coherence_value = coherencemodel.get_coherence()\n",
        "  coherence_values_gensim.append(coherence_value)\n",
        "  topics_nr.append(str(num_topics))"
      ],
      "execution_count": 0,
      "outputs": []
    },
    {
      "cell_type": "code",
      "metadata": {
        "id": "7qwexUrMB689",
        "colab_type": "code",
        "outputId": "8c492b5d-82e3-4b6a-b674-3d8f5c8c39e4",
        "colab": {
          "base_uri": "https://localhost:8080/",
          "height": 323
        }
      },
      "source": [
        "for i in range(len(topics_nr)):\n",
        "  print(\"Num Topics =\", topics_nr[i], \" has Coherence Value of\", round(coherence_values_gensim[i],4))"
      ],
      "execution_count": 0,
      "outputs": [
        {
          "output_type": "stream",
          "text": [
            "Num Topics = 2  has Coherence Value of 0.2514\n",
            "Num Topics = 3  has Coherence Value of 0.2504\n",
            "Num Topics = 4  has Coherence Value of 0.2506\n",
            "Num Topics = 5  has Coherence Value of 0.2555\n",
            "Num Topics = 6  has Coherence Value of 0.2486\n",
            "Num Topics = 7  has Coherence Value of 0.2546\n",
            "Num Topics = 8  has Coherence Value of 0.2551\n",
            "Num Topics = 9  has Coherence Value of 0.2579\n",
            "Num Topics = 10  has Coherence Value of 0.2515\n",
            "Num Topics = 11  has Coherence Value of 0.2581\n",
            "Num Topics = 12  has Coherence Value of 0.2568\n",
            "Num Topics = 13  has Coherence Value of 0.2559\n",
            "Num Topics = 14  has Coherence Value of 0.2559\n",
            "Num Topics = 15  has Coherence Value of 0.2558\n",
            "Num Topics = 16  has Coherence Value of 0.2502\n",
            "Num Topics = 17  has Coherence Value of 0.2568\n",
            "Num Topics = 18  has Coherence Value of 0.2548\n",
            "Num Topics = 19  has Coherence Value of 0.2549\n"
          ],
          "name": "stdout"
        }
      ]
    },
    {
      "cell_type": "code",
      "metadata": {
        "colab_type": "code",
        "id": "H2NSeh81GAur",
        "colab": {}
      },
      "source": [
        "# Visualize coherence scores\n",
        "import matplotlib.pyplot as plt"
      ],
      "execution_count": 0,
      "outputs": []
    },
    {
      "cell_type": "code",
      "metadata": {
        "colab_type": "code",
        "outputId": "8c9e5db3-1456-4e36-8e69-1e80eefd718d",
        "id": "YdA1u15bGAut",
        "colab": {
          "base_uri": "https://localhost:8080/",
          "height": 282
        }
      },
      "source": [
        "plt.plot(topics_nr, coherence_values_gensim)"
      ],
      "execution_count": 0,
      "outputs": [
        {
          "output_type": "execute_result",
          "data": {
            "text/plain": [
              "[<matplotlib.lines.Line2D at 0x7f59497c5a90>]"
            ]
          },
          "metadata": {
            "tags": []
          },
          "execution_count": 66
        },
        {
          "output_type": "display_data",
          "data": {
            "image/png": "[encoded data removed]",
            "text/plain": [
              "<Figure size 432x288 with 1 Axes>"
            ]
          },
          "metadata": {
            "tags": [],
            "needs_background": "light"
          }
        }
      ]
    },
    {
      "cell_type": "code",
      "metadata": {
        "colab_type": "code",
        "id": "28j3eHrRGAuv",
        "colab": {}
      },
      "source": [
        "# To analyse the results, the user can print the list of topics for different topic nr"
      ],
      "execution_count": 0,
      "outputs": []
    },
    {
      "cell_type": "code",
      "metadata": {
        "colab_type": "code",
        "id": "Cg6OgRt7GAuy",
        "colab": {}
      },
      "source": [
        "# print topics for nr of topics = 7\n",
        "%%capture\n",
        "numtopics = 7\n",
        "model = models.LdaModel(corpus, id2word=id2word, num_topics=numtopics)"
      ],
      "execution_count": 0,
      "outputs": []
    },
    {
      "cell_type": "code",
      "metadata": {
        "id": "xqZGRK4NCrkJ",
        "colab_type": "code",
        "outputId": "e2d04edb-a743-4136-f8af-d530b3bd1c5d",
        "colab": {
          "base_uri": "https://localhost:8080/",
          "height": 275
        }
      },
      "source": [
        "model.print_topics()"
      ],
      "execution_count": 0,
      "outputs": [
        {
          "output_type": "execute_result",
          "data": {
            "text/plain": [
              "[(0,\n",
              "  '0.006*\"italiano\" + 0.005*\"stare\" + 0.004*\"fare\" + 0.003*\"anno\" + 0.003*\"dispaccio\" + 0.003*\"altro\" + 0.003*\"potere\" + 0.003*\"telegrafico\" + 0.003*\"tutto\" + 0.003*\"dire\"'),\n",
              " (1,\n",
              "  '0.008*\"italiano\" + 0.004*\"stare\" + 0.004*\"italia\" + 0.004*\"roma\" + 0.004*\"altro\" + 0.003*\"anno\" + 0.003*\"fare\" + 0.003*\"primo\" + 0.003*\"cardinale\" + 0.003*\"grande\"'),\n",
              " (2,\n",
              "  '0.006*\"italiano\" + 0.004*\"italia\" + 0.003*\"roma\" + 0.003*\"stare\" + 0.003*\"anno\" + 0.003*\"dire\" + 0.003*\"nuovo\" + 0.003*\"cardinale\" + 0.003*\"primo\" + 0.003*\"altro\"'),\n",
              " (3,\n",
              "  '0.008*\"italiano\" + 0.005*\"potere\" + 0.004*\"dispaccio\" + 0.004*\"roma\" + 0.003*\"nuovo\" + 0.003*\"telegrafico\" + 0.003*\"italia\" + 0.003*\"stare\" + 0.003*\"fare\" + 0.003*\"dire\"'),\n",
              " (4,\n",
              "  '0.007*\"italiano\" + 0.004*\"stare\" + 0.004*\"roma\" + 0.003*\"italia\" + 0.003*\"telegrafico\" + 0.003*\"dire\" + 0.003*\"primo\" + 0.003*\"altro\" + 0.003*\"dispaccio\" + 0.003*\"potere\"'),\n",
              " (5,\n",
              "  '0.007*\"italiano\" + 0.005*\"stare\" + 0.004*\"fare\" + 0.003*\"italia\" + 0.003*\"dispaccio\" + 0.003*\"altro\" + 0.003*\"nuovo\" + 0.003*\"primo\" + 0.003*\"potere\" + 0.003*\"dire\"'),\n",
              " (6,\n",
              "  '0.005*\"italiano\" + 0.004*\"italia\" + 0.004*\"dispaccio\" + 0.004*\"anno\" + 0.004*\"altro\" + 0.003*\"fare\" + 0.003*\"stare\" + 0.003*\"venire\" + 0.003*\"nuovo\" + 0.003*\"potere\"')]"
            ]
          },
          "metadata": {
            "tags": []
          },
          "execution_count": 68
        }
      ]
    },
    {
      "cell_type": "markdown",
      "metadata": {
        "id": "FazsvYeYDxo0",
        "colab_type": "text"
      },
      "source": [
        "### 2.4.2 LDA Mallet"
      ]
    },
    {
      "cell_type": "code",
      "metadata": {
        "id": "BnliBI5FTBDd",
        "colab_type": "code",
        "colab": {}
      },
      "source": [
        "#can take a long time to run\n",
        "%%capture\n",
        "topics_nr = []\n",
        "coherence_values_mallet = []\n",
        "for num_topics in range(2, 20):\n",
        "  model = gensim.models.wrappers.LdaMallet(mallet_path, corpus=corpus, num_topics=num_topics, id2word=id2word)\n",
        "  coherencemodel = CoherenceModel(model=model, texts=lemmatized_corpus, dictionary=id2word, coherence='c_v')\n",
        "  coherence_value = coherencemodel.get_coherence()\n",
        "  coherence_values_mallet.append(coherence_value)\n",
        "  topics_nr.append(str(num_topics))"
      ],
      "execution_count": 0,
      "outputs": []
    },
    {
      "cell_type": "code",
      "metadata": {
        "id": "dSEG4NBSC5BZ",
        "colab_type": "code",
        "outputId": "871a27de-46bc-445b-a2b8-2b232fb79fc1",
        "colab": {
          "base_uri": "https://localhost:8080/",
          "height": 323
        }
      },
      "source": [
        "for i in range(len(topics_nr)):\n",
        "  print(\"Num Topics =\", topics_nr[i], \" has Coherence Value of\", round(coherence_values_mallet[i],4))"
      ],
      "execution_count": 0,
      "outputs": [
        {
          "output_type": "stream",
          "text": [
            "Num Topics = 2  has Coherence Value of 0.3059\n",
            "Num Topics = 3  has Coherence Value of 0.3064\n",
            "Num Topics = 4  has Coherence Value of 0.3378\n",
            "Num Topics = 5  has Coherence Value of 0.3154\n",
            "Num Topics = 6  has Coherence Value of 0.3434\n",
            "Num Topics = 7  has Coherence Value of 0.3439\n",
            "Num Topics = 8  has Coherence Value of 0.3477\n",
            "Num Topics = 9  has Coherence Value of 0.3416\n",
            "Num Topics = 10  has Coherence Value of 0.3486\n",
            "Num Topics = 11  has Coherence Value of 0.3633\n",
            "Num Topics = 12  has Coherence Value of 0.3801\n",
            "Num Topics = 13  has Coherence Value of 0.3429\n",
            "Num Topics = 14  has Coherence Value of 0.3448\n",
            "Num Topics = 15  has Coherence Value of 0.3582\n",
            "Num Topics = 16  has Coherence Value of 0.3564\n",
            "Num Topics = 17  has Coherence Value of 0.369\n",
            "Num Topics = 18  has Coherence Value of 0.3408\n",
            "Num Topics = 19  has Coherence Value of 0.3605\n"
          ],
          "name": "stdout"
        }
      ]
    },
    {
      "cell_type": "code",
      "metadata": {
        "id": "oIso5UpAMk02",
        "colab_type": "code",
        "outputId": "2193b4d6-5442-4b05-de8b-bc3bb8fa44cc",
        "colab": {
          "base_uri": "https://localhost:8080/",
          "height": 282
        }
      },
      "source": [
        "plt.plot(topics_nr, coherence_values_mallet)"
      ],
      "execution_count": 0,
      "outputs": [
        {
          "output_type": "execute_result",
          "data": {
            "text/plain": [
              "[<matplotlib.lines.Line2D at 0x7f5956afc470>]"
            ]
          },
          "metadata": {
            "tags": []
          },
          "execution_count": 71
        },
        {
          "output_type": "display_data",
          "data": {
            "image/png": "[encoded data removed]",
            "text/plain": [
              "<Figure size 432x288 with 1 Axes>"
            ]
          },
          "metadata": {
            "tags": [],
            "needs_background": "light"
          }
        }
      ]
    },
    {
      "cell_type": "code",
      "metadata": {
        "id": "zaRiYNAlQKY6",
        "colab_type": "code",
        "colab": {}
      },
      "source": [
        "# To analyse the results, the user can print the list of topics for different topic nr"
      ],
      "execution_count": 0,
      "outputs": []
    },
    {
      "cell_type": "code",
      "metadata": {
        "id": "JiK6edH3RA4G",
        "colab_type": "code",
        "colab": {}
      },
      "source": [
        "# print topics for nr of topics = 8\n",
        "%%capture\n",
        "numtopics = 8\n",
        "model = gensim.models.wrappers.LdaMallet(mallet_path, corpus=corpus, num_topics=numtopics, id2word=id2word)"
      ],
      "execution_count": 0,
      "outputs": []
    },
    {
      "cell_type": "code",
      "metadata": {
        "id": "p445G7PYDSin",
        "colab_type": "code",
        "outputId": "67204b56-2333-4d79-87f9-1654e821d76f",
        "colab": {
          "base_uri": "https://localhost:8080/",
          "height": 309
        }
      },
      "source": [
        "model.print_topics()"
      ],
      "execution_count": 0,
      "outputs": [
        {
          "output_type": "execute_result",
          "data": {
            "text/plain": [
              "[(0,\n",
              "  '0.010*\"potere\" + 0.009*\"leggere\" + 0.008*\"tutto\" + 0.007*\"stare\" + 0.007*\"lavorare\" + 0.007*\"cosa\" + 0.007*\"sotto\" + 0.006*\"senza\" + 0.006*\"lottare\" + 0.006*\"ogni\"'),\n",
              " (1,\n",
              "  '0.014*\"roma\" + 0.010*\"presidente\" + 0.009*\"fare\" + 0.008*\"tutto\" + 0.008*\"dovere\" + 0.007*\"perchè\" + 0.007*\"persona\" + 0.007*\"parigi\" + 0.006*\"governare\" + 0.006*\"andare\"'),\n",
              " (2,\n",
              "  '0.018*\"italiano\" + 0.013*\"primo\" + 0.012*\"anno\" + 0.011*\"città\" + 0.010*\"italia\" + 0.009*\"grande\" + 0.009*\"maggio\" + 0.009*\"dispaccio\" + 0.009*\"solere\" + 0.008*\"daily\"'),\n",
              " (3,\n",
              "  '0.011*\"dire\" + 0.010*\"italiano\" + 0.010*\"altro\" + 0.010*\"fare\" + 0.009*\"stare\" + 0.009*\"egli\" + 0.008*\"generale\" + 0.008*\"venire\" + 0.008*\"roma\" + 0.008*\"dopo\"'),\n",
              " (4,\n",
              "  '0.014*\"dispaccio\" + 0.013*\"telegrafico\" + 0.012*\"italiano\" + 0.012*\"americano\" + 0.011*\"giornale\" + 0.010*\"stato\" + 0.009*\"daily\" + 0.008*\"italia\" + 0.007*\"partire\" + 0.006*\"giorno\"'),\n",
              " (5,\n",
              "  '0.012*\"nuovo\" + 0.008*\"governare\" + 0.007*\"ministrare\" + 0.007*\"dispaccio\" + 0.007*\"regina\" + 0.006*\"ufficiale\" + 0.006*\"stare\" + 0.006*\"partire\" + 0.006*\"ieri\" + 0.006*\"giugno\"'),\n",
              " (6,\n",
              "  '0.022*\"cardinale\" + 0.018*\"papa\" + 0.009*\"chiesa\" + 0.008*\"pontefice\" + 0.008*\"vaticano\" + 0.007*\"giorno\" + 0.007*\"leone\" + 0.007*\"morto\" + 0.007*\"xiii\" + 0.007*\"conclave\"'),\n",
              " (7,\n",
              "  '0.014*\"italiano\" + 0.012*\"stare\" + 0.010*\"altro\" + 0.010*\"anno\" + 0.010*\"fare\" + 0.008*\"potere\" + 0.007*\"tale\" + 0.007*\"lavorare\" + 0.007*\"milione\" + 0.006*\"operare\"')]"
            ]
          },
          "metadata": {
            "tags": []
          },
          "execution_count": 75
        }
      ]
    },
    {
      "cell_type": "markdown",
      "metadata": {
        "id": "Tn70q1uGWx40",
        "colab_type": "text"
      },
      "source": [
        "# Topic distribution"
      ]
    },
    {
      "cell_type": "markdown",
      "metadata": {
        "id": "G-nJuD7-XCyf",
        "colab_type": "text"
      },
      "source": [
        "## 3.1. Gensim"
      ]
    },
    {
      "cell_type": "markdown",
      "metadata": {
        "id": "tJQWcQhLXN0A",
        "colab_type": "text"
      },
      "source": [
        "### 3.1.1. Distribution per topic and per document"
      ]
    },
    {
      "cell_type": "code",
      "metadata": {
        "id": "uCv_Yd4LXNCs",
        "colab_type": "code",
        "colab": {}
      },
      "source": [
        "%%capture\n",
        "numtopics = 8\n",
        "ldamodel = models.LdaModel(corpus, num_topics=numtopics, id2word = id2word, minimum_probability=0)"
      ],
      "execution_count": 0,
      "outputs": []
    },
    {
      "cell_type": "code",
      "metadata": {
        "id": "FfTOWir8ijZz",
        "colab_type": "code",
        "colab": {}
      },
      "source": [
        "doc_topic_weights = ldamodel.inference(corpus)[0]\n",
        "doc_topic_dists = doc_topic_weights / doc_topic_weights.sum(axis=1)[:, None]"
      ],
      "execution_count": 0,
      "outputs": []
    },
    {
      "cell_type": "code",
      "metadata": {
        "id": "QceWuyVJi0yE",
        "colab_type": "code",
        "colab": {}
      },
      "source": [
        "distribution_gensim = pd.DataFrame(doc_topic_dists,columns=[f'topic{i}' for i in range(numtopics)])"
      ],
      "execution_count": 0,
      "outputs": []
    },
    {
      "cell_type": "code",
      "metadata": {
        "id": "VdJPQTn5nMvx",
        "colab_type": "code",
        "colab": {}
      },
      "source": [
        "distribution_gensim.index.name = 'document'"
      ],
      "execution_count": 0,
      "outputs": []
    },
    {
      "cell_type": "code",
      "metadata": {
        "id": "nuNjFvpSXf33",
        "colab_type": "code",
        "colab": {
          "base_uri": "https://localhost:8080/",
          "height": 620
        },
        "outputId": "2f810529-db14-4594-ed74-66a08822d3fa"
      },
      "source": [
        "# add file names\n",
        "distribution_gensim_wfiles = distribution_gensim.copy()\n",
        "distribution_gensim_wfiles.insert(0, 'document_path', sources['file_name'])\n",
        "distribution_gensim_wfiles"
      ],
      "execution_count": 107,
      "outputs": [
        {
          "output_type": "execute_result",
          "data": {
            "text/html": [
              "<div>\n",
              "<style scoped>\n",
              "    .dataframe tbody tr th:only-of-type {\n",
              "        vertical-align: middle;\n",
              "    }\n",
              "\n",
              "    .dataframe tbody tr th {\n",
              "        vertical-align: top;\n",
              "    }\n",
              "\n",
              "    .dataframe thead th {\n",
              "        text-align: right;\n",
              "    }\n",
              "</style>\n",
              "<table border=\"1\" class=\"dataframe\">\n",
              "  <thead>\n",
              "    <tr style=\"text-align: right;\">\n",
              "      <th></th>\n",
              "      <th>document_path</th>\n",
              "      <th>topic0</th>\n",
              "      <th>topic1</th>\n",
              "      <th>topic2</th>\n",
              "      <th>topic3</th>\n",
              "      <th>topic4</th>\n",
              "      <th>topic5</th>\n",
              "      <th>topic6</th>\n",
              "      <th>topic7</th>\n",
              "    </tr>\n",
              "    <tr>\n",
              "      <th>document</th>\n",
              "      <th></th>\n",
              "      <th></th>\n",
              "      <th></th>\n",
              "      <th></th>\n",
              "      <th></th>\n",
              "      <th></th>\n",
              "      <th></th>\n",
              "      <th></th>\n",
              "      <th></th>\n",
              "    </tr>\n",
              "  </thead>\n",
              "  <tbody>\n",
              "    <tr>\n",
              "      <th>0</th>\n",
              "      <td>sn85066408_1903-04-27_ed-1_seq-1_ocr.txt</td>\n",
              "      <td>0.012130</td>\n",
              "      <td>0.000080</td>\n",
              "      <td>0.000078</td>\n",
              "      <td>0.000078</td>\n",
              "      <td>0.815193</td>\n",
              "      <td>0.009959</td>\n",
              "      <td>0.000078</td>\n",
              "      <td>0.162403</td>\n",
              "    </tr>\n",
              "    <tr>\n",
              "      <th>1</th>\n",
              "      <td>sn85066408_1903-04-28_ed-1_seq-1_ocr.txt</td>\n",
              "      <td>0.000070</td>\n",
              "      <td>0.999512</td>\n",
              "      <td>0.000070</td>\n",
              "      <td>0.000070</td>\n",
              "      <td>0.000070</td>\n",
              "      <td>0.000070</td>\n",
              "      <td>0.000070</td>\n",
              "      <td>0.000070</td>\n",
              "    </tr>\n",
              "    <tr>\n",
              "      <th>2</th>\n",
              "      <td>sn85066408_1903-04-29_ed-1_seq-1_ocr.txt</td>\n",
              "      <td>0.000093</td>\n",
              "      <td>0.000093</td>\n",
              "      <td>0.000138</td>\n",
              "      <td>0.000093</td>\n",
              "      <td>0.744084</td>\n",
              "      <td>0.000093</td>\n",
              "      <td>0.000093</td>\n",
              "      <td>0.255315</td>\n",
              "    </tr>\n",
              "    <tr>\n",
              "      <th>3</th>\n",
              "      <td>sn85066408_1903-04-30_ed-1_seq-1_ocr.txt</td>\n",
              "      <td>0.002381</td>\n",
              "      <td>0.742540</td>\n",
              "      <td>0.000100</td>\n",
              "      <td>0.000100</td>\n",
              "      <td>0.254579</td>\n",
              "      <td>0.000100</td>\n",
              "      <td>0.000100</td>\n",
              "      <td>0.000100</td>\n",
              "    </tr>\n",
              "    <tr>\n",
              "      <th>4</th>\n",
              "      <td>sn85066408_1903-05-01_ed-1_seq-1_ocr.txt</td>\n",
              "      <td>0.000150</td>\n",
              "      <td>0.009218</td>\n",
              "      <td>0.030425</td>\n",
              "      <td>0.000150</td>\n",
              "      <td>0.945476</td>\n",
              "      <td>0.005410</td>\n",
              "      <td>0.009020</td>\n",
              "      <td>0.000150</td>\n",
              "    </tr>\n",
              "    <tr>\n",
              "      <th>...</th>\n",
              "      <td>...</td>\n",
              "      <td>...</td>\n",
              "      <td>...</td>\n",
              "      <td>...</td>\n",
              "      <td>...</td>\n",
              "      <td>...</td>\n",
              "      <td>...</td>\n",
              "      <td>...</td>\n",
              "      <td>...</td>\n",
              "    </tr>\n",
              "    <tr>\n",
              "      <th>95</th>\n",
              "      <td>sn85066408_1903-08-05_ed-1_seq-1_ocr.txt</td>\n",
              "      <td>0.000289</td>\n",
              "      <td>0.000289</td>\n",
              "      <td>0.000289</td>\n",
              "      <td>0.000289</td>\n",
              "      <td>0.000289</td>\n",
              "      <td>0.000289</td>\n",
              "      <td>0.997976</td>\n",
              "      <td>0.000289</td>\n",
              "    </tr>\n",
              "    <tr>\n",
              "      <th>96</th>\n",
              "      <td>sn85066408_1903-08-06_ed-1_seq-1_ocr.txt</td>\n",
              "      <td>0.000565</td>\n",
              "      <td>0.000086</td>\n",
              "      <td>0.000086</td>\n",
              "      <td>0.000086</td>\n",
              "      <td>0.074049</td>\n",
              "      <td>0.000086</td>\n",
              "      <td>0.924957</td>\n",
              "      <td>0.000086</td>\n",
              "    </tr>\n",
              "    <tr>\n",
              "      <th>97</th>\n",
              "      <td>sn85066408_1903-08-07_ed-1_seq-1_ocr.txt</td>\n",
              "      <td>0.000076</td>\n",
              "      <td>0.000076</td>\n",
              "      <td>0.086413</td>\n",
              "      <td>0.000076</td>\n",
              "      <td>0.027437</td>\n",
              "      <td>0.885768</td>\n",
              "      <td>0.000076</td>\n",
              "      <td>0.000076</td>\n",
              "    </tr>\n",
              "    <tr>\n",
              "      <th>98</th>\n",
              "      <td>2012271201_1903-08-08_ed-1_seq-1_ocr.txt</td>\n",
              "      <td>0.000143</td>\n",
              "      <td>0.999003</td>\n",
              "      <td>0.000142</td>\n",
              "      <td>0.000142</td>\n",
              "      <td>0.000142</td>\n",
              "      <td>0.000142</td>\n",
              "      <td>0.000142</td>\n",
              "      <td>0.000142</td>\n",
              "    </tr>\n",
              "    <tr>\n",
              "      <th>99</th>\n",
              "      <td>sn85066408_1903-08-08_ed-1_seq-1_ocr.txt</td>\n",
              "      <td>0.000083</td>\n",
              "      <td>0.678936</td>\n",
              "      <td>0.124199</td>\n",
              "      <td>0.039655</td>\n",
              "      <td>0.028710</td>\n",
              "      <td>0.002078</td>\n",
              "      <td>0.126256</td>\n",
              "      <td>0.000083</td>\n",
              "    </tr>\n",
              "  </tbody>\n",
              "</table>\n",
              "<p>100 rows × 9 columns</p>\n",
              "</div>"
            ],
            "text/plain": [
              "                                     document_path  ...    topic7\n",
              "document                                            ...          \n",
              "0         sn85066408_1903-04-27_ed-1_seq-1_ocr.txt  ...  0.162403\n",
              "1         sn85066408_1903-04-28_ed-1_seq-1_ocr.txt  ...  0.000070\n",
              "2         sn85066408_1903-04-29_ed-1_seq-1_ocr.txt  ...  0.255315\n",
              "3         sn85066408_1903-04-30_ed-1_seq-1_ocr.txt  ...  0.000100\n",
              "4         sn85066408_1903-05-01_ed-1_seq-1_ocr.txt  ...  0.000150\n",
              "...                                            ...  ...       ...\n",
              "95        sn85066408_1903-08-05_ed-1_seq-1_ocr.txt  ...  0.000289\n",
              "96        sn85066408_1903-08-06_ed-1_seq-1_ocr.txt  ...  0.000086\n",
              "97        sn85066408_1903-08-07_ed-1_seq-1_ocr.txt  ...  0.000076\n",
              "98        2012271201_1903-08-08_ed-1_seq-1_ocr.txt  ...  0.000142\n",
              "99        sn85066408_1903-08-08_ed-1_seq-1_ocr.txt  ...  0.000083\n",
              "\n",
              "[100 rows x 9 columns]"
            ]
          },
          "metadata": {
            "tags": []
          },
          "execution_count": 107
        }
      ]
    },
    {
      "cell_type": "markdown",
      "metadata": {
        "id": "Q1EdarG6YJFp",
        "colab_type": "text"
      },
      "source": [
        "### 3.1.2. Distribution per topic for the whole corpus"
      ]
    },
    {
      "cell_type": "code",
      "metadata": {
        "id": "6iBxEA9V_hXp",
        "colab_type": "code",
        "colab": {}
      },
      "source": [
        "sources['doc_length'] = sources['doc_lemmatized'].apply(lambda x: len(x))"
      ],
      "execution_count": 0,
      "outputs": []
    },
    {
      "cell_type": "code",
      "metadata": {
        "id": "UizB-FXbkyU5",
        "colab_type": "code",
        "colab": {}
      },
      "source": [
        "topic_frequency = distribution_gensim.mul(sources['doc_length'], axis=0).sum()"
      ],
      "execution_count": 0,
      "outputs": []
    },
    {
      "cell_type": "code",
      "metadata": {
        "id": "ZNUXaqG7lxgv",
        "colab_type": "code",
        "colab": {}
      },
      "source": [
        "topic_proportion = (topic_frequency / topic_frequency.sum()*100).sort_values(ascending=False)"
      ],
      "execution_count": 0,
      "outputs": []
    },
    {
      "cell_type": "code",
      "metadata": {
        "id": "zvWpCLlrmDt-",
        "colab_type": "code",
        "colab": {
          "base_uri": "https://localhost:8080/",
          "height": 170
        },
        "outputId": "bb39223b-0c33-47e4-e82e-bbc31eb78599"
      },
      "source": [
        "topic_proportion"
      ],
      "execution_count": 137,
      "outputs": [
        {
          "output_type": "execute_result",
          "data": {
            "text/plain": [
              "topic5    25.364300\n",
              "topic4    19.694167\n",
              "topic1    12.992584\n",
              "topic7    11.728509\n",
              "topic6    10.303622\n",
              "topic2     9.988825\n",
              "topic0     7.282110\n",
              "topic3     2.645883\n",
              "dtype: float64"
            ]
          },
          "metadata": {
            "tags": []
          },
          "execution_count": 137
        }
      ]
    },
    {
      "cell_type": "code",
      "metadata": {
        "id": "KBwF9mpuvtWF",
        "colab_type": "code",
        "colab": {}
      },
      "source": [
        "# dataframe with values to sort them by order of importance\n",
        "distribution_df_gensim = pd.DataFrame(topic_proportion, columns=['weight'])"
      ],
      "execution_count": 0,
      "outputs": []
    },
    {
      "cell_type": "code",
      "metadata": {
        "id": "7oZaYQwDr7Ss",
        "colab_type": "code",
        "colab": {
          "base_uri": "https://localhost:8080/",
          "height": 297
        },
        "outputId": "44aa68bc-a11a-4e56-af33-5a5515518a30"
      },
      "source": [
        "distribution_df_gensim"
      ],
      "execution_count": 140,
      "outputs": [
        {
          "output_type": "execute_result",
          "data": {
            "text/html": [
              "<div>\n",
              "<style scoped>\n",
              "    .dataframe tbody tr th:only-of-type {\n",
              "        vertical-align: middle;\n",
              "    }\n",
              "\n",
              "    .dataframe tbody tr th {\n",
              "        vertical-align: top;\n",
              "    }\n",
              "\n",
              "    .dataframe thead th {\n",
              "        text-align: right;\n",
              "    }\n",
              "</style>\n",
              "<table border=\"1\" class=\"dataframe\">\n",
              "  <thead>\n",
              "    <tr style=\"text-align: right;\">\n",
              "      <th></th>\n",
              "      <th>weight</th>\n",
              "    </tr>\n",
              "  </thead>\n",
              "  <tbody>\n",
              "    <tr>\n",
              "      <th>topic5</th>\n",
              "      <td>25.364300</td>\n",
              "    </tr>\n",
              "    <tr>\n",
              "      <th>topic4</th>\n",
              "      <td>19.694167</td>\n",
              "    </tr>\n",
              "    <tr>\n",
              "      <th>topic1</th>\n",
              "      <td>12.992584</td>\n",
              "    </tr>\n",
              "    <tr>\n",
              "      <th>topic7</th>\n",
              "      <td>11.728509</td>\n",
              "    </tr>\n",
              "    <tr>\n",
              "      <th>topic6</th>\n",
              "      <td>10.303622</td>\n",
              "    </tr>\n",
              "    <tr>\n",
              "      <th>topic2</th>\n",
              "      <td>9.988825</td>\n",
              "    </tr>\n",
              "    <tr>\n",
              "      <th>topic0</th>\n",
              "      <td>7.282110</td>\n",
              "    </tr>\n",
              "    <tr>\n",
              "      <th>topic3</th>\n",
              "      <td>2.645883</td>\n",
              "    </tr>\n",
              "  </tbody>\n",
              "</table>\n",
              "</div>"
            ],
            "text/plain": [
              "           weight\n",
              "topic5  25.364300\n",
              "topic4  19.694167\n",
              "topic1  12.992584\n",
              "topic7  11.728509\n",
              "topic6  10.303622\n",
              "topic2   9.988825\n",
              "topic0   7.282110\n",
              "topic3   2.645883"
            ]
          },
          "metadata": {
            "tags": []
          },
          "execution_count": 140
        }
      ]
    },
    {
      "cell_type": "code",
      "metadata": {
        "id": "jqRdWxvrx6d5",
        "colab_type": "code",
        "colab": {}
      },
      "source": [
        "distribution_df_gensim.index.name = \"topics\""
      ],
      "execution_count": 0,
      "outputs": []
    },
    {
      "cell_type": "code",
      "metadata": {
        "id": "1VbLHDuRsOfq",
        "colab_type": "code",
        "colab": {}
      },
      "source": [
        "topics = distribution_df_gensim.index.array"
      ],
      "execution_count": 0,
      "outputs": []
    },
    {
      "cell_type": "code",
      "metadata": {
        "id": "JGE5O2-_u4_I",
        "colab_type": "code",
        "outputId": "94992f16-13ec-460c-ec0b-2024c69d2684",
        "colab": {
          "base_uri": "https://localhost:8080/",
          "height": 466
        }
      },
      "source": [
        "plt.rcdefaults()\n",
        "fig, ax = plt.subplots()\n",
        "ax.barh(topics, distribution_df_gensim['weight'], align='center')\n",
        "ax.set_xlabel('Weight (%)')"
      ],
      "execution_count": 150,
      "outputs": [
        {
          "output_type": "execute_result",
          "data": {
            "text/plain": [
              "Text(0.5, 0, 'Weight (%)')"
            ]
          },
          "metadata": {
            "tags": []
          },
          "execution_count": 150
        },
        {
          "output_type": "display_data",
          "data": {
            "image/png": "[encoded data removed]",
            "text/plain": [
              "<Figure size 640x480 with 1 Axes>"
            ]
          },
          "metadata": {
            "tags": []
          }
        }
      ]
    },
    {
      "cell_type": "markdown",
      "metadata": {
        "id": "-R4PqRHS5gzM",
        "colab_type": "text"
      },
      "source": [
        "##3.2 Mallet"
      ]
    },
    {
      "cell_type": "markdown",
      "metadata": {
        "id": "edtyLQcA6XAi",
        "colab_type": "text"
      },
      "source": [
        "### 3.2.1 Distribution per topic and per document"
      ]
    },
    {
      "cell_type": "code",
      "metadata": {
        "id": "bDZ6nah2Zqj3",
        "colab_type": "code",
        "colab": {}
      },
      "source": [
        "%%capture\n",
        "#create variable to retranslate model to Gensim, to be able to compute distribution at a later stage\n",
        "numtopics = 8\n",
        "ldamodel = models.LdaModel(corpus, num_topics=numtopics, id2word = id2word, minimum_probability=0)\n",
        "ldamallet = model = gensim.models.wrappers.LdaMallet(mallet_path, corpus=corpus, num_topics=numtopics, id2word=id2word)\n",
        "ldamallet_to_gensim = gensim.models.wrappers.ldamallet.malletmodel2ldamodel(ldamallet)"
      ],
      "execution_count": 0,
      "outputs": []
    },
    {
      "cell_type": "code",
      "metadata": {
        "id": "Eq2qaN2rtdcZ",
        "colab_type": "code",
        "colab": {}
      },
      "source": [
        "doc_topic_weights_mallet = ldamallet_to_gensim.inference(corpus)[0]"
      ],
      "execution_count": 0,
      "outputs": []
    },
    {
      "cell_type": "code",
      "metadata": {
        "id": "fkTcBEItt15E",
        "colab_type": "code",
        "colab": {}
      },
      "source": [
        "doc_topic_dists_mallet = doc_topic_weights_mallet / doc_topic_weights_mallet.sum(axis=1)[:, None]"
      ],
      "execution_count": 0,
      "outputs": []
    },
    {
      "cell_type": "code",
      "metadata": {
        "id": "Qr-jOOZDuDf9",
        "colab_type": "code",
        "colab": {}
      },
      "source": [
        "distribution_mallet = pd.DataFrame(doc_topic_dists_mallet,columns=[f'topic{i}' for i in range(numtopics)])"
      ],
      "execution_count": 0,
      "outputs": []
    },
    {
      "cell_type": "code",
      "metadata": {
        "id": "vGTpKi7EuJSX",
        "colab_type": "code",
        "colab": {}
      },
      "source": [
        "distribution_mallet.index.name = 'document'"
      ],
      "execution_count": 0,
      "outputs": []
    },
    {
      "cell_type": "code",
      "metadata": {
        "id": "wpWshqQ-uhO1",
        "colab_type": "code",
        "colab": {
          "base_uri": "https://localhost:8080/",
          "height": 620
        },
        "outputId": "2f3b1a1f-5c09-42eb-9ead-6369cd547987"
      },
      "source": [
        "# add file names\n",
        "distribution_mallet_wfiles = distribution_mallet.copy()\n",
        "distribution_mallet_wfiles.insert(0, 'document_path', sources['file_name'])\n",
        "distribution_mallet_wfiles"
      ],
      "execution_count": 159,
      "outputs": [
        {
          "output_type": "execute_result",
          "data": {
            "text/html": [
              "<div>\n",
              "<style scoped>\n",
              "    .dataframe tbody tr th:only-of-type {\n",
              "        vertical-align: middle;\n",
              "    }\n",
              "\n",
              "    .dataframe tbody tr th {\n",
              "        vertical-align: top;\n",
              "    }\n",
              "\n",
              "    .dataframe thead th {\n",
              "        text-align: right;\n",
              "    }\n",
              "</style>\n",
              "<table border=\"1\" class=\"dataframe\">\n",
              "  <thead>\n",
              "    <tr style=\"text-align: right;\">\n",
              "      <th></th>\n",
              "      <th>document_path</th>\n",
              "      <th>topic0</th>\n",
              "      <th>topic1</th>\n",
              "      <th>topic2</th>\n",
              "      <th>topic3</th>\n",
              "      <th>topic4</th>\n",
              "      <th>topic5</th>\n",
              "      <th>topic6</th>\n",
              "      <th>topic7</th>\n",
              "    </tr>\n",
              "    <tr>\n",
              "      <th>document</th>\n",
              "      <th></th>\n",
              "      <th></th>\n",
              "      <th></th>\n",
              "      <th></th>\n",
              "      <th></th>\n",
              "      <th></th>\n",
              "      <th></th>\n",
              "      <th></th>\n",
              "      <th></th>\n",
              "    </tr>\n",
              "  </thead>\n",
              "  <tbody>\n",
              "    <tr>\n",
              "      <th>0</th>\n",
              "      <td>sn85066408_1903-04-27_ed-1_seq-1_ocr.txt</td>\n",
              "      <td>0.200439</td>\n",
              "      <td>0.094910</td>\n",
              "      <td>0.056177</td>\n",
              "      <td>0.060327</td>\n",
              "      <td>0.046570</td>\n",
              "      <td>0.131359</td>\n",
              "      <td>0.275242</td>\n",
              "      <td>0.134974</td>\n",
              "    </tr>\n",
              "    <tr>\n",
              "      <th>1</th>\n",
              "      <td>sn85066408_1903-04-28_ed-1_seq-1_ocr.txt</td>\n",
              "      <td>0.157147</td>\n",
              "      <td>0.103820</td>\n",
              "      <td>0.049159</td>\n",
              "      <td>0.049260</td>\n",
              "      <td>0.032337</td>\n",
              "      <td>0.168134</td>\n",
              "      <td>0.151856</td>\n",
              "      <td>0.288288</td>\n",
              "    </tr>\n",
              "    <tr>\n",
              "      <th>2</th>\n",
              "      <td>sn85066408_1903-04-29_ed-1_seq-1_ocr.txt</td>\n",
              "      <td>0.235506</td>\n",
              "      <td>0.074993</td>\n",
              "      <td>0.160834</td>\n",
              "      <td>0.034456</td>\n",
              "      <td>0.037809</td>\n",
              "      <td>0.066163</td>\n",
              "      <td>0.275204</td>\n",
              "      <td>0.115037</td>\n",
              "    </tr>\n",
              "    <tr>\n",
              "      <th>3</th>\n",
              "      <td>sn85066408_1903-04-30_ed-1_seq-1_ocr.txt</td>\n",
              "      <td>0.129978</td>\n",
              "      <td>0.091381</td>\n",
              "      <td>0.076096</td>\n",
              "      <td>0.044044</td>\n",
              "      <td>0.041132</td>\n",
              "      <td>0.130995</td>\n",
              "      <td>0.384672</td>\n",
              "      <td>0.101701</td>\n",
              "    </tr>\n",
              "    <tr>\n",
              "      <th>4</th>\n",
              "      <td>sn85066408_1903-05-01_ed-1_seq-1_ocr.txt</td>\n",
              "      <td>0.595012</td>\n",
              "      <td>0.014316</td>\n",
              "      <td>0.044717</td>\n",
              "      <td>0.139986</td>\n",
              "      <td>0.019309</td>\n",
              "      <td>0.068236</td>\n",
              "      <td>0.083716</td>\n",
              "      <td>0.034708</td>\n",
              "    </tr>\n",
              "    <tr>\n",
              "      <th>...</th>\n",
              "      <td>...</td>\n",
              "      <td>...</td>\n",
              "      <td>...</td>\n",
              "      <td>...</td>\n",
              "      <td>...</td>\n",
              "      <td>...</td>\n",
              "      <td>...</td>\n",
              "      <td>...</td>\n",
              "      <td>...</td>\n",
              "    </tr>\n",
              "    <tr>\n",
              "      <th>95</th>\n",
              "      <td>sn85066408_1903-08-05_ed-1_seq-1_ocr.txt</td>\n",
              "      <td>0.159379</td>\n",
              "      <td>0.041782</td>\n",
              "      <td>0.067414</td>\n",
              "      <td>0.027833</td>\n",
              "      <td>0.408906</td>\n",
              "      <td>0.135216</td>\n",
              "      <td>0.127481</td>\n",
              "      <td>0.031989</td>\n",
              "    </tr>\n",
              "    <tr>\n",
              "      <th>96</th>\n",
              "      <td>sn85066408_1903-08-06_ed-1_seq-1_ocr.txt</td>\n",
              "      <td>0.102871</td>\n",
              "      <td>0.066299</td>\n",
              "      <td>0.062895</td>\n",
              "      <td>0.053027</td>\n",
              "      <td>0.205600</td>\n",
              "      <td>0.118500</td>\n",
              "      <td>0.075974</td>\n",
              "      <td>0.314834</td>\n",
              "    </tr>\n",
              "    <tr>\n",
              "      <th>97</th>\n",
              "      <td>sn85066408_1903-08-07_ed-1_seq-1_ocr.txt</td>\n",
              "      <td>0.142841</td>\n",
              "      <td>0.028958</td>\n",
              "      <td>0.131414</td>\n",
              "      <td>0.067796</td>\n",
              "      <td>0.211199</td>\n",
              "      <td>0.159214</td>\n",
              "      <td>0.098523</td>\n",
              "      <td>0.160054</td>\n",
              "    </tr>\n",
              "    <tr>\n",
              "      <th>98</th>\n",
              "      <td>2012271201_1903-08-08_ed-1_seq-1_ocr.txt</td>\n",
              "      <td>0.095582</td>\n",
              "      <td>0.025807</td>\n",
              "      <td>0.027318</td>\n",
              "      <td>0.655909</td>\n",
              "      <td>0.019611</td>\n",
              "      <td>0.113968</td>\n",
              "      <td>0.020691</td>\n",
              "      <td>0.041114</td>\n",
              "    </tr>\n",
              "    <tr>\n",
              "      <th>99</th>\n",
              "      <td>sn85066408_1903-08-08_ed-1_seq-1_ocr.txt</td>\n",
              "      <td>0.270405</td>\n",
              "      <td>0.062306</td>\n",
              "      <td>0.025383</td>\n",
              "      <td>0.037857</td>\n",
              "      <td>0.130796</td>\n",
              "      <td>0.221299</td>\n",
              "      <td>0.116837</td>\n",
              "      <td>0.135116</td>\n",
              "    </tr>\n",
              "  </tbody>\n",
              "</table>\n",
              "<p>100 rows × 9 columns</p>\n",
              "</div>"
            ],
            "text/plain": [
              "                                     document_path  ...    topic7\n",
              "document                                            ...          \n",
              "0         sn85066408_1903-04-27_ed-1_seq-1_ocr.txt  ...  0.134974\n",
              "1         sn85066408_1903-04-28_ed-1_seq-1_ocr.txt  ...  0.288288\n",
              "2         sn85066408_1903-04-29_ed-1_seq-1_ocr.txt  ...  0.115037\n",
              "3         sn85066408_1903-04-30_ed-1_seq-1_ocr.txt  ...  0.101701\n",
              "4         sn85066408_1903-05-01_ed-1_seq-1_ocr.txt  ...  0.034708\n",
              "...                                            ...  ...       ...\n",
              "95        sn85066408_1903-08-05_ed-1_seq-1_ocr.txt  ...  0.031989\n",
              "96        sn85066408_1903-08-06_ed-1_seq-1_ocr.txt  ...  0.314834\n",
              "97        sn85066408_1903-08-07_ed-1_seq-1_ocr.txt  ...  0.160054\n",
              "98        2012271201_1903-08-08_ed-1_seq-1_ocr.txt  ...  0.041114\n",
              "99        sn85066408_1903-08-08_ed-1_seq-1_ocr.txt  ...  0.135116\n",
              "\n",
              "[100 rows x 9 columns]"
            ]
          },
          "metadata": {
            "tags": []
          },
          "execution_count": 159
        }
      ]
    },
    {
      "cell_type": "markdown",
      "metadata": {
        "id": "O_2y12da6ern",
        "colab_type": "text"
      },
      "source": [
        "### 3.2.2. Distribution per topic for the whole corpus"
      ]
    },
    {
      "cell_type": "code",
      "metadata": {
        "id": "q2cVO-ybvOc5",
        "colab_type": "code",
        "colab": {}
      },
      "source": [
        "topic_frequency_mallet = distribution_mallet.mul(sources['doc_length'], axis=0).sum()"
      ],
      "execution_count": 0,
      "outputs": []
    },
    {
      "cell_type": "code",
      "metadata": {
        "id": "ZThReYvGvaCK",
        "colab_type": "code",
        "colab": {}
      },
      "source": [
        "topic_proportion_mallet = (topic_frequency_mallet / topic_frequency_mallet.sum()*100).sort_values(ascending=False)"
      ],
      "execution_count": 0,
      "outputs": []
    },
    {
      "cell_type": "code",
      "metadata": {
        "id": "m866RSUxvpqY",
        "colab_type": "code",
        "colab": {}
      },
      "source": [
        "distribution_df_mallet = pd.DataFrame(topic_proportion_mallet, columns=['weight'])"
      ],
      "execution_count": 0,
      "outputs": []
    },
    {
      "cell_type": "code",
      "metadata": {
        "id": "LA9QvUMuwK5l",
        "colab_type": "code",
        "colab": {}
      },
      "source": [
        "distribution_df_mallet.index.name = \"topics\""
      ],
      "execution_count": 0,
      "outputs": []
    },
    {
      "cell_type": "code",
      "metadata": {
        "id": "M4A8YFU8wRHK",
        "colab_type": "code",
        "colab": {}
      },
      "source": [
        "topics_mallet = distribution_df_mallet.index.array"
      ],
      "execution_count": 0,
      "outputs": []
    },
    {
      "cell_type": "code",
      "metadata": {
        "id": "fQKghPGT78Uz",
        "colab_type": "code",
        "outputId": "eda97655-caa6-4965-8c76-63e0034a14d4",
        "colab": {
          "base_uri": "https://localhost:8080/",
          "height": 466
        }
      },
      "source": [
        "plt.rcdefaults()\n",
        "fig, ax = plt.subplots()\n",
        "ax.barh(topics_mallet, distribution_df_mallet['weight'], align='center')\n",
        "ax.set_xlabel('Weight (%)')"
      ],
      "execution_count": 166,
      "outputs": [
        {
          "output_type": "execute_result",
          "data": {
            "text/plain": [
              "Text(0.5, 0, 'Weight (%)')"
            ]
          },
          "metadata": {
            "tags": []
          },
          "execution_count": 166
        },
        {
          "output_type": "display_data",
          "data": {
            "image/png": "[encoded data removed]",
            "text/plain": [
              "<Figure size 640x480 with 1 Axes>"
            ]
          },
          "metadata": {
            "tags": []
          }
        }
      ]
    },
    {
      "cell_type": "markdown",
      "metadata": {
        "id": "-VxrV7VlMnC-",
        "colab_type": "text"
      },
      "source": [
        "# Topics weight over time"
      ]
    },
    {
      "cell_type": "markdown",
      "metadata": {
        "id": "dRMKU0HeNHW-",
        "colab_type": "text"
      },
      "source": [
        "## 4.1 Aggregate document weights"
      ]
    },
    {
      "cell_type": "code",
      "metadata": {
        "id": "Q6Jux73gNQT2",
        "colab_type": "code",
        "colab": {}
      },
      "source": [
        "# The goal is to be able to group the data per month"
      ],
      "execution_count": 0,
      "outputs": []
    },
    {
      "cell_type": "code",
      "metadata": {
        "id": "Y4ZElg6PQMgg",
        "colab_type": "code",
        "colab": {}
      },
      "source": [
        "import re"
      ],
      "execution_count": 0,
      "outputs": []
    },
    {
      "cell_type": "code",
      "metadata": {
        "id": "yU_H1RZPOhrf",
        "colab_type": "code",
        "colab": {}
      },
      "source": [
        "# function to retrieve date from file name\n",
        "def get_date(file):\n",
        "  date_match = re.findall(r'_(\\d{4}-\\d{2}-\\d{2})_',file)\n",
        "  return date_match[0]\n",
        "\n",
        "# function to retrieve year from file name\n",
        "def get_year(file):\n",
        "  year_match = re.findall(r'_(\\d{4})-\\d{2}-\\d{2}_',file)\n",
        "  return year_match[0]\n",
        "\n",
        "# function to retrieve month from file name\n",
        "def get_month(file):\n",
        "  month_match = re.findall(r'_\\d{4}-(\\d{2})-\\d{2}_',file)\n",
        "  return month_match[0]"
      ],
      "execution_count": 0,
      "outputs": []
    },
    {
      "cell_type": "code",
      "metadata": {
        "id": "0xlVn3ftNw_W",
        "colab_type": "code",
        "colab": {}
      },
      "source": [
        "distribution_gensim_wfiles['date'] = distribution_gensim_wfiles['document_path'].apply(lambda x: get_date(x))\n",
        "distribution_gensim_wfiles['year'] = distribution_gensim_wfiles['document_path'].apply(lambda x: get_year(x))\n",
        "distribution_gensim_wfiles['month'] = distribution_gensim_wfiles['document_path'].apply(lambda x: get_month(x))"
      ],
      "execution_count": 0,
      "outputs": []
    },
    {
      "cell_type": "code",
      "metadata": {
        "id": "PUK2_xP_Mc7N",
        "colab_type": "code",
        "colab": {}
      },
      "source": [
        "gensim_groupby = distribution_gensim_wfiles.copy()"
      ],
      "execution_count": 0,
      "outputs": []
    },
    {
      "cell_type": "code",
      "metadata": {
        "id": "LWdcFIJBMjgq",
        "colab_type": "code",
        "colab": {}
      },
      "source": [
        "# drop columns that won't be needed at this stage\n",
        "gensim_groupby = gensim_groupby.drop(['document_path', 'date'], axis=1)"
      ],
      "execution_count": 0,
      "outputs": []
    },
    {
      "cell_type": "code",
      "metadata": {
        "id": "3qebDNKXoV7L",
        "colab_type": "code",
        "colab": {}
      },
      "source": [
        "# group by year and month \n",
        "distribution_month = gensim_groupby.groupby(['year','month']).sum().reset_index()"
      ],
      "execution_count": 0,
      "outputs": []
    },
    {
      "cell_type": "code",
      "metadata": {
        "id": "u43koiEAQUew",
        "colab_type": "code",
        "outputId": "38f9abbc-7556-475a-bdc2-68f78f7ef0c1",
        "colab": {
          "base_uri": "https://localhost:8080/",
          "height": 204
        }
      },
      "source": [
        "distribution_month"
      ],
      "execution_count": 175,
      "outputs": [
        {
          "output_type": "execute_result",
          "data": {
            "text/html": [
              "<div>\n",
              "<style scoped>\n",
              "    .dataframe tbody tr th:only-of-type {\n",
              "        vertical-align: middle;\n",
              "    }\n",
              "\n",
              "    .dataframe tbody tr th {\n",
              "        vertical-align: top;\n",
              "    }\n",
              "\n",
              "    .dataframe thead th {\n",
              "        text-align: right;\n",
              "    }\n",
              "</style>\n",
              "<table border=\"1\" class=\"dataframe\">\n",
              "  <thead>\n",
              "    <tr style=\"text-align: right;\">\n",
              "      <th></th>\n",
              "      <th>year</th>\n",
              "      <th>month</th>\n",
              "      <th>topic0</th>\n",
              "      <th>topic1</th>\n",
              "      <th>topic2</th>\n",
              "      <th>topic3</th>\n",
              "      <th>topic4</th>\n",
              "      <th>topic5</th>\n",
              "      <th>topic6</th>\n",
              "      <th>topic7</th>\n",
              "    </tr>\n",
              "  </thead>\n",
              "  <tbody>\n",
              "    <tr>\n",
              "      <th>0</th>\n",
              "      <td>1903</td>\n",
              "      <td>04</td>\n",
              "      <td>0.014673</td>\n",
              "      <td>1.742224</td>\n",
              "      <td>0.000385</td>\n",
              "      <td>0.000341</td>\n",
              "      <td>1.813926</td>\n",
              "      <td>0.010221</td>\n",
              "      <td>0.000341</td>\n",
              "      <td>0.417888</td>\n",
              "    </tr>\n",
              "    <tr>\n",
              "      <th>1</th>\n",
              "      <td>1903</td>\n",
              "      <td>05</td>\n",
              "      <td>3.345623</td>\n",
              "      <td>2.106124</td>\n",
              "      <td>2.030354</td>\n",
              "      <td>0.631116</td>\n",
              "      <td>9.200397</td>\n",
              "      <td>3.333031</td>\n",
              "      <td>1.349021</td>\n",
              "      <td>4.004335</td>\n",
              "    </tr>\n",
              "    <tr>\n",
              "      <th>2</th>\n",
              "      <td>1903</td>\n",
              "      <td>06</td>\n",
              "      <td>1.420591</td>\n",
              "      <td>5.036722</td>\n",
              "      <td>5.720454</td>\n",
              "      <td>1.345795</td>\n",
              "      <td>5.649325</td>\n",
              "      <td>5.042119</td>\n",
              "      <td>4.349817</td>\n",
              "      <td>1.435178</td>\n",
              "    </tr>\n",
              "    <tr>\n",
              "      <th>3</th>\n",
              "      <td>1903</td>\n",
              "      <td>07</td>\n",
              "      <td>1.116823</td>\n",
              "      <td>2.164266</td>\n",
              "      <td>3.044721</td>\n",
              "      <td>0.391229</td>\n",
              "      <td>3.141787</td>\n",
              "      <td>13.188088</td>\n",
              "      <td>2.096852</td>\n",
              "      <td>5.856235</td>\n",
              "    </tr>\n",
              "    <tr>\n",
              "      <th>4</th>\n",
              "      <td>1903</td>\n",
              "      <td>08</td>\n",
              "      <td>0.877993</td>\n",
              "      <td>1.720331</td>\n",
              "      <td>1.249242</td>\n",
              "      <td>0.040626</td>\n",
              "      <td>0.132130</td>\n",
              "      <td>2.013672</td>\n",
              "      <td>2.611822</td>\n",
              "      <td>0.354184</td>\n",
              "    </tr>\n",
              "  </tbody>\n",
              "</table>\n",
              "</div>"
            ],
            "text/plain": [
              "   year month    topic0    topic1  ...    topic4     topic5    topic6    topic7\n",
              "0  1903    04  0.014673  1.742224  ...  1.813926   0.010221  0.000341  0.417888\n",
              "1  1903    05  3.345623  2.106124  ...  9.200397   3.333031  1.349021  4.004335\n",
              "2  1903    06  1.420591  5.036722  ...  5.649325   5.042119  4.349817  1.435178\n",
              "3  1903    07  1.116823  2.164266  ...  3.141787  13.188088  2.096852  5.856235\n",
              "4  1903    08  0.877993  1.720331  ...  0.132130   2.013672  2.611822  0.354184\n",
              "\n",
              "[5 rows x 10 columns]"
            ]
          },
          "metadata": {
            "tags": []
          },
          "execution_count": 175
        }
      ]
    },
    {
      "cell_type": "code",
      "metadata": {
        "id": "mOHunkpFQ8z0",
        "colab_type": "code",
        "colab": {}
      },
      "source": [
        "dates = []\n",
        "for i in range(len(distribution_month)):\n",
        "  year = distribution_month['year'][i]\n",
        "  month = distribution_month['month'][i]\n",
        "  dates.append(f'{month}/{year}')"
      ],
      "execution_count": 0,
      "outputs": []
    },
    {
      "cell_type": "code",
      "metadata": {
        "id": "5a6-8y7gSs2X",
        "colab_type": "code",
        "outputId": "b26fd356-a8ec-47b8-a076-8bb4509b0e91",
        "colab": {
          "base_uri": "https://localhost:8080/",
          "height": 447
        }
      },
      "source": [
        "# quick first overview\n",
        "plt.plot(dates, distribution_month['topic0'], label=\"Topic 0\")\n",
        "plt.plot(dates, distribution_month['topic1'], label=\"Topic 1\")\n",
        "plt.plot(dates, distribution_month['topic2'], label=\"Topic 2\")\n",
        "plt.plot(dates, distribution_month['topic3'], label=\"Topic 3\")\n",
        "plt.plot(dates, distribution_month['topic4'], label=\"Topic 4\")\n",
        "plt.plot(dates, distribution_month['topic5'], label=\"Topic 5\")\n",
        "plt.legend()"
      ],
      "execution_count": 177,
      "outputs": [
        {
          "output_type": "execute_result",
          "data": {
            "text/plain": [
              "<matplotlib.legend.Legend at 0x7f59033cc198>"
            ]
          },
          "metadata": {
            "tags": []
          },
          "execution_count": 177
        },
        {
          "output_type": "display_data",
          "data": {
            "image/png": "[encoded data removed]",
            "text/plain": [
              "<Figure size 640x480 with 1 Axes>"
            ]
          },
          "metadata": {
            "tags": []
          }
        }
      ]
    }
  ]
}
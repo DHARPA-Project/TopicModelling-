{
  "nbformat": 4,
  "nbformat_minor": 0,
  "metadata": {
    "colab": {
      "name": "topic_modelling_gensim_mallet.ipynb",
      "provenance": [],
      "collapsed_sections": [],
      "toc_visible": true
    },
    "kernelspec": {
      "name": "python3",
      "display_name": "Python 3"
    }
  },
  "cells": [
    {
      "cell_type": "code",
      "metadata": {
        "id": "7FwlEnNvQJNG",
        "colab_type": "code",
        "colab": {}
      },
      "source": [
        "import json\n",
        "import requests\n",
        "import urllib"
      ],
      "execution_count": 0,
      "outputs": []
    },
    {
      "cell_type": "markdown",
      "metadata": {
        "id": "6AZPes5RSYG2",
        "colab_type": "text"
      },
      "source": [
        "# 0. Preliminary step to get sample data\n",
        "\n"
      ]
    },
    {
      "cell_type": "markdown",
      "metadata": {
        "id": "WaRiBwgFTg2p",
        "colab_type": "text"
      },
      "source": [
        "This preliminary step is reproducing Lorella's workflow Python file:\n",
        "https://i-lab.public.data.uu.nl/vault-ocex/ChroniclItaly%20-%20Italian%20American%20newspapers%20corpus%20from%201898%20to%201920%5B1529330521%5D/original/\n",
        "I just added a folder \"data_1\" to keep all files in one folder"
      ]
    },
    {
      "cell_type": "code",
      "metadata": {
        "id": "VK81EVJim0Jc",
        "colab_type": "code",
        "colab": {}
      },
      "source": [
        "mkdir 'data1'"
      ],
      "execution_count": 0,
      "outputs": []
    },
    {
      "cell_type": "code",
      "metadata": {
        "id": "9O_c4pYzXsP_",
        "colab_type": "code",
        "colab": {}
      },
      "source": [
        "# Base URL\n",
        "chronam = 'https://chroniclingamerica.loc.gov/'\n",
        "\n",
        "# Chronicling America search results\n",
        "results = 'https://chroniclingamerica.loc.gov/search/pages/results/?date1=1880&date2=1920&searchType=advanced&language=ita&sequence=1&lccn=2012271201&lccn=sn85066408&lccn=sn85055164&lccn=sn85054967&lccn=sn88064299&lccn=sn84037024&lccn=sn84037025&lccn=sn86092310&proxdistance=5&state=California&state=District+of+Columbia&state=Massachusetts&state=Pennsylvania&state=Piedmont&state=Vermont&state=West+Virginia&rows=100&ortext=&proxtext=&phrasetext=&andtext=&dateFilterType=yearRange&page=11&sort=date'\n",
        "\n",
        "# Count to keep track of downloaded files\n",
        "count = 0\n",
        "\n",
        "# Gets search results in JSON format\n",
        "results_json = results + '&format=json'\n"
      ],
      "execution_count": 0,
      "outputs": []
    },
    {
      "cell_type": "code",
      "metadata": {
        "id": "DQwqRYbydrq4",
        "colab_type": "code",
        "colab": {}
      },
      "source": [
        "# Returns JSON \n",
        "def get_json(url):\n",
        "    data = requests.get(url)\n",
        "    return(json.loads(data.content))\n",
        "    \n",
        "data = get_json(results_json)"
      ],
      "execution_count": 0,
      "outputs": []
    },
    {
      "cell_type": "code",
      "metadata": {
        "id": "Xjv32dwDndnw",
        "colab_type": "code",
        "colab": {}
      },
      "source": [
        "# Cycle through JSON results\n",
        "for page in data['items']:\n",
        "    # Create URL\n",
        "    hit = str(page['id'])\n",
        "    seed = hit + 'ocr.txt'\n",
        "    download_url = chronam + seed\n",
        " \n",
        "    # Create file name\n",
        "    file_name = download_url.replace('/', '_')\n",
        "    file_name = 'data1/' + file_name[41:]\n",
        "    \n",
        "    # Download .txt of the page\n",
        "    urllib.request.urlretrieve(download_url, str(file_name))\n",
        "    count += 1"
      ],
      "execution_count": 0,
      "outputs": []
    },
    {
      "cell_type": "markdown",
      "metadata": {
        "id": "AUvuIpuzT8ke",
        "colab_type": "text"
      },
      "source": [
        "# 1. Data preparation"
      ]
    },
    {
      "cell_type": "markdown",
      "metadata": {
        "id": "MTOrDXSYUIc3",
        "colab_type": "text"
      },
      "source": [
        "## 1.1. Grouping all texts files\n",
        "A dataframe is first created to keep individual files at their initial state, and the name of each file"
      ]
    },
    {
      "cell_type": "code",
      "metadata": {
        "id": "u857KfY9WXN_",
        "colab_type": "code",
        "colab": {}
      },
      "source": [
        "import os\n",
        "import pandas as pd"
      ],
      "execution_count": 0,
      "outputs": []
    },
    {
      "cell_type": "code",
      "metadata": {
        "id": "h5FNWdVJT1v8",
        "colab_type": "code",
        "colab": {}
      },
      "source": [
        "#list of the file names\n",
        "files_list = os.listdir('data1')"
      ],
      "execution_count": 0,
      "outputs": []
    },
    {
      "cell_type": "code",
      "metadata": {
        "id": "8lLD0OpiXv5Y",
        "colab_type": "code",
        "colab": {}
      },
      "source": [
        "#insert file names into a df\n",
        "sources = pd.DataFrame(files_list, columns=['file_name'])"
      ],
      "execution_count": 0,
      "outputs": []
    },
    {
      "cell_type": "code",
      "metadata": {
        "id": "0PgOwPnqCfAe",
        "colab_type": "code",
        "colab": {}
      },
      "source": [
        "#function to read the content of the text files\n",
        "def readTxtContent(fileName):\n",
        "  with open('data1/' + fileName, 'r') as file:\n",
        "    return ' ' + file.read().replace('\\n', ' ') + ' '"
      ],
      "execution_count": 0,
      "outputs": []
    },
    {
      "cell_type": "code",
      "metadata": {
        "id": "MZEVIKHziQv2",
        "colab_type": "code",
        "colab": {}
      },
      "source": [
        "# adding a column to the dataframe containing file content\n",
        "sources['file_content'] = sources['file_name'].apply(lambda x: readTxtContent(x))"
      ],
      "execution_count": 0,
      "outputs": []
    },
    {
      "cell_type": "code",
      "metadata": {
        "id": "4ffdAsOXQSBe",
        "colab_type": "code",
        "outputId": "f38162ef-104d-41e3-f74e-037c64cd03f3",
        "colab": {
          "base_uri": "https://localhost:8080/",
          "height": 34
        }
      },
      "source": [
        "# for verification purposes later, count the nr of characters for each content\n",
        "sources['file_len'] = sources['file_content'].apply(lambda x: len(x))\n",
        "sources['file_len'].sum()"
      ],
      "execution_count": 13,
      "outputs": [
        {
          "output_type": "execute_result",
          "data": {
            "text/plain": [
              "1779770"
            ]
          },
          "metadata": {
            "tags": []
          },
          "execution_count": 13
        }
      ]
    },
    {
      "cell_type": "code",
      "metadata": {
        "id": "QYRvEvHbK32i",
        "colab_type": "code",
        "colab": {}
      },
      "source": [
        "# variable containing the documents separately\n",
        "corpus = sources['file_content']"
      ],
      "execution_count": 0,
      "outputs": []
    },
    {
      "cell_type": "code",
      "metadata": {
        "id": "wwTwsGsED8uU",
        "colab_type": "code",
        "colab": {}
      },
      "source": [
        "# variable containing all documents together\n",
        "all_texts = ''\n",
        "for i in range(len(sources)):\n",
        "  all_texts += sources['file_content'][i]"
      ],
      "execution_count": 0,
      "outputs": []
    },
    {
      "cell_type": "code",
      "metadata": {
        "id": "vBu87u_SSM-9",
        "colab_type": "code",
        "outputId": "f3b7c7e5-d016-46de-e026-95e2bd535102",
        "colab": {
          "base_uri": "https://localhost:8080/",
          "height": 34
        }
      },
      "source": [
        "# check length\n",
        "len(all_texts)"
      ],
      "execution_count": 16,
      "outputs": [
        {
          "output_type": "execute_result",
          "data": {
            "text/plain": [
              "1779770"
            ]
          },
          "metadata": {
            "tags": []
          },
          "execution_count": 16
        }
      ]
    },
    {
      "cell_type": "markdown",
      "metadata": {
        "id": "ybCetXHi9m-y",
        "colab_type": "text"
      },
      "source": [
        "## 1.2 Removing stop words, punctuation, short words"
      ]
    },
    {
      "cell_type": "code",
      "metadata": {
        "id": "6e-8sf7RayKz",
        "colab_type": "code",
        "colab": {}
      },
      "source": [
        "%%capture\n",
        "import nltk\n",
        "nltk.download('punkt')\n",
        "nltk.download('stopwords')\n",
        "from nltk.corpus import stopwords\n",
        "from nltk.tokenize import word_tokenize"
      ],
      "execution_count": 0,
      "outputs": []
    },
    {
      "cell_type": "code",
      "metadata": {
        "id": "a1MbU3_seOtJ",
        "colab_type": "code",
        "colab": {}
      },
      "source": [
        "# add tokenized documents in dataframe\n",
        "sources['tokens'] = sources['file_content'].apply(lambda x: nltk.word_tokenize(x))"
      ],
      "execution_count": 0,
      "outputs": []
    },
    {
      "cell_type": "code",
      "metadata": {
        "id": "vh3ikvdKfQ60",
        "colab_type": "code",
        "colab": {}
      },
      "source": [
        "# add new column in df with processed tokens\n",
        "sources['tokens_prep'] = sources['tokens'].apply(lambda x: [w.lower() for w in x if (w.isalnum() and len(w) > 3 )])"
      ],
      "execution_count": 0,
      "outputs": []
    },
    {
      "cell_type": "code",
      "metadata": {
        "id": "3IrR5gbba5ho",
        "colab_type": "code",
        "colab": {}
      },
      "source": [
        "# these lines are useful if we want to provide alternate stop words lists (NLTK)\n",
        "# show list of default NLTK Italian stopwords\n",
        "# stopwords.words('italian')\n",
        "# ital_stopwords = stopwords.words('italian')\n",
        "# to append list of words added by user: ital_stopwords.extend(user_input)\n",
        "# to remove words: ital_stopwords.remove(user_input)"
      ],
      "execution_count": 0,
      "outputs": []
    },
    {
      "cell_type": "code",
      "metadata": {
        "id": "8Qw4i2O_CTdQ",
        "colab_type": "code",
        "colab": {}
      },
      "source": [
        "# spacy list of Stop words (seems to be more complete than NLTK)\n",
        "import spacy\n",
        "from spacy.lang.it.stop_words import STOP_WORDS"
      ],
      "execution_count": 0,
      "outputs": []
    },
    {
      "cell_type": "code",
      "metadata": {
        "id": "5SBUnxlpCxEa",
        "colab_type": "code",
        "colab": {}
      },
      "source": [
        "spacy_it_sw = STOP_WORDS"
      ],
      "execution_count": 0,
      "outputs": []
    },
    {
      "cell_type": "code",
      "metadata": {
        "id": "jDvREaSSiM1v",
        "colab_type": "code",
        "colab": {}
      },
      "source": [
        "# add column with tokenized documents without sw\n",
        "sources['tokens_prep_nostop'] = sources['tokens_prep'].apply(lambda x: [w for w in x if not w in spacy_it_sw])"
      ],
      "execution_count": 0,
      "outputs": []
    },
    {
      "cell_type": "markdown",
      "metadata": {
        "id": "hKs7aXWLbVWo",
        "colab_type": "text"
      },
      "source": [
        "## 1.3 Stem"
      ]
    },
    {
      "cell_type": "code",
      "metadata": {
        "id": "uyl0C-xkbLiB",
        "colab_type": "code",
        "colab": {}
      },
      "source": [
        "from nltk.stem.snowball import SnowballStemmer"
      ],
      "execution_count": 0,
      "outputs": []
    },
    {
      "cell_type": "code",
      "metadata": {
        "id": "euUXP7UHbaN-",
        "colab_type": "code",
        "colab": {}
      },
      "source": [
        "#initialize with needed language\n",
        "stemmer = SnowballStemmer(\"italian\")"
      ],
      "execution_count": 0,
      "outputs": []
    },
    {
      "cell_type": "code",
      "metadata": {
        "id": "CljkLrRmjaot",
        "colab_type": "code",
        "colab": {}
      },
      "source": [
        "# add column with stemmed tokens\n",
        "sources['tokens_stemmed'] = sources['tokens_prep_nostop'].apply(lambda x: [stemmer.stem(w) for w in x])"
      ],
      "execution_count": 0,
      "outputs": []
    },
    {
      "cell_type": "markdown",
      "metadata": {
        "id": "YHKQAqemcgYz",
        "colab_type": "text"
      },
      "source": [
        "## 1.4 Lemmatize"
      ]
    },
    {
      "cell_type": "code",
      "metadata": {
        "id": "Ob8M804chYgh",
        "colab_type": "code",
        "colab": {}
      },
      "source": [
        "# Lemmatization is available in multiple languages in Spacy and not in NLTK (only English)\n",
        "# With Spacy, lemmatization is available for 10 languages. There's also a multi-language option that\n",
        "# should be tested if additional languages are needed"
      ],
      "execution_count": 0,
      "outputs": []
    },
    {
      "cell_type": "code",
      "metadata": {
        "id": "2QAPblFUwf3F",
        "colab_type": "code",
        "colab": {}
      },
      "source": [
        "%%capture\n",
        "!python -m spacy download it_core_news_sm"
      ],
      "execution_count": 0,
      "outputs": []
    },
    {
      "cell_type": "code",
      "metadata": {
        "id": "8al8riPXA98n",
        "colab_type": "code",
        "colab": {}
      },
      "source": [
        "import it_core_news_sm\n",
        "it_nlp = it_core_news_sm.load(disable=['tagger', 'parser', 'ner'])"
      ],
      "execution_count": 0,
      "outputs": []
    },
    {
      "cell_type": "code",
      "metadata": {
        "id": "YZHdI_8tmv3y",
        "colab_type": "code",
        "colab": {}
      },
      "source": [
        "# lemmatization function\n",
        "def lemmatize(doc):\n",
        "  lemmatized_doc = []\n",
        "  for w in doc:\n",
        "    w_lemma = [token.lemma_ for token in it_nlp(w)]\n",
        "    lemmatized_doc.append(w_lemma[0])\n",
        "  return lemmatized_doc"
      ],
      "execution_count": 0,
      "outputs": []
    },
    {
      "cell_type": "code",
      "metadata": {
        "id": "k-mYWKgSk9CW",
        "colab_type": "code",
        "colab": {}
      },
      "source": [
        "# add column with lemmatized tokens\n",
        "sources['tokens_lemmatized'] = sources['tokens_prep_nostop'].apply(lambda x: lemmatize(x))"
      ],
      "execution_count": 0,
      "outputs": []
    },
    {
      "cell_type": "code",
      "metadata": {
        "id": "tvl0MO_FH5yH",
        "colab_type": "code",
        "colab": {}
      },
      "source": [
        "# variable with lemmatized tokens\n",
        "lemmatized_corpus = sources['tokens_lemmatized']"
      ],
      "execution_count": 0,
      "outputs": []
    },
    {
      "cell_type": "markdown",
      "metadata": {
        "id": "o8TRLnFPK6p4",
        "colab_type": "text"
      },
      "source": [
        "# 2. Topics with LDA"
      ]
    },
    {
      "cell_type": "code",
      "metadata": {
        "id": "N0NrktL1el7E",
        "colab_type": "code",
        "colab": {}
      },
      "source": [
        "%%capture\n",
        "# installation setup that works for Mallet: https://github.com/polsci/colab-gensim-mallet/blob/master/topic-modeling-with-colab-gensim-mallet.ipynb\n",
        "def install_java():\n",
        "  !apt-get install -y openjdk-8-jdk-headless -qq > /dev/null      #install openjdk\n",
        "  os.environ[\"JAVA_HOME\"] = \"/usr/lib/jvm/java-8-openjdk-amd64\"     #set environment variable\n",
        "  !java -version       #check java version\n",
        "install_java()"
      ],
      "execution_count": 0,
      "outputs": []
    },
    {
      "cell_type": "code",
      "metadata": {
        "id": "IH7oPbxGe46O",
        "colab_type": "code",
        "colab": {}
      },
      "source": [
        "%%capture\n",
        "!wget http://mallet.cs.umass.edu/dist/mallet-2.0.8.zip\n",
        "!unzip mallet-2.0.8.zip"
      ],
      "execution_count": 0,
      "outputs": []
    },
    {
      "cell_type": "code",
      "metadata": {
        "id": "XD1MaCjRfKOs",
        "colab_type": "code",
        "colab": {}
      },
      "source": [
        "os.environ['MALLET_HOME'] = '/content/mallet-2.0.8'\n",
        "mallet_path = '/content/mallet-2.0.8/bin/mallet'"
      ],
      "execution_count": 0,
      "outputs": []
    },
    {
      "cell_type": "code",
      "metadata": {
        "id": "Fr1F0QNdOxy3",
        "colab_type": "code",
        "colab": {}
      },
      "source": [
        "#Gensim installation\n",
        "import gensim\n",
        "from gensim.test.utils import common_corpus, common_dictionary\n",
        "from gensim import corpora, models\n",
        "from gensim.models.wrappers import LdaMallet"
      ],
      "execution_count": 0,
      "outputs": []
    },
    {
      "cell_type": "markdown",
      "metadata": {
        "id": "530LX-OLRDcP",
        "colab_type": "text"
      },
      "source": [
        "## 2.1 Preliminary steps to run LDA\n",
        "\n"
      ]
    },
    {
      "cell_type": "markdown",
      "metadata": {
        "id": "GZlLjmvsQAMy",
        "colab_type": "text"
      },
      "source": [
        "### 2.1.1 Bag of words"
      ]
    },
    {
      "cell_type": "code",
      "metadata": {
        "id": "UzxS5Q3aQ7mh",
        "colab_type": "code",
        "colab": {}
      },
      "source": [
        "# dataset = [d.split() for d in lemmatized_corpus] (this is not useful if lemmatized version is used)\n",
        "# Create Dictionary\n",
        "# change \"lemmatized_corpus\" variable by stemmed_corpus or tokenized_corpus_without_sw depending\n",
        "# on which version you would like to work with \n",
        "id2word = corpora.Dictionary(lemmatized_corpus)\n",
        "corpus = [id2word.doc2bow(text) for text in lemmatized_corpus]"
      ],
      "execution_count": 0,
      "outputs": []
    },
    {
      "cell_type": "code",
      "metadata": {
        "id": "wvegwXHIWZN6",
        "colab_type": "code",
        "colab": {}
      },
      "source": [
        "# list of words and occurence per document\n",
        "words = []\n",
        "frequency = []\n",
        "\n",
        "for cp in corpus:\n",
        "  word_id = list(cp[0])[0]\n",
        "  words.append(id2word[list(cp[0])[0]])\n",
        "  frequency.append(list(cp[0])[1])"
      ],
      "execution_count": 0,
      "outputs": []
    },
    {
      "cell_type": "code",
      "metadata": {
        "id": "be9fXHn7Uqb6",
        "colab_type": "code",
        "colab": {}
      },
      "source": [
        "words_frequency = pd.DataFrame(list(zip(words, frequency)), columns=['word', 'frequency'])"
      ],
      "execution_count": 0,
      "outputs": []
    },
    {
      "cell_type": "code",
      "metadata": {
        "id": "m67ylcqwaQbd",
        "colab_type": "code",
        "outputId": "9df85513-c6fe-4c9d-e596-0abe14bd4b03",
        "colab": {
          "base_uri": "https://localhost:8080/",
          "height": 359
        }
      },
      "source": [
        "# sort descending\n",
        "words_frequency.sort_values(by=['frequency'], ascending=False)[:10]"
      ],
      "execution_count": 41,
      "outputs": [
        {
          "output_type": "execute_result",
          "data": {
            "text/html": [
              "<div>\n",
              "<style scoped>\n",
              "    .dataframe tbody tr th:only-of-type {\n",
              "        vertical-align: middle;\n",
              "    }\n",
              "\n",
              "    .dataframe tbody tr th {\n",
              "        vertical-align: top;\n",
              "    }\n",
              "\n",
              "    .dataframe thead th {\n",
              "        text-align: right;\n",
              "    }\n",
              "</style>\n",
              "<table border=\"1\" class=\"dataframe\">\n",
              "  <thead>\n",
              "    <tr style=\"text-align: right;\">\n",
              "      <th></th>\n",
              "      <th>word</th>\n",
              "      <th>frequency</th>\n",
              "    </tr>\n",
              "  </thead>\n",
              "  <tbody>\n",
              "    <tr>\n",
              "      <th>93</th>\n",
              "      <td>alessandro</td>\n",
              "      <td>6</td>\n",
              "    </tr>\n",
              "    <tr>\n",
              "      <th>46</th>\n",
              "      <td>1903</td>\n",
              "      <td>5</td>\n",
              "    </tr>\n",
              "    <tr>\n",
              "      <th>68</th>\n",
              "      <td>abbonare</td>\n",
              "      <td>4</td>\n",
              "    </tr>\n",
              "    <tr>\n",
              "      <th>78</th>\n",
              "      <td>accompagnare</td>\n",
              "      <td>3</td>\n",
              "    </tr>\n",
              "    <tr>\n",
              "      <th>37</th>\n",
              "      <td>accusa</td>\n",
              "      <td>3</td>\n",
              "    </tr>\n",
              "    <tr>\n",
              "      <th>3</th>\n",
              "      <td>accettare</td>\n",
              "      <td>3</td>\n",
              "    </tr>\n",
              "    <tr>\n",
              "      <th>1</th>\n",
              "      <td>1903</td>\n",
              "      <td>3</td>\n",
              "    </tr>\n",
              "    <tr>\n",
              "      <th>96</th>\n",
              "      <td>accettare</td>\n",
              "      <td>3</td>\n",
              "    </tr>\n",
              "    <tr>\n",
              "      <th>48</th>\n",
              "      <td>almeno</td>\n",
              "      <td>3</td>\n",
              "    </tr>\n",
              "    <tr>\n",
              "      <th>73</th>\n",
              "      <td>affare</td>\n",
              "      <td>3</td>\n",
              "    </tr>\n",
              "  </tbody>\n",
              "</table>\n",
              "</div>"
            ],
            "text/plain": [
              "            word  frequency\n",
              "93    alessandro          6\n",
              "46          1903          5\n",
              "68      abbonare          4\n",
              "78  accompagnare          3\n",
              "37        accusa          3\n",
              "3      accettare          3\n",
              "1           1903          3\n",
              "96     accettare          3\n",
              "48        almeno          3\n",
              "73        affare          3"
            ]
          },
          "metadata": {
            "tags": []
          },
          "execution_count": 41
        }
      ]
    },
    {
      "cell_type": "markdown",
      "metadata": {
        "id": "qadtU7aTQMqg",
        "colab_type": "text"
      },
      "source": [
        "## 2.2 LDA"
      ]
    },
    {
      "cell_type": "code",
      "metadata": {
        "id": "eLzvb_yC9nyo",
        "colab_type": "code",
        "colab": {}
      },
      "source": [
        "# set the number of topics here\n",
        "numtopics = 6"
      ],
      "execution_count": 0,
      "outputs": []
    },
    {
      "cell_type": "markdown",
      "metadata": {
        "id": "9u-BK_TCCRV1",
        "colab_type": "text"
      },
      "source": [
        "### 2.2.1 LDA with Gensim"
      ]
    },
    {
      "cell_type": "code",
      "metadata": {
        "id": "7ODvMbxSCQh_",
        "colab_type": "code",
        "colab": {}
      },
      "source": [
        "ldagensim = models.LdaModel(corpus, id2word=id2word, num_topics=numtopics)"
      ],
      "execution_count": 0,
      "outputs": []
    },
    {
      "cell_type": "code",
      "metadata": {
        "id": "FLfpXjulCcS4",
        "colab_type": "code",
        "outputId": "570d0b57-e5d0-4eda-b196-df799c10247f",
        "colab": {
          "base_uri": "https://localhost:8080/",
          "height": 241
        }
      },
      "source": [
        "ldagensim.print_topics()"
      ],
      "execution_count": 76,
      "outputs": [
        {
          "output_type": "execute_result",
          "data": {
            "text/plain": [
              "[(0,\n",
              "  '0.007*\"italiano\" + 0.004*\"italia\" + 0.003*\"roma\" + 0.003*\"telegrafico\" + 0.003*\"daily\" + 0.002*\"giornale\" + 0.002*\"potere\" + 0.002*\"venire\" + 0.002*\"york\" + 0.002*\"dispaccio\"'),\n",
              " (1,\n",
              "  '0.008*\"italiano\" + 0.005*\"roma\" + 0.004*\"dispaccio\" + 0.003*\"venire\" + 0.003*\"italia\" + 0.003*\"telegrafico\" + 0.002*\"daily\" + 0.002*\"potere\" + 0.002*\"cardinale\" + 0.002*\"mentire\"'),\n",
              " (2,\n",
              "  '0.007*\"italiano\" + 0.004*\"dispaccio\" + 0.004*\"telegrafico\" + 0.003*\"italia\" + 0.003*\"roma\" + 0.003*\"giornale\" + 0.002*\"potere\" + 0.002*\"daily\" + 0.002*\"nome\" + 0.002*\"gran\"'),\n",
              " (3,\n",
              "  '0.008*\"italiano\" + 0.005*\"italia\" + 0.004*\"dispaccio\" + 0.003*\"venire\" + 0.003*\"roma\" + 0.003*\"telegrafico\" + 0.003*\"potere\" + 0.003*\"daily\" + 0.002*\"giornale\" + 0.002*\"nuovo\"'),\n",
              " (4,\n",
              "  '0.006*\"italiano\" + 0.004*\"dispaccio\" + 0.004*\"italia\" + 0.003*\"potere\" + 0.003*\"venire\" + 0.003*\"telegrafico\" + 0.003*\"roma\" + 0.003*\"giornale\" + 0.002*\"cardinale\" + 0.002*\"papa\"'),\n",
              " (5,\n",
              "  '0.008*\"italiano\" + 0.004*\"potere\" + 0.004*\"italia\" + 0.003*\"cardinale\" + 0.003*\"roma\" + 0.003*\"dispaccio\" + 0.003*\"giornale\" + 0.003*\"daily\" + 0.003*\"venire\" + 0.002*\"telegrafico\"')]"
            ]
          },
          "metadata": {
            "tags": []
          },
          "execution_count": 76
        }
      ]
    },
    {
      "cell_type": "markdown",
      "metadata": {
        "id": "yVmCrU7WVznK",
        "colab_type": "text"
      },
      "source": [
        "## 2.2.2 Visualize topics"
      ]
    },
    {
      "cell_type": "code",
      "metadata": {
        "id": "zhUc_LurVxSw",
        "colab_type": "code",
        "colab": {}
      },
      "source": [
        "# pyLDAvis installation\n",
        "%%capture\n",
        "! pip install pyldavis\n",
        "import pyLDAvis\n",
        "import pyLDAvis.gensim"
      ],
      "execution_count": 0,
      "outputs": []
    },
    {
      "cell_type": "code",
      "metadata": {
        "id": "WWHil2-YV_OD",
        "colab_type": "code",
        "colab": {}
      },
      "source": [
        "# insert the model and number of topics you want to visualise\n",
        "# here LDA Gensim with 6 topics\n",
        "%%capture\n",
        "numtopics = 6\n",
        "selected_model = models.LdaModel(corpus, id2word=id2word, num_topics=numtopics)\n",
        "pyLDAvis.enable_notebook()\n",
        "vis = pyLDAvis.gensim.prepare(selected_model, corpus, id2word)"
      ],
      "execution_count": 0,
      "outputs": []
    },
    {
      "cell_type": "code",
      "metadata": {
        "id": "Rm7zmoHqcDto",
        "colab_type": "code",
        "colab": {
          "base_uri": "https://localhost:8080/",
          "height": 881
        },
        "outputId": "f8520375-1464-42bf-f628-1846ada9f97d"
      },
      "source": [
        "vis"
      ],
      "execution_count": 114,
      "outputs": [
        {
          "output_type": "execute_result",
          "data": {
            "text/html": [
              "\n",
              "<link rel=\"stylesheet\" type=\"text/css\" href=\"https://cdn.rawgit.com/bmabey/pyLDAvis/files/ldavis.v1.0.0.css\">\n",
              "\n",
              "\n",
              "<div id=\"ldavis_el1171399340466969363039945338\"></div>\n",
              "<script type=\"text/javascript\">\n",
              "\n",
              "var ldavis_el1171399340466969363039945338_data = {\"mdsDat\": {\"x\": [-0.002767984545370366, -0.0008606933661957112, -0.0014224567767848633, -0.0023670644569384687, 0.0049457840143367175, 0.002472415130952695], \"y\": [-0.0027355806721398737, -0.00040320280182574883, -0.0020750529755177867, 0.0048642499315089864, -8.938498524616628e-05, 0.00043897150322059033], \"topics\": [1, 2, 3, 4, 5, 6], \"cluster\": [1, 1, 1, 1, 1, 1], \"Freq\": [34.38838195800781, 20.950063705444336, 17.506689071655273, 15.537327766418457, 6.766115665435791, 4.851422309875488]}, \"tinfo\": {\"Term\": [\"italiano\", \"italia\", \"potere\", \"cardinale\", \"dispaccio\", \"telegrafico\", \"roma\", \"giornale\", \"daily\", \"quotidiano\", \"dovere\", \"papa\", \"venire\", \"dire\", \"nuovo\", \"dare\", \"americano\", \"presidente\", \"popolare\", \"mentire\", \"volere\", \"mano\", \"chiesa\", \"york\", \"trovare\", \"italian\", \"gran\", \"visitare\", \"grande\", \"numerare\", \"bohotie\", \"arbitro\", \"documento\", \"elettricit\\u00e0\", \"crlspl\", \"christian\", \"bruscamente\", \"obbligazione\", \"fulminato\", \"tilorni\", \"longhi\", \"fleming\", \"gliere\", \"zuccherare\", \"samuele\", \"tettoia\", \"collisio\", \"consultare\", \"danzare\", \"fondala\", \"congres\", \"mariamente\", \"cipale\", \"pugliese\", \"nunzui\", \"manna\", \"augi\", \"vestilo\", \"damiani\", \"bagliore\", \"mercantile\", \"giustiziare\", \"loubet\", \"anzitutto\", \"vociare\", \"marino\", \"restare\", \"finora\", \"cospiratorio\", \"guardia\", \"classe\", \"ucciso\", \"salvare\", \"monte\", \"diamond\", \"testa\", \"parere\", \"belgrado\", \"recare\", \"dato\", \"chicago\", \"favorito\", \"dispaccio\", \"daily\", \"affare\", \"riportare\", \"parigi\", \"portare\", \"mandare\", \"notare\", \"italiano\", \"telegrafico\", \"operare\", \"mentire\", \"potere\", \"york\", \"recere\", \"venire\", \"roma\", \"nome\", \"presidente\", \"giornale\", \"morto\", \"italia\", \"papa\", \"mettere\", \"rimanere\", \"states\", \"dire\", \"numerare\", \"dare\", \"unito\", \"costare\", \"cardinale\", \"altro\", \"maggio\", \"gran\", \"trovare\", \"dovere\", \"nuovo\", \"leggere\", \"americano\", \"itallan\", \"adia\", \"torturare\", \"guida\", \"futuro\", \"tecnico\", \"effusione\", \"precursore\", \"divertimento\", \"tolstoi\", \"sgravio\", \"bolognese\", \"tiro\", \"rimunerativo\", \"contem\", \"propesilo\", \"consacrazione\", \"depretls\", \"eidoardo\", \"eduardo\", \"sata\", \"cavalleresco\", \"frontiera\", \"centesimo\", \"perfezione\", \"ingannatore\", \"prerogativa\", \"ceva\", \"vettova\", \"punl\", \"scultorio\", \"soddisfazione\", \"planches\", \"fiume\", \"regime\", \"preparare\", \"preparativo\", \"squadrare\", \"coprire\", \"emigrare\", \"noto\", \"presentire\", \"miniare\", \"marconi\", \"guglielmo\", \"caff\\u00e8\", \"antico\", \"tendere\", \"nave\", \"ricevere\", \"gran\", \"giornale\", \"uomini\", \"sapere\", \"vero\", \"italia\", \"poco\", \"grande\", \"quotidiano\", \"numerare\", \"viaggiare\", \"italiano\", \"trovare\", \"politico\", \"volere\", \"italian\", \"popolare\", \"roma\", \"nuovo\", \"buono\", \"venire\", \"regina\", \"dire\", \"visitare\", \"daily\", \"potere\", \"dispaccio\", \"patrio\", \"cardinale\", \"mentire\", \"leggere\", \"francese\", \"telegrafico\", \"nome\", \"papa\", \"americano\", \"york\", \"dovere\", \"parigi\", \"gemmare\", \"carneficina\", \"world\", \"profilare\", \"fica\", \"spinetta\", \"board\", \"battere\", \"gito\", \"ritratto\", \"considerare\", \"beri\", \"macedone\", \"ordme\", \"tiratore\", \"californiano\", \"nula\", \"dinotisi\", \"camarlengo\", \"ragliare\", \"fame\", \"country\", \"roberto\", \"procedura\", \"barcellona\", \"zangwiil\", \"escluso\", \"dcpohtu\", \"tuttora\", \"assoluzione\", \"jose\", \"colare\", \"cuore\", \"difendere\", \"ambasciatore\", \"slmili\", \"studente\", \"francese\", \"aiutare\", \"prendere\", \"capitare\", \"ebreo\", \"comunicazione\", \"andare\", \"telegrafico\", \"toro\", \"delia\", \"povero\", \"chiedere\", \"venire\", \"western\", \"servizio\", \"colonia\", \"giugno\", \"russia\", \"comitato\", \"roma\", \"york\", \"lineare\", \"costare\", \"dovere\", \"fare\", \"cardinale\", \"vedere\", \"grave\", \"dare\", \"unito\", \"italiano\", \"americano\", \"dispaccio\", \"rendere\", \"papa\", \"italia\", \"patrio\", \"trovare\", \"nuovo\", \"daily\", \"lottare\", \"francia\", \"dire\", \"tenere\", \"notizia\", \"states\", \"potere\", \"mentire\", \"gran\", \"giornale\", \"altro\", \"volere\", \"nome\", \"parigi\", \"text\", \"available\", \"f\\u00e8sta\", \"bravano\", \"florali\", \"ornarsi\", \"lemurie\", \"stornello\", \"talmen\", \"rditohs\", \"iss4\", \"romolo\", \"slattiti\", \"pllcate\", \"vcvluttnosa\", \"\\u00e8titrare\", \"pmints\", \"cadmino\", \"confodono\", \"smeraldo\", \"damo\", \"rodere\", \"timenti\", \"sacrato\", \"xiet\\u00e0\", \"portamento\", \"temiti\", \"niobi\", \"cogl\", \"lombardia\", \"1895\", \"dedicare\", \"mento\", \"codardo\", \"festa\", \"maggio\", \"americano\", \"autorit\\u00e0\", \"follare\", \"perch\\u00e8\", \"sociale\", \"popolo\", \"bile\", \"leggere\", \"italiano\", \"united\", \"patrio\", \"societ\\u00e0\", \"francisco\", \"famiglia\", \"cio\\u00e8\", \"largest\", \"fatto\", \"ebreo\", \"temere\", \"uscire\", \"parlare\", \"dispaccio\", \"potere\", \"telegrafico\", \"vivo\", \"nuovo\", \"nome\", \"mano\", \"roma\", \"italia\", \"giornale\", \"ufficiale\", \"dovere\", \"venire\", \"dare\", \"solo\", \"presidente\", \"mentire\", \"daily\", \"morto\", \"quotidiano\", \"notizia\", \"gran\", \"dire\", \"cardinale\", \"operare\", \"numerare\", \"parigi\", \"volere\", \"papa\", \"york\", \"ambkto\", \"scilo\", \"xlll\", \"ingigantire\", \"iregorlo\", \"fater\\u00f2\", \"1829\", \"innocuo\", \"castillo\", \"festi\", \"lusioni\", \"cupava\", \"ferale\", \"placidamente\", \"ajsistollco\", \"ih4ai\", \"nigi\", \"moren\", \"belloza\", \"singhiozzo\", \"rabba\", \"eguaglianza\", \"micidiale\", \"frrza\", \"nascrabile\", \"defeunzii\", \"sgomentare\", \"ortna\", \"fremito\", \"estremit\\u00e0\", \"requiem\", \"oppressore\", \"leone\", \"agonia\", \"dissoluzione\", \"borghese\", \"scrutatore\", \"ammiraglio\", \"chaumi\\u00e8\", \"pontefice\", \"nominare\", \"cardinale\", \"tendenza\", \"mettere\", \"popolare\", \"papa\", \"raccogliere\", \"chiesa\", \"quotidiano\", \"vano\", \"italiano\", \"centrare\", \"partire\", \"sacro\", \"news\", \"passare\", \"ultimo\", \"roma\", \"dare\", \"durare\", \"presidente\", \"conclave\", \"trovare\", \"ministero\", \"italia\", \"credere\", \"mano\", \"potere\", \"dovere\", \"avvenire\", \"xiii\", \"macchina\", \"giornale\", \"daily\", \"dispaccio\", \"costare\", \"volere\", \"dire\", \"venire\", \"telegrafico\", \"states\", \"correre\", \"nome\", \"gran\", \"mentire\", \"york\", \"nuovo\", \"proporsi\", \"militarismo\", \"seccare\", \"col\\u00f3ro\", \"que9ti\", \"monsignore\", \"ingono\", \"topeva\", \"miseiis\", \"mercenario\", \"saccheggiatore\", \"cloaca\", \"1776\", \"cipriani\", \"publiahed\", \"amilcare\", \"crealo\", \"soffermare\", \"drappello\", \"\\u00ecntime\", \"ris\\u00f2j\", \"spressione\", \"despota\", \"dissentire\", \"esercito\", \"mostrarsi\", \"ritolliaumiltio\", \"trionfatrice\", \"brattato\", \"grad\", \"duse\", \"personalit\\u00e0\", \"oreglia\", \"cambiare\", \"scioperare\", \"mati\", \"soldato\", \"cardinale\", \"italia\", \"dovere\", \"comune\", \"famiglia\", \"quotidiano\", \"potere\", \"chiesa\", \"bisogno\", \"riposare\", \"politico\", \"eleggere\", \"genova\", \"italiano\", \"povero\", \"lungo\", \"riuscire\", \"congregazione\", \"nuovo\", \"luglio\", \"telegrafico\", \"dire\", \"pubblicare\", \"dispaccio\", \"papa\", \"italian\", \"mano\", \"giornale\", \"daily\", \"americano\", \"visitare\", \"credere\", \"grande\", \"notizia\", \"mentire\", \"dare\", \"presidente\", \"volere\", \"york\", \"venire\", \"parigi\", \"roma\", \"numerare\", \"morto\", \"gran\"], \"Freq\": [967.0, 472.0, 353.0, 253.0, 472.0, 396.0, 454.0, 323.0, 332.0, 181.0, 194.0, 214.0, 370.0, 217.0, 208.0, 189.0, 188.0, 150.0, 132.0, 227.0, 173.0, 133.0, 105.0, 204.0, 184.0, 153.0, 206.0, 151.0, 148.0, 172.0, 2.462326765060425, 2.424015522003174, 6.565220355987549, 2.668923854827881, 1.7461506128311157, 1.2855480909347534, 2.1463046073913574, 1.2841343879699707, 1.6230067014694214, 1.2599670886993408, 1.2887808084487915, 3.0197031497955322, 1.2234915494918823, 2.947582721710205, 1.3215117454528809, 1.234535574913025, 1.70024573802948, 4.685335159301758, 1.730932593345642, 1.2873896360397339, 2.963534116744995, 0.8136770129203796, 1.271207332611084, 2.1244254112243652, 0.8340873122215271, 2.806509256362915, 0.806908130645752, 1.1955029964447021, 2.4656097888946533, 1.6197015047073364, 5.567377090454102, 50.684906005859375, 21.07159996032715, 4.005169868469238, 12.37850284576416, 25.281070709228516, 34.294864654541016, 6.238630771636963, 4.44533109664917, 32.29115295410156, 36.373722076416016, 22.984806060791016, 8.858194351196289, 19.177066802978516, 9.1405668258667, 4.967284202575684, 62.52970504760742, 26.083820343017578, 36.377567291259766, 36.51816940307617, 17.59365463256836, 24.164915084838867, 189.8258514404297, 133.7078857421875, 20.54279899597168, 12.209444046020508, 71.51354217529297, 48.52632522583008, 37.3445930480957, 29.672351837158203, 350.2230529785156, 152.59226989746094, 64.8702392578125, 88.84414672851562, 132.962646484375, 80.38164520263672, 43.9376106262207, 135.70416259765625, 162.93624877929688, 77.46090698242188, 59.76960754394531, 116.93376159667969, 62.30845642089844, 162.61045837402344, 79.64034271240234, 49.741172790527344, 47.65033721923828, 57.984275817871094, 75.02317810058594, 62.583290100097656, 66.91313171386719, 54.76896667480469, 57.40976333618164, 81.63174438476562, 56.703880310058594, 56.61064910888672, 69.01534271240234, 62.45744705200195, 63.165340423583984, 63.83418273925781, 58.083717346191406, 58.230987548828125, 1.493133306503296, 0.88446044921875, 1.6889891624450684, 1.4706108570098877, 3.454195022583008, 5.092519760131836, 0.809348464012146, 0.9959880709648132, 0.7745939493179321, 6.301056861877441, 4.099008083343506, 4.1674628257751465, 1.0128945112228394, 1.290179967880249, 1.0341317653656006, 0.5307770371437073, 0.9848160147666931, 0.5167536735534668, 0.5166398286819458, 1.5599868297576904, 2.0012149810791016, 0.9963510036468506, 2.9357612133026123, 0.7732377052307129, 0.7690475583076477, 0.47093164920806885, 0.7320600152015686, 0.7617040276527405, 0.5336682200431824, 0.5156282782554626, 1.5641450881958008, 6.7094316482543945, 5.162556171417236, 9.329376220703125, 2.707913875579834, 9.89301872253418, 4.348629474639893, 9.739983558654785, 6.834547519683838, 17.072185516357422, 24.22573471069336, 24.475528717041016, 14.371841430664062, 33.72522735595703, 19.236291885375977, 7.044164180755615, 9.834073066711426, 8.026119232177734, 18.715192794799805, 30.662540435791016, 53.92379379272461, 82.30241394042969, 20.874675750732422, 31.18883514404297, 30.842927932739258, 112.9934310913086, 26.649497985839844, 38.5340690612793, 46.1074104309082, 43.51805877685547, 26.947315216064453, 205.60525512695312, 45.42649841308594, 30.742210388183594, 42.5438232421875, 38.222225189208984, 33.49851989746094, 97.89390563964844, 49.384376525878906, 22.226425170898438, 79.00450897216797, 24.180192947387695, 49.18404006958008, 36.11824035644531, 68.19503784179688, 71.4240951538086, 84.41840362548828, 36.61153793334961, 51.84304428100586, 46.72949981689453, 37.58012771606445, 33.16038131713867, 60.098548889160156, 40.25650405883789, 39.62107849121094, 36.79663848876953, 36.684268951416016, 34.68268966674805, 33.822330474853516, 1.9277713298797607, 0.9541383385658264, 3.876091241836548, 0.9652843475341797, 0.6745311617851257, 0.8667176961898804, 1.2151274681091309, 8.065437316894531, 1.5475431680679321, 0.9253036975860596, 7.199093341827393, 1.373133659362793, 5.755023956298828, 0.4152761399745941, 0.6952686905860901, 0.8569779396057129, 0.9041369557380676, 0.43796736001968384, 2.5156044960021973, 0.6431053876876831, 1.8266748189926147, 0.6572134494781494, 0.6447003483772278, 0.8146271109580994, 1.4570064544677734, 0.662209153175354, 1.7903087139129639, 0.40577051043510437, 2.3530526161193848, 1.080181360244751, 5.588736534118652, 9.235703468322754, 11.19188117980957, 3.1595852375030518, 10.91241455078125, 2.198354721069336, 8.816112518310547, 33.13538360595703, 11.055985450744629, 22.788799285888672, 8.630863189697266, 17.51592254638672, 6.2317328453063965, 25.889633178710938, 82.62594604492188, 8.2290678024292, 15.152419090270996, 8.603055953979492, 10.05402946472168, 73.47225189208984, 16.052513122558594, 11.162440299987793, 14.066914558410645, 26.540462493896484, 21.36043930053711, 8.558594703674316, 84.72079467773438, 41.01142501831055, 13.143289566040039, 31.70428466796875, 38.88807678222656, 19.823698043823242, 48.735530853271484, 24.675796508789062, 22.559955596923828, 36.66352081298828, 29.059120178222656, 144.93988037109375, 36.45346450805664, 77.35287475585938, 18.31932830810547, 38.86638641357422, 72.69400787353516, 30.180044174194336, 33.87413787841797, 37.2172966003418, 53.162845611572266, 24.7197322845459, 22.934677124023438, 37.472076416015625, 25.249948501586914, 28.09666633605957, 28.239675521850586, 48.664546966552734, 36.60782241821289, 33.877784729003906, 41.520965576171875, 27.466594696044922, 28.809911727905273, 30.253496170043945, 27.735294342041016, 0.880086362361908, 0.8796787261962891, 0.5401574373245239, 0.5624443888664246, 0.5518642663955688, 0.5365400910377502, 0.5406906008720398, 0.5240402221679688, 0.5327131152153015, 0.5270233750343323, 0.5247599482536316, 0.528789222240448, 0.5147597193717957, 0.5167197585105896, 0.5045437216758728, 0.513677179813385, 0.5139493346214294, 0.5026224851608276, 0.5095427632331848, 0.7770364880561829, 0.5001198053359985, 1.2284190654754639, 0.4925229549407959, 0.4967007040977478, 0.5009592175483704, 0.4985962212085724, 0.4924144744873047, 0.5004944801330566, 0.4945952594280243, 2.12819504737854, 2.301931381225586, 5.318633079528809, 11.468740463256836, 0.9055302739143372, 13.643245697021484, 32.6235237121582, 38.877197265625, 17.03017234802246, 19.21122169494629, 26.127166748046875, 11.310940742492676, 7.995630264282227, 6.0379486083984375, 33.07419967651367, 155.0701446533203, 15.515412330627441, 30.610538482666016, 17.58510398864746, 23.098236083984375, 12.211410522460938, 12.941739082336426, 25.829002380371094, 16.764156341552734, 15.25900936126709, 10.624920845031738, 8.055706024169922, 23.160018920898438, 72.12842559814453, 56.21931076049805, 61.72599411010742, 23.586572647094727, 35.46786117553711, 34.20606994628906, 24.02352523803711, 64.6688003540039, 66.09597778320312, 47.311336517333984, 20.832971572875977, 31.406673431396484, 49.86271667480469, 30.278053283691406, 21.574180603027344, 24.889873504638672, 32.374603271484375, 40.909141540527344, 25.632272720336914, 27.622316360473633, 24.540971755981445, 29.371749877929688, 30.108524322509766, 31.839496612548828, 25.35126304626465, 25.74110984802246, 25.488515853881836, 25.401851654052734, 26.44112777709961, 25.71575927734375, 0.2264249622821808, 0.22653625905513763, 0.9097105264663696, 0.21858109533786774, 0.3278089165687561, 0.21499770879745483, 0.21370577812194824, 0.42561614513397217, 0.20543761551380157, 0.2091687172651291, 0.20931100845336914, 0.209966778755188, 0.2036169469356537, 0.41551271080970764, 0.20702877640724182, 0.20524504780769348, 0.2052914798259735, 0.20297230780124664, 0.20277690887451172, 0.20048561692237854, 0.19198183715343475, 0.19555585086345673, 0.19206266105175018, 0.19035577774047852, 0.2013215869665146, 0.2018609493970871, 0.3990153968334198, 0.20086058974266052, 0.20033790171146393, 0.19902834296226501, 0.6855113506317139, 0.47153720259666443, 9.88276481628418, 0.810478925704956, 0.28597432374954224, 1.6610780954360962, 0.5836575627326965, 1.3450559377670288, 1.1186068058013916, 9.972702026367188, 5.9517621994018555, 23.45537757873535, 1.9098042249679565, 12.051043510437012, 12.66036605834961, 18.111434936523438, 4.996016979217529, 9.509066581726074, 15.2080078125, 3.817335844039917, 65.41622924804688, 2.912820816040039, 9.421233177185059, 4.458355903625488, 6.55782413482666, 8.30284309387207, 7.098255157470703, 31.041067123413086, 14.602907180786133, 4.121875286102295, 11.899221420288086, 7.029353618621826, 13.663195610046387, 6.023534774780273, 29.83770751953125, 7.9901442527771, 10.34475040435791, 22.651334762573242, 13.891724586486816, 10.236006736755371, 7.240711212158203, 7.831741809844971, 20.229326248168945, 20.611190795898438, 26.983003616333008, 11.185633659362793, 11.68104076385498, 13.563482284545898, 19.118099212646484, 19.813405990600586, 10.579442977905273, 9.094069480895996, 11.670822143554688, 11.742375373840332, 11.921826362609863, 11.340935707092285, 11.211495399475098, 0.24099186062812805, 0.461505651473999, 0.23556463420391083, 0.14771951735019684, 0.1448449194431305, 0.8627898097038269, 0.14559781551361084, 0.14363442361354828, 0.14218948781490326, 0.14086171984672546, 0.14134427905082703, 0.14021101593971252, 0.14225217700004578, 0.2905009686946869, 0.14103467762470245, 0.5040444135665894, 0.21456481516361237, 0.1441853642463684, 0.21507345139980316, 0.13989819586277008, 0.1381434053182602, 0.13744612038135529, 0.13629980385303497, 0.13612793385982513, 0.27643394470214844, 0.13679265975952148, 0.1357085108757019, 0.13538211584091187, 0.13657118380069733, 0.20716606080532074, 0.7501471638679504, 0.6068909764289856, 2.3090341091156006, 1.5933599472045898, 4.166750431060791, 0.4034467339515686, 3.9231302738189697, 16.36328887939453, 28.650035858154297, 12.639174461364746, 4.342568874359131, 4.058679580688477, 11.687080383300781, 21.21352767944336, 7.091296195983887, 0.9249435663223267, 1.5137863159179688, 7.628798961639404, 2.4263246059417725, 6.078262805938721, 46.63779067993164, 2.5367558002471924, 2.8817219734191895, 3.6594367027282715, 1.4351288080215454, 11.549571990966797, 5.6022820472717285, 19.790124893188477, 11.83337688446045, 6.8041181564331055, 22.139848709106445, 11.35688304901123, 8.612017631530762, 7.580360412597656, 15.637341499328613, 15.924659729003906, 10.01032829284668, 8.327742576599121, 5.703768730163574, 7.930963039398193, 7.918985843658447, 10.805599212646484, 9.31700611114502, 7.933769226074219, 8.633635520935059, 9.568967819213867, 13.75175952911377, 8.429272651672363, 13.645840644836426, 8.110455513000488, 7.811458110809326, 8.259319305419922], \"Total\": [967.0, 472.0, 353.0, 253.0, 472.0, 396.0, 454.0, 323.0, 332.0, 181.0, 194.0, 214.0, 370.0, 217.0, 208.0, 189.0, 188.0, 150.0, 132.0, 227.0, 173.0, 133.0, 105.0, 204.0, 184.0, 153.0, 206.0, 151.0, 148.0, 172.0, 4.5522871017456055, 4.57930326461792, 12.5861234664917, 5.277371406555176, 3.4802443981170654, 2.5626771450042725, 4.34913444519043, 2.6093456745147705, 3.309727907180786, 2.576517105102539, 2.6463329792022705, 6.213527679443359, 2.520048141479492, 6.071795463562012, 2.722736358642578, 2.544715166091919, 3.5073041915893555, 9.685057640075684, 3.5848536491394043, 2.6726043224334717, 6.153470516204834, 1.689916729927063, 2.6418397426605225, 4.427554130554199, 1.7409521341323853, 5.85816764831543, 1.6851563453674316, 2.4986448287963867, 5.1533355712890625, 3.396031141281128, 11.715662956237793, 109.19640350341797, 45.038597106933594, 8.46312427520752, 26.471843719482422, 55.00440216064453, 75.14846801757812, 13.270243644714355, 9.403475761413574, 71.20755004882812, 80.7478256225586, 50.775543212890625, 19.027183532714844, 42.22222900390625, 19.720050811767578, 10.574881553649902, 145.59107971191406, 58.62576675415039, 83.27293395996094, 83.86813354492188, 39.300540924072266, 54.77327346801758, 472.8484191894531, 332.5107727050781, 46.33001708984375, 26.966115951538086, 174.81625366210938, 115.92130279541016, 87.79130554199219, 69.20003509521484, 967.892333984375, 396.64630126953125, 160.28709411621094, 227.2834930419922, 353.1354675292969, 204.70301818847656, 106.70287322998047, 370.91351318359375, 454.9066467285156, 200.9098663330078, 150.81781005859375, 323.9351501464844, 158.91783142089844, 472.881591796875, 214.03726196289062, 124.91946411132812, 119.01446533203125, 150.88670349121094, 217.18466186523438, 172.19744873046875, 189.03526306152344, 144.4266357421875, 154.25033569335938, 253.86849975585938, 151.96380615234375, 152.55490112304688, 206.19036865234375, 184.0765838623047, 194.67369079589844, 208.664794921875, 170.23483276367188, 188.95565795898438, 4.160920143127441, 2.4747581481933594, 4.823423862457275, 4.21616792678833, 10.127104759216309, 15.193814277648926, 2.4227263927459717, 3.0330145359039307, 2.3622026443481445, 19.281829833984375, 12.601975440979004, 12.826655387878418, 3.1382546424865723, 4.007054328918457, 3.2143712043762207, 1.6510491371154785, 3.0672953128814697, 1.609875202178955, 1.6097372770309448, 4.8624587059021, 6.250962734222412, 3.1162939071655273, 9.182258605957031, 2.4190595149993896, 2.4115920066833496, 1.480715274810791, 2.3043856620788574, 2.4005894660949707, 1.6830588579177856, 1.6292814016342163, 4.943140029907227, 21.53205680847168, 16.697317123413086, 30.609041213989258, 8.697555541992188, 32.959625244140625, 14.206430435180664, 32.671661376953125, 22.73358726501465, 58.50911331176758, 83.98377990722656, 85.31204223632812, 49.60646438598633, 120.71762084960938, 68.08480072021484, 23.702695846557617, 33.74159240722656, 27.2474365234375, 66.59969329833984, 112.82974243164062, 206.19036865234375, 323.9351501464844, 75.54034423828125, 116.51384735107422, 115.16777038574219, 472.881591796875, 98.97400665283203, 148.82130432128906, 181.694091796875, 172.19744873046875, 101.84344482421875, 967.892333984375, 184.0765838623047, 119.71809387207031, 173.17478942871094, 153.6117706298828, 132.93045043945312, 454.9066467285156, 208.664794921875, 83.75877380371094, 370.91351318359375, 92.97164916992188, 217.18466186523438, 151.46823120117188, 332.5107727050781, 353.1354675292969, 472.8484191894531, 158.2515869140625, 253.86849975585938, 227.2834930419922, 170.23483276367188, 141.27249145507812, 396.64630126953125, 200.9098663330078, 214.03726196289062, 188.95565795898438, 204.70301818847656, 194.67369079589844, 174.81625366210938, 6.202699661254883, 3.163797616958618, 12.990537643432617, 3.2899463176727295, 2.3191001415252686, 2.981372594833374, 4.191058158874512, 28.1304874420166, 5.456051826477051, 3.265772819519043, 25.440582275390625, 4.898078441619873, 20.533674240112305, 1.4858860969543457, 2.4882383346557617, 3.0693917274475098, 3.244352340698242, 1.573134183883667, 9.036736488342285, 2.3120622634887695, 6.5692644119262695, 2.370814085006714, 2.3350510597229004, 2.9636380672454834, 5.313848972320557, 2.415769100189209, 6.5551557540893555, 1.4873842000961304, 8.634245872497559, 3.965538263320923, 20.925390243530273, 35.01995086669922, 42.78962707519531, 11.777865409851074, 42.52077865600586, 8.195281028747559, 35.25081253051758, 141.27249145507812, 44.79490661621094, 96.62670135498047, 34.90711212158203, 74.48506927490234, 24.887393951416016, 113.48846435546875, 396.64630126953125, 33.68032455444336, 65.14729309082031, 35.46031951904297, 42.01481246948242, 370.91351318359375, 70.1444320678711, 47.081504821777344, 60.863590240478516, 122.6990966796875, 97.4455337524414, 35.4115104675293, 454.9066467285156, 204.70301818847656, 57.282005310058594, 154.25033569335938, 194.67369079589844, 91.29835510253906, 253.86849975585938, 117.1382064819336, 106.13947296142578, 189.03526306152344, 144.4266357421875, 967.892333984375, 188.95565795898438, 472.8484191894531, 84.11394500732422, 214.03726196289062, 472.881591796875, 158.2515869140625, 184.0765838623047, 208.664794921875, 332.5107727050781, 124.04418182373047, 112.32775115966797, 217.18466186523438, 128.15029907226562, 148.756591796875, 150.88670349121094, 353.1354675292969, 227.2834930419922, 206.19036865234375, 323.9351501464844, 151.96380615234375, 173.17478942871094, 200.9098663330078, 174.81625366210938, 1.5279028415679932, 1.5278100967407227, 1.5762923955917358, 1.6451654434204102, 1.614306926727295, 1.6119275093078613, 1.6350716352462769, 1.6238466501235962, 1.6533347368240356, 1.6448811292648315, 1.6426022052764893, 1.6597744226455688, 1.641381025314331, 1.6504886150360107, 1.6309154033660889, 1.6662169694900513, 1.6717257499694824, 1.641221523284912, 1.667635202407837, 2.5469305515289307, 1.6429717540740967, 4.041786193847656, 1.6211565732955933, 1.6399989128112793, 1.6636555194854736, 1.6561437845230103, 1.6360571384429932, 1.6646175384521484, 1.6623237133026123, 7.156307220458984, 8.341622352600098, 20.559846878051758, 47.69305419921875, 3.1443467140197754, 58.50434494018555, 152.55490112304688, 188.95565795898438, 77.28346252441406, 88.32542419433594, 125.5941162109375, 50.99274444580078, 34.80950927734375, 25.56841278076172, 170.23483276367188, 967.892333984375, 73.44696044921875, 158.2515869140625, 85.0828857421875, 116.55548095703125, 56.506072998046875, 60.671852111816406, 133.38998413085938, 82.49994659423828, 74.48506927490234, 49.16973114013672, 35.95209503173828, 122.77758026123047, 472.8484191894531, 353.1354675292969, 396.64630126953125, 127.50048065185547, 208.664794921875, 200.9098663330078, 133.0650634765625, 454.9066467285156, 472.881591796875, 323.9351501464844, 112.09535217285156, 194.67369079589844, 370.91351318359375, 189.03526306152344, 119.16352081298828, 150.81781005859375, 227.2834930419922, 332.5107727050781, 158.91783142089844, 181.694091796875, 148.756591796875, 206.19036865234375, 217.18466186523438, 253.86849975585938, 160.28709411621094, 172.19744873046875, 174.81625366210938, 173.17478942871094, 214.03726196289062, 204.70301818847656, 1.444740891456604, 1.4510409832000732, 5.876859664916992, 1.457387089729309, 2.2042016983032227, 1.4629124402999878, 1.4542841911315918, 2.8993613719940186, 1.3999608755111694, 1.461552619934082, 1.4642032384872437, 1.472848653793335, 1.4331674575805664, 2.9264233112335205, 1.4617524147033691, 1.453121304512024, 1.4686098098754883, 1.4640181064605713, 1.46474027633667, 1.4531886577606201, 1.398057460784912, 1.424933910369873, 1.399897575378418, 1.3905441761016846, 1.4718431234359741, 1.4779369831085205, 2.927062749862671, 1.4768235683441162, 1.4751646518707275, 1.4667961597442627, 5.111323833465576, 3.527743339538574, 84.33328247070312, 6.259708404541016, 2.1274003982543945, 13.593551635742188, 4.544103145599365, 11.165182113647461, 9.259726524353027, 98.77730560302734, 57.156402587890625, 253.86849975585938, 16.693315505981445, 124.91946411132812, 132.93045043945312, 214.03726196289062, 50.534568786621094, 105.2152328491211, 181.694091796875, 38.29370880126953, 967.892333984375, 28.22265625, 107.14415740966797, 46.256187438964844, 72.532958984375, 95.13444519042969, 80.85337829589844, 454.9066467285156, 189.03526306152344, 43.04212188720703, 150.81781005859375, 81.74418640136719, 184.0765838623047, 68.71398162841797, 472.881591796875, 96.93646240234375, 133.0650634765625, 353.1354675292969, 194.67369079589844, 133.56146240234375, 86.6954345703125, 95.95958709716797, 323.9351501464844, 332.5107727050781, 472.8484191894531, 154.25033569335938, 173.17478942871094, 217.18466186523438, 370.91351318359375, 396.64630126953125, 150.88670349121094, 122.59346008300781, 200.9098663330078, 206.19036865234375, 227.2834930419922, 204.70301818847656, 208.664794921875, 2.0027902126312256, 4.081398963928223, 2.1004769802093506, 1.3795188665390015, 1.3791693449020386, 8.219453811645508, 1.3985893726348877, 1.3910771608352661, 1.3961385488510132, 1.384461522102356, 1.3946845531463623, 1.3906726837158203, 1.4115595817565918, 2.883394956588745, 1.4058115482330322, 5.045324802398682, 2.1533045768737793, 1.4497699737548828, 2.1666276454925537, 1.4100890159606934, 1.407779574394226, 1.4077969789505005, 1.4069831371307373, 1.406018614768982, 2.855233907699585, 1.4183577299118042, 1.408050775527954, 1.4078052043914795, 1.4223281145095825, 2.1592929363250732, 8.205991744995117, 6.620768070220947, 26.9248104095459, 18.979839324951172, 55.066062927246094, 4.477780818939209, 53.09421157836914, 253.86849975585938, 472.881591796875, 194.67369079589844, 60.361595153808594, 56.506072998046875, 181.694091796875, 353.1354675292969, 105.2152328491211, 11.2366943359375, 19.430885314941406, 119.71809387207031, 33.14025115966797, 94.83930206298828, 967.892333984375, 35.46031951904297, 41.372127532958984, 54.885841369628906, 18.75786018371582, 208.664794921875, 90.36701965332031, 396.64630126953125, 217.18466186523438, 114.53656768798828, 472.8484191894531, 214.03726196289062, 153.6117706298828, 133.0650634765625, 323.9351501464844, 332.5107727050781, 188.95565795898438, 151.46823120117188, 96.93646240234375, 148.82130432128906, 148.756591796875, 227.2834930419922, 189.03526306152344, 150.81781005859375, 173.17478942871094, 204.70301818847656, 370.91351318359375, 174.81625366210938, 454.9066467285156, 172.19744873046875, 158.91783142089844, 206.19036865234375], \"Category\": [\"Default\", \"Default\", \"Default\", \"Default\", \"Default\", \"Default\", \"Default\", \"Default\", \"Default\", \"Default\", \"Default\", \"Default\", \"Default\", \"Default\", \"Default\", \"Default\", \"Default\", \"Default\", \"Default\", \"Default\", \"Default\", \"Default\", \"Default\", \"Default\", \"Default\", \"Default\", \"Default\", \"Default\", \"Default\", \"Default\", \"Topic1\", \"Topic1\", \"Topic1\", \"Topic1\", \"Topic1\", \"Topic1\", \"Topic1\", \"Topic1\", \"Topic1\", \"Topic1\", \"Topic1\", \"Topic1\", \"Topic1\", \"Topic1\", \"Topic1\", \"Topic1\", \"Topic1\", \"Topic1\", \"Topic1\", \"Topic1\", \"Topic1\", \"Topic1\", \"Topic1\", \"Topic1\", \"Topic1\", \"Topic1\", \"Topic1\", \"Topic1\", \"Topic1\", \"Topic1\", \"Topic1\", \"Topic1\", \"Topic1\", \"Topic1\", \"Topic1\", \"Topic1\", \"Topic1\", \"Topic1\", \"Topic1\", \"Topic1\", \"Topic1\", \"Topic1\", \"Topic1\", \"Topic1\", \"Topic1\", \"Topic1\", \"Topic1\", \"Topic1\", \"Topic1\", \"Topic1\", \"Topic1\", \"Topic1\", \"Topic1\", \"Topic1\", \"Topic1\", \"Topic1\", \"Topic1\", \"Topic1\", \"Topic1\", \"Topic1\", \"Topic1\", \"Topic1\", \"Topic1\", \"Topic1\", \"Topic1\", \"Topic1\", \"Topic1\", \"Topic1\", \"Topic1\", \"Topic1\", \"Topic1\", \"Topic1\", \"Topic1\", \"Topic1\", \"Topic1\", \"Topic1\", \"Topic1\", \"Topic1\", \"Topic1\", \"Topic1\", \"Topic1\", \"Topic1\", \"Topic1\", \"Topic1\", \"Topic1\", \"Topic1\", \"Topic1\", \"Topic1\", \"Topic1\", \"Topic1\", \"Topic1\", \"Topic1\", \"Topic2\", \"Topic2\", \"Topic2\", \"Topic2\", \"Topic2\", \"Topic2\", \"Topic2\", \"Topic2\", \"Topic2\", \"Topic2\", \"Topic2\", \"Topic2\", \"Topic2\", \"Topic2\", \"Topic2\", \"Topic2\", \"Topic2\", \"Topic2\", \"Topic2\", \"Topic2\", \"Topic2\", \"Topic2\", \"Topic2\", \"Topic2\", \"Topic2\", \"Topic2\", \"Topic2\", \"Topic2\", \"Topic2\", \"Topic2\", \"Topic2\", \"Topic2\", \"Topic2\", \"Topic2\", \"Topic2\", \"Topic2\", \"Topic2\", \"Topic2\", \"Topic2\", \"Topic2\", \"Topic2\", \"Topic2\", \"Topic2\", \"Topic2\", \"Topic2\", \"Topic2\", \"Topic2\", \"Topic2\", \"Topic2\", \"Topic2\", \"Topic2\", \"Topic2\", \"Topic2\", \"Topic2\", \"Topic2\", \"Topic2\", \"Topic2\", \"Topic2\", \"Topic2\", \"Topic2\", \"Topic2\", \"Topic2\", \"Topic2\", \"Topic2\", \"Topic2\", \"Topic2\", \"Topic2\", \"Topic2\", \"Topic2\", \"Topic2\", \"Topic2\", \"Topic2\", \"Topic2\", \"Topic2\", \"Topic2\", \"Topic2\", \"Topic2\", \"Topic2\", \"Topic2\", \"Topic2\", \"Topic2\", \"Topic2\", \"Topic2\", \"Topic2\", \"Topic2\", \"Topic2\", \"Topic2\", \"Topic2\", \"Topic2\", \"Topic3\", \"Topic3\", \"Topic3\", \"Topic3\", \"Topic3\", \"Topic3\", \"Topic3\", \"Topic3\", \"Topic3\", \"Topic3\", \"Topic3\", \"Topic3\", \"Topic3\", \"Topic3\", \"Topic3\", \"Topic3\", \"Topic3\", \"Topic3\", \"Topic3\", \"Topic3\", \"Topic3\", \"Topic3\", \"Topic3\", \"Topic3\", \"Topic3\", \"Topic3\", \"Topic3\", \"Topic3\", \"Topic3\", \"Topic3\", \"Topic3\", \"Topic3\", \"Topic3\", \"Topic3\", \"Topic3\", \"Topic3\", \"Topic3\", \"Topic3\", \"Topic3\", \"Topic3\", \"Topic3\", \"Topic3\", \"Topic3\", \"Topic3\", \"Topic3\", \"Topic3\", \"Topic3\", \"Topic3\", \"Topic3\", \"Topic3\", \"Topic3\", \"Topic3\", \"Topic3\", \"Topic3\", \"Topic3\", \"Topic3\", \"Topic3\", \"Topic3\", \"Topic3\", \"Topic3\", \"Topic3\", \"Topic3\", \"Topic3\", \"Topic3\", \"Topic3\", \"Topic3\", \"Topic3\", \"Topic3\", \"Topic3\", \"Topic3\", \"Topic3\", \"Topic3\", \"Topic3\", \"Topic3\", \"Topic3\", \"Topic3\", \"Topic3\", \"Topic3\", \"Topic3\", \"Topic3\", \"Topic3\", \"Topic3\", \"Topic3\", \"Topic3\", \"Topic3\", \"Topic3\", \"Topic3\", \"Topic3\", \"Topic3\", \"Topic3\", \"Topic3\", \"Topic4\", \"Topic4\", \"Topic4\", \"Topic4\", \"Topic4\", \"Topic4\", \"Topic4\", \"Topic4\", \"Topic4\", \"Topic4\", \"Topic4\", \"Topic4\", \"Topic4\", \"Topic4\", \"Topic4\", \"Topic4\", \"Topic4\", \"Topic4\", \"Topic4\", \"Topic4\", \"Topic4\", \"Topic4\", \"Topic4\", \"Topic4\", \"Topic4\", \"Topic4\", \"Topic4\", \"Topic4\", \"Topic4\", \"Topic4\", \"Topic4\", \"Topic4\", \"Topic4\", \"Topic4\", \"Topic4\", \"Topic4\", \"Topic4\", \"Topic4\", \"Topic4\", \"Topic4\", \"Topic4\", \"Topic4\", \"Topic4\", \"Topic4\", \"Topic4\", \"Topic4\", \"Topic4\", \"Topic4\", \"Topic4\", \"Topic4\", \"Topic4\", \"Topic4\", \"Topic4\", \"Topic4\", \"Topic4\", \"Topic4\", \"Topic4\", \"Topic4\", \"Topic4\", \"Topic4\", \"Topic4\", \"Topic4\", \"Topic4\", \"Topic4\", \"Topic4\", \"Topic4\", \"Topic4\", \"Topic4\", \"Topic4\", \"Topic4\", \"Topic4\", \"Topic4\", \"Topic4\", \"Topic4\", \"Topic4\", \"Topic4\", \"Topic4\", \"Topic4\", \"Topic4\", \"Topic4\", \"Topic4\", \"Topic4\", \"Topic4\", \"Topic4\", \"Topic4\", \"Topic4\", \"Topic4\", \"Topic5\", \"Topic5\", \"Topic5\", \"Topic5\", \"Topic5\", \"Topic5\", \"Topic5\", \"Topic5\", \"Topic5\", \"Topic5\", \"Topic5\", \"Topic5\", \"Topic5\", \"Topic5\", \"Topic5\", \"Topic5\", \"Topic5\", \"Topic5\", \"Topic5\", \"Topic5\", \"Topic5\", \"Topic5\", \"Topic5\", \"Topic5\", \"Topic5\", \"Topic5\", \"Topic5\", \"Topic5\", \"Topic5\", \"Topic5\", \"Topic5\", \"Topic5\", \"Topic5\", \"Topic5\", \"Topic5\", \"Topic5\", \"Topic5\", \"Topic5\", \"Topic5\", \"Topic5\", \"Topic5\", \"Topic5\", \"Topic5\", \"Topic5\", \"Topic5\", \"Topic5\", \"Topic5\", \"Topic5\", \"Topic5\", \"Topic5\", \"Topic5\", \"Topic5\", \"Topic5\", \"Topic5\", \"Topic5\", \"Topic5\", \"Topic5\", \"Topic5\", \"Topic5\", \"Topic5\", \"Topic5\", \"Topic5\", \"Topic5\", \"Topic5\", \"Topic5\", \"Topic5\", \"Topic5\", \"Topic5\", \"Topic5\", \"Topic5\", \"Topic5\", \"Topic5\", \"Topic5\", \"Topic5\", \"Topic5\", \"Topic5\", \"Topic5\", \"Topic5\", \"Topic5\", \"Topic5\", \"Topic5\", \"Topic5\", \"Topic5\", \"Topic5\", \"Topic5\", \"Topic5\", \"Topic5\", \"Topic6\", \"Topic6\", \"Topic6\", \"Topic6\", \"Topic6\", \"Topic6\", \"Topic6\", \"Topic6\", \"Topic6\", \"Topic6\", \"Topic6\", \"Topic6\", \"Topic6\", \"Topic6\", \"Topic6\", \"Topic6\", \"Topic6\", \"Topic6\", \"Topic6\", \"Topic6\", \"Topic6\", \"Topic6\", \"Topic6\", \"Topic6\", \"Topic6\", \"Topic6\", \"Topic6\", \"Topic6\", \"Topic6\", \"Topic6\", \"Topic6\", \"Topic6\", \"Topic6\", \"Topic6\", \"Topic6\", \"Topic6\", \"Topic6\", \"Topic6\", \"Topic6\", \"Topic6\", \"Topic6\", \"Topic6\", \"Topic6\", \"Topic6\", \"Topic6\", \"Topic6\", \"Topic6\", \"Topic6\", \"Topic6\", \"Topic6\", \"Topic6\", \"Topic6\", \"Topic6\", \"Topic6\", \"Topic6\", \"Topic6\", \"Topic6\", \"Topic6\", \"Topic6\", \"Topic6\", \"Topic6\", \"Topic6\", \"Topic6\", \"Topic6\", \"Topic6\", \"Topic6\", \"Topic6\", \"Topic6\", \"Topic6\", \"Topic6\", \"Topic6\", \"Topic6\", \"Topic6\", \"Topic6\", \"Topic6\", \"Topic6\", \"Topic6\", \"Topic6\", \"Topic6\", \"Topic6\", \"Topic6\", \"Topic6\"], \"logprob\": [30.0, 29.0, 28.0, 27.0, 26.0, 25.0, 24.0, 23.0, 22.0, 21.0, 20.0, 19.0, 18.0, 17.0, 16.0, 15.0, 14.0, 13.0, 12.0, 11.0, 10.0, 9.0, 8.0, 7.0, 6.0, 5.0, 4.0, 3.0, 2.0, 1.0, -9.791600227355957, -9.807299613952637, -8.81089973449707, -9.711000442504883, -10.135299682617188, -10.441499710083008, -9.928999900817871, -10.44260025024414, -10.208399772644043, -10.461600303649902, -10.439000129699707, -9.587499618530273, -10.491000175476074, -9.611700057983398, -10.413900375366211, -10.482000350952148, -10.16189956665039, -9.148300170898438, -10.144000053405762, -10.440099716186523, -9.606300354003906, -10.898900032043457, -10.452699661254883, -9.939200401306152, -10.874099731445312, -9.660799980163574, -10.90719985961914, -10.514100074768066, -9.790300369262695, -10.21049976348877, -8.975799560546875, -6.767099857330322, -7.644800186157227, -9.305100440979004, -8.1766996383667, -7.462600231170654, -7.157700061798096, -8.861900329589844, -9.200799942016602, -7.217899799346924, -7.098899841308594, -7.5578999519348145, -8.51140022277832, -7.738999843597412, -8.479999542236328, -9.089799880981445, -6.55709981918335, -7.431399822235107, -7.098700046539307, -7.094900131225586, -7.825200080871582, -7.507800102233887, -5.446599960327148, -5.796999931335449, -7.670199871063232, -8.190500259399414, -6.422800064086914, -6.8105998039245605, -7.072500228881836, -7.302499771118164, -4.834099769592285, -5.664899826049805, -6.520299911499023, -6.2058000564575195, -5.802599906921387, -6.3059000968933105, -6.909900188446045, -5.782199859619141, -5.599299907684326, -6.342899799346924, -6.602200031280518, -5.931099891662598, -6.5605998039245605, -5.60129976272583, -6.315199851989746, -6.785900115966797, -6.828800201416016, -6.632500171661377, -6.374899864196777, -6.55620002746582, -6.489299774169922, -6.689599990844727, -6.642499923706055, -6.290500164031982, -6.654900074005127, -6.656499862670898, -6.458399772644043, -6.558199882507324, -6.546899795532227, -6.536399841308594, -6.630799770355225, -6.628300189971924, -9.796199798583984, -10.319899559020996, -9.67300033569336, -9.811400413513184, -8.957500457763672, -8.5693998336792, -10.408599853515625, -10.20110034942627, -10.452500343322754, -8.356399536132812, -8.786399841308594, -8.769800186157227, -10.184300422668457, -9.942299842834473, -10.163599967956543, -10.830499649047852, -10.212400436401367, -10.8572998046875, -10.857500076293945, -9.752400398254395, -9.503399848937988, -10.200799942016602, -9.120200157165527, -10.454299926757812, -10.459699630737305, -10.950200080871582, -10.508999824523926, -10.469300270080566, -10.82509994506836, -10.85949993133545, -9.749799728393555, -8.293600082397461, -8.555700302124023, -7.964000225067139, -9.200900077819824, -7.905300140380859, -8.727299690246582, -7.920899868011475, -8.275099754333496, -7.3597002029418945, -7.009699821472168, -6.9994001388549805, -7.531899929046631, -6.678899765014648, -7.240300178527832, -8.24489974975586, -7.911300182342529, -8.114399909973145, -7.2677998542785645, -6.774099826812744, -6.20959997177124, -5.7866997718811035, -7.158599853515625, -6.7571001052856445, -6.768199920654297, -5.469799995422363, -6.914400100708008, -6.545599937438965, -6.366199970245361, -6.423900127410889, -6.903200149536133, -4.871200084686279, -6.38100004196167, -6.771500110626221, -6.446599960327148, -6.553699970245361, -6.6855998039245605, -5.6132001876831055, -6.297500133514404, -7.095799922943115, -5.827600002288818, -7.011600017547607, -6.301599979400635, -6.610300064086914, -5.974800109863281, -5.928500175476074, -5.761300086975098, -6.596799850463867, -6.248899936676025, -6.352700233459473, -6.5706000328063965, -6.695799827575684, -6.101099967956543, -6.5019001960754395, -6.5177998542785645, -6.591700077056885, -6.594799995422363, -6.650899887084961, -6.676000118255615, -9.361200332641602, -10.064499855041504, -8.662699699401855, -10.052900314331055, -10.411299705505371, -10.160599708557129, -9.822699546813965, -7.929999828338623, -9.580900192260742, -10.095199584960938, -8.043600082397461, -9.700499534606934, -8.267499923706055, -10.896400451660156, -10.380999565124512, -10.171899795532227, -10.118300437927246, -10.843199729919434, -9.095100402832031, -10.458999633789062, -9.41510009765625, -10.437299728393555, -10.456500053405762, -10.222599983215332, -9.641200065612793, -10.429699897766113, -9.435199737548828, -10.919500350952148, -9.16189956665039, -9.940400123596191, -8.296799659729004, -7.79449987411499, -7.602399826049805, -8.86709976196289, -7.627699851989746, -9.229900360107422, -7.841000080108643, -6.517000198364258, -7.61460018157959, -6.891300201416016, -7.862199783325195, -7.1545000076293945, -8.187899589538574, -6.763700008392334, -5.6031999588012695, -7.909900188446045, -7.2993998527526855, -7.8653998374938965, -7.70959997177124, -5.720699787139893, -7.241700172424316, -7.605000019073486, -7.373700141906738, -6.738900184631348, -6.955999851226807, -7.87060022354126, -5.578199863433838, -6.303699970245361, -7.441699981689453, -6.561100006103516, -6.356900215148926, -7.030700206756592, -6.131199836730957, -6.811699867248535, -6.901400089263916, -6.415800094604492, -6.648200035095215, -5.041200160980225, -6.421500205993652, -5.6691999435424805, -7.109600067138672, -6.357399940490723, -5.731299877166748, -6.610400199890137, -6.494900226593018, -6.4008002281188965, -6.0441999435424805, -6.809999942779541, -6.884900093078613, -6.394000053405762, -6.788700103759766, -6.6819000244140625, -6.676799774169922, -6.132599830627441, -6.417300224304199, -6.494800090789795, -6.291399955749512, -6.704599857330322, -6.656799793243408, -6.607999801635742, -6.694900035858154, -10.026000022888184, -10.026399612426758, -10.514100074768066, -10.473699569702148, -10.49269962310791, -10.52079963684082, -10.513099670410156, -10.544400215148926, -10.527999877929688, -10.538700103759766, -10.543000221252441, -10.535400390625, -10.562299728393555, -10.558500289916992, -10.582300186157227, -10.564399719238281, -10.563899993896484, -10.586099624633789, -10.572500228881836, -10.150500297546387, -10.591099739074707, -9.692500114440918, -10.606399536132812, -10.597999572753906, -10.589500427246094, -10.594200134277344, -10.60669994354248, -10.590399742126465, -10.60219955444336, -9.142999649047852, -9.064499855041504, -8.22700023651123, -7.458600044250488, -9.9975004196167, -7.284999847412109, -6.4131999015808105, -6.237800121307373, -7.063199996948242, -6.942699909210205, -6.635300159454346, -7.472499847412109, -7.819300174713135, -8.100199699401855, -6.399499893188477, -4.854400157928467, -7.156400203704834, -6.476900100708008, -7.031199932098389, -6.758500099182129, -7.395899772644043, -7.337800025939941, -6.646699905395508, -7.078999996185303, -7.173099994659424, -7.534999847412109, -7.811800003051758, -6.755799770355225, -5.619800090789795, -5.86899995803833, -5.7754998207092285, -6.737599849700928, -6.329599857330322, -6.365799903869629, -6.719200134277344, -5.728899955749512, -5.707099914550781, -6.041500091552734, -6.861700057983398, -6.451200008392334, -5.988999843597412, -6.487800121307373, -6.826700210571289, -6.683800220489502, -6.420899868011475, -6.1869001388549805, -6.654399871826172, -6.579599857330322, -6.69789981842041, -6.518199920654297, -6.4934000968933105, -6.4375, -6.66540002822876, -6.650100231170654, -6.659999847412109, -6.663400173187256, -6.623300075531006, -6.651100158691406, -10.552300453186035, -10.551799774169922, -9.161499977111816, -10.587499618530273, -10.18220043182373, -10.604000091552734, -10.610099792480469, -9.921099662780762, -10.649499893188477, -10.631500244140625, -10.630800247192383, -10.627699851989746, -10.65839958190918, -9.945199966430664, -10.641799926757812, -10.650500297546387, -10.650199890136719, -10.661600112915039, -10.662599563598633, -10.67389965057373, -10.717300415039062, -10.698800086975098, -10.71679973602295, -10.725799560546875, -10.6697998046875, -10.667099952697754, -9.985699653625488, -10.672100067138672, -10.674699783325195, -10.68120002746582, -9.444499969482422, -9.818699836730957, -6.776100158691406, -9.277000427246094, -10.31879997253418, -8.559399604797363, -9.605400085449219, -8.770500183105469, -8.95479965209961, -6.767099857330322, -7.283199787139893, -5.911799907684326, -8.419899940490723, -6.5777997970581055, -6.52839994430542, -6.170400142669678, -7.4583001136779785, -6.814700126647949, -6.345099925994873, -7.727399826049805, -4.886099815368652, -7.997799873352051, -6.82390022277832, -7.5721001625061035, -7.186299800872803, -6.950300216674805, -7.107100009918213, -5.6315999031066895, -6.385700225830078, -7.650599956512451, -6.590400218963623, -7.116799831390381, -6.452199935913086, -7.271200180053711, -5.67110013961792, -6.988699913024902, -6.730400085449219, -5.946700096130371, -6.4355998039245605, -6.741000175476074, -7.087200164794922, -7.008699893951416, -6.059800148010254, -6.041100025177002, -5.771699905395508, -6.652299880981445, -6.60890007019043, -6.459499835968018, -6.116300106048584, -6.080599784851074, -6.708000183105469, -6.859300136566162, -6.609799861907959, -6.603700160980225, -6.588500022888184, -6.638500213623047, -6.650000095367432, -10.15719985961914, -9.507499694824219, -10.180000305175781, -10.646699905395508, -10.666299819946289, -8.881799697875977, -10.661199569702148, -10.674699783325195, -10.684800148010254, -10.694199562072754, -10.690799713134766, -10.69890022277832, -10.684399604797363, -9.970399856567383, -10.692999839782715, -9.419300079345703, -10.27340030670166, -10.670900344848633, -10.270999908447266, -10.70110034942627, -10.713700294494629, -10.718799591064453, -10.72719955444336, -10.728400230407715, -10.020000457763672, -10.72350025177002, -10.731499671936035, -10.73390007019043, -10.725199699401855, -10.308500289916992, -9.021699905395508, -9.233699798583984, -7.89739990234375, -8.268400192260742, -7.30709981918335, -9.642000198364258, -7.367400169372559, -5.939199924468994, -5.3790998458862305, -6.197500228881836, -7.2657999992370605, -7.333399772644043, -6.2758002281188965, -5.679599761962891, -6.775400161743164, -8.812299728393555, -8.319600105285645, -6.702300071716309, -7.847899913787842, -6.929500102996826, -4.8917999267578125, -7.803400039672852, -7.675899982452393, -7.4369001388549805, -8.373000144958496, -6.287600040435791, -7.011099815368652, -5.749100208282471, -6.263299942016602, -6.816699981689453, -5.636899948120117, -6.3043999671936035, -6.581099987030029, -6.708700180053711, -5.984600067138672, -5.966400146484375, -6.430600166320801, -6.614699840545654, -6.993100166320801, -6.66349983215332, -6.664999961853027, -6.3541998863220215, -6.502399921417236, -6.663099765777588, -6.57859992980957, -6.4756999015808105, -6.113100051879883, -6.602499961853027, -6.120800018310547, -6.64109992980957, -6.678699970245361, -6.622900009155273], \"loglift\": [30.0, 29.0, 28.0, 27.0, 26.0, 25.0, 24.0, 23.0, 22.0, 21.0, 20.0, 19.0, 18.0, 17.0, 16.0, 15.0, 14.0, 13.0, 12.0, 11.0, 10.0, 9.0, 8.0, 7.0, 6.0, 5.0, 4.0, 3.0, 2.0, 1.0, 0.4528999924659729, 0.43130001425743103, 0.41659998893737793, 0.385699987411499, 0.37779998779296875, 0.3776000142097473, 0.3612000048160553, 0.35839998722076416, 0.3549000024795532, 0.3521000146865845, 0.3479999899864197, 0.3458999991416931, 0.3449000120162964, 0.3447999954223633, 0.34459999203681946, 0.3440999984741211, 0.3434000015258789, 0.34130001068115234, 0.3393999934196472, 0.3370000123977661, 0.3368000090122223, 0.33660000562667847, 0.3359000086784363, 0.33309999108314514, 0.33160001039505005, 0.33160001039505005, 0.3310000002384186, 0.3303000032901764, 0.3301999866962433, 0.32710000872612, 0.32339999079704285, 0.29989999532699585, 0.30790001153945923, 0.31929999589920044, 0.30730000138282776, 0.29010000824928284, 0.28299999237060547, 0.3127000033855438, 0.3181999921798706, 0.2766000032424927, 0.27000001072883606, 0.27489998936653137, 0.3028999865055084, 0.2782000005245209, 0.2985000014305115, 0.3118000030517578, 0.2222999930381775, 0.25760000944137573, 0.23929999768733978, 0.23600000143051147, 0.2637999951839447, 0.2492000013589859, 0.15479999780654907, 0.15639999508857727, 0.2542000114917755, 0.2750999927520752, 0.1736000031232834, 0.19660000503063202, 0.2126999944448471, 0.2206999957561493, 0.05090000107884407, 0.11219999939203262, 0.16290000081062317, 0.12809999287128448, 0.09070000052452087, 0.13269999623298645, 0.18019999563694, 0.06199999898672104, 0.040699999779462814, 0.1143999993801117, 0.14190000295639038, 0.048500001430511475, 0.13120000064373016, -0.0, 0.07880000025033951, 0.14659999310970306, 0.15209999680519104, 0.11110000312328339, 0.0044999998062849045, 0.05530000105500221, 0.02889999933540821, 0.09780000150203705, 0.07909999787807465, -0.06710000336170197, 0.08169999718666077, 0.07609999924898148, -0.027000000700354576, -0.013399999588727951, -0.05810000002384186, -0.11699999868869781, -0.007799999788403511, -0.1096000000834465, 0.5382000207901001, 0.5340999960899353, 0.513700008392334, 0.5098000168800354, 0.48739999532699585, 0.4699000120162964, 0.4666000008583069, 0.4494999945163727, 0.4480000138282776, 0.444599986076355, 0.4399000108242035, 0.43880000710487366, 0.43220001459121704, 0.42980000376701355, 0.42899999022483826, 0.42820000648498535, 0.4268999993801117, 0.42669999599456787, 0.42649999260902405, 0.4262000024318695, 0.42399999499320984, 0.4226999878883362, 0.4226999878883362, 0.42250001430511475, 0.42010000348091125, 0.41749998927116394, 0.4162999987602234, 0.41510000824928284, 0.41440001130104065, 0.4124999940395355, 0.4124000072479248, 0.3970000147819519, 0.38920000195503235, 0.3749000132083893, 0.3962000012397766, 0.3596000075340271, 0.3792000114917755, 0.35280001163482666, 0.3612000048160553, 0.3312999904155731, 0.3197999894618988, 0.31439998745918274, 0.32420000433921814, 0.28780001401901245, 0.29910001158714294, 0.3495999872684479, 0.3301999866962433, 0.3407999873161316, 0.2937000095844269, 0.26019999384880066, 0.22179999947547913, 0.19290000200271606, 0.2768999934196472, 0.2451000064611435, 0.24549999833106995, 0.1315000057220459, 0.250900000333786, 0.2117999941110611, 0.19169999659061432, 0.1876000016927719, 0.23350000381469727, 0.013899999670684338, 0.16380000114440918, 0.20350000262260437, 0.15929999947547913, 0.1720000058412552, 0.18469999730587006, 0.026799999177455902, 0.12189999967813492, 0.23639999330043793, 0.016599999740719795, 0.21629999577999115, 0.07779999822378159, 0.12950000166893005, -0.021299999207258224, -0.03519999980926514, -0.1599999964237213, 0.09920000284910202, -0.025599999353289604, -0.018799999728798866, 0.052299998700618744, 0.1137000024318695, -0.3240000009536743, -0.044599998742341995, -0.12380000203847885, -0.0731000006198883, -0.15620000660419464, -0.16210000216960907, -0.07959999889135361, 0.5740000009536743, 0.5439000129699707, 0.5332000255584717, 0.5163999795913696, 0.5077000260353088, 0.5072000026702881, 0.5044999718666077, 0.4932999908924103, 0.48249998688697815, 0.4814999997615814, 0.48019999265670776, 0.4708000123500824, 0.4706000089645386, 0.46779999136924744, 0.4675999879837036, 0.4668000042438507, 0.4648999869823456, 0.46389999985694885, 0.46380001306533813, 0.46299999952316284, 0.4627000093460083, 0.4596000015735626, 0.45559999346733093, 0.4510999917984009, 0.4487000107765198, 0.44839999079704285, 0.4447000026702881, 0.44359999895095825, 0.4426000118255615, 0.44209998846054077, 0.42239999771118164, 0.4097000062465668, 0.40149998664855957, 0.426800012588501, 0.3824999928474426, 0.42669999599456787, 0.35670000314712524, 0.29249998927116394, 0.3434999883174896, 0.2980000078678131, 0.3452000021934509, 0.29510000348091125, 0.3578999936580658, 0.2646999955177307, 0.17389999330043793, 0.33329999446868896, 0.2840999960899353, 0.3262999951839447, 0.3125, 0.12349999696016312, 0.2678999900817871, 0.30329999327659607, 0.2777999937534332, 0.21150000393390656, 0.2248000055551529, 0.32249999046325684, 0.061900001019239426, 0.13490000367164612, 0.2705000042915344, 0.16050000488758087, 0.13199999928474426, 0.21529999375343323, 0.09220000356435776, 0.1851000040769577, 0.1940000057220459, 0.10239999741315842, 0.13910000026226044, -0.15620000660419464, 0.09709999710321426, -0.06780000030994415, 0.2184000015258789, 0.03660000115633011, -0.12999999523162842, 0.08560000360012054, 0.04989999905228615, 0.01860000006854534, -0.09070000052452087, 0.12960000336170197, 0.15379999577999115, -0.014600000344216824, 0.11819999665021896, 0.07590000331401825, 0.06679999828338623, -0.23929999768733978, -0.08330000191926956, -0.06350000202655792, -0.3118000030517578, 0.03189999982714653, -0.050999999046325684, -0.15070000290870667, -0.09839999675750732, 1.3102999925613403, 1.3099000453948975, 0.7910000085830688, 0.7886000275611877, 0.7886000275611877, 0.761900007724762, 0.755299985408783, 0.73089998960495, 0.7293999791145325, 0.7236999869346619, 0.72079998254776, 0.7181000113487244, 0.7023000121116638, 0.7006000280380249, 0.6887000203132629, 0.6851999759674072, 0.6823999881744385, 0.678600013256073, 0.6762999892234802, 0.6747999787330627, 0.6725000143051147, 0.6710000038146973, 0.6705999970436096, 0.6675000190734863, 0.6617000102996826, 0.6614999771118164, 0.6611999869346619, 0.6601999998092651, 0.6496999859809875, 0.6492000222206116, 0.574400007724762, 0.5098000168800354, 0.4368000030517578, 0.6171000003814697, 0.40610000491142273, 0.31940001249313354, 0.2808000147342682, 0.34940001368522644, 0.33640000224113464, 0.29179999232292175, 0.35600000619888306, 0.39089998602867126, 0.4185999929904938, 0.22349999845027924, 0.030700000002980232, 0.30720001459121704, 0.2190999984741211, 0.28540000319480896, 0.24330000579357147, 0.32989999651908875, 0.31690001487731934, 0.22010000050067902, 0.26840001344680786, 0.27649998664855957, 0.329800009727478, 0.366100013256073, 0.1940000057220459, -0.018400000408291817, 0.024299999698996544, 0.0015999999595806003, 0.1745000034570694, 0.08980000019073486, 0.09149999916553497, 0.1500999927520752, -0.08889999985694885, -0.10580000281333923, -0.061900001019239426, 0.17910000681877136, 0.03759999945759773, -0.14480000734329224, 0.030400000512599945, 0.15289999544620514, 0.06030000001192093, -0.0869000032544136, -0.23340000212192535, 0.03739999979734421, -0.021800000220537186, 0.05999999865889549, -0.0868000015616417, -0.11400000005960464, -0.2142000049352646, 0.017799999564886093, -0.038600001484155655, -0.06360000371932983, -0.0575999990105629, -0.22930000722408295, -0.21250000596046448, 0.8399999737739563, 0.8360999822616577, 0.8276000022888184, 0.7960000038146973, 0.7875999808311462, 0.7756999731063843, 0.775600016117096, 0.7745000123977661, 0.7742000222206116, 0.7491000294685364, 0.7480000257492065, 0.745199978351593, 0.7418000102043152, 0.7411999702453613, 0.7386999726295471, 0.7360000014305115, 0.725600004196167, 0.7174000144004822, 0.7159000039100647, 0.7124999761581421, 0.7077999711036682, 0.7071999907493591, 0.7069000005722046, 0.7046999931335449, 0.7038999795913696, 0.7024000287055969, 0.7005000114440918, 0.698199987411499, 0.6966999769210815, 0.695900022983551, 0.6841999888420105, 0.6808000206947327, 0.5493000149726868, 0.6489999890327454, 0.6865000128746033, 0.5910999774932861, 0.640999972820282, 0.5769000053405762, 0.5796999931335449, 0.4002000093460083, 0.4311000108718872, 0.31150001287460327, 0.5252000093460083, 0.3546999990940094, 0.3418999910354614, 0.22360000014305115, 0.3792000114917755, 0.28949999809265137, 0.2126999944448471, 0.38749998807907104, -0.0010999999940395355, 0.4221999943256378, 0.2619999945163727, 0.3537999987602234, 0.289900004863739, 0.25450000166893005, 0.2605000138282776, 0.008500000461935997, 0.13249999284744263, 0.3474000096321106, 0.15360000729560852, 0.23970000445842743, 0.09260000288486481, 0.2590000033378601, -0.0697999969124794, 0.19740000367164612, 0.1388999968767166, -0.05339999869465828, 0.053199999034404755, 0.12460000067949295, 0.21060000360012054, 0.1875, -0.08020000159740448, -0.08760000020265579, -0.17030000686645508, 0.06930000334978104, -0.003100000089034438, -0.08009999990463257, -0.2721000015735626, -0.3034000098705292, 0.035599999129772186, 0.09200000017881393, -0.1525000035762787, -0.17239999771118164, -0.25459998846054077, -0.19990000128746033, -0.2304999977350235, 0.9083999991416931, 0.8461999893188477, 0.8379999995231628, 0.791700005531311, 0.7723000049591064, 0.7717999815940857, 0.7634999752044678, 0.755299985408783, 0.741599977016449, 0.7405999898910522, 0.7366999983787537, 0.7315000295639038, 0.7310000061988831, 0.7307999730110168, 0.7264999747276306, 0.7222999930381775, 0.7197999954223633, 0.7178000211715698, 0.7160000205039978, 0.715399980545044, 0.7044000029563904, 0.6992999911308289, 0.6916000247001648, 0.6909999847412109, 0.6909999847412109, 0.6870999932289124, 0.6863999962806702, 0.6841999888420105, 0.682699978351593, 0.6819000244140625, 0.6334999799728394, 0.6363000273704529, 0.5697000026702881, 0.5483999848365784, 0.44449999928474426, 0.6190999746322632, 0.4207000136375427, 0.2840999960899353, 0.22220000624656677, 0.2913999855518341, 0.39399999380111694, 0.39239999651908875, 0.28209999203681946, 0.21369999647140503, 0.3287999927997589, 0.5286999940872192, 0.47360000014305115, 0.2727000117301941, 0.4115000069141388, 0.2784000039100647, -0.006800000090152025, 0.38839998841285706, 0.36169999837875366, 0.3179999887943268, 0.4555000066757202, 0.13179999589920044, 0.2451999932527542, 0.02800000086426735, 0.1160999983549118, 0.20250000059604645, -0.03550000116229057, 0.08959999680519104, 0.1446000039577484, 0.16060000658035278, -0.004999999888241291, -0.012900000438094139, 0.08799999952316284, 0.1251000016927719, 0.19300000369548798, 0.09390000253915787, 0.09290000051259995, -0.02019999921321869, 0.015799999237060547, 0.08100000023841858, 0.027300000190734863, -0.03709999844431877, -0.2689000070095062, -0.006099999882280827, -0.48080000281333923, -0.029600000008940697, 0.013100000098347664, -0.1915999948978424]}, \"token.table\": {\"Topic\": [1, 2, 3, 4, 1, 2, 1, 2, 3, 4, 5, 6, 1, 2, 3, 4, 5, 1, 2, 3, 4, 5, 6, 1, 2, 3, 4, 5, 6, 1, 2, 3, 4, 5, 6, 1, 2, 3, 4, 5, 6, 1, 2, 3, 4, 6, 1, 2, 3, 4, 5, 6, 1, 2, 3, 4, 5, 6, 1, 2, 3, 4, 5, 6, 1, 2, 3, 4, 5, 1, 2, 3, 1, 2, 3, 4, 1, 1, 2, 3, 4, 5, 6, 4, 1, 2, 3, 4, 5, 6, 1, 1, 2, 3, 4, 1, 2, 3, 4, 5, 6, 1, 2, 3, 4, 5, 6, 1, 2, 3, 4, 1, 2, 3, 4, 5, 6, 1, 2, 3, 4, 5, 6, 1, 2, 3, 4, 1, 3, 1, 2, 3, 4, 5, 1, 2, 3, 4, 5, 6, 1, 4, 1, 2, 3, 4, 1, 2, 3, 4, 5, 6, 1, 4, 1, 2, 3, 4, 5, 6, 1, 3, 4, 1, 2, 3, 4, 5, 6, 1, 2, 3, 4, 5, 6, 1, 2, 3, 4, 5, 6, 1, 2, 3, 4, 5, 6, 1, 3, 4, 1, 2, 3, 1, 2, 1, 2, 3, 4, 5, 6, 1, 2, 1, 2, 3, 4, 5, 1, 2, 3, 4, 5, 6, 1, 2, 3, 4, 5, 6, 1, 2, 3, 4, 5, 6, 1, 1, 2, 3, 4, 5, 6, 1, 1, 2, 4, 1, 2, 3, 4, 5, 6, 1, 2, 4, 1, 1, 2, 3, 4, 5, 6, 1, 2, 1, 2, 3, 4, 5, 6, 1, 2, 3, 4, 5, 6, 1, 2, 3, 4, 5, 6, 1, 2, 3, 4, 5, 6, 1, 2, 3, 4, 5, 6, 1, 4, 1, 2, 3, 4, 5, 6, 1, 2, 3, 4, 1, 2, 3, 1, 2, 3, 4, 5, 6, 1, 2, 3, 4, 5, 1, 2, 3, 1, 2, 3, 4, 5, 6, 1, 2, 3, 4, 5, 6, 1, 2, 3, 4, 5, 6, 1, 2, 3, 4, 5, 6, 1, 3, 1, 1, 2, 3, 4, 5, 6, 1, 2, 1, 2, 3, 4, 5, 6, 1, 2, 3, 4, 5, 6, 1, 2, 3, 1, 4, 1, 2, 1, 2, 3, 4, 5, 6, 1, 2, 3, 4, 5, 6, 1, 2, 3, 4, 5, 6, 1, 2, 3, 4, 5, 6, 2, 1, 2, 3, 4, 5, 6, 1, 2, 3, 4, 5, 6, 1, 2, 3, 4, 5, 6, 1, 2, 3, 4, 5, 6, 1, 1, 2, 1, 2, 3, 4, 5, 1, 2, 3, 4, 5, 6, 1, 3, 1, 2, 3, 4, 5, 6, 1, 2, 3, 4, 5, 6, 1, 2, 3, 4, 5, 6, 1, 2, 3, 4, 1, 2, 2, 1, 2, 3, 4, 5, 6, 1, 2, 3, 4, 1, 2, 3, 4, 5, 6, 1, 2, 3, 4, 1, 2, 4, 1, 2, 3, 4, 1, 2, 3, 4, 5, 6, 1, 2, 3, 4, 5, 6, 1, 2, 3, 4, 5, 6, 1, 2, 3, 4, 5, 6, 1, 2, 3, 4, 5, 6, 2, 3, 1, 2, 3, 4, 5, 1, 2, 3, 4, 5, 6, 1, 2, 3, 4, 4, 1, 2, 3, 4, 5, 6, 1, 1, 2, 3, 4, 5, 6, 1, 2, 3, 4, 5, 6, 1, 2, 3, 4, 5, 6, 1, 2, 3, 4, 5, 1, 1, 2, 3, 4, 5, 4, 1, 2, 3, 4, 1, 2, 3, 4, 5, 6, 1, 2, 3, 4, 5, 6, 1, 2, 3, 4, 1, 2, 3, 4, 5, 6, 1, 2, 3, 4, 5, 6, 1, 1, 2, 1, 2, 3, 4, 5, 6, 1, 2, 3, 4, 5, 6, 1, 2, 3, 4, 5, 6, 1, 2, 3, 4, 5, 6, 1, 2, 3, 4, 5, 6, 1, 2, 3, 4, 1, 2, 3, 1, 1, 4, 1, 2, 3, 4, 5, 6, 1, 2, 3, 4, 5, 6, 1, 2, 3, 4, 5, 6, 1, 2, 3, 1, 2, 3, 4, 5, 6, 1, 2, 3, 4, 5, 6, 1, 2, 3, 4, 5, 6, 1, 4, 1, 2, 3, 4, 5, 6, 1, 2, 3, 4, 5, 6, 1, 2, 3, 4, 1, 1, 2, 3, 4, 5, 6, 1, 2, 3, 4, 5, 6, 1, 2, 3, 4, 5, 6, 1, 2, 3, 4, 5, 6, 1, 2, 3, 4, 5, 6, 1, 2, 3, 4, 5, 6, 1, 2, 3, 4, 5, 6, 1, 2, 3, 4, 5, 6, 1, 2, 3, 4, 5, 1, 2, 3, 4, 5, 6, 1, 2, 3, 4, 5, 6, 1, 1, 2, 3, 4, 5, 6, 1, 2, 3, 4, 1, 2, 3, 4, 5, 6, 1, 2, 3, 4, 5, 6, 1, 2, 3, 4, 5, 1, 2, 3, 4, 5, 6, 1, 2, 3, 4, 1, 2, 3, 4, 5, 6, 1, 2, 3, 4, 5, 6, 1, 2, 3, 4, 5, 6, 1, 2, 3, 4, 5, 6, 1, 2, 3, 4, 5, 6, 1, 2, 3, 4, 5, 6, 1, 2, 3, 4, 5, 6, 1, 4, 1, 2, 3, 4, 5, 6, 1, 2, 3, 4, 5, 6, 1, 2, 3, 4, 5, 6, 1, 2, 3, 4, 5, 6, 1, 2, 3, 4, 5, 6, 1, 2, 3, 1, 2, 3, 4, 5, 6, 1, 1, 2, 3, 4, 5, 6, 1, 1, 2, 3, 4, 5, 6, 1, 2, 3, 4, 1, 2, 3, 4, 5, 6, 4, 1, 2, 3, 4, 5, 6, 1, 2, 3, 4, 5, 6, 1, 2, 3, 4, 5, 6, 1, 2, 3, 4, 5, 6, 1, 2, 3, 4, 5, 6, 1, 2, 3, 4, 5, 6, 1, 2, 3, 4, 5, 6, 1, 2, 3, 4, 5, 6, 1, 2, 1, 2, 3, 4, 6, 1, 2, 1, 2, 3, 4, 5, 6, 1, 4, 1, 4, 1, 2, 3, 4, 5, 6, 1, 2, 3, 4, 5, 6, 1, 2, 3, 4, 5, 6, 1, 2, 3, 4, 5, 6, 1, 2, 3, 4, 5, 6, 1, 1, 2, 3, 4, 5, 6, 1, 2, 3, 4, 5, 6, 1, 2, 3, 4, 5, 6, 2, 3, 4, 1, 2, 3, 4, 5, 6, 1, 2, 3, 4, 5, 6, 1, 2, 3, 4, 5, 6, 1, 2, 1, 2, 3, 4, 5, 6, 1, 2, 3, 4, 5, 6, 1, 2, 3, 1, 2, 3, 2, 2, 1, 2, 3, 4, 5, 6, 1, 2, 3, 2, 1, 2, 3, 4, 5, 6, 1, 2, 3, 4, 5, 6, 1, 3, 1, 4, 1, 2, 3, 4, 5, 6, 1, 2, 3, 4, 5, 6, 1, 2, 3, 4, 6, 1, 2, 3, 4, 5, 6, 1, 2, 3, 4, 5, 6, 1, 2, 3, 4, 5, 1, 2, 3, 4, 5, 6, 1, 2, 3, 4, 5, 6, 1, 2, 3, 4, 5, 6, 1, 2, 3, 4, 1, 2, 3, 4, 5, 6, 1, 2, 3, 4, 5, 6, 1, 2, 3, 1, 2, 3, 4, 5, 6, 1, 3, 1, 2, 3, 4, 1, 2, 3, 4, 5, 6, 1, 4, 1, 2, 3, 4, 5, 6, 1, 1, 2, 3, 4, 5, 6, 1, 2, 3, 4, 5, 6, 1, 2, 1, 2, 3, 4, 5, 6, 1, 2, 3, 4, 1, 2, 3, 4, 5, 6, 1, 2, 3, 5, 1, 2, 3, 4, 1, 1, 2, 3, 4, 5, 6, 1, 2, 3, 1, 2, 3, 4, 5, 6, 1, 4, 1, 2, 3, 4, 5, 1, 4, 1, 2, 3, 4, 5, 6, 1, 2, 3, 4, 5, 6, 1, 2, 3, 4, 5, 6, 1, 2, 3, 4, 5, 6, 1, 2, 3, 4, 5, 6, 1, 3, 1, 2, 3, 4, 5, 6, 1, 2, 3, 4, 5, 6, 1, 4, 1, 2, 3, 4, 5, 6, 1, 4, 1, 2, 3, 4, 5, 6, 1, 2, 3, 4, 5, 6, 1, 2, 3, 4, 5, 6, 1, 2, 3, 4, 5, 6, 1, 2, 3, 4, 5, 6, 1, 2, 3, 4, 5, 6, 1, 2, 3, 4, 5, 1, 4, 1, 1, 2, 3, 1, 2, 1, 2, 3, 4, 5, 6, 1, 2, 3, 4, 5, 6, 1, 2, 3, 4, 1, 2, 3, 4, 5, 6, 1, 2, 3, 4, 5, 1, 2, 3, 4, 5, 6, 1, 2, 3, 4, 5, 6, 1, 2, 3, 4, 5, 6, 1, 2, 3, 4, 5, 6, 1, 2, 3, 4, 5, 6, 1, 2, 3, 4, 5, 6, 1, 2, 3, 4, 5, 6, 1, 2, 3, 4, 5, 6, 1, 4, 1, 2, 3, 4, 5, 6, 1, 2, 3, 4, 5, 6, 1, 2, 3, 4, 5, 6, 1, 1, 2, 1, 2, 3, 4, 5, 6, 1, 2, 3, 4, 5, 6, 1, 2, 3, 4, 5, 6, 1, 2, 3, 4, 5, 6, 1, 2, 3, 4, 5, 6, 1, 2, 3, 4, 5, 6, 1, 2, 3, 4, 5, 6, 1, 4, 1, 2, 3, 4, 5, 6, 1, 2, 3, 4, 5, 1, 2, 3, 4, 5, 6, 1, 3, 1, 2, 3, 4, 1, 4], \"Freq\": [0.35964226722717285, 0.11988075822591782, 0.11988075822591782, 0.23976151645183563, 0.4040798842906952, 0.4040798842906952, 0.4532698392868042, 0.19425851106643677, 0.1295056790113449, 0.1295056790113449, 0.06475283950567245, 0.043168555945158005, 0.31950369477272034, 0.15975184738636017, 0.15975184738636017, 0.15975184738636017, 0.15975184738636017, 0.31253552436828613, 0.20091569423675537, 0.24556362628936768, 0.13394379615783691, 0.06697189807891846, 0.044647932052612305, 0.3750893175601959, 0.203995943069458, 0.17767389118671417, 0.15135182440280914, 0.059224627912044525, 0.03948308527469635, 0.3057328760623932, 0.2116612195968628, 0.2586970627307892, 0.117589570581913, 0.0705537423491478, 0.0470358282327652, 0.30695033073425293, 0.1958131343126297, 0.19052088260650635, 0.2063976228237152, 0.04763022065162659, 0.05292246863245964, 0.19820329546928406, 0.19820329546928406, 0.19820329546928406, 0.19820329546928406, 0.19820329546928406, 0.2686924338340759, 0.2686924338340759, 0.17912828922271729, 0.17912828922271729, 0.08956414461135864, 0.08956414461135864, 0.3524587154388428, 0.1762293577194214, 0.22909817099571228, 0.1409834921360016, 0.052868809551000595, 0.04405733942985535, 0.23709610104560852, 0.29637011885643005, 0.1778220683336258, 0.14818505942821503, 0.05927402526140213, 0.05927402526140213, 0.47263869643211365, 0.11815967410802841, 0.11815967410802841, 0.11815967410802841, 0.11815967410802841, 0.436747670173645, 0.2183738350868225, 0.2183738350868225, 0.252172589302063, 0.252172589302063, 0.252172589302063, 0.252172589302063, 0.5934167504310608, 0.3364238440990448, 0.18115130066871643, 0.14233316481113434, 0.21996943652629852, 0.06469689309597015, 0.03881813585758209, 0.6545315980911255, 0.3444107174873352, 0.2321028858423233, 0.14974379539489746, 0.15723098814487457, 0.07487189769744873, 0.029948757961392403, 0.5889227390289307, 0.3763750195503235, 0.18818750977516174, 0.18818750977516174, 0.18818750977516174, 0.3199375867843628, 0.1777430921792984, 0.2843889594078064, 0.0710972398519516, 0.0710972398519516, 0.0355486199259758, 0.44349101185798645, 0.1876308023929596, 0.1876308023929596, 0.11940142512321472, 0.034114692360162735, 0.034114692360162735, 0.40832337737083435, 0.20416168868541718, 0.20416168868541718, 0.20416168868541718, 0.3128860592842102, 0.1564430296421051, 0.11733227223157883, 0.23466454446315765, 0.07822151482105255, 0.039110757410526276, 0.35597658157348633, 0.17798829078674316, 0.17798829078674316, 0.17798829078674316, 0.08899414539337158, 0.08899414539337158, 0.23860321938991547, 0.23860321938991547, 0.23860321938991547, 0.23860321938991547, 0.43933960795402527, 0.21966980397701263, 0.31185057759284973, 0.31185057759284973, 0.15592528879642487, 0.15592528879642487, 0.07796264439821243, 0.36782145500183105, 0.22069287300109863, 0.14712858200073242, 0.14712858200073242, 0.14712858200073242, 0.07356429100036621, 0.6078416109085083, 0.6078416109085083, 0.4598616063594818, 0.2299308031797409, 0.2299308031797409, 0.2299308031797409, 0.31041523814201355, 0.2626590430736542, 0.14326857030391693, 0.17908571660518646, 0.05969524011015892, 0.04775619134306908, 0.609302282333374, 0.609302282333374, 0.2531357705593109, 0.29532507061958313, 0.2109464704990387, 0.12656788527965546, 0.04218929260969162, 0.04218929260969162, 0.325797438621521, 0.325797438621521, 0.325797438621521, 0.3319782614707947, 0.11065942049026489, 0.3319782614707947, 0.11065942049026489, 0.11065942049026489, 0.11065942049026489, 0.263437420129776, 0.263437420129776, 0.15806245803833008, 0.15806245803833008, 0.05268748477101326, 0.10537496954202652, 0.25782710313796997, 0.17188474535942078, 0.25782710313796997, 0.2005321979522705, 0.05729491263628006, 0.02864745631814003, 0.3230018615722656, 0.20483045279979706, 0.19301331043243408, 0.12604950368404388, 0.09059808403253555, 0.06302475184202194, 0.3160758316516876, 0.3160758316516876, 0.3160758316516876, 0.3208940029144287, 0.3208940029144287, 0.3208940029144287, 0.4133837819099426, 0.4133837819099426, 0.24802768230438232, 0.28346019983291626, 0.17716263234615326, 0.14173009991645813, 0.1062975749373436, 0.07086504995822906, 0.41656434535980225, 0.41656434535980225, 0.32398363947868347, 0.2159890979528427, 0.2159890979528427, 0.2159890979528427, 0.10799454897642136, 0.4580089747905731, 0.12722471356391907, 0.15266965329647064, 0.2035595327615738, 0.05088988319039345, 0.025444941595196724, 0.3332158029079437, 0.19040903449058533, 0.23801130056381226, 0.16660790145397186, 0.04760225862264633, 0.04760225862264633, 0.3041384816169739, 0.24711251258850098, 0.13306057453155518, 0.16157355904579163, 0.09504327178001404, 0.06653028726577759, 0.3902169167995453, 0.2637137174606323, 0.19778528809547424, 0.19778528809547424, 0.21426740288734436, 0.0824105367064476, 0.04944632202386856, 0.3785240948200226, 0.3468134105205536, 0.3468134105205536, 0.3468134105205536, 0.44583243131637573, 0.17337928712368011, 0.1362265795469284, 0.14861081540584564, 0.04953693598508835, 0.04953693598508835, 0.31803107261657715, 0.31803107261657715, 0.31803107261657715, 0.6015675663948059, 0.25699636340141296, 0.22844120860099792, 0.25699636340141296, 0.142775759100914, 0.05711030215024948, 0.05711030215024948, 0.5702385306358337, 0.28511926531791687, 0.3121734857559204, 0.26288294792175293, 0.2300225794315338, 0.09858110547065735, 0.049290552735328674, 0.032860368490219116, 0.33887284994125366, 0.19767583906650543, 0.25415465235710144, 0.14119702577590942, 0.05647880956530571, 0.05647880956530571, 0.41417062282562256, 0.16566824913024902, 0.18223507702350616, 0.13253460824489594, 0.049700476229190826, 0.06626730412244797, 0.36162886023521423, 0.16072393953800201, 0.24108590185642242, 0.12054295092821121, 0.040180984884500504, 0.040180984884500504, 0.3058321475982666, 0.22019915282726288, 0.19573257863521576, 0.14679943025112152, 0.08563300222158432, 0.0611664280295372, 0.5996515154838562, 0.5996515154838562, 0.3731769025325775, 0.21324394643306732, 0.21324394643306732, 0.10662197321653366, 0.05331098660826683, 0.05331098660826683, 0.4875297546386719, 0.16250991821289062, 0.16250991821289062, 0.16250991821289062, 0.32602012157440186, 0.32602012157440186, 0.32602012157440186, 0.27515092492103577, 0.23584365844726562, 0.27515092492103577, 0.15722911059856415, 0.03930727764964104, 0.03930727764964104, 0.5162591934204102, 0.10325183719396591, 0.10325183719396591, 0.10325183719396591, 0.10325183719396591, 0.31110283732414246, 0.31110283732414246, 0.31110283732414246, 0.21993888914585114, 0.3079144358634949, 0.17595110833644867, 0.1319633424282074, 0.08797555416822433, 0.04398777708411217, 0.3181246519088745, 0.22024013102054596, 0.19576901197433472, 0.14682675898075104, 0.07341337949037552, 0.040785208344459534, 0.4253746271133423, 0.21268731355667114, 0.10634365677833557, 0.10634365677833557, 0.10634365677833557, 0.10634365677833557, 0.36952918767929077, 0.19448904693126678, 0.20745497941970825, 0.12965935468673706, 0.07131265103816986, 0.032414838671684265, 0.421796053647995, 0.421796053647995, 0.4644024968147278, 0.2372688204050064, 0.2579008936882019, 0.20632071793079376, 0.15474052727222443, 0.08252828568220139, 0.06189621239900589, 0.574672281742096, 0.287336140871048, 0.3038119375705719, 0.18696120381355286, 0.2570716440677643, 0.14022089540958405, 0.046740300953388214, 0.046740300953388214, 0.40299445390701294, 0.20450465381145477, 0.1593933254480362, 0.12330427765846252, 0.06315585225820541, 0.04811874032020569, 0.3880981504917145, 0.19404907524585724, 0.19404907524585724, 0.60865318775177, 0.60865318775177, 0.5579028129577637, 0.27895140647888184, 0.3544312119483948, 0.1639905720949173, 0.19573067128658295, 0.15870055556297302, 0.07935027778148651, 0.04761016368865967, 0.44116875529289246, 0.17885220050811768, 0.1669287234544754, 0.1311582773923874, 0.04769391939043999, 0.035770438611507416, 0.24319247901439667, 0.19455397129058838, 0.19455397129058838, 0.24319247901439667, 0.048638492822647095, 0.048638492822647095, 0.3069966435432434, 0.18419797718524933, 0.23024748265743256, 0.1688481569290161, 0.07674916088581085, 0.03069966472685337, 0.6211661696434021, 0.4563882648944855, 0.20283924043178558, 0.1521294265985489, 0.10141962021589279, 0.050709810107946396, 0.050709810107946396, 0.25471508502960205, 0.25471508502960205, 0.25471508502960205, 0.16981005668640137, 0.08490502834320068, 0.08490502834320068, 0.3453282415866852, 0.22561445832252502, 0.1703619360923767, 0.1381313055753708, 0.06446127593517303, 0.055252522230148315, 0.4018200933933258, 0.17764678597450256, 0.16284288465976715, 0.1522686630487442, 0.057100750505924225, 0.04652653634548187, 0.47005724906921387, 0.42333370447158813, 0.42333370447158813, 0.5561680793762207, 0.15890516340732574, 0.15890516340732574, 0.07945258170366287, 0.07945258170366287, 0.32361847162246704, 0.1797880381345749, 0.20033523440361023, 0.15924082696437836, 0.07191521674394608, 0.06677841395139694, 0.46154677867889404, 0.46154677867889404, 0.2787966728210449, 0.2555636167526245, 0.18586444854736328, 0.13939833641052246, 0.09293222427368164, 0.04646611213684082, 0.365586519241333, 0.12186217308044434, 0.24372434616088867, 0.12186217308044434, 0.12186217308044434, 0.12186217308044434, 0.22823366522789001, 0.22823366522789001, 0.24165916442871094, 0.20138263702392578, 0.053702037781476974, 0.053702037781476974, 0.20565727353096008, 0.41131454706192017, 0.20565727353096008, 0.20565727353096008, 0.41275811195373535, 0.41275811195373535, 0.6212193965911865, 0.33192265033721924, 0.24139828979969025, 0.18104872107505798, 0.09052436053752899, 0.06034957244992256, 0.06034957244992256, 0.5684648156166077, 0.1894882768392563, 0.1894882768392563, 0.1894882768392563, 0.2734616696834564, 0.2905530333518982, 0.17091354727745056, 0.1538221836090088, 0.05127406492829323, 0.05127406492829323, 0.3051033616065979, 0.15255168080329895, 0.3051033616065979, 0.15255168080329895, 0.3502340018749237, 0.3502340018749237, 0.3502340018749237, 0.30444809794425964, 0.30444809794425964, 0.30444809794425964, 0.15222404897212982, 0.24776098132133484, 0.2300637662410736, 0.17697212100028992, 0.21236655116081238, 0.07078885287046432, 0.07078885287046432, 0.328592985868454, 0.2300150990486145, 0.21906200051307678, 0.12048409879207611, 0.06571859866380692, 0.04381239786744118, 0.2787880599498749, 0.2424243986606598, 0.14545464515686035, 0.2060607373714447, 0.07272732257843018, 0.06060609966516495, 0.4381698966026306, 0.20082786679267883, 0.12779955565929413, 0.1460566371679306, 0.03651415929198265, 0.03651415929198265, 0.3418549597263336, 0.20511296391487122, 0.11964923143386841, 0.23929846286773682, 0.051278240978717804, 0.0341854952275753, 0.4312017261981964, 0.4312017261981964, 0.45213940739631653, 0.15071313083171844, 0.15071313083171844, 0.07535656541585922, 0.07535656541585922, 0.26136067509651184, 0.2940307855606079, 0.13068033754825592, 0.1633504331111908, 0.06534016877412796, 0.06534016877412796, 0.48281753063201904, 0.16093917191028595, 0.16093917191028595, 0.16093917191028595, 0.6194608807563782, 0.35097482800483704, 0.14718298614025116, 0.18114829063415527, 0.2151135951280594, 0.05660884082317352, 0.04528707265853882, 0.374166876077652, 0.3256118595600128, 0.23359112441539764, 0.23359112441539764, 0.10617778450250626, 0.06370667368173599, 0.04247111454606056, 0.29378315806388855, 0.2047579437494278, 0.2047579437494278, 0.17805038392543793, 0.07122015953063965, 0.04451259598135948, 0.3088657855987549, 0.20591051876544952, 0.18017171323299408, 0.19733092188835144, 0.06005723401904106, 0.05147762969136238, 0.32671698927879333, 0.32671698927879333, 0.10890566557645798, 0.10890566557645798, 0.10890566557645798, 0.6042792797088623, 0.29623472690582275, 0.29623472690582275, 0.19748981297016144, 0.09874490648508072, 0.09874490648508072, 0.6344000697135925, 0.3224402368068695, 0.16122011840343475, 0.3224402368068695, 0.16122011840343475, 0.33741286396980286, 0.22142718732357025, 0.1792505830526352, 0.1476181298494339, 0.05272075906395912, 0.06326491385698318, 0.36118340492248535, 0.25313708186149597, 0.12965558469295502, 0.14509077370166779, 0.061740752309560776, 0.04939260333776474, 0.36656543612480164, 0.18328271806240082, 0.36656543612480164, 0.18328271806240082, 0.3586008548736572, 0.2119005024433136, 0.22005051374435425, 0.1059502512216568, 0.06520015746355057, 0.048900116235017776, 0.4670483469963074, 0.1923140287399292, 0.14652496576309204, 0.11905153840780258, 0.04578905552625656, 0.03663124144077301, 0.39681780338287354, 0.46311455965042114, 0.46311455965042114, 0.3346422016620636, 0.2618938982486725, 0.164896160364151, 0.14064672589302063, 0.05819864571094513, 0.03879909589886665, 0.34941235184669495, 0.2620592415332794, 0.13438935577869415, 0.14110882580280304, 0.06047521159052849, 0.0537557452917099, 0.35801950097084045, 0.18843130767345428, 0.21669600903987885, 0.14132347702980042, 0.056529391556978226, 0.04710782691836357, 0.44939056038856506, 0.15447799861431122, 0.14043454825878143, 0.14043454825878143, 0.07021727412939072, 0.04213036224246025, 0.30843889713287354, 0.27906376123428345, 0.19093835353851318, 0.1321880966424942, 0.05875026434659958, 0.02937513217329979, 0.23718219995498657, 0.23718219995498657, 0.23718219995498657, 0.23718219995498657, 0.34490352869033813, 0.34490352869033813, 0.34490352869033813, 0.45367899537086487, 0.6087900996208191, 0.6087900996208191, 0.34469518065452576, 0.23896045982837677, 0.1543726772069931, 0.13956981897354126, 0.06344082951545715, 0.06132613494992256, 0.3580454885959625, 0.24737687408924103, 0.13670827448368073, 0.14321818947792053, 0.05207934230566025, 0.05858926102519035, 0.361610472202301, 0.21283358335494995, 0.1498100459575653, 0.16014178097248077, 0.06715623289346695, 0.048559121787548065, 0.24033145606517792, 0.24033145606517792, 0.24033145606517792, 0.2867330014705658, 0.1911553293466568, 0.2867330014705658, 0.1433665007352829, 0.0955776646733284, 0.0477888323366642, 0.3448534905910492, 0.22490444779396057, 0.14243948459625244, 0.19491718709468842, 0.052477702498435974, 0.044980887323617935, 0.34070584177970886, 0.2232210636138916, 0.15273019671440125, 0.1938498616218567, 0.05286814644932747, 0.04111966863274574, 0.611594021320343, 0.611594021320343, 0.3320160210132599, 0.2371542900800705, 0.1422925740480423, 0.13043485581874847, 0.11857714504003525, 0.0474308580160141, 0.29677730798721313, 0.19203238189220428, 0.2269473671913147, 0.17457489669322968, 0.052372466772794724, 0.052372466772794724, 0.27947375178337097, 0.27947375178337097, 0.13973687589168549, 0.27947375178337097, 0.37788140773773193, 0.33858904242515564, 0.1854178011417389, 0.20154109597206116, 0.16929452121257782, 0.05643150582909584, 0.048369862139225006, 0.4662667512893677, 0.22203178703784943, 0.13321906328201294, 0.11101589351892471, 0.044406358152627945, 0.044406358152627945, 0.30984756350517273, 0.25451764464378357, 0.19918771088123322, 0.11065983772277832, 0.06639590114355087, 0.06639590114355087, 0.29005035758018494, 0.24170862138271332, 0.16919603943824768, 0.14502517879009247, 0.07251258939504623, 0.07251258939504623, 0.3022105395793915, 0.1980000138282776, 0.20842106640338898, 0.15631580352783203, 0.08336842805147171, 0.052105266600847244, 0.2922029495239258, 0.1948019564151764, 0.2922029495239258, 0.1461014747619629, 0.0487004891037941, 0.0487004891037941, 0.3736359775066376, 0.19665051996707916, 0.1376553624868393, 0.21631556749343872, 0.045885119587183, 0.03933010250329971, 0.4214540421962738, 0.20503169298171997, 0.14807844161987305, 0.14807844161987305, 0.04556259885430336, 0.034171950072050095, 0.5121055245399475, 0.17070184648036957, 0.17070184648036957, 0.17070184648036957, 0.17070184648036957, 0.3156350553035736, 0.22545361518859863, 0.14278729259967804, 0.18036289513111115, 0.07515120506286621, 0.06012096628546715, 0.2982166111469269, 0.28164902329444885, 0.1905272752046585, 0.14910830557346344, 0.04970276728272438, 0.02485138364136219, 0.591745138168335, 0.45450907945632935, 0.16362327337265015, 0.16362327337265015, 0.09090181440114975, 0.0727214515209198, 0.0363607257604599, 0.22332490980625153, 0.22332490980625153, 0.22332490980625153, 0.22332490980625153, 0.3915814459323883, 0.20679020881652832, 0.16279229521751404, 0.1407933235168457, 0.05279750004410744, 0.04839770868420601, 0.27257639169692993, 0.23064154386520386, 0.1467718929052353, 0.23064154386520386, 0.06290224194526672, 0.04193482920527458, 0.5121349096298218, 0.17071163654327393, 0.08535581827163696, 0.17071163654327393, 0.08535581827163696, 0.4002578854560852, 0.16810831427574158, 0.15209800004959106, 0.15209800004959106, 0.09606189280748367, 0.032020632177591324, 0.245014026761055, 0.245014026761055, 0.245014026761055, 0.245014026761055, 0.3225386142730713, 0.2822212874889374, 0.1814279705286026, 0.12095198035240173, 0.06047599017620087, 0.04031732678413391, 0.33472082018852234, 0.17463694512844086, 0.18919003009796143, 0.16008387506008148, 0.08731847256422043, 0.058212317526340485, 0.24332517385482788, 0.24332517385482788, 0.12166258692741394, 0.12166258692741394, 0.12166258692741394, 0.12166258692741394, 0.44999992847442627, 0.14210523664951324, 0.1657894402742386, 0.14210523664951324, 0.04736841470003128, 0.04736841470003128, 0.3901387155056, 0.1950693577528, 0.144728884100914, 0.16360656917095184, 0.05663304030895233, 0.05034048110246658, 0.27027150988578796, 0.2852866053581238, 0.21021117269992828, 0.12012067437171936, 0.0750754177570343, 0.04504525288939476, 0.3446708917617798, 0.20680253207683563, 0.17922887206077576, 0.13786835968494415, 0.09650784730911255, 0.05514734238386154, 0.6007385849952698, 0.6007385849952698, 0.3832564353942871, 0.1990942507982254, 0.14932069182395935, 0.169230118393898, 0.05972827598452568, 0.034841492772102356, 0.31492534279823303, 0.2274460792541504, 0.17495852708816528, 0.13996681571006775, 0.10497511923313141, 0.052487559616565704, 0.43352580070495605, 0.15895946323871613, 0.1734103113412857, 0.14450860023498535, 0.0578034371137619, 0.02890171855688095, 0.3428419530391693, 0.20167173445224762, 0.18822695314884186, 0.16805978119373322, 0.047056738287210464, 0.053779128938913345, 0.25004827976226807, 0.2857694625854492, 0.20242004096508026, 0.1428847312927246, 0.05953530594706535, 0.05953530594706535, 0.30822792649269104, 0.30822792649269104, 0.30822792649269104, 0.36585909128189087, 0.25552061200141907, 0.13356760144233704, 0.15098945796489716, 0.05226558446884155, 0.04645829647779465, 0.5743983387947083, 0.30671200156211853, 0.23482638597488403, 0.17731788754463196, 0.16773313283920288, 0.052716128528118134, 0.057508502155542374, 0.3832378387451172, 0.40552234649658203, 0.20588058233261108, 0.13725371658802032, 0.15597014129161835, 0.05614924803376198, 0.03743283450603485, 0.2834673225879669, 0.2834673225879669, 0.2834673225879669, 0.2834673225879669, 0.33426418900489807, 0.14856186509132385, 0.22284279763698578, 0.11142139881849289, 0.11142139881849289, 0.07428093254566193, 0.6203752756118774, 0.37376669049263, 0.186883345246315, 0.1822112649679184, 0.12147417664527893, 0.08409750461578369, 0.051392920315265656, 0.43271881341934204, 0.22666223347187042, 0.15797671675682068, 0.08929118514060974, 0.061816975474357605, 0.03434276208281517, 0.41186100244522095, 0.19448992609977722, 0.16016817092895508, 0.143007293343544, 0.045762334018945694, 0.045762334018945694, 0.3583716154098511, 0.18733061850070953, 0.17104099690914154, 0.18733061850070953, 0.04886885732412338, 0.04886885732412338, 0.2893298268318176, 0.19599762558937073, 0.20533084869384766, 0.17733117938041687, 0.08399897813796997, 0.04666610062122345, 0.33636608719825745, 0.2102288007736206, 0.15767160058021545, 0.16818304359912872, 0.08409152179956436, 0.04204576089978218, 0.2969954311847687, 0.23380492627620697, 0.1895715594291687, 0.1958906054496765, 0.05687146633863449, 0.03159525990486145, 0.35829704999923706, 0.19109176099300385, 0.13535666465759277, 0.20701606571674347, 0.06369724869728088, 0.03981078043580055, 0.4146638512611389, 0.4146638512611389, 0.3020797669887543, 0.15103988349437714, 0.3020797669887543, 0.15103988349437714, 0.15103988349437714, 0.3417140543460846, 0.3417140543460846, 0.29944929480552673, 0.29944929480552673, 0.179669588804245, 0.11977972090244293, 0.059889860451221466, 0.059889860451221466, 0.6058812141418457, 0.6058812141418457, 0.5981842279434204, 0.5981842279434204, 0.30310988426208496, 0.27279889583587646, 0.17176227271556854, 0.17176227271556854, 0.05051831528544426, 0.04041464999318123, 0.3174123466014862, 0.258941650390625, 0.1587061733007431, 0.15035320818424225, 0.05011773854494095, 0.06682364642620087, 0.3340848386287689, 0.22272323071956635, 0.17210431396961212, 0.11136161535978317, 0.10123782604932785, 0.050618913024663925, 0.2708183228969574, 0.2482501119375229, 0.18054553866386414, 0.15797734260559082, 0.0977955013513565, 0.045136384665966034, 0.3447333872318268, 0.2585500478744507, 0.0861833468079567, 0.22982226312160492, 0.05745556578040123, 0.028727782890200615, 0.6038123369216919, 0.42270055413246155, 0.18978393077850342, 0.15527775883674622, 0.16390429437160492, 0.043132711201906204, 0.034506168216466904, 0.37662601470947266, 0.20105598866939545, 0.13875694572925568, 0.15857936441898346, 0.065130814909935, 0.05946726351976395, 0.31020587682724, 0.19740374386310577, 0.2538048326969147, 0.16920320689678192, 0.05640107020735741, 0.08460160344839096, 0.32970497012138367, 0.32970497012138367, 0.32970497012138367, 0.3311713933944702, 0.20698212087154388, 0.23802945017814636, 0.11384017020463943, 0.062094636261463165, 0.05174553021788597, 0.212381049990654, 0.30340149998664856, 0.212381049990654, 0.15170074999332428, 0.06068029999732971, 0.030340149998664856, 0.2815626263618469, 0.2815626263618469, 0.2111719697713852, 0.14078131318092346, 0.07039065659046173, 0.07039065659046173, 0.4339551329612732, 0.4339551329612732, 0.25787684321403503, 0.281320184469223, 0.21099014580249786, 0.11721674352884293, 0.07033004611730576, 0.05860837176442146, 0.397830992937088, 0.1458713710308075, 0.15913240611553192, 0.16576291620731354, 0.07956620305776596, 0.05304413288831711, 0.3374231159687042, 0.3374231159687042, 0.3374231159687042, 0.3039563298225403, 0.3039563298225403, 0.3039563298225403, 0.6056755185127258, 0.4993034303188324, 0.31431010365486145, 0.22700174152851105, 0.1746167242527008, 0.1484242081642151, 0.06984668970108032, 0.06111585348844528, 0.45171666145324707, 0.22585833072662354, 0.22585833072662354, 0.6137675046920776, 0.30270659923553467, 0.25317278504371643, 0.1430976688861847, 0.15410517156124115, 0.0825563445687294, 0.06604507565498352, 0.2770380675792694, 0.23746120929718018, 0.19788435101509094, 0.1385190337896347, 0.09894217550754547, 0.03957686945796013, 0.4325143098831177, 0.4325143098831177, 0.6079466938972473, 0.6079466938972473, 0.43231332302093506, 0.19213926792144775, 0.14410445094108582, 0.13209573924541473, 0.04803481698036194, 0.036026112735271454, 0.4123600423336029, 0.17806455492973328, 0.19680818915367126, 0.1405772864818573, 0.04685909301042557, 0.037487275898456573, 0.22994966804981232, 0.3449245095252991, 0.11497483402490616, 0.11497483402490616, 0.11497483402490616, 0.35494691133499146, 0.25814321637153625, 0.12907160818576813, 0.15058353543281555, 0.06453580409288406, 0.04302386939525604, 0.3685476779937744, 0.15455225110054016, 0.21399542689323425, 0.1426636278629303, 0.07133181393146515, 0.035665906965732574, 0.19564403593540192, 0.19564403593540192, 0.19564403593540192, 0.19564403593540192, 0.19564403593540192, 0.45243769884109497, 0.15968389809131622, 0.15968389809131622, 0.11976291984319687, 0.07984194904565811, 0.026613982394337654, 0.33679062128067017, 0.2747502624988556, 0.14180658757686615, 0.14180658757686615, 0.05317746847867966, 0.04431455582380295, 0.4033123254776001, 0.2184608429670334, 0.1848514825105667, 0.10082808136940002, 0.05881638079881668, 0.033609360456466675, 0.24955987930297852, 0.24955987930297852, 0.24955987930297852, 0.24955987930297852, 0.4450029134750366, 0.1483343094587326, 0.1483343094587326, 0.1483343094587326, 0.0741671547293663, 0.03708357736468315, 0.3087867498397827, 0.2573222815990448, 0.20585784316062927, 0.10292892158031464, 0.05146446079015732, 0.10292892158031464, 0.30620622634887695, 0.30620622634887695, 0.30620622634887695, 0.3643926978111267, 0.23685525357723236, 0.16397671401500702, 0.12753744423389435, 0.07287853956222534, 0.07287853956222534, 0.42825615406036377, 0.42825615406036377, 0.24741536378860474, 0.24741536378860474, 0.24741536378860474, 0.24741536378860474, 0.35831528902053833, 0.21542881429195404, 0.18685151636600494, 0.1428864598274231, 0.06814584881067276, 0.03077554516494274, 0.6024914979934692, 0.6024914979934692, 0.3386507034301758, 0.18471857905387878, 0.21550500392913818, 0.1539321392774582, 0.061572857201099396, 0.0410485714673996, 0.6097565293312073, 0.3242809474468231, 0.21618729829788208, 0.21618729829788208, 0.10809364914894104, 0.08647491782903671, 0.043237458914518356, 0.473007470369339, 0.21022553741931915, 0.10511276870965958, 0.10511276870965958, 0.05255638435482979, 0.05255638435482979, 0.3672775626182556, 0.3672775626182556, 0.3690548539161682, 0.26606279611587524, 0.120157390832901, 0.14590540528297424, 0.0600786954164505, 0.03433068469166756, 0.15997536480426788, 0.31995072960853577, 0.15997536480426788, 0.15997536480426788, 0.30872008204460144, 0.21792006492614746, 0.21792006492614746, 0.10896003246307373, 0.054480016231536865, 0.07264002412557602, 0.2200654298067093, 0.2200654298067093, 0.2200654298067093, 0.2200654298067093, 0.202300563454628, 0.404601126909256, 0.202300563454628, 0.202300563454628, 0.47608235478401184, 0.3185964524745941, 0.19115786254405975, 0.23363739252090454, 0.12743857502937317, 0.06371928751468658, 0.04247952625155449, 0.3416393995285034, 0.3416393995285034, 0.3416393995285034, 0.31741055846214294, 0.31741055846214294, 0.15870527923107147, 0.07935263961553574, 0.07935263961553574, 0.07935263961553574, 0.6092430353164673, 0.6092430353164673, 0.36606431007385254, 0.12202144414186478, 0.24404288828372955, 0.12202144414186478, 0.12202144414186478, 0.392629474401474, 0.392629474401474, 0.29415950179100037, 0.2353276014328003, 0.11766380071640015, 0.21571695804595947, 0.05883190035820007, 0.05883190035820007, 0.29383111000061035, 0.1645454317331314, 0.21155841648578644, 0.21155841648578644, 0.07051946967840195, 0.04701298102736473, 0.2322119027376175, 0.32509666681289673, 0.18576952815055847, 0.13932713866233826, 0.04644238203763962, 0.04644238203763962, 0.3201855719089508, 0.18834444880485535, 0.16951000690460205, 0.16951000690460205, 0.07533778250217438, 0.07533778250217438, 0.36084869503974915, 0.17622843384742737, 0.15105293691158295, 0.18462026119232178, 0.07552646845579147, 0.05035097897052765, 0.3354159891605377, 0.3354159891605377, 0.3366832137107849, 0.30607566237449646, 0.12243025749921799, 0.09182269871234894, 0.09182269871234894, 0.061215128749608994, 0.3843943774700165, 0.1988246738910675, 0.18556970357894897, 0.11929480731487274, 0.0729023814201355, 0.03976493701338768, 0.6158217191696167, 0.6158217191696167, 0.22694511711597443, 0.19857698678970337, 0.25531327724456787, 0.19857698678970337, 0.05673627927899361, 0.05673627927899361, 0.6048381924629211, 0.6048381924629211, 0.26326504349708557, 0.32908129692077637, 0.13163252174854279, 0.19744877517223358, 0.06581626087427139, 0.06581626087427139, 0.38573408126831055, 0.15126827359199524, 0.2092544436454773, 0.1563105434179306, 0.05042275786399841, 0.05042275786399841, 0.2643902897834778, 0.22371487319469452, 0.18303944170475006, 0.22371487319469452, 0.06101314723491669, 0.06101314723491669, 0.2995210886001587, 0.17971265316009521, 0.17971265316009521, 0.17971265316009521, 0.11980843544006348, 0.05990421772003174, 0.2569049000740051, 0.29360559582710266, 0.18350350856781006, 0.14680279791355133, 0.07340139895677567, 0.03670069947838783, 0.3667568564414978, 0.1794767528772354, 0.19508342444896698, 0.12485339492559433, 0.07023003697395325, 0.0468200221657753, 0.472818523645401, 0.18912741541862488, 0.09456370770931244, 0.09456370770931244, 0.09456370770931244, 0.3929712772369385, 0.6544919013977051, 0.3881208598613739, 0.40189075469970703, 0.40189075469970703, 0.40189075469970703, 0.31864845752716064, 0.31864845752716064, 0.31117379665374756, 0.31117379665374756, 0.20744919776916504, 0.05186229944229126, 0.05186229944229126, 0.05186229944229126, 0.32660016417503357, 0.20783647894859314, 0.23752740025520325, 0.11876370012760162, 0.05938185006380081, 0.05938185006380081, 0.20732161402702332, 0.41464322805404663, 0.20732161402702332, 0.20732161402702332, 0.33681634068489075, 0.2444634735584259, 0.1847057342529297, 0.1140829548239708, 0.07605530321598053, 0.038027651607990265, 0.23163574934005737, 0.23163574934005737, 0.23163574934005737, 0.11581787467002869, 0.11581787467002869, 0.45297399163246155, 0.15755616128444672, 0.15755616128444672, 0.13786163926124573, 0.05908356234431267, 0.03938904032111168, 0.33899709582328796, 0.1962614804506302, 0.17841953039169312, 0.18734051287174225, 0.053525857627391815, 0.053525857627391815, 0.3092016875743866, 0.1978890746831894, 0.17315293848514557, 0.18552100658416748, 0.08657646924257278, 0.04947226867079735, 0.3403816819190979, 0.16338320076465607, 0.16338320076465607, 0.21784427762031555, 0.06807633489370346, 0.05446106940507889, 0.38081619143486023, 0.20079398155212402, 0.20079398155212402, 0.1384786069393158, 0.04846751317381859, 0.02769572287797928, 0.33094897866249084, 0.27799713611602783, 0.15885551273822784, 0.1456175446510315, 0.052951838821172714, 0.03971387818455696, 0.3059627115726471, 0.1668887436389923, 0.1668887436389923, 0.22251832485198975, 0.08344437181949615, 0.055629581212997437, 0.4178231954574585, 0.1827976554632187, 0.15668369829654694, 0.10445579886436462, 0.10445579886436462, 0.05222789943218231, 0.6131525635719299, 0.6131525635719299, 0.3926985263824463, 0.10244309157133102, 0.21342310309410095, 0.17073848843574524, 0.06829539686441422, 0.04268462210893631, 0.36666229367256165, 0.21298766136169434, 0.19681137800216675, 0.13480231165885925, 0.051224879920482635, 0.03774464875459671, 0.3299534320831299, 0.2691725194454193, 0.19970865547657013, 0.11287879943847656, 0.05209790915250778, 0.043414924293756485, 0.4002169370651245, 0.5941562652587891, 0.5941562652587891, 0.30438876152038574, 0.2651127874851227, 0.18656085431575775, 0.1472848802804947, 0.058913953602313995, 0.029456976801156998, 0.3631124496459961, 0.2376735955476761, 0.15844906866550446, 0.13204088807106018, 0.05941839888691902, 0.05281635746359825, 0.34509673714637756, 0.1882345825433731, 0.15686215460300446, 0.1882345825433731, 0.0627448633313179, 0.05490175262093544, 0.45331183075904846, 0.18887993693351746, 0.1511039435863495, 0.1511039435863495, 0.03777598589658737, 0.03777598589658737, 0.3233726918697357, 0.24830403923988342, 0.1674608588218689, 0.14436280727386475, 0.06929415464401245, 0.05197061225771904, 0.2708696722984314, 0.18533188104629517, 0.22810079157352448, 0.19958817958831787, 0.08553779125213623, 0.02851259894669056, 0.30791643261909485, 0.15395821630954742, 0.30791643261909485, 0.15395821630954742, 0.07697910815477371, 0.07697910815477371, 0.6010859608650208, 0.6010859608650208, 0.3806428909301758, 0.21915802359580994, 0.14995022118091583, 0.10381169617176056, 0.08074242621660233, 0.05767316371202469, 0.34031781554222107, 0.17015890777111053, 0.17015890777111053, 0.17015890777111053, 0.17015890777111053, 0.3908100724220276, 0.18074965476989746, 0.20029015839099884, 0.12701326608657837, 0.05373638495802879, 0.04885125905275345, 0.41394683718681335, 0.41394683718681335, 0.4940877854824066, 0.16469593346118927, 0.16469593346118927, 0.16469593346118927, 0.6001619100570679, 0.6001619100570679], \"Term\": [\"1895\", \"1895\", \"1895\", \"1895\", \"adia\", \"adia\", \"affare\", \"affare\", \"affare\", \"affare\", \"affare\", \"affare\", \"agonia\", \"agonia\", \"agonia\", \"agonia\", \"agonia\", \"aiutare\", \"aiutare\", \"aiutare\", \"aiutare\", \"aiutare\", \"aiutare\", \"altro\", \"altro\", \"altro\", \"altro\", \"altro\", \"altro\", \"ambasciatore\", \"ambasciatore\", \"ambasciatore\", \"ambasciatore\", \"ambasciatore\", \"ambasciatore\", \"americano\", \"americano\", \"americano\", \"americano\", \"americano\", \"americano\", \"amilcare\", \"amilcare\", \"amilcare\", \"amilcare\", \"amilcare\", \"ammiraglio\", \"ammiraglio\", \"ammiraglio\", \"ammiraglio\", \"ammiraglio\", \"ammiraglio\", \"andare\", \"andare\", \"andare\", \"andare\", \"andare\", \"andare\", \"antico\", \"antico\", \"antico\", \"antico\", \"antico\", \"antico\", \"anzitutto\", \"anzitutto\", \"anzitutto\", \"anzitutto\", \"anzitutto\", \"arbitro\", \"arbitro\", \"arbitro\", \"assoluzione\", \"assoluzione\", \"assoluzione\", \"assoluzione\", \"augi\", \"autorit\\u00e0\", \"autorit\\u00e0\", \"autorit\\u00e0\", \"autorit\\u00e0\", \"autorit\\u00e0\", \"autorit\\u00e0\", \"available\", \"avvenire\", \"avvenire\", \"avvenire\", \"avvenire\", \"avvenire\", \"avvenire\", \"bagliore\", \"barcellona\", \"barcellona\", \"barcellona\", \"barcellona\", \"battere\", \"battere\", \"battere\", \"battere\", \"battere\", \"battere\", \"belgrado\", \"belgrado\", \"belgrado\", \"belgrado\", \"belgrado\", \"belgrado\", \"beri\", \"beri\", \"beri\", \"beri\", \"bile\", \"bile\", \"bile\", \"bile\", \"bile\", \"bile\", \"bisogno\", \"bisogno\", \"bisogno\", \"bisogno\", \"bisogno\", \"bisogno\", \"board\", \"board\", \"board\", \"board\", \"bohotie\", \"bohotie\", \"bolognese\", \"bolognese\", \"bolognese\", \"bolognese\", \"bolognese\", \"borghese\", \"borghese\", \"borghese\", \"borghese\", \"borghese\", \"borghese\", \"bravano\", \"bravano\", \"bruscamente\", \"bruscamente\", \"bruscamente\", \"bruscamente\", \"buono\", \"buono\", \"buono\", \"buono\", \"buono\", \"buono\", \"cadmino\", \"cadmino\", \"caff\\u00e8\", \"caff\\u00e8\", \"caff\\u00e8\", \"caff\\u00e8\", \"caff\\u00e8\", \"caff\\u00e8\", \"californiano\", \"californiano\", \"californiano\", \"camarlengo\", \"camarlengo\", \"camarlengo\", \"camarlengo\", \"camarlengo\", \"camarlengo\", \"cambiare\", \"cambiare\", \"cambiare\", \"cambiare\", \"cambiare\", \"cambiare\", \"capitare\", \"capitare\", \"capitare\", \"capitare\", \"capitare\", \"capitare\", \"cardinale\", \"cardinale\", \"cardinale\", \"cardinale\", \"cardinale\", \"cardinale\", \"carneficina\", \"carneficina\", \"carneficina\", \"cavalleresco\", \"cavalleresco\", \"cavalleresco\", \"centesimo\", \"centesimo\", \"centrare\", \"centrare\", \"centrare\", \"centrare\", \"centrare\", \"centrare\", \"ceva\", \"ceva\", \"chaumi\\u00e8\", \"chaumi\\u00e8\", \"chaumi\\u00e8\", \"chaumi\\u00e8\", \"chaumi\\u00e8\", \"chicago\", \"chicago\", \"chicago\", \"chicago\", \"chicago\", \"chicago\", \"chiedere\", \"chiedere\", \"chiedere\", \"chiedere\", \"chiedere\", \"chiedere\", \"chiesa\", \"chiesa\", \"chiesa\", \"chiesa\", \"chiesa\", \"chiesa\", \"christian\", \"cio\\u00e8\", \"cio\\u00e8\", \"cio\\u00e8\", \"cio\\u00e8\", \"cio\\u00e8\", \"cio\\u00e8\", \"cipale\", \"cipriani\", \"cipriani\", \"cipriani\", \"classe\", \"classe\", \"classe\", \"classe\", \"classe\", \"classe\", \"codardo\", \"codardo\", \"codardo\", \"cogl\", \"colare\", \"colare\", \"colare\", \"colare\", \"colare\", \"colare\", \"collisio\", \"collisio\", \"colonia\", \"colonia\", \"colonia\", \"colonia\", \"colonia\", \"colonia\", \"comitato\", \"comitato\", \"comitato\", \"comitato\", \"comitato\", \"comitato\", \"comune\", \"comune\", \"comune\", \"comune\", \"comune\", \"comune\", \"comunicazione\", \"comunicazione\", \"comunicazione\", \"comunicazione\", \"comunicazione\", \"comunicazione\", \"conclave\", \"conclave\", \"conclave\", \"conclave\", \"conclave\", \"conclave\", \"confodono\", \"confodono\", \"congregazione\", \"congregazione\", \"congregazione\", \"congregazione\", \"congregazione\", \"congregazione\", \"congres\", \"congres\", \"congres\", \"congres\", \"consacrazione\", \"consacrazione\", \"consacrazione\", \"considerare\", \"considerare\", \"considerare\", \"considerare\", \"considerare\", \"considerare\", \"consultare\", \"consultare\", \"consultare\", \"consultare\", \"consultare\", \"contem\", \"contem\", \"contem\", \"coprire\", \"coprire\", \"coprire\", \"coprire\", \"coprire\", \"coprire\", \"correre\", \"correre\", \"correre\", \"correre\", \"correre\", \"correre\", \"cospiratorio\", \"cospiratorio\", \"cospiratorio\", \"cospiratorio\", \"cospiratorio\", \"cospiratorio\", \"costare\", \"costare\", \"costare\", \"costare\", \"costare\", \"costare\", \"country\", \"country\", \"crealo\", \"credere\", \"credere\", \"credere\", \"credere\", \"credere\", \"credere\", \"crlspl\", \"crlspl\", \"cuore\", \"cuore\", \"cuore\", \"cuore\", \"cuore\", \"cuore\", \"daily\", \"daily\", \"daily\", \"daily\", \"daily\", \"daily\", \"damiani\", \"damiani\", \"damiani\", \"damo\", \"damo\", \"danzare\", \"danzare\", \"dare\", \"dare\", \"dare\", \"dare\", \"dare\", \"dare\", \"dato\", \"dato\", \"dato\", \"dato\", \"dato\", \"dato\", \"dedicare\", \"dedicare\", \"dedicare\", \"dedicare\", \"dedicare\", \"dedicare\", \"delia\", \"delia\", \"delia\", \"delia\", \"delia\", \"delia\", \"depretls\", \"diamond\", \"diamond\", \"diamond\", \"diamond\", \"diamond\", \"diamond\", \"difendere\", \"difendere\", \"difendere\", \"difendere\", \"difendere\", \"difendere\", \"dire\", \"dire\", \"dire\", \"dire\", \"dire\", \"dire\", \"dispaccio\", \"dispaccio\", \"dispaccio\", \"dispaccio\", \"dispaccio\", \"dispaccio\", \"dissoluzione\", \"divertimento\", \"divertimento\", \"documento\", \"documento\", \"documento\", \"documento\", \"documento\", \"dovere\", \"dovere\", \"dovere\", \"dovere\", \"dovere\", \"dovere\", \"drappello\", \"drappello\", \"durare\", \"durare\", \"durare\", \"durare\", \"durare\", \"durare\", \"duse\", \"duse\", \"duse\", \"duse\", \"duse\", \"duse\", \"ebreo\", \"ebreo\", \"ebreo\", \"ebreo\", \"ebreo\", \"ebreo\", \"eduardo\", \"eduardo\", \"eduardo\", \"eduardo\", \"effusione\", \"effusione\", \"eidoardo\", \"eleggere\", \"eleggere\", \"eleggere\", \"eleggere\", \"eleggere\", \"eleggere\", \"elettricit\\u00e0\", \"elettricit\\u00e0\", \"elettricit\\u00e0\", \"elettricit\\u00e0\", \"emigrare\", \"emigrare\", \"emigrare\", \"emigrare\", \"emigrare\", \"emigrare\", \"escluso\", \"escluso\", \"escluso\", \"escluso\", \"esercito\", \"esercito\", \"esercito\", \"fame\", \"fame\", \"fame\", \"fame\", \"famiglia\", \"famiglia\", \"famiglia\", \"famiglia\", \"famiglia\", \"famiglia\", \"fare\", \"fare\", \"fare\", \"fare\", \"fare\", \"fare\", \"fatto\", \"fatto\", \"fatto\", \"fatto\", \"fatto\", \"fatto\", \"favorito\", \"favorito\", \"favorito\", \"favorito\", \"favorito\", \"favorito\", \"festa\", \"festa\", \"festa\", \"festa\", \"festa\", \"festa\", \"fica\", \"fica\", \"finora\", \"finora\", \"finora\", \"finora\", \"finora\", \"fiume\", \"fiume\", \"fiume\", \"fiume\", \"fiume\", \"fiume\", \"fleming\", \"fleming\", \"fleming\", \"fleming\", \"florali\", \"follare\", \"follare\", \"follare\", \"follare\", \"follare\", \"follare\", \"fondala\", \"francese\", \"francese\", \"francese\", \"francese\", \"francese\", \"francese\", \"francia\", \"francia\", \"francia\", \"francia\", \"francia\", \"francia\", \"francisco\", \"francisco\", \"francisco\", \"francisco\", \"francisco\", \"francisco\", \"frontiera\", \"frontiera\", \"frontiera\", \"frontiera\", \"frontiera\", \"fulminato\", \"futuro\", \"futuro\", \"futuro\", \"futuro\", \"futuro\", \"f\\u00e8sta\", \"gemmare\", \"gemmare\", \"gemmare\", \"gemmare\", \"genova\", \"genova\", \"genova\", \"genova\", \"genova\", \"genova\", \"giornale\", \"giornale\", \"giornale\", \"giornale\", \"giornale\", \"giornale\", \"gito\", \"gito\", \"gito\", \"gito\", \"giugno\", \"giugno\", \"giugno\", \"giugno\", \"giugno\", \"giugno\", \"giustiziare\", \"giustiziare\", \"giustiziare\", \"giustiziare\", \"giustiziare\", \"giustiziare\", \"gliere\", \"grad\", \"grad\", \"gran\", \"gran\", \"gran\", \"gran\", \"gran\", \"gran\", \"grande\", \"grande\", \"grande\", \"grande\", \"grande\", \"grande\", \"grave\", \"grave\", \"grave\", \"grave\", \"grave\", \"grave\", \"guardia\", \"guardia\", \"guardia\", \"guardia\", \"guardia\", \"guardia\", \"guglielmo\", \"guglielmo\", \"guglielmo\", \"guglielmo\", \"guglielmo\", \"guglielmo\", \"guida\", \"guida\", \"guida\", \"guida\", \"innocuo\", \"innocuo\", \"innocuo\", \"iregorlo\", \"iss4\", \"iss4\", \"italia\", \"italia\", \"italia\", \"italia\", \"italia\", \"italia\", \"italian\", \"italian\", \"italian\", \"italian\", \"italian\", \"italian\", \"italiano\", \"italiano\", \"italiano\", \"italiano\", \"italiano\", \"italiano\", \"itallan\", \"itallan\", \"itallan\", \"jose\", \"jose\", \"jose\", \"jose\", \"jose\", \"jose\", \"largest\", \"largest\", \"largest\", \"largest\", \"largest\", \"largest\", \"leggere\", \"leggere\", \"leggere\", \"leggere\", \"leggere\", \"leggere\", \"lemurie\", \"lemurie\", \"leone\", \"leone\", \"leone\", \"leone\", \"leone\", \"leone\", \"lineare\", \"lineare\", \"lineare\", \"lineare\", \"lineare\", \"lineare\", \"lombardia\", \"lombardia\", \"lombardia\", \"lombardia\", \"longhi\", \"lottare\", \"lottare\", \"lottare\", \"lottare\", \"lottare\", \"lottare\", \"loubet\", \"loubet\", \"loubet\", \"loubet\", \"loubet\", \"loubet\", \"luglio\", \"luglio\", \"luglio\", \"luglio\", \"luglio\", \"luglio\", \"lungo\", \"lungo\", \"lungo\", \"lungo\", \"lungo\", \"lungo\", \"macchina\", \"macchina\", \"macchina\", \"macchina\", \"macchina\", \"macchina\", \"macedone\", \"macedone\", \"macedone\", \"macedone\", \"macedone\", \"macedone\", \"maggio\", \"maggio\", \"maggio\", \"maggio\", \"maggio\", \"maggio\", \"mandare\", \"mandare\", \"mandare\", \"mandare\", \"mandare\", \"mandare\", \"manna\", \"manna\", \"manna\", \"manna\", \"manna\", \"mano\", \"mano\", \"mano\", \"mano\", \"mano\", \"mano\", \"marconi\", \"marconi\", \"marconi\", \"marconi\", \"marconi\", \"marconi\", \"mariamente\", \"marino\", \"marino\", \"marino\", \"marino\", \"marino\", \"marino\", \"mati\", \"mati\", \"mati\", \"mati\", \"mentire\", \"mentire\", \"mentire\", \"mentire\", \"mentire\", \"mentire\", \"mento\", \"mento\", \"mento\", \"mento\", \"mento\", \"mento\", \"mercantile\", \"mercantile\", \"mercantile\", \"mercantile\", \"mercantile\", \"mettere\", \"mettere\", \"mettere\", \"mettere\", \"mettere\", \"mettere\", \"militarismo\", \"militarismo\", \"militarismo\", \"militarismo\", \"miniare\", \"miniare\", \"miniare\", \"miniare\", \"miniare\", \"miniare\", \"ministero\", \"ministero\", \"ministero\", \"ministero\", \"ministero\", \"ministero\", \"monsignore\", \"monsignore\", \"monsignore\", \"monsignore\", \"monsignore\", \"monsignore\", \"monte\", \"monte\", \"monte\", \"monte\", \"monte\", \"monte\", \"morto\", \"morto\", \"morto\", \"morto\", \"morto\", \"morto\", \"nave\", \"nave\", \"nave\", \"nave\", \"nave\", \"nave\", \"news\", \"news\", \"news\", \"news\", \"news\", \"news\", \"niobi\", \"niobi\", \"nome\", \"nome\", \"nome\", \"nome\", \"nome\", \"nome\", \"nominare\", \"nominare\", \"nominare\", \"nominare\", \"nominare\", \"nominare\", \"notare\", \"notare\", \"notare\", \"notare\", \"notare\", \"notare\", \"notizia\", \"notizia\", \"notizia\", \"notizia\", \"notizia\", \"notizia\", \"noto\", \"noto\", \"noto\", \"noto\", \"noto\", \"noto\", \"nula\", \"nula\", \"nula\", \"numerare\", \"numerare\", \"numerare\", \"numerare\", \"numerare\", \"numerare\", \"nunzui\", \"nuovo\", \"nuovo\", \"nuovo\", \"nuovo\", \"nuovo\", \"nuovo\", \"obbligazione\", \"operare\", \"operare\", \"operare\", \"operare\", \"operare\", \"operare\", \"oppressore\", \"oppressore\", \"oppressore\", \"oppressore\", \"oreglia\", \"oreglia\", \"oreglia\", \"oreglia\", \"oreglia\", \"oreglia\", \"ornarsi\", \"papa\", \"papa\", \"papa\", \"papa\", \"papa\", \"papa\", \"parere\", \"parere\", \"parere\", \"parere\", \"parere\", \"parere\", \"parigi\", \"parigi\", \"parigi\", \"parigi\", \"parigi\", \"parigi\", \"parlare\", \"parlare\", \"parlare\", \"parlare\", \"parlare\", \"parlare\", \"partire\", \"partire\", \"partire\", \"partire\", \"partire\", \"partire\", \"passare\", \"passare\", \"passare\", \"passare\", \"passare\", \"passare\", \"patrio\", \"patrio\", \"patrio\", \"patrio\", \"patrio\", \"patrio\", \"perch\\u00e8\", \"perch\\u00e8\", \"perch\\u00e8\", \"perch\\u00e8\", \"perch\\u00e8\", \"perch\\u00e8\", \"perfezione\", \"perfezione\", \"personalit\\u00e0\", \"personalit\\u00e0\", \"personalit\\u00e0\", \"personalit\\u00e0\", \"personalit\\u00e0\", \"placidamente\", \"placidamente\", \"planches\", \"planches\", \"planches\", \"planches\", \"planches\", \"planches\", \"pllcate\", \"pllcate\", \"pmints\", \"pmints\", \"poco\", \"poco\", \"poco\", \"poco\", \"poco\", \"poco\", \"politico\", \"politico\", \"politico\", \"politico\", \"politico\", \"politico\", \"pontefice\", \"pontefice\", \"pontefice\", \"pontefice\", \"pontefice\", \"pontefice\", \"popolare\", \"popolare\", \"popolare\", \"popolare\", \"popolare\", \"popolare\", \"popolo\", \"popolo\", \"popolo\", \"popolo\", \"popolo\", \"popolo\", \"portamento\", \"portare\", \"portare\", \"portare\", \"portare\", \"portare\", \"portare\", \"potere\", \"potere\", \"potere\", \"potere\", \"potere\", \"potere\", \"povero\", \"povero\", \"povero\", \"povero\", \"povero\", \"povero\", \"precursore\", \"precursore\", \"precursore\", \"prendere\", \"prendere\", \"prendere\", \"prendere\", \"prendere\", \"prendere\", \"preparare\", \"preparare\", \"preparare\", \"preparare\", \"preparare\", \"preparare\", \"preparativo\", \"preparativo\", \"preparativo\", \"preparativo\", \"preparativo\", \"preparativo\", \"prerogativa\", \"prerogativa\", \"presentire\", \"presentire\", \"presentire\", \"presentire\", \"presentire\", \"presentire\", \"presidente\", \"presidente\", \"presidente\", \"presidente\", \"presidente\", \"presidente\", \"procedura\", \"procedura\", \"procedura\", \"profilare\", \"profilare\", \"profilare\", \"propesilo\", \"proporsi\", \"pubblicare\", \"pubblicare\", \"pubblicare\", \"pubblicare\", \"pubblicare\", \"pubblicare\", \"pugliese\", \"pugliese\", \"pugliese\", \"punl\", \"quotidiano\", \"quotidiano\", \"quotidiano\", \"quotidiano\", \"quotidiano\", \"quotidiano\", \"raccogliere\", \"raccogliere\", \"raccogliere\", \"raccogliere\", \"raccogliere\", \"raccogliere\", \"ragliare\", \"ragliare\", \"rditohs\", \"rditohs\", \"recare\", \"recare\", \"recare\", \"recare\", \"recare\", \"recare\", \"recere\", \"recere\", \"recere\", \"recere\", \"recere\", \"recere\", \"regime\", \"regime\", \"regime\", \"regime\", \"regime\", \"regina\", \"regina\", \"regina\", \"regina\", \"regina\", \"regina\", \"rendere\", \"rendere\", \"rendere\", \"rendere\", \"rendere\", \"rendere\", \"requiem\", \"requiem\", \"requiem\", \"requiem\", \"requiem\", \"restare\", \"restare\", \"restare\", \"restare\", \"restare\", \"restare\", \"ricevere\", \"ricevere\", \"ricevere\", \"ricevere\", \"ricevere\", \"ricevere\", \"rimanere\", \"rimanere\", \"rimanere\", \"rimanere\", \"rimanere\", \"rimanere\", \"rimunerativo\", \"rimunerativo\", \"rimunerativo\", \"rimunerativo\", \"riportare\", \"riportare\", \"riportare\", \"riportare\", \"riportare\", \"riportare\", \"riposare\", \"riposare\", \"riposare\", \"riposare\", \"riposare\", \"riposare\", \"ritratto\", \"ritratto\", \"ritratto\", \"riuscire\", \"riuscire\", \"riuscire\", \"riuscire\", \"riuscire\", \"riuscire\", \"roberto\", \"roberto\", \"rodere\", \"rodere\", \"rodere\", \"rodere\", \"roma\", \"roma\", \"roma\", \"roma\", \"roma\", \"roma\", \"romolo\", \"romolo\", \"russia\", \"russia\", \"russia\", \"russia\", \"russia\", \"russia\", \"sacrato\", \"sacro\", \"sacro\", \"sacro\", \"sacro\", \"sacro\", \"sacro\", \"salvare\", \"salvare\", \"salvare\", \"salvare\", \"salvare\", \"salvare\", \"samuele\", \"samuele\", \"sapere\", \"sapere\", \"sapere\", \"sapere\", \"sapere\", \"sapere\", \"sata\", \"sata\", \"sata\", \"sata\", \"scioperare\", \"scioperare\", \"scioperare\", \"scioperare\", \"scioperare\", \"scioperare\", \"scrutatore\", \"scrutatore\", \"scrutatore\", \"scrutatore\", \"scultorio\", \"scultorio\", \"scultorio\", \"scultorio\", \"seccare\", \"servizio\", \"servizio\", \"servizio\", \"servizio\", \"servizio\", \"servizio\", \"sgomentare\", \"sgomentare\", \"sgomentare\", \"sgravio\", \"sgravio\", \"sgravio\", \"sgravio\", \"sgravio\", \"sgravio\", \"slattiti\", \"slattiti\", \"slmili\", \"slmili\", \"slmili\", \"slmili\", \"slmili\", \"smeraldo\", \"smeraldo\", \"sociale\", \"sociale\", \"sociale\", \"sociale\", \"sociale\", \"sociale\", \"societ\\u00e0\", \"societ\\u00e0\", \"societ\\u00e0\", \"societ\\u00e0\", \"societ\\u00e0\", \"societ\\u00e0\", \"soddisfazione\", \"soddisfazione\", \"soddisfazione\", \"soddisfazione\", \"soddisfazione\", \"soddisfazione\", \"soldato\", \"soldato\", \"soldato\", \"soldato\", \"soldato\", \"soldato\", \"solo\", \"solo\", \"solo\", \"solo\", \"solo\", \"solo\", \"spinetta\", \"spinetta\", \"squadrare\", \"squadrare\", \"squadrare\", \"squadrare\", \"squadrare\", \"squadrare\", \"states\", \"states\", \"states\", \"states\", \"states\", \"states\", \"stornello\", \"stornello\", \"studente\", \"studente\", \"studente\", \"studente\", \"studente\", \"studente\", \"talmen\", \"talmen\", \"tecnico\", \"tecnico\", \"tecnico\", \"tecnico\", \"tecnico\", \"tecnico\", \"telegrafico\", \"telegrafico\", \"telegrafico\", \"telegrafico\", \"telegrafico\", \"telegrafico\", \"temere\", \"temere\", \"temere\", \"temere\", \"temere\", \"temere\", \"tendenza\", \"tendenza\", \"tendenza\", \"tendenza\", \"tendenza\", \"tendenza\", \"tendere\", \"tendere\", \"tendere\", \"tendere\", \"tendere\", \"tendere\", \"tenere\", \"tenere\", \"tenere\", \"tenere\", \"tenere\", \"tenere\", \"testa\", \"testa\", \"testa\", \"testa\", \"testa\", \"tettoia\", \"text\", \"tilorni\", \"tiratore\", \"tiratore\", \"tiratore\", \"tiro\", \"tiro\", \"tolstoi\", \"tolstoi\", \"tolstoi\", \"tolstoi\", \"tolstoi\", \"tolstoi\", \"toro\", \"toro\", \"toro\", \"toro\", \"toro\", \"toro\", \"torturare\", \"torturare\", \"torturare\", \"torturare\", \"trovare\", \"trovare\", \"trovare\", \"trovare\", \"trovare\", \"trovare\", \"tuttora\", \"tuttora\", \"tuttora\", \"tuttora\", \"tuttora\", \"ucciso\", \"ucciso\", \"ucciso\", \"ucciso\", \"ucciso\", \"ucciso\", \"ufficiale\", \"ufficiale\", \"ufficiale\", \"ufficiale\", \"ufficiale\", \"ufficiale\", \"ultimo\", \"ultimo\", \"ultimo\", \"ultimo\", \"ultimo\", \"ultimo\", \"united\", \"united\", \"united\", \"united\", \"united\", \"united\", \"unito\", \"unito\", \"unito\", \"unito\", \"unito\", \"unito\", \"uomini\", \"uomini\", \"uomini\", \"uomini\", \"uomini\", \"uomini\", \"uscire\", \"uscire\", \"uscire\", \"uscire\", \"uscire\", \"uscire\", \"vano\", \"vano\", \"vano\", \"vano\", \"vano\", \"vano\", \"vcvluttnosa\", \"vcvluttnosa\", \"vedere\", \"vedere\", \"vedere\", \"vedere\", \"vedere\", \"vedere\", \"venire\", \"venire\", \"venire\", \"venire\", \"venire\", \"venire\", \"vero\", \"vero\", \"vero\", \"vero\", \"vero\", \"vero\", \"vestilo\", \"vettova\", \"vettova\", \"viaggiare\", \"viaggiare\", \"viaggiare\", \"viaggiare\", \"viaggiare\", \"viaggiare\", \"visitare\", \"visitare\", \"visitare\", \"visitare\", \"visitare\", \"visitare\", \"vivo\", \"vivo\", \"vivo\", \"vivo\", \"vivo\", \"vivo\", \"vociare\", \"vociare\", \"vociare\", \"vociare\", \"vociare\", \"vociare\", \"volere\", \"volere\", \"volere\", \"volere\", \"volere\", \"volere\", \"western\", \"western\", \"western\", \"western\", \"western\", \"western\", \"world\", \"world\", \"world\", \"world\", \"world\", \"world\", \"xiet\\u00e0\", \"xiet\\u00e0\", \"xiii\", \"xiii\", \"xiii\", \"xiii\", \"xiii\", \"xiii\", \"xlll\", \"xlll\", \"xlll\", \"xlll\", \"xlll\", \"york\", \"york\", \"york\", \"york\", \"york\", \"york\", \"zangwiil\", \"zangwiil\", \"zuccherare\", \"zuccherare\", \"zuccherare\", \"zuccherare\", \"\\u00e8titrare\", \"\\u00e8titrare\"]}, \"R\": 30, \"lambda.step\": 0.01, \"plot.opts\": {\"xlab\": \"PC1\", \"ylab\": \"PC2\"}, \"topic.order\": [2, 6, 5, 1, 4, 3]};\n",
              "\n",
              "function LDAvis_load_lib(url, callback){\n",
              "  var s = document.createElement('script');\n",
              "  s.src = url;\n",
              "  s.async = true;\n",
              "  s.onreadystatechange = s.onload = callback;\n",
              "  s.onerror = function(){console.warn(\"failed to load library \" + url);};\n",
              "  document.getElementsByTagName(\"head\")[0].appendChild(s);\n",
              "}\n",
              "\n",
              "if(typeof(LDAvis) !== \"undefined\"){\n",
              "   // already loaded: just create the visualization\n",
              "   !function(LDAvis){\n",
              "       new LDAvis(\"#\" + \"ldavis_el1171399340466969363039945338\", ldavis_el1171399340466969363039945338_data);\n",
              "   }(LDAvis);\n",
              "}else if(typeof define === \"function\" && define.amd){\n",
              "   // require.js is available: use it to load d3/LDAvis\n",
              "   require.config({paths: {d3: \"https://cdnjs.cloudflare.com/ajax/libs/d3/3.5.5/d3.min\"}});\n",
              "   require([\"d3\"], function(d3){\n",
              "      window.d3 = d3;\n",
              "      LDAvis_load_lib(\"https://cdn.rawgit.com/bmabey/pyLDAvis/files/ldavis.v1.0.0.js\", function(){\n",
              "        new LDAvis(\"#\" + \"ldavis_el1171399340466969363039945338\", ldavis_el1171399340466969363039945338_data);\n",
              "      });\n",
              "    });\n",
              "}else{\n",
              "    // require.js not available: dynamically load d3 & LDAvis\n",
              "    LDAvis_load_lib(\"https://cdnjs.cloudflare.com/ajax/libs/d3/3.5.5/d3.min.js\", function(){\n",
              "         LDAvis_load_lib(\"https://cdn.rawgit.com/bmabey/pyLDAvis/files/ldavis.v1.0.0.js\", function(){\n",
              "                 new LDAvis(\"#\" + \"ldavis_el1171399340466969363039945338\", ldavis_el1171399340466969363039945338_data);\n",
              "            })\n",
              "         });\n",
              "}\n",
              "</script>"
            ],
            "text/plain": [
              "PreparedData(topic_coordinates=              x         y  topics  cluster       Freq\n",
              "topic                                                \n",
              "1     -0.002768 -0.002736       1        1  34.388382\n",
              "5     -0.000861 -0.000403       2        1  20.950064\n",
              "4     -0.001422 -0.002075       3        1  17.506689\n",
              "0     -0.002367  0.004864       4        1  15.537328\n",
              "3      0.004946 -0.000089       5        1   6.766116\n",
              "2      0.002472  0.000439       6        1   4.851422, topic_info=           Term        Freq       Total Category  logprob  loglift\n",
              "431    italiano  967.000000  967.000000  Default  30.0000  30.0000\n",
              "429      italia  472.000000  472.000000  Default  29.0000  29.0000\n",
              "636      potere  353.000000  353.000000  Default  28.0000  28.0000\n",
              "1762  cardinale  253.000000  253.000000  Default  27.0000  27.0000\n",
              "246   dispaccio  472.000000  472.000000  Default  26.0000  26.0000\n",
              "...         ...         ...         ...      ...      ...      ...\n",
              "584      parigi    8.429273  174.816254   Topic6  -6.6025  -0.0061\n",
              "738        roma   13.645841  454.906647   Topic6  -6.1208  -0.4808\n",
              "2152   numerare    8.110456  172.197449   Topic6  -6.6411  -0.0296\n",
              "515       morto    7.811458  158.917831   Topic6  -6.6787   0.0131\n",
              "377        gran    8.259319  206.190369   Topic6  -6.6229  -0.1916\n",
              "\n",
              "[558 rows x 6 columns], token_table=       Topic      Freq        Term\n",
              "term                              \n",
              "14144      1  0.359642        1895\n",
              "14144      2  0.119881        1895\n",
              "14144      3  0.119881        1895\n",
              "14144      4  0.239762        1895\n",
              "21573      1  0.404080        adia\n",
              "...      ...       ...         ...\n",
              "14139      2  0.164696  zuccherare\n",
              "14139      3  0.164696  zuccherare\n",
              "14139      4  0.164696  zuccherare\n",
              "22547      1  0.600162    ètitrare\n",
              "22547      4  0.600162    ètitrare\n",
              "\n",
              "[1530 rows x 3 columns], R=30, lambda_step=0.01, plot_opts={'xlab': 'PC1', 'ylab': 'PC2'}, topic_order=[2, 6, 5, 1, 4, 3])"
            ]
          },
          "metadata": {
            "tags": []
          },
          "execution_count": 114
        }
      ]
    },
    {
      "cell_type": "markdown",
      "metadata": {
        "id": "jMh299U-Qowi",
        "colab_type": "text"
      },
      "source": [
        "### 2.2.3 LDA with Mallet"
      ]
    },
    {
      "cell_type": "code",
      "metadata": {
        "id": "TNMEMY3LaQQ-",
        "colab_type": "code",
        "colab": {}
      },
      "source": [
        "%%capture\n",
        "ldamallet = gensim.models.wrappers.LdaMallet(mallet_path, corpus=corpus, num_topics=numtopics, id2word=id2word)"
      ],
      "execution_count": 0,
      "outputs": []
    },
    {
      "cell_type": "code",
      "metadata": {
        "id": "I7VpXA0cahdM",
        "colab_type": "code",
        "outputId": "6e198195-4e00-4e34-8549-3a25c85a118a",
        "colab": {
          "base_uri": "https://localhost:8080/",
          "height": 241
        }
      },
      "source": [
        "ldamallet.print_topics()"
      ],
      "execution_count": 78,
      "outputs": [
        {
          "output_type": "execute_result",
          "data": {
            "text/plain": [
              "[(0,\n",
              "  '0.009*\"potere\" + 0.008*\"dispaccio\" + 0.007*\"giugno\" + 0.006*\"unito\" + 0.006*\"correre\" + 0.006*\"avvenire\" + 0.006*\"grave\" + 0.006*\"italia\" + 0.005*\"portare\" + 0.005*\"mentire\"'),\n",
              " (1,\n",
              "  '0.008*\"leggere\" + 0.006*\"potere\" + 0.006*\"maggio\" + 0.006*\"nuovo\" + 0.005*\"passare\" + 0.005*\"dovere\" + 0.005*\"lottare\" + 0.005*\"società\" + 0.005*\"vedere\" + 0.005*\"diritto\"'),\n",
              " (2,\n",
              "  '0.009*\"italia\" + 0.008*\"roma\" + 0.008*\"visitare\" + 0.006*\"gran\" + 0.006*\"partire\" + 0.006*\"italiano\" + 0.006*\"francese\" + 0.005*\"telegrafico\" + 0.005*\"york\" + 0.005*\"viaggiare\"'),\n",
              " (3,\n",
              "  '0.019*\"cardinale\" + 0.016*\"papa\" + 0.008*\"chiesa\" + 0.007*\"roma\" + 0.007*\"venire\" + 0.007*\"pontefice\" + 0.007*\"vaticano\" + 0.007*\"morto\" + 0.006*\"leone\" + 0.006*\"xiii\"'),\n",
              " (4,\n",
              "  '0.031*\"italiano\" + 0.012*\"giornale\" + 0.010*\"italia\" + 0.008*\"roma\" + 0.007*\"daily\" + 0.007*\"presidente\" + 0.006*\"trovare\" + 0.006*\"parlare\" + 0.006*\"pubblicare\" + 0.005*\"america\"'),\n",
              " (5,\n",
              "  '0.013*\"dispaccio\" + 0.011*\"telegrafico\" + 0.010*\"italiano\" + 0.006*\"venire\" + 0.006*\"ufficiale\" + 0.005*\"recere\" + 0.005*\"russia\" + 0.005*\"daily\" + 0.005*\"regina\" + 0.004*\"londra\"')]"
            ]
          },
          "metadata": {
            "tags": []
          },
          "execution_count": 78
        }
      ]
    },
    {
      "cell_type": "markdown",
      "metadata": {
        "id": "SSL1PF6zRcft",
        "colab_type": "text"
      },
      "source": [
        "## 2.3 Topic Coherence\n",
        "Topic Coherence measures score of a single topic by measuring the degree of semantic similarity between high scoring words in the topic. https://towardsdatascience.com/evaluate-topic-model-in-python-latent-dirichlet-allocation-lda-7d57484bb5d0"
      ]
    },
    {
      "cell_type": "code",
      "metadata": {
        "id": "GX69kVo-ssrV",
        "colab_type": "code",
        "colab": {}
      },
      "source": [
        "from gensim.models.coherencemodel import CoherenceModel"
      ],
      "execution_count": 0,
      "outputs": []
    },
    {
      "cell_type": "markdown",
      "metadata": {
        "id": "JrAOlaIXSUvb",
        "colab_type": "text"
      },
      "source": [
        "### 2.3.1 Coherence score LDA Gensim"
      ]
    },
    {
      "cell_type": "code",
      "metadata": {
        "id": "XVMfqVqZSbeJ",
        "colab_type": "code",
        "outputId": "262120f6-182e-4b04-e882-fa546eed8523",
        "colab": {
          "base_uri": "https://localhost:8080/",
          "height": 51
        }
      },
      "source": [
        "coherence_model_ldagensim = CoherenceModel(model=ldagensim, texts=lemmatized_corpus, dictionary=id2word, coherence='c_v')\n",
        "coherence_ldagensim = coherence_model_ldagensim.get_coherence()\n",
        "print('\\nCoherence Score LDA Gensim: ', coherence_ldagensim)"
      ],
      "execution_count": 80,
      "outputs": [
        {
          "output_type": "stream",
          "text": [
            "\n",
            "Coherence Score LDA Gensim:  0.28052718404131477\n"
          ],
          "name": "stdout"
        }
      ]
    },
    {
      "cell_type": "markdown",
      "metadata": {
        "id": "9S5nI7YiSACT",
        "colab_type": "text"
      },
      "source": [
        "### 2.3.1 Coherence score LDA Mallet\n"
      ]
    },
    {
      "cell_type": "code",
      "metadata": {
        "id": "KmPJGdnHsafA",
        "colab_type": "code",
        "outputId": "7bc752b3-df92-4520-e146-4eb8d1f0488e",
        "colab": {
          "base_uri": "https://localhost:8080/",
          "height": 51
        }
      },
      "source": [
        "coherence_model_ldamallet = CoherenceModel(model=ldamallet, texts=lemmatized_corpus, dictionary=id2word, coherence='c_v')\n",
        "coherence_ldamallet = coherence_model_ldamallet.get_coherence()\n",
        "print('\\nCoherence Score LDA MAllet: ', coherence_ldamallet)"
      ],
      "execution_count": 81,
      "outputs": [
        {
          "output_type": "stream",
          "text": [
            "\n",
            "Coherence Score LDA MAllet:  0.39887434573677377\n"
          ],
          "name": "stdout"
        }
      ]
    },
    {
      "cell_type": "markdown",
      "metadata": {
        "id": "pjImnk4wAh4u",
        "colab_type": "text"
      },
      "source": [
        "## 2.4 Coherence and number of topics"
      ]
    },
    {
      "cell_type": "markdown",
      "metadata": {
        "colab_type": "text",
        "id": "-C8GGNUoGAuf"
      },
      "source": [
        "### 2.4.1 LDA Gensim"
      ]
    },
    {
      "cell_type": "code",
      "metadata": {
        "colab_type": "code",
        "id": "lWD51u4PGAuh",
        "colab": {
          "base_uri": "https://localhost:8080/",
          "height": 323
        },
        "outputId": "794f244d-30fc-4522-a53f-b5da47aff287"
      },
      "source": [
        "#can take a long time to run\n",
        "topics_nr = []\n",
        "coherence_values_gensim = []\n",
        "for num_topics in range(2, 20):\n",
        "  model = models.LdaModel(corpus, id2word=id2word, num_topics=num_topics)\n",
        "  coherencemodel = CoherenceModel(model=model, texts=lemmatized_corpus, dictionary=id2word, coherence='c_v')\n",
        "  coherence_value = coherencemodel.get_coherence()\n",
        "  coherence_values_gensim.append(coherence_value)\n",
        "  topics_nr.append(str(num_topics))\n",
        "  print(\"Num Topics =\", num_topics, \" has Coherence Value of\", round(coherence_value,4))"
      ],
      "execution_count": 69,
      "outputs": [
        {
          "output_type": "stream",
          "text": [
            "Num Topics = 2  has Coherence Value of 0.281\n",
            "Num Topics = 3  has Coherence Value of 0.2965\n",
            "Num Topics = 4  has Coherence Value of 0.2863\n",
            "Num Topics = 5  has Coherence Value of 0.2953\n",
            "Num Topics = 6  has Coherence Value of 0.2978\n",
            "Num Topics = 7  has Coherence Value of 0.2851\n",
            "Num Topics = 8  has Coherence Value of 0.2928\n",
            "Num Topics = 9  has Coherence Value of 0.2903\n",
            "Num Topics = 10  has Coherence Value of 0.291\n",
            "Num Topics = 11  has Coherence Value of 0.2934\n",
            "Num Topics = 12  has Coherence Value of 0.2953\n",
            "Num Topics = 13  has Coherence Value of 0.2879\n",
            "Num Topics = 14  has Coherence Value of 0.2893\n",
            "Num Topics = 15  has Coherence Value of 0.2931\n",
            "Num Topics = 16  has Coherence Value of 0.2859\n",
            "Num Topics = 17  has Coherence Value of 0.2893\n",
            "Num Topics = 18  has Coherence Value of 0.287\n",
            "Num Topics = 19  has Coherence Value of 0.2891\n"
          ],
          "name": "stdout"
        }
      ]
    },
    {
      "cell_type": "code",
      "metadata": {
        "colab_type": "code",
        "id": "H2NSeh81GAur",
        "colab": {}
      },
      "source": [
        "# Visualize coherence scores\n",
        "import matplotlib.pyplot as plt"
      ],
      "execution_count": 0,
      "outputs": []
    },
    {
      "cell_type": "code",
      "metadata": {
        "colab_type": "code",
        "outputId": "1134abff-837a-4968-9d32-2ad8732f7468",
        "id": "YdA1u15bGAut",
        "colab": {
          "base_uri": "https://localhost:8080/",
          "height": 282
        }
      },
      "source": [
        "plt.plot(topics_nr, coherence_values_gensim)"
      ],
      "execution_count": 73,
      "outputs": [
        {
          "output_type": "execute_result",
          "data": {
            "text/plain": [
              "[<matplotlib.lines.Line2D at 0x7f44f2815898>]"
            ]
          },
          "metadata": {
            "tags": []
          },
          "execution_count": 73
        },
        {
          "output_type": "display_data",
          "data": {
            "image/png": "[encoded data removed]",
            "text/plain": [
              "<Figure size 432x288 with 1 Axes>"
            ]
          },
          "metadata": {
            "tags": [],
            "needs_background": "light"
          }
        }
      ]
    },
    {
      "cell_type": "code",
      "metadata": {
        "colab_type": "code",
        "id": "28j3eHrRGAuv",
        "colab": {}
      },
      "source": [
        "# To analyse the results, the user can print the list of topics for different topic nr"
      ],
      "execution_count": 0,
      "outputs": []
    },
    {
      "cell_type": "code",
      "metadata": {
        "colab_type": "code",
        "outputId": "dda34c63-05d3-44c2-94bd-a8a02d69da19",
        "id": "Cg6OgRt7GAuy",
        "colab": {
          "base_uri": "https://localhost:8080/",
          "height": 241
        }
      },
      "source": [
        "# print topics for nr of topics = 6\n",
        "numtopics = 6\n",
        "models.LdaModel(corpus, id2word=id2word, num_topics=numtopics).print_topics()"
      ],
      "execution_count": 82,
      "outputs": [
        {
          "output_type": "execute_result",
          "data": {
            "text/plain": [
              "[(0,\n",
              "  '0.006*\"italiano\" + 0.003*\"daily\" + 0.003*\"roma\" + 0.003*\"giornale\" + 0.003*\"italia\" + 0.003*\"dispaccio\" + 0.003*\"telegrafico\" + 0.002*\"potere\" + 0.002*\"venire\" + 0.002*\"cardinale\"'),\n",
              " (1,\n",
              "  '0.006*\"italiano\" + 0.004*\"roma\" + 0.003*\"italia\" + 0.003*\"potere\" + 0.003*\"daily\" + 0.003*\"telegrafico\" + 0.002*\"dispaccio\" + 0.002*\"giornale\" + 0.002*\"dire\" + 0.002*\"venire\"'),\n",
              " (2,\n",
              "  '0.005*\"italiano\" + 0.004*\"italia\" + 0.004*\"dispaccio\" + 0.003*\"telegrafico\" + 0.003*\"potere\" + 0.003*\"venire\" + 0.003*\"roma\" + 0.002*\"daily\" + 0.002*\"mentire\" + 0.002*\"giornale\"'),\n",
              " (3,\n",
              "  '0.010*\"italiano\" + 0.004*\"italia\" + 0.004*\"roma\" + 0.004*\"dispaccio\" + 0.004*\"telegrafico\" + 0.003*\"cardinale\" + 0.003*\"venire\" + 0.003*\"daily\" + 0.003*\"giornale\" + 0.003*\"potere\"'),\n",
              " (4,\n",
              "  '0.008*\"italiano\" + 0.005*\"dispaccio\" + 0.004*\"italia\" + 0.004*\"roma\" + 0.003*\"telegrafico\" + 0.003*\"venire\" + 0.003*\"giornale\" + 0.002*\"potere\" + 0.002*\"daily\" + 0.002*\"papa\"'),\n",
              " (5,\n",
              "  '0.008*\"italiano\" + 0.004*\"italia\" + 0.004*\"potere\" + 0.003*\"dispaccio\" + 0.003*\"venire\" + 0.003*\"roma\" + 0.003*\"giornale\" + 0.002*\"telegrafico\" + 0.002*\"quotidiano\" + 0.002*\"daily\"')]"
            ]
          },
          "metadata": {
            "tags": []
          },
          "execution_count": 82
        }
      ]
    },
    {
      "cell_type": "markdown",
      "metadata": {
        "id": "FazsvYeYDxo0",
        "colab_type": "text"
      },
      "source": [
        "### 2.4.2 LDA Mallet"
      ]
    },
    {
      "cell_type": "code",
      "metadata": {
        "id": "BnliBI5FTBDd",
        "colab_type": "code",
        "colab": {
          "base_uri": "https://localhost:8080/",
          "height": 377
        },
        "outputId": "36f80fe4-6374-4e59-9fbd-c866188cb678"
      },
      "source": [
        "#can take a long time to run\n",
        "topics_nr = []\n",
        "coherence_values_mallet = []\n",
        "for num_topics in range(2, 20):\n",
        "  model = gensim.models.wrappers.LdaMallet(mallet_path, corpus=corpus, num_topics=num_topics, id2word=id2word)\n",
        "  coherencemodel = CoherenceModel(model=model, texts=lemmatized_corpus, dictionary=id2word, coherence='c_v')\n",
        "  coherence_value = coherencemodel.get_coherence()\n",
        "  coherence_values_mallet.append(coherence_value)\n",
        "  topics_nr.append(str(num_topics))\n",
        "  print(\"Num Topics =\", num_topics, \" has Coherence Value of\", round(coherence_value,4))"
      ],
      "execution_count": 86,
      "outputs": [
        {
          "output_type": "stream",
          "text": [
            "/usr/local/lib/python3.6/dist-packages/smart_open/smart_open_lib.py:253: UserWarning: This function is deprecated, use smart_open.open instead. See the migration notes for details: https://github.com/RaRe-Technologies/smart_open/blob/master/README.rst#migrating-to-the-new-open-function\n",
            "  'See the migration notes for details: %s' % _MIGRATION_NOTES_URL\n"
          ],
          "name": "stderr"
        },
        {
          "output_type": "stream",
          "text": [
            "Num Topics = 2  has Coherence Value of 0.3151\n",
            "Num Topics = 3  has Coherence Value of 0.3448\n",
            "Num Topics = 4  has Coherence Value of 0.3766\n",
            "Num Topics = 5  has Coherence Value of 0.3834\n",
            "Num Topics = 6  has Coherence Value of 0.385\n",
            "Num Topics = 7  has Coherence Value of 0.3609\n",
            "Num Topics = 8  has Coherence Value of 0.3768\n",
            "Num Topics = 9  has Coherence Value of 0.3961\n",
            "Num Topics = 10  has Coherence Value of 0.4011\n",
            "Num Topics = 11  has Coherence Value of 0.3986\n",
            "Num Topics = 12  has Coherence Value of 0.3765\n",
            "Num Topics = 13  has Coherence Value of 0.3752\n",
            "Num Topics = 14  has Coherence Value of 0.3879\n",
            "Num Topics = 15  has Coherence Value of 0.3665\n",
            "Num Topics = 16  has Coherence Value of 0.3467\n",
            "Num Topics = 17  has Coherence Value of 0.3683\n",
            "Num Topics = 18  has Coherence Value of 0.36\n",
            "Num Topics = 19  has Coherence Value of 0.3692\n"
          ],
          "name": "stdout"
        }
      ]
    },
    {
      "cell_type": "code",
      "metadata": {
        "id": "oIso5UpAMk02",
        "colab_type": "code",
        "outputId": "fab51fcc-9251-49b4-d67a-58c7ff2a06ee",
        "colab": {
          "base_uri": "https://localhost:8080/",
          "height": 282
        }
      },
      "source": [
        "plt.plot(topics_nr, coherence_values_mallet)"
      ],
      "execution_count": 87,
      "outputs": [
        {
          "output_type": "execute_result",
          "data": {
            "text/plain": [
              "[<matplotlib.lines.Line2D at 0x7f44ef4509b0>]"
            ]
          },
          "metadata": {
            "tags": []
          },
          "execution_count": 87
        },
        {
          "output_type": "display_data",
          "data": {
            "image/png": "[encoded data removed]",
            "text/plain": [
              "<Figure size 432x288 with 1 Axes>"
            ]
          },
          "metadata": {
            "tags": [],
            "needs_background": "light"
          }
        }
      ]
    },
    {
      "cell_type": "code",
      "metadata": {
        "id": "zaRiYNAlQKY6",
        "colab_type": "code",
        "colab": {}
      },
      "source": [
        "# To analyse the results, the user can print the list of topics for different topic nr"
      ],
      "execution_count": 0,
      "outputs": []
    },
    {
      "cell_type": "code",
      "metadata": {
        "id": "JiK6edH3RA4G",
        "colab_type": "code",
        "outputId": "5e5872de-104d-40a0-fde9-8027d7aeb891",
        "colab": {
          "base_uri": "https://localhost:8080/",
          "height": 411
        }
      },
      "source": [
        "# print topics for nr of topics = 10\n",
        "numtopics = 10\n",
        "gensim.models.wrappers.LdaMallet(mallet_path, corpus=corpus, num_topics=numtopics, id2word=id2word).print_topics()"
      ],
      "execution_count": 88,
      "outputs": [
        {
          "output_type": "stream",
          "text": [
            "/usr/local/lib/python3.6/dist-packages/smart_open/smart_open_lib.py:253: UserWarning: This function is deprecated, use smart_open.open instead. See the migration notes for details: https://github.com/RaRe-Technologies/smart_open/blob/master/README.rst#migrating-to-the-new-open-function\n",
            "  'See the migration notes for details: %s' % _MIGRATION_NOTES_URL\n"
          ],
          "name": "stderr"
        },
        {
          "output_type": "execute_result",
          "data": {
            "text/plain": [
              "[(0,\n",
              "  '0.009*\"notizia\" + 0.008*\"daily\" + 0.007*\"piccolo\" + 0.007*\"follare\" + 0.007*\"lira\" + 0.007*\"solo\" + 0.007*\"sera\" + 0.006*\"altro\" + 0.006*\"gran\" + 0.006*\"prossimo\"'),\n",
              " (1,\n",
              "  '0.019*\"dispaccio\" + 0.017*\"telegrafico\" + 0.010*\"mentire\" + 0.009*\"roma\" + 0.009*\"potere\" + 0.006*\"morto\" + 0.005*\"zione\" + 0.005*\"correre\" + 0.005*\"giugno\" + 0.005*\"vero\"'),\n",
              " (2,\n",
              "  '0.007*\"americano\" + 0.007*\"york\" + 0.007*\"dirigere\" + 0.006*\"italia\" + 0.006*\"ebreo\" + 0.006*\"commerciare\" + 0.006*\"genova\" + 0.006*\"piroscafo\" + 0.006*\"vapore\" + 0.005*\"russia\"'),\n",
              " (3,\n",
              "  '0.028*\"italiano\" + 0.014*\"venire\" + 0.012*\"potere\" + 0.011*\"trovare\" + 0.010*\"daily\" + 0.010*\"dire\" + 0.010*\"quotidiano\" + 0.009*\"italia\" + 0.008*\"italian\" + 0.008*\"parere\"'),\n",
              " (4,\n",
              "  '0.015*\"italiano\" + 0.009*\"regina\" + 0.007*\"venire\" + 0.007*\"camera\" + 0.006*\"politico\" + 0.006*\"serbia\" + 0.006*\"italia\" + 0.006*\"vivo\" + 0.005*\"belgrado\" + 0.005*\"ufficiale\"'),\n",
              " (5,\n",
              "  '0.012*\"leggere\" + 0.007*\"lottare\" + 0.007*\"potere\" + 0.007*\"sociale\" + 0.006*\"lavoratore\" + 0.006*\"popolare\" + 0.006*\"società\" + 0.005*\"classe\" + 0.005*\"dovere\" + 0.005*\"diritto\"'),\n",
              " (6,\n",
              "  '0.019*\"giornale\" + 0.018*\"italiano\" + 0.011*\"maggio\" + 0.008*\"italia\" + 0.008*\"inglese\" + 0.007*\"patrio\" + 0.007*\"vedere\" + 0.006*\"operare\" + 0.006*\"scrivere\" + 0.006*\"scoprire\"'),\n",
              " (7,\n",
              "  '0.015*\"italiano\" + 0.009*\"unito\" + 0.008*\"operare\" + 0.007*\"condizione\" + 0.007*\"grande\" + 0.007*\"italia\" + 0.006*\"numerare\" + 0.006*\"giornale\" + 0.006*\"gran\" + 0.005*\"avvenire\"'),\n",
              " (8,\n",
              "  '0.031*\"cardinale\" + 0.025*\"papa\" + 0.015*\"roma\" + 0.012*\"pontefice\" + 0.010*\"chiesa\" + 0.010*\"nome\" + 0.010*\"leone\" + 0.010*\"xiii\" + 0.010*\"conclave\" + 0.010*\"vaticano\"'),\n",
              " (9,\n",
              "  '0.014*\"roma\" + 0.012*\"dispaccio\" + 0.010*\"telegrafico\" + 0.009*\"francia\" + 0.008*\"italiano\" + 0.008*\"visitare\" + 0.008*\"italia\" + 0.008*\"marconi\" + 0.007*\"parigi\" + 0.006*\"nazione\"')]"
            ]
          },
          "metadata": {
            "tags": []
          },
          "execution_count": 88
        }
      ]
    },
    {
      "cell_type": "markdown",
      "metadata": {
        "id": "Tn70q1uGWx40",
        "colab_type": "text"
      },
      "source": [
        "# Topic distribution"
      ]
    },
    {
      "cell_type": "markdown",
      "metadata": {
        "id": "G-nJuD7-XCyf",
        "colab_type": "text"
      },
      "source": [
        "## 3.1. Gensim"
      ]
    },
    {
      "cell_type": "markdown",
      "metadata": {
        "id": "tJQWcQhLXN0A",
        "colab_type": "text"
      },
      "source": [
        "### 3.1.1. Distribution per topic and per document"
      ]
    },
    {
      "cell_type": "code",
      "metadata": {
        "id": "uCv_Yd4LXNCs",
        "colab_type": "code",
        "colab": {}
      },
      "source": [
        "%%capture\n",
        "numtopics = 6\n",
        "ldamodel = models.LdaModel(corpus, num_topics=numtopics, id2word = id2word, minimum_probability=0)"
      ],
      "execution_count": 0,
      "outputs": []
    },
    {
      "cell_type": "code",
      "metadata": {
        "id": "4Ev971D4W42k",
        "colab_type": "code",
        "colab": {}
      },
      "source": [
        "distribution = pd.DataFrame(index=[i for i in range(len(corpus))],columns=[f'topic{i}' for i in range(numtopics)])"
      ],
      "execution_count": 0,
      "outputs": []
    },
    {
      "cell_type": "code",
      "metadata": {
        "id": "wnwP-6RTXcFb",
        "colab_type": "code",
        "colab": {}
      },
      "source": [
        "for i in range(len(corpus)):\n",
        "  row = [list(j)[1] for j in ldamodel[corpus[i]]] \n",
        "  distribution.loc[i] = row"
      ],
      "execution_count": 0,
      "outputs": []
    },
    {
      "cell_type": "code",
      "metadata": {
        "id": "nuNjFvpSXf33",
        "colab_type": "code",
        "colab": {}
      },
      "source": [
        "# add file name\n",
        "distribution.insert(0, 'document_path', sources['file_name'])"
      ],
      "execution_count": 0,
      "outputs": []
    },
    {
      "cell_type": "code",
      "metadata": {
        "id": "UN5EDiq4Xjeq",
        "colab_type": "code",
        "colab": {
          "base_uri": "https://localhost:8080/",
          "height": 589
        },
        "outputId": "5d8305ff-47ce-4f02-e7d3-86da1a6c7992"
      },
      "source": [
        "distribution"
      ],
      "execution_count": 103,
      "outputs": [
        {
          "output_type": "execute_result",
          "data": {
            "text/html": [
              "<div>\n",
              "<style scoped>\n",
              "    .dataframe tbody tr th:only-of-type {\n",
              "        vertical-align: middle;\n",
              "    }\n",
              "\n",
              "    .dataframe tbody tr th {\n",
              "        vertical-align: top;\n",
              "    }\n",
              "\n",
              "    .dataframe thead th {\n",
              "        text-align: right;\n",
              "    }\n",
              "</style>\n",
              "<table border=\"1\" class=\"dataframe\">\n",
              "  <thead>\n",
              "    <tr style=\"text-align: right;\">\n",
              "      <th></th>\n",
              "      <th>document_path</th>\n",
              "      <th>topic0</th>\n",
              "      <th>topic1</th>\n",
              "      <th>topic2</th>\n",
              "      <th>topic3</th>\n",
              "      <th>topic4</th>\n",
              "      <th>topic5</th>\n",
              "    </tr>\n",
              "  </thead>\n",
              "  <tbody>\n",
              "    <tr>\n",
              "      <th>0</th>\n",
              "      <td>sn85066408_1903-06-22_ed-1_seq-1_ocr.txt</td>\n",
              "      <td>0.000122877</td>\n",
              "      <td>0.000122777</td>\n",
              "      <td>0.0147689</td>\n",
              "      <td>0.000122848</td>\n",
              "      <td>0.98474</td>\n",
              "      <td>0.000122881</td>\n",
              "    </tr>\n",
              "    <tr>\n",
              "      <th>1</th>\n",
              "      <td>sn85066408_1903-05-26_ed-1_seq-1_ocr.txt</td>\n",
              "      <td>0.0494785</td>\n",
              "      <td>0.0974363</td>\n",
              "      <td>0.0741028</td>\n",
              "      <td>0.000180897</td>\n",
              "      <td>0.0247755</td>\n",
              "      <td>0.754026</td>\n",
              "    </tr>\n",
              "    <tr>\n",
              "      <th>2</th>\n",
              "      <td>sn85066408_1903-07-24_ed-1_seq-1_ocr.txt</td>\n",
              "      <td>0.998384</td>\n",
              "      <td>0.000101433</td>\n",
              "      <td>0.00116297</td>\n",
              "      <td>0.000101479</td>\n",
              "      <td>0.000101552</td>\n",
              "      <td>0.000149006</td>\n",
              "    </tr>\n",
              "    <tr>\n",
              "      <th>3</th>\n",
              "      <td>sn85066408_1903-08-06_ed-1_seq-1_ocr.txt</td>\n",
              "      <td>0.996534</td>\n",
              "      <td>0.000132276</td>\n",
              "      <td>0.000132433</td>\n",
              "      <td>0.00013228</td>\n",
              "      <td>0.000132437</td>\n",
              "      <td>0.0029363</td>\n",
              "    </tr>\n",
              "    <tr>\n",
              "      <th>4</th>\n",
              "      <td>sn85066408_1903-05-25_ed-1_seq-1_ocr.txt</td>\n",
              "      <td>0.000109247</td>\n",
              "      <td>0.145709</td>\n",
              "      <td>0.851236</td>\n",
              "      <td>0.000109317</td>\n",
              "      <td>0.000109263</td>\n",
              "      <td>0.00272808</td>\n",
              "    </tr>\n",
              "    <tr>\n",
              "      <th>...</th>\n",
              "      <td>...</td>\n",
              "      <td>...</td>\n",
              "      <td>...</td>\n",
              "      <td>...</td>\n",
              "      <td>...</td>\n",
              "      <td>...</td>\n",
              "      <td>...</td>\n",
              "    </tr>\n",
              "    <tr>\n",
              "      <th>95</th>\n",
              "      <td>sn85066408_1903-06-05_ed-1_seq-1_ocr.txt</td>\n",
              "      <td>0.0881516</td>\n",
              "      <td>0.000127648</td>\n",
              "      <td>0.0305159</td>\n",
              "      <td>0.000105821</td>\n",
              "      <td>0.152477</td>\n",
              "      <td>0.728622</td>\n",
              "    </tr>\n",
              "    <tr>\n",
              "      <th>96</th>\n",
              "      <td>sn85066408_1903-06-15_ed-1_seq-1_ocr.txt</td>\n",
              "      <td>0.095483</td>\n",
              "      <td>0.0012092</td>\n",
              "      <td>0.0374872</td>\n",
              "      <td>0.000147274</td>\n",
              "      <td>0.0208084</td>\n",
              "      <td>0.844865</td>\n",
              "    </tr>\n",
              "    <tr>\n",
              "      <th>97</th>\n",
              "      <td>sn85066408_1903-06-23_ed-1_seq-1_ocr.txt</td>\n",
              "      <td>0.000103108</td>\n",
              "      <td>0.00010306</td>\n",
              "      <td>0.00632602</td>\n",
              "      <td>0.000102961</td>\n",
              "      <td>0.31526</td>\n",
              "      <td>0.678105</td>\n",
              "    </tr>\n",
              "    <tr>\n",
              "      <th>98</th>\n",
              "      <td>sn85066408_1903-08-08_ed-1_seq-1_ocr.txt</td>\n",
              "      <td>0.000128442</td>\n",
              "      <td>0.000128419</td>\n",
              "      <td>0.394037</td>\n",
              "      <td>0.000128311</td>\n",
              "      <td>0.000128477</td>\n",
              "      <td>0.605449</td>\n",
              "    </tr>\n",
              "    <tr>\n",
              "      <th>99</th>\n",
              "      <td>2012271201_1903-06-13_ed-1_seq-1_ocr.txt</td>\n",
              "      <td>0.413301</td>\n",
              "      <td>0.416216</td>\n",
              "      <td>0.000227757</td>\n",
              "      <td>0.160244</td>\n",
              "      <td>0.00978365</td>\n",
              "      <td>0.000227608</td>\n",
              "    </tr>\n",
              "  </tbody>\n",
              "</table>\n",
              "<p>100 rows × 7 columns</p>\n",
              "</div>"
            ],
            "text/plain": [
              "                               document_path  ...       topic5\n",
              "0   sn85066408_1903-06-22_ed-1_seq-1_ocr.txt  ...  0.000122881\n",
              "1   sn85066408_1903-05-26_ed-1_seq-1_ocr.txt  ...     0.754026\n",
              "2   sn85066408_1903-07-24_ed-1_seq-1_ocr.txt  ...  0.000149006\n",
              "3   sn85066408_1903-08-06_ed-1_seq-1_ocr.txt  ...    0.0029363\n",
              "4   sn85066408_1903-05-25_ed-1_seq-1_ocr.txt  ...   0.00272808\n",
              "..                                       ...  ...          ...\n",
              "95  sn85066408_1903-06-05_ed-1_seq-1_ocr.txt  ...     0.728622\n",
              "96  sn85066408_1903-06-15_ed-1_seq-1_ocr.txt  ...     0.844865\n",
              "97  sn85066408_1903-06-23_ed-1_seq-1_ocr.txt  ...     0.678105\n",
              "98  sn85066408_1903-08-08_ed-1_seq-1_ocr.txt  ...     0.605449\n",
              "99  2012271201_1903-06-13_ed-1_seq-1_ocr.txt  ...  0.000227608\n",
              "\n",
              "[100 rows x 7 columns]"
            ]
          },
          "metadata": {
            "tags": []
          },
          "execution_count": 103
        }
      ]
    },
    {
      "cell_type": "markdown",
      "metadata": {
        "id": "Q1EdarG6YJFp",
        "colab_type": "text"
      },
      "source": [
        "### 3.1.2. Distribution per topic for the whole corpus"
      ]
    },
    {
      "cell_type": "code",
      "metadata": {
        "id": "I8pgB8b8X3we",
        "colab_type": "code",
        "colab": {
          "base_uri": "https://localhost:8080/",
          "height": 241
        },
        "outputId": "7915f3e9-2f61-4de0-c9e0-fe23faeca13f"
      },
      "source": [
        "for i in range(len(distribution.columns)-1):\n",
        "  topic_weight = round(sum(distribution.iloc[:,i+1]),2)\n",
        "  print( f'topic {i}: {topic_weight}%' )\n",
        "  topic = ldamodel.print_topics()[i][1]\n",
        "  print( f'terms: {topic} ')"
      ],
      "execution_count": 111,
      "outputs": [
        {
          "output_type": "stream",
          "text": [
            "topic 0: 27.96%\n",
            "terms: 0.008*\"italiano\" + 0.004*\"cardinale\" + 0.003*\"dispaccio\" + 0.003*\"venire\" + 0.003*\"daily\" + 0.003*\"italia\" + 0.003*\"roma\" + 0.003*\"telegrafico\" + 0.003*\"potere\" + 0.003*\"giornale\" \n",
            "topic 1: 4.48%\n",
            "terms: 0.008*\"italiano\" + 0.005*\"italia\" + 0.004*\"roma\" + 0.004*\"dispaccio\" + 0.003*\"telegrafico\" + 0.002*\"potere\" + 0.002*\"daily\" + 0.002*\"giornale\" + 0.002*\"venire\" + 0.002*\"mentire\" \n",
            "topic 2: 15.7%\n",
            "terms: 0.006*\"italiano\" + 0.004*\"dispaccio\" + 0.004*\"italia\" + 0.004*\"giornale\" + 0.003*\"roma\" + 0.003*\"venire\" + 0.003*\"potere\" + 0.003*\"daily\" + 0.003*\"telegrafico\" + 0.002*\"cardinale\" \n",
            "topic 3: 3.92%\n",
            "terms: 0.007*\"italiano\" + 0.004*\"italia\" + 0.003*\"telegrafico\" + 0.003*\"dispaccio\" + 0.003*\"venire\" + 0.003*\"potere\" + 0.002*\"giornale\" + 0.002*\"roma\" + 0.002*\"mentire\" + 0.002*\"dire\" \n",
            "topic 4: 20.46%\n",
            "terms: 0.008*\"italiano\" + 0.003*\"italia\" + 0.003*\"roma\" + 0.003*\"telegrafico\" + 0.003*\"dispaccio\" + 0.003*\"potere\" + 0.003*\"daily\" + 0.003*\"venire\" + 0.002*\"dovere\" + 0.002*\"giornale\" \n",
            "topic 5: 27.48%\n",
            "terms: 0.008*\"italiano\" + 0.004*\"italia\" + 0.004*\"roma\" + 0.003*\"dispaccio\" + 0.003*\"telegrafico\" + 0.003*\"potere\" + 0.002*\"venire\" + 0.002*\"cardinale\" + 0.002*\"giornale\" + 0.002*\"daily\" \n"
          ],
          "name": "stdout"
        }
      ]
    }
  ]
}
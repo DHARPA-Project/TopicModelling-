{
  "nbformat": 4,
  "nbformat_minor": 0,
  "metadata": {
    "colab": {
      "name": "topic_modelling_tfidf_colab.ipynb",
      "provenance": [],
      "collapsed_sections": [],
      "toc_visible": true
    },
    "kernelspec": {
      "display_name": "Python 3",
      "language": "python",
      "name": "python3"
    },
    "language_info": {
      "codemirror_mode": {
        "name": "ipython",
        "version": 3
      },
      "file_extension": ".py",
      "mimetype": "text/x-python",
      "name": "python",
      "nbconvert_exporter": "python",
      "pygments_lexer": "ipython3",
      "version": "3.8.1"
    }
  },
  "cells": [
    {
      "cell_type": "code",
      "metadata": {
        "colab_type": "code",
        "id": "7FwlEnNvQJNG",
        "colab": {}
      },
      "source": [
        "import json\n",
        "import urllib\n",
        "import os\n",
        "import csv"
      ],
      "execution_count": 1,
      "outputs": []
    },
    {
      "cell_type": "markdown",
      "metadata": {
        "colab_type": "text",
        "id": "6AZPes5RSYG2"
      },
      "source": [
        "# 0. Preliminary step to get the dataset\n",
        "\n",
        "\n"
      ]
    },
    {
      "cell_type": "markdown",
      "metadata": {
        "colab_type": "text",
        "id": "loJLAa_Jf5Yq"
      },
      "source": [
        "Getting data from sharable google drive folder "
      ]
    },
    {
      "cell_type": "code",
      "metadata": {
        "colab_type": "code",
        "id": "VK81EVJim0Jc",
        "colab": {}
      },
      "source": [
        "# link to folder: https://drive.google.com/drive/folders/18TjiltRr8CFlx0aPcLsnKBr5iyeiQxWc?usp=sharing\n",
        "# upload data folder to your drive root folder 'My Drive' (It is the default folder)."
      ],
      "execution_count": 2,
      "outputs": []
    },
    {
      "cell_type": "code",
      "metadata": {
        "colab_type": "code",
        "id": "t8mKSMpvh7Xr",
        "colab": {
          "base_uri": "https://localhost:8080/",
          "height": 122
        },
        "outputId": "4e45b35e-621c-4e87-d6c2-64bf4332ddb0"
      },
      "source": [
        "# connect your drive to Google Colab\n",
        "from google.colab import drive\n",
        "drive.mount('/content/drive')\n",
        "# after running this cell, open the url that displays below from your uni gmail account\n",
        "# copy the code that is displayed \n",
        "# paste the code into the cell below when prompted and then press enter"
      ],
      "execution_count": 3,
      "outputs": [
        {
          "output_type": "stream",
          "text": [
            "Go to this URL in a browser: https://accounts.google.com/o/oauth2/auth?client_id=947318989803-6bn6qk8qdgf4n4g3pfee6491hc0brc4i.apps.googleusercontent.com&redirect_uri=urn%3aietf%3awg%3aoauth%3a2.0%3aoob&response_type=code&scope=email%20https%3a%2f%2fwww.googleapis.com%2fauth%2fdocs.test%20https%3a%2f%2fwww.googleapis.com%2fauth%2fdrive%20https%3a%2f%2fwww.googleapis.com%2fauth%2fdrive.photos.readonly%20https%3a%2f%2fwww.googleapis.com%2fauth%2fpeopleapi.readonly\n",
            "\n",
            "Enter your authorization code:\n",
            "··········\n",
            "Mounted at /content/drive\n"
          ],
          "name": "stdout"
        }
      ]
    },
    {
      "cell_type": "code",
      "metadata": {
        "id": "CcelXsQe59E2",
        "colab_type": "code",
        "colab": {}
      },
      "source": [
        "folder_path = '/content/drive/My Drive/data_tm_workflow/'"
      ],
      "execution_count": 4,
      "outputs": []
    },
    {
      "cell_type": "code",
      "metadata": {
        "id": "dz8Y5ZMJcYdg",
        "colab_type": "code",
        "colab": {}
      },
      "source": [
        "# set the output folder in the drive (the csv files with the results of the process will be downloaded there)\n",
        "# first create the empty folder in the drive\n",
        "output_folder = '/content/drive/My Drive/output_tm_tfidf/'"
      ],
      "execution_count": 5,
      "outputs": []
    },
    {
      "cell_type": "markdown",
      "metadata": {
        "colab_type": "text",
        "id": "AUvuIpuzT8ke"
      },
      "source": [
        "# 1. Data preparation"
      ]
    },
    {
      "cell_type": "markdown",
      "metadata": {
        "colab_type": "text",
        "id": "MTOrDXSYUIc3"
      },
      "source": [
        "## 1.1. Creating data frame\n",
        "A dataframe is first created to keep the documents at their initial state, and the name of each file"
      ]
    },
    {
      "cell_type": "code",
      "metadata": {
        "id": "lDu1_b_N59FI",
        "colab_type": "code",
        "colab": {}
      },
      "source": [
        "import pandas as pd"
      ],
      "execution_count": 6,
      "outputs": []
    },
    {
      "cell_type": "code",
      "metadata": {
        "colab_type": "code",
        "id": "EFg24uulSAjU",
        "colab": {}
      },
      "source": [
        "files_list = os.listdir(folder_path)"
      ],
      "execution_count": 7,
      "outputs": []
    },
    {
      "cell_type": "code",
      "metadata": {
        "colab_type": "code",
        "id": "8lLD0OpiXv5Y",
        "colab": {}
      },
      "source": [
        "#insert file names into a df\n",
        "sources = pd.DataFrame(files_list, columns=['file_name'])"
      ],
      "execution_count": 8,
      "outputs": []
    },
    {
      "cell_type": "code",
      "metadata": {
        "colab_type": "code",
        "id": "0PgOwPnqCfAe",
        "colab": {}
      },
      "source": [
        "#function to read the content of the text files\n",
        "def readTxtContent(fileName):\n",
        "  with open(folder_path + fileName, 'r') as file:\n",
        "    return ' ' + file.read().replace('\\n', ' ') + ' '"
      ],
      "execution_count": 9,
      "outputs": []
    },
    {
      "cell_type": "code",
      "metadata": {
        "colab_type": "code",
        "id": "MZEVIKHziQv2",
        "colab": {}
      },
      "source": [
        "# adding a column to the dataframe containing file content\n",
        "sources['file_content'] = sources['file_name'].apply(lambda x: readTxtContent(x))"
      ],
      "execution_count": 12,
      "outputs": []
    },
    {
      "cell_type": "markdown",
      "metadata": {
        "colab_type": "text",
        "id": "BGPY4tOwXZUR"
      },
      "source": [
        "## 1.2. Adding columns for dates, publications and filtering dataset"
      ]
    },
    {
      "cell_type": "markdown",
      "metadata": {
        "id": "iDPSiREm59FV",
        "colab_type": "text"
      },
      "source": [
        "### 1.2.1. dates, publications\n",
        "\n",
        "\n"
      ]
    },
    {
      "cell_type": "code",
      "metadata": {
        "id": "KSK4EAei59FV",
        "colab_type": "code",
        "colab": {}
      },
      "source": [
        "import re"
      ],
      "execution_count": 14,
      "outputs": []
    },
    {
      "cell_type": "code",
      "metadata": {
        "colab_type": "code",
        "id": "pde6XkQ3Xll1",
        "colab": {}
      },
      "source": [
        "# function to retrieve publication ref from file name\n",
        "def get_ref(file):\n",
        "  ref_match = re.findall(r'(\\w+\\d+)_\\d{4}-\\d{2}-\\d{2}_',file)\n",
        "  return ref_match[0]\n",
        "\n",
        "# function to retrieve date from file name\n",
        "def get_date(file):\n",
        "  date_match = re.findall(r'_(\\d{4}-\\d{2}-\\d{2})_',file)\n",
        "  return date_match[0]\n",
        "\n",
        "# function to retrieve year from file name\n",
        "def get_year(file):\n",
        "  year_match = re.findall(r'_(\\d{4})-\\d{2}-\\d{2}_',file)\n",
        "  return year_match[0]\n",
        "\n",
        "# function to retrieve month from file name\n",
        "def get_month(file):\n",
        "  month_match = re.findall(r'_\\d{4}-(\\d{2})-\\d{2}_',file)\n",
        "  return month_match[0]\n",
        "\n",
        "# function to retrieve day from file name\n",
        "def get_day(file):\n",
        "  month_match = re.findall(r'_\\d{4}-\\d{2}-(\\d{2})_',file)\n",
        "  return month_match[0]"
      ],
      "execution_count": 15,
      "outputs": []
    },
    {
      "cell_type": "code",
      "metadata": {
        "colab_type": "code",
        "id": "SFv7fxX2a0kn",
        "colab": {}
      },
      "source": [
        "sources['date'] = sources['file_name'].apply(lambda x: get_date(x))\n",
        "sources['year'] = sources['file_name'].apply(lambda x: get_year(x))\n",
        "sources['month'] = sources['file_name'].apply(lambda x: get_month(x))\n",
        "sources['day'] = sources['file_name'].apply(lambda x: get_day(x))\n",
        "sources['publication'] = sources['file_name'].apply(lambda x: get_ref(x))"
      ],
      "execution_count": 16,
      "outputs": []
    },
    {
      "cell_type": "code",
      "metadata": {
        "id": "a0OeZyeG59Fb",
        "colab_type": "code",
        "colab": {}
      },
      "source": [
        "# add publication names"
      ],
      "execution_count": null,
      "outputs": []
    },
    {
      "cell_type": "code",
      "metadata": {
        "id": "on1YgIf359Fd",
        "colab_type": "code",
        "colab": {}
      },
      "source": [
        "def get_pub_name(pub_number):\n",
        "    if (pub_number == 'sn85066408'):\n",
        "        return 'L\\'Italia'\n",
        "    elif (pub_number == '2012271201'):\n",
        "        return 'Cronaca Sovversiva'"
      ],
      "execution_count": 17,
      "outputs": []
    },
    {
      "cell_type": "code",
      "metadata": {
        "id": "X6VSQQ3S59Fg",
        "colab_type": "code",
        "colab": {}
      },
      "source": [
        "sources['publication_name'] = sources['publication'].apply(lambda x: get_pub_name(x))"
      ],
      "execution_count": 18,
      "outputs": []
    },
    {
      "cell_type": "markdown",
      "metadata": {
        "id": "ZzukME_p59Fh",
        "colab_type": "text"
      },
      "source": [
        "### 1.2.2. Filtering"
      ]
    },
    {
      "cell_type": "code",
      "metadata": {
        "id": "jUqfyF2C59Fi",
        "colab_type": "code",
        "colab": {}
      },
      "source": [
        "import datetime\n",
        "from datetime import timedelta, date"
      ],
      "execution_count": 19,
      "outputs": []
    },
    {
      "cell_type": "code",
      "metadata": {
        "id": "dHDI-4nE59Fj",
        "colab_type": "code",
        "colab": {}
      },
      "source": [
        "# Start from 06.06.1903 and finish 01.05.1919"
      ],
      "execution_count": null,
      "outputs": []
    },
    {
      "cell_type": "code",
      "metadata": {
        "id": "ITJpslt959Fl",
        "colab_type": "code",
        "colab": {}
      },
      "source": [
        "date_ref_1 = date(1903,6,6)\n",
        "date_ref_2 = date(1919,5,1)"
      ],
      "execution_count": 20,
      "outputs": []
    },
    {
      "cell_type": "code",
      "metadata": {
        "id": "3lQ3vbA859Fm",
        "colab_type": "code",
        "colab": {}
      },
      "source": [
        "def filter_by_date(date_item,date_ref_1,date_ref_2):\n",
        "    year = re.findall(r'(\\d{4})-\\d{2}-\\d{2}',date_item)[0]\n",
        "    month = re.findall(r'\\d{4}-(\\d{2})-\\d{2}',date_item)[0]\n",
        "    day = re.findall(r'\\d{4}-\\d{2}-(\\d{2})',date_item)[0]\n",
        "    file_date = date(int(year),int(month),int(day))\n",
        "    if (date_ref_1 <= file_date <= date_ref_2):\n",
        "        return 'included'\n",
        "    else:\n",
        "        return 'not included'"
      ],
      "execution_count": 21,
      "outputs": []
    },
    {
      "cell_type": "code",
      "metadata": {
        "id": "YnK5Ag9v59Fo",
        "colab_type": "code",
        "colab": {}
      },
      "source": [
        "sources['status'] = sources['date'].apply(lambda x: filter_by_date(x,date_ref_1,date_ref_2))"
      ],
      "execution_count": 22,
      "outputs": []
    },
    {
      "cell_type": "code",
      "metadata": {
        "id": "BlIciGti59Fp",
        "colab_type": "code",
        "colab": {
          "base_uri": "https://localhost:8080/",
          "height": 1000
        },
        "outputId": "fb00c14f-cff4-44e7-dc66-71701c5910b6"
      },
      "source": [
        "sources"
      ],
      "execution_count": 23,
      "outputs": [
        {
          "output_type": "execute_result",
          "data": {
            "text/html": [
              "<div>\n",
              "<style scoped>\n",
              "    .dataframe tbody tr th:only-of-type {\n",
              "        vertical-align: middle;\n",
              "    }\n",
              "\n",
              "    .dataframe tbody tr th {\n",
              "        vertical-align: top;\n",
              "    }\n",
              "\n",
              "    .dataframe thead th {\n",
              "        text-align: right;\n",
              "    }\n",
              "</style>\n",
              "<table border=\"1\" class=\"dataframe\">\n",
              "  <thead>\n",
              "    <tr style=\"text-align: right;\">\n",
              "      <th></th>\n",
              "      <th>file_name</th>\n",
              "      <th>file_content</th>\n",
              "      <th>date</th>\n",
              "      <th>year</th>\n",
              "      <th>month</th>\n",
              "      <th>day</th>\n",
              "      <th>publication</th>\n",
              "      <th>publication_name</th>\n",
              "      <th>status</th>\n",
              "    </tr>\n",
              "  </thead>\n",
              "  <tbody>\n",
              "    <tr>\n",
              "      <th>0</th>\n",
              "      <td>2012271201_1904-03-26_ed-1_seq-1_ocr.txt</td>\n",
              "      <td>SOVVERSIVA' .MA Ebdomadario anarchico propaga...</td>\n",
              "      <td>1904-03-26</td>\n",
              "      <td>1904</td>\n",
              "      <td>03</td>\n",
              "      <td>26</td>\n",
              "      <td>2012271201</td>\n",
              "      <td>Cronaca Sovversiva</td>\n",
              "      <td>included</td>\n",
              "    </tr>\n",
              "    <tr>\n",
              "      <th>1</th>\n",
              "      <td>2012271201_1912-06-15_ed-1_seq-1_ocr.txt</td>\n",
              "      <td>ANNO Per che per chi mandano morire PREZUSE C...</td>\n",
              "      <td>1912-06-15</td>\n",
              "      <td>1912</td>\n",
              "      <td>06</td>\n",
              "      <td>15</td>\n",
              "      <td>2012271201</td>\n",
              "      <td>Cronaca Sovversiva</td>\n",
              "      <td>included</td>\n",
              "    </tr>\n",
              "    <tr>\n",
              "      <th>2</th>\n",
              "      <td>2012271201_1905-04-15_ed-1_seq-1_ocr.txt</td>\n",
              "      <td>ANNO III BARRE VERMONT, SABATO APRILE Num. Sw...</td>\n",
              "      <td>1905-04-15</td>\n",
              "      <td>1905</td>\n",
              "      <td>04</td>\n",
              "      <td>15</td>\n",
              "      <td>2012271201</td>\n",
              "      <td>Cronaca Sovversiva</td>\n",
              "      <td>included</td>\n",
              "    </tr>\n",
              "    <tr>\n",
              "      <th>3</th>\n",
              "      <td>2012271201_1905-01-07_ed-1_seq-1_ocr.txt</td>\n",
              "      <td>ANNO NUMERO SATUIIDAY, JANUARY BAREE, VERMONT...</td>\n",
              "      <td>1905-01-07</td>\n",
              "      <td>1905</td>\n",
              "      <td>01</td>\n",
              "      <td>07</td>\n",
              "      <td>2012271201</td>\n",
              "      <td>Cronaca Sovversiva</td>\n",
              "      <td>included</td>\n",
              "    </tr>\n",
              "    <tr>\n",
              "      <th>4</th>\n",
              "      <td>2012271201_1915-09-11_ed-1_seq-1_ocr.txt</td>\n",
              "      <td>VIVA fra guerrafondai, della gente seria, che...</td>\n",
              "      <td>1915-09-11</td>\n",
              "      <td>1915</td>\n",
              "      <td>09</td>\n",
              "      <td>11</td>\n",
              "      <td>2012271201</td>\n",
              "      <td>Cronaca Sovversiva</td>\n",
              "      <td>included</td>\n",
              "    </tr>\n",
              "    <tr>\n",
              "      <th>...</th>\n",
              "      <td>...</td>\n",
              "      <td>...</td>\n",
              "      <td>...</td>\n",
              "      <td>...</td>\n",
              "      <td>...</td>\n",
              "      <td>...</td>\n",
              "      <td>...</td>\n",
              "      <td>...</td>\n",
              "      <td>...</td>\n",
              "    </tr>\n",
              "    <tr>\n",
              "      <th>766</th>\n",
              "      <td>2012271201_1904-08-13_ed-1_seq-1_ocr.txt</td>\n",
              "      <td>ANNO (UNION NUMERO GRON SOVVERSIVA Ebdomadari...</td>\n",
              "      <td>1904-08-13</td>\n",
              "      <td>1904</td>\n",
              "      <td>08</td>\n",
              "      <td>13</td>\n",
              "      <td>2012271201</td>\n",
              "      <td>Cronaca Sovversiva</td>\n",
              "      <td>included</td>\n",
              "    </tr>\n",
              "    <tr>\n",
              "      <th>767</th>\n",
              "      <td>2012271201_1911-12-16_ed-1_seq-1_ocr.txt</td>\n",
              "      <td>XNNO Poictò tdto noi! 'tf'Z' minatori general...</td>\n",
              "      <td>1911-12-16</td>\n",
              "      <td>1911</td>\n",
              "      <td>12</td>\n",
              "      <td>16</td>\n",
              "      <td>2012271201</td>\n",
              "      <td>Cronaca Sovversiva</td>\n",
              "      <td>included</td>\n",
              "    </tr>\n",
              "    <tr>\n",
              "      <th>768</th>\n",
              "      <td>2012271201_1913-02-08_ed-1_seq-1_ocr.txt</td>\n",
              "      <td>ANNO Aldamas condannato processo iniziatosi G...</td>\n",
              "      <td>1913-02-08</td>\n",
              "      <td>1913</td>\n",
              "      <td>02</td>\n",
              "      <td>08</td>\n",
              "      <td>2012271201</td>\n",
              "      <td>Cronaca Sovversiva</td>\n",
              "      <td>included</td>\n",
              "    </tr>\n",
              "    <tr>\n",
              "      <th>769</th>\n",
              "      <td>2012271201_1917-01-06_ed-1_seq-1_ocr.txt</td>\n",
              "      <td>Mif f'f WÈÈmm:Amy iWli Li;' moi iONfrmiv SM-:...</td>\n",
              "      <td>1917-01-06</td>\n",
              "      <td>1917</td>\n",
              "      <td>01</td>\n",
              "      <td>06</td>\n",
              "      <td>2012271201</td>\n",
              "      <td>Cronaca Sovversiva</td>\n",
              "      <td>included</td>\n",
              "    </tr>\n",
              "    <tr>\n",
              "      <th>770</th>\n",
              "      <td>2012271201_1903-10-17_ed-1_seq-1_ocr.txt</td>\n",
              "      <td>NUMERO Ebdomadario anarchico propaganda rivol...</td>\n",
              "      <td>1903-10-17</td>\n",
              "      <td>1903</td>\n",
              "      <td>10</td>\n",
              "      <td>17</td>\n",
              "      <td>2012271201</td>\n",
              "      <td>Cronaca Sovversiva</td>\n",
              "      <td>included</td>\n",
              "    </tr>\n",
              "  </tbody>\n",
              "</table>\n",
              "<p>771 rows × 9 columns</p>\n",
              "</div>"
            ],
            "text/plain": [
              "                                    file_name  ...    status\n",
              "0    2012271201_1904-03-26_ed-1_seq-1_ocr.txt  ...  included\n",
              "1    2012271201_1912-06-15_ed-1_seq-1_ocr.txt  ...  included\n",
              "2    2012271201_1905-04-15_ed-1_seq-1_ocr.txt  ...  included\n",
              "3    2012271201_1905-01-07_ed-1_seq-1_ocr.txt  ...  included\n",
              "4    2012271201_1915-09-11_ed-1_seq-1_ocr.txt  ...  included\n",
              "..                                        ...  ...       ...\n",
              "766  2012271201_1904-08-13_ed-1_seq-1_ocr.txt  ...  included\n",
              "767  2012271201_1911-12-16_ed-1_seq-1_ocr.txt  ...  included\n",
              "768  2012271201_1913-02-08_ed-1_seq-1_ocr.txt  ...  included\n",
              "769  2012271201_1917-01-06_ed-1_seq-1_ocr.txt  ...  included\n",
              "770  2012271201_1903-10-17_ed-1_seq-1_ocr.txt  ...  included\n",
              "\n",
              "[771 rows x 9 columns]"
            ]
          },
          "metadata": {
            "tags": []
          },
          "execution_count": 23
        }
      ]
    },
    {
      "cell_type": "code",
      "metadata": {
        "colab_type": "code",
        "id": "5AbjD_hb9SQw",
        "colab": {}
      },
      "source": [
        "# variable containing the documents separately\n",
        "corpus_df = sources[sources['status'] == 'included'].copy().reset_index()"
      ],
      "execution_count": 24,
      "outputs": []
    },
    {
      "cell_type": "markdown",
      "metadata": {
        "colab_type": "text",
        "id": "ybCetXHi9m-y"
      },
      "source": [
        "## 1.2 Removing stop words, punctuation, short words"
      ]
    },
    {
      "cell_type": "code",
      "metadata": {
        "id": "sjphk8Sk59Fu",
        "colab_type": "code",
        "colab": {
          "base_uri": "https://localhost:8080/",
          "height": 71
        },
        "outputId": "48adf296-86b7-4ad1-cd11-46300dff9b0f"
      },
      "source": [
        "! pip install nltk"
      ],
      "execution_count": 25,
      "outputs": [
        {
          "output_type": "stream",
          "text": [
            "Requirement already satisfied: nltk in /usr/local/lib/python3.6/dist-packages (3.2.5)\n",
            "Requirement already satisfied: six in /usr/local/lib/python3.6/dist-packages (from nltk) (1.12.0)\n"
          ],
          "name": "stdout"
        }
      ]
    },
    {
      "cell_type": "code",
      "metadata": {
        "colab_type": "code",
        "id": "6e-8sf7RayKz",
        "colab": {}
      },
      "source": [
        "%%capture\n",
        "import nltk\n",
        "nltk.download('punkt')\n",
        "nltk.download('stopwords')\n",
        "from nltk.corpus import stopwords\n",
        "from nltk.tokenize import word_tokenize"
      ],
      "execution_count": 26,
      "outputs": []
    },
    {
      "cell_type": "code",
      "metadata": {
        "colab_type": "code",
        "id": "a1MbU3_seOtJ",
        "colab": {}
      },
      "source": [
        "# add tokenized documents in dataframe\n",
        "corpus_df['tokens'] = corpus_df['file_content'].apply(lambda x: nltk.word_tokenize(x))"
      ],
      "execution_count": 27,
      "outputs": []
    },
    {
      "cell_type": "code",
      "metadata": {
        "colab_type": "code",
        "id": "vh3ikvdKfQ60",
        "colab": {}
      },
      "source": [
        "# possible user options:\n",
        "# .isalnum() to removes tokens that include numbers\n",
        "# .isalpha() to remove all tokens that contain more than letters (punctuation and numbers)\n",
        "# .isdecimal() to remove tokens that contain only decimals\n",
        "# .isdigit() to remove tokens that contain only digits\n",
        "\n",
        "# add new column in df with processed tokens (here: keeping only alpha tokens longer than 3 characters + lowercasing)\n",
        "corpus_df['doc_prep'] = corpus_df['tokens'].apply(lambda x: [w.lower() for w in x if (w.isalpha() and len(w) > 2 )])"
      ],
      "execution_count": 28,
      "outputs": []
    },
    {
      "cell_type": "code",
      "metadata": {
        "id": "We2Ph83Y59F3",
        "colab_type": "code",
        "colab": {}
      },
      "source": [
        "# link to custom stop words: https://drive.google.com/file/d/1VVfW6AKPbb7_fICOG73lEgkXmmZ6BkpC/view?usp=sharing\n",
        "# Upload stop words list into Colab files before proceeding with the next cells"
      ],
      "execution_count": null,
      "outputs": []
    },
    {
      "cell_type": "code",
      "metadata": {
        "colab_type": "code",
        "id": "J-l00vPyShTM",
        "colab": {}
      },
      "source": [
        "from nltk.corpus import stopwords\n",
        "ital_stopwords = stopwords.words('italian')\n",
        "en_stopwords = stopwords.words('english')"
      ],
      "execution_count": 29,
      "outputs": []
    },
    {
      "cell_type": "code",
      "metadata": {
        "colab_type": "code",
        "id": "74eVFiitFFnO",
        "colab": {}
      },
      "source": [
        "stop_words = pd.read_csv('stop_words.csv')"
      ],
      "execution_count": 30,
      "outputs": []
    },
    {
      "cell_type": "code",
      "metadata": {
        "colab_type": "code",
        "id": "uw-or9DzIVI2",
        "colab": {}
      },
      "source": [
        "stopwords = stop_words['stopword'].values.tolist()"
      ],
      "execution_count": 31,
      "outputs": []
    },
    {
      "cell_type": "code",
      "metadata": {
        "colab_type": "code",
        "id": "zLpy-SOmhOmr",
        "colab": {}
      },
      "source": [
        "# add english stop words list to custom stopwords \n",
        "stopwords.extend(en_stopwords)"
      ],
      "execution_count": 32,
      "outputs": []
    },
    {
      "cell_type": "code",
      "metadata": {
        "colab_type": "code",
        "id": "3IrR5gbba5ho",
        "colab": {}
      },
      "source": [
        "# to append list of words added by user: ital_stopwords.extend(user_input)\n",
        "# to remove words: ital_stopwords.remove(user_input)"
      ],
      "execution_count": null,
      "outputs": []
    },
    {
      "cell_type": "code",
      "metadata": {
        "colab_type": "code",
        "id": "5SBUnxlpCxEa",
        "colab": {}
      },
      "source": [
        "# add column with tokenized documents without sw\n",
        "corpus_df['doc_prep_nostop'] = corpus_df['doc_prep'].apply(lambda x: [w for w in x if not w in stopwords])"
      ],
      "execution_count": 33,
      "outputs": []
    },
    {
      "cell_type": "code",
      "metadata": {
        "colab_type": "code",
        "id": "6S_6yx1UmIbZ",
        "colab": {
          "base_uri": "https://localhost:8080/",
          "height": 221
        },
        "outputId": "572a7c11-37c3-41bb-bd84-4c8c146a6c2c"
      },
      "source": [
        "corpus_df['doc_prep_nostop']"
      ],
      "execution_count": 34,
      "outputs": [
        {
          "output_type": "execute_result",
          "data": {
            "text/plain": [
              "0      [sovversiva, ebdomadario, anarchico, propagand...\n",
              "1      [mandano, morire, prezuse, contekioni, felice,...\n",
              "2      [barre, vermont, sabato, aprile, num, swhvìv, ...\n",
              "3      [numero, satuiiday, january, baree, vermont, s...\n",
              "4      [viva, guerrafondai, seria, persuade, tirtei, ...\n",
              "                             ...                        \n",
              "766    [union, numero, gron, sovversiva, ebdomadario,...\n",
              "767    [xnno, poictò, tdto, minatori, campi, antracit...\n",
              "768    [aldamas, condannato, processo, iniziatosi, ge...\n",
              "769    [mif, wèèmm, amy, iwli, moi, ionfrmiv, mjèr, c...\n",
              "770    [numero, ebdomadario, anarchico, propaganda, r...\n",
              "Name: doc_prep_nostop, Length: 771, dtype: object"
            ]
          },
          "metadata": {
            "tags": []
          },
          "execution_count": 34
        }
      ]
    },
    {
      "cell_type": "code",
      "metadata": {
        "colab_type": "code",
        "id": "XZHRCw-TLGPK",
        "colab": {}
      },
      "source": [
        "# set the variable to use for topic modelling (if no further options are used)\n",
        "corpus_model = corpus_df['doc_prep_nostop']"
      ],
      "execution_count": 35,
      "outputs": []
    },
    {
      "cell_type": "code",
      "metadata": {
        "id": "AAfTMWcX59GM",
        "colab_type": "code",
        "colab": {}
      },
      "source": [
        "# save the data after pre-processing in the output folder for verification of pre-processing steps\n",
        "# corpus_df.to_csv(output_folder + '/corpus_df.csv')\n",
        "corpus_df.to_csv(output_folder + '/corpus_df.csv')"
      ],
      "execution_count": 36,
      "outputs": []
    },
    {
      "cell_type": "markdown",
      "metadata": {
        "colab_type": "text",
        "id": "YHKQAqemcgYz"
      },
      "source": [
        "## 1.4 Lemmatize"
      ]
    },
    {
      "cell_type": "code",
      "metadata": {
        "colab_type": "code",
        "id": "Ob8M804chYgh",
        "colab": {}
      },
      "source": [
        "# Lemmatization is available in multiple languages in Spacy and not in NLTK (only English)\n",
        "# With Spacy, lemmatization is available for 10 languages. There's also a multi-language option that\n",
        "# should be tested if additional languages are needed"
      ],
      "execution_count": null,
      "outputs": []
    },
    {
      "cell_type": "code",
      "metadata": {
        "id": "spP6fsv-59GO",
        "colab_type": "code",
        "colab": {
          "base_uri": "https://localhost:8080/",
          "height": 377
        },
        "outputId": "b5c1aac9-9a38-46b9-a4fb-9afb457575c3"
      },
      "source": [
        "!pip install spacy"
      ],
      "execution_count": null,
      "outputs": [
        {
          "output_type": "stream",
          "text": [
            "Requirement already satisfied: spacy in /usr/local/lib/python3.6/dist-packages (2.2.4)\n",
            "Requirement already satisfied: setuptools in /usr/local/lib/python3.6/dist-packages (from spacy) (49.1.0)\n",
            "Requirement already satisfied: catalogue<1.1.0,>=0.0.7 in /usr/local/lib/python3.6/dist-packages (from spacy) (1.0.0)\n",
            "Requirement already satisfied: numpy>=1.15.0 in /usr/local/lib/python3.6/dist-packages (from spacy) (1.18.5)\n",
            "Requirement already satisfied: wasabi<1.1.0,>=0.4.0 in /usr/local/lib/python3.6/dist-packages (from spacy) (0.7.0)\n",
            "Requirement already satisfied: requests<3.0.0,>=2.13.0 in /usr/local/lib/python3.6/dist-packages (from spacy) (2.23.0)\n",
            "Requirement already satisfied: plac<1.2.0,>=0.9.6 in /usr/local/lib/python3.6/dist-packages (from spacy) (1.1.3)\n",
            "Requirement already satisfied: blis<0.5.0,>=0.4.0 in /usr/local/lib/python3.6/dist-packages (from spacy) (0.4.1)\n",
            "Requirement already satisfied: srsly<1.1.0,>=1.0.2 in /usr/local/lib/python3.6/dist-packages (from spacy) (1.0.2)\n",
            "Requirement already satisfied: cymem<2.1.0,>=2.0.2 in /usr/local/lib/python3.6/dist-packages (from spacy) (2.0.3)\n",
            "Requirement already satisfied: thinc==7.4.0 in /usr/local/lib/python3.6/dist-packages (from spacy) (7.4.0)\n",
            "Requirement already satisfied: murmurhash<1.1.0,>=0.28.0 in /usr/local/lib/python3.6/dist-packages (from spacy) (1.0.2)\n",
            "Requirement already satisfied: tqdm<5.0.0,>=4.38.0 in /usr/local/lib/python3.6/dist-packages (from spacy) (4.41.1)\n",
            "Requirement already satisfied: preshed<3.1.0,>=3.0.2 in /usr/local/lib/python3.6/dist-packages (from spacy) (3.0.2)\n",
            "Requirement already satisfied: importlib-metadata>=0.20; python_version < \"3.8\" in /usr/local/lib/python3.6/dist-packages (from catalogue<1.1.0,>=0.0.7->spacy) (1.7.0)\n",
            "Requirement already satisfied: chardet<4,>=3.0.2 in /usr/local/lib/python3.6/dist-packages (from requests<3.0.0,>=2.13.0->spacy) (3.0.4)\n",
            "Requirement already satisfied: certifi>=2017.4.17 in /usr/local/lib/python3.6/dist-packages (from requests<3.0.0,>=2.13.0->spacy) (2020.6.20)\n",
            "Requirement already satisfied: urllib3!=1.25.0,!=1.25.1,<1.26,>=1.21.1 in /usr/local/lib/python3.6/dist-packages (from requests<3.0.0,>=2.13.0->spacy) (1.24.3)\n",
            "Requirement already satisfied: idna<3,>=2.5 in /usr/local/lib/python3.6/dist-packages (from requests<3.0.0,>=2.13.0->spacy) (2.10)\n",
            "Requirement already satisfied: zipp>=0.5 in /usr/local/lib/python3.6/dist-packages (from importlib-metadata>=0.20; python_version < \"3.8\"->catalogue<1.1.0,>=0.0.7->spacy) (3.1.0)\n"
          ],
          "name": "stdout"
        }
      ]
    },
    {
      "cell_type": "code",
      "metadata": {
        "colab_type": "code",
        "id": "2QAPblFUwf3F",
        "colab": {},
        "outputId": "34f879ac-554e-4e21-ec00-2ecbe7d7917e"
      },
      "source": [
        "!python3 -m spacy download it_core_news_sm"
      ],
      "execution_count": null,
      "outputs": [
        {
          "output_type": "stream",
          "text": [
            "Collecting it_core_news_sm==2.3.0\n",
            "  Downloading https://github.com/explosion/spacy-models/releases/download/it_core_news_sm-2.3.0/it_core_news_sm-2.3.0.tar.gz (14.5 MB)\n",
            "\u001b[K     |████████████████████████████████| 14.5 MB 1.3 MB/s eta 0:00:01\n",
            "\u001b[?25hRequirement already satisfied: spacy<2.4.0,>=2.3.0 in /Library/Frameworks/Python.framework/Versions/3.8/lib/python3.8/site-packages (from it_core_news_sm==2.3.0) (2.3.2)\n",
            "Requirement already satisfied: numpy>=1.15.0 in /Library/Frameworks/Python.framework/Versions/3.8/lib/python3.8/site-packages (from spacy<2.4.0,>=2.3.0->it_core_news_sm==2.3.0) (1.18.1)\n",
            "Requirement already satisfied: thinc==7.4.1 in /Library/Frameworks/Python.framework/Versions/3.8/lib/python3.8/site-packages (from spacy<2.4.0,>=2.3.0->it_core_news_sm==2.3.0) (7.4.1)\n",
            "Requirement already satisfied: tqdm<5.0.0,>=4.38.0 in /Library/Frameworks/Python.framework/Versions/3.8/lib/python3.8/site-packages (from spacy<2.4.0,>=2.3.0->it_core_news_sm==2.3.0) (4.47.0)\n",
            "Requirement already satisfied: catalogue<1.1.0,>=0.0.7 in /Library/Frameworks/Python.framework/Versions/3.8/lib/python3.8/site-packages (from spacy<2.4.0,>=2.3.0->it_core_news_sm==2.3.0) (1.0.0)\n",
            "Requirement already satisfied: cymem<2.1.0,>=2.0.2 in /Library/Frameworks/Python.framework/Versions/3.8/lib/python3.8/site-packages (from spacy<2.4.0,>=2.3.0->it_core_news_sm==2.3.0) (2.0.3)\n",
            "Requirement already satisfied: murmurhash<1.1.0,>=0.28.0 in /Library/Frameworks/Python.framework/Versions/3.8/lib/python3.8/site-packages (from spacy<2.4.0,>=2.3.0->it_core_news_sm==2.3.0) (1.0.2)\n",
            "Requirement already satisfied: srsly<1.1.0,>=1.0.2 in /Library/Frameworks/Python.framework/Versions/3.8/lib/python3.8/site-packages (from spacy<2.4.0,>=2.3.0->it_core_news_sm==2.3.0) (1.0.2)\n",
            "Requirement already satisfied: plac<1.2.0,>=0.9.6 in /Library/Frameworks/Python.framework/Versions/3.8/lib/python3.8/site-packages (from spacy<2.4.0,>=2.3.0->it_core_news_sm==2.3.0) (1.1.3)\n",
            "Requirement already satisfied: blis<0.5.0,>=0.4.0 in /Library/Frameworks/Python.framework/Versions/3.8/lib/python3.8/site-packages (from spacy<2.4.0,>=2.3.0->it_core_news_sm==2.3.0) (0.4.1)\n",
            "Requirement already satisfied: requests<3.0.0,>=2.13.0 in /Library/Frameworks/Python.framework/Versions/3.8/lib/python3.8/site-packages (from spacy<2.4.0,>=2.3.0->it_core_news_sm==2.3.0) (2.24.0)\n",
            "Requirement already satisfied: setuptools in /Library/Frameworks/Python.framework/Versions/3.8/lib/python3.8/site-packages (from spacy<2.4.0,>=2.3.0->it_core_news_sm==2.3.0) (41.2.0)\n",
            "Requirement already satisfied: preshed<3.1.0,>=3.0.2 in /Library/Frameworks/Python.framework/Versions/3.8/lib/python3.8/site-packages (from spacy<2.4.0,>=2.3.0->it_core_news_sm==2.3.0) (3.0.2)\n",
            "Requirement already satisfied: wasabi<1.1.0,>=0.4.0 in /Library/Frameworks/Python.framework/Versions/3.8/lib/python3.8/site-packages (from spacy<2.4.0,>=2.3.0->it_core_news_sm==2.3.0) (0.7.0)\n",
            "Requirement already satisfied: certifi>=2017.4.17 in /Library/Frameworks/Python.framework/Versions/3.8/lib/python3.8/site-packages (from requests<3.0.0,>=2.13.0->spacy<2.4.0,>=2.3.0->it_core_news_sm==2.3.0) (2020.6.20)\n",
            "Requirement already satisfied: idna<3,>=2.5 in /Library/Frameworks/Python.framework/Versions/3.8/lib/python3.8/site-packages (from requests<3.0.0,>=2.13.0->spacy<2.4.0,>=2.3.0->it_core_news_sm==2.3.0) (2.10)\n",
            "Requirement already satisfied: chardet<4,>=3.0.2 in /Library/Frameworks/Python.framework/Versions/3.8/lib/python3.8/site-packages (from requests<3.0.0,>=2.13.0->spacy<2.4.0,>=2.3.0->it_core_news_sm==2.3.0) (3.0.4)\n",
            "Requirement already satisfied: urllib3!=1.25.0,!=1.25.1,<1.26,>=1.21.1 in /Library/Frameworks/Python.framework/Versions/3.8/lib/python3.8/site-packages (from requests<3.0.0,>=2.13.0->spacy<2.4.0,>=2.3.0->it_core_news_sm==2.3.0) (1.25.9)\n",
            "Using legacy setup.py install for it-core-news-sm, since package 'wheel' is not installed.\n",
            "Installing collected packages: it-core-news-sm\n",
            "    Running setup.py install for it-core-news-sm ... \u001b[?25ldone\n",
            "\u001b[?25hSuccessfully installed it-core-news-sm-2.3.0\n",
            "\u001b[38;5;2m✔ Download and installation successful\u001b[0m\n",
            "You can now load the model via spacy.load('it_core_news_sm')\n"
          ],
          "name": "stdout"
        }
      ]
    },
    {
      "cell_type": "code",
      "metadata": {
        "colab_type": "code",
        "id": "8al8riPXA98n",
        "colab": {}
      },
      "source": [
        "import it_core_news_sm\n",
        "it_nlp = it_core_news_sm.load(disable=['tagger', 'parser', 'ner'])"
      ],
      "execution_count": null,
      "outputs": []
    },
    {
      "cell_type": "code",
      "metadata": {
        "colab_type": "code",
        "id": "YZHdI_8tmv3y",
        "colab": {}
      },
      "source": [
        "# lemmatization function\n",
        "def lemmatize(doc):\n",
        "  lemmatized_doc = []\n",
        "  for w in doc:\n",
        "    w_lemma = [token.lemma_ for token in it_nlp(w)]\n",
        "    lemmatized_doc.append(w_lemma[0])\n",
        "  return lemmatized_doc"
      ],
      "execution_count": null,
      "outputs": []
    },
    {
      "cell_type": "code",
      "metadata": {
        "colab_type": "code",
        "id": "k-mYWKgSk9CW",
        "colab": {}
      },
      "source": [
        "# takes a long time to run\n",
        "# add column with lemmatized tokens - directly from the tokens as preprocessing has already been done\n",
        "corpus_df['doc_lemmatized'] = corpus_df['doc_prep_nostop'].apply(lambda x: lemmatize(x))"
      ],
      "execution_count": null,
      "outputs": []
    },
    {
      "cell_type": "code",
      "metadata": {
        "colab_type": "code",
        "id": "tvl0MO_FH5yH",
        "colab": {}
      },
      "source": [
        "# variable with lemmatized tokens\n",
        "lemmatized_corpus = corpus_df['doc_lemmatized']\n",
        "# the lemmatized version is not used in this example"
      ],
      "execution_count": null,
      "outputs": []
    },
    {
      "cell_type": "markdown",
      "metadata": {
        "colab_type": "text",
        "id": "o8TRLnFPK6p4"
      },
      "source": [
        "# 2. Topics with LDA"
      ]
    },
    {
      "cell_type": "code",
      "metadata": {
        "id": "CdwV8h_b59GX",
        "colab_type": "code",
        "colab": {
          "base_uri": "https://localhost:8080/",
          "height": 326
        },
        "outputId": "b412273e-63fb-4c76-919f-6072c595b4d5"
      },
      "source": [
        "#Gensim installation\n",
        "! pip install gensim"
      ],
      "execution_count": null,
      "outputs": [
        {
          "output_type": "stream",
          "text": [
            "Requirement already satisfied: gensim in /usr/local/lib/python3.6/dist-packages (3.6.0)\n",
            "Requirement already satisfied: smart-open>=1.2.1 in /usr/local/lib/python3.6/dist-packages (from gensim) (2.1.0)\n",
            "Requirement already satisfied: scipy>=0.18.1 in /usr/local/lib/python3.6/dist-packages (from gensim) (1.4.1)\n",
            "Requirement already satisfied: six>=1.5.0 in /usr/local/lib/python3.6/dist-packages (from gensim) (1.12.0)\n",
            "Requirement already satisfied: numpy>=1.11.3 in /usr/local/lib/python3.6/dist-packages (from gensim) (1.18.5)\n",
            "Requirement already satisfied: boto3 in /usr/local/lib/python3.6/dist-packages (from smart-open>=1.2.1->gensim) (1.14.20)\n",
            "Requirement already satisfied: boto in /usr/local/lib/python3.6/dist-packages (from smart-open>=1.2.1->gensim) (2.49.0)\n",
            "Requirement already satisfied: requests in /usr/local/lib/python3.6/dist-packages (from smart-open>=1.2.1->gensim) (2.23.0)\n",
            "Requirement already satisfied: jmespath<1.0.0,>=0.7.1 in /usr/local/lib/python3.6/dist-packages (from boto3->smart-open>=1.2.1->gensim) (0.10.0)\n",
            "Requirement already satisfied: botocore<1.18.0,>=1.17.20 in /usr/local/lib/python3.6/dist-packages (from boto3->smart-open>=1.2.1->gensim) (1.17.20)\n",
            "Requirement already satisfied: s3transfer<0.4.0,>=0.3.0 in /usr/local/lib/python3.6/dist-packages (from boto3->smart-open>=1.2.1->gensim) (0.3.3)\n",
            "Requirement already satisfied: idna<3,>=2.5 in /usr/local/lib/python3.6/dist-packages (from requests->smart-open>=1.2.1->gensim) (2.10)\n",
            "Requirement already satisfied: certifi>=2017.4.17 in /usr/local/lib/python3.6/dist-packages (from requests->smart-open>=1.2.1->gensim) (2020.6.20)\n",
            "Requirement already satisfied: urllib3!=1.25.0,!=1.25.1,<1.26,>=1.21.1 in /usr/local/lib/python3.6/dist-packages (from requests->smart-open>=1.2.1->gensim) (1.24.3)\n",
            "Requirement already satisfied: chardet<4,>=3.0.2 in /usr/local/lib/python3.6/dist-packages (from requests->smart-open>=1.2.1->gensim) (3.0.4)\n",
            "Requirement already satisfied: python-dateutil<3.0.0,>=2.1 in /usr/local/lib/python3.6/dist-packages (from botocore<1.18.0,>=1.17.20->boto3->smart-open>=1.2.1->gensim) (2.8.1)\n",
            "Requirement already satisfied: docutils<0.16,>=0.10 in /usr/local/lib/python3.6/dist-packages (from botocore<1.18.0,>=1.17.20->boto3->smart-open>=1.2.1->gensim) (0.15.2)\n"
          ],
          "name": "stdout"
        }
      ]
    },
    {
      "cell_type": "code",
      "metadata": {
        "colab_type": "code",
        "id": "Fr1F0QNdOxy3",
        "colab": {}
      },
      "source": [
        "import gensim\n",
        "from gensim.test.utils import common_corpus, common_dictionary\n",
        "from gensim import corpora, models"
      ],
      "execution_count": 37,
      "outputs": []
    },
    {
      "cell_type": "markdown",
      "metadata": {
        "colab_type": "text",
        "id": "530LX-OLRDcP"
      },
      "source": [
        "## 2.1 Preliminary steps to run LDA-TFIDF\n",
        "\n",
        "\n",
        "\n"
      ]
    },
    {
      "cell_type": "markdown",
      "metadata": {
        "id": "uYR45Rh_25MN",
        "colab_type": "text"
      },
      "source": [
        "### 2.1.1 Creating the dictionary, optional filtering of extreme values"
      ]
    },
    {
      "cell_type": "code",
      "metadata": {
        "id": "AhA6uKzA26mo",
        "colab_type": "code",
        "colab": {}
      },
      "source": [
        "# if you use lemmatized version replace \"corpus_model\" by lemmatized_corpus\n",
        "id2word = corpora.Dictionary(corpus_model)"
      ],
      "execution_count": 38,
      "outputs": []
    },
    {
      "cell_type": "code",
      "metadata": {
        "id": "kPw4ORpU2_XB",
        "colab_type": "code",
        "colab": {}
      },
      "source": [
        "id2word.filter_extremes(no_below=5)"
      ],
      "execution_count": 39,
      "outputs": []
    },
    {
      "cell_type": "markdown",
      "metadata": {
        "colab_type": "text",
        "id": "GZlLjmvsQAMy"
      },
      "source": [
        "### 2.1.2 Bag of words"
      ]
    },
    {
      "cell_type": "code",
      "metadata": {
        "colab_type": "code",
        "id": "UzxS5Q3aQ7mh",
        "colab": {}
      },
      "source": [
        "# if you use lemmatized version replace \"corpus_model\" by lemmatized_corpus\n",
        "id2word = corpora.Dictionary(corpus_model)\n",
        "corpus = [id2word.doc2bow(text) for text in corpus_model]"
      ],
      "execution_count": 40,
      "outputs": []
    },
    {
      "cell_type": "markdown",
      "metadata": {
        "id": "MMzbC69K245S",
        "colab_type": "text"
      },
      "source": [
        "### 2.1.3 Tfidf"
      ]
    },
    {
      "cell_type": "code",
      "metadata": {
        "id": "va_I4PHP2-1o",
        "colab_type": "code",
        "colab": {}
      },
      "source": [
        "tfidf = models.TfidfModel(corpus)\n",
        "corpus = tfidf[corpus]"
      ],
      "execution_count": 41,
      "outputs": []
    },
    {
      "cell_type": "markdown",
      "metadata": {
        "colab_type": "text",
        "id": "qadtU7aTQMqg"
      },
      "source": [
        "## 2.2 LDA"
      ]
    },
    {
      "cell_type": "code",
      "metadata": {
        "colab_type": "code",
        "id": "eLzvb_yC9nyo",
        "colab": {}
      },
      "source": [
        "# set the number of topics here for a first look\n",
        "numtopics = 8"
      ],
      "execution_count": 42,
      "outputs": []
    },
    {
      "cell_type": "code",
      "metadata": {
        "colab_type": "code",
        "id": "7ODvMbxSCQh_",
        "colab": {}
      },
      "source": [
        "ldagensim = gensim.models.ldamulticore.LdaMulticore(corpus, id2word=id2word, num_topics=numtopics, chunksize = 100, passes = 10, eval_every = None)\n"
      ],
      "execution_count": 43,
      "outputs": []
    },
    {
      "cell_type": "code",
      "metadata": {
        "colab_type": "code",
        "id": "FLfpXjulCcS4",
        "colab": {}
      },
      "source": [
        "topic_print = ldagensim.print_topics(num_words=30)"
      ],
      "execution_count": 44,
      "outputs": []
    },
    {
      "cell_type": "code",
      "metadata": {
        "id": "QnURiwZD59Gg",
        "colab_type": "code",
        "colab": {}
      },
      "source": [
        "df_topic_print = pd.DataFrame(topic_print, columns=['topic_id','words'])"
      ],
      "execution_count": 45,
      "outputs": []
    },
    {
      "cell_type": "code",
      "metadata": {
        "id": "pR_A_PQB59Gh",
        "colab_type": "code",
        "colab": {}
      },
      "source": [
        "# df_topic_print.to_csv(output_folder + '/init_topics.csv')\n",
        "df_topic_print.to_csv(output_folder + '/init_topics_tfidf.csv')"
      ],
      "execution_count": 46,
      "outputs": []
    },
    {
      "cell_type": "markdown",
      "metadata": {
        "colab_type": "text",
        "id": "SSL1PF6zRcft"
      },
      "source": [
        "## 2.3 Topic Coherence\n",
        "Topic Coherence measures score of a single topic by measuring the degree of semantic similarity between high scoring words in the topic. https://towardsdatascience.com/evaluate-topic-model-in-python-latent-dirichlet-allocation-lda-7d57484bb5d0"
      ]
    },
    {
      "cell_type": "code",
      "metadata": {
        "colab_type": "code",
        "id": "GX69kVo-ssrV",
        "colab": {}
      },
      "source": [
        "from gensim.models.coherencemodel import CoherenceModel"
      ],
      "execution_count": 47,
      "outputs": []
    },
    {
      "cell_type": "code",
      "metadata": {
        "colab_type": "code",
        "id": "XVMfqVqZSbeJ",
        "colab": {}
      },
      "source": [
        "coherence_model_ldagensim = CoherenceModel(model=ldagensim, texts=corpus_model, dictionary=id2word, coherence='c_v')\n",
        "coherence_ldagensim = coherence_model_ldagensim.get_coherence()"
      ],
      "execution_count": 48,
      "outputs": []
    },
    {
      "cell_type": "code",
      "metadata": {
        "id": "kxVpQyYnXPSk",
        "colab_type": "code",
        "colab": {
          "base_uri": "https://localhost:8080/",
          "height": 51
        },
        "outputId": "1852bb06-4ca4-49a4-fd7b-78e16ad6ac2d"
      },
      "source": [
        "print('\\nCoherence Score LDA Gensim: ', coherence_ldagensim)"
      ],
      "execution_count": 49,
      "outputs": [
        {
          "output_type": "stream",
          "text": [
            "\n",
            "Coherence Score LDA Gensim:  0.17990536798770673\n"
          ],
          "name": "stdout"
        }
      ]
    },
    {
      "cell_type": "markdown",
      "metadata": {
        "colab_type": "text",
        "id": "pjImnk4wAh4u"
      },
      "source": [
        "## 2.4 Coherence and number of topics"
      ]
    },
    {
      "cell_type": "code",
      "metadata": {
        "colab_type": "code",
        "id": "RRi7NnJerH6k",
        "colab": {}
      },
      "source": [
        "# as coherence calculation can take quite some time to run (depending on number of documents), I removed the accuracy parameters for performance reasons \n",
        "# it's normal that the coherence is then lower than what was found earlier, as the parameters\n",
        "# give less accurate results"
      ],
      "execution_count": null,
      "outputs": []
    },
    {
      "cell_type": "code",
      "metadata": {
        "colab_type": "code",
        "id": "lWD51u4PGAuh",
        "colab": {}
      },
      "source": [
        "%%capture\n",
        "topics_nr = []\n",
        "coherence_values_gensim = []\n",
        "for num_topics in range(3, 20):\n",
        "  model = gensim.models.ldamulticore.LdaMulticore(corpus, id2word=id2word, num_topics=num_topics)\n",
        "  coherencemodel = CoherenceModel(model=model, texts=corpus_model, dictionary=id2word, coherence='c_v')\n",
        "  coherence_value = coherencemodel.get_coherence()\n",
        "  coherence_values_gensim.append(coherence_value)\n",
        "  topics_nr.append(str(num_topics))"
      ],
      "execution_count": 50,
      "outputs": []
    },
    {
      "cell_type": "code",
      "metadata": {
        "colab_type": "code",
        "id": "7qwexUrMB689",
        "colab": {
          "base_uri": "https://localhost:8080/",
          "height": 306
        },
        "outputId": "52f28b91-3c43-40be-dcdb-fb0566e4b2a5"
      },
      "source": [
        "for i in range(len(topics_nr)):\n",
        "  print(\"Num Topics =\", topics_nr[i], \" has Coherence Value of\", round(coherence_values_gensim[i],4))"
      ],
      "execution_count": 51,
      "outputs": [
        {
          "output_type": "stream",
          "text": [
            "Num Topics = 3  has Coherence Value of 0.2528\n",
            "Num Topics = 4  has Coherence Value of 0.2528\n",
            "Num Topics = 5  has Coherence Value of 0.2298\n",
            "Num Topics = 6  has Coherence Value of 0.2495\n",
            "Num Topics = 7  has Coherence Value of 0.2725\n",
            "Num Topics = 8  has Coherence Value of 0.2565\n",
            "Num Topics = 9  has Coherence Value of 0.2553\n",
            "Num Topics = 10  has Coherence Value of 0.2619\n",
            "Num Topics = 11  has Coherence Value of 0.3152\n",
            "Num Topics = 12  has Coherence Value of 0.296\n",
            "Num Topics = 13  has Coherence Value of 0.3251\n",
            "Num Topics = 14  has Coherence Value of 0.3348\n",
            "Num Topics = 15  has Coherence Value of 0.3414\n",
            "Num Topics = 16  has Coherence Value of 0.3534\n",
            "Num Topics = 17  has Coherence Value of 0.3787\n",
            "Num Topics = 18  has Coherence Value of 0.3644\n",
            "Num Topics = 19  has Coherence Value of 0.3706\n"
          ],
          "name": "stdout"
        }
      ]
    },
    {
      "cell_type": "code",
      "metadata": {
        "id": "pu3ddX4Z59Gz",
        "colab_type": "code",
        "colab": {}
      },
      "source": [
        "df_coherence = pd.DataFrame(topics_nr, columns=['topic_id'])"
      ],
      "execution_count": 52,
      "outputs": []
    },
    {
      "cell_type": "code",
      "metadata": {
        "id": "VNVx4M1l59G0",
        "colab_type": "code",
        "colab": {}
      },
      "source": [
        "df_coherence['topic_coherence'] = coherence_values_gensim"
      ],
      "execution_count": 53,
      "outputs": []
    },
    {
      "cell_type": "code",
      "metadata": {
        "id": "HxMiNwXl59G1",
        "colab_type": "code",
        "colab": {}
      },
      "source": [
        "# df_coherence.to_csv(output_folder +'/coherence_values.csv')\n",
        "df_coherence.to_csv(output_folder + '/coherence_values.csv')"
      ],
      "execution_count": 54,
      "outputs": []
    },
    {
      "cell_type": "code",
      "metadata": {
        "colab_type": "code",
        "id": "H2NSeh81GAur",
        "colab": {}
      },
      "source": [
        "# Visualize coherence scores\n",
        "import matplotlib.pyplot as plt"
      ],
      "execution_count": 55,
      "outputs": []
    },
    {
      "cell_type": "code",
      "metadata": {
        "colab_type": "code",
        "id": "YdA1u15bGAut",
        "colab": {
          "base_uri": "https://localhost:8080/",
          "height": 282
        },
        "outputId": "deaea550-8d25-4ce7-c0f5-92ae3adf898e"
      },
      "source": [
        "plt.plot(topics_nr, coherence_values_gensim)"
      ],
      "execution_count": 56,
      "outputs": [
        {
          "output_type": "execute_result",
          "data": {
            "text/plain": [
              "[<matplotlib.lines.Line2D at 0x7f1dfa7c06a0>]"
            ]
          },
          "metadata": {
            "tags": []
          },
          "execution_count": 56
        },
        {
          "output_type": "display_data",
          "data": {
            "image/png": "[encoded data removed]",
            "text/plain": [
              "<Figure size 432x288 with 1 Axes>"
            ]
          },
          "metadata": {
            "tags": [],
            "needs_background": "light"
          }
        }
      ]
    },
    {
      "cell_type": "code",
      "metadata": {
        "colab_type": "code",
        "id": "28j3eHrRGAuv",
        "colab": {}
      },
      "source": [
        "# To analyse the results, the user can print the list of topics for different topic nr"
      ],
      "execution_count": null,
      "outputs": []
    },
    {
      "cell_type": "code",
      "metadata": {
        "colab_type": "code",
        "id": "Cg6OgRt7GAuy",
        "colab": {}
      },
      "source": [
        "# print topics for nr of topics = 15 - I put here parameters for better accuracy as this will be \n",
        "# the model used to do the rest of calculations - takes approx 15min to run\n",
        "numtopics = 11\n",
        "#model = gensim.models.ldamulticore.LdaMulticore(corpus, id2word=id2word, num_topics=numtopics, chunksize = 100, passes = 10, eval_every = None)\n",
        "model = gensim.models.ldamulticore.LdaMulticore(corpus, id2word=id2word, num_topics=numtopics, iterations = 400, chunksize = 2000, passes = 20)"
      ],
      "execution_count": 57,
      "outputs": []
    },
    {
      "cell_type": "code",
      "metadata": {
        "colab_type": "code",
        "id": "xqZGRK4NCrkJ",
        "colab": {}
      },
      "source": [
        "topic_print_advanced_options = model.print_topics(num_words=30)"
      ],
      "execution_count": 58,
      "outputs": []
    },
    {
      "cell_type": "code",
      "metadata": {
        "id": "hLLdXTHa59G-",
        "colab_type": "code",
        "colab": {}
      },
      "source": [
        "df_topic_print_advanced_options = pd.DataFrame(topic_print_advanced_options, columns=['topic_id','words'])"
      ],
      "execution_count": 59,
      "outputs": []
    },
    {
      "cell_type": "code",
      "metadata": {
        "id": "pfn02KWy59G_",
        "colab_type": "code",
        "colab": {}
      },
      "source": [
        "df_topic_print_advanced_options.to_csv(output_folder +'/advanced_topics.csv')"
      ],
      "execution_count": 60,
      "outputs": []
    },
    {
      "cell_type": "markdown",
      "metadata": {
        "colab_type": "text",
        "id": "lUMwnEEKCERs"
      },
      "source": [
        "# Topic visualisation"
      ]
    },
    {
      "cell_type": "markdown",
      "metadata": {
        "colab_type": "text",
        "id": "4dJYgzJAsxkH"
      },
      "source": [
        "## Data Preparation"
      ]
    },
    {
      "cell_type": "code",
      "metadata": {
        "colab_type": "code",
        "id": "om_oYQRZsvhQ",
        "scrolled": true,
        "colab": {
          "base_uri": "https://localhost:8080/",
          "height": 411
        },
        "outputId": "6a994a51-642e-4352-be88-73a0613b13ba"
      },
      "source": [
        "!wget https://raw.githubusercontent.com/DHARPA-Project/TopicModelling-/master/vis-files/tm_1/jscode-test-2.js\n",
        "!wget https://raw.githubusercontent.com/DHARPA-Project/TopicModelling-/master/vis-files/tm_1/tm1_data_prepare_gensim.py"
      ],
      "execution_count": 61,
      "outputs": [
        {
          "output_type": "stream",
          "text": [
            "--2020-07-20 16:13:13--  https://raw.githubusercontent.com/DHARPA-Project/TopicModelling-/master/vis-files/tm_1/jscode-test-2.js\n",
            "Resolving raw.githubusercontent.com (raw.githubusercontent.com)... 151.101.0.133, 151.101.64.133, 151.101.128.133, ...\n",
            "Connecting to raw.githubusercontent.com (raw.githubusercontent.com)|151.101.0.133|:443... connected.\n",
            "HTTP request sent, awaiting response... 200 OK\n",
            "Length: 219774 (215K) [text/plain]\n",
            "Saving to: ‘jscode-test-2.js’\n",
            "\n",
            "jscode-test-2.js    100%[===================>] 214.62K  --.-KB/s    in 0.05s   \n",
            "\n",
            "2020-07-20 16:13:14 (4.23 MB/s) - ‘jscode-test-2.js’ saved [219774/219774]\n",
            "\n",
            "--2020-07-20 16:13:16--  https://raw.githubusercontent.com/DHARPA-Project/TopicModelling-/master/vis-files/tm_1/tm1_data_prepare_gensim.py\n",
            "Resolving raw.githubusercontent.com (raw.githubusercontent.com)... 151.101.0.133, 151.101.64.133, 151.101.128.133, ...\n",
            "Connecting to raw.githubusercontent.com (raw.githubusercontent.com)|151.101.0.133|:443... connected.\n",
            "HTTP request sent, awaiting response... 200 OK\n",
            "Length: 22823 (22K) [text/plain]\n",
            "Saving to: ‘tm1_data_prepare_gensim.py’\n",
            "\n",
            "tm1_data_prepare_ge 100%[===================>]  22.29K  --.-KB/s    in 0.01s   \n",
            "\n",
            "2020-07-20 16:13:16 (1.72 MB/s) - ‘tm1_data_prepare_gensim.py’ saved [22823/22823]\n",
            "\n"
          ],
          "name": "stdout"
        }
      ]
    },
    {
      "cell_type": "code",
      "metadata": {
        "colab_type": "code",
        "id": "BYK4UaJBtHTO",
        "colab": {}
      },
      "source": [
        "%%capture\n",
        "!pip install funcy"
      ],
      "execution_count": 62,
      "outputs": []
    },
    {
      "cell_type": "code",
      "metadata": {
        "colab_type": "code",
        "id": "XWb61JKFCRnc",
        "colab": {
          "base_uri": "https://localhost:8080/",
          "height": 34
        },
        "outputId": "02d099ef-434c-4a13-9d72-5394ff091d90"
      },
      "source": [
        "%run -i tm1_data_prepare_gensim"
      ],
      "execution_count": 63,
      "outputs": [
        {
          "output_type": "display_data",
          "data": {
            "text/plain": [
              "<Figure size 432x288 with 0 Axes>"
            ]
          },
          "metadata": {
            "tags": []
          }
        }
      ]
    },
    {
      "cell_type": "code",
      "metadata": {
        "colab_type": "code",
        "id": "TkJlFOcwtQX2",
        "colab": {}
      },
      "source": [
        "data_vis = prepare(model, corpus, id2word, doc_topic_dist=None)"
      ],
      "execution_count": 64,
      "outputs": []
    },
    {
      "cell_type": "code",
      "metadata": {
        "colab_type": "code",
        "id": "gM5irgNg5I17",
        "colab": {}
      },
      "source": [
        "topic_info = data_vis[1][data_vis[1]['Category'] == 'Default'].copy()"
      ],
      "execution_count": 65,
      "outputs": []
    },
    {
      "cell_type": "code",
      "metadata": {
        "colab_type": "code",
        "id": "e2iWyH5b4-s8",
        "colab": {}
      },
      "source": [
        "topic_info['relevance'] = ''"
      ],
      "execution_count": 66,
      "outputs": []
    },
    {
      "cell_type": "code",
      "metadata": {
        "colab_type": "code",
        "id": "w_KKlpbT6qMP",
        "colab": {}
      },
      "source": [
        "for i in range(numtopics):\n",
        "  topic_num = i+1\n",
        "  data = data_vis.sorted_terms(topic=topic_num, _lambda=.6).copy()\n",
        "  topic_info = topic_info.append(data)"
      ],
      "execution_count": 67,
      "outputs": []
    },
    {
      "cell_type": "code",
      "metadata": {
        "colab_type": "code",
        "id": "juIJ3X93_F0p",
        "colab": {}
      },
      "source": [
        "# uncomment to show the full output of a topic, replace 'Topic8' by the topic to display\n",
        "# topic_info[topic_info['Category'] == 'Topic8']"
      ],
      "execution_count": null,
      "outputs": []
    },
    {
      "cell_type": "code",
      "metadata": {
        "colab_type": "code",
        "id": "cow3b4AwuA-R",
        "colab": {}
      },
      "source": [
        "topic_info.to_csv(output_folder + '/topic_info.csv')"
      ],
      "execution_count": 68,
      "outputs": []
    },
    {
      "cell_type": "code",
      "metadata": {
        "colab_type": "code",
        "id": "PS6ufUn9uMYo",
        "colab": {}
      },
      "source": [
        "topic_proportion = data_vis[0].copy()"
      ],
      "execution_count": 69,
      "outputs": []
    },
    {
      "cell_type": "code",
      "metadata": {
        "colab_type": "code",
        "id": "wxcIhzOcve5C",
        "colab": {}
      },
      "source": [
        "topic_proportion['proportion'] = topic_proportion['Freq'] / 100"
      ],
      "execution_count": 70,
      "outputs": []
    },
    {
      "cell_type": "code",
      "metadata": {
        "colab_type": "code",
        "id": "emmA8Edwv7-o",
        "colab": {}
      },
      "source": [
        "topic_proportion.index.name = 'topic_id'"
      ],
      "execution_count": 71,
      "outputs": []
    },
    {
      "cell_type": "code",
      "metadata": {
        "colab_type": "code",
        "id": "Y6VjiBcrwS_-",
        "colab": {}
      },
      "source": [
        "topic_proportion.to_csv(output_folder + '/topic_proportion.csv')"
      ],
      "execution_count": 72,
      "outputs": []
    },
    {
      "cell_type": "code",
      "metadata": {
        "id": "w35uoXfBkkJG",
        "colab_type": "code",
        "colab": {}
      },
      "source": [
        "# download also in Jupyter environment for further processing\n",
        "topic_info.to_csv('topic_info.csv')\n",
        "topic_proportion.to_csv('topic_proportion.csv')"
      ],
      "execution_count": 73,
      "outputs": []
    },
    {
      "cell_type": "code",
      "metadata": {
        "colab_type": "code",
        "id": "lvPo3RCbCxtb",
        "colab": {}
      },
      "source": [
        "%%capture\n",
        "import notebook.nbextensions\n",
        "notebook.nbextensions.install_nbextension('topic_info.csv', user=True)\n",
        "notebook.nbextensions.install_nbextension('topic_proportion.csv', user=True)"
      ],
      "execution_count": 74,
      "outputs": []
    },
    {
      "cell_type": "markdown",
      "metadata": {
        "colab_type": "text",
        "id": "KbNwRS8T-voq"
      },
      "source": [
        "## Visualisation"
      ]
    },
    {
      "cell_type": "code",
      "metadata": {
        "colab_type": "code",
        "id": "BzNQN07aC1TB",
        "colab": {}
      },
      "source": [
        "from IPython.display import display, HTML\n",
        "from IPython.core.display import Javascript"
      ],
      "execution_count": 75,
      "outputs": []
    },
    {
      "cell_type": "code",
      "metadata": {
        "colab_type": "code",
        "id": "0v0P8_wIDVLm",
        "colab": {
          "resources": {
            "http://localhost:8080/nbextensions/topic_proportion.csv": {
              "data": "dG9waWNfaWQseCx5LHRvcGljcyxjbHVzdGVyLEZyZXEscHJvcG9ydGlvbgozLC0wLjEwNTkxODMxMjQ4NjQ3NDMzLC0xLjIxMjk2MzQ4OTU3MDk0ODZlLTA1LDEsMSw3MC40MDYxMiwwLjcwNDA2MTIKMSwwLjAxMjA1MjUxMTUyNTQ1NDA3NiwtMC4wMDM3NTkwMDI3NTg2ODU5ODQsMiwxLDMuNjc4NTMyNiwwLjAzNjc4NTMyNwoxMCwwLjAxMTcxODEzMTcyOTg3NzgxMiwwLjAwMjQ1MTMwNDkyNDk4NDQ0LDMsMSwzLjQ5NDExOTIsMC4wMzQ5NDExOTMKOCwwLjAxMTQ3MDcxNDk3NzQ5ODU0NywwLjAwMTI4MDQ4NjQ5OTk5OTU5NjgsNCwxLDMuMzY0NTA2NywwLjAzMzY0NTA2Nwo3LDAuMDExMTY4MzgyOTE0ODE2NDQ2LDguMDMwOTIyNzY4Mzk1OTU2ZS0wNSw1LDEsMy4yMDkzODUsMC4wMzIwOTM4NQo2LDAuMDEwNDIxNDQ2MTQ4MzU3NjgzLDYuMjY3MDY3MTIyMzE2OTMzZS0wNSw2LDEsMi44NzQ2NDE0LDAuMDI4NzQ2NDE1CjIsMC4wMTAyMzI3OTgwNDA5NTYzMzcsMy4wMjE1NTI5NTEwODMzMjg3ZS0wNSw3LDEsMi43OTQ0OTczLDAuMDI3OTQ0OTczCjUsMC4wMTAxMzI2ODQ4MTcwMjA5MTIsLTEuMjY5ODM2MTY2NjU4ODY5NWUtMDUsOCwxLDIuNzM5Mzk2LDAuMDI3MzkzOTYxCjQsMC4wMDk5NjYxODkxOTcxNjM2MDcsMS41ODQyOTE4Nzk3NTc2ODU1ZS0wNSw5LDEsMi42NzY0NzIyLDAuMDI2NzY0NzIzCjksMC4wMDk0MjI1MjQxNzE3MDE0NjcsLTIuMjIyOTUzOTkxMzYyMjM2NmUtMDUsMTAsMSwyLjM4ODExMDYsMC4wMjM4ODExMDYKMCwwLjAwOTMzMjkyODk2MzYyNzQ1NiwtMC4wMDAxMTQ3Njk0NzcwMzc3NzYzNCwxMSwxLDIuMzc0MjE0NCwwLjAyMzc0MjE0NQo=",
              "ok": true,
              "headers": [
                [
                  "content-type",
                  "text/csv"
                ]
              ],
              "status": 200,
              "status_text": ""
            },
            "http://localhost:8080/nbextensions/topic_info.csv": {
              "data": "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",
              "ok": true,
              "headers": [
                [
                  "content-type",
                  "text/csv"
                ]
              ],
              "status": 200,
              "status_text": ""
            }
          },
          "base_uri": "https://localhost:8080/",
          "height": 528
        },
        "outputId": "903ed114-d0f0-4128-fa38-419c79573443"
      },
      "source": [
        "#it's normal that the visualisation doesn't display properly (this is due to TFIDF)\n",
        "# it will be fixed when refining the viz\n",
        "display(HTML('<style>@import url(\"https://fonts.googleapis.com/css2?family=Fira+Sans:wght@300&display=swap\");#vis_tm_1{width:40%; margin-left:20%}.svg-container{position:relative;width:100%;vertical-align:top;overflow:hidden;margin:0;padding:0;}.svg-content-responsive{margin:0;padding:0;display:inline-block;position:absolute;top:0;left:0}.line_style{stroke:\"rgb(70, 130, 180,.3)\";stroke-width:1}.svg_h1{font-size:.9em}.svg_h1,.svg_h2{font-family:\"Fira Sans\",Arial}.svg_h2{font-size:.6em}.svg_text{font-size:.8em}.svg_text,.svg_text_2{font-family:\"Fira Sans\",Arial}.svg_text_2{font-size:.7em}.svg_text_3{font-family:\"Fira Sans\";font-size:.6em}.select_box{width:30%;padding-left:1em;font-family:\"Fira Sans\",Arial}.select_box select{width:100%;background-color:#fff;padding:.5em .6em;box-shadow:inset 0 1px 3px #ddd;vertical-align:middle;font-family:\"Fira Sans\",Arial,sans-serif;letter-spacing:.01em;line-height:1.15;-webkit-writing-mode:horizontal-tb!important;text-rendering:auto;color:#000;letter-spacing:normal;word-spacing:normal;text-transform:none;text-indent:0;text-shadow:none;display:inline-block;text-align:start;-webkit-appearance:menulist;align-items:center;white-space:pre;-webkit-rtl-ordering:logical;background-color:#f8f8f8;cursor:default;margin:0;font:400 11px system-ui;border-radius:5px;border:1px solid #a6a6a6;border-image:none;border-image:initial}.select_box select:focus{border-color:#fff;outline:0;box-shadow:inset 0 1px 1px rgba(0,0,0,.075),0 0 1px rgba(102,175,233,.2)}</style>'))\n",
        "display(HTML('<div id=\"vis_tm_1\"></div>'))\n",
        "Javascript(filename='jscode-test-2.js')"
      ],
      "execution_count": 76,
      "outputs": [
        {
          "output_type": "display_data",
          "data": {
            "text/html": [
              "<style>@import url(\"https://fonts.googleapis.com/css2?family=Fira+Sans:wght@300&display=swap\");#vis_tm_1{width:40%; margin-left:20%}.svg-container{position:relative;width:100%;vertical-align:top;overflow:hidden;margin:0;padding:0;}.svg-content-responsive{margin:0;padding:0;display:inline-block;position:absolute;top:0;left:0}.line_style{stroke:\"rgb(70, 130, 180,.3)\";stroke-width:1}.svg_h1{font-size:.9em}.svg_h1,.svg_h2{font-family:\"Fira Sans\",Arial}.svg_h2{font-size:.6em}.svg_text{font-size:.8em}.svg_text,.svg_text_2{font-family:\"Fira Sans\",Arial}.svg_text_2{font-size:.7em}.svg_text_3{font-family:\"Fira Sans\";font-size:.6em}.select_box{width:30%;padding-left:1em;font-family:\"Fira Sans\",Arial}.select_box select{width:100%;background-color:#fff;padding:.5em .6em;box-shadow:inset 0 1px 3px #ddd;vertical-align:middle;font-family:\"Fira Sans\",Arial,sans-serif;letter-spacing:.01em;line-height:1.15;-webkit-writing-mode:horizontal-tb!important;text-rendering:auto;color:#000;letter-spacing:normal;word-spacing:normal;text-transform:none;text-indent:0;text-shadow:none;display:inline-block;text-align:start;-webkit-appearance:menulist;align-items:center;white-space:pre;-webkit-rtl-ordering:logical;background-color:#f8f8f8;cursor:default;margin:0;font:400 11px system-ui;border-radius:5px;border:1px solid #a6a6a6;border-image:none;border-image:initial}.select_box select:focus{border-color:#fff;outline:0;box-shadow:inset 0 1px 1px rgba(0,0,0,.075),0 0 1px rgba(102,175,233,.2)}</style>"
            ],
            "text/plain": [
              "<IPython.core.display.HTML object>"
            ]
          },
          "metadata": {
            "tags": []
          }
        },
        {
          "output_type": "display_data",
          "data": {
            "text/html": [
              "<div id=\"vis_tm_1\"></div>"
            ],
            "text/plain": [
              "<IPython.core.display.HTML object>"
            ]
          },
          "metadata": {
            "tags": []
          }
        },
        {
          "output_type": "execute_result",
          "data": {
            "application/javascript": [
              "!function(e){function t(t){for(var n,i,l=t[0],a=t[1],f=t[2],c=0,s=[];c<l.length;c++)i=l[c],Object.prototype.hasOwnProperty.call(o,i)&&o[i]&&s.push(o[i][0]),o[i]=0;for(n in a)Object.prototype.hasOwnProperty.call(a,n)&&(e[n]=a[n]);for(p&&p(t);s.length;)s.shift()();return u.push.apply(u,f||[]),r()}function r(){for(var e,t=0;t<u.length;t++){for(var r=u[t],n=!0,l=1;l<r.length;l++){var a=r[l];0!==o[a]&&(n=!1)}n&&(u.splice(t--,1),e=i(i.s=r[0]))}return e}var n={},o={1:0},u=[];function i(t){if(n[t])return n[t].exports;var r=n[t]={i:t,l:!1,exports:{}};return e[t].call(r.exports,r,r.exports,i),r.l=!0,r.exports}i.m=e,i.c=n,i.d=function(e,t,r){i.o(e,t)||Object.defineProperty(e,t,{enumerable:!0,get:r})},i.r=function(e){\"undefined\"!=typeof Symbol&&Symbol.toStringTag&&Object.defineProperty(e,Symbol.toStringTag,{value:\"Module\"}),Object.defineProperty(e,\"__esModule\",{value:!0})},i.t=function(e,t){if(1&t&&(e=i(e)),8&t)return e;if(4&t&&\"object\"==typeof e&&e&&e.__esModule)return e;var r=Object.create(null);if(i.r(r),Object.defineProperty(r,\"default\",{enumerable:!0,value:e}),2&t&&\"string\"!=typeof e)for(var n in e)i.d(r,n,function(t){return e[t]}.bind(null,n));return r},i.n=function(e){var t=e&&e.__esModule?function(){return e.default}:function(){return e};return i.d(t,\"a\",t),t},i.o=function(e,t){return Object.prototype.hasOwnProperty.call(e,t)},i.p=\"/\";var l=this[\"webpackJsonpvisualisation-d3\"]=this[\"webpackJsonpvisualisation-d3\"]||[],a=l.push.bind(l);l.push=t,l=l.slice();for(var f=0;f<l.length;f++)t(l[f]);var p=a;r()}([]);\n",
              "\n",
              "(this[\"webpackJsonpvisualisation-d3\"]=this[\"webpackJsonpvisualisation-d3\"]||[]).push([[2],[function(e,t,n){\"use strict\";e.exports=n(29)},,function(e,t,n){\"use strict\";n.d(t,\"b\",(function(){return m})),n.d(t,\"c\",(function(){return g})),n.d(t,\"d\",(function(){return Zn})),n.d(t,\"a\",(function(){return br})),n.d(t,\"e\",(function(){return pi}));var r=function(e,t){return e<t?-1:e>t?1:e>=t?0:NaN},i=function(e){var t;return 1===e.length&&(t=e,e=function(e,n){return r(t(e),n)}),{left:function(t,n,r,i){for(null==r&&(r=0),null==i&&(i=t.length);r<i;){var o=r+i>>>1;e(t[o],n)<0?r=o+1:i=o}return r},right:function(t,n,r,i){for(null==r&&(r=0),null==i&&(i=t.length);r<i;){var o=r+i>>>1;e(t[o],n)>0?i=o:r=o+1}return r}}};var o=i(r),u=o.right,a=(o.left,u);var l=Array.prototype,c=(l.slice,l.map,Math.sqrt(50)),s=Math.sqrt(10),f=Math.sqrt(2),d=function(e,t,n){var r,i,o,u,a=-1;if(n=+n,(e=+e)===(t=+t)&&n>0)return[e];if((r=t<e)&&(i=e,e=t,t=i),0===(u=p(e,t,n))||!isFinite(u))return[];if(u>0)for(e=Math.ceil(e/u),t=Math.floor(t/u),o=new Array(i=Math.ceil(t-e+1));++a<i;)o[a]=(e+a)*u;else for(e=Math.floor(e*u),t=Math.ceil(t*u),o=new Array(i=Math.ceil(e-t+1));++a<i;)o[a]=(e-a)/u;return r&&o.reverse(),o};function p(e,t,n){var r=(t-e)/Math.max(0,n),i=Math.floor(Math.log(r)/Math.LN10),o=r/Math.pow(10,i);return i>=0?(o>=c?10:o>=s?5:o>=f?2:1)*Math.pow(10,i):-Math.pow(10,-i)/(o>=c?10:o>=s?5:o>=f?2:1)}function h(e,t,n){var r=Math.abs(t-e)/Math.max(0,n),i=Math.pow(10,Math.floor(Math.log(r)/Math.LN10)),o=r/i;return o>=c?i*=10:o>=s?i*=5:o>=f&&(i*=2),t<e?-i:i}var m=function(e,t){var n,r,i=e.length,o=-1;if(null==t){for(;++o<i;)if(null!=(n=e[o])&&n>=n)for(r=n;++o<i;)null!=(n=e[o])&&n>r&&(r=n)}else for(;++o<i;)if(null!=(n=t(e[o],o,e))&&n>=n)for(r=n;++o<i;)null!=(n=t(e[o],o,e))&&n>r&&(r=n);return r},g=function(e,t){var n,r,i=e.length,o=-1;if(null==t){for(;++o<i;)if(null!=(n=e[o])&&n>=n)for(r=n;++o<i;)null!=(n=e[o])&&r>n&&(r=n)}else for(;++o<i;)if(null!=(n=t(e[o],o,e))&&n>=n)for(r=n;++o<i;)null!=(n=t(e[o],o,e))&&r>n&&(r=n);return r};Array.prototype.slice;var v={value:function(){}};function y(){for(var e,t=0,n=arguments.length,r={};t<n;++t){if(!(e=arguments[t]+\"\")||e in r||/[\\s.]/.test(e))throw new Error(\"illegal type: \"+e);r[e]=[]}return new b(r)}function b(e){this._=e}function w(e,t){return e.trim().split(/^|\\s+/).map((function(e){var n=\"\",r=e.indexOf(\".\");if(r>=0&&(n=e.slice(r+1),e=e.slice(0,r)),e&&!t.hasOwnProperty(e))throw new Error(\"unknown type: \"+e);return{type:e,name:n}}))}function x(e,t){for(var n,r=0,i=e.length;r<i;++r)if((n=e[r]).name===t)return n.value}function _(e,t,n){for(var r=0,i=e.length;r<i;++r)if(e[r].name===t){e[r]=v,e=e.slice(0,r).concat(e.slice(r+1));break}return null!=n&&e.push({name:t,value:n}),e}b.prototype=y.prototype={constructor:b,on:function(e,t){var n,r=this._,i=w(e+\"\",r),o=-1,u=i.length;if(!(arguments.length<2)){if(null!=t&&\"function\"!==typeof t)throw new Error(\"invalid callback: \"+t);for(;++o<u;)if(n=(e=i[o]).type)r[n]=_(r[n],e.name,t);else if(null==t)for(n in r)r[n]=_(r[n],e.name,null);return this}for(;++o<u;)if((n=(e=i[o]).type)&&(n=x(r[n],e.name)))return n},copy:function(){var e={},t=this._;for(var n in t)e[n]=t[n].slice();return new b(e)},call:function(e,t){if((n=arguments.length-2)>0)for(var n,r,i=new Array(n),o=0;o<n;++o)i[o]=arguments[o+2];if(!this._.hasOwnProperty(e))throw new Error(\"unknown type: \"+e);for(o=0,n=(r=this._[e]).length;o<n;++o)r[o].value.apply(t,i)},apply:function(e,t,n){if(!this._.hasOwnProperty(e))throw new Error(\"unknown type: \"+e);for(var r=this._[e],i=0,o=r.length;i<o;++i)r[i].value.apply(t,n)}};var k=y;function T(){}var E=function(e){return null==e?T:function(){return this.querySelector(e)}};function C(){return[]}var S=function(e){return null==e?C:function(){return this.querySelectorAll(e)}},M=function(e){return function(){return this.matches(e)}},N=function(e){return new Array(e.length)};function P(e,t){this.ownerDocument=e.ownerDocument,this.namespaceURI=e.namespaceURI,this._next=null,this._parent=e,this.__data__=t}P.prototype={constructor:P,appendChild:function(e){return this._parent.insertBefore(e,this._next)},insertBefore:function(e,t){return this._parent.insertBefore(e,t)},querySelector:function(e){return this._parent.querySelector(e)},querySelectorAll:function(e){return this._parent.querySelectorAll(e)}};function A(e,t,n,r,i,o){for(var u,a=0,l=t.length,c=o.length;a<c;++a)(u=t[a])?(u.__data__=o[a],r[a]=u):n[a]=new P(e,o[a]);for(;a<l;++a)(u=t[a])&&(i[a]=u)}function R(e,t,n,r,i,o,u){var a,l,c,s={},f=t.length,d=o.length,p=new Array(f);for(a=0;a<f;++a)(l=t[a])&&(p[a]=c=\"$\"+u.call(l,l.__data__,a,t),c in s?i[a]=l:s[c]=l);for(a=0;a<d;++a)(l=s[c=\"$\"+u.call(e,o[a],a,o)])?(r[a]=l,l.__data__=o[a],s[c]=null):n[a]=new P(e,o[a]);for(a=0;a<f;++a)(l=t[a])&&s[p[a]]===l&&(i[a]=l)}function D(e,t){return e<t?-1:e>t?1:e>=t?0:NaN}var O=\"http://www.w3.org/1999/xhtml\",z={svg:\"http://www.w3.org/2000/svg\",xhtml:O,xlink:\"http://www.w3.org/1999/xlink\",xml:\"http://www.w3.org/XML/1998/namespace\",xmlns:\"http://www.w3.org/2000/xmlns/\"},L=function(e){var t=e+=\"\",n=t.indexOf(\":\");return n>=0&&\"xmlns\"!==(t=e.slice(0,n))&&(e=e.slice(n+1)),z.hasOwnProperty(t)?{space:z[t],local:e}:e};function U(e){return function(){this.removeAttribute(e)}}function F(e){return function(){this.removeAttributeNS(e.space,e.local)}}function I(e,t){return function(){this.setAttribute(e,t)}}function j(e,t){return function(){this.setAttributeNS(e.space,e.local,t)}}function H(e,t){return function(){var n=t.apply(this,arguments);null==n?this.removeAttribute(e):this.setAttribute(e,n)}}function V(e,t){return function(){var n=t.apply(this,arguments);null==n?this.removeAttributeNS(e.space,e.local):this.setAttributeNS(e.space,e.local,n)}}var $=function(e){return e.ownerDocument&&e.ownerDocument.defaultView||e.document&&e||e.defaultView};function W(e){return function(){this.style.removeProperty(e)}}function Q(e,t,n){return function(){this.style.setProperty(e,t,n)}}function q(e,t,n){return function(){var r=t.apply(this,arguments);null==r?this.style.removeProperty(e):this.style.setProperty(e,r,n)}}function B(e,t){return e.style.getPropertyValue(t)||$(e).getComputedStyle(e,null).getPropertyValue(t)}function Y(e){return function(){delete this[e]}}function X(e,t){return function(){this[e]=t}}function K(e,t){return function(){var n=t.apply(this,arguments);null==n?delete this[e]:this[e]=n}}function Z(e){return e.trim().split(/^|\\s+/)}function J(e){return e.classList||new G(e)}function G(e){this._node=e,this._names=Z(e.getAttribute(\"class\")||\"\")}function ee(e,t){for(var n=J(e),r=-1,i=t.length;++r<i;)n.add(t[r])}function te(e,t){for(var n=J(e),r=-1,i=t.length;++r<i;)n.remove(t[r])}function ne(e){return function(){ee(this,e)}}function re(e){return function(){te(this,e)}}function ie(e,t){return function(){(t.apply(this,arguments)?ee:te)(this,e)}}G.prototype={add:function(e){this._names.indexOf(e)<0&&(this._names.push(e),this._node.setAttribute(\"class\",this._names.join(\" \")))},remove:function(e){var t=this._names.indexOf(e);t>=0&&(this._names.splice(t,1),this._node.setAttribute(\"class\",this._names.join(\" \")))},contains:function(e){return this._names.indexOf(e)>=0}};function oe(){this.textContent=\"\"}function ue(e){return function(){this.textContent=e}}function ae(e){return function(){var t=e.apply(this,arguments);this.textContent=null==t?\"\":t}}function le(){this.innerHTML=\"\"}function ce(e){return function(){this.innerHTML=e}}function se(e){return function(){var t=e.apply(this,arguments);this.innerHTML=null==t?\"\":t}}function fe(){this.nextSibling&&this.parentNode.appendChild(this)}function de(){this.previousSibling&&this.parentNode.insertBefore(this,this.parentNode.firstChild)}function pe(e){return function(){var t=this.ownerDocument,n=this.namespaceURI;return n===O&&t.documentElement.namespaceURI===O?t.createElement(e):t.createElementNS(n,e)}}function he(e){return function(){return this.ownerDocument.createElementNS(e.space,e.local)}}var me=function(e){var t=L(e);return(t.local?he:pe)(t)};function ge(){return null}function ve(){var e=this.parentNode;e&&e.removeChild(this)}function ye(){var e=this.cloneNode(!1),t=this.parentNode;return t?t.insertBefore(e,this.nextSibling):e}function be(){var e=this.cloneNode(!0),t=this.parentNode;return t?t.insertBefore(e,this.nextSibling):e}var we={},xe=null;\"undefined\"!==typeof document&&(\"onmouseenter\"in document.documentElement||(we={mouseenter:\"mouseover\",mouseleave:\"mouseout\"}));function _e(e,t,n){return e=ke(e,t,n),function(t){var n=t.relatedTarget;n&&(n===this||8&n.compareDocumentPosition(this))||e.call(this,t)}}function ke(e,t,n){return function(r){var i=xe;xe=r;try{e.call(this,this.__data__,t,n)}finally{xe=i}}}function Te(e){return e.trim().split(/^|\\s+/).map((function(e){var t=\"\",n=e.indexOf(\".\");return n>=0&&(t=e.slice(n+1),e=e.slice(0,n)),{type:e,name:t}}))}function Ee(e){return function(){var t=this.__on;if(t){for(var n,r=0,i=-1,o=t.length;r<o;++r)n=t[r],e.type&&n.type!==e.type||n.name!==e.name?t[++i]=n:this.removeEventListener(n.type,n.listener,n.capture);++i?t.length=i:delete this.__on}}}function Ce(e,t,n){var r=we.hasOwnProperty(e.type)?_e:ke;return function(i,o,u){var a,l=this.__on,c=r(t,o,u);if(l)for(var s=0,f=l.length;s<f;++s)if((a=l[s]).type===e.type&&a.name===e.name)return this.removeEventListener(a.type,a.listener,a.capture),this.addEventListener(a.type,a.listener=c,a.capture=n),void(a.value=t);this.addEventListener(e.type,c,n),a={type:e.type,name:e.name,value:t,listener:c,capture:n},l?l.push(a):this.__on=[a]}}function Se(e,t,n){var r=$(e),i=r.CustomEvent;\"function\"===typeof i?i=new i(t,n):(i=r.document.createEvent(\"Event\"),n?(i.initEvent(t,n.bubbles,n.cancelable),i.detail=n.detail):i.initEvent(t,!1,!1)),e.dispatchEvent(i)}function Me(e,t){return function(){return Se(this,e,t)}}function Ne(e,t){return function(){return Se(this,e,t.apply(this,arguments))}}var Pe=[null];function Ae(e,t){this._groups=e,this._parents=t}function Re(){return new Ae([[document.documentElement]],Pe)}Ae.prototype=Re.prototype={constructor:Ae,select:function(e){\"function\"!==typeof e&&(e=E(e));for(var t=this._groups,n=t.length,r=new Array(n),i=0;i<n;++i)for(var o,u,a=t[i],l=a.length,c=r[i]=new Array(l),s=0;s<l;++s)(o=a[s])&&(u=e.call(o,o.__data__,s,a))&&(\"__data__\"in o&&(u.__data__=o.__data__),c[s]=u);return new Ae(r,this._parents)},selectAll:function(e){\"function\"!==typeof e&&(e=S(e));for(var t=this._groups,n=t.length,r=[],i=[],o=0;o<n;++o)for(var u,a=t[o],l=a.length,c=0;c<l;++c)(u=a[c])&&(r.push(e.call(u,u.__data__,c,a)),i.push(u));return new Ae(r,i)},filter:function(e){\"function\"!==typeof e&&(e=M(e));for(var t=this._groups,n=t.length,r=new Array(n),i=0;i<n;++i)for(var o,u=t[i],a=u.length,l=r[i]=[],c=0;c<a;++c)(o=u[c])&&e.call(o,o.__data__,c,u)&&l.push(o);return new Ae(r,this._parents)},data:function(e,t){if(!e)return h=new Array(this.size()),s=-1,this.each((function(e){h[++s]=e})),h;var n,r=t?R:A,i=this._parents,o=this._groups;\"function\"!==typeof e&&(n=e,e=function(){return n});for(var u=o.length,a=new Array(u),l=new Array(u),c=new Array(u),s=0;s<u;++s){var f=i[s],d=o[s],p=d.length,h=e.call(f,f&&f.__data__,s,i),m=h.length,g=l[s]=new Array(m),v=a[s]=new Array(m);r(f,d,g,v,c[s]=new Array(p),h,t);for(var y,b,w=0,x=0;w<m;++w)if(y=g[w]){for(w>=x&&(x=w+1);!(b=v[x])&&++x<m;);y._next=b||null}}return(a=new Ae(a,i))._enter=l,a._exit=c,a},enter:function(){return new Ae(this._enter||this._groups.map(N),this._parents)},exit:function(){return new Ae(this._exit||this._groups.map(N),this._parents)},join:function(e,t,n){var r=this.enter(),i=this,o=this.exit();return r=\"function\"===typeof e?e(r):r.append(e+\"\"),null!=t&&(i=t(i)),null==n?o.remove():n(o),r&&i?r.merge(i).order():i},merge:function(e){for(var t=this._groups,n=e._groups,r=t.length,i=n.length,o=Math.min(r,i),u=new Array(r),a=0;a<o;++a)for(var l,c=t[a],s=n[a],f=c.length,d=u[a]=new Array(f),p=0;p<f;++p)(l=c[p]||s[p])&&(d[p]=l);for(;a<r;++a)u[a]=t[a];return new Ae(u,this._parents)},order:function(){for(var e=this._groups,t=-1,n=e.length;++t<n;)for(var r,i=e[t],o=i.length-1,u=i[o];--o>=0;)(r=i[o])&&(u&&4^r.compareDocumentPosition(u)&&u.parentNode.insertBefore(r,u),u=r);return this},sort:function(e){function t(t,n){return t&&n?e(t.__data__,n.__data__):!t-!n}e||(e=D);for(var n=this._groups,r=n.length,i=new Array(r),o=0;o<r;++o){for(var u,a=n[o],l=a.length,c=i[o]=new Array(l),s=0;s<l;++s)(u=a[s])&&(c[s]=u);c.sort(t)}return new Ae(i,this._parents).order()},call:function(){var e=arguments[0];return arguments[0]=this,e.apply(null,arguments),this},nodes:function(){var e=new Array(this.size()),t=-1;return this.each((function(){e[++t]=this})),e},node:function(){for(var e=this._groups,t=0,n=e.length;t<n;++t)for(var r=e[t],i=0,o=r.length;i<o;++i){var u=r[i];if(u)return u}return null},size:function(){var e=0;return this.each((function(){++e})),e},empty:function(){return!this.node()},each:function(e){for(var t=this._groups,n=0,r=t.length;n<r;++n)for(var i,o=t[n],u=0,a=o.length;u<a;++u)(i=o[u])&&e.call(i,i.__data__,u,o);return this},attr:function(e,t){var n=L(e);if(arguments.length<2){var r=this.node();return n.local?r.getAttributeNS(n.space,n.local):r.getAttribute(n)}return this.each((null==t?n.local?F:U:\"function\"===typeof t?n.local?V:H:n.local?j:I)(n,t))},style:function(e,t,n){return arguments.length>1?this.each((null==t?W:\"function\"===typeof t?q:Q)(e,t,null==n?\"\":n)):B(this.node(),e)},property:function(e,t){return arguments.length>1?this.each((null==t?Y:\"function\"===typeof t?K:X)(e,t)):this.node()[e]},classed:function(e,t){var n=Z(e+\"\");if(arguments.length<2){for(var r=J(this.node()),i=-1,o=n.length;++i<o;)if(!r.contains(n[i]))return!1;return!0}return this.each((\"function\"===typeof t?ie:t?ne:re)(n,t))},text:function(e){return arguments.length?this.each(null==e?oe:(\"function\"===typeof e?ae:ue)(e)):this.node().textContent},html:function(e){return arguments.length?this.each(null==e?le:(\"function\"===typeof e?se:ce)(e)):this.node().innerHTML},raise:function(){return this.each(fe)},lower:function(){return this.each(de)},append:function(e){var t=\"function\"===typeof e?e:me(e);return this.select((function(){return this.appendChild(t.apply(this,arguments))}))},insert:function(e,t){var n=\"function\"===typeof e?e:me(e),r=null==t?ge:\"function\"===typeof t?t:E(t);return this.select((function(){return this.insertBefore(n.apply(this,arguments),r.apply(this,arguments)||null)}))},remove:function(){return this.each(ve)},clone:function(e){return this.select(e?be:ye)},datum:function(e){return arguments.length?this.property(\"__data__\",e):this.node().__data__},on:function(e,t,n){var r,i,o=Te(e+\"\"),u=o.length;if(!(arguments.length<2)){for(a=t?Ce:Ee,null==n&&(n=!1),r=0;r<u;++r)this.each(a(o[r],t,n));return this}var a=this.node().__on;if(a)for(var l,c=0,s=a.length;c<s;++c)for(r=0,l=a[c];r<u;++r)if((i=o[r]).type===l.type&&i.name===l.name)return l.value},dispatch:function(e,t){return this.each((\"function\"===typeof t?Ne:Me)(e,t))}};var De=Re;var Oe=function(e,t,n){e.prototype=t.prototype=n,n.constructor=e};function ze(e,t){var n=Object.create(e.prototype);for(var r in t)n[r]=t[r];return n}function Le(){}var Ue=\"\\\\s*([+-]?\\\\d+)\\\\s*\",Fe=\"\\\\s*([+-]?\\\\d*\\\\.?\\\\d+(?:[eE][+-]?\\\\d+)?)\\\\s*\",Ie=\"\\\\s*([+-]?\\\\d*\\\\.?\\\\d+(?:[eE][+-]?\\\\d+)?)%\\\\s*\",je=/^#([0-9a-f]{3,8})$/,He=new RegExp(\"^rgb\\\\(\"+[Ue,Ue,Ue]+\"\\\\)$\"),Ve=new RegExp(\"^rgb\\\\(\"+[Ie,Ie,Ie]+\"\\\\)$\"),$e=new RegExp(\"^rgba\\\\(\"+[Ue,Ue,Ue,Fe]+\"\\\\)$\"),We=new RegExp(\"^rgba\\\\(\"+[Ie,Ie,Ie,Fe]+\"\\\\)$\"),Qe=new RegExp(\"^hsl\\\\(\"+[Fe,Ie,Ie]+\"\\\\)$\"),qe=new RegExp(\"^hsla\\\\(\"+[Fe,Ie,Ie,Fe]+\"\\\\)$\"),Be={aliceblue:15792383,antiquewhite:16444375,aqua:65535,aquamarine:8388564,azure:15794175,beige:16119260,bisque:16770244,black:0,blanchedalmond:16772045,blue:255,blueviolet:9055202,brown:10824234,burlywood:14596231,cadetblue:6266528,chartreuse:8388352,chocolate:13789470,coral:16744272,cornflowerblue:6591981,cornsilk:16775388,crimson:14423100,cyan:65535,darkblue:139,darkcyan:35723,darkgoldenrod:12092939,darkgray:11119017,darkgreen:25600,darkgrey:11119017,darkkhaki:12433259,darkmagenta:9109643,darkolivegreen:5597999,darkorange:16747520,darkorchid:10040012,darkred:9109504,darksalmon:15308410,darkseagreen:9419919,darkslateblue:4734347,darkslategray:3100495,darkslategrey:3100495,darkturquoise:52945,darkviolet:9699539,deeppink:16716947,deepskyblue:49151,dimgray:6908265,dimgrey:6908265,dodgerblue:2003199,firebrick:11674146,floralwhite:16775920,forestgreen:2263842,fuchsia:16711935,gainsboro:14474460,ghostwhite:16316671,gold:16766720,goldenrod:14329120,gray:8421504,green:32768,greenyellow:11403055,grey:8421504,honeydew:15794160,hotpink:16738740,indianred:13458524,indigo:4915330,ivory:16777200,khaki:15787660,lavender:15132410,lavenderblush:16773365,lawngreen:8190976,lemonchiffon:16775885,lightblue:11393254,lightcoral:15761536,lightcyan:14745599,lightgoldenrodyellow:16448210,lightgray:13882323,lightgreen:9498256,lightgrey:13882323,lightpink:16758465,lightsalmon:16752762,lightseagreen:2142890,lightskyblue:8900346,lightslategray:7833753,lightslategrey:7833753,lightsteelblue:11584734,lightyellow:16777184,lime:65280,limegreen:3329330,linen:16445670,magenta:16711935,maroon:8388608,mediumaquamarine:6737322,mediumblue:205,mediumorchid:12211667,mediumpurple:9662683,mediumseagreen:3978097,mediumslateblue:8087790,mediumspringgreen:64154,mediumturquoise:4772300,mediumvioletred:13047173,midnightblue:1644912,mintcream:16121850,mistyrose:16770273,moccasin:16770229,navajowhite:16768685,navy:128,oldlace:16643558,olive:8421376,olivedrab:7048739,orange:16753920,orangered:16729344,orchid:14315734,palegoldenrod:15657130,palegreen:10025880,paleturquoise:11529966,palevioletred:14381203,papayawhip:16773077,peachpuff:16767673,peru:13468991,pink:16761035,plum:14524637,powderblue:11591910,purple:8388736,rebeccapurple:6697881,red:16711680,rosybrown:12357519,royalblue:4286945,saddlebrown:9127187,salmon:16416882,sandybrown:16032864,seagreen:3050327,seashell:16774638,sienna:10506797,silver:12632256,skyblue:8900331,slateblue:6970061,slategray:7372944,slategrey:7372944,snow:16775930,springgreen:65407,steelblue:4620980,tan:13808780,teal:32896,thistle:14204888,tomato:16737095,turquoise:4251856,violet:15631086,wheat:16113331,white:16777215,whitesmoke:16119285,yellow:16776960,yellowgreen:10145074};function Ye(){return this.rgb().formatHex()}function Xe(){return this.rgb().formatRgb()}function Ke(e){var t,n;return e=(e+\"\").trim().toLowerCase(),(t=je.exec(e))?(n=t[1].length,t=parseInt(t[1],16),6===n?Ze(t):3===n?new tt(t>>8&15|t>>4&240,t>>4&15|240&t,(15&t)<<4|15&t,1):8===n?Je(t>>24&255,t>>16&255,t>>8&255,(255&t)/255):4===n?Je(t>>12&15|t>>8&240,t>>8&15|t>>4&240,t>>4&15|240&t,((15&t)<<4|15&t)/255):null):(t=He.exec(e))?new tt(t[1],t[2],t[3],1):(t=Ve.exec(e))?new tt(255*t[1]/100,255*t[2]/100,255*t[3]/100,1):(t=$e.exec(e))?Je(t[1],t[2],t[3],t[4]):(t=We.exec(e))?Je(255*t[1]/100,255*t[2]/100,255*t[3]/100,t[4]):(t=Qe.exec(e))?ot(t[1],t[2]/100,t[3]/100,1):(t=qe.exec(e))?ot(t[1],t[2]/100,t[3]/100,t[4]):Be.hasOwnProperty(e)?Ze(Be[e]):\"transparent\"===e?new tt(NaN,NaN,NaN,0):null}function Ze(e){return new tt(e>>16&255,e>>8&255,255&e,1)}function Je(e,t,n,r){return r<=0&&(e=t=n=NaN),new tt(e,t,n,r)}function Ge(e){return e instanceof Le||(e=Ke(e)),e?new tt((e=e.rgb()).r,e.g,e.b,e.opacity):new tt}function et(e,t,n,r){return 1===arguments.length?Ge(e):new tt(e,t,n,null==r?1:r)}function tt(e,t,n,r){this.r=+e,this.g=+t,this.b=+n,this.opacity=+r}function nt(){return\"#\"+it(this.r)+it(this.g)+it(this.b)}function rt(){var e=this.opacity;return(1===(e=isNaN(e)?1:Math.max(0,Math.min(1,e)))?\"rgb(\":\"rgba(\")+Math.max(0,Math.min(255,Math.round(this.r)||0))+\", \"+Math.max(0,Math.min(255,Math.round(this.g)||0))+\", \"+Math.max(0,Math.min(255,Math.round(this.b)||0))+(1===e?\")\":\", \"+e+\")\")}function it(e){return((e=Math.max(0,Math.min(255,Math.round(e)||0)))<16?\"0\":\"\")+e.toString(16)}function ot(e,t,n,r){return r<=0?e=t=n=NaN:n<=0||n>=1?e=t=NaN:t<=0&&(e=NaN),new at(e,t,n,r)}function ut(e){if(e instanceof at)return new at(e.h,e.s,e.l,e.opacity);if(e instanceof Le||(e=Ke(e)),!e)return new at;if(e instanceof at)return e;var t=(e=e.rgb()).r/255,n=e.g/255,r=e.b/255,i=Math.min(t,n,r),o=Math.max(t,n,r),u=NaN,a=o-i,l=(o+i)/2;return a?(u=t===o?(n-r)/a+6*(n<r):n===o?(r-t)/a+2:(t-n)/a+4,a/=l<.5?o+i:2-o-i,u*=60):a=l>0&&l<1?0:u,new at(u,a,l,e.opacity)}function at(e,t,n,r){this.h=+e,this.s=+t,this.l=+n,this.opacity=+r}function lt(e,t,n){return 255*(e<60?t+(n-t)*e/60:e<180?n:e<240?t+(n-t)*(240-e)/60:t)}function ct(e,t,n,r,i){var o=e*e,u=o*e;return((1-3*e+3*o-u)*t+(4-6*o+3*u)*n+(1+3*e+3*o-3*u)*r+u*i)/6}Oe(Le,Ke,{copy:function(e){return Object.assign(new this.constructor,this,e)},displayable:function(){return this.rgb().displayable()},hex:Ye,formatHex:Ye,formatHsl:function(){return ut(this).formatHsl()},formatRgb:Xe,toString:Xe}),Oe(tt,et,ze(Le,{brighter:function(e){return e=null==e?1/.7:Math.pow(1/.7,e),new tt(this.r*e,this.g*e,this.b*e,this.opacity)},darker:function(e){return e=null==e?.7:Math.pow(.7,e),new tt(this.r*e,this.g*e,this.b*e,this.opacity)},rgb:function(){return this},displayable:function(){return-.5<=this.r&&this.r<255.5&&-.5<=this.g&&this.g<255.5&&-.5<=this.b&&this.b<255.5&&0<=this.opacity&&this.opacity<=1},hex:nt,formatHex:nt,formatRgb:rt,toString:rt})),Oe(at,(function(e,t,n,r){return 1===arguments.length?ut(e):new at(e,t,n,null==r?1:r)}),ze(Le,{brighter:function(e){return e=null==e?1/.7:Math.pow(1/.7,e),new at(this.h,this.s,this.l*e,this.opacity)},darker:function(e){return e=null==e?.7:Math.pow(.7,e),new at(this.h,this.s,this.l*e,this.opacity)},rgb:function(){var e=this.h%360+360*(this.h<0),t=isNaN(e)||isNaN(this.s)?0:this.s,n=this.l,r=n+(n<.5?n:1-n)*t,i=2*n-r;return new tt(lt(e>=240?e-240:e+120,i,r),lt(e,i,r),lt(e<120?e+240:e-120,i,r),this.opacity)},displayable:function(){return(0<=this.s&&this.s<=1||isNaN(this.s))&&0<=this.l&&this.l<=1&&0<=this.opacity&&this.opacity<=1},formatHsl:function(){var e=this.opacity;return(1===(e=isNaN(e)?1:Math.max(0,Math.min(1,e)))?\"hsl(\":\"hsla(\")+(this.h||0)+\", \"+100*(this.s||0)+\"%, \"+100*(this.l||0)+\"%\"+(1===e?\")\":\", \"+e+\")\")}}));var st=function(e){return function(){return e}};function ft(e,t){return function(n){return e+n*t}}function dt(e){return 1===(e=+e)?pt:function(t,n){return n-t?function(e,t,n){return e=Math.pow(e,n),t=Math.pow(t,n)-e,n=1/n,function(r){return Math.pow(e+r*t,n)}}(t,n,e):st(isNaN(t)?n:t)}}function pt(e,t){var n=t-e;return n?ft(e,n):st(isNaN(e)?t:e)}var ht=function e(t){var n=dt(t);function r(e,t){var r=n((e=et(e)).r,(t=et(t)).r),i=n(e.g,t.g),o=n(e.b,t.b),u=pt(e.opacity,t.opacity);return function(t){return e.r=r(t),e.g=i(t),e.b=o(t),e.opacity=u(t),e+\"\"}}return r.gamma=e,r}(1);function mt(e){return function(t){var n,r,i=t.length,o=new Array(i),u=new Array(i),a=new Array(i);for(n=0;n<i;++n)r=et(t[n]),o[n]=r.r||0,u[n]=r.g||0,a[n]=r.b||0;return o=e(o),u=e(u),a=e(a),r.opacity=1,function(e){return r.r=o(e),r.g=u(e),r.b=a(e),r+\"\"}}}mt((function(e){var t=e.length-1;return function(n){var r=n<=0?n=0:n>=1?(n=1,t-1):Math.floor(n*t),i=e[r],o=e[r+1],u=r>0?e[r-1]:2*i-o,a=r<t-1?e[r+2]:2*o-i;return ct((n-r/t)*t,u,i,o,a)}})),mt((function(e){var t=e.length;return function(n){var r=Math.floor(((n%=1)<0?++n:n)*t),i=e[(r+t-1)%t],o=e[r%t],u=e[(r+1)%t],a=e[(r+2)%t];return ct((n-r/t)*t,i,o,u,a)}}));var gt=function(e,t){t||(t=[]);var n,r=e?Math.min(t.length,e.length):0,i=t.slice();return function(o){for(n=0;n<r;++n)i[n]=e[n]*(1-o)+t[n]*o;return i}};function vt(e){return ArrayBuffer.isView(e)&&!(e instanceof DataView)}function yt(e,t){var n,r=t?t.length:0,i=e?Math.min(r,e.length):0,o=new Array(i),u=new Array(r);for(n=0;n<i;++n)o[n]=St(e[n],t[n]);for(;n<r;++n)u[n]=t[n];return function(e){for(n=0;n<i;++n)u[n]=o[n](e);return u}}var bt=function(e,t){var n=new Date;return e=+e,t=+t,function(r){return n.setTime(e*(1-r)+t*r),n}},wt=function(e,t){return e=+e,t=+t,function(n){return e*(1-n)+t*n}},xt=function(e,t){var n,r={},i={};for(n in null!==e&&\"object\"===typeof e||(e={}),null!==t&&\"object\"===typeof t||(t={}),t)n in e?r[n]=St(e[n],t[n]):i[n]=t[n];return function(e){for(n in r)i[n]=r[n](e);return i}},_t=/[-+]?(?:\\d+\\.?\\d*|\\.?\\d+)(?:[eE][-+]?\\d+)?/g,kt=new RegExp(_t.source,\"g\");var Tt,Et,Ct=function(e,t){var n,r,i,o=_t.lastIndex=kt.lastIndex=0,u=-1,a=[],l=[];for(e+=\"\",t+=\"\";(n=_t.exec(e))&&(r=kt.exec(t));)(i=r.index)>o&&(i=t.slice(o,i),a[u]?a[u]+=i:a[++u]=i),(n=n[0])===(r=r[0])?a[u]?a[u]+=r:a[++u]=r:(a[++u]=null,l.push({i:u,x:wt(n,r)})),o=kt.lastIndex;return o<t.length&&(i=t.slice(o),a[u]?a[u]+=i:a[++u]=i),a.length<2?l[0]?function(e){return function(t){return e(t)+\"\"}}(l[0].x):function(e){return function(){return e}}(t):(t=l.length,function(e){for(var n,r=0;r<t;++r)a[(n=l[r]).i]=n.x(e);return a.join(\"\")})},St=function(e,t){var n,r=typeof t;return null==t||\"boolean\"===r?st(t):(\"number\"===r?wt:\"string\"===r?(n=Ke(t))?(t=n,ht):Ct:t instanceof Ke?ht:t instanceof Date?bt:vt(t)?gt:Array.isArray(t)?yt:\"function\"!==typeof t.valueOf&&\"function\"!==typeof t.toString||isNaN(t)?xt:wt)(e,t)},Mt=0,Nt=0,Pt=0,At=0,Rt=0,Dt=0,Ot=\"object\"===typeof performance&&performance.now?performance:Date,zt=\"object\"===typeof window&&window.requestAnimationFrame?window.requestAnimationFrame.bind(window):function(e){setTimeout(e,17)};function Lt(){return Rt||(zt(Ut),Rt=Ot.now()+Dt)}function Ut(){Rt=0}function Ft(){this._call=this._time=this._next=null}function It(e,t,n){var r=new Ft;return r.restart(e,t,n),r}function jt(){Rt=(At=Ot.now())+Dt,Mt=Nt=0;try{!function(){Lt(),++Mt;for(var e,t=Tt;t;)(e=Rt-t._time)>=0&&t._call.call(null,e),t=t._next;--Mt}()}finally{Mt=0,function(){var e,t,n=Tt,r=1/0;for(;n;)n._call?(r>n._time&&(r=n._time),e=n,n=n._next):(t=n._next,n._next=null,n=e?e._next=t:Tt=t);Et=e,Vt(r)}(),Rt=0}}function Ht(){var e=Ot.now(),t=e-At;t>1e3&&(Dt-=t,At=e)}function Vt(e){Mt||(Nt&&(Nt=clearTimeout(Nt)),e-Rt>24?(e<1/0&&(Nt=setTimeout(jt,e-Ot.now()-Dt)),Pt&&(Pt=clearInterval(Pt))):(Pt||(At=Ot.now(),Pt=setInterval(Ht,1e3)),Mt=1,zt(jt)))}Ft.prototype=It.prototype={constructor:Ft,restart:function(e,t,n){if(\"function\"!==typeof e)throw new TypeError(\"callback is not a function\");n=(null==n?Lt():+n)+(null==t?0:+t),this._next||Et===this||(Et?Et._next=this:Tt=this,Et=this),this._call=e,this._time=n,Vt()},stop:function(){this._call&&(this._call=null,this._time=1/0,Vt())}};var $t=function(e,t,n){var r=new Ft;return t=null==t?0:+t,r.restart((function(n){r.stop(),e(n+t)}),t,n),r},Wt=k(\"start\",\"end\",\"cancel\",\"interrupt\"),Qt=[],qt=function(e,t,n,r,i,o){var u=e.__transition;if(u){if(n in u)return}else e.__transition={};!function(e,t,n){var r,i=e.__transition;function o(l){var c,s,f,d;if(1!==n.state)return a();for(c in i)if((d=i[c]).name===n.name){if(3===d.state)return $t(o);4===d.state?(d.state=6,d.timer.stop(),d.on.call(\"interrupt\",e,e.__data__,d.index,d.group),delete i[c]):+c<t&&(d.state=6,d.timer.stop(),d.on.call(\"cancel\",e,e.__data__,d.index,d.group),delete i[c])}if($t((function(){3===n.state&&(n.state=4,n.timer.restart(u,n.delay,n.time),u(l))})),n.state=2,n.on.call(\"start\",e,e.__data__,n.index,n.group),2===n.state){for(n.state=3,r=new Array(f=n.tween.length),c=0,s=-1;c<f;++c)(d=n.tween[c].value.call(e,e.__data__,n.index,n.group))&&(r[++s]=d);r.length=s+1}}function u(t){for(var i=t<n.duration?n.ease.call(null,t/n.duration):(n.timer.restart(a),n.state=5,1),o=-1,u=r.length;++o<u;)r[o].call(e,i);5===n.state&&(n.on.call(\"end\",e,e.__data__,n.index,n.group),a())}function a(){for(var r in n.state=6,n.timer.stop(),delete i[t],i)return;delete e.__transition}i[t]=n,n.timer=It((function(e){n.state=1,n.timer.restart(o,n.delay,n.time),n.delay<=e&&o(e-n.delay)}),0,n.time)}(e,n,{name:t,index:r,group:i,on:Wt,tween:Qt,time:o.time,delay:o.delay,duration:o.duration,ease:o.ease,timer:null,state:0})};function Bt(e,t){var n=Xt(e,t);if(n.state>0)throw new Error(\"too late; already scheduled\");return n}function Yt(e,t){var n=Xt(e,t);if(n.state>3)throw new Error(\"too late; already running\");return n}function Xt(e,t){var n=e.__transition;if(!n||!(n=n[t]))throw new Error(\"transition not found\");return n}var Kt,Zt,Jt,Gt,en=function(e,t){var n,r,i,o=e.__transition,u=!0;if(o){for(i in t=null==t?null:t+\"\",o)(n=o[i]).name===t?(r=n.state>2&&n.state<5,n.state=6,n.timer.stop(),n.on.call(r?\"interrupt\":\"cancel\",e,e.__data__,n.index,n.group),delete o[i]):u=!1;u&&delete e.__transition}},tn=180/Math.PI,nn={translateX:0,translateY:0,rotate:0,skewX:0,scaleX:1,scaleY:1},rn=function(e,t,n,r,i,o){var u,a,l;return(u=Math.sqrt(e*e+t*t))&&(e/=u,t/=u),(l=e*n+t*r)&&(n-=e*l,r-=t*l),(a=Math.sqrt(n*n+r*r))&&(n/=a,r/=a,l/=a),e*r<t*n&&(e=-e,t=-t,l=-l,u=-u),{translateX:i,translateY:o,rotate:Math.atan2(t,e)*tn,skewX:Math.atan(l)*tn,scaleX:u,scaleY:a}};function on(e,t,n,r){function i(e){return e.length?e.pop()+\" \":\"\"}return function(o,u){var a=[],l=[];return o=e(o),u=e(u),function(e,r,i,o,u,a){if(e!==i||r!==o){var l=u.push(\"translate(\",null,t,null,n);a.push({i:l-4,x:wt(e,i)},{i:l-2,x:wt(r,o)})}else(i||o)&&u.push(\"translate(\"+i+t+o+n)}(o.translateX,o.translateY,u.translateX,u.translateY,a,l),function(e,t,n,o){e!==t?(e-t>180?t+=360:t-e>180&&(e+=360),o.push({i:n.push(i(n)+\"rotate(\",null,r)-2,x:wt(e,t)})):t&&n.push(i(n)+\"rotate(\"+t+r)}(o.rotate,u.rotate,a,l),function(e,t,n,o){e!==t?o.push({i:n.push(i(n)+\"skewX(\",null,r)-2,x:wt(e,t)}):t&&n.push(i(n)+\"skewX(\"+t+r)}(o.skewX,u.skewX,a,l),function(e,t,n,r,o,u){if(e!==n||t!==r){var a=o.push(i(o)+\"scale(\",null,\",\",null,\")\");u.push({i:a-4,x:wt(e,n)},{i:a-2,x:wt(t,r)})}else 1===n&&1===r||o.push(i(o)+\"scale(\"+n+\",\"+r+\")\")}(o.scaleX,o.scaleY,u.scaleX,u.scaleY,a,l),o=u=null,function(e){for(var t,n=-1,r=l.length;++n<r;)a[(t=l[n]).i]=t.x(e);return a.join(\"\")}}}var un=on((function(e){return\"none\"===e?nn:(Kt||(Kt=document.createElement(\"DIV\"),Zt=document.documentElement,Jt=document.defaultView),Kt.style.transform=e,e=Jt.getComputedStyle(Zt.appendChild(Kt),null).getPropertyValue(\"transform\"),Zt.removeChild(Kt),e=e.slice(7,-1).split(\",\"),rn(+e[0],+e[1],+e[2],+e[3],+e[4],+e[5]))}),\"px, \",\"px)\",\"deg)\"),an=on((function(e){return null==e?nn:(Gt||(Gt=document.createElementNS(\"http://www.w3.org/2000/svg\",\"g\")),Gt.setAttribute(\"transform\",e),(e=Gt.transform.baseVal.consolidate())?(e=e.matrix,rn(e.a,e.b,e.c,e.d,e.e,e.f)):nn)}),\", \",\")\",\")\");function ln(e,t){var n,r;return function(){var i=Yt(this,e),o=i.tween;if(o!==n)for(var u=0,a=(r=n=o).length;u<a;++u)if(r[u].name===t){(r=r.slice()).splice(u,1);break}i.tween=r}}function cn(e,t,n){var r,i;if(\"function\"!==typeof n)throw new Error;return function(){var o=Yt(this,e),u=o.tween;if(u!==r){i=(r=u).slice();for(var a={name:t,value:n},l=0,c=i.length;l<c;++l)if(i[l].name===t){i[l]=a;break}l===c&&i.push(a)}o.tween=i}}function sn(e,t,n){var r=e._id;return e.each((function(){var e=Yt(this,r);(e.value||(e.value={}))[t]=n.apply(this,arguments)})),function(e){return Xt(e,r).value[t]}}var fn=function(e,t){var n;return(\"number\"===typeof t?wt:t instanceof Ke?ht:(n=Ke(t))?(t=n,ht):Ct)(e,t)};function dn(e){return function(){this.removeAttribute(e)}}function pn(e){return function(){this.removeAttributeNS(e.space,e.local)}}function hn(e,t,n){var r,i,o=n+\"\";return function(){var u=this.getAttribute(e);return u===o?null:u===r?i:i=t(r=u,n)}}function mn(e,t,n){var r,i,o=n+\"\";return function(){var u=this.getAttributeNS(e.space,e.local);return u===o?null:u===r?i:i=t(r=u,n)}}function gn(e,t,n){var r,i,o;return function(){var u,a,l=n(this);if(null!=l)return(u=this.getAttribute(e))===(a=l+\"\")?null:u===r&&a===i?o:(i=a,o=t(r=u,l));this.removeAttribute(e)}}function vn(e,t,n){var r,i,o;return function(){var u,a,l=n(this);if(null!=l)return(u=this.getAttributeNS(e.space,e.local))===(a=l+\"\")?null:u===r&&a===i?o:(i=a,o=t(r=u,l));this.removeAttributeNS(e.space,e.local)}}function yn(e,t){return function(n){this.setAttribute(e,t.call(this,n))}}function bn(e,t){return function(n){this.setAttributeNS(e.space,e.local,t.call(this,n))}}function wn(e,t){var n,r;function i(){var i=t.apply(this,arguments);return i!==r&&(n=(r=i)&&bn(e,i)),n}return i._value=t,i}function xn(e,t){var n,r;function i(){var i=t.apply(this,arguments);return i!==r&&(n=(r=i)&&yn(e,i)),n}return i._value=t,i}function _n(e,t){return function(){Bt(this,e).delay=+t.apply(this,arguments)}}function kn(e,t){return t=+t,function(){Bt(this,e).delay=t}}function Tn(e,t){return function(){Yt(this,e).duration=+t.apply(this,arguments)}}function En(e,t){return t=+t,function(){Yt(this,e).duration=t}}function Cn(e,t){if(\"function\"!==typeof t)throw new Error;return function(){Yt(this,e).ease=t}}function Sn(e,t,n){var r,i,o=function(e){return(e+\"\").trim().split(/^|\\s+/).every((function(e){var t=e.indexOf(\".\");return t>=0&&(e=e.slice(0,t)),!e||\"start\"===e}))}(t)?Bt:Yt;return function(){var u=o(this,e),a=u.on;a!==r&&(i=(r=a).copy()).on(t,n),u.on=i}}var Mn=De.prototype.constructor;function Nn(e){return function(){this.style.removeProperty(e)}}function Pn(e,t,n){return function(r){this.style.setProperty(e,t.call(this,r),n)}}function An(e,t,n){var r,i;function o(){var o=t.apply(this,arguments);return o!==i&&(r=(i=o)&&Pn(e,o,n)),r}return o._value=t,o}function Rn(e){return function(t){this.textContent=e.call(this,t)}}function Dn(e){var t,n;function r(){var r=e.apply(this,arguments);return r!==n&&(t=(n=r)&&Rn(r)),t}return r._value=e,r}var On=0;function zn(e,t,n,r){this._groups=e,this._parents=t,this._name=n,this._id=r}function Ln(){return++On}var Un=De.prototype;zn.prototype=function(e){return De().transition(e)}.prototype={constructor:zn,select:function(e){var t=this._name,n=this._id;\"function\"!==typeof e&&(e=E(e));for(var r=this._groups,i=r.length,o=new Array(i),u=0;u<i;++u)for(var a,l,c=r[u],s=c.length,f=o[u]=new Array(s),d=0;d<s;++d)(a=c[d])&&(l=e.call(a,a.__data__,d,c))&&(\"__data__\"in a&&(l.__data__=a.__data__),f[d]=l,qt(f[d],t,n,d,f,Xt(a,n)));return new zn(o,this._parents,t,n)},selectAll:function(e){var t=this._name,n=this._id;\"function\"!==typeof e&&(e=S(e));for(var r=this._groups,i=r.length,o=[],u=[],a=0;a<i;++a)for(var l,c=r[a],s=c.length,f=0;f<s;++f)if(l=c[f]){for(var d,p=e.call(l,l.__data__,f,c),h=Xt(l,n),m=0,g=p.length;m<g;++m)(d=p[m])&&qt(d,t,n,m,p,h);o.push(p),u.push(l)}return new zn(o,u,t,n)},filter:function(e){\"function\"!==typeof e&&(e=M(e));for(var t=this._groups,n=t.length,r=new Array(n),i=0;i<n;++i)for(var o,u=t[i],a=u.length,l=r[i]=[],c=0;c<a;++c)(o=u[c])&&e.call(o,o.__data__,c,u)&&l.push(o);return new zn(r,this._parents,this._name,this._id)},merge:function(e){if(e._id!==this._id)throw new Error;for(var t=this._groups,n=e._groups,r=t.length,i=n.length,o=Math.min(r,i),u=new Array(r),a=0;a<o;++a)for(var l,c=t[a],s=n[a],f=c.length,d=u[a]=new Array(f),p=0;p<f;++p)(l=c[p]||s[p])&&(d[p]=l);for(;a<r;++a)u[a]=t[a];return new zn(u,this._parents,this._name,this._id)},selection:function(){return new Mn(this._groups,this._parents)},transition:function(){for(var e=this._name,t=this._id,n=Ln(),r=this._groups,i=r.length,o=0;o<i;++o)for(var u,a=r[o],l=a.length,c=0;c<l;++c)if(u=a[c]){var s=Xt(u,t);qt(u,e,n,c,a,{time:s.time+s.delay+s.duration,delay:0,duration:s.duration,ease:s.ease})}return new zn(r,this._parents,e,n)},call:Un.call,nodes:Un.nodes,node:Un.node,size:Un.size,empty:Un.empty,each:Un.each,on:function(e,t){var n=this._id;return arguments.length<2?Xt(this.node(),n).on.on(e):this.each(Sn(n,e,t))},attr:function(e,t){var n=L(e),r=\"transform\"===n?an:fn;return this.attrTween(e,\"function\"===typeof t?(n.local?vn:gn)(n,r,sn(this,\"attr.\"+e,t)):null==t?(n.local?pn:dn)(n):(n.local?mn:hn)(n,r,t))},attrTween:function(e,t){var n=\"attr.\"+e;if(arguments.length<2)return(n=this.tween(n))&&n._value;if(null==t)return this.tween(n,null);if(\"function\"!==typeof t)throw new Error;var r=L(e);return this.tween(n,(r.local?wn:xn)(r,t))},style:function(e,t,n){var r=\"transform\"===(e+=\"\")?un:fn;return null==t?this.styleTween(e,function(e,t){var n,r,i;return function(){var o=B(this,e),u=(this.style.removeProperty(e),B(this,e));return o===u?null:o===n&&u===r?i:i=t(n=o,r=u)}}(e,r)).on(\"end.style.\"+e,Nn(e)):\"function\"===typeof t?this.styleTween(e,function(e,t,n){var r,i,o;return function(){var u=B(this,e),a=n(this),l=a+\"\";return null==a&&(this.style.removeProperty(e),l=a=B(this,e)),u===l?null:u===r&&l===i?o:(i=l,o=t(r=u,a))}}(e,r,sn(this,\"style.\"+e,t))).each(function(e,t){var n,r,i,o,u=\"style.\"+t,a=\"end.\"+u;return function(){var l=Yt(this,e),c=l.on,s=null==l.value[u]?o||(o=Nn(t)):void 0;c===n&&i===s||(r=(n=c).copy()).on(a,i=s),l.on=r}}(this._id,e)):this.styleTween(e,function(e,t,n){var r,i,o=n+\"\";return function(){var u=B(this,e);return u===o?null:u===r?i:i=t(r=u,n)}}(e,r,t),n).on(\"end.style.\"+e,null)},styleTween:function(e,t,n){var r=\"style.\"+(e+=\"\");if(arguments.length<2)return(r=this.tween(r))&&r._value;if(null==t)return this.tween(r,null);if(\"function\"!==typeof t)throw new Error;return this.tween(r,An(e,t,null==n?\"\":n))},text:function(e){return this.tween(\"text\",\"function\"===typeof e?function(e){return function(){var t=e(this);this.textContent=null==t?\"\":t}}(sn(this,\"text\",e)):function(e){return function(){this.textContent=e}}(null==e?\"\":e+\"\"))},textTween:function(e){var t=\"text\";if(arguments.length<1)return(t=this.tween(t))&&t._value;if(null==e)return this.tween(t,null);if(\"function\"!==typeof e)throw new Error;return this.tween(t,Dn(e))},remove:function(){return this.on(\"end.remove\",(e=this._id,function(){var t=this.parentNode;for(var n in this.__transition)if(+n!==e)return;t&&t.removeChild(this)}));var e},tween:function(e,t){var n=this._id;if(e+=\"\",arguments.length<2){for(var r,i=Xt(this.node(),n).tween,o=0,u=i.length;o<u;++o)if((r=i[o]).name===e)return r.value;return null}return this.each((null==t?ln:cn)(n,e,t))},delay:function(e){var t=this._id;return arguments.length?this.each((\"function\"===typeof e?_n:kn)(t,e)):Xt(this.node(),t).delay},duration:function(e){var t=this._id;return arguments.length?this.each((\"function\"===typeof e?Tn:En)(t,e)):Xt(this.node(),t).duration},ease:function(e){var t=this._id;return arguments.length?this.each(Cn(t,e)):Xt(this.node(),t).ease},end:function(){var e,t,n=this,r=n._id,i=n.size();return new Promise((function(o,u){var a={value:u},l={value:function(){0===--i&&o()}};n.each((function(){var n=Yt(this,r),i=n.on;i!==e&&((t=(e=i).copy())._.cancel.push(a),t._.interrupt.push(a),t._.end.push(l)),n.on=t}))}))}};var Fn={time:null,delay:0,duration:250,ease:function(e){return((e*=2)<=1?e*e*e:(e-=2)*e*e+2)/2}};function In(e,t){for(var n;!(n=e.__transition)||!(n=n[t]);)if(!(e=e.parentNode))return Fn.time=Lt(),Fn;return n}De.prototype.interrupt=function(e){return this.each((function(){en(this,e)}))},De.prototype.transition=function(e){var t,n;e instanceof zn?(t=e._id,e=e._name):(t=Ln(),(n=Fn).time=Lt(),e=null==e?null:e+\"\");for(var r=this._groups,i=r.length,o=0;o<i;++o)for(var u,a=r[o],l=a.length,c=0;c<l;++c)(u=a[c])&&qt(u,e,t,c,a,n||In(u,t));return new zn(r,this._parents,e,t)};function jn(e){return[+e[0],+e[1]]}function Hn(e){return[jn(e[0]),jn(e[1])]}[\"w\",\"e\"].map(Vn),[\"n\",\"s\"].map(Vn),[\"n\",\"w\",\"e\",\"s\",\"nw\",\"ne\",\"sw\",\"se\"].map(Vn);function Vn(e){return{type:e}}Math.cos,Math.sin,Math.PI,Math.max;Array.prototype.slice;var $n=Math.PI,Wn=2*$n,Qn=Wn-1e-6;function qn(){this._x0=this._y0=this._x1=this._y1=null,this._=\"\"}function Bn(){return new qn}qn.prototype=Bn.prototype={constructor:qn,moveTo:function(e,t){this._+=\"M\"+(this._x0=this._x1=+e)+\",\"+(this._y0=this._y1=+t)},closePath:function(){null!==this._x1&&(this._x1=this._x0,this._y1=this._y0,this._+=\"Z\")},lineTo:function(e,t){this._+=\"L\"+(this._x1=+e)+\",\"+(this._y1=+t)},quadraticCurveTo:function(e,t,n,r){this._+=\"Q\"+ +e+\",\"+ +t+\",\"+(this._x1=+n)+\",\"+(this._y1=+r)},bezierCurveTo:function(e,t,n,r,i,o){this._+=\"C\"+ +e+\",\"+ +t+\",\"+ +n+\",\"+ +r+\",\"+(this._x1=+i)+\",\"+(this._y1=+o)},arcTo:function(e,t,n,r,i){e=+e,t=+t,n=+n,r=+r,i=+i;var o=this._x1,u=this._y1,a=n-e,l=r-t,c=o-e,s=u-t,f=c*c+s*s;if(i<0)throw new Error(\"negative radius: \"+i);if(null===this._x1)this._+=\"M\"+(this._x1=e)+\",\"+(this._y1=t);else if(f>1e-6)if(Math.abs(s*a-l*c)>1e-6&&i){var d=n-o,p=r-u,h=a*a+l*l,m=d*d+p*p,g=Math.sqrt(h),v=Math.sqrt(f),y=i*Math.tan(($n-Math.acos((h+f-m)/(2*g*v)))/2),b=y/v,w=y/g;Math.abs(b-1)>1e-6&&(this._+=\"L\"+(e+b*c)+\",\"+(t+b*s)),this._+=\"A\"+i+\",\"+i+\",0,0,\"+ +(s*d>c*p)+\",\"+(this._x1=e+w*a)+\",\"+(this._y1=t+w*l)}else this._+=\"L\"+(this._x1=e)+\",\"+(this._y1=t);else;},arc:function(e,t,n,r,i,o){e=+e,t=+t,o=!!o;var u=(n=+n)*Math.cos(r),a=n*Math.sin(r),l=e+u,c=t+a,s=1^o,f=o?r-i:i-r;if(n<0)throw new Error(\"negative radius: \"+n);null===this._x1?this._+=\"M\"+l+\",\"+c:(Math.abs(this._x1-l)>1e-6||Math.abs(this._y1-c)>1e-6)&&(this._+=\"L\"+l+\",\"+c),n&&(f<0&&(f=f%Wn+Wn),f>Qn?this._+=\"A\"+n+\",\"+n+\",0,1,\"+s+\",\"+(e-u)+\",\"+(t-a)+\"A\"+n+\",\"+n+\",0,1,\"+s+\",\"+(this._x1=l)+\",\"+(this._y1=c):f>1e-6&&(this._+=\"A\"+n+\",\"+n+\",0,\"+ +(f>=$n)+\",\"+s+\",\"+(this._x1=e+n*Math.cos(i))+\",\"+(this._y1=t+n*Math.sin(i))))},rect:function(e,t,n,r){this._+=\"M\"+(this._x0=this._x1=+e)+\",\"+(this._y0=this._y1=+t)+\"h\"+ +n+\"v\"+ +r+\"h\"+-n+\"Z\"},toString:function(){return this._}};function Yn(){}function Xn(e,t){var n=new Yn;if(e instanceof Yn)e.each((function(e,t){n.set(t,e)}));else if(Array.isArray(e)){var r,i=-1,o=e.length;if(null==t)for(;++i<o;)n.set(i,e[i]);else for(;++i<o;)n.set(t(r=e[i],i,e),r)}else if(e)for(var u in e)n.set(u,e[u]);return n}Yn.prototype=Xn.prototype={constructor:Yn,has:function(e){return\"$\"+e in this},get:function(e){return this[\"$\"+e]},set:function(e,t){return this[\"$\"+e]=t,this},remove:function(e){var t=\"$\"+e;return t in this&&delete this[t]},clear:function(){for(var e in this)\"$\"===e[0]&&delete this[e]},keys:function(){var e=[];for(var t in this)\"$\"===t[0]&&e.push(t.slice(1));return e},values:function(){var e=[];for(var t in this)\"$\"===t[0]&&e.push(this[t]);return e},entries:function(){var e=[];for(var t in this)\"$\"===t[0]&&e.push({key:t.slice(1),value:this[t]});return e},size:function(){var e=0;for(var t in this)\"$\"===t[0]&&++e;return e},empty:function(){for(var e in this)if(\"$\"===e[0])return!1;return!0},each:function(e){for(var t in this)\"$\"===t[0]&&e(this[t],t.slice(1),this)}};var Kn=Xn,Zn=function(){var e,t,n,r=[],i=[];function o(n,i,u,a){if(i>=r.length)return null!=e&&n.sort(e),null!=t?t(n):n;for(var l,c,s,f=-1,d=n.length,p=r[i++],h=Kn(),m=u();++f<d;)(s=h.get(l=p(c=n[f])+\"\"))?s.push(c):h.set(l,[c]);return h.each((function(e,t){a(m,t,o(e,i,u,a))})),m}return n={object:function(e){return o(e,0,Jn,Gn)},map:function(e){return o(e,0,er,tr)},entries:function(e){return function e(n,o){if(++o>r.length)return n;var u,a=i[o-1];return null!=t&&o>=r.length?u=n.entries():(u=[],n.each((function(t,n){u.push({key:n,values:e(t,o)})}))),null!=a?u.sort((function(e,t){return a(e.key,t.key)})):u}(o(e,0,er,tr),0)},key:function(e){return r.push(e),n},sortKeys:function(e){return i[r.length-1]=e,n},sortValues:function(t){return e=t,n},rollup:function(e){return t=e,n}}};function Jn(){return{}}function Gn(e,t,n){e[t]=n}function er(){return Kn()}function tr(e,t,n){e.set(t,n)}function nr(){}var rr=Kn.prototype;function ir(e,t){var n=new nr;if(e instanceof nr)e.each((function(e){n.add(e)}));else if(e){var r=-1,i=e.length;if(null==t)for(;++r<i;)n.add(e[r]);else for(;++r<i;)n.add(t(e[r],r,e))}return n}nr.prototype=ir.prototype={constructor:nr,has:rr.has,add:function(e){return this[\"$\"+(e+=\"\")]=e,this},remove:rr.remove,clear:rr.clear,values:rr.keys,size:rr.size,empty:rr.empty,each:rr.each};Array.prototype.slice;var or={},ur={};function ar(e){return new Function(\"d\",\"return {\"+e.map((function(e,t){return JSON.stringify(e)+\": d[\"+t+'] || \"\"'})).join(\",\")+\"}\")}function lr(e){var t=Object.create(null),n=[];return e.forEach((function(e){for(var r in e)r in t||n.push(t[r]=r)})),n}function cr(e,t){var n=e+\"\",r=n.length;return r<t?new Array(t-r+1).join(0)+n:n}function sr(e){var t,n=e.getUTCHours(),r=e.getUTCMinutes(),i=e.getUTCSeconds(),o=e.getUTCMilliseconds();return isNaN(e)?\"Invalid Date\":((t=e.getUTCFullYear())<0?\"-\"+cr(-t,6):t>9999?\"+\"+cr(t,6):cr(t,4))+\"-\"+cr(e.getUTCMonth()+1,2)+\"-\"+cr(e.getUTCDate(),2)+(o?\"T\"+cr(n,2)+\":\"+cr(r,2)+\":\"+cr(i,2)+\".\"+cr(o,3)+\"Z\":i?\"T\"+cr(n,2)+\":\"+cr(r,2)+\":\"+cr(i,2)+\"Z\":r||n?\"T\"+cr(n,2)+\":\"+cr(r,2)+\"Z\":\"\")}var fr=function(e){var t=new RegExp('[\"'+e+\"\\n\\r]\"),n=e.charCodeAt(0);function r(e,t){var r,i=[],o=e.length,u=0,a=0,l=o<=0,c=!1;function s(){if(l)return ur;if(c)return c=!1,or;var t,r,i=u;if(34===e.charCodeAt(i)){for(;u++<o&&34!==e.charCodeAt(u)||34===e.charCodeAt(++u););return(t=u)>=o?l=!0:10===(r=e.charCodeAt(u++))?c=!0:13===r&&(c=!0,10===e.charCodeAt(u)&&++u),e.slice(i+1,t-1).replace(/\"\"/g,'\"')}for(;u<o;){if(10===(r=e.charCodeAt(t=u++)))c=!0;else if(13===r)c=!0,10===e.charCodeAt(u)&&++u;else if(r!==n)continue;return e.slice(i,t)}return l=!0,e.slice(i,o)}for(10===e.charCodeAt(o-1)&&--o,13===e.charCodeAt(o-1)&&--o;(r=s())!==ur;){for(var f=[];r!==or&&r!==ur;)f.push(r),r=s();t&&null==(f=t(f,a++))||i.push(f)}return i}function i(t,n){return t.map((function(t){return n.map((function(e){return u(t[e])})).join(e)}))}function o(t){return t.map(u).join(e)}function u(e){return null==e?\"\":e instanceof Date?sr(e):t.test(e+=\"\")?'\"'+e.replace(/\"/g,'\"\"')+'\"':e}return{parse:function(e,t){var n,i,o=r(e,(function(e,r){if(n)return n(e,r-1);i=e,n=t?function(e,t){var n=ar(e);return function(r,i){return t(n(r),i,e)}}(e,t):ar(e)}));return o.columns=i||[],o},parseRows:r,format:function(t,n){return null==n&&(n=lr(t)),[n.map(u).join(e)].concat(i(t,n)).join(\"\\n\")},formatBody:function(e,t){return null==t&&(t=lr(e)),i(e,t).join(\"\\n\")},formatRows:function(e){return e.map(o).join(\"\\n\")},formatRow:o,formatValue:u}},dr=fr(\",\"),pr=dr.parse,hr=(dr.parseRows,dr.format,dr.formatBody,dr.formatRows,dr.formatRow,dr.formatValue,fr(\"\\t\")),mr=hr.parse;hr.parseRows,hr.format,hr.formatBody,hr.formatRows,hr.formatRow,hr.formatValue;function gr(e){if(!e.ok)throw new Error(e.status+\" \"+e.statusText);return e.text()}var vr=function(e,t){return fetch(e,t).then(gr)};function yr(e){return function(t,n,r){return 2===arguments.length&&\"function\"===typeof n&&(r=n,n=void 0),vr(t,n).then((function(t){return e(t,r)}))}}var br=yr(pr);yr(mr);function wr(e){return function(t,n){return vr(t,n).then((function(t){return(new DOMParser).parseFromString(t,e)}))}}wr(\"application/xml\"),wr(\"text/html\"),wr(\"image/svg+xml\");function xr(e,t,n,r){if(isNaN(t)||isNaN(n))return e;var i,o,u,a,l,c,s,f,d,p=e._root,h={data:r},m=e._x0,g=e._y0,v=e._x1,y=e._y1;if(!p)return e._root=h,e;for(;p.length;)if((c=t>=(o=(m+v)/2))?m=o:v=o,(s=n>=(u=(g+y)/2))?g=u:y=u,i=p,!(p=p[f=s<<1|c]))return i[f]=h,e;if(a=+e._x.call(null,p.data),l=+e._y.call(null,p.data),t===a&&n===l)return h.next=p,i?i[f]=h:e._root=h,e;do{i=i?i[f]=new Array(4):e._root=new Array(4),(c=t>=(o=(m+v)/2))?m=o:v=o,(s=n>=(u=(g+y)/2))?g=u:y=u}while((f=s<<1|c)===(d=(l>=u)<<1|a>=o));return i[d]=p,i[f]=h,e}var _r=function(e,t,n,r,i){this.node=e,this.x0=t,this.y0=n,this.x1=r,this.y1=i};function kr(e){return e[0]}function Tr(e){return e[1]}function Er(e,t,n){var r=new Cr(null==t?kr:t,null==n?Tr:n,NaN,NaN,NaN,NaN);return null==e?r:r.addAll(e)}function Cr(e,t,n,r,i,o){this._x=e,this._y=t,this._x0=n,this._y0=r,this._x1=i,this._y1=o,this._root=void 0}function Sr(e){for(var t={data:e.data},n=t;e=e.next;)n=n.next={data:e.data};return t}var Mr=Er.prototype=Cr.prototype;Mr.copy=function(){var e,t,n=new Cr(this._x,this._y,this._x0,this._y0,this._x1,this._y1),r=this._root;if(!r)return n;if(!r.length)return n._root=Sr(r),n;for(e=[{source:r,target:n._root=new Array(4)}];r=e.pop();)for(var i=0;i<4;++i)(t=r.source[i])&&(t.length?e.push({source:t,target:r.target[i]=new Array(4)}):r.target[i]=Sr(t));return n},Mr.add=function(e){var t=+this._x.call(null,e),n=+this._y.call(null,e);return xr(this.cover(t,n),t,n,e)},Mr.addAll=function(e){var t,n,r,i,o=e.length,u=new Array(o),a=new Array(o),l=1/0,c=1/0,s=-1/0,f=-1/0;for(n=0;n<o;++n)isNaN(r=+this._x.call(null,t=e[n]))||isNaN(i=+this._y.call(null,t))||(u[n]=r,a[n]=i,r<l&&(l=r),r>s&&(s=r),i<c&&(c=i),i>f&&(f=i));if(l>s||c>f)return this;for(this.cover(l,c).cover(s,f),n=0;n<o;++n)xr(this,u[n],a[n],e[n]);return this},Mr.cover=function(e,t){if(isNaN(e=+e)||isNaN(t=+t))return this;var n=this._x0,r=this._y0,i=this._x1,o=this._y1;if(isNaN(n))i=(n=Math.floor(e))+1,o=(r=Math.floor(t))+1;else{for(var u,a,l=i-n,c=this._root;n>e||e>=i||r>t||t>=o;)switch(a=(t<r)<<1|e<n,(u=new Array(4))[a]=c,c=u,l*=2,a){case 0:i=n+l,o=r+l;break;case 1:n=i-l,o=r+l;break;case 2:i=n+l,r=o-l;break;case 3:n=i-l,r=o-l}this._root&&this._root.length&&(this._root=c)}return this._x0=n,this._y0=r,this._x1=i,this._y1=o,this},Mr.data=function(){var e=[];return this.visit((function(t){if(!t.length)do{e.push(t.data)}while(t=t.next)})),e},Mr.extent=function(e){return arguments.length?this.cover(+e[0][0],+e[0][1]).cover(+e[1][0],+e[1][1]):isNaN(this._x0)?void 0:[[this._x0,this._y0],[this._x1,this._y1]]},Mr.find=function(e,t,n){var r,i,o,u,a,l,c,s=this._x0,f=this._y0,d=this._x1,p=this._y1,h=[],m=this._root;for(m&&h.push(new _r(m,s,f,d,p)),null==n?n=1/0:(s=e-n,f=t-n,d=e+n,p=t+n,n*=n);l=h.pop();)if(!(!(m=l.node)||(i=l.x0)>d||(o=l.y0)>p||(u=l.x1)<s||(a=l.y1)<f))if(m.length){var g=(i+u)/2,v=(o+a)/2;h.push(new _r(m[3],g,v,u,a),new _r(m[2],i,v,g,a),new _r(m[1],g,o,u,v),new _r(m[0],i,o,g,v)),(c=(t>=v)<<1|e>=g)&&(l=h[h.length-1],h[h.length-1]=h[h.length-1-c],h[h.length-1-c]=l)}else{var y=e-+this._x.call(null,m.data),b=t-+this._y.call(null,m.data),w=y*y+b*b;if(w<n){var x=Math.sqrt(n=w);s=e-x,f=t-x,d=e+x,p=t+x,r=m.data}}return r},Mr.remove=function(e){if(isNaN(o=+this._x.call(null,e))||isNaN(u=+this._y.call(null,e)))return this;var t,n,r,i,o,u,a,l,c,s,f,d,p=this._root,h=this._x0,m=this._y0,g=this._x1,v=this._y1;if(!p)return this;if(p.length)for(;;){if((c=o>=(a=(h+g)/2))?h=a:g=a,(s=u>=(l=(m+v)/2))?m=l:v=l,t=p,!(p=p[f=s<<1|c]))return this;if(!p.length)break;(t[f+1&3]||t[f+2&3]||t[f+3&3])&&(n=t,d=f)}for(;p.data!==e;)if(r=p,!(p=p.next))return this;return(i=p.next)&&delete p.next,r?(i?r.next=i:delete r.next,this):t?(i?t[f]=i:delete t[f],(p=t[0]||t[1]||t[2]||t[3])&&p===(t[3]||t[2]||t[1]||t[0])&&!p.length&&(n?n[d]=p:this._root=p),this):(this._root=i,this)},Mr.removeAll=function(e){for(var t=0,n=e.length;t<n;++t)this.remove(e[t]);return this},Mr.root=function(){return this._root},Mr.size=function(){var e=0;return this.visit((function(t){if(!t.length)do{++e}while(t=t.next)})),e},Mr.visit=function(e){var t,n,r,i,o,u,a=[],l=this._root;for(l&&a.push(new _r(l,this._x0,this._y0,this._x1,this._y1));t=a.pop();)if(!e(l=t.node,r=t.x0,i=t.y0,o=t.x1,u=t.y1)&&l.length){var c=(r+o)/2,s=(i+u)/2;(n=l[3])&&a.push(new _r(n,c,s,o,u)),(n=l[2])&&a.push(new _r(n,r,s,c,u)),(n=l[1])&&a.push(new _r(n,c,i,o,s)),(n=l[0])&&a.push(new _r(n,r,i,c,s))}return this},Mr.visitAfter=function(e){var t,n=[],r=[];for(this._root&&n.push(new _r(this._root,this._x0,this._y0,this._x1,this._y1));t=n.pop();){var i=t.node;if(i.length){var o,u=t.x0,a=t.y0,l=t.x1,c=t.y1,s=(u+l)/2,f=(a+c)/2;(o=i[0])&&n.push(new _r(o,u,a,s,f)),(o=i[1])&&n.push(new _r(o,s,a,l,f)),(o=i[2])&&n.push(new _r(o,u,f,s,c)),(o=i[3])&&n.push(new _r(o,s,f,l,c))}r.push(t)}for(;t=r.pop();)e(t.node,t.x0,t.y0,t.x1,t.y1);return this},Mr.x=function(e){return arguments.length?(this._x=e,this):this._x},Mr.y=function(e){return arguments.length?(this._y=e,this):this._y};Math.PI,Math.sqrt(5);var Nr=function(){return Math.random()},Pr=(function e(t){function n(e,n){return e=null==e?0:+e,n=null==n?1:+n,1===arguments.length?(n=e,e=0):n-=e,function(){return t()*n+e}}return n.source=e,n}(Nr),function e(t){function n(e,n){var r,i;return e=null==e?0:+e,n=null==n?1:+n,function(){var o;if(null!=r)o=r,r=null;else do{r=2*t()-1,o=2*t()-1,i=r*r+o*o}while(!i||i>1);return e+n*o*Math.sqrt(-2*Math.log(i)/i)}}return n.source=e,n}(Nr)),Ar=(function e(t){function n(){var e=Pr.source(t).apply(this,arguments);return function(){return Math.exp(e())}}return n.source=e,n}(Nr),function e(t){function n(e){return function(){for(var n=0,r=0;r<e;++r)n+=t();return n}}return n.source=e,n}(Nr));(function e(t){function n(e){var n=Ar.source(t)(e);return function(){return n()/e}}return n.source=e,n})(Nr),function e(t){function n(e){return function(){return-Math.log(1-t())/e}}return n.source=e,n}(Nr);function Rr(e,t){switch(arguments.length){case 0:break;case 1:this.range(e);break;default:this.range(t).domain(e)}return this}var Dr=Array.prototype,Or=Dr.map,zr=Dr.slice;var Lr=function(e,t){return e=+e,t=+t,function(n){return Math.round(e*(1-n)+t*n)}},Ur=function(e){return+e},Fr=[0,1];function Ir(e){return e}function jr(e,t){return(t-=e=+e)?function(n){return(n-e)/t}:(n=isNaN(t)?NaN:.5,function(){return n});var n}function Hr(e){var t,n=e[0],r=e[e.length-1];return n>r&&(t=n,n=r,r=t),function(e){return Math.max(n,Math.min(r,e))}}function Vr(e,t,n){var r=e[0],i=e[1],o=t[0],u=t[1];return i<r?(r=jr(i,r),o=n(u,o)):(r=jr(r,i),o=n(o,u)),function(e){return o(r(e))}}function $r(e,t,n){var r=Math.min(e.length,t.length)-1,i=new Array(r),o=new Array(r),u=-1;for(e[r]<e[0]&&(e=e.slice().reverse(),t=t.slice().reverse());++u<r;)i[u]=jr(e[u],e[u+1]),o[u]=n(t[u],t[u+1]);return function(t){var n=a(e,t,1,r)-1;return o[n](i[n](t))}}function Wr(e,t){return t.domain(e.domain()).range(e.range()).interpolate(e.interpolate()).clamp(e.clamp()).unknown(e.unknown())}function Qr(){var e,t,n,r,i,o,u=Fr,a=Fr,l=St,c=Ir;function s(){return r=Math.min(u.length,a.length)>2?$r:Vr,i=o=null,f}function f(t){return isNaN(t=+t)?n:(i||(i=r(u.map(e),a,l)))(e(c(t)))}return f.invert=function(n){return c(t((o||(o=r(a,u.map(e),wt)))(n)))},f.domain=function(e){return arguments.length?(u=Or.call(e,Ur),c===Ir||(c=Hr(u)),s()):u.slice()},f.range=function(e){return arguments.length?(a=zr.call(e),s()):a.slice()},f.rangeRound=function(e){return a=zr.call(e),l=Lr,s()},f.clamp=function(e){return arguments.length?(c=e?Hr(u):Ir,f):c!==Ir},f.interpolate=function(e){return arguments.length?(l=e,s()):l},f.unknown=function(e){return arguments.length?(n=e,f):n},function(n,r){return e=n,t=r,s()}}var qr=/^(?:(.)?([<>=^]))?([+\\-( ])?([$#])?(0)?(\\d+)?(,)?(\\.\\d+)?(~)?([a-z%])?$/i;function Br(e){if(!(t=qr.exec(e)))throw new Error(\"invalid format: \"+e);var t;return new Yr({fill:t[1],align:t[2],sign:t[3],symbol:t[4],zero:t[5],width:t[6],comma:t[7],precision:t[8]&&t[8].slice(1),trim:t[9],type:t[10]})}function Yr(e){this.fill=void 0===e.fill?\" \":e.fill+\"\",this.align=void 0===e.align?\">\":e.align+\"\",this.sign=void 0===e.sign?\"-\":e.sign+\"\",this.symbol=void 0===e.symbol?\"\":e.symbol+\"\",this.zero=!!e.zero,this.width=void 0===e.width?void 0:+e.width,this.comma=!!e.comma,this.precision=void 0===e.precision?void 0:+e.precision,this.trim=!!e.trim,this.type=void 0===e.type?\"\":e.type+\"\"}Br.prototype=Yr.prototype,Yr.prototype.toString=function(){return this.fill+this.align+this.sign+this.symbol+(this.zero?\"0\":\"\")+(void 0===this.width?\"\":Math.max(1,0|this.width))+(this.comma?\",\":\"\")+(void 0===this.precision?\"\":\".\"+Math.max(0,0|this.precision))+(this.trim?\"~\":\"\")+this.type};var Xr,Kr,Zr,Jr,Gr=function(e,t){if((n=(e=t?e.toExponential(t-1):e.toExponential()).indexOf(\"e\"))<0)return null;var n,r=e.slice(0,n);return[r.length>1?r[0]+r.slice(2):r,+e.slice(n+1)]},ei=function(e){return(e=Gr(Math.abs(e)))?e[1]:NaN},ti=function(e,t){var n=Gr(e,t);if(!n)return e+\"\";var r=n[0],i=n[1];return i<0?\"0.\"+new Array(-i).join(\"0\")+r:r.length>i+1?r.slice(0,i+1)+\".\"+r.slice(i+1):r+new Array(i-r.length+2).join(\"0\")},ni={\"%\":function(e,t){return(100*e).toFixed(t)},b:function(e){return Math.round(e).toString(2)},c:function(e){return e+\"\"},d:function(e){return Math.round(e).toString(10)},e:function(e,t){return e.toExponential(t)},f:function(e,t){return e.toFixed(t)},g:function(e,t){return e.toPrecision(t)},o:function(e){return Math.round(e).toString(8)},p:function(e,t){return ti(100*e,t)},r:ti,s:function(e,t){var n=Gr(e,t);if(!n)return e+\"\";var r=n[0],i=n[1],o=i-(Xr=3*Math.max(-8,Math.min(8,Math.floor(i/3))))+1,u=r.length;return o===u?r:o>u?r+new Array(o-u+1).join(\"0\"):o>0?r.slice(0,o)+\".\"+r.slice(o):\"0.\"+new Array(1-o).join(\"0\")+Gr(e,Math.max(0,t+o-1))[0]},X:function(e){return Math.round(e).toString(16).toUpperCase()},x:function(e){return Math.round(e).toString(16)}},ri=function(e){return e},ii=Array.prototype.map,oi=[\"y\",\"z\",\"a\",\"f\",\"p\",\"n\",\"\\xb5\",\"m\",\"\",\"k\",\"M\",\"G\",\"T\",\"P\",\"E\",\"Z\",\"Y\"];Kr=function(e){var t,n,r=void 0===e.grouping||void 0===e.thousands?ri:(t=ii.call(e.grouping,Number),n=e.thousands+\"\",function(e,r){for(var i=e.length,o=[],u=0,a=t[0],l=0;i>0&&a>0&&(l+a+1>r&&(a=Math.max(1,r-l)),o.push(e.substring(i-=a,i+a)),!((l+=a+1)>r));)a=t[u=(u+1)%t.length];return o.reverse().join(n)}),i=void 0===e.currency?\"\":e.currency[0]+\"\",o=void 0===e.currency?\"\":e.currency[1]+\"\",u=void 0===e.decimal?\".\":e.decimal+\"\",a=void 0===e.numerals?ri:function(e){return function(t){return t.replace(/[0-9]/g,(function(t){return e[+t]}))}}(ii.call(e.numerals,String)),l=void 0===e.percent?\"%\":e.percent+\"\",c=void 0===e.minus?\"-\":e.minus+\"\",s=void 0===e.nan?\"NaN\":e.nan+\"\";function f(e){var t=(e=Br(e)).fill,n=e.align,f=e.sign,d=e.symbol,p=e.zero,h=e.width,m=e.comma,g=e.precision,v=e.trim,y=e.type;\"n\"===y?(m=!0,y=\"g\"):ni[y]||(void 0===g&&(g=12),v=!0,y=\"g\"),(p||\"0\"===t&&\"=\"===n)&&(p=!0,t=\"0\",n=\"=\");var b=\"$\"===d?i:\"#\"===d&&/[boxX]/.test(y)?\"0\"+y.toLowerCase():\"\",w=\"$\"===d?o:/[%p]/.test(y)?l:\"\",x=ni[y],_=/[defgprs%]/.test(y);function k(e){var i,o,l,d=b,k=w;if(\"c\"===y)k=x(e)+k,e=\"\";else{var T=(e=+e)<0||1/e<0;if(e=isNaN(e)?s:x(Math.abs(e),g),v&&(e=function(e){e:for(var t,n=e.length,r=1,i=-1;r<n;++r)switch(e[r]){case\".\":i=t=r;break;case\"0\":0===i&&(i=r),t=r;break;default:if(!+e[r])break e;i>0&&(i=0)}return i>0?e.slice(0,i)+e.slice(t+1):e}(e)),T&&0===+e&&\"+\"!==f&&(T=!1),d=(T?\"(\"===f?f:c:\"-\"===f||\"(\"===f?\"\":f)+d,k=(\"s\"===y?oi[8+Xr/3]:\"\")+k+(T&&\"(\"===f?\")\":\"\"),_)for(i=-1,o=e.length;++i<o;)if(48>(l=e.charCodeAt(i))||l>57){k=(46===l?u+e.slice(i+1):e.slice(i))+k,e=e.slice(0,i);break}}m&&!p&&(e=r(e,1/0));var E=d.length+e.length+k.length,C=E<h?new Array(h-E+1).join(t):\"\";switch(m&&p&&(e=r(C+e,C.length?h-k.length:1/0),C=\"\"),n){case\"<\":e=d+e+k+C;break;case\"=\":e=d+C+e+k;break;case\"^\":e=C.slice(0,E=C.length>>1)+d+e+k+C.slice(E);break;default:e=C+d+e+k}return a(e)}return g=void 0===g?6:/[gprs]/.test(y)?Math.max(1,Math.min(21,g)):Math.max(0,Math.min(20,g)),k.toString=function(){return e+\"\"},k}return{format:f,formatPrefix:function(e,t){var n=f(((e=Br(e)).type=\"f\",e)),r=3*Math.max(-8,Math.min(8,Math.floor(ei(t)/3))),i=Math.pow(10,-r),o=oi[8+r/3];return function(e){return n(i*e)+o}}}}({decimal:\".\",thousands:\",\",grouping:[3],currency:[\"$\",\"\"],minus:\"-\"}),Zr=Kr.format,Jr=Kr.formatPrefix;var ui=function(e,t,n,r){var i,o=h(e,t,n);switch((r=Br(null==r?\",f\":r)).type){case\"s\":var u=Math.max(Math.abs(e),Math.abs(t));return null!=r.precision||isNaN(i=function(e,t){return Math.max(0,3*Math.max(-8,Math.min(8,Math.floor(ei(t)/3)))-ei(Math.abs(e)))}(o,u))||(r.precision=i),Jr(r,u);case\"\":case\"e\":case\"g\":case\"p\":case\"r\":null!=r.precision||isNaN(i=function(e,t){return e=Math.abs(e),t=Math.abs(t)-e,Math.max(0,ei(t)-ei(e))+1}(o,Math.max(Math.abs(e),Math.abs(t))))||(r.precision=i-(\"e\"===r.type));break;case\"f\":case\"%\":null!=r.precision||isNaN(i=function(e){return Math.max(0,-ei(Math.abs(e)))}(o))||(r.precision=i-2*(\"%\"===r.type))}return Zr(r)};function ai(e){var t=e.domain;return e.ticks=function(e){var n=t();return d(n[0],n[n.length-1],null==e?10:e)},e.tickFormat=function(e,n){var r=t();return ui(r[0],r[r.length-1],null==e?10:e,n)},e.nice=function(n){null==n&&(n=10);var r,i=t(),o=0,u=i.length-1,a=i[o],l=i[u];return l<a&&(r=a,a=l,l=r,r=o,o=u,u=r),(r=p(a,l,n))>0?r=p(a=Math.floor(a/r)*r,l=Math.ceil(l/r)*r,n):r<0&&(r=p(a=Math.ceil(a*r)/r,l=Math.floor(l*r)/r,n)),r>0?(i[o]=Math.floor(a/r)*r,i[u]=Math.ceil(l/r)*r,t(i)):r<0&&(i[o]=Math.ceil(a*r)/r,i[u]=Math.floor(l*r)/r,t(i)),e},e}function li(e){return function(t){return t<0?-Math.pow(-t,e):Math.pow(t,e)}}function ci(e){return e<0?-Math.sqrt(-e):Math.sqrt(e)}function si(e){return e<0?-e*e:e*e}function fi(e){var t=e(Ir,Ir),n=1;function r(){return 1===n?e(Ir,Ir):.5===n?e(ci,si):e(li(n),li(1/n))}return t.exponent=function(e){return arguments.length?(n=+e,r()):n},ai(t)}function di(){var e=fi(Qr());return e.copy=function(){return Wr(e,di()).exponent(e.exponent())},Rr.apply(e,arguments),e}function pi(){return di.apply(null,arguments).exponent(.5)}var hi=new Date,mi=new Date;function gi(e,t,n,r){function i(t){return e(t=0===arguments.length?new Date:new Date(+t)),t}return i.floor=function(t){return e(t=new Date(+t)),t},i.ceil=function(n){return e(n=new Date(n-1)),t(n,1),e(n),n},i.round=function(e){var t=i(e),n=i.ceil(e);return e-t<n-e?t:n},i.offset=function(e,n){return t(e=new Date(+e),null==n?1:Math.floor(n)),e},i.range=function(n,r,o){var u,a=[];if(n=i.ceil(n),o=null==o?1:Math.floor(o),!(n<r)||!(o>0))return a;do{a.push(u=new Date(+n)),t(n,o),e(n)}while(u<n&&n<r);return a},i.filter=function(n){return gi((function(t){if(t>=t)for(;e(t),!n(t);)t.setTime(t-1)}),(function(e,r){if(e>=e)if(r<0)for(;++r<=0;)for(;t(e,-1),!n(e););else for(;--r>=0;)for(;t(e,1),!n(e););}))},n&&(i.count=function(t,r){return hi.setTime(+t),mi.setTime(+r),e(hi),e(mi),Math.floor(n(hi,mi))},i.every=function(e){return e=Math.floor(e),isFinite(e)&&e>0?e>1?i.filter(r?function(t){return r(t)%e===0}:function(t){return i.count(0,t)%e===0}):i:null}),i}var vi=gi((function(e){e.setMonth(0,1),e.setHours(0,0,0,0)}),(function(e,t){e.setFullYear(e.getFullYear()+t)}),(function(e,t){return t.getFullYear()-e.getFullYear()}),(function(e){return e.getFullYear()}));vi.every=function(e){return isFinite(e=Math.floor(e))&&e>0?gi((function(t){t.setFullYear(Math.floor(t.getFullYear()/e)*e),t.setMonth(0,1),t.setHours(0,0,0,0)}),(function(t,n){t.setFullYear(t.getFullYear()+n*e)})):null};var yi=vi,bi=(vi.range,gi((function(e){e.setDate(1),e.setHours(0,0,0,0)}),(function(e,t){e.setMonth(e.getMonth()+t)}),(function(e,t){return t.getMonth()-e.getMonth()+12*(t.getFullYear()-e.getFullYear())}),(function(e){return e.getMonth()})));bi.range;function wi(e){return gi((function(t){t.setDate(t.getDate()-(t.getDay()+7-e)%7),t.setHours(0,0,0,0)}),(function(e,t){e.setDate(e.getDate()+7*t)}),(function(e,t){return(t-e-6e4*(t.getTimezoneOffset()-e.getTimezoneOffset()))/6048e5}))}var xi=wi(0),_i=wi(1),ki=wi(2),Ti=wi(3),Ei=wi(4),Ci=wi(5),Si=wi(6),Mi=(xi.range,_i.range,ki.range,Ti.range,Ei.range,Ci.range,Si.range,gi((function(e){e.setHours(0,0,0,0)}),(function(e,t){e.setDate(e.getDate()+t)}),(function(e,t){return(t-e-6e4*(t.getTimezoneOffset()-e.getTimezoneOffset()))/864e5}),(function(e){return e.getDate()-1}))),Ni=Mi,Pi=(Mi.range,gi((function(e){e.setTime(e-e.getMilliseconds()-1e3*e.getSeconds()-6e4*e.getMinutes())}),(function(e,t){e.setTime(+e+36e5*t)}),(function(e,t){return(t-e)/36e5}),(function(e){return e.getHours()}))),Ai=(Pi.range,gi((function(e){e.setTime(e-e.getMilliseconds()-1e3*e.getSeconds())}),(function(e,t){e.setTime(+e+6e4*t)}),(function(e,t){return(t-e)/6e4}),(function(e){return e.getMinutes()}))),Ri=(Ai.range,gi((function(e){e.setTime(e-e.getMilliseconds())}),(function(e,t){e.setTime(+e+1e3*t)}),(function(e,t){return(t-e)/1e3}),(function(e){return e.getUTCSeconds()}))),Di=(Ri.range,gi((function(){}),(function(e,t){e.setTime(+e+t)}),(function(e,t){return t-e})));Di.every=function(e){return e=Math.floor(e),isFinite(e)&&e>0?e>1?gi((function(t){t.setTime(Math.floor(t/e)*e)}),(function(t,n){t.setTime(+t+n*e)}),(function(t,n){return(n-t)/e})):Di:null};Di.range;function Oi(e){return gi((function(t){t.setUTCDate(t.getUTCDate()-(t.getUTCDay()+7-e)%7),t.setUTCHours(0,0,0,0)}),(function(e,t){e.setUTCDate(e.getUTCDate()+7*t)}),(function(e,t){return(t-e)/6048e5}))}var zi=Oi(0),Li=Oi(1),Ui=Oi(2),Fi=Oi(3),Ii=Oi(4),ji=Oi(5),Hi=Oi(6),Vi=(zi.range,Li.range,Ui.range,Fi.range,Ii.range,ji.range,Hi.range,gi((function(e){e.setUTCHours(0,0,0,0)}),(function(e,t){e.setUTCDate(e.getUTCDate()+t)}),(function(e,t){return(t-e)/864e5}),(function(e){return e.getUTCDate()-1}))),$i=Vi,Wi=(Vi.range,gi((function(e){e.setUTCMonth(0,1),e.setUTCHours(0,0,0,0)}),(function(e,t){e.setUTCFullYear(e.getUTCFullYear()+t)}),(function(e,t){return t.getUTCFullYear()-e.getUTCFullYear()}),(function(e){return e.getUTCFullYear()})));Wi.every=function(e){return isFinite(e=Math.floor(e))&&e>0?gi((function(t){t.setUTCFullYear(Math.floor(t.getUTCFullYear()/e)*e),t.setUTCMonth(0,1),t.setUTCHours(0,0,0,0)}),(function(t,n){t.setUTCFullYear(t.getUTCFullYear()+n*e)})):null};var Qi=Wi;Wi.range;function qi(e){if(0<=e.y&&e.y<100){var t=new Date(-1,e.m,e.d,e.H,e.M,e.S,e.L);return t.setFullYear(e.y),t}return new Date(e.y,e.m,e.d,e.H,e.M,e.S,e.L)}function Bi(e){if(0<=e.y&&e.y<100){var t=new Date(Date.UTC(-1,e.m,e.d,e.H,e.M,e.S,e.L));return t.setUTCFullYear(e.y),t}return new Date(Date.UTC(e.y,e.m,e.d,e.H,e.M,e.S,e.L))}function Yi(e,t,n){return{y:e,m:t,d:n,H:0,M:0,S:0,L:0}}var Xi,Ki={\"-\":\"\",_:\" \",0:\"0\"},Zi=/^\\s*\\d+/,Ji=/^%/,Gi=/[\\\\^$*+?|[\\]().{}]/g;function eo(e,t,n){var r=e<0?\"-\":\"\",i=(r?-e:e)+\"\",o=i.length;return r+(o<n?new Array(n-o+1).join(t)+i:i)}function to(e){return e.replace(Gi,\"\\\\$&\")}function no(e){return new RegExp(\"^(?:\"+e.map(to).join(\"|\")+\")\",\"i\")}function ro(e){for(var t={},n=-1,r=e.length;++n<r;)t[e[n].toLowerCase()]=n;return t}function io(e,t,n){var r=Zi.exec(t.slice(n,n+1));return r?(e.w=+r[0],n+r[0].length):-1}function oo(e,t,n){var r=Zi.exec(t.slice(n,n+1));return r?(e.u=+r[0],n+r[0].length):-1}function uo(e,t,n){var r=Zi.exec(t.slice(n,n+2));return r?(e.U=+r[0],n+r[0].length):-1}function ao(e,t,n){var r=Zi.exec(t.slice(n,n+2));return r?(e.V=+r[0],n+r[0].length):-1}function lo(e,t,n){var r=Zi.exec(t.slice(n,n+2));return r?(e.W=+r[0],n+r[0].length):-1}function co(e,t,n){var r=Zi.exec(t.slice(n,n+4));return r?(e.y=+r[0],n+r[0].length):-1}function so(e,t,n){var r=Zi.exec(t.slice(n,n+2));return r?(e.y=+r[0]+(+r[0]>68?1900:2e3),n+r[0].length):-1}function fo(e,t,n){var r=/^(Z)|([+-]\\d\\d)(?::?(\\d\\d))?/.exec(t.slice(n,n+6));return r?(e.Z=r[1]?0:-(r[2]+(r[3]||\"00\")),n+r[0].length):-1}function po(e,t,n){var r=Zi.exec(t.slice(n,n+1));return r?(e.q=3*r[0]-3,n+r[0].length):-1}function ho(e,t,n){var r=Zi.exec(t.slice(n,n+2));return r?(e.m=r[0]-1,n+r[0].length):-1}function mo(e,t,n){var r=Zi.exec(t.slice(n,n+2));return r?(e.d=+r[0],n+r[0].length):-1}function go(e,t,n){var r=Zi.exec(t.slice(n,n+3));return r?(e.m=0,e.d=+r[0],n+r[0].length):-1}function vo(e,t,n){var r=Zi.exec(t.slice(n,n+2));return r?(e.H=+r[0],n+r[0].length):-1}function yo(e,t,n){var r=Zi.exec(t.slice(n,n+2));return r?(e.M=+r[0],n+r[0].length):-1}function bo(e,t,n){var r=Zi.exec(t.slice(n,n+2));return r?(e.S=+r[0],n+r[0].length):-1}function wo(e,t,n){var r=Zi.exec(t.slice(n,n+3));return r?(e.L=+r[0],n+r[0].length):-1}function xo(e,t,n){var r=Zi.exec(t.slice(n,n+6));return r?(e.L=Math.floor(r[0]/1e3),n+r[0].length):-1}function _o(e,t,n){var r=Ji.exec(t.slice(n,n+1));return r?n+r[0].length:-1}function ko(e,t,n){var r=Zi.exec(t.slice(n));return r?(e.Q=+r[0],n+r[0].length):-1}function To(e,t,n){var r=Zi.exec(t.slice(n));return r?(e.s=+r[0],n+r[0].length):-1}function Eo(e,t){return eo(e.getDate(),t,2)}function Co(e,t){return eo(e.getHours(),t,2)}function So(e,t){return eo(e.getHours()%12||12,t,2)}function Mo(e,t){return eo(1+Ni.count(yi(e),e),t,3)}function No(e,t){return eo(e.getMilliseconds(),t,3)}function Po(e,t){return No(e,t)+\"000\"}function Ao(e,t){return eo(e.getMonth()+1,t,2)}function Ro(e,t){return eo(e.getMinutes(),t,2)}function Do(e,t){return eo(e.getSeconds(),t,2)}function Oo(e){var t=e.getDay();return 0===t?7:t}function zo(e,t){return eo(xi.count(yi(e)-1,e),t,2)}function Lo(e,t){var n=e.getDay();return e=n>=4||0===n?Ei(e):Ei.ceil(e),eo(Ei.count(yi(e),e)+(4===yi(e).getDay()),t,2)}function Uo(e){return e.getDay()}function Fo(e,t){return eo(_i.count(yi(e)-1,e),t,2)}function Io(e,t){return eo(e.getFullYear()%100,t,2)}function jo(e,t){return eo(e.getFullYear()%1e4,t,4)}function Ho(e){var t=e.getTimezoneOffset();return(t>0?\"-\":(t*=-1,\"+\"))+eo(t/60|0,\"0\",2)+eo(t%60,\"0\",2)}function Vo(e,t){return eo(e.getUTCDate(),t,2)}function $o(e,t){return eo(e.getUTCHours(),t,2)}function Wo(e,t){return eo(e.getUTCHours()%12||12,t,2)}function Qo(e,t){return eo(1+$i.count(Qi(e),e),t,3)}function qo(e,t){return eo(e.getUTCMilliseconds(),t,3)}function Bo(e,t){return qo(e,t)+\"000\"}function Yo(e,t){return eo(e.getUTCMonth()+1,t,2)}function Xo(e,t){return eo(e.getUTCMinutes(),t,2)}function Ko(e,t){return eo(e.getUTCSeconds(),t,2)}function Zo(e){var t=e.getUTCDay();return 0===t?7:t}function Jo(e,t){return eo(zi.count(Qi(e)-1,e),t,2)}function Go(e,t){var n=e.getUTCDay();return e=n>=4||0===n?Ii(e):Ii.ceil(e),eo(Ii.count(Qi(e),e)+(4===Qi(e).getUTCDay()),t,2)}function eu(e){return e.getUTCDay()}function tu(e,t){return eo(Li.count(Qi(e)-1,e),t,2)}function nu(e,t){return eo(e.getUTCFullYear()%100,t,2)}function ru(e,t){return eo(e.getUTCFullYear()%1e4,t,4)}function iu(){return\"+0000\"}function ou(){return\"%\"}function uu(e){return+e}function au(e){return Math.floor(+e/1e3)}!function(e){Xi=function(e){var t=e.dateTime,n=e.date,r=e.time,i=e.periods,o=e.days,u=e.shortDays,a=e.months,l=e.shortMonths,c=no(i),s=ro(i),f=no(o),d=ro(o),p=no(u),h=ro(u),m=no(a),g=ro(a),v=no(l),y=ro(l),b={a:function(e){return u[e.getDay()]},A:function(e){return o[e.getDay()]},b:function(e){return l[e.getMonth()]},B:function(e){return a[e.getMonth()]},c:null,d:Eo,e:Eo,f:Po,H:Co,I:So,j:Mo,L:No,m:Ao,M:Ro,p:function(e){return i[+(e.getHours()>=12)]},q:function(e){return 1+~~(e.getMonth()/3)},Q:uu,s:au,S:Do,u:Oo,U:zo,V:Lo,w:Uo,W:Fo,x:null,X:null,y:Io,Y:jo,Z:Ho,\"%\":ou},w={a:function(e){return u[e.getUTCDay()]},A:function(e){return o[e.getUTCDay()]},b:function(e){return l[e.getUTCMonth()]},B:function(e){return a[e.getUTCMonth()]},c:null,d:Vo,e:Vo,f:Bo,H:$o,I:Wo,j:Qo,L:qo,m:Yo,M:Xo,p:function(e){return i[+(e.getUTCHours()>=12)]},q:function(e){return 1+~~(e.getUTCMonth()/3)},Q:uu,s:au,S:Ko,u:Zo,U:Jo,V:Go,w:eu,W:tu,x:null,X:null,y:nu,Y:ru,Z:iu,\"%\":ou},x={a:function(e,t,n){var r=p.exec(t.slice(n));return r?(e.w=h[r[0].toLowerCase()],n+r[0].length):-1},A:function(e,t,n){var r=f.exec(t.slice(n));return r?(e.w=d[r[0].toLowerCase()],n+r[0].length):-1},b:function(e,t,n){var r=v.exec(t.slice(n));return r?(e.m=y[r[0].toLowerCase()],n+r[0].length):-1},B:function(e,t,n){var r=m.exec(t.slice(n));return r?(e.m=g[r[0].toLowerCase()],n+r[0].length):-1},c:function(e,n,r){return T(e,t,n,r)},d:mo,e:mo,f:xo,H:vo,I:vo,j:go,L:wo,m:ho,M:yo,p:function(e,t,n){var r=c.exec(t.slice(n));return r?(e.p=s[r[0].toLowerCase()],n+r[0].length):-1},q:po,Q:ko,s:To,S:bo,u:oo,U:uo,V:ao,w:io,W:lo,x:function(e,t,r){return T(e,n,t,r)},X:function(e,t,n){return T(e,r,t,n)},y:so,Y:co,Z:fo,\"%\":_o};function _(e,t){return function(n){var r,i,o,u=[],a=-1,l=0,c=e.length;for(n instanceof Date||(n=new Date(+n));++a<c;)37===e.charCodeAt(a)&&(u.push(e.slice(l,a)),null!=(i=Ki[r=e.charAt(++a)])?r=e.charAt(++a):i=\"e\"===r?\" \":\"0\",(o=t[r])&&(r=o(n,i)),u.push(r),l=a+1);return u.push(e.slice(l,a)),u.join(\"\")}}function k(e,t){return function(n){var r,i,o=Yi(1900,void 0,1);if(T(o,e,n+=\"\",0)!=n.length)return null;if(\"Q\"in o)return new Date(o.Q);if(\"s\"in o)return new Date(1e3*o.s+(\"L\"in o?o.L:0));if(t&&!(\"Z\"in o)&&(o.Z=0),\"p\"in o&&(o.H=o.H%12+12*o.p),void 0===o.m&&(o.m=\"q\"in o?o.q:0),\"V\"in o){if(o.V<1||o.V>53)return null;\"w\"in o||(o.w=1),\"Z\"in o?(i=(r=Bi(Yi(o.y,0,1))).getUTCDay(),r=i>4||0===i?Li.ceil(r):Li(r),r=$i.offset(r,7*(o.V-1)),o.y=r.getUTCFullYear(),o.m=r.getUTCMonth(),o.d=r.getUTCDate()+(o.w+6)%7):(i=(r=qi(Yi(o.y,0,1))).getDay(),r=i>4||0===i?_i.ceil(r):_i(r),r=Ni.offset(r,7*(o.V-1)),o.y=r.getFullYear(),o.m=r.getMonth(),o.d=r.getDate()+(o.w+6)%7)}else(\"W\"in o||\"U\"in o)&&(\"w\"in o||(o.w=\"u\"in o?o.u%7:\"W\"in o?1:0),i=\"Z\"in o?Bi(Yi(o.y,0,1)).getUTCDay():qi(Yi(o.y,0,1)).getDay(),o.m=0,o.d=\"W\"in o?(o.w+6)%7+7*o.W-(i+5)%7:o.w+7*o.U-(i+6)%7);return\"Z\"in o?(o.H+=o.Z/100|0,o.M+=o.Z%100,Bi(o)):qi(o)}}function T(e,t,n,r){for(var i,o,u=0,a=t.length,l=n.length;u<a;){if(r>=l)return-1;if(37===(i=t.charCodeAt(u++))){if(i=t.charAt(u++),!(o=x[i in Ki?t.charAt(u++):i])||(r=o(e,n,r))<0)return-1}else if(i!=n.charCodeAt(r++))return-1}return r}return b.x=_(n,b),b.X=_(r,b),b.c=_(t,b),w.x=_(n,w),w.X=_(r,w),w.c=_(t,w),{format:function(e){var t=_(e+=\"\",b);return t.toString=function(){return e},t},parse:function(e){var t=k(e+=\"\",!1);return t.toString=function(){return e},t},utcFormat:function(e){var t=_(e+=\"\",w);return t.toString=function(){return e},t},utcParse:function(e){var t=k(e+=\"\",!0);return t.toString=function(){return e},t}}}(e),Xi.format,Xi.parse,Xi.utcFormat,Xi.utcParse}({dateTime:\"%x, %X\",date:\"%-m/%-d/%Y\",time:\"%-I:%M:%S %p\",periods:[\"AM\",\"PM\"],days:[\"Sunday\",\"Monday\",\"Tuesday\",\"Wednesday\",\"Thursday\",\"Friday\",\"Saturday\"],shortDays:[\"Sun\",\"Mon\",\"Tue\",\"Wed\",\"Thu\",\"Fri\",\"Sat\"],months:[\"January\",\"February\",\"March\",\"April\",\"May\",\"June\",\"July\",\"August\",\"September\",\"October\",\"November\",\"December\"],shortMonths:[\"Jan\",\"Feb\",\"Mar\",\"Apr\",\"May\",\"Jun\",\"Jul\",\"Aug\",\"Sep\",\"Oct\",\"Nov\",\"Dec\"]});var lu=gi((function(e){e.setUTCDate(1),e.setUTCHours(0,0,0,0)}),(function(e,t){e.setUTCMonth(e.getUTCMonth()+t)}),(function(e,t){return t.getUTCMonth()-e.getUTCMonth()+12*(t.getUTCFullYear()-e.getUTCFullYear())}),(function(e){return e.getUTCMonth()})),cu=(lu.range,gi((function(e){e.setUTCMinutes(0,0,0)}),(function(e,t){e.setTime(+e+36e5*t)}),(function(e,t){return(t-e)/36e5}),(function(e){return e.getUTCHours()}))),su=(cu.range,gi((function(e){e.setUTCSeconds(0,0)}),(function(e,t){e.setTime(+e+6e4*t)}),(function(e,t){return(t-e)/6e4}),(function(e){return e.getUTCMinutes()})));su.range;function fu(){this._=null}function du(e){e.U=e.C=e.L=e.R=e.P=e.N=null}function pu(e,t){var n=t,r=t.R,i=n.U;i?i.L===n?i.L=r:i.R=r:e._=r,r.U=i,n.U=r,n.R=r.L,n.R&&(n.R.U=n),r.L=n}function hu(e,t){var n=t,r=t.L,i=n.U;i?i.L===n?i.L=r:i.R=r:e._=r,r.U=i,n.U=r,n.L=r.R,n.L&&(n.L.U=n),r.R=n}function mu(e){for(;e.L;)e=e.L;return e}fu.prototype={constructor:fu,insert:function(e,t){var n,r,i;if(e){if(t.P=e,t.N=e.N,e.N&&(e.N.P=t),e.N=t,e.R){for(e=e.R;e.L;)e=e.L;e.L=t}else e.R=t;n=e}else this._?(e=mu(this._),t.P=null,t.N=e,e.P=e.L=t,n=e):(t.P=t.N=null,this._=t,n=null);for(t.L=t.R=null,t.U=n,t.C=!0,e=t;n&&n.C;)n===(r=n.U).L?(i=r.R)&&i.C?(n.C=i.C=!1,r.C=!0,e=r):(e===n.R&&(pu(this,n),n=(e=n).U),n.C=!1,r.C=!0,hu(this,r)):(i=r.L)&&i.C?(n.C=i.C=!1,r.C=!0,e=r):(e===n.L&&(hu(this,n),n=(e=n).U),n.C=!1,r.C=!0,pu(this,r)),n=e.U;this._.C=!1},remove:function(e){e.N&&(e.N.P=e.P),e.P&&(e.P.N=e.N),e.N=e.P=null;var t,n,r,i=e.U,o=e.L,u=e.R;if(n=o?u?mu(u):o:u,i?i.L===e?i.L=n:i.R=n:this._=n,o&&u?(r=n.C,n.C=e.C,n.L=o,o.U=n,n!==u?(i=n.U,n.U=e.U,e=n.R,i.L=e,n.R=u,u.U=n):(n.U=i,i=n,e=n.R)):(r=e.C,e=n),e&&(e.U=i),!r)if(e&&e.C)e.C=!1;else{do{if(e===this._)break;if(e===i.L){if((t=i.R).C&&(t.C=!1,i.C=!0,pu(this,i),t=i.R),t.L&&t.L.C||t.R&&t.R.C){t.R&&t.R.C||(t.L.C=!1,t.C=!0,hu(this,t),t=i.R),t.C=i.C,i.C=t.R.C=!1,pu(this,i),e=this._;break}}else if((t=i.L).C&&(t.C=!1,i.C=!0,hu(this,i),t=i.L),t.L&&t.L.C||t.R&&t.R.C){t.L&&t.L.C||(t.R.C=!1,t.C=!0,pu(this,t),t=i.L),t.C=i.C,i.C=t.L.C=!1,hu(this,i),e=this._;break}t.C=!0,e=i,i=i.U}while(!e.C);e&&(e.C=!1)}}};var gu=fu;function vu(e,t,n,r){var i=[null,null],o=Hu.push(i)-1;return i.left=e,i.right=t,n&&bu(i,e,t,n),r&&bu(i,t,e,r),Iu[e.index].halfedges.push(o),Iu[t.index].halfedges.push(o),i}function yu(e,t,n){var r=[t,n];return r.left=e,r}function bu(e,t,n,r){e[0]||e[1]?e.left===n?e[1]=r:e[0]=r:(e[0]=r,e.left=t,e.right=n)}function wu(e,t,n,r,i){var o,u=e[0],a=e[1],l=u[0],c=u[1],s=0,f=1,d=a[0]-l,p=a[1]-c;if(o=t-l,d||!(o>0)){if(o/=d,d<0){if(o<s)return;o<f&&(f=o)}else if(d>0){if(o>f)return;o>s&&(s=o)}if(o=r-l,d||!(o<0)){if(o/=d,d<0){if(o>f)return;o>s&&(s=o)}else if(d>0){if(o<s)return;o<f&&(f=o)}if(o=n-c,p||!(o>0)){if(o/=p,p<0){if(o<s)return;o<f&&(f=o)}else if(p>0){if(o>f)return;o>s&&(s=o)}if(o=i-c,p||!(o<0)){if(o/=p,p<0){if(o>f)return;o>s&&(s=o)}else if(p>0){if(o<s)return;o<f&&(f=o)}return!(s>0||f<1)||(s>0&&(e[0]=[l+s*d,c+s*p]),f<1&&(e[1]=[l+f*d,c+f*p]),!0)}}}}}function xu(e,t,n,r,i){var o=e[1];if(o)return!0;var u,a,l=e[0],c=e.left,s=e.right,f=c[0],d=c[1],p=s[0],h=s[1],m=(f+p)/2,g=(d+h)/2;if(h===d){if(m<t||m>=r)return;if(f>p){if(l){if(l[1]>=i)return}else l=[m,n];o=[m,i]}else{if(l){if(l[1]<n)return}else l=[m,i];o=[m,n]}}else if(a=g-(u=(f-p)/(h-d))*m,u<-1||u>1)if(f>p){if(l){if(l[1]>=i)return}else l=[(n-a)/u,n];o=[(i-a)/u,i]}else{if(l){if(l[1]<n)return}else l=[(i-a)/u,i];o=[(n-a)/u,n]}else if(d<h){if(l){if(l[0]>=r)return}else l=[t,u*t+a];o=[r,u*r+a]}else{if(l){if(l[0]<t)return}else l=[r,u*r+a];o=[t,u*t+a]}return e[0]=l,e[1]=o,!0}function _u(e,t){var n=e.site,r=t.left,i=t.right;return n===i&&(i=r,r=n),i?Math.atan2(i[1]-r[1],i[0]-r[0]):(n===r?(r=t[1],i=t[0]):(r=t[0],i=t[1]),Math.atan2(r[0]-i[0],i[1]-r[1]))}function ku(e,t){return t[+(t.left!==e.site)]}function Tu(e,t){return t[+(t.left===e.site)]}var Eu,Cu=[];function Su(){du(this),this.x=this.y=this.arc=this.site=this.cy=null}function Mu(e){var t=e.P,n=e.N;if(t&&n){var r=t.site,i=e.site,o=n.site;if(r!==o){var u=i[0],a=i[1],l=r[0]-u,c=r[1]-a,s=o[0]-u,f=o[1]-a,d=2*(l*f-c*s);if(!(d>=-$u)){var p=l*l+c*c,h=s*s+f*f,m=(f*p-c*h)/d,g=(l*h-s*p)/d,v=Cu.pop()||new Su;v.arc=e,v.site=i,v.x=m+u,v.y=(v.cy=g+a)+Math.sqrt(m*m+g*g),e.circle=v;for(var y=null,b=ju._;b;)if(v.y<b.y||v.y===b.y&&v.x<=b.x){if(!b.L){y=b.P;break}b=b.L}else{if(!b.R){y=b;break}b=b.R}ju.insert(y,v),y||(Eu=v)}}}}function Nu(e){var t=e.circle;t&&(t.P||(Eu=t.N),ju.remove(t),Cu.push(t),du(t),e.circle=null)}var Pu=[];function Au(){du(this),this.edge=this.site=this.circle=null}function Ru(e){var t=Pu.pop()||new Au;return t.site=e,t}function Du(e){Nu(e),Fu.remove(e),Pu.push(e),du(e)}function Ou(e){var t=e.circle,n=t.x,r=t.cy,i=[n,r],o=e.P,u=e.N,a=[e];Du(e);for(var l=o;l.circle&&Math.abs(n-l.circle.x)<Vu&&Math.abs(r-l.circle.cy)<Vu;)o=l.P,a.unshift(l),Du(l),l=o;a.unshift(l),Nu(l);for(var c=u;c.circle&&Math.abs(n-c.circle.x)<Vu&&Math.abs(r-c.circle.cy)<Vu;)u=c.N,a.push(c),Du(c),c=u;a.push(c),Nu(c);var s,f=a.length;for(s=1;s<f;++s)c=a[s],l=a[s-1],bu(c.edge,l.site,c.site,i);l=a[0],(c=a[f-1]).edge=vu(l.site,c.site,null,i),Mu(l),Mu(c)}function zu(e){for(var t,n,r,i,o=e[0],u=e[1],a=Fu._;a;)if((r=Lu(a,u)-o)>Vu)a=a.L;else{if(!((i=o-Uu(a,u))>Vu)){r>-Vu?(t=a.P,n=a):i>-Vu?(t=a,n=a.N):t=n=a;break}if(!a.R){t=a;break}a=a.R}!function(e){Iu[e.index]={site:e,halfedges:[]}}(e);var l=Ru(e);if(Fu.insert(t,l),t||n){if(t===n)return Nu(t),n=Ru(t.site),Fu.insert(l,n),l.edge=n.edge=vu(t.site,l.site),Mu(t),void Mu(n);if(n){Nu(t),Nu(n);var c=t.site,s=c[0],f=c[1],d=e[0]-s,p=e[1]-f,h=n.site,m=h[0]-s,g=h[1]-f,v=2*(d*g-p*m),y=d*d+p*p,b=m*m+g*g,w=[(g*y-p*b)/v+s,(d*b-m*y)/v+f];bu(n.edge,c,h,w),l.edge=vu(c,e,null,w),n.edge=vu(e,h,null,w),Mu(t),Mu(n)}else l.edge=vu(t.site,l.site)}}function Lu(e,t){var n=e.site,r=n[0],i=n[1],o=i-t;if(!o)return r;var u=e.P;if(!u)return-1/0;var a=(n=u.site)[0],l=n[1],c=l-t;if(!c)return a;var s=a-r,f=1/o-1/c,d=s/c;return f?(-d+Math.sqrt(d*d-2*f*(s*s/(-2*c)-l+c/2+i-o/2)))/f+r:(r+a)/2}function Uu(e,t){var n=e.N;if(n)return Lu(n,t);var r=e.site;return r[1]===t?r[0]:1/0}var Fu,Iu,ju,Hu,Vu=1e-6,$u=1e-12;function Wu(e,t){return t[1]-e[1]||t[0]-e[0]}function Qu(e,t){var n,r,i,o=e.sort(Wu).pop();for(Hu=[],Iu=new Array(e.length),Fu=new gu,ju=new gu;;)if(i=Eu,o&&(!i||o[1]<i.y||o[1]===i.y&&o[0]<i.x))o[0]===n&&o[1]===r||(zu(o),n=o[0],r=o[1]),o=e.pop();else{if(!i)break;Ou(i.arc)}if(function(){for(var e,t,n,r,i=0,o=Iu.length;i<o;++i)if((e=Iu[i])&&(r=(t=e.halfedges).length)){var u=new Array(r),a=new Array(r);for(n=0;n<r;++n)u[n]=n,a[n]=_u(e,Hu[t[n]]);for(u.sort((function(e,t){return a[t]-a[e]})),n=0;n<r;++n)a[n]=t[u[n]];for(n=0;n<r;++n)t[n]=a[n]}}(),t){var u=+t[0][0],a=+t[0][1],l=+t[1][0],c=+t[1][1];!function(e,t,n,r){for(var i,o=Hu.length;o--;)xu(i=Hu[o],e,t,n,r)&&wu(i,e,t,n,r)&&(Math.abs(i[0][0]-i[1][0])>Vu||Math.abs(i[0][1]-i[1][1])>Vu)||delete Hu[o]}(u,a,l,c),function(e,t,n,r){var i,o,u,a,l,c,s,f,d,p,h,m,g=Iu.length,v=!0;for(i=0;i<g;++i)if(o=Iu[i]){for(u=o.site,a=(l=o.halfedges).length;a--;)Hu[l[a]]||l.splice(a,1);for(a=0,c=l.length;a<c;)h=(p=Tu(o,Hu[l[a]]))[0],m=p[1],f=(s=ku(o,Hu[l[++a%c]]))[0],d=s[1],(Math.abs(h-f)>Vu||Math.abs(m-d)>Vu)&&(l.splice(a,0,Hu.push(yu(u,p,Math.abs(h-e)<Vu&&r-m>Vu?[e,Math.abs(f-e)<Vu?d:r]:Math.abs(m-r)<Vu&&n-h>Vu?[Math.abs(d-r)<Vu?f:n,r]:Math.abs(h-n)<Vu&&m-t>Vu?[n,Math.abs(f-n)<Vu?d:t]:Math.abs(m-t)<Vu&&h-e>Vu?[Math.abs(d-t)<Vu?f:e,t]:null))-1),++c);c&&(v=!1)}if(v){var y,b,w,x=1/0;for(i=0,v=null;i<g;++i)(o=Iu[i])&&(w=(y=(u=o.site)[0]-e)*y+(b=u[1]-t)*b)<x&&(x=w,v=o);if(v){var _=[e,t],k=[e,r],T=[n,r],E=[n,t];v.halfedges.push(Hu.push(yu(u=v.site,_,k))-1,Hu.push(yu(u,k,T))-1,Hu.push(yu(u,T,E))-1,Hu.push(yu(u,E,_))-1)}}for(i=0;i<g;++i)(o=Iu[i])&&(o.halfedges.length||delete Iu[i])}(u,a,l,c)}this.edges=Hu,this.cells=Iu,Fu=ju=Hu=Iu=null}Qu.prototype={constructor:Qu,polygons:function(){var e=this.edges;return this.cells.map((function(t){var n=t.halfedges.map((function(n){return ku(t,e[n])}));return n.data=t.site.data,n}))},triangles:function(){var e=[],t=this.edges;return this.cells.forEach((function(n,r){if(o=(i=n.halfedges).length)for(var i,o,u,a,l,c,s=n.site,f=-1,d=t[i[o-1]],p=d.left===s?d.right:d.left;++f<o;)u=p,p=(d=t[i[f]]).left===s?d.right:d.left,u&&p&&r<u.index&&r<p.index&&(l=u,c=p,((a=s)[0]-c[0])*(l[1]-a[1])-(a[0]-l[0])*(c[1]-a[1])<0)&&e.push([s.data,u.data,p.data])})),e},links:function(){return this.edges.filter((function(e){return e.right})).map((function(e){return{source:e.left.data,target:e.right.data}}))},find:function(e,t,n){for(var r,i,o=this,u=o._found||0,a=o.cells.length;!(i=o.cells[u]);)if(++u>=a)return null;var l=e-i.site[0],c=t-i.site[1],s=l*l+c*c;do{i=o.cells[r=u],u=null,i.halfedges.forEach((function(n){var r=o.edges[n],a=r.left;if(a!==i.site&&a||(a=r.right)){var l=e-a[0],c=t-a[1],f=l*l+c*c;f<s&&(s=f,u=a.index)}}))}while(null!==u);return o._found=r,null==n||s<=n*n?i.site:null}};Math.SQRT2;function qu(e,t,n){this.k=e,this.x=t,this.y=n}qu.prototype={constructor:qu,scale:function(e){return 1===e?this:new qu(this.k*e,this.x,this.y)},translate:function(e,t){return 0===e&0===t?this:new qu(this.k,this.x+this.k*e,this.y+this.k*t)},apply:function(e){return[e[0]*this.k+this.x,e[1]*this.k+this.y]},applyX:function(e){return e*this.k+this.x},applyY:function(e){return e*this.k+this.y},invert:function(e){return[(e[0]-this.x)/this.k,(e[1]-this.y)/this.k]},invertX:function(e){return(e-this.x)/this.k},invertY:function(e){return(e-this.y)/this.k},rescaleX:function(e){return e.copy().domain(e.range().map(this.invertX,this).map(e.invert,e))},rescaleY:function(e){return e.copy().domain(e.range().map(this.invertY,this).map(e.invert,e))},toString:function(){return\"translate(\"+this.x+\",\"+this.y+\") scale(\"+this.k+\")\"}};new qu(1,0,0);qu.prototype},,,,,,function(e,t,n){\"use strict\";!function e(){if(\"undefined\"!==typeof __REACT_DEVTOOLS_GLOBAL_HOOK__&&\"function\"===typeof __REACT_DEVTOOLS_GLOBAL_HOOK__.checkDCE){0;try{__REACT_DEVTOOLS_GLOBAL_HOOK__.checkDCE(e)}catch(t){console.error(t)}}}(),e.exports=n(30)},function(e,t,n){\"use strict\";function r(e,t){if(!(e instanceof t))throw new TypeError(\"Cannot call a class as a function\")}n.d(t,\"a\",(function(){return r}))},function(e,t,n){\"use strict\";function r(e,t){for(var n=0;n<t.length;n++){var r=t[n];r.enumerable=r.enumerable||!1,r.configurable=!0,\"value\"in r&&(r.writable=!0),Object.defineProperty(e,r.key,r)}}function i(e,t,n){return t&&r(e.prototype,t),n&&r(e,n),e}n.d(t,\"a\",(function(){return i}))},function(e,t,n){\"use strict\";function r(e){if(void 0===e)throw new ReferenceError(\"this hasn't been initialised - super() hasn't been called\");return e}n.d(t,\"a\",(function(){return r}))},function(e,t,n){\"use strict\";function r(e){return(r=Object.setPrototypeOf?Object.getPrototypeOf:function(e){return e.__proto__||Object.getPrototypeOf(e)})(e)}function i(){if(\"undefined\"===typeof Reflect||!Reflect.construct)return!1;if(Reflect.construct.sham)return!1;if(\"function\"===typeof Proxy)return!0;try{return Date.prototype.toString.call(Reflect.construct(Date,[],(function(){}))),!0}catch(e){return!1}}function o(e){return(o=\"function\"===typeof Symbol&&\"symbol\"===typeof Symbol.iterator?function(e){return typeof e}:function(e){return e&&\"function\"===typeof Symbol&&e.constructor===Symbol&&e!==Symbol.prototype?\"symbol\":typeof e})(e)}n.d(t,\"a\",(function(){return l}));var u=n(11);function a(e,t){return!t||\"object\"!==o(t)&&\"function\"!==typeof t?Object(u.a)(e):t}function l(e){return function(){var t,n=r(e);if(i()){var o=r(this).constructor;t=Reflect.construct(n,arguments,o)}else t=n.apply(this,arguments);return a(this,t)}}},function(e,t,n){\"use strict\";function r(e,t){return(r=Object.setPrototypeOf||function(e,t){return e.__proto__=t,e})(e,t)}function i(e,t){if(\"function\"!==typeof t&&null!==t)throw new TypeError(\"Super expression must either be null or a function\");e.prototype=Object.create(t&&t.prototype,{constructor:{value:e,writable:!0,configurable:!0}}),t&&r(e,t)}n.d(t,\"a\",(function(){return i}))},,,,,,,,,function(e,t,n){\"use strict\";var r=Object.getOwnPropertySymbols,i=Object.prototype.hasOwnProperty,o=Object.prototype.propertyIsEnumerable;function u(e){if(null===e||void 0===e)throw new TypeError(\"Object.assign cannot be called with null or undefined\");return Object(e)}e.exports=function(){try{if(!Object.assign)return!1;var e=new String(\"abc\");if(e[5]=\"de\",\"5\"===Object.getOwnPropertyNames(e)[0])return!1;for(var t={},n=0;n<10;n++)t[\"_\"+String.fromCharCode(n)]=n;if(\"0123456789\"!==Object.getOwnPropertyNames(t).map((function(e){return t[e]})).join(\"\"))return!1;var r={};return\"abcdefghijklmnopqrst\".split(\"\").forEach((function(e){r[e]=e})),\"abcdefghijklmnopqrst\"===Object.keys(Object.assign({},r)).join(\"\")}catch(i){return!1}}()?Object.assign:function(e,t){for(var n,a,l=u(e),c=1;c<arguments.length;c++){for(var s in n=Object(arguments[c]))i.call(n,s)&&(l[s]=n[s]);if(r){a=r(n);for(var f=0;f<a.length;f++)o.call(n,a[f])&&(l[a[f]]=n[a[f]])}}return l}},,,,,,,function(e,t,n){\"use strict\";var r=n(22),i=\"function\"===typeof Symbol&&Symbol.for,o=i?Symbol.for(\"react.element\"):60103,u=i?Symbol.for(\"react.portal\"):60106,a=i?Symbol.for(\"react.fragment\"):60107,l=i?Symbol.for(\"react.strict_mode\"):60108,c=i?Symbol.for(\"react.profiler\"):60114,s=i?Symbol.for(\"react.provider\"):60109,f=i?Symbol.for(\"react.context\"):60110,d=i?Symbol.for(\"react.forward_ref\"):60112,p=i?Symbol.for(\"react.suspense\"):60113,h=i?Symbol.for(\"react.memo\"):60115,m=i?Symbol.for(\"react.lazy\"):60116,g=\"function\"===typeof Symbol&&Symbol.iterator;function v(e){for(var t=\"https://reactjs.org/docs/error-decoder.html?invariant=\"+e,n=1;n<arguments.length;n++)t+=\"&args[]=\"+encodeURIComponent(arguments[n]);return\"Minified React error #\"+e+\"; visit \"+t+\" for the full message or use the non-minified dev environment for full errors and additional helpful warnings.\"}var y={isMounted:function(){return!1},enqueueForceUpdate:function(){},enqueueReplaceState:function(){},enqueueSetState:function(){}},b={};function w(e,t,n){this.props=e,this.context=t,this.refs=b,this.updater=n||y}function x(){}function _(e,t,n){this.props=e,this.context=t,this.refs=b,this.updater=n||y}w.prototype.isReactComponent={},w.prototype.setState=function(e,t){if(\"object\"!==typeof e&&\"function\"!==typeof e&&null!=e)throw Error(v(85));this.updater.enqueueSetState(this,e,t,\"setState\")},w.prototype.forceUpdate=function(e){this.updater.enqueueForceUpdate(this,e,\"forceUpdate\")},x.prototype=w.prototype;var k=_.prototype=new x;k.constructor=_,r(k,w.prototype),k.isPureReactComponent=!0;var T={current:null},E=Object.prototype.hasOwnProperty,C={key:!0,ref:!0,__self:!0,__source:!0};function S(e,t,n){var r,i={},u=null,a=null;if(null!=t)for(r in void 0!==t.ref&&(a=t.ref),void 0!==t.key&&(u=\"\"+t.key),t)E.call(t,r)&&!C.hasOwnProperty(r)&&(i[r]=t[r]);var l=arguments.length-2;if(1===l)i.children=n;else if(1<l){for(var c=Array(l),s=0;s<l;s++)c[s]=arguments[s+2];i.children=c}if(e&&e.defaultProps)for(r in l=e.defaultProps)void 0===i[r]&&(i[r]=l[r]);return{$$typeof:o,type:e,key:u,ref:a,props:i,_owner:T.current}}function M(e){return\"object\"===typeof e&&null!==e&&e.$$typeof===o}var N=/\\/+/g,P=[];function A(e,t,n,r){if(P.length){var i=P.pop();return i.result=e,i.keyPrefix=t,i.func=n,i.context=r,i.count=0,i}return{result:e,keyPrefix:t,func:n,context:r,count:0}}function R(e){e.result=null,e.keyPrefix=null,e.func=null,e.context=null,e.count=0,10>P.length&&P.push(e)}function D(e,t,n){return null==e?0:function e(t,n,r,i){var a=typeof t;\"undefined\"!==a&&\"boolean\"!==a||(t=null);var l=!1;if(null===t)l=!0;else switch(a){case\"string\":case\"number\":l=!0;break;case\"object\":switch(t.$$typeof){case o:case u:l=!0}}if(l)return r(i,t,\"\"===n?\".\"+O(t,0):n),1;if(l=0,n=\"\"===n?\".\":n+\":\",Array.isArray(t))for(var c=0;c<t.length;c++){var s=n+O(a=t[c],c);l+=e(a,s,r,i)}else if(null===t||\"object\"!==typeof t?s=null:s=\"function\"===typeof(s=g&&t[g]||t[\"@@iterator\"])?s:null,\"function\"===typeof s)for(t=s.call(t),c=0;!(a=t.next()).done;)l+=e(a=a.value,s=n+O(a,c++),r,i);else if(\"object\"===a)throw r=\"\"+t,Error(v(31,\"[object Object]\"===r?\"object with keys {\"+Object.keys(t).join(\", \")+\"}\":r,\"\"));return l}(e,\"\",t,n)}function O(e,t){return\"object\"===typeof e&&null!==e&&null!=e.key?function(e){var t={\"=\":\"=0\",\":\":\"=2\"};return\"$\"+(\"\"+e).replace(/[=:]/g,(function(e){return t[e]}))}(e.key):t.toString(36)}function z(e,t){e.func.call(e.context,t,e.count++)}function L(e,t,n){var r=e.result,i=e.keyPrefix;e=e.func.call(e.context,t,e.count++),Array.isArray(e)?U(e,r,n,(function(e){return e})):null!=e&&(M(e)&&(e=function(e,t){return{$$typeof:o,type:e.type,key:t,ref:e.ref,props:e.props,_owner:e._owner}}(e,i+(!e.key||t&&t.key===e.key?\"\":(\"\"+e.key).replace(N,\"$&/\")+\"/\")+n)),r.push(e))}function U(e,t,n,r,i){var o=\"\";null!=n&&(o=(\"\"+n).replace(N,\"$&/\")+\"/\"),D(e,L,t=A(t,o,r,i)),R(t)}var F={current:null};function I(){var e=F.current;if(null===e)throw Error(v(321));return e}var j={ReactCurrentDispatcher:F,ReactCurrentBatchConfig:{suspense:null},ReactCurrentOwner:T,IsSomeRendererActing:{current:!1},assign:r};t.Children={map:function(e,t,n){if(null==e)return e;var r=[];return U(e,r,null,t,n),r},forEach:function(e,t,n){if(null==e)return e;D(e,z,t=A(null,null,t,n)),R(t)},count:function(e){return D(e,(function(){return null}),null)},toArray:function(e){var t=[];return U(e,t,null,(function(e){return e})),t},only:function(e){if(!M(e))throw Error(v(143));return e}},t.Component=w,t.Fragment=a,t.Profiler=c,t.PureComponent=_,t.StrictMode=l,t.Suspense=p,t.__SECRET_INTERNALS_DO_NOT_USE_OR_YOU_WILL_BE_FIRED=j,t.cloneElement=function(e,t,n){if(null===e||void 0===e)throw Error(v(267,e));var i=r({},e.props),u=e.key,a=e.ref,l=e._owner;if(null!=t){if(void 0!==t.ref&&(a=t.ref,l=T.current),void 0!==t.key&&(u=\"\"+t.key),e.type&&e.type.defaultProps)var c=e.type.defaultProps;for(s in t)E.call(t,s)&&!C.hasOwnProperty(s)&&(i[s]=void 0===t[s]&&void 0!==c?c[s]:t[s])}var s=arguments.length-2;if(1===s)i.children=n;else if(1<s){c=Array(s);for(var f=0;f<s;f++)c[f]=arguments[f+2];i.children=c}return{$$typeof:o,type:e.type,key:u,ref:a,props:i,_owner:l}},t.createContext=function(e,t){return void 0===t&&(t=null),(e={$$typeof:f,_calculateChangedBits:t,_currentValue:e,_currentValue2:e,_threadCount:0,Provider:null,Consumer:null}).Provider={$$typeof:s,_context:e},e.Consumer=e},t.createElement=S,t.createFactory=function(e){var t=S.bind(null,e);return t.type=e,t},t.createRef=function(){return{current:null}},t.forwardRef=function(e){return{$$typeof:d,render:e}},t.isValidElement=M,t.lazy=function(e){return{$$typeof:m,_ctor:e,_status:-1,_result:null}},t.memo=function(e,t){return{$$typeof:h,type:e,compare:void 0===t?null:t}},t.useCallback=function(e,t){return I().useCallback(e,t)},t.useContext=function(e,t){return I().useContext(e,t)},t.useDebugValue=function(){},t.useEffect=function(e,t){return I().useEffect(e,t)},t.useImperativeHandle=function(e,t,n){return I().useImperativeHandle(e,t,n)},t.useLayoutEffect=function(e,t){return I().useLayoutEffect(e,t)},t.useMemo=function(e,t){return I().useMemo(e,t)},t.useReducer=function(e,t,n){return I().useReducer(e,t,n)},t.useRef=function(e){return I().useRef(e)},t.useState=function(e){return I().useState(e)},t.version=\"16.13.1\"},function(e,t,n){\"use strict\";var r=n(0),i=n(22),o=n(31);function u(e){for(var t=\"https://reactjs.org/docs/error-decoder.html?invariant=\"+e,n=1;n<arguments.length;n++)t+=\"&args[]=\"+encodeURIComponent(arguments[n]);return\"Minified React error #\"+e+\"; visit \"+t+\" for the full message or use the non-minified dev environment for full errors and additional helpful warnings.\"}if(!r)throw Error(u(227));function a(e,t,n,r,i,o,u,a,l){var c=Array.prototype.slice.call(arguments,3);try{t.apply(n,c)}catch(s){this.onError(s)}}var l=!1,c=null,s=!1,f=null,d={onError:function(e){l=!0,c=e}};function p(e,t,n,r,i,o,u,s,f){l=!1,c=null,a.apply(d,arguments)}var h=null,m=null,g=null;function v(e,t,n){var r=e.type||\"unknown-event\";e.currentTarget=g(n),function(e,t,n,r,i,o,a,d,h){if(p.apply(this,arguments),l){if(!l)throw Error(u(198));var m=c;l=!1,c=null,s||(s=!0,f=m)}}(r,t,void 0,e),e.currentTarget=null}var y=null,b={};function w(){if(y)for(var e in b){var t=b[e],n=y.indexOf(e);if(!(-1<n))throw Error(u(96,e));if(!_[n]){if(!t.extractEvents)throw Error(u(97,e));for(var r in _[n]=t,n=t.eventTypes){var i=void 0,o=n[r],a=t,l=r;if(k.hasOwnProperty(l))throw Error(u(99,l));k[l]=o;var c=o.phasedRegistrationNames;if(c){for(i in c)c.hasOwnProperty(i)&&x(c[i],a,l);i=!0}else o.registrationName?(x(o.registrationName,a,l),i=!0):i=!1;if(!i)throw Error(u(98,r,e))}}}}function x(e,t,n){if(T[e])throw Error(u(100,e));T[e]=t,E[e]=t.eventTypes[n].dependencies}var _=[],k={},T={},E={};function C(e){var t,n=!1;for(t in e)if(e.hasOwnProperty(t)){var r=e[t];if(!b.hasOwnProperty(t)||b[t]!==r){if(b[t])throw Error(u(102,t));b[t]=r,n=!0}}n&&w()}var S=!(\"undefined\"===typeof window||\"undefined\"===typeof window.document||\"undefined\"===typeof window.document.createElement),M=null,N=null,P=null;function A(e){if(e=m(e)){if(\"function\"!==typeof M)throw Error(u(280));var t=e.stateNode;t&&(t=h(t),M(e.stateNode,e.type,t))}}function R(e){N?P?P.push(e):P=[e]:N=e}function D(){if(N){var e=N,t=P;if(P=N=null,A(e),t)for(e=0;e<t.length;e++)A(t[e])}}function O(e,t){return e(t)}function z(e,t,n,r,i){return e(t,n,r,i)}function L(){}var U=O,F=!1,I=!1;function j(){null===N&&null===P||(L(),D())}function H(e,t,n){if(I)return e(t,n);I=!0;try{return U(e,t,n)}finally{I=!1,j()}}var V=/^[:A-Z_a-z\\u00C0-\\u00D6\\u00D8-\\u00F6\\u00F8-\\u02FF\\u0370-\\u037D\\u037F-\\u1FFF\\u200C-\\u200D\\u2070-\\u218F\\u2C00-\\u2FEF\\u3001-\\uD7FF\\uF900-\\uFDCF\\uFDF0-\\uFFFD][:A-Z_a-z\\u00C0-\\u00D6\\u00D8-\\u00F6\\u00F8-\\u02FF\\u0370-\\u037D\\u037F-\\u1FFF\\u200C-\\u200D\\u2070-\\u218F\\u2C00-\\u2FEF\\u3001-\\uD7FF\\uF900-\\uFDCF\\uFDF0-\\uFFFD\\-.0-9\\u00B7\\u0300-\\u036F\\u203F-\\u2040]*$/,$=Object.prototype.hasOwnProperty,W={},Q={};function q(e,t,n,r,i,o){this.acceptsBooleans=2===t||3===t||4===t,this.attributeName=r,this.attributeNamespace=i,this.mustUseProperty=n,this.propertyName=e,this.type=t,this.sanitizeURL=o}var B={};\"children dangerouslySetInnerHTML defaultValue defaultChecked innerHTML suppressContentEditableWarning suppressHydrationWarning style\".split(\" \").forEach((function(e){B[e]=new q(e,0,!1,e,null,!1)})),[[\"acceptCharset\",\"accept-charset\"],[\"className\",\"class\"],[\"htmlFor\",\"for\"],[\"httpEquiv\",\"http-equiv\"]].forEach((function(e){var t=e[0];B[t]=new q(t,1,!1,e[1],null,!1)})),[\"contentEditable\",\"draggable\",\"spellCheck\",\"value\"].forEach((function(e){B[e]=new q(e,2,!1,e.toLowerCase(),null,!1)})),[\"autoReverse\",\"externalResourcesRequired\",\"focusable\",\"preserveAlpha\"].forEach((function(e){B[e]=new q(e,2,!1,e,null,!1)})),\"allowFullScreen async autoFocus autoPlay controls default defer disabled disablePictureInPicture formNoValidate hidden loop noModule noValidate open playsInline readOnly required reversed scoped seamless itemScope\".split(\" \").forEach((function(e){B[e]=new q(e,3,!1,e.toLowerCase(),null,!1)})),[\"checked\",\"multiple\",\"muted\",\"selected\"].forEach((function(e){B[e]=new q(e,3,!0,e,null,!1)})),[\"capture\",\"download\"].forEach((function(e){B[e]=new q(e,4,!1,e,null,!1)})),[\"cols\",\"rows\",\"size\",\"span\"].forEach((function(e){B[e]=new q(e,6,!1,e,null,!1)})),[\"rowSpan\",\"start\"].forEach((function(e){B[e]=new q(e,5,!1,e.toLowerCase(),null,!1)}));var Y=/[\\-:]([a-z])/g;function X(e){return e[1].toUpperCase()}\"accent-height alignment-baseline arabic-form baseline-shift cap-height clip-path clip-rule color-interpolation color-interpolation-filters color-profile color-rendering dominant-baseline enable-background fill-opacity fill-rule flood-color flood-opacity font-family font-size font-size-adjust font-stretch font-style font-variant font-weight glyph-name glyph-orientation-horizontal glyph-orientation-vertical horiz-adv-x horiz-origin-x image-rendering letter-spacing lighting-color marker-end marker-mid marker-start overline-position overline-thickness paint-order panose-1 pointer-events rendering-intent shape-rendering stop-color stop-opacity strikethrough-position strikethrough-thickness stroke-dasharray stroke-dashoffset stroke-linecap stroke-linejoin stroke-miterlimit stroke-opacity stroke-width text-anchor text-decoration text-rendering underline-position underline-thickness unicode-bidi unicode-range units-per-em v-alphabetic v-hanging v-ideographic v-mathematical vector-effect vert-adv-y vert-origin-x vert-origin-y word-spacing writing-mode xmlns:xlink x-height\".split(\" \").forEach((function(e){var t=e.replace(Y,X);B[t]=new q(t,1,!1,e,null,!1)})),\"xlink:actuate xlink:arcrole xlink:role xlink:show xlink:title xlink:type\".split(\" \").forEach((function(e){var t=e.replace(Y,X);B[t]=new q(t,1,!1,e,\"http://www.w3.org/1999/xlink\",!1)})),[\"xml:base\",\"xml:lang\",\"xml:space\"].forEach((function(e){var t=e.replace(Y,X);B[t]=new q(t,1,!1,e,\"http://www.w3.org/XML/1998/namespace\",!1)})),[\"tabIndex\",\"crossOrigin\"].forEach((function(e){B[e]=new q(e,1,!1,e.toLowerCase(),null,!1)})),B.xlinkHref=new q(\"xlinkHref\",1,!1,\"xlink:href\",\"http://www.w3.org/1999/xlink\",!0),[\"src\",\"href\",\"action\",\"formAction\"].forEach((function(e){B[e]=new q(e,1,!1,e.toLowerCase(),null,!0)}));var K=r.__SECRET_INTERNALS_DO_NOT_USE_OR_YOU_WILL_BE_FIRED;function Z(e,t,n,r){var i=B.hasOwnProperty(t)?B[t]:null;(null!==i?0===i.type:!r&&(2<t.length&&(\"o\"===t[0]||\"O\"===t[0])&&(\"n\"===t[1]||\"N\"===t[1])))||(function(e,t,n,r){if(null===t||\"undefined\"===typeof t||function(e,t,n,r){if(null!==n&&0===n.type)return!1;switch(typeof t){case\"function\":case\"symbol\":return!0;case\"boolean\":return!r&&(null!==n?!n.acceptsBooleans:\"data-\"!==(e=e.toLowerCase().slice(0,5))&&\"aria-\"!==e);default:return!1}}(e,t,n,r))return!0;if(r)return!1;if(null!==n)switch(n.type){case 3:return!t;case 4:return!1===t;case 5:return isNaN(t);case 6:return isNaN(t)||1>t}return!1}(t,n,i,r)&&(n=null),r||null===i?function(e){return!!$.call(Q,e)||!$.call(W,e)&&(V.test(e)?Q[e]=!0:(W[e]=!0,!1))}(t)&&(null===n?e.removeAttribute(t):e.setAttribute(t,\"\"+n)):i.mustUseProperty?e[i.propertyName]=null===n?3!==i.type&&\"\":n:(t=i.attributeName,r=i.attributeNamespace,null===n?e.removeAttribute(t):(n=3===(i=i.type)||4===i&&!0===n?\"\":\"\"+n,r?e.setAttributeNS(r,t,n):e.setAttribute(t,n))))}K.hasOwnProperty(\"ReactCurrentDispatcher\")||(K.ReactCurrentDispatcher={current:null}),K.hasOwnProperty(\"ReactCurrentBatchConfig\")||(K.ReactCurrentBatchConfig={suspense:null});var J=/^(.*)[\\\\\\/]/,G=\"function\"===typeof Symbol&&Symbol.for,ee=G?Symbol.for(\"react.element\"):60103,te=G?Symbol.for(\"react.portal\"):60106,ne=G?Symbol.for(\"react.fragment\"):60107,re=G?Symbol.for(\"react.strict_mode\"):60108,ie=G?Symbol.for(\"react.profiler\"):60114,oe=G?Symbol.for(\"react.provider\"):60109,ue=G?Symbol.for(\"react.context\"):60110,ae=G?Symbol.for(\"react.concurrent_mode\"):60111,le=G?Symbol.for(\"react.forward_ref\"):60112,ce=G?Symbol.for(\"react.suspense\"):60113,se=G?Symbol.for(\"react.suspense_list\"):60120,fe=G?Symbol.for(\"react.memo\"):60115,de=G?Symbol.for(\"react.lazy\"):60116,pe=G?Symbol.for(\"react.block\"):60121,he=\"function\"===typeof Symbol&&Symbol.iterator;function me(e){return null===e||\"object\"!==typeof e?null:\"function\"===typeof(e=he&&e[he]||e[\"@@iterator\"])?e:null}function ge(e){if(null==e)return null;if(\"function\"===typeof e)return e.displayName||e.name||null;if(\"string\"===typeof e)return e;switch(e){case ne:return\"Fragment\";case te:return\"Portal\";case ie:return\"Profiler\";case re:return\"StrictMode\";case ce:return\"Suspense\";case se:return\"SuspenseList\"}if(\"object\"===typeof e)switch(e.$$typeof){case ue:return\"Context.Consumer\";case oe:return\"Context.Provider\";case le:var t=e.render;return t=t.displayName||t.name||\"\",e.displayName||(\"\"!==t?\"ForwardRef(\"+t+\")\":\"ForwardRef\");case fe:return ge(e.type);case pe:return ge(e.render);case de:if(e=1===e._status?e._result:null)return ge(e)}return null}function ve(e){var t=\"\";do{e:switch(e.tag){case 3:case 4:case 6:case 7:case 10:case 9:var n=\"\";break e;default:var r=e._debugOwner,i=e._debugSource,o=ge(e.type);n=null,r&&(n=ge(r.type)),r=o,o=\"\",i?o=\" (at \"+i.fileName.replace(J,\"\")+\":\"+i.lineNumber+\")\":n&&(o=\" (created by \"+n+\")\"),n=\"\\n    in \"+(r||\"Unknown\")+o}t+=n,e=e.return}while(e);return t}function ye(e){switch(typeof e){case\"boolean\":case\"number\":case\"object\":case\"string\":case\"undefined\":return e;default:return\"\"}}function be(e){var t=e.type;return(e=e.nodeName)&&\"input\"===e.toLowerCase()&&(\"checkbox\"===t||\"radio\"===t)}function we(e){e._valueTracker||(e._valueTracker=function(e){var t=be(e)?\"checked\":\"value\",n=Object.getOwnPropertyDescriptor(e.constructor.prototype,t),r=\"\"+e[t];if(!e.hasOwnProperty(t)&&\"undefined\"!==typeof n&&\"function\"===typeof n.get&&\"function\"===typeof n.set){var i=n.get,o=n.set;return Object.defineProperty(e,t,{configurable:!0,get:function(){return i.call(this)},set:function(e){r=\"\"+e,o.call(this,e)}}),Object.defineProperty(e,t,{enumerable:n.enumerable}),{getValue:function(){return r},setValue:function(e){r=\"\"+e},stopTracking:function(){e._valueTracker=null,delete e[t]}}}}(e))}function xe(e){if(!e)return!1;var t=e._valueTracker;if(!t)return!0;var n=t.getValue(),r=\"\";return e&&(r=be(e)?e.checked?\"true\":\"false\":e.value),(e=r)!==n&&(t.setValue(e),!0)}function _e(e,t){var n=t.checked;return i({},t,{defaultChecked:void 0,defaultValue:void 0,value:void 0,checked:null!=n?n:e._wrapperState.initialChecked})}function ke(e,t){var n=null==t.defaultValue?\"\":t.defaultValue,r=null!=t.checked?t.checked:t.defaultChecked;n=ye(null!=t.value?t.value:n),e._wrapperState={initialChecked:r,initialValue:n,controlled:\"checkbox\"===t.type||\"radio\"===t.type?null!=t.checked:null!=t.value}}function Te(e,t){null!=(t=t.checked)&&Z(e,\"checked\",t,!1)}function Ee(e,t){Te(e,t);var n=ye(t.value),r=t.type;if(null!=n)\"number\"===r?(0===n&&\"\"===e.value||e.value!=n)&&(e.value=\"\"+n):e.value!==\"\"+n&&(e.value=\"\"+n);else if(\"submit\"===r||\"reset\"===r)return void e.removeAttribute(\"value\");t.hasOwnProperty(\"value\")?Se(e,t.type,n):t.hasOwnProperty(\"defaultValue\")&&Se(e,t.type,ye(t.defaultValue)),null==t.checked&&null!=t.defaultChecked&&(e.defaultChecked=!!t.defaultChecked)}function Ce(e,t,n){if(t.hasOwnProperty(\"value\")||t.hasOwnProperty(\"defaultValue\")){var r=t.type;if(!(\"submit\"!==r&&\"reset\"!==r||void 0!==t.value&&null!==t.value))return;t=\"\"+e._wrapperState.initialValue,n||t===e.value||(e.value=t),e.defaultValue=t}\"\"!==(n=e.name)&&(e.name=\"\"),e.defaultChecked=!!e._wrapperState.initialChecked,\"\"!==n&&(e.name=n)}function Se(e,t,n){\"number\"===t&&e.ownerDocument.activeElement===e||(null==n?e.defaultValue=\"\"+e._wrapperState.initialValue:e.defaultValue!==\"\"+n&&(e.defaultValue=\"\"+n))}function Me(e,t){return e=i({children:void 0},t),(t=function(e){var t=\"\";return r.Children.forEach(e,(function(e){null!=e&&(t+=e)})),t}(t.children))&&(e.children=t),e}function Ne(e,t,n,r){if(e=e.options,t){t={};for(var i=0;i<n.length;i++)t[\"$\"+n[i]]=!0;for(n=0;n<e.length;n++)i=t.hasOwnProperty(\"$\"+e[n].value),e[n].selected!==i&&(e[n].selected=i),i&&r&&(e[n].defaultSelected=!0)}else{for(n=\"\"+ye(n),t=null,i=0;i<e.length;i++){if(e[i].value===n)return e[i].selected=!0,void(r&&(e[i].defaultSelected=!0));null!==t||e[i].disabled||(t=e[i])}null!==t&&(t.selected=!0)}}function Pe(e,t){if(null!=t.dangerouslySetInnerHTML)throw Error(u(91));return i({},t,{value:void 0,defaultValue:void 0,children:\"\"+e._wrapperState.initialValue})}function Ae(e,t){var n=t.value;if(null==n){if(n=t.children,t=t.defaultValue,null!=n){if(null!=t)throw Error(u(92));if(Array.isArray(n)){if(!(1>=n.length))throw Error(u(93));n=n[0]}t=n}null==t&&(t=\"\"),n=t}e._wrapperState={initialValue:ye(n)}}function Re(e,t){var n=ye(t.value),r=ye(t.defaultValue);null!=n&&((n=\"\"+n)!==e.value&&(e.value=n),null==t.defaultValue&&e.defaultValue!==n&&(e.defaultValue=n)),null!=r&&(e.defaultValue=\"\"+r)}function De(e){var t=e.textContent;t===e._wrapperState.initialValue&&\"\"!==t&&null!==t&&(e.value=t)}var Oe=\"http://www.w3.org/1999/xhtml\",ze=\"http://www.w3.org/2000/svg\";function Le(e){switch(e){case\"svg\":return\"http://www.w3.org/2000/svg\";case\"math\":return\"http://www.w3.org/1998/Math/MathML\";default:return\"http://www.w3.org/1999/xhtml\"}}function Ue(e,t){return null==e||\"http://www.w3.org/1999/xhtml\"===e?Le(t):\"http://www.w3.org/2000/svg\"===e&&\"foreignObject\"===t?\"http://www.w3.org/1999/xhtml\":e}var Fe,Ie=function(e){return\"undefined\"!==typeof MSApp&&MSApp.execUnsafeLocalFunction?function(t,n,r,i){MSApp.execUnsafeLocalFunction((function(){return e(t,n)}))}:e}((function(e,t){if(e.namespaceURI!==ze||\"innerHTML\"in e)e.innerHTML=t;else{for((Fe=Fe||document.createElement(\"div\")).innerHTML=\"<svg>\"+t.valueOf().toString()+\"</svg>\",t=Fe.firstChild;e.firstChild;)e.removeChild(e.firstChild);for(;t.firstChild;)e.appendChild(t.firstChild)}}));function je(e,t){if(t){var n=e.firstChild;if(n&&n===e.lastChild&&3===n.nodeType)return void(n.nodeValue=t)}e.textContent=t}function He(e,t){var n={};return n[e.toLowerCase()]=t.toLowerCase(),n[\"Webkit\"+e]=\"webkit\"+t,n[\"Moz\"+e]=\"moz\"+t,n}var Ve={animationend:He(\"Animation\",\"AnimationEnd\"),animationiteration:He(\"Animation\",\"AnimationIteration\"),animationstart:He(\"Animation\",\"AnimationStart\"),transitionend:He(\"Transition\",\"TransitionEnd\")},$e={},We={};function Qe(e){if($e[e])return $e[e];if(!Ve[e])return e;var t,n=Ve[e];for(t in n)if(n.hasOwnProperty(t)&&t in We)return $e[e]=n[t];return e}S&&(We=document.createElement(\"div\").style,\"AnimationEvent\"in window||(delete Ve.animationend.animation,delete Ve.animationiteration.animation,delete Ve.animationstart.animation),\"TransitionEvent\"in window||delete Ve.transitionend.transition);var qe=Qe(\"animationend\"),Be=Qe(\"animationiteration\"),Ye=Qe(\"animationstart\"),Xe=Qe(\"transitionend\"),Ke=\"abort canplay canplaythrough durationchange emptied encrypted ended error loadeddata loadedmetadata loadstart pause play playing progress ratechange seeked seeking stalled suspend timeupdate volumechange waiting\".split(\" \"),Ze=new(\"function\"===typeof WeakMap?WeakMap:Map);function Je(e){var t=Ze.get(e);return void 0===t&&(t=new Map,Ze.set(e,t)),t}function Ge(e){var t=e,n=e;if(e.alternate)for(;t.return;)t=t.return;else{e=t;do{0!==(1026&(t=e).effectTag)&&(n=t.return),e=t.return}while(e)}return 3===t.tag?n:null}function et(e){if(13===e.tag){var t=e.memoizedState;if(null===t&&(null!==(e=e.alternate)&&(t=e.memoizedState)),null!==t)return t.dehydrated}return null}function tt(e){if(Ge(e)!==e)throw Error(u(188))}function nt(e){if(!(e=function(e){var t=e.alternate;if(!t){if(null===(t=Ge(e)))throw Error(u(188));return t!==e?null:e}for(var n=e,r=t;;){var i=n.return;if(null===i)break;var o=i.alternate;if(null===o){if(null!==(r=i.return)){n=r;continue}break}if(i.child===o.child){for(o=i.child;o;){if(o===n)return tt(i),e;if(o===r)return tt(i),t;o=o.sibling}throw Error(u(188))}if(n.return!==r.return)n=i,r=o;else{for(var a=!1,l=i.child;l;){if(l===n){a=!0,n=i,r=o;break}if(l===r){a=!0,r=i,n=o;break}l=l.sibling}if(!a){for(l=o.child;l;){if(l===n){a=!0,n=o,r=i;break}if(l===r){a=!0,r=o,n=i;break}l=l.sibling}if(!a)throw Error(u(189))}}if(n.alternate!==r)throw Error(u(190))}if(3!==n.tag)throw Error(u(188));return n.stateNode.current===n?e:t}(e)))return null;for(var t=e;;){if(5===t.tag||6===t.tag)return t;if(t.child)t.child.return=t,t=t.child;else{if(t===e)break;for(;!t.sibling;){if(!t.return||t.return===e)return null;t=t.return}t.sibling.return=t.return,t=t.sibling}}return null}function rt(e,t){if(null==t)throw Error(u(30));return null==e?t:Array.isArray(e)?Array.isArray(t)?(e.push.apply(e,t),e):(e.push(t),e):Array.isArray(t)?[e].concat(t):[e,t]}function it(e,t,n){Array.isArray(e)?e.forEach(t,n):e&&t.call(n,e)}var ot=null;function ut(e){if(e){var t=e._dispatchListeners,n=e._dispatchInstances;if(Array.isArray(t))for(var r=0;r<t.length&&!e.isPropagationStopped();r++)v(e,t[r],n[r]);else t&&v(e,t,n);e._dispatchListeners=null,e._dispatchInstances=null,e.isPersistent()||e.constructor.release(e)}}function at(e){if(null!==e&&(ot=rt(ot,e)),e=ot,ot=null,e){if(it(e,ut),ot)throw Error(u(95));if(s)throw e=f,s=!1,f=null,e}}function lt(e){return(e=e.target||e.srcElement||window).correspondingUseElement&&(e=e.correspondingUseElement),3===e.nodeType?e.parentNode:e}function ct(e){if(!S)return!1;var t=(e=\"on\"+e)in document;return t||((t=document.createElement(\"div\")).setAttribute(e,\"return;\"),t=\"function\"===typeof t[e]),t}var st=[];function ft(e){e.topLevelType=null,e.nativeEvent=null,e.targetInst=null,e.ancestors.length=0,10>st.length&&st.push(e)}function dt(e,t,n,r){if(st.length){var i=st.pop();return i.topLevelType=e,i.eventSystemFlags=r,i.nativeEvent=t,i.targetInst=n,i}return{topLevelType:e,eventSystemFlags:r,nativeEvent:t,targetInst:n,ancestors:[]}}function pt(e){var t=e.targetInst,n=t;do{if(!n){e.ancestors.push(n);break}var r=n;if(3===r.tag)r=r.stateNode.containerInfo;else{for(;r.return;)r=r.return;r=3!==r.tag?null:r.stateNode.containerInfo}if(!r)break;5!==(t=n.tag)&&6!==t||e.ancestors.push(n),n=Sn(r)}while(n);for(n=0;n<e.ancestors.length;n++){t=e.ancestors[n];var i=lt(e.nativeEvent);r=e.topLevelType;var o=e.nativeEvent,u=e.eventSystemFlags;0===n&&(u|=64);for(var a=null,l=0;l<_.length;l++){var c=_[l];c&&(c=c.extractEvents(r,t,o,i,u))&&(a=rt(a,c))}at(a)}}function ht(e,t,n){if(!n.has(e)){switch(e){case\"scroll\":Yt(t,\"scroll\",!0);break;case\"focus\":case\"blur\":Yt(t,\"focus\",!0),Yt(t,\"blur\",!0),n.set(\"blur\",null),n.set(\"focus\",null);break;case\"cancel\":case\"close\":ct(e)&&Yt(t,e,!0);break;case\"invalid\":case\"submit\":case\"reset\":break;default:-1===Ke.indexOf(e)&&Bt(e,t)}n.set(e,null)}}var mt,gt,vt,yt=!1,bt=[],wt=null,xt=null,_t=null,kt=new Map,Tt=new Map,Et=[],Ct=\"mousedown mouseup touchcancel touchend touchstart auxclick dblclick pointercancel pointerdown pointerup dragend dragstart drop compositionend compositionstart keydown keypress keyup input textInput close cancel copy cut paste click change contextmenu reset submit\".split(\" \"),St=\"focus blur dragenter dragleave mouseover mouseout pointerover pointerout gotpointercapture lostpointercapture\".split(\" \");function Mt(e,t,n,r,i){return{blockedOn:e,topLevelType:t,eventSystemFlags:32|n,nativeEvent:i,container:r}}function Nt(e,t){switch(e){case\"focus\":case\"blur\":wt=null;break;case\"dragenter\":case\"dragleave\":xt=null;break;case\"mouseover\":case\"mouseout\":_t=null;break;case\"pointerover\":case\"pointerout\":kt.delete(t.pointerId);break;case\"gotpointercapture\":case\"lostpointercapture\":Tt.delete(t.pointerId)}}function Pt(e,t,n,r,i,o){return null===e||e.nativeEvent!==o?(e=Mt(t,n,r,i,o),null!==t&&(null!==(t=Mn(t))&&gt(t)),e):(e.eventSystemFlags|=r,e)}function At(e){var t=Sn(e.target);if(null!==t){var n=Ge(t);if(null!==n)if(13===(t=n.tag)){if(null!==(t=et(n)))return e.blockedOn=t,void o.unstable_runWithPriority(e.priority,(function(){vt(n)}))}else if(3===t&&n.stateNode.hydrate)return void(e.blockedOn=3===n.tag?n.stateNode.containerInfo:null)}e.blockedOn=null}function Rt(e){if(null!==e.blockedOn)return!1;var t=Jt(e.topLevelType,e.eventSystemFlags,e.container,e.nativeEvent);if(null!==t){var n=Mn(t);return null!==n&&gt(n),e.blockedOn=t,!1}return!0}function Dt(e,t,n){Rt(e)&&n.delete(t)}function Ot(){for(yt=!1;0<bt.length;){var e=bt[0];if(null!==e.blockedOn){null!==(e=Mn(e.blockedOn))&&mt(e);break}var t=Jt(e.topLevelType,e.eventSystemFlags,e.container,e.nativeEvent);null!==t?e.blockedOn=t:bt.shift()}null!==wt&&Rt(wt)&&(wt=null),null!==xt&&Rt(xt)&&(xt=null),null!==_t&&Rt(_t)&&(_t=null),kt.forEach(Dt),Tt.forEach(Dt)}function zt(e,t){e.blockedOn===t&&(e.blockedOn=null,yt||(yt=!0,o.unstable_scheduleCallback(o.unstable_NormalPriority,Ot)))}function Lt(e){function t(t){return zt(t,e)}if(0<bt.length){zt(bt[0],e);for(var n=1;n<bt.length;n++){var r=bt[n];r.blockedOn===e&&(r.blockedOn=null)}}for(null!==wt&&zt(wt,e),null!==xt&&zt(xt,e),null!==_t&&zt(_t,e),kt.forEach(t),Tt.forEach(t),n=0;n<Et.length;n++)(r=Et[n]).blockedOn===e&&(r.blockedOn=null);for(;0<Et.length&&null===(n=Et[0]).blockedOn;)At(n),null===n.blockedOn&&Et.shift()}var Ut={},Ft=new Map,It=new Map,jt=[\"abort\",\"abort\",qe,\"animationEnd\",Be,\"animationIteration\",Ye,\"animationStart\",\"canplay\",\"canPlay\",\"canplaythrough\",\"canPlayThrough\",\"durationchange\",\"durationChange\",\"emptied\",\"emptied\",\"encrypted\",\"encrypted\",\"ended\",\"ended\",\"error\",\"error\",\"gotpointercapture\",\"gotPointerCapture\",\"load\",\"load\",\"loadeddata\",\"loadedData\",\"loadedmetadata\",\"loadedMetadata\",\"loadstart\",\"loadStart\",\"lostpointercapture\",\"lostPointerCapture\",\"playing\",\"playing\",\"progress\",\"progress\",\"seeking\",\"seeking\",\"stalled\",\"stalled\",\"suspend\",\"suspend\",\"timeupdate\",\"timeUpdate\",Xe,\"transitionEnd\",\"waiting\",\"waiting\"];function Ht(e,t){for(var n=0;n<e.length;n+=2){var r=e[n],i=e[n+1],o=\"on\"+(i[0].toUpperCase()+i.slice(1));o={phasedRegistrationNames:{bubbled:o,captured:o+\"Capture\"},dependencies:[r],eventPriority:t},It.set(r,t),Ft.set(r,o),Ut[i]=o}}Ht(\"blur blur cancel cancel click click close close contextmenu contextMenu copy copy cut cut auxclick auxClick dblclick doubleClick dragend dragEnd dragstart dragStart drop drop focus focus input input invalid invalid keydown keyDown keypress keyPress keyup keyUp mousedown mouseDown mouseup mouseUp paste paste pause pause play play pointercancel pointerCancel pointerdown pointerDown pointerup pointerUp ratechange rateChange reset reset seeked seeked submit submit touchcancel touchCancel touchend touchEnd touchstart touchStart volumechange volumeChange\".split(\" \"),0),Ht(\"drag drag dragenter dragEnter dragexit dragExit dragleave dragLeave dragover dragOver mousemove mouseMove mouseout mouseOut mouseover mouseOver pointermove pointerMove pointerout pointerOut pointerover pointerOver scroll scroll toggle toggle touchmove touchMove wheel wheel\".split(\" \"),1),Ht(jt,2);for(var Vt=\"change selectionchange textInput compositionstart compositionend compositionupdate\".split(\" \"),$t=0;$t<Vt.length;$t++)It.set(Vt[$t],0);var Wt=o.unstable_UserBlockingPriority,Qt=o.unstable_runWithPriority,qt=!0;function Bt(e,t){Yt(t,e,!1)}function Yt(e,t,n){var r=It.get(t);switch(void 0===r?2:r){case 0:r=Xt.bind(null,t,1,e);break;case 1:r=Kt.bind(null,t,1,e);break;default:r=Zt.bind(null,t,1,e)}n?e.addEventListener(t,r,!0):e.addEventListener(t,r,!1)}function Xt(e,t,n,r){F||L();var i=Zt,o=F;F=!0;try{z(i,e,t,n,r)}finally{(F=o)||j()}}function Kt(e,t,n,r){Qt(Wt,Zt.bind(null,e,t,n,r))}function Zt(e,t,n,r){if(qt)if(0<bt.length&&-1<Ct.indexOf(e))e=Mt(null,e,t,n,r),bt.push(e);else{var i=Jt(e,t,n,r);if(null===i)Nt(e,r);else if(-1<Ct.indexOf(e))e=Mt(i,e,t,n,r),bt.push(e);else if(!function(e,t,n,r,i){switch(t){case\"focus\":return wt=Pt(wt,e,t,n,r,i),!0;case\"dragenter\":return xt=Pt(xt,e,t,n,r,i),!0;case\"mouseover\":return _t=Pt(_t,e,t,n,r,i),!0;case\"pointerover\":var o=i.pointerId;return kt.set(o,Pt(kt.get(o)||null,e,t,n,r,i)),!0;case\"gotpointercapture\":return o=i.pointerId,Tt.set(o,Pt(Tt.get(o)||null,e,t,n,r,i)),!0}return!1}(i,e,t,n,r)){Nt(e,r),e=dt(e,r,null,t);try{H(pt,e)}finally{ft(e)}}}}function Jt(e,t,n,r){if(null!==(n=Sn(n=lt(r)))){var i=Ge(n);if(null===i)n=null;else{var o=i.tag;if(13===o){if(null!==(n=et(i)))return n;n=null}else if(3===o){if(i.stateNode.hydrate)return 3===i.tag?i.stateNode.containerInfo:null;n=null}else i!==n&&(n=null)}}e=dt(e,r,n,t);try{H(pt,e)}finally{ft(e)}return null}var Gt={animationIterationCount:!0,borderImageOutset:!0,borderImageSlice:!0,borderImageWidth:!0,boxFlex:!0,boxFlexGroup:!0,boxOrdinalGroup:!0,columnCount:!0,columns:!0,flex:!0,flexGrow:!0,flexPositive:!0,flexShrink:!0,flexNegative:!0,flexOrder:!0,gridArea:!0,gridRow:!0,gridRowEnd:!0,gridRowSpan:!0,gridRowStart:!0,gridColumn:!0,gridColumnEnd:!0,gridColumnSpan:!0,gridColumnStart:!0,fontWeight:!0,lineClamp:!0,lineHeight:!0,opacity:!0,order:!0,orphans:!0,tabSize:!0,widows:!0,zIndex:!0,zoom:!0,fillOpacity:!0,floodOpacity:!0,stopOpacity:!0,strokeDasharray:!0,strokeDashoffset:!0,strokeMiterlimit:!0,strokeOpacity:!0,strokeWidth:!0},en=[\"Webkit\",\"ms\",\"Moz\",\"O\"];function tn(e,t,n){return null==t||\"boolean\"===typeof t||\"\"===t?\"\":n||\"number\"!==typeof t||0===t||Gt.hasOwnProperty(e)&&Gt[e]?(\"\"+t).trim():t+\"px\"}function nn(e,t){for(var n in e=e.style,t)if(t.hasOwnProperty(n)){var r=0===n.indexOf(\"--\"),i=tn(n,t[n],r);\"float\"===n&&(n=\"cssFloat\"),r?e.setProperty(n,i):e[n]=i}}Object.keys(Gt).forEach((function(e){en.forEach((function(t){t=t+e.charAt(0).toUpperCase()+e.substring(1),Gt[t]=Gt[e]}))}));var rn=i({menuitem:!0},{area:!0,base:!0,br:!0,col:!0,embed:!0,hr:!0,img:!0,input:!0,keygen:!0,link:!0,meta:!0,param:!0,source:!0,track:!0,wbr:!0});function on(e,t){if(t){if(rn[e]&&(null!=t.children||null!=t.dangerouslySetInnerHTML))throw Error(u(137,e,\"\"));if(null!=t.dangerouslySetInnerHTML){if(null!=t.children)throw Error(u(60));if(\"object\"!==typeof t.dangerouslySetInnerHTML||!(\"__html\"in t.dangerouslySetInnerHTML))throw Error(u(61))}if(null!=t.style&&\"object\"!==typeof t.style)throw Error(u(62,\"\"))}}function un(e,t){if(-1===e.indexOf(\"-\"))return\"string\"===typeof t.is;switch(e){case\"annotation-xml\":case\"color-profile\":case\"font-face\":case\"font-face-src\":case\"font-face-uri\":case\"font-face-format\":case\"font-face-name\":case\"missing-glyph\":return!1;default:return!0}}var an=Oe;function ln(e,t){var n=Je(e=9===e.nodeType||11===e.nodeType?e:e.ownerDocument);t=E[t];for(var r=0;r<t.length;r++)ht(t[r],e,n)}function cn(){}function sn(e){if(\"undefined\"===typeof(e=e||(\"undefined\"!==typeof document?document:void 0)))return null;try{return e.activeElement||e.body}catch(t){return e.body}}function fn(e){for(;e&&e.firstChild;)e=e.firstChild;return e}function dn(e,t){var n,r=fn(e);for(e=0;r;){if(3===r.nodeType){if(n=e+r.textContent.length,e<=t&&n>=t)return{node:r,offset:t-e};e=n}e:{for(;r;){if(r.nextSibling){r=r.nextSibling;break e}r=r.parentNode}r=void 0}r=fn(r)}}function pn(){for(var e=window,t=sn();t instanceof e.HTMLIFrameElement;){try{var n=\"string\"===typeof t.contentWindow.location.href}catch(r){n=!1}if(!n)break;t=sn((e=t.contentWindow).document)}return t}function hn(e){var t=e&&e.nodeName&&e.nodeName.toLowerCase();return t&&(\"input\"===t&&(\"text\"===e.type||\"search\"===e.type||\"tel\"===e.type||\"url\"===e.type||\"password\"===e.type)||\"textarea\"===t||\"true\"===e.contentEditable)}var mn=null,gn=null;function vn(e,t){switch(e){case\"button\":case\"input\":case\"select\":case\"textarea\":return!!t.autoFocus}return!1}function yn(e,t){return\"textarea\"===e||\"option\"===e||\"noscript\"===e||\"string\"===typeof t.children||\"number\"===typeof t.children||\"object\"===typeof t.dangerouslySetInnerHTML&&null!==t.dangerouslySetInnerHTML&&null!=t.dangerouslySetInnerHTML.__html}var bn=\"function\"===typeof setTimeout?setTimeout:void 0,wn=\"function\"===typeof clearTimeout?clearTimeout:void 0;function xn(e){for(;null!=e;e=e.nextSibling){var t=e.nodeType;if(1===t||3===t)break}return e}function _n(e){e=e.previousSibling;for(var t=0;e;){if(8===e.nodeType){var n=e.data;if(\"$\"===n||\"$!\"===n||\"$?\"===n){if(0===t)return e;t--}else\"/$\"===n&&t++}e=e.previousSibling}return null}var kn=Math.random().toString(36).slice(2),Tn=\"__reactInternalInstance$\"+kn,En=\"__reactEventHandlers$\"+kn,Cn=\"__reactContainere$\"+kn;function Sn(e){var t=e[Tn];if(t)return t;for(var n=e.parentNode;n;){if(t=n[Cn]||n[Tn]){if(n=t.alternate,null!==t.child||null!==n&&null!==n.child)for(e=_n(e);null!==e;){if(n=e[Tn])return n;e=_n(e)}return t}n=(e=n).parentNode}return null}function Mn(e){return!(e=e[Tn]||e[Cn])||5!==e.tag&&6!==e.tag&&13!==e.tag&&3!==e.tag?null:e}function Nn(e){if(5===e.tag||6===e.tag)return e.stateNode;throw Error(u(33))}function Pn(e){return e[En]||null}function An(e){do{e=e.return}while(e&&5!==e.tag);return e||null}function Rn(e,t){var n=e.stateNode;if(!n)return null;var r=h(n);if(!r)return null;n=r[t];e:switch(t){case\"onClick\":case\"onClickCapture\":case\"onDoubleClick\":case\"onDoubleClickCapture\":case\"onMouseDown\":case\"onMouseDownCapture\":case\"onMouseMove\":case\"onMouseMoveCapture\":case\"onMouseUp\":case\"onMouseUpCapture\":case\"onMouseEnter\":(r=!r.disabled)||(r=!(\"button\"===(e=e.type)||\"input\"===e||\"select\"===e||\"textarea\"===e)),e=!r;break e;default:e=!1}if(e)return null;if(n&&\"function\"!==typeof n)throw Error(u(231,t,typeof n));return n}function Dn(e,t,n){(t=Rn(e,n.dispatchConfig.phasedRegistrationNames[t]))&&(n._dispatchListeners=rt(n._dispatchListeners,t),n._dispatchInstances=rt(n._dispatchInstances,e))}function On(e){if(e&&e.dispatchConfig.phasedRegistrationNames){for(var t=e._targetInst,n=[];t;)n.push(t),t=An(t);for(t=n.length;0<t--;)Dn(n[t],\"captured\",e);for(t=0;t<n.length;t++)Dn(n[t],\"bubbled\",e)}}function zn(e,t,n){e&&n&&n.dispatchConfig.registrationName&&(t=Rn(e,n.dispatchConfig.registrationName))&&(n._dispatchListeners=rt(n._dispatchListeners,t),n._dispatchInstances=rt(n._dispatchInstances,e))}function Ln(e){e&&e.dispatchConfig.registrationName&&zn(e._targetInst,null,e)}function Un(e){it(e,On)}var Fn=null,In=null,jn=null;function Hn(){if(jn)return jn;var e,t,n=In,r=n.length,i=\"value\"in Fn?Fn.value:Fn.textContent,o=i.length;for(e=0;e<r&&n[e]===i[e];e++);var u=r-e;for(t=1;t<=u&&n[r-t]===i[o-t];t++);return jn=i.slice(e,1<t?1-t:void 0)}function Vn(){return!0}function $n(){return!1}function Wn(e,t,n,r){for(var i in this.dispatchConfig=e,this._targetInst=t,this.nativeEvent=n,e=this.constructor.Interface)e.hasOwnProperty(i)&&((t=e[i])?this[i]=t(n):\"target\"===i?this.target=r:this[i]=n[i]);return this.isDefaultPrevented=(null!=n.defaultPrevented?n.defaultPrevented:!1===n.returnValue)?Vn:$n,this.isPropagationStopped=$n,this}function Qn(e,t,n,r){if(this.eventPool.length){var i=this.eventPool.pop();return this.call(i,e,t,n,r),i}return new this(e,t,n,r)}function qn(e){if(!(e instanceof this))throw Error(u(279));e.destructor(),10>this.eventPool.length&&this.eventPool.push(e)}function Bn(e){e.eventPool=[],e.getPooled=Qn,e.release=qn}i(Wn.prototype,{preventDefault:function(){this.defaultPrevented=!0;var e=this.nativeEvent;e&&(e.preventDefault?e.preventDefault():\"unknown\"!==typeof e.returnValue&&(e.returnValue=!1),this.isDefaultPrevented=Vn)},stopPropagation:function(){var e=this.nativeEvent;e&&(e.stopPropagation?e.stopPropagation():\"unknown\"!==typeof e.cancelBubble&&(e.cancelBubble=!0),this.isPropagationStopped=Vn)},persist:function(){this.isPersistent=Vn},isPersistent:$n,destructor:function(){var e,t=this.constructor.Interface;for(e in t)this[e]=null;this.nativeEvent=this._targetInst=this.dispatchConfig=null,this.isPropagationStopped=this.isDefaultPrevented=$n,this._dispatchInstances=this._dispatchListeners=null}}),Wn.Interface={type:null,target:null,currentTarget:function(){return null},eventPhase:null,bubbles:null,cancelable:null,timeStamp:function(e){return e.timeStamp||Date.now()},defaultPrevented:null,isTrusted:null},Wn.extend=function(e){function t(){}function n(){return r.apply(this,arguments)}var r=this;t.prototype=r.prototype;var o=new t;return i(o,n.prototype),n.prototype=o,n.prototype.constructor=n,n.Interface=i({},r.Interface,e),n.extend=r.extend,Bn(n),n},Bn(Wn);var Yn=Wn.extend({data:null}),Xn=Wn.extend({data:null}),Kn=[9,13,27,32],Zn=S&&\"CompositionEvent\"in window,Jn=null;S&&\"documentMode\"in document&&(Jn=document.documentMode);var Gn=S&&\"TextEvent\"in window&&!Jn,er=S&&(!Zn||Jn&&8<Jn&&11>=Jn),tr=String.fromCharCode(32),nr={beforeInput:{phasedRegistrationNames:{bubbled:\"onBeforeInput\",captured:\"onBeforeInputCapture\"},dependencies:[\"compositionend\",\"keypress\",\"textInput\",\"paste\"]},compositionEnd:{phasedRegistrationNames:{bubbled:\"onCompositionEnd\",captured:\"onCompositionEndCapture\"},dependencies:\"blur compositionend keydown keypress keyup mousedown\".split(\" \")},compositionStart:{phasedRegistrationNames:{bubbled:\"onCompositionStart\",captured:\"onCompositionStartCapture\"},dependencies:\"blur compositionstart keydown keypress keyup mousedown\".split(\" \")},compositionUpdate:{phasedRegistrationNames:{bubbled:\"onCompositionUpdate\",captured:\"onCompositionUpdateCapture\"},dependencies:\"blur compositionupdate keydown keypress keyup mousedown\".split(\" \")}},rr=!1;function ir(e,t){switch(e){case\"keyup\":return-1!==Kn.indexOf(t.keyCode);case\"keydown\":return 229!==t.keyCode;case\"keypress\":case\"mousedown\":case\"blur\":return!0;default:return!1}}function or(e){return\"object\"===typeof(e=e.detail)&&\"data\"in e?e.data:null}var ur=!1;var ar={eventTypes:nr,extractEvents:function(e,t,n,r){var i;if(Zn)e:{switch(e){case\"compositionstart\":var o=nr.compositionStart;break e;case\"compositionend\":o=nr.compositionEnd;break e;case\"compositionupdate\":o=nr.compositionUpdate;break e}o=void 0}else ur?ir(e,n)&&(o=nr.compositionEnd):\"keydown\"===e&&229===n.keyCode&&(o=nr.compositionStart);return o?(er&&\"ko\"!==n.locale&&(ur||o!==nr.compositionStart?o===nr.compositionEnd&&ur&&(i=Hn()):(In=\"value\"in(Fn=r)?Fn.value:Fn.textContent,ur=!0)),o=Yn.getPooled(o,t,n,r),i?o.data=i:null!==(i=or(n))&&(o.data=i),Un(o),i=o):i=null,(e=Gn?function(e,t){switch(e){case\"compositionend\":return or(t);case\"keypress\":return 32!==t.which?null:(rr=!0,tr);case\"textInput\":return(e=t.data)===tr&&rr?null:e;default:return null}}(e,n):function(e,t){if(ur)return\"compositionend\"===e||!Zn&&ir(e,t)?(e=Hn(),jn=In=Fn=null,ur=!1,e):null;switch(e){case\"paste\":return null;case\"keypress\":if(!(t.ctrlKey||t.altKey||t.metaKey)||t.ctrlKey&&t.altKey){if(t.char&&1<t.char.length)return t.char;if(t.which)return String.fromCharCode(t.which)}return null;case\"compositionend\":return er&&\"ko\"!==t.locale?null:t.data;default:return null}}(e,n))?((t=Xn.getPooled(nr.beforeInput,t,n,r)).data=e,Un(t)):t=null,null===i?t:null===t?i:[i,t]}},lr={color:!0,date:!0,datetime:!0,\"datetime-local\":!0,email:!0,month:!0,number:!0,password:!0,range:!0,search:!0,tel:!0,text:!0,time:!0,url:!0,week:!0};function cr(e){var t=e&&e.nodeName&&e.nodeName.toLowerCase();return\"input\"===t?!!lr[e.type]:\"textarea\"===t}var sr={change:{phasedRegistrationNames:{bubbled:\"onChange\",captured:\"onChangeCapture\"},dependencies:\"blur change click focus input keydown keyup selectionchange\".split(\" \")}};function fr(e,t,n){return(e=Wn.getPooled(sr.change,e,t,n)).type=\"change\",R(n),Un(e),e}var dr=null,pr=null;function hr(e){at(e)}function mr(e){if(xe(Nn(e)))return e}function gr(e,t){if(\"change\"===e)return t}var vr=!1;function yr(){dr&&(dr.detachEvent(\"onpropertychange\",br),pr=dr=null)}function br(e){if(\"value\"===e.propertyName&&mr(pr))if(e=fr(pr,e,lt(e)),F)at(e);else{F=!0;try{O(hr,e)}finally{F=!1,j()}}}function wr(e,t,n){\"focus\"===e?(yr(),pr=n,(dr=t).attachEvent(\"onpropertychange\",br)):\"blur\"===e&&yr()}function xr(e){if(\"selectionchange\"===e||\"keyup\"===e||\"keydown\"===e)return mr(pr)}function _r(e,t){if(\"click\"===e)return mr(t)}function kr(e,t){if(\"input\"===e||\"change\"===e)return mr(t)}S&&(vr=ct(\"input\")&&(!document.documentMode||9<document.documentMode));var Tr={eventTypes:sr,_isInputEventSupported:vr,extractEvents:function(e,t,n,r){var i=t?Nn(t):window,o=i.nodeName&&i.nodeName.toLowerCase();if(\"select\"===o||\"input\"===o&&\"file\"===i.type)var u=gr;else if(cr(i))if(vr)u=kr;else{u=xr;var a=wr}else(o=i.nodeName)&&\"input\"===o.toLowerCase()&&(\"checkbox\"===i.type||\"radio\"===i.type)&&(u=_r);if(u&&(u=u(e,t)))return fr(u,n,r);a&&a(e,i,t),\"blur\"===e&&(e=i._wrapperState)&&e.controlled&&\"number\"===i.type&&Se(i,\"number\",i.value)}},Er=Wn.extend({view:null,detail:null}),Cr={Alt:\"altKey\",Control:\"ctrlKey\",Meta:\"metaKey\",Shift:\"shiftKey\"};function Sr(e){var t=this.nativeEvent;return t.getModifierState?t.getModifierState(e):!!(e=Cr[e])&&!!t[e]}function Mr(){return Sr}var Nr=0,Pr=0,Ar=!1,Rr=!1,Dr=Er.extend({screenX:null,screenY:null,clientX:null,clientY:null,pageX:null,pageY:null,ctrlKey:null,shiftKey:null,altKey:null,metaKey:null,getModifierState:Mr,button:null,buttons:null,relatedTarget:function(e){return e.relatedTarget||(e.fromElement===e.srcElement?e.toElement:e.fromElement)},movementX:function(e){if(\"movementX\"in e)return e.movementX;var t=Nr;return Nr=e.screenX,Ar?\"mousemove\"===e.type?e.screenX-t:0:(Ar=!0,0)},movementY:function(e){if(\"movementY\"in e)return e.movementY;var t=Pr;return Pr=e.screenY,Rr?\"mousemove\"===e.type?e.screenY-t:0:(Rr=!0,0)}}),Or=Dr.extend({pointerId:null,width:null,height:null,pressure:null,tangentialPressure:null,tiltX:null,tiltY:null,twist:null,pointerType:null,isPrimary:null}),zr={mouseEnter:{registrationName:\"onMouseEnter\",dependencies:[\"mouseout\",\"mouseover\"]},mouseLeave:{registrationName:\"onMouseLeave\",dependencies:[\"mouseout\",\"mouseover\"]},pointerEnter:{registrationName:\"onPointerEnter\",dependencies:[\"pointerout\",\"pointerover\"]},pointerLeave:{registrationName:\"onPointerLeave\",dependencies:[\"pointerout\",\"pointerover\"]}},Lr={eventTypes:zr,extractEvents:function(e,t,n,r,i){var o=\"mouseover\"===e||\"pointerover\"===e,u=\"mouseout\"===e||\"pointerout\"===e;if(o&&0===(32&i)&&(n.relatedTarget||n.fromElement)||!u&&!o)return null;(o=r.window===r?r:(o=r.ownerDocument)?o.defaultView||o.parentWindow:window,u)?(u=t,null!==(t=(t=n.relatedTarget||n.toElement)?Sn(t):null)&&(t!==Ge(t)||5!==t.tag&&6!==t.tag)&&(t=null)):u=null;if(u===t)return null;if(\"mouseout\"===e||\"mouseover\"===e)var a=Dr,l=zr.mouseLeave,c=zr.mouseEnter,s=\"mouse\";else\"pointerout\"!==e&&\"pointerover\"!==e||(a=Or,l=zr.pointerLeave,c=zr.pointerEnter,s=\"pointer\");if(e=null==u?o:Nn(u),o=null==t?o:Nn(t),(l=a.getPooled(l,u,n,r)).type=s+\"leave\",l.target=e,l.relatedTarget=o,(n=a.getPooled(c,t,n,r)).type=s+\"enter\",n.target=o,n.relatedTarget=e,s=t,(r=u)&&s)e:{for(c=s,u=0,e=a=r;e;e=An(e))u++;for(e=0,t=c;t;t=An(t))e++;for(;0<u-e;)a=An(a),u--;for(;0<e-u;)c=An(c),e--;for(;u--;){if(a===c||a===c.alternate)break e;a=An(a),c=An(c)}a=null}else a=null;for(c=a,a=[];r&&r!==c&&(null===(u=r.alternate)||u!==c);)a.push(r),r=An(r);for(r=[];s&&s!==c&&(null===(u=s.alternate)||u!==c);)r.push(s),s=An(s);for(s=0;s<a.length;s++)zn(a[s],\"bubbled\",l);for(s=r.length;0<s--;)zn(r[s],\"captured\",n);return 0===(64&i)?[l]:[l,n]}};var Ur=\"function\"===typeof Object.is?Object.is:function(e,t){return e===t&&(0!==e||1/e===1/t)||e!==e&&t!==t},Fr=Object.prototype.hasOwnProperty;function Ir(e,t){if(Ur(e,t))return!0;if(\"object\"!==typeof e||null===e||\"object\"!==typeof t||null===t)return!1;var n=Object.keys(e),r=Object.keys(t);if(n.length!==r.length)return!1;for(r=0;r<n.length;r++)if(!Fr.call(t,n[r])||!Ur(e[n[r]],t[n[r]]))return!1;return!0}var jr=S&&\"documentMode\"in document&&11>=document.documentMode,Hr={select:{phasedRegistrationNames:{bubbled:\"onSelect\",captured:\"onSelectCapture\"},dependencies:\"blur contextmenu dragend focus keydown keyup mousedown mouseup selectionchange\".split(\" \")}},Vr=null,$r=null,Wr=null,Qr=!1;function qr(e,t){var n=t.window===t?t.document:9===t.nodeType?t:t.ownerDocument;return Qr||null==Vr||Vr!==sn(n)?null:(\"selectionStart\"in(n=Vr)&&hn(n)?n={start:n.selectionStart,end:n.selectionEnd}:n={anchorNode:(n=(n.ownerDocument&&n.ownerDocument.defaultView||window).getSelection()).anchorNode,anchorOffset:n.anchorOffset,focusNode:n.focusNode,focusOffset:n.focusOffset},Wr&&Ir(Wr,n)?null:(Wr=n,(e=Wn.getPooled(Hr.select,$r,e,t)).type=\"select\",e.target=Vr,Un(e),e))}var Br={eventTypes:Hr,extractEvents:function(e,t,n,r,i,o){if(!(o=!(i=o||(r.window===r?r.document:9===r.nodeType?r:r.ownerDocument)))){e:{i=Je(i),o=E.onSelect;for(var u=0;u<o.length;u++)if(!i.has(o[u])){i=!1;break e}i=!0}o=!i}if(o)return null;switch(i=t?Nn(t):window,e){case\"focus\":(cr(i)||\"true\"===i.contentEditable)&&(Vr=i,$r=t,Wr=null);break;case\"blur\":Wr=$r=Vr=null;break;case\"mousedown\":Qr=!0;break;case\"contextmenu\":case\"mouseup\":case\"dragend\":return Qr=!1,qr(n,r);case\"selectionchange\":if(jr)break;case\"keydown\":case\"keyup\":return qr(n,r)}return null}},Yr=Wn.extend({animationName:null,elapsedTime:null,pseudoElement:null}),Xr=Wn.extend({clipboardData:function(e){return\"clipboardData\"in e?e.clipboardData:window.clipboardData}}),Kr=Er.extend({relatedTarget:null});function Zr(e){var t=e.keyCode;return\"charCode\"in e?0===(e=e.charCode)&&13===t&&(e=13):e=t,10===e&&(e=13),32<=e||13===e?e:0}var Jr={Esc:\"Escape\",Spacebar:\" \",Left:\"ArrowLeft\",Up:\"ArrowUp\",Right:\"ArrowRight\",Down:\"ArrowDown\",Del:\"Delete\",Win:\"OS\",Menu:\"ContextMenu\",Apps:\"ContextMenu\",Scroll:\"ScrollLock\",MozPrintableKey:\"Unidentified\"},Gr={8:\"Backspace\",9:\"Tab\",12:\"Clear\",13:\"Enter\",16:\"Shift\",17:\"Control\",18:\"Alt\",19:\"Pause\",20:\"CapsLock\",27:\"Escape\",32:\" \",33:\"PageUp\",34:\"PageDown\",35:\"End\",36:\"Home\",37:\"ArrowLeft\",38:\"ArrowUp\",39:\"ArrowRight\",40:\"ArrowDown\",45:\"Insert\",46:\"Delete\",112:\"F1\",113:\"F2\",114:\"F3\",115:\"F4\",116:\"F5\",117:\"F6\",118:\"F7\",119:\"F8\",120:\"F9\",121:\"F10\",122:\"F11\",123:\"F12\",144:\"NumLock\",145:\"ScrollLock\",224:\"Meta\"},ei=Er.extend({key:function(e){if(e.key){var t=Jr[e.key]||e.key;if(\"Unidentified\"!==t)return t}return\"keypress\"===e.type?13===(e=Zr(e))?\"Enter\":String.fromCharCode(e):\"keydown\"===e.type||\"keyup\"===e.type?Gr[e.keyCode]||\"Unidentified\":\"\"},location:null,ctrlKey:null,shiftKey:null,altKey:null,metaKey:null,repeat:null,locale:null,getModifierState:Mr,charCode:function(e){return\"keypress\"===e.type?Zr(e):0},keyCode:function(e){return\"keydown\"===e.type||\"keyup\"===e.type?e.keyCode:0},which:function(e){return\"keypress\"===e.type?Zr(e):\"keydown\"===e.type||\"keyup\"===e.type?e.keyCode:0}}),ti=Dr.extend({dataTransfer:null}),ni=Er.extend({touches:null,targetTouches:null,changedTouches:null,altKey:null,metaKey:null,ctrlKey:null,shiftKey:null,getModifierState:Mr}),ri=Wn.extend({propertyName:null,elapsedTime:null,pseudoElement:null}),ii=Dr.extend({deltaX:function(e){return\"deltaX\"in e?e.deltaX:\"wheelDeltaX\"in e?-e.wheelDeltaX:0},deltaY:function(e){return\"deltaY\"in e?e.deltaY:\"wheelDeltaY\"in e?-e.wheelDeltaY:\"wheelDelta\"in e?-e.wheelDelta:0},deltaZ:null,deltaMode:null}),oi={eventTypes:Ut,extractEvents:function(e,t,n,r){var i=Ft.get(e);if(!i)return null;switch(e){case\"keypress\":if(0===Zr(n))return null;case\"keydown\":case\"keyup\":e=ei;break;case\"blur\":case\"focus\":e=Kr;break;case\"click\":if(2===n.button)return null;case\"auxclick\":case\"dblclick\":case\"mousedown\":case\"mousemove\":case\"mouseup\":case\"mouseout\":case\"mouseover\":case\"contextmenu\":e=Dr;break;case\"drag\":case\"dragend\":case\"dragenter\":case\"dragexit\":case\"dragleave\":case\"dragover\":case\"dragstart\":case\"drop\":e=ti;break;case\"touchcancel\":case\"touchend\":case\"touchmove\":case\"touchstart\":e=ni;break;case qe:case Be:case Ye:e=Yr;break;case Xe:e=ri;break;case\"scroll\":e=Er;break;case\"wheel\":e=ii;break;case\"copy\":case\"cut\":case\"paste\":e=Xr;break;case\"gotpointercapture\":case\"lostpointercapture\":case\"pointercancel\":case\"pointerdown\":case\"pointermove\":case\"pointerout\":case\"pointerover\":case\"pointerup\":e=Or;break;default:e=Wn}return Un(t=e.getPooled(i,t,n,r)),t}};if(y)throw Error(u(101));y=Array.prototype.slice.call(\"ResponderEventPlugin SimpleEventPlugin EnterLeaveEventPlugin ChangeEventPlugin SelectEventPlugin BeforeInputEventPlugin\".split(\" \")),w(),h=Pn,m=Mn,g=Nn,C({SimpleEventPlugin:oi,EnterLeaveEventPlugin:Lr,ChangeEventPlugin:Tr,SelectEventPlugin:Br,BeforeInputEventPlugin:ar});var ui=[],ai=-1;function li(e){0>ai||(e.current=ui[ai],ui[ai]=null,ai--)}function ci(e,t){ai++,ui[ai]=e.current,e.current=t}var si={},fi={current:si},di={current:!1},pi=si;function hi(e,t){var n=e.type.contextTypes;if(!n)return si;var r=e.stateNode;if(r&&r.__reactInternalMemoizedUnmaskedChildContext===t)return r.__reactInternalMemoizedMaskedChildContext;var i,o={};for(i in n)o[i]=t[i];return r&&((e=e.stateNode).__reactInternalMemoizedUnmaskedChildContext=t,e.__reactInternalMemoizedMaskedChildContext=o),o}function mi(e){return null!==(e=e.childContextTypes)&&void 0!==e}function gi(){li(di),li(fi)}function vi(e,t,n){if(fi.current!==si)throw Error(u(168));ci(fi,t),ci(di,n)}function yi(e,t,n){var r=e.stateNode;if(e=t.childContextTypes,\"function\"!==typeof r.getChildContext)return n;for(var o in r=r.getChildContext())if(!(o in e))throw Error(u(108,ge(t)||\"Unknown\",o));return i({},n,{},r)}function bi(e){return e=(e=e.stateNode)&&e.__reactInternalMemoizedMergedChildContext||si,pi=fi.current,ci(fi,e),ci(di,di.current),!0}function wi(e,t,n){var r=e.stateNode;if(!r)throw Error(u(169));n?(e=yi(e,t,pi),r.__reactInternalMemoizedMergedChildContext=e,li(di),li(fi),ci(fi,e)):li(di),ci(di,n)}var xi=o.unstable_runWithPriority,_i=o.unstable_scheduleCallback,ki=o.unstable_cancelCallback,Ti=o.unstable_requestPaint,Ei=o.unstable_now,Ci=o.unstable_getCurrentPriorityLevel,Si=o.unstable_ImmediatePriority,Mi=o.unstable_UserBlockingPriority,Ni=o.unstable_NormalPriority,Pi=o.unstable_LowPriority,Ai=o.unstable_IdlePriority,Ri={},Di=o.unstable_shouldYield,Oi=void 0!==Ti?Ti:function(){},zi=null,Li=null,Ui=!1,Fi=Ei(),Ii=1e4>Fi?Ei:function(){return Ei()-Fi};function ji(){switch(Ci()){case Si:return 99;case Mi:return 98;case Ni:return 97;case Pi:return 96;case Ai:return 95;default:throw Error(u(332))}}function Hi(e){switch(e){case 99:return Si;case 98:return Mi;case 97:return Ni;case 96:return Pi;case 95:return Ai;default:throw Error(u(332))}}function Vi(e,t){return e=Hi(e),xi(e,t)}function $i(e,t,n){return e=Hi(e),_i(e,t,n)}function Wi(e){return null===zi?(zi=[e],Li=_i(Si,qi)):zi.push(e),Ri}function Qi(){if(null!==Li){var e=Li;Li=null,ki(e)}qi()}function qi(){if(!Ui&&null!==zi){Ui=!0;var e=0;try{var t=zi;Vi(99,(function(){for(;e<t.length;e++){var n=t[e];do{n=n(!0)}while(null!==n)}})),zi=null}catch(n){throw null!==zi&&(zi=zi.slice(e+1)),_i(Si,Qi),n}finally{Ui=!1}}}function Bi(e,t,n){return 1073741821-(1+((1073741821-e+t/10)/(n/=10)|0))*n}function Yi(e,t){if(e&&e.defaultProps)for(var n in t=i({},t),e=e.defaultProps)void 0===t[n]&&(t[n]=e[n]);return t}var Xi={current:null},Ki=null,Zi=null,Ji=null;function Gi(){Ji=Zi=Ki=null}function eo(e){var t=Xi.current;li(Xi),e.type._context._currentValue=t}function to(e,t){for(;null!==e;){var n=e.alternate;if(e.childExpirationTime<t)e.childExpirationTime=t,null!==n&&n.childExpirationTime<t&&(n.childExpirationTime=t);else{if(!(null!==n&&n.childExpirationTime<t))break;n.childExpirationTime=t}e=e.return}}function no(e,t){Ki=e,Ji=Zi=null,null!==(e=e.dependencies)&&null!==e.firstContext&&(e.expirationTime>=t&&(Pu=!0),e.firstContext=null)}function ro(e,t){if(Ji!==e&&!1!==t&&0!==t)if(\"number\"===typeof t&&1073741823!==t||(Ji=e,t=1073741823),t={context:e,observedBits:t,next:null},null===Zi){if(null===Ki)throw Error(u(308));Zi=t,Ki.dependencies={expirationTime:0,firstContext:t,responders:null}}else Zi=Zi.next=t;return e._currentValue}var io=!1;function oo(e){e.updateQueue={baseState:e.memoizedState,baseQueue:null,shared:{pending:null},effects:null}}function uo(e,t){e=e.updateQueue,t.updateQueue===e&&(t.updateQueue={baseState:e.baseState,baseQueue:e.baseQueue,shared:e.shared,effects:e.effects})}function ao(e,t){return(e={expirationTime:e,suspenseConfig:t,tag:0,payload:null,callback:null,next:null}).next=e}function lo(e,t){if(null!==(e=e.updateQueue)){var n=(e=e.shared).pending;null===n?t.next=t:(t.next=n.next,n.next=t),e.pending=t}}function co(e,t){var n=e.alternate;null!==n&&uo(n,e),null===(n=(e=e.updateQueue).baseQueue)?(e.baseQueue=t.next=t,t.next=t):(t.next=n.next,n.next=t)}function so(e,t,n,r){var o=e.updateQueue;io=!1;var u=o.baseQueue,a=o.shared.pending;if(null!==a){if(null!==u){var l=u.next;u.next=a.next,a.next=l}u=a,o.shared.pending=null,null!==(l=e.alternate)&&(null!==(l=l.updateQueue)&&(l.baseQueue=a))}if(null!==u){l=u.next;var c=o.baseState,s=0,f=null,d=null,p=null;if(null!==l)for(var h=l;;){if((a=h.expirationTime)<r){var m={expirationTime:h.expirationTime,suspenseConfig:h.suspenseConfig,tag:h.tag,payload:h.payload,callback:h.callback,next:null};null===p?(d=p=m,f=c):p=p.next=m,a>s&&(s=a)}else{null!==p&&(p=p.next={expirationTime:1073741823,suspenseConfig:h.suspenseConfig,tag:h.tag,payload:h.payload,callback:h.callback,next:null}),ol(a,h.suspenseConfig);e:{var g=e,v=h;switch(a=t,m=n,v.tag){case 1:if(\"function\"===typeof(g=v.payload)){c=g.call(m,c,a);break e}c=g;break e;case 3:g.effectTag=-4097&g.effectTag|64;case 0:if(null===(a=\"function\"===typeof(g=v.payload)?g.call(m,c,a):g)||void 0===a)break e;c=i({},c,a);break e;case 2:io=!0}}null!==h.callback&&(e.effectTag|=32,null===(a=o.effects)?o.effects=[h]:a.push(h))}if(null===(h=h.next)||h===l){if(null===(a=o.shared.pending))break;h=u.next=a.next,a.next=l,o.baseQueue=u=a,o.shared.pending=null}}null===p?f=c:p.next=d,o.baseState=f,o.baseQueue=p,ul(s),e.expirationTime=s,e.memoizedState=c}}function fo(e,t,n){if(e=t.effects,t.effects=null,null!==e)for(t=0;t<e.length;t++){var r=e[t],i=r.callback;if(null!==i){if(r.callback=null,r=i,i=n,\"function\"!==typeof r)throw Error(u(191,r));r.call(i)}}}var po=K.ReactCurrentBatchConfig,ho=(new r.Component).refs;function mo(e,t,n,r){n=null===(n=n(r,t=e.memoizedState))||void 0===n?t:i({},t,n),e.memoizedState=n,0===e.expirationTime&&(e.updateQueue.baseState=n)}var go={isMounted:function(e){return!!(e=e._reactInternalFiber)&&Ge(e)===e},enqueueSetState:function(e,t,n){e=e._reactInternalFiber;var r=qa(),i=po.suspense;(i=ao(r=Ba(r,e,i),i)).payload=t,void 0!==n&&null!==n&&(i.callback=n),lo(e,i),Ya(e,r)},enqueueReplaceState:function(e,t,n){e=e._reactInternalFiber;var r=qa(),i=po.suspense;(i=ao(r=Ba(r,e,i),i)).tag=1,i.payload=t,void 0!==n&&null!==n&&(i.callback=n),lo(e,i),Ya(e,r)},enqueueForceUpdate:function(e,t){e=e._reactInternalFiber;var n=qa(),r=po.suspense;(r=ao(n=Ba(n,e,r),r)).tag=2,void 0!==t&&null!==t&&(r.callback=t),lo(e,r),Ya(e,n)}};function vo(e,t,n,r,i,o,u){return\"function\"===typeof(e=e.stateNode).shouldComponentUpdate?e.shouldComponentUpdate(r,o,u):!t.prototype||!t.prototype.isPureReactComponent||(!Ir(n,r)||!Ir(i,o))}function yo(e,t,n){var r=!1,i=si,o=t.contextType;return\"object\"===typeof o&&null!==o?o=ro(o):(i=mi(t)?pi:fi.current,o=(r=null!==(r=t.contextTypes)&&void 0!==r)?hi(e,i):si),t=new t(n,o),e.memoizedState=null!==t.state&&void 0!==t.state?t.state:null,t.updater=go,e.stateNode=t,t._reactInternalFiber=e,r&&((e=e.stateNode).__reactInternalMemoizedUnmaskedChildContext=i,e.__reactInternalMemoizedMaskedChildContext=o),t}function bo(e,t,n,r){e=t.state,\"function\"===typeof t.componentWillReceiveProps&&t.componentWillReceiveProps(n,r),\"function\"===typeof t.UNSAFE_componentWillReceiveProps&&t.UNSAFE_componentWillReceiveProps(n,r),t.state!==e&&go.enqueueReplaceState(t,t.state,null)}function wo(e,t,n,r){var i=e.stateNode;i.props=n,i.state=e.memoizedState,i.refs=ho,oo(e);var o=t.contextType;\"object\"===typeof o&&null!==o?i.context=ro(o):(o=mi(t)?pi:fi.current,i.context=hi(e,o)),so(e,n,i,r),i.state=e.memoizedState,\"function\"===typeof(o=t.getDerivedStateFromProps)&&(mo(e,t,o,n),i.state=e.memoizedState),\"function\"===typeof t.getDerivedStateFromProps||\"function\"===typeof i.getSnapshotBeforeUpdate||\"function\"!==typeof i.UNSAFE_componentWillMount&&\"function\"!==typeof i.componentWillMount||(t=i.state,\"function\"===typeof i.componentWillMount&&i.componentWillMount(),\"function\"===typeof i.UNSAFE_componentWillMount&&i.UNSAFE_componentWillMount(),t!==i.state&&go.enqueueReplaceState(i,i.state,null),so(e,n,i,r),i.state=e.memoizedState),\"function\"===typeof i.componentDidMount&&(e.effectTag|=4)}var xo=Array.isArray;function _o(e,t,n){if(null!==(e=n.ref)&&\"function\"!==typeof e&&\"object\"!==typeof e){if(n._owner){if(n=n._owner){if(1!==n.tag)throw Error(u(309));var r=n.stateNode}if(!r)throw Error(u(147,e));var i=\"\"+e;return null!==t&&null!==t.ref&&\"function\"===typeof t.ref&&t.ref._stringRef===i?t.ref:((t=function(e){var t=r.refs;t===ho&&(t=r.refs={}),null===e?delete t[i]:t[i]=e})._stringRef=i,t)}if(\"string\"!==typeof e)throw Error(u(284));if(!n._owner)throw Error(u(290,e))}return e}function ko(e,t){if(\"textarea\"!==e.type)throw Error(u(31,\"[object Object]\"===Object.prototype.toString.call(t)?\"object with keys {\"+Object.keys(t).join(\", \")+\"}\":t,\"\"))}function To(e){function t(t,n){if(e){var r=t.lastEffect;null!==r?(r.nextEffect=n,t.lastEffect=n):t.firstEffect=t.lastEffect=n,n.nextEffect=null,n.effectTag=8}}function n(n,r){if(!e)return null;for(;null!==r;)t(n,r),r=r.sibling;return null}function r(e,t){for(e=new Map;null!==t;)null!==t.key?e.set(t.key,t):e.set(t.index,t),t=t.sibling;return e}function i(e,t){return(e=Cl(e,t)).index=0,e.sibling=null,e}function o(t,n,r){return t.index=r,e?null!==(r=t.alternate)?(r=r.index)<n?(t.effectTag=2,n):r:(t.effectTag=2,n):n}function a(t){return e&&null===t.alternate&&(t.effectTag=2),t}function l(e,t,n,r){return null===t||6!==t.tag?((t=Nl(n,e.mode,r)).return=e,t):((t=i(t,n)).return=e,t)}function c(e,t,n,r){return null!==t&&t.elementType===n.type?((r=i(t,n.props)).ref=_o(e,t,n),r.return=e,r):((r=Sl(n.type,n.key,n.props,null,e.mode,r)).ref=_o(e,t,n),r.return=e,r)}function s(e,t,n,r){return null===t||4!==t.tag||t.stateNode.containerInfo!==n.containerInfo||t.stateNode.implementation!==n.implementation?((t=Pl(n,e.mode,r)).return=e,t):((t=i(t,n.children||[])).return=e,t)}function f(e,t,n,r,o){return null===t||7!==t.tag?((t=Ml(n,e.mode,r,o)).return=e,t):((t=i(t,n)).return=e,t)}function d(e,t,n){if(\"string\"===typeof t||\"number\"===typeof t)return(t=Nl(\"\"+t,e.mode,n)).return=e,t;if(\"object\"===typeof t&&null!==t){switch(t.$$typeof){case ee:return(n=Sl(t.type,t.key,t.props,null,e.mode,n)).ref=_o(e,null,t),n.return=e,n;case te:return(t=Pl(t,e.mode,n)).return=e,t}if(xo(t)||me(t))return(t=Ml(t,e.mode,n,null)).return=e,t;ko(e,t)}return null}function p(e,t,n,r){var i=null!==t?t.key:null;if(\"string\"===typeof n||\"number\"===typeof n)return null!==i?null:l(e,t,\"\"+n,r);if(\"object\"===typeof n&&null!==n){switch(n.$$typeof){case ee:return n.key===i?n.type===ne?f(e,t,n.props.children,r,i):c(e,t,n,r):null;case te:return n.key===i?s(e,t,n,r):null}if(xo(n)||me(n))return null!==i?null:f(e,t,n,r,null);ko(e,n)}return null}function h(e,t,n,r,i){if(\"string\"===typeof r||\"number\"===typeof r)return l(t,e=e.get(n)||null,\"\"+r,i);if(\"object\"===typeof r&&null!==r){switch(r.$$typeof){case ee:return e=e.get(null===r.key?n:r.key)||null,r.type===ne?f(t,e,r.props.children,i,r.key):c(t,e,r,i);case te:return s(t,e=e.get(null===r.key?n:r.key)||null,r,i)}if(xo(r)||me(r))return f(t,e=e.get(n)||null,r,i,null);ko(t,r)}return null}function m(i,u,a,l){for(var c=null,s=null,f=u,m=u=0,g=null;null!==f&&m<a.length;m++){f.index>m?(g=f,f=null):g=f.sibling;var v=p(i,f,a[m],l);if(null===v){null===f&&(f=g);break}e&&f&&null===v.alternate&&t(i,f),u=o(v,u,m),null===s?c=v:s.sibling=v,s=v,f=g}if(m===a.length)return n(i,f),c;if(null===f){for(;m<a.length;m++)null!==(f=d(i,a[m],l))&&(u=o(f,u,m),null===s?c=f:s.sibling=f,s=f);return c}for(f=r(i,f);m<a.length;m++)null!==(g=h(f,i,m,a[m],l))&&(e&&null!==g.alternate&&f.delete(null===g.key?m:g.key),u=o(g,u,m),null===s?c=g:s.sibling=g,s=g);return e&&f.forEach((function(e){return t(i,e)})),c}function g(i,a,l,c){var s=me(l);if(\"function\"!==typeof s)throw Error(u(150));if(null==(l=s.call(l)))throw Error(u(151));for(var f=s=null,m=a,g=a=0,v=null,y=l.next();null!==m&&!y.done;g++,y=l.next()){m.index>g?(v=m,m=null):v=m.sibling;var b=p(i,m,y.value,c);if(null===b){null===m&&(m=v);break}e&&m&&null===b.alternate&&t(i,m),a=o(b,a,g),null===f?s=b:f.sibling=b,f=b,m=v}if(y.done)return n(i,m),s;if(null===m){for(;!y.done;g++,y=l.next())null!==(y=d(i,y.value,c))&&(a=o(y,a,g),null===f?s=y:f.sibling=y,f=y);return s}for(m=r(i,m);!y.done;g++,y=l.next())null!==(y=h(m,i,g,y.value,c))&&(e&&null!==y.alternate&&m.delete(null===y.key?g:y.key),a=o(y,a,g),null===f?s=y:f.sibling=y,f=y);return e&&m.forEach((function(e){return t(i,e)})),s}return function(e,r,o,l){var c=\"object\"===typeof o&&null!==o&&o.type===ne&&null===o.key;c&&(o=o.props.children);var s=\"object\"===typeof o&&null!==o;if(s)switch(o.$$typeof){case ee:e:{for(s=o.key,c=r;null!==c;){if(c.key===s){switch(c.tag){case 7:if(o.type===ne){n(e,c.sibling),(r=i(c,o.props.children)).return=e,e=r;break e}break;default:if(c.elementType===o.type){n(e,c.sibling),(r=i(c,o.props)).ref=_o(e,c,o),r.return=e,e=r;break e}}n(e,c);break}t(e,c),c=c.sibling}o.type===ne?((r=Ml(o.props.children,e.mode,l,o.key)).return=e,e=r):((l=Sl(o.type,o.key,o.props,null,e.mode,l)).ref=_o(e,r,o),l.return=e,e=l)}return a(e);case te:e:{for(c=o.key;null!==r;){if(r.key===c){if(4===r.tag&&r.stateNode.containerInfo===o.containerInfo&&r.stateNode.implementation===o.implementation){n(e,r.sibling),(r=i(r,o.children||[])).return=e,e=r;break e}n(e,r);break}t(e,r),r=r.sibling}(r=Pl(o,e.mode,l)).return=e,e=r}return a(e)}if(\"string\"===typeof o||\"number\"===typeof o)return o=\"\"+o,null!==r&&6===r.tag?(n(e,r.sibling),(r=i(r,o)).return=e,e=r):(n(e,r),(r=Nl(o,e.mode,l)).return=e,e=r),a(e);if(xo(o))return m(e,r,o,l);if(me(o))return g(e,r,o,l);if(s&&ko(e,o),\"undefined\"===typeof o&&!c)switch(e.tag){case 1:case 0:throw e=e.type,Error(u(152,e.displayName||e.name||\"Component\"))}return n(e,r)}}var Eo=To(!0),Co=To(!1),So={},Mo={current:So},No={current:So},Po={current:So};function Ao(e){if(e===So)throw Error(u(174));return e}function Ro(e,t){switch(ci(Po,t),ci(No,e),ci(Mo,So),e=t.nodeType){case 9:case 11:t=(t=t.documentElement)?t.namespaceURI:Ue(null,\"\");break;default:t=Ue(t=(e=8===e?t.parentNode:t).namespaceURI||null,e=e.tagName)}li(Mo),ci(Mo,t)}function Do(){li(Mo),li(No),li(Po)}function Oo(e){Ao(Po.current);var t=Ao(Mo.current),n=Ue(t,e.type);t!==n&&(ci(No,e),ci(Mo,n))}function zo(e){No.current===e&&(li(Mo),li(No))}var Lo={current:0};function Uo(e){for(var t=e;null!==t;){if(13===t.tag){var n=t.memoizedState;if(null!==n&&(null===(n=n.dehydrated)||\"$?\"===n.data||\"$!\"===n.data))return t}else if(19===t.tag&&void 0!==t.memoizedProps.revealOrder){if(0!==(64&t.effectTag))return t}else if(null!==t.child){t.child.return=t,t=t.child;continue}if(t===e)break;for(;null===t.sibling;){if(null===t.return||t.return===e)return null;t=t.return}t.sibling.return=t.return,t=t.sibling}return null}function Fo(e,t){return{responder:e,props:t}}var Io=K.ReactCurrentDispatcher,jo=K.ReactCurrentBatchConfig,Ho=0,Vo=null,$o=null,Wo=null,Qo=!1;function qo(){throw Error(u(321))}function Bo(e,t){if(null===t)return!1;for(var n=0;n<t.length&&n<e.length;n++)if(!Ur(e[n],t[n]))return!1;return!0}function Yo(e,t,n,r,i,o){if(Ho=o,Vo=t,t.memoizedState=null,t.updateQueue=null,t.expirationTime=0,Io.current=null===e||null===e.memoizedState?vu:yu,e=n(r,i),t.expirationTime===Ho){o=0;do{if(t.expirationTime=0,!(25>o))throw Error(u(301));o+=1,Wo=$o=null,t.updateQueue=null,Io.current=bu,e=n(r,i)}while(t.expirationTime===Ho)}if(Io.current=gu,t=null!==$o&&null!==$o.next,Ho=0,Wo=$o=Vo=null,Qo=!1,t)throw Error(u(300));return e}function Xo(){var e={memoizedState:null,baseState:null,baseQueue:null,queue:null,next:null};return null===Wo?Vo.memoizedState=Wo=e:Wo=Wo.next=e,Wo}function Ko(){if(null===$o){var e=Vo.alternate;e=null!==e?e.memoizedState:null}else e=$o.next;var t=null===Wo?Vo.memoizedState:Wo.next;if(null!==t)Wo=t,$o=e;else{if(null===e)throw Error(u(310));e={memoizedState:($o=e).memoizedState,baseState:$o.baseState,baseQueue:$o.baseQueue,queue:$o.queue,next:null},null===Wo?Vo.memoizedState=Wo=e:Wo=Wo.next=e}return Wo}function Zo(e,t){return\"function\"===typeof t?t(e):t}function Jo(e){var t=Ko(),n=t.queue;if(null===n)throw Error(u(311));n.lastRenderedReducer=e;var r=$o,i=r.baseQueue,o=n.pending;if(null!==o){if(null!==i){var a=i.next;i.next=o.next,o.next=a}r.baseQueue=i=o,n.pending=null}if(null!==i){i=i.next,r=r.baseState;var l=a=o=null,c=i;do{var s=c.expirationTime;if(s<Ho){var f={expirationTime:c.expirationTime,suspenseConfig:c.suspenseConfig,action:c.action,eagerReducer:c.eagerReducer,eagerState:c.eagerState,next:null};null===l?(a=l=f,o=r):l=l.next=f,s>Vo.expirationTime&&(Vo.expirationTime=s,ul(s))}else null!==l&&(l=l.next={expirationTime:1073741823,suspenseConfig:c.suspenseConfig,action:c.action,eagerReducer:c.eagerReducer,eagerState:c.eagerState,next:null}),ol(s,c.suspenseConfig),r=c.eagerReducer===e?c.eagerState:e(r,c.action);c=c.next}while(null!==c&&c!==i);null===l?o=r:l.next=a,Ur(r,t.memoizedState)||(Pu=!0),t.memoizedState=r,t.baseState=o,t.baseQueue=l,n.lastRenderedState=r}return[t.memoizedState,n.dispatch]}function Go(e){var t=Ko(),n=t.queue;if(null===n)throw Error(u(311));n.lastRenderedReducer=e;var r=n.dispatch,i=n.pending,o=t.memoizedState;if(null!==i){n.pending=null;var a=i=i.next;do{o=e(o,a.action),a=a.next}while(a!==i);Ur(o,t.memoizedState)||(Pu=!0),t.memoizedState=o,null===t.baseQueue&&(t.baseState=o),n.lastRenderedState=o}return[o,r]}function eu(e){var t=Xo();return\"function\"===typeof e&&(e=e()),t.memoizedState=t.baseState=e,e=(e=t.queue={pending:null,dispatch:null,lastRenderedReducer:Zo,lastRenderedState:e}).dispatch=mu.bind(null,Vo,e),[t.memoizedState,e]}function tu(e,t,n,r){return e={tag:e,create:t,destroy:n,deps:r,next:null},null===(t=Vo.updateQueue)?(t={lastEffect:null},Vo.updateQueue=t,t.lastEffect=e.next=e):null===(n=t.lastEffect)?t.lastEffect=e.next=e:(r=n.next,n.next=e,e.next=r,t.lastEffect=e),e}function nu(){return Ko().memoizedState}function ru(e,t,n,r){var i=Xo();Vo.effectTag|=e,i.memoizedState=tu(1|t,n,void 0,void 0===r?null:r)}function iu(e,t,n,r){var i=Ko();r=void 0===r?null:r;var o=void 0;if(null!==$o){var u=$o.memoizedState;if(o=u.destroy,null!==r&&Bo(r,u.deps))return void tu(t,n,o,r)}Vo.effectTag|=e,i.memoizedState=tu(1|t,n,o,r)}function ou(e,t){return ru(516,4,e,t)}function uu(e,t){return iu(516,4,e,t)}function au(e,t){return iu(4,2,e,t)}function lu(e,t){return\"function\"===typeof t?(e=e(),t(e),function(){t(null)}):null!==t&&void 0!==t?(e=e(),t.current=e,function(){t.current=null}):void 0}function cu(e,t,n){return n=null!==n&&void 0!==n?n.concat([e]):null,iu(4,2,lu.bind(null,t,e),n)}function su(){}function fu(e,t){return Xo().memoizedState=[e,void 0===t?null:t],e}function du(e,t){var n=Ko();t=void 0===t?null:t;var r=n.memoizedState;return null!==r&&null!==t&&Bo(t,r[1])?r[0]:(n.memoizedState=[e,t],e)}function pu(e,t){var n=Ko();t=void 0===t?null:t;var r=n.memoizedState;return null!==r&&null!==t&&Bo(t,r[1])?r[0]:(e=e(),n.memoizedState=[e,t],e)}function hu(e,t,n){var r=ji();Vi(98>r?98:r,(function(){e(!0)})),Vi(97<r?97:r,(function(){var r=jo.suspense;jo.suspense=void 0===t?null:t;try{e(!1),n()}finally{jo.suspense=r}}))}function mu(e,t,n){var r=qa(),i=po.suspense;i={expirationTime:r=Ba(r,e,i),suspenseConfig:i,action:n,eagerReducer:null,eagerState:null,next:null};var o=t.pending;if(null===o?i.next=i:(i.next=o.next,o.next=i),t.pending=i,o=e.alternate,e===Vo||null!==o&&o===Vo)Qo=!0,i.expirationTime=Ho,Vo.expirationTime=Ho;else{if(0===e.expirationTime&&(null===o||0===o.expirationTime)&&null!==(o=t.lastRenderedReducer))try{var u=t.lastRenderedState,a=o(u,n);if(i.eagerReducer=o,i.eagerState=a,Ur(a,u))return}catch(l){}Ya(e,r)}}var gu={readContext:ro,useCallback:qo,useContext:qo,useEffect:qo,useImperativeHandle:qo,useLayoutEffect:qo,useMemo:qo,useReducer:qo,useRef:qo,useState:qo,useDebugValue:qo,useResponder:qo,useDeferredValue:qo,useTransition:qo},vu={readContext:ro,useCallback:fu,useContext:ro,useEffect:ou,useImperativeHandle:function(e,t,n){return n=null!==n&&void 0!==n?n.concat([e]):null,ru(4,2,lu.bind(null,t,e),n)},useLayoutEffect:function(e,t){return ru(4,2,e,t)},useMemo:function(e,t){var n=Xo();return t=void 0===t?null:t,e=e(),n.memoizedState=[e,t],e},useReducer:function(e,t,n){var r=Xo();return t=void 0!==n?n(t):t,r.memoizedState=r.baseState=t,e=(e=r.queue={pending:null,dispatch:null,lastRenderedReducer:e,lastRenderedState:t}).dispatch=mu.bind(null,Vo,e),[r.memoizedState,e]},useRef:function(e){return e={current:e},Xo().memoizedState=e},useState:eu,useDebugValue:su,useResponder:Fo,useDeferredValue:function(e,t){var n=eu(e),r=n[0],i=n[1];return ou((function(){var n=jo.suspense;jo.suspense=void 0===t?null:t;try{i(e)}finally{jo.suspense=n}}),[e,t]),r},useTransition:function(e){var t=eu(!1),n=t[0];return t=t[1],[fu(hu.bind(null,t,e),[t,e]),n]}},yu={readContext:ro,useCallback:du,useContext:ro,useEffect:uu,useImperativeHandle:cu,useLayoutEffect:au,useMemo:pu,useReducer:Jo,useRef:nu,useState:function(){return Jo(Zo)},useDebugValue:su,useResponder:Fo,useDeferredValue:function(e,t){var n=Jo(Zo),r=n[0],i=n[1];return uu((function(){var n=jo.suspense;jo.suspense=void 0===t?null:t;try{i(e)}finally{jo.suspense=n}}),[e,t]),r},useTransition:function(e){var t=Jo(Zo),n=t[0];return t=t[1],[du(hu.bind(null,t,e),[t,e]),n]}},bu={readContext:ro,useCallback:du,useContext:ro,useEffect:uu,useImperativeHandle:cu,useLayoutEffect:au,useMemo:pu,useReducer:Go,useRef:nu,useState:function(){return Go(Zo)},useDebugValue:su,useResponder:Fo,useDeferredValue:function(e,t){var n=Go(Zo),r=n[0],i=n[1];return uu((function(){var n=jo.suspense;jo.suspense=void 0===t?null:t;try{i(e)}finally{jo.suspense=n}}),[e,t]),r},useTransition:function(e){var t=Go(Zo),n=t[0];return t=t[1],[du(hu.bind(null,t,e),[t,e]),n]}},wu=null,xu=null,_u=!1;function ku(e,t){var n=Tl(5,null,null,0);n.elementType=\"DELETED\",n.type=\"DELETED\",n.stateNode=t,n.return=e,n.effectTag=8,null!==e.lastEffect?(e.lastEffect.nextEffect=n,e.lastEffect=n):e.firstEffect=e.lastEffect=n}function Tu(e,t){switch(e.tag){case 5:var n=e.type;return null!==(t=1!==t.nodeType||n.toLowerCase()!==t.nodeName.toLowerCase()?null:t)&&(e.stateNode=t,!0);case 6:return null!==(t=\"\"===e.pendingProps||3!==t.nodeType?null:t)&&(e.stateNode=t,!0);case 13:default:return!1}}function Eu(e){if(_u){var t=xu;if(t){var n=t;if(!Tu(e,t)){if(!(t=xn(n.nextSibling))||!Tu(e,t))return e.effectTag=-1025&e.effectTag|2,_u=!1,void(wu=e);ku(wu,n)}wu=e,xu=xn(t.firstChild)}else e.effectTag=-1025&e.effectTag|2,_u=!1,wu=e}}function Cu(e){for(e=e.return;null!==e&&5!==e.tag&&3!==e.tag&&13!==e.tag;)e=e.return;wu=e}function Su(e){if(e!==wu)return!1;if(!_u)return Cu(e),_u=!0,!1;var t=e.type;if(5!==e.tag||\"head\"!==t&&\"body\"!==t&&!yn(t,e.memoizedProps))for(t=xu;t;)ku(e,t),t=xn(t.nextSibling);if(Cu(e),13===e.tag){if(!(e=null!==(e=e.memoizedState)?e.dehydrated:null))throw Error(u(317));e:{for(e=e.nextSibling,t=0;e;){if(8===e.nodeType){var n=e.data;if(\"/$\"===n){if(0===t){xu=xn(e.nextSibling);break e}t--}else\"$\"!==n&&\"$!\"!==n&&\"$?\"!==n||t++}e=e.nextSibling}xu=null}}else xu=wu?xn(e.stateNode.nextSibling):null;return!0}function Mu(){xu=wu=null,_u=!1}var Nu=K.ReactCurrentOwner,Pu=!1;function Au(e,t,n,r){t.child=null===e?Co(t,null,n,r):Eo(t,e.child,n,r)}function Ru(e,t,n,r,i){n=n.render;var o=t.ref;return no(t,i),r=Yo(e,t,n,r,o,i),null===e||Pu?(t.effectTag|=1,Au(e,t,r,i),t.child):(t.updateQueue=e.updateQueue,t.effectTag&=-517,e.expirationTime<=i&&(e.expirationTime=0),Yu(e,t,i))}function Du(e,t,n,r,i,o){if(null===e){var u=n.type;return\"function\"!==typeof u||El(u)||void 0!==u.defaultProps||null!==n.compare||void 0!==n.defaultProps?((e=Sl(n.type,null,r,null,t.mode,o)).ref=t.ref,e.return=t,t.child=e):(t.tag=15,t.type=u,Ou(e,t,u,r,i,o))}return u=e.child,i<o&&(i=u.memoizedProps,(n=null!==(n=n.compare)?n:Ir)(i,r)&&e.ref===t.ref)?Yu(e,t,o):(t.effectTag|=1,(e=Cl(u,r)).ref=t.ref,e.return=t,t.child=e)}function Ou(e,t,n,r,i,o){return null!==e&&Ir(e.memoizedProps,r)&&e.ref===t.ref&&(Pu=!1,i<o)?(t.expirationTime=e.expirationTime,Yu(e,t,o)):Lu(e,t,n,r,o)}function zu(e,t){var n=t.ref;(null===e&&null!==n||null!==e&&e.ref!==n)&&(t.effectTag|=128)}function Lu(e,t,n,r,i){var o=mi(n)?pi:fi.current;return o=hi(t,o),no(t,i),n=Yo(e,t,n,r,o,i),null===e||Pu?(t.effectTag|=1,Au(e,t,n,i),t.child):(t.updateQueue=e.updateQueue,t.effectTag&=-517,e.expirationTime<=i&&(e.expirationTime=0),Yu(e,t,i))}function Uu(e,t,n,r,i){if(mi(n)){var o=!0;bi(t)}else o=!1;if(no(t,i),null===t.stateNode)null!==e&&(e.alternate=null,t.alternate=null,t.effectTag|=2),yo(t,n,r),wo(t,n,r,i),r=!0;else if(null===e){var u=t.stateNode,a=t.memoizedProps;u.props=a;var l=u.context,c=n.contextType;\"object\"===typeof c&&null!==c?c=ro(c):c=hi(t,c=mi(n)?pi:fi.current);var s=n.getDerivedStateFromProps,f=\"function\"===typeof s||\"function\"===typeof u.getSnapshotBeforeUpdate;f||\"function\"!==typeof u.UNSAFE_componentWillReceiveProps&&\"function\"!==typeof u.componentWillReceiveProps||(a!==r||l!==c)&&bo(t,u,r,c),io=!1;var d=t.memoizedState;u.state=d,so(t,r,u,i),l=t.memoizedState,a!==r||d!==l||di.current||io?(\"function\"===typeof s&&(mo(t,n,s,r),l=t.memoizedState),(a=io||vo(t,n,a,r,d,l,c))?(f||\"function\"!==typeof u.UNSAFE_componentWillMount&&\"function\"!==typeof u.componentWillMount||(\"function\"===typeof u.componentWillMount&&u.componentWillMount(),\"function\"===typeof u.UNSAFE_componentWillMount&&u.UNSAFE_componentWillMount()),\"function\"===typeof u.componentDidMount&&(t.effectTag|=4)):(\"function\"===typeof u.componentDidMount&&(t.effectTag|=4),t.memoizedProps=r,t.memoizedState=l),u.props=r,u.state=l,u.context=c,r=a):(\"function\"===typeof u.componentDidMount&&(t.effectTag|=4),r=!1)}else u=t.stateNode,uo(e,t),a=t.memoizedProps,u.props=t.type===t.elementType?a:Yi(t.type,a),l=u.context,\"object\"===typeof(c=n.contextType)&&null!==c?c=ro(c):c=hi(t,c=mi(n)?pi:fi.current),(f=\"function\"===typeof(s=n.getDerivedStateFromProps)||\"function\"===typeof u.getSnapshotBeforeUpdate)||\"function\"!==typeof u.UNSAFE_componentWillReceiveProps&&\"function\"!==typeof u.componentWillReceiveProps||(a!==r||l!==c)&&bo(t,u,r,c),io=!1,l=t.memoizedState,u.state=l,so(t,r,u,i),d=t.memoizedState,a!==r||l!==d||di.current||io?(\"function\"===typeof s&&(mo(t,n,s,r),d=t.memoizedState),(s=io||vo(t,n,a,r,l,d,c))?(f||\"function\"!==typeof u.UNSAFE_componentWillUpdate&&\"function\"!==typeof u.componentWillUpdate||(\"function\"===typeof u.componentWillUpdate&&u.componentWillUpdate(r,d,c),\"function\"===typeof u.UNSAFE_componentWillUpdate&&u.UNSAFE_componentWillUpdate(r,d,c)),\"function\"===typeof u.componentDidUpdate&&(t.effectTag|=4),\"function\"===typeof u.getSnapshotBeforeUpdate&&(t.effectTag|=256)):(\"function\"!==typeof u.componentDidUpdate||a===e.memoizedProps&&l===e.memoizedState||(t.effectTag|=4),\"function\"!==typeof u.getSnapshotBeforeUpdate||a===e.memoizedProps&&l===e.memoizedState||(t.effectTag|=256),t.memoizedProps=r,t.memoizedState=d),u.props=r,u.state=d,u.context=c,r=s):(\"function\"!==typeof u.componentDidUpdate||a===e.memoizedProps&&l===e.memoizedState||(t.effectTag|=4),\"function\"!==typeof u.getSnapshotBeforeUpdate||a===e.memoizedProps&&l===e.memoizedState||(t.effectTag|=256),r=!1);return Fu(e,t,n,r,o,i)}function Fu(e,t,n,r,i,o){zu(e,t);var u=0!==(64&t.effectTag);if(!r&&!u)return i&&wi(t,n,!1),Yu(e,t,o);r=t.stateNode,Nu.current=t;var a=u&&\"function\"!==typeof n.getDerivedStateFromError?null:r.render();return t.effectTag|=1,null!==e&&u?(t.child=Eo(t,e.child,null,o),t.child=Eo(t,null,a,o)):Au(e,t,a,o),t.memoizedState=r.state,i&&wi(t,n,!0),t.child}function Iu(e){var t=e.stateNode;t.pendingContext?vi(0,t.pendingContext,t.pendingContext!==t.context):t.context&&vi(0,t.context,!1),Ro(e,t.containerInfo)}var ju,Hu,Vu,$u={dehydrated:null,retryTime:0};function Wu(e,t,n){var r,i=t.mode,o=t.pendingProps,u=Lo.current,a=!1;if((r=0!==(64&t.effectTag))||(r=0!==(2&u)&&(null===e||null!==e.memoizedState)),r?(a=!0,t.effectTag&=-65):null!==e&&null===e.memoizedState||void 0===o.fallback||!0===o.unstable_avoidThisFallback||(u|=1),ci(Lo,1&u),null===e){if(void 0!==o.fallback&&Eu(t),a){if(a=o.fallback,(o=Ml(null,i,0,null)).return=t,0===(2&t.mode))for(e=null!==t.memoizedState?t.child.child:t.child,o.child=e;null!==e;)e.return=o,e=e.sibling;return(n=Ml(a,i,n,null)).return=t,o.sibling=n,t.memoizedState=$u,t.child=o,n}return i=o.children,t.memoizedState=null,t.child=Co(t,null,i,n)}if(null!==e.memoizedState){if(i=(e=e.child).sibling,a){if(o=o.fallback,(n=Cl(e,e.pendingProps)).return=t,0===(2&t.mode)&&(a=null!==t.memoizedState?t.child.child:t.child)!==e.child)for(n.child=a;null!==a;)a.return=n,a=a.sibling;return(i=Cl(i,o)).return=t,n.sibling=i,n.childExpirationTime=0,t.memoizedState=$u,t.child=n,i}return n=Eo(t,e.child,o.children,n),t.memoizedState=null,t.child=n}if(e=e.child,a){if(a=o.fallback,(o=Ml(null,i,0,null)).return=t,o.child=e,null!==e&&(e.return=o),0===(2&t.mode))for(e=null!==t.memoizedState?t.child.child:t.child,o.child=e;null!==e;)e.return=o,e=e.sibling;return(n=Ml(a,i,n,null)).return=t,o.sibling=n,n.effectTag|=2,o.childExpirationTime=0,t.memoizedState=$u,t.child=o,n}return t.memoizedState=null,t.child=Eo(t,e,o.children,n)}function Qu(e,t){e.expirationTime<t&&(e.expirationTime=t);var n=e.alternate;null!==n&&n.expirationTime<t&&(n.expirationTime=t),to(e.return,t)}function qu(e,t,n,r,i,o){var u=e.memoizedState;null===u?e.memoizedState={isBackwards:t,rendering:null,renderingStartTime:0,last:r,tail:n,tailExpiration:0,tailMode:i,lastEffect:o}:(u.isBackwards=t,u.rendering=null,u.renderingStartTime=0,u.last=r,u.tail=n,u.tailExpiration=0,u.tailMode=i,u.lastEffect=o)}function Bu(e,t,n){var r=t.pendingProps,i=r.revealOrder,o=r.tail;if(Au(e,t,r.children,n),0!==(2&(r=Lo.current)))r=1&r|2,t.effectTag|=64;else{if(null!==e&&0!==(64&e.effectTag))e:for(e=t.child;null!==e;){if(13===e.tag)null!==e.memoizedState&&Qu(e,n);else if(19===e.tag)Qu(e,n);else if(null!==e.child){e.child.return=e,e=e.child;continue}if(e===t)break e;for(;null===e.sibling;){if(null===e.return||e.return===t)break e;e=e.return}e.sibling.return=e.return,e=e.sibling}r&=1}if(ci(Lo,r),0===(2&t.mode))t.memoizedState=null;else switch(i){case\"forwards\":for(n=t.child,i=null;null!==n;)null!==(e=n.alternate)&&null===Uo(e)&&(i=n),n=n.sibling;null===(n=i)?(i=t.child,t.child=null):(i=n.sibling,n.sibling=null),qu(t,!1,i,n,o,t.lastEffect);break;case\"backwards\":for(n=null,i=t.child,t.child=null;null!==i;){if(null!==(e=i.alternate)&&null===Uo(e)){t.child=i;break}e=i.sibling,i.sibling=n,n=i,i=e}qu(t,!0,n,null,o,t.lastEffect);break;case\"together\":qu(t,!1,null,null,void 0,t.lastEffect);break;default:t.memoizedState=null}return t.child}function Yu(e,t,n){null!==e&&(t.dependencies=e.dependencies);var r=t.expirationTime;if(0!==r&&ul(r),t.childExpirationTime<n)return null;if(null!==e&&t.child!==e.child)throw Error(u(153));if(null!==t.child){for(n=Cl(e=t.child,e.pendingProps),t.child=n,n.return=t;null!==e.sibling;)e=e.sibling,(n=n.sibling=Cl(e,e.pendingProps)).return=t;n.sibling=null}return t.child}function Xu(e,t){switch(e.tailMode){case\"hidden\":t=e.tail;for(var n=null;null!==t;)null!==t.alternate&&(n=t),t=t.sibling;null===n?e.tail=null:n.sibling=null;break;case\"collapsed\":n=e.tail;for(var r=null;null!==n;)null!==n.alternate&&(r=n),n=n.sibling;null===r?t||null===e.tail?e.tail=null:e.tail.sibling=null:r.sibling=null}}function Ku(e,t,n){var r=t.pendingProps;switch(t.tag){case 2:case 16:case 15:case 0:case 11:case 7:case 8:case 12:case 9:case 14:return null;case 1:return mi(t.type)&&gi(),null;case 3:return Do(),li(di),li(fi),(n=t.stateNode).pendingContext&&(n.context=n.pendingContext,n.pendingContext=null),null!==e&&null!==e.child||!Su(t)||(t.effectTag|=4),null;case 5:zo(t),n=Ao(Po.current);var o=t.type;if(null!==e&&null!=t.stateNode)Hu(e,t,o,r,n),e.ref!==t.ref&&(t.effectTag|=128);else{if(!r){if(null===t.stateNode)throw Error(u(166));return null}if(e=Ao(Mo.current),Su(t)){r=t.stateNode,o=t.type;var a=t.memoizedProps;switch(r[Tn]=t,r[En]=a,o){case\"iframe\":case\"object\":case\"embed\":Bt(\"load\",r);break;case\"video\":case\"audio\":for(e=0;e<Ke.length;e++)Bt(Ke[e],r);break;case\"source\":Bt(\"error\",r);break;case\"img\":case\"image\":case\"link\":Bt(\"error\",r),Bt(\"load\",r);break;case\"form\":Bt(\"reset\",r),Bt(\"submit\",r);break;case\"details\":Bt(\"toggle\",r);break;case\"input\":ke(r,a),Bt(\"invalid\",r),ln(n,\"onChange\");break;case\"select\":r._wrapperState={wasMultiple:!!a.multiple},Bt(\"invalid\",r),ln(n,\"onChange\");break;case\"textarea\":Ae(r,a),Bt(\"invalid\",r),ln(n,\"onChange\")}for(var l in on(o,a),e=null,a)if(a.hasOwnProperty(l)){var c=a[l];\"children\"===l?\"string\"===typeof c?r.textContent!==c&&(e=[\"children\",c]):\"number\"===typeof c&&r.textContent!==\"\"+c&&(e=[\"children\",\"\"+c]):T.hasOwnProperty(l)&&null!=c&&ln(n,l)}switch(o){case\"input\":we(r),Ce(r,a,!0);break;case\"textarea\":we(r),De(r);break;case\"select\":case\"option\":break;default:\"function\"===typeof a.onClick&&(r.onclick=cn)}n=e,t.updateQueue=n,null!==n&&(t.effectTag|=4)}else{switch(l=9===n.nodeType?n:n.ownerDocument,e===an&&(e=Le(o)),e===an?\"script\"===o?((e=l.createElement(\"div\")).innerHTML=\"<script><\\/script>\",e=e.removeChild(e.firstChild)):\"string\"===typeof r.is?e=l.createElement(o,{is:r.is}):(e=l.createElement(o),\"select\"===o&&(l=e,r.multiple?l.multiple=!0:r.size&&(l.size=r.size))):e=l.createElementNS(e,o),e[Tn]=t,e[En]=r,ju(e,t),t.stateNode=e,l=un(o,r),o){case\"iframe\":case\"object\":case\"embed\":Bt(\"load\",e),c=r;break;case\"video\":case\"audio\":for(c=0;c<Ke.length;c++)Bt(Ke[c],e);c=r;break;case\"source\":Bt(\"error\",e),c=r;break;case\"img\":case\"image\":case\"link\":Bt(\"error\",e),Bt(\"load\",e),c=r;break;case\"form\":Bt(\"reset\",e),Bt(\"submit\",e),c=r;break;case\"details\":Bt(\"toggle\",e),c=r;break;case\"input\":ke(e,r),c=_e(e,r),Bt(\"invalid\",e),ln(n,\"onChange\");break;case\"option\":c=Me(e,r);break;case\"select\":e._wrapperState={wasMultiple:!!r.multiple},c=i({},r,{value:void 0}),Bt(\"invalid\",e),ln(n,\"onChange\");break;case\"textarea\":Ae(e,r),c=Pe(e,r),Bt(\"invalid\",e),ln(n,\"onChange\");break;default:c=r}on(o,c);var s=c;for(a in s)if(s.hasOwnProperty(a)){var f=s[a];\"style\"===a?nn(e,f):\"dangerouslySetInnerHTML\"===a?null!=(f=f?f.__html:void 0)&&Ie(e,f):\"children\"===a?\"string\"===typeof f?(\"textarea\"!==o||\"\"!==f)&&je(e,f):\"number\"===typeof f&&je(e,\"\"+f):\"suppressContentEditableWarning\"!==a&&\"suppressHydrationWarning\"!==a&&\"autoFocus\"!==a&&(T.hasOwnProperty(a)?null!=f&&ln(n,a):null!=f&&Z(e,a,f,l))}switch(o){case\"input\":we(e),Ce(e,r,!1);break;case\"textarea\":we(e),De(e);break;case\"option\":null!=r.value&&e.setAttribute(\"value\",\"\"+ye(r.value));break;case\"select\":e.multiple=!!r.multiple,null!=(n=r.value)?Ne(e,!!r.multiple,n,!1):null!=r.defaultValue&&Ne(e,!!r.multiple,r.defaultValue,!0);break;default:\"function\"===typeof c.onClick&&(e.onclick=cn)}vn(o,r)&&(t.effectTag|=4)}null!==t.ref&&(t.effectTag|=128)}return null;case 6:if(e&&null!=t.stateNode)Vu(0,t,e.memoizedProps,r);else{if(\"string\"!==typeof r&&null===t.stateNode)throw Error(u(166));n=Ao(Po.current),Ao(Mo.current),Su(t)?(n=t.stateNode,r=t.memoizedProps,n[Tn]=t,n.nodeValue!==r&&(t.effectTag|=4)):((n=(9===n.nodeType?n:n.ownerDocument).createTextNode(r))[Tn]=t,t.stateNode=n)}return null;case 13:return li(Lo),r=t.memoizedState,0!==(64&t.effectTag)?(t.expirationTime=n,t):(n=null!==r,r=!1,null===e?void 0!==t.memoizedProps.fallback&&Su(t):(r=null!==(o=e.memoizedState),n||null===o||null!==(o=e.child.sibling)&&(null!==(a=t.firstEffect)?(t.firstEffect=o,o.nextEffect=a):(t.firstEffect=t.lastEffect=o,o.nextEffect=null),o.effectTag=8)),n&&!r&&0!==(2&t.mode)&&(null===e&&!0!==t.memoizedProps.unstable_avoidThisFallback||0!==(1&Lo.current)?Sa===wa&&(Sa=xa):(Sa!==wa&&Sa!==xa||(Sa=_a),0!==Ra&&null!==Ta&&(Dl(Ta,Ca),Ol(Ta,Ra)))),(n||r)&&(t.effectTag|=4),null);case 4:return Do(),null;case 10:return eo(t),null;case 17:return mi(t.type)&&gi(),null;case 19:if(li(Lo),null===(r=t.memoizedState))return null;if(o=0!==(64&t.effectTag),null===(a=r.rendering)){if(o)Xu(r,!1);else if(Sa!==wa||null!==e&&0!==(64&e.effectTag))for(a=t.child;null!==a;){if(null!==(e=Uo(a))){for(t.effectTag|=64,Xu(r,!1),null!==(o=e.updateQueue)&&(t.updateQueue=o,t.effectTag|=4),null===r.lastEffect&&(t.firstEffect=null),t.lastEffect=r.lastEffect,r=t.child;null!==r;)a=n,(o=r).effectTag&=2,o.nextEffect=null,o.firstEffect=null,o.lastEffect=null,null===(e=o.alternate)?(o.childExpirationTime=0,o.expirationTime=a,o.child=null,o.memoizedProps=null,o.memoizedState=null,o.updateQueue=null,o.dependencies=null):(o.childExpirationTime=e.childExpirationTime,o.expirationTime=e.expirationTime,o.child=e.child,o.memoizedProps=e.memoizedProps,o.memoizedState=e.memoizedState,o.updateQueue=e.updateQueue,a=e.dependencies,o.dependencies=null===a?null:{expirationTime:a.expirationTime,firstContext:a.firstContext,responders:a.responders}),r=r.sibling;return ci(Lo,1&Lo.current|2),t.child}a=a.sibling}}else{if(!o)if(null!==(e=Uo(a))){if(t.effectTag|=64,o=!0,null!==(n=e.updateQueue)&&(t.updateQueue=n,t.effectTag|=4),Xu(r,!0),null===r.tail&&\"hidden\"===r.tailMode&&!a.alternate)return null!==(t=t.lastEffect=r.lastEffect)&&(t.nextEffect=null),null}else 2*Ii()-r.renderingStartTime>r.tailExpiration&&1<n&&(t.effectTag|=64,o=!0,Xu(r,!1),t.expirationTime=t.childExpirationTime=n-1);r.isBackwards?(a.sibling=t.child,t.child=a):(null!==(n=r.last)?n.sibling=a:t.child=a,r.last=a)}return null!==r.tail?(0===r.tailExpiration&&(r.tailExpiration=Ii()+500),n=r.tail,r.rendering=n,r.tail=n.sibling,r.lastEffect=t.lastEffect,r.renderingStartTime=Ii(),n.sibling=null,t=Lo.current,ci(Lo,o?1&t|2:1&t),n):null}throw Error(u(156,t.tag))}function Zu(e){switch(e.tag){case 1:mi(e.type)&&gi();var t=e.effectTag;return 4096&t?(e.effectTag=-4097&t|64,e):null;case 3:if(Do(),li(di),li(fi),0!==(64&(t=e.effectTag)))throw Error(u(285));return e.effectTag=-4097&t|64,e;case 5:return zo(e),null;case 13:return li(Lo),4096&(t=e.effectTag)?(e.effectTag=-4097&t|64,e):null;case 19:return li(Lo),null;case 4:return Do(),null;case 10:return eo(e),null;default:return null}}function Ju(e,t){return{value:e,source:t,stack:ve(t)}}ju=function(e,t){for(var n=t.child;null!==n;){if(5===n.tag||6===n.tag)e.appendChild(n.stateNode);else if(4!==n.tag&&null!==n.child){n.child.return=n,n=n.child;continue}if(n===t)break;for(;null===n.sibling;){if(null===n.return||n.return===t)return;n=n.return}n.sibling.return=n.return,n=n.sibling}},Hu=function(e,t,n,r,o){var u=e.memoizedProps;if(u!==r){var a,l,c=t.stateNode;switch(Ao(Mo.current),e=null,n){case\"input\":u=_e(c,u),r=_e(c,r),e=[];break;case\"option\":u=Me(c,u),r=Me(c,r),e=[];break;case\"select\":u=i({},u,{value:void 0}),r=i({},r,{value:void 0}),e=[];break;case\"textarea\":u=Pe(c,u),r=Pe(c,r),e=[];break;default:\"function\"!==typeof u.onClick&&\"function\"===typeof r.onClick&&(c.onclick=cn)}for(a in on(n,r),n=null,u)if(!r.hasOwnProperty(a)&&u.hasOwnProperty(a)&&null!=u[a])if(\"style\"===a)for(l in c=u[a])c.hasOwnProperty(l)&&(n||(n={}),n[l]=\"\");else\"dangerouslySetInnerHTML\"!==a&&\"children\"!==a&&\"suppressContentEditableWarning\"!==a&&\"suppressHydrationWarning\"!==a&&\"autoFocus\"!==a&&(T.hasOwnProperty(a)?e||(e=[]):(e=e||[]).push(a,null));for(a in r){var s=r[a];if(c=null!=u?u[a]:void 0,r.hasOwnProperty(a)&&s!==c&&(null!=s||null!=c))if(\"style\"===a)if(c){for(l in c)!c.hasOwnProperty(l)||s&&s.hasOwnProperty(l)||(n||(n={}),n[l]=\"\");for(l in s)s.hasOwnProperty(l)&&c[l]!==s[l]&&(n||(n={}),n[l]=s[l])}else n||(e||(e=[]),e.push(a,n)),n=s;else\"dangerouslySetInnerHTML\"===a?(s=s?s.__html:void 0,c=c?c.__html:void 0,null!=s&&c!==s&&(e=e||[]).push(a,s)):\"children\"===a?c===s||\"string\"!==typeof s&&\"number\"!==typeof s||(e=e||[]).push(a,\"\"+s):\"suppressContentEditableWarning\"!==a&&\"suppressHydrationWarning\"!==a&&(T.hasOwnProperty(a)?(null!=s&&ln(o,a),e||c===s||(e=[])):(e=e||[]).push(a,s))}n&&(e=e||[]).push(\"style\",n),o=e,(t.updateQueue=o)&&(t.effectTag|=4)}},Vu=function(e,t,n,r){n!==r&&(t.effectTag|=4)};var Gu=\"function\"===typeof WeakSet?WeakSet:Set;function ea(e,t){var n=t.source,r=t.stack;null===r&&null!==n&&(r=ve(n)),null!==n&&ge(n.type),t=t.value,null!==e&&1===e.tag&&ge(e.type);try{console.error(t)}catch(i){setTimeout((function(){throw i}))}}function ta(e){var t=e.ref;if(null!==t)if(\"function\"===typeof t)try{t(null)}catch(n){yl(e,n)}else t.current=null}function na(e,t){switch(t.tag){case 0:case 11:case 15:case 22:return;case 1:if(256&t.effectTag&&null!==e){var n=e.memoizedProps,r=e.memoizedState;t=(e=t.stateNode).getSnapshotBeforeUpdate(t.elementType===t.type?n:Yi(t.type,n),r),e.__reactInternalSnapshotBeforeUpdate=t}return;case 3:case 5:case 6:case 4:case 17:return}throw Error(u(163))}function ra(e,t){if(null!==(t=null!==(t=t.updateQueue)?t.lastEffect:null)){var n=t=t.next;do{if((n.tag&e)===e){var r=n.destroy;n.destroy=void 0,void 0!==r&&r()}n=n.next}while(n!==t)}}function ia(e,t){if(null!==(t=null!==(t=t.updateQueue)?t.lastEffect:null)){var n=t=t.next;do{if((n.tag&e)===e){var r=n.create;n.destroy=r()}n=n.next}while(n!==t)}}function oa(e,t,n){switch(n.tag){case 0:case 11:case 15:case 22:return void ia(3,n);case 1:if(e=n.stateNode,4&n.effectTag)if(null===t)e.componentDidMount();else{var r=n.elementType===n.type?t.memoizedProps:Yi(n.type,t.memoizedProps);e.componentDidUpdate(r,t.memoizedState,e.__reactInternalSnapshotBeforeUpdate)}return void(null!==(t=n.updateQueue)&&fo(n,t,e));case 3:if(null!==(t=n.updateQueue)){if(e=null,null!==n.child)switch(n.child.tag){case 5:e=n.child.stateNode;break;case 1:e=n.child.stateNode}fo(n,t,e)}return;case 5:return e=n.stateNode,void(null===t&&4&n.effectTag&&vn(n.type,n.memoizedProps)&&e.focus());case 6:case 4:case 12:return;case 13:return void(null===n.memoizedState&&(n=n.alternate,null!==n&&(n=n.memoizedState,null!==n&&(n=n.dehydrated,null!==n&&Lt(n)))));case 19:case 17:case 20:case 21:return}throw Error(u(163))}function ua(e,t,n){switch(\"function\"===typeof _l&&_l(t),t.tag){case 0:case 11:case 14:case 15:case 22:if(null!==(e=t.updateQueue)&&null!==(e=e.lastEffect)){var r=e.next;Vi(97<n?97:n,(function(){var e=r;do{var n=e.destroy;if(void 0!==n){var i=t;try{n()}catch(o){yl(i,o)}}e=e.next}while(e!==r)}))}break;case 1:ta(t),\"function\"===typeof(n=t.stateNode).componentWillUnmount&&function(e,t){try{t.props=e.memoizedProps,t.state=e.memoizedState,t.componentWillUnmount()}catch(n){yl(e,n)}}(t,n);break;case 5:ta(t);break;case 4:sa(e,t,n)}}function aa(e){var t=e.alternate;e.return=null,e.child=null,e.memoizedState=null,e.updateQueue=null,e.dependencies=null,e.alternate=null,e.firstEffect=null,e.lastEffect=null,e.pendingProps=null,e.memoizedProps=null,e.stateNode=null,null!==t&&aa(t)}function la(e){return 5===e.tag||3===e.tag||4===e.tag}function ca(e){e:{for(var t=e.return;null!==t;){if(la(t)){var n=t;break e}t=t.return}throw Error(u(160))}switch(t=n.stateNode,n.tag){case 5:var r=!1;break;case 3:case 4:t=t.containerInfo,r=!0;break;default:throw Error(u(161))}16&n.effectTag&&(je(t,\"\"),n.effectTag&=-17);e:t:for(n=e;;){for(;null===n.sibling;){if(null===n.return||la(n.return)){n=null;break e}n=n.return}for(n.sibling.return=n.return,n=n.sibling;5!==n.tag&&6!==n.tag&&18!==n.tag;){if(2&n.effectTag)continue t;if(null===n.child||4===n.tag)continue t;n.child.return=n,n=n.child}if(!(2&n.effectTag)){n=n.stateNode;break e}}r?function e(t,n,r){var i=t.tag,o=5===i||6===i;if(o)t=o?t.stateNode:t.stateNode.instance,n?8===r.nodeType?r.parentNode.insertBefore(t,n):r.insertBefore(t,n):(8===r.nodeType?(n=r.parentNode).insertBefore(t,r):(n=r).appendChild(t),null!==(r=r._reactRootContainer)&&void 0!==r||null!==n.onclick||(n.onclick=cn));else if(4!==i&&null!==(t=t.child))for(e(t,n,r),t=t.sibling;null!==t;)e(t,n,r),t=t.sibling}(e,n,t):function e(t,n,r){var i=t.tag,o=5===i||6===i;if(o)t=o?t.stateNode:t.stateNode.instance,n?r.insertBefore(t,n):r.appendChild(t);else if(4!==i&&null!==(t=t.child))for(e(t,n,r),t=t.sibling;null!==t;)e(t,n,r),t=t.sibling}(e,n,t)}function sa(e,t,n){for(var r,i,o=t,a=!1;;){if(!a){a=o.return;e:for(;;){if(null===a)throw Error(u(160));switch(r=a.stateNode,a.tag){case 5:i=!1;break e;case 3:case 4:r=r.containerInfo,i=!0;break e}a=a.return}a=!0}if(5===o.tag||6===o.tag){e:for(var l=e,c=o,s=n,f=c;;)if(ua(l,f,s),null!==f.child&&4!==f.tag)f.child.return=f,f=f.child;else{if(f===c)break e;for(;null===f.sibling;){if(null===f.return||f.return===c)break e;f=f.return}f.sibling.return=f.return,f=f.sibling}i?(l=r,c=o.stateNode,8===l.nodeType?l.parentNode.removeChild(c):l.removeChild(c)):r.removeChild(o.stateNode)}else if(4===o.tag){if(null!==o.child){r=o.stateNode.containerInfo,i=!0,o.child.return=o,o=o.child;continue}}else if(ua(e,o,n),null!==o.child){o.child.return=o,o=o.child;continue}if(o===t)break;for(;null===o.sibling;){if(null===o.return||o.return===t)return;4===(o=o.return).tag&&(a=!1)}o.sibling.return=o.return,o=o.sibling}}function fa(e,t){switch(t.tag){case 0:case 11:case 14:case 15:case 22:return void ra(3,t);case 1:return;case 5:var n=t.stateNode;if(null!=n){var r=t.memoizedProps,i=null!==e?e.memoizedProps:r;e=t.type;var o=t.updateQueue;if(t.updateQueue=null,null!==o){for(n[En]=r,\"input\"===e&&\"radio\"===r.type&&null!=r.name&&Te(n,r),un(e,i),t=un(e,r),i=0;i<o.length;i+=2){var a=o[i],l=o[i+1];\"style\"===a?nn(n,l):\"dangerouslySetInnerHTML\"===a?Ie(n,l):\"children\"===a?je(n,l):Z(n,a,l,t)}switch(e){case\"input\":Ee(n,r);break;case\"textarea\":Re(n,r);break;case\"select\":t=n._wrapperState.wasMultiple,n._wrapperState.wasMultiple=!!r.multiple,null!=(e=r.value)?Ne(n,!!r.multiple,e,!1):t!==!!r.multiple&&(null!=r.defaultValue?Ne(n,!!r.multiple,r.defaultValue,!0):Ne(n,!!r.multiple,r.multiple?[]:\"\",!1))}}}return;case 6:if(null===t.stateNode)throw Error(u(162));return void(t.stateNode.nodeValue=t.memoizedProps);case 3:return void((t=t.stateNode).hydrate&&(t.hydrate=!1,Lt(t.containerInfo)));case 12:return;case 13:if(n=t,null===t.memoizedState?r=!1:(r=!0,n=t.child,Oa=Ii()),null!==n)e:for(e=n;;){if(5===e.tag)o=e.stateNode,r?\"function\"===typeof(o=o.style).setProperty?o.setProperty(\"display\",\"none\",\"important\"):o.display=\"none\":(o=e.stateNode,i=void 0!==(i=e.memoizedProps.style)&&null!==i&&i.hasOwnProperty(\"display\")?i.display:null,o.style.display=tn(\"display\",i));else if(6===e.tag)e.stateNode.nodeValue=r?\"\":e.memoizedProps;else{if(13===e.tag&&null!==e.memoizedState&&null===e.memoizedState.dehydrated){(o=e.child.sibling).return=e,e=o;continue}if(null!==e.child){e.child.return=e,e=e.child;continue}}if(e===n)break;for(;null===e.sibling;){if(null===e.return||e.return===n)break e;e=e.return}e.sibling.return=e.return,e=e.sibling}return void da(t);case 19:return void da(t);case 17:return}throw Error(u(163))}function da(e){var t=e.updateQueue;if(null!==t){e.updateQueue=null;var n=e.stateNode;null===n&&(n=e.stateNode=new Gu),t.forEach((function(t){var r=wl.bind(null,e,t);n.has(t)||(n.add(t),t.then(r,r))}))}}var pa=\"function\"===typeof WeakMap?WeakMap:Map;function ha(e,t,n){(n=ao(n,null)).tag=3,n.payload={element:null};var r=t.value;return n.callback=function(){La||(La=!0,Ua=r),ea(e,t)},n}function ma(e,t,n){(n=ao(n,null)).tag=3;var r=e.type.getDerivedStateFromError;if(\"function\"===typeof r){var i=t.value;n.payload=function(){return ea(e,t),r(i)}}var o=e.stateNode;return null!==o&&\"function\"===typeof o.componentDidCatch&&(n.callback=function(){\"function\"!==typeof r&&(null===Fa?Fa=new Set([this]):Fa.add(this),ea(e,t));var n=t.stack;this.componentDidCatch(t.value,{componentStack:null!==n?n:\"\"})}),n}var ga,va=Math.ceil,ya=K.ReactCurrentDispatcher,ba=K.ReactCurrentOwner,wa=0,xa=3,_a=4,ka=0,Ta=null,Ea=null,Ca=0,Sa=wa,Ma=null,Na=1073741823,Pa=1073741823,Aa=null,Ra=0,Da=!1,Oa=0,za=null,La=!1,Ua=null,Fa=null,Ia=!1,ja=null,Ha=90,Va=null,$a=0,Wa=null,Qa=0;function qa(){return 0!==(48&ka)?1073741821-(Ii()/10|0):0!==Qa?Qa:Qa=1073741821-(Ii()/10|0)}function Ba(e,t,n){if(0===(2&(t=t.mode)))return 1073741823;var r=ji();if(0===(4&t))return 99===r?1073741823:1073741822;if(0!==(16&ka))return Ca;if(null!==n)e=Bi(e,0|n.timeoutMs||5e3,250);else switch(r){case 99:e=1073741823;break;case 98:e=Bi(e,150,100);break;case 97:case 96:e=Bi(e,5e3,250);break;case 95:e=2;break;default:throw Error(u(326))}return null!==Ta&&e===Ca&&--e,e}function Ya(e,t){if(50<$a)throw $a=0,Wa=null,Error(u(185));if(null!==(e=Xa(e,t))){var n=ji();1073741823===t?0!==(8&ka)&&0===(48&ka)?Ga(e):(Za(e),0===ka&&Qi()):Za(e),0===(4&ka)||98!==n&&99!==n||(null===Va?Va=new Map([[e,t]]):(void 0===(n=Va.get(e))||n>t)&&Va.set(e,t))}}function Xa(e,t){e.expirationTime<t&&(e.expirationTime=t);var n=e.alternate;null!==n&&n.expirationTime<t&&(n.expirationTime=t);var r=e.return,i=null;if(null===r&&3===e.tag)i=e.stateNode;else for(;null!==r;){if(n=r.alternate,r.childExpirationTime<t&&(r.childExpirationTime=t),null!==n&&n.childExpirationTime<t&&(n.childExpirationTime=t),null===r.return&&3===r.tag){i=r.stateNode;break}r=r.return}return null!==i&&(Ta===i&&(ul(t),Sa===_a&&Dl(i,Ca)),Ol(i,t)),i}function Ka(e){var t=e.lastExpiredTime;if(0!==t)return t;if(!Rl(e,t=e.firstPendingTime))return t;var n=e.lastPingedTime;return 2>=(e=n>(e=e.nextKnownPendingLevel)?n:e)&&t!==e?0:e}function Za(e){if(0!==e.lastExpiredTime)e.callbackExpirationTime=1073741823,e.callbackPriority=99,e.callbackNode=Wi(Ga.bind(null,e));else{var t=Ka(e),n=e.callbackNode;if(0===t)null!==n&&(e.callbackNode=null,e.callbackExpirationTime=0,e.callbackPriority=90);else{var r=qa();if(1073741823===t?r=99:1===t||2===t?r=95:r=0>=(r=10*(1073741821-t)-10*(1073741821-r))?99:250>=r?98:5250>=r?97:95,null!==n){var i=e.callbackPriority;if(e.callbackExpirationTime===t&&i>=r)return;n!==Ri&&ki(n)}e.callbackExpirationTime=t,e.callbackPriority=r,t=1073741823===t?Wi(Ga.bind(null,e)):$i(r,Ja.bind(null,e),{timeout:10*(1073741821-t)-Ii()}),e.callbackNode=t}}}function Ja(e,t){if(Qa=0,t)return zl(e,t=qa()),Za(e),null;var n=Ka(e);if(0!==n){if(t=e.callbackNode,0!==(48&ka))throw Error(u(327));if(ml(),e===Ta&&n===Ca||nl(e,n),null!==Ea){var r=ka;ka|=16;for(var i=il();;)try{ll();break}catch(l){rl(e,l)}if(Gi(),ka=r,ya.current=i,1===Sa)throw t=Ma,nl(e,n),Dl(e,n),Za(e),t;if(null===Ea)switch(i=e.finishedWork=e.current.alternate,e.finishedExpirationTime=n,r=Sa,Ta=null,r){case wa:case 1:throw Error(u(345));case 2:zl(e,2<n?2:n);break;case xa:if(Dl(e,n),n===(r=e.lastSuspendedTime)&&(e.nextKnownPendingLevel=fl(i)),1073741823===Na&&10<(i=Oa+500-Ii())){if(Da){var o=e.lastPingedTime;if(0===o||o>=n){e.lastPingedTime=n,nl(e,n);break}}if(0!==(o=Ka(e))&&o!==n)break;if(0!==r&&r!==n){e.lastPingedTime=r;break}e.timeoutHandle=bn(dl.bind(null,e),i);break}dl(e);break;case _a:if(Dl(e,n),n===(r=e.lastSuspendedTime)&&(e.nextKnownPendingLevel=fl(i)),Da&&(0===(i=e.lastPingedTime)||i>=n)){e.lastPingedTime=n,nl(e,n);break}if(0!==(i=Ka(e))&&i!==n)break;if(0!==r&&r!==n){e.lastPingedTime=r;break}if(1073741823!==Pa?r=10*(1073741821-Pa)-Ii():1073741823===Na?r=0:(r=10*(1073741821-Na)-5e3,0>(r=(i=Ii())-r)&&(r=0),(n=10*(1073741821-n)-i)<(r=(120>r?120:480>r?480:1080>r?1080:1920>r?1920:3e3>r?3e3:4320>r?4320:1960*va(r/1960))-r)&&(r=n)),10<r){e.timeoutHandle=bn(dl.bind(null,e),r);break}dl(e);break;case 5:if(1073741823!==Na&&null!==Aa){o=Na;var a=Aa;if(0>=(r=0|a.busyMinDurationMs)?r=0:(i=0|a.busyDelayMs,r=(o=Ii()-(10*(1073741821-o)-(0|a.timeoutMs||5e3)))<=i?0:i+r-o),10<r){Dl(e,n),e.timeoutHandle=bn(dl.bind(null,e),r);break}}dl(e);break;default:throw Error(u(329))}if(Za(e),e.callbackNode===t)return Ja.bind(null,e)}}return null}function Ga(e){var t=e.lastExpiredTime;if(t=0!==t?t:1073741823,0!==(48&ka))throw Error(u(327));if(ml(),e===Ta&&t===Ca||nl(e,t),null!==Ea){var n=ka;ka|=16;for(var r=il();;)try{al();break}catch(i){rl(e,i)}if(Gi(),ka=n,ya.current=r,1===Sa)throw n=Ma,nl(e,t),Dl(e,t),Za(e),n;if(null!==Ea)throw Error(u(261));e.finishedWork=e.current.alternate,e.finishedExpirationTime=t,Ta=null,dl(e),Za(e)}return null}function el(e,t){var n=ka;ka|=1;try{return e(t)}finally{0===(ka=n)&&Qi()}}function tl(e,t){var n=ka;ka&=-2,ka|=8;try{return e(t)}finally{0===(ka=n)&&Qi()}}function nl(e,t){e.finishedWork=null,e.finishedExpirationTime=0;var n=e.timeoutHandle;if(-1!==n&&(e.timeoutHandle=-1,wn(n)),null!==Ea)for(n=Ea.return;null!==n;){var r=n;switch(r.tag){case 1:null!==(r=r.type.childContextTypes)&&void 0!==r&&gi();break;case 3:Do(),li(di),li(fi);break;case 5:zo(r);break;case 4:Do();break;case 13:case 19:li(Lo);break;case 10:eo(r)}n=n.return}Ta=e,Ea=Cl(e.current,null),Ca=t,Sa=wa,Ma=null,Pa=Na=1073741823,Aa=null,Ra=0,Da=!1}function rl(e,t){for(;;){try{if(Gi(),Io.current=gu,Qo)for(var n=Vo.memoizedState;null!==n;){var r=n.queue;null!==r&&(r.pending=null),n=n.next}if(Ho=0,Wo=$o=Vo=null,Qo=!1,null===Ea||null===Ea.return)return Sa=1,Ma=t,Ea=null;e:{var i=e,o=Ea.return,u=Ea,a=t;if(t=Ca,u.effectTag|=2048,u.firstEffect=u.lastEffect=null,null!==a&&\"object\"===typeof a&&\"function\"===typeof a.then){var l=a;if(0===(2&u.mode)){var c=u.alternate;c?(u.updateQueue=c.updateQueue,u.memoizedState=c.memoizedState,u.expirationTime=c.expirationTime):(u.updateQueue=null,u.memoizedState=null)}var s=0!==(1&Lo.current),f=o;do{var d;if(d=13===f.tag){var p=f.memoizedState;if(null!==p)d=null!==p.dehydrated;else{var h=f.memoizedProps;d=void 0!==h.fallback&&(!0!==h.unstable_avoidThisFallback||!s)}}if(d){var m=f.updateQueue;if(null===m){var g=new Set;g.add(l),f.updateQueue=g}else m.add(l);if(0===(2&f.mode)){if(f.effectTag|=64,u.effectTag&=-2981,1===u.tag)if(null===u.alternate)u.tag=17;else{var v=ao(1073741823,null);v.tag=2,lo(u,v)}u.expirationTime=1073741823;break e}a=void 0,u=t;var y=i.pingCache;if(null===y?(y=i.pingCache=new pa,a=new Set,y.set(l,a)):void 0===(a=y.get(l))&&(a=new Set,y.set(l,a)),!a.has(u)){a.add(u);var b=bl.bind(null,i,l,u);l.then(b,b)}f.effectTag|=4096,f.expirationTime=t;break e}f=f.return}while(null!==f);a=Error((ge(u.type)||\"A React component\")+\" suspended while rendering, but no fallback UI was specified.\\n\\nAdd a <Suspense fallback=...> component higher in the tree to provide a loading indicator or placeholder to display.\"+ve(u))}5!==Sa&&(Sa=2),a=Ju(a,u),f=o;do{switch(f.tag){case 3:l=a,f.effectTag|=4096,f.expirationTime=t,co(f,ha(f,l,t));break e;case 1:l=a;var w=f.type,x=f.stateNode;if(0===(64&f.effectTag)&&(\"function\"===typeof w.getDerivedStateFromError||null!==x&&\"function\"===typeof x.componentDidCatch&&(null===Fa||!Fa.has(x)))){f.effectTag|=4096,f.expirationTime=t,co(f,ma(f,l,t));break e}}f=f.return}while(null!==f)}Ea=sl(Ea)}catch(_){t=_;continue}break}}function il(){var e=ya.current;return ya.current=gu,null===e?gu:e}function ol(e,t){e<Na&&2<e&&(Na=e),null!==t&&e<Pa&&2<e&&(Pa=e,Aa=t)}function ul(e){e>Ra&&(Ra=e)}function al(){for(;null!==Ea;)Ea=cl(Ea)}function ll(){for(;null!==Ea&&!Di();)Ea=cl(Ea)}function cl(e){var t=ga(e.alternate,e,Ca);return e.memoizedProps=e.pendingProps,null===t&&(t=sl(e)),ba.current=null,t}function sl(e){Ea=e;do{var t=Ea.alternate;if(e=Ea.return,0===(2048&Ea.effectTag)){if(t=Ku(t,Ea,Ca),1===Ca||1!==Ea.childExpirationTime){for(var n=0,r=Ea.child;null!==r;){var i=r.expirationTime,o=r.childExpirationTime;i>n&&(n=i),o>n&&(n=o),r=r.sibling}Ea.childExpirationTime=n}if(null!==t)return t;null!==e&&0===(2048&e.effectTag)&&(null===e.firstEffect&&(e.firstEffect=Ea.firstEffect),null!==Ea.lastEffect&&(null!==e.lastEffect&&(e.lastEffect.nextEffect=Ea.firstEffect),e.lastEffect=Ea.lastEffect),1<Ea.effectTag&&(null!==e.lastEffect?e.lastEffect.nextEffect=Ea:e.firstEffect=Ea,e.lastEffect=Ea))}else{if(null!==(t=Zu(Ea)))return t.effectTag&=2047,t;null!==e&&(e.firstEffect=e.lastEffect=null,e.effectTag|=2048)}if(null!==(t=Ea.sibling))return t;Ea=e}while(null!==Ea);return Sa===wa&&(Sa=5),null}function fl(e){var t=e.expirationTime;return t>(e=e.childExpirationTime)?t:e}function dl(e){var t=ji();return Vi(99,pl.bind(null,e,t)),null}function pl(e,t){do{ml()}while(null!==ja);if(0!==(48&ka))throw Error(u(327));var n=e.finishedWork,r=e.finishedExpirationTime;if(null===n)return null;if(e.finishedWork=null,e.finishedExpirationTime=0,n===e.current)throw Error(u(177));e.callbackNode=null,e.callbackExpirationTime=0,e.callbackPriority=90,e.nextKnownPendingLevel=0;var i=fl(n);if(e.firstPendingTime=i,r<=e.lastSuspendedTime?e.firstSuspendedTime=e.lastSuspendedTime=e.nextKnownPendingLevel=0:r<=e.firstSuspendedTime&&(e.firstSuspendedTime=r-1),r<=e.lastPingedTime&&(e.lastPingedTime=0),r<=e.lastExpiredTime&&(e.lastExpiredTime=0),e===Ta&&(Ea=Ta=null,Ca=0),1<n.effectTag?null!==n.lastEffect?(n.lastEffect.nextEffect=n,i=n.firstEffect):i=n:i=n.firstEffect,null!==i){var o=ka;ka|=32,ba.current=null,mn=qt;var a=pn();if(hn(a)){if(\"selectionStart\"in a)var l={start:a.selectionStart,end:a.selectionEnd};else e:{var c=(l=(l=a.ownerDocument)&&l.defaultView||window).getSelection&&l.getSelection();if(c&&0!==c.rangeCount){l=c.anchorNode;var s=c.anchorOffset,f=c.focusNode;c=c.focusOffset;try{l.nodeType,f.nodeType}catch(C){l=null;break e}var d=0,p=-1,h=-1,m=0,g=0,v=a,y=null;t:for(;;){for(var b;v!==l||0!==s&&3!==v.nodeType||(p=d+s),v!==f||0!==c&&3!==v.nodeType||(h=d+c),3===v.nodeType&&(d+=v.nodeValue.length),null!==(b=v.firstChild);)y=v,v=b;for(;;){if(v===a)break t;if(y===l&&++m===s&&(p=d),y===f&&++g===c&&(h=d),null!==(b=v.nextSibling))break;y=(v=y).parentNode}v=b}l=-1===p||-1===h?null:{start:p,end:h}}else l=null}l=l||{start:0,end:0}}else l=null;gn={activeElementDetached:null,focusedElem:a,selectionRange:l},qt=!1,za=i;do{try{hl()}catch(C){if(null===za)throw Error(u(330));yl(za,C),za=za.nextEffect}}while(null!==za);za=i;do{try{for(a=e,l=t;null!==za;){var w=za.effectTag;if(16&w&&je(za.stateNode,\"\"),128&w){var x=za.alternate;if(null!==x){var _=x.ref;null!==_&&(\"function\"===typeof _?_(null):_.current=null)}}switch(1038&w){case 2:ca(za),za.effectTag&=-3;break;case 6:ca(za),za.effectTag&=-3,fa(za.alternate,za);break;case 1024:za.effectTag&=-1025;break;case 1028:za.effectTag&=-1025,fa(za.alternate,za);break;case 4:fa(za.alternate,za);break;case 8:sa(a,s=za,l),aa(s)}za=za.nextEffect}}catch(C){if(null===za)throw Error(u(330));yl(za,C),za=za.nextEffect}}while(null!==za);if(_=gn,x=pn(),w=_.focusedElem,l=_.selectionRange,x!==w&&w&&w.ownerDocument&&function e(t,n){return!(!t||!n)&&(t===n||(!t||3!==t.nodeType)&&(n&&3===n.nodeType?e(t,n.parentNode):\"contains\"in t?t.contains(n):!!t.compareDocumentPosition&&!!(16&t.compareDocumentPosition(n))))}(w.ownerDocument.documentElement,w)){null!==l&&hn(w)&&(x=l.start,void 0===(_=l.end)&&(_=x),\"selectionStart\"in w?(w.selectionStart=x,w.selectionEnd=Math.min(_,w.value.length)):(_=(x=w.ownerDocument||document)&&x.defaultView||window).getSelection&&(_=_.getSelection(),s=w.textContent.length,a=Math.min(l.start,s),l=void 0===l.end?a:Math.min(l.end,s),!_.extend&&a>l&&(s=l,l=a,a=s),s=dn(w,a),f=dn(w,l),s&&f&&(1!==_.rangeCount||_.anchorNode!==s.node||_.anchorOffset!==s.offset||_.focusNode!==f.node||_.focusOffset!==f.offset)&&((x=x.createRange()).setStart(s.node,s.offset),_.removeAllRanges(),a>l?(_.addRange(x),_.extend(f.node,f.offset)):(x.setEnd(f.node,f.offset),_.addRange(x))))),x=[];for(_=w;_=_.parentNode;)1===_.nodeType&&x.push({element:_,left:_.scrollLeft,top:_.scrollTop});for(\"function\"===typeof w.focus&&w.focus(),w=0;w<x.length;w++)(_=x[w]).element.scrollLeft=_.left,_.element.scrollTop=_.top}qt=!!mn,gn=mn=null,e.current=n,za=i;do{try{for(w=e;null!==za;){var k=za.effectTag;if(36&k&&oa(w,za.alternate,za),128&k){x=void 0;var T=za.ref;if(null!==T){var E=za.stateNode;switch(za.tag){case 5:x=E;break;default:x=E}\"function\"===typeof T?T(x):T.current=x}}za=za.nextEffect}}catch(C){if(null===za)throw Error(u(330));yl(za,C),za=za.nextEffect}}while(null!==za);za=null,Oi(),ka=o}else e.current=n;if(Ia)Ia=!1,ja=e,Ha=t;else for(za=i;null!==za;)t=za.nextEffect,za.nextEffect=null,za=t;if(0===(t=e.firstPendingTime)&&(Fa=null),1073741823===t?e===Wa?$a++:($a=0,Wa=e):$a=0,\"function\"===typeof xl&&xl(n.stateNode,r),Za(e),La)throw La=!1,e=Ua,Ua=null,e;return 0!==(8&ka)||Qi(),null}function hl(){for(;null!==za;){var e=za.effectTag;0!==(256&e)&&na(za.alternate,za),0===(512&e)||Ia||(Ia=!0,$i(97,(function(){return ml(),null}))),za=za.nextEffect}}function ml(){if(90!==Ha){var e=97<Ha?97:Ha;return Ha=90,Vi(e,gl)}}function gl(){if(null===ja)return!1;var e=ja;if(ja=null,0!==(48&ka))throw Error(u(331));var t=ka;for(ka|=32,e=e.current.firstEffect;null!==e;){try{var n=e;if(0!==(512&n.effectTag))switch(n.tag){case 0:case 11:case 15:case 22:ra(5,n),ia(5,n)}}catch(r){if(null===e)throw Error(u(330));yl(e,r)}n=e.nextEffect,e.nextEffect=null,e=n}return ka=t,Qi(),!0}function vl(e,t,n){lo(e,t=ha(e,t=Ju(n,t),1073741823)),null!==(e=Xa(e,1073741823))&&Za(e)}function yl(e,t){if(3===e.tag)vl(e,e,t);else for(var n=e.return;null!==n;){if(3===n.tag){vl(n,e,t);break}if(1===n.tag){var r=n.stateNode;if(\"function\"===typeof n.type.getDerivedStateFromError||\"function\"===typeof r.componentDidCatch&&(null===Fa||!Fa.has(r))){lo(n,e=ma(n,e=Ju(t,e),1073741823)),null!==(n=Xa(n,1073741823))&&Za(n);break}}n=n.return}}function bl(e,t,n){var r=e.pingCache;null!==r&&r.delete(t),Ta===e&&Ca===n?Sa===_a||Sa===xa&&1073741823===Na&&Ii()-Oa<500?nl(e,Ca):Da=!0:Rl(e,n)&&(0!==(t=e.lastPingedTime)&&t<n||(e.lastPingedTime=n,Za(e)))}function wl(e,t){var n=e.stateNode;null!==n&&n.delete(t),0===(t=0)&&(t=Ba(t=qa(),e,null)),null!==(e=Xa(e,t))&&Za(e)}ga=function(e,t,n){var r=t.expirationTime;if(null!==e){var i=t.pendingProps;if(e.memoizedProps!==i||di.current)Pu=!0;else{if(r<n){switch(Pu=!1,t.tag){case 3:Iu(t),Mu();break;case 5:if(Oo(t),4&t.mode&&1!==n&&i.hidden)return t.expirationTime=t.childExpirationTime=1,null;break;case 1:mi(t.type)&&bi(t);break;case 4:Ro(t,t.stateNode.containerInfo);break;case 10:r=t.memoizedProps.value,i=t.type._context,ci(Xi,i._currentValue),i._currentValue=r;break;case 13:if(null!==t.memoizedState)return 0!==(r=t.child.childExpirationTime)&&r>=n?Wu(e,t,n):(ci(Lo,1&Lo.current),null!==(t=Yu(e,t,n))?t.sibling:null);ci(Lo,1&Lo.current);break;case 19:if(r=t.childExpirationTime>=n,0!==(64&e.effectTag)){if(r)return Bu(e,t,n);t.effectTag|=64}if(null!==(i=t.memoizedState)&&(i.rendering=null,i.tail=null),ci(Lo,Lo.current),!r)return null}return Yu(e,t,n)}Pu=!1}}else Pu=!1;switch(t.expirationTime=0,t.tag){case 2:if(r=t.type,null!==e&&(e.alternate=null,t.alternate=null,t.effectTag|=2),e=t.pendingProps,i=hi(t,fi.current),no(t,n),i=Yo(null,t,r,e,i,n),t.effectTag|=1,\"object\"===typeof i&&null!==i&&\"function\"===typeof i.render&&void 0===i.$$typeof){if(t.tag=1,t.memoizedState=null,t.updateQueue=null,mi(r)){var o=!0;bi(t)}else o=!1;t.memoizedState=null!==i.state&&void 0!==i.state?i.state:null,oo(t);var a=r.getDerivedStateFromProps;\"function\"===typeof a&&mo(t,r,a,e),i.updater=go,t.stateNode=i,i._reactInternalFiber=t,wo(t,r,e,n),t=Fu(null,t,r,!0,o,n)}else t.tag=0,Au(null,t,i,n),t=t.child;return t;case 16:e:{if(i=t.elementType,null!==e&&(e.alternate=null,t.alternate=null,t.effectTag|=2),e=t.pendingProps,function(e){if(-1===e._status){e._status=0;var t=e._ctor;t=t(),e._result=t,t.then((function(t){0===e._status&&(t=t.default,e._status=1,e._result=t)}),(function(t){0===e._status&&(e._status=2,e._result=t)}))}}(i),1!==i._status)throw i._result;switch(i=i._result,t.type=i,o=t.tag=function(e){if(\"function\"===typeof e)return El(e)?1:0;if(void 0!==e&&null!==e){if((e=e.$$typeof)===le)return 11;if(e===fe)return 14}return 2}(i),e=Yi(i,e),o){case 0:t=Lu(null,t,i,e,n);break e;case 1:t=Uu(null,t,i,e,n);break e;case 11:t=Ru(null,t,i,e,n);break e;case 14:t=Du(null,t,i,Yi(i.type,e),r,n);break e}throw Error(u(306,i,\"\"))}return t;case 0:return r=t.type,i=t.pendingProps,Lu(e,t,r,i=t.elementType===r?i:Yi(r,i),n);case 1:return r=t.type,i=t.pendingProps,Uu(e,t,r,i=t.elementType===r?i:Yi(r,i),n);case 3:if(Iu(t),r=t.updateQueue,null===e||null===r)throw Error(u(282));if(r=t.pendingProps,i=null!==(i=t.memoizedState)?i.element:null,uo(e,t),so(t,r,null,n),(r=t.memoizedState.element)===i)Mu(),t=Yu(e,t,n);else{if((i=t.stateNode.hydrate)&&(xu=xn(t.stateNode.containerInfo.firstChild),wu=t,i=_u=!0),i)for(n=Co(t,null,r,n),t.child=n;n;)n.effectTag=-3&n.effectTag|1024,n=n.sibling;else Au(e,t,r,n),Mu();t=t.child}return t;case 5:return Oo(t),null===e&&Eu(t),r=t.type,i=t.pendingProps,o=null!==e?e.memoizedProps:null,a=i.children,yn(r,i)?a=null:null!==o&&yn(r,o)&&(t.effectTag|=16),zu(e,t),4&t.mode&&1!==n&&i.hidden?(t.expirationTime=t.childExpirationTime=1,t=null):(Au(e,t,a,n),t=t.child),t;case 6:return null===e&&Eu(t),null;case 13:return Wu(e,t,n);case 4:return Ro(t,t.stateNode.containerInfo),r=t.pendingProps,null===e?t.child=Eo(t,null,r,n):Au(e,t,r,n),t.child;case 11:return r=t.type,i=t.pendingProps,Ru(e,t,r,i=t.elementType===r?i:Yi(r,i),n);case 7:return Au(e,t,t.pendingProps,n),t.child;case 8:case 12:return Au(e,t,t.pendingProps.children,n),t.child;case 10:e:{r=t.type._context,i=t.pendingProps,a=t.memoizedProps,o=i.value;var l=t.type._context;if(ci(Xi,l._currentValue),l._currentValue=o,null!==a)if(l=a.value,0===(o=Ur(l,o)?0:0|(\"function\"===typeof r._calculateChangedBits?r._calculateChangedBits(l,o):1073741823))){if(a.children===i.children&&!di.current){t=Yu(e,t,n);break e}}else for(null!==(l=t.child)&&(l.return=t);null!==l;){var c=l.dependencies;if(null!==c){a=l.child;for(var s=c.firstContext;null!==s;){if(s.context===r&&0!==(s.observedBits&o)){1===l.tag&&((s=ao(n,null)).tag=2,lo(l,s)),l.expirationTime<n&&(l.expirationTime=n),null!==(s=l.alternate)&&s.expirationTime<n&&(s.expirationTime=n),to(l.return,n),c.expirationTime<n&&(c.expirationTime=n);break}s=s.next}}else a=10===l.tag&&l.type===t.type?null:l.child;if(null!==a)a.return=l;else for(a=l;null!==a;){if(a===t){a=null;break}if(null!==(l=a.sibling)){l.return=a.return,a=l;break}a=a.return}l=a}Au(e,t,i.children,n),t=t.child}return t;case 9:return i=t.type,r=(o=t.pendingProps).children,no(t,n),r=r(i=ro(i,o.unstable_observedBits)),t.effectTag|=1,Au(e,t,r,n),t.child;case 14:return o=Yi(i=t.type,t.pendingProps),Du(e,t,i,o=Yi(i.type,o),r,n);case 15:return Ou(e,t,t.type,t.pendingProps,r,n);case 17:return r=t.type,i=t.pendingProps,i=t.elementType===r?i:Yi(r,i),null!==e&&(e.alternate=null,t.alternate=null,t.effectTag|=2),t.tag=1,mi(r)?(e=!0,bi(t)):e=!1,no(t,n),yo(t,r,i),wo(t,r,i,n),Fu(null,t,r,!0,e,n);case 19:return Bu(e,t,n)}throw Error(u(156,t.tag))};var xl=null,_l=null;function kl(e,t,n,r){this.tag=e,this.key=n,this.sibling=this.child=this.return=this.stateNode=this.type=this.elementType=null,this.index=0,this.ref=null,this.pendingProps=t,this.dependencies=this.memoizedState=this.updateQueue=this.memoizedProps=null,this.mode=r,this.effectTag=0,this.lastEffect=this.firstEffect=this.nextEffect=null,this.childExpirationTime=this.expirationTime=0,this.alternate=null}function Tl(e,t,n,r){return new kl(e,t,n,r)}function El(e){return!(!(e=e.prototype)||!e.isReactComponent)}function Cl(e,t){var n=e.alternate;return null===n?((n=Tl(e.tag,t,e.key,e.mode)).elementType=e.elementType,n.type=e.type,n.stateNode=e.stateNode,n.alternate=e,e.alternate=n):(n.pendingProps=t,n.effectTag=0,n.nextEffect=null,n.firstEffect=null,n.lastEffect=null),n.childExpirationTime=e.childExpirationTime,n.expirationTime=e.expirationTime,n.child=e.child,n.memoizedProps=e.memoizedProps,n.memoizedState=e.memoizedState,n.updateQueue=e.updateQueue,t=e.dependencies,n.dependencies=null===t?null:{expirationTime:t.expirationTime,firstContext:t.firstContext,responders:t.responders},n.sibling=e.sibling,n.index=e.index,n.ref=e.ref,n}function Sl(e,t,n,r,i,o){var a=2;if(r=e,\"function\"===typeof e)El(e)&&(a=1);else if(\"string\"===typeof e)a=5;else e:switch(e){case ne:return Ml(n.children,i,o,t);case ae:a=8,i|=7;break;case re:a=8,i|=1;break;case ie:return(e=Tl(12,n,t,8|i)).elementType=ie,e.type=ie,e.expirationTime=o,e;case ce:return(e=Tl(13,n,t,i)).type=ce,e.elementType=ce,e.expirationTime=o,e;case se:return(e=Tl(19,n,t,i)).elementType=se,e.expirationTime=o,e;default:if(\"object\"===typeof e&&null!==e)switch(e.$$typeof){case oe:a=10;break e;case ue:a=9;break e;case le:a=11;break e;case fe:a=14;break e;case de:a=16,r=null;break e;case pe:a=22;break e}throw Error(u(130,null==e?e:typeof e,\"\"))}return(t=Tl(a,n,t,i)).elementType=e,t.type=r,t.expirationTime=o,t}function Ml(e,t,n,r){return(e=Tl(7,e,r,t)).expirationTime=n,e}function Nl(e,t,n){return(e=Tl(6,e,null,t)).expirationTime=n,e}function Pl(e,t,n){return(t=Tl(4,null!==e.children?e.children:[],e.key,t)).expirationTime=n,t.stateNode={containerInfo:e.containerInfo,pendingChildren:null,implementation:e.implementation},t}function Al(e,t,n){this.tag=t,this.current=null,this.containerInfo=e,this.pingCache=this.pendingChildren=null,this.finishedExpirationTime=0,this.finishedWork=null,this.timeoutHandle=-1,this.pendingContext=this.context=null,this.hydrate=n,this.callbackNode=null,this.callbackPriority=90,this.lastExpiredTime=this.lastPingedTime=this.nextKnownPendingLevel=this.lastSuspendedTime=this.firstSuspendedTime=this.firstPendingTime=0}function Rl(e,t){var n=e.firstSuspendedTime;return e=e.lastSuspendedTime,0!==n&&n>=t&&e<=t}function Dl(e,t){var n=e.firstSuspendedTime,r=e.lastSuspendedTime;n<t&&(e.firstSuspendedTime=t),(r>t||0===n)&&(e.lastSuspendedTime=t),t<=e.lastPingedTime&&(e.lastPingedTime=0),t<=e.lastExpiredTime&&(e.lastExpiredTime=0)}function Ol(e,t){t>e.firstPendingTime&&(e.firstPendingTime=t);var n=e.firstSuspendedTime;0!==n&&(t>=n?e.firstSuspendedTime=e.lastSuspendedTime=e.nextKnownPendingLevel=0:t>=e.lastSuspendedTime&&(e.lastSuspendedTime=t+1),t>e.nextKnownPendingLevel&&(e.nextKnownPendingLevel=t))}function zl(e,t){var n=e.lastExpiredTime;(0===n||n>t)&&(e.lastExpiredTime=t)}function Ll(e,t,n,r){var i=t.current,o=qa(),a=po.suspense;o=Ba(o,i,a);e:if(n){t:{if(Ge(n=n._reactInternalFiber)!==n||1!==n.tag)throw Error(u(170));var l=n;do{switch(l.tag){case 3:l=l.stateNode.context;break t;case 1:if(mi(l.type)){l=l.stateNode.__reactInternalMemoizedMergedChildContext;break t}}l=l.return}while(null!==l);throw Error(u(171))}if(1===n.tag){var c=n.type;if(mi(c)){n=yi(n,c,l);break e}}n=l}else n=si;return null===t.context?t.context=n:t.pendingContext=n,(t=ao(o,a)).payload={element:e},null!==(r=void 0===r?null:r)&&(t.callback=r),lo(i,t),Ya(i,o),o}function Ul(e){if(!(e=e.current).child)return null;switch(e.child.tag){case 5:default:return e.child.stateNode}}function Fl(e,t){null!==(e=e.memoizedState)&&null!==e.dehydrated&&e.retryTime<t&&(e.retryTime=t)}function Il(e,t){Fl(e,t),(e=e.alternate)&&Fl(e,t)}function jl(e,t,n){var r=new Al(e,t,n=null!=n&&!0===n.hydrate),i=Tl(3,null,null,2===t?7:1===t?3:0);r.current=i,i.stateNode=r,oo(i),e[Cn]=r.current,n&&0!==t&&function(e,t){var n=Je(t);Ct.forEach((function(e){ht(e,t,n)})),St.forEach((function(e){ht(e,t,n)}))}(0,9===e.nodeType?e:e.ownerDocument),this._internalRoot=r}function Hl(e){return!(!e||1!==e.nodeType&&9!==e.nodeType&&11!==e.nodeType&&(8!==e.nodeType||\" react-mount-point-unstable \"!==e.nodeValue))}function Vl(e,t,n,r,i){var o=n._reactRootContainer;if(o){var u=o._internalRoot;if(\"function\"===typeof i){var a=i;i=function(){var e=Ul(u);a.call(e)}}Ll(t,u,e,i)}else{if(o=n._reactRootContainer=function(e,t){if(t||(t=!(!(t=e?9===e.nodeType?e.documentElement:e.firstChild:null)||1!==t.nodeType||!t.hasAttribute(\"data-reactroot\"))),!t)for(var n;n=e.lastChild;)e.removeChild(n);return new jl(e,0,t?{hydrate:!0}:void 0)}(n,r),u=o._internalRoot,\"function\"===typeof i){var l=i;i=function(){var e=Ul(u);l.call(e)}}tl((function(){Ll(t,u,e,i)}))}return Ul(u)}function $l(e,t,n){var r=3<arguments.length&&void 0!==arguments[3]?arguments[3]:null;return{$$typeof:te,key:null==r?null:\"\"+r,children:e,containerInfo:t,implementation:n}}function Wl(e,t){var n=2<arguments.length&&void 0!==arguments[2]?arguments[2]:null;if(!Hl(t))throw Error(u(200));return $l(e,t,null,n)}jl.prototype.render=function(e){Ll(e,this._internalRoot,null,null)},jl.prototype.unmount=function(){var e=this._internalRoot,t=e.containerInfo;Ll(null,e,null,(function(){t[Cn]=null}))},mt=function(e){if(13===e.tag){var t=Bi(qa(),150,100);Ya(e,t),Il(e,t)}},gt=function(e){13===e.tag&&(Ya(e,3),Il(e,3))},vt=function(e){if(13===e.tag){var t=qa();Ya(e,t=Ba(t,e,null)),Il(e,t)}},M=function(e,t,n){switch(t){case\"input\":if(Ee(e,n),t=n.name,\"radio\"===n.type&&null!=t){for(n=e;n.parentNode;)n=n.parentNode;for(n=n.querySelectorAll(\"input[name=\"+JSON.stringify(\"\"+t)+'][type=\"radio\"]'),t=0;t<n.length;t++){var r=n[t];if(r!==e&&r.form===e.form){var i=Pn(r);if(!i)throw Error(u(90));xe(r),Ee(r,i)}}}break;case\"textarea\":Re(e,n);break;case\"select\":null!=(t=n.value)&&Ne(e,!!n.multiple,t,!1)}},O=el,z=function(e,t,n,r,i){var o=ka;ka|=4;try{return Vi(98,e.bind(null,t,n,r,i))}finally{0===(ka=o)&&Qi()}},L=function(){0===(49&ka)&&(function(){if(null!==Va){var e=Va;Va=null,e.forEach((function(e,t){zl(t,e),Za(t)})),Qi()}}(),ml())},U=function(e,t){var n=ka;ka|=2;try{return e(t)}finally{0===(ka=n)&&Qi()}};var Ql={Events:[Mn,Nn,Pn,C,k,Un,function(e){it(e,Ln)},R,D,Zt,at,ml,{current:!1}]};!function(e){var t=e.findFiberByHostInstance;(function(e){if(\"undefined\"===typeof __REACT_DEVTOOLS_GLOBAL_HOOK__)return!1;var t=__REACT_DEVTOOLS_GLOBAL_HOOK__;if(t.isDisabled||!t.supportsFiber)return!0;try{var n=t.inject(e);xl=function(e){try{t.onCommitFiberRoot(n,e,void 0,64===(64&e.current.effectTag))}catch(r){}},_l=function(e){try{t.onCommitFiberUnmount(n,e)}catch(r){}}}catch(r){}})(i({},e,{overrideHookState:null,overrideProps:null,setSuspenseHandler:null,scheduleUpdate:null,currentDispatcherRef:K.ReactCurrentDispatcher,findHostInstanceByFiber:function(e){return null===(e=nt(e))?null:e.stateNode},findFiberByHostInstance:function(e){return t?t(e):null},findHostInstancesForRefresh:null,scheduleRefresh:null,scheduleRoot:null,setRefreshHandler:null,getCurrentFiber:null}))}({findFiberByHostInstance:Sn,bundleType:0,version:\"16.13.1\",rendererPackageName:\"react-dom\"}),t.__SECRET_INTERNALS_DO_NOT_USE_OR_YOU_WILL_BE_FIRED=Ql,t.createPortal=Wl,t.findDOMNode=function(e){if(null==e)return null;if(1===e.nodeType)return e;var t=e._reactInternalFiber;if(void 0===t){if(\"function\"===typeof e.render)throw Error(u(188));throw Error(u(268,Object.keys(e)))}return e=null===(e=nt(t))?null:e.stateNode},t.flushSync=function(e,t){if(0!==(48&ka))throw Error(u(187));var n=ka;ka|=1;try{return Vi(99,e.bind(null,t))}finally{ka=n,Qi()}},t.hydrate=function(e,t,n){if(!Hl(t))throw Error(u(200));return Vl(null,e,t,!0,n)},t.render=function(e,t,n){if(!Hl(t))throw Error(u(200));return Vl(null,e,t,!1,n)},t.unmountComponentAtNode=function(e){if(!Hl(e))throw Error(u(40));return!!e._reactRootContainer&&(tl((function(){Vl(null,null,e,!1,(function(){e._reactRootContainer=null,e[Cn]=null}))})),!0)},t.unstable_batchedUpdates=el,t.unstable_createPortal=function(e,t){return Wl(e,t,2<arguments.length&&void 0!==arguments[2]?arguments[2]:null)},t.unstable_renderSubtreeIntoContainer=function(e,t,n,r){if(!Hl(n))throw Error(u(200));if(null==e||void 0===e._reactInternalFiber)throw Error(u(38));return Vl(e,t,n,!1,r)},t.version=\"16.13.1\"},function(e,t,n){\"use strict\";e.exports=n(32)},function(e,t,n){\"use strict\";var r,i,o,u,a;if(\"undefined\"===typeof window||\"function\"!==typeof MessageChannel){var l=null,c=null,s=function e(){if(null!==l)try{var n=t.unstable_now();l(!0,n),l=null}catch(r){throw setTimeout(e,0),r}},f=Date.now();t.unstable_now=function(){return Date.now()-f},r=function(e){null!==l?setTimeout(r,0,e):(l=e,setTimeout(s,0))},i=function(e,t){c=setTimeout(e,t)},o=function(){clearTimeout(c)},u=function(){return!1},a=t.unstable_forceFrameRate=function(){}}else{var d=window.performance,p=window.Date,h=window.setTimeout,m=window.clearTimeout;if(\"undefined\"!==typeof console){var g=window.cancelAnimationFrame;\"function\"!==typeof window.requestAnimationFrame&&console.error(\"This browser doesn't support requestAnimationFrame. Make sure that you load a polyfill in older browsers. https://fb.me/react-polyfills\"),\"function\"!==typeof g&&console.error(\"This browser doesn't support cancelAnimationFrame. Make sure that you load a polyfill in older browsers. https://fb.me/react-polyfills\")}if(\"object\"===typeof d&&\"function\"===typeof d.now)t.unstable_now=function(){return d.now()};else{var v=p.now();t.unstable_now=function(){return p.now()-v}}var y=!1,b=null,w=-1,x=5,_=0;u=function(){return t.unstable_now()>=_},a=function(){},t.unstable_forceFrameRate=function(e){0>e||125<e?console.error(\"forceFrameRate takes a positive int between 0 and 125, forcing framerates higher than 125 fps is not unsupported\"):x=0<e?Math.floor(1e3/e):5};var k=new MessageChannel,T=k.port2;k.port1.onmessage=function(){if(null!==b){var e=t.unstable_now();_=e+x;try{b(!0,e)?T.postMessage(null):(y=!1,b=null)}catch(n){throw T.postMessage(null),n}}else y=!1},r=function(e){b=e,y||(y=!0,T.postMessage(null))},i=function(e,n){w=h((function(){e(t.unstable_now())}),n)},o=function(){m(w),w=-1}}function E(e,t){var n=e.length;e.push(t);e:for(;;){var r=n-1>>>1,i=e[r];if(!(void 0!==i&&0<M(i,t)))break e;e[r]=t,e[n]=i,n=r}}function C(e){return void 0===(e=e[0])?null:e}function S(e){var t=e[0];if(void 0!==t){var n=e.pop();if(n!==t){e[0]=n;e:for(var r=0,i=e.length;r<i;){var o=2*(r+1)-1,u=e[o],a=o+1,l=e[a];if(void 0!==u&&0>M(u,n))void 0!==l&&0>M(l,u)?(e[r]=l,e[a]=n,r=a):(e[r]=u,e[o]=n,r=o);else{if(!(void 0!==l&&0>M(l,n)))break e;e[r]=l,e[a]=n,r=a}}}return t}return null}function M(e,t){var n=e.sortIndex-t.sortIndex;return 0!==n?n:e.id-t.id}var N=[],P=[],A=1,R=null,D=3,O=!1,z=!1,L=!1;function U(e){for(var t=C(P);null!==t;){if(null===t.callback)S(P);else{if(!(t.startTime<=e))break;S(P),t.sortIndex=t.expirationTime,E(N,t)}t=C(P)}}function F(e){if(L=!1,U(e),!z)if(null!==C(N))z=!0,r(I);else{var t=C(P);null!==t&&i(F,t.startTime-e)}}function I(e,n){z=!1,L&&(L=!1,o()),O=!0;var r=D;try{for(U(n),R=C(N);null!==R&&(!(R.expirationTime>n)||e&&!u());){var a=R.callback;if(null!==a){R.callback=null,D=R.priorityLevel;var l=a(R.expirationTime<=n);n=t.unstable_now(),\"function\"===typeof l?R.callback=l:R===C(N)&&S(N),U(n)}else S(N);R=C(N)}if(null!==R)var c=!0;else{var s=C(P);null!==s&&i(F,s.startTime-n),c=!1}return c}finally{R=null,D=r,O=!1}}function j(e){switch(e){case 1:return-1;case 2:return 250;case 5:return 1073741823;case 4:return 1e4;default:return 5e3}}var H=a;t.unstable_IdlePriority=5,t.unstable_ImmediatePriority=1,t.unstable_LowPriority=4,t.unstable_NormalPriority=3,t.unstable_Profiling=null,t.unstable_UserBlockingPriority=2,t.unstable_cancelCallback=function(e){e.callback=null},t.unstable_continueExecution=function(){z||O||(z=!0,r(I))},t.unstable_getCurrentPriorityLevel=function(){return D},t.unstable_getFirstCallbackNode=function(){return C(N)},t.unstable_next=function(e){switch(D){case 1:case 2:case 3:var t=3;break;default:t=D}var n=D;D=t;try{return e()}finally{D=n}},t.unstable_pauseExecution=function(){},t.unstable_requestPaint=H,t.unstable_runWithPriority=function(e,t){switch(e){case 1:case 2:case 3:case 4:case 5:break;default:e=3}var n=D;D=e;try{return t()}finally{D=n}},t.unstable_scheduleCallback=function(e,n,u){var a=t.unstable_now();if(\"object\"===typeof u&&null!==u){var l=u.delay;l=\"number\"===typeof l&&0<l?a+l:a,u=\"number\"===typeof u.timeout?u.timeout:j(e)}else u=j(e),l=a;return e={id:A++,callback:n,priorityLevel:e,startTime:l,expirationTime:u=l+u,sortIndex:-1},l>a?(e.sortIndex=l,E(P,e),null===C(N)&&e===C(P)&&(L?o():L=!0,i(F,l-a))):(e.sortIndex=u,E(N,e),z||O||(z=!0,r(I))),e},t.unstable_shouldYield=function(){var e=t.unstable_now();U(e);var n=C(N);return n!==R&&null!==R&&null!==n&&null!==n.callback&&n.startTime<=e&&n.expirationTime<R.expirationTime||u()},t.unstable_wrapCallback=function(e){var t=D;return function(){var n=D;D=t;try{return e.apply(this,arguments)}finally{D=n}}}}]]);\n",
              "\n",
              "(this[\"webpackJsonpvisualisation-d3\"]=this[\"webpackJsonpvisualisation-d3\"]||[]).push([[0],{18:function(e,t,a){},28:function(e,t,a){e.exports=a(33)},33:function(e,t,a){\"use strict\";a.r(t);var r=a(0),n=a.n(r),i=a(8),c=a(2),l=(a(18),a(9)),o=a(10),s=a(11),y=a(13),m=a(12),p=function(e){Object(y.a)(a,e);var t=Object(m.a)(a);function a(){return Object(l.a)(this,a),t.apply(this,arguments)}return Object(o.a)(a,[{key:\"render\",value:function(){var e=\"0 0 \".concat(500,\" \").concat(900),t={paddingBottom:\"180%\"},a={stroke:\"rgba(70, 130, 180,.3)\",strokeWidth:1},r={stroke:\"rgba(70, 130, 180,.7)\",strokeWidth:1},i={stroke:\"rgba(70, 130, 180,.7)\",strokeWidth:2},l=this.props.data_terms,o=(this.props.itemsDisplay,this.props.data_weight),s=this.props.cat,y=l.length,m=75+27*y,p=230/c.b(l,(function(e){return+Math.round(e.Total)})),u=c.e().domain([c.c(o,(function(e){return+e.proportion})),c.b(o,(function(e){return+e.proportion}))]).range([5,17]);return n.a.createElement(n.a.Fragment,null,n.a.createElement(\"div\",{className:\"svg-container\",style:t},n.a.createElement(\"svg\",{preserveAspectRatio:\"xMidYMidmeet\",viewBox:e,className:\"svg-content-responsive\"},n.a.createElement(\"line\",{x1:5,x2:495,y1:5,y2:5,style:i}),n.a.createElement(\"text\",{className:\"svg_h1\",x:12,y:50},\"Topic weight\"),n.a.createElement(\"text\",{className:\"svg_h1\",x:110,y:50},\"Default\"==s?\"Term frequency - All Topics\":\"Term frequency - \"+s,\" \"),n.a.createElement(\"line\",{x1:5,x2:495,y1:55,y2:55,style:r}),n.a.createElement(\"line\",{x1:5,x2:495,y1:m,y2:m,style:i}),n.a.createElement(\"rect\",{x:345,y:24,width:\"12\",height:\"10\",fill:\"rgba(243, 157, 65,1)\"}),n.a.createElement(\"text\",{x:365,y:34,className:\"svg_text_2\"},\"Frequency within topic\"),n.a.createElement(\"rect\",{x:345,y:40,width:\"12\",height:\"10\",fill:\"rgba(70, 130, 180,.7)\"}),n.a.createElement(\"text\",{x:365,y:50,className:\"svg_text_2\"},\"Overall term frequency\"),n.a.createElement(\"line\",{x1:230,x2:230,y1:55,y2:m,style:a}),n.a.createElement(\"line\",{x1:5,x2:5,y1:5,y2:m,style:i}),n.a.createElement(\"line\",{x1:100,x2:100,y1:5,y2:m,style:i}),n.a.createElement(\"line\",{x1:495,x2:495,y1:5,y2:m,style:i}),o.map((function(e,t){return n.a.createElement(n.a.Fragment,{key:\"frag_\"+t},n.a.createElement(\"line\",{key:t+\"_1_\",x1:5,x2:100,y1:135+80*t,y2:135+80*t,style:r}),n.a.createElement(\"text\",{key:t+\"2_\",x:50,y:87+80*t,className:\"svg_h2\"},\"Topic \"+(+e.topic_id+1)),n.a.createElement(\"circle\",{key:t+\"_c\",cx:25,cy:95+80*t,r:u(e.proportion),fill:\"Topic\"+(+e.topic_id+1)==s?\"rgba(243, 157, 65,.8)\":\"rgba(70, 130, 180,.8)\"}),n.a.createElement(\"text\",{key:t+\"_prc\",x:55,y:102+80*t,className:\"svg_h1\"},Math.round(100*e.proportion,2)+\"%\"))})),l.map((function(e,t){return n.a.createElement(n.a.Fragment,{key:\"frag_2_\"+t},n.a.createElement(\"text\",{key:t+\"_term_\",x:110,y:90+27*t,className:\"svg_text\"},e.Term),n.a.createElement(\"line\",{key:t+\"_l\",x1:105,x2:495,y1:91+27*t,y2:91+27*t,style:a}),n.a.createElement(\"rect\",{key:t+\"_r1\",x:230,y:\"Default\"==e.Category?80+27*t:82+27*t,width:+e.Total*p,height:\"Default\"==e.Category?\"12\":\"8\",fill:\"rgba(70, 130, 180,.8)\"}),n.a.createElement(\"text\",{key:t+\"_tot_\",x:232+ +e.Total*p,y:89+27*t,className:\"svg_text_3\"},\"Default\"==e.Category?Number(e.Total).toFixed(0):Number(e.Total).toFixed(1)),n.a.createElement(\"rect\",{key:t+\"_r2\",x:230,y:72+27*t,width:+e.Freq*p,height:\"8\",fill:\"Default\"==e.Category?\"rgba(70, 130, 180,0)\":\"rgba(243, 157, 65,.8)\"}),n.a.createElement(\"text\",{key:t+\"_tot2_\",x:232+ +e.Freq*p,y:79+27*t,className:\"svg_text_3\",fill:\"Default\"==e.Category?\"rgba(70, 130, 180,0)\":\"rgb(0, 0, 0)\"},Number(e.Freq).toFixed(1)))})))))}}]),a}(n.a.Component),u=function(e){Object(y.a)(a,e);var t=Object(m.a)(a);function a(e){var r;return Object(l.a)(this,a),(r=t.call(this,e)).state={Category:\"Default\",Color:\"rgba(70, 130, 180,.8)\"},r.handleChange=r.handleChange.bind(Object(s.a)(r)),r}return Object(o.a)(a,[{key:\"handleChange\",value:function(e){this.setState({Category:e.target.value})}},{key:\"render\",value:function(){var e=this.props.topic_info,t=this.props.topic_proportion,a=c.d().key((function(e){return e.Category})).entries(e),r=this.state.Category,i=e.filter((function(e){return e.Category===r})).slice(0,30),l=t;return n.a.createElement(n.a.Fragment,null,n.a.createElement(\"div\",{className:\"select_box\"},n.a.createElement(\"select\",{value:this.state.Category,onChange:this.handleChange},a.map((function(e){return n.a.createElement(\"option\",{key:e.key},e.key)})))),n.a.createElement(\"div\",{className:\"main_container_svg\"},n.a.createElement(p,{data_terms:i,data_weight:l,itemsDisplay:30,cat:this.state.Category})))}}]),a}(n.a.Component);Promise.all([c.a(\"/nbextensions/topic_info.csv\"),c.a(\"/nbextensions/topic_proportion.csv\")]).then((function(e){var t=e[0],a=e[1],r=document.getElementById(\"vis_tm_1\");r.hasChildNodes()?Object(i.hydrate)(n.a.createElement(u,{topic_info:t,topic_proportion:a}),r):Object(i.render)(n.a.createElement(u,{topic_info:t,topic_proportion:a}),r)})).catch((function(e){}))}},[[28,1,2]]]);"
            ],
            "text/plain": [
              "<IPython.core.display.Javascript object>"
            ]
          },
          "metadata": {
            "tags": []
          },
          "execution_count": 76
        }
      ]
    },
    {
      "cell_type": "markdown",
      "metadata": {
        "colab_type": "text",
        "id": "Tn70q1uGWx40"
      },
      "source": [
        "# Topic distribution"
      ]
    },
    {
      "cell_type": "markdown",
      "metadata": {
        "colab_type": "text",
        "id": "tJQWcQhLXN0A"
      },
      "source": [
        "## 3.1. Distribution per topic and per document"
      ]
    },
    {
      "cell_type": "code",
      "metadata": {
        "colab_type": "code",
        "id": "uCv_Yd4LXNCs",
        "colab": {}
      },
      "source": [
        "%%capture\n",
        "ldamodel = model"
      ],
      "execution_count": 77,
      "outputs": []
    },
    {
      "cell_type": "code",
      "metadata": {
        "colab_type": "code",
        "id": "FfTOWir8ijZz",
        "colab": {}
      },
      "source": [
        "doc_topic_weights = ldamodel.inference(corpus)[0]\n",
        "doc_topic_dists = doc_topic_weights / doc_topic_weights.sum(axis=1)[:, None]"
      ],
      "execution_count": 78,
      "outputs": []
    },
    {
      "cell_type": "code",
      "metadata": {
        "colab_type": "code",
        "id": "QceWuyVJi0yE",
        "colab": {}
      },
      "source": [
        "distribution_gensim = pd.DataFrame(doc_topic_dists,columns=[f'topic{i}' for i in range(numtopics)])"
      ],
      "execution_count": 79,
      "outputs": []
    },
    {
      "cell_type": "code",
      "metadata": {
        "colab_type": "code",
        "id": "VdJPQTn5nMvx",
        "colab": {}
      },
      "source": [
        "distribution_gensim.index.name = 'document'"
      ],
      "execution_count": 80,
      "outputs": []
    },
    {
      "cell_type": "code",
      "metadata": {
        "colab_type": "code",
        "id": "nuNjFvpSXf33",
        "colab": {
          "base_uri": "https://localhost:8080/",
          "height": 810
        },
        "outputId": "e39d0aaa-be1b-4748-910c-186e1002eb86"
      },
      "source": [
        "# add file names and publication name\n",
        "distribution_gensim_wfiles = distribution_gensim.copy()\n",
        "distribution_gensim_wfiles.insert(0, 'document_path', corpus_df['file_name'])\n",
        "distribution_gensim_wfiles.insert(1, 'publication_name', corpus_df['publication_name'])\n",
        "distribution_gensim_wfiles"
      ],
      "execution_count": 81,
      "outputs": [
        {
          "output_type": "execute_result",
          "data": {
            "text/html": [
              "<div>\n",
              "<style scoped>\n",
              "    .dataframe tbody tr th:only-of-type {\n",
              "        vertical-align: middle;\n",
              "    }\n",
              "\n",
              "    .dataframe tbody tr th {\n",
              "        vertical-align: top;\n",
              "    }\n",
              "\n",
              "    .dataframe thead th {\n",
              "        text-align: right;\n",
              "    }\n",
              "</style>\n",
              "<table border=\"1\" class=\"dataframe\">\n",
              "  <thead>\n",
              "    <tr style=\"text-align: right;\">\n",
              "      <th></th>\n",
              "      <th>document_path</th>\n",
              "      <th>publication_name</th>\n",
              "      <th>topic0</th>\n",
              "      <th>topic1</th>\n",
              "      <th>topic2</th>\n",
              "      <th>topic3</th>\n",
              "      <th>topic4</th>\n",
              "      <th>topic5</th>\n",
              "      <th>topic6</th>\n",
              "      <th>topic7</th>\n",
              "      <th>topic8</th>\n",
              "      <th>topic9</th>\n",
              "      <th>topic10</th>\n",
              "    </tr>\n",
              "    <tr>\n",
              "      <th>document</th>\n",
              "      <th></th>\n",
              "      <th></th>\n",
              "      <th></th>\n",
              "      <th></th>\n",
              "      <th></th>\n",
              "      <th></th>\n",
              "      <th></th>\n",
              "      <th></th>\n",
              "      <th></th>\n",
              "      <th></th>\n",
              "      <th></th>\n",
              "      <th></th>\n",
              "      <th></th>\n",
              "    </tr>\n",
              "  </thead>\n",
              "  <tbody>\n",
              "    <tr>\n",
              "      <th>0</th>\n",
              "      <td>2012271201_1904-03-26_ed-1_seq-1_ocr.txt</td>\n",
              "      <td>Cronaca Sovversiva</td>\n",
              "      <td>0.463840</td>\n",
              "      <td>0.003911</td>\n",
              "      <td>0.003911</td>\n",
              "      <td>0.500958</td>\n",
              "      <td>0.003911</td>\n",
              "      <td>0.003911</td>\n",
              "      <td>0.003911</td>\n",
              "      <td>0.003911</td>\n",
              "      <td>0.003911</td>\n",
              "      <td>0.003911</td>\n",
              "      <td>0.003911</td>\n",
              "    </tr>\n",
              "    <tr>\n",
              "      <th>1</th>\n",
              "      <td>2012271201_1912-06-15_ed-1_seq-1_ocr.txt</td>\n",
              "      <td>Cronaca Sovversiva</td>\n",
              "      <td>0.003389</td>\n",
              "      <td>0.003389</td>\n",
              "      <td>0.003389</td>\n",
              "      <td>0.655827</td>\n",
              "      <td>0.003389</td>\n",
              "      <td>0.003389</td>\n",
              "      <td>0.313671</td>\n",
              "      <td>0.003389</td>\n",
              "      <td>0.003389</td>\n",
              "      <td>0.003389</td>\n",
              "      <td>0.003389</td>\n",
              "    </tr>\n",
              "    <tr>\n",
              "      <th>2</th>\n",
              "      <td>2012271201_1905-04-15_ed-1_seq-1_ocr.txt</td>\n",
              "      <td>Cronaca Sovversiva</td>\n",
              "      <td>0.004592</td>\n",
              "      <td>0.004592</td>\n",
              "      <td>0.004592</td>\n",
              "      <td>0.645733</td>\n",
              "      <td>0.004592</td>\n",
              "      <td>0.004592</td>\n",
              "      <td>0.004592</td>\n",
              "      <td>0.004592</td>\n",
              "      <td>0.312936</td>\n",
              "      <td>0.004592</td>\n",
              "      <td>0.004592</td>\n",
              "    </tr>\n",
              "    <tr>\n",
              "      <th>3</th>\n",
              "      <td>2012271201_1905-01-07_ed-1_seq-1_ocr.txt</td>\n",
              "      <td>Cronaca Sovversiva</td>\n",
              "      <td>0.004116</td>\n",
              "      <td>0.004116</td>\n",
              "      <td>0.004116</td>\n",
              "      <td>0.610513</td>\n",
              "      <td>0.004116</td>\n",
              "      <td>0.004116</td>\n",
              "      <td>0.004116</td>\n",
              "      <td>0.004116</td>\n",
              "      <td>0.352443</td>\n",
              "      <td>0.004116</td>\n",
              "      <td>0.004116</td>\n",
              "    </tr>\n",
              "    <tr>\n",
              "      <th>4</th>\n",
              "      <td>2012271201_1915-09-11_ed-1_seq-1_ocr.txt</td>\n",
              "      <td>Cronaca Sovversiva</td>\n",
              "      <td>0.003713</td>\n",
              "      <td>0.003713</td>\n",
              "      <td>0.003713</td>\n",
              "      <td>0.723608</td>\n",
              "      <td>0.003713</td>\n",
              "      <td>0.003713</td>\n",
              "      <td>0.003713</td>\n",
              "      <td>0.003713</td>\n",
              "      <td>0.003713</td>\n",
              "      <td>0.242977</td>\n",
              "      <td>0.003713</td>\n",
              "    </tr>\n",
              "    <tr>\n",
              "      <th>...</th>\n",
              "      <td>...</td>\n",
              "      <td>...</td>\n",
              "      <td>...</td>\n",
              "      <td>...</td>\n",
              "      <td>...</td>\n",
              "      <td>...</td>\n",
              "      <td>...</td>\n",
              "      <td>...</td>\n",
              "      <td>...</td>\n",
              "      <td>...</td>\n",
              "      <td>...</td>\n",
              "      <td>...</td>\n",
              "      <td>...</td>\n",
              "    </tr>\n",
              "    <tr>\n",
              "      <th>766</th>\n",
              "      <td>2012271201_1904-08-13_ed-1_seq-1_ocr.txt</td>\n",
              "      <td>Cronaca Sovversiva</td>\n",
              "      <td>0.004165</td>\n",
              "      <td>0.004165</td>\n",
              "      <td>0.004165</td>\n",
              "      <td>0.958348</td>\n",
              "      <td>0.004165</td>\n",
              "      <td>0.004165</td>\n",
              "      <td>0.004165</td>\n",
              "      <td>0.004165</td>\n",
              "      <td>0.004165</td>\n",
              "      <td>0.004165</td>\n",
              "      <td>0.004165</td>\n",
              "    </tr>\n",
              "    <tr>\n",
              "      <th>767</th>\n",
              "      <td>2012271201_1911-12-16_ed-1_seq-1_ocr.txt</td>\n",
              "      <td>Cronaca Sovversiva</td>\n",
              "      <td>0.003291</td>\n",
              "      <td>0.003291</td>\n",
              "      <td>0.003291</td>\n",
              "      <td>0.667661</td>\n",
              "      <td>0.003291</td>\n",
              "      <td>0.003291</td>\n",
              "      <td>0.003291</td>\n",
              "      <td>0.003291</td>\n",
              "      <td>0.003291</td>\n",
              "      <td>0.003291</td>\n",
              "      <td>0.302719</td>\n",
              "    </tr>\n",
              "    <tr>\n",
              "      <th>768</th>\n",
              "      <td>2012271201_1913-02-08_ed-1_seq-1_ocr.txt</td>\n",
              "      <td>Cronaca Sovversiva</td>\n",
              "      <td>0.003529</td>\n",
              "      <td>0.003529</td>\n",
              "      <td>0.003529</td>\n",
              "      <td>0.667661</td>\n",
              "      <td>0.003529</td>\n",
              "      <td>0.003529</td>\n",
              "      <td>0.003529</td>\n",
              "      <td>0.003530</td>\n",
              "      <td>0.300575</td>\n",
              "      <td>0.003529</td>\n",
              "      <td>0.003529</td>\n",
              "    </tr>\n",
              "    <tr>\n",
              "      <th>769</th>\n",
              "      <td>2012271201_1917-01-06_ed-1_seq-1_ocr.txt</td>\n",
              "      <td>Cronaca Sovversiva</td>\n",
              "      <td>0.003358</td>\n",
              "      <td>0.003358</td>\n",
              "      <td>0.003358</td>\n",
              "      <td>0.598361</td>\n",
              "      <td>0.003358</td>\n",
              "      <td>0.003358</td>\n",
              "      <td>0.003358</td>\n",
              "      <td>0.003358</td>\n",
              "      <td>0.003358</td>\n",
              "      <td>0.003358</td>\n",
              "      <td>0.371414</td>\n",
              "    </tr>\n",
              "    <tr>\n",
              "      <th>770</th>\n",
              "      <td>2012271201_1903-10-17_ed-1_seq-1_ocr.txt</td>\n",
              "      <td>Cronaca Sovversiva</td>\n",
              "      <td>0.004066</td>\n",
              "      <td>0.283373</td>\n",
              "      <td>0.004066</td>\n",
              "      <td>0.680032</td>\n",
              "      <td>0.004066</td>\n",
              "      <td>0.004066</td>\n",
              "      <td>0.004066</td>\n",
              "      <td>0.004066</td>\n",
              "      <td>0.004066</td>\n",
              "      <td>0.004066</td>\n",
              "      <td>0.004066</td>\n",
              "    </tr>\n",
              "  </tbody>\n",
              "</table>\n",
              "<p>771 rows × 13 columns</p>\n",
              "</div>"
            ],
            "text/plain": [
              "                                     document_path  ...   topic10\n",
              "document                                            ...          \n",
              "0         2012271201_1904-03-26_ed-1_seq-1_ocr.txt  ...  0.003911\n",
              "1         2012271201_1912-06-15_ed-1_seq-1_ocr.txt  ...  0.003389\n",
              "2         2012271201_1905-04-15_ed-1_seq-1_ocr.txt  ...  0.004592\n",
              "3         2012271201_1905-01-07_ed-1_seq-1_ocr.txt  ...  0.004116\n",
              "4         2012271201_1915-09-11_ed-1_seq-1_ocr.txt  ...  0.003713\n",
              "...                                            ...  ...       ...\n",
              "766       2012271201_1904-08-13_ed-1_seq-1_ocr.txt  ...  0.004165\n",
              "767       2012271201_1911-12-16_ed-1_seq-1_ocr.txt  ...  0.302719\n",
              "768       2012271201_1913-02-08_ed-1_seq-1_ocr.txt  ...  0.003529\n",
              "769       2012271201_1917-01-06_ed-1_seq-1_ocr.txt  ...  0.371414\n",
              "770       2012271201_1903-10-17_ed-1_seq-1_ocr.txt  ...  0.004066\n",
              "\n",
              "[771 rows x 13 columns]"
            ]
          },
          "metadata": {
            "tags": []
          },
          "execution_count": 81
        }
      ]
    },
    {
      "cell_type": "code",
      "metadata": {
        "id": "oywh-iPs9H5I",
        "colab_type": "code",
        "colab": {}
      },
      "source": [
        "distribution_gensim_wfiles.to_csv(output_folder + '/distribution_per_topic_and_doc.csv')"
      ],
      "execution_count": 82,
      "outputs": []
    },
    {
      "cell_type": "markdown",
      "metadata": {
        "colab_type": "text",
        "id": "Q1EdarG6YJFp"
      },
      "source": [
        "## 3.2. Distribution per topic for the whole corpus"
      ]
    },
    {
      "cell_type": "code",
      "metadata": {
        "colab_type": "code",
        "id": "6iBxEA9V_hXp",
        "colab": {}
      },
      "source": [
        "corpus_df['doc_length'] = corpus_df['doc_prep_nostop'].apply(lambda x: len(x))"
      ],
      "execution_count": 83,
      "outputs": []
    },
    {
      "cell_type": "code",
      "metadata": {
        "colab_type": "code",
        "id": "UizB-FXbkyU5",
        "colab": {}
      },
      "source": [
        "topic_frequency = distribution_gensim.mul(corpus_df['doc_length'], axis=0).sum()"
      ],
      "execution_count": 84,
      "outputs": []
    },
    {
      "cell_type": "code",
      "metadata": {
        "colab_type": "code",
        "id": "ZNUXaqG7lxgv",
        "colab": {}
      },
      "source": [
        "topic_proportion = (topic_frequency / topic_frequency.sum()*100).sort_values(ascending=False)"
      ],
      "execution_count": 85,
      "outputs": []
    },
    {
      "cell_type": "code",
      "metadata": {
        "colab_type": "code",
        "id": "zvWpCLlrmDt-",
        "colab": {
          "base_uri": "https://localhost:8080/",
          "height": 221
        },
        "outputId": "0d7e64bc-177d-4324-cef3-5b32d393ccfa"
      },
      "source": [
        "topic_proportion"
      ],
      "execution_count": 86,
      "outputs": [
        {
          "output_type": "execute_result",
          "data": {
            "text/plain": [
              "topic3     70.451523\n",
              "topic1      3.714968\n",
              "topic10     3.459103\n",
              "topic8      3.430717\n",
              "topic7      3.180074\n",
              "topic6      2.885499\n",
              "topic2      2.820380\n",
              "topic5      2.715205\n",
              "topic4      2.670127\n",
              "topic9      2.346171\n",
              "topic0      2.326233\n",
              "dtype: float64"
            ]
          },
          "metadata": {
            "tags": []
          },
          "execution_count": 86
        }
      ]
    },
    {
      "cell_type": "code",
      "metadata": {
        "colab_type": "code",
        "id": "KBwF9mpuvtWF",
        "colab": {}
      },
      "source": [
        "# dataframe with values to sort them by order of importance\n",
        "distribution_df_gensim = pd.DataFrame(topic_proportion, columns=['weight'])"
      ],
      "execution_count": 87,
      "outputs": []
    },
    {
      "cell_type": "code",
      "metadata": {
        "colab_type": "code",
        "id": "jqRdWxvrx6d5",
        "colab": {}
      },
      "source": [
        "distribution_df_gensim.index.name = \"topics\""
      ],
      "execution_count": 88,
      "outputs": []
    },
    {
      "cell_type": "code",
      "metadata": {
        "id": "UrWeSEyCl1hX",
        "colab_type": "code",
        "colab": {}
      },
      "source": [
        "distribution_df_gensim.to_csv(output_folder + '/topic_distribution.csv')"
      ],
      "execution_count": 89,
      "outputs": []
    },
    {
      "cell_type": "code",
      "metadata": {
        "colab_type": "code",
        "id": "1VbLHDuRsOfq",
        "colab": {}
      },
      "source": [
        "topics = distribution_df_gensim.index.array"
      ],
      "execution_count": 90,
      "outputs": []
    },
    {
      "cell_type": "code",
      "metadata": {
        "colab_type": "code",
        "id": "JGE5O2-_u4_I",
        "colab": {
          "base_uri": "https://localhost:8080/",
          "height": 466
        },
        "outputId": "4afba129-b791-41d4-bfb1-990774736933"
      },
      "source": [
        "plt.rcdefaults()\n",
        "fig, ax = plt.subplots()\n",
        "ax.barh(topics, distribution_df_gensim['weight'], align='center')\n",
        "ax.set_xlabel('Weight (%)')"
      ],
      "execution_count": 91,
      "outputs": [
        {
          "output_type": "execute_result",
          "data": {
            "text/plain": [
              "Text(0.5, 0, 'Weight (%)')"
            ]
          },
          "metadata": {
            "tags": []
          },
          "execution_count": 91
        },
        {
          "output_type": "display_data",
          "data": {
            "image/png": "[encoded data removed]",
            "text/plain": [
              "<Figure size 640x480 with 1 Axes>"
            ]
          },
          "metadata": {
            "tags": []
          }
        }
      ]
    },
    {
      "cell_type": "markdown",
      "metadata": {
        "colab_type": "text",
        "id": "7dPI18o-W2d3"
      },
      "source": [
        "### 3.3. Distribution per publication\n"
      ]
    },
    {
      "cell_type": "code",
      "metadata": {
        "colab_type": "code",
        "id": "lod5mbAwYTzr",
        "colab": {
          "base_uri": "https://localhost:8080/",
          "height": 71
        },
        "outputId": "7d47198d-6192-466a-e0bf-582f3953d77f"
      },
      "source": [
        "import re\n",
        "import seaborn as sns"
      ],
      "execution_count": 92,
      "outputs": [
        {
          "output_type": "stream",
          "text": [
            "/usr/local/lib/python3.6/dist-packages/statsmodels/tools/_testing.py:19: FutureWarning: pandas.util.testing is deprecated. Use the functions in the public API at pandas.testing instead.\n",
            "  import pandas.util.testing as tm\n"
          ],
          "name": "stderr"
        }
      ]
    },
    {
      "cell_type": "code",
      "metadata": {
        "colab_type": "code",
        "id": "mDhAa0hZXb0Q",
        "colab": {}
      },
      "source": [
        "gensim_groupby2 = distribution_gensim_wfiles.copy()"
      ],
      "execution_count": 93,
      "outputs": []
    },
    {
      "cell_type": "code",
      "metadata": {
        "colab_type": "code",
        "id": "JftHY_uAXcjz",
        "colab": {}
      },
      "source": [
        "distribution_title = gensim_groupby2.groupby(['publication_name']).mean().reset_index()\n",
        "#distribution_title['publication'] = distribution_title['publication'].apply(lambda x: get_pub_name(x))"
      ],
      "execution_count": 94,
      "outputs": []
    },
    {
      "cell_type": "code",
      "metadata": {
        "colab_type": "code",
        "id": "m7qergSZXm4q",
        "colab": {
          "base_uri": "https://localhost:8080/",
          "height": 100
        },
        "outputId": "5806aeb0-f94e-4d82-a7e8-9008a7260c9e"
      },
      "source": [
        "distribution_title"
      ],
      "execution_count": 95,
      "outputs": [
        {
          "output_type": "execute_result",
          "data": {
            "text/html": [
              "<div>\n",
              "<style scoped>\n",
              "    .dataframe tbody tr th:only-of-type {\n",
              "        vertical-align: middle;\n",
              "    }\n",
              "\n",
              "    .dataframe tbody tr th {\n",
              "        vertical-align: top;\n",
              "    }\n",
              "\n",
              "    .dataframe thead th {\n",
              "        text-align: right;\n",
              "    }\n",
              "</style>\n",
              "<table border=\"1\" class=\"dataframe\">\n",
              "  <thead>\n",
              "    <tr style=\"text-align: right;\">\n",
              "      <th></th>\n",
              "      <th>publication_name</th>\n",
              "      <th>topic0</th>\n",
              "      <th>topic1</th>\n",
              "      <th>topic2</th>\n",
              "      <th>topic3</th>\n",
              "      <th>topic4</th>\n",
              "      <th>topic5</th>\n",
              "      <th>topic6</th>\n",
              "      <th>topic7</th>\n",
              "      <th>topic8</th>\n",
              "      <th>topic9</th>\n",
              "      <th>topic10</th>\n",
              "    </tr>\n",
              "  </thead>\n",
              "  <tbody>\n",
              "    <tr>\n",
              "      <th>0</th>\n",
              "      <td>Cronaca Sovversiva</td>\n",
              "      <td>0.023615</td>\n",
              "      <td>0.036439</td>\n",
              "      <td>0.027137</td>\n",
              "      <td>0.703997</td>\n",
              "      <td>0.026309</td>\n",
              "      <td>0.027754</td>\n",
              "      <td>0.028717</td>\n",
              "      <td>0.032601</td>\n",
              "      <td>0.033685</td>\n",
              "      <td>0.025146</td>\n",
              "      <td>0.034601</td>\n",
              "    </tr>\n",
              "  </tbody>\n",
              "</table>\n",
              "</div>"
            ],
            "text/plain": [
              "     publication_name    topic0    topic1  ...    topic8    topic9   topic10\n",
              "0  Cronaca Sovversiva  0.023615  0.036439  ...  0.033685  0.025146  0.034601\n",
              "\n",
              "[1 rows x 12 columns]"
            ]
          },
          "metadata": {
            "tags": []
          },
          "execution_count": 95
        }
      ]
    },
    {
      "cell_type": "code",
      "metadata": {
        "id": "pUfTlf__mLSX",
        "colab_type": "code",
        "colab": {}
      },
      "source": [
        "distribution_title.to_csv(output_folder + '/distribution_per_publication.csv')"
      ],
      "execution_count": 96,
      "outputs": []
    },
    {
      "cell_type": "code",
      "metadata": {
        "colab_type": "code",
        "id": "OEgEgOAfXqr3",
        "colab": {}
      },
      "source": [
        "#restructuring df so that it can work with seaborn\n",
        "df_vis2 = pd.DataFrame(columns=['publication', 'topic_id', 'distribution'])\n",
        "x=0\n",
        "columns_nr = len(distribution_title.columns)-1\n",
        "for i in range(len(distribution_title)):\n",
        "  for j in range(columns_nr):\n",
        "    df_vis2.loc[x] = ''\n",
        "    df_vis2['publication'].loc[x] = distribution_title['publication_name'].loc[i]\n",
        "    df_vis2['topic_id'].loc[x] = distribution_title.columns[j+1]\n",
        "    df_vis2['distribution'].loc[x] = distribution_title.iloc[i,(j+1)]\n",
        "    x+= 1"
      ],
      "execution_count": 97,
      "outputs": []
    },
    {
      "cell_type": "code",
      "metadata": {
        "colab_type": "code",
        "id": "cbpOUXOdX1YQ",
        "colab": {
          "base_uri": "https://localhost:8080/",
          "height": 551
        },
        "outputId": "29a5ab3f-82d9-4f33-aba9-0df089b03043"
      },
      "source": [
        "df_vis2.pivot('publication','topic_id', 'distribution')\\\n",
        ".plot(kind='bar', stacked=True, colormap='Paired', \n",
        "      figsize=(2,4), title='Normalized proportions of topic weights per title.')\\\n",
        ".legend(bbox_to_anchor=(1.75, 1))"
      ],
      "execution_count": 98,
      "outputs": [
        {
          "output_type": "execute_result",
          "data": {
            "text/plain": [
              "<matplotlib.legend.Legend at 0x7f1df955bcf8>"
            ]
          },
          "metadata": {
            "tags": []
          },
          "execution_count": 98
        },
        {
          "output_type": "display_data",
          "data": {
            "image/png": "[encoded data removed]",
            "text/plain": [
              "<Figure size 200x400 with 1 Axes>"
            ]
          },
          "metadata": {
            "tags": []
          }
        }
      ]
    },
    {
      "cell_type": "markdown",
      "metadata": {
        "colab_type": "text",
        "id": "-VxrV7VlMnC-"
      },
      "source": [
        "# Topics weight over time"
      ]
    },
    {
      "cell_type": "markdown",
      "metadata": {
        "colab_type": "text",
        "id": "dRMKU0HeNHW-"
      },
      "source": [
        "## 4.1 Aggregate document weights"
      ]
    },
    {
      "cell_type": "code",
      "metadata": {
        "colab_type": "code",
        "id": "Q6Jux73gNQT2",
        "colab": {}
      },
      "source": [
        "# grouping data per month"
      ],
      "execution_count": 99,
      "outputs": []
    },
    {
      "cell_type": "code",
      "metadata": {
        "colab_type": "code",
        "id": "0xlVn3ftNw_W",
        "colab": {}
      },
      "source": [
        "distribution_gensim_wfiles['date'] = distribution_gensim_wfiles['document_path'].apply(lambda x: get_date(x))\n",
        "distribution_gensim_wfiles['year'] = distribution_gensim_wfiles['document_path'].apply(lambda x: get_year(x))\n",
        "distribution_gensim_wfiles['month'] = distribution_gensim_wfiles['document_path'].apply(lambda x: get_month(x))"
      ],
      "execution_count": 100,
      "outputs": []
    },
    {
      "cell_type": "code",
      "metadata": {
        "colab_type": "code",
        "id": "PUK2_xP_Mc7N",
        "colab": {}
      },
      "source": [
        "gensim_groupby = distribution_gensim_wfiles.copy()"
      ],
      "execution_count": 101,
      "outputs": []
    },
    {
      "cell_type": "code",
      "metadata": {
        "colab_type": "code",
        "id": "LWdcFIJBMjgq",
        "colab": {}
      },
      "source": [
        "# drop columns that won't be needed at this stage\n",
        "gensim_groupby = gensim_groupby.drop(['document_path', 'date'], axis=1)"
      ],
      "execution_count": 102,
      "outputs": []
    },
    {
      "cell_type": "code",
      "metadata": {
        "colab_type": "code",
        "id": "3qebDNKXoV7L",
        "colab": {}
      },
      "source": [
        "# group by year \n",
        "distribution_year = gensim_groupby.groupby(['year']).mean().reset_index()"
      ],
      "execution_count": 103,
      "outputs": []
    },
    {
      "cell_type": "code",
      "metadata": {
        "colab_type": "code",
        "id": "u43koiEAQUew",
        "colab": {
          "base_uri": "https://localhost:8080/",
          "height": 596
        },
        "outputId": "0b921b3e-d156-407b-8dfa-4e4e00aa6293"
      },
      "source": [
        "distribution_year"
      ],
      "execution_count": 104,
      "outputs": [
        {
          "output_type": "execute_result",
          "data": {
            "text/html": [
              "<div>\n",
              "<style scoped>\n",
              "    .dataframe tbody tr th:only-of-type {\n",
              "        vertical-align: middle;\n",
              "    }\n",
              "\n",
              "    .dataframe tbody tr th {\n",
              "        vertical-align: top;\n",
              "    }\n",
              "\n",
              "    .dataframe thead th {\n",
              "        text-align: right;\n",
              "    }\n",
              "</style>\n",
              "<table border=\"1\" class=\"dataframe\">\n",
              "  <thead>\n",
              "    <tr style=\"text-align: right;\">\n",
              "      <th></th>\n",
              "      <th>year</th>\n",
              "      <th>topic0</th>\n",
              "      <th>topic1</th>\n",
              "      <th>topic2</th>\n",
              "      <th>topic3</th>\n",
              "      <th>topic4</th>\n",
              "      <th>topic5</th>\n",
              "      <th>topic6</th>\n",
              "      <th>topic7</th>\n",
              "      <th>topic8</th>\n",
              "      <th>topic9</th>\n",
              "      <th>topic10</th>\n",
              "    </tr>\n",
              "  </thead>\n",
              "  <tbody>\n",
              "    <tr>\n",
              "      <th>0</th>\n",
              "      <td>1903</td>\n",
              "      <td>0.036815</td>\n",
              "      <td>0.024581</td>\n",
              "      <td>0.016571</td>\n",
              "      <td>0.683450</td>\n",
              "      <td>0.033880</td>\n",
              "      <td>0.017219</td>\n",
              "      <td>0.047019</td>\n",
              "      <td>0.055420</td>\n",
              "      <td>0.018674</td>\n",
              "      <td>0.003895</td>\n",
              "      <td>0.062477</td>\n",
              "    </tr>\n",
              "    <tr>\n",
              "      <th>1</th>\n",
              "      <td>1904</td>\n",
              "      <td>0.037069</td>\n",
              "      <td>0.030177</td>\n",
              "      <td>0.007895</td>\n",
              "      <td>0.683380</td>\n",
              "      <td>0.026663</td>\n",
              "      <td>0.036188</td>\n",
              "      <td>0.020927</td>\n",
              "      <td>0.023519</td>\n",
              "      <td>0.050244</td>\n",
              "      <td>0.058398</td>\n",
              "      <td>0.025540</td>\n",
              "    </tr>\n",
              "    <tr>\n",
              "      <th>2</th>\n",
              "      <td>1905</td>\n",
              "      <td>0.038392</td>\n",
              "      <td>0.026079</td>\n",
              "      <td>0.030416</td>\n",
              "      <td>0.693699</td>\n",
              "      <td>0.018436</td>\n",
              "      <td>0.040061</td>\n",
              "      <td>0.009987</td>\n",
              "      <td>0.040755</td>\n",
              "      <td>0.022093</td>\n",
              "      <td>0.041807</td>\n",
              "      <td>0.038277</td>\n",
              "    </tr>\n",
              "    <tr>\n",
              "      <th>3</th>\n",
              "      <td>1906</td>\n",
              "      <td>0.024862</td>\n",
              "      <td>0.040809</td>\n",
              "      <td>0.004345</td>\n",
              "      <td>0.731403</td>\n",
              "      <td>0.014227</td>\n",
              "      <td>0.038569</td>\n",
              "      <td>0.021308</td>\n",
              "      <td>0.029616</td>\n",
              "      <td>0.031789</td>\n",
              "      <td>0.030299</td>\n",
              "      <td>0.032773</td>\n",
              "    </tr>\n",
              "    <tr>\n",
              "      <th>4</th>\n",
              "      <td>1907</td>\n",
              "      <td>0.009091</td>\n",
              "      <td>0.027241</td>\n",
              "      <td>0.029800</td>\n",
              "      <td>0.694347</td>\n",
              "      <td>0.020589</td>\n",
              "      <td>0.022892</td>\n",
              "      <td>0.047341</td>\n",
              "      <td>0.047279</td>\n",
              "      <td>0.042860</td>\n",
              "      <td>0.036921</td>\n",
              "      <td>0.021640</td>\n",
              "    </tr>\n",
              "    <tr>\n",
              "      <th>5</th>\n",
              "      <td>1908</td>\n",
              "      <td>0.016358</td>\n",
              "      <td>0.033314</td>\n",
              "      <td>0.047510</td>\n",
              "      <td>0.684695</td>\n",
              "      <td>0.027467</td>\n",
              "      <td>0.039195</td>\n",
              "      <td>0.019169</td>\n",
              "      <td>0.042716</td>\n",
              "      <td>0.044675</td>\n",
              "      <td>0.024752</td>\n",
              "      <td>0.020149</td>\n",
              "    </tr>\n",
              "    <tr>\n",
              "      <th>6</th>\n",
              "      <td>1909</td>\n",
              "      <td>0.009057</td>\n",
              "      <td>0.034823</td>\n",
              "      <td>0.015003</td>\n",
              "      <td>0.723380</td>\n",
              "      <td>0.043916</td>\n",
              "      <td>0.015703</td>\n",
              "      <td>0.045832</td>\n",
              "      <td>0.045191</td>\n",
              "      <td>0.038473</td>\n",
              "      <td>0.003521</td>\n",
              "      <td>0.025102</td>\n",
              "    </tr>\n",
              "    <tr>\n",
              "      <th>7</th>\n",
              "      <td>1910</td>\n",
              "      <td>0.021748</td>\n",
              "      <td>0.046650</td>\n",
              "      <td>0.023648</td>\n",
              "      <td>0.743311</td>\n",
              "      <td>0.020479</td>\n",
              "      <td>0.009537</td>\n",
              "      <td>0.026293</td>\n",
              "      <td>0.013303</td>\n",
              "      <td>0.039142</td>\n",
              "      <td>0.024248</td>\n",
              "      <td>0.031641</td>\n",
              "    </tr>\n",
              "    <tr>\n",
              "      <th>8</th>\n",
              "      <td>1911</td>\n",
              "      <td>0.008241</td>\n",
              "      <td>0.046928</td>\n",
              "      <td>0.037654</td>\n",
              "      <td>0.683575</td>\n",
              "      <td>0.022310</td>\n",
              "      <td>0.023384</td>\n",
              "      <td>0.055649</td>\n",
              "      <td>0.015777</td>\n",
              "      <td>0.060836</td>\n",
              "      <td>0.008407</td>\n",
              "      <td>0.037239</td>\n",
              "    </tr>\n",
              "    <tr>\n",
              "      <th>9</th>\n",
              "      <td>1912</td>\n",
              "      <td>0.015116</td>\n",
              "      <td>0.037458</td>\n",
              "      <td>0.023659</td>\n",
              "      <td>0.730734</td>\n",
              "      <td>0.025181</td>\n",
              "      <td>0.009351</td>\n",
              "      <td>0.045096</td>\n",
              "      <td>0.026939</td>\n",
              "      <td>0.013311</td>\n",
              "      <td>0.030746</td>\n",
              "      <td>0.042409</td>\n",
              "    </tr>\n",
              "    <tr>\n",
              "      <th>10</th>\n",
              "      <td>1913</td>\n",
              "      <td>0.018161</td>\n",
              "      <td>0.027332</td>\n",
              "      <td>0.013003</td>\n",
              "      <td>0.699182</td>\n",
              "      <td>0.046559</td>\n",
              "      <td>0.032412</td>\n",
              "      <td>0.039920</td>\n",
              "      <td>0.041336</td>\n",
              "      <td>0.036174</td>\n",
              "      <td>0.014332</td>\n",
              "      <td>0.031589</td>\n",
              "    </tr>\n",
              "    <tr>\n",
              "      <th>11</th>\n",
              "      <td>1914</td>\n",
              "      <td>0.035700</td>\n",
              "      <td>0.043614</td>\n",
              "      <td>0.018119</td>\n",
              "      <td>0.693312</td>\n",
              "      <td>0.018570</td>\n",
              "      <td>0.037132</td>\n",
              "      <td>0.014055</td>\n",
              "      <td>0.051852</td>\n",
              "      <td>0.032371</td>\n",
              "      <td>0.016354</td>\n",
              "      <td>0.038920</td>\n",
              "    </tr>\n",
              "    <tr>\n",
              "      <th>12</th>\n",
              "      <td>1915</td>\n",
              "      <td>0.023438</td>\n",
              "      <td>0.038335</td>\n",
              "      <td>0.042588</td>\n",
              "      <td>0.721573</td>\n",
              "      <td>0.018447</td>\n",
              "      <td>0.028932</td>\n",
              "      <td>0.017340</td>\n",
              "      <td>0.034756</td>\n",
              "      <td>0.020656</td>\n",
              "      <td>0.022939</td>\n",
              "      <td>0.030998</td>\n",
              "    </tr>\n",
              "    <tr>\n",
              "      <th>13</th>\n",
              "      <td>1916</td>\n",
              "      <td>0.013311</td>\n",
              "      <td>0.027306</td>\n",
              "      <td>0.027752</td>\n",
              "      <td>0.745425</td>\n",
              "      <td>0.034072</td>\n",
              "      <td>0.030155</td>\n",
              "      <td>0.021295</td>\n",
              "      <td>0.010144</td>\n",
              "      <td>0.018744</td>\n",
              "      <td>0.024426</td>\n",
              "      <td>0.047370</td>\n",
              "    </tr>\n",
              "    <tr>\n",
              "      <th>14</th>\n",
              "      <td>1917</td>\n",
              "      <td>0.047671</td>\n",
              "      <td>0.051833</td>\n",
              "      <td>0.034506</td>\n",
              "      <td>0.664189</td>\n",
              "      <td>0.030900</td>\n",
              "      <td>0.040133</td>\n",
              "      <td>0.018905</td>\n",
              "      <td>0.019059</td>\n",
              "      <td>0.019441</td>\n",
              "      <td>0.021028</td>\n",
              "      <td>0.052335</td>\n",
              "    </tr>\n",
              "    <tr>\n",
              "      <th>15</th>\n",
              "      <td>1918</td>\n",
              "      <td>0.041286</td>\n",
              "      <td>0.056600</td>\n",
              "      <td>0.114658</td>\n",
              "      <td>0.638233</td>\n",
              "      <td>0.018233</td>\n",
              "      <td>0.003313</td>\n",
              "      <td>0.003313</td>\n",
              "      <td>0.003313</td>\n",
              "      <td>0.059980</td>\n",
              "      <td>0.039753</td>\n",
              "      <td>0.021317</td>\n",
              "    </tr>\n",
              "    <tr>\n",
              "      <th>16</th>\n",
              "      <td>1919</td>\n",
              "      <td>0.003200</td>\n",
              "      <td>0.003200</td>\n",
              "      <td>0.003200</td>\n",
              "      <td>0.625035</td>\n",
              "      <td>0.003200</td>\n",
              "      <td>0.003200</td>\n",
              "      <td>0.003200</td>\n",
              "      <td>0.346166</td>\n",
              "      <td>0.003200</td>\n",
              "      <td>0.003200</td>\n",
              "      <td>0.003200</td>\n",
              "    </tr>\n",
              "  </tbody>\n",
              "</table>\n",
              "</div>"
            ],
            "text/plain": [
              "    year    topic0    topic1    topic2  ...    topic7    topic8    topic9   topic10\n",
              "0   1903  0.036815  0.024581  0.016571  ...  0.055420  0.018674  0.003895  0.062477\n",
              "1   1904  0.037069  0.030177  0.007895  ...  0.023519  0.050244  0.058398  0.025540\n",
              "2   1905  0.038392  0.026079  0.030416  ...  0.040755  0.022093  0.041807  0.038277\n",
              "3   1906  0.024862  0.040809  0.004345  ...  0.029616  0.031789  0.030299  0.032773\n",
              "4   1907  0.009091  0.027241  0.029800  ...  0.047279  0.042860  0.036921  0.021640\n",
              "5   1908  0.016358  0.033314  0.047510  ...  0.042716  0.044675  0.024752  0.020149\n",
              "6   1909  0.009057  0.034823  0.015003  ...  0.045191  0.038473  0.003521  0.025102\n",
              "7   1910  0.021748  0.046650  0.023648  ...  0.013303  0.039142  0.024248  0.031641\n",
              "8   1911  0.008241  0.046928  0.037654  ...  0.015777  0.060836  0.008407  0.037239\n",
              "9   1912  0.015116  0.037458  0.023659  ...  0.026939  0.013311  0.030746  0.042409\n",
              "10  1913  0.018161  0.027332  0.013003  ...  0.041336  0.036174  0.014332  0.031589\n",
              "11  1914  0.035700  0.043614  0.018119  ...  0.051852  0.032371  0.016354  0.038920\n",
              "12  1915  0.023438  0.038335  0.042588  ...  0.034756  0.020656  0.022939  0.030998\n",
              "13  1916  0.013311  0.027306  0.027752  ...  0.010144  0.018744  0.024426  0.047370\n",
              "14  1917  0.047671  0.051833  0.034506  ...  0.019059  0.019441  0.021028  0.052335\n",
              "15  1918  0.041286  0.056600  0.114658  ...  0.003313  0.059980  0.039753  0.021317\n",
              "16  1919  0.003200  0.003200  0.003200  ...  0.346166  0.003200  0.003200  0.003200\n",
              "\n",
              "[17 rows x 12 columns]"
            ]
          },
          "metadata": {
            "tags": []
          },
          "execution_count": 104
        }
      ]
    },
    {
      "cell_type": "code",
      "metadata": {
        "id": "5ijj8OjUmZAA",
        "colab_type": "code",
        "colab": {}
      },
      "source": [
        "distribution_year.to_csv(output_folder + '/distribution_per_year.csv')"
      ],
      "execution_count": 105,
      "outputs": []
    },
    {
      "cell_type": "markdown",
      "metadata": {
        "colab_type": "text",
        "id": "0XhpufpX1JOS"
      },
      "source": [
        "## 4.2 Monthly average of normalized weight per topic"
      ]
    },
    {
      "cell_type": "markdown",
      "metadata": {
        "colab_type": "text",
        "id": "c68uP1Lu2DAZ"
      },
      "source": [
        "### 4.2.1. Line chart view "
      ]
    },
    {
      "cell_type": "code",
      "metadata": {
        "colab_type": "code",
        "id": "KmKnWN7-tKX2",
        "colab": {}
      },
      "source": [
        "#restructuring df so that it can work with seaborn\n",
        "df_vis = pd.DataFrame(columns=['time', 'topic_id', 'distribution'])\n",
        "x=0\n",
        "columns_nr = len(distribution_year.columns)-2\n",
        "for i in range(len(distribution_year)):\n",
        "  for j in range(columns_nr):\n",
        "    df_vis.loc[x] = ''\n",
        "    df_vis['time'].loc[x] = distribution_year['year'].loc[i]\n",
        "    df_vis['topic_id'].loc[x] = distribution_year.columns[j+1]\n",
        "    df_vis['distribution'].loc[x] = distribution_year.iloc[i,(j+1)]\n",
        "    x+= 1"
      ],
      "execution_count": 106,
      "outputs": []
    },
    {
      "cell_type": "code",
      "metadata": {
        "colab_type": "code",
        "id": "DWbbbyp1pk-Y",
        "colab": {
          "base_uri": "https://localhost:8080/",
          "height": 397
        },
        "outputId": "c83d43c1-c7c0-4cef-f2ef-8bf8b8b5b2c4"
      },
      "source": [
        "sns.factorplot(data= df_vis, \n",
        "               x= 'time',\n",
        "               y= 'distribution',\n",
        "               hue = 'topic_id',\n",
        "               aspect=2,\n",
        "               saturation=.5)"
      ],
      "execution_count": 107,
      "outputs": [
        {
          "output_type": "stream",
          "text": [
            "/usr/local/lib/python3.6/dist-packages/seaborn/categorical.py:3666: UserWarning: The `factorplot` function has been renamed to `catplot`. The original name will be removed in a future release. Please update your code. Note that the default `kind` in `factorplot` (`'point'`) has changed `'strip'` in `catplot`.\n",
            "  warnings.warn(msg)\n"
          ],
          "name": "stderr"
        },
        {
          "output_type": "execute_result",
          "data": {
            "text/plain": [
              "<seaborn.axisgrid.FacetGrid at 0x7f1dfa9efba8>"
            ]
          },
          "metadata": {
            "tags": []
          },
          "execution_count": 107
        },
        {
          "output_type": "display_data",
          "data": {
            "image/png": "[encoded data removed]",
            "text/plain": [
              "<Figure size 1093.25x500 with 1 Axes>"
            ]
          },
          "metadata": {
            "tags": []
          }
        }
      ]
    },
    {
      "cell_type": "markdown",
      "metadata": {
        "colab_type": "text",
        "id": "uZCFg2W-2Stt"
      },
      "source": [
        "### 4.2.2. Bar chart view"
      ]
    },
    {
      "cell_type": "code",
      "metadata": {
        "colab_type": "code",
        "id": "OtHVS7351pyW",
        "colab": {
          "base_uri": "https://localhost:8080/",
          "height": 396
        },
        "outputId": "3b9eace9-f3e3-4fbe-c801-bec8ec316855"
      },
      "source": [
        "sns.factorplot(data= df_vis, \n",
        "               x= 'time',\n",
        "               y= 'distribution',\n",
        "               kind= 'bar',\n",
        "               hue = 'topic_id',\n",
        "               aspect=2,\n",
        "               saturation=.5)"
      ],
      "execution_count": 108,
      "outputs": [
        {
          "output_type": "stream",
          "text": [
            "/usr/local/lib/python3.6/dist-packages/seaborn/categorical.py:3666: UserWarning: The `factorplot` function has been renamed to `catplot`. The original name will be removed in a future release. Please update your code. Note that the default `kind` in `factorplot` (`'point'`) has changed `'strip'` in `catplot`.\n",
            "  warnings.warn(msg)\n"
          ],
          "name": "stderr"
        },
        {
          "output_type": "execute_result",
          "data": {
            "text/plain": [
              "<seaborn.axisgrid.FacetGrid at 0x7f1dfc261be0>"
            ]
          },
          "metadata": {
            "tags": []
          },
          "execution_count": 108
        },
        {
          "output_type": "display_data",
          "data": {
            "image/png": "[encoded data removed]",
            "text/plain": [
              "<Figure size 1093.25x500 with 1 Axes>"
            ]
          },
          "metadata": {
            "tags": []
          }
        }
      ]
    },
    {
      "cell_type": "markdown",
      "metadata": {
        "colab_type": "text",
        "id": "VojQr8Ia6sdC"
      },
      "source": [
        "### 4.2.3. Topic weights per title over time\n",
        "\n"
      ]
    },
    {
      "cell_type": "code",
      "metadata": {
        "colab_type": "code",
        "id": "onZ-TBwIFeW2",
        "colab": {}
      },
      "source": [
        "gensim_groupby3 = distribution_gensim_wfiles.copy()"
      ],
      "execution_count": 109,
      "outputs": []
    },
    {
      "cell_type": "code",
      "metadata": {
        "colab_type": "code",
        "id": "UO2v6FMlGJDO",
        "colab": {}
      },
      "source": [
        "distribution_title_time = gensim_groupby3.groupby(['year','publication_name']).mean().reset_index()"
      ],
      "execution_count": 110,
      "outputs": []
    },
    {
      "cell_type": "code",
      "metadata": {
        "colab_type": "code",
        "id": "XugC8oQlJ4ez",
        "colab": {
          "base_uri": "https://localhost:8080/",
          "height": 596
        },
        "outputId": "c137dba3-2e34-47c4-9750-44954d8f8801"
      },
      "source": [
        "distribution_title_time"
      ],
      "execution_count": 111,
      "outputs": [
        {
          "output_type": "execute_result",
          "data": {
            "text/html": [
              "<div>\n",
              "<style scoped>\n",
              "    .dataframe tbody tr th:only-of-type {\n",
              "        vertical-align: middle;\n",
              "    }\n",
              "\n",
              "    .dataframe tbody tr th {\n",
              "        vertical-align: top;\n",
              "    }\n",
              "\n",
              "    .dataframe thead th {\n",
              "        text-align: right;\n",
              "    }\n",
              "</style>\n",
              "<table border=\"1\" class=\"dataframe\">\n",
              "  <thead>\n",
              "    <tr style=\"text-align: right;\">\n",
              "      <th></th>\n",
              "      <th>year</th>\n",
              "      <th>publication_name</th>\n",
              "      <th>topic0</th>\n",
              "      <th>topic1</th>\n",
              "      <th>topic2</th>\n",
              "      <th>topic3</th>\n",
              "      <th>topic4</th>\n",
              "      <th>topic5</th>\n",
              "      <th>topic6</th>\n",
              "      <th>topic7</th>\n",
              "      <th>topic8</th>\n",
              "      <th>topic9</th>\n",
              "      <th>topic10</th>\n",
              "    </tr>\n",
              "  </thead>\n",
              "  <tbody>\n",
              "    <tr>\n",
              "      <th>0</th>\n",
              "      <td>1903</td>\n",
              "      <td>Cronaca Sovversiva</td>\n",
              "      <td>0.036815</td>\n",
              "      <td>0.024581</td>\n",
              "      <td>0.016571</td>\n",
              "      <td>0.683450</td>\n",
              "      <td>0.033880</td>\n",
              "      <td>0.017219</td>\n",
              "      <td>0.047019</td>\n",
              "      <td>0.055420</td>\n",
              "      <td>0.018674</td>\n",
              "      <td>0.003895</td>\n",
              "      <td>0.062477</td>\n",
              "    </tr>\n",
              "    <tr>\n",
              "      <th>1</th>\n",
              "      <td>1904</td>\n",
              "      <td>Cronaca Sovversiva</td>\n",
              "      <td>0.037069</td>\n",
              "      <td>0.030177</td>\n",
              "      <td>0.007895</td>\n",
              "      <td>0.683380</td>\n",
              "      <td>0.026663</td>\n",
              "      <td>0.036188</td>\n",
              "      <td>0.020927</td>\n",
              "      <td>0.023519</td>\n",
              "      <td>0.050244</td>\n",
              "      <td>0.058398</td>\n",
              "      <td>0.025540</td>\n",
              "    </tr>\n",
              "    <tr>\n",
              "      <th>2</th>\n",
              "      <td>1905</td>\n",
              "      <td>Cronaca Sovversiva</td>\n",
              "      <td>0.038392</td>\n",
              "      <td>0.026079</td>\n",
              "      <td>0.030416</td>\n",
              "      <td>0.693699</td>\n",
              "      <td>0.018436</td>\n",
              "      <td>0.040061</td>\n",
              "      <td>0.009987</td>\n",
              "      <td>0.040755</td>\n",
              "      <td>0.022093</td>\n",
              "      <td>0.041807</td>\n",
              "      <td>0.038277</td>\n",
              "    </tr>\n",
              "    <tr>\n",
              "      <th>3</th>\n",
              "      <td>1906</td>\n",
              "      <td>Cronaca Sovversiva</td>\n",
              "      <td>0.024862</td>\n",
              "      <td>0.040809</td>\n",
              "      <td>0.004345</td>\n",
              "      <td>0.731403</td>\n",
              "      <td>0.014227</td>\n",
              "      <td>0.038569</td>\n",
              "      <td>0.021308</td>\n",
              "      <td>0.029616</td>\n",
              "      <td>0.031789</td>\n",
              "      <td>0.030299</td>\n",
              "      <td>0.032773</td>\n",
              "    </tr>\n",
              "    <tr>\n",
              "      <th>4</th>\n",
              "      <td>1907</td>\n",
              "      <td>Cronaca Sovversiva</td>\n",
              "      <td>0.009091</td>\n",
              "      <td>0.027241</td>\n",
              "      <td>0.029800</td>\n",
              "      <td>0.694347</td>\n",
              "      <td>0.020589</td>\n",
              "      <td>0.022892</td>\n",
              "      <td>0.047341</td>\n",
              "      <td>0.047279</td>\n",
              "      <td>0.042860</td>\n",
              "      <td>0.036921</td>\n",
              "      <td>0.021640</td>\n",
              "    </tr>\n",
              "    <tr>\n",
              "      <th>5</th>\n",
              "      <td>1908</td>\n",
              "      <td>Cronaca Sovversiva</td>\n",
              "      <td>0.016358</td>\n",
              "      <td>0.033314</td>\n",
              "      <td>0.047510</td>\n",
              "      <td>0.684695</td>\n",
              "      <td>0.027467</td>\n",
              "      <td>0.039195</td>\n",
              "      <td>0.019169</td>\n",
              "      <td>0.042716</td>\n",
              "      <td>0.044675</td>\n",
              "      <td>0.024752</td>\n",
              "      <td>0.020149</td>\n",
              "    </tr>\n",
              "    <tr>\n",
              "      <th>6</th>\n",
              "      <td>1909</td>\n",
              "      <td>Cronaca Sovversiva</td>\n",
              "      <td>0.009057</td>\n",
              "      <td>0.034823</td>\n",
              "      <td>0.015003</td>\n",
              "      <td>0.723380</td>\n",
              "      <td>0.043916</td>\n",
              "      <td>0.015703</td>\n",
              "      <td>0.045832</td>\n",
              "      <td>0.045191</td>\n",
              "      <td>0.038473</td>\n",
              "      <td>0.003521</td>\n",
              "      <td>0.025102</td>\n",
              "    </tr>\n",
              "    <tr>\n",
              "      <th>7</th>\n",
              "      <td>1910</td>\n",
              "      <td>Cronaca Sovversiva</td>\n",
              "      <td>0.021748</td>\n",
              "      <td>0.046650</td>\n",
              "      <td>0.023648</td>\n",
              "      <td>0.743311</td>\n",
              "      <td>0.020479</td>\n",
              "      <td>0.009537</td>\n",
              "      <td>0.026293</td>\n",
              "      <td>0.013303</td>\n",
              "      <td>0.039142</td>\n",
              "      <td>0.024248</td>\n",
              "      <td>0.031641</td>\n",
              "    </tr>\n",
              "    <tr>\n",
              "      <th>8</th>\n",
              "      <td>1911</td>\n",
              "      <td>Cronaca Sovversiva</td>\n",
              "      <td>0.008241</td>\n",
              "      <td>0.046928</td>\n",
              "      <td>0.037654</td>\n",
              "      <td>0.683575</td>\n",
              "      <td>0.022310</td>\n",
              "      <td>0.023384</td>\n",
              "      <td>0.055649</td>\n",
              "      <td>0.015777</td>\n",
              "      <td>0.060836</td>\n",
              "      <td>0.008407</td>\n",
              "      <td>0.037239</td>\n",
              "    </tr>\n",
              "    <tr>\n",
              "      <th>9</th>\n",
              "      <td>1912</td>\n",
              "      <td>Cronaca Sovversiva</td>\n",
              "      <td>0.015116</td>\n",
              "      <td>0.037458</td>\n",
              "      <td>0.023659</td>\n",
              "      <td>0.730734</td>\n",
              "      <td>0.025181</td>\n",
              "      <td>0.009351</td>\n",
              "      <td>0.045096</td>\n",
              "      <td>0.026939</td>\n",
              "      <td>0.013311</td>\n",
              "      <td>0.030746</td>\n",
              "      <td>0.042409</td>\n",
              "    </tr>\n",
              "    <tr>\n",
              "      <th>10</th>\n",
              "      <td>1913</td>\n",
              "      <td>Cronaca Sovversiva</td>\n",
              "      <td>0.018161</td>\n",
              "      <td>0.027332</td>\n",
              "      <td>0.013003</td>\n",
              "      <td>0.699182</td>\n",
              "      <td>0.046559</td>\n",
              "      <td>0.032412</td>\n",
              "      <td>0.039920</td>\n",
              "      <td>0.041336</td>\n",
              "      <td>0.036174</td>\n",
              "      <td>0.014332</td>\n",
              "      <td>0.031589</td>\n",
              "    </tr>\n",
              "    <tr>\n",
              "      <th>11</th>\n",
              "      <td>1914</td>\n",
              "      <td>Cronaca Sovversiva</td>\n",
              "      <td>0.035700</td>\n",
              "      <td>0.043614</td>\n",
              "      <td>0.018119</td>\n",
              "      <td>0.693312</td>\n",
              "      <td>0.018570</td>\n",
              "      <td>0.037132</td>\n",
              "      <td>0.014055</td>\n",
              "      <td>0.051852</td>\n",
              "      <td>0.032371</td>\n",
              "      <td>0.016354</td>\n",
              "      <td>0.038920</td>\n",
              "    </tr>\n",
              "    <tr>\n",
              "      <th>12</th>\n",
              "      <td>1915</td>\n",
              "      <td>Cronaca Sovversiva</td>\n",
              "      <td>0.023438</td>\n",
              "      <td>0.038335</td>\n",
              "      <td>0.042588</td>\n",
              "      <td>0.721573</td>\n",
              "      <td>0.018447</td>\n",
              "      <td>0.028932</td>\n",
              "      <td>0.017340</td>\n",
              "      <td>0.034756</td>\n",
              "      <td>0.020656</td>\n",
              "      <td>0.022939</td>\n",
              "      <td>0.030998</td>\n",
              "    </tr>\n",
              "    <tr>\n",
              "      <th>13</th>\n",
              "      <td>1916</td>\n",
              "      <td>Cronaca Sovversiva</td>\n",
              "      <td>0.013311</td>\n",
              "      <td>0.027306</td>\n",
              "      <td>0.027752</td>\n",
              "      <td>0.745425</td>\n",
              "      <td>0.034072</td>\n",
              "      <td>0.030155</td>\n",
              "      <td>0.021295</td>\n",
              "      <td>0.010144</td>\n",
              "      <td>0.018744</td>\n",
              "      <td>0.024426</td>\n",
              "      <td>0.047370</td>\n",
              "    </tr>\n",
              "    <tr>\n",
              "      <th>14</th>\n",
              "      <td>1917</td>\n",
              "      <td>Cronaca Sovversiva</td>\n",
              "      <td>0.047671</td>\n",
              "      <td>0.051833</td>\n",
              "      <td>0.034506</td>\n",
              "      <td>0.664189</td>\n",
              "      <td>0.030900</td>\n",
              "      <td>0.040133</td>\n",
              "      <td>0.018905</td>\n",
              "      <td>0.019059</td>\n",
              "      <td>0.019441</td>\n",
              "      <td>0.021028</td>\n",
              "      <td>0.052335</td>\n",
              "    </tr>\n",
              "    <tr>\n",
              "      <th>15</th>\n",
              "      <td>1918</td>\n",
              "      <td>Cronaca Sovversiva</td>\n",
              "      <td>0.041286</td>\n",
              "      <td>0.056600</td>\n",
              "      <td>0.114658</td>\n",
              "      <td>0.638233</td>\n",
              "      <td>0.018233</td>\n",
              "      <td>0.003313</td>\n",
              "      <td>0.003313</td>\n",
              "      <td>0.003313</td>\n",
              "      <td>0.059980</td>\n",
              "      <td>0.039753</td>\n",
              "      <td>0.021317</td>\n",
              "    </tr>\n",
              "    <tr>\n",
              "      <th>16</th>\n",
              "      <td>1919</td>\n",
              "      <td>Cronaca Sovversiva</td>\n",
              "      <td>0.003200</td>\n",
              "      <td>0.003200</td>\n",
              "      <td>0.003200</td>\n",
              "      <td>0.625035</td>\n",
              "      <td>0.003200</td>\n",
              "      <td>0.003200</td>\n",
              "      <td>0.003200</td>\n",
              "      <td>0.346166</td>\n",
              "      <td>0.003200</td>\n",
              "      <td>0.003200</td>\n",
              "      <td>0.003200</td>\n",
              "    </tr>\n",
              "  </tbody>\n",
              "</table>\n",
              "</div>"
            ],
            "text/plain": [
              "    year    publication_name    topic0  ...    topic8    topic9   topic10\n",
              "0   1903  Cronaca Sovversiva  0.036815  ...  0.018674  0.003895  0.062477\n",
              "1   1904  Cronaca Sovversiva  0.037069  ...  0.050244  0.058398  0.025540\n",
              "2   1905  Cronaca Sovversiva  0.038392  ...  0.022093  0.041807  0.038277\n",
              "3   1906  Cronaca Sovversiva  0.024862  ...  0.031789  0.030299  0.032773\n",
              "4   1907  Cronaca Sovversiva  0.009091  ...  0.042860  0.036921  0.021640\n",
              "5   1908  Cronaca Sovversiva  0.016358  ...  0.044675  0.024752  0.020149\n",
              "6   1909  Cronaca Sovversiva  0.009057  ...  0.038473  0.003521  0.025102\n",
              "7   1910  Cronaca Sovversiva  0.021748  ...  0.039142  0.024248  0.031641\n",
              "8   1911  Cronaca Sovversiva  0.008241  ...  0.060836  0.008407  0.037239\n",
              "9   1912  Cronaca Sovversiva  0.015116  ...  0.013311  0.030746  0.042409\n",
              "10  1913  Cronaca Sovversiva  0.018161  ...  0.036174  0.014332  0.031589\n",
              "11  1914  Cronaca Sovversiva  0.035700  ...  0.032371  0.016354  0.038920\n",
              "12  1915  Cronaca Sovversiva  0.023438  ...  0.020656  0.022939  0.030998\n",
              "13  1916  Cronaca Sovversiva  0.013311  ...  0.018744  0.024426  0.047370\n",
              "14  1917  Cronaca Sovversiva  0.047671  ...  0.019441  0.021028  0.052335\n",
              "15  1918  Cronaca Sovversiva  0.041286  ...  0.059980  0.039753  0.021317\n",
              "16  1919  Cronaca Sovversiva  0.003200  ...  0.003200  0.003200  0.003200\n",
              "\n",
              "[17 rows x 13 columns]"
            ]
          },
          "metadata": {
            "tags": []
          },
          "execution_count": 111
        }
      ]
    },
    {
      "cell_type": "code",
      "metadata": {
        "id": "mdh_uL9tmtF2",
        "colab_type": "code",
        "colab": {}
      },
      "source": [
        "distribution_title_time.to_csv(output_folder + 'distribution_per_publication_over_time.csv')"
      ],
      "execution_count": 112,
      "outputs": []
    },
    {
      "cell_type": "markdown",
      "metadata": {
        "colab_type": "text",
        "id": "uy7ibTKE30B9"
      },
      "source": [
        "### 4.2.4. Rolling average"
      ]
    },
    {
      "cell_type": "markdown",
      "metadata": {
        "id": "TTuqvbcx59IC",
        "colab_type": "text"
      },
      "source": [
        "#### 4.2.4.1. Rolling average by topic"
      ]
    },
    {
      "cell_type": "code",
      "metadata": {
        "colab_type": "code",
        "id": "ZPqBURQ-69SB",
        "colab": {}
      },
      "source": [
        "rolling_mean = distribution_year.rolling(2).mean()"
      ],
      "execution_count": 113,
      "outputs": []
    },
    {
      "cell_type": "code",
      "metadata": {
        "id": "ItpkVx6YnF2i",
        "colab_type": "code",
        "colab": {}
      },
      "source": [
        "rolling_mean.to_csv(output_folder + 'rolling_mean.csv')"
      ],
      "execution_count": 114,
      "outputs": []
    },
    {
      "cell_type": "code",
      "metadata": {
        "colab_type": "code",
        "id": "bXFwZhxj8NVF",
        "colab": {}
      },
      "source": [
        "#restructuring df so that it can work with seaborn\n",
        "df_vis3 = pd.DataFrame(columns=['time', 'topic_id', 'rolling_mean'])\n",
        "x=0\n",
        "columns_nr = len(rolling_mean.columns)-2\n",
        "for i in range(len(rolling_mean)):\n",
        "  for j in range(columns_nr):\n",
        "    if ( rolling_mean.iloc[i,(j+1)] > 0 ):\n",
        "      df_vis3.loc[x] = ''\n",
        "      df_vis3['time'].loc[x] = distribution_year['year'].loc[i]\n",
        "      df_vis3['topic_id'].loc[x] = rolling_mean.columns[j+1]\n",
        "      df_vis3['rolling_mean'].loc[x] = rolling_mean.iloc[i,(j+1)]\n",
        "      x+= 1"
      ],
      "execution_count": 115,
      "outputs": []
    },
    {
      "cell_type": "code",
      "metadata": {
        "colab_type": "code",
        "id": "Vb0hYJN9-9UB",
        "colab": {
          "base_uri": "https://localhost:8080/",
          "height": 396
        },
        "outputId": "145661e0-8630-4512-b1c5-ddbf7345a0db"
      },
      "source": [
        "sns.factorplot(data= df_vis3, \n",
        "               x= 'time',\n",
        "               y= 'rolling_mean',\n",
        "               hue = 'topic_id',\n",
        "               aspect=2,\n",
        "               saturation=.5)"
      ],
      "execution_count": 116,
      "outputs": [
        {
          "output_type": "stream",
          "text": [
            "/usr/local/lib/python3.6/dist-packages/seaborn/categorical.py:3666: UserWarning: The `factorplot` function has been renamed to `catplot`. The original name will be removed in a future release. Please update your code. Note that the default `kind` in `factorplot` (`'point'`) has changed `'strip'` in `catplot`.\n",
            "  warnings.warn(msg)\n"
          ],
          "name": "stderr"
        },
        {
          "output_type": "execute_result",
          "data": {
            "text/plain": [
              "<seaborn.axisgrid.FacetGrid at 0x7f1df9109f60>"
            ]
          },
          "metadata": {
            "tags": []
          },
          "execution_count": 116
        },
        {
          "output_type": "display_data",
          "data": {
            "image/png": "[encoded data removed]",
            "text/plain": [
              "<Figure size 1093.25x500 with 1 Axes>"
            ]
          },
          "metadata": {
            "tags": []
          }
        }
      ]
    },
    {
      "cell_type": "markdown",
      "metadata": {
        "id": "cCtPvZ8v3Vcl",
        "colab_type": "text"
      },
      "source": [
        "#### 4.2.4.2. Rolling average by publication"
      ]
    },
    {
      "cell_type": "code",
      "metadata": {
        "id": "tzjR8dHz59IF",
        "colab_type": "code",
        "colab": {}
      },
      "source": [
        "# Filtering the distribution over time by publication\n",
        "# in the cell below replace 'Cronaca Sovversiva' by the publication to display\n",
        "# and for the output file, each time the filter is applied on a publication, change the output file name"
      ],
      "execution_count": 117,
      "outputs": []
    },
    {
      "cell_type": "code",
      "metadata": {
        "id": "mS88LQBB3aI-",
        "colab_type": "code",
        "colab": {}
      },
      "source": [
        "distribution_publication_time = distribution_title_time[distribution_title_time['publication_name'] == 'Cronaca Sovversiva']"
      ],
      "execution_count": 118,
      "outputs": []
    },
    {
      "cell_type": "code",
      "metadata": {
        "id": "J2oUb2193dgm",
        "colab_type": "code",
        "colab": {}
      },
      "source": [
        "rolling_mean_publication = distribution_publication_time.rolling(2).mean()"
      ],
      "execution_count": 119,
      "outputs": []
    },
    {
      "cell_type": "code",
      "metadata": {
        "id": "lqdTzISG3f6V",
        "colab_type": "code",
        "colab": {}
      },
      "source": [
        "rolling_mean_publication.to_csv(output_folder + 'rolling_mean_cronaca_sovversiva.csv')"
      ],
      "execution_count": 120,
      "outputs": []
    },
    {
      "cell_type": "code",
      "metadata": {
        "id": "atqyjABS3iJ0",
        "colab_type": "code",
        "colab": {}
      },
      "source": [
        "#restructuring df so that it can work with seaborn\n",
        "df_vis4 = pd.DataFrame(columns=['time', 'topic_id', 'rolling_mean'])\n",
        "x=0\n",
        "columns_nr = len(rolling_mean_publication.columns)-2\n",
        "for i in range(len(rolling_mean_publication)):\n",
        "  for j in range(columns_nr):\n",
        "    if ( rolling_mean_publication.iloc[i,(j+1)] > 0 ):\n",
        "      df_vis4.loc[x] = ''\n",
        "      df_vis4['time'].loc[x] = distribution_year['year'].loc[i]\n",
        "      df_vis4['topic_id'].loc[x] = rolling_mean_publication.columns[j+1]\n",
        "      df_vis4['rolling_mean'].loc[x] = rolling_mean_publication.iloc[i,(j+1)]\n",
        "      x+= 1"
      ],
      "execution_count": 121,
      "outputs": []
    },
    {
      "cell_type": "code",
      "metadata": {
        "id": "snuT5jQd3k5f",
        "colab_type": "code",
        "colab": {
          "base_uri": "https://localhost:8080/",
          "height": 396
        },
        "outputId": "e5374c78-9add-4619-e28f-35ed6944c6ab"
      },
      "source": [
        "sns.factorplot(data= df_vis4, \n",
        "               x= 'time',\n",
        "               y= 'rolling_mean',\n",
        "               hue = 'topic_id',\n",
        "               aspect=2,\n",
        "               saturation=.5)"
      ],
      "execution_count": 122,
      "outputs": [
        {
          "output_type": "stream",
          "text": [
            "/usr/local/lib/python3.6/dist-packages/seaborn/categorical.py:3666: UserWarning: The `factorplot` function has been renamed to `catplot`. The original name will be removed in a future release. Please update your code. Note that the default `kind` in `factorplot` (`'point'`) has changed `'strip'` in `catplot`.\n",
            "  warnings.warn(msg)\n"
          ],
          "name": "stderr"
        },
        {
          "output_type": "execute_result",
          "data": {
            "text/plain": [
              "<seaborn.axisgrid.FacetGrid at 0x7f1dfb87cf60>"
            ]
          },
          "metadata": {
            "tags": []
          },
          "execution_count": 122
        },
        {
          "output_type": "display_data",
          "data": {
            "image/png": "[encoded data removed]",
            "text/plain": [
              "<Figure size 1093.25x500 with 1 Axes>"
            ]
          },
          "metadata": {
            "tags": []
          }
        }
      ]
    }
  ]
}
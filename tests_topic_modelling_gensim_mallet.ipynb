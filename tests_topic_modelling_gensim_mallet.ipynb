{
  "nbformat": 4,
  "nbformat_minor": 0,
  "metadata": {
    "colab": {
      "name": "tests_topic_modelling_gensim_mallet.ipynb",
      "provenance": [],
      "collapsed_sections": [],
      "toc_visible": true
    },
    "kernelspec": {
      "name": "python3",
      "display_name": "Python 3"
    }
  },
  "cells": [
    {
      "cell_type": "code",
      "metadata": {
        "id": "7FwlEnNvQJNG",
        "colab_type": "code",
        "colab": {}
      },
      "source": [
        "import json\n",
        "import requests\n",
        "import urllib"
      ],
      "execution_count": 0,
      "outputs": []
    },
    {
      "cell_type": "markdown",
      "metadata": {
        "id": "6AZPes5RSYG2",
        "colab_type": "text"
      },
      "source": [
        "# 0. Preliminary step to get sample data\n",
        "\n"
      ]
    },
    {
      "cell_type": "markdown",
      "metadata": {
        "id": "WaRiBwgFTg2p",
        "colab_type": "text"
      },
      "source": [
        "This preliminary step is reproducing Lorella's workflow Python file:\n",
        "https://i-lab.public.data.uu.nl/vault-ocex/ChroniclItaly%20-%20Italian%20American%20newspapers%20corpus%20from%201898%20to%201920%5B1529330521%5D/original/\n",
        "I just added a folder \"data_1\" to keep all files in one folder"
      ]
    },
    {
      "cell_type": "code",
      "metadata": {
        "id": "VK81EVJim0Jc",
        "colab_type": "code",
        "colab": {}
      },
      "source": [
        "mkdir 'data1'"
      ],
      "execution_count": 0,
      "outputs": []
    },
    {
      "cell_type": "code",
      "metadata": {
        "id": "9O_c4pYzXsP_",
        "colab_type": "code",
        "colab": {}
      },
      "source": [
        "# Base URL\n",
        "chronam = 'https://chroniclingamerica.loc.gov/'\n",
        "\n",
        "# Chronicling America search results\n",
        "results = 'https://chroniclingamerica.loc.gov/search/pages/results/?date1=1880&date2=1920&searchType=advanced&language=ita&sequence=1&lccn=2012271201&lccn=sn85066408&lccn=sn85055164&lccn=sn85054967&lccn=sn88064299&lccn=sn84037024&lccn=sn84037025&lccn=sn86092310&proxdistance=5&state=California&state=District+of+Columbia&state=Massachusetts&state=Pennsylvania&state=Piedmont&state=Vermont&state=West+Virginia&rows=100&ortext=&proxtext=&phrasetext=&andtext=&dateFilterType=yearRange&page=11&sort=date'\n",
        "\n",
        "# Count to keep track of downloaded files\n",
        "count = 0\n",
        "\n",
        "# Gets search results in JSON format\n",
        "results_json = results + '&format=json'\n"
      ],
      "execution_count": 0,
      "outputs": []
    },
    {
      "cell_type": "code",
      "metadata": {
        "id": "DQwqRYbydrq4",
        "colab_type": "code",
        "colab": {}
      },
      "source": [
        "# Returns JSON \n",
        "def get_json(url):\n",
        "    data = requests.get(url)\n",
        "    return(json.loads(data.content))\n",
        "    \n",
        "data = get_json(results_json)"
      ],
      "execution_count": 0,
      "outputs": []
    },
    {
      "cell_type": "code",
      "metadata": {
        "id": "Xjv32dwDndnw",
        "colab_type": "code",
        "colab": {}
      },
      "source": [
        "files_list = []\n",
        "# Cycle through JSON results\n",
        "for page in data['items']:\n",
        "    # Create URL\n",
        "    hit = str(page['id'])\n",
        "    seed = hit + 'ocr.txt'\n",
        "    download_url = chronam + seed\n",
        " \n",
        "    # Create file name\n",
        "    file_name = download_url.replace('/', '_')\n",
        "    files_list.append(file_name[41:])\n",
        "    file_name = 'data1/' + file_name[41:]\n",
        "\n",
        "    # Download .txt of the page\n",
        "    urllib.request.urlretrieve(download_url, str(file_name))\n",
        "    count += 1"
      ],
      "execution_count": 0,
      "outputs": []
    },
    {
      "cell_type": "markdown",
      "metadata": {
        "id": "AUvuIpuzT8ke",
        "colab_type": "text"
      },
      "source": [
        "# 1. Data preparation"
      ]
    },
    {
      "cell_type": "markdown",
      "metadata": {
        "id": "MTOrDXSYUIc3",
        "colab_type": "text"
      },
      "source": [
        "## 1.1. Creating data frame\n",
        "A dataframe is first created to keep the documents at their initial state, and the name of each file"
      ]
    },
    {
      "cell_type": "code",
      "metadata": {
        "id": "u857KfY9WXN_",
        "colab_type": "code",
        "colab": {}
      },
      "source": [
        "import os\n",
        "import pandas as pd"
      ],
      "execution_count": 0,
      "outputs": []
    },
    {
      "cell_type": "code",
      "metadata": {
        "id": "8lLD0OpiXv5Y",
        "colab_type": "code",
        "colab": {}
      },
      "source": [
        "#insert file names into a df\n",
        "sources = pd.DataFrame(files_list, columns=['file_name'])"
      ],
      "execution_count": 0,
      "outputs": []
    },
    {
      "cell_type": "code",
      "metadata": {
        "id": "0PgOwPnqCfAe",
        "colab_type": "code",
        "colab": {}
      },
      "source": [
        "#function to read the content of the text files\n",
        "def readTxtContent(fileName):\n",
        "  with open('data1/' + fileName, 'r') as file:\n",
        "    return ' ' + file.read().replace('\\n', ' ') + ' '"
      ],
      "execution_count": 0,
      "outputs": []
    },
    {
      "cell_type": "code",
      "metadata": {
        "id": "MZEVIKHziQv2",
        "colab_type": "code",
        "colab": {}
      },
      "source": [
        "# adding a column to the dataframe containing file content\n",
        "sources['file_content'] = sources['file_name'].apply(lambda x: readTxtContent(x))"
      ],
      "execution_count": 0,
      "outputs": []
    },
    {
      "cell_type": "code",
      "metadata": {
        "id": "j244OypdUdCj",
        "colab_type": "code",
        "colab": {}
      },
      "source": [
        "# document length\n",
        "sources['length'] = sources['tokens_lemmatized'].apply(lambda x: len(x))"
      ],
      "execution_count": 0,
      "outputs": []
    },
    {
      "cell_type": "code",
      "metadata": {
        "id": "6G7bi2lIUtL5",
        "colab_type": "code",
        "colab": {
          "base_uri": "https://localhost:8080/",
          "height": 1000
        },
        "outputId": "7077137f-763f-4055-f0c3-a134e53e296f"
      },
      "source": [
        "sources"
      ],
      "execution_count": 56,
      "outputs": [
        {
          "output_type": "execute_result",
          "data": {
            "text/html": [
              "<div>\n",
              "<style scoped>\n",
              "    .dataframe tbody tr th:only-of-type {\n",
              "        vertical-align: middle;\n",
              "    }\n",
              "\n",
              "    .dataframe tbody tr th {\n",
              "        vertical-align: top;\n",
              "    }\n",
              "\n",
              "    .dataframe thead th {\n",
              "        text-align: right;\n",
              "    }\n",
              "</style>\n",
              "<table border=\"1\" class=\"dataframe\">\n",
              "  <thead>\n",
              "    <tr style=\"text-align: right;\">\n",
              "      <th></th>\n",
              "      <th>file_name</th>\n",
              "      <th>file_content</th>\n",
              "      <th>tokens</th>\n",
              "      <th>tokens_prep</th>\n",
              "      <th>tokens_prep_nostop</th>\n",
              "      <th>tokens_lemmatized</th>\n",
              "      <th>length</th>\n",
              "    </tr>\n",
              "  </thead>\n",
              "  <tbody>\n",
              "    <tr>\n",
              "      <th>0</th>\n",
              "      <td>sn85066408_1903-04-27_ed-1_seq-1_ocr.txt</td>\n",
              "      <td>anno xvn «(ORNALE ITALIANO FATTO PER GL'ITALI...</td>\n",
              "      <td>[anno, xvn, «, (, ORNALE, ITALIANO, FATTO, PER...</td>\n",
              "      <td>[anno, ornale, italiano, fatto, ithk, first, i...</td>\n",
              "      <td>[ornale, italiano, ithk, first, itauan, daily,...</td>\n",
              "      <td>[ornale, italiano, ithk, first, itauan, daily,...</td>\n",
              "      <td>1425</td>\n",
              "    </tr>\n",
              "    <tr>\n",
              "      <th>1</th>\n",
              "      <td>sn85066408_1903-04-28_ed-1_seq-1_ocr.txt</td>\n",
              "      <td>ANNO XVII OtONNAU* ITALIANO PATTO PCP OUTTAUA...</td>\n",
              "      <td>[ANNO, XVII, OtONNAU*, ITALIANO, PATTO, PCP, O...</td>\n",
              "      <td>[anno, xvii, italiano, patto, outtauani, pirst...</td>\n",
              "      <td>[xvii, italiano, patto, outtauani, pirst, ital...</td>\n",
              "      <td>[xvii, italiano, patto, outtauani, pirst, ital...</td>\n",
              "      <td>1605</td>\n",
              "    </tr>\n",
              "    <tr>\n",
              "      <th>2</th>\n",
              "      <td>sn85066408_1903-04-29_ed-1_seq-1_ocr.txt</td>\n",
              "      <td>ANNO XVII GIORNALE ITALIANO FATTO PER GL’ITAL...</td>\n",
              "      <td>[ANNO, XVII, GIORNALE, ITALIANO, FATTO, PER, G...</td>\n",
              "      <td>[anno, xvii, giornale, italiano, fatto, italia...</td>\n",
              "      <td>[xvii, giornale, italiano, italiani, first, it...</td>\n",
              "      <td>[xvii, giornale, italiano, italiano, first, it...</td>\n",
              "      <td>1179</td>\n",
              "    </tr>\n",
              "    <tr>\n",
              "      <th>3</th>\n",
              "      <td>sn85066408_1903-04-30_ed-1_seq-1_ocr.txt</td>\n",
              "      <td>anno xvn GIORNALE ITALIANO FATTO PER GL'ITALI...</td>\n",
              "      <td>[anno, xvn, GIORNALE, ITALIANO, FATTO, PER, GL...</td>\n",
              "      <td>[anno, giornale, italiano, fatto, first, itali...</td>\n",
              "      <td>[giornale, italiano, first, italian, daily, pa...</td>\n",
              "      <td>[giornale, italiano, first, italian, daily, pa...</td>\n",
              "      <td>1125</td>\n",
              "    </tr>\n",
              "    <tr>\n",
              "      <th>4</th>\n",
              "      <td>sn85066408_1903-05-01_ed-1_seq-1_ocr.txt</td>\n",
              "      <td>aXNO XVII GIORNALE ITALIANO FATTO PER GL'ITAL...</td>\n",
              "      <td>[aXNO, XVII, GIORNALE, ITALIANO, FATTO, PER, G...</td>\n",
              "      <td>[axno, xvii, giornale, italiano, fatto, first,...</td>\n",
              "      <td>[axno, xvii, giornale, italiano, first, italia...</td>\n",
              "      <td>[axno, xvii, giornale, italiano, first, italia...</td>\n",
              "      <td>715</td>\n",
              "    </tr>\n",
              "    <tr>\n",
              "      <th>...</th>\n",
              "      <td>...</td>\n",
              "      <td>...</td>\n",
              "      <td>...</td>\n",
              "      <td>...</td>\n",
              "      <td>...</td>\n",
              "      <td>...</td>\n",
              "      <td>...</td>\n",
              "    </tr>\n",
              "    <tr>\n",
              "      <th>95</th>\n",
              "      <td>sn85066408_1903-08-05_ed-1_seq-1_ocr.txt</td>\n",
              "      <td>GIORNALE ITALIANO FATTO PER GLITALIA* TMC FIR...</td>\n",
              "      <td>[GIORNALE, ITALIANO, FATTO, PER, GLITALIA*, TM...</td>\n",
              "      <td>[giornale, italiano, fatto, first, italian, da...</td>\n",
              "      <td>[giornale, italiano, first, italian, daily, pa...</td>\n",
              "      <td>[giornale, italiano, first, italian, daily, pa...</td>\n",
              "      <td>375</td>\n",
              "    </tr>\n",
              "    <tr>\n",
              "      <th>96</th>\n",
              "      <td>sn85066408_1903-08-06_ed-1_seq-1_ocr.txt</td>\n",
              "      <td>t (ORNALE ITALIANO FATTO PER OLITALIA* THE FI...</td>\n",
              "      <td>[t, (, ORNALE, ITALIANO, FATTO, PER, OLITALIA*...</td>\n",
              "      <td>[ornale, italiano, fatto, first, italian, dail...</td>\n",
              "      <td>[ornale, italiano, first, italian, daily, pape...</td>\n",
              "      <td>[ornale, italiano, first, italian, daily, pape...</td>\n",
              "      <td>1270</td>\n",
              "    </tr>\n",
              "    <tr>\n",
              "      <th>97</th>\n",
              "      <td>sn85066408_1903-08-07_ed-1_seq-1_ocr.txt</td>\n",
              "      <td>««ORNALE ITALIANO FATTO FER OL'ITAUA* THE FIR...</td>\n",
              "      <td>[«, «, ORNALE, ITALIANO, FATTO, FER, OL'ITAUA*...</td>\n",
              "      <td>[ornale, italiano, fatto, first, italian, dail...</td>\n",
              "      <td>[ornale, italiano, first, italian, daily, pare...</td>\n",
              "      <td>[ornale, italiano, first, italian, daily, pare...</td>\n",
              "      <td>1401</td>\n",
              "    </tr>\n",
              "    <tr>\n",
              "      <th>98</th>\n",
              "      <td>2012271201_1903-08-08_ed-1_seq-1_ocr.txt</td>\n",
              "      <td>Ciac vtj'y inn NUMERO 10 Ebdomadario anarchic...</td>\n",
              "      <td>[Ciac, vtj'y, inn, NUMERO, 10, Ebdomadario, an...</td>\n",
              "      <td>[ciac, numero, ebdomadario, anarchico, propaga...</td>\n",
              "      <td>[ciac, numero, ebdomadario, anarchico, propaga...</td>\n",
              "      <td>[ciac, numerare, ebdomadario, anarchico, propa...</td>\n",
              "      <td>701</td>\n",
              "    </tr>\n",
              "    <tr>\n",
              "      <th>99</th>\n",
              "      <td>sn85066408_1903-08-08_ed-1_seq-1_ocr.txt</td>\n",
              "      <td>GIORNALE ITALIANO FATTO FER CL ITALIAH THB FI...</td>\n",
              "      <td>[GIORNALE, ITALIANO, FATTO, FER, CL, ITALIAH, ...</td>\n",
              "      <td>[giornale, italiano, fatto, italiah, first, it...</td>\n",
              "      <td>[giornale, italiano, italiah, first, italian, ...</td>\n",
              "      <td>[giornale, italiano, italiah, first, italian, ...</td>\n",
              "      <td>1309</td>\n",
              "    </tr>\n",
              "  </tbody>\n",
              "</table>\n",
              "<p>100 rows × 7 columns</p>\n",
              "</div>"
            ],
            "text/plain": [
              "                                   file_name  ... length\n",
              "0   sn85066408_1903-04-27_ed-1_seq-1_ocr.txt  ...   1425\n",
              "1   sn85066408_1903-04-28_ed-1_seq-1_ocr.txt  ...   1605\n",
              "2   sn85066408_1903-04-29_ed-1_seq-1_ocr.txt  ...   1179\n",
              "3   sn85066408_1903-04-30_ed-1_seq-1_ocr.txt  ...   1125\n",
              "4   sn85066408_1903-05-01_ed-1_seq-1_ocr.txt  ...    715\n",
              "..                                       ...  ...    ...\n",
              "95  sn85066408_1903-08-05_ed-1_seq-1_ocr.txt  ...    375\n",
              "96  sn85066408_1903-08-06_ed-1_seq-1_ocr.txt  ...   1270\n",
              "97  sn85066408_1903-08-07_ed-1_seq-1_ocr.txt  ...   1401\n",
              "98  2012271201_1903-08-08_ed-1_seq-1_ocr.txt  ...    701\n",
              "99  sn85066408_1903-08-08_ed-1_seq-1_ocr.txt  ...   1309\n",
              "\n",
              "[100 rows x 7 columns]"
            ]
          },
          "metadata": {
            "tags": []
          },
          "execution_count": 56
        }
      ]
    },
    {
      "cell_type": "code",
      "metadata": {
        "id": "5AbjD_hb9SQw",
        "colab_type": "code",
        "colab": {}
      },
      "source": [
        "# variable containing the documents separately\n",
        "corpus = sources['file_content']"
      ],
      "execution_count": 0,
      "outputs": []
    },
    {
      "cell_type": "code",
      "metadata": {
        "id": "4ffdAsOXQSBe",
        "colab_type": "code",
        "colab": {}
      },
      "source": [
        "# the 2 cells below shouldn't be useful anymore\n",
        "# for verification purposes later, count the nr of characters for each content\n",
        "#sources['file_len'] = sources['file_content'].apply(lambda x: len(x))\n",
        "#sources['file_len'].sum()"
      ],
      "execution_count": 0,
      "outputs": []
    },
    {
      "cell_type": "code",
      "metadata": {
        "id": "QYRvEvHbK32i",
        "colab_type": "code",
        "colab": {}
      },
      "source": [
        "\n",
        "# variable containing all documents together\n",
        "#all_texts = ''\n",
        "#for i in range(len(sources)):\n",
        "#all_texts += sources['file_content'][i]\n",
        "# check length\n",
        "#len(all_texts)"
      ],
      "execution_count": 0,
      "outputs": []
    },
    {
      "cell_type": "markdown",
      "metadata": {
        "id": "ybCetXHi9m-y",
        "colab_type": "text"
      },
      "source": [
        "## 1.2 Removing stop words, punctuation, short words"
      ]
    },
    {
      "cell_type": "code",
      "metadata": {
        "id": "6e-8sf7RayKz",
        "colab_type": "code",
        "colab": {}
      },
      "source": [
        "%%capture\n",
        "import nltk\n",
        "nltk.download('punkt')\n",
        "nltk.download('stopwords')\n",
        "from nltk.corpus import stopwords\n",
        "from nltk.tokenize import word_tokenize"
      ],
      "execution_count": 0,
      "outputs": []
    },
    {
      "cell_type": "code",
      "metadata": {
        "id": "a1MbU3_seOtJ",
        "colab_type": "code",
        "colab": {}
      },
      "source": [
        "# add tokenized documents in dataframe\n",
        "sources['tokens'] = sources['file_content'].apply(lambda x: nltk.word_tokenize(x))"
      ],
      "execution_count": 0,
      "outputs": []
    },
    {
      "cell_type": "code",
      "metadata": {
        "id": "vh3ikvdKfQ60",
        "colab_type": "code",
        "colab": {}
      },
      "source": [
        "# add new column in df with processed tokens\n",
        "sources['tokens_prep'] = sources['tokens'].apply(lambda x: [w.lower() for w in x if (w.isalnum() and len(w) > 3 )])"
      ],
      "execution_count": 0,
      "outputs": []
    },
    {
      "cell_type": "code",
      "metadata": {
        "id": "3IrR5gbba5ho",
        "colab_type": "code",
        "colab": {}
      },
      "source": [
        "# these lines are useful if we want to provide alternate stop words lists (NLTK)\n",
        "# show list of default NLTK Italian stopwords\n",
        "# stopwords.words('italian')\n",
        "# ital_stopwords = stopwords.words('italian')\n",
        "# to append list of words added by user: ital_stopwords.extend(user_input)\n",
        "# to remove words: ital_stopwords.remove(user_input)"
      ],
      "execution_count": 0,
      "outputs": []
    },
    {
      "cell_type": "code",
      "metadata": {
        "id": "8Qw4i2O_CTdQ",
        "colab_type": "code",
        "colab": {}
      },
      "source": [
        "# spacy list of Stop words (seems to be more complete than NLTK)\n",
        "import spacy\n",
        "from spacy.lang.it.stop_words import STOP_WORDS"
      ],
      "execution_count": 0,
      "outputs": []
    },
    {
      "cell_type": "code",
      "metadata": {
        "id": "5SBUnxlpCxEa",
        "colab_type": "code",
        "colab": {}
      },
      "source": [
        "spacy_it_sw = STOP_WORDS"
      ],
      "execution_count": 0,
      "outputs": []
    },
    {
      "cell_type": "code",
      "metadata": {
        "id": "jDvREaSSiM1v",
        "colab_type": "code",
        "colab": {}
      },
      "source": [
        "# add column with tokenized documents without sw\n",
        "sources['tokens_prep_nostop'] = sources['tokens_prep'].apply(lambda x: [w for w in x if not w in spacy_it_sw])"
      ],
      "execution_count": 0,
      "outputs": []
    },
    {
      "cell_type": "markdown",
      "metadata": {
        "id": "hKs7aXWLbVWo",
        "colab_type": "text"
      },
      "source": [
        "## 1.3 Stem"
      ]
    },
    {
      "cell_type": "code",
      "metadata": {
        "id": "uyl0C-xkbLiB",
        "colab_type": "code",
        "colab": {}
      },
      "source": [
        "from nltk.stem.snowball import SnowballStemmer"
      ],
      "execution_count": 0,
      "outputs": []
    },
    {
      "cell_type": "code",
      "metadata": {
        "id": "euUXP7UHbaN-",
        "colab_type": "code",
        "colab": {}
      },
      "source": [
        "#initialize with needed language\n",
        "stemmer = SnowballStemmer(\"italian\")"
      ],
      "execution_count": 0,
      "outputs": []
    },
    {
      "cell_type": "code",
      "metadata": {
        "id": "CljkLrRmjaot",
        "colab_type": "code",
        "colab": {}
      },
      "source": [
        "# add column with stemmed tokens\n",
        "sources['tokens_stemmed'] = sources['tokens_prep_nostop'].apply(lambda x: [stemmer.stem(w) for w in x])"
      ],
      "execution_count": 0,
      "outputs": []
    },
    {
      "cell_type": "markdown",
      "metadata": {
        "id": "YHKQAqemcgYz",
        "colab_type": "text"
      },
      "source": [
        "## 1.4 Lemmatize"
      ]
    },
    {
      "cell_type": "code",
      "metadata": {
        "id": "Ob8M804chYgh",
        "colab_type": "code",
        "colab": {}
      },
      "source": [
        "# Lemmatization is available in multiple languages in Spacy and not in NLTK (only English)\n",
        "# With Spacy, lemmatization is available for 10 languages. There's also a multi-language option that\n",
        "# should be tested if additional languages are needed"
      ],
      "execution_count": 0,
      "outputs": []
    },
    {
      "cell_type": "code",
      "metadata": {
        "id": "2QAPblFUwf3F",
        "colab_type": "code",
        "colab": {}
      },
      "source": [
        "%%capture\n",
        "!python -m spacy download it_core_news_sm"
      ],
      "execution_count": 0,
      "outputs": []
    },
    {
      "cell_type": "code",
      "metadata": {
        "id": "8al8riPXA98n",
        "colab_type": "code",
        "colab": {}
      },
      "source": [
        "import it_core_news_sm\n",
        "it_nlp = it_core_news_sm.load(disable=['tagger', 'parser', 'ner'])"
      ],
      "execution_count": 0,
      "outputs": []
    },
    {
      "cell_type": "code",
      "metadata": {
        "id": "YZHdI_8tmv3y",
        "colab_type": "code",
        "colab": {}
      },
      "source": [
        "# lemmatization function\n",
        "def lemmatize(doc):\n",
        "  lemmatized_doc = []\n",
        "  for w in doc:\n",
        "    w_lemma = [token.lemma_ for token in it_nlp(w)]\n",
        "    lemmatized_doc.append(w_lemma[0])\n",
        "  return lemmatized_doc"
      ],
      "execution_count": 0,
      "outputs": []
    },
    {
      "cell_type": "code",
      "metadata": {
        "id": "k-mYWKgSk9CW",
        "colab_type": "code",
        "colab": {}
      },
      "source": [
        "# add column with lemmatized tokens\n",
        "sources['tokens_lemmatized'] = sources['tokens_prep_nostop'].apply(lambda x: lemmatize(x))"
      ],
      "execution_count": 0,
      "outputs": []
    },
    {
      "cell_type": "code",
      "metadata": {
        "id": "tvl0MO_FH5yH",
        "colab_type": "code",
        "colab": {}
      },
      "source": [
        "# variable with lemmatized tokens\n",
        "lemmatized_corpus = sources['tokens_lemmatized']"
      ],
      "execution_count": 0,
      "outputs": []
    },
    {
      "cell_type": "markdown",
      "metadata": {
        "id": "o8TRLnFPK6p4",
        "colab_type": "text"
      },
      "source": [
        "# 2. Topics with LDA"
      ]
    },
    {
      "cell_type": "code",
      "metadata": {
        "id": "N0NrktL1el7E",
        "colab_type": "code",
        "colab": {}
      },
      "source": [
        "%%capture\n",
        "# installation setup that works for Mallet: https://github.com/polsci/colab-gensim-mallet/blob/master/topic-modeling-with-colab-gensim-mallet.ipynb\n",
        "def install_java():\n",
        "  !apt-get install -y openjdk-8-jdk-headless -qq > /dev/null      #install openjdk\n",
        "  os.environ[\"JAVA_HOME\"] = \"/usr/lib/jvm/java-8-openjdk-amd64\"     #set environment variable\n",
        "  !java -version       #check java version\n",
        "install_java()"
      ],
      "execution_count": 0,
      "outputs": []
    },
    {
      "cell_type": "code",
      "metadata": {
        "id": "IH7oPbxGe46O",
        "colab_type": "code",
        "colab": {}
      },
      "source": [
        "%%capture\n",
        "!wget http://mallet.cs.umass.edu/dist/mallet-2.0.8.zip\n",
        "!unzip mallet-2.0.8.zip"
      ],
      "execution_count": 0,
      "outputs": []
    },
    {
      "cell_type": "code",
      "metadata": {
        "id": "XD1MaCjRfKOs",
        "colab_type": "code",
        "colab": {}
      },
      "source": [
        "os.environ['MALLET_HOME'] = '/content/mallet-2.0.8'\n",
        "mallet_path = '/content/mallet-2.0.8/bin/mallet'"
      ],
      "execution_count": 0,
      "outputs": []
    },
    {
      "cell_type": "code",
      "metadata": {
        "id": "Fr1F0QNdOxy3",
        "colab_type": "code",
        "colab": {}
      },
      "source": [
        "#Gensim installation\n",
        "import gensim\n",
        "from gensim.test.utils import common_corpus, common_dictionary\n",
        "from gensim import corpora, models\n",
        "from gensim.models.wrappers import LdaMallet"
      ],
      "execution_count": 0,
      "outputs": []
    },
    {
      "cell_type": "markdown",
      "metadata": {
        "id": "530LX-OLRDcP",
        "colab_type": "text"
      },
      "source": [
        "## 2.1 Preliminary steps to run LDA\n",
        "\n"
      ]
    },
    {
      "cell_type": "markdown",
      "metadata": {
        "id": "GZlLjmvsQAMy",
        "colab_type": "text"
      },
      "source": [
        "### 2.1.1 Bag of words"
      ]
    },
    {
      "cell_type": "code",
      "metadata": {
        "id": "UzxS5Q3aQ7mh",
        "colab_type": "code",
        "colab": {}
      },
      "source": [
        "# dataset = [d.split() for d in lemmatized_corpus] (this is not useful if lemmatized version is used)\n",
        "# Create Dictionary\n",
        "# change \"lemmatized_corpus\" variable by stemmed_corpus or tokenized_corpus_without_sw depending\n",
        "# on which version you would like to work with \n",
        "id2word = corpora.Dictionary(lemmatized_corpus)\n",
        "corpus = [id2word.doc2bow(text) for text in lemmatized_corpus]"
      ],
      "execution_count": 0,
      "outputs": []
    },
    {
      "cell_type": "code",
      "metadata": {
        "id": "wvegwXHIWZN6",
        "colab_type": "code",
        "colab": {}
      },
      "source": [
        "# list of words and occurence per document\n",
        "words = []\n",
        "frequency = []\n",
        "\n",
        "for cp in corpus:\n",
        "  word_id = list(cp[0])[0]\n",
        "  words.append(id2word[list(cp[0])[0]])\n",
        "  frequency.append(list(cp[0])[1])"
      ],
      "execution_count": 0,
      "outputs": []
    },
    {
      "cell_type": "code",
      "metadata": {
        "id": "be9fXHn7Uqb6",
        "colab_type": "code",
        "colab": {}
      },
      "source": [
        "words_frequency = pd.DataFrame(list(zip(words, frequency)), columns=['word', 'frequency'])"
      ],
      "execution_count": 0,
      "outputs": []
    },
    {
      "cell_type": "code",
      "metadata": {
        "id": "m67ylcqwaQbd",
        "colab_type": "code",
        "outputId": "0a9309bf-0938-4c2e-8192-fbdf3e8ca6ee",
        "colab": {
          "base_uri": "https://localhost:8080/",
          "height": 359
        }
      },
      "source": [
        "# sort descending\n",
        "words_frequency.sort_values(by=['frequency'], ascending=False)[:10]"
      ],
      "execution_count": 29,
      "outputs": [
        {
          "output_type": "execute_result",
          "data": {
            "text/html": [
              "<div>\n",
              "<style scoped>\n",
              "    .dataframe tbody tr th:only-of-type {\n",
              "        vertical-align: middle;\n",
              "    }\n",
              "\n",
              "    .dataframe tbody tr th {\n",
              "        vertical-align: top;\n",
              "    }\n",
              "\n",
              "    .dataframe thead th {\n",
              "        text-align: right;\n",
              "    }\n",
              "</style>\n",
              "<table border=\"1\" class=\"dataframe\">\n",
              "  <thead>\n",
              "    <tr style=\"text-align: right;\">\n",
              "      <th></th>\n",
              "      <th>word</th>\n",
              "      <th>frequency</th>\n",
              "    </tr>\n",
              "  </thead>\n",
              "  <tbody>\n",
              "    <tr>\n",
              "      <th>68</th>\n",
              "      <td>1902</td>\n",
              "      <td>5</td>\n",
              "    </tr>\n",
              "    <tr>\n",
              "      <th>48</th>\n",
              "      <td>1902</td>\n",
              "      <td>4</td>\n",
              "    </tr>\n",
              "    <tr>\n",
              "      <th>78</th>\n",
              "      <td>1902</td>\n",
              "      <td>3</td>\n",
              "    </tr>\n",
              "    <tr>\n",
              "      <th>5</th>\n",
              "      <td>1902</td>\n",
              "      <td>3</td>\n",
              "    </tr>\n",
              "    <tr>\n",
              "      <th>26</th>\n",
              "      <td>1903</td>\n",
              "      <td>2</td>\n",
              "    </tr>\n",
              "    <tr>\n",
              "      <th>75</th>\n",
              "      <td>abitare</td>\n",
              "      <td>2</td>\n",
              "    </tr>\n",
              "    <tr>\n",
              "      <th>20</th>\n",
              "      <td>1903</td>\n",
              "      <td>2</td>\n",
              "    </tr>\n",
              "    <tr>\n",
              "      <th>66</th>\n",
              "      <td>abitare</td>\n",
              "      <td>2</td>\n",
              "    </tr>\n",
              "    <tr>\n",
              "      <th>63</th>\n",
              "      <td>1903</td>\n",
              "      <td>2</td>\n",
              "    </tr>\n",
              "    <tr>\n",
              "      <th>2</th>\n",
              "      <td>accogliere</td>\n",
              "      <td>2</td>\n",
              "    </tr>\n",
              "  </tbody>\n",
              "</table>\n",
              "</div>"
            ],
            "text/plain": [
              "          word  frequency\n",
              "68        1902          5\n",
              "48        1902          4\n",
              "78        1902          3\n",
              "5         1902          3\n",
              "26        1903          2\n",
              "75     abitare          2\n",
              "20        1903          2\n",
              "66     abitare          2\n",
              "63        1903          2\n",
              "2   accogliere          2"
            ]
          },
          "metadata": {
            "tags": []
          },
          "execution_count": 29
        }
      ]
    },
    {
      "cell_type": "markdown",
      "metadata": {
        "id": "qadtU7aTQMqg",
        "colab_type": "text"
      },
      "source": [
        "## 2.2 LDA"
      ]
    },
    {
      "cell_type": "code",
      "metadata": {
        "id": "eLzvb_yC9nyo",
        "colab_type": "code",
        "colab": {}
      },
      "source": [
        "# set the number of topics here\n",
        "numtopics = 6"
      ],
      "execution_count": 0,
      "outputs": []
    },
    {
      "cell_type": "markdown",
      "metadata": {
        "id": "9u-BK_TCCRV1",
        "colab_type": "text"
      },
      "source": [
        "### 2.2.1 LDA with Gensim"
      ]
    },
    {
      "cell_type": "code",
      "metadata": {
        "id": "7ODvMbxSCQh_",
        "colab_type": "code",
        "colab": {}
      },
      "source": [
        "ldagensim = models.LdaModel(corpus, id2word=id2word, num_topics=numtopics)"
      ],
      "execution_count": 0,
      "outputs": []
    },
    {
      "cell_type": "code",
      "metadata": {
        "id": "FLfpXjulCcS4",
        "colab_type": "code",
        "outputId": "a4c36ef7-80b3-4738-a870-849c7af067d3",
        "colab": {
          "base_uri": "https://localhost:8080/",
          "height": 241
        }
      },
      "source": [
        "ldagensim.print_topics()"
      ],
      "execution_count": 32,
      "outputs": [
        {
          "output_type": "execute_result",
          "data": {
            "text/plain": [
              "[(0,\n",
              "  '0.007*\"italiano\" + 0.004*\"italia\" + 0.003*\"dispaccio\" + 0.003*\"roma\" + 0.003*\"telegrafico\" + 0.002*\"potere\" + 0.002*\"daily\" + 0.002*\"cardinale\" + 0.002*\"venire\" + 0.002*\"giornale\"'),\n",
              " (1,\n",
              "  '0.006*\"italiano\" + 0.004*\"roma\" + 0.003*\"telegrafico\" + 0.003*\"dispaccio\" + 0.003*\"cardinale\" + 0.003*\"venire\" + 0.003*\"italia\" + 0.002*\"daily\" + 0.002*\"giornale\" + 0.002*\"potere\"'),\n",
              " (2,\n",
              "  '0.006*\"italiano\" + 0.003*\"dispaccio\" + 0.003*\"italia\" + 0.003*\"roma\" + 0.002*\"potere\" + 0.002*\"daily\" + 0.002*\"telegrafico\" + 0.002*\"dovere\" + 0.002*\"giornale\" + 0.002*\"cardinale\"'),\n",
              " (3,\n",
              "  '0.009*\"italiano\" + 0.004*\"italia\" + 0.004*\"roma\" + 0.003*\"dispaccio\" + 0.003*\"telegrafico\" + 0.003*\"daily\" + 0.003*\"venire\" + 0.003*\"potere\" + 0.003*\"giornale\" + 0.003*\"cardinale\"'),\n",
              " (4,\n",
              "  '0.006*\"italiano\" + 0.004*\"dispaccio\" + 0.004*\"telegrafico\" + 0.003*\"venire\" + 0.003*\"italia\" + 0.003*\"potere\" + 0.002*\"roma\" + 0.002*\"daily\" + 0.002*\"giornale\" + 0.002*\"gran\"'),\n",
              " (5,\n",
              "  '0.010*\"italiano\" + 0.004*\"italia\" + 0.004*\"dispaccio\" + 0.004*\"roma\" + 0.004*\"potere\" + 0.003*\"giornale\" + 0.003*\"venire\" + 0.003*\"telegrafico\" + 0.002*\"daily\" + 0.002*\"dire\"')]"
            ]
          },
          "metadata": {
            "tags": []
          },
          "execution_count": 32
        }
      ]
    },
    {
      "cell_type": "markdown",
      "metadata": {
        "id": "yVmCrU7WVznK",
        "colab_type": "text"
      },
      "source": [
        "### 2.2.2 Visualize topics"
      ]
    },
    {
      "cell_type": "code",
      "metadata": {
        "id": "zhUc_LurVxSw",
        "colab_type": "code",
        "colab": {}
      },
      "source": [
        "# pyLDAvis installation\n",
        "%%capture\n",
        "! pip install pyldavis\n",
        "import pyLDAvis\n",
        "import pyLDAvis.gensim"
      ],
      "execution_count": 0,
      "outputs": []
    },
    {
      "cell_type": "code",
      "metadata": {
        "id": "WWHil2-YV_OD",
        "colab_type": "code",
        "colab": {}
      },
      "source": [
        "# insert the model and number of topics you want to visualise\n",
        "# here LDA Gensim with 6 topics\n",
        "%%capture\n",
        "numtopics = 6\n",
        "selected_model = models.LdaModel(corpus, id2word=id2word, num_topics=numtopics)\n",
        "pyLDAvis.enable_notebook()\n",
        "vis = pyLDAvis.gensim.prepare(selected_model, corpus, id2word)"
      ],
      "execution_count": 0,
      "outputs": []
    },
    {
      "cell_type": "code",
      "metadata": {
        "id": "Rm7zmoHqcDto",
        "colab_type": "code",
        "outputId": "14bbbe11-7a1c-4c5e-c723-13de5df891ed",
        "colab": {
          "base_uri": "https://localhost:8080/",
          "height": 881
        }
      },
      "source": [
        "vis"
      ],
      "execution_count": 35,
      "outputs": [
        {
          "output_type": "execute_result",
          "data": {
            "text/html": [
              "\n",
              "<link rel=\"stylesheet\" type=\"text/css\" href=\"https://cdn.rawgit.com/bmabey/pyLDAvis/files/ldavis.v1.0.0.css\">\n",
              "\n",
              "\n",
              "<div id=\"ldavis_el124139969055792008929623555\"></div>\n",
              "<script type=\"text/javascript\">\n",
              "\n",
              "var ldavis_el124139969055792008929623555_data = {\"mdsDat\": {\"x\": [0.00415346971468271, 0.004661914268589666, -0.0006008746755340104, -0.004312029128078961, -0.0006588267149433939, -0.0032436534647160226], \"y\": [0.001207666914647512, -0.0008288830378333763, 0.002343348174584262, 0.0035963254897366527, -0.0018303718614260968, -0.004488085679708944], \"topics\": [1, 2, 3, 4, 5, 6], \"cluster\": [1, 1, 1, 1, 1, 1], \"Freq\": [37.22943115234375, 32.14040756225586, 16.226177215576172, 7.595125675201416, 5.53732442855835, 1.2715363502502441]}, \"tinfo\": {\"Term\": [\"italiano\", \"italia\", \"dispaccio\", \"roma\", \"venire\", \"daily\", \"telegrafico\", \"cardinale\", \"giornale\", \"potere\", \"trovare\", \"americano\", \"nome\", \"dovere\", \"quotidiano\", \"mentire\", \"nuovo\", \"papa\", \"dare\", \"gran\", \"patrio\", \"dire\", \"parigi\", \"volere\", \"costare\", \"york\", \"popolare\", \"morto\", \"numerare\", \"parere\", \"bardou\", \"poema\", \"irving\", \"vittoriano\", \"blasonare\", \"ridda\", \"brago\", \"itaua\", \"yokohama\", \"ingratitudine\", \"americhe\", \"scopritore\", \"cabotare\", \"elmo\", \"impugnare\", \"civico\", \"ipeck\", \"hleronl\", \"sonvi\", \"roccie\", \"reception\", \"presto\", \"hudson\", \"sindacale\", \"sacrilegio\", \"blllre\", \"dalmato\", \"dalmazia\", \"scrett\", \"rlfereptesl\", \"terra\", \"verazzano\", \"europa\", \"vuol\", \"cio\\u00e8\", \"domenica\", \"nave\", \"sognare\", \"inglese\", \"gemmare\", \"caprera\", \"rendere\", \"rispondere\", \"diverso\", \"francese\", \"fiume\", \"york\", \"guglielmo\", \"scoprire\", \"times\", \"brano\", \"italia\", \"vivo\", \"pontefice\", \"potere\", \"guerra\", \"grande\", \"classe\", \"ordine\", \"mettere\", \"direttore\", \"correre\", \"potenza\", \"prendere\", \"giornale\", \"dispaccio\", \"estero\", \"patrio\", \"dire\", \"telegrafico\", \"italiano\", \"cardinale\", \"venire\", \"daily\", \"gran\", \"nuovo\", \"papa\", \"roma\", \"presidente\", \"dovere\", \"mentire\", \"chiesa\", \"popolare\", \"dare\", \"volere\", \"quotidiano\", \"trovare\", \"operare\", \"nome\", \"numerare\", \"parigi\", \"available\", \"text\", \"cordoglio\", \"nuncio\", \"pouteiue\", \"attimento\", \"vauva\", \"intemerato\", \"camerlengo\", \"cadavi\", \"tolleranza\", \"durala\", \"vaok3\", \"entiamid\", \"indiati\", \"ditorm\", \"baule\", \"violetto\", \"ngliamo\", \"insi\\u00e8me\", \"severo\", \"morluus\", \"lennemete\", \"recitazione\", \"ortna\", \"ohna\", \"profundis\", \"acena\", \"diramare\", \"fldlhn\", \"pontificare\", \"ultimo\", \"durare\", \"maggio\", \"roma\", \"meridionale\", \"imminente\", \"seguire\", \"molto\", \"morire\", \"crisi\", \"xlll\", \"leone\", \"parto\", \"defunto\", \"anello\", \"italian\", \"morto\", \"cardinale\", \"pietro\", \"papa\", \"pagina\", \"roso\", \"vaticano\", \"italiano\", \"autorit\\u00e0\", \"telegrafico\", \"daily\", \"leggere\", \"dispaccio\", \"numerare\", \"dare\", \"venire\", \"camera\", \"rimanere\", \"conclave\", \"nuovo\", \"americano\", \"quotidiano\", \"states\", \"italia\", \"potere\", \"giornale\", \"dire\", \"nome\", \"mentire\", \"trovare\", \"presidente\", \"volere\", \"mano\", \"gran\", \"parigi\", \"dovere\", \"chaumi\\u00e8\", \"produt\", \"ciliegia\", \"capriccio\", \"abolizione\", \"busto\", \"cangiandosi\", \"meravi\", \"stennero\", \"fruttifero\", \"anatema\", \"tuie\", \"forila\", \"malaria\", \"decorrere\", \"smeraldo\", \"beilechamp\", \"inutilmente\", \"adeguato\", \"ipocrita\", \"immaginabile\", \"bismarck\", \"convivenza\", \"perfezionamento\", \"giardiniere\", \"rublo\", \"stilit\\u00e0\", \"tani\", \"esem\", \"grettezza\", \"ideale\", \"voluto\", \"razionale\", \"moltissime\", \"piare\", \"cereale\", \"fero\", \"laurent\", \"tenere\", \"lottare\", \"giungere\", \"individuo\", \"sentenza\", \"connazionale\", \"caro\", \"caff\\u00e8\", \"acquistare\", \"avvenire\", \"chiamare\", \"ritenere\", \"interesse\", \"soccorso\", \"italiano\", \"polizia\", \"mattino\", \"parere\", \"ebreo\", \"primo\", \"operare\", \"numerare\", \"napoli\", \"visitare\", \"dispaccio\", \"venire\", \"giornale\", \"dovere\", \"daily\", \"potere\", \"telegrafico\", \"solo\", \"italia\", \"york\", \"unito\", \"dire\", \"gran\", \"macchina\", \"mentire\", \"vedere\", \"nome\", \"volere\", \"roma\", \"popolare\", \"americano\", \"quotidiano\", \"costare\", \"first\", \"grande\", \"leggere\", \"nuovo\", \"papa\", \"dare\", \"militarismo\", \"avido\", \"vono\", \"boja\", \"parvenza\", \"depravare\", \"col\\u00f3ro\", \"immigrato\", \"repentino\", \"proporsi\", \"garroni\", \"stargli\", \"ornc\", \"catastrofico\", \"manifestarsi\", \"cessiva\", \"borgo\", \"impen\\u00ectente\", \"voialtri\", \"amoreggiare\", \"gnerft\", \"derna\", \"prire\", \"quintesenza\", \"renna\", \"alcoolici\", \"progressiao\", \"instabile\", \"corrompere\", \"attechisce\", \"soldato\", \"disonore\", \"bntered\", \"asper\", \"colpo\", \"marchesa\", \"articolare\", \"irto\", \"regina\", \"monte\", \"americano\", \"dato\", \"parigi\", \"trieste\", \"mafia\", \"professore\", \"marino\", \"circostanza\", \"italiano\", \"lira\", \"roosevelt\", \"treno\", \"leggere\", \"belgrado\", \"altro\", \"nuovo\", \"notizia\", \"provocare\", \"ministero\", \"ufficiale\", \"vivere\", \"costare\", \"volere\", \"parere\", \"mentire\", \"dovere\", \"andare\", \"gran\", \"italia\", \"recere\", \"zione\", \"russia\", \"italian\", \"dispaccio\", \"daily\", \"roma\", \"politico\", \"papa\", \"potere\", \"telegrafico\", \"dare\", \"trovare\", \"giornale\", \"venire\", \"states\", \"york\", \"nome\", \"cardinale\", \"dire\", \"quotidiano\", \"diamond\", \"pescatore\", \"commisto\", \"black\", \"gaglio\", \"ezlt\", \"abbronzare\", \"ciecrso\", \"conferitagli\", \"egiziano\", \"massaia\", \"ulano\", \"punitivo\", \"tosto\", \"pusillanime\", \"itmpi\", \"botlvo\", \"ascondere\", \"pacato\", \"witte\", \"unio\", \"giuncava\", \"preferi\", \"uffli\", \"dahboiis\", \"iger\\u00eca\", \"parroco\", \"sulmani\", \"commrclo\", \"dialetto\", \"cammello\", \"scannatoio\", \"duto\", \"strage\", \"salmone\", \"bilit\\u00e0\", \"cardinale\", \"augurare\", \"trovare\", \"onore\", \"vapore\", \"decano\", \"continuo\", \"collare\", \"raccolto\", \"civile\", \"ebreo\", \"tenere\", \"chiamare\", \"italiano\", \"giornale\", \"dovere\", \"venire\", \"popolare\", \"terzo\", \"costare\", \"parere\", \"nome\", \"ragione\", \"dragare\", \"vedere\", \"sapere\", \"italia\", \"maggio\", \"pressare\", \"quotidiano\", \"roma\", \"telegrafico\", \"dare\", \"dispaccio\", \"mentire\", \"lottare\", \"parlare\", \"gran\", \"potere\", \"americano\", \"dire\", \"patrio\", \"grande\", \"daily\", \"nuovo\", \"papa\", \"italian\", \"york\", \"riprodurne\", \"svashkurtm\", \"venezuela\", \"tiisiasmo\", \"veland\", \"dagini\", \"dosisi\", \"powers\", \"baracca\", \"ringraziameli\", \"llarli\", \"ilusclti\", \"cleveland\", \"nergico\", \"zuavo\", \"nobilissimo\", \"formida\", \"pregevolissimo\", \"cubare\", \"glrola\", \"gasateli\", \"tonila\", \"senumenlo\", \"tremendo\", \"princeton\", \"immon\", \"illcst\", \"luzionarlo\", \"fascicolo\", \"parago\", \"dise\", \"crivellare\", \"cato\", \"grover\", \"uovo\", \"ebreo\", \"barcellona\", \"coast\", \"datare\", \"prete\", \"considerato\", \"mattino\", \"garibaldi\", \"colpo\", \"daily\", \"italia\", \"dispaccio\", \"arrivare\", \"macchina\", \"navigazione\", \"pubblico\", \"presentare\", \"truppa\", \"patrio\", \"dimostrare\", \"rappresentare\", \"napoli\", \"pontefice\", \"trovare\", \"nome\", \"quotidiano\", \"condizione\", \"americano\", \"italiano\", \"cardinale\", \"venire\", \"francisco\", \"telegrafico\", \"roma\", \"partire\", \"costare\", \"potere\", \"giornale\", \"volere\", \"parigi\", \"dare\", \"dovere\", \"nuovo\", \"mentire\", \"numerare\", \"papa\", \"morto\", \"dire\", \"gran\", \"popolare\", \"york\", \"visitare\"], \"Freq\": [974.0, 491.0, 474.0, 475.0, 358.0, 334.0, 413.0, 277.0, 327.0, 390.0, 173.0, 184.0, 186.0, 199.0, 194.0, 223.0, 221.0, 239.0, 198.0, 204.0, 155.0, 237.0, 165.0, 180.0, 139.0, 216.0, 136.0, 165.0, 182.0, 124.0, 3.0259487628936768, 2.242490530014038, 2.2775659561157227, 1.598288655281067, 1.584646224975586, 1.5477464199066162, 2.0062639713287354, 2.565769672393799, 3.7873213291168213, 1.526119351387024, 1.4970582723617554, 1.5265706777572632, 1.5407488346099854, 0.9809693098068237, 1.9595322608947754, 0.9612090587615967, 0.9592730402946472, 0.9543941020965576, 0.9541904926300049, 0.9755048155784607, 0.952144205570221, 2.343421220779419, 2.860805034637451, 1.402823805809021, 1.4267728328704834, 0.9512861371040344, 1.84847891330719, 1.8409277200698853, 0.9291980266571045, 0.9198411703109741, 50.088844299316406, 4.80398416519165, 13.48780632019043, 33.010498046875, 35.86763381958008, 9.397164344787598, 36.071006774902344, 8.934645652770996, 39.87934112548828, 3.7643625736236572, 2.814862012863159, 43.54525375366211, 38.368438720703125, 29.83244514465332, 72.66192626953125, 17.032583236694336, 101.31298065185547, 35.51652908325195, 29.345090866088867, 13.611176490783691, 8.203372955322266, 213.83404541015625, 62.596126556396484, 51.477046966552734, 169.26535034179688, 41.842872619628906, 73.40084075927734, 39.432952880859375, 39.17902755737305, 58.8087043762207, 19.97822380065918, 60.47678756713867, 34.087547302246094, 44.33491516113281, 132.3367156982422, 182.84075927734375, 45.04575729370117, 66.71055603027344, 96.54371643066406, 156.89442443847656, 328.6136169433594, 107.61786651611328, 131.12098693847656, 121.51387786865234, 80.9190673828125, 85.48628997802734, 90.6122817993164, 154.3188934326172, 67.92569732666016, 77.11896514892578, 83.57563781738281, 52.730533599853516, 56.467872619628906, 72.4365234375, 67.26165008544922, 69.87125396728516, 64.66398620605469, 60.097328186035156, 64.53191375732422, 63.4122428894043, 61.18781280517578, 1.4933823347091675, 1.4932670593261719, 2.800328254699707, 2.05633544921875, 0.9783636331558228, 0.9657347798347473, 0.9605469703674316, 1.472764015197754, 6.15862512588501, 0.959884524345398, 1.4402313232421875, 0.927575945854187, 0.97596275806427, 0.9383972883224487, 0.9659509658813477, 0.9334847331047058, 0.9101144671440125, 1.8812930583953857, 0.9308887124061584, 0.8901669979095459, 6.624481678009033, 0.9480692744255066, 0.9077163338661194, 0.9162144064903259, 0.910282552242279, 0.9278069138526917, 0.905650794506073, 0.9070815443992615, 1.8161896467208862, 0.9004215002059937, 5.025656223297119, 43.81330490112305, 22.989213943481445, 70.64622497558594, 210.1553497314453, 9.242753982543945, 6.789375305175781, 35.144283294677734, 37.015472412109375, 34.799354553222656, 20.783794403076172, 3.347568988800049, 43.16416549682617, 21.275741577148438, 18.22294807434082, 6.589454174041748, 65.68643951416016, 68.77642059326172, 110.94450378417969, 46.45589828491211, 93.74422454833984, 15.165400505065918, 12.937684059143066, 46.012969970703125, 331.9149169921875, 34.3076171875, 145.49078369140625, 119.06835174560547, 67.06255340576172, 160.29286193847656, 68.45636749267578, 73.8085708618164, 121.98479461669922, 43.635738372802734, 46.94179916381836, 39.412139892578125, 77.7229995727539, 66.23237609863281, 68.49234008789062, 55.335636138916016, 140.58726501464844, 117.29545593261719, 97.69911193847656, 76.80626678466797, 63.92027282714844, 71.66769409179688, 58.58001708984375, 57.31930160522461, 58.88693618774414, 52.453208923339844, 60.468021392822266, 54.37937927246094, 54.59904098510742, 2.9331369400024414, 0.6785602569580078, 0.9414873123168945, 0.8973614573478699, 1.075150966644287, 0.8841517567634583, 0.4242359697818756, 1.4776924848556519, 0.41206976771354675, 0.6455912590026855, 0.5800811648368835, 0.4084814786911011, 0.4120776653289795, 1.015845775604248, 1.4052314758300781, 0.6367895603179932, 0.6252934336662292, 0.8144517540931702, 0.6218773126602173, 0.8348447680473328, 0.646331787109375, 0.4184301793575287, 0.4139207899570465, 0.5848447680473328, 0.8436245322227478, 0.628922164440155, 0.42028313875198364, 0.4028066098690033, 0.9712740182876587, 0.4132400155067444, 4.206605434417725, 2.0154216289520264, 0.9957497119903564, 1.4275959730148315, 7.067430019378662, 1.807458519935608, 2.7526350021362305, 1.0517070293426514, 27.563087463378906, 27.07509994506836, 14.409005165100098, 5.529990196228027, 2.087827682495117, 5.8281636238098145, 8.373748779296875, 5.51165246963501, 4.26829195022583, 28.90953254699707, 13.055038452148438, 10.890007972717285, 11.484959602355957, 6.188441276550293, 175.54351806640625, 14.34818172454834, 16.419414520263672, 25.521196365356445, 14.11365795135498, 11.352923393249512, 29.76858901977539, 33.9227180480957, 18.288297653198242, 29.23474884033203, 78.08936309814453, 59.99980545043945, 55.06285095214844, 35.806026458740234, 56.03974533081055, 63.59337615966797, 66.22371673583984, 24.641069412231445, 74.15321350097656, 37.14126968383789, 25.116727828979492, 39.44179916381836, 34.87037658691406, 18.40678596496582, 36.054832458496094, 21.374340057373047, 30.96722984313965, 29.788352966308594, 58.91990661621094, 24.304744720458984, 29.829893112182617, 30.930137634277344, 24.353078842163086, 22.97198486328125, 26.22265625, 26.009078979492188, 27.15166473388672, 26.81967544555664, 25.893861770629883, 0.8953620791435242, 0.2546480894088745, 0.24088484048843384, 0.24264279007911682, 0.23745110630989075, 0.2402845174074173, 0.2316870093345642, 0.23138760030269623, 0.3439343571662903, 0.35496869683265686, 0.6185319423675537, 0.22741790115833282, 0.22698011994361877, 0.22595390677452087, 0.23123350739479065, 0.22847630083560944, 0.2340007722377777, 0.22196482121944427, 0.35317879915237427, 0.23027361929416656, 0.22558875381946564, 0.22795741260051727, 0.343944251537323, 0.21596558392047882, 0.3412895202636719, 0.22746069729328156, 0.22237108647823334, 0.21515518426895142, 0.450661301612854, 0.21629929542541504, 7.489658832550049, 0.32123154401779175, 1.0849615335464478, 0.3365011513233185, 4.592698574066162, 2.1926074028015137, 3.2526798248291016, 0.8635088205337524, 10.370736122131348, 4.403873443603516, 18.56064224243164, 7.975494384765625, 16.25507926940918, 2.859997034072876, 2.1399104595184326, 3.21250319480896, 5.1419677734375, 2.070268392562866, 72.62787628173828, 7.1151227951049805, 5.763179302215576, 5.2142791748046875, 15.944458961486816, 5.484631061553955, 13.484631538391113, 19.018505096435547, 13.688261985778809, 2.889054536819458, 6.745282173156738, 10.86073112487793, 7.842065811157227, 12.274054527282715, 15.064587593078613, 11.003790855407715, 17.777915954589844, 16.156082153320312, 10.133122444152832, 15.720321655273438, 30.429637908935547, 9.101625442504883, 9.86754035949707, 8.527243614196777, 12.04261589050293, 26.163402557373047, 20.058029174804688, 25.246828079223633, 9.887192726135254, 15.346606254577637, 20.905832290649414, 21.06330680847168, 13.34785270690918, 12.228343963623047, 17.482152938842773, 18.13631820678711, 11.225789070129395, 12.798659324645996, 12.004761695861816, 12.45938491821289, 11.610198020935059, 11.199134826660156, 2.1445629596710205, 1.3471189737319946, 0.17529594898223877, 2.2707197666168213, 0.1647154539823532, 0.1698731780052185, 0.16998933255672455, 0.164303719997406, 0.1664009988307953, 0.16494406759738922, 0.16222718358039856, 0.1627734750509262, 0.16293123364448547, 0.158466175198555, 0.23634473979473114, 0.1587509661912918, 0.15707097947597504, 0.23617349565029144, 0.16108401119709015, 0.1589210331439972, 0.15738466382026672, 0.15763303637504578, 0.2317921668291092, 0.15801970660686493, 0.15673477947711945, 0.15476371347904205, 0.32187792658805847, 0.15528754889965057, 0.15490438044071198, 0.15156887471675873, 0.38800933957099915, 0.4652841091156006, 0.5295215845108032, 1.709872841835022, 0.8774715065956116, 0.3008432388305664, 22.22916603088379, 1.164313554763794, 13.838301658630371, 4.868038177490234, 4.336868762969971, 1.5534533262252808, 4.07176399230957, 6.853212833404541, 2.0451769828796387, 3.4637093544006348, 5.2096099853515625, 8.739261627197266, 4.506873607635498, 55.99396896362305, 21.17837905883789, 13.639518737792969, 22.787994384765625, 9.616937637329102, 4.011566638946533, 9.645366668701172, 8.670062065124512, 12.23967456817627, 3.981175661087036, 2.385199785232544, 7.6663947105407715, 7.445024490356445, 25.421768188476562, 9.580625534057617, 5.705787658691406, 11.300540924072266, 22.022464752197266, 19.792892456054688, 11.14713191986084, 20.97216033935547, 11.896720886230469, 7.424683570861816, 7.438777446746826, 10.524051666259766, 16.016677856445312, 9.436787605285645, 10.921332359313965, 8.459319114685059, 8.609654426574707, 12.570344924926758, 10.09965705871582, 10.181913375854492, 8.260737419128418, 8.946952819824219, 0.039537910372018814, 0.03815862536430359, 0.15101702511310577, 0.037512075155973434, 0.057405754923820496, 0.03626474738121033, 0.03728315979242325, 0.0374104306101799, 0.07326540350914001, 0.03545108810067177, 0.0361073836684227, 0.03955963999032974, 0.3102115988731384, 0.03937530517578125, 0.03540647774934769, 0.03579825907945633, 0.04018297418951988, 0.037315767258405685, 0.15210388600826263, 0.035586223006248474, 0.03645164892077446, 0.035795025527477264, 0.037491124123334885, 0.038879357278347015, 0.03646121174097061, 0.03650260716676712, 0.03624872490763664, 0.03521347418427467, 0.0344543531537056, 0.03558637201786041, 0.054159197956323624, 0.052602943032979965, 0.2761957347393036, 0.13815991580486298, 0.2644098699092865, 1.387955665588379, 0.12175176292657852, 1.2347939014434814, 1.2629287242889404, 0.6439377069473267, 0.23999664187431335, 1.3844338655471802, 0.499077171087265, 0.6541627049446106, 4.8852739334106445, 6.863630771636963, 6.631359100341797, 1.3956798315048218, 1.545696496963501, 1.4669917821884155, 1.838592529296875, 1.2480897903442383, 1.291121244430542, 2.304426431655884, 1.0730093717575073, 1.3982805013656616, 1.4165364503860474, 1.6553266048431396, 2.4148459434509277, 2.5595598220825195, 2.6374895572662354, 1.486110806465149, 2.495652675628662, 9.4049072265625, 3.4469666481018066, 4.194467067718506, 1.7219785451889038, 4.495325088500977, 4.628132343292236, 1.633834719657898, 1.8504294157028198, 3.8492889404296875, 3.3162379264831543, 2.142930507659912, 2.019523859024048, 2.236032247543335, 2.213942527770996, 2.316570997238159, 2.3227128982543945, 2.08381986618042, 2.364337205886841, 1.9786595106124878, 2.2562758922576904, 2.1193621158599854, 1.7913392782211304, 1.9642221927642822, 1.7922382354736328], \"Total\": [974.0, 491.0, 474.0, 475.0, 358.0, 334.0, 413.0, 277.0, 327.0, 390.0, 173.0, 184.0, 186.0, 199.0, 194.0, 223.0, 221.0, 239.0, 198.0, 204.0, 155.0, 237.0, 165.0, 180.0, 139.0, 216.0, 136.0, 165.0, 182.0, 124.0, 4.6855268478393555, 3.4993412494659424, 3.683340549468994, 2.6741397380828857, 2.708542585372925, 2.675037384033203, 3.468092918395996, 4.449135780334473, 6.585641860961914, 2.671757936477661, 2.6259052753448486, 2.6819686889648438, 2.715219259262085, 1.7293732166290283, 3.499372720718384, 1.7239937782287598, 1.7249209880828857, 1.7221553325653076, 1.7227261066436768, 1.7618683576583862, 1.7222316265106201, 4.238871097564697, 5.178296089172363, 2.5405805110931396, 2.5971124172210693, 1.7326316833496094, 3.3807830810546875, 3.371398448944092, 1.7023394107818604, 1.6862688064575195, 92.93550872802734, 8.897951126098633, 25.38224983215332, 64.47180938720703, 70.4123764038086, 17.894634246826172, 71.89075469970703, 17.06529998779297, 79.79953002929688, 7.007464408874512, 5.211542129516602, 88.29801177978516, 77.43702697753906, 59.70332336425781, 151.312744140625, 33.48463439941406, 216.23435974121094, 72.11433410644531, 59.196319580078125, 26.591699600219727, 15.720085144042969, 491.2895202636719, 134.9938201904297, 110.03179168701172, 390.92596435546875, 88.58773803710938, 161.12005615234375, 83.44075775146484, 83.15003967285156, 128.7631072998047, 40.36397933959961, 134.07113647460938, 72.58586120605469, 97.10104370117188, 327.075439453125, 474.9898681640625, 99.75111389160156, 155.6252899169922, 237.57957458496094, 413.9604187011719, 974.0988159179688, 277.8730773925781, 358.224365234375, 334.1356201171875, 204.62120056152344, 221.7957000732422, 239.06903076171875, 475.2915954589844, 168.0959014892578, 199.53358459472656, 223.29551696777344, 121.05025482177734, 136.80865478515625, 198.86996459960938, 180.07025146484375, 194.43089294433594, 173.2078094482422, 154.03932189941406, 186.223388671875, 182.08985900878906, 165.60125732421875, 2.000977039337158, 2.0008764266967773, 4.46291971206665, 3.5191004276275635, 1.7245322465896606, 1.7130310535430908, 1.7039293050765991, 2.615272283554077, 10.964792251586914, 1.7196542024612427, 2.606938600540161, 1.682589054107666, 1.7717069387435913, 1.7054438591003418, 1.7740521430969238, 1.7179334163665771, 1.679139256477356, 3.4792299270629883, 1.721596598625183, 1.646688461303711, 12.258984565734863, 1.755379557609558, 1.681223750114441, 1.6982688903808594, 1.6894075870513916, 1.736432671546936, 1.6950680017471313, 1.7002036571502686, 3.406744956970215, 1.6989142894744873, 9.685403823852539, 91.78768920898438, 47.29249954223633, 152.18228149414062, 475.2915954589844, 18.574901580810547, 13.5821533203125, 76.42536926269531, 81.80361938476562, 76.80615234375, 44.647544860839844, 6.549851894378662, 97.15702056884766, 46.417354583740234, 39.42835235595703, 13.407306671142578, 155.81138610839844, 165.70541381835938, 277.8730773925781, 109.50120544433594, 239.06903076171875, 33.19355773925781, 28.043746948242188, 112.2187271118164, 974.0988159179688, 81.83287048339844, 413.9604187011719, 334.1356201171875, 176.64096069335938, 474.9898681640625, 182.08985900878906, 198.86996459960938, 358.224365234375, 109.48184967041016, 119.95963287353516, 98.25082397460938, 221.7957000732422, 184.06826782226562, 194.43089294433594, 150.11309814453125, 491.2895202636719, 390.92596435546875, 327.075439453125, 237.57957458496094, 186.223388671875, 223.29551696777344, 173.2078094482422, 168.0959014892578, 180.07025146484375, 145.98361206054688, 204.62120056152344, 165.60125732421875, 199.53358459472656, 9.52194881439209, 2.205655097961426, 3.111093759536743, 3.0163164138793945, 3.720224380493164, 3.09268856048584, 1.4862213134765625, 5.189443588256836, 1.470482349395752, 2.312190055847168, 2.083341360092163, 1.4672876596450806, 1.4881218671798706, 3.6752636432647705, 5.09006929397583, 2.3071036338806152, 2.2673001289367676, 2.9644970893859863, 2.2654709815979004, 3.05002498626709, 2.361823797225952, 1.533219575881958, 1.5204871892929077, 2.1513121128082275, 3.106422185897827, 2.3191380500793457, 1.5548427104949951, 1.494293212890625, 3.604532241821289, 1.5336312055587769, 15.824568748474121, 7.535423278808594, 3.702284097671509, 5.34853982925415, 27.61211585998535, 6.826751708984375, 10.551078796386719, 3.9354844093322754, 120.0563735961914, 118.3775405883789, 61.22574234008789, 22.350400924682617, 8.043922424316406, 23.92849349975586, 35.226402282714844, 22.654813766479492, 17.39491081237793, 134.07275390625, 57.29271697998047, 47.49777603149414, 50.650543212890625, 26.26667594909668, 974.0988159179688, 65.75808715820312, 76.48444366455078, 124.32923126220703, 66.38348388671875, 52.59153366088867, 154.03932189941406, 182.08985900878906, 90.48986053466797, 154.98085021972656, 474.9898681640625, 358.224365234375, 327.075439453125, 199.53358459472656, 334.1356201171875, 390.92596435546875, 413.9604187011719, 130.5298614501953, 491.2895202636719, 216.23435974121094, 135.63221740722656, 237.57957458496094, 204.62120056152344, 94.1343002319336, 223.29551696777344, 114.22930908203125, 186.223388671875, 180.07025146484375, 475.2915954589844, 136.80865478515625, 184.06826782226562, 194.43089294433594, 139.11451721191406, 127.27828216552734, 161.12005615234375, 176.64096069335938, 221.7957000732422, 239.06903076171875, 198.86996459960938, 4.070115089416504, 1.3439608812332153, 1.3635069131851196, 1.3852291107177734, 1.3757638931274414, 1.4082521200180054, 1.3747056722640991, 1.3752989768981934, 2.0600314140319824, 2.127748489379883, 3.7147939205169678, 1.382197618484497, 1.38484787940979, 1.3802343606948853, 1.4148615598678589, 1.4030271768569946, 1.4420160055160522, 1.368295669555664, 2.198321580886841, 1.4394704103469849, 1.4317137002944946, 1.4474549293518066, 2.1908602714538574, 1.3790901899337769, 2.183683395385742, 1.4597220420837402, 1.4323172569274902, 1.3861188888549805, 2.9064018726348877, 1.3961758613586426, 51.78022766113281, 2.0868337154388428, 7.384815692901611, 2.2027900218963623, 34.5860481262207, 16.020193099975586, 25.048736572265625, 6.020594120025635, 87.3017807006836, 35.6275634765625, 184.06826782226562, 72.35924530029297, 165.60125732421875, 23.7801570892334, 17.202617645263672, 27.187889099121094, 46.9620475769043, 16.83099937438965, 974.0988159179688, 69.29239654541016, 54.42348098754883, 48.61678695678711, 176.64096069335938, 51.5410270690918, 148.16647338867188, 221.7957000732422, 152.45994567871094, 24.799571990966797, 67.38289642333984, 118.74495697021484, 80.73526763916016, 139.11451721191406, 180.07025146484375, 124.32923126220703, 223.29551696777344, 199.53358459472656, 116.14012145996094, 204.62120056152344, 491.2895202636719, 103.07345581054688, 116.11507415771484, 95.77167510986328, 155.81138610839844, 474.9898681640625, 334.1356201171875, 475.2915954589844, 120.4888687133789, 239.06903076171875, 390.92596435546875, 413.9604187011719, 198.86996459960938, 173.2078094482422, 327.075439453125, 358.224365234375, 150.11309814453125, 216.23435974121094, 186.223388671875, 277.8730773925781, 237.57957458496094, 194.43089294433594, 14.742563247680664, 9.402856826782227, 1.3098828792572021, 17.052555084228516, 1.2907205820083618, 1.3925862312316895, 1.4001953601837158, 1.3773767948150635, 1.3995131254196167, 1.4096417427062988, 1.3877604007720947, 1.3971107006072998, 1.4025737047195435, 1.3816100358963013, 2.0633325576782227, 1.3877570629119873, 1.3783392906188965, 2.0935401916503906, 1.428276538848877, 1.4100722074508667, 1.400212049484253, 1.4024670124053955, 2.067863702774048, 1.4162311553955078, 1.4064706563949585, 1.3993865251541138, 2.9148459434509277, 1.4071838855743408, 1.4074580669403076, 1.379128336906433, 3.550788402557373, 4.2999725341796875, 4.911952972412109, 16.312057495117188, 8.249320030212402, 2.7863759994506836, 277.8730773925781, 11.94541072845459, 173.2078094482422, 57.39397048950195, 51.84294128417969, 16.816823959350586, 48.648681640625, 86.87730407714844, 23.09790802001953, 41.68800735473633, 66.38348388671875, 120.0563735961914, 57.29271697998047, 974.0988159179688, 327.075439453125, 199.53358459472656, 358.224365234375, 136.80865478515625, 50.82710266113281, 139.11451721191406, 124.32923126220703, 186.223388671875, 51.24310302734375, 28.776466369628906, 114.22930908203125, 111.19216918945312, 491.2895202636719, 152.18228149414062, 82.2450180053711, 194.43089294433594, 475.2915954589844, 413.9604187011719, 198.86996459960938, 474.9898681640625, 223.29551696777344, 118.3775405883789, 118.71818542480469, 204.62120056152344, 390.92596435546875, 184.06826782226562, 237.57957458496094, 155.6252899169922, 161.12005615234375, 334.1356201171875, 221.7957000732422, 239.06903076171875, 155.81138610839844, 216.23435974121094, 1.3522310256958008, 1.3480103015899658, 5.480053424835205, 1.3677343130111694, 2.1048905849456787, 1.3340106010437012, 1.3790072202682495, 1.3844451904296875, 2.7149970531463623, 1.3145231008529663, 1.3454079627990723, 1.4749406576156616, 11.663453102111816, 1.487062692642212, 1.3396327495574951, 1.3558987379074097, 1.527699589729309, 1.4206849336624146, 5.797939300537109, 1.3591327667236328, 1.4002015590667725, 1.384908676147461, 1.4520509243011475, 1.506191372871399, 1.4162958860397339, 1.4249416589736938, 1.4158728122711182, 1.376375675201416, 1.3472886085510254, 1.3918519020080566, 2.1360201835632324, 2.0736942291259766, 11.761902809143066, 5.728724479675293, 11.369483947753906, 66.38348388671875, 5.067673206329346, 62.43374252319336, 66.18096923828125, 32.29026794433594, 10.97205638885498, 76.48444366455078, 25.32164192199707, 34.5860481262207, 334.1356201171875, 491.2895202636719, 474.9898681640625, 82.53108978271484, 94.1343002319336, 89.66056060791016, 116.8958511352539, 75.34915161132812, 79.83927917480469, 155.6252899169922, 64.65054321289062, 87.97391510009766, 90.48986053466797, 110.03179168701172, 173.2078094482422, 186.223388671875, 194.43089294433594, 97.93508911132812, 184.06826782226562, 974.0988159179688, 277.8730773925781, 358.224365234375, 120.20149230957031, 413.9604187011719, 475.2915954589844, 115.94099426269531, 139.11451721191406, 390.92596435546875, 327.075439453125, 180.07025146484375, 165.60125732421875, 198.86996459960938, 199.53358459472656, 221.7957000732422, 223.29551696777344, 182.08985900878906, 239.06903076171875, 165.70541381835938, 237.57957458496094, 204.62120056152344, 136.80865478515625, 216.23435974121094, 154.98085021972656], \"Category\": [\"Default\", \"Default\", \"Default\", \"Default\", \"Default\", \"Default\", \"Default\", \"Default\", \"Default\", \"Default\", \"Default\", \"Default\", \"Default\", \"Default\", \"Default\", \"Default\", \"Default\", \"Default\", \"Default\", \"Default\", \"Default\", \"Default\", \"Default\", \"Default\", \"Default\", \"Default\", \"Default\", \"Default\", \"Default\", \"Default\", \"Topic1\", \"Topic1\", \"Topic1\", \"Topic1\", \"Topic1\", \"Topic1\", \"Topic1\", \"Topic1\", \"Topic1\", \"Topic1\", \"Topic1\", \"Topic1\", \"Topic1\", \"Topic1\", \"Topic1\", \"Topic1\", \"Topic1\", \"Topic1\", \"Topic1\", \"Topic1\", \"Topic1\", \"Topic1\", \"Topic1\", \"Topic1\", \"Topic1\", \"Topic1\", \"Topic1\", \"Topic1\", \"Topic1\", \"Topic1\", \"Topic1\", \"Topic1\", \"Topic1\", \"Topic1\", \"Topic1\", \"Topic1\", \"Topic1\", \"Topic1\", \"Topic1\", \"Topic1\", \"Topic1\", \"Topic1\", \"Topic1\", \"Topic1\", \"Topic1\", \"Topic1\", \"Topic1\", \"Topic1\", \"Topic1\", \"Topic1\", \"Topic1\", \"Topic1\", \"Topic1\", \"Topic1\", \"Topic1\", \"Topic1\", \"Topic1\", \"Topic1\", \"Topic1\", \"Topic1\", \"Topic1\", \"Topic1\", \"Topic1\", \"Topic1\", \"Topic1\", \"Topic1\", \"Topic1\", \"Topic1\", \"Topic1\", \"Topic1\", \"Topic1\", \"Topic1\", \"Topic1\", \"Topic1\", \"Topic1\", \"Topic1\", \"Topic1\", \"Topic1\", \"Topic1\", \"Topic1\", \"Topic1\", \"Topic1\", \"Topic1\", \"Topic1\", \"Topic1\", \"Topic1\", \"Topic1\", \"Topic1\", \"Topic1\", \"Topic1\", \"Topic1\", \"Topic2\", \"Topic2\", \"Topic2\", \"Topic2\", \"Topic2\", \"Topic2\", \"Topic2\", \"Topic2\", \"Topic2\", \"Topic2\", \"Topic2\", \"Topic2\", \"Topic2\", \"Topic2\", \"Topic2\", \"Topic2\", \"Topic2\", \"Topic2\", \"Topic2\", \"Topic2\", \"Topic2\", \"Topic2\", \"Topic2\", \"Topic2\", \"Topic2\", \"Topic2\", \"Topic2\", \"Topic2\", \"Topic2\", \"Topic2\", \"Topic2\", \"Topic2\", \"Topic2\", \"Topic2\", \"Topic2\", \"Topic2\", \"Topic2\", \"Topic2\", \"Topic2\", \"Topic2\", \"Topic2\", \"Topic2\", \"Topic2\", \"Topic2\", \"Topic2\", \"Topic2\", \"Topic2\", \"Topic2\", \"Topic2\", \"Topic2\", \"Topic2\", \"Topic2\", \"Topic2\", \"Topic2\", \"Topic2\", \"Topic2\", \"Topic2\", \"Topic2\", \"Topic2\", \"Topic2\", \"Topic2\", \"Topic2\", \"Topic2\", \"Topic2\", \"Topic2\", \"Topic2\", \"Topic2\", \"Topic2\", \"Topic2\", \"Topic2\", \"Topic2\", \"Topic2\", \"Topic2\", \"Topic2\", \"Topic2\", \"Topic2\", \"Topic2\", \"Topic2\", \"Topic2\", \"Topic2\", \"Topic2\", \"Topic2\", \"Topic2\", \"Topic3\", \"Topic3\", \"Topic3\", \"Topic3\", \"Topic3\", \"Topic3\", \"Topic3\", \"Topic3\", \"Topic3\", \"Topic3\", \"Topic3\", \"Topic3\", \"Topic3\", \"Topic3\", \"Topic3\", \"Topic3\", \"Topic3\", \"Topic3\", \"Topic3\", \"Topic3\", \"Topic3\", \"Topic3\", \"Topic3\", \"Topic3\", \"Topic3\", \"Topic3\", \"Topic3\", \"Topic3\", \"Topic3\", \"Topic3\", \"Topic3\", \"Topic3\", \"Topic3\", \"Topic3\", \"Topic3\", \"Topic3\", \"Topic3\", \"Topic3\", \"Topic3\", \"Topic3\", \"Topic3\", \"Topic3\", \"Topic3\", \"Topic3\", \"Topic3\", \"Topic3\", \"Topic3\", \"Topic3\", \"Topic3\", \"Topic3\", \"Topic3\", \"Topic3\", \"Topic3\", \"Topic3\", \"Topic3\", \"Topic3\", \"Topic3\", \"Topic3\", \"Topic3\", \"Topic3\", \"Topic3\", \"Topic3\", \"Topic3\", \"Topic3\", \"Topic3\", \"Topic3\", \"Topic3\", \"Topic3\", \"Topic3\", \"Topic3\", \"Topic3\", \"Topic3\", \"Topic3\", \"Topic3\", \"Topic3\", \"Topic3\", \"Topic3\", \"Topic3\", \"Topic3\", \"Topic3\", \"Topic3\", \"Topic3\", \"Topic3\", \"Topic3\", \"Topic3\", \"Topic3\", \"Topic3\", \"Topic3\", \"Topic3\", \"Topic3\", \"Topic3\", \"Topic4\", \"Topic4\", \"Topic4\", \"Topic4\", \"Topic4\", \"Topic4\", \"Topic4\", \"Topic4\", \"Topic4\", \"Topic4\", \"Topic4\", \"Topic4\", \"Topic4\", \"Topic4\", \"Topic4\", \"Topic4\", \"Topic4\", \"Topic4\", \"Topic4\", \"Topic4\", \"Topic4\", \"Topic4\", \"Topic4\", \"Topic4\", \"Topic4\", \"Topic4\", \"Topic4\", \"Topic4\", \"Topic4\", \"Topic4\", \"Topic4\", \"Topic4\", \"Topic4\", \"Topic4\", \"Topic4\", \"Topic4\", \"Topic4\", \"Topic4\", \"Topic4\", \"Topic4\", \"Topic4\", \"Topic4\", \"Topic4\", \"Topic4\", \"Topic4\", \"Topic4\", \"Topic4\", \"Topic4\", \"Topic4\", \"Topic4\", \"Topic4\", \"Topic4\", \"Topic4\", \"Topic4\", \"Topic4\", \"Topic4\", \"Topic4\", \"Topic4\", \"Topic4\", \"Topic4\", \"Topic4\", \"Topic4\", \"Topic4\", \"Topic4\", \"Topic4\", \"Topic4\", \"Topic4\", \"Topic4\", \"Topic4\", \"Topic4\", \"Topic4\", \"Topic4\", \"Topic4\", \"Topic4\", \"Topic4\", \"Topic4\", \"Topic4\", \"Topic4\", \"Topic4\", \"Topic4\", \"Topic4\", \"Topic4\", \"Topic4\", \"Topic4\", \"Topic4\", \"Topic4\", \"Topic4\", \"Topic4\", \"Topic4\", \"Topic4\", \"Topic5\", \"Topic5\", \"Topic5\", \"Topic5\", \"Topic5\", \"Topic5\", \"Topic5\", \"Topic5\", \"Topic5\", \"Topic5\", \"Topic5\", \"Topic5\", \"Topic5\", \"Topic5\", \"Topic5\", \"Topic5\", \"Topic5\", \"Topic5\", \"Topic5\", \"Topic5\", \"Topic5\", \"Topic5\", \"Topic5\", \"Topic5\", \"Topic5\", \"Topic5\", \"Topic5\", \"Topic5\", \"Topic5\", \"Topic5\", \"Topic5\", \"Topic5\", \"Topic5\", \"Topic5\", \"Topic5\", \"Topic5\", \"Topic5\", \"Topic5\", \"Topic5\", \"Topic5\", \"Topic5\", \"Topic5\", \"Topic5\", \"Topic5\", \"Topic5\", \"Topic5\", \"Topic5\", \"Topic5\", \"Topic5\", \"Topic5\", \"Topic5\", \"Topic5\", \"Topic5\", \"Topic5\", \"Topic5\", \"Topic5\", \"Topic5\", \"Topic5\", \"Topic5\", \"Topic5\", \"Topic5\", \"Topic5\", \"Topic5\", \"Topic5\", \"Topic5\", \"Topic5\", \"Topic5\", \"Topic5\", \"Topic5\", \"Topic5\", \"Topic5\", \"Topic5\", \"Topic5\", \"Topic5\", \"Topic5\", \"Topic5\", \"Topic5\", \"Topic5\", \"Topic5\", \"Topic5\", \"Topic5\", \"Topic5\", \"Topic5\", \"Topic5\", \"Topic6\", \"Topic6\", \"Topic6\", \"Topic6\", \"Topic6\", \"Topic6\", \"Topic6\", \"Topic6\", \"Topic6\", \"Topic6\", \"Topic6\", \"Topic6\", \"Topic6\", \"Topic6\", \"Topic6\", \"Topic6\", \"Topic6\", \"Topic6\", \"Topic6\", \"Topic6\", \"Topic6\", \"Topic6\", \"Topic6\", \"Topic6\", \"Topic6\", \"Topic6\", \"Topic6\", \"Topic6\", \"Topic6\", \"Topic6\", \"Topic6\", \"Topic6\", \"Topic6\", \"Topic6\", \"Topic6\", \"Topic6\", \"Topic6\", \"Topic6\", \"Topic6\", \"Topic6\", \"Topic6\", \"Topic6\", \"Topic6\", \"Topic6\", \"Topic6\", \"Topic6\", \"Topic6\", \"Topic6\", \"Topic6\", \"Topic6\", \"Topic6\", \"Topic6\", \"Topic6\", \"Topic6\", \"Topic6\", \"Topic6\", \"Topic6\", \"Topic6\", \"Topic6\", \"Topic6\", \"Topic6\", \"Topic6\", \"Topic6\", \"Topic6\", \"Topic6\", \"Topic6\", \"Topic6\", \"Topic6\", \"Topic6\", \"Topic6\", \"Topic6\", \"Topic6\", \"Topic6\", \"Topic6\", \"Topic6\", \"Topic6\", \"Topic6\", \"Topic6\", \"Topic6\", \"Topic6\", \"Topic6\", \"Topic6\", \"Topic6\", \"Topic6\", \"Topic6\", \"Topic6\", \"Topic6\"], \"logprob\": [30.0, 29.0, 28.0, 27.0, 26.0, 25.0, 24.0, 23.0, 22.0, 21.0, 20.0, 19.0, 18.0, 17.0, 16.0, 15.0, 14.0, 13.0, 12.0, 11.0, 10.0, 9.0, 8.0, 7.0, 6.0, 5.0, 4.0, 3.0, 2.0, 1.0, -9.664899826049805, -9.964500427246094, -9.949000358581543, -10.303099632263184, -10.311699867248535, -10.33530044555664, -10.075799942016602, -9.82979965209961, -9.440400123596191, -10.34939956665039, -10.368599891662598, -10.349100112915039, -10.339799880981445, -10.791299819946289, -10.09939956665039, -10.811599731445312, -10.813699722290039, -10.81879997253418, -10.819000244140625, -10.796899795532227, -10.821100234985352, -9.920499801635742, -9.720999717712402, -10.433600425720215, -10.41670036315918, -10.821999549865723, -10.157699584960938, -10.161800384521484, -10.845499992370605, -10.855600357055664, -6.85830020904541, -9.20259952545166, -8.170299530029297, -7.275300025939941, -7.192200183868408, -8.531700134277344, -7.186600208282471, -8.582099914550781, -7.08620023727417, -9.446499824523926, -9.737199783325195, -6.998300075531006, -7.124800205230713, -7.376500129699707, -6.486299991607666, -7.936999797821045, -6.153900146484375, -7.202099800109863, -7.39300012588501, -8.161199569702148, -8.667499542236328, -5.406899929046631, -6.63539981842041, -6.830900192260742, -5.640600204467773, -7.0381999015808105, -6.476099967956543, -7.097499847412109, -7.103899955749512, -6.697800159454346, -7.777400016784668, -6.6697998046875, -7.243199825286865, -6.980299949645996, -5.88670015335083, -5.563499927520752, -6.964399814605713, -6.571700096130371, -6.202099800109863, -5.7164998054504395, -4.977200031280518, -6.093500137329102, -5.895999908447266, -5.972099781036377, -6.378600120544434, -6.323699951171875, -6.265500068664551, -5.733099937438965, -6.553699970245361, -6.426700115203857, -6.34630012512207, -6.8069000244140625, -6.738399982452393, -6.4893999099731445, -6.563499927520752, -6.525400161743164, -6.60290002822876, -6.67609977722168, -6.604899883270264, -6.622399806976318, -6.658100128173828, -10.224100112915039, -10.224100112915039, -9.595399856567383, -9.904199600219727, -10.647000312805176, -10.65999984741211, -10.665300369262695, -10.23799991607666, -8.80720043182373, -10.666000366210938, -10.260299682617188, -10.700300216674805, -10.649399757385254, -10.688699722290039, -10.659700393676758, -10.693900108337402, -10.719300270080566, -9.9931001663208, -10.696700096130371, -10.741399765014648, -8.734299659729004, -10.678400039672852, -10.72189998626709, -10.712599754333496, -10.719099998474121, -10.699999809265137, -10.724200248718262, -10.722599983215332, -10.028400421142578, -10.729999542236328, -9.010499954223633, -6.845200061798096, -7.490099906921387, -6.367400169372559, -5.277200222015381, -8.401300430297852, -8.709699630737305, -7.0655999183654785, -7.013800144195557, -7.075500011444092, -7.59089994430542, -9.416899681091309, -6.860099792480469, -7.567500114440918, -7.722400188446045, -8.73960018157959, -6.440199851989746, -6.394199848175049, -5.916100025177002, -6.786600112915039, -6.084499835968018, -7.906099796295166, -8.0649995803833, -6.796199798583984, -4.820199966430664, -7.089700222015381, -5.644999980926514, -5.845399856567383, -6.41949987411499, -5.548099994659424, -6.398900032043457, -6.323599815368652, -5.821199893951416, -6.8491997718811035, -6.776199817657471, -6.951000213623047, -6.271900177001953, -6.4319000244140625, -6.398399829864502, -6.611700057983398, -5.679299831390381, -5.860400199890137, -6.0432000160217285, -6.28380012512207, -6.46750020980835, -6.353099822998047, -6.554699897766113, -6.576499938964844, -6.549499988555908, -6.665200233459473, -6.5229997634887695, -6.6290998458862305, -6.625100135803223, -8.865500450134277, -10.329400062561035, -10.001899719238281, -10.04990005493164, -9.869099617004395, -10.06470012664795, -10.799099922180176, -9.55109977722168, -10.828200340270996, -10.379199981689453, -10.486200332641602, -10.836899757385254, -10.828200340270996, -9.92590045928955, -9.601400375366211, -10.392900466918945, -10.411100387573242, -10.14680004119873, -10.416600227355957, -10.122099876403809, -10.378100395202637, -10.812899589538574, -10.823699951171875, -10.477999687194824, -10.111700057983398, -10.405400276184082, -10.80840015411377, -10.850899696350098, -9.970800399780273, -10.825300216674805, -8.505000114440918, -9.240799903869629, -9.945899963378906, -9.585599899291992, -7.986100196838379, -9.349699974060059, -8.928999900817871, -9.891200065612793, -6.625100135803223, -6.64300012588501, -7.273799896240234, -8.231399536132812, -9.205499649047852, -8.178899765014648, -7.816500186920166, -8.234700202941895, -8.490400314331055, -6.577400207519531, -7.372399806976318, -7.553800106048584, -7.5005998611450195, -8.118900299072266, -4.77370023727417, -7.2779998779296875, -7.143099784851074, -6.702099800109863, -7.29449987411499, -7.5121002197265625, -6.5482001304626465, -6.417500019073486, -7.035299777984619, -6.566199779510498, -5.583799839019775, -5.847300052642822, -5.93310022354126, -6.363500118255615, -5.915500164031982, -5.789100170135498, -5.748600006103516, -6.737199783325195, -5.635499954223633, -6.326900005340576, -6.718100070953369, -6.2667999267578125, -6.389999866485596, -7.028900146484375, -6.356599807739258, -6.87939977645874, -6.508699893951416, -6.547500133514404, -5.8653998374938965, -6.750899791717529, -6.54610013961792, -6.509900093078613, -6.749000072479248, -6.807300090789795, -6.675000190734863, -6.683199882507324, -6.640200138092041, -6.652500152587891, -6.687600135803223, -9.293000221252441, -10.550399780273438, -10.605899810791016, -10.598699569702148, -10.62030029296875, -10.608400344848633, -10.64490032196045, -10.646200180053711, -10.249799728393555, -10.218199729919434, -9.6628999710083, -10.66349983215332, -10.665399551391602, -10.669899940490723, -10.64680004119873, -10.65880012512207, -10.634900093078613, -10.687700271606445, -10.223299980163574, -10.651000022888184, -10.671500205993652, -10.661100387573242, -10.249799728393555, -10.715100288391113, -10.257499694824219, -10.663299560546875, -10.68589973449707, -10.718899726867676, -9.979499816894531, -10.713600158691406, -7.169000148773193, -10.318099975585938, -9.100899696350098, -10.271599769592285, -7.6579999923706055, -8.39739990234375, -8.003000259399414, -9.32919979095459, -6.843500137329102, -7.699999809265137, -6.26140022277832, -7.106100082397461, -6.394100189208984, -8.131699562072754, -8.421699523925781, -8.015399932861328, -7.545100212097168, -8.45479965209961, -4.89709997177124, -7.220300197601318, -7.431000232696533, -7.531099796295166, -6.413400173187256, -7.480500221252441, -6.580900192260742, -6.237100124359131, -6.565999984741211, -8.121600151062012, -7.273600101470947, -6.797299861907959, -7.123000144958496, -6.675000190734863, -6.470099925994873, -6.784200191497803, -6.304500102996826, -6.400199890136719, -6.866700172424316, -6.427499771118164, -5.767099857330322, -6.973999977111816, -6.893199920654297, -7.0391998291015625, -6.693999767303467, -5.918099880218506, -6.183899879455566, -5.953800201416016, -6.891200065612793, -6.451600074768066, -6.142499923706055, -6.135000228881836, -6.591100215911865, -6.678699970245361, -6.321300029754639, -6.284599781036377, -6.7642998695373535, -6.6331000328063965, -6.697199821472168, -6.659999847412109, -6.730599880218506, -6.76669979095459, -8.103599548339844, -8.568499565124512, -10.607799530029297, -8.04640007019043, -10.670000076293945, -10.639200210571289, -10.638500213623047, -10.672499656677246, -10.659799575805664, -10.668600082397461, -10.68529987335205, -10.681900024414062, -10.680899620056152, -10.708700180053711, -10.309000015258789, -10.706899642944336, -10.717599868774414, -10.309700012207031, -10.692299842834473, -10.70580005645752, -10.71560001373291, -10.71399974822998, -10.328399658203125, -10.71150016784668, -10.71969985961914, -10.7322998046875, -10.000100135803223, -10.729000091552734, -10.731399536132812, -10.753199577331543, -9.813199996948242, -9.631600379943848, -9.502300262451172, -8.330100059509277, -8.997200012207031, -10.067700386047363, -5.765100002288818, -8.714400291442871, -6.239099979400635, -7.28380012512207, -7.3993000984191895, -8.425999641418457, -7.462399959564209, -6.941800117492676, -8.151000022888184, -7.624199867248535, -7.216000080108643, -6.698699951171875, -7.360899925231934, -4.84119987487793, -5.813499927520752, -6.253499984741211, -5.740300178527832, -6.603000164031982, -7.47730016708374, -6.599999904632568, -6.706600189208984, -6.361800193786621, -7.484899997711182, -7.997200012207031, -6.829599857330322, -6.85890007019043, -5.630899906158447, -6.606800079345703, -7.125, -6.4415998458862305, -5.774400234222412, -5.881199836730957, -6.4552998542785645, -5.823299884796143, -6.390200138092041, -6.861700057983398, -6.859799861907959, -6.512800216674805, -6.092899799346924, -6.6219000816345215, -6.475800037384033, -6.731200218200684, -6.713600158691406, -6.33519983291626, -6.553999900817871, -6.545899868011475, -6.755000114440918, -6.67519998550415, -10.625699996948242, -10.661199569702148, -9.285599708557129, -10.678299903869629, -10.252799987792969, -10.7121000289917, -10.684399604797363, -10.680999755859375, -10.008899688720703, -10.734800338745117, -10.716500282287598, -10.625200271606445, -8.565699577331543, -10.629799842834473, -10.736100196838379, -10.725099563598633, -10.60949993133545, -10.683500289916992, -9.278400421142578, -10.730999946594238, -10.706999778747559, -10.725199699401855, -10.678899765014648, -10.642499923706055, -10.706700325012207, -10.705599784851074, -10.712599754333496, -10.741499900817871, -10.763299942016602, -10.730999946594238, -10.310999870300293, -10.340200424194336, -8.681900024414062, -9.374600410461426, -8.725500106811523, -7.067399978637695, -9.50100040435791, -7.184299945831299, -7.161799907684326, -7.835400104522705, -8.82229995727539, -7.069900035858154, -8.090200424194336, -7.8196001052856445, -5.809000015258789, -5.468999862670898, -5.503399848937988, -7.061800003051758, -6.959700107574463, -7.01200008392334, -6.786200046539307, -7.173600196838379, -7.139699935913086, -6.560400009155273, -7.324699878692627, -7.059999942779541, -7.046999931335449, -6.891200065612793, -6.513599872589111, -6.455399990081787, -6.4253997802734375, -6.999000072479248, -6.4807000160217285, -5.1539998054504395, -6.157700061798096, -5.961400032043457, -6.8516998291015625, -5.892199993133545, -5.863100051879883, -6.904300212860107, -6.779799938201904, -6.047299861907959, -6.196400165557861, -6.632999897003174, -6.692299842834473, -6.5904998779296875, -6.600399971008301, -6.555099964141846, -6.552499771118164, -6.660999774932861, -6.5346999168396, -6.712800025939941, -6.581500053405762, -6.644100189208984, -6.81220006942749, -6.720099925994873, -6.811699867248535], \"loglift\": [30.0, 29.0, 28.0, 27.0, 26.0, 25.0, 24.0, 23.0, 22.0, 21.0, 20.0, 19.0, 18.0, 17.0, 16.0, 15.0, 14.0, 13.0, 12.0, 11.0, 10.0, 9.0, 8.0, 7.0, 6.0, 5.0, 4.0, 3.0, 2.0, 1.0, 0.5508000254631042, 0.5430999994277954, 0.5073999762535095, 0.4733999967575073, 0.4519999921321869, 0.4408999979496002, 0.4406999945640564, 0.4375999867916107, 0.43479999899864197, 0.42809998989105225, 0.4260999858379364, 0.4244999885559082, 0.42149999737739563, 0.421099990606308, 0.4081999957561493, 0.40389999747276306, 0.40130001306533813, 0.3977999985218048, 0.39730000495910645, 0.3968999981880188, 0.3953999876976013, 0.3953999876976013, 0.39469999074935913, 0.39419999718666077, 0.38909998536109924, 0.38850000500679016, 0.38429999351501465, 0.382999986410141, 0.38260000944137573, 0.38199999928474426, 0.3700000047683716, 0.3716999888420105, 0.35580000281333923, 0.31869998574256897, 0.31349998712539673, 0.3440000116825104, 0.29840001463890076, 0.3409999907016754, 0.29440000653266907, 0.3666999936103821, 0.37209999561309814, 0.28119999170303345, 0.2858000099658966, 0.29429998993873596, 0.25450000166893005, 0.31209999322891235, 0.22990000247955322, 0.2797999978065491, 0.28630000352859497, 0.31839999556541443, 0.3377000093460083, 0.15620000660419464, 0.21950000524520874, 0.22840000689029694, 0.1509999930858612, 0.23800000548362732, 0.20190000534057617, 0.23849999904632568, 0.23559999465942383, 0.20440000295639038, 0.2847999930381775, 0.19200000166893005, 0.2321999967098236, 0.20409999787807465, 0.08320000022649765, 0.033399999141693115, 0.1931000053882599, 0.14100000262260437, 0.08760000020265579, 0.017899999395012856, -0.09860000014305115, 0.039500001817941666, -0.017000000923871994, -0.023399999365210533, 0.06040000170469284, 0.034699998795986176, 0.017899999395012856, -0.13680000603199005, 0.0820000022649765, 0.03739999979734421, 0.0052999998442828655, 0.15710000693798065, 0.10320000350475311, -0.021900000050663948, 0.0032999999821186066, -0.03539999946951866, 0.00279999990016222, 0.046799998730421066, -0.07169999927282333, -0.06679999828338623, -0.007600000128149986, 0.8424999713897705, 0.8424000144004822, 0.6690000295639038, 0.5978000164031982, 0.5681999921798706, 0.5619000196456909, 0.5619000196456909, 0.5608000159263611, 0.5582000017166138, 0.5519999861717224, 0.541700005531311, 0.5394999980926514, 0.5388000011444092, 0.5375999808311462, 0.5271000266075134, 0.5250999927520752, 0.522599995136261, 0.5202000141143799, 0.5202000141143799, 0.5199000239372253, 0.519599974155426, 0.5189999938011169, 0.5187000036239624, 0.5178999900817871, 0.516700029373169, 0.5083000063896179, 0.5081999897956848, 0.5067999958992004, 0.5059999823570251, 0.5001999735832214, 0.4790000021457672, 0.3955000042915344, 0.41370001435279846, 0.3677000105381012, 0.3190000057220459, 0.43709999322891235, 0.4417000114917755, 0.3582000136375427, 0.34209999442100525, 0.3434000015258789, 0.37040001153945923, 0.46380001306533813, 0.3237000107765198, 0.35499998927116394, 0.36329999566078186, 0.424699991941452, 0.27129998803138733, 0.2556999921798706, 0.21690000593662262, 0.2775999903678894, 0.1988999992609024, 0.3517000079154968, 0.3614000082015991, 0.2434999942779541, 0.058400001376867294, 0.26570001244544983, 0.08940000087022781, 0.10320000350475311, 0.16660000383853912, 0.04879999905824661, 0.15680000185966492, 0.14390000700950623, 0.05779999867081642, 0.2152000069618225, 0.19679999351501465, 0.2215999960899353, 0.08649999648332596, 0.11289999634027481, 0.0917000025510788, 0.1370999962091446, -0.1160999983549118, -0.06880000233650208, -0.07320000231266022, 0.005799999926239252, 0.065700002014637, -0.00139999995008111, 0.050999999046325684, 0.05920000001788139, 0.01730000041425228, 0.11150000244379044, -0.08399999886751175, 0.0215000007301569, -0.16089999675750732, 0.640999972820282, 0.6396999955177307, 0.6233000159263611, 0.6061999797821045, 0.5771999955177307, 0.5663999915122986, 0.5648000240325928, 0.5623999834060669, 0.5464000105857849, 0.5428000092506409, 0.5400000214576721, 0.5397999882698059, 0.534500002861023, 0.5325999855995178, 0.531499981880188, 0.5311999917030334, 0.5303999781608582, 0.5266000032424927, 0.5256999731063843, 0.5228999853134155, 0.5227000117301941, 0.5199000239372253, 0.5174000263214111, 0.5160999894142151, 0.5149999856948853, 0.5135999917984009, 0.5102999806404114, 0.5076000094413757, 0.5072000026702881, 0.5072000026702881, 0.4936000108718872, 0.4997999966144562, 0.505299985408783, 0.4977000057697296, 0.45579999685287476, 0.4896000027656555, 0.4749000072479248, 0.49889999628067017, 0.34709998965263367, 0.3433000147342682, 0.3718000054359436, 0.4219000041484833, 0.4697999954223633, 0.40619999170303345, 0.38190001249313354, 0.4050000011920929, 0.41359999775886536, 0.2842999994754791, 0.3395000100135803, 0.3456999957561493, 0.3346000015735626, 0.37290000915527344, 0.10490000247955322, 0.2962000072002411, 0.2799000144004822, 0.23510000109672546, 0.2702000141143799, 0.2854999899864197, 0.17479999363422394, 0.13809999823570251, 0.21960000693798065, 0.15060000121593475, 0.013100000098347664, 0.031700000166893005, 0.03680000081658363, 0.1006999984383583, 0.03310000151395798, 0.0024999999441206455, -0.0142000000923872, 0.15139999985694885, -0.07240000367164612, 0.05689999833703041, 0.13210000097751617, 0.02290000021457672, 0.04899999871850014, 0.18649999797344208, -0.004900000058114529, 0.14249999821186066, 0.02449999935925007, 0.019300000742077827, -0.26919999718666077, 0.09059999883174896, -0.0013000000035390258, -0.01979999989271164, 0.07590000331401825, 0.10639999806880951, 0.003000000026077032, -0.09709999710321426, -0.2818000018596649, -0.36910000443458557, -0.22010000050067902, 1.0635000467300415, 0.9142000079154968, 0.8442000150680542, 0.8356000185012817, 0.820900022983551, 0.8094000220298767, 0.7971000075340271, 0.7953000068664551, 0.7875999808311462, 0.786899983882904, 0.7849000096321106, 0.7730000019073486, 0.7692000269889832, 0.7680000066757202, 0.7663000226020813, 0.7627000212669373, 0.7591999769210815, 0.758899986743927, 0.7491999864578247, 0.7448999881744385, 0.7297000288963318, 0.7293000221252441, 0.7261000275611877, 0.7235999703407288, 0.7215999960899353, 0.7185999751091003, 0.7149999737739563, 0.7148000001907349, 0.713699996471405, 0.7128000259399414, 0.6442000269889832, 0.7063999772071838, 0.6597999930381775, 0.6988000273704529, 0.5587000250816345, 0.5889000296592712, 0.536300003528595, 0.635699987411499, 0.447299987077713, 0.4869999885559082, 0.2833999991416931, 0.3723999857902527, 0.2565000057220459, 0.4596000015735626, 0.4934000074863434, 0.44190001487731934, 0.36579999327659607, 0.4821000099182129, -0.01850000023841858, 0.30160000920295715, 0.33239999413490295, 0.3450999855995178, 0.17270000278949738, 0.33719998598098755, 0.1808999925851822, 0.12129999697208405, 0.1673000007867813, 0.4277999997138977, 0.2761000096797943, 0.1858000010251999, 0.2460000067949295, 0.14990000426769257, 0.09669999778270721, 0.15299999713897705, 0.0471000000834465, 0.06400000303983688, 0.1386999934911728, 0.011500000022351742, -0.20399999618530273, 0.15070000290870667, 0.11230000108480453, 0.1589999943971634, 0.017500000074505806, -0.3212999999523163, -0.2353000044822693, -0.35760000348091125, 0.07729999721050262, -0.16820000112056732, -0.3508000075817108, -0.40059998631477356, -0.12359999865293503, -0.0731000006198883, -0.3513000011444092, -0.40560001134872437, -0.01549999974668026, -0.24940000474452972, -0.164000004529953, -0.5270000100135803, -0.4410000145435333, -0.2766000032424927, 0.9659000039100647, 0.9506000280380249, 0.8823999762535095, 0.8774999976158142, 0.8349000215530396, 0.7897999882698059, 0.7850000262260437, 0.7674000263214111, 0.76419997215271, 0.748199999332428, 0.7472000122070312, 0.7439000010490417, 0.7408999800682068, 0.7282000184059143, 0.7268999814987183, 0.725600004196167, 0.7217000126838684, 0.7116000056266785, 0.7113999724388123, 0.7106999754905701, 0.7080000042915344, 0.7078999876976013, 0.7052000164985657, 0.7006000280380249, 0.699400007724762, 0.6917999982833862, 0.6902999877929688, 0.6895999908447266, 0.6869000196456909, 0.6855000257492065, 0.6797999739646912, 0.6699000000953674, 0.6661999821662903, 0.6381999850273132, 0.6528000235557556, 0.6678000092506409, 0.367900013923645, 0.5654000043869019, 0.36660000681877136, 0.42640000581741333, 0.41260001063346863, 0.5117999911308289, 0.413100004196167, 0.3538999855518341, 0.46939998865127563, 0.4058000147342682, 0.34869998693466187, 0.273499995470047, 0.35109999775886536, 0.03739999979734421, 0.15639999508857727, 0.21060000360012054, 0.1386999934911728, 0.2386000007390976, 0.35440000891685486, 0.2248000055551529, 0.2305999994277954, 0.17139999568462372, 0.33869999647140503, 0.4034000039100647, 0.1923000067472458, 0.1898999959230423, -0.06780000030994415, 0.1282999962568283, 0.22540000081062317, 0.04839999973773956, -0.17820000648498535, -0.1467999964952469, 0.012199999764561653, -0.2264000028371811, -0.038600001484155655, 0.12460000067949295, 0.12359999865293503, -0.0737999975681305, -0.3012000024318695, -0.07699999958276749, -0.18610000610351562, -0.01850000023841858, -0.035599999129772186, -0.3865000009536743, -0.1956000030040741, -0.26249998807907104, -0.04349999874830246, -0.2913999855518341, 0.8327000141143799, 0.8003000020980835, 0.7735000252723694, 0.7687000036239624, 0.7631000280380249, 0.7598000168800354, 0.7544000148773193, 0.7537999749183655, 0.7524999976158142, 0.7519000172615051, 0.746999979019165, 0.746399998664856, 0.7379999756813049, 0.7335000038146973, 0.7317000031471252, 0.7305999994277954, 0.7268999814987183, 0.7254999876022339, 0.7243000268936157, 0.7222999930381775, 0.7166000008583069, 0.7093999981880188, 0.708299994468689, 0.7081000208854675, 0.7053999900817871, 0.7003999948501587, 0.6998000144958496, 0.6991999745368958, 0.6987000107765198, 0.6984999775886536, 0.6901999711990356, 0.6905999779701233, 0.6133999824523926, 0.6401000022888184, 0.6037999987602234, 0.49729999899864197, 0.6363000273704529, 0.4417000114917755, 0.4059999883174896, 0.44999998807907104, 0.5425000190734863, 0.3531000018119812, 0.4383000135421753, 0.3971000015735626, 0.1395999938249588, 0.0940999984741211, 0.09350000321865082, 0.28519999980926514, 0.2556999921798706, 0.25209999084472656, 0.2126999944448471, 0.26440000534057617, 0.24040000140666962, 0.15230000019073486, 0.266400009393692, 0.22310000658035278, 0.2079000025987625, 0.16820000112056732, 0.09210000187158585, 0.07779999822378159, 0.06469999998807907, 0.17679999768733978, 0.06419999897480011, -0.275299996137619, -0.024700000882148743, -0.08240000158548355, 0.11919999867677689, -0.15780000388622284, -0.2667999863624573, 0.10279999673366547, 0.045099999755620956, -0.2556999921798706, -0.2264000028371811, -0.06620000302791595, -0.04179999977350235, -0.12300000339746475, -0.1362999975681305, -0.19670000672340393, -0.20080000162124634, -0.10540000349283218, -0.25130000710487366, -0.06279999762773514, -0.29179999232292175, -0.20509999990463257, 0.02930000051856041, -0.33629998564720154, -0.09489999711513519]}, \"token.table\": {\"Topic\": [1, 2, 3, 2, 1, 2, 3, 4, 5, 1, 2, 3, 2, 1, 2, 3, 4, 5, 6, 1, 2, 3, 4, 5, 6, 1, 2, 1, 3, 1, 2, 3, 4, 5, 6, 1, 2, 3, 4, 1, 2, 3, 4, 5, 6, 1, 2, 3, 4, 5, 1, 2, 1, 2, 2, 1, 2, 3, 4, 5, 1, 2, 3, 4, 5, 6, 2, 1, 2, 3, 4, 5, 6, 1, 2, 3, 1, 2, 3, 1, 2, 2, 1, 2, 3, 1, 2, 3, 4, 5, 6, 1, 2, 3, 1, 1, 2, 3, 4, 5, 1, 1, 1, 2, 3, 4, 5, 1, 2, 1, 2, 3, 4, 5, 1, 2, 3, 1, 2, 2, 1, 2, 3, 4, 5, 1, 2, 3, 4, 5, 6, 1, 2, 3, 5, 1, 2, 3, 1, 2, 3, 1, 2, 3, 1, 2, 3, 4, 5, 6, 1, 2, 3, 4, 5, 6, 1, 2, 3, 4, 5, 1, 2, 3, 1, 2, 3, 4, 5, 1, 2, 3, 4, 5, 6, 1, 2, 3, 4, 5, 6, 1, 2, 3, 1, 2, 3, 4, 5, 6, 1, 2, 3, 4, 5, 1, 1, 2, 3, 4, 5, 1, 2, 3, 4, 5, 6, 1, 2, 3, 4, 5, 1, 2, 3, 4, 5, 6, 1, 2, 3, 4, 5, 6, 1, 2, 3, 4, 5, 6, 1, 2, 3, 4, 5, 6, 1, 2, 3, 4, 5, 6, 1, 2, 3, 4, 5, 1, 2, 3, 4, 5, 1, 2, 3, 4, 5, 6, 1, 1, 2, 1, 2, 3, 4, 5, 6, 1, 2, 1, 2, 3, 4, 5, 6, 1, 2, 3, 4, 5, 1, 2, 1, 2, 3, 1, 2, 3, 4, 5, 6, 1, 2, 1, 2, 3, 1, 2, 3, 4, 5, 6, 1, 2, 3, 4, 5, 6, 1, 2, 3, 4, 5, 6, 1, 2, 3, 4, 5, 1, 2, 3, 1, 2, 3, 4, 5, 1, 2, 3, 4, 5, 1, 2, 3, 4, 5, 6, 1, 2, 1, 2, 3, 4, 5, 6, 1, 2, 3, 4, 5, 1, 2, 1, 2, 1, 2, 3, 4, 5, 6, 2, 1, 2, 3, 4, 5, 6, 1, 2, 3, 4, 5, 1, 2, 3, 4, 5, 6, 1, 2, 3, 4, 5, 2, 1, 2, 3, 4, 5, 6, 1, 2, 3, 5, 1, 2, 3, 4, 5, 6, 1, 2, 1, 2, 3, 1, 2, 3, 4, 5, 6, 1, 2, 3, 4, 5, 1, 2, 3, 4, 5, 1, 2, 3, 4, 5, 6, 1, 2, 3, 4, 5, 2, 1, 1, 2, 3, 4, 5, 6, 1, 2, 3, 4, 5, 6, 1, 2, 3, 1, 2, 3, 4, 5, 1, 2, 3, 4, 1, 1, 2, 3, 4, 1, 2, 3, 1, 2, 3, 4, 5, 6, 1, 2, 3, 4, 5, 6, 1, 2, 3, 4, 5, 6, 1, 2, 3, 4, 5, 6, 1, 1, 2, 3, 1, 2, 3, 4, 5, 6, 1, 2, 3, 4, 5, 6, 1, 1, 2, 3, 1, 2, 3, 4, 5, 1, 1, 2, 3, 1, 2, 3, 4, 5, 1, 1, 2, 3, 2, 1, 2, 3, 4, 5, 1, 2, 3, 4, 5, 6, 1, 2, 2, 1, 2, 1, 2, 3, 4, 5, 1, 2, 3, 1, 1, 2, 3, 1, 2, 3, 4, 1, 2, 1, 2, 3, 4, 5, 6, 1, 2, 3, 4, 5, 6, 1, 2, 3, 4, 5, 6, 1, 2, 3, 1, 2, 3, 1, 2, 3, 4, 5, 6, 2, 1, 2, 3, 4, 5, 6, 1, 2, 3, 4, 5, 6, 1, 2, 3, 4, 5, 6, 1, 2, 3, 4, 5, 6, 1, 2, 3, 4, 5, 1, 2, 3, 4, 5, 6, 1, 2, 3, 1, 2, 3, 4, 5, 6, 1, 2, 3, 4, 5, 1, 2, 3, 4, 5, 6, 1, 2, 3, 4, 5, 6, 1, 2, 3, 4, 5, 6, 1, 2, 3, 1, 2, 3, 4, 5, 1, 2, 3, 4, 5, 6, 1, 2, 3, 4, 1, 2, 3, 4, 5, 6, 1, 2, 3, 1, 2, 3, 4, 5, 6, 1, 2, 3, 4, 5, 6, 1, 2, 3, 4, 5, 6, 2, 1, 2, 3, 4, 5, 6, 1, 2, 3, 4, 5, 6, 1, 2, 3, 4, 5, 6, 1, 2, 3, 4, 5, 6, 1, 2, 2, 1, 2, 3, 4, 5, 6, 1, 2, 3, 4, 5, 6, 1, 2, 3, 4, 5, 6, 1, 2, 1, 2, 3, 4, 5, 6, 2, 1, 2, 3, 4, 5, 6, 1, 2, 3, 4, 5, 6, 1, 2, 3, 4, 5, 6, 2, 1, 2, 3, 4, 5, 1, 2, 3, 4, 5, 6, 1, 2, 3, 4, 5, 6, 1, 2, 3, 4, 5, 6, 1, 2, 3, 4, 5, 6, 1, 2, 1, 2, 3, 4, 5, 6, 1, 2, 3, 4, 5, 1, 2, 3, 4, 5, 6, 1, 2, 3, 1, 2, 3, 4, 5, 1, 2, 3, 4, 5, 1, 2, 3, 4, 5, 6, 1, 1, 2, 3, 4, 5, 6, 1, 2, 3, 4, 5, 6, 1, 2, 3, 4, 5, 6, 1, 2, 3, 1, 2, 3, 4, 5, 6, 1, 2, 3, 4, 5, 6, 1, 2, 3, 4, 5, 6, 2, 1, 2, 1, 1, 2, 3, 4, 5, 6, 1, 2, 3, 4, 5, 6, 1, 2, 3, 4, 5, 6, 1, 2, 3, 4, 5, 6, 1, 2, 1, 2, 3, 4, 5, 6, 1, 2, 3, 4, 5, 6, 1, 2, 1, 2, 3, 1, 2, 3, 4, 5, 2, 1, 2, 1, 2, 3, 4, 5, 1, 2, 3, 4, 5, 6, 1, 2, 1, 2, 3, 4, 5, 6, 1, 2, 3, 4, 5, 1, 2, 3, 4, 5, 6, 1, 2, 3, 4, 5, 6, 1, 2, 3, 1, 1, 2, 3, 4, 5, 6, 2, 1, 2, 3, 4, 5, 6, 1, 2, 3, 4, 5, 6, 1, 2, 1, 2, 1, 2, 1, 2, 3, 4, 5, 6, 1, 2, 3, 4, 5, 6, 1, 2, 3, 4, 5, 6, 1, 1, 1, 2, 3, 4, 5, 6, 1, 2, 3, 4, 5, 1, 2, 3, 4, 5, 1, 2, 3, 1, 2, 3, 4, 5, 6, 1, 2, 1, 2, 3, 5, 1, 2, 3, 4, 5, 6, 1, 2, 3, 1, 2, 3, 4, 5, 6, 1, 2, 1, 1, 2, 3, 4, 5, 6, 1, 2, 3, 1, 1, 2, 3, 4, 5, 1, 2, 2, 3, 1, 2, 3, 4, 5, 1, 2, 3, 4, 5, 1, 2, 3, 4, 5, 6, 1, 2, 3, 4, 5, 6, 1, 1, 2, 3, 4, 5, 6, 1, 1, 2, 3, 4, 5, 1, 2, 3, 4, 5, 6, 1, 2, 3, 4, 5, 6, 1, 2, 3, 4, 5, 6, 1, 2, 3, 4, 5, 6, 2, 1, 2, 3, 4, 5, 1, 2, 1, 1, 2, 3, 4, 5, 6, 1, 2, 3, 4, 5, 1, 2, 3, 4, 5, 6, 1, 2, 3, 4, 5, 6, 1, 2, 3, 4, 5, 6, 1, 2, 3, 4, 5, 6, 1, 2, 3, 4, 5, 6, 1, 2, 3, 4, 5, 2, 1, 2, 3, 4, 5, 6, 1, 2, 3, 4, 5, 6, 2, 1, 2, 3, 4, 5, 6, 1, 2, 1, 2, 3, 1, 2, 3, 4, 5, 6, 1, 2, 3, 1, 2, 1, 2, 3, 4, 5, 6, 1, 1, 2, 3, 4, 5, 6, 1, 2, 3, 4, 5, 6, 1, 2, 1, 2, 3, 4, 5, 6, 1, 2, 3, 4, 5, 1, 2, 3, 4, 5, 6, 1, 2, 3, 4, 1, 2, 3, 1, 2, 3, 4, 5, 6, 1, 2, 3, 4, 5, 6], \"Freq\": [0.2688010036945343, 0.2688010036945343, 0.2688010036945343, 0.5881648063659668, 0.34492847323417664, 0.28744038939476013, 0.22995232045650482, 0.057488080114126205, 0.057488080114126205, 0.44140931963920593, 0.44140931963920593, 0.44140931963920593, 0.6850619316101074, 0.37795326113700867, 0.3037124276161194, 0.16197995841503143, 0.08773914724588394, 0.04724415764212608, 0.013498330488801003, 0.3151004910469055, 0.3585626184940338, 0.1629830151796341, 0.1032225713133812, 0.04889490082859993, 0.010865533724427223, 0.3808210492134094, 0.3808210492134094, 0.4799981415271759, 0.4799981415271759, 0.41329386830329895, 0.3099704086780548, 0.12054404616355896, 0.08610288798809052, 0.06027202308177948, 0.008610288612544537, 0.29834479093551636, 0.5221033692359924, 0.07458619773387909, 0.07458619773387909, 0.4119659662246704, 0.2544495761394501, 0.19386634230613708, 0.08481652289628983, 0.04846658557653427, 0.012116646394133568, 0.35929957032203674, 0.2794552147388458, 0.15968869626522064, 0.11976651847362518, 0.07984434813261032, 0.47765979170799255, 0.47765979170799255, 0.4539697468280792, 0.4539697468280792, 0.5837605595588684, 0.41857078671455383, 0.2511424720287323, 0.16742831468582153, 0.08371415734291077, 0.08371415734291077, 0.3299407660961151, 0.41548097133636475, 0.12220028042793274, 0.08554019778966904, 0.036660086363554, 0.012220028787851334, 0.499755859375, 0.3132627606391907, 0.3356386721134186, 0.21630047261714935, 0.07458636909723282, 0.05221045762300491, 0.007458637002855539, 0.36832451820373535, 0.36832451820373535, 0.36832451820373535, 0.3946584463119507, 0.19732922315597534, 0.19732922315597534, 0.6402695178985596, 0.21342317759990692, 0.5955432057380676, 0.44105321168899536, 0.44105321168899536, 0.44105321168899536, 0.3880403935909271, 0.2716282606124878, 0.15521615743637085, 0.09701009839773178, 0.05820605903863907, 0.019402019679546356, 0.358889102935791, 0.358889102935791, 0.358889102935791, 0.6522222757339478, 0.3518534302711487, 0.2932111918926239, 0.17592671513557434, 0.11728447675704956, 0.11728447675704956, 0.7384045124053955, 0.5771567225456238, 0.40623897314071655, 0.27082598209381104, 0.13541299104690552, 0.13541299104690552, 0.13541299104690552, 0.5766858458518982, 0.2883429229259491, 0.5089030861854553, 0.25445154309272766, 0.12722577154636383, 0.06361288577318192, 0.06361288577318192, 0.3233432471752167, 0.3233432471752167, 0.3233432471752167, 0.7365887761116028, 0.3682943880558014, 0.5815122723579407, 0.2648443877696991, 0.35312584042549133, 0.2648443877696991, 0.08828146010637283, 0.04414073005318642, 0.365357369184494, 0.40189310908317566, 0.11874113976955414, 0.06393753737211227, 0.03653573617339134, 0.009133934043347836, 0.27360299229621887, 0.5472059845924377, 0.09120099991559982, 0.09120099991559982, 0.2816275954246521, 0.2816275954246521, 0.2816275954246521, 0.5756453275680542, 0.19188179075717926, 0.19188179075717926, 0.33153021335601807, 0.33153021335601807, 0.33153021335601807, 0.38866665959358215, 0.3994629383087158, 0.07557407021522522, 0.04318518564105034, 0.07917283475399017, 0.010796296410262585, 0.3122657835483551, 0.3122657835483551, 0.2271023839712143, 0.056775595992803574, 0.056775595992803574, 0.028387797996401787, 0.34008103609085083, 0.34008103609085083, 0.17004051804542542, 0.08502025902271271, 0.08502025902271271, 0.43944764137268066, 0.2929651141166687, 0.2929651141166687, 0.3150615692138672, 0.21004103124141693, 0.3150615692138672, 0.10502051562070847, 0.10502051562070847, 0.3141760528087616, 0.2792676091194153, 0.22690492868423462, 0.08727112412452698, 0.08727112412452698, 0.017454225569963455, 0.4378346800804138, 0.2891361117362976, 0.16522063314914703, 0.05782722309231758, 0.04130515828728676, 0.008261031471192837, 0.32143035531044006, 0.32143035531044006, 0.32143035531044006, 0.5112737417221069, 0.24143482744693756, 0.12781843543052673, 0.07101024687290192, 0.04260614514350891, 0.014202049002051353, 0.41589924693107605, 0.2970708906650543, 0.11882835626602173, 0.11882835626602173, 0.059414178133010864, 0.5800485014915466, 0.38380342721939087, 0.311840295791626, 0.11993856728076935, 0.09595085680484772, 0.07196313887834549, 0.4673974812030792, 0.28762921690940857, 0.13183005154132843, 0.04793820157647133, 0.04793820157647133, 0.011984550394117832, 0.2572137117385864, 0.34295159578323364, 0.2572137117385864, 0.08573789894580841, 0.08573789894580841, 0.33635658025741577, 0.3683905303478241, 0.17618678510189056, 0.06406792253255844, 0.04805094003677368, 0.01601698063313961, 0.3568250834941864, 0.33380410075187683, 0.12661534547805786, 0.0920838862657547, 0.08057340234518051, 0.011510485783219337, 0.3758741021156311, 0.23130714893341064, 0.17348036170005798, 0.14456696808338165, 0.05782678723335266, 0.02891339361667633, 0.3867652118206024, 0.39694324135780334, 0.111958347260952, 0.04071212559938431, 0.06106818839907646, 0.010178031399846077, 0.3778012692928314, 0.3573795557022095, 0.15316267311573029, 0.051054224371910095, 0.040843378752470016, 0.010210844688117504, 0.29253825545310974, 0.29253825545310974, 0.25074708461761475, 0.08358236402273178, 0.08358236402273178, 0.3645624816417694, 0.27342185378074646, 0.1822812408208847, 0.09114062041044235, 0.09114062041044235, 0.3083331286907196, 0.2877775728702545, 0.20555540919303894, 0.10277770459651947, 0.08222216367721558, 0.020555540919303894, 0.6576839089393616, 0.2240685671567917, 0.6722056865692139, 0.4475236237049103, 0.28343161940574646, 0.14171580970287323, 0.07458727061748505, 0.04475236311554909, 0.00745872687548399, 0.3440680503845215, 0.3440680503845215, 0.3378511667251587, 0.3162861764431, 0.1725197434425354, 0.0862598717212677, 0.07188322395086288, 0.014376644976437092, 0.268771767616272, 0.47035062313079834, 0.15678353607654572, 0.067192941904068, 0.04479529708623886, 0.48223116993904114, 0.48223116993904114, 0.3449501395225525, 0.3449501395225525, 0.17247506976127625, 0.3651212155818939, 0.3561428189277649, 0.16759662330150604, 0.05985593423247337, 0.03890635818243027, 0.014963983558118343, 0.5915789008140564, 0.2957894504070282, 0.5932256579399109, 0.29661282896995544, 0.29661282896995544, 0.36204561591148376, 0.37210243940353394, 0.13073869049549103, 0.06536934524774551, 0.05531252548098564, 0.010056822560727596, 0.28709158301353455, 0.3777520954608917, 0.16621091961860657, 0.09066050499677658, 0.06044033542275429, 0.015110083855688572, 0.3316784203052521, 0.34549835324287415, 0.1381993442773819, 0.11055947095155716, 0.06909967213869095, 0.013819933868944645, 0.29732128977775574, 0.4162498116493225, 0.11892852187156677, 0.059464260935783386, 0.11892852187156677, 0.39292195439338684, 0.19646097719669342, 0.19646097719669342, 0.30434951186180115, 0.4565242826938629, 0.10144983977079391, 0.07608737796545029, 0.05072491988539696, 0.33915403485298157, 0.27132323384284973, 0.2034924328327179, 0.06783080846071243, 0.13566161692142487, 0.3866943418979645, 0.2938877046108246, 0.17014551162719727, 0.09280664473772049, 0.046403322368860245, 0.015467774122953415, 0.2935353219509125, 0.587070643901825, 0.4082842469215393, 0.32410192489624023, 0.1641555279493332, 0.05050939321517944, 0.04630027711391449, 0.008418232202529907, 0.49549129605293274, 0.2725202143192291, 0.12387282401323318, 0.049549128860235214, 0.049549128860235214, 0.46816036105155945, 0.46816036105155945, 0.47919487953186035, 0.47919487953186035, 0.3852713704109192, 0.33684930205345154, 0.16421402990818024, 0.054738011211156845, 0.04421146959066391, 0.014737156219780445, 0.5820947289466858, 0.5024846196174622, 0.2009938359260559, 0.15074537694454193, 0.08374743163585663, 0.05024845898151398, 0.016749486327171326, 0.5029440522193909, 0.2794133722782135, 0.11176534742116928, 0.05588267371058464, 0.05588267371058464, 0.38589996099472046, 0.2756428122520447, 0.18042075634002686, 0.08018700033426285, 0.07016362994909286, 0.010023375041782856, 0.38225680589675903, 0.24325433373451233, 0.17375309765338898, 0.10425185412168503, 0.06950123608112335, 0.5943222045898438, 0.25374001264572144, 0.48633503913879395, 0.12687000632286072, 0.08458001166582108, 0.04229000583291054, 0.02114500291645527, 0.40717002749443054, 0.20358501374721527, 0.20358501374721527, 0.20358501374721527, 0.301279753446579, 0.301279753446579, 0.210895836353302, 0.09038392454385757, 0.07531993836164474, 0.015063988044857979, 0.5782442092895508, 0.586357593536377, 0.2774285078048706, 0.2774285078048706, 0.2774285078048706, 0.45112279057502747, 0.2907235622406006, 0.14034931361675262, 0.06014970317482948, 0.05012475326657295, 0.010024950839579105, 0.5121689438819885, 0.23638565838336945, 0.11819282919168472, 0.03939761221408844, 0.03939761221408844, 0.37910816073417664, 0.18955408036708832, 0.2843311131000519, 0.09477704018354416, 0.09477704018354416, 0.4006967842578888, 0.3064152002334595, 0.18070639669895172, 0.05499760061502457, 0.04714079946279526, 0.01571360044181347, 0.5076955556869507, 0.2389155477285385, 0.11945777386426926, 0.08959333598613739, 0.05972888693213463, 0.5886111855506897, 0.6545789837837219, 0.48244449496269226, 0.25774431228637695, 0.13878540694713593, 0.06608828902244568, 0.052870627492666245, 0.0066088284365832806, 0.3577326536178589, 0.3660520315170288, 0.14142918586730957, 0.05823554843664169, 0.049916185438632965, 0.016638727858662605, 0.43249040842056274, 0.43249040842056274, 0.43249040842056274, 0.4739029109477997, 0.23695145547389984, 0.07898382097482681, 0.07898382097482681, 0.07898382097482681, 0.26919394731521606, 0.26919394731521606, 0.26919394731521606, 0.26919394731521606, 0.7141829133033752, 0.5708198547363281, 0.14270496368408203, 0.14270496368408203, 0.14270496368408203, 0.3219137489795685, 0.3219137489795685, 0.3219137489795685, 0.4035766124725342, 0.29962506890296936, 0.1681569218635559, 0.05197577551007271, 0.06420537084341049, 0.009172195568680763, 0.34299299120903015, 0.277660995721817, 0.22866198420524597, 0.08166499435901642, 0.04899899661540985, 0.016332998871803284, 0.3958534002304077, 0.2932247519493103, 0.17104777693748474, 0.07819326967000961, 0.05375786870718002, 0.009774158708751202, 0.4530782997608185, 0.2668817341327667, 0.16137035191059113, 0.05585896596312523, 0.05585896596312523, 0.006206552032381296, 0.6520472168922424, 0.17455892264842987, 0.34911784529685974, 0.17455892264842987, 0.4741062521934509, 0.23705312609672546, 0.15803541243076324, 0.09030595421791077, 0.04515297710895538, 0.011288244277238846, 0.4992072582244873, 0.27733737230300903, 0.11093495041131973, 0.055467475205659866, 0.055467475205659866, 0.013866868801414967, 0.5806677341461182, 0.5793411731719971, 0.19311371445655823, 0.19311371445655823, 0.31596437096595764, 0.31596437096595764, 0.2527714967727661, 0.06319287419319153, 0.06319287419319153, 0.6779933571815491, 0.4234016239643097, 0.4234016239643097, 0.4234016239643097, 0.22087807953357697, 0.5153821706771851, 0.14725205302238464, 0.07362602651119232, 0.07362602651119232, 0.7017831206321716, 0.5715309977531433, 0.28576549887657166, 0.28576549887657166, 0.5636813044548035, 0.31319350004196167, 0.2684515714645386, 0.2684515714645386, 0.0894838497042656, 0.0447419248521328, 0.5012561082839966, 0.27569085359573364, 0.11278261989355087, 0.0501256100833416, 0.0501256100833416, 0.0125314025208354, 0.7485707998275757, 0.37428539991378784, 0.6072794198989868, 0.38236936926841736, 0.38236936926841736, 0.3751193583011627, 0.2764037549495697, 0.21717438101768494, 0.059229373931884766, 0.039486248046159744, 0.3373253345489502, 0.3373253345489502, 0.3373253345489502, 0.5797367095947266, 0.32786616683006287, 0.32786616683006287, 0.32786616683006287, 0.33219313621520996, 0.33219313621520996, 0.16609656810760498, 0.16609656810760498, 0.5429853796958923, 0.27149268984794617, 0.43558835983276367, 0.28699982166290283, 0.15062402188777924, 0.06106378883123398, 0.05088649317622185, 0.014248217456042767, 0.28881072998046875, 0.4235890805721283, 0.14761437475681305, 0.0770161971449852, 0.0513441301882267, 0.012836032547056675, 0.33774808049201965, 0.3408278524875641, 0.1806798279285431, 0.07494106143712997, 0.05748903378844261, 0.009239309467375278, 0.674288272857666, 0.22476275265216827, 0.22476275265216827, 0.2540983259677887, 0.2540983259677887, 0.2540983259677887, 0.33401086926460266, 0.37930047512054443, 0.14719122648239136, 0.09057921916246414, 0.03962840884923935, 0.005661201197654009, 0.5948048233985901, 0.31907111406326294, 0.44258251786231995, 0.123511403799057, 0.07204832136631012, 0.03087785094976425, 0.010292616672813892, 0.3174951672554016, 0.4185163378715515, 0.11545278131961823, 0.1010211855173111, 0.043294794857501984, 0.014431597664952278, 0.2787691056728363, 0.34634947776794434, 0.2280838042497635, 0.06758038699626923, 0.059132836759090424, 0.016895096749067307, 0.36118608713150024, 0.2974473834037781, 0.19121617078781128, 0.07436184585094452, 0.0531156025826931, 0.02124624140560627, 0.34878411889076233, 0.29065343737602234, 0.17439205944538116, 0.11626137793064117, 0.05813068896532059, 0.28255587816238403, 0.4665457606315613, 0.11827921122312546, 0.05913960561156273, 0.06571067124605179, 0.006571067031472921, 0.2720893323421478, 0.2720893323421478, 0.2720893323421478, 0.3562043607234955, 0.3562043607234955, 0.1507018506526947, 0.06850083917379379, 0.054800670593976974, 0.006850083824247122, 0.37452733516693115, 0.2496848851442337, 0.12484244257211685, 0.12484244257211685, 0.062421221286058426, 0.3619944453239441, 0.23423169553279877, 0.1916441172361374, 0.10646895319223404, 0.06388137489557266, 0.021293791010975838, 0.3268638551235199, 0.3137893080711365, 0.20919287204742432, 0.0653727725148201, 0.05229821801185608, 0.01307455450296402, 0.37618309259414673, 0.3224426507949829, 0.16122132539749146, 0.08061066269874573, 0.05374044179916382, 0.008956740610301495, 0.1926988810300827, 0.3853977620601654, 0.1926988810300827, 0.26918041706085205, 0.48452478647232056, 0.10767216980457306, 0.05383608490228653, 0.05383608490228653, 0.45820578932762146, 0.26405078172683716, 0.14755779504776, 0.06212959811091423, 0.054363396018743515, 0.007766199763864279, 0.24569329619407654, 0.24569329619407654, 0.24569329619407654, 0.24569329619407654, 0.3264923393726349, 0.29681122303009033, 0.1929273009300232, 0.10388392955064774, 0.07420280575752258, 0.014840560965240002, 0.1869669109582901, 0.3739338219165802, 0.1869669109582901, 0.31783434748649597, 0.4523027241230011, 0.1222439780831337, 0.04889759048819542, 0.03667319566011429, 0.012224397622048855, 0.3368178606033325, 0.3087497055530548, 0.16840893030166626, 0.11227262020111084, 0.05613631010055542, 0.02806815505027771, 0.2994551658630371, 0.4556926488876343, 0.10415831953287125, 0.06509894877672195, 0.06509894877672195, 0.013019789941608906, 0.5696773529052734, 0.35605353116989136, 0.41640159487724304, 0.1146613135933876, 0.05431325361132622, 0.04827844724059105, 0.012069611810147762, 0.3757326900959015, 0.287324994802475, 0.19891731441020966, 0.06630577147006989, 0.05525480955839157, 0.011050961911678314, 0.5007597804069519, 0.22255991399288177, 0.13909994065761566, 0.055639978498220444, 0.055639978498220444, 0.013909994624555111, 0.3680548071861267, 0.334595263004303, 0.14499129354953766, 0.0892254039645195, 0.05576587840914726, 0.011153175495564938, 0.6724665760993958, 0.6724665760993958, 0.5808561444282532, 0.3490431606769562, 0.3436732590198517, 0.16646674275398254, 0.06443873792886734, 0.06443873792886734, 0.016109684482216835, 0.3869868814945221, 0.3279549777507782, 0.131182000041008, 0.0918274000287056, 0.0524728000164032, 0.0065591000020504, 0.34598302841186523, 0.37344199419021606, 0.18672099709510803, 0.043934352695941925, 0.032950762659311295, 0.010983588173985481, 0.28416353464126587, 0.5683270692825317, 0.3832355737686157, 0.35167497396469116, 0.1217336505651474, 0.08566442131996155, 0.045086536556482315, 0.009017307311296463, 0.5758933424949646, 0.3484686613082886, 0.31362178921699524, 0.13938745856285095, 0.08711716532707214, 0.08711716532707214, 0.01742343232035637, 0.3895109295845032, 0.2921332120895386, 0.1947554647922516, 0.06491848826408386, 0.05193478986620903, 0.012983697466552258, 0.4690316319465637, 0.276608407497406, 0.12026452273130417, 0.07215871661901474, 0.060132261365652084, 0.012026452459394932, 0.5919234752655029, 0.27113693952560425, 0.4518949091434479, 0.1506316363811493, 0.060252655297517776, 0.060252655297517776, 0.38064318895339966, 0.3931918740272522, 0.11293809115886688, 0.06274338066577911, 0.04182892292737961, 0.008365784771740437, 0.31368327140808105, 0.31368327140808105, 0.2091221809387207, 0.08847476541996002, 0.07238844782114029, 0.01608632132411003, 0.3683546781539917, 0.3260844945907593, 0.14492642879486084, 0.09661762416362762, 0.04830881208181381, 0.012077203020453453, 0.3874722421169281, 0.3200857639312744, 0.1431962549686432, 0.06738647818565369, 0.05896316468715668, 0.01684661954641342, 0.343071311712265, 0.343071311712265, 0.4053786098957062, 0.3191278576850891, 0.1552513837814331, 0.06900061666965485, 0.04312538355588913, 0.01725015416741371, 0.28006765246391296, 0.4524169862270355, 0.12926200032234192, 0.06463100016117096, 0.04308733344078064, 0.43052127957344055, 0.28915607929229736, 0.14779089391231537, 0.06425690650939941, 0.05140552669763565, 0.012851381674408913, 0.464832603931427, 0.464832603931427, 0.464832603931427, 0.31905198097229004, 0.31905198097229004, 0.21270132064819336, 0.10635066032409668, 0.10635066032409668, 0.32594388723373413, 0.32594388723373413, 0.253511905670166, 0.03621598705649376, 0.07243197411298752, 0.2831019163131714, 0.42008671164512634, 0.17351406812667847, 0.05479391664266586, 0.05479391664266586, 0.009132319130003452, 0.571536123752594, 0.3402803838253021, 0.35687944293022156, 0.14939139783382416, 0.0829952210187912, 0.05809665471315384, 0.01659904420375824, 0.42580315470695496, 0.18248705565929413, 0.21290157735347748, 0.09124352782964706, 0.06082902103662491, 0.015207255259156227, 0.4635024070739746, 0.3090015947818756, 0.10905938595533371, 0.06361797451972961, 0.036353129893541336, 0.018176564946770668, 0.3097444474697113, 0.5162407159805298, 0.10324814915657043, 0.409330815076828, 0.2631412446498871, 0.17542749643325806, 0.06578531116247177, 0.07309479266405106, 0.014618958346545696, 0.46841078996658325, 0.2479821741580963, 0.1790982335805893, 0.055107150226831436, 0.027553575113415718, 0.013776787556707859, 0.4323069155216217, 0.29928940534591675, 0.16371385753154755, 0.05371861159801483, 0.04092846438288689, 0.010232116095721722, 0.5798673629760742, 0.48359087109565735, 0.48359087109565735, 0.7038858532905579, 0.45313623547554016, 0.22656811773777008, 0.17507535219192505, 0.07208985090255737, 0.05149275064468384, 0.010298550128936768, 0.41141805052757263, 0.2654309868812561, 0.185801699757576, 0.07962929457426071, 0.039814647287130356, 0.013271549716591835, 0.40453097224235535, 0.3390921354293823, 0.14277563989162445, 0.05354086682200432, 0.04759187996387482, 0.005948984995484352, 0.3404461443424225, 0.3404461443424225, 0.15806429088115692, 0.08511153608560562, 0.0729527473449707, 0.012158791534602642, 0.47182372212409973, 0.23591186106204987, 0.371628999710083, 0.30969083309173584, 0.15484541654586792, 0.09290724992752075, 0.06193816661834717, 0.030969083309173584, 0.3993038237094879, 0.2852170169353485, 0.20915913581848145, 0.038028933107852936, 0.038028933107852936, 0.019014466553926468, 0.4564417004585266, 0.4564417004585266, 0.4533800482749939, 0.4533800482749939, 0.4533800482749939, 0.3310297429561615, 0.3310297429561615, 0.14712433516979218, 0.11034324765205383, 0.07356216758489609, 0.5899468064308167, 0.4699803590774536, 0.4699803590774536, 0.282262921333313, 0.32258620858192444, 0.20161637663841248, 0.12096983194351196, 0.040323276072740555, 0.39351269602775574, 0.38495805859565735, 0.11121010780334473, 0.051327742636203766, 0.04277311637997627, 0.01710924692451954, 0.4846528470516205, 0.4846528470516205, 0.3600250780582428, 0.3497386574745178, 0.15943968296051025, 0.05657537281513214, 0.05657537281513214, 0.015429646708071232, 0.3030577600002289, 0.3030577600002289, 0.21646982431411743, 0.08658792823553085, 0.08658792823553085, 0.39029642939567566, 0.3122371435165405, 0.13660374283790588, 0.05854446440935135, 0.07805928587913513, 0.019514821469783783, 0.39784520864486694, 0.3751111924648285, 0.10230305045843124, 0.056835029274225235, 0.04546802490949631, 0.011367006227374077, 0.2701035141944885, 0.2701035141944885, 0.2701035141944885, 0.5806419849395752, 0.3977745771408081, 0.32016003131866455, 0.14552728831768036, 0.0873163715004921, 0.04850909486413002, 0.009701819159090519, 0.5888348817825317, 0.3779991567134857, 0.26345396041870117, 0.1832723170518875, 0.11454520374536514, 0.04581807926297188, 0.01145451981574297, 0.49831247329711914, 0.26048150658607483, 0.13590340316295624, 0.045301131904125214, 0.056626416742801666, 0.011325282976031303, 0.45794183015823364, 0.45794183015823364, 0.4854294955730438, 0.4854294955730438, 0.7476531267166138, 0.3738265633583069, 0.3417816460132599, 0.3917984664440155, 0.15005047619342804, 0.058352962136268616, 0.050016824156045914, 0.008336137980222702, 0.49072131514549255, 0.2711881101131439, 0.11622346937656403, 0.06456859409809113, 0.0516548752784729, 0.012913718819618225, 0.3789651095867157, 0.27369701862335205, 0.23158979415893555, 0.06316085159778595, 0.0421072356402874, 0.0210536178201437, 0.593025267124176, 0.5675792694091797, 0.3240116238594055, 0.441834032535553, 0.12413432449102402, 0.052599288523197174, 0.04628737270832062, 0.01051985751837492, 0.3491140305995941, 0.36748844385147095, 0.11024653166532516, 0.11024653166532516, 0.05512326583266258, 0.2852685749530792, 0.46356144547462463, 0.1426342874765396, 0.0713171437382698, 0.0356585718691349, 0.4311946928501129, 0.4311946928501129, 0.4311946928501129, 0.3863355219364166, 0.30280351638793945, 0.16706401109695435, 0.09397350251674652, 0.05220750346779823, 0.010441500693559647, 0.38504302501678467, 0.38504302501678467, 0.3636663258075714, 0.3636663258075714, 0.1212221160531044, 0.1212221160531044, 0.3597375750541687, 0.3507441282272339, 0.13490158319473267, 0.07194751501083374, 0.06295407563447952, 0.008993439376354218, 0.46511924266815186, 0.23255962133407593, 0.23255962133407593, 0.4898953139781952, 0.28718000650405884, 0.11825059354305267, 0.05067882686853409, 0.03378588333725929, 0.016892941668629646, 0.7457208633422852, 0.3728604316711426, 0.5874269008636475, 0.28786253929138184, 0.45796310901641846, 0.14393126964569092, 0.05233864113688469, 0.03925397992134094, 0.013084660284221172, 0.2486349195241928, 0.3729523718357086, 0.2486349195241928, 0.6886810660362244, 0.24471847712993622, 0.5710097551345825, 0.16314564645290375, 0.08157282322645187, 0.08157282322645187, 0.3936108350753784, 0.3936108350753784, 0.43344390392303467, 0.43344390392303467, 0.2664973735809326, 0.38071051239967346, 0.22842632234096527, 0.07614210247993469, 0.038071051239967346, 0.5273860096931458, 0.23439377546310425, 0.11719688773155212, 0.05859844386577606, 0.05859844386577606, 0.3669354319572449, 0.2896858751773834, 0.11587434262037277, 0.13518673181533813, 0.07724956423044205, 0.019312391057610512, 0.4136984348297119, 0.2757989466190338, 0.19152705371379852, 0.07661081850528717, 0.038305409252643585, 0.007661082316190004, 0.5804753303527832, 0.35972878336906433, 0.3663904070854187, 0.13323287665843964, 0.07327808439731598, 0.053293149918317795, 0.013323287479579449, 0.6431518793106079, 0.3065217137336731, 0.24521738290786743, 0.18391303718090057, 0.06130434572696686, 0.12260869145393372, 0.379263311624527, 0.35027503967285156, 0.15943554043769836, 0.05072948709130287, 0.048313796520233154, 0.009662759490311146, 0.3415062427520752, 0.266541451215744, 0.23322376608848572, 0.07496478408575058, 0.07496478408575058, 0.008329420350492, 0.5380074977874756, 0.23672330379486084, 0.09684135019779205, 0.05380075052380562, 0.05380075052380562, 0.010760149918496609, 0.3541417717933655, 0.3738163113594055, 0.11804725229740143, 0.059023626148700714, 0.07869817316532135, 0.019674543291330338, 0.4997809827327728, 0.5264800786972046, 0.2632400393486023, 0.11281716078519821, 0.03760572150349617, 0.03760572150349617, 0.3835916817188263, 0.3835916817188263, 0.6639262437820435, 0.3908115029335022, 0.26739734411239624, 0.1645522117614746, 0.10284513235092163, 0.06170707941055298, 0.020569026470184326, 0.37846681475639343, 0.2102593332529068, 0.2102593332529068, 0.12615559995174408, 0.04205186665058136, 0.3752717673778534, 0.34063130617141724, 0.12124164402484894, 0.06928093731403351, 0.08082776516675949, 0.01154682319611311, 0.38828006386756897, 0.26302841305732727, 0.18787744641304016, 0.08767614513635635, 0.0501006543636322, 0.01252516359090805, 0.3284350037574768, 0.3789634704589844, 0.1600067913532257, 0.09263551235198975, 0.03368563950061798, 0.008421409875154495, 0.2832624018192291, 0.47936710715293884, 0.10894706845283508, 0.06536824256181717, 0.05447353422641754, 0.010894707404077053, 0.3317795693874359, 0.3465253412723541, 0.18432198464870453, 0.07372879236936569, 0.044237278401851654, 0.014745758846402168, 0.43977370858192444, 0.2638642191886902, 0.17590947449207306, 0.08795473724603653, 0.08795473724603653, 0.5644274353981018, 0.40506961941719055, 0.3086244761943817, 0.11573417484760284, 0.07715611904859543, 0.07715611904859543, 0.019289029762148857, 0.33862441778182983, 0.4099137485027313, 0.13366752862930298, 0.07128934562206268, 0.03564467281103134, 0.008911168202757835, 0.5868788361549377, 0.3326641917228699, 0.3414185047149658, 0.18384073674678802, 0.052525922656059265, 0.07003456354141235, 0.008754320442676544, 0.4750840663909912, 0.4750840663909912, 0.3649599552154541, 0.3649599552154541, 0.18247997760772705, 0.3656926155090332, 0.3405686914920807, 0.1674927920103073, 0.050247836858034134, 0.06420557200908661, 0.011166186071932316, 0.5619271397590637, 0.22477084398269653, 0.11238542199134827, 0.2874199151992798, 0.5748398303985596, 0.3742397725582123, 0.3161680996417999, 0.18711988627910614, 0.058071691542863846, 0.0516192801296711, 0.012904820032417774, 0.7479040622711182, 0.34681248664855957, 0.37158483266830444, 0.11147544533014297, 0.09908928722143173, 0.049544643610715866, 0.012386160902678967, 0.46668803691864014, 0.23704788088798523, 0.1629704236984253, 0.07407746464014053, 0.05185422673821449, 0.007407746277749538, 0.45489248633384705, 0.45489248633384705, 0.37207701802253723, 0.32764989137649536, 0.16660164296627045, 0.08330082148313522, 0.038873717188835144, 0.01110677607357502, 0.39811962842941284, 0.2654131054878235, 0.2654131054878235, 0.13270655274391174, 0.13270655274391174, 0.5118516087532043, 0.18612785637378693, 0.1706172078847885, 0.06204262003302574, 0.06204262003302574, 0.015510655008256435, 0.15267521142959595, 0.45802563428878784, 0.15267521142959595, 0.15267521142959595, 0.6073819398880005, 0.15184548497200012, 0.15184548497200012, 0.4670858085155487, 0.24972903728485107, 0.17111064493656158, 0.060119956731796265, 0.041621506214141846, 0.009249224327504635, 0.30142512917518616, 0.387546569108963, 0.1722429245710373, 0.08612146228551865, 0.04306073114275932, 0.008612146601080894], \"Term\": [\"abolizione\", \"abolizione\", \"abolizione\", \"acena\", \"acquistare\", \"acquistare\", \"acquistare\", \"acquistare\", \"acquistare\", \"adeguato\", \"adeguato\", \"adeguato\", \"alcoolici\", \"altro\", \"altro\", \"altro\", \"altro\", \"altro\", \"altro\", \"americano\", \"americano\", \"americano\", \"americano\", \"americano\", \"americano\", \"americhe\", \"americhe\", \"anatema\", \"anatema\", \"andare\", \"andare\", \"andare\", \"andare\", \"andare\", \"andare\", \"anello\", \"anello\", \"anello\", \"anello\", \"arrivare\", \"arrivare\", \"arrivare\", \"arrivare\", \"arrivare\", \"arrivare\", \"articolare\", \"articolare\", \"articolare\", \"articolare\", \"articolare\", \"ascondere\", \"ascondere\", \"asper\", \"asper\", \"attimento\", \"augurare\", \"augurare\", \"augurare\", \"augurare\", \"augurare\", \"autorit\\u00e0\", \"autorit\\u00e0\", \"autorit\\u00e0\", \"autorit\\u00e0\", \"autorit\\u00e0\", \"autorit\\u00e0\", \"available\", \"avvenire\", \"avvenire\", \"avvenire\", \"avvenire\", \"avvenire\", \"avvenire\", \"baracca\", \"baracca\", \"baracca\", \"barcellona\", \"barcellona\", \"barcellona\", \"bardou\", \"bardou\", \"baule\", \"beilechamp\", \"beilechamp\", \"beilechamp\", \"belgrado\", \"belgrado\", \"belgrado\", \"belgrado\", \"belgrado\", \"belgrado\", \"bilit\\u00e0\", \"bilit\\u00e0\", \"bilit\\u00e0\", \"bismarck\", \"black\", \"black\", \"black\", \"black\", \"black\", \"blasonare\", \"blllre\", \"bntered\", \"bntered\", \"bntered\", \"bntered\", \"bntered\", \"brago\", \"brago\", \"brano\", \"brano\", \"brano\", \"brano\", \"brano\", \"busto\", \"busto\", \"busto\", \"cabotare\", \"cabotare\", \"cadavi\", \"caff\\u00e8\", \"caff\\u00e8\", \"caff\\u00e8\", \"caff\\u00e8\", \"caff\\u00e8\", \"camera\", \"camera\", \"camera\", \"camera\", \"camera\", \"camera\", \"camerlengo\", \"camerlengo\", \"camerlengo\", \"camerlengo\", \"cammello\", \"cammello\", \"cammello\", \"caprera\", \"caprera\", \"caprera\", \"capriccio\", \"capriccio\", \"capriccio\", \"cardinale\", \"cardinale\", \"cardinale\", \"cardinale\", \"cardinale\", \"cardinale\", \"caro\", \"caro\", \"caro\", \"caro\", \"caro\", \"caro\", \"cato\", \"cato\", \"cato\", \"cato\", \"cato\", \"cereale\", \"cereale\", \"cereale\", \"chaumi\\u00e8\", \"chaumi\\u00e8\", \"chaumi\\u00e8\", \"chaumi\\u00e8\", \"chaumi\\u00e8\", \"chiamare\", \"chiamare\", \"chiamare\", \"chiamare\", \"chiamare\", \"chiamare\", \"chiesa\", \"chiesa\", \"chiesa\", \"chiesa\", \"chiesa\", \"chiesa\", \"ciliegia\", \"ciliegia\", \"ciliegia\", \"cio\\u00e8\", \"cio\\u00e8\", \"cio\\u00e8\", \"cio\\u00e8\", \"cio\\u00e8\", \"cio\\u00e8\", \"circostanza\", \"circostanza\", \"circostanza\", \"circostanza\", \"circostanza\", \"civico\", \"civile\", \"civile\", \"civile\", \"civile\", \"civile\", \"classe\", \"classe\", \"classe\", \"classe\", \"classe\", \"classe\", \"cleveland\", \"cleveland\", \"cleveland\", \"cleveland\", \"cleveland\", \"coast\", \"coast\", \"coast\", \"coast\", \"coast\", \"coast\", \"collare\", \"collare\", \"collare\", \"collare\", \"collare\", \"collare\", \"colpo\", \"colpo\", \"colpo\", \"colpo\", \"colpo\", \"colpo\", \"conclave\", \"conclave\", \"conclave\", \"conclave\", \"conclave\", \"conclave\", \"condizione\", \"condizione\", \"condizione\", \"condizione\", \"condizione\", \"condizione\", \"connazionale\", \"connazionale\", \"connazionale\", \"connazionale\", \"connazionale\", \"considerato\", \"considerato\", \"considerato\", \"considerato\", \"considerato\", \"continuo\", \"continuo\", \"continuo\", \"continuo\", \"continuo\", \"continuo\", \"convivenza\", \"cordoglio\", \"cordoglio\", \"correre\", \"correre\", \"correre\", \"correre\", \"correre\", \"correre\", \"corrompere\", \"corrompere\", \"costare\", \"costare\", \"costare\", \"costare\", \"costare\", \"costare\", \"crisi\", \"crisi\", \"crisi\", \"crisi\", \"crisi\", \"crivellare\", \"crivellare\", \"cubare\", \"cubare\", \"cubare\", \"daily\", \"daily\", \"daily\", \"daily\", \"daily\", \"daily\", \"dalmato\", \"dalmato\", \"dalmazia\", \"dalmazia\", \"dalmazia\", \"dare\", \"dare\", \"dare\", \"dare\", \"dare\", \"dare\", \"datare\", \"datare\", \"datare\", \"datare\", \"datare\", \"datare\", \"dato\", \"dato\", \"dato\", \"dato\", \"dato\", \"dato\", \"decano\", \"decano\", \"decano\", \"decano\", \"decano\", \"decorrere\", \"decorrere\", \"decorrere\", \"defunto\", \"defunto\", \"defunto\", \"defunto\", \"defunto\", \"diamond\", \"diamond\", \"diamond\", \"diamond\", \"diamond\", \"dimostrare\", \"dimostrare\", \"dimostrare\", \"dimostrare\", \"dimostrare\", \"dimostrare\", \"diramare\", \"diramare\", \"dire\", \"dire\", \"dire\", \"dire\", \"dire\", \"dire\", \"direttore\", \"direttore\", \"direttore\", \"direttore\", \"direttore\", \"dise\", \"dise\", \"disonore\", \"disonore\", \"dispaccio\", \"dispaccio\", \"dispaccio\", \"dispaccio\", \"dispaccio\", \"dispaccio\", \"ditorm\", \"diverso\", \"diverso\", \"diverso\", \"diverso\", \"diverso\", \"diverso\", \"domenica\", \"domenica\", \"domenica\", \"domenica\", \"domenica\", \"dovere\", \"dovere\", \"dovere\", \"dovere\", \"dovere\", \"dovere\", \"dragare\", \"dragare\", \"dragare\", \"dragare\", \"dragare\", \"durala\", \"durare\", \"durare\", \"durare\", \"durare\", \"durare\", \"durare\", \"duto\", \"duto\", \"duto\", \"duto\", \"ebreo\", \"ebreo\", \"ebreo\", \"ebreo\", \"ebreo\", \"ebreo\", \"elmo\", \"entiamid\", \"esem\", \"esem\", \"esem\", \"estero\", \"estero\", \"estero\", \"estero\", \"estero\", \"estero\", \"europa\", \"europa\", \"europa\", \"europa\", \"europa\", \"fero\", \"fero\", \"fero\", \"fero\", \"fero\", \"first\", \"first\", \"first\", \"first\", \"first\", \"first\", \"fiume\", \"fiume\", \"fiume\", \"fiume\", \"fiume\", \"fldlhn\", \"formida\", \"francese\", \"francese\", \"francese\", \"francese\", \"francese\", \"francese\", \"francisco\", \"francisco\", \"francisco\", \"francisco\", \"francisco\", \"francisco\", \"fruttifero\", \"fruttifero\", \"fruttifero\", \"garibaldi\", \"garibaldi\", \"garibaldi\", \"garibaldi\", \"garibaldi\", \"garroni\", \"garroni\", \"garroni\", \"garroni\", \"gasateli\", \"gemmare\", \"gemmare\", \"gemmare\", \"gemmare\", \"giardiniere\", \"giardiniere\", \"giardiniere\", \"giornale\", \"giornale\", \"giornale\", \"giornale\", \"giornale\", \"giornale\", \"giungere\", \"giungere\", \"giungere\", \"giungere\", \"giungere\", \"giungere\", \"gran\", \"gran\", \"gran\", \"gran\", \"gran\", \"gran\", \"grande\", \"grande\", \"grande\", \"grande\", \"grande\", \"grande\", \"grettezza\", \"grover\", \"grover\", \"grover\", \"guerra\", \"guerra\", \"guerra\", \"guerra\", \"guerra\", \"guerra\", \"guglielmo\", \"guglielmo\", \"guglielmo\", \"guglielmo\", \"guglielmo\", \"guglielmo\", \"hleronl\", \"hudson\", \"hudson\", \"hudson\", \"ideale\", \"ideale\", \"ideale\", \"ideale\", \"ideale\", \"ilusclti\", \"immaginabile\", \"immaginabile\", \"immaginabile\", \"imminente\", \"imminente\", \"imminente\", \"imminente\", \"imminente\", \"immon\", \"impugnare\", \"impugnare\", \"impugnare\", \"indiati\", \"individuo\", \"individuo\", \"individuo\", \"individuo\", \"individuo\", \"inglese\", \"inglese\", \"inglese\", \"inglese\", \"inglese\", \"inglese\", \"ingratitudine\", \"ingratitudine\", \"insi\\u00e8me\", \"intemerato\", \"intemerato\", \"interesse\", \"interesse\", \"interesse\", \"interesse\", \"interesse\", \"inutilmente\", \"inutilmente\", \"inutilmente\", \"ipeck\", \"ipocrita\", \"ipocrita\", \"ipocrita\", \"irto\", \"irto\", \"irto\", \"irto\", \"irving\", \"irving\", \"italia\", \"italia\", \"italia\", \"italia\", \"italia\", \"italia\", \"italian\", \"italian\", \"italian\", \"italian\", \"italian\", \"italian\", \"italiano\", \"italiano\", \"italiano\", \"italiano\", \"italiano\", \"italiano\", \"itaua\", \"itaua\", \"itaua\", \"laurent\", \"laurent\", \"laurent\", \"leggere\", \"leggere\", \"leggere\", \"leggere\", \"leggere\", \"leggere\", \"lennemete\", \"leone\", \"leone\", \"leone\", \"leone\", \"leone\", \"leone\", \"lira\", \"lira\", \"lira\", \"lira\", \"lira\", \"lira\", \"lottare\", \"lottare\", \"lottare\", \"lottare\", \"lottare\", \"lottare\", \"macchina\", \"macchina\", \"macchina\", \"macchina\", \"macchina\", \"macchina\", \"mafia\", \"mafia\", \"mafia\", \"mafia\", \"mafia\", \"maggio\", \"maggio\", \"maggio\", \"maggio\", \"maggio\", \"maggio\", \"malaria\", \"malaria\", \"malaria\", \"mano\", \"mano\", \"mano\", \"mano\", \"mano\", \"mano\", \"marchesa\", \"marchesa\", \"marchesa\", \"marchesa\", \"marchesa\", \"marino\", \"marino\", \"marino\", \"marino\", \"marino\", \"marino\", \"mattino\", \"mattino\", \"mattino\", \"mattino\", \"mattino\", \"mattino\", \"mentire\", \"mentire\", \"mentire\", \"mentire\", \"mentire\", \"mentire\", \"meravi\", \"meravi\", \"meravi\", \"meridionale\", \"meridionale\", \"meridionale\", \"meridionale\", \"meridionale\", \"mettere\", \"mettere\", \"mettere\", \"mettere\", \"mettere\", \"mettere\", \"militarismo\", \"militarismo\", \"militarismo\", \"militarismo\", \"ministero\", \"ministero\", \"ministero\", \"ministero\", \"ministero\", \"ministero\", \"moltissime\", \"moltissime\", \"moltissime\", \"molto\", \"molto\", \"molto\", \"molto\", \"molto\", \"molto\", \"monte\", \"monte\", \"monte\", \"monte\", \"monte\", \"monte\", \"morire\", \"morire\", \"morire\", \"morire\", \"morire\", \"morire\", \"morluus\", \"morto\", \"morto\", \"morto\", \"morto\", \"morto\", \"morto\", \"napoli\", \"napoli\", \"napoli\", \"napoli\", \"napoli\", \"napoli\", \"nave\", \"nave\", \"nave\", \"nave\", \"nave\", \"nave\", \"navigazione\", \"navigazione\", \"navigazione\", \"navigazione\", \"navigazione\", \"navigazione\", \"nergico\", \"nergico\", \"ngliamo\", \"nome\", \"nome\", \"nome\", \"nome\", \"nome\", \"nome\", \"notizia\", \"notizia\", \"notizia\", \"notizia\", \"notizia\", \"notizia\", \"numerare\", \"numerare\", \"numerare\", \"numerare\", \"numerare\", \"numerare\", \"nuncio\", \"nuncio\", \"nuovo\", \"nuovo\", \"nuovo\", \"nuovo\", \"nuovo\", \"nuovo\", \"ohna\", \"onore\", \"onore\", \"onore\", \"onore\", \"onore\", \"onore\", \"operare\", \"operare\", \"operare\", \"operare\", \"operare\", \"operare\", \"ordine\", \"ordine\", \"ordine\", \"ordine\", \"ordine\", \"ordine\", \"ortna\", \"pagina\", \"pagina\", \"pagina\", \"pagina\", \"pagina\", \"papa\", \"papa\", \"papa\", \"papa\", \"papa\", \"papa\", \"parere\", \"parere\", \"parere\", \"parere\", \"parere\", \"parere\", \"parigi\", \"parigi\", \"parigi\", \"parigi\", \"parigi\", \"parigi\", \"parlare\", \"parlare\", \"parlare\", \"parlare\", \"parlare\", \"parlare\", \"parroco\", \"parroco\", \"partire\", \"partire\", \"partire\", \"partire\", \"partire\", \"partire\", \"parto\", \"parto\", \"parto\", \"parto\", \"parto\", \"patrio\", \"patrio\", \"patrio\", \"patrio\", \"patrio\", \"patrio\", \"perfezionamento\", \"perfezionamento\", \"perfezionamento\", \"pescatore\", \"pescatore\", \"pescatore\", \"pescatore\", \"pescatore\", \"piare\", \"piare\", \"piare\", \"piare\", \"piare\", \"pietro\", \"pietro\", \"pietro\", \"pietro\", \"pietro\", \"pietro\", \"poema\", \"politico\", \"politico\", \"politico\", \"politico\", \"politico\", \"politico\", \"polizia\", \"polizia\", \"polizia\", \"polizia\", \"polizia\", \"polizia\", \"pontefice\", \"pontefice\", \"pontefice\", \"pontefice\", \"pontefice\", \"pontefice\", \"pontificare\", \"pontificare\", \"pontificare\", \"popolare\", \"popolare\", \"popolare\", \"popolare\", \"popolare\", \"popolare\", \"potenza\", \"potenza\", \"potenza\", \"potenza\", \"potenza\", \"potenza\", \"potere\", \"potere\", \"potere\", \"potere\", \"potere\", \"potere\", \"pouteiue\", \"preferi\", \"preferi\", \"pregevolissimo\", \"prendere\", \"prendere\", \"prendere\", \"prendere\", \"prendere\", \"prendere\", \"presentare\", \"presentare\", \"presentare\", \"presentare\", \"presentare\", \"presentare\", \"presidente\", \"presidente\", \"presidente\", \"presidente\", \"presidente\", \"presidente\", \"pressare\", \"pressare\", \"pressare\", \"pressare\", \"pressare\", \"pressare\", \"presto\", \"presto\", \"prete\", \"prete\", \"prete\", \"prete\", \"prete\", \"prete\", \"primo\", \"primo\", \"primo\", \"primo\", \"primo\", \"primo\", \"prire\", \"prire\", \"produt\", \"produt\", \"produt\", \"professore\", \"professore\", \"professore\", \"professore\", \"professore\", \"profundis\", \"proporsi\", \"proporsi\", \"provocare\", \"provocare\", \"provocare\", \"provocare\", \"provocare\", \"pubblico\", \"pubblico\", \"pubblico\", \"pubblico\", \"pubblico\", \"pubblico\", \"pusillanime\", \"pusillanime\", \"quotidiano\", \"quotidiano\", \"quotidiano\", \"quotidiano\", \"quotidiano\", \"quotidiano\", \"raccolto\", \"raccolto\", \"raccolto\", \"raccolto\", \"raccolto\", \"ragione\", \"ragione\", \"ragione\", \"ragione\", \"ragione\", \"ragione\", \"rappresentare\", \"rappresentare\", \"rappresentare\", \"rappresentare\", \"rappresentare\", \"rappresentare\", \"razionale\", \"razionale\", \"razionale\", \"reception\", \"recere\", \"recere\", \"recere\", \"recere\", \"recere\", \"recere\", \"recitazione\", \"regina\", \"regina\", \"regina\", \"regina\", \"regina\", \"regina\", \"rendere\", \"rendere\", \"rendere\", \"rendere\", \"rendere\", \"rendere\", \"renna\", \"renna\", \"repentino\", \"repentino\", \"ridda\", \"ridda\", \"rimanere\", \"rimanere\", \"rimanere\", \"rimanere\", \"rimanere\", \"rimanere\", \"rispondere\", \"rispondere\", \"rispondere\", \"rispondere\", \"rispondere\", \"rispondere\", \"ritenere\", \"ritenere\", \"ritenere\", \"ritenere\", \"ritenere\", \"ritenere\", \"rlfereptesl\", \"roccie\", \"roma\", \"roma\", \"roma\", \"roma\", \"roma\", \"roma\", \"roosevelt\", \"roosevelt\", \"roosevelt\", \"roosevelt\", \"roosevelt\", \"roso\", \"roso\", \"roso\", \"roso\", \"roso\", \"rublo\", \"rublo\", \"rublo\", \"russia\", \"russia\", \"russia\", \"russia\", \"russia\", \"russia\", \"sacrilegio\", \"sacrilegio\", \"salmone\", \"salmone\", \"salmone\", \"salmone\", \"sapere\", \"sapere\", \"sapere\", \"sapere\", \"sapere\", \"sapere\", \"scannatoio\", \"scannatoio\", \"scannatoio\", \"scoprire\", \"scoprire\", \"scoprire\", \"scoprire\", \"scoprire\", \"scoprire\", \"scopritore\", \"scopritore\", \"scrett\", \"seguire\", \"seguire\", \"seguire\", \"seguire\", \"seguire\", \"seguire\", \"sentenza\", \"sentenza\", \"sentenza\", \"senumenlo\", \"severo\", \"severo\", \"severo\", \"severo\", \"severo\", \"sindacale\", \"sindacale\", \"smeraldo\", \"smeraldo\", \"soccorso\", \"soccorso\", \"soccorso\", \"soccorso\", \"soccorso\", \"sognare\", \"sognare\", \"sognare\", \"sognare\", \"sognare\", \"soldato\", \"soldato\", \"soldato\", \"soldato\", \"soldato\", \"soldato\", \"solo\", \"solo\", \"solo\", \"solo\", \"solo\", \"solo\", \"sonvi\", \"states\", \"states\", \"states\", \"states\", \"states\", \"states\", \"stilit\\u00e0\", \"strage\", \"strage\", \"strage\", \"strage\", \"strage\", \"telegrafico\", \"telegrafico\", \"telegrafico\", \"telegrafico\", \"telegrafico\", \"telegrafico\", \"tenere\", \"tenere\", \"tenere\", \"tenere\", \"tenere\", \"tenere\", \"terra\", \"terra\", \"terra\", \"terra\", \"terra\", \"terra\", \"terzo\", \"terzo\", \"terzo\", \"terzo\", \"terzo\", \"terzo\", \"text\", \"times\", \"times\", \"times\", \"times\", \"times\", \"tolleranza\", \"tolleranza\", \"tremendo\", \"treno\", \"treno\", \"treno\", \"treno\", \"treno\", \"treno\", \"trieste\", \"trieste\", \"trieste\", \"trieste\", \"trieste\", \"trovare\", \"trovare\", \"trovare\", \"trovare\", \"trovare\", \"trovare\", \"truppa\", \"truppa\", \"truppa\", \"truppa\", \"truppa\", \"truppa\", \"ufficiale\", \"ufficiale\", \"ufficiale\", \"ufficiale\", \"ufficiale\", \"ufficiale\", \"ultimo\", \"ultimo\", \"ultimo\", \"ultimo\", \"ultimo\", \"ultimo\", \"unito\", \"unito\", \"unito\", \"unito\", \"unito\", \"unito\", \"uovo\", \"uovo\", \"uovo\", \"uovo\", \"uovo\", \"vaok3\", \"vapore\", \"vapore\", \"vapore\", \"vapore\", \"vapore\", \"vapore\", \"vaticano\", \"vaticano\", \"vaticano\", \"vaticano\", \"vaticano\", \"vaticano\", \"vauva\", \"vedere\", \"vedere\", \"vedere\", \"vedere\", \"vedere\", \"vedere\", \"veland\", \"veland\", \"venezuela\", \"venezuela\", \"venezuela\", \"venire\", \"venire\", \"venire\", \"venire\", \"venire\", \"venire\", \"verazzano\", \"verazzano\", \"verazzano\", \"violetto\", \"violetto\", \"visitare\", \"visitare\", \"visitare\", \"visitare\", \"visitare\", \"visitare\", \"vittoriano\", \"vivere\", \"vivere\", \"vivere\", \"vivere\", \"vivere\", \"vivere\", \"vivo\", \"vivo\", \"vivo\", \"vivo\", \"vivo\", \"vivo\", \"voialtri\", \"voialtri\", \"volere\", \"volere\", \"volere\", \"volere\", \"volere\", \"volere\", \"voluto\", \"voluto\", \"voluto\", \"voluto\", \"voluto\", \"vuol\", \"vuol\", \"vuol\", \"vuol\", \"vuol\", \"vuol\", \"xlll\", \"xlll\", \"xlll\", \"xlll\", \"yokohama\", \"yokohama\", \"yokohama\", \"york\", \"york\", \"york\", \"york\", \"york\", \"york\", \"zione\", \"zione\", \"zione\", \"zione\", \"zione\", \"zione\"]}, \"R\": 30, \"lambda.step\": 0.01, \"plot.opts\": {\"xlab\": \"PC1\", \"ylab\": \"PC2\"}, \"topic.order\": [6, 5, 2, 4, 3, 1]};\n",
              "\n",
              "function LDAvis_load_lib(url, callback){\n",
              "  var s = document.createElement('script');\n",
              "  s.src = url;\n",
              "  s.async = true;\n",
              "  s.onreadystatechange = s.onload = callback;\n",
              "  s.onerror = function(){console.warn(\"failed to load library \" + url);};\n",
              "  document.getElementsByTagName(\"head\")[0].appendChild(s);\n",
              "}\n",
              "\n",
              "if(typeof(LDAvis) !== \"undefined\"){\n",
              "   // already loaded: just create the visualization\n",
              "   !function(LDAvis){\n",
              "       new LDAvis(\"#\" + \"ldavis_el124139969055792008929623555\", ldavis_el124139969055792008929623555_data);\n",
              "   }(LDAvis);\n",
              "}else if(typeof define === \"function\" && define.amd){\n",
              "   // require.js is available: use it to load d3/LDAvis\n",
              "   require.config({paths: {d3: \"https://cdnjs.cloudflare.com/ajax/libs/d3/3.5.5/d3.min\"}});\n",
              "   require([\"d3\"], function(d3){\n",
              "      window.d3 = d3;\n",
              "      LDAvis_load_lib(\"https://cdn.rawgit.com/bmabey/pyLDAvis/files/ldavis.v1.0.0.js\", function(){\n",
              "        new LDAvis(\"#\" + \"ldavis_el124139969055792008929623555\", ldavis_el124139969055792008929623555_data);\n",
              "      });\n",
              "    });\n",
              "}else{\n",
              "    // require.js not available: dynamically load d3 & LDAvis\n",
              "    LDAvis_load_lib(\"https://cdnjs.cloudflare.com/ajax/libs/d3/3.5.5/d3.min.js\", function(){\n",
              "         LDAvis_load_lib(\"https://cdn.rawgit.com/bmabey/pyLDAvis/files/ldavis.v1.0.0.js\", function(){\n",
              "                 new LDAvis(\"#\" + \"ldavis_el124139969055792008929623555\", ldavis_el124139969055792008929623555_data);\n",
              "            })\n",
              "         });\n",
              "}\n",
              "</script>"
            ],
            "text/plain": [
              "PreparedData(topic_coordinates=              x         y  topics  cluster       Freq\n",
              "topic                                                \n",
              "5      0.004153  0.001208       1        1  37.229431\n",
              "4      0.004662 -0.000829       2        1  32.140408\n",
              "1     -0.000601  0.002343       3        1  16.226177\n",
              "3     -0.004312  0.003596       4        1   7.595126\n",
              "2     -0.000659 -0.001830       5        1   5.537324\n",
              "0     -0.003244 -0.004488       6        1   1.271536, topic_info=           Term        Freq       Total Category  logprob  loglift\n",
              "458    italiano  974.000000  974.000000  Default  30.0000  30.0000\n",
              "456      italia  491.000000  491.000000  Default  29.0000  29.0000\n",
              "278   dispaccio  474.000000  474.000000  Default  28.0000  28.0000\n",
              "802        roma  475.000000  475.000000  Default  27.0000  27.0000\n",
              "995      venire  358.000000  358.000000  Default  26.0000  26.0000\n",
              "...         ...         ...         ...      ...      ...      ...\n",
              "270        dire    2.256276  237.579575   Topic6  -6.5815  -0.2918\n",
              "401        gran    2.119362  204.621201   Topic6  -6.6441  -0.2051\n",
              "677    popolare    1.791339  136.808655   Topic6  -6.8122   0.0293\n",
              "1023       york    1.964222  216.234360   Topic6  -6.7201  -0.3363\n",
              "1007   visitare    1.792238  154.980850   Topic6  -6.8117  -0.0949\n",
              "\n",
              "[556 rows x 6 columns], token_table=       Topic      Freq        Term\n",
              "term                              \n",
              "19380      1  0.268801  abolizione\n",
              "19380      2  0.268801  abolizione\n",
              "19380      3  0.268801  abolizione\n",
              "26251      2  0.588165       acena\n",
              "5049       1  0.344928  acquistare\n",
              "...      ...       ...         ...\n",
              "1027       2  0.387547       zione\n",
              "1027       3  0.172243       zione\n",
              "1027       4  0.086121       zione\n",
              "1027       5  0.043061       zione\n",
              "1027       6  0.008612       zione\n",
              "\n",
              "[1303 rows x 3 columns], R=30, lambda_step=0.01, plot_opts={'xlab': 'PC1', 'ylab': 'PC2'}, topic_order=[6, 5, 2, 4, 3, 1])"
            ]
          },
          "metadata": {
            "tags": []
          },
          "execution_count": 35
        }
      ]
    },
    {
      "cell_type": "markdown",
      "metadata": {
        "id": "jMh299U-Qowi",
        "colab_type": "text"
      },
      "source": [
        "### 2.2.3 LDA with Mallet"
      ]
    },
    {
      "cell_type": "code",
      "metadata": {
        "id": "TNMEMY3LaQQ-",
        "colab_type": "code",
        "colab": {}
      },
      "source": [
        "%%capture\n",
        "ldamallet = gensim.models.wrappers.LdaMallet(mallet_path, corpus=corpus, num_topics=numtopics, id2word=id2word)"
      ],
      "execution_count": 0,
      "outputs": []
    },
    {
      "cell_type": "code",
      "metadata": {
        "id": "I7VpXA0cahdM",
        "colab_type": "code",
        "outputId": "129657c7-1084-41fd-83ab-92aa097eb91e",
        "colab": {
          "base_uri": "https://localhost:8080/",
          "height": 241
        }
      },
      "source": [
        "ldamallet.print_topics()"
      ],
      "execution_count": 37,
      "outputs": [
        {
          "output_type": "execute_result",
          "data": {
            "text/plain": [
              "[(0,\n",
              "  '0.010*\"leggere\" + 0.009*\"potere\" + 0.006*\"perchè\" + 0.005*\"volere\" + 0.005*\"diritto\" + 0.005*\"comune\" + 0.005*\"società\" + 0.004*\"credere\" + 0.004*\"mettere\" + 0.004*\"sociale\"'),\n",
              " (1,\n",
              "  '0.019*\"cardinale\" + 0.015*\"papa\" + 0.009*\"roma\" + 0.009*\"italiano\" + 0.008*\"chiesa\" + 0.007*\"pontefice\" + 0.007*\"vaticano\" + 0.006*\"venire\" + 0.006*\"nome\" + 0.006*\"leone\"'),\n",
              " (2,\n",
              "  '0.007*\"giugno\" + 0.007*\"dispaccio\" + 0.006*\"partire\" + 0.005*\"regina\" + 0.005*\"mentire\" + 0.005*\"ufficiale\" + 0.004*\"telegrafico\" + 0.004*\"vivo\" + 0.004*\"ministero\" + 0.004*\"notizia\"'),\n",
              " (3,\n",
              "  '0.022*\"italiano\" + 0.012*\"italia\" + 0.010*\"potere\" + 0.007*\"unito\" + 0.006*\"americano\" + 0.006*\"york\" + 0.006*\"pubblicare\" + 0.005*\"america\" + 0.005*\"venire\" + 0.005*\"grande\"'),\n",
              " (4,\n",
              "  '0.015*\"dispaccio\" + 0.008*\"telegrafico\" + 0.008*\"gran\" + 0.008*\"maggio\" + 0.008*\"giornale\" + 0.006*\"numerare\" + 0.005*\"recere\" + 0.005*\"nuovo\" + 0.005*\"tenere\" + 0.005*\"operare\"'),\n",
              " (5,\n",
              "  '0.019*\"italiano\" + 0.015*\"roma\" + 0.012*\"italia\" + 0.007*\"presidente\" + 0.007*\"visitare\" + 0.007*\"daily\" + 0.006*\"parigi\" + 0.006*\"telegrafico\" + 0.006*\"dire\" + 0.005*\"patrio\"')]"
            ]
          },
          "metadata": {
            "tags": []
          },
          "execution_count": 37
        }
      ]
    },
    {
      "cell_type": "code",
      "metadata": {
        "id": "kynzdwnA1tKY",
        "colab_type": "code",
        "colab": {}
      },
      "source": [
        "#create variable to retranslate model to Gensim, to be able to compute distribution at a later stage\n",
        "ldamallet_to_gensim = gensim.models.wrappers.ldamallet.malletmodel2ldamodel(ldamallet)"
      ],
      "execution_count": 0,
      "outputs": []
    },
    {
      "cell_type": "markdown",
      "metadata": {
        "id": "SSL1PF6zRcft",
        "colab_type": "text"
      },
      "source": [
        "## 2.3 Topic Coherence\n",
        "Topic Coherence measures score of a single topic by measuring the degree of semantic similarity between high scoring words in the topic. https://towardsdatascience.com/evaluate-topic-model-in-python-latent-dirichlet-allocation-lda-7d57484bb5d0"
      ]
    },
    {
      "cell_type": "code",
      "metadata": {
        "id": "GX69kVo-ssrV",
        "colab_type": "code",
        "colab": {}
      },
      "source": [
        "from gensim.models.coherencemodel import CoherenceModel"
      ],
      "execution_count": 0,
      "outputs": []
    },
    {
      "cell_type": "markdown",
      "metadata": {
        "id": "JrAOlaIXSUvb",
        "colab_type": "text"
      },
      "source": [
        "### 2.3.1 Coherence score LDA Gensim"
      ]
    },
    {
      "cell_type": "code",
      "metadata": {
        "id": "XVMfqVqZSbeJ",
        "colab_type": "code",
        "outputId": "a8ae1c56-d504-47a2-cf94-dbe85d6dfb69",
        "colab": {
          "base_uri": "https://localhost:8080/",
          "height": 51
        }
      },
      "source": [
        "coherence_model_ldagensim = CoherenceModel(model=ldagensim, texts=lemmatized_corpus, dictionary=id2word, coherence='c_v')\n",
        "coherence_ldagensim = coherence_model_ldagensim.get_coherence()\n",
        "print('\\nCoherence Score LDA Gensim: ', coherence_ldagensim)"
      ],
      "execution_count": 0,
      "outputs": [
        {
          "output_type": "stream",
          "text": [
            "\n",
            "Coherence Score LDA Gensim:  0.30392213382444927\n"
          ],
          "name": "stdout"
        }
      ]
    },
    {
      "cell_type": "markdown",
      "metadata": {
        "id": "9S5nI7YiSACT",
        "colab_type": "text"
      },
      "source": [
        "### 2.3.1 Coherence score LDA Mallet\n"
      ]
    },
    {
      "cell_type": "code",
      "metadata": {
        "id": "KmPJGdnHsafA",
        "colab_type": "code",
        "outputId": "f118a916-da97-4a28-ccf0-0ce462a49be4",
        "colab": {
          "base_uri": "https://localhost:8080/",
          "height": 51
        }
      },
      "source": [
        "coherence_model_ldamallet = CoherenceModel(model=ldamallet, texts=lemmatized_corpus, dictionary=id2word, coherence='c_v')\n",
        "coherence_ldamallet = coherence_model_ldamallet.get_coherence()\n",
        "print('\\nCoherence Score LDA MAllet: ', coherence_ldamallet)"
      ],
      "execution_count": 0,
      "outputs": [
        {
          "output_type": "stream",
          "text": [
            "\n",
            "Coherence Score LDA MAllet:  0.37185461721664453\n"
          ],
          "name": "stdout"
        }
      ]
    },
    {
      "cell_type": "markdown",
      "metadata": {
        "id": "pjImnk4wAh4u",
        "colab_type": "text"
      },
      "source": [
        "## 2.4 Coherence and number of topics"
      ]
    },
    {
      "cell_type": "markdown",
      "metadata": {
        "colab_type": "text",
        "id": "-C8GGNUoGAuf"
      },
      "source": [
        "### 2.4.1 LDA Gensim"
      ]
    },
    {
      "cell_type": "code",
      "metadata": {
        "colab_type": "code",
        "id": "lWD51u4PGAuh",
        "colab": {}
      },
      "source": [
        "#can take a long time to run\n",
        "%%capture\n",
        "topics_nr = []\n",
        "coherence_values_gensim = []\n",
        "for num_topics in range(2, 20):\n",
        "  model = models.LdaModel(corpus, id2word=id2word, num_topics=num_topics)\n",
        "  coherencemodel = CoherenceModel(model=model, texts=lemmatized_corpus, dictionary=id2word, coherence='c_v')\n",
        "  coherence_value = coherencemodel.get_coherence()\n",
        "  coherence_values_gensim.append(coherence_value)\n",
        "  topics_nr.append(str(num_topics))"
      ],
      "execution_count": 0,
      "outputs": []
    },
    {
      "cell_type": "code",
      "metadata": {
        "id": "7qwexUrMB689",
        "colab_type": "code",
        "outputId": "121d6bf7-50ed-4e20-ec42-e270018c9ecd",
        "colab": {
          "base_uri": "https://localhost:8080/",
          "height": 323
        }
      },
      "source": [
        "for i in range(len(topics_nr)):\n",
        "  print(\"Num Topics =\", topics_nr[i], \" has Coherence Value of\", round(coherence_values_gensim[i],4))"
      ],
      "execution_count": 0,
      "outputs": [
        {
          "output_type": "stream",
          "text": [
            "Num Topics = 2  has Coherence Value of 0.2918\n",
            "Num Topics = 3  has Coherence Value of 0.2965\n",
            "Num Topics = 4  has Coherence Value of 0.2846\n",
            "Num Topics = 5  has Coherence Value of 0.2831\n",
            "Num Topics = 6  has Coherence Value of 0.2919\n",
            "Num Topics = 7  has Coherence Value of 0.2959\n",
            "Num Topics = 8  has Coherence Value of 0.2975\n",
            "Num Topics = 9  has Coherence Value of 0.2918\n",
            "Num Topics = 10  has Coherence Value of 0.2879\n",
            "Num Topics = 11  has Coherence Value of 0.2929\n",
            "Num Topics = 12  has Coherence Value of 0.2934\n",
            "Num Topics = 13  has Coherence Value of 0.2894\n",
            "Num Topics = 14  has Coherence Value of 0.2953\n",
            "Num Topics = 15  has Coherence Value of 0.2875\n",
            "Num Topics = 16  has Coherence Value of 0.2896\n",
            "Num Topics = 17  has Coherence Value of 0.2884\n",
            "Num Topics = 18  has Coherence Value of 0.2892\n",
            "Num Topics = 19  has Coherence Value of 0.2925\n"
          ],
          "name": "stdout"
        }
      ]
    },
    {
      "cell_type": "code",
      "metadata": {
        "colab_type": "code",
        "id": "H2NSeh81GAur",
        "colab": {}
      },
      "source": [
        "# Visualize coherence scores\n",
        "import matplotlib.pyplot as plt"
      ],
      "execution_count": 0,
      "outputs": []
    },
    {
      "cell_type": "code",
      "metadata": {
        "colab_type": "code",
        "outputId": "256162e1-f424-473d-bb6f-bf31064d5968",
        "id": "YdA1u15bGAut",
        "colab": {
          "base_uri": "https://localhost:8080/",
          "height": 284
        }
      },
      "source": [
        "plt.plot(topics_nr, coherence_values_gensim)"
      ],
      "execution_count": 0,
      "outputs": [
        {
          "output_type": "execute_result",
          "data": {
            "text/plain": [
              "[<matplotlib.lines.Line2D at 0x7f8cee6c2400>]"
            ]
          },
          "metadata": {
            "tags": []
          },
          "execution_count": 45
        },
        {
          "output_type": "display_data",
          "data": {
            "image/png": "[encoded data removed]",
            "text/plain": [
              "<Figure size 432x288 with 1 Axes>"
            ]
          },
          "metadata": {
            "tags": [],
            "needs_background": "light"
          }
        }
      ]
    },
    {
      "cell_type": "code",
      "metadata": {
        "colab_type": "code",
        "id": "28j3eHrRGAuv",
        "colab": {}
      },
      "source": [
        "# To analyse the results, the user can print the list of topics for different topic nr"
      ],
      "execution_count": 0,
      "outputs": []
    },
    {
      "cell_type": "code",
      "metadata": {
        "colab_type": "code",
        "id": "Cg6OgRt7GAuy",
        "colab": {}
      },
      "source": [
        "# print topics for nr of topics = 7\n",
        "%%capture\n",
        "numtopics = 7\n",
        "model = models.LdaModel(corpus, id2word=id2word, num_topics=numtopics)"
      ],
      "execution_count": 0,
      "outputs": []
    },
    {
      "cell_type": "code",
      "metadata": {
        "id": "xqZGRK4NCrkJ",
        "colab_type": "code",
        "outputId": "c93947bf-e764-4957-e799-f4fbcaba8d50",
        "colab": {
          "base_uri": "https://localhost:8080/",
          "height": 275
        }
      },
      "source": [
        "model.print_topics()"
      ],
      "execution_count": 0,
      "outputs": [
        {
          "output_type": "execute_result",
          "data": {
            "text/plain": [
              "[(0,\n",
              "  '0.008*\"italiano\" + 0.003*\"telegrafico\" + 0.003*\"dispaccio\" + 0.003*\"italia\" + 0.003*\"venire\" + 0.003*\"roma\" + 0.003*\"daily\" + 0.003*\"giornale\" + 0.002*\"nuovo\" + 0.002*\"potere\"'),\n",
              " (1,\n",
              "  '0.007*\"italiano\" + 0.005*\"italia\" + 0.004*\"dispaccio\" + 0.003*\"roma\" + 0.003*\"giornale\" + 0.003*\"daily\" + 0.002*\"venire\" + 0.002*\"telegrafico\" + 0.002*\"potere\" + 0.002*\"gran\"'),\n",
              " (2,\n",
              "  '0.006*\"italiano\" + 0.004*\"italia\" + 0.004*\"telegrafico\" + 0.003*\"dispaccio\" + 0.003*\"roma\" + 0.003*\"venire\" + 0.003*\"potere\" + 0.002*\"giornale\" + 0.002*\"york\" + 0.002*\"cardinale\"'),\n",
              " (3,\n",
              "  '0.008*\"italiano\" + 0.004*\"roma\" + 0.004*\"italia\" + 0.004*\"dispaccio\" + 0.003*\"potere\" + 0.003*\"venire\" + 0.003*\"telegrafico\" + 0.002*\"daily\" + 0.002*\"cardinale\" + 0.002*\"giornale\"'),\n",
              " (4,\n",
              "  '0.008*\"italiano\" + 0.005*\"roma\" + 0.004*\"italia\" + 0.004*\"potere\" + 0.003*\"dispaccio\" + 0.003*\"telegrafico\" + 0.003*\"giornale\" + 0.002*\"daily\" + 0.002*\"mentire\" + 0.002*\"venire\"'),\n",
              " (5,\n",
              "  '0.008*\"italiano\" + 0.004*\"italia\" + 0.003*\"daily\" + 0.003*\"roma\" + 0.003*\"venire\" + 0.003*\"dispaccio\" + 0.003*\"telegrafico\" + 0.002*\"potere\" + 0.002*\"dire\" + 0.002*\"cardinale\"'),\n",
              " (6,\n",
              "  '0.007*\"italiano\" + 0.004*\"dispaccio\" + 0.003*\"telegrafico\" + 0.003*\"potere\" + 0.003*\"venire\" + 0.003*\"roma\" + 0.003*\"cardinale\" + 0.003*\"italia\" + 0.003*\"giornale\" + 0.002*\"daily\"')]"
            ]
          },
          "metadata": {
            "tags": []
          },
          "execution_count": 50
        }
      ]
    },
    {
      "cell_type": "markdown",
      "metadata": {
        "id": "FazsvYeYDxo0",
        "colab_type": "text"
      },
      "source": [
        "### 2.4.2 LDA Mallet"
      ]
    },
    {
      "cell_type": "code",
      "metadata": {
        "id": "BnliBI5FTBDd",
        "colab_type": "code",
        "colab": {}
      },
      "source": [
        "#can take a long time to run\n",
        "%%capture\n",
        "topics_nr = []\n",
        "coherence_values_mallet = []\n",
        "for num_topics in range(2, 20):\n",
        "  model = gensim.models.wrappers.LdaMallet(mallet_path, corpus=corpus, num_topics=num_topics, id2word=id2word)\n",
        "  coherencemodel = CoherenceModel(model=model, texts=lemmatized_corpus, dictionary=id2word, coherence='c_v')\n",
        "  coherence_value = coherencemodel.get_coherence()\n",
        "  coherence_values_mallet.append(coherence_value)\n",
        "  topics_nr.append(str(num_topics))"
      ],
      "execution_count": 0,
      "outputs": []
    },
    {
      "cell_type": "code",
      "metadata": {
        "id": "dSEG4NBSC5BZ",
        "colab_type": "code",
        "outputId": "04c9aaec-442c-48b5-b4e0-9c8f311af995",
        "colab": {
          "base_uri": "https://localhost:8080/",
          "height": 323
        }
      },
      "source": [
        "for i in range(len(topics_nr)):\n",
        "  print(\"Num Topics =\", topics_nr[i], \" has Coherence Value of\", round(coherence_values_mallet[i],4))"
      ],
      "execution_count": 0,
      "outputs": [
        {
          "output_type": "stream",
          "text": [
            "Num Topics = 2  has Coherence Value of 0.3064\n",
            "Num Topics = 3  has Coherence Value of 0.3695\n",
            "Num Topics = 4  has Coherence Value of 0.3703\n",
            "Num Topics = 5  has Coherence Value of 0.3871\n",
            "Num Topics = 6  has Coherence Value of 0.3947\n",
            "Num Topics = 7  has Coherence Value of 0.3802\n",
            "Num Topics = 8  has Coherence Value of 0.3892\n",
            "Num Topics = 9  has Coherence Value of 0.3845\n",
            "Num Topics = 10  has Coherence Value of 0.4145\n",
            "Num Topics = 11  has Coherence Value of 0.3954\n",
            "Num Topics = 12  has Coherence Value of 0.3799\n",
            "Num Topics = 13  has Coherence Value of 0.3507\n",
            "Num Topics = 14  has Coherence Value of 0.3777\n",
            "Num Topics = 15  has Coherence Value of 0.373\n",
            "Num Topics = 16  has Coherence Value of 0.3585\n",
            "Num Topics = 17  has Coherence Value of 0.3684\n",
            "Num Topics = 18  has Coherence Value of 0.3705\n",
            "Num Topics = 19  has Coherence Value of 0.368\n"
          ],
          "name": "stdout"
        }
      ]
    },
    {
      "cell_type": "code",
      "metadata": {
        "id": "oIso5UpAMk02",
        "colab_type": "code",
        "outputId": "08e76a7b-370d-45d4-f258-99f61f65452e",
        "colab": {
          "base_uri": "https://localhost:8080/",
          "height": 282
        }
      },
      "source": [
        "plt.plot(topics_nr, coherence_values_mallet)"
      ],
      "execution_count": 0,
      "outputs": [
        {
          "output_type": "execute_result",
          "data": {
            "text/plain": [
              "[<matplotlib.lines.Line2D at 0x7f8cee5a9cc0>]"
            ]
          },
          "metadata": {
            "tags": []
          },
          "execution_count": 52
        },
        {
          "output_type": "display_data",
          "data": {
            "image/png": "[encoded data removed]",
            "text/plain": [
              "<Figure size 432x288 with 1 Axes>"
            ]
          },
          "metadata": {
            "tags": [],
            "needs_background": "light"
          }
        }
      ]
    },
    {
      "cell_type": "code",
      "metadata": {
        "id": "zaRiYNAlQKY6",
        "colab_type": "code",
        "colab": {}
      },
      "source": [
        "# To analyse the results, the user can print the list of topics for different topic nr"
      ],
      "execution_count": 0,
      "outputs": []
    },
    {
      "cell_type": "code",
      "metadata": {
        "id": "JiK6edH3RA4G",
        "colab_type": "code",
        "colab": {}
      },
      "source": [
        "# print topics for nr of topics = 10\n",
        "%%capture\n",
        "numtopics = 10\n",
        "model = gensim.models.wrappers.LdaMallet(mallet_path, corpus=corpus, num_topics=numtopics, id2word=id2word)"
      ],
      "execution_count": 0,
      "outputs": []
    },
    {
      "cell_type": "code",
      "metadata": {
        "id": "p445G7PYDSin",
        "colab_type": "code",
        "outputId": "a8e2de46-02b5-405a-d588-8d941fe14ec0",
        "colab": {
          "base_uri": "https://localhost:8080/",
          "height": 377
        }
      },
      "source": [
        "model.print_topics()"
      ],
      "execution_count": 0,
      "outputs": [
        {
          "output_type": "execute_result",
          "data": {
            "text/plain": [
              "[(0,\n",
              "  '0.030*\"cardinale\" + 0.024*\"papa\" + 0.011*\"pontefice\" + 0.011*\"roma\" + 0.010*\"leone\" + 0.010*\"chiesa\" + 0.010*\"xiii\" + 0.010*\"conclave\" + 0.009*\"italiano\" + 0.008*\"vaticano\"'),\n",
              " (1,\n",
              "  '0.014*\"italiano\" + 0.007*\"vivo\" + 0.007*\"bandiera\" + 0.006*\"venezia\" + 0.005*\"azione\" + 0.005*\"sentire\" + 0.005*\"scrivere\" + 0.005*\"studente\" + 0.005*\"storia\" + 0.004*\"patrio\"'),\n",
              " (2,\n",
              "  '0.013*\"potere\" + 0.012*\"leggere\" + 0.007*\"nuovo\" + 0.007*\"comune\" + 0.006*\"sociale\" + 0.006*\"passare\" + 0.006*\"popolare\" + 0.005*\"lottare\" + 0.005*\"classe\" + 0.005*\"perchè\"'),\n",
              " (3,\n",
              "  '0.016*\"italiano\" + 0.014*\"telegrafico\" + 0.011*\"giornale\" + 0.009*\"grave\" + 0.008*\"francese\" + 0.008*\"dispaccio\" + 0.008*\"parigi\" + 0.008*\"presidente\" + 0.007*\"parlare\" + 0.007*\"daily\"'),\n",
              " (4,\n",
              "  '0.010*\"gran\" + 0.009*\"morto\" + 0.009*\"dovere\" + 0.008*\"recere\" + 0.008*\"ebreo\" + 0.008*\"dispaccio\" + 0.007*\"maggio\" + 0.007*\"polizia\" + 0.006*\"fatto\" + 0.006*\"popolare\"'),\n",
              " (5,\n",
              "  '0.019*\"venire\" + 0.012*\"trovare\" + 0.011*\"dare\" + 0.011*\"dire\" + 0.011*\"italia\" + 0.008*\"italian\" + 0.008*\"volere\" + 0.008*\"mentire\" + 0.006*\"largest\" + 0.006*\"costare\"'),\n",
              " (6,\n",
              "  '0.012*\"giugno\" + 0.009*\"regina\" + 0.008*\"dispaccio\" + 0.008*\"potere\" + 0.007*\"ministero\" + 0.007*\"rimanere\" + 0.006*\"serbia\" + 0.006*\"venire\" + 0.006*\"belgrado\" + 0.006*\"relazione\"'),\n",
              " (7,\n",
              "  '0.011*\"italiano\" + 0.010*\"telegrafico\" + 0.009*\"york\" + 0.009*\"italia\" + 0.008*\"dirigere\" + 0.007*\"piroscafo\" + 0.007*\"nuovo\" + 0.007*\"navigazione\" + 0.007*\"genova\" + 0.006*\"produrre\"'),\n",
              " (8,\n",
              "  '0.030*\"italiano\" + 0.016*\"giornale\" + 0.013*\"americano\" + 0.011*\"operare\" + 0.010*\"potere\" + 0.010*\"italia\" + 0.009*\"daily\" + 0.009*\"unito\" + 0.007*\"dispaccio\" + 0.006*\"telegrafico\"'),\n",
              " (9,\n",
              "  '0.020*\"roma\" + 0.013*\"visitare\" + 0.011*\"italiano\" + 0.010*\"marconi\" + 0.010*\"italia\" + 0.007*\"parigi\" + 0.007*\"dispaccio\" + 0.006*\"patrio\" + 0.006*\"daily\" + 0.006*\"nave\"')]"
            ]
          },
          "metadata": {
            "tags": []
          },
          "execution_count": 67
        }
      ]
    },
    {
      "cell_type": "markdown",
      "metadata": {
        "id": "Tn70q1uGWx40",
        "colab_type": "text"
      },
      "source": [
        "# Topic distribution"
      ]
    },
    {
      "cell_type": "markdown",
      "metadata": {
        "id": "G-nJuD7-XCyf",
        "colab_type": "text"
      },
      "source": [
        "## 3.1. Gensim"
      ]
    },
    {
      "cell_type": "markdown",
      "metadata": {
        "id": "tJQWcQhLXN0A",
        "colab_type": "text"
      },
      "source": [
        "### 3.1.1. Distribution per topic and per document"
      ]
    },
    {
      "cell_type": "code",
      "metadata": {
        "id": "uCv_Yd4LXNCs",
        "colab_type": "code",
        "colab": {}
      },
      "source": [
        "%%capture\n",
        "numtopics = 6\n",
        "ldamodel = models.LdaModel(corpus, num_topics=numtopics, id2word = id2word, minimum_probability=0)"
      ],
      "execution_count": 0,
      "outputs": []
    },
    {
      "cell_type": "code",
      "metadata": {
        "id": "4Ev971D4W42k",
        "colab_type": "code",
        "colab": {}
      },
      "source": [
        "distribution_gensim = pd.DataFrame(index=[i for i in range(len(corpus))],columns=[f'topic{i}' for i in range(numtopics)])"
      ],
      "execution_count": 0,
      "outputs": []
    },
    {
      "cell_type": "code",
      "metadata": {
        "id": "wnwP-6RTXcFb",
        "colab_type": "code",
        "colab": {}
      },
      "source": [
        "#lda.get_document_topics\n",
        "\n",
        "for i in range(len(corpus)):\n",
        "  row = [list(j)[1] for j in ldamodel.get_document_topics(corpus[i]) ]\n",
        "  distribution_gensim.loc[i] = row\n",
        "\n",
        "#for i in range(len(corpus)):\n",
        "#  row = [list(j)[1] for j in ldamodel[corpus[i]]] \n",
        "#  distribution_gensim.loc[i] = row"
      ],
      "execution_count": 0,
      "outputs": []
    },
    {
      "cell_type": "code",
      "metadata": {
        "id": "ZTae6F04Jq_G",
        "colab_type": "code",
        "colab": {}
      },
      "source": [
        "#testing\n",
        "# ldamodel[corpus[0]]"
      ],
      "execution_count": 0,
      "outputs": []
    },
    {
      "cell_type": "code",
      "metadata": {
        "id": "LbjOmF7EJyEm",
        "colab_type": "code",
        "colab": {}
      },
      "source": [
        "# ldamodel.get_document_topics(corpus[0])"
      ],
      "execution_count": 0,
      "outputs": []
    },
    {
      "cell_type": "code",
      "metadata": {
        "id": "nuNjFvpSXf33",
        "colab_type": "code",
        "colab": {}
      },
      "source": [
        "# add file name\n",
        "distribution_gensim.insert(0, 'document_path', sources['file_name'])"
      ],
      "execution_count": 0,
      "outputs": []
    },
    {
      "cell_type": "code",
      "metadata": {
        "id": "UN5EDiq4Xjeq",
        "colab_type": "code",
        "outputId": "04144f77-bd2b-4fa3-dfa3-91f2ae66c187",
        "colab": {
          "base_uri": "https://localhost:8080/",
          "height": 589
        }
      },
      "source": [
        "distribution_gensim"
      ],
      "execution_count": 46,
      "outputs": [
        {
          "output_type": "execute_result",
          "data": {
            "text/html": [
              "<div>\n",
              "<style scoped>\n",
              "    .dataframe tbody tr th:only-of-type {\n",
              "        vertical-align: middle;\n",
              "    }\n",
              "\n",
              "    .dataframe tbody tr th {\n",
              "        vertical-align: top;\n",
              "    }\n",
              "\n",
              "    .dataframe thead th {\n",
              "        text-align: right;\n",
              "    }\n",
              "</style>\n",
              "<table border=\"1\" class=\"dataframe\">\n",
              "  <thead>\n",
              "    <tr style=\"text-align: right;\">\n",
              "      <th></th>\n",
              "      <th>document_path</th>\n",
              "      <th>topic0</th>\n",
              "      <th>topic1</th>\n",
              "      <th>topic2</th>\n",
              "      <th>topic3</th>\n",
              "      <th>topic4</th>\n",
              "      <th>topic5</th>\n",
              "    </tr>\n",
              "  </thead>\n",
              "  <tbody>\n",
              "    <tr>\n",
              "      <th>0</th>\n",
              "      <td>sn85066408_1903-04-27_ed-1_seq-1_ocr.txt</td>\n",
              "      <td>0.000118036</td>\n",
              "      <td>0.0761749</td>\n",
              "      <td>0.000117948</td>\n",
              "      <td>0.000117974</td>\n",
              "      <td>0.919603</td>\n",
              "      <td>0.00386832</td>\n",
              "    </tr>\n",
              "    <tr>\n",
              "      <th>1</th>\n",
              "      <td>sn85066408_1903-04-28_ed-1_seq-1_ocr.txt</td>\n",
              "      <td>0.000104789</td>\n",
              "      <td>0.999476</td>\n",
              "      <td>0.000104644</td>\n",
              "      <td>0.000104705</td>\n",
              "      <td>0.000104742</td>\n",
              "      <td>0.00010474</td>\n",
              "    </tr>\n",
              "    <tr>\n",
              "      <th>2</th>\n",
              "      <td>sn85066408_1903-04-29_ed-1_seq-1_ocr.txt</td>\n",
              "      <td>0.000142584</td>\n",
              "      <td>0.999287</td>\n",
              "      <td>0.0001423</td>\n",
              "      <td>0.000142437</td>\n",
              "      <td>0.000142539</td>\n",
              "      <td>0.000142664</td>\n",
              "    </tr>\n",
              "    <tr>\n",
              "      <th>3</th>\n",
              "      <td>sn85066408_1903-04-30_ed-1_seq-1_ocr.txt</td>\n",
              "      <td>0.0169658</td>\n",
              "      <td>0.0318278</td>\n",
              "      <td>0.000149266</td>\n",
              "      <td>0.000149533</td>\n",
              "      <td>0.429305</td>\n",
              "      <td>0.521603</td>\n",
              "    </tr>\n",
              "    <tr>\n",
              "      <th>4</th>\n",
              "      <td>sn85066408_1903-05-01_ed-1_seq-1_ocr.txt</td>\n",
              "      <td>0.000234771</td>\n",
              "      <td>0.998826</td>\n",
              "      <td>0.000234457</td>\n",
              "      <td>0.00023474</td>\n",
              "      <td>0.000235312</td>\n",
              "      <td>0.00023487</td>\n",
              "    </tr>\n",
              "    <tr>\n",
              "      <th>...</th>\n",
              "      <td>...</td>\n",
              "      <td>...</td>\n",
              "      <td>...</td>\n",
              "      <td>...</td>\n",
              "      <td>...</td>\n",
              "      <td>...</td>\n",
              "      <td>...</td>\n",
              "    </tr>\n",
              "    <tr>\n",
              "      <th>95</th>\n",
              "      <td>sn85066408_1903-08-05_ed-1_seq-1_ocr.txt</td>\n",
              "      <td>0.000446949</td>\n",
              "      <td>0.000446986</td>\n",
              "      <td>0.000447329</td>\n",
              "      <td>0.000447503</td>\n",
              "      <td>0.074258</td>\n",
              "      <td>0.923953</td>\n",
              "    </tr>\n",
              "    <tr>\n",
              "      <th>96</th>\n",
              "      <td>sn85066408_1903-08-06_ed-1_seq-1_ocr.txt</td>\n",
              "      <td>0.00341992</td>\n",
              "      <td>0.171616</td>\n",
              "      <td>0.0330712</td>\n",
              "      <td>0.00202496</td>\n",
              "      <td>0.647128</td>\n",
              "      <td>0.142739</td>\n",
              "    </tr>\n",
              "    <tr>\n",
              "      <th>97</th>\n",
              "      <td>sn85066408_1903-08-07_ed-1_seq-1_ocr.txt</td>\n",
              "      <td>0.333984</td>\n",
              "      <td>0.000120043</td>\n",
              "      <td>0.0354564</td>\n",
              "      <td>0.00011996</td>\n",
              "      <td>0.500432</td>\n",
              "      <td>0.129888</td>\n",
              "    </tr>\n",
              "    <tr>\n",
              "      <th>98</th>\n",
              "      <td>2012271201_1903-08-08_ed-1_seq-1_ocr.txt</td>\n",
              "      <td>0.000239636</td>\n",
              "      <td>0.63149</td>\n",
              "      <td>0.000239138</td>\n",
              "      <td>0.000239433</td>\n",
              "      <td>0.367553</td>\n",
              "      <td>0.000239362</td>\n",
              "    </tr>\n",
              "    <tr>\n",
              "      <th>99</th>\n",
              "      <td>sn85066408_1903-08-08_ed-1_seq-1_ocr.txt</td>\n",
              "      <td>0.000128426</td>\n",
              "      <td>0.0547984</td>\n",
              "      <td>0.000135295</td>\n",
              "      <td>0.00012829</td>\n",
              "      <td>0.944681</td>\n",
              "      <td>0.000128338</td>\n",
              "    </tr>\n",
              "  </tbody>\n",
              "</table>\n",
              "<p>100 rows × 7 columns</p>\n",
              "</div>"
            ],
            "text/plain": [
              "                               document_path  ...       topic5\n",
              "0   sn85066408_1903-04-27_ed-1_seq-1_ocr.txt  ...   0.00386832\n",
              "1   sn85066408_1903-04-28_ed-1_seq-1_ocr.txt  ...   0.00010474\n",
              "2   sn85066408_1903-04-29_ed-1_seq-1_ocr.txt  ...  0.000142664\n",
              "3   sn85066408_1903-04-30_ed-1_seq-1_ocr.txt  ...     0.521603\n",
              "4   sn85066408_1903-05-01_ed-1_seq-1_ocr.txt  ...   0.00023487\n",
              "..                                       ...  ...          ...\n",
              "95  sn85066408_1903-08-05_ed-1_seq-1_ocr.txt  ...     0.923953\n",
              "96  sn85066408_1903-08-06_ed-1_seq-1_ocr.txt  ...     0.142739\n",
              "97  sn85066408_1903-08-07_ed-1_seq-1_ocr.txt  ...     0.129888\n",
              "98  2012271201_1903-08-08_ed-1_seq-1_ocr.txt  ...  0.000239362\n",
              "99  sn85066408_1903-08-08_ed-1_seq-1_ocr.txt  ...  0.000128338\n",
              "\n",
              "[100 rows x 7 columns]"
            ]
          },
          "metadata": {
            "tags": []
          },
          "execution_count": 46
        }
      ]
    },
    {
      "cell_type": "markdown",
      "metadata": {
        "id": "Q1EdarG6YJFp",
        "colab_type": "text"
      },
      "source": [
        "### 3.1.2. Distribution per topic for the whole corpus"
      ]
    },
    {
      "cell_type": "code",
      "metadata": {
        "id": "tfJC-mt7S4Je",
        "colab_type": "code",
        "colab": {}
      },
      "source": [
        "from __future__ import absolute_import\n",
        "import funcy as fp\n",
        "import numpy as np\n",
        "from scipy.sparse import issparse\n",
        "\n",
        "\n",
        "def _extract_data(topic_model, corpus, dictionary, doc_topic_dists=None):\n",
        "    import gensim\n",
        "\n",
        "    if not gensim.matutils.ismatrix(corpus):\n",
        "        corpus_csc = gensim.matutils.corpus2csc(corpus, num_terms=len(dictionary))\n",
        "    else:\n",
        "        corpus_csc = corpus\n",
        "        # Need corpus to be a streaming gensim list corpus for len and inference functions below:\n",
        "        corpus = gensim.matutils.Sparse2Corpus(corpus_csc)\n",
        "\n",
        "    vocab = list(dictionary.token2id.keys())\n",
        "    # TODO: add the hyperparam to smooth it out? no beta in online LDA impl.. hmm..\n",
        "    # for now, I'll just make sure we don't ever get zeros...\n",
        "    beta = 0.01\n",
        "    fnames_argsort = np.asarray(list(dictionary.token2id.values()), dtype=np.int_)\n",
        "    term_freqs = corpus_csc.sum(axis=1).A.ravel()[fnames_argsort]\n",
        "    term_freqs[term_freqs == 0] = beta\n",
        "    doc_lengths = corpus_csc.sum(axis=0).A.ravel()\n",
        "\n",
        "    assert term_freqs.shape[0] == len(dictionary),\\\n",
        "        'Term frequencies and dictionary have different shape {} != {}'.format(\n",
        "        term_freqs.shape[0], len(dictionary))\n",
        "    assert doc_lengths.shape[0] == len(corpus),\\\n",
        "        'Document lengths and corpus have different sizes {} != {}'.format(\n",
        "        doc_lengths.shape[0], len(corpus))\n",
        "\n",
        "    if hasattr(topic_model, 'lda_alpha'):\n",
        "        num_topics = len(topic_model.lda_alpha)\n",
        "    else:\n",
        "        num_topics = topic_model.num_topics\n",
        "\n",
        "    if doc_topic_dists is None:\n",
        "        # If its an HDP model.\n",
        "        if hasattr(topic_model, 'lda_beta'):\n",
        "            gamma = topic_model.inference(corpus)\n",
        "        else:\n",
        "            gamma, _ = topic_model.inference(corpus)\n",
        "        doc_topic_dists = gamma / gamma.sum(axis=1)[:, None]\n",
        "    else:\n",
        "        if isinstance(doc_topic_dists, list):\n",
        "            doc_topic_dists = gensim.matutils.corpus2dense(doc_topic_dists, num_topics).T\n",
        "        elif issparse(doc_topic_dists):\n",
        "            doc_topic_dists = doc_topic_dists.T.todense()\n",
        "        doc_topic_dists = doc_topic_dists / doc_topic_dists.sum(axis=1)\n",
        "\n",
        "    assert doc_topic_dists.shape[1] == num_topics,\\\n",
        "        'Document topics and number of topics do not match {} != {}'.format(\n",
        "        doc_topic_dists.shape[1], num_topics)\n",
        "\n",
        "    # get the topic-term distribution straight from gensim without\n",
        "    # iterating over tuples\n",
        "    if hasattr(topic_model, 'lda_beta'):\n",
        "        topic = topic_model.lda_beta\n",
        "    else:\n",
        "        topic = topic_model.state.get_lambda()\n",
        "    topic = topic / topic.sum(axis=1)[:, None]\n",
        "    topic_term_dists = topic[:, fnames_argsort]\n",
        "\n",
        "    assert topic_term_dists.shape[0] == doc_topic_dists.shape[1]\n",
        "\n",
        "    return {'topic_term_dists': topic_term_dists, 'doc_topic_dists': doc_topic_dists,\n",
        "            'doc_lengths': doc_lengths, 'vocab': vocab, 'term_frequency': term_freqs}\n"
      ],
      "execution_count": 0,
      "outputs": []
    },
    {
      "cell_type": "code",
      "metadata": {
        "id": "CtqpFxYfTdcU",
        "colab_type": "code",
        "colab": {}
      },
      "source": [
        "%%capture\n",
        "ldamodel = models.LdaModel(corpus, num_topics=numtopics, id2word = id2word, minimum_probability=0)"
      ],
      "execution_count": 0,
      "outputs": []
    },
    {
      "cell_type": "code",
      "metadata": {
        "id": "ccQ19ysYTRwP",
        "colab_type": "code",
        "colab": {
          "base_uri": "https://localhost:8080/",
          "height": 1000
        },
        "outputId": "94679e79-949a-4120-c409-5987eb2dc5d9"
      },
      "source": [
        "_extract_data(ldamodel, corpus=corpus, dictionary=id2word, doc_topic_dists=None)"
      ],
      "execution_count": 51,
      "outputs": [
        {
          "output_type": "execute_result",
          "data": {
            "text/plain": [
              "{'doc_lengths': array([1425., 1605., 1179., 1125.,  715., 1599., 1663., 1507., 1062.,\n",
              "        1189., 1473., 1401.,  894., 1090., 1245., 1089.,  934., 1008.,\n",
              "        1582., 1450., 1607., 1352., 1181., 1605., 1539., 1166., 1507.,\n",
              "        1562., 1586., 1213., 1611., 1339., 1494., 1596., 1588.,  658.,\n",
              "        1494., 1476., 1776., 1539., 1442.,  918.,  738., 1629., 1141.,\n",
              "        1208., 1582., 1219., 1380.,  742., 1056., 1369., 1632., 1372.,\n",
              "        1409., 1494.,  749., 1492., 1471., 1411., 1703., 1526., 1579.,\n",
              "         784., 1742.,  968., 1113.,  937., 1506., 1618.,    2., 1335.,\n",
              "        1495., 1567., 1208., 1540., 1573.,  758., 1528., 1069.,  920.,\n",
              "         897.,  951., 1656.,  709., 1218., 1135., 1191., 1180., 1420.,\n",
              "        1525.,  751., 1529., 1592., 1188.,  375., 1270., 1401.,  701.,\n",
              "        1309.]),\n",
              " 'doc_topic_dists': array([[1.18059768e-04, 6.24393055e-04, 6.71128869e-01, 2.36556493e-02,\n",
              "         1.17884469e-04, 3.04355115e-01],\n",
              "        [5.62333763e-02, 1.04755825e-04, 2.71526605e-01, 3.62336427e-01,\n",
              "         3.07625264e-01, 2.17358023e-03],\n",
              "        [1.59084454e-01, 1.02069564e-02, 5.05316138e-01, 1.42432793e-04,\n",
              "         1.42559147e-04, 3.25107425e-01],\n",
              "        [2.97601491e-01, 3.75228556e-04, 6.40739799e-02, 6.13522157e-02,\n",
              "         1.49377447e-04, 5.76447666e-01],\n",
              "        [2.35095431e-04, 1.37338445e-01, 8.23755383e-01, 2.34900785e-04,\n",
              "         1.20994225e-02, 2.63366736e-02],\n",
              "        [1.05218140e-04, 1.05172890e-04, 3.47418308e-01, 1.05182589e-04,\n",
              "         1.34529024e-02, 6.38813198e-01],\n",
              "        [2.92822311e-04, 1.90667540e-01, 8.06365788e-01, 1.01026824e-04,\n",
              "         1.01157224e-04, 2.47168331e-03],\n",
              "        [3.28370817e-02, 9.43334818e-01, 2.34934054e-02, 1.11640657e-04,\n",
              "         1.11487039e-04, 1.11574191e-04],\n",
              "        [7.15873778e-01, 1.15788486e-02, 2.72072405e-01, 1.58361814e-04,\n",
              "         1.58230861e-04, 1.58350376e-04],\n",
              "        [1.41423603e-04, 1.41342200e-04, 9.99267459e-01, 1.41391734e-04,\n",
              "         1.41401324e-04, 1.67029211e-04],\n",
              "        [1.14206086e-04, 1.14042552e-04, 9.51850772e-01, 1.14035349e-04,\n",
              "         1.14012655e-04, 4.76928875e-02],\n",
              "        [9.84067097e-03, 1.20019213e-04, 2.57086873e-01, 6.26314640e-01,\n",
              "         1.19928533e-04, 1.06517948e-01],\n",
              "        [9.78733242e-01, 1.87923259e-04, 2.05150675e-02, 1.87770609e-04,\n",
              "         1.87917307e-04, 1.88105550e-04],\n",
              "        [1.54228081e-04, 1.54348396e-04, 6.66262507e-01, 3.33120584e-01,\n",
              "         1.54040463e-04, 1.54337264e-04],\n",
              "        [1.40514006e-04, 3.83421173e-03, 3.47823612e-02, 1.35026261e-04,\n",
              "         1.35090027e-04, 9.60972786e-01],\n",
              "        [8.03495944e-03, 1.54474226e-04, 2.78568398e-02, 1.54403577e-04,\n",
              "         9.19131339e-01, 4.46680114e-02],\n",
              "        [1.79842988e-04, 1.79905575e-04, 1.79964176e-04, 1.79882409e-04,\n",
              "         1.79586263e-04, 9.99100804e-01],\n",
              "        [1.66705533e-04, 1.66519676e-04, 8.20474863e-01, 1.66433820e-04,\n",
              "         1.66720478e-04, 1.78858772e-01],\n",
              "        [1.20450836e-02, 2.49798838e-02, 1.88977480e-01, 1.06357002e-04,\n",
              "         1.06234387e-04, 7.73784995e-01],\n",
              "        [1.16017363e-04, 9.75717674e-04, 9.24857676e-01, 3.93816922e-03,\n",
              "         6.99964836e-02, 1.15968280e-04],\n",
              "        [1.04702223e-04, 9.97647882e-01, 1.04705643e-04, 1.04618164e-04,\n",
              "         1.04634804e-04, 1.93357700e-03],\n",
              "        [1.24339495e-04, 2.26716767e-03, 7.52272964e-01, 2.45086759e-01,\n",
              "         1.24319253e-04, 1.24425089e-04],\n",
              "        [1.42362740e-04, 1.42196048e-04, 8.28095615e-01, 1.42337580e-04,\n",
              "         1.42274570e-04, 1.71335235e-01],\n",
              "        [9.57285404e-01, 1.04646322e-04, 1.04854342e-04, 1.04691571e-04,\n",
              "         1.04760336e-04, 4.22955975e-02],\n",
              "        [1.09278699e-04, 3.50347953e-03, 9.02251363e-01, 1.09303794e-04,\n",
              "         1.09267094e-04, 9.39174294e-02],\n",
              "        [1.44131613e-04, 1.44224832e-04, 9.99279320e-01, 1.44081452e-04,\n",
              "         1.44155274e-04, 1.44172649e-04],\n",
              "        [1.11577749e-04, 1.11371206e-04, 9.99442816e-01, 1.11434216e-04,\n",
              "         1.11323527e-04, 1.11433757e-04],\n",
              "        [4.33411151e-02, 1.79048657e-01, 5.82737088e-01, 1.07619868e-04,\n",
              "         7.52233109e-03, 1.87243104e-01],\n",
              "        [1.06002073e-04, 6.28542423e-01, 3.71033520e-01, 1.06062573e-04,\n",
              "         1.05953783e-04, 1.06099331e-04],\n",
              "        [1.38668023e-04, 1.38672185e-04, 9.51412499e-01, 4.78511713e-02,\n",
              "         1.38550589e-04, 3.20421997e-04],\n",
              "        [2.30192006e-01, 1.04421772e-04, 3.88309248e-02, 1.74178872e-02,\n",
              "         1.58160998e-04, 7.13296592e-01],\n",
              "        [1.25613005e-04, 1.25518010e-04, 1.25664621e-04, 9.99372184e-01,\n",
              "         1.25402730e-04, 1.25622566e-04],\n",
              "        [1.13582675e-04, 1.87747041e-03, 3.54224950e-01, 1.16589190e-02,\n",
              "         3.71454470e-02, 5.94979584e-01],\n",
              "        [5.34214720e-04, 1.05313055e-04, 3.73410702e-01, 4.89767998e-01,\n",
              "         1.05367493e-04, 1.36076480e-01],\n",
              "        [1.05945684e-04, 7.66852796e-01, 3.76362726e-02, 1.05914100e-04,\n",
              "         1.05765415e-04, 1.95193231e-01],\n",
              "        [2.54973973e-04, 1.39315963e-01, 2.54719780e-04, 8.59663546e-01,\n",
              "         2.55333551e-04, 2.55450461e-04],\n",
              "        [2.89425045e-01, 1.12472582e-04, 2.27025561e-02, 1.12795140e-04,\n",
              "         1.12504182e-04, 6.87534630e-01],\n",
              "        [1.13946968e-04, 6.01046078e-04, 6.12841666e-01, 1.13914655e-04,\n",
              "         1.13793380e-04, 3.86215627e-01],\n",
              "        [9.55337644e-01, 9.46556684e-05, 2.41154130e-03, 9.48050874e-05,\n",
              "         9.47285589e-05, 4.19666357e-02],\n",
              "        [1.09313718e-04, 1.14155347e-02, 5.33633709e-01, 1.09201050e-04,\n",
              "         1.09186032e-04, 4.54622984e-01],\n",
              "        [4.89515364e-02, 1.16564588e-04, 4.62472476e-02, 9.04451311e-01,\n",
              "         1.16623509e-04, 1.16695308e-04],\n",
              "        [1.82861899e-04, 1.82917327e-04, 1.83197990e-04, 1.82809468e-04,\n",
              "         1.82627744e-04, 9.99085605e-01],\n",
              "        [2.27339013e-04, 2.27117140e-04, 9.98863935e-01, 2.27071781e-04,\n",
              "         2.27238939e-04, 2.27385739e-04],\n",
              "        [1.03225138e-04, 1.03175538e-04, 5.52091340e-04, 1.03246530e-04,\n",
              "         1.03041639e-04, 9.99035180e-01],\n",
              "        [1.47443090e-04, 1.47481886e-04, 1.10022752e-02, 1.47382569e-04,\n",
              "         1.47208993e-04, 9.88408208e-01],\n",
              "        [1.39262760e-04, 1.38972013e-04, 1.39115495e-04, 2.73217587e-03,\n",
              "         1.38908814e-04, 9.96711552e-01],\n",
              "        [9.42299366e-02, 1.06227475e-04, 1.06321277e-04, 1.06324784e-04,\n",
              "         9.24664177e-03, 8.96204531e-01],\n",
              "        [3.88433754e-01, 1.37832190e-04, 1.52863171e-02, 4.53854620e-01,\n",
              "         1.37781259e-04, 1.42149687e-01],\n",
              "        [1.21788442e-04, 2.52127051e-01, 1.48118852e-04, 1.22181576e-04,\n",
              "         1.21846322e-04, 7.47359037e-01],\n",
              "        [2.26640594e-04, 2.26111835e-04, 2.26311604e-04, 2.25929907e-04,\n",
              "         9.98868585e-01, 2.26413526e-04],\n",
              "        [5.48410356e-01, 1.59161646e-04, 3.06534678e-01, 6.70334101e-02,\n",
              "         1.59191259e-04, 7.77032971e-02],\n",
              "        [8.71380493e-02, 1.22774421e-04, 7.49195337e-01, 1.63298175e-01,\n",
              "         1.22796046e-04, 1.22837097e-04],\n",
              "        [7.47628450e-01, 1.03073893e-04, 3.14637367e-03, 1.03056154e-04,\n",
              "         1.03546976e-04, 2.48915493e-01],\n",
              "        [2.73307948e-03, 1.45597063e-04, 9.41506743e-01, 1.22592130e-04,\n",
              "         4.55884002e-02, 9.90357995e-03],\n",
              "        [1.19400291e-04, 2.58945767e-02, 9.48813558e-01, 1.19417258e-04,\n",
              "         1.19261043e-04, 2.49337330e-02],\n",
              "        [8.94194818e-04, 1.12716887e-04, 9.98325825e-01, 1.12555375e-04,\n",
              "         1.12459558e-04, 4.42296470e-04],\n",
              "        [1.52465001e-01, 4.00166633e-03, 7.95754135e-01, 1.76158547e-02,\n",
              "         2.99390070e-02, 2.24326766e-04],\n",
              "        [1.61437616e-01, 1.12762173e-04, 1.08199693e-01, 4.09492016e-01,\n",
              "         1.12684989e-04, 3.20645243e-01],\n",
              "        [9.99428809e-01, 1.14125040e-04, 1.14399125e-04, 1.14287104e-04,\n",
              "         1.14215203e-04, 1.14240705e-04],\n",
              "        [2.51935162e-02, 1.19117700e-04, 8.52197349e-01, 1.19142169e-04,\n",
              "         1.19131670e-04, 1.22251719e-01],\n",
              "        [9.99506712e-01, 9.85925653e-05, 9.87516469e-05, 9.86576488e-05,\n",
              "         9.85138176e-05, 9.88414540e-05],\n",
              "        [2.77672894e-02, 1.10215471e-04, 5.00001371e-01, 1.10164379e-04,\n",
              "         4.71895814e-01, 1.15097260e-04],\n",
              "        [5.78614175e-01, 1.06523861e-04, 7.63597861e-02, 6.88985661e-02,\n",
              "         1.06453350e-04, 2.75914431e-01],\n",
              "        [1.73061013e-01, 6.36252105e-01, 2.14382060e-04, 1.90044016e-01,\n",
              "         2.14276282e-04, 2.14209795e-04],\n",
              "        [7.96284378e-01, 9.64176579e-05, 9.65631407e-05, 9.63119746e-05,\n",
              "         9.63152561e-05, 2.03330025e-01],\n",
              "        [2.09350571e-01, 2.10347563e-01, 5.24734676e-01, 1.73607070e-04,\n",
              "         1.73665016e-04, 5.52199595e-02],\n",
              "        [5.48057519e-02, 1.50969718e-04, 9.44590807e-01, 1.50805179e-04,\n",
              "         1.50812863e-04, 1.50859560e-04],\n",
              "        [2.74294704e-01, 6.03979468e-01, 3.53320278e-02, 1.25078158e-03,\n",
              "         8.49635452e-02, 1.79469745e-04],\n",
              "        [1.21647336e-01, 1.11698559e-04, 8.21351349e-01, 1.40928663e-02,\n",
              "         1.11555244e-04, 4.26852815e-02],\n",
              "        [1.03946702e-04, 6.25723004e-02, 9.37011957e-01, 1.03906517e-04,\n",
              "         1.03877792e-04, 1.03973376e-04],\n",
              "        [5.55571206e-02, 7.22213686e-01, 5.55570237e-02, 5.55573888e-02,\n",
              "         5.55576123e-02, 5.55571616e-02],\n",
              "        [4.40635860e-01, 1.25944993e-04, 4.82129157e-01, 4.35496331e-04,\n",
              "         1.25803301e-04, 7.65476525e-02],\n",
              "        [1.12545596e-04, 1.12474678e-04, 9.99437809e-01, 1.12390713e-04,\n",
              "         1.12372451e-04, 1.12447611e-04],\n",
              "        [5.88745177e-01, 1.07278996e-04, 3.89153808e-01, 4.79334453e-03,\n",
              "         1.07337757e-04, 1.70929655e-02],\n",
              "        [1.39202821e-04, 2.60627642e-03, 6.92010462e-01, 2.60720849e-01,\n",
              "         1.39178184e-04, 4.43840884e-02],\n",
              "        [1.77239199e-04, 1.09168563e-04, 1.90644920e-01, 1.09205044e-04,\n",
              "         1.09094821e-04, 8.08850348e-01],\n",
              "        [3.59723647e-03, 1.06877858e-04, 9.95975256e-01, 1.06859312e-04,\n",
              "         1.06825202e-04, 1.06945641e-04],\n",
              "        [9.02224630e-02, 6.48357300e-03, 2.21600552e-04, 4.36312556e-01,\n",
              "         4.66538012e-01, 2.21786046e-04],\n",
              "        [3.49878259e-02, 1.10094152e-04, 1.22327183e-03, 3.59276205e-01,\n",
              "         1.10064655e-04, 6.04292512e-01],\n",
              "        [1.57228205e-04, 4.01283354e-01, 5.98088145e-01, 1.57140501e-04,\n",
              "         1.56965412e-04, 1.57243296e-04],\n",
              "        [2.93778598e-01, 6.98478281e-01, 1.82645352e-04, 1.82753851e-04,\n",
              "         7.19528832e-03, 1.82460892e-04],\n",
              "        [1.06499977e-01, 5.80849230e-01, 1.35205155e-02, 2.93459386e-01,\n",
              "         5.48359938e-03, 1.87305093e-04],\n",
              "        [9.99116778e-01, 1.76790199e-04, 1.76877904e-04, 1.76521746e-04,\n",
              "         1.76515794e-04, 1.76589223e-04],\n",
              "        [1.01596073e-04, 2.86160223e-02, 9.68444526e-01, 1.01549726e-04,\n",
              "         2.63480470e-03, 1.01575839e-04],\n",
              "        [2.55073577e-01, 2.36780033e-04, 5.57151973e-01, 1.87063605e-01,\n",
              "         2.36907668e-04, 2.37086933e-04],\n",
              "        [5.04977822e-01, 1.38062052e-04, 1.25400471e-02, 4.82067943e-01,\n",
              "         1.38101212e-04, 1.38053991e-04],\n",
              "        [9.99259710e-01, 1.48156250e-04, 1.48137071e-04, 1.47949439e-04,\n",
              "         1.48056773e-04, 1.47911123e-04],\n",
              "        [9.93893385e-01, 1.41035736e-04, 1.41180106e-04, 5.54203754e-03,\n",
              "         1.41171549e-04, 1.41091354e-04],\n",
              "        [5.83286703e-01, 1.42369230e-04, 1.42429926e-04, 1.42449993e-04,\n",
              "         4.16143477e-01, 1.42547404e-04],\n",
              "        [3.88723891e-03, 9.95639384e-01, 1.18431693e-04, 1.18293159e-04,\n",
              "         1.18171891e-04, 1.18357268e-04],\n",
              "        [9.99414027e-01, 1.10158966e-04, 1.45241487e-04, 1.10105138e-04,\n",
              "         1.10111978e-04, 1.10272536e-04],\n",
              "        [2.23416864e-04, 1.19207025e-01, 1.94448698e-02, 2.23383598e-04,\n",
              "         8.60677838e-01, 2.23463605e-04],\n",
              "        [9.91923153e-01, 2.75388267e-03, 4.99314023e-03, 1.09854343e-04,\n",
              "         1.09825007e-04, 1.10004541e-04],\n",
              "        [9.99472022e-01, 1.05679646e-04, 1.05611136e-04, 1.05611412e-04,\n",
              "         1.05478241e-04, 1.05696388e-04],\n",
              "        [1.79489955e-01, 8.19873929e-01, 2.11479972e-04, 1.41454337e-04,\n",
              "         1.41551282e-04, 1.41558645e-04],\n",
              "        [4.47083352e-04, 4.47262166e-04, 4.46830090e-04, 9.97764289e-01,\n",
              "         4.47788450e-04, 4.46826249e-04],\n",
              "        [2.37822384e-02, 1.32423069e-04, 2.45720590e-03, 1.32370158e-04,\n",
              "         1.32269750e-04, 9.73363519e-01],\n",
              "        [9.67345317e-04, 1.53055280e-01, 1.46658450e-01, 6.99068010e-01,\n",
              "         1.30922446e-04, 1.20020210e-04],\n",
              "        [2.39437126e-04, 2.39480403e-04, 2.39248082e-04, 9.98802423e-01,\n",
              "         2.39761110e-04, 2.39624831e-04],\n",
              "        [5.56067824e-02, 9.58271232e-03, 2.58487407e-02, 8.82846892e-01,\n",
              "         1.28395375e-04, 2.59863995e-02]], dtype=float32),\n",
              " 'term_frequency': array([ 4., 22.,  5., ...,  1.,  1.,  1.]),\n",
              " 'topic_term_dists': array([[3.88392000e-05, 1.33772293e-04, 4.09556487e-05, ...,\n",
              "         1.29717655e-05, 1.41216724e-05, 1.14505783e-05],\n",
              "        [3.37495949e-05, 1.26212908e-04, 3.75542877e-05, ...,\n",
              "         1.50973256e-05, 1.26268196e-05, 1.49792686e-05],\n",
              "        [3.32616510e-05, 1.65693884e-04, 3.45845219e-05, ...,\n",
              "         1.04695082e-05, 1.15809062e-05, 1.05973913e-05],\n",
              "        [3.09045790e-05, 1.42614590e-04, 3.86090069e-05, ...,\n",
              "         1.48569816e-05, 1.34102456e-05, 1.42953513e-05],\n",
              "        [2.59092667e-05, 1.25347011e-04, 4.08477463e-05, ...,\n",
              "         1.16252349e-05, 1.24024709e-05, 1.40382936e-05],\n",
              "        [2.55361047e-05, 1.69896986e-04, 3.59320620e-05, ...,\n",
              "         1.13894448e-05, 1.18192993e-05, 1.15146968e-05]], dtype=float32),\n",
              " 'vocab': ['1000',\n",
              "  '1021',\n",
              "  '1860',\n",
              "  '1888',\n",
              "  '1899',\n",
              "  '1902',\n",
              "  '1903',\n",
              "  '2000',\n",
              "  '4000',\n",
              "  '7000',\n",
              "  'abbandonare',\n",
              "  'abitare',\n",
              "  'accanire',\n",
              "  'accennare',\n",
              "  'accet',\n",
              "  'accettare',\n",
              "  'acciò',\n",
              "  'acclamarlo',\n",
              "  'accogliere',\n",
              "  'accompagnamento',\n",
              "  'accordare',\n",
              "  'accorto',\n",
              "  'accusare',\n",
              "  'acqua',\n",
              "  'aden',\n",
              "  'adoperare',\n",
              "  'adriani',\n",
              "  'affaire',\n",
              "  'affermare',\n",
              "  'affratellare',\n",
              "  'afrtcè',\n",
              "  'agenzia',\n",
              "  'agire',\n",
              "  'agitazione',\n",
              "  'agricoltu',\n",
              "  'agricoltura',\n",
              "  'aiti',\n",
              "  'aiutare',\n",
              "  'albani',\n",
              "  'alcun',\n",
              "  'alenare',\n",
              "  'alfredo',\n",
              "  'alia',\n",
              "  'almagia',\n",
              "  'alto',\n",
              "  'altro',\n",
              "  'alutorevoll',\n",
              "  'amador',\n",
              "  'amare',\n",
              "  'america',\n",
              "  'americano',\n",
              "  'amicare',\n",
              "  'amico',\n",
              "  'ammiratore',\n",
              "  'amorevole',\n",
              "  'andare',\n",
              "  'andré',\n",
              "  'animare',\n",
              "  'anna',\n",
              "  'ansare',\n",
              "  'antisemita',\n",
              "  'appuntire',\n",
              "  'aprile',\n",
              "  'aprire',\n",
              "  'arabo',\n",
              "  'arbitrale',\n",
              "  'ariteli',\n",
              "  'armare',\n",
              "  'arrestato',\n",
              "  'arrivare',\n",
              "  'artiglieria',\n",
              "  'artista',\n",
              "  'aspettare',\n",
              "  'asserire',\n",
              "  'assicurasi',\n",
              "  'assistere',\n",
              "  'associazione',\n",
              "  'associerà',\n",
              "  'assolutamente',\n",
              "  'ateniese',\n",
              "  'attività',\n",
              "  'atto',\n",
              "  'attuale',\n",
              "  'atudentl',\n",
              "  'aumentare',\n",
              "  'autorevole',\n",
              "  'autorità',\n",
              "  'autorizzare',\n",
              "  'avantl',\n",
              "  'avanzare',\n",
              "  'avvenire',\n",
              "  'avvisare',\n",
              "  'avvocato',\n",
              "  'barare',\n",
              "  'basire',\n",
              "  'battimento',\n",
              "  'beneficare',\n",
              "  'beran',\n",
              "  'berlino',\n",
              "  'berretto',\n",
              "  'bersagliali',\n",
              "  'bersagliere',\n",
              "  'bery',\n",
              "  'bessarabia',\n",
              "  'bianco',\n",
              "  'bieco',\n",
              "  'biglietto',\n",
              "  'bimbo',\n",
              "  'binario',\n",
              "  'bionico',\n",
              "  'bitrato',\n",
              "  'blindato',\n",
              "  'bluetti',\n",
              "  'boitobtt',\n",
              "  'bola',\n",
              "  'bolo',\n",
              "  'bologna',\n",
              "  'bolùto',\n",
              "  'bovio',\n",
              "  'bravo',\n",
              "  'breve',\n",
              "  'brougbam',\n",
              "  'budino',\n",
              "  'buon',\n",
              "  'cadere',\n",
              "  'caiabrlnt',\n",
              "  'calais',\n",
              "  'calanga',\n",
              "  'calcolare',\n",
              "  'california',\n",
              "  'caloroso',\n",
              "  'campagna',\n",
              "  'campanile',\n",
              "  'campire',\n",
              "  'cancelliere',\n",
              "  'cane',\n",
              "  'cannoniera',\n",
              "  'capitanare',\n",
              "  'capitare',\n",
              "  'capo',\n",
              "  'cappello',\n",
              "  'cappuclni',\n",
              "  'capucclnl',\n",
              "  'carattere',\n",
              "  'cardina',\n",
              "  'caricare',\n",
              "  'carrozzone',\n",
              "  'casa',\n",
              "  'causare',\n",
              "  'cavalleria',\n",
              "  'cavallo',\n",
              "  'celta',\n",
              "  'centemente',\n",
              "  'centinaio',\n",
              "  'centrare',\n",
              "  'cercare',\n",
              "  'cerimonia',\n",
              "  'cessare',\n",
              "  'chettl',\n",
              "  'chiedergli',\n",
              "  'chiesto',\n",
              "  'ciali',\n",
              "  'ciatori',\n",
              "  'cifra',\n",
              "  'cioè',\n",
              "  'circolo',\n",
              "  'circondare',\n",
              "  'circulation',\n",
              "  'cittadinanza',\n",
              "  'civile',\n",
              "  'clasa',\n",
              "  'classe',\n",
              "  'clausola',\n",
              "  'coart',\n",
              "  'colla',\n",
              "  'collegio',\n",
              "  'colloquiare',\n",
              "  'colonnare',\n",
              "  'comandare',\n",
              "  'combattimento',\n",
              "  'combi',\n",
              "  'comincierà',\n",
              "  'commerciale',\n",
              "  'commerciare',\n",
              "  'commissione',\n",
              "  'compagnia',\n",
              "  'compagno',\n",
              "  'componimento',\n",
              "  'comporre',\n",
              "  'comprare',\n",
              "  'concepire',\n",
              "  'concesso',\n",
              "  'condannato',\n",
              "  'condizione',\n",
              "  'conferire',\n",
              "  'confermare',\n",
              "  'confuso',\n",
              "  'congratulare',\n",
              "  'congresso',\n",
              "  'connazionale',\n",
              "  'conoscere',\n",
              "  'conse',\n",
              "  'consenso',\n",
              "  'considerevolmente',\n",
              "  'console',\n",
              "  'consueto',\n",
              "  'conta',\n",
              "  'contare',\n",
              "  'contea',\n",
              "  'continuare',\n",
              "  'continuo',\n",
              "  'contusione',\n",
              "  'convento',\n",
              "  'convenuto',\n",
              "  'copenaghen',\n",
              "  'coprire',\n",
              "  'cora',\n",
              "  'coraggio',\n",
              "  'coraggioso',\n",
              "  'corazzato',\n",
              "  'corda',\n",
              "  'cordella',\n",
              "  'cordo',\n",
              "  'corente',\n",
              "  'corre',\n",
              "  'correre',\n",
              "  'corrisponden',\n",
              "  'corto',\n",
              "  'cosa',\n",
              "  'costare',\n",
              "  'crisi',\n",
              "  'cristiano',\n",
              "  'cronaca',\n",
              "  'cucire',\n",
              "  'cuore',\n",
              "  'curare',\n",
              "  'curiosare',\n",
              "  'cuturt',\n",
              "  'daily',\n",
              "  'dani',\n",
              "  'dare',\n",
              "  'dbbna',\n",
              "  'debbono',\n",
              "  'debito',\n",
              "  'decisione',\n",
              "  'deciso',\n",
              "  'definitivamente',\n",
              "  'definitivo',\n",
              "  'definito',\n",
              "  'defunto',\n",
              "  'delegali',\n",
              "  'delegato',\n",
              "  'delia',\n",
              "  'deliberazione',\n",
              "  'delirami',\n",
              "  'demolire',\n",
              "  'dente',\n",
              "  'depositare',\n",
              "  'deputato',\n",
              "  'derive',\n",
              "  'derà',\n",
              "  'destinare',\n",
              "  'destinazione',\n",
              "  'determinato',\n",
              "  'diata',\n",
              "  'dichiarare',\n",
              "  'dimorare',\n",
              "  'dimostrare',\n",
              "  'dimostrazione',\n",
              "  'dionale',\n",
              "  'dire',\n",
              "  'direttoci',\n",
              "  'dirigere',\n",
              "  'disaccor',\n",
              "  'discepolo',\n",
              "  'discussione',\n",
              "  'discutere',\n",
              "  'disordine',\n",
              "  'dispaccio',\n",
              "  'disporre',\n",
              "  'distare',\n",
              "  'distinto',\n",
              "  'disturbatore',\n",
              "  'diverso',\n",
              "  'divo',\n",
              "  'dleturbi',\n",
              "  'dlon',\n",
              "  'docu',\n",
              "  'dodici',\n",
              "  'dogli',\n",
              "  'dolo',\n",
              "  'dolorosamente',\n",
              "  'domeni',\n",
              "  'domenica',\n",
              "  'dottaie',\n",
              "  'dovere',\n",
              "  'dreyfus',\n",
              "  'drus',\n",
              "  'duellare',\n",
              "  'dupacc',\n",
              "  'durare',\n",
              "  'durtesa',\n",
              "  'eberel',\n",
              "  'ebreo',\n",
              "  'eccet',\n",
              "  'edoardo',\n",
              "  'effet',\n",
              "  'effetto',\n",
              "  'eltred',\n",
              "  'emanare',\n",
              "  'emanuele',\n",
              "  'emettere',\n",
              "  'energico',\n",
              "  'entrare',\n",
              "  'eomamlare',\n",
              "  'equazione',\n",
              "  'ercolino',\n",
              "  'esatto',\n",
              "  'esistenza',\n",
              "  'esperire',\n",
              "  'espri',\n",
              "  'esprimere',\n",
              "  'essa',\n",
              "  'estate',\n",
              "  'estensione',\n",
              "  'esterno',\n",
              "  'estero',\n",
              "  'estinto',\n",
              "  'estraneo',\n",
              "  'estremo',\n",
              "  'etienne',\n",
              "  'etili',\n",
              "  'europeo',\n",
              "  'evans',\n",
              "  'evenienza',\n",
              "  'evitare',\n",
              "  'faccenda',\n",
              "  'facoltà',\n",
              "  'falso',\n",
              "  'fama',\n",
              "  'famiglia',\n",
              "  'fanteria',\n",
              "  'farmacia',\n",
              "  'fatto',\n",
              "  'favorito',\n",
              "  'federazione',\n",
              "  'feileruzione',\n",
              "  'ferire',\n",
              "  'ferito',\n",
              "  'ferro',\n",
              "  'ferrovia',\n",
              "  'fertilità',\n",
              "  'festa',\n",
              "  'figaro',\n",
              "  'finanziario',\n",
              "  'finanziere',\n",
              "  'finire',\n",
              "  'fiore',\n",
              "  'first',\n",
              "  'fissato',\n",
              "  'follare',\n",
              "  'fondazione',\n",
              "  'forte',\n",
              "  'fortezza',\n",
              "  'forza',\n",
              "  'francese',\n",
              "  'francia',\n",
              "  'francisco',\n",
              "  'frate',\n",
              "  'fratellanza',\n",
              "  'frettoloso',\n",
              "  'funebre',\n",
              "  'funerale',\n",
              "  'gendarme',\n",
              "  'gendarmeria',\n",
              "  'gente',\n",
              "  'gentiluomo',\n",
              "  'germa',\n",
              "  'germania',\n",
              "  'germano',\n",
              "  'ghilterra',\n",
              "  'giap',\n",
              "  'giappone',\n",
              "  'gild',\n",
              "  'giornale',\n",
              "  'giornaliero',\n",
              "  'giornata',\n",
              "  'giovanni',\n",
              "  'girare',\n",
              "  'giubilare',\n",
              "  'giungere',\n",
              "  'giunto',\n",
              "  'giureconsulto',\n",
              "  'giuseppe',\n",
              "  'giustiziare',\n",
              "  'giusto',\n",
              "  'glomnalk',\n",
              "  'glor',\n",
              "  'gnereblie',\n",
              "  'godere',\n",
              "  'gramaglie',\n",
              "  'gran',\n",
              "  'granatiere',\n",
              "  'grande',\n",
              "  'grandezza',\n",
              "  'grandioso',\n",
              "  'grave',\n",
              "  'guenza',\n",
              "  'guerra',\n",
              "  'gumberru',\n",
              "  'guruvagno',\n",
              "  'havre',\n",
              "  'hodez',\n",
              "  'iabgeri',\n",
              "  'ibernagli',\n",
              "  'igeisi',\n",
              "  'ignoranza',\n",
              "  'iirejrftis',\n",
              "  'illustrato',\n",
              "  'illustre',\n",
              "  'imme',\n",
              "  'immediatamente',\n",
              "  'impau',\n",
              "  'implicito',\n",
              "  'imporre',\n",
              "  'impostare',\n",
              "  'inappellabilmente',\n",
              "  'incaricare',\n",
              "  'incro',\n",
              "  'incrociatore',\n",
              "  'indirizzare',\n",
              "  'indo',\n",
              "  'indu',\n",
              "  'indurre',\n",
              "  'industriale',\n",
              "  'inficiali',\n",
              "  'influenzare',\n",
              "  'informazione',\n",
              "  'inglese',\n",
              "  'iniziare',\n",
              "  'inol',\n",
              "  'intelligente',\n",
              "  'intento',\n",
              "  'intenzione',\n",
              "  'inter',\n",
              "  'internazionale',\n",
              "  'interpellarli',\n",
              "  'interven',\n",
              "  'intervento',\n",
              "  'inteso',\n",
              "  'intimo',\n",
              "  'investigazio',\n",
              "  'investire',\n",
              "  'irmoto',\n",
              "  'isspcortz',\n",
              "  'istoriale',\n",
              "  'italia',\n",
              "  'italian',\n",
              "  'italiano',\n",
              "  'italo',\n",
              "  'itatàano',\n",
              "  'itauan',\n",
              "  'ithk',\n",
              "  'itril',\n",
              "  'jackson',\n",
              "  'jjéére',\n",
              "  'karlsrhue',\n",
              "  'kichlneff',\n",
              "  'kicìht',\n",
              "  'klfred',\n",
              "  'kokhlek',\n",
              "  'krumérl',\n",
              "  'lacremeate',\n",
              "  'lalpartenza',\n",
              "  'lanciare',\n",
              "  'largest',\n",
              "  'lasciare',\n",
              "  'lavare',\n",
              "  'lavoratore',\n",
              "  'legale',\n",
              "  'leggendario',\n",
              "  'leggero',\n",
              "  'leggiere',\n",
              "  'lenente',\n",
              "  'leone',\n",
              "  'lesso',\n",
              "  'lettera',\n",
              "  'letterato',\n",
              "  'leuunte',\n",
              "  'liberare',\n",
              "  'librare',\n",
              "  'libretto',\n",
              "  'lieto',\n",
              "  'limarne',\n",
              "  'limite',\n",
              "  'line',\n",
              "  'lodare',\n",
              "  'loubet',\n",
              "  'luglio',\n",
              "  'lunedi',\n",
              "  'lungo',\n",
              "  'luogo',\n",
              "  'lustro',\n",
              "  'lutto',\n",
              "  'luwtqouxr',\n",
              "  'luzzatti',\n",
              "  'macchina',\n",
              "  'maestro',\n",
              "  'maggio',\n",
              "  'magnificare',\n",
              "  'maia',\n",
              "  'maino',\n",
              "  'mamhese',\n",
              "  'manciuria',\n",
              "  'manenza',\n",
              "  'mano',\n",
              "  'mantenere',\n",
              "  'mantenervi',\n",
              "  'mantova',\n",
              "  'marcare',\n",
              "  'marchesa',\n",
              "  'mare',\n",
              "  'market',\n",
              "  'martino',\n",
              "  'mascagni',\n",
              "  'matter',\n",
              "  'mattina',\n",
              "  'mattino',\n",
              "  'maxchine',\n",
              "  'medico',\n",
              "  'mentato',\n",
              "  'mentire',\n",
              "  'mento',\n",
              "  'meravigliare',\n",
              "  'meritato',\n",
              "  'merito',\n",
              "  'mero',\n",
              "  'mese',\n",
              "  'meta',\n",
              "  'mettere',\n",
              "  'migliala',\n",
              "  'migliorare',\n",
              "  'militare',\n",
              "  'milwaukee',\n",
              "  'mimare',\n",
              "  'mina',\n",
              "  'minatorio',\n",
              "  'miniare',\n",
              "  'miniera',\n",
              "  'ministero',\n",
              "  'ministro',\n",
              "  'misero',\n",
              "  'misura',\n",
              "  'mitezza',\n",
              "  'moltissime',\n",
              "  'moltissimi',\n",
              "  'momen',\n",
              "  'monaca',\n",
              "  'monarca',\n",
              "  'mono',\n",
              "  'montgomery',\n",
              "  'morgurl',\n",
              "  'morire',\n",
              "  'morning',\n",
              "  'morto',\n",
              "  'mosciumi',\n",
              "  'mostrare',\n",
              "  'mostrazione',\n",
              "  'mrxi',\n",
              "  'mullah',\n",
              "  'multicolore',\n",
              "  'municava',\n",
              "  'muovere',\n",
              "  'musicare',\n",
              "  'nantes',\n",
              "  'napoli',\n",
              "  'nato',\n",
              "  'naturalmente',\n",
              "  'nauoli',\n",
              "  'nave',\n",
              "  'nazione',\n",
              "  'necessario',\n",
              "  'negozio',\n",
              "  'nero',\n",
              "  'nesi',\n",
              "  'neutrale',\n",
              "  'news',\n",
              "  'nione',\n",
              "  'nirtra',\n",
              "  'nisti',\n",
              "  'niva',\n",
              "  'nlng',\n",
              "  'noia',\n",
              "  'nolo',\n",
              "  'nome',\n",
              "  'nominare',\n",
              "  'nominato',\n",
              "  'nordamericano',\n",
              "  'norevole',\n",
              "  'norfolk',\n",
              "  'nose',\n",
              "  'notare',\n",
              "  'notizia',\n",
              "  'noto',\n",
              "  'novostl',\n",
              "  'nuele',\n",
              "  'numerare',\n",
              "  'numeroso',\n",
              "  'nuovo',\n",
              "  'obie',\n",
              "  'onesto',\n",
              "  'only',\n",
              "  'onoranze',\n",
              "  'onorevole',\n",
              "  'oomestic',\n",
              "  'oorrispon',\n",
              "  'operare',\n",
              "  'operato',\n",
              "  'opinione',\n",
              "  'opporre',\n",
              "  'opportunamente',\n",
              "  'opposizione',\n",
              "  'orario',\n",
              "  'ordine',\n",
              "  'ornale',\n",
              "  'oroaag',\n",
              "  'orrore',\n",
              "  'osservare',\n",
              "  'ottico',\n",
              "  'ovazione',\n",
              "  'owners',\n",
              "  'pacific',\n",
              "  'pacificare',\n",
              "  'paese',\n",
              "  'palazzo',\n",
              "  'pane',\n",
              "  'panile',\n",
              "  'paper',\n",
              "  'parigi',\n",
              "  'parteiua',\n",
              "  'particolare',\n",
              "  'partito',\n",
              "  'passaggio',\n",
              "  'passare',\n",
              "  'passeg',\n",
              "  'passeggieri',\n",
              "  'pasto',\n",
              "  'patrio',\n",
              "  'patrizio',\n",
              "  'patto',\n",
              "  'pbbrso',\n",
              "  'peraltro',\n",
              "  'perchè',\n",
              "  'perdere',\n",
              "  'perdettero',\n",
              "  'pericolo',\n",
              "  'periodare',\n",
              "  'permettere',\n",
              "  'piacere',\n",
              "  'piccino',\n",
              "  'piccolo',\n",
              "  'pieno',\n",
              "  'pietra',\n",
              "  'pietro',\n",
              "  'pietroburgo',\n",
              "  'pioni',\n",
              "  'pittoresco',\n",
              "  'plato',\n",
              "  'plicazioni',\n",
              "  'poblirihs',\n",
              "  'poggiare',\n",
              "  'pografl',\n",
              "  'poiché',\n",
              "  'polire',\n",
              "  'politecnico',\n",
              "  'polizia',\n",
              "  'pomeriggio',\n",
              "  'popolare',\n",
              "  'porre',\n",
              "  'portantissimo',\n",
              "  'portato',\n",
              "  'posare',\n",
              "  'possibile',\n",
              "  'postasi',\n",
              "  'posto',\n",
              "  'poten',\n",
              "  'potenza',\n",
              "  'potere',\n",
              "  'pozzo',\n",
              "  'praticare',\n",
              "  'pregiudizio',\n",
              "  'prelato',\n",
              "  'premiare',\n",
              "  'pren',\n",
              "  'prendere',\n",
              "  'preoccupazione',\n",
              "  'prepararsi',\n",
              "  'pres',\n",
              "  'presentare',\n",
              "  'presentire',\n",
              "  'presenza',\n",
              "  'presenziare',\n",
              "  'presidente',\n",
              "  'presidiare',\n",
              "  'presiedere',\n",
              "  'preso',\n",
              "  'prestare',\n",
              "  'principe',\n",
              "  'prlucli',\n",
              "  'probabilmen',\n",
              "  'procedere',\n",
              "  'proces',\n",
              "  'processare',\n",
              "  'produrre',\n",
              "  'prof',\n",
              "  'professore',\n",
              "  'pronto',\n",
              "  'propagandare',\n",
              "  'propo',\n",
              "  'proporre',\n",
              "  'proposito',\n",
              "  'proprietario',\n",
              "  'proprietà',\n",
              "  'prossimo',\n",
              "  'protestare',\n",
              "  'provare',\n",
              "  'provincia',\n",
              "  'provocare',\n",
              "  'prudenza',\n",
              "  'pubblicare',\n",
              "  'pubblico',\n",
              "  'punire',\n",
              "  'punto',\n",
              "  'qualsiasi',\n",
              "  'queet',\n",
              "  'quell',\n",
              "  'quello',\n",
              "  'questio',\n",
              "  'questione',\n",
              "  'quotidiano',\n",
              "  'raggiare',\n",
              "  'ragione',\n",
              "  'rallegrare',\n",
              "  'ranieri',\n",
              "  'ranno',\n",
              "  'rante',\n",
              "  'rapido',\n",
              "  'rappresentare',\n",
              "  'rcimrxi',\n",
              "  'recare',\n",
              "  'recere',\n",
              "  'redattore',\n",
              "  'redazione',\n",
              "  'referendum',\n",
              "  'regio',\n",
              "  'regione',\n",
              "  'regolare',\n",
              "  'regolarmente',\n",
              "  'relativo',\n",
              "  'relazione',\n",
              "  'rente',\n",
              "  'repubblb',\n",
              "  'repubblica',\n",
              "  'residente',\n",
              "  'resistenza',\n",
              "  'restare',\n",
              "  'rete',\n",
              "  'rettore',\n",
              "  'riassumere',\n",
              "  'ribasso',\n",
              "  'ricarono',\n",
              "  'ricevere',\n",
              "  'richiedere',\n",
              "  'riconoscere',\n",
              "  'riconoscimento',\n",
              "  'ricorrere',\n",
              "  'ricostruzione',\n",
              "  'ricoverare',\n",
              "  'rietà',\n",
              "  'riguardare',\n",
              "  'rilevare',\n",
              "  'rimanere',\n",
              "  'rimettere',\n",
              "  'rinnovazione',\n",
              "  'rinte',\n",
              "  'ripetersi',\n",
              "  'riportare',\n",
              "  'riputazione',\n",
              "  'risalire',\n",
              "  'riservare',\n",
              "  'risolvere',\n",
              "  'rito',\n",
              "  'ritornare',\n",
              "  'riunione',\n",
              "  'riunire',\n",
              "  'riuscire',\n",
              "  'rivincita',\n",
              "  'rivolgere',\n",
              "  'rivolgersi',\n",
              "  'rivoluzionarla',\n",
              "  'riwponde',\n",
              "  'rogare',\n",
              "  'roma',\n",
              "  'rona',\n",
              "  'ronchetti',\n",
              "  'rotarv',\n",
              "  'ruma',\n",
              "  'russ',\n",
              "  'russia',\n",
              "  'russo',\n",
              "  'saba',\n",
              "  'sabatini',\n",
              "  'saccheggiare',\n",
              "  'saglieri',\n",
              "  'saint',\n",
              "  'saio',\n",
              "  'saltare',\n",
              "  'sangue',\n",
              "  'santo',\n",
              "  'sapere',\n",
              "  'sava',\n",
              "  'scardili',\n",
              "  'scendere',\n",
              "  'scevro',\n",
              "  'scienziato',\n",
              "  'scioperare',\n",
              "  'scloperaa',\n",
              "  'scomparire',\n",
              "  'scon',\n",
              "  'scorso',\n",
              "  'scortare',\n",
              "  'scrittore',\n",
              "  'scrivere',\n",
              "  'scussione',\n",
              "  'sebastiano',\n",
              "  'secolo',\n",
              "  'secondo',\n",
              "  'segreto',\n",
              "  'seguire',\n",
              "  'sendo',\n",
              "  'sentimento',\n",
              "  'serto',\n",
              "  'servato',\n",
              "  'servizio',\n",
              "  'severissimi',\n",
              "  'sfazione',\n",
              "  'sfera',\n",
              "  'siderandoli',\n",
              "  'sieno',\n",
              "  'sigismondo',\n",
              "  'significare',\n",
              "  'signore',\n",
              "  'simpatia',\n",
              "  'sindacare',\n",
              "  'sione',\n",
              "  'sistemare',\n",
              "  'sistemazione',\n",
              "  'slanciare',\n",
              "  'smettere',\n",
              "  'sociale',\n",
              "  'socialisto',\n",
              "  'soddi',\n",
              "  'soddisfare',\n",
              "  'soddisfazione',\n",
              "  'soffrire',\n",
              "  'soggetto',\n",
              "  'solamente',\n",
              "  'soldato',\n",
              "  'solenne',\n",
              "  'solennizzare',\n",
              "  'solido',\n",
              "  'sollecitandolo',\n",
              "  'sollevare',\n",
              "  'solo',\n",
              "  'soluzione',\n",
              "  'somalia',\n",
              "  'sonare',\n",
              "  'sorlaao',\n",
              "  'sottoscrivere',\n",
              "  'sovente',\n",
              "  'sovrano',\n",
              "  'spalla',\n",
              "  'speciale',\n",
              "  'specialità',\n",
              "  'specialmente',\n",
              "  'spedirli',\n",
              "  'spettare',\n",
              "  'squadra',\n",
              "  'squadrare',\n",
              "  'stabilire',\n",
              "  'stabilito',\n",
              "  'stali',\n",
              "  'stanco',\n",
              "  'standard',\n",
              "  'stanislaus',\n",
              "  'states',\n",
              "  'stendere',\n",
              "  'stimare',\n",
              "  'stiulatl',\n",
              "  'stockton',\n",
              "  'storico',\n",
              "  'strada',\n",
              "  'striali',\n",
              "  'struiranno',\n",
              "  'studente',\n",
              "  'studenté',\n",
              "  'subordinale',\n",
              "  'sultati',\n",
              "  'suol',\n",
              "  'surdo',\n",
              "  'suscitare',\n",
              "  'suttcr',\n",
              "  'tanto',\n",
              "  'tara',\n",
              "  'tardo',\n",
              "  'tarn',\n",
              "  'tata',\n",
              "  'tato',\n",
              "  'telegrafico',\n",
              "  'telegramma',\n",
              "  'tenere',\n",
              "  'tenone',\n",
              "  'tentare',\n",
              "  'terebbe',\n",
              "  'teria',\n",
              "  'terminare',\n",
              "  'ternazionale',\n",
              "  'terra',\n",
              "  'terreno',\n",
              "  'tetto',\n",
              "  'tinaia',\n",
              "  'tipografo',\n",
              "  'tizione',\n",
              "  'tornare',\n",
              "  'toro',\n",
              "  'torpedini',\n",
              "  'torpediniere',\n",
              "  'tossa',\n",
              "  'tramway',\n",
              "  'trarre',\n",
              "  'trat',\n",
              "  'trattare',\n",
              "  'tratto',\n",
              "  'traversare',\n",
              "  'travolgere',\n",
              "  'trcntaquatlro',\n",
              "  'trentamila',\n",
              "  'tribuna',\n",
              "  'tributare',\n",
              "  'tristo',\n",
              "  'trovansl',\n",
              "  'trovare',\n",
              "  'truppa',\n",
              "  'tuali',\n",
              "  'tuato',\n",
              "  'tumultuare',\n",
              "  'tumultuoso',\n",
              "  'turare',\n",
              "  'uberi',\n",
              "  'uccidere',\n",
              "  'ucciso',\n",
              "  'uditili',\n",
              "  'uffi',\n",
              "  'ufficial',\n",
              "  'ufficiale',\n",
              "  'ufficioso',\n",
              "  'ulteriore',\n",
              "  'ultimamente',\n",
              "  'ultimo',\n",
              "  'umanità',\n",
              "  'unimportanta',\n",
              "  'unione',\n",
              "  'unionisto',\n",
              "  'united',\n",
              "  'unito',\n",
              "  'universalmente',\n",
              "  'universitario',\n",
              "  'untor',\n",
              "  'uomini',\n",
              "  'usare',\n",
              "  'uscire',\n",
              "  'uscirne',\n",
              "  'valere',\n",
              "  'vallare',\n",
              "  'vano',\n",
              "  'vantare',\n",
              "  'vanto',\n",
              "  'vapore',\n",
              "  'varil',\n",
              "  'vecchio',\n",
              "  'vegliardo',\n",
              "  'veloce',\n",
              "  'vendere',\n",
              "  'vendicare',\n",
              "  'venezia',\n",
              "  'venire',\n",
              "  'ventitré',\n",
              "  'verificare',\n",
              "  'verificatesi',\n",
              "  'verificatisi',\n",
              "  ...]}"
            ]
          },
          "metadata": {
            "tags": []
          },
          "execution_count": 51
        }
      ]
    },
    {
      "cell_type": "code",
      "metadata": {
        "id": "I8pgB8b8X3we",
        "colab_type": "code",
        "outputId": "32858cd4-bd33-4b97-e514-a1ce2dc0cc19",
        "colab": {
          "base_uri": "https://localhost:8080/",
          "height": 241
        }
      },
      "source": [
        "topics = []\n",
        "topic_weights = []\n",
        "for i in range(len(distribution_gensim.columns)-1):\n",
        "  topic_weight = round(sum(distribution_gensim.iloc[:,i+1]),2)\n",
        "  topic_weights.append(topic_weight)\n",
        "  print( f'topic {i}: {topic_weight}%' )\n",
        "  topic = ldamodel.print_topics()[i][1]\n",
        "  topics.append(i)\n",
        "  print( f'terms: {topic} ')"
      ],
      "execution_count": 47,
      "outputs": [
        {
          "output_type": "stream",
          "text": [
            "topic 0: 16.75%\n",
            "terms: 0.007*\"italiano\" + 0.005*\"italia\" + 0.004*\"dispaccio\" + 0.003*\"venire\" + 0.003*\"telegrafico\" + 0.003*\"roma\" + 0.002*\"giornale\" + 0.002*\"daily\" + 0.002*\"potere\" + 0.002*\"york\" \n",
            "topic 1: 39.41%\n",
            "terms: 0.009*\"italiano\" + 0.004*\"telegrafico\" + 0.004*\"italia\" + 0.004*\"dispaccio\" + 0.003*\"giornale\" + 0.003*\"roma\" + 0.003*\"venire\" + 0.003*\"potere\" + 0.003*\"daily\" + 0.002*\"gran\" \n",
            "topic 2: 3.34%\n",
            "terms: 0.007*\"italiano\" + 0.004*\"roma\" + 0.003*\"italia\" + 0.003*\"telegrafico\" + 0.003*\"dispaccio\" + 0.003*\"potere\" + 0.003*\"daily\" + 0.003*\"venire\" + 0.003*\"cardinale\" + 0.002*\"dovere\" \n",
            "topic 3: 5.49%\n",
            "terms: 0.007*\"italiano\" + 0.004*\"dispaccio\" + 0.003*\"potere\" + 0.003*\"roma\" + 0.003*\"italia\" + 0.003*\"daily\" + 0.002*\"telegrafico\" + 0.002*\"giornale\" + 0.002*\"nuovo\" + 0.002*\"venire\" \n",
            "topic 4: 26.39%\n",
            "terms: 0.009*\"italiano\" + 0.004*\"italia\" + 0.004*\"roma\" + 0.003*\"dispaccio\" + 0.003*\"potere\" + 0.003*\"cardinale\" + 0.003*\"telegrafico\" + 0.003*\"daily\" + 0.002*\"venire\" + 0.002*\"giornale\" \n",
            "topic 5: 8.64%\n",
            "terms: 0.006*\"italiano\" + 0.003*\"italia\" + 0.003*\"roma\" + 0.003*\"potere\" + 0.003*\"venire\" + 0.003*\"cardinale\" + 0.003*\"dispaccio\" + 0.003*\"giornale\" + 0.003*\"daily\" + 0.002*\"dare\" \n"
          ],
          "name": "stdout"
        }
      ]
    },
    {
      "cell_type": "code",
      "metadata": {
        "id": "KBwF9mpuvtWF",
        "colab_type": "code",
        "colab": {}
      },
      "source": [
        "# dataframe with values to sort them by order of importance\n",
        "distribution_df_gensim = pd.DataFrame(topic_weights, columns=['weight'])"
      ],
      "execution_count": 0,
      "outputs": []
    },
    {
      "cell_type": "code",
      "metadata": {
        "id": "jqRdWxvrx6d5",
        "colab_type": "code",
        "colab": {}
      },
      "source": [
        "distribution_df_gensim['topics'] = topics"
      ],
      "execution_count": 0,
      "outputs": []
    },
    {
      "cell_type": "code",
      "metadata": {
        "id": "ibNoUroJzipD",
        "colab_type": "code",
        "colab": {}
      },
      "source": [
        "distribution_df_gensim['topics'] = distribution_df_gensim['topics'].apply(lambda x: f'topic {x}')"
      ],
      "execution_count": 0,
      "outputs": []
    },
    {
      "cell_type": "code",
      "metadata": {
        "id": "59Km8QYEwWQz",
        "colab_type": "code",
        "colab": {}
      },
      "source": [
        "distribution_df_gensim = distribution_df_gensim.sort_values(by=['weight'])"
      ],
      "execution_count": 0,
      "outputs": []
    },
    {
      "cell_type": "code",
      "metadata": {
        "id": "JGE5O2-_u4_I",
        "colab_type": "code",
        "outputId": "1ecafe25-9ed9-45be-b073-56bc47aa1a9a",
        "colab": {
          "base_uri": "https://localhost:8080/",
          "height": 466
        }
      },
      "source": [
        "plt.rcdefaults()\n",
        "fig, ax = plt.subplots()\n",
        "ax.barh(distribution_df_gensim['topics'], distribution_df_gensim['weight'], align='center')\n",
        "ax.set_xlabel('Weight (%)')"
      ],
      "execution_count": 0,
      "outputs": [
        {
          "output_type": "execute_result",
          "data": {
            "text/plain": [
              "Text(0.5, 0, 'Weight (%)')"
            ]
          },
          "metadata": {
            "tags": []
          },
          "execution_count": 64
        },
        {
          "output_type": "display_data",
          "data": {
            "image/png": "[encoded data removed]",
            "text/plain": [
              "<Figure size 640x480 with 1 Axes>"
            ]
          },
          "metadata": {
            "tags": []
          }
        }
      ]
    },
    {
      "cell_type": "markdown",
      "metadata": {
        "id": "-R4PqRHS5gzM",
        "colab_type": "text"
      },
      "source": [
        "##3.2 Mallet"
      ]
    },
    {
      "cell_type": "markdown",
      "metadata": {
        "id": "edtyLQcA6XAi",
        "colab_type": "text"
      },
      "source": [
        "### 3.2.1 Distribution per topic and per document"
      ]
    },
    {
      "cell_type": "code",
      "metadata": {
        "id": "AVzWPlU-5z2x",
        "colab_type": "code",
        "colab": {}
      },
      "source": [
        "distribution_mallet = pd.DataFrame(index=[i for i in range(len(corpus))],columns=[f'topic{i}' for i in range(numtopics)])"
      ],
      "execution_count": 0,
      "outputs": []
    },
    {
      "cell_type": "code",
      "metadata": {
        "id": "B64Z2FAs55Wd",
        "colab_type": "code",
        "colab": {}
      },
      "source": [
        "for i in range(len(corpus)):\n",
        "  row = [list(j)[1] for j in ldamallet_to_gensim[corpus[i]]] \n",
        "  distribution_mallet.loc[i] = row"
      ],
      "execution_count": 0,
      "outputs": []
    },
    {
      "cell_type": "code",
      "metadata": {
        "id": "nP0QKt0x6BLy",
        "colab_type": "code",
        "colab": {}
      },
      "source": [
        "distribution_mallet.insert(0, 'document_path', sources['file_name'])"
      ],
      "execution_count": 0,
      "outputs": []
    },
    {
      "cell_type": "code",
      "metadata": {
        "id": "Pu2Tk_x77KHH",
        "colab_type": "code",
        "colab": {}
      },
      "source": [
        "# functionalities that are available with mallet wrapper retranslated to gensim need to be investigated further\n",
        "# ldamallet_to_gensim.print_topics()"
      ],
      "execution_count": 0,
      "outputs": []
    },
    {
      "cell_type": "code",
      "metadata": {
        "id": "L-dUibIM6Nu0",
        "colab_type": "code",
        "outputId": "253af9f0-06a3-448a-c177-7daab624e5ab",
        "colab": {
          "base_uri": "https://localhost:8080/",
          "height": 419
        }
      },
      "source": [
        "distribution_mallet"
      ],
      "execution_count": 0,
      "outputs": [
        {
          "output_type": "execute_result",
          "data": {
            "text/html": [
              "<div>\n",
              "<style scoped>\n",
              "    .dataframe tbody tr th:only-of-type {\n",
              "        vertical-align: middle;\n",
              "    }\n",
              "\n",
              "    .dataframe tbody tr th {\n",
              "        vertical-align: top;\n",
              "    }\n",
              "\n",
              "    .dataframe thead th {\n",
              "        text-align: right;\n",
              "    }\n",
              "</style>\n",
              "<table border=\"1\" class=\"dataframe\">\n",
              "  <thead>\n",
              "    <tr style=\"text-align: right;\">\n",
              "      <th></th>\n",
              "      <th>document_path</th>\n",
              "      <th>topic0</th>\n",
              "      <th>topic1</th>\n",
              "      <th>topic2</th>\n",
              "      <th>topic3</th>\n",
              "      <th>topic4</th>\n",
              "      <th>topic5</th>\n",
              "    </tr>\n",
              "  </thead>\n",
              "  <tbody>\n",
              "    <tr>\n",
              "      <th>0</th>\n",
              "      <td>sn85066408_1903-04-27_ed-1_seq-1_ocr.txt</td>\n",
              "      <td>0.231498</td>\n",
              "      <td>0.0727352</td>\n",
              "      <td>0.0829734</td>\n",
              "      <td>0.135047</td>\n",
              "      <td>0.251138</td>\n",
              "      <td>0.226609</td>\n",
              "    </tr>\n",
              "    <tr>\n",
              "      <th>1</th>\n",
              "      <td>sn85066408_1903-04-28_ed-1_seq-1_ocr.txt</td>\n",
              "      <td>0.170117</td>\n",
              "      <td>0.0477283</td>\n",
              "      <td>0.0999062</td>\n",
              "      <td>0.175304</td>\n",
              "      <td>0.334495</td>\n",
              "      <td>0.172449</td>\n",
              "    </tr>\n",
              "    <tr>\n",
              "      <th>2</th>\n",
              "      <td>sn85066408_1903-04-29_ed-1_seq-1_ocr.txt</td>\n",
              "      <td>0.262384</td>\n",
              "      <td>0.0581078</td>\n",
              "      <td>0.0567422</td>\n",
              "      <td>0.233382</td>\n",
              "      <td>0.266629</td>\n",
              "      <td>0.122754</td>\n",
              "    </tr>\n",
              "    <tr>\n",
              "      <th>3</th>\n",
              "      <td>sn85066408_1903-04-30_ed-1_seq-1_ocr.txt</td>\n",
              "      <td>0.348604</td>\n",
              "      <td>0.0669136</td>\n",
              "      <td>0.0541565</td>\n",
              "      <td>0.08167</td>\n",
              "      <td>0.295551</td>\n",
              "      <td>0.153105</td>\n",
              "    </tr>\n",
              "    <tr>\n",
              "      <th>4</th>\n",
              "      <td>sn85066408_1903-05-01_ed-1_seq-1_ocr.txt</td>\n",
              "      <td>0.171465</td>\n",
              "      <td>0.0518164</td>\n",
              "      <td>0.217659</td>\n",
              "      <td>0.231854</td>\n",
              "      <td>0.295513</td>\n",
              "      <td>0.0316928</td>\n",
              "    </tr>\n",
              "    <tr>\n",
              "      <th>...</th>\n",
              "      <td>...</td>\n",
              "      <td>...</td>\n",
              "      <td>...</td>\n",
              "      <td>...</td>\n",
              "      <td>...</td>\n",
              "      <td>...</td>\n",
              "      <td>...</td>\n",
              "    </tr>\n",
              "    <tr>\n",
              "      <th>95</th>\n",
              "      <td>sn85066408_1903-08-05_ed-1_seq-1_ocr.txt</td>\n",
              "      <td>0.280612</td>\n",
              "      <td>0.471422</td>\n",
              "      <td>0.0662954</td>\n",
              "      <td>0.0526218</td>\n",
              "      <td>0.0611473</td>\n",
              "      <td>0.0679019</td>\n",
              "    </tr>\n",
              "    <tr>\n",
              "      <th>96</th>\n",
              "      <td>sn85066408_1903-08-06_ed-1_seq-1_ocr.txt</td>\n",
              "      <td>0.185934</td>\n",
              "      <td>0.235344</td>\n",
              "      <td>0.0468113</td>\n",
              "      <td>0.137529</td>\n",
              "      <td>0.173382</td>\n",
              "      <td>0.221</td>\n",
              "    </tr>\n",
              "    <tr>\n",
              "      <th>97</th>\n",
              "      <td>sn85066408_1903-08-07_ed-1_seq-1_ocr.txt</td>\n",
              "      <td>0.322557</td>\n",
              "      <td>0.271309</td>\n",
              "      <td>0.0796197</td>\n",
              "      <td>0.169776</td>\n",
              "      <td>0.0806498</td>\n",
              "      <td>0.0760887</td>\n",
              "    </tr>\n",
              "    <tr>\n",
              "      <th>98</th>\n",
              "      <td>2012271201_1903-08-08_ed-1_seq-1_ocr.txt</td>\n",
              "      <td>0.0401617</td>\n",
              "      <td>0.0441725</td>\n",
              "      <td>0.715951</td>\n",
              "      <td>0.102523</td>\n",
              "      <td>0.0514279</td>\n",
              "      <td>0.0457643</td>\n",
              "    </tr>\n",
              "    <tr>\n",
              "      <th>99</th>\n",
              "      <td>sn85066408_1903-08-08_ed-1_seq-1_ocr.txt</td>\n",
              "      <td>0.2005</td>\n",
              "      <td>0.174608</td>\n",
              "      <td>0.0832407</td>\n",
              "      <td>0.0660883</td>\n",
              "      <td>0.353739</td>\n",
              "      <td>0.121824</td>\n",
              "    </tr>\n",
              "  </tbody>\n",
              "</table>\n",
              "<p>100 rows × 7 columns</p>\n",
              "</div>"
            ],
            "text/plain": [
              "                               document_path     topic0  ...     topic4     topic5\n",
              "0   sn85066408_1903-04-27_ed-1_seq-1_ocr.txt   0.231498  ...   0.251138   0.226609\n",
              "1   sn85066408_1903-04-28_ed-1_seq-1_ocr.txt   0.170117  ...   0.334495   0.172449\n",
              "2   sn85066408_1903-04-29_ed-1_seq-1_ocr.txt   0.262384  ...   0.266629   0.122754\n",
              "3   sn85066408_1903-04-30_ed-1_seq-1_ocr.txt   0.348604  ...   0.295551   0.153105\n",
              "4   sn85066408_1903-05-01_ed-1_seq-1_ocr.txt   0.171465  ...   0.295513  0.0316928\n",
              "..                                       ...        ...  ...        ...        ...\n",
              "95  sn85066408_1903-08-05_ed-1_seq-1_ocr.txt   0.280612  ...  0.0611473  0.0679019\n",
              "96  sn85066408_1903-08-06_ed-1_seq-1_ocr.txt   0.185934  ...   0.173382      0.221\n",
              "97  sn85066408_1903-08-07_ed-1_seq-1_ocr.txt   0.322557  ...  0.0806498  0.0760887\n",
              "98  2012271201_1903-08-08_ed-1_seq-1_ocr.txt  0.0401617  ...  0.0514279  0.0457643\n",
              "99  sn85066408_1903-08-08_ed-1_seq-1_ocr.txt     0.2005  ...   0.353739   0.121824\n",
              "\n",
              "[100 rows x 7 columns]"
            ]
          },
          "metadata": {
            "tags": []
          },
          "execution_count": 68
        }
      ]
    },
    {
      "cell_type": "markdown",
      "metadata": {
        "id": "O_2y12da6ern",
        "colab_type": "text"
      },
      "source": [
        "### 3.2.2. Distribution per topic for the whole corpus"
      ]
    },
    {
      "cell_type": "code",
      "metadata": {
        "id": "BwSx7UwG6keD",
        "colab_type": "code",
        "outputId": "854c8b07-be9c-4706-b609-28571e26b15e",
        "colab": {
          "base_uri": "https://localhost:8080/",
          "height": 241
        }
      },
      "source": [
        "topics = []\n",
        "topic_weights = []\n",
        "for i in range(len(distribution_mallet.columns)-1):\n",
        "  topic_weight = round(sum(distribution_mallet.iloc[:,i+1]),2)\n",
        "  topic_weights.append(topic_weight)\n",
        "  print( f'topic {i}: {topic_weight}%' )\n",
        "  topic = ldamallet_to_gensim.print_topics()[i][1]\n",
        "  topics.append(i)\n",
        "  print( f'terms: {topic} ')"
      ],
      "execution_count": 0,
      "outputs": [
        {
          "output_type": "stream",
          "text": [
            "topic 0: 20.56%\n",
            "terms: 0.000*\"lefonica\" + 0.000*\"consigliera\" + 0.000*\"identità\" + 0.000*\"prln\" + 0.000*\"bhrlino\" + 0.000*\"derrata\" + 0.000*\"cecancelllere\" + 0.000*\"obrenovlch\" + 0.000*\"nito\" + 0.000*\"varcare\" \n",
            "topic 1: 13.04%\n",
            "terms: 0.000*\"termediatl\" + 0.000*\"glietti\" + 0.000*\"grandinare\" + 0.000*\"maremm\" + 0.000*\"difficilmente\" + 0.000*\"continuato\" + 0.000*\"porgervi\" + 0.000*\"ovvio\" + 0.000*\"barbabietola\" + 0.000*\"coraggio\" \n",
            "topic 2: 14.4%\n",
            "terms: 0.000*\"petè\" + 0.000*\"itrlllat\" + 0.000*\"reatty\" + 0.000*\"schierala\" + 0.000*\"arrestarsi\" + 0.000*\"francobollo\" + 0.000*\"irrito\" + 0.000*\"lungi\" + 0.000*\"triplice\" + 0.000*\"indeterminato\" \n",
            "topic 3: 14.3%\n",
            "terms: 0.000*\"analisi\" + 0.000*\"cornicino\" + 0.000*\"mindanao\" + 0.000*\"alutantiile\" + 0.000*\"parlftc\" + 0.000*\"quay\" + 0.000*\"gantemente\" + 0.000*\"promul\" + 0.000*\"furo7io\" + 0.000*\"nauseare\" \n",
            "topic 4: 20.49%\n",
            "terms: 0.000*\"chetti\" + 0.000*\"herald\" + 0.000*\"vistili\" + 0.000*\"albani\" + 0.000*\"tiro\" + 0.000*\"budapm8\" + 0.000*\"rini\" + 0.000*\"vendramtnl\" + 0.000*\"pomeriggio\" + 0.000*\"spaventevole\" \n",
            "topic 5: 17.21%\n",
            "terms: 0.000*\"osser\" + 0.000*\"affollato\" + 0.000*\"esecrizloae\" + 0.000*\"proprietà\" + 0.000*\"maragllano\" + 0.000*\"smentita\" + 0.000*\"cute\" + 0.000*\"mutuatario\" + 0.000*\"1970\" + 0.000*\"htuoimo\" \n"
          ],
          "name": "stdout"
        }
      ]
    },
    {
      "cell_type": "code",
      "metadata": {
        "id": "SXpxq43d64Q1",
        "colab_type": "code",
        "colab": {}
      },
      "source": [
        "distribution_df_mallet = pd.DataFrame(topic_weights, columns=['weight'])"
      ],
      "execution_count": 0,
      "outputs": []
    },
    {
      "cell_type": "code",
      "metadata": {
        "id": "R2BbSXPL7neM",
        "colab_type": "code",
        "colab": {}
      },
      "source": [
        "distribution_df_mallet['topics'] = topics"
      ],
      "execution_count": 0,
      "outputs": []
    },
    {
      "cell_type": "code",
      "metadata": {
        "id": "p1TGnYsC7tmJ",
        "colab_type": "code",
        "colab": {}
      },
      "source": [
        "distribution_df_mallet['topics'] = distribution_df_mallet['topics'].apply(lambda x: f'topic {x}')"
      ],
      "execution_count": 0,
      "outputs": []
    },
    {
      "cell_type": "code",
      "metadata": {
        "id": "t5iY_zGC71m2",
        "colab_type": "code",
        "colab": {}
      },
      "source": [
        "distribution_df_mallet = distribution_df_mallet.sort_values(by=['weight'])"
      ],
      "execution_count": 0,
      "outputs": []
    },
    {
      "cell_type": "code",
      "metadata": {
        "id": "fQKghPGT78Uz",
        "colab_type": "code",
        "outputId": "3fe1a37e-b0cc-454a-f122-44d56b01576b",
        "colab": {
          "base_uri": "https://localhost:8080/",
          "height": 466
        }
      },
      "source": [
        "plt.rcdefaults()\n",
        "fig, ax = plt.subplots()\n",
        "ax.barh(distribution_df_mallet['topics'], distribution_df_mallet['weight'], align='center')\n",
        "ax.set_xlabel('Weight (%)')"
      ],
      "execution_count": 0,
      "outputs": [
        {
          "output_type": "execute_result",
          "data": {
            "text/plain": [
              "Text(0.5, 0, 'Weight (%)')"
            ]
          },
          "metadata": {
            "tags": []
          },
          "execution_count": 74
        },
        {
          "output_type": "display_data",
          "data": {
            "image/png": "[encoded data removed]",
            "text/plain": [
              "<Figure size 640x480 with 1 Axes>"
            ]
          },
          "metadata": {
            "tags": []
          }
        }
      ]
    },
    {
      "cell_type": "markdown",
      "metadata": {
        "id": "-VxrV7VlMnC-",
        "colab_type": "text"
      },
      "source": [
        "# Topics weight over time"
      ]
    },
    {
      "cell_type": "markdown",
      "metadata": {
        "id": "dRMKU0HeNHW-",
        "colab_type": "text"
      },
      "source": [
        "## 4.1 Aggregate document weights"
      ]
    },
    {
      "cell_type": "code",
      "metadata": {
        "id": "Q6Jux73gNQT2",
        "colab_type": "code",
        "colab": {}
      },
      "source": [
        "# The goal is to be able to group the data per month"
      ],
      "execution_count": 0,
      "outputs": []
    },
    {
      "cell_type": "code",
      "metadata": {
        "id": "Y4ZElg6PQMgg",
        "colab_type": "code",
        "colab": {}
      },
      "source": [
        "import re"
      ],
      "execution_count": 0,
      "outputs": []
    },
    {
      "cell_type": "code",
      "metadata": {
        "id": "yU_H1RZPOhrf",
        "colab_type": "code",
        "colab": {}
      },
      "source": [
        "# function to retrieve date from file name\n",
        "def get_date(file):\n",
        "  date_match = re.findall(r'_(\\d{4}-\\d{2}-\\d{2})_',file)\n",
        "  return date_match[0]\n",
        "\n",
        "# function to retrieve year from file name\n",
        "def get_year(file):\n",
        "  year_match = re.findall(r'_(\\d{4})-\\d{2}-\\d{2}_',file)\n",
        "  return year_match[0]\n",
        "\n",
        "# function to retrieve month from file name\n",
        "def get_month(file):\n",
        "  month_match = re.findall(r'_\\d{4}-(\\d{2})-\\d{2}_',file)\n",
        "  return month_match[0]"
      ],
      "execution_count": 0,
      "outputs": []
    },
    {
      "cell_type": "code",
      "metadata": {
        "id": "0xlVn3ftNw_W",
        "colab_type": "code",
        "colab": {}
      },
      "source": [
        "distribution_gensim['date'] = distribution_gensim['document_path'].apply(lambda x: get_date(x))\n",
        "distribution_gensim['year'] = distribution_gensim['document_path'].apply(lambda x: get_year(x))\n",
        "distribution_gensim['month'] = distribution_gensim['document_path'].apply(lambda x: get_month(x))"
      ],
      "execution_count": 0,
      "outputs": []
    },
    {
      "cell_type": "code",
      "metadata": {
        "id": "PUK2_xP_Mc7N",
        "colab_type": "code",
        "colab": {}
      },
      "source": [
        "gensim_groupby = distribution_gensim.copy()"
      ],
      "execution_count": 0,
      "outputs": []
    },
    {
      "cell_type": "code",
      "metadata": {
        "id": "LWdcFIJBMjgq",
        "colab_type": "code",
        "colab": {}
      },
      "source": [
        "# drop columns that won't be needed at this stage\n",
        "gensim_groupby = gensim_groupby.drop(['document_path', 'date'], axis=1)"
      ],
      "execution_count": 0,
      "outputs": []
    },
    {
      "cell_type": "code",
      "metadata": {
        "id": "3qebDNKXoV7L",
        "colab_type": "code",
        "colab": {}
      },
      "source": [
        "# group by year and month \n",
        "distribution_month = gensim_groupby.groupby(['year','month']).sum().reset_index()"
      ],
      "execution_count": 0,
      "outputs": []
    },
    {
      "cell_type": "code",
      "metadata": {
        "id": "u43koiEAQUew",
        "colab_type": "code",
        "outputId": "b0f16cd9-cc70-4ed3-a8fc-dcc0fdfba3b0",
        "colab": {
          "base_uri": "https://localhost:8080/",
          "height": 204
        }
      },
      "source": [
        "distribution_month"
      ],
      "execution_count": 0,
      "outputs": [
        {
          "output_type": "execute_result",
          "data": {
            "text/html": [
              "<div>\n",
              "<style scoped>\n",
              "    .dataframe tbody tr th:only-of-type {\n",
              "        vertical-align: middle;\n",
              "    }\n",
              "\n",
              "    .dataframe tbody tr th {\n",
              "        vertical-align: top;\n",
              "    }\n",
              "\n",
              "    .dataframe thead th {\n",
              "        text-align: right;\n",
              "    }\n",
              "</style>\n",
              "<table border=\"1\" class=\"dataframe\">\n",
              "  <thead>\n",
              "    <tr style=\"text-align: right;\">\n",
              "      <th></th>\n",
              "      <th>year</th>\n",
              "      <th>month</th>\n",
              "      <th>topic0</th>\n",
              "      <th>topic1</th>\n",
              "      <th>topic2</th>\n",
              "      <th>topic3</th>\n",
              "      <th>topic4</th>\n",
              "      <th>topic5</th>\n",
              "    </tr>\n",
              "  </thead>\n",
              "  <tbody>\n",
              "    <tr>\n",
              "      <th>0</th>\n",
              "      <td>1903</td>\n",
              "      <td>04</td>\n",
              "      <td>1.814085</td>\n",
              "      <td>0.002722</td>\n",
              "      <td>0.018676</td>\n",
              "      <td>0.082127</td>\n",
              "      <td>0.004328</td>\n",
              "      <td>2.078062</td>\n",
              "    </tr>\n",
              "    <tr>\n",
              "      <th>1</th>\n",
              "      <td>1903</td>\n",
              "      <td>05</td>\n",
              "      <td>8.405633</td>\n",
              "      <td>1.210830</td>\n",
              "      <td>2.048485</td>\n",
              "      <td>4.514570</td>\n",
              "      <td>1.008324</td>\n",
              "      <td>8.812160</td>\n",
              "    </tr>\n",
              "    <tr>\n",
              "      <th>2</th>\n",
              "      <td>1903</td>\n",
              "      <td>06</td>\n",
              "      <td>4.294504</td>\n",
              "      <td>1.799166</td>\n",
              "      <td>3.986612</td>\n",
              "      <td>8.112861</td>\n",
              "      <td>3.056680</td>\n",
              "      <td>8.750177</td>\n",
              "    </tr>\n",
              "    <tr>\n",
              "      <th>3</th>\n",
              "      <td>1903</td>\n",
              "      <td>07</td>\n",
              "      <td>5.021850</td>\n",
              "      <td>2.584730</td>\n",
              "      <td>1.566990</td>\n",
              "      <td>10.334144</td>\n",
              "      <td>8.640385</td>\n",
              "      <td>2.851901</td>\n",
              "    </tr>\n",
              "    <tr>\n",
              "      <th>4</th>\n",
              "      <td>1903</td>\n",
              "      <td>08</td>\n",
              "      <td>0.287317</td>\n",
              "      <td>0.047695</td>\n",
              "      <td>1.013576</td>\n",
              "      <td>3.603401</td>\n",
              "      <td>1.697857</td>\n",
              "      <td>2.350154</td>\n",
              "    </tr>\n",
              "  </tbody>\n",
              "</table>\n",
              "</div>"
            ],
            "text/plain": [
              "   year month    topic0    topic1    topic2     topic3    topic4    topic5\n",
              "0  1903    04  1.814085  0.002722  0.018676   0.082127  0.004328  2.078062\n",
              "1  1903    05  8.405633  1.210830  2.048485   4.514570  1.008324  8.812160\n",
              "2  1903    06  4.294504  1.799166  3.986612   8.112861  3.056680  8.750177\n",
              "3  1903    07  5.021850  2.584730  1.566990  10.334144  8.640385  2.851901\n",
              "4  1903    08  0.287317  0.047695  1.013576   3.603401  1.697857  2.350154"
            ]
          },
          "metadata": {
            "tags": []
          },
          "execution_count": 82
        }
      ]
    },
    {
      "cell_type": "code",
      "metadata": {
        "id": "mOHunkpFQ8z0",
        "colab_type": "code",
        "colab": {}
      },
      "source": [
        "dates = []\n",
        "for i in range(len(distribution_month)):\n",
        "  year = distribution_month['year'][i]\n",
        "  month = distribution_month['month'][i]\n",
        "  dates.append(f'{month}/{year}')"
      ],
      "execution_count": 0,
      "outputs": []
    },
    {
      "cell_type": "code",
      "metadata": {
        "id": "5a6-8y7gSs2X",
        "colab_type": "code",
        "outputId": "dc7290f8-9fa8-4d5d-8f2c-79f350567f1f",
        "colab": {
          "base_uri": "https://localhost:8080/",
          "height": 447
        }
      },
      "source": [
        "# quick first overview\n",
        "plt.plot(dates, distribution_month['topic0'], label=\"Topic 0\")\n",
        "plt.plot(dates, distribution_month['topic1'], label=\"Topic 1\")\n",
        "plt.plot(dates, distribution_month['topic2'], label=\"Topic 2\")\n",
        "plt.plot(dates, distribution_month['topic3'], label=\"Topic 3\")\n",
        "plt.plot(dates, distribution_month['topic4'], label=\"Topic 4\")\n",
        "plt.plot(dates, distribution_month['topic5'], label=\"Topic 5\")\n",
        "plt.legend()"
      ],
      "execution_count": 0,
      "outputs": [
        {
          "output_type": "execute_result",
          "data": {
            "text/plain": [
              "<matplotlib.legend.Legend at 0x7f8cebb3f0b8>"
            ]
          },
          "metadata": {
            "tags": []
          },
          "execution_count": 84
        },
        {
          "output_type": "display_data",
          "data": {
            "image/png": "[encoded data removed]",
            "text/plain": [
              "<Figure size 640x480 with 1 Axes>"
            ]
          },
          "metadata": {
            "tags": []
          }
        }
      ]
    },
    {
      "cell_type": "markdown",
      "metadata": {
        "id": "aLQSDPuCM-cd",
        "colab_type": "text"
      },
      "source": [
        "## 4.2. Gensim\n",
        "\n"
      ]
    },
    {
      "cell_type": "code",
      "metadata": {
        "id": "AIEsK52cM2_6",
        "colab_type": "code",
        "colab": {}
      },
      "source": [
        ""
      ],
      "execution_count": 0,
      "outputs": []
    },
    {
      "cell_type": "code",
      "metadata": {
        "id": "DCfgi2ZMM82u",
        "colab_type": "code",
        "colab": {}
      },
      "source": [
        ""
      ],
      "execution_count": 0,
      "outputs": []
    }
  ]
}
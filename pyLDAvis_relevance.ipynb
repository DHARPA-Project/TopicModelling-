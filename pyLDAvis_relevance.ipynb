{
  "nbformat": 4,
  "nbformat_minor": 0,
  "metadata": {
    "colab": {
      "name": "pyLDAvis_relevance.ipynb",
      "provenance": [],
      "collapsed_sections": [],
      "toc_visible": true
    },
    "kernelspec": {
      "name": "python3",
      "display_name": "Python 3"
    }
  },
  "cells": [
    {
      "cell_type": "code",
      "metadata": {
        "id": "7FwlEnNvQJNG",
        "colab_type": "code",
        "colab": {}
      },
      "source": [
        "import json\n",
        "import requests\n",
        "import urllib"
      ],
      "execution_count": 1,
      "outputs": []
    },
    {
      "cell_type": "markdown",
      "metadata": {
        "id": "6AZPes5RSYG2",
        "colab_type": "text"
      },
      "source": [
        "# 0. Preliminary step to get sample data\n",
        "\n"
      ]
    },
    {
      "cell_type": "markdown",
      "metadata": {
        "id": "WaRiBwgFTg2p",
        "colab_type": "text"
      },
      "source": [
        "This preliminary step is reproducing Lorella's workflow Python file:\n",
        "https://i-lab.public.data.uu.nl/vault-ocex/ChroniclItaly%20-%20Italian%20American%20newspapers%20corpus%20from%201898%20to%201920%5B1529330521%5D/original/\n",
        "I just added a folder \"data_1\" to keep all files in one folder"
      ]
    },
    {
      "cell_type": "code",
      "metadata": {
        "id": "VK81EVJim0Jc",
        "colab_type": "code",
        "colab": {}
      },
      "source": [
        "mkdir 'data1'"
      ],
      "execution_count": 2,
      "outputs": []
    },
    {
      "cell_type": "code",
      "metadata": {
        "id": "9O_c4pYzXsP_",
        "colab_type": "code",
        "colab": {}
      },
      "source": [
        "# Base URL\n",
        "chronam = 'https://chroniclingamerica.loc.gov/'\n",
        "\n",
        "# Chronicling America search results\n",
        "results = 'https://chroniclingamerica.loc.gov/search/pages/results/?date1=1880&date2=1920&searchType=advanced&language=ita&sequence=1&lccn=2012271201&lccn=sn85066408&lccn=sn85055164&lccn=sn85054967&lccn=sn88064299&lccn=sn84037024&lccn=sn84037025&lccn=sn86092310&proxdistance=5&state=California&state=District+of+Columbia&state=Massachusetts&state=Pennsylvania&state=Piedmont&state=Vermont&state=West+Virginia&rows=100&ortext=&proxtext=&phrasetext=&andtext=&dateFilterType=yearRange&page=11&sort=date'\n",
        "\n",
        "# Count to keep track of downloaded files\n",
        "count = 0\n",
        "\n",
        "# Gets search results in JSON format\n",
        "results_json = results + '&format=json'\n"
      ],
      "execution_count": 3,
      "outputs": []
    },
    {
      "cell_type": "code",
      "metadata": {
        "id": "DQwqRYbydrq4",
        "colab_type": "code",
        "colab": {}
      },
      "source": [
        "# Returns JSON \n",
        "def get_json(url):\n",
        "    data = requests.get(url)\n",
        "    return(json.loads(data.content))\n",
        "    \n",
        "data = get_json(results_json)"
      ],
      "execution_count": 4,
      "outputs": []
    },
    {
      "cell_type": "code",
      "metadata": {
        "id": "Xjv32dwDndnw",
        "colab_type": "code",
        "colab": {}
      },
      "source": [
        "files_list = []\n",
        "# Cycle through JSON results\n",
        "for page in data['items']:\n",
        "    # Create URL\n",
        "    hit = str(page['id'])\n",
        "    seed = hit + 'ocr.txt'\n",
        "    download_url = chronam + seed\n",
        " \n",
        "    # Create file name\n",
        "    file_name = download_url.replace('/', '_')\n",
        "    files_list.append(file_name[41:])\n",
        "    file_name = 'data1/' + file_name[41:]\n",
        "\n",
        "    # Download .txt of the page\n",
        "    urllib.request.urlretrieve(download_url, str(file_name))\n",
        "    count += 1"
      ],
      "execution_count": 5,
      "outputs": []
    },
    {
      "cell_type": "markdown",
      "metadata": {
        "id": "AUvuIpuzT8ke",
        "colab_type": "text"
      },
      "source": [
        "# 1. Data preparation"
      ]
    },
    {
      "cell_type": "markdown",
      "metadata": {
        "id": "MTOrDXSYUIc3",
        "colab_type": "text"
      },
      "source": [
        "## 1.1. Creating data frame\n",
        "A dataframe is first created to keep the documents at their initial state, and the name of each file"
      ]
    },
    {
      "cell_type": "code",
      "metadata": {
        "id": "u857KfY9WXN_",
        "colab_type": "code",
        "colab": {}
      },
      "source": [
        "import os\n",
        "import pandas as pd"
      ],
      "execution_count": 6,
      "outputs": []
    },
    {
      "cell_type": "code",
      "metadata": {
        "id": "8lLD0OpiXv5Y",
        "colab_type": "code",
        "colab": {}
      },
      "source": [
        "#insert file names into a df\n",
        "sources = pd.DataFrame(files_list, columns=['file_name'])"
      ],
      "execution_count": 7,
      "outputs": []
    },
    {
      "cell_type": "code",
      "metadata": {
        "id": "0PgOwPnqCfAe",
        "colab_type": "code",
        "colab": {}
      },
      "source": [
        "#function to read the content of the text files\n",
        "def readTxtContent(fileName):\n",
        "  with open('data1/' + fileName, 'r') as file:\n",
        "    return ' ' + file.read().replace('\\n', ' ') + ' '"
      ],
      "execution_count": 8,
      "outputs": []
    },
    {
      "cell_type": "code",
      "metadata": {
        "id": "MZEVIKHziQv2",
        "colab_type": "code",
        "colab": {}
      },
      "source": [
        "# adding a column to the dataframe containing file content\n",
        "sources['file_content'] = sources['file_name'].apply(lambda x: readTxtContent(x))"
      ],
      "execution_count": 9,
      "outputs": []
    },
    {
      "cell_type": "code",
      "metadata": {
        "id": "5AbjD_hb9SQw",
        "colab_type": "code",
        "colab": {}
      },
      "source": [
        "# variable containing the documents separately\n",
        "corpus = sources['file_content']"
      ],
      "execution_count": 10,
      "outputs": []
    },
    {
      "cell_type": "markdown",
      "metadata": {
        "id": "ybCetXHi9m-y",
        "colab_type": "text"
      },
      "source": [
        "## 1.2 Removing stop words, punctuation, short words"
      ]
    },
    {
      "cell_type": "code",
      "metadata": {
        "id": "6e-8sf7RayKz",
        "colab_type": "code",
        "colab": {}
      },
      "source": [
        "%%capture\n",
        "import nltk\n",
        "nltk.download('punkt')\n",
        "nltk.download('stopwords')\n",
        "from nltk.corpus import stopwords\n",
        "from nltk.tokenize import word_tokenize"
      ],
      "execution_count": 11,
      "outputs": []
    },
    {
      "cell_type": "code",
      "metadata": {
        "id": "a1MbU3_seOtJ",
        "colab_type": "code",
        "colab": {}
      },
      "source": [
        "# add tokenized documents in dataframe\n",
        "sources['tokens'] = sources['file_content'].apply(lambda x: nltk.word_tokenize(x))"
      ],
      "execution_count": 12,
      "outputs": []
    },
    {
      "cell_type": "code",
      "metadata": {
        "id": "vh3ikvdKfQ60",
        "colab_type": "code",
        "colab": {}
      },
      "source": [
        "# add new column in df with processed tokens\n",
        "sources['tokens_prep'] = sources['tokens'].apply(lambda x: [w.lower() for w in x if (w.isalnum() and len(w) > 3 )])"
      ],
      "execution_count": 13,
      "outputs": []
    },
    {
      "cell_type": "code",
      "metadata": {
        "id": "3IrR5gbba5ho",
        "colab_type": "code",
        "colab": {}
      },
      "source": [
        "# these lines are useful if we want to provide alternate stop words lists (NLTK)\n",
        "# show list of default NLTK Italian stopwords\n",
        "# stopwords.words('italian')\n",
        "# ital_stopwords = stopwords.words('italian')\n",
        "# to append list of words added by user: ital_stopwords.extend(user_input)\n",
        "# to remove words: ital_stopwords.remove(user_input)"
      ],
      "execution_count": null,
      "outputs": []
    },
    {
      "cell_type": "code",
      "metadata": {
        "id": "8Qw4i2O_CTdQ",
        "colab_type": "code",
        "colab": {}
      },
      "source": [
        "# spacy list of Stop words (seems to be more complete than NLTK)\n",
        "import spacy\n",
        "from spacy.lang.it.stop_words import STOP_WORDS"
      ],
      "execution_count": 14,
      "outputs": []
    },
    {
      "cell_type": "code",
      "metadata": {
        "id": "5SBUnxlpCxEa",
        "colab_type": "code",
        "colab": {}
      },
      "source": [
        "spacy_it_sw = STOP_WORDS"
      ],
      "execution_count": 15,
      "outputs": []
    },
    {
      "cell_type": "code",
      "metadata": {
        "id": "jDvREaSSiM1v",
        "colab_type": "code",
        "colab": {}
      },
      "source": [
        "# add column with tokenized documents without sw\n",
        "sources['tokens_prep_nostop'] = sources['tokens_prep'].apply(lambda x: [w for w in x if not w in spacy_it_sw])"
      ],
      "execution_count": 16,
      "outputs": []
    },
    {
      "cell_type": "markdown",
      "metadata": {
        "id": "hKs7aXWLbVWo",
        "colab_type": "text"
      },
      "source": [
        "## 1.3 Stem"
      ]
    },
    {
      "cell_type": "code",
      "metadata": {
        "id": "uyl0C-xkbLiB",
        "colab_type": "code",
        "colab": {}
      },
      "source": [
        "from nltk.stem.snowball import SnowballStemmer"
      ],
      "execution_count": null,
      "outputs": []
    },
    {
      "cell_type": "code",
      "metadata": {
        "id": "euUXP7UHbaN-",
        "colab_type": "code",
        "colab": {}
      },
      "source": [
        "#initialize with needed language\n",
        "stemmer = SnowballStemmer(\"italian\")"
      ],
      "execution_count": null,
      "outputs": []
    },
    {
      "cell_type": "code",
      "metadata": {
        "id": "CljkLrRmjaot",
        "colab_type": "code",
        "colab": {}
      },
      "source": [
        "# add column with stemmed tokens\n",
        "sources['tokens_stemmed'] = sources['tokens_prep_nostop'].apply(lambda x: [stemmer.stem(w) for w in x])"
      ],
      "execution_count": null,
      "outputs": []
    },
    {
      "cell_type": "markdown",
      "metadata": {
        "id": "YHKQAqemcgYz",
        "colab_type": "text"
      },
      "source": [
        "## 1.4 Lemmatize"
      ]
    },
    {
      "cell_type": "code",
      "metadata": {
        "id": "Ob8M804chYgh",
        "colab_type": "code",
        "colab": {}
      },
      "source": [
        "# Lemmatization is available in multiple languages in Spacy and not in NLTK (only English)\n",
        "# With Spacy, lemmatization is available for 10 languages. There's also a multi-language option that\n",
        "# should be tested if additional languages are needed"
      ],
      "execution_count": null,
      "outputs": []
    },
    {
      "cell_type": "code",
      "metadata": {
        "id": "2QAPblFUwf3F",
        "colab_type": "code",
        "colab": {}
      },
      "source": [
        "%%capture\n",
        "!python -m spacy download it_core_news_sm"
      ],
      "execution_count": 17,
      "outputs": []
    },
    {
      "cell_type": "code",
      "metadata": {
        "id": "8al8riPXA98n",
        "colab_type": "code",
        "colab": {}
      },
      "source": [
        "import it_core_news_sm\n",
        "it_nlp = it_core_news_sm.load(disable=['tagger', 'parser', 'ner'])"
      ],
      "execution_count": 18,
      "outputs": []
    },
    {
      "cell_type": "code",
      "metadata": {
        "id": "YZHdI_8tmv3y",
        "colab_type": "code",
        "colab": {}
      },
      "source": [
        "# lemmatization function\n",
        "def lemmatize(doc):\n",
        "  lemmatized_doc = []\n",
        "  for w in doc:\n",
        "    w_lemma = [token.lemma_ for token in it_nlp(w)]\n",
        "    lemmatized_doc.append(w_lemma[0])\n",
        "  return lemmatized_doc"
      ],
      "execution_count": 19,
      "outputs": []
    },
    {
      "cell_type": "code",
      "metadata": {
        "id": "k-mYWKgSk9CW",
        "colab_type": "code",
        "colab": {}
      },
      "source": [
        "# add column with lemmatized tokens\n",
        "sources['tokens_lemmatized'] = sources['tokens_prep_nostop'].apply(lambda x: lemmatize(x))"
      ],
      "execution_count": 20,
      "outputs": []
    },
    {
      "cell_type": "code",
      "metadata": {
        "id": "tvl0MO_FH5yH",
        "colab_type": "code",
        "colab": {}
      },
      "source": [
        "# variable with lemmatized tokens\n",
        "lemmatized_corpus = sources['tokens_lemmatized']"
      ],
      "execution_count": 21,
      "outputs": []
    },
    {
      "cell_type": "markdown",
      "metadata": {
        "id": "o8TRLnFPK6p4",
        "colab_type": "text"
      },
      "source": [
        "# 2. Topics with LDA"
      ]
    },
    {
      "cell_type": "code",
      "metadata": {
        "id": "Fr1F0QNdOxy3",
        "colab_type": "code",
        "colab": {}
      },
      "source": [
        "#Gensim installation\n",
        "import gensim\n",
        "from gensim.test.utils import common_corpus, common_dictionary\n",
        "from gensim import corpora, models"
      ],
      "execution_count": 22,
      "outputs": []
    },
    {
      "cell_type": "markdown",
      "metadata": {
        "id": "530LX-OLRDcP",
        "colab_type": "text"
      },
      "source": [
        "## 2.1 Preliminary steps to run LDA\n",
        "\n"
      ]
    },
    {
      "cell_type": "markdown",
      "metadata": {
        "id": "GZlLjmvsQAMy",
        "colab_type": "text"
      },
      "source": [
        "### 2.1.1 Bag of words"
      ]
    },
    {
      "cell_type": "code",
      "metadata": {
        "id": "UzxS5Q3aQ7mh",
        "colab_type": "code",
        "colab": {}
      },
      "source": [
        "# dataset = [d.split() for d in lemmatized_corpus] (this is not useful if lemmatized version is used)\n",
        "# Create Dictionary\n",
        "# change \"lemmatized_corpus\" variable by stemmed_corpus or tokenized_corpus_without_sw depending\n",
        "# on which version you would like to work with \n",
        "dictionary = corpora.Dictionary(lemmatized_corpus)\n",
        "corpus = [dictionary.doc2bow(text) for text in lemmatized_corpus]"
      ],
      "execution_count": 23,
      "outputs": []
    },
    {
      "cell_type": "markdown",
      "metadata": {
        "id": "qadtU7aTQMqg",
        "colab_type": "text"
      },
      "source": [
        "## 2.2 LDA"
      ]
    },
    {
      "cell_type": "code",
      "metadata": {
        "id": "eLzvb_yC9nyo",
        "colab_type": "code",
        "colab": {}
      },
      "source": [
        "# set the number of topics here\n",
        "numtopics = 8\n",
        "ldamodel = models.LdaModel(corpus, num_topics=numtopics)"
      ],
      "execution_count": 24,
      "outputs": []
    },
    {
      "cell_type": "code",
      "metadata": {
        "id": "ESfZnRiCeI5h",
        "colab_type": "code",
        "colab": {}
      },
      "source": [
        "data_vis = prepare(ldamodel, corpus, dictionary, doc_topic_dist=None)"
      ],
      "execution_count": 60,
      "outputs": []
    },
    {
      "cell_type": "code",
      "metadata": {
        "id": "bexqmZYHvgme",
        "colab_type": "code",
        "colab": {
          "base_uri": "https://localhost:8080/",
          "height": 419
        },
        "outputId": "25b93f3d-c7d7-4909-8ea8-6a6e7e9b3b8d"
      },
      "source": [
        "data_vis[1]"
      ],
      "execution_count": 93,
      "outputs": [
        {
          "output_type": "execute_result",
          "data": {
            "text/html": [
              "<div>\n",
              "<style scoped>\n",
              "    .dataframe tbody tr th:only-of-type {\n",
              "        vertical-align: middle;\n",
              "    }\n",
              "\n",
              "    .dataframe tbody tr th {\n",
              "        vertical-align: top;\n",
              "    }\n",
              "\n",
              "    .dataframe thead th {\n",
              "        text-align: right;\n",
              "    }\n",
              "</style>\n",
              "<table border=\"1\" class=\"dataframe\">\n",
              "  <thead>\n",
              "    <tr style=\"text-align: right;\">\n",
              "      <th></th>\n",
              "      <th>Category</th>\n",
              "      <th>Freq</th>\n",
              "      <th>Term</th>\n",
              "      <th>Total</th>\n",
              "      <th>loglift</th>\n",
              "      <th>logprob</th>\n",
              "    </tr>\n",
              "  </thead>\n",
              "  <tbody>\n",
              "    <tr>\n",
              "      <th>458</th>\n",
              "      <td>Default</td>\n",
              "      <td>1047.000000</td>\n",
              "      <td>italiano</td>\n",
              "      <td>1047.000000</td>\n",
              "      <td>30.0000</td>\n",
              "      <td>30.0000</td>\n",
              "    </tr>\n",
              "    <tr>\n",
              "      <th>456</th>\n",
              "      <td>Default</td>\n",
              "      <td>494.000000</td>\n",
              "      <td>italia</td>\n",
              "      <td>494.000000</td>\n",
              "      <td>29.0000</td>\n",
              "      <td>29.0000</td>\n",
              "    </tr>\n",
              "    <tr>\n",
              "      <th>278</th>\n",
              "      <td>Default</td>\n",
              "      <td>495.000000</td>\n",
              "      <td>dispaccio</td>\n",
              "      <td>495.000000</td>\n",
              "      <td>28.0000</td>\n",
              "      <td>28.0000</td>\n",
              "    </tr>\n",
              "    <tr>\n",
              "      <th>918</th>\n",
              "      <td>Default</td>\n",
              "      <td>382.000000</td>\n",
              "      <td>telegrafico</td>\n",
              "      <td>382.000000</td>\n",
              "      <td>27.0000</td>\n",
              "      <td>27.0000</td>\n",
              "    </tr>\n",
              "    <tr>\n",
              "      <th>802</th>\n",
              "      <td>Default</td>\n",
              "      <td>468.000000</td>\n",
              "      <td>roma</td>\n",
              "      <td>468.000000</td>\n",
              "      <td>26.0000</td>\n",
              "      <td>26.0000</td>\n",
              "    </tr>\n",
              "    <tr>\n",
              "      <th>...</th>\n",
              "      <td>...</td>\n",
              "      <td>...</td>\n",
              "      <td>...</td>\n",
              "      <td>...</td>\n",
              "      <td>...</td>\n",
              "      <td>...</td>\n",
              "    </tr>\n",
              "    <tr>\n",
              "      <th>647</th>\n",
              "      <td>Topic8</td>\n",
              "      <td>3.968546</td>\n",
              "      <td>patrio</td>\n",
              "      <td>160.094391</td>\n",
              "      <td>-0.0190</td>\n",
              "      <td>-6.7034</td>\n",
              "    </tr>\n",
              "    <tr>\n",
              "      <th>295</th>\n",
              "      <td>Topic8</td>\n",
              "      <td>4.396061</td>\n",
              "      <td>dovere</td>\n",
              "      <td>222.882446</td>\n",
              "      <td>-0.2476</td>\n",
              "      <td>-6.6011</td>\n",
              "    </tr>\n",
              "    <tr>\n",
              "      <th>1604</th>\n",
              "      <td>Topic8</td>\n",
              "      <td>4.449256</td>\n",
              "      <td>papa</td>\n",
              "      <td>232.786301</td>\n",
              "      <td>-0.2790</td>\n",
              "      <td>-6.5891</td>\n",
              "    </tr>\n",
              "    <tr>\n",
              "      <th>401</th>\n",
              "      <td>Topic8</td>\n",
              "      <td>4.113610</td>\n",
              "      <td>gran</td>\n",
              "      <td>208.244720</td>\n",
              "      <td>-0.2461</td>\n",
              "      <td>-6.6675</td>\n",
              "    </tr>\n",
              "    <tr>\n",
              "      <th>594</th>\n",
              "      <td>Topic8</td>\n",
              "      <td>4.025492</td>\n",
              "      <td>nome</td>\n",
              "      <td>197.686615</td>\n",
              "      <td>-0.2157</td>\n",
              "      <td>-6.6892</td>\n",
              "    </tr>\n",
              "  </tbody>\n",
              "</table>\n",
              "<p>742 rows × 6 columns</p>\n",
              "</div>"
            ],
            "text/plain": [
              "     Category         Freq         Term        Total  loglift  logprob\n",
              "458   Default  1047.000000     italiano  1047.000000  30.0000  30.0000\n",
              "456   Default   494.000000       italia   494.000000  29.0000  29.0000\n",
              "278   Default   495.000000    dispaccio   495.000000  28.0000  28.0000\n",
              "918   Default   382.000000  telegrafico   382.000000  27.0000  27.0000\n",
              "802   Default   468.000000         roma   468.000000  26.0000  26.0000\n",
              "...       ...          ...          ...          ...      ...      ...\n",
              "647    Topic8     3.968546       patrio   160.094391  -0.0190  -6.7034\n",
              "295    Topic8     4.396061       dovere   222.882446  -0.2476  -6.6011\n",
              "1604   Topic8     4.449256         papa   232.786301  -0.2790  -6.5891\n",
              "401    Topic8     4.113610         gran   208.244720  -0.2461  -6.6675\n",
              "594    Topic8     4.025492         nome   197.686615  -0.2157  -6.6892\n",
              "\n",
              "[742 rows x 6 columns]"
            ]
          },
          "metadata": {
            "tags": []
          },
          "execution_count": 93
        }
      ]
    },
    {
      "cell_type": "code",
      "metadata": {
        "id": "lDaiRV5DxsfC",
        "colab_type": "code",
        "colab": {}
      },
      "source": [
        "data_vis_2 = prepare(ldamodel, corpus, dictionary, doc_topic_dist=None)"
      ],
      "execution_count": 80,
      "outputs": []
    },
    {
      "cell_type": "code",
      "metadata": {
        "id": "MDP1tfx3x3tH",
        "colab_type": "code",
        "colab": {
          "base_uri": "https://localhost:8080/",
          "height": 1000
        },
        "outputId": "450bbc79-a414-473c-868f-7e3b3c4eb9d4"
      },
      "source": [
        "data_vis_2[2][30:60]"
      ],
      "execution_count": 87,
      "outputs": [
        {
          "output_type": "execute_result",
          "data": {
            "text/html": [
              "<div>\n",
              "<style scoped>\n",
              "    .dataframe tbody tr th:only-of-type {\n",
              "        vertical-align: middle;\n",
              "    }\n",
              "\n",
              "    .dataframe tbody tr th {\n",
              "        vertical-align: top;\n",
              "    }\n",
              "\n",
              "    .dataframe thead th {\n",
              "        text-align: right;\n",
              "    }\n",
              "</style>\n",
              "<table border=\"1\" class=\"dataframe\">\n",
              "  <thead>\n",
              "    <tr style=\"text-align: right;\">\n",
              "      <th></th>\n",
              "      <th>Topic</th>\n",
              "      <th>Freq</th>\n",
              "      <th>Term</th>\n",
              "    </tr>\n",
              "    <tr>\n",
              "      <th>term</th>\n",
              "      <th></th>\n",
              "      <th></th>\n",
              "      <th></th>\n",
              "    </tr>\n",
              "  </thead>\n",
              "  <tbody>\n",
              "    <tr>\n",
              "      <th>3267</th>\n",
              "      <td>6</td>\n",
              "      <td>0.061560</td>\n",
              "      <td>albanese</td>\n",
              "    </tr>\n",
              "    <tr>\n",
              "      <th>3267</th>\n",
              "      <td>7</td>\n",
              "      <td>0.061560</td>\n",
              "      <td>albanese</td>\n",
              "    </tr>\n",
              "    <tr>\n",
              "      <th>39</th>\n",
              "      <td>1</td>\n",
              "      <td>0.325863</td>\n",
              "      <td>alcun</td>\n",
              "    </tr>\n",
              "    <tr>\n",
              "      <th>39</th>\n",
              "      <td>2</td>\n",
              "      <td>0.224031</td>\n",
              "      <td>alcun</td>\n",
              "    </tr>\n",
              "    <tr>\n",
              "      <th>39</th>\n",
              "      <td>3</td>\n",
              "      <td>0.101832</td>\n",
              "      <td>alcun</td>\n",
              "    </tr>\n",
              "    <tr>\n",
              "      <th>39</th>\n",
              "      <td>4</td>\n",
              "      <td>0.142565</td>\n",
              "      <td>alcun</td>\n",
              "    </tr>\n",
              "    <tr>\n",
              "      <th>39</th>\n",
              "      <td>5</td>\n",
              "      <td>0.081466</td>\n",
              "      <td>alcun</td>\n",
              "    </tr>\n",
              "    <tr>\n",
              "      <th>39</th>\n",
              "      <td>6</td>\n",
              "      <td>0.061099</td>\n",
              "      <td>alcun</td>\n",
              "    </tr>\n",
              "    <tr>\n",
              "      <th>39</th>\n",
              "      <td>7</td>\n",
              "      <td>0.040733</td>\n",
              "      <td>alcun</td>\n",
              "    </tr>\n",
              "    <tr>\n",
              "      <th>39</th>\n",
              "      <td>8</td>\n",
              "      <td>0.020366</td>\n",
              "      <td>alcun</td>\n",
              "    </tr>\n",
              "    <tr>\n",
              "      <th>3936</th>\n",
              "      <td>1</td>\n",
              "      <td>0.411226</td>\n",
              "      <td>alessandro</td>\n",
              "    </tr>\n",
              "    <tr>\n",
              "      <th>3936</th>\n",
              "      <td>2</td>\n",
              "      <td>0.151504</td>\n",
              "      <td>alessandro</td>\n",
              "    </tr>\n",
              "    <tr>\n",
              "      <th>3936</th>\n",
              "      <td>3</td>\n",
              "      <td>0.129861</td>\n",
              "      <td>alessandro</td>\n",
              "    </tr>\n",
              "    <tr>\n",
              "      <th>3936</th>\n",
              "      <td>4</td>\n",
              "      <td>0.108217</td>\n",
              "      <td>alessandro</td>\n",
              "    </tr>\n",
              "    <tr>\n",
              "      <th>3936</th>\n",
              "      <td>5</td>\n",
              "      <td>0.086574</td>\n",
              "      <td>alessandro</td>\n",
              "    </tr>\n",
              "    <tr>\n",
              "      <th>3936</th>\n",
              "      <td>6</td>\n",
              "      <td>0.043287</td>\n",
              "      <td>alessandro</td>\n",
              "    </tr>\n",
              "    <tr>\n",
              "      <th>3936</th>\n",
              "      <td>7</td>\n",
              "      <td>0.021643</td>\n",
              "      <td>alessandro</td>\n",
              "    </tr>\n",
              "    <tr>\n",
              "      <th>3936</th>\n",
              "      <td>8</td>\n",
              "      <td>0.021643</td>\n",
              "      <td>alessandro</td>\n",
              "    </tr>\n",
              "    <tr>\n",
              "      <th>44</th>\n",
              "      <td>1</td>\n",
              "      <td>0.272122</td>\n",
              "      <td>alto</td>\n",
              "    </tr>\n",
              "    <tr>\n",
              "      <th>44</th>\n",
              "      <td>2</td>\n",
              "      <td>0.244910</td>\n",
              "      <td>alto</td>\n",
              "    </tr>\n",
              "    <tr>\n",
              "      <th>44</th>\n",
              "      <td>3</td>\n",
              "      <td>0.163273</td>\n",
              "      <td>alto</td>\n",
              "    </tr>\n",
              "    <tr>\n",
              "      <th>44</th>\n",
              "      <td>4</td>\n",
              "      <td>0.081637</td>\n",
              "      <td>alto</td>\n",
              "    </tr>\n",
              "    <tr>\n",
              "      <th>44</th>\n",
              "      <td>5</td>\n",
              "      <td>0.095243</td>\n",
              "      <td>alto</td>\n",
              "    </tr>\n",
              "    <tr>\n",
              "      <th>44</th>\n",
              "      <td>6</td>\n",
              "      <td>0.068030</td>\n",
              "      <td>alto</td>\n",
              "    </tr>\n",
              "    <tr>\n",
              "      <th>44</th>\n",
              "      <td>7</td>\n",
              "      <td>0.040818</td>\n",
              "      <td>alto</td>\n",
              "    </tr>\n",
              "    <tr>\n",
              "      <th>44</th>\n",
              "      <td>8</td>\n",
              "      <td>0.027212</td>\n",
              "      <td>alto</td>\n",
              "    </tr>\n",
              "    <tr>\n",
              "      <th>45</th>\n",
              "      <td>1</td>\n",
              "      <td>0.393373</td>\n",
              "      <td>altro</td>\n",
              "    </tr>\n",
              "    <tr>\n",
              "      <th>45</th>\n",
              "      <td>2</td>\n",
              "      <td>0.216355</td>\n",
              "      <td>altro</td>\n",
              "    </tr>\n",
              "    <tr>\n",
              "      <th>45</th>\n",
              "      <td>3</td>\n",
              "      <td>0.118012</td>\n",
              "      <td>altro</td>\n",
              "    </tr>\n",
              "    <tr>\n",
              "      <th>45</th>\n",
              "      <td>4</td>\n",
              "      <td>0.098343</td>\n",
              "      <td>altro</td>\n",
              "    </tr>\n",
              "  </tbody>\n",
              "</table>\n",
              "</div>"
            ],
            "text/plain": [
              "      Topic      Freq        Term\n",
              "term                             \n",
              "3267      6  0.061560    albanese\n",
              "3267      7  0.061560    albanese\n",
              "39        1  0.325863       alcun\n",
              "39        2  0.224031       alcun\n",
              "39        3  0.101832       alcun\n",
              "39        4  0.142565       alcun\n",
              "39        5  0.081466       alcun\n",
              "39        6  0.061099       alcun\n",
              "39        7  0.040733       alcun\n",
              "39        8  0.020366       alcun\n",
              "3936      1  0.411226  alessandro\n",
              "3936      2  0.151504  alessandro\n",
              "3936      3  0.129861  alessandro\n",
              "3936      4  0.108217  alessandro\n",
              "3936      5  0.086574  alessandro\n",
              "3936      6  0.043287  alessandro\n",
              "3936      7  0.021643  alessandro\n",
              "3936      8  0.021643  alessandro\n",
              "44        1  0.272122        alto\n",
              "44        2  0.244910        alto\n",
              "44        3  0.163273        alto\n",
              "44        4  0.081637        alto\n",
              "44        5  0.095243        alto\n",
              "44        6  0.068030        alto\n",
              "44        7  0.040818        alto\n",
              "44        8  0.027212        alto\n",
              "45        1  0.393373       altro\n",
              "45        2  0.216355       altro\n",
              "45        3  0.118012       altro\n",
              "45        4  0.098343       altro"
            ]
          },
          "metadata": {
            "tags": []
          },
          "execution_count": 87
        }
      ]
    },
    {
      "cell_type": "code",
      "metadata": {
        "id": "HKmUkZcqXGxN",
        "colab_type": "code",
        "colab": {}
      },
      "source": [
        "\"\"\"\n",
        "pyLDAvis Prepare\n",
        "===============\n",
        "Main transformation functions for preparing LDAdata to the visualization's data structures\n",
        "\"\"\"\n",
        "\n",
        "from __future__ import absolute_import\n",
        "from past.builtins import basestring\n",
        "from collections import namedtuple\n",
        "import json\n",
        "import logging\n",
        "from joblib import Parallel, delayed, cpu_count\n",
        "import numpy as np\n",
        "import pandas as pd\n",
        "from scipy.stats import entropy\n",
        "from scipy.spatial.distance import pdist, squareform\n",
        "\n",
        "try:\n",
        "    from sklearn.manifold import MDS, TSNE\n",
        "    sklearn_present = True\n",
        "except ImportError:\n",
        "    sklearn_present = False\n",
        "\n",
        "\n",
        "def __num_dist_rows__(array, ndigits=2):\n",
        "    return array.shape[0] - int((pd.DataFrame(array).sum(axis=1) < 0.999).sum())\n",
        "\n",
        "\n",
        "class ValidationError(ValueError):\n",
        "    pass\n",
        "\n",
        "\n",
        "def _input_check(topic_term_dists, doc_topic_dists, doc_lengths, vocab, term_frequency):\n",
        "    ttds = topic_term_dists.shape\n",
        "    dtds = doc_topic_dists.shape\n",
        "    errors = []\n",
        "\n",
        "    def err(msg):\n",
        "        errors.append(msg)\n",
        "\n",
        "    if dtds[1] != ttds[0]:\n",
        "        err_msg = ('Number of rows of topic_term_dists does not match number of columns of '\n",
        "                   'doc_topic_dists; both should be equal to the number of topics in the model.')\n",
        "        err(err_msg)\n",
        "\n",
        "    if len(doc_lengths) != dtds[0]:\n",
        "        err_msg = ('Length of doc_lengths not equal to the number of rows in doc_topic_dists;'\n",
        "                   'both should be equal to the number of documents in the data.')\n",
        "        err(err_msg)\n",
        "\n",
        "    W = len(vocab)\n",
        "    if ttds[1] != W:\n",
        "        err_msg = ('Number of terms in vocabulary does not match the number of columns of '\n",
        "                   'topic_term_dists (where each row of topic_term_dists is a probability '\n",
        "                   'distribution of terms for a given topic)')\n",
        "        err(err_msg)\n",
        "    if len(term_frequency) != W:\n",
        "        err_msg = ('Length of term_frequency not equal to the number of terms in the '\n",
        "                   'number of terms in the vocabulary (len of vocab)')\n",
        "        err(err_msg)\n",
        "\n",
        "    if __num_dist_rows__(topic_term_dists) != ttds[0]:\n",
        "        err('Not all rows (distributions) in topic_term_dists sum to 1.')\n",
        "\n",
        "    if __num_dist_rows__(doc_topic_dists) != dtds[0]:\n",
        "        err('Not all rows (distributions) in doc_topic_dists sum to 1.')\n",
        "\n",
        "    if len(errors) > 0:\n",
        "        return errors\n",
        "\n",
        "\n",
        "def _input_validate(*args):\n",
        "    res = _input_check(*args)\n",
        "    if res:\n",
        "        raise ValidationError('\\n' + '\\n'.join([' * ' + s for s in res]))\n",
        "\n",
        "\n",
        "def _jensen_shannon(_P, _Q):\n",
        "    _M = 0.5 * (_P + _Q)\n",
        "    return 0.5 * (entropy(_P, _M) + entropy(_Q, _M))\n",
        "\n",
        "\n",
        "def _pcoa(pair_dists, n_components=2):\n",
        "    \"\"\"Principal Coordinate Analysis,\n",
        "    aka Classical Multidimensional Scaling\n",
        "    \"\"\"\n",
        "    # code referenced from skbio.stats.ordination.pcoa\n",
        "    # https://github.com/biocore/scikit-bio/blob/0.5.0/skbio/stats/ordination/_principal_coordinate_analysis.py\n",
        "\n",
        "    # pairwise distance matrix is assumed symmetric\n",
        "    pair_dists = np.asarray(pair_dists, np.float64)\n",
        "\n",
        "    # perform SVD on double centred distance matrix\n",
        "    n = pair_dists.shape[0]\n",
        "    H = np.eye(n) - np.ones((n, n)) / n\n",
        "    B = - H.dot(pair_dists ** 2).dot(H) / 2\n",
        "    eigvals, eigvecs = np.linalg.eig(B)\n",
        "\n",
        "    # Take first n_components of eigenvalues and eigenvectors\n",
        "    # sorted in decreasing order\n",
        "    ix = eigvals.argsort()[::-1][:n_components]\n",
        "    eigvals = eigvals[ix]\n",
        "    eigvecs = eigvecs[:, ix]\n",
        "\n",
        "    # replace any remaining negative eigenvalues and associated eigenvectors with zeroes\n",
        "    # at least 1 eigenvalue must be zero\n",
        "    eigvals[np.isclose(eigvals, 0)] = 0\n",
        "    if np.any(eigvals < 0):\n",
        "        ix_neg = eigvals < 0\n",
        "        eigvals[ix_neg] = np.zeros(eigvals[ix_neg].shape)\n",
        "        eigvecs[:, ix_neg] = np.zeros(eigvecs[:, ix_neg].shape)\n",
        "\n",
        "    return np.sqrt(eigvals) * eigvecs\n",
        "\n",
        "\n",
        "def js_PCoA(distributions):\n",
        "    \"\"\"Dimension reduction via Jensen-Shannon Divergence & Principal Coordinate Analysis\n",
        "    (aka Classical Multidimensional Scaling)\n",
        "\n",
        "    Parameters\n",
        "    ----------\n",
        "    distributions : array-like, shape (`n_dists`, `k`)\n",
        "        Matrix of distributions probabilities.\n",
        "\n",
        "    Returns\n",
        "    -------\n",
        "    pcoa : array, shape (`n_dists`, 2)\n",
        "    \"\"\"\n",
        "    dist_matrix = squareform(pdist(distributions, metric=_jensen_shannon))\n",
        "    return _pcoa(dist_matrix)\n",
        "\n",
        "\n",
        "def js_MMDS(distributions, **kwargs):\n",
        "    \"\"\"Dimension reduction via Jensen-Shannon Divergence & Metric Multidimensional Scaling\n",
        "\n",
        "    Parameters\n",
        "    ----------\n",
        "    distributions : array-like, shape (`n_dists`, `k`)\n",
        "        Matrix of distributions probabilities.\n",
        "\n",
        "    **kwargs : Keyword argument to be passed to `sklearn.manifold.MDS()`\n",
        "\n",
        "    Returns\n",
        "    -------\n",
        "    mmds : array, shape (`n_dists`, 2)\n",
        "    \"\"\"\n",
        "    dist_matrix = squareform(pdist(distributions, metric=_jensen_shannon))\n",
        "    model = MDS(n_components=2, random_state=0, dissimilarity='precomputed', **kwargs)\n",
        "    return model.fit_transform(dist_matrix)\n",
        "\n",
        "\n",
        "def js_TSNE(distributions, **kwargs):\n",
        "    \"\"\"Dimension reduction via Jensen-Shannon Divergence & t-distributed Stochastic Neighbor Embedding\n",
        "\n",
        "    Parameters\n",
        "    ----------\n",
        "    distributions : array-like, shape (`n_dists`, `k`)\n",
        "        Matrix of distributions probabilities.\n",
        "\n",
        "    **kwargs : Keyword argument to be passed to `sklearn.manifold.TSNE()`\n",
        "\n",
        "    Returns\n",
        "    -------\n",
        "    tsne : array, shape (`n_dists`, 2)\n",
        "    \"\"\"\n",
        "    dist_matrix = squareform(pdist(distributions, metric=_jensen_shannon))\n",
        "    model = TSNE(n_components=2, random_state=0, metric='precomputed', **kwargs)\n",
        "    return model.fit_transform(dist_matrix)\n",
        "\n",
        "\n",
        "def _df_with_names(data, index_name, columns_name):\n",
        "    if type(data) == pd.DataFrame:\n",
        "        # we want our index to be numbered\n",
        "        df = pd.DataFrame(data.values)\n",
        "    else:\n",
        "        df = pd.DataFrame(data)\n",
        "    df.index.name = index_name\n",
        "    df.columns.name = columns_name\n",
        "    return df\n",
        "\n",
        "\n",
        "def _series_with_name(data, name):\n",
        "    if type(data) == pd.Series:\n",
        "        data.name = name\n",
        "        # ensures a numeric index\n",
        "        return data.reset_index()[name]\n",
        "    else:\n",
        "        return pd.Series(data, name=name)\n",
        "\n",
        "\n",
        "def _topic_coordinates(mds, topic_term_dists, topic_proportion):\n",
        "    K = topic_term_dists.shape[0]\n",
        "    mds_res = mds(topic_term_dists)\n",
        "    assert mds_res.shape == (K, 2)\n",
        "    mds_df = pd.DataFrame({'x': mds_res[:, 0], 'y': mds_res[:, 1], 'topics': range(1, K + 1),\n",
        "                          'cluster': 1, 'Freq': topic_proportion * 100})\n",
        "    # note: cluster (should?) be deprecated soon. See: https://github.com/cpsievert/LDAvis/issues/26\n",
        "    return mds_df\n",
        "\n",
        "\n",
        "def _chunks(l, n):\n",
        "    \"\"\" Yield successive n-sized chunks from l.\n",
        "    \"\"\"\n",
        "    for i in range(0, len(l), n):\n",
        "        yield l[i:i + n]\n",
        "\n",
        "\n",
        "def _job_chunks(l, n_jobs):\n",
        "    n_chunks = n_jobs\n",
        "    if n_jobs < 0:\n",
        "        # so, have n chunks if we are using all n cores/cpus\n",
        "        n_chunks = cpu_count() + 1 - n_jobs\n",
        "\n",
        "    return _chunks(l, n_chunks)\n",
        "\n",
        "\n",
        "def _find_relevance(log_ttd, log_lift, R, lambda_):\n",
        "    relevance = lambda_ * log_ttd + (1 - lambda_) * log_lift\n",
        "    return relevance.T.apply(lambda s: s.sort_values(ascending=False).index).head(R)\n",
        "\n",
        "\n",
        "def _find_relevance_chunks(log_ttd, log_lift, R, lambda_seq):\n",
        "    return pd.concat([_find_relevance(log_ttd, log_lift, R, l) for l in lambda_seq])\n",
        "\n",
        "\n",
        "def _topic_info(topic_term_dists, topic_proportion, term_frequency, term_topic_freq,\n",
        "                vocab, lambda_step, R, n_jobs):\n",
        "    # marginal distribution over terms (width of blue bars)\n",
        "    term_proportion = term_frequency / term_frequency.sum()\n",
        "\n",
        "    # compute the distinctiveness and saliency of the terms:\n",
        "    # this determines the R terms that are displayed when no topic is selected\n",
        "    topic_given_term = topic_term_dists / topic_term_dists.sum()\n",
        "    kernel = (topic_given_term * np.log((topic_given_term.T / topic_proportion).T))\n",
        "    distinctiveness = kernel.sum()\n",
        "    saliency = term_proportion * distinctiveness\n",
        "    # Order the terms for the \"default\" view by decreasing saliency:\n",
        "    default_term_info = pd.DataFrame({\n",
        "        'saliency': saliency,\n",
        "        'Term': vocab,\n",
        "        'Freq': term_frequency,\n",
        "        'Total': term_frequency,\n",
        "        'Category': 'Default'})\n",
        "    default_term_info = default_term_info.sort_values(\n",
        "        by='saliency', ascending=False).head(R).drop('saliency', 1)\n",
        "    # Rounding Freq and Total to integer values to match LDAvis code:\n",
        "    default_term_info['Freq'] = np.floor(default_term_info['Freq'])\n",
        "    default_term_info['Total'] = np.floor(default_term_info['Total'])\n",
        "    ranks = np.arange(R, 0, -1)\n",
        "    default_term_info['logprob'] = default_term_info['loglift'] = ranks\n",
        "\n",
        "    # compute relevance and top terms for each topic\n",
        "    log_lift = np.log(topic_term_dists / term_proportion)\n",
        "    log_ttd = np.log(topic_term_dists)\n",
        "    lambda_seq = np.arange(0, 1 + lambda_step, lambda_step)\n",
        "\n",
        "    def topic_top_term_df(tup):\n",
        "        new_topic_id, (original_topic_id, topic_terms) = tup\n",
        "        term_ix = topic_terms.unique()\n",
        "        return pd.DataFrame({'Term': vocab[term_ix],\n",
        "                             'Freq': term_topic_freq.loc[original_topic_id, term_ix],\n",
        "                             'Total': term_frequency[term_ix],\n",
        "                             'logprob': log_ttd.loc[original_topic_id, term_ix].round(4),\n",
        "                             'loglift': log_lift.loc[original_topic_id, term_ix].round(4),\n",
        "                             'Category': 'Topic%d' % new_topic_id})\n",
        "\n",
        "    top_terms = pd.concat(Parallel(n_jobs=n_jobs)\n",
        "                          (delayed(_find_relevance_chunks)(log_ttd, log_lift, R, ls)\n",
        "                          for ls in _job_chunks(lambda_seq, n_jobs)))\n",
        "    topic_dfs = map(topic_top_term_df, enumerate(top_terms.T.iterrows(), 1))\n",
        "    return pd.concat([default_term_info] + list(topic_dfs), sort=True)\n",
        "\n",
        "\n",
        "def _token_table(topic_info, term_topic_freq, vocab, term_frequency):\n",
        "    # last, to compute the areas of the circles when a term is highlighted\n",
        "    # we must gather all unique terms that could show up (for every combination\n",
        "    # of topic and value of lambda) and compute its distribution over topics.\n",
        "\n",
        "    # term-topic frequency table of unique terms across all topics and all values of lambda\n",
        "    term_ix = topic_info.index.unique()\n",
        "    term_ix = np.sort(term_ix)\n",
        "\n",
        "    top_topic_terms_freq = term_topic_freq[term_ix]\n",
        "    # use the new ordering for the topics\n",
        "    K = len(term_topic_freq)\n",
        "    top_topic_terms_freq.index = range(1, K + 1)\n",
        "    top_topic_terms_freq.index.name = 'Topic'\n",
        "\n",
        "    # we filter to Freq >= 0.5 to avoid sending too much data to the browser\n",
        "    token_table = pd.DataFrame({'Freq': top_topic_terms_freq.unstack()})\\\n",
        "        .reset_index().set_index('term').query('Freq >= 0.5')\n",
        "\n",
        "    token_table['Freq'] = token_table['Freq'].round()\n",
        "    token_table['Term'] = vocab[token_table.index.values].values\n",
        "    # Normalize token frequencies:\n",
        "    token_table['Freq'] = token_table.Freq / term_frequency[token_table.index]\n",
        "    return token_table.sort_values(by=['Term', 'Topic'])\n",
        "\n",
        "\n",
        "def vis_prepare(topic_term_dists, doc_topic_dists, doc_lengths, vocab, term_frequency,\n",
        "            R=30, lambda_step=0.01, mds=js_PCoA, n_jobs=-1,\n",
        "            plot_opts={'xlab': 'PC1', 'ylab': 'PC2'}, sort_topics=True):\n",
        "    \"\"\"Transforms the topic model distributions and related corpus data into\n",
        "    the data structures needed for the visualization.\n",
        "\n",
        "    Parameters\n",
        "    ----------\n",
        "    topic_term_dists : array-like, shape (`n_topics`, `n_terms`)\n",
        "        Matrix of topic-term probabilities. Where `n_terms` is `len(vocab)`.\n",
        "    doc_topic_dists : array-like, shape (`n_docs`, `n_topics`)\n",
        "        Matrix of document-topic probabilities.\n",
        "    doc_lengths : array-like, shape `n_docs`\n",
        "        The length of each document, i.e. the number of words in each document.\n",
        "        The order of the numbers should be consistent with the ordering of the\n",
        "        docs in `doc_topic_dists`.\n",
        "    vocab : array-like, shape `n_terms`\n",
        "        List of all the words in the corpus used to train the model.\n",
        "    term_frequency : array-like, shape `n_terms`\n",
        "        The count of each particular term over the entire corpus. The ordering\n",
        "        of these counts should correspond with `vocab` and `topic_term_dists`.\n",
        "    R : int\n",
        "        The number of terms to display in the barcharts of the visualization.\n",
        "        Default is 30. Recommended to be roughly between 10 and 50.\n",
        "    lambda_step : float, between 0 and 1\n",
        "        Determines the interstep distance in the grid of lambda values over\n",
        "        which to iterate when computing relevance.\n",
        "        Default is 0.01. Recommended to be between 0.01 and 0.1.\n",
        "    mds : function or a string representation of function\n",
        "        A function that takes `topic_term_dists` as an input and outputs a\n",
        "        `n_topics` by `2`  distance matrix. The output approximates the distance\n",
        "        between topics. See :func:`js_PCoA` for details on the default function.\n",
        "        A string representation currently accepts `pcoa` (or upper case variant),\n",
        "        `mmds` (or upper case variant) and `tsne` (or upper case variant),\n",
        "        if `sklearn` package is installed for the latter two.\n",
        "    n_jobs : int\n",
        "        The number of cores to be used to do the computations. The regular\n",
        "        joblib conventions are followed so `-1`, which is the default, will\n",
        "        use all cores.\n",
        "    plot_opts : dict, with keys 'xlab' and `ylab`\n",
        "        Dictionary of plotting options, right now only used for the axis labels.\n",
        "    sort_topics : sort topics by topic proportion (percentage of tokens covered). Set to false to\n",
        "        to keep original topic order.\n",
        "\n",
        "    Returns\n",
        "    -------\n",
        "    prepared_data : PreparedData\n",
        "        A named tuple containing all the data structures required to create\n",
        "        the visualization. To be passed on to functions like :func:`display`.\n",
        "        This named tuple can be represented as json or a python dictionary.\n",
        "        There is a helper function 'sorted_terms' that can be used to get\n",
        "        the terms of a topic using lambda to rank their relevance.\n",
        "\n",
        "\n",
        "    Notes\n",
        "    -----\n",
        "    This implements the method of `Sievert, C. and Shirley, K. (2014):\n",
        "    LDAvis: A Method for Visualizing and Interpreting Topics, ACL Workshop on\n",
        "    Interactive Language Learning, Visualization, and Interfaces.`\n",
        "\n",
        "    http://nlp.stanford.edu/events/illvi2014/papers/sievert-illvi2014.pdf\n",
        "\n",
        "    See Also\n",
        "    --------\n",
        "    :func:`save_json`: save json representation of a figure to file\n",
        "    :func:`save_html` : save html representation of a figure to file\n",
        "    :func:`show` : launch a local server and show a figure in a browser\n",
        "    :func:`display` : embed figure within the IPython notebook\n",
        "    :func:`enable_notebook` : automatically embed visualizations in IPython notebook\n",
        "   \"\"\"\n",
        "    # parse mds\n",
        "    if isinstance(mds, basestring):\n",
        "        mds = mds.lower()\n",
        "        if mds == 'pcoa':\n",
        "            mds = js_PCoA\n",
        "        elif mds in ('mmds', 'tsne'):\n",
        "            if sklearn_present:\n",
        "                mds_opts = {'mmds': js_MMDS, 'tsne': js_TSNE}\n",
        "                mds = mds_opts[mds]\n",
        "            else:\n",
        "                logging.warning('sklearn not present, switch to PCoA')\n",
        "                mds = js_PCoA\n",
        "        else:\n",
        "            logging.warning('Unknown mds `%s`, switch to PCoA' % mds)\n",
        "            mds = js_PCoA\n",
        "\n",
        "    topic_term_dists = _df_with_names(topic_term_dists, 'topic', 'term')\n",
        "    doc_topic_dists = _df_with_names(doc_topic_dists, 'doc', 'topic')\n",
        "    term_frequency = _series_with_name(term_frequency, 'term_frequency')\n",
        "    doc_lengths = _series_with_name(doc_lengths, 'doc_length')\n",
        "    vocab = _series_with_name(vocab, 'vocab')\n",
        "    _input_validate(topic_term_dists, doc_topic_dists, doc_lengths, vocab, term_frequency)\n",
        "    R = min(R, len(vocab))\n",
        "\n",
        "    topic_freq = (doc_topic_dists.T * doc_lengths).T.sum()\n",
        "    # topic_freq       = np.dot(doc_topic_dists.T, doc_lengths)\n",
        "    if (sort_topics):\n",
        "        topic_proportion = (topic_freq / topic_freq.sum()).sort_values(ascending=False)\n",
        "    else:\n",
        "        topic_proportion = (topic_freq / topic_freq.sum())\n",
        "\n",
        "    topic_order = topic_proportion.index\n",
        "    # reorder all data based on new ordering of topics\n",
        "    topic_freq = topic_freq[topic_order]\n",
        "    topic_term_dists = topic_term_dists.iloc[topic_order]\n",
        "    doc_topic_dists = doc_topic_dists[topic_order]\n",
        "\n",
        "    # token counts for each term-topic combination (widths of red bars)\n",
        "    term_topic_freq = (topic_term_dists.T * topic_freq).T\n",
        "    # Quick fix for red bar width bug.  We calculate the\n",
        "    # term frequencies internally, using the topic term distributions and the\n",
        "    # topic frequencies, rather than using the user-supplied term frequencies.\n",
        "    # For a detailed discussion, see: https://github.com/cpsievert/LDAvis/pull/41\n",
        "    term_frequency = np.sum(term_topic_freq, axis=0)\n",
        "\n",
        "    topic_info = _topic_info(topic_term_dists, topic_proportion,\n",
        "                             term_frequency, term_topic_freq, vocab, lambda_step, R, n_jobs)\n",
        "    token_table = _token_table(topic_info, term_topic_freq, vocab, term_frequency)\n",
        "    topic_coordinates = _topic_coordinates(mds, topic_term_dists, topic_proportion)\n",
        "    client_topic_order = [x + 1 for x in topic_order]\n",
        "\n",
        "\n",
        "\n",
        "    return PreparedData(topic_coordinates, topic_info,\n",
        "                        token_table, R, lambda_step, plot_opts, client_topic_order)\n",
        "\n",
        "\n",
        "class PreparedData(namedtuple('PreparedData', ['topic_coordinates', 'topic_info', 'token_table',\n",
        "                                               'R', 'lambda_step', 'plot_opts', 'topic_order'])):\n",
        "  \n",
        "\n",
        "    def sorted_terms(self, topic=1, _lambda=1):\n",
        "        \"\"\"Retuns a dataframe using _lambda to calculate term relevance of a given topic.\"\"\"\n",
        "        tdf = pd.DataFrame(self.topic_info[self.topic_info.Category == 'Topic' + str(topic)])\n",
        "        if _lambda < 0 or _lambda > 1:\n",
        "            _lambda = 1\n",
        "        stdf = tdf.assign(relevance=_lambda * tdf['logprob'] + (1 - _lambda) * tdf['loglift'])\n",
        "\n",
        "        return stdf.sort_values('relevance', ascending=False)\n",
        "\n",
        "\n",
        "\n",
        "    def to_dict(self):\n",
        "        return {'mdsDat': self.topic_coordinates.to_dict(orient='list'),\n",
        "                'tinfo': self.topic_info.to_dict(orient='list'),\n",
        "                'token.table': self.token_table.to_dict(orient='list'),\n",
        "                'R': self.R,\n",
        "                'lambda.step': self.lambda_step,\n",
        "                'plot.opts': self.plot_opts,\n",
        "                'topic.order': self.topic_order}\n",
        "              \n",
        "\n",
        "    def to_json(self):\n",
        "        return json.dumps(self.to_dict(), cls=NumPyEncoder)"
      ],
      "execution_count": 88,
      "outputs": []
    },
    {
      "cell_type": "code",
      "metadata": {
        "id": "ggGfvN2FcPyl",
        "colab_type": "code",
        "colab": {
          "base_uri": "https://localhost:8080/",
          "height": 207
        },
        "outputId": "d8703fad-cc50-44af-c2a0-7672c12f5d22"
      },
      "source": [
        "!pip install funcy"
      ],
      "execution_count": 29,
      "outputs": [
        {
          "output_type": "stream",
          "text": [
            "Collecting funcy\n",
            "\u001b[?25l  Downloading https://files.pythonhosted.org/packages/ce/4b/6ffa76544e46614123de31574ad95758c421aae391a1764921b8a81e1eae/funcy-1.14.tar.gz (548kB)\n",
            "\u001b[K     |████████████████████████████████| 552kB 2.8MB/s \n",
            "\u001b[?25hBuilding wheels for collected packages: funcy\n",
            "  Building wheel for funcy (setup.py) ... \u001b[?25l\u001b[?25hdone\n",
            "  Created wheel for funcy: filename=funcy-1.14-py2.py3-none-any.whl size=32042 sha256=c24fd6ea938e89c470006dfeb93d0cefe690fec1bca9b80d86a232b3fc419b26\n",
            "  Stored in directory: /root/.cache/pip/wheels/20/5a/d8/1d875df03deae6f178dfdf70238cca33f948ef8a6f5209f2eb\n",
            "Successfully built funcy\n",
            "Installing collected packages: funcy\n",
            "Successfully installed funcy-1.14\n"
          ],
          "name": "stdout"
        }
      ]
    },
    {
      "cell_type": "code",
      "metadata": {
        "id": "hojYiJlscHO2",
        "colab_type": "code",
        "colab": {}
      },
      "source": [
        "from __future__ import absolute_import\n",
        "import funcy as fp\n",
        "import numpy as np\n",
        "from scipy.sparse import issparse\n",
        "\n",
        "\n",
        "\n",
        "def _extract_data(topic_model, corpus, dictionary, doc_topic_dists=None):\n",
        "    import gensim\n",
        "\n",
        "    if not gensim.matutils.ismatrix(corpus):\n",
        "        corpus_csc = gensim.matutils.corpus2csc(corpus, num_terms=len(dictionary))\n",
        "    else:\n",
        "        corpus_csc = corpus\n",
        "        # Need corpus to be a streaming gensim list corpus for len and inference functions below:\n",
        "        corpus = gensim.matutils.Sparse2Corpus(corpus_csc)\n",
        "\n",
        "    vocab = list(dictionary.token2id.keys())\n",
        "    # TODO: add the hyperparam to smooth it out? no beta in online LDA impl.. hmm..\n",
        "    # for now, I'll just make sure we don't ever get zeros...\n",
        "    beta = 0.01\n",
        "    fnames_argsort = np.asarray(list(dictionary.token2id.values()), dtype=np.int_)\n",
        "    term_freqs = corpus_csc.sum(axis=1).A.ravel()[fnames_argsort]\n",
        "    term_freqs[term_freqs == 0] = beta\n",
        "    doc_lengths = corpus_csc.sum(axis=0).A.ravel()\n",
        "\n",
        "    assert term_freqs.shape[0] == len(dictionary),\\\n",
        "        'Term frequencies and dictionary have different shape {} != {}'.format(\n",
        "        term_freqs.shape[0], len(dictionary))\n",
        "    assert doc_lengths.shape[0] == len(corpus),\\\n",
        "        'Document lengths and corpus have different sizes {} != {}'.format(\n",
        "        doc_lengths.shape[0], len(corpus))\n",
        "\n",
        "    if hasattr(topic_model, 'lda_alpha'):\n",
        "        num_topics = len(topic_model.lda_alpha)\n",
        "    else:\n",
        "        num_topics = topic_model.num_topics\n",
        "\n",
        "    if doc_topic_dists is None:\n",
        "        # If its an HDP model.\n",
        "        if hasattr(topic_model, 'lda_beta'):\n",
        "            gamma = topic_model.inference(corpus)\n",
        "        else:\n",
        "            gamma, _ = topic_model.inference(corpus)\n",
        "        doc_topic_dists = gamma / gamma.sum(axis=1)[:, None]\n",
        "    else:\n",
        "        if isinstance(doc_topic_dists, list):\n",
        "            doc_topic_dists = gensim.matutils.corpus2dense(doc_topic_dists, num_topics).T\n",
        "        elif issparse(doc_topic_dists):\n",
        "            doc_topic_dists = doc_topic_dists.T.todense()\n",
        "        doc_topic_dists = doc_topic_dists / doc_topic_dists.sum(axis=1)\n",
        "\n",
        "    assert doc_topic_dists.shape[1] == num_topics,\\\n",
        "        'Document topics and number of topics do not match {} != {}'.format(\n",
        "        doc_topic_dists.shape[1], num_topics)\n",
        "\n",
        "    # get the topic-term distribution straight from gensim without\n",
        "    # iterating over tuples\n",
        "    if hasattr(topic_model, 'lda_beta'):\n",
        "        topic = topic_model.lda_beta\n",
        "    else:\n",
        "        topic = topic_model.state.get_lambda()\n",
        "    topic = topic / topic.sum(axis=1)[:, None]\n",
        "    topic_term_dists = topic[:, fnames_argsort]\n",
        "\n",
        "    assert topic_term_dists.shape[0] == doc_topic_dists.shape[1]\n",
        "\n",
        "    return {'topic_term_dists': topic_term_dists, 'doc_topic_dists': doc_topic_dists,\n",
        "            'doc_lengths': doc_lengths, 'vocab': vocab, 'term_frequency': term_freqs}\n",
        "\n",
        "\n",
        "def prepare(topic_model, corpus, dictionary, doc_topic_dist=None, **kwargs):\n",
        "    \"\"\"Transforms the Gensim TopicModel and related corpus and dictionary into\n",
        "    the data structures needed for the visualization.\n",
        "\n",
        "    Parameters\n",
        "    ----------\n",
        "    topic_model : gensim.models.ldamodel.LdaModel\n",
        "        An already trained Gensim LdaModel. The other gensim model types are\n",
        "        not supported (PRs welcome).\n",
        "\n",
        "    corpus : array-like list of bag of word docs in tuple form or scipy CSC matrix\n",
        "        The corpus in bag of word form, the same docs used to train the model.\n",
        "        The corpus is transformed into a csc matrix internally, if you intend to\n",
        "        call prepare multiple times it is a good idea to first call\n",
        "        `gensim.matutils.corpus2csc(corpus)` and pass in the csc matrix instead.\n",
        "\n",
        "    For example: [(50, 3), (63, 5), ....]\n",
        "\n",
        "    dictionary: gensim.corpora.Dictionary\n",
        "        The dictionary object used to create the corpus. Needed to extract the\n",
        "        actual terms (not ids).\n",
        "\n",
        "    doc_topic_dist (optional): Document topic distribution from LDA (default=None)\n",
        "        The document topic distribution that is eventually visualised, if you will\n",
        "        be calling `prepare` multiple times it's a good idea to explicitly pass in\n",
        "        `doc_topic_dist` as inferring this for large corpora can be quite\n",
        "        expensive.\n",
        "\n",
        "    **kwargs :\n",
        "        additional keyword arguments are passed through to :func:`pyldavis.prepare`.\n",
        "\n",
        "    Returns\n",
        "    -------\n",
        "    prepared_data : PreparedData\n",
        "        the data structures used in the visualization\n",
        "\n",
        "    Example\n",
        "    --------\n",
        "    For example usage please see this notebook:\n",
        "    http://nbviewer.ipython.org/github/bmabey/pyLDAvis/blob/master/notebooks/Gensim%20Newsgroup.ipynb\n",
        "\n",
        "    See\n",
        "    ------\n",
        "    See `pyLDAvis.prepare` for **kwargs.\n",
        "    \"\"\"\n",
        "    opts = fp.merge(_extract_data(topic_model, corpus, dictionary, doc_topic_dist), kwargs)\n",
        "    return vis_prepare(**opts)\n"
      ],
      "execution_count": 49,
      "outputs": []
    },
    {
      "cell_type": "markdown",
      "metadata": {
        "id": "whN3zkImmoLp",
        "colab_type": "text"
      },
      "source": [
        "## 3.3. Result (data files)"
      ]
    },
    {
      "cell_type": "code",
      "metadata": {
        "id": "SyuNoF7YT2Zw",
        "colab_type": "code",
        "colab": {}
      },
      "source": [
        "topic_proportion_df = pd.DataFrame(topic_proportion, columns = ['proportion'])"
      ],
      "execution_count": null,
      "outputs": []
    },
    {
      "cell_type": "code",
      "metadata": {
        "id": "XSpBvvsEUKvm",
        "colab_type": "code",
        "colab": {}
      },
      "source": [
        "topic_proportion_df.index.name = 'topic_id'"
      ],
      "execution_count": null,
      "outputs": []
    },
    {
      "cell_type": "code",
      "metadata": {
        "id": "oqSbZ5vptASD",
        "colab_type": "code",
        "colab": {}
      },
      "source": [
        "import csv"
      ],
      "execution_count": null,
      "outputs": []
    },
    {
      "cell_type": "code",
      "metadata": {
        "id": "UeBhNWixBw-w",
        "colab_type": "code",
        "colab": {}
      },
      "source": [
        "topic_info.to_csv('topic_info.csv')"
      ],
      "execution_count": null,
      "outputs": []
    },
    {
      "cell_type": "code",
      "metadata": {
        "id": "aBdiQq7IH-Jh",
        "colab_type": "code",
        "colab": {}
      },
      "source": [
        "topic_proportion_df.to_csv('topic_proportion.csv')"
      ],
      "execution_count": null,
      "outputs": []
    },
    {
      "cell_type": "code",
      "metadata": {
        "id": "ORYg2bzGzYqL",
        "colab_type": "code",
        "colab": {
          "base_uri": "https://localhost:8080/",
          "height": 224
        },
        "outputId": "a293860d-0a1f-4557-8aa1-7d4926ea0bf5"
      },
      "source": [
        "!wget https://raw.githubusercontent.com/DHARPA-Project/TopicModelling-/master/vis-files/tm_1/jscode-test-2.js"
      ],
      "execution_count": null,
      "outputs": [
        {
          "output_type": "stream",
          "text": [
            "--2020-06-08 15:07:11--  https://raw.githubusercontent.com/DHARPA-Project/TopicModelling-/master/vis-files/tm_1/jscode-test-2.js\n",
            "Resolving raw.githubusercontent.com (raw.githubusercontent.com)... 151.101.0.133, 151.101.64.133, 151.101.128.133, ...\n",
            "Connecting to raw.githubusercontent.com (raw.githubusercontent.com)|151.101.0.133|:443... connected.\n",
            "HTTP request sent, awaiting response... 200 OK\n",
            "Length: 219774 (215K) [text/plain]\n",
            "Saving to: ‘jscode-test-2.js’\n",
            "\n",
            "jscode-test-2.js    100%[===================>] 214.62K  --.-KB/s    in 0.05s   \n",
            "\n",
            "2020-06-08 15:07:11 (4.09 MB/s) - ‘jscode-test-2.js’ saved [219774/219774]\n",
            "\n"
          ],
          "name": "stdout"
        }
      ]
    },
    {
      "cell_type": "code",
      "metadata": {
        "id": "myO_PLf0QHmo",
        "colab_type": "code",
        "colab": {}
      },
      "source": [
        "import notebook.nbextensions"
      ],
      "execution_count": null,
      "outputs": []
    },
    {
      "cell_type": "code",
      "metadata": {
        "id": "xySy6ByGQJD7",
        "colab_type": "code",
        "colab": {
          "base_uri": "https://localhost:8080/",
          "height": 34
        },
        "outputId": "2edb30c6-cc41-414a-d522-ab2c45910346"
      },
      "source": [
        "notebook.nbextensions.install_nbextension('topic_info.csv', user=True)"
      ],
      "execution_count": null,
      "outputs": [
        {
          "output_type": "execute_result",
          "data": {
            "text/plain": [
              "'/root/.local/share/jupyter/nbextensions/topic_info.csv'"
            ]
          },
          "metadata": {
            "tags": []
          },
          "execution_count": 55
        }
      ]
    },
    {
      "cell_type": "code",
      "metadata": {
        "id": "UOb5OjBVQd5p",
        "colab_type": "code",
        "colab": {
          "base_uri": "https://localhost:8080/",
          "height": 34
        },
        "outputId": "52dbb38a-6604-4c67-9c8a-9d9003725497"
      },
      "source": [
        "notebook.nbextensions.install_nbextension('topic_proportion.csv', user=True)"
      ],
      "execution_count": null,
      "outputs": [
        {
          "output_type": "execute_result",
          "data": {
            "text/plain": [
              "'/root/.local/share/jupyter/nbextensions/topic_proportion.csv'"
            ]
          },
          "metadata": {
            "tags": []
          },
          "execution_count": 56
        }
      ]
    },
    {
      "cell_type": "code",
      "metadata": {
        "id": "MV14lD9F0dbT",
        "colab_type": "code",
        "colab": {}
      },
      "source": [
        "from IPython.display import display, HTML\n",
        "from IPython.core.display import Javascript"
      ],
      "execution_count": null,
      "outputs": []
    },
    {
      "cell_type": "code",
      "metadata": {
        "id": "EZ3CKHK80Weu",
        "colab_type": "code",
        "colab": {
          "resources": {
            "http://localhost:8080/nbextensions/topic_proportion.csv": {
              "data": "dG9waWNfaWQscHJvcG9ydGlvbgozLDAuMzYyNjc5CjUsMC4xNDAyNzg4NQoyLDAuMTI1NTUwNgoxLDAuMTIxMjM0NzYKNCwwLjExMDU5MDg0NQo3LDAuMDg3Nzg2NjIKNiwwLjAzMTgyNzI3CjAsMC4wMjAwNTIwNgo=",
              "ok": true,
              "headers": [
                [
                  "content-type",
                  "text/csv"
                ]
              ],
              "status": 200,
              "status_text": ""
            },
            "http://localhost:8080/nbextensions/topic_info.csv": {
              "data": "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",
              "ok": true,
              "headers": [
                [
                  "content-type",
                  "text/csv"
                ]
              ],
              "status": 200,
              "status_text": ""
            }
          },
          "base_uri": "https://localhost:8080/",
          "height": 701
        },
        "outputId": "5f040760-b489-4025-e96d-7597c0ebda0e"
      },
      "source": [
        "display(HTML('<style>@import url(\"https://fonts.googleapis.com/css2?family=Fira+Sans:wght@300&display=swap\");#vis_tm_1{width:40%; margin-left:20%}.svg-container{position:relative;width:100%;vertical-align:top;overflow:hidden;margin:0;padding:0;}.svg-content-responsive{margin:0;padding:0;display:inline-block;position:absolute;top:0;left:0}.line_style{stroke:\"rgb(70, 130, 180,.3)\";stroke-width:1}.svg_h1{font-size:.9em}.svg_h1,.svg_h2{font-family:\"Fira Sans\",Arial}.svg_h2{font-size:.6em}.svg_text{font-size:.8em}.svg_text,.svg_text_2{font-family:\"Fira Sans\",Arial}.svg_text_2{font-size:.7em}.svg_text_3{font-family:\"Fira Sans\";font-size:.6em}.select_box{width:30%;padding-left:1em;font-family:\"Fira Sans\",Arial}.select_box select{width:100%;background-color:#fff;padding:.5em .6em;box-shadow:inset 0 1px 3px #ddd;vertical-align:middle;font-family:\"Fira Sans\",Arial,sans-serif;letter-spacing:.01em;line-height:1.15;-webkit-writing-mode:horizontal-tb!important;text-rendering:auto;color:#000;letter-spacing:normal;word-spacing:normal;text-transform:none;text-indent:0;text-shadow:none;display:inline-block;text-align:start;-webkit-appearance:menulist;align-items:center;white-space:pre;-webkit-rtl-ordering:logical;background-color:#f8f8f8;cursor:default;margin:0;font:400 11px system-ui;border-radius:5px;border:1px solid #a6a6a6;border-image:none;border-image:initial}.select_box select:focus{border-color:#fff;outline:0;box-shadow:inset 0 1px 1px rgba(0,0,0,.075),0 0 1px rgba(102,175,233,.2)}</style>'))\n",
        "display(HTML('<div id=\"vis_tm_1\"></div>'))\n",
        "Javascript(filename='jscode-test-2.js')"
      ],
      "execution_count": null,
      "outputs": [
        {
          "output_type": "display_data",
          "data": {
            "text/html": [
              "<style>@import url(\"https://fonts.googleapis.com/css2?family=Fira+Sans:wght@300&display=swap\");#vis_tm_1{width:40%; margin-left:20%}.svg-container{position:relative;width:100%;vertical-align:top;overflow:hidden;margin:0;padding:0;}.svg-content-responsive{margin:0;padding:0;display:inline-block;position:absolute;top:0;left:0}.line_style{stroke:\"rgb(70, 130, 180,.3)\";stroke-width:1}.svg_h1{font-size:.9em}.svg_h1,.svg_h2{font-family:\"Fira Sans\",Arial}.svg_h2{font-size:.6em}.svg_text{font-size:.8em}.svg_text,.svg_text_2{font-family:\"Fira Sans\",Arial}.svg_text_2{font-size:.7em}.svg_text_3{font-family:\"Fira Sans\";font-size:.6em}.select_box{width:30%;padding-left:1em;font-family:\"Fira Sans\",Arial}.select_box select{width:100%;background-color:#fff;padding:.5em .6em;box-shadow:inset 0 1px 3px #ddd;vertical-align:middle;font-family:\"Fira Sans\",Arial,sans-serif;letter-spacing:.01em;line-height:1.15;-webkit-writing-mode:horizontal-tb!important;text-rendering:auto;color:#000;letter-spacing:normal;word-spacing:normal;text-transform:none;text-indent:0;text-shadow:none;display:inline-block;text-align:start;-webkit-appearance:menulist;align-items:center;white-space:pre;-webkit-rtl-ordering:logical;background-color:#f8f8f8;cursor:default;margin:0;font:400 11px system-ui;border-radius:5px;border:1px solid #a6a6a6;border-image:none;border-image:initial}.select_box select:focus{border-color:#fff;outline:0;box-shadow:inset 0 1px 1px rgba(0,0,0,.075),0 0 1px rgba(102,175,233,.2)}</style>"
            ],
            "text/plain": [
              "<IPython.core.display.HTML object>"
            ]
          },
          "metadata": {
            "tags": []
          }
        },
        {
          "output_type": "display_data",
          "data": {
            "text/html": [
              "<div id=\"vis_tm_1\"></div>"
            ],
            "text/plain": [
              "<IPython.core.display.HTML object>"
            ]
          },
          "metadata": {
            "tags": []
          }
        },
        {
          "output_type": "execute_result",
          "data": {
            "application/javascript": [
              "!function(e){function t(t){for(var n,i,l=t[0],a=t[1],f=t[2],c=0,s=[];c<l.length;c++)i=l[c],Object.prototype.hasOwnProperty.call(o,i)&&o[i]&&s.push(o[i][0]),o[i]=0;for(n in a)Object.prototype.hasOwnProperty.call(a,n)&&(e[n]=a[n]);for(p&&p(t);s.length;)s.shift()();return u.push.apply(u,f||[]),r()}function r(){for(var e,t=0;t<u.length;t++){for(var r=u[t],n=!0,l=1;l<r.length;l++){var a=r[l];0!==o[a]&&(n=!1)}n&&(u.splice(t--,1),e=i(i.s=r[0]))}return e}var n={},o={1:0},u=[];function i(t){if(n[t])return n[t].exports;var r=n[t]={i:t,l:!1,exports:{}};return e[t].call(r.exports,r,r.exports,i),r.l=!0,r.exports}i.m=e,i.c=n,i.d=function(e,t,r){i.o(e,t)||Object.defineProperty(e,t,{enumerable:!0,get:r})},i.r=function(e){\"undefined\"!=typeof Symbol&&Symbol.toStringTag&&Object.defineProperty(e,Symbol.toStringTag,{value:\"Module\"}),Object.defineProperty(e,\"__esModule\",{value:!0})},i.t=function(e,t){if(1&t&&(e=i(e)),8&t)return e;if(4&t&&\"object\"==typeof e&&e&&e.__esModule)return e;var r=Object.create(null);if(i.r(r),Object.defineProperty(r,\"default\",{enumerable:!0,value:e}),2&t&&\"string\"!=typeof e)for(var n in e)i.d(r,n,function(t){return e[t]}.bind(null,n));return r},i.n=function(e){var t=e&&e.__esModule?function(){return e.default}:function(){return e};return i.d(t,\"a\",t),t},i.o=function(e,t){return Object.prototype.hasOwnProperty.call(e,t)},i.p=\"/\";var l=this[\"webpackJsonpvisualisation-d3\"]=this[\"webpackJsonpvisualisation-d3\"]||[],a=l.push.bind(l);l.push=t,l=l.slice();for(var f=0;f<l.length;f++)t(l[f]);var p=a;r()}([]);\n",
              "\n",
              "(this[\"webpackJsonpvisualisation-d3\"]=this[\"webpackJsonpvisualisation-d3\"]||[]).push([[2],[function(e,t,n){\"use strict\";e.exports=n(29)},,function(e,t,n){\"use strict\";n.d(t,\"b\",(function(){return m})),n.d(t,\"c\",(function(){return g})),n.d(t,\"d\",(function(){return Zn})),n.d(t,\"a\",(function(){return br})),n.d(t,\"e\",(function(){return pi}));var r=function(e,t){return e<t?-1:e>t?1:e>=t?0:NaN},i=function(e){var t;return 1===e.length&&(t=e,e=function(e,n){return r(t(e),n)}),{left:function(t,n,r,i){for(null==r&&(r=0),null==i&&(i=t.length);r<i;){var o=r+i>>>1;e(t[o],n)<0?r=o+1:i=o}return r},right:function(t,n,r,i){for(null==r&&(r=0),null==i&&(i=t.length);r<i;){var o=r+i>>>1;e(t[o],n)>0?i=o:r=o+1}return r}}};var o=i(r),u=o.right,a=(o.left,u);var l=Array.prototype,c=(l.slice,l.map,Math.sqrt(50)),s=Math.sqrt(10),f=Math.sqrt(2),d=function(e,t,n){var r,i,o,u,a=-1;if(n=+n,(e=+e)===(t=+t)&&n>0)return[e];if((r=t<e)&&(i=e,e=t,t=i),0===(u=p(e,t,n))||!isFinite(u))return[];if(u>0)for(e=Math.ceil(e/u),t=Math.floor(t/u),o=new Array(i=Math.ceil(t-e+1));++a<i;)o[a]=(e+a)*u;else for(e=Math.floor(e*u),t=Math.ceil(t*u),o=new Array(i=Math.ceil(e-t+1));++a<i;)o[a]=(e-a)/u;return r&&o.reverse(),o};function p(e,t,n){var r=(t-e)/Math.max(0,n),i=Math.floor(Math.log(r)/Math.LN10),o=r/Math.pow(10,i);return i>=0?(o>=c?10:o>=s?5:o>=f?2:1)*Math.pow(10,i):-Math.pow(10,-i)/(o>=c?10:o>=s?5:o>=f?2:1)}function h(e,t,n){var r=Math.abs(t-e)/Math.max(0,n),i=Math.pow(10,Math.floor(Math.log(r)/Math.LN10)),o=r/i;return o>=c?i*=10:o>=s?i*=5:o>=f&&(i*=2),t<e?-i:i}var m=function(e,t){var n,r,i=e.length,o=-1;if(null==t){for(;++o<i;)if(null!=(n=e[o])&&n>=n)for(r=n;++o<i;)null!=(n=e[o])&&n>r&&(r=n)}else for(;++o<i;)if(null!=(n=t(e[o],o,e))&&n>=n)for(r=n;++o<i;)null!=(n=t(e[o],o,e))&&n>r&&(r=n);return r},g=function(e,t){var n,r,i=e.length,o=-1;if(null==t){for(;++o<i;)if(null!=(n=e[o])&&n>=n)for(r=n;++o<i;)null!=(n=e[o])&&r>n&&(r=n)}else for(;++o<i;)if(null!=(n=t(e[o],o,e))&&n>=n)for(r=n;++o<i;)null!=(n=t(e[o],o,e))&&r>n&&(r=n);return r};Array.prototype.slice;var v={value:function(){}};function y(){for(var e,t=0,n=arguments.length,r={};t<n;++t){if(!(e=arguments[t]+\"\")||e in r||/[\\s.]/.test(e))throw new Error(\"illegal type: \"+e);r[e]=[]}return new b(r)}function b(e){this._=e}function w(e,t){return e.trim().split(/^|\\s+/).map((function(e){var n=\"\",r=e.indexOf(\".\");if(r>=0&&(n=e.slice(r+1),e=e.slice(0,r)),e&&!t.hasOwnProperty(e))throw new Error(\"unknown type: \"+e);return{type:e,name:n}}))}function x(e,t){for(var n,r=0,i=e.length;r<i;++r)if((n=e[r]).name===t)return n.value}function _(e,t,n){for(var r=0,i=e.length;r<i;++r)if(e[r].name===t){e[r]=v,e=e.slice(0,r).concat(e.slice(r+1));break}return null!=n&&e.push({name:t,value:n}),e}b.prototype=y.prototype={constructor:b,on:function(e,t){var n,r=this._,i=w(e+\"\",r),o=-1,u=i.length;if(!(arguments.length<2)){if(null!=t&&\"function\"!==typeof t)throw new Error(\"invalid callback: \"+t);for(;++o<u;)if(n=(e=i[o]).type)r[n]=_(r[n],e.name,t);else if(null==t)for(n in r)r[n]=_(r[n],e.name,null);return this}for(;++o<u;)if((n=(e=i[o]).type)&&(n=x(r[n],e.name)))return n},copy:function(){var e={},t=this._;for(var n in t)e[n]=t[n].slice();return new b(e)},call:function(e,t){if((n=arguments.length-2)>0)for(var n,r,i=new Array(n),o=0;o<n;++o)i[o]=arguments[o+2];if(!this._.hasOwnProperty(e))throw new Error(\"unknown type: \"+e);for(o=0,n=(r=this._[e]).length;o<n;++o)r[o].value.apply(t,i)},apply:function(e,t,n){if(!this._.hasOwnProperty(e))throw new Error(\"unknown type: \"+e);for(var r=this._[e],i=0,o=r.length;i<o;++i)r[i].value.apply(t,n)}};var k=y;function T(){}var E=function(e){return null==e?T:function(){return this.querySelector(e)}};function C(){return[]}var S=function(e){return null==e?C:function(){return this.querySelectorAll(e)}},M=function(e){return function(){return this.matches(e)}},N=function(e){return new Array(e.length)};function P(e,t){this.ownerDocument=e.ownerDocument,this.namespaceURI=e.namespaceURI,this._next=null,this._parent=e,this.__data__=t}P.prototype={constructor:P,appendChild:function(e){return this._parent.insertBefore(e,this._next)},insertBefore:function(e,t){return this._parent.insertBefore(e,t)},querySelector:function(e){return this._parent.querySelector(e)},querySelectorAll:function(e){return this._parent.querySelectorAll(e)}};function A(e,t,n,r,i,o){for(var u,a=0,l=t.length,c=o.length;a<c;++a)(u=t[a])?(u.__data__=o[a],r[a]=u):n[a]=new P(e,o[a]);for(;a<l;++a)(u=t[a])&&(i[a]=u)}function R(e,t,n,r,i,o,u){var a,l,c,s={},f=t.length,d=o.length,p=new Array(f);for(a=0;a<f;++a)(l=t[a])&&(p[a]=c=\"$\"+u.call(l,l.__data__,a,t),c in s?i[a]=l:s[c]=l);for(a=0;a<d;++a)(l=s[c=\"$\"+u.call(e,o[a],a,o)])?(r[a]=l,l.__data__=o[a],s[c]=null):n[a]=new P(e,o[a]);for(a=0;a<f;++a)(l=t[a])&&s[p[a]]===l&&(i[a]=l)}function D(e,t){return e<t?-1:e>t?1:e>=t?0:NaN}var O=\"http://www.w3.org/1999/xhtml\",z={svg:\"http://www.w3.org/2000/svg\",xhtml:O,xlink:\"http://www.w3.org/1999/xlink\",xml:\"http://www.w3.org/XML/1998/namespace\",xmlns:\"http://www.w3.org/2000/xmlns/\"},L=function(e){var t=e+=\"\",n=t.indexOf(\":\");return n>=0&&\"xmlns\"!==(t=e.slice(0,n))&&(e=e.slice(n+1)),z.hasOwnProperty(t)?{space:z[t],local:e}:e};function U(e){return function(){this.removeAttribute(e)}}function F(e){return function(){this.removeAttributeNS(e.space,e.local)}}function I(e,t){return function(){this.setAttribute(e,t)}}function j(e,t){return function(){this.setAttributeNS(e.space,e.local,t)}}function H(e,t){return function(){var n=t.apply(this,arguments);null==n?this.removeAttribute(e):this.setAttribute(e,n)}}function V(e,t){return function(){var n=t.apply(this,arguments);null==n?this.removeAttributeNS(e.space,e.local):this.setAttributeNS(e.space,e.local,n)}}var $=function(e){return e.ownerDocument&&e.ownerDocument.defaultView||e.document&&e||e.defaultView};function W(e){return function(){this.style.removeProperty(e)}}function Q(e,t,n){return function(){this.style.setProperty(e,t,n)}}function q(e,t,n){return function(){var r=t.apply(this,arguments);null==r?this.style.removeProperty(e):this.style.setProperty(e,r,n)}}function B(e,t){return e.style.getPropertyValue(t)||$(e).getComputedStyle(e,null).getPropertyValue(t)}function Y(e){return function(){delete this[e]}}function X(e,t){return function(){this[e]=t}}function K(e,t){return function(){var n=t.apply(this,arguments);null==n?delete this[e]:this[e]=n}}function Z(e){return e.trim().split(/^|\\s+/)}function J(e){return e.classList||new G(e)}function G(e){this._node=e,this._names=Z(e.getAttribute(\"class\")||\"\")}function ee(e,t){for(var n=J(e),r=-1,i=t.length;++r<i;)n.add(t[r])}function te(e,t){for(var n=J(e),r=-1,i=t.length;++r<i;)n.remove(t[r])}function ne(e){return function(){ee(this,e)}}function re(e){return function(){te(this,e)}}function ie(e,t){return function(){(t.apply(this,arguments)?ee:te)(this,e)}}G.prototype={add:function(e){this._names.indexOf(e)<0&&(this._names.push(e),this._node.setAttribute(\"class\",this._names.join(\" \")))},remove:function(e){var t=this._names.indexOf(e);t>=0&&(this._names.splice(t,1),this._node.setAttribute(\"class\",this._names.join(\" \")))},contains:function(e){return this._names.indexOf(e)>=0}};function oe(){this.textContent=\"\"}function ue(e){return function(){this.textContent=e}}function ae(e){return function(){var t=e.apply(this,arguments);this.textContent=null==t?\"\":t}}function le(){this.innerHTML=\"\"}function ce(e){return function(){this.innerHTML=e}}function se(e){return function(){var t=e.apply(this,arguments);this.innerHTML=null==t?\"\":t}}function fe(){this.nextSibling&&this.parentNode.appendChild(this)}function de(){this.previousSibling&&this.parentNode.insertBefore(this,this.parentNode.firstChild)}function pe(e){return function(){var t=this.ownerDocument,n=this.namespaceURI;return n===O&&t.documentElement.namespaceURI===O?t.createElement(e):t.createElementNS(n,e)}}function he(e){return function(){return this.ownerDocument.createElementNS(e.space,e.local)}}var me=function(e){var t=L(e);return(t.local?he:pe)(t)};function ge(){return null}function ve(){var e=this.parentNode;e&&e.removeChild(this)}function ye(){var e=this.cloneNode(!1),t=this.parentNode;return t?t.insertBefore(e,this.nextSibling):e}function be(){var e=this.cloneNode(!0),t=this.parentNode;return t?t.insertBefore(e,this.nextSibling):e}var we={},xe=null;\"undefined\"!==typeof document&&(\"onmouseenter\"in document.documentElement||(we={mouseenter:\"mouseover\",mouseleave:\"mouseout\"}));function _e(e,t,n){return e=ke(e,t,n),function(t){var n=t.relatedTarget;n&&(n===this||8&n.compareDocumentPosition(this))||e.call(this,t)}}function ke(e,t,n){return function(r){var i=xe;xe=r;try{e.call(this,this.__data__,t,n)}finally{xe=i}}}function Te(e){return e.trim().split(/^|\\s+/).map((function(e){var t=\"\",n=e.indexOf(\".\");return n>=0&&(t=e.slice(n+1),e=e.slice(0,n)),{type:e,name:t}}))}function Ee(e){return function(){var t=this.__on;if(t){for(var n,r=0,i=-1,o=t.length;r<o;++r)n=t[r],e.type&&n.type!==e.type||n.name!==e.name?t[++i]=n:this.removeEventListener(n.type,n.listener,n.capture);++i?t.length=i:delete this.__on}}}function Ce(e,t,n){var r=we.hasOwnProperty(e.type)?_e:ke;return function(i,o,u){var a,l=this.__on,c=r(t,o,u);if(l)for(var s=0,f=l.length;s<f;++s)if((a=l[s]).type===e.type&&a.name===e.name)return this.removeEventListener(a.type,a.listener,a.capture),this.addEventListener(a.type,a.listener=c,a.capture=n),void(a.value=t);this.addEventListener(e.type,c,n),a={type:e.type,name:e.name,value:t,listener:c,capture:n},l?l.push(a):this.__on=[a]}}function Se(e,t,n){var r=$(e),i=r.CustomEvent;\"function\"===typeof i?i=new i(t,n):(i=r.document.createEvent(\"Event\"),n?(i.initEvent(t,n.bubbles,n.cancelable),i.detail=n.detail):i.initEvent(t,!1,!1)),e.dispatchEvent(i)}function Me(e,t){return function(){return Se(this,e,t)}}function Ne(e,t){return function(){return Se(this,e,t.apply(this,arguments))}}var Pe=[null];function Ae(e,t){this._groups=e,this._parents=t}function Re(){return new Ae([[document.documentElement]],Pe)}Ae.prototype=Re.prototype={constructor:Ae,select:function(e){\"function\"!==typeof e&&(e=E(e));for(var t=this._groups,n=t.length,r=new Array(n),i=0;i<n;++i)for(var o,u,a=t[i],l=a.length,c=r[i]=new Array(l),s=0;s<l;++s)(o=a[s])&&(u=e.call(o,o.__data__,s,a))&&(\"__data__\"in o&&(u.__data__=o.__data__),c[s]=u);return new Ae(r,this._parents)},selectAll:function(e){\"function\"!==typeof e&&(e=S(e));for(var t=this._groups,n=t.length,r=[],i=[],o=0;o<n;++o)for(var u,a=t[o],l=a.length,c=0;c<l;++c)(u=a[c])&&(r.push(e.call(u,u.__data__,c,a)),i.push(u));return new Ae(r,i)},filter:function(e){\"function\"!==typeof e&&(e=M(e));for(var t=this._groups,n=t.length,r=new Array(n),i=0;i<n;++i)for(var o,u=t[i],a=u.length,l=r[i]=[],c=0;c<a;++c)(o=u[c])&&e.call(o,o.__data__,c,u)&&l.push(o);return new Ae(r,this._parents)},data:function(e,t){if(!e)return h=new Array(this.size()),s=-1,this.each((function(e){h[++s]=e})),h;var n,r=t?R:A,i=this._parents,o=this._groups;\"function\"!==typeof e&&(n=e,e=function(){return n});for(var u=o.length,a=new Array(u),l=new Array(u),c=new Array(u),s=0;s<u;++s){var f=i[s],d=o[s],p=d.length,h=e.call(f,f&&f.__data__,s,i),m=h.length,g=l[s]=new Array(m),v=a[s]=new Array(m);r(f,d,g,v,c[s]=new Array(p),h,t);for(var y,b,w=0,x=0;w<m;++w)if(y=g[w]){for(w>=x&&(x=w+1);!(b=v[x])&&++x<m;);y._next=b||null}}return(a=new Ae(a,i))._enter=l,a._exit=c,a},enter:function(){return new Ae(this._enter||this._groups.map(N),this._parents)},exit:function(){return new Ae(this._exit||this._groups.map(N),this._parents)},join:function(e,t,n){var r=this.enter(),i=this,o=this.exit();return r=\"function\"===typeof e?e(r):r.append(e+\"\"),null!=t&&(i=t(i)),null==n?o.remove():n(o),r&&i?r.merge(i).order():i},merge:function(e){for(var t=this._groups,n=e._groups,r=t.length,i=n.length,o=Math.min(r,i),u=new Array(r),a=0;a<o;++a)for(var l,c=t[a],s=n[a],f=c.length,d=u[a]=new Array(f),p=0;p<f;++p)(l=c[p]||s[p])&&(d[p]=l);for(;a<r;++a)u[a]=t[a];return new Ae(u,this._parents)},order:function(){for(var e=this._groups,t=-1,n=e.length;++t<n;)for(var r,i=e[t],o=i.length-1,u=i[o];--o>=0;)(r=i[o])&&(u&&4^r.compareDocumentPosition(u)&&u.parentNode.insertBefore(r,u),u=r);return this},sort:function(e){function t(t,n){return t&&n?e(t.__data__,n.__data__):!t-!n}e||(e=D);for(var n=this._groups,r=n.length,i=new Array(r),o=0;o<r;++o){for(var u,a=n[o],l=a.length,c=i[o]=new Array(l),s=0;s<l;++s)(u=a[s])&&(c[s]=u);c.sort(t)}return new Ae(i,this._parents).order()},call:function(){var e=arguments[0];return arguments[0]=this,e.apply(null,arguments),this},nodes:function(){var e=new Array(this.size()),t=-1;return this.each((function(){e[++t]=this})),e},node:function(){for(var e=this._groups,t=0,n=e.length;t<n;++t)for(var r=e[t],i=0,o=r.length;i<o;++i){var u=r[i];if(u)return u}return null},size:function(){var e=0;return this.each((function(){++e})),e},empty:function(){return!this.node()},each:function(e){for(var t=this._groups,n=0,r=t.length;n<r;++n)for(var i,o=t[n],u=0,a=o.length;u<a;++u)(i=o[u])&&e.call(i,i.__data__,u,o);return this},attr:function(e,t){var n=L(e);if(arguments.length<2){var r=this.node();return n.local?r.getAttributeNS(n.space,n.local):r.getAttribute(n)}return this.each((null==t?n.local?F:U:\"function\"===typeof t?n.local?V:H:n.local?j:I)(n,t))},style:function(e,t,n){return arguments.length>1?this.each((null==t?W:\"function\"===typeof t?q:Q)(e,t,null==n?\"\":n)):B(this.node(),e)},property:function(e,t){return arguments.length>1?this.each((null==t?Y:\"function\"===typeof t?K:X)(e,t)):this.node()[e]},classed:function(e,t){var n=Z(e+\"\");if(arguments.length<2){for(var r=J(this.node()),i=-1,o=n.length;++i<o;)if(!r.contains(n[i]))return!1;return!0}return this.each((\"function\"===typeof t?ie:t?ne:re)(n,t))},text:function(e){return arguments.length?this.each(null==e?oe:(\"function\"===typeof e?ae:ue)(e)):this.node().textContent},html:function(e){return arguments.length?this.each(null==e?le:(\"function\"===typeof e?se:ce)(e)):this.node().innerHTML},raise:function(){return this.each(fe)},lower:function(){return this.each(de)},append:function(e){var t=\"function\"===typeof e?e:me(e);return this.select((function(){return this.appendChild(t.apply(this,arguments))}))},insert:function(e,t){var n=\"function\"===typeof e?e:me(e),r=null==t?ge:\"function\"===typeof t?t:E(t);return this.select((function(){return this.insertBefore(n.apply(this,arguments),r.apply(this,arguments)||null)}))},remove:function(){return this.each(ve)},clone:function(e){return this.select(e?be:ye)},datum:function(e){return arguments.length?this.property(\"__data__\",e):this.node().__data__},on:function(e,t,n){var r,i,o=Te(e+\"\"),u=o.length;if(!(arguments.length<2)){for(a=t?Ce:Ee,null==n&&(n=!1),r=0;r<u;++r)this.each(a(o[r],t,n));return this}var a=this.node().__on;if(a)for(var l,c=0,s=a.length;c<s;++c)for(r=0,l=a[c];r<u;++r)if((i=o[r]).type===l.type&&i.name===l.name)return l.value},dispatch:function(e,t){return this.each((\"function\"===typeof t?Ne:Me)(e,t))}};var De=Re;var Oe=function(e,t,n){e.prototype=t.prototype=n,n.constructor=e};function ze(e,t){var n=Object.create(e.prototype);for(var r in t)n[r]=t[r];return n}function Le(){}var Ue=\"\\\\s*([+-]?\\\\d+)\\\\s*\",Fe=\"\\\\s*([+-]?\\\\d*\\\\.?\\\\d+(?:[eE][+-]?\\\\d+)?)\\\\s*\",Ie=\"\\\\s*([+-]?\\\\d*\\\\.?\\\\d+(?:[eE][+-]?\\\\d+)?)%\\\\s*\",je=/^#([0-9a-f]{3,8})$/,He=new RegExp(\"^rgb\\\\(\"+[Ue,Ue,Ue]+\"\\\\)$\"),Ve=new RegExp(\"^rgb\\\\(\"+[Ie,Ie,Ie]+\"\\\\)$\"),$e=new RegExp(\"^rgba\\\\(\"+[Ue,Ue,Ue,Fe]+\"\\\\)$\"),We=new RegExp(\"^rgba\\\\(\"+[Ie,Ie,Ie,Fe]+\"\\\\)$\"),Qe=new RegExp(\"^hsl\\\\(\"+[Fe,Ie,Ie]+\"\\\\)$\"),qe=new RegExp(\"^hsla\\\\(\"+[Fe,Ie,Ie,Fe]+\"\\\\)$\"),Be={aliceblue:15792383,antiquewhite:16444375,aqua:65535,aquamarine:8388564,azure:15794175,beige:16119260,bisque:16770244,black:0,blanchedalmond:16772045,blue:255,blueviolet:9055202,brown:10824234,burlywood:14596231,cadetblue:6266528,chartreuse:8388352,chocolate:13789470,coral:16744272,cornflowerblue:6591981,cornsilk:16775388,crimson:14423100,cyan:65535,darkblue:139,darkcyan:35723,darkgoldenrod:12092939,darkgray:11119017,darkgreen:25600,darkgrey:11119017,darkkhaki:12433259,darkmagenta:9109643,darkolivegreen:5597999,darkorange:16747520,darkorchid:10040012,darkred:9109504,darksalmon:15308410,darkseagreen:9419919,darkslateblue:4734347,darkslategray:3100495,darkslategrey:3100495,darkturquoise:52945,darkviolet:9699539,deeppink:16716947,deepskyblue:49151,dimgray:6908265,dimgrey:6908265,dodgerblue:2003199,firebrick:11674146,floralwhite:16775920,forestgreen:2263842,fuchsia:16711935,gainsboro:14474460,ghostwhite:16316671,gold:16766720,goldenrod:14329120,gray:8421504,green:32768,greenyellow:11403055,grey:8421504,honeydew:15794160,hotpink:16738740,indianred:13458524,indigo:4915330,ivory:16777200,khaki:15787660,lavender:15132410,lavenderblush:16773365,lawngreen:8190976,lemonchiffon:16775885,lightblue:11393254,lightcoral:15761536,lightcyan:14745599,lightgoldenrodyellow:16448210,lightgray:13882323,lightgreen:9498256,lightgrey:13882323,lightpink:16758465,lightsalmon:16752762,lightseagreen:2142890,lightskyblue:8900346,lightslategray:7833753,lightslategrey:7833753,lightsteelblue:11584734,lightyellow:16777184,lime:65280,limegreen:3329330,linen:16445670,magenta:16711935,maroon:8388608,mediumaquamarine:6737322,mediumblue:205,mediumorchid:12211667,mediumpurple:9662683,mediumseagreen:3978097,mediumslateblue:8087790,mediumspringgreen:64154,mediumturquoise:4772300,mediumvioletred:13047173,midnightblue:1644912,mintcream:16121850,mistyrose:16770273,moccasin:16770229,navajowhite:16768685,navy:128,oldlace:16643558,olive:8421376,olivedrab:7048739,orange:16753920,orangered:16729344,orchid:14315734,palegoldenrod:15657130,palegreen:10025880,paleturquoise:11529966,palevioletred:14381203,papayawhip:16773077,peachpuff:16767673,peru:13468991,pink:16761035,plum:14524637,powderblue:11591910,purple:8388736,rebeccapurple:6697881,red:16711680,rosybrown:12357519,royalblue:4286945,saddlebrown:9127187,salmon:16416882,sandybrown:16032864,seagreen:3050327,seashell:16774638,sienna:10506797,silver:12632256,skyblue:8900331,slateblue:6970061,slategray:7372944,slategrey:7372944,snow:16775930,springgreen:65407,steelblue:4620980,tan:13808780,teal:32896,thistle:14204888,tomato:16737095,turquoise:4251856,violet:15631086,wheat:16113331,white:16777215,whitesmoke:16119285,yellow:16776960,yellowgreen:10145074};function Ye(){return this.rgb().formatHex()}function Xe(){return this.rgb().formatRgb()}function Ke(e){var t,n;return e=(e+\"\").trim().toLowerCase(),(t=je.exec(e))?(n=t[1].length,t=parseInt(t[1],16),6===n?Ze(t):3===n?new tt(t>>8&15|t>>4&240,t>>4&15|240&t,(15&t)<<4|15&t,1):8===n?Je(t>>24&255,t>>16&255,t>>8&255,(255&t)/255):4===n?Je(t>>12&15|t>>8&240,t>>8&15|t>>4&240,t>>4&15|240&t,((15&t)<<4|15&t)/255):null):(t=He.exec(e))?new tt(t[1],t[2],t[3],1):(t=Ve.exec(e))?new tt(255*t[1]/100,255*t[2]/100,255*t[3]/100,1):(t=$e.exec(e))?Je(t[1],t[2],t[3],t[4]):(t=We.exec(e))?Je(255*t[1]/100,255*t[2]/100,255*t[3]/100,t[4]):(t=Qe.exec(e))?ot(t[1],t[2]/100,t[3]/100,1):(t=qe.exec(e))?ot(t[1],t[2]/100,t[3]/100,t[4]):Be.hasOwnProperty(e)?Ze(Be[e]):\"transparent\"===e?new tt(NaN,NaN,NaN,0):null}function Ze(e){return new tt(e>>16&255,e>>8&255,255&e,1)}function Je(e,t,n,r){return r<=0&&(e=t=n=NaN),new tt(e,t,n,r)}function Ge(e){return e instanceof Le||(e=Ke(e)),e?new tt((e=e.rgb()).r,e.g,e.b,e.opacity):new tt}function et(e,t,n,r){return 1===arguments.length?Ge(e):new tt(e,t,n,null==r?1:r)}function tt(e,t,n,r){this.r=+e,this.g=+t,this.b=+n,this.opacity=+r}function nt(){return\"#\"+it(this.r)+it(this.g)+it(this.b)}function rt(){var e=this.opacity;return(1===(e=isNaN(e)?1:Math.max(0,Math.min(1,e)))?\"rgb(\":\"rgba(\")+Math.max(0,Math.min(255,Math.round(this.r)||0))+\", \"+Math.max(0,Math.min(255,Math.round(this.g)||0))+\", \"+Math.max(0,Math.min(255,Math.round(this.b)||0))+(1===e?\")\":\", \"+e+\")\")}function it(e){return((e=Math.max(0,Math.min(255,Math.round(e)||0)))<16?\"0\":\"\")+e.toString(16)}function ot(e,t,n,r){return r<=0?e=t=n=NaN:n<=0||n>=1?e=t=NaN:t<=0&&(e=NaN),new at(e,t,n,r)}function ut(e){if(e instanceof at)return new at(e.h,e.s,e.l,e.opacity);if(e instanceof Le||(e=Ke(e)),!e)return new at;if(e instanceof at)return e;var t=(e=e.rgb()).r/255,n=e.g/255,r=e.b/255,i=Math.min(t,n,r),o=Math.max(t,n,r),u=NaN,a=o-i,l=(o+i)/2;return a?(u=t===o?(n-r)/a+6*(n<r):n===o?(r-t)/a+2:(t-n)/a+4,a/=l<.5?o+i:2-o-i,u*=60):a=l>0&&l<1?0:u,new at(u,a,l,e.opacity)}function at(e,t,n,r){this.h=+e,this.s=+t,this.l=+n,this.opacity=+r}function lt(e,t,n){return 255*(e<60?t+(n-t)*e/60:e<180?n:e<240?t+(n-t)*(240-e)/60:t)}function ct(e,t,n,r,i){var o=e*e,u=o*e;return((1-3*e+3*o-u)*t+(4-6*o+3*u)*n+(1+3*e+3*o-3*u)*r+u*i)/6}Oe(Le,Ke,{copy:function(e){return Object.assign(new this.constructor,this,e)},displayable:function(){return this.rgb().displayable()},hex:Ye,formatHex:Ye,formatHsl:function(){return ut(this).formatHsl()},formatRgb:Xe,toString:Xe}),Oe(tt,et,ze(Le,{brighter:function(e){return e=null==e?1/.7:Math.pow(1/.7,e),new tt(this.r*e,this.g*e,this.b*e,this.opacity)},darker:function(e){return e=null==e?.7:Math.pow(.7,e),new tt(this.r*e,this.g*e,this.b*e,this.opacity)},rgb:function(){return this},displayable:function(){return-.5<=this.r&&this.r<255.5&&-.5<=this.g&&this.g<255.5&&-.5<=this.b&&this.b<255.5&&0<=this.opacity&&this.opacity<=1},hex:nt,formatHex:nt,formatRgb:rt,toString:rt})),Oe(at,(function(e,t,n,r){return 1===arguments.length?ut(e):new at(e,t,n,null==r?1:r)}),ze(Le,{brighter:function(e){return e=null==e?1/.7:Math.pow(1/.7,e),new at(this.h,this.s,this.l*e,this.opacity)},darker:function(e){return e=null==e?.7:Math.pow(.7,e),new at(this.h,this.s,this.l*e,this.opacity)},rgb:function(){var e=this.h%360+360*(this.h<0),t=isNaN(e)||isNaN(this.s)?0:this.s,n=this.l,r=n+(n<.5?n:1-n)*t,i=2*n-r;return new tt(lt(e>=240?e-240:e+120,i,r),lt(e,i,r),lt(e<120?e+240:e-120,i,r),this.opacity)},displayable:function(){return(0<=this.s&&this.s<=1||isNaN(this.s))&&0<=this.l&&this.l<=1&&0<=this.opacity&&this.opacity<=1},formatHsl:function(){var e=this.opacity;return(1===(e=isNaN(e)?1:Math.max(0,Math.min(1,e)))?\"hsl(\":\"hsla(\")+(this.h||0)+\", \"+100*(this.s||0)+\"%, \"+100*(this.l||0)+\"%\"+(1===e?\")\":\", \"+e+\")\")}}));var st=function(e){return function(){return e}};function ft(e,t){return function(n){return e+n*t}}function dt(e){return 1===(e=+e)?pt:function(t,n){return n-t?function(e,t,n){return e=Math.pow(e,n),t=Math.pow(t,n)-e,n=1/n,function(r){return Math.pow(e+r*t,n)}}(t,n,e):st(isNaN(t)?n:t)}}function pt(e,t){var n=t-e;return n?ft(e,n):st(isNaN(e)?t:e)}var ht=function e(t){var n=dt(t);function r(e,t){var r=n((e=et(e)).r,(t=et(t)).r),i=n(e.g,t.g),o=n(e.b,t.b),u=pt(e.opacity,t.opacity);return function(t){return e.r=r(t),e.g=i(t),e.b=o(t),e.opacity=u(t),e+\"\"}}return r.gamma=e,r}(1);function mt(e){return function(t){var n,r,i=t.length,o=new Array(i),u=new Array(i),a=new Array(i);for(n=0;n<i;++n)r=et(t[n]),o[n]=r.r||0,u[n]=r.g||0,a[n]=r.b||0;return o=e(o),u=e(u),a=e(a),r.opacity=1,function(e){return r.r=o(e),r.g=u(e),r.b=a(e),r+\"\"}}}mt((function(e){var t=e.length-1;return function(n){var r=n<=0?n=0:n>=1?(n=1,t-1):Math.floor(n*t),i=e[r],o=e[r+1],u=r>0?e[r-1]:2*i-o,a=r<t-1?e[r+2]:2*o-i;return ct((n-r/t)*t,u,i,o,a)}})),mt((function(e){var t=e.length;return function(n){var r=Math.floor(((n%=1)<0?++n:n)*t),i=e[(r+t-1)%t],o=e[r%t],u=e[(r+1)%t],a=e[(r+2)%t];return ct((n-r/t)*t,i,o,u,a)}}));var gt=function(e,t){t||(t=[]);var n,r=e?Math.min(t.length,e.length):0,i=t.slice();return function(o){for(n=0;n<r;++n)i[n]=e[n]*(1-o)+t[n]*o;return i}};function vt(e){return ArrayBuffer.isView(e)&&!(e instanceof DataView)}function yt(e,t){var n,r=t?t.length:0,i=e?Math.min(r,e.length):0,o=new Array(i),u=new Array(r);for(n=0;n<i;++n)o[n]=St(e[n],t[n]);for(;n<r;++n)u[n]=t[n];return function(e){for(n=0;n<i;++n)u[n]=o[n](e);return u}}var bt=function(e,t){var n=new Date;return e=+e,t=+t,function(r){return n.setTime(e*(1-r)+t*r),n}},wt=function(e,t){return e=+e,t=+t,function(n){return e*(1-n)+t*n}},xt=function(e,t){var n,r={},i={};for(n in null!==e&&\"object\"===typeof e||(e={}),null!==t&&\"object\"===typeof t||(t={}),t)n in e?r[n]=St(e[n],t[n]):i[n]=t[n];return function(e){for(n in r)i[n]=r[n](e);return i}},_t=/[-+]?(?:\\d+\\.?\\d*|\\.?\\d+)(?:[eE][-+]?\\d+)?/g,kt=new RegExp(_t.source,\"g\");var Tt,Et,Ct=function(e,t){var n,r,i,o=_t.lastIndex=kt.lastIndex=0,u=-1,a=[],l=[];for(e+=\"\",t+=\"\";(n=_t.exec(e))&&(r=kt.exec(t));)(i=r.index)>o&&(i=t.slice(o,i),a[u]?a[u]+=i:a[++u]=i),(n=n[0])===(r=r[0])?a[u]?a[u]+=r:a[++u]=r:(a[++u]=null,l.push({i:u,x:wt(n,r)})),o=kt.lastIndex;return o<t.length&&(i=t.slice(o),a[u]?a[u]+=i:a[++u]=i),a.length<2?l[0]?function(e){return function(t){return e(t)+\"\"}}(l[0].x):function(e){return function(){return e}}(t):(t=l.length,function(e){for(var n,r=0;r<t;++r)a[(n=l[r]).i]=n.x(e);return a.join(\"\")})},St=function(e,t){var n,r=typeof t;return null==t||\"boolean\"===r?st(t):(\"number\"===r?wt:\"string\"===r?(n=Ke(t))?(t=n,ht):Ct:t instanceof Ke?ht:t instanceof Date?bt:vt(t)?gt:Array.isArray(t)?yt:\"function\"!==typeof t.valueOf&&\"function\"!==typeof t.toString||isNaN(t)?xt:wt)(e,t)},Mt=0,Nt=0,Pt=0,At=0,Rt=0,Dt=0,Ot=\"object\"===typeof performance&&performance.now?performance:Date,zt=\"object\"===typeof window&&window.requestAnimationFrame?window.requestAnimationFrame.bind(window):function(e){setTimeout(e,17)};function Lt(){return Rt||(zt(Ut),Rt=Ot.now()+Dt)}function Ut(){Rt=0}function Ft(){this._call=this._time=this._next=null}function It(e,t,n){var r=new Ft;return r.restart(e,t,n),r}function jt(){Rt=(At=Ot.now())+Dt,Mt=Nt=0;try{!function(){Lt(),++Mt;for(var e,t=Tt;t;)(e=Rt-t._time)>=0&&t._call.call(null,e),t=t._next;--Mt}()}finally{Mt=0,function(){var e,t,n=Tt,r=1/0;for(;n;)n._call?(r>n._time&&(r=n._time),e=n,n=n._next):(t=n._next,n._next=null,n=e?e._next=t:Tt=t);Et=e,Vt(r)}(),Rt=0}}function Ht(){var e=Ot.now(),t=e-At;t>1e3&&(Dt-=t,At=e)}function Vt(e){Mt||(Nt&&(Nt=clearTimeout(Nt)),e-Rt>24?(e<1/0&&(Nt=setTimeout(jt,e-Ot.now()-Dt)),Pt&&(Pt=clearInterval(Pt))):(Pt||(At=Ot.now(),Pt=setInterval(Ht,1e3)),Mt=1,zt(jt)))}Ft.prototype=It.prototype={constructor:Ft,restart:function(e,t,n){if(\"function\"!==typeof e)throw new TypeError(\"callback is not a function\");n=(null==n?Lt():+n)+(null==t?0:+t),this._next||Et===this||(Et?Et._next=this:Tt=this,Et=this),this._call=e,this._time=n,Vt()},stop:function(){this._call&&(this._call=null,this._time=1/0,Vt())}};var $t=function(e,t,n){var r=new Ft;return t=null==t?0:+t,r.restart((function(n){r.stop(),e(n+t)}),t,n),r},Wt=k(\"start\",\"end\",\"cancel\",\"interrupt\"),Qt=[],qt=function(e,t,n,r,i,o){var u=e.__transition;if(u){if(n in u)return}else e.__transition={};!function(e,t,n){var r,i=e.__transition;function o(l){var c,s,f,d;if(1!==n.state)return a();for(c in i)if((d=i[c]).name===n.name){if(3===d.state)return $t(o);4===d.state?(d.state=6,d.timer.stop(),d.on.call(\"interrupt\",e,e.__data__,d.index,d.group),delete i[c]):+c<t&&(d.state=6,d.timer.stop(),d.on.call(\"cancel\",e,e.__data__,d.index,d.group),delete i[c])}if($t((function(){3===n.state&&(n.state=4,n.timer.restart(u,n.delay,n.time),u(l))})),n.state=2,n.on.call(\"start\",e,e.__data__,n.index,n.group),2===n.state){for(n.state=3,r=new Array(f=n.tween.length),c=0,s=-1;c<f;++c)(d=n.tween[c].value.call(e,e.__data__,n.index,n.group))&&(r[++s]=d);r.length=s+1}}function u(t){for(var i=t<n.duration?n.ease.call(null,t/n.duration):(n.timer.restart(a),n.state=5,1),o=-1,u=r.length;++o<u;)r[o].call(e,i);5===n.state&&(n.on.call(\"end\",e,e.__data__,n.index,n.group),a())}function a(){for(var r in n.state=6,n.timer.stop(),delete i[t],i)return;delete e.__transition}i[t]=n,n.timer=It((function(e){n.state=1,n.timer.restart(o,n.delay,n.time),n.delay<=e&&o(e-n.delay)}),0,n.time)}(e,n,{name:t,index:r,group:i,on:Wt,tween:Qt,time:o.time,delay:o.delay,duration:o.duration,ease:o.ease,timer:null,state:0})};function Bt(e,t){var n=Xt(e,t);if(n.state>0)throw new Error(\"too late; already scheduled\");return n}function Yt(e,t){var n=Xt(e,t);if(n.state>3)throw new Error(\"too late; already running\");return n}function Xt(e,t){var n=e.__transition;if(!n||!(n=n[t]))throw new Error(\"transition not found\");return n}var Kt,Zt,Jt,Gt,en=function(e,t){var n,r,i,o=e.__transition,u=!0;if(o){for(i in t=null==t?null:t+\"\",o)(n=o[i]).name===t?(r=n.state>2&&n.state<5,n.state=6,n.timer.stop(),n.on.call(r?\"interrupt\":\"cancel\",e,e.__data__,n.index,n.group),delete o[i]):u=!1;u&&delete e.__transition}},tn=180/Math.PI,nn={translateX:0,translateY:0,rotate:0,skewX:0,scaleX:1,scaleY:1},rn=function(e,t,n,r,i,o){var u,a,l;return(u=Math.sqrt(e*e+t*t))&&(e/=u,t/=u),(l=e*n+t*r)&&(n-=e*l,r-=t*l),(a=Math.sqrt(n*n+r*r))&&(n/=a,r/=a,l/=a),e*r<t*n&&(e=-e,t=-t,l=-l,u=-u),{translateX:i,translateY:o,rotate:Math.atan2(t,e)*tn,skewX:Math.atan(l)*tn,scaleX:u,scaleY:a}};function on(e,t,n,r){function i(e){return e.length?e.pop()+\" \":\"\"}return function(o,u){var a=[],l=[];return o=e(o),u=e(u),function(e,r,i,o,u,a){if(e!==i||r!==o){var l=u.push(\"translate(\",null,t,null,n);a.push({i:l-4,x:wt(e,i)},{i:l-2,x:wt(r,o)})}else(i||o)&&u.push(\"translate(\"+i+t+o+n)}(o.translateX,o.translateY,u.translateX,u.translateY,a,l),function(e,t,n,o){e!==t?(e-t>180?t+=360:t-e>180&&(e+=360),o.push({i:n.push(i(n)+\"rotate(\",null,r)-2,x:wt(e,t)})):t&&n.push(i(n)+\"rotate(\"+t+r)}(o.rotate,u.rotate,a,l),function(e,t,n,o){e!==t?o.push({i:n.push(i(n)+\"skewX(\",null,r)-2,x:wt(e,t)}):t&&n.push(i(n)+\"skewX(\"+t+r)}(o.skewX,u.skewX,a,l),function(e,t,n,r,o,u){if(e!==n||t!==r){var a=o.push(i(o)+\"scale(\",null,\",\",null,\")\");u.push({i:a-4,x:wt(e,n)},{i:a-2,x:wt(t,r)})}else 1===n&&1===r||o.push(i(o)+\"scale(\"+n+\",\"+r+\")\")}(o.scaleX,o.scaleY,u.scaleX,u.scaleY,a,l),o=u=null,function(e){for(var t,n=-1,r=l.length;++n<r;)a[(t=l[n]).i]=t.x(e);return a.join(\"\")}}}var un=on((function(e){return\"none\"===e?nn:(Kt||(Kt=document.createElement(\"DIV\"),Zt=document.documentElement,Jt=document.defaultView),Kt.style.transform=e,e=Jt.getComputedStyle(Zt.appendChild(Kt),null).getPropertyValue(\"transform\"),Zt.removeChild(Kt),e=e.slice(7,-1).split(\",\"),rn(+e[0],+e[1],+e[2],+e[3],+e[4],+e[5]))}),\"px, \",\"px)\",\"deg)\"),an=on((function(e){return null==e?nn:(Gt||(Gt=document.createElementNS(\"http://www.w3.org/2000/svg\",\"g\")),Gt.setAttribute(\"transform\",e),(e=Gt.transform.baseVal.consolidate())?(e=e.matrix,rn(e.a,e.b,e.c,e.d,e.e,e.f)):nn)}),\", \",\")\",\")\");function ln(e,t){var n,r;return function(){var i=Yt(this,e),o=i.tween;if(o!==n)for(var u=0,a=(r=n=o).length;u<a;++u)if(r[u].name===t){(r=r.slice()).splice(u,1);break}i.tween=r}}function cn(e,t,n){var r,i;if(\"function\"!==typeof n)throw new Error;return function(){var o=Yt(this,e),u=o.tween;if(u!==r){i=(r=u).slice();for(var a={name:t,value:n},l=0,c=i.length;l<c;++l)if(i[l].name===t){i[l]=a;break}l===c&&i.push(a)}o.tween=i}}function sn(e,t,n){var r=e._id;return e.each((function(){var e=Yt(this,r);(e.value||(e.value={}))[t]=n.apply(this,arguments)})),function(e){return Xt(e,r).value[t]}}var fn=function(e,t){var n;return(\"number\"===typeof t?wt:t instanceof Ke?ht:(n=Ke(t))?(t=n,ht):Ct)(e,t)};function dn(e){return function(){this.removeAttribute(e)}}function pn(e){return function(){this.removeAttributeNS(e.space,e.local)}}function hn(e,t,n){var r,i,o=n+\"\";return function(){var u=this.getAttribute(e);return u===o?null:u===r?i:i=t(r=u,n)}}function mn(e,t,n){var r,i,o=n+\"\";return function(){var u=this.getAttributeNS(e.space,e.local);return u===o?null:u===r?i:i=t(r=u,n)}}function gn(e,t,n){var r,i,o;return function(){var u,a,l=n(this);if(null!=l)return(u=this.getAttribute(e))===(a=l+\"\")?null:u===r&&a===i?o:(i=a,o=t(r=u,l));this.removeAttribute(e)}}function vn(e,t,n){var r,i,o;return function(){var u,a,l=n(this);if(null!=l)return(u=this.getAttributeNS(e.space,e.local))===(a=l+\"\")?null:u===r&&a===i?o:(i=a,o=t(r=u,l));this.removeAttributeNS(e.space,e.local)}}function yn(e,t){return function(n){this.setAttribute(e,t.call(this,n))}}function bn(e,t){return function(n){this.setAttributeNS(e.space,e.local,t.call(this,n))}}function wn(e,t){var n,r;function i(){var i=t.apply(this,arguments);return i!==r&&(n=(r=i)&&bn(e,i)),n}return i._value=t,i}function xn(e,t){var n,r;function i(){var i=t.apply(this,arguments);return i!==r&&(n=(r=i)&&yn(e,i)),n}return i._value=t,i}function _n(e,t){return function(){Bt(this,e).delay=+t.apply(this,arguments)}}function kn(e,t){return t=+t,function(){Bt(this,e).delay=t}}function Tn(e,t){return function(){Yt(this,e).duration=+t.apply(this,arguments)}}function En(e,t){return t=+t,function(){Yt(this,e).duration=t}}function Cn(e,t){if(\"function\"!==typeof t)throw new Error;return function(){Yt(this,e).ease=t}}function Sn(e,t,n){var r,i,o=function(e){return(e+\"\").trim().split(/^|\\s+/).every((function(e){var t=e.indexOf(\".\");return t>=0&&(e=e.slice(0,t)),!e||\"start\"===e}))}(t)?Bt:Yt;return function(){var u=o(this,e),a=u.on;a!==r&&(i=(r=a).copy()).on(t,n),u.on=i}}var Mn=De.prototype.constructor;function Nn(e){return function(){this.style.removeProperty(e)}}function Pn(e,t,n){return function(r){this.style.setProperty(e,t.call(this,r),n)}}function An(e,t,n){var r,i;function o(){var o=t.apply(this,arguments);return o!==i&&(r=(i=o)&&Pn(e,o,n)),r}return o._value=t,o}function Rn(e){return function(t){this.textContent=e.call(this,t)}}function Dn(e){var t,n;function r(){var r=e.apply(this,arguments);return r!==n&&(t=(n=r)&&Rn(r)),t}return r._value=e,r}var On=0;function zn(e,t,n,r){this._groups=e,this._parents=t,this._name=n,this._id=r}function Ln(){return++On}var Un=De.prototype;zn.prototype=function(e){return De().transition(e)}.prototype={constructor:zn,select:function(e){var t=this._name,n=this._id;\"function\"!==typeof e&&(e=E(e));for(var r=this._groups,i=r.length,o=new Array(i),u=0;u<i;++u)for(var a,l,c=r[u],s=c.length,f=o[u]=new Array(s),d=0;d<s;++d)(a=c[d])&&(l=e.call(a,a.__data__,d,c))&&(\"__data__\"in a&&(l.__data__=a.__data__),f[d]=l,qt(f[d],t,n,d,f,Xt(a,n)));return new zn(o,this._parents,t,n)},selectAll:function(e){var t=this._name,n=this._id;\"function\"!==typeof e&&(e=S(e));for(var r=this._groups,i=r.length,o=[],u=[],a=0;a<i;++a)for(var l,c=r[a],s=c.length,f=0;f<s;++f)if(l=c[f]){for(var d,p=e.call(l,l.__data__,f,c),h=Xt(l,n),m=0,g=p.length;m<g;++m)(d=p[m])&&qt(d,t,n,m,p,h);o.push(p),u.push(l)}return new zn(o,u,t,n)},filter:function(e){\"function\"!==typeof e&&(e=M(e));for(var t=this._groups,n=t.length,r=new Array(n),i=0;i<n;++i)for(var o,u=t[i],a=u.length,l=r[i]=[],c=0;c<a;++c)(o=u[c])&&e.call(o,o.__data__,c,u)&&l.push(o);return new zn(r,this._parents,this._name,this._id)},merge:function(e){if(e._id!==this._id)throw new Error;for(var t=this._groups,n=e._groups,r=t.length,i=n.length,o=Math.min(r,i),u=new Array(r),a=0;a<o;++a)for(var l,c=t[a],s=n[a],f=c.length,d=u[a]=new Array(f),p=0;p<f;++p)(l=c[p]||s[p])&&(d[p]=l);for(;a<r;++a)u[a]=t[a];return new zn(u,this._parents,this._name,this._id)},selection:function(){return new Mn(this._groups,this._parents)},transition:function(){for(var e=this._name,t=this._id,n=Ln(),r=this._groups,i=r.length,o=0;o<i;++o)for(var u,a=r[o],l=a.length,c=0;c<l;++c)if(u=a[c]){var s=Xt(u,t);qt(u,e,n,c,a,{time:s.time+s.delay+s.duration,delay:0,duration:s.duration,ease:s.ease})}return new zn(r,this._parents,e,n)},call:Un.call,nodes:Un.nodes,node:Un.node,size:Un.size,empty:Un.empty,each:Un.each,on:function(e,t){var n=this._id;return arguments.length<2?Xt(this.node(),n).on.on(e):this.each(Sn(n,e,t))},attr:function(e,t){var n=L(e),r=\"transform\"===n?an:fn;return this.attrTween(e,\"function\"===typeof t?(n.local?vn:gn)(n,r,sn(this,\"attr.\"+e,t)):null==t?(n.local?pn:dn)(n):(n.local?mn:hn)(n,r,t))},attrTween:function(e,t){var n=\"attr.\"+e;if(arguments.length<2)return(n=this.tween(n))&&n._value;if(null==t)return this.tween(n,null);if(\"function\"!==typeof t)throw new Error;var r=L(e);return this.tween(n,(r.local?wn:xn)(r,t))},style:function(e,t,n){var r=\"transform\"===(e+=\"\")?un:fn;return null==t?this.styleTween(e,function(e,t){var n,r,i;return function(){var o=B(this,e),u=(this.style.removeProperty(e),B(this,e));return o===u?null:o===n&&u===r?i:i=t(n=o,r=u)}}(e,r)).on(\"end.style.\"+e,Nn(e)):\"function\"===typeof t?this.styleTween(e,function(e,t,n){var r,i,o;return function(){var u=B(this,e),a=n(this),l=a+\"\";return null==a&&(this.style.removeProperty(e),l=a=B(this,e)),u===l?null:u===r&&l===i?o:(i=l,o=t(r=u,a))}}(e,r,sn(this,\"style.\"+e,t))).each(function(e,t){var n,r,i,o,u=\"style.\"+t,a=\"end.\"+u;return function(){var l=Yt(this,e),c=l.on,s=null==l.value[u]?o||(o=Nn(t)):void 0;c===n&&i===s||(r=(n=c).copy()).on(a,i=s),l.on=r}}(this._id,e)):this.styleTween(e,function(e,t,n){var r,i,o=n+\"\";return function(){var u=B(this,e);return u===o?null:u===r?i:i=t(r=u,n)}}(e,r,t),n).on(\"end.style.\"+e,null)},styleTween:function(e,t,n){var r=\"style.\"+(e+=\"\");if(arguments.length<2)return(r=this.tween(r))&&r._value;if(null==t)return this.tween(r,null);if(\"function\"!==typeof t)throw new Error;return this.tween(r,An(e,t,null==n?\"\":n))},text:function(e){return this.tween(\"text\",\"function\"===typeof e?function(e){return function(){var t=e(this);this.textContent=null==t?\"\":t}}(sn(this,\"text\",e)):function(e){return function(){this.textContent=e}}(null==e?\"\":e+\"\"))},textTween:function(e){var t=\"text\";if(arguments.length<1)return(t=this.tween(t))&&t._value;if(null==e)return this.tween(t,null);if(\"function\"!==typeof e)throw new Error;return this.tween(t,Dn(e))},remove:function(){return this.on(\"end.remove\",(e=this._id,function(){var t=this.parentNode;for(var n in this.__transition)if(+n!==e)return;t&&t.removeChild(this)}));var e},tween:function(e,t){var n=this._id;if(e+=\"\",arguments.length<2){for(var r,i=Xt(this.node(),n).tween,o=0,u=i.length;o<u;++o)if((r=i[o]).name===e)return r.value;return null}return this.each((null==t?ln:cn)(n,e,t))},delay:function(e){var t=this._id;return arguments.length?this.each((\"function\"===typeof e?_n:kn)(t,e)):Xt(this.node(),t).delay},duration:function(e){var t=this._id;return arguments.length?this.each((\"function\"===typeof e?Tn:En)(t,e)):Xt(this.node(),t).duration},ease:function(e){var t=this._id;return arguments.length?this.each(Cn(t,e)):Xt(this.node(),t).ease},end:function(){var e,t,n=this,r=n._id,i=n.size();return new Promise((function(o,u){var a={value:u},l={value:function(){0===--i&&o()}};n.each((function(){var n=Yt(this,r),i=n.on;i!==e&&((t=(e=i).copy())._.cancel.push(a),t._.interrupt.push(a),t._.end.push(l)),n.on=t}))}))}};var Fn={time:null,delay:0,duration:250,ease:function(e){return((e*=2)<=1?e*e*e:(e-=2)*e*e+2)/2}};function In(e,t){for(var n;!(n=e.__transition)||!(n=n[t]);)if(!(e=e.parentNode))return Fn.time=Lt(),Fn;return n}De.prototype.interrupt=function(e){return this.each((function(){en(this,e)}))},De.prototype.transition=function(e){var t,n;e instanceof zn?(t=e._id,e=e._name):(t=Ln(),(n=Fn).time=Lt(),e=null==e?null:e+\"\");for(var r=this._groups,i=r.length,o=0;o<i;++o)for(var u,a=r[o],l=a.length,c=0;c<l;++c)(u=a[c])&&qt(u,e,t,c,a,n||In(u,t));return new zn(r,this._parents,e,t)};function jn(e){return[+e[0],+e[1]]}function Hn(e){return[jn(e[0]),jn(e[1])]}[\"w\",\"e\"].map(Vn),[\"n\",\"s\"].map(Vn),[\"n\",\"w\",\"e\",\"s\",\"nw\",\"ne\",\"sw\",\"se\"].map(Vn);function Vn(e){return{type:e}}Math.cos,Math.sin,Math.PI,Math.max;Array.prototype.slice;var $n=Math.PI,Wn=2*$n,Qn=Wn-1e-6;function qn(){this._x0=this._y0=this._x1=this._y1=null,this._=\"\"}function Bn(){return new qn}qn.prototype=Bn.prototype={constructor:qn,moveTo:function(e,t){this._+=\"M\"+(this._x0=this._x1=+e)+\",\"+(this._y0=this._y1=+t)},closePath:function(){null!==this._x1&&(this._x1=this._x0,this._y1=this._y0,this._+=\"Z\")},lineTo:function(e,t){this._+=\"L\"+(this._x1=+e)+\",\"+(this._y1=+t)},quadraticCurveTo:function(e,t,n,r){this._+=\"Q\"+ +e+\",\"+ +t+\",\"+(this._x1=+n)+\",\"+(this._y1=+r)},bezierCurveTo:function(e,t,n,r,i,o){this._+=\"C\"+ +e+\",\"+ +t+\",\"+ +n+\",\"+ +r+\",\"+(this._x1=+i)+\",\"+(this._y1=+o)},arcTo:function(e,t,n,r,i){e=+e,t=+t,n=+n,r=+r,i=+i;var o=this._x1,u=this._y1,a=n-e,l=r-t,c=o-e,s=u-t,f=c*c+s*s;if(i<0)throw new Error(\"negative radius: \"+i);if(null===this._x1)this._+=\"M\"+(this._x1=e)+\",\"+(this._y1=t);else if(f>1e-6)if(Math.abs(s*a-l*c)>1e-6&&i){var d=n-o,p=r-u,h=a*a+l*l,m=d*d+p*p,g=Math.sqrt(h),v=Math.sqrt(f),y=i*Math.tan(($n-Math.acos((h+f-m)/(2*g*v)))/2),b=y/v,w=y/g;Math.abs(b-1)>1e-6&&(this._+=\"L\"+(e+b*c)+\",\"+(t+b*s)),this._+=\"A\"+i+\",\"+i+\",0,0,\"+ +(s*d>c*p)+\",\"+(this._x1=e+w*a)+\",\"+(this._y1=t+w*l)}else this._+=\"L\"+(this._x1=e)+\",\"+(this._y1=t);else;},arc:function(e,t,n,r,i,o){e=+e,t=+t,o=!!o;var u=(n=+n)*Math.cos(r),a=n*Math.sin(r),l=e+u,c=t+a,s=1^o,f=o?r-i:i-r;if(n<0)throw new Error(\"negative radius: \"+n);null===this._x1?this._+=\"M\"+l+\",\"+c:(Math.abs(this._x1-l)>1e-6||Math.abs(this._y1-c)>1e-6)&&(this._+=\"L\"+l+\",\"+c),n&&(f<0&&(f=f%Wn+Wn),f>Qn?this._+=\"A\"+n+\",\"+n+\",0,1,\"+s+\",\"+(e-u)+\",\"+(t-a)+\"A\"+n+\",\"+n+\",0,1,\"+s+\",\"+(this._x1=l)+\",\"+(this._y1=c):f>1e-6&&(this._+=\"A\"+n+\",\"+n+\",0,\"+ +(f>=$n)+\",\"+s+\",\"+(this._x1=e+n*Math.cos(i))+\",\"+(this._y1=t+n*Math.sin(i))))},rect:function(e,t,n,r){this._+=\"M\"+(this._x0=this._x1=+e)+\",\"+(this._y0=this._y1=+t)+\"h\"+ +n+\"v\"+ +r+\"h\"+-n+\"Z\"},toString:function(){return this._}};function Yn(){}function Xn(e,t){var n=new Yn;if(e instanceof Yn)e.each((function(e,t){n.set(t,e)}));else if(Array.isArray(e)){var r,i=-1,o=e.length;if(null==t)for(;++i<o;)n.set(i,e[i]);else for(;++i<o;)n.set(t(r=e[i],i,e),r)}else if(e)for(var u in e)n.set(u,e[u]);return n}Yn.prototype=Xn.prototype={constructor:Yn,has:function(e){return\"$\"+e in this},get:function(e){return this[\"$\"+e]},set:function(e,t){return this[\"$\"+e]=t,this},remove:function(e){var t=\"$\"+e;return t in this&&delete this[t]},clear:function(){for(var e in this)\"$\"===e[0]&&delete this[e]},keys:function(){var e=[];for(var t in this)\"$\"===t[0]&&e.push(t.slice(1));return e},values:function(){var e=[];for(var t in this)\"$\"===t[0]&&e.push(this[t]);return e},entries:function(){var e=[];for(var t in this)\"$\"===t[0]&&e.push({key:t.slice(1),value:this[t]});return e},size:function(){var e=0;for(var t in this)\"$\"===t[0]&&++e;return e},empty:function(){for(var e in this)if(\"$\"===e[0])return!1;return!0},each:function(e){for(var t in this)\"$\"===t[0]&&e(this[t],t.slice(1),this)}};var Kn=Xn,Zn=function(){var e,t,n,r=[],i=[];function o(n,i,u,a){if(i>=r.length)return null!=e&&n.sort(e),null!=t?t(n):n;for(var l,c,s,f=-1,d=n.length,p=r[i++],h=Kn(),m=u();++f<d;)(s=h.get(l=p(c=n[f])+\"\"))?s.push(c):h.set(l,[c]);return h.each((function(e,t){a(m,t,o(e,i,u,a))})),m}return n={object:function(e){return o(e,0,Jn,Gn)},map:function(e){return o(e,0,er,tr)},entries:function(e){return function e(n,o){if(++o>r.length)return n;var u,a=i[o-1];return null!=t&&o>=r.length?u=n.entries():(u=[],n.each((function(t,n){u.push({key:n,values:e(t,o)})}))),null!=a?u.sort((function(e,t){return a(e.key,t.key)})):u}(o(e,0,er,tr),0)},key:function(e){return r.push(e),n},sortKeys:function(e){return i[r.length-1]=e,n},sortValues:function(t){return e=t,n},rollup:function(e){return t=e,n}}};function Jn(){return{}}function Gn(e,t,n){e[t]=n}function er(){return Kn()}function tr(e,t,n){e.set(t,n)}function nr(){}var rr=Kn.prototype;function ir(e,t){var n=new nr;if(e instanceof nr)e.each((function(e){n.add(e)}));else if(e){var r=-1,i=e.length;if(null==t)for(;++r<i;)n.add(e[r]);else for(;++r<i;)n.add(t(e[r],r,e))}return n}nr.prototype=ir.prototype={constructor:nr,has:rr.has,add:function(e){return this[\"$\"+(e+=\"\")]=e,this},remove:rr.remove,clear:rr.clear,values:rr.keys,size:rr.size,empty:rr.empty,each:rr.each};Array.prototype.slice;var or={},ur={};function ar(e){return new Function(\"d\",\"return {\"+e.map((function(e,t){return JSON.stringify(e)+\": d[\"+t+'] || \"\"'})).join(\",\")+\"}\")}function lr(e){var t=Object.create(null),n=[];return e.forEach((function(e){for(var r in e)r in t||n.push(t[r]=r)})),n}function cr(e,t){var n=e+\"\",r=n.length;return r<t?new Array(t-r+1).join(0)+n:n}function sr(e){var t,n=e.getUTCHours(),r=e.getUTCMinutes(),i=e.getUTCSeconds(),o=e.getUTCMilliseconds();return isNaN(e)?\"Invalid Date\":((t=e.getUTCFullYear())<0?\"-\"+cr(-t,6):t>9999?\"+\"+cr(t,6):cr(t,4))+\"-\"+cr(e.getUTCMonth()+1,2)+\"-\"+cr(e.getUTCDate(),2)+(o?\"T\"+cr(n,2)+\":\"+cr(r,2)+\":\"+cr(i,2)+\".\"+cr(o,3)+\"Z\":i?\"T\"+cr(n,2)+\":\"+cr(r,2)+\":\"+cr(i,2)+\"Z\":r||n?\"T\"+cr(n,2)+\":\"+cr(r,2)+\"Z\":\"\")}var fr=function(e){var t=new RegExp('[\"'+e+\"\\n\\r]\"),n=e.charCodeAt(0);function r(e,t){var r,i=[],o=e.length,u=0,a=0,l=o<=0,c=!1;function s(){if(l)return ur;if(c)return c=!1,or;var t,r,i=u;if(34===e.charCodeAt(i)){for(;u++<o&&34!==e.charCodeAt(u)||34===e.charCodeAt(++u););return(t=u)>=o?l=!0:10===(r=e.charCodeAt(u++))?c=!0:13===r&&(c=!0,10===e.charCodeAt(u)&&++u),e.slice(i+1,t-1).replace(/\"\"/g,'\"')}for(;u<o;){if(10===(r=e.charCodeAt(t=u++)))c=!0;else if(13===r)c=!0,10===e.charCodeAt(u)&&++u;else if(r!==n)continue;return e.slice(i,t)}return l=!0,e.slice(i,o)}for(10===e.charCodeAt(o-1)&&--o,13===e.charCodeAt(o-1)&&--o;(r=s())!==ur;){for(var f=[];r!==or&&r!==ur;)f.push(r),r=s();t&&null==(f=t(f,a++))||i.push(f)}return i}function i(t,n){return t.map((function(t){return n.map((function(e){return u(t[e])})).join(e)}))}function o(t){return t.map(u).join(e)}function u(e){return null==e?\"\":e instanceof Date?sr(e):t.test(e+=\"\")?'\"'+e.replace(/\"/g,'\"\"')+'\"':e}return{parse:function(e,t){var n,i,o=r(e,(function(e,r){if(n)return n(e,r-1);i=e,n=t?function(e,t){var n=ar(e);return function(r,i){return t(n(r),i,e)}}(e,t):ar(e)}));return o.columns=i||[],o},parseRows:r,format:function(t,n){return null==n&&(n=lr(t)),[n.map(u).join(e)].concat(i(t,n)).join(\"\\n\")},formatBody:function(e,t){return null==t&&(t=lr(e)),i(e,t).join(\"\\n\")},formatRows:function(e){return e.map(o).join(\"\\n\")},formatRow:o,formatValue:u}},dr=fr(\",\"),pr=dr.parse,hr=(dr.parseRows,dr.format,dr.formatBody,dr.formatRows,dr.formatRow,dr.formatValue,fr(\"\\t\")),mr=hr.parse;hr.parseRows,hr.format,hr.formatBody,hr.formatRows,hr.formatRow,hr.formatValue;function gr(e){if(!e.ok)throw new Error(e.status+\" \"+e.statusText);return e.text()}var vr=function(e,t){return fetch(e,t).then(gr)};function yr(e){return function(t,n,r){return 2===arguments.length&&\"function\"===typeof n&&(r=n,n=void 0),vr(t,n).then((function(t){return e(t,r)}))}}var br=yr(pr);yr(mr);function wr(e){return function(t,n){return vr(t,n).then((function(t){return(new DOMParser).parseFromString(t,e)}))}}wr(\"application/xml\"),wr(\"text/html\"),wr(\"image/svg+xml\");function xr(e,t,n,r){if(isNaN(t)||isNaN(n))return e;var i,o,u,a,l,c,s,f,d,p=e._root,h={data:r},m=e._x0,g=e._y0,v=e._x1,y=e._y1;if(!p)return e._root=h,e;for(;p.length;)if((c=t>=(o=(m+v)/2))?m=o:v=o,(s=n>=(u=(g+y)/2))?g=u:y=u,i=p,!(p=p[f=s<<1|c]))return i[f]=h,e;if(a=+e._x.call(null,p.data),l=+e._y.call(null,p.data),t===a&&n===l)return h.next=p,i?i[f]=h:e._root=h,e;do{i=i?i[f]=new Array(4):e._root=new Array(4),(c=t>=(o=(m+v)/2))?m=o:v=o,(s=n>=(u=(g+y)/2))?g=u:y=u}while((f=s<<1|c)===(d=(l>=u)<<1|a>=o));return i[d]=p,i[f]=h,e}var _r=function(e,t,n,r,i){this.node=e,this.x0=t,this.y0=n,this.x1=r,this.y1=i};function kr(e){return e[0]}function Tr(e){return e[1]}function Er(e,t,n){var r=new Cr(null==t?kr:t,null==n?Tr:n,NaN,NaN,NaN,NaN);return null==e?r:r.addAll(e)}function Cr(e,t,n,r,i,o){this._x=e,this._y=t,this._x0=n,this._y0=r,this._x1=i,this._y1=o,this._root=void 0}function Sr(e){for(var t={data:e.data},n=t;e=e.next;)n=n.next={data:e.data};return t}var Mr=Er.prototype=Cr.prototype;Mr.copy=function(){var e,t,n=new Cr(this._x,this._y,this._x0,this._y0,this._x1,this._y1),r=this._root;if(!r)return n;if(!r.length)return n._root=Sr(r),n;for(e=[{source:r,target:n._root=new Array(4)}];r=e.pop();)for(var i=0;i<4;++i)(t=r.source[i])&&(t.length?e.push({source:t,target:r.target[i]=new Array(4)}):r.target[i]=Sr(t));return n},Mr.add=function(e){var t=+this._x.call(null,e),n=+this._y.call(null,e);return xr(this.cover(t,n),t,n,e)},Mr.addAll=function(e){var t,n,r,i,o=e.length,u=new Array(o),a=new Array(o),l=1/0,c=1/0,s=-1/0,f=-1/0;for(n=0;n<o;++n)isNaN(r=+this._x.call(null,t=e[n]))||isNaN(i=+this._y.call(null,t))||(u[n]=r,a[n]=i,r<l&&(l=r),r>s&&(s=r),i<c&&(c=i),i>f&&(f=i));if(l>s||c>f)return this;for(this.cover(l,c).cover(s,f),n=0;n<o;++n)xr(this,u[n],a[n],e[n]);return this},Mr.cover=function(e,t){if(isNaN(e=+e)||isNaN(t=+t))return this;var n=this._x0,r=this._y0,i=this._x1,o=this._y1;if(isNaN(n))i=(n=Math.floor(e))+1,o=(r=Math.floor(t))+1;else{for(var u,a,l=i-n,c=this._root;n>e||e>=i||r>t||t>=o;)switch(a=(t<r)<<1|e<n,(u=new Array(4))[a]=c,c=u,l*=2,a){case 0:i=n+l,o=r+l;break;case 1:n=i-l,o=r+l;break;case 2:i=n+l,r=o-l;break;case 3:n=i-l,r=o-l}this._root&&this._root.length&&(this._root=c)}return this._x0=n,this._y0=r,this._x1=i,this._y1=o,this},Mr.data=function(){var e=[];return this.visit((function(t){if(!t.length)do{e.push(t.data)}while(t=t.next)})),e},Mr.extent=function(e){return arguments.length?this.cover(+e[0][0],+e[0][1]).cover(+e[1][0],+e[1][1]):isNaN(this._x0)?void 0:[[this._x0,this._y0],[this._x1,this._y1]]},Mr.find=function(e,t,n){var r,i,o,u,a,l,c,s=this._x0,f=this._y0,d=this._x1,p=this._y1,h=[],m=this._root;for(m&&h.push(new _r(m,s,f,d,p)),null==n?n=1/0:(s=e-n,f=t-n,d=e+n,p=t+n,n*=n);l=h.pop();)if(!(!(m=l.node)||(i=l.x0)>d||(o=l.y0)>p||(u=l.x1)<s||(a=l.y1)<f))if(m.length){var g=(i+u)/2,v=(o+a)/2;h.push(new _r(m[3],g,v,u,a),new _r(m[2],i,v,g,a),new _r(m[1],g,o,u,v),new _r(m[0],i,o,g,v)),(c=(t>=v)<<1|e>=g)&&(l=h[h.length-1],h[h.length-1]=h[h.length-1-c],h[h.length-1-c]=l)}else{var y=e-+this._x.call(null,m.data),b=t-+this._y.call(null,m.data),w=y*y+b*b;if(w<n){var x=Math.sqrt(n=w);s=e-x,f=t-x,d=e+x,p=t+x,r=m.data}}return r},Mr.remove=function(e){if(isNaN(o=+this._x.call(null,e))||isNaN(u=+this._y.call(null,e)))return this;var t,n,r,i,o,u,a,l,c,s,f,d,p=this._root,h=this._x0,m=this._y0,g=this._x1,v=this._y1;if(!p)return this;if(p.length)for(;;){if((c=o>=(a=(h+g)/2))?h=a:g=a,(s=u>=(l=(m+v)/2))?m=l:v=l,t=p,!(p=p[f=s<<1|c]))return this;if(!p.length)break;(t[f+1&3]||t[f+2&3]||t[f+3&3])&&(n=t,d=f)}for(;p.data!==e;)if(r=p,!(p=p.next))return this;return(i=p.next)&&delete p.next,r?(i?r.next=i:delete r.next,this):t?(i?t[f]=i:delete t[f],(p=t[0]||t[1]||t[2]||t[3])&&p===(t[3]||t[2]||t[1]||t[0])&&!p.length&&(n?n[d]=p:this._root=p),this):(this._root=i,this)},Mr.removeAll=function(e){for(var t=0,n=e.length;t<n;++t)this.remove(e[t]);return this},Mr.root=function(){return this._root},Mr.size=function(){var e=0;return this.visit((function(t){if(!t.length)do{++e}while(t=t.next)})),e},Mr.visit=function(e){var t,n,r,i,o,u,a=[],l=this._root;for(l&&a.push(new _r(l,this._x0,this._y0,this._x1,this._y1));t=a.pop();)if(!e(l=t.node,r=t.x0,i=t.y0,o=t.x1,u=t.y1)&&l.length){var c=(r+o)/2,s=(i+u)/2;(n=l[3])&&a.push(new _r(n,c,s,o,u)),(n=l[2])&&a.push(new _r(n,r,s,c,u)),(n=l[1])&&a.push(new _r(n,c,i,o,s)),(n=l[0])&&a.push(new _r(n,r,i,c,s))}return this},Mr.visitAfter=function(e){var t,n=[],r=[];for(this._root&&n.push(new _r(this._root,this._x0,this._y0,this._x1,this._y1));t=n.pop();){var i=t.node;if(i.length){var o,u=t.x0,a=t.y0,l=t.x1,c=t.y1,s=(u+l)/2,f=(a+c)/2;(o=i[0])&&n.push(new _r(o,u,a,s,f)),(o=i[1])&&n.push(new _r(o,s,a,l,f)),(o=i[2])&&n.push(new _r(o,u,f,s,c)),(o=i[3])&&n.push(new _r(o,s,f,l,c))}r.push(t)}for(;t=r.pop();)e(t.node,t.x0,t.y0,t.x1,t.y1);return this},Mr.x=function(e){return arguments.length?(this._x=e,this):this._x},Mr.y=function(e){return arguments.length?(this._y=e,this):this._y};Math.PI,Math.sqrt(5);var Nr=function(){return Math.random()},Pr=(function e(t){function n(e,n){return e=null==e?0:+e,n=null==n?1:+n,1===arguments.length?(n=e,e=0):n-=e,function(){return t()*n+e}}return n.source=e,n}(Nr),function e(t){function n(e,n){var r,i;return e=null==e?0:+e,n=null==n?1:+n,function(){var o;if(null!=r)o=r,r=null;else do{r=2*t()-1,o=2*t()-1,i=r*r+o*o}while(!i||i>1);return e+n*o*Math.sqrt(-2*Math.log(i)/i)}}return n.source=e,n}(Nr)),Ar=(function e(t){function n(){var e=Pr.source(t).apply(this,arguments);return function(){return Math.exp(e())}}return n.source=e,n}(Nr),function e(t){function n(e){return function(){for(var n=0,r=0;r<e;++r)n+=t();return n}}return n.source=e,n}(Nr));(function e(t){function n(e){var n=Ar.source(t)(e);return function(){return n()/e}}return n.source=e,n})(Nr),function e(t){function n(e){return function(){return-Math.log(1-t())/e}}return n.source=e,n}(Nr);function Rr(e,t){switch(arguments.length){case 0:break;case 1:this.range(e);break;default:this.range(t).domain(e)}return this}var Dr=Array.prototype,Or=Dr.map,zr=Dr.slice;var Lr=function(e,t){return e=+e,t=+t,function(n){return Math.round(e*(1-n)+t*n)}},Ur=function(e){return+e},Fr=[0,1];function Ir(e){return e}function jr(e,t){return(t-=e=+e)?function(n){return(n-e)/t}:(n=isNaN(t)?NaN:.5,function(){return n});var n}function Hr(e){var t,n=e[0],r=e[e.length-1];return n>r&&(t=n,n=r,r=t),function(e){return Math.max(n,Math.min(r,e))}}function Vr(e,t,n){var r=e[0],i=e[1],o=t[0],u=t[1];return i<r?(r=jr(i,r),o=n(u,o)):(r=jr(r,i),o=n(o,u)),function(e){return o(r(e))}}function $r(e,t,n){var r=Math.min(e.length,t.length)-1,i=new Array(r),o=new Array(r),u=-1;for(e[r]<e[0]&&(e=e.slice().reverse(),t=t.slice().reverse());++u<r;)i[u]=jr(e[u],e[u+1]),o[u]=n(t[u],t[u+1]);return function(t){var n=a(e,t,1,r)-1;return o[n](i[n](t))}}function Wr(e,t){return t.domain(e.domain()).range(e.range()).interpolate(e.interpolate()).clamp(e.clamp()).unknown(e.unknown())}function Qr(){var e,t,n,r,i,o,u=Fr,a=Fr,l=St,c=Ir;function s(){return r=Math.min(u.length,a.length)>2?$r:Vr,i=o=null,f}function f(t){return isNaN(t=+t)?n:(i||(i=r(u.map(e),a,l)))(e(c(t)))}return f.invert=function(n){return c(t((o||(o=r(a,u.map(e),wt)))(n)))},f.domain=function(e){return arguments.length?(u=Or.call(e,Ur),c===Ir||(c=Hr(u)),s()):u.slice()},f.range=function(e){return arguments.length?(a=zr.call(e),s()):a.slice()},f.rangeRound=function(e){return a=zr.call(e),l=Lr,s()},f.clamp=function(e){return arguments.length?(c=e?Hr(u):Ir,f):c!==Ir},f.interpolate=function(e){return arguments.length?(l=e,s()):l},f.unknown=function(e){return arguments.length?(n=e,f):n},function(n,r){return e=n,t=r,s()}}var qr=/^(?:(.)?([<>=^]))?([+\\-( ])?([$#])?(0)?(\\d+)?(,)?(\\.\\d+)?(~)?([a-z%])?$/i;function Br(e){if(!(t=qr.exec(e)))throw new Error(\"invalid format: \"+e);var t;return new Yr({fill:t[1],align:t[2],sign:t[3],symbol:t[4],zero:t[5],width:t[6],comma:t[7],precision:t[8]&&t[8].slice(1),trim:t[9],type:t[10]})}function Yr(e){this.fill=void 0===e.fill?\" \":e.fill+\"\",this.align=void 0===e.align?\">\":e.align+\"\",this.sign=void 0===e.sign?\"-\":e.sign+\"\",this.symbol=void 0===e.symbol?\"\":e.symbol+\"\",this.zero=!!e.zero,this.width=void 0===e.width?void 0:+e.width,this.comma=!!e.comma,this.precision=void 0===e.precision?void 0:+e.precision,this.trim=!!e.trim,this.type=void 0===e.type?\"\":e.type+\"\"}Br.prototype=Yr.prototype,Yr.prototype.toString=function(){return this.fill+this.align+this.sign+this.symbol+(this.zero?\"0\":\"\")+(void 0===this.width?\"\":Math.max(1,0|this.width))+(this.comma?\",\":\"\")+(void 0===this.precision?\"\":\".\"+Math.max(0,0|this.precision))+(this.trim?\"~\":\"\")+this.type};var Xr,Kr,Zr,Jr,Gr=function(e,t){if((n=(e=t?e.toExponential(t-1):e.toExponential()).indexOf(\"e\"))<0)return null;var n,r=e.slice(0,n);return[r.length>1?r[0]+r.slice(2):r,+e.slice(n+1)]},ei=function(e){return(e=Gr(Math.abs(e)))?e[1]:NaN},ti=function(e,t){var n=Gr(e,t);if(!n)return e+\"\";var r=n[0],i=n[1];return i<0?\"0.\"+new Array(-i).join(\"0\")+r:r.length>i+1?r.slice(0,i+1)+\".\"+r.slice(i+1):r+new Array(i-r.length+2).join(\"0\")},ni={\"%\":function(e,t){return(100*e).toFixed(t)},b:function(e){return Math.round(e).toString(2)},c:function(e){return e+\"\"},d:function(e){return Math.round(e).toString(10)},e:function(e,t){return e.toExponential(t)},f:function(e,t){return e.toFixed(t)},g:function(e,t){return e.toPrecision(t)},o:function(e){return Math.round(e).toString(8)},p:function(e,t){return ti(100*e,t)},r:ti,s:function(e,t){var n=Gr(e,t);if(!n)return e+\"\";var r=n[0],i=n[1],o=i-(Xr=3*Math.max(-8,Math.min(8,Math.floor(i/3))))+1,u=r.length;return o===u?r:o>u?r+new Array(o-u+1).join(\"0\"):o>0?r.slice(0,o)+\".\"+r.slice(o):\"0.\"+new Array(1-o).join(\"0\")+Gr(e,Math.max(0,t+o-1))[0]},X:function(e){return Math.round(e).toString(16).toUpperCase()},x:function(e){return Math.round(e).toString(16)}},ri=function(e){return e},ii=Array.prototype.map,oi=[\"y\",\"z\",\"a\",\"f\",\"p\",\"n\",\"\\xb5\",\"m\",\"\",\"k\",\"M\",\"G\",\"T\",\"P\",\"E\",\"Z\",\"Y\"];Kr=function(e){var t,n,r=void 0===e.grouping||void 0===e.thousands?ri:(t=ii.call(e.grouping,Number),n=e.thousands+\"\",function(e,r){for(var i=e.length,o=[],u=0,a=t[0],l=0;i>0&&a>0&&(l+a+1>r&&(a=Math.max(1,r-l)),o.push(e.substring(i-=a,i+a)),!((l+=a+1)>r));)a=t[u=(u+1)%t.length];return o.reverse().join(n)}),i=void 0===e.currency?\"\":e.currency[0]+\"\",o=void 0===e.currency?\"\":e.currency[1]+\"\",u=void 0===e.decimal?\".\":e.decimal+\"\",a=void 0===e.numerals?ri:function(e){return function(t){return t.replace(/[0-9]/g,(function(t){return e[+t]}))}}(ii.call(e.numerals,String)),l=void 0===e.percent?\"%\":e.percent+\"\",c=void 0===e.minus?\"-\":e.minus+\"\",s=void 0===e.nan?\"NaN\":e.nan+\"\";function f(e){var t=(e=Br(e)).fill,n=e.align,f=e.sign,d=e.symbol,p=e.zero,h=e.width,m=e.comma,g=e.precision,v=e.trim,y=e.type;\"n\"===y?(m=!0,y=\"g\"):ni[y]||(void 0===g&&(g=12),v=!0,y=\"g\"),(p||\"0\"===t&&\"=\"===n)&&(p=!0,t=\"0\",n=\"=\");var b=\"$\"===d?i:\"#\"===d&&/[boxX]/.test(y)?\"0\"+y.toLowerCase():\"\",w=\"$\"===d?o:/[%p]/.test(y)?l:\"\",x=ni[y],_=/[defgprs%]/.test(y);function k(e){var i,o,l,d=b,k=w;if(\"c\"===y)k=x(e)+k,e=\"\";else{var T=(e=+e)<0||1/e<0;if(e=isNaN(e)?s:x(Math.abs(e),g),v&&(e=function(e){e:for(var t,n=e.length,r=1,i=-1;r<n;++r)switch(e[r]){case\".\":i=t=r;break;case\"0\":0===i&&(i=r),t=r;break;default:if(!+e[r])break e;i>0&&(i=0)}return i>0?e.slice(0,i)+e.slice(t+1):e}(e)),T&&0===+e&&\"+\"!==f&&(T=!1),d=(T?\"(\"===f?f:c:\"-\"===f||\"(\"===f?\"\":f)+d,k=(\"s\"===y?oi[8+Xr/3]:\"\")+k+(T&&\"(\"===f?\")\":\"\"),_)for(i=-1,o=e.length;++i<o;)if(48>(l=e.charCodeAt(i))||l>57){k=(46===l?u+e.slice(i+1):e.slice(i))+k,e=e.slice(0,i);break}}m&&!p&&(e=r(e,1/0));var E=d.length+e.length+k.length,C=E<h?new Array(h-E+1).join(t):\"\";switch(m&&p&&(e=r(C+e,C.length?h-k.length:1/0),C=\"\"),n){case\"<\":e=d+e+k+C;break;case\"=\":e=d+C+e+k;break;case\"^\":e=C.slice(0,E=C.length>>1)+d+e+k+C.slice(E);break;default:e=C+d+e+k}return a(e)}return g=void 0===g?6:/[gprs]/.test(y)?Math.max(1,Math.min(21,g)):Math.max(0,Math.min(20,g)),k.toString=function(){return e+\"\"},k}return{format:f,formatPrefix:function(e,t){var n=f(((e=Br(e)).type=\"f\",e)),r=3*Math.max(-8,Math.min(8,Math.floor(ei(t)/3))),i=Math.pow(10,-r),o=oi[8+r/3];return function(e){return n(i*e)+o}}}}({decimal:\".\",thousands:\",\",grouping:[3],currency:[\"$\",\"\"],minus:\"-\"}),Zr=Kr.format,Jr=Kr.formatPrefix;var ui=function(e,t,n,r){var i,o=h(e,t,n);switch((r=Br(null==r?\",f\":r)).type){case\"s\":var u=Math.max(Math.abs(e),Math.abs(t));return null!=r.precision||isNaN(i=function(e,t){return Math.max(0,3*Math.max(-8,Math.min(8,Math.floor(ei(t)/3)))-ei(Math.abs(e)))}(o,u))||(r.precision=i),Jr(r,u);case\"\":case\"e\":case\"g\":case\"p\":case\"r\":null!=r.precision||isNaN(i=function(e,t){return e=Math.abs(e),t=Math.abs(t)-e,Math.max(0,ei(t)-ei(e))+1}(o,Math.max(Math.abs(e),Math.abs(t))))||(r.precision=i-(\"e\"===r.type));break;case\"f\":case\"%\":null!=r.precision||isNaN(i=function(e){return Math.max(0,-ei(Math.abs(e)))}(o))||(r.precision=i-2*(\"%\"===r.type))}return Zr(r)};function ai(e){var t=e.domain;return e.ticks=function(e){var n=t();return d(n[0],n[n.length-1],null==e?10:e)},e.tickFormat=function(e,n){var r=t();return ui(r[0],r[r.length-1],null==e?10:e,n)},e.nice=function(n){null==n&&(n=10);var r,i=t(),o=0,u=i.length-1,a=i[o],l=i[u];return l<a&&(r=a,a=l,l=r,r=o,o=u,u=r),(r=p(a,l,n))>0?r=p(a=Math.floor(a/r)*r,l=Math.ceil(l/r)*r,n):r<0&&(r=p(a=Math.ceil(a*r)/r,l=Math.floor(l*r)/r,n)),r>0?(i[o]=Math.floor(a/r)*r,i[u]=Math.ceil(l/r)*r,t(i)):r<0&&(i[o]=Math.ceil(a*r)/r,i[u]=Math.floor(l*r)/r,t(i)),e},e}function li(e){return function(t){return t<0?-Math.pow(-t,e):Math.pow(t,e)}}function ci(e){return e<0?-Math.sqrt(-e):Math.sqrt(e)}function si(e){return e<0?-e*e:e*e}function fi(e){var t=e(Ir,Ir),n=1;function r(){return 1===n?e(Ir,Ir):.5===n?e(ci,si):e(li(n),li(1/n))}return t.exponent=function(e){return arguments.length?(n=+e,r()):n},ai(t)}function di(){var e=fi(Qr());return e.copy=function(){return Wr(e,di()).exponent(e.exponent())},Rr.apply(e,arguments),e}function pi(){return di.apply(null,arguments).exponent(.5)}var hi=new Date,mi=new Date;function gi(e,t,n,r){function i(t){return e(t=0===arguments.length?new Date:new Date(+t)),t}return i.floor=function(t){return e(t=new Date(+t)),t},i.ceil=function(n){return e(n=new Date(n-1)),t(n,1),e(n),n},i.round=function(e){var t=i(e),n=i.ceil(e);return e-t<n-e?t:n},i.offset=function(e,n){return t(e=new Date(+e),null==n?1:Math.floor(n)),e},i.range=function(n,r,o){var u,a=[];if(n=i.ceil(n),o=null==o?1:Math.floor(o),!(n<r)||!(o>0))return a;do{a.push(u=new Date(+n)),t(n,o),e(n)}while(u<n&&n<r);return a},i.filter=function(n){return gi((function(t){if(t>=t)for(;e(t),!n(t);)t.setTime(t-1)}),(function(e,r){if(e>=e)if(r<0)for(;++r<=0;)for(;t(e,-1),!n(e););else for(;--r>=0;)for(;t(e,1),!n(e););}))},n&&(i.count=function(t,r){return hi.setTime(+t),mi.setTime(+r),e(hi),e(mi),Math.floor(n(hi,mi))},i.every=function(e){return e=Math.floor(e),isFinite(e)&&e>0?e>1?i.filter(r?function(t){return r(t)%e===0}:function(t){return i.count(0,t)%e===0}):i:null}),i}var vi=gi((function(e){e.setMonth(0,1),e.setHours(0,0,0,0)}),(function(e,t){e.setFullYear(e.getFullYear()+t)}),(function(e,t){return t.getFullYear()-e.getFullYear()}),(function(e){return e.getFullYear()}));vi.every=function(e){return isFinite(e=Math.floor(e))&&e>0?gi((function(t){t.setFullYear(Math.floor(t.getFullYear()/e)*e),t.setMonth(0,1),t.setHours(0,0,0,0)}),(function(t,n){t.setFullYear(t.getFullYear()+n*e)})):null};var yi=vi,bi=(vi.range,gi((function(e){e.setDate(1),e.setHours(0,0,0,0)}),(function(e,t){e.setMonth(e.getMonth()+t)}),(function(e,t){return t.getMonth()-e.getMonth()+12*(t.getFullYear()-e.getFullYear())}),(function(e){return e.getMonth()})));bi.range;function wi(e){return gi((function(t){t.setDate(t.getDate()-(t.getDay()+7-e)%7),t.setHours(0,0,0,0)}),(function(e,t){e.setDate(e.getDate()+7*t)}),(function(e,t){return(t-e-6e4*(t.getTimezoneOffset()-e.getTimezoneOffset()))/6048e5}))}var xi=wi(0),_i=wi(1),ki=wi(2),Ti=wi(3),Ei=wi(4),Ci=wi(5),Si=wi(6),Mi=(xi.range,_i.range,ki.range,Ti.range,Ei.range,Ci.range,Si.range,gi((function(e){e.setHours(0,0,0,0)}),(function(e,t){e.setDate(e.getDate()+t)}),(function(e,t){return(t-e-6e4*(t.getTimezoneOffset()-e.getTimezoneOffset()))/864e5}),(function(e){return e.getDate()-1}))),Ni=Mi,Pi=(Mi.range,gi((function(e){e.setTime(e-e.getMilliseconds()-1e3*e.getSeconds()-6e4*e.getMinutes())}),(function(e,t){e.setTime(+e+36e5*t)}),(function(e,t){return(t-e)/36e5}),(function(e){return e.getHours()}))),Ai=(Pi.range,gi((function(e){e.setTime(e-e.getMilliseconds()-1e3*e.getSeconds())}),(function(e,t){e.setTime(+e+6e4*t)}),(function(e,t){return(t-e)/6e4}),(function(e){return e.getMinutes()}))),Ri=(Ai.range,gi((function(e){e.setTime(e-e.getMilliseconds())}),(function(e,t){e.setTime(+e+1e3*t)}),(function(e,t){return(t-e)/1e3}),(function(e){return e.getUTCSeconds()}))),Di=(Ri.range,gi((function(){}),(function(e,t){e.setTime(+e+t)}),(function(e,t){return t-e})));Di.every=function(e){return e=Math.floor(e),isFinite(e)&&e>0?e>1?gi((function(t){t.setTime(Math.floor(t/e)*e)}),(function(t,n){t.setTime(+t+n*e)}),(function(t,n){return(n-t)/e})):Di:null};Di.range;function Oi(e){return gi((function(t){t.setUTCDate(t.getUTCDate()-(t.getUTCDay()+7-e)%7),t.setUTCHours(0,0,0,0)}),(function(e,t){e.setUTCDate(e.getUTCDate()+7*t)}),(function(e,t){return(t-e)/6048e5}))}var zi=Oi(0),Li=Oi(1),Ui=Oi(2),Fi=Oi(3),Ii=Oi(4),ji=Oi(5),Hi=Oi(6),Vi=(zi.range,Li.range,Ui.range,Fi.range,Ii.range,ji.range,Hi.range,gi((function(e){e.setUTCHours(0,0,0,0)}),(function(e,t){e.setUTCDate(e.getUTCDate()+t)}),(function(e,t){return(t-e)/864e5}),(function(e){return e.getUTCDate()-1}))),$i=Vi,Wi=(Vi.range,gi((function(e){e.setUTCMonth(0,1),e.setUTCHours(0,0,0,0)}),(function(e,t){e.setUTCFullYear(e.getUTCFullYear()+t)}),(function(e,t){return t.getUTCFullYear()-e.getUTCFullYear()}),(function(e){return e.getUTCFullYear()})));Wi.every=function(e){return isFinite(e=Math.floor(e))&&e>0?gi((function(t){t.setUTCFullYear(Math.floor(t.getUTCFullYear()/e)*e),t.setUTCMonth(0,1),t.setUTCHours(0,0,0,0)}),(function(t,n){t.setUTCFullYear(t.getUTCFullYear()+n*e)})):null};var Qi=Wi;Wi.range;function qi(e){if(0<=e.y&&e.y<100){var t=new Date(-1,e.m,e.d,e.H,e.M,e.S,e.L);return t.setFullYear(e.y),t}return new Date(e.y,e.m,e.d,e.H,e.M,e.S,e.L)}function Bi(e){if(0<=e.y&&e.y<100){var t=new Date(Date.UTC(-1,e.m,e.d,e.H,e.M,e.S,e.L));return t.setUTCFullYear(e.y),t}return new Date(Date.UTC(e.y,e.m,e.d,e.H,e.M,e.S,e.L))}function Yi(e,t,n){return{y:e,m:t,d:n,H:0,M:0,S:0,L:0}}var Xi,Ki={\"-\":\"\",_:\" \",0:\"0\"},Zi=/^\\s*\\d+/,Ji=/^%/,Gi=/[\\\\^$*+?|[\\]().{}]/g;function eo(e,t,n){var r=e<0?\"-\":\"\",i=(r?-e:e)+\"\",o=i.length;return r+(o<n?new Array(n-o+1).join(t)+i:i)}function to(e){return e.replace(Gi,\"\\\\$&\")}function no(e){return new RegExp(\"^(?:\"+e.map(to).join(\"|\")+\")\",\"i\")}function ro(e){for(var t={},n=-1,r=e.length;++n<r;)t[e[n].toLowerCase()]=n;return t}function io(e,t,n){var r=Zi.exec(t.slice(n,n+1));return r?(e.w=+r[0],n+r[0].length):-1}function oo(e,t,n){var r=Zi.exec(t.slice(n,n+1));return r?(e.u=+r[0],n+r[0].length):-1}function uo(e,t,n){var r=Zi.exec(t.slice(n,n+2));return r?(e.U=+r[0],n+r[0].length):-1}function ao(e,t,n){var r=Zi.exec(t.slice(n,n+2));return r?(e.V=+r[0],n+r[0].length):-1}function lo(e,t,n){var r=Zi.exec(t.slice(n,n+2));return r?(e.W=+r[0],n+r[0].length):-1}function co(e,t,n){var r=Zi.exec(t.slice(n,n+4));return r?(e.y=+r[0],n+r[0].length):-1}function so(e,t,n){var r=Zi.exec(t.slice(n,n+2));return r?(e.y=+r[0]+(+r[0]>68?1900:2e3),n+r[0].length):-1}function fo(e,t,n){var r=/^(Z)|([+-]\\d\\d)(?::?(\\d\\d))?/.exec(t.slice(n,n+6));return r?(e.Z=r[1]?0:-(r[2]+(r[3]||\"00\")),n+r[0].length):-1}function po(e,t,n){var r=Zi.exec(t.slice(n,n+1));return r?(e.q=3*r[0]-3,n+r[0].length):-1}function ho(e,t,n){var r=Zi.exec(t.slice(n,n+2));return r?(e.m=r[0]-1,n+r[0].length):-1}function mo(e,t,n){var r=Zi.exec(t.slice(n,n+2));return r?(e.d=+r[0],n+r[0].length):-1}function go(e,t,n){var r=Zi.exec(t.slice(n,n+3));return r?(e.m=0,e.d=+r[0],n+r[0].length):-1}function vo(e,t,n){var r=Zi.exec(t.slice(n,n+2));return r?(e.H=+r[0],n+r[0].length):-1}function yo(e,t,n){var r=Zi.exec(t.slice(n,n+2));return r?(e.M=+r[0],n+r[0].length):-1}function bo(e,t,n){var r=Zi.exec(t.slice(n,n+2));return r?(e.S=+r[0],n+r[0].length):-1}function wo(e,t,n){var r=Zi.exec(t.slice(n,n+3));return r?(e.L=+r[0],n+r[0].length):-1}function xo(e,t,n){var r=Zi.exec(t.slice(n,n+6));return r?(e.L=Math.floor(r[0]/1e3),n+r[0].length):-1}function _o(e,t,n){var r=Ji.exec(t.slice(n,n+1));return r?n+r[0].length:-1}function ko(e,t,n){var r=Zi.exec(t.slice(n));return r?(e.Q=+r[0],n+r[0].length):-1}function To(e,t,n){var r=Zi.exec(t.slice(n));return r?(e.s=+r[0],n+r[0].length):-1}function Eo(e,t){return eo(e.getDate(),t,2)}function Co(e,t){return eo(e.getHours(),t,2)}function So(e,t){return eo(e.getHours()%12||12,t,2)}function Mo(e,t){return eo(1+Ni.count(yi(e),e),t,3)}function No(e,t){return eo(e.getMilliseconds(),t,3)}function Po(e,t){return No(e,t)+\"000\"}function Ao(e,t){return eo(e.getMonth()+1,t,2)}function Ro(e,t){return eo(e.getMinutes(),t,2)}function Do(e,t){return eo(e.getSeconds(),t,2)}function Oo(e){var t=e.getDay();return 0===t?7:t}function zo(e,t){return eo(xi.count(yi(e)-1,e),t,2)}function Lo(e,t){var n=e.getDay();return e=n>=4||0===n?Ei(e):Ei.ceil(e),eo(Ei.count(yi(e),e)+(4===yi(e).getDay()),t,2)}function Uo(e){return e.getDay()}function Fo(e,t){return eo(_i.count(yi(e)-1,e),t,2)}function Io(e,t){return eo(e.getFullYear()%100,t,2)}function jo(e,t){return eo(e.getFullYear()%1e4,t,4)}function Ho(e){var t=e.getTimezoneOffset();return(t>0?\"-\":(t*=-1,\"+\"))+eo(t/60|0,\"0\",2)+eo(t%60,\"0\",2)}function Vo(e,t){return eo(e.getUTCDate(),t,2)}function $o(e,t){return eo(e.getUTCHours(),t,2)}function Wo(e,t){return eo(e.getUTCHours()%12||12,t,2)}function Qo(e,t){return eo(1+$i.count(Qi(e),e),t,3)}function qo(e,t){return eo(e.getUTCMilliseconds(),t,3)}function Bo(e,t){return qo(e,t)+\"000\"}function Yo(e,t){return eo(e.getUTCMonth()+1,t,2)}function Xo(e,t){return eo(e.getUTCMinutes(),t,2)}function Ko(e,t){return eo(e.getUTCSeconds(),t,2)}function Zo(e){var t=e.getUTCDay();return 0===t?7:t}function Jo(e,t){return eo(zi.count(Qi(e)-1,e),t,2)}function Go(e,t){var n=e.getUTCDay();return e=n>=4||0===n?Ii(e):Ii.ceil(e),eo(Ii.count(Qi(e),e)+(4===Qi(e).getUTCDay()),t,2)}function eu(e){return e.getUTCDay()}function tu(e,t){return eo(Li.count(Qi(e)-1,e),t,2)}function nu(e,t){return eo(e.getUTCFullYear()%100,t,2)}function ru(e,t){return eo(e.getUTCFullYear()%1e4,t,4)}function iu(){return\"+0000\"}function ou(){return\"%\"}function uu(e){return+e}function au(e){return Math.floor(+e/1e3)}!function(e){Xi=function(e){var t=e.dateTime,n=e.date,r=e.time,i=e.periods,o=e.days,u=e.shortDays,a=e.months,l=e.shortMonths,c=no(i),s=ro(i),f=no(o),d=ro(o),p=no(u),h=ro(u),m=no(a),g=ro(a),v=no(l),y=ro(l),b={a:function(e){return u[e.getDay()]},A:function(e){return o[e.getDay()]},b:function(e){return l[e.getMonth()]},B:function(e){return a[e.getMonth()]},c:null,d:Eo,e:Eo,f:Po,H:Co,I:So,j:Mo,L:No,m:Ao,M:Ro,p:function(e){return i[+(e.getHours()>=12)]},q:function(e){return 1+~~(e.getMonth()/3)},Q:uu,s:au,S:Do,u:Oo,U:zo,V:Lo,w:Uo,W:Fo,x:null,X:null,y:Io,Y:jo,Z:Ho,\"%\":ou},w={a:function(e){return u[e.getUTCDay()]},A:function(e){return o[e.getUTCDay()]},b:function(e){return l[e.getUTCMonth()]},B:function(e){return a[e.getUTCMonth()]},c:null,d:Vo,e:Vo,f:Bo,H:$o,I:Wo,j:Qo,L:qo,m:Yo,M:Xo,p:function(e){return i[+(e.getUTCHours()>=12)]},q:function(e){return 1+~~(e.getUTCMonth()/3)},Q:uu,s:au,S:Ko,u:Zo,U:Jo,V:Go,w:eu,W:tu,x:null,X:null,y:nu,Y:ru,Z:iu,\"%\":ou},x={a:function(e,t,n){var r=p.exec(t.slice(n));return r?(e.w=h[r[0].toLowerCase()],n+r[0].length):-1},A:function(e,t,n){var r=f.exec(t.slice(n));return r?(e.w=d[r[0].toLowerCase()],n+r[0].length):-1},b:function(e,t,n){var r=v.exec(t.slice(n));return r?(e.m=y[r[0].toLowerCase()],n+r[0].length):-1},B:function(e,t,n){var r=m.exec(t.slice(n));return r?(e.m=g[r[0].toLowerCase()],n+r[0].length):-1},c:function(e,n,r){return T(e,t,n,r)},d:mo,e:mo,f:xo,H:vo,I:vo,j:go,L:wo,m:ho,M:yo,p:function(e,t,n){var r=c.exec(t.slice(n));return r?(e.p=s[r[0].toLowerCase()],n+r[0].length):-1},q:po,Q:ko,s:To,S:bo,u:oo,U:uo,V:ao,w:io,W:lo,x:function(e,t,r){return T(e,n,t,r)},X:function(e,t,n){return T(e,r,t,n)},y:so,Y:co,Z:fo,\"%\":_o};function _(e,t){return function(n){var r,i,o,u=[],a=-1,l=0,c=e.length;for(n instanceof Date||(n=new Date(+n));++a<c;)37===e.charCodeAt(a)&&(u.push(e.slice(l,a)),null!=(i=Ki[r=e.charAt(++a)])?r=e.charAt(++a):i=\"e\"===r?\" \":\"0\",(o=t[r])&&(r=o(n,i)),u.push(r),l=a+1);return u.push(e.slice(l,a)),u.join(\"\")}}function k(e,t){return function(n){var r,i,o=Yi(1900,void 0,1);if(T(o,e,n+=\"\",0)!=n.length)return null;if(\"Q\"in o)return new Date(o.Q);if(\"s\"in o)return new Date(1e3*o.s+(\"L\"in o?o.L:0));if(t&&!(\"Z\"in o)&&(o.Z=0),\"p\"in o&&(o.H=o.H%12+12*o.p),void 0===o.m&&(o.m=\"q\"in o?o.q:0),\"V\"in o){if(o.V<1||o.V>53)return null;\"w\"in o||(o.w=1),\"Z\"in o?(i=(r=Bi(Yi(o.y,0,1))).getUTCDay(),r=i>4||0===i?Li.ceil(r):Li(r),r=$i.offset(r,7*(o.V-1)),o.y=r.getUTCFullYear(),o.m=r.getUTCMonth(),o.d=r.getUTCDate()+(o.w+6)%7):(i=(r=qi(Yi(o.y,0,1))).getDay(),r=i>4||0===i?_i.ceil(r):_i(r),r=Ni.offset(r,7*(o.V-1)),o.y=r.getFullYear(),o.m=r.getMonth(),o.d=r.getDate()+(o.w+6)%7)}else(\"W\"in o||\"U\"in o)&&(\"w\"in o||(o.w=\"u\"in o?o.u%7:\"W\"in o?1:0),i=\"Z\"in o?Bi(Yi(o.y,0,1)).getUTCDay():qi(Yi(o.y,0,1)).getDay(),o.m=0,o.d=\"W\"in o?(o.w+6)%7+7*o.W-(i+5)%7:o.w+7*o.U-(i+6)%7);return\"Z\"in o?(o.H+=o.Z/100|0,o.M+=o.Z%100,Bi(o)):qi(o)}}function T(e,t,n,r){for(var i,o,u=0,a=t.length,l=n.length;u<a;){if(r>=l)return-1;if(37===(i=t.charCodeAt(u++))){if(i=t.charAt(u++),!(o=x[i in Ki?t.charAt(u++):i])||(r=o(e,n,r))<0)return-1}else if(i!=n.charCodeAt(r++))return-1}return r}return b.x=_(n,b),b.X=_(r,b),b.c=_(t,b),w.x=_(n,w),w.X=_(r,w),w.c=_(t,w),{format:function(e){var t=_(e+=\"\",b);return t.toString=function(){return e},t},parse:function(e){var t=k(e+=\"\",!1);return t.toString=function(){return e},t},utcFormat:function(e){var t=_(e+=\"\",w);return t.toString=function(){return e},t},utcParse:function(e){var t=k(e+=\"\",!0);return t.toString=function(){return e},t}}}(e),Xi.format,Xi.parse,Xi.utcFormat,Xi.utcParse}({dateTime:\"%x, %X\",date:\"%-m/%-d/%Y\",time:\"%-I:%M:%S %p\",periods:[\"AM\",\"PM\"],days:[\"Sunday\",\"Monday\",\"Tuesday\",\"Wednesday\",\"Thursday\",\"Friday\",\"Saturday\"],shortDays:[\"Sun\",\"Mon\",\"Tue\",\"Wed\",\"Thu\",\"Fri\",\"Sat\"],months:[\"January\",\"February\",\"March\",\"April\",\"May\",\"June\",\"July\",\"August\",\"September\",\"October\",\"November\",\"December\"],shortMonths:[\"Jan\",\"Feb\",\"Mar\",\"Apr\",\"May\",\"Jun\",\"Jul\",\"Aug\",\"Sep\",\"Oct\",\"Nov\",\"Dec\"]});var lu=gi((function(e){e.setUTCDate(1),e.setUTCHours(0,0,0,0)}),(function(e,t){e.setUTCMonth(e.getUTCMonth()+t)}),(function(e,t){return t.getUTCMonth()-e.getUTCMonth()+12*(t.getUTCFullYear()-e.getUTCFullYear())}),(function(e){return e.getUTCMonth()})),cu=(lu.range,gi((function(e){e.setUTCMinutes(0,0,0)}),(function(e,t){e.setTime(+e+36e5*t)}),(function(e,t){return(t-e)/36e5}),(function(e){return e.getUTCHours()}))),su=(cu.range,gi((function(e){e.setUTCSeconds(0,0)}),(function(e,t){e.setTime(+e+6e4*t)}),(function(e,t){return(t-e)/6e4}),(function(e){return e.getUTCMinutes()})));su.range;function fu(){this._=null}function du(e){e.U=e.C=e.L=e.R=e.P=e.N=null}function pu(e,t){var n=t,r=t.R,i=n.U;i?i.L===n?i.L=r:i.R=r:e._=r,r.U=i,n.U=r,n.R=r.L,n.R&&(n.R.U=n),r.L=n}function hu(e,t){var n=t,r=t.L,i=n.U;i?i.L===n?i.L=r:i.R=r:e._=r,r.U=i,n.U=r,n.L=r.R,n.L&&(n.L.U=n),r.R=n}function mu(e){for(;e.L;)e=e.L;return e}fu.prototype={constructor:fu,insert:function(e,t){var n,r,i;if(e){if(t.P=e,t.N=e.N,e.N&&(e.N.P=t),e.N=t,e.R){for(e=e.R;e.L;)e=e.L;e.L=t}else e.R=t;n=e}else this._?(e=mu(this._),t.P=null,t.N=e,e.P=e.L=t,n=e):(t.P=t.N=null,this._=t,n=null);for(t.L=t.R=null,t.U=n,t.C=!0,e=t;n&&n.C;)n===(r=n.U).L?(i=r.R)&&i.C?(n.C=i.C=!1,r.C=!0,e=r):(e===n.R&&(pu(this,n),n=(e=n).U),n.C=!1,r.C=!0,hu(this,r)):(i=r.L)&&i.C?(n.C=i.C=!1,r.C=!0,e=r):(e===n.L&&(hu(this,n),n=(e=n).U),n.C=!1,r.C=!0,pu(this,r)),n=e.U;this._.C=!1},remove:function(e){e.N&&(e.N.P=e.P),e.P&&(e.P.N=e.N),e.N=e.P=null;var t,n,r,i=e.U,o=e.L,u=e.R;if(n=o?u?mu(u):o:u,i?i.L===e?i.L=n:i.R=n:this._=n,o&&u?(r=n.C,n.C=e.C,n.L=o,o.U=n,n!==u?(i=n.U,n.U=e.U,e=n.R,i.L=e,n.R=u,u.U=n):(n.U=i,i=n,e=n.R)):(r=e.C,e=n),e&&(e.U=i),!r)if(e&&e.C)e.C=!1;else{do{if(e===this._)break;if(e===i.L){if((t=i.R).C&&(t.C=!1,i.C=!0,pu(this,i),t=i.R),t.L&&t.L.C||t.R&&t.R.C){t.R&&t.R.C||(t.L.C=!1,t.C=!0,hu(this,t),t=i.R),t.C=i.C,i.C=t.R.C=!1,pu(this,i),e=this._;break}}else if((t=i.L).C&&(t.C=!1,i.C=!0,hu(this,i),t=i.L),t.L&&t.L.C||t.R&&t.R.C){t.L&&t.L.C||(t.R.C=!1,t.C=!0,pu(this,t),t=i.L),t.C=i.C,i.C=t.L.C=!1,hu(this,i),e=this._;break}t.C=!0,e=i,i=i.U}while(!e.C);e&&(e.C=!1)}}};var gu=fu;function vu(e,t,n,r){var i=[null,null],o=Hu.push(i)-1;return i.left=e,i.right=t,n&&bu(i,e,t,n),r&&bu(i,t,e,r),Iu[e.index].halfedges.push(o),Iu[t.index].halfedges.push(o),i}function yu(e,t,n){var r=[t,n];return r.left=e,r}function bu(e,t,n,r){e[0]||e[1]?e.left===n?e[1]=r:e[0]=r:(e[0]=r,e.left=t,e.right=n)}function wu(e,t,n,r,i){var o,u=e[0],a=e[1],l=u[0],c=u[1],s=0,f=1,d=a[0]-l,p=a[1]-c;if(o=t-l,d||!(o>0)){if(o/=d,d<0){if(o<s)return;o<f&&(f=o)}else if(d>0){if(o>f)return;o>s&&(s=o)}if(o=r-l,d||!(o<0)){if(o/=d,d<0){if(o>f)return;o>s&&(s=o)}else if(d>0){if(o<s)return;o<f&&(f=o)}if(o=n-c,p||!(o>0)){if(o/=p,p<0){if(o<s)return;o<f&&(f=o)}else if(p>0){if(o>f)return;o>s&&(s=o)}if(o=i-c,p||!(o<0)){if(o/=p,p<0){if(o>f)return;o>s&&(s=o)}else if(p>0){if(o<s)return;o<f&&(f=o)}return!(s>0||f<1)||(s>0&&(e[0]=[l+s*d,c+s*p]),f<1&&(e[1]=[l+f*d,c+f*p]),!0)}}}}}function xu(e,t,n,r,i){var o=e[1];if(o)return!0;var u,a,l=e[0],c=e.left,s=e.right,f=c[0],d=c[1],p=s[0],h=s[1],m=(f+p)/2,g=(d+h)/2;if(h===d){if(m<t||m>=r)return;if(f>p){if(l){if(l[1]>=i)return}else l=[m,n];o=[m,i]}else{if(l){if(l[1]<n)return}else l=[m,i];o=[m,n]}}else if(a=g-(u=(f-p)/(h-d))*m,u<-1||u>1)if(f>p){if(l){if(l[1]>=i)return}else l=[(n-a)/u,n];o=[(i-a)/u,i]}else{if(l){if(l[1]<n)return}else l=[(i-a)/u,i];o=[(n-a)/u,n]}else if(d<h){if(l){if(l[0]>=r)return}else l=[t,u*t+a];o=[r,u*r+a]}else{if(l){if(l[0]<t)return}else l=[r,u*r+a];o=[t,u*t+a]}return e[0]=l,e[1]=o,!0}function _u(e,t){var n=e.site,r=t.left,i=t.right;return n===i&&(i=r,r=n),i?Math.atan2(i[1]-r[1],i[0]-r[0]):(n===r?(r=t[1],i=t[0]):(r=t[0],i=t[1]),Math.atan2(r[0]-i[0],i[1]-r[1]))}function ku(e,t){return t[+(t.left!==e.site)]}function Tu(e,t){return t[+(t.left===e.site)]}var Eu,Cu=[];function Su(){du(this),this.x=this.y=this.arc=this.site=this.cy=null}function Mu(e){var t=e.P,n=e.N;if(t&&n){var r=t.site,i=e.site,o=n.site;if(r!==o){var u=i[0],a=i[1],l=r[0]-u,c=r[1]-a,s=o[0]-u,f=o[1]-a,d=2*(l*f-c*s);if(!(d>=-$u)){var p=l*l+c*c,h=s*s+f*f,m=(f*p-c*h)/d,g=(l*h-s*p)/d,v=Cu.pop()||new Su;v.arc=e,v.site=i,v.x=m+u,v.y=(v.cy=g+a)+Math.sqrt(m*m+g*g),e.circle=v;for(var y=null,b=ju._;b;)if(v.y<b.y||v.y===b.y&&v.x<=b.x){if(!b.L){y=b.P;break}b=b.L}else{if(!b.R){y=b;break}b=b.R}ju.insert(y,v),y||(Eu=v)}}}}function Nu(e){var t=e.circle;t&&(t.P||(Eu=t.N),ju.remove(t),Cu.push(t),du(t),e.circle=null)}var Pu=[];function Au(){du(this),this.edge=this.site=this.circle=null}function Ru(e){var t=Pu.pop()||new Au;return t.site=e,t}function Du(e){Nu(e),Fu.remove(e),Pu.push(e),du(e)}function Ou(e){var t=e.circle,n=t.x,r=t.cy,i=[n,r],o=e.P,u=e.N,a=[e];Du(e);for(var l=o;l.circle&&Math.abs(n-l.circle.x)<Vu&&Math.abs(r-l.circle.cy)<Vu;)o=l.P,a.unshift(l),Du(l),l=o;a.unshift(l),Nu(l);for(var c=u;c.circle&&Math.abs(n-c.circle.x)<Vu&&Math.abs(r-c.circle.cy)<Vu;)u=c.N,a.push(c),Du(c),c=u;a.push(c),Nu(c);var s,f=a.length;for(s=1;s<f;++s)c=a[s],l=a[s-1],bu(c.edge,l.site,c.site,i);l=a[0],(c=a[f-1]).edge=vu(l.site,c.site,null,i),Mu(l),Mu(c)}function zu(e){for(var t,n,r,i,o=e[0],u=e[1],a=Fu._;a;)if((r=Lu(a,u)-o)>Vu)a=a.L;else{if(!((i=o-Uu(a,u))>Vu)){r>-Vu?(t=a.P,n=a):i>-Vu?(t=a,n=a.N):t=n=a;break}if(!a.R){t=a;break}a=a.R}!function(e){Iu[e.index]={site:e,halfedges:[]}}(e);var l=Ru(e);if(Fu.insert(t,l),t||n){if(t===n)return Nu(t),n=Ru(t.site),Fu.insert(l,n),l.edge=n.edge=vu(t.site,l.site),Mu(t),void Mu(n);if(n){Nu(t),Nu(n);var c=t.site,s=c[0],f=c[1],d=e[0]-s,p=e[1]-f,h=n.site,m=h[0]-s,g=h[1]-f,v=2*(d*g-p*m),y=d*d+p*p,b=m*m+g*g,w=[(g*y-p*b)/v+s,(d*b-m*y)/v+f];bu(n.edge,c,h,w),l.edge=vu(c,e,null,w),n.edge=vu(e,h,null,w),Mu(t),Mu(n)}else l.edge=vu(t.site,l.site)}}function Lu(e,t){var n=e.site,r=n[0],i=n[1],o=i-t;if(!o)return r;var u=e.P;if(!u)return-1/0;var a=(n=u.site)[0],l=n[1],c=l-t;if(!c)return a;var s=a-r,f=1/o-1/c,d=s/c;return f?(-d+Math.sqrt(d*d-2*f*(s*s/(-2*c)-l+c/2+i-o/2)))/f+r:(r+a)/2}function Uu(e,t){var n=e.N;if(n)return Lu(n,t);var r=e.site;return r[1]===t?r[0]:1/0}var Fu,Iu,ju,Hu,Vu=1e-6,$u=1e-12;function Wu(e,t){return t[1]-e[1]||t[0]-e[0]}function Qu(e,t){var n,r,i,o=e.sort(Wu).pop();for(Hu=[],Iu=new Array(e.length),Fu=new gu,ju=new gu;;)if(i=Eu,o&&(!i||o[1]<i.y||o[1]===i.y&&o[0]<i.x))o[0]===n&&o[1]===r||(zu(o),n=o[0],r=o[1]),o=e.pop();else{if(!i)break;Ou(i.arc)}if(function(){for(var e,t,n,r,i=0,o=Iu.length;i<o;++i)if((e=Iu[i])&&(r=(t=e.halfedges).length)){var u=new Array(r),a=new Array(r);for(n=0;n<r;++n)u[n]=n,a[n]=_u(e,Hu[t[n]]);for(u.sort((function(e,t){return a[t]-a[e]})),n=0;n<r;++n)a[n]=t[u[n]];for(n=0;n<r;++n)t[n]=a[n]}}(),t){var u=+t[0][0],a=+t[0][1],l=+t[1][0],c=+t[1][1];!function(e,t,n,r){for(var i,o=Hu.length;o--;)xu(i=Hu[o],e,t,n,r)&&wu(i,e,t,n,r)&&(Math.abs(i[0][0]-i[1][0])>Vu||Math.abs(i[0][1]-i[1][1])>Vu)||delete Hu[o]}(u,a,l,c),function(e,t,n,r){var i,o,u,a,l,c,s,f,d,p,h,m,g=Iu.length,v=!0;for(i=0;i<g;++i)if(o=Iu[i]){for(u=o.site,a=(l=o.halfedges).length;a--;)Hu[l[a]]||l.splice(a,1);for(a=0,c=l.length;a<c;)h=(p=Tu(o,Hu[l[a]]))[0],m=p[1],f=(s=ku(o,Hu[l[++a%c]]))[0],d=s[1],(Math.abs(h-f)>Vu||Math.abs(m-d)>Vu)&&(l.splice(a,0,Hu.push(yu(u,p,Math.abs(h-e)<Vu&&r-m>Vu?[e,Math.abs(f-e)<Vu?d:r]:Math.abs(m-r)<Vu&&n-h>Vu?[Math.abs(d-r)<Vu?f:n,r]:Math.abs(h-n)<Vu&&m-t>Vu?[n,Math.abs(f-n)<Vu?d:t]:Math.abs(m-t)<Vu&&h-e>Vu?[Math.abs(d-t)<Vu?f:e,t]:null))-1),++c);c&&(v=!1)}if(v){var y,b,w,x=1/0;for(i=0,v=null;i<g;++i)(o=Iu[i])&&(w=(y=(u=o.site)[0]-e)*y+(b=u[1]-t)*b)<x&&(x=w,v=o);if(v){var _=[e,t],k=[e,r],T=[n,r],E=[n,t];v.halfedges.push(Hu.push(yu(u=v.site,_,k))-1,Hu.push(yu(u,k,T))-1,Hu.push(yu(u,T,E))-1,Hu.push(yu(u,E,_))-1)}}for(i=0;i<g;++i)(o=Iu[i])&&(o.halfedges.length||delete Iu[i])}(u,a,l,c)}this.edges=Hu,this.cells=Iu,Fu=ju=Hu=Iu=null}Qu.prototype={constructor:Qu,polygons:function(){var e=this.edges;return this.cells.map((function(t){var n=t.halfedges.map((function(n){return ku(t,e[n])}));return n.data=t.site.data,n}))},triangles:function(){var e=[],t=this.edges;return this.cells.forEach((function(n,r){if(o=(i=n.halfedges).length)for(var i,o,u,a,l,c,s=n.site,f=-1,d=t[i[o-1]],p=d.left===s?d.right:d.left;++f<o;)u=p,p=(d=t[i[f]]).left===s?d.right:d.left,u&&p&&r<u.index&&r<p.index&&(l=u,c=p,((a=s)[0]-c[0])*(l[1]-a[1])-(a[0]-l[0])*(c[1]-a[1])<0)&&e.push([s.data,u.data,p.data])})),e},links:function(){return this.edges.filter((function(e){return e.right})).map((function(e){return{source:e.left.data,target:e.right.data}}))},find:function(e,t,n){for(var r,i,o=this,u=o._found||0,a=o.cells.length;!(i=o.cells[u]);)if(++u>=a)return null;var l=e-i.site[0],c=t-i.site[1],s=l*l+c*c;do{i=o.cells[r=u],u=null,i.halfedges.forEach((function(n){var r=o.edges[n],a=r.left;if(a!==i.site&&a||(a=r.right)){var l=e-a[0],c=t-a[1],f=l*l+c*c;f<s&&(s=f,u=a.index)}}))}while(null!==u);return o._found=r,null==n||s<=n*n?i.site:null}};Math.SQRT2;function qu(e,t,n){this.k=e,this.x=t,this.y=n}qu.prototype={constructor:qu,scale:function(e){return 1===e?this:new qu(this.k*e,this.x,this.y)},translate:function(e,t){return 0===e&0===t?this:new qu(this.k,this.x+this.k*e,this.y+this.k*t)},apply:function(e){return[e[0]*this.k+this.x,e[1]*this.k+this.y]},applyX:function(e){return e*this.k+this.x},applyY:function(e){return e*this.k+this.y},invert:function(e){return[(e[0]-this.x)/this.k,(e[1]-this.y)/this.k]},invertX:function(e){return(e-this.x)/this.k},invertY:function(e){return(e-this.y)/this.k},rescaleX:function(e){return e.copy().domain(e.range().map(this.invertX,this).map(e.invert,e))},rescaleY:function(e){return e.copy().domain(e.range().map(this.invertY,this).map(e.invert,e))},toString:function(){return\"translate(\"+this.x+\",\"+this.y+\") scale(\"+this.k+\")\"}};new qu(1,0,0);qu.prototype},,,,,,function(e,t,n){\"use strict\";!function e(){if(\"undefined\"!==typeof __REACT_DEVTOOLS_GLOBAL_HOOK__&&\"function\"===typeof __REACT_DEVTOOLS_GLOBAL_HOOK__.checkDCE){0;try{__REACT_DEVTOOLS_GLOBAL_HOOK__.checkDCE(e)}catch(t){console.error(t)}}}(),e.exports=n(30)},function(e,t,n){\"use strict\";function r(e,t){if(!(e instanceof t))throw new TypeError(\"Cannot call a class as a function\")}n.d(t,\"a\",(function(){return r}))},function(e,t,n){\"use strict\";function r(e,t){for(var n=0;n<t.length;n++){var r=t[n];r.enumerable=r.enumerable||!1,r.configurable=!0,\"value\"in r&&(r.writable=!0),Object.defineProperty(e,r.key,r)}}function i(e,t,n){return t&&r(e.prototype,t),n&&r(e,n),e}n.d(t,\"a\",(function(){return i}))},function(e,t,n){\"use strict\";function r(e){if(void 0===e)throw new ReferenceError(\"this hasn't been initialised - super() hasn't been called\");return e}n.d(t,\"a\",(function(){return r}))},function(e,t,n){\"use strict\";function r(e){return(r=Object.setPrototypeOf?Object.getPrototypeOf:function(e){return e.__proto__||Object.getPrototypeOf(e)})(e)}function i(){if(\"undefined\"===typeof Reflect||!Reflect.construct)return!1;if(Reflect.construct.sham)return!1;if(\"function\"===typeof Proxy)return!0;try{return Date.prototype.toString.call(Reflect.construct(Date,[],(function(){}))),!0}catch(e){return!1}}function o(e){return(o=\"function\"===typeof Symbol&&\"symbol\"===typeof Symbol.iterator?function(e){return typeof e}:function(e){return e&&\"function\"===typeof Symbol&&e.constructor===Symbol&&e!==Symbol.prototype?\"symbol\":typeof e})(e)}n.d(t,\"a\",(function(){return l}));var u=n(11);function a(e,t){return!t||\"object\"!==o(t)&&\"function\"!==typeof t?Object(u.a)(e):t}function l(e){return function(){var t,n=r(e);if(i()){var o=r(this).constructor;t=Reflect.construct(n,arguments,o)}else t=n.apply(this,arguments);return a(this,t)}}},function(e,t,n){\"use strict\";function r(e,t){return(r=Object.setPrototypeOf||function(e,t){return e.__proto__=t,e})(e,t)}function i(e,t){if(\"function\"!==typeof t&&null!==t)throw new TypeError(\"Super expression must either be null or a function\");e.prototype=Object.create(t&&t.prototype,{constructor:{value:e,writable:!0,configurable:!0}}),t&&r(e,t)}n.d(t,\"a\",(function(){return i}))},,,,,,,,,function(e,t,n){\"use strict\";var r=Object.getOwnPropertySymbols,i=Object.prototype.hasOwnProperty,o=Object.prototype.propertyIsEnumerable;function u(e){if(null===e||void 0===e)throw new TypeError(\"Object.assign cannot be called with null or undefined\");return Object(e)}e.exports=function(){try{if(!Object.assign)return!1;var e=new String(\"abc\");if(e[5]=\"de\",\"5\"===Object.getOwnPropertyNames(e)[0])return!1;for(var t={},n=0;n<10;n++)t[\"_\"+String.fromCharCode(n)]=n;if(\"0123456789\"!==Object.getOwnPropertyNames(t).map((function(e){return t[e]})).join(\"\"))return!1;var r={};return\"abcdefghijklmnopqrst\".split(\"\").forEach((function(e){r[e]=e})),\"abcdefghijklmnopqrst\"===Object.keys(Object.assign({},r)).join(\"\")}catch(i){return!1}}()?Object.assign:function(e,t){for(var n,a,l=u(e),c=1;c<arguments.length;c++){for(var s in n=Object(arguments[c]))i.call(n,s)&&(l[s]=n[s]);if(r){a=r(n);for(var f=0;f<a.length;f++)o.call(n,a[f])&&(l[a[f]]=n[a[f]])}}return l}},,,,,,,function(e,t,n){\"use strict\";var r=n(22),i=\"function\"===typeof Symbol&&Symbol.for,o=i?Symbol.for(\"react.element\"):60103,u=i?Symbol.for(\"react.portal\"):60106,a=i?Symbol.for(\"react.fragment\"):60107,l=i?Symbol.for(\"react.strict_mode\"):60108,c=i?Symbol.for(\"react.profiler\"):60114,s=i?Symbol.for(\"react.provider\"):60109,f=i?Symbol.for(\"react.context\"):60110,d=i?Symbol.for(\"react.forward_ref\"):60112,p=i?Symbol.for(\"react.suspense\"):60113,h=i?Symbol.for(\"react.memo\"):60115,m=i?Symbol.for(\"react.lazy\"):60116,g=\"function\"===typeof Symbol&&Symbol.iterator;function v(e){for(var t=\"https://reactjs.org/docs/error-decoder.html?invariant=\"+e,n=1;n<arguments.length;n++)t+=\"&args[]=\"+encodeURIComponent(arguments[n]);return\"Minified React error #\"+e+\"; visit \"+t+\" for the full message or use the non-minified dev environment for full errors and additional helpful warnings.\"}var y={isMounted:function(){return!1},enqueueForceUpdate:function(){},enqueueReplaceState:function(){},enqueueSetState:function(){}},b={};function w(e,t,n){this.props=e,this.context=t,this.refs=b,this.updater=n||y}function x(){}function _(e,t,n){this.props=e,this.context=t,this.refs=b,this.updater=n||y}w.prototype.isReactComponent={},w.prototype.setState=function(e,t){if(\"object\"!==typeof e&&\"function\"!==typeof e&&null!=e)throw Error(v(85));this.updater.enqueueSetState(this,e,t,\"setState\")},w.prototype.forceUpdate=function(e){this.updater.enqueueForceUpdate(this,e,\"forceUpdate\")},x.prototype=w.prototype;var k=_.prototype=new x;k.constructor=_,r(k,w.prototype),k.isPureReactComponent=!0;var T={current:null},E=Object.prototype.hasOwnProperty,C={key:!0,ref:!0,__self:!0,__source:!0};function S(e,t,n){var r,i={},u=null,a=null;if(null!=t)for(r in void 0!==t.ref&&(a=t.ref),void 0!==t.key&&(u=\"\"+t.key),t)E.call(t,r)&&!C.hasOwnProperty(r)&&(i[r]=t[r]);var l=arguments.length-2;if(1===l)i.children=n;else if(1<l){for(var c=Array(l),s=0;s<l;s++)c[s]=arguments[s+2];i.children=c}if(e&&e.defaultProps)for(r in l=e.defaultProps)void 0===i[r]&&(i[r]=l[r]);return{$$typeof:o,type:e,key:u,ref:a,props:i,_owner:T.current}}function M(e){return\"object\"===typeof e&&null!==e&&e.$$typeof===o}var N=/\\/+/g,P=[];function A(e,t,n,r){if(P.length){var i=P.pop();return i.result=e,i.keyPrefix=t,i.func=n,i.context=r,i.count=0,i}return{result:e,keyPrefix:t,func:n,context:r,count:0}}function R(e){e.result=null,e.keyPrefix=null,e.func=null,e.context=null,e.count=0,10>P.length&&P.push(e)}function D(e,t,n){return null==e?0:function e(t,n,r,i){var a=typeof t;\"undefined\"!==a&&\"boolean\"!==a||(t=null);var l=!1;if(null===t)l=!0;else switch(a){case\"string\":case\"number\":l=!0;break;case\"object\":switch(t.$$typeof){case o:case u:l=!0}}if(l)return r(i,t,\"\"===n?\".\"+O(t,0):n),1;if(l=0,n=\"\"===n?\".\":n+\":\",Array.isArray(t))for(var c=0;c<t.length;c++){var s=n+O(a=t[c],c);l+=e(a,s,r,i)}else if(null===t||\"object\"!==typeof t?s=null:s=\"function\"===typeof(s=g&&t[g]||t[\"@@iterator\"])?s:null,\"function\"===typeof s)for(t=s.call(t),c=0;!(a=t.next()).done;)l+=e(a=a.value,s=n+O(a,c++),r,i);else if(\"object\"===a)throw r=\"\"+t,Error(v(31,\"[object Object]\"===r?\"object with keys {\"+Object.keys(t).join(\", \")+\"}\":r,\"\"));return l}(e,\"\",t,n)}function O(e,t){return\"object\"===typeof e&&null!==e&&null!=e.key?function(e){var t={\"=\":\"=0\",\":\":\"=2\"};return\"$\"+(\"\"+e).replace(/[=:]/g,(function(e){return t[e]}))}(e.key):t.toString(36)}function z(e,t){e.func.call(e.context,t,e.count++)}function L(e,t,n){var r=e.result,i=e.keyPrefix;e=e.func.call(e.context,t,e.count++),Array.isArray(e)?U(e,r,n,(function(e){return e})):null!=e&&(M(e)&&(e=function(e,t){return{$$typeof:o,type:e.type,key:t,ref:e.ref,props:e.props,_owner:e._owner}}(e,i+(!e.key||t&&t.key===e.key?\"\":(\"\"+e.key).replace(N,\"$&/\")+\"/\")+n)),r.push(e))}function U(e,t,n,r,i){var o=\"\";null!=n&&(o=(\"\"+n).replace(N,\"$&/\")+\"/\"),D(e,L,t=A(t,o,r,i)),R(t)}var F={current:null};function I(){var e=F.current;if(null===e)throw Error(v(321));return e}var j={ReactCurrentDispatcher:F,ReactCurrentBatchConfig:{suspense:null},ReactCurrentOwner:T,IsSomeRendererActing:{current:!1},assign:r};t.Children={map:function(e,t,n){if(null==e)return e;var r=[];return U(e,r,null,t,n),r},forEach:function(e,t,n){if(null==e)return e;D(e,z,t=A(null,null,t,n)),R(t)},count:function(e){return D(e,(function(){return null}),null)},toArray:function(e){var t=[];return U(e,t,null,(function(e){return e})),t},only:function(e){if(!M(e))throw Error(v(143));return e}},t.Component=w,t.Fragment=a,t.Profiler=c,t.PureComponent=_,t.StrictMode=l,t.Suspense=p,t.__SECRET_INTERNALS_DO_NOT_USE_OR_YOU_WILL_BE_FIRED=j,t.cloneElement=function(e,t,n){if(null===e||void 0===e)throw Error(v(267,e));var i=r({},e.props),u=e.key,a=e.ref,l=e._owner;if(null!=t){if(void 0!==t.ref&&(a=t.ref,l=T.current),void 0!==t.key&&(u=\"\"+t.key),e.type&&e.type.defaultProps)var c=e.type.defaultProps;for(s in t)E.call(t,s)&&!C.hasOwnProperty(s)&&(i[s]=void 0===t[s]&&void 0!==c?c[s]:t[s])}var s=arguments.length-2;if(1===s)i.children=n;else if(1<s){c=Array(s);for(var f=0;f<s;f++)c[f]=arguments[f+2];i.children=c}return{$$typeof:o,type:e.type,key:u,ref:a,props:i,_owner:l}},t.createContext=function(e,t){return void 0===t&&(t=null),(e={$$typeof:f,_calculateChangedBits:t,_currentValue:e,_currentValue2:e,_threadCount:0,Provider:null,Consumer:null}).Provider={$$typeof:s,_context:e},e.Consumer=e},t.createElement=S,t.createFactory=function(e){var t=S.bind(null,e);return t.type=e,t},t.createRef=function(){return{current:null}},t.forwardRef=function(e){return{$$typeof:d,render:e}},t.isValidElement=M,t.lazy=function(e){return{$$typeof:m,_ctor:e,_status:-1,_result:null}},t.memo=function(e,t){return{$$typeof:h,type:e,compare:void 0===t?null:t}},t.useCallback=function(e,t){return I().useCallback(e,t)},t.useContext=function(e,t){return I().useContext(e,t)},t.useDebugValue=function(){},t.useEffect=function(e,t){return I().useEffect(e,t)},t.useImperativeHandle=function(e,t,n){return I().useImperativeHandle(e,t,n)},t.useLayoutEffect=function(e,t){return I().useLayoutEffect(e,t)},t.useMemo=function(e,t){return I().useMemo(e,t)},t.useReducer=function(e,t,n){return I().useReducer(e,t,n)},t.useRef=function(e){return I().useRef(e)},t.useState=function(e){return I().useState(e)},t.version=\"16.13.1\"},function(e,t,n){\"use strict\";var r=n(0),i=n(22),o=n(31);function u(e){for(var t=\"https://reactjs.org/docs/error-decoder.html?invariant=\"+e,n=1;n<arguments.length;n++)t+=\"&args[]=\"+encodeURIComponent(arguments[n]);return\"Minified React error #\"+e+\"; visit \"+t+\" for the full message or use the non-minified dev environment for full errors and additional helpful warnings.\"}if(!r)throw Error(u(227));function a(e,t,n,r,i,o,u,a,l){var c=Array.prototype.slice.call(arguments,3);try{t.apply(n,c)}catch(s){this.onError(s)}}var l=!1,c=null,s=!1,f=null,d={onError:function(e){l=!0,c=e}};function p(e,t,n,r,i,o,u,s,f){l=!1,c=null,a.apply(d,arguments)}var h=null,m=null,g=null;function v(e,t,n){var r=e.type||\"unknown-event\";e.currentTarget=g(n),function(e,t,n,r,i,o,a,d,h){if(p.apply(this,arguments),l){if(!l)throw Error(u(198));var m=c;l=!1,c=null,s||(s=!0,f=m)}}(r,t,void 0,e),e.currentTarget=null}var y=null,b={};function w(){if(y)for(var e in b){var t=b[e],n=y.indexOf(e);if(!(-1<n))throw Error(u(96,e));if(!_[n]){if(!t.extractEvents)throw Error(u(97,e));for(var r in _[n]=t,n=t.eventTypes){var i=void 0,o=n[r],a=t,l=r;if(k.hasOwnProperty(l))throw Error(u(99,l));k[l]=o;var c=o.phasedRegistrationNames;if(c){for(i in c)c.hasOwnProperty(i)&&x(c[i],a,l);i=!0}else o.registrationName?(x(o.registrationName,a,l),i=!0):i=!1;if(!i)throw Error(u(98,r,e))}}}}function x(e,t,n){if(T[e])throw Error(u(100,e));T[e]=t,E[e]=t.eventTypes[n].dependencies}var _=[],k={},T={},E={};function C(e){var t,n=!1;for(t in e)if(e.hasOwnProperty(t)){var r=e[t];if(!b.hasOwnProperty(t)||b[t]!==r){if(b[t])throw Error(u(102,t));b[t]=r,n=!0}}n&&w()}var S=!(\"undefined\"===typeof window||\"undefined\"===typeof window.document||\"undefined\"===typeof window.document.createElement),M=null,N=null,P=null;function A(e){if(e=m(e)){if(\"function\"!==typeof M)throw Error(u(280));var t=e.stateNode;t&&(t=h(t),M(e.stateNode,e.type,t))}}function R(e){N?P?P.push(e):P=[e]:N=e}function D(){if(N){var e=N,t=P;if(P=N=null,A(e),t)for(e=0;e<t.length;e++)A(t[e])}}function O(e,t){return e(t)}function z(e,t,n,r,i){return e(t,n,r,i)}function L(){}var U=O,F=!1,I=!1;function j(){null===N&&null===P||(L(),D())}function H(e,t,n){if(I)return e(t,n);I=!0;try{return U(e,t,n)}finally{I=!1,j()}}var V=/^[:A-Z_a-z\\u00C0-\\u00D6\\u00D8-\\u00F6\\u00F8-\\u02FF\\u0370-\\u037D\\u037F-\\u1FFF\\u200C-\\u200D\\u2070-\\u218F\\u2C00-\\u2FEF\\u3001-\\uD7FF\\uF900-\\uFDCF\\uFDF0-\\uFFFD][:A-Z_a-z\\u00C0-\\u00D6\\u00D8-\\u00F6\\u00F8-\\u02FF\\u0370-\\u037D\\u037F-\\u1FFF\\u200C-\\u200D\\u2070-\\u218F\\u2C00-\\u2FEF\\u3001-\\uD7FF\\uF900-\\uFDCF\\uFDF0-\\uFFFD\\-.0-9\\u00B7\\u0300-\\u036F\\u203F-\\u2040]*$/,$=Object.prototype.hasOwnProperty,W={},Q={};function q(e,t,n,r,i,o){this.acceptsBooleans=2===t||3===t||4===t,this.attributeName=r,this.attributeNamespace=i,this.mustUseProperty=n,this.propertyName=e,this.type=t,this.sanitizeURL=o}var B={};\"children dangerouslySetInnerHTML defaultValue defaultChecked innerHTML suppressContentEditableWarning suppressHydrationWarning style\".split(\" \").forEach((function(e){B[e]=new q(e,0,!1,e,null,!1)})),[[\"acceptCharset\",\"accept-charset\"],[\"className\",\"class\"],[\"htmlFor\",\"for\"],[\"httpEquiv\",\"http-equiv\"]].forEach((function(e){var t=e[0];B[t]=new q(t,1,!1,e[1],null,!1)})),[\"contentEditable\",\"draggable\",\"spellCheck\",\"value\"].forEach((function(e){B[e]=new q(e,2,!1,e.toLowerCase(),null,!1)})),[\"autoReverse\",\"externalResourcesRequired\",\"focusable\",\"preserveAlpha\"].forEach((function(e){B[e]=new q(e,2,!1,e,null,!1)})),\"allowFullScreen async autoFocus autoPlay controls default defer disabled disablePictureInPicture formNoValidate hidden loop noModule noValidate open playsInline readOnly required reversed scoped seamless itemScope\".split(\" \").forEach((function(e){B[e]=new q(e,3,!1,e.toLowerCase(),null,!1)})),[\"checked\",\"multiple\",\"muted\",\"selected\"].forEach((function(e){B[e]=new q(e,3,!0,e,null,!1)})),[\"capture\",\"download\"].forEach((function(e){B[e]=new q(e,4,!1,e,null,!1)})),[\"cols\",\"rows\",\"size\",\"span\"].forEach((function(e){B[e]=new q(e,6,!1,e,null,!1)})),[\"rowSpan\",\"start\"].forEach((function(e){B[e]=new q(e,5,!1,e.toLowerCase(),null,!1)}));var Y=/[\\-:]([a-z])/g;function X(e){return e[1].toUpperCase()}\"accent-height alignment-baseline arabic-form baseline-shift cap-height clip-path clip-rule color-interpolation color-interpolation-filters color-profile color-rendering dominant-baseline enable-background fill-opacity fill-rule flood-color flood-opacity font-family font-size font-size-adjust font-stretch font-style font-variant font-weight glyph-name glyph-orientation-horizontal glyph-orientation-vertical horiz-adv-x horiz-origin-x image-rendering letter-spacing lighting-color marker-end marker-mid marker-start overline-position overline-thickness paint-order panose-1 pointer-events rendering-intent shape-rendering stop-color stop-opacity strikethrough-position strikethrough-thickness stroke-dasharray stroke-dashoffset stroke-linecap stroke-linejoin stroke-miterlimit stroke-opacity stroke-width text-anchor text-decoration text-rendering underline-position underline-thickness unicode-bidi unicode-range units-per-em v-alphabetic v-hanging v-ideographic v-mathematical vector-effect vert-adv-y vert-origin-x vert-origin-y word-spacing writing-mode xmlns:xlink x-height\".split(\" \").forEach((function(e){var t=e.replace(Y,X);B[t]=new q(t,1,!1,e,null,!1)})),\"xlink:actuate xlink:arcrole xlink:role xlink:show xlink:title xlink:type\".split(\" \").forEach((function(e){var t=e.replace(Y,X);B[t]=new q(t,1,!1,e,\"http://www.w3.org/1999/xlink\",!1)})),[\"xml:base\",\"xml:lang\",\"xml:space\"].forEach((function(e){var t=e.replace(Y,X);B[t]=new q(t,1,!1,e,\"http://www.w3.org/XML/1998/namespace\",!1)})),[\"tabIndex\",\"crossOrigin\"].forEach((function(e){B[e]=new q(e,1,!1,e.toLowerCase(),null,!1)})),B.xlinkHref=new q(\"xlinkHref\",1,!1,\"xlink:href\",\"http://www.w3.org/1999/xlink\",!0),[\"src\",\"href\",\"action\",\"formAction\"].forEach((function(e){B[e]=new q(e,1,!1,e.toLowerCase(),null,!0)}));var K=r.__SECRET_INTERNALS_DO_NOT_USE_OR_YOU_WILL_BE_FIRED;function Z(e,t,n,r){var i=B.hasOwnProperty(t)?B[t]:null;(null!==i?0===i.type:!r&&(2<t.length&&(\"o\"===t[0]||\"O\"===t[0])&&(\"n\"===t[1]||\"N\"===t[1])))||(function(e,t,n,r){if(null===t||\"undefined\"===typeof t||function(e,t,n,r){if(null!==n&&0===n.type)return!1;switch(typeof t){case\"function\":case\"symbol\":return!0;case\"boolean\":return!r&&(null!==n?!n.acceptsBooleans:\"data-\"!==(e=e.toLowerCase().slice(0,5))&&\"aria-\"!==e);default:return!1}}(e,t,n,r))return!0;if(r)return!1;if(null!==n)switch(n.type){case 3:return!t;case 4:return!1===t;case 5:return isNaN(t);case 6:return isNaN(t)||1>t}return!1}(t,n,i,r)&&(n=null),r||null===i?function(e){return!!$.call(Q,e)||!$.call(W,e)&&(V.test(e)?Q[e]=!0:(W[e]=!0,!1))}(t)&&(null===n?e.removeAttribute(t):e.setAttribute(t,\"\"+n)):i.mustUseProperty?e[i.propertyName]=null===n?3!==i.type&&\"\":n:(t=i.attributeName,r=i.attributeNamespace,null===n?e.removeAttribute(t):(n=3===(i=i.type)||4===i&&!0===n?\"\":\"\"+n,r?e.setAttributeNS(r,t,n):e.setAttribute(t,n))))}K.hasOwnProperty(\"ReactCurrentDispatcher\")||(K.ReactCurrentDispatcher={current:null}),K.hasOwnProperty(\"ReactCurrentBatchConfig\")||(K.ReactCurrentBatchConfig={suspense:null});var J=/^(.*)[\\\\\\/]/,G=\"function\"===typeof Symbol&&Symbol.for,ee=G?Symbol.for(\"react.element\"):60103,te=G?Symbol.for(\"react.portal\"):60106,ne=G?Symbol.for(\"react.fragment\"):60107,re=G?Symbol.for(\"react.strict_mode\"):60108,ie=G?Symbol.for(\"react.profiler\"):60114,oe=G?Symbol.for(\"react.provider\"):60109,ue=G?Symbol.for(\"react.context\"):60110,ae=G?Symbol.for(\"react.concurrent_mode\"):60111,le=G?Symbol.for(\"react.forward_ref\"):60112,ce=G?Symbol.for(\"react.suspense\"):60113,se=G?Symbol.for(\"react.suspense_list\"):60120,fe=G?Symbol.for(\"react.memo\"):60115,de=G?Symbol.for(\"react.lazy\"):60116,pe=G?Symbol.for(\"react.block\"):60121,he=\"function\"===typeof Symbol&&Symbol.iterator;function me(e){return null===e||\"object\"!==typeof e?null:\"function\"===typeof(e=he&&e[he]||e[\"@@iterator\"])?e:null}function ge(e){if(null==e)return null;if(\"function\"===typeof e)return e.displayName||e.name||null;if(\"string\"===typeof e)return e;switch(e){case ne:return\"Fragment\";case te:return\"Portal\";case ie:return\"Profiler\";case re:return\"StrictMode\";case ce:return\"Suspense\";case se:return\"SuspenseList\"}if(\"object\"===typeof e)switch(e.$$typeof){case ue:return\"Context.Consumer\";case oe:return\"Context.Provider\";case le:var t=e.render;return t=t.displayName||t.name||\"\",e.displayName||(\"\"!==t?\"ForwardRef(\"+t+\")\":\"ForwardRef\");case fe:return ge(e.type);case pe:return ge(e.render);case de:if(e=1===e._status?e._result:null)return ge(e)}return null}function ve(e){var t=\"\";do{e:switch(e.tag){case 3:case 4:case 6:case 7:case 10:case 9:var n=\"\";break e;default:var r=e._debugOwner,i=e._debugSource,o=ge(e.type);n=null,r&&(n=ge(r.type)),r=o,o=\"\",i?o=\" (at \"+i.fileName.replace(J,\"\")+\":\"+i.lineNumber+\")\":n&&(o=\" (created by \"+n+\")\"),n=\"\\n    in \"+(r||\"Unknown\")+o}t+=n,e=e.return}while(e);return t}function ye(e){switch(typeof e){case\"boolean\":case\"number\":case\"object\":case\"string\":case\"undefined\":return e;default:return\"\"}}function be(e){var t=e.type;return(e=e.nodeName)&&\"input\"===e.toLowerCase()&&(\"checkbox\"===t||\"radio\"===t)}function we(e){e._valueTracker||(e._valueTracker=function(e){var t=be(e)?\"checked\":\"value\",n=Object.getOwnPropertyDescriptor(e.constructor.prototype,t),r=\"\"+e[t];if(!e.hasOwnProperty(t)&&\"undefined\"!==typeof n&&\"function\"===typeof n.get&&\"function\"===typeof n.set){var i=n.get,o=n.set;return Object.defineProperty(e,t,{configurable:!0,get:function(){return i.call(this)},set:function(e){r=\"\"+e,o.call(this,e)}}),Object.defineProperty(e,t,{enumerable:n.enumerable}),{getValue:function(){return r},setValue:function(e){r=\"\"+e},stopTracking:function(){e._valueTracker=null,delete e[t]}}}}(e))}function xe(e){if(!e)return!1;var t=e._valueTracker;if(!t)return!0;var n=t.getValue(),r=\"\";return e&&(r=be(e)?e.checked?\"true\":\"false\":e.value),(e=r)!==n&&(t.setValue(e),!0)}function _e(e,t){var n=t.checked;return i({},t,{defaultChecked:void 0,defaultValue:void 0,value:void 0,checked:null!=n?n:e._wrapperState.initialChecked})}function ke(e,t){var n=null==t.defaultValue?\"\":t.defaultValue,r=null!=t.checked?t.checked:t.defaultChecked;n=ye(null!=t.value?t.value:n),e._wrapperState={initialChecked:r,initialValue:n,controlled:\"checkbox\"===t.type||\"radio\"===t.type?null!=t.checked:null!=t.value}}function Te(e,t){null!=(t=t.checked)&&Z(e,\"checked\",t,!1)}function Ee(e,t){Te(e,t);var n=ye(t.value),r=t.type;if(null!=n)\"number\"===r?(0===n&&\"\"===e.value||e.value!=n)&&(e.value=\"\"+n):e.value!==\"\"+n&&(e.value=\"\"+n);else if(\"submit\"===r||\"reset\"===r)return void e.removeAttribute(\"value\");t.hasOwnProperty(\"value\")?Se(e,t.type,n):t.hasOwnProperty(\"defaultValue\")&&Se(e,t.type,ye(t.defaultValue)),null==t.checked&&null!=t.defaultChecked&&(e.defaultChecked=!!t.defaultChecked)}function Ce(e,t,n){if(t.hasOwnProperty(\"value\")||t.hasOwnProperty(\"defaultValue\")){var r=t.type;if(!(\"submit\"!==r&&\"reset\"!==r||void 0!==t.value&&null!==t.value))return;t=\"\"+e._wrapperState.initialValue,n||t===e.value||(e.value=t),e.defaultValue=t}\"\"!==(n=e.name)&&(e.name=\"\"),e.defaultChecked=!!e._wrapperState.initialChecked,\"\"!==n&&(e.name=n)}function Se(e,t,n){\"number\"===t&&e.ownerDocument.activeElement===e||(null==n?e.defaultValue=\"\"+e._wrapperState.initialValue:e.defaultValue!==\"\"+n&&(e.defaultValue=\"\"+n))}function Me(e,t){return e=i({children:void 0},t),(t=function(e){var t=\"\";return r.Children.forEach(e,(function(e){null!=e&&(t+=e)})),t}(t.children))&&(e.children=t),e}function Ne(e,t,n,r){if(e=e.options,t){t={};for(var i=0;i<n.length;i++)t[\"$\"+n[i]]=!0;for(n=0;n<e.length;n++)i=t.hasOwnProperty(\"$\"+e[n].value),e[n].selected!==i&&(e[n].selected=i),i&&r&&(e[n].defaultSelected=!0)}else{for(n=\"\"+ye(n),t=null,i=0;i<e.length;i++){if(e[i].value===n)return e[i].selected=!0,void(r&&(e[i].defaultSelected=!0));null!==t||e[i].disabled||(t=e[i])}null!==t&&(t.selected=!0)}}function Pe(e,t){if(null!=t.dangerouslySetInnerHTML)throw Error(u(91));return i({},t,{value:void 0,defaultValue:void 0,children:\"\"+e._wrapperState.initialValue})}function Ae(e,t){var n=t.value;if(null==n){if(n=t.children,t=t.defaultValue,null!=n){if(null!=t)throw Error(u(92));if(Array.isArray(n)){if(!(1>=n.length))throw Error(u(93));n=n[0]}t=n}null==t&&(t=\"\"),n=t}e._wrapperState={initialValue:ye(n)}}function Re(e,t){var n=ye(t.value),r=ye(t.defaultValue);null!=n&&((n=\"\"+n)!==e.value&&(e.value=n),null==t.defaultValue&&e.defaultValue!==n&&(e.defaultValue=n)),null!=r&&(e.defaultValue=\"\"+r)}function De(e){var t=e.textContent;t===e._wrapperState.initialValue&&\"\"!==t&&null!==t&&(e.value=t)}var Oe=\"http://www.w3.org/1999/xhtml\",ze=\"http://www.w3.org/2000/svg\";function Le(e){switch(e){case\"svg\":return\"http://www.w3.org/2000/svg\";case\"math\":return\"http://www.w3.org/1998/Math/MathML\";default:return\"http://www.w3.org/1999/xhtml\"}}function Ue(e,t){return null==e||\"http://www.w3.org/1999/xhtml\"===e?Le(t):\"http://www.w3.org/2000/svg\"===e&&\"foreignObject\"===t?\"http://www.w3.org/1999/xhtml\":e}var Fe,Ie=function(e){return\"undefined\"!==typeof MSApp&&MSApp.execUnsafeLocalFunction?function(t,n,r,i){MSApp.execUnsafeLocalFunction((function(){return e(t,n)}))}:e}((function(e,t){if(e.namespaceURI!==ze||\"innerHTML\"in e)e.innerHTML=t;else{for((Fe=Fe||document.createElement(\"div\")).innerHTML=\"<svg>\"+t.valueOf().toString()+\"</svg>\",t=Fe.firstChild;e.firstChild;)e.removeChild(e.firstChild);for(;t.firstChild;)e.appendChild(t.firstChild)}}));function je(e,t){if(t){var n=e.firstChild;if(n&&n===e.lastChild&&3===n.nodeType)return void(n.nodeValue=t)}e.textContent=t}function He(e,t){var n={};return n[e.toLowerCase()]=t.toLowerCase(),n[\"Webkit\"+e]=\"webkit\"+t,n[\"Moz\"+e]=\"moz\"+t,n}var Ve={animationend:He(\"Animation\",\"AnimationEnd\"),animationiteration:He(\"Animation\",\"AnimationIteration\"),animationstart:He(\"Animation\",\"AnimationStart\"),transitionend:He(\"Transition\",\"TransitionEnd\")},$e={},We={};function Qe(e){if($e[e])return $e[e];if(!Ve[e])return e;var t,n=Ve[e];for(t in n)if(n.hasOwnProperty(t)&&t in We)return $e[e]=n[t];return e}S&&(We=document.createElement(\"div\").style,\"AnimationEvent\"in window||(delete Ve.animationend.animation,delete Ve.animationiteration.animation,delete Ve.animationstart.animation),\"TransitionEvent\"in window||delete Ve.transitionend.transition);var qe=Qe(\"animationend\"),Be=Qe(\"animationiteration\"),Ye=Qe(\"animationstart\"),Xe=Qe(\"transitionend\"),Ke=\"abort canplay canplaythrough durationchange emptied encrypted ended error loadeddata loadedmetadata loadstart pause play playing progress ratechange seeked seeking stalled suspend timeupdate volumechange waiting\".split(\" \"),Ze=new(\"function\"===typeof WeakMap?WeakMap:Map);function Je(e){var t=Ze.get(e);return void 0===t&&(t=new Map,Ze.set(e,t)),t}function Ge(e){var t=e,n=e;if(e.alternate)for(;t.return;)t=t.return;else{e=t;do{0!==(1026&(t=e).effectTag)&&(n=t.return),e=t.return}while(e)}return 3===t.tag?n:null}function et(e){if(13===e.tag){var t=e.memoizedState;if(null===t&&(null!==(e=e.alternate)&&(t=e.memoizedState)),null!==t)return t.dehydrated}return null}function tt(e){if(Ge(e)!==e)throw Error(u(188))}function nt(e){if(!(e=function(e){var t=e.alternate;if(!t){if(null===(t=Ge(e)))throw Error(u(188));return t!==e?null:e}for(var n=e,r=t;;){var i=n.return;if(null===i)break;var o=i.alternate;if(null===o){if(null!==(r=i.return)){n=r;continue}break}if(i.child===o.child){for(o=i.child;o;){if(o===n)return tt(i),e;if(o===r)return tt(i),t;o=o.sibling}throw Error(u(188))}if(n.return!==r.return)n=i,r=o;else{for(var a=!1,l=i.child;l;){if(l===n){a=!0,n=i,r=o;break}if(l===r){a=!0,r=i,n=o;break}l=l.sibling}if(!a){for(l=o.child;l;){if(l===n){a=!0,n=o,r=i;break}if(l===r){a=!0,r=o,n=i;break}l=l.sibling}if(!a)throw Error(u(189))}}if(n.alternate!==r)throw Error(u(190))}if(3!==n.tag)throw Error(u(188));return n.stateNode.current===n?e:t}(e)))return null;for(var t=e;;){if(5===t.tag||6===t.tag)return t;if(t.child)t.child.return=t,t=t.child;else{if(t===e)break;for(;!t.sibling;){if(!t.return||t.return===e)return null;t=t.return}t.sibling.return=t.return,t=t.sibling}}return null}function rt(e,t){if(null==t)throw Error(u(30));return null==e?t:Array.isArray(e)?Array.isArray(t)?(e.push.apply(e,t),e):(e.push(t),e):Array.isArray(t)?[e].concat(t):[e,t]}function it(e,t,n){Array.isArray(e)?e.forEach(t,n):e&&t.call(n,e)}var ot=null;function ut(e){if(e){var t=e._dispatchListeners,n=e._dispatchInstances;if(Array.isArray(t))for(var r=0;r<t.length&&!e.isPropagationStopped();r++)v(e,t[r],n[r]);else t&&v(e,t,n);e._dispatchListeners=null,e._dispatchInstances=null,e.isPersistent()||e.constructor.release(e)}}function at(e){if(null!==e&&(ot=rt(ot,e)),e=ot,ot=null,e){if(it(e,ut),ot)throw Error(u(95));if(s)throw e=f,s=!1,f=null,e}}function lt(e){return(e=e.target||e.srcElement||window).correspondingUseElement&&(e=e.correspondingUseElement),3===e.nodeType?e.parentNode:e}function ct(e){if(!S)return!1;var t=(e=\"on\"+e)in document;return t||((t=document.createElement(\"div\")).setAttribute(e,\"return;\"),t=\"function\"===typeof t[e]),t}var st=[];function ft(e){e.topLevelType=null,e.nativeEvent=null,e.targetInst=null,e.ancestors.length=0,10>st.length&&st.push(e)}function dt(e,t,n,r){if(st.length){var i=st.pop();return i.topLevelType=e,i.eventSystemFlags=r,i.nativeEvent=t,i.targetInst=n,i}return{topLevelType:e,eventSystemFlags:r,nativeEvent:t,targetInst:n,ancestors:[]}}function pt(e){var t=e.targetInst,n=t;do{if(!n){e.ancestors.push(n);break}var r=n;if(3===r.tag)r=r.stateNode.containerInfo;else{for(;r.return;)r=r.return;r=3!==r.tag?null:r.stateNode.containerInfo}if(!r)break;5!==(t=n.tag)&&6!==t||e.ancestors.push(n),n=Sn(r)}while(n);for(n=0;n<e.ancestors.length;n++){t=e.ancestors[n];var i=lt(e.nativeEvent);r=e.topLevelType;var o=e.nativeEvent,u=e.eventSystemFlags;0===n&&(u|=64);for(var a=null,l=0;l<_.length;l++){var c=_[l];c&&(c=c.extractEvents(r,t,o,i,u))&&(a=rt(a,c))}at(a)}}function ht(e,t,n){if(!n.has(e)){switch(e){case\"scroll\":Yt(t,\"scroll\",!0);break;case\"focus\":case\"blur\":Yt(t,\"focus\",!0),Yt(t,\"blur\",!0),n.set(\"blur\",null),n.set(\"focus\",null);break;case\"cancel\":case\"close\":ct(e)&&Yt(t,e,!0);break;case\"invalid\":case\"submit\":case\"reset\":break;default:-1===Ke.indexOf(e)&&Bt(e,t)}n.set(e,null)}}var mt,gt,vt,yt=!1,bt=[],wt=null,xt=null,_t=null,kt=new Map,Tt=new Map,Et=[],Ct=\"mousedown mouseup touchcancel touchend touchstart auxclick dblclick pointercancel pointerdown pointerup dragend dragstart drop compositionend compositionstart keydown keypress keyup input textInput close cancel copy cut paste click change contextmenu reset submit\".split(\" \"),St=\"focus blur dragenter dragleave mouseover mouseout pointerover pointerout gotpointercapture lostpointercapture\".split(\" \");function Mt(e,t,n,r,i){return{blockedOn:e,topLevelType:t,eventSystemFlags:32|n,nativeEvent:i,container:r}}function Nt(e,t){switch(e){case\"focus\":case\"blur\":wt=null;break;case\"dragenter\":case\"dragleave\":xt=null;break;case\"mouseover\":case\"mouseout\":_t=null;break;case\"pointerover\":case\"pointerout\":kt.delete(t.pointerId);break;case\"gotpointercapture\":case\"lostpointercapture\":Tt.delete(t.pointerId)}}function Pt(e,t,n,r,i,o){return null===e||e.nativeEvent!==o?(e=Mt(t,n,r,i,o),null!==t&&(null!==(t=Mn(t))&&gt(t)),e):(e.eventSystemFlags|=r,e)}function At(e){var t=Sn(e.target);if(null!==t){var n=Ge(t);if(null!==n)if(13===(t=n.tag)){if(null!==(t=et(n)))return e.blockedOn=t,void o.unstable_runWithPriority(e.priority,(function(){vt(n)}))}else if(3===t&&n.stateNode.hydrate)return void(e.blockedOn=3===n.tag?n.stateNode.containerInfo:null)}e.blockedOn=null}function Rt(e){if(null!==e.blockedOn)return!1;var t=Jt(e.topLevelType,e.eventSystemFlags,e.container,e.nativeEvent);if(null!==t){var n=Mn(t);return null!==n&&gt(n),e.blockedOn=t,!1}return!0}function Dt(e,t,n){Rt(e)&&n.delete(t)}function Ot(){for(yt=!1;0<bt.length;){var e=bt[0];if(null!==e.blockedOn){null!==(e=Mn(e.blockedOn))&&mt(e);break}var t=Jt(e.topLevelType,e.eventSystemFlags,e.container,e.nativeEvent);null!==t?e.blockedOn=t:bt.shift()}null!==wt&&Rt(wt)&&(wt=null),null!==xt&&Rt(xt)&&(xt=null),null!==_t&&Rt(_t)&&(_t=null),kt.forEach(Dt),Tt.forEach(Dt)}function zt(e,t){e.blockedOn===t&&(e.blockedOn=null,yt||(yt=!0,o.unstable_scheduleCallback(o.unstable_NormalPriority,Ot)))}function Lt(e){function t(t){return zt(t,e)}if(0<bt.length){zt(bt[0],e);for(var n=1;n<bt.length;n++){var r=bt[n];r.blockedOn===e&&(r.blockedOn=null)}}for(null!==wt&&zt(wt,e),null!==xt&&zt(xt,e),null!==_t&&zt(_t,e),kt.forEach(t),Tt.forEach(t),n=0;n<Et.length;n++)(r=Et[n]).blockedOn===e&&(r.blockedOn=null);for(;0<Et.length&&null===(n=Et[0]).blockedOn;)At(n),null===n.blockedOn&&Et.shift()}var Ut={},Ft=new Map,It=new Map,jt=[\"abort\",\"abort\",qe,\"animationEnd\",Be,\"animationIteration\",Ye,\"animationStart\",\"canplay\",\"canPlay\",\"canplaythrough\",\"canPlayThrough\",\"durationchange\",\"durationChange\",\"emptied\",\"emptied\",\"encrypted\",\"encrypted\",\"ended\",\"ended\",\"error\",\"error\",\"gotpointercapture\",\"gotPointerCapture\",\"load\",\"load\",\"loadeddata\",\"loadedData\",\"loadedmetadata\",\"loadedMetadata\",\"loadstart\",\"loadStart\",\"lostpointercapture\",\"lostPointerCapture\",\"playing\",\"playing\",\"progress\",\"progress\",\"seeking\",\"seeking\",\"stalled\",\"stalled\",\"suspend\",\"suspend\",\"timeupdate\",\"timeUpdate\",Xe,\"transitionEnd\",\"waiting\",\"waiting\"];function Ht(e,t){for(var n=0;n<e.length;n+=2){var r=e[n],i=e[n+1],o=\"on\"+(i[0].toUpperCase()+i.slice(1));o={phasedRegistrationNames:{bubbled:o,captured:o+\"Capture\"},dependencies:[r],eventPriority:t},It.set(r,t),Ft.set(r,o),Ut[i]=o}}Ht(\"blur blur cancel cancel click click close close contextmenu contextMenu copy copy cut cut auxclick auxClick dblclick doubleClick dragend dragEnd dragstart dragStart drop drop focus focus input input invalid invalid keydown keyDown keypress keyPress keyup keyUp mousedown mouseDown mouseup mouseUp paste paste pause pause play play pointercancel pointerCancel pointerdown pointerDown pointerup pointerUp ratechange rateChange reset reset seeked seeked submit submit touchcancel touchCancel touchend touchEnd touchstart touchStart volumechange volumeChange\".split(\" \"),0),Ht(\"drag drag dragenter dragEnter dragexit dragExit dragleave dragLeave dragover dragOver mousemove mouseMove mouseout mouseOut mouseover mouseOver pointermove pointerMove pointerout pointerOut pointerover pointerOver scroll scroll toggle toggle touchmove touchMove wheel wheel\".split(\" \"),1),Ht(jt,2);for(var Vt=\"change selectionchange textInput compositionstart compositionend compositionupdate\".split(\" \"),$t=0;$t<Vt.length;$t++)It.set(Vt[$t],0);var Wt=o.unstable_UserBlockingPriority,Qt=o.unstable_runWithPriority,qt=!0;function Bt(e,t){Yt(t,e,!1)}function Yt(e,t,n){var r=It.get(t);switch(void 0===r?2:r){case 0:r=Xt.bind(null,t,1,e);break;case 1:r=Kt.bind(null,t,1,e);break;default:r=Zt.bind(null,t,1,e)}n?e.addEventListener(t,r,!0):e.addEventListener(t,r,!1)}function Xt(e,t,n,r){F||L();var i=Zt,o=F;F=!0;try{z(i,e,t,n,r)}finally{(F=o)||j()}}function Kt(e,t,n,r){Qt(Wt,Zt.bind(null,e,t,n,r))}function Zt(e,t,n,r){if(qt)if(0<bt.length&&-1<Ct.indexOf(e))e=Mt(null,e,t,n,r),bt.push(e);else{var i=Jt(e,t,n,r);if(null===i)Nt(e,r);else if(-1<Ct.indexOf(e))e=Mt(i,e,t,n,r),bt.push(e);else if(!function(e,t,n,r,i){switch(t){case\"focus\":return wt=Pt(wt,e,t,n,r,i),!0;case\"dragenter\":return xt=Pt(xt,e,t,n,r,i),!0;case\"mouseover\":return _t=Pt(_t,e,t,n,r,i),!0;case\"pointerover\":var o=i.pointerId;return kt.set(o,Pt(kt.get(o)||null,e,t,n,r,i)),!0;case\"gotpointercapture\":return o=i.pointerId,Tt.set(o,Pt(Tt.get(o)||null,e,t,n,r,i)),!0}return!1}(i,e,t,n,r)){Nt(e,r),e=dt(e,r,null,t);try{H(pt,e)}finally{ft(e)}}}}function Jt(e,t,n,r){if(null!==(n=Sn(n=lt(r)))){var i=Ge(n);if(null===i)n=null;else{var o=i.tag;if(13===o){if(null!==(n=et(i)))return n;n=null}else if(3===o){if(i.stateNode.hydrate)return 3===i.tag?i.stateNode.containerInfo:null;n=null}else i!==n&&(n=null)}}e=dt(e,r,n,t);try{H(pt,e)}finally{ft(e)}return null}var Gt={animationIterationCount:!0,borderImageOutset:!0,borderImageSlice:!0,borderImageWidth:!0,boxFlex:!0,boxFlexGroup:!0,boxOrdinalGroup:!0,columnCount:!0,columns:!0,flex:!0,flexGrow:!0,flexPositive:!0,flexShrink:!0,flexNegative:!0,flexOrder:!0,gridArea:!0,gridRow:!0,gridRowEnd:!0,gridRowSpan:!0,gridRowStart:!0,gridColumn:!0,gridColumnEnd:!0,gridColumnSpan:!0,gridColumnStart:!0,fontWeight:!0,lineClamp:!0,lineHeight:!0,opacity:!0,order:!0,orphans:!0,tabSize:!0,widows:!0,zIndex:!0,zoom:!0,fillOpacity:!0,floodOpacity:!0,stopOpacity:!0,strokeDasharray:!0,strokeDashoffset:!0,strokeMiterlimit:!0,strokeOpacity:!0,strokeWidth:!0},en=[\"Webkit\",\"ms\",\"Moz\",\"O\"];function tn(e,t,n){return null==t||\"boolean\"===typeof t||\"\"===t?\"\":n||\"number\"!==typeof t||0===t||Gt.hasOwnProperty(e)&&Gt[e]?(\"\"+t).trim():t+\"px\"}function nn(e,t){for(var n in e=e.style,t)if(t.hasOwnProperty(n)){var r=0===n.indexOf(\"--\"),i=tn(n,t[n],r);\"float\"===n&&(n=\"cssFloat\"),r?e.setProperty(n,i):e[n]=i}}Object.keys(Gt).forEach((function(e){en.forEach((function(t){t=t+e.charAt(0).toUpperCase()+e.substring(1),Gt[t]=Gt[e]}))}));var rn=i({menuitem:!0},{area:!0,base:!0,br:!0,col:!0,embed:!0,hr:!0,img:!0,input:!0,keygen:!0,link:!0,meta:!0,param:!0,source:!0,track:!0,wbr:!0});function on(e,t){if(t){if(rn[e]&&(null!=t.children||null!=t.dangerouslySetInnerHTML))throw Error(u(137,e,\"\"));if(null!=t.dangerouslySetInnerHTML){if(null!=t.children)throw Error(u(60));if(\"object\"!==typeof t.dangerouslySetInnerHTML||!(\"__html\"in t.dangerouslySetInnerHTML))throw Error(u(61))}if(null!=t.style&&\"object\"!==typeof t.style)throw Error(u(62,\"\"))}}function un(e,t){if(-1===e.indexOf(\"-\"))return\"string\"===typeof t.is;switch(e){case\"annotation-xml\":case\"color-profile\":case\"font-face\":case\"font-face-src\":case\"font-face-uri\":case\"font-face-format\":case\"font-face-name\":case\"missing-glyph\":return!1;default:return!0}}var an=Oe;function ln(e,t){var n=Je(e=9===e.nodeType||11===e.nodeType?e:e.ownerDocument);t=E[t];for(var r=0;r<t.length;r++)ht(t[r],e,n)}function cn(){}function sn(e){if(\"undefined\"===typeof(e=e||(\"undefined\"!==typeof document?document:void 0)))return null;try{return e.activeElement||e.body}catch(t){return e.body}}function fn(e){for(;e&&e.firstChild;)e=e.firstChild;return e}function dn(e,t){var n,r=fn(e);for(e=0;r;){if(3===r.nodeType){if(n=e+r.textContent.length,e<=t&&n>=t)return{node:r,offset:t-e};e=n}e:{for(;r;){if(r.nextSibling){r=r.nextSibling;break e}r=r.parentNode}r=void 0}r=fn(r)}}function pn(){for(var e=window,t=sn();t instanceof e.HTMLIFrameElement;){try{var n=\"string\"===typeof t.contentWindow.location.href}catch(r){n=!1}if(!n)break;t=sn((e=t.contentWindow).document)}return t}function hn(e){var t=e&&e.nodeName&&e.nodeName.toLowerCase();return t&&(\"input\"===t&&(\"text\"===e.type||\"search\"===e.type||\"tel\"===e.type||\"url\"===e.type||\"password\"===e.type)||\"textarea\"===t||\"true\"===e.contentEditable)}var mn=null,gn=null;function vn(e,t){switch(e){case\"button\":case\"input\":case\"select\":case\"textarea\":return!!t.autoFocus}return!1}function yn(e,t){return\"textarea\"===e||\"option\"===e||\"noscript\"===e||\"string\"===typeof t.children||\"number\"===typeof t.children||\"object\"===typeof t.dangerouslySetInnerHTML&&null!==t.dangerouslySetInnerHTML&&null!=t.dangerouslySetInnerHTML.__html}var bn=\"function\"===typeof setTimeout?setTimeout:void 0,wn=\"function\"===typeof clearTimeout?clearTimeout:void 0;function xn(e){for(;null!=e;e=e.nextSibling){var t=e.nodeType;if(1===t||3===t)break}return e}function _n(e){e=e.previousSibling;for(var t=0;e;){if(8===e.nodeType){var n=e.data;if(\"$\"===n||\"$!\"===n||\"$?\"===n){if(0===t)return e;t--}else\"/$\"===n&&t++}e=e.previousSibling}return null}var kn=Math.random().toString(36).slice(2),Tn=\"__reactInternalInstance$\"+kn,En=\"__reactEventHandlers$\"+kn,Cn=\"__reactContainere$\"+kn;function Sn(e){var t=e[Tn];if(t)return t;for(var n=e.parentNode;n;){if(t=n[Cn]||n[Tn]){if(n=t.alternate,null!==t.child||null!==n&&null!==n.child)for(e=_n(e);null!==e;){if(n=e[Tn])return n;e=_n(e)}return t}n=(e=n).parentNode}return null}function Mn(e){return!(e=e[Tn]||e[Cn])||5!==e.tag&&6!==e.tag&&13!==e.tag&&3!==e.tag?null:e}function Nn(e){if(5===e.tag||6===e.tag)return e.stateNode;throw Error(u(33))}function Pn(e){return e[En]||null}function An(e){do{e=e.return}while(e&&5!==e.tag);return e||null}function Rn(e,t){var n=e.stateNode;if(!n)return null;var r=h(n);if(!r)return null;n=r[t];e:switch(t){case\"onClick\":case\"onClickCapture\":case\"onDoubleClick\":case\"onDoubleClickCapture\":case\"onMouseDown\":case\"onMouseDownCapture\":case\"onMouseMove\":case\"onMouseMoveCapture\":case\"onMouseUp\":case\"onMouseUpCapture\":case\"onMouseEnter\":(r=!r.disabled)||(r=!(\"button\"===(e=e.type)||\"input\"===e||\"select\"===e||\"textarea\"===e)),e=!r;break e;default:e=!1}if(e)return null;if(n&&\"function\"!==typeof n)throw Error(u(231,t,typeof n));return n}function Dn(e,t,n){(t=Rn(e,n.dispatchConfig.phasedRegistrationNames[t]))&&(n._dispatchListeners=rt(n._dispatchListeners,t),n._dispatchInstances=rt(n._dispatchInstances,e))}function On(e){if(e&&e.dispatchConfig.phasedRegistrationNames){for(var t=e._targetInst,n=[];t;)n.push(t),t=An(t);for(t=n.length;0<t--;)Dn(n[t],\"captured\",e);for(t=0;t<n.length;t++)Dn(n[t],\"bubbled\",e)}}function zn(e,t,n){e&&n&&n.dispatchConfig.registrationName&&(t=Rn(e,n.dispatchConfig.registrationName))&&(n._dispatchListeners=rt(n._dispatchListeners,t),n._dispatchInstances=rt(n._dispatchInstances,e))}function Ln(e){e&&e.dispatchConfig.registrationName&&zn(e._targetInst,null,e)}function Un(e){it(e,On)}var Fn=null,In=null,jn=null;function Hn(){if(jn)return jn;var e,t,n=In,r=n.length,i=\"value\"in Fn?Fn.value:Fn.textContent,o=i.length;for(e=0;e<r&&n[e]===i[e];e++);var u=r-e;for(t=1;t<=u&&n[r-t]===i[o-t];t++);return jn=i.slice(e,1<t?1-t:void 0)}function Vn(){return!0}function $n(){return!1}function Wn(e,t,n,r){for(var i in this.dispatchConfig=e,this._targetInst=t,this.nativeEvent=n,e=this.constructor.Interface)e.hasOwnProperty(i)&&((t=e[i])?this[i]=t(n):\"target\"===i?this.target=r:this[i]=n[i]);return this.isDefaultPrevented=(null!=n.defaultPrevented?n.defaultPrevented:!1===n.returnValue)?Vn:$n,this.isPropagationStopped=$n,this}function Qn(e,t,n,r){if(this.eventPool.length){var i=this.eventPool.pop();return this.call(i,e,t,n,r),i}return new this(e,t,n,r)}function qn(e){if(!(e instanceof this))throw Error(u(279));e.destructor(),10>this.eventPool.length&&this.eventPool.push(e)}function Bn(e){e.eventPool=[],e.getPooled=Qn,e.release=qn}i(Wn.prototype,{preventDefault:function(){this.defaultPrevented=!0;var e=this.nativeEvent;e&&(e.preventDefault?e.preventDefault():\"unknown\"!==typeof e.returnValue&&(e.returnValue=!1),this.isDefaultPrevented=Vn)},stopPropagation:function(){var e=this.nativeEvent;e&&(e.stopPropagation?e.stopPropagation():\"unknown\"!==typeof e.cancelBubble&&(e.cancelBubble=!0),this.isPropagationStopped=Vn)},persist:function(){this.isPersistent=Vn},isPersistent:$n,destructor:function(){var e,t=this.constructor.Interface;for(e in t)this[e]=null;this.nativeEvent=this._targetInst=this.dispatchConfig=null,this.isPropagationStopped=this.isDefaultPrevented=$n,this._dispatchInstances=this._dispatchListeners=null}}),Wn.Interface={type:null,target:null,currentTarget:function(){return null},eventPhase:null,bubbles:null,cancelable:null,timeStamp:function(e){return e.timeStamp||Date.now()},defaultPrevented:null,isTrusted:null},Wn.extend=function(e){function t(){}function n(){return r.apply(this,arguments)}var r=this;t.prototype=r.prototype;var o=new t;return i(o,n.prototype),n.prototype=o,n.prototype.constructor=n,n.Interface=i({},r.Interface,e),n.extend=r.extend,Bn(n),n},Bn(Wn);var Yn=Wn.extend({data:null}),Xn=Wn.extend({data:null}),Kn=[9,13,27,32],Zn=S&&\"CompositionEvent\"in window,Jn=null;S&&\"documentMode\"in document&&(Jn=document.documentMode);var Gn=S&&\"TextEvent\"in window&&!Jn,er=S&&(!Zn||Jn&&8<Jn&&11>=Jn),tr=String.fromCharCode(32),nr={beforeInput:{phasedRegistrationNames:{bubbled:\"onBeforeInput\",captured:\"onBeforeInputCapture\"},dependencies:[\"compositionend\",\"keypress\",\"textInput\",\"paste\"]},compositionEnd:{phasedRegistrationNames:{bubbled:\"onCompositionEnd\",captured:\"onCompositionEndCapture\"},dependencies:\"blur compositionend keydown keypress keyup mousedown\".split(\" \")},compositionStart:{phasedRegistrationNames:{bubbled:\"onCompositionStart\",captured:\"onCompositionStartCapture\"},dependencies:\"blur compositionstart keydown keypress keyup mousedown\".split(\" \")},compositionUpdate:{phasedRegistrationNames:{bubbled:\"onCompositionUpdate\",captured:\"onCompositionUpdateCapture\"},dependencies:\"blur compositionupdate keydown keypress keyup mousedown\".split(\" \")}},rr=!1;function ir(e,t){switch(e){case\"keyup\":return-1!==Kn.indexOf(t.keyCode);case\"keydown\":return 229!==t.keyCode;case\"keypress\":case\"mousedown\":case\"blur\":return!0;default:return!1}}function or(e){return\"object\"===typeof(e=e.detail)&&\"data\"in e?e.data:null}var ur=!1;var ar={eventTypes:nr,extractEvents:function(e,t,n,r){var i;if(Zn)e:{switch(e){case\"compositionstart\":var o=nr.compositionStart;break e;case\"compositionend\":o=nr.compositionEnd;break e;case\"compositionupdate\":o=nr.compositionUpdate;break e}o=void 0}else ur?ir(e,n)&&(o=nr.compositionEnd):\"keydown\"===e&&229===n.keyCode&&(o=nr.compositionStart);return o?(er&&\"ko\"!==n.locale&&(ur||o!==nr.compositionStart?o===nr.compositionEnd&&ur&&(i=Hn()):(In=\"value\"in(Fn=r)?Fn.value:Fn.textContent,ur=!0)),o=Yn.getPooled(o,t,n,r),i?o.data=i:null!==(i=or(n))&&(o.data=i),Un(o),i=o):i=null,(e=Gn?function(e,t){switch(e){case\"compositionend\":return or(t);case\"keypress\":return 32!==t.which?null:(rr=!0,tr);case\"textInput\":return(e=t.data)===tr&&rr?null:e;default:return null}}(e,n):function(e,t){if(ur)return\"compositionend\"===e||!Zn&&ir(e,t)?(e=Hn(),jn=In=Fn=null,ur=!1,e):null;switch(e){case\"paste\":return null;case\"keypress\":if(!(t.ctrlKey||t.altKey||t.metaKey)||t.ctrlKey&&t.altKey){if(t.char&&1<t.char.length)return t.char;if(t.which)return String.fromCharCode(t.which)}return null;case\"compositionend\":return er&&\"ko\"!==t.locale?null:t.data;default:return null}}(e,n))?((t=Xn.getPooled(nr.beforeInput,t,n,r)).data=e,Un(t)):t=null,null===i?t:null===t?i:[i,t]}},lr={color:!0,date:!0,datetime:!0,\"datetime-local\":!0,email:!0,month:!0,number:!0,password:!0,range:!0,search:!0,tel:!0,text:!0,time:!0,url:!0,week:!0};function cr(e){var t=e&&e.nodeName&&e.nodeName.toLowerCase();return\"input\"===t?!!lr[e.type]:\"textarea\"===t}var sr={change:{phasedRegistrationNames:{bubbled:\"onChange\",captured:\"onChangeCapture\"},dependencies:\"blur change click focus input keydown keyup selectionchange\".split(\" \")}};function fr(e,t,n){return(e=Wn.getPooled(sr.change,e,t,n)).type=\"change\",R(n),Un(e),e}var dr=null,pr=null;function hr(e){at(e)}function mr(e){if(xe(Nn(e)))return e}function gr(e,t){if(\"change\"===e)return t}var vr=!1;function yr(){dr&&(dr.detachEvent(\"onpropertychange\",br),pr=dr=null)}function br(e){if(\"value\"===e.propertyName&&mr(pr))if(e=fr(pr,e,lt(e)),F)at(e);else{F=!0;try{O(hr,e)}finally{F=!1,j()}}}function wr(e,t,n){\"focus\"===e?(yr(),pr=n,(dr=t).attachEvent(\"onpropertychange\",br)):\"blur\"===e&&yr()}function xr(e){if(\"selectionchange\"===e||\"keyup\"===e||\"keydown\"===e)return mr(pr)}function _r(e,t){if(\"click\"===e)return mr(t)}function kr(e,t){if(\"input\"===e||\"change\"===e)return mr(t)}S&&(vr=ct(\"input\")&&(!document.documentMode||9<document.documentMode));var Tr={eventTypes:sr,_isInputEventSupported:vr,extractEvents:function(e,t,n,r){var i=t?Nn(t):window,o=i.nodeName&&i.nodeName.toLowerCase();if(\"select\"===o||\"input\"===o&&\"file\"===i.type)var u=gr;else if(cr(i))if(vr)u=kr;else{u=xr;var a=wr}else(o=i.nodeName)&&\"input\"===o.toLowerCase()&&(\"checkbox\"===i.type||\"radio\"===i.type)&&(u=_r);if(u&&(u=u(e,t)))return fr(u,n,r);a&&a(e,i,t),\"blur\"===e&&(e=i._wrapperState)&&e.controlled&&\"number\"===i.type&&Se(i,\"number\",i.value)}},Er=Wn.extend({view:null,detail:null}),Cr={Alt:\"altKey\",Control:\"ctrlKey\",Meta:\"metaKey\",Shift:\"shiftKey\"};function Sr(e){var t=this.nativeEvent;return t.getModifierState?t.getModifierState(e):!!(e=Cr[e])&&!!t[e]}function Mr(){return Sr}var Nr=0,Pr=0,Ar=!1,Rr=!1,Dr=Er.extend({screenX:null,screenY:null,clientX:null,clientY:null,pageX:null,pageY:null,ctrlKey:null,shiftKey:null,altKey:null,metaKey:null,getModifierState:Mr,button:null,buttons:null,relatedTarget:function(e){return e.relatedTarget||(e.fromElement===e.srcElement?e.toElement:e.fromElement)},movementX:function(e){if(\"movementX\"in e)return e.movementX;var t=Nr;return Nr=e.screenX,Ar?\"mousemove\"===e.type?e.screenX-t:0:(Ar=!0,0)},movementY:function(e){if(\"movementY\"in e)return e.movementY;var t=Pr;return Pr=e.screenY,Rr?\"mousemove\"===e.type?e.screenY-t:0:(Rr=!0,0)}}),Or=Dr.extend({pointerId:null,width:null,height:null,pressure:null,tangentialPressure:null,tiltX:null,tiltY:null,twist:null,pointerType:null,isPrimary:null}),zr={mouseEnter:{registrationName:\"onMouseEnter\",dependencies:[\"mouseout\",\"mouseover\"]},mouseLeave:{registrationName:\"onMouseLeave\",dependencies:[\"mouseout\",\"mouseover\"]},pointerEnter:{registrationName:\"onPointerEnter\",dependencies:[\"pointerout\",\"pointerover\"]},pointerLeave:{registrationName:\"onPointerLeave\",dependencies:[\"pointerout\",\"pointerover\"]}},Lr={eventTypes:zr,extractEvents:function(e,t,n,r,i){var o=\"mouseover\"===e||\"pointerover\"===e,u=\"mouseout\"===e||\"pointerout\"===e;if(o&&0===(32&i)&&(n.relatedTarget||n.fromElement)||!u&&!o)return null;(o=r.window===r?r:(o=r.ownerDocument)?o.defaultView||o.parentWindow:window,u)?(u=t,null!==(t=(t=n.relatedTarget||n.toElement)?Sn(t):null)&&(t!==Ge(t)||5!==t.tag&&6!==t.tag)&&(t=null)):u=null;if(u===t)return null;if(\"mouseout\"===e||\"mouseover\"===e)var a=Dr,l=zr.mouseLeave,c=zr.mouseEnter,s=\"mouse\";else\"pointerout\"!==e&&\"pointerover\"!==e||(a=Or,l=zr.pointerLeave,c=zr.pointerEnter,s=\"pointer\");if(e=null==u?o:Nn(u),o=null==t?o:Nn(t),(l=a.getPooled(l,u,n,r)).type=s+\"leave\",l.target=e,l.relatedTarget=o,(n=a.getPooled(c,t,n,r)).type=s+\"enter\",n.target=o,n.relatedTarget=e,s=t,(r=u)&&s)e:{for(c=s,u=0,e=a=r;e;e=An(e))u++;for(e=0,t=c;t;t=An(t))e++;for(;0<u-e;)a=An(a),u--;for(;0<e-u;)c=An(c),e--;for(;u--;){if(a===c||a===c.alternate)break e;a=An(a),c=An(c)}a=null}else a=null;for(c=a,a=[];r&&r!==c&&(null===(u=r.alternate)||u!==c);)a.push(r),r=An(r);for(r=[];s&&s!==c&&(null===(u=s.alternate)||u!==c);)r.push(s),s=An(s);for(s=0;s<a.length;s++)zn(a[s],\"bubbled\",l);for(s=r.length;0<s--;)zn(r[s],\"captured\",n);return 0===(64&i)?[l]:[l,n]}};var Ur=\"function\"===typeof Object.is?Object.is:function(e,t){return e===t&&(0!==e||1/e===1/t)||e!==e&&t!==t},Fr=Object.prototype.hasOwnProperty;function Ir(e,t){if(Ur(e,t))return!0;if(\"object\"!==typeof e||null===e||\"object\"!==typeof t||null===t)return!1;var n=Object.keys(e),r=Object.keys(t);if(n.length!==r.length)return!1;for(r=0;r<n.length;r++)if(!Fr.call(t,n[r])||!Ur(e[n[r]],t[n[r]]))return!1;return!0}var jr=S&&\"documentMode\"in document&&11>=document.documentMode,Hr={select:{phasedRegistrationNames:{bubbled:\"onSelect\",captured:\"onSelectCapture\"},dependencies:\"blur contextmenu dragend focus keydown keyup mousedown mouseup selectionchange\".split(\" \")}},Vr=null,$r=null,Wr=null,Qr=!1;function qr(e,t){var n=t.window===t?t.document:9===t.nodeType?t:t.ownerDocument;return Qr||null==Vr||Vr!==sn(n)?null:(\"selectionStart\"in(n=Vr)&&hn(n)?n={start:n.selectionStart,end:n.selectionEnd}:n={anchorNode:(n=(n.ownerDocument&&n.ownerDocument.defaultView||window).getSelection()).anchorNode,anchorOffset:n.anchorOffset,focusNode:n.focusNode,focusOffset:n.focusOffset},Wr&&Ir(Wr,n)?null:(Wr=n,(e=Wn.getPooled(Hr.select,$r,e,t)).type=\"select\",e.target=Vr,Un(e),e))}var Br={eventTypes:Hr,extractEvents:function(e,t,n,r,i,o){if(!(o=!(i=o||(r.window===r?r.document:9===r.nodeType?r:r.ownerDocument)))){e:{i=Je(i),o=E.onSelect;for(var u=0;u<o.length;u++)if(!i.has(o[u])){i=!1;break e}i=!0}o=!i}if(o)return null;switch(i=t?Nn(t):window,e){case\"focus\":(cr(i)||\"true\"===i.contentEditable)&&(Vr=i,$r=t,Wr=null);break;case\"blur\":Wr=$r=Vr=null;break;case\"mousedown\":Qr=!0;break;case\"contextmenu\":case\"mouseup\":case\"dragend\":return Qr=!1,qr(n,r);case\"selectionchange\":if(jr)break;case\"keydown\":case\"keyup\":return qr(n,r)}return null}},Yr=Wn.extend({animationName:null,elapsedTime:null,pseudoElement:null}),Xr=Wn.extend({clipboardData:function(e){return\"clipboardData\"in e?e.clipboardData:window.clipboardData}}),Kr=Er.extend({relatedTarget:null});function Zr(e){var t=e.keyCode;return\"charCode\"in e?0===(e=e.charCode)&&13===t&&(e=13):e=t,10===e&&(e=13),32<=e||13===e?e:0}var Jr={Esc:\"Escape\",Spacebar:\" \",Left:\"ArrowLeft\",Up:\"ArrowUp\",Right:\"ArrowRight\",Down:\"ArrowDown\",Del:\"Delete\",Win:\"OS\",Menu:\"ContextMenu\",Apps:\"ContextMenu\",Scroll:\"ScrollLock\",MozPrintableKey:\"Unidentified\"},Gr={8:\"Backspace\",9:\"Tab\",12:\"Clear\",13:\"Enter\",16:\"Shift\",17:\"Control\",18:\"Alt\",19:\"Pause\",20:\"CapsLock\",27:\"Escape\",32:\" \",33:\"PageUp\",34:\"PageDown\",35:\"End\",36:\"Home\",37:\"ArrowLeft\",38:\"ArrowUp\",39:\"ArrowRight\",40:\"ArrowDown\",45:\"Insert\",46:\"Delete\",112:\"F1\",113:\"F2\",114:\"F3\",115:\"F4\",116:\"F5\",117:\"F6\",118:\"F7\",119:\"F8\",120:\"F9\",121:\"F10\",122:\"F11\",123:\"F12\",144:\"NumLock\",145:\"ScrollLock\",224:\"Meta\"},ei=Er.extend({key:function(e){if(e.key){var t=Jr[e.key]||e.key;if(\"Unidentified\"!==t)return t}return\"keypress\"===e.type?13===(e=Zr(e))?\"Enter\":String.fromCharCode(e):\"keydown\"===e.type||\"keyup\"===e.type?Gr[e.keyCode]||\"Unidentified\":\"\"},location:null,ctrlKey:null,shiftKey:null,altKey:null,metaKey:null,repeat:null,locale:null,getModifierState:Mr,charCode:function(e){return\"keypress\"===e.type?Zr(e):0},keyCode:function(e){return\"keydown\"===e.type||\"keyup\"===e.type?e.keyCode:0},which:function(e){return\"keypress\"===e.type?Zr(e):\"keydown\"===e.type||\"keyup\"===e.type?e.keyCode:0}}),ti=Dr.extend({dataTransfer:null}),ni=Er.extend({touches:null,targetTouches:null,changedTouches:null,altKey:null,metaKey:null,ctrlKey:null,shiftKey:null,getModifierState:Mr}),ri=Wn.extend({propertyName:null,elapsedTime:null,pseudoElement:null}),ii=Dr.extend({deltaX:function(e){return\"deltaX\"in e?e.deltaX:\"wheelDeltaX\"in e?-e.wheelDeltaX:0},deltaY:function(e){return\"deltaY\"in e?e.deltaY:\"wheelDeltaY\"in e?-e.wheelDeltaY:\"wheelDelta\"in e?-e.wheelDelta:0},deltaZ:null,deltaMode:null}),oi={eventTypes:Ut,extractEvents:function(e,t,n,r){var i=Ft.get(e);if(!i)return null;switch(e){case\"keypress\":if(0===Zr(n))return null;case\"keydown\":case\"keyup\":e=ei;break;case\"blur\":case\"focus\":e=Kr;break;case\"click\":if(2===n.button)return null;case\"auxclick\":case\"dblclick\":case\"mousedown\":case\"mousemove\":case\"mouseup\":case\"mouseout\":case\"mouseover\":case\"contextmenu\":e=Dr;break;case\"drag\":case\"dragend\":case\"dragenter\":case\"dragexit\":case\"dragleave\":case\"dragover\":case\"dragstart\":case\"drop\":e=ti;break;case\"touchcancel\":case\"touchend\":case\"touchmove\":case\"touchstart\":e=ni;break;case qe:case Be:case Ye:e=Yr;break;case Xe:e=ri;break;case\"scroll\":e=Er;break;case\"wheel\":e=ii;break;case\"copy\":case\"cut\":case\"paste\":e=Xr;break;case\"gotpointercapture\":case\"lostpointercapture\":case\"pointercancel\":case\"pointerdown\":case\"pointermove\":case\"pointerout\":case\"pointerover\":case\"pointerup\":e=Or;break;default:e=Wn}return Un(t=e.getPooled(i,t,n,r)),t}};if(y)throw Error(u(101));y=Array.prototype.slice.call(\"ResponderEventPlugin SimpleEventPlugin EnterLeaveEventPlugin ChangeEventPlugin SelectEventPlugin BeforeInputEventPlugin\".split(\" \")),w(),h=Pn,m=Mn,g=Nn,C({SimpleEventPlugin:oi,EnterLeaveEventPlugin:Lr,ChangeEventPlugin:Tr,SelectEventPlugin:Br,BeforeInputEventPlugin:ar});var ui=[],ai=-1;function li(e){0>ai||(e.current=ui[ai],ui[ai]=null,ai--)}function ci(e,t){ai++,ui[ai]=e.current,e.current=t}var si={},fi={current:si},di={current:!1},pi=si;function hi(e,t){var n=e.type.contextTypes;if(!n)return si;var r=e.stateNode;if(r&&r.__reactInternalMemoizedUnmaskedChildContext===t)return r.__reactInternalMemoizedMaskedChildContext;var i,o={};for(i in n)o[i]=t[i];return r&&((e=e.stateNode).__reactInternalMemoizedUnmaskedChildContext=t,e.__reactInternalMemoizedMaskedChildContext=o),o}function mi(e){return null!==(e=e.childContextTypes)&&void 0!==e}function gi(){li(di),li(fi)}function vi(e,t,n){if(fi.current!==si)throw Error(u(168));ci(fi,t),ci(di,n)}function yi(e,t,n){var r=e.stateNode;if(e=t.childContextTypes,\"function\"!==typeof r.getChildContext)return n;for(var o in r=r.getChildContext())if(!(o in e))throw Error(u(108,ge(t)||\"Unknown\",o));return i({},n,{},r)}function bi(e){return e=(e=e.stateNode)&&e.__reactInternalMemoizedMergedChildContext||si,pi=fi.current,ci(fi,e),ci(di,di.current),!0}function wi(e,t,n){var r=e.stateNode;if(!r)throw Error(u(169));n?(e=yi(e,t,pi),r.__reactInternalMemoizedMergedChildContext=e,li(di),li(fi),ci(fi,e)):li(di),ci(di,n)}var xi=o.unstable_runWithPriority,_i=o.unstable_scheduleCallback,ki=o.unstable_cancelCallback,Ti=o.unstable_requestPaint,Ei=o.unstable_now,Ci=o.unstable_getCurrentPriorityLevel,Si=o.unstable_ImmediatePriority,Mi=o.unstable_UserBlockingPriority,Ni=o.unstable_NormalPriority,Pi=o.unstable_LowPriority,Ai=o.unstable_IdlePriority,Ri={},Di=o.unstable_shouldYield,Oi=void 0!==Ti?Ti:function(){},zi=null,Li=null,Ui=!1,Fi=Ei(),Ii=1e4>Fi?Ei:function(){return Ei()-Fi};function ji(){switch(Ci()){case Si:return 99;case Mi:return 98;case Ni:return 97;case Pi:return 96;case Ai:return 95;default:throw Error(u(332))}}function Hi(e){switch(e){case 99:return Si;case 98:return Mi;case 97:return Ni;case 96:return Pi;case 95:return Ai;default:throw Error(u(332))}}function Vi(e,t){return e=Hi(e),xi(e,t)}function $i(e,t,n){return e=Hi(e),_i(e,t,n)}function Wi(e){return null===zi?(zi=[e],Li=_i(Si,qi)):zi.push(e),Ri}function Qi(){if(null!==Li){var e=Li;Li=null,ki(e)}qi()}function qi(){if(!Ui&&null!==zi){Ui=!0;var e=0;try{var t=zi;Vi(99,(function(){for(;e<t.length;e++){var n=t[e];do{n=n(!0)}while(null!==n)}})),zi=null}catch(n){throw null!==zi&&(zi=zi.slice(e+1)),_i(Si,Qi),n}finally{Ui=!1}}}function Bi(e,t,n){return 1073741821-(1+((1073741821-e+t/10)/(n/=10)|0))*n}function Yi(e,t){if(e&&e.defaultProps)for(var n in t=i({},t),e=e.defaultProps)void 0===t[n]&&(t[n]=e[n]);return t}var Xi={current:null},Ki=null,Zi=null,Ji=null;function Gi(){Ji=Zi=Ki=null}function eo(e){var t=Xi.current;li(Xi),e.type._context._currentValue=t}function to(e,t){for(;null!==e;){var n=e.alternate;if(e.childExpirationTime<t)e.childExpirationTime=t,null!==n&&n.childExpirationTime<t&&(n.childExpirationTime=t);else{if(!(null!==n&&n.childExpirationTime<t))break;n.childExpirationTime=t}e=e.return}}function no(e,t){Ki=e,Ji=Zi=null,null!==(e=e.dependencies)&&null!==e.firstContext&&(e.expirationTime>=t&&(Pu=!0),e.firstContext=null)}function ro(e,t){if(Ji!==e&&!1!==t&&0!==t)if(\"number\"===typeof t&&1073741823!==t||(Ji=e,t=1073741823),t={context:e,observedBits:t,next:null},null===Zi){if(null===Ki)throw Error(u(308));Zi=t,Ki.dependencies={expirationTime:0,firstContext:t,responders:null}}else Zi=Zi.next=t;return e._currentValue}var io=!1;function oo(e){e.updateQueue={baseState:e.memoizedState,baseQueue:null,shared:{pending:null},effects:null}}function uo(e,t){e=e.updateQueue,t.updateQueue===e&&(t.updateQueue={baseState:e.baseState,baseQueue:e.baseQueue,shared:e.shared,effects:e.effects})}function ao(e,t){return(e={expirationTime:e,suspenseConfig:t,tag:0,payload:null,callback:null,next:null}).next=e}function lo(e,t){if(null!==(e=e.updateQueue)){var n=(e=e.shared).pending;null===n?t.next=t:(t.next=n.next,n.next=t),e.pending=t}}function co(e,t){var n=e.alternate;null!==n&&uo(n,e),null===(n=(e=e.updateQueue).baseQueue)?(e.baseQueue=t.next=t,t.next=t):(t.next=n.next,n.next=t)}function so(e,t,n,r){var o=e.updateQueue;io=!1;var u=o.baseQueue,a=o.shared.pending;if(null!==a){if(null!==u){var l=u.next;u.next=a.next,a.next=l}u=a,o.shared.pending=null,null!==(l=e.alternate)&&(null!==(l=l.updateQueue)&&(l.baseQueue=a))}if(null!==u){l=u.next;var c=o.baseState,s=0,f=null,d=null,p=null;if(null!==l)for(var h=l;;){if((a=h.expirationTime)<r){var m={expirationTime:h.expirationTime,suspenseConfig:h.suspenseConfig,tag:h.tag,payload:h.payload,callback:h.callback,next:null};null===p?(d=p=m,f=c):p=p.next=m,a>s&&(s=a)}else{null!==p&&(p=p.next={expirationTime:1073741823,suspenseConfig:h.suspenseConfig,tag:h.tag,payload:h.payload,callback:h.callback,next:null}),ol(a,h.suspenseConfig);e:{var g=e,v=h;switch(a=t,m=n,v.tag){case 1:if(\"function\"===typeof(g=v.payload)){c=g.call(m,c,a);break e}c=g;break e;case 3:g.effectTag=-4097&g.effectTag|64;case 0:if(null===(a=\"function\"===typeof(g=v.payload)?g.call(m,c,a):g)||void 0===a)break e;c=i({},c,a);break e;case 2:io=!0}}null!==h.callback&&(e.effectTag|=32,null===(a=o.effects)?o.effects=[h]:a.push(h))}if(null===(h=h.next)||h===l){if(null===(a=o.shared.pending))break;h=u.next=a.next,a.next=l,o.baseQueue=u=a,o.shared.pending=null}}null===p?f=c:p.next=d,o.baseState=f,o.baseQueue=p,ul(s),e.expirationTime=s,e.memoizedState=c}}function fo(e,t,n){if(e=t.effects,t.effects=null,null!==e)for(t=0;t<e.length;t++){var r=e[t],i=r.callback;if(null!==i){if(r.callback=null,r=i,i=n,\"function\"!==typeof r)throw Error(u(191,r));r.call(i)}}}var po=K.ReactCurrentBatchConfig,ho=(new r.Component).refs;function mo(e,t,n,r){n=null===(n=n(r,t=e.memoizedState))||void 0===n?t:i({},t,n),e.memoizedState=n,0===e.expirationTime&&(e.updateQueue.baseState=n)}var go={isMounted:function(e){return!!(e=e._reactInternalFiber)&&Ge(e)===e},enqueueSetState:function(e,t,n){e=e._reactInternalFiber;var r=qa(),i=po.suspense;(i=ao(r=Ba(r,e,i),i)).payload=t,void 0!==n&&null!==n&&(i.callback=n),lo(e,i),Ya(e,r)},enqueueReplaceState:function(e,t,n){e=e._reactInternalFiber;var r=qa(),i=po.suspense;(i=ao(r=Ba(r,e,i),i)).tag=1,i.payload=t,void 0!==n&&null!==n&&(i.callback=n),lo(e,i),Ya(e,r)},enqueueForceUpdate:function(e,t){e=e._reactInternalFiber;var n=qa(),r=po.suspense;(r=ao(n=Ba(n,e,r),r)).tag=2,void 0!==t&&null!==t&&(r.callback=t),lo(e,r),Ya(e,n)}};function vo(e,t,n,r,i,o,u){return\"function\"===typeof(e=e.stateNode).shouldComponentUpdate?e.shouldComponentUpdate(r,o,u):!t.prototype||!t.prototype.isPureReactComponent||(!Ir(n,r)||!Ir(i,o))}function yo(e,t,n){var r=!1,i=si,o=t.contextType;return\"object\"===typeof o&&null!==o?o=ro(o):(i=mi(t)?pi:fi.current,o=(r=null!==(r=t.contextTypes)&&void 0!==r)?hi(e,i):si),t=new t(n,o),e.memoizedState=null!==t.state&&void 0!==t.state?t.state:null,t.updater=go,e.stateNode=t,t._reactInternalFiber=e,r&&((e=e.stateNode).__reactInternalMemoizedUnmaskedChildContext=i,e.__reactInternalMemoizedMaskedChildContext=o),t}function bo(e,t,n,r){e=t.state,\"function\"===typeof t.componentWillReceiveProps&&t.componentWillReceiveProps(n,r),\"function\"===typeof t.UNSAFE_componentWillReceiveProps&&t.UNSAFE_componentWillReceiveProps(n,r),t.state!==e&&go.enqueueReplaceState(t,t.state,null)}function wo(e,t,n,r){var i=e.stateNode;i.props=n,i.state=e.memoizedState,i.refs=ho,oo(e);var o=t.contextType;\"object\"===typeof o&&null!==o?i.context=ro(o):(o=mi(t)?pi:fi.current,i.context=hi(e,o)),so(e,n,i,r),i.state=e.memoizedState,\"function\"===typeof(o=t.getDerivedStateFromProps)&&(mo(e,t,o,n),i.state=e.memoizedState),\"function\"===typeof t.getDerivedStateFromProps||\"function\"===typeof i.getSnapshotBeforeUpdate||\"function\"!==typeof i.UNSAFE_componentWillMount&&\"function\"!==typeof i.componentWillMount||(t=i.state,\"function\"===typeof i.componentWillMount&&i.componentWillMount(),\"function\"===typeof i.UNSAFE_componentWillMount&&i.UNSAFE_componentWillMount(),t!==i.state&&go.enqueueReplaceState(i,i.state,null),so(e,n,i,r),i.state=e.memoizedState),\"function\"===typeof i.componentDidMount&&(e.effectTag|=4)}var xo=Array.isArray;function _o(e,t,n){if(null!==(e=n.ref)&&\"function\"!==typeof e&&\"object\"!==typeof e){if(n._owner){if(n=n._owner){if(1!==n.tag)throw Error(u(309));var r=n.stateNode}if(!r)throw Error(u(147,e));var i=\"\"+e;return null!==t&&null!==t.ref&&\"function\"===typeof t.ref&&t.ref._stringRef===i?t.ref:((t=function(e){var t=r.refs;t===ho&&(t=r.refs={}),null===e?delete t[i]:t[i]=e})._stringRef=i,t)}if(\"string\"!==typeof e)throw Error(u(284));if(!n._owner)throw Error(u(290,e))}return e}function ko(e,t){if(\"textarea\"!==e.type)throw Error(u(31,\"[object Object]\"===Object.prototype.toString.call(t)?\"object with keys {\"+Object.keys(t).join(\", \")+\"}\":t,\"\"))}function To(e){function t(t,n){if(e){var r=t.lastEffect;null!==r?(r.nextEffect=n,t.lastEffect=n):t.firstEffect=t.lastEffect=n,n.nextEffect=null,n.effectTag=8}}function n(n,r){if(!e)return null;for(;null!==r;)t(n,r),r=r.sibling;return null}function r(e,t){for(e=new Map;null!==t;)null!==t.key?e.set(t.key,t):e.set(t.index,t),t=t.sibling;return e}function i(e,t){return(e=Cl(e,t)).index=0,e.sibling=null,e}function o(t,n,r){return t.index=r,e?null!==(r=t.alternate)?(r=r.index)<n?(t.effectTag=2,n):r:(t.effectTag=2,n):n}function a(t){return e&&null===t.alternate&&(t.effectTag=2),t}function l(e,t,n,r){return null===t||6!==t.tag?((t=Nl(n,e.mode,r)).return=e,t):((t=i(t,n)).return=e,t)}function c(e,t,n,r){return null!==t&&t.elementType===n.type?((r=i(t,n.props)).ref=_o(e,t,n),r.return=e,r):((r=Sl(n.type,n.key,n.props,null,e.mode,r)).ref=_o(e,t,n),r.return=e,r)}function s(e,t,n,r){return null===t||4!==t.tag||t.stateNode.containerInfo!==n.containerInfo||t.stateNode.implementation!==n.implementation?((t=Pl(n,e.mode,r)).return=e,t):((t=i(t,n.children||[])).return=e,t)}function f(e,t,n,r,o){return null===t||7!==t.tag?((t=Ml(n,e.mode,r,o)).return=e,t):((t=i(t,n)).return=e,t)}function d(e,t,n){if(\"string\"===typeof t||\"number\"===typeof t)return(t=Nl(\"\"+t,e.mode,n)).return=e,t;if(\"object\"===typeof t&&null!==t){switch(t.$$typeof){case ee:return(n=Sl(t.type,t.key,t.props,null,e.mode,n)).ref=_o(e,null,t),n.return=e,n;case te:return(t=Pl(t,e.mode,n)).return=e,t}if(xo(t)||me(t))return(t=Ml(t,e.mode,n,null)).return=e,t;ko(e,t)}return null}function p(e,t,n,r){var i=null!==t?t.key:null;if(\"string\"===typeof n||\"number\"===typeof n)return null!==i?null:l(e,t,\"\"+n,r);if(\"object\"===typeof n&&null!==n){switch(n.$$typeof){case ee:return n.key===i?n.type===ne?f(e,t,n.props.children,r,i):c(e,t,n,r):null;case te:return n.key===i?s(e,t,n,r):null}if(xo(n)||me(n))return null!==i?null:f(e,t,n,r,null);ko(e,n)}return null}function h(e,t,n,r,i){if(\"string\"===typeof r||\"number\"===typeof r)return l(t,e=e.get(n)||null,\"\"+r,i);if(\"object\"===typeof r&&null!==r){switch(r.$$typeof){case ee:return e=e.get(null===r.key?n:r.key)||null,r.type===ne?f(t,e,r.props.children,i,r.key):c(t,e,r,i);case te:return s(t,e=e.get(null===r.key?n:r.key)||null,r,i)}if(xo(r)||me(r))return f(t,e=e.get(n)||null,r,i,null);ko(t,r)}return null}function m(i,u,a,l){for(var c=null,s=null,f=u,m=u=0,g=null;null!==f&&m<a.length;m++){f.index>m?(g=f,f=null):g=f.sibling;var v=p(i,f,a[m],l);if(null===v){null===f&&(f=g);break}e&&f&&null===v.alternate&&t(i,f),u=o(v,u,m),null===s?c=v:s.sibling=v,s=v,f=g}if(m===a.length)return n(i,f),c;if(null===f){for(;m<a.length;m++)null!==(f=d(i,a[m],l))&&(u=o(f,u,m),null===s?c=f:s.sibling=f,s=f);return c}for(f=r(i,f);m<a.length;m++)null!==(g=h(f,i,m,a[m],l))&&(e&&null!==g.alternate&&f.delete(null===g.key?m:g.key),u=o(g,u,m),null===s?c=g:s.sibling=g,s=g);return e&&f.forEach((function(e){return t(i,e)})),c}function g(i,a,l,c){var s=me(l);if(\"function\"!==typeof s)throw Error(u(150));if(null==(l=s.call(l)))throw Error(u(151));for(var f=s=null,m=a,g=a=0,v=null,y=l.next();null!==m&&!y.done;g++,y=l.next()){m.index>g?(v=m,m=null):v=m.sibling;var b=p(i,m,y.value,c);if(null===b){null===m&&(m=v);break}e&&m&&null===b.alternate&&t(i,m),a=o(b,a,g),null===f?s=b:f.sibling=b,f=b,m=v}if(y.done)return n(i,m),s;if(null===m){for(;!y.done;g++,y=l.next())null!==(y=d(i,y.value,c))&&(a=o(y,a,g),null===f?s=y:f.sibling=y,f=y);return s}for(m=r(i,m);!y.done;g++,y=l.next())null!==(y=h(m,i,g,y.value,c))&&(e&&null!==y.alternate&&m.delete(null===y.key?g:y.key),a=o(y,a,g),null===f?s=y:f.sibling=y,f=y);return e&&m.forEach((function(e){return t(i,e)})),s}return function(e,r,o,l){var c=\"object\"===typeof o&&null!==o&&o.type===ne&&null===o.key;c&&(o=o.props.children);var s=\"object\"===typeof o&&null!==o;if(s)switch(o.$$typeof){case ee:e:{for(s=o.key,c=r;null!==c;){if(c.key===s){switch(c.tag){case 7:if(o.type===ne){n(e,c.sibling),(r=i(c,o.props.children)).return=e,e=r;break e}break;default:if(c.elementType===o.type){n(e,c.sibling),(r=i(c,o.props)).ref=_o(e,c,o),r.return=e,e=r;break e}}n(e,c);break}t(e,c),c=c.sibling}o.type===ne?((r=Ml(o.props.children,e.mode,l,o.key)).return=e,e=r):((l=Sl(o.type,o.key,o.props,null,e.mode,l)).ref=_o(e,r,o),l.return=e,e=l)}return a(e);case te:e:{for(c=o.key;null!==r;){if(r.key===c){if(4===r.tag&&r.stateNode.containerInfo===o.containerInfo&&r.stateNode.implementation===o.implementation){n(e,r.sibling),(r=i(r,o.children||[])).return=e,e=r;break e}n(e,r);break}t(e,r),r=r.sibling}(r=Pl(o,e.mode,l)).return=e,e=r}return a(e)}if(\"string\"===typeof o||\"number\"===typeof o)return o=\"\"+o,null!==r&&6===r.tag?(n(e,r.sibling),(r=i(r,o)).return=e,e=r):(n(e,r),(r=Nl(o,e.mode,l)).return=e,e=r),a(e);if(xo(o))return m(e,r,o,l);if(me(o))return g(e,r,o,l);if(s&&ko(e,o),\"undefined\"===typeof o&&!c)switch(e.tag){case 1:case 0:throw e=e.type,Error(u(152,e.displayName||e.name||\"Component\"))}return n(e,r)}}var Eo=To(!0),Co=To(!1),So={},Mo={current:So},No={current:So},Po={current:So};function Ao(e){if(e===So)throw Error(u(174));return e}function Ro(e,t){switch(ci(Po,t),ci(No,e),ci(Mo,So),e=t.nodeType){case 9:case 11:t=(t=t.documentElement)?t.namespaceURI:Ue(null,\"\");break;default:t=Ue(t=(e=8===e?t.parentNode:t).namespaceURI||null,e=e.tagName)}li(Mo),ci(Mo,t)}function Do(){li(Mo),li(No),li(Po)}function Oo(e){Ao(Po.current);var t=Ao(Mo.current),n=Ue(t,e.type);t!==n&&(ci(No,e),ci(Mo,n))}function zo(e){No.current===e&&(li(Mo),li(No))}var Lo={current:0};function Uo(e){for(var t=e;null!==t;){if(13===t.tag){var n=t.memoizedState;if(null!==n&&(null===(n=n.dehydrated)||\"$?\"===n.data||\"$!\"===n.data))return t}else if(19===t.tag&&void 0!==t.memoizedProps.revealOrder){if(0!==(64&t.effectTag))return t}else if(null!==t.child){t.child.return=t,t=t.child;continue}if(t===e)break;for(;null===t.sibling;){if(null===t.return||t.return===e)return null;t=t.return}t.sibling.return=t.return,t=t.sibling}return null}function Fo(e,t){return{responder:e,props:t}}var Io=K.ReactCurrentDispatcher,jo=K.ReactCurrentBatchConfig,Ho=0,Vo=null,$o=null,Wo=null,Qo=!1;function qo(){throw Error(u(321))}function Bo(e,t){if(null===t)return!1;for(var n=0;n<t.length&&n<e.length;n++)if(!Ur(e[n],t[n]))return!1;return!0}function Yo(e,t,n,r,i,o){if(Ho=o,Vo=t,t.memoizedState=null,t.updateQueue=null,t.expirationTime=0,Io.current=null===e||null===e.memoizedState?vu:yu,e=n(r,i),t.expirationTime===Ho){o=0;do{if(t.expirationTime=0,!(25>o))throw Error(u(301));o+=1,Wo=$o=null,t.updateQueue=null,Io.current=bu,e=n(r,i)}while(t.expirationTime===Ho)}if(Io.current=gu,t=null!==$o&&null!==$o.next,Ho=0,Wo=$o=Vo=null,Qo=!1,t)throw Error(u(300));return e}function Xo(){var e={memoizedState:null,baseState:null,baseQueue:null,queue:null,next:null};return null===Wo?Vo.memoizedState=Wo=e:Wo=Wo.next=e,Wo}function Ko(){if(null===$o){var e=Vo.alternate;e=null!==e?e.memoizedState:null}else e=$o.next;var t=null===Wo?Vo.memoizedState:Wo.next;if(null!==t)Wo=t,$o=e;else{if(null===e)throw Error(u(310));e={memoizedState:($o=e).memoizedState,baseState:$o.baseState,baseQueue:$o.baseQueue,queue:$o.queue,next:null},null===Wo?Vo.memoizedState=Wo=e:Wo=Wo.next=e}return Wo}function Zo(e,t){return\"function\"===typeof t?t(e):t}function Jo(e){var t=Ko(),n=t.queue;if(null===n)throw Error(u(311));n.lastRenderedReducer=e;var r=$o,i=r.baseQueue,o=n.pending;if(null!==o){if(null!==i){var a=i.next;i.next=o.next,o.next=a}r.baseQueue=i=o,n.pending=null}if(null!==i){i=i.next,r=r.baseState;var l=a=o=null,c=i;do{var s=c.expirationTime;if(s<Ho){var f={expirationTime:c.expirationTime,suspenseConfig:c.suspenseConfig,action:c.action,eagerReducer:c.eagerReducer,eagerState:c.eagerState,next:null};null===l?(a=l=f,o=r):l=l.next=f,s>Vo.expirationTime&&(Vo.expirationTime=s,ul(s))}else null!==l&&(l=l.next={expirationTime:1073741823,suspenseConfig:c.suspenseConfig,action:c.action,eagerReducer:c.eagerReducer,eagerState:c.eagerState,next:null}),ol(s,c.suspenseConfig),r=c.eagerReducer===e?c.eagerState:e(r,c.action);c=c.next}while(null!==c&&c!==i);null===l?o=r:l.next=a,Ur(r,t.memoizedState)||(Pu=!0),t.memoizedState=r,t.baseState=o,t.baseQueue=l,n.lastRenderedState=r}return[t.memoizedState,n.dispatch]}function Go(e){var t=Ko(),n=t.queue;if(null===n)throw Error(u(311));n.lastRenderedReducer=e;var r=n.dispatch,i=n.pending,o=t.memoizedState;if(null!==i){n.pending=null;var a=i=i.next;do{o=e(o,a.action),a=a.next}while(a!==i);Ur(o,t.memoizedState)||(Pu=!0),t.memoizedState=o,null===t.baseQueue&&(t.baseState=o),n.lastRenderedState=o}return[o,r]}function eu(e){var t=Xo();return\"function\"===typeof e&&(e=e()),t.memoizedState=t.baseState=e,e=(e=t.queue={pending:null,dispatch:null,lastRenderedReducer:Zo,lastRenderedState:e}).dispatch=mu.bind(null,Vo,e),[t.memoizedState,e]}function tu(e,t,n,r){return e={tag:e,create:t,destroy:n,deps:r,next:null},null===(t=Vo.updateQueue)?(t={lastEffect:null},Vo.updateQueue=t,t.lastEffect=e.next=e):null===(n=t.lastEffect)?t.lastEffect=e.next=e:(r=n.next,n.next=e,e.next=r,t.lastEffect=e),e}function nu(){return Ko().memoizedState}function ru(e,t,n,r){var i=Xo();Vo.effectTag|=e,i.memoizedState=tu(1|t,n,void 0,void 0===r?null:r)}function iu(e,t,n,r){var i=Ko();r=void 0===r?null:r;var o=void 0;if(null!==$o){var u=$o.memoizedState;if(o=u.destroy,null!==r&&Bo(r,u.deps))return void tu(t,n,o,r)}Vo.effectTag|=e,i.memoizedState=tu(1|t,n,o,r)}function ou(e,t){return ru(516,4,e,t)}function uu(e,t){return iu(516,4,e,t)}function au(e,t){return iu(4,2,e,t)}function lu(e,t){return\"function\"===typeof t?(e=e(),t(e),function(){t(null)}):null!==t&&void 0!==t?(e=e(),t.current=e,function(){t.current=null}):void 0}function cu(e,t,n){return n=null!==n&&void 0!==n?n.concat([e]):null,iu(4,2,lu.bind(null,t,e),n)}function su(){}function fu(e,t){return Xo().memoizedState=[e,void 0===t?null:t],e}function du(e,t){var n=Ko();t=void 0===t?null:t;var r=n.memoizedState;return null!==r&&null!==t&&Bo(t,r[1])?r[0]:(n.memoizedState=[e,t],e)}function pu(e,t){var n=Ko();t=void 0===t?null:t;var r=n.memoizedState;return null!==r&&null!==t&&Bo(t,r[1])?r[0]:(e=e(),n.memoizedState=[e,t],e)}function hu(e,t,n){var r=ji();Vi(98>r?98:r,(function(){e(!0)})),Vi(97<r?97:r,(function(){var r=jo.suspense;jo.suspense=void 0===t?null:t;try{e(!1),n()}finally{jo.suspense=r}}))}function mu(e,t,n){var r=qa(),i=po.suspense;i={expirationTime:r=Ba(r,e,i),suspenseConfig:i,action:n,eagerReducer:null,eagerState:null,next:null};var o=t.pending;if(null===o?i.next=i:(i.next=o.next,o.next=i),t.pending=i,o=e.alternate,e===Vo||null!==o&&o===Vo)Qo=!0,i.expirationTime=Ho,Vo.expirationTime=Ho;else{if(0===e.expirationTime&&(null===o||0===o.expirationTime)&&null!==(o=t.lastRenderedReducer))try{var u=t.lastRenderedState,a=o(u,n);if(i.eagerReducer=o,i.eagerState=a,Ur(a,u))return}catch(l){}Ya(e,r)}}var gu={readContext:ro,useCallback:qo,useContext:qo,useEffect:qo,useImperativeHandle:qo,useLayoutEffect:qo,useMemo:qo,useReducer:qo,useRef:qo,useState:qo,useDebugValue:qo,useResponder:qo,useDeferredValue:qo,useTransition:qo},vu={readContext:ro,useCallback:fu,useContext:ro,useEffect:ou,useImperativeHandle:function(e,t,n){return n=null!==n&&void 0!==n?n.concat([e]):null,ru(4,2,lu.bind(null,t,e),n)},useLayoutEffect:function(e,t){return ru(4,2,e,t)},useMemo:function(e,t){var n=Xo();return t=void 0===t?null:t,e=e(),n.memoizedState=[e,t],e},useReducer:function(e,t,n){var r=Xo();return t=void 0!==n?n(t):t,r.memoizedState=r.baseState=t,e=(e=r.queue={pending:null,dispatch:null,lastRenderedReducer:e,lastRenderedState:t}).dispatch=mu.bind(null,Vo,e),[r.memoizedState,e]},useRef:function(e){return e={current:e},Xo().memoizedState=e},useState:eu,useDebugValue:su,useResponder:Fo,useDeferredValue:function(e,t){var n=eu(e),r=n[0],i=n[1];return ou((function(){var n=jo.suspense;jo.suspense=void 0===t?null:t;try{i(e)}finally{jo.suspense=n}}),[e,t]),r},useTransition:function(e){var t=eu(!1),n=t[0];return t=t[1],[fu(hu.bind(null,t,e),[t,e]),n]}},yu={readContext:ro,useCallback:du,useContext:ro,useEffect:uu,useImperativeHandle:cu,useLayoutEffect:au,useMemo:pu,useReducer:Jo,useRef:nu,useState:function(){return Jo(Zo)},useDebugValue:su,useResponder:Fo,useDeferredValue:function(e,t){var n=Jo(Zo),r=n[0],i=n[1];return uu((function(){var n=jo.suspense;jo.suspense=void 0===t?null:t;try{i(e)}finally{jo.suspense=n}}),[e,t]),r},useTransition:function(e){var t=Jo(Zo),n=t[0];return t=t[1],[du(hu.bind(null,t,e),[t,e]),n]}},bu={readContext:ro,useCallback:du,useContext:ro,useEffect:uu,useImperativeHandle:cu,useLayoutEffect:au,useMemo:pu,useReducer:Go,useRef:nu,useState:function(){return Go(Zo)},useDebugValue:su,useResponder:Fo,useDeferredValue:function(e,t){var n=Go(Zo),r=n[0],i=n[1];return uu((function(){var n=jo.suspense;jo.suspense=void 0===t?null:t;try{i(e)}finally{jo.suspense=n}}),[e,t]),r},useTransition:function(e){var t=Go(Zo),n=t[0];return t=t[1],[du(hu.bind(null,t,e),[t,e]),n]}},wu=null,xu=null,_u=!1;function ku(e,t){var n=Tl(5,null,null,0);n.elementType=\"DELETED\",n.type=\"DELETED\",n.stateNode=t,n.return=e,n.effectTag=8,null!==e.lastEffect?(e.lastEffect.nextEffect=n,e.lastEffect=n):e.firstEffect=e.lastEffect=n}function Tu(e,t){switch(e.tag){case 5:var n=e.type;return null!==(t=1!==t.nodeType||n.toLowerCase()!==t.nodeName.toLowerCase()?null:t)&&(e.stateNode=t,!0);case 6:return null!==(t=\"\"===e.pendingProps||3!==t.nodeType?null:t)&&(e.stateNode=t,!0);case 13:default:return!1}}function Eu(e){if(_u){var t=xu;if(t){var n=t;if(!Tu(e,t)){if(!(t=xn(n.nextSibling))||!Tu(e,t))return e.effectTag=-1025&e.effectTag|2,_u=!1,void(wu=e);ku(wu,n)}wu=e,xu=xn(t.firstChild)}else e.effectTag=-1025&e.effectTag|2,_u=!1,wu=e}}function Cu(e){for(e=e.return;null!==e&&5!==e.tag&&3!==e.tag&&13!==e.tag;)e=e.return;wu=e}function Su(e){if(e!==wu)return!1;if(!_u)return Cu(e),_u=!0,!1;var t=e.type;if(5!==e.tag||\"head\"!==t&&\"body\"!==t&&!yn(t,e.memoizedProps))for(t=xu;t;)ku(e,t),t=xn(t.nextSibling);if(Cu(e),13===e.tag){if(!(e=null!==(e=e.memoizedState)?e.dehydrated:null))throw Error(u(317));e:{for(e=e.nextSibling,t=0;e;){if(8===e.nodeType){var n=e.data;if(\"/$\"===n){if(0===t){xu=xn(e.nextSibling);break e}t--}else\"$\"!==n&&\"$!\"!==n&&\"$?\"!==n||t++}e=e.nextSibling}xu=null}}else xu=wu?xn(e.stateNode.nextSibling):null;return!0}function Mu(){xu=wu=null,_u=!1}var Nu=K.ReactCurrentOwner,Pu=!1;function Au(e,t,n,r){t.child=null===e?Co(t,null,n,r):Eo(t,e.child,n,r)}function Ru(e,t,n,r,i){n=n.render;var o=t.ref;return no(t,i),r=Yo(e,t,n,r,o,i),null===e||Pu?(t.effectTag|=1,Au(e,t,r,i),t.child):(t.updateQueue=e.updateQueue,t.effectTag&=-517,e.expirationTime<=i&&(e.expirationTime=0),Yu(e,t,i))}function Du(e,t,n,r,i,o){if(null===e){var u=n.type;return\"function\"!==typeof u||El(u)||void 0!==u.defaultProps||null!==n.compare||void 0!==n.defaultProps?((e=Sl(n.type,null,r,null,t.mode,o)).ref=t.ref,e.return=t,t.child=e):(t.tag=15,t.type=u,Ou(e,t,u,r,i,o))}return u=e.child,i<o&&(i=u.memoizedProps,(n=null!==(n=n.compare)?n:Ir)(i,r)&&e.ref===t.ref)?Yu(e,t,o):(t.effectTag|=1,(e=Cl(u,r)).ref=t.ref,e.return=t,t.child=e)}function Ou(e,t,n,r,i,o){return null!==e&&Ir(e.memoizedProps,r)&&e.ref===t.ref&&(Pu=!1,i<o)?(t.expirationTime=e.expirationTime,Yu(e,t,o)):Lu(e,t,n,r,o)}function zu(e,t){var n=t.ref;(null===e&&null!==n||null!==e&&e.ref!==n)&&(t.effectTag|=128)}function Lu(e,t,n,r,i){var o=mi(n)?pi:fi.current;return o=hi(t,o),no(t,i),n=Yo(e,t,n,r,o,i),null===e||Pu?(t.effectTag|=1,Au(e,t,n,i),t.child):(t.updateQueue=e.updateQueue,t.effectTag&=-517,e.expirationTime<=i&&(e.expirationTime=0),Yu(e,t,i))}function Uu(e,t,n,r,i){if(mi(n)){var o=!0;bi(t)}else o=!1;if(no(t,i),null===t.stateNode)null!==e&&(e.alternate=null,t.alternate=null,t.effectTag|=2),yo(t,n,r),wo(t,n,r,i),r=!0;else if(null===e){var u=t.stateNode,a=t.memoizedProps;u.props=a;var l=u.context,c=n.contextType;\"object\"===typeof c&&null!==c?c=ro(c):c=hi(t,c=mi(n)?pi:fi.current);var s=n.getDerivedStateFromProps,f=\"function\"===typeof s||\"function\"===typeof u.getSnapshotBeforeUpdate;f||\"function\"!==typeof u.UNSAFE_componentWillReceiveProps&&\"function\"!==typeof u.componentWillReceiveProps||(a!==r||l!==c)&&bo(t,u,r,c),io=!1;var d=t.memoizedState;u.state=d,so(t,r,u,i),l=t.memoizedState,a!==r||d!==l||di.current||io?(\"function\"===typeof s&&(mo(t,n,s,r),l=t.memoizedState),(a=io||vo(t,n,a,r,d,l,c))?(f||\"function\"!==typeof u.UNSAFE_componentWillMount&&\"function\"!==typeof u.componentWillMount||(\"function\"===typeof u.componentWillMount&&u.componentWillMount(),\"function\"===typeof u.UNSAFE_componentWillMount&&u.UNSAFE_componentWillMount()),\"function\"===typeof u.componentDidMount&&(t.effectTag|=4)):(\"function\"===typeof u.componentDidMount&&(t.effectTag|=4),t.memoizedProps=r,t.memoizedState=l),u.props=r,u.state=l,u.context=c,r=a):(\"function\"===typeof u.componentDidMount&&(t.effectTag|=4),r=!1)}else u=t.stateNode,uo(e,t),a=t.memoizedProps,u.props=t.type===t.elementType?a:Yi(t.type,a),l=u.context,\"object\"===typeof(c=n.contextType)&&null!==c?c=ro(c):c=hi(t,c=mi(n)?pi:fi.current),(f=\"function\"===typeof(s=n.getDerivedStateFromProps)||\"function\"===typeof u.getSnapshotBeforeUpdate)||\"function\"!==typeof u.UNSAFE_componentWillReceiveProps&&\"function\"!==typeof u.componentWillReceiveProps||(a!==r||l!==c)&&bo(t,u,r,c),io=!1,l=t.memoizedState,u.state=l,so(t,r,u,i),d=t.memoizedState,a!==r||l!==d||di.current||io?(\"function\"===typeof s&&(mo(t,n,s,r),d=t.memoizedState),(s=io||vo(t,n,a,r,l,d,c))?(f||\"function\"!==typeof u.UNSAFE_componentWillUpdate&&\"function\"!==typeof u.componentWillUpdate||(\"function\"===typeof u.componentWillUpdate&&u.componentWillUpdate(r,d,c),\"function\"===typeof u.UNSAFE_componentWillUpdate&&u.UNSAFE_componentWillUpdate(r,d,c)),\"function\"===typeof u.componentDidUpdate&&(t.effectTag|=4),\"function\"===typeof u.getSnapshotBeforeUpdate&&(t.effectTag|=256)):(\"function\"!==typeof u.componentDidUpdate||a===e.memoizedProps&&l===e.memoizedState||(t.effectTag|=4),\"function\"!==typeof u.getSnapshotBeforeUpdate||a===e.memoizedProps&&l===e.memoizedState||(t.effectTag|=256),t.memoizedProps=r,t.memoizedState=d),u.props=r,u.state=d,u.context=c,r=s):(\"function\"!==typeof u.componentDidUpdate||a===e.memoizedProps&&l===e.memoizedState||(t.effectTag|=4),\"function\"!==typeof u.getSnapshotBeforeUpdate||a===e.memoizedProps&&l===e.memoizedState||(t.effectTag|=256),r=!1);return Fu(e,t,n,r,o,i)}function Fu(e,t,n,r,i,o){zu(e,t);var u=0!==(64&t.effectTag);if(!r&&!u)return i&&wi(t,n,!1),Yu(e,t,o);r=t.stateNode,Nu.current=t;var a=u&&\"function\"!==typeof n.getDerivedStateFromError?null:r.render();return t.effectTag|=1,null!==e&&u?(t.child=Eo(t,e.child,null,o),t.child=Eo(t,null,a,o)):Au(e,t,a,o),t.memoizedState=r.state,i&&wi(t,n,!0),t.child}function Iu(e){var t=e.stateNode;t.pendingContext?vi(0,t.pendingContext,t.pendingContext!==t.context):t.context&&vi(0,t.context,!1),Ro(e,t.containerInfo)}var ju,Hu,Vu,$u={dehydrated:null,retryTime:0};function Wu(e,t,n){var r,i=t.mode,o=t.pendingProps,u=Lo.current,a=!1;if((r=0!==(64&t.effectTag))||(r=0!==(2&u)&&(null===e||null!==e.memoizedState)),r?(a=!0,t.effectTag&=-65):null!==e&&null===e.memoizedState||void 0===o.fallback||!0===o.unstable_avoidThisFallback||(u|=1),ci(Lo,1&u),null===e){if(void 0!==o.fallback&&Eu(t),a){if(a=o.fallback,(o=Ml(null,i,0,null)).return=t,0===(2&t.mode))for(e=null!==t.memoizedState?t.child.child:t.child,o.child=e;null!==e;)e.return=o,e=e.sibling;return(n=Ml(a,i,n,null)).return=t,o.sibling=n,t.memoizedState=$u,t.child=o,n}return i=o.children,t.memoizedState=null,t.child=Co(t,null,i,n)}if(null!==e.memoizedState){if(i=(e=e.child).sibling,a){if(o=o.fallback,(n=Cl(e,e.pendingProps)).return=t,0===(2&t.mode)&&(a=null!==t.memoizedState?t.child.child:t.child)!==e.child)for(n.child=a;null!==a;)a.return=n,a=a.sibling;return(i=Cl(i,o)).return=t,n.sibling=i,n.childExpirationTime=0,t.memoizedState=$u,t.child=n,i}return n=Eo(t,e.child,o.children,n),t.memoizedState=null,t.child=n}if(e=e.child,a){if(a=o.fallback,(o=Ml(null,i,0,null)).return=t,o.child=e,null!==e&&(e.return=o),0===(2&t.mode))for(e=null!==t.memoizedState?t.child.child:t.child,o.child=e;null!==e;)e.return=o,e=e.sibling;return(n=Ml(a,i,n,null)).return=t,o.sibling=n,n.effectTag|=2,o.childExpirationTime=0,t.memoizedState=$u,t.child=o,n}return t.memoizedState=null,t.child=Eo(t,e,o.children,n)}function Qu(e,t){e.expirationTime<t&&(e.expirationTime=t);var n=e.alternate;null!==n&&n.expirationTime<t&&(n.expirationTime=t),to(e.return,t)}function qu(e,t,n,r,i,o){var u=e.memoizedState;null===u?e.memoizedState={isBackwards:t,rendering:null,renderingStartTime:0,last:r,tail:n,tailExpiration:0,tailMode:i,lastEffect:o}:(u.isBackwards=t,u.rendering=null,u.renderingStartTime=0,u.last=r,u.tail=n,u.tailExpiration=0,u.tailMode=i,u.lastEffect=o)}function Bu(e,t,n){var r=t.pendingProps,i=r.revealOrder,o=r.tail;if(Au(e,t,r.children,n),0!==(2&(r=Lo.current)))r=1&r|2,t.effectTag|=64;else{if(null!==e&&0!==(64&e.effectTag))e:for(e=t.child;null!==e;){if(13===e.tag)null!==e.memoizedState&&Qu(e,n);else if(19===e.tag)Qu(e,n);else if(null!==e.child){e.child.return=e,e=e.child;continue}if(e===t)break e;for(;null===e.sibling;){if(null===e.return||e.return===t)break e;e=e.return}e.sibling.return=e.return,e=e.sibling}r&=1}if(ci(Lo,r),0===(2&t.mode))t.memoizedState=null;else switch(i){case\"forwards\":for(n=t.child,i=null;null!==n;)null!==(e=n.alternate)&&null===Uo(e)&&(i=n),n=n.sibling;null===(n=i)?(i=t.child,t.child=null):(i=n.sibling,n.sibling=null),qu(t,!1,i,n,o,t.lastEffect);break;case\"backwards\":for(n=null,i=t.child,t.child=null;null!==i;){if(null!==(e=i.alternate)&&null===Uo(e)){t.child=i;break}e=i.sibling,i.sibling=n,n=i,i=e}qu(t,!0,n,null,o,t.lastEffect);break;case\"together\":qu(t,!1,null,null,void 0,t.lastEffect);break;default:t.memoizedState=null}return t.child}function Yu(e,t,n){null!==e&&(t.dependencies=e.dependencies);var r=t.expirationTime;if(0!==r&&ul(r),t.childExpirationTime<n)return null;if(null!==e&&t.child!==e.child)throw Error(u(153));if(null!==t.child){for(n=Cl(e=t.child,e.pendingProps),t.child=n,n.return=t;null!==e.sibling;)e=e.sibling,(n=n.sibling=Cl(e,e.pendingProps)).return=t;n.sibling=null}return t.child}function Xu(e,t){switch(e.tailMode){case\"hidden\":t=e.tail;for(var n=null;null!==t;)null!==t.alternate&&(n=t),t=t.sibling;null===n?e.tail=null:n.sibling=null;break;case\"collapsed\":n=e.tail;for(var r=null;null!==n;)null!==n.alternate&&(r=n),n=n.sibling;null===r?t||null===e.tail?e.tail=null:e.tail.sibling=null:r.sibling=null}}function Ku(e,t,n){var r=t.pendingProps;switch(t.tag){case 2:case 16:case 15:case 0:case 11:case 7:case 8:case 12:case 9:case 14:return null;case 1:return mi(t.type)&&gi(),null;case 3:return Do(),li(di),li(fi),(n=t.stateNode).pendingContext&&(n.context=n.pendingContext,n.pendingContext=null),null!==e&&null!==e.child||!Su(t)||(t.effectTag|=4),null;case 5:zo(t),n=Ao(Po.current);var o=t.type;if(null!==e&&null!=t.stateNode)Hu(e,t,o,r,n),e.ref!==t.ref&&(t.effectTag|=128);else{if(!r){if(null===t.stateNode)throw Error(u(166));return null}if(e=Ao(Mo.current),Su(t)){r=t.stateNode,o=t.type;var a=t.memoizedProps;switch(r[Tn]=t,r[En]=a,o){case\"iframe\":case\"object\":case\"embed\":Bt(\"load\",r);break;case\"video\":case\"audio\":for(e=0;e<Ke.length;e++)Bt(Ke[e],r);break;case\"source\":Bt(\"error\",r);break;case\"img\":case\"image\":case\"link\":Bt(\"error\",r),Bt(\"load\",r);break;case\"form\":Bt(\"reset\",r),Bt(\"submit\",r);break;case\"details\":Bt(\"toggle\",r);break;case\"input\":ke(r,a),Bt(\"invalid\",r),ln(n,\"onChange\");break;case\"select\":r._wrapperState={wasMultiple:!!a.multiple},Bt(\"invalid\",r),ln(n,\"onChange\");break;case\"textarea\":Ae(r,a),Bt(\"invalid\",r),ln(n,\"onChange\")}for(var l in on(o,a),e=null,a)if(a.hasOwnProperty(l)){var c=a[l];\"children\"===l?\"string\"===typeof c?r.textContent!==c&&(e=[\"children\",c]):\"number\"===typeof c&&r.textContent!==\"\"+c&&(e=[\"children\",\"\"+c]):T.hasOwnProperty(l)&&null!=c&&ln(n,l)}switch(o){case\"input\":we(r),Ce(r,a,!0);break;case\"textarea\":we(r),De(r);break;case\"select\":case\"option\":break;default:\"function\"===typeof a.onClick&&(r.onclick=cn)}n=e,t.updateQueue=n,null!==n&&(t.effectTag|=4)}else{switch(l=9===n.nodeType?n:n.ownerDocument,e===an&&(e=Le(o)),e===an?\"script\"===o?((e=l.createElement(\"div\")).innerHTML=\"<script><\\/script>\",e=e.removeChild(e.firstChild)):\"string\"===typeof r.is?e=l.createElement(o,{is:r.is}):(e=l.createElement(o),\"select\"===o&&(l=e,r.multiple?l.multiple=!0:r.size&&(l.size=r.size))):e=l.createElementNS(e,o),e[Tn]=t,e[En]=r,ju(e,t),t.stateNode=e,l=un(o,r),o){case\"iframe\":case\"object\":case\"embed\":Bt(\"load\",e),c=r;break;case\"video\":case\"audio\":for(c=0;c<Ke.length;c++)Bt(Ke[c],e);c=r;break;case\"source\":Bt(\"error\",e),c=r;break;case\"img\":case\"image\":case\"link\":Bt(\"error\",e),Bt(\"load\",e),c=r;break;case\"form\":Bt(\"reset\",e),Bt(\"submit\",e),c=r;break;case\"details\":Bt(\"toggle\",e),c=r;break;case\"input\":ke(e,r),c=_e(e,r),Bt(\"invalid\",e),ln(n,\"onChange\");break;case\"option\":c=Me(e,r);break;case\"select\":e._wrapperState={wasMultiple:!!r.multiple},c=i({},r,{value:void 0}),Bt(\"invalid\",e),ln(n,\"onChange\");break;case\"textarea\":Ae(e,r),c=Pe(e,r),Bt(\"invalid\",e),ln(n,\"onChange\");break;default:c=r}on(o,c);var s=c;for(a in s)if(s.hasOwnProperty(a)){var f=s[a];\"style\"===a?nn(e,f):\"dangerouslySetInnerHTML\"===a?null!=(f=f?f.__html:void 0)&&Ie(e,f):\"children\"===a?\"string\"===typeof f?(\"textarea\"!==o||\"\"!==f)&&je(e,f):\"number\"===typeof f&&je(e,\"\"+f):\"suppressContentEditableWarning\"!==a&&\"suppressHydrationWarning\"!==a&&\"autoFocus\"!==a&&(T.hasOwnProperty(a)?null!=f&&ln(n,a):null!=f&&Z(e,a,f,l))}switch(o){case\"input\":we(e),Ce(e,r,!1);break;case\"textarea\":we(e),De(e);break;case\"option\":null!=r.value&&e.setAttribute(\"value\",\"\"+ye(r.value));break;case\"select\":e.multiple=!!r.multiple,null!=(n=r.value)?Ne(e,!!r.multiple,n,!1):null!=r.defaultValue&&Ne(e,!!r.multiple,r.defaultValue,!0);break;default:\"function\"===typeof c.onClick&&(e.onclick=cn)}vn(o,r)&&(t.effectTag|=4)}null!==t.ref&&(t.effectTag|=128)}return null;case 6:if(e&&null!=t.stateNode)Vu(0,t,e.memoizedProps,r);else{if(\"string\"!==typeof r&&null===t.stateNode)throw Error(u(166));n=Ao(Po.current),Ao(Mo.current),Su(t)?(n=t.stateNode,r=t.memoizedProps,n[Tn]=t,n.nodeValue!==r&&(t.effectTag|=4)):((n=(9===n.nodeType?n:n.ownerDocument).createTextNode(r))[Tn]=t,t.stateNode=n)}return null;case 13:return li(Lo),r=t.memoizedState,0!==(64&t.effectTag)?(t.expirationTime=n,t):(n=null!==r,r=!1,null===e?void 0!==t.memoizedProps.fallback&&Su(t):(r=null!==(o=e.memoizedState),n||null===o||null!==(o=e.child.sibling)&&(null!==(a=t.firstEffect)?(t.firstEffect=o,o.nextEffect=a):(t.firstEffect=t.lastEffect=o,o.nextEffect=null),o.effectTag=8)),n&&!r&&0!==(2&t.mode)&&(null===e&&!0!==t.memoizedProps.unstable_avoidThisFallback||0!==(1&Lo.current)?Sa===wa&&(Sa=xa):(Sa!==wa&&Sa!==xa||(Sa=_a),0!==Ra&&null!==Ta&&(Dl(Ta,Ca),Ol(Ta,Ra)))),(n||r)&&(t.effectTag|=4),null);case 4:return Do(),null;case 10:return eo(t),null;case 17:return mi(t.type)&&gi(),null;case 19:if(li(Lo),null===(r=t.memoizedState))return null;if(o=0!==(64&t.effectTag),null===(a=r.rendering)){if(o)Xu(r,!1);else if(Sa!==wa||null!==e&&0!==(64&e.effectTag))for(a=t.child;null!==a;){if(null!==(e=Uo(a))){for(t.effectTag|=64,Xu(r,!1),null!==(o=e.updateQueue)&&(t.updateQueue=o,t.effectTag|=4),null===r.lastEffect&&(t.firstEffect=null),t.lastEffect=r.lastEffect,r=t.child;null!==r;)a=n,(o=r).effectTag&=2,o.nextEffect=null,o.firstEffect=null,o.lastEffect=null,null===(e=o.alternate)?(o.childExpirationTime=0,o.expirationTime=a,o.child=null,o.memoizedProps=null,o.memoizedState=null,o.updateQueue=null,o.dependencies=null):(o.childExpirationTime=e.childExpirationTime,o.expirationTime=e.expirationTime,o.child=e.child,o.memoizedProps=e.memoizedProps,o.memoizedState=e.memoizedState,o.updateQueue=e.updateQueue,a=e.dependencies,o.dependencies=null===a?null:{expirationTime:a.expirationTime,firstContext:a.firstContext,responders:a.responders}),r=r.sibling;return ci(Lo,1&Lo.current|2),t.child}a=a.sibling}}else{if(!o)if(null!==(e=Uo(a))){if(t.effectTag|=64,o=!0,null!==(n=e.updateQueue)&&(t.updateQueue=n,t.effectTag|=4),Xu(r,!0),null===r.tail&&\"hidden\"===r.tailMode&&!a.alternate)return null!==(t=t.lastEffect=r.lastEffect)&&(t.nextEffect=null),null}else 2*Ii()-r.renderingStartTime>r.tailExpiration&&1<n&&(t.effectTag|=64,o=!0,Xu(r,!1),t.expirationTime=t.childExpirationTime=n-1);r.isBackwards?(a.sibling=t.child,t.child=a):(null!==(n=r.last)?n.sibling=a:t.child=a,r.last=a)}return null!==r.tail?(0===r.tailExpiration&&(r.tailExpiration=Ii()+500),n=r.tail,r.rendering=n,r.tail=n.sibling,r.lastEffect=t.lastEffect,r.renderingStartTime=Ii(),n.sibling=null,t=Lo.current,ci(Lo,o?1&t|2:1&t),n):null}throw Error(u(156,t.tag))}function Zu(e){switch(e.tag){case 1:mi(e.type)&&gi();var t=e.effectTag;return 4096&t?(e.effectTag=-4097&t|64,e):null;case 3:if(Do(),li(di),li(fi),0!==(64&(t=e.effectTag)))throw Error(u(285));return e.effectTag=-4097&t|64,e;case 5:return zo(e),null;case 13:return li(Lo),4096&(t=e.effectTag)?(e.effectTag=-4097&t|64,e):null;case 19:return li(Lo),null;case 4:return Do(),null;case 10:return eo(e),null;default:return null}}function Ju(e,t){return{value:e,source:t,stack:ve(t)}}ju=function(e,t){for(var n=t.child;null!==n;){if(5===n.tag||6===n.tag)e.appendChild(n.stateNode);else if(4!==n.tag&&null!==n.child){n.child.return=n,n=n.child;continue}if(n===t)break;for(;null===n.sibling;){if(null===n.return||n.return===t)return;n=n.return}n.sibling.return=n.return,n=n.sibling}},Hu=function(e,t,n,r,o){var u=e.memoizedProps;if(u!==r){var a,l,c=t.stateNode;switch(Ao(Mo.current),e=null,n){case\"input\":u=_e(c,u),r=_e(c,r),e=[];break;case\"option\":u=Me(c,u),r=Me(c,r),e=[];break;case\"select\":u=i({},u,{value:void 0}),r=i({},r,{value:void 0}),e=[];break;case\"textarea\":u=Pe(c,u),r=Pe(c,r),e=[];break;default:\"function\"!==typeof u.onClick&&\"function\"===typeof r.onClick&&(c.onclick=cn)}for(a in on(n,r),n=null,u)if(!r.hasOwnProperty(a)&&u.hasOwnProperty(a)&&null!=u[a])if(\"style\"===a)for(l in c=u[a])c.hasOwnProperty(l)&&(n||(n={}),n[l]=\"\");else\"dangerouslySetInnerHTML\"!==a&&\"children\"!==a&&\"suppressContentEditableWarning\"!==a&&\"suppressHydrationWarning\"!==a&&\"autoFocus\"!==a&&(T.hasOwnProperty(a)?e||(e=[]):(e=e||[]).push(a,null));for(a in r){var s=r[a];if(c=null!=u?u[a]:void 0,r.hasOwnProperty(a)&&s!==c&&(null!=s||null!=c))if(\"style\"===a)if(c){for(l in c)!c.hasOwnProperty(l)||s&&s.hasOwnProperty(l)||(n||(n={}),n[l]=\"\");for(l in s)s.hasOwnProperty(l)&&c[l]!==s[l]&&(n||(n={}),n[l]=s[l])}else n||(e||(e=[]),e.push(a,n)),n=s;else\"dangerouslySetInnerHTML\"===a?(s=s?s.__html:void 0,c=c?c.__html:void 0,null!=s&&c!==s&&(e=e||[]).push(a,s)):\"children\"===a?c===s||\"string\"!==typeof s&&\"number\"!==typeof s||(e=e||[]).push(a,\"\"+s):\"suppressContentEditableWarning\"!==a&&\"suppressHydrationWarning\"!==a&&(T.hasOwnProperty(a)?(null!=s&&ln(o,a),e||c===s||(e=[])):(e=e||[]).push(a,s))}n&&(e=e||[]).push(\"style\",n),o=e,(t.updateQueue=o)&&(t.effectTag|=4)}},Vu=function(e,t,n,r){n!==r&&(t.effectTag|=4)};var Gu=\"function\"===typeof WeakSet?WeakSet:Set;function ea(e,t){var n=t.source,r=t.stack;null===r&&null!==n&&(r=ve(n)),null!==n&&ge(n.type),t=t.value,null!==e&&1===e.tag&&ge(e.type);try{console.error(t)}catch(i){setTimeout((function(){throw i}))}}function ta(e){var t=e.ref;if(null!==t)if(\"function\"===typeof t)try{t(null)}catch(n){yl(e,n)}else t.current=null}function na(e,t){switch(t.tag){case 0:case 11:case 15:case 22:return;case 1:if(256&t.effectTag&&null!==e){var n=e.memoizedProps,r=e.memoizedState;t=(e=t.stateNode).getSnapshotBeforeUpdate(t.elementType===t.type?n:Yi(t.type,n),r),e.__reactInternalSnapshotBeforeUpdate=t}return;case 3:case 5:case 6:case 4:case 17:return}throw Error(u(163))}function ra(e,t){if(null!==(t=null!==(t=t.updateQueue)?t.lastEffect:null)){var n=t=t.next;do{if((n.tag&e)===e){var r=n.destroy;n.destroy=void 0,void 0!==r&&r()}n=n.next}while(n!==t)}}function ia(e,t){if(null!==(t=null!==(t=t.updateQueue)?t.lastEffect:null)){var n=t=t.next;do{if((n.tag&e)===e){var r=n.create;n.destroy=r()}n=n.next}while(n!==t)}}function oa(e,t,n){switch(n.tag){case 0:case 11:case 15:case 22:return void ia(3,n);case 1:if(e=n.stateNode,4&n.effectTag)if(null===t)e.componentDidMount();else{var r=n.elementType===n.type?t.memoizedProps:Yi(n.type,t.memoizedProps);e.componentDidUpdate(r,t.memoizedState,e.__reactInternalSnapshotBeforeUpdate)}return void(null!==(t=n.updateQueue)&&fo(n,t,e));case 3:if(null!==(t=n.updateQueue)){if(e=null,null!==n.child)switch(n.child.tag){case 5:e=n.child.stateNode;break;case 1:e=n.child.stateNode}fo(n,t,e)}return;case 5:return e=n.stateNode,void(null===t&&4&n.effectTag&&vn(n.type,n.memoizedProps)&&e.focus());case 6:case 4:case 12:return;case 13:return void(null===n.memoizedState&&(n=n.alternate,null!==n&&(n=n.memoizedState,null!==n&&(n=n.dehydrated,null!==n&&Lt(n)))));case 19:case 17:case 20:case 21:return}throw Error(u(163))}function ua(e,t,n){switch(\"function\"===typeof _l&&_l(t),t.tag){case 0:case 11:case 14:case 15:case 22:if(null!==(e=t.updateQueue)&&null!==(e=e.lastEffect)){var r=e.next;Vi(97<n?97:n,(function(){var e=r;do{var n=e.destroy;if(void 0!==n){var i=t;try{n()}catch(o){yl(i,o)}}e=e.next}while(e!==r)}))}break;case 1:ta(t),\"function\"===typeof(n=t.stateNode).componentWillUnmount&&function(e,t){try{t.props=e.memoizedProps,t.state=e.memoizedState,t.componentWillUnmount()}catch(n){yl(e,n)}}(t,n);break;case 5:ta(t);break;case 4:sa(e,t,n)}}function aa(e){var t=e.alternate;e.return=null,e.child=null,e.memoizedState=null,e.updateQueue=null,e.dependencies=null,e.alternate=null,e.firstEffect=null,e.lastEffect=null,e.pendingProps=null,e.memoizedProps=null,e.stateNode=null,null!==t&&aa(t)}function la(e){return 5===e.tag||3===e.tag||4===e.tag}function ca(e){e:{for(var t=e.return;null!==t;){if(la(t)){var n=t;break e}t=t.return}throw Error(u(160))}switch(t=n.stateNode,n.tag){case 5:var r=!1;break;case 3:case 4:t=t.containerInfo,r=!0;break;default:throw Error(u(161))}16&n.effectTag&&(je(t,\"\"),n.effectTag&=-17);e:t:for(n=e;;){for(;null===n.sibling;){if(null===n.return||la(n.return)){n=null;break e}n=n.return}for(n.sibling.return=n.return,n=n.sibling;5!==n.tag&&6!==n.tag&&18!==n.tag;){if(2&n.effectTag)continue t;if(null===n.child||4===n.tag)continue t;n.child.return=n,n=n.child}if(!(2&n.effectTag)){n=n.stateNode;break e}}r?function e(t,n,r){var i=t.tag,o=5===i||6===i;if(o)t=o?t.stateNode:t.stateNode.instance,n?8===r.nodeType?r.parentNode.insertBefore(t,n):r.insertBefore(t,n):(8===r.nodeType?(n=r.parentNode).insertBefore(t,r):(n=r).appendChild(t),null!==(r=r._reactRootContainer)&&void 0!==r||null!==n.onclick||(n.onclick=cn));else if(4!==i&&null!==(t=t.child))for(e(t,n,r),t=t.sibling;null!==t;)e(t,n,r),t=t.sibling}(e,n,t):function e(t,n,r){var i=t.tag,o=5===i||6===i;if(o)t=o?t.stateNode:t.stateNode.instance,n?r.insertBefore(t,n):r.appendChild(t);else if(4!==i&&null!==(t=t.child))for(e(t,n,r),t=t.sibling;null!==t;)e(t,n,r),t=t.sibling}(e,n,t)}function sa(e,t,n){for(var r,i,o=t,a=!1;;){if(!a){a=o.return;e:for(;;){if(null===a)throw Error(u(160));switch(r=a.stateNode,a.tag){case 5:i=!1;break e;case 3:case 4:r=r.containerInfo,i=!0;break e}a=a.return}a=!0}if(5===o.tag||6===o.tag){e:for(var l=e,c=o,s=n,f=c;;)if(ua(l,f,s),null!==f.child&&4!==f.tag)f.child.return=f,f=f.child;else{if(f===c)break e;for(;null===f.sibling;){if(null===f.return||f.return===c)break e;f=f.return}f.sibling.return=f.return,f=f.sibling}i?(l=r,c=o.stateNode,8===l.nodeType?l.parentNode.removeChild(c):l.removeChild(c)):r.removeChild(o.stateNode)}else if(4===o.tag){if(null!==o.child){r=o.stateNode.containerInfo,i=!0,o.child.return=o,o=o.child;continue}}else if(ua(e,o,n),null!==o.child){o.child.return=o,o=o.child;continue}if(o===t)break;for(;null===o.sibling;){if(null===o.return||o.return===t)return;4===(o=o.return).tag&&(a=!1)}o.sibling.return=o.return,o=o.sibling}}function fa(e,t){switch(t.tag){case 0:case 11:case 14:case 15:case 22:return void ra(3,t);case 1:return;case 5:var n=t.stateNode;if(null!=n){var r=t.memoizedProps,i=null!==e?e.memoizedProps:r;e=t.type;var o=t.updateQueue;if(t.updateQueue=null,null!==o){for(n[En]=r,\"input\"===e&&\"radio\"===r.type&&null!=r.name&&Te(n,r),un(e,i),t=un(e,r),i=0;i<o.length;i+=2){var a=o[i],l=o[i+1];\"style\"===a?nn(n,l):\"dangerouslySetInnerHTML\"===a?Ie(n,l):\"children\"===a?je(n,l):Z(n,a,l,t)}switch(e){case\"input\":Ee(n,r);break;case\"textarea\":Re(n,r);break;case\"select\":t=n._wrapperState.wasMultiple,n._wrapperState.wasMultiple=!!r.multiple,null!=(e=r.value)?Ne(n,!!r.multiple,e,!1):t!==!!r.multiple&&(null!=r.defaultValue?Ne(n,!!r.multiple,r.defaultValue,!0):Ne(n,!!r.multiple,r.multiple?[]:\"\",!1))}}}return;case 6:if(null===t.stateNode)throw Error(u(162));return void(t.stateNode.nodeValue=t.memoizedProps);case 3:return void((t=t.stateNode).hydrate&&(t.hydrate=!1,Lt(t.containerInfo)));case 12:return;case 13:if(n=t,null===t.memoizedState?r=!1:(r=!0,n=t.child,Oa=Ii()),null!==n)e:for(e=n;;){if(5===e.tag)o=e.stateNode,r?\"function\"===typeof(o=o.style).setProperty?o.setProperty(\"display\",\"none\",\"important\"):o.display=\"none\":(o=e.stateNode,i=void 0!==(i=e.memoizedProps.style)&&null!==i&&i.hasOwnProperty(\"display\")?i.display:null,o.style.display=tn(\"display\",i));else if(6===e.tag)e.stateNode.nodeValue=r?\"\":e.memoizedProps;else{if(13===e.tag&&null!==e.memoizedState&&null===e.memoizedState.dehydrated){(o=e.child.sibling).return=e,e=o;continue}if(null!==e.child){e.child.return=e,e=e.child;continue}}if(e===n)break;for(;null===e.sibling;){if(null===e.return||e.return===n)break e;e=e.return}e.sibling.return=e.return,e=e.sibling}return void da(t);case 19:return void da(t);case 17:return}throw Error(u(163))}function da(e){var t=e.updateQueue;if(null!==t){e.updateQueue=null;var n=e.stateNode;null===n&&(n=e.stateNode=new Gu),t.forEach((function(t){var r=wl.bind(null,e,t);n.has(t)||(n.add(t),t.then(r,r))}))}}var pa=\"function\"===typeof WeakMap?WeakMap:Map;function ha(e,t,n){(n=ao(n,null)).tag=3,n.payload={element:null};var r=t.value;return n.callback=function(){La||(La=!0,Ua=r),ea(e,t)},n}function ma(e,t,n){(n=ao(n,null)).tag=3;var r=e.type.getDerivedStateFromError;if(\"function\"===typeof r){var i=t.value;n.payload=function(){return ea(e,t),r(i)}}var o=e.stateNode;return null!==o&&\"function\"===typeof o.componentDidCatch&&(n.callback=function(){\"function\"!==typeof r&&(null===Fa?Fa=new Set([this]):Fa.add(this),ea(e,t));var n=t.stack;this.componentDidCatch(t.value,{componentStack:null!==n?n:\"\"})}),n}var ga,va=Math.ceil,ya=K.ReactCurrentDispatcher,ba=K.ReactCurrentOwner,wa=0,xa=3,_a=4,ka=0,Ta=null,Ea=null,Ca=0,Sa=wa,Ma=null,Na=1073741823,Pa=1073741823,Aa=null,Ra=0,Da=!1,Oa=0,za=null,La=!1,Ua=null,Fa=null,Ia=!1,ja=null,Ha=90,Va=null,$a=0,Wa=null,Qa=0;function qa(){return 0!==(48&ka)?1073741821-(Ii()/10|0):0!==Qa?Qa:Qa=1073741821-(Ii()/10|0)}function Ba(e,t,n){if(0===(2&(t=t.mode)))return 1073741823;var r=ji();if(0===(4&t))return 99===r?1073741823:1073741822;if(0!==(16&ka))return Ca;if(null!==n)e=Bi(e,0|n.timeoutMs||5e3,250);else switch(r){case 99:e=1073741823;break;case 98:e=Bi(e,150,100);break;case 97:case 96:e=Bi(e,5e3,250);break;case 95:e=2;break;default:throw Error(u(326))}return null!==Ta&&e===Ca&&--e,e}function Ya(e,t){if(50<$a)throw $a=0,Wa=null,Error(u(185));if(null!==(e=Xa(e,t))){var n=ji();1073741823===t?0!==(8&ka)&&0===(48&ka)?Ga(e):(Za(e),0===ka&&Qi()):Za(e),0===(4&ka)||98!==n&&99!==n||(null===Va?Va=new Map([[e,t]]):(void 0===(n=Va.get(e))||n>t)&&Va.set(e,t))}}function Xa(e,t){e.expirationTime<t&&(e.expirationTime=t);var n=e.alternate;null!==n&&n.expirationTime<t&&(n.expirationTime=t);var r=e.return,i=null;if(null===r&&3===e.tag)i=e.stateNode;else for(;null!==r;){if(n=r.alternate,r.childExpirationTime<t&&(r.childExpirationTime=t),null!==n&&n.childExpirationTime<t&&(n.childExpirationTime=t),null===r.return&&3===r.tag){i=r.stateNode;break}r=r.return}return null!==i&&(Ta===i&&(ul(t),Sa===_a&&Dl(i,Ca)),Ol(i,t)),i}function Ka(e){var t=e.lastExpiredTime;if(0!==t)return t;if(!Rl(e,t=e.firstPendingTime))return t;var n=e.lastPingedTime;return 2>=(e=n>(e=e.nextKnownPendingLevel)?n:e)&&t!==e?0:e}function Za(e){if(0!==e.lastExpiredTime)e.callbackExpirationTime=1073741823,e.callbackPriority=99,e.callbackNode=Wi(Ga.bind(null,e));else{var t=Ka(e),n=e.callbackNode;if(0===t)null!==n&&(e.callbackNode=null,e.callbackExpirationTime=0,e.callbackPriority=90);else{var r=qa();if(1073741823===t?r=99:1===t||2===t?r=95:r=0>=(r=10*(1073741821-t)-10*(1073741821-r))?99:250>=r?98:5250>=r?97:95,null!==n){var i=e.callbackPriority;if(e.callbackExpirationTime===t&&i>=r)return;n!==Ri&&ki(n)}e.callbackExpirationTime=t,e.callbackPriority=r,t=1073741823===t?Wi(Ga.bind(null,e)):$i(r,Ja.bind(null,e),{timeout:10*(1073741821-t)-Ii()}),e.callbackNode=t}}}function Ja(e,t){if(Qa=0,t)return zl(e,t=qa()),Za(e),null;var n=Ka(e);if(0!==n){if(t=e.callbackNode,0!==(48&ka))throw Error(u(327));if(ml(),e===Ta&&n===Ca||nl(e,n),null!==Ea){var r=ka;ka|=16;for(var i=il();;)try{ll();break}catch(l){rl(e,l)}if(Gi(),ka=r,ya.current=i,1===Sa)throw t=Ma,nl(e,n),Dl(e,n),Za(e),t;if(null===Ea)switch(i=e.finishedWork=e.current.alternate,e.finishedExpirationTime=n,r=Sa,Ta=null,r){case wa:case 1:throw Error(u(345));case 2:zl(e,2<n?2:n);break;case xa:if(Dl(e,n),n===(r=e.lastSuspendedTime)&&(e.nextKnownPendingLevel=fl(i)),1073741823===Na&&10<(i=Oa+500-Ii())){if(Da){var o=e.lastPingedTime;if(0===o||o>=n){e.lastPingedTime=n,nl(e,n);break}}if(0!==(o=Ka(e))&&o!==n)break;if(0!==r&&r!==n){e.lastPingedTime=r;break}e.timeoutHandle=bn(dl.bind(null,e),i);break}dl(e);break;case _a:if(Dl(e,n),n===(r=e.lastSuspendedTime)&&(e.nextKnownPendingLevel=fl(i)),Da&&(0===(i=e.lastPingedTime)||i>=n)){e.lastPingedTime=n,nl(e,n);break}if(0!==(i=Ka(e))&&i!==n)break;if(0!==r&&r!==n){e.lastPingedTime=r;break}if(1073741823!==Pa?r=10*(1073741821-Pa)-Ii():1073741823===Na?r=0:(r=10*(1073741821-Na)-5e3,0>(r=(i=Ii())-r)&&(r=0),(n=10*(1073741821-n)-i)<(r=(120>r?120:480>r?480:1080>r?1080:1920>r?1920:3e3>r?3e3:4320>r?4320:1960*va(r/1960))-r)&&(r=n)),10<r){e.timeoutHandle=bn(dl.bind(null,e),r);break}dl(e);break;case 5:if(1073741823!==Na&&null!==Aa){o=Na;var a=Aa;if(0>=(r=0|a.busyMinDurationMs)?r=0:(i=0|a.busyDelayMs,r=(o=Ii()-(10*(1073741821-o)-(0|a.timeoutMs||5e3)))<=i?0:i+r-o),10<r){Dl(e,n),e.timeoutHandle=bn(dl.bind(null,e),r);break}}dl(e);break;default:throw Error(u(329))}if(Za(e),e.callbackNode===t)return Ja.bind(null,e)}}return null}function Ga(e){var t=e.lastExpiredTime;if(t=0!==t?t:1073741823,0!==(48&ka))throw Error(u(327));if(ml(),e===Ta&&t===Ca||nl(e,t),null!==Ea){var n=ka;ka|=16;for(var r=il();;)try{al();break}catch(i){rl(e,i)}if(Gi(),ka=n,ya.current=r,1===Sa)throw n=Ma,nl(e,t),Dl(e,t),Za(e),n;if(null!==Ea)throw Error(u(261));e.finishedWork=e.current.alternate,e.finishedExpirationTime=t,Ta=null,dl(e),Za(e)}return null}function el(e,t){var n=ka;ka|=1;try{return e(t)}finally{0===(ka=n)&&Qi()}}function tl(e,t){var n=ka;ka&=-2,ka|=8;try{return e(t)}finally{0===(ka=n)&&Qi()}}function nl(e,t){e.finishedWork=null,e.finishedExpirationTime=0;var n=e.timeoutHandle;if(-1!==n&&(e.timeoutHandle=-1,wn(n)),null!==Ea)for(n=Ea.return;null!==n;){var r=n;switch(r.tag){case 1:null!==(r=r.type.childContextTypes)&&void 0!==r&&gi();break;case 3:Do(),li(di),li(fi);break;case 5:zo(r);break;case 4:Do();break;case 13:case 19:li(Lo);break;case 10:eo(r)}n=n.return}Ta=e,Ea=Cl(e.current,null),Ca=t,Sa=wa,Ma=null,Pa=Na=1073741823,Aa=null,Ra=0,Da=!1}function rl(e,t){for(;;){try{if(Gi(),Io.current=gu,Qo)for(var n=Vo.memoizedState;null!==n;){var r=n.queue;null!==r&&(r.pending=null),n=n.next}if(Ho=0,Wo=$o=Vo=null,Qo=!1,null===Ea||null===Ea.return)return Sa=1,Ma=t,Ea=null;e:{var i=e,o=Ea.return,u=Ea,a=t;if(t=Ca,u.effectTag|=2048,u.firstEffect=u.lastEffect=null,null!==a&&\"object\"===typeof a&&\"function\"===typeof a.then){var l=a;if(0===(2&u.mode)){var c=u.alternate;c?(u.updateQueue=c.updateQueue,u.memoizedState=c.memoizedState,u.expirationTime=c.expirationTime):(u.updateQueue=null,u.memoizedState=null)}var s=0!==(1&Lo.current),f=o;do{var d;if(d=13===f.tag){var p=f.memoizedState;if(null!==p)d=null!==p.dehydrated;else{var h=f.memoizedProps;d=void 0!==h.fallback&&(!0!==h.unstable_avoidThisFallback||!s)}}if(d){var m=f.updateQueue;if(null===m){var g=new Set;g.add(l),f.updateQueue=g}else m.add(l);if(0===(2&f.mode)){if(f.effectTag|=64,u.effectTag&=-2981,1===u.tag)if(null===u.alternate)u.tag=17;else{var v=ao(1073741823,null);v.tag=2,lo(u,v)}u.expirationTime=1073741823;break e}a=void 0,u=t;var y=i.pingCache;if(null===y?(y=i.pingCache=new pa,a=new Set,y.set(l,a)):void 0===(a=y.get(l))&&(a=new Set,y.set(l,a)),!a.has(u)){a.add(u);var b=bl.bind(null,i,l,u);l.then(b,b)}f.effectTag|=4096,f.expirationTime=t;break e}f=f.return}while(null!==f);a=Error((ge(u.type)||\"A React component\")+\" suspended while rendering, but no fallback UI was specified.\\n\\nAdd a <Suspense fallback=...> component higher in the tree to provide a loading indicator or placeholder to display.\"+ve(u))}5!==Sa&&(Sa=2),a=Ju(a,u),f=o;do{switch(f.tag){case 3:l=a,f.effectTag|=4096,f.expirationTime=t,co(f,ha(f,l,t));break e;case 1:l=a;var w=f.type,x=f.stateNode;if(0===(64&f.effectTag)&&(\"function\"===typeof w.getDerivedStateFromError||null!==x&&\"function\"===typeof x.componentDidCatch&&(null===Fa||!Fa.has(x)))){f.effectTag|=4096,f.expirationTime=t,co(f,ma(f,l,t));break e}}f=f.return}while(null!==f)}Ea=sl(Ea)}catch(_){t=_;continue}break}}function il(){var e=ya.current;return ya.current=gu,null===e?gu:e}function ol(e,t){e<Na&&2<e&&(Na=e),null!==t&&e<Pa&&2<e&&(Pa=e,Aa=t)}function ul(e){e>Ra&&(Ra=e)}function al(){for(;null!==Ea;)Ea=cl(Ea)}function ll(){for(;null!==Ea&&!Di();)Ea=cl(Ea)}function cl(e){var t=ga(e.alternate,e,Ca);return e.memoizedProps=e.pendingProps,null===t&&(t=sl(e)),ba.current=null,t}function sl(e){Ea=e;do{var t=Ea.alternate;if(e=Ea.return,0===(2048&Ea.effectTag)){if(t=Ku(t,Ea,Ca),1===Ca||1!==Ea.childExpirationTime){for(var n=0,r=Ea.child;null!==r;){var i=r.expirationTime,o=r.childExpirationTime;i>n&&(n=i),o>n&&(n=o),r=r.sibling}Ea.childExpirationTime=n}if(null!==t)return t;null!==e&&0===(2048&e.effectTag)&&(null===e.firstEffect&&(e.firstEffect=Ea.firstEffect),null!==Ea.lastEffect&&(null!==e.lastEffect&&(e.lastEffect.nextEffect=Ea.firstEffect),e.lastEffect=Ea.lastEffect),1<Ea.effectTag&&(null!==e.lastEffect?e.lastEffect.nextEffect=Ea:e.firstEffect=Ea,e.lastEffect=Ea))}else{if(null!==(t=Zu(Ea)))return t.effectTag&=2047,t;null!==e&&(e.firstEffect=e.lastEffect=null,e.effectTag|=2048)}if(null!==(t=Ea.sibling))return t;Ea=e}while(null!==Ea);return Sa===wa&&(Sa=5),null}function fl(e){var t=e.expirationTime;return t>(e=e.childExpirationTime)?t:e}function dl(e){var t=ji();return Vi(99,pl.bind(null,e,t)),null}function pl(e,t){do{ml()}while(null!==ja);if(0!==(48&ka))throw Error(u(327));var n=e.finishedWork,r=e.finishedExpirationTime;if(null===n)return null;if(e.finishedWork=null,e.finishedExpirationTime=0,n===e.current)throw Error(u(177));e.callbackNode=null,e.callbackExpirationTime=0,e.callbackPriority=90,e.nextKnownPendingLevel=0;var i=fl(n);if(e.firstPendingTime=i,r<=e.lastSuspendedTime?e.firstSuspendedTime=e.lastSuspendedTime=e.nextKnownPendingLevel=0:r<=e.firstSuspendedTime&&(e.firstSuspendedTime=r-1),r<=e.lastPingedTime&&(e.lastPingedTime=0),r<=e.lastExpiredTime&&(e.lastExpiredTime=0),e===Ta&&(Ea=Ta=null,Ca=0),1<n.effectTag?null!==n.lastEffect?(n.lastEffect.nextEffect=n,i=n.firstEffect):i=n:i=n.firstEffect,null!==i){var o=ka;ka|=32,ba.current=null,mn=qt;var a=pn();if(hn(a)){if(\"selectionStart\"in a)var l={start:a.selectionStart,end:a.selectionEnd};else e:{var c=(l=(l=a.ownerDocument)&&l.defaultView||window).getSelection&&l.getSelection();if(c&&0!==c.rangeCount){l=c.anchorNode;var s=c.anchorOffset,f=c.focusNode;c=c.focusOffset;try{l.nodeType,f.nodeType}catch(C){l=null;break e}var d=0,p=-1,h=-1,m=0,g=0,v=a,y=null;t:for(;;){for(var b;v!==l||0!==s&&3!==v.nodeType||(p=d+s),v!==f||0!==c&&3!==v.nodeType||(h=d+c),3===v.nodeType&&(d+=v.nodeValue.length),null!==(b=v.firstChild);)y=v,v=b;for(;;){if(v===a)break t;if(y===l&&++m===s&&(p=d),y===f&&++g===c&&(h=d),null!==(b=v.nextSibling))break;y=(v=y).parentNode}v=b}l=-1===p||-1===h?null:{start:p,end:h}}else l=null}l=l||{start:0,end:0}}else l=null;gn={activeElementDetached:null,focusedElem:a,selectionRange:l},qt=!1,za=i;do{try{hl()}catch(C){if(null===za)throw Error(u(330));yl(za,C),za=za.nextEffect}}while(null!==za);za=i;do{try{for(a=e,l=t;null!==za;){var w=za.effectTag;if(16&w&&je(za.stateNode,\"\"),128&w){var x=za.alternate;if(null!==x){var _=x.ref;null!==_&&(\"function\"===typeof _?_(null):_.current=null)}}switch(1038&w){case 2:ca(za),za.effectTag&=-3;break;case 6:ca(za),za.effectTag&=-3,fa(za.alternate,za);break;case 1024:za.effectTag&=-1025;break;case 1028:za.effectTag&=-1025,fa(za.alternate,za);break;case 4:fa(za.alternate,za);break;case 8:sa(a,s=za,l),aa(s)}za=za.nextEffect}}catch(C){if(null===za)throw Error(u(330));yl(za,C),za=za.nextEffect}}while(null!==za);if(_=gn,x=pn(),w=_.focusedElem,l=_.selectionRange,x!==w&&w&&w.ownerDocument&&function e(t,n){return!(!t||!n)&&(t===n||(!t||3!==t.nodeType)&&(n&&3===n.nodeType?e(t,n.parentNode):\"contains\"in t?t.contains(n):!!t.compareDocumentPosition&&!!(16&t.compareDocumentPosition(n))))}(w.ownerDocument.documentElement,w)){null!==l&&hn(w)&&(x=l.start,void 0===(_=l.end)&&(_=x),\"selectionStart\"in w?(w.selectionStart=x,w.selectionEnd=Math.min(_,w.value.length)):(_=(x=w.ownerDocument||document)&&x.defaultView||window).getSelection&&(_=_.getSelection(),s=w.textContent.length,a=Math.min(l.start,s),l=void 0===l.end?a:Math.min(l.end,s),!_.extend&&a>l&&(s=l,l=a,a=s),s=dn(w,a),f=dn(w,l),s&&f&&(1!==_.rangeCount||_.anchorNode!==s.node||_.anchorOffset!==s.offset||_.focusNode!==f.node||_.focusOffset!==f.offset)&&((x=x.createRange()).setStart(s.node,s.offset),_.removeAllRanges(),a>l?(_.addRange(x),_.extend(f.node,f.offset)):(x.setEnd(f.node,f.offset),_.addRange(x))))),x=[];for(_=w;_=_.parentNode;)1===_.nodeType&&x.push({element:_,left:_.scrollLeft,top:_.scrollTop});for(\"function\"===typeof w.focus&&w.focus(),w=0;w<x.length;w++)(_=x[w]).element.scrollLeft=_.left,_.element.scrollTop=_.top}qt=!!mn,gn=mn=null,e.current=n,za=i;do{try{for(w=e;null!==za;){var k=za.effectTag;if(36&k&&oa(w,za.alternate,za),128&k){x=void 0;var T=za.ref;if(null!==T){var E=za.stateNode;switch(za.tag){case 5:x=E;break;default:x=E}\"function\"===typeof T?T(x):T.current=x}}za=za.nextEffect}}catch(C){if(null===za)throw Error(u(330));yl(za,C),za=za.nextEffect}}while(null!==za);za=null,Oi(),ka=o}else e.current=n;if(Ia)Ia=!1,ja=e,Ha=t;else for(za=i;null!==za;)t=za.nextEffect,za.nextEffect=null,za=t;if(0===(t=e.firstPendingTime)&&(Fa=null),1073741823===t?e===Wa?$a++:($a=0,Wa=e):$a=0,\"function\"===typeof xl&&xl(n.stateNode,r),Za(e),La)throw La=!1,e=Ua,Ua=null,e;return 0!==(8&ka)||Qi(),null}function hl(){for(;null!==za;){var e=za.effectTag;0!==(256&e)&&na(za.alternate,za),0===(512&e)||Ia||(Ia=!0,$i(97,(function(){return ml(),null}))),za=za.nextEffect}}function ml(){if(90!==Ha){var e=97<Ha?97:Ha;return Ha=90,Vi(e,gl)}}function gl(){if(null===ja)return!1;var e=ja;if(ja=null,0!==(48&ka))throw Error(u(331));var t=ka;for(ka|=32,e=e.current.firstEffect;null!==e;){try{var n=e;if(0!==(512&n.effectTag))switch(n.tag){case 0:case 11:case 15:case 22:ra(5,n),ia(5,n)}}catch(r){if(null===e)throw Error(u(330));yl(e,r)}n=e.nextEffect,e.nextEffect=null,e=n}return ka=t,Qi(),!0}function vl(e,t,n){lo(e,t=ha(e,t=Ju(n,t),1073741823)),null!==(e=Xa(e,1073741823))&&Za(e)}function yl(e,t){if(3===e.tag)vl(e,e,t);else for(var n=e.return;null!==n;){if(3===n.tag){vl(n,e,t);break}if(1===n.tag){var r=n.stateNode;if(\"function\"===typeof n.type.getDerivedStateFromError||\"function\"===typeof r.componentDidCatch&&(null===Fa||!Fa.has(r))){lo(n,e=ma(n,e=Ju(t,e),1073741823)),null!==(n=Xa(n,1073741823))&&Za(n);break}}n=n.return}}function bl(e,t,n){var r=e.pingCache;null!==r&&r.delete(t),Ta===e&&Ca===n?Sa===_a||Sa===xa&&1073741823===Na&&Ii()-Oa<500?nl(e,Ca):Da=!0:Rl(e,n)&&(0!==(t=e.lastPingedTime)&&t<n||(e.lastPingedTime=n,Za(e)))}function wl(e,t){var n=e.stateNode;null!==n&&n.delete(t),0===(t=0)&&(t=Ba(t=qa(),e,null)),null!==(e=Xa(e,t))&&Za(e)}ga=function(e,t,n){var r=t.expirationTime;if(null!==e){var i=t.pendingProps;if(e.memoizedProps!==i||di.current)Pu=!0;else{if(r<n){switch(Pu=!1,t.tag){case 3:Iu(t),Mu();break;case 5:if(Oo(t),4&t.mode&&1!==n&&i.hidden)return t.expirationTime=t.childExpirationTime=1,null;break;case 1:mi(t.type)&&bi(t);break;case 4:Ro(t,t.stateNode.containerInfo);break;case 10:r=t.memoizedProps.value,i=t.type._context,ci(Xi,i._currentValue),i._currentValue=r;break;case 13:if(null!==t.memoizedState)return 0!==(r=t.child.childExpirationTime)&&r>=n?Wu(e,t,n):(ci(Lo,1&Lo.current),null!==(t=Yu(e,t,n))?t.sibling:null);ci(Lo,1&Lo.current);break;case 19:if(r=t.childExpirationTime>=n,0!==(64&e.effectTag)){if(r)return Bu(e,t,n);t.effectTag|=64}if(null!==(i=t.memoizedState)&&(i.rendering=null,i.tail=null),ci(Lo,Lo.current),!r)return null}return Yu(e,t,n)}Pu=!1}}else Pu=!1;switch(t.expirationTime=0,t.tag){case 2:if(r=t.type,null!==e&&(e.alternate=null,t.alternate=null,t.effectTag|=2),e=t.pendingProps,i=hi(t,fi.current),no(t,n),i=Yo(null,t,r,e,i,n),t.effectTag|=1,\"object\"===typeof i&&null!==i&&\"function\"===typeof i.render&&void 0===i.$$typeof){if(t.tag=1,t.memoizedState=null,t.updateQueue=null,mi(r)){var o=!0;bi(t)}else o=!1;t.memoizedState=null!==i.state&&void 0!==i.state?i.state:null,oo(t);var a=r.getDerivedStateFromProps;\"function\"===typeof a&&mo(t,r,a,e),i.updater=go,t.stateNode=i,i._reactInternalFiber=t,wo(t,r,e,n),t=Fu(null,t,r,!0,o,n)}else t.tag=0,Au(null,t,i,n),t=t.child;return t;case 16:e:{if(i=t.elementType,null!==e&&(e.alternate=null,t.alternate=null,t.effectTag|=2),e=t.pendingProps,function(e){if(-1===e._status){e._status=0;var t=e._ctor;t=t(),e._result=t,t.then((function(t){0===e._status&&(t=t.default,e._status=1,e._result=t)}),(function(t){0===e._status&&(e._status=2,e._result=t)}))}}(i),1!==i._status)throw i._result;switch(i=i._result,t.type=i,o=t.tag=function(e){if(\"function\"===typeof e)return El(e)?1:0;if(void 0!==e&&null!==e){if((e=e.$$typeof)===le)return 11;if(e===fe)return 14}return 2}(i),e=Yi(i,e),o){case 0:t=Lu(null,t,i,e,n);break e;case 1:t=Uu(null,t,i,e,n);break e;case 11:t=Ru(null,t,i,e,n);break e;case 14:t=Du(null,t,i,Yi(i.type,e),r,n);break e}throw Error(u(306,i,\"\"))}return t;case 0:return r=t.type,i=t.pendingProps,Lu(e,t,r,i=t.elementType===r?i:Yi(r,i),n);case 1:return r=t.type,i=t.pendingProps,Uu(e,t,r,i=t.elementType===r?i:Yi(r,i),n);case 3:if(Iu(t),r=t.updateQueue,null===e||null===r)throw Error(u(282));if(r=t.pendingProps,i=null!==(i=t.memoizedState)?i.element:null,uo(e,t),so(t,r,null,n),(r=t.memoizedState.element)===i)Mu(),t=Yu(e,t,n);else{if((i=t.stateNode.hydrate)&&(xu=xn(t.stateNode.containerInfo.firstChild),wu=t,i=_u=!0),i)for(n=Co(t,null,r,n),t.child=n;n;)n.effectTag=-3&n.effectTag|1024,n=n.sibling;else Au(e,t,r,n),Mu();t=t.child}return t;case 5:return Oo(t),null===e&&Eu(t),r=t.type,i=t.pendingProps,o=null!==e?e.memoizedProps:null,a=i.children,yn(r,i)?a=null:null!==o&&yn(r,o)&&(t.effectTag|=16),zu(e,t),4&t.mode&&1!==n&&i.hidden?(t.expirationTime=t.childExpirationTime=1,t=null):(Au(e,t,a,n),t=t.child),t;case 6:return null===e&&Eu(t),null;case 13:return Wu(e,t,n);case 4:return Ro(t,t.stateNode.containerInfo),r=t.pendingProps,null===e?t.child=Eo(t,null,r,n):Au(e,t,r,n),t.child;case 11:return r=t.type,i=t.pendingProps,Ru(e,t,r,i=t.elementType===r?i:Yi(r,i),n);case 7:return Au(e,t,t.pendingProps,n),t.child;case 8:case 12:return Au(e,t,t.pendingProps.children,n),t.child;case 10:e:{r=t.type._context,i=t.pendingProps,a=t.memoizedProps,o=i.value;var l=t.type._context;if(ci(Xi,l._currentValue),l._currentValue=o,null!==a)if(l=a.value,0===(o=Ur(l,o)?0:0|(\"function\"===typeof r._calculateChangedBits?r._calculateChangedBits(l,o):1073741823))){if(a.children===i.children&&!di.current){t=Yu(e,t,n);break e}}else for(null!==(l=t.child)&&(l.return=t);null!==l;){var c=l.dependencies;if(null!==c){a=l.child;for(var s=c.firstContext;null!==s;){if(s.context===r&&0!==(s.observedBits&o)){1===l.tag&&((s=ao(n,null)).tag=2,lo(l,s)),l.expirationTime<n&&(l.expirationTime=n),null!==(s=l.alternate)&&s.expirationTime<n&&(s.expirationTime=n),to(l.return,n),c.expirationTime<n&&(c.expirationTime=n);break}s=s.next}}else a=10===l.tag&&l.type===t.type?null:l.child;if(null!==a)a.return=l;else for(a=l;null!==a;){if(a===t){a=null;break}if(null!==(l=a.sibling)){l.return=a.return,a=l;break}a=a.return}l=a}Au(e,t,i.children,n),t=t.child}return t;case 9:return i=t.type,r=(o=t.pendingProps).children,no(t,n),r=r(i=ro(i,o.unstable_observedBits)),t.effectTag|=1,Au(e,t,r,n),t.child;case 14:return o=Yi(i=t.type,t.pendingProps),Du(e,t,i,o=Yi(i.type,o),r,n);case 15:return Ou(e,t,t.type,t.pendingProps,r,n);case 17:return r=t.type,i=t.pendingProps,i=t.elementType===r?i:Yi(r,i),null!==e&&(e.alternate=null,t.alternate=null,t.effectTag|=2),t.tag=1,mi(r)?(e=!0,bi(t)):e=!1,no(t,n),yo(t,r,i),wo(t,r,i,n),Fu(null,t,r,!0,e,n);case 19:return Bu(e,t,n)}throw Error(u(156,t.tag))};var xl=null,_l=null;function kl(e,t,n,r){this.tag=e,this.key=n,this.sibling=this.child=this.return=this.stateNode=this.type=this.elementType=null,this.index=0,this.ref=null,this.pendingProps=t,this.dependencies=this.memoizedState=this.updateQueue=this.memoizedProps=null,this.mode=r,this.effectTag=0,this.lastEffect=this.firstEffect=this.nextEffect=null,this.childExpirationTime=this.expirationTime=0,this.alternate=null}function Tl(e,t,n,r){return new kl(e,t,n,r)}function El(e){return!(!(e=e.prototype)||!e.isReactComponent)}function Cl(e,t){var n=e.alternate;return null===n?((n=Tl(e.tag,t,e.key,e.mode)).elementType=e.elementType,n.type=e.type,n.stateNode=e.stateNode,n.alternate=e,e.alternate=n):(n.pendingProps=t,n.effectTag=0,n.nextEffect=null,n.firstEffect=null,n.lastEffect=null),n.childExpirationTime=e.childExpirationTime,n.expirationTime=e.expirationTime,n.child=e.child,n.memoizedProps=e.memoizedProps,n.memoizedState=e.memoizedState,n.updateQueue=e.updateQueue,t=e.dependencies,n.dependencies=null===t?null:{expirationTime:t.expirationTime,firstContext:t.firstContext,responders:t.responders},n.sibling=e.sibling,n.index=e.index,n.ref=e.ref,n}function Sl(e,t,n,r,i,o){var a=2;if(r=e,\"function\"===typeof e)El(e)&&(a=1);else if(\"string\"===typeof e)a=5;else e:switch(e){case ne:return Ml(n.children,i,o,t);case ae:a=8,i|=7;break;case re:a=8,i|=1;break;case ie:return(e=Tl(12,n,t,8|i)).elementType=ie,e.type=ie,e.expirationTime=o,e;case ce:return(e=Tl(13,n,t,i)).type=ce,e.elementType=ce,e.expirationTime=o,e;case se:return(e=Tl(19,n,t,i)).elementType=se,e.expirationTime=o,e;default:if(\"object\"===typeof e&&null!==e)switch(e.$$typeof){case oe:a=10;break e;case ue:a=9;break e;case le:a=11;break e;case fe:a=14;break e;case de:a=16,r=null;break e;case pe:a=22;break e}throw Error(u(130,null==e?e:typeof e,\"\"))}return(t=Tl(a,n,t,i)).elementType=e,t.type=r,t.expirationTime=o,t}function Ml(e,t,n,r){return(e=Tl(7,e,r,t)).expirationTime=n,e}function Nl(e,t,n){return(e=Tl(6,e,null,t)).expirationTime=n,e}function Pl(e,t,n){return(t=Tl(4,null!==e.children?e.children:[],e.key,t)).expirationTime=n,t.stateNode={containerInfo:e.containerInfo,pendingChildren:null,implementation:e.implementation},t}function Al(e,t,n){this.tag=t,this.current=null,this.containerInfo=e,this.pingCache=this.pendingChildren=null,this.finishedExpirationTime=0,this.finishedWork=null,this.timeoutHandle=-1,this.pendingContext=this.context=null,this.hydrate=n,this.callbackNode=null,this.callbackPriority=90,this.lastExpiredTime=this.lastPingedTime=this.nextKnownPendingLevel=this.lastSuspendedTime=this.firstSuspendedTime=this.firstPendingTime=0}function Rl(e,t){var n=e.firstSuspendedTime;return e=e.lastSuspendedTime,0!==n&&n>=t&&e<=t}function Dl(e,t){var n=e.firstSuspendedTime,r=e.lastSuspendedTime;n<t&&(e.firstSuspendedTime=t),(r>t||0===n)&&(e.lastSuspendedTime=t),t<=e.lastPingedTime&&(e.lastPingedTime=0),t<=e.lastExpiredTime&&(e.lastExpiredTime=0)}function Ol(e,t){t>e.firstPendingTime&&(e.firstPendingTime=t);var n=e.firstSuspendedTime;0!==n&&(t>=n?e.firstSuspendedTime=e.lastSuspendedTime=e.nextKnownPendingLevel=0:t>=e.lastSuspendedTime&&(e.lastSuspendedTime=t+1),t>e.nextKnownPendingLevel&&(e.nextKnownPendingLevel=t))}function zl(e,t){var n=e.lastExpiredTime;(0===n||n>t)&&(e.lastExpiredTime=t)}function Ll(e,t,n,r){var i=t.current,o=qa(),a=po.suspense;o=Ba(o,i,a);e:if(n){t:{if(Ge(n=n._reactInternalFiber)!==n||1!==n.tag)throw Error(u(170));var l=n;do{switch(l.tag){case 3:l=l.stateNode.context;break t;case 1:if(mi(l.type)){l=l.stateNode.__reactInternalMemoizedMergedChildContext;break t}}l=l.return}while(null!==l);throw Error(u(171))}if(1===n.tag){var c=n.type;if(mi(c)){n=yi(n,c,l);break e}}n=l}else n=si;return null===t.context?t.context=n:t.pendingContext=n,(t=ao(o,a)).payload={element:e},null!==(r=void 0===r?null:r)&&(t.callback=r),lo(i,t),Ya(i,o),o}function Ul(e){if(!(e=e.current).child)return null;switch(e.child.tag){case 5:default:return e.child.stateNode}}function Fl(e,t){null!==(e=e.memoizedState)&&null!==e.dehydrated&&e.retryTime<t&&(e.retryTime=t)}function Il(e,t){Fl(e,t),(e=e.alternate)&&Fl(e,t)}function jl(e,t,n){var r=new Al(e,t,n=null!=n&&!0===n.hydrate),i=Tl(3,null,null,2===t?7:1===t?3:0);r.current=i,i.stateNode=r,oo(i),e[Cn]=r.current,n&&0!==t&&function(e,t){var n=Je(t);Ct.forEach((function(e){ht(e,t,n)})),St.forEach((function(e){ht(e,t,n)}))}(0,9===e.nodeType?e:e.ownerDocument),this._internalRoot=r}function Hl(e){return!(!e||1!==e.nodeType&&9!==e.nodeType&&11!==e.nodeType&&(8!==e.nodeType||\" react-mount-point-unstable \"!==e.nodeValue))}function Vl(e,t,n,r,i){var o=n._reactRootContainer;if(o){var u=o._internalRoot;if(\"function\"===typeof i){var a=i;i=function(){var e=Ul(u);a.call(e)}}Ll(t,u,e,i)}else{if(o=n._reactRootContainer=function(e,t){if(t||(t=!(!(t=e?9===e.nodeType?e.documentElement:e.firstChild:null)||1!==t.nodeType||!t.hasAttribute(\"data-reactroot\"))),!t)for(var n;n=e.lastChild;)e.removeChild(n);return new jl(e,0,t?{hydrate:!0}:void 0)}(n,r),u=o._internalRoot,\"function\"===typeof i){var l=i;i=function(){var e=Ul(u);l.call(e)}}tl((function(){Ll(t,u,e,i)}))}return Ul(u)}function $l(e,t,n){var r=3<arguments.length&&void 0!==arguments[3]?arguments[3]:null;return{$$typeof:te,key:null==r?null:\"\"+r,children:e,containerInfo:t,implementation:n}}function Wl(e,t){var n=2<arguments.length&&void 0!==arguments[2]?arguments[2]:null;if(!Hl(t))throw Error(u(200));return $l(e,t,null,n)}jl.prototype.render=function(e){Ll(e,this._internalRoot,null,null)},jl.prototype.unmount=function(){var e=this._internalRoot,t=e.containerInfo;Ll(null,e,null,(function(){t[Cn]=null}))},mt=function(e){if(13===e.tag){var t=Bi(qa(),150,100);Ya(e,t),Il(e,t)}},gt=function(e){13===e.tag&&(Ya(e,3),Il(e,3))},vt=function(e){if(13===e.tag){var t=qa();Ya(e,t=Ba(t,e,null)),Il(e,t)}},M=function(e,t,n){switch(t){case\"input\":if(Ee(e,n),t=n.name,\"radio\"===n.type&&null!=t){for(n=e;n.parentNode;)n=n.parentNode;for(n=n.querySelectorAll(\"input[name=\"+JSON.stringify(\"\"+t)+'][type=\"radio\"]'),t=0;t<n.length;t++){var r=n[t];if(r!==e&&r.form===e.form){var i=Pn(r);if(!i)throw Error(u(90));xe(r),Ee(r,i)}}}break;case\"textarea\":Re(e,n);break;case\"select\":null!=(t=n.value)&&Ne(e,!!n.multiple,t,!1)}},O=el,z=function(e,t,n,r,i){var o=ka;ka|=4;try{return Vi(98,e.bind(null,t,n,r,i))}finally{0===(ka=o)&&Qi()}},L=function(){0===(49&ka)&&(function(){if(null!==Va){var e=Va;Va=null,e.forEach((function(e,t){zl(t,e),Za(t)})),Qi()}}(),ml())},U=function(e,t){var n=ka;ka|=2;try{return e(t)}finally{0===(ka=n)&&Qi()}};var Ql={Events:[Mn,Nn,Pn,C,k,Un,function(e){it(e,Ln)},R,D,Zt,at,ml,{current:!1}]};!function(e){var t=e.findFiberByHostInstance;(function(e){if(\"undefined\"===typeof __REACT_DEVTOOLS_GLOBAL_HOOK__)return!1;var t=__REACT_DEVTOOLS_GLOBAL_HOOK__;if(t.isDisabled||!t.supportsFiber)return!0;try{var n=t.inject(e);xl=function(e){try{t.onCommitFiberRoot(n,e,void 0,64===(64&e.current.effectTag))}catch(r){}},_l=function(e){try{t.onCommitFiberUnmount(n,e)}catch(r){}}}catch(r){}})(i({},e,{overrideHookState:null,overrideProps:null,setSuspenseHandler:null,scheduleUpdate:null,currentDispatcherRef:K.ReactCurrentDispatcher,findHostInstanceByFiber:function(e){return null===(e=nt(e))?null:e.stateNode},findFiberByHostInstance:function(e){return t?t(e):null},findHostInstancesForRefresh:null,scheduleRefresh:null,scheduleRoot:null,setRefreshHandler:null,getCurrentFiber:null}))}({findFiberByHostInstance:Sn,bundleType:0,version:\"16.13.1\",rendererPackageName:\"react-dom\"}),t.__SECRET_INTERNALS_DO_NOT_USE_OR_YOU_WILL_BE_FIRED=Ql,t.createPortal=Wl,t.findDOMNode=function(e){if(null==e)return null;if(1===e.nodeType)return e;var t=e._reactInternalFiber;if(void 0===t){if(\"function\"===typeof e.render)throw Error(u(188));throw Error(u(268,Object.keys(e)))}return e=null===(e=nt(t))?null:e.stateNode},t.flushSync=function(e,t){if(0!==(48&ka))throw Error(u(187));var n=ka;ka|=1;try{return Vi(99,e.bind(null,t))}finally{ka=n,Qi()}},t.hydrate=function(e,t,n){if(!Hl(t))throw Error(u(200));return Vl(null,e,t,!0,n)},t.render=function(e,t,n){if(!Hl(t))throw Error(u(200));return Vl(null,e,t,!1,n)},t.unmountComponentAtNode=function(e){if(!Hl(e))throw Error(u(40));return!!e._reactRootContainer&&(tl((function(){Vl(null,null,e,!1,(function(){e._reactRootContainer=null,e[Cn]=null}))})),!0)},t.unstable_batchedUpdates=el,t.unstable_createPortal=function(e,t){return Wl(e,t,2<arguments.length&&void 0!==arguments[2]?arguments[2]:null)},t.unstable_renderSubtreeIntoContainer=function(e,t,n,r){if(!Hl(n))throw Error(u(200));if(null==e||void 0===e._reactInternalFiber)throw Error(u(38));return Vl(e,t,n,!1,r)},t.version=\"16.13.1\"},function(e,t,n){\"use strict\";e.exports=n(32)},function(e,t,n){\"use strict\";var r,i,o,u,a;if(\"undefined\"===typeof window||\"function\"!==typeof MessageChannel){var l=null,c=null,s=function e(){if(null!==l)try{var n=t.unstable_now();l(!0,n),l=null}catch(r){throw setTimeout(e,0),r}},f=Date.now();t.unstable_now=function(){return Date.now()-f},r=function(e){null!==l?setTimeout(r,0,e):(l=e,setTimeout(s,0))},i=function(e,t){c=setTimeout(e,t)},o=function(){clearTimeout(c)},u=function(){return!1},a=t.unstable_forceFrameRate=function(){}}else{var d=window.performance,p=window.Date,h=window.setTimeout,m=window.clearTimeout;if(\"undefined\"!==typeof console){var g=window.cancelAnimationFrame;\"function\"!==typeof window.requestAnimationFrame&&console.error(\"This browser doesn't support requestAnimationFrame. Make sure that you load a polyfill in older browsers. https://fb.me/react-polyfills\"),\"function\"!==typeof g&&console.error(\"This browser doesn't support cancelAnimationFrame. Make sure that you load a polyfill in older browsers. https://fb.me/react-polyfills\")}if(\"object\"===typeof d&&\"function\"===typeof d.now)t.unstable_now=function(){return d.now()};else{var v=p.now();t.unstable_now=function(){return p.now()-v}}var y=!1,b=null,w=-1,x=5,_=0;u=function(){return t.unstable_now()>=_},a=function(){},t.unstable_forceFrameRate=function(e){0>e||125<e?console.error(\"forceFrameRate takes a positive int between 0 and 125, forcing framerates higher than 125 fps is not unsupported\"):x=0<e?Math.floor(1e3/e):5};var k=new MessageChannel,T=k.port2;k.port1.onmessage=function(){if(null!==b){var e=t.unstable_now();_=e+x;try{b(!0,e)?T.postMessage(null):(y=!1,b=null)}catch(n){throw T.postMessage(null),n}}else y=!1},r=function(e){b=e,y||(y=!0,T.postMessage(null))},i=function(e,n){w=h((function(){e(t.unstable_now())}),n)},o=function(){m(w),w=-1}}function E(e,t){var n=e.length;e.push(t);e:for(;;){var r=n-1>>>1,i=e[r];if(!(void 0!==i&&0<M(i,t)))break e;e[r]=t,e[n]=i,n=r}}function C(e){return void 0===(e=e[0])?null:e}function S(e){var t=e[0];if(void 0!==t){var n=e.pop();if(n!==t){e[0]=n;e:for(var r=0,i=e.length;r<i;){var o=2*(r+1)-1,u=e[o],a=o+1,l=e[a];if(void 0!==u&&0>M(u,n))void 0!==l&&0>M(l,u)?(e[r]=l,e[a]=n,r=a):(e[r]=u,e[o]=n,r=o);else{if(!(void 0!==l&&0>M(l,n)))break e;e[r]=l,e[a]=n,r=a}}}return t}return null}function M(e,t){var n=e.sortIndex-t.sortIndex;return 0!==n?n:e.id-t.id}var N=[],P=[],A=1,R=null,D=3,O=!1,z=!1,L=!1;function U(e){for(var t=C(P);null!==t;){if(null===t.callback)S(P);else{if(!(t.startTime<=e))break;S(P),t.sortIndex=t.expirationTime,E(N,t)}t=C(P)}}function F(e){if(L=!1,U(e),!z)if(null!==C(N))z=!0,r(I);else{var t=C(P);null!==t&&i(F,t.startTime-e)}}function I(e,n){z=!1,L&&(L=!1,o()),O=!0;var r=D;try{for(U(n),R=C(N);null!==R&&(!(R.expirationTime>n)||e&&!u());){var a=R.callback;if(null!==a){R.callback=null,D=R.priorityLevel;var l=a(R.expirationTime<=n);n=t.unstable_now(),\"function\"===typeof l?R.callback=l:R===C(N)&&S(N),U(n)}else S(N);R=C(N)}if(null!==R)var c=!0;else{var s=C(P);null!==s&&i(F,s.startTime-n),c=!1}return c}finally{R=null,D=r,O=!1}}function j(e){switch(e){case 1:return-1;case 2:return 250;case 5:return 1073741823;case 4:return 1e4;default:return 5e3}}var H=a;t.unstable_IdlePriority=5,t.unstable_ImmediatePriority=1,t.unstable_LowPriority=4,t.unstable_NormalPriority=3,t.unstable_Profiling=null,t.unstable_UserBlockingPriority=2,t.unstable_cancelCallback=function(e){e.callback=null},t.unstable_continueExecution=function(){z||O||(z=!0,r(I))},t.unstable_getCurrentPriorityLevel=function(){return D},t.unstable_getFirstCallbackNode=function(){return C(N)},t.unstable_next=function(e){switch(D){case 1:case 2:case 3:var t=3;break;default:t=D}var n=D;D=t;try{return e()}finally{D=n}},t.unstable_pauseExecution=function(){},t.unstable_requestPaint=H,t.unstable_runWithPriority=function(e,t){switch(e){case 1:case 2:case 3:case 4:case 5:break;default:e=3}var n=D;D=e;try{return t()}finally{D=n}},t.unstable_scheduleCallback=function(e,n,u){var a=t.unstable_now();if(\"object\"===typeof u&&null!==u){var l=u.delay;l=\"number\"===typeof l&&0<l?a+l:a,u=\"number\"===typeof u.timeout?u.timeout:j(e)}else u=j(e),l=a;return e={id:A++,callback:n,priorityLevel:e,startTime:l,expirationTime:u=l+u,sortIndex:-1},l>a?(e.sortIndex=l,E(P,e),null===C(N)&&e===C(P)&&(L?o():L=!0,i(F,l-a))):(e.sortIndex=u,E(N,e),z||O||(z=!0,r(I))),e},t.unstable_shouldYield=function(){var e=t.unstable_now();U(e);var n=C(N);return n!==R&&null!==R&&null!==n&&null!==n.callback&&n.startTime<=e&&n.expirationTime<R.expirationTime||u()},t.unstable_wrapCallback=function(e){var t=D;return function(){var n=D;D=t;try{return e.apply(this,arguments)}finally{D=n}}}}]]);\n",
              "\n",
              "(this[\"webpackJsonpvisualisation-d3\"]=this[\"webpackJsonpvisualisation-d3\"]||[]).push([[0],{18:function(e,t,a){},28:function(e,t,a){e.exports=a(33)},33:function(e,t,a){\"use strict\";a.r(t);var r=a(0),n=a.n(r),i=a(8),c=a(2),l=(a(18),a(9)),o=a(10),s=a(11),y=a(13),m=a(12),p=function(e){Object(y.a)(a,e);var t=Object(m.a)(a);function a(){return Object(l.a)(this,a),t.apply(this,arguments)}return Object(o.a)(a,[{key:\"render\",value:function(){var e=\"0 0 \".concat(500,\" \").concat(900),t={paddingBottom:\"180%\"},a={stroke:\"rgba(70, 130, 180,.3)\",strokeWidth:1},r={stroke:\"rgba(70, 130, 180,.7)\",strokeWidth:1},i={stroke:\"rgba(70, 130, 180,.7)\",strokeWidth:2},l=this.props.data_terms,o=(this.props.itemsDisplay,this.props.data_weight),s=this.props.cat,y=l.length,m=75+27*y,p=230/c.b(l,(function(e){return+Math.round(e.Total)})),u=c.e().domain([c.c(o,(function(e){return+e.proportion})),c.b(o,(function(e){return+e.proportion}))]).range([5,17]);return n.a.createElement(n.a.Fragment,null,n.a.createElement(\"div\",{className:\"svg-container\",style:t},n.a.createElement(\"svg\",{preserveAspectRatio:\"xMidYMidmeet\",viewBox:e,className:\"svg-content-responsive\"},n.a.createElement(\"line\",{x1:5,x2:495,y1:5,y2:5,style:i}),n.a.createElement(\"text\",{className:\"svg_h1\",x:12,y:50},\"Topic weight\"),n.a.createElement(\"text\",{className:\"svg_h1\",x:110,y:50},\"Default\"==s?\"Term frequency - All Topics\":\"Term frequency - \"+s,\" \"),n.a.createElement(\"line\",{x1:5,x2:495,y1:55,y2:55,style:r}),n.a.createElement(\"line\",{x1:5,x2:495,y1:m,y2:m,style:i}),n.a.createElement(\"rect\",{x:345,y:24,width:\"12\",height:\"10\",fill:\"rgba(243, 157, 65,1)\"}),n.a.createElement(\"text\",{x:365,y:34,className:\"svg_text_2\"},\"Frequency within topic\"),n.a.createElement(\"rect\",{x:345,y:40,width:\"12\",height:\"10\",fill:\"rgba(70, 130, 180,.7)\"}),n.a.createElement(\"text\",{x:365,y:50,className:\"svg_text_2\"},\"Overall term frequency\"),n.a.createElement(\"line\",{x1:230,x2:230,y1:55,y2:m,style:a}),n.a.createElement(\"line\",{x1:5,x2:5,y1:5,y2:m,style:i}),n.a.createElement(\"line\",{x1:100,x2:100,y1:5,y2:m,style:i}),n.a.createElement(\"line\",{x1:495,x2:495,y1:5,y2:m,style:i}),o.map((function(e,t){return n.a.createElement(n.a.Fragment,{key:\"frag_\"+t},n.a.createElement(\"line\",{key:t+\"_1_\",x1:5,x2:100,y1:135+80*t,y2:135+80*t,style:r}),n.a.createElement(\"text\",{key:t+\"2_\",x:50,y:87+80*t,className:\"svg_h2\"},\"Topic \"+(+e.topic_id+1)),n.a.createElement(\"circle\",{key:t+\"_c\",cx:25,cy:95+80*t,r:u(e.proportion),fill:\"Topic\"+(+e.topic_id+1)==s?\"rgba(243, 157, 65,.8)\":\"rgba(70, 130, 180,.8)\"}),n.a.createElement(\"text\",{key:t+\"_prc\",x:55,y:102+80*t,className:\"svg_h1\"},Math.round(100*e.proportion,2)+\"%\"))})),l.map((function(e,t){return n.a.createElement(n.a.Fragment,{key:\"frag_2_\"+t},n.a.createElement(\"text\",{key:t+\"_term_\",x:110,y:90+27*t,className:\"svg_text\"},e.Term),n.a.createElement(\"line\",{key:t+\"_l\",x1:105,x2:495,y1:91+27*t,y2:91+27*t,style:a}),n.a.createElement(\"rect\",{key:t+\"_r1\",x:230,y:\"Default\"==e.Category?80+27*t:82+27*t,width:+e.Total*p,height:\"Default\"==e.Category?\"12\":\"8\",fill:\"rgba(70, 130, 180,.8)\"}),n.a.createElement(\"text\",{key:t+\"_tot_\",x:232+ +e.Total*p,y:89+27*t,className:\"svg_text_3\"},\"Default\"==e.Category?Number(e.Total).toFixed(0):Number(e.Total).toFixed(1)),n.a.createElement(\"rect\",{key:t+\"_r2\",x:230,y:72+27*t,width:+e.Freq*p,height:\"8\",fill:\"Default\"==e.Category?\"rgba(70, 130, 180,0)\":\"rgba(243, 157, 65,.8)\"}),n.a.createElement(\"text\",{key:t+\"_tot2_\",x:232+ +e.Freq*p,y:79+27*t,className:\"svg_text_3\",fill:\"Default\"==e.Category?\"rgba(70, 130, 180,0)\":\"rgb(0, 0, 0)\"},Number(e.Freq).toFixed(1)))})))))}}]),a}(n.a.Component),u=function(e){Object(y.a)(a,e);var t=Object(m.a)(a);function a(e){var r;return Object(l.a)(this,a),(r=t.call(this,e)).state={Category:\"Default\",Color:\"rgba(70, 130, 180,.8)\"},r.handleChange=r.handleChange.bind(Object(s.a)(r)),r}return Object(o.a)(a,[{key:\"handleChange\",value:function(e){this.setState({Category:e.target.value})}},{key:\"render\",value:function(){var e=this.props.topic_info,t=this.props.topic_proportion,a=c.d().key((function(e){return e.Category})).entries(e),r=this.state.Category,i=e.filter((function(e){return e.Category===r})).slice(0,30),l=t;return n.a.createElement(n.a.Fragment,null,n.a.createElement(\"div\",{className:\"select_box\"},n.a.createElement(\"select\",{value:this.state.Category,onChange:this.handleChange},a.map((function(e){return n.a.createElement(\"option\",{key:e.key},e.key)})))),n.a.createElement(\"div\",{className:\"main_container_svg\"},n.a.createElement(p,{data_terms:i,data_weight:l,itemsDisplay:30,cat:this.state.Category})))}}]),a}(n.a.Component);Promise.all([c.a(\"/nbextensions/topic_info.csv\"),c.a(\"/nbextensions/topic_proportion.csv\")]).then((function(e){var t=e[0],a=e[1],r=document.getElementById(\"vis_tm_1\");r.hasChildNodes()?Object(i.hydrate)(n.a.createElement(u,{topic_info:t,topic_proportion:a}),r):Object(i.render)(n.a.createElement(u,{topic_info:t,topic_proportion:a}),r)})).catch((function(e){}))}},[[28,1,2]]]);"
            ],
            "text/plain": [
              "<IPython.core.display.Javascript object>"
            ]
          },
          "metadata": {
            "tags": []
          },
          "execution_count": 58
        }
      ]
    }
  ]
}